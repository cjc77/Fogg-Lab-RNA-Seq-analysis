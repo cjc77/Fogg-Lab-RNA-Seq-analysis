{
 "cells": [
  {
   "cell_type": "code",
   "execution_count": 1,
   "metadata": {
    "collapsed": true,
    "jupyter": {
     "outputs_hidden": true
    }
   },
   "outputs": [
    {
     "name": "stderr",
     "output_type": "stream",
     "text": [
      "── Attaching packages ─────────────────────────────────────── tidyverse 1.3.0 ──\n",
      "✔ ggplot2 3.3.2     ✔ purrr   0.3.4\n",
      "✔ tibble  3.0.3     ✔ dplyr   1.0.0\n",
      "✔ tidyr   1.1.0     ✔ stringr 1.4.0\n",
      "✔ readr   1.3.1     ✔ forcats 0.5.0\n",
      "── Conflicts ────────────────────────────────────────── tidyverse_conflicts() ──\n",
      "✖ dplyr::filter() masks stats::filter()\n",
      "✖ dplyr::lag()    masks stats::lag()\n",
      "\n",
      "Registered S3 method overwritten by 'enrichplot':\n",
      "  method               from\n",
      "  fortify.enrichResult DOSE\n",
      "clusterProfiler v3.14.0  For help: https://guangchuangyu.github.io/software/clusterProfiler\n",
      "\n",
      "If you use clusterProfiler in published research, please cite:\n",
      "Guangchuang Yu, Li-Gen Wang, Yanyan Han, Qing-Yu He. clusterProfiler: an R package for comparing biological themes among gene clusters. OMICS: A Journal of Integrative Biology. 2012, 16(5):284-287.\n",
      "\n",
      "Attaching package: ‘clusterProfiler’\n",
      "\n",
      "The following object is masked from ‘package:purrr’:\n",
      "\n",
      "    simplify\n",
      "\n"
     ]
    }
   ],
   "source": [
    "library(tidyverse)\n",
    "library(clusterProfiler)\n",
    "library(BiocParallel)\n",
    "library(parallel)\n",
    "\n",
    "# Custom package\n",
    "library(rutils)"
   ]
  },
  {
   "cell_type": "code",
   "execution_count": 2,
   "metadata": {},
   "outputs": [],
   "source": [
    "n_cores <- detectCores() - 2\n",
    "BiocParallel::register(MulticoreParam(n_cores))"
   ]
  },
  {
   "cell_type": "code",
   "execution_count": 3,
   "metadata": {},
   "outputs": [],
   "source": [
    "dirs <- rutils::get_dev_directories(dev_paths_file = \"../dev_paths.txt\")\n",
    "unified_dsets <- c(\"unified_cervical_data\", \"unified_uterine_data\", \"unified_uterine_endometrial_data\")"
   ]
  },
  {
   "cell_type": "code",
   "execution_count": 4,
   "metadata": {},
   "outputs": [],
   "source": [
    "dset_idx <- 1"
   ]
  },
  {
   "cell_type": "code",
   "execution_count": 5,
   "metadata": {
    "collapsed": true,
    "jupyter": {
     "outputs_hidden": true
    }
   },
   "outputs": [
    {
     "name": "stderr",
     "output_type": "stream",
     "text": [
      "Parsed with column specification:\n",
      "cols(\n",
      "  .default = col_double(),\n",
      "  geneID = col_character(),\n",
      "  module = col_character()\n",
      ")\n",
      "See spec(...) for full column specifications.\n",
      "Parsed with column specification:\n",
      "cols(\n",
      "  module = col_character(),\n",
      "  figo_stage_1_cor = col_double(),\n",
      "  figo_stage_2_cor = col_double(),\n",
      "  figo_stage_3_cor = col_double(),\n",
      "  figo_stage_4_cor = col_double(),\n",
      "  figo_stage_1_pval = col_double(),\n",
      "  figo_stage_2_pval = col_double(),\n",
      "  figo_stage_3_pval = col_double(),\n",
      "  figo_stage_4_pval = col_double(),\n",
      "  figo_stage_1_qval = col_double(),\n",
      "  figo_stage_2_qval = col_double(),\n",
      "  figo_stage_3_qval = col_double(),\n",
      "  figo_stage_4_qval = col_double(),\n",
      "  vital_hr = col_double(),\n",
      "  vital_dev_cor = col_double(),\n",
      "  vital_pval = col_double(),\n",
      "  vital_qval = col_double()\n",
      ")\n",
      "Parsed with column specification:\n",
      "cols(\n",
      "  hugo_symbol = col_character(),\n",
      "  entrez_gene_id = col_double()\n",
      ")\n"
     ]
    }
   ],
   "source": [
    "network_mm_gs_df <- read_tsv(paste0(dirs$analysis_dir, \"/network/\", unified_dsets[dset_idx], \"_gene_mm_gs.tsv\"))\n",
    "network_me_sig_df <- read_tsv(paste0(dirs$analysis_dir, \"/network/\", unified_dsets[dset_idx], \"_eigengene_traits.tsv\"))\n",
    "gene2id <- read_tsv(paste0(dirs$data_dir, \"/\", unified_dsets[dset_idx], \"/hugo2entrez.tsv\"))"
   ]
  },
  {
   "cell_type": "code",
   "execution_count": 6,
   "metadata": {},
   "outputs": [],
   "source": [
    "get_trait_sig_df <- function(me_df, gene_df, target_trait, survival_stat = \"dev_cor\") {\n",
    "    if (target_trait == \"vital\") {\n",
    "        trait_pval <- \"vital_pval\"\n",
    "        trait_qval <- \"vital_qval\"\n",
    "        trait_stat <- paste0(target_trait, \"_\", survival_stat)\n",
    "    } else {\n",
    "        trait_pval <- paste0(target_trait, \"_pval\")\n",
    "        trait_qval <- paste0(target_trait, \"_qval\")\n",
    "        trait_stat <- paste0(target_trait, \"_cor\")\n",
    "    }\n",
    "    \n",
    "    trait_sig_df <- me_df %>%\n",
    "        dplyr::filter(!!as.name(trait_qval) < 0.05) %>%\n",
    "        dplyr::select(one_of(c(\"module\", trait_stat, trait_pval, trait_qval))) %>%\n",
    "        dplyr::rename_if(startsWith(colnames(.), target_trait), ~ gsub(\"^\", \"module_\", .)) %>%\n",
    "        inner_join(gene_df, by = \"module\") %>%\n",
    "        dplyr::select(one_of(c(\"geneID\", \"module\", \"mm_cor\", \"mm_pval\", \"mm_qval\", paste0(\"module_\", trait_stat), paste0(\"module_\", trait_pval), paste0(\"module_\", trait_qval))))\n",
    "    return(trait_sig_df)\n",
    "}\n",
    "\n",
    "\n",
    "ea_plot <- function(df) {\n",
    "    ggplot(df) +\n",
    "        geom_bar(aes(x = reorder(type, (-log10(qval))), y = -log10(qval)), stat = \"identity\") +\n",
    "        theme_classic() +\n",
    "        theme(\n",
    "            axis.title.y = element_blank()\n",
    "        ) +\n",
    "        labs(y = expression(\"-log\"[10]*\"(q-value)\"), fill = \"Ontology\") +\n",
    "        coord_flip()\n",
    "}"
   ]
  },
  {
   "cell_type": "code",
   "execution_count": 7,
   "metadata": {},
   "outputs": [],
   "source": [
    "target_trait <- \"figo_stage_1\"\n",
    "# target_trait <- \"vital\"\n",
    "trait_sig_df <- get_trait_sig_df(network_me_sig_df, network_mm_gs_df, target_trait, survival_stat = \"dev_cor\")\n",
    "trait_sig_entrez_df <- trait_sig_df %>%\n",
    "    inner_join(gene2id, by = c(\"geneID\" = \"hugo_symbol\")) %>%\n",
    "    dplyr::select(geneID, entrez_gene_id, everything()) %>%\n",
    "    dplyr::filter(mm_pval < 0.05)"
   ]
  },
  {
   "cell_type": "code",
   "execution_count": 8,
   "metadata": {
    "collapsed": true,
    "jupyter": {
     "outputs_hidden": true
    }
   },
   "outputs": [
    {
     "name": "stderr",
     "output_type": "stream",
     "text": [
      "Loading required package: org.Hs.eg.db\n",
      "Loading required package: AnnotationDbi\n",
      "Loading required package: stats4\n",
      "Loading required package: BiocGenerics\n",
      "\n",
      "Attaching package: ‘BiocGenerics’\n",
      "\n",
      "The following objects are masked from ‘package:parallel’:\n",
      "\n",
      "    clusterApply, clusterApplyLB, clusterCall, clusterEvalQ,\n",
      "    clusterExport, clusterMap, parApply, parCapply, parLapply,\n",
      "    parLapplyLB, parRapply, parSapply, parSapplyLB\n",
      "\n",
      "The following objects are masked from ‘package:dplyr’:\n",
      "\n",
      "    combine, intersect, setdiff, union\n",
      "\n",
      "The following objects are masked from ‘package:stats’:\n",
      "\n",
      "    IQR, mad, sd, var, xtabs\n",
      "\n",
      "The following objects are masked from ‘package:base’:\n",
      "\n",
      "    anyDuplicated, append, as.data.frame, basename, cbind, colnames,\n",
      "    dirname, do.call, duplicated, eval, evalq, Filter, Find, get, grep,\n",
      "    grepl, intersect, is.unsorted, lapply, Map, mapply, match, mget,\n",
      "    order, paste, pmax, pmax.int, pmin, pmin.int, Position, rank,\n",
      "    rbind, Reduce, rownames, sapply, setdiff, sort, table, tapply,\n",
      "    union, unique, unsplit, which, which.max, which.min\n",
      "\n",
      "Loading required package: Biobase\n",
      "Welcome to Bioconductor\n",
      "\n",
      "    Vignettes contain introductory material; view with\n",
      "    'browseVignettes()'. To cite Bioconductor, see\n",
      "    'citation(\"Biobase\")', and for packages 'citation(\"pkgname\")'.\n",
      "\n",
      "Loading required package: IRanges\n",
      "Loading required package: S4Vectors\n",
      "\n",
      "Attaching package: ‘S4Vectors’\n",
      "\n",
      "The following objects are masked from ‘package:dplyr’:\n",
      "\n",
      "    first, rename\n",
      "\n",
      "The following object is masked from ‘package:tidyr’:\n",
      "\n",
      "    expand\n",
      "\n",
      "The following object is masked from ‘package:base’:\n",
      "\n",
      "    expand.grid\n",
      "\n",
      "\n",
      "Attaching package: ‘IRanges’\n",
      "\n",
      "The following objects are masked from ‘package:dplyr’:\n",
      "\n",
      "    collapse, desc, slice\n",
      "\n",
      "The following object is masked from ‘package:purrr’:\n",
      "\n",
      "    reduce\n",
      "\n",
      "\n",
      "Attaching package: ‘AnnotationDbi’\n",
      "\n",
      "The following object is masked from ‘package:dplyr’:\n",
      "\n",
      "    select\n",
      "\n",
      "\n"
     ]
    }
   ],
   "source": [
    "# trait_sig_entrez_df\n",
    "go_res <- enrichGO(trait_sig_entrez_df$entrez_gene_id, \"org.Hs.eg.db\", ont = \"ALL\", readable = TRUE)\n",
    "# head(go_res)"
   ]
  },
  {
   "cell_type": "code",
   "execution_count": 20,
   "metadata": {
    "collapsed": true,
    "jupyter": {
     "outputs_hidden": true
    }
   },
   "outputs": [
    {
     "name": "stderr",
     "output_type": "stream",
     "text": [
      "Saving 6.67 x 6.67 in image\n"
     ]
    },
    {
     "data": {
      "image/png": "[encoded data removed]",
      "text/plain": [
       "plot without title"
      ]
     },
     "metadata": {},
     "output_type": "display_data"
    }
   ],
   "source": [
    "go_df <- tibble(\n",
    "    type = go_res$Description,\n",
    "    geneIDs = go_res$geneID,\n",
    "    count = go_res$Count,\n",
    "    ratio = sapply(go_res$GeneRatio, FUN = function(x) { eval(parse(text = x)) }),\n",
    "    qval = go_res$qvalue,\n",
    "    ont = as.character(go_res$ONTOLOGY)\n",
    ")\n",
    "ea_plot(go_df %>% dplyr::filter(qval < 0.001))\n",
    "ggsave(\n",
    "    filename = paste0(dirs$figures_dir, \"/enrichment/\", unified_dsets[dset_idx],\"_\", target_trait, \"_network_gene_set.png\"),\n",
    "    last_plot()\n",
    ")"
   ]
  },
  {
   "cell_type": "code",
   "execution_count": 10,
   "metadata": {},
   "outputs": [],
   "source": [
    "kegg_res <- enrichKEGG(gene = trait_sig_entrez_df$entrez_gene_id, organism = \"hsa\")"
   ]
  },
  {
   "cell_type": "code",
   "execution_count": 21,
   "metadata": {},
   "outputs": [
    {
     "name": "stderr",
     "output_type": "stream",
     "text": [
      "Saving 6.67 x 6.67 in image\n"
     ]
    },
    {
     "data": {
      "image/png": "[encoded data removed]",
      "text/plain": [
       "plot without title"
      ]
     },
     "metadata": {},
     "output_type": "display_data"
    }
   ],
   "source": [
    "kegg_df <- tibble(\n",
    "    type = kegg_res$Description,\n",
    "    geneIDs = kegg_res$geneID,\n",
    "    count = kegg_res$Count,\n",
    "    ratio = sapply(kegg_res$GeneRatio, FUN = function(x) { eval(parse(text = x)) }),\n",
    "    qval = kegg_res$qvalue\n",
    ")\n",
    "ea_plot(kegg_df %>% dplyr::filter(qval < 0.05))\n",
    "ggsave(\n",
    "    filename = paste0(dirs$figures_dir, \"/enrichment/\", unified_dsets[dset_idx],\"_\", target_trait, \"_network_kegg_pathway.png\"),\n",
    "    last_plot()\n",
    ")"
   ]
  },
  {
   "cell_type": "code",
   "execution_count": 12,
   "metadata": {},
   "outputs": [
    {
     "data": {
      "text/html": [
       "<table>\n",
       "<caption>A tibble: 6 × 6</caption>\n",
       "<thead>\n",
       "\t<tr><th scope=col>type</th><th scope=col>geneIDs</th><th scope=col>count</th><th scope=col>ratio</th><th scope=col>qval</th><th scope=col>ont</th></tr>\n",
       "\t<tr><th scope=col>&lt;chr&gt;</th><th scope=col>&lt;chr&gt;</th><th scope=col>&lt;int&gt;</th><th scope=col>&lt;dbl&gt;</th><th scope=col>&lt;dbl&gt;</th><th scope=col>&lt;chr&gt;</th></tr>\n",
       "</thead>\n",
       "<tbody>\n",
       "\t<tr><td>O-glycan processing                          </td><td>MUC3A/MUC13/MUC5AC/MUC6/MUC5B/MUC2/MUC15/MUC16                                                       </td><td> 8</td><td>0.1509434</td><td>4.728449e-09</td><td>BP</td></tr>\n",
       "\t<tr><td>negative regulation of endopeptidase activity</td><td>SERPINF2/SERPINA4/SERPINA5/COL28A1/SLPI/SERPINB1/ITIH4/TIMP1/SERPINA1/SERPINB6/COL4A3                </td><td>11</td><td>0.2075472</td><td>3.430600e-08</td><td>BP</td></tr>\n",
       "\t<tr><td>negative regulation of peptidase activity    </td><td>SERPINF2/SERPINA4/SERPINA5/COL28A1/SLPI/SERPINB1/ITIH4/TIMP1/SERPINA1/SERPINB6/COL4A3                </td><td>11</td><td>0.2075472</td><td>3.774827e-08</td><td>BP</td></tr>\n",
       "\t<tr><td>regulation of peptidase activity             </td><td>SERPINF2/SERPINA4/SERPINA5/COL28A1/TNFSF15/SLPI/SERPINB1/ITIH4/TIMP1/SERPINA1/SERPINB6/COL4A3/PCOLCE2</td><td>13</td><td>0.2452830</td><td>4.709505e-08</td><td>BP</td></tr>\n",
       "\t<tr><td>negative regulation of proteolysis           </td><td>SERPINF2/SERPINA4/SERPINA5/COL28A1/SLPI/CTSZ/SERPINB1/ITIH4/TIMP1/SERPINA1/SERPINB6/COL4A3           </td><td>12</td><td>0.2264151</td><td>4.709505e-08</td><td>BP</td></tr>\n",
       "\t<tr><td>protein O-linked glycosylation               </td><td>MUC3A/MUC13/MUC5AC/MUC6/MUC5B/MUC2/MUC15/MUC16                                                       </td><td> 8</td><td>0.1509434</td><td>9.170351e-08</td><td>BP</td></tr>\n",
       "</tbody>\n",
       "</table>\n"
      ],
      "text/latex": [
       "A tibble: 6 × 6\n",
       "\\begin{tabular}{llllll}\n",
       " type & geneIDs & count & ratio & qval & ont\\\\\n",
       " <chr> & <chr> & <int> & <dbl> & <dbl> & <chr>\\\\\n",
       "\\hline\n",
       "\t O-glycan processing                           & MUC3A/MUC13/MUC5AC/MUC6/MUC5B/MUC2/MUC15/MUC16                                                        &  8 & 0.1509434 & 4.728449e-09 & BP\\\\\n",
       "\t negative regulation of endopeptidase activity & SERPINF2/SERPINA4/SERPINA5/COL28A1/SLPI/SERPINB1/ITIH4/TIMP1/SERPINA1/SERPINB6/COL4A3                 & 11 & 0.2075472 & 3.430600e-08 & BP\\\\\n",
       "\t negative regulation of peptidase activity     & SERPINF2/SERPINA4/SERPINA5/COL28A1/SLPI/SERPINB1/ITIH4/TIMP1/SERPINA1/SERPINB6/COL4A3                 & 11 & 0.2075472 & 3.774827e-08 & BP\\\\\n",
       "\t regulation of peptidase activity              & SERPINF2/SERPINA4/SERPINA5/COL28A1/TNFSF15/SLPI/SERPINB1/ITIH4/TIMP1/SERPINA1/SERPINB6/COL4A3/PCOLCE2 & 13 & 0.2452830 & 4.709505e-08 & BP\\\\\n",
       "\t negative regulation of proteolysis            & SERPINF2/SERPINA4/SERPINA5/COL28A1/SLPI/CTSZ/SERPINB1/ITIH4/TIMP1/SERPINA1/SERPINB6/COL4A3            & 12 & 0.2264151 & 4.709505e-08 & BP\\\\\n",
       "\t protein O-linked glycosylation                & MUC3A/MUC13/MUC5AC/MUC6/MUC5B/MUC2/MUC15/MUC16                                                        &  8 & 0.1509434 & 9.170351e-08 & BP\\\\\n",
       "\\end{tabular}\n"
      ],
      "text/markdown": [
       "\n",
       "A tibble: 6 × 6\n",
       "\n",
       "| type &lt;chr&gt; | geneIDs &lt;chr&gt; | count &lt;int&gt; | ratio &lt;dbl&gt; | qval &lt;dbl&gt; | ont &lt;chr&gt; |\n",
       "|---|---|---|---|---|---|\n",
       "| O-glycan processing                           | MUC3A/MUC13/MUC5AC/MUC6/MUC5B/MUC2/MUC15/MUC16                                                        |  8 | 0.1509434 | 4.728449e-09 | BP |\n",
       "| negative regulation of endopeptidase activity | SERPINF2/SERPINA4/SERPINA5/COL28A1/SLPI/SERPINB1/ITIH4/TIMP1/SERPINA1/SERPINB6/COL4A3                 | 11 | 0.2075472 | 3.430600e-08 | BP |\n",
       "| negative regulation of peptidase activity     | SERPINF2/SERPINA4/SERPINA5/COL28A1/SLPI/SERPINB1/ITIH4/TIMP1/SERPINA1/SERPINB6/COL4A3                 | 11 | 0.2075472 | 3.774827e-08 | BP |\n",
       "| regulation of peptidase activity              | SERPINF2/SERPINA4/SERPINA5/COL28A1/TNFSF15/SLPI/SERPINB1/ITIH4/TIMP1/SERPINA1/SERPINB6/COL4A3/PCOLCE2 | 13 | 0.2452830 | 4.709505e-08 | BP |\n",
       "| negative regulation of proteolysis            | SERPINF2/SERPINA4/SERPINA5/COL28A1/SLPI/CTSZ/SERPINB1/ITIH4/TIMP1/SERPINA1/SERPINB6/COL4A3            | 12 | 0.2264151 | 4.709505e-08 | BP |\n",
       "| protein O-linked glycosylation                | MUC3A/MUC13/MUC5AC/MUC6/MUC5B/MUC2/MUC15/MUC16                                                        |  8 | 0.1509434 | 9.170351e-08 | BP |\n",
       "\n"
      ],
      "text/plain": [
       "  type                                         \n",
       "1 O-glycan processing                          \n",
       "2 negative regulation of endopeptidase activity\n",
       "3 negative regulation of peptidase activity    \n",
       "4 regulation of peptidase activity             \n",
       "5 negative regulation of proteolysis           \n",
       "6 protein O-linked glycosylation               \n",
       "  geneIDs                                                                                              \n",
       "1 MUC3A/MUC13/MUC5AC/MUC6/MUC5B/MUC2/MUC15/MUC16                                                       \n",
       "2 SERPINF2/SERPINA4/SERPINA5/COL28A1/SLPI/SERPINB1/ITIH4/TIMP1/SERPINA1/SERPINB6/COL4A3                \n",
       "3 SERPINF2/SERPINA4/SERPINA5/COL28A1/SLPI/SERPINB1/ITIH4/TIMP1/SERPINA1/SERPINB6/COL4A3                \n",
       "4 SERPINF2/SERPINA4/SERPINA5/COL28A1/TNFSF15/SLPI/SERPINB1/ITIH4/TIMP1/SERPINA1/SERPINB6/COL4A3/PCOLCE2\n",
       "5 SERPINF2/SERPINA4/SERPINA5/COL28A1/SLPI/CTSZ/SERPINB1/ITIH4/TIMP1/SERPINA1/SERPINB6/COL4A3           \n",
       "6 MUC3A/MUC13/MUC5AC/MUC6/MUC5B/MUC2/MUC15/MUC16                                                       \n",
       "  count ratio     qval         ont\n",
       "1  8    0.1509434 4.728449e-09 BP \n",
       "2 11    0.2075472 3.430600e-08 BP \n",
       "3 11    0.2075472 3.774827e-08 BP \n",
       "4 13    0.2452830 4.709505e-08 BP \n",
       "5 12    0.2264151 4.709505e-08 BP \n",
       "6  8    0.1509434 9.170351e-08 BP "
      ]
     },
     "metadata": {},
     "output_type": "display_data"
    },
    {
     "data": {
      "text/html": [
       "<table>\n",
       "<caption>A tibble: 6 × 5</caption>\n",
       "<thead>\n",
       "\t<tr><th scope=col>type</th><th scope=col>geneIDs</th><th scope=col>count</th><th scope=col>ratio</th><th scope=col>qval</th></tr>\n",
       "\t<tr><th scope=col>&lt;chr&gt;</th><th scope=col>&lt;chr&gt;</th><th scope=col>&lt;int&gt;</th><th scope=col>&lt;dbl&gt;</th><th scope=col>&lt;dbl&gt;</th></tr>\n",
       "</thead>\n",
       "<tbody>\n",
       "\t<tr><td>Cytokine-cytokine receptor interaction                       </td><td>5196/9966/2920/56477/2921/8741/23529/3976/6374</td><td>9</td><td>0.28125</td><td>3.952799e-05</td></tr>\n",
       "\t<tr><td>Amoebiasis                                                   </td><td>4583/2920/2921/5269/1285/1286                 </td><td>6</td><td>0.18750</td><td>3.952799e-05</td></tr>\n",
       "\t<tr><td>IL-17 signaling pathway                                      </td><td>4586/727897/2920/2921/6374                    </td><td>5</td><td>0.15625</td><td>3.269392e-04</td></tr>\n",
       "\t<tr><td>Viral protein interaction with cytokine and cytokine receptor</td><td>5196/2920/56477/2921/6374                     </td><td>5</td><td>0.15625</td><td>3.307232e-04</td></tr>\n",
       "\t<tr><td>Rheumatoid arthritis                                         </td><td>2920/2921/8741/6374                           </td><td>4</td><td>0.12500</td><td>3.014649e-03</td></tr>\n",
       "\t<tr><td>Chemokine signaling pathway                                  </td><td>5196/2920/56477/2921/6374                     </td><td>5</td><td>0.15625</td><td>4.345495e-03</td></tr>\n",
       "</tbody>\n",
       "</table>\n"
      ],
      "text/latex": [
       "A tibble: 6 × 5\n",
       "\\begin{tabular}{lllll}\n",
       " type & geneIDs & count & ratio & qval\\\\\n",
       " <chr> & <chr> & <int> & <dbl> & <dbl>\\\\\n",
       "\\hline\n",
       "\t Cytokine-cytokine receptor interaction                        & 5196/9966/2920/56477/2921/8741/23529/3976/6374 & 9 & 0.28125 & 3.952799e-05\\\\\n",
       "\t Amoebiasis                                                    & 4583/2920/2921/5269/1285/1286                  & 6 & 0.18750 & 3.952799e-05\\\\\n",
       "\t IL-17 signaling pathway                                       & 4586/727897/2920/2921/6374                     & 5 & 0.15625 & 3.269392e-04\\\\\n",
       "\t Viral protein interaction with cytokine and cytokine receptor & 5196/2920/56477/2921/6374                      & 5 & 0.15625 & 3.307232e-04\\\\\n",
       "\t Rheumatoid arthritis                                          & 2920/2921/8741/6374                            & 4 & 0.12500 & 3.014649e-03\\\\\n",
       "\t Chemokine signaling pathway                                   & 5196/2920/56477/2921/6374                      & 5 & 0.15625 & 4.345495e-03\\\\\n",
       "\\end{tabular}\n"
      ],
      "text/markdown": [
       "\n",
       "A tibble: 6 × 5\n",
       "\n",
       "| type &lt;chr&gt; | geneIDs &lt;chr&gt; | count &lt;int&gt; | ratio &lt;dbl&gt; | qval &lt;dbl&gt; |\n",
       "|---|---|---|---|---|\n",
       "| Cytokine-cytokine receptor interaction                        | 5196/9966/2920/56477/2921/8741/23529/3976/6374 | 9 | 0.28125 | 3.952799e-05 |\n",
       "| Amoebiasis                                                    | 4583/2920/2921/5269/1285/1286                  | 6 | 0.18750 | 3.952799e-05 |\n",
       "| IL-17 signaling pathway                                       | 4586/727897/2920/2921/6374                     | 5 | 0.15625 | 3.269392e-04 |\n",
       "| Viral protein interaction with cytokine and cytokine receptor | 5196/2920/56477/2921/6374                      | 5 | 0.15625 | 3.307232e-04 |\n",
       "| Rheumatoid arthritis                                          | 2920/2921/8741/6374                            | 4 | 0.12500 | 3.014649e-03 |\n",
       "| Chemokine signaling pathway                                   | 5196/2920/56477/2921/6374                      | 5 | 0.15625 | 4.345495e-03 |\n",
       "\n"
      ],
      "text/plain": [
       "  type                                                         \n",
       "1 Cytokine-cytokine receptor interaction                       \n",
       "2 Amoebiasis                                                   \n",
       "3 IL-17 signaling pathway                                      \n",
       "4 Viral protein interaction with cytokine and cytokine receptor\n",
       "5 Rheumatoid arthritis                                         \n",
       "6 Chemokine signaling pathway                                  \n",
       "  geneIDs                                        count ratio   qval        \n",
       "1 5196/9966/2920/56477/2921/8741/23529/3976/6374 9     0.28125 3.952799e-05\n",
       "2 4583/2920/2921/5269/1285/1286                  6     0.18750 3.952799e-05\n",
       "3 4586/727897/2920/2921/6374                     5     0.15625 3.269392e-04\n",
       "4 5196/2920/56477/2921/6374                      5     0.15625 3.307232e-04\n",
       "5 2920/2921/8741/6374                            4     0.12500 3.014649e-03\n",
       "6 5196/2920/56477/2921/6374                      5     0.15625 4.345495e-03"
      ]
     },
     "metadata": {},
     "output_type": "display_data"
    }
   ],
   "source": [
    "head(go_df)\n",
    "head(kegg_df)"
   ]
  }
 ],
 "metadata": {
  "kernelspec": {
   "display_name": "R",
   "language": "R",
   "name": "ir"
  },
  "language_info": {
   "codemirror_mode": "r",
   "file_extension": ".r",
   "mimetype": "text/x-r-source",
   "name": "R",
   "pygments_lexer": "r",
   "version": "3.6.3"
  }
 },
 "nbformat": 4,
 "nbformat_minor": 4
}
