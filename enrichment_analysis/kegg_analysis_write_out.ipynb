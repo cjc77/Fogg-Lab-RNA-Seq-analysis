{
 "cells": [
  {
   "cell_type": "code",
   "execution_count": 1,
   "id": "static-twist",
   "metadata": {},
   "outputs": [
    {
     "name": "stderr",
     "output_type": "stream",
     "text": [
      "-- \u001b[1mAttaching packages\u001b[22m ------------------------------------------------------------------------------------------- tidyverse 1.3.0 --\n",
      "\n",
      "\u001b[32mv\u001b[39m \u001b[34mggplot2\u001b[39m 3.3.3     \u001b[32mv\u001b[39m \u001b[34mpurrr  \u001b[39m 0.3.4\n",
      "\u001b[32mv\u001b[39m \u001b[34mtibble \u001b[39m 3.0.6     \u001b[32mv\u001b[39m \u001b[34mdplyr  \u001b[39m 1.0.4\n",
      "\u001b[32mv\u001b[39m \u001b[34mtidyr  \u001b[39m 1.1.2     \u001b[32mv\u001b[39m \u001b[34mstringr\u001b[39m 1.4.0\n",
      "\u001b[32mv\u001b[39m \u001b[34mreadr  \u001b[39m 1.4.0     \u001b[32mv\u001b[39m \u001b[34mforcats\u001b[39m 0.5.1\n",
      "\n",
      "-- \u001b[1mConflicts\u001b[22m ---------------------------------------------------------------------------------------------- tidyverse_conflicts() --\n",
      "\u001b[31mx\u001b[39m \u001b[34mdplyr\u001b[39m::\u001b[32mfilter()\u001b[39m masks \u001b[34mstats\u001b[39m::filter()\n",
      "\u001b[31mx\u001b[39m \u001b[34mdplyr\u001b[39m::\u001b[32mlag()\u001b[39m    masks \u001b[34mstats\u001b[39m::lag()\n",
      "\n"
     ]
    }
   ],
   "source": [
    "library(tidyverse)\n",
    "\n",
    "# Custom package\n",
    "library(rutils)"
   ]
  },
  {
   "cell_type": "code",
   "execution_count": 2,
   "id": "sixth-appearance",
   "metadata": {},
   "outputs": [],
   "source": [
    "dirs <- rutils::get_dev_directories(dev_paths_file = \"../dev_paths.txt\")\n",
    "unified_dsets <- c(\"unified_cervical_data\", \"unified_uterine_data\", \"unified_uterine_endometrial_data\")"
   ]
  },
  {
   "cell_type": "code",
   "execution_count": 3,
   "id": "fifty-tours",
   "metadata": {},
   "outputs": [],
   "source": [
    "dset_idx <- 3\n",
    "save_res <- TRUE"
   ]
  },
  {
   "cell_type": "code",
   "execution_count": 4,
   "id": "weekly-surface",
   "metadata": {},
   "outputs": [
    {
     "name": "stderr",
     "output_type": "stream",
     "text": [
      "\n",
      "\u001b[36m--\u001b[39m \u001b[1m\u001b[1mColumn specification\u001b[1m\u001b[22m \u001b[36m------------------------------------------------------------------------------------------------------------\u001b[39m\n",
      "cols(\n",
      "  hugo_symbol = \u001b[31mcol_character()\u001b[39m,\n",
      "  entrez_gene_id = \u001b[32mcol_double()\u001b[39m\n",
      ")\n",
      "\n",
      "\n"
     ]
    }
   ],
   "source": [
    "gene2id_df <- read_tsv(paste0(dirs$data_dir, \"/\", unified_dsets[dset_idx], \"/hugo2entrez.tsv\")) %>%\n",
    "    mutate(entrez_gene_id = as.character(entrez_gene_id)) %>%\n",
    "    rename(entrez = entrez_gene_id)"
   ]
  },
  {
   "cell_type": "code",
   "execution_count": 5,
   "id": "plastic-muslim",
   "metadata": {},
   "outputs": [],
   "source": [
    "sets <- c(\"demg\", \"figo\", \"survival\")\n",
    "colors <- list(down = \"blue\", up = \"red\")"
   ]
  },
  {
   "cell_type": "code",
   "execution_count": 6,
   "id": "brown-township",
   "metadata": {},
   "outputs": [
    {
     "name": "stderr",
     "output_type": "stream",
     "text": [
      "\n",
      "\u001b[36m--\u001b[39m \u001b[1m\u001b[1mColumn specification\u001b[1m\u001b[22m \u001b[36m------------------------------------------------------------------------------------------------------------\u001b[39m\n",
      "cols(\n",
      "  type = \u001b[31mcol_character()\u001b[39m,\n",
      "  geneIDs = \u001b[31mcol_character()\u001b[39m,\n",
      "  count = \u001b[32mcol_double()\u001b[39m,\n",
      "  ratio = \u001b[32mcol_double()\u001b[39m,\n",
      "  qval = \u001b[32mcol_double()\u001b[39m\n",
      ")\n",
      "\n",
      "\n",
      "\n",
      "\u001b[36m--\u001b[39m \u001b[1m\u001b[1mColumn specification\u001b[1m\u001b[22m \u001b[36m------------------------------------------------------------------------------------------------------------\u001b[39m\n",
      "cols(\n",
      "  geneID = \u001b[31mcol_character()\u001b[39m,\n",
      "  baseMean = \u001b[32mcol_double()\u001b[39m,\n",
      "  log2FoldChange = \u001b[32mcol_double()\u001b[39m,\n",
      "  lfcSE = \u001b[32mcol_double()\u001b[39m,\n",
      "  stat = \u001b[32mcol_double()\u001b[39m,\n",
      "  pvalue = \u001b[32mcol_double()\u001b[39m,\n",
      "  padj = \u001b[32mcol_double()\u001b[39m,\n",
      "  qval = \u001b[32mcol_double()\u001b[39m\n",
      ")\n",
      "\n",
      "\n",
      "\n",
      "\u001b[36m--\u001b[39m \u001b[1m\u001b[1mColumn specification\u001b[1m\u001b[22m \u001b[36m------------------------------------------------------------------------------------------------------------\u001b[39m\n",
      "cols(\n",
      "  type = \u001b[31mcol_character()\u001b[39m,\n",
      "  geneIDs = \u001b[31mcol_character()\u001b[39m,\n",
      "  count = \u001b[32mcol_double()\u001b[39m,\n",
      "  ratio = \u001b[32mcol_double()\u001b[39m,\n",
      "  qval = \u001b[32mcol_double()\u001b[39m\n",
      ")\n",
      "\n",
      "\n",
      "\n",
      "\u001b[36m--\u001b[39m \u001b[1m\u001b[1mColumn specification\u001b[1m\u001b[22m \u001b[36m------------------------------------------------------------------------------------------------------------\u001b[39m\n",
      "cols(\n",
      "  geneID = \u001b[31mcol_character()\u001b[39m,\n",
      "  baseMean = \u001b[32mcol_double()\u001b[39m,\n",
      "  log2FoldChange = \u001b[32mcol_double()\u001b[39m,\n",
      "  lfcSE = \u001b[32mcol_double()\u001b[39m,\n",
      "  stat = \u001b[32mcol_double()\u001b[39m,\n",
      "  pvalue = \u001b[32mcol_double()\u001b[39m,\n",
      "  padj = \u001b[32mcol_double()\u001b[39m,\n",
      "  qval = \u001b[32mcol_double()\u001b[39m\n",
      ")\n",
      "\n",
      "\n"
     ]
    }
   ],
   "source": [
    "for (set in sets) {\n",
    "    ea_file <- paste0(dirs$analysis_dir, \"/enrichment/\", unified_dsets[dset_idx], \"_\", set, \"_kegg\", \".tsv\")\n",
    "    if (file.exists(ea_file)) {\n",
    "        ea_df <- read_tsv(ea_file)\n",
    "        dge_res_df <- read_tsv(paste0(dirs$analysis_dir, \"/deg/\", unified_dsets[dset_idx], \"_DESeq_results.tsv\"))\n",
    "\n",
    "        dir.create(paste0(dirs$analysis_dir, \"/enrichment/\", unified_dsets[dset_idx], \"_\", set, \"_kegg\"), showWarnings = FALSE)\n",
    "        for (i in seq_len(nrow(ea_df))) {\n",
    "            pw_name <- ea_df$type[i] %>% str_replace_all(\" |-\", \"_\") %>% tolower()\n",
    "            color_map <- ea_df$geneIDs[i] %>%\n",
    "                str_split(\"/\") %>%\n",
    "                unlist() %>%\n",
    "                as_tibble() %>%\n",
    "                rename(entrez = value) %>%\n",
    "                inner_join(gene2id_df, by = \"entrez\") %>%\n",
    "                inner_join(dge_res_df, by = c(\"hugo_symbol\" = \"geneID\")) %>%\n",
    "                mutate(color = ifelse(log2FoldChange > 0, colors$up, colors$down)) %>%\n",
    "                select(entrez, color)\n",
    "            if (save_res) {\n",
    "                color_map %>% write_tsv(paste0(dirs$analysis_dir, \"/enrichment/\", unified_dsets[dset_idx], \"_\", set, \"_kegg/\", pw_name, \".tsv\"))\n",
    "            }\n",
    "        }\n",
    "\n",
    "    }\n",
    "}"
   ]
  },
  {
   "cell_type": "code",
   "execution_count": null,
   "id": "sexual-bicycle",
   "metadata": {},
   "outputs": [],
   "source": []
  }
 ],
 "metadata": {
  "kernelspec": {
   "display_name": "R",
   "language": "R",
   "name": "ir"
  },
  "language_info": {
   "codemirror_mode": "r",
   "file_extension": ".r",
   "mimetype": "text/x-r-source",
   "name": "R",
   "pygments_lexer": "r",
   "version": "4.0.3"
  }
 },
 "nbformat": 4,
 "nbformat_minor": 5
}
