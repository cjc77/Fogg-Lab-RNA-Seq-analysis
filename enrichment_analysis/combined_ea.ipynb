{
 "cells": [
  {
   "cell_type": "code",
   "execution_count": 1,
   "metadata": {},
   "outputs": [
    {
     "name": "stderr",
     "output_type": "stream",
     "text": [
      "-- \u001b[1mAttaching packages\u001b[22m ------------------------------------------------------------------------------------------------------- tidyverse 1.3.0 --\n",
      "\n",
      "\u001b[32mv\u001b[39m \u001b[34mggplot2\u001b[39m 3.3.3     \u001b[32mv\u001b[39m \u001b[34mpurrr  \u001b[39m 0.3.4\n",
      "\u001b[32mv\u001b[39m \u001b[34mtibble \u001b[39m 3.0.6     \u001b[32mv\u001b[39m \u001b[34mdplyr  \u001b[39m 1.0.4\n",
      "\u001b[32mv\u001b[39m \u001b[34mtidyr  \u001b[39m 1.1.2     \u001b[32mv\u001b[39m \u001b[34mstringr\u001b[39m 1.4.0\n",
      "\u001b[32mv\u001b[39m \u001b[34mreadr  \u001b[39m 1.4.0     \u001b[32mv\u001b[39m \u001b[34mforcats\u001b[39m 0.5.1\n",
      "\n",
      "-- \u001b[1mConflicts\u001b[22m ---------------------------------------------------------------------------------------------------------- tidyverse_conflicts() --\n",
      "\u001b[31mx\u001b[39m \u001b[34mdplyr\u001b[39m::\u001b[32mfilter()\u001b[39m masks \u001b[34mstats\u001b[39m::filter()\n",
      "\u001b[31mx\u001b[39m \u001b[34mdplyr\u001b[39m::\u001b[32mlag()\u001b[39m    masks \u001b[34mstats\u001b[39m::lag()\n",
      "\n",
      "\n",
      "\n",
      "clusterProfiler v3.18.0  For help: https://guangchuangyu.github.io/software/clusterProfiler\n",
      "\n",
      "If you use clusterProfiler in published research, please cite:\n",
      "Guangchuang Yu, Li-Gen Wang, Yanyan Han, Qing-Yu He. clusterProfiler: an R package for comparing biological themes among gene clusters. OMICS: A Journal of Integrative Biology. 2012, 16(5):284-287.\n",
      "\n",
      "\n",
      "Attaching package: 'clusterProfiler'\n",
      "\n",
      "\n",
      "The following object is masked from 'package:purrr':\n",
      "\n",
      "    simplify\n",
      "\n",
      "\n",
      "The following object is masked from 'package:stats':\n",
      "\n",
      "    filter\n",
      "\n",
      "\n",
      "Loading required package: AnnotationDbi\n",
      "\n",
      "Loading required package: stats4\n",
      "\n",
      "Loading required package: BiocGenerics\n",
      "\n",
      "\n",
      "Attaching package: 'BiocGenerics'\n",
      "\n",
      "\n",
      "The following objects are masked from 'package:parallel':\n",
      "\n",
      "    clusterApply, clusterApplyLB, clusterCall, clusterEvalQ,\n",
      "    clusterExport, clusterMap, parApply, parCapply, parLapply,\n",
      "    parLapplyLB, parRapply, parSapply, parSapplyLB\n",
      "\n",
      "\n",
      "The following objects are masked from 'package:dplyr':\n",
      "\n",
      "    combine, intersect, setdiff, union\n",
      "\n",
      "\n",
      "The following objects are masked from 'package:stats':\n",
      "\n",
      "    IQR, mad, sd, var, xtabs\n",
      "\n",
      "\n",
      "The following objects are masked from 'package:base':\n",
      "\n",
      "    Filter, Find, Map, Position, Reduce, anyDuplicated, append,\n",
      "    as.data.frame, basename, cbind, colnames, dirname, do.call,\n",
      "    duplicated, eval, evalq, get, grep, grepl, intersect, is.unsorted,\n",
      "    lapply, mapply, match, mget, order, paste, pmax, pmax.int, pmin,\n",
      "    pmin.int, rank, rbind, rownames, sapply, setdiff, sort, table,\n",
      "    tapply, union, unique, unsplit, which.max, which.min\n",
      "\n",
      "\n",
      "Loading required package: Biobase\n",
      "\n",
      "Welcome to Bioconductor\n",
      "\n",
      "    Vignettes contain introductory material; view with\n",
      "    'browseVignettes()'. To cite Bioconductor, see\n",
      "    'citation(\"Biobase\")', and for packages 'citation(\"pkgname\")'.\n",
      "\n",
      "\n",
      "Loading required package: IRanges\n",
      "\n",
      "Loading required package: S4Vectors\n",
      "\n",
      "\n",
      "Attaching package: 'S4Vectors'\n",
      "\n",
      "\n",
      "The following object is masked from 'package:clusterProfiler':\n",
      "\n",
      "    rename\n",
      "\n",
      "\n",
      "The following objects are masked from 'package:dplyr':\n",
      "\n",
      "    first, rename\n",
      "\n",
      "\n",
      "The following object is masked from 'package:tidyr':\n",
      "\n",
      "    expand\n",
      "\n",
      "\n",
      "The following object is masked from 'package:base':\n",
      "\n",
      "    expand.grid\n",
      "\n",
      "\n",
      "\n",
      "Attaching package: 'IRanges'\n",
      "\n",
      "\n",
      "The following object is masked from 'package:clusterProfiler':\n",
      "\n",
      "    slice\n",
      "\n",
      "\n",
      "The following objects are masked from 'package:dplyr':\n",
      "\n",
      "    collapse, desc, slice\n",
      "\n",
      "\n",
      "The following object is masked from 'package:purrr':\n",
      "\n",
      "    reduce\n",
      "\n",
      "\n",
      "\n",
      "Attaching package: 'AnnotationDbi'\n",
      "\n",
      "\n",
      "The following object is masked from 'package:clusterProfiler':\n",
      "\n",
      "    select\n",
      "\n",
      "\n",
      "The following object is masked from 'package:dplyr':\n",
      "\n",
      "    select\n",
      "\n",
      "\n",
      "\n",
      "\n"
     ]
    }
   ],
   "source": [
    "library(tidyverse)\n",
    "library(clusterProfiler)\n",
    "library(BiocParallel)\n",
    "library(parallel)\n",
    "library(org.Hs.eg.db)\n",
    "library(AnnotationDbi)\n",
    "library(stats4)\n",
    "library(BiocGenerics)\n",
    "\n",
    "# Custom package\n",
    "library(rutils)"
   ]
  },
  {
   "cell_type": "code",
   "execution_count": 2,
   "metadata": {},
   "outputs": [],
   "source": [
    "dirs <- rutils::get_dev_directories(dev_paths_file = \"../dev_paths.txt\")\n",
    "unified_dsets <- c(\"unified_cervical_data\", \"unified_uterine_data\", \"unified_uterine_endometrial_data\")"
   ]
  },
  {
   "cell_type": "code",
   "execution_count": 3,
   "metadata": {},
   "outputs": [],
   "source": [
    "dset_idx <- 3\n",
    "# hub_con_thresh <- 0.5\n",
    "# hub_con_thresh <- 0.25\n",
    "hub_con_thresh <- 0.0"
   ]
  },
  {
   "cell_type": "code",
   "execution_count": 4,
   "metadata": {},
   "outputs": [
    {
     "name": "stderr",
     "output_type": "stream",
     "text": [
      "\n",
      "\u001b[36m--\u001b[39m \u001b[1m\u001b[1mColumn specification\u001b[1m\u001b[22m \u001b[36m------------------------------------------------------------------------------------------------------------------------\u001b[39m\n",
      "cols(\n",
      "  Division = \u001b[31mcol_character()\u001b[39m,\n",
      "  Category = \u001b[31mcol_character()\u001b[39m,\n",
      "  `Gene Symbol` = \u001b[31mcol_character()\u001b[39m,\n",
      "  `Gene Name` = \u001b[31mcol_character()\u001b[39m,\n",
      "  Synonyms = \u001b[31mcol_character()\u001b[39m,\n",
      "  HGNC_IDs = \u001b[32mcol_double()\u001b[39m,\n",
      "  `HGNC_IDs Links` = \u001b[32mcol_double()\u001b[39m,\n",
      "  UniProt_IDs = \u001b[31mcol_character()\u001b[39m,\n",
      "  Refseq_IDs = \u001b[31mcol_character()\u001b[39m,\n",
      "  Orthology = \u001b[31mcol_character()\u001b[39m,\n",
      "  Notes = \u001b[31mcol_character()\u001b[39m\n",
      ")\n",
      "\n",
      "\n",
      "\n",
      "\u001b[36m--\u001b[39m \u001b[1m\u001b[1mColumn specification\u001b[1m\u001b[22m \u001b[36m------------------------------------------------------------------------------------------------------------------------\u001b[39m\n",
      "cols(\n",
      "  hugo_symbol = \u001b[31mcol_character()\u001b[39m,\n",
      "  entrez_gene_id = \u001b[32mcol_double()\u001b[39m\n",
      ")\n",
      "\n",
      "\n"
     ]
    }
   ],
   "source": [
    "matrisome_df <- load_matrisome_df(paste0(dirs$data_dir, \"/matrisome/matrisome_hs_masterlist.tsv\"))\n",
    "gene2id_df <- read_tsv(paste0(dirs$data_dir, \"/\", unified_dsets[dset_idx], \"/hugo2entrez.tsv\"))\n",
    "# figo_genes <- read_lines(paste0(dirs$analysis_dir, \"/gene_lists/\", unified_dsets[dset_idx], \"_figo_hub_thresh_\", hub_con_thresh, \"_gene_list.txt\"))\n",
    "deg_list <- read_lines(paste0(dirs$analysis_dir, \"/gene_lists/\", unified_dsets[dset_idx], \"_deg_list.txt\"))\n",
    "demg_list <- read_lines(paste0(dirs$analysis_dir, \"/gene_lists/\", unified_dsets[dset_idx], \"_demg_list.txt\"))\n",
    "nsmg_demg_list <- read_lines(paste0(dirs$analysis_dir, \"/gene_lists/\", unified_dsets[dset_idx], \"_nsmg_hub_thresh_\", hub_con_thresh, \"_demg_list.txt\"))\n",
    "umsmg_demg_list <- read_lines(paste0(dirs$analysis_dir, \"/gene_lists/\", unified_dsets[dset_idx], \"_umsmg_demg_list.txt\"))\n",
    "# survival_demg_list <- read_lines(paste0(dirs$analysis_dir, \"/gene_lists/\", unified_dsets[dset_idx], \"_survival_demg_list.txt\"))"
   ]
  },
  {
   "cell_type": "markdown",
   "metadata": {},
   "source": [
    "# DGE"
   ]
  },
  {
   "cell_type": "code",
   "execution_count": 5,
   "metadata": {},
   "outputs": [],
   "source": [
    "deg_df <- deg_list %>%\n",
    "    as_tibble_col(column_name = \"geneID\") %>%\n",
    "    dplyr::inner_join(gene2id_df, c(\"geneID\" = \"hugo_symbol\"))\n",
    "demg_df <- demg_list %>%\n",
    "    as_tibble_col(column_name = \"geneID\") %>%\n",
    "    dplyr::inner_join(gene2id_df, c(\"geneID\" = \"hugo_symbol\"))"
   ]
  },
  {
   "cell_type": "markdown",
   "metadata": {},
   "source": [
    "## Gene-set"
   ]
  },
  {
   "cell_type": "code",
   "execution_count": 6,
   "metadata": {},
   "outputs": [],
   "source": [
    "deg_go <- enrichGO(deg_df$entrez_gene_id, \"org.Hs.eg.db\", ont = \"ALL\", readable = TRUE)\n",
    "demg_go <- enrichGO(demg_df$entrez_gene_id, \"org.Hs.eg.db\", ont = \"ALL\", readable = TRUE)"
   ]
  },
  {
   "cell_type": "code",
   "execution_count": 7,
   "metadata": {},
   "outputs": [],
   "source": [
    "deg_go_df <- make_ea_df(deg_go, ea_type = \"GO\")\n",
    "demg_go_df <- make_ea_df(demg_go, ea_type = \"GO\")"
   ]
  },
  {
   "cell_type": "markdown",
   "metadata": {},
   "source": [
    "## Pathway"
   ]
  },
  {
   "cell_type": "code",
   "execution_count": 8,
   "metadata": {},
   "outputs": [
    {
     "name": "stderr",
     "output_type": "stream",
     "text": [
      "Reading KEGG annotation online:\n",
      "\n",
      "\n",
      "Reading KEGG annotation online:\n",
      "\n",
      "\n"
     ]
    }
   ],
   "source": [
    "deg_kegg <- enrichKEGG(deg_df$entrez_gene_id, organism = \"hsa\")\n",
    "demg_kegg <- enrichKEGG(demg_df$entrez_gene_id, organism = \"hsa\")"
   ]
  },
  {
   "cell_type": "code",
   "execution_count": 9,
   "metadata": {},
   "outputs": [],
   "source": [
    "deg_kegg_df <- make_ea_df(deg_kegg, ea_type = \"KEGG\")\n",
    "demg_kegg_df <- make_ea_df(demg_kegg, ea_type = \"KEGG\")"
   ]
  },
  {
   "cell_type": "markdown",
   "metadata": {},
   "source": [
    "# Write out"
   ]
  },
  {
   "cell_type": "code",
   "execution_count": 10,
   "metadata": {},
   "outputs": [],
   "source": [
    "write_tsv(\n",
    "    deg_go_df,\n",
    "    paste0(dirs$analysis_dir, \"/enrichment/\", unified_dsets[dset_idx], \"_deg_go.tsv\"),\n",
    ")\n",
    "\n",
    "write_tsv(\n",
    "    deg_kegg_df,\n",
    "    paste0(dirs$analysis_dir, \"/enrichment/\", unified_dsets[dset_idx], \"_deg_kegg.tsv\"),\n",
    ")\n",
    "\n",
    "write_tsv(\n",
    "    demg_go_df,\n",
    "    paste0(dirs$analysis_dir, \"/enrichment/\", unified_dsets[dset_idx], \"_demg_go.tsv\"),\n",
    ")\n",
    "\n",
    "write_tsv(\n",
    "    demg_kegg_df,\n",
    "    paste0(dirs$analysis_dir, \"/enrichment/\", unified_dsets[dset_idx], \"_demg_kegg.tsv\"),\n",
    ")"
   ]
  },
  {
   "cell_type": "markdown",
   "metadata": {},
   "source": [
    "# FIGO"
   ]
  },
  {
   "cell_type": "code",
   "execution_count": 11,
   "metadata": {},
   "outputs": [],
   "source": [
    "umsmg_demg_df <- umsmg_demg_list %>%\n",
    "    as_tibble_col(column_name = \"geneID\") %>%\n",
    "    dplyr::inner_join(gene2id_df, c(\"geneID\" = \"hugo_symbol\"))\n",
    "\n",
    "nsmg_demg_df <- nsmg_demg_list %>%\n",
    "    as_tibble_col(column_name = \"geneID\") %>%\n",
    "    dplyr::inner_join(gene2id_df, c(\"geneID\" = \"hugo_symbol\"))"
   ]
  },
  {
   "cell_type": "markdown",
   "metadata": {},
   "source": [
    "## Gene-set"
   ]
  },
  {
   "cell_type": "code",
   "execution_count": 12,
   "metadata": {},
   "outputs": [],
   "source": [
    "umsmg_demg_go <- enrichGO(umsmg_demg_df$entrez_gene_id, \"org.Hs.eg.db\", ont = \"ALL\", readable = TRUE)\n",
    "nsmg_demg_go <- enrichGO(nsmg_demg_df$entrez_gene_id, \"org.Hs.eg.db\", ont = \"ALL\", readable = TRUE)"
   ]
  },
  {
   "cell_type": "code",
   "execution_count": 13,
   "metadata": {},
   "outputs": [],
   "source": [
    "umsmg_demg_go_df <- make_ea_df(umsmg_demg_go, ea_type = \"GO\")\n",
    "nsmg_demg_go_df <- make_ea_df(nsmg_demg_go, ea_type = \"GO\")"
   ]
  },
  {
   "cell_type": "markdown",
   "metadata": {},
   "source": [
    "## Pathway"
   ]
  },
  {
   "cell_type": "code",
   "execution_count": 14,
   "metadata": {},
   "outputs": [],
   "source": [
    "umsmg_demg_kegg <- enrichKEGG(umsmg_demg_df$entrez_gene_id, organism = \"hsa\")\n",
    "nsmg_demg_kegg <- enrichKEGG(nsmg_demg_df$entrez_gene_id, organism = \"hsa\")"
   ]
  },
  {
   "cell_type": "code",
   "execution_count": 15,
   "metadata": {},
   "outputs": [],
   "source": [
    "umsmg_demg_kegg_df <- make_ea_df(umsmg_demg_kegg, ea_type = \"KEGG\")\n",
    "nsmg_demg_kegg_df <- make_ea_df(nsmg_demg_kegg, ea_type = \"KEGG\")"
   ]
  },
  {
   "cell_type": "markdown",
   "metadata": {},
   "source": [
    "# Write out"
   ]
  },
  {
   "cell_type": "code",
   "execution_count": 16,
   "metadata": {},
   "outputs": [],
   "source": [
    "write_tsv(\n",
    "    umsmg_demg_go_df,\n",
    "    paste0(dirs$analysis_dir, \"/enrichment/\", unified_dsets[dset_idx], \"_umsmg_demg_go.tsv\")\n",
    ")\n",
    "\n",
    "write_tsv(\n",
    "    nsmg_demg_go_df,\n",
    "    paste0(dirs$analysis_dir, \"/enrichment/\", unified_dsets[dset_idx], \"_nsmg_demg_go.tsv\")\n",
    ")\n",
    "\n",
    "write_tsv(\n",
    "    umsmg_demg_kegg_df,\n",
    "    paste0(dirs$analysis_dir, \"/enrichment/\", unified_dsets[dset_idx], \"_umsmg_demg_kegg.tsv\")\n",
    ")\n",
    "\n",
    "write_tsv(\n",
    "    nsmg_demg_kegg_df,\n",
    "    paste0(dirs$analysis_dir, \"/enrichment/\", unified_dsets[dset_idx], \"_nsmg_demg_kegg.tsv\")\n",
    ")"
   ]
  },
  {
   "cell_type": "markdown",
   "metadata": {},
   "source": [
    "# Survival"
   ]
  },
  {
   "cell_type": "code",
   "execution_count": 17,
   "metadata": {},
   "outputs": [],
   "source": [
    "# survival_demg_df <- survival_demg_list %>%\n",
    "#     as_tibble_col(column_name = \"geneID\") %>%\n",
    "#     dplyr::inner_join(gene2id_df, c(\"geneID\" = \"hugo_symbol\"))"
   ]
  },
  {
   "cell_type": "markdown",
   "metadata": {},
   "source": [
    "## Gene-set"
   ]
  },
  {
   "cell_type": "code",
   "execution_count": 18,
   "metadata": {},
   "outputs": [],
   "source": [
    "# survival_demg_go <- enrichGO(survival_demg_df$entrez_gene_id, \"org.Hs.eg.db\", ont = \"ALL\", readable = TRUE)"
   ]
  },
  {
   "cell_type": "code",
   "execution_count": 19,
   "metadata": {},
   "outputs": [],
   "source": [
    "# survival_demg_go_df <- make_ea_df(survival_demg_go, ea_type = \"GO\")"
   ]
  },
  {
   "cell_type": "markdown",
   "metadata": {},
   "source": [
    "## Pathway"
   ]
  },
  {
   "cell_type": "code",
   "execution_count": 20,
   "metadata": {},
   "outputs": [],
   "source": [
    "# survival_demg_kegg <- enrichKEGG(survival_demg_df$entrez_gene_id, organism = \"hsa\")"
   ]
  },
  {
   "cell_type": "code",
   "execution_count": 21,
   "metadata": {},
   "outputs": [],
   "source": [
    "# survival_demg_kegg_df <- make_ea_df(survival_demg_kegg, ea_type = \"KEGG\")"
   ]
  },
  {
   "cell_type": "markdown",
   "metadata": {},
   "source": [
    "# Write out"
   ]
  },
  {
   "cell_type": "code",
   "execution_count": 22,
   "metadata": {},
   "outputs": [],
   "source": [
    "# write_tsv(\n",
    "#     survival_demg_go_df,\n",
    "#     paste0(dirs$analysis_dir, \"/enrichment/\", unified_dsets[dset_idx], \"_survival_demg_go.tsv\")\n",
    "# )\n",
    "\n",
    "# if (nrow(survival_demg_kegg_df) > 0) {\n",
    "#     write_tsv(\n",
    "#         survival_demg_kegg_df,\n",
    "#         paste0(dirs$analysis_dir, \"/enrichment/\", unified_dsets[dset_idx], \"_survival_demg_kegg.tsv\")\n",
    "#     )\n",
    "# }\n"
   ]
  }
 ],
 "metadata": {
  "kernelspec": {
   "display_name": "R",
   "language": "R",
   "name": "ir"
  },
  "language_info": {
   "codemirror_mode": "r",
   "file_extension": ".r",
   "mimetype": "text/x-r-source",
   "name": "R",
   "pygments_lexer": "r",
   "version": "4.0.3"
  }
 },
 "nbformat": 4,
 "nbformat_minor": 4
}
