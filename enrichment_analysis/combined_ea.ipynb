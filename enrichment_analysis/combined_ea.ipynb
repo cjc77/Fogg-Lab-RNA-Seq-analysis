{
 "cells": [
  {
   "cell_type": "code",
   "execution_count": 23,
   "metadata": {},
   "outputs": [],
   "source": [
    "library(tidyverse)\n",
    "library(clusterProfiler)\n",
    "library(BiocParallel)\n",
    "library(parallel)\n",
    "library(org.Hs.eg.db)\n",
    "library(AnnotationDbi)\n",
    "library(stats4)\n",
    "library(BiocGenerics)\n",
    "\n",
    "# Custom package\n",
    "library(rutils)"
   ]
  },
  {
   "cell_type": "code",
   "execution_count": 24,
   "metadata": {},
   "outputs": [],
   "source": [
    "dirs <- rutils::get_dev_directories(dev_paths_file = \"../dev_paths.txt\")\n",
    "unified_dsets <- c(\"unified_cervical_data\", \"unified_uterine_data\", \"unified_uterine_endometrial_data\")"
   ]
  },
  {
   "cell_type": "code",
   "execution_count": 25,
   "metadata": {},
   "outputs": [],
   "source": [
    "dset_idx <- 3"
   ]
  },
  {
   "cell_type": "code",
   "execution_count": 26,
   "metadata": {},
   "outputs": [
    {
     "name": "stderr",
     "output_type": "stream",
     "text": [
      "\n",
      "\u001b[36m--\u001b[39m \u001b[1m\u001b[1mColumn specification\u001b[1m\u001b[22m \u001b[36m-------------------------------------------------------------------------------------------------------------------------------------------------------------------\u001b[39m\n",
      "cols(\n",
      "  Division = \u001b[31mcol_character()\u001b[39m,\n",
      "  Category = \u001b[31mcol_character()\u001b[39m,\n",
      "  `Gene Symbol` = \u001b[31mcol_character()\u001b[39m,\n",
      "  `Gene Name` = \u001b[31mcol_character()\u001b[39m,\n",
      "  Synonyms = \u001b[31mcol_character()\u001b[39m,\n",
      "  HGNC_IDs = \u001b[32mcol_double()\u001b[39m,\n",
      "  `HGNC_IDs Links` = \u001b[32mcol_double()\u001b[39m,\n",
      "  UniProt_IDs = \u001b[31mcol_character()\u001b[39m,\n",
      "  Refseq_IDs = \u001b[31mcol_character()\u001b[39m,\n",
      "  Orthology = \u001b[31mcol_character()\u001b[39m,\n",
      "  Notes = \u001b[31mcol_character()\u001b[39m\n",
      ")\n",
      "\n",
      "\n",
      "\n",
      "\u001b[36m--\u001b[39m \u001b[1m\u001b[1mColumn specification\u001b[1m\u001b[22m \u001b[36m-------------------------------------------------------------------------------------------------------------------------------------------------------------------\u001b[39m\n",
      "cols(\n",
      "  hugo_symbol = \u001b[31mcol_character()\u001b[39m,\n",
      "  entrez_gene_id = \u001b[32mcol_double()\u001b[39m\n",
      ")\n",
      "\n",
      "\n"
     ]
    }
   ],
   "source": [
    "matrisome_df <- load_matrisome_df(paste0(dirs$data_dir, \"/matrisome/matrisome_hs_masterlist.tsv\"))\n",
    "gene2id_df <- read_tsv(paste0(dirs$data_dir, \"/\", unified_dsets[dset_idx], \"/hugo2entrez.tsv\"))"
   ]
  },
  {
   "cell_type": "markdown",
   "metadata": {},
   "source": [
    "# DGE"
   ]
  },
  {
   "cell_type": "code",
   "execution_count": 27,
   "metadata": {},
   "outputs": [],
   "source": [
    "dge_genes <- read_lines(paste0(dirs$analysis_dir, \"/gene_lists/\", unified_dsets[dset_idx], \"_dge_gene_list.txt\"))\n",
    "dge_genes_df <- dge_genes %>%\n",
    "    as_tibble_col(column_name = \"geneID\") %>%\n",
    "    dplyr::inner_join(gene2id_df, c(\"geneID\" = \"hugo_symbol\"))\n",
    "dge_m_genes_df <- dge_genes_df %>%\n",
    "    dplyr::filter(geneID %in% matrisome_df$gene_symbol)"
   ]
  },
  {
   "cell_type": "markdown",
   "metadata": {},
   "source": [
    "## Gene-set"
   ]
  },
  {
   "cell_type": "code",
   "execution_count": 28,
   "metadata": {},
   "outputs": [],
   "source": [
    "dge_go_res <- enrichGO(dge_genes_df$entrez_gene_id, \"org.Hs.eg.db\", ont = \"ALL\", readable = TRUE)\n",
    "dge_m_go_res <- enrichGO(\n",
    "    dge_m_genes_df$entrez_gene_id,\n",
    "    \"org.Hs.eg.db\", ont = \"ALL\", readable = TRUE\n",
    ")"
   ]
  },
  {
   "cell_type": "code",
   "execution_count": 29,
   "metadata": {},
   "outputs": [],
   "source": [
    "dge_go_df <- make_ea_df(dge_go_res, ea_type = \"GO\")\n",
    "dge_m_go_df <- make_ea_df(dge_m_go_res, ea_type = \"GO\")"
   ]
  },
  {
   "cell_type": "markdown",
   "metadata": {},
   "source": [
    "## Pathway"
   ]
  },
  {
   "cell_type": "code",
   "execution_count": 30,
   "metadata": {},
   "outputs": [],
   "source": [
    "dge_kegg_res <- enrichKEGG(dge_genes_df$entrez_gene_id, organism = \"hsa\")\n",
    "dge_m_kegg_res <- enrichKEGG(\n",
    "    dge_m_genes_df$entrez_gene_id,\n",
    "    organism = \"hsa\"\n",
    ")"
   ]
  },
  {
   "cell_type": "code",
   "execution_count": 31,
   "metadata": {},
   "outputs": [],
   "source": [
    "dge_kegg_df <- make_ea_df(dge_kegg_res, ea_type = \"KEGG\")\n",
    "dge_m_kegg_df <- make_ea_df(dge_m_kegg_res, ea_type = \"KEGG\")"
   ]
  },
  {
   "cell_type": "markdown",
   "metadata": {},
   "source": [
    "# Write out"
   ]
  },
  {
   "cell_type": "code",
   "execution_count": 32,
   "metadata": {},
   "outputs": [],
   "source": [
    "write_tsv(\n",
    "    dge_go_df,\n",
    "    paste0(dirs$analysis_dir, \"/enrichment/\", unified_dsets[dset_idx], \"_DEG_all_gene_set.tsv\"),\n",
    ")\n",
    "\n",
    "write_tsv(\n",
    "    dge_m_go_df,\n",
    "    paste0(dirs$analysis_dir, \"/enrichment/\", unified_dsets[dset_idx], \"_DEG_matrisome_gene_set.tsv\")\n",
    ")\n",
    "\n",
    "write_tsv(\n",
    "    dge_kegg_df,\n",
    "    paste0(dirs$analysis_dir, \"/enrichment/\", unified_dsets[dset_idx], \"_DEG_all_pathway.tsv\")\n",
    ")\n",
    "\n",
    "write_tsv(\n",
    "    dge_m_kegg_df,\n",
    "    paste0(dirs$analysis_dir, \"/enrichment/\", unified_dsets[dset_idx], \"_DEG_matrisome_pathway.tsv\")\n",
    ")"
   ]
  },
  {
   "cell_type": "markdown",
   "metadata": {},
   "source": [
    "# FIGO"
   ]
  },
  {
   "cell_type": "code",
   "execution_count": 33,
   "metadata": {},
   "outputs": [],
   "source": [
    "figo_genes <- read_lines(paste0(dirs$analysis_dir, \"/gene_lists/\", unified_dsets[dset_idx], \"_figo_gene_list.txt\"))\n",
    "figo_genes_df <- figo_genes %>%\n",
    "    as_tibble_col(column_name = \"geneID\") %>%\n",
    "    dplyr::inner_join(gene2id_df, c(\"geneID\" = \"hugo_symbol\"))"
   ]
  },
  {
   "cell_type": "markdown",
   "metadata": {},
   "source": [
    "## Gene-set"
   ]
  },
  {
   "cell_type": "code",
   "execution_count": 34,
   "metadata": {},
   "outputs": [],
   "source": [
    "figo_go_res <- enrichGO(figo_genes_df$entrez_gene_id, \"org.Hs.eg.db\", ont = \"ALL\", readable = TRUE)"
   ]
  },
  {
   "cell_type": "code",
   "execution_count": 35,
   "metadata": {},
   "outputs": [],
   "source": [
    "figo_go_df <- make_ea_df(figo_go_res, ea_type = \"GO\")"
   ]
  },
  {
   "cell_type": "markdown",
   "metadata": {},
   "source": [
    "## Pathway"
   ]
  },
  {
   "cell_type": "code",
   "execution_count": 36,
   "metadata": {},
   "outputs": [],
   "source": [
    "figo_kegg_res <- enrichKEGG(figo_genes_df$entrez_gene_id, organism = \"hsa\")"
   ]
  },
  {
   "cell_type": "code",
   "execution_count": 37,
   "metadata": {},
   "outputs": [],
   "source": [
    "figo_kegg_df <- make_ea_df(figo_kegg_res, ea_type = \"KEGG\")"
   ]
  },
  {
   "cell_type": "code",
   "execution_count": 38,
   "metadata": {},
   "outputs": [],
   "source": [
    "write_tsv(\n",
    "    figo_go_df,\n",
    "    paste0(dirs$analysis_dir, \"/enrichment/\", unified_dsets[dset_idx], \"_figo_gene_set.tsv\")\n",
    ")\n",
    "\n",
    "write_tsv(\n",
    "    figo_kegg_df,\n",
    "    paste0(dirs$analysis_dir, \"/enrichment/\", unified_dsets[dset_idx], \"_figo_pathway.tsv\")\n",
    ")"
   ]
  },
  {
   "cell_type": "markdown",
   "metadata": {},
   "source": [
    "# Survival"
   ]
  },
  {
   "cell_type": "code",
   "execution_count": 39,
   "metadata": {},
   "outputs": [],
   "source": [
    "survival_genes <- read_lines(paste0(dirs$analysis_dir, \"/gene_lists/\", unified_dsets[dset_idx], \"_survival_gene_list.txt\"))\n",
    "survival_genes_df <- survival_genes %>%\n",
    "    as_tibble_col(column_name = \"geneID\") %>%\n",
    "    dplyr::inner_join(gene2id_df, c(\"geneID\" = \"hugo_symbol\"))"
   ]
  },
  {
   "cell_type": "markdown",
   "metadata": {},
   "source": [
    "## Gene-set"
   ]
  },
  {
   "cell_type": "code",
   "execution_count": 40,
   "metadata": {},
   "outputs": [],
   "source": [
    "survival_go_res <- enrichGO(survival_genes_df$entrez_gene_id, \"org.Hs.eg.db\", ont = \"ALL\", readable = TRUE)"
   ]
  },
  {
   "cell_type": "code",
   "execution_count": 41,
   "metadata": {},
   "outputs": [],
   "source": [
    "survival_go_df <- make_ea_df(survival_go_res, ea_type = \"GO\")"
   ]
  },
  {
   "cell_type": "markdown",
   "metadata": {},
   "source": [
    "## Pathway"
   ]
  },
  {
   "cell_type": "code",
   "execution_count": 42,
   "metadata": {},
   "outputs": [],
   "source": [
    "survival_kegg_res <- enrichKEGG(survival_genes_df$entrez_gene_id, organism = \"hsa\")"
   ]
  },
  {
   "cell_type": "code",
   "execution_count": 43,
   "metadata": {},
   "outputs": [],
   "source": [
    "survival_kegg_df <- make_ea_df(survival_kegg_res, ea_type = \"KEGG\")"
   ]
  },
  {
   "cell_type": "code",
   "execution_count": 44,
   "metadata": {},
   "outputs": [],
   "source": [
    "write_tsv(\n",
    "    survival_go_df,\n",
    "    paste0(dirs$analysis_dir, \"/enrichment/\", unified_dsets[dset_idx], \"_survival_gene_set.tsv\")\n",
    ")\n",
    "\n",
    "write_tsv(\n",
    "    survival_kegg_df,\n",
    "    paste0(dirs$analysis_dir, \"/enrichment/\", unified_dsets[dset_idx], \"_survival_pathway.tsv\")\n",
    ")"
   ]
  }
 ],
 "metadata": {
  "kernelspec": {
   "display_name": "R",
   "language": "R",
   "name": "ir"
  },
  "language_info": {
   "codemirror_mode": "r",
   "file_extension": ".r",
   "mimetype": "text/x-r-source",
   "name": "R",
   "pygments_lexer": "r",
   "version": "4.0.3"
  }
 },
 "nbformat": 4,
 "nbformat_minor": 4
}
