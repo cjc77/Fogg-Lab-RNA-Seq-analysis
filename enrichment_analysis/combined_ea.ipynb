{
 "cells": [
  {
   "cell_type": "code",
   "execution_count": 1,
   "metadata": {
    "collapsed": true,
    "jupyter": {
     "outputs_hidden": true
    }
   },
   "outputs": [
    {
     "name": "stderr",
     "output_type": "stream",
     "text": [
      "-- \u001b[1mAttaching packages\u001b[22m ------------------------------------------------------------------------------- tidyverse 1.3.0 --\n",
      "\n",
      "\u001b[32mv\u001b[39m \u001b[34mggplot2\u001b[39m 3.3.3     \u001b[32mv\u001b[39m \u001b[34mpurrr  \u001b[39m 0.3.4\n",
      "\u001b[32mv\u001b[39m \u001b[34mtibble \u001b[39m 3.0.6     \u001b[32mv\u001b[39m \u001b[34mdplyr  \u001b[39m 1.0.4\n",
      "\u001b[32mv\u001b[39m \u001b[34mtidyr  \u001b[39m 1.1.2     \u001b[32mv\u001b[39m \u001b[34mstringr\u001b[39m 1.4.0\n",
      "\u001b[32mv\u001b[39m \u001b[34mreadr  \u001b[39m 1.4.0     \u001b[32mv\u001b[39m \u001b[34mforcats\u001b[39m 0.5.1\n",
      "\n",
      "-- \u001b[1mConflicts\u001b[22m ---------------------------------------------------------------------------------- tidyverse_conflicts() --\n",
      "\u001b[31mx\u001b[39m \u001b[34mdplyr\u001b[39m::\u001b[32mfilter()\u001b[39m masks \u001b[34mstats\u001b[39m::filter()\n",
      "\u001b[31mx\u001b[39m \u001b[34mdplyr\u001b[39m::\u001b[32mlag()\u001b[39m    masks \u001b[34mstats\u001b[39m::lag()\n",
      "\n",
      "\n",
      "\n",
      "clusterProfiler v3.18.0  For help: https://guangchuangyu.github.io/software/clusterProfiler\n",
      "\n",
      "If you use clusterProfiler in published research, please cite:\n",
      "Guangchuang Yu, Li-Gen Wang, Yanyan Han, Qing-Yu He. clusterProfiler: an R package for comparing biological themes among gene clusters. OMICS: A Journal of Integrative Biology. 2012, 16(5):284-287.\n",
      "\n",
      "\n",
      "Attaching package: 'clusterProfiler'\n",
      "\n",
      "\n",
      "The following object is masked from 'package:purrr':\n",
      "\n",
      "    simplify\n",
      "\n",
      "\n",
      "The following object is masked from 'package:stats':\n",
      "\n",
      "    filter\n",
      "\n",
      "\n",
      "Loading required package: AnnotationDbi\n",
      "\n",
      "Loading required package: stats4\n",
      "\n",
      "Loading required package: BiocGenerics\n",
      "\n",
      "\n",
      "Attaching package: 'BiocGenerics'\n",
      "\n",
      "\n",
      "The following objects are masked from 'package:parallel':\n",
      "\n",
      "    clusterApply, clusterApplyLB, clusterCall, clusterEvalQ,\n",
      "    clusterExport, clusterMap, parApply, parCapply, parLapply,\n",
      "    parLapplyLB, parRapply, parSapply, parSapplyLB\n",
      "\n",
      "\n",
      "The following objects are masked from 'package:dplyr':\n",
      "\n",
      "    combine, intersect, setdiff, union\n",
      "\n",
      "\n",
      "The following objects are masked from 'package:stats':\n",
      "\n",
      "    IQR, mad, sd, var, xtabs\n",
      "\n",
      "\n",
      "The following objects are masked from 'package:base':\n",
      "\n",
      "    Filter, Find, Map, Position, Reduce, anyDuplicated, append,\n",
      "    as.data.frame, basename, cbind, colnames, dirname, do.call,\n",
      "    duplicated, eval, evalq, get, grep, grepl, intersect, is.unsorted,\n",
      "    lapply, mapply, match, mget, order, paste, pmax, pmax.int, pmin,\n",
      "    pmin.int, rank, rbind, rownames, sapply, setdiff, sort, table,\n",
      "    tapply, union, unique, unsplit, which.max, which.min\n",
      "\n",
      "\n",
      "Loading required package: Biobase\n",
      "\n",
      "Welcome to Bioconductor\n",
      "\n",
      "    Vignettes contain introductory material; view with\n",
      "    'browseVignettes()'. To cite Bioconductor, see\n",
      "    'citation(\"Biobase\")', and for packages 'citation(\"pkgname\")'.\n",
      "\n",
      "\n",
      "Loading required package: IRanges\n",
      "\n",
      "Loading required package: S4Vectors\n",
      "\n",
      "\n",
      "Attaching package: 'S4Vectors'\n",
      "\n",
      "\n",
      "The following object is masked from 'package:clusterProfiler':\n",
      "\n",
      "    rename\n",
      "\n",
      "\n",
      "The following objects are masked from 'package:dplyr':\n",
      "\n",
      "    first, rename\n",
      "\n",
      "\n",
      "The following object is masked from 'package:tidyr':\n",
      "\n",
      "    expand\n",
      "\n",
      "\n",
      "The following object is masked from 'package:base':\n",
      "\n",
      "    expand.grid\n",
      "\n",
      "\n",
      "\n",
      "Attaching package: 'IRanges'\n",
      "\n",
      "\n",
      "The following object is masked from 'package:clusterProfiler':\n",
      "\n",
      "    slice\n",
      "\n",
      "\n",
      "The following objects are masked from 'package:dplyr':\n",
      "\n",
      "    collapse, desc, slice\n",
      "\n",
      "\n",
      "The following object is masked from 'package:purrr':\n",
      "\n",
      "    reduce\n",
      "\n",
      "\n",
      "\n",
      "Attaching package: 'AnnotationDbi'\n",
      "\n",
      "\n",
      "The following object is masked from 'package:clusterProfiler':\n",
      "\n",
      "    select\n",
      "\n",
      "\n",
      "The following object is masked from 'package:dplyr':\n",
      "\n",
      "    select\n",
      "\n",
      "\n",
      "\n",
      "\n"
     ]
    }
   ],
   "source": [
    "library(tidyverse)\n",
    "library(clusterProfiler)\n",
    "library(BiocParallel)\n",
    "library(parallel)\n",
    "library(org.Hs.eg.db)\n",
    "library(AnnotationDbi)\n",
    "library(stats4)\n",
    "library(BiocGenerics)\n",
    "\n",
    "# Custom package\n",
    "library(rutils)"
   ]
  },
  {
   "cell_type": "code",
   "execution_count": 2,
   "metadata": {},
   "outputs": [],
   "source": [
    "dirs <- rutils::get_dev_directories(dev_paths_file = \"../dev_paths.txt\")\n",
    "unified_dsets <- c(\"unified_cervical_data\", \"unified_uterine_data\", \"unified_uterine_endometrial_data\")"
   ]
  },
  {
   "cell_type": "code",
   "execution_count": 3,
   "metadata": {},
   "outputs": [],
   "source": [
    "dset_idx <- 3\n",
    "save_res <- TRUE"
   ]
  },
  {
   "cell_type": "code",
   "execution_count": 4,
   "metadata": {},
   "outputs": [
    {
     "name": "stderr",
     "output_type": "stream",
     "text": [
      "\n",
      "\u001b[36m--\u001b[39m \u001b[1m\u001b[1mColumn specification\u001b[1m\u001b[22m \u001b[36m------------------------------------------------------------------------------------------------\u001b[39m\n",
      "cols(\n",
      "  Division = \u001b[31mcol_character()\u001b[39m,\n",
      "  Category = \u001b[31mcol_character()\u001b[39m,\n",
      "  `Gene Symbol` = \u001b[31mcol_character()\u001b[39m,\n",
      "  `Gene Name` = \u001b[31mcol_character()\u001b[39m,\n",
      "  Synonyms = \u001b[31mcol_character()\u001b[39m,\n",
      "  HGNC_IDs = \u001b[32mcol_double()\u001b[39m,\n",
      "  `HGNC_IDs Links` = \u001b[32mcol_double()\u001b[39m,\n",
      "  UniProt_IDs = \u001b[31mcol_character()\u001b[39m,\n",
      "  Refseq_IDs = \u001b[31mcol_character()\u001b[39m,\n",
      "  Orthology = \u001b[31mcol_character()\u001b[39m,\n",
      "  Notes = \u001b[31mcol_character()\u001b[39m\n",
      ")\n",
      "\n",
      "\n",
      "\n",
      "\u001b[36m--\u001b[39m \u001b[1m\u001b[1mColumn specification\u001b[1m\u001b[22m \u001b[36m------------------------------------------------------------------------------------------------\u001b[39m\n",
      "cols(\n",
      "  hugo_symbol = \u001b[31mcol_character()\u001b[39m,\n",
      "  entrez_gene_id = \u001b[32mcol_double()\u001b[39m\n",
      ")\n",
      "\n",
      "\n"
     ]
    }
   ],
   "source": [
    "matrisome_df <- load_matrisome_df(paste0(dirs$data_dir, \"/matrisome/matrisome_hs_masterlist.tsv\"))\n",
    "gene2id_df <- read_tsv(paste0(dirs$data_dir, \"/\", unified_dsets[dset_idx], \"/hugo2entrez.tsv\"))\n",
    "deg_list <- read_lines(paste0(dirs$analysis_dir, \"/gene_lists/\", unified_dsets[dset_idx], \"_deg_list.txt\"))\n",
    "demg_list <- read_lines(paste0(dirs$analysis_dir, \"/gene_lists/\", unified_dsets[dset_idx], \"_demg_list.txt\"))\n",
    "\n",
    "# FIGO (UMSMG or NSMG) AND DEMG\n",
    "figo_umsmg_list <- read_lines(paste0(dirs$analysis_dir, \"/gene_lists/\", unified_dsets[dset_idx], \"_figo_umsmg_list.txt\"))\n",
    "figo_nsmg_list <- read_lines(paste0(dirs$analysis_dir, \"/gene_lists/\", unified_dsets[dset_idx], \"_figo_nsmg_list.txt\"))\n",
    "figo_list <- figo_umsmg_list %>%\n",
    "    union(figo_nsmg_list) %>%\n",
    "    intersect(demg_list)\n",
    "\n",
    "# Survival UMSMG AND DEMG\n",
    "survival_umsmg_list <- read_lines(paste0(dirs$analysis_dir, \"/gene_lists/\", unified_dsets[dset_idx], \"_survival_umsmg_list.txt\"))\n",
    "survival_list <- survival_umsmg_list %>%\n",
    "    intersect(demg_list)\n",
    "# nsmg_demg_list <- read_lines(paste0(dirs$analysis_dir, \"/gene_lists/\", unified_dsets[dset_idx], \"_nsmg_hub_thresh_\", hub_con_thresh, \"_demg_list.txt\"))\n",
    "# umsmg_demg_list <- read_lines(paste0(dirs$analysis_dir, \"/gene_lists/\", unified_dsets[dset_idx], \"_umsmg_demg_list.txt\"))"
   ]
  },
  {
   "cell_type": "code",
   "execution_count": 5,
   "metadata": {},
   "outputs": [],
   "source": [
    "go_dfs <- list()\n",
    "kegg_dfs <- list()"
   ]
  },
  {
   "cell_type": "markdown",
   "metadata": {},
   "source": [
    "# DGE"
   ]
  },
  {
   "cell_type": "code",
   "execution_count": 6,
   "metadata": {},
   "outputs": [],
   "source": [
    "deg_df <- deg_list %>%\n",
    "    as_tibble_col(column_name = \"geneID\") %>%\n",
    "    dplyr::inner_join(gene2id_df, c(\"geneID\" = \"hugo_symbol\"))\n",
    "demg_df <- demg_list %>%\n",
    "    as_tibble_col(column_name = \"geneID\") %>%\n",
    "    dplyr::inner_join(gene2id_df, c(\"geneID\" = \"hugo_symbol\"))"
   ]
  },
  {
   "cell_type": "markdown",
   "metadata": {},
   "source": [
    "## Gene-set"
   ]
  },
  {
   "cell_type": "code",
   "execution_count": 7,
   "metadata": {},
   "outputs": [],
   "source": [
    "deg_go <- enrichGO(deg_df$entrez_gene_id, \"org.Hs.eg.db\", ont = \"ALL\", readable = TRUE)\n",
    "demg_go <- enrichGO(demg_df$entrez_gene_id, \"org.Hs.eg.db\", ont = \"ALL\", readable = TRUE)"
   ]
  },
  {
   "cell_type": "code",
   "execution_count": 8,
   "metadata": {},
   "outputs": [],
   "source": [
    "go_dfs[[\"deg_go\"]] <- make_ea_df(deg_go, ea_type = \"GO\")\n",
    "go_dfs[[\"demg_go\"]] <- make_ea_df(demg_go, ea_type = \"GO\")"
   ]
  },
  {
   "cell_type": "markdown",
   "metadata": {},
   "source": [
    "## Pathway"
   ]
  },
  {
   "cell_type": "code",
   "execution_count": 9,
   "metadata": {},
   "outputs": [
    {
     "name": "stderr",
     "output_type": "stream",
     "text": [
      "Reading KEGG annotation online:\n",
      "\n",
      "\n",
      "Reading KEGG annotation online:\n",
      "\n",
      "\n"
     ]
    }
   ],
   "source": [
    "deg_kegg <- enrichKEGG(deg_df$entrez_gene_id, organism = \"hsa\")\n",
    "demg_kegg <- enrichKEGG(demg_df$entrez_gene_id, organism = \"hsa\")"
   ]
  },
  {
   "cell_type": "code",
   "execution_count": 10,
   "metadata": {},
   "outputs": [],
   "source": [
    "kegg_dfs[[\"deg_kegg\"]] <- make_ea_df(deg_kegg, ea_type = \"KEGG\")\n",
    "kegg_dfs[[\"demg_kegg\"]] <- make_ea_df(demg_kegg, ea_type = \"KEGG\")"
   ]
  },
  {
   "cell_type": "markdown",
   "metadata": {},
   "source": [
    "# FIGO"
   ]
  },
  {
   "cell_type": "code",
   "execution_count": 11,
   "metadata": {},
   "outputs": [],
   "source": [
    "figo_df <- figo_list %>%\n",
    "    as_tibble_col(column_name = \"geneID\") %>%\n",
    "    dplyr::inner_join(gene2id_df, c(\"geneID\" = \"hugo_symbol\"))"
   ]
  },
  {
   "cell_type": "markdown",
   "metadata": {},
   "source": [
    "## Gene-set"
   ]
  },
  {
   "cell_type": "code",
   "execution_count": 12,
   "metadata": {},
   "outputs": [],
   "source": [
    "figo_go <- enrichGO(figo_df$entrez_gene_id, \"org.Hs.eg.db\", ont = \"ALL\", readable = TRUE)"
   ]
  },
  {
   "cell_type": "code",
   "execution_count": 13,
   "metadata": {},
   "outputs": [],
   "source": [
    "go_dfs[[\"figo_go\"]] <- make_ea_df(figo_go, ea_type = \"GO\")"
   ]
  },
  {
   "cell_type": "markdown",
   "metadata": {},
   "source": [
    "## Pathway"
   ]
  },
  {
   "cell_type": "code",
   "execution_count": 14,
   "metadata": {},
   "outputs": [],
   "source": [
    "figo_kegg <- enrichKEGG(figo_df$entrez_gene_id, organism = \"hsa\")"
   ]
  },
  {
   "cell_type": "code",
   "execution_count": 15,
   "metadata": {},
   "outputs": [],
   "source": [
    "kegg_dfs[[\"figo_kegg\"]] <- make_ea_df(figo_kegg, ea_type = \"KEGG\")"
   ]
  },
  {
   "cell_type": "markdown",
   "metadata": {},
   "source": [
    "# Survival"
   ]
  },
  {
   "cell_type": "code",
   "execution_count": 16,
   "metadata": {},
   "outputs": [],
   "source": [
    "survival_df <- survival_list %>%\n",
    "    as_tibble_col(column_name = \"geneID\") %>%\n",
    "    dplyr::inner_join(gene2id_df, c(\"geneID\" = \"hugo_symbol\"))"
   ]
  },
  {
   "cell_type": "markdown",
   "metadata": {},
   "source": [
    "## Gene-set"
   ]
  },
  {
   "cell_type": "code",
   "execution_count": 17,
   "metadata": {},
   "outputs": [],
   "source": [
    "survival_go <- enrichGO(survival_df$entrez_gene_id, \"org.Hs.eg.db\", ont = \"ALL\", readable = TRUE)"
   ]
  },
  {
   "cell_type": "code",
   "execution_count": 18,
   "metadata": {},
   "outputs": [],
   "source": [
    "go_dfs[[\"survival_go\"]] <- make_ea_df(survival_go, ea_type = \"GO\")"
   ]
  },
  {
   "cell_type": "markdown",
   "metadata": {},
   "source": [
    "## Pathway"
   ]
  },
  {
   "cell_type": "code",
   "execution_count": 19,
   "metadata": {},
   "outputs": [],
   "source": [
    "survival_kegg <- enrichKEGG(survival_df$entrez_gene_id, organism = \"hsa\")"
   ]
  },
  {
   "cell_type": "code",
   "execution_count": 20,
   "metadata": {},
   "outputs": [],
   "source": [
    "kegg_dfs[[\"survival_kegg\"]] <- make_ea_df(survival_kegg, ea_type = \"KEGG\")"
   ]
  },
  {
   "cell_type": "markdown",
   "metadata": {},
   "source": [
    "# Write out"
   ]
  },
  {
   "cell_type": "code",
   "execution_count": 21,
   "metadata": {},
   "outputs": [
    {
     "data": {
      "text/html": [
       "<style>\n",
       ".list-inline {list-style: none; margin:0; padding: 0}\n",
       ".list-inline>li {display: inline-block}\n",
       ".list-inline>li:not(:last-child)::after {content: \"\\00b7\"; padding: 0 .5ex}\n",
       "</style>\n",
       "<ol class=list-inline><li>'deg_go'</li><li>'demg_go'</li><li>'figo_go'</li><li>'survival_go'</li></ol>\n"
      ],
      "text/latex": [
       "\\begin{enumerate*}\n",
       "\\item 'deg\\_go'\n",
       "\\item 'demg\\_go'\n",
       "\\item 'figo\\_go'\n",
       "\\item 'survival\\_go'\n",
       "\\end{enumerate*}\n"
      ],
      "text/markdown": [
       "1. 'deg_go'\n",
       "2. 'demg_go'\n",
       "3. 'figo_go'\n",
       "4. 'survival_go'\n",
       "\n",
       "\n"
      ],
      "text/plain": [
       "[1] \"deg_go\"      \"demg_go\"     \"figo_go\"     \"survival_go\""
      ]
     },
     "metadata": {},
     "output_type": "display_data"
    }
   ],
   "source": [
    "names(go_dfs)"
   ]
  },
  {
   "cell_type": "code",
   "execution_count": 22,
   "metadata": {},
   "outputs": [
    {
     "data": {
      "text/html": [
       "<style>\n",
       ".list-inline {list-style: none; margin:0; padding: 0}\n",
       ".list-inline>li {display: inline-block}\n",
       ".list-inline>li:not(:last-child)::after {content: \"\\00b7\"; padding: 0 .5ex}\n",
       "</style>\n",
       "<ol class=list-inline><li>'deg_kegg'</li><li>'demg_kegg'</li><li>'figo_kegg'</li><li>'survival_kegg'</li></ol>\n"
      ],
      "text/latex": [
       "\\begin{enumerate*}\n",
       "\\item 'deg\\_kegg'\n",
       "\\item 'demg\\_kegg'\n",
       "\\item 'figo\\_kegg'\n",
       "\\item 'survival\\_kegg'\n",
       "\\end{enumerate*}\n"
      ],
      "text/markdown": [
       "1. 'deg_kegg'\n",
       "2. 'demg_kegg'\n",
       "3. 'figo_kegg'\n",
       "4. 'survival_kegg'\n",
       "\n",
       "\n"
      ],
      "text/plain": [
       "[1] \"deg_kegg\"      \"demg_kegg\"     \"figo_kegg\"     \"survival_kegg\""
      ]
     },
     "metadata": {},
     "output_type": "display_data"
    }
   ],
   "source": [
    "names(kegg_dfs)"
   ]
  },
  {
   "cell_type": "code",
   "execution_count": 23,
   "metadata": {},
   "outputs": [],
   "source": [
    "# kegg_dfs$survival_kegg"
   ]
  },
  {
   "cell_type": "code",
   "execution_count": 24,
   "metadata": {},
   "outputs": [],
   "source": [
    "if (save_res) {\n",
    "    for (go_n in names(go_dfs)) {\n",
    "        if (nrow(go_dfs[[go_n]]) > 0) {\n",
    "            write_tsv(go_dfs[[go_n]], paste0(dirs$analysis_dir, \"/enrichment/\", unified_dsets[dset_idx], \"_\", go_n, \".tsv\"))\n",
    "        }\n",
    "    }\n",
    "    for (kegg_n in names(kegg_dfs)) {\n",
    "        if (nrow(kegg_dfs[[kegg_n]]) > 0) {\n",
    "            write_tsv(kegg_dfs[[kegg_n]], paste0(dirs$analysis_dir, \"/enrichment/\", unified_dsets[dset_idx], \"_\", kegg_n, \".tsv\"))\n",
    "        }\n",
    "    }\n",
    "}"
   ]
  }
 ],
 "metadata": {
  "kernelspec": {
   "display_name": "R",
   "language": "R",
   "name": "ir"
  },
  "language_info": {
   "codemirror_mode": "r",
   "file_extension": ".r",
   "mimetype": "text/x-r-source",
   "name": "R",
   "pygments_lexer": "r",
   "version": "4.0.3"
  }
 },
 "nbformat": 4,
 "nbformat_minor": 4
}
