{
 "cells": [
  {
   "cell_type": "code",
   "execution_count": 5,
   "metadata": {},
   "outputs": [],
   "source": [
    "library(tidyverse)\n",
    "library(clusterProfiler)\n",
    "library(BiocParallel)\n",
    "library(parallel)\n",
    "\n",
    "# Custom package\n",
    "library(rutils)"
   ]
  },
  {
   "cell_type": "code",
   "execution_count": 6,
   "metadata": {},
   "outputs": [],
   "source": [
    "n_cores <- detectCores() - 2\n",
    "BiocParallel::register(MulticoreParam(n_cores))"
   ]
  },
  {
   "cell_type": "code",
   "execution_count": 14,
   "metadata": {},
   "outputs": [],
   "source": [
    "dirs <- rutils::get_dev_directories(dev_paths_file = \"../dev_paths.txt\")\n",
    "unified_dsets <- c(\"unified_cervical_data\", \"unified_uterine_data\", \"unified_uterine_endometrial_data\")\n",
    "matrisome_path <- paste0(dirs$data_dir, \"/matrisome/matrisome_hs_masterlist.tsv\")"
   ]
  },
  {
   "cell_type": "code",
   "execution_count": 15,
   "metadata": {},
   "outputs": [],
   "source": [
    "dset_idx <- 1"
   ]
  },
  {
   "cell_type": "code",
   "execution_count": 27,
   "metadata": {
    "collapsed": true,
    "jupyter": {
     "outputs_hidden": true
    }
   },
   "outputs": [
    {
     "name": "stderr",
     "output_type": "stream",
     "text": [
      "Parsed with column specification:\n",
      "cols(\n",
      "  geneID = col_character(),\n",
      "  baseMean = col_double(),\n",
      "  log2FoldChange = col_double(),\n",
      "  lfcSE = col_double(),\n",
      "  stat = col_double(),\n",
      "  pvalue = col_double(),\n",
      "  padj = col_double()\n",
      ")\n",
      "Parsed with column specification:\n",
      "cols(\n",
      "  Division = col_character(),\n",
      "  Category = col_character(),\n",
      "  `Gene Symbol` = col_character(),\n",
      "  `Gene Name` = col_character(),\n",
      "  Synonyms = col_character(),\n",
      "  HGNC_IDs = col_double(),\n",
      "  `HGNC_IDs Links` = col_double(),\n",
      "  UniProt_IDs = col_character(),\n",
      "  Refseq_IDs = col_character(),\n",
      "  Orthology = col_character(),\n",
      "  Notes = col_character()\n",
      ")\n",
      "Parsed with column specification:\n",
      "cols(\n",
      "  hugo_symbol = col_character(),\n",
      "  entrez_gene_id = col_double()\n",
      ")\n"
     ]
    }
   ],
   "source": [
    "deg_df <- read_tsv(paste0(dirs$analysis_dir, \"/\", unified_dsets[dset_idx], \"_DESeq_results.tsv\"))\n",
    "matrisome_df <- load_matrisome_df(matrisome_path)\n",
    "gene2id_df <- read_tsv(paste0(dirs$data_dir, \"/\", unified_dsets[dset_idx], \"/hugo2entrez.tsv\"))"
   ]
  },
  {
   "cell_type": "code",
   "execution_count": 23,
   "metadata": {},
   "outputs": [
    {
     "data": {
      "text/html": [
       "<style>\n",
       ".list-inline {list-style: none; margin:0; padding: 0}\n",
       ".list-inline>li {display: inline-block}\n",
       ".list-inline>li:not(:last-child)::after {content: \"\\00b7\"; padding: 0 .5ex}\n",
       "</style>\n",
       "<ol class=list-inline><li>'geneID'</li><li>'baseMean'</li><li>'log2FoldChange'</li><li>'lfcSE'</li><li>'stat'</li><li>'pvalue'</li><li>'padj'</li></ol>\n"
      ],
      "text/latex": [
       "\\begin{enumerate*}\n",
       "\\item 'geneID'\n",
       "\\item 'baseMean'\n",
       "\\item 'log2FoldChange'\n",
       "\\item 'lfcSE'\n",
       "\\item 'stat'\n",
       "\\item 'pvalue'\n",
       "\\item 'padj'\n",
       "\\end{enumerate*}\n"
      ],
      "text/markdown": [
       "1. 'geneID'\n",
       "2. 'baseMean'\n",
       "3. 'log2FoldChange'\n",
       "4. 'lfcSE'\n",
       "5. 'stat'\n",
       "6. 'pvalue'\n",
       "7. 'padj'\n",
       "\n",
       "\n"
      ],
      "text/plain": [
       "[1] \"geneID\"         \"baseMean\"       \"log2FoldChange\" \"lfcSE\"         \n",
       "[5] \"stat\"           \"pvalue\"         \"padj\"          "
      ]
     },
     "metadata": {},
     "output_type": "display_data"
    }
   ],
   "source": [
    "colnames(deg_df)"
   ]
  },
  {
   "cell_type": "code",
   "execution_count": 32,
   "metadata": {},
   "outputs": [],
   "source": [
    "mat_deg_df <- deg_df %>%\n",
    "    dplyr::filter(padj < 0.05 & abs(log2FoldChange) > log2(2)) %>%\n",
    "    inner_join(matrisome_df, by = c(\"geneID\" = \"gene_symbol\")) %>%\n",
    "    inner_join(gene2id_df, by = c(\"geneID\" = \"hugo_symbol\")) %>%\n",
    "    dplyr::select(geneID, entrez_gene_id, everything())"
   ]
  },
  {
   "cell_type": "code",
   "execution_count": 34,
   "metadata": {},
   "outputs": [],
   "source": [
    "ek_res <- enrichKEGG(gene = mat_deg_df$entrez_gene_id)"
   ]
  },
  {
   "cell_type": "code",
   "execution_count": 37,
   "metadata": {},
   "outputs": [
    {
     "name": "stderr",
     "output_type": "stream",
     "text": [
      "No gene set have size > 10 ...\n",
      "--> return NULL...\n"
     ]
    }
   ],
   "source": [
    "emk_res <- enrichMKEGG(gene = mat_deg_df$entrez_gene_id)"
   ]
  },
  {
   "cell_type": "code",
   "execution_count": 36,
   "metadata": {},
   "outputs": [
    {
     "data": {
      "text/html": [
       "<table>\n",
       "<caption>A data.frame: 6 × 9</caption>\n",
       "<thead>\n",
       "\t<tr><th></th><th scope=col>ID</th><th scope=col>Description</th><th scope=col>GeneRatio</th><th scope=col>BgRatio</th><th scope=col>pvalue</th><th scope=col>p.adjust</th><th scope=col>qvalue</th><th scope=col>geneID</th><th scope=col>Count</th></tr>\n",
       "\t<tr><th></th><th scope=col>&lt;chr&gt;</th><th scope=col>&lt;chr&gt;</th><th scope=col>&lt;chr&gt;</th><th scope=col>&lt;chr&gt;</th><th scope=col>&lt;dbl&gt;</th><th scope=col>&lt;dbl&gt;</th><th scope=col>&lt;dbl&gt;</th><th scope=col>&lt;chr&gt;</th><th scope=col>&lt;int&gt;</th></tr>\n",
       "</thead>\n",
       "<tbody>\n",
       "\t<tr><th scope=row>hsa04060</th><td>hsa04060</td><td>Cytokine-cytokine receptor interaction                       </td><td>92/300</td><td>295/8081</td><td>5.252566e-63</td><td>8.824311e-61</td><td>5.694888e-61</td><td>5617/6367/10563/1437/3586/9518/6358/2920/8995/9560/51561/3627/3458/4283/27189/2919/6352/3557/3624/6355/3553/356/56477/652/656/4803/655/2662/29949/2921/3592/4049/8744/6348/268/6360/6362/4838/6368/6369/3589/2657/6351/3603/2688/4050/55801/8742/3976/6370/6354/84639/3552/1442/8743/7043/7124/11009/6846/9966/3569/151449/6374/6375/2056/5008/5473/6373/7066/6346/3605/3593/651/6364/6349/8600/53342/1896/27190/6372/56832/50604/6361/10673/650/338376/6347/1489/654/6387/6366/2660</td><td>92</td></tr>\n",
       "\t<tr><th scope=row>hsa04061</th><td>hsa04061</td><td>Viral protein interaction with cytokine and cytokine receptor</td><td>41/300</td><td>100/8081</td><td>4.344925e-33</td><td>3.649737e-31</td><td>2.355407e-31</td><td>6367/10563/3586/6358/2920/9560/3627/4283/2919/6352/6355/56477/29949/2921/4049/6348/6360/6362/6368/6369/6351/6370/6354/8743/7124/11009/6846/3569/6374/6375/5473/6373/6346/6364/6349/6372/50604/6361/6347/6387/6366                                                                                                                                                                                                                                                                   </td><td>41</td></tr>\n",
       "\t<tr><th scope=row>hsa04512</th><td>hsa04512</td><td>ECM-receptor interaction                                     </td><td>35/300</td><td>88/8081 </td><td>8.825733e-28</td><td>4.942410e-26</td><td>3.189651e-26</td><td>1311/3914/3908/7058/1284/3915/3381/1101/3339/7450/7148/7057/7060/3918/7059/1293/10319/1292/63923/3909/1298/1278/3913/256076/6696/1277/1291/6382/1280/3910/1288/158326/5649/375790/6385                                                                                                                                                                                                                                                                                              </td><td>35</td></tr>\n",
       "\t<tr><th scope=row>hsa04151</th><td>hsa04151</td><td>PI3K-Akt signaling pathway                                   </td><td>59/300</td><td>354/8081</td><td>1.451899e-23</td><td>6.097978e-22</td><td>3.935412e-22</td><td>5617/2254/2252/80310/1311/3479/1950/3914/3908/7058/374/1284/8822/2255/356/4803/2247/3915/3381/1101/7450/2277/7148/7057/2688/7060/3918/7059/1293/1442/10319/3481/1292/3569/63923/56034/3909/1298/2056/5008/1278/3913/256076/6696/1277/1291/1280/51378/27006/3910/1288/5649/2069/2253/7039/284/9965/3082/4908                                                                                                                                                                         </td><td>59</td></tr>\n",
       "\t<tr><th scope=row>hsa04974</th><td>hsa04974</td><td>Protein digestion and absorption                             </td><td>31/300</td><td>103/8081</td><td>1.773011e-20</td><td>5.957318e-19</td><td>3.844635e-19</td><td>1300/1303/1284/5644/85301/1289/4224/1307/340267/57642/255631/1293/1302/7373/2006/50509/1292/1298/1278/256076/1277/1291/1280/169044/80781/1281/1288/1306/1301/81578/1305                                                                                                                                                                                                                                                                                                             </td><td>31</td></tr>\n",
       "\t<tr><th scope=row>hsa05323</th><td>hsa05323</td><td>Rheumatoid arthritis                                         </td><td>28/300</td><td>93/8081 </td><td>1.350303e-18</td><td>3.780849e-17</td><td>2.440022e-17</td><td>1437/2920/51561/3458/2919/6352/3553/2921/6348/3589/4050/1513/3552/7043/7124/4314/3569/6374/4312/3605/6364/6349/8600/6372/10673/6347/6387/284                                                                                                                                                                                                                                                                                                                                        </td><td>28</td></tr>\n",
       "</tbody>\n",
       "</table>\n"
      ],
      "text/latex": [
       "A data.frame: 6 × 9\n",
       "\\begin{tabular}{r|lllllllll}\n",
       "  & ID & Description & GeneRatio & BgRatio & pvalue & p.adjust & qvalue & geneID & Count\\\\\n",
       "  & <chr> & <chr> & <chr> & <chr> & <dbl> & <dbl> & <dbl> & <chr> & <int>\\\\\n",
       "\\hline\n",
       "\thsa04060 & hsa04060 & Cytokine-cytokine receptor interaction                        & 92/300 & 295/8081 & 5.252566e-63 & 8.824311e-61 & 5.694888e-61 & 5617/6367/10563/1437/3586/9518/6358/2920/8995/9560/51561/3627/3458/4283/27189/2919/6352/3557/3624/6355/3553/356/56477/652/656/4803/655/2662/29949/2921/3592/4049/8744/6348/268/6360/6362/4838/6368/6369/3589/2657/6351/3603/2688/4050/55801/8742/3976/6370/6354/84639/3552/1442/8743/7043/7124/11009/6846/9966/3569/151449/6374/6375/2056/5008/5473/6373/7066/6346/3605/3593/651/6364/6349/8600/53342/1896/27190/6372/56832/50604/6361/10673/650/338376/6347/1489/654/6387/6366/2660 & 92\\\\\n",
       "\thsa04061 & hsa04061 & Viral protein interaction with cytokine and cytokine receptor & 41/300 & 100/8081 & 4.344925e-33 & 3.649737e-31 & 2.355407e-31 & 6367/10563/3586/6358/2920/9560/3627/4283/2919/6352/6355/56477/29949/2921/4049/6348/6360/6362/6368/6369/6351/6370/6354/8743/7124/11009/6846/3569/6374/6375/5473/6373/6346/6364/6349/6372/50604/6361/6347/6387/6366                                                                                                                                                                                                                                                                    & 41\\\\\n",
       "\thsa04512 & hsa04512 & ECM-receptor interaction                                      & 35/300 & 88/8081  & 8.825733e-28 & 4.942410e-26 & 3.189651e-26 & 1311/3914/3908/7058/1284/3915/3381/1101/3339/7450/7148/7057/7060/3918/7059/1293/10319/1292/63923/3909/1298/1278/3913/256076/6696/1277/1291/6382/1280/3910/1288/158326/5649/375790/6385                                                                                                                                                                                                                                                                                               & 35\\\\\n",
       "\thsa04151 & hsa04151 & PI3K-Akt signaling pathway                                    & 59/300 & 354/8081 & 1.451899e-23 & 6.097978e-22 & 3.935412e-22 & 5617/2254/2252/80310/1311/3479/1950/3914/3908/7058/374/1284/8822/2255/356/4803/2247/3915/3381/1101/7450/2277/7148/7057/2688/7060/3918/7059/1293/1442/10319/3481/1292/3569/63923/56034/3909/1298/2056/5008/1278/3913/256076/6696/1277/1291/1280/51378/27006/3910/1288/5649/2069/2253/7039/284/9965/3082/4908                                                                                                                                                                          & 59\\\\\n",
       "\thsa04974 & hsa04974 & Protein digestion and absorption                              & 31/300 & 103/8081 & 1.773011e-20 & 5.957318e-19 & 3.844635e-19 & 1300/1303/1284/5644/85301/1289/4224/1307/340267/57642/255631/1293/1302/7373/2006/50509/1292/1298/1278/256076/1277/1291/1280/169044/80781/1281/1288/1306/1301/81578/1305                                                                                                                                                                                                                                                                                                              & 31\\\\\n",
       "\thsa05323 & hsa05323 & Rheumatoid arthritis                                          & 28/300 & 93/8081  & 1.350303e-18 & 3.780849e-17 & 2.440022e-17 & 1437/2920/51561/3458/2919/6352/3553/2921/6348/3589/4050/1513/3552/7043/7124/4314/3569/6374/4312/3605/6364/6349/8600/6372/10673/6347/6387/284                                                                                                                                                                                                                                                                                                                                         & 28\\\\\n",
       "\\end{tabular}\n"
      ],
      "text/markdown": [
       "\n",
       "A data.frame: 6 × 9\n",
       "\n",
       "| <!--/--> | ID &lt;chr&gt; | Description &lt;chr&gt; | GeneRatio &lt;chr&gt; | BgRatio &lt;chr&gt; | pvalue &lt;dbl&gt; | p.adjust &lt;dbl&gt; | qvalue &lt;dbl&gt; | geneID &lt;chr&gt; | Count &lt;int&gt; |\n",
       "|---|---|---|---|---|---|---|---|---|---|\n",
       "| hsa04060 | hsa04060 | Cytokine-cytokine receptor interaction                        | 92/300 | 295/8081 | 5.252566e-63 | 8.824311e-61 | 5.694888e-61 | 5617/6367/10563/1437/3586/9518/6358/2920/8995/9560/51561/3627/3458/4283/27189/2919/6352/3557/3624/6355/3553/356/56477/652/656/4803/655/2662/29949/2921/3592/4049/8744/6348/268/6360/6362/4838/6368/6369/3589/2657/6351/3603/2688/4050/55801/8742/3976/6370/6354/84639/3552/1442/8743/7043/7124/11009/6846/9966/3569/151449/6374/6375/2056/5008/5473/6373/7066/6346/3605/3593/651/6364/6349/8600/53342/1896/27190/6372/56832/50604/6361/10673/650/338376/6347/1489/654/6387/6366/2660 | 92 |\n",
       "| hsa04061 | hsa04061 | Viral protein interaction with cytokine and cytokine receptor | 41/300 | 100/8081 | 4.344925e-33 | 3.649737e-31 | 2.355407e-31 | 6367/10563/3586/6358/2920/9560/3627/4283/2919/6352/6355/56477/29949/2921/4049/6348/6360/6362/6368/6369/6351/6370/6354/8743/7124/11009/6846/3569/6374/6375/5473/6373/6346/6364/6349/6372/50604/6361/6347/6387/6366                                                                                                                                                                                                                                                                    | 41 |\n",
       "| hsa04512 | hsa04512 | ECM-receptor interaction                                      | 35/300 | 88/8081  | 8.825733e-28 | 4.942410e-26 | 3.189651e-26 | 1311/3914/3908/7058/1284/3915/3381/1101/3339/7450/7148/7057/7060/3918/7059/1293/10319/1292/63923/3909/1298/1278/3913/256076/6696/1277/1291/6382/1280/3910/1288/158326/5649/375790/6385                                                                                                                                                                                                                                                                                               | 35 |\n",
       "| hsa04151 | hsa04151 | PI3K-Akt signaling pathway                                    | 59/300 | 354/8081 | 1.451899e-23 | 6.097978e-22 | 3.935412e-22 | 5617/2254/2252/80310/1311/3479/1950/3914/3908/7058/374/1284/8822/2255/356/4803/2247/3915/3381/1101/7450/2277/7148/7057/2688/7060/3918/7059/1293/1442/10319/3481/1292/3569/63923/56034/3909/1298/2056/5008/1278/3913/256076/6696/1277/1291/1280/51378/27006/3910/1288/5649/2069/2253/7039/284/9965/3082/4908                                                                                                                                                                          | 59 |\n",
       "| hsa04974 | hsa04974 | Protein digestion and absorption                              | 31/300 | 103/8081 | 1.773011e-20 | 5.957318e-19 | 3.844635e-19 | 1300/1303/1284/5644/85301/1289/4224/1307/340267/57642/255631/1293/1302/7373/2006/50509/1292/1298/1278/256076/1277/1291/1280/169044/80781/1281/1288/1306/1301/81578/1305                                                                                                                                                                                                                                                                                                              | 31 |\n",
       "| hsa05323 | hsa05323 | Rheumatoid arthritis                                          | 28/300 | 93/8081  | 1.350303e-18 | 3.780849e-17 | 2.440022e-17 | 1437/2920/51561/3458/2919/6352/3553/2921/6348/3589/4050/1513/3552/7043/7124/4314/3569/6374/4312/3605/6364/6349/8600/6372/10673/6347/6387/284                                                                                                                                                                                                                                                                                                                                         | 28 |\n",
       "\n"
      ],
      "text/plain": [
       "         ID       Description                                                  \n",
       "hsa04060 hsa04060 Cytokine-cytokine receptor interaction                       \n",
       "hsa04061 hsa04061 Viral protein interaction with cytokine and cytokine receptor\n",
       "hsa04512 hsa04512 ECM-receptor interaction                                     \n",
       "hsa04151 hsa04151 PI3K-Akt signaling pathway                                   \n",
       "hsa04974 hsa04974 Protein digestion and absorption                             \n",
       "hsa05323 hsa05323 Rheumatoid arthritis                                         \n",
       "         GeneRatio BgRatio  pvalue       p.adjust     qvalue      \n",
       "hsa04060 92/300    295/8081 5.252566e-63 8.824311e-61 5.694888e-61\n",
       "hsa04061 41/300    100/8081 4.344925e-33 3.649737e-31 2.355407e-31\n",
       "hsa04512 35/300    88/8081  8.825733e-28 4.942410e-26 3.189651e-26\n",
       "hsa04151 59/300    354/8081 1.451899e-23 6.097978e-22 3.935412e-22\n",
       "hsa04974 31/300    103/8081 1.773011e-20 5.957318e-19 3.844635e-19\n",
       "hsa05323 28/300    93/8081  1.350303e-18 3.780849e-17 2.440022e-17\n",
       "         geneID                                                                                                                                                                                                                                                                                                                                                                                                                                                                              \n",
       "hsa04060 5617/6367/10563/1437/3586/9518/6358/2920/8995/9560/51561/3627/3458/4283/27189/2919/6352/3557/3624/6355/3553/356/56477/652/656/4803/655/2662/29949/2921/3592/4049/8744/6348/268/6360/6362/4838/6368/6369/3589/2657/6351/3603/2688/4050/55801/8742/3976/6370/6354/84639/3552/1442/8743/7043/7124/11009/6846/9966/3569/151449/6374/6375/2056/5008/5473/6373/7066/6346/3605/3593/651/6364/6349/8600/53342/1896/27190/6372/56832/50604/6361/10673/650/338376/6347/1489/654/6387/6366/2660\n",
       "hsa04061 6367/10563/3586/6358/2920/9560/3627/4283/2919/6352/6355/56477/29949/2921/4049/6348/6360/6362/6368/6369/6351/6370/6354/8743/7124/11009/6846/3569/6374/6375/5473/6373/6346/6364/6349/6372/50604/6361/6347/6387/6366                                                                                                                                                                                                                                                                   \n",
       "hsa04512 1311/3914/3908/7058/1284/3915/3381/1101/3339/7450/7148/7057/7060/3918/7059/1293/10319/1292/63923/3909/1298/1278/3913/256076/6696/1277/1291/6382/1280/3910/1288/158326/5649/375790/6385                                                                                                                                                                                                                                                                                              \n",
       "hsa04151 5617/2254/2252/80310/1311/3479/1950/3914/3908/7058/374/1284/8822/2255/356/4803/2247/3915/3381/1101/7450/2277/7148/7057/2688/7060/3918/7059/1293/1442/10319/3481/1292/3569/63923/56034/3909/1298/2056/5008/1278/3913/256076/6696/1277/1291/1280/51378/27006/3910/1288/5649/2069/2253/7039/284/9965/3082/4908                                                                                                                                                                         \n",
       "hsa04974 1300/1303/1284/5644/85301/1289/4224/1307/340267/57642/255631/1293/1302/7373/2006/50509/1292/1298/1278/256076/1277/1291/1280/169044/80781/1281/1288/1306/1301/81578/1305                                                                                                                                                                                                                                                                                                             \n",
       "hsa05323 1437/2920/51561/3458/2919/6352/3553/2921/6348/3589/4050/1513/3552/7043/7124/4314/3569/6374/4312/3605/6364/6349/8600/6372/10673/6347/6387/284                                                                                                                                                                                                                                                                                                                                        \n",
       "         Count\n",
       "hsa04060 92   \n",
       "hsa04061 41   \n",
       "hsa04512 35   \n",
       "hsa04151 59   \n",
       "hsa04974 31   \n",
       "hsa05323 28   "
      ]
     },
     "metadata": {},
     "output_type": "display_data"
    }
   ],
   "source": [
    "head(ek_res)"
   ]
  }
 ],
 "metadata": {
  "kernelspec": {
   "display_name": "R",
   "language": "R",
   "name": "ir"
  },
  "language_info": {
   "codemirror_mode": "r",
   "file_extension": ".r",
   "mimetype": "text/x-r-source",
   "name": "R",
   "pygments_lexer": "r",
   "version": "3.6.3"
  }
 },
 "nbformat": 4,
 "nbformat_minor": 4
}
