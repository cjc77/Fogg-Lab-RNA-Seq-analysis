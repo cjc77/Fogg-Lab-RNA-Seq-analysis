{
 "cells": [
  {
   "cell_type": "code",
   "execution_count": 1,
   "metadata": {},
   "outputs": [
    {
     "name": "stderr",
     "output_type": "stream",
     "text": [
      "── Attaching packages ─────────────────────────────────────── tidyverse 1.3.0 ──\n",
      "✔ ggplot2 3.3.2     ✔ purrr   0.3.4\n",
      "✔ tibble  3.0.3     ✔ dplyr   1.0.0\n",
      "✔ tidyr   1.1.0     ✔ stringr 1.4.0\n",
      "✔ readr   1.3.1     ✔ forcats 0.5.0\n",
      "── Conflicts ────────────────────────────────────────── tidyverse_conflicts() ──\n",
      "✖ dplyr::filter() masks stats::filter()\n",
      "✖ dplyr::lag()    masks stats::lag()\n",
      "\n",
      "Registered S3 method overwritten by 'enrichplot':\n",
      "  method               from\n",
      "  fortify.enrichResult DOSE\n",
      "clusterProfiler v3.14.0  For help: https://guangchuangyu.github.io/software/clusterProfiler\n",
      "\n",
      "If you use clusterProfiler in published research, please cite:\n",
      "Guangchuang Yu, Li-Gen Wang, Yanyan Han, Qing-Yu He. clusterProfiler: an R package for comparing biological themes among gene clusters. OMICS: A Journal of Integrative Biology. 2012, 16(5):284-287.\n",
      "\n",
      "Attaching package: ‘clusterProfiler’\n",
      "\n",
      "The following object is masked from ‘package:purrr’:\n",
      "\n",
      "    simplify\n",
      "\n"
     ]
    }
   ],
   "source": [
    "library(tidyverse)\n",
    "library(clusterProfiler)\n",
    "library(BiocParallel)\n",
    "library(parallel)\n",
    "\n",
    "# Custom package\n",
    "library(rutils)"
   ]
  },
  {
   "cell_type": "code",
   "execution_count": 2,
   "metadata": {},
   "outputs": [],
   "source": [
    "n_cores <- detectCores() - 2\n",
    "BiocParallel::register(MulticoreParam(n_cores))"
   ]
  },
  {
   "cell_type": "code",
   "execution_count": 3,
   "metadata": {},
   "outputs": [],
   "source": [
    "dirs <- rutils::get_dev_directories(dev_paths_file = \"../dev_paths.txt\")\n",
    "unified_dsets <- c(\"unified_cervical_data\", \"unified_uterine_data\", \"unified_uterine_endometrial_data\")"
   ]
  },
  {
   "cell_type": "code",
   "execution_count": 4,
   "metadata": {},
   "outputs": [],
   "source": [
    "dset_idx <- 1"
   ]
  },
  {
   "cell_type": "code",
   "execution_count": 5,
   "metadata": {
    "collapsed": true,
    "jupyter": {
     "outputs_hidden": true
    }
   },
   "outputs": [
    {
     "name": "stderr",
     "output_type": "stream",
     "text": [
      "Parsed with column specification:\n",
      "cols(\n",
      "  .default = col_double(),\n",
      "  geneID = col_character(),\n",
      "  module = col_character()\n",
      ")\n",
      "See spec(...) for full column specifications.\n",
      "Parsed with column specification:\n",
      "cols(\n",
      "  module = col_character(),\n",
      "  figo_stage_1_cor = col_double(),\n",
      "  figo_stage_2_cor = col_double(),\n",
      "  figo_stage_3_cor = col_double(),\n",
      "  figo_stage_4_cor = col_double(),\n",
      "  figo_stage_1_pval = col_double(),\n",
      "  figo_stage_2_pval = col_double(),\n",
      "  figo_stage_3_pval = col_double(),\n",
      "  figo_stage_4_pval = col_double(),\n",
      "  figo_stage_1_qval = col_double(),\n",
      "  figo_stage_2_qval = col_double(),\n",
      "  figo_stage_3_qval = col_double(),\n",
      "  figo_stage_4_qval = col_double(),\n",
      "  vital_hr = col_double(),\n",
      "  vital_dev_cor = col_double(),\n",
      "  vital_pval = col_double(),\n",
      "  vital_qval = col_double()\n",
      ")\n",
      "Parsed with column specification:\n",
      "cols(\n",
      "  hugo_symbol = col_character(),\n",
      "  entrez_gene_id = col_double()\n",
      ")\n"
     ]
    }
   ],
   "source": [
    "network_mm_gs_df <- read_tsv(paste0(dirs$analysis_dir, \"/network/\", unified_dsets[dset_idx], \"_gene_mm_gs.tsv\"))\n",
    "network_me_sig_df <- read_tsv(paste0(dirs$analysis_dir, \"/network/\", unified_dsets[dset_idx], \"_eigengene_traits.tsv\"))\n",
    "gene2id <- read_tsv(paste0(dirs$data_dir, \"/\", unified_dsets[dset_idx], \"/hugo2entrez.tsv\"))"
   ]
  },
  {
   "cell_type": "code",
   "execution_count": 71,
   "metadata": {},
   "outputs": [],
   "source": [
    "target_trait <- \"figo_stage_1\"\n",
    "trait_qval <- paste0(target_trait, \"_qval\")\n",
    "trait_cor <- paste0(target_trait, \"_cor\")\n",
    "\n",
    "trait_sig_df <- network_me_sig_df %>%\n",
    "    dplyr::filter(!!as.name(trait_qval) < 0.05) %>%\n",
    "    dplyr::select(one_of(c(\"module\", trait_cor, trait_qval))) %>%\n",
    "    dplyr::rename_if(startsWith(colnames(.), target_trait), ~ gsub(\"^\", \"module_\", .)) %>%\n",
    "    inner_join(network_mm_gs_df, by = \"module\") %>%\n",
    "    # Only care about gene-module corr. with the ME of its assigned module\n",
    "    dplyr::mutate(mm_cor = !!as.name(paste0(.$module, \"_cor\"))) %>%\n",
    "    dplyr::mutate(mm_pval = !!as.name(paste0(.$module, \"_pval\"))) %>%\n",
    "#     dplyr::select(geneID, module, mm_cor, everything())\n",
    "    dplyr::select(one_of(c(\"geneID\", \"module\", \"mm_cor\", \"mm_pval\", paste0(\"module_\", trait_cor), paste0(\"module_\", trait_qval))))"
   ]
  },
  {
   "cell_type": "code",
   "execution_count": 7,
   "metadata": {},
   "outputs": [],
   "source": [
    "trait_sig_entrez_df <- trait_sig_df %>%\n",
    "    inner_join(gene2id, by = c(\"geneID\" = \"hugo_symbol\")) %>%\n",
    "    dplyr::select(geneID, entrez_gene_id, everything()) %>%\n",
    "    dplyr::filter((abs(mm_cor) > 0.50) & (mm_pval < 0.05))"
   ]
  },
  {
   "cell_type": "code",
   "execution_count": 60,
   "metadata": {},
   "outputs": [],
   "source": [
    "# trait_sig_entrez_df\n",
    "go_res <- enrichGO(trait_sig_entrez_df$entrez_gene_id, \"org.Hs.eg.db\", ont = \"ALL\", readable = TRUE)\n",
    "# head(go_res)"
   ]
  },
  {
   "cell_type": "code",
   "execution_count": 64,
   "metadata": {},
   "outputs": [],
   "source": [
    "go_df <- tibble(type = go_res$Description, count = go_res$Count, qval = go_res$qvalue, ont = go_res$ONTOLOGY)"
   ]
  },
  {
   "cell_type": "code",
   "execution_count": 65,
   "metadata": {
    "collapsed": true,
    "jupyter": {
     "outputs_hidden": true
    }
   },
   "outputs": [
    {
     "data": {
      "text/html": [
       "<table>\n",
       "<caption>A tibble: 36 × 4</caption>\n",
       "<thead>\n",
       "\t<tr><th scope=col>type</th><th scope=col>count</th><th scope=col>qval</th><th scope=col>ont</th></tr>\n",
       "\t<tr><th scope=col>&lt;chr&gt;</th><th scope=col>&lt;int&gt;</th><th scope=col>&lt;dbl&gt;</th><th scope=col>&lt;fct&gt;</th></tr>\n",
       "</thead>\n",
       "<tbody>\n",
       "\t<tr><td>O-glycan processing                                                      </td><td>7</td><td>5.539150e-11</td><td>BP</td></tr>\n",
       "\t<tr><td>innate immune response-activating signal transduction                    </td><td>9</td><td>9.499974e-10</td><td>BP</td></tr>\n",
       "\t<tr><td>protein O-linked glycosylation                                           </td><td>7</td><td>9.499974e-10</td><td>BP</td></tr>\n",
       "\t<tr><td>activation of innate immune response                                     </td><td>9</td><td>9.499974e-10</td><td>BP</td></tr>\n",
       "\t<tr><td>stimulatory C-type lectin receptor signaling pathway                     </td><td>7</td><td>9.499974e-10</td><td>BP</td></tr>\n",
       "\t<tr><td>innate immune response activating cell surface receptor signaling pathway</td><td>7</td><td>9.540481e-10</td><td>BP</td></tr>\n",
       "\t<tr><td>positive regulation of innate immune response                            </td><td>9</td><td>2.916598e-09</td><td>BP</td></tr>\n",
       "\t<tr><td>regulation of innate immune response                                     </td><td>9</td><td>1.160608e-08</td><td>BP</td></tr>\n",
       "\t<tr><td>protein glycosylation                                                    </td><td>7</td><td>1.564879e-07</td><td>BP</td></tr>\n",
       "\t<tr><td>macromolecule glycosylation                                              </td><td>7</td><td>1.564879e-07</td><td>BP</td></tr>\n",
       "\t<tr><td>glycosylation                                                            </td><td>7</td><td>1.899087e-07</td><td>BP</td></tr>\n",
       "\t<tr><td>glycoprotein biosynthetic process                                        </td><td>7</td><td>1.023754e-06</td><td>BP</td></tr>\n",
       "\t<tr><td>glycoprotein metabolic process                                           </td><td>7</td><td>3.351969e-06</td><td>BP</td></tr>\n",
       "\t<tr><td>immune response-activating cell surface receptor signaling pathway       </td><td>7</td><td>7.073219e-06</td><td>BP</td></tr>\n",
       "\t<tr><td>maintenance of gastrointestinal epithelium                               </td><td>3</td><td>2.442245e-05</td><td>BP</td></tr>\n",
       "\t<tr><td>epithelial structure maintenance                                         </td><td>3</td><td>6.256099e-05</td><td>BP</td></tr>\n",
       "\t<tr><td>tissue homeostasis                                                       </td><td>4</td><td>1.380700e-03</td><td>BP</td></tr>\n",
       "\t<tr><td>digestive system process                                                 </td><td>3</td><td>2.344382e-03</td><td>BP</td></tr>\n",
       "\t<tr><td>digestion                                                                </td><td>3</td><td>5.857773e-03</td><td>BP</td></tr>\n",
       "\t<tr><td>anatomical structure homeostasis                                         </td><td>4</td><td>1.412647e-02</td><td>BP</td></tr>\n",
       "\t<tr><td>multicellular organismal homeostasis                                     </td><td>4</td><td>1.977355e-02</td><td>BP</td></tr>\n",
       "\t<tr><td>negative regulation of endopeptidase activity                            </td><td>3</td><td>2.755038e-02</td><td>BP</td></tr>\n",
       "\t<tr><td>negative regulation of peptidase activity                                </td><td>3</td><td>3.010161e-02</td><td>BP</td></tr>\n",
       "\t<tr><td>Golgi lumen                                                              </td><td>7</td><td>2.412484e-10</td><td>CC</td></tr>\n",
       "\t<tr><td>collagen-containing extracellular matrix                                 </td><td>4</td><td>1.098824e-02</td><td>CC</td></tr>\n",
       "\t<tr><td>serine-type endopeptidase inhibitor activity                             </td><td>3</td><td>3.412067e-03</td><td>MF</td></tr>\n",
       "\t<tr><td>enzyme inhibitor activity                                                </td><td>4</td><td>3.920546e-03</td><td>MF</td></tr>\n",
       "\t<tr><td>extracellular matrix structural constituent                              </td><td>3</td><td>3.920546e-03</td><td>MF</td></tr>\n",
       "\t<tr><td>endopeptidase inhibitor activity                                         </td><td>3</td><td>3.920546e-03</td><td>MF</td></tr>\n",
       "\t<tr><td>peptidase inhibitor activity                                             </td><td>3</td><td>3.920546e-03</td><td>MF</td></tr>\n",
       "\t<tr><td>endopeptidase regulator activity                                         </td><td>3</td><td>3.920546e-03</td><td>MF</td></tr>\n",
       "\t<tr><td>calcium-dependent phospholipid binding                                   </td><td>2</td><td>4.536439e-03</td><td>MF</td></tr>\n",
       "\t<tr><td>peptidase regulator activity                                             </td><td>3</td><td>4.536439e-03</td><td>MF</td></tr>\n",
       "\t<tr><td>calcium-dependent protein binding                                        </td><td>2</td><td>4.536439e-03</td><td>MF</td></tr>\n",
       "\t<tr><td>glycosaminoglycan binding                                                </td><td>3</td><td>4.536439e-03</td><td>MF</td></tr>\n",
       "\t<tr><td>protease binding                                                         </td><td>2</td><td>1.716120e-02</td><td>MF</td></tr>\n",
       "</tbody>\n",
       "</table>\n"
      ],
      "text/latex": [
       "A tibble: 36 × 4\n",
       "\\begin{tabular}{llll}\n",
       " type & count & qval & ont\\\\\n",
       " <chr> & <int> & <dbl> & <fct>\\\\\n",
       "\\hline\n",
       "\t O-glycan processing                                                       & 7 & 5.539150e-11 & BP\\\\\n",
       "\t innate immune response-activating signal transduction                     & 9 & 9.499974e-10 & BP\\\\\n",
       "\t protein O-linked glycosylation                                            & 7 & 9.499974e-10 & BP\\\\\n",
       "\t activation of innate immune response                                      & 9 & 9.499974e-10 & BP\\\\\n",
       "\t stimulatory C-type lectin receptor signaling pathway                      & 7 & 9.499974e-10 & BP\\\\\n",
       "\t innate immune response activating cell surface receptor signaling pathway & 7 & 9.540481e-10 & BP\\\\\n",
       "\t positive regulation of innate immune response                             & 9 & 2.916598e-09 & BP\\\\\n",
       "\t regulation of innate immune response                                      & 9 & 1.160608e-08 & BP\\\\\n",
       "\t protein glycosylation                                                     & 7 & 1.564879e-07 & BP\\\\\n",
       "\t macromolecule glycosylation                                               & 7 & 1.564879e-07 & BP\\\\\n",
       "\t glycosylation                                                             & 7 & 1.899087e-07 & BP\\\\\n",
       "\t glycoprotein biosynthetic process                                         & 7 & 1.023754e-06 & BP\\\\\n",
       "\t glycoprotein metabolic process                                            & 7 & 3.351969e-06 & BP\\\\\n",
       "\t immune response-activating cell surface receptor signaling pathway        & 7 & 7.073219e-06 & BP\\\\\n",
       "\t maintenance of gastrointestinal epithelium                                & 3 & 2.442245e-05 & BP\\\\\n",
       "\t epithelial structure maintenance                                          & 3 & 6.256099e-05 & BP\\\\\n",
       "\t tissue homeostasis                                                        & 4 & 1.380700e-03 & BP\\\\\n",
       "\t digestive system process                                                  & 3 & 2.344382e-03 & BP\\\\\n",
       "\t digestion                                                                 & 3 & 5.857773e-03 & BP\\\\\n",
       "\t anatomical structure homeostasis                                          & 4 & 1.412647e-02 & BP\\\\\n",
       "\t multicellular organismal homeostasis                                      & 4 & 1.977355e-02 & BP\\\\\n",
       "\t negative regulation of endopeptidase activity                             & 3 & 2.755038e-02 & BP\\\\\n",
       "\t negative regulation of peptidase activity                                 & 3 & 3.010161e-02 & BP\\\\\n",
       "\t Golgi lumen                                                               & 7 & 2.412484e-10 & CC\\\\\n",
       "\t collagen-containing extracellular matrix                                  & 4 & 1.098824e-02 & CC\\\\\n",
       "\t serine-type endopeptidase inhibitor activity                              & 3 & 3.412067e-03 & MF\\\\\n",
       "\t enzyme inhibitor activity                                                 & 4 & 3.920546e-03 & MF\\\\\n",
       "\t extracellular matrix structural constituent                               & 3 & 3.920546e-03 & MF\\\\\n",
       "\t endopeptidase inhibitor activity                                          & 3 & 3.920546e-03 & MF\\\\\n",
       "\t peptidase inhibitor activity                                              & 3 & 3.920546e-03 & MF\\\\\n",
       "\t endopeptidase regulator activity                                          & 3 & 3.920546e-03 & MF\\\\\n",
       "\t calcium-dependent phospholipid binding                                    & 2 & 4.536439e-03 & MF\\\\\n",
       "\t peptidase regulator activity                                              & 3 & 4.536439e-03 & MF\\\\\n",
       "\t calcium-dependent protein binding                                         & 2 & 4.536439e-03 & MF\\\\\n",
       "\t glycosaminoglycan binding                                                 & 3 & 4.536439e-03 & MF\\\\\n",
       "\t protease binding                                                          & 2 & 1.716120e-02 & MF\\\\\n",
       "\\end{tabular}\n"
      ],
      "text/markdown": [
       "\n",
       "A tibble: 36 × 4\n",
       "\n",
       "| type &lt;chr&gt; | count &lt;int&gt; | qval &lt;dbl&gt; | ont &lt;fct&gt; |\n",
       "|---|---|---|---|\n",
       "| O-glycan processing                                                       | 7 | 5.539150e-11 | BP |\n",
       "| innate immune response-activating signal transduction                     | 9 | 9.499974e-10 | BP |\n",
       "| protein O-linked glycosylation                                            | 7 | 9.499974e-10 | BP |\n",
       "| activation of innate immune response                                      | 9 | 9.499974e-10 | BP |\n",
       "| stimulatory C-type lectin receptor signaling pathway                      | 7 | 9.499974e-10 | BP |\n",
       "| innate immune response activating cell surface receptor signaling pathway | 7 | 9.540481e-10 | BP |\n",
       "| positive regulation of innate immune response                             | 9 | 2.916598e-09 | BP |\n",
       "| regulation of innate immune response                                      | 9 | 1.160608e-08 | BP |\n",
       "| protein glycosylation                                                     | 7 | 1.564879e-07 | BP |\n",
       "| macromolecule glycosylation                                               | 7 | 1.564879e-07 | BP |\n",
       "| glycosylation                                                             | 7 | 1.899087e-07 | BP |\n",
       "| glycoprotein biosynthetic process                                         | 7 | 1.023754e-06 | BP |\n",
       "| glycoprotein metabolic process                                            | 7 | 3.351969e-06 | BP |\n",
       "| immune response-activating cell surface receptor signaling pathway        | 7 | 7.073219e-06 | BP |\n",
       "| maintenance of gastrointestinal epithelium                                | 3 | 2.442245e-05 | BP |\n",
       "| epithelial structure maintenance                                          | 3 | 6.256099e-05 | BP |\n",
       "| tissue homeostasis                                                        | 4 | 1.380700e-03 | BP |\n",
       "| digestive system process                                                  | 3 | 2.344382e-03 | BP |\n",
       "| digestion                                                                 | 3 | 5.857773e-03 | BP |\n",
       "| anatomical structure homeostasis                                          | 4 | 1.412647e-02 | BP |\n",
       "| multicellular organismal homeostasis                                      | 4 | 1.977355e-02 | BP |\n",
       "| negative regulation of endopeptidase activity                             | 3 | 2.755038e-02 | BP |\n",
       "| negative regulation of peptidase activity                                 | 3 | 3.010161e-02 | BP |\n",
       "| Golgi lumen                                                               | 7 | 2.412484e-10 | CC |\n",
       "| collagen-containing extracellular matrix                                  | 4 | 1.098824e-02 | CC |\n",
       "| serine-type endopeptidase inhibitor activity                              | 3 | 3.412067e-03 | MF |\n",
       "| enzyme inhibitor activity                                                 | 4 | 3.920546e-03 | MF |\n",
       "| extracellular matrix structural constituent                               | 3 | 3.920546e-03 | MF |\n",
       "| endopeptidase inhibitor activity                                          | 3 | 3.920546e-03 | MF |\n",
       "| peptidase inhibitor activity                                              | 3 | 3.920546e-03 | MF |\n",
       "| endopeptidase regulator activity                                          | 3 | 3.920546e-03 | MF |\n",
       "| calcium-dependent phospholipid binding                                    | 2 | 4.536439e-03 | MF |\n",
       "| peptidase regulator activity                                              | 3 | 4.536439e-03 | MF |\n",
       "| calcium-dependent protein binding                                         | 2 | 4.536439e-03 | MF |\n",
       "| glycosaminoglycan binding                                                 | 3 | 4.536439e-03 | MF |\n",
       "| protease binding                                                          | 2 | 1.716120e-02 | MF |\n",
       "\n"
      ],
      "text/plain": [
       "   type                                                                     \n",
       "1  O-glycan processing                                                      \n",
       "2  innate immune response-activating signal transduction                    \n",
       "3  protein O-linked glycosylation                                           \n",
       "4  activation of innate immune response                                     \n",
       "5  stimulatory C-type lectin receptor signaling pathway                     \n",
       "6  innate immune response activating cell surface receptor signaling pathway\n",
       "7  positive regulation of innate immune response                            \n",
       "8  regulation of innate immune response                                     \n",
       "9  protein glycosylation                                                    \n",
       "10 macromolecule glycosylation                                              \n",
       "11 glycosylation                                                            \n",
       "12 glycoprotein biosynthetic process                                        \n",
       "13 glycoprotein metabolic process                                           \n",
       "14 immune response-activating cell surface receptor signaling pathway       \n",
       "15 maintenance of gastrointestinal epithelium                               \n",
       "16 epithelial structure maintenance                                         \n",
       "17 tissue homeostasis                                                       \n",
       "18 digestive system process                                                 \n",
       "19 digestion                                                                \n",
       "20 anatomical structure homeostasis                                         \n",
       "21 multicellular organismal homeostasis                                     \n",
       "22 negative regulation of endopeptidase activity                            \n",
       "23 negative regulation of peptidase activity                                \n",
       "24 Golgi lumen                                                              \n",
       "25 collagen-containing extracellular matrix                                 \n",
       "26 serine-type endopeptidase inhibitor activity                             \n",
       "27 enzyme inhibitor activity                                                \n",
       "28 extracellular matrix structural constituent                              \n",
       "29 endopeptidase inhibitor activity                                         \n",
       "30 peptidase inhibitor activity                                             \n",
       "31 endopeptidase regulator activity                                         \n",
       "32 calcium-dependent phospholipid binding                                   \n",
       "33 peptidase regulator activity                                             \n",
       "34 calcium-dependent protein binding                                        \n",
       "35 glycosaminoglycan binding                                                \n",
       "36 protease binding                                                         \n",
       "   count qval         ont\n",
       "1  7     5.539150e-11 BP \n",
       "2  9     9.499974e-10 BP \n",
       "3  7     9.499974e-10 BP \n",
       "4  9     9.499974e-10 BP \n",
       "5  7     9.499974e-10 BP \n",
       "6  7     9.540481e-10 BP \n",
       "7  9     2.916598e-09 BP \n",
       "8  9     1.160608e-08 BP \n",
       "9  7     1.564879e-07 BP \n",
       "10 7     1.564879e-07 BP \n",
       "11 7     1.899087e-07 BP \n",
       "12 7     1.023754e-06 BP \n",
       "13 7     3.351969e-06 BP \n",
       "14 7     7.073219e-06 BP \n",
       "15 3     2.442245e-05 BP \n",
       "16 3     6.256099e-05 BP \n",
       "17 4     1.380700e-03 BP \n",
       "18 3     2.344382e-03 BP \n",
       "19 3     5.857773e-03 BP \n",
       "20 4     1.412647e-02 BP \n",
       "21 4     1.977355e-02 BP \n",
       "22 3     2.755038e-02 BP \n",
       "23 3     3.010161e-02 BP \n",
       "24 7     2.412484e-10 CC \n",
       "25 4     1.098824e-02 CC \n",
       "26 3     3.412067e-03 MF \n",
       "27 4     3.920546e-03 MF \n",
       "28 3     3.920546e-03 MF \n",
       "29 3     3.920546e-03 MF \n",
       "30 3     3.920546e-03 MF \n",
       "31 3     3.920546e-03 MF \n",
       "32 2     4.536439e-03 MF \n",
       "33 3     4.536439e-03 MF \n",
       "34 2     4.536439e-03 MF \n",
       "35 3     4.536439e-03 MF \n",
       "36 2     1.716120e-02 MF "
      ]
     },
     "metadata": {},
     "output_type": "display_data"
    }
   ],
   "source": [
    "go_df"
   ]
  },
  {
   "cell_type": "code",
   "execution_count": 69,
   "metadata": {},
   "outputs": [
    {
     "name": "stderr",
     "output_type": "stream",
     "text": [
      "Saving 6.67 x 6.67 in image\n"
     ]
    },
    {
     "data": {
      "image/png": "[encoded data removed]",
      "text/plain": [
       "plot without title"
      ]
     },
     "metadata": {},
     "output_type": "display_data"
    }
   ],
   "source": [
    "ggplot(go_df) +\n",
    "    geom_bar(aes(x = reorder(type, (-log10(qval))), y = -log10(qval), fill = ont), stat = \"identity\") +\n",
    "    theme_classic() +\n",
    "    theme(\n",
    "        axis.title.y = element_blank()\n",
    "    ) +\n",
    "    labs(y = expression(\"-log\"[10]*\"(q-value)\"), fill = \"Ontology\") +\n",
    "    coord_flip()\n",
    "ggsave(filename = paste0(dirs$figures_dir, \"/enrichment/\", unified_dsets[dset_idx], \"_\", target_trait, \"_gene_enrichment.png\"), last_plot())"
   ]
  },
  {
   "cell_type": "code",
   "execution_count": null,
   "metadata": {},
   "outputs": [],
   "source": []
  }
 ],
 "metadata": {
  "kernelspec": {
   "display_name": "R",
   "language": "R",
   "name": "ir"
  },
  "language_info": {
   "codemirror_mode": "r",
   "file_extension": ".r",
   "mimetype": "text/x-r-source",
   "name": "R",
   "pygments_lexer": "r",
   "version": "3.6.3"
  }
 },
 "nbformat": 4,
 "nbformat_minor": 4
}
