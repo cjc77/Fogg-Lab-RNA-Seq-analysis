{
 "cells": [
  {
   "cell_type": "code",
   "execution_count": 1,
   "metadata": {},
   "outputs": [
    {
     "name": "stderr",
     "output_type": "stream",
     "text": [
      "── Attaching packages ─────────────────────────────────────── tidyverse 1.3.0 ──\n",
      "✔ ggplot2 3.3.2     ✔ purrr   0.3.4\n",
      "✔ tibble  3.0.3     ✔ dplyr   1.0.0\n",
      "✔ tidyr   1.1.0     ✔ stringr 1.4.0\n",
      "✔ readr   1.3.1     ✔ forcats 0.5.0\n",
      "── Conflicts ────────────────────────────────────────── tidyverse_conflicts() ──\n",
      "✖ dplyr::filter() masks stats::filter()\n",
      "✖ dplyr::lag()    masks stats::lag()\n"
     ]
    }
   ],
   "source": [
    "library(tidyverse)\n",
    "\n",
    "# Custom package\n",
    "library(rutils)"
   ]
  },
  {
   "cell_type": "code",
   "execution_count": 2,
   "metadata": {},
   "outputs": [],
   "source": [
    "dirs <- rutils::get_dev_directories(dev_paths_file = \"../dev_paths.txt\")\n",
    "unified_dsets <- c(\"unified_cervical_data\", \"unified_uterine_data\", \"unified_uterine_endometrial_data\")"
   ]
  },
  {
   "cell_type": "code",
   "execution_count": 3,
   "metadata": {},
   "outputs": [],
   "source": [
    "dset_idx <- 1"
   ]
  },
  {
   "cell_type": "code",
   "execution_count": 18,
   "metadata": {},
   "outputs": [
    {
     "name": "stderr",
     "output_type": "stream",
     "text": [
      "Parsed with column specification:\n",
      "cols(\n",
      "  .default = col_double(),\n",
      "  geneID = col_character(),\n",
      "  module = col_character()\n",
      ")\n",
      "See spec(...) for full column specifications.\n",
      "Parsed with column specification:\n",
      "cols(\n",
      "  module = col_character(),\n",
      "  figo_stage_1_cor = col_double(),\n",
      "  figo_stage_2_cor = col_double(),\n",
      "  figo_stage_3_cor = col_double(),\n",
      "  figo_stage_4_cor = col_double(),\n",
      "  figo_stage_1_pval = col_double(),\n",
      "  figo_stage_2_pval = col_double(),\n",
      "  figo_stage_3_pval = col_double(),\n",
      "  figo_stage_4_pval = col_double(),\n",
      "  figo_stage_1_qval = col_double(),\n",
      "  figo_stage_2_qval = col_double(),\n",
      "  figo_stage_3_qval = col_double(),\n",
      "  figo_stage_4_qval = col_double(),\n",
      "  vital_hr = col_double(),\n",
      "  vital_pval = col_double(),\n",
      "  vital_qval = col_double()\n",
      ")\n"
     ]
    }
   ],
   "source": [
    "network_mm_gs_df <- read_tsv(paste0(dirs$analysis_dir, \"/network/\", unified_dsets[dset_idx], \"_gene_mm_gs.tsv\"))\n",
    "network_me_sig_df <- read_tsv(paste0(dirs$analysis_dir, \"/network/\", unified_dsets[dset_idx], \"_eigengene_traits.tsv\"))"
   ]
  },
  {
   "cell_type": "code",
   "execution_count": 22,
   "metadata": {},
   "outputs": [
    {
     "data": {
      "text/html": [
       "<style>\n",
       ".list-inline {list-style: none; margin:0; padding: 0}\n",
       ".list-inline>li {display: inline-block}\n",
       ".list-inline>li:not(:last-child)::after {content: \"\\00b7\"; padding: 0 .5ex}\n",
       "</style>\n",
       "<ol class=list-inline><li>FALSE</li><li>TRUE</li></ol>\n"
      ],
      "text/latex": [
       "\\begin{enumerate*}\n",
       "\\item FALSE\n",
       "\\item TRUE\n",
       "\\end{enumerate*}\n"
      ],
      "text/markdown": [
       "1. FALSE\n",
       "2. TRUE\n",
       "\n",
       "\n"
      ],
      "text/plain": [
       "[1] FALSE  TRUE"
      ]
     },
     "metadata": {},
     "output_type": "display_data"
    }
   ],
   "source": [
    "grepl(\"ap\", c(\"pear\",\"apple\"))"
   ]
  },
  {
   "cell_type": "code",
   "execution_count": 25,
   "metadata": {},
   "outputs": [
    {
     "data": {
      "text/html": [
       "<table>\n",
       "<caption>A tibble: 11 × 4</caption>\n",
       "<thead>\n",
       "\t<tr><th scope=col>module</th><th scope=col>figo_stage_1_cor</th><th scope=col>figo_stage_1_pval</th><th scope=col>figo_stage_1_qval</th></tr>\n",
       "\t<tr><th scope=col>&lt;chr&gt;</th><th scope=col>&lt;dbl&gt;</th><th scope=col>&lt;dbl&gt;</th><th scope=col>&lt;dbl&gt;</th></tr>\n",
       "</thead>\n",
       "<tbody>\n",
       "\t<tr><td>blue     </td><td>-0.130419646</td><td>0.037406435</td><td>0.07637963</td></tr>\n",
       "\t<tr><td>green    </td><td>-0.069146586</td><td>0.271299563</td><td>0.32291313</td></tr>\n",
       "\t<tr><td>purple   </td><td> 0.034966554</td><td>0.578349099</td><td>0.36103912</td></tr>\n",
       "\t<tr><td>magenta  </td><td> 0.034817860</td><td>0.579967054</td><td>0.36103912</td></tr>\n",
       "\t<tr><td>pink     </td><td> 0.189387367</td><td>0.002389876</td><td>0.01463956</td></tr>\n",
       "\t<tr><td>red      </td><td> 0.169077826</td><td>0.006805758</td><td>0.02084486</td></tr>\n",
       "\t<tr><td>black    </td><td>-0.102602181</td><td>0.102113494</td><td>0.15637799</td></tr>\n",
       "\t<tr><td>yellow   </td><td>-0.004098473</td><td>0.948073604</td><td>0.52796102</td></tr>\n",
       "\t<tr><td>brown    </td><td> 0.063001885</td><td>0.316289270</td><td>0.32291313</td></tr>\n",
       "\t<tr><td>turquoise</td><td>-0.051069808</td><td>0.416767076</td><td>0.36103912</td></tr>\n",
       "\t<tr><td>grey     </td><td>-0.033955791</td><td>0.589388654</td><td>0.36103912</td></tr>\n",
       "</tbody>\n",
       "</table>\n"
      ],
      "text/latex": [
       "A tibble: 11 × 4\n",
       "\\begin{tabular}{llll}\n",
       " module & figo\\_stage\\_1\\_cor & figo\\_stage\\_1\\_pval & figo\\_stage\\_1\\_qval\\\\\n",
       " <chr> & <dbl> & <dbl> & <dbl>\\\\\n",
       "\\hline\n",
       "\t blue      & -0.130419646 & 0.037406435 & 0.07637963\\\\\n",
       "\t green     & -0.069146586 & 0.271299563 & 0.32291313\\\\\n",
       "\t purple    &  0.034966554 & 0.578349099 & 0.36103912\\\\\n",
       "\t magenta   &  0.034817860 & 0.579967054 & 0.36103912\\\\\n",
       "\t pink      &  0.189387367 & 0.002389876 & 0.01463956\\\\\n",
       "\t red       &  0.169077826 & 0.006805758 & 0.02084486\\\\\n",
       "\t black     & -0.102602181 & 0.102113494 & 0.15637799\\\\\n",
       "\t yellow    & -0.004098473 & 0.948073604 & 0.52796102\\\\\n",
       "\t brown     &  0.063001885 & 0.316289270 & 0.32291313\\\\\n",
       "\t turquoise & -0.051069808 & 0.416767076 & 0.36103912\\\\\n",
       "\t grey      & -0.033955791 & 0.589388654 & 0.36103912\\\\\n",
       "\\end{tabular}\n"
      ],
      "text/markdown": [
       "\n",
       "A tibble: 11 × 4\n",
       "\n",
       "| module &lt;chr&gt; | figo_stage_1_cor &lt;dbl&gt; | figo_stage_1_pval &lt;dbl&gt; | figo_stage_1_qval &lt;dbl&gt; |\n",
       "|---|---|---|---|\n",
       "| blue      | -0.130419646 | 0.037406435 | 0.07637963 |\n",
       "| green     | -0.069146586 | 0.271299563 | 0.32291313 |\n",
       "| purple    |  0.034966554 | 0.578349099 | 0.36103912 |\n",
       "| magenta   |  0.034817860 | 0.579967054 | 0.36103912 |\n",
       "| pink      |  0.189387367 | 0.002389876 | 0.01463956 |\n",
       "| red       |  0.169077826 | 0.006805758 | 0.02084486 |\n",
       "| black     | -0.102602181 | 0.102113494 | 0.15637799 |\n",
       "| yellow    | -0.004098473 | 0.948073604 | 0.52796102 |\n",
       "| brown     |  0.063001885 | 0.316289270 | 0.32291313 |\n",
       "| turquoise | -0.051069808 | 0.416767076 | 0.36103912 |\n",
       "| grey      | -0.033955791 | 0.589388654 | 0.36103912 |\n",
       "\n"
      ],
      "text/plain": [
       "   module    figo_stage_1_cor figo_stage_1_pval figo_stage_1_qval\n",
       "1  blue      -0.130419646     0.037406435       0.07637963       \n",
       "2  green     -0.069146586     0.271299563       0.32291313       \n",
       "3  purple     0.034966554     0.578349099       0.36103912       \n",
       "4  magenta    0.034817860     0.579967054       0.36103912       \n",
       "5  pink       0.189387367     0.002389876       0.01463956       \n",
       "6  red        0.169077826     0.006805758       0.02084486       \n",
       "7  black     -0.102602181     0.102113494       0.15637799       \n",
       "8  yellow    -0.004098473     0.948073604       0.52796102       \n",
       "9  brown      0.063001885     0.316289270       0.32291313       \n",
       "10 turquoise -0.051069808     0.416767076       0.36103912       \n",
       "11 grey      -0.033955791     0.589388654       0.36103912       "
      ]
     },
     "metadata": {},
     "output_type": "display_data"
    }
   ],
   "source": [
    "target_trait <- \"figo_stage_1\"\n",
    "network_me_sig_df %>%\n",
    "    dplyr::select(one_of(\"module\", colnames(.)[grepl(target_trait, colnames(.))]))"
   ]
  },
  {
   "cell_type": "code",
   "execution_count": null,
   "metadata": {},
   "outputs": [],
   "source": []
  }
 ],
 "metadata": {
  "kernelspec": {
   "display_name": "R",
   "language": "R",
   "name": "ir"
  },
  "language_info": {
   "codemirror_mode": "r",
   "file_extension": ".r",
   "mimetype": "text/x-r-source",
   "name": "R",
   "pygments_lexer": "r",
   "version": "3.6.3"
  }
 },
 "nbformat": 4,
 "nbformat_minor": 4
}
