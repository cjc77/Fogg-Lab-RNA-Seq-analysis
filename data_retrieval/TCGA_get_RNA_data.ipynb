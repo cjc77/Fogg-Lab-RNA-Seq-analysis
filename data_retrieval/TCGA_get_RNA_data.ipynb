{
 "cells": [
  {
   "cell_type": "code",
   "execution_count": 2,
   "metadata": {
    "collapsed": true,
    "jupyter": {
     "outputs_hidden": true
    }
   },
   "outputs": [
    {
     "name": "stderr",
     "output_type": "stream",
     "text": [
      "── Attaching packages ─────────────────────────────────────── tidyverse 1.3.0 ──\n",
      "✔ ggplot2 3.3.2     ✔ purrr   0.3.4\n",
      "✔ tibble  3.0.3     ✔ dplyr   1.0.0\n",
      "✔ tidyr   1.1.0     ✔ stringr 1.4.0\n",
      "✔ readr   1.3.1     ✔ forcats 0.5.0\n",
      "── Conflicts ────────────────────────────────────────── tidyverse_conflicts() ──\n",
      "✖ dplyr::filter() masks stats::filter()\n",
      "✖ dplyr::lag()    masks stats::lag()\n",
      "Loading required package: DelayedArray\n",
      "Loading required package: stats4\n",
      "Loading required package: matrixStats\n",
      "\n",
      "Attaching package: ‘matrixStats’\n",
      "\n",
      "The following object is masked from ‘package:dplyr’:\n",
      "\n",
      "    count\n",
      "\n",
      "Loading required package: BiocGenerics\n",
      "Loading required package: parallel\n",
      "\n",
      "Attaching package: ‘BiocGenerics’\n",
      "\n",
      "The following objects are masked from ‘package:parallel’:\n",
      "\n",
      "    clusterApply, clusterApplyLB, clusterCall, clusterEvalQ,\n",
      "    clusterExport, clusterMap, parApply, parCapply, parLapply,\n",
      "    parLapplyLB, parRapply, parSapply, parSapplyLB\n",
      "\n",
      "The following objects are masked from ‘package:dplyr’:\n",
      "\n",
      "    combine, intersect, setdiff, union\n",
      "\n",
      "The following objects are masked from ‘package:stats’:\n",
      "\n",
      "    IQR, mad, sd, var, xtabs\n",
      "\n",
      "The following objects are masked from ‘package:base’:\n",
      "\n",
      "    anyDuplicated, append, as.data.frame, basename, cbind, colnames,\n",
      "    dirname, do.call, duplicated, eval, evalq, Filter, Find, get, grep,\n",
      "    grepl, intersect, is.unsorted, lapply, Map, mapply, match, mget,\n",
      "    order, paste, pmax, pmax.int, pmin, pmin.int, Position, rank,\n",
      "    rbind, Reduce, rownames, sapply, setdiff, sort, table, tapply,\n",
      "    union, unique, unsplit, which, which.max, which.min\n",
      "\n",
      "Loading required package: S4Vectors\n",
      "\n",
      "Attaching package: ‘S4Vectors’\n",
      "\n",
      "The following objects are masked from ‘package:dplyr’:\n",
      "\n",
      "    first, rename\n",
      "\n",
      "The following object is masked from ‘package:tidyr’:\n",
      "\n",
      "    expand\n",
      "\n",
      "The following object is masked from ‘package:base’:\n",
      "\n",
      "    expand.grid\n",
      "\n",
      "Loading required package: IRanges\n",
      "\n",
      "Attaching package: ‘IRanges’\n",
      "\n",
      "The following objects are masked from ‘package:dplyr’:\n",
      "\n",
      "    collapse, desc, slice\n",
      "\n",
      "The following object is masked from ‘package:purrr’:\n",
      "\n",
      "    reduce\n",
      "\n",
      "Loading required package: BiocParallel\n",
      "\n",
      "Attaching package: ‘DelayedArray’\n",
      "\n",
      "The following objects are masked from ‘package:matrixStats’:\n",
      "\n",
      "    colMaxs, colMins, colRanges, rowMaxs, rowMins, rowRanges\n",
      "\n",
      "The following object is masked from ‘package:purrr’:\n",
      "\n",
      "    simplify\n",
      "\n",
      "The following objects are masked from ‘package:base’:\n",
      "\n",
      "    aperm, apply, rowsum\n",
      "\n",
      "Loading required package: rhdf5\n",
      "Loading required package: GenomicRanges\n",
      "Loading required package: GenomeInfoDb\n",
      "Loading required package: Biobase\n",
      "Welcome to Bioconductor\n",
      "\n",
      "    Vignettes contain introductory material; view with\n",
      "    'browseVignettes()'. To cite Bioconductor, see\n",
      "    'citation(\"Biobase\")', and for packages 'citation(\"pkgname\")'.\n",
      "\n",
      "\n",
      "Attaching package: ‘Biobase’\n",
      "\n",
      "The following objects are masked from ‘package:matrixStats’:\n",
      "\n",
      "    anyMissing, rowMedians\n",
      "\n"
     ]
    }
   ],
   "source": [
    "library(tidyverse)\n",
    "library(TCGAbiolinks)\n",
    "library(HDF5Array)\n",
    "library(SummarizedExperiment)\n",
    "\n",
    "# Custom package\n",
    "library(rutils)"
   ]
  },
  {
   "cell_type": "markdown",
   "metadata": {},
   "source": [
    "# Constants"
   ]
  },
  {
   "cell_type": "code",
   "execution_count": 3,
   "metadata": {},
   "outputs": [],
   "source": [
    "dirs <- rutils::get_dev_directories(dev_paths_file = \"../dev_paths.txt\")\n",
    "projects <- c(\n",
    "    \"TCGA-CESC\", \"TCGA-OV\", \"TCGA-UCS\", \"TCGA-UCEC\", \"TCGA-BRCA\", \"TCGA-COAD\", \"TCGA-LGG\", \"TCGA-TGCT\", \"TCGA-PRAD\"\n",
    ")\n",
    "project_paths <- unlist(map(projects, function(prj) paste0(dirs$data_dir, \"/\", prj)))\n",
    "biolinks_dir <- \"tcga_biolinks_downloads\"\n",
    "RSE_objects_dir <- \"saved_RSE_objects\"\n",
    "TCGA_dest_dir <- paste0(dirs$data_dir, \"/\", biolinks_dir)\n",
    "RSE_objects_dest_dir <- paste0(dirs$data_dir, \"/\", RSE_objects_dir)"
   ]
  },
  {
   "cell_type": "markdown",
   "metadata": {},
   "source": [
    "# Functions"
   ]
  },
  {
   "cell_type": "code",
   "execution_count": 4,
   "metadata": {},
   "outputs": [],
   "source": [
    "rna_seq_query <- function(p) {\n",
    "    return(GDCquery(\n",
    "        project = p,\n",
    "        data.category = \"Transcriptome Profiling\",\n",
    "        data.type = \"Gene Expression Quantification\",\n",
    "        workflow.type = \"HTSeq - Counts\"\n",
    "    ))\n",
    "}\n",
    "\n",
    "\n",
    "prep_and_save_count_data <- function(rses, label_field, dest_dir, dest_subdir) {\n",
    "    id_symbol_map <- as_tibble(rowData(rses[[1]]))\n",
    "    \n",
    "    # Does the matrix data directory exist? If not, create it\n",
    "    dir.create(paste0(dest_dir, \"/\", dest_subdir))\n",
    "    \n",
    "    for (n in names(rses)) {\n",
    "        counts_df <- assays(rses[[n]])[[\"HTSeq - Counts\"]] %>%\n",
    "            as_tibble(rownames = \"ensembl_gene_id\") %>%\n",
    "            inner_join(id_symbol_map, by = \"ensembl_gene_id\") %>%\n",
    "            dplyr::select(ensembl_gene_id, external_gene_name, everything()) %>%\n",
    "            dplyr::select(-original_ensembl_gene_id)\n",
    "        \n",
    "        condition_labels <- rses[[n]][[label_field]]\n",
    "        coldata_df <- as_tibble(colnames(counts_df)[-c(1:2)]) %>%\n",
    "            dplyr::rename(sample_name = value) %>%\n",
    "            mutate(condition = condition_labels) %>%\n",
    "            mutate(project = n)\n",
    "        \n",
    "        write_tsv(counts_df, path = paste0(dest_dir, \"/\", dest_subdir, \"/\", n, \"_counts.tsv\"))\n",
    "        write_tsv(coldata_df, path = paste0(dest_dir, \"/\", dest_subdir, \"/\", n, \"_coldata.tsv\"))\n",
    "    }\n",
    "}"
   ]
  },
  {
   "cell_type": "markdown",
   "metadata": {},
   "source": [
    "# Download and save data\n",
    "No loops used here since API is really finicky and quits abruptly"
   ]
  },
  {
   "cell_type": "code",
   "execution_count": null,
   "metadata": {},
   "outputs": [],
   "source": [
    "proj_idx <- 1\n",
    "q <- rna_seq_query(projects[proj_idx])\n",
    "GDCdownload(q, method = \"api\", directory = TCGA_dest_dir, files.per.chunk = 10)\n",
    "data <- GDCprepare(q, directory = TCGA_dest_dir)\n",
    "data\n",
    "saveHDF5SummarizedExperiment(data, dir = RSE_objects_dest_dir, prefix = paste0(projects[proj_idx], \"_RNA_\"))"
   ]
  },
  {
   "cell_type": "code",
   "execution_count": null,
   "metadata": {},
   "outputs": [],
   "source": [
    "proj_idx <- 2\n",
    "q <- rna_seq_query(projects[proj_idx])\n",
    "GDCdownload(q, method = \"api\", directory = TCGA_dest_dir, files.per.chunk = 10)\n",
    "data <- GDCprepare(q, directory = TCGA_dest_dir)\n",
    "data\n",
    "saveHDF5SummarizedExperiment(data, dir = RSE_objects_dest_dir, prefix = paste0(projects[proj_idx], \"_RNA_\"))"
   ]
  },
  {
   "cell_type": "code",
   "execution_count": null,
   "metadata": {},
   "outputs": [],
   "source": [
    "proj_idx <- 3\n",
    "q <- rna_seq_query(projects[proj_idx])\n",
    "GDCdownload(q, method = \"api\", directory = TCGA_dest_dir, files.per.chunk = 10)\n",
    "data <- GDCprepare(q, directory = TCGA_dest_dir)\n",
    "data\n",
    "saveHDF5SummarizedExperiment(data, dir = RSE_objects_dest_dir, prefix = paste0(projects[proj_idx], \"_RNA_\"))"
   ]
  },
  {
   "cell_type": "code",
   "execution_count": null,
   "metadata": {},
   "outputs": [],
   "source": [
    "proj_idx <- 4\n",
    "q <- rna_seq_query(projects[proj_idx])\n",
    "GDCdownload(q, method = \"api\", directory = TCGA_dest_dir, files.per.chunk = 10)\n",
    "data <- GDCprepare(q, directory = TCGA_dest_dir)\n",
    "data\n",
    "saveHDF5SummarizedExperiment(data, dir = RSE_objects_dest_dir, prefix = paste0(projects[proj_idx], \"_RNA_\"))"
   ]
  },
  {
   "cell_type": "code",
   "execution_count": null,
   "metadata": {},
   "outputs": [],
   "source": [
    "proj_idx <- 5\n",
    "q <- rna_seq_query(projects[proj_idx])\n",
    "GDCdownload(q, method = \"api\", directory = TCGA_dest_dir, files.per.chunk = 10)\n",
    "data <- GDCprepare(q, directory = TCGA_dest_dir)\n",
    "data\n",
    "saveHDF5SummarizedExperiment(data, dir = RSE_objects_dest_dir, prefix = paste0(projects[proj_idx], \"_RNA_\"))"
   ]
  },
  {
   "cell_type": "code",
   "execution_count": 5,
   "metadata": {
    "collapsed": true,
    "jupyter": {
     "outputs_hidden": true
    }
   },
   "outputs": [
    {
     "name": "stderr",
     "output_type": "stream",
     "text": [
      "--------------------------------------\n",
      "o GDCquery: Searching in GDC database\n",
      "--------------------------------------\n",
      "Genome of reference: hg38\n",
      "--------------------------------------------\n",
      "oo Accessing GDC. This might take a while...\n",
      "--------------------------------------------\n",
      "ooo Project: TCGA-COAD\n",
      "--------------------\n",
      "oo Filtering results\n",
      "--------------------\n",
      "ooo By data.type\n",
      "ooo By workflow.type\n",
      "----------------\n",
      "oo Checking data\n",
      "----------------\n",
      "ooo Check if there are duplicated cases\n",
      "ooo Check if there results for the query\n",
      "-------------------\n",
      "o Preparing output\n",
      "-------------------\n",
      "Downloading data for project TCGA-COAD\n",
      "Of the 521 files for download 520 already exist.\n",
      "We will download only those that are missing ones.\n",
      "GDCdownload will download: 248.513 KB\n",
      "Downloading chunk 1 of 1 (1 files, size = 248.513 KB) as b39f2bfa-5d4b-4bbe-9870-a93efff7bc5c.htseq.counts.gz\n"
     ]
    },
    {
     "name": "stdout",
     "output_type": "stream",
     "text": [
      "  |======================================================================| 100%\n",
      "|====================================================|100%                      Completed after 46 s \n"
     ]
    },
    {
     "name": "stderr",
     "output_type": "stream",
     "text": [
      "Starting to add information to samples\n",
      " => Add clinical information to samples\n",
      "Add FFPE information. More information at: \n",
      "=> https://cancergenome.nih.gov/cancersselected/biospeccriteria \n",
      "=> http://gdac.broadinstitute.org/runs/sampleReports/latest/FPPP_FFPE_Cases.html\n",
      " => Adding subtype information to samples\n",
      "coad subtype information from:doi:10.1038/nature11252\n",
      "Accessing www.ensembl.org to get gene information\n",
      "Downloading genome information (try:0) Using: Human genes (GRCh38.p13)\n",
      "Warning message:\n",
      "“`select_()` is deprecated as of dplyr 0.7.0.\n",
      "Please use `select()` instead.\n",
      "This warning is displayed once every 8 hours.\n",
      "Call `lifecycle::last_warnings()` to see where this warning was generated.”Warning message:\n",
      "“`filter_()` is deprecated as of dplyr 0.7.0.\n",
      "Please use `filter()` instead.\n",
      "See vignette('programming') for more help\n",
      "This warning is displayed once every 8 hours.\n",
      "Call `lifecycle::last_warnings()` to see where this warning was generated.”Cache found\n",
      "From the 60483 genes we couldn't map 4026\n"
     ]
    },
    {
     "data": {
      "text/plain": [
       "class: RangedSummarizedExperiment \n",
       "dim: 56457 521 \n",
       "metadata(1): data_release\n",
       "assays(1): HTSeq - Counts\n",
       "rownames(56457): ENSG00000000003 ENSG00000000005 ... ENSG00000281912\n",
       "  ENSG00000281920\n",
       "rowData names(3): ensembl_gene_id external_gene_name\n",
       "  original_ensembl_gene_id\n",
       "colnames(521): TCGA-AA-3664-01A-01R-0905-07\n",
       "  TCGA-AZ-4313-01A-01R-1410-07 ... TCGA-AZ-6603-01A-11R-1839-07\n",
       "  TCGA-AZ-5403-01A-01R-1653-07\n",
       "colData names(112): sample patient ...\n",
       "  subtype_vascular_invasion_present subtype_vital_status"
      ]
     },
     "metadata": {},
     "output_type": "display_data"
    }
   ],
   "source": [
    "proj_idx <- 6\n",
    "q <- rna_seq_query(projects[proj_idx])\n",
    "GDCdownload(q, method = \"api\", directory = TCGA_dest_dir, files.per.chunk = 10)\n",
    "data <- GDCprepare(q, directory = TCGA_dest_dir)\n",
    "data\n",
    "saveHDF5SummarizedExperiment(data, dir = RSE_objects_dest_dir, prefix = paste0(projects[proj_idx], \"_RNA_\"))"
   ]
  },
  {
   "cell_type": "code",
   "execution_count": 9,
   "metadata": {
    "collapsed": true,
    "jupyter": {
     "outputs_hidden": true
    }
   },
   "outputs": [
    {
     "name": "stderr",
     "output_type": "stream",
     "text": [
      "--------------------------------------\n",
      "o GDCquery: Searching in GDC database\n",
      "--------------------------------------\n",
      "Genome of reference: hg38\n",
      "--------------------------------------------\n",
      "oo Accessing GDC. This might take a while...\n",
      "--------------------------------------------\n",
      "ooo Project: TCGA-LGG\n",
      "--------------------\n",
      "oo Filtering results\n",
      "--------------------\n",
      "ooo By data.type\n",
      "ooo By workflow.type\n",
      "----------------\n",
      "oo Checking data\n",
      "----------------\n",
      "ooo Check if there are duplicated cases\n",
      "ooo Check if there results for the query\n",
      "-------------------\n",
      "o Preparing output\n",
      "-------------------\n",
      "Downloading data for project TCGA-LGG\n",
      "GDCdownload will download 529 files. A total of 135.012244 MB\n",
      "Downloading chunk 1 of 53 (10 files, size = 2.553462 MB) as Wed_Sep_16_14_14_59_2020_0.tar.gz\n"
     ]
    },
    {
     "name": "stdout",
     "output_type": "stream",
     "text": [
      "Downloading: 2.5 MB     "
     ]
    },
    {
     "name": "stderr",
     "output_type": "stream",
     "text": [
      "Downloading chunk 2 of 53 (10 files, size = 2.551612 MB) as Wed_Sep_16_14_14_59_2020_1.tar.gz\n"
     ]
    },
    {
     "name": "stdout",
     "output_type": "stream",
     "text": [
      "Downloading: 2.5 MB       "
     ]
    },
    {
     "name": "stderr",
     "output_type": "stream",
     "text": [
      "Downloading chunk 3 of 53 (10 files, size = 2.562883 MB) as Wed_Sep_16_14_14_59_2020_2.tar.gz\n"
     ]
    },
    {
     "name": "stdout",
     "output_type": "stream",
     "text": [
      "Downloading: 2.6 MB     "
     ]
    },
    {
     "name": "stderr",
     "output_type": "stream",
     "text": [
      "Downloading chunk 4 of 53 (10 files, size = 2.547223 MB) as Wed_Sep_16_14_14_59_2020_3.tar.gz\n"
     ]
    },
    {
     "name": "stdout",
     "output_type": "stream",
     "text": [
      "Downloading: 2.5 MB       "
     ]
    },
    {
     "name": "stderr",
     "output_type": "stream",
     "text": [
      "Downloading chunk 5 of 53 (10 files, size = 2.54444 MB) as Wed_Sep_16_14_14_59_2020_4.tar.gz\n"
     ]
    },
    {
     "name": "stdout",
     "output_type": "stream",
     "text": [
      "Downloading: 2.5 MB       "
     ]
    },
    {
     "name": "stderr",
     "output_type": "stream",
     "text": [
      "Downloading chunk 6 of 53 (10 files, size = 2.554891 MB) as Wed_Sep_16_14_14_59_2020_5.tar.gz\n"
     ]
    },
    {
     "name": "stdout",
     "output_type": "stream",
     "text": [
      "Downloading: 2.5 MB       "
     ]
    },
    {
     "name": "stderr",
     "output_type": "stream",
     "text": [
      "Downloading chunk 7 of 53 (10 files, size = 2.55139 MB) as Wed_Sep_16_14_14_59_2020_6.tar.gz\n"
     ]
    },
    {
     "name": "stdout",
     "output_type": "stream",
     "text": [
      "Downloading: 2.5 MB       "
     ]
    },
    {
     "name": "stderr",
     "output_type": "stream",
     "text": [
      "Downloading chunk 8 of 53 (10 files, size = 2.556823 MB) as Wed_Sep_16_14_14_59_2020_7.tar.gz\n"
     ]
    },
    {
     "name": "stdout",
     "output_type": "stream",
     "text": [
      "Downloading: 2.6 MB       "
     ]
    },
    {
     "name": "stderr",
     "output_type": "stream",
     "text": [
      "Downloading chunk 9 of 53 (10 files, size = 2.56154 MB) as Wed_Sep_16_14_14_59_2020_8.tar.gz\n"
     ]
    },
    {
     "name": "stdout",
     "output_type": "stream",
     "text": [
      "Downloading: 2.6 MB       "
     ]
    },
    {
     "name": "stderr",
     "output_type": "stream",
     "text": [
      "Downloading chunk 10 of 53 (10 files, size = 2.555624 MB) as Wed_Sep_16_14_14_59_2020_9.tar.gz\n"
     ]
    },
    {
     "name": "stdout",
     "output_type": "stream",
     "text": [
      "Downloading: 2.5 MB       "
     ]
    },
    {
     "name": "stderr",
     "output_type": "stream",
     "text": [
      "Downloading chunk 11 of 53 (10 files, size = 2.545672 MB) as Wed_Sep_16_14_14_59_2020_10.tar.gz\n"
     ]
    },
    {
     "name": "stdout",
     "output_type": "stream",
     "text": [
      "Downloading: 2.5 MB       "
     ]
    },
    {
     "name": "stderr",
     "output_type": "stream",
     "text": [
      "Downloading chunk 12 of 53 (10 files, size = 2.54691 MB) as Wed_Sep_16_14_14_59_2020_11.tar.gz\n"
     ]
    },
    {
     "name": "stdout",
     "output_type": "stream",
     "text": [
      "Downloading: 2.5 MB       "
     ]
    },
    {
     "name": "stderr",
     "output_type": "stream",
     "text": [
      "Downloading chunk 13 of 53 (10 files, size = 2.544719 MB) as Wed_Sep_16_14_14_59_2020_12.tar.gz\n"
     ]
    },
    {
     "name": "stdout",
     "output_type": "stream",
     "text": [
      "Downloading: 2.5 MB       "
     ]
    },
    {
     "name": "stderr",
     "output_type": "stream",
     "text": [
      "Downloading chunk 14 of 53 (10 files, size = 2.540425 MB) as Wed_Sep_16_14_14_59_2020_13.tar.gz\n"
     ]
    },
    {
     "name": "stdout",
     "output_type": "stream",
     "text": [
      "Downloading: 2.5 MB       "
     ]
    },
    {
     "name": "stderr",
     "output_type": "stream",
     "text": [
      "Downloading chunk 15 of 53 (10 files, size = 2.552946 MB) as Wed_Sep_16_14_14_59_2020_14.tar.gz\n"
     ]
    },
    {
     "name": "stdout",
     "output_type": "stream",
     "text": [
      "Downloading: 2.5 MB       "
     ]
    },
    {
     "name": "stderr",
     "output_type": "stream",
     "text": [
      "Downloading chunk 16 of 53 (10 files, size = 2.543307 MB) as Wed_Sep_16_14_14_59_2020_15.tar.gz\n"
     ]
    },
    {
     "name": "stdout",
     "output_type": "stream",
     "text": [
      "Downloading: 2.5 MB       "
     ]
    },
    {
     "name": "stderr",
     "output_type": "stream",
     "text": [
      "Downloading chunk 17 of 53 (10 files, size = 2.547333 MB) as Wed_Sep_16_14_14_59_2020_16.tar.gz\n"
     ]
    },
    {
     "name": "stdout",
     "output_type": "stream",
     "text": [
      "Downloading: 2.5 MB     "
     ]
    },
    {
     "name": "stderr",
     "output_type": "stream",
     "text": [
      "Downloading chunk 18 of 53 (10 files, size = 2.550702 MB) as Wed_Sep_16_14_14_59_2020_17.tar.gz\n"
     ]
    },
    {
     "name": "stdout",
     "output_type": "stream",
     "text": [
      "Downloading: 2.5 MB       "
     ]
    },
    {
     "name": "stderr",
     "output_type": "stream",
     "text": [
      "Downloading chunk 19 of 53 (10 files, size = 2.554965 MB) as Wed_Sep_16_14_14_59_2020_18.tar.gz\n"
     ]
    },
    {
     "name": "stdout",
     "output_type": "stream",
     "text": [
      "Downloading: 2.5 MB       "
     ]
    },
    {
     "name": "stderr",
     "output_type": "stream",
     "text": [
      "Downloading chunk 20 of 53 (10 files, size = 2.558458 MB) as Wed_Sep_16_14_14_59_2020_19.tar.gz\n"
     ]
    },
    {
     "name": "stdout",
     "output_type": "stream",
     "text": [
      "Downloading: 2.6 MB       "
     ]
    },
    {
     "name": "stderr",
     "output_type": "stream",
     "text": [
      "Downloading chunk 21 of 53 (10 files, size = 2.55863 MB) as Wed_Sep_16_14_14_59_2020_20.tar.gz\n"
     ]
    },
    {
     "name": "stdout",
     "output_type": "stream",
     "text": [
      "Downloading: 2.6 MB       "
     ]
    },
    {
     "name": "stderr",
     "output_type": "stream",
     "text": [
      "Downloading chunk 22 of 53 (10 files, size = 2.555254 MB) as Wed_Sep_16_14_14_59_2020_21.tar.gz\n"
     ]
    },
    {
     "name": "stdout",
     "output_type": "stream",
     "text": [
      "Downloading: 2.5 MB       "
     ]
    },
    {
     "name": "stderr",
     "output_type": "stream",
     "text": [
      "Downloading chunk 23 of 53 (10 files, size = 2.551099 MB) as Wed_Sep_16_14_14_59_2020_22.tar.gz\n"
     ]
    },
    {
     "name": "stdout",
     "output_type": "stream",
     "text": [
      "Downloading: 2.5 MB       "
     ]
    },
    {
     "name": "stderr",
     "output_type": "stream",
     "text": [
      "Downloading chunk 24 of 53 (10 files, size = 2.552923 MB) as Wed_Sep_16_14_14_59_2020_23.tar.gz\n"
     ]
    },
    {
     "name": "stdout",
     "output_type": "stream",
     "text": [
      "Downloading: 2.5 MB       "
     ]
    },
    {
     "name": "stderr",
     "output_type": "stream",
     "text": [
      "Downloading chunk 25 of 53 (10 files, size = 2.562103 MB) as Wed_Sep_16_14_14_59_2020_24.tar.gz\n"
     ]
    },
    {
     "name": "stdout",
     "output_type": "stream",
     "text": [
      "Downloading: 2.6 MB       "
     ]
    },
    {
     "name": "stderr",
     "output_type": "stream",
     "text": [
      "Downloading chunk 26 of 53 (10 files, size = 2.560123 MB) as Wed_Sep_16_14_14_59_2020_25.tar.gz\n"
     ]
    },
    {
     "name": "stdout",
     "output_type": "stream",
     "text": [
      "Downloading: 2.6 MB       "
     ]
    },
    {
     "name": "stderr",
     "output_type": "stream",
     "text": [
      "Downloading chunk 27 of 53 (10 files, size = 2.560513 MB) as Wed_Sep_16_14_14_59_2020_26.tar.gz\n"
     ]
    },
    {
     "name": "stdout",
     "output_type": "stream",
     "text": [
      "Downloading: 2.6 MB     "
     ]
    },
    {
     "name": "stderr",
     "output_type": "stream",
     "text": [
      "Downloading chunk 28 of 53 (10 files, size = 2.558727 MB) as Wed_Sep_16_14_14_59_2020_27.tar.gz\n"
     ]
    },
    {
     "name": "stdout",
     "output_type": "stream",
     "text": [
      "Downloading: 2.6 MB     "
     ]
    },
    {
     "name": "stderr",
     "output_type": "stream",
     "text": [
      "Downloading chunk 29 of 53 (10 files, size = 2.549162 MB) as Wed_Sep_16_14_14_59_2020_28.tar.gz\n"
     ]
    },
    {
     "name": "stdout",
     "output_type": "stream",
     "text": [
      "Downloading: 2.5 MB       "
     ]
    },
    {
     "name": "stderr",
     "output_type": "stream",
     "text": [
      "Downloading chunk 30 of 53 (10 files, size = 2.565726 MB) as Wed_Sep_16_14_14_59_2020_29.tar.gz\n"
     ]
    },
    {
     "name": "stdout",
     "output_type": "stream",
     "text": [
      "Downloading: 2.6 MB       "
     ]
    },
    {
     "name": "stderr",
     "output_type": "stream",
     "text": [
      "Downloading chunk 31 of 53 (10 files, size = 2.551593 MB) as Wed_Sep_16_14_14_59_2020_30.tar.gz\n"
     ]
    },
    {
     "name": "stdout",
     "output_type": "stream",
     "text": [
      "Downloading: 2.5 MB       "
     ]
    },
    {
     "name": "stderr",
     "output_type": "stream",
     "text": [
      "Downloading chunk 32 of 53 (10 files, size = 2.550646 MB) as Wed_Sep_16_14_14_59_2020_31.tar.gz\n"
     ]
    },
    {
     "name": "stdout",
     "output_type": "stream",
     "text": [
      "Downloading: 2.5 MB       "
     ]
    },
    {
     "name": "stderr",
     "output_type": "stream",
     "text": [
      "Downloading chunk 33 of 53 (10 files, size = 2.54004 MB) as Wed_Sep_16_14_14_59_2020_32.tar.gz\n"
     ]
    },
    {
     "name": "stdout",
     "output_type": "stream",
     "text": [
      "Downloading: 2.5 MB       "
     ]
    },
    {
     "name": "stderr",
     "output_type": "stream",
     "text": [
      "Downloading chunk 34 of 53 (10 files, size = 2.55052 MB) as Wed_Sep_16_14_14_59_2020_33.tar.gz\n"
     ]
    },
    {
     "name": "stdout",
     "output_type": "stream",
     "text": [
      "Downloading: 2.5 MB     "
     ]
    },
    {
     "name": "stderr",
     "output_type": "stream",
     "text": [
      "Downloading chunk 35 of 53 (10 files, size = 2.539203 MB) as Wed_Sep_16_14_14_59_2020_34.tar.gz\n"
     ]
    },
    {
     "name": "stdout",
     "output_type": "stream",
     "text": [
      "Downloading: 2.5 MB       "
     ]
    },
    {
     "name": "stderr",
     "output_type": "stream",
     "text": [
      "Downloading chunk 36 of 53 (10 files, size = 2.552885 MB) as Wed_Sep_16_14_14_59_2020_35.tar.gz\n"
     ]
    },
    {
     "name": "stdout",
     "output_type": "stream",
     "text": [
      "Downloading: 2.5 MB       "
     ]
    },
    {
     "name": "stderr",
     "output_type": "stream",
     "text": [
      "Downloading chunk 37 of 53 (10 files, size = 2.538432 MB) as Wed_Sep_16_14_14_59_2020_36.tar.gz\n"
     ]
    },
    {
     "name": "stdout",
     "output_type": "stream",
     "text": [
      "Downloading: 2.5 MB       "
     ]
    },
    {
     "name": "stderr",
     "output_type": "stream",
     "text": [
      "Downloading chunk 38 of 53 (10 files, size = 2.551544 MB) as Wed_Sep_16_14_14_59_2020_37.tar.gz\n"
     ]
    },
    {
     "name": "stdout",
     "output_type": "stream",
     "text": [
      "Downloading: 2.5 MB       "
     ]
    },
    {
     "name": "stderr",
     "output_type": "stream",
     "text": [
      "Downloading chunk 39 of 53 (10 files, size = 2.552924 MB) as Wed_Sep_16_14_14_59_2020_38.tar.gz\n"
     ]
    },
    {
     "name": "stdout",
     "output_type": "stream",
     "text": [
      "Downloading: 2.5 MB       "
     ]
    },
    {
     "name": "stderr",
     "output_type": "stream",
     "text": [
      "Downloading chunk 40 of 53 (10 files, size = 2.557947 MB) as Wed_Sep_16_14_14_59_2020_39.tar.gz\n"
     ]
    },
    {
     "name": "stdout",
     "output_type": "stream",
     "text": [
      "Downloading: 2.6 MB       "
     ]
    },
    {
     "name": "stderr",
     "output_type": "stream",
     "text": [
      "Downloading chunk 41 of 53 (10 files, size = 2.558295 MB) as Wed_Sep_16_14_14_59_2020_40.tar.gz\n"
     ]
    },
    {
     "name": "stdout",
     "output_type": "stream",
     "text": [
      "Downloading: 2.6 MB       "
     ]
    },
    {
     "name": "stderr",
     "output_type": "stream",
     "text": [
      "Downloading chunk 42 of 53 (10 files, size = 2.55779 MB) as Wed_Sep_16_14_14_59_2020_41.tar.gz\n"
     ]
    },
    {
     "name": "stdout",
     "output_type": "stream",
     "text": [
      "Downloading: 2.6 MB       "
     ]
    },
    {
     "name": "stderr",
     "output_type": "stream",
     "text": [
      "Downloading chunk 43 of 53 (10 files, size = 2.551233 MB) as Wed_Sep_16_14_14_59_2020_42.tar.gz\n"
     ]
    },
    {
     "name": "stdout",
     "output_type": "stream",
     "text": [
      "Downloading: 2.5 MB       "
     ]
    },
    {
     "name": "stderr",
     "output_type": "stream",
     "text": [
      "Downloading chunk 44 of 53 (10 files, size = 2.541086 MB) as Wed_Sep_16_14_14_59_2020_43.tar.gz\n"
     ]
    },
    {
     "name": "stdout",
     "output_type": "stream",
     "text": [
      "Downloading: 2.5 MB       "
     ]
    },
    {
     "name": "stderr",
     "output_type": "stream",
     "text": [
      "Downloading chunk 45 of 53 (10 files, size = 2.552716 MB) as Wed_Sep_16_14_14_59_2020_44.tar.gz\n"
     ]
    },
    {
     "name": "stdout",
     "output_type": "stream",
     "text": [
      "Downloading: 2.5 MB       "
     ]
    },
    {
     "name": "stderr",
     "output_type": "stream",
     "text": [
      "Downloading chunk 46 of 53 (10 files, size = 2.548563 MB) as Wed_Sep_16_14_14_59_2020_45.tar.gz\n"
     ]
    },
    {
     "name": "stdout",
     "output_type": "stream",
     "text": [
      "Downloading: 2.5 MB       "
     ]
    },
    {
     "name": "stderr",
     "output_type": "stream",
     "text": [
      "Downloading chunk 47 of 53 (10 files, size = 2.555844 MB) as Wed_Sep_16_14_14_59_2020_46.tar.gz\n"
     ]
    },
    {
     "name": "stdout",
     "output_type": "stream",
     "text": [
      "Downloading: 2.6 MB       "
     ]
    },
    {
     "name": "stderr",
     "output_type": "stream",
     "text": [
      "Downloading chunk 48 of 53 (10 files, size = 2.558855 MB) as Wed_Sep_16_14_14_59_2020_47.tar.gz\n"
     ]
    },
    {
     "name": "stdout",
     "output_type": "stream",
     "text": [
      "Downloading: 2.6 MB       "
     ]
    },
    {
     "name": "stderr",
     "output_type": "stream",
     "text": [
      "Downloading chunk 49 of 53 (10 files, size = 2.558757 MB) as Wed_Sep_16_14_14_59_2020_48.tar.gz\n"
     ]
    },
    {
     "name": "stdout",
     "output_type": "stream",
     "text": [
      "Downloading: 2.6 MB       "
     ]
    },
    {
     "name": "stderr",
     "output_type": "stream",
     "text": [
      "Downloading chunk 50 of 53 (10 files, size = 2.549805 MB) as Wed_Sep_16_14_14_59_2020_49.tar.gz\n"
     ]
    },
    {
     "name": "stdout",
     "output_type": "stream",
     "text": [
      "Downloading: 2.5 MB     "
     ]
    },
    {
     "name": "stderr",
     "output_type": "stream",
     "text": [
      "Downloading chunk 51 of 53 (10 files, size = 2.536534 MB) as Wed_Sep_16_14_14_59_2020_50.tar.gz\n"
     ]
    },
    {
     "name": "stdout",
     "output_type": "stream",
     "text": [
      "Downloading: 2.5 MB       "
     ]
    },
    {
     "name": "stderr",
     "output_type": "stream",
     "text": [
      "Downloading chunk 52 of 53 (10 files, size = 2.561019 MB) as Wed_Sep_16_14_14_59_2020_51.tar.gz\n"
     ]
    },
    {
     "name": "stdout",
     "output_type": "stream",
     "text": [
      "Downloading: 2.6 MB       "
     ]
    },
    {
     "name": "stderr",
     "output_type": "stream",
     "text": [
      "Downloading chunk 53 of 53 (9 files, size = 2.296428 MB) as Wed_Sep_16_14_14_59_2020_52.tar.gz\n"
     ]
    },
    {
     "name": "stdout",
     "output_type": "stream",
     "text": [
      "|====================================================|100%                      Completed after 46 s \n"
     ]
    },
    {
     "name": "stderr",
     "output_type": "stream",
     "text": [
      "Starting to add information to samples\n",
      " => Add clinical information to samples\n",
      "Add FFPE information. More information at: \n",
      "=> https://cancergenome.nih.gov/cancersselected/biospeccriteria \n",
      "=> http://gdac.broadinstitute.org/runs/sampleReports/latest/FPPP_FFPE_Cases.html\n",
      " => Adding subtype information to samples\n",
      "lgg subtype information from:doi:10.1016/j.cell.2015.12.028\n",
      "Accessing www.ensembl.org to get gene information\n",
      "Downloading genome information (try:0) Using: Human genes (GRCh38.p13)\n",
      "Cache found\n",
      "From the 60483 genes we couldn't map 4026\n"
     ]
    },
    {
     "data": {
      "text/plain": [
       "class: RangedSummarizedExperiment \n",
       "dim: 56457 529 \n",
       "metadata(1): data_release\n",
       "assays(1): HTSeq - Counts\n",
       "rownames(56457): ENSG00000000003 ENSG00000000005 ... ENSG00000281912\n",
       "  ENSG00000281920\n",
       "rowData names(3): ensembl_gene_id external_gene_name\n",
       "  original_ensembl_gene_id\n",
       "colnames(529): TCGA-R8-A73M-01A-11R-A32Q-07\n",
       "  TCGA-HT-7471-01A-11R-2256-07 ... TCGA-QH-A6X3-01A-21R-A32Q-07\n",
       "  TCGA-P5-A5F0-01A-11R-A28M-07\n",
       "colData names(113): sample patient ...\n",
       "  subtype_Telomere.length.estimate.in.blood.normal..Kb.\n",
       "  subtype_Telomere.length.estimate.in.tumor..Kb."
      ]
     },
     "metadata": {},
     "output_type": "display_data"
    }
   ],
   "source": [
    "proj_idx <- 7\n",
    "q <- rna_seq_query(projects[proj_idx])\n",
    "GDCdownload(q, method = \"api\", directory = TCGA_dest_dir, files.per.chunk = 10)\n",
    "data <- GDCprepare(q, directory = TCGA_dest_dir)\n",
    "data\n",
    "saveHDF5SummarizedExperiment(data, dir = RSE_objects_dest_dir, prefix = paste0(projects[proj_idx], \"_RNA_\"))"
   ]
  },
  {
   "cell_type": "code",
   "execution_count": 5,
   "metadata": {},
   "outputs": [
    {
     "name": "stderr",
     "output_type": "stream",
     "text": [
      "--------------------------------------\n",
      "o GDCquery: Searching in GDC database\n",
      "--------------------------------------\n",
      "Genome of reference: hg38\n",
      "--------------------------------------------\n",
      "oo Accessing GDC. This might take a while...\n",
      "--------------------------------------------\n",
      "ooo Project: TCGA-TGCT\n",
      "--------------------\n",
      "oo Filtering results\n",
      "--------------------\n",
      "ooo By data.type\n",
      "ooo By workflow.type\n",
      "----------------\n",
      "oo Checking data\n",
      "----------------\n",
      "ooo Check if there are duplicated cases\n",
      "ooo Check if there results for the query\n",
      "-------------------\n",
      "o Preparing output\n",
      "-------------------\n",
      "Downloading data for project TCGA-TGCT\n",
      "GDCdownload will download 156 files. A total of 39.5905 MB\n",
      "Downloading chunk 1 of 16 (10 files, size = 2.537164 MB) as Thu_Sep_17_15_21_06_2020_0.tar.gz\n"
     ]
    },
    {
     "name": "stdout",
     "output_type": "stream",
     "text": [
      "Downloading: 2.5 MB     "
     ]
    },
    {
     "name": "stderr",
     "output_type": "stream",
     "text": [
      "Downloading chunk 2 of 16 (10 files, size = 2.537302 MB) as Thu_Sep_17_15_21_06_2020_1.tar.gz\n"
     ]
    },
    {
     "name": "stdout",
     "output_type": "stream",
     "text": [
      "Downloading: 2.5 MB       "
     ]
    },
    {
     "name": "stderr",
     "output_type": "stream",
     "text": [
      "Downloading chunk 3 of 16 (10 files, size = 2.536912 MB) as Thu_Sep_17_15_21_06_2020_2.tar.gz\n"
     ]
    },
    {
     "name": "stdout",
     "output_type": "stream",
     "text": [
      "Downloading: 2.5 MB       "
     ]
    },
    {
     "name": "stderr",
     "output_type": "stream",
     "text": [
      "Downloading chunk 4 of 16 (10 files, size = 2.547079 MB) as Thu_Sep_17_15_21_06_2020_3.tar.gz\n"
     ]
    },
    {
     "name": "stdout",
     "output_type": "stream",
     "text": [
      "Downloading: 2.5 MB       "
     ]
    },
    {
     "name": "stderr",
     "output_type": "stream",
     "text": [
      "Downloading chunk 5 of 16 (10 files, size = 2.536 MB) as Thu_Sep_17_15_21_06_2020_4.tar.gz\n"
     ]
    },
    {
     "name": "stdout",
     "output_type": "stream",
     "text": [
      "Downloading: 2.5 MB       "
     ]
    },
    {
     "name": "stderr",
     "output_type": "stream",
     "text": [
      "Downloading chunk 6 of 16 (10 files, size = 2.544117 MB) as Thu_Sep_17_15_21_06_2020_5.tar.gz\n"
     ]
    },
    {
     "name": "stdout",
     "output_type": "stream",
     "text": [
      "Downloading: 2.5 MB       "
     ]
    },
    {
     "name": "stderr",
     "output_type": "stream",
     "text": [
      "Downloading chunk 7 of 16 (10 files, size = 2.534699 MB) as Thu_Sep_17_15_21_06_2020_6.tar.gz\n"
     ]
    },
    {
     "name": "stdout",
     "output_type": "stream",
     "text": [
      "Downloading: 2.5 MB       "
     ]
    },
    {
     "name": "stderr",
     "output_type": "stream",
     "text": [
      "Downloading chunk 8 of 16 (10 files, size = 2.548464 MB) as Thu_Sep_17_15_21_06_2020_7.tar.gz\n"
     ]
    },
    {
     "name": "stdout",
     "output_type": "stream",
     "text": [
      "Downloading: 2.5 MB       "
     ]
    },
    {
     "name": "stderr",
     "output_type": "stream",
     "text": [
      "Downloading chunk 9 of 16 (10 files, size = 2.52637 MB) as Thu_Sep_17_15_21_06_2020_8.tar.gz\n"
     ]
    },
    {
     "name": "stdout",
     "output_type": "stream",
     "text": [
      "Downloading: 2.5 MB       "
     ]
    },
    {
     "name": "stderr",
     "output_type": "stream",
     "text": [
      "Downloading chunk 10 of 16 (10 files, size = 2.538284 MB) as Thu_Sep_17_15_21_06_2020_9.tar.gz\n"
     ]
    },
    {
     "name": "stdout",
     "output_type": "stream",
     "text": [
      "Downloading: 2.5 MB       "
     ]
    },
    {
     "name": "stderr",
     "output_type": "stream",
     "text": [
      "Downloading chunk 11 of 16 (10 files, size = 2.53732 MB) as Thu_Sep_17_15_21_06_2020_10.tar.gz\n"
     ]
    },
    {
     "name": "stdout",
     "output_type": "stream",
     "text": [
      "Downloading: 2.5 MB       "
     ]
    },
    {
     "name": "stderr",
     "output_type": "stream",
     "text": [
      "Downloading chunk 12 of 16 (10 files, size = 2.546517 MB) as Thu_Sep_17_15_21_06_2020_11.tar.gz\n"
     ]
    },
    {
     "name": "stdout",
     "output_type": "stream",
     "text": [
      "Downloading: 2.5 MB       "
     ]
    },
    {
     "name": "stderr",
     "output_type": "stream",
     "text": [
      "Downloading chunk 13 of 16 (10 files, size = 2.523885 MB) as Thu_Sep_17_15_21_06_2020_12.tar.gz\n"
     ]
    },
    {
     "name": "stdout",
     "output_type": "stream",
     "text": [
      "Downloading: 2.5 MB       "
     ]
    },
    {
     "name": "stderr",
     "output_type": "stream",
     "text": [
      "Downloading chunk 14 of 16 (10 files, size = 2.543499 MB) as Thu_Sep_17_15_21_06_2020_13.tar.gz\n"
     ]
    },
    {
     "name": "stdout",
     "output_type": "stream",
     "text": [
      "Downloading: 2.5 MB     "
     ]
    },
    {
     "name": "stderr",
     "output_type": "stream",
     "text": [
      "Downloading chunk 15 of 16 (10 files, size = 2.534547 MB) as Thu_Sep_17_15_21_06_2020_14.tar.gz\n"
     ]
    },
    {
     "name": "stdout",
     "output_type": "stream",
     "text": [
      "Downloading: 2.5 MB       "
     ]
    },
    {
     "name": "stderr",
     "output_type": "stream",
     "text": [
      "Downloading chunk 16 of 16 (6 files, size = 1.518341 MB) as Thu_Sep_17_15_21_06_2020_15.tar.gz\n"
     ]
    },
    {
     "name": "stdout",
     "output_type": "stream",
     "text": [
      "|====================================================|100%                      Completed after 14 s \n"
     ]
    },
    {
     "name": "stderr",
     "output_type": "stream",
     "text": [
      "Starting to add information to samples\n",
      " => Add clinical information to samples\n",
      "Add FFPE information. More information at: \n",
      "=> https://cancergenome.nih.gov/cancersselected/biospeccriteria \n",
      "=> http://gdac.broadinstitute.org/runs/sampleReports/latest/FPPP_FFPE_Cases.html\n",
      " => Adding subtype information to samples\n",
      "Accessing www.ensembl.org to get gene information\n",
      "Downloading genome information (try:0) Using: Human genes (GRCh38.p13)\n",
      "Warning message:\n",
      "“`select_()` is deprecated as of dplyr 0.7.0.\n",
      "Please use `select()` instead.\n",
      "This warning is displayed once every 8 hours.\n",
      "Call `lifecycle::last_warnings()` to see where this warning was generated.”Warning message:\n",
      "“`filter_()` is deprecated as of dplyr 0.7.0.\n",
      "Please use `filter()` instead.\n",
      "See vignette('programming') for more help\n",
      "This warning is displayed once every 8 hours.\n",
      "Call `lifecycle::last_warnings()` to see where this warning was generated.”Cache found\n",
      "From the 60483 genes we couldn't map 4026\n"
     ]
    },
    {
     "data": {
      "text/plain": [
       "class: RangedSummarizedExperiment \n",
       "dim: 56457 156 \n",
       "metadata(1): data_release\n",
       "assays(1): HTSeq - Counts\n",
       "rownames(56457): ENSG00000000003 ENSG00000000005 ... ENSG00000281912\n",
       "  ENSG00000281920\n",
       "rowData names(3): ensembl_gene_id external_gene_name\n",
       "  original_ensembl_gene_id\n",
       "colnames(156): TCGA-2G-AAFZ-01A-11R-A430-07\n",
       "  TCGA-2G-AAF4-01A-11R-A430-07 ... TCGA-XY-A9T9-01A-11R-A431-07\n",
       "  TCGA-2G-AAL5-01A-11R-A430-07\n",
       "colData names(72): sample patient ... days_to_death is_ffpe"
      ]
     },
     "metadata": {},
     "output_type": "display_data"
    }
   ],
   "source": [
    "proj_idx <- 8\n",
    "q <- rna_seq_query(projects[proj_idx])\n",
    "GDCdownload(q, method = \"api\", directory = TCGA_dest_dir, files.per.chunk = 10)\n",
    "data <- GDCprepare(q, directory = TCGA_dest_dir)\n",
    "data\n",
    "saveHDF5SummarizedExperiment(data, dir = RSE_objects_dest_dir, prefix = paste0(projects[proj_idx], \"_RNA_\"))"
   ]
  },
  {
   "cell_type": "code",
   "execution_count": 7,
   "metadata": {},
   "outputs": [
    {
     "name": "stderr",
     "output_type": "stream",
     "text": [
      "--------------------------------------\n",
      "o GDCquery: Searching in GDC database\n",
      "--------------------------------------\n",
      "Genome of reference: hg38\n",
      "--------------------------------------------\n",
      "oo Accessing GDC. This might take a while...\n",
      "--------------------------------------------\n",
      "ooo Project: TCGA-PRAD\n",
      "--------------------\n",
      "oo Filtering results\n",
      "--------------------\n",
      "ooo By data.type\n",
      "ooo By workflow.type\n",
      "----------------\n",
      "oo Checking data\n",
      "----------------\n",
      "ooo Check if there are duplicated cases\n",
      "ooo Check if there results for the query\n",
      "-------------------\n",
      "o Preparing output\n",
      "-------------------\n",
      "Downloading data for project TCGA-PRAD\n",
      "Of the 551 files for download 550 already exist.\n",
      "We will download only those that are missing ones.\n",
      "GDCdownload will download: 252.892 KB\n",
      "Downloading chunk 1 of 1 (1 files, size = 252.892 KB) as ba57cbaf-b52c-402b-b72a-f0df0e086369.htseq.counts.gz\n"
     ]
    },
    {
     "name": "stdout",
     "output_type": "stream",
     "text": [
      "  |======================================================================| 100%\n",
      "|====================================================|100%                      Completed after 50 s \n"
     ]
    },
    {
     "name": "stderr",
     "output_type": "stream",
     "text": [
      "Starting to add information to samples\n",
      " => Add clinical information to samples\n",
      "Add FFPE information. More information at: \n",
      "=> https://cancergenome.nih.gov/cancersselected/biospeccriteria \n",
      "=> http://gdac.broadinstitute.org/runs/sampleReports/latest/FPPP_FFPE_Cases.html\n",
      " => Adding subtype information to samples\n",
      "prad subtype information from:doi:10.1016/j.cell.2015.10.025\n",
      "Accessing www.ensembl.org to get gene information\n",
      "Downloading genome information (try:0) Using: Human genes (GRCh38.p13)\n",
      "Cache found\n",
      "From the 60483 genes we couldn't map 4026\n"
     ]
    },
    {
     "data": {
      "text/plain": [
       "class: RangedSummarizedExperiment \n",
       "dim: 56457 551 \n",
       "metadata(1): data_release\n",
       "assays(1): HTSeq - Counts\n",
       "rownames(56457): ENSG00000000003 ENSG00000000005 ... ENSG00000281912\n",
       "  ENSG00000281920\n",
       "rowData names(3): ensembl_gene_id external_gene_name\n",
       "  original_ensembl_gene_id\n",
       "colnames(551): TCGA-HC-A6AN-01A-11R-A30B-07\n",
       "  TCGA-G9-6498-01A-12R-A311-07 ... TCGA-CH-5772-01A-11R-1580-07\n",
       "  TCGA-ZG-A9L2-01A-31R-A41O-07\n",
       "colData names(152): sample patient ... subtype_AR_V7_ratio\n",
       "  subtype_AR_V7_presence"
      ]
     },
     "metadata": {},
     "output_type": "display_data"
    }
   ],
   "source": [
    "proj_idx <- 9\n",
    "q <- rna_seq_query(projects[proj_idx])\n",
    "GDCdownload(q, method = \"api\", directory = TCGA_dest_dir, files.per.chunk = 10)\n",
    "data <- GDCprepare(q, directory = TCGA_dest_dir)\n",
    "data\n",
    "saveHDF5SummarizedExperiment(data, dir = RSE_objects_dest_dir, prefix = paste0(projects[proj_idx], \"_RNA_\"))"
   ]
  },
  {
   "cell_type": "markdown",
   "metadata": {},
   "source": [
    "# Save data in count matrix + coldata format\n",
    "\n",
    "Save data in a format ready for DESeq/clustering/etc."
   ]
  },
  {
   "cell_type": "code",
   "execution_count": 8,
   "metadata": {},
   "outputs": [],
   "source": [
    "data_ls <- load_RSE_objects(RSE_objects_dest_dir, projects, paste0(projects, \"_RNA_\"))"
   ]
  },
  {
   "cell_type": "code",
   "execution_count": 9,
   "metadata": {},
   "outputs": [
    {
     "name": "stderr",
     "output_type": "stream",
     "text": [
      "Warning message in dir.create(paste0(dest_dir, \"/\", dest_subdir)):\n",
      "“'/mnt/d/fogg_lab_gyn_cancer_data/TCGA_RNA_matrix_count_data' already exists”"
     ]
    }
   ],
   "source": [
    "prep_and_save_count_data(\n",
    "    rses = data_ls,\n",
    "    label_field = \"definition\",\n",
    "    dest_dir = dirs$data_dir,\n",
    "    dest_subdir = \"TCGA_RNA_matrix_count_data\"\n",
    ")"
   ]
  },
  {
   "cell_type": "code",
   "execution_count": null,
   "metadata": {},
   "outputs": [],
   "source": []
  }
 ],
 "metadata": {
  "kernelspec": {
   "display_name": "R",
   "language": "R",
   "name": "ir"
  },
  "language_info": {
   "codemirror_mode": "r",
   "file_extension": ".r",
   "mimetype": "text/x-r-source",
   "name": "R",
   "pygments_lexer": "r",
   "version": "4.0.3"
  }
 },
 "nbformat": 4,
 "nbformat_minor": 4
}
