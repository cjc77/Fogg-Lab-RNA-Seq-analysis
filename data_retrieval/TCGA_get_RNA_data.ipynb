{
 "cells": [
  {
   "cell_type": "code",
   "execution_count": 1,
   "metadata": {
    "collapsed": true,
    "jupyter": {
     "outputs_hidden": true
    }
   },
   "outputs": [
    {
     "name": "stderr",
     "output_type": "stream",
     "text": [
      "── Attaching packages ─────────────────────────────────────── tidyverse 1.3.0 ──\n",
      "✔ ggplot2 3.3.2     ✔ purrr   0.3.4\n",
      "✔ tibble  3.0.3     ✔ dplyr   1.0.0\n",
      "✔ tidyr   1.1.0     ✔ stringr 1.4.0\n",
      "✔ readr   1.3.1     ✔ forcats 0.5.0\n",
      "── Conflicts ────────────────────────────────────────── tidyverse_conflicts() ──\n",
      "✖ dplyr::filter() masks stats::filter()\n",
      "✖ dplyr::lag()    masks stats::lag()\n",
      "Loading required package: DelayedArray\n",
      "Loading required package: stats4\n",
      "Loading required package: matrixStats\n",
      "\n",
      "Attaching package: ‘matrixStats’\n",
      "\n",
      "The following object is masked from ‘package:dplyr’:\n",
      "\n",
      "    count\n",
      "\n",
      "Loading required package: BiocGenerics\n",
      "Loading required package: parallel\n",
      "\n",
      "Attaching package: ‘BiocGenerics’\n",
      "\n",
      "The following objects are masked from ‘package:parallel’:\n",
      "\n",
      "    clusterApply, clusterApplyLB, clusterCall, clusterEvalQ,\n",
      "    clusterExport, clusterMap, parApply, parCapply, parLapply,\n",
      "    parLapplyLB, parRapply, parSapply, parSapplyLB\n",
      "\n",
      "The following objects are masked from ‘package:dplyr’:\n",
      "\n",
      "    combine, intersect, setdiff, union\n",
      "\n",
      "The following objects are masked from ‘package:stats’:\n",
      "\n",
      "    IQR, mad, sd, var, xtabs\n",
      "\n",
      "The following objects are masked from ‘package:base’:\n",
      "\n",
      "    anyDuplicated, append, as.data.frame, basename, cbind, colnames,\n",
      "    dirname, do.call, duplicated, eval, evalq, Filter, Find, get, grep,\n",
      "    grepl, intersect, is.unsorted, lapply, Map, mapply, match, mget,\n",
      "    order, paste, pmax, pmax.int, pmin, pmin.int, Position, rank,\n",
      "    rbind, Reduce, rownames, sapply, setdiff, sort, table, tapply,\n",
      "    union, unique, unsplit, which, which.max, which.min\n",
      "\n",
      "Loading required package: S4Vectors\n",
      "\n",
      "Attaching package: ‘S4Vectors’\n",
      "\n",
      "The following objects are masked from ‘package:dplyr’:\n",
      "\n",
      "    first, rename\n",
      "\n",
      "The following object is masked from ‘package:tidyr’:\n",
      "\n",
      "    expand\n",
      "\n",
      "The following object is masked from ‘package:base’:\n",
      "\n",
      "    expand.grid\n",
      "\n",
      "Loading required package: IRanges\n",
      "\n",
      "Attaching package: ‘IRanges’\n",
      "\n",
      "The following objects are masked from ‘package:dplyr’:\n",
      "\n",
      "    collapse, desc, slice\n",
      "\n",
      "The following object is masked from ‘package:purrr’:\n",
      "\n",
      "    reduce\n",
      "\n",
      "Loading required package: BiocParallel\n",
      "\n",
      "Attaching package: ‘DelayedArray’\n",
      "\n",
      "The following objects are masked from ‘package:matrixStats’:\n",
      "\n",
      "    colMaxs, colMins, colRanges, rowMaxs, rowMins, rowRanges\n",
      "\n",
      "The following object is masked from ‘package:purrr’:\n",
      "\n",
      "    simplify\n",
      "\n",
      "The following objects are masked from ‘package:base’:\n",
      "\n",
      "    aperm, apply, rowsum\n",
      "\n",
      "Loading required package: rhdf5\n",
      "Loading required package: GenomicRanges\n",
      "Loading required package: GenomeInfoDb\n",
      "Loading required package: Biobase\n",
      "Welcome to Bioconductor\n",
      "\n",
      "    Vignettes contain introductory material; view with\n",
      "    'browseVignettes()'. To cite Bioconductor, see\n",
      "    'citation(\"Biobase\")', and for packages 'citation(\"pkgname\")'.\n",
      "\n",
      "\n",
      "Attaching package: ‘Biobase’\n",
      "\n",
      "The following objects are masked from ‘package:matrixStats’:\n",
      "\n",
      "    anyMissing, rowMedians\n",
      "\n"
     ]
    }
   ],
   "source": [
    "library(tidyverse)\n",
    "library(TCGAbiolinks)\n",
    "library(HDF5Array)\n",
    "library(SummarizedExperiment)\n",
    "\n",
    "# Custom package\n",
    "library(rutils)"
   ]
  },
  {
   "cell_type": "markdown",
   "metadata": {},
   "source": [
    "# Constants"
   ]
  },
  {
   "cell_type": "code",
   "execution_count": 2,
   "metadata": {},
   "outputs": [],
   "source": [
    "dirs <- rutils::get_dev_directories(dev_paths_file = \"../dev_paths.txt\")\n",
    "projects <- c(\"TCGA-CESC\", \"TCGA-OV\", \"TCGA-UCS\", \"TCGA-UCEC\", \"TCGA-BRCA\")\n",
    "project_paths <- unlist(map(projects, function(prj) paste0(dirs$data_dir, \"/\", prj)))\n",
    "biolinks_dir <- \"tcga_biolinks_downloads\"\n",
    "RSE_objects_dir <- \"saved_RSE_objects\"\n",
    "TCGA_dest_dir <- paste0(dirs$data_dir, \"/\", biolinks_dir)\n",
    "RSE_objects_dest_dir <- paste0(dirs$data_dir, \"/\", RSE_objects_dir)"
   ]
  },
  {
   "cell_type": "markdown",
   "metadata": {},
   "source": [
    "# Functions"
   ]
  },
  {
   "cell_type": "code",
   "execution_count": 3,
   "metadata": {},
   "outputs": [],
   "source": [
    "rna_seq_query <- function(p) {\n",
    "    return(GDCquery(\n",
    "        project = p,\n",
    "        data.category = \"Transcriptome Profiling\",\n",
    "        data.type = \"Gene Expression Quantification\",\n",
    "        workflow.type = \"HTSeq - Counts\"\n",
    "    ))\n",
    "}\n",
    "\n",
    "\n",
    "prep_and_save_count_data <- function(rses, label_field, dest_dir, dest_subdir) {\n",
    "    id_symbol_map <- as_tibble(rowData(rses[[1]]))\n",
    "    \n",
    "    # Does the matrix data directory exist? If not, create it\n",
    "    dir.create(paste0(dest_dir, \"/\", dest_subdir))\n",
    "    \n",
    "    for (n in names(rses)) {\n",
    "        counts_df <- assays(rses[[n]])[[\"HTSeq - Counts\"]] %>%\n",
    "            as_tibble(rownames = \"ensembl_gene_id\") %>%\n",
    "            inner_join(id_symbol_map, by = \"ensembl_gene_id\") %>%\n",
    "            dplyr::select(ensembl_gene_id, external_gene_name, everything()) %>%\n",
    "            dplyr::select(-original_ensembl_gene_id)\n",
    "        \n",
    "        condition_labels <- rses[[n]][[label_field]]\n",
    "        coldata_df <- as_tibble(colnames(counts_df)[-c(1:2)]) %>%\n",
    "            dplyr::rename(sample_name = value) %>%\n",
    "            mutate(condition = condition_labels) %>%\n",
    "            mutate(project = n)\n",
    "        \n",
    "        write_tsv(counts_df, path = paste0(dest_dir, \"/\", dest_subdir, \"/\", n, \"_counts.tsv\"))\n",
    "        write_tsv(coldata_df, path = paste0(dest_dir, \"/\", dest_subdir, \"/\", n, \"_coldata.tsv\"))\n",
    "    }\n",
    "}"
   ]
  },
  {
   "cell_type": "markdown",
   "metadata": {},
   "source": [
    "# Download and save data\n",
    "No loops used here since API is really finicky and quits abruptly"
   ]
  },
  {
   "cell_type": "code",
   "execution_count": null,
   "metadata": {},
   "outputs": [],
   "source": [
    "proj_idx <- 1\n",
    "q <- rna_seq_query(projects[proj_idx])\n",
    "GDCdownload(q, method = \"api\", directory = TCGA_dest_dir, files.per.chunk = 10)\n",
    "data <- GDCprepare(q, directory = TCGA_dest_dir)\n",
    "data\n",
    "saveHDF5SummarizedExperiment(data, dir = RSE_objects_dest_dir, prefix = paste0(projects[proj_idx], \"_RNA_\"))"
   ]
  },
  {
   "cell_type": "code",
   "execution_count": null,
   "metadata": {},
   "outputs": [],
   "source": [
    "proj_idx <- 2\n",
    "q <- rna_seq_query(projects[proj_idx])\n",
    "GDCdownload(q, method = \"api\", directory = TCGA_dest_dir, files.per.chunk = 10)\n",
    "data <- GDCprepare(q, directory = TCGA_dest_dir)\n",
    "data\n",
    "saveHDF5SummarizedExperiment(data, dir = RSE_objects_dest_dir, prefix = paste0(projects[proj_idx], \"_RNA_\"))"
   ]
  },
  {
   "cell_type": "code",
   "execution_count": null,
   "metadata": {},
   "outputs": [],
   "source": [
    "proj_idx <- 3\n",
    "q <- rna_seq_query(projects[proj_idx])\n",
    "GDCdownload(q, method = \"api\", directory = TCGA_dest_dir, files.per.chunk = 10)\n",
    "data <- GDCprepare(q, directory = TCGA_dest_dir)\n",
    "data\n",
    "saveHDF5SummarizedExperiment(data, dir = RSE_objects_dest_dir, prefix = paste0(projects[proj_idx], \"_RNA_\"))"
   ]
  },
  {
   "cell_type": "code",
   "execution_count": null,
   "metadata": {},
   "outputs": [],
   "source": [
    "proj_idx <- 4\n",
    "q <- rna_seq_query(projects[proj_idx])\n",
    "GDCdownload(q, method = \"api\", directory = TCGA_dest_dir, files.per.chunk = 10)\n",
    "data <- GDCprepare(q, directory = TCGA_dest_dir)\n",
    "data\n",
    "saveHDF5SummarizedExperiment(data, dir = RSE_objects_dest_dir, prefix = paste0(projects[proj_idx], \"_RNA_\"))"
   ]
  },
  {
   "cell_type": "code",
   "execution_count": 4,
   "metadata": {
    "collapsed": true,
    "jupyter": {
     "outputs_hidden": true
    }
   },
   "outputs": [
    {
     "name": "stderr",
     "output_type": "stream",
     "text": [
      "--------------------------------------\n",
      "o GDCquery: Searching in GDC database\n",
      "--------------------------------------\n",
      "Genome of reference: hg38\n",
      "--------------------------------------------\n",
      "oo Accessing GDC. This might take a while...\n",
      "--------------------------------------------\n",
      "ooo Project: TCGA-BRCA\n",
      "--------------------\n",
      "oo Filtering results\n",
      "--------------------\n",
      "ooo By data.type\n",
      "ooo By workflow.type\n",
      "----------------\n",
      "oo Checking data\n",
      "----------------\n",
      "ooo Check if there are duplicated cases\n",
      "ooo Check if there results for the query\n",
      "-------------------\n",
      "o Preparing output\n",
      "-------------------\n",
      "Downloading data for project TCGA-BRCA\n",
      "GDCdownload will download 1222 files. A total of 310.760859 MB\n",
      "Downloading chunk 1 of 123 (10 files, size = 2.551892 MB) as Tue_Sep_15_16_16_15_2020_0.tar.gz\n"
     ]
    },
    {
     "name": "stdout",
     "output_type": "stream",
     "text": [
      "Downloading: 2.5 MB     "
     ]
    },
    {
     "name": "stderr",
     "output_type": "stream",
     "text": [
      "Downloading chunk 2 of 123 (10 files, size = 2.553879 MB) as Tue_Sep_15_16_16_15_2020_1.tar.gz\n"
     ]
    },
    {
     "name": "stdout",
     "output_type": "stream",
     "text": [
      "Downloading: 2.5 MB       "
     ]
    },
    {
     "name": "stderr",
     "output_type": "stream",
     "text": [
      "Downloading chunk 3 of 123 (10 files, size = 2.555859 MB) as Tue_Sep_15_16_16_15_2020_2.tar.gz\n"
     ]
    },
    {
     "name": "stdout",
     "output_type": "stream",
     "text": [
      "Downloading: 2.5 MB       "
     ]
    },
    {
     "name": "stderr",
     "output_type": "stream",
     "text": [
      "Downloading chunk 4 of 123 (10 files, size = 2.551648 MB) as Tue_Sep_15_16_16_15_2020_3.tar.gz\n"
     ]
    },
    {
     "name": "stdout",
     "output_type": "stream",
     "text": [
      "Downloading: 2.5 MB       "
     ]
    },
    {
     "name": "stderr",
     "output_type": "stream",
     "text": [
      "Downloading chunk 5 of 123 (10 files, size = 2.544234 MB) as Tue_Sep_15_16_16_15_2020_4.tar.gz\n"
     ]
    },
    {
     "name": "stdout",
     "output_type": "stream",
     "text": [
      "Downloading: 2.5 MB       "
     ]
    },
    {
     "name": "stderr",
     "output_type": "stream",
     "text": [
      "Downloading chunk 6 of 123 (10 files, size = 2.548533 MB) as Tue_Sep_15_16_16_15_2020_5.tar.gz\n"
     ]
    },
    {
     "name": "stdout",
     "output_type": "stream",
     "text": [
      "Downloading: 2.5 MB       "
     ]
    },
    {
     "name": "stderr",
     "output_type": "stream",
     "text": [
      "Downloading chunk 7 of 123 (10 files, size = 2.550204 MB) as Tue_Sep_15_16_16_15_2020_6.tar.gz\n"
     ]
    },
    {
     "name": "stdout",
     "output_type": "stream",
     "text": [
      "Downloading: 2.5 MB       "
     ]
    },
    {
     "name": "stderr",
     "output_type": "stream",
     "text": [
      "Downloading chunk 8 of 123 (10 files, size = 2.538471 MB) as Tue_Sep_15_16_16_15_2020_7.tar.gz\n"
     ]
    },
    {
     "name": "stdout",
     "output_type": "stream",
     "text": [
      "Downloading: 2.5 MB       "
     ]
    },
    {
     "name": "stderr",
     "output_type": "stream",
     "text": [
      "Downloading chunk 9 of 123 (10 files, size = 2.543641 MB) as Tue_Sep_15_16_16_15_2020_8.tar.gz\n"
     ]
    },
    {
     "name": "stdout",
     "output_type": "stream",
     "text": [
      "Downloading: 2.5 MB       "
     ]
    },
    {
     "name": "stderr",
     "output_type": "stream",
     "text": [
      "Downloading chunk 10 of 123 (10 files, size = 2.537036 MB) as Tue_Sep_15_16_16_15_2020_9.tar.gz\n"
     ]
    },
    {
     "name": "stdout",
     "output_type": "stream",
     "text": [
      "Downloading: 2.5 MB       "
     ]
    },
    {
     "name": "stderr",
     "output_type": "stream",
     "text": [
      "Downloading chunk 11 of 123 (10 files, size = 2.538664 MB) as Tue_Sep_15_16_16_15_2020_10.tar.gz\n"
     ]
    },
    {
     "name": "stdout",
     "output_type": "stream",
     "text": [
      "Downloading: 2.5 MB     "
     ]
    },
    {
     "name": "stderr",
     "output_type": "stream",
     "text": [
      "Downloading chunk 12 of 123 (10 files, size = 2.530501 MB) as Tue_Sep_15_16_16_15_2020_11.tar.gz\n"
     ]
    },
    {
     "name": "stdout",
     "output_type": "stream",
     "text": [
      "Downloading: 2.5 MB       "
     ]
    },
    {
     "name": "stderr",
     "output_type": "stream",
     "text": [
      "Downloading chunk 13 of 123 (10 files, size = 2.532912 MB) as Tue_Sep_15_16_16_15_2020_12.tar.gz\n"
     ]
    },
    {
     "name": "stdout",
     "output_type": "stream",
     "text": [
      "Downloading: 2.5 MB       "
     ]
    },
    {
     "name": "stderr",
     "output_type": "stream",
     "text": [
      "Downloading chunk 14 of 123 (10 files, size = 2.543346 MB) as Tue_Sep_15_16_16_15_2020_13.tar.gz\n"
     ]
    },
    {
     "name": "stdout",
     "output_type": "stream",
     "text": [
      "Downloading: 2.5 MB       "
     ]
    },
    {
     "name": "stderr",
     "output_type": "stream",
     "text": [
      "Downloading chunk 15 of 123 (10 files, size = 2.554133 MB) as Tue_Sep_15_16_16_15_2020_14.tar.gz\n"
     ]
    },
    {
     "name": "stdout",
     "output_type": "stream",
     "text": [
      "Downloading: 2.5 MB       "
     ]
    },
    {
     "name": "stderr",
     "output_type": "stream",
     "text": [
      "Downloading chunk 16 of 123 (10 files, size = 2.5527 MB) as Tue_Sep_15_16_16_15_2020_15.tar.gz\n"
     ]
    },
    {
     "name": "stdout",
     "output_type": "stream",
     "text": [
      "Downloading: 2.5 MB     "
     ]
    },
    {
     "name": "stderr",
     "output_type": "stream",
     "text": [
      "Downloading chunk 17 of 123 (10 files, size = 2.543714 MB) as Tue_Sep_15_16_16_15_2020_16.tar.gz\n"
     ]
    },
    {
     "name": "stdout",
     "output_type": "stream",
     "text": [
      "Downloading: 2.5 MB       "
     ]
    },
    {
     "name": "stderr",
     "output_type": "stream",
     "text": [
      "Downloading chunk 18 of 123 (10 files, size = 2.537472 MB) as Tue_Sep_15_16_16_15_2020_17.tar.gz\n"
     ]
    },
    {
     "name": "stdout",
     "output_type": "stream",
     "text": [
      "Downloading: 2.5 MB       "
     ]
    },
    {
     "name": "stderr",
     "output_type": "stream",
     "text": [
      "Downloading chunk 19 of 123 (10 files, size = 2.551843 MB) as Tue_Sep_15_16_16_15_2020_18.tar.gz\n"
     ]
    },
    {
     "name": "stdout",
     "output_type": "stream",
     "text": [
      "Downloading: 2.5 MB       "
     ]
    },
    {
     "name": "stderr",
     "output_type": "stream",
     "text": [
      "Downloading chunk 20 of 123 (10 files, size = 2.54571 MB) as Tue_Sep_15_16_16_15_2020_19.tar.gz\n"
     ]
    },
    {
     "name": "stdout",
     "output_type": "stream",
     "text": [
      "Downloading: 2.5 MB       "
     ]
    },
    {
     "name": "stderr",
     "output_type": "stream",
     "text": [
      "Downloading chunk 21 of 123 (10 files, size = 2.534238 MB) as Tue_Sep_15_16_16_15_2020_20.tar.gz\n"
     ]
    },
    {
     "name": "stdout",
     "output_type": "stream",
     "text": [
      "Downloading: 2.5 MB     "
     ]
    },
    {
     "name": "stderr",
     "output_type": "stream",
     "text": [
      "Downloading chunk 22 of 123 (10 files, size = 2.532046 MB) as Tue_Sep_15_16_16_15_2020_21.tar.gz\n"
     ]
    },
    {
     "name": "stdout",
     "output_type": "stream",
     "text": [
      "Downloading: 2.5 MB       "
     ]
    },
    {
     "name": "stderr",
     "output_type": "stream",
     "text": [
      "Downloading chunk 23 of 123 (10 files, size = 2.534137 MB) as Tue_Sep_15_16_16_15_2020_22.tar.gz\n"
     ]
    },
    {
     "name": "stdout",
     "output_type": "stream",
     "text": [
      "Downloading: 2.5 MB       "
     ]
    },
    {
     "name": "stderr",
     "output_type": "stream",
     "text": [
      "Downloading chunk 24 of 123 (10 files, size = 2.55986 MB) as Tue_Sep_15_16_16_15_2020_23.tar.gz\n"
     ]
    },
    {
     "name": "stdout",
     "output_type": "stream",
     "text": [
      "Downloading: 2.6 MB       "
     ]
    },
    {
     "name": "stderr",
     "output_type": "stream",
     "text": [
      "Downloading chunk 25 of 123 (10 files, size = 2.560033 MB) as Tue_Sep_15_16_16_15_2020_24.tar.gz\n"
     ]
    },
    {
     "name": "stdout",
     "output_type": "stream",
     "text": [
      "Downloading: 2.6 MB       "
     ]
    },
    {
     "name": "stderr",
     "output_type": "stream",
     "text": [
      "Downloading chunk 26 of 123 (10 files, size = 2.535914 MB) as Tue_Sep_15_16_16_15_2020_25.tar.gz\n"
     ]
    },
    {
     "name": "stdout",
     "output_type": "stream",
     "text": [
      "Downloading: 2.5 MB       "
     ]
    },
    {
     "name": "stderr",
     "output_type": "stream",
     "text": [
      "Downloading chunk 27 of 123 (10 files, size = 2.544914 MB) as Tue_Sep_15_16_16_15_2020_26.tar.gz\n"
     ]
    },
    {
     "name": "stdout",
     "output_type": "stream",
     "text": [
      "Downloading: 2.5 MB       "
     ]
    },
    {
     "name": "stderr",
     "output_type": "stream",
     "text": [
      "Downloading chunk 28 of 123 (10 files, size = 2.549801 MB) as Tue_Sep_15_16_16_15_2020_27.tar.gz\n"
     ]
    },
    {
     "name": "stdout",
     "output_type": "stream",
     "text": [
      "Downloading: 2.5 MB       "
     ]
    },
    {
     "name": "stderr",
     "output_type": "stream",
     "text": [
      "Downloading chunk 29 of 123 (10 files, size = 2.537587 MB) as Tue_Sep_15_16_16_15_2020_28.tar.gz\n"
     ]
    },
    {
     "name": "stdout",
     "output_type": "stream",
     "text": [
      "Downloading: 2.5 MB       "
     ]
    },
    {
     "name": "stderr",
     "output_type": "stream",
     "text": [
      "Downloading chunk 30 of 123 (10 files, size = 2.548569 MB) as Tue_Sep_15_16_16_15_2020_29.tar.gz\n"
     ]
    },
    {
     "name": "stdout",
     "output_type": "stream",
     "text": [
      "Downloading: 2.5 MB       "
     ]
    },
    {
     "name": "stderr",
     "output_type": "stream",
     "text": [
      "Downloading chunk 31 of 123 (10 files, size = 2.544384 MB) as Tue_Sep_15_16_16_15_2020_30.tar.gz\n"
     ]
    },
    {
     "name": "stdout",
     "output_type": "stream",
     "text": [
      "Downloading: 2.5 MB       "
     ]
    },
    {
     "name": "stderr",
     "output_type": "stream",
     "text": [
      "Downloading chunk 32 of 123 (10 files, size = 2.547873 MB) as Tue_Sep_15_16_16_15_2020_31.tar.gz\n"
     ]
    },
    {
     "name": "stdout",
     "output_type": "stream",
     "text": [
      "Downloading: 2.5 MB       "
     ]
    },
    {
     "name": "stderr",
     "output_type": "stream",
     "text": [
      "Downloading chunk 33 of 123 (10 files, size = 2.558422 MB) as Tue_Sep_15_16_16_15_2020_32.tar.gz\n"
     ]
    },
    {
     "name": "stdout",
     "output_type": "stream",
     "text": [
      "Downloading: 2.6 MB       "
     ]
    },
    {
     "name": "stderr",
     "output_type": "stream",
     "text": [
      "Downloading chunk 34 of 123 (10 files, size = 2.538785 MB) as Tue_Sep_15_16_16_15_2020_33.tar.gz\n"
     ]
    },
    {
     "name": "stdout",
     "output_type": "stream",
     "text": [
      "Downloading: 2.5 MB       "
     ]
    },
    {
     "name": "stderr",
     "output_type": "stream",
     "text": [
      "Downloading chunk 35 of 123 (10 files, size = 2.532187 MB) as Tue_Sep_15_16_16_15_2020_34.tar.gz\n"
     ]
    },
    {
     "name": "stdout",
     "output_type": "stream",
     "text": [
      "Downloading: 2.5 MB     "
     ]
    },
    {
     "name": "stderr",
     "output_type": "stream",
     "text": [
      "Downloading chunk 36 of 123 (10 files, size = 2.542375 MB) as Tue_Sep_15_16_16_15_2020_35.tar.gz\n"
     ]
    },
    {
     "name": "stdout",
     "output_type": "stream",
     "text": [
      "Downloading: 2.5 MB       "
     ]
    },
    {
     "name": "stderr",
     "output_type": "stream",
     "text": [
      "Downloading chunk 37 of 123 (10 files, size = 2.543608 MB) as Tue_Sep_15_16_16_15_2020_36.tar.gz\n"
     ]
    },
    {
     "name": "stdout",
     "output_type": "stream",
     "text": [
      "Downloading: 2.5 MB       "
     ]
    },
    {
     "name": "stderr",
     "output_type": "stream",
     "text": [
      "Downloading chunk 38 of 123 (10 files, size = 2.534536 MB) as Tue_Sep_15_16_16_15_2020_37.tar.gz\n"
     ]
    },
    {
     "name": "stdout",
     "output_type": "stream",
     "text": [
      "Downloading: 2.5 MB       "
     ]
    },
    {
     "name": "stderr",
     "output_type": "stream",
     "text": [
      "Downloading chunk 39 of 123 (10 files, size = 2.526378 MB) as Tue_Sep_15_16_16_15_2020_38.tar.gz\n"
     ]
    },
    {
     "name": "stdout",
     "output_type": "stream",
     "text": [
      "Downloading: 2.5 MB       "
     ]
    },
    {
     "name": "stderr",
     "output_type": "stream",
     "text": [
      "Downloading chunk 40 of 123 (10 files, size = 2.551036 MB) as Tue_Sep_15_16_16_15_2020_39.tar.gz\n"
     ]
    },
    {
     "name": "stdout",
     "output_type": "stream",
     "text": [
      "Downloading: 2.5 MB       "
     ]
    },
    {
     "name": "stderr",
     "output_type": "stream",
     "text": [
      "Downloading chunk 41 of 123 (10 files, size = 2.539465 MB) as Tue_Sep_15_16_16_15_2020_40.tar.gz\n"
     ]
    },
    {
     "name": "stdout",
     "output_type": "stream",
     "text": [
      "Downloading: 2.5 MB     "
     ]
    },
    {
     "name": "stderr",
     "output_type": "stream",
     "text": [
      "Downloading chunk 42 of 123 (10 files, size = 2.534972 MB) as Tue_Sep_15_16_16_15_2020_41.tar.gz\n"
     ]
    },
    {
     "name": "stdout",
     "output_type": "stream",
     "text": [
      "Downloading: 2.5 MB       "
     ]
    },
    {
     "name": "stderr",
     "output_type": "stream",
     "text": [
      "Downloading chunk 43 of 123 (10 files, size = 2.548431 MB) as Tue_Sep_15_16_16_15_2020_42.tar.gz\n"
     ]
    },
    {
     "name": "stdout",
     "output_type": "stream",
     "text": [
      "Downloading: 2.5 MB     "
     ]
    },
    {
     "name": "stderr",
     "output_type": "stream",
     "text": [
      "Downloading chunk 44 of 123 (10 files, size = 2.559977 MB) as Tue_Sep_15_16_16_15_2020_43.tar.gz\n"
     ]
    },
    {
     "name": "stdout",
     "output_type": "stream",
     "text": [
      "Downloading: 2.6 MB       "
     ]
    },
    {
     "name": "stderr",
     "output_type": "stream",
     "text": [
      "Downloading chunk 45 of 123 (10 files, size = 2.540564 MB) as Tue_Sep_15_16_16_15_2020_44.tar.gz\n"
     ]
    },
    {
     "name": "stdout",
     "output_type": "stream",
     "text": [
      "Downloading: 2.5 MB       "
     ]
    },
    {
     "name": "stderr",
     "output_type": "stream",
     "text": [
      "Downloading chunk 46 of 123 (10 files, size = 2.553497 MB) as Tue_Sep_15_16_16_15_2020_45.tar.gz\n"
     ]
    },
    {
     "name": "stdout",
     "output_type": "stream",
     "text": [
      "Downloading: 2.5 MB       "
     ]
    },
    {
     "name": "stderr",
     "output_type": "stream",
     "text": [
      "Downloading chunk 47 of 123 (10 files, size = 2.554181 MB) as Tue_Sep_15_16_16_15_2020_46.tar.gz\n"
     ]
    },
    {
     "name": "stdout",
     "output_type": "stream",
     "text": [
      "Downloading: 2.5 MB       "
     ]
    },
    {
     "name": "stderr",
     "output_type": "stream",
     "text": [
      "Downloading chunk 48 of 123 (10 files, size = 2.516413 MB) as Tue_Sep_15_16_16_15_2020_47.tar.gz\n"
     ]
    },
    {
     "name": "stdout",
     "output_type": "stream",
     "text": [
      "Downloading: 2.5 MB       "
     ]
    },
    {
     "name": "stderr",
     "output_type": "stream",
     "text": [
      "Downloading chunk 49 of 123 (10 files, size = 2.54021 MB) as Tue_Sep_15_16_16_15_2020_48.tar.gz\n"
     ]
    },
    {
     "name": "stdout",
     "output_type": "stream",
     "text": [
      "Downloading: 2.5 MB       "
     ]
    },
    {
     "name": "stderr",
     "output_type": "stream",
     "text": [
      "Downloading chunk 50 of 123 (10 files, size = 2.536234 MB) as Tue_Sep_15_16_16_15_2020_49.tar.gz\n"
     ]
    },
    {
     "name": "stdout",
     "output_type": "stream",
     "text": [
      "Downloading: 2.5 MB       "
     ]
    },
    {
     "name": "stderr",
     "output_type": "stream",
     "text": [
      "Downloading chunk 51 of 123 (10 files, size = 2.543287 MB) as Tue_Sep_15_16_16_15_2020_50.tar.gz\n"
     ]
    },
    {
     "name": "stdout",
     "output_type": "stream",
     "text": [
      "Downloading: 2.5 MB       "
     ]
    },
    {
     "name": "stderr",
     "output_type": "stream",
     "text": [
      "Downloading chunk 52 of 123 (10 files, size = 2.552016 MB) as Tue_Sep_15_16_16_15_2020_51.tar.gz\n"
     ]
    },
    {
     "name": "stdout",
     "output_type": "stream",
     "text": [
      "Downloading: 2.5 MB       "
     ]
    },
    {
     "name": "stderr",
     "output_type": "stream",
     "text": [
      "Downloading chunk 53 of 123 (10 files, size = 2.545517 MB) as Tue_Sep_15_16_16_15_2020_52.tar.gz\n"
     ]
    },
    {
     "name": "stdout",
     "output_type": "stream",
     "text": [
      "Downloading: 2.5 MB       "
     ]
    },
    {
     "name": "stderr",
     "output_type": "stream",
     "text": [
      "Downloading chunk 54 of 123 (10 files, size = 2.555137 MB) as Tue_Sep_15_16_16_15_2020_53.tar.gz\n"
     ]
    },
    {
     "name": "stdout",
     "output_type": "stream",
     "text": [
      "Downloading: 2.5 MB       "
     ]
    },
    {
     "name": "stderr",
     "output_type": "stream",
     "text": [
      "Downloading chunk 55 of 123 (10 files, size = 2.553134 MB) as Tue_Sep_15_16_16_15_2020_54.tar.gz\n"
     ]
    },
    {
     "name": "stdout",
     "output_type": "stream",
     "text": [
      "Downloading: 2.5 MB     "
     ]
    },
    {
     "name": "stderr",
     "output_type": "stream",
     "text": [
      "Downloading chunk 56 of 123 (10 files, size = 2.529342 MB) as Tue_Sep_15_16_16_15_2020_55.tar.gz\n"
     ]
    },
    {
     "name": "stdout",
     "output_type": "stream",
     "text": [
      "Downloading: 2.5 MB       "
     ]
    },
    {
     "name": "stderr",
     "output_type": "stream",
     "text": [
      "Downloading chunk 57 of 123 (10 files, size = 2.549819 MB) as Tue_Sep_15_16_16_15_2020_56.tar.gz\n"
     ]
    },
    {
     "name": "stdout",
     "output_type": "stream",
     "text": [
      "Downloading: 2.5 MB     "
     ]
    },
    {
     "name": "stderr",
     "output_type": "stream",
     "text": [
      "Downloading chunk 58 of 123 (10 files, size = 2.55505 MB) as Tue_Sep_15_16_16_15_2020_57.tar.gz\n"
     ]
    },
    {
     "name": "stdout",
     "output_type": "stream",
     "text": [
      "Downloading: 2.5 MB       "
     ]
    },
    {
     "name": "stderr",
     "output_type": "stream",
     "text": [
      "Downloading chunk 59 of 123 (10 files, size = 2.547319 MB) as Tue_Sep_15_16_16_15_2020_58.tar.gz\n"
     ]
    },
    {
     "name": "stdout",
     "output_type": "stream",
     "text": [
      "Downloading: 2.5 MB     "
     ]
    },
    {
     "name": "stderr",
     "output_type": "stream",
     "text": [
      "Downloading chunk 60 of 123 (10 files, size = 2.538856 MB) as Tue_Sep_15_16_16_15_2020_59.tar.gz\n"
     ]
    },
    {
     "name": "stdout",
     "output_type": "stream",
     "text": [
      "Downloading: 2.5 MB       "
     ]
    },
    {
     "name": "stderr",
     "output_type": "stream",
     "text": [
      "Downloading chunk 61 of 123 (10 files, size = 2.525881 MB) as Tue_Sep_15_16_16_15_2020_60.tar.gz\n"
     ]
    },
    {
     "name": "stdout",
     "output_type": "stream",
     "text": [
      "Downloading: 2.5 MB       "
     ]
    },
    {
     "name": "stderr",
     "output_type": "stream",
     "text": [
      "Downloading chunk 62 of 123 (10 files, size = 2.527676 MB) as Tue_Sep_15_16_16_15_2020_61.tar.gz\n"
     ]
    },
    {
     "name": "stdout",
     "output_type": "stream",
     "text": [
      "Downloading: 2.5 MB       "
     ]
    },
    {
     "name": "stderr",
     "output_type": "stream",
     "text": [
      "Downloading chunk 63 of 123 (10 files, size = 2.549812 MB) as Tue_Sep_15_16_16_15_2020_62.tar.gz\n"
     ]
    },
    {
     "name": "stdout",
     "output_type": "stream",
     "text": [
      "Downloading: 2.5 MB       "
     ]
    },
    {
     "name": "stderr",
     "output_type": "stream",
     "text": [
      "Downloading chunk 64 of 123 (10 files, size = 2.540966 MB) as Tue_Sep_15_16_16_15_2020_63.tar.gz\n"
     ]
    },
    {
     "name": "stdout",
     "output_type": "stream",
     "text": [
      "Downloading: 2.5 MB       "
     ]
    },
    {
     "name": "stderr",
     "output_type": "stream",
     "text": [
      "Downloading chunk 65 of 123 (10 files, size = 2.518445 MB) as Tue_Sep_15_16_16_15_2020_64.tar.gz\n"
     ]
    },
    {
     "name": "stdout",
     "output_type": "stream",
     "text": [
      "Downloading: 2.5 MB     "
     ]
    },
    {
     "name": "stderr",
     "output_type": "stream",
     "text": [
      "Downloading chunk 66 of 123 (10 files, size = 2.532663 MB) as Tue_Sep_15_16_16_15_2020_65.tar.gz\n"
     ]
    },
    {
     "name": "stdout",
     "output_type": "stream",
     "text": [
      "Downloading: 2.5 MB       "
     ]
    },
    {
     "name": "stderr",
     "output_type": "stream",
     "text": [
      "Downloading chunk 67 of 123 (10 files, size = 2.518073 MB) as Tue_Sep_15_16_16_15_2020_66.tar.gz\n"
     ]
    },
    {
     "name": "stdout",
     "output_type": "stream",
     "text": [
      "Downloading: 2.5 MB     "
     ]
    },
    {
     "name": "stderr",
     "output_type": "stream",
     "text": [
      "Downloading chunk 68 of 123 (10 files, size = 2.539858 MB) as Tue_Sep_15_16_16_15_2020_67.tar.gz\n"
     ]
    },
    {
     "name": "stdout",
     "output_type": "stream",
     "text": [
      "Downloading: 2.5 MB       "
     ]
    },
    {
     "name": "stderr",
     "output_type": "stream",
     "text": [
      "Downloading chunk 69 of 123 (10 files, size = 2.55855 MB) as Tue_Sep_15_16_16_15_2020_68.tar.gz\n"
     ]
    },
    {
     "name": "stdout",
     "output_type": "stream",
     "text": [
      "Downloading: 2.6 MB       "
     ]
    },
    {
     "name": "stderr",
     "output_type": "stream",
     "text": [
      "Downloading chunk 70 of 123 (10 files, size = 2.527749 MB) as Tue_Sep_15_16_16_15_2020_69.tar.gz\n"
     ]
    },
    {
     "name": "stdout",
     "output_type": "stream",
     "text": [
      "Downloading: 2.5 MB       "
     ]
    },
    {
     "name": "stderr",
     "output_type": "stream",
     "text": [
      "Downloading chunk 71 of 123 (10 files, size = 2.532069 MB) as Tue_Sep_15_16_16_15_2020_70.tar.gz\n"
     ]
    },
    {
     "name": "stdout",
     "output_type": "stream",
     "text": [
      "Downloading: 2.5 MB     "
     ]
    },
    {
     "name": "stderr",
     "output_type": "stream",
     "text": [
      "Downloading chunk 72 of 123 (10 files, size = 2.545364 MB) as Tue_Sep_15_16_16_15_2020_71.tar.gz\n"
     ]
    },
    {
     "name": "stdout",
     "output_type": "stream",
     "text": [
      "Downloading: 2.5 MB       "
     ]
    },
    {
     "name": "stderr",
     "output_type": "stream",
     "text": [
      "Downloading chunk 73 of 123 (10 files, size = 2.547647 MB) as Tue_Sep_15_16_16_15_2020_72.tar.gz\n"
     ]
    },
    {
     "name": "stdout",
     "output_type": "stream",
     "text": [
      "Downloading: 2.5 MB     "
     ]
    },
    {
     "name": "stderr",
     "output_type": "stream",
     "text": [
      "Downloading chunk 74 of 123 (10 files, size = 2.55715 MB) as Tue_Sep_15_16_16_15_2020_73.tar.gz\n"
     ]
    },
    {
     "name": "stdout",
     "output_type": "stream",
     "text": [
      "Downloading: 2.6 MB       "
     ]
    },
    {
     "name": "stderr",
     "output_type": "stream",
     "text": [
      "Downloading chunk 75 of 123 (10 files, size = 2.522673 MB) as Tue_Sep_15_16_16_15_2020_74.tar.gz\n"
     ]
    },
    {
     "name": "stdout",
     "output_type": "stream",
     "text": [
      "Downloading: 2.5 MB     "
     ]
    },
    {
     "name": "stderr",
     "output_type": "stream",
     "text": [
      "Downloading chunk 76 of 123 (10 files, size = 2.545072 MB) as Tue_Sep_15_16_16_15_2020_75.tar.gz\n"
     ]
    },
    {
     "name": "stdout",
     "output_type": "stream",
     "text": [
      "Downloading: 2.5 MB       "
     ]
    },
    {
     "name": "stderr",
     "output_type": "stream",
     "text": [
      "Downloading chunk 77 of 123 (10 files, size = 2.552045 MB) as Tue_Sep_15_16_16_15_2020_76.tar.gz\n"
     ]
    },
    {
     "name": "stdout",
     "output_type": "stream",
     "text": [
      "Downloading: 2.5 MB     "
     ]
    },
    {
     "name": "stderr",
     "output_type": "stream",
     "text": [
      "Downloading chunk 78 of 123 (10 files, size = 2.544992 MB) as Tue_Sep_15_16_16_15_2020_77.tar.gz\n"
     ]
    },
    {
     "name": "stdout",
     "output_type": "stream",
     "text": [
      "Downloading: 2.5 MB       "
     ]
    },
    {
     "name": "stderr",
     "output_type": "stream",
     "text": [
      "Downloading chunk 79 of 123 (10 files, size = 2.544958 MB) as Tue_Sep_15_16_16_15_2020_78.tar.gz\n"
     ]
    },
    {
     "name": "stdout",
     "output_type": "stream",
     "text": [
      "Downloading: 2.5 MB     "
     ]
    },
    {
     "name": "stderr",
     "output_type": "stream",
     "text": [
      "Downloading chunk 80 of 123 (10 files, size = 2.533673 MB) as Tue_Sep_15_16_16_15_2020_79.tar.gz\n"
     ]
    },
    {
     "name": "stdout",
     "output_type": "stream",
     "text": [
      "Downloading: 2.5 MB     "
     ]
    },
    {
     "name": "stderr",
     "output_type": "stream",
     "text": [
      "Downloading chunk 81 of 123 (10 files, size = 2.561907 MB) as Tue_Sep_15_16_16_15_2020_80.tar.gz\n"
     ]
    },
    {
     "name": "stdout",
     "output_type": "stream",
     "text": [
      "Downloading: 2.6 MB       "
     ]
    },
    {
     "name": "stderr",
     "output_type": "stream",
     "text": [
      "Downloading chunk 82 of 123 (10 files, size = 2.538314 MB) as Tue_Sep_15_16_16_15_2020_81.tar.gz\n"
     ]
    },
    {
     "name": "stdout",
     "output_type": "stream",
     "text": [
      "Downloading: 2.5 MB       "
     ]
    },
    {
     "name": "stderr",
     "output_type": "stream",
     "text": [
      "Downloading chunk 83 of 123 (10 files, size = 2.552011 MB) as Tue_Sep_15_16_16_15_2020_82.tar.gz\n"
     ]
    },
    {
     "name": "stdout",
     "output_type": "stream",
     "text": [
      "Downloading: 2.5 MB       "
     ]
    },
    {
     "name": "stderr",
     "output_type": "stream",
     "text": [
      "Downloading chunk 84 of 123 (10 files, size = 2.540321 MB) as Tue_Sep_15_16_16_15_2020_83.tar.gz\n"
     ]
    },
    {
     "name": "stdout",
     "output_type": "stream",
     "text": [
      "Downloading: 2.5 MB     "
     ]
    },
    {
     "name": "stderr",
     "output_type": "stream",
     "text": [
      "Downloading chunk 85 of 123 (10 files, size = 2.546799 MB) as Tue_Sep_15_16_16_15_2020_84.tar.gz\n"
     ]
    },
    {
     "name": "stdout",
     "output_type": "stream",
     "text": [
      "Downloading: 2.5 MB       "
     ]
    },
    {
     "name": "stderr",
     "output_type": "stream",
     "text": [
      "Downloading chunk 86 of 123 (10 files, size = 2.523706 MB) as Tue_Sep_15_16_16_15_2020_85.tar.gz\n"
     ]
    },
    {
     "name": "stdout",
     "output_type": "stream",
     "text": [
      "Downloading: 2.5 MB     "
     ]
    },
    {
     "name": "stderr",
     "output_type": "stream",
     "text": [
      "Downloading chunk 87 of 123 (10 files, size = 2.538568 MB) as Tue_Sep_15_16_16_15_2020_86.tar.gz\n"
     ]
    },
    {
     "name": "stdout",
     "output_type": "stream",
     "text": [
      "Downloading: 2.5 MB       "
     ]
    },
    {
     "name": "stderr",
     "output_type": "stream",
     "text": [
      "Downloading chunk 88 of 123 (10 files, size = 2.527232 MB) as Tue_Sep_15_16_16_15_2020_87.tar.gz\n"
     ]
    },
    {
     "name": "stdout",
     "output_type": "stream",
     "text": [
      "Downloading: 2.5 MB       "
     ]
    },
    {
     "name": "stderr",
     "output_type": "stream",
     "text": [
      "Downloading chunk 89 of 123 (10 files, size = 2.542667 MB) as Tue_Sep_15_16_16_15_2020_88.tar.gz\n"
     ]
    },
    {
     "name": "stdout",
     "output_type": "stream",
     "text": [
      "Downloading: 2.5 MB       "
     ]
    },
    {
     "name": "stderr",
     "output_type": "stream",
     "text": [
      "Downloading chunk 90 of 123 (10 files, size = 2.548135 MB) as Tue_Sep_15_16_16_15_2020_89.tar.gz\n"
     ]
    },
    {
     "name": "stdout",
     "output_type": "stream",
     "text": [
      "Downloading: 2.5 MB     "
     ]
    },
    {
     "name": "stderr",
     "output_type": "stream",
     "text": [
      "Downloading chunk 91 of 123 (10 files, size = 2.541777 MB) as Tue_Sep_15_16_16_15_2020_90.tar.gz\n"
     ]
    },
    {
     "name": "stdout",
     "output_type": "stream",
     "text": [
      "Downloading: 2.5 MB       "
     ]
    },
    {
     "name": "stderr",
     "output_type": "stream",
     "text": [
      "Downloading chunk 92 of 123 (10 files, size = 2.533706 MB) as Tue_Sep_15_16_16_15_2020_91.tar.gz\n"
     ]
    },
    {
     "name": "stdout",
     "output_type": "stream",
     "text": [
      "Downloading: 2.5 MB     "
     ]
    },
    {
     "name": "stderr",
     "output_type": "stream",
     "text": [
      "Downloading chunk 93 of 123 (10 files, size = 2.552891 MB) as Tue_Sep_15_16_16_15_2020_92.tar.gz\n"
     ]
    },
    {
     "name": "stdout",
     "output_type": "stream",
     "text": [
      "Downloading: 2.5 MB       "
     ]
    },
    {
     "name": "stderr",
     "output_type": "stream",
     "text": [
      "Downloading chunk 94 of 123 (10 files, size = 2.544355 MB) as Tue_Sep_15_16_16_15_2020_93.tar.gz\n"
     ]
    },
    {
     "name": "stdout",
     "output_type": "stream",
     "text": [
      "Downloading: 2.5 MB     "
     ]
    },
    {
     "name": "stderr",
     "output_type": "stream",
     "text": [
      "Downloading chunk 95 of 123 (10 files, size = 2.557938 MB) as Tue_Sep_15_16_16_15_2020_94.tar.gz\n"
     ]
    },
    {
     "name": "stdout",
     "output_type": "stream",
     "text": [
      "Downloading: 2.6 MB     "
     ]
    },
    {
     "name": "stderr",
     "output_type": "stream",
     "text": [
      "Downloading chunk 96 of 123 (10 files, size = 2.537086 MB) as Tue_Sep_15_16_16_15_2020_95.tar.gz\n"
     ]
    },
    {
     "name": "stdout",
     "output_type": "stream",
     "text": [
      "Downloading: 2.5 MB       "
     ]
    },
    {
     "name": "stderr",
     "output_type": "stream",
     "text": [
      "Downloading chunk 97 of 123 (10 files, size = 2.545981 MB) as Tue_Sep_15_16_16_15_2020_96.tar.gz\n"
     ]
    },
    {
     "name": "stdout",
     "output_type": "stream",
     "text": [
      "Downloading: 2.5 MB       "
     ]
    },
    {
     "name": "stderr",
     "output_type": "stream",
     "text": [
      "Downloading chunk 98 of 123 (10 files, size = 2.540058 MB) as Tue_Sep_15_16_16_15_2020_97.tar.gz\n"
     ]
    },
    {
     "name": "stdout",
     "output_type": "stream",
     "text": [
      "Downloading: 2.5 MB       "
     ]
    },
    {
     "name": "stderr",
     "output_type": "stream",
     "text": [
      "Downloading chunk 99 of 123 (10 files, size = 2.516888 MB) as Tue_Sep_15_16_16_15_2020_98.tar.gz\n"
     ]
    },
    {
     "name": "stdout",
     "output_type": "stream",
     "text": [
      "Downloading: 2.5 MB     "
     ]
    },
    {
     "name": "stderr",
     "output_type": "stream",
     "text": [
      "Downloading chunk 100 of 123 (10 files, size = 2.535845 MB) as Tue_Sep_15_16_16_15_2020_99.tar.gz\n"
     ]
    },
    {
     "name": "stdout",
     "output_type": "stream",
     "text": [
      "Downloading: 2.5 MB       "
     ]
    },
    {
     "name": "stderr",
     "output_type": "stream",
     "text": [
      "Downloading chunk 101 of 123 (10 files, size = 2.542519 MB) as Tue_Sep_15_16_16_15_2020_100.tar.gz\n"
     ]
    },
    {
     "name": "stdout",
     "output_type": "stream",
     "text": [
      "Downloading: 2.5 MB     "
     ]
    },
    {
     "name": "stderr",
     "output_type": "stream",
     "text": [
      "Downloading chunk 102 of 123 (10 files, size = 2.526626 MB) as Tue_Sep_15_16_16_15_2020_101.tar.gz\n"
     ]
    },
    {
     "name": "stdout",
     "output_type": "stream",
     "text": [
      "Downloading: 2.5 MB       "
     ]
    },
    {
     "name": "stderr",
     "output_type": "stream",
     "text": [
      "Downloading chunk 103 of 123 (10 files, size = 2.558204 MB) as Tue_Sep_15_16_16_15_2020_102.tar.gz\n"
     ]
    },
    {
     "name": "stdout",
     "output_type": "stream",
     "text": [
      "Downloading: 2.6 MB     "
     ]
    },
    {
     "name": "stderr",
     "output_type": "stream",
     "text": [
      "Downloading chunk 104 of 123 (10 files, size = 2.541304 MB) as Tue_Sep_15_16_16_15_2020_103.tar.gz\n"
     ]
    },
    {
     "name": "stdout",
     "output_type": "stream",
     "text": [
      "Downloading: 2.5 MB       "
     ]
    },
    {
     "name": "stderr",
     "output_type": "stream",
     "text": [
      "Downloading chunk 105 of 123 (10 files, size = 2.548615 MB) as Tue_Sep_15_16_16_15_2020_104.tar.gz\n"
     ]
    },
    {
     "name": "stdout",
     "output_type": "stream",
     "text": [
      "Downloading: 2.5 MB     "
     ]
    },
    {
     "name": "stderr",
     "output_type": "stream",
     "text": [
      "Downloading chunk 106 of 123 (10 files, size = 2.571523 MB) as Tue_Sep_15_16_16_15_2020_105.tar.gz\n"
     ]
    },
    {
     "name": "stdout",
     "output_type": "stream",
     "text": [
      "Downloading: 2.6 MB       "
     ]
    },
    {
     "name": "stderr",
     "output_type": "stream",
     "text": [
      "Downloading chunk 107 of 123 (10 files, size = 2.533453 MB) as Tue_Sep_15_16_16_15_2020_106.tar.gz\n"
     ]
    },
    {
     "name": "stdout",
     "output_type": "stream",
     "text": [
      "Downloading: 2.5 MB     "
     ]
    },
    {
     "name": "stderr",
     "output_type": "stream",
     "text": [
      "Downloading chunk 108 of 123 (10 files, size = 2.538887 MB) as Tue_Sep_15_16_16_15_2020_107.tar.gz\n"
     ]
    },
    {
     "name": "stdout",
     "output_type": "stream",
     "text": [
      "Downloading: 2.5 MB       "
     ]
    },
    {
     "name": "stderr",
     "output_type": "stream",
     "text": [
      "Downloading chunk 109 of 123 (10 files, size = 2.552716 MB) as Tue_Sep_15_16_16_15_2020_108.tar.gz\n"
     ]
    },
    {
     "name": "stdout",
     "output_type": "stream",
     "text": [
      "Downloading: 2.5 MB       "
     ]
    },
    {
     "name": "stderr",
     "output_type": "stream",
     "text": [
      "Downloading chunk 110 of 123 (10 files, size = 2.557063 MB) as Tue_Sep_15_16_16_15_2020_109.tar.gz\n"
     ]
    },
    {
     "name": "stdout",
     "output_type": "stream",
     "text": [
      "Downloading: 2.6 MB       "
     ]
    },
    {
     "name": "stderr",
     "output_type": "stream",
     "text": [
      "Downloading chunk 111 of 123 (10 files, size = 2.557587 MB) as Tue_Sep_15_16_16_15_2020_110.tar.gz\n"
     ]
    },
    {
     "name": "stdout",
     "output_type": "stream",
     "text": [
      "Downloading: 2.6 MB       "
     ]
    },
    {
     "name": "stderr",
     "output_type": "stream",
     "text": [
      "Downloading chunk 112 of 123 (10 files, size = 2.555867 MB) as Tue_Sep_15_16_16_15_2020_111.tar.gz\n"
     ]
    },
    {
     "name": "stdout",
     "output_type": "stream",
     "text": [
      "Downloading: 2.5 MB     "
     ]
    },
    {
     "name": "stderr",
     "output_type": "stream",
     "text": [
      "Downloading chunk 113 of 123 (10 files, size = 2.529252 MB) as Tue_Sep_15_16_16_15_2020_112.tar.gz\n"
     ]
    },
    {
     "name": "stdout",
     "output_type": "stream",
     "text": [
      "Downloading: 2.5 MB       "
     ]
    },
    {
     "name": "stderr",
     "output_type": "stream",
     "text": [
      "Downloading chunk 114 of 123 (10 files, size = 2.559467 MB) as Tue_Sep_15_16_16_15_2020_113.tar.gz\n"
     ]
    },
    {
     "name": "stdout",
     "output_type": "stream",
     "text": [
      "Downloading: 2.6 MB     "
     ]
    },
    {
     "name": "stderr",
     "output_type": "stream",
     "text": [
      "Downloading chunk 115 of 123 (10 files, size = 2.512709 MB) as Tue_Sep_15_16_16_15_2020_114.tar.gz\n"
     ]
    },
    {
     "name": "stdout",
     "output_type": "stream",
     "text": [
      "Downloading: 2.5 MB       "
     ]
    },
    {
     "name": "stderr",
     "output_type": "stream",
     "text": [
      "Downloading chunk 116 of 123 (10 files, size = 2.544341 MB) as Tue_Sep_15_16_16_15_2020_115.tar.gz\n"
     ]
    },
    {
     "name": "stdout",
     "output_type": "stream",
     "text": [
      "Downloading: 2.5 MB     "
     ]
    },
    {
     "name": "stderr",
     "output_type": "stream",
     "text": [
      "Downloading chunk 117 of 123 (10 files, size = 2.550581 MB) as Tue_Sep_15_16_16_15_2020_116.tar.gz\n"
     ]
    },
    {
     "name": "stdout",
     "output_type": "stream",
     "text": [
      "Downloading: 2.5 MB       "
     ]
    },
    {
     "name": "stderr",
     "output_type": "stream",
     "text": [
      "Downloading chunk 118 of 123 (10 files, size = 2.547026 MB) as Tue_Sep_15_16_16_15_2020_117.tar.gz\n"
     ]
    },
    {
     "name": "stdout",
     "output_type": "stream",
     "text": [
      "Downloading: 2.5 MB       "
     ]
    },
    {
     "name": "stderr",
     "output_type": "stream",
     "text": [
      "Downloading chunk 119 of 123 (10 files, size = 2.553045 MB) as Tue_Sep_15_16_16_15_2020_118.tar.gz\n"
     ]
    },
    {
     "name": "stdout",
     "output_type": "stream",
     "text": [
      "Downloading: 2.5 MB     "
     ]
    },
    {
     "name": "stderr",
     "output_type": "stream",
     "text": [
      "Downloading chunk 120 of 123 (10 files, size = 2.53485 MB) as Tue_Sep_15_16_16_15_2020_119.tar.gz\n"
     ]
    },
    {
     "name": "stdout",
     "output_type": "stream",
     "text": [
      "Downloading: 2.5 MB       "
     ]
    },
    {
     "name": "stderr",
     "output_type": "stream",
     "text": [
      "Downloading chunk 121 of 123 (10 files, size = 2.548373 MB) as Tue_Sep_15_16_16_15_2020_120.tar.gz\n"
     ]
    },
    {
     "name": "stdout",
     "output_type": "stream",
     "text": [
      "Downloading: 2.5 MB     "
     ]
    },
    {
     "name": "stderr",
     "output_type": "stream",
     "text": [
      "Downloading chunk 122 of 123 (10 files, size = 2.545924 MB) as Tue_Sep_15_16_16_15_2020_121.tar.gz\n"
     ]
    },
    {
     "name": "stdout",
     "output_type": "stream",
     "text": [
      "Downloading: 2.5 MB       "
     ]
    },
    {
     "name": "stderr",
     "output_type": "stream",
     "text": [
      "Downloading chunk 123 of 123 (2 files, size = 502.93 KB) as Tue_Sep_15_16_16_15_2020_122.tar.gz\n"
     ]
    },
    {
     "name": "stdout",
     "output_type": "stream",
     "text": [
      "|====================================================|100%                      Completed after 2 m \n"
     ]
    },
    {
     "name": "stderr",
     "output_type": "stream",
     "text": [
      "Starting to add information to samples\n",
      " => Add clinical information to samples\n",
      "Add FFPE information. More information at: \n",
      "=> https://cancergenome.nih.gov/cancersselected/biospeccriteria \n",
      "=> http://gdac.broadinstitute.org/runs/sampleReports/latest/FPPP_FFPE_Cases.html\n",
      " => Adding subtype information to samples\n",
      "brca subtype information from:doi.org/10.1016/j.ccell.2018.03.014\n",
      "Accessing www.ensembl.org to get gene information\n",
      "Downloading genome information (try:0) Using: Human genes (GRCh38.p13)\n",
      "Warning message:\n",
      "“`select_()` is deprecated as of dplyr 0.7.0.\n",
      "Please use `select()` instead.\n",
      "This warning is displayed once every 8 hours.\n",
      "Call `lifecycle::last_warnings()` to see where this warning was generated.”Warning message:\n",
      "“`filter_()` is deprecated as of dplyr 0.7.0.\n",
      "Please use `filter()` instead.\n",
      "See vignette('programming') for more help\n",
      "This warning is displayed once every 8 hours.\n",
      "Call `lifecycle::last_warnings()` to see where this warning was generated.”From the 60483 genes we couldn't map 4026\n"
     ]
    },
    {
     "data": {
      "text/plain": [
       "class: RangedSummarizedExperiment \n",
       "dim: 56457 1222 \n",
       "metadata(1): data_release\n",
       "assays(1): HTSeq - Counts\n",
       "rownames(56457): ENSG00000000003 ENSG00000000005 ... ENSG00000281912\n",
       "  ENSG00000281920\n",
       "rowData names(3): ensembl_gene_id external_gene_name\n",
       "  original_ensembl_gene_id\n",
       "colnames(1222): TCGA-A2-A0T0-01A-22R-A084-07\n",
       "  TCGA-BH-A0W4-01A-11R-A109-07 ... TCGA-LL-A5YL-01A-12R-A29R-07\n",
       "  TCGA-A8-A08X-01A-21R-A00Z-07\n",
       "colData names(91): sample patient ... subtype_PARADIGM.Clusters\n",
       "  subtype_Pan.Gyn.Clusters"
      ]
     },
     "metadata": {},
     "output_type": "display_data"
    }
   ],
   "source": [
    "proj_idx <- 5\n",
    "q <- rna_seq_query(projects[proj_idx])\n",
    "GDCdownload(q, method = \"api\", directory = TCGA_dest_dir, files.per.chunk = 10)\n",
    "data <- GDCprepare(q, directory = TCGA_dest_dir)\n",
    "data\n",
    "saveHDF5SummarizedExperiment(data, dir = RSE_objects_dest_dir, prefix = paste0(projects[proj_idx], \"_RNA_\"))"
   ]
  },
  {
   "cell_type": "markdown",
   "metadata": {},
   "source": [
    "# Save data in count matrix + coldata format\n",
    "\n",
    "Save data in a format ready for DESeq/clustering/etc."
   ]
  },
  {
   "cell_type": "code",
   "execution_count": 5,
   "metadata": {},
   "outputs": [],
   "source": [
    "data_ls <- load_RSE_objects(RSE_objects_dest_dir, projects, paste0(projects, \"_RNA_\"))"
   ]
  },
  {
   "cell_type": "code",
   "execution_count": 6,
   "metadata": {},
   "outputs": [
    {
     "name": "stderr",
     "output_type": "stream",
     "text": [
      "Warning message in dir.create(paste0(dest_dir, \"/\", dest_subdir)):\n",
      "“'/mnt/d/fogg_lab_gyn_cancer_data/TCGA_RNA_matrix_count_data' already exists”"
     ]
    }
   ],
   "source": [
    "prep_and_save_count_data(\n",
    "    rses = data_ls,\n",
    "    label_field = \"definition\",\n",
    "    dest_dir = dirs$data_dir,\n",
    "    dest_subdir = \"TCGA_RNA_matrix_count_data\"\n",
    ")"
   ]
  },
  {
   "cell_type": "code",
   "execution_count": null,
   "metadata": {},
   "outputs": [],
   "source": []
  }
 ],
 "metadata": {
  "kernelspec": {
   "display_name": "R",
   "language": "R",
   "name": "ir"
  },
  "language_info": {
   "codemirror_mode": "r",
   "file_extension": ".r",
   "mimetype": "text/x-r-source",
   "name": "R",
   "pygments_lexer": "r",
   "version": "3.6.3"
  }
 },
 "nbformat": 4,
 "nbformat_minor": 4
}
