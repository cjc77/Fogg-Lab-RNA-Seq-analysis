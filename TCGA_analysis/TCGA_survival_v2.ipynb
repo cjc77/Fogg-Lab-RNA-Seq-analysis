{
 "cells": [
  {
   "cell_type": "code",
   "execution_count": 1,
   "metadata": {
    "collapsed": true,
    "jupyter": {
     "outputs_hidden": true
    }
   },
   "outputs": [
    {
     "name": "stderr",
     "output_type": "stream",
     "text": [
      "── Attaching packages ─────────────────────────────────────── tidyverse 1.3.0 ──\n",
      "✔ ggplot2 3.3.2     ✔ purrr   0.3.4\n",
      "✔ tibble  3.0.3     ✔ dplyr   1.0.0\n",
      "✔ tidyr   1.1.0     ✔ stringr 1.4.0\n",
      "✔ readr   1.3.1     ✔ forcats 0.5.0\n",
      "── Conflicts ────────────────────────────────────────── tidyverse_conflicts() ──\n",
      "✖ dplyr::filter() masks stats::filter()\n",
      "✖ dplyr::lag()    masks stats::lag()\n",
      "Loading required package: ggpubr\n",
      "Loading required package: S4Vectors\n",
      "Loading required package: stats4\n",
      "Loading required package: BiocGenerics\n",
      "Loading required package: parallel\n",
      "\n",
      "Attaching package: ‘BiocGenerics’\n",
      "\n",
      "The following objects are masked from ‘package:parallel’:\n",
      "\n",
      "    clusterApply, clusterApplyLB, clusterCall, clusterEvalQ,\n",
      "    clusterExport, clusterMap, parApply, parCapply, parLapply,\n",
      "    parLapplyLB, parRapply, parSapply, parSapplyLB\n",
      "\n",
      "The following objects are masked from ‘package:dplyr’:\n",
      "\n",
      "    combine, intersect, setdiff, union\n",
      "\n",
      "The following objects are masked from ‘package:stats’:\n",
      "\n",
      "    IQR, mad, sd, var, xtabs\n",
      "\n",
      "The following objects are masked from ‘package:base’:\n",
      "\n",
      "    anyDuplicated, append, as.data.frame, basename, cbind, colnames,\n",
      "    dirname, do.call, duplicated, eval, evalq, Filter, Find, get, grep,\n",
      "    grepl, intersect, is.unsorted, lapply, Map, mapply, match, mget,\n",
      "    order, paste, pmax, pmax.int, pmin, pmin.int, Position, rank,\n",
      "    rbind, Reduce, rownames, sapply, setdiff, sort, table, tapply,\n",
      "    union, unique, unsplit, which, which.max, which.min\n",
      "\n",
      "\n",
      "Attaching package: ‘S4Vectors’\n",
      "\n",
      "The following objects are masked from ‘package:dplyr’:\n",
      "\n",
      "    first, rename\n",
      "\n",
      "The following object is masked from ‘package:tidyr’:\n",
      "\n",
      "    expand\n",
      "\n",
      "The following object is masked from ‘package:base’:\n",
      "\n",
      "    expand.grid\n",
      "\n",
      "Loading required package: IRanges\n",
      "\n",
      "Attaching package: ‘IRanges’\n",
      "\n",
      "The following objects are masked from ‘package:dplyr’:\n",
      "\n",
      "    collapse, desc, slice\n",
      "\n",
      "The following object is masked from ‘package:purrr’:\n",
      "\n",
      "    reduce\n",
      "\n",
      "Loading required package: GenomicRanges\n",
      "Loading required package: GenomeInfoDb\n",
      "Loading required package: SummarizedExperiment\n",
      "Loading required package: Biobase\n",
      "Welcome to Bioconductor\n",
      "\n",
      "    Vignettes contain introductory material; view with\n",
      "    'browseVignettes()'. To cite Bioconductor, see\n",
      "    'citation(\"Biobase\")', and for packages 'citation(\"pkgname\")'.\n",
      "\n",
      "Loading required package: DelayedArray\n",
      "Loading required package: matrixStats\n",
      "\n",
      "Attaching package: ‘matrixStats’\n",
      "\n",
      "The following objects are masked from ‘package:Biobase’:\n",
      "\n",
      "    anyMissing, rowMedians\n",
      "\n",
      "The following object is masked from ‘package:dplyr’:\n",
      "\n",
      "    count\n",
      "\n",
      "Loading required package: BiocParallel\n",
      "\n",
      "Attaching package: ‘DelayedArray’\n",
      "\n",
      "The following objects are masked from ‘package:matrixStats’:\n",
      "\n",
      "    colMaxs, colMins, colRanges, rowMaxs, rowMins, rowRanges\n",
      "\n",
      "The following object is masked from ‘package:purrr’:\n",
      "\n",
      "    simplify\n",
      "\n",
      "The following objects are masked from ‘package:base’:\n",
      "\n",
      "    aperm, apply, rowsum\n",
      "\n"
     ]
    }
   ],
   "source": [
    "library(tidyverse)\n",
    "library(survival)\n",
    "library(survminer)\n",
    "library(DESeq2)\n",
    "\n",
    "# Custom package\n",
    "library(rutils)"
   ]
  },
  {
   "cell_type": "code",
   "execution_count": null,
   "metadata": {},
   "outputs": [],
   "source": [
    "dirs <- rutils::get_dev_directories(dev_paths_file = \"../dev_paths.txt\")\n",
    "projects <- c(\"TCGA-CESC\", \"TCGA-UCS\", \"TCGA-UCEC\", \"TCGA-OV\")\n",
    "unified_dsets <- c(\"unified_cervical_data\", \"unified_uterine_data\", \"unified_uterine_endometrial_data\")\n",
    "matrisome_list <- paste0(dirs$data_dir, \"/matrisome/matrisome_hs_masterlist.tsv\")"
   ]
  },
  {
   "cell_type": "code",
   "execution_count": null,
   "metadata": {},
   "outputs": [],
   "source": [
    "i <- 1"
   ]
  },
  {
   "cell_type": "code",
   "execution_count": null,
   "metadata": {},
   "outputs": [],
   "source": [
    "sig_deg_df <- read_tsv(paste0(dirs$analysis_dir, \"/\", unified_dsets[i], \"_sig_DESeq_results_xref_matrisome.tsv\"))\n",
    "matrisome_sig_deg_df <- sig_deg_df %>%\n",
    "    dplyr::filter(in_matrisome == TRUE)\n",
    "coldata_df <- read_tsv(paste0(dirs$data_dir, \"/\", unified_dsets[i], \"/coldata.tsv\"))"
   ]
  },
  {
   "cell_type": "code",
   "execution_count": null,
   "metadata": {},
   "outputs": [],
   "source": [
    "matrisome_df <- rutils::load_matrisome_df(matrisome_list)\n",
    "survival_df <- read_tsv(paste0(dirs$data_dir, \"/\", unified_dsets[i], \"/survival_data.tsv\")) %>%\n",
    "    mutate(vital_status_num = case_when(\n",
    "        vital_status == \"Dead\" ~ 1,\n",
    "        vital_status == \"Alive\" ~ 0\n",
    "    )) %>%\n",
    "    dplyr::select(sample_name, vital_status_num, everything(), -vital_status) %>%\n",
    "    dplyr::rename(vital_status = vital_status_num) %>%\n",
    "    dplyr::filter(!is.na(survival_time), !is.na(vital_status))\n",
    "survival_cols <- colnames(survival_df)\n",
    "head(survival_df)\n",
    "nrow(survival_df)"
   ]
  },
  {
   "cell_type": "code",
   "execution_count": null,
   "metadata": {},
   "outputs": [],
   "source": [
    "race_cols <- survival_cols[grepl(\"^race_\", survival_cols)]\n",
    "ethnicity_cols <- survival_cols[grepl(\"^ethnicity_\", survival_cols)]\n",
    "covariate_cols <- c(\"age_at_diagnosis\", \"bmi\", race_cols, ethnicity_cols)\n",
    "dep_cols <- c(\"vital_status\", \"survival_time\")\n",
    "filtered_survival_df <- survival_df %>%\n",
    "    dplyr::select(one_of(c(\"sample_name\", dep_cols, covariate_cols))) %>%\n",
    "    # For now, drop rows with NA -- rethink this later as expand number of features\n",
    "    dplyr::filter(rowSums(is.na(.)) == 0)"
   ]
  },
  {
   "cell_type": "code",
   "execution_count": null,
   "metadata": {},
   "outputs": [],
   "source": [
    "counts_df <- read_tsv(paste0(dirs$data_dir, \"/\", unified_dsets[i], \"/counts.tsv\")) %>%\n",
    "    dplyr::rename(geneID = Hugo_Symbol) %>%\n",
    "    dplyr::select(-Entrez_Gene_Id) %>%\n",
    "    dplyr::mutate_if(is.numeric, round, 0) %>%\n",
    "    dplyr::filter(geneID %in% matrisome_df$gene_symbol)    # Only care about matrisome genes\n",
    "\n",
    "# Match up columns of counts with rows of survival data & only include samples present in survival data\n",
    "survival_counts_df <- counts_df[, c(\"geneID\", filtered_survival_df$sample_name)] %>%\n",
    "    dplyr::filter(rowSums(.[, -1]) > 0)    # Ignore genes which are unexpressed in this group\n",
    "survival_counts <- as.matrix(survival_counts_df %>% column_to_rownames(var = \"geneID\"))\n",
    "norm_survival_counts <- varianceStabilizingTransformation(as.matrix(survival_counts_df[, -1]))\n",
    "rownames(norm_survival_counts) <- survival_counts_df$geneID\n",
    "\n",
    "genes_of_interest <- rownames(norm_survival_counts)"
   ]
  },
  {
   "cell_type": "code",
   "execution_count": null,
   "metadata": {},
   "outputs": [],
   "source": [
    "nrow(filtered_survival_df)\n",
    "nrow(filtered_survival_df) / nrow(survival_df)\n",
    "# A row of survival_counts should be usable as a column in filtered_survival_df\n",
    "all(colnames(survival_counts) == filtered_survival_df$sample_name)"
   ]
  },
  {
   "cell_type": "markdown",
   "metadata": {},
   "source": [
    "# Test significance of including a gene"
   ]
  },
  {
   "cell_type": "code",
   "execution_count": null,
   "metadata": {},
   "outputs": [],
   "source": [
    "# singular.ok = TRUE because race & ethnicity are one-hot encodings, so\n",
    "# some columns are certain to be linear combinations of others\n",
    "null_model_formula_chr <- paste0(\"Surv(survival_time, vital_status) ~ \", paste(covariate_cols, collapse = \" + \"))\n",
    "survival_fit_null <- coxph(as.formula(null_model_formula_chr), data = filtered_survival_df, singular.ok = TRUE)\n",
    "gene_model_formula_chr <- paste0(null_model_formula_chr, \" + gene\")\n",
    "gene_pvals <- c()\n",
    "gene_coeffs <- c()\n",
    "\n",
    "for (g in genes_of_interest) {\n",
    "    survival_fit_gene <- coxph(as.formula(gene_model_formula_chr), data = filtered_survival_df %>% dplyr::mutate(gene = norm_survival_counts[g, ]), singular.ok = TRUE)\n",
    "    anova_res <- anova(survival_fit_null, survival_fit_gene, test = \"LRT\")\n",
    "    gene_pvals <- c(gene_pvals, anova_res[[\"P(>|Chi|)\"]][2])\n",
    "    gene_coeffs <- c(gene_coeffs, survival_fit_gene$coefficients[[\"gene\"]])\n",
    "}"
   ]
  },
  {
   "cell_type": "code",
   "execution_count": null,
   "metadata": {},
   "outputs": [],
   "source": [
    "cox_regression_df <- tibble(\"geneID\" = genes_of_interest, \"gene_pval\" = gene_pvals, \"gene_coeff\" = gene_coeffs)\n",
    "sig_cox_regression_df <- cox_regression_df %>%\n",
    "    dplyr::filter(gene_pval < 0.05)"
   ]
  },
  {
   "cell_type": "code",
   "execution_count": null,
   "metadata": {},
   "outputs": [],
   "source": [
    "ggplot() +\n",
    "    geom_histogram(aes(x = gene_pvals, y = ..density..), data = cox_regression_df, binwidth = 0.05, boundary = 0, fill = \"steelblue\") +\n",
    "    geom_density(aes(x = gene_pvals), data = cox_regression_df) +\n",
    "    scale_x_continuous(breaks = seq(from = 0, to = 1, by = 0.1))\n",
    "ggsave(paste0(dirs$figures_dir, \"/\", unified_dsets[i], \"_predictive_pval_density.png\"), last_plot())"
   ]
  },
  {
   "cell_type": "code",
   "execution_count": null,
   "metadata": {},
   "outputs": [],
   "source": [
    "length(matrisome_sig_deg_df$geneID)\n",
    "length(sig_cox_regression_df$geneID)\n",
    "length(union(matrisome_sig_deg_df$geneID, sig_cox_regression_df$geneID))"
   ]
  },
  {
   "cell_type": "code",
   "execution_count": null,
   "metadata": {},
   "outputs": [],
   "source": [
    "hm_df <- counts_df %>%\n",
    "    dplyr::select(geneID) %>%\n",
    "    dplyr::mutate(\n",
    "        deg = ifelse(geneID %in% matrisome_sig_deg_df$geneID, 1, 0),\n",
    "        pred = ifelse(geneID %in% sig_cox_regression_df$geneID, 1, 0)\n",
    "    ) %>%\n",
    "    dplyr::mutate(\n",
    "        both = ifelse(deg & pred, 1, 0)\n",
    "    )\n",
    "nrow(hm_df)\n",
    "head(hm_df)"
   ]
  },
  {
   "cell_type": "code",
   "execution_count": null,
   "metadata": {},
   "outputs": [],
   "source": [
    "hm_pivot_df <- hm_df %>%\n",
    "    pivot_longer(cols = deg:both, names_to = \"test\")\n",
    "hm_pivot_df$test = factor(hm_pivot_df$test, levels = c(\"deg\", \"pred\", \"both\"))\n",
    "hm_pivot_df$value = factor(hm_pivot_df$value, levels = c(\"0\", \"1\"))\n",
    "\n",
    "head(hm_pivot_df)\n",
    "nrow(hm_pivot_df)"
   ]
  },
  {
   "cell_type": "code",
   "execution_count": null,
   "metadata": {},
   "outputs": [],
   "source": [
    "ggplot() +\n",
    "    geom_tile(aes(x = test, y = geneID, fill = value), data = hm_pivot_df, width = 0.95) +\n",
    "    scale_fill_manual(values = c(\"white\", \"black\")) +\n",
    "    theme(\n",
    "        axis.title.x = element_blank(),\n",
    "        axis.title.y = element_blank(),\n",
    "        axis.text.y = element_blank(),\n",
    "        axis.ticks.y = element_blank(),\n",
    "        legend.position = \"None\"\n",
    "    ) +\n",
    "    coord_equal(ratio = 1/75)\n",
    "ggsave(paste0(dirs$figures_dir, \"/\", unified_dsets[i], \"_matrisome_DEG_predictive_heatmap.png\"), last_plot())"
   ]
  },
  {
   "cell_type": "code",
   "execution_count": null,
   "metadata": {},
   "outputs": [],
   "source": [
    "matrisome_df %>%\n",
    "    dplyr::filter(gene_symbol %in% intersect(matrisome_sig_deg_df$geneID, sig_cox_regression_df$geneID)) %>%\n",
    "    write_tsv(paste0(dirs$analysis_dir, \"/\", unified_dsets[i], \"_DE_and_predictive.tsv\"))"
   ]
  }
 ],
 "metadata": {
  "kernelspec": {
   "display_name": "R",
   "language": "R",
   "name": "ir"
  },
  "language_info": {
   "codemirror_mode": "r",
   "file_extension": ".r",
   "mimetype": "text/x-r-source",
   "name": "R",
   "pygments_lexer": "r",
   "version": "3.6.3"
  }
 },
 "nbformat": 4,
 "nbformat_minor": 4
}
