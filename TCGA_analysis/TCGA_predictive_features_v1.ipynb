{
 "cells": [
  {
   "cell_type": "code",
   "execution_count": 2,
   "metadata": {},
   "outputs": [
    {
     "name": "stderr",
     "output_type": "stream",
     "text": [
      "── Attaching packages ─────────────────────────────────────── tidyverse 1.3.0 ──\n",
      "✔ ggplot2 3.3.2     ✔ purrr   0.3.4\n",
      "✔ tibble  3.0.3     ✔ dplyr   1.0.0\n",
      "✔ tidyr   1.1.0     ✔ stringr 1.4.0\n",
      "✔ readr   1.3.1     ✔ forcats 0.5.0\n",
      "── Conflicts ────────────────────────────────────────── tidyverse_conflicts() ──\n",
      "✖ dplyr::filter() masks stats::filter()\n",
      "✖ dplyr::lag()    masks stats::lag()\n",
      "Loading required package: ggpubr\n"
     ]
    }
   ],
   "source": [
    "library(tidyverse)\n",
    "library(survival)\n",
    "library(survminer)\n",
    "\n",
    "# Custom package\n",
    "library(rutils)"
   ]
  },
  {
   "cell_type": "code",
   "execution_count": 3,
   "metadata": {},
   "outputs": [],
   "source": [
    "dirs <- rutils::get_dev_directories(dev_paths_file = \"../dev_paths.txt\")\n",
    "projects <- c(\"TCGA-CESC\", \"TCGA-UCS\", \"TCGA-UCEC\", \"TCGA-OV\")\n",
    "unified_dsets <- c(\"unified_cervical_data\", \"unified_uterine_data\", \"unified_uterine_endometrial_data\")"
   ]
  },
  {
   "cell_type": "code",
   "execution_count": 4,
   "metadata": {},
   "outputs": [],
   "source": [
    "i <- 1"
   ]
  },
  {
   "cell_type": "code",
   "execution_count": 5,
   "metadata": {
    "collapsed": true,
    "jupyter": {
     "outputs_hidden": true
    }
   },
   "outputs": [
    {
     "name": "stderr",
     "output_type": "stream",
     "text": [
      "Parsed with column specification:\n",
      "cols(\n",
      "  vital_status = col_character(),\n",
      "  days_to_last_follow_up = col_double(),\n",
      "  days_to_death = col_double(),\n",
      "  survival_time = col_double(),\n",
      "  age_at_diagnosis = col_double(),\n",
      "  age_at_index = col_double(),\n",
      "  height = col_double(),\n",
      "  weight = col_double(),\n",
      "  bmi = col_double(),\n",
      "  race_american_indian_or_alaska_native = col_double(),\n",
      "  race_asian = col_double(),\n",
      "  race_black_or_african_american = col_double(),\n",
      "  race_native_hawaiian_or_other_pacific_islander = col_double(),\n",
      "  race_not_reported = col_double(),\n",
      "  race_white = col_double(),\n",
      "  ethnicity_hispanic_or_latino = col_double(),\n",
      "  ethnicity_not_hispanic_or_latino = col_double(),\n",
      "  ethnicity_not_reported = col_double()\n",
      ")\n"
     ]
    },
    {
     "data": {
      "text/html": [
       "<table>\n",
       "<caption>A tibble: 6 × 18</caption>\n",
       "<thead>\n",
       "\t<tr><th scope=col>vital_status</th><th scope=col>days_to_last_follow_up</th><th scope=col>days_to_death</th><th scope=col>survival_time</th><th scope=col>age_at_diagnosis</th><th scope=col>age_at_index</th><th scope=col>height</th><th scope=col>weight</th><th scope=col>bmi</th><th scope=col>race_american_indian_or_alaska_native</th><th scope=col>race_asian</th><th scope=col>race_black_or_african_american</th><th scope=col>race_native_hawaiian_or_other_pacific_islander</th><th scope=col>race_not_reported</th><th scope=col>race_white</th><th scope=col>ethnicity_hispanic_or_latino</th><th scope=col>ethnicity_not_hispanic_or_latino</th><th scope=col>ethnicity_not_reported</th></tr>\n",
       "\t<tr><th scope=col>&lt;dbl&gt;</th><th scope=col>&lt;dbl&gt;</th><th scope=col>&lt;dbl&gt;</th><th scope=col>&lt;dbl&gt;</th><th scope=col>&lt;dbl&gt;</th><th scope=col>&lt;dbl&gt;</th><th scope=col>&lt;dbl&gt;</th><th scope=col>&lt;dbl&gt;</th><th scope=col>&lt;dbl&gt;</th><th scope=col>&lt;dbl&gt;</th><th scope=col>&lt;dbl&gt;</th><th scope=col>&lt;dbl&gt;</th><th scope=col>&lt;dbl&gt;</th><th scope=col>&lt;dbl&gt;</th><th scope=col>&lt;dbl&gt;</th><th scope=col>&lt;dbl&gt;</th><th scope=col>&lt;dbl&gt;</th><th scope=col>&lt;dbl&gt;</th></tr>\n",
       "</thead>\n",
       "<tbody>\n",
       "\t<tr><td>1</td><td> NA</td><td> 570</td><td> 570</td><td>16975</td><td>46</td><td> NA</td><td> 76</td><td>      NA</td><td>0</td><td>0</td><td>0</td><td>0</td><td>0</td><td>1</td><td>0</td><td>0</td><td>1</td></tr>\n",
       "\t<tr><td>0</td><td>854</td><td>  NA</td><td> 854</td><td>10199</td><td>27</td><td> NA</td><td> 31</td><td>      NA</td><td>0</td><td>0</td><td>0</td><td>0</td><td>0</td><td>1</td><td>0</td><td>0</td><td>1</td></tr>\n",
       "\t<tr><td>0</td><td> 50</td><td>  NA</td><td>  50</td><td>14842</td><td>40</td><td>167</td><td>105</td><td>37.64925</td><td>0</td><td>0</td><td>0</td><td>0</td><td>0</td><td>1</td><td>0</td><td>1</td><td>0</td></tr>\n",
       "\t<tr><td>0</td><td>483</td><td>  NA</td><td> 483</td><td>16450</td><td>45</td><td>173</td><td> 82</td><td>27.39818</td><td>0</td><td>0</td><td>0</td><td>0</td><td>0</td><td>1</td><td>0</td><td>1</td><td>0</td></tr>\n",
       "\t<tr><td>1</td><td>186</td><td> 633</td><td> 633</td><td>13253</td><td>36</td><td> NA</td><td> NA</td><td>      NA</td><td>0</td><td>0</td><td>0</td><td>0</td><td>0</td><td>1</td><td>0</td><td>1</td><td>0</td></tr>\n",
       "\t<tr><td>1</td><td> NA</td><td>3046</td><td>3046</td><td>24059</td><td>65</td><td>163</td><td> 85</td><td>31.99217</td><td>0</td><td>0</td><td>0</td><td>0</td><td>0</td><td>1</td><td>0</td><td>1</td><td>0</td></tr>\n",
       "</tbody>\n",
       "</table>\n"
      ],
      "text/latex": [
       "A tibble: 6 × 18\n",
       "\\begin{tabular}{llllllllllllllllll}\n",
       " vital\\_status & days\\_to\\_last\\_follow\\_up & days\\_to\\_death & survival\\_time & age\\_at\\_diagnosis & age\\_at\\_index & height & weight & bmi & race\\_american\\_indian\\_or\\_alaska\\_native & race\\_asian & race\\_black\\_or\\_african\\_american & race\\_native\\_hawaiian\\_or\\_other\\_pacific\\_islander & race\\_not\\_reported & race\\_white & ethnicity\\_hispanic\\_or\\_latino & ethnicity\\_not\\_hispanic\\_or\\_latino & ethnicity\\_not\\_reported\\\\\n",
       " <dbl> & <dbl> & <dbl> & <dbl> & <dbl> & <dbl> & <dbl> & <dbl> & <dbl> & <dbl> & <dbl> & <dbl> & <dbl> & <dbl> & <dbl> & <dbl> & <dbl> & <dbl>\\\\\n",
       "\\hline\n",
       "\t 1 &  NA &  570 &  570 & 16975 & 46 &  NA &  76 &       NA & 0 & 0 & 0 & 0 & 0 & 1 & 0 & 0 & 1\\\\\n",
       "\t 0 & 854 &   NA &  854 & 10199 & 27 &  NA &  31 &       NA & 0 & 0 & 0 & 0 & 0 & 1 & 0 & 0 & 1\\\\\n",
       "\t 0 &  50 &   NA &   50 & 14842 & 40 & 167 & 105 & 37.64925 & 0 & 0 & 0 & 0 & 0 & 1 & 0 & 1 & 0\\\\\n",
       "\t 0 & 483 &   NA &  483 & 16450 & 45 & 173 &  82 & 27.39818 & 0 & 0 & 0 & 0 & 0 & 1 & 0 & 1 & 0\\\\\n",
       "\t 1 & 186 &  633 &  633 & 13253 & 36 &  NA &  NA &       NA & 0 & 0 & 0 & 0 & 0 & 1 & 0 & 1 & 0\\\\\n",
       "\t 1 &  NA & 3046 & 3046 & 24059 & 65 & 163 &  85 & 31.99217 & 0 & 0 & 0 & 0 & 0 & 1 & 0 & 1 & 0\\\\\n",
       "\\end{tabular}\n"
      ],
      "text/markdown": [
       "\n",
       "A tibble: 6 × 18\n",
       "\n",
       "| vital_status &lt;dbl&gt; | days_to_last_follow_up &lt;dbl&gt; | days_to_death &lt;dbl&gt; | survival_time &lt;dbl&gt; | age_at_diagnosis &lt;dbl&gt; | age_at_index &lt;dbl&gt; | height &lt;dbl&gt; | weight &lt;dbl&gt; | bmi &lt;dbl&gt; | race_american_indian_or_alaska_native &lt;dbl&gt; | race_asian &lt;dbl&gt; | race_black_or_african_american &lt;dbl&gt; | race_native_hawaiian_or_other_pacific_islander &lt;dbl&gt; | race_not_reported &lt;dbl&gt; | race_white &lt;dbl&gt; | ethnicity_hispanic_or_latino &lt;dbl&gt; | ethnicity_not_hispanic_or_latino &lt;dbl&gt; | ethnicity_not_reported &lt;dbl&gt; |\n",
       "|---|---|---|---|---|---|---|---|---|---|---|---|---|---|---|---|---|---|\n",
       "| 1 |  NA |  570 |  570 | 16975 | 46 |  NA |  76 |       NA | 0 | 0 | 0 | 0 | 0 | 1 | 0 | 0 | 1 |\n",
       "| 0 | 854 |   NA |  854 | 10199 | 27 |  NA |  31 |       NA | 0 | 0 | 0 | 0 | 0 | 1 | 0 | 0 | 1 |\n",
       "| 0 |  50 |   NA |   50 | 14842 | 40 | 167 | 105 | 37.64925 | 0 | 0 | 0 | 0 | 0 | 1 | 0 | 1 | 0 |\n",
       "| 0 | 483 |   NA |  483 | 16450 | 45 | 173 |  82 | 27.39818 | 0 | 0 | 0 | 0 | 0 | 1 | 0 | 1 | 0 |\n",
       "| 1 | 186 |  633 |  633 | 13253 | 36 |  NA |  NA |       NA | 0 | 0 | 0 | 0 | 0 | 1 | 0 | 1 | 0 |\n",
       "| 1 |  NA | 3046 | 3046 | 24059 | 65 | 163 |  85 | 31.99217 | 0 | 0 | 0 | 0 | 0 | 1 | 0 | 1 | 0 |\n",
       "\n"
      ],
      "text/plain": [
       "  vital_status days_to_last_follow_up days_to_death survival_time\n",
       "1 1             NA                     570           570         \n",
       "2 0            854                      NA           854         \n",
       "3 0             50                      NA            50         \n",
       "4 0            483                      NA           483         \n",
       "5 1            186                     633           633         \n",
       "6 1             NA                    3046          3046         \n",
       "  age_at_diagnosis age_at_index height weight bmi     \n",
       "1 16975            46            NA     76          NA\n",
       "2 10199            27            NA     31          NA\n",
       "3 14842            40           167    105    37.64925\n",
       "4 16450            45           173     82    27.39818\n",
       "5 13253            36            NA     NA          NA\n",
       "6 24059            65           163     85    31.99217\n",
       "  race_american_indian_or_alaska_native race_asian\n",
       "1 0                                     0         \n",
       "2 0                                     0         \n",
       "3 0                                     0         \n",
       "4 0                                     0         \n",
       "5 0                                     0         \n",
       "6 0                                     0         \n",
       "  race_black_or_african_american race_native_hawaiian_or_other_pacific_islander\n",
       "1 0                              0                                             \n",
       "2 0                              0                                             \n",
       "3 0                              0                                             \n",
       "4 0                              0                                             \n",
       "5 0                              0                                             \n",
       "6 0                              0                                             \n",
       "  race_not_reported race_white ethnicity_hispanic_or_latino\n",
       "1 0                 1          0                           \n",
       "2 0                 1          0                           \n",
       "3 0                 1          0                           \n",
       "4 0                 1          0                           \n",
       "5 0                 1          0                           \n",
       "6 0                 1          0                           \n",
       "  ethnicity_not_hispanic_or_latino ethnicity_not_reported\n",
       "1 0                                1                     \n",
       "2 0                                1                     \n",
       "3 1                                0                     \n",
       "4 1                                0                     \n",
       "5 1                                0                     \n",
       "6 1                                0                     "
      ]
     },
     "metadata": {},
     "output_type": "display_data"
    },
    {
     "data": {
      "text/html": [
       "259"
      ],
      "text/latex": [
       "259"
      ],
      "text/markdown": [
       "259"
      ],
      "text/plain": [
       "[1] 259"
      ]
     },
     "metadata": {},
     "output_type": "display_data"
    }
   ],
   "source": [
    "survival_df <- read_tsv(paste0(dirs$data_dir, \"/\", unified_dsets[i], \"/survival_data.tsv\")) %>%\n",
    "    mutate(vital_status_num = case_when(\n",
    "        vital_status == \"Dead\" ~ 1,\n",
    "        vital_status == \"Alive\" ~ 0\n",
    "    )) %>%\n",
    "    dplyr::select(vital_status_num, everything(), -vital_status) %>%\n",
    "    dplyr::rename(vital_status = vital_status_num) %>%\n",
    "    dplyr::filter(!is.na(survival_time), !is.na(vital_status))\n",
    "head(survival_df)\n",
    "nrow(survival_df)"
   ]
  },
  {
   "cell_type": "code",
   "execution_count": 6,
   "metadata": {},
   "outputs": [
    {
     "name": "stderr",
     "output_type": "stream",
     "text": [
      "Parsed with column specification:\n",
      "cols(\n",
      "  .default = col_double(),\n",
      "  Hugo_Symbol = col_character()\n",
      ")\n",
      "See spec(...) for full column specifications.\n"
     ]
    }
   ],
   "source": [
    "counts_df <- read_tsv(paste0(dirs$data_dir, \"/\", unified_dsets[i], \"/counts.tsv\"))"
   ]
  },
  {
   "cell_type": "code",
   "execution_count": 9,
   "metadata": {},
   "outputs": [
    {
     "data": {
      "text/html": [
       "<table>\n",
       "<caption>A tibble: 6 × 18</caption>\n",
       "<thead>\n",
       "\t<tr><th scope=col>vital_status</th><th scope=col>days_to_last_follow_up</th><th scope=col>days_to_death</th><th scope=col>survival_time</th><th scope=col>age_at_diagnosis</th><th scope=col>age_at_index</th><th scope=col>height</th><th scope=col>weight</th><th scope=col>bmi</th><th scope=col>race_american_indian_or_alaska_native</th><th scope=col>race_asian</th><th scope=col>race_black_or_african_american</th><th scope=col>race_native_hawaiian_or_other_pacific_islander</th><th scope=col>race_not_reported</th><th scope=col>race_white</th><th scope=col>ethnicity_hispanic_or_latino</th><th scope=col>ethnicity_not_hispanic_or_latino</th><th scope=col>ethnicity_not_reported</th></tr>\n",
       "\t<tr><th scope=col>&lt;dbl&gt;</th><th scope=col>&lt;dbl&gt;</th><th scope=col>&lt;dbl&gt;</th><th scope=col>&lt;dbl&gt;</th><th scope=col>&lt;dbl&gt;</th><th scope=col>&lt;dbl&gt;</th><th scope=col>&lt;dbl&gt;</th><th scope=col>&lt;dbl&gt;</th><th scope=col>&lt;dbl&gt;</th><th scope=col>&lt;dbl&gt;</th><th scope=col>&lt;dbl&gt;</th><th scope=col>&lt;dbl&gt;</th><th scope=col>&lt;dbl&gt;</th><th scope=col>&lt;dbl&gt;</th><th scope=col>&lt;dbl&gt;</th><th scope=col>&lt;dbl&gt;</th><th scope=col>&lt;dbl&gt;</th><th scope=col>&lt;dbl&gt;</th></tr>\n",
       "</thead>\n",
       "<tbody>\n",
       "\t<tr><td>1</td><td> NA</td><td> 570</td><td> 570</td><td>16975</td><td>46</td><td> NA</td><td> 76</td><td>      NA</td><td>0</td><td>0</td><td>0</td><td>0</td><td>0</td><td>1</td><td>0</td><td>0</td><td>1</td></tr>\n",
       "\t<tr><td>0</td><td>854</td><td>  NA</td><td> 854</td><td>10199</td><td>27</td><td> NA</td><td> 31</td><td>      NA</td><td>0</td><td>0</td><td>0</td><td>0</td><td>0</td><td>1</td><td>0</td><td>0</td><td>1</td></tr>\n",
       "\t<tr><td>0</td><td> 50</td><td>  NA</td><td>  50</td><td>14842</td><td>40</td><td>167</td><td>105</td><td>37.64925</td><td>0</td><td>0</td><td>0</td><td>0</td><td>0</td><td>1</td><td>0</td><td>1</td><td>0</td></tr>\n",
       "\t<tr><td>0</td><td>483</td><td>  NA</td><td> 483</td><td>16450</td><td>45</td><td>173</td><td> 82</td><td>27.39818</td><td>0</td><td>0</td><td>0</td><td>0</td><td>0</td><td>1</td><td>0</td><td>1</td><td>0</td></tr>\n",
       "\t<tr><td>1</td><td>186</td><td> 633</td><td> 633</td><td>13253</td><td>36</td><td> NA</td><td> NA</td><td>      NA</td><td>0</td><td>0</td><td>0</td><td>0</td><td>0</td><td>1</td><td>0</td><td>1</td><td>0</td></tr>\n",
       "\t<tr><td>1</td><td> NA</td><td>3046</td><td>3046</td><td>24059</td><td>65</td><td>163</td><td> 85</td><td>31.99217</td><td>0</td><td>0</td><td>0</td><td>0</td><td>0</td><td>1</td><td>0</td><td>1</td><td>0</td></tr>\n",
       "</tbody>\n",
       "</table>\n"
      ],
      "text/latex": [
       "A tibble: 6 × 18\n",
       "\\begin{tabular}{llllllllllllllllll}\n",
       " vital\\_status & days\\_to\\_last\\_follow\\_up & days\\_to\\_death & survival\\_time & age\\_at\\_diagnosis & age\\_at\\_index & height & weight & bmi & race\\_american\\_indian\\_or\\_alaska\\_native & race\\_asian & race\\_black\\_or\\_african\\_american & race\\_native\\_hawaiian\\_or\\_other\\_pacific\\_islander & race\\_not\\_reported & race\\_white & ethnicity\\_hispanic\\_or\\_latino & ethnicity\\_not\\_hispanic\\_or\\_latino & ethnicity\\_not\\_reported\\\\\n",
       " <dbl> & <dbl> & <dbl> & <dbl> & <dbl> & <dbl> & <dbl> & <dbl> & <dbl> & <dbl> & <dbl> & <dbl> & <dbl> & <dbl> & <dbl> & <dbl> & <dbl> & <dbl>\\\\\n",
       "\\hline\n",
       "\t 1 &  NA &  570 &  570 & 16975 & 46 &  NA &  76 &       NA & 0 & 0 & 0 & 0 & 0 & 1 & 0 & 0 & 1\\\\\n",
       "\t 0 & 854 &   NA &  854 & 10199 & 27 &  NA &  31 &       NA & 0 & 0 & 0 & 0 & 0 & 1 & 0 & 0 & 1\\\\\n",
       "\t 0 &  50 &   NA &   50 & 14842 & 40 & 167 & 105 & 37.64925 & 0 & 0 & 0 & 0 & 0 & 1 & 0 & 1 & 0\\\\\n",
       "\t 0 & 483 &   NA &  483 & 16450 & 45 & 173 &  82 & 27.39818 & 0 & 0 & 0 & 0 & 0 & 1 & 0 & 1 & 0\\\\\n",
       "\t 1 & 186 &  633 &  633 & 13253 & 36 &  NA &  NA &       NA & 0 & 0 & 0 & 0 & 0 & 1 & 0 & 1 & 0\\\\\n",
       "\t 1 &  NA & 3046 & 3046 & 24059 & 65 & 163 &  85 & 31.99217 & 0 & 0 & 0 & 0 & 0 & 1 & 0 & 1 & 0\\\\\n",
       "\\end{tabular}\n"
      ],
      "text/markdown": [
       "\n",
       "A tibble: 6 × 18\n",
       "\n",
       "| vital_status &lt;dbl&gt; | days_to_last_follow_up &lt;dbl&gt; | days_to_death &lt;dbl&gt; | survival_time &lt;dbl&gt; | age_at_diagnosis &lt;dbl&gt; | age_at_index &lt;dbl&gt; | height &lt;dbl&gt; | weight &lt;dbl&gt; | bmi &lt;dbl&gt; | race_american_indian_or_alaska_native &lt;dbl&gt; | race_asian &lt;dbl&gt; | race_black_or_african_american &lt;dbl&gt; | race_native_hawaiian_or_other_pacific_islander &lt;dbl&gt; | race_not_reported &lt;dbl&gt; | race_white &lt;dbl&gt; | ethnicity_hispanic_or_latino &lt;dbl&gt; | ethnicity_not_hispanic_or_latino &lt;dbl&gt; | ethnicity_not_reported &lt;dbl&gt; |\n",
       "|---|---|---|---|---|---|---|---|---|---|---|---|---|---|---|---|---|---|\n",
       "| 1 |  NA |  570 |  570 | 16975 | 46 |  NA |  76 |       NA | 0 | 0 | 0 | 0 | 0 | 1 | 0 | 0 | 1 |\n",
       "| 0 | 854 |   NA |  854 | 10199 | 27 |  NA |  31 |       NA | 0 | 0 | 0 | 0 | 0 | 1 | 0 | 0 | 1 |\n",
       "| 0 |  50 |   NA |   50 | 14842 | 40 | 167 | 105 | 37.64925 | 0 | 0 | 0 | 0 | 0 | 1 | 0 | 1 | 0 |\n",
       "| 0 | 483 |   NA |  483 | 16450 | 45 | 173 |  82 | 27.39818 | 0 | 0 | 0 | 0 | 0 | 1 | 0 | 1 | 0 |\n",
       "| 1 | 186 |  633 |  633 | 13253 | 36 |  NA |  NA |       NA | 0 | 0 | 0 | 0 | 0 | 1 | 0 | 1 | 0 |\n",
       "| 1 |  NA | 3046 | 3046 | 24059 | 65 | 163 |  85 | 31.99217 | 0 | 0 | 0 | 0 | 0 | 1 | 0 | 1 | 0 |\n",
       "\n"
      ],
      "text/plain": [
       "  vital_status days_to_last_follow_up days_to_death survival_time\n",
       "1 1             NA                     570           570         \n",
       "2 0            854                      NA           854         \n",
       "3 0             50                      NA            50         \n",
       "4 0            483                      NA           483         \n",
       "5 1            186                     633           633         \n",
       "6 1             NA                    3046          3046         \n",
       "  age_at_diagnosis age_at_index height weight bmi     \n",
       "1 16975            46            NA     76          NA\n",
       "2 10199            27            NA     31          NA\n",
       "3 14842            40           167    105    37.64925\n",
       "4 16450            45           173     82    27.39818\n",
       "5 13253            36            NA     NA          NA\n",
       "6 24059            65           163     85    31.99217\n",
       "  race_american_indian_or_alaska_native race_asian\n",
       "1 0                                     0         \n",
       "2 0                                     0         \n",
       "3 0                                     0         \n",
       "4 0                                     0         \n",
       "5 0                                     0         \n",
       "6 0                                     0         \n",
       "  race_black_or_african_american race_native_hawaiian_or_other_pacific_islander\n",
       "1 0                              0                                             \n",
       "2 0                              0                                             \n",
       "3 0                              0                                             \n",
       "4 0                              0                                             \n",
       "5 0                              0                                             \n",
       "6 0                              0                                             \n",
       "  race_not_reported race_white ethnicity_hispanic_or_latino\n",
       "1 0                 1          0                           \n",
       "2 0                 1          0                           \n",
       "3 0                 1          0                           \n",
       "4 0                 1          0                           \n",
       "5 0                 1          0                           \n",
       "6 0                 1          0                           \n",
       "  ethnicity_not_hispanic_or_latino ethnicity_not_reported\n",
       "1 0                                1                     \n",
       "2 0                                1                     \n",
       "3 1                                0                     \n",
       "4 1                                0                     \n",
       "5 1                                0                     \n",
       "6 1                                0                     "
      ]
     },
     "metadata": {},
     "output_type": "display_data"
    }
   ],
   "source": [
    "head(survival_df)"
   ]
  },
  {
   "cell_type": "code",
   "execution_count": 8,
   "metadata": {},
   "outputs": [
    {
     "data": {
      "text/html": [
       "<table>\n",
       "<caption>A tibble: 6 × 274</caption>\n",
       "<thead>\n",
       "\t<tr><th scope=col>Hugo_Symbol</th><th scope=col>Entrez_Gene_Id</th><th scope=col>GTEX-S32W-1626-SM-4AD6G</th><th scope=col>GTEX-S32W-1526-SM-4AD6Z</th><th scope=col>GTEX-T5JW-0726-SM-4DM6D</th><th scope=col>GTEX-TSE9-2826-SM-4DXTF</th><th scope=col>GTEX-TSE9-2726-SM-4DXSQ</th><th scope=col>GTEX-TML8-0726-SM-4DXTT</th><th scope=col>GTEX-S341-1126-SM-4AD6T</th><th scope=col>GTEX-T6MO-1426-SM-4DM73</th><th scope=col>⋯</th><th scope=col>TCGA-VS-A9UV-01A-11R-A42T-07</th><th scope=col>TCGA-MA-AA43-01A-11R-A42T-07</th><th scope=col>TCGA-VS-A9UJ-01A-11R-A42T-07</th><th scope=col>TCGA-C5-A7CM-01A-11R-A33Z-07</th><th scope=col>TCGA-EA-A3QD-01A-32R-A22U-07</th><th scope=col>TCGA-EA-A3HR-01A-11R-A213-07</th><th scope=col>TCGA-VS-A8EK-01A-12R-A37O-07</th><th scope=col>TCGA-VS-A9UM-01A-11R-A42T-07</th><th scope=col>TCGA-C5-A1MN-01A-11R-A14Y-07</th><th scope=col>TCGA-Q1-A6DT-01A-11R-A32P-07</th></tr>\n",
       "\t<tr><th scope=col>&lt;chr&gt;</th><th scope=col>&lt;dbl&gt;</th><th scope=col>&lt;dbl&gt;</th><th scope=col>&lt;dbl&gt;</th><th scope=col>&lt;dbl&gt;</th><th scope=col>&lt;dbl&gt;</th><th scope=col>&lt;dbl&gt;</th><th scope=col>&lt;dbl&gt;</th><th scope=col>&lt;dbl&gt;</th><th scope=col>&lt;dbl&gt;</th><th scope=col>⋯</th><th scope=col>&lt;dbl&gt;</th><th scope=col>&lt;dbl&gt;</th><th scope=col>&lt;dbl&gt;</th><th scope=col>&lt;dbl&gt;</th><th scope=col>&lt;dbl&gt;</th><th scope=col>&lt;dbl&gt;</th><th scope=col>&lt;dbl&gt;</th><th scope=col>&lt;dbl&gt;</th><th scope=col>&lt;dbl&gt;</th><th scope=col>&lt;dbl&gt;</th></tr>\n",
       "</thead>\n",
       "<tbody>\n",
       "\t<tr><td>FAM208A</td><td>23272</td><td>2543.54</td><td>1934.78</td><td>1294.75</td><td>1473.59</td><td>1428.88</td><td>2036.42</td><td>2945.62</td><td>1992.93</td><td>⋯</td><td>1858.83</td><td>3514.75</td><td>1308.29</td><td>2684.91</td><td>2807.11</td><td>6234.90</td><td>3028.79</td><td>2268.13</td><td>3516.53</td><td>3662.39</td></tr>\n",
       "\t<tr><td>RADIL  </td><td>55698</td><td> 432.00</td><td> 280.00</td><td>  73.00</td><td> 401.00</td><td> 505.00</td><td> 513.00</td><td> 616.00</td><td> 411.00</td><td>⋯</td><td>   4.00</td><td>  27.00</td><td>   7.00</td><td>  14.00</td><td>  47.00</td><td>  37.00</td><td> 190.00</td><td>  19.00</td><td> 127.00</td><td>  12.00</td></tr>\n",
       "\t<tr><td>AP1M2  </td><td>10053</td><td>   2.00</td><td>   2.00</td><td> 708.00</td><td>   5.00</td><td>   8.00</td><td>   3.00</td><td>   4.00</td><td> 417.00</td><td>⋯</td><td>2865.00</td><td> 871.00</td><td>5274.00</td><td>4552.00</td><td>2505.00</td><td>4598.00</td><td>4033.00</td><td>1999.00</td><td>2920.00</td><td>1610.00</td></tr>\n",
       "\t<tr><td>TAF1   </td><td> 6872</td><td>2506.97</td><td>1942.75</td><td>1086.00</td><td>1936.82</td><td>1787.00</td><td>2049.00</td><td>2481.45</td><td>1549.95</td><td>⋯</td><td>1049.99</td><td>1810.72</td><td>1597.77</td><td>1491.00</td><td>3054.54</td><td>3031.73</td><td>3159.00</td><td>2054.00</td><td>1784.00</td><td>2005.72</td></tr>\n",
       "\t<tr><td>SIGLEC5</td><td> 8778</td><td>  39.69</td><td>  24.27</td><td>  12.45</td><td>   9.74</td><td>   3.70</td><td>   8.58</td><td>   3.72</td><td>   9.21</td><td>⋯</td><td>   5.12</td><td>  36.37</td><td>   8.90</td><td>   5.19</td><td>  87.73</td><td>  60.80</td><td>  39.19</td><td>  89.54</td><td>  14.64</td><td>  27.11</td></tr>\n",
       "\t<tr><td>KLF1   </td><td>10661</td><td>   0.00</td><td>   0.00</td><td>   2.00</td><td>   0.00</td><td>   0.00</td><td>   1.00</td><td>   0.00</td><td>   0.00</td><td>⋯</td><td>   3.00</td><td>   0.00</td><td>   3.00</td><td>   9.00</td><td>   8.00</td><td>   6.00</td><td>   7.00</td><td>   2.00</td><td>   5.00</td><td>   7.00</td></tr>\n",
       "</tbody>\n",
       "</table>\n"
      ],
      "text/latex": [
       "A tibble: 6 × 274\n",
       "\\begin{tabular}{lllllllllllllllllllll}\n",
       " Hugo\\_Symbol & Entrez\\_Gene\\_Id & GTEX-S32W-1626-SM-4AD6G & GTEX-S32W-1526-SM-4AD6Z & GTEX-T5JW-0726-SM-4DM6D & GTEX-TSE9-2826-SM-4DXTF & GTEX-TSE9-2726-SM-4DXSQ & GTEX-TML8-0726-SM-4DXTT & GTEX-S341-1126-SM-4AD6T & GTEX-T6MO-1426-SM-4DM73 & ⋯ & TCGA-VS-A9UV-01A-11R-A42T-07 & TCGA-MA-AA43-01A-11R-A42T-07 & TCGA-VS-A9UJ-01A-11R-A42T-07 & TCGA-C5-A7CM-01A-11R-A33Z-07 & TCGA-EA-A3QD-01A-32R-A22U-07 & TCGA-EA-A3HR-01A-11R-A213-07 & TCGA-VS-A8EK-01A-12R-A37O-07 & TCGA-VS-A9UM-01A-11R-A42T-07 & TCGA-C5-A1MN-01A-11R-A14Y-07 & TCGA-Q1-A6DT-01A-11R-A32P-07\\\\\n",
       " <chr> & <dbl> & <dbl> & <dbl> & <dbl> & <dbl> & <dbl> & <dbl> & <dbl> & <dbl> & ⋯ & <dbl> & <dbl> & <dbl> & <dbl> & <dbl> & <dbl> & <dbl> & <dbl> & <dbl> & <dbl>\\\\\n",
       "\\hline\n",
       "\t FAM208A & 23272 & 2543.54 & 1934.78 & 1294.75 & 1473.59 & 1428.88 & 2036.42 & 2945.62 & 1992.93 & ⋯ & 1858.83 & 3514.75 & 1308.29 & 2684.91 & 2807.11 & 6234.90 & 3028.79 & 2268.13 & 3516.53 & 3662.39\\\\\n",
       "\t RADIL   & 55698 &  432.00 &  280.00 &   73.00 &  401.00 &  505.00 &  513.00 &  616.00 &  411.00 & ⋯ &    4.00 &   27.00 &    7.00 &   14.00 &   47.00 &   37.00 &  190.00 &   19.00 &  127.00 &   12.00\\\\\n",
       "\t AP1M2   & 10053 &    2.00 &    2.00 &  708.00 &    5.00 &    8.00 &    3.00 &    4.00 &  417.00 & ⋯ & 2865.00 &  871.00 & 5274.00 & 4552.00 & 2505.00 & 4598.00 & 4033.00 & 1999.00 & 2920.00 & 1610.00\\\\\n",
       "\t TAF1    &  6872 & 2506.97 & 1942.75 & 1086.00 & 1936.82 & 1787.00 & 2049.00 & 2481.45 & 1549.95 & ⋯ & 1049.99 & 1810.72 & 1597.77 & 1491.00 & 3054.54 & 3031.73 & 3159.00 & 2054.00 & 1784.00 & 2005.72\\\\\n",
       "\t SIGLEC5 &  8778 &   39.69 &   24.27 &   12.45 &    9.74 &    3.70 &    8.58 &    3.72 &    9.21 & ⋯ &    5.12 &   36.37 &    8.90 &    5.19 &   87.73 &   60.80 &   39.19 &   89.54 &   14.64 &   27.11\\\\\n",
       "\t KLF1    & 10661 &    0.00 &    0.00 &    2.00 &    0.00 &    0.00 &    1.00 &    0.00 &    0.00 & ⋯ &    3.00 &    0.00 &    3.00 &    9.00 &    8.00 &    6.00 &    7.00 &    2.00 &    5.00 &    7.00\\\\\n",
       "\\end{tabular}\n"
      ],
      "text/markdown": [
       "\n",
       "A tibble: 6 × 274\n",
       "\n",
       "| Hugo_Symbol &lt;chr&gt; | Entrez_Gene_Id &lt;dbl&gt; | GTEX-S32W-1626-SM-4AD6G &lt;dbl&gt; | GTEX-S32W-1526-SM-4AD6Z &lt;dbl&gt; | GTEX-T5JW-0726-SM-4DM6D &lt;dbl&gt; | GTEX-TSE9-2826-SM-4DXTF &lt;dbl&gt; | GTEX-TSE9-2726-SM-4DXSQ &lt;dbl&gt; | GTEX-TML8-0726-SM-4DXTT &lt;dbl&gt; | GTEX-S341-1126-SM-4AD6T &lt;dbl&gt; | GTEX-T6MO-1426-SM-4DM73 &lt;dbl&gt; | ⋯ ⋯ | TCGA-VS-A9UV-01A-11R-A42T-07 &lt;dbl&gt; | TCGA-MA-AA43-01A-11R-A42T-07 &lt;dbl&gt; | TCGA-VS-A9UJ-01A-11R-A42T-07 &lt;dbl&gt; | TCGA-C5-A7CM-01A-11R-A33Z-07 &lt;dbl&gt; | TCGA-EA-A3QD-01A-32R-A22U-07 &lt;dbl&gt; | TCGA-EA-A3HR-01A-11R-A213-07 &lt;dbl&gt; | TCGA-VS-A8EK-01A-12R-A37O-07 &lt;dbl&gt; | TCGA-VS-A9UM-01A-11R-A42T-07 &lt;dbl&gt; | TCGA-C5-A1MN-01A-11R-A14Y-07 &lt;dbl&gt; | TCGA-Q1-A6DT-01A-11R-A32P-07 &lt;dbl&gt; |\n",
       "|---|---|---|---|---|---|---|---|---|---|---|---|---|---|---|---|---|---|---|---|---|\n",
       "| FAM208A | 23272 | 2543.54 | 1934.78 | 1294.75 | 1473.59 | 1428.88 | 2036.42 | 2945.62 | 1992.93 | ⋯ | 1858.83 | 3514.75 | 1308.29 | 2684.91 | 2807.11 | 6234.90 | 3028.79 | 2268.13 | 3516.53 | 3662.39 |\n",
       "| RADIL   | 55698 |  432.00 |  280.00 |   73.00 |  401.00 |  505.00 |  513.00 |  616.00 |  411.00 | ⋯ |    4.00 |   27.00 |    7.00 |   14.00 |   47.00 |   37.00 |  190.00 |   19.00 |  127.00 |   12.00 |\n",
       "| AP1M2   | 10053 |    2.00 |    2.00 |  708.00 |    5.00 |    8.00 |    3.00 |    4.00 |  417.00 | ⋯ | 2865.00 |  871.00 | 5274.00 | 4552.00 | 2505.00 | 4598.00 | 4033.00 | 1999.00 | 2920.00 | 1610.00 |\n",
       "| TAF1    |  6872 | 2506.97 | 1942.75 | 1086.00 | 1936.82 | 1787.00 | 2049.00 | 2481.45 | 1549.95 | ⋯ | 1049.99 | 1810.72 | 1597.77 | 1491.00 | 3054.54 | 3031.73 | 3159.00 | 2054.00 | 1784.00 | 2005.72 |\n",
       "| SIGLEC5 |  8778 |   39.69 |   24.27 |   12.45 |    9.74 |    3.70 |    8.58 |    3.72 |    9.21 | ⋯ |    5.12 |   36.37 |    8.90 |    5.19 |   87.73 |   60.80 |   39.19 |   89.54 |   14.64 |   27.11 |\n",
       "| KLF1    | 10661 |    0.00 |    0.00 |    2.00 |    0.00 |    0.00 |    1.00 |    0.00 |    0.00 | ⋯ |    3.00 |    0.00 |    3.00 |    9.00 |    8.00 |    6.00 |    7.00 |    2.00 |    5.00 |    7.00 |\n",
       "\n"
      ],
      "text/plain": [
       "  Hugo_Symbol Entrez_Gene_Id GTEX-S32W-1626-SM-4AD6G GTEX-S32W-1526-SM-4AD6Z\n",
       "1 FAM208A     23272          2543.54                 1934.78                \n",
       "2 RADIL       55698           432.00                  280.00                \n",
       "3 AP1M2       10053             2.00                    2.00                \n",
       "4 TAF1         6872          2506.97                 1942.75                \n",
       "5 SIGLEC5      8778            39.69                   24.27                \n",
       "6 KLF1        10661             0.00                    0.00                \n",
       "  GTEX-T5JW-0726-SM-4DM6D GTEX-TSE9-2826-SM-4DXTF GTEX-TSE9-2726-SM-4DXSQ\n",
       "1 1294.75                 1473.59                 1428.88                \n",
       "2   73.00                  401.00                  505.00                \n",
       "3  708.00                    5.00                    8.00                \n",
       "4 1086.00                 1936.82                 1787.00                \n",
       "5   12.45                    9.74                    3.70                \n",
       "6    2.00                    0.00                    0.00                \n",
       "  GTEX-TML8-0726-SM-4DXTT GTEX-S341-1126-SM-4AD6T GTEX-T6MO-1426-SM-4DM73 ⋯\n",
       "1 2036.42                 2945.62                 1992.93                 ⋯\n",
       "2  513.00                  616.00                  411.00                 ⋯\n",
       "3    3.00                    4.00                  417.00                 ⋯\n",
       "4 2049.00                 2481.45                 1549.95                 ⋯\n",
       "5    8.58                    3.72                    9.21                 ⋯\n",
       "6    1.00                    0.00                    0.00                 ⋯\n",
       "  TCGA-VS-A9UV-01A-11R-A42T-07 TCGA-MA-AA43-01A-11R-A42T-07\n",
       "1 1858.83                      3514.75                     \n",
       "2    4.00                        27.00                     \n",
       "3 2865.00                       871.00                     \n",
       "4 1049.99                      1810.72                     \n",
       "5    5.12                        36.37                     \n",
       "6    3.00                         0.00                     \n",
       "  TCGA-VS-A9UJ-01A-11R-A42T-07 TCGA-C5-A7CM-01A-11R-A33Z-07\n",
       "1 1308.29                      2684.91                     \n",
       "2    7.00                        14.00                     \n",
       "3 5274.00                      4552.00                     \n",
       "4 1597.77                      1491.00                     \n",
       "5    8.90                         5.19                     \n",
       "6    3.00                         9.00                     \n",
       "  TCGA-EA-A3QD-01A-32R-A22U-07 TCGA-EA-A3HR-01A-11R-A213-07\n",
       "1 2807.11                      6234.90                     \n",
       "2   47.00                        37.00                     \n",
       "3 2505.00                      4598.00                     \n",
       "4 3054.54                      3031.73                     \n",
       "5   87.73                        60.80                     \n",
       "6    8.00                         6.00                     \n",
       "  TCGA-VS-A8EK-01A-12R-A37O-07 TCGA-VS-A9UM-01A-11R-A42T-07\n",
       "1 3028.79                      2268.13                     \n",
       "2  190.00                        19.00                     \n",
       "3 4033.00                      1999.00                     \n",
       "4 3159.00                      2054.00                     \n",
       "5   39.19                        89.54                     \n",
       "6    7.00                         2.00                     \n",
       "  TCGA-C5-A1MN-01A-11R-A14Y-07 TCGA-Q1-A6DT-01A-11R-A32P-07\n",
       "1 3516.53                      3662.39                     \n",
       "2  127.00                        12.00                     \n",
       "3 2920.00                      1610.00                     \n",
       "4 1784.00                      2005.72                     \n",
       "5   14.64                        27.11                     \n",
       "6    5.00                         7.00                     "
      ]
     },
     "metadata": {},
     "output_type": "display_data"
    }
   ],
   "source": [
    "head(counts_df)"
   ]
  },
  {
   "cell_type": "code",
   "execution_count": 31,
   "metadata": {},
   "outputs": [],
   "source": [
    "survival_fit <- survfit(Surv(survival_time, vital_status) ~ 1, data = survival_df)"
   ]
  },
  {
   "cell_type": "code",
   "execution_count": 39,
   "metadata": {},
   "outputs": [
    {
     "data": {
      "text/plain": [
       "Call: survfit(formula = Surv(survival_time, vital_status) ~ 1, data = survival_df)\n",
       "\n",
       "      n  events  median 0.95LCL 0.95UCL \n",
       "    259      66    3097    2094      NA "
      ]
     },
     "metadata": {},
     "output_type": "display_data"
    }
   ],
   "source": [
    "survival_fit"
   ]
  },
  {
   "cell_type": "code",
   "execution_count": 43,
   "metadata": {},
   "outputs": [
    {
     "data": {
      "image/png": "[encoded data removed]",
      "text/plain": [
       "plot without title"
      ]
     },
     "metadata": {},
     "output_type": "display_data"
    }
   ],
   "source": [
    "ggsurvplot(survival_fit, data = survival_df, surv.median.line = \"hv\")"
   ]
  }
 ],
 "metadata": {
  "kernelspec": {
   "display_name": "R",
   "language": "R",
   "name": "ir"
  },
  "language_info": {
   "codemirror_mode": "r",
   "file_extension": ".r",
   "mimetype": "text/x-r-source",
   "name": "R",
   "pygments_lexer": "r",
   "version": "3.6.3"
  }
 },
 "nbformat": 4,
 "nbformat_minor": 4
}
