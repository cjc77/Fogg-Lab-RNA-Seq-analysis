{
 "cells": [
  {
   "cell_type": "code",
   "execution_count": 1,
   "metadata": {
    "collapsed": true,
    "jupyter": {
     "outputs_hidden": true
    }
   },
   "outputs": [
    {
     "name": "stderr",
     "output_type": "stream",
     "text": [
      "── Attaching packages ─────────────────────────────────────── tidyverse 1.3.0 ──\n",
      "✔ ggplot2 3.3.2     ✔ purrr   0.3.4\n",
      "✔ tibble  3.0.3     ✔ dplyr   1.0.0\n",
      "✔ tidyr   1.1.0     ✔ stringr 1.4.0\n",
      "✔ readr   1.3.1     ✔ forcats 0.5.0\n",
      "── Conflicts ────────────────────────────────────────── tidyverse_conflicts() ──\n",
      "✖ dplyr::filter() masks stats::filter()\n",
      "✖ dplyr::lag()    masks stats::lag()\n",
      "Loading required package: ggpubr\n",
      "Loading required package: S4Vectors\n",
      "Loading required package: stats4\n",
      "Loading required package: BiocGenerics\n",
      "Loading required package: parallel\n",
      "\n",
      "Attaching package: ‘BiocGenerics’\n",
      "\n",
      "The following objects are masked from ‘package:parallel’:\n",
      "\n",
      "    clusterApply, clusterApplyLB, clusterCall, clusterEvalQ,\n",
      "    clusterExport, clusterMap, parApply, parCapply, parLapply,\n",
      "    parLapplyLB, parRapply, parSapply, parSapplyLB\n",
      "\n",
      "The following objects are masked from ‘package:dplyr’:\n",
      "\n",
      "    combine, intersect, setdiff, union\n",
      "\n",
      "The following objects are masked from ‘package:stats’:\n",
      "\n",
      "    IQR, mad, sd, var, xtabs\n",
      "\n",
      "The following objects are masked from ‘package:base’:\n",
      "\n",
      "    anyDuplicated, append, as.data.frame, basename, cbind, colnames,\n",
      "    dirname, do.call, duplicated, eval, evalq, Filter, Find, get, grep,\n",
      "    grepl, intersect, is.unsorted, lapply, Map, mapply, match, mget,\n",
      "    order, paste, pmax, pmax.int, pmin, pmin.int, Position, rank,\n",
      "    rbind, Reduce, rownames, sapply, setdiff, sort, table, tapply,\n",
      "    union, unique, unsplit, which, which.max, which.min\n",
      "\n",
      "\n",
      "Attaching package: ‘S4Vectors’\n",
      "\n",
      "The following objects are masked from ‘package:dplyr’:\n",
      "\n",
      "    first, rename\n",
      "\n",
      "The following object is masked from ‘package:tidyr’:\n",
      "\n",
      "    expand\n",
      "\n",
      "The following object is masked from ‘package:base’:\n",
      "\n",
      "    expand.grid\n",
      "\n",
      "Loading required package: IRanges\n",
      "\n",
      "Attaching package: ‘IRanges’\n",
      "\n",
      "The following objects are masked from ‘package:dplyr’:\n",
      "\n",
      "    collapse, desc, slice\n",
      "\n",
      "The following object is masked from ‘package:purrr’:\n",
      "\n",
      "    reduce\n",
      "\n",
      "Loading required package: GenomicRanges\n",
      "Loading required package: GenomeInfoDb\n",
      "Loading required package: SummarizedExperiment\n",
      "Loading required package: Biobase\n",
      "Welcome to Bioconductor\n",
      "\n",
      "    Vignettes contain introductory material; view with\n",
      "    'browseVignettes()'. To cite Bioconductor, see\n",
      "    'citation(\"Biobase\")', and for packages 'citation(\"pkgname\")'.\n",
      "\n",
      "Loading required package: DelayedArray\n",
      "Loading required package: matrixStats\n",
      "\n",
      "Attaching package: ‘matrixStats’\n",
      "\n",
      "The following objects are masked from ‘package:Biobase’:\n",
      "\n",
      "    anyMissing, rowMedians\n",
      "\n",
      "The following object is masked from ‘package:dplyr’:\n",
      "\n",
      "    count\n",
      "\n",
      "Loading required package: BiocParallel\n",
      "\n",
      "Attaching package: ‘DelayedArray’\n",
      "\n",
      "The following objects are masked from ‘package:matrixStats’:\n",
      "\n",
      "    colMaxs, colMins, colRanges, rowMaxs, rowMins, rowRanges\n",
      "\n",
      "The following object is masked from ‘package:purrr’:\n",
      "\n",
      "    simplify\n",
      "\n",
      "The following objects are masked from ‘package:base’:\n",
      "\n",
      "    aperm, apply, rowsum\n",
      "\n"
     ]
    }
   ],
   "source": [
    "library(tidyverse)\n",
    "library(survival)\n",
    "library(survminer)\n",
    "library(DESeq2)\n",
    "\n",
    "# Custom package\n",
    "library(rutils)"
   ]
  },
  {
   "cell_type": "code",
   "execution_count": 2,
   "metadata": {},
   "outputs": [],
   "source": [
    "dirs <- rutils::get_dev_directories(dev_paths_file = \"../dev_paths.txt\")\n",
    "projects <- c(\"TCGA-CESC\", \"TCGA-UCS\", \"TCGA-UCEC\", \"TCGA-OV\")\n",
    "unified_dsets <- c(\"unified_cervical_data\", \"unified_uterine_data\", \"unified_uterine_endometrial_data\")\n",
    "matrisome_list <- paste0(dirs$data_dir, \"/matrisome/matrisome_hs_masterlist.tsv\")"
   ]
  },
  {
   "cell_type": "code",
   "execution_count": 3,
   "metadata": {},
   "outputs": [],
   "source": [
    "i <- 1"
   ]
  },
  {
   "cell_type": "code",
   "execution_count": 114,
   "metadata": {
    "collapsed": true,
    "jupyter": {
     "outputs_hidden": true
    }
   },
   "outputs": [
    {
     "name": "stderr",
     "output_type": "stream",
     "text": [
      "Parsed with column specification:\n",
      "cols(\n",
      "  geneID = col_character(),\n",
      "  baseMean = col_double(),\n",
      "  log2FoldChange = col_double(),\n",
      "  lfcSE = col_double(),\n",
      "  stat = col_double(),\n",
      "  pvalue = col_double(),\n",
      "  padj = col_double(),\n",
      "  in_matrisome = col_logical(),\n",
      "  division = col_character(),\n",
      "  category = col_character(),\n",
      "  gene_name = col_character(),\n",
      "  synonyms = col_character(),\n",
      "  hgnc_ids = col_double(),\n",
      "  hgnc_ids_links = col_double(),\n",
      "  uniprot_ids = col_character(),\n",
      "  refseq_ids = col_character(),\n",
      "  orthology = col_character(),\n",
      "  notes = col_character()\n",
      ")\n",
      "Parsed with column specification:\n",
      "cols(\n",
      "  sample_name = col_character(),\n",
      "  condition = col_character(),\n",
      "  data_source = col_character()\n",
      ")\n"
     ]
    }
   ],
   "source": [
    "sig_deg_df <- read_tsv(paste0(dirs$analysis_dir, \"/\", unified_dsets[i], \"_sig_DESeq_results_xref_matrisome.tsv\"))\n",
    "matrisome_sig_deg_df <- sig_deg_df %>%\n",
    "    dplyr::filter(in_matrisome == TRUE)\n",
    "coldata_df <- read_tsv(paste0(dirs$data_dir, \"/\", unified_dsets[i], \"/coldata.tsv\"))"
   ]
  },
  {
   "cell_type": "code",
   "execution_count": 4,
   "metadata": {
    "collapsed": true,
    "jupyter": {
     "outputs_hidden": true
    }
   },
   "outputs": [
    {
     "name": "stderr",
     "output_type": "stream",
     "text": [
      "Parsed with column specification:\n",
      "cols(\n",
      "  Division = col_character(),\n",
      "  Category = col_character(),\n",
      "  `Gene Symbol` = col_character(),\n",
      "  `Gene Name` = col_character(),\n",
      "  Synonyms = col_character(),\n",
      "  HGNC_IDs = col_double(),\n",
      "  `HGNC_IDs Links` = col_double(),\n",
      "  UniProt_IDs = col_character(),\n",
      "  Refseq_IDs = col_character(),\n",
      "  Orthology = col_character(),\n",
      "  Notes = col_character()\n",
      ")\n",
      "Parsed with column specification:\n",
      "cols(\n",
      "  sample_name = col_character(),\n",
      "  vital_status = col_character(),\n",
      "  days_to_last_follow_up = col_double(),\n",
      "  days_to_death = col_double(),\n",
      "  survival_time = col_double(),\n",
      "  age_at_diagnosis = col_double(),\n",
      "  age_at_index = col_double(),\n",
      "  height = col_double(),\n",
      "  weight = col_double(),\n",
      "  bmi = col_double(),\n",
      "  race_american_indian_or_alaska_native = col_double(),\n",
      "  race_asian = col_double(),\n",
      "  race_black_or_african_american = col_double(),\n",
      "  race_native_hawaiian_or_other_pacific_islander = col_double(),\n",
      "  race_not_reported = col_double(),\n",
      "  race_white = col_double(),\n",
      "  ethnicity_hispanic_or_latino = col_double(),\n",
      "  ethnicity_not_hispanic_or_latino = col_double(),\n",
      "  ethnicity_not_reported = col_double()\n",
      ")\n"
     ]
    },
    {
     "data": {
      "text/html": [
       "<table>\n",
       "<caption>A tibble: 6 × 19</caption>\n",
       "<thead>\n",
       "\t<tr><th scope=col>sample_name</th><th scope=col>vital_status</th><th scope=col>days_to_last_follow_up</th><th scope=col>days_to_death</th><th scope=col>survival_time</th><th scope=col>age_at_diagnosis</th><th scope=col>age_at_index</th><th scope=col>height</th><th scope=col>weight</th><th scope=col>bmi</th><th scope=col>race_american_indian_or_alaska_native</th><th scope=col>race_asian</th><th scope=col>race_black_or_african_american</th><th scope=col>race_native_hawaiian_or_other_pacific_islander</th><th scope=col>race_not_reported</th><th scope=col>race_white</th><th scope=col>ethnicity_hispanic_or_latino</th><th scope=col>ethnicity_not_hispanic_or_latino</th><th scope=col>ethnicity_not_reported</th></tr>\n",
       "\t<tr><th scope=col>&lt;chr&gt;</th><th scope=col>&lt;dbl&gt;</th><th scope=col>&lt;dbl&gt;</th><th scope=col>&lt;dbl&gt;</th><th scope=col>&lt;dbl&gt;</th><th scope=col>&lt;dbl&gt;</th><th scope=col>&lt;dbl&gt;</th><th scope=col>&lt;dbl&gt;</th><th scope=col>&lt;dbl&gt;</th><th scope=col>&lt;dbl&gt;</th><th scope=col>&lt;dbl&gt;</th><th scope=col>&lt;dbl&gt;</th><th scope=col>&lt;dbl&gt;</th><th scope=col>&lt;dbl&gt;</th><th scope=col>&lt;dbl&gt;</th><th scope=col>&lt;dbl&gt;</th><th scope=col>&lt;dbl&gt;</th><th scope=col>&lt;dbl&gt;</th><th scope=col>&lt;dbl&gt;</th></tr>\n",
       "</thead>\n",
       "<tbody>\n",
       "\t<tr><td>TCGA-C5-A1BF-01B-11R-A13Y-07</td><td>1</td><td> NA</td><td> 570</td><td> 570</td><td>16975</td><td>46</td><td> NA</td><td> 76</td><td>      NA</td><td>0</td><td>0</td><td>0</td><td>0</td><td>0</td><td>1</td><td>0</td><td>0</td><td>1</td></tr>\n",
       "\t<tr><td>TCGA-MU-A51Y-01A-11R-A26T-07</td><td>0</td><td>854</td><td>  NA</td><td> 854</td><td>10199</td><td>27</td><td> NA</td><td> 31</td><td>      NA</td><td>0</td><td>0</td><td>0</td><td>0</td><td>0</td><td>1</td><td>0</td><td>0</td><td>1</td></tr>\n",
       "\t<tr><td>TCGA-EK-A2RM-01A-21R-A18M-07</td><td>0</td><td> 50</td><td>  NA</td><td>  50</td><td>14842</td><td>40</td><td>167</td><td>105</td><td>37.64925</td><td>0</td><td>0</td><td>0</td><td>0</td><td>0</td><td>1</td><td>0</td><td>1</td><td>0</td></tr>\n",
       "\t<tr><td>TCGA-Q1-A73P-01A-11R-A32P-07</td><td>0</td><td>483</td><td>  NA</td><td> 483</td><td>16450</td><td>45</td><td>173</td><td> 82</td><td>27.39818</td><td>0</td><td>0</td><td>0</td><td>0</td><td>0</td><td>1</td><td>0</td><td>1</td><td>0</td></tr>\n",
       "\t<tr><td>TCGA-C5-A8YT-01A-11R-A37O-07</td><td>1</td><td>186</td><td> 633</td><td> 633</td><td>13253</td><td>36</td><td> NA</td><td> NA</td><td>      NA</td><td>0</td><td>0</td><td>0</td><td>0</td><td>0</td><td>1</td><td>0</td><td>1</td><td>0</td></tr>\n",
       "\t<tr><td>TCGA-C5-A2LZ-01A-11R-A213-07</td><td>1</td><td> NA</td><td>3046</td><td>3046</td><td>24059</td><td>65</td><td>163</td><td> 85</td><td>31.99217</td><td>0</td><td>0</td><td>0</td><td>0</td><td>0</td><td>1</td><td>0</td><td>1</td><td>0</td></tr>\n",
       "</tbody>\n",
       "</table>\n"
      ],
      "text/latex": [
       "A tibble: 6 × 19\n",
       "\\begin{tabular}{lllllllllllllllllll}\n",
       " sample\\_name & vital\\_status & days\\_to\\_last\\_follow\\_up & days\\_to\\_death & survival\\_time & age\\_at\\_diagnosis & age\\_at\\_index & height & weight & bmi & race\\_american\\_indian\\_or\\_alaska\\_native & race\\_asian & race\\_black\\_or\\_african\\_american & race\\_native\\_hawaiian\\_or\\_other\\_pacific\\_islander & race\\_not\\_reported & race\\_white & ethnicity\\_hispanic\\_or\\_latino & ethnicity\\_not\\_hispanic\\_or\\_latino & ethnicity\\_not\\_reported\\\\\n",
       " <chr> & <dbl> & <dbl> & <dbl> & <dbl> & <dbl> & <dbl> & <dbl> & <dbl> & <dbl> & <dbl> & <dbl> & <dbl> & <dbl> & <dbl> & <dbl> & <dbl> & <dbl> & <dbl>\\\\\n",
       "\\hline\n",
       "\t TCGA-C5-A1BF-01B-11R-A13Y-07 & 1 &  NA &  570 &  570 & 16975 & 46 &  NA &  76 &       NA & 0 & 0 & 0 & 0 & 0 & 1 & 0 & 0 & 1\\\\\n",
       "\t TCGA-MU-A51Y-01A-11R-A26T-07 & 0 & 854 &   NA &  854 & 10199 & 27 &  NA &  31 &       NA & 0 & 0 & 0 & 0 & 0 & 1 & 0 & 0 & 1\\\\\n",
       "\t TCGA-EK-A2RM-01A-21R-A18M-07 & 0 &  50 &   NA &   50 & 14842 & 40 & 167 & 105 & 37.64925 & 0 & 0 & 0 & 0 & 0 & 1 & 0 & 1 & 0\\\\\n",
       "\t TCGA-Q1-A73P-01A-11R-A32P-07 & 0 & 483 &   NA &  483 & 16450 & 45 & 173 &  82 & 27.39818 & 0 & 0 & 0 & 0 & 0 & 1 & 0 & 1 & 0\\\\\n",
       "\t TCGA-C5-A8YT-01A-11R-A37O-07 & 1 & 186 &  633 &  633 & 13253 & 36 &  NA &  NA &       NA & 0 & 0 & 0 & 0 & 0 & 1 & 0 & 1 & 0\\\\\n",
       "\t TCGA-C5-A2LZ-01A-11R-A213-07 & 1 &  NA & 3046 & 3046 & 24059 & 65 & 163 &  85 & 31.99217 & 0 & 0 & 0 & 0 & 0 & 1 & 0 & 1 & 0\\\\\n",
       "\\end{tabular}\n"
      ],
      "text/markdown": [
       "\n",
       "A tibble: 6 × 19\n",
       "\n",
       "| sample_name &lt;chr&gt; | vital_status &lt;dbl&gt; | days_to_last_follow_up &lt;dbl&gt; | days_to_death &lt;dbl&gt; | survival_time &lt;dbl&gt; | age_at_diagnosis &lt;dbl&gt; | age_at_index &lt;dbl&gt; | height &lt;dbl&gt; | weight &lt;dbl&gt; | bmi &lt;dbl&gt; | race_american_indian_or_alaska_native &lt;dbl&gt; | race_asian &lt;dbl&gt; | race_black_or_african_american &lt;dbl&gt; | race_native_hawaiian_or_other_pacific_islander &lt;dbl&gt; | race_not_reported &lt;dbl&gt; | race_white &lt;dbl&gt; | ethnicity_hispanic_or_latino &lt;dbl&gt; | ethnicity_not_hispanic_or_latino &lt;dbl&gt; | ethnicity_not_reported &lt;dbl&gt; |\n",
       "|---|---|---|---|---|---|---|---|---|---|---|---|---|---|---|---|---|---|---|\n",
       "| TCGA-C5-A1BF-01B-11R-A13Y-07 | 1 |  NA |  570 |  570 | 16975 | 46 |  NA |  76 |       NA | 0 | 0 | 0 | 0 | 0 | 1 | 0 | 0 | 1 |\n",
       "| TCGA-MU-A51Y-01A-11R-A26T-07 | 0 | 854 |   NA |  854 | 10199 | 27 |  NA |  31 |       NA | 0 | 0 | 0 | 0 | 0 | 1 | 0 | 0 | 1 |\n",
       "| TCGA-EK-A2RM-01A-21R-A18M-07 | 0 |  50 |   NA |   50 | 14842 | 40 | 167 | 105 | 37.64925 | 0 | 0 | 0 | 0 | 0 | 1 | 0 | 1 | 0 |\n",
       "| TCGA-Q1-A73P-01A-11R-A32P-07 | 0 | 483 |   NA |  483 | 16450 | 45 | 173 |  82 | 27.39818 | 0 | 0 | 0 | 0 | 0 | 1 | 0 | 1 | 0 |\n",
       "| TCGA-C5-A8YT-01A-11R-A37O-07 | 1 | 186 |  633 |  633 | 13253 | 36 |  NA |  NA |       NA | 0 | 0 | 0 | 0 | 0 | 1 | 0 | 1 | 0 |\n",
       "| TCGA-C5-A2LZ-01A-11R-A213-07 | 1 |  NA | 3046 | 3046 | 24059 | 65 | 163 |  85 | 31.99217 | 0 | 0 | 0 | 0 | 0 | 1 | 0 | 1 | 0 |\n",
       "\n"
      ],
      "text/plain": [
       "  sample_name                  vital_status days_to_last_follow_up\n",
       "1 TCGA-C5-A1BF-01B-11R-A13Y-07 1             NA                   \n",
       "2 TCGA-MU-A51Y-01A-11R-A26T-07 0            854                   \n",
       "3 TCGA-EK-A2RM-01A-21R-A18M-07 0             50                   \n",
       "4 TCGA-Q1-A73P-01A-11R-A32P-07 0            483                   \n",
       "5 TCGA-C5-A8YT-01A-11R-A37O-07 1            186                   \n",
       "6 TCGA-C5-A2LZ-01A-11R-A213-07 1             NA                   \n",
       "  days_to_death survival_time age_at_diagnosis age_at_index height weight\n",
       "1  570           570          16975            46            NA     76   \n",
       "2   NA           854          10199            27            NA     31   \n",
       "3   NA            50          14842            40           167    105   \n",
       "4   NA           483          16450            45           173     82   \n",
       "5  633           633          13253            36            NA     NA   \n",
       "6 3046          3046          24059            65           163     85   \n",
       "  bmi      race_american_indian_or_alaska_native race_asian\n",
       "1       NA 0                                     0         \n",
       "2       NA 0                                     0         \n",
       "3 37.64925 0                                     0         \n",
       "4 27.39818 0                                     0         \n",
       "5       NA 0                                     0         \n",
       "6 31.99217 0                                     0         \n",
       "  race_black_or_african_american race_native_hawaiian_or_other_pacific_islander\n",
       "1 0                              0                                             \n",
       "2 0                              0                                             \n",
       "3 0                              0                                             \n",
       "4 0                              0                                             \n",
       "5 0                              0                                             \n",
       "6 0                              0                                             \n",
       "  race_not_reported race_white ethnicity_hispanic_or_latino\n",
       "1 0                 1          0                           \n",
       "2 0                 1          0                           \n",
       "3 0                 1          0                           \n",
       "4 0                 1          0                           \n",
       "5 0                 1          0                           \n",
       "6 0                 1          0                           \n",
       "  ethnicity_not_hispanic_or_latino ethnicity_not_reported\n",
       "1 0                                1                     \n",
       "2 0                                1                     \n",
       "3 1                                0                     \n",
       "4 1                                0                     \n",
       "5 1                                0                     \n",
       "6 1                                0                     "
      ]
     },
     "metadata": {},
     "output_type": "display_data"
    },
    {
     "data": {
      "text/html": [
       "259"
      ],
      "text/latex": [
       "259"
      ],
      "text/markdown": [
       "259"
      ],
      "text/plain": [
       "[1] 259"
      ]
     },
     "metadata": {},
     "output_type": "display_data"
    }
   ],
   "source": [
    "matrisome_df <- rutils::load_matrisome_df(matrisome_list)\n",
    "survival_df <- read_tsv(paste0(dirs$data_dir, \"/\", unified_dsets[i], \"/survival_data.tsv\")) %>%\n",
    "    mutate(vital_status_num = case_when(\n",
    "        vital_status == \"Dead\" ~ 1,\n",
    "        vital_status == \"Alive\" ~ 0\n",
    "    )) %>%\n",
    "    dplyr::select(sample_name, vital_status_num, everything(), -vital_status) %>%\n",
    "    dplyr::rename(vital_status = vital_status_num) %>%\n",
    "    dplyr::filter(!is.na(survival_time), !is.na(vital_status))\n",
    "survival_cols <- colnames(survival_df)\n",
    "head(survival_df)\n",
    "nrow(survival_df)"
   ]
  },
  {
   "cell_type": "code",
   "execution_count": 5,
   "metadata": {},
   "outputs": [],
   "source": [
    "race_cols <- survival_cols[grepl(\"^race_\", survival_cols)]\n",
    "ethnicity_cols <- survival_cols[grepl(\"^ethnicity_\", survival_cols)]\n",
    "covariate_cols <- c(\"age_at_diagnosis\", \"bmi\", race_cols, ethnicity_cols)\n",
    "dep_cols <- c(\"vital_status\", \"survival_time\")\n",
    "filtered_survival_df <- survival_df %>%\n",
    "    dplyr::select(one_of(c(\"sample_name\", dep_cols, covariate_cols))) %>%\n",
    "    # For now, drop rows with NA -- rethink this later as expand number of features\n",
    "    dplyr::filter(rowSums(is.na(.)) == 0)"
   ]
  },
  {
   "cell_type": "code",
   "execution_count": 30,
   "metadata": {},
   "outputs": [
    {
     "name": "stderr",
     "output_type": "stream",
     "text": [
      "Parsed with column specification:\n",
      "cols(\n",
      "  .default = col_double(),\n",
      "  Hugo_Symbol = col_character()\n",
      ")\n",
      "See spec(...) for full column specifications.\n",
      "converting counts to integer mode\n"
     ]
    }
   ],
   "source": [
    "counts_df <- read_tsv(paste0(dirs$data_dir, \"/\", unified_dsets[i], \"/counts.tsv\")) %>%\n",
    "    dplyr::rename(geneID = Hugo_Symbol) %>%\n",
    "    dplyr::select(-Entrez_Gene_Id) %>%\n",
    "    dplyr::mutate_if(is.numeric, round, 0) %>%\n",
    "    dplyr::filter(geneID %in% matrisome_df$gene_symbol)    # Only care about matrisome genes\n",
    "\n",
    "# Match up columns of counts with rows of survival data & only include samples present in survival data\n",
    "survival_counts_df <- counts_df[, c(\"geneID\", filtered_survival_df$sample_name)] %>%\n",
    "    dplyr::filter(rowSums(.[, -1]) > 0)    # Ignore genes which are unexpressed in this group\n",
    "survival_counts <- as.matrix(survival_counts_df %>% column_to_rownames(var = \"geneID\"))\n",
    "norm_survival_counts <- varianceStabilizingTransformation(as.matrix(survival_counts_df[, -1]))\n",
    "rownames(norm_survival_counts) <- survival_counts_df$geneID\n",
    "\n",
    "genes_of_interest <- rownames(norm_survival_counts)"
   ]
  },
  {
   "cell_type": "code",
   "execution_count": 31,
   "metadata": {},
   "outputs": [
    {
     "data": {
      "text/html": [
       "217"
      ],
      "text/latex": [
       "217"
      ],
      "text/markdown": [
       "217"
      ],
      "text/plain": [
       "[1] 217"
      ]
     },
     "metadata": {},
     "output_type": "display_data"
    },
    {
     "data": {
      "text/html": [
       "0.837837837837838"
      ],
      "text/latex": [
       "0.837837837837838"
      ],
      "text/markdown": [
       "0.837837837837838"
      ],
      "text/plain": [
       "[1] 0.8378378"
      ]
     },
     "metadata": {},
     "output_type": "display_data"
    },
    {
     "data": {
      "text/html": [
       "TRUE"
      ],
      "text/latex": [
       "TRUE"
      ],
      "text/markdown": [
       "TRUE"
      ],
      "text/plain": [
       "[1] TRUE"
      ]
     },
     "metadata": {},
     "output_type": "display_data"
    }
   ],
   "source": [
    "nrow(filtered_survival_df)\n",
    "nrow(filtered_survival_df) / nrow(survival_df)\n",
    "# A row of survival_counts should be usable as a column in filtered_survival_df\n",
    "all(colnames(survival_counts) == filtered_survival_df$sample_name)"
   ]
  },
  {
   "cell_type": "markdown",
   "metadata": {},
   "source": [
    "# Test significance of including a gene"
   ]
  },
  {
   "cell_type": "code",
   "execution_count": 103,
   "metadata": {
    "collapsed": true,
    "jupyter": {
     "outputs_hidden": true
    }
   },
   "outputs": [
    {
     "name": "stderr",
     "output_type": "stream",
     "text": [
      "Warning message in fitter(X, Y, istrat, offset, init, control, weights = weights, :\n",
      "“Loglik converged before variable  12 ; coefficient may be infinite. ”Warning message in fitter(X, Y, istrat, offset, init, control, weights = weights, :\n",
      "“Loglik converged before variable  12 ; coefficient may be infinite. ”Warning message in fitter(X, Y, istrat, offset, init, control, weights = weights, :\n",
      "“Loglik converged before variable  12 ; coefficient may be infinite. ”Warning message in fitter(X, Y, istrat, offset, init, control, weights = weights, :\n",
      "“Loglik converged before variable  12 ; coefficient may be infinite. ”Warning message in fitter(X, Y, istrat, offset, init, control, weights = weights, :\n",
      "“Loglik converged before variable  12 ; coefficient may be infinite. ”Warning message in fitter(X, Y, istrat, offset, init, control, weights = weights, :\n",
      "“Loglik converged before variable  12 ; coefficient may be infinite. ”Warning message in fitter(X, Y, istrat, offset, init, control, weights = weights, :\n",
      "“Loglik converged before variable  12 ; coefficient may be infinite. ”Warning message in fitter(X, Y, istrat, offset, init, control, weights = weights, :\n",
      "“Loglik converged before variable  12 ; coefficient may be infinite. ”Warning message in fitter(X, Y, istrat, offset, init, control, weights = weights, :\n",
      "“Loglik converged before variable  12 ; coefficient may be infinite. ”Warning message in fitter(X, Y, istrat, offset, init, control, weights = weights, :\n",
      "“Loglik converged before variable  12 ; coefficient may be infinite. ”Warning message in fitter(X, Y, istrat, offset, init, control, weights = weights, :\n",
      "“Loglik converged before variable  12 ; coefficient may be infinite. ”"
     ]
    }
   ],
   "source": [
    "# singular.ok = TRUE because race & ethnicity are one-hot encodings, so\n",
    "# some columns are certain to be linear combinations of others\n",
    "null_model_formula_chr <- paste0(\"Surv(survival_time, vital_status) ~ \", paste(covariate_cols, collapse = \" + \"))\n",
    "survival_fit_null <- coxph(as.formula(null_model_formula_chr), data = filtered_survival_df, singular.ok = TRUE)\n",
    "gene_model_formula_chr <- paste0(null_model_formula_chr, \" + gene\")\n",
    "gene_pvals <- c()\n",
    "gene_coeffs <- c()\n",
    "\n",
    "for (g in genes_of_interest) {\n",
    "    survival_fit_gene <- coxph(as.formula(gene_model_formula_chr), data = filtered_survival_df %>% dplyr::mutate(gene = norm_survival_counts[g, ]), singular.ok = TRUE)\n",
    "    anova_res <- anova(survival_fit_null, survival_fit_gene, test = \"LRT\")\n",
    "    gene_pvals <- c(gene_pvals, anova_res[[\"P(>|Chi|)\"]][2])\n",
    "    gene_coeffs <- c(gene_coeffs, survival_fit_gene$coefficients[[\"gene\"]])\n",
    "}"
   ]
  },
  {
   "cell_type": "code",
   "execution_count": 105,
   "metadata": {},
   "outputs": [],
   "source": [
    "cox_regression_df <- tibble(\"geneID\" = genes_of_interest, \"gene_pval\" = gene_pvals, \"gene_coeff\" = gene_coeffs)\n",
    "sig_cox_regression_df <- cox_regression_df %>%\n",
    "    dplyr::filter(gene_pval < 0.05)"
   ]
  },
  {
   "cell_type": "code",
   "execution_count": 228,
   "metadata": {},
   "outputs": [
    {
     "name": "stderr",
     "output_type": "stream",
     "text": [
      "Saving 6.67 x 6.67 in image\n"
     ]
    },
    {
     "data": {
      "image/png": "[encoded data removed]",
      "text/plain": [
       "plot without title"
      ]
     },
     "metadata": {},
     "output_type": "display_data"
    }
   ],
   "source": [
    "ggplot() +\n",
    "    geom_histogram(aes(x = gene_pvals, y = ..density..), data = cox_regression_df, binwidth = 0.05, boundary = 0, fill = \"steelblue\") +\n",
    "    geom_density(aes(x = gene_pvals), data = cox_regression_df) +\n",
    "    scale_x_continuous(breaks = seq(from = 0, to = 1, by = 0.1))\n",
    "ggsave(paste0(dirs$figures_dir, \"/\", unified_dsets[i], \"_predictive_pval_density.png\"), last_plot())"
   ]
  },
  {
   "cell_type": "code",
   "execution_count": 109,
   "metadata": {},
   "outputs": [
    {
     "data": {
      "text/html": [
       "559"
      ],
      "text/latex": [
       "559"
      ],
      "text/markdown": [
       "559"
      ],
      "text/plain": [
       "[1] 559"
      ]
     },
     "metadata": {},
     "output_type": "display_data"
    },
    {
     "data": {
      "text/html": [
       "120"
      ],
      "text/latex": [
       "120"
      ],
      "text/markdown": [
       "120"
      ],
      "text/plain": [
       "[1] 120"
      ]
     },
     "metadata": {},
     "output_type": "display_data"
    },
    {
     "data": {
      "text/html": [
       "609"
      ],
      "text/latex": [
       "609"
      ],
      "text/markdown": [
       "609"
      ],
      "text/plain": [
       "[1] 609"
      ]
     },
     "metadata": {},
     "output_type": "display_data"
    }
   ],
   "source": [
    "length(matrisome_sig_deg_df$geneID)\n",
    "length(sig_cox_regression_df$geneID)\n",
    "length(union(matrisome_sig_deg_df$geneID, sig_cox_regression_df$geneID))"
   ]
  },
  {
   "cell_type": "code",
   "execution_count": 164,
   "metadata": {},
   "outputs": [
    {
     "data": {
      "text/html": [
       "1008"
      ],
      "text/latex": [
       "1008"
      ],
      "text/markdown": [
       "1008"
      ],
      "text/plain": [
       "[1] 1008"
      ]
     },
     "metadata": {},
     "output_type": "display_data"
    },
    {
     "data": {
      "text/html": [
       "<table>\n",
       "<caption>A tibble: 6 × 4</caption>\n",
       "<thead>\n",
       "\t<tr><th scope=col>geneID</th><th scope=col>deg</th><th scope=col>pred</th><th scope=col>both</th></tr>\n",
       "\t<tr><th scope=col>&lt;chr&gt;</th><th scope=col>&lt;dbl&gt;</th><th scope=col>&lt;dbl&gt;</th><th scope=col>&lt;dbl&gt;</th></tr>\n",
       "</thead>\n",
       "<tbody>\n",
       "\t<tr><td>PGF    </td><td>0</td><td>0</td><td>0</td></tr>\n",
       "\t<tr><td>TIMP4  </td><td>1</td><td>0</td><td>0</td></tr>\n",
       "\t<tr><td>C1QTNF6</td><td>0</td><td>0</td><td>0</td></tr>\n",
       "\t<tr><td>TNC    </td><td>0</td><td>1</td><td>0</td></tr>\n",
       "\t<tr><td>PRL    </td><td>1</td><td>0</td><td>0</td></tr>\n",
       "\t<tr><td>OGN    </td><td>1</td><td>0</td><td>0</td></tr>\n",
       "</tbody>\n",
       "</table>\n"
      ],
      "text/latex": [
       "A tibble: 6 × 4\n",
       "\\begin{tabular}{llll}\n",
       " geneID & deg & pred & both\\\\\n",
       " <chr> & <dbl> & <dbl> & <dbl>\\\\\n",
       "\\hline\n",
       "\t PGF     & 0 & 0 & 0\\\\\n",
       "\t TIMP4   & 1 & 0 & 0\\\\\n",
       "\t C1QTNF6 & 0 & 0 & 0\\\\\n",
       "\t TNC     & 0 & 1 & 0\\\\\n",
       "\t PRL     & 1 & 0 & 0\\\\\n",
       "\t OGN     & 1 & 0 & 0\\\\\n",
       "\\end{tabular}\n"
      ],
      "text/markdown": [
       "\n",
       "A tibble: 6 × 4\n",
       "\n",
       "| geneID &lt;chr&gt; | deg &lt;dbl&gt; | pred &lt;dbl&gt; | both &lt;dbl&gt; |\n",
       "|---|---|---|---|\n",
       "| PGF     | 0 | 0 | 0 |\n",
       "| TIMP4   | 1 | 0 | 0 |\n",
       "| C1QTNF6 | 0 | 0 | 0 |\n",
       "| TNC     | 0 | 1 | 0 |\n",
       "| PRL     | 1 | 0 | 0 |\n",
       "| OGN     | 1 | 0 | 0 |\n",
       "\n"
      ],
      "text/plain": [
       "  geneID  deg pred both\n",
       "1 PGF     0   0    0   \n",
       "2 TIMP4   1   0    0   \n",
       "3 C1QTNF6 0   0    0   \n",
       "4 TNC     0   1    0   \n",
       "5 PRL     1   0    0   \n",
       "6 OGN     1   0    0   "
      ]
     },
     "metadata": {},
     "output_type": "display_data"
    }
   ],
   "source": [
    "hm_df <- counts_df %>%\n",
    "    dplyr::select(geneID) %>%\n",
    "    dplyr::mutate(\n",
    "        deg = ifelse(geneID %in% matrisome_sig_deg_df$geneID, 1, 0),\n",
    "        pred = ifelse(geneID %in% sig_cox_regression_df$geneID, 1, 0)\n",
    "    ) %>%\n",
    "    dplyr::mutate(\n",
    "        both = ifelse(deg & pred, 1, 0)\n",
    "    )\n",
    "nrow(hm_df)\n",
    "head(hm_df)"
   ]
  },
  {
   "cell_type": "code",
   "execution_count": 166,
   "metadata": {},
   "outputs": [
    {
     "data": {
      "text/html": [
       "<table>\n",
       "<caption>A tibble: 6 × 3</caption>\n",
       "<thead>\n",
       "\t<tr><th scope=col>geneID</th><th scope=col>test</th><th scope=col>value</th></tr>\n",
       "\t<tr><th scope=col>&lt;chr&gt;</th><th scope=col>&lt;fct&gt;</th><th scope=col>&lt;fct&gt;</th></tr>\n",
       "</thead>\n",
       "<tbody>\n",
       "\t<tr><td>PGF  </td><td>deg </td><td>0</td></tr>\n",
       "\t<tr><td>PGF  </td><td>pred</td><td>0</td></tr>\n",
       "\t<tr><td>PGF  </td><td>both</td><td>0</td></tr>\n",
       "\t<tr><td>TIMP4</td><td>deg </td><td>1</td></tr>\n",
       "\t<tr><td>TIMP4</td><td>pred</td><td>0</td></tr>\n",
       "\t<tr><td>TIMP4</td><td>both</td><td>0</td></tr>\n",
       "</tbody>\n",
       "</table>\n"
      ],
      "text/latex": [
       "A tibble: 6 × 3\n",
       "\\begin{tabular}{lll}\n",
       " geneID & test & value\\\\\n",
       " <chr> & <fct> & <fct>\\\\\n",
       "\\hline\n",
       "\t PGF   & deg  & 0\\\\\n",
       "\t PGF   & pred & 0\\\\\n",
       "\t PGF   & both & 0\\\\\n",
       "\t TIMP4 & deg  & 1\\\\\n",
       "\t TIMP4 & pred & 0\\\\\n",
       "\t TIMP4 & both & 0\\\\\n",
       "\\end{tabular}\n"
      ],
      "text/markdown": [
       "\n",
       "A tibble: 6 × 3\n",
       "\n",
       "| geneID &lt;chr&gt; | test &lt;fct&gt; | value &lt;fct&gt; |\n",
       "|---|---|---|\n",
       "| PGF   | deg  | 0 |\n",
       "| PGF   | pred | 0 |\n",
       "| PGF   | both | 0 |\n",
       "| TIMP4 | deg  | 1 |\n",
       "| TIMP4 | pred | 0 |\n",
       "| TIMP4 | both | 0 |\n",
       "\n"
      ],
      "text/plain": [
       "  geneID test value\n",
       "1 PGF    deg  0    \n",
       "2 PGF    pred 0    \n",
       "3 PGF    both 0    \n",
       "4 TIMP4  deg  1    \n",
       "5 TIMP4  pred 0    \n",
       "6 TIMP4  both 0    "
      ]
     },
     "metadata": {},
     "output_type": "display_data"
    },
    {
     "data": {
      "text/html": [
       "3024"
      ],
      "text/latex": [
       "3024"
      ],
      "text/markdown": [
       "3024"
      ],
      "text/plain": [
       "[1] 3024"
      ]
     },
     "metadata": {},
     "output_type": "display_data"
    }
   ],
   "source": [
    "hm_pivot_df <- hm_df %>%\n",
    "    pivot_longer(cols = deg:both, names_to = \"test\")\n",
    "hm_pivot_df$test = factor(hm_pivot_df$test, levels = c(\"deg\", \"pred\", \"both\"))\n",
    "hm_pivot_df$value = factor(hm_pivot_df$value, levels = c(\"0\", \"1\"))\n",
    "\n",
    "head(hm_pivot_df)\n",
    "nrow(hm_pivot_df)"
   ]
  },
  {
   "cell_type": "code",
   "execution_count": 229,
   "metadata": {},
   "outputs": [
    {
     "name": "stderr",
     "output_type": "stream",
     "text": [
      "Saving 6.67 x 6.67 in image\n"
     ]
    },
    {
     "data": {
      "image/png": "[encoded data removed]",
      "text/plain": [
       "plot without title"
      ]
     },
     "metadata": {},
     "output_type": "display_data"
    }
   ],
   "source": [
    "ggplot() +\n",
    "    geom_tile(aes(x = test, y = geneID, fill = value), data = hm_pivot_df, width = 0.95) +\n",
    "    scale_fill_manual(values = c(\"white\", \"black\")) +\n",
    "    theme(\n",
    "        axis.title.x = element_blank(),\n",
    "        axis.title.y = element_blank(),\n",
    "        axis.text.y = element_blank(),\n",
    "        axis.ticks.y = element_blank(),\n",
    "        legend.position = \"None\"\n",
    "    ) +\n",
    "    coord_equal(ratio = 1/75)\n",
    "ggsave(paste0(dirs$figures_dir, \"/\", unified_dsets[i], \"_matrisome_DEG_predictive_heatmap.png\"), last_plot())"
   ]
  },
  {
   "cell_type": "code",
   "execution_count": 237,
   "metadata": {},
   "outputs": [],
   "source": [
    "matrisome_df %>%\n",
    "    dplyr::filter(gene_symbol %in% intersect(matrisome_sig_deg_df$geneID, sig_cox_regression_df$geneID)) %>%\n",
    "    write_tsv(paste0(dirs$analysis_dir, \"/\", unified_dsets[i], \"_DE_and_predictive.tsv\"))"
   ]
  }
 ],
 "metadata": {
  "kernelspec": {
   "display_name": "R",
   "language": "R",
   "name": "ir"
  },
  "language_info": {
   "codemirror_mode": "r",
   "file_extension": ".r",
   "mimetype": "text/x-r-source",
   "name": "R",
   "pygments_lexer": "r",
   "version": "3.6.3"
  }
 },
 "nbformat": 4,
 "nbformat_minor": 4
}
