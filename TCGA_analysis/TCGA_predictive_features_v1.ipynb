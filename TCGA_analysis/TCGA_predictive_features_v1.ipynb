{
 "cells": [
  {
   "cell_type": "code",
   "execution_count": 10,
   "metadata": {},
   "outputs": [],
   "source": [
    "library(tidyverse)\n",
    "library(survival)\n",
    "library(survminer)\n",
    "\n",
    "# Custom package\n",
    "library(rutils)"
   ]
  },
  {
   "cell_type": "code",
   "execution_count": 11,
   "metadata": {},
   "outputs": [],
   "source": [
    "dirs <- rutils::get_dev_directories(dev_paths_file = \"../dev_paths.txt\")\n",
    "projects <- c(\"TCGA-CESC\", \"TCGA-UCS\", \"TCGA-UCEC\", \"TCGA-OV\")\n",
    "unified_dsets <- c(\"unified_cervical_data\", \"unified_uterine_data\", \"unified_uterine_endometrial_data\")"
   ]
  },
  {
   "cell_type": "code",
   "execution_count": 12,
   "metadata": {},
   "outputs": [],
   "source": [
    "i <- 1"
   ]
  },
  {
   "cell_type": "code",
   "execution_count": 14,
   "metadata": {
    "collapsed": true,
    "jupyter": {
     "outputs_hidden": true
    }
   },
   "outputs": [
    {
     "name": "stderr",
     "output_type": "stream",
     "text": [
      "Parsed with column specification:\n",
      "cols(\n",
      "  sample_name = col_character(),\n",
      "  vital_status = col_character(),\n",
      "  days_to_last_follow_up = col_double(),\n",
      "  days_to_death = col_double(),\n",
      "  survival_time = col_double(),\n",
      "  age_at_diagnosis = col_double(),\n",
      "  age_at_index = col_double(),\n",
      "  height = col_double(),\n",
      "  weight = col_double(),\n",
      "  bmi = col_double(),\n",
      "  race_american_indian_or_alaska_native = col_double(),\n",
      "  race_asian = col_double(),\n",
      "  race_black_or_african_american = col_double(),\n",
      "  race_native_hawaiian_or_other_pacific_islander = col_double(),\n",
      "  race_not_reported = col_double(),\n",
      "  race_white = col_double(),\n",
      "  ethnicity_hispanic_or_latino = col_double(),\n",
      "  ethnicity_not_hispanic_or_latino = col_double(),\n",
      "  ethnicity_not_reported = col_double()\n",
      ")\n"
     ]
    },
    {
     "data": {
      "text/html": [
       "<table>\n",
       "<caption>A tibble: 6 × 19</caption>\n",
       "<thead>\n",
       "\t<tr><th scope=col>sample_name</th><th scope=col>vital_status</th><th scope=col>days_to_last_follow_up</th><th scope=col>days_to_death</th><th scope=col>survival_time</th><th scope=col>age_at_diagnosis</th><th scope=col>age_at_index</th><th scope=col>height</th><th scope=col>weight</th><th scope=col>bmi</th><th scope=col>race_american_indian_or_alaska_native</th><th scope=col>race_asian</th><th scope=col>race_black_or_african_american</th><th scope=col>race_native_hawaiian_or_other_pacific_islander</th><th scope=col>race_not_reported</th><th scope=col>race_white</th><th scope=col>ethnicity_hispanic_or_latino</th><th scope=col>ethnicity_not_hispanic_or_latino</th><th scope=col>ethnicity_not_reported</th></tr>\n",
       "\t<tr><th scope=col>&lt;chr&gt;</th><th scope=col>&lt;dbl&gt;</th><th scope=col>&lt;dbl&gt;</th><th scope=col>&lt;dbl&gt;</th><th scope=col>&lt;dbl&gt;</th><th scope=col>&lt;dbl&gt;</th><th scope=col>&lt;dbl&gt;</th><th scope=col>&lt;dbl&gt;</th><th scope=col>&lt;dbl&gt;</th><th scope=col>&lt;dbl&gt;</th><th scope=col>&lt;dbl&gt;</th><th scope=col>&lt;dbl&gt;</th><th scope=col>&lt;dbl&gt;</th><th scope=col>&lt;dbl&gt;</th><th scope=col>&lt;dbl&gt;</th><th scope=col>&lt;dbl&gt;</th><th scope=col>&lt;dbl&gt;</th><th scope=col>&lt;dbl&gt;</th><th scope=col>&lt;dbl&gt;</th></tr>\n",
       "</thead>\n",
       "<tbody>\n",
       "\t<tr><td>TCGA-C5-A1BF-01B-11R-A13Y-07</td><td>1</td><td> NA</td><td> 570</td><td> 570</td><td>16975</td><td>46</td><td> NA</td><td> 76</td><td>      NA</td><td>0</td><td>0</td><td>0</td><td>0</td><td>0</td><td>1</td><td>0</td><td>0</td><td>1</td></tr>\n",
       "\t<tr><td>TCGA-MU-A51Y-01A-11R-A26T-07</td><td>0</td><td>854</td><td>  NA</td><td> 854</td><td>10199</td><td>27</td><td> NA</td><td> 31</td><td>      NA</td><td>0</td><td>0</td><td>0</td><td>0</td><td>0</td><td>1</td><td>0</td><td>0</td><td>1</td></tr>\n",
       "\t<tr><td>TCGA-EK-A2RM-01A-21R-A18M-07</td><td>0</td><td> 50</td><td>  NA</td><td>  50</td><td>14842</td><td>40</td><td>167</td><td>105</td><td>37.64925</td><td>0</td><td>0</td><td>0</td><td>0</td><td>0</td><td>1</td><td>0</td><td>1</td><td>0</td></tr>\n",
       "\t<tr><td>TCGA-Q1-A73P-01A-11R-A32P-07</td><td>0</td><td>483</td><td>  NA</td><td> 483</td><td>16450</td><td>45</td><td>173</td><td> 82</td><td>27.39818</td><td>0</td><td>0</td><td>0</td><td>0</td><td>0</td><td>1</td><td>0</td><td>1</td><td>0</td></tr>\n",
       "\t<tr><td>TCGA-C5-A8YT-01A-11R-A37O-07</td><td>1</td><td>186</td><td> 633</td><td> 633</td><td>13253</td><td>36</td><td> NA</td><td> NA</td><td>      NA</td><td>0</td><td>0</td><td>0</td><td>0</td><td>0</td><td>1</td><td>0</td><td>1</td><td>0</td></tr>\n",
       "\t<tr><td>TCGA-C5-A2LZ-01A-11R-A213-07</td><td>1</td><td> NA</td><td>3046</td><td>3046</td><td>24059</td><td>65</td><td>163</td><td> 85</td><td>31.99217</td><td>0</td><td>0</td><td>0</td><td>0</td><td>0</td><td>1</td><td>0</td><td>1</td><td>0</td></tr>\n",
       "</tbody>\n",
       "</table>\n"
      ],
      "text/latex": [
       "A tibble: 6 × 19\n",
       "\\begin{tabular}{lllllllllllllllllll}\n",
       " sample\\_name & vital\\_status & days\\_to\\_last\\_follow\\_up & days\\_to\\_death & survival\\_time & age\\_at\\_diagnosis & age\\_at\\_index & height & weight & bmi & race\\_american\\_indian\\_or\\_alaska\\_native & race\\_asian & race\\_black\\_or\\_african\\_american & race\\_native\\_hawaiian\\_or\\_other\\_pacific\\_islander & race\\_not\\_reported & race\\_white & ethnicity\\_hispanic\\_or\\_latino & ethnicity\\_not\\_hispanic\\_or\\_latino & ethnicity\\_not\\_reported\\\\\n",
       " <chr> & <dbl> & <dbl> & <dbl> & <dbl> & <dbl> & <dbl> & <dbl> & <dbl> & <dbl> & <dbl> & <dbl> & <dbl> & <dbl> & <dbl> & <dbl> & <dbl> & <dbl> & <dbl>\\\\\n",
       "\\hline\n",
       "\t TCGA-C5-A1BF-01B-11R-A13Y-07 & 1 &  NA &  570 &  570 & 16975 & 46 &  NA &  76 &       NA & 0 & 0 & 0 & 0 & 0 & 1 & 0 & 0 & 1\\\\\n",
       "\t TCGA-MU-A51Y-01A-11R-A26T-07 & 0 & 854 &   NA &  854 & 10199 & 27 &  NA &  31 &       NA & 0 & 0 & 0 & 0 & 0 & 1 & 0 & 0 & 1\\\\\n",
       "\t TCGA-EK-A2RM-01A-21R-A18M-07 & 0 &  50 &   NA &   50 & 14842 & 40 & 167 & 105 & 37.64925 & 0 & 0 & 0 & 0 & 0 & 1 & 0 & 1 & 0\\\\\n",
       "\t TCGA-Q1-A73P-01A-11R-A32P-07 & 0 & 483 &   NA &  483 & 16450 & 45 & 173 &  82 & 27.39818 & 0 & 0 & 0 & 0 & 0 & 1 & 0 & 1 & 0\\\\\n",
       "\t TCGA-C5-A8YT-01A-11R-A37O-07 & 1 & 186 &  633 &  633 & 13253 & 36 &  NA &  NA &       NA & 0 & 0 & 0 & 0 & 0 & 1 & 0 & 1 & 0\\\\\n",
       "\t TCGA-C5-A2LZ-01A-11R-A213-07 & 1 &  NA & 3046 & 3046 & 24059 & 65 & 163 &  85 & 31.99217 & 0 & 0 & 0 & 0 & 0 & 1 & 0 & 1 & 0\\\\\n",
       "\\end{tabular}\n"
      ],
      "text/markdown": [
       "\n",
       "A tibble: 6 × 19\n",
       "\n",
       "| sample_name &lt;chr&gt; | vital_status &lt;dbl&gt; | days_to_last_follow_up &lt;dbl&gt; | days_to_death &lt;dbl&gt; | survival_time &lt;dbl&gt; | age_at_diagnosis &lt;dbl&gt; | age_at_index &lt;dbl&gt; | height &lt;dbl&gt; | weight &lt;dbl&gt; | bmi &lt;dbl&gt; | race_american_indian_or_alaska_native &lt;dbl&gt; | race_asian &lt;dbl&gt; | race_black_or_african_american &lt;dbl&gt; | race_native_hawaiian_or_other_pacific_islander &lt;dbl&gt; | race_not_reported &lt;dbl&gt; | race_white &lt;dbl&gt; | ethnicity_hispanic_or_latino &lt;dbl&gt; | ethnicity_not_hispanic_or_latino &lt;dbl&gt; | ethnicity_not_reported &lt;dbl&gt; |\n",
       "|---|---|---|---|---|---|---|---|---|---|---|---|---|---|---|---|---|---|---|\n",
       "| TCGA-C5-A1BF-01B-11R-A13Y-07 | 1 |  NA |  570 |  570 | 16975 | 46 |  NA |  76 |       NA | 0 | 0 | 0 | 0 | 0 | 1 | 0 | 0 | 1 |\n",
       "| TCGA-MU-A51Y-01A-11R-A26T-07 | 0 | 854 |   NA |  854 | 10199 | 27 |  NA |  31 |       NA | 0 | 0 | 0 | 0 | 0 | 1 | 0 | 0 | 1 |\n",
       "| TCGA-EK-A2RM-01A-21R-A18M-07 | 0 |  50 |   NA |   50 | 14842 | 40 | 167 | 105 | 37.64925 | 0 | 0 | 0 | 0 | 0 | 1 | 0 | 1 | 0 |\n",
       "| TCGA-Q1-A73P-01A-11R-A32P-07 | 0 | 483 |   NA |  483 | 16450 | 45 | 173 |  82 | 27.39818 | 0 | 0 | 0 | 0 | 0 | 1 | 0 | 1 | 0 |\n",
       "| TCGA-C5-A8YT-01A-11R-A37O-07 | 1 | 186 |  633 |  633 | 13253 | 36 |  NA |  NA |       NA | 0 | 0 | 0 | 0 | 0 | 1 | 0 | 1 | 0 |\n",
       "| TCGA-C5-A2LZ-01A-11R-A213-07 | 1 |  NA | 3046 | 3046 | 24059 | 65 | 163 |  85 | 31.99217 | 0 | 0 | 0 | 0 | 0 | 1 | 0 | 1 | 0 |\n",
       "\n"
      ],
      "text/plain": [
       "  sample_name                  vital_status days_to_last_follow_up\n",
       "1 TCGA-C5-A1BF-01B-11R-A13Y-07 1             NA                   \n",
       "2 TCGA-MU-A51Y-01A-11R-A26T-07 0            854                   \n",
       "3 TCGA-EK-A2RM-01A-21R-A18M-07 0             50                   \n",
       "4 TCGA-Q1-A73P-01A-11R-A32P-07 0            483                   \n",
       "5 TCGA-C5-A8YT-01A-11R-A37O-07 1            186                   \n",
       "6 TCGA-C5-A2LZ-01A-11R-A213-07 1             NA                   \n",
       "  days_to_death survival_time age_at_diagnosis age_at_index height weight\n",
       "1  570           570          16975            46            NA     76   \n",
       "2   NA           854          10199            27            NA     31   \n",
       "3   NA            50          14842            40           167    105   \n",
       "4   NA           483          16450            45           173     82   \n",
       "5  633           633          13253            36            NA     NA   \n",
       "6 3046          3046          24059            65           163     85   \n",
       "  bmi      race_american_indian_or_alaska_native race_asian\n",
       "1       NA 0                                     0         \n",
       "2       NA 0                                     0         \n",
       "3 37.64925 0                                     0         \n",
       "4 27.39818 0                                     0         \n",
       "5       NA 0                                     0         \n",
       "6 31.99217 0                                     0         \n",
       "  race_black_or_african_american race_native_hawaiian_or_other_pacific_islander\n",
       "1 0                              0                                             \n",
       "2 0                              0                                             \n",
       "3 0                              0                                             \n",
       "4 0                              0                                             \n",
       "5 0                              0                                             \n",
       "6 0                              0                                             \n",
       "  race_not_reported race_white ethnicity_hispanic_or_latino\n",
       "1 0                 1          0                           \n",
       "2 0                 1          0                           \n",
       "3 0                 1          0                           \n",
       "4 0                 1          0                           \n",
       "5 0                 1          0                           \n",
       "6 0                 1          0                           \n",
       "  ethnicity_not_hispanic_or_latino ethnicity_not_reported\n",
       "1 0                                1                     \n",
       "2 0                                1                     \n",
       "3 1                                0                     \n",
       "4 1                                0                     \n",
       "5 1                                0                     \n",
       "6 1                                0                     "
      ]
     },
     "metadata": {},
     "output_type": "display_data"
    },
    {
     "data": {
      "text/html": [
       "259"
      ],
      "text/latex": [
       "259"
      ],
      "text/markdown": [
       "259"
      ],
      "text/plain": [
       "[1] 259"
      ]
     },
     "metadata": {},
     "output_type": "display_data"
    }
   ],
   "source": [
    "survival_df <- read_tsv(paste0(dirs$data_dir, \"/\", unified_dsets[i], \"/survival_data.tsv\")) %>%\n",
    "    mutate(vital_status_num = case_when(\n",
    "        vital_status == \"Dead\" ~ 1,\n",
    "        vital_status == \"Alive\" ~ 0\n",
    "    )) %>%\n",
    "    dplyr::select(sample_name, vital_status_num, everything(), -vital_status) %>%\n",
    "    dplyr::rename(vital_status = vital_status_num) %>%\n",
    "    dplyr::filter(!is.na(survival_time), !is.na(vital_status))\n",
    "head(survival_df)\n",
    "nrow(survival_df)"
   ]
  },
  {
   "cell_type": "markdown",
   "metadata": {},
   "source": [
    "# Test relevance of including a gene"
   ]
  },
  {
   "cell_type": "code",
   "execution_count": 42,
   "metadata": {},
   "outputs": [],
   "source": [
    "filtered_survival_df <- survival_df %>%\n",
    "    dplyr::select(sample_name, vital_status, survival_time, age_at_diagnosis) %>%\n",
    "    # For now, drop rows with NA -- rethink this later as expand number of features\n",
    "    dplyr::filter(rowSums(is.na(.)) == 0)\n",
    "    "
   ]
  },
  {
   "cell_type": "code",
   "execution_count": 120,
   "metadata": {},
   "outputs": [
    {
     "name": "stderr",
     "output_type": "stream",
     "text": [
      "Parsed with column specification:\n",
      "cols(\n",
      "  .default = col_double(),\n",
      "  Hugo_Symbol = col_character()\n",
      ")\n",
      "See spec(...) for full column specifications.\n"
     ]
    },
    {
     "data": {
      "text/html": [
       "TRUE"
      ],
      "text/latex": [
       "TRUE"
      ],
      "text/markdown": [
       "TRUE"
      ],
      "text/plain": [
       "[1] TRUE"
      ]
     },
     "metadata": {},
     "output_type": "display_data"
    }
   ],
   "source": [
    "counts_df <- read_tsv(paste0(dirs$data_dir, \"/\", unified_dsets[i], \"/counts.tsv\")) %>%\n",
    "    dplyr::rename(geneID = Hugo_Symbol) %>%\n",
    "    dplyr::select(-Entrez_Gene_Id) %>%\n",
    "    dplyr::mutate_if(is.numeric, round, 0)\n",
    "\n",
    "# Match up columns with rows of survival data & only include samples present in survival data\n",
    "survival_counts_df <- counts_df[, c(\"geneID\", filtered_survival_df$sample_name)]\n",
    "survival_counts <- as.matrix(survival_counts_df %>% column_to_rownames(var = \"geneID\"))\n",
    "\n",
    "# A row of survival_counts should be usable as a column in filtered_survival_df\n",
    "all(colnames(survival_counts) == filtered_survival_df$sample_name)"
   ]
  },
  {
   "cell_type": "code",
   "execution_count": 146,
   "metadata": {},
   "outputs": [
    {
     "data": {
      "text/plain": [
       "Call:\n",
       "coxph(formula = null_model_formula, data = filtered_survival_df)\n",
       "\n",
       "                      coef exp(coef)  se(coef)     z      p\n",
       "age_at_diagnosis 4.734e-05 1.000e+00 2.468e-05 1.918 0.0551\n",
       "\n",
       "Likelihood ratio test=3.61  on 1 df, p=0.05749\n",
       "n= 258, number of events= 66 "
      ]
     },
     "metadata": {},
     "output_type": "display_data"
    },
    {
     "data": {
      "text/plain": [
       "Call:\n",
       "coxph(formula = gene_model_formula, data = filtered_survival_df %>% \n",
       "    dplyr::mutate(gene = survival_counts[2008, ]))\n",
       "\n",
       "                       coef  exp(coef)   se(coef)      z      p\n",
       "age_at_diagnosis  4.439e-05  1.000e+00  2.464e-05  1.802 0.0716\n",
       "gene             -3.306e-04  9.997e-01  1.615e-04 -2.047 0.0407\n",
       "\n",
       "Likelihood ratio test=8.58  on 2 df, p=0.0137\n",
       "n= 258, number of events= 66 "
      ]
     },
     "metadata": {},
     "output_type": "display_data"
    },
    {
     "data": {
      "text/html": [
       "<table>\n",
       "<caption>A anova: 2 × 4</caption>\n",
       "<thead>\n",
       "\t<tr><th></th><th scope=col>loglik</th><th scope=col>Chisq</th><th scope=col>Df</th><th scope=col>P(&gt;|Chi|)</th></tr>\n",
       "\t<tr><th></th><th scope=col>&lt;dbl&gt;</th><th scope=col>&lt;dbl&gt;</th><th scope=col>&lt;int&gt;</th><th scope=col>&lt;dbl&gt;</th></tr>\n",
       "</thead>\n",
       "<tbody>\n",
       "\t<tr><th scope=row>1</th><td>-310.0642</td><td>      NA</td><td>NA</td><td>        NA</td></tr>\n",
       "\t<tr><th scope=row>2</th><td>-307.5778</td><td>4.972736</td><td> 1</td><td>0.02574989</td></tr>\n",
       "</tbody>\n",
       "</table>\n"
      ],
      "text/latex": [
       "A anova: 2 × 4\n",
       "\\begin{tabular}{r|llll}\n",
       "  & loglik & Chisq & Df & P(>\\textbar{}Chi\\textbar{})\\\\\n",
       "  & <dbl> & <dbl> & <int> & <dbl>\\\\\n",
       "\\hline\n",
       "\t1 & -310.0642 &       NA & NA &         NA\\\\\n",
       "\t2 & -307.5778 & 4.972736 &  1 & 0.02574989\\\\\n",
       "\\end{tabular}\n"
      ],
      "text/markdown": [
       "\n",
       "A anova: 2 × 4\n",
       "\n",
       "| <!--/--> | loglik &lt;dbl&gt; | Chisq &lt;dbl&gt; | Df &lt;int&gt; | P(&gt;|Chi|) &lt;dbl&gt; |\n",
       "|---|---|---|---|---|\n",
       "| 1 | -310.0642 |       NA | NA |         NA |\n",
       "| 2 | -307.5778 | 4.972736 |  1 | 0.02574989 |\n",
       "\n"
      ],
      "text/plain": [
       "  loglik    Chisq    Df P(>|Chi|) \n",
       "1 -310.0642       NA NA         NA\n",
       "2 -307.5778 4.972736  1 0.02574989"
      ]
     },
     "metadata": {},
     "output_type": "display_data"
    }
   ],
   "source": [
    "# survival_fit_null <- coxph(Surv(survival_time, vital_status) ~ age_at_diagnosis, data = filtered_survival_df)\n",
    "null_model_formula <- as.formula(paste0(\"Surv(survival_time, vital_status) ~ \", \"age_at_diagnosis\"))\n",
    "survival_fit_null <- coxph(null_model_formula, data = filtered_survival_df)\n",
    "\n",
    "gene_model_formula <- as.formula(paste0(\"Surv(survival_time, vital_status) ~ \", \"age_at_diagnosis\", \"+\", \"gene\"))\n",
    "survival_fit_gene <- coxph(gene_model_formula, data = filtered_survival_df %>%dplyr::mutate(gene = survival_counts[2008, ]))\n",
    "\n",
    "survival_fit_null\n",
    "survival_fit_gene\n",
    "anova(survival_fit_null, survival_fit_gene, test = \"LRT\")"
   ]
  }
 ],
 "metadata": {
  "kernelspec": {
   "display_name": "R",
   "language": "R",
   "name": "ir"
  },
  "language_info": {
   "codemirror_mode": "r",
   "file_extension": ".r",
   "mimetype": "text/x-r-source",
   "name": "R",
   "pygments_lexer": "r",
   "version": "3.6.3"
  }
 },
 "nbformat": 4,
 "nbformat_minor": 4
}
