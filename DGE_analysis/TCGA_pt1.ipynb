{
 "cells": [
  {
   "cell_type": "markdown",
   "metadata": {},
   "source": [
    "# Preliminary TCGA DGE analysis\n",
    "### Primary concerns about this analysis:\n",
    "1. Low statistical power: healthy condition has few samples\n",
    "2. Missing data: ovarian cancer cohort has no healthy samples"
   ]
  },
  {
   "cell_type": "code",
   "execution_count": 1,
   "metadata": {
    "collapsed": true,
    "jupyter": {
     "outputs_hidden": true
    }
   },
   "outputs": [
    {
     "name": "stderr",
     "output_type": "stream",
     "text": [
      "── Attaching packages ─────────────────────────────────────── tidyverse 1.3.0 ──\n",
      "✔ ggplot2 3.3.2     ✔ purrr   0.3.4\n",
      "✔ tibble  3.0.3     ✔ dplyr   1.0.0\n",
      "✔ tidyr   1.1.0     ✔ stringr 1.4.0\n",
      "✔ readr   1.3.1     ✔ forcats 0.5.0\n",
      "── Conflicts ────────────────────────────────────────── tidyverse_conflicts() ──\n",
      "✖ dplyr::filter() masks stats::filter()\n",
      "✖ dplyr::lag()    masks stats::lag()\n",
      "Loading required package: S4Vectors\n",
      "Loading required package: stats4\n",
      "Loading required package: BiocGenerics\n",
      "Loading required package: parallel\n",
      "\n",
      "Attaching package: ‘BiocGenerics’\n",
      "\n",
      "The following objects are masked from ‘package:parallel’:\n",
      "\n",
      "    clusterApply, clusterApplyLB, clusterCall, clusterEvalQ,\n",
      "    clusterExport, clusterMap, parApply, parCapply, parLapply,\n",
      "    parLapplyLB, parRapply, parSapply, parSapplyLB\n",
      "\n",
      "The following objects are masked from ‘package:dplyr’:\n",
      "\n",
      "    combine, intersect, setdiff, union\n",
      "\n",
      "The following objects are masked from ‘package:stats’:\n",
      "\n",
      "    IQR, mad, sd, var, xtabs\n",
      "\n",
      "The following objects are masked from ‘package:base’:\n",
      "\n",
      "    anyDuplicated, append, as.data.frame, basename, cbind, colnames,\n",
      "    dirname, do.call, duplicated, eval, evalq, Filter, Find, get, grep,\n",
      "    grepl, intersect, is.unsorted, lapply, Map, mapply, match, mget,\n",
      "    order, paste, pmax, pmax.int, pmin, pmin.int, Position, rank,\n",
      "    rbind, Reduce, rownames, sapply, setdiff, sort, table, tapply,\n",
      "    union, unique, unsplit, which, which.max, which.min\n",
      "\n",
      "\n",
      "Attaching package: ‘S4Vectors’\n",
      "\n",
      "The following objects are masked from ‘package:dplyr’:\n",
      "\n",
      "    first, rename\n",
      "\n",
      "The following object is masked from ‘package:tidyr’:\n",
      "\n",
      "    expand\n",
      "\n",
      "The following object is masked from ‘package:base’:\n",
      "\n",
      "    expand.grid\n",
      "\n",
      "Loading required package: IRanges\n",
      "\n",
      "Attaching package: ‘IRanges’\n",
      "\n",
      "The following objects are masked from ‘package:dplyr’:\n",
      "\n",
      "    collapse, desc, slice\n",
      "\n",
      "The following object is masked from ‘package:purrr’:\n",
      "\n",
      "    reduce\n",
      "\n",
      "Loading required package: GenomicRanges\n",
      "Loading required package: GenomeInfoDb\n",
      "Loading required package: SummarizedExperiment\n",
      "Loading required package: Biobase\n",
      "Welcome to Bioconductor\n",
      "\n",
      "    Vignettes contain introductory material; view with\n",
      "    'browseVignettes()'. To cite Bioconductor, see\n",
      "    'citation(\"Biobase\")', and for packages 'citation(\"pkgname\")'.\n",
      "\n",
      "Loading required package: DelayedArray\n",
      "Loading required package: matrixStats\n",
      "\n",
      "Attaching package: ‘matrixStats’\n",
      "\n",
      "The following objects are masked from ‘package:Biobase’:\n",
      "\n",
      "    anyMissing, rowMedians\n",
      "\n",
      "The following object is masked from ‘package:dplyr’:\n",
      "\n",
      "    count\n",
      "\n",
      "Loading required package: BiocParallel\n",
      "\n",
      "Attaching package: ‘DelayedArray’\n",
      "\n",
      "The following objects are masked from ‘package:matrixStats’:\n",
      "\n",
      "    colMaxs, colMins, colRanges, rowMaxs, rowMins, rowRanges\n",
      "\n",
      "The following object is masked from ‘package:purrr’:\n",
      "\n",
      "    simplify\n",
      "\n",
      "The following objects are masked from ‘package:base’:\n",
      "\n",
      "    aperm, apply, rowsum\n",
      "\n"
     ]
    }
   ],
   "source": [
    "library(tidyverse)\n",
    "library(TCGAbiolinks)\n",
    "library(DESeq2)\n",
    "library(BiocParallel)"
   ]
  },
  {
   "cell_type": "markdown",
   "metadata": {},
   "source": [
    "## Take advantage of parallelization in DESeq2 functions"
   ]
  },
  {
   "cell_type": "code",
   "execution_count": 2,
   "metadata": {},
   "outputs": [],
   "source": [
    "n_cores <- detectCores()\n",
    "BiocParallel::register(MulticoreParam(n_cores))"
   ]
  },
  {
   "cell_type": "markdown",
   "metadata": {},
   "source": [
    "## Constants"
   ]
  },
  {
   "cell_type": "code",
   "execution_count": 3,
   "metadata": {},
   "outputs": [],
   "source": [
    "projects <- c(\"TCGA-UCEC\", \"TCGA-CESC\")\n",
    "data_root <- \"../../../../../mnt/d/TCGA\"\n",
    "project_dirs <- sapply(\n",
    "    projects, \n",
    "    (function(p) paste0(data_root, \"/\", as.character(Sys.Date()), \"-\", p, \"-\", \"TCGAbiolinks\"))\n",
    ")\n",
    "tumor_levels <- c(\"Primary solid Tumor\", \"Metastatic\")\n",
    "healthy_levels <- c(\"Solid Tissue Normal\")\n",
    "tumor_def <- \"Tumor\"\n",
    "healthy_def <- \"Healthy\"\n",
    "proj_idx <- 2"
   ]
  },
  {
   "cell_type": "markdown",
   "metadata": {},
   "source": [
    "## Functions"
   ]
  },
  {
   "cell_type": "code",
   "execution_count": 4,
   "metadata": {},
   "outputs": [],
   "source": [
    "# Consolidate levels and (optionally) filter remaining levels\n",
    "# Ex:\n",
    "# - {\"Primary solid Tumor\", \"Metastatic\"} -> \"Tumor\"\n",
    "# - {\"Solid Tissue Normal\"} -> \"Healthy\"\n",
    "# - {\"Recurrent Tumor\"} -> (rows removed)\n",
    "consolidate_levels <- function(d, old_tumor_levels, old_healthy_levels, new_tumor_level, new_healthy_level, drop_remaining = TRUE) {\n",
    "    tumor_mask <- d$definition %in% old_tumor_levels\n",
    "    healthy_mask <- d$definition %in% old_healthy_levels\n",
    "    d$definition[tumor_mask] <- new_tumor_level\n",
    "    d$definition[healthy_mask] <- new_healthy_level\n",
    "    \n",
    "    if (drop_remaining) {\n",
    "        level_mask <- d$definition %in% c(new_tumor_level, new_healthy_level)\n",
    "        d <- d[, level_mask]\n",
    "    }\n",
    "}\n",
    "\n",
    "\n",
    "# Filter out rows (genes) which are not expressed in any sample\n",
    "filter_unexpressed <- function(d) {\n",
    "    not_expr_mask <- rowSums(DESeq2::counts(d)) == 0\n",
    "    return(d[!not_expr_mask, ])\n",
    "}\n",
    "\n",
    "\n",
    "# Select which rows to keep based on adjusted p-value and absolute log2 fold-change\n",
    "filter_DGE_res <- function(df, max_padj = 0.05, min_l2fc = log2(2)) {\n",
    "    padj_mask <- df$padj < max_padj\n",
    "    l2fc_mask <- abs(df$log2FoldChange) > min_l2fc\n",
    "    final_mask <- padj_mask & l2fc_mask\n",
    "    return(df[final_mask, ])\n",
    "}"
   ]
  },
  {
   "cell_type": "markdown",
   "metadata": {},
   "source": [
    "## Run Query & download"
   ]
  },
  {
   "cell_type": "code",
   "execution_count": 5,
   "metadata": {},
   "outputs": [
    {
     "name": "stderr",
     "output_type": "stream",
     "text": [
      "--------------------------------------\n",
      "o GDCquery: Searching in GDC database\n",
      "--------------------------------------\n",
      "Genome of reference: hg38\n",
      "--------------------------------------------\n",
      "oo Accessing GDC. This might take a while...\n",
      "--------------------------------------------\n",
      "ooo Project: TCGA-CESC\n",
      "--------------------\n",
      "oo Filtering results\n",
      "--------------------\n",
      "ooo By data.type\n",
      "ooo By workflow.type\n",
      "----------------\n",
      "oo Checking data\n",
      "----------------\n",
      "ooo Check if there are duplicated cases\n",
      "ooo Check if there results for the query\n",
      "-------------------\n",
      "o Preparing output\n",
      "-------------------\n"
     ]
    }
   ],
   "source": [
    "query <- GDCquery(\n",
    "    project = projects[proj_idx],\n",
    "    data.category = \"Transcriptome Profiling\",\n",
    "    data.type = \"Gene Expression Quantification\",\n",
    "    workflow.type = \"HTSeq - Counts\"\n",
    ")"
   ]
  },
  {
   "cell_type": "code",
   "execution_count": 6,
   "metadata": {
    "collapsed": true,
    "jupyter": {
     "outputs_hidden": true
    }
   },
   "outputs": [
    {
     "name": "stderr",
     "output_type": "stream",
     "text": [
      "Downloading data for project TCGA-CESC\n",
      "GDCdownload will download 309 files. A total of 77.948874 MB\n",
      "Downloading chunk 1 of 31 (10 files, size = 2.5169 MB) as Tue_Jul_21_11_54_02_2020_0.tar.gz\n"
     ]
    },
    {
     "name": "stdout",
     "output_type": "stream",
     "text": [
      "Downloading: 2.5 MB       "
     ]
    },
    {
     "name": "stderr",
     "output_type": "stream",
     "text": [
      "Downloading chunk 2 of 31 (10 files, size = 2.509254 MB) as Tue_Jul_21_11_54_02_2020_1.tar.gz\n"
     ]
    },
    {
     "name": "stdout",
     "output_type": "stream",
     "text": [
      "Downloading: 2.5 MB       "
     ]
    },
    {
     "name": "stderr",
     "output_type": "stream",
     "text": [
      "Downloading chunk 3 of 31 (10 files, size = 2.515677 MB) as Tue_Jul_21_11_54_02_2020_2.tar.gz\n"
     ]
    },
    {
     "name": "stdout",
     "output_type": "stream",
     "text": [
      "Downloading: 2.5 MB       "
     ]
    },
    {
     "name": "stderr",
     "output_type": "stream",
     "text": [
      "Downloading chunk 4 of 31 (10 files, size = 2.518157 MB) as Tue_Jul_21_11_54_02_2020_3.tar.gz\n"
     ]
    },
    {
     "name": "stdout",
     "output_type": "stream",
     "text": [
      "Downloading: 2.5 MB     "
     ]
    },
    {
     "name": "stderr",
     "output_type": "stream",
     "text": [
      "Downloading chunk 5 of 31 (10 files, size = 2.511126 MB) as Tue_Jul_21_11_54_02_2020_4.tar.gz\n"
     ]
    },
    {
     "name": "stdout",
     "output_type": "stream",
     "text": [
      "Downloading: 2.5 MB       "
     ]
    },
    {
     "name": "stderr",
     "output_type": "stream",
     "text": [
      "Downloading chunk 6 of 31 (10 files, size = 2.524145 MB) as Tue_Jul_21_11_54_02_2020_5.tar.gz\n"
     ]
    },
    {
     "name": "stdout",
     "output_type": "stream",
     "text": [
      "Downloading: 2.5 MB       "
     ]
    },
    {
     "name": "stderr",
     "output_type": "stream",
     "text": [
      "Downloading chunk 7 of 31 (10 files, size = 2.537913 MB) as Tue_Jul_21_11_54_02_2020_6.tar.gz\n"
     ]
    },
    {
     "name": "stdout",
     "output_type": "stream",
     "text": [
      "Downloading: 2.5 MB       "
     ]
    },
    {
     "name": "stderr",
     "output_type": "stream",
     "text": [
      "Downloading chunk 8 of 31 (10 files, size = 2.51407 MB) as Tue_Jul_21_11_54_02_2020_7.tar.gz\n"
     ]
    },
    {
     "name": "stdout",
     "output_type": "stream",
     "text": [
      "Downloading: 2.5 MB       "
     ]
    },
    {
     "name": "stderr",
     "output_type": "stream",
     "text": [
      "Downloading chunk 9 of 31 (10 files, size = 2.522695 MB) as Tue_Jul_21_11_54_02_2020_8.tar.gz\n"
     ]
    },
    {
     "name": "stdout",
     "output_type": "stream",
     "text": [
      "Downloading: 2.5 MB       "
     ]
    },
    {
     "name": "stderr",
     "output_type": "stream",
     "text": [
      "Downloading chunk 10 of 31 (10 files, size = 2.529265 MB) as Tue_Jul_21_11_54_02_2020_9.tar.gz\n"
     ]
    },
    {
     "name": "stdout",
     "output_type": "stream",
     "text": [
      "Downloading: 2.5 MB       "
     ]
    },
    {
     "name": "stderr",
     "output_type": "stream",
     "text": [
      "Downloading chunk 11 of 31 (10 files, size = 2.527341 MB) as Tue_Jul_21_11_54_02_2020_10.tar.gz\n"
     ]
    },
    {
     "name": "stdout",
     "output_type": "stream",
     "text": [
      "Downloading: 2.5 MB     "
     ]
    },
    {
     "name": "stderr",
     "output_type": "stream",
     "text": [
      "Downloading chunk 12 of 31 (10 files, size = 2.520964 MB) as Tue_Jul_21_11_54_02_2020_11.tar.gz\n"
     ]
    },
    {
     "name": "stdout",
     "output_type": "stream",
     "text": [
      "Downloading: 2.5 MB       "
     ]
    },
    {
     "name": "stderr",
     "output_type": "stream",
     "text": [
      "Downloading chunk 13 of 31 (10 files, size = 2.525687 MB) as Tue_Jul_21_11_54_02_2020_12.tar.gz\n"
     ]
    },
    {
     "name": "stdout",
     "output_type": "stream",
     "text": [
      "Downloading: 2.5 MB       "
     ]
    },
    {
     "name": "stderr",
     "output_type": "stream",
     "text": [
      "Downloading chunk 14 of 31 (10 files, size = 2.527227 MB) as Tue_Jul_21_11_54_02_2020_13.tar.gz\n"
     ]
    },
    {
     "name": "stdout",
     "output_type": "stream",
     "text": [
      "Downloading: 2.5 MB       "
     ]
    },
    {
     "name": "stderr",
     "output_type": "stream",
     "text": [
      "Downloading chunk 15 of 31 (10 files, size = 2.516641 MB) as Tue_Jul_21_11_54_02_2020_14.tar.gz\n"
     ]
    },
    {
     "name": "stdout",
     "output_type": "stream",
     "text": [
      "Downloading: 2.5 MB       "
     ]
    },
    {
     "name": "stderr",
     "output_type": "stream",
     "text": [
      "Downloading chunk 16 of 31 (10 files, size = 2.527569 MB) as Tue_Jul_21_11_54_02_2020_15.tar.gz\n"
     ]
    },
    {
     "name": "stdout",
     "output_type": "stream",
     "text": [
      "Downloading: 2.5 MB     "
     ]
    },
    {
     "name": "stderr",
     "output_type": "stream",
     "text": [
      "Downloading chunk 17 of 31 (10 files, size = 2.516499 MB) as Tue_Jul_21_11_54_02_2020_16.tar.gz\n"
     ]
    },
    {
     "name": "stdout",
     "output_type": "stream",
     "text": [
      "Downloading: 2.5 MB       "
     ]
    },
    {
     "name": "stderr",
     "output_type": "stream",
     "text": [
      "Downloading chunk 18 of 31 (10 files, size = 2.525649 MB) as Tue_Jul_21_11_54_02_2020_17.tar.gz\n"
     ]
    },
    {
     "name": "stdout",
     "output_type": "stream",
     "text": [
      "Downloading: 2.5 MB       "
     ]
    },
    {
     "name": "stderr",
     "output_type": "stream",
     "text": [
      "Downloading chunk 19 of 31 (10 files, size = 2.528622 MB) as Tue_Jul_21_11_54_02_2020_18.tar.gz\n"
     ]
    },
    {
     "name": "stdout",
     "output_type": "stream",
     "text": [
      "Downloading: 2.5 MB       "
     ]
    },
    {
     "name": "stderr",
     "output_type": "stream",
     "text": [
      "Downloading chunk 20 of 31 (10 files, size = 2.526459 MB) as Tue_Jul_21_11_54_02_2020_19.tar.gz\n"
     ]
    },
    {
     "name": "stdout",
     "output_type": "stream",
     "text": [
      "Downloading: 2.5 MB       "
     ]
    },
    {
     "name": "stderr",
     "output_type": "stream",
     "text": [
      "Downloading chunk 21 of 31 (10 files, size = 2.505514 MB) as Tue_Jul_21_11_54_02_2020_20.tar.gz\n"
     ]
    },
    {
     "name": "stdout",
     "output_type": "stream",
     "text": [
      "Downloading: 2.5 MB     "
     ]
    },
    {
     "name": "stderr",
     "output_type": "stream",
     "text": [
      "Downloading chunk 22 of 31 (10 files, size = 2.557378 MB) as Tue_Jul_21_11_54_02_2020_21.tar.gz\n"
     ]
    },
    {
     "name": "stdout",
     "output_type": "stream",
     "text": [
      "Downloading: 2.6 MB       "
     ]
    },
    {
     "name": "stderr",
     "output_type": "stream",
     "text": [
      "Downloading chunk 23 of 31 (10 files, size = 2.530486 MB) as Tue_Jul_21_11_54_02_2020_22.tar.gz\n"
     ]
    },
    {
     "name": "stdout",
     "output_type": "stream",
     "text": [
      "Downloading: 2.5 MB       "
     ]
    },
    {
     "name": "stderr",
     "output_type": "stream",
     "text": [
      "Downloading chunk 24 of 31 (10 files, size = 2.520495 MB) as Tue_Jul_21_11_54_02_2020_23.tar.gz\n"
     ]
    },
    {
     "name": "stdout",
     "output_type": "stream",
     "text": [
      "Downloading: 2.5 MB       "
     ]
    },
    {
     "name": "stderr",
     "output_type": "stream",
     "text": [
      "Downloading chunk 25 of 31 (10 files, size = 2.511265 MB) as Tue_Jul_21_11_54_02_2020_24.tar.gz\n"
     ]
    },
    {
     "name": "stdout",
     "output_type": "stream",
     "text": [
      "Downloading: 2.5 MB       "
     ]
    },
    {
     "name": "stderr",
     "output_type": "stream",
     "text": [
      "Downloading chunk 26 of 31 (10 files, size = 2.516215 MB) as Tue_Jul_21_11_54_02_2020_25.tar.gz\n"
     ]
    },
    {
     "name": "stdout",
     "output_type": "stream",
     "text": [
      "Downloading: 2.5 MB       "
     ]
    },
    {
     "name": "stderr",
     "output_type": "stream",
     "text": [
      "Downloading chunk 27 of 31 (10 files, size = 2.531861 MB) as Tue_Jul_21_11_54_02_2020_26.tar.gz\n"
     ]
    },
    {
     "name": "stdout",
     "output_type": "stream",
     "text": [
      "Downloading: 2.5 MB       "
     ]
    },
    {
     "name": "stderr",
     "output_type": "stream",
     "text": [
      "Downloading chunk 28 of 31 (10 files, size = 2.529356 MB) as Tue_Jul_21_11_54_02_2020_27.tar.gz\n"
     ]
    },
    {
     "name": "stdout",
     "output_type": "stream",
     "text": [
      "Downloading: 2.5 MB       "
     ]
    },
    {
     "name": "stderr",
     "output_type": "stream",
     "text": [
      "Downloading chunk 29 of 31 (10 files, size = 2.514211 MB) as Tue_Jul_21_11_54_02_2020_28.tar.gz\n"
     ]
    },
    {
     "name": "stdout",
     "output_type": "stream",
     "text": [
      "Downloading: 2.5 MB     "
     ]
    },
    {
     "name": "stderr",
     "output_type": "stream",
     "text": [
      "Downloading chunk 30 of 31 (10 files, size = 2.520868 MB) as Tue_Jul_21_11_54_02_2020_29.tar.gz\n"
     ]
    },
    {
     "name": "stdout",
     "output_type": "stream",
     "text": [
      "Downloading: 2.5 MB       "
     ]
    },
    {
     "name": "stderr",
     "output_type": "stream",
     "text": [
      "Downloading chunk 31 of 31 (9 files, size = 2.269365 MB) as Tue_Jul_21_11_54_02_2020_30.tar.gz\n"
     ]
    },
    {
     "name": "stdout",
     "output_type": "stream",
     "text": [
      "Downloading: 2.3 MB       "
     ]
    }
   ],
   "source": [
    "GDCdownload(query, method = \"api\", directory = project_dirs[proj_idx], files.per.chunk = 10)"
   ]
  },
  {
   "cell_type": "markdown",
   "metadata": {},
   "source": [
    "## Prepare data for analysis"
   ]
  },
  {
   "cell_type": "code",
   "execution_count": 7,
   "metadata": {},
   "outputs": [
    {
     "name": "stdout",
     "output_type": "stream",
     "text": [
      "|====================================================|100%                      Completed after 29 s \n"
     ]
    },
    {
     "name": "stderr",
     "output_type": "stream",
     "text": [
      "Starting to add information to samples\n",
      " => Add clinical information to samples\n",
      "Add FFPE information. More information at: \n",
      "=> https://cancergenome.nih.gov/cancersselected/biospeccriteria \n",
      "=> http://gdac.broadinstitute.org/runs/sampleReports/latest/FPPP_FFPE_Cases.html\n",
      " => Adding subtype information to samples\n",
      "cesc subtype information from:doi:10.1038/nature21386\n",
      "Accessing www.ensembl.org to get gene information\n",
      "Downloading genome information (try:0) Using: Human genes (GRCh38.p13)\n",
      "Warning message:\n",
      "“`select_()` is deprecated as of dplyr 0.7.0.\n",
      "Please use `select()` instead.\n",
      "This warning is displayed once every 8 hours.\n",
      "Call `lifecycle::last_warnings()` to see where this warning was generated.”Warning message:\n",
      "“`filter_()` is deprecated as of dplyr 0.7.0.\n",
      "Please use `filter()` instead.\n",
      "See vignette('programming') for more help\n",
      "This warning is displayed once every 8 hours.\n",
      "Call `lifecycle::last_warnings()` to see where this warning was generated.”Cache found\n",
      "From the 60483 genes we couldn't map 3990\n"
     ]
    }
   ],
   "source": [
    "data <- GDCprepare(query, directory = project_dirs[proj_idx])"
   ]
  },
  {
   "cell_type": "code",
   "execution_count": 8,
   "metadata": {},
   "outputs": [
    {
     "data": {
      "text/plain": [
       "class: RangedSummarizedExperiment \n",
       "dim: 56493 309 \n",
       "metadata(1): data_release\n",
       "assays(1): HTSeq - Counts\n",
       "rownames(56493): ENSG00000000003 ENSG00000000005 ... ENSG00000281912\n",
       "  ENSG00000281920\n",
       "rowData names(3): ensembl_gene_id external_gene_name\n",
       "  original_ensembl_gene_id\n",
       "colnames(309): TCGA-JX-A3Q8-01A-11R-A21T-07\n",
       "  TCGA-C5-A1BK-01B-11R-A13Y-07 ... TCGA-EK-A2R8-01A-21R-A18M-07\n",
       "  TCGA-JW-A5VK-01A-11R-A28H-07\n",
       "colData names(131): sample patient ... subtype_GEXP.APOBEC3H.164668\n",
       "  subtype_patient"
      ]
     },
     "metadata": {},
     "output_type": "display_data"
    }
   ],
   "source": [
    "data"
   ]
  },
  {
   "cell_type": "markdown",
   "metadata": {},
   "source": [
    "### Only want two levels\n",
    "\n",
    "Lump \"Metastatic\" and \"Primary Solid Tumor\" together, define \"Healthy\" as non-tumor, and filter out data from other levels"
   ]
  },
  {
   "cell_type": "code",
   "execution_count": 9,
   "metadata": {},
   "outputs": [],
   "source": [
    "data_consolidated <- consolidate_levels(\n",
    "    data,\n",
    "    old_tumor_levels = tumor_levels,\n",
    "    old_healthy_levels = healthy_levels,\n",
    "    new_tumor_level = tumor_def,\n",
    "    new_healthy_level = healthy_def,\n",
    "    drop_remaining = TRUE\n",
    ")"
   ]
  },
  {
   "cell_type": "code",
   "execution_count": 10,
   "metadata": {},
   "outputs": [
    {
     "data": {
      "text/html": [
       "<style>\n",
       ".list-inline {list-style: none; margin:0; padding: 0}\n",
       ".list-inline>li {display: inline-block}\n",
       ".list-inline>li:not(:last-child)::after {content: \"\\00b7\"; padding: 0 .5ex}\n",
       "</style>\n",
       "<ol class=list-inline><li>'Tumor'</li><li>'Healthy'</li></ol>\n"
      ],
      "text/latex": [
       "\\begin{enumerate*}\n",
       "\\item 'Tumor'\n",
       "\\item 'Healthy'\n",
       "\\end{enumerate*}\n"
      ],
      "text/markdown": [
       "1. 'Tumor'\n",
       "2. 'Healthy'\n",
       "\n",
       "\n"
      ],
      "text/plain": [
       "[1] \"Tumor\"   \"Healthy\""
      ]
     },
     "metadata": {},
     "output_type": "display_data"
    },
    {
     "data": {
      "text/html": [
       "<style>\n",
       ".list-inline {list-style: none; margin:0; padding: 0}\n",
       ".list-inline>li {display: inline-block}\n",
       ".list-inline>li:not(:last-child)::after {content: \"\\00b7\"; padding: 0 .5ex}\n",
       "</style>\n",
       "<ol class=list-inline><li>56493</li><li>309</li></ol>\n"
      ],
      "text/latex": [
       "\\begin{enumerate*}\n",
       "\\item 56493\n",
       "\\item 309\n",
       "\\end{enumerate*}\n"
      ],
      "text/markdown": [
       "1. 56493\n",
       "2. 309\n",
       "\n",
       "\n"
      ],
      "text/plain": [
       "[1] 56493   309"
      ]
     },
     "metadata": {},
     "output_type": "display_data"
    }
   ],
   "source": [
    "unique(data_consolidated$definition)\n",
    "dim(data_consolidated)"
   ]
  },
  {
   "cell_type": "code",
   "execution_count": 11,
   "metadata": {},
   "outputs": [
    {
     "data": {
      "text/html": [
       "306"
      ],
      "text/latex": [
       "306"
      ],
      "text/markdown": [
       "306"
      ],
      "text/plain": [
       "[1] 306"
      ]
     },
     "metadata": {},
     "output_type": "display_data"
    },
    {
     "data": {
      "text/html": [
       "3"
      ],
      "text/latex": [
       "3"
      ],
      "text/markdown": [
       "3"
      ],
      "text/plain": [
       "[1] 3"
      ]
     },
     "metadata": {},
     "output_type": "display_data"
    }
   ],
   "source": [
    "sum(data_consolidated$definition == tumor_def)\n",
    "sum(data_consolidated$definition == healthy_def)"
   ]
  },
  {
   "cell_type": "markdown",
   "metadata": {},
   "source": [
    "## Prep data for DGE analysis"
   ]
  },
  {
   "cell_type": "code",
   "execution_count": 12,
   "metadata": {},
   "outputs": [
    {
     "name": "stderr",
     "output_type": "stream",
     "text": [
      "renaming the first element in assays to 'counts'\n",
      "converting counts to integer mode\n",
      "Warning message in DESeqDataSet(data_consolidated, design = ~definition):\n",
      "“some variables in design formula are characters, converting to factors”"
     ]
    }
   ],
   "source": [
    "dds <- DESeqDataSet(data_consolidated, design = ~ definition)"
   ]
  },
  {
   "cell_type": "code",
   "execution_count": 13,
   "metadata": {},
   "outputs": [
    {
     "data": {
      "text/plain": [
       "class: DESeqDataSet \n",
       "dim: 56493 309 \n",
       "metadata(2): data_release version\n",
       "assays(1): counts\n",
       "rownames(56493): ENSG00000000003 ENSG00000000005 ... ENSG00000281912\n",
       "  ENSG00000281920\n",
       "rowData names(3): ensembl_gene_id external_gene_name\n",
       "  original_ensembl_gene_id\n",
       "colnames(309): TCGA-JX-A3Q8-01A-11R-A21T-07\n",
       "  TCGA-C5-A1BK-01B-11R-A13Y-07 ... TCGA-EK-A2R8-01A-21R-A18M-07\n",
       "  TCGA-JW-A5VK-01A-11R-A28H-07\n",
       "colData names(131): sample patient ... subtype_GEXP.APOBEC3H.164668\n",
       "  subtype_patient"
      ]
     },
     "metadata": {},
     "output_type": "display_data"
    }
   ],
   "source": [
    "dds"
   ]
  },
  {
   "cell_type": "markdown",
   "metadata": {},
   "source": [
    "### Filter out genes which are not expressed in *any* samples\n",
    "If a gene is not expressed in any sample under either condition, we will exclude it."
   ]
  },
  {
   "cell_type": "code",
   "execution_count": 14,
   "metadata": {},
   "outputs": [],
   "source": [
    "dds_filtered <- filter_unexpressed(dds)"
   ]
  },
  {
   "cell_type": "code",
   "execution_count": 15,
   "metadata": {},
   "outputs": [
    {
     "data": {
      "text/html": [
       "<style>\n",
       ".list-inline {list-style: none; margin:0; padding: 0}\n",
       ".list-inline>li {display: inline-block}\n",
       ".list-inline>li:not(:last-child)::after {content: \"\\00b7\"; padding: 0 .5ex}\n",
       "</style>\n",
       "<ol class=list-inline><li>53763</li><li>309</li></ol>\n"
      ],
      "text/latex": [
       "\\begin{enumerate*}\n",
       "\\item 53763\n",
       "\\item 309\n",
       "\\end{enumerate*}\n"
      ],
      "text/markdown": [
       "1. 53763\n",
       "2. 309\n",
       "\n",
       "\n"
      ],
      "text/plain": [
       "[1] 53763   309"
      ]
     },
     "metadata": {},
     "output_type": "display_data"
    }
   ],
   "source": [
    "dim(dds_filtered)"
   ]
  },
  {
   "cell_type": "markdown",
   "metadata": {},
   "source": [
    "## Perform DGE analysis"
   ]
  },
  {
   "cell_type": "code",
   "execution_count": 16,
   "metadata": {},
   "outputs": [
    {
     "name": "stderr",
     "output_type": "stream",
     "text": [
      "estimating size factors\n",
      "estimating dispersions\n",
      "gene-wise dispersion estimates: 16 workers\n",
      "mean-dispersion relationship\n",
      "final dispersion estimates, fitting model and testing: 16 workers\n",
      "-- replacing outliers and refitting for 4519 genes\n",
      "-- DESeq argument 'minReplicatesForReplace' = 7 \n",
      "-- original counts are preserved in counts(dds)\n",
      "estimating dispersions\n",
      "fitting model and testing\n"
     ]
    }
   ],
   "source": [
    "ddsSeq <- DESeq(dds_filtered, parallel = TRUE)"
   ]
  },
  {
   "cell_type": "code",
   "execution_count": 17,
   "metadata": {},
   "outputs": [
    {
     "data": {
      "text/plain": [
       "class: DESeqDataSet \n",
       "dim: 53763 309 \n",
       "metadata(2): data_release version\n",
       "assays(6): counts mu ... replaceCounts replaceCooks\n",
       "rownames(53763): ENSG00000000003 ENSG00000000005 ... ENSG00000281912\n",
       "  ENSG00000281920\n",
       "rowData names(26): ensembl_gene_id external_gene_name ... maxCooks\n",
       "  replace\n",
       "colnames(309): TCGA-JX-A3Q8-01A-11R-A21T-07\n",
       "  TCGA-C5-A1BK-01B-11R-A13Y-07 ... TCGA-EK-A2R8-01A-21R-A18M-07\n",
       "  TCGA-JW-A5VK-01A-11R-A28H-07\n",
       "colData names(133): sample patient ... sizeFactor replaceable"
      ]
     },
     "metadata": {},
     "output_type": "display_data"
    }
   ],
   "source": [
    "ddsSeq"
   ]
  },
  {
   "cell_type": "code",
   "execution_count": 18,
   "metadata": {},
   "outputs": [
    {
     "data": {
      "text/html": [
       "<style>\n",
       ".list-inline {list-style: none; margin:0; padding: 0}\n",
       ".list-inline>li {display: inline-block}\n",
       ".list-inline>li:not(:last-child)::after {content: \"\\00b7\"; padding: 0 .5ex}\n",
       "</style>\n",
       "<ol class=list-inline><li>'Intercept'</li><li>'definition_Tumor_vs_Healthy'</li></ol>\n"
      ],
      "text/latex": [
       "\\begin{enumerate*}\n",
       "\\item 'Intercept'\n",
       "\\item 'definition\\_Tumor\\_vs\\_Healthy'\n",
       "\\end{enumerate*}\n"
      ],
      "text/markdown": [
       "1. 'Intercept'\n",
       "2. 'definition_Tumor_vs_Healthy'\n",
       "\n",
       "\n"
      ],
      "text/plain": [
       "[1] \"Intercept\"                   \"definition_Tumor_vs_Healthy\""
      ]
     },
     "metadata": {},
     "output_type": "display_data"
    }
   ],
   "source": [
    "resultsNames(ddsSeq)"
   ]
  },
  {
   "cell_type": "markdown",
   "metadata": {},
   "source": [
    "### Get DGE results using *Tumor vs. Healthy* statistics\n",
    "This means that, for some $gene_a$, $\\log_{2}fc = 2$ means $gene_a$ was expressed *4 times as much* in the tumor condition as in the healthy condition."
   ]
  },
  {
   "cell_type": "code",
   "execution_count": 19,
   "metadata": {},
   "outputs": [],
   "source": [
    "res <- results(ddsSeq, contrast = c(\"definition\", \"Tumor\", \"Healthy\"), pAdjustMethod = \"BH\", parallel = TRUE)"
   ]
  },
  {
   "cell_type": "markdown",
   "metadata": {},
   "source": [
    "## Combine results with external gene IDs"
   ]
  },
  {
   "cell_type": "code",
   "execution_count": 20,
   "metadata": {},
   "outputs": [],
   "source": [
    "res_df <- as_tibble(res, rownames = \"geneID\")\n",
    "ddsSeq_row_data_df <- rowData(ddsSeq) %>% as_tibble()"
   ]
  },
  {
   "cell_type": "markdown",
   "metadata": {},
   "source": [
    "### Make sure gene ordering is preserved between dataframes"
   ]
  },
  {
   "cell_type": "code",
   "execution_count": 21,
   "metadata": {},
   "outputs": [
    {
     "data": {
      "text/html": [
       "TRUE"
      ],
      "text/latex": [
       "TRUE"
      ],
      "text/markdown": [
       "TRUE"
      ],
      "text/plain": [
       "[1] TRUE"
      ]
     },
     "metadata": {},
     "output_type": "display_data"
    }
   ],
   "source": [
    "all(ddsSeq_row_data_df$ensembl_gene_id == res_df$geneID)"
   ]
  },
  {
   "cell_type": "markdown",
   "metadata": {},
   "source": [
    "### Place all gene IDs in the same dataframe as the results statistics"
   ]
  },
  {
   "cell_type": "code",
   "execution_count": 22,
   "metadata": {},
   "outputs": [],
   "source": [
    "res_genes_df <- res_df %>% mutate(\n",
    "        external_gene_name = ddsSeq_row_data_df$external_gene_name,\n",
    "        original_ensembl_gene_id = ddsSeq_row_data_df$original_ensembl_gene_id,\n",
    "        ensembl_gene_id = res_df$geneID\n",
    "    ) %>%\n",
    "    select(-geneID) %>%\n",
    "    select(ensembl_gene_id, original_ensembl_gene_id, external_gene_name, everything())"
   ]
  },
  {
   "cell_type": "code",
   "execution_count": 23,
   "metadata": {},
   "outputs": [
    {
     "data": {
      "text/html": [
       "<table>\n",
       "<caption>A tibble: 6 × 9</caption>\n",
       "<thead>\n",
       "\t<tr><th scope=col>ensembl_gene_id</th><th scope=col>original_ensembl_gene_id</th><th scope=col>external_gene_name</th><th scope=col>baseMean</th><th scope=col>log2FoldChange</th><th scope=col>lfcSE</th><th scope=col>stat</th><th scope=col>pvalue</th><th scope=col>padj</th></tr>\n",
       "\t<tr><th scope=col>&lt;chr&gt;</th><th scope=col>&lt;chr&gt;</th><th scope=col>&lt;chr&gt;</th><th scope=col>&lt;dbl&gt;</th><th scope=col>&lt;dbl&gt;</th><th scope=col>&lt;dbl&gt;</th><th scope=col>&lt;dbl&gt;</th><th scope=col>&lt;dbl&gt;</th><th scope=col>&lt;dbl&gt;</th></tr>\n",
       "</thead>\n",
       "<tbody>\n",
       "\t<tr><td>ENSG00000000003</td><td>ENSG00000000003.13</td><td>TSPAN6  </td><td>3476.033426</td><td> 0.3218580</td><td>0.4442807</td><td> 0.7244475</td><td>4.687911e-01</td><td>6.418229e-01</td></tr>\n",
       "\t<tr><td>ENSG00000000005</td><td>ENSG00000000005.5 </td><td>TNMD    </td><td>   2.267135</td><td>-3.8835788</td><td>1.7394600</td><td>-2.2326347</td><td>2.557304e-02</td><td>9.202309e-02</td></tr>\n",
       "\t<tr><td>ENSG00000000419</td><td>ENSG00000000419.11</td><td>DPM1    </td><td>2638.597733</td><td> 0.3850439</td><td>0.2700207</td><td> 1.4259791</td><td>1.538744e-01</td><td>3.143098e-01</td></tr>\n",
       "\t<tr><td>ENSG00000000457</td><td>ENSG00000000457.12</td><td>SCYL3   </td><td> 910.186204</td><td> 0.2949984</td><td>0.2780415</td><td> 1.0609868</td><td>2.886959e-01</td><td>4.730806e-01</td></tr>\n",
       "\t<tr><td>ENSG00000000460</td><td>ENSG00000000460.15</td><td>C1orf112</td><td> 878.032328</td><td> 2.4829913</td><td>0.3159528</td><td> 7.8587418</td><td>3.880110e-15</td><td>5.052102e-13</td></tr>\n",
       "\t<tr><td>ENSG00000000938</td><td>ENSG00000000938.11</td><td>FGR     </td><td> 514.668255</td><td>-1.1657661</td><td>0.5907400</td><td>-1.9733997</td><td>4.845004e-02</td><td>1.444367e-01</td></tr>\n",
       "</tbody>\n",
       "</table>\n"
      ],
      "text/latex": [
       "A tibble: 6 × 9\n",
       "\\begin{tabular}{lllllllll}\n",
       " ensembl\\_gene\\_id & original\\_ensembl\\_gene\\_id & external\\_gene\\_name & baseMean & log2FoldChange & lfcSE & stat & pvalue & padj\\\\\n",
       " <chr> & <chr> & <chr> & <dbl> & <dbl> & <dbl> & <dbl> & <dbl> & <dbl>\\\\\n",
       "\\hline\n",
       "\t ENSG00000000003 & ENSG00000000003.13 & TSPAN6   & 3476.033426 &  0.3218580 & 0.4442807 &  0.7244475 & 4.687911e-01 & 6.418229e-01\\\\\n",
       "\t ENSG00000000005 & ENSG00000000005.5  & TNMD     &    2.267135 & -3.8835788 & 1.7394600 & -2.2326347 & 2.557304e-02 & 9.202309e-02\\\\\n",
       "\t ENSG00000000419 & ENSG00000000419.11 & DPM1     & 2638.597733 &  0.3850439 & 0.2700207 &  1.4259791 & 1.538744e-01 & 3.143098e-01\\\\\n",
       "\t ENSG00000000457 & ENSG00000000457.12 & SCYL3    &  910.186204 &  0.2949984 & 0.2780415 &  1.0609868 & 2.886959e-01 & 4.730806e-01\\\\\n",
       "\t ENSG00000000460 & ENSG00000000460.15 & C1orf112 &  878.032328 &  2.4829913 & 0.3159528 &  7.8587418 & 3.880110e-15 & 5.052102e-13\\\\\n",
       "\t ENSG00000000938 & ENSG00000000938.11 & FGR      &  514.668255 & -1.1657661 & 0.5907400 & -1.9733997 & 4.845004e-02 & 1.444367e-01\\\\\n",
       "\\end{tabular}\n"
      ],
      "text/markdown": [
       "\n",
       "A tibble: 6 × 9\n",
       "\n",
       "| ensembl_gene_id &lt;chr&gt; | original_ensembl_gene_id &lt;chr&gt; | external_gene_name &lt;chr&gt; | baseMean &lt;dbl&gt; | log2FoldChange &lt;dbl&gt; | lfcSE &lt;dbl&gt; | stat &lt;dbl&gt; | pvalue &lt;dbl&gt; | padj &lt;dbl&gt; |\n",
       "|---|---|---|---|---|---|---|---|---|\n",
       "| ENSG00000000003 | ENSG00000000003.13 | TSPAN6   | 3476.033426 |  0.3218580 | 0.4442807 |  0.7244475 | 4.687911e-01 | 6.418229e-01 |\n",
       "| ENSG00000000005 | ENSG00000000005.5  | TNMD     |    2.267135 | -3.8835788 | 1.7394600 | -2.2326347 | 2.557304e-02 | 9.202309e-02 |\n",
       "| ENSG00000000419 | ENSG00000000419.11 | DPM1     | 2638.597733 |  0.3850439 | 0.2700207 |  1.4259791 | 1.538744e-01 | 3.143098e-01 |\n",
       "| ENSG00000000457 | ENSG00000000457.12 | SCYL3    |  910.186204 |  0.2949984 | 0.2780415 |  1.0609868 | 2.886959e-01 | 4.730806e-01 |\n",
       "| ENSG00000000460 | ENSG00000000460.15 | C1orf112 |  878.032328 |  2.4829913 | 0.3159528 |  7.8587418 | 3.880110e-15 | 5.052102e-13 |\n",
       "| ENSG00000000938 | ENSG00000000938.11 | FGR      |  514.668255 | -1.1657661 | 0.5907400 | -1.9733997 | 4.845004e-02 | 1.444367e-01 |\n",
       "\n"
      ],
      "text/plain": [
       "  ensembl_gene_id original_ensembl_gene_id external_gene_name baseMean   \n",
       "1 ENSG00000000003 ENSG00000000003.13       TSPAN6             3476.033426\n",
       "2 ENSG00000000005 ENSG00000000005.5        TNMD                  2.267135\n",
       "3 ENSG00000000419 ENSG00000000419.11       DPM1               2638.597733\n",
       "4 ENSG00000000457 ENSG00000000457.12       SCYL3               910.186204\n",
       "5 ENSG00000000460 ENSG00000000460.15       C1orf112            878.032328\n",
       "6 ENSG00000000938 ENSG00000000938.11       FGR                 514.668255\n",
       "  log2FoldChange lfcSE     stat       pvalue       padj        \n",
       "1  0.3218580     0.4442807  0.7244475 4.687911e-01 6.418229e-01\n",
       "2 -3.8835788     1.7394600 -2.2326347 2.557304e-02 9.202309e-02\n",
       "3  0.3850439     0.2700207  1.4259791 1.538744e-01 3.143098e-01\n",
       "4  0.2949984     0.2780415  1.0609868 2.886959e-01 4.730806e-01\n",
       "5  2.4829913     0.3159528  7.8587418 3.880110e-15 5.052102e-13\n",
       "6 -1.1657661     0.5907400 -1.9733997 4.845004e-02 1.444367e-01"
      ]
     },
     "metadata": {},
     "output_type": "display_data"
    }
   ],
   "source": [
    "head(res_genes_df)"
   ]
  },
  {
   "cell_type": "code",
   "execution_count": 24,
   "metadata": {},
   "outputs": [
    {
     "data": {
      "text/html": [
       "<style>\n",
       ".list-inline {list-style: none; margin:0; padding: 0}\n",
       ".list-inline>li {display: inline-block}\n",
       ".list-inline>li:not(:last-child)::after {content: \"\\00b7\"; padding: 0 .5ex}\n",
       "</style>\n",
       "<ol class=list-inline><li>53763</li><li>9</li></ol>\n"
      ],
      "text/latex": [
       "\\begin{enumerate*}\n",
       "\\item 53763\n",
       "\\item 9\n",
       "\\end{enumerate*}\n"
      ],
      "text/markdown": [
       "1. 53763\n",
       "2. 9\n",
       "\n",
       "\n"
      ],
      "text/plain": [
       "[1] 53763     9"
      ]
     },
     "metadata": {},
     "output_type": "display_data"
    }
   ],
   "source": [
    "dim(res_genes_df)"
   ]
  },
  {
   "cell_type": "markdown",
   "metadata": {},
   "source": [
    "## Create DEG list"
   ]
  },
  {
   "cell_type": "markdown",
   "metadata": {},
   "source": [
    "### Drop rows (genes) with NA values"
   ]
  },
  {
   "cell_type": "code",
   "execution_count": 25,
   "metadata": {},
   "outputs": [],
   "source": [
    "na_mask <- rowSums(is.na(res_genes_df)) > 0\n",
    "res_genes_df <- res_genes_df[!na_mask, ]"
   ]
  },
  {
   "cell_type": "markdown",
   "metadata": {},
   "source": [
    "No NAs left?"
   ]
  },
  {
   "cell_type": "code",
   "execution_count": 26,
   "metadata": {},
   "outputs": [
    {
     "data": {
      "text/html": [
       "TRUE"
      ],
      "text/latex": [
       "TRUE"
      ],
      "text/markdown": [
       "TRUE"
      ],
      "text/plain": [
       "[1] TRUE"
      ]
     },
     "metadata": {},
     "output_type": "display_data"
    }
   ],
   "source": [
    "sum(rowSums(is.na(res_genes_df))) == 0"
   ]
  },
  {
   "cell_type": "markdown",
   "metadata": {},
   "source": [
    "How many rows left?"
   ]
  },
  {
   "cell_type": "code",
   "execution_count": 27,
   "metadata": {},
   "outputs": [
    {
     "data": {
      "text/html": [
       "30468"
      ],
      "text/latex": [
       "30468"
      ],
      "text/markdown": [
       "30468"
      ],
      "text/plain": [
       "[1] 30468"
      ]
     },
     "metadata": {},
     "output_type": "display_data"
    }
   ],
   "source": [
    "nrow(res_genes_df)"
   ]
  },
  {
   "cell_type": "markdown",
   "metadata": {},
   "source": [
    "### Apply final filters (adj. $p$-values, $\\log_2$ fold-change)"
   ]
  },
  {
   "cell_type": "code",
   "execution_count": 33,
   "metadata": {},
   "outputs": [],
   "source": [
    "deg1_padj <- 0.05\n",
    "deg1_l2fc <- log2(1.5)\n",
    "DEG1_df <- filter_DGE_res(res_genes_df, max_padj = deg1_padj, min_l2fc = deg1_l2fc)"
   ]
  },
  {
   "cell_type": "markdown",
   "metadata": {},
   "source": [
    "How many rows left?"
   ]
  },
  {
   "cell_type": "code",
   "execution_count": 34,
   "metadata": {},
   "outputs": [
    {
     "data": {
      "text/html": [
       "6637"
      ],
      "text/latex": [
       "6637"
      ],
      "text/markdown": [
       "6637"
      ],
      "text/plain": [
       "[1] 6637"
      ]
     },
     "metadata": {},
     "output_type": "display_data"
    }
   ],
   "source": [
    "nrow(DEG1_df)"
   ]
  },
  {
   "cell_type": "markdown",
   "metadata": {},
   "source": [
    "## Save filtered DEG lists"
   ]
  },
  {
   "cell_type": "code",
   "execution_count": 30,
   "metadata": {},
   "outputs": [],
   "source": [
    "DEG1_file <- paste0(\"DEG1\", \"_padj_\", as.character(deg1_padj), \"_l2fc_\", as.character(deg1_l2fc), \".tsv\")"
   ]
  },
  {
   "cell_type": "code",
   "execution_count": 31,
   "metadata": {},
   "outputs": [
    {
     "data": {
      "text/html": [
       "'DEG1_padj_0.05_l2fc_0.584962500721156.tsv'"
      ],
      "text/latex": [
       "'DEG1\\_padj\\_0.05\\_l2fc\\_0.584962500721156.tsv'"
      ],
      "text/markdown": [
       "'DEG1_padj_0.05_l2fc_0.584962500721156.tsv'"
      ],
      "text/plain": [
       "[1] \"DEG1_padj_0.05_l2fc_0.584962500721156.tsv\""
      ]
     },
     "metadata": {},
     "output_type": "display_data"
    }
   ],
   "source": [
    "DEG1_file"
   ]
  },
  {
   "cell_type": "code",
   "execution_count": 32,
   "metadata": {},
   "outputs": [],
   "source": [
    "# write_tsv(DEG1_df, path = paste(data_root, \"DGE_analysis\", DEG1_file, sep=\"/\"))"
   ]
  },
  {
   "cell_type": "code",
   "execution_count": null,
   "metadata": {},
   "outputs": [],
   "source": []
  }
 ],
 "metadata": {
  "kernelspec": {
   "display_name": "R",
   "language": "R",
   "name": "ir"
  },
  "language_info": {
   "codemirror_mode": "r",
   "file_extension": ".r",
   "mimetype": "text/x-r-source",
   "name": "R",
   "pygments_lexer": "r",
   "version": "3.6.3"
  }
 },
 "nbformat": 4,
 "nbformat_minor": 4
}
