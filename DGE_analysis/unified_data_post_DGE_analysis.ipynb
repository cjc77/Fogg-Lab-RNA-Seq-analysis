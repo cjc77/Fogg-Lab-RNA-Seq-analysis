{
 "cells": [
  {
   "cell_type": "code",
   "execution_count": 1,
   "metadata": {},
   "outputs": [
    {
     "name": "stderr",
     "output_type": "stream",
     "text": [
      "── Attaching packages ─────────────────────────────────────── tidyverse 1.3.0 ──\n",
      "✔ ggplot2 3.3.2     ✔ purrr   0.3.4\n",
      "✔ tibble  3.0.3     ✔ dplyr   1.0.0\n",
      "✔ tidyr   1.1.0     ✔ stringr 1.4.0\n",
      "✔ readr   1.3.1     ✔ forcats 0.5.0\n",
      "── Conflicts ────────────────────────────────────────── tidyverse_conflicts() ──\n",
      "✖ dplyr::filter() masks stats::filter()\n",
      "✖ dplyr::lag()    masks stats::lag()\n"
     ]
    }
   ],
   "source": [
    "library(tidyverse)"
   ]
  },
  {
   "cell_type": "markdown",
   "metadata": {},
   "source": [
    "# Constants"
   ]
  },
  {
   "cell_type": "code",
   "execution_count": 2,
   "metadata": {},
   "outputs": [],
   "source": [
    "data_dir <- \"../../../../../mnt/d/unified_TCGA_GTEx\"\n",
    "dsets <- c(\"unified_cervical_data\")\n",
    "dset_paths <- unlist(map(dsets, function(d) paste0(data_dir, \"/\", d)))\n",
    "analysis_dir <- paste(data_dir, \"analysis\", sep = \"/\")\n",
    "matrisome_list <- paste(data_dir, \"matrisome\", \"matrisome_hs_masterlist.tsv\", sep = \"/\")\n",
    "dset_idx <- 1"
   ]
  },
  {
   "cell_type": "markdown",
   "metadata": {},
   "source": [
    "## Co-process matrisome and unified dataset genes"
   ]
  },
  {
   "cell_type": "markdown",
   "metadata": {},
   "source": [
    "## Load DESeq results"
   ]
  },
  {
   "cell_type": "code",
   "execution_count": 6,
   "metadata": {},
   "outputs": [
    {
     "name": "stderr",
     "output_type": "stream",
     "text": [
      "Parsed with column specification:\n",
      "cols(\n",
      "  geneID = col_character(),\n",
      "  baseMean = col_double(),\n",
      "  log2FoldChange = col_double(),\n",
      "  lfcSE = col_double(),\n",
      "  stat = col_double(),\n",
      "  pvalue = col_double(),\n",
      "  padj = col_double()\n",
      ")\n"
     ]
    }
   ],
   "source": [
    "dge_res_informed_df <- read_tsv(paste0(analysis_dir, \"/\", dsets[dset_idx], \"_unfiltered_DESeq_results.tsv\"))\n",
    "sig_dge_res_informed_df <- dplyr::filter(dge_res_informed_df, padj < 0.05)"
   ]
  },
  {
   "cell_type": "markdown",
   "metadata": {},
   "source": [
    "### Load matrisome list and prep"
   ]
  },
  {
   "cell_type": "code",
   "execution_count": 7,
   "metadata": {},
   "outputs": [
    {
     "name": "stderr",
     "output_type": "stream",
     "text": [
      "Parsed with column specification:\n",
      "cols(\n",
      "  Division = col_character(),\n",
      "  Category = col_character(),\n",
      "  `Gene Symbol` = col_character(),\n",
      "  `Gene Name` = col_character(),\n",
      "  Synonyms = col_character(),\n",
      "  HGNC_IDs = col_double(),\n",
      "  `HGNC_IDs Links` = col_double(),\n",
      "  UniProt_IDs = col_character(),\n",
      "  Refseq_IDs = col_character(),\n",
      "  Orthology = col_character(),\n",
      "  Notes = col_character()\n",
      ")\n"
     ]
    },
    {
     "data": {
      "text/html": [
       "<table>\n",
       "<caption>A tibble: 6 × 11</caption>\n",
       "<thead>\n",
       "\t<tr><th scope=col>gene_symbol</th><th scope=col>division</th><th scope=col>category</th><th scope=col>gene_name</th><th scope=col>synonyms</th><th scope=col>hgnc_ids</th><th scope=col>hgnc_ids_links</th><th scope=col>uniprot_ids</th><th scope=col>refseq_ids</th><th scope=col>orthology</th><th scope=col>notes</th></tr>\n",
       "\t<tr><th scope=col>&lt;chr&gt;</th><th scope=col>&lt;chr&gt;</th><th scope=col>&lt;chr&gt;</th><th scope=col>&lt;chr&gt;</th><th scope=col>&lt;chr&gt;</th><th scope=col>&lt;dbl&gt;</th><th scope=col>&lt;dbl&gt;</th><th scope=col>&lt;chr&gt;</th><th scope=col>&lt;chr&gt;</th><th scope=col>&lt;chr&gt;</th><th scope=col>&lt;chr&gt;</th></tr>\n",
       "</thead>\n",
       "<tbody>\n",
       "\t<tr><td>ABI3BP</td><td>Core matrisome</td><td>ECM Glycoproteins</td><td>ABI family, member 3 (NESH) binding protein     </td><td>FLJ41743|FLJ41754|NESHBP|TARSH                    </td><td>17265</td><td>17265</td><td>B4DSV9:D3YTG3:E9PPR9:E9PRB5:H0Y897:H0YCG4:H0YCP4:H0YDN0:H0YDW0:H0YEA0:H0YEL2:H0YF18:H0YF57:H7C4H3:H7C4N5:H7C4S3:H7C4T1:H7C4X4:H7C524:H7C556:H7C5S3:Q5JPC9:Q7Z7G0</td><td>NP_056244.2:XP_005247340.1               </td><td>Mouse:Abi3bp|</td><td>NA</td></tr>\n",
       "\t<tr><td>ADIPOQ</td><td>Core matrisome</td><td>ECM Glycoproteins</td><td>adiponectin, C1Q and collagen domain containing </td><td>ACDC|ACRP30|ADIPQTL1|ADPN|APM-1|APM1|GBP28|adipone</td><td>13633</td><td>13633</td><td>Q15848                                                                                                                                                          </td><td>NP_001171271.1:NP_004788.1               </td><td>Mouse:Adipoq|</td><td>NA</td></tr>\n",
       "\t<tr><td>AEBP1 </td><td>Core matrisome</td><td>ECM Glycoproteins</td><td>AE binding protein 1                            </td><td>ACLP; FLJ33612                                    </td><td>  303</td><td>  303</td><td>C9JLQ8:H7C0W8:H7C1J5:H7C391:H7C3D7:H7C4B5:Q8IUX7                                                                                                                </td><td>NP_001120.3                              </td><td>Mouse:Aebp1| </td><td>NA</td></tr>\n",
       "\t<tr><td>AGRN  </td><td>Core matrisome</td><td>ECM Glycoproteins</td><td>agrin                                           </td><td>FLJ45064                                          </td><td>  329</td><td>  329</td><td>H0Y5U1:O00468                                                                                                                                                   </td><td>NP_940978.2:XP_005244806.1:XP_006710696.1</td><td>Mouse:Agrn|  </td><td>NA</td></tr>\n",
       "\t<tr><td>AMBN  </td><td>Core matrisome</td><td>ECM Glycoproteins</td><td>ameloblastin (enamel matrix protein)            </td><td>-                                                 </td><td>  452</td><td>  452</td><td>Q9NP70                                                                                                                                                          </td><td>NP_057603.1                              </td><td>Mouse:Ambn|  </td><td>NA</td></tr>\n",
       "\t<tr><td>AMELX </td><td>Core matrisome</td><td>ECM Glycoproteins</td><td>amelogenin (amelogenesis imperfecta 1, X-linked)</td><td>AIH1|ALGN|AMG|AMGL|AMGX                           </td><td>  461</td><td>  461</td><td>Q99217                                                                                                                                                          </td><td>NP_001133.1:NP_872621.1:NP_872622.1      </td><td>Mouse:Amelx| </td><td>NA</td></tr>\n",
       "</tbody>\n",
       "</table>\n"
      ],
      "text/latex": [
       "A tibble: 6 × 11\n",
       "\\begin{tabular}{lllllllllll}\n",
       " gene\\_symbol & division & category & gene\\_name & synonyms & hgnc\\_ids & hgnc\\_ids\\_links & uniprot\\_ids & refseq\\_ids & orthology & notes\\\\\n",
       " <chr> & <chr> & <chr> & <chr> & <chr> & <dbl> & <dbl> & <chr> & <chr> & <chr> & <chr>\\\\\n",
       "\\hline\n",
       "\t ABI3BP & Core matrisome & ECM Glycoproteins & ABI family, member 3 (NESH) binding protein      & FLJ41743\\textbar{}FLJ41754\\textbar{}NESHBP\\textbar{}TARSH                     & 17265 & 17265 & B4DSV9:D3YTG3:E9PPR9:E9PRB5:H0Y897:H0YCG4:H0YCP4:H0YDN0:H0YDW0:H0YEA0:H0YEL2:H0YF18:H0YF57:H7C4H3:H7C4N5:H7C4S3:H7C4T1:H7C4X4:H7C524:H7C556:H7C5S3:Q5JPC9:Q7Z7G0 & NP\\_056244.2:XP\\_005247340.1                & Mouse:Abi3bp\\textbar{} & NA\\\\\n",
       "\t ADIPOQ & Core matrisome & ECM Glycoproteins & adiponectin, C1Q and collagen domain containing  & ACDC\\textbar{}ACRP30\\textbar{}ADIPQTL1\\textbar{}ADPN\\textbar{}APM-1\\textbar{}APM1\\textbar{}GBP28\\textbar{}adipone & 13633 & 13633 & Q15848                                                                                                                                                           & NP\\_001171271.1:NP\\_004788.1                & Mouse:Adipoq\\textbar{} & NA\\\\\n",
       "\t AEBP1  & Core matrisome & ECM Glycoproteins & AE binding protein 1                             & ACLP; FLJ33612                                     &   303 &   303 & C9JLQ8:H7C0W8:H7C1J5:H7C391:H7C3D7:H7C4B5:Q8IUX7                                                                                                                 & NP\\_001120.3                               & Mouse:Aebp1\\textbar{}  & NA\\\\\n",
       "\t AGRN   & Core matrisome & ECM Glycoproteins & agrin                                            & FLJ45064                                           &   329 &   329 & H0Y5U1:O00468                                                                                                                                                    & NP\\_940978.2:XP\\_005244806.1:XP\\_006710696.1 & Mouse:Agrn\\textbar{}   & NA\\\\\n",
       "\t AMBN   & Core matrisome & ECM Glycoproteins & ameloblastin (enamel matrix protein)             & -                                                  &   452 &   452 & Q9NP70                                                                                                                                                           & NP\\_057603.1                               & Mouse:Ambn\\textbar{}   & NA\\\\\n",
       "\t AMELX  & Core matrisome & ECM Glycoproteins & amelogenin (amelogenesis imperfecta 1, X-linked) & AIH1\\textbar{}ALGN\\textbar{}AMG\\textbar{}AMGL\\textbar{}AMGX                            &   461 &   461 & Q99217                                                                                                                                                           & NP\\_001133.1:NP\\_872621.1:NP\\_872622.1       & Mouse:Amelx\\textbar{}  & NA\\\\\n",
       "\\end{tabular}\n"
      ],
      "text/markdown": [
       "\n",
       "A tibble: 6 × 11\n",
       "\n",
       "| gene_symbol &lt;chr&gt; | division &lt;chr&gt; | category &lt;chr&gt; | gene_name &lt;chr&gt; | synonyms &lt;chr&gt; | hgnc_ids &lt;dbl&gt; | hgnc_ids_links &lt;dbl&gt; | uniprot_ids &lt;chr&gt; | refseq_ids &lt;chr&gt; | orthology &lt;chr&gt; | notes &lt;chr&gt; |\n",
       "|---|---|---|---|---|---|---|---|---|---|---|\n",
       "| ABI3BP | Core matrisome | ECM Glycoproteins | ABI family, member 3 (NESH) binding protein      | FLJ41743|FLJ41754|NESHBP|TARSH                     | 17265 | 17265 | B4DSV9:D3YTG3:E9PPR9:E9PRB5:H0Y897:H0YCG4:H0YCP4:H0YDN0:H0YDW0:H0YEA0:H0YEL2:H0YF18:H0YF57:H7C4H3:H7C4N5:H7C4S3:H7C4T1:H7C4X4:H7C524:H7C556:H7C5S3:Q5JPC9:Q7Z7G0 | NP_056244.2:XP_005247340.1                | Mouse:Abi3bp| | NA |\n",
       "| ADIPOQ | Core matrisome | ECM Glycoproteins | adiponectin, C1Q and collagen domain containing  | ACDC|ACRP30|ADIPQTL1|ADPN|APM-1|APM1|GBP28|adipone | 13633 | 13633 | Q15848                                                                                                                                                           | NP_001171271.1:NP_004788.1                | Mouse:Adipoq| | NA |\n",
       "| AEBP1  | Core matrisome | ECM Glycoproteins | AE binding protein 1                             | ACLP; FLJ33612                                     |   303 |   303 | C9JLQ8:H7C0W8:H7C1J5:H7C391:H7C3D7:H7C4B5:Q8IUX7                                                                                                                 | NP_001120.3                               | Mouse:Aebp1|  | NA |\n",
       "| AGRN   | Core matrisome | ECM Glycoproteins | agrin                                            | FLJ45064                                           |   329 |   329 | H0Y5U1:O00468                                                                                                                                                    | NP_940978.2:XP_005244806.1:XP_006710696.1 | Mouse:Agrn|   | NA |\n",
       "| AMBN   | Core matrisome | ECM Glycoproteins | ameloblastin (enamel matrix protein)             | -                                                  |   452 |   452 | Q9NP70                                                                                                                                                           | NP_057603.1                               | Mouse:Ambn|   | NA |\n",
       "| AMELX  | Core matrisome | ECM Glycoproteins | amelogenin (amelogenesis imperfecta 1, X-linked) | AIH1|ALGN|AMG|AMGL|AMGX                            |   461 |   461 | Q99217                                                                                                                                                           | NP_001133.1:NP_872621.1:NP_872622.1       | Mouse:Amelx|  | NA |\n",
       "\n"
      ],
      "text/plain": [
       "  gene_symbol division       category         \n",
       "1 ABI3BP      Core matrisome ECM Glycoproteins\n",
       "2 ADIPOQ      Core matrisome ECM Glycoproteins\n",
       "3 AEBP1       Core matrisome ECM Glycoproteins\n",
       "4 AGRN        Core matrisome ECM Glycoproteins\n",
       "5 AMBN        Core matrisome ECM Glycoproteins\n",
       "6 AMELX       Core matrisome ECM Glycoproteins\n",
       "  gene_name                                       \n",
       "1 ABI family, member 3 (NESH) binding protein     \n",
       "2 adiponectin, C1Q and collagen domain containing \n",
       "3 AE binding protein 1                            \n",
       "4 agrin                                           \n",
       "5 ameloblastin (enamel matrix protein)            \n",
       "6 amelogenin (amelogenesis imperfecta 1, X-linked)\n",
       "  synonyms                                           hgnc_ids hgnc_ids_links\n",
       "1 FLJ41743|FLJ41754|NESHBP|TARSH                     17265    17265         \n",
       "2 ACDC|ACRP30|ADIPQTL1|ADPN|APM-1|APM1|GBP28|adipone 13633    13633         \n",
       "3 ACLP; FLJ33612                                       303      303         \n",
       "4 FLJ45064                                             329      329         \n",
       "5 -                                                    452      452         \n",
       "6 AIH1|ALGN|AMG|AMGL|AMGX                              461      461         \n",
       "  uniprot_ids                                                                                                                                                     \n",
       "1 B4DSV9:D3YTG3:E9PPR9:E9PRB5:H0Y897:H0YCG4:H0YCP4:H0YDN0:H0YDW0:H0YEA0:H0YEL2:H0YF18:H0YF57:H7C4H3:H7C4N5:H7C4S3:H7C4T1:H7C4X4:H7C524:H7C556:H7C5S3:Q5JPC9:Q7Z7G0\n",
       "2 Q15848                                                                                                                                                          \n",
       "3 C9JLQ8:H7C0W8:H7C1J5:H7C391:H7C3D7:H7C4B5:Q8IUX7                                                                                                                \n",
       "4 H0Y5U1:O00468                                                                                                                                                   \n",
       "5 Q9NP70                                                                                                                                                          \n",
       "6 Q99217                                                                                                                                                          \n",
       "  refseq_ids                                orthology     notes\n",
       "1 NP_056244.2:XP_005247340.1                Mouse:Abi3bp| NA   \n",
       "2 NP_001171271.1:NP_004788.1                Mouse:Adipoq| NA   \n",
       "3 NP_001120.3                               Mouse:Aebp1|  NA   \n",
       "4 NP_940978.2:XP_005244806.1:XP_006710696.1 Mouse:Agrn|   NA   \n",
       "5 NP_057603.1                               Mouse:Ambn|   NA   \n",
       "6 NP_001133.1:NP_872621.1:NP_872622.1       Mouse:Amelx|  NA   "
      ]
     },
     "metadata": {},
     "output_type": "display_data"
    },
    {
     "data": {
      "text/html": [
       "1027"
      ],
      "text/latex": [
       "1027"
      ],
      "text/markdown": [
       "1027"
      ],
      "text/plain": [
       "[1] 1027"
      ]
     },
     "metadata": {},
     "output_type": "display_data"
    }
   ],
   "source": [
    "matrisome_df <- read_tsv(matrisome_list, quote = \"\")\n",
    "colnames(matrisome_df) <- map(sub(\" \", \"_\", colnames(matrisome_df)), tolower)\n",
    "matrisome_df <- select(matrisome_df, gene_symbol, everything()) %>%\n",
    "    dplyr::filter(division != \"Retired\")    # Ignore \"Retired\" matrisome genes\n",
    "head(matrisome_df)\n",
    "nrow(matrisome_df)"
   ]
  },
  {
   "cell_type": "markdown",
   "metadata": {},
   "source": [
    "### Left Join significant DEGs with matrisome list\n",
    "- Keep all significant DEGs\n",
    "- Fill matrisome columns with data from matching matrisome genes (fill with NA if no match)"
   ]
  },
  {
   "cell_type": "code",
   "execution_count": 8,
   "metadata": {},
   "outputs": [],
   "source": [
    "sig_dge_matrisome_left_join_df <- left_join(sig_dge_res_informed_df, matrisome_df, by = c(\"geneID\" = \"gene_symbol\"), keep = TRUE) %>%\n",
    "    mutate(in_matrisome = !is.na(gene_symbol)) %>%    # If gene_symbol is NA, this gene isn't in the matrisome list\n",
    "    select(-gene_symbol) %>%    # We now have in_matrisome, so this column isn't needed anymore\n",
    "    select(geneID:padj, in_matrisome, everything())"
   ]
  },
  {
   "cell_type": "code",
   "execution_count": 9,
   "metadata": {},
   "outputs": [
    {
     "data": {
      "text/html": [
       "TRUE"
      ],
      "text/latex": [
       "TRUE"
      ],
      "text/markdown": [
       "TRUE"
      ],
      "text/plain": [
       "[1] TRUE"
      ]
     },
     "metadata": {},
     "output_type": "display_data"
    },
    {
     "data": {
      "text/html": [
       "<table>\n",
       "<caption>A tibble: 6 × 18</caption>\n",
       "<thead>\n",
       "\t<tr><th scope=col>geneID</th><th scope=col>baseMean</th><th scope=col>log2FoldChange</th><th scope=col>lfcSE</th><th scope=col>stat</th><th scope=col>pvalue</th><th scope=col>padj</th><th scope=col>in_matrisome</th><th scope=col>division</th><th scope=col>category</th><th scope=col>gene_name</th><th scope=col>synonyms</th><th scope=col>hgnc_ids</th><th scope=col>hgnc_ids_links</th><th scope=col>uniprot_ids</th><th scope=col>refseq_ids</th><th scope=col>orthology</th><th scope=col>notes</th></tr>\n",
       "\t<tr><th scope=col>&lt;chr&gt;</th><th scope=col>&lt;dbl&gt;</th><th scope=col>&lt;dbl&gt;</th><th scope=col>&lt;dbl&gt;</th><th scope=col>&lt;dbl&gt;</th><th scope=col>&lt;dbl&gt;</th><th scope=col>&lt;dbl&gt;</th><th scope=col>&lt;lgl&gt;</th><th scope=col>&lt;chr&gt;</th><th scope=col>&lt;chr&gt;</th><th scope=col>&lt;chr&gt;</th><th scope=col>&lt;chr&gt;</th><th scope=col>&lt;dbl&gt;</th><th scope=col>&lt;dbl&gt;</th><th scope=col>&lt;chr&gt;</th><th scope=col>&lt;chr&gt;</th><th scope=col>&lt;chr&gt;</th><th scope=col>&lt;chr&gt;</th></tr>\n",
       "</thead>\n",
       "<tbody>\n",
       "\t<tr><td>RADIL  </td><td> 104.931376</td><td>-3.023204</td><td>1.1379214</td><td>-2.656777</td><td>7.889156e-03</td><td>3.747630e-02</td><td>FALSE</td><td>NA</td><td>NA</td><td>NA</td><td>NA</td><td>NA</td><td>NA</td><td>NA</td><td>NA</td><td>NA</td><td>NA</td></tr>\n",
       "\t<tr><td>AP1M2  </td><td>3874.620691</td><td> 6.494125</td><td>0.6262721</td><td>10.369495</td><td>3.413226e-25</td><td>6.901612e-23</td><td>FALSE</td><td>NA</td><td>NA</td><td>NA</td><td>NA</td><td>NA</td><td>NA</td><td>NA</td><td>NA</td><td>NA</td><td>NA</td></tr>\n",
       "\t<tr><td>KLF1   </td><td>   6.547290</td><td> 4.035969</td><td>1.5879516</td><td> 2.541619</td><td>1.103403e-02</td><td>4.838536e-02</td><td>FALSE</td><td>NA</td><td>NA</td><td>NA</td><td>NA</td><td>NA</td><td>NA</td><td>NA</td><td>NA</td><td>NA</td><td>NA</td></tr>\n",
       "\t<tr><td>USHBP1 </td><td>  83.240457</td><td>-4.113287</td><td>0.7125654</td><td>-5.772504</td><td>7.810209e-09</td><td>2.489566e-07</td><td>FALSE</td><td>NA</td><td>NA</td><td>NA</td><td>NA</td><td>NA</td><td>NA</td><td>NA</td><td>NA</td><td>NA</td><td>NA</td></tr>\n",
       "\t<tr><td>NKPD1  </td><td> 151.738326</td><td> 4.604885</td><td>1.1473048</td><td> 4.013654</td><td>5.978591e-05</td><td>6.941963e-04</td><td>FALSE</td><td>NA</td><td>NA</td><td>NA</td><td>NA</td><td>NA</td><td>NA</td><td>NA</td><td>NA</td><td>NA</td><td>NA</td></tr>\n",
       "\t<tr><td>SLC26A8</td><td>   7.200758</td><td> 5.513994</td><td>1.8815845</td><td> 2.930506</td><td>3.384109e-03</td><td>1.933554e-02</td><td>FALSE</td><td>NA</td><td>NA</td><td>NA</td><td>NA</td><td>NA</td><td>NA</td><td>NA</td><td>NA</td><td>NA</td><td>NA</td></tr>\n",
       "</tbody>\n",
       "</table>\n"
      ],
      "text/latex": [
       "A tibble: 6 × 18\n",
       "\\begin{tabular}{llllllllllllllllll}\n",
       " geneID & baseMean & log2FoldChange & lfcSE & stat & pvalue & padj & in\\_matrisome & division & category & gene\\_name & synonyms & hgnc\\_ids & hgnc\\_ids\\_links & uniprot\\_ids & refseq\\_ids & orthology & notes\\\\\n",
       " <chr> & <dbl> & <dbl> & <dbl> & <dbl> & <dbl> & <dbl> & <lgl> & <chr> & <chr> & <chr> & <chr> & <dbl> & <dbl> & <chr> & <chr> & <chr> & <chr>\\\\\n",
       "\\hline\n",
       "\t RADIL   &  104.931376 & -3.023204 & 1.1379214 & -2.656777 & 7.889156e-03 & 3.747630e-02 & FALSE & NA & NA & NA & NA & NA & NA & NA & NA & NA & NA\\\\\n",
       "\t AP1M2   & 3874.620691 &  6.494125 & 0.6262721 & 10.369495 & 3.413226e-25 & 6.901612e-23 & FALSE & NA & NA & NA & NA & NA & NA & NA & NA & NA & NA\\\\\n",
       "\t KLF1    &    6.547290 &  4.035969 & 1.5879516 &  2.541619 & 1.103403e-02 & 4.838536e-02 & FALSE & NA & NA & NA & NA & NA & NA & NA & NA & NA & NA\\\\\n",
       "\t USHBP1  &   83.240457 & -4.113287 & 0.7125654 & -5.772504 & 7.810209e-09 & 2.489566e-07 & FALSE & NA & NA & NA & NA & NA & NA & NA & NA & NA & NA\\\\\n",
       "\t NKPD1   &  151.738326 &  4.604885 & 1.1473048 &  4.013654 & 5.978591e-05 & 6.941963e-04 & FALSE & NA & NA & NA & NA & NA & NA & NA & NA & NA & NA\\\\\n",
       "\t SLC26A8 &    7.200758 &  5.513994 & 1.8815845 &  2.930506 & 3.384109e-03 & 1.933554e-02 & FALSE & NA & NA & NA & NA & NA & NA & NA & NA & NA & NA\\\\\n",
       "\\end{tabular}\n"
      ],
      "text/markdown": [
       "\n",
       "A tibble: 6 × 18\n",
       "\n",
       "| geneID &lt;chr&gt; | baseMean &lt;dbl&gt; | log2FoldChange &lt;dbl&gt; | lfcSE &lt;dbl&gt; | stat &lt;dbl&gt; | pvalue &lt;dbl&gt; | padj &lt;dbl&gt; | in_matrisome &lt;lgl&gt; | division &lt;chr&gt; | category &lt;chr&gt; | gene_name &lt;chr&gt; | synonyms &lt;chr&gt; | hgnc_ids &lt;dbl&gt; | hgnc_ids_links &lt;dbl&gt; | uniprot_ids &lt;chr&gt; | refseq_ids &lt;chr&gt; | orthology &lt;chr&gt; | notes &lt;chr&gt; |\n",
       "|---|---|---|---|---|---|---|---|---|---|---|---|---|---|---|---|---|---|\n",
       "| RADIL   |  104.931376 | -3.023204 | 1.1379214 | -2.656777 | 7.889156e-03 | 3.747630e-02 | FALSE | NA | NA | NA | NA | NA | NA | NA | NA | NA | NA |\n",
       "| AP1M2   | 3874.620691 |  6.494125 | 0.6262721 | 10.369495 | 3.413226e-25 | 6.901612e-23 | FALSE | NA | NA | NA | NA | NA | NA | NA | NA | NA | NA |\n",
       "| KLF1    |    6.547290 |  4.035969 | 1.5879516 |  2.541619 | 1.103403e-02 | 4.838536e-02 | FALSE | NA | NA | NA | NA | NA | NA | NA | NA | NA | NA |\n",
       "| USHBP1  |   83.240457 | -4.113287 | 0.7125654 | -5.772504 | 7.810209e-09 | 2.489566e-07 | FALSE | NA | NA | NA | NA | NA | NA | NA | NA | NA | NA |\n",
       "| NKPD1   |  151.738326 |  4.604885 | 1.1473048 |  4.013654 | 5.978591e-05 | 6.941963e-04 | FALSE | NA | NA | NA | NA | NA | NA | NA | NA | NA | NA |\n",
       "| SLC26A8 |    7.200758 |  5.513994 | 1.8815845 |  2.930506 | 3.384109e-03 | 1.933554e-02 | FALSE | NA | NA | NA | NA | NA | NA | NA | NA | NA | NA |\n",
       "\n"
      ],
      "text/plain": [
       "  geneID  baseMean    log2FoldChange lfcSE     stat      pvalue      \n",
       "1 RADIL    104.931376 -3.023204      1.1379214 -2.656777 7.889156e-03\n",
       "2 AP1M2   3874.620691  6.494125      0.6262721 10.369495 3.413226e-25\n",
       "3 KLF1       6.547290  4.035969      1.5879516  2.541619 1.103403e-02\n",
       "4 USHBP1    83.240457 -4.113287      0.7125654 -5.772504 7.810209e-09\n",
       "5 NKPD1    151.738326  4.604885      1.1473048  4.013654 5.978591e-05\n",
       "6 SLC26A8    7.200758  5.513994      1.8815845  2.930506 3.384109e-03\n",
       "  padj         in_matrisome division category gene_name synonyms hgnc_ids\n",
       "1 3.747630e-02 FALSE        NA       NA       NA        NA       NA      \n",
       "2 6.901612e-23 FALSE        NA       NA       NA        NA       NA      \n",
       "3 4.838536e-02 FALSE        NA       NA       NA        NA       NA      \n",
       "4 2.489566e-07 FALSE        NA       NA       NA        NA       NA      \n",
       "5 6.941963e-04 FALSE        NA       NA       NA        NA       NA      \n",
       "6 1.933554e-02 FALSE        NA       NA       NA        NA       NA      \n",
       "  hgnc_ids_links uniprot_ids refseq_ids orthology notes\n",
       "1 NA             NA          NA         NA        NA   \n",
       "2 NA             NA          NA         NA        NA   \n",
       "3 NA             NA          NA         NA        NA   \n",
       "4 NA             NA          NA         NA        NA   \n",
       "5 NA             NA          NA         NA        NA   \n",
       "6 NA             NA          NA         NA        NA   "
      ]
     },
     "metadata": {},
     "output_type": "display_data"
    }
   ],
   "source": [
    "nrow(sig_dge_res_informed_df) == nrow(sig_dge_matrisome_left_join_df)    # This must be true since we want to retain all DEGs\n",
    "head(sig_dge_matrisome_left_join_df)"
   ]
  },
  {
   "cell_type": "markdown",
   "metadata": {},
   "source": [
    "### Counts of significant DEGs in matrisome list\n",
    "- Get significant DEG counts for each category of matrisome list"
   ]
  },
  {
   "cell_type": "code",
   "execution_count": 10,
   "metadata": {},
   "outputs": [
    {
     "data": {
      "text/html": [
       "<table>\n",
       "<caption>A tibble: 6 × 2</caption>\n",
       "<thead>\n",
       "\t<tr><th scope=col>category</th><th scope=col>n_sig_DEGs</th></tr>\n",
       "\t<tr><th scope=col>&lt;chr&gt;</th><th scope=col>&lt;int&gt;</th></tr>\n",
       "</thead>\n",
       "<tbody>\n",
       "\t<tr><td>Collagens              </td><td>  8</td></tr>\n",
       "\t<tr><td>ECM Glycoproteins      </td><td> 56</td></tr>\n",
       "\t<tr><td>ECM Regulators         </td><td> 74</td></tr>\n",
       "\t<tr><td>ECM-affiliated Proteins</td><td> 54</td></tr>\n",
       "\t<tr><td>Proteoglycans          </td><td> 10</td></tr>\n",
       "\t<tr><td>Secreted Factors       </td><td>110</td></tr>\n",
       "</tbody>\n",
       "</table>\n"
      ],
      "text/latex": [
       "A tibble: 6 × 2\n",
       "\\begin{tabular}{ll}\n",
       " category & n\\_sig\\_DEGs\\\\\n",
       " <chr> & <int>\\\\\n",
       "\\hline\n",
       "\t Collagens               &   8\\\\\n",
       "\t ECM Glycoproteins       &  56\\\\\n",
       "\t ECM Regulators          &  74\\\\\n",
       "\t ECM-affiliated Proteins &  54\\\\\n",
       "\t Proteoglycans           &  10\\\\\n",
       "\t Secreted Factors        & 110\\\\\n",
       "\\end{tabular}\n"
      ],
      "text/markdown": [
       "\n",
       "A tibble: 6 × 2\n",
       "\n",
       "| category &lt;chr&gt; | n_sig_DEGs &lt;int&gt; |\n",
       "|---|---|\n",
       "| Collagens               |   8 |\n",
       "| ECM Glycoproteins       |  56 |\n",
       "| ECM Regulators          |  74 |\n",
       "| ECM-affiliated Proteins |  54 |\n",
       "| Proteoglycans           |  10 |\n",
       "| Secreted Factors        | 110 |\n",
       "\n"
      ],
      "text/plain": [
       "  category                n_sig_DEGs\n",
       "1 Collagens                 8       \n",
       "2 ECM Glycoproteins        56       \n",
       "3 ECM Regulators           74       \n",
       "4 ECM-affiliated Proteins  54       \n",
       "5 Proteoglycans            10       \n",
       "6 Secreted Factors        110       "
      ]
     },
     "metadata": {},
     "output_type": "display_data"
    },
    {
     "data": {
      "text/html": [
       "'Total matrisome genes which are significant DEGs: 312'"
      ],
      "text/latex": [
       "'Total matrisome genes which are significant DEGs: 312'"
      ],
      "text/markdown": [
       "'Total matrisome genes which are significant DEGs: 312'"
      ],
      "text/plain": [
       "[1] \"Total matrisome genes which are significant DEGs: 312\""
      ]
     },
     "metadata": {},
     "output_type": "display_data"
    }
   ],
   "source": [
    "matrisome_sig_DEG_category_counts_df <- sig_dge_matrisome_left_join_df %>%\n",
    "    dplyr::count(category) %>%\n",
    "    dplyr::rename(n_sig_DEGs = n) %>%\n",
    "    filter(!is.na(category))\n",
    "matrisome_sig_DEG_category_counts_df\n",
    "paste0(\"Total matrisome genes which are significant DEGs: \", sum(matrisome_sig_DEG_category_counts_df$n_sig_DEGs))"
   ]
  },
  {
   "cell_type": "markdown",
   "metadata": {},
   "source": [
    "### Right join DESeq result data with matrisome list\n",
    "- Want all matrisome genes listed\n",
    "- NA in DESeq columns if the matrisome gene was not found in the original unified (TCGA + GTEx) dataset"
   ]
  },
  {
   "cell_type": "code",
   "execution_count": 11,
   "metadata": {},
   "outputs": [
    {
     "data": {
      "text/html": [
       "TRUE"
      ],
      "text/latex": [
       "TRUE"
      ],
      "text/markdown": [
       "TRUE"
      ],
      "text/plain": [
       "[1] TRUE"
      ]
     },
     "metadata": {},
     "output_type": "display_data"
    },
    {
     "data": {
      "text/html": [
       "<table>\n",
       "<caption>A tibble: 6 × 18</caption>\n",
       "<thead>\n",
       "\t<tr><th scope=col>geneID</th><th scope=col>baseMean</th><th scope=col>log2FoldChange</th><th scope=col>lfcSE</th><th scope=col>stat</th><th scope=col>pvalue</th><th scope=col>padj</th><th scope=col>in_unified_dataset</th><th scope=col>division</th><th scope=col>category</th><th scope=col>gene_name</th><th scope=col>synonyms</th><th scope=col>hgnc_ids</th><th scope=col>hgnc_ids_links</th><th scope=col>uniprot_ids</th><th scope=col>refseq_ids</th><th scope=col>orthology</th><th scope=col>notes</th></tr>\n",
       "\t<tr><th scope=col>&lt;chr&gt;</th><th scope=col>&lt;dbl&gt;</th><th scope=col>&lt;dbl&gt;</th><th scope=col>&lt;dbl&gt;</th><th scope=col>&lt;dbl&gt;</th><th scope=col>&lt;dbl&gt;</th><th scope=col>&lt;dbl&gt;</th><th scope=col>&lt;lgl&gt;</th><th scope=col>&lt;chr&gt;</th><th scope=col>&lt;chr&gt;</th><th scope=col>&lt;chr&gt;</th><th scope=col>&lt;chr&gt;</th><th scope=col>&lt;dbl&gt;</th><th scope=col>&lt;dbl&gt;</th><th scope=col>&lt;chr&gt;</th><th scope=col>&lt;chr&gt;</th><th scope=col>&lt;chr&gt;</th><th scope=col>&lt;chr&gt;</th></tr>\n",
       "</thead>\n",
       "<tbody>\n",
       "\t<tr><td>PGF    </td><td> 1439.047628</td><td> 1.7961389</td><td>1.0761235</td><td> 1.6690825</td><td>0.0951010364</td><td>0.239493338</td><td>TRUE</td><td>Matrisome-associated</td><td>Secreted Factors       </td><td>placental growth factor                        </td><td>D12S1900|PGFL|PLGF|PlGF-2|SHGC-10760</td><td> 8893</td><td> 8893</td><td>G3XA84:P49763                            </td><td>NP_001193941.1:NP_002623.2:XP_005267818.1                                             </td><td>Mouse:Pgf|    </td><td>NA</td></tr>\n",
       "\t<tr><td>TIMP4  </td><td>   49.579600</td><td>-2.5000604</td><td>1.5535274</td><td>-1.6092799</td><td>0.1075551535</td><td>0.261608635</td><td>TRUE</td><td>Matrisome-associated</td><td>ECM Regulators         </td><td>TIMP metallopeptidase inhibitor 4              </td><td>-                                   </td><td>11823</td><td>11823</td><td>Q99727                                   </td><td>NP_003247.1                                                                           </td><td>Mouse:Timp4|  </td><td>NA</td></tr>\n",
       "\t<tr><td>C1QTNF6</td><td> 1663.611171</td><td> 0.8317585</td><td>0.8347062</td><td> 0.9964687</td><td>0.3190224832</td><td>0.544757491</td><td>TRUE</td><td>Matrisome-associated</td><td>ECM-affiliated Proteins</td><td>C1q and tumor necrosis factor related protein 6</td><td>CTRP6|ZACRP6                        </td><td>14343</td><td>14343</td><td>F8WC87:Q9BXI9                            </td><td>NP_114116.3:NP_872292.1:XP_005261382.1:XP_006724188.1                                 </td><td>Mouse:C1qtnf6|</td><td>NA</td></tr>\n",
       "\t<tr><td>TNC    </td><td>14887.584519</td><td> 0.1505524</td><td>1.1706007</td><td> 0.1286113</td><td>0.8976652543</td><td>0.988316476</td><td>TRUE</td><td>Core matrisome      </td><td>ECM Glycoproteins      </td><td>tenascin C                                     </td><td>150-225|GMEM|GP|HXB|JI|MGC167029|TN </td><td> 5318</td><td> 5318</td><td>E9PC84:F5H5D6:F5H7V9:H0YGZ3:J3QSU6:P24821</td><td>NP_002151.2:XP_005252029.1:XP_005252031.1:XP_005252032.1:XP_006717161.1:XP_006717163.1</td><td>Mouse:Tnc|    </td><td>NA</td></tr>\n",
       "\t<tr><td>PRL    </td><td>    4.336559</td><td>-4.5906659</td><td>2.3620699</td><td>-1.9434928</td><td>0.0519566391</td><td>0.155745433</td><td>TRUE</td><td>Matrisome-associated</td><td>Secreted Factors       </td><td>prolactin                                      </td><td>-                                   </td><td> 9445</td><td> 9445</td><td>P01236                                   </td><td>NP_000939.1:NP_001157030.1                                                            </td><td>Mouse:Prl|    </td><td>NA</td></tr>\n",
       "\t<tr><td>OGN    </td><td>  586.195062</td><td>-7.1447904</td><td>1.8936657</td><td>-3.7729946</td><td>0.0001612998</td><td>0.001601637</td><td>TRUE</td><td>Core matrisome      </td><td>Proteoglycans          </td><td>osteoglycin                                    </td><td>DKFZp586P2421|OG|OIF|SLRR3A         </td><td> 8126</td><td> 8126</td><td>P20774:Q5TBF5                            </td><td>NP_054776.1:NP_148935.1                                                               </td><td>Mouse:Ogn|    </td><td>NA</td></tr>\n",
       "</tbody>\n",
       "</table>\n"
      ],
      "text/latex": [
       "A tibble: 6 × 18\n",
       "\\begin{tabular}{llllllllllllllllll}\n",
       " geneID & baseMean & log2FoldChange & lfcSE & stat & pvalue & padj & in\\_unified\\_dataset & division & category & gene\\_name & synonyms & hgnc\\_ids & hgnc\\_ids\\_links & uniprot\\_ids & refseq\\_ids & orthology & notes\\\\\n",
       " <chr> & <dbl> & <dbl> & <dbl> & <dbl> & <dbl> & <dbl> & <lgl> & <chr> & <chr> & <chr> & <chr> & <dbl> & <dbl> & <chr> & <chr> & <chr> & <chr>\\\\\n",
       "\\hline\n",
       "\t PGF     &  1439.047628 &  1.7961389 & 1.0761235 &  1.6690825 & 0.0951010364 & 0.239493338 & TRUE & Matrisome-associated & Secreted Factors        & placental growth factor                         & D12S1900\\textbar{}PGFL\\textbar{}PLGF\\textbar{}PlGF-2\\textbar{}SHGC-10760 &  8893 &  8893 & G3XA84:P49763                             & NP\\_001193941.1:NP\\_002623.2:XP\\_005267818.1                                              & Mouse:Pgf\\textbar{}     & NA\\\\\n",
       "\t TIMP4   &    49.579600 & -2.5000604 & 1.5535274 & -1.6092799 & 0.1075551535 & 0.261608635 & TRUE & Matrisome-associated & ECM Regulators          & TIMP metallopeptidase inhibitor 4               & -                                    & 11823 & 11823 & Q99727                                    & NP\\_003247.1                                                                            & Mouse:Timp4\\textbar{}   & NA\\\\\n",
       "\t C1QTNF6 &  1663.611171 &  0.8317585 & 0.8347062 &  0.9964687 & 0.3190224832 & 0.544757491 & TRUE & Matrisome-associated & ECM-affiliated Proteins & C1q and tumor necrosis factor related protein 6 & CTRP6\\textbar{}ZACRP6                         & 14343 & 14343 & F8WC87:Q9BXI9                             & NP\\_114116.3:NP\\_872292.1:XP\\_005261382.1:XP\\_006724188.1                                  & Mouse:C1qtnf6\\textbar{} & NA\\\\\n",
       "\t TNC     & 14887.584519 &  0.1505524 & 1.1706007 &  0.1286113 & 0.8976652543 & 0.988316476 & TRUE & Core matrisome       & ECM Glycoproteins       & tenascin C                                      & 150-225\\textbar{}GMEM\\textbar{}GP\\textbar{}HXB\\textbar{}JI\\textbar{}MGC167029\\textbar{}TN  &  5318 &  5318 & E9PC84:F5H5D6:F5H7V9:H0YGZ3:J3QSU6:P24821 & NP\\_002151.2:XP\\_005252029.1:XP\\_005252031.1:XP\\_005252032.1:XP\\_006717161.1:XP\\_006717163.1 & Mouse:Tnc\\textbar{}     & NA\\\\\n",
       "\t PRL     &     4.336559 & -4.5906659 & 2.3620699 & -1.9434928 & 0.0519566391 & 0.155745433 & TRUE & Matrisome-associated & Secreted Factors        & prolactin                                       & -                                    &  9445 &  9445 & P01236                                    & NP\\_000939.1:NP\\_001157030.1                                                             & Mouse:Prl\\textbar{}     & NA\\\\\n",
       "\t OGN     &   586.195062 & -7.1447904 & 1.8936657 & -3.7729946 & 0.0001612998 & 0.001601637 & TRUE & Core matrisome       & Proteoglycans           & osteoglycin                                     & DKFZp586P2421\\textbar{}OG\\textbar{}OIF\\textbar{}SLRR3A          &  8126 &  8126 & P20774:Q5TBF5                             & NP\\_054776.1:NP\\_148935.1                                                                & Mouse:Ogn\\textbar{}     & NA\\\\\n",
       "\\end{tabular}\n"
      ],
      "text/markdown": [
       "\n",
       "A tibble: 6 × 18\n",
       "\n",
       "| geneID &lt;chr&gt; | baseMean &lt;dbl&gt; | log2FoldChange &lt;dbl&gt; | lfcSE &lt;dbl&gt; | stat &lt;dbl&gt; | pvalue &lt;dbl&gt; | padj &lt;dbl&gt; | in_unified_dataset &lt;lgl&gt; | division &lt;chr&gt; | category &lt;chr&gt; | gene_name &lt;chr&gt; | synonyms &lt;chr&gt; | hgnc_ids &lt;dbl&gt; | hgnc_ids_links &lt;dbl&gt; | uniprot_ids &lt;chr&gt; | refseq_ids &lt;chr&gt; | orthology &lt;chr&gt; | notes &lt;chr&gt; |\n",
       "|---|---|---|---|---|---|---|---|---|---|---|---|---|---|---|---|---|---|\n",
       "| PGF     |  1439.047628 |  1.7961389 | 1.0761235 |  1.6690825 | 0.0951010364 | 0.239493338 | TRUE | Matrisome-associated | Secreted Factors        | placental growth factor                         | D12S1900|PGFL|PLGF|PlGF-2|SHGC-10760 |  8893 |  8893 | G3XA84:P49763                             | NP_001193941.1:NP_002623.2:XP_005267818.1                                              | Mouse:Pgf|     | NA |\n",
       "| TIMP4   |    49.579600 | -2.5000604 | 1.5535274 | -1.6092799 | 0.1075551535 | 0.261608635 | TRUE | Matrisome-associated | ECM Regulators          | TIMP metallopeptidase inhibitor 4               | -                                    | 11823 | 11823 | Q99727                                    | NP_003247.1                                                                            | Mouse:Timp4|   | NA |\n",
       "| C1QTNF6 |  1663.611171 |  0.8317585 | 0.8347062 |  0.9964687 | 0.3190224832 | 0.544757491 | TRUE | Matrisome-associated | ECM-affiliated Proteins | C1q and tumor necrosis factor related protein 6 | CTRP6|ZACRP6                         | 14343 | 14343 | F8WC87:Q9BXI9                             | NP_114116.3:NP_872292.1:XP_005261382.1:XP_006724188.1                                  | Mouse:C1qtnf6| | NA |\n",
       "| TNC     | 14887.584519 |  0.1505524 | 1.1706007 |  0.1286113 | 0.8976652543 | 0.988316476 | TRUE | Core matrisome       | ECM Glycoproteins       | tenascin C                                      | 150-225|GMEM|GP|HXB|JI|MGC167029|TN  |  5318 |  5318 | E9PC84:F5H5D6:F5H7V9:H0YGZ3:J3QSU6:P24821 | NP_002151.2:XP_005252029.1:XP_005252031.1:XP_005252032.1:XP_006717161.1:XP_006717163.1 | Mouse:Tnc|     | NA |\n",
       "| PRL     |     4.336559 | -4.5906659 | 2.3620699 | -1.9434928 | 0.0519566391 | 0.155745433 | TRUE | Matrisome-associated | Secreted Factors        | prolactin                                       | -                                    |  9445 |  9445 | P01236                                    | NP_000939.1:NP_001157030.1                                                             | Mouse:Prl|     | NA |\n",
       "| OGN     |   586.195062 | -7.1447904 | 1.8936657 | -3.7729946 | 0.0001612998 | 0.001601637 | TRUE | Core matrisome       | Proteoglycans           | osteoglycin                                     | DKFZp586P2421|OG|OIF|SLRR3A          |  8126 |  8126 | P20774:Q5TBF5                             | NP_054776.1:NP_148935.1                                                                | Mouse:Ogn|     | NA |\n",
       "\n"
      ],
      "text/plain": [
       "  geneID  baseMean     log2FoldChange lfcSE     stat       pvalue      \n",
       "1 PGF      1439.047628  1.7961389     1.0761235  1.6690825 0.0951010364\n",
       "2 TIMP4      49.579600 -2.5000604     1.5535274 -1.6092799 0.1075551535\n",
       "3 C1QTNF6  1663.611171  0.8317585     0.8347062  0.9964687 0.3190224832\n",
       "4 TNC     14887.584519  0.1505524     1.1706007  0.1286113 0.8976652543\n",
       "5 PRL         4.336559 -4.5906659     2.3620699 -1.9434928 0.0519566391\n",
       "6 OGN       586.195062 -7.1447904     1.8936657 -3.7729946 0.0001612998\n",
       "  padj        in_unified_dataset division             category               \n",
       "1 0.239493338 TRUE               Matrisome-associated Secreted Factors       \n",
       "2 0.261608635 TRUE               Matrisome-associated ECM Regulators         \n",
       "3 0.544757491 TRUE               Matrisome-associated ECM-affiliated Proteins\n",
       "4 0.988316476 TRUE               Core matrisome       ECM Glycoproteins      \n",
       "5 0.155745433 TRUE               Matrisome-associated Secreted Factors       \n",
       "6 0.001601637 TRUE               Core matrisome       Proteoglycans          \n",
       "  gene_name                                      \n",
       "1 placental growth factor                        \n",
       "2 TIMP metallopeptidase inhibitor 4              \n",
       "3 C1q and tumor necrosis factor related protein 6\n",
       "4 tenascin C                                     \n",
       "5 prolactin                                      \n",
       "6 osteoglycin                                    \n",
       "  synonyms                             hgnc_ids hgnc_ids_links\n",
       "1 D12S1900|PGFL|PLGF|PlGF-2|SHGC-10760  8893     8893         \n",
       "2 -                                    11823    11823         \n",
       "3 CTRP6|ZACRP6                         14343    14343         \n",
       "4 150-225|GMEM|GP|HXB|JI|MGC167029|TN   5318     5318         \n",
       "5 -                                     9445     9445         \n",
       "6 DKFZp586P2421|OG|OIF|SLRR3A           8126     8126         \n",
       "  uniprot_ids                              \n",
       "1 G3XA84:P49763                            \n",
       "2 Q99727                                   \n",
       "3 F8WC87:Q9BXI9                            \n",
       "4 E9PC84:F5H5D6:F5H7V9:H0YGZ3:J3QSU6:P24821\n",
       "5 P01236                                   \n",
       "6 P20774:Q5TBF5                            \n",
       "  refseq_ids                                                                            \n",
       "1 NP_001193941.1:NP_002623.2:XP_005267818.1                                             \n",
       "2 NP_003247.1                                                                           \n",
       "3 NP_114116.3:NP_872292.1:XP_005261382.1:XP_006724188.1                                 \n",
       "4 NP_002151.2:XP_005252029.1:XP_005252031.1:XP_005252032.1:XP_006717161.1:XP_006717163.1\n",
       "5 NP_000939.1:NP_001157030.1                                                            \n",
       "6 NP_054776.1:NP_148935.1                                                               \n",
       "  orthology      notes\n",
       "1 Mouse:Pgf|     NA   \n",
       "2 Mouse:Timp4|   NA   \n",
       "3 Mouse:C1qtnf6| NA   \n",
       "4 Mouse:Tnc|     NA   \n",
       "5 Mouse:Prl|     NA   \n",
       "6 Mouse:Ogn|     NA   "
      ]
     },
     "metadata": {},
     "output_type": "display_data"
    }
   ],
   "source": [
    "all_dge_matrisome_right_join_df <- right_join(dge_res_informed_df, matrisome_df, by = c(\"geneID\" = \"gene_symbol\"), keep = TRUE) %>%\n",
    "    mutate(in_unified_dataset = !is.na(geneID)) %>%    # If geneID is NA, this gene isn't in the RNA-Seq dataset\n",
    "    select(-geneID) %>%    # We now have in_unified_dataset, so this column isn't needed anymore\n",
    "    select(gene_symbol, baseMean:padj, in_unified_dataset, everything()) %>%\n",
    "    dplyr::rename(geneID = gene_symbol)\n",
    "\n",
    "# Length of joined dataframe should match length of matrisome list\n",
    "nrow(all_dge_matrisome_right_join_df) == nrow(matrisome_df)\n",
    "head(all_dge_matrisome_right_join_df)"
   ]
  },
  {
   "cell_type": "markdown",
   "metadata": {},
   "source": [
    "### Matrisome genes missing from RNA-Seq (TCGA + GTEx) dataset?"
   ]
  },
  {
   "cell_type": "code",
   "execution_count": 12,
   "metadata": {},
   "outputs": [
    {
     "data": {
      "text/html": [
       "'Number of matrisome genes missing from RNA-Seq dataset: 19'"
      ],
      "text/latex": [
       "'Number of matrisome genes missing from RNA-Seq dataset: 19'"
      ],
      "text/markdown": [
       "'Number of matrisome genes missing from RNA-Seq dataset: 19'"
      ],
      "text/plain": [
       "[1] \"Number of matrisome genes missing from RNA-Seq dataset: 19\""
      ]
     },
     "metadata": {},
     "output_type": "display_data"
    },
    {
     "data": {
      "text/html": [
       "<style>\n",
       ".list-inline {list-style: none; margin:0; padding: 0}\n",
       ".list-inline>li {display: inline-block}\n",
       ".list-inline>li:not(:last-child)::after {content: \"\\00b7\"; padding: 0 .5ex}\n",
       "</style>\n",
       "<ol class=list-inline><li>'KCP'</li><li>'SPON1'</li><li>'SSPO'</li><li>'COL26A1'</li><li>'GRIFIN'</li><li>'HSPC159'</li><li>'SEMA3B'</li><li>'LEPREL2'</li><li>'MMP12'</li><li>'PRSS2'</li><li>'SERPINA2'</li><li>'SERPINB11'</li><li>'CXCL8'</li><li>'IL1F5'</li><li>'IL1F6'</li><li>'IL1F7'</li><li>'IL1F8'</li><li>'IL1F9'</li><li>'MST1L'</li></ol>\n"
      ],
      "text/latex": [
       "\\begin{enumerate*}\n",
       "\\item 'KCP'\n",
       "\\item 'SPON1'\n",
       "\\item 'SSPO'\n",
       "\\item 'COL26A1'\n",
       "\\item 'GRIFIN'\n",
       "\\item 'HSPC159'\n",
       "\\item 'SEMA3B'\n",
       "\\item 'LEPREL2'\n",
       "\\item 'MMP12'\n",
       "\\item 'PRSS2'\n",
       "\\item 'SERPINA2'\n",
       "\\item 'SERPINB11'\n",
       "\\item 'CXCL8'\n",
       "\\item 'IL1F5'\n",
       "\\item 'IL1F6'\n",
       "\\item 'IL1F7'\n",
       "\\item 'IL1F8'\n",
       "\\item 'IL1F9'\n",
       "\\item 'MST1L'\n",
       "\\end{enumerate*}\n"
      ],
      "text/markdown": [
       "1. 'KCP'\n",
       "2. 'SPON1'\n",
       "3. 'SSPO'\n",
       "4. 'COL26A1'\n",
       "5. 'GRIFIN'\n",
       "6. 'HSPC159'\n",
       "7. 'SEMA3B'\n",
       "8. 'LEPREL2'\n",
       "9. 'MMP12'\n",
       "10. 'PRSS2'\n",
       "11. 'SERPINA2'\n",
       "12. 'SERPINB11'\n",
       "13. 'CXCL8'\n",
       "14. 'IL1F5'\n",
       "15. 'IL1F6'\n",
       "16. 'IL1F7'\n",
       "17. 'IL1F8'\n",
       "18. 'IL1F9'\n",
       "19. 'MST1L'\n",
       "\n",
       "\n"
      ],
      "text/plain": [
       " [1] \"KCP\"       \"SPON1\"     \"SSPO\"      \"COL26A1\"   \"GRIFIN\"    \"HSPC159\"  \n",
       " [7] \"SEMA3B\"    \"LEPREL2\"   \"MMP12\"     \"PRSS2\"     \"SERPINA2\"  \"SERPINB11\"\n",
       "[13] \"CXCL8\"     \"IL1F5\"     \"IL1F6\"     \"IL1F7\"     \"IL1F8\"     \"IL1F9\"    \n",
       "[19] \"MST1L\"    "
      ]
     },
     "metadata": {},
     "output_type": "display_data"
    }
   ],
   "source": [
    "missing_mask <- all_dge_matrisome_right_join_df$in_unified_dataset == FALSE\n",
    "missing_matrisome_genes <- all_dge_matrisome_right_join_df$geneID[missing_mask]\n",
    "paste0(\"Number of matrisome genes missing from RNA-Seq dataset: \", length(missing_matrisome_genes))\n",
    "missing_matrisome_genes"
   ]
  },
  {
   "cell_type": "markdown",
   "metadata": {},
   "source": [
    "## Save Data\n",
    "- Unfiltered `DESeq` results\n",
    "- Significant DEGs left-joined with matrisome list\n",
    "- Matrisome significant DEG counts (by category)\n",
    "- All unified dataset genes right-joined with matrisome list"
   ]
  },
  {
   "cell_type": "code",
   "execution_count": 13,
   "metadata": {},
   "outputs": [],
   "source": [
    "write_tsv(sig_dge_matrisome_left_join_df, paste0(analysis_dir, \"/\", dsets[dset_idx], \"_stat_sig_DESeq_results_xref_matrisome.tsv\"))\n",
    "write_tsv(matrisome_sig_DEG_category_counts_df, paste0(analysis_dir, \"/\", dsets[dset_idx], \"_matrisome_stat_sig_DEG_category_counts.tsv\"))\n",
    "write_tsv(all_dge_matrisome_right_join_df, paste0(analysis_dir, \"/\", dsets[dset_idx], \"_all_matrisome_xref_unified_data.tsv\"))"
   ]
  },
  {
   "cell_type": "code",
   "execution_count": null,
   "metadata": {},
   "outputs": [],
   "source": []
  }
 ],
 "metadata": {
  "kernelspec": {
   "display_name": "R",
   "language": "R",
   "name": "ir"
  },
  "language_info": {
   "codemirror_mode": "r",
   "file_extension": ".r",
   "mimetype": "text/x-r-source",
   "name": "R",
   "pygments_lexer": "r",
   "version": "3.6.3"
  }
 },
 "nbformat": 4,
 "nbformat_minor": 4
}
