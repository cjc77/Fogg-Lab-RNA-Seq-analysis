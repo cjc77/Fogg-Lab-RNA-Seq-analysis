{
 "cells": [
  {
   "cell_type": "code",
   "execution_count": 1,
   "metadata": {
    "collapsed": true,
    "jupyter": {
     "outputs_hidden": true
    }
   },
   "outputs": [
    {
     "name": "stderr",
     "output_type": "stream",
     "text": [
      "── Attaching packages ─────────────────────────────────────── tidyverse 1.3.0 ──\n",
      "✔ ggplot2 3.3.2     ✔ purrr   0.3.4\n",
      "✔ tibble  3.0.3     ✔ dplyr   1.0.0\n",
      "✔ tidyr   1.1.0     ✔ stringr 1.4.0\n",
      "✔ readr   1.3.1     ✔ forcats 0.5.0\n",
      "── Conflicts ────────────────────────────────────────── tidyverse_conflicts() ──\n",
      "✖ dplyr::filter() masks stats::filter()\n",
      "✖ dplyr::lag()    masks stats::lag()\n",
      "\n",
      "Attaching package: ‘matrixStats’\n",
      "\n",
      "The following object is masked from ‘package:dplyr’:\n",
      "\n",
      "    count\n",
      "\n",
      "Loading required package: S4Vectors\n",
      "Loading required package: stats4\n",
      "Loading required package: BiocGenerics\n",
      "Loading required package: parallel\n",
      "\n",
      "Attaching package: ‘BiocGenerics’\n",
      "\n",
      "The following objects are masked from ‘package:parallel’:\n",
      "\n",
      "    clusterApply, clusterApplyLB, clusterCall, clusterEvalQ,\n",
      "    clusterExport, clusterMap, parApply, parCapply, parLapply,\n",
      "    parLapplyLB, parRapply, parSapply, parSapplyLB\n",
      "\n",
      "The following objects are masked from ‘package:dplyr’:\n",
      "\n",
      "    combine, intersect, setdiff, union\n",
      "\n",
      "The following objects are masked from ‘package:stats’:\n",
      "\n",
      "    IQR, mad, sd, var, xtabs\n",
      "\n",
      "The following objects are masked from ‘package:base’:\n",
      "\n",
      "    anyDuplicated, append, as.data.frame, basename, cbind, colnames,\n",
      "    dirname, do.call, duplicated, eval, evalq, Filter, Find, get, grep,\n",
      "    grepl, intersect, is.unsorted, lapply, Map, mapply, match, mget,\n",
      "    order, paste, pmax, pmax.int, pmin, pmin.int, Position, rank,\n",
      "    rbind, Reduce, rownames, sapply, setdiff, sort, table, tapply,\n",
      "    union, unique, unsplit, which, which.max, which.min\n",
      "\n",
      "\n",
      "Attaching package: ‘S4Vectors’\n",
      "\n",
      "The following objects are masked from ‘package:dplyr’:\n",
      "\n",
      "    first, rename\n",
      "\n",
      "The following object is masked from ‘package:tidyr’:\n",
      "\n",
      "    expand\n",
      "\n",
      "The following object is masked from ‘package:base’:\n",
      "\n",
      "    expand.grid\n",
      "\n",
      "Loading required package: IRanges\n",
      "\n",
      "Attaching package: ‘IRanges’\n",
      "\n",
      "The following objects are masked from ‘package:dplyr’:\n",
      "\n",
      "    collapse, desc, slice\n",
      "\n",
      "The following object is masked from ‘package:purrr’:\n",
      "\n",
      "    reduce\n",
      "\n",
      "Loading required package: GenomicRanges\n",
      "Loading required package: GenomeInfoDb\n",
      "Loading required package: SummarizedExperiment\n",
      "Loading required package: Biobase\n",
      "Welcome to Bioconductor\n",
      "\n",
      "    Vignettes contain introductory material; view with\n",
      "    'browseVignettes()'. To cite Bioconductor, see\n",
      "    'citation(\"Biobase\")', and for packages 'citation(\"pkgname\")'.\n",
      "\n",
      "\n",
      "Attaching package: ‘Biobase’\n",
      "\n",
      "The following objects are masked from ‘package:matrixStats’:\n",
      "\n",
      "    anyMissing, rowMedians\n",
      "\n",
      "Loading required package: DelayedArray\n",
      "Loading required package: BiocParallel\n",
      "\n",
      "Attaching package: ‘DelayedArray’\n",
      "\n",
      "The following objects are masked from ‘package:matrixStats’:\n",
      "\n",
      "    colMaxs, colMins, colRanges, rowMaxs, rowMins, rowRanges\n",
      "\n",
      "The following object is masked from ‘package:purrr’:\n",
      "\n",
      "    simplify\n",
      "\n",
      "The following objects are masked from ‘package:base’:\n",
      "\n",
      "    aperm, apply, rowsum\n",
      "\n"
     ]
    }
   ],
   "source": [
    "library(tidyverse)\n",
    "library(matrixStats)\n",
    "library(DESeq2)\n",
    "\n",
    "# Custom package\n",
    "library(rutils)"
   ]
  },
  {
   "cell_type": "code",
   "execution_count": 3,
   "metadata": {
    "collapsed": true,
    "jupyter": {
     "outputs_hidden": true
    }
   },
   "outputs": [
    {
     "name": "stderr",
     "output_type": "stream",
     "text": [
      "Parsed with column specification:\n",
      "cols(\n",
      "  geneID = col_character(),\n",
      "  baseMean = col_double(),\n",
      "  log2FoldChange = col_double(),\n",
      "  lfcSE = col_double(),\n",
      "  stat = col_double(),\n",
      "  pvalue = col_double(),\n",
      "  padj = col_double()\n",
      ")\n",
      "Parsed with column specification:\n",
      "cols(\n",
      "  .default = col_double(),\n",
      "  Hugo_Symbol = col_character()\n",
      ")\n",
      "See spec(...) for full column specifications.\n",
      "Parsed with column specification:\n",
      "cols(\n",
      "  sample_name = col_character(),\n",
      "  condition = col_character(),\n",
      "  data_source = col_character()\n",
      ")\n",
      "Parsed with column specification:\n",
      "cols(\n",
      "  Division = col_character(),\n",
      "  Category = col_character(),\n",
      "  `Gene Symbol` = col_character(),\n",
      "  `Gene Name` = col_character(),\n",
      "  Synonyms = col_character(),\n",
      "  HGNC_IDs = col_double(),\n",
      "  `HGNC_IDs Links` = col_double(),\n",
      "  UniProt_IDs = col_character(),\n",
      "  Refseq_IDs = col_character(),\n",
      "  Orthology = col_character(),\n",
      "  Notes = col_character()\n",
      ")\n"
     ]
    }
   ],
   "source": [
    "# dirs <- rutils::get_dev_directories(dev_paths_file = \"../dev_paths.txt\")\n",
    "data_dir <- \"/mnt/d/unified_TCGA_GTEx_data\"\n",
    "analysis_dir <- \"/mnt/d/2020_07_27_unified_TCGA_GTEx_analysis\"\n",
    "dge_res_df <- read_tsv(paste0(analysis_dir, \"/unified_cervical_data_unfiltered_DESeq_results.tsv\"))\n",
    "counts_df <- read_tsv(paste0(data_dir, \"/unified_cervical_data/counts.tsv\")) %>%\n",
    "    dplyr::select(-Entrez_Gene_Id) %>%\n",
    "    mutate_if(is.numeric, round, 0) %>%\n",
    "    dplyr::rename(geneID = Hugo_Symbol)\n",
    "coldata_df <- read_tsv(paste0(paste0(data_dir, \"/unified_cervical_data/coldata.tsv\")))\n",
    "matrisome_genes_df <- rutils::load_matrisome_df(paste0(data_dir, \"/matrisome/matrisome_hs_masterlist.tsv\")) %>%\n",
    "    dplyr::select(gene_symbol)"
   ]
  },
  {
   "cell_type": "code",
   "execution_count": 4,
   "metadata": {},
   "outputs": [
    {
     "data": {
      "text/html": [
       "70"
      ],
      "text/latex": [
       "70"
      ],
      "text/markdown": [
       "70"
      ],
      "text/plain": [
       "[1] 70"
      ]
     },
     "metadata": {},
     "output_type": "display_data"
    }
   ],
   "source": [
    "# In figures, there's a pretty clear cut-off near LFC = 15\n",
    "outlier_genes_df <- dge_res_df %>%\n",
    "    dplyr::filter(abs(log2FoldChange) > 15) %>%\n",
    "    dplyr::select(geneID)\n",
    "nrow(outlier_genes_df)"
   ]
  },
  {
   "cell_type": "code",
   "execution_count": 5,
   "metadata": {},
   "outputs": [],
   "source": [
    "get_group_samples <- function(counts_df, coldata_df, sample_group) {\n",
    "    if (sample_group == \"GTEX\") {\n",
    "        group_samples <- (coldata_df %>%\n",
    "            dplyr::filter(data_source == \"GTEx\"))$sample_name\n",
    "    }\n",
    "    else if (sample_group == \"TCGA_healthy\") {\n",
    "        group_samples <- (coldata_df %>%\n",
    "            dplyr::filter(condition == \"healthy\" & data_source == \"TCGA\"))$sample_name\n",
    "    }\n",
    "    else if (sample_group == \"TCGA_tumor\") {\n",
    "        group_samples <- (coldata_df %>%\n",
    "            dplyr::filter(condition == \"tumor\"))$sample_name\n",
    "    }\n",
    "    \n",
    "    return(counts_df %>% dplyr::select(\"geneID\", all_of(group_samples)))\n",
    "}\n",
    "\n",
    "\n",
    "get_thresh_results <- function(group_df, thresh, group_name) {\n",
    "    over_thresh_str <- paste0(group_name, \"_over_thresh\")\n",
    "    over_thresh_prop_str <- paste0(group_name, \"_over_thresh_prop\")\n",
    "\n",
    "    res_df <- group_df %>%\n",
    "        mutate(over_thresh = rowSums(. [, -1] > thresh)) %>%\n",
    "        mutate(over_thresh_prop = over_thresh / (ncol(.) - 2)) %>%\n",
    "        dplyr::rename(!!over_thresh_str := over_thresh) %>%\n",
    "        dplyr::rename(!!over_thresh_prop_str := over_thresh_prop) %>%\n",
    "        dplyr::select(matches(c(\"geneID\", over_thresh_str, over_thresh_prop_str)))\n",
    "    return(res_df)\n",
    "}\n",
    "\n",
    "\n",
    "get_thresh_results_for_all <- function(counts_df, coldata_df, group_names, thresh ) {\n",
    "    df_list <- list()\n",
    "    for (gn in group_names) {\n",
    "        group_counts_df <- get_group_samples(counts_df, coldata_df, gn)\n",
    "        thresh_res_df <- get_thresh_results(group_counts_df, thresh, gn)\n",
    "        df_list[[gn]] <- thresh_res_df\n",
    "    }\n",
    "    return(df_list %>% purrr::reduce(inner_join, by = \"geneID\"))\n",
    "}"
   ]
  },
  {
   "cell_type": "code",
   "execution_count": 6,
   "metadata": {},
   "outputs": [],
   "source": [
    "all_counts_res_df <- get_thresh_results_for_all(counts_df, coldata_df, c(\"GTEX\", \"TCGA_healthy\", \"TCGA_tumor\"), 1)"
   ]
  },
  {
   "cell_type": "code",
   "execution_count": 7,
   "metadata": {},
   "outputs": [],
   "source": [
    "outlier_counts_res_df <- get_thresh_results_for_all(\n",
    "    (outlier_genes_df %>% inner_join(counts_df, by = \"geneID\")),\n",
    "    coldata_df, c(\"GTEX\", \"TCGA_healthy\", \"TCGA_tumor\"),\n",
    "    1\n",
    ")"
   ]
  },
  {
   "cell_type": "code",
   "execution_count": 15,
   "metadata": {},
   "outputs": [
    {
     "data": {
      "text/html": [
       "16540"
      ],
      "text/latex": [
       "16540"
      ],
      "text/markdown": [
       "16540"
      ],
      "text/plain": [
       "[1] 16540"
      ]
     },
     "metadata": {},
     "output_type": "display_data"
    },
    {
     "data": {
      "text/html": [
       "0.817112933504594"
      ],
      "text/latex": [
       "0.817112933504594"
      ],
      "text/markdown": [
       "0.817112933504594"
      ],
      "text/plain": [
       "[1] 0.8171129"
      ]
     },
     "metadata": {},
     "output_type": "display_data"
    },
    {
     "data": {
      "text/html": [
       "0"
      ],
      "text/latex": [
       "0"
      ],
      "text/markdown": [
       "0"
      ],
      "text/plain": [
       "[1] 0"
      ]
     },
     "metadata": {},
     "output_type": "display_data"
    }
   ],
   "source": [
    "min_pct <- .3\n",
    "low_count_genes_df <- all_counts_res_df %>%\n",
    "    dplyr::filter(\n",
    "        GTEX_over_thresh_prop > min_pct &\n",
    "        TCGA_healthy_over_thresh_prop > min_pct &\n",
    "        TCGA_tumor_over_thresh_prop > min_pct\n",
    "    )\n",
    "# How many genes filtered?\n",
    "nrow(low_count_genes_df)\n",
    "# proportion of total genes filtered?\n",
    "nrow(low_count_genes_df) / nrow(counts_df)\n",
    "# How many outlier genes does this capture?\n",
    "sum(low_count_genes_df$geneID %in% outlier_genes_df$geneID)"
   ]
  },
  {
   "cell_type": "code",
   "execution_count": 12,
   "metadata": {},
   "outputs": [
    {
     "data": {
      "text/html": [
       "16540"
      ],
      "text/latex": [
       "16540"
      ],
      "text/markdown": [
       "16540"
      ],
      "text/plain": [
       "[1] 16540"
      ]
     },
     "metadata": {},
     "output_type": "display_data"
    }
   ],
   "source": [
    "nrow(counts_df) - nrow(low_count_genes_df)"
   ]
  },
  {
   "cell_type": "code",
   "execution_count": null,
   "metadata": {},
   "outputs": [],
   "source": [
    "outlier_counts_res_df %>%\n",
    "    dplyr::filter(TCGA_tumor_over_thresh_prop > 0)"
   ]
  },
  {
   "cell_type": "code",
   "execution_count": null,
   "metadata": {},
   "outputs": [],
   "source": []
  }
 ],
 "metadata": {
  "kernelspec": {
   "display_name": "R",
   "language": "R",
   "name": "ir"
  },
  "language_info": {
   "codemirror_mode": "r",
   "file_extension": ".r",
   "mimetype": "text/x-r-source",
   "name": "R",
   "pygments_lexer": "r",
   "version": "3.6.3"
  }
 },
 "nbformat": 4,
 "nbformat_minor": 4
}
