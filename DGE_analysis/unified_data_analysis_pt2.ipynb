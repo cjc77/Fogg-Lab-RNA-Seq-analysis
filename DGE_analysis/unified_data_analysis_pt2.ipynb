{
 "cells": [
  {
   "cell_type": "code",
   "execution_count": 1,
   "metadata": {
    "collapsed": true,
    "jupyter": {
     "outputs_hidden": true
    }
   },
   "outputs": [
    {
     "name": "stderr",
     "output_type": "stream",
     "text": [
      "── Attaching packages ─────────────────────────────────────── tidyverse 1.3.0 ──\n",
      "✔ ggplot2 3.3.2     ✔ purrr   0.3.4\n",
      "✔ tibble  3.0.3     ✔ dplyr   1.0.0\n",
      "✔ tidyr   1.1.0     ✔ stringr 1.4.0\n",
      "✔ readr   1.3.1     ✔ forcats 0.5.0\n",
      "── Conflicts ────────────────────────────────────────── tidyverse_conflicts() ──\n",
      "✖ dplyr::filter() masks stats::filter()\n",
      "✖ dplyr::lag()    masks stats::lag()\n",
      "Loading required package: S4Vectors\n",
      "Loading required package: stats4\n",
      "Loading required package: BiocGenerics\n",
      "Loading required package: parallel\n",
      "\n",
      "Attaching package: ‘BiocGenerics’\n",
      "\n",
      "The following objects are masked from ‘package:parallel’:\n",
      "\n",
      "    clusterApply, clusterApplyLB, clusterCall, clusterEvalQ,\n",
      "    clusterExport, clusterMap, parApply, parCapply, parLapply,\n",
      "    parLapplyLB, parRapply, parSapply, parSapplyLB\n",
      "\n",
      "The following objects are masked from ‘package:dplyr’:\n",
      "\n",
      "    combine, intersect, setdiff, union\n",
      "\n",
      "The following objects are masked from ‘package:stats’:\n",
      "\n",
      "    IQR, mad, sd, var, xtabs\n",
      "\n",
      "The following objects are masked from ‘package:base’:\n",
      "\n",
      "    anyDuplicated, append, as.data.frame, basename, cbind, colnames,\n",
      "    dirname, do.call, duplicated, eval, evalq, Filter, Find, get, grep,\n",
      "    grepl, intersect, is.unsorted, lapply, Map, mapply, match, mget,\n",
      "    order, paste, pmax, pmax.int, pmin, pmin.int, Position, rank,\n",
      "    rbind, Reduce, rownames, sapply, setdiff, sort, table, tapply,\n",
      "    union, unique, unsplit, which, which.max, which.min\n",
      "\n",
      "\n",
      "Attaching package: ‘S4Vectors’\n",
      "\n",
      "The following objects are masked from ‘package:dplyr’:\n",
      "\n",
      "    first, rename\n",
      "\n",
      "The following object is masked from ‘package:tidyr’:\n",
      "\n",
      "    expand\n",
      "\n",
      "The following object is masked from ‘package:base’:\n",
      "\n",
      "    expand.grid\n",
      "\n",
      "Loading required package: IRanges\n",
      "\n",
      "Attaching package: ‘IRanges’\n",
      "\n",
      "The following objects are masked from ‘package:dplyr’:\n",
      "\n",
      "    collapse, desc, slice\n",
      "\n",
      "The following object is masked from ‘package:purrr’:\n",
      "\n",
      "    reduce\n",
      "\n",
      "Loading required package: GenomicRanges\n",
      "Loading required package: GenomeInfoDb\n",
      "Loading required package: SummarizedExperiment\n",
      "Loading required package: Biobase\n",
      "Welcome to Bioconductor\n",
      "\n",
      "    Vignettes contain introductory material; view with\n",
      "    'browseVignettes()'. To cite Bioconductor, see\n",
      "    'citation(\"Biobase\")', and for packages 'citation(\"pkgname\")'.\n",
      "\n",
      "Loading required package: DelayedArray\n",
      "Loading required package: matrixStats\n",
      "\n",
      "Attaching package: ‘matrixStats’\n",
      "\n",
      "The following objects are masked from ‘package:Biobase’:\n",
      "\n",
      "    anyMissing, rowMedians\n",
      "\n",
      "The following object is masked from ‘package:dplyr’:\n",
      "\n",
      "    count\n",
      "\n",
      "Loading required package: BiocParallel\n",
      "\n",
      "Attaching package: ‘DelayedArray’\n",
      "\n",
      "The following objects are masked from ‘package:matrixStats’:\n",
      "\n",
      "    colMaxs, colMins, colRanges, rowMaxs, rowMins, rowRanges\n",
      "\n",
      "The following object is masked from ‘package:purrr’:\n",
      "\n",
      "    simplify\n",
      "\n",
      "The following objects are masked from ‘package:base’:\n",
      "\n",
      "    aperm, apply, rowsum\n",
      "\n"
     ]
    }
   ],
   "source": [
    "library(tidyverse)\n",
    "library(DESeq2)\n",
    "library(BiocParallel)"
   ]
  },
  {
   "cell_type": "code",
   "execution_count": 2,
   "metadata": {},
   "outputs": [],
   "source": [
    "n_cores <- detectCores()\n",
    "BiocParallel::register(MulticoreParam(n_cores))"
   ]
  },
  {
   "cell_type": "markdown",
   "metadata": {},
   "source": [
    "## Constants"
   ]
  },
  {
   "cell_type": "code",
   "execution_count": 3,
   "metadata": {},
   "outputs": [],
   "source": [
    "data_dir <- \"../../../../../mnt/d/unified_TCGA_GTEx\"\n",
    "dsets <- c(\"unified_cervical_data\")\n",
    "dset_paths <- unlist(map(dsets, function(d) paste0(data_dir, \"/\", d)))\n",
    "analysis_dir <- paste(data_dir, \"analysis\", sep = \"/\")\n",
    "matrisome_list <- paste(data_dir, \"matrisome\", \"matrisome_hs_masterlist.tsv\", sep = \"/\")\n",
    "dset_idx <- 1"
   ]
  },
  {
   "cell_type": "markdown",
   "metadata": {},
   "source": [
    "## Functions"
   ]
  },
  {
   "cell_type": "code",
   "execution_count": 4,
   "metadata": {},
   "outputs": [],
   "source": [
    "run_DESeq_and_get_results <- function(dds) {\n",
    "    #We want results without outlier removal or independent filtering since filtering should happen downstream.\n",
    "    #See docs: https://bioconductor.org/packages/devel/bioc/vignettes/DESeq2/inst/doc/DESeq2.html#how-can-i-get-unfiltered-deseq2-results\n",
    "    dds_seq <- DESeq(dds, minReplicatesForReplace = Inf, parallel = TRUE)\n",
    "    res <- results(\n",
    "        dds_seq,\n",
    "        contrast = c(\"condition\", \"tumor\", \"healthy\"),\n",
    "        pAdjustMethod = \"BH\",\n",
    "        cooksCutoff=FALSE,\n",
    "        independentFiltering=FALSE,\n",
    "        parallel = TRUE\n",
    "    )\n",
    "    return(as_tibble(res, rownames = \"geneID\"))\n",
    "}"
   ]
  },
  {
   "cell_type": "markdown",
   "metadata": {},
   "source": [
    "## Read in data"
   ]
  },
  {
   "cell_type": "code",
   "execution_count": 5,
   "metadata": {},
   "outputs": [
    {
     "name": "stderr",
     "output_type": "stream",
     "text": [
      "Parsed with column specification:\n",
      "cols(\n",
      "  .default = col_double(),\n",
      "  Hugo_Symbol = col_character()\n",
      ")\n",
      "See spec(...) for full column specifications.\n",
      "Parsed with column specification:\n",
      "cols(\n",
      "  sample_name = col_character(),\n",
      "  condition = col_character(),\n",
      "  data_source = col_character()\n",
      ")\n"
     ]
    },
    {
     "data": {
      "text/html": [
       "TRUE"
      ],
      "text/latex": [
       "TRUE"
      ],
      "text/markdown": [
       "TRUE"
      ],
      "text/plain": [
       "[1] TRUE"
      ]
     },
     "metadata": {},
     "output_type": "display_data"
    }
   ],
   "source": [
    "counts <- read_tsv(paste0(dset_paths[dset_idx], \"/counts.tsv\")) %>%\n",
    "    select(-\"Entrez_Gene_Id\") %>%\n",
    "    mutate_if(is.numeric, round, 0) %>%\n",
    "    column_to_rownames(var = \"Hugo_Symbol\")\n",
    "coldata <- read_tsv(paste0(dset_paths[dset_idx], \"/coldata.tsv\")) %>%\n",
    "    column_to_rownames(var = \"sample_name\")\n",
    "all(rownames(coldata) == colnames(counts))"
   ]
  },
  {
   "cell_type": "code",
   "execution_count": 6,
   "metadata": {},
   "outputs": [
    {
     "data": {
      "text/html": [
       "13"
      ],
      "text/latex": [
       "13"
      ],
      "text/markdown": [
       "13"
      ],
      "text/plain": [
       "[1] 13"
      ]
     },
     "metadata": {},
     "output_type": "display_data"
    },
    {
     "data": {
      "text/html": [
       "259"
      ],
      "text/latex": [
       "259"
      ],
      "text/markdown": [
       "259"
      ],
      "text/plain": [
       "[1] 259"
      ]
     },
     "metadata": {},
     "output_type": "display_data"
    }
   ],
   "source": [
    "sum(coldata$condition == \"healthy\")\n",
    "sum(coldata$condition == \"tumor\")"
   ]
  },
  {
   "cell_type": "markdown",
   "metadata": {},
   "source": [
    "## RUN DGE Analysis"
   ]
  },
  {
   "cell_type": "markdown",
   "metadata": {},
   "source": [
    "- `dds_naive`: measure the effect of `condition`\n",
    "- `dds_informed`: measure the effect of `condition`, controlling for `data_source` (batch effect)\n",
    "\n",
    "See docs: https://bioconductor.org/packages/devel/bioc/vignettes/DESeq2/inst/doc/DESeq2.html#quick-start"
   ]
  },
  {
   "cell_type": "code",
   "execution_count": 7,
   "metadata": {},
   "outputs": [
    {
     "name": "stderr",
     "output_type": "stream",
     "text": [
      "converting counts to integer mode\n",
      "Warning message in DESeqDataSet(se, design = design, ignoreRank):\n",
      "“some variables in design formula are characters, converting to factors”converting counts to integer mode\n",
      "Warning message in DESeqDataSet(se, design = design, ignoreRank):\n",
      "“some variables in design formula are characters, converting to factors”"
     ]
    }
   ],
   "source": [
    "dds_naive <- DESeqDataSetFromMatrix(\n",
    "    countData = counts,\n",
    "    colData = coldata,\n",
    "    design = ~ condition\n",
    ")\n",
    "\n",
    "dds_informed <- DESeqDataSetFromMatrix(\n",
    "    countData = counts,\n",
    "    colData = coldata,\n",
    "    design = ~ data_source + condition\n",
    ")"
   ]
  },
  {
   "cell_type": "code",
   "execution_count": 8,
   "metadata": {},
   "outputs": [
    {
     "name": "stderr",
     "output_type": "stream",
     "text": [
      "estimating size factors\n",
      "estimating dispersions\n",
      "gene-wise dispersion estimates: 16 workers\n",
      "mean-dispersion relationship\n",
      "final dispersion estimates, fitting model and testing: 16 workers\n",
      "estimating size factors\n",
      "estimating dispersions\n",
      "gene-wise dispersion estimates: 16 workers\n",
      "mean-dispersion relationship\n",
      "final dispersion estimates, fitting model and testing: 16 workers\n"
     ]
    }
   ],
   "source": [
    "dge_res_naive_df <- run_DESeq_and_get_results(dds_naive)\n",
    "dge_res_informed_df <- run_DESeq_and_get_results(dds_informed)"
   ]
  },
  {
   "cell_type": "code",
   "execution_count": 13,
   "metadata": {},
   "outputs": [
    {
     "data": {
      "text/html": [
       "11775"
      ],
      "text/latex": [
       "11775"
      ],
      "text/markdown": [
       "11775"
      ],
      "text/plain": [
       "[1] 11775"
      ]
     },
     "metadata": {},
     "output_type": "display_data"
    },
    {
     "data": {
      "text/html": [
       "4624"
      ],
      "text/latex": [
       "4624"
      ],
      "text/markdown": [
       "4624"
      ],
      "text/plain": [
       "[1] 4624"
      ]
     },
     "metadata": {},
     "output_type": "display_data"
    }
   ],
   "source": [
    "sig_dge_res_naive_df <- dplyr::filter(dge_res_naive_df, padj < 0.05)\n",
    "sig_dge_res_informed_df <- dplyr::filter(dge_res_informed_df, padj < 0.05)\n",
    "nrow(sig_dge_res_naive_df)\n",
    "nrow(sig_dge_res_informed_df)"
   ]
  },
  {
   "cell_type": "markdown",
   "metadata": {},
   "source": [
    "## Join with matrisome list"
   ]
  },
  {
   "cell_type": "markdown",
   "metadata": {},
   "source": [
    "### Load matrisome list and prep"
   ]
  },
  {
   "cell_type": "code",
   "execution_count": 10,
   "metadata": {},
   "outputs": [
    {
     "name": "stderr",
     "output_type": "stream",
     "text": [
      "Parsed with column specification:\n",
      "cols(\n",
      "  Division = col_character(),\n",
      "  Category = col_character(),\n",
      "  `Gene Symbol` = col_character(),\n",
      "  `Gene Name` = col_character(),\n",
      "  Synonyms = col_character(),\n",
      "  HGNC_IDs = col_double(),\n",
      "  `HGNC_IDs Links` = col_double(),\n",
      "  UniProt_IDs = col_character(),\n",
      "  Refseq_IDs = col_character(),\n",
      "  Orthology = col_character(),\n",
      "  Notes = col_character()\n",
      ")\n"
     ]
    },
    {
     "data": {
      "text/html": [
       "1027"
      ],
      "text/latex": [
       "1027"
      ],
      "text/markdown": [
       "1027"
      ],
      "text/plain": [
       "[1] 1027"
      ]
     },
     "metadata": {},
     "output_type": "display_data"
    },
    {
     "data": {
      "text/html": [
       "<table>\n",
       "<caption>A tibble: 6 × 11</caption>\n",
       "<thead>\n",
       "\t<tr><th scope=col>gene_symbol</th><th scope=col>division</th><th scope=col>category</th><th scope=col>gene_name</th><th scope=col>synonyms</th><th scope=col>hgnc_ids</th><th scope=col>hgnc_ids_links</th><th scope=col>uniprot_ids</th><th scope=col>refseq_ids</th><th scope=col>orthology</th><th scope=col>notes</th></tr>\n",
       "\t<tr><th scope=col>&lt;chr&gt;</th><th scope=col>&lt;chr&gt;</th><th scope=col>&lt;chr&gt;</th><th scope=col>&lt;chr&gt;</th><th scope=col>&lt;chr&gt;</th><th scope=col>&lt;dbl&gt;</th><th scope=col>&lt;dbl&gt;</th><th scope=col>&lt;chr&gt;</th><th scope=col>&lt;chr&gt;</th><th scope=col>&lt;chr&gt;</th><th scope=col>&lt;chr&gt;</th></tr>\n",
       "</thead>\n",
       "<tbody>\n",
       "\t<tr><td>ABI3BP</td><td>Core matrisome</td><td>ECM Glycoproteins</td><td>ABI family, member 3 (NESH) binding protein     </td><td>FLJ41743|FLJ41754|NESHBP|TARSH                    </td><td>17265</td><td>17265</td><td>B4DSV9:D3YTG3:E9PPR9:E9PRB5:H0Y897:H0YCG4:H0YCP4:H0YDN0:H0YDW0:H0YEA0:H0YEL2:H0YF18:H0YF57:H7C4H3:H7C4N5:H7C4S3:H7C4T1:H7C4X4:H7C524:H7C556:H7C5S3:Q5JPC9:Q7Z7G0</td><td>NP_056244.2:XP_005247340.1               </td><td>Mouse:Abi3bp|</td><td>NA</td></tr>\n",
       "\t<tr><td>ADIPOQ</td><td>Core matrisome</td><td>ECM Glycoproteins</td><td>adiponectin, C1Q and collagen domain containing </td><td>ACDC|ACRP30|ADIPQTL1|ADPN|APM-1|APM1|GBP28|adipone</td><td>13633</td><td>13633</td><td>Q15848                                                                                                                                                          </td><td>NP_001171271.1:NP_004788.1               </td><td>Mouse:Adipoq|</td><td>NA</td></tr>\n",
       "\t<tr><td>AEBP1 </td><td>Core matrisome</td><td>ECM Glycoproteins</td><td>AE binding protein 1                            </td><td>ACLP; FLJ33612                                    </td><td>  303</td><td>  303</td><td>C9JLQ8:H7C0W8:H7C1J5:H7C391:H7C3D7:H7C4B5:Q8IUX7                                                                                                                </td><td>NP_001120.3                              </td><td>Mouse:Aebp1| </td><td>NA</td></tr>\n",
       "\t<tr><td>AGRN  </td><td>Core matrisome</td><td>ECM Glycoproteins</td><td>agrin                                           </td><td>FLJ45064                                          </td><td>  329</td><td>  329</td><td>H0Y5U1:O00468                                                                                                                                                   </td><td>NP_940978.2:XP_005244806.1:XP_006710696.1</td><td>Mouse:Agrn|  </td><td>NA</td></tr>\n",
       "\t<tr><td>AMBN  </td><td>Core matrisome</td><td>ECM Glycoproteins</td><td>ameloblastin (enamel matrix protein)            </td><td>-                                                 </td><td>  452</td><td>  452</td><td>Q9NP70                                                                                                                                                          </td><td>NP_057603.1                              </td><td>Mouse:Ambn|  </td><td>NA</td></tr>\n",
       "\t<tr><td>AMELX </td><td>Core matrisome</td><td>ECM Glycoproteins</td><td>amelogenin (amelogenesis imperfecta 1, X-linked)</td><td>AIH1|ALGN|AMG|AMGL|AMGX                           </td><td>  461</td><td>  461</td><td>Q99217                                                                                                                                                          </td><td>NP_001133.1:NP_872621.1:NP_872622.1      </td><td>Mouse:Amelx| </td><td>NA</td></tr>\n",
       "</tbody>\n",
       "</table>\n"
      ],
      "text/latex": [
       "A tibble: 6 × 11\n",
       "\\begin{tabular}{lllllllllll}\n",
       " gene\\_symbol & division & category & gene\\_name & synonyms & hgnc\\_ids & hgnc\\_ids\\_links & uniprot\\_ids & refseq\\_ids & orthology & notes\\\\\n",
       " <chr> & <chr> & <chr> & <chr> & <chr> & <dbl> & <dbl> & <chr> & <chr> & <chr> & <chr>\\\\\n",
       "\\hline\n",
       "\t ABI3BP & Core matrisome & ECM Glycoproteins & ABI family, member 3 (NESH) binding protein      & FLJ41743\\textbar{}FLJ41754\\textbar{}NESHBP\\textbar{}TARSH                     & 17265 & 17265 & B4DSV9:D3YTG3:E9PPR9:E9PRB5:H0Y897:H0YCG4:H0YCP4:H0YDN0:H0YDW0:H0YEA0:H0YEL2:H0YF18:H0YF57:H7C4H3:H7C4N5:H7C4S3:H7C4T1:H7C4X4:H7C524:H7C556:H7C5S3:Q5JPC9:Q7Z7G0 & NP\\_056244.2:XP\\_005247340.1                & Mouse:Abi3bp\\textbar{} & NA\\\\\n",
       "\t ADIPOQ & Core matrisome & ECM Glycoproteins & adiponectin, C1Q and collagen domain containing  & ACDC\\textbar{}ACRP30\\textbar{}ADIPQTL1\\textbar{}ADPN\\textbar{}APM-1\\textbar{}APM1\\textbar{}GBP28\\textbar{}adipone & 13633 & 13633 & Q15848                                                                                                                                                           & NP\\_001171271.1:NP\\_004788.1                & Mouse:Adipoq\\textbar{} & NA\\\\\n",
       "\t AEBP1  & Core matrisome & ECM Glycoproteins & AE binding protein 1                             & ACLP; FLJ33612                                     &   303 &   303 & C9JLQ8:H7C0W8:H7C1J5:H7C391:H7C3D7:H7C4B5:Q8IUX7                                                                                                                 & NP\\_001120.3                               & Mouse:Aebp1\\textbar{}  & NA\\\\\n",
       "\t AGRN   & Core matrisome & ECM Glycoproteins & agrin                                            & FLJ45064                                           &   329 &   329 & H0Y5U1:O00468                                                                                                                                                    & NP\\_940978.2:XP\\_005244806.1:XP\\_006710696.1 & Mouse:Agrn\\textbar{}   & NA\\\\\n",
       "\t AMBN   & Core matrisome & ECM Glycoproteins & ameloblastin (enamel matrix protein)             & -                                                  &   452 &   452 & Q9NP70                                                                                                                                                           & NP\\_057603.1                               & Mouse:Ambn\\textbar{}   & NA\\\\\n",
       "\t AMELX  & Core matrisome & ECM Glycoproteins & amelogenin (amelogenesis imperfecta 1, X-linked) & AIH1\\textbar{}ALGN\\textbar{}AMG\\textbar{}AMGL\\textbar{}AMGX                            &   461 &   461 & Q99217                                                                                                                                                           & NP\\_001133.1:NP\\_872621.1:NP\\_872622.1       & Mouse:Amelx\\textbar{}  & NA\\\\\n",
       "\\end{tabular}\n"
      ],
      "text/markdown": [
       "\n",
       "A tibble: 6 × 11\n",
       "\n",
       "| gene_symbol &lt;chr&gt; | division &lt;chr&gt; | category &lt;chr&gt; | gene_name &lt;chr&gt; | synonyms &lt;chr&gt; | hgnc_ids &lt;dbl&gt; | hgnc_ids_links &lt;dbl&gt; | uniprot_ids &lt;chr&gt; | refseq_ids &lt;chr&gt; | orthology &lt;chr&gt; | notes &lt;chr&gt; |\n",
       "|---|---|---|---|---|---|---|---|---|---|---|\n",
       "| ABI3BP | Core matrisome | ECM Glycoproteins | ABI family, member 3 (NESH) binding protein      | FLJ41743|FLJ41754|NESHBP|TARSH                     | 17265 | 17265 | B4DSV9:D3YTG3:E9PPR9:E9PRB5:H0Y897:H0YCG4:H0YCP4:H0YDN0:H0YDW0:H0YEA0:H0YEL2:H0YF18:H0YF57:H7C4H3:H7C4N5:H7C4S3:H7C4T1:H7C4X4:H7C524:H7C556:H7C5S3:Q5JPC9:Q7Z7G0 | NP_056244.2:XP_005247340.1                | Mouse:Abi3bp| | NA |\n",
       "| ADIPOQ | Core matrisome | ECM Glycoproteins | adiponectin, C1Q and collagen domain containing  | ACDC|ACRP30|ADIPQTL1|ADPN|APM-1|APM1|GBP28|adipone | 13633 | 13633 | Q15848                                                                                                                                                           | NP_001171271.1:NP_004788.1                | Mouse:Adipoq| | NA |\n",
       "| AEBP1  | Core matrisome | ECM Glycoproteins | AE binding protein 1                             | ACLP; FLJ33612                                     |   303 |   303 | C9JLQ8:H7C0W8:H7C1J5:H7C391:H7C3D7:H7C4B5:Q8IUX7                                                                                                                 | NP_001120.3                               | Mouse:Aebp1|  | NA |\n",
       "| AGRN   | Core matrisome | ECM Glycoproteins | agrin                                            | FLJ45064                                           |   329 |   329 | H0Y5U1:O00468                                                                                                                                                    | NP_940978.2:XP_005244806.1:XP_006710696.1 | Mouse:Agrn|   | NA |\n",
       "| AMBN   | Core matrisome | ECM Glycoproteins | ameloblastin (enamel matrix protein)             | -                                                  |   452 |   452 | Q9NP70                                                                                                                                                           | NP_057603.1                               | Mouse:Ambn|   | NA |\n",
       "| AMELX  | Core matrisome | ECM Glycoproteins | amelogenin (amelogenesis imperfecta 1, X-linked) | AIH1|ALGN|AMG|AMGL|AMGX                            |   461 |   461 | Q99217                                                                                                                                                           | NP_001133.1:NP_872621.1:NP_872622.1       | Mouse:Amelx|  | NA |\n",
       "\n"
      ],
      "text/plain": [
       "  gene_symbol division       category         \n",
       "1 ABI3BP      Core matrisome ECM Glycoproteins\n",
       "2 ADIPOQ      Core matrisome ECM Glycoproteins\n",
       "3 AEBP1       Core matrisome ECM Glycoproteins\n",
       "4 AGRN        Core matrisome ECM Glycoproteins\n",
       "5 AMBN        Core matrisome ECM Glycoproteins\n",
       "6 AMELX       Core matrisome ECM Glycoproteins\n",
       "  gene_name                                       \n",
       "1 ABI family, member 3 (NESH) binding protein     \n",
       "2 adiponectin, C1Q and collagen domain containing \n",
       "3 AE binding protein 1                            \n",
       "4 agrin                                           \n",
       "5 ameloblastin (enamel matrix protein)            \n",
       "6 amelogenin (amelogenesis imperfecta 1, X-linked)\n",
       "  synonyms                                           hgnc_ids hgnc_ids_links\n",
       "1 FLJ41743|FLJ41754|NESHBP|TARSH                     17265    17265         \n",
       "2 ACDC|ACRP30|ADIPQTL1|ADPN|APM-1|APM1|GBP28|adipone 13633    13633         \n",
       "3 ACLP; FLJ33612                                       303      303         \n",
       "4 FLJ45064                                             329      329         \n",
       "5 -                                                    452      452         \n",
       "6 AIH1|ALGN|AMG|AMGL|AMGX                              461      461         \n",
       "  uniprot_ids                                                                                                                                                     \n",
       "1 B4DSV9:D3YTG3:E9PPR9:E9PRB5:H0Y897:H0YCG4:H0YCP4:H0YDN0:H0YDW0:H0YEA0:H0YEL2:H0YF18:H0YF57:H7C4H3:H7C4N5:H7C4S3:H7C4T1:H7C4X4:H7C524:H7C556:H7C5S3:Q5JPC9:Q7Z7G0\n",
       "2 Q15848                                                                                                                                                          \n",
       "3 C9JLQ8:H7C0W8:H7C1J5:H7C391:H7C3D7:H7C4B5:Q8IUX7                                                                                                                \n",
       "4 H0Y5U1:O00468                                                                                                                                                   \n",
       "5 Q9NP70                                                                                                                                                          \n",
       "6 Q99217                                                                                                                                                          \n",
       "  refseq_ids                                orthology     notes\n",
       "1 NP_056244.2:XP_005247340.1                Mouse:Abi3bp| NA   \n",
       "2 NP_001171271.1:NP_004788.1                Mouse:Adipoq| NA   \n",
       "3 NP_001120.3                               Mouse:Aebp1|  NA   \n",
       "4 NP_940978.2:XP_005244806.1:XP_006710696.1 Mouse:Agrn|   NA   \n",
       "5 NP_057603.1                               Mouse:Ambn|   NA   \n",
       "6 NP_001133.1:NP_872621.1:NP_872622.1       Mouse:Amelx|  NA   "
      ]
     },
     "metadata": {},
     "output_type": "display_data"
    },
    {
     "data": {
      "text/html": [
       "'Any genes missing division entries? FALSE'"
      ],
      "text/latex": [
       "'Any genes missing division entries? FALSE'"
      ],
      "text/markdown": [
       "'Any genes missing division entries? FALSE'"
      ],
      "text/plain": [
       "[1] \"Any genes missing division entries? FALSE\""
      ]
     },
     "metadata": {},
     "output_type": "display_data"
    }
   ],
   "source": [
    "matrisome_df <- read_tsv(matrisome_list, quote = \"\")\n",
    "colnames(matrisome_df) <- map(sub(\" \", \"_\", colnames(matrisome_df)), tolower)\n",
    "matrisome_df <- select(matrisome_df, gene_symbol, everything()) %>%\n",
    "    dplyr::filter(division != \"Retired\")\n",
    "nrow(matrisome_df)\n",
    "head(matrisome_df)\n",
    "paste0(\"Any genes missing division entries? \", any(is.na(matrisome_df$division)))"
   ]
  },
  {
   "cell_type": "code",
   "execution_count": 17,
   "metadata": {},
   "outputs": [],
   "source": [
    "dge_matrisome_left_join_df <- left_join(sig_dge_res_informed_df, matrisome_df, by = c(\"geneID\" = \"gene_symbol\")) %>%\n",
    "    mutate(in_matrisome = !is.na(division)) %>%    # We know a priori that division is never NA\n",
    "    select(geneID:padj, in_matrisome, everything())"
   ]
  },
  {
   "cell_type": "code",
   "execution_count": 22,
   "metadata": {},
   "outputs": [
    {
     "data": {
      "text/html": [
       "TRUE"
      ],
      "text/latex": [
       "TRUE"
      ],
      "text/markdown": [
       "TRUE"
      ],
      "text/plain": [
       "[1] TRUE"
      ]
     },
     "metadata": {},
     "output_type": "display_data"
    },
    {
     "data": {
      "text/html": [
       "<table>\n",
       "<caption>A tibble: 6 × 18</caption>\n",
       "<thead>\n",
       "\t<tr><th scope=col>geneID</th><th scope=col>baseMean</th><th scope=col>log2FoldChange</th><th scope=col>lfcSE</th><th scope=col>stat</th><th scope=col>pvalue</th><th scope=col>padj</th><th scope=col>in_matrisome</th><th scope=col>division</th><th scope=col>category</th><th scope=col>gene_name</th><th scope=col>synonyms</th><th scope=col>hgnc_ids</th><th scope=col>hgnc_ids_links</th><th scope=col>uniprot_ids</th><th scope=col>refseq_ids</th><th scope=col>orthology</th><th scope=col>notes</th></tr>\n",
       "\t<tr><th scope=col>&lt;chr&gt;</th><th scope=col>&lt;dbl&gt;</th><th scope=col>&lt;dbl&gt;</th><th scope=col>&lt;dbl&gt;</th><th scope=col>&lt;dbl&gt;</th><th scope=col>&lt;dbl&gt;</th><th scope=col>&lt;dbl&gt;</th><th scope=col>&lt;lgl&gt;</th><th scope=col>&lt;chr&gt;</th><th scope=col>&lt;chr&gt;</th><th scope=col>&lt;chr&gt;</th><th scope=col>&lt;chr&gt;</th><th scope=col>&lt;dbl&gt;</th><th scope=col>&lt;dbl&gt;</th><th scope=col>&lt;chr&gt;</th><th scope=col>&lt;chr&gt;</th><th scope=col>&lt;chr&gt;</th><th scope=col>&lt;chr&gt;</th></tr>\n",
       "</thead>\n",
       "<tbody>\n",
       "\t<tr><td>RADIL  </td><td> 104.931376</td><td>-3.023204</td><td>1.1379214</td><td>-2.656777</td><td>7.889156e-03</td><td>3.747630e-02</td><td>FALSE</td><td>NA</td><td>NA</td><td>NA</td><td>NA</td><td>NA</td><td>NA</td><td>NA</td><td>NA</td><td>NA</td><td>NA</td></tr>\n",
       "\t<tr><td>AP1M2  </td><td>3874.620691</td><td> 6.494125</td><td>0.6262721</td><td>10.369495</td><td>3.413226e-25</td><td>6.901612e-23</td><td>FALSE</td><td>NA</td><td>NA</td><td>NA</td><td>NA</td><td>NA</td><td>NA</td><td>NA</td><td>NA</td><td>NA</td><td>NA</td></tr>\n",
       "\t<tr><td>KLF1   </td><td>   6.547290</td><td> 4.035969</td><td>1.5879516</td><td> 2.541619</td><td>1.103403e-02</td><td>4.838536e-02</td><td>FALSE</td><td>NA</td><td>NA</td><td>NA</td><td>NA</td><td>NA</td><td>NA</td><td>NA</td><td>NA</td><td>NA</td><td>NA</td></tr>\n",
       "\t<tr><td>USHBP1 </td><td>  83.240457</td><td>-4.113287</td><td>0.7125654</td><td>-5.772504</td><td>7.810209e-09</td><td>2.489566e-07</td><td>FALSE</td><td>NA</td><td>NA</td><td>NA</td><td>NA</td><td>NA</td><td>NA</td><td>NA</td><td>NA</td><td>NA</td><td>NA</td></tr>\n",
       "\t<tr><td>NKPD1  </td><td> 151.738326</td><td> 4.604885</td><td>1.1473048</td><td> 4.013654</td><td>5.978591e-05</td><td>6.941963e-04</td><td>FALSE</td><td>NA</td><td>NA</td><td>NA</td><td>NA</td><td>NA</td><td>NA</td><td>NA</td><td>NA</td><td>NA</td><td>NA</td></tr>\n",
       "\t<tr><td>SLC26A8</td><td>   7.200758</td><td> 5.513994</td><td>1.8815845</td><td> 2.930506</td><td>3.384109e-03</td><td>1.933554e-02</td><td>FALSE</td><td>NA</td><td>NA</td><td>NA</td><td>NA</td><td>NA</td><td>NA</td><td>NA</td><td>NA</td><td>NA</td><td>NA</td></tr>\n",
       "</tbody>\n",
       "</table>\n"
      ],
      "text/latex": [
       "A tibble: 6 × 18\n",
       "\\begin{tabular}{llllllllllllllllll}\n",
       " geneID & baseMean & log2FoldChange & lfcSE & stat & pvalue & padj & in\\_matrisome & division & category & gene\\_name & synonyms & hgnc\\_ids & hgnc\\_ids\\_links & uniprot\\_ids & refseq\\_ids & orthology & notes\\\\\n",
       " <chr> & <dbl> & <dbl> & <dbl> & <dbl> & <dbl> & <dbl> & <lgl> & <chr> & <chr> & <chr> & <chr> & <dbl> & <dbl> & <chr> & <chr> & <chr> & <chr>\\\\\n",
       "\\hline\n",
       "\t RADIL   &  104.931376 & -3.023204 & 1.1379214 & -2.656777 & 7.889156e-03 & 3.747630e-02 & FALSE & NA & NA & NA & NA & NA & NA & NA & NA & NA & NA\\\\\n",
       "\t AP1M2   & 3874.620691 &  6.494125 & 0.6262721 & 10.369495 & 3.413226e-25 & 6.901612e-23 & FALSE & NA & NA & NA & NA & NA & NA & NA & NA & NA & NA\\\\\n",
       "\t KLF1    &    6.547290 &  4.035969 & 1.5879516 &  2.541619 & 1.103403e-02 & 4.838536e-02 & FALSE & NA & NA & NA & NA & NA & NA & NA & NA & NA & NA\\\\\n",
       "\t USHBP1  &   83.240457 & -4.113287 & 0.7125654 & -5.772504 & 7.810209e-09 & 2.489566e-07 & FALSE & NA & NA & NA & NA & NA & NA & NA & NA & NA & NA\\\\\n",
       "\t NKPD1   &  151.738326 &  4.604885 & 1.1473048 &  4.013654 & 5.978591e-05 & 6.941963e-04 & FALSE & NA & NA & NA & NA & NA & NA & NA & NA & NA & NA\\\\\n",
       "\t SLC26A8 &    7.200758 &  5.513994 & 1.8815845 &  2.930506 & 3.384109e-03 & 1.933554e-02 & FALSE & NA & NA & NA & NA & NA & NA & NA & NA & NA & NA\\\\\n",
       "\\end{tabular}\n"
      ],
      "text/markdown": [
       "\n",
       "A tibble: 6 × 18\n",
       "\n",
       "| geneID &lt;chr&gt; | baseMean &lt;dbl&gt; | log2FoldChange &lt;dbl&gt; | lfcSE &lt;dbl&gt; | stat &lt;dbl&gt; | pvalue &lt;dbl&gt; | padj &lt;dbl&gt; | in_matrisome &lt;lgl&gt; | division &lt;chr&gt; | category &lt;chr&gt; | gene_name &lt;chr&gt; | synonyms &lt;chr&gt; | hgnc_ids &lt;dbl&gt; | hgnc_ids_links &lt;dbl&gt; | uniprot_ids &lt;chr&gt; | refseq_ids &lt;chr&gt; | orthology &lt;chr&gt; | notes &lt;chr&gt; |\n",
       "|---|---|---|---|---|---|---|---|---|---|---|---|---|---|---|---|---|---|\n",
       "| RADIL   |  104.931376 | -3.023204 | 1.1379214 | -2.656777 | 7.889156e-03 | 3.747630e-02 | FALSE | NA | NA | NA | NA | NA | NA | NA | NA | NA | NA |\n",
       "| AP1M2   | 3874.620691 |  6.494125 | 0.6262721 | 10.369495 | 3.413226e-25 | 6.901612e-23 | FALSE | NA | NA | NA | NA | NA | NA | NA | NA | NA | NA |\n",
       "| KLF1    |    6.547290 |  4.035969 | 1.5879516 |  2.541619 | 1.103403e-02 | 4.838536e-02 | FALSE | NA | NA | NA | NA | NA | NA | NA | NA | NA | NA |\n",
       "| USHBP1  |   83.240457 | -4.113287 | 0.7125654 | -5.772504 | 7.810209e-09 | 2.489566e-07 | FALSE | NA | NA | NA | NA | NA | NA | NA | NA | NA | NA |\n",
       "| NKPD1   |  151.738326 |  4.604885 | 1.1473048 |  4.013654 | 5.978591e-05 | 6.941963e-04 | FALSE | NA | NA | NA | NA | NA | NA | NA | NA | NA | NA |\n",
       "| SLC26A8 |    7.200758 |  5.513994 | 1.8815845 |  2.930506 | 3.384109e-03 | 1.933554e-02 | FALSE | NA | NA | NA | NA | NA | NA | NA | NA | NA | NA |\n",
       "\n"
      ],
      "text/plain": [
       "  geneID  baseMean    log2FoldChange lfcSE     stat      pvalue      \n",
       "1 RADIL    104.931376 -3.023204      1.1379214 -2.656777 7.889156e-03\n",
       "2 AP1M2   3874.620691  6.494125      0.6262721 10.369495 3.413226e-25\n",
       "3 KLF1       6.547290  4.035969      1.5879516  2.541619 1.103403e-02\n",
       "4 USHBP1    83.240457 -4.113287      0.7125654 -5.772504 7.810209e-09\n",
       "5 NKPD1    151.738326  4.604885      1.1473048  4.013654 5.978591e-05\n",
       "6 SLC26A8    7.200758  5.513994      1.8815845  2.930506 3.384109e-03\n",
       "  padj         in_matrisome division category gene_name synonyms hgnc_ids\n",
       "1 3.747630e-02 FALSE        NA       NA       NA        NA       NA      \n",
       "2 6.901612e-23 FALSE        NA       NA       NA        NA       NA      \n",
       "3 4.838536e-02 FALSE        NA       NA       NA        NA       NA      \n",
       "4 2.489566e-07 FALSE        NA       NA       NA        NA       NA      \n",
       "5 6.941963e-04 FALSE        NA       NA       NA        NA       NA      \n",
       "6 1.933554e-02 FALSE        NA       NA       NA        NA       NA      \n",
       "  hgnc_ids_links uniprot_ids refseq_ids orthology notes\n",
       "1 NA             NA          NA         NA        NA   \n",
       "2 NA             NA          NA         NA        NA   \n",
       "3 NA             NA          NA         NA        NA   \n",
       "4 NA             NA          NA         NA        NA   \n",
       "5 NA             NA          NA         NA        NA   \n",
       "6 NA             NA          NA         NA        NA   "
      ]
     },
     "metadata": {},
     "output_type": "display_data"
    }
   ],
   "source": [
    "nrow(sig_dge_res_informed_df) == nrow(dge_matrisome_left_join_df)    # This must be true since we want to retain all DEGs\n",
    "head(dge_matrisome_left_join_df)"
   ]
  },
  {
   "cell_type": "code",
   "execution_count": 34,
   "metadata": {},
   "outputs": [
    {
     "data": {
      "text/html": [
       "<table>\n",
       "<caption>A tibble: 6 × 2</caption>\n",
       "<thead>\n",
       "\t<tr><th scope=col>category</th><th scope=col>n_genes</th></tr>\n",
       "\t<tr><th scope=col>&lt;chr&gt;</th><th scope=col>&lt;int&gt;</th></tr>\n",
       "</thead>\n",
       "<tbody>\n",
       "\t<tr><td>Collagens              </td><td>  8</td></tr>\n",
       "\t<tr><td>ECM Glycoproteins      </td><td> 56</td></tr>\n",
       "\t<tr><td>ECM Regulators         </td><td> 74</td></tr>\n",
       "\t<tr><td>ECM-affiliated Proteins</td><td> 54</td></tr>\n",
       "\t<tr><td>Proteoglycans          </td><td> 10</td></tr>\n",
       "\t<tr><td>Secreted Factors       </td><td>110</td></tr>\n",
       "</tbody>\n",
       "</table>\n"
      ],
      "text/latex": [
       "A tibble: 6 × 2\n",
       "\\begin{tabular}{ll}\n",
       " category & n\\_genes\\\\\n",
       " <chr> & <int>\\\\\n",
       "\\hline\n",
       "\t Collagens               &   8\\\\\n",
       "\t ECM Glycoproteins       &  56\\\\\n",
       "\t ECM Regulators          &  74\\\\\n",
       "\t ECM-affiliated Proteins &  54\\\\\n",
       "\t Proteoglycans           &  10\\\\\n",
       "\t Secreted Factors        & 110\\\\\n",
       "\\end{tabular}\n"
      ],
      "text/markdown": [
       "\n",
       "A tibble: 6 × 2\n",
       "\n",
       "| category &lt;chr&gt; | n_genes &lt;int&gt; |\n",
       "|---|---|\n",
       "| Collagens               |   8 |\n",
       "| ECM Glycoproteins       |  56 |\n",
       "| ECM Regulators          |  74 |\n",
       "| ECM-affiliated Proteins |  54 |\n",
       "| Proteoglycans           |  10 |\n",
       "| Secreted Factors        | 110 |\n",
       "\n"
      ],
      "text/plain": [
       "  category                n_genes\n",
       "1 Collagens                 8    \n",
       "2 ECM Glycoproteins        56    \n",
       "3 ECM Regulators           74    \n",
       "4 ECM-affiliated Proteins  54    \n",
       "5 Proteoglycans            10    \n",
       "6 Secreted Factors        110    "
      ]
     },
     "metadata": {},
     "output_type": "display_data"
    },
    {
     "data": {
      "text/html": [
       "'Total matrisome genes which are significant DEGs: 312'"
      ],
      "text/latex": [
       "'Total matrisome genes which are significant DEGs: 312'"
      ],
      "text/markdown": [
       "'Total matrisome genes which are significant DEGs: 312'"
      ],
      "text/plain": [
       "[1] \"Total matrisome genes which are significant DEGs: 312\""
      ]
     },
     "metadata": {},
     "output_type": "display_data"
    }
   ],
   "source": [
    "matrisome_category_counts_df <- dge_matrisome_left_join_df %>%\n",
    "    dplyr::count(category) %>%\n",
    "    mutate(n_genes = n) %>%\n",
    "    select(-n) %>%\n",
    "    filter(!is.na(category))\n",
    "matrisome_category_counts_df\n",
    "paste0(\"Total matrisome genes which are significant DEGs: \", sum(matrisome_category_counts_df$n_genes))"
   ]
  }
 ],
 "metadata": {
  "kernelspec": {
   "display_name": "R",
   "language": "R",
   "name": "ir"
  },
  "language_info": {
   "codemirror_mode": "r",
   "file_extension": ".r",
   "mimetype": "text/x-r-source",
   "name": "R",
   "pygments_lexer": "r",
   "version": "3.6.3"
  }
 },
 "nbformat": 4,
 "nbformat_minor": 4
}
