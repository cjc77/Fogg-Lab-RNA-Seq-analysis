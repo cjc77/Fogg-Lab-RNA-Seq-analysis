{
 "cells": [
  {
   "cell_type": "code",
   "execution_count": 7,
   "metadata": {},
   "outputs": [],
   "source": [
    "library(tidyverse)\n",
    "library(DESeq2)\n",
    "library(BiocParallel)"
   ]
  },
  {
   "cell_type": "code",
   "execution_count": 8,
   "metadata": {},
   "outputs": [],
   "source": [
    "n_cores <- detectCores()\n",
    "BiocParallel::register(MulticoreParam(n_cores))"
   ]
  },
  {
   "cell_type": "markdown",
   "metadata": {},
   "source": [
    "## Constants"
   ]
  },
  {
   "cell_type": "code",
   "execution_count": 9,
   "metadata": {},
   "outputs": [],
   "source": [
    "# Read in root data directory\n",
    "con <- file(\"../dev_paths.txt\", \"r\")\n",
    "data_dir <- readLines(con,n=1)\n",
    "close(con)\n",
    "\n",
    "dsets <- c(\"unified_cervical_data\")\n",
    "dset_paths <- unlist(map(dsets, function(d) paste0(data_dir, \"/\", d)))\n",
    "analysis_dir <- paste(data_dir, \"analysis\", sep = \"/\")\n",
    "matrisome_list <- paste(data_dir, \"matrisome\", \"matrisome_hs_masterlist.tsv\", sep = \"/\")\n",
    "dset_idx <- 1"
   ]
  },
  {
   "cell_type": "markdown",
   "metadata": {},
   "source": [
    "## Functions"
   ]
  },
  {
   "cell_type": "code",
   "execution_count": 10,
   "metadata": {},
   "outputs": [],
   "source": [
    "run_DESeq_and_get_results <- function(dds) {\n",
    "    #We want results without outlier removal or independent filtering since filtering should happen downstream.\n",
    "    #See docs: https://bioconductor.org/packages/devel/bioc/vignettes/DESeq2/inst/doc/DESeq2.html#how-can-i-get-unfiltered-deseq2-results\n",
    "    dds_seq <- DESeq(dds, minReplicatesForReplace = Inf, parallel = TRUE)\n",
    "    res <- results(\n",
    "        dds_seq,\n",
    "        contrast = c(\"condition\", \"tumor\", \"healthy\"),\n",
    "        pAdjustMethod = \"BH\",\n",
    "        cooksCutoff=FALSE,\n",
    "        independentFiltering=FALSE,\n",
    "        parallel = TRUE\n",
    "    )\n",
    "    return(as_tibble(res, rownames = \"geneID\"))\n",
    "}"
   ]
  },
  {
   "cell_type": "markdown",
   "metadata": {},
   "source": [
    "## Read in data"
   ]
  },
  {
   "cell_type": "code",
   "execution_count": 11,
   "metadata": {},
   "outputs": [
    {
     "name": "stderr",
     "output_type": "stream",
     "text": [
      "Parsed with column specification:\n",
      "cols(\n",
      "  .default = col_double(),\n",
      "  Hugo_Symbol = col_character()\n",
      ")\n",
      "See spec(...) for full column specifications.\n",
      "Parsed with column specification:\n",
      "cols(\n",
      "  sample_name = col_character(),\n",
      "  condition = col_character(),\n",
      "  data_source = col_character()\n",
      ")\n"
     ]
    },
    {
     "data": {
      "text/html": [
       "TRUE"
      ],
      "text/latex": [
       "TRUE"
      ],
      "text/markdown": [
       "TRUE"
      ],
      "text/plain": [
       "[1] TRUE"
      ]
     },
     "metadata": {},
     "output_type": "display_data"
    }
   ],
   "source": [
    "counts <- read_tsv(paste0(dset_paths[dset_idx], \"/counts.tsv\")) %>%\n",
    "    select(-\"Entrez_Gene_Id\") %>%\n",
    "    mutate_if(is.numeric, round, 0) %>%\n",
    "    column_to_rownames(var = \"Hugo_Symbol\")\n",
    "coldata <- read_tsv(paste0(dset_paths[dset_idx], \"/coldata.tsv\")) %>%\n",
    "    column_to_rownames(var = \"sample_name\")\n",
    "all(rownames(coldata) == colnames(counts))"
   ]
  },
  {
   "cell_type": "code",
   "execution_count": 12,
   "metadata": {},
   "outputs": [
    {
     "data": {
      "text/html": [
       "13"
      ],
      "text/latex": [
       "13"
      ],
      "text/markdown": [
       "13"
      ],
      "text/plain": [
       "[1] 13"
      ]
     },
     "metadata": {},
     "output_type": "display_data"
    },
    {
     "data": {
      "text/html": [
       "259"
      ],
      "text/latex": [
       "259"
      ],
      "text/markdown": [
       "259"
      ],
      "text/plain": [
       "[1] 259"
      ]
     },
     "metadata": {},
     "output_type": "display_data"
    }
   ],
   "source": [
    "sum(coldata$condition == \"healthy\")\n",
    "sum(coldata$condition == \"tumor\")"
   ]
  },
  {
   "cell_type": "markdown",
   "metadata": {},
   "source": [
    "## RUN DGE Analysis"
   ]
  },
  {
   "cell_type": "markdown",
   "metadata": {},
   "source": [
    "- `dds_naive`: measure the effect of `condition`\n",
    "- `dds_informed`: measure the effect of `condition`, controlling for `data_source` (batch effect)\n",
    "\n",
    "See docs: https://bioconductor.org/packages/devel/bioc/vignettes/DESeq2/inst/doc/DESeq2.html#quick-start"
   ]
  },
  {
   "cell_type": "code",
   "execution_count": 13,
   "metadata": {},
   "outputs": [
    {
     "name": "stderr",
     "output_type": "stream",
     "text": [
      "converting counts to integer mode\n",
      "Warning message in DESeqDataSet(se, design = design, ignoreRank):\n",
      "“some variables in design formula are characters, converting to factors”converting counts to integer mode\n",
      "Warning message in DESeqDataSet(se, design = design, ignoreRank):\n",
      "“some variables in design formula are characters, converting to factors”"
     ]
    }
   ],
   "source": [
    "dds_naive <- DESeqDataSetFromMatrix(\n",
    "    countData = counts,\n",
    "    colData = coldata,\n",
    "    design = ~ condition\n",
    ")\n",
    "\n",
    "dds_informed <- DESeqDataSetFromMatrix(\n",
    "    countData = counts,\n",
    "    colData = coldata,\n",
    "    design = ~ data_source + condition\n",
    ")"
   ]
  },
  {
   "cell_type": "code",
   "execution_count": 14,
   "metadata": {},
   "outputs": [
    {
     "name": "stderr",
     "output_type": "stream",
     "text": [
      "estimating size factors\n",
      "estimating dispersions\n",
      "gene-wise dispersion estimates: 16 workers\n",
      "mean-dispersion relationship\n",
      "final dispersion estimates, fitting model and testing: 16 workers\n",
      "estimating size factors\n",
      "estimating dispersions\n",
      "gene-wise dispersion estimates: 16 workers\n",
      "mean-dispersion relationship\n",
      "final dispersion estimates, fitting model and testing: 16 workers\n"
     ]
    }
   ],
   "source": [
    "dge_res_naive_df <- run_DESeq_and_get_results(dds_naive)\n",
    "dge_res_informed_df <- run_DESeq_and_get_results(dds_informed)"
   ]
  },
  {
   "cell_type": "markdown",
   "metadata": {},
   "source": [
    "### How many significant DEGs? (p-value < 0.05)"
   ]
  },
  {
   "cell_type": "code",
   "execution_count": 15,
   "metadata": {},
   "outputs": [
    {
     "data": {
      "text/html": [
       "11775"
      ],
      "text/latex": [
       "11775"
      ],
      "text/markdown": [
       "11775"
      ],
      "text/plain": [
       "[1] 11775"
      ]
     },
     "metadata": {},
     "output_type": "display_data"
    },
    {
     "data": {
      "text/html": [
       "4624"
      ],
      "text/latex": [
       "4624"
      ],
      "text/markdown": [
       "4624"
      ],
      "text/plain": [
       "[1] 4624"
      ]
     },
     "metadata": {},
     "output_type": "display_data"
    }
   ],
   "source": [
    "sig_dge_res_naive_df <- dplyr::filter(dge_res_naive_df, padj < 0.05)\n",
    "sig_dge_res_informed_df <- dplyr::filter(dge_res_informed_df, padj < 0.05)\n",
    "nrow(sig_dge_res_naive_df)\n",
    "nrow(sig_dge_res_informed_df)"
   ]
  },
  {
   "cell_type": "markdown",
   "metadata": {},
   "source": [
    "## Save results"
   ]
  },
  {
   "cell_type": "code",
   "execution_count": 16,
   "metadata": {},
   "outputs": [],
   "source": [
    "write_tsv(dge_res_informed_df, paste0(analysis_dir, \"/\", dsets[dset_idx], \"_unfiltered_DESeq_results.tsv\"))"
   ]
  }
 ],
 "metadata": {
  "kernelspec": {
   "display_name": "R",
   "language": "R",
   "name": "ir"
  },
  "language_info": {
   "codemirror_mode": "r",
   "file_extension": ".r",
   "mimetype": "text/x-r-source",
   "name": "R",
   "pygments_lexer": "r",
   "version": "3.6.3"
  }
 },
 "nbformat": 4,
 "nbformat_minor": 4
}
