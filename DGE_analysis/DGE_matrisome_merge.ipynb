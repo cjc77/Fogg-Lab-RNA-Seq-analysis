{
 "cells": [
  {
   "cell_type": "code",
   "execution_count": null,
   "metadata": {},
   "outputs": [],
   "source": [
    "library(tidyverse)"
   ]
  },
  {
   "cell_type": "markdown",
   "metadata": {},
   "source": [
    "## Constants"
   ]
  },
  {
   "cell_type": "code",
   "execution_count": null,
   "metadata": {},
   "outputs": [],
   "source": [
    "data_dir <- \"../../../../../mnt/d\"\n",
    "analysis_dir <- paste0(data_dir, \"/\", \"unified_TCGA_GTEx/analysis\")\n",
    "master_list <- \"matrisome/matrisome_hs_masterlist.tsv\"\n",
    "DEG_list <- \"unified_TCGA_GTEx/analysis/unified_cervical_data_DGE_padj0.05.tsv\""
   ]
  },
  {
   "cell_type": "code",
   "execution_count": null,
   "metadata": {},
   "outputs": [],
   "source": [
    "DEG_df <- read_tsv(paste0(data_dir, \"/\", DEG_list))\n",
    "# some cells have double quotes inside of them\n",
    "matrisome_df <- read_tsv(paste0(data_dir, \"/\", master_list), quote = \"\")\n",
    "colnames(matrisome_df) <- map(sub(\" \", \"_\", colnames(matrisome_df)), tolower)\n",
    "matrisome_df <- select(matrisome_df, gene_symbol, everything()) %>%\n",
    "    dplyr::filter(division != \"Retired\")"
   ]
  },
  {
   "cell_type": "code",
   "execution_count": null,
   "metadata": {},
   "outputs": [],
   "source": [
    "# Importand for next step that this is FALSE\n",
    "any(is.na(matrisome_df$division))"
   ]
  },
  {
   "cell_type": "code",
   "execution_count": null,
   "metadata": {},
   "outputs": [],
   "source": [
    "joined_df <- left_join(DEG_df, matrisome_df, by = c(\"geneID\" = \"gene_symbol\")) %>%\n",
    "    mutate(in_matrisome = !is.na(division)) %>%    # We know a priori that division is never NA\n",
    "    select(geneID:padj, in_matrisome, everything())"
   ]
  },
  {
   "cell_type": "code",
   "execution_count": null,
   "metadata": {},
   "outputs": [],
   "source": [
    "nrow(DEG_df) == nrow(joined_df)    # This must be true since we want to retain all DEGs\n",
    "head(joined_df)"
   ]
  },
  {
   "cell_type": "code",
   "execution_count": null,
   "metadata": {},
   "outputs": [],
   "source": [
    "category_counts_df <- joined_df %>% count(category) %>%\n",
    "    mutate(n_genes = n) %>%\n",
    "    select(-n) %>%\n",
    "    filter(!is.na(category))\n",
    "\n",
    "category_counts_df"
   ]
  },
  {
   "cell_type": "code",
   "execution_count": null,
   "metadata": {},
   "outputs": [],
   "source": [
    "write_tsv(joined_df, paste0(analysis_dir, \"/\", \"unified_cervical_DGE_matrisome_left_join.tsv\"))\n",
    "write_tsv(category_counts_df, paste0(analysis_dir, \"/\", \"unified_cervical_DGE_matrisome_category_counts.tsv\"))"
   ]
  }
 ],
 "metadata": {
  "kernelspec": {
   "display_name": "R",
   "language": "R",
   "name": "ir"
  },
  "language_info": {
   "codemirror_mode": "r",
   "file_extension": ".r",
   "mimetype": "text/x-r-source",
   "name": "R",
   "pygments_lexer": "r",
   "version": "3.6.3"
  }
 },
 "nbformat": 4,
 "nbformat_minor": 4
}
