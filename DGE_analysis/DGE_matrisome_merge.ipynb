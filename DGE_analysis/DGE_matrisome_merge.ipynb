{
 "cells": [
  {
   "cell_type": "code",
   "execution_count": 1,
   "metadata": {},
   "outputs": [
    {
     "name": "stderr",
     "output_type": "stream",
     "text": [
      "── Attaching packages ─────────────────────────────────────── tidyverse 1.3.0 ──\n",
      "✔ ggplot2 3.3.2     ✔ purrr   0.3.4\n",
      "✔ tibble  3.0.3     ✔ dplyr   1.0.0\n",
      "✔ tidyr   1.1.0     ✔ stringr 1.4.0\n",
      "✔ readr   1.3.1     ✔ forcats 0.5.0\n",
      "── Conflicts ────────────────────────────────────────── tidyverse_conflicts() ──\n",
      "✖ dplyr::filter() masks stats::filter()\n",
      "✖ dplyr::lag()    masks stats::lag()\n"
     ]
    }
   ],
   "source": [
    "library(tidyverse)"
   ]
  },
  {
   "cell_type": "markdown",
   "metadata": {},
   "source": [
    "## Constants"
   ]
  },
  {
   "cell_type": "code",
   "execution_count": 95,
   "metadata": {},
   "outputs": [],
   "source": [
    "data_dir <- \"../../../../../mnt/d\"\n",
    "analysis_dir <- paste0(data_dir, \"/\", \"unified_TCGA_GTEx/analysis\")\n",
    "master_list <- \"matrisome/matrisome_hs_masterlist.tsv\"\n",
    "DEG_list <- \"unified_TCGA_GTEx/analysis/unified_cervical_data_DGE_padj0.05.tsv\""
   ]
  },
  {
   "cell_type": "code",
   "execution_count": 74,
   "metadata": {},
   "outputs": [
    {
     "name": "stderr",
     "output_type": "stream",
     "text": [
      "Parsed with column specification:\n",
      "cols(\n",
      "  geneID = col_character(),\n",
      "  baseMean = col_double(),\n",
      "  log2FoldChange = col_double(),\n",
      "  lfcSE = col_double(),\n",
      "  stat = col_double(),\n",
      "  pvalue = col_double(),\n",
      "  padj = col_double()\n",
      ")\n",
      "Parsed with column specification:\n",
      "cols(\n",
      "  Division = col_character(),\n",
      "  Category = col_character(),\n",
      "  `Gene Symbol` = col_character(),\n",
      "  `Gene Name` = col_character(),\n",
      "  Synonyms = col_character(),\n",
      "  HGNC_IDs = col_double(),\n",
      "  `HGNC_IDs Links` = col_double(),\n",
      "  UniProt_IDs = col_character(),\n",
      "  Refseq_IDs = col_character(),\n",
      "  Orthology = col_character(),\n",
      "  Notes = col_character()\n",
      ")\n"
     ]
    }
   ],
   "source": [
    "DEG_df <- read_tsv(paste0(data_dir, \"/\", DEG_list))\n",
    "# some cells have double quotes inside of them\n",
    "matrisome_df <- read_tsv(paste0(data_dir, \"/\", master_list), quote = \"\")\n",
    "colnames(matrisome_df) <- map(sub(\" \", \"_\", colnames(matrisome_df)), tolower)\n",
    "matrisome_df <- select(matrisome_df, gene_symbol, everything()) %>%\n",
    "    dplyr::filter(division != \"Retired\")"
   ]
  },
  {
   "cell_type": "code",
   "execution_count": 75,
   "metadata": {},
   "outputs": [
    {
     "data": {
      "text/html": [
       "FALSE"
      ],
      "text/latex": [
       "FALSE"
      ],
      "text/markdown": [
       "FALSE"
      ],
      "text/plain": [
       "[1] FALSE"
      ]
     },
     "metadata": {},
     "output_type": "display_data"
    }
   ],
   "source": [
    "# Importand for next step that this is FALSE\n",
    "any(is.na(matrisome_df$division))"
   ]
  },
  {
   "cell_type": "code",
   "execution_count": 84,
   "metadata": {},
   "outputs": [],
   "source": [
    "joined_df <- left_join(DEG_df, matrisome_df, by = c(\"geneID\" = \"gene_symbol\")) %>%\n",
    "    mutate(in_matrisome = !is.na(division)) %>%    # We know a priori that division is never NA\n",
    "    select(geneID:padj, in_matrisome, everything())"
   ]
  },
  {
   "cell_type": "code",
   "execution_count": 86,
   "metadata": {},
   "outputs": [
    {
     "data": {
      "text/html": [
       "TRUE"
      ],
      "text/latex": [
       "TRUE"
      ],
      "text/markdown": [
       "TRUE"
      ],
      "text/plain": [
       "[1] TRUE"
      ]
     },
     "metadata": {},
     "output_type": "display_data"
    },
    {
     "data": {
      "text/html": [
       "<table>\n",
       "<caption>A tibble: 6 × 18</caption>\n",
       "<thead>\n",
       "\t<tr><th scope=col>geneID</th><th scope=col>baseMean</th><th scope=col>log2FoldChange</th><th scope=col>lfcSE</th><th scope=col>stat</th><th scope=col>pvalue</th><th scope=col>padj</th><th scope=col>in_matrisome</th><th scope=col>division</th><th scope=col>category</th><th scope=col>gene_name</th><th scope=col>synonyms</th><th scope=col>hgnc_ids</th><th scope=col>hgnc_ids_links</th><th scope=col>uniprot_ids</th><th scope=col>refseq_ids</th><th scope=col>orthology</th><th scope=col>notes</th></tr>\n",
       "\t<tr><th scope=col>&lt;chr&gt;</th><th scope=col>&lt;dbl&gt;</th><th scope=col>&lt;dbl&gt;</th><th scope=col>&lt;dbl&gt;</th><th scope=col>&lt;dbl&gt;</th><th scope=col>&lt;dbl&gt;</th><th scope=col>&lt;dbl&gt;</th><th scope=col>&lt;lgl&gt;</th><th scope=col>&lt;chr&gt;</th><th scope=col>&lt;chr&gt;</th><th scope=col>&lt;chr&gt;</th><th scope=col>&lt;chr&gt;</th><th scope=col>&lt;dbl&gt;</th><th scope=col>&lt;dbl&gt;</th><th scope=col>&lt;chr&gt;</th><th scope=col>&lt;chr&gt;</th><th scope=col>&lt;chr&gt;</th><th scope=col>&lt;chr&gt;</th></tr>\n",
       "</thead>\n",
       "<tbody>\n",
       "\t<tr><td>RADIL </td><td> 104.93138</td><td>-3.1693618</td><td>0.4553155</td><td> -6.960803</td><td>3.383386e-12</td><td>2.413245e-11</td><td>FALSE</td><td>NA</td><td>NA</td><td>NA</td><td>NA</td><td>NA</td><td>NA</td><td>NA</td><td>NA</td><td>NA</td><td>NA</td></tr>\n",
       "\t<tr><td>AP1M2 </td><td>3876.50373</td><td> 2.7277278</td><td>0.2544959</td><td> 10.718161</td><td>8.364960e-27</td><td>2.526089e-25</td><td>FALSE</td><td>NA</td><td>NA</td><td>NA</td><td>NA</td><td>NA</td><td>NA</td><td>NA</td><td>NA</td><td>NA</td><td>NA</td></tr>\n",
       "\t<tr><td>TAF1  </td><td>2646.98788</td><td>-0.4107185</td><td>0.1451662</td><td> -2.829299</td><td>4.665009e-03</td><td>9.166112e-03</td><td>FALSE</td><td>NA</td><td>NA</td><td>NA</td><td>NA</td><td>NA</td><td>NA</td><td>NA</td><td>NA</td><td>NA</td><td>NA</td></tr>\n",
       "\t<tr><td>KLF1  </td><td>   6.54729</td><td> 2.9105572</td><td>0.5875117</td><td>  4.954041</td><td>7.268772e-07</td><td>2.652257e-06</td><td>FALSE</td><td>NA</td><td>NA</td><td>NA</td><td>NA</td><td>NA</td><td>NA</td><td>NA</td><td>NA</td><td>NA</td><td>NA</td></tr>\n",
       "\t<tr><td>USHBP1</td><td>  83.24046</td><td>-3.7332879</td><td>0.2856996</td><td>-13.067180</td><td>5.071048e-39</td><td>3.374224e-37</td><td>FALSE</td><td>NA</td><td>NA</td><td>NA</td><td>NA</td><td>NA</td><td>NA</td><td>NA</td><td>NA</td><td>NA</td><td>NA</td></tr>\n",
       "\t<tr><td>SGCA  </td><td>  61.36091</td><td>-5.3402712</td><td>0.4588713</td><td>-11.637840</td><td>2.646313e-31</td><td>1.071020e-29</td><td>FALSE</td><td>NA</td><td>NA</td><td>NA</td><td>NA</td><td>NA</td><td>NA</td><td>NA</td><td>NA</td><td>NA</td><td>NA</td></tr>\n",
       "</tbody>\n",
       "</table>\n"
      ],
      "text/latex": [
       "A tibble: 6 × 18\n",
       "\\begin{tabular}{llllllllllllllllll}\n",
       " geneID & baseMean & log2FoldChange & lfcSE & stat & pvalue & padj & in\\_matrisome & division & category & gene\\_name & synonyms & hgnc\\_ids & hgnc\\_ids\\_links & uniprot\\_ids & refseq\\_ids & orthology & notes\\\\\n",
       " <chr> & <dbl> & <dbl> & <dbl> & <dbl> & <dbl> & <dbl> & <lgl> & <chr> & <chr> & <chr> & <chr> & <dbl> & <dbl> & <chr> & <chr> & <chr> & <chr>\\\\\n",
       "\\hline\n",
       "\t RADIL  &  104.93138 & -3.1693618 & 0.4553155 &  -6.960803 & 3.383386e-12 & 2.413245e-11 & FALSE & NA & NA & NA & NA & NA & NA & NA & NA & NA & NA\\\\\n",
       "\t AP1M2  & 3876.50373 &  2.7277278 & 0.2544959 &  10.718161 & 8.364960e-27 & 2.526089e-25 & FALSE & NA & NA & NA & NA & NA & NA & NA & NA & NA & NA\\\\\n",
       "\t TAF1   & 2646.98788 & -0.4107185 & 0.1451662 &  -2.829299 & 4.665009e-03 & 9.166112e-03 & FALSE & NA & NA & NA & NA & NA & NA & NA & NA & NA & NA\\\\\n",
       "\t KLF1   &    6.54729 &  2.9105572 & 0.5875117 &   4.954041 & 7.268772e-07 & 2.652257e-06 & FALSE & NA & NA & NA & NA & NA & NA & NA & NA & NA & NA\\\\\n",
       "\t USHBP1 &   83.24046 & -3.7332879 & 0.2856996 & -13.067180 & 5.071048e-39 & 3.374224e-37 & FALSE & NA & NA & NA & NA & NA & NA & NA & NA & NA & NA\\\\\n",
       "\t SGCA   &   61.36091 & -5.3402712 & 0.4588713 & -11.637840 & 2.646313e-31 & 1.071020e-29 & FALSE & NA & NA & NA & NA & NA & NA & NA & NA & NA & NA\\\\\n",
       "\\end{tabular}\n"
      ],
      "text/markdown": [
       "\n",
       "A tibble: 6 × 18\n",
       "\n",
       "| geneID &lt;chr&gt; | baseMean &lt;dbl&gt; | log2FoldChange &lt;dbl&gt; | lfcSE &lt;dbl&gt; | stat &lt;dbl&gt; | pvalue &lt;dbl&gt; | padj &lt;dbl&gt; | in_matrisome &lt;lgl&gt; | division &lt;chr&gt; | category &lt;chr&gt; | gene_name &lt;chr&gt; | synonyms &lt;chr&gt; | hgnc_ids &lt;dbl&gt; | hgnc_ids_links &lt;dbl&gt; | uniprot_ids &lt;chr&gt; | refseq_ids &lt;chr&gt; | orthology &lt;chr&gt; | notes &lt;chr&gt; |\n",
       "|---|---|---|---|---|---|---|---|---|---|---|---|---|---|---|---|---|---|\n",
       "| RADIL  |  104.93138 | -3.1693618 | 0.4553155 |  -6.960803 | 3.383386e-12 | 2.413245e-11 | FALSE | NA | NA | NA | NA | NA | NA | NA | NA | NA | NA |\n",
       "| AP1M2  | 3876.50373 |  2.7277278 | 0.2544959 |  10.718161 | 8.364960e-27 | 2.526089e-25 | FALSE | NA | NA | NA | NA | NA | NA | NA | NA | NA | NA |\n",
       "| TAF1   | 2646.98788 | -0.4107185 | 0.1451662 |  -2.829299 | 4.665009e-03 | 9.166112e-03 | FALSE | NA | NA | NA | NA | NA | NA | NA | NA | NA | NA |\n",
       "| KLF1   |    6.54729 |  2.9105572 | 0.5875117 |   4.954041 | 7.268772e-07 | 2.652257e-06 | FALSE | NA | NA | NA | NA | NA | NA | NA | NA | NA | NA |\n",
       "| USHBP1 |   83.24046 | -3.7332879 | 0.2856996 | -13.067180 | 5.071048e-39 | 3.374224e-37 | FALSE | NA | NA | NA | NA | NA | NA | NA | NA | NA | NA |\n",
       "| SGCA   |   61.36091 | -5.3402712 | 0.4588713 | -11.637840 | 2.646313e-31 | 1.071020e-29 | FALSE | NA | NA | NA | NA | NA | NA | NA | NA | NA | NA |\n",
       "\n"
      ],
      "text/plain": [
       "  geneID baseMean   log2FoldChange lfcSE     stat       pvalue      \n",
       "1 RADIL   104.93138 -3.1693618     0.4553155  -6.960803 3.383386e-12\n",
       "2 AP1M2  3876.50373  2.7277278     0.2544959  10.718161 8.364960e-27\n",
       "3 TAF1   2646.98788 -0.4107185     0.1451662  -2.829299 4.665009e-03\n",
       "4 KLF1      6.54729  2.9105572     0.5875117   4.954041 7.268772e-07\n",
       "5 USHBP1   83.24046 -3.7332879     0.2856996 -13.067180 5.071048e-39\n",
       "6 SGCA     61.36091 -5.3402712     0.4588713 -11.637840 2.646313e-31\n",
       "  padj         in_matrisome division category gene_name synonyms hgnc_ids\n",
       "1 2.413245e-11 FALSE        NA       NA       NA        NA       NA      \n",
       "2 2.526089e-25 FALSE        NA       NA       NA        NA       NA      \n",
       "3 9.166112e-03 FALSE        NA       NA       NA        NA       NA      \n",
       "4 2.652257e-06 FALSE        NA       NA       NA        NA       NA      \n",
       "5 3.374224e-37 FALSE        NA       NA       NA        NA       NA      \n",
       "6 1.071020e-29 FALSE        NA       NA       NA        NA       NA      \n",
       "  hgnc_ids_links uniprot_ids refseq_ids orthology notes\n",
       "1 NA             NA          NA         NA        NA   \n",
       "2 NA             NA          NA         NA        NA   \n",
       "3 NA             NA          NA         NA        NA   \n",
       "4 NA             NA          NA         NA        NA   \n",
       "5 NA             NA          NA         NA        NA   \n",
       "6 NA             NA          NA         NA        NA   "
      ]
     },
     "metadata": {},
     "output_type": "display_data"
    }
   ],
   "source": [
    "nrow(DEG_df) == nrow(joined_df)    # This must be true since we want to retain all DEGs\n",
    "head(joined_df)"
   ]
  },
  {
   "cell_type": "code",
   "execution_count": 93,
   "metadata": {},
   "outputs": [
    {
     "data": {
      "text/html": [
       "<table>\n",
       "<caption>A tibble: 6 × 2</caption>\n",
       "<thead>\n",
       "\t<tr><th scope=col>category</th><th scope=col>n_genes</th></tr>\n",
       "\t<tr><th scope=col>&lt;chr&gt;</th><th scope=col>&lt;int&gt;</th></tr>\n",
       "</thead>\n",
       "<tbody>\n",
       "\t<tr><td>Collagens              </td><td> 30</td></tr>\n",
       "\t<tr><td>ECM Glycoproteins      </td><td>122</td></tr>\n",
       "\t<tr><td>ECM Regulators         </td><td>150</td></tr>\n",
       "\t<tr><td>ECM-affiliated Proteins</td><td>104</td></tr>\n",
       "\t<tr><td>Proteoglycans          </td><td> 24</td></tr>\n",
       "\t<tr><td>Secreted Factors       </td><td>195</td></tr>\n",
       "</tbody>\n",
       "</table>\n"
      ],
      "text/latex": [
       "A tibble: 6 × 2\n",
       "\\begin{tabular}{ll}\n",
       " category & n\\_genes\\\\\n",
       " <chr> & <int>\\\\\n",
       "\\hline\n",
       "\t Collagens               &  30\\\\\n",
       "\t ECM Glycoproteins       & 122\\\\\n",
       "\t ECM Regulators          & 150\\\\\n",
       "\t ECM-affiliated Proteins & 104\\\\\n",
       "\t Proteoglycans           &  24\\\\\n",
       "\t Secreted Factors        & 195\\\\\n",
       "\\end{tabular}\n"
      ],
      "text/markdown": [
       "\n",
       "A tibble: 6 × 2\n",
       "\n",
       "| category &lt;chr&gt; | n_genes &lt;int&gt; |\n",
       "|---|---|\n",
       "| Collagens               |  30 |\n",
       "| ECM Glycoproteins       | 122 |\n",
       "| ECM Regulators          | 150 |\n",
       "| ECM-affiliated Proteins | 104 |\n",
       "| Proteoglycans           |  24 |\n",
       "| Secreted Factors        | 195 |\n",
       "\n"
      ],
      "text/plain": [
       "  category                n_genes\n",
       "1 Collagens                30    \n",
       "2 ECM Glycoproteins       122    \n",
       "3 ECM Regulators          150    \n",
       "4 ECM-affiliated Proteins 104    \n",
       "5 Proteoglycans            24    \n",
       "6 Secreted Factors        195    "
      ]
     },
     "metadata": {},
     "output_type": "display_data"
    }
   ],
   "source": [
    "category_counts_df <- joined_df %>% count(category) %>%\n",
    "    mutate(n_genes = n) %>%\n",
    "    select(-n) %>%\n",
    "    filter(!is.na(category))\n",
    "\n",
    "category_counts_df"
   ]
  },
  {
   "cell_type": "code",
   "execution_count": 96,
   "metadata": {},
   "outputs": [],
   "source": [
    "write_tsv(joined_df, paste0(analysis_dir, \"/\", \"DGE_matrisome_left_join.tsv\"))\n",
    "write_tsv(category_counts_df, paste0(analysis_dir, \"/\", \"DGE_matrisome_category_counts.tsv\"))"
   ]
  }
 ],
 "metadata": {
  "kernelspec": {
   "display_name": "R",
   "language": "R",
   "name": "ir"
  },
  "language_info": {
   "codemirror_mode": "r",
   "file_extension": ".r",
   "mimetype": "text/x-r-source",
   "name": "R",
   "pygments_lexer": "r",
   "version": "3.6.3"
  }
 },
 "nbformat": 4,
 "nbformat_minor": 4
}
