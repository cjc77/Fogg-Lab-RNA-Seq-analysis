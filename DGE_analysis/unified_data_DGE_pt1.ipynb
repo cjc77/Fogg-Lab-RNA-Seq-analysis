{
 "cells": [
  {
   "cell_type": "code",
   "execution_count": 1,
   "metadata": {
    "collapsed": true,
    "jupyter": {
     "outputs_hidden": true
    }
   },
   "outputs": [
    {
     "name": "stderr",
     "output_type": "stream",
     "text": [
      "── Attaching packages ─────────────────────────────────────── tidyverse 1.3.0 ──\n",
      "✔ ggplot2 3.3.2     ✔ purrr   0.3.4\n",
      "✔ tibble  3.0.3     ✔ dplyr   1.0.0\n",
      "✔ tidyr   1.1.0     ✔ stringr 1.4.0\n",
      "✔ readr   1.3.1     ✔ forcats 0.5.0\n",
      "── Conflicts ────────────────────────────────────────── tidyverse_conflicts() ──\n",
      "✖ dplyr::filter() masks stats::filter()\n",
      "✖ dplyr::lag()    masks stats::lag()\n",
      "Loading required package: S4Vectors\n",
      "Loading required package: stats4\n",
      "Loading required package: BiocGenerics\n",
      "Loading required package: parallel\n",
      "\n",
      "Attaching package: ‘BiocGenerics’\n",
      "\n",
      "The following objects are masked from ‘package:parallel’:\n",
      "\n",
      "    clusterApply, clusterApplyLB, clusterCall, clusterEvalQ,\n",
      "    clusterExport, clusterMap, parApply, parCapply, parLapply,\n",
      "    parLapplyLB, parRapply, parSapply, parSapplyLB\n",
      "\n",
      "The following objects are masked from ‘package:dplyr’:\n",
      "\n",
      "    combine, intersect, setdiff, union\n",
      "\n",
      "The following objects are masked from ‘package:stats’:\n",
      "\n",
      "    IQR, mad, sd, var, xtabs\n",
      "\n",
      "The following objects are masked from ‘package:base’:\n",
      "\n",
      "    anyDuplicated, append, as.data.frame, basename, cbind, colnames,\n",
      "    dirname, do.call, duplicated, eval, evalq, Filter, Find, get, grep,\n",
      "    grepl, intersect, is.unsorted, lapply, Map, mapply, match, mget,\n",
      "    order, paste, pmax, pmax.int, pmin, pmin.int, Position, rank,\n",
      "    rbind, Reduce, rownames, sapply, setdiff, sort, table, tapply,\n",
      "    union, unique, unsplit, which, which.max, which.min\n",
      "\n",
      "\n",
      "Attaching package: ‘S4Vectors’\n",
      "\n",
      "The following objects are masked from ‘package:dplyr’:\n",
      "\n",
      "    first, rename\n",
      "\n",
      "The following object is masked from ‘package:tidyr’:\n",
      "\n",
      "    expand\n",
      "\n",
      "The following object is masked from ‘package:base’:\n",
      "\n",
      "    expand.grid\n",
      "\n",
      "Loading required package: IRanges\n",
      "\n",
      "Attaching package: ‘IRanges’\n",
      "\n",
      "The following objects are masked from ‘package:dplyr’:\n",
      "\n",
      "    collapse, desc, slice\n",
      "\n",
      "The following object is masked from ‘package:purrr’:\n",
      "\n",
      "    reduce\n",
      "\n",
      "Loading required package: GenomicRanges\n",
      "Loading required package: GenomeInfoDb\n",
      "Loading required package: SummarizedExperiment\n",
      "Loading required package: Biobase\n",
      "Welcome to Bioconductor\n",
      "\n",
      "    Vignettes contain introductory material; view with\n",
      "    'browseVignettes()'. To cite Bioconductor, see\n",
      "    'citation(\"Biobase\")', and for packages 'citation(\"pkgname\")'.\n",
      "\n",
      "Loading required package: DelayedArray\n",
      "Loading required package: matrixStats\n",
      "\n",
      "Attaching package: ‘matrixStats’\n",
      "\n",
      "The following objects are masked from ‘package:Biobase’:\n",
      "\n",
      "    anyMissing, rowMedians\n",
      "\n",
      "The following object is masked from ‘package:dplyr’:\n",
      "\n",
      "    count\n",
      "\n",
      "Loading required package: BiocParallel\n",
      "\n",
      "Attaching package: ‘DelayedArray’\n",
      "\n",
      "The following objects are masked from ‘package:matrixStats’:\n",
      "\n",
      "    colMaxs, colMins, colRanges, rowMaxs, rowMins, rowRanges\n",
      "\n",
      "The following object is masked from ‘package:purrr’:\n",
      "\n",
      "    simplify\n",
      "\n",
      "The following objects are masked from ‘package:base’:\n",
      "\n",
      "    aperm, apply, rowsum\n",
      "\n"
     ]
    }
   ],
   "source": [
    "library(tidyverse)\n",
    "library(TCGAbiolinks)\n",
    "library(DESeq2)\n",
    "library(BiocParallel)"
   ]
  },
  {
   "cell_type": "code",
   "execution_count": 2,
   "metadata": {},
   "outputs": [],
   "source": [
    "n_cores <- detectCores()\n",
    "BiocParallel::register(MulticoreParam(n_cores))"
   ]
  },
  {
   "cell_type": "markdown",
   "metadata": {},
   "source": [
    "## Functions"
   ]
  },
  {
   "cell_type": "code",
   "execution_count": 3,
   "metadata": {},
   "outputs": [],
   "source": [
    "# Filter out rows (genes) which are not expressed in any sample\n",
    "filter_unexpressed <- function(d) {\n",
    "    not_expr_mask <- rowSums(DESeq2::counts(d)) == 0\n",
    "    return(d[!not_expr_mask, ])\n",
    "}"
   ]
  },
  {
   "cell_type": "markdown",
   "metadata": {},
   "source": [
    "## Set Constants"
   ]
  },
  {
   "cell_type": "code",
   "execution_count": 4,
   "metadata": {},
   "outputs": [],
   "source": [
    "data_dir <- \"../../../../../mnt/d/unified_TCGA_GTEx\"\n",
    "dsets <- c(\"unified_cervical_data\", \"unified_uterine_data\")\n",
    "dset_paths <- unlist(map(dsets, function(d) paste0(data_dir, \"/\", d)))\n",
    "dset_idx <- 1"
   ]
  },
  {
   "cell_type": "markdown",
   "metadata": {},
   "source": [
    "## Load in data\n",
    "Must be loaded in as `DESeq2()` expects to receive it:\n",
    "- `counts` must have gene identifiers as its `rownames()` attribute\n",
    "- `counts` must contain integer values\n",
    "- `coldata` must have sample IDs as its `rownames()` attribute\n",
    "- we must verify that ordering is consistent between `counts` and `coldata`"
   ]
  },
  {
   "cell_type": "code",
   "execution_count": 5,
   "metadata": {},
   "outputs": [
    {
     "name": "stderr",
     "output_type": "stream",
     "text": [
      "Parsed with column specification:\n",
      "cols(\n",
      "  .default = col_double(),\n",
      "  Hugo_Symbol = col_character()\n",
      ")\n",
      "See spec(...) for full column specifications.\n",
      "Parsed with column specification:\n",
      "cols(\n",
      "  sample_name = col_character(),\n",
      "  condition = col_character(),\n",
      "  data_source = col_character()\n",
      ")\n"
     ]
    },
    {
     "data": {
      "text/html": [
       "TRUE"
      ],
      "text/latex": [
       "TRUE"
      ],
      "text/markdown": [
       "TRUE"
      ],
      "text/plain": [
       "[1] TRUE"
      ]
     },
     "metadata": {},
     "output_type": "display_data"
    }
   ],
   "source": [
    "counts <- read_tsv(paste0(dset_paths[dset_idx], \"/counts.tsv\")) %>%\n",
    "    select(-\"Entrez_Gene_Id\") %>%\n",
    "    mutate_if(is.numeric, round, 0) %>%\n",
    "    column_to_rownames(var = \"Hugo_Symbol\")\n",
    "coldata <- read_tsv(paste0(dset_paths[dset_idx], \"/coldata.tsv\")) %>%\n",
    "    column_to_rownames(var = \"sample_name\")\n",
    "all(rownames(coldata) == colnames(counts))"
   ]
  },
  {
   "cell_type": "markdown",
   "metadata": {},
   "source": [
    "## Build a `DESeqDataSet` from the loaded data"
   ]
  },
  {
   "cell_type": "code",
   "execution_count": 6,
   "metadata": {},
   "outputs": [
    {
     "name": "stderr",
     "output_type": "stream",
     "text": [
      "converting counts to integer mode\n",
      "Warning message in DESeqDataSet(se, design = design, ignoreRank):\n",
      "“some variables in design formula are characters, converting to factors”"
     ]
    }
   ],
   "source": [
    "dds <- DESeqDataSetFromMatrix(countData = counts,\n",
    "                              colData = coldata,\n",
    "                              design = ~ condition)"
   ]
  },
  {
   "cell_type": "code",
   "execution_count": 7,
   "metadata": {},
   "outputs": [
    {
     "data": {
      "text/plain": [
       "class: DESeqDataSet \n",
       "dim: 20242 272 \n",
       "metadata(1): version\n",
       "assays(1): counts\n",
       "rownames(20242): FAM208A RADIL ... SNRNP48 C9orf171\n",
       "rowData names(0):\n",
       "colnames(272): GTEX-S32W-1626-SM-4AD6G GTEX-S32W-1526-SM-4AD6Z ...\n",
       "  TCGA-C5-A1MN-01A-11R-A14Y-07 TCGA-Q1-A6DT-01A-11R-A32P-07\n",
       "colData names(2): condition data_source"
      ]
     },
     "metadata": {},
     "output_type": "display_data"
    }
   ],
   "source": [
    "dds"
   ]
  },
  {
   "cell_type": "code",
   "execution_count": 8,
   "metadata": {},
   "outputs": [
    {
     "data": {
      "text/html": [
       "13"
      ],
      "text/latex": [
       "13"
      ],
      "text/markdown": [
       "13"
      ],
      "text/plain": [
       "[1] 13"
      ]
     },
     "metadata": {},
     "output_type": "display_data"
    },
    {
     "data": {
      "text/html": [
       "259"
      ],
      "text/latex": [
       "259"
      ],
      "text/markdown": [
       "259"
      ],
      "text/plain": [
       "[1] 259"
      ]
     },
     "metadata": {},
     "output_type": "display_data"
    }
   ],
   "source": [
    "sum(coldata$condition == \"healthy\")\n",
    "sum(coldata$condition == \"tumor\")"
   ]
  },
  {
   "cell_type": "markdown",
   "metadata": {},
   "source": [
    "## Filter out genes which are not expressed in any sample (in either condition)"
   ]
  },
  {
   "cell_type": "code",
   "execution_count": 9,
   "metadata": {},
   "outputs": [],
   "source": [
    "dds_filtered <- filter_unexpressed(dds)"
   ]
  },
  {
   "cell_type": "code",
   "execution_count": 10,
   "metadata": {},
   "outputs": [
    {
     "data": {
      "text/plain": [
       "class: DESeqDataSet \n",
       "dim: 20018 272 \n",
       "metadata(1): version\n",
       "assays(1): counts\n",
       "rownames(20018): FAM208A RADIL ... SNRNP48 C9orf171\n",
       "rowData names(0):\n",
       "colnames(272): GTEX-S32W-1626-SM-4AD6G GTEX-S32W-1526-SM-4AD6Z ...\n",
       "  TCGA-C5-A1MN-01A-11R-A14Y-07 TCGA-Q1-A6DT-01A-11R-A32P-07\n",
       "colData names(2): condition data_source"
      ]
     },
     "metadata": {},
     "output_type": "display_data"
    }
   ],
   "source": [
    "dds_filtered"
   ]
  },
  {
   "cell_type": "markdown",
   "metadata": {},
   "source": [
    "## Run DGE Analysis"
   ]
  },
  {
   "cell_type": "code",
   "execution_count": 11,
   "metadata": {},
   "outputs": [
    {
     "name": "stderr",
     "output_type": "stream",
     "text": [
      "estimating size factors\n",
      "estimating dispersions\n",
      "gene-wise dispersion estimates: 16 workers\n",
      "mean-dispersion relationship\n",
      "final dispersion estimates, fitting model and testing: 16 workers\n",
      "-- replacing outliers and refitting for 2411 genes\n",
      "-- DESeq argument 'minReplicatesForReplace' = 7 \n",
      "-- original counts are preserved in counts(dds)\n",
      "estimating dispersions\n",
      "fitting model and testing\n"
     ]
    }
   ],
   "source": [
    "ddsSeq <- DESeq(dds_filtered, parallel = TRUE)"
   ]
  },
  {
   "cell_type": "code",
   "execution_count": 12,
   "metadata": {},
   "outputs": [
    {
     "data": {
      "text/html": [
       "<style>\n",
       ".list-inline {list-style: none; margin:0; padding: 0}\n",
       ".list-inline>li {display: inline-block}\n",
       ".list-inline>li:not(:last-child)::after {content: \"\\00b7\"; padding: 0 .5ex}\n",
       "</style>\n",
       "<ol class=list-inline><li>'Intercept'</li><li>'condition_tumor_vs_healthy'</li></ol>\n"
      ],
      "text/latex": [
       "\\begin{enumerate*}\n",
       "\\item 'Intercept'\n",
       "\\item 'condition\\_tumor\\_vs\\_healthy'\n",
       "\\end{enumerate*}\n"
      ],
      "text/markdown": [
       "1. 'Intercept'\n",
       "2. 'condition_tumor_vs_healthy'\n",
       "\n",
       "\n"
      ],
      "text/plain": [
       "[1] \"Intercept\"                  \"condition_tumor_vs_healthy\""
      ]
     },
     "metadata": {},
     "output_type": "display_data"
    }
   ],
   "source": [
    "resultsNames(ddsSeq)"
   ]
  },
  {
   "cell_type": "code",
   "execution_count": 13,
   "metadata": {},
   "outputs": [],
   "source": [
    "res <- results(ddsSeq, contrast = c(\"condition\", \"tumor\", \"healthy\"), pAdjustMethod = \"BH\", parallel = TRUE)"
   ]
  },
  {
   "cell_type": "markdown",
   "metadata": {},
   "source": [
    "## Create DEG list"
   ]
  },
  {
   "cell_type": "code",
   "execution_count": 14,
   "metadata": {},
   "outputs": [],
   "source": [
    "res_df <- as_tibble(res, rownames = \"geneID\") %>%\n",
    "    drop_na() %>%\n",
    "    arrange(padj) %>%\n",
    "    filter(padj < 0.05, abs(log2FoldChange) > log2(1.5))"
   ]
  },
  {
   "cell_type": "code",
   "execution_count": 15,
   "metadata": {},
   "outputs": [
    {
     "data": {
      "text/html": [
       "9896"
      ],
      "text/latex": [
       "9896"
      ],
      "text/markdown": [
       "9896"
      ],
      "text/plain": [
       "[1] 9896"
      ]
     },
     "metadata": {},
     "output_type": "display_data"
    }
   ],
   "source": [
    "nrow(res_df)"
   ]
  },
  {
   "cell_type": "code",
   "execution_count": 16,
   "metadata": {
    "collapsed": true,
    "jupyter": {
     "outputs_hidden": true
    }
   },
   "outputs": [
    {
     "data": {
      "text/html": [
       "<table>\n",
       "<caption>A tibble: 9896 × 7</caption>\n",
       "<thead>\n",
       "\t<tr><th scope=col>geneID</th><th scope=col>baseMean</th><th scope=col>log2FoldChange</th><th scope=col>lfcSE</th><th scope=col>stat</th><th scope=col>pvalue</th><th scope=col>padj</th></tr>\n",
       "\t<tr><th scope=col>&lt;chr&gt;</th><th scope=col>&lt;dbl&gt;</th><th scope=col>&lt;dbl&gt;</th><th scope=col>&lt;dbl&gt;</th><th scope=col>&lt;dbl&gt;</th><th scope=col>&lt;dbl&gt;</th><th scope=col>&lt;dbl&gt;</th></tr>\n",
       "</thead>\n",
       "<tbody>\n",
       "\t<tr><td>CDKN2A  </td><td> 8775.4426</td><td> 7.912382</td><td>0.3076639</td><td> 25.71762</td><td>7.426004e-146</td><td>1.457650e-141</td></tr>\n",
       "\t<tr><td>FEN1    </td><td> 4805.3256</td><td> 3.632869</td><td>0.1431294</td><td> 25.38171</td><td>4.015187e-142</td><td>3.940705e-138</td></tr>\n",
       "\t<tr><td>STIL    </td><td> 1779.3558</td><td> 4.136840</td><td>0.1732805</td><td> 23.87366</td><td>5.752708e-126</td><td>2.822998e-122</td></tr>\n",
       "\t<tr><td>UBE2T   </td><td> 1778.2153</td><td> 3.914805</td><td>0.1639108</td><td> 23.88375</td><td>4.518911e-126</td><td>2.822998e-122</td></tr>\n",
       "\t<tr><td>AURKA   </td><td> 2231.1018</td><td> 4.469992</td><td>0.1889426</td><td> 23.65794</td><td>9.779743e-124</td><td>3.839332e-120</td></tr>\n",
       "\t<tr><td>PLK1    </td><td> 3501.7326</td><td> 3.918527</td><td>0.1676075</td><td> 23.37919</td><td>6.959381e-121</td><td>2.276761e-117</td></tr>\n",
       "\t<tr><td>AUNIP   </td><td>  532.5266</td><td> 4.884569</td><td>0.2159897</td><td> 22.61482</td><td>3.097787e-113</td><td>8.686637e-110</td></tr>\n",
       "\t<tr><td>SPAG5   </td><td> 3375.0600</td><td> 3.457421</td><td>0.1534461</td><td> 22.53182</td><td>2.024435e-112</td><td>4.967204e-109</td></tr>\n",
       "\t<tr><td>MCM2    </td><td>12535.6169</td><td> 3.984153</td><td>0.1769401</td><td> 22.51696</td><td>2.831489e-112</td><td>6.175477e-109</td></tr>\n",
       "\t<tr><td>CKS2    </td><td> 3142.6215</td><td> 4.336748</td><td>0.1943330</td><td> 22.31606</td><td>2.580452e-110</td><td>5.065170e-107</td></tr>\n",
       "\t<tr><td>KIF18A  </td><td>  779.4577</td><td> 4.305542</td><td>0.1976854</td><td> 21.77977</td><td>3.609033e-105</td><td>6.440155e-102</td></tr>\n",
       "\t<tr><td>ECT2    </td><td> 6128.7080</td><td> 4.193077</td><td>0.1954730</td><td> 21.45093</td><td>4.476143e-102</td><td> 7.321851e-99</td></tr>\n",
       "\t<tr><td>GINS2   </td><td> 2159.6024</td><td> 4.261039</td><td>0.2005933</td><td> 21.24219</td><td>3.893413e-100</td><td> 5.878754e-97</td></tr>\n",
       "\t<tr><td>TIMELESS</td><td> 6036.6833</td><td> 2.764982</td><td>0.1315941</td><td> 21.01145</td><td> 5.153423e-98</td><td> 7.225467e-95</td></tr>\n",
       "\t<tr><td>CENPK   </td><td> 1104.8171</td><td> 4.386062</td><td>0.2105571</td><td> 20.83075</td><td> 2.278498e-96</td><td> 2.981642e-93</td></tr>\n",
       "\t<tr><td>KPNA2   </td><td>11020.2958</td><td> 3.272890</td><td>0.1602425</td><td> 20.42461</td><td> 1.010580e-92</td><td> 1.239792e-89</td></tr>\n",
       "\t<tr><td>PRC1    </td><td> 6471.2251</td><td> 3.659374</td><td>0.1802263</td><td> 20.30433</td><td> 1.177384e-91</td><td> 1.359463e-88</td></tr>\n",
       "\t<tr><td>PRR11   </td><td> 1225.6301</td><td> 4.103229</td><td>0.2045887</td><td> 20.05599</td><td> 1.789595e-89</td><td> 1.951553e-86</td></tr>\n",
       "\t<tr><td>CENPN   </td><td> 1259.3860</td><td> 3.476762</td><td>0.1734144</td><td> 20.04887</td><td> 2.064899e-89</td><td> 2.133258e-86</td></tr>\n",
       "\t<tr><td>TYMS    </td><td> 5014.6862</td><td> 3.887290</td><td>0.1940509</td><td> 20.03232</td><td> 2.879309e-89</td><td> 2.825898e-86</td></tr>\n",
       "\t<tr><td>E2F1    </td><td> 2810.9279</td><td> 4.206936</td><td>0.2116131</td><td> 19.88033</td><td> 6.024225e-88</td><td> 5.630929e-85</td></tr>\n",
       "\t<tr><td>MAD2L1  </td><td> 2318.4887</td><td> 3.650440</td><td>0.1850097</td><td> 19.73107</td><td> 1.166743e-86</td><td> 1.041000e-83</td></tr>\n",
       "\t<tr><td>NDC80   </td><td> 1726.9569</td><td> 3.356276</td><td>0.1715721</td><td> 19.56189</td><td> 3.267114e-85</td><td> 2.788269e-82</td></tr>\n",
       "\t<tr><td>GINS4   </td><td>  971.5536</td><td> 3.179720</td><td>0.1634944</td><td> 19.44850</td><td> 3.000903e-84</td><td> 2.454363e-81</td></tr>\n",
       "\t<tr><td>LGI4    </td><td>  510.7330</td><td>-6.022286</td><td>0.3157313</td><td>-19.07409</td><td> 4.146094e-81</td><td> 3.255347e-78</td></tr>\n",
       "\t<tr><td>OTX1    </td><td>  546.6531</td><td> 7.425974</td><td>0.3939036</td><td> 18.85226</td><td> 2.815466e-79</td><td> 2.125569e-76</td></tr>\n",
       "\t<tr><td>WDHD1   </td><td> 2087.6992</td><td> 2.926003</td><td>0.1552958</td><td> 18.84148</td><td> 3.451900e-79</td><td> 2.509532e-76</td></tr>\n",
       "\t<tr><td>MTFR2   </td><td>  397.8296</td><td> 4.142223</td><td>0.2201732</td><td> 18.81348</td><td> 5.856772e-79</td><td> 4.105806e-76</td></tr>\n",
       "\t<tr><td>TSPYL2  </td><td> 1974.7293</td><td>-3.273324</td><td>0.1756607</td><td>-18.63436</td><td> 1.691696e-77</td><td> 1.145045e-74</td></tr>\n",
       "\t<tr><td>MCM4    </td><td>13028.4088</td><td> 2.885753</td><td>0.1573970</td><td> 18.33423</td><td> 4.412559e-75</td><td> 2.887137e-72</td></tr>\n",
       "\t<tr><td>⋮</td><td>⋮</td><td>⋮</td><td>⋮</td><td>⋮</td><td>⋮</td><td>⋮</td></tr>\n",
       "\t<tr><td>COL4A5      </td><td>3500.345294</td><td>-0.9898791</td><td>0.4512519</td><td>-2.193629</td><td>0.02826212</td><td>0.04724956</td></tr>\n",
       "\t<tr><td>ABCA3       </td><td>1578.667446</td><td> 0.9823973</td><td>0.4478393</td><td> 2.193638</td><td>0.02826147</td><td>0.04724956</td></tr>\n",
       "\t<tr><td>FAM212A     </td><td> 429.498694</td><td> 0.8586760</td><td>0.3916739</td><td> 2.192324</td><td>0.02835615</td><td>0.04739870</td></tr>\n",
       "\t<tr><td>P2RY12      </td><td>  14.407465</td><td>-1.1969415</td><td>0.5460796</td><td>-2.191881</td><td>0.02838811</td><td>0.04744261</td></tr>\n",
       "\t<tr><td>DLX3        </td><td> 331.782543</td><td> 1.2466624</td><td>0.5687781</td><td> 2.191826</td><td>0.02839209</td><td>0.04744261</td></tr>\n",
       "\t<tr><td>ENTPD3      </td><td> 646.370522</td><td> 0.9204643</td><td>0.4200723</td><td> 2.191204</td><td>0.02843701</td><td>0.04750554</td></tr>\n",
       "\t<tr><td>ANKRD33B    </td><td>  18.869105</td><td>-1.1185586</td><td>0.5105478</td><td>-2.190899</td><td>0.02845912</td><td>0.04753843</td></tr>\n",
       "\t<tr><td>NMUR2       </td><td>   9.819181</td><td> 1.6186235</td><td>0.7389325</td><td> 2.190489</td><td>0.02848881</td><td>0.04757992</td></tr>\n",
       "\t<tr><td>ACP5        </td><td>2807.046305</td><td> 0.6643347</td><td>0.3032990</td><td> 2.190362</td><td>0.02849797</td><td>0.04759117</td></tr>\n",
       "\t<tr><td>ST8SIA5     </td><td>   9.242604</td><td>-1.0752975</td><td>0.4911220</td><td>-2.189471</td><td>0.02856259</td><td>0.04769503</td></tr>\n",
       "\t<tr><td>KDM5D       </td><td>   1.017271</td><td>-3.3656897</td><td>1.5390295</td><td>-2.186891</td><td>0.02875049</td><td>0.04798838</td></tr>\n",
       "\t<tr><td>ESPN        </td><td>2312.260055</td><td> 0.7627547</td><td>0.3489011</td><td> 2.186163</td><td>0.02880368</td><td>0.04806898</td></tr>\n",
       "\t<tr><td>SIGLEC1     </td><td> 645.925502</td><td> 0.9182242</td><td>0.4200459</td><td> 2.186009</td><td>0.02881494</td><td>0.04807960</td></tr>\n",
       "\t<tr><td>HSFX2       </td><td>  48.068250</td><td>-1.1451517</td><td>0.5240781</td><td>-2.185078</td><td>0.02888310</td><td>0.04818924</td></tr>\n",
       "\t<tr><td>TPRXL       </td><td> 349.016439</td><td> 1.1687380</td><td>0.5349900</td><td> 2.184598</td><td>0.02891835</td><td>0.04824396</td></tr>\n",
       "\t<tr><td>CDH26       </td><td> 387.726390</td><td> 1.2606231</td><td>0.5772373</td><td> 2.183891</td><td>0.02897028</td><td>0.04831827</td></tr>\n",
       "\t<tr><td>REEP6       </td><td> 634.350396</td><td> 0.8623646</td><td>0.3949345</td><td> 2.183563</td><td>0.02899434</td><td>0.04835429</td></tr>\n",
       "\t<tr><td>UPB1        </td><td>  80.369757</td><td> 1.3489464</td><td>0.6177914</td><td> 2.183498</td><td>0.02899914</td><td>0.04835818</td></tr>\n",
       "\t<tr><td>RASSF9      </td><td> 352.013660</td><td> 1.0586808</td><td>0.4849193</td><td> 2.183210</td><td>0.02902033</td><td>0.04838941</td></tr>\n",
       "\t<tr><td>KCNN1       </td><td>  28.986140</td><td>-1.0794877</td><td>0.4948974</td><td>-2.181235</td><td>0.02916601</td><td>0.04861992</td></tr>\n",
       "\t<tr><td>SNAI2       </td><td>1967.680032</td><td>-0.8809273</td><td>0.4039089</td><td>-2.181005</td><td>0.02918305</td><td>0.04864420</td></tr>\n",
       "\t<tr><td>SLC22A13    </td><td>   2.879221</td><td>-0.8803835</td><td>0.4036912</td><td>-2.180834</td><td>0.02919572</td><td>0.04866119</td></tr>\n",
       "\t<tr><td>RP11-145E5.5</td><td>   2.906260</td><td> 2.0422693</td><td>0.9371289</td><td> 2.179283</td><td>0.02931063</td><td>0.04883612</td></tr>\n",
       "\t<tr><td>HEATR4      </td><td>  17.008630</td><td>-0.8096125</td><td>0.3715648</td><td>-2.178927</td><td>0.02933711</td><td>0.04887610</td></tr>\n",
       "\t<tr><td>MFSD7       </td><td> 297.690748</td><td>-0.6994138</td><td>0.3213879</td><td>-2.176230</td><td>0.02953810</td><td>0.04920259</td></tr>\n",
       "\t<tr><td>NEK6        </td><td>1452.716341</td><td> 0.5967413</td><td>0.2742996</td><td> 2.175509</td><td>0.02959202</td><td>0.04928822</td></tr>\n",
       "\t<tr><td>RAB31       </td><td>6626.231538</td><td>-0.6881067</td><td>0.3164389</td><td>-2.174532</td><td>0.02966518</td><td>0.04939750</td></tr>\n",
       "\t<tr><td>C3AR1       </td><td> 444.525128</td><td> 0.7646261</td><td>0.3516999</td><td> 2.174087</td><td>0.02969863</td><td>0.04944063</td></tr>\n",
       "\t<tr><td>C1orf192    </td><td> 109.757158</td><td> 1.1637224</td><td>0.5359736</td><td> 2.171231</td><td>0.02991374</td><td>0.04976918</td></tr>\n",
       "\t<tr><td>AKR1C1      </td><td>1721.994285</td><td> 1.1495911</td><td>0.5299241</td><td> 2.169350</td><td>0.03005608</td><td>0.04998906</td></tr>\n",
       "</tbody>\n",
       "</table>\n"
      ],
      "text/latex": [
       "A tibble: 9896 × 7\n",
       "\\begin{tabular}{lllllll}\n",
       " geneID & baseMean & log2FoldChange & lfcSE & stat & pvalue & padj\\\\\n",
       " <chr> & <dbl> & <dbl> & <dbl> & <dbl> & <dbl> & <dbl>\\\\\n",
       "\\hline\n",
       "\t CDKN2A   &  8775.4426 &  7.912382 & 0.3076639 &  25.71762 & 7.426004e-146 & 1.457650e-141\\\\\n",
       "\t FEN1     &  4805.3256 &  3.632869 & 0.1431294 &  25.38171 & 4.015187e-142 & 3.940705e-138\\\\\n",
       "\t STIL     &  1779.3558 &  4.136840 & 0.1732805 &  23.87366 & 5.752708e-126 & 2.822998e-122\\\\\n",
       "\t UBE2T    &  1778.2153 &  3.914805 & 0.1639108 &  23.88375 & 4.518911e-126 & 2.822998e-122\\\\\n",
       "\t AURKA    &  2231.1018 &  4.469992 & 0.1889426 &  23.65794 & 9.779743e-124 & 3.839332e-120\\\\\n",
       "\t PLK1     &  3501.7326 &  3.918527 & 0.1676075 &  23.37919 & 6.959381e-121 & 2.276761e-117\\\\\n",
       "\t AUNIP    &   532.5266 &  4.884569 & 0.2159897 &  22.61482 & 3.097787e-113 & 8.686637e-110\\\\\n",
       "\t SPAG5    &  3375.0600 &  3.457421 & 0.1534461 &  22.53182 & 2.024435e-112 & 4.967204e-109\\\\\n",
       "\t MCM2     & 12535.6169 &  3.984153 & 0.1769401 &  22.51696 & 2.831489e-112 & 6.175477e-109\\\\\n",
       "\t CKS2     &  3142.6215 &  4.336748 & 0.1943330 &  22.31606 & 2.580452e-110 & 5.065170e-107\\\\\n",
       "\t KIF18A   &   779.4577 &  4.305542 & 0.1976854 &  21.77977 & 3.609033e-105 & 6.440155e-102\\\\\n",
       "\t ECT2     &  6128.7080 &  4.193077 & 0.1954730 &  21.45093 & 4.476143e-102 &  7.321851e-99\\\\\n",
       "\t GINS2    &  2159.6024 &  4.261039 & 0.2005933 &  21.24219 & 3.893413e-100 &  5.878754e-97\\\\\n",
       "\t TIMELESS &  6036.6833 &  2.764982 & 0.1315941 &  21.01145 &  5.153423e-98 &  7.225467e-95\\\\\n",
       "\t CENPK    &  1104.8171 &  4.386062 & 0.2105571 &  20.83075 &  2.278498e-96 &  2.981642e-93\\\\\n",
       "\t KPNA2    & 11020.2958 &  3.272890 & 0.1602425 &  20.42461 &  1.010580e-92 &  1.239792e-89\\\\\n",
       "\t PRC1     &  6471.2251 &  3.659374 & 0.1802263 &  20.30433 &  1.177384e-91 &  1.359463e-88\\\\\n",
       "\t PRR11    &  1225.6301 &  4.103229 & 0.2045887 &  20.05599 &  1.789595e-89 &  1.951553e-86\\\\\n",
       "\t CENPN    &  1259.3860 &  3.476762 & 0.1734144 &  20.04887 &  2.064899e-89 &  2.133258e-86\\\\\n",
       "\t TYMS     &  5014.6862 &  3.887290 & 0.1940509 &  20.03232 &  2.879309e-89 &  2.825898e-86\\\\\n",
       "\t E2F1     &  2810.9279 &  4.206936 & 0.2116131 &  19.88033 &  6.024225e-88 &  5.630929e-85\\\\\n",
       "\t MAD2L1   &  2318.4887 &  3.650440 & 0.1850097 &  19.73107 &  1.166743e-86 &  1.041000e-83\\\\\n",
       "\t NDC80    &  1726.9569 &  3.356276 & 0.1715721 &  19.56189 &  3.267114e-85 &  2.788269e-82\\\\\n",
       "\t GINS4    &   971.5536 &  3.179720 & 0.1634944 &  19.44850 &  3.000903e-84 &  2.454363e-81\\\\\n",
       "\t LGI4     &   510.7330 & -6.022286 & 0.3157313 & -19.07409 &  4.146094e-81 &  3.255347e-78\\\\\n",
       "\t OTX1     &   546.6531 &  7.425974 & 0.3939036 &  18.85226 &  2.815466e-79 &  2.125569e-76\\\\\n",
       "\t WDHD1    &  2087.6992 &  2.926003 & 0.1552958 &  18.84148 &  3.451900e-79 &  2.509532e-76\\\\\n",
       "\t MTFR2    &   397.8296 &  4.142223 & 0.2201732 &  18.81348 &  5.856772e-79 &  4.105806e-76\\\\\n",
       "\t TSPYL2   &  1974.7293 & -3.273324 & 0.1756607 & -18.63436 &  1.691696e-77 &  1.145045e-74\\\\\n",
       "\t MCM4     & 13028.4088 &  2.885753 & 0.1573970 &  18.33423 &  4.412559e-75 &  2.887137e-72\\\\\n",
       "\t ⋮ & ⋮ & ⋮ & ⋮ & ⋮ & ⋮ & ⋮\\\\\n",
       "\t COL4A5       & 3500.345294 & -0.9898791 & 0.4512519 & -2.193629 & 0.02826212 & 0.04724956\\\\\n",
       "\t ABCA3        & 1578.667446 &  0.9823973 & 0.4478393 &  2.193638 & 0.02826147 & 0.04724956\\\\\n",
       "\t FAM212A      &  429.498694 &  0.8586760 & 0.3916739 &  2.192324 & 0.02835615 & 0.04739870\\\\\n",
       "\t P2RY12       &   14.407465 & -1.1969415 & 0.5460796 & -2.191881 & 0.02838811 & 0.04744261\\\\\n",
       "\t DLX3         &  331.782543 &  1.2466624 & 0.5687781 &  2.191826 & 0.02839209 & 0.04744261\\\\\n",
       "\t ENTPD3       &  646.370522 &  0.9204643 & 0.4200723 &  2.191204 & 0.02843701 & 0.04750554\\\\\n",
       "\t ANKRD33B     &   18.869105 & -1.1185586 & 0.5105478 & -2.190899 & 0.02845912 & 0.04753843\\\\\n",
       "\t NMUR2        &    9.819181 &  1.6186235 & 0.7389325 &  2.190489 & 0.02848881 & 0.04757992\\\\\n",
       "\t ACP5         & 2807.046305 &  0.6643347 & 0.3032990 &  2.190362 & 0.02849797 & 0.04759117\\\\\n",
       "\t ST8SIA5      &    9.242604 & -1.0752975 & 0.4911220 & -2.189471 & 0.02856259 & 0.04769503\\\\\n",
       "\t KDM5D        &    1.017271 & -3.3656897 & 1.5390295 & -2.186891 & 0.02875049 & 0.04798838\\\\\n",
       "\t ESPN         & 2312.260055 &  0.7627547 & 0.3489011 &  2.186163 & 0.02880368 & 0.04806898\\\\\n",
       "\t SIGLEC1      &  645.925502 &  0.9182242 & 0.4200459 &  2.186009 & 0.02881494 & 0.04807960\\\\\n",
       "\t HSFX2        &   48.068250 & -1.1451517 & 0.5240781 & -2.185078 & 0.02888310 & 0.04818924\\\\\n",
       "\t TPRXL        &  349.016439 &  1.1687380 & 0.5349900 &  2.184598 & 0.02891835 & 0.04824396\\\\\n",
       "\t CDH26        &  387.726390 &  1.2606231 & 0.5772373 &  2.183891 & 0.02897028 & 0.04831827\\\\\n",
       "\t REEP6        &  634.350396 &  0.8623646 & 0.3949345 &  2.183563 & 0.02899434 & 0.04835429\\\\\n",
       "\t UPB1         &   80.369757 &  1.3489464 & 0.6177914 &  2.183498 & 0.02899914 & 0.04835818\\\\\n",
       "\t RASSF9       &  352.013660 &  1.0586808 & 0.4849193 &  2.183210 & 0.02902033 & 0.04838941\\\\\n",
       "\t KCNN1        &   28.986140 & -1.0794877 & 0.4948974 & -2.181235 & 0.02916601 & 0.04861992\\\\\n",
       "\t SNAI2        & 1967.680032 & -0.8809273 & 0.4039089 & -2.181005 & 0.02918305 & 0.04864420\\\\\n",
       "\t SLC22A13     &    2.879221 & -0.8803835 & 0.4036912 & -2.180834 & 0.02919572 & 0.04866119\\\\\n",
       "\t RP11-145E5.5 &    2.906260 &  2.0422693 & 0.9371289 &  2.179283 & 0.02931063 & 0.04883612\\\\\n",
       "\t HEATR4       &   17.008630 & -0.8096125 & 0.3715648 & -2.178927 & 0.02933711 & 0.04887610\\\\\n",
       "\t MFSD7        &  297.690748 & -0.6994138 & 0.3213879 & -2.176230 & 0.02953810 & 0.04920259\\\\\n",
       "\t NEK6         & 1452.716341 &  0.5967413 & 0.2742996 &  2.175509 & 0.02959202 & 0.04928822\\\\\n",
       "\t RAB31        & 6626.231538 & -0.6881067 & 0.3164389 & -2.174532 & 0.02966518 & 0.04939750\\\\\n",
       "\t C3AR1        &  444.525128 &  0.7646261 & 0.3516999 &  2.174087 & 0.02969863 & 0.04944063\\\\\n",
       "\t C1orf192     &  109.757158 &  1.1637224 & 0.5359736 &  2.171231 & 0.02991374 & 0.04976918\\\\\n",
       "\t AKR1C1       & 1721.994285 &  1.1495911 & 0.5299241 &  2.169350 & 0.03005608 & 0.04998906\\\\\n",
       "\\end{tabular}\n"
      ],
      "text/markdown": [
       "\n",
       "A tibble: 9896 × 7\n",
       "\n",
       "| geneID &lt;chr&gt; | baseMean &lt;dbl&gt; | log2FoldChange &lt;dbl&gt; | lfcSE &lt;dbl&gt; | stat &lt;dbl&gt; | pvalue &lt;dbl&gt; | padj &lt;dbl&gt; |\n",
       "|---|---|---|---|---|---|---|\n",
       "| CDKN2A   |  8775.4426 |  7.912382 | 0.3076639 |  25.71762 | 7.426004e-146 | 1.457650e-141 |\n",
       "| FEN1     |  4805.3256 |  3.632869 | 0.1431294 |  25.38171 | 4.015187e-142 | 3.940705e-138 |\n",
       "| STIL     |  1779.3558 |  4.136840 | 0.1732805 |  23.87366 | 5.752708e-126 | 2.822998e-122 |\n",
       "| UBE2T    |  1778.2153 |  3.914805 | 0.1639108 |  23.88375 | 4.518911e-126 | 2.822998e-122 |\n",
       "| AURKA    |  2231.1018 |  4.469992 | 0.1889426 |  23.65794 | 9.779743e-124 | 3.839332e-120 |\n",
       "| PLK1     |  3501.7326 |  3.918527 | 0.1676075 |  23.37919 | 6.959381e-121 | 2.276761e-117 |\n",
       "| AUNIP    |   532.5266 |  4.884569 | 0.2159897 |  22.61482 | 3.097787e-113 | 8.686637e-110 |\n",
       "| SPAG5    |  3375.0600 |  3.457421 | 0.1534461 |  22.53182 | 2.024435e-112 | 4.967204e-109 |\n",
       "| MCM2     | 12535.6169 |  3.984153 | 0.1769401 |  22.51696 | 2.831489e-112 | 6.175477e-109 |\n",
       "| CKS2     |  3142.6215 |  4.336748 | 0.1943330 |  22.31606 | 2.580452e-110 | 5.065170e-107 |\n",
       "| KIF18A   |   779.4577 |  4.305542 | 0.1976854 |  21.77977 | 3.609033e-105 | 6.440155e-102 |\n",
       "| ECT2     |  6128.7080 |  4.193077 | 0.1954730 |  21.45093 | 4.476143e-102 |  7.321851e-99 |\n",
       "| GINS2    |  2159.6024 |  4.261039 | 0.2005933 |  21.24219 | 3.893413e-100 |  5.878754e-97 |\n",
       "| TIMELESS |  6036.6833 |  2.764982 | 0.1315941 |  21.01145 |  5.153423e-98 |  7.225467e-95 |\n",
       "| CENPK    |  1104.8171 |  4.386062 | 0.2105571 |  20.83075 |  2.278498e-96 |  2.981642e-93 |\n",
       "| KPNA2    | 11020.2958 |  3.272890 | 0.1602425 |  20.42461 |  1.010580e-92 |  1.239792e-89 |\n",
       "| PRC1     |  6471.2251 |  3.659374 | 0.1802263 |  20.30433 |  1.177384e-91 |  1.359463e-88 |\n",
       "| PRR11    |  1225.6301 |  4.103229 | 0.2045887 |  20.05599 |  1.789595e-89 |  1.951553e-86 |\n",
       "| CENPN    |  1259.3860 |  3.476762 | 0.1734144 |  20.04887 |  2.064899e-89 |  2.133258e-86 |\n",
       "| TYMS     |  5014.6862 |  3.887290 | 0.1940509 |  20.03232 |  2.879309e-89 |  2.825898e-86 |\n",
       "| E2F1     |  2810.9279 |  4.206936 | 0.2116131 |  19.88033 |  6.024225e-88 |  5.630929e-85 |\n",
       "| MAD2L1   |  2318.4887 |  3.650440 | 0.1850097 |  19.73107 |  1.166743e-86 |  1.041000e-83 |\n",
       "| NDC80    |  1726.9569 |  3.356276 | 0.1715721 |  19.56189 |  3.267114e-85 |  2.788269e-82 |\n",
       "| GINS4    |   971.5536 |  3.179720 | 0.1634944 |  19.44850 |  3.000903e-84 |  2.454363e-81 |\n",
       "| LGI4     |   510.7330 | -6.022286 | 0.3157313 | -19.07409 |  4.146094e-81 |  3.255347e-78 |\n",
       "| OTX1     |   546.6531 |  7.425974 | 0.3939036 |  18.85226 |  2.815466e-79 |  2.125569e-76 |\n",
       "| WDHD1    |  2087.6992 |  2.926003 | 0.1552958 |  18.84148 |  3.451900e-79 |  2.509532e-76 |\n",
       "| MTFR2    |   397.8296 |  4.142223 | 0.2201732 |  18.81348 |  5.856772e-79 |  4.105806e-76 |\n",
       "| TSPYL2   |  1974.7293 | -3.273324 | 0.1756607 | -18.63436 |  1.691696e-77 |  1.145045e-74 |\n",
       "| MCM4     | 13028.4088 |  2.885753 | 0.1573970 |  18.33423 |  4.412559e-75 |  2.887137e-72 |\n",
       "| ⋮ | ⋮ | ⋮ | ⋮ | ⋮ | ⋮ | ⋮ |\n",
       "| COL4A5       | 3500.345294 | -0.9898791 | 0.4512519 | -2.193629 | 0.02826212 | 0.04724956 |\n",
       "| ABCA3        | 1578.667446 |  0.9823973 | 0.4478393 |  2.193638 | 0.02826147 | 0.04724956 |\n",
       "| FAM212A      |  429.498694 |  0.8586760 | 0.3916739 |  2.192324 | 0.02835615 | 0.04739870 |\n",
       "| P2RY12       |   14.407465 | -1.1969415 | 0.5460796 | -2.191881 | 0.02838811 | 0.04744261 |\n",
       "| DLX3         |  331.782543 |  1.2466624 | 0.5687781 |  2.191826 | 0.02839209 | 0.04744261 |\n",
       "| ENTPD3       |  646.370522 |  0.9204643 | 0.4200723 |  2.191204 | 0.02843701 | 0.04750554 |\n",
       "| ANKRD33B     |   18.869105 | -1.1185586 | 0.5105478 | -2.190899 | 0.02845912 | 0.04753843 |\n",
       "| NMUR2        |    9.819181 |  1.6186235 | 0.7389325 |  2.190489 | 0.02848881 | 0.04757992 |\n",
       "| ACP5         | 2807.046305 |  0.6643347 | 0.3032990 |  2.190362 | 0.02849797 | 0.04759117 |\n",
       "| ST8SIA5      |    9.242604 | -1.0752975 | 0.4911220 | -2.189471 | 0.02856259 | 0.04769503 |\n",
       "| KDM5D        |    1.017271 | -3.3656897 | 1.5390295 | -2.186891 | 0.02875049 | 0.04798838 |\n",
       "| ESPN         | 2312.260055 |  0.7627547 | 0.3489011 |  2.186163 | 0.02880368 | 0.04806898 |\n",
       "| SIGLEC1      |  645.925502 |  0.9182242 | 0.4200459 |  2.186009 | 0.02881494 | 0.04807960 |\n",
       "| HSFX2        |   48.068250 | -1.1451517 | 0.5240781 | -2.185078 | 0.02888310 | 0.04818924 |\n",
       "| TPRXL        |  349.016439 |  1.1687380 | 0.5349900 |  2.184598 | 0.02891835 | 0.04824396 |\n",
       "| CDH26        |  387.726390 |  1.2606231 | 0.5772373 |  2.183891 | 0.02897028 | 0.04831827 |\n",
       "| REEP6        |  634.350396 |  0.8623646 | 0.3949345 |  2.183563 | 0.02899434 | 0.04835429 |\n",
       "| UPB1         |   80.369757 |  1.3489464 | 0.6177914 |  2.183498 | 0.02899914 | 0.04835818 |\n",
       "| RASSF9       |  352.013660 |  1.0586808 | 0.4849193 |  2.183210 | 0.02902033 | 0.04838941 |\n",
       "| KCNN1        |   28.986140 | -1.0794877 | 0.4948974 | -2.181235 | 0.02916601 | 0.04861992 |\n",
       "| SNAI2        | 1967.680032 | -0.8809273 | 0.4039089 | -2.181005 | 0.02918305 | 0.04864420 |\n",
       "| SLC22A13     |    2.879221 | -0.8803835 | 0.4036912 | -2.180834 | 0.02919572 | 0.04866119 |\n",
       "| RP11-145E5.5 |    2.906260 |  2.0422693 | 0.9371289 |  2.179283 | 0.02931063 | 0.04883612 |\n",
       "| HEATR4       |   17.008630 | -0.8096125 | 0.3715648 | -2.178927 | 0.02933711 | 0.04887610 |\n",
       "| MFSD7        |  297.690748 | -0.6994138 | 0.3213879 | -2.176230 | 0.02953810 | 0.04920259 |\n",
       "| NEK6         | 1452.716341 |  0.5967413 | 0.2742996 |  2.175509 | 0.02959202 | 0.04928822 |\n",
       "| RAB31        | 6626.231538 | -0.6881067 | 0.3164389 | -2.174532 | 0.02966518 | 0.04939750 |\n",
       "| C3AR1        |  444.525128 |  0.7646261 | 0.3516999 |  2.174087 | 0.02969863 | 0.04944063 |\n",
       "| C1orf192     |  109.757158 |  1.1637224 | 0.5359736 |  2.171231 | 0.02991374 | 0.04976918 |\n",
       "| AKR1C1       | 1721.994285 |  1.1495911 | 0.5299241 |  2.169350 | 0.03005608 | 0.04998906 |\n",
       "\n"
      ],
      "text/plain": [
       "     geneID       baseMean    log2FoldChange lfcSE     stat      pvalue       \n",
       "1    CDKN2A        8775.4426   7.912382      0.3076639  25.71762 7.426004e-146\n",
       "2    FEN1          4805.3256   3.632869      0.1431294  25.38171 4.015187e-142\n",
       "3    STIL          1779.3558   4.136840      0.1732805  23.87366 5.752708e-126\n",
       "4    UBE2T         1778.2153   3.914805      0.1639108  23.88375 4.518911e-126\n",
       "5    AURKA         2231.1018   4.469992      0.1889426  23.65794 9.779743e-124\n",
       "6    PLK1          3501.7326   3.918527      0.1676075  23.37919 6.959381e-121\n",
       "7    AUNIP          532.5266   4.884569      0.2159897  22.61482 3.097787e-113\n",
       "8    SPAG5         3375.0600   3.457421      0.1534461  22.53182 2.024435e-112\n",
       "9    MCM2         12535.6169   3.984153      0.1769401  22.51696 2.831489e-112\n",
       "10   CKS2          3142.6215   4.336748      0.1943330  22.31606 2.580452e-110\n",
       "11   KIF18A         779.4577   4.305542      0.1976854  21.77977 3.609033e-105\n",
       "12   ECT2          6128.7080   4.193077      0.1954730  21.45093 4.476143e-102\n",
       "13   GINS2         2159.6024   4.261039      0.2005933  21.24219 3.893413e-100\n",
       "14   TIMELESS      6036.6833   2.764982      0.1315941  21.01145  5.153423e-98\n",
       "15   CENPK         1104.8171   4.386062      0.2105571  20.83075  2.278498e-96\n",
       "16   KPNA2        11020.2958   3.272890      0.1602425  20.42461  1.010580e-92\n",
       "17   PRC1          6471.2251   3.659374      0.1802263  20.30433  1.177384e-91\n",
       "18   PRR11         1225.6301   4.103229      0.2045887  20.05599  1.789595e-89\n",
       "19   CENPN         1259.3860   3.476762      0.1734144  20.04887  2.064899e-89\n",
       "20   TYMS          5014.6862   3.887290      0.1940509  20.03232  2.879309e-89\n",
       "21   E2F1          2810.9279   4.206936      0.2116131  19.88033  6.024225e-88\n",
       "22   MAD2L1        2318.4887   3.650440      0.1850097  19.73107  1.166743e-86\n",
       "23   NDC80         1726.9569   3.356276      0.1715721  19.56189  3.267114e-85\n",
       "24   GINS4          971.5536   3.179720      0.1634944  19.44850  3.000903e-84\n",
       "25   LGI4           510.7330  -6.022286      0.3157313 -19.07409  4.146094e-81\n",
       "26   OTX1           546.6531   7.425974      0.3939036  18.85226  2.815466e-79\n",
       "27   WDHD1         2087.6992   2.926003      0.1552958  18.84148  3.451900e-79\n",
       "28   MTFR2          397.8296   4.142223      0.2201732  18.81348  5.856772e-79\n",
       "29   TSPYL2        1974.7293  -3.273324      0.1756607 -18.63436  1.691696e-77\n",
       "30   MCM4         13028.4088   2.885753      0.1573970  18.33423  4.412559e-75\n",
       "⋮    ⋮            ⋮           ⋮              ⋮         ⋮         ⋮            \n",
       "9867 COL4A5       3500.345294 -0.9898791     0.4512519 -2.193629 0.02826212   \n",
       "9868 ABCA3        1578.667446  0.9823973     0.4478393  2.193638 0.02826147   \n",
       "9869 FAM212A       429.498694  0.8586760     0.3916739  2.192324 0.02835615   \n",
       "9870 P2RY12         14.407465 -1.1969415     0.5460796 -2.191881 0.02838811   \n",
       "9871 DLX3          331.782543  1.2466624     0.5687781  2.191826 0.02839209   \n",
       "9872 ENTPD3        646.370522  0.9204643     0.4200723  2.191204 0.02843701   \n",
       "9873 ANKRD33B       18.869105 -1.1185586     0.5105478 -2.190899 0.02845912   \n",
       "9874 NMUR2           9.819181  1.6186235     0.7389325  2.190489 0.02848881   \n",
       "9875 ACP5         2807.046305  0.6643347     0.3032990  2.190362 0.02849797   \n",
       "9876 ST8SIA5         9.242604 -1.0752975     0.4911220 -2.189471 0.02856259   \n",
       "9877 KDM5D           1.017271 -3.3656897     1.5390295 -2.186891 0.02875049   \n",
       "9878 ESPN         2312.260055  0.7627547     0.3489011  2.186163 0.02880368   \n",
       "9879 SIGLEC1       645.925502  0.9182242     0.4200459  2.186009 0.02881494   \n",
       "9880 HSFX2          48.068250 -1.1451517     0.5240781 -2.185078 0.02888310   \n",
       "9881 TPRXL         349.016439  1.1687380     0.5349900  2.184598 0.02891835   \n",
       "9882 CDH26         387.726390  1.2606231     0.5772373  2.183891 0.02897028   \n",
       "9883 REEP6         634.350396  0.8623646     0.3949345  2.183563 0.02899434   \n",
       "9884 UPB1           80.369757  1.3489464     0.6177914  2.183498 0.02899914   \n",
       "9885 RASSF9        352.013660  1.0586808     0.4849193  2.183210 0.02902033   \n",
       "9886 KCNN1          28.986140 -1.0794877     0.4948974 -2.181235 0.02916601   \n",
       "9887 SNAI2        1967.680032 -0.8809273     0.4039089 -2.181005 0.02918305   \n",
       "9888 SLC22A13        2.879221 -0.8803835     0.4036912 -2.180834 0.02919572   \n",
       "9889 RP11-145E5.5    2.906260  2.0422693     0.9371289  2.179283 0.02931063   \n",
       "9890 HEATR4         17.008630 -0.8096125     0.3715648 -2.178927 0.02933711   \n",
       "9891 MFSD7         297.690748 -0.6994138     0.3213879 -2.176230 0.02953810   \n",
       "9892 NEK6         1452.716341  0.5967413     0.2742996  2.175509 0.02959202   \n",
       "9893 RAB31        6626.231538 -0.6881067     0.3164389 -2.174532 0.02966518   \n",
       "9894 C3AR1         444.525128  0.7646261     0.3516999  2.174087 0.02969863   \n",
       "9895 C1orf192      109.757158  1.1637224     0.5359736  2.171231 0.02991374   \n",
       "9896 AKR1C1       1721.994285  1.1495911     0.5299241  2.169350 0.03005608   \n",
       "     padj         \n",
       "1    1.457650e-141\n",
       "2    3.940705e-138\n",
       "3    2.822998e-122\n",
       "4    2.822998e-122\n",
       "5    3.839332e-120\n",
       "6    2.276761e-117\n",
       "7    8.686637e-110\n",
       "8    4.967204e-109\n",
       "9    6.175477e-109\n",
       "10   5.065170e-107\n",
       "11   6.440155e-102\n",
       "12    7.321851e-99\n",
       "13    5.878754e-97\n",
       "14    7.225467e-95\n",
       "15    2.981642e-93\n",
       "16    1.239792e-89\n",
       "17    1.359463e-88\n",
       "18    1.951553e-86\n",
       "19    2.133258e-86\n",
       "20    2.825898e-86\n",
       "21    5.630929e-85\n",
       "22    1.041000e-83\n",
       "23    2.788269e-82\n",
       "24    2.454363e-81\n",
       "25    3.255347e-78\n",
       "26    2.125569e-76\n",
       "27    2.509532e-76\n",
       "28    4.105806e-76\n",
       "29    1.145045e-74\n",
       "30    2.887137e-72\n",
       "⋮    ⋮            \n",
       "9867 0.04724956   \n",
       "9868 0.04724956   \n",
       "9869 0.04739870   \n",
       "9870 0.04744261   \n",
       "9871 0.04744261   \n",
       "9872 0.04750554   \n",
       "9873 0.04753843   \n",
       "9874 0.04757992   \n",
       "9875 0.04759117   \n",
       "9876 0.04769503   \n",
       "9877 0.04798838   \n",
       "9878 0.04806898   \n",
       "9879 0.04807960   \n",
       "9880 0.04818924   \n",
       "9881 0.04824396   \n",
       "9882 0.04831827   \n",
       "9883 0.04835429   \n",
       "9884 0.04835818   \n",
       "9885 0.04838941   \n",
       "9886 0.04861992   \n",
       "9887 0.04864420   \n",
       "9888 0.04866119   \n",
       "9889 0.04883612   \n",
       "9890 0.04887610   \n",
       "9891 0.04920259   \n",
       "9892 0.04928822   \n",
       "9893 0.04939750   \n",
       "9894 0.04944063   \n",
       "9895 0.04976918   \n",
       "9896 0.04998906   "
      ]
     },
     "metadata": {},
     "output_type": "display_data"
    }
   ],
   "source": [
    "res_df"
   ]
  },
  {
   "cell_type": "code",
   "execution_count": 23,
   "metadata": {},
   "outputs": [
    {
     "name": "stderr",
     "output_type": "stream",
     "text": [
      "Warning message in dir.create(file.path(data_dir, \"analysis\")):\n",
      "“'../../../../../mnt/d/unified_TCGA_GTEx/analysis' already exists”"
     ]
    }
   ],
   "source": [
    "dir.create(file.path(data_dir, \"analysis\"))\n",
    "deg_dest <- paste0(data_dir, \"/analysis/\", dsets[dset_idx], \"demo.tsv\")\n"
   ]
  },
  {
   "cell_type": "code",
   "execution_count": 22,
   "metadata": {},
   "outputs": [],
   "source": [
    "write_tsv(res_df, deg_dest)"
   ]
  }
 ],
 "metadata": {
  "kernelspec": {
   "display_name": "R",
   "language": "R",
   "name": "ir"
  },
  "language_info": {
   "codemirror_mode": "r",
   "file_extension": ".r",
   "mimetype": "text/x-r-source",
   "name": "R",
   "pygments_lexer": "r",
   "version": "3.6.3"
  }
 },
 "nbformat": 4,
 "nbformat_minor": 4
}
