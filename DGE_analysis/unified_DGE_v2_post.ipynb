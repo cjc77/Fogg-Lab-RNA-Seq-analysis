{
 "cells": [
  {
   "cell_type": "code",
   "execution_count": 1,
   "metadata": {},
   "outputs": [
    {
     "name": "stderr",
     "output_type": "stream",
     "text": [
      "── Attaching packages ─────────────────────────────────────── tidyverse 1.3.0 ──\n",
      "✔ ggplot2 3.3.2     ✔ purrr   0.3.4\n",
      "✔ tibble  3.0.3     ✔ dplyr   1.0.0\n",
      "✔ tidyr   1.1.0     ✔ stringr 1.4.0\n",
      "✔ readr   1.3.1     ✔ forcats 0.5.0\n",
      "── Conflicts ────────────────────────────────────────── tidyverse_conflicts() ──\n",
      "✖ dplyr::filter() masks stats::filter()\n",
      "✖ dplyr::lag()    masks stats::lag()\n"
     ]
    }
   ],
   "source": [
    "library(tidyverse)\n",
    "\n",
    "# Custom package\n",
    "library(rutils)"
   ]
  },
  {
   "cell_type": "markdown",
   "metadata": {},
   "source": [
    "# Constants"
   ]
  },
  {
   "cell_type": "code",
   "execution_count": 2,
   "metadata": {},
   "outputs": [],
   "source": [
    "dirs <- rutils::get_dev_directories(dev_paths_file = \"../dev_paths.txt\")\n",
    "dsets <- c(\"unified_cervical_data\")\n",
    "dset_paths <- unlist(map(dsets, function(d) paste0(dirs$data_dir, \"/\", d)))\n",
    "matrisome_list <- matrisome_list <- paste(dirs$data_dir, \"matrisome\", \"matrisome_hs_masterlist.tsv\", sep = \"/\")\n",
    "dset_idx <- 1"
   ]
  },
  {
   "cell_type": "code",
   "execution_count": 35,
   "metadata": {},
   "outputs": [
    {
     "name": "stderr",
     "output_type": "stream",
     "text": [
      "Parsed with column specification:\n",
      "cols(\n",
      "  geneID = col_character(),\n",
      "  baseMean = col_double(),\n",
      "  log2FoldChange = col_double(),\n",
      "  lfcSE = col_double(),\n",
      "  stat = col_double(),\n",
      "  pvalue = col_double(),\n",
      "  padj = col_double()\n",
      ")\n",
      "Parsed with column specification:\n",
      "cols(\n",
      "  .default = col_double(),\n",
      "  Hugo_Symbol = col_character()\n",
      ")\n",
      "See spec(...) for full column specifications.\n"
     ]
    }
   ],
   "source": [
    "dge_res_df <- read_tsv(paste0(dirs$analysis_dir, \"/\", dsets[dset_idx], \"_unfiltered_DESeq_results.tsv\"))\n",
    "counts_df <- read_tsv(paste0(dirs$data_dir, \"/\", dsets[dset_idx], \"/counts.tsv\")) %>%\n",
    "    dplyr::rename(\"geneID\" = \"Hugo_Symbol\") %>%\n",
    "    dplyr::select(-\"Entrez_Gene_Id\")"
   ]
  },
  {
   "cell_type": "code",
   "execution_count": 4,
   "metadata": {},
   "outputs": [
    {
     "data": {
      "text/html": [
       "7189"
      ],
      "text/latex": [
       "7189"
      ],
      "text/markdown": [
       "7189"
      ],
      "text/plain": [
       "[1] 7189"
      ]
     },
     "metadata": {},
     "output_type": "display_data"
    }
   ],
   "source": [
    "# Filter for log fold change of 1 (2x)\n",
    "sig_dge_res_df <- dge_res_df %>%\n",
    "    dplyr::filter(padj < 0.05) %>%\n",
    "    dplyr::filter(abs(log2FoldChange) > log2(2))\n",
    "nrow(sig_dge_res_df)"
   ]
  },
  {
   "cell_type": "markdown",
   "metadata": {},
   "source": [
    "# Load and prep matrisome list"
   ]
  },
  {
   "cell_type": "code",
   "execution_count": 5,
   "metadata": {},
   "outputs": [
    {
     "name": "stderr",
     "output_type": "stream",
     "text": [
      "Parsed with column specification:\n",
      "cols(\n",
      "  Division = col_character(),\n",
      "  Category = col_character(),\n",
      "  `Gene Symbol` = col_character(),\n",
      "  `Gene Name` = col_character(),\n",
      "  Synonyms = col_character(),\n",
      "  HGNC_IDs = col_double(),\n",
      "  `HGNC_IDs Links` = col_double(),\n",
      "  UniProt_IDs = col_character(),\n",
      "  Refseq_IDs = col_character(),\n",
      "  Orthology = col_character(),\n",
      "  Notes = col_character()\n",
      ")\n"
     ]
    },
    {
     "data": {
      "text/html": [
       "<table>\n",
       "<caption>A tibble: 6 × 11</caption>\n",
       "<thead>\n",
       "\t<tr><th scope=col>gene_symbol</th><th scope=col>division</th><th scope=col>category</th><th scope=col>gene_name</th><th scope=col>synonyms</th><th scope=col>hgnc_ids</th><th scope=col>hgnc_ids_links</th><th scope=col>uniprot_ids</th><th scope=col>refseq_ids</th><th scope=col>orthology</th><th scope=col>notes</th></tr>\n",
       "\t<tr><th scope=col>&lt;chr&gt;</th><th scope=col>&lt;chr&gt;</th><th scope=col>&lt;chr&gt;</th><th scope=col>&lt;chr&gt;</th><th scope=col>&lt;chr&gt;</th><th scope=col>&lt;dbl&gt;</th><th scope=col>&lt;dbl&gt;</th><th scope=col>&lt;chr&gt;</th><th scope=col>&lt;chr&gt;</th><th scope=col>&lt;chr&gt;</th><th scope=col>&lt;chr&gt;</th></tr>\n",
       "</thead>\n",
       "<tbody>\n",
       "\t<tr><td>ABI3BP</td><td>Core matrisome</td><td>ECM Glycoproteins</td><td>ABI family, member 3 (NESH) binding protein     </td><td>FLJ41743|FLJ41754|NESHBP|TARSH                    </td><td>17265</td><td>17265</td><td>B4DSV9:D3YTG3:E9PPR9:E9PRB5:H0Y897:H0YCG4:H0YCP4:H0YDN0:H0YDW0:H0YEA0:H0YEL2:H0YF18:H0YF57:H7C4H3:H7C4N5:H7C4S3:H7C4T1:H7C4X4:H7C524:H7C556:H7C5S3:Q5JPC9:Q7Z7G0</td><td>NP_056244.2:XP_005247340.1               </td><td>Mouse:Abi3bp|</td><td>NA</td></tr>\n",
       "\t<tr><td>ADIPOQ</td><td>Core matrisome</td><td>ECM Glycoproteins</td><td>adiponectin, C1Q and collagen domain containing </td><td>ACDC|ACRP30|ADIPQTL1|ADPN|APM-1|APM1|GBP28|adipone</td><td>13633</td><td>13633</td><td>Q15848                                                                                                                                                          </td><td>NP_001171271.1:NP_004788.1               </td><td>Mouse:Adipoq|</td><td>NA</td></tr>\n",
       "\t<tr><td>AEBP1 </td><td>Core matrisome</td><td>ECM Glycoproteins</td><td>AE binding protein 1                            </td><td>ACLP; FLJ33612                                    </td><td>  303</td><td>  303</td><td>C9JLQ8:H7C0W8:H7C1J5:H7C391:H7C3D7:H7C4B5:Q8IUX7                                                                                                                </td><td>NP_001120.3                              </td><td>Mouse:Aebp1| </td><td>NA</td></tr>\n",
       "\t<tr><td>AGRN  </td><td>Core matrisome</td><td>ECM Glycoproteins</td><td>agrin                                           </td><td>FLJ45064                                          </td><td>  329</td><td>  329</td><td>H0Y5U1:O00468                                                                                                                                                   </td><td>NP_940978.2:XP_005244806.1:XP_006710696.1</td><td>Mouse:Agrn|  </td><td>NA</td></tr>\n",
       "\t<tr><td>AMBN  </td><td>Core matrisome</td><td>ECM Glycoproteins</td><td>ameloblastin (enamel matrix protein)            </td><td>-                                                 </td><td>  452</td><td>  452</td><td>Q9NP70                                                                                                                                                          </td><td>NP_057603.1                              </td><td>Mouse:Ambn|  </td><td>NA</td></tr>\n",
       "\t<tr><td>AMELX </td><td>Core matrisome</td><td>ECM Glycoproteins</td><td>amelogenin (amelogenesis imperfecta 1, X-linked)</td><td>AIH1|ALGN|AMG|AMGL|AMGX                           </td><td>  461</td><td>  461</td><td>Q99217                                                                                                                                                          </td><td>NP_001133.1:NP_872621.1:NP_872622.1      </td><td>Mouse:Amelx| </td><td>NA</td></tr>\n",
       "</tbody>\n",
       "</table>\n"
      ],
      "text/latex": [
       "A tibble: 6 × 11\n",
       "\\begin{tabular}{lllllllllll}\n",
       " gene\\_symbol & division & category & gene\\_name & synonyms & hgnc\\_ids & hgnc\\_ids\\_links & uniprot\\_ids & refseq\\_ids & orthology & notes\\\\\n",
       " <chr> & <chr> & <chr> & <chr> & <chr> & <dbl> & <dbl> & <chr> & <chr> & <chr> & <chr>\\\\\n",
       "\\hline\n",
       "\t ABI3BP & Core matrisome & ECM Glycoproteins & ABI family, member 3 (NESH) binding protein      & FLJ41743\\textbar{}FLJ41754\\textbar{}NESHBP\\textbar{}TARSH                     & 17265 & 17265 & B4DSV9:D3YTG3:E9PPR9:E9PRB5:H0Y897:H0YCG4:H0YCP4:H0YDN0:H0YDW0:H0YEA0:H0YEL2:H0YF18:H0YF57:H7C4H3:H7C4N5:H7C4S3:H7C4T1:H7C4X4:H7C524:H7C556:H7C5S3:Q5JPC9:Q7Z7G0 & NP\\_056244.2:XP\\_005247340.1                & Mouse:Abi3bp\\textbar{} & NA\\\\\n",
       "\t ADIPOQ & Core matrisome & ECM Glycoproteins & adiponectin, C1Q and collagen domain containing  & ACDC\\textbar{}ACRP30\\textbar{}ADIPQTL1\\textbar{}ADPN\\textbar{}APM-1\\textbar{}APM1\\textbar{}GBP28\\textbar{}adipone & 13633 & 13633 & Q15848                                                                                                                                                           & NP\\_001171271.1:NP\\_004788.1                & Mouse:Adipoq\\textbar{} & NA\\\\\n",
       "\t AEBP1  & Core matrisome & ECM Glycoproteins & AE binding protein 1                             & ACLP; FLJ33612                                     &   303 &   303 & C9JLQ8:H7C0W8:H7C1J5:H7C391:H7C3D7:H7C4B5:Q8IUX7                                                                                                                 & NP\\_001120.3                               & Mouse:Aebp1\\textbar{}  & NA\\\\\n",
       "\t AGRN   & Core matrisome & ECM Glycoproteins & agrin                                            & FLJ45064                                           &   329 &   329 & H0Y5U1:O00468                                                                                                                                                    & NP\\_940978.2:XP\\_005244806.1:XP\\_006710696.1 & Mouse:Agrn\\textbar{}   & NA\\\\\n",
       "\t AMBN   & Core matrisome & ECM Glycoproteins & ameloblastin (enamel matrix protein)             & -                                                  &   452 &   452 & Q9NP70                                                                                                                                                           & NP\\_057603.1                               & Mouse:Ambn\\textbar{}   & NA\\\\\n",
       "\t AMELX  & Core matrisome & ECM Glycoproteins & amelogenin (amelogenesis imperfecta 1, X-linked) & AIH1\\textbar{}ALGN\\textbar{}AMG\\textbar{}AMGL\\textbar{}AMGX                            &   461 &   461 & Q99217                                                                                                                                                           & NP\\_001133.1:NP\\_872621.1:NP\\_872622.1       & Mouse:Amelx\\textbar{}  & NA\\\\\n",
       "\\end{tabular}\n"
      ],
      "text/markdown": [
       "\n",
       "A tibble: 6 × 11\n",
       "\n",
       "| gene_symbol &lt;chr&gt; | division &lt;chr&gt; | category &lt;chr&gt; | gene_name &lt;chr&gt; | synonyms &lt;chr&gt; | hgnc_ids &lt;dbl&gt; | hgnc_ids_links &lt;dbl&gt; | uniprot_ids &lt;chr&gt; | refseq_ids &lt;chr&gt; | orthology &lt;chr&gt; | notes &lt;chr&gt; |\n",
       "|---|---|---|---|---|---|---|---|---|---|---|\n",
       "| ABI3BP | Core matrisome | ECM Glycoproteins | ABI family, member 3 (NESH) binding protein      | FLJ41743|FLJ41754|NESHBP|TARSH                     | 17265 | 17265 | B4DSV9:D3YTG3:E9PPR9:E9PRB5:H0Y897:H0YCG4:H0YCP4:H0YDN0:H0YDW0:H0YEA0:H0YEL2:H0YF18:H0YF57:H7C4H3:H7C4N5:H7C4S3:H7C4T1:H7C4X4:H7C524:H7C556:H7C5S3:Q5JPC9:Q7Z7G0 | NP_056244.2:XP_005247340.1                | Mouse:Abi3bp| | NA |\n",
       "| ADIPOQ | Core matrisome | ECM Glycoproteins | adiponectin, C1Q and collagen domain containing  | ACDC|ACRP30|ADIPQTL1|ADPN|APM-1|APM1|GBP28|adipone | 13633 | 13633 | Q15848                                                                                                                                                           | NP_001171271.1:NP_004788.1                | Mouse:Adipoq| | NA |\n",
       "| AEBP1  | Core matrisome | ECM Glycoproteins | AE binding protein 1                             | ACLP; FLJ33612                                     |   303 |   303 | C9JLQ8:H7C0W8:H7C1J5:H7C391:H7C3D7:H7C4B5:Q8IUX7                                                                                                                 | NP_001120.3                               | Mouse:Aebp1|  | NA |\n",
       "| AGRN   | Core matrisome | ECM Glycoproteins | agrin                                            | FLJ45064                                           |   329 |   329 | H0Y5U1:O00468                                                                                                                                                    | NP_940978.2:XP_005244806.1:XP_006710696.1 | Mouse:Agrn|   | NA |\n",
       "| AMBN   | Core matrisome | ECM Glycoproteins | ameloblastin (enamel matrix protein)             | -                                                  |   452 |   452 | Q9NP70                                                                                                                                                           | NP_057603.1                               | Mouse:Ambn|   | NA |\n",
       "| AMELX  | Core matrisome | ECM Glycoproteins | amelogenin (amelogenesis imperfecta 1, X-linked) | AIH1|ALGN|AMG|AMGL|AMGX                            |   461 |   461 | Q99217                                                                                                                                                           | NP_001133.1:NP_872621.1:NP_872622.1       | Mouse:Amelx|  | NA |\n",
       "\n"
      ],
      "text/plain": [
       "  gene_symbol division       category         \n",
       "1 ABI3BP      Core matrisome ECM Glycoproteins\n",
       "2 ADIPOQ      Core matrisome ECM Glycoproteins\n",
       "3 AEBP1       Core matrisome ECM Glycoproteins\n",
       "4 AGRN        Core matrisome ECM Glycoproteins\n",
       "5 AMBN        Core matrisome ECM Glycoproteins\n",
       "6 AMELX       Core matrisome ECM Glycoproteins\n",
       "  gene_name                                       \n",
       "1 ABI family, member 3 (NESH) binding protein     \n",
       "2 adiponectin, C1Q and collagen domain containing \n",
       "3 AE binding protein 1                            \n",
       "4 agrin                                           \n",
       "5 ameloblastin (enamel matrix protein)            \n",
       "6 amelogenin (amelogenesis imperfecta 1, X-linked)\n",
       "  synonyms                                           hgnc_ids hgnc_ids_links\n",
       "1 FLJ41743|FLJ41754|NESHBP|TARSH                     17265    17265         \n",
       "2 ACDC|ACRP30|ADIPQTL1|ADPN|APM-1|APM1|GBP28|adipone 13633    13633         \n",
       "3 ACLP; FLJ33612                                       303      303         \n",
       "4 FLJ45064                                             329      329         \n",
       "5 -                                                    452      452         \n",
       "6 AIH1|ALGN|AMG|AMGL|AMGX                              461      461         \n",
       "  uniprot_ids                                                                                                                                                     \n",
       "1 B4DSV9:D3YTG3:E9PPR9:E9PRB5:H0Y897:H0YCG4:H0YCP4:H0YDN0:H0YDW0:H0YEA0:H0YEL2:H0YF18:H0YF57:H7C4H3:H7C4N5:H7C4S3:H7C4T1:H7C4X4:H7C524:H7C556:H7C5S3:Q5JPC9:Q7Z7G0\n",
       "2 Q15848                                                                                                                                                          \n",
       "3 C9JLQ8:H7C0W8:H7C1J5:H7C391:H7C3D7:H7C4B5:Q8IUX7                                                                                                                \n",
       "4 H0Y5U1:O00468                                                                                                                                                   \n",
       "5 Q9NP70                                                                                                                                                          \n",
       "6 Q99217                                                                                                                                                          \n",
       "  refseq_ids                                orthology     notes\n",
       "1 NP_056244.2:XP_005247340.1                Mouse:Abi3bp| NA   \n",
       "2 NP_001171271.1:NP_004788.1                Mouse:Adipoq| NA   \n",
       "3 NP_001120.3                               Mouse:Aebp1|  NA   \n",
       "4 NP_940978.2:XP_005244806.1:XP_006710696.1 Mouse:Agrn|   NA   \n",
       "5 NP_057603.1                               Mouse:Ambn|   NA   \n",
       "6 NP_001133.1:NP_872621.1:NP_872622.1       Mouse:Amelx|  NA   "
      ]
     },
     "metadata": {},
     "output_type": "display_data"
    },
    {
     "data": {
      "text/html": [
       "1027"
      ],
      "text/latex": [
       "1027"
      ],
      "text/markdown": [
       "1027"
      ],
      "text/plain": [
       "[1] 1027"
      ]
     },
     "metadata": {},
     "output_type": "display_data"
    }
   ],
   "source": [
    "matrisome_df <- rutils::load_matrisome_df(matrisome_list)\n",
    "head(matrisome_df)\n",
    "nrow(matrisome_df)"
   ]
  },
  {
   "cell_type": "markdown",
   "metadata": {},
   "source": [
    "# Left join significant DEGs with matrisome list"
   ]
  },
  {
   "cell_type": "code",
   "execution_count": 12,
   "metadata": {},
   "outputs": [],
   "source": [
    "sig_dge_matrisome_lj_df <- sig_dge_res_df %>%\n",
    "    left_join(matrisome_df, by = c(\"geneID\" = \"gene_symbol\"), keep = TRUE) %>%\n",
    "    mutate(in_matrisome = !is.na(gene_symbol)) %>%    # If gene symbol is NA, this gene isn't in matrisome list\n",
    "    select(-gene_symbol) %>%    #We now have in_matrisome so this column isn't needed\n",
    "    select(geneID:padj, in_matrisome, everything())"
   ]
  },
  {
   "cell_type": "code",
   "execution_count": 15,
   "metadata": {},
   "outputs": [
    {
     "data": {
      "text/html": [
       "TRUE"
      ],
      "text/latex": [
       "TRUE"
      ],
      "text/markdown": [
       "TRUE"
      ],
      "text/plain": [
       "[1] TRUE"
      ]
     },
     "metadata": {},
     "output_type": "display_data"
    },
    {
     "data": {
      "text/html": [
       "<table>\n",
       "<caption>A tibble: 6 × 18</caption>\n",
       "<thead>\n",
       "\t<tr><th scope=col>geneID</th><th scope=col>baseMean</th><th scope=col>log2FoldChange</th><th scope=col>lfcSE</th><th scope=col>stat</th><th scope=col>pvalue</th><th scope=col>padj</th><th scope=col>in_matrisome</th><th scope=col>division</th><th scope=col>category</th><th scope=col>gene_name</th><th scope=col>synonyms</th><th scope=col>hgnc_ids</th><th scope=col>hgnc_ids_links</th><th scope=col>uniprot_ids</th><th scope=col>refseq_ids</th><th scope=col>orthology</th><th scope=col>notes</th></tr>\n",
       "\t<tr><th scope=col>&lt;chr&gt;</th><th scope=col>&lt;dbl&gt;</th><th scope=col>&lt;dbl&gt;</th><th scope=col>&lt;dbl&gt;</th><th scope=col>&lt;dbl&gt;</th><th scope=col>&lt;dbl&gt;</th><th scope=col>&lt;dbl&gt;</th><th scope=col>&lt;lgl&gt;</th><th scope=col>&lt;chr&gt;</th><th scope=col>&lt;chr&gt;</th><th scope=col>&lt;chr&gt;</th><th scope=col>&lt;chr&gt;</th><th scope=col>&lt;dbl&gt;</th><th scope=col>&lt;dbl&gt;</th><th scope=col>&lt;chr&gt;</th><th scope=col>&lt;chr&gt;</th><th scope=col>&lt;chr&gt;</th><th scope=col>&lt;chr&gt;</th></tr>\n",
       "</thead>\n",
       "<tbody>\n",
       "\t<tr><td>RADIL </td><td> 104.93138</td><td>-3.169362</td><td>0.4553518</td><td> -6.960249</td><td>3.396713e-12</td><td>2.224148e-11</td><td>FALSE</td><td>NA</td><td>NA</td><td>NA</td><td>NA</td><td>NA</td><td>NA</td><td>NA</td><td>NA</td><td>NA</td><td>NA</td></tr>\n",
       "\t<tr><td>AP1M2 </td><td>3876.50373</td><td> 2.727729</td><td>0.2544612</td><td> 10.719624</td><td>8.233752e-27</td><td>2.278681e-25</td><td>FALSE</td><td>NA</td><td>NA</td><td>NA</td><td>NA</td><td>NA</td><td>NA</td><td>NA</td><td>NA</td><td>NA</td><td>NA</td></tr>\n",
       "\t<tr><td>KLF1  </td><td>   6.54729</td><td> 2.910308</td><td>0.5879601</td><td>  4.949840</td><td>7.427460e-07</td><td>2.490286e-06</td><td>FALSE</td><td>NA</td><td>NA</td><td>NA</td><td>NA</td><td>NA</td><td>NA</td><td>NA</td><td>NA</td><td>NA</td><td>NA</td></tr>\n",
       "\t<tr><td>USHBP1</td><td>  83.24046</td><td>-3.733287</td><td>0.2858682</td><td>-13.059467</td><td>5.611964e-39</td><td>3.405286e-37</td><td>FALSE</td><td>NA</td><td>NA</td><td>NA</td><td>NA</td><td>NA</td><td>NA</td><td>NA</td><td>NA</td><td>NA</td><td>NA</td></tr>\n",
       "\t<tr><td>SGCA  </td><td>  61.36091</td><td>-5.340272</td><td>0.4590674</td><td>-11.632870</td><td>2.805043e-31</td><td>1.034525e-29</td><td>FALSE</td><td>NA</td><td>NA</td><td>NA</td><td>NA</td><td>NA</td><td>NA</td><td>NA</td><td>NA</td><td>NA</td><td>NA</td></tr>\n",
       "\t<tr><td>IFI35 </td><td>2560.83804</td><td> 1.251394</td><td>0.2714080</td><td>  4.610749</td><td>4.012210e-06</td><td>1.207698e-05</td><td>FALSE</td><td>NA</td><td>NA</td><td>NA</td><td>NA</td><td>NA</td><td>NA</td><td>NA</td><td>NA</td><td>NA</td><td>NA</td></tr>\n",
       "</tbody>\n",
       "</table>\n"
      ],
      "text/latex": [
       "A tibble: 6 × 18\n",
       "\\begin{tabular}{llllllllllllllllll}\n",
       " geneID & baseMean & log2FoldChange & lfcSE & stat & pvalue & padj & in\\_matrisome & division & category & gene\\_name & synonyms & hgnc\\_ids & hgnc\\_ids\\_links & uniprot\\_ids & refseq\\_ids & orthology & notes\\\\\n",
       " <chr> & <dbl> & <dbl> & <dbl> & <dbl> & <dbl> & <dbl> & <lgl> & <chr> & <chr> & <chr> & <chr> & <dbl> & <dbl> & <chr> & <chr> & <chr> & <chr>\\\\\n",
       "\\hline\n",
       "\t RADIL  &  104.93138 & -3.169362 & 0.4553518 &  -6.960249 & 3.396713e-12 & 2.224148e-11 & FALSE & NA & NA & NA & NA & NA & NA & NA & NA & NA & NA\\\\\n",
       "\t AP1M2  & 3876.50373 &  2.727729 & 0.2544612 &  10.719624 & 8.233752e-27 & 2.278681e-25 & FALSE & NA & NA & NA & NA & NA & NA & NA & NA & NA & NA\\\\\n",
       "\t KLF1   &    6.54729 &  2.910308 & 0.5879601 &   4.949840 & 7.427460e-07 & 2.490286e-06 & FALSE & NA & NA & NA & NA & NA & NA & NA & NA & NA & NA\\\\\n",
       "\t USHBP1 &   83.24046 & -3.733287 & 0.2858682 & -13.059467 & 5.611964e-39 & 3.405286e-37 & FALSE & NA & NA & NA & NA & NA & NA & NA & NA & NA & NA\\\\\n",
       "\t SGCA   &   61.36091 & -5.340272 & 0.4590674 & -11.632870 & 2.805043e-31 & 1.034525e-29 & FALSE & NA & NA & NA & NA & NA & NA & NA & NA & NA & NA\\\\\n",
       "\t IFI35  & 2560.83804 &  1.251394 & 0.2714080 &   4.610749 & 4.012210e-06 & 1.207698e-05 & FALSE & NA & NA & NA & NA & NA & NA & NA & NA & NA & NA\\\\\n",
       "\\end{tabular}\n"
      ],
      "text/markdown": [
       "\n",
       "A tibble: 6 × 18\n",
       "\n",
       "| geneID &lt;chr&gt; | baseMean &lt;dbl&gt; | log2FoldChange &lt;dbl&gt; | lfcSE &lt;dbl&gt; | stat &lt;dbl&gt; | pvalue &lt;dbl&gt; | padj &lt;dbl&gt; | in_matrisome &lt;lgl&gt; | division &lt;chr&gt; | category &lt;chr&gt; | gene_name &lt;chr&gt; | synonyms &lt;chr&gt; | hgnc_ids &lt;dbl&gt; | hgnc_ids_links &lt;dbl&gt; | uniprot_ids &lt;chr&gt; | refseq_ids &lt;chr&gt; | orthology &lt;chr&gt; | notes &lt;chr&gt; |\n",
       "|---|---|---|---|---|---|---|---|---|---|---|---|---|---|---|---|---|---|\n",
       "| RADIL  |  104.93138 | -3.169362 | 0.4553518 |  -6.960249 | 3.396713e-12 | 2.224148e-11 | FALSE | NA | NA | NA | NA | NA | NA | NA | NA | NA | NA |\n",
       "| AP1M2  | 3876.50373 |  2.727729 | 0.2544612 |  10.719624 | 8.233752e-27 | 2.278681e-25 | FALSE | NA | NA | NA | NA | NA | NA | NA | NA | NA | NA |\n",
       "| KLF1   |    6.54729 |  2.910308 | 0.5879601 |   4.949840 | 7.427460e-07 | 2.490286e-06 | FALSE | NA | NA | NA | NA | NA | NA | NA | NA | NA | NA |\n",
       "| USHBP1 |   83.24046 | -3.733287 | 0.2858682 | -13.059467 | 5.611964e-39 | 3.405286e-37 | FALSE | NA | NA | NA | NA | NA | NA | NA | NA | NA | NA |\n",
       "| SGCA   |   61.36091 | -5.340272 | 0.4590674 | -11.632870 | 2.805043e-31 | 1.034525e-29 | FALSE | NA | NA | NA | NA | NA | NA | NA | NA | NA | NA |\n",
       "| IFI35  | 2560.83804 |  1.251394 | 0.2714080 |   4.610749 | 4.012210e-06 | 1.207698e-05 | FALSE | NA | NA | NA | NA | NA | NA | NA | NA | NA | NA |\n",
       "\n"
      ],
      "text/plain": [
       "  geneID baseMean   log2FoldChange lfcSE     stat       pvalue      \n",
       "1 RADIL   104.93138 -3.169362      0.4553518  -6.960249 3.396713e-12\n",
       "2 AP1M2  3876.50373  2.727729      0.2544612  10.719624 8.233752e-27\n",
       "3 KLF1      6.54729  2.910308      0.5879601   4.949840 7.427460e-07\n",
       "4 USHBP1   83.24046 -3.733287      0.2858682 -13.059467 5.611964e-39\n",
       "5 SGCA     61.36091 -5.340272      0.4590674 -11.632870 2.805043e-31\n",
       "6 IFI35  2560.83804  1.251394      0.2714080   4.610749 4.012210e-06\n",
       "  padj         in_matrisome division category gene_name synonyms hgnc_ids\n",
       "1 2.224148e-11 FALSE        NA       NA       NA        NA       NA      \n",
       "2 2.278681e-25 FALSE        NA       NA       NA        NA       NA      \n",
       "3 2.490286e-06 FALSE        NA       NA       NA        NA       NA      \n",
       "4 3.405286e-37 FALSE        NA       NA       NA        NA       NA      \n",
       "5 1.034525e-29 FALSE        NA       NA       NA        NA       NA      \n",
       "6 1.207698e-05 FALSE        NA       NA       NA        NA       NA      \n",
       "  hgnc_ids_links uniprot_ids refseq_ids orthology notes\n",
       "1 NA             NA          NA         NA        NA   \n",
       "2 NA             NA          NA         NA        NA   \n",
       "3 NA             NA          NA         NA        NA   \n",
       "4 NA             NA          NA         NA        NA   \n",
       "5 NA             NA          NA         NA        NA   \n",
       "6 NA             NA          NA         NA        NA   "
      ]
     },
     "metadata": {},
     "output_type": "display_data"
    }
   ],
   "source": [
    "nrow(sig_dge_matrisome_lj_df) == nrow(sig_dge_res_df)\n",
    "head(sig_dge_matrisome_lj_df)"
   ]
  },
  {
   "cell_type": "markdown",
   "metadata": {},
   "source": [
    "## Counts of significant DEGs in matrisome list\n",
    "- Get significant DEG counts for each category of matrisome list"
   ]
  },
  {
   "cell_type": "code",
   "execution_count": 28,
   "metadata": {},
   "outputs": [
    {
     "data": {
      "text/html": [
       "<table>\n",
       "<caption>A tibble: 6 × 2</caption>\n",
       "<thead>\n",
       "\t<tr><th scope=col>category</th><th scope=col>n_sig_degs</th></tr>\n",
       "\t<tr><th scope=col>&lt;chr&gt;</th><th scope=col>&lt;int&gt;</th></tr>\n",
       "</thead>\n",
       "<tbody>\n",
       "\t<tr><td>Collagens              </td><td> 28</td></tr>\n",
       "\t<tr><td>ECM Glycoproteins      </td><td>113</td></tr>\n",
       "\t<tr><td>ECM Regulators         </td><td>123</td></tr>\n",
       "\t<tr><td>ECM-affiliated Proteins</td><td> 90</td></tr>\n",
       "\t<tr><td>Proteoglycans          </td><td> 24</td></tr>\n",
       "\t<tr><td>Secreted Factors       </td><td>181</td></tr>\n",
       "</tbody>\n",
       "</table>\n"
      ],
      "text/latex": [
       "A tibble: 6 × 2\n",
       "\\begin{tabular}{ll}\n",
       " category & n\\_sig\\_degs\\\\\n",
       " <chr> & <int>\\\\\n",
       "\\hline\n",
       "\t Collagens               &  28\\\\\n",
       "\t ECM Glycoproteins       & 113\\\\\n",
       "\t ECM Regulators          & 123\\\\\n",
       "\t ECM-affiliated Proteins &  90\\\\\n",
       "\t Proteoglycans           &  24\\\\\n",
       "\t Secreted Factors        & 181\\\\\n",
       "\\end{tabular}\n"
      ],
      "text/markdown": [
       "\n",
       "A tibble: 6 × 2\n",
       "\n",
       "| category &lt;chr&gt; | n_sig_degs &lt;int&gt; |\n",
       "|---|---|\n",
       "| Collagens               |  28 |\n",
       "| ECM Glycoproteins       | 113 |\n",
       "| ECM Regulators          | 123 |\n",
       "| ECM-affiliated Proteins |  90 |\n",
       "| Proteoglycans           |  24 |\n",
       "| Secreted Factors        | 181 |\n",
       "\n"
      ],
      "text/plain": [
       "  category                n_sig_degs\n",
       "1 Collagens                28       \n",
       "2 ECM Glycoproteins       113       \n",
       "3 ECM Regulators          123       \n",
       "4 ECM-affiliated Proteins  90       \n",
       "5 Proteoglycans            24       \n",
       "6 Secreted Factors        181       "
      ]
     },
     "metadata": {},
     "output_type": "display_data"
    },
    {
     "data": {
      "text/html": [
       "'Total significant DEGs in matrisome list: 559'"
      ],
      "text/latex": [
       "'Total significant DEGs in matrisome list: 559'"
      ],
      "text/markdown": [
       "'Total significant DEGs in matrisome list: 559'"
      ],
      "text/plain": [
       "[1] \"Total significant DEGs in matrisome list: 559\""
      ]
     },
     "metadata": {},
     "output_type": "display_data"
    }
   ],
   "source": [
    "matrisome_sig_dge_category_counts_df <- sig_dge_matrisome_lj_df %>%\n",
    "    dplyr::count(category) %>%\n",
    "    dplyr::rename(n_sig_degs = n) %>%\n",
    "    dplyr::filter(!is.na(category))\n",
    "\n",
    "n_sig_mat_genes <- sum(matrisome_sig_dge_category_counts_df$n_sig_degs)\n",
    "\n",
    "matrisome_sig_dge_category_counts_df\n",
    "paste0(\"Total significant DEGs in matrisome list: \", n_sig_mat_genes)"
   ]
  },
  {
   "cell_type": "markdown",
   "metadata": {},
   "source": [
    "# Left join matrisome list with all DGE results and track expression/presence in dataset"
   ]
  },
  {
   "cell_type": "code",
   "execution_count": 59,
   "metadata": {},
   "outputs": [],
   "source": [
    "all_genes_in_dset <- counts_df$geneID\n",
    "matrisome_lj_df <- matrisome_df %>%\n",
    "    # Which matrisome genes were in the dataset?\n",
    "    mutate(\n",
    "        in_unified_dataset = dplyr::case_when(\n",
    "            gene_symbol %in% all_genes_in_dset ~ TRUE,\n",
    "            !(gene_symbol %in% all_genes_in_dset) ~ FALSE\n",
    "        )\n",
    "    ) %>%\n",
    "    # Which matrisome genes were lowly expressed?\n",
    "    left_join(dge_res_df, by = c(\"gene_symbol\" = \"geneID\"), keep = TRUE) %>%\n",
    "    mutate(lowly_expressed = is.na(geneID)) %>%\n",
    "    dplyr::select(-geneID) %>%\n",
    "    dplyr::select(gene_symbol, in_unified_dataset, lowly_expressed, everything()) %>%\n",
    "    dplyr::rename(geneID = gene_symbol)"
   ]
  },
  {
   "cell_type": "code",
   "execution_count": 60,
   "metadata": {},
   "outputs": [
    {
     "data": {
      "text/html": [
       "<table>\n",
       "<caption>A tibble: 6 × 19</caption>\n",
       "<thead>\n",
       "\t<tr><th scope=col>geneID</th><th scope=col>in_unified_dataset</th><th scope=col>lowly_expressed</th><th scope=col>division</th><th scope=col>category</th><th scope=col>gene_name</th><th scope=col>synonyms</th><th scope=col>hgnc_ids</th><th scope=col>hgnc_ids_links</th><th scope=col>uniprot_ids</th><th scope=col>refseq_ids</th><th scope=col>orthology</th><th scope=col>notes</th><th scope=col>baseMean</th><th scope=col>log2FoldChange</th><th scope=col>lfcSE</th><th scope=col>stat</th><th scope=col>pvalue</th><th scope=col>padj</th></tr>\n",
       "\t<tr><th scope=col>&lt;chr&gt;</th><th scope=col>&lt;lgl&gt;</th><th scope=col>&lt;lgl&gt;</th><th scope=col>&lt;chr&gt;</th><th scope=col>&lt;chr&gt;</th><th scope=col>&lt;chr&gt;</th><th scope=col>&lt;chr&gt;</th><th scope=col>&lt;dbl&gt;</th><th scope=col>&lt;dbl&gt;</th><th scope=col>&lt;chr&gt;</th><th scope=col>&lt;chr&gt;</th><th scope=col>&lt;chr&gt;</th><th scope=col>&lt;chr&gt;</th><th scope=col>&lt;dbl&gt;</th><th scope=col>&lt;dbl&gt;</th><th scope=col>&lt;dbl&gt;</th><th scope=col>&lt;dbl&gt;</th><th scope=col>&lt;dbl&gt;</th><th scope=col>&lt;dbl&gt;</th></tr>\n",
       "</thead>\n",
       "<tbody>\n",
       "\t<tr><td>ABI3BP</td><td>TRUE</td><td>FALSE</td><td>Core matrisome</td><td>ECM Glycoproteins</td><td>ABI family, member 3 (NESH) binding protein     </td><td>FLJ41743|FLJ41754|NESHBP|TARSH                    </td><td>17265</td><td>17265</td><td>B4DSV9:D3YTG3:E9PPR9:E9PRB5:H0Y897:H0YCG4:H0YCP4:H0YDN0:H0YDW0:H0YEA0:H0YEL2:H0YF18:H0YF57:H7C4H3:H7C4N5:H7C4S3:H7C4T1:H7C4X4:H7C524:H7C556:H7C5S3:Q5JPC9:Q7Z7G0</td><td>NP_056244.2:XP_005247340.1               </td><td>Mouse:Abi3bp|</td><td>NA</td><td>  681.5641</td><td>-3.396137</td><td>0.4909099</td><td>-6.918045</td><td>4.579185e-12</td><td>2.956389e-11</td></tr>\n",
       "\t<tr><td>ADIPOQ</td><td>TRUE</td><td> TRUE</td><td>Core matrisome</td><td>ECM Glycoproteins</td><td>adiponectin, C1Q and collagen domain containing </td><td>ACDC|ACRP30|ADIPQTL1|ADPN|APM-1|APM1|GBP28|adipone</td><td>13633</td><td>13633</td><td>Q15848                                                                                                                                                          </td><td>NP_001171271.1:NP_004788.1               </td><td>Mouse:Adipoq|</td><td>NA</td><td>        NA</td><td>       NA</td><td>       NA</td><td>       NA</td><td>          NA</td><td>          NA</td></tr>\n",
       "\t<tr><td>AEBP1 </td><td>TRUE</td><td>FALSE</td><td>Core matrisome</td><td>ECM Glycoproteins</td><td>AE binding protein 1                            </td><td>ACLP; FLJ33612                                    </td><td>  303</td><td>  303</td><td>C9JLQ8:H7C0W8:H7C1J5:H7C391:H7C3D7:H7C4B5:Q8IUX7                                                                                                                </td><td>NP_001120.3                              </td><td>Mouse:Aebp1| </td><td>NA</td><td>11665.9238</td><td>-2.442388</td><td>0.3669784</td><td>-6.655399</td><td>2.825329e-11</td><td>1.658899e-10</td></tr>\n",
       "\t<tr><td>AGRN  </td><td>TRUE</td><td>FALSE</td><td>Core matrisome</td><td>ECM Glycoproteins</td><td>agrin                                           </td><td>FLJ45064                                          </td><td>  329</td><td>  329</td><td>H0Y5U1:O00468                                                                                                                                                   </td><td>NP_940978.2:XP_005244806.1:XP_006710696.1</td><td>Mouse:Agrn|  </td><td>NA</td><td>23197.2582</td><td> 2.056296</td><td>0.2456779</td><td> 8.369886</td><td>5.767408e-17</td><td>6.502725e-16</td></tr>\n",
       "\t<tr><td>AMBN  </td><td>TRUE</td><td> TRUE</td><td>Core matrisome</td><td>ECM Glycoproteins</td><td>ameloblastin (enamel matrix protein)            </td><td>-                                                 </td><td>  452</td><td>  452</td><td>Q9NP70                                                                                                                                                          </td><td>NP_057603.1                              </td><td>Mouse:Ambn|  </td><td>NA</td><td>        NA</td><td>       NA</td><td>       NA</td><td>       NA</td><td>          NA</td><td>          NA</td></tr>\n",
       "\t<tr><td>AMELX </td><td>TRUE</td><td> TRUE</td><td>Core matrisome</td><td>ECM Glycoproteins</td><td>amelogenin (amelogenesis imperfecta 1, X-linked)</td><td>AIH1|ALGN|AMG|AMGL|AMGX                           </td><td>  461</td><td>  461</td><td>Q99217                                                                                                                                                          </td><td>NP_001133.1:NP_872621.1:NP_872622.1      </td><td>Mouse:Amelx| </td><td>NA</td><td>        NA</td><td>       NA</td><td>       NA</td><td>       NA</td><td>          NA</td><td>          NA</td></tr>\n",
       "</tbody>\n",
       "</table>\n"
      ],
      "text/latex": [
       "A tibble: 6 × 19\n",
       "\\begin{tabular}{lllllllllllllllllll}\n",
       " geneID & in\\_unified\\_dataset & lowly\\_expressed & division & category & gene\\_name & synonyms & hgnc\\_ids & hgnc\\_ids\\_links & uniprot\\_ids & refseq\\_ids & orthology & notes & baseMean & log2FoldChange & lfcSE & stat & pvalue & padj\\\\\n",
       " <chr> & <lgl> & <lgl> & <chr> & <chr> & <chr> & <chr> & <dbl> & <dbl> & <chr> & <chr> & <chr> & <chr> & <dbl> & <dbl> & <dbl> & <dbl> & <dbl> & <dbl>\\\\\n",
       "\\hline\n",
       "\t ABI3BP & TRUE & FALSE & Core matrisome & ECM Glycoproteins & ABI family, member 3 (NESH) binding protein      & FLJ41743\\textbar{}FLJ41754\\textbar{}NESHBP\\textbar{}TARSH                     & 17265 & 17265 & B4DSV9:D3YTG3:E9PPR9:E9PRB5:H0Y897:H0YCG4:H0YCP4:H0YDN0:H0YDW0:H0YEA0:H0YEL2:H0YF18:H0YF57:H7C4H3:H7C4N5:H7C4S3:H7C4T1:H7C4X4:H7C524:H7C556:H7C5S3:Q5JPC9:Q7Z7G0 & NP\\_056244.2:XP\\_005247340.1                & Mouse:Abi3bp\\textbar{} & NA &   681.5641 & -3.396137 & 0.4909099 & -6.918045 & 4.579185e-12 & 2.956389e-11\\\\\n",
       "\t ADIPOQ & TRUE &  TRUE & Core matrisome & ECM Glycoproteins & adiponectin, C1Q and collagen domain containing  & ACDC\\textbar{}ACRP30\\textbar{}ADIPQTL1\\textbar{}ADPN\\textbar{}APM-1\\textbar{}APM1\\textbar{}GBP28\\textbar{}adipone & 13633 & 13633 & Q15848                                                                                                                                                           & NP\\_001171271.1:NP\\_004788.1                & Mouse:Adipoq\\textbar{} & NA &         NA &        NA &        NA &        NA &           NA &           NA\\\\\n",
       "\t AEBP1  & TRUE & FALSE & Core matrisome & ECM Glycoproteins & AE binding protein 1                             & ACLP; FLJ33612                                     &   303 &   303 & C9JLQ8:H7C0W8:H7C1J5:H7C391:H7C3D7:H7C4B5:Q8IUX7                                                                                                                 & NP\\_001120.3                               & Mouse:Aebp1\\textbar{}  & NA & 11665.9238 & -2.442388 & 0.3669784 & -6.655399 & 2.825329e-11 & 1.658899e-10\\\\\n",
       "\t AGRN   & TRUE & FALSE & Core matrisome & ECM Glycoproteins & agrin                                            & FLJ45064                                           &   329 &   329 & H0Y5U1:O00468                                                                                                                                                    & NP\\_940978.2:XP\\_005244806.1:XP\\_006710696.1 & Mouse:Agrn\\textbar{}   & NA & 23197.2582 &  2.056296 & 0.2456779 &  8.369886 & 5.767408e-17 & 6.502725e-16\\\\\n",
       "\t AMBN   & TRUE &  TRUE & Core matrisome & ECM Glycoproteins & ameloblastin (enamel matrix protein)             & -                                                  &   452 &   452 & Q9NP70                                                                                                                                                           & NP\\_057603.1                               & Mouse:Ambn\\textbar{}   & NA &         NA &        NA &        NA &        NA &           NA &           NA\\\\\n",
       "\t AMELX  & TRUE &  TRUE & Core matrisome & ECM Glycoproteins & amelogenin (amelogenesis imperfecta 1, X-linked) & AIH1\\textbar{}ALGN\\textbar{}AMG\\textbar{}AMGL\\textbar{}AMGX                            &   461 &   461 & Q99217                                                                                                                                                           & NP\\_001133.1:NP\\_872621.1:NP\\_872622.1       & Mouse:Amelx\\textbar{}  & NA &         NA &        NA &        NA &        NA &           NA &           NA\\\\\n",
       "\\end{tabular}\n"
      ],
      "text/markdown": [
       "\n",
       "A tibble: 6 × 19\n",
       "\n",
       "| geneID &lt;chr&gt; | in_unified_dataset &lt;lgl&gt; | lowly_expressed &lt;lgl&gt; | division &lt;chr&gt; | category &lt;chr&gt; | gene_name &lt;chr&gt; | synonyms &lt;chr&gt; | hgnc_ids &lt;dbl&gt; | hgnc_ids_links &lt;dbl&gt; | uniprot_ids &lt;chr&gt; | refseq_ids &lt;chr&gt; | orthology &lt;chr&gt; | notes &lt;chr&gt; | baseMean &lt;dbl&gt; | log2FoldChange &lt;dbl&gt; | lfcSE &lt;dbl&gt; | stat &lt;dbl&gt; | pvalue &lt;dbl&gt; | padj &lt;dbl&gt; |\n",
       "|---|---|---|---|---|---|---|---|---|---|---|---|---|---|---|---|---|---|---|\n",
       "| ABI3BP | TRUE | FALSE | Core matrisome | ECM Glycoproteins | ABI family, member 3 (NESH) binding protein      | FLJ41743|FLJ41754|NESHBP|TARSH                     | 17265 | 17265 | B4DSV9:D3YTG3:E9PPR9:E9PRB5:H0Y897:H0YCG4:H0YCP4:H0YDN0:H0YDW0:H0YEA0:H0YEL2:H0YF18:H0YF57:H7C4H3:H7C4N5:H7C4S3:H7C4T1:H7C4X4:H7C524:H7C556:H7C5S3:Q5JPC9:Q7Z7G0 | NP_056244.2:XP_005247340.1                | Mouse:Abi3bp| | NA |   681.5641 | -3.396137 | 0.4909099 | -6.918045 | 4.579185e-12 | 2.956389e-11 |\n",
       "| ADIPOQ | TRUE |  TRUE | Core matrisome | ECM Glycoproteins | adiponectin, C1Q and collagen domain containing  | ACDC|ACRP30|ADIPQTL1|ADPN|APM-1|APM1|GBP28|adipone | 13633 | 13633 | Q15848                                                                                                                                                           | NP_001171271.1:NP_004788.1                | Mouse:Adipoq| | NA |         NA |        NA |        NA |        NA |           NA |           NA |\n",
       "| AEBP1  | TRUE | FALSE | Core matrisome | ECM Glycoproteins | AE binding protein 1                             | ACLP; FLJ33612                                     |   303 |   303 | C9JLQ8:H7C0W8:H7C1J5:H7C391:H7C3D7:H7C4B5:Q8IUX7                                                                                                                 | NP_001120.3                               | Mouse:Aebp1|  | NA | 11665.9238 | -2.442388 | 0.3669784 | -6.655399 | 2.825329e-11 | 1.658899e-10 |\n",
       "| AGRN   | TRUE | FALSE | Core matrisome | ECM Glycoproteins | agrin                                            | FLJ45064                                           |   329 |   329 | H0Y5U1:O00468                                                                                                                                                    | NP_940978.2:XP_005244806.1:XP_006710696.1 | Mouse:Agrn|   | NA | 23197.2582 |  2.056296 | 0.2456779 |  8.369886 | 5.767408e-17 | 6.502725e-16 |\n",
       "| AMBN   | TRUE |  TRUE | Core matrisome | ECM Glycoproteins | ameloblastin (enamel matrix protein)             | -                                                  |   452 |   452 | Q9NP70                                                                                                                                                           | NP_057603.1                               | Mouse:Ambn|   | NA |         NA |        NA |        NA |        NA |           NA |           NA |\n",
       "| AMELX  | TRUE |  TRUE | Core matrisome | ECM Glycoproteins | amelogenin (amelogenesis imperfecta 1, X-linked) | AIH1|ALGN|AMG|AMGL|AMGX                            |   461 |   461 | Q99217                                                                                                                                                           | NP_001133.1:NP_872621.1:NP_872622.1       | Mouse:Amelx|  | NA |         NA |        NA |        NA |        NA |           NA |           NA |\n",
       "\n"
      ],
      "text/plain": [
       "  geneID in_unified_dataset lowly_expressed division       category         \n",
       "1 ABI3BP TRUE               FALSE           Core matrisome ECM Glycoproteins\n",
       "2 ADIPOQ TRUE                TRUE           Core matrisome ECM Glycoproteins\n",
       "3 AEBP1  TRUE               FALSE           Core matrisome ECM Glycoproteins\n",
       "4 AGRN   TRUE               FALSE           Core matrisome ECM Glycoproteins\n",
       "5 AMBN   TRUE                TRUE           Core matrisome ECM Glycoproteins\n",
       "6 AMELX  TRUE                TRUE           Core matrisome ECM Glycoproteins\n",
       "  gene_name                                       \n",
       "1 ABI family, member 3 (NESH) binding protein     \n",
       "2 adiponectin, C1Q and collagen domain containing \n",
       "3 AE binding protein 1                            \n",
       "4 agrin                                           \n",
       "5 ameloblastin (enamel matrix protein)            \n",
       "6 amelogenin (amelogenesis imperfecta 1, X-linked)\n",
       "  synonyms                                           hgnc_ids hgnc_ids_links\n",
       "1 FLJ41743|FLJ41754|NESHBP|TARSH                     17265    17265         \n",
       "2 ACDC|ACRP30|ADIPQTL1|ADPN|APM-1|APM1|GBP28|adipone 13633    13633         \n",
       "3 ACLP; FLJ33612                                       303      303         \n",
       "4 FLJ45064                                             329      329         \n",
       "5 -                                                    452      452         \n",
       "6 AIH1|ALGN|AMG|AMGL|AMGX                              461      461         \n",
       "  uniprot_ids                                                                                                                                                     \n",
       "1 B4DSV9:D3YTG3:E9PPR9:E9PRB5:H0Y897:H0YCG4:H0YCP4:H0YDN0:H0YDW0:H0YEA0:H0YEL2:H0YF18:H0YF57:H7C4H3:H7C4N5:H7C4S3:H7C4T1:H7C4X4:H7C524:H7C556:H7C5S3:Q5JPC9:Q7Z7G0\n",
       "2 Q15848                                                                                                                                                          \n",
       "3 C9JLQ8:H7C0W8:H7C1J5:H7C391:H7C3D7:H7C4B5:Q8IUX7                                                                                                                \n",
       "4 H0Y5U1:O00468                                                                                                                                                   \n",
       "5 Q9NP70                                                                                                                                                          \n",
       "6 Q99217                                                                                                                                                          \n",
       "  refseq_ids                                orthology     notes baseMean  \n",
       "1 NP_056244.2:XP_005247340.1                Mouse:Abi3bp| NA      681.5641\n",
       "2 NP_001171271.1:NP_004788.1                Mouse:Adipoq| NA            NA\n",
       "3 NP_001120.3                               Mouse:Aebp1|  NA    11665.9238\n",
       "4 NP_940978.2:XP_005244806.1:XP_006710696.1 Mouse:Agrn|   NA    23197.2582\n",
       "5 NP_057603.1                               Mouse:Ambn|   NA            NA\n",
       "6 NP_001133.1:NP_872621.1:NP_872622.1       Mouse:Amelx|  NA            NA\n",
       "  log2FoldChange lfcSE     stat      pvalue       padj        \n",
       "1 -3.396137      0.4909099 -6.918045 4.579185e-12 2.956389e-11\n",
       "2        NA             NA        NA           NA           NA\n",
       "3 -2.442388      0.3669784 -6.655399 2.825329e-11 1.658899e-10\n",
       "4  2.056296      0.2456779  8.369886 5.767408e-17 6.502725e-16\n",
       "5        NA             NA        NA           NA           NA\n",
       "6        NA             NA        NA           NA           NA"
      ]
     },
     "metadata": {},
     "output_type": "display_data"
    }
   ],
   "source": [
    "head(matrisome_lj_df)"
   ]
  },
  {
   "cell_type": "markdown",
   "metadata": {},
   "source": [
    "## Some statistics about the matrisome genes"
   ]
  },
  {
   "cell_type": "code",
   "execution_count": 71,
   "metadata": {},
   "outputs": [
    {
     "data": {
      "text/html": [
       "19"
      ],
      "text/latex": [
       "19"
      ],
      "text/markdown": [
       "19"
      ],
      "text/plain": [
       "[1] 19"
      ]
     },
     "metadata": {},
     "output_type": "display_data"
    },
    {
     "data": {
      "text/html": [
       "<style>\n",
       ".list-inline {list-style: none; margin:0; padding: 0}\n",
       ".list-inline>li {display: inline-block}\n",
       ".list-inline>li:not(:last-child)::after {content: \"\\00b7\"; padding: 0 .5ex}\n",
       "</style>\n",
       "<ol class=list-inline><li>'KCP'</li><li>'SPON1'</li><li>'SSPO'</li><li>'COL26A1'</li><li>'GRIFIN'</li><li>'HSPC159'</li><li>'SEMA3B'</li><li>'LEPREL2'</li><li>'MMP12'</li><li>'PRSS2'</li><li>'SERPINA2'</li><li>'SERPINB11'</li><li>'CXCL8'</li><li>'IL1F5'</li><li>'IL1F6'</li><li>'IL1F7'</li><li>'IL1F8'</li><li>'IL1F9'</li><li>'MST1L'</li></ol>\n"
      ],
      "text/latex": [
       "\\begin{enumerate*}\n",
       "\\item 'KCP'\n",
       "\\item 'SPON1'\n",
       "\\item 'SSPO'\n",
       "\\item 'COL26A1'\n",
       "\\item 'GRIFIN'\n",
       "\\item 'HSPC159'\n",
       "\\item 'SEMA3B'\n",
       "\\item 'LEPREL2'\n",
       "\\item 'MMP12'\n",
       "\\item 'PRSS2'\n",
       "\\item 'SERPINA2'\n",
       "\\item 'SERPINB11'\n",
       "\\item 'CXCL8'\n",
       "\\item 'IL1F5'\n",
       "\\item 'IL1F6'\n",
       "\\item 'IL1F7'\n",
       "\\item 'IL1F8'\n",
       "\\item 'IL1F9'\n",
       "\\item 'MST1L'\n",
       "\\end{enumerate*}\n"
      ],
      "text/markdown": [
       "1. 'KCP'\n",
       "2. 'SPON1'\n",
       "3. 'SSPO'\n",
       "4. 'COL26A1'\n",
       "5. 'GRIFIN'\n",
       "6. 'HSPC159'\n",
       "7. 'SEMA3B'\n",
       "8. 'LEPREL2'\n",
       "9. 'MMP12'\n",
       "10. 'PRSS2'\n",
       "11. 'SERPINA2'\n",
       "12. 'SERPINB11'\n",
       "13. 'CXCL8'\n",
       "14. 'IL1F5'\n",
       "15. 'IL1F6'\n",
       "16. 'IL1F7'\n",
       "17. 'IL1F8'\n",
       "18. 'IL1F9'\n",
       "19. 'MST1L'\n",
       "\n",
       "\n"
      ],
      "text/plain": [
       " [1] \"KCP\"       \"SPON1\"     \"SSPO\"      \"COL26A1\"   \"GRIFIN\"    \"HSPC159\"  \n",
       " [7] \"SEMA3B\"    \"LEPREL2\"   \"MMP12\"     \"PRSS2\"     \"SERPINA2\"  \"SERPINB11\"\n",
       "[13] \"CXCL8\"     \"IL1F5\"     \"IL1F6\"     \"IL1F7\"     \"IL1F8\"     \"IL1F9\"    \n",
       "[19] \"MST1L\"    "
      ]
     },
     "metadata": {},
     "output_type": "display_data"
    },
    {
     "data": {
      "text/html": [
       "110"
      ],
      "text/latex": [
       "110"
      ],
      "text/markdown": [
       "110"
      ],
      "text/plain": [
       "[1] 110"
      ]
     },
     "metadata": {},
     "output_type": "display_data"
    },
    {
     "data": {
      "text/html": [
       "<style>\n",
       ".list-inline {list-style: none; margin:0; padding: 0}\n",
       ".list-inline>li {display: inline-block}\n",
       ".list-inline>li:not(:last-child)::after {content: \"\\00b7\"; padding: 0 .5ex}\n",
       "</style>\n",
       "<ol class=list-inline><li>'ADIPOQ'</li><li>'AMBN'</li><li>'AMELX'</li><li>'AMELY'</li><li>'BSPH1'</li><li>'DSPP'</li><li>'ELSPBP1'</li><li>'KCP'</li><li>'LGI1'</li><li>'MEPE'</li><li>'OTOL1'</li><li>'SPON1'</li><li>'SSPO'</li><li>'TECTB'</li><li>'TINAG'</li><li>'ZP2'</li><li>'ZP4'</li><li>'COL26A1'</li><li>'OPTC'</li><li>'PRG3'</li><li>'C1QTNF8'</li><li>'CLEC19A'</li><li>'CLEC3A'</li><li>'FREM3'</li><li>'GRIFIN'</li><li>'HSPC159'</li><li>'LGALS13'</li><li>'LGALS14'</li><li>'LGALS16'</li><li>'MBL2'</li><li>'MUC17'</li><li>'MUC7'</li><li>'MUC8'</li><li>'PROL1'</li><li>'REG1B'</li><li>'REG3A'</li><li>'REG3G'</li><li>'SEMA3B'</li><li>'SFTA3'</li><li>'ADAM18'</li><li>'ADAM2'</li><li>'ADAM30'</li><li>'ADAM7'</li><li>'CELA2A'</li><li>'CELA2B'</li><li>'CELA3A'</li><li>'CELA3B'</li><li>'CST11'</li><li>'CST5'</li><li>'CST8'</li><li>'CST9'</li><li>'CST9L'</li><li>'F9'</li><li>'LEPREL2'</li><li>'MMP12'</li><li>'MMP20'</li><li>'MMP26'</li><li>'PRSS2'</li><li>'SERPINA12'</li><li>'SERPINA2'</li><li>'SERPINA7'</li><li>'SERPINB11'</li><li>'SPAM1'</li><li>'TGM6'</li><li>'BMP10'</li><li>'BMP15'</li><li>'CFC1'</li><li>'CFC1B'</li><li>'CSHL1'</li><li>'CXCL8'</li><li>'FGF16'</li><li>'FGF21'</li><li>'FGF23'</li><li>'FGF3'</li><li>'FGF4'</li><li>'FGF6'</li><li>'GDF2'</li><li>'GH2'</li><li>'IFNA10'</li><li>'IFNA13'</li><li>'IFNA14'</li><li>'IFNA16'</li><li>'IFNA17'</li><li>'IFNA2'</li><li>'IFNA21'</li><li>'IFNA4'</li><li>'IFNA5'</li><li>'IFNA6'</li><li>'IFNA7'</li><li>'IFNA8'</li><li>'IFNW1'</li><li>'IL1F5'</li><li>'IL1F6'</li><li>'IL1F7'</li><li>'IL1F8'</li><li>'IL1F9'</li><li>'IL22'</li><li>'IL25'</li><li>'IL3'</li><li>'IL4'</li><li>'IL9'</li><li>'INS'</li><li>'INS-IGF2'</li><li>'INSL5'</li><li>'INSL6'</li><li>'MST1L'</li><li>'S100A7L2'</li><li>'S100G'</li><li>'VWC2L'</li><li>'WNT8A'</li></ol>\n"
      ],
      "text/latex": [
       "\\begin{enumerate*}\n",
       "\\item 'ADIPOQ'\n",
       "\\item 'AMBN'\n",
       "\\item 'AMELX'\n",
       "\\item 'AMELY'\n",
       "\\item 'BSPH1'\n",
       "\\item 'DSPP'\n",
       "\\item 'ELSPBP1'\n",
       "\\item 'KCP'\n",
       "\\item 'LGI1'\n",
       "\\item 'MEPE'\n",
       "\\item 'OTOL1'\n",
       "\\item 'SPON1'\n",
       "\\item 'SSPO'\n",
       "\\item 'TECTB'\n",
       "\\item 'TINAG'\n",
       "\\item 'ZP2'\n",
       "\\item 'ZP4'\n",
       "\\item 'COL26A1'\n",
       "\\item 'OPTC'\n",
       "\\item 'PRG3'\n",
       "\\item 'C1QTNF8'\n",
       "\\item 'CLEC19A'\n",
       "\\item 'CLEC3A'\n",
       "\\item 'FREM3'\n",
       "\\item 'GRIFIN'\n",
       "\\item 'HSPC159'\n",
       "\\item 'LGALS13'\n",
       "\\item 'LGALS14'\n",
       "\\item 'LGALS16'\n",
       "\\item 'MBL2'\n",
       "\\item 'MUC17'\n",
       "\\item 'MUC7'\n",
       "\\item 'MUC8'\n",
       "\\item 'PROL1'\n",
       "\\item 'REG1B'\n",
       "\\item 'REG3A'\n",
       "\\item 'REG3G'\n",
       "\\item 'SEMA3B'\n",
       "\\item 'SFTA3'\n",
       "\\item 'ADAM18'\n",
       "\\item 'ADAM2'\n",
       "\\item 'ADAM30'\n",
       "\\item 'ADAM7'\n",
       "\\item 'CELA2A'\n",
       "\\item 'CELA2B'\n",
       "\\item 'CELA3A'\n",
       "\\item 'CELA3B'\n",
       "\\item 'CST11'\n",
       "\\item 'CST5'\n",
       "\\item 'CST8'\n",
       "\\item 'CST9'\n",
       "\\item 'CST9L'\n",
       "\\item 'F9'\n",
       "\\item 'LEPREL2'\n",
       "\\item 'MMP12'\n",
       "\\item 'MMP20'\n",
       "\\item 'MMP26'\n",
       "\\item 'PRSS2'\n",
       "\\item 'SERPINA12'\n",
       "\\item 'SERPINA2'\n",
       "\\item 'SERPINA7'\n",
       "\\item 'SERPINB11'\n",
       "\\item 'SPAM1'\n",
       "\\item 'TGM6'\n",
       "\\item 'BMP10'\n",
       "\\item 'BMP15'\n",
       "\\item 'CFC1'\n",
       "\\item 'CFC1B'\n",
       "\\item 'CSHL1'\n",
       "\\item 'CXCL8'\n",
       "\\item 'FGF16'\n",
       "\\item 'FGF21'\n",
       "\\item 'FGF23'\n",
       "\\item 'FGF3'\n",
       "\\item 'FGF4'\n",
       "\\item 'FGF6'\n",
       "\\item 'GDF2'\n",
       "\\item 'GH2'\n",
       "\\item 'IFNA10'\n",
       "\\item 'IFNA13'\n",
       "\\item 'IFNA14'\n",
       "\\item 'IFNA16'\n",
       "\\item 'IFNA17'\n",
       "\\item 'IFNA2'\n",
       "\\item 'IFNA21'\n",
       "\\item 'IFNA4'\n",
       "\\item 'IFNA5'\n",
       "\\item 'IFNA6'\n",
       "\\item 'IFNA7'\n",
       "\\item 'IFNA8'\n",
       "\\item 'IFNW1'\n",
       "\\item 'IL1F5'\n",
       "\\item 'IL1F6'\n",
       "\\item 'IL1F7'\n",
       "\\item 'IL1F8'\n",
       "\\item 'IL1F9'\n",
       "\\item 'IL22'\n",
       "\\item 'IL25'\n",
       "\\item 'IL3'\n",
       "\\item 'IL4'\n",
       "\\item 'IL9'\n",
       "\\item 'INS'\n",
       "\\item 'INS-IGF2'\n",
       "\\item 'INSL5'\n",
       "\\item 'INSL6'\n",
       "\\item 'MST1L'\n",
       "\\item 'S100A7L2'\n",
       "\\item 'S100G'\n",
       "\\item 'VWC2L'\n",
       "\\item 'WNT8A'\n",
       "\\end{enumerate*}\n"
      ],
      "text/markdown": [
       "1. 'ADIPOQ'\n",
       "2. 'AMBN'\n",
       "3. 'AMELX'\n",
       "4. 'AMELY'\n",
       "5. 'BSPH1'\n",
       "6. 'DSPP'\n",
       "7. 'ELSPBP1'\n",
       "8. 'KCP'\n",
       "9. 'LGI1'\n",
       "10. 'MEPE'\n",
       "11. 'OTOL1'\n",
       "12. 'SPON1'\n",
       "13. 'SSPO'\n",
       "14. 'TECTB'\n",
       "15. 'TINAG'\n",
       "16. 'ZP2'\n",
       "17. 'ZP4'\n",
       "18. 'COL26A1'\n",
       "19. 'OPTC'\n",
       "20. 'PRG3'\n",
       "21. 'C1QTNF8'\n",
       "22. 'CLEC19A'\n",
       "23. 'CLEC3A'\n",
       "24. 'FREM3'\n",
       "25. 'GRIFIN'\n",
       "26. 'HSPC159'\n",
       "27. 'LGALS13'\n",
       "28. 'LGALS14'\n",
       "29. 'LGALS16'\n",
       "30. 'MBL2'\n",
       "31. 'MUC17'\n",
       "32. 'MUC7'\n",
       "33. 'MUC8'\n",
       "34. 'PROL1'\n",
       "35. 'REG1B'\n",
       "36. 'REG3A'\n",
       "37. 'REG3G'\n",
       "38. 'SEMA3B'\n",
       "39. 'SFTA3'\n",
       "40. 'ADAM18'\n",
       "41. 'ADAM2'\n",
       "42. 'ADAM30'\n",
       "43. 'ADAM7'\n",
       "44. 'CELA2A'\n",
       "45. 'CELA2B'\n",
       "46. 'CELA3A'\n",
       "47. 'CELA3B'\n",
       "48. 'CST11'\n",
       "49. 'CST5'\n",
       "50. 'CST8'\n",
       "51. 'CST9'\n",
       "52. 'CST9L'\n",
       "53. 'F9'\n",
       "54. 'LEPREL2'\n",
       "55. 'MMP12'\n",
       "56. 'MMP20'\n",
       "57. 'MMP26'\n",
       "58. 'PRSS2'\n",
       "59. 'SERPINA12'\n",
       "60. 'SERPINA2'\n",
       "61. 'SERPINA7'\n",
       "62. 'SERPINB11'\n",
       "63. 'SPAM1'\n",
       "64. 'TGM6'\n",
       "65. 'BMP10'\n",
       "66. 'BMP15'\n",
       "67. 'CFC1'\n",
       "68. 'CFC1B'\n",
       "69. 'CSHL1'\n",
       "70. 'CXCL8'\n",
       "71. 'FGF16'\n",
       "72. 'FGF21'\n",
       "73. 'FGF23'\n",
       "74. 'FGF3'\n",
       "75. 'FGF4'\n",
       "76. 'FGF6'\n",
       "77. 'GDF2'\n",
       "78. 'GH2'\n",
       "79. 'IFNA10'\n",
       "80. 'IFNA13'\n",
       "81. 'IFNA14'\n",
       "82. 'IFNA16'\n",
       "83. 'IFNA17'\n",
       "84. 'IFNA2'\n",
       "85. 'IFNA21'\n",
       "86. 'IFNA4'\n",
       "87. 'IFNA5'\n",
       "88. 'IFNA6'\n",
       "89. 'IFNA7'\n",
       "90. 'IFNA8'\n",
       "91. 'IFNW1'\n",
       "92. 'IL1F5'\n",
       "93. 'IL1F6'\n",
       "94. 'IL1F7'\n",
       "95. 'IL1F8'\n",
       "96. 'IL1F9'\n",
       "97. 'IL22'\n",
       "98. 'IL25'\n",
       "99. 'IL3'\n",
       "100. 'IL4'\n",
       "101. 'IL9'\n",
       "102. 'INS'\n",
       "103. 'INS-IGF2'\n",
       "104. 'INSL5'\n",
       "105. 'INSL6'\n",
       "106. 'MST1L'\n",
       "107. 'S100A7L2'\n",
       "108. 'S100G'\n",
       "109. 'VWC2L'\n",
       "110. 'WNT8A'\n",
       "\n",
       "\n"
      ],
      "text/plain": [
       "  [1] \"ADIPOQ\"    \"AMBN\"      \"AMELX\"     \"AMELY\"     \"BSPH1\"     \"DSPP\"     \n",
       "  [7] \"ELSPBP1\"   \"KCP\"       \"LGI1\"      \"MEPE\"      \"OTOL1\"     \"SPON1\"    \n",
       " [13] \"SSPO\"      \"TECTB\"     \"TINAG\"     \"ZP2\"       \"ZP4\"       \"COL26A1\"  \n",
       " [19] \"OPTC\"      \"PRG3\"      \"C1QTNF8\"   \"CLEC19A\"   \"CLEC3A\"    \"FREM3\"    \n",
       " [25] \"GRIFIN\"    \"HSPC159\"   \"LGALS13\"   \"LGALS14\"   \"LGALS16\"   \"MBL2\"     \n",
       " [31] \"MUC17\"     \"MUC7\"      \"MUC8\"      \"PROL1\"     \"REG1B\"     \"REG3A\"    \n",
       " [37] \"REG3G\"     \"SEMA3B\"    \"SFTA3\"     \"ADAM18\"    \"ADAM2\"     \"ADAM30\"   \n",
       " [43] \"ADAM7\"     \"CELA2A\"    \"CELA2B\"    \"CELA3A\"    \"CELA3B\"    \"CST11\"    \n",
       " [49] \"CST5\"      \"CST8\"      \"CST9\"      \"CST9L\"     \"F9\"        \"LEPREL2\"  \n",
       " [55] \"MMP12\"     \"MMP20\"     \"MMP26\"     \"PRSS2\"     \"SERPINA12\" \"SERPINA2\" \n",
       " [61] \"SERPINA7\"  \"SERPINB11\" \"SPAM1\"     \"TGM6\"      \"BMP10\"     \"BMP15\"    \n",
       " [67] \"CFC1\"      \"CFC1B\"     \"CSHL1\"     \"CXCL8\"     \"FGF16\"     \"FGF21\"    \n",
       " [73] \"FGF23\"     \"FGF3\"      \"FGF4\"      \"FGF6\"      \"GDF2\"      \"GH2\"      \n",
       " [79] \"IFNA10\"    \"IFNA13\"    \"IFNA14\"    \"IFNA16\"    \"IFNA17\"    \"IFNA2\"    \n",
       " [85] \"IFNA21\"    \"IFNA4\"     \"IFNA5\"     \"IFNA6\"     \"IFNA7\"     \"IFNA8\"    \n",
       " [91] \"IFNW1\"     \"IL1F5\"     \"IL1F6\"     \"IL1F7\"     \"IL1F8\"     \"IL1F9\"    \n",
       " [97] \"IL22\"      \"IL25\"      \"IL3\"       \"IL4\"       \"IL9\"       \"INS\"      \n",
       "[103] \"INS-IGF2\"  \"INSL5\"     \"INSL6\"     \"MST1L\"     \"S100A7L2\"  \"S100G\"    \n",
       "[109] \"VWC2L\"     \"WNT8A\"    "
      ]
     },
     "metadata": {},
     "output_type": "display_data"
    },
    {
     "data": {
      "text/html": [
       "0.355152652899911"
      ],
      "text/latex": [
       "0.355152652899911"
      ],
      "text/markdown": [
       "0.355152652899911"
      ],
      "text/plain": [
       "[1] 0.3551527"
      ]
     },
     "metadata": {},
     "output_type": "display_data"
    },
    {
     "data": {
      "text/html": [
       "0.554563492063492"
      ],
      "text/latex": [
       "0.554563492063492"
      ],
      "text/markdown": [
       "0.554563492063492"
      ],
      "text/plain": [
       "[1] 0.5545635"
      ]
     },
     "metadata": {},
     "output_type": "display_data"
    }
   ],
   "source": [
    "missing_matrisome_genes_mask <- matrisome_lj_df$in_unified_dataset == FALSE\n",
    "missing_matrisome_genes <- matrisome_lj_df[missing_matrisome_genes_mask, ]$geneID\n",
    "le_matrisome_genes_mask <- matrisome_lj_df$lowly_expressed == TRUE\n",
    "le_matrisome_genes <- matrisome_lj_df[le_matrisome_genes_mask, ]$geneID\n",
    "\n",
    "# Missing matrisome genes\n",
    "length(missing_matrisome_genes)\n",
    "missing_matrisome_genes\n",
    "# Lowly expressed matrisome genes\n",
    "length(le_matrisome_genes)\n",
    "le_matrisome_genes\n",
    "\n",
    "# Prop of total genes which are DE\n",
    "nrow(sig_dge_res_df) / nrow(counts_df)\n",
    "# Prop of matrisome genes (present in dset) which are DE\n",
    "n_sig_mat_genes / nrow(matrisome_df[!missing_matrisome_genes_mask, ])"
   ]
  },
  {
   "cell_type": "markdown",
   "metadata": {},
   "source": [
    "# Save Data\n",
    "\n",
    "* Significant DEGs left joined with matrisome list\n",
    "* Matrisome significant DEG counts (by category)\n",
    "* Matrisome list summary (left joined with DGE results and examined for presence in unified data set)"
   ]
  },
  {
   "cell_type": "code",
   "execution_count": 73,
   "metadata": {},
   "outputs": [],
   "source": [
    "write_tsv(sig_dge_matrisome_lj_df, paste0(dirs$analysis_dir, \"/\", dsets[dset_idx], \"_sig_DESeq_results_xref_matrisome.tsv\"))\n",
    "write_tsv(matrisome_sig_dge_category_counts_df, paste0(dirs$analysis_dir, \"/\", dsets[dset_idx], \"_matrisome_sig_DEG_category_counts.tsv\"))\n",
    "write_tsv(matrisome_lj_df, paste0(dirs$analysis_dir, \"/\", dsets[dset_idx], \"_matrisome_summary.tsv\"))"
   ]
  }
 ],
 "metadata": {
  "kernelspec": {
   "display_name": "R",
   "language": "R",
   "name": "ir"
  },
  "language_info": {
   "codemirror_mode": "r",
   "file_extension": ".r",
   "mimetype": "text/x-r-source",
   "name": "R",
   "pygments_lexer": "r",
   "version": "3.6.3"
  }
 },
 "nbformat": 4,
 "nbformat_minor": 4
}
