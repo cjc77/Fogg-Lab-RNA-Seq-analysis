{
 "cells": [
  {
   "cell_type": "code",
   "execution_count": 1,
   "metadata": {},
   "outputs": [
    {
     "name": "stderr",
     "output_type": "stream",
     "text": [
      "── Attaching packages ─────────────────────────────────────── tidyverse 1.3.0 ──\n",
      "✔ ggplot2 3.3.2     ✔ purrr   0.3.4\n",
      "✔ tibble  3.0.3     ✔ dplyr   1.0.0\n",
      "✔ tidyr   1.1.0     ✔ stringr 1.4.0\n",
      "✔ readr   1.3.1     ✔ forcats 0.5.0\n",
      "── Conflicts ────────────────────────────────────────── tidyverse_conflicts() ──\n",
      "✖ dplyr::filter() masks stats::filter()\n",
      "✖ dplyr::lag()    masks stats::lag()\n"
     ]
    }
   ],
   "source": [
    "library(tidyverse)\n",
    "\n",
    "# Custom package\n",
    "library(rutils)"
   ]
  },
  {
   "cell_type": "markdown",
   "metadata": {},
   "source": [
    "# Constants"
   ]
  },
  {
   "cell_type": "code",
   "execution_count": 2,
   "metadata": {},
   "outputs": [],
   "source": [
    "dirs <- rutils::get_dev_directories(dev_paths_file = \"../dev_paths.txt\")\n",
    "dsets <- c(\"unified_cervical_data\")\n",
    "dset_paths <- unlist(map(dsets, function(d) paste0(dirs$data_dir, \"/\", d)))\n",
    "matrisome_list <- matrisome_list <- paste(dirs$data_dir, \"matrisome\", \"matrisome_hs_masterlist.tsv\", sep = \"/\")\n",
    "dset_idx <- 1"
   ]
  },
  {
   "cell_type": "code",
   "execution_count": 28,
   "metadata": {},
   "outputs": [
    {
     "name": "stderr",
     "output_type": "stream",
     "text": [
      "Parsed with column specification:\n",
      "cols(\n",
      "  .default = col_double(),\n",
      "  Hugo_Symbol = col_character()\n",
      ")\n",
      "See spec(...) for full column specifications.\n",
      "Parsed with column specification:\n",
      "cols(\n",
      "  sample_name = col_character(),\n",
      "  condition = col_character(),\n",
      "  data_source = col_character()\n",
      ")\n"
     ]
    }
   ],
   "source": [
    "counts_df <- read_tsv(paste0(dirs$data_dir, \"/\", dsets[dset_idx], \"/counts.tsv\")) %>%\n",
    "    dplyr::rename(geneID = Hugo_Symbol) %>%\n",
    "    dplyr::select(-Entrez_Gene_Id) %>%\n",
    "    mutate_if(is.numeric, round, 0)\n",
    "    \n",
    "coldata_df <- read_tsv(paste0(dirs$data_dir, \"/\", dsets[dset_idx], \"/coldata.tsv\"))"
   ]
  },
  {
   "cell_type": "markdown",
   "metadata": {},
   "source": [
    "# Two proportion Z-test"
   ]
  },
  {
   "cell_type": "code",
   "execution_count": 29,
   "metadata": {},
   "outputs": [],
   "source": [
    "gtex_names <- (coldata_df %>%\n",
    "    dplyr::filter(condition == \"healthy\" & data_source == \"GTEx\"))$sample_name\n",
    "healthy_tcga_names <- (coldata_df %>%\n",
    "    dplyr::filter(condition == \"healthy\" & data_source == \"TCGA\"))$sample_name"
   ]
  },
  {
   "cell_type": "code",
   "execution_count": 56,
   "metadata": {},
   "outputs": [
    {
     "data": {
      "text/html": [
       "1959"
      ],
      "text/latex": [
       "1959"
      ],
      "text/markdown": [
       "1959"
      ],
      "text/plain": [
       "[1] 1959"
      ]
     },
     "metadata": {},
     "output_type": "display_data"
    }
   ],
   "source": [
    "n = nrow(counts_df)\n",
    "# healthy_gtex_df <- counts_df[, c(\"geneID\", gtex_names)]\n",
    "healthy_tcga_df <- counts_df[, c(\"geneID\", healthy_tcga_names)]\n",
    "healthy_tcga_zeros <- sum(rowSums(healthy_tcga_df[, -1]) == 0)\n",
    "\n",
    "healthy_gtex_est_zeros_vec <- c()\n",
    "for (i in 1:1e4) {\n",
    "    healthy_gtex_df <- counts_df[, c(\"geneID\", sample(gtex_names, size = 2, replace = FALSE))]\n",
    "    healthy_gtex_est_zeros_vec <- c(healthy_gtex_est_zeros_vec, sum(rowSums(healthy_gtex_df[, -1]) == 0))\n",
    "    \n",
    "}\n",
    "healthy_gtex_est_zeros <- round(mean(healthy_gtex_est_zeros_vec), 0)\n",
    "healthy_gtex_est_zeros"
   ]
  },
  {
   "cell_type": "code",
   "execution_count": 57,
   "metadata": {},
   "outputs": [
    {
     "data": {
      "text/plain": [
       "\n",
       "\t2-sample test for equality of proportions with continuity correction\n",
       "\n",
       "data:  c(healthy_tcga_zeros, healthy_gtex_est_zeros) out of c(n, n)\n",
       "X-squared = 58.994, df = 1, p-value = 1.582e-14\n",
       "alternative hypothesis: two.sided\n",
       "95 percent confidence interval:\n",
       " 0.01770323 0.02992053\n",
       "sample estimates:\n",
       "    prop 1     prop 2 \n",
       "0.12059085 0.09677897 \n"
      ]
     },
     "metadata": {},
     "output_type": "display_data"
    }
   ],
   "source": [
    "prop.test(c(healthy_tcga_zeros, healthy_gtex_est_zeros), c(n, n))"
   ]
  }
 ],
 "metadata": {
  "kernelspec": {
   "display_name": "R",
   "language": "R",
   "name": "ir"
  },
  "language_info": {
   "codemirror_mode": "r",
   "file_extension": ".r",
   "mimetype": "text/x-r-source",
   "name": "R",
   "pygments_lexer": "r",
   "version": "3.6.3"
  }
 },
 "nbformat": 4,
 "nbformat_minor": 4
}
