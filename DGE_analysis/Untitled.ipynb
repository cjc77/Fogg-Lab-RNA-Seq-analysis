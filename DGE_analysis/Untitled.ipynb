{
 "cells": [
  {
   "cell_type": "code",
   "execution_count": null,
   "metadata": {},
   "outputs": [],
   "source": [
    "# source(\"../utils/dev_config.R\")"
   ]
  },
  {
   "cell_type": "code",
   "execution_count": 1,
   "metadata": {},
   "outputs": [],
   "source": [
    "library(rutils)"
   ]
  },
  {
   "cell_type": "code",
   "execution_count": 2,
   "metadata": {},
   "outputs": [
    {
     "name": "stdout",
     "output_type": "stream",
     "text": [
      "[1] \"../../../../../mnt/d/2020_07_24_unified_TCGA_GTEx\"\n",
      "[1] \"../../../../../mnt/d/2020_07_24_unified_TCGA_GTEx_analysis\"\n",
      "[1] \"../../../../../mnt/d/2020_07_24_unified_TCGA_GTEx_figures\"\n"
     ]
    },
    {
     "data": {
      "text/plain": [
       "$data_dir\n",
       "[1] \"../../../../../mnt/d/2020_07_24_unified_TCGA_GTEx\"\n",
       "\n",
       "$analysis_dir\n",
       "[1] \"../../../../../mnt/d/2020_07_24_unified_TCGA_GTEx_analysis\"\n",
       "\n",
       "$figures_dir\n",
       "[1] \"../../../../../mnt/d/2020_07_24_unified_TCGA_GTEx_figures\"\n",
       "\n",
       "attr(,\"class\")\n",
       "[1] \"DevDirs\""
      ]
     },
     "metadata": {},
     "output_type": "display_data"
    }
   ],
   "source": [
    "rutils::get_dev_directories(\"../dev_paths.txt\")"
   ]
  }
 ],
 "metadata": {
  "kernelspec": {
   "display_name": "R",
   "language": "R",
   "name": "ir"
  },
  "language_info": {
   "codemirror_mode": "r",
   "file_extension": ".r",
   "mimetype": "text/x-r-source",
   "name": "R",
   "pygments_lexer": "r",
   "version": "3.6.3"
  }
 },
 "nbformat": 4,
 "nbformat_minor": 4
}
