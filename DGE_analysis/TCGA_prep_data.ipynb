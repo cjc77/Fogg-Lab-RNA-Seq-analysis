{
 "cells": [
  {
   "cell_type": "code",
   "execution_count": 118,
   "metadata": {},
   "outputs": [],
   "source": [
    "library(tidyverse)\n",
    "library(HDF5Array)\n",
    "library(BiocParallel)\n",
    "library(TCGAbiolinks)\n",
    "library(SummarizedExperiment)\n",
    "library(DESeq2)\n",
    "library(biomaRt)"
   ]
  },
  {
   "cell_type": "code",
   "execution_count": 1,
   "metadata": {},
   "outputs": [],
   "source": [
    "projects <- c(\"TCGA-CESC\", \"TCGA-OV\", \"TCGA-UCS\", \"TCGA-UCEC\")\n",
    "data_root <- \"../../../../../mnt/d/TCGA\"\n",
    "\n",
    "project_dirs <- sapply(\n",
    "    projects, \n",
    "    (function(p) paste0(data_root, \"/\", p, \"-\", \"TCGAbiolinks\"))\n",
    ")\n",
    "\n",
    "mart <- useDataset(\"hsapiens_gene_ensembl\", useMart(\"ensembl\"))\n",
    "hgnc_df <- getBM(filters = \"ensembl_gene_id\", attributes = c(\"ensembl_gene_id\", \"hgnc_symbol\"), values = genes, mart = mart)"
   ]
  },
  {
   "cell_type": "markdown",
   "metadata": {},
   "source": [
    "## Functions"
   ]
  },
  {
   "cell_type": "code",
   "execution_count": 262,
   "metadata": {},
   "outputs": [],
   "source": [
    "load_RSE_objects <- function(dir, projs) {\n",
    "    data_ls <- list()\n",
    "    for (i in seq_len(length(projs))) {\n",
    "        dset_name <- sub(\"-\", \"_\", projs[i])\n",
    "        data_ls[[dset_name]] <- loadHDF5SummarizedExperiment(dir = dir, prefix = dset_name)\n",
    "    }\n",
    "    return(data_ls)\n",
    "}\n",
    "\n",
    "\n",
    "filter_sample_types <- function(rses, field, keepers) {\n",
    "    names_ <- names(rses)\n",
    "    filtered_data_ls <- list()\n",
    "    for (n in names_) {\n",
    "        mask <- rses[[n]][[field]] %in% keepers\n",
    "        filtered_data_ls[[n]] <- rses[[n]][, mask]\n",
    "    }\n",
    "    return(filtered_data_ls)\n",
    "}\n",
    "\n",
    "\n",
    "combine_data <- function(rses, dest_dir, hgnc_df) {\n",
    "    for (n in names(rses)) {\n",
    "        counts_df <- as_tibble(assays(rses[[n]])[[\"HTSeq - Counts\"]], rownames = \"ensembl_gene_id\") %>%\n",
    "            dplyr::inner_join(hgnc_df, by = \"ensembl_gene_id\") %>%\n",
    "            dplyr::select(hgnc_symbol, everything()) %>%\n",
    "            dplyr::select(-ensembl_gene_id) %>%\n",
    "            dplyr::filter(hgnc_symbol != \"\") %>%\n",
    "            dplyr::group_by(hgnc_symbol) %>%\n",
    "            summarize_all(sum) %>%\n",
    "            ungroup()\n",
    "        coldata_df <- as_tibble(colnames(counts_df)[-1]) %>%\n",
    "            dplyr::rename(sample_name = value) %>%\n",
    "            mutate(condition = \"tumor\") %>%\n",
    "            mutate(project = n)\n",
    "        write_tsv(counts_df, path = paste0(dest_dir, \"/\", \"tumor_only_matrix_data\", \"/\", n, \"_counts.tsv\"))\n",
    "        write_tsv(coldata_df, path = paste0(dest_dir, \"/\", \"tumor_only_matrix_data\", \"/\", n, \"_coldata.tsv\"))\n",
    "    }\n",
    "}"
   ]
  },
  {
   "cell_type": "code",
   "execution_count": 41,
   "metadata": {},
   "outputs": [],
   "source": [
    "data_ls <- load_RSE_objects(paste0(data_root, \"/\", \"saved_RSE_objects\"), projects)"
   ]
  },
  {
   "cell_type": "code",
   "execution_count": 63,
   "metadata": {},
   "outputs": [],
   "source": [
    "tumor_data_ls <- filter_sample_types(data_ls, \"definition\", c(\"Primary solid Tumor\"))"
   ]
  },
  {
   "cell_type": "code",
   "execution_count": 263,
   "metadata": {},
   "outputs": [],
   "source": [
    "combine_data(tumor_data_ls, data_root, hgnc_df)"
   ]
  }
 ],
 "metadata": {
  "kernelspec": {
   "display_name": "R",
   "language": "R",
   "name": "ir"
  },
  "language_info": {
   "codemirror_mode": "r",
   "file_extension": ".r",
   "mimetype": "text/x-r-source",
   "name": "R",
   "pygments_lexer": "r",
   "version": "3.6.3"
  }
 },
 "nbformat": 4,
 "nbformat_minor": 4
}
