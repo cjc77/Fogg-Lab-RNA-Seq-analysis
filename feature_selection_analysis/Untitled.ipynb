{
 "cells": [
  {
   "cell_type": "code",
   "execution_count": 1,
   "id": "marine-milwaukee",
   "metadata": {},
   "outputs": [
    {
     "name": "stderr",
     "output_type": "stream",
     "text": [
      "-- \u001b[1mAttaching packages\u001b[22m ------------------------------------------------------------------------------------------------------- tidyverse 1.3.0 --\n",
      "\n",
      "\u001b[32mv\u001b[39m \u001b[34mggplot2\u001b[39m 3.3.3     \u001b[32mv\u001b[39m \u001b[34mpurrr  \u001b[39m 0.3.4\n",
      "\u001b[32mv\u001b[39m \u001b[34mtibble \u001b[39m 3.0.6     \u001b[32mv\u001b[39m \u001b[34mdplyr  \u001b[39m 1.0.4\n",
      "\u001b[32mv\u001b[39m \u001b[34mtidyr  \u001b[39m 1.1.2     \u001b[32mv\u001b[39m \u001b[34mstringr\u001b[39m 1.4.0\n",
      "\u001b[32mv\u001b[39m \u001b[34mreadr  \u001b[39m 1.4.0     \u001b[32mv\u001b[39m \u001b[34mforcats\u001b[39m 0.5.1\n",
      "\n",
      "-- \u001b[1mConflicts\u001b[22m ---------------------------------------------------------------------------------------------------------- tidyverse_conflicts() --\n",
      "\u001b[31mx\u001b[39m \u001b[34mdplyr\u001b[39m::\u001b[32mfilter()\u001b[39m masks \u001b[34mstats\u001b[39m::filter()\n",
      "\u001b[31mx\u001b[39m \u001b[34mdplyr\u001b[39m::\u001b[32mlag()\u001b[39m    masks \u001b[34mstats\u001b[39m::lag()\n",
      "\n",
      "Loading required package: ggpubr\n",
      "\n",
      "Loading required package: dynamicTreeCut\n",
      "\n",
      "Loading required package: fastcluster\n",
      "\n",
      "\n",
      "Attaching package: 'fastcluster'\n",
      "\n",
      "\n",
      "The following object is masked from 'package:stats':\n",
      "\n",
      "    hclust\n",
      "\n",
      "\n",
      "\n",
      "\n",
      "\n",
      "Attaching package: 'WGCNA'\n",
      "\n",
      "\n",
      "The following object is masked from 'package:stats':\n",
      "\n",
      "    cor\n",
      "\n",
      "\n"
     ]
    }
   ],
   "source": [
    "library(tidyverse)\n",
    "library(survival)\n",
    "library(survminer)\n",
    "library(WGCNA)\n",
    "\n",
    "# Custom package\n",
    "library(rutils)\n",
    "\n",
    "\n",
    "# Define constants\n",
    "dirs <- rutils::get_dev_directories(dev_paths_file = \"../dev_paths.txt\")\n",
    "projects <- c(\"TCGA-CESC\", \"TCGA-UCS\", \"TCGA-UCEC\", \"TCGA-OV\")\n",
    "unified_dsets <- c(\"unified_cervical_data\", \"unified_uterine_data\", \"unified_uterine_endometrial_data\")\n",
    "matrisome_path <- paste0(dirs$data_dir, \"/matrisome/matrisome_hs_masterlist.tsv\")\n",
    "\n",
    "event_code <- list(\"Alive\" = 0, \"Dead\" = 1)\n",
    "dep_cols <- c(\"vital_status\", \"survival_time\")\n"
   ]
  },
  {
   "cell_type": "code",
   "execution_count": 2,
   "id": "closed-federation",
   "metadata": {},
   "outputs": [],
   "source": [
    "dset_idx <- 1"
   ]
  },
  {
   "cell_type": "code",
   "execution_count": 3,
   "id": "bearing-chrome",
   "metadata": {},
   "outputs": [
    {
     "name": "stderr",
     "output_type": "stream",
     "text": [
      "\n",
      "\u001b[36m--\u001b[39m \u001b[1m\u001b[1mColumn specification\u001b[1m\u001b[22m \u001b[36m------------------------------------------------------------------------------------------------------------------------\u001b[39m\n",
      "cols(\n",
      "  sample_name = \u001b[31mcol_character()\u001b[39m,\n",
      "  vital_status = \u001b[31mcol_character()\u001b[39m,\n",
      "  survival_time = \u001b[32mcol_double()\u001b[39m,\n",
      "  figo_stage = \u001b[31mcol_character()\u001b[39m,\n",
      "  days_to_last_follow_up = \u001b[32mcol_double()\u001b[39m,\n",
      "  days_to_death = \u001b[32mcol_double()\u001b[39m,\n",
      "  age_at_diagnosis = \u001b[32mcol_double()\u001b[39m,\n",
      "  age_at_index = \u001b[32mcol_double()\u001b[39m,\n",
      "  height = \u001b[32mcol_double()\u001b[39m,\n",
      "  weight = \u001b[32mcol_double()\u001b[39m,\n",
      "  bmi = \u001b[32mcol_double()\u001b[39m,\n",
      "  race = \u001b[31mcol_character()\u001b[39m,\n",
      "  ethnicity = \u001b[31mcol_character()\u001b[39m\n",
      ")\n",
      "\n",
      "\n",
      "\n",
      "\u001b[36m--\u001b[39m \u001b[1m\u001b[1mColumn specification\u001b[1m\u001b[22m \u001b[36m------------------------------------------------------------------------------------------------------------------------\u001b[39m\n",
      "cols(\n",
      "  geneID = \u001b[31mcol_character()\u001b[39m,\n",
      "  cutoff = \u001b[32mcol_double()\u001b[39m\n",
      ")\n",
      "\n",
      "\n",
      "\n",
      "\u001b[36m--\u001b[39m \u001b[1m\u001b[1mColumn specification\u001b[1m\u001b[22m \u001b[36m------------------------------------------------------------------------------------------------------------------------\u001b[39m\n",
      "cols(\n",
      "  .default = col_double(),\n",
      "  geneID = \u001b[31mcol_character()\u001b[39m\n",
      ")\n",
      "\u001b[36mi\u001b[39m Use \u001b[30m\u001b[47m\u001b[30m\u001b[47m`spec()`\u001b[47m\u001b[30m\u001b[49m\u001b[39m for the full column specifications.\n",
      "\n",
      "\n"
     ]
    }
   ],
   "source": [
    "# Load and filter survival data\n",
    "survival_path <- paste0(dirs$data_dir, \"/\", unified_dsets[dset_idx], \"/survival_data.tsv\")\n",
    "survival_df <- load_survival_df(survival_path, event_code)\n",
    "umsmg_demg_list <- read_lines(paste0(dirs$analysis_dir, \"/gene_lists/\", unified_dsets[dset_idx], \"_umsmg_demg_list.txt\"))\n",
    "cutoff_df <- read_tsv(paste0(dirs$analysis_dir, \"/survival/\", unified_dsets[dset_idx], \"_expression_cutoffs.tsv\"))\n",
    "\n",
    "filtered_survival_df <- survival_df %>%\n",
    "    dplyr::select(one_of(c(\"sample_name\", dep_cols))) %>%\n",
    "    dplyr::filter(rowSums(is.na(.)) == 0)\n",
    "\n",
    "# Load normalized matrisome count data\n",
    "norm_matrisome_counts_df <- read_tsv(paste0(dirs$data_dir, \"/\", unified_dsets[dset_idx], \"/norm_matrisome_counts.tsv\"))\n",
    "norm_matrisome_counts_t_df <- norm_matrisome_counts_df %>%\n",
    "    dplyr::select(c(\"geneID\", filtered_survival_df$sample_name)) %>%\n",
    "    transpose_df(\"geneID\", \"sample_name\")\n",
    "# Combine survival data and normalized count data\n",
    "filtered_joined_df <- filtered_survival_df %>%\n",
    "    inner_join(norm_matrisome_counts_t_df, by = \"sample_name\") %>%\n",
    "    select(one_of(\"sample_name\", \"vital_status\", \"survival_time\", umsmg_demg_list)) %>%\n",
    "    # cannot have survival times of 0 for univariate Cox PH analysis\n",
    "    dplyr::filter(survival_time > 0)\n"
   ]
  },
  {
   "cell_type": "code",
   "execution_count": 16,
   "id": "interpreted-vancouver",
   "metadata": {},
   "outputs": [],
   "source": [
    "get_high_low <- function(df, col_str, cutoff) {\n",
    "    col = as.name(col_str)\n",
    "    df %>%\n",
    "        mutate(high = !!col > cutoff, high_low = ifelse(high == TRUE, \"high\", \"low\")) %>%\n",
    "        select(-high)\n",
    "}"
   ]
  },
  {
   "cell_type": "code",
   "execution_count": 108,
   "id": "aerial-future",
   "metadata": {},
   "outputs": [],
   "source": [
    "gene <- \"CCL17\"\n",
    "# gene <- \"CXCL2\"\n",
    "cph_formula <- as.formula(paste0(\"Surv(survival_time, vital_status) ~ \", gene))\n",
    "km_formula <- Surv(survival_time, vital_status) ~ high_low"
   ]
  },
  {
   "cell_type": "code",
   "execution_count": 109,
   "id": "different-swing",
   "metadata": {},
   "outputs": [],
   "source": [
    "cutoff <- cutoff_df %>%\n",
    "    dplyr::filter(geneID == gene) %>%\n",
    "    pull(cutoff)\n",
    "simp_df <- filtered_joined_df %>%\n",
    "    dplyr::select(c(\"sample_name\", \"survival_time\", \"vital_status\", gene)) %>%\n",
    "    get_high_low(gene, cutoff)"
   ]
  },
  {
   "cell_type": "code",
   "execution_count": 110,
   "id": "automotive-rebecca",
   "metadata": {},
   "outputs": [],
   "source": [
    "km_fit <- survfit(km_formula, type = \"kaplan-meier\", data = simp_df)\n",
    "km_diff <- survdiff(km_formula, data = simp_df)"
   ]
  },
  {
   "cell_type": "code",
   "execution_count": 111,
   "id": "legislative-aside",
   "metadata": {},
   "outputs": [
    {
     "data": {
      "text/plain": [
       "Call:\n",
       "survdiff(formula = km_formula, data = simp_df)\n",
       "\n",
       "                N Observed Expected (O-E)^2/E (O-E)^2/V\n",
       "high_low=high  78       14     19.9     1.766      2.55\n",
       "high_low=low  172       52     46.1     0.764      2.55\n",
       "\n",
       " Chisq= 2.5  on 1 degrees of freedom, p= 0.1 "
      ]
     },
     "metadata": {},
     "output_type": "display_data"
    },
    {
     "data": {
      "text/plain": [
       "Call: survfit(formula = km_formula, data = simp_df, type = \"kaplan-meier\")\n",
       "\n",
       "                n events median 0.95LCL 0.95UCL\n",
       "high_low=high  78     14   3097    2052      NA\n",
       "high_low=low  172     52   3046    1453      NA"
      ]
     },
     "metadata": {},
     "output_type": "display_data"
    }
   ],
   "source": [
    "km_diff\n",
    "km_fit"
   ]
  },
  {
   "cell_type": "code",
   "execution_count": 89,
   "id": "aware-scholarship",
   "metadata": {},
   "outputs": [],
   "source": [
    "cph_fit <- coxph(cph_formula, data = filtered_joined_df)"
   ]
  },
  {
   "cell_type": "code",
   "execution_count": 90,
   "id": "several-canadian",
   "metadata": {},
   "outputs": [
    {
     "data": {
      "text/plain": [
       "Call:\n",
       "coxph(formula = cph_formula, data = filtered_joined_df)\n",
       "\n",
       "         coef exp(coef) se(coef)     z        p\n",
       "CXCL2 0.22530   1.25270  0.06551 3.439 0.000584\n",
       "\n",
       "Likelihood ratio test=11.04  on 1 df, p=0.0008898\n",
       "n= 250, number of events= 66 "
      ]
     },
     "metadata": {},
     "output_type": "display_data"
    }
   ],
   "source": [
    "cph_fit"
   ]
  },
  {
   "cell_type": "code",
   "execution_count": 28,
   "id": "devoted-bidding",
   "metadata": {},
   "outputs": [
    {
     "data": {
      "text/html": [
       "0.225302542455176"
      ],
      "text/latex": [
       "0.225302542455176"
      ],
      "text/markdown": [
       "0.225302542455176"
      ],
      "text/plain": [
       "[1] 0.2253025"
      ]
     },
     "metadata": {},
     "output_type": "display_data"
    }
   ],
   "source": [
    "as.numeric(cph_fit$coefficient)"
   ]
  }
 ],
 "metadata": {
  "kernelspec": {
   "display_name": "R",
   "language": "R",
   "name": "ir"
  },
  "language_info": {
   "codemirror_mode": "r",
   "file_extension": ".r",
   "mimetype": "text/x-r-source",
   "name": "R",
   "pygments_lexer": "r",
   "version": "4.0.3"
  }
 },
 "nbformat": 4,
 "nbformat_minor": 5
}
