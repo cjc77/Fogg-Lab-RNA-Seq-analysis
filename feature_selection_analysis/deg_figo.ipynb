{
 "cells": [
  {
   "cell_type": "code",
   "execution_count": 1,
   "id": "indonesian-payment",
   "metadata": {
    "collapsed": true,
    "jupyter": {
     "outputs_hidden": true
    }
   },
   "outputs": [
    {
     "name": "stderr",
     "output_type": "stream",
     "text": [
      "-- \u001b[1mAttaching packages\u001b[22m ----------------------------------------------------------------------------------------- tidyverse 1.3.0 --\n",
      "\n",
      "\u001b[32mv\u001b[39m \u001b[34mggplot2\u001b[39m 3.3.3     \u001b[32mv\u001b[39m \u001b[34mpurrr  \u001b[39m 0.3.4\n",
      "\u001b[32mv\u001b[39m \u001b[34mtibble \u001b[39m 3.0.6     \u001b[32mv\u001b[39m \u001b[34mdplyr  \u001b[39m 1.0.4\n",
      "\u001b[32mv\u001b[39m \u001b[34mtidyr  \u001b[39m 1.1.2     \u001b[32mv\u001b[39m \u001b[34mstringr\u001b[39m 1.4.0\n",
      "\u001b[32mv\u001b[39m \u001b[34mreadr  \u001b[39m 1.4.0     \u001b[32mv\u001b[39m \u001b[34mforcats\u001b[39m 0.5.1\n",
      "\n",
      "-- \u001b[1mConflicts\u001b[22m -------------------------------------------------------------------------------------------- tidyverse_conflicts() --\n",
      "\u001b[31mx\u001b[39m \u001b[34mdplyr\u001b[39m::\u001b[32mfilter()\u001b[39m masks \u001b[34mstats\u001b[39m::filter()\n",
      "\u001b[31mx\u001b[39m \u001b[34mdplyr\u001b[39m::\u001b[32mlag()\u001b[39m    masks \u001b[34mstats\u001b[39m::lag()\n",
      "\n",
      "Loading required package: S4Vectors\n",
      "\n",
      "Loading required package: stats4\n",
      "\n",
      "Loading required package: BiocGenerics\n",
      "\n",
      "Loading required package: parallel\n",
      "\n",
      "\n",
      "Attaching package: 'BiocGenerics'\n",
      "\n",
      "\n",
      "The following objects are masked from 'package:parallel':\n",
      "\n",
      "    clusterApply, clusterApplyLB, clusterCall, clusterEvalQ,\n",
      "    clusterExport, clusterMap, parApply, parCapply, parLapply,\n",
      "    parLapplyLB, parRapply, parSapply, parSapplyLB\n",
      "\n",
      "\n",
      "The following objects are masked from 'package:dplyr':\n",
      "\n",
      "    combine, intersect, setdiff, union\n",
      "\n",
      "\n",
      "The following objects are masked from 'package:stats':\n",
      "\n",
      "    IQR, mad, sd, var, xtabs\n",
      "\n",
      "\n",
      "The following objects are masked from 'package:base':\n",
      "\n",
      "    Filter, Find, Map, Position, Reduce, anyDuplicated, append,\n",
      "    as.data.frame, basename, cbind, colnames, dirname, do.call,\n",
      "    duplicated, eval, evalq, get, grep, grepl, intersect, is.unsorted,\n",
      "    lapply, mapply, match, mget, order, paste, pmax, pmax.int, pmin,\n",
      "    pmin.int, rank, rbind, rownames, sapply, setdiff, sort, table,\n",
      "    tapply, union, unique, unsplit, which.max, which.min\n",
      "\n",
      "\n",
      "\n",
      "Attaching package: 'S4Vectors'\n",
      "\n",
      "\n",
      "The following objects are masked from 'package:dplyr':\n",
      "\n",
      "    first, rename\n",
      "\n",
      "\n",
      "The following object is masked from 'package:tidyr':\n",
      "\n",
      "    expand\n",
      "\n",
      "\n",
      "The following object is masked from 'package:base':\n",
      "\n",
      "    expand.grid\n",
      "\n",
      "\n",
      "Loading required package: IRanges\n",
      "\n",
      "\n",
      "Attaching package: 'IRanges'\n",
      "\n",
      "\n",
      "The following objects are masked from 'package:dplyr':\n",
      "\n",
      "    collapse, desc, slice\n",
      "\n",
      "\n",
      "The following object is masked from 'package:purrr':\n",
      "\n",
      "    reduce\n",
      "\n",
      "\n",
      "Loading required package: GenomicRanges\n",
      "\n",
      "Loading required package: GenomeInfoDb\n",
      "\n",
      "Loading required package: SummarizedExperiment\n",
      "\n",
      "Loading required package: MatrixGenerics\n",
      "\n",
      "Loading required package: matrixStats\n",
      "\n",
      "\n",
      "Attaching package: 'matrixStats'\n",
      "\n",
      "\n",
      "The following object is masked from 'package:dplyr':\n",
      "\n",
      "    count\n",
      "\n",
      "\n",
      "\n",
      "Attaching package: 'MatrixGenerics'\n",
      "\n",
      "\n",
      "The following objects are masked from 'package:matrixStats':\n",
      "\n",
      "    colAlls, colAnyNAs, colAnys, colAvgsPerRowSet, colCollapse,\n",
      "    colCounts, colCummaxs, colCummins, colCumprods, colCumsums,\n",
      "    colDiffs, colIQRDiffs, colIQRs, colLogSumExps, colMadDiffs,\n",
      "    colMads, colMaxs, colMeans2, colMedians, colMins, colOrderStats,\n",
      "    colProds, colQuantiles, colRanges, colRanks, colSdDiffs, colSds,\n",
      "    colSums2, colTabulates, colVarDiffs, colVars, colWeightedMads,\n",
      "    colWeightedMeans, colWeightedMedians, colWeightedSds,\n",
      "    colWeightedVars, rowAlls, rowAnyNAs, rowAnys, rowAvgsPerColSet,\n",
      "    rowCollapse, rowCounts, rowCummaxs, rowCummins, rowCumprods,\n",
      "    rowCumsums, rowDiffs, rowIQRDiffs, rowIQRs, rowLogSumExps,\n",
      "    rowMadDiffs, rowMads, rowMaxs, rowMeans2, rowMedians, rowMins,\n",
      "    rowOrderStats, rowProds, rowQuantiles, rowRanges, rowRanks,\n",
      "    rowSdDiffs, rowSds, rowSums2, rowTabulates, rowVarDiffs, rowVars,\n",
      "    rowWeightedMads, rowWeightedMeans, rowWeightedMedians,\n",
      "    rowWeightedSds, rowWeightedVars\n",
      "\n",
      "\n",
      "Loading required package: Biobase\n",
      "\n",
      "Welcome to Bioconductor\n",
      "\n",
      "    Vignettes contain introductory material; view with\n",
      "    'browseVignettes()'. To cite Bioconductor, see\n",
      "    'citation(\"Biobase\")', and for packages 'citation(\"pkgname\")'.\n",
      "\n",
      "\n",
      "\n",
      "Attaching package: 'Biobase'\n",
      "\n",
      "\n",
      "The following object is masked from 'package:MatrixGenerics':\n",
      "\n",
      "    rowMedians\n",
      "\n",
      "\n",
      "The following objects are masked from 'package:matrixStats':\n",
      "\n",
      "    anyMissing, rowMedians\n",
      "\n",
      "\n"
     ]
    }
   ],
   "source": [
    "library(tidyverse)\n",
    "library(DESeq2)\n",
    "library(BiocParallel)\n",
    "\n",
    "# Custom package\n",
    "library(rutils)"
   ]
  },
  {
   "cell_type": "code",
   "execution_count": 2,
   "id": "religious-disaster",
   "metadata": {},
   "outputs": [],
   "source": [
    "# Define constants and load data\n",
    "dirs <- rutils::get_dev_directories(dev_paths_file = \"../dev_paths.txt\")\n",
    "dsets <- c(\"unified_cervical_data\", \"unified_uterine_data\", \"unified_uterine_endometrial_data\")\n",
    "projects <- c(\"cesc\", \"ucs\", \"ucec\")\n",
    "dset_paths <- unlist(map(dsets, function(d) paste0(dirs$data_dir, \"/\", d)))\n",
    "matrisome_list <- paste0(dirs$data_dir, \"/matrisome/matrisome_hs_masterlist.tsv\")"
   ]
  },
  {
   "cell_type": "code",
   "execution_count": 3,
   "id": "unable-edition",
   "metadata": {},
   "outputs": [],
   "source": [
    "dset_idx <- 3"
   ]
  },
  {
   "cell_type": "code",
   "execution_count": 4,
   "id": "ancient-variety",
   "metadata": {},
   "outputs": [],
   "source": [
    "# We want to be very picky for this analysis\n",
    "alpha_level <- 0.01\n",
    "expr_thresh <- 0\n",
    "lfc_thresh <- log2(2)\n",
    "save_results <- TRUE"
   ]
  },
  {
   "cell_type": "code",
   "execution_count": 5,
   "id": "southern-america",
   "metadata": {},
   "outputs": [],
   "source": [
    "# Helper functions\n",
    "get_DESeq_results <- function(dds, contrast_vec) {\n",
    "    contrast_levels <- purrr::map(contrast_vec, function(s) { str_sub(s, -1) })[2:3] %>% unlist()\n",
    "    c_num <- contrast_levels[1]\n",
    "    c_denom <- contrast_levels[2]\n",
    "    contrast_suffix <- paste0(c_num, \"_vs_\", c_denom)\n",
    "    \n",
    "    res <- results(\n",
    "        dds,\n",
    "        contrast = contrast_vec,\n",
    "        pAdjustMethod = \"BH\",\n",
    "        alpha = alpha_level,\n",
    "        parallel = TRUE\n",
    "    ) %>%\n",
    "        as_tibble(rownames = \"geneID\") %>%\n",
    "        dplyr:::mutate(contrast = contrast_suffix) %>%\n",
    "        dplyr::rename(base_mean = baseMean, l2fc = log2FoldChange, pval = pvalue)\n",
    "}"
   ]
  },
  {
   "cell_type": "markdown",
   "id": "domestic-workshop",
   "metadata": {},
   "source": [
    "# Load data"
   ]
  },
  {
   "cell_type": "code",
   "execution_count": 6,
   "id": "coated-strike",
   "metadata": {},
   "outputs": [
    {
     "name": "stderr",
     "output_type": "stream",
     "text": [
      "\n",
      "\u001b[36m--\u001b[39m \u001b[1m\u001b[1mColumn specification\u001b[1m\u001b[22m \u001b[36m----------------------------------------------------------------------------------------------------------\u001b[39m\n",
      "cols(\n",
      "  .default = col_double(),\n",
      "  Hugo_Symbol = \u001b[31mcol_character()\u001b[39m\n",
      ")\n",
      "\u001b[36mi\u001b[39m Use \u001b[30m\u001b[47m\u001b[30m\u001b[47m`spec()`\u001b[47m\u001b[30m\u001b[49m\u001b[39m for the full column specifications.\n",
      "\n",
      "\n",
      "\n",
      "\u001b[36m--\u001b[39m \u001b[1m\u001b[1mColumn specification\u001b[1m\u001b[22m \u001b[36m----------------------------------------------------------------------------------------------------------\u001b[39m\n",
      "cols(\n",
      "  sample_name = \u001b[31mcol_character()\u001b[39m,\n",
      "  condition = \u001b[31mcol_character()\u001b[39m,\n",
      "  data_source = \u001b[31mcol_character()\u001b[39m\n",
      ")\n",
      "\n",
      "\n",
      "\n",
      "\u001b[36m--\u001b[39m \u001b[1m\u001b[1mColumn specification\u001b[1m\u001b[22m \u001b[36m----------------------------------------------------------------------------------------------------------\u001b[39m\n",
      "cols(\n",
      "  sample_name = \u001b[31mcol_character()\u001b[39m,\n",
      "  vital_status = \u001b[31mcol_character()\u001b[39m,\n",
      "  survival_time = \u001b[32mcol_double()\u001b[39m,\n",
      "  figo_stage = \u001b[31mcol_character()\u001b[39m,\n",
      "  days_to_last_follow_up = \u001b[32mcol_double()\u001b[39m,\n",
      "  days_to_death = \u001b[32mcol_double()\u001b[39m,\n",
      "  age_at_diagnosis = \u001b[32mcol_double()\u001b[39m,\n",
      "  age_at_index = \u001b[32mcol_double()\u001b[39m,\n",
      "  height = \u001b[32mcol_double()\u001b[39m,\n",
      "  weight = \u001b[32mcol_double()\u001b[39m,\n",
      "  bmi = \u001b[32mcol_double()\u001b[39m,\n",
      "  race = \u001b[31mcol_character()\u001b[39m,\n",
      "  ethnicity = \u001b[31mcol_character()\u001b[39m\n",
      ")\n",
      "\n",
      "\n"
     ]
    },
    {
     "data": {
      "text/html": [
       "TRUE"
      ],
      "text/latex": [
       "TRUE"
      ],
      "text/markdown": [
       "TRUE"
      ],
      "text/plain": [
       "[1] TRUE"
      ]
     },
     "metadata": {},
     "output_type": "display_data"
    },
    {
     "name": "stderr",
     "output_type": "stream",
     "text": [
      "\n",
      "\u001b[36m--\u001b[39m \u001b[1m\u001b[1mColumn specification\u001b[1m\u001b[22m \u001b[36m----------------------------------------------------------------------------------------------------------\u001b[39m\n",
      "cols(\n",
      "  Division = \u001b[31mcol_character()\u001b[39m,\n",
      "  Category = \u001b[31mcol_character()\u001b[39m,\n",
      "  `Gene Symbol` = \u001b[31mcol_character()\u001b[39m,\n",
      "  `Gene Name` = \u001b[31mcol_character()\u001b[39m,\n",
      "  Synonyms = \u001b[31mcol_character()\u001b[39m,\n",
      "  HGNC_IDs = \u001b[32mcol_double()\u001b[39m,\n",
      "  `HGNC_IDs Links` = \u001b[32mcol_double()\u001b[39m,\n",
      "  UniProt_IDs = \u001b[31mcol_character()\u001b[39m,\n",
      "  Refseq_IDs = \u001b[31mcol_character()\u001b[39m,\n",
      "  Orthology = \u001b[31mcol_character()\u001b[39m,\n",
      "  Notes = \u001b[31mcol_character()\u001b[39m\n",
      ")\n",
      "\n",
      "\n"
     ]
    }
   ],
   "source": [
    "counts_df <- read_tsv(paste0(dset_paths[dset_idx], \"/counts.tsv\")) %>%\n",
    "        mutate_if(is.numeric, round, 0) %>%\n",
    "        dplyr::select(-Entrez_Gene_Id) %>%\n",
    "        dplyr::rename(geneID = Hugo_Symbol)\n",
    "coldata_df <- read_tsv(paste0(dset_paths[dset_idx], \"/coldata.tsv\"))\n",
    "survival_df <- read_tsv(paste0(dset_paths[dset_idx], \"/survival_data.tsv\"))\n",
    "all(coldata_df$sample_name == colnames(counts_df[, -1]))\n",
    "\n",
    "matrisome_genes <- rutils::load_matrisome_df(matrisome_list) %>%\n",
    "    dplyr::pull(gene_symbol)"
   ]
  },
  {
   "cell_type": "markdown",
   "id": "young-conclusion",
   "metadata": {},
   "source": [
    "# Pre-filter genes"
   ]
  },
  {
   "cell_type": "code",
   "execution_count": 7,
   "id": "indian-notification",
   "metadata": {},
   "outputs": [
    {
     "data": {
      "text/html": [
       "18135"
      ],
      "text/latex": [
       "18135"
      ],
      "text/markdown": [
       "18135"
      ],
      "text/plain": [
       "[1] 18135"
      ]
     },
     "metadata": {},
     "output_type": "display_data"
    },
    {
     "data": {
      "text/html": [
       "0.895909495109179"
      ],
      "text/latex": [
       "0.895909495109179"
      ],
      "text/markdown": [
       "0.895909495109179"
      ],
      "text/plain": [
       "[1] 0.8959095"
      ]
     },
     "metadata": {},
     "output_type": "display_data"
    }
   ],
   "source": [
    "# Pre-filter genes the same as our initial DGE analysis\n",
    "all_counts_res_df <- rutils::get_unified_thresh_results_for_all(\n",
    "    counts_df,\n",
    "    coldata_df,\n",
    "    c(\"GTEX\", \"TCGA_healthy\", \"TCGA_tumor\"),\n",
    "    thresh = 0\n",
    ")\n",
    "\n",
    "# Gene must be expressed in > 1/3 of all samples (including non-cancer samples)\n",
    "sufficiently_expr_genes_df <- all_counts_res_df %>%\n",
    "    dplyr::filter(tot_over_thresh_prop > 1/3)\n",
    "\n",
    "nrow(sufficiently_expr_genes_df)\n",
    "# Proportion of genes which will be kept\n",
    "nrow(sufficiently_expr_genes_df) / nrow(counts_df)"
   ]
  },
  {
   "cell_type": "markdown",
   "id": "hollow-thumb",
   "metadata": {},
   "source": [
    "# Final data prep"
   ]
  },
  {
   "cell_type": "code",
   "execution_count": 8,
   "id": "educated-spotlight",
   "metadata": {},
   "outputs": [],
   "source": [
    "figo_coldata_df <- coldata_df %>%\n",
    "    inner_join(survival_df, by = \"sample_name\") %>%\n",
    "    select(sample_name, condition, figo_stage, data_source) %>%\n",
    "    filter(condition == \"tumor\") %>%\n",
    "    # Only want samples with FIGO stage data reported\n",
    "    filter(!is.na(figo_stage)) %>%\n",
    "    # Collapse into FIGO stages I-IV\n",
    "    rutils::decode_figo_stage(to = \"c\")"
   ]
  },
  {
   "cell_type": "code",
   "execution_count": 9,
   "id": "blocked-faith",
   "metadata": {},
   "outputs": [],
   "source": [
    "filtered_counts_df <- counts_df %>%\n",
    "    dplyr::filter(geneID %in% sufficiently_expr_genes_df$geneID) %>%\n",
    "    # Remove samples which have no FIGO stage data\n",
    "    select(one_of(\"geneID\", figo_coldata_df$sample_name))"
   ]
  },
  {
   "cell_type": "code",
   "execution_count": 10,
   "id": "abstract-dietary",
   "metadata": {},
   "outputs": [
    {
     "data": {
      "text/html": [
       "TRUE"
      ],
      "text/latex": [
       "TRUE"
      ],
      "text/markdown": [
       "TRUE"
      ],
      "text/plain": [
       "[1] TRUE"
      ]
     },
     "metadata": {},
     "output_type": "display_data"
    }
   ],
   "source": [
    "# One more double check coldata samples match count samples\n",
    "all(figo_coldata_df$sample_name == colnames(filtered_counts_df[, -1]))"
   ]
  },
  {
   "cell_type": "markdown",
   "id": "centered-silly",
   "metadata": {},
   "source": [
    "# DGE analysis"
   ]
  },
  {
   "cell_type": "code",
   "execution_count": 11,
   "id": "effective-apparatus",
   "metadata": {},
   "outputs": [
    {
     "name": "stderr",
     "output_type": "stream",
     "text": [
      "converting counts to integer mode\n",
      "\n",
      "Warning message in DESeqDataSet(se, design = design, ignoreRank):\n",
      "\"some variables in design formula are characters, converting to factors\"\n",
      "estimating size factors\n",
      "\n",
      "estimating dispersions\n",
      "\n",
      "gene-wise dispersion estimates: 14 workers\n",
      "\n",
      "mean-dispersion relationship\n",
      "\n",
      "final dispersion estimates, fitting model and testing: 14 workers\n",
      "\n",
      "-- replacing outliers and refitting for 1545 genes\n",
      "-- DESeq argument 'minReplicatesForReplace' = 7 \n",
      "-- original counts are preserved in counts(dds)\n",
      "\n",
      "estimating dispersions\n",
      "\n",
      "fitting model and testing\n",
      "\n"
     ]
    }
   ],
   "source": [
    "dds <- DESeqDataSetFromMatrix(\n",
    "    countData = filtered_counts_df %>% column_to_rownames(var = \"geneID\"),\n",
    "    colData = figo_coldata_df %>% column_to_rownames(var = \"sample_name\"),\n",
    "    design = ~ figo_stage\n",
    ")\n",
    "dds_seq <- DESeq(dds, parallel = TRUE)"
   ]
  },
  {
   "cell_type": "code",
   "execution_count": 12,
   "id": "urban-shadow",
   "metadata": {},
   "outputs": [],
   "source": [
    "figo_de_ls <- list(\n",
    "    \"figo_2_vs_1\" = get_DESeq_results(dds_seq, c(\"figo_stage\", \"figo_stage_2\", \"figo_stage_1\")),\n",
    "    \"figo_3_vs_1\" = get_DESeq_results(dds_seq, c(\"figo_stage\", \"figo_stage_3\", \"figo_stage_1\")),\n",
    "    \"figo_4_vs_1\" = get_DESeq_results(dds_seq, c(\"figo_stage\", \"figo_stage_4\", \"figo_stage_1\")),\n",
    "    \"figo_3_vs_2\" = get_DESeq_results(dds_seq, c(\"figo_stage\", \"figo_stage_3\", \"figo_stage_2\")),\n",
    "    \"figo_4_vs_2\" = get_DESeq_results(dds_seq, c(\"figo_stage\", \"figo_stage_4\", \"figo_stage_2\")),\n",
    "    \"figo_4_vs_3\" = get_DESeq_results(dds_seq, c(\"figo_stage\", \"figo_stage_4\", \"figo_stage_3\"))\n",
    ")"
   ]
  },
  {
   "cell_type": "code",
   "execution_count": 13,
   "id": "mounted-group",
   "metadata": {},
   "outputs": [
    {
     "data": {
      "text/html": [
       "<dl>\n",
       "\t<dt>$figo_2_vs_1</dt>\n",
       "\t\t<dd>10</dd>\n",
       "\t<dt>$figo_3_vs_1</dt>\n",
       "\t\t<dd>57</dd>\n",
       "\t<dt>$figo_4_vs_1</dt>\n",
       "\t\t<dd>14</dd>\n",
       "\t<dt>$figo_3_vs_2</dt>\n",
       "\t\t<dd>25</dd>\n",
       "\t<dt>$figo_4_vs_2</dt>\n",
       "\t\t<dd>12</dd>\n",
       "\t<dt>$figo_4_vs_3</dt>\n",
       "\t\t<dd>2</dd>\n",
       "</dl>\n"
      ],
      "text/latex": [
       "\\begin{description}\n",
       "\\item[\\$figo\\_2\\_vs\\_1] 10\n",
       "\\item[\\$figo\\_3\\_vs\\_1] 57\n",
       "\\item[\\$figo\\_4\\_vs\\_1] 14\n",
       "\\item[\\$figo\\_3\\_vs\\_2] 25\n",
       "\\item[\\$figo\\_4\\_vs\\_2] 12\n",
       "\\item[\\$figo\\_4\\_vs\\_3] 2\n",
       "\\end{description}\n"
      ],
      "text/markdown": [
       "$figo_2_vs_1\n",
       ":   10\n",
       "$figo_3_vs_1\n",
       ":   57\n",
       "$figo_4_vs_1\n",
       ":   14\n",
       "$figo_3_vs_2\n",
       ":   25\n",
       "$figo_4_vs_2\n",
       ":   12\n",
       "$figo_4_vs_3\n",
       ":   2\n",
       "\n",
       "\n"
      ],
      "text/plain": [
       "$figo_2_vs_1\n",
       "[1] 10\n",
       "\n",
       "$figo_3_vs_1\n",
       "[1] 57\n",
       "\n",
       "$figo_4_vs_1\n",
       "[1] 14\n",
       "\n",
       "$figo_3_vs_2\n",
       "[1] 25\n",
       "\n",
       "$figo_4_vs_2\n",
       "[1] 12\n",
       "\n",
       "$figo_4_vs_3\n",
       "[1] 2\n"
      ]
     },
     "metadata": {},
     "output_type": "display_data"
    },
    {
     "data": {
      "text/html": [
       "88"
      ],
      "text/latex": [
       "88"
      ],
      "text/markdown": [
       "88"
      ],
      "text/plain": [
       "[1] 88"
      ]
     },
     "metadata": {},
     "output_type": "display_data"
    }
   ],
   "source": [
    "figo_sig_genes <- figo_de_ls %>%\n",
    "    map(function(df) {\n",
    "        df %>% dplyr::filter(geneID %in% matrisome_genes, padj < alpha_level, abs(l2fc) > lfc_thresh) %>%\n",
    "        pull(geneID) \n",
    "    })\n",
    "\n",
    "# DEMGs in each contrast\n",
    "figo_sig_genes %>% map(length)\n",
    "# DEMGs unioned\n",
    "Reduce(union, figo_sig_genes) %>% length()"
   ]
  },
  {
   "cell_type": "code",
   "execution_count": 14,
   "id": "needed-default",
   "metadata": {},
   "outputs": [],
   "source": [
    "figo_mat_de_df <- bind_rows(figo_de_ls) %>%\n",
    "    select(geneID, base_mean, l2fc, pval, padj, contrast) %>%\n",
    "    filter(geneID %in% matrisome_genes)"
   ]
  },
  {
   "cell_type": "code",
   "execution_count": 15,
   "id": "casual-bowling",
   "metadata": {},
   "outputs": [],
   "source": [
    "if (save_results) {\n",
    "    figo_mat_de_df %>% write_tsv(paste0(dirs$analysis_dir, \"/feature_selection/\", dsets[dset_idx], \"_figo_pairwise_demg_results.tsv\"))\n",
    "}"
   ]
  }
 ],
 "metadata": {
  "kernelspec": {
   "display_name": "R",
   "language": "R",
   "name": "ir"
  },
  "language_info": {
   "codemirror_mode": "r",
   "file_extension": ".r",
   "mimetype": "text/x-r-source",
   "name": "R",
   "pygments_lexer": "r",
   "version": "4.0.3"
  }
 },
 "nbformat": 4,
 "nbformat_minor": 5
}
