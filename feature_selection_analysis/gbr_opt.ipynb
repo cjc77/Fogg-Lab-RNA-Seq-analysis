{
 "cells": [
  {
   "cell_type": "code",
   "execution_count": 1,
   "metadata": {},
   "outputs": [],
   "source": [
    "import pandas as pd\n",
    "import numpy as np\n",
    "import os\n",
    "from sklearn.ensemble import GradientBoostingRegressor\n",
    "from sklearn.pipeline import make_pipeline, Pipeline\n",
    "from sklearn.preprocessing import StandardScaler\n",
    "from sklearn.model_selection import cross_val_score, KFold\n",
    "from sklearn.compose import ColumnTransformer, TransformedTargetRegressor\n",
    "from skopt.space import Real, Integer, Categorical\n",
    "from skopt import gp_minimize\n",
    "\n",
    "import utils.dev_config as dev_conf\n",
    "import utils.preprocessing as prep\n",
    "import utils.optimization as opt"
   ]
  },
  {
   "cell_type": "code",
   "execution_count": 2,
   "metadata": {},
   "outputs": [],
   "source": [
    "dirs = dev_conf.get_dev_directories(\"../dev_paths.txt\")\n",
    "unified_dsets = [\"unified_cervical_data\", \"unified_uterine_data\", \"unified_uterine_endometrial_data\"]\n",
    "matrisome_list = f\"{dirs.data_dir}/matrisome/matrisome_hs_masterlist.tsv\""
   ]
  },
  {
   "cell_type": "code",
   "execution_count": 3,
   "metadata": {},
   "outputs": [],
   "source": [
    "i = 0"
   ]
  },
  {
   "cell_type": "code",
   "execution_count": 4,
   "metadata": {},
   "outputs": [],
   "source": [
    "matrisome_df = prep.load_matrisome_df(matrisome_list)"
   ]
  },
  {
   "cell_type": "code",
   "execution_count": 5,
   "metadata": {},
   "outputs": [],
   "source": [
    "seed = 123\n",
    "rand = np.random.RandomState()"
   ]
  },
  {
   "cell_type": "markdown",
   "metadata": {},
   "source": [
    "# Load and filter survival data"
   ]
  },
  {
   "cell_type": "code",
   "execution_count": 6,
   "metadata": {},
   "outputs": [],
   "source": [
    "event_code = {\"Alive\": 0, \"Dead\": 1}\n",
    "covariate_cols = [\"figo_stage\", \"age_at_diagnosis\", \"race\", \"ethnicity\"]\n",
    "dep_cols = [\"vital_status\", \"survival_time\"]\n",
    "cat_cols = [\"race\", \"ethnicity\", \"figo_chr\"]\n",
    "survival_df = prep.load_survival_df(f\"{dirs.data_dir}/{unified_dsets[i]}/survival_data.tsv\", event_code)"
   ]
  },
  {
   "cell_type": "code",
   "execution_count": 7,
   "metadata": {},
   "outputs": [
    {
     "name": "stdout",
     "output_type": "stream",
     "text": [
      "(66, 16)\n"
     ]
    }
   ],
   "source": [
    "filtered_survival_df = (\n",
    "    prep.decode_figo_stage(survival_df[[\"sample_name\"] + dep_cols + covariate_cols].dropna(), to=\"c\")\n",
    "        .query(\"vital_status == 1\")\n",
    "        .drop([\"vital_status\"], axis=1)\n",
    "        .pipe(pd.get_dummies, columns=cat_cols)\n",
    "        .reset_index(drop = True)\n",
    ")\n",
    "filtered_survival_df.columns = filtered_survival_df.columns.str.replace(' ', '_')\n",
    "\n",
    "print(filtered_survival_df.shape)\n",
    "# filtered_survival_df.head()"
   ]
  },
  {
   "cell_type": "markdown",
   "metadata": {},
   "source": [
    "# Load normalized matrisome count data"
   ]
  },
  {
   "cell_type": "code",
   "execution_count": 8,
   "metadata": {},
   "outputs": [
    {
     "name": "stdout",
     "output_type": "stream",
     "text": [
      "(66, 1009)\n"
     ]
    }
   ],
   "source": [
    "norm_matrisome_counts_df = pd.read_csv(f\"{dirs.data_dir}/{unified_dsets[i]}/norm_matrisome_counts.tsv\", sep='\\t')\n",
    "norm_filtered_matrisome_counts_t_df = prep.transpose_df(\n",
    "    norm_matrisome_counts_df[[\"geneID\"] + list(filtered_survival_df.sample_name)], \"geneID\", \"sample_name\"\n",
    ")\n",
    "print(norm_filtered_matrisome_counts_t_df.shape)\n",
    "# norm_filtered_matrisome_counts_t_df.head()"
   ]
  },
  {
   "cell_type": "markdown",
   "metadata": {},
   "source": [
    "# Join survival and count data"
   ]
  },
  {
   "cell_type": "code",
   "execution_count": 9,
   "metadata": {},
   "outputs": [
    {
     "name": "stdout",
     "output_type": "stream",
     "text": [
      "(66, 1023)\n"
     ]
    }
   ],
   "source": [
    "joined_df = (\n",
    "    pd.merge(filtered_survival_df, norm_filtered_matrisome_counts_t_df, on=\"sample_name\")\n",
    "        .set_index(\"sample_name\")\n",
    ")\n",
    "print(joined_df.shape)\n",
    "# joined_df.head()"
   ]
  },
  {
   "cell_type": "markdown",
   "metadata": {},
   "source": [
    "# Optimize model"
   ]
  },
  {
   "cell_type": "code",
   "execution_count": 10,
   "metadata": {},
   "outputs": [],
   "source": [
    "rand.seed(seed)\n",
    "x_df, y_df = prep.shuffle_data(joined_df, rand)"
   ]
  },
  {
   "cell_type": "code",
   "execution_count": 11,
   "metadata": {},
   "outputs": [],
   "source": [
    "def objective(h_params, X, y, r, verbose=True):\n",
    "    if verbose:\n",
    "        print(h_params)\n",
    "    model = GradientBoostingRegressor(\n",
    "        # We use lad since it most closely matches up with hyper-parameter objective\n",
    "        loss=\"lad\",\n",
    "        # Use this for the same reason\n",
    "        learning_rate=h_params[0],\n",
    "        n_estimators=h_params[1],\n",
    "        max_depth=h_params[2],\n",
    "        max_features=h_params[3],\n",
    "        min_samples_split=h_params[4],\n",
    "        min_samples_leaf=h_params[5],\n",
    "        random_state=r\n",
    "    )\n",
    "    return -np.mean(cross_val_score(\n",
    "        model,\n",
    "        X,\n",
    "        y,\n",
    "        cv=KFold(n_splits=5),\n",
    "        n_jobs=-1,\n",
    "        scoring=\"neg_mean_absolute_error\"\n",
    "    ))"
   ]
  },
  {
   "cell_type": "code",
   "execution_count": 12,
   "metadata": {},
   "outputs": [],
   "source": [
    "space = [\n",
    "    # We skip \"ls\" since we're optimizing for mean absolute error in the h_param opt.\n",
    "    Real(1e-3, 1e-1, name=\"learning_rate\"),\n",
    "    Integer(int(1e2), int(1e3), name=\"n_estimators\"),\n",
    "    Integer(2, 5, name=\"max_depth\"),\n",
    "    Categorical([\"auto\", \"sqrt\", \"log2\"], name=\"max_features\"),\n",
    "    Integer(int(2), int(6), name=\"min_samples_split\"),\n",
    "    Integer(int(1), int(3), name=\"min_samples_leaf\")\n",
    "]\n",
    "n_initial = 10 * (len(space))\n",
    "n_calls = 50 * (len(space))"
   ]
  },
  {
   "cell_type": "code",
   "execution_count": 13,
   "metadata": {
    "collapsed": true,
    "jupyter": {
     "outputs_hidden": true
    }
   },
   "outputs": [
    {
     "name": "stdout",
     "output_type": "stream",
     "text": [
      "Iteration No: 1 started. Evaluating function at random point.\n",
      "[0.07540275638507486, 533, 4, 'log2', 4, 1]\n",
      "Iteration No: 1 ended. Evaluation done at random point.\n",
      "Time taken: 1.6020\n",
      "Function value obtained: 593.2486\n",
      "Current minimum: 593.2486\n",
      "Iteration No: 2 started. Evaluating function at random point.\n",
      "[0.034738802219071975, 720, 5, 'log2', 4, 2]\n",
      "Iteration No: 2 ended. Evaluation done at random point.\n",
      "Time taken: 1.5388\n",
      "Function value obtained: 532.8475\n",
      "Current minimum: 532.8475\n",
      "Iteration No: 3 started. Evaluating function at random point.\n",
      "[0.08386822689969428, 343, 4, 'auto', 3, 3]\n",
      "Iteration No: 3 ended. Evaluation done at random point.\n",
      "Time taken: 4.2695\n",
      "Function value obtained: 537.9290\n",
      "Current minimum: 532.8475\n",
      "Iteration No: 4 started. Evaluating function at random point.\n",
      "[0.018853292027324983, 545, 3, 'log2', 3, 3]\n",
      "Iteration No: 4 ended. Evaluation done at random point.\n",
      "Time taken: 1.3516\n",
      "Function value obtained: 528.6120\n",
      "Current minimum: 528.6120\n",
      "Iteration No: 5 started. Evaluating function at random point.\n",
      "[0.09943470206556315, 529, 3, 'log2', 3, 3]\n",
      "Iteration No: 5 ended. Evaluation done at random point.\n",
      "Time taken: 0.9139\n",
      "Function value obtained: 519.7949\n",
      "Current minimum: 519.7949\n",
      "Iteration No: 6 started. Evaluating function at random point.\n",
      "[0.01174568727283087, 560, 5, 'auto', 3, 3]\n",
      "Iteration No: 6 ended. Evaluation done at random point.\n",
      "Time taken: 5.4683\n",
      "Function value obtained: 573.2725\n",
      "Current minimum: 519.7949\n",
      "Iteration No: 7 started. Evaluating function at random point.\n",
      "[0.07142778837965696, 454, 3, 'log2', 4, 2]\n",
      "Iteration No: 7 ended. Evaluation done at random point.\n",
      "Time taken: 0.6926\n",
      "Function value obtained: 549.5784\n",
      "Current minimum: 519.7949\n",
      "Iteration No: 8 started. Evaluating function at random point.\n",
      "[0.0014093296321896556, 674, 2, 'auto', 6, 2]\n",
      "Iteration No: 8 ended. Evaluation done at random point.\n",
      "Time taken: 4.9748\n",
      "Function value obtained: 529.7398\n",
      "Current minimum: 519.7949\n",
      "Iteration No: 9 started. Evaluating function at random point.\n",
      "[0.07651399828377915, 431, 5, 'auto', 4, 1]\n",
      "Iteration No: 9 ended. Evaluation done at random point.\n",
      "Time taken: 4.6674\n",
      "Function value obtained: 614.3062\n",
      "Current minimum: 519.7949\n",
      "Iteration No: 10 started. Evaluating function at random point.\n",
      "[0.08859569610562983, 514, 3, 'log2', 5, 2]\n",
      "Iteration No: 10 ended. Evaluation done at random point.\n",
      "Time taken: 0.8050\n",
      "Function value obtained: 550.8619\n",
      "Current minimum: 519.7949\n",
      "Iteration No: 11 started. Evaluating function at random point.\n",
      "[0.06811461930246653, 828, 5, 'log2', 2, 2]\n",
      "Iteration No: 11 ended. Evaluation done at random point.\n",
      "Time taken: 1.7087\n",
      "Function value obtained: 555.3088\n",
      "Current minimum: 519.7949\n",
      "Iteration No: 12 started. Evaluating function at random point.\n",
      "[0.052594783539150626, 623, 3, 'sqrt', 5, 2]\n",
      "Iteration No: 12 ended. Evaluation done at random point.\n",
      "Time taken: 1.0323\n",
      "Function value obtained: 554.4799\n",
      "Current minimum: 519.7949\n",
      "Iteration No: 13 started. Evaluating function at random point.\n",
      "[0.05456831040945987, 504, 3, 'log2', 4, 2]\n",
      "Iteration No: 13 ended. Evaluation done at random point.\n",
      "Time taken: 0.7740\n",
      "Function value obtained: 531.1639\n",
      "Current minimum: 519.7949\n",
      "Iteration No: 14 started. Evaluating function at random point.\n",
      "[0.05224424903012738, 417, 4, 'sqrt', 3, 3]\n",
      "Iteration No: 14 ended. Evaluation done at random point.\n",
      "Time taken: 0.8143\n",
      "Function value obtained: 539.5107\n",
      "Current minimum: 519.7949\n",
      "Iteration No: 15 started. Evaluating function at random point.\n",
      "[0.03559207803285598, 844, 2, 'auto', 6, 3]\n",
      "Iteration No: 15 ended. Evaluation done at random point.\n",
      "Time taken: 6.1214\n",
      "Function value obtained: 583.9049\n",
      "Current minimum: 519.7949\n",
      "Iteration No: 16 started. Evaluating function at random point.\n",
      "[0.020741369420583133, 125, 4, 'auto', 2, 1]\n",
      "Iteration No: 16 ended. Evaluation done at random point.\n",
      "Time taken: 1.3788\n",
      "Function value obtained: 576.1906\n",
      "Current minimum: 519.7949\n",
      "Iteration No: 17 started. Evaluating function at random point.\n",
      "[0.047913313645454904, 558, 3, 'log2', 4, 3]\n",
      "Iteration No: 17 ended. Evaluation done at random point.\n",
      "Time taken: 0.8360\n",
      "Function value obtained: 534.8076\n",
      "Current minimum: 519.7949\n",
      "Iteration No: 18 started. Evaluating function at random point.\n",
      "[0.08129287456249541, 718, 5, 'log2', 3, 2]\n",
      "Iteration No: 18 ended. Evaluation done at random point.\n",
      "Time taken: 1.5433\n",
      "Function value obtained: 542.1864\n",
      "Current minimum: 519.7949\n",
      "Iteration No: 19 started. Evaluating function at random point.\n",
      "[0.05073459509711577, 463, 3, 'auto', 4, 2]\n",
      "Iteration No: 19 ended. Evaluation done at random point.\n",
      "Time taken: 4.4663\n",
      "Function value obtained: 566.4059\n",
      "Current minimum: 519.7949\n",
      "Iteration No: 20 started. Evaluating function at random point.\n",
      "[0.08825335275146694, 626, 3, 'auto', 2, 1]\n",
      "Iteration No: 20 ended. Evaluation done at random point.\n",
      "Time taken: 7.9261\n",
      "Function value obtained: 632.1954\n",
      "Current minimum: 519.7949\n",
      "Iteration No: 21 started. Evaluating function at random point.\n",
      "[0.034523132677471306, 497, 4, 'auto', 4, 3]\n",
      "Iteration No: 21 ended. Evaluation done at random point.\n",
      "Time taken: 4.8833\n",
      "Function value obtained: 562.8432\n",
      "Current minimum: 519.7949\n",
      "Iteration No: 22 started. Evaluating function at random point.\n",
      "[0.008883196958126335, 537, 4, 'auto', 5, 2]\n",
      "Iteration No: 22 ended. Evaluation done at random point.\n",
      "Time taken: 5.6012\n",
      "Function value obtained: 582.2596\n",
      "Current minimum: 519.7949\n",
      "Iteration No: 23 started. Evaluating function at random point.\n",
      "[0.04993867643131727, 546, 3, 'sqrt', 5, 2]\n",
      "Iteration No: 23 ended. Evaluation done at random point.\n",
      "Time taken: 0.8995\n",
      "Function value obtained: 545.4959\n",
      "Current minimum: 519.7949\n",
      "Iteration No: 24 started. Evaluating function at random point.\n",
      "[0.04680581975922945, 609, 3, 'log2', 3, 2]\n",
      "Iteration No: 24 ended. Evaluation done at random point.\n",
      "Time taken: 0.8733\n",
      "Function value obtained: 531.1831\n",
      "Current minimum: 519.7949\n",
      "Iteration No: 25 started. Evaluating function at random point.\n",
      "[0.08345081660078954, 633, 3, 'log2', 4, 2]\n",
      "Iteration No: 25 ended. Evaluation done at random point.\n",
      "Time taken: 0.9265\n",
      "Function value obtained: 563.1675\n",
      "Current minimum: 519.7949\n",
      "Iteration No: 26 started. Evaluating function at random point.\n",
      "[0.09660406663060903, 181, 2, 'log2', 5, 2]\n",
      "Iteration No: 26 ended. Evaluation done at random point.\n",
      "Time taken: 0.2527\n",
      "Function value obtained: 506.3242\n",
      "Current minimum: 506.3242\n",
      "Iteration No: 27 started. Evaluating function at random point.\n",
      "[0.09212961763263414, 374, 3, 'sqrt', 3, 1]\n",
      "Iteration No: 27 ended. Evaluation done at random point.\n",
      "Time taken: 0.6557\n",
      "Function value obtained: 551.1903\n",
      "Current minimum: 506.3242\n",
      "Iteration No: 28 started. Evaluating function at random point.\n",
      "[0.031217681714601087, 410, 4, 'auto', 5, 2]\n",
      "Iteration No: 28 ended. Evaluation done at random point.\n",
      "Time taken: 4.2375\n",
      "Function value obtained: 578.2102\n",
      "Current minimum: 506.3242\n",
      "Iteration No: 29 started. Evaluating function at random point.\n",
      "[0.06586610516688055, 773, 4, 'auto', 4, 1]\n",
      "Iteration No: 29 ended. Evaluation done at random point.\n",
      "Time taken: 8.0845\n",
      "Function value obtained: 611.2750\n",
      "Current minimum: 506.3242\n",
      "Iteration No: 30 started. Evaluating function at random point.\n",
      "[0.06871493044436984, 577, 4, 'log2', 4, 3]\n",
      "Iteration No: 30 ended. Evaluation done at random point.\n",
      "Time taken: 1.2556\n",
      "Function value obtained: 522.3974\n",
      "Current minimum: 506.3242\n",
      "Iteration No: 31 started. Evaluating function at random point.\n",
      "[0.014129425107887967, 209, 3, 'auto', 3, 2]\n",
      "Iteration No: 31 ended. Evaluation done at random point.\n",
      "Time taken: 2.8414\n",
      "Function value obtained: 579.2839\n",
      "Current minimum: 506.3242\n",
      "Iteration No: 32 started. Evaluating function at random point.\n",
      "[0.03787941971341325, 406, 4, 'log2', 4, 1]\n",
      "Iteration No: 32 ended. Evaluation done at random point.\n",
      "Time taken: 1.1119\n",
      "Function value obtained: 547.2316\n",
      "Current minimum: 506.3242\n",
      "Iteration No: 33 started. Evaluating function at random point.\n",
      "[0.07867587693664825, 491, 2, 'auto', 4, 2]\n",
      "Iteration No: 33 ended. Evaluation done at random point.\n",
      "Time taken: 3.6221\n",
      "Function value obtained: 578.1507\n",
      "Current minimum: 506.3242\n",
      "Iteration No: 34 started. Evaluating function at random point.\n",
      "[0.032040706627766424, 190, 4, 'auto', 4, 2]\n",
      "Iteration No: 34 ended. Evaluation done at random point.\n",
      "Time taken: 2.0154\n",
      "Function value obtained: 587.9305\n",
      "Current minimum: 506.3242\n",
      "Iteration No: 35 started. Evaluating function at random point.\n",
      "[0.08983318892799087, 624, 4, 'log2', 6, 3]\n",
      "Iteration No: 35 ended. Evaluation done at random point.\n",
      "Time taken: 1.1588\n",
      "Function value obtained: 549.3636\n",
      "Current minimum: 506.3242\n",
      "Iteration No: 36 started. Evaluating function at random point.\n",
      "[0.006074236040599934, 442, 4, 'auto', 4, 2]\n",
      "Iteration No: 36 ended. Evaluation done at random point.\n",
      "Time taken: 6.0428\n",
      "Function value obtained: 573.0628\n",
      "Current minimum: 506.3242\n",
      "Iteration No: 37 started. Evaluating function at random point.\n",
      "[0.09840882879822808, 618, 4, 'log2', 5, 2]\n",
      "Iteration No: 37 ended. Evaluation done at random point.\n",
      "Time taken: 1.0902\n",
      "Function value obtained: 546.6985\n",
      "Current minimum: 506.3242\n",
      "Iteration No: 38 started. Evaluating function at random point.\n",
      "[0.07678203729233403, 984, 3, 'log2', 4, 2]\n",
      "Iteration No: 38 ended. Evaluation done at random point.\n",
      "Time taken: 1.4667\n",
      "Function value obtained: 545.6470\n",
      "Current minimum: 506.3242\n",
      "Iteration No: 39 started. Evaluating function at random point.\n",
      "[0.03037639849314838, 454, 5, 'log2', 6, 2]\n",
      "Iteration No: 39 ended. Evaluation done at random point.\n",
      "Time taken: 0.9313\n",
      "Function value obtained: 523.0916\n",
      "Current minimum: 506.3242\n",
      "Iteration No: 40 started. Evaluating function at random point.\n",
      "[0.08801046116310082, 813, 3, 'sqrt', 5, 2]\n",
      "Iteration No: 40 ended. Evaluation done at random point.\n",
      "Time taken: 1.3399\n",
      "Function value obtained: 554.8467\n",
      "Current minimum: 506.3242\n",
      "Iteration No: 41 started. Evaluating function at random point.\n",
      "[0.09744896567278745, 708, 4, 'log2', 2, 3]\n",
      "Iteration No: 41 ended. Evaluation done at random point.\n",
      "Time taken: 1.3669\n",
      "Function value obtained: 560.4134\n",
      "Current minimum: 506.3242\n",
      "Iteration No: 42 started. Evaluating function at random point.\n",
      "[0.0641373450043716, 161, 2, 'sqrt', 3, 2]\n",
      "Iteration No: 42 ended. Evaluation done at random point.\n",
      "Time taken: 0.2644\n",
      "Function value obtained: 526.8848\n",
      "Current minimum: 506.3242\n",
      "Iteration No: 43 started. Evaluating function at random point.\n",
      "[0.008962844496712186, 610, 3, 'log2', 5, 2]\n",
      "Iteration No: 43 ended. Evaluation done at random point.\n",
      "Time taken: 0.8885\n",
      "Function value obtained: 525.9530\n",
      "Current minimum: 506.3242\n",
      "Iteration No: 44 started. Evaluating function at random point.\n",
      "[0.07181042389007077, 665, 5, 'log2', 3, 1]\n",
      "Iteration No: 44 ended. Evaluation done at random point.\n",
      "Time taken: 1.3600\n",
      "Function value obtained: 567.1150\n",
      "Current minimum: 506.3242\n",
      "Iteration No: 45 started. Evaluating function at random point.\n",
      "[0.08931547349583958, 131, 3, 'auto', 6, 2]\n",
      "Iteration No: 45 ended. Evaluation done at random point.\n",
      "Time taken: 1.3083\n",
      "Function value obtained: 588.2958\n",
      "Current minimum: 506.3242\n",
      "Iteration No: 46 started. Evaluating function at random point.\n",
      "[0.06345100137106843, 398, 5, 'log2', 2, 2]\n",
      "Iteration No: 46 ended. Evaluation done at random point.\n",
      "Time taken: 0.8052\n",
      "Function value obtained: 534.8847\n",
      "Current minimum: 506.3242\n",
      "Iteration No: 47 started. Evaluating function at random point.\n",
      "[0.0881612497632746, 586, 5, 'log2', 2, 2]\n",
      "Iteration No: 47 ended. Evaluation done at random point.\n",
      "Time taken: 1.2077\n",
      "Function value obtained: 556.8305\n",
      "Current minimum: 506.3242\n",
      "Iteration No: 48 started. Evaluating function at random point.\n",
      "[0.05266223850209548, 622, 5, 'log2', 6, 2]\n",
      "Iteration No: 48 ended. Evaluation done at random point.\n",
      "Time taken: 1.2176\n",
      "Function value obtained: 568.1817\n",
      "Current minimum: 506.3242\n",
      "Iteration No: 49 started. Evaluating function at random point.\n",
      "[0.039583234768806604, 462, 2, 'log2', 5, 2]\n",
      "Iteration No: 49 ended. Evaluation done at random point.\n",
      "Time taken: 0.5662\n",
      "Function value obtained: 506.9428\n",
      "Current minimum: 506.3242\n",
      "Iteration No: 50 started. Evaluating function at random point.\n",
      "[0.08934160900943265, 531, 3, 'log2', 4, 3]\n",
      "Iteration No: 50 ended. Evaluation done at random point.\n",
      "Time taken: 0.8071\n",
      "Function value obtained: 535.8349\n",
      "Current minimum: 506.3242\n",
      "Iteration No: 51 started. Evaluating function at random point.\n",
      "[0.07405718596467897, 526, 4, 'sqrt', 5, 2]\n",
      "Iteration No: 51 ended. Evaluation done at random point.\n",
      "Time taken: 1.0887\n",
      "Function value obtained: 540.9351\n",
      "Current minimum: 506.3242\n",
      "Iteration No: 52 started. Evaluating function at random point.\n",
      "[0.074708986411848, 401, 4, 'log2', 2, 2]\n",
      "Iteration No: 52 ended. Evaluation done at random point.\n",
      "Time taken: 0.8309\n",
      "Function value obtained: 519.2689\n",
      "Current minimum: 506.3242\n",
      "Iteration No: 53 started. Evaluating function at random point.\n",
      "[0.07231520859907331, 597, 4, 'auto', 4, 2]\n",
      "Iteration No: 53 ended. Evaluation done at random point.\n",
      "Time taken: 6.2661\n",
      "Function value obtained: 571.6419\n",
      "Current minimum: 506.3242\n",
      "Iteration No: 54 started. Evaluating function at random point.\n",
      "[0.059081448255150694, 750, 2, 'sqrt', 2, 1]\n",
      "Iteration No: 54 ended. Evaluation done at random point.\n",
      "Time taken: 0.9854\n",
      "Function value obtained: 530.6706\n",
      "Current minimum: 506.3242\n",
      "Iteration No: 55 started. Evaluating function at random point.\n",
      "[0.05107462040334295, 500, 3, 'log2', 5, 3]\n",
      "Iteration No: 55 ended. Evaluation done at random point.\n",
      "Time taken: 1.0614\n",
      "Function value obtained: 533.3495\n",
      "Current minimum: 506.3242\n",
      "Iteration No: 56 started. Evaluating function at random point.\n",
      "[0.014494615375440174, 261, 4, 'log2', 4, 2]\n",
      "Iteration No: 56 ended. Evaluation done at random point.\n",
      "Time taken: 0.8209\n",
      "Function value obtained: 510.8929\n",
      "Current minimum: 506.3242\n",
      "Iteration No: 57 started. Evaluating function at random point.\n",
      "[0.05234742826669058, 470, 2, 'auto', 2, 2]\n",
      "Iteration No: 57 ended. Evaluation done at random point.\n",
      "Time taken: 3.8728\n",
      "Function value obtained: 581.2973\n",
      "Current minimum: 506.3242\n",
      "Iteration No: 58 started. Evaluating function at random point.\n",
      "[0.04351650273421548, 216, 3, 'sqrt', 5, 1]\n",
      "Iteration No: 58 ended. Evaluation done at random point.\n",
      "Time taken: 0.3366\n",
      "Function value obtained: 534.9973\n",
      "Current minimum: 506.3242\n",
      "Iteration No: 59 started. Evaluating function at random point.\n",
      "[0.07097609147120647, 388, 5, 'auto', 3, 2]\n",
      "Iteration No: 59 ended. Evaluation done at random point.\n",
      "Time taken: 4.1452\n",
      "Function value obtained: 587.0146\n",
      "Current minimum: 506.3242\n",
      "Iteration No: 60 started. Evaluating function at random point.\n",
      "[0.048305699557526054, 161, 4, 'sqrt', 4, 2]\n",
      "Iteration No: 60 ended. Evaluation done at random point.\n",
      "Time taken: 2.4612\n",
      "Function value obtained: 547.1773\n",
      "Current minimum: 506.3242\n",
      "Iteration No: 61 started. Searching for the next optimal point.\n",
      "[0.04207565965393674, 100, 2, 'log2', 2, 2]\n",
      "Iteration No: 61 ended. Search finished for the next optimal point.\n",
      "Time taken: 7.6248\n",
      "Function value obtained: 525.7679\n",
      "Current minimum: 506.3242\n",
      "Iteration No: 62 started. Searching for the next optimal point.\n",
      "[0.02789688168273665, 251, 2, 'log2', 3, 2]\n",
      "Iteration No: 62 ended. Search finished for the next optimal point.\n",
      "Time taken: 3.8347\n",
      "Function value obtained: 517.6545\n",
      "Current minimum: 506.3242\n",
      "Iteration No: 63 started. Searching for the next optimal point.\n",
      "[0.0580719976678709, 202, 2, 'log2', 3, 2]\n",
      "Iteration No: 63 ended. Search finished for the next optimal point.\n",
      "Time taken: 1.9376\n",
      "Function value obtained: 517.2210\n",
      "Current minimum: 506.3242\n",
      "Iteration No: 64 started. Searching for the next optimal point.\n",
      "[0.060477407753791505, 200, 2, 'log2', 3, 2]\n",
      "Iteration No: 64 ended. Search finished for the next optimal point.\n",
      "Time taken: 3.0714\n",
      "Function value obtained: 512.5645\n",
      "Current minimum: 506.3242\n",
      "Iteration No: 65 started. Searching for the next optimal point.\n",
      "[0.06170543082016341, 202, 2, 'log2', 3, 2]\n",
      "Iteration No: 65 ended. Search finished for the next optimal point.\n",
      "Time taken: 1.6208\n",
      "Function value obtained: 520.8509\n",
      "Current minimum: 506.3242\n",
      "Iteration No: 66 started. Searching for the next optimal point.\n",
      "[0.06474832850815888, 197, 2, 'log2', 3, 2]\n",
      "Iteration No: 66 ended. Search finished for the next optimal point.\n",
      "Time taken: 1.9221\n",
      "Function value obtained: 531.5418\n",
      "Current minimum: 506.3242\n",
      "Iteration No: 67 started. Searching for the next optimal point.\n",
      "[0.06176351086511829, 190, 2, 'log2', 3, 3]\n",
      "Iteration No: 67 ended. Search finished for the next optimal point.\n",
      "Time taken: 1.4283\n",
      "Function value obtained: 531.8379\n",
      "Current minimum: 506.3242\n",
      "Iteration No: 68 started. Searching for the next optimal point.\n",
      "[0.001, 313, 2, 'log2', 3, 2]\n",
      "Iteration No: 68 ended. Search finished for the next optimal point.\n",
      "Time taken: 1.6608\n",
      "Function value obtained: 519.4083\n",
      "Current minimum: 506.3242\n",
      "Iteration No: 69 started. Searching for the next optimal point.\n",
      "[0.001, 1000, 2, 'sqrt', 2, 1]\n",
      "Iteration No: 69 ended. Search finished for the next optimal point.\n",
      "Time taken: 2.6295\n",
      "Function value obtained: 517.4223\n",
      "Current minimum: 506.3242\n",
      "Iteration No: 70 started. Searching for the next optimal point.\n",
      "[0.001, 787, 5, 'sqrt', 6, 1]\n",
      "Iteration No: 70 ended. Search finished for the next optimal point.\n",
      "Time taken: 3.0582\n",
      "Function value obtained: 516.9256\n",
      "Current minimum: 506.3242\n",
      "Iteration No: 71 started. Searching for the next optimal point.\n",
      "[0.001, 1000, 5, 'sqrt', 6, 1]\n",
      "Iteration No: 71 ended. Search finished for the next optimal point.\n",
      "Time taken: 4.1138\n",
      "Function value obtained: 520.1351\n",
      "Current minimum: 506.3242\n",
      "Iteration No: 72 started. Searching for the next optimal point.\n",
      "[0.001, 300, 2, 'log2', 5, 2]\n",
      "Iteration No: 72 ended. Search finished for the next optimal point.\n",
      "Time taken: 2.3808\n",
      "Function value obtained: 519.5916\n",
      "Current minimum: 506.3242\n",
      "Iteration No: 73 started. Searching for the next optimal point.\n",
      "[0.1, 120, 2, 'log2', 2, 2]\n",
      "Iteration No: 73 ended. Search finished for the next optimal point.\n",
      "Time taken: 1.5149\n",
      "Function value obtained: 529.5789\n",
      "Current minimum: 506.3242\n",
      "Iteration No: 74 started. Searching for the next optimal point.\n",
      "[0.001, 300, 2, 'log2', 5, 2]\n"
     ]
    },
    {
     "name": "stderr",
     "output_type": "stream",
     "text": [
      "/home/carcook/anaconda3/envs/TCGA-round1/lib/python3.8/site-packages/skopt/optimizer/optimizer.py:449: UserWarning: The objective has been evaluated at this point before.\n",
      "  warnings.warn(\"The objective has been evaluated \"\n"
     ]
    },
    {
     "name": "stdout",
     "output_type": "stream",
     "text": [
      "Iteration No: 74 ended. Search finished for the next optimal point.\n",
      "Time taken: 1.9019\n",
      "Function value obtained: 519.9394\n",
      "Current minimum: 506.3242\n",
      "Iteration No: 75 started. Searching for the next optimal point.\n",
      "[0.001, 604, 2, 'sqrt', 2, 1]\n",
      "Iteration No: 75 ended. Search finished for the next optimal point.\n",
      "Time taken: 2.3939\n",
      "Function value obtained: 519.8503\n",
      "Current minimum: 506.3242\n",
      "Iteration No: 76 started. Searching for the next optimal point.\n",
      "[0.025665608918387303, 257, 2, 'log2', 6, 2]\n",
      "Iteration No: 76 ended. Search finished for the next optimal point.\n",
      "Time taken: 1.4450\n",
      "Function value obtained: 517.7709\n",
      "Current minimum: 506.3242\n",
      "Iteration No: 77 started. Searching for the next optimal point.\n",
      "[0.02666491075087382, 260, 2, 'log2', 2, 2]\n",
      "Iteration No: 77 ended. Search finished for the next optimal point.\n",
      "Time taken: 1.7287\n",
      "Function value obtained: 508.3725\n",
      "Current minimum: 506.3242\n",
      "Iteration No: 78 started. Searching for the next optimal point.\n",
      "[0.022606842678408366, 266, 2, 'log2', 3, 2]\n",
      "Iteration No: 78 ended. Search finished for the next optimal point.\n",
      "Time taken: 1.9052\n",
      "Function value obtained: 524.8902\n",
      "Current minimum: 506.3242\n",
      "Iteration No: 79 started. Searching for the next optimal point.\n",
      "[0.02917930905411875, 257, 2, 'log2', 2, 2]\n",
      "Iteration No: 79 ended. Search finished for the next optimal point.\n",
      "Time taken: 1.9138\n",
      "Function value obtained: 527.9270\n",
      "Current minimum: 506.3242\n",
      "Iteration No: 80 started. Searching for the next optimal point.\n",
      "[0.035216850006090324, 246, 2, 'log2', 6, 2]\n",
      "Iteration No: 80 ended. Search finished for the next optimal point.\n",
      "Time taken: 2.3921\n",
      "Function value obtained: 527.4053\n",
      "Current minimum: 506.3242\n",
      "Iteration No: 81 started. Searching for the next optimal point.\n",
      "[0.001, 307, 2, 'log2', 2, 2]\n",
      "Iteration No: 81 ended. Search finished for the next optimal point.\n",
      "Time taken: 2.1787\n",
      "Function value obtained: 519.6921\n",
      "Current minimum: 506.3242\n",
      "Iteration No: 82 started. Searching for the next optimal point.\n",
      "[0.1, 144, 2, 'log2', 2, 2]\n",
      "Iteration No: 82 ended. Search finished for the next optimal point.\n",
      "Time taken: 1.7421\n",
      "Function value obtained: 528.2104\n",
      "Current minimum: 506.3242\n",
      "Iteration No: 83 started. Searching for the next optimal point.\n",
      "[0.001, 308, 2, 'log2', 5, 2]\n",
      "Iteration No: 83 ended. Search finished for the next optimal point.\n",
      "Time taken: 2.3021\n",
      "Function value obtained: 520.0369\n",
      "Current minimum: 506.3242\n",
      "Iteration No: 84 started. Searching for the next optimal point.\n",
      "[0.03892606269443364, 249, 2, 'log2', 3, 2]\n",
      "Iteration No: 84 ended. Search finished for the next optimal point.\n",
      "Time taken: 2.3067\n",
      "Function value obtained: 525.7659\n",
      "Current minimum: 506.3242\n",
      "Iteration No: 85 started. Searching for the next optimal point.\n",
      "[0.03345366616974527, 257, 2, 'log2', 2, 2]\n",
      "Iteration No: 85 ended. Search finished for the next optimal point.\n",
      "Time taken: 2.0145\n",
      "Function value obtained: 532.6467\n",
      "Current minimum: 506.3242\n",
      "Iteration No: 86 started. Searching for the next optimal point.\n",
      "[0.1, 139, 2, 'log2', 6, 2]\n",
      "Iteration No: 86 ended. Search finished for the next optimal point.\n",
      "Time taken: 2.0645\n",
      "Function value obtained: 500.1678\n",
      "Current minimum: 500.1678\n",
      "Iteration No: 87 started. Searching for the next optimal point.\n",
      "[0.1, 100, 2, 'log2', 6, 2]\n",
      "Iteration No: 87 ended. Search finished for the next optimal point.\n",
      "Time taken: 2.3510\n",
      "Function value obtained: 555.8748\n",
      "Current minimum: 500.1678\n",
      "Iteration No: 88 started. Searching for the next optimal point.\n",
      "[0.001, 281, 2, 'log2', 5, 2]\n",
      "Iteration No: 88 ended. Search finished for the next optimal point.\n",
      "Time taken: 2.3324\n",
      "Function value obtained: 519.9095\n",
      "Current minimum: 500.1678\n",
      "Iteration No: 89 started. Searching for the next optimal point.\n",
      "[0.001, 299, 2, 'log2', 5, 2]\n",
      "Iteration No: 89 ended. Search finished for the next optimal point.\n",
      "Time taken: 2.3548\n",
      "Function value obtained: 519.8583\n",
      "Current minimum: 500.1678\n",
      "Iteration No: 90 started. Searching for the next optimal point.\n",
      "[0.001, 293, 2, 'log2', 3, 2]\n",
      "Iteration No: 90 ended. Search finished for the next optimal point.\n",
      "Time taken: 2.2911\n",
      "Function value obtained: 521.2876\n",
      "Current minimum: 500.1678\n",
      "Iteration No: 91 started. Searching for the next optimal point.\n",
      "[0.001, 295, 5, 'log2', 4, 2]\n",
      "Iteration No: 91 ended. Search finished for the next optimal point.\n",
      "Time taken: 2.7581\n",
      "Function value obtained: 516.9814\n",
      "Current minimum: 500.1678\n",
      "Iteration No: 92 started. Searching for the next optimal point.\n",
      "[0.1, 190, 3, 'log2', 4, 2]\n",
      "Iteration No: 92 ended. Search finished for the next optimal point.\n",
      "Time taken: 2.2430\n",
      "Function value obtained: 523.2355\n",
      "Current minimum: 500.1678\n",
      "Iteration No: 93 started. Searching for the next optimal point.\n",
      "[0.1, 201, 2, 'log2', 6, 2]\n",
      "Iteration No: 93 ended. Search finished for the next optimal point.\n",
      "Time taken: 2.1603\n",
      "Function value obtained: 506.1529\n",
      "Current minimum: 500.1678\n",
      "Iteration No: 94 started. Searching for the next optimal point.\n",
      "[0.1, 236, 3, 'log2', 4, 2]\n",
      "Iteration No: 94 ended. Search finished for the next optimal point.\n",
      "Time taken: 2.6663\n",
      "Function value obtained: 533.6809\n",
      "Current minimum: 500.1678\n",
      "Iteration No: 95 started. Searching for the next optimal point.\n",
      "[0.1, 205, 2, 'log2', 6, 2]\n",
      "Iteration No: 95 ended. Search finished for the next optimal point.\n",
      "Time taken: 2.5475\n",
      "Function value obtained: 554.2505\n",
      "Current minimum: 500.1678\n",
      "Iteration No: 96 started. Searching for the next optimal point.\n",
      "[0.001, 211, 2, 'log2', 4, 2]\n",
      "Iteration No: 96 ended. Search finished for the next optimal point.\n",
      "Time taken: 2.6239\n",
      "Function value obtained: 520.5280\n",
      "Current minimum: 500.1678\n",
      "Iteration No: 97 started. Searching for the next optimal point.\n",
      "[0.001, 224, 3, 'log2', 5, 2]\n",
      "Iteration No: 97 ended. Search finished for the next optimal point.\n",
      "Time taken: 2.5131\n",
      "Function value obtained: 519.6201\n",
      "Current minimum: 500.1678\n",
      "Iteration No: 98 started. Searching for the next optimal point.\n",
      "[0.001, 231, 4, 'log2', 6, 2]\n",
      "Iteration No: 98 ended. Search finished for the next optimal point.\n",
      "Time taken: 2.3163\n",
      "Function value obtained: 519.3229\n",
      "Current minimum: 500.1678\n",
      "Iteration No: 99 started. Searching for the next optimal point.\n",
      "[0.001, 238, 4, 'log2', 5, 2]\n",
      "Iteration No: 99 ended. Search finished for the next optimal point.\n",
      "Time taken: 2.9362\n",
      "Function value obtained: 518.8549\n",
      "Current minimum: 500.1678\n",
      "Iteration No: 100 started. Searching for the next optimal point.\n",
      "[0.001, 243, 2, 'log2', 3, 2]\n",
      "Iteration No: 100 ended. Search finished for the next optimal point.\n",
      "Time taken: 2.7355\n",
      "Function value obtained: 520.6802\n",
      "Current minimum: 500.1678\n",
      "Iteration No: 101 started. Searching for the next optimal point.\n",
      "[0.001, 250, 3, 'log2', 5, 2]\n",
      "Iteration No: 101 ended. Search finished for the next optimal point.\n",
      "Time taken: 2.9398\n",
      "Function value obtained: 519.6099\n",
      "Current minimum: 500.1678\n",
      "Iteration No: 102 started. Searching for the next optimal point.\n",
      "[0.001, 255, 3, 'log2', 3, 2]\n",
      "Iteration No: 102 ended. Search finished for the next optimal point.\n",
      "Time taken: 3.0741\n",
      "Function value obtained: 519.6950\n",
      "Current minimum: 500.1678\n",
      "Iteration No: 103 started. Searching for the next optimal point.\n",
      "[0.001, 261, 3, 'log2', 4, 2]\n",
      "Iteration No: 103 ended. Search finished for the next optimal point.\n",
      "Time taken: 2.6346\n",
      "Function value obtained: 518.5575\n",
      "Current minimum: 500.1678\n",
      "Iteration No: 104 started. Searching for the next optimal point.\n",
      "[0.001, 265, 4, 'log2', 3, 2]\n",
      "Iteration No: 104 ended. Search finished for the next optimal point.\n",
      "Time taken: 2.6159\n",
      "Function value obtained: 518.2450\n",
      "Current minimum: 500.1678\n",
      "Iteration No: 105 started. Searching for the next optimal point.\n",
      "[0.001, 267, 4, 'log2', 3, 2]\n",
      "Iteration No: 105 ended. Search finished for the next optimal point.\n",
      "Time taken: 2.6936\n",
      "Function value obtained: 519.0527\n",
      "Current minimum: 500.1678\n",
      "Iteration No: 106 started. Searching for the next optimal point.\n",
      "[0.001, 271, 3, 'log2', 6, 2]\n",
      "Iteration No: 106 ended. Search finished for the next optimal point.\n",
      "Time taken: 3.1912\n",
      "Function value obtained: 519.5757\n",
      "Current minimum: 500.1678\n",
      "Iteration No: 107 started. Searching for the next optimal point.\n",
      "[0.001, 276, 2, 'log2', 4, 2]\n",
      "Iteration No: 107 ended. Search finished for the next optimal point.\n",
      "Time taken: 2.6834\n",
      "Function value obtained: 520.3450\n",
      "Current minimum: 500.1678\n",
      "Iteration No: 108 started. Searching for the next optimal point.\n",
      "[0.001, 278, 4, 'log2', 5, 2]\n",
      "Iteration No: 108 ended. Search finished for the next optimal point.\n",
      "Time taken: 3.4658\n",
      "Function value obtained: 518.4332\n",
      "Current minimum: 500.1678\n",
      "Iteration No: 109 started. Searching for the next optimal point.\n",
      "[0.001, 281, 4, 'log2', 6, 2]\n",
      "Iteration No: 109 ended. Search finished for the next optimal point.\n",
      "Time taken: 3.2981\n",
      "Function value obtained: 517.8862\n",
      "Current minimum: 500.1678\n",
      "Iteration No: 110 started. Searching for the next optimal point.\n",
      "[0.1, 109, 4, 'log2', 2, 3]\n",
      "Iteration No: 110 ended. Search finished for the next optimal point.\n",
      "Time taken: 2.5244\n",
      "Function value obtained: 530.2292\n",
      "Current minimum: 500.1678\n",
      "Iteration No: 111 started. Searching for the next optimal point.\n",
      "[0.001, 295, 3, 'log2', 3, 2]\n",
      "Iteration No: 111 ended. Search finished for the next optimal point.\n",
      "Time taken: 3.1007\n",
      "Function value obtained: 519.2995\n",
      "Current minimum: 500.1678\n",
      "Iteration No: 112 started. Searching for the next optimal point.\n",
      "[0.001, 294, 4, 'log2', 4, 2]\n",
      "Iteration No: 112 ended. Search finished for the next optimal point.\n",
      "Time taken: 2.6061\n",
      "Function value obtained: 517.8504\n",
      "Current minimum: 500.1678\n",
      "Iteration No: 113 started. Searching for the next optimal point.\n",
      "[0.001, 298, 3, 'log2', 3, 2]\n",
      "Iteration No: 113 ended. Search finished for the next optimal point.\n",
      "Time taken: 2.6971\n",
      "Function value obtained: 518.8911\n",
      "Current minimum: 500.1678\n",
      "Iteration No: 114 started. Searching for the next optimal point.\n",
      "[0.001, 1000, 2, 'sqrt', 2, 3]\n",
      "Iteration No: 114 ended. Search finished for the next optimal point.\n",
      "Time taken: 3.2581\n",
      "Function value obtained: 517.2323\n",
      "Current minimum: 500.1678\n",
      "Iteration No: 115 started. Searching for the next optimal point.\n",
      "[0.1, 1000, 2, 'sqrt', 6, 3]\n",
      "Iteration No: 115 ended. Search finished for the next optimal point.\n",
      "Time taken: 3.5855\n",
      "Function value obtained: 546.6536\n",
      "Current minimum: 500.1678\n",
      "Iteration No: 116 started. Searching for the next optimal point.\n",
      "[0.001, 316, 2, 'log2', 2, 2]\n",
      "Iteration No: 116 ended. Search finished for the next optimal point.\n",
      "Time taken: 2.8728\n",
      "Function value obtained: 519.6488\n",
      "Current minimum: 500.1678\n",
      "Iteration No: 117 started. Searching for the next optimal point.\n",
      "[0.001, 315, 3, 'log2', 2, 2]\n",
      "Iteration No: 117 ended. Search finished for the next optimal point.\n",
      "Time taken: 3.4869\n",
      "Function value obtained: 518.5934\n",
      "Current minimum: 500.1678\n",
      "Iteration No: 118 started. Searching for the next optimal point.\n",
      "[0.001, 318, 3, 'log2', 4, 2]\n",
      "Iteration No: 118 ended. Search finished for the next optimal point.\n",
      "Time taken: 3.1473\n",
      "Function value obtained: 517.8596\n",
      "Current minimum: 500.1678\n",
      "Iteration No: 119 started. Searching for the next optimal point.\n",
      "[0.001, 321, 2, 'log2', 4, 2]\n",
      "Iteration No: 119 ended. Search finished for the next optimal point.\n",
      "Time taken: 3.2327\n",
      "Function value obtained: 520.2767\n",
      "Current minimum: 500.1678\n",
      "Iteration No: 120 started. Searching for the next optimal point.\n",
      "[0.001, 322, 2, 'log2', 4, 2]\n",
      "Iteration No: 120 ended. Search finished for the next optimal point.\n",
      "Time taken: 3.0358\n",
      "Function value obtained: 519.4610\n",
      "Current minimum: 500.1678\n",
      "Iteration No: 121 started. Searching for the next optimal point.\n",
      "[0.001, 1000, 2, 'sqrt', 2, 2]\n",
      "Iteration No: 121 ended. Search finished for the next optimal point.\n",
      "Time taken: 3.9029\n",
      "Function value obtained: 516.9125\n",
      "Current minimum: 500.1678\n",
      "Iteration No: 122 started. Searching for the next optimal point.\n",
      "[0.001, 1000, 2, 'log2', 2, 2]\n",
      "Iteration No: 122 ended. Search finished for the next optimal point.\n",
      "Time taken: 3.3547\n",
      "Function value obtained: 518.4190\n",
      "Current minimum: 500.1678\n",
      "Iteration No: 123 started. Searching for the next optimal point.\n",
      "[0.001, 100, 2, 'log2', 5, 1]\n",
      "Iteration No: 123 ended. Search finished for the next optimal point.\n",
      "Time taken: 3.0937\n",
      "Function value obtained: 521.9244\n",
      "Current minimum: 500.1678\n",
      "Iteration No: 124 started. Searching for the next optimal point.\n",
      "[0.001, 100, 2, 'log2', 2, 1]\n",
      "Iteration No: 124 ended. Search finished for the next optimal point.\n",
      "Time taken: 3.1522\n",
      "Function value obtained: 521.5595\n",
      "Current minimum: 500.1678\n",
      "Iteration No: 125 started. Searching for the next optimal point.\n",
      "[0.001, 100, 2, 'log2', 6, 1]\n",
      "Iteration No: 125 ended. Search finished for the next optimal point.\n",
      "Time taken: 2.8957\n",
      "Function value obtained: 522.2103\n",
      "Current minimum: 500.1678\n",
      "Iteration No: 126 started. Searching for the next optimal point.\n",
      "[0.001, 100, 2, 'log2', 2, 1]\n"
     ]
    },
    {
     "name": "stderr",
     "output_type": "stream",
     "text": [
      "/home/carcook/anaconda3/envs/TCGA-round1/lib/python3.8/site-packages/skopt/optimizer/optimizer.py:449: UserWarning: The objective has been evaluated at this point before.\n",
      "  warnings.warn(\"The objective has been evaluated \"\n"
     ]
    },
    {
     "name": "stdout",
     "output_type": "stream",
     "text": [
      "Iteration No: 126 ended. Search finished for the next optimal point.\n",
      "Time taken: 2.8595\n",
      "Function value obtained: 521.6737\n",
      "Current minimum: 500.1678\n",
      "Iteration No: 127 started. Searching for the next optimal point.\n",
      "[0.001, 100, 3, 'log2', 2, 1]\n",
      "Iteration No: 127 ended. Search finished for the next optimal point.\n",
      "Time taken: 2.6010\n",
      "Function value obtained: 522.1682\n",
      "Current minimum: 500.1678\n",
      "Iteration No: 128 started. Searching for the next optimal point.\n",
      "[0.001, 100, 2, 'log2', 6, 1]\n"
     ]
    },
    {
     "name": "stderr",
     "output_type": "stream",
     "text": [
      "/home/carcook/anaconda3/envs/TCGA-round1/lib/python3.8/site-packages/skopt/optimizer/optimizer.py:449: UserWarning: The objective has been evaluated at this point before.\n",
      "  warnings.warn(\"The objective has been evaluated \"\n"
     ]
    },
    {
     "name": "stdout",
     "output_type": "stream",
     "text": [
      "Iteration No: 128 ended. Search finished for the next optimal point.\n",
      "Time taken: 2.6274\n",
      "Function value obtained: 521.7261\n",
      "Current minimum: 500.1678\n",
      "Iteration No: 129 started. Searching for the next optimal point.\n",
      "[0.001, 100, 2, 'log2', 2, 1]\n"
     ]
    },
    {
     "name": "stderr",
     "output_type": "stream",
     "text": [
      "/home/carcook/anaconda3/envs/TCGA-round1/lib/python3.8/site-packages/skopt/optimizer/optimizer.py:449: UserWarning: The objective has been evaluated at this point before.\n",
      "  warnings.warn(\"The objective has been evaluated \"\n"
     ]
    },
    {
     "name": "stdout",
     "output_type": "stream",
     "text": [
      "Iteration No: 129 ended. Search finished for the next optimal point.\n",
      "Time taken: 2.6381\n",
      "Function value obtained: 522.2912\n",
      "Current minimum: 500.1678\n",
      "Iteration No: 130 started. Searching for the next optimal point.\n",
      "[0.001, 100, 2, 'log2', 2, 1]\n"
     ]
    },
    {
     "name": "stderr",
     "output_type": "stream",
     "text": [
      "/home/carcook/anaconda3/envs/TCGA-round1/lib/python3.8/site-packages/skopt/optimizer/optimizer.py:449: UserWarning: The objective has been evaluated at this point before.\n",
      "  warnings.warn(\"The objective has been evaluated \"\n"
     ]
    },
    {
     "name": "stdout",
     "output_type": "stream",
     "text": [
      "Iteration No: 130 ended. Search finished for the next optimal point.\n",
      "Time taken: 2.7840\n",
      "Function value obtained: 521.6386\n",
      "Current minimum: 500.1678\n",
      "Iteration No: 131 started. Searching for the next optimal point.\n",
      "[0.001, 100, 3, 'log2', 2, 1]\n"
     ]
    },
    {
     "name": "stderr",
     "output_type": "stream",
     "text": [
      "/home/carcook/anaconda3/envs/TCGA-round1/lib/python3.8/site-packages/skopt/optimizer/optimizer.py:449: UserWarning: The objective has been evaluated at this point before.\n",
      "  warnings.warn(\"The objective has been evaluated \"\n"
     ]
    },
    {
     "name": "stdout",
     "output_type": "stream",
     "text": [
      "Iteration No: 131 ended. Search finished for the next optimal point.\n",
      "Time taken: 2.9003\n",
      "Function value obtained: 520.4152\n",
      "Current minimum: 500.1678\n",
      "Iteration No: 132 started. Searching for the next optimal point.\n",
      "[0.001, 1000, 2, 'log2', 2, 1]\n",
      "Iteration No: 132 ended. Search finished for the next optimal point.\n",
      "Time taken: 3.7250\n",
      "Function value obtained: 517.5026\n",
      "Current minimum: 500.1678\n",
      "Iteration No: 133 started. Searching for the next optimal point.\n",
      "[0.001, 100, 2, 'sqrt', 2, 1]\n",
      "Iteration No: 133 ended. Search finished for the next optimal point.\n",
      "Time taken: 3.4941\n",
      "Function value obtained: 522.0768\n",
      "Current minimum: 500.1678\n",
      "Iteration No: 134 started. Searching for the next optimal point.\n",
      "[0.001, 100, 2, 'sqrt', 2, 3]\n",
      "Iteration No: 134 ended. Search finished for the next optimal point.\n",
      "Time taken: 3.6362\n",
      "Function value obtained: 522.1328\n",
      "Current minimum: 500.1678\n",
      "Iteration No: 135 started. Searching for the next optimal point.\n",
      "[0.1, 100, 2, 'sqrt', 2, 3]\n",
      "Iteration No: 135 ended. Search finished for the next optimal point.\n",
      "Time taken: 2.5241\n",
      "Function value obtained: 530.6686\n",
      "Current minimum: 500.1678\n",
      "Iteration No: 136 started. Searching for the next optimal point.\n",
      "[0.001, 728, 2, 'sqrt', 2, 3]\n",
      "Iteration No: 136 ended. Search finished for the next optimal point.\n",
      "Time taken: 4.0260\n",
      "Function value obtained: 517.4910\n",
      "Current minimum: 500.1678\n",
      "Iteration No: 137 started. Searching for the next optimal point.\n",
      "[0.001, 100, 2, 'log2', 6, 3]\n",
      "Iteration No: 137 ended. Search finished for the next optimal point.\n",
      "Time taken: 3.0749\n",
      "Function value obtained: 521.2358\n",
      "Current minimum: 500.1678\n",
      "Iteration No: 138 started. Searching for the next optimal point.\n",
      "[0.001, 1000, 2, 'log2', 3, 1]\n",
      "Iteration No: 138 ended. Search finished for the next optimal point.\n",
      "Time taken: 4.1394\n",
      "Function value obtained: 517.2990\n",
      "Current minimum: 500.1678\n",
      "Iteration No: 139 started. Searching for the next optimal point.\n",
      "[0.001, 1000, 2, 'log2', 2, 1]\n"
     ]
    },
    {
     "name": "stderr",
     "output_type": "stream",
     "text": [
      "/home/carcook/anaconda3/envs/TCGA-round1/lib/python3.8/site-packages/skopt/optimizer/optimizer.py:449: UserWarning: The objective has been evaluated at this point before.\n",
      "  warnings.warn(\"The objective has been evaluated \"\n"
     ]
    },
    {
     "name": "stdout",
     "output_type": "stream",
     "text": [
      "Iteration No: 139 ended. Search finished for the next optimal point.\n",
      "Time taken: 4.6023\n",
      "Function value obtained: 517.7745\n",
      "Current minimum: 500.1678\n",
      "Iteration No: 140 started. Searching for the next optimal point.\n",
      "[0.001, 1000, 2, 'log2', 2, 1]\n"
     ]
    },
    {
     "name": "stderr",
     "output_type": "stream",
     "text": [
      "/home/carcook/anaconda3/envs/TCGA-round1/lib/python3.8/site-packages/skopt/optimizer/optimizer.py:449: UserWarning: The objective has been evaluated at this point before.\n",
      "  warnings.warn(\"The objective has been evaluated \"\n"
     ]
    },
    {
     "name": "stdout",
     "output_type": "stream",
     "text": [
      "Iteration No: 140 ended. Search finished for the next optimal point.\n",
      "Time taken: 4.2766\n",
      "Function value obtained: 516.5197\n",
      "Current minimum: 500.1678\n",
      "Iteration No: 141 started. Searching for the next optimal point.\n",
      "[0.001, 1000, 2, 'log2', 3, 1]\n"
     ]
    },
    {
     "name": "stderr",
     "output_type": "stream",
     "text": [
      "/home/carcook/anaconda3/envs/TCGA-round1/lib/python3.8/site-packages/skopt/optimizer/optimizer.py:449: UserWarning: The objective has been evaluated at this point before.\n",
      "  warnings.warn(\"The objective has been evaluated \"\n"
     ]
    },
    {
     "name": "stdout",
     "output_type": "stream",
     "text": [
      "Iteration No: 141 ended. Search finished for the next optimal point.\n",
      "Time taken: 4.2627\n",
      "Function value obtained: 517.4150\n",
      "Current minimum: 500.1678\n",
      "Iteration No: 142 started. Searching for the next optimal point.\n",
      "[0.001, 1000, 2, 'log2', 2, 1]\n"
     ]
    },
    {
     "name": "stderr",
     "output_type": "stream",
     "text": [
      "/home/carcook/anaconda3/envs/TCGA-round1/lib/python3.8/site-packages/skopt/optimizer/optimizer.py:449: UserWarning: The objective has been evaluated at this point before.\n",
      "  warnings.warn(\"The objective has been evaluated \"\n"
     ]
    },
    {
     "name": "stdout",
     "output_type": "stream",
     "text": [
      "Iteration No: 142 ended. Search finished for the next optimal point.\n",
      "Time taken: 4.2692\n",
      "Function value obtained: 516.4767\n",
      "Current minimum: 500.1678\n",
      "Iteration No: 143 started. Searching for the next optimal point.\n",
      "[0.001, 1000, 2, 'log2', 2, 1]\n"
     ]
    },
    {
     "name": "stderr",
     "output_type": "stream",
     "text": [
      "/home/carcook/anaconda3/envs/TCGA-round1/lib/python3.8/site-packages/skopt/optimizer/optimizer.py:449: UserWarning: The objective has been evaluated at this point before.\n",
      "  warnings.warn(\"The objective has been evaluated \"\n"
     ]
    },
    {
     "name": "stdout",
     "output_type": "stream",
     "text": [
      "Iteration No: 143 ended. Search finished for the next optimal point.\n",
      "Time taken: 4.0654\n",
      "Function value obtained: 517.4585\n",
      "Current minimum: 500.1678\n",
      "Iteration No: 144 started. Searching for the next optimal point.\n",
      "[0.001, 1000, 2, 'log2', 2, 1]\n"
     ]
    },
    {
     "name": "stderr",
     "output_type": "stream",
     "text": [
      "/home/carcook/anaconda3/envs/TCGA-round1/lib/python3.8/site-packages/skopt/optimizer/optimizer.py:449: UserWarning: The objective has been evaluated at this point before.\n",
      "  warnings.warn(\"The objective has been evaluated \"\n"
     ]
    },
    {
     "name": "stdout",
     "output_type": "stream",
     "text": [
      "Iteration No: 144 ended. Search finished for the next optimal point.\n",
      "Time taken: 3.9433\n",
      "Function value obtained: 516.6079\n",
      "Current minimum: 500.1678\n",
      "Iteration No: 145 started. Searching for the next optimal point.\n",
      "[0.001, 1000, 2, 'log2', 2, 1]\n"
     ]
    },
    {
     "name": "stderr",
     "output_type": "stream",
     "text": [
      "/home/carcook/anaconda3/envs/TCGA-round1/lib/python3.8/site-packages/skopt/optimizer/optimizer.py:449: UserWarning: The objective has been evaluated at this point before.\n",
      "  warnings.warn(\"The objective has been evaluated \"\n"
     ]
    },
    {
     "name": "stdout",
     "output_type": "stream",
     "text": [
      "Iteration No: 145 ended. Search finished for the next optimal point.\n",
      "Time taken: 4.6395\n",
      "Function value obtained: 516.9057\n",
      "Current minimum: 500.1678\n",
      "Iteration No: 146 started. Searching for the next optimal point.\n",
      "[0.001, 1000, 2, 'log2', 2, 1]\n"
     ]
    },
    {
     "name": "stderr",
     "output_type": "stream",
     "text": [
      "/home/carcook/anaconda3/envs/TCGA-round1/lib/python3.8/site-packages/skopt/optimizer/optimizer.py:449: UserWarning: The objective has been evaluated at this point before.\n",
      "  warnings.warn(\"The objective has been evaluated \"\n"
     ]
    },
    {
     "name": "stdout",
     "output_type": "stream",
     "text": [
      "Iteration No: 146 ended. Search finished for the next optimal point.\n",
      "Time taken: 4.3798\n",
      "Function value obtained: 515.9619\n",
      "Current minimum: 500.1678\n",
      "Iteration No: 147 started. Searching for the next optimal point.\n",
      "[0.001, 1000, 2, 'log2', 2, 1]\n"
     ]
    },
    {
     "name": "stderr",
     "output_type": "stream",
     "text": [
      "/home/carcook/anaconda3/envs/TCGA-round1/lib/python3.8/site-packages/skopt/optimizer/optimizer.py:449: UserWarning: The objective has been evaluated at this point before.\n",
      "  warnings.warn(\"The objective has been evaluated \"\n"
     ]
    },
    {
     "name": "stdout",
     "output_type": "stream",
     "text": [
      "Iteration No: 147 ended. Search finished for the next optimal point.\n",
      "Time taken: 3.9409\n",
      "Function value obtained: 517.1978\n",
      "Current minimum: 500.1678\n",
      "Iteration No: 148 started. Searching for the next optimal point.\n",
      "[0.001, 1000, 2, 'log2', 3, 1]\n"
     ]
    },
    {
     "name": "stderr",
     "output_type": "stream",
     "text": [
      "/home/carcook/anaconda3/envs/TCGA-round1/lib/python3.8/site-packages/skopt/optimizer/optimizer.py:449: UserWarning: The objective has been evaluated at this point before.\n",
      "  warnings.warn(\"The objective has been evaluated \"\n"
     ]
    },
    {
     "name": "stdout",
     "output_type": "stream",
     "text": [
      "Iteration No: 148 ended. Search finished for the next optimal point.\n",
      "Time taken: 4.1264\n",
      "Function value obtained: 516.7506\n",
      "Current minimum: 500.1678\n",
      "Iteration No: 149 started. Searching for the next optimal point.\n",
      "[0.001, 1000, 2, 'log2', 2, 1]\n"
     ]
    },
    {
     "name": "stderr",
     "output_type": "stream",
     "text": [
      "/home/carcook/anaconda3/envs/TCGA-round1/lib/python3.8/site-packages/skopt/optimizer/optimizer.py:449: UserWarning: The objective has been evaluated at this point before.\n",
      "  warnings.warn(\"The objective has been evaluated \"\n"
     ]
    },
    {
     "name": "stdout",
     "output_type": "stream",
     "text": [
      "Iteration No: 149 ended. Search finished for the next optimal point.\n",
      "Time taken: 4.7764\n",
      "Function value obtained: 517.1814\n",
      "Current minimum: 500.1678\n",
      "Iteration No: 150 started. Searching for the next optimal point.\n",
      "[0.001, 1000, 2, 'log2', 2, 1]\n"
     ]
    },
    {
     "name": "stderr",
     "output_type": "stream",
     "text": [
      "/home/carcook/anaconda3/envs/TCGA-round1/lib/python3.8/site-packages/skopt/optimizer/optimizer.py:449: UserWarning: The objective has been evaluated at this point before.\n",
      "  warnings.warn(\"The objective has been evaluated \"\n"
     ]
    },
    {
     "name": "stdout",
     "output_type": "stream",
     "text": [
      "Iteration No: 150 ended. Search finished for the next optimal point.\n",
      "Time taken: 4.6917\n",
      "Function value obtained: 517.8576\n",
      "Current minimum: 500.1678\n",
      "Iteration No: 151 started. Searching for the next optimal point.\n",
      "[0.001, 1000, 2, 'log2', 2, 1]\n"
     ]
    },
    {
     "name": "stderr",
     "output_type": "stream",
     "text": [
      "/home/carcook/anaconda3/envs/TCGA-round1/lib/python3.8/site-packages/skopt/optimizer/optimizer.py:449: UserWarning: The objective has been evaluated at this point before.\n",
      "  warnings.warn(\"The objective has been evaluated \"\n"
     ]
    },
    {
     "name": "stdout",
     "output_type": "stream",
     "text": [
      "Iteration No: 151 ended. Search finished for the next optimal point.\n",
      "Time taken: 4.4452\n",
      "Function value obtained: 517.6724\n",
      "Current minimum: 500.1678\n",
      "Iteration No: 152 started. Searching for the next optimal point.\n",
      "[0.001, 1000, 2, 'log2', 2, 1]\n"
     ]
    },
    {
     "name": "stderr",
     "output_type": "stream",
     "text": [
      "/home/carcook/anaconda3/envs/TCGA-round1/lib/python3.8/site-packages/skopt/optimizer/optimizer.py:449: UserWarning: The objective has been evaluated at this point before.\n",
      "  warnings.warn(\"The objective has been evaluated \"\n"
     ]
    },
    {
     "name": "stdout",
     "output_type": "stream",
     "text": [
      "Iteration No: 152 ended. Search finished for the next optimal point.\n",
      "Time taken: 4.2940\n",
      "Function value obtained: 518.1722\n",
      "Current minimum: 500.1678\n",
      "Iteration No: 153 started. Searching for the next optimal point.\n",
      "[0.001, 1000, 2, 'log2', 2, 1]\n"
     ]
    },
    {
     "name": "stderr",
     "output_type": "stream",
     "text": [
      "/home/carcook/anaconda3/envs/TCGA-round1/lib/python3.8/site-packages/skopt/optimizer/optimizer.py:449: UserWarning: The objective has been evaluated at this point before.\n",
      "  warnings.warn(\"The objective has been evaluated \"\n"
     ]
    },
    {
     "name": "stdout",
     "output_type": "stream",
     "text": [
      "Iteration No: 153 ended. Search finished for the next optimal point.\n",
      "Time taken: 4.8539\n",
      "Function value obtained: 517.4850\n",
      "Current minimum: 500.1678\n",
      "Iteration No: 154 started. Searching for the next optimal point.\n",
      "[0.001, 1000, 2, 'log2', 2, 1]\n"
     ]
    },
    {
     "name": "stderr",
     "output_type": "stream",
     "text": [
      "/home/carcook/anaconda3/envs/TCGA-round1/lib/python3.8/site-packages/skopt/optimizer/optimizer.py:449: UserWarning: The objective has been evaluated at this point before.\n",
      "  warnings.warn(\"The objective has been evaluated \"\n"
     ]
    },
    {
     "name": "stdout",
     "output_type": "stream",
     "text": [
      "Iteration No: 154 ended. Search finished for the next optimal point.\n",
      "Time taken: 4.6964\n",
      "Function value obtained: 517.9505\n",
      "Current minimum: 500.1678\n",
      "Iteration No: 155 started. Searching for the next optimal point.\n",
      "[0.001, 1000, 2, 'log2', 2, 1]\n"
     ]
    },
    {
     "name": "stderr",
     "output_type": "stream",
     "text": [
      "/home/carcook/anaconda3/envs/TCGA-round1/lib/python3.8/site-packages/skopt/optimizer/optimizer.py:449: UserWarning: The objective has been evaluated at this point before.\n",
      "  warnings.warn(\"The objective has been evaluated \"\n"
     ]
    },
    {
     "name": "stdout",
     "output_type": "stream",
     "text": [
      "Iteration No: 155 ended. Search finished for the next optimal point.\n",
      "Time taken: 4.5990\n",
      "Function value obtained: 516.9482\n",
      "Current minimum: 500.1678\n",
      "Iteration No: 156 started. Searching for the next optimal point.\n",
      "[0.001, 1000, 2, 'log2', 2, 1]\n"
     ]
    },
    {
     "name": "stderr",
     "output_type": "stream",
     "text": [
      "/home/carcook/anaconda3/envs/TCGA-round1/lib/python3.8/site-packages/skopt/optimizer/optimizer.py:449: UserWarning: The objective has been evaluated at this point before.\n",
      "  warnings.warn(\"The objective has been evaluated \"\n"
     ]
    },
    {
     "name": "stdout",
     "output_type": "stream",
     "text": [
      "Iteration No: 156 ended. Search finished for the next optimal point.\n",
      "Time taken: 4.4976\n",
      "Function value obtained: 516.8493\n",
      "Current minimum: 500.1678\n",
      "Iteration No: 157 started. Searching for the next optimal point.\n",
      "[0.001, 1000, 2, 'log2', 2, 1]\n"
     ]
    },
    {
     "name": "stderr",
     "output_type": "stream",
     "text": [
      "/home/carcook/anaconda3/envs/TCGA-round1/lib/python3.8/site-packages/skopt/optimizer/optimizer.py:449: UserWarning: The objective has been evaluated at this point before.\n",
      "  warnings.warn(\"The objective has been evaluated \"\n"
     ]
    },
    {
     "name": "stdout",
     "output_type": "stream",
     "text": [
      "Iteration No: 157 ended. Search finished for the next optimal point.\n",
      "Time taken: 4.6410\n",
      "Function value obtained: 517.7842\n",
      "Current minimum: 500.1678\n",
      "Iteration No: 158 started. Searching for the next optimal point.\n",
      "[0.001, 1000, 2, 'log2', 2, 1]\n"
     ]
    },
    {
     "name": "stderr",
     "output_type": "stream",
     "text": [
      "/home/carcook/anaconda3/envs/TCGA-round1/lib/python3.8/site-packages/skopt/optimizer/optimizer.py:449: UserWarning: The objective has been evaluated at this point before.\n",
      "  warnings.warn(\"The objective has been evaluated \"\n"
     ]
    },
    {
     "name": "stdout",
     "output_type": "stream",
     "text": [
      "Iteration No: 158 ended. Search finished for the next optimal point.\n",
      "Time taken: 4.9163\n",
      "Function value obtained: 517.5249\n",
      "Current minimum: 500.1678\n",
      "Iteration No: 159 started. Searching for the next optimal point.\n",
      "[0.001, 1000, 2, 'log2', 2, 1]\n"
     ]
    },
    {
     "name": "stderr",
     "output_type": "stream",
     "text": [
      "/home/carcook/anaconda3/envs/TCGA-round1/lib/python3.8/site-packages/skopt/optimizer/optimizer.py:449: UserWarning: The objective has been evaluated at this point before.\n",
      "  warnings.warn(\"The objective has been evaluated \"\n"
     ]
    },
    {
     "name": "stdout",
     "output_type": "stream",
     "text": [
      "Iteration No: 159 ended. Search finished for the next optimal point.\n",
      "Time taken: 5.0870\n",
      "Function value obtained: 518.5322\n",
      "Current minimum: 500.1678\n",
      "Iteration No: 160 started. Searching for the next optimal point.\n",
      "[0.001, 1000, 2, 'log2', 2, 1]\n"
     ]
    },
    {
     "name": "stderr",
     "output_type": "stream",
     "text": [
      "/home/carcook/anaconda3/envs/TCGA-round1/lib/python3.8/site-packages/skopt/optimizer/optimizer.py:449: UserWarning: The objective has been evaluated at this point before.\n",
      "  warnings.warn(\"The objective has been evaluated \"\n"
     ]
    },
    {
     "name": "stdout",
     "output_type": "stream",
     "text": [
      "Iteration No: 160 ended. Search finished for the next optimal point.\n",
      "Time taken: 4.5973\n",
      "Function value obtained: 516.4475\n",
      "Current minimum: 500.1678\n",
      "Iteration No: 161 started. Searching for the next optimal point.\n",
      "[0.001, 1000, 2, 'log2', 2, 1]\n"
     ]
    },
    {
     "name": "stderr",
     "output_type": "stream",
     "text": [
      "/home/carcook/anaconda3/envs/TCGA-round1/lib/python3.8/site-packages/skopt/optimizer/optimizer.py:449: UserWarning: The objective has been evaluated at this point before.\n",
      "  warnings.warn(\"The objective has been evaluated \"\n"
     ]
    },
    {
     "name": "stdout",
     "output_type": "stream",
     "text": [
      "Iteration No: 161 ended. Search finished for the next optimal point.\n",
      "Time taken: 4.7920\n",
      "Function value obtained: 516.4677\n",
      "Current minimum: 500.1678\n",
      "Iteration No: 162 started. Searching for the next optimal point.\n",
      "[0.001, 1000, 2, 'log2', 2, 1]\n"
     ]
    },
    {
     "name": "stderr",
     "output_type": "stream",
     "text": [
      "/home/carcook/anaconda3/envs/TCGA-round1/lib/python3.8/site-packages/skopt/optimizer/optimizer.py:449: UserWarning: The objective has been evaluated at this point before.\n",
      "  warnings.warn(\"The objective has been evaluated \"\n"
     ]
    },
    {
     "name": "stdout",
     "output_type": "stream",
     "text": [
      "Iteration No: 162 ended. Search finished for the next optimal point.\n",
      "Time taken: 5.1056\n",
      "Function value obtained: 517.3009\n",
      "Current minimum: 500.1678\n",
      "Iteration No: 163 started. Searching for the next optimal point.\n",
      "[0.001, 1000, 2, 'log2', 2, 1]\n"
     ]
    },
    {
     "name": "stderr",
     "output_type": "stream",
     "text": [
      "/home/carcook/anaconda3/envs/TCGA-round1/lib/python3.8/site-packages/skopt/optimizer/optimizer.py:449: UserWarning: The objective has been evaluated at this point before.\n",
      "  warnings.warn(\"The objective has been evaluated \"\n"
     ]
    },
    {
     "name": "stdout",
     "output_type": "stream",
     "text": [
      "Iteration No: 163 ended. Search finished for the next optimal point.\n",
      "Time taken: 5.0201\n",
      "Function value obtained: 518.2228\n",
      "Current minimum: 500.1678\n",
      "Iteration No: 164 started. Searching for the next optimal point.\n",
      "[0.001, 1000, 2, 'log2', 2, 1]\n"
     ]
    },
    {
     "name": "stderr",
     "output_type": "stream",
     "text": [
      "/home/carcook/anaconda3/envs/TCGA-round1/lib/python3.8/site-packages/skopt/optimizer/optimizer.py:449: UserWarning: The objective has been evaluated at this point before.\n",
      "  warnings.warn(\"The objective has been evaluated \"\n"
     ]
    },
    {
     "name": "stdout",
     "output_type": "stream",
     "text": [
      "Iteration No: 164 ended. Search finished for the next optimal point.\n",
      "Time taken: 5.1249\n",
      "Function value obtained: 518.3730\n",
      "Current minimum: 500.1678\n",
      "Iteration No: 165 started. Searching for the next optimal point.\n",
      "[0.001, 1000, 2, 'log2', 3, 1]\n"
     ]
    },
    {
     "name": "stderr",
     "output_type": "stream",
     "text": [
      "/home/carcook/anaconda3/envs/TCGA-round1/lib/python3.8/site-packages/skopt/optimizer/optimizer.py:449: UserWarning: The objective has been evaluated at this point before.\n",
      "  warnings.warn(\"The objective has been evaluated \"\n"
     ]
    },
    {
     "name": "stdout",
     "output_type": "stream",
     "text": [
      "Iteration No: 165 ended. Search finished for the next optimal point.\n",
      "Time taken: 5.2308\n",
      "Function value obtained: 516.4017\n",
      "Current minimum: 500.1678\n",
      "Iteration No: 166 started. Searching for the next optimal point.\n",
      "[0.001, 1000, 2, 'log2', 2, 1]\n"
     ]
    },
    {
     "name": "stderr",
     "output_type": "stream",
     "text": [
      "/home/carcook/anaconda3/envs/TCGA-round1/lib/python3.8/site-packages/skopt/optimizer/optimizer.py:449: UserWarning: The objective has been evaluated at this point before.\n",
      "  warnings.warn(\"The objective has been evaluated \"\n"
     ]
    },
    {
     "name": "stdout",
     "output_type": "stream",
     "text": [
      "Iteration No: 166 ended. Search finished for the next optimal point.\n",
      "Time taken: 4.9706\n",
      "Function value obtained: 516.4133\n",
      "Current minimum: 500.1678\n",
      "Iteration No: 167 started. Searching for the next optimal point.\n",
      "[0.001, 1000, 2, 'log2', 2, 1]\n"
     ]
    },
    {
     "name": "stderr",
     "output_type": "stream",
     "text": [
      "/home/carcook/anaconda3/envs/TCGA-round1/lib/python3.8/site-packages/skopt/optimizer/optimizer.py:449: UserWarning: The objective has been evaluated at this point before.\n",
      "  warnings.warn(\"The objective has been evaluated \"\n"
     ]
    },
    {
     "name": "stdout",
     "output_type": "stream",
     "text": [
      "Iteration No: 167 ended. Search finished for the next optimal point.\n",
      "Time taken: 4.4233\n",
      "Function value obtained: 517.1696\n",
      "Current minimum: 500.1678\n",
      "Iteration No: 168 started. Searching for the next optimal point.\n",
      "[0.001, 1000, 2, 'log2', 2, 1]\n"
     ]
    },
    {
     "name": "stderr",
     "output_type": "stream",
     "text": [
      "/home/carcook/anaconda3/envs/TCGA-round1/lib/python3.8/site-packages/skopt/optimizer/optimizer.py:449: UserWarning: The objective has been evaluated at this point before.\n",
      "  warnings.warn(\"The objective has been evaluated \"\n"
     ]
    },
    {
     "name": "stdout",
     "output_type": "stream",
     "text": [
      "Iteration No: 168 ended. Search finished for the next optimal point.\n",
      "Time taken: 4.9811\n",
      "Function value obtained: 516.7205\n",
      "Current minimum: 500.1678\n",
      "Iteration No: 169 started. Searching for the next optimal point.\n",
      "[0.001, 1000, 2, 'log2', 2, 1]\n"
     ]
    },
    {
     "name": "stderr",
     "output_type": "stream",
     "text": [
      "/home/carcook/anaconda3/envs/TCGA-round1/lib/python3.8/site-packages/skopt/optimizer/optimizer.py:449: UserWarning: The objective has been evaluated at this point before.\n",
      "  warnings.warn(\"The objective has been evaluated \"\n"
     ]
    },
    {
     "name": "stdout",
     "output_type": "stream",
     "text": [
      "Iteration No: 169 ended. Search finished for the next optimal point.\n",
      "Time taken: 5.5196\n",
      "Function value obtained: 518.7926\n",
      "Current minimum: 500.1678\n",
      "Iteration No: 170 started. Searching for the next optimal point.\n",
      "[0.001, 1000, 2, 'log2', 2, 1]\n"
     ]
    },
    {
     "name": "stderr",
     "output_type": "stream",
     "text": [
      "/home/carcook/anaconda3/envs/TCGA-round1/lib/python3.8/site-packages/skopt/optimizer/optimizer.py:449: UserWarning: The objective has been evaluated at this point before.\n",
      "  warnings.warn(\"The objective has been evaluated \"\n"
     ]
    },
    {
     "name": "stdout",
     "output_type": "stream",
     "text": [
      "Iteration No: 170 ended. Search finished for the next optimal point.\n",
      "Time taken: 4.6997\n",
      "Function value obtained: 516.8998\n",
      "Current minimum: 500.1678\n",
      "Iteration No: 171 started. Searching for the next optimal point.\n",
      "[0.001, 1000, 2, 'log2', 2, 1]\n"
     ]
    },
    {
     "name": "stderr",
     "output_type": "stream",
     "text": [
      "/home/carcook/anaconda3/envs/TCGA-round1/lib/python3.8/site-packages/skopt/optimizer/optimizer.py:449: UserWarning: The objective has been evaluated at this point before.\n",
      "  warnings.warn(\"The objective has been evaluated \"\n"
     ]
    },
    {
     "name": "stdout",
     "output_type": "stream",
     "text": [
      "Iteration No: 171 ended. Search finished for the next optimal point.\n",
      "Time taken: 5.1073\n",
      "Function value obtained: 516.3129\n",
      "Current minimum: 500.1678\n",
      "Iteration No: 172 started. Searching for the next optimal point.\n",
      "[0.001, 1000, 2, 'log2', 2, 1]\n"
     ]
    },
    {
     "name": "stderr",
     "output_type": "stream",
     "text": [
      "/home/carcook/anaconda3/envs/TCGA-round1/lib/python3.8/site-packages/skopt/optimizer/optimizer.py:449: UserWarning: The objective has been evaluated at this point before.\n",
      "  warnings.warn(\"The objective has been evaluated \"\n"
     ]
    },
    {
     "name": "stdout",
     "output_type": "stream",
     "text": [
      "Iteration No: 172 ended. Search finished for the next optimal point.\n",
      "Time taken: 5.4018\n",
      "Function value obtained: 517.9429\n",
      "Current minimum: 500.1678\n",
      "Iteration No: 173 started. Searching for the next optimal point.\n",
      "[0.001, 1000, 2, 'log2', 2, 1]\n"
     ]
    },
    {
     "name": "stderr",
     "output_type": "stream",
     "text": [
      "/home/carcook/anaconda3/envs/TCGA-round1/lib/python3.8/site-packages/skopt/optimizer/optimizer.py:449: UserWarning: The objective has been evaluated at this point before.\n",
      "  warnings.warn(\"The objective has been evaluated \"\n"
     ]
    },
    {
     "name": "stdout",
     "output_type": "stream",
     "text": [
      "Iteration No: 173 ended. Search finished for the next optimal point.\n",
      "Time taken: 5.3068\n",
      "Function value obtained: 516.0518\n",
      "Current minimum: 500.1678\n",
      "Iteration No: 174 started. Searching for the next optimal point.\n",
      "[0.001, 1000, 2, 'log2', 2, 1]\n"
     ]
    },
    {
     "name": "stderr",
     "output_type": "stream",
     "text": [
      "/home/carcook/anaconda3/envs/TCGA-round1/lib/python3.8/site-packages/skopt/optimizer/optimizer.py:449: UserWarning: The objective has been evaluated at this point before.\n",
      "  warnings.warn(\"The objective has been evaluated \"\n"
     ]
    },
    {
     "name": "stdout",
     "output_type": "stream",
     "text": [
      "Iteration No: 174 ended. Search finished for the next optimal point.\n",
      "Time taken: 5.1894\n",
      "Function value obtained: 517.3437\n",
      "Current minimum: 500.1678\n",
      "Iteration No: 175 started. Searching for the next optimal point.\n",
      "[0.001, 1000, 2, 'log2', 2, 1]\n"
     ]
    },
    {
     "name": "stderr",
     "output_type": "stream",
     "text": [
      "/home/carcook/anaconda3/envs/TCGA-round1/lib/python3.8/site-packages/skopt/optimizer/optimizer.py:449: UserWarning: The objective has been evaluated at this point before.\n",
      "  warnings.warn(\"The objective has been evaluated \"\n"
     ]
    },
    {
     "name": "stdout",
     "output_type": "stream",
     "text": [
      "Iteration No: 175 ended. Search finished for the next optimal point.\n",
      "Time taken: 5.2503\n",
      "Function value obtained: 517.2676\n",
      "Current minimum: 500.1678\n",
      "Iteration No: 176 started. Searching for the next optimal point.\n",
      "[0.001, 1000, 2, 'log2', 2, 1]\n"
     ]
    },
    {
     "name": "stderr",
     "output_type": "stream",
     "text": [
      "/home/carcook/anaconda3/envs/TCGA-round1/lib/python3.8/site-packages/skopt/optimizer/optimizer.py:449: UserWarning: The objective has been evaluated at this point before.\n",
      "  warnings.warn(\"The objective has been evaluated \"\n"
     ]
    },
    {
     "name": "stdout",
     "output_type": "stream",
     "text": [
      "Iteration No: 176 ended. Search finished for the next optimal point.\n",
      "Time taken: 5.7516\n",
      "Function value obtained: 517.7459\n",
      "Current minimum: 500.1678\n",
      "Iteration No: 177 started. Searching for the next optimal point.\n",
      "[0.001, 1000, 2, 'log2', 2, 1]\n"
     ]
    },
    {
     "name": "stderr",
     "output_type": "stream",
     "text": [
      "/home/carcook/anaconda3/envs/TCGA-round1/lib/python3.8/site-packages/skopt/optimizer/optimizer.py:449: UserWarning: The objective has been evaluated at this point before.\n",
      "  warnings.warn(\"The objective has been evaluated \"\n"
     ]
    },
    {
     "name": "stdout",
     "output_type": "stream",
     "text": [
      "Iteration No: 177 ended. Search finished for the next optimal point.\n",
      "Time taken: 5.3125\n",
      "Function value obtained: 517.9825\n",
      "Current minimum: 500.1678\n",
      "Iteration No: 178 started. Searching for the next optimal point.\n",
      "[0.001, 1000, 2, 'log2', 3, 2]\n",
      "Iteration No: 178 ended. Search finished for the next optimal point.\n",
      "Time taken: 5.4908\n",
      "Function value obtained: 517.4300\n",
      "Current minimum: 500.1678\n",
      "Iteration No: 179 started. Searching for the next optimal point.\n",
      "[0.001, 1000, 2, 'auto', 2, 2]\n",
      "Iteration No: 179 ended. Search finished for the next optimal point.\n",
      "Time taken: 11.9736\n",
      "Function value obtained: 529.5722\n",
      "Current minimum: 500.1678\n",
      "Iteration No: 180 started. Searching for the next optimal point.\n",
      "[0.1, 1000, 2, 'sqrt', 2, 1]\n",
      "Iteration No: 180 ended. Search finished for the next optimal point.\n",
      "Time taken: 5.3661\n",
      "Function value obtained: 535.6002\n",
      "Current minimum: 500.1678\n",
      "Iteration No: 181 started. Searching for the next optimal point.\n",
      "[0.001, 1000, 2, 'log2', 3, 1]\n"
     ]
    },
    {
     "name": "stderr",
     "output_type": "stream",
     "text": [
      "/home/carcook/anaconda3/envs/TCGA-round1/lib/python3.8/site-packages/skopt/optimizer/optimizer.py:449: UserWarning: The objective has been evaluated at this point before.\n",
      "  warnings.warn(\"The objective has been evaluated \"\n"
     ]
    },
    {
     "name": "stdout",
     "output_type": "stream",
     "text": [
      "Iteration No: 181 ended. Search finished for the next optimal point.\n",
      "Time taken: 5.2361\n",
      "Function value obtained: 517.1194\n",
      "Current minimum: 500.1678\n",
      "Iteration No: 182 started. Searching for the next optimal point.\n",
      "[0.001, 340, 2, 'log2', 2, 3]\n",
      "Iteration No: 182 ended. Search finished for the next optimal point.\n",
      "Time taken: 5.4091\n",
      "Function value obtained: 518.7452\n",
      "Current minimum: 500.1678\n",
      "Iteration No: 183 started. Searching for the next optimal point.\n",
      "[0.001, 340, 2, 'log2', 3, 2]\n",
      "Iteration No: 183 ended. Search finished for the next optimal point.\n",
      "Time taken: 4.8476\n",
      "Function value obtained: 520.4418\n",
      "Current minimum: 500.1678\n",
      "Iteration No: 184 started. Searching for the next optimal point.\n",
      "[0.001, 1000, 3, 'log2', 3, 1]\n",
      "Iteration No: 184 ended. Search finished for the next optimal point.\n",
      "Time taken: 6.2576\n",
      "Function value obtained: 516.9793\n",
      "Current minimum: 500.1678\n",
      "Iteration No: 185 started. Searching for the next optimal point.\n",
      "[0.001, 336, 2, 'log2', 5, 3]\n",
      "Iteration No: 185 ended. Search finished for the next optimal point.\n",
      "Time taken: 6.7671\n",
      "Function value obtained: 519.9068\n",
      "Current minimum: 500.1678\n",
      "Iteration No: 186 started. Searching for the next optimal point.\n",
      "[0.001, 333, 2, 'log2', 3, 3]\n",
      "Iteration No: 186 ended. Search finished for the next optimal point.\n",
      "Time taken: 4.8228\n",
      "Function value obtained: 519.9144\n",
      "Current minimum: 500.1678\n",
      "Iteration No: 187 started. Searching for the next optimal point.\n",
      "[0.001, 1000, 2, 'log2', 2, 1]\n"
     ]
    },
    {
     "name": "stderr",
     "output_type": "stream",
     "text": [
      "/home/carcook/anaconda3/envs/TCGA-round1/lib/python3.8/site-packages/skopt/optimizer/optimizer.py:449: UserWarning: The objective has been evaluated at this point before.\n",
      "  warnings.warn(\"The objective has been evaluated \"\n"
     ]
    },
    {
     "name": "stdout",
     "output_type": "stream",
     "text": [
      "Iteration No: 187 ended. Search finished for the next optimal point.\n",
      "Time taken: 5.3929\n",
      "Function value obtained: 518.4237\n",
      "Current minimum: 500.1678\n",
      "Iteration No: 188 started. Searching for the next optimal point.\n",
      "[0.001, 1000, 2, 'log2', 2, 1]\n"
     ]
    },
    {
     "name": "stderr",
     "output_type": "stream",
     "text": [
      "/home/carcook/anaconda3/envs/TCGA-round1/lib/python3.8/site-packages/skopt/optimizer/optimizer.py:449: UserWarning: The objective has been evaluated at this point before.\n",
      "  warnings.warn(\"The objective has been evaluated \"\n"
     ]
    },
    {
     "name": "stdout",
     "output_type": "stream",
     "text": [
      "Iteration No: 188 ended. Search finished for the next optimal point.\n",
      "Time taken: 5.6266\n",
      "Function value obtained: 517.2381\n",
      "Current minimum: 500.1678\n",
      "Iteration No: 189 started. Searching for the next optimal point.\n",
      "[0.001, 1000, 3, 'log2', 2, 1]\n",
      "Iteration No: 189 ended. Search finished for the next optimal point.\n",
      "Time taken: 6.5563\n",
      "Function value obtained: 516.1278\n",
      "Current minimum: 500.1678\n",
      "Iteration No: 190 started. Searching for the next optimal point.\n",
      "[0.001, 100, 2, 'log2', 2, 1]\n"
     ]
    },
    {
     "name": "stderr",
     "output_type": "stream",
     "text": [
      "/home/carcook/anaconda3/envs/TCGA-round1/lib/python3.8/site-packages/skopt/optimizer/optimizer.py:449: UserWarning: The objective has been evaluated at this point before.\n",
      "  warnings.warn(\"The objective has been evaluated \"\n"
     ]
    },
    {
     "name": "stdout",
     "output_type": "stream",
     "text": [
      "Iteration No: 190 ended. Search finished for the next optimal point.\n",
      "Time taken: 4.4948\n",
      "Function value obtained: 521.8672\n",
      "Current minimum: 500.1678\n",
      "Iteration No: 191 started. Searching for the next optimal point.\n",
      "[0.001, 100, 2, 'log2', 4, 1]\n",
      "Iteration No: 191 ended. Search finished for the next optimal point.\n",
      "Time taken: 4.5197\n",
      "Function value obtained: 521.7086\n",
      "Current minimum: 500.1678\n",
      "Iteration No: 192 started. Searching for the next optimal point.\n",
      "[0.001, 1000, 4, 'log2', 4, 1]\n",
      "Iteration No: 192 ended. Search finished for the next optimal point.\n",
      "Time taken: 7.0204\n",
      "Function value obtained: 517.2532\n",
      "Current minimum: 500.1678\n",
      "Iteration No: 193 started. Searching for the next optimal point.\n",
      "[0.001, 1000, 3, 'log2', 6, 1]\n",
      "Iteration No: 193 ended. Search finished for the next optimal point.\n",
      "Time taken: 6.3626\n",
      "Function value obtained: 516.5240\n",
      "Current minimum: 500.1678\n",
      "Iteration No: 194 started. Searching for the next optimal point.\n",
      "[0.001, 1000, 2, 'log2', 4, 1]\n",
      "Iteration No: 194 ended. Search finished for the next optimal point.\n",
      "Time taken: 5.8427\n",
      "Function value obtained: 517.4644\n",
      "Current minimum: 500.1678\n",
      "Iteration No: 195 started. Searching for the next optimal point.\n",
      "[0.001, 339, 2, 'log2', 6, 3]\n",
      "Iteration No: 195 ended. Search finished for the next optimal point.\n",
      "Time taken: 4.8688\n",
      "Function value obtained: 519.4306\n",
      "Current minimum: 500.1678\n",
      "Iteration No: 196 started. Searching for the next optimal point.\n",
      "[0.001, 343, 2, 'log2', 3, 3]\n",
      "Iteration No: 196 ended. Search finished for the next optimal point.\n",
      "Time taken: 6.0408\n",
      "Function value obtained: 520.1464\n",
      "Current minimum: 500.1678\n",
      "Iteration No: 197 started. Searching for the next optimal point.\n",
      "[0.001, 1000, 2, 'log2', 2, 1]\n"
     ]
    },
    {
     "name": "stderr",
     "output_type": "stream",
     "text": [
      "/home/carcook/anaconda3/envs/TCGA-round1/lib/python3.8/site-packages/skopt/optimizer/optimizer.py:449: UserWarning: The objective has been evaluated at this point before.\n",
      "  warnings.warn(\"The objective has been evaluated \"\n"
     ]
    },
    {
     "name": "stdout",
     "output_type": "stream",
     "text": [
      "Iteration No: 197 ended. Search finished for the next optimal point.\n",
      "Time taken: 6.1600\n",
      "Function value obtained: 518.0471\n",
      "Current minimum: 500.1678\n",
      "Iteration No: 198 started. Searching for the next optimal point.\n",
      "[0.001, 335, 3, 'log2', 2, 2]\n",
      "Iteration No: 198 ended. Search finished for the next optimal point.\n",
      "Time taken: 4.9655\n",
      "Function value obtained: 519.5687\n",
      "Current minimum: 500.1678\n",
      "Iteration No: 199 started. Searching for the next optimal point.\n",
      "[0.001, 1000, 2, 'log2', 2, 1]\n"
     ]
    },
    {
     "name": "stderr",
     "output_type": "stream",
     "text": [
      "/home/carcook/anaconda3/envs/TCGA-round1/lib/python3.8/site-packages/skopt/optimizer/optimizer.py:449: UserWarning: The objective has been evaluated at this point before.\n",
      "  warnings.warn(\"The objective has been evaluated \"\n"
     ]
    },
    {
     "name": "stdout",
     "output_type": "stream",
     "text": [
      "Iteration No: 199 ended. Search finished for the next optimal point.\n",
      "Time taken: 5.9248\n",
      "Function value obtained: 518.1141\n",
      "Current minimum: 500.1678\n",
      "Iteration No: 200 started. Searching for the next optimal point.\n",
      "[0.001, 1000, 2, 'log2', 3, 1]\n"
     ]
    },
    {
     "name": "stderr",
     "output_type": "stream",
     "text": [
      "/home/carcook/anaconda3/envs/TCGA-round1/lib/python3.8/site-packages/skopt/optimizer/optimizer.py:449: UserWarning: The objective has been evaluated at this point before.\n",
      "  warnings.warn(\"The objective has been evaluated \"\n"
     ]
    },
    {
     "name": "stdout",
     "output_type": "stream",
     "text": [
      "Iteration No: 200 ended. Search finished for the next optimal point.\n",
      "Time taken: 6.2257\n",
      "Function value obtained: 517.2538\n",
      "Current minimum: 500.1678\n",
      "Iteration No: 201 started. Searching for the next optimal point.\n",
      "[0.001, 344, 2, 'log2', 6, 3]\n",
      "Iteration No: 201 ended. Search finished for the next optimal point.\n",
      "Time taken: 5.3096\n",
      "Function value obtained: 519.5025\n",
      "Current minimum: 500.1678\n",
      "Iteration No: 202 started. Searching for the next optimal point.\n",
      "[0.001, 342, 2, 'log2', 3, 3]\n",
      "Iteration No: 202 ended. Search finished for the next optimal point.\n",
      "Time taken: 5.7753\n",
      "Function value obtained: 520.8027\n",
      "Current minimum: 500.1678\n",
      "Iteration No: 203 started. Searching for the next optimal point.\n",
      "[0.001, 334, 3, 'log2', 2, 2]\n",
      "Iteration No: 203 ended. Search finished for the next optimal point.\n",
      "Time taken: 5.4308\n",
      "Function value obtained: 516.8181\n",
      "Current minimum: 500.1678\n",
      "Iteration No: 204 started. Searching for the next optimal point.\n",
      "[0.015468323399757428, 308, 5, 'log2', 3, 2]\n",
      "Iteration No: 204 ended. Search finished for the next optimal point.\n",
      "Time taken: 6.0829\n",
      "Function value obtained: 526.1469\n",
      "Current minimum: 500.1678\n",
      "Iteration No: 205 started. Searching for the next optimal point.\n",
      "[0.001, 100, 2, 'log2', 6, 1]\n"
     ]
    },
    {
     "name": "stderr",
     "output_type": "stream",
     "text": [
      "/home/carcook/anaconda3/envs/TCGA-round1/lib/python3.8/site-packages/skopt/optimizer/optimizer.py:449: UserWarning: The objective has been evaluated at this point before.\n",
      "  warnings.warn(\"The objective has been evaluated \"\n"
     ]
    },
    {
     "name": "stdout",
     "output_type": "stream",
     "text": [
      "Iteration No: 205 ended. Search finished for the next optimal point.\n",
      "Time taken: 4.9273\n",
      "Function value obtained: 521.0695\n",
      "Current minimum: 500.1678\n",
      "Iteration No: 206 started. Searching for the next optimal point.\n",
      "[0.017735304070768357, 701, 4, 'sqrt', 6, 2]\n",
      "Iteration No: 206 ended. Search finished for the next optimal point.\n",
      "Time taken: 7.5473\n",
      "Function value obtained: 552.1771\n",
      "Current minimum: 500.1678\n",
      "Iteration No: 207 started. Searching for the next optimal point.\n",
      "[0.1, 100, 2, 'auto', 2, 3]\n",
      "Iteration No: 207 ended. Search finished for the next optimal point.\n",
      "Time taken: 6.1730\n",
      "Function value obtained: 568.9799\n",
      "Current minimum: 500.1678\n",
      "Iteration No: 208 started. Searching for the next optimal point.\n",
      "[0.03755684858845545, 517, 2, 'log2', 2, 2]\n",
      "Iteration No: 208 ended. Search finished for the next optimal point.\n",
      "Time taken: 5.4629\n",
      "Function value obtained: 528.3741\n",
      "Current minimum: 500.1678\n",
      "Iteration No: 209 started. Searching for the next optimal point.\n",
      "[0.001, 1000, 5, 'log2', 2, 3]\n",
      "Iteration No: 209 ended. Search finished for the next optimal point.\n",
      "Time taken: 7.2829\n",
      "Function value obtained: 516.7750\n",
      "Current minimum: 500.1678\n",
      "Iteration No: 210 started. Searching for the next optimal point.\n",
      "[0.001, 826, 2, 'log2', 2, 1]\n",
      "Iteration No: 210 ended. Search finished for the next optimal point.\n",
      "Time taken: 6.4514\n",
      "Function value obtained: 517.7531\n",
      "Current minimum: 500.1678\n",
      "Iteration No: 211 started. Searching for the next optimal point.\n",
      "[0.001, 333, 2, 'sqrt', 2, 1]\n",
      "Iteration No: 211 ended. Search finished for the next optimal point.\n",
      "Time taken: 5.8927\n",
      "Function value obtained: 519.1678\n",
      "Current minimum: 500.1678\n",
      "Iteration No: 212 started. Searching for the next optimal point.\n",
      "[0.001, 1000, 5, 'sqrt', 3, 3]\n",
      "Iteration No: 212 ended. Search finished for the next optimal point.\n",
      "Time taken: 7.8372\n",
      "Function value obtained: 516.5042\n",
      "Current minimum: 500.1678\n",
      "Iteration No: 213 started. Searching for the next optimal point.\n",
      "[0.001, 338, 2, 'sqrt', 2, 3]\n",
      "Iteration No: 213 ended. Search finished for the next optimal point.\n",
      "Time taken: 6.6783\n",
      "Function value obtained: 518.4499\n",
      "Current minimum: 500.1678\n",
      "Iteration No: 214 started. Searching for the next optimal point.\n",
      "[0.09990513926942843, 198, 3, 'log2', 3, 2]\n",
      "Iteration No: 214 ended. Search finished for the next optimal point.\n",
      "Time taken: 6.5680\n",
      "Function value obtained: 534.2437\n",
      "Current minimum: 500.1678\n",
      "Iteration No: 215 started. Searching for the next optimal point.\n",
      "[0.07587794687270358, 100, 5, 'log2', 2, 3]\n",
      "Iteration No: 215 ended. Search finished for the next optimal point.\n",
      "Time taken: 6.2523\n",
      "Function value obtained: 536.1932\n",
      "Current minimum: 500.1678\n",
      "Iteration No: 216 started. Searching for the next optimal point.\n",
      "[0.001, 100, 2, 'log2', 2, 1]\n"
     ]
    },
    {
     "name": "stderr",
     "output_type": "stream",
     "text": [
      "/home/carcook/anaconda3/envs/TCGA-round1/lib/python3.8/site-packages/skopt/optimizer/optimizer.py:449: UserWarning: The objective has been evaluated at this point before.\n",
      "  warnings.warn(\"The objective has been evaluated \"\n"
     ]
    },
    {
     "name": "stdout",
     "output_type": "stream",
     "text": [
      "Iteration No: 216 ended. Search finished for the next optimal point.\n",
      "Time taken: 5.9514\n",
      "Function value obtained: 521.9014\n",
      "Current minimum: 500.1678\n",
      "Iteration No: 217 started. Searching for the next optimal point.\n",
      "[0.001, 100, 2, 'log2', 3, 1]\n",
      "Iteration No: 217 ended. Search finished for the next optimal point.\n",
      "Time taken: 5.3908\n",
      "Function value obtained: 521.4283\n",
      "Current minimum: 500.1678\n",
      "Iteration No: 218 started. Searching for the next optimal point.\n",
      "[0.001, 818, 2, 'log2', 2, 1]\n",
      "Iteration No: 218 ended. Search finished for the next optimal point.\n",
      "Time taken: 6.7315\n",
      "Function value obtained: 517.9754\n",
      "Current minimum: 500.1678\n",
      "Iteration No: 219 started. Searching for the next optimal point.\n",
      "[0.021162619357886756, 1000, 2, 'log2', 6, 1]\n",
      "Iteration No: 219 ended. Search finished for the next optimal point.\n",
      "Time taken: 7.2252\n",
      "Function value obtained: 524.9722\n",
      "Current minimum: 500.1678\n",
      "Iteration No: 220 started. Searching for the next optimal point.\n",
      "[0.1, 260, 2, 'log2', 3, 2]\n",
      "Iteration No: 220 ended. Search finished for the next optimal point.\n",
      "Time taken: 6.6545\n",
      "Function value obtained: 534.3937\n",
      "Current minimum: 500.1678\n",
      "Iteration No: 221 started. Searching for the next optimal point.\n",
      "[0.001, 388, 2, 'log2', 6, 1]\n",
      "Iteration No: 221 ended. Search finished for the next optimal point.\n",
      "Time taken: 6.8402\n",
      "Function value obtained: 518.2637\n",
      "Current minimum: 500.1678\n",
      "Iteration No: 222 started. Searching for the next optimal point.\n",
      "[0.001, 100, 5, 'log2', 3, 3]\n",
      "Iteration No: 222 ended. Search finished for the next optimal point.\n",
      "Time taken: 6.5622\n",
      "Function value obtained: 521.8682\n",
      "Current minimum: 500.1678\n",
      "Iteration No: 223 started. Searching for the next optimal point.\n",
      "[0.001, 1000, 5, 'log2', 4, 2]\n",
      "Iteration No: 223 ended. Search finished for the next optimal point.\n",
      "Time taken: 7.3716\n",
      "Function value obtained: 511.6390\n",
      "Current minimum: 500.1678\n",
      "Iteration No: 224 started. Searching for the next optimal point.\n",
      "[0.1, 100, 2, 'log2', 6, 3]\n",
      "Iteration No: 224 ended. Search finished for the next optimal point.\n",
      "Time taken: 6.2977\n",
      "Function value obtained: 526.5199\n",
      "Current minimum: 500.1678\n",
      "Iteration No: 225 started. Searching for the next optimal point.\n",
      "[0.001, 309, 3, 'log2', 6, 1]\n",
      "Iteration No: 225 ended. Search finished for the next optimal point.\n",
      "Time taken: 6.8110\n",
      "Function value obtained: 520.8504\n",
      "Current minimum: 500.1678\n",
      "Iteration No: 226 started. Searching for the next optimal point.\n",
      "[0.001, 305, 4, 'log2', 4, 1]\n",
      "Iteration No: 226 ended. Search finished for the next optimal point.\n",
      "Time taken: 6.2211\n",
      "Function value obtained: 518.7762\n",
      "Current minimum: 500.1678\n",
      "Iteration No: 227 started. Searching for the next optimal point.\n",
      "[0.001, 304, 2, 'log2', 6, 1]\n",
      "Iteration No: 227 ended. Search finished for the next optimal point.\n",
      "Time taken: 7.6448\n",
      "Function value obtained: 519.2668\n",
      "Current minimum: 500.1678\n",
      "Iteration No: 228 started. Searching for the next optimal point.\n",
      "[0.001, 304, 5, 'log2', 3, 1]\n",
      "Iteration No: 228 ended. Search finished for the next optimal point.\n",
      "Time taken: 7.1141\n",
      "Function value obtained: 519.2293\n",
      "Current minimum: 500.1678\n",
      "Iteration No: 229 started. Searching for the next optimal point.\n",
      "[0.001, 1000, 2, 'log2', 5, 3]\n",
      "Iteration No: 229 ended. Search finished for the next optimal point.\n",
      "Time taken: 7.3749\n",
      "Function value obtained: 517.6288\n",
      "Current minimum: 500.1678\n",
      "Iteration No: 230 started. Searching for the next optimal point.\n",
      "[0.02702294234661703, 1000, 2, 'sqrt', 6, 1]\n",
      "Iteration No: 230 ended. Search finished for the next optimal point.\n",
      "Time taken: 7.0657\n",
      "Function value obtained: 532.7032\n",
      "Current minimum: 500.1678\n",
      "Iteration No: 231 started. Searching for the next optimal point.\n",
      "[0.1, 241, 2, 'log2', 5, 2]\n",
      "Iteration No: 231 ended. Search finished for the next optimal point.\n",
      "Time taken: 6.0335\n",
      "Function value obtained: 506.9608\n",
      "Current minimum: 500.1678\n",
      "Iteration No: 232 started. Searching for the next optimal point.\n",
      "[0.001, 307, 3, 'log2', 5, 1]\n",
      "Iteration No: 232 ended. Search finished for the next optimal point.\n",
      "Time taken: 7.4205\n",
      "Function value obtained: 519.4544\n",
      "Current minimum: 500.1678\n",
      "Iteration No: 233 started. Searching for the next optimal point.\n",
      "[0.1, 261, 2, 'log2', 6, 2]\n",
      "Iteration No: 233 ended. Search finished for the next optimal point.\n",
      "Time taken: 7.2157\n",
      "Function value obtained: 515.4931\n",
      "Current minimum: 500.1678\n",
      "Iteration No: 234 started. Searching for the next optimal point.\n",
      "[0.1, 138, 5, 'log2', 6, 2]\n",
      "Iteration No: 234 ended. Search finished for the next optimal point.\n",
      "Time taken: 7.3459\n",
      "Function value obtained: 540.6422\n",
      "Current minimum: 500.1678\n",
      "Iteration No: 235 started. Searching for the next optimal point.\n",
      "[0.001, 1000, 5, 'log2', 2, 2]\n",
      "Iteration No: 235 ended. Search finished for the next optimal point.\n",
      "Time taken: 9.2287\n",
      "Function value obtained: 513.2799\n",
      "Current minimum: 500.1678\n",
      "Iteration No: 236 started. Searching for the next optimal point.\n",
      "[0.001, 1000, 5, 'log2', 3, 2]\n",
      "Iteration No: 236 ended. Search finished for the next optimal point.\n",
      "Time taken: 8.7460\n",
      "Function value obtained: 514.1207\n",
      "Current minimum: 500.1678\n",
      "Iteration No: 237 started. Searching for the next optimal point.\n",
      "[0.1, 265, 3, 'log2', 6, 2]\n",
      "Iteration No: 237 ended. Search finished for the next optimal point.\n",
      "Time taken: 7.4207\n",
      "Function value obtained: 536.1382\n",
      "Current minimum: 500.1678\n",
      "Iteration No: 238 started. Searching for the next optimal point.\n",
      "[0.001, 1000, 5, 'log2', 2, 2]\n"
     ]
    },
    {
     "name": "stderr",
     "output_type": "stream",
     "text": [
      "/home/carcook/anaconda3/envs/TCGA-round1/lib/python3.8/site-packages/skopt/optimizer/optimizer.py:449: UserWarning: The objective has been evaluated at this point before.\n",
      "  warnings.warn(\"The objective has been evaluated \"\n"
     ]
    },
    {
     "name": "stdout",
     "output_type": "stream",
     "text": [
      "Iteration No: 238 ended. Search finished for the next optimal point.\n",
      "Time taken: 8.9429\n",
      "Function value obtained: 515.3413\n",
      "Current minimum: 500.1678\n",
      "Iteration No: 239 started. Searching for the next optimal point.\n",
      "[0.001, 1000, 5, 'log2', 3, 2]\n"
     ]
    },
    {
     "name": "stderr",
     "output_type": "stream",
     "text": [
      "/home/carcook/anaconda3/envs/TCGA-round1/lib/python3.8/site-packages/skopt/optimizer/optimizer.py:449: UserWarning: The objective has been evaluated at this point before.\n",
      "  warnings.warn(\"The objective has been evaluated \"\n"
     ]
    },
    {
     "name": "stdout",
     "output_type": "stream",
     "text": [
      "Iteration No: 239 ended. Search finished for the next optimal point.\n",
      "Time taken: 8.6739\n",
      "Function value obtained: 514.0733\n",
      "Current minimum: 500.1678\n",
      "Iteration No: 240 started. Searching for the next optimal point.\n",
      "[0.001, 1000, 5, 'log2', 4, 2]\n"
     ]
    },
    {
     "name": "stderr",
     "output_type": "stream",
     "text": [
      "/home/carcook/anaconda3/envs/TCGA-round1/lib/python3.8/site-packages/skopt/optimizer/optimizer.py:449: UserWarning: The objective has been evaluated at this point before.\n",
      "  warnings.warn(\"The objective has been evaluated \"\n"
     ]
    },
    {
     "name": "stdout",
     "output_type": "stream",
     "text": [
      "Iteration No: 240 ended. Search finished for the next optimal point.\n",
      "Time taken: 7.3232\n",
      "Function value obtained: 515.4755\n",
      "Current minimum: 500.1678\n",
      "Iteration No: 241 started. Searching for the next optimal point.\n",
      "[0.001, 1000, 5, 'log2', 4, 2]\n"
     ]
    },
    {
     "name": "stderr",
     "output_type": "stream",
     "text": [
      "/home/carcook/anaconda3/envs/TCGA-round1/lib/python3.8/site-packages/skopt/optimizer/optimizer.py:449: UserWarning: The objective has been evaluated at this point before.\n",
      "  warnings.warn(\"The objective has been evaluated \"\n"
     ]
    },
    {
     "name": "stdout",
     "output_type": "stream",
     "text": [
      "Iteration No: 241 ended. Search finished for the next optimal point.\n",
      "Time taken: 8.8387\n",
      "Function value obtained: 514.0683\n",
      "Current minimum: 500.1678\n",
      "Iteration No: 242 started. Searching for the next optimal point.\n",
      "[0.001, 1000, 5, 'log2', 2, 2]\n"
     ]
    },
    {
     "name": "stderr",
     "output_type": "stream",
     "text": [
      "/home/carcook/anaconda3/envs/TCGA-round1/lib/python3.8/site-packages/skopt/optimizer/optimizer.py:449: UserWarning: The objective has been evaluated at this point before.\n",
      "  warnings.warn(\"The objective has been evaluated \"\n"
     ]
    },
    {
     "name": "stdout",
     "output_type": "stream",
     "text": [
      "Iteration No: 242 ended. Search finished for the next optimal point.\n",
      "Time taken: 8.5408\n",
      "Function value obtained: 513.6345\n",
      "Current minimum: 500.1678\n",
      "Iteration No: 243 started. Searching for the next optimal point.\n",
      "[0.001, 1000, 5, 'log2', 2, 2]\n"
     ]
    },
    {
     "name": "stderr",
     "output_type": "stream",
     "text": [
      "/home/carcook/anaconda3/envs/TCGA-round1/lib/python3.8/site-packages/skopt/optimizer/optimizer.py:449: UserWarning: The objective has been evaluated at this point before.\n",
      "  warnings.warn(\"The objective has been evaluated \"\n"
     ]
    },
    {
     "name": "stdout",
     "output_type": "stream",
     "text": [
      "Iteration No: 243 ended. Search finished for the next optimal point.\n",
      "Time taken: 8.8806\n",
      "Function value obtained: 512.5794\n",
      "Current minimum: 500.1678\n",
      "Iteration No: 244 started. Searching for the next optimal point.\n",
      "[0.001, 1000, 5, 'log2', 2, 2]\n"
     ]
    },
    {
     "name": "stderr",
     "output_type": "stream",
     "text": [
      "/home/carcook/anaconda3/envs/TCGA-round1/lib/python3.8/site-packages/skopt/optimizer/optimizer.py:449: UserWarning: The objective has been evaluated at this point before.\n",
      "  warnings.warn(\"The objective has been evaluated \"\n"
     ]
    },
    {
     "name": "stdout",
     "output_type": "stream",
     "text": [
      "Iteration No: 244 ended. Search finished for the next optimal point.\n",
      "Time taken: 9.3588\n",
      "Function value obtained: 514.7569\n",
      "Current minimum: 500.1678\n",
      "Iteration No: 245 started. Searching for the next optimal point.\n",
      "[0.001, 1000, 5, 'log2', 4, 2]\n"
     ]
    },
    {
     "name": "stderr",
     "output_type": "stream",
     "text": [
      "/home/carcook/anaconda3/envs/TCGA-round1/lib/python3.8/site-packages/skopt/optimizer/optimizer.py:449: UserWarning: The objective has been evaluated at this point before.\n",
      "  warnings.warn(\"The objective has been evaluated \"\n"
     ]
    },
    {
     "name": "stdout",
     "output_type": "stream",
     "text": [
      "Iteration No: 245 ended. Search finished for the next optimal point.\n",
      "Time taken: 9.3740\n",
      "Function value obtained: 516.0151\n",
      "Current minimum: 500.1678\n",
      "Iteration No: 246 started. Searching for the next optimal point.\n",
      "[0.001, 1000, 5, 'log2', 2, 2]\n"
     ]
    },
    {
     "name": "stderr",
     "output_type": "stream",
     "text": [
      "/home/carcook/anaconda3/envs/TCGA-round1/lib/python3.8/site-packages/skopt/optimizer/optimizer.py:449: UserWarning: The objective has been evaluated at this point before.\n",
      "  warnings.warn(\"The objective has been evaluated \"\n"
     ]
    },
    {
     "name": "stdout",
     "output_type": "stream",
     "text": [
      "Iteration No: 246 ended. Search finished for the next optimal point.\n",
      "Time taken: 10.3455\n",
      "Function value obtained: 511.7940\n",
      "Current minimum: 500.1678\n",
      "Iteration No: 247 started. Searching for the next optimal point.\n",
      "[0.03498156992693256, 200, 2, 'log2', 6, 2]\n",
      "Iteration No: 247 ended. Search finished for the next optimal point.\n",
      "Time taken: 7.7200\n",
      "Function value obtained: 525.7120\n",
      "Current minimum: 500.1678\n",
      "Iteration No: 248 started. Searching for the next optimal point.\n",
      "[0.001, 1000, 5, 'log2', 2, 2]\n"
     ]
    },
    {
     "name": "stderr",
     "output_type": "stream",
     "text": [
      "/home/carcook/anaconda3/envs/TCGA-round1/lib/python3.8/site-packages/skopt/optimizer/optimizer.py:449: UserWarning: The objective has been evaluated at this point before.\n",
      "  warnings.warn(\"The objective has been evaluated \"\n"
     ]
    },
    {
     "name": "stdout",
     "output_type": "stream",
     "text": [
      "Iteration No: 248 ended. Search finished for the next optimal point.\n",
      "Time taken: 8.7109\n",
      "Function value obtained: 512.3115\n",
      "Current minimum: 500.1678\n",
      "Iteration No: 249 started. Searching for the next optimal point.\n",
      "[0.001, 1000, 5, 'log2', 4, 2]\n"
     ]
    },
    {
     "name": "stderr",
     "output_type": "stream",
     "text": [
      "/home/carcook/anaconda3/envs/TCGA-round1/lib/python3.8/site-packages/skopt/optimizer/optimizer.py:449: UserWarning: The objective has been evaluated at this point before.\n",
      "  warnings.warn(\"The objective has been evaluated \"\n"
     ]
    },
    {
     "name": "stdout",
     "output_type": "stream",
     "text": [
      "Iteration No: 249 ended. Search finished for the next optimal point.\n",
      "Time taken: 8.9531\n",
      "Function value obtained: 515.2315\n",
      "Current minimum: 500.1678\n",
      "Iteration No: 250 started. Searching for the next optimal point.\n",
      "[0.001, 1000, 5, 'log2', 2, 2]\n"
     ]
    },
    {
     "name": "stderr",
     "output_type": "stream",
     "text": [
      "/home/carcook/anaconda3/envs/TCGA-round1/lib/python3.8/site-packages/skopt/optimizer/optimizer.py:449: UserWarning: The objective has been evaluated at this point before.\n",
      "  warnings.warn(\"The objective has been evaluated \"\n"
     ]
    },
    {
     "name": "stdout",
     "output_type": "stream",
     "text": [
      "Iteration No: 250 ended. Search finished for the next optimal point.\n",
      "Time taken: 8.2273\n",
      "Function value obtained: 512.2889\n",
      "Current minimum: 500.1678\n",
      "Iteration No: 251 started. Searching for the next optimal point.\n",
      "[0.001, 1000, 5, 'log2', 2, 2]\n"
     ]
    },
    {
     "name": "stderr",
     "output_type": "stream",
     "text": [
      "/home/carcook/anaconda3/envs/TCGA-round1/lib/python3.8/site-packages/skopt/optimizer/optimizer.py:449: UserWarning: The objective has been evaluated at this point before.\n",
      "  warnings.warn(\"The objective has been evaluated \"\n"
     ]
    },
    {
     "name": "stdout",
     "output_type": "stream",
     "text": [
      "Iteration No: 251 ended. Search finished for the next optimal point.\n",
      "Time taken: 8.7949\n",
      "Function value obtained: 515.3078\n",
      "Current minimum: 500.1678\n",
      "Iteration No: 252 started. Searching for the next optimal point.\n",
      "[0.001, 1000, 5, 'log2', 2, 2]\n"
     ]
    },
    {
     "name": "stderr",
     "output_type": "stream",
     "text": [
      "/home/carcook/anaconda3/envs/TCGA-round1/lib/python3.8/site-packages/skopt/optimizer/optimizer.py:449: UserWarning: The objective has been evaluated at this point before.\n",
      "  warnings.warn(\"The objective has been evaluated \"\n"
     ]
    },
    {
     "name": "stdout",
     "output_type": "stream",
     "text": [
      "Iteration No: 252 ended. Search finished for the next optimal point.\n",
      "Time taken: 9.5853\n",
      "Function value obtained: 511.5687\n",
      "Current minimum: 500.1678\n",
      "Iteration No: 253 started. Searching for the next optimal point.\n",
      "[0.001, 1000, 5, 'log2', 2, 2]\n"
     ]
    },
    {
     "name": "stderr",
     "output_type": "stream",
     "text": [
      "/home/carcook/anaconda3/envs/TCGA-round1/lib/python3.8/site-packages/skopt/optimizer/optimizer.py:449: UserWarning: The objective has been evaluated at this point before.\n",
      "  warnings.warn(\"The objective has been evaluated \"\n"
     ]
    },
    {
     "name": "stdout",
     "output_type": "stream",
     "text": [
      "Iteration No: 253 ended. Search finished for the next optimal point.\n",
      "Time taken: 8.6056\n",
      "Function value obtained: 515.4055\n",
      "Current minimum: 500.1678\n",
      "Iteration No: 254 started. Searching for the next optimal point.\n",
      "[0.001, 1000, 5, 'log2', 2, 2]\n"
     ]
    },
    {
     "name": "stderr",
     "output_type": "stream",
     "text": [
      "/home/carcook/anaconda3/envs/TCGA-round1/lib/python3.8/site-packages/skopt/optimizer/optimizer.py:449: UserWarning: The objective has been evaluated at this point before.\n",
      "  warnings.warn(\"The objective has been evaluated \"\n"
     ]
    },
    {
     "name": "stdout",
     "output_type": "stream",
     "text": [
      "Iteration No: 254 ended. Search finished for the next optimal point.\n",
      "Time taken: 9.0982\n",
      "Function value obtained: 512.6777\n",
      "Current minimum: 500.1678\n",
      "Iteration No: 255 started. Searching for the next optimal point.\n",
      "[0.001, 1000, 5, 'log2', 2, 2]\n"
     ]
    },
    {
     "name": "stderr",
     "output_type": "stream",
     "text": [
      "/home/carcook/anaconda3/envs/TCGA-round1/lib/python3.8/site-packages/skopt/optimizer/optimizer.py:449: UserWarning: The objective has been evaluated at this point before.\n",
      "  warnings.warn(\"The objective has been evaluated \"\n"
     ]
    },
    {
     "name": "stdout",
     "output_type": "stream",
     "text": [
      "Iteration No: 255 ended. Search finished for the next optimal point.\n",
      "Time taken: 9.5319\n",
      "Function value obtained: 513.6800\n",
      "Current minimum: 500.1678\n",
      "Iteration No: 256 started. Searching for the next optimal point.\n",
      "[0.001, 1000, 5, 'log2', 2, 2]\n"
     ]
    },
    {
     "name": "stderr",
     "output_type": "stream",
     "text": [
      "/home/carcook/anaconda3/envs/TCGA-round1/lib/python3.8/site-packages/skopt/optimizer/optimizer.py:449: UserWarning: The objective has been evaluated at this point before.\n",
      "  warnings.warn(\"The objective has been evaluated \"\n"
     ]
    },
    {
     "name": "stdout",
     "output_type": "stream",
     "text": [
      "Iteration No: 256 ended. Search finished for the next optimal point.\n",
      "Time taken: 8.4068\n",
      "Function value obtained: 514.3171\n",
      "Current minimum: 500.1678\n",
      "Iteration No: 257 started. Searching for the next optimal point.\n",
      "[0.09999995076740012, 198, 2, 'log2', 6, 2]\n",
      "Iteration No: 257 ended. Search finished for the next optimal point.\n",
      "Time taken: 7.8743\n",
      "Function value obtained: 558.8772\n",
      "Current minimum: 500.1678\n",
      "Iteration No: 258 started. Searching for the next optimal point.\n",
      "[0.06722571559330147, 100, 2, 'sqrt', 2, 3]\n",
      "Iteration No: 258 ended. Search finished for the next optimal point.\n",
      "Time taken: 6.8947\n",
      "Function value obtained: 540.7657\n",
      "Current minimum: 500.1678\n",
      "Iteration No: 259 started. Searching for the next optimal point.\n",
      "[0.001, 1000, 5, 'log2', 2, 2]\n"
     ]
    },
    {
     "name": "stderr",
     "output_type": "stream",
     "text": [
      "/home/carcook/anaconda3/envs/TCGA-round1/lib/python3.8/site-packages/skopt/optimizer/optimizer.py:449: UserWarning: The objective has been evaluated at this point before.\n",
      "  warnings.warn(\"The objective has been evaluated \"\n"
     ]
    },
    {
     "name": "stdout",
     "output_type": "stream",
     "text": [
      "Iteration No: 259 ended. Search finished for the next optimal point.\n",
      "Time taken: 9.6143\n",
      "Function value obtained: 513.8204\n",
      "Current minimum: 500.1678\n",
      "Iteration No: 260 started. Searching for the next optimal point.\n",
      "[0.001, 1000, 5, 'log2', 2, 2]\n"
     ]
    },
    {
     "name": "stderr",
     "output_type": "stream",
     "text": [
      "/home/carcook/anaconda3/envs/TCGA-round1/lib/python3.8/site-packages/skopt/optimizer/optimizer.py:449: UserWarning: The objective has been evaluated at this point before.\n",
      "  warnings.warn(\"The objective has been evaluated \"\n"
     ]
    },
    {
     "name": "stdout",
     "output_type": "stream",
     "text": [
      "Iteration No: 260 ended. Search finished for the next optimal point.\n",
      "Time taken: 8.9949\n",
      "Function value obtained: 514.1111\n",
      "Current minimum: 500.1678\n",
      "Iteration No: 261 started. Searching for the next optimal point.\n",
      "[0.001, 1000, 5, 'log2', 2, 2]\n"
     ]
    },
    {
     "name": "stderr",
     "output_type": "stream",
     "text": [
      "/home/carcook/anaconda3/envs/TCGA-round1/lib/python3.8/site-packages/skopt/optimizer/optimizer.py:449: UserWarning: The objective has been evaluated at this point before.\n",
      "  warnings.warn(\"The objective has been evaluated \"\n"
     ]
    },
    {
     "name": "stdout",
     "output_type": "stream",
     "text": [
      "Iteration No: 261 ended. Search finished for the next optimal point.\n",
      "Time taken: 9.4387\n",
      "Function value obtained: 512.9802\n",
      "Current minimum: 500.1678\n",
      "Iteration No: 262 started. Searching for the next optimal point.\n",
      "[0.001, 1000, 5, 'log2', 2, 2]\n"
     ]
    },
    {
     "name": "stderr",
     "output_type": "stream",
     "text": [
      "/home/carcook/anaconda3/envs/TCGA-round1/lib/python3.8/site-packages/skopt/optimizer/optimizer.py:449: UserWarning: The objective has been evaluated at this point before.\n",
      "  warnings.warn(\"The objective has been evaluated \"\n"
     ]
    },
    {
     "name": "stdout",
     "output_type": "stream",
     "text": [
      "Iteration No: 262 ended. Search finished for the next optimal point.\n",
      "Time taken: 10.3495\n",
      "Function value obtained: 514.0654\n",
      "Current minimum: 500.1678\n",
      "Iteration No: 263 started. Searching for the next optimal point.\n",
      "[0.001, 1000, 5, 'log2', 3, 2]\n"
     ]
    },
    {
     "name": "stderr",
     "output_type": "stream",
     "text": [
      "/home/carcook/anaconda3/envs/TCGA-round1/lib/python3.8/site-packages/skopt/optimizer/optimizer.py:449: UserWarning: The objective has been evaluated at this point before.\n",
      "  warnings.warn(\"The objective has been evaluated \"\n"
     ]
    },
    {
     "name": "stdout",
     "output_type": "stream",
     "text": [
      "Iteration No: 263 ended. Search finished for the next optimal point.\n",
      "Time taken: 9.4942\n",
      "Function value obtained: 515.3510\n",
      "Current minimum: 500.1678\n",
      "Iteration No: 264 started. Searching for the next optimal point.\n",
      "[0.001, 1000, 5, 'log2', 2, 2]\n"
     ]
    },
    {
     "name": "stderr",
     "output_type": "stream",
     "text": [
      "/home/carcook/anaconda3/envs/TCGA-round1/lib/python3.8/site-packages/skopt/optimizer/optimizer.py:449: UserWarning: The objective has been evaluated at this point before.\n",
      "  warnings.warn(\"The objective has been evaluated \"\n"
     ]
    },
    {
     "name": "stdout",
     "output_type": "stream",
     "text": [
      "Iteration No: 264 ended. Search finished for the next optimal point.\n",
      "Time taken: 9.7491\n",
      "Function value obtained: 512.5274\n",
      "Current minimum: 500.1678\n",
      "Iteration No: 265 started. Searching for the next optimal point.\n",
      "[0.001, 1000, 5, 'log2', 2, 2]\n"
     ]
    },
    {
     "name": "stderr",
     "output_type": "stream",
     "text": [
      "/home/carcook/anaconda3/envs/TCGA-round1/lib/python3.8/site-packages/skopt/optimizer/optimizer.py:449: UserWarning: The objective has been evaluated at this point before.\n",
      "  warnings.warn(\"The objective has been evaluated \"\n"
     ]
    },
    {
     "name": "stdout",
     "output_type": "stream",
     "text": [
      "Iteration No: 265 ended. Search finished for the next optimal point.\n",
      "Time taken: 10.6716\n",
      "Function value obtained: 511.4021\n",
      "Current minimum: 500.1678\n",
      "Iteration No: 266 started. Searching for the next optimal point.\n",
      "[0.001, 1000, 5, 'log2', 4, 2]\n"
     ]
    },
    {
     "name": "stderr",
     "output_type": "stream",
     "text": [
      "/home/carcook/anaconda3/envs/TCGA-round1/lib/python3.8/site-packages/skopt/optimizer/optimizer.py:449: UserWarning: The objective has been evaluated at this point before.\n",
      "  warnings.warn(\"The objective has been evaluated \"\n"
     ]
    },
    {
     "name": "stdout",
     "output_type": "stream",
     "text": [
      "Iteration No: 266 ended. Search finished for the next optimal point.\n",
      "Time taken: 10.0984\n",
      "Function value obtained: 513.8320\n",
      "Current minimum: 500.1678\n",
      "Iteration No: 267 started. Searching for the next optimal point.\n",
      "[0.001, 1000, 5, 'log2', 2, 2]\n"
     ]
    },
    {
     "name": "stderr",
     "output_type": "stream",
     "text": [
      "/home/carcook/anaconda3/envs/TCGA-round1/lib/python3.8/site-packages/skopt/optimizer/optimizer.py:449: UserWarning: The objective has been evaluated at this point before.\n",
      "  warnings.warn(\"The objective has been evaluated \"\n"
     ]
    },
    {
     "name": "stdout",
     "output_type": "stream",
     "text": [
      "Iteration No: 267 ended. Search finished for the next optimal point.\n",
      "Time taken: 9.9710\n",
      "Function value obtained: 512.3787\n",
      "Current minimum: 500.1678\n",
      "Iteration No: 268 started. Searching for the next optimal point.\n",
      "[0.001, 1000, 5, 'log2', 2, 2]\n"
     ]
    },
    {
     "name": "stderr",
     "output_type": "stream",
     "text": [
      "/home/carcook/anaconda3/envs/TCGA-round1/lib/python3.8/site-packages/skopt/optimizer/optimizer.py:449: UserWarning: The objective has been evaluated at this point before.\n",
      "  warnings.warn(\"The objective has been evaluated \"\n"
     ]
    },
    {
     "name": "stdout",
     "output_type": "stream",
     "text": [
      "Iteration No: 268 ended. Search finished for the next optimal point.\n",
      "Time taken: 10.3350\n",
      "Function value obtained: 517.0282\n",
      "Current minimum: 500.1678\n",
      "Iteration No: 269 started. Searching for the next optimal point.\n",
      "[0.001, 1000, 5, 'log2', 2, 2]\n"
     ]
    },
    {
     "name": "stderr",
     "output_type": "stream",
     "text": [
      "/home/carcook/anaconda3/envs/TCGA-round1/lib/python3.8/site-packages/skopt/optimizer/optimizer.py:449: UserWarning: The objective has been evaluated at this point before.\n",
      "  warnings.warn(\"The objective has been evaluated \"\n"
     ]
    },
    {
     "name": "stdout",
     "output_type": "stream",
     "text": [
      "Iteration No: 269 ended. Search finished for the next optimal point.\n",
      "Time taken: 9.8839\n",
      "Function value obtained: 516.6264\n",
      "Current minimum: 500.1678\n",
      "Iteration No: 270 started. Searching for the next optimal point.\n",
      "[0.001, 1000, 5, 'log2', 3, 2]\n"
     ]
    },
    {
     "name": "stderr",
     "output_type": "stream",
     "text": [
      "/home/carcook/anaconda3/envs/TCGA-round1/lib/python3.8/site-packages/skopt/optimizer/optimizer.py:449: UserWarning: The objective has been evaluated at this point before.\n",
      "  warnings.warn(\"The objective has been evaluated \"\n"
     ]
    },
    {
     "name": "stdout",
     "output_type": "stream",
     "text": [
      "Iteration No: 270 ended. Search finished for the next optimal point.\n",
      "Time taken: 10.7843\n",
      "Function value obtained: 513.5909\n",
      "Current minimum: 500.1678\n",
      "Iteration No: 271 started. Searching for the next optimal point.\n",
      "[0.001, 1000, 5, 'log2', 2, 2]\n"
     ]
    },
    {
     "name": "stderr",
     "output_type": "stream",
     "text": [
      "/home/carcook/anaconda3/envs/TCGA-round1/lib/python3.8/site-packages/skopt/optimizer/optimizer.py:449: UserWarning: The objective has been evaluated at this point before.\n",
      "  warnings.warn(\"The objective has been evaluated \"\n"
     ]
    },
    {
     "name": "stdout",
     "output_type": "stream",
     "text": [
      "Iteration No: 271 ended. Search finished for the next optimal point.\n",
      "Time taken: 10.2647\n",
      "Function value obtained: 511.7665\n",
      "Current minimum: 500.1678\n",
      "Iteration No: 272 started. Searching for the next optimal point.\n",
      "[0.001, 1000, 5, 'log2', 2, 2]\n"
     ]
    },
    {
     "name": "stderr",
     "output_type": "stream",
     "text": [
      "/home/carcook/anaconda3/envs/TCGA-round1/lib/python3.8/site-packages/skopt/optimizer/optimizer.py:449: UserWarning: The objective has been evaluated at this point before.\n",
      "  warnings.warn(\"The objective has been evaluated \"\n"
     ]
    },
    {
     "name": "stdout",
     "output_type": "stream",
     "text": [
      "Iteration No: 272 ended. Search finished for the next optimal point.\n",
      "Time taken: 9.1638\n",
      "Function value obtained: 514.4256\n",
      "Current minimum: 500.1678\n",
      "Iteration No: 273 started. Searching for the next optimal point.\n",
      "[0.001, 1000, 5, 'log2', 2, 2]\n"
     ]
    },
    {
     "name": "stderr",
     "output_type": "stream",
     "text": [
      "/home/carcook/anaconda3/envs/TCGA-round1/lib/python3.8/site-packages/skopt/optimizer/optimizer.py:449: UserWarning: The objective has been evaluated at this point before.\n",
      "  warnings.warn(\"The objective has been evaluated \"\n"
     ]
    },
    {
     "name": "stdout",
     "output_type": "stream",
     "text": [
      "Iteration No: 273 ended. Search finished for the next optimal point.\n",
      "Time taken: 10.3128\n",
      "Function value obtained: 513.2389\n",
      "Current minimum: 500.1678\n",
      "Iteration No: 274 started. Searching for the next optimal point.\n",
      "[0.001, 1000, 5, 'log2', 2, 2]\n"
     ]
    },
    {
     "name": "stderr",
     "output_type": "stream",
     "text": [
      "/home/carcook/anaconda3/envs/TCGA-round1/lib/python3.8/site-packages/skopt/optimizer/optimizer.py:449: UserWarning: The objective has been evaluated at this point before.\n",
      "  warnings.warn(\"The objective has been evaluated \"\n"
     ]
    },
    {
     "name": "stdout",
     "output_type": "stream",
     "text": [
      "Iteration No: 274 ended. Search finished for the next optimal point.\n",
      "Time taken: 10.1071\n",
      "Function value obtained: 513.7447\n",
      "Current minimum: 500.1678\n",
      "Iteration No: 275 started. Searching for the next optimal point.\n",
      "[0.001, 1000, 5, 'log2', 2, 2]\n"
     ]
    },
    {
     "name": "stderr",
     "output_type": "stream",
     "text": [
      "/home/carcook/anaconda3/envs/TCGA-round1/lib/python3.8/site-packages/skopt/optimizer/optimizer.py:449: UserWarning: The objective has been evaluated at this point before.\n",
      "  warnings.warn(\"The objective has been evaluated \"\n"
     ]
    },
    {
     "name": "stdout",
     "output_type": "stream",
     "text": [
      "Iteration No: 275 ended. Search finished for the next optimal point.\n",
      "Time taken: 9.5739\n",
      "Function value obtained: 511.5731\n",
      "Current minimum: 500.1678\n",
      "Iteration No: 276 started. Searching for the next optimal point.\n",
      "[0.001, 1000, 5, 'log2', 2, 2]\n"
     ]
    },
    {
     "name": "stderr",
     "output_type": "stream",
     "text": [
      "/home/carcook/anaconda3/envs/TCGA-round1/lib/python3.8/site-packages/skopt/optimizer/optimizer.py:449: UserWarning: The objective has been evaluated at this point before.\n",
      "  warnings.warn(\"The objective has been evaluated \"\n"
     ]
    },
    {
     "name": "stdout",
     "output_type": "stream",
     "text": [
      "Iteration No: 276 ended. Search finished for the next optimal point.\n",
      "Time taken: 10.1089\n",
      "Function value obtained: 514.2742\n",
      "Current minimum: 500.1678\n",
      "Iteration No: 277 started. Searching for the next optimal point.\n",
      "[0.001, 1000, 5, 'log2', 2, 2]\n"
     ]
    },
    {
     "name": "stderr",
     "output_type": "stream",
     "text": [
      "/home/carcook/anaconda3/envs/TCGA-round1/lib/python3.8/site-packages/skopt/optimizer/optimizer.py:449: UserWarning: The objective has been evaluated at this point before.\n",
      "  warnings.warn(\"The objective has been evaluated \"\n"
     ]
    },
    {
     "name": "stdout",
     "output_type": "stream",
     "text": [
      "Iteration No: 277 ended. Search finished for the next optimal point.\n",
      "Time taken: 9.8674\n",
      "Function value obtained: 512.7831\n",
      "Current minimum: 500.1678\n",
      "Iteration No: 278 started. Searching for the next optimal point.\n",
      "[0.001, 1000, 5, 'log2', 2, 2]\n"
     ]
    },
    {
     "name": "stderr",
     "output_type": "stream",
     "text": [
      "/home/carcook/anaconda3/envs/TCGA-round1/lib/python3.8/site-packages/skopt/optimizer/optimizer.py:449: UserWarning: The objective has been evaluated at this point before.\n",
      "  warnings.warn(\"The objective has been evaluated \"\n"
     ]
    },
    {
     "name": "stdout",
     "output_type": "stream",
     "text": [
      "Iteration No: 278 ended. Search finished for the next optimal point.\n",
      "Time taken: 10.6248\n",
      "Function value obtained: 514.1356\n",
      "Current minimum: 500.1678\n",
      "Iteration No: 279 started. Searching for the next optimal point.\n",
      "[0.001, 1000, 5, 'log2', 2, 2]\n"
     ]
    },
    {
     "name": "stderr",
     "output_type": "stream",
     "text": [
      "/home/carcook/anaconda3/envs/TCGA-round1/lib/python3.8/site-packages/skopt/optimizer/optimizer.py:449: UserWarning: The objective has been evaluated at this point before.\n",
      "  warnings.warn(\"The objective has been evaluated \"\n"
     ]
    },
    {
     "name": "stdout",
     "output_type": "stream",
     "text": [
      "Iteration No: 279 ended. Search finished for the next optimal point.\n",
      "Time taken: 13.5376\n",
      "Function value obtained: 515.3895\n",
      "Current minimum: 500.1678\n",
      "Iteration No: 280 started. Searching for the next optimal point.\n",
      "[0.001, 1000, 5, 'log2', 3, 2]\n"
     ]
    },
    {
     "name": "stderr",
     "output_type": "stream",
     "text": [
      "/home/carcook/anaconda3/envs/TCGA-round1/lib/python3.8/site-packages/skopt/optimizer/optimizer.py:449: UserWarning: The objective has been evaluated at this point before.\n",
      "  warnings.warn(\"The objective has been evaluated \"\n"
     ]
    },
    {
     "name": "stdout",
     "output_type": "stream",
     "text": [
      "Iteration No: 280 ended. Search finished for the next optimal point.\n",
      "Time taken: 9.2453\n",
      "Function value obtained: 514.4476\n",
      "Current minimum: 500.1678\n",
      "Iteration No: 281 started. Searching for the next optimal point.\n",
      "[0.001, 1000, 5, 'log2', 2, 2]\n"
     ]
    },
    {
     "name": "stderr",
     "output_type": "stream",
     "text": [
      "/home/carcook/anaconda3/envs/TCGA-round1/lib/python3.8/site-packages/skopt/optimizer/optimizer.py:449: UserWarning: The objective has been evaluated at this point before.\n",
      "  warnings.warn(\"The objective has been evaluated \"\n"
     ]
    },
    {
     "name": "stdout",
     "output_type": "stream",
     "text": [
      "Iteration No: 281 ended. Search finished for the next optimal point.\n",
      "Time taken: 10.8633\n",
      "Function value obtained: 512.3358\n",
      "Current minimum: 500.1678\n",
      "Iteration No: 282 started. Searching for the next optimal point.\n",
      "[0.001, 1000, 5, 'log2', 2, 2]\n"
     ]
    },
    {
     "name": "stderr",
     "output_type": "stream",
     "text": [
      "/home/carcook/anaconda3/envs/TCGA-round1/lib/python3.8/site-packages/skopt/optimizer/optimizer.py:449: UserWarning: The objective has been evaluated at this point before.\n",
      "  warnings.warn(\"The objective has been evaluated \"\n"
     ]
    },
    {
     "name": "stdout",
     "output_type": "stream",
     "text": [
      "Iteration No: 282 ended. Search finished for the next optimal point.\n",
      "Time taken: 10.4614\n",
      "Function value obtained: 515.3955\n",
      "Current minimum: 500.1678\n",
      "Iteration No: 283 started. Searching for the next optimal point.\n",
      "[0.001, 1000, 5, 'log2', 2, 2]\n"
     ]
    },
    {
     "name": "stderr",
     "output_type": "stream",
     "text": [
      "/home/carcook/anaconda3/envs/TCGA-round1/lib/python3.8/site-packages/skopt/optimizer/optimizer.py:449: UserWarning: The objective has been evaluated at this point before.\n",
      "  warnings.warn(\"The objective has been evaluated \"\n"
     ]
    },
    {
     "name": "stdout",
     "output_type": "stream",
     "text": [
      "Iteration No: 283 ended. Search finished for the next optimal point.\n",
      "Time taken: 10.0469\n",
      "Function value obtained: 516.0521\n",
      "Current minimum: 500.1678\n",
      "Iteration No: 284 started. Searching for the next optimal point.\n",
      "[0.001, 1000, 5, 'log2', 2, 2]\n"
     ]
    },
    {
     "name": "stderr",
     "output_type": "stream",
     "text": [
      "/home/carcook/anaconda3/envs/TCGA-round1/lib/python3.8/site-packages/skopt/optimizer/optimizer.py:449: UserWarning: The objective has been evaluated at this point before.\n",
      "  warnings.warn(\"The objective has been evaluated \"\n"
     ]
    },
    {
     "name": "stdout",
     "output_type": "stream",
     "text": [
      "Iteration No: 284 ended. Search finished for the next optimal point.\n",
      "Time taken: 9.8270\n",
      "Function value obtained: 512.4402\n",
      "Current minimum: 500.1678\n",
      "Iteration No: 285 started. Searching for the next optimal point.\n",
      "[0.001, 1000, 5, 'log2', 2, 2]\n"
     ]
    },
    {
     "name": "stderr",
     "output_type": "stream",
     "text": [
      "/home/carcook/anaconda3/envs/TCGA-round1/lib/python3.8/site-packages/skopt/optimizer/optimizer.py:449: UserWarning: The objective has been evaluated at this point before.\n",
      "  warnings.warn(\"The objective has been evaluated \"\n"
     ]
    },
    {
     "name": "stdout",
     "output_type": "stream",
     "text": [
      "Iteration No: 285 ended. Search finished for the next optimal point.\n",
      "Time taken: 10.1509\n",
      "Function value obtained: 515.3663\n",
      "Current minimum: 500.1678\n",
      "Iteration No: 286 started. Searching for the next optimal point.\n",
      "[0.001, 1000, 5, 'log2', 2, 2]\n"
     ]
    },
    {
     "name": "stderr",
     "output_type": "stream",
     "text": [
      "/home/carcook/anaconda3/envs/TCGA-round1/lib/python3.8/site-packages/skopt/optimizer/optimizer.py:449: UserWarning: The objective has been evaluated at this point before.\n",
      "  warnings.warn(\"The objective has been evaluated \"\n"
     ]
    },
    {
     "name": "stdout",
     "output_type": "stream",
     "text": [
      "Iteration No: 286 ended. Search finished for the next optimal point.\n",
      "Time taken: 11.8831\n",
      "Function value obtained: 513.2302\n",
      "Current minimum: 500.1678\n",
      "Iteration No: 287 started. Searching for the next optimal point.\n",
      "[0.028808819716831125, 461, 3, 'log2', 4, 2]\n",
      "Iteration No: 287 ended. Search finished for the next optimal point.\n",
      "Time taken: 10.3592\n",
      "Function value obtained: 523.7872\n",
      "Current minimum: 500.1678\n",
      "Iteration No: 288 started. Searching for the next optimal point.\n",
      "[0.001, 1000, 5, 'log2', 2, 2]\n"
     ]
    },
    {
     "name": "stderr",
     "output_type": "stream",
     "text": [
      "/home/carcook/anaconda3/envs/TCGA-round1/lib/python3.8/site-packages/skopt/optimizer/optimizer.py:449: UserWarning: The objective has been evaluated at this point before.\n",
      "  warnings.warn(\"The objective has been evaluated \"\n"
     ]
    },
    {
     "name": "stdout",
     "output_type": "stream",
     "text": [
      "Iteration No: 288 ended. Search finished for the next optimal point.\n",
      "Time taken: 11.5398\n",
      "Function value obtained: 514.1699\n",
      "Current minimum: 500.1678\n",
      "Iteration No: 289 started. Searching for the next optimal point.\n",
      "[0.001, 1000, 5, 'log2', 2, 2]\n"
     ]
    },
    {
     "name": "stderr",
     "output_type": "stream",
     "text": [
      "/home/carcook/anaconda3/envs/TCGA-round1/lib/python3.8/site-packages/skopt/optimizer/optimizer.py:449: UserWarning: The objective has been evaluated at this point before.\n",
      "  warnings.warn(\"The objective has been evaluated \"\n"
     ]
    },
    {
     "name": "stdout",
     "output_type": "stream",
     "text": [
      "Iteration No: 289 ended. Search finished for the next optimal point.\n",
      "Time taken: 12.0931\n",
      "Function value obtained: 513.7475\n",
      "Current minimum: 500.1678\n",
      "Iteration No: 290 started. Searching for the next optimal point.\n",
      "[0.001, 1000, 5, 'log2', 2, 2]\n"
     ]
    },
    {
     "name": "stderr",
     "output_type": "stream",
     "text": [
      "/home/carcook/anaconda3/envs/TCGA-round1/lib/python3.8/site-packages/skopt/optimizer/optimizer.py:449: UserWarning: The objective has been evaluated at this point before.\n",
      "  warnings.warn(\"The objective has been evaluated \"\n"
     ]
    },
    {
     "name": "stdout",
     "output_type": "stream",
     "text": [
      "Iteration No: 290 ended. Search finished for the next optimal point.\n",
      "Time taken: 11.4275\n",
      "Function value obtained: 515.4437\n",
      "Current minimum: 500.1678\n",
      "Iteration No: 291 started. Searching for the next optimal point.\n",
      "[0.001, 1000, 5, 'log2', 2, 2]\n"
     ]
    },
    {
     "name": "stderr",
     "output_type": "stream",
     "text": [
      "/home/carcook/anaconda3/envs/TCGA-round1/lib/python3.8/site-packages/skopt/optimizer/optimizer.py:449: UserWarning: The objective has been evaluated at this point before.\n",
      "  warnings.warn(\"The objective has been evaluated \"\n"
     ]
    },
    {
     "name": "stdout",
     "output_type": "stream",
     "text": [
      "Iteration No: 291 ended. Search finished for the next optimal point.\n",
      "Time taken: 12.9116\n",
      "Function value obtained: 514.7325\n",
      "Current minimum: 500.1678\n",
      "Iteration No: 292 started. Searching for the next optimal point.\n",
      "[0.001, 1000, 5, 'log2', 2, 2]\n"
     ]
    },
    {
     "name": "stderr",
     "output_type": "stream",
     "text": [
      "/home/carcook/anaconda3/envs/TCGA-round1/lib/python3.8/site-packages/skopt/optimizer/optimizer.py:449: UserWarning: The objective has been evaluated at this point before.\n",
      "  warnings.warn(\"The objective has been evaluated \"\n"
     ]
    },
    {
     "name": "stdout",
     "output_type": "stream",
     "text": [
      "Iteration No: 292 ended. Search finished for the next optimal point.\n",
      "Time taken: 10.3016\n",
      "Function value obtained: 515.7805\n",
      "Current minimum: 500.1678\n",
      "Iteration No: 293 started. Searching for the next optimal point.\n",
      "[0.03721999186629021, 1000, 2, 'sqrt', 5, 3]\n",
      "Iteration No: 293 ended. Search finished for the next optimal point.\n",
      "Time taken: 10.3505\n",
      "Function value obtained: 533.2683\n",
      "Current minimum: 500.1678\n",
      "Iteration No: 294 started. Searching for the next optimal point.\n",
      "[0.001, 1000, 5, 'log2', 2, 2]\n"
     ]
    },
    {
     "name": "stderr",
     "output_type": "stream",
     "text": [
      "/home/carcook/anaconda3/envs/TCGA-round1/lib/python3.8/site-packages/skopt/optimizer/optimizer.py:449: UserWarning: The objective has been evaluated at this point before.\n",
      "  warnings.warn(\"The objective has been evaluated \"\n"
     ]
    },
    {
     "name": "stdout",
     "output_type": "stream",
     "text": [
      "Iteration No: 294 ended. Search finished for the next optimal point.\n",
      "Time taken: 10.4782\n",
      "Function value obtained: 516.5174\n",
      "Current minimum: 500.1678\n",
      "Iteration No: 295 started. Searching for the next optimal point.\n",
      "[0.001, 1000, 5, 'log2', 2, 2]\n"
     ]
    },
    {
     "name": "stderr",
     "output_type": "stream",
     "text": [
      "/home/carcook/anaconda3/envs/TCGA-round1/lib/python3.8/site-packages/skopt/optimizer/optimizer.py:449: UserWarning: The objective has been evaluated at this point before.\n",
      "  warnings.warn(\"The objective has been evaluated \"\n"
     ]
    },
    {
     "name": "stdout",
     "output_type": "stream",
     "text": [
      "Iteration No: 295 ended. Search finished for the next optimal point.\n",
      "Time taken: 11.7288\n",
      "Function value obtained: 512.4514\n",
      "Current minimum: 500.1678\n",
      "Iteration No: 296 started. Searching for the next optimal point.\n",
      "[0.001, 1000, 5, 'log2', 3, 2]\n"
     ]
    },
    {
     "name": "stderr",
     "output_type": "stream",
     "text": [
      "/home/carcook/anaconda3/envs/TCGA-round1/lib/python3.8/site-packages/skopt/optimizer/optimizer.py:449: UserWarning: The objective has been evaluated at this point before.\n",
      "  warnings.warn(\"The objective has been evaluated \"\n"
     ]
    },
    {
     "name": "stdout",
     "output_type": "stream",
     "text": [
      "Iteration No: 296 ended. Search finished for the next optimal point.\n",
      "Time taken: 10.5161\n",
      "Function value obtained: 515.0777\n",
      "Current minimum: 500.1678\n",
      "Iteration No: 297 started. Searching for the next optimal point.\n",
      "[0.001, 1000, 5, 'log2', 2, 2]\n"
     ]
    },
    {
     "name": "stderr",
     "output_type": "stream",
     "text": [
      "/home/carcook/anaconda3/envs/TCGA-round1/lib/python3.8/site-packages/skopt/optimizer/optimizer.py:449: UserWarning: The objective has been evaluated at this point before.\n",
      "  warnings.warn(\"The objective has been evaluated \"\n"
     ]
    },
    {
     "name": "stdout",
     "output_type": "stream",
     "text": [
      "Iteration No: 297 ended. Search finished for the next optimal point.\n",
      "Time taken: 10.6312\n",
      "Function value obtained: 514.1022\n",
      "Current minimum: 500.1678\n",
      "Iteration No: 298 started. Searching for the next optimal point.\n",
      "[0.001, 1000, 5, 'log2', 2, 2]\n"
     ]
    },
    {
     "name": "stderr",
     "output_type": "stream",
     "text": [
      "/home/carcook/anaconda3/envs/TCGA-round1/lib/python3.8/site-packages/skopt/optimizer/optimizer.py:449: UserWarning: The objective has been evaluated at this point before.\n",
      "  warnings.warn(\"The objective has been evaluated \"\n"
     ]
    },
    {
     "name": "stdout",
     "output_type": "stream",
     "text": [
      "Iteration No: 298 ended. Search finished for the next optimal point.\n",
      "Time taken: 11.4587\n",
      "Function value obtained: 514.6506\n",
      "Current minimum: 500.1678\n",
      "Iteration No: 299 started. Searching for the next optimal point.\n",
      "[0.001, 1000, 5, 'log2', 2, 2]\n"
     ]
    },
    {
     "name": "stderr",
     "output_type": "stream",
     "text": [
      "/home/carcook/anaconda3/envs/TCGA-round1/lib/python3.8/site-packages/skopt/optimizer/optimizer.py:449: UserWarning: The objective has been evaluated at this point before.\n",
      "  warnings.warn(\"The objective has been evaluated \"\n"
     ]
    },
    {
     "name": "stdout",
     "output_type": "stream",
     "text": [
      "Iteration No: 299 ended. Search finished for the next optimal point.\n",
      "Time taken: 11.3236\n",
      "Function value obtained: 514.2171\n",
      "Current minimum: 500.1678\n",
      "Iteration No: 300 started. Searching for the next optimal point.\n",
      "[0.001, 1000, 5, 'log2', 2, 2]\n"
     ]
    },
    {
     "name": "stderr",
     "output_type": "stream",
     "text": [
      "/home/carcook/anaconda3/envs/TCGA-round1/lib/python3.8/site-packages/skopt/optimizer/optimizer.py:449: UserWarning: The objective has been evaluated at this point before.\n",
      "  warnings.warn(\"The objective has been evaluated \"\n"
     ]
    },
    {
     "name": "stdout",
     "output_type": "stream",
     "text": [
      "Iteration No: 300 ended. Search finished for the next optimal point.\n",
      "Time taken: 11.2848\n",
      "Function value obtained: 514.1392\n",
      "Current minimum: 500.1678\n"
     ]
    }
   ],
   "source": [
    "callback_file = f\"{unified_dsets[i]}_opt_gbr_h_params.tsv\"\n",
    "try:\n",
    "    os.remove(callback_file)\n",
    "except OSError:\n",
    "    pass\n",
    "\n",
    "\n",
    "res = gp_minimize(\n",
    "    lambda h_ps: objective(h_ps, x_df, y_df, rand),\n",
    "    space,\n",
    "    verbose=True,\n",
    "    random_state=rand,\n",
    "    n_initial_points=n_initial,\n",
    "    n_calls = n_calls,\n",
    "    n_jobs=-1,\n",
    "    callback=lambda x: opt.save_callback(x, callback_file, n = 5, sep=\"\\t\")\n",
    ")"
   ]
  },
  {
   "cell_type": "code",
   "execution_count": null,
   "metadata": {},
   "outputs": [],
   "source": []
  }
 ],
 "metadata": {
  "kernelspec": {
   "display_name": "Python 3",
   "language": "python",
   "name": "python3"
  },
  "language_info": {
   "codemirror_mode": {
    "name": "ipython",
    "version": 3
   },
   "file_extension": ".py",
   "mimetype": "text/x-python",
   "name": "python",
   "nbconvert_exporter": "python",
   "pygments_lexer": "ipython3",
   "version": "3.8.3"
  }
 },
 "nbformat": 4,
 "nbformat_minor": 4
}
