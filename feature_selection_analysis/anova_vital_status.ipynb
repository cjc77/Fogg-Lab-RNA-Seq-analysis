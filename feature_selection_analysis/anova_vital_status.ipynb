{
 "cells": [
  {
   "cell_type": "code",
   "execution_count": 1,
   "metadata": {},
   "outputs": [
    {
     "name": "stderr",
     "output_type": "stream",
     "text": [
      "── Attaching packages ─────────────────────────────────────── tidyverse 1.3.0 ──\n",
      "✔ ggplot2 3.3.2     ✔ purrr   0.3.4\n",
      "✔ tibble  3.0.3     ✔ dplyr   1.0.0\n",
      "✔ tidyr   1.1.0     ✔ stringr 1.4.0\n",
      "✔ readr   1.3.1     ✔ forcats 0.5.0\n",
      "── Conflicts ────────────────────────────────────────── tidyverse_conflicts() ──\n",
      "✖ dplyr::filter() masks stats::filter()\n",
      "✖ dplyr::lag()    masks stats::lag()\n"
     ]
    }
   ],
   "source": [
    "library(tidyverse)\n",
    "\n",
    "# Custom package\n",
    "library(rutils)"
   ]
  },
  {
   "cell_type": "code",
   "execution_count": 2,
   "metadata": {},
   "outputs": [],
   "source": [
    "dirs <- rutils::get_dev_directories(dev_paths_file = \"../dev_paths.txt\")\n",
    "projects <- c(\"TCGA-CESC\", \"TCGA-UCS\", \"TCGA-UCEC\", \"TCGA-OV\")\n",
    "unified_dsets <- c(\"unified_cervical_data\", \"unified_uterine_data\", \"unified_uterine_endometrial_data\")\n",
    "matrisome_path <- paste0(dirs$data_dir, \"/matrisome/matrisome_hs_masterlist.tsv\")\n",
    "\n",
    "event_code <- list(\"Alive\" = 0, \"Dead\" = 1)\n",
    "covariate_cols <- c(\"figo_stage\", \"age_at_diagnosis\", \"race\", \"ethnicity\")\n",
    "dep_cols <- c(\"vital_status\", \"survival_time\")"
   ]
  },
  {
   "cell_type": "code",
   "execution_count": 3,
   "metadata": {},
   "outputs": [],
   "source": [
    "dset_idx <- 1"
   ]
  },
  {
   "cell_type": "markdown",
   "metadata": {},
   "source": [
    "# Load and filter data"
   ]
  },
  {
   "cell_type": "code",
   "execution_count": 4,
   "metadata": {},
   "outputs": [
    {
     "name": "stderr",
     "output_type": "stream",
     "text": [
      "Parsed with column specification:\n",
      "cols(\n",
      "  sample_name = col_character(),\n",
      "  vital_status = col_character(),\n",
      "  survival_time = col_double(),\n",
      "  figo_stage = col_character(),\n",
      "  days_to_last_follow_up = col_double(),\n",
      "  days_to_death = col_double(),\n",
      "  age_at_diagnosis = col_double(),\n",
      "  age_at_index = col_double(),\n",
      "  height = col_double(),\n",
      "  weight = col_double(),\n",
      "  bmi = col_double(),\n",
      "  race = col_character(),\n",
      "  ethnicity = col_character()\n",
      ")\n"
     ]
    }
   ],
   "source": [
    "survival_path <- paste0(dirs$data_dir, \"/\", unified_dsets[dset_idx], \"/survival_data.tsv\")\n",
    "survival_df <- load_survival_df(survival_path, event_code)\n",
    "\n",
    "filtered_survival_df <- survival_df %>%\n",
    "    decode_figo_stage(to = \"c\") %>%\n",
    "    dplyr::select(one_of(c(\"sample_name\", dep_cols, covariate_cols))) %>%\n",
    "    dplyr::filter(rowSums(is.na(.)) == 0) %>%\n",
    "    dplyr::select(sample_name, vital_status) %>%\n",
    "    dplyr::mutate(vital_status = as.character(vital_status))"
   ]
  },
  {
   "cell_type": "markdown",
   "metadata": {},
   "source": [
    "# Load count data"
   ]
  },
  {
   "cell_type": "code",
   "execution_count": 5,
   "metadata": {},
   "outputs": [
    {
     "name": "stderr",
     "output_type": "stream",
     "text": [
      "Parsed with column specification:\n",
      "cols(\n",
      "  .default = col_double(),\n",
      "  geneID = col_character()\n",
      ")\n",
      "See spec(...) for full column specifications.\n"
     ]
    }
   ],
   "source": [
    "# Load normalized matrisome count data\n",
    "norm_matrisome_counts_df <- read_tsv(paste0(dirs$data_dir, \"/\", unified_dsets[dset_idx], \"/norm_matrisome_counts.tsv\"))\n",
    "norm_matrisome_counts_t_df <- norm_matrisome_counts_df %>%\n",
    "    dplyr::select(c(\"geneID\", filtered_survival_df$sample_name)) %>%\n",
    "    transpose_df(\"geneID\", \"sample_name\")"
   ]
  },
  {
   "cell_type": "markdown",
   "metadata": {},
   "source": [
    "# Join"
   ]
  },
  {
   "cell_type": "code",
   "execution_count": 7,
   "metadata": {},
   "outputs": [],
   "source": [
    "# Combine survival data and normalized count data\n",
    "joined_df <- filtered_survival_df %>%\n",
    "    inner_join(norm_matrisome_counts_t_df, by = \"sample_name\")\n",
    "\n",
    "# Some genes contain the '-' symbol, which affects formulae\n",
    "colnames(joined_df) <- gsub(\"-\", \"_\", colnames(joined_df))"
   ]
  },
  {
   "cell_type": "code",
   "execution_count": 8,
   "metadata": {},
   "outputs": [
    {
     "name": "stderr",
     "output_type": "stream",
     "text": [
      "`summarise()` ungrouping output (override with `.groups` argument)\n"
     ]
    },
    {
     "data": {
      "text/html": [
       "<table>\n",
       "<caption>A tibble: 2 × 2</caption>\n",
       "<thead>\n",
       "\t<tr><th scope=col>vital_status</th><th scope=col>n</th></tr>\n",
       "\t<tr><th scope=col>&lt;chr&gt;</th><th scope=col>&lt;int&gt;</th></tr>\n",
       "</thead>\n",
       "<tbody>\n",
       "\t<tr><td>0</td><td>189</td></tr>\n",
       "\t<tr><td>1</td><td> 66</td></tr>\n",
       "</tbody>\n",
       "</table>\n"
      ],
      "text/latex": [
       "A tibble: 2 × 2\n",
       "\\begin{tabular}{ll}\n",
       " vital\\_status & n\\\\\n",
       " <chr> & <int>\\\\\n",
       "\\hline\n",
       "\t 0 & 189\\\\\n",
       "\t 1 &  66\\\\\n",
       "\\end{tabular}\n"
      ],
      "text/markdown": [
       "\n",
       "A tibble: 2 × 2\n",
       "\n",
       "| vital_status &lt;chr&gt; | n &lt;int&gt; |\n",
       "|---|---|\n",
       "| 0 | 189 |\n",
       "| 1 |  66 |\n",
       "\n"
      ],
      "text/plain": [
       "  vital_status n  \n",
       "1 0            189\n",
       "2 1             66"
      ]
     },
     "metadata": {},
     "output_type": "display_data"
    }
   ],
   "source": [
    "joined_df %>%\n",
    "    group_by(vital_status) %>%\n",
    "    summarize(n = n())"
   ]
  },
  {
   "cell_type": "code",
   "execution_count": 11,
   "metadata": {},
   "outputs": [],
   "source": [
    "gene_names <- colnames(joined_df[-c(1:2)])"
   ]
  },
  {
   "cell_type": "code",
   "execution_count": 14,
   "metadata": {},
   "outputs": [],
   "source": [
    "waov_df <- colwise_anova(joined_df, \"vital_status\", gene_names, \"geneID\", adjust_method = \"BH\")"
   ]
  },
  {
   "cell_type": "code",
   "execution_count": 17,
   "metadata": {},
   "outputs": [
    {
     "data": {
      "text/html": [
       "<table>\n",
       "<caption>A tibble: 83 × 3</caption>\n",
       "<thead>\n",
       "\t<tr><th scope=col>geneID</th><th scope=col>pval</th><th scope=col>padj</th></tr>\n",
       "\t<tr><th scope=col>&lt;chr&gt;</th><th scope=col>&lt;dbl&gt;</th><th scope=col>&lt;dbl&gt;</th></tr>\n",
       "</thead>\n",
       "<tbody>\n",
       "\t<tr><td>CCL22   </td><td>0.033791571</td><td>0.4754617</td></tr>\n",
       "\t<tr><td>ANGPT2  </td><td>0.012419709</td><td>0.3265076</td></tr>\n",
       "\t<tr><td>MUC8    </td><td>0.001608024</td><td>0.1606416</td></tr>\n",
       "\t<tr><td>SERPINA5</td><td>0.031020217</td><td>0.4557235</td></tr>\n",
       "\t<tr><td>P4HA3   </td><td>0.014453688</td><td>0.3437913</td></tr>\n",
       "\t<tr><td>SLIT2   </td><td>0.035060538</td><td>0.4798011</td></tr>\n",
       "\t<tr><td>WNT3A   </td><td>0.005007938</td><td>0.2312716</td></tr>\n",
       "\t<tr><td>IFNG    </td><td>0.030886168</td><td>0.4557235</td></tr>\n",
       "\t<tr><td>S100A10 </td><td>0.010346011</td><td>0.3012758</td></tr>\n",
       "\t<tr><td>ESM1    </td><td>0.005556075</td><td>0.2312716</td></tr>\n",
       "\t<tr><td>ANXA9   </td><td>0.008970544</td><td>0.2945431</td></tr>\n",
       "\t<tr><td>VEGFA   </td><td>0.024655286</td><td>0.4395360</td></tr>\n",
       "\t<tr><td>CCL5    </td><td>0.020333256</td><td>0.3982926</td></tr>\n",
       "\t<tr><td>INHBA   </td><td>0.033713812</td><td>0.4754617</td></tr>\n",
       "\t<tr><td>CLEC3B  </td><td>0.009965873</td><td>0.3012758</td></tr>\n",
       "\t<tr><td>IL1B    </td><td>0.015980207</td><td>0.3478835</td></tr>\n",
       "\t<tr><td>SERPINH1</td><td>0.013557267</td><td>0.3368553</td></tr>\n",
       "\t<tr><td>SLIT1   </td><td>0.034362977</td><td>0.4767863</td></tr>\n",
       "\t<tr><td>LGI1    </td><td>0.008335002</td><td>0.2871265</td></tr>\n",
       "\t<tr><td>MATN3   </td><td>0.002921541</td><td>0.1973033</td></tr>\n",
       "\t<tr><td>S100G   </td><td>0.044995643</td><td>0.5618831</td></tr>\n",
       "\t<tr><td>SERPINF1</td><td>0.028504154</td><td>0.4556348</td></tr>\n",
       "\t<tr><td>EGLN3   </td><td>0.011345537</td><td>0.3063295</td></tr>\n",
       "\t<tr><td>LAMC1   </td><td>0.015502447</td><td>0.3478835</td></tr>\n",
       "\t<tr><td>SERPINA3</td><td>0.025518608</td><td>0.4395360</td></tr>\n",
       "\t<tr><td>LOXL2   </td><td>0.020256500</td><td>0.3982926</td></tr>\n",
       "\t<tr><td>CXCL3   </td><td>0.047268306</td><td>0.5758663</td></tr>\n",
       "\t<tr><td>IL12A   </td><td>0.010049875</td><td>0.3012758</td></tr>\n",
       "\t<tr><td>SERPINE1</td><td>0.006272481</td><td>0.2410080</td></tr>\n",
       "\t<tr><td>FIGF    </td><td>0.041628812</td><td>0.5527425</td></tr>\n",
       "\t<tr><td>⋮</td><td>⋮</td><td>⋮</td></tr>\n",
       "\t<tr><td>GLDN    </td><td>0.0420116421</td><td>0.5527425</td></tr>\n",
       "\t<tr><td>SPP1    </td><td>0.0058360247</td><td>0.2332075</td></tr>\n",
       "\t<tr><td>COLQ    </td><td>0.0008392836</td><td>0.1341587</td></tr>\n",
       "\t<tr><td>CLEC4F  </td><td>0.0447468688</td><td>0.5618831</td></tr>\n",
       "\t<tr><td>CST7    </td><td>0.0036610874</td><td>0.2013166</td></tr>\n",
       "\t<tr><td>ADAM9   </td><td>0.0029625115</td><td>0.1973033</td></tr>\n",
       "\t<tr><td>MMP1    </td><td>0.0245263884</td><td>0.4395360</td></tr>\n",
       "\t<tr><td>CLEC4A  </td><td>0.0420504829</td><td>0.5527425</td></tr>\n",
       "\t<tr><td>CX3CL1  </td><td>0.0175648452</td><td>0.3655683</td></tr>\n",
       "\t<tr><td>ADAM21  </td><td>0.0105552095</td><td>0.3012758</td></tr>\n",
       "\t<tr><td>CCL20   </td><td>0.0444927312</td><td>0.5618831</td></tr>\n",
       "\t<tr><td>CCL19   </td><td>0.0298847380</td><td>0.4557235</td></tr>\n",
       "\t<tr><td>PLOD2   </td><td>0.0005497274</td><td>0.1341587</td></tr>\n",
       "\t<tr><td>TGFBI   </td><td>0.0038288446</td><td>0.2013166</td></tr>\n",
       "\t<tr><td>CLEC2D  </td><td>0.0012086369</td><td>0.1341587</td></tr>\n",
       "\t<tr><td>CHADL   </td><td>0.0286442704</td><td>0.4556348</td></tr>\n",
       "\t<tr><td>NCAN    </td><td>0.0190930869</td><td>0.3892652</td></tr>\n",
       "\t<tr><td>COL4A6  </td><td>0.0223371817</td><td>0.4132379</td></tr>\n",
       "\t<tr><td>ANGPTL6 </td><td>0.0051346920</td><td>0.2312716</td></tr>\n",
       "\t<tr><td>P4HA1   </td><td>0.0006043719</td><td>0.1341587</td></tr>\n",
       "\t<tr><td>P4HA2   </td><td>0.0004300082</td><td>0.1341587</td></tr>\n",
       "\t<tr><td>CCL17   </td><td>0.0067904191</td><td>0.2512455</td></tr>\n",
       "\t<tr><td>RELN    </td><td>0.0250957534</td><td>0.4395360</td></tr>\n",
       "\t<tr><td>EGLN1   </td><td>0.0011851677</td><td>0.1341587</td></tr>\n",
       "\t<tr><td>PLOD1   </td><td>0.0078627396</td><td>0.2805313</td></tr>\n",
       "\t<tr><td>EREG    </td><td>0.0033841477</td><td>0.1988684</td></tr>\n",
       "\t<tr><td>ADAMTS12</td><td>0.0138248936</td><td>0.3368553</td></tr>\n",
       "\t<tr><td>TGFA    </td><td>0.0091399763</td><td>0.2945431</td></tr>\n",
       "\t<tr><td>POSTN   </td><td>0.0174156073</td><td>0.3655683</td></tr>\n",
       "\t<tr><td>NTF3    </td><td>0.0007258449</td><td>0.1341587</td></tr>\n",
       "</tbody>\n",
       "</table>\n"
      ],
      "text/latex": [
       "A tibble: 83 × 3\n",
       "\\begin{tabular}{lll}\n",
       " geneID & pval & padj\\\\\n",
       " <chr> & <dbl> & <dbl>\\\\\n",
       "\\hline\n",
       "\t CCL22    & 0.033791571 & 0.4754617\\\\\n",
       "\t ANGPT2   & 0.012419709 & 0.3265076\\\\\n",
       "\t MUC8     & 0.001608024 & 0.1606416\\\\\n",
       "\t SERPINA5 & 0.031020217 & 0.4557235\\\\\n",
       "\t P4HA3    & 0.014453688 & 0.3437913\\\\\n",
       "\t SLIT2    & 0.035060538 & 0.4798011\\\\\n",
       "\t WNT3A    & 0.005007938 & 0.2312716\\\\\n",
       "\t IFNG     & 0.030886168 & 0.4557235\\\\\n",
       "\t S100A10  & 0.010346011 & 0.3012758\\\\\n",
       "\t ESM1     & 0.005556075 & 0.2312716\\\\\n",
       "\t ANXA9    & 0.008970544 & 0.2945431\\\\\n",
       "\t VEGFA    & 0.024655286 & 0.4395360\\\\\n",
       "\t CCL5     & 0.020333256 & 0.3982926\\\\\n",
       "\t INHBA    & 0.033713812 & 0.4754617\\\\\n",
       "\t CLEC3B   & 0.009965873 & 0.3012758\\\\\n",
       "\t IL1B     & 0.015980207 & 0.3478835\\\\\n",
       "\t SERPINH1 & 0.013557267 & 0.3368553\\\\\n",
       "\t SLIT1    & 0.034362977 & 0.4767863\\\\\n",
       "\t LGI1     & 0.008335002 & 0.2871265\\\\\n",
       "\t MATN3    & 0.002921541 & 0.1973033\\\\\n",
       "\t S100G    & 0.044995643 & 0.5618831\\\\\n",
       "\t SERPINF1 & 0.028504154 & 0.4556348\\\\\n",
       "\t EGLN3    & 0.011345537 & 0.3063295\\\\\n",
       "\t LAMC1    & 0.015502447 & 0.3478835\\\\\n",
       "\t SERPINA3 & 0.025518608 & 0.4395360\\\\\n",
       "\t LOXL2    & 0.020256500 & 0.3982926\\\\\n",
       "\t CXCL3    & 0.047268306 & 0.5758663\\\\\n",
       "\t IL12A    & 0.010049875 & 0.3012758\\\\\n",
       "\t SERPINE1 & 0.006272481 & 0.2410080\\\\\n",
       "\t FIGF     & 0.041628812 & 0.5527425\\\\\n",
       "\t ⋮ & ⋮ & ⋮\\\\\n",
       "\t GLDN     & 0.0420116421 & 0.5527425\\\\\n",
       "\t SPP1     & 0.0058360247 & 0.2332075\\\\\n",
       "\t COLQ     & 0.0008392836 & 0.1341587\\\\\n",
       "\t CLEC4F   & 0.0447468688 & 0.5618831\\\\\n",
       "\t CST7     & 0.0036610874 & 0.2013166\\\\\n",
       "\t ADAM9    & 0.0029625115 & 0.1973033\\\\\n",
       "\t MMP1     & 0.0245263884 & 0.4395360\\\\\n",
       "\t CLEC4A   & 0.0420504829 & 0.5527425\\\\\n",
       "\t CX3CL1   & 0.0175648452 & 0.3655683\\\\\n",
       "\t ADAM21   & 0.0105552095 & 0.3012758\\\\\n",
       "\t CCL20    & 0.0444927312 & 0.5618831\\\\\n",
       "\t CCL19    & 0.0298847380 & 0.4557235\\\\\n",
       "\t PLOD2    & 0.0005497274 & 0.1341587\\\\\n",
       "\t TGFBI    & 0.0038288446 & 0.2013166\\\\\n",
       "\t CLEC2D   & 0.0012086369 & 0.1341587\\\\\n",
       "\t CHADL    & 0.0286442704 & 0.4556348\\\\\n",
       "\t NCAN     & 0.0190930869 & 0.3892652\\\\\n",
       "\t COL4A6   & 0.0223371817 & 0.4132379\\\\\n",
       "\t ANGPTL6  & 0.0051346920 & 0.2312716\\\\\n",
       "\t P4HA1    & 0.0006043719 & 0.1341587\\\\\n",
       "\t P4HA2    & 0.0004300082 & 0.1341587\\\\\n",
       "\t CCL17    & 0.0067904191 & 0.2512455\\\\\n",
       "\t RELN     & 0.0250957534 & 0.4395360\\\\\n",
       "\t EGLN1    & 0.0011851677 & 0.1341587\\\\\n",
       "\t PLOD1    & 0.0078627396 & 0.2805313\\\\\n",
       "\t EREG     & 0.0033841477 & 0.1988684\\\\\n",
       "\t ADAMTS12 & 0.0138248936 & 0.3368553\\\\\n",
       "\t TGFA     & 0.0091399763 & 0.2945431\\\\\n",
       "\t POSTN    & 0.0174156073 & 0.3655683\\\\\n",
       "\t NTF3     & 0.0007258449 & 0.1341587\\\\\n",
       "\\end{tabular}\n"
      ],
      "text/markdown": [
       "\n",
       "A tibble: 83 × 3\n",
       "\n",
       "| geneID &lt;chr&gt; | pval &lt;dbl&gt; | padj &lt;dbl&gt; |\n",
       "|---|---|---|\n",
       "| CCL22    | 0.033791571 | 0.4754617 |\n",
       "| ANGPT2   | 0.012419709 | 0.3265076 |\n",
       "| MUC8     | 0.001608024 | 0.1606416 |\n",
       "| SERPINA5 | 0.031020217 | 0.4557235 |\n",
       "| P4HA3    | 0.014453688 | 0.3437913 |\n",
       "| SLIT2    | 0.035060538 | 0.4798011 |\n",
       "| WNT3A    | 0.005007938 | 0.2312716 |\n",
       "| IFNG     | 0.030886168 | 0.4557235 |\n",
       "| S100A10  | 0.010346011 | 0.3012758 |\n",
       "| ESM1     | 0.005556075 | 0.2312716 |\n",
       "| ANXA9    | 0.008970544 | 0.2945431 |\n",
       "| VEGFA    | 0.024655286 | 0.4395360 |\n",
       "| CCL5     | 0.020333256 | 0.3982926 |\n",
       "| INHBA    | 0.033713812 | 0.4754617 |\n",
       "| CLEC3B   | 0.009965873 | 0.3012758 |\n",
       "| IL1B     | 0.015980207 | 0.3478835 |\n",
       "| SERPINH1 | 0.013557267 | 0.3368553 |\n",
       "| SLIT1    | 0.034362977 | 0.4767863 |\n",
       "| LGI1     | 0.008335002 | 0.2871265 |\n",
       "| MATN3    | 0.002921541 | 0.1973033 |\n",
       "| S100G    | 0.044995643 | 0.5618831 |\n",
       "| SERPINF1 | 0.028504154 | 0.4556348 |\n",
       "| EGLN3    | 0.011345537 | 0.3063295 |\n",
       "| LAMC1    | 0.015502447 | 0.3478835 |\n",
       "| SERPINA3 | 0.025518608 | 0.4395360 |\n",
       "| LOXL2    | 0.020256500 | 0.3982926 |\n",
       "| CXCL3    | 0.047268306 | 0.5758663 |\n",
       "| IL12A    | 0.010049875 | 0.3012758 |\n",
       "| SERPINE1 | 0.006272481 | 0.2410080 |\n",
       "| FIGF     | 0.041628812 | 0.5527425 |\n",
       "| ⋮ | ⋮ | ⋮ |\n",
       "| GLDN     | 0.0420116421 | 0.5527425 |\n",
       "| SPP1     | 0.0058360247 | 0.2332075 |\n",
       "| COLQ     | 0.0008392836 | 0.1341587 |\n",
       "| CLEC4F   | 0.0447468688 | 0.5618831 |\n",
       "| CST7     | 0.0036610874 | 0.2013166 |\n",
       "| ADAM9    | 0.0029625115 | 0.1973033 |\n",
       "| MMP1     | 0.0245263884 | 0.4395360 |\n",
       "| CLEC4A   | 0.0420504829 | 0.5527425 |\n",
       "| CX3CL1   | 0.0175648452 | 0.3655683 |\n",
       "| ADAM21   | 0.0105552095 | 0.3012758 |\n",
       "| CCL20    | 0.0444927312 | 0.5618831 |\n",
       "| CCL19    | 0.0298847380 | 0.4557235 |\n",
       "| PLOD2    | 0.0005497274 | 0.1341587 |\n",
       "| TGFBI    | 0.0038288446 | 0.2013166 |\n",
       "| CLEC2D   | 0.0012086369 | 0.1341587 |\n",
       "| CHADL    | 0.0286442704 | 0.4556348 |\n",
       "| NCAN     | 0.0190930869 | 0.3892652 |\n",
       "| COL4A6   | 0.0223371817 | 0.4132379 |\n",
       "| ANGPTL6  | 0.0051346920 | 0.2312716 |\n",
       "| P4HA1    | 0.0006043719 | 0.1341587 |\n",
       "| P4HA2    | 0.0004300082 | 0.1341587 |\n",
       "| CCL17    | 0.0067904191 | 0.2512455 |\n",
       "| RELN     | 0.0250957534 | 0.4395360 |\n",
       "| EGLN1    | 0.0011851677 | 0.1341587 |\n",
       "| PLOD1    | 0.0078627396 | 0.2805313 |\n",
       "| EREG     | 0.0033841477 | 0.1988684 |\n",
       "| ADAMTS12 | 0.0138248936 | 0.3368553 |\n",
       "| TGFA     | 0.0091399763 | 0.2945431 |\n",
       "| POSTN    | 0.0174156073 | 0.3655683 |\n",
       "| NTF3     | 0.0007258449 | 0.1341587 |\n",
       "\n"
      ],
      "text/plain": [
       "   geneID   pval         padj     \n",
       "1  CCL22    0.033791571  0.4754617\n",
       "2  ANGPT2   0.012419709  0.3265076\n",
       "3  MUC8     0.001608024  0.1606416\n",
       "4  SERPINA5 0.031020217  0.4557235\n",
       "5  P4HA3    0.014453688  0.3437913\n",
       "6  SLIT2    0.035060538  0.4798011\n",
       "7  WNT3A    0.005007938  0.2312716\n",
       "8  IFNG     0.030886168  0.4557235\n",
       "9  S100A10  0.010346011  0.3012758\n",
       "10 ESM1     0.005556075  0.2312716\n",
       "11 ANXA9    0.008970544  0.2945431\n",
       "12 VEGFA    0.024655286  0.4395360\n",
       "13 CCL5     0.020333256  0.3982926\n",
       "14 INHBA    0.033713812  0.4754617\n",
       "15 CLEC3B   0.009965873  0.3012758\n",
       "16 IL1B     0.015980207  0.3478835\n",
       "17 SERPINH1 0.013557267  0.3368553\n",
       "18 SLIT1    0.034362977  0.4767863\n",
       "19 LGI1     0.008335002  0.2871265\n",
       "20 MATN3    0.002921541  0.1973033\n",
       "21 S100G    0.044995643  0.5618831\n",
       "22 SERPINF1 0.028504154  0.4556348\n",
       "23 EGLN3    0.011345537  0.3063295\n",
       "24 LAMC1    0.015502447  0.3478835\n",
       "25 SERPINA3 0.025518608  0.4395360\n",
       "26 LOXL2    0.020256500  0.3982926\n",
       "27 CXCL3    0.047268306  0.5758663\n",
       "28 IL12A    0.010049875  0.3012758\n",
       "29 SERPINE1 0.006272481  0.2410080\n",
       "30 FIGF     0.041628812  0.5527425\n",
       "⋮  ⋮        ⋮            ⋮        \n",
       "54 GLDN     0.0420116421 0.5527425\n",
       "55 SPP1     0.0058360247 0.2332075\n",
       "56 COLQ     0.0008392836 0.1341587\n",
       "57 CLEC4F   0.0447468688 0.5618831\n",
       "58 CST7     0.0036610874 0.2013166\n",
       "59 ADAM9    0.0029625115 0.1973033\n",
       "60 MMP1     0.0245263884 0.4395360\n",
       "61 CLEC4A   0.0420504829 0.5527425\n",
       "62 CX3CL1   0.0175648452 0.3655683\n",
       "63 ADAM21   0.0105552095 0.3012758\n",
       "64 CCL20    0.0444927312 0.5618831\n",
       "65 CCL19    0.0298847380 0.4557235\n",
       "66 PLOD2    0.0005497274 0.1341587\n",
       "67 TGFBI    0.0038288446 0.2013166\n",
       "68 CLEC2D   0.0012086369 0.1341587\n",
       "69 CHADL    0.0286442704 0.4556348\n",
       "70 NCAN     0.0190930869 0.3892652\n",
       "71 COL4A6   0.0223371817 0.4132379\n",
       "72 ANGPTL6  0.0051346920 0.2312716\n",
       "73 P4HA1    0.0006043719 0.1341587\n",
       "74 P4HA2    0.0004300082 0.1341587\n",
       "75 CCL17    0.0067904191 0.2512455\n",
       "76 RELN     0.0250957534 0.4395360\n",
       "77 EGLN1    0.0011851677 0.1341587\n",
       "78 PLOD1    0.0078627396 0.2805313\n",
       "79 EREG     0.0033841477 0.1988684\n",
       "80 ADAMTS12 0.0138248936 0.3368553\n",
       "81 TGFA     0.0091399763 0.2945431\n",
       "82 POSTN    0.0174156073 0.3655683\n",
       "83 NTF3     0.0007258449 0.1341587"
      ]
     },
     "metadata": {},
     "output_type": "display_data"
    }
   ],
   "source": [
    "waov_df %>%\n",
    "    dplyr::filter(pval < 0.05)"
   ]
  }
 ],
 "metadata": {
  "kernelspec": {
   "display_name": "R",
   "language": "R",
   "name": "ir"
  },
  "language_info": {
   "codemirror_mode": "r",
   "file_extension": ".r",
   "mimetype": "text/x-r-source",
   "name": "R",
   "pygments_lexer": "r",
   "version": "3.6.3"
  }
 },
 "nbformat": 4,
 "nbformat_minor": 4
}
