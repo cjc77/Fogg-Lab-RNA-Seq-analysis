{
 "cells": [
  {
   "cell_type": "code",
   "execution_count": 1,
   "metadata": {},
   "outputs": [],
   "source": [
    "import pandas as pd\n",
    "import numpy as np\n",
    "from time import perf_counter\n",
    "from sklearn.svm import SVR\n",
    "from sklearn.ensemble import GradientBoostingRegressor\n",
    "from sklearn.pipeline import make_pipeline, Pipeline\n",
    "from sklearn.preprocessing import StandardScaler, FunctionTransformer\n",
    "from sklearn.model_selection import cross_val_score, KFold\n",
    "from sklearn.compose import ColumnTransformer, TransformedTargetRegressor\n",
    "from sklearn.inspection import permutation_importance\n",
    "from sklearn.metrics import mean_absolute_error, r2_score, explained_variance_score\n",
    "from scipy import stats\n",
    "import seaborn as sns\n",
    "import matplotlib.pyplot as plt\n",
    "\n",
    "import utils.dev_config as dev_conf\n",
    "import utils.preprocessing as prep\n",
    "import utils.optimization as opt\n",
    "import utils.feature_selection as feat_sel"
   ]
  },
  {
   "cell_type": "code",
   "execution_count": 2,
   "metadata": {},
   "outputs": [],
   "source": [
    "dirs = dev_conf.get_dev_directories(\"../dev_paths.txt\")\n",
    "unified_dsets = [\"unified_cervical_data\", \"unified_uterine_data\", \"unified_uterine_endometrial_data\"]\n",
    "matrisome_list = f\"{dirs.data_dir}/matrisome/matrisome_hs_masterlist.tsv\""
   ]
  },
  {
   "cell_type": "code",
   "execution_count": 3,
   "metadata": {},
   "outputs": [],
   "source": [
    "i = 0"
   ]
  },
  {
   "cell_type": "code",
   "execution_count": 4,
   "metadata": {},
   "outputs": [],
   "source": [
    "matrisome_df = prep.load_matrisome_df(matrisome_list)"
   ]
  },
  {
   "cell_type": "code",
   "execution_count": 5,
   "metadata": {},
   "outputs": [],
   "source": [
    "seed = 123\n",
    "rand = np.random.RandomState()"
   ]
  },
  {
   "cell_type": "code",
   "execution_count": 6,
   "metadata": {},
   "outputs": [],
   "source": [
    "def vis_performance(estimator, x, y, random_state):\n",
    "    train_size = int(x.shape[0] * 2/3)\n",
    "    test_size = x.shape[0] - train_size\n",
    "    train_idx = random_state.choice(x.shape[0], size=train_size, replace=False)\n",
    "    train_mask = np.in1d(np.arange(x.shape[0]), train_idx)\n",
    "    \n",
    "    estimator.fit(x[train_mask], y[train_mask])\n",
    "    yhat = estimator.predict(x[~train_mask])\n",
    "    \n",
    "    pred_df = pd.DataFrame({\"y\": np.squeeze(y[~train_mask].values), \"yhat\": np.squeeze(yhat)})\n",
    "    pred_df[\"obs\"] = pred_df.index\n",
    "    pred_df = pd.melt(pred_df, id_vars=[\"obs\"], value_vars=[\"y\", \"yhat\"], var_name=\"y_type\", value_name=\"y_val\")\n",
    "    \n",
    "    ys = list(zip(np.squeeze(y[~train_mask].values), np.squeeze(yhat)))\n",
    "    xs = list(range(test_size))\n",
    "    \n",
    "    _, ax = plt.subplots(figsize=(10, 6))\n",
    "    sns.scatterplot(data=pred_df, x=\"obs\", y=\"y_val\", hue=\"y_type\", ax=ax)\n",
    "    ax.plot((xs, xs), ([i for (i, j) in ys], [j for (i, j) in ys]), c=\"black\", alpha=0.2)\n",
    "    return ax"
   ]
  },
  {
   "cell_type": "markdown",
   "metadata": {},
   "source": [
    "# Load and filter survival data"
   ]
  },
  {
   "cell_type": "code",
   "execution_count": 7,
   "metadata": {},
   "outputs": [],
   "source": [
    "event_code = {\"Alive\": 0, \"Dead\": 1}\n",
    "covariate_cols = [\"figo_stage\", \"age_at_diagnosis\", \"race\", \"ethnicity\"]\n",
    "dep_cols = [\"vital_status\", \"survival_time\"]\n",
    "cat_cols = [\"race\", \"ethnicity\", \"figo_chr\"]\n",
    "survival_df = prep.load_survival_df(f\"{dirs.data_dir}/{unified_dsets[i]}/survival_data.tsv\", event_code)"
   ]
  },
  {
   "cell_type": "code",
   "execution_count": 8,
   "metadata": {},
   "outputs": [
    {
     "name": "stdout",
     "output_type": "stream",
     "text": [
      "(66, 16)\n"
     ]
    }
   ],
   "source": [
    "filtered_survival_df = (\n",
    "    prep.decode_figo_stage(survival_df[[\"sample_name\"] + dep_cols + covariate_cols].dropna(), to=\"c\")\n",
    "        .query(\"vital_status == 1\")\n",
    "        .drop([\"vital_status\"], axis=1)\n",
    "        .pipe(pd.get_dummies, columns=cat_cols)\n",
    "        .reset_index(drop = True)\n",
    ")\n",
    "filtered_survival_df.columns = filtered_survival_df.columns.str.replace(' ', '_')\n",
    "\n",
    "print(filtered_survival_df.shape)\n",
    "# filtered_survival_df.head()"
   ]
  },
  {
   "cell_type": "markdown",
   "metadata": {},
   "source": [
    "# Load normalized matrisome count data"
   ]
  },
  {
   "cell_type": "code",
   "execution_count": 9,
   "metadata": {},
   "outputs": [
    {
     "name": "stdout",
     "output_type": "stream",
     "text": [
      "(66, 1009)\n"
     ]
    }
   ],
   "source": [
    "norm_matrisome_counts_df = pd.read_csv(f\"{dirs.data_dir}/{unified_dsets[i]}/norm_matrisome_counts.tsv\", sep='\\t')\n",
    "norm_filtered_matrisome_counts_t_df = prep.transpose_df(\n",
    "    norm_matrisome_counts_df[[\"geneID\"] + list(filtered_survival_df.sample_name)], \"geneID\", \"sample_name\"\n",
    ")\n",
    "print(norm_filtered_matrisome_counts_t_df.shape)\n",
    "# norm_filtered_matrisome_counts_t_df.head()"
   ]
  },
  {
   "cell_type": "markdown",
   "metadata": {},
   "source": [
    "# Join survival and count data"
   ]
  },
  {
   "cell_type": "code",
   "execution_count": 10,
   "metadata": {},
   "outputs": [
    {
     "name": "stdout",
     "output_type": "stream",
     "text": [
      "(66, 1023)\n"
     ]
    }
   ],
   "source": [
    "joined_df = (\n",
    "    pd.merge(filtered_survival_df, norm_filtered_matrisome_counts_t_df, on=\"sample_name\")\n",
    "        .set_index(\"sample_name\")\n",
    ")\n",
    "print(joined_df.shape)\n",
    "# joined_df.head()"
   ]
  },
  {
   "cell_type": "markdown",
   "metadata": {},
   "source": [
    "# Create models from saved optimizer results"
   ]
  },
  {
   "cell_type": "markdown",
   "metadata": {},
   "source": [
    "## SVR\n",
    "Need to do feature permutation importance, since we use a kernel method"
   ]
  },
  {
   "cell_type": "code",
   "execution_count": 11,
   "metadata": {},
   "outputs": [],
   "source": [
    "svr_h_param_df = pd.read_csv(\"opt_svr_h_params.tsv\", sep=\"\\t\")\n",
    "svr_kwargs = pd.Series(svr_h_param_df.param_value[:-1].values, index=svr_h_param_df.param[:-1]).to_dict()\n",
    "svr = SVR(\n",
    "    kernel=svr_kwargs[\"kernel\"],\n",
    "    C=float(svr_kwargs[\"C\"]),\n",
    "    epsilon=float(svr_kwargs[\"epsilon\"]),\n",
    "    gamma=float(svr_kwargs[\"gamma\"]),\n",
    "    degree=int(svr_kwargs[\"degree\"]),\n",
    "    coef0=float(svr_kwargs[\"coef0\"])\n",
    ")\n",
    "svr_pipeline = make_pipeline(\n",
    "    ColumnTransformer([\n",
    "        (\"standard\", StandardScaler(), [\"age_at_diagnosis\"] + list(norm_filtered_matrisome_counts_t_df.columns[1:]))\n",
    "    ], remainder=\"passthrough\"),\n",
    "    svr\n",
    ")\n",
    "svr_ttr = TransformedTargetRegressor(regressor=svr_pipeline, transformer=StandardScaler())"
   ]
  },
  {
   "cell_type": "markdown",
   "metadata": {},
   "source": [
    "## Gradient Boosted Regressor"
   ]
  },
  {
   "cell_type": "code",
   "execution_count": 12,
   "metadata": {},
   "outputs": [],
   "source": [
    "gbr_h_param_df = pd.read_csv(\"opt_gbr_h_params.tsv\", sep=\"\\t\")\n",
    "gbr_kwargs = pd.Series(gbr_h_param_df.param_value[:-1].values, index=gbr_h_param_df.param[:-1]).to_dict()\n",
    "gbr = GradientBoostingRegressor(\n",
    "    loss=gbr_kwargs[\"loss\"],\n",
    "    learning_rate=float(gbr_kwargs[\"learning_rate\"]),\n",
    "    n_estimators=int(gbr_kwargs[\"n_estimators\"]),\n",
    "    max_depth=int(gbr_kwargs[\"max_depth\"]),\n",
    "    max_features=gbr_kwargs[\"max_features\"],\n",
    "    alpha=float(gbr_kwargs[\"alpha\"]),\n",
    "    random_state=rand\n",
    ")\n",
    "\n",
    "gbr_pipeline = make_pipeline(\n",
    "    ColumnTransformer([\n",
    "        (\"standard\", StandardScaler(), [\"age_at_diagnosis\"] + list(norm_filtered_matrisome_counts_t_df.columns[1:]))\n",
    "    ], remainder=\"passthrough\"),\n",
    "    gbr\n",
    ")\n",
    "gbr_ttr = TransformedTargetRegressor(regressor=gbr_pipeline, transformer=StandardScaler())"
   ]
  },
  {
   "cell_type": "markdown",
   "metadata": {},
   "source": [
    "# Collect cross validated feature permutation results\n",
    "$baseline - perm\\_score > 0 \\Longrightarrow \\text{feature permutation reduces performance} \\Longrightarrow \\text{feature is important}$\n",
    "\n",
    "EX:\n",
    "\n",
    "$baseline\\_neg\\_MAE = -500, \\; perm\\_neg\\_MAE = -510$\n",
    "\n",
    "$\\Longrightarrow -500 -(-510) = 10 > 0 \\Longrightarrow perm\\_importance > 0 \\Longrightarrow \\text{feature is important}$"
   ]
  },
  {
   "cell_type": "code",
   "execution_count": 13,
   "metadata": {},
   "outputs": [],
   "source": [
    "rand.seed(seed)\n",
    "x_df, y_df = prep.shuffle_data(joined_df, rand)\n",
    "svr_perm_res, svr_ref_scores = opt.cv_permutation_importance(svr_ttr, x_df, y_df, \"neg_mean_absolute_error\", random_state=rand)"
   ]
  },
  {
   "cell_type": "code",
   "execution_count": 14,
   "metadata": {},
   "outputs": [
    {
     "data": {
      "text/plain": [
       "4.105887984196447"
      ]
     },
     "execution_count": 14,
     "metadata": {},
     "output_type": "execute_result"
    }
   ],
   "source": [
    "svr_perm_imp = np.concatenate([\n",
    "    (r.importances) for r in svr_perm_res\n",
    "], axis=1)\n",
    "svr_imp_meds = np.median(svr_perm_imp, axis=1)\n",
    "svr_imp_means = np.mean(svr_perm_imp, axis=1)\n",
    "\n",
    "# Assuming each feature was equally important, we would expect them to influence the reference metric by this value\n",
    "svr_ref_score_mean = svr_ref_scores.mean()\n",
    "svr_ref_score_med = np.median(svr_ref_scores)\n",
    "svr_naive_ref_score = -mean_absolute_error(y_df.values, np.repeat(np.median(y_df.values), y_df.shape[0])[:, np.newaxis])\n",
    "(svr_ref_score_mean - svr_naive_ref_score) / np.abs(svr_naive_ref_score) * 100"
   ]
  },
  {
   "cell_type": "code",
   "execution_count": 15,
   "metadata": {},
   "outputs": [
    {
     "data": {
      "image/png": "[encoded data removed]",
      "text/plain": [
       "<Figure size 720x432 with 1 Axes>"
      ]
     },
     "metadata": {
      "needs_background": "light"
     },
     "output_type": "display_data"
    }
   ],
   "source": [
    "ax = vis_performance(svr_ttr, x_df, y_df, rand)\n",
    "plt.show()"
   ]
  },
  {
   "cell_type": "code",
   "execution_count": 16,
   "metadata": {},
   "outputs": [],
   "source": [
    "svr_perm_res_df = feat_sel.gather_perm_res(x_df, svr_imp_means, svr_ref_score_mean, norm_filtered_matrisome_counts_t_df.columns[1:])"
   ]
  },
  {
   "cell_type": "code",
   "execution_count": 17,
   "metadata": {},
   "outputs": [],
   "source": [
    "rand.seed(seed)\n",
    "x_df, y_df = prep.shuffle_data(joined_df, rand)\n",
    "gbr_perm_res, gbr_ref_scores = opt.cv_permutation_importance(gbr_ttr, x_df, y_df, \"neg_mean_absolute_error\", random_state=rand)"
   ]
  },
  {
   "cell_type": "code",
   "execution_count": 18,
   "metadata": {},
   "outputs": [
    {
     "data": {
      "text/plain": [
       "6.373824650133302"
      ]
     },
     "execution_count": 18,
     "metadata": {},
     "output_type": "execute_result"
    }
   ],
   "source": [
    "gbr_perm_imp = np.concatenate([\n",
    "    (r.importances) for r in gbr_perm_res\n",
    "], axis=1)\n",
    "gbr_imp_meds = np.median(gbr_perm_imp, axis=1)\n",
    "gbr_imp_means = np.mean(gbr_perm_imp, axis=1)\n",
    "\n",
    "# Assuming each feature was equally important, we would expect them to influence the reference metric by this value\n",
    "gbr_ref_score_mean = gbr_ref_scores.mean()\n",
    "gbr_ref_score_med = np.median(gbr_ref_scores)\n",
    "gbr_naive_ref_score = -mean_absolute_error(y_df.values, np.repeat(np.median(y_df.values), y_df.shape[0])[:, np.newaxis])\n",
    "(gbr_ref_score_mean - gbr_naive_ref_score) / np.abs(gbr_naive_ref_score) * 100"
   ]
  },
  {
   "cell_type": "code",
   "execution_count": 19,
   "metadata": {},
   "outputs": [
    {
     "data": {
      "image/png": "[encoded data removed]",
      "text/plain": [
       "<Figure size 720x432 with 1 Axes>"
      ]
     },
     "metadata": {
      "needs_background": "light"
     },
     "output_type": "display_data"
    }
   ],
   "source": [
    "ax = vis_performance(gbr_ttr, x_df, y_df, rand)\n",
    "plt.show()"
   ]
  },
  {
   "cell_type": "code",
   "execution_count": 20,
   "metadata": {},
   "outputs": [],
   "source": [
    "gbr_perm_res_df = feat_sel.gather_perm_res(x_df, gbr_imp_means, gbr_ref_score_mean, norm_filtered_matrisome_counts_t_df.columns[1:])"
   ]
  },
  {
   "cell_type": "markdown",
   "metadata": {},
   "source": [
    "# GBR seems to react much more strongly to feature permutation than SVR"
   ]
  },
  {
   "cell_type": "code",
   "execution_count": 21,
   "metadata": {},
   "outputs": [
    {
     "data": {
      "text/html": [
       "<div>\n",
       "<style scoped>\n",
       "    .dataframe tbody tr th:only-of-type {\n",
       "        vertical-align: middle;\n",
       "    }\n",
       "\n",
       "    .dataframe tbody tr th {\n",
       "        vertical-align: top;\n",
       "    }\n",
       "\n",
       "    .dataframe thead th {\n",
       "        text-align: right;\n",
       "    }\n",
       "</style>\n",
       "<table border=\"1\" class=\"dataframe\">\n",
       "  <thead>\n",
       "    <tr style=\"text-align: right;\">\n",
       "      <th></th>\n",
       "      <th>geneID</th>\n",
       "      <th>mean_imp</th>\n",
       "      <th>score_pct_improvement</th>\n",
       "    </tr>\n",
       "  </thead>\n",
       "  <tbody>\n",
       "    <tr>\n",
       "      <th>166</th>\n",
       "      <td>ADAM18</td>\n",
       "      <td>1.099040</td>\n",
       "      <td>0.221112</td>\n",
       "    </tr>\n",
       "    <tr>\n",
       "      <th>780</th>\n",
       "      <td>BMP3</td>\n",
       "      <td>0.971043</td>\n",
       "      <td>0.195361</td>\n",
       "    </tr>\n",
       "    <tr>\n",
       "      <th>833</th>\n",
       "      <td>MUC4</td>\n",
       "      <td>0.881463</td>\n",
       "      <td>0.177338</td>\n",
       "    </tr>\n",
       "    <tr>\n",
       "      <th>150</th>\n",
       "      <td>COLEC11</td>\n",
       "      <td>0.858821</td>\n",
       "      <td>0.172783</td>\n",
       "    </tr>\n",
       "    <tr>\n",
       "      <th>944</th>\n",
       "      <td>COL11A1</td>\n",
       "      <td>0.790634</td>\n",
       "      <td>0.159065</td>\n",
       "    </tr>\n",
       "    <tr>\n",
       "      <th>...</th>\n",
       "      <td>...</td>\n",
       "      <td>...</td>\n",
       "      <td>...</td>\n",
       "    </tr>\n",
       "    <tr>\n",
       "      <th>618</th>\n",
       "      <td>REG3A</td>\n",
       "      <td>-0.647710</td>\n",
       "      <td>-0.130311</td>\n",
       "    </tr>\n",
       "    <tr>\n",
       "      <th>854</th>\n",
       "      <td>CST8</td>\n",
       "      <td>-0.652712</td>\n",
       "      <td>-0.131317</td>\n",
       "    </tr>\n",
       "    <tr>\n",
       "      <th>394</th>\n",
       "      <td>CFC1B</td>\n",
       "      <td>-0.664847</td>\n",
       "      <td>-0.133758</td>\n",
       "    </tr>\n",
       "    <tr>\n",
       "      <th>397</th>\n",
       "      <td>VWA5B1</td>\n",
       "      <td>-1.295868</td>\n",
       "      <td>-0.260711</td>\n",
       "    </tr>\n",
       "    <tr>\n",
       "      <th>647</th>\n",
       "      <td>BRINP3</td>\n",
       "      <td>-1.775977</td>\n",
       "      <td>-0.357303</td>\n",
       "    </tr>\n",
       "  </tbody>\n",
       "</table>\n",
       "<p>1008 rows × 3 columns</p>\n",
       "</div>"
      ],
      "text/plain": [
       "      geneID  mean_imp  score_pct_improvement\n",
       "166   ADAM18  1.099040               0.221112\n",
       "780     BMP3  0.971043               0.195361\n",
       "833     MUC4  0.881463               0.177338\n",
       "150  COLEC11  0.858821               0.172783\n",
       "944  COL11A1  0.790634               0.159065\n",
       "..       ...       ...                    ...\n",
       "618    REG3A -0.647710              -0.130311\n",
       "854     CST8 -0.652712              -0.131317\n",
       "394    CFC1B -0.664847              -0.133758\n",
       "397   VWA5B1 -1.295868              -0.260711\n",
       "647   BRINP3 -1.775977              -0.357303\n",
       "\n",
       "[1008 rows x 3 columns]"
      ]
     },
     "execution_count": 21,
     "metadata": {},
     "output_type": "execute_result"
    }
   ],
   "source": [
    "svr_perm_res_df.sort_values(\"mean_imp\", ascending=False)"
   ]
  },
  {
   "cell_type": "code",
   "execution_count": 22,
   "metadata": {},
   "outputs": [
    {
     "data": {
      "text/html": [
       "<div>\n",
       "<style scoped>\n",
       "    .dataframe tbody tr th:only-of-type {\n",
       "        vertical-align: middle;\n",
       "    }\n",
       "\n",
       "    .dataframe tbody tr th {\n",
       "        vertical-align: top;\n",
       "    }\n",
       "\n",
       "    .dataframe thead th {\n",
       "        text-align: right;\n",
       "    }\n",
       "</style>\n",
       "<table border=\"1\" class=\"dataframe\">\n",
       "  <thead>\n",
       "    <tr style=\"text-align: right;\">\n",
       "      <th></th>\n",
       "      <th>geneID</th>\n",
       "      <th>mean_imp</th>\n",
       "      <th>score_pct_improvement</th>\n",
       "    </tr>\n",
       "  </thead>\n",
       "  <tbody>\n",
       "    <tr>\n",
       "      <th>981</th>\n",
       "      <td>HMCN2</td>\n",
       "      <td>28.668377</td>\n",
       "      <td>5.907404</td>\n",
       "    </tr>\n",
       "    <tr>\n",
       "      <th>91</th>\n",
       "      <td>ADAMTS15</td>\n",
       "      <td>12.805571</td>\n",
       "      <td>2.638715</td>\n",
       "    </tr>\n",
       "    <tr>\n",
       "      <th>13</th>\n",
       "      <td>ANGPT2</td>\n",
       "      <td>12.012834</td>\n",
       "      <td>2.475364</td>\n",
       "    </tr>\n",
       "    <tr>\n",
       "      <th>528</th>\n",
       "      <td>HYAL3</td>\n",
       "      <td>11.796667</td>\n",
       "      <td>2.430821</td>\n",
       "    </tr>\n",
       "    <tr>\n",
       "      <th>396</th>\n",
       "      <td>AMBP</td>\n",
       "      <td>11.147836</td>\n",
       "      <td>2.297122</td>\n",
       "    </tr>\n",
       "    <tr>\n",
       "      <th>...</th>\n",
       "      <td>...</td>\n",
       "      <td>...</td>\n",
       "      <td>...</td>\n",
       "    </tr>\n",
       "    <tr>\n",
       "      <th>939</th>\n",
       "      <td>LEPRE1</td>\n",
       "      <td>-1.909024</td>\n",
       "      <td>-0.393373</td>\n",
       "    </tr>\n",
       "    <tr>\n",
       "      <th>201</th>\n",
       "      <td>FGF10</td>\n",
       "      <td>-2.215113</td>\n",
       "      <td>-0.456446</td>\n",
       "    </tr>\n",
       "    <tr>\n",
       "      <th>231</th>\n",
       "      <td>IGFBPL1</td>\n",
       "      <td>-2.325878</td>\n",
       "      <td>-0.479270</td>\n",
       "    </tr>\n",
       "    <tr>\n",
       "      <th>232</th>\n",
       "      <td>SERPINB1</td>\n",
       "      <td>-2.554578</td>\n",
       "      <td>-0.526396</td>\n",
       "    </tr>\n",
       "    <tr>\n",
       "      <th>197</th>\n",
       "      <td>PLAU</td>\n",
       "      <td>-3.921809</td>\n",
       "      <td>-0.808128</td>\n",
       "    </tr>\n",
       "  </tbody>\n",
       "</table>\n",
       "<p>1008 rows × 3 columns</p>\n",
       "</div>"
      ],
      "text/plain": [
       "       geneID   mean_imp  score_pct_improvement\n",
       "981     HMCN2  28.668377               5.907404\n",
       "91   ADAMTS15  12.805571               2.638715\n",
       "13     ANGPT2  12.012834               2.475364\n",
       "528     HYAL3  11.796667               2.430821\n",
       "396      AMBP  11.147836               2.297122\n",
       "..        ...        ...                    ...\n",
       "939    LEPRE1  -1.909024              -0.393373\n",
       "201     FGF10  -2.215113              -0.456446\n",
       "231   IGFBPL1  -2.325878              -0.479270\n",
       "232  SERPINB1  -2.554578              -0.526396\n",
       "197      PLAU  -3.921809              -0.808128\n",
       "\n",
       "[1008 rows x 3 columns]"
      ]
     },
     "execution_count": 22,
     "metadata": {},
     "output_type": "execute_result"
    }
   ],
   "source": [
    "gbr_perm_res_df.sort_values(\"mean_imp\", ascending=False)"
   ]
  },
  {
   "cell_type": "code",
   "execution_count": 23,
   "metadata": {},
   "outputs": [],
   "source": [
    "svr_perm_res_df.to_csv(f\"{dirs.analysis_dir}/{unified_dsets[i]}_svr_permutation_results.tsv\", sep=\"\\t\", index=False)\n",
    "gbr_perm_res_df.to_csv(f\"{dirs.analysis_dir}/{unified_dsets[i]}_gbr_permutation_results.tsv\", sep=\"\\t\", index=False)"
   ]
  }
 ],
 "metadata": {
  "kernelspec": {
   "display_name": "Python 3",
   "language": "python",
   "name": "python3"
  },
  "language_info": {
   "codemirror_mode": {
    "name": "ipython",
    "version": 3
   },
   "file_extension": ".py",
   "mimetype": "text/x-python",
   "name": "python",
   "nbconvert_exporter": "python",
   "pygments_lexer": "ipython3",
   "version": "3.8.3"
  }
 },
 "nbformat": 4,
 "nbformat_minor": 4
}
