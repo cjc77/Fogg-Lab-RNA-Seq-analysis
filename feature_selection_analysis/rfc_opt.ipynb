{
 "cells": [
  {
   "cell_type": "code",
   "execution_count": 1,
   "metadata": {},
   "outputs": [],
   "source": [
    "import pandas as pd\n",
    "import numpy as np\n",
    "import os\n",
    "from sklearn.ensemble import RandomForestClassifier\n",
    "from sklearn.pipeline import make_pipeline, Pipeline\n",
    "from sklearn.preprocessing import StandardScaler\n",
    "from sklearn.model_selection import cross_val_score, KFold\n",
    "from sklearn.compose import ColumnTransformer, TransformedTargetRegressor\n",
    "from skopt.space import Real, Integer, Categorical\n",
    "from skopt import gp_minimize\n",
    "\n",
    "import utils.dev_config as dev_conf\n",
    "import utils.preprocessing as prep\n",
    "import utils.optimization as opt"
   ]
  },
  {
   "cell_type": "code",
   "execution_count": 2,
   "metadata": {},
   "outputs": [],
   "source": [
    "dirs = dev_conf.get_dev_directories(\"../dev_paths.txt\")\n",
    "unified_dsets = [\"unified_cervical_data\", \"unified_uterine_data\", \"unified_uterine_endometrial_data\"]\n",
    "matrisome_list = f\"{dirs.data_dir}/matrisome/matrisome_hs_masterlist.tsv\""
   ]
  },
  {
   "cell_type": "code",
   "execution_count": 3,
   "metadata": {},
   "outputs": [],
   "source": [
    "i = 0"
   ]
  },
  {
   "cell_type": "code",
   "execution_count": 4,
   "metadata": {},
   "outputs": [],
   "source": [
    "matrisome_df = prep.load_matrisome_df(matrisome_list)"
   ]
  },
  {
   "cell_type": "code",
   "execution_count": 5,
   "metadata": {},
   "outputs": [],
   "source": [
    "seed = 123\n",
    "rand = np.random.RandomState()"
   ]
  },
  {
   "cell_type": "markdown",
   "metadata": {},
   "source": [
    "# Load and filter survival data"
   ]
  },
  {
   "cell_type": "code",
   "execution_count": 6,
   "metadata": {},
   "outputs": [],
   "source": [
    "event_code = {\"Alive\": 0, \"Dead\": 1}\n",
    "covariate_cols = [\"age_at_diagnosis\", \"race\", \"ethnicity\"]\n",
    "dep_cols = [\"figo_stage\"]\n",
    "cat_cols = [\"race\", \"ethnicity\"]\n",
    "survival_df = prep.load_survival_df(f\"{dirs.data_dir}/{unified_dsets[i]}/survival_data.tsv\", event_code)"
   ]
  },
  {
   "cell_type": "code",
   "execution_count": 7,
   "metadata": {},
   "outputs": [
    {
     "name": "stdout",
     "output_type": "stream",
     "text": [
      "(255, 12)\n"
     ]
    }
   ],
   "source": [
    "filtered_survival_df = (\n",
    "    prep.decode_figo_stage(survival_df[[\"sample_name\"] + dep_cols + covariate_cols].dropna(), to=\"n\")\n",
    "        .pipe(pd.get_dummies, columns=cat_cols)\n",
    "        .reset_index(drop = True)\n",
    "        .pipe(prep.cols_to_front, [\"sample_name\", \"figo_num\"])\n",
    ")\n",
    "filtered_survival_df.columns = filtered_survival_df.columns.str.replace(' ', '_')\n",
    "print(filtered_survival_df.shape)\n",
    "# filtered_survival_df.head()"
   ]
  },
  {
   "cell_type": "markdown",
   "metadata": {},
   "source": [
    "# Load normalized matrisome count data"
   ]
  },
  {
   "cell_type": "code",
   "execution_count": 8,
   "metadata": {},
   "outputs": [
    {
     "name": "stdout",
     "output_type": "stream",
     "text": [
      "(255, 1009)\n"
     ]
    }
   ],
   "source": [
    "norm_matrisome_counts_df = pd.read_csv(f\"{dirs.data_dir}/{unified_dsets[i]}/norm_matrisome_counts.tsv\", sep='\\t')\n",
    "norm_filtered_matrisome_counts_t_df = prep.transpose_df(\n",
    "    norm_matrisome_counts_df[[\"geneID\"] + list(filtered_survival_df.sample_name)], \"geneID\", \"sample_name\"\n",
    ")\n",
    "print(norm_filtered_matrisome_counts_t_df.shape)\n",
    "# norm_filtered_matrisome_counts_t_df.head()"
   ]
  },
  {
   "cell_type": "markdown",
   "metadata": {},
   "source": [
    "# Join survival and count data"
   ]
  },
  {
   "cell_type": "code",
   "execution_count": 9,
   "metadata": {},
   "outputs": [
    {
     "name": "stdout",
     "output_type": "stream",
     "text": [
      "(255, 1019)\n"
     ]
    }
   ],
   "source": [
    "joined_df = (\n",
    "    pd.merge(filtered_survival_df, norm_filtered_matrisome_counts_t_df, on=\"sample_name\")\n",
    "        .set_index(\"sample_name\")\n",
    ")\n",
    "print(joined_df.shape)\n",
    "# joined_df.head()"
   ]
  },
  {
   "cell_type": "markdown",
   "metadata": {},
   "source": [
    "# Optimize model"
   ]
  },
  {
   "cell_type": "code",
   "execution_count": 10,
   "metadata": {},
   "outputs": [],
   "source": [
    "rand.seed(seed)\n",
    "x_df, y_df = prep.shuffle_data(joined_df, rand)"
   ]
  },
  {
   "cell_type": "code",
   "execution_count": 11,
   "metadata": {},
   "outputs": [],
   "source": [
    "def objective(h_params, X, y, r, verbose=True):\n",
    "    if verbose:\n",
    "        print(h_params)\n",
    "    model = RandomForestClassifier(\n",
    "        n_estimators=h_params[0],\n",
    "        max_depth=h_params[1],\n",
    "        max_features=h_params[2],\n",
    "        min_samples_split=h_params[3],\n",
    "        min_samples_leaf=h_params[4],\n",
    "        bootstrap=h_params[5],\n",
    "        n_jobs=-1,\n",
    "        random_state=r\n",
    "    )\n",
    "    return -np.mean(cross_val_score(\n",
    "        model,\n",
    "        X,\n",
    "        y,\n",
    "        cv=KFold(n_splits=5),\n",
    "        n_jobs=-1,\n",
    "        scoring=\"f1_weighted\"\n",
    "    ))"
   ]
  },
  {
   "cell_type": "code",
   "execution_count": 12,
   "metadata": {},
   "outputs": [],
   "source": [
    "space = [\n",
    "    # We skip \"ls\" since we're optimizing for mean absolute error in the h_param opt.\n",
    "    Integer(int(1e2), int(1e3), name=\"n_estimators\"),\n",
    "    Integer(int(10), int(100), name=\"max_depth\"),\n",
    "    Categorical([\"auto\", \"sqrt\", \"log2\"], name=\"max_features\"),\n",
    "    Integer(int(2), int(4), name=\"min_samples_split\"),\n",
    "    Integer(int(1), int(3), name=\"min_samples_leaf\"),\n",
    "    Categorical([True, False], name=\"bootstrap\")\n",
    "]\n",
    "n_initial = 10 * len(space)\n",
    "n_calls = 50 * len(space)"
   ]
  },
  {
   "cell_type": "code",
   "execution_count": 13,
   "metadata": {
    "collapsed": true,
    "jupyter": {
     "outputs_hidden": true
    }
   },
   "outputs": [
    {
     "name": "stdout",
     "output_type": "stream",
     "text": [
      "Iteration No: 1 started. Evaluating function at random point.\n",
      "[171, 87, 'sqrt', 4, 1, False]\n",
      "Iteration No: 1 ended. Evaluation done at random point.\n",
      "Time taken: 1.9089\n",
      "Function value obtained: -0.3913\n",
      "Current minimum: -0.3913\n",
      "Iteration No: 2 started. Evaluating function at random point.\n",
      "[225, 46, 'log2', 3, 1, False]\n",
      "Iteration No: 2 ended. Evaluation done at random point.\n",
      "Time taken: 1.4787\n",
      "Function value obtained: -0.3930\n",
      "Current minimum: -0.3930\n",
      "Iteration No: 3 started. Evaluating function at random point.\n",
      "[830, 52, 'sqrt', 2, 2, True]\n",
      "Iteration No: 3 ended. Evaluation done at random point.\n",
      "Time taken: 4.4417\n",
      "Function value obtained: -0.3699\n",
      "Current minimum: -0.3930\n",
      "Iteration No: 4 started. Evaluating function at random point.\n",
      "[624, 29, 'log2', 3, 2, False]\n",
      "Iteration No: 4 ended. Evaluation done at random point.\n",
      "Time taken: 2.6953\n",
      "Function value obtained: -0.3704\n",
      "Current minimum: -0.3930\n",
      "Iteration No: 5 started. Evaluating function at random point.\n",
      "[672, 13, 'log2', 3, 1, True]\n",
      "Iteration No: 5 ended. Evaluation done at random point.\n",
      "Time taken: 2.7534\n",
      "Function value obtained: -0.3768\n",
      "Current minimum: -0.3930\n",
      "Iteration No: 6 started. Evaluating function at random point.\n",
      "[160, 69, 'sqrt', 4, 2, False]\n",
      "Iteration No: 6 ended. Evaluation done at random point.\n",
      "Time taken: 0.8697\n",
      "Function value obtained: -0.3820\n",
      "Current minimum: -0.3930\n",
      "Iteration No: 7 started. Evaluating function at random point.\n",
      "[730, 70, 'auto', 4, 2, False]\n",
      "Iteration No: 7 ended. Evaluation done at random point.\n",
      "Time taken: 3.4634\n",
      "Function value obtained: -0.3935\n",
      "Current minimum: -0.3935\n",
      "Iteration No: 8 started. Evaluating function at random point.\n",
      "[809, 47, 'log2', 2, 2, True]\n",
      "Iteration No: 8 ended. Evaluation done at random point.\n",
      "Time taken: 3.2685\n",
      "Function value obtained: -0.3691\n",
      "Current minimum: -0.3935\n",
      "Iteration No: 9 started. Evaluating function at random point.\n",
      "[268, 48, 'sqrt', 2, 3, True]\n",
      "Iteration No: 9 ended. Evaluation done at random point.\n",
      "Time taken: 1.3040\n",
      "Function value obtained: -0.3732\n",
      "Current minimum: -0.3935\n",
      "Iteration No: 10 started. Evaluating function at random point.\n",
      "[182, 52, 'log2', 3, 1, False]\n",
      "Iteration No: 10 ended. Evaluation done at random point.\n",
      "Time taken: 0.7500\n",
      "Function value obtained: -0.3885\n",
      "Current minimum: -0.3935\n",
      "Iteration No: 11 started. Evaluating function at random point.\n",
      "[186, 31, 'sqrt', 4, 1, False]\n",
      "Iteration No: 11 ended. Evaluation done at random point.\n",
      "Time taken: 1.0530\n",
      "Function value obtained: -0.4113\n",
      "Current minimum: -0.4113\n",
      "Iteration No: 12 started. Evaluating function at random point.\n",
      "[983, 59, 'log2', 2, 2, True]\n",
      "Iteration No: 12 ended. Evaluation done at random point.\n",
      "Time taken: 3.8588\n",
      "Function value obtained: -0.3691\n",
      "Current minimum: -0.4113\n",
      "Iteration No: 13 started. Evaluating function at random point.\n",
      "[438, 19, 'log2', 4, 2, True]\n",
      "Iteration No: 13 ended. Evaluation done at random point.\n",
      "Time taken: 1.8034\n",
      "Function value obtained: -0.3691\n",
      "Current minimum: -0.4113\n",
      "Iteration No: 14 started. Evaluating function at random point.\n",
      "[819, 29, 'log2', 3, 2, False]\n",
      "Iteration No: 14 ended. Evaluation done at random point.\n",
      "Time taken: 2.7237\n",
      "Function value obtained: -0.3800\n",
      "Current minimum: -0.4113\n",
      "Iteration No: 15 started. Evaluating function at random point.\n",
      "[971, 69, 'sqrt', 2, 2, True]\n",
      "Iteration No: 15 ended. Evaluation done at random point.\n",
      "Time taken: 4.4439\n",
      "Function value obtained: -0.3691\n",
      "Current minimum: -0.4113\n",
      "Iteration No: 16 started. Evaluating function at random point.\n",
      "[161, 99, 'auto', 3, 1, False]\n",
      "Iteration No: 16 ended. Evaluation done at random point.\n",
      "Time taken: 0.8972\n",
      "Function value obtained: -0.3871\n",
      "Current minimum: -0.4113\n",
      "Iteration No: 17 started. Evaluating function at random point.\n",
      "[309, 37, 'log2', 3, 2, False]\n",
      "Iteration No: 17 ended. Evaluation done at random point.\n",
      "Time taken: 1.1418\n",
      "Function value obtained: -0.3790\n",
      "Current minimum: -0.4113\n",
      "Iteration No: 18 started. Evaluating function at random point.\n",
      "[429, 58, 'auto', 3, 2, True]\n",
      "Iteration No: 18 ended. Evaluation done at random point.\n",
      "Time taken: 1.9378\n",
      "Function value obtained: -0.3702\n",
      "Current minimum: -0.4113\n",
      "Iteration No: 19 started. Evaluating function at random point.\n",
      "[124, 90, 'auto', 2, 3, False]\n",
      "Iteration No: 19 ended. Evaluation done at random point.\n",
      "Time taken: 0.7117\n",
      "Function value obtained: -0.3756\n",
      "Current minimum: -0.4113\n",
      "Iteration No: 20 started. Evaluating function at random point.\n",
      "[740, 97, 'sqrt', 3, 3, False]\n",
      "Iteration No: 20 ended. Evaluation done at random point.\n",
      "Time taken: 3.4304\n",
      "Function value obtained: -0.3933\n",
      "Current minimum: -0.4113\n",
      "Iteration No: 21 started. Evaluating function at random point.\n",
      "[886, 42, 'sqrt', 2, 3, True]\n",
      "Iteration No: 21 ended. Evaluation done at random point.\n",
      "Time taken: 3.9460\n",
      "Function value obtained: -0.3691\n",
      "Current minimum: -0.4113\n",
      "Iteration No: 22 started. Evaluating function at random point.\n",
      "[861, 21, 'log2', 2, 2, False]\n",
      "Iteration No: 22 ended. Evaluation done at random point.\n",
      "Time taken: 2.9078\n",
      "Function value obtained: -0.3789\n",
      "Current minimum: -0.4113\n",
      "Iteration No: 23 started. Evaluating function at random point.\n",
      "[176, 30, 'sqrt', 3, 2, True]\n",
      "Iteration No: 23 ended. Evaluation done at random point.\n",
      "Time taken: 0.9235\n",
      "Function value obtained: -0.3732\n",
      "Current minimum: -0.4113\n",
      "Iteration No: 24 started. Evaluating function at random point.\n",
      "[303, 61, 'log2', 3, 2, False]\n",
      "Iteration No: 24 ended. Evaluation done at random point.\n",
      "Time taken: 1.1224\n",
      "Function value obtained: -0.3782\n",
      "Current minimum: -0.4113\n",
      "Iteration No: 25 started. Evaluating function at random point.\n",
      "[939, 63, 'sqrt', 3, 2, False]\n",
      "Iteration No: 25 ended. Evaluation done at random point.\n",
      "Time taken: 4.3882\n",
      "Function value obtained: -0.3852\n",
      "Current minimum: -0.4113\n",
      "Iteration No: 26 started. Evaluating function at random point.\n",
      "[533, 93, 'auto', 2, 2, False]\n",
      "Iteration No: 26 ended. Evaluation done at random point.\n",
      "Time taken: 2.5879\n",
      "Function value obtained: -0.3898\n",
      "Current minimum: -0.4113\n",
      "Iteration No: 27 started. Evaluating function at random point.\n",
      "[871, 12, 'sqrt', 3, 3, True]\n",
      "Iteration No: 27 ended. Evaluation done at random point.\n",
      "Time taken: 3.9702\n",
      "Function value obtained: -0.3691\n",
      "Current minimum: -0.4113\n",
      "Iteration No: 28 started. Evaluating function at random point.\n",
      "[831, 40, 'log2', 3, 3, False]\n",
      "Iteration No: 28 ended. Evaluation done at random point.\n",
      "Time taken: 2.7389\n",
      "Function value obtained: -0.3714\n",
      "Current minimum: -0.4113\n",
      "Iteration No: 29 started. Evaluating function at random point.\n",
      "[318, 94, 'sqrt', 3, 2, False]\n",
      "Iteration No: 29 ended. Evaluation done at random point.\n",
      "Time taken: 1.6083\n",
      "Function value obtained: -0.3980\n",
      "Current minimum: -0.4113\n",
      "Iteration No: 30 started. Evaluating function at random point.\n",
      "[286, 40, 'log2', 4, 3, True]\n",
      "Iteration No: 30 ended. Evaluation done at random point.\n",
      "Time taken: 1.2013\n",
      "Function value obtained: -0.3674\n",
      "Current minimum: -0.4113\n",
      "Iteration No: 31 started. Evaluating function at random point.\n",
      "[963, 48, 'auto', 2, 2, False]\n",
      "Iteration No: 31 ended. Evaluation done at random point.\n",
      "Time taken: 4.6296\n",
      "Function value obtained: -0.3836\n",
      "Current minimum: -0.4113\n",
      "Iteration No: 32 started. Evaluating function at random point.\n",
      "[183, 64, 'log2', 3, 1, True]\n",
      "Iteration No: 32 ended. Evaluation done at random point.\n",
      "Time taken: 0.8338\n",
      "Function value obtained: -0.3780\n",
      "Current minimum: -0.4113\n",
      "Iteration No: 33 started. Evaluating function at random point.\n",
      "[294, 35, 'log2', 3, 2, True]\n",
      "Iteration No: 33 ended. Evaluation done at random point.\n",
      "Time taken: 1.3296\n",
      "Function value obtained: -0.3691\n",
      "Current minimum: -0.4113\n",
      "Iteration No: 34 started. Evaluating function at random point.\n",
      "[725, 92, 'log2', 2, 2, True]\n",
      "Iteration No: 34 ended. Evaluation done at random point.\n",
      "Time taken: 3.0068\n",
      "Function value obtained: -0.3691\n",
      "Current minimum: -0.4113\n",
      "Iteration No: 35 started. Evaluating function at random point.\n",
      "[280, 84, 'log2', 4, 1, False]\n",
      "Iteration No: 35 ended. Evaluation done at random point.\n",
      "Time taken: 1.1035\n",
      "Function value obtained: -0.3830\n",
      "Current minimum: -0.4113\n",
      "Iteration No: 36 started. Evaluating function at random point.\n",
      "[958, 69, 'sqrt', 3, 1, False]\n",
      "Iteration No: 36 ended. Evaluation done at random point.\n",
      "Time taken: 4.8078\n",
      "Function value obtained: -0.3851\n",
      "Current minimum: -0.4113\n",
      "Iteration No: 37 started. Evaluating function at random point.\n",
      "[828, 71, 'auto', 2, 2, True]\n",
      "Iteration No: 37 ended. Evaluation done at random point.\n",
      "Time taken: 3.9921\n",
      "Function value obtained: -0.3703\n",
      "Current minimum: -0.4113\n",
      "Iteration No: 38 started. Evaluating function at random point.\n",
      "[542, 34, 'log2', 2, 2, False]\n",
      "Iteration No: 38 ended. Evaluation done at random point.\n",
      "Time taken: 2.0061\n",
      "Function value obtained: -0.3811\n",
      "Current minimum: -0.4113\n",
      "Iteration No: 39 started. Evaluating function at random point.\n",
      "[861, 51, 'log2', 4, 2, True]\n",
      "Iteration No: 39 ended. Evaluation done at random point.\n",
      "Time taken: 3.4736\n",
      "Function value obtained: -0.3691\n",
      "Current minimum: -0.4113\n",
      "Iteration No: 40 started. Evaluating function at random point.\n",
      "[139, 74, 'log2', 3, 1, False]\n",
      "Iteration No: 40 ended. Evaluation done at random point.\n",
      "Time taken: 0.6098\n",
      "Function value obtained: -0.3776\n",
      "Current minimum: -0.4113\n",
      "Iteration No: 41 started. Evaluating function at random point.\n",
      "[399, 95, 'log2', 3, 2, False]\n",
      "Iteration No: 41 ended. Evaluation done at random point.\n",
      "Time taken: 1.5576\n",
      "Function value obtained: -0.3714\n",
      "Current minimum: -0.4113\n",
      "Iteration No: 42 started. Evaluating function at random point.\n",
      "[249, 43, 'sqrt', 3, 2, True]\n",
      "Iteration No: 42 ended. Evaluation done at random point.\n",
      "Time taken: 1.3450\n",
      "Function value obtained: -0.3768\n",
      "Current minimum: -0.4113\n",
      "Iteration No: 43 started. Evaluating function at random point.\n",
      "[834, 39, 'sqrt', 4, 2, True]\n",
      "Iteration No: 43 ended. Evaluation done at random point.\n",
      "Time taken: 3.8634\n",
      "Function value obtained: -0.3703\n",
      "Current minimum: -0.4113\n",
      "Iteration No: 44 started. Evaluating function at random point.\n",
      "[465, 33, 'auto', 3, 2, False]\n",
      "Iteration No: 44 ended. Evaluation done at random point.\n",
      "Time taken: 2.2664\n",
      "Function value obtained: -0.3989\n",
      "Current minimum: -0.4113\n",
      "Iteration No: 45 started. Evaluating function at random point.\n",
      "[266, 96, 'auto', 3, 2, False]\n",
      "Iteration No: 45 ended. Evaluation done at random point.\n",
      "Time taken: 1.3411\n",
      "Function value obtained: -0.3905\n",
      "Current minimum: -0.4113\n",
      "Iteration No: 46 started. Evaluating function at random point.\n",
      "[435, 88, 'log2', 2, 3, True]\n",
      "Iteration No: 46 ended. Evaluation done at random point.\n",
      "Time taken: 1.6942\n",
      "Function value obtained: -0.3714\n",
      "Current minimum: -0.4113\n",
      "Iteration No: 47 started. Evaluating function at random point.\n",
      "[349, 57, 'auto', 2, 3, False]\n",
      "Iteration No: 47 ended. Evaluation done at random point.\n",
      "Time taken: 1.6959\n",
      "Function value obtained: -0.3793\n",
      "Current minimum: -0.4113\n",
      "Iteration No: 48 started. Evaluating function at random point.\n",
      "[696, 95, 'auto', 2, 1, True]\n",
      "Iteration No: 48 ended. Evaluation done at random point.\n",
      "Time taken: 3.3766\n",
      "Function value obtained: -0.3717\n",
      "Current minimum: -0.4113\n",
      "Iteration No: 49 started. Evaluating function at random point.\n",
      "[932, 52, 'log2', 3, 3, True]\n",
      "Iteration No: 49 ended. Evaluation done at random point.\n",
      "Time taken: 3.5401\n",
      "Function value obtained: -0.3691\n",
      "Current minimum: -0.4113\n",
      "Iteration No: 50 started. Evaluating function at random point.\n",
      "[310, 80, 'auto', 2, 2, False]\n",
      "Iteration No: 50 ended. Evaluation done at random point.\n",
      "Time taken: 1.5736\n",
      "Function value obtained: -0.4015\n",
      "Current minimum: -0.4113\n",
      "Iteration No: 51 started. Evaluating function at random point.\n",
      "[734, 41, 'log2', 4, 1, True]\n",
      "Iteration No: 51 ended. Evaluation done at random point.\n",
      "Time taken: 3.0285\n",
      "Function value obtained: -0.3691\n",
      "Current minimum: -0.4113\n",
      "Iteration No: 52 started. Evaluating function at random point.\n",
      "[135, 78, 'auto', 2, 2, True]\n",
      "Iteration No: 52 ended. Evaluation done at random point.\n",
      "Time taken: 0.7880\n",
      "Function value obtained: -0.3685\n",
      "Current minimum: -0.4113\n",
      "Iteration No: 53 started. Evaluating function at random point.\n",
      "[710, 15, 'log2', 3, 2, True]\n",
      "Iteration No: 53 ended. Evaluation done at random point.\n",
      "Time taken: 2.8433\n",
      "Function value obtained: -0.3710\n",
      "Current minimum: -0.4113\n",
      "Iteration No: 54 started. Evaluating function at random point.\n",
      "[218, 65, 'sqrt', 4, 1, False]\n",
      "Iteration No: 54 ended. Evaluation done at random point.\n",
      "Time taken: 1.1819\n",
      "Function value obtained: -0.3963\n",
      "Current minimum: -0.4113\n",
      "Iteration No: 55 started. Evaluating function at random point.\n",
      "[983, 89, 'sqrt', 3, 2, False]\n",
      "Iteration No: 55 ended. Evaluation done at random point.\n",
      "Time taken: 4.4948\n",
      "Function value obtained: -0.3852\n",
      "Current minimum: -0.4113\n",
      "Iteration No: 56 started. Evaluating function at random point.\n",
      "[453, 87, 'auto', 4, 2, False]\n",
      "Iteration No: 56 ended. Evaluation done at random point.\n",
      "Time taken: 2.1992\n",
      "Function value obtained: -0.3943\n",
      "Current minimum: -0.4113\n",
      "Iteration No: 57 started. Evaluating function at random point.\n",
      "[375, 93, 'log2', 4, 3, True]\n",
      "Iteration No: 57 ended. Evaluation done at random point.\n",
      "Time taken: 1.5123\n",
      "Function value obtained: -0.3703\n",
      "Current minimum: -0.4113\n",
      "Iteration No: 58 started. Evaluating function at random point.\n",
      "[373, 41, 'log2', 3, 3, False]\n",
      "Iteration No: 58 ended. Evaluation done at random point.\n",
      "Time taken: 1.2937\n",
      "Function value obtained: -0.3736\n",
      "Current minimum: -0.4113\n",
      "Iteration No: 59 started. Evaluating function at random point.\n",
      "[530, 66, 'log2', 4, 1, False]\n",
      "Iteration No: 59 ended. Evaluation done at random point.\n",
      "Time taken: 1.8598\n",
      "Function value obtained: -0.3808\n",
      "Current minimum: -0.4113\n",
      "Iteration No: 60 started. Evaluating function at random point.\n",
      "[390, 23, 'log2', 4, 2, False]\n",
      "Iteration No: 60 ended. Evaluation done at random point.\n",
      "Time taken: 3.6932\n",
      "Function value obtained: -0.3736\n",
      "Current minimum: -0.4113\n",
      "Iteration No: 61 started. Searching for the next optimal point.\n",
      "[114, 11, 'auto', 3, 1, False]\n",
      "Iteration No: 61 ended. Search finished for the next optimal point.\n",
      "Time taken: 2.1034\n",
      "Function value obtained: -0.3992\n",
      "Current minimum: -0.4113\n",
      "Iteration No: 62 started. Searching for the next optimal point.\n",
      "[128, 11, 'sqrt', 4, 1, False]\n",
      "Iteration No: 62 ended. Search finished for the next optimal point.\n",
      "Time taken: 1.7884\n",
      "Function value obtained: -0.4052\n",
      "Current minimum: -0.4113\n",
      "Iteration No: 63 started. Searching for the next optimal point.\n",
      "[909, 11, 'auto', 3, 1, False]\n",
      "Iteration No: 63 ended. Search finished for the next optimal point.\n",
      "Time taken: 6.3536\n",
      "Function value obtained: -0.3977\n",
      "Current minimum: -0.4113\n",
      "Iteration No: 64 started. Searching for the next optimal point.\n",
      "[211, 12, 'sqrt', 3, 3, False]\n",
      "Iteration No: 64 ended. Search finished for the next optimal point.\n",
      "Time taken: 3.8319\n",
      "Function value obtained: -0.3851\n",
      "Current minimum: -0.4113\n",
      "Iteration No: 65 started. Searching for the next optimal point.\n",
      "[100, 10, 'sqrt', 2, 1, False]\n",
      "Iteration No: 65 ended. Search finished for the next optimal point.\n",
      "Time taken: 2.4520\n",
      "Function value obtained: -0.3991\n",
      "Current minimum: -0.4113\n",
      "Iteration No: 66 started. Searching for the next optimal point.\n",
      "[148, 11, 'auto', 3, 2, False]\n",
      "Iteration No: 66 ended. Search finished for the next optimal point.\n",
      "Time taken: 2.6064\n",
      "Function value obtained: -0.4002\n",
      "Current minimum: -0.4113\n",
      "Iteration No: 67 started. Searching for the next optimal point.\n",
      "[120, 100, 'sqrt', 4, 1, True]\n",
      "Iteration No: 67 ended. Search finished for the next optimal point.\n",
      "Time taken: 1.6393\n",
      "Function value obtained: -0.3741\n",
      "Current minimum: -0.4113\n",
      "Iteration No: 68 started. Searching for the next optimal point.\n",
      "[100, 10, 'sqrt', 4, 1, False]\n",
      "Iteration No: 68 ended. Search finished for the next optimal point.\n",
      "Time taken: 1.7785\n",
      "Function value obtained: -0.3836\n",
      "Current minimum: -0.4113\n",
      "Iteration No: 69 started. Searching for the next optimal point.\n",
      "[100, 10, 'auto', 4, 1, False]\n",
      "Iteration No: 69 ended. Search finished for the next optimal point.\n",
      "Time taken: 2.1205\n",
      "Function value obtained: -0.3991\n",
      "Current minimum: -0.4113\n",
      "Iteration No: 70 started. Searching for the next optimal point.\n",
      "[100, 10, 'auto', 3, 1, False]\n",
      "Iteration No: 70 ended. Search finished for the next optimal point.\n",
      "Time taken: 1.8843\n",
      "Function value obtained: -0.4032\n",
      "Current minimum: -0.4113\n",
      "Iteration No: 71 started. Searching for the next optimal point.\n",
      "[993, 96, 'auto', 4, 1, False]\n",
      "Iteration No: 71 ended. Search finished for the next optimal point.\n",
      "Time taken: 5.9370\n",
      "Function value obtained: -0.3915\n",
      "Current minimum: -0.4113\n",
      "Iteration No: 72 started. Searching for the next optimal point.\n",
      "[925, 12, 'auto', 4, 3, True]\n",
      "Iteration No: 72 ended. Search finished for the next optimal point.\n",
      "Time taken: 6.3862\n",
      "Function value obtained: -0.3768\n",
      "Current minimum: -0.4113\n",
      "Iteration No: 73 started. Searching for the next optimal point.\n",
      "[100, 10, 'auto', 2, 1, False]\n",
      "Iteration No: 73 ended. Search finished for the next optimal point.\n",
      "Time taken: 2.4294\n",
      "Function value obtained: -0.4022\n",
      "Current minimum: -0.4113\n",
      "Iteration No: 74 started. Searching for the next optimal point.\n",
      "[997, 13, 'sqrt', 4, 1, False]\n",
      "Iteration No: 74 ended. Search finished for the next optimal point.\n",
      "Time taken: 7.5976\n",
      "Function value obtained: -0.3946\n",
      "Current minimum: -0.4113\n",
      "Iteration No: 75 started. Searching for the next optimal point.\n",
      "[100, 10, 'auto', 4, 1, False]\n"
     ]
    },
    {
     "name": "stderr",
     "output_type": "stream",
     "text": [
      "/home/carcook/anaconda3/envs/TCGA-round1/lib/python3.8/site-packages/skopt/optimizer/optimizer.py:449: UserWarning: The objective has been evaluated at this point before.\n",
      "  warnings.warn(\"The objective has been evaluated \"\n"
     ]
    },
    {
     "name": "stdout",
     "output_type": "stream",
     "text": [
      "Iteration No: 75 ended. Search finished for the next optimal point.\n",
      "Time taken: 2.8394\n",
      "Function value obtained: -0.4060\n",
      "Current minimum: -0.4113\n",
      "Iteration No: 76 started. Searching for the next optimal point.\n",
      "[100, 10, 'auto', 2, 1, False]\n"
     ]
    },
    {
     "name": "stderr",
     "output_type": "stream",
     "text": [
      "/home/carcook/anaconda3/envs/TCGA-round1/lib/python3.8/site-packages/skopt/optimizer/optimizer.py:449: UserWarning: The objective has been evaluated at this point before.\n",
      "  warnings.warn(\"The objective has been evaluated \"\n"
     ]
    },
    {
     "name": "stdout",
     "output_type": "stream",
     "text": [
      "*****redundant*****\n",
      "Iteration No: 76 ended. Search finished for the next optimal point.\n",
      "Time taken: 1.8579\n",
      "Function value obtained: -0.3940\n",
      "Current minimum: -0.4113\n",
      "Iteration No: 77 started. Searching for the next optimal point.\n",
      "[100, 10, 'auto', 4, 1, False]\n"
     ]
    },
    {
     "name": "stderr",
     "output_type": "stream",
     "text": [
      "/home/carcook/anaconda3/envs/TCGA-round1/lib/python3.8/site-packages/skopt/optimizer/optimizer.py:449: UserWarning: The objective has been evaluated at this point before.\n",
      "  warnings.warn(\"The objective has been evaluated \"\n"
     ]
    },
    {
     "name": "stdout",
     "output_type": "stream",
     "text": [
      "*****redundant*****\n",
      "Iteration No: 77 ended. Search finished for the next optimal point.\n",
      "Time taken: 2.8814\n",
      "Function value obtained: -0.3996\n",
      "Current minimum: -0.4113\n",
      "Iteration No: 78 started. Searching for the next optimal point.\n",
      "[100, 10, 'auto', 4, 1, False]\n"
     ]
    },
    {
     "name": "stderr",
     "output_type": "stream",
     "text": [
      "/home/carcook/anaconda3/envs/TCGA-round1/lib/python3.8/site-packages/skopt/optimizer/optimizer.py:449: UserWarning: The objective has been evaluated at this point before.\n",
      "  warnings.warn(\"The objective has been evaluated \"\n"
     ]
    },
    {
     "name": "stdout",
     "output_type": "stream",
     "text": [
      "*****redundant*****\n",
      "Iteration No: 78 ended. Search finished for the next optimal point.\n",
      "Time taken: 2.1449\n",
      "Function value obtained: -0.3791\n",
      "Current minimum: -0.4113\n",
      "Iteration No: 79 started. Searching for the next optimal point.\n",
      "[987, 12, 'sqrt', 4, 3, False]\n",
      "Iteration No: 79 ended. Search finished for the next optimal point.\n",
      "Time taken: 6.8369\n",
      "Function value obtained: -0.3867\n",
      "Current minimum: -0.4113\n",
      "Iteration No: 80 started. Searching for the next optimal point.\n",
      "[1000, 10, 'auto', 3, 1, False]\n",
      "Iteration No: 80 ended. Search finished for the next optimal point.\n",
      "Time taken: 6.1273\n",
      "Function value obtained: -0.3946\n",
      "Current minimum: -0.4113\n",
      "Iteration No: 81 started. Searching for the next optimal point.\n",
      "[999, 11, 'auto', 3, 3, False]\n",
      "Iteration No: 81 ended. Search finished for the next optimal point.\n",
      "Time taken: 6.1101\n",
      "Function value obtained: -0.3844\n",
      "Current minimum: -0.4113\n",
      "Iteration No: 82 started. Searching for the next optimal point.\n",
      "[145, 99, 'sqrt', 2, 3, False]\n",
      "Iteration No: 82 ended. Search finished for the next optimal point.\n",
      "Time taken: 2.4879\n",
      "Function value obtained: -0.3937\n",
      "Current minimum: -0.4113\n",
      "Iteration No: 83 started. Searching for the next optimal point.\n",
      "[111, 11, 'auto', 2, 1, True]\n",
      "Iteration No: 83 ended. Search finished for the next optimal point.\n",
      "Time taken: 1.9993\n",
      "Function value obtained: -0.3928\n",
      "Current minimum: -0.4113\n",
      "Iteration No: 84 started. Searching for the next optimal point.\n",
      "[936, 11, 'sqrt', 4, 1, True]\n",
      "Iteration No: 84 ended. Search finished for the next optimal point.\n",
      "Time taken: 8.0862\n",
      "Function value obtained: -0.3702\n",
      "Current minimum: -0.4113\n",
      "Iteration No: 85 started. Searching for the next optimal point.\n",
      "[926, 11, 'auto', 4, 1, True]\n",
      "Iteration No: 85 ended. Search finished for the next optimal point.\n",
      "Time taken: 7.4994\n",
      "Function value obtained: -0.3681\n",
      "Current minimum: -0.4113\n",
      "Iteration No: 86 started. Searching for the next optimal point.\n",
      "[997, 97, 'auto', 3, 1, False]\n",
      "Iteration No: 86 ended. Search finished for the next optimal point.\n",
      "Time taken: 7.1811\n",
      "Function value obtained: -0.4029\n",
      "Current minimum: -0.4113\n",
      "Iteration No: 87 started. Searching for the next optimal point.\n",
      "[1000, 10, 'auto', 2, 1, False]\n",
      "Iteration No: 87 ended. Search finished for the next optimal point.\n",
      "Time taken: 6.5162\n",
      "Function value obtained: -0.3946\n",
      "Current minimum: -0.4113\n",
      "Iteration No: 88 started. Searching for the next optimal point.\n",
      "[100, 10, 'auto', 4, 1, False]\n"
     ]
    },
    {
     "name": "stderr",
     "output_type": "stream",
     "text": [
      "/home/carcook/anaconda3/envs/TCGA-round1/lib/python3.8/site-packages/skopt/optimizer/optimizer.py:449: UserWarning: The objective has been evaluated at this point before.\n",
      "  warnings.warn(\"The objective has been evaluated \"\n"
     ]
    },
    {
     "name": "stdout",
     "output_type": "stream",
     "text": [
      "*****redundant*****\n",
      "Iteration No: 88 ended. Search finished for the next optimal point.\n",
      "Time taken: 1.8584\n",
      "Function value obtained: -0.3985\n",
      "Current minimum: -0.4113\n",
      "Iteration No: 89 started. Searching for the next optimal point.\n",
      "[994, 90, 'sqrt', 3, 1, False]\n",
      "Iteration No: 89 ended. Search finished for the next optimal point.\n",
      "Time taken: 6.5386\n",
      "Function value obtained: -0.3962\n",
      "Current minimum: -0.4113\n",
      "Iteration No: 90 started. Searching for the next optimal point.\n",
      "[114, 90, 'auto', 3, 3, True]\n",
      "Iteration No: 90 ended. Search finished for the next optimal point.\n",
      "Time taken: 2.6369\n",
      "Function value obtained: -0.3721\n",
      "Current minimum: -0.4113\n",
      "Iteration No: 91 started. Searching for the next optimal point.\n",
      "[111, 11, 'sqrt', 2, 3, False]\n",
      "Iteration No: 91 ended. Search finished for the next optimal point.\n",
      "Time taken: 2.2620\n",
      "Function value obtained: -0.3914\n",
      "Current minimum: -0.4113\n",
      "Iteration No: 92 started. Searching for the next optimal point.\n",
      "[999, 10, 'sqrt', 4, 1, False]\n",
      "Iteration No: 92 ended. Search finished for the next optimal point.\n",
      "Time taken: 6.8170\n",
      "Function value obtained: -0.3869\n",
      "Current minimum: -0.4113\n",
      "Iteration No: 93 started. Searching for the next optimal point.\n",
      "[993, 23, 'sqrt', 2, 3, False]\n",
      "Iteration No: 93 ended. Search finished for the next optimal point.\n",
      "Time taken: 7.1310\n",
      "Function value obtained: -0.3950\n",
      "Current minimum: -0.4113\n",
      "Iteration No: 94 started. Searching for the next optimal point.\n",
      "[100, 10, 'auto', 3, 1, False]\n"
     ]
    },
    {
     "name": "stderr",
     "output_type": "stream",
     "text": [
      "/home/carcook/anaconda3/envs/TCGA-round1/lib/python3.8/site-packages/skopt/optimizer/optimizer.py:449: UserWarning: The objective has been evaluated at this point before.\n",
      "  warnings.warn(\"The objective has been evaluated \"\n"
     ]
    },
    {
     "name": "stdout",
     "output_type": "stream",
     "text": [
      "*****redundant*****\n",
      "Iteration No: 94 ended. Search finished for the next optimal point.\n",
      "Time taken: 2.4049\n",
      "Function value obtained: -0.4051\n",
      "Current minimum: -0.4113\n",
      "Iteration No: 95 started. Searching for the next optimal point.\n",
      "[100, 10, 'auto', 2, 1, False]\n"
     ]
    },
    {
     "name": "stderr",
     "output_type": "stream",
     "text": [
      "/home/carcook/anaconda3/envs/TCGA-round1/lib/python3.8/site-packages/skopt/optimizer/optimizer.py:449: UserWarning: The objective has been evaluated at this point before.\n",
      "  warnings.warn(\"The objective has been evaluated \"\n"
     ]
    },
    {
     "name": "stdout",
     "output_type": "stream",
     "text": [
      "Iteration No: 95 ended. Search finished for the next optimal point.\n",
      "Time taken: 3.2114\n",
      "Function value obtained: -0.3949\n",
      "Current minimum: -0.4113\n",
      "Iteration No: 96 started. Searching for the next optimal point.\n",
      "[997, 95, 'auto', 2, 1, False]\n",
      "Iteration No: 96 ended. Search finished for the next optimal point.\n",
      "Time taken: 6.6295\n",
      "Function value obtained: -0.3965\n",
      "Current minimum: -0.4113\n",
      "Iteration No: 97 started. Searching for the next optimal point.\n",
      "[100, 10, 'auto', 3, 1, False]\n"
     ]
    },
    {
     "name": "stderr",
     "output_type": "stream",
     "text": [
      "/home/carcook/anaconda3/envs/TCGA-round1/lib/python3.8/site-packages/skopt/optimizer/optimizer.py:449: UserWarning: The objective has been evaluated at this point before.\n",
      "  warnings.warn(\"The objective has been evaluated \"\n"
     ]
    },
    {
     "name": "stdout",
     "output_type": "stream",
     "text": [
      "*****redundant*****\n",
      "Iteration No: 97 ended. Search finished for the next optimal point.\n",
      "Time taken: 2.9558\n",
      "Function value obtained: -0.3834\n",
      "Current minimum: -0.4113\n",
      "Iteration No: 98 started. Searching for the next optimal point.\n",
      "[1000, 83, 'auto', 2, 1, False]\n",
      "Iteration No: 98 ended. Search finished for the next optimal point.\n",
      "Time taken: 6.8705\n",
      "Function value obtained: -0.3979\n",
      "Current minimum: -0.4113\n",
      "Iteration No: 99 started. Searching for the next optimal point.\n",
      "[997, 23, 'auto', 4, 3, False]\n",
      "Iteration No: 99 ended. Search finished for the next optimal point.\n",
      "Time taken: 7.0994\n",
      "Function value obtained: -0.3794\n",
      "Current minimum: -0.4113\n",
      "Iteration No: 100 started. Searching for the next optimal point.\n",
      "[100, 19, 'auto', 2, 1, False]\n",
      "Iteration No: 100 ended. Search finished for the next optimal point.\n",
      "Time taken: 2.1287\n",
      "Function value obtained: -0.4101\n",
      "Current minimum: -0.4113\n",
      "Iteration No: 101 started. Searching for the next optimal point.\n",
      "[100, 89, 'auto', 2, 1, False]\n",
      "Iteration No: 101 ended. Search finished for the next optimal point.\n",
      "Time taken: 3.0590\n",
      "Function value obtained: -0.4029\n",
      "Current minimum: -0.4113\n",
      "Iteration No: 102 started. Searching for the next optimal point.\n",
      "[101, 73, 'sqrt', 3, 3, False]\n",
      "Iteration No: 102 ended. Search finished for the next optimal point.\n",
      "Time taken: 2.9440\n",
      "Function value obtained: -0.3924\n",
      "Current minimum: -0.4113\n",
      "Iteration No: 103 started. Searching for the next optimal point.\n",
      "[102, 23, 'sqrt', 2, 1, False]\n",
      "Iteration No: 103 ended. Search finished for the next optimal point.\n",
      "Time taken: 2.2208\n",
      "Function value obtained: -0.4347\n",
      "Current minimum: -0.4347\n",
      "Iteration No: 104 started. Searching for the next optimal point.\n",
      "[102, 75, 'sqrt', 2, 1, False]\n",
      "Iteration No: 104 ended. Search finished for the next optimal point.\n",
      "Time taken: 3.7476\n",
      "Function value obtained: -0.4162\n",
      "Current minimum: -0.4347\n",
      "Iteration No: 105 started. Searching for the next optimal point.\n",
      "[124, 20, 'sqrt', 2, 1, False]\n",
      "Iteration No: 105 ended. Search finished for the next optimal point.\n",
      "Time taken: 3.3809\n",
      "Function value obtained: -0.3953\n",
      "Current minimum: -0.4347\n",
      "Iteration No: 106 started. Searching for the next optimal point.\n",
      "[999, 48, 'sqrt', 2, 1, False]\n",
      "Iteration No: 106 ended. Search finished for the next optimal point.\n",
      "Time taken: 7.1416\n",
      "Function value obtained: -0.3885\n",
      "Current minimum: -0.4347\n",
      "Iteration No: 107 started. Searching for the next optimal point.\n",
      "[100, 15, 'sqrt', 2, 1, False]\n",
      "Iteration No: 107 ended. Search finished for the next optimal point.\n",
      "Time taken: 3.3853\n",
      "Function value obtained: -0.4110\n",
      "Current minimum: -0.4347\n",
      "Iteration No: 108 started. Searching for the next optimal point.\n",
      "[100, 99, 'sqrt', 2, 1, False]\n",
      "Iteration No: 108 ended. Search finished for the next optimal point.\n",
      "Time taken: 3.5945\n",
      "Function value obtained: -0.3974\n",
      "Current minimum: -0.4347\n",
      "Iteration No: 109 started. Searching for the next optimal point.\n",
      "[100, 10, 'sqrt', 2, 1, False]\n"
     ]
    },
    {
     "name": "stderr",
     "output_type": "stream",
     "text": [
      "/home/carcook/anaconda3/envs/TCGA-round1/lib/python3.8/site-packages/skopt/optimizer/optimizer.py:449: UserWarning: The objective has been evaluated at this point before.\n",
      "  warnings.warn(\"The objective has been evaluated \"\n"
     ]
    },
    {
     "name": "stdout",
     "output_type": "stream",
     "text": [
      "Iteration No: 109 ended. Search finished for the next optimal point.\n",
      "Time taken: 2.4881\n",
      "Function value obtained: -0.4093\n",
      "Current minimum: -0.4347\n",
      "Iteration No: 110 started. Searching for the next optimal point.\n",
      "[100, 31, 'sqrt', 2, 1, False]\n",
      "Iteration No: 110 ended. Search finished for the next optimal point.\n",
      "Time taken: 2.9748\n",
      "Function value obtained: -0.4027\n",
      "Current minimum: -0.4347\n",
      "Iteration No: 111 started. Searching for the next optimal point.\n",
      "[107, 13, 'sqrt', 2, 1, True]\n",
      "Iteration No: 111 ended. Search finished for the next optimal point.\n",
      "Time taken: 3.4943\n",
      "Function value obtained: -0.3854\n",
      "Current minimum: -0.4347\n",
      "Iteration No: 112 started. Searching for the next optimal point.\n",
      "[100, 10, 'sqrt', 2, 1, False]\n"
     ]
    },
    {
     "name": "stderr",
     "output_type": "stream",
     "text": [
      "/home/carcook/anaconda3/envs/TCGA-round1/lib/python3.8/site-packages/skopt/optimizer/optimizer.py:449: UserWarning: The objective has been evaluated at this point before.\n",
      "  warnings.warn(\"The objective has been evaluated \"\n"
     ]
    },
    {
     "name": "stdout",
     "output_type": "stream",
     "text": [
      "Iteration No: 112 ended. Search finished for the next optimal point.\n",
      "Time taken: 2.4358\n",
      "Function value obtained: -0.3922\n",
      "Current minimum: -0.4347\n",
      "Iteration No: 113 started. Searching for the next optimal point.\n",
      "[103, 63, 'auto', 4, 1, True]\n",
      "Iteration No: 113 ended. Search finished for the next optimal point.\n",
      "Time taken: 3.2008\n",
      "Function value obtained: -0.3759\n",
      "Current minimum: -0.4347\n",
      "Iteration No: 114 started. Searching for the next optimal point.\n",
      "[100, 10, 'sqrt', 2, 1, False]\n"
     ]
    },
    {
     "name": "stderr",
     "output_type": "stream",
     "text": [
      "/home/carcook/anaconda3/envs/TCGA-round1/lib/python3.8/site-packages/skopt/optimizer/optimizer.py:449: UserWarning: The objective has been evaluated at this point before.\n",
      "  warnings.warn(\"The objective has been evaluated \"\n"
     ]
    },
    {
     "name": "stdout",
     "output_type": "stream",
     "text": [
      "Iteration No: 114 ended. Search finished for the next optimal point.\n",
      "Time taken: 3.2912\n",
      "Function value obtained: -0.4052\n",
      "Current minimum: -0.4347\n",
      "Iteration No: 115 started. Searching for the next optimal point.\n",
      "[100, 10, 'sqrt', 2, 1, False]\n"
     ]
    },
    {
     "name": "stderr",
     "output_type": "stream",
     "text": [
      "/home/carcook/anaconda3/envs/TCGA-round1/lib/python3.8/site-packages/skopt/optimizer/optimizer.py:449: UserWarning: The objective has been evaluated at this point before.\n",
      "  warnings.warn(\"The objective has been evaluated \"\n"
     ]
    },
    {
     "name": "stdout",
     "output_type": "stream",
     "text": [
      "Iteration No: 115 ended. Search finished for the next optimal point.\n",
      "Time taken: 3.1675\n",
      "Function value obtained: -0.4009\n",
      "Current minimum: -0.4347\n",
      "Iteration No: 116 started. Searching for the next optimal point.\n",
      "[996, 43, 'log2', 2, 1, False]\n",
      "Iteration No: 116 ended. Search finished for the next optimal point.\n",
      "Time taken: 5.9587\n",
      "Function value obtained: -0.3794\n",
      "Current minimum: -0.4347\n",
      "Iteration No: 117 started. Searching for the next optimal point.\n",
      "[100, 100, 'sqrt', 2, 1, False]\n",
      "Iteration No: 117 ended. Search finished for the next optimal point.\n",
      "Time taken: 2.3866\n",
      "Function value obtained: -0.4092\n",
      "Current minimum: -0.4347\n",
      "Iteration No: 118 started. Searching for the next optimal point.\n",
      "[106, 65, 'auto', 4, 3, False]\n",
      "Iteration No: 118 ended. Search finished for the next optimal point.\n",
      "Time taken: 2.6046\n",
      "Function value obtained: -0.3978\n",
      "Current minimum: -0.4347\n",
      "Iteration No: 119 started. Searching for the next optimal point.\n",
      "[990, 38, 'auto', 2, 3, True]\n",
      "Iteration No: 119 ended. Search finished for the next optimal point.\n",
      "Time taken: 7.6728\n",
      "Function value obtained: -0.3681\n",
      "Current minimum: -0.4347\n",
      "Iteration No: 120 started. Searching for the next optimal point.\n",
      "[111, 75, 'sqrt', 4, 3, True]\n",
      "Iteration No: 120 ended. Search finished for the next optimal point.\n",
      "Time taken: 3.3009\n",
      "Function value obtained: -0.3742\n",
      "Current minimum: -0.4347\n",
      "Iteration No: 121 started. Searching for the next optimal point.\n",
      "[100, 100, 'sqrt', 2, 1, False]\n"
     ]
    },
    {
     "name": "stderr",
     "output_type": "stream",
     "text": [
      "/home/carcook/anaconda3/envs/TCGA-round1/lib/python3.8/site-packages/skopt/optimizer/optimizer.py:449: UserWarning: The objective has been evaluated at this point before.\n",
      "  warnings.warn(\"The objective has been evaluated \"\n"
     ]
    },
    {
     "name": "stdout",
     "output_type": "stream",
     "text": [
      "Iteration No: 121 ended. Search finished for the next optimal point.\n",
      "Time taken: 2.9869\n",
      "Function value obtained: -0.4357\n",
      "Current minimum: -0.4357\n",
      "Iteration No: 122 started. Searching for the next optimal point.\n",
      "[100, 72, 'sqrt', 2, 1, True]\n",
      "Iteration No: 122 ended. Search finished for the next optimal point.\n",
      "Time taken: 4.2803\n",
      "Function value obtained: -0.3813\n",
      "Current minimum: -0.4357\n",
      "Iteration No: 123 started. Searching for the next optimal point.\n",
      "[103, 11, 'auto', 4, 3, True]\n",
      "Iteration No: 123 ended. Search finished for the next optimal point.\n",
      "Time taken: 3.4431\n",
      "Function value obtained: -0.3774\n",
      "Current minimum: -0.4357\n",
      "Iteration No: 124 started. Searching for the next optimal point.\n",
      "[100, 100, 'sqrt', 2, 1, False]\n"
     ]
    },
    {
     "name": "stderr",
     "output_type": "stream",
     "text": [
      "/home/carcook/anaconda3/envs/TCGA-round1/lib/python3.8/site-packages/skopt/optimizer/optimizer.py:449: UserWarning: The objective has been evaluated at this point before.\n",
      "  warnings.warn(\"The objective has been evaluated \"\n"
     ]
    },
    {
     "name": "stdout",
     "output_type": "stream",
     "text": [
      "*****redundant*****\n",
      "Iteration No: 124 ended. Search finished for the next optimal point.\n",
      "Time taken: 2.7636\n",
      "Function value obtained: -0.3863\n",
      "Current minimum: -0.4357\n",
      "Iteration No: 125 started. Searching for the next optimal point.\n",
      "[100, 10, 'sqrt', 2, 1, False]\n"
     ]
    },
    {
     "name": "stderr",
     "output_type": "stream",
     "text": [
      "/home/carcook/anaconda3/envs/TCGA-round1/lib/python3.8/site-packages/skopt/optimizer/optimizer.py:449: UserWarning: The objective has been evaluated at this point before.\n",
      "  warnings.warn(\"The objective has been evaluated \"\n"
     ]
    },
    {
     "name": "stdout",
     "output_type": "stream",
     "text": [
      "Iteration No: 125 ended. Search finished for the next optimal point.\n",
      "Time taken: 4.0289\n",
      "Function value obtained: -0.4183\n",
      "Current minimum: -0.4357\n",
      "Iteration No: 126 started. Searching for the next optimal point.\n",
      "[100, 100, 'sqrt', 2, 1, False]\n"
     ]
    },
    {
     "name": "stderr",
     "output_type": "stream",
     "text": [
      "/home/carcook/anaconda3/envs/TCGA-round1/lib/python3.8/site-packages/skopt/optimizer/optimizer.py:449: UserWarning: The objective has been evaluated at this point before.\n",
      "  warnings.warn(\"The objective has been evaluated \"\n"
     ]
    },
    {
     "name": "stdout",
     "output_type": "stream",
     "text": [
      "*****redundant*****\n",
      "Iteration No: 126 ended. Search finished for the next optimal point.\n",
      "Time taken: 2.8752\n",
      "Function value obtained: -0.4137\n",
      "Current minimum: -0.4357\n",
      "Iteration No: 127 started. Searching for the next optimal point.\n",
      "[101, 95, 'sqrt', 4, 3, False]\n",
      "Iteration No: 127 ended. Search finished for the next optimal point.\n",
      "Time taken: 3.6653\n",
      "Function value obtained: -0.3877\n",
      "Current minimum: -0.4357\n",
      "Iteration No: 128 started. Searching for the next optimal point.\n",
      "[112, 77, 'log2', 2, 1, True]\n",
      "Iteration No: 128 ended. Search finished for the next optimal point.\n",
      "Time taken: 4.5366\n",
      "Function value obtained: -0.3690\n",
      "Current minimum: -0.4357\n",
      "Iteration No: 129 started. Searching for the next optimal point.\n",
      "[1000, 53, 'sqrt', 2, 3, False]\n",
      "Iteration No: 129 ended. Search finished for the next optimal point.\n",
      "Time taken: 7.9976\n",
      "Function value obtained: -0.3976\n",
      "Current minimum: -0.4357\n",
      "Iteration No: 130 started. Searching for the next optimal point.\n",
      "[111, 15, 'auto', 4, 3, False]\n",
      "Iteration No: 130 ended. Search finished for the next optimal point.\n",
      "Time taken: 3.5606\n",
      "Function value obtained: -0.4090\n",
      "Current minimum: -0.4357\n",
      "Iteration No: 131 started. Searching for the next optimal point.\n",
      "[100, 100, 'sqrt', 2, 1, False]\n"
     ]
    },
    {
     "name": "stderr",
     "output_type": "stream",
     "text": [
      "/home/carcook/anaconda3/envs/TCGA-round1/lib/python3.8/site-packages/skopt/optimizer/optimizer.py:449: UserWarning: The objective has been evaluated at this point before.\n",
      "  warnings.warn(\"The objective has been evaluated \"\n"
     ]
    },
    {
     "name": "stdout",
     "output_type": "stream",
     "text": [
      "*****redundant*****\n",
      "Iteration No: 131 ended. Search finished for the next optimal point.\n",
      "Time taken: 3.8619\n",
      "Function value obtained: -0.3946\n",
      "Current minimum: -0.4357\n",
      "Iteration No: 132 started. Searching for the next optimal point.\n",
      "[114, 50, 'log2', 2, 3, False]\n",
      "Iteration No: 132 ended. Search finished for the next optimal point.\n",
      "Time taken: 3.4721\n",
      "Function value obtained: -0.3929\n",
      "Current minimum: -0.4357\n",
      "Iteration No: 133 started. Searching for the next optimal point.\n",
      "[100, 10, 'sqrt', 2, 1, False]\n"
     ]
    },
    {
     "name": "stderr",
     "output_type": "stream",
     "text": [
      "/home/carcook/anaconda3/envs/TCGA-round1/lib/python3.8/site-packages/skopt/optimizer/optimizer.py:449: UserWarning: The objective has been evaluated at this point before.\n",
      "  warnings.warn(\"The objective has been evaluated \"\n"
     ]
    },
    {
     "name": "stdout",
     "output_type": "stream",
     "text": [
      "*****redundant*****\n",
      "Iteration No: 133 ended. Search finished for the next optimal point.\n",
      "Time taken: 4.6397\n",
      "Function value obtained: -0.4029\n",
      "Current minimum: -0.4357\n",
      "Iteration No: 134 started. Searching for the next optimal point.\n",
      "[100, 10, 'sqrt', 2, 1, False]\n"
     ]
    },
    {
     "name": "stderr",
     "output_type": "stream",
     "text": [
      "/home/carcook/anaconda3/envs/TCGA-round1/lib/python3.8/site-packages/skopt/optimizer/optimizer.py:449: UserWarning: The objective has been evaluated at this point before.\n",
      "  warnings.warn(\"The objective has been evaluated \"\n"
     ]
    },
    {
     "name": "stdout",
     "output_type": "stream",
     "text": [
      "*****redundant*****\n",
      "Iteration No: 134 ended. Search finished for the next optimal point.\n",
      "Time taken: 4.2164\n",
      "Function value obtained: -0.3979\n",
      "Current minimum: -0.4357\n",
      "Iteration No: 135 started. Searching for the next optimal point.\n",
      "[100, 100, 'sqrt', 2, 1, False]\n"
     ]
    },
    {
     "name": "stderr",
     "output_type": "stream",
     "text": [
      "/home/carcook/anaconda3/envs/TCGA-round1/lib/python3.8/site-packages/skopt/optimizer/optimizer.py:449: UserWarning: The objective has been evaluated at this point before.\n",
      "  warnings.warn(\"The objective has been evaluated \"\n"
     ]
    },
    {
     "name": "stdout",
     "output_type": "stream",
     "text": [
      "*****redundant*****\n",
      "Iteration No: 135 ended. Search finished for the next optimal point.\n",
      "Time taken: 3.0084\n",
      "Function value obtained: -0.4006\n",
      "Current minimum: -0.4357\n",
      "Iteration No: 136 started. Searching for the next optimal point.\n",
      "[100, 10, 'sqrt', 2, 1, False]\n"
     ]
    },
    {
     "name": "stderr",
     "output_type": "stream",
     "text": [
      "/home/carcook/anaconda3/envs/TCGA-round1/lib/python3.8/site-packages/skopt/optimizer/optimizer.py:449: UserWarning: The objective has been evaluated at this point before.\n",
      "  warnings.warn(\"The objective has been evaluated \"\n"
     ]
    },
    {
     "name": "stdout",
     "output_type": "stream",
     "text": [
      "*****redundant*****\n",
      "Iteration No: 136 ended. Search finished for the next optimal point.\n",
      "Time taken: 4.0923\n",
      "Function value obtained: -0.4045\n",
      "Current minimum: -0.4357\n",
      "Iteration No: 137 started. Searching for the next optimal point.\n",
      "[990, 77, 'sqrt', 2, 1, False]\n",
      "Iteration No: 137 ended. Search finished for the next optimal point.\n",
      "Time taken: 7.6318\n",
      "Function value obtained: -0.3992\n",
      "Current minimum: -0.4357\n",
      "Iteration No: 138 started. Searching for the next optimal point.\n",
      "[999, 65, 'auto', 4, 1, True]\n",
      "Iteration No: 138 ended. Search finished for the next optimal point.\n",
      "Time taken: 7.9369\n",
      "Function value obtained: -0.3860\n",
      "Current minimum: -0.4357\n",
      "Iteration No: 139 started. Searching for the next optimal point.\n",
      "[996, 85, 'auto', 4, 3, False]\n",
      "Iteration No: 139 ended. Search finished for the next optimal point.\n",
      "Time taken: 6.9320\n",
      "Function value obtained: -0.3961\n",
      "Current minimum: -0.4357\n",
      "Iteration No: 140 started. Searching for the next optimal point.\n",
      "[100, 10, 'sqrt', 2, 1, False]\n"
     ]
    },
    {
     "name": "stderr",
     "output_type": "stream",
     "text": [
      "/home/carcook/anaconda3/envs/TCGA-round1/lib/python3.8/site-packages/skopt/optimizer/optimizer.py:449: UserWarning: The objective has been evaluated at this point before.\n",
      "  warnings.warn(\"The objective has been evaluated \"\n"
     ]
    },
    {
     "name": "stdout",
     "output_type": "stream",
     "text": [
      "*****redundant*****\n",
      "Iteration No: 140 ended. Search finished for the next optimal point.\n",
      "Time taken: 4.3258\n",
      "Function value obtained: -0.3915\n",
      "Current minimum: -0.4357\n",
      "Iteration No: 141 started. Searching for the next optimal point.\n",
      "[104, 38, 'sqrt', 2, 3, False]\n",
      "Iteration No: 141 ended. Search finished for the next optimal point.\n",
      "Time taken: 4.0977\n",
      "Function value obtained: -0.3781\n",
      "Current minimum: -0.4357\n",
      "Iteration No: 142 started. Searching for the next optimal point.\n",
      "[100, 100, 'sqrt', 2, 1, False]\n"
     ]
    },
    {
     "name": "stderr",
     "output_type": "stream",
     "text": [
      "/home/carcook/anaconda3/envs/TCGA-round1/lib/python3.8/site-packages/skopt/optimizer/optimizer.py:449: UserWarning: The objective has been evaluated at this point before.\n",
      "  warnings.warn(\"The objective has been evaluated \"\n"
     ]
    },
    {
     "name": "stdout",
     "output_type": "stream",
     "text": [
      "*****redundant*****\n",
      "Iteration No: 142 ended. Search finished for the next optimal point.\n",
      "Time taken: 4.0347\n",
      "Function value obtained: -0.4130\n",
      "Current minimum: -0.4357\n",
      "Iteration No: 143 started. Searching for the next optimal point.\n",
      "[106, 73, 'auto', 4, 3, False]\n",
      "Iteration No: 143 ended. Search finished for the next optimal point.\n",
      "Time taken: 4.5801\n",
      "Function value obtained: -0.3743\n",
      "Current minimum: -0.4357\n",
      "Iteration No: 144 started. Searching for the next optimal point.\n",
      "[100, 100, 'sqrt', 2, 1, False]\n"
     ]
    },
    {
     "name": "stderr",
     "output_type": "stream",
     "text": [
      "/home/carcook/anaconda3/envs/TCGA-round1/lib/python3.8/site-packages/skopt/optimizer/optimizer.py:449: UserWarning: The objective has been evaluated at this point before.\n",
      "  warnings.warn(\"The objective has been evaluated \"\n"
     ]
    },
    {
     "name": "stdout",
     "output_type": "stream",
     "text": [
      "*****redundant*****\n",
      "Iteration No: 144 ended. Search finished for the next optimal point.\n",
      "Time taken: 4.1685\n",
      "Function value obtained: -0.3968\n",
      "Current minimum: -0.4357\n",
      "Iteration No: 145 started. Searching for the next optimal point.\n",
      "[100, 100, 'sqrt', 2, 1, False]\n"
     ]
    },
    {
     "name": "stderr",
     "output_type": "stream",
     "text": [
      "/home/carcook/anaconda3/envs/TCGA-round1/lib/python3.8/site-packages/skopt/optimizer/optimizer.py:449: UserWarning: The objective has been evaluated at this point before.\n",
      "  warnings.warn(\"The objective has been evaluated \"\n"
     ]
    },
    {
     "name": "stdout",
     "output_type": "stream",
     "text": [
      "*****redundant*****\n",
      "Iteration No: 145 ended. Search finished for the next optimal point.\n",
      "Time taken: 5.0288\n",
      "Function value obtained: -0.4041\n",
      "Current minimum: -0.4357\n",
      "Iteration No: 146 started. Searching for the next optimal point.\n",
      "[993, 56, 'sqrt', 2, 1, True]\n",
      "Iteration No: 146 ended. Search finished for the next optimal point.\n",
      "Time taken: 8.6292\n",
      "Function value obtained: -0.3699\n",
      "Current minimum: -0.4357\n",
      "Iteration No: 147 started. Searching for the next optimal point.\n",
      "[100, 100, 'sqrt', 2, 1, False]\n"
     ]
    },
    {
     "name": "stderr",
     "output_type": "stream",
     "text": [
      "/home/carcook/anaconda3/envs/TCGA-round1/lib/python3.8/site-packages/skopt/optimizer/optimizer.py:449: UserWarning: The objective has been evaluated at this point before.\n",
      "  warnings.warn(\"The objective has been evaluated \"\n"
     ]
    },
    {
     "name": "stdout",
     "output_type": "stream",
     "text": [
      "*****redundant*****\n",
      "Iteration No: 147 ended. Search finished for the next optimal point.\n",
      "Time taken: 4.3358\n",
      "Function value obtained: -0.4034\n",
      "Current minimum: -0.4357\n",
      "Iteration No: 148 started. Searching for the next optimal point.\n",
      "[100, 100, 'sqrt', 2, 1, False]\n"
     ]
    },
    {
     "name": "stderr",
     "output_type": "stream",
     "text": [
      "/home/carcook/anaconda3/envs/TCGA-round1/lib/python3.8/site-packages/skopt/optimizer/optimizer.py:449: UserWarning: The objective has been evaluated at this point before.\n",
      "  warnings.warn(\"The objective has been evaluated \"\n"
     ]
    },
    {
     "name": "stdout",
     "output_type": "stream",
     "text": [
      "*****redundant*****\n",
      "Iteration No: 148 ended. Search finished for the next optimal point.\n",
      "Time taken: 3.9331\n",
      "Function value obtained: -0.3954\n",
      "Current minimum: -0.4357\n",
      "Iteration No: 149 started. Searching for the next optimal point.\n",
      "[993, 21, 'auto', 2, 3, False]\n",
      "Iteration No: 149 ended. Search finished for the next optimal point.\n",
      "Time taken: 8.6862\n",
      "Function value obtained: -0.3971\n",
      "Current minimum: -0.4357\n",
      "Iteration No: 150 started. Searching for the next optimal point.\n",
      "[100, 10, 'sqrt', 2, 1, False]\n"
     ]
    },
    {
     "name": "stderr",
     "output_type": "stream",
     "text": [
      "/home/carcook/anaconda3/envs/TCGA-round1/lib/python3.8/site-packages/skopt/optimizer/optimizer.py:449: UserWarning: The objective has been evaluated at this point before.\n",
      "  warnings.warn(\"The objective has been evaluated \"\n"
     ]
    },
    {
     "name": "stdout",
     "output_type": "stream",
     "text": [
      "*****redundant*****\n",
      "Iteration No: 150 ended. Search finished for the next optimal point.\n",
      "Time taken: 4.6009\n",
      "Function value obtained: -0.4014\n",
      "Current minimum: -0.4357\n",
      "Iteration No: 151 started. Searching for the next optimal point.\n",
      "[107, 79, 'auto', 4, 1, True]\n",
      "Iteration No: 151 ended. Search finished for the next optimal point.\n",
      "Time taken: 4.0894\n",
      "Function value obtained: -0.3927\n",
      "Current minimum: -0.4357\n",
      "Iteration No: 152 started. Searching for the next optimal point.\n",
      "[100, 100, 'sqrt', 2, 1, False]\n"
     ]
    },
    {
     "name": "stderr",
     "output_type": "stream",
     "text": [
      "/home/carcook/anaconda3/envs/TCGA-round1/lib/python3.8/site-packages/skopt/optimizer/optimizer.py:449: UserWarning: The objective has been evaluated at this point before.\n",
      "  warnings.warn(\"The objective has been evaluated \"\n"
     ]
    },
    {
     "name": "stdout",
     "output_type": "stream",
     "text": [
      "*****redundant*****\n",
      "Iteration No: 152 ended. Search finished for the next optimal point.\n",
      "Time taken: 5.2516\n",
      "Function value obtained: -0.3907\n",
      "Current minimum: -0.4357\n",
      "Iteration No: 153 started. Searching for the next optimal point.\n",
      "[100, 10, 'sqrt', 2, 1, False]\n"
     ]
    },
    {
     "name": "stderr",
     "output_type": "stream",
     "text": [
      "/home/carcook/anaconda3/envs/TCGA-round1/lib/python3.8/site-packages/skopt/optimizer/optimizer.py:449: UserWarning: The objective has been evaluated at this point before.\n",
      "  warnings.warn(\"The objective has been evaluated \"\n"
     ]
    },
    {
     "name": "stdout",
     "output_type": "stream",
     "text": [
      "*****redundant*****\n",
      "Iteration No: 153 ended. Search finished for the next optimal point.\n",
      "Time taken: 3.5942\n",
      "Function value obtained: -0.4045\n",
      "Current minimum: -0.4357\n",
      "Iteration No: 154 started. Searching for the next optimal point.\n",
      "[100, 10, 'sqrt', 2, 1, False]\n"
     ]
    },
    {
     "name": "stderr",
     "output_type": "stream",
     "text": [
      "/home/carcook/anaconda3/envs/TCGA-round1/lib/python3.8/site-packages/skopt/optimizer/optimizer.py:449: UserWarning: The objective has been evaluated at this point before.\n",
      "  warnings.warn(\"The objective has been evaluated \"\n"
     ]
    },
    {
     "name": "stdout",
     "output_type": "stream",
     "text": [
      "*****redundant*****\n",
      "Iteration No: 154 ended. Search finished for the next optimal point.\n",
      "Time taken: 3.8968\n",
      "Function value obtained: -0.4090\n",
      "Current minimum: -0.4357\n",
      "Iteration No: 155 started. Searching for the next optimal point.\n",
      "[100, 10, 'sqrt', 2, 1, False]\n"
     ]
    },
    {
     "name": "stderr",
     "output_type": "stream",
     "text": [
      "/home/carcook/anaconda3/envs/TCGA-round1/lib/python3.8/site-packages/skopt/optimizer/optimizer.py:449: UserWarning: The objective has been evaluated at this point before.\n",
      "  warnings.warn(\"The objective has been evaluated \"\n"
     ]
    },
    {
     "name": "stdout",
     "output_type": "stream",
     "text": [
      "*****redundant*****\n",
      "Iteration No: 155 ended. Search finished for the next optimal point.\n",
      "Time taken: 4.6293\n",
      "Function value obtained: -0.4270\n",
      "Current minimum: -0.4357\n",
      "Iteration No: 156 started. Searching for the next optimal point.\n",
      "[997, 31, 'auto', 4, 1, False]\n",
      "Iteration No: 156 ended. Search finished for the next optimal point.\n",
      "Time taken: 7.6884\n",
      "Function value obtained: -0.3992\n",
      "Current minimum: -0.4357\n",
      "Iteration No: 157 started. Searching for the next optimal point.\n",
      "[100, 10, 'sqrt', 2, 1, False]\n"
     ]
    },
    {
     "name": "stderr",
     "output_type": "stream",
     "text": [
      "/home/carcook/anaconda3/envs/TCGA-round1/lib/python3.8/site-packages/skopt/optimizer/optimizer.py:449: UserWarning: The objective has been evaluated at this point before.\n",
      "  warnings.warn(\"The objective has been evaluated \"\n"
     ]
    },
    {
     "name": "stdout",
     "output_type": "stream",
     "text": [
      "*****redundant*****\n",
      "Iteration No: 157 ended. Search finished for the next optimal point.\n",
      "Time taken: 4.9558\n",
      "Function value obtained: -0.4103\n",
      "Current minimum: -0.4357\n",
      "Iteration No: 158 started. Searching for the next optimal point.\n",
      "[100, 10, 'sqrt', 2, 1, False]\n"
     ]
    },
    {
     "name": "stderr",
     "output_type": "stream",
     "text": [
      "/home/carcook/anaconda3/envs/TCGA-round1/lib/python3.8/site-packages/skopt/optimizer/optimizer.py:449: UserWarning: The objective has been evaluated at this point before.\n",
      "  warnings.warn(\"The objective has been evaluated \"\n"
     ]
    },
    {
     "name": "stdout",
     "output_type": "stream",
     "text": [
      "*****redundant*****\n",
      "Iteration No: 158 ended. Search finished for the next optimal point.\n",
      "Time taken: 4.4445\n",
      "Function value obtained: -0.3969\n",
      "Current minimum: -0.4357\n",
      "Iteration No: 159 started. Searching for the next optimal point.\n",
      "[100, 10, 'sqrt', 2, 1, False]\n"
     ]
    },
    {
     "name": "stderr",
     "output_type": "stream",
     "text": [
      "/home/carcook/anaconda3/envs/TCGA-round1/lib/python3.8/site-packages/skopt/optimizer/optimizer.py:449: UserWarning: The objective has been evaluated at this point before.\n",
      "  warnings.warn(\"The objective has been evaluated \"\n"
     ]
    },
    {
     "name": "stdout",
     "output_type": "stream",
     "text": [
      "*****redundant*****\n",
      "Iteration No: 159 ended. Search finished for the next optimal point.\n",
      "Time taken: 5.2862\n",
      "Function value obtained: -0.4075\n",
      "Current minimum: -0.4357\n",
      "Iteration No: 160 started. Searching for the next optimal point.\n",
      "[100, 10, 'sqrt', 2, 1, False]\n"
     ]
    },
    {
     "name": "stderr",
     "output_type": "stream",
     "text": [
      "/home/carcook/anaconda3/envs/TCGA-round1/lib/python3.8/site-packages/skopt/optimizer/optimizer.py:449: UserWarning: The objective has been evaluated at this point before.\n",
      "  warnings.warn(\"The objective has been evaluated \"\n"
     ]
    },
    {
     "name": "stdout",
     "output_type": "stream",
     "text": [
      "*****redundant*****\n",
      "Iteration No: 160 ended. Search finished for the next optimal point.\n",
      "Time taken: 4.9255\n",
      "Function value obtained: -0.3947\n",
      "Current minimum: -0.4357\n",
      "Iteration No: 161 started. Searching for the next optimal point.\n",
      "[100, 10, 'sqrt', 2, 1, False]\n"
     ]
    },
    {
     "name": "stderr",
     "output_type": "stream",
     "text": [
      "/home/carcook/anaconda3/envs/TCGA-round1/lib/python3.8/site-packages/skopt/optimizer/optimizer.py:449: UserWarning: The objective has been evaluated at this point before.\n",
      "  warnings.warn(\"The objective has been evaluated \"\n"
     ]
    },
    {
     "name": "stdout",
     "output_type": "stream",
     "text": [
      "*****redundant*****\n",
      "Iteration No: 161 ended. Search finished for the next optimal point.\n",
      "Time taken: 4.5122\n",
      "Function value obtained: -0.3984\n",
      "Current minimum: -0.4357\n",
      "Iteration No: 162 started. Searching for the next optimal point.\n",
      "[992, 71, 'auto', 2, 1, True]\n",
      "Iteration No: 162 ended. Search finished for the next optimal point.\n",
      "Time taken: 8.8229\n",
      "Function value obtained: -0.3721\n",
      "Current minimum: -0.4357\n",
      "Iteration No: 163 started. Searching for the next optimal point.\n",
      "[100, 10, 'sqrt', 2, 1, False]\n"
     ]
    },
    {
     "name": "stderr",
     "output_type": "stream",
     "text": [
      "/home/carcook/anaconda3/envs/TCGA-round1/lib/python3.8/site-packages/skopt/optimizer/optimizer.py:449: UserWarning: The objective has been evaluated at this point before.\n",
      "  warnings.warn(\"The objective has been evaluated \"\n"
     ]
    },
    {
     "name": "stdout",
     "output_type": "stream",
     "text": [
      "*****redundant*****\n",
      "Iteration No: 163 ended. Search finished for the next optimal point.\n",
      "Time taken: 4.9358\n",
      "Function value obtained: -0.3926\n",
      "Current minimum: -0.4357\n",
      "Iteration No: 164 started. Searching for the next optimal point.\n",
      "[100, 10, 'sqrt', 2, 1, False]\n"
     ]
    },
    {
     "name": "stderr",
     "output_type": "stream",
     "text": [
      "/home/carcook/anaconda3/envs/TCGA-round1/lib/python3.8/site-packages/skopt/optimizer/optimizer.py:449: UserWarning: The objective has been evaluated at this point before.\n",
      "  warnings.warn(\"The objective has been evaluated \"\n"
     ]
    },
    {
     "name": "stdout",
     "output_type": "stream",
     "text": [
      "*****redundant*****\n",
      "Iteration No: 164 ended. Search finished for the next optimal point.\n",
      "Time taken: 5.5192\n",
      "Function value obtained: -0.4132\n",
      "Current minimum: -0.4357\n",
      "Iteration No: 165 started. Searching for the next optimal point.\n",
      "[997, 19, 'log2', 2, 1, False]\n",
      "Iteration No: 165 ended. Search finished for the next optimal point.\n",
      "Time taken: 7.6286\n",
      "Function value obtained: -0.3779\n",
      "Current minimum: -0.4357\n",
      "Iteration No: 166 started. Searching for the next optimal point.\n",
      "[100, 10, 'sqrt', 2, 1, False]\n"
     ]
    },
    {
     "name": "stderr",
     "output_type": "stream",
     "text": [
      "/home/carcook/anaconda3/envs/TCGA-round1/lib/python3.8/site-packages/skopt/optimizer/optimizer.py:449: UserWarning: The objective has been evaluated at this point before.\n",
      "  warnings.warn(\"The objective has been evaluated \"\n"
     ]
    },
    {
     "name": "stdout",
     "output_type": "stream",
     "text": [
      "*****redundant*****\n",
      "Iteration No: 166 ended. Search finished for the next optimal point.\n",
      "Time taken: 4.6665\n",
      "Function value obtained: -0.4049\n",
      "Current minimum: -0.4357\n",
      "Iteration No: 167 started. Searching for the next optimal point.\n",
      "[106, 22, 'auto', 2, 3, True]\n",
      "Iteration No: 167 ended. Search finished for the next optimal point.\n",
      "Time taken: 4.3200\n",
      "Function value obtained: -0.3776\n",
      "Current minimum: -0.4357\n",
      "Iteration No: 168 started. Searching for the next optimal point.\n",
      "[100, 10, 'sqrt', 2, 1, False]\n"
     ]
    },
    {
     "name": "stderr",
     "output_type": "stream",
     "text": [
      "/home/carcook/anaconda3/envs/TCGA-round1/lib/python3.8/site-packages/skopt/optimizer/optimizer.py:449: UserWarning: The objective has been evaluated at this point before.\n",
      "  warnings.warn(\"The objective has been evaluated \"\n"
     ]
    },
    {
     "name": "stdout",
     "output_type": "stream",
     "text": [
      "*****redundant*****\n",
      "Iteration No: 168 ended. Search finished for the next optimal point.\n",
      "Time taken: 3.9453\n",
      "Function value obtained: -0.3981\n",
      "Current minimum: -0.4357\n",
      "Iteration No: 169 started. Searching for the next optimal point.\n",
      "[100, 10, 'sqrt', 2, 1, False]\n"
     ]
    },
    {
     "name": "stderr",
     "output_type": "stream",
     "text": [
      "/home/carcook/anaconda3/envs/TCGA-round1/lib/python3.8/site-packages/skopt/optimizer/optimizer.py:449: UserWarning: The objective has been evaluated at this point before.\n",
      "  warnings.warn(\"The objective has been evaluated \"\n"
     ]
    },
    {
     "name": "stdout",
     "output_type": "stream",
     "text": [
      "*****redundant*****\n",
      "Iteration No: 169 ended. Search finished for the next optimal point.\n",
      "Time taken: 5.3835\n",
      "Function value obtained: -0.3963\n",
      "Current minimum: -0.4357\n",
      "Iteration No: 170 started. Searching for the next optimal point.\n",
      "[100, 100, 'sqrt', 2, 1, False]\n"
     ]
    },
    {
     "name": "stderr",
     "output_type": "stream",
     "text": [
      "/home/carcook/anaconda3/envs/TCGA-round1/lib/python3.8/site-packages/skopt/optimizer/optimizer.py:449: UserWarning: The objective has been evaluated at this point before.\n",
      "  warnings.warn(\"The objective has been evaluated \"\n"
     ]
    },
    {
     "name": "stdout",
     "output_type": "stream",
     "text": [
      "*****redundant*****\n",
      "Iteration No: 170 ended. Search finished for the next optimal point.\n",
      "Time taken: 4.1891\n",
      "Function value obtained: -0.3930\n",
      "Current minimum: -0.4357\n",
      "Iteration No: 171 started. Searching for the next optimal point.\n",
      "[100, 10, 'sqrt', 2, 1, False]\n"
     ]
    },
    {
     "name": "stderr",
     "output_type": "stream",
     "text": [
      "/home/carcook/anaconda3/envs/TCGA-round1/lib/python3.8/site-packages/skopt/optimizer/optimizer.py:449: UserWarning: The objective has been evaluated at this point before.\n",
      "  warnings.warn(\"The objective has been evaluated \"\n"
     ]
    },
    {
     "name": "stdout",
     "output_type": "stream",
     "text": [
      "*****redundant*****\n",
      "Iteration No: 171 ended. Search finished for the next optimal point.\n",
      "Time taken: 4.8282\n",
      "Function value obtained: -0.3907\n",
      "Current minimum: -0.4357\n",
      "Iteration No: 172 started. Searching for the next optimal point.\n",
      "[100, 10, 'sqrt', 2, 1, False]\n"
     ]
    },
    {
     "name": "stderr",
     "output_type": "stream",
     "text": [
      "/home/carcook/anaconda3/envs/TCGA-round1/lib/python3.8/site-packages/skopt/optimizer/optimizer.py:449: UserWarning: The objective has been evaluated at this point before.\n",
      "  warnings.warn(\"The objective has been evaluated \"\n"
     ]
    },
    {
     "name": "stdout",
     "output_type": "stream",
     "text": [
      "*****redundant*****\n",
      "Iteration No: 172 ended. Search finished for the next optimal point.\n",
      "Time taken: 5.0651\n",
      "Function value obtained: -0.4063\n",
      "Current minimum: -0.4357\n",
      "Iteration No: 173 started. Searching for the next optimal point.\n",
      "[100, 10, 'sqrt', 2, 1, False]\n"
     ]
    },
    {
     "name": "stderr",
     "output_type": "stream",
     "text": [
      "/home/carcook/anaconda3/envs/TCGA-round1/lib/python3.8/site-packages/skopt/optimizer/optimizer.py:449: UserWarning: The objective has been evaluated at this point before.\n",
      "  warnings.warn(\"The objective has been evaluated \"\n"
     ]
    },
    {
     "name": "stdout",
     "output_type": "stream",
     "text": [
      "*****redundant*****\n",
      "Iteration No: 173 ended. Search finished for the next optimal point.\n",
      "Time taken: 4.8691\n",
      "Function value obtained: -0.3870\n",
      "Current minimum: -0.4357\n",
      "Iteration No: 174 started. Searching for the next optimal point.\n",
      "[100, 100, 'sqrt', 2, 1, False]\n"
     ]
    },
    {
     "name": "stderr",
     "output_type": "stream",
     "text": [
      "/home/carcook/anaconda3/envs/TCGA-round1/lib/python3.8/site-packages/skopt/optimizer/optimizer.py:449: UserWarning: The objective has been evaluated at this point before.\n",
      "  warnings.warn(\"The objective has been evaluated \"\n"
     ]
    },
    {
     "name": "stdout",
     "output_type": "stream",
     "text": [
      "*****redundant*****\n",
      "Iteration No: 174 ended. Search finished for the next optimal point.\n",
      "Time taken: 4.9387\n",
      "Function value obtained: -0.4275\n",
      "Current minimum: -0.4357\n",
      "Iteration No: 175 started. Searching for the next optimal point.\n",
      "[100, 100, 'sqrt', 2, 1, False]\n"
     ]
    },
    {
     "name": "stderr",
     "output_type": "stream",
     "text": [
      "/home/carcook/anaconda3/envs/TCGA-round1/lib/python3.8/site-packages/skopt/optimizer/optimizer.py:449: UserWarning: The objective has been evaluated at this point before.\n",
      "  warnings.warn(\"The objective has been evaluated \"\n"
     ]
    },
    {
     "name": "stdout",
     "output_type": "stream",
     "text": [
      "*****redundant*****\n",
      "Iteration No: 175 ended. Search finished for the next optimal point.\n",
      "Time taken: 5.2406\n",
      "Function value obtained: -0.3995\n",
      "Current minimum: -0.4357\n",
      "Iteration No: 176 started. Searching for the next optimal point.\n",
      "[100, 100, 'sqrt', 2, 1, False]\n"
     ]
    },
    {
     "name": "stderr",
     "output_type": "stream",
     "text": [
      "/home/carcook/anaconda3/envs/TCGA-round1/lib/python3.8/site-packages/skopt/optimizer/optimizer.py:449: UserWarning: The objective has been evaluated at this point before.\n",
      "  warnings.warn(\"The objective has been evaluated \"\n"
     ]
    },
    {
     "name": "stdout",
     "output_type": "stream",
     "text": [
      "*****redundant*****\n",
      "Iteration No: 176 ended. Search finished for the next optimal point.\n",
      "Time taken: 4.9029\n",
      "Function value obtained: -0.4201\n",
      "Current minimum: -0.4357\n",
      "Iteration No: 177 started. Searching for the next optimal point.\n",
      "[114, 86, 'auto', 2, 3, False]\n",
      "Iteration No: 177 ended. Search finished for the next optimal point.\n",
      "Time taken: 5.0018\n",
      "Function value obtained: -0.3929\n",
      "Current minimum: -0.4357\n",
      "Iteration No: 178 started. Searching for the next optimal point.\n",
      "[100, 39, 'sqrt', 4, 3, False]\n",
      "Iteration No: 178 ended. Search finished for the next optimal point.\n",
      "Time taken: 5.0910\n",
      "Function value obtained: -0.4055\n",
      "Current minimum: -0.4357\n",
      "Iteration No: 179 started. Searching for the next optimal point.\n",
      "[100, 100, 'sqrt', 2, 1, False]\n"
     ]
    },
    {
     "name": "stderr",
     "output_type": "stream",
     "text": [
      "/home/carcook/anaconda3/envs/TCGA-round1/lib/python3.8/site-packages/skopt/optimizer/optimizer.py:449: UserWarning: The objective has been evaluated at this point before.\n",
      "  warnings.warn(\"The objective has been evaluated \"\n"
     ]
    },
    {
     "name": "stdout",
     "output_type": "stream",
     "text": [
      "*****redundant*****\n",
      "Iteration No: 179 ended. Search finished for the next optimal point.\n",
      "Time taken: 5.8225\n",
      "Function value obtained: -0.3878\n",
      "Current minimum: -0.4357\n",
      "Iteration No: 180 started. Searching for the next optimal point.\n",
      "[100, 100, 'sqrt', 2, 1, False]\n"
     ]
    },
    {
     "name": "stderr",
     "output_type": "stream",
     "text": [
      "/home/carcook/anaconda3/envs/TCGA-round1/lib/python3.8/site-packages/skopt/optimizer/optimizer.py:449: UserWarning: The objective has been evaluated at this point before.\n",
      "  warnings.warn(\"The objective has been evaluated \"\n"
     ]
    },
    {
     "name": "stdout",
     "output_type": "stream",
     "text": [
      "*****redundant*****\n",
      "Iteration No: 180 ended. Search finished for the next optimal point.\n",
      "Time taken: 5.1562\n",
      "Function value obtained: -0.4179\n",
      "Current minimum: -0.4357\n",
      "Iteration No: 181 started. Searching for the next optimal point.\n",
      "[100, 100, 'sqrt', 2, 1, False]\n"
     ]
    },
    {
     "name": "stderr",
     "output_type": "stream",
     "text": [
      "/home/carcook/anaconda3/envs/TCGA-round1/lib/python3.8/site-packages/skopt/optimizer/optimizer.py:449: UserWarning: The objective has been evaluated at this point before.\n",
      "  warnings.warn(\"The objective has been evaluated \"\n"
     ]
    },
    {
     "name": "stdout",
     "output_type": "stream",
     "text": [
      "*****redundant*****\n",
      "Iteration No: 181 ended. Search finished for the next optimal point.\n",
      "Time taken: 5.3219\n",
      "Function value obtained: -0.4293\n",
      "Current minimum: -0.4357\n",
      "Iteration No: 182 started. Searching for the next optimal point.\n",
      "[995, 14, 'sqrt', 2, 3, False]\n",
      "Iteration No: 182 ended. Search finished for the next optimal point.\n",
      "Time taken: 9.5950\n",
      "Function value obtained: -0.4034\n",
      "Current minimum: -0.4357\n",
      "Iteration No: 183 started. Searching for the next optimal point.\n",
      "[100, 100, 'sqrt', 2, 1, False]\n"
     ]
    },
    {
     "name": "stderr",
     "output_type": "stream",
     "text": [
      "/home/carcook/anaconda3/envs/TCGA-round1/lib/python3.8/site-packages/skopt/optimizer/optimizer.py:449: UserWarning: The objective has been evaluated at this point before.\n",
      "  warnings.warn(\"The objective has been evaluated \"\n"
     ]
    },
    {
     "name": "stdout",
     "output_type": "stream",
     "text": [
      "*****redundant*****\n",
      "Iteration No: 183 ended. Search finished for the next optimal point.\n",
      "Time taken: 4.6791\n",
      "Function value obtained: -0.4049\n",
      "Current minimum: -0.4357\n",
      "Iteration No: 184 started. Searching for the next optimal point.\n",
      "[994, 95, 'sqrt', 4, 1, False]\n",
      "Iteration No: 184 ended. Search finished for the next optimal point.\n",
      "Time taken: 9.6917\n",
      "Function value obtained: -0.3946\n",
      "Current minimum: -0.4357\n",
      "Iteration No: 185 started. Searching for the next optimal point.\n",
      "[100, 100, 'sqrt', 2, 1, False]\n"
     ]
    },
    {
     "name": "stderr",
     "output_type": "stream",
     "text": [
      "/home/carcook/anaconda3/envs/TCGA-round1/lib/python3.8/site-packages/skopt/optimizer/optimizer.py:449: UserWarning: The objective has been evaluated at this point before.\n",
      "  warnings.warn(\"The objective has been evaluated \"\n"
     ]
    },
    {
     "name": "stdout",
     "output_type": "stream",
     "text": [
      "*****redundant*****\n",
      "Iteration No: 185 ended. Search finished for the next optimal point.\n",
      "Time taken: 6.1504\n",
      "Function value obtained: -0.3904\n",
      "Current minimum: -0.4357\n",
      "Iteration No: 186 started. Searching for the next optimal point.\n",
      "[100, 100, 'sqrt', 2, 1, False]\n"
     ]
    },
    {
     "name": "stderr",
     "output_type": "stream",
     "text": [
      "/home/carcook/anaconda3/envs/TCGA-round1/lib/python3.8/site-packages/skopt/optimizer/optimizer.py:449: UserWarning: The objective has been evaluated at this point before.\n",
      "  warnings.warn(\"The objective has been evaluated \"\n"
     ]
    },
    {
     "name": "stdout",
     "output_type": "stream",
     "text": [
      "*****redundant*****\n",
      "Iteration No: 186 ended. Search finished for the next optimal point.\n",
      "Time taken: 5.8000\n",
      "Function value obtained: -0.4045\n",
      "Current minimum: -0.4357\n",
      "Iteration No: 187 started. Searching for the next optimal point.\n",
      "[100, 100, 'sqrt', 2, 1, False]\n"
     ]
    },
    {
     "name": "stderr",
     "output_type": "stream",
     "text": [
      "/home/carcook/anaconda3/envs/TCGA-round1/lib/python3.8/site-packages/skopt/optimizer/optimizer.py:449: UserWarning: The objective has been evaluated at this point before.\n",
      "  warnings.warn(\"The objective has been evaluated \"\n"
     ]
    },
    {
     "name": "stdout",
     "output_type": "stream",
     "text": [
      "*****redundant*****\n",
      "Iteration No: 187 ended. Search finished for the next optimal point.\n",
      "Time taken: 6.0903\n",
      "Function value obtained: -0.3969\n",
      "Current minimum: -0.4357\n",
      "Iteration No: 188 started. Searching for the next optimal point.\n",
      "[100, 10, 'sqrt', 2, 1, False]\n"
     ]
    },
    {
     "name": "stderr",
     "output_type": "stream",
     "text": [
      "/home/carcook/anaconda3/envs/TCGA-round1/lib/python3.8/site-packages/skopt/optimizer/optimizer.py:449: UserWarning: The objective has been evaluated at this point before.\n",
      "  warnings.warn(\"The objective has been evaluated \"\n"
     ]
    },
    {
     "name": "stdout",
     "output_type": "stream",
     "text": [
      "*****redundant*****\n",
      "Iteration No: 188 ended. Search finished for the next optimal point.\n",
      "Time taken: 5.1117\n",
      "Function value obtained: -0.4003\n",
      "Current minimum: -0.4357\n",
      "Iteration No: 189 started. Searching for the next optimal point.\n",
      "[100, 100, 'sqrt', 2, 1, False]\n"
     ]
    },
    {
     "name": "stderr",
     "output_type": "stream",
     "text": [
      "/home/carcook/anaconda3/envs/TCGA-round1/lib/python3.8/site-packages/skopt/optimizer/optimizer.py:449: UserWarning: The objective has been evaluated at this point before.\n",
      "  warnings.warn(\"The objective has been evaluated \"\n"
     ]
    },
    {
     "name": "stdout",
     "output_type": "stream",
     "text": [
      "*****redundant*****\n",
      "Iteration No: 189 ended. Search finished for the next optimal point.\n",
      "Time taken: 5.6315\n",
      "Function value obtained: -0.4019\n",
      "Current minimum: -0.4357\n",
      "Iteration No: 190 started. Searching for the next optimal point.\n",
      "[994, 79, 'auto', 4, 3, True]\n",
      "Iteration No: 190 ended. Search finished for the next optimal point.\n",
      "Time taken: 9.7814\n",
      "Function value obtained: -0.3768\n",
      "Current minimum: -0.4357\n",
      "Iteration No: 191 started. Searching for the next optimal point.\n",
      "[100, 100, 'sqrt', 2, 1, False]\n"
     ]
    },
    {
     "name": "stderr",
     "output_type": "stream",
     "text": [
      "/home/carcook/anaconda3/envs/TCGA-round1/lib/python3.8/site-packages/skopt/optimizer/optimizer.py:449: UserWarning: The objective has been evaluated at this point before.\n",
      "  warnings.warn(\"The objective has been evaluated \"\n"
     ]
    },
    {
     "name": "stdout",
     "output_type": "stream",
     "text": [
      "*****redundant*****\n",
      "Iteration No: 191 ended. Search finished for the next optimal point.\n",
      "Time taken: 5.6317\n",
      "Function value obtained: -0.3826\n",
      "Current minimum: -0.4357\n",
      "Iteration No: 192 started. Searching for the next optimal point.\n",
      "[104, 76, 'sqrt', 4, 3, False]\n",
      "Iteration No: 192 ended. Search finished for the next optimal point.\n",
      "Time taken: 5.8092\n",
      "Function value obtained: -0.4129\n",
      "Current minimum: -0.4357\n",
      "Iteration No: 193 started. Searching for the next optimal point.\n",
      "[100, 100, 'sqrt', 2, 1, False]\n"
     ]
    },
    {
     "name": "stderr",
     "output_type": "stream",
     "text": [
      "/home/carcook/anaconda3/envs/TCGA-round1/lib/python3.8/site-packages/skopt/optimizer/optimizer.py:449: UserWarning: The objective has been evaluated at this point before.\n",
      "  warnings.warn(\"The objective has been evaluated \"\n"
     ]
    },
    {
     "name": "stdout",
     "output_type": "stream",
     "text": [
      "*****redundant*****\n",
      "Iteration No: 193 ended. Search finished for the next optimal point.\n",
      "Time taken: 6.0414\n",
      "Function value obtained: -0.4132\n",
      "Current minimum: -0.4357\n",
      "Iteration No: 194 started. Searching for the next optimal point.\n",
      "[984, 94, 'sqrt', 2, 3, False]\n",
      "Iteration No: 194 ended. Search finished for the next optimal point.\n",
      "Time taken: 9.8626\n",
      "Function value obtained: -0.3953\n",
      "Current minimum: -0.4357\n",
      "Iteration No: 195 started. Searching for the next optimal point.\n",
      "[999, 14, 'auto', 4, 3, False]\n",
      "Iteration No: 195 ended. Search finished for the next optimal point.\n",
      "Time taken: 11.1832\n",
      "Function value obtained: -0.3932\n",
      "Current minimum: -0.4357\n",
      "Iteration No: 196 started. Searching for the next optimal point.\n",
      "[100, 100, 'sqrt', 2, 1, False]\n"
     ]
    },
    {
     "name": "stderr",
     "output_type": "stream",
     "text": [
      "/home/carcook/anaconda3/envs/TCGA-round1/lib/python3.8/site-packages/skopt/optimizer/optimizer.py:449: UserWarning: The objective has been evaluated at this point before.\n",
      "  warnings.warn(\"The objective has been evaluated \"\n"
     ]
    },
    {
     "name": "stdout",
     "output_type": "stream",
     "text": [
      "*****redundant*****\n",
      "Iteration No: 196 ended. Search finished for the next optimal point.\n",
      "Time taken: 6.5480\n",
      "Function value obtained: -0.3995\n",
      "Current minimum: -0.4357\n",
      "Iteration No: 197 started. Searching for the next optimal point.\n",
      "[109, 56, 'sqrt', 4, 3, True]\n",
      "Iteration No: 197 ended. Search finished for the next optimal point.\n",
      "Time taken: 5.7073\n",
      "Function value obtained: -0.3718\n",
      "Current minimum: -0.4357\n",
      "Iteration No: 198 started. Searching for the next optimal point.\n",
      "[100, 100, 'sqrt', 2, 1, False]\n"
     ]
    },
    {
     "name": "stderr",
     "output_type": "stream",
     "text": [
      "/home/carcook/anaconda3/envs/TCGA-round1/lib/python3.8/site-packages/skopt/optimizer/optimizer.py:449: UserWarning: The objective has been evaluated at this point before.\n",
      "  warnings.warn(\"The objective has been evaluated \"\n"
     ]
    },
    {
     "name": "stdout",
     "output_type": "stream",
     "text": [
      "*****redundant*****\n",
      "Iteration No: 198 ended. Search finished for the next optimal point.\n",
      "Time taken: 6.5555\n",
      "Function value obtained: -0.3847\n",
      "Current minimum: -0.4357\n",
      "Iteration No: 199 started. Searching for the next optimal point.\n",
      "[100, 100, 'sqrt', 2, 1, False]\n"
     ]
    },
    {
     "name": "stderr",
     "output_type": "stream",
     "text": [
      "/home/carcook/anaconda3/envs/TCGA-round1/lib/python3.8/site-packages/skopt/optimizer/optimizer.py:449: UserWarning: The objective has been evaluated at this point before.\n",
      "  warnings.warn(\"The objective has been evaluated \"\n"
     ]
    },
    {
     "name": "stdout",
     "output_type": "stream",
     "text": [
      "*****redundant*****\n",
      "Iteration No: 199 ended. Search finished for the next optimal point.\n",
      "Time taken: 6.4672\n",
      "Function value obtained: -0.3889\n",
      "Current minimum: -0.4357\n",
      "Iteration No: 200 started. Searching for the next optimal point.\n",
      "[102, 75, 'sqrt', 4, 3, False]\n",
      "Iteration No: 200 ended. Search finished for the next optimal point.\n",
      "Time taken: 5.8069\n",
      "Function value obtained: -0.3898\n",
      "Current minimum: -0.4357\n",
      "Iteration No: 201 started. Searching for the next optimal point.\n",
      "[999, 28, 'auto', 4, 1, False]\n",
      "Iteration No: 201 ended. Search finished for the next optimal point.\n",
      "Time taken: 9.2620\n",
      "Function value obtained: -0.3976\n",
      "Current minimum: -0.4357\n",
      "Iteration No: 202 started. Searching for the next optimal point.\n",
      "[100, 10, 'sqrt', 2, 1, False]\n"
     ]
    },
    {
     "name": "stderr",
     "output_type": "stream",
     "text": [
      "/home/carcook/anaconda3/envs/TCGA-round1/lib/python3.8/site-packages/skopt/optimizer/optimizer.py:449: UserWarning: The objective has been evaluated at this point before.\n",
      "  warnings.warn(\"The objective has been evaluated \"\n"
     ]
    },
    {
     "name": "stdout",
     "output_type": "stream",
     "text": [
      "*****redundant*****\n",
      "Iteration No: 202 ended. Search finished for the next optimal point.\n",
      "Time taken: 4.9964\n",
      "Function value obtained: -0.4152\n",
      "Current minimum: -0.4357\n",
      "Iteration No: 203 started. Searching for the next optimal point.\n",
      "[100, 10, 'sqrt', 2, 1, False]\n"
     ]
    },
    {
     "name": "stderr",
     "output_type": "stream",
     "text": [
      "/home/carcook/anaconda3/envs/TCGA-round1/lib/python3.8/site-packages/skopt/optimizer/optimizer.py:449: UserWarning: The objective has been evaluated at this point before.\n",
      "  warnings.warn(\"The objective has been evaluated \"\n"
     ]
    },
    {
     "name": "stdout",
     "output_type": "stream",
     "text": [
      "*****redundant*****\n",
      "Iteration No: 203 ended. Search finished for the next optimal point.\n",
      "Time taken: 6.7068\n",
      "Function value obtained: -0.3778\n",
      "Current minimum: -0.4357\n",
      "Iteration No: 204 started. Searching for the next optimal point.\n",
      "[100, 100, 'sqrt', 2, 1, False]\n"
     ]
    },
    {
     "name": "stderr",
     "output_type": "stream",
     "text": [
      "/home/carcook/anaconda3/envs/TCGA-round1/lib/python3.8/site-packages/skopt/optimizer/optimizer.py:449: UserWarning: The objective has been evaluated at this point before.\n",
      "  warnings.warn(\"The objective has been evaluated \"\n"
     ]
    },
    {
     "name": "stdout",
     "output_type": "stream",
     "text": [
      "*****redundant*****\n",
      "Iteration No: 204 ended. Search finished for the next optimal point.\n",
      "Time taken: 6.3174\n",
      "Function value obtained: -0.3824\n",
      "Current minimum: -0.4357\n",
      "Iteration No: 205 started. Searching for the next optimal point.\n",
      "[100, 10, 'sqrt', 2, 1, False]\n"
     ]
    },
    {
     "name": "stderr",
     "output_type": "stream",
     "text": [
      "/home/carcook/anaconda3/envs/TCGA-round1/lib/python3.8/site-packages/skopt/optimizer/optimizer.py:449: UserWarning: The objective has been evaluated at this point before.\n",
      "  warnings.warn(\"The objective has been evaluated \"\n"
     ]
    },
    {
     "name": "stdout",
     "output_type": "stream",
     "text": [
      "*****redundant*****\n",
      "Iteration No: 205 ended. Search finished for the next optimal point.\n",
      "Time taken: 6.2893\n",
      "Function value obtained: -0.3920\n",
      "Current minimum: -0.4357\n",
      "Iteration No: 206 started. Searching for the next optimal point.\n",
      "[100, 10, 'sqrt', 2, 1, False]\n"
     ]
    },
    {
     "name": "stderr",
     "output_type": "stream",
     "text": [
      "/home/carcook/anaconda3/envs/TCGA-round1/lib/python3.8/site-packages/skopt/optimizer/optimizer.py:449: UserWarning: The objective has been evaluated at this point before.\n",
      "  warnings.warn(\"The objective has been evaluated \"\n"
     ]
    },
    {
     "name": "stdout",
     "output_type": "stream",
     "text": [
      "*****redundant*****\n",
      "Iteration No: 206 ended. Search finished for the next optimal point.\n",
      "Time taken: 6.3680\n",
      "Function value obtained: -0.3966\n",
      "Current minimum: -0.4357\n",
      "Iteration No: 207 started. Searching for the next optimal point.\n",
      "[100, 100, 'sqrt', 2, 1, False]\n"
     ]
    },
    {
     "name": "stderr",
     "output_type": "stream",
     "text": [
      "/home/carcook/anaconda3/envs/TCGA-round1/lib/python3.8/site-packages/skopt/optimizer/optimizer.py:449: UserWarning: The objective has been evaluated at this point before.\n",
      "  warnings.warn(\"The objective has been evaluated \"\n"
     ]
    },
    {
     "name": "stdout",
     "output_type": "stream",
     "text": [
      "*****redundant*****\n",
      "Iteration No: 207 ended. Search finished for the next optimal point.\n",
      "Time taken: 6.5987\n",
      "Function value obtained: -0.4241\n",
      "Current minimum: -0.4357\n",
      "Iteration No: 208 started. Searching for the next optimal point.\n",
      "[998, 20, 'sqrt', 4, 1, False]\n",
      "Iteration No: 208 ended. Search finished for the next optimal point.\n",
      "Time taken: 10.6781\n",
      "Function value obtained: -0.3965\n",
      "Current minimum: -0.4357\n",
      "Iteration No: 209 started. Searching for the next optimal point.\n",
      "[104, 99, 'log2', 2, 3, False]\n",
      "Iteration No: 209 ended. Search finished for the next optimal point.\n",
      "Time taken: 6.6096\n",
      "Function value obtained: -0.3776\n",
      "Current minimum: -0.4357\n",
      "Iteration No: 210 started. Searching for the next optimal point.\n",
      "[100, 100, 'sqrt', 2, 1, False]\n"
     ]
    },
    {
     "name": "stderr",
     "output_type": "stream",
     "text": [
      "/home/carcook/anaconda3/envs/TCGA-round1/lib/python3.8/site-packages/skopt/optimizer/optimizer.py:449: UserWarning: The objective has been evaluated at this point before.\n",
      "  warnings.warn(\"The objective has been evaluated \"\n"
     ]
    },
    {
     "name": "stdout",
     "output_type": "stream",
     "text": [
      "*****redundant*****\n",
      "Iteration No: 210 ended. Search finished for the next optimal point.\n",
      "Time taken: 8.3003\n",
      "Function value obtained: -0.3978\n",
      "Current minimum: -0.4357\n",
      "Iteration No: 211 started. Searching for the next optimal point.\n",
      "[994, 75, 'auto', 2, 3, False]\n",
      "Iteration No: 211 ended. Search finished for the next optimal point.\n",
      "Time taken: 10.9413\n",
      "Function value obtained: -0.3848\n",
      "Current minimum: -0.4357\n",
      "Iteration No: 212 started. Searching for the next optimal point.\n",
      "[103, 15, 'auto', 4, 1, True]\n",
      "Iteration No: 212 ended. Search finished for the next optimal point.\n",
      "Time taken: 6.7004\n",
      "Function value obtained: -0.3792\n",
      "Current minimum: -0.4357\n",
      "Iteration No: 213 started. Searching for the next optimal point.\n",
      "[100, 100, 'sqrt', 2, 1, False]\n"
     ]
    },
    {
     "name": "stderr",
     "output_type": "stream",
     "text": [
      "/home/carcook/anaconda3/envs/TCGA-round1/lib/python3.8/site-packages/skopt/optimizer/optimizer.py:449: UserWarning: The objective has been evaluated at this point before.\n",
      "  warnings.warn(\"The objective has been evaluated \"\n"
     ]
    },
    {
     "name": "stdout",
     "output_type": "stream",
     "text": [
      "*****redundant*****\n",
      "Iteration No: 213 ended. Search finished for the next optimal point.\n",
      "Time taken: 7.2424\n",
      "Function value obtained: -0.3947\n",
      "Current minimum: -0.4357\n",
      "Iteration No: 214 started. Searching for the next optimal point.\n",
      "[100, 100, 'sqrt', 2, 1, False]\n"
     ]
    },
    {
     "name": "stderr",
     "output_type": "stream",
     "text": [
      "/home/carcook/anaconda3/envs/TCGA-round1/lib/python3.8/site-packages/skopt/optimizer/optimizer.py:449: UserWarning: The objective has been evaluated at this point before.\n",
      "  warnings.warn(\"The objective has been evaluated \"\n"
     ]
    },
    {
     "name": "stdout",
     "output_type": "stream",
     "text": [
      "*****redundant*****\n",
      "Iteration No: 214 ended. Search finished for the next optimal point.\n",
      "Time taken: 7.8991\n",
      "Function value obtained: -0.3992\n",
      "Current minimum: -0.4357\n",
      "Iteration No: 215 started. Searching for the next optimal point.\n",
      "[100, 10, 'sqrt', 2, 1, False]\n"
     ]
    },
    {
     "name": "stderr",
     "output_type": "stream",
     "text": [
      "/home/carcook/anaconda3/envs/TCGA-round1/lib/python3.8/site-packages/skopt/optimizer/optimizer.py:449: UserWarning: The objective has been evaluated at this point before.\n",
      "  warnings.warn(\"The objective has been evaluated \"\n"
     ]
    },
    {
     "name": "stdout",
     "output_type": "stream",
     "text": [
      "*****redundant*****\n",
      "Iteration No: 215 ended. Search finished for the next optimal point.\n",
      "Time taken: 7.1213\n",
      "Function value obtained: -0.4068\n",
      "Current minimum: -0.4357\n",
      "Iteration No: 216 started. Searching for the next optimal point.\n",
      "[100, 10, 'sqrt', 2, 1, False]\n"
     ]
    },
    {
     "name": "stderr",
     "output_type": "stream",
     "text": [
      "/home/carcook/anaconda3/envs/TCGA-round1/lib/python3.8/site-packages/skopt/optimizer/optimizer.py:449: UserWarning: The objective has been evaluated at this point before.\n",
      "  warnings.warn(\"The objective has been evaluated \"\n"
     ]
    },
    {
     "name": "stdout",
     "output_type": "stream",
     "text": [
      "*****redundant*****\n",
      "Iteration No: 216 ended. Search finished for the next optimal point.\n",
      "Time taken: 6.6939\n",
      "Function value obtained: -0.3877\n",
      "Current minimum: -0.4357\n",
      "Iteration No: 217 started. Searching for the next optimal point.\n",
      "[995, 89, 'sqrt', 4, 1, True]\n",
      "Iteration No: 217 ended. Search finished for the next optimal point.\n",
      "Time taken: 10.5408\n",
      "Function value obtained: -0.3700\n",
      "Current minimum: -0.4357\n",
      "Iteration No: 218 started. Searching for the next optimal point.\n",
      "[1000, 17, 'sqrt', 2, 3, False]\n",
      "Iteration No: 218 ended. Search finished for the next optimal point.\n",
      "Time taken: 10.2991\n",
      "Function value obtained: -0.3999\n",
      "Current minimum: -0.4357\n",
      "Iteration No: 219 started. Searching for the next optimal point.\n",
      "[101, 12, 'auto', 4, 3, False]\n",
      "Iteration No: 219 ended. Search finished for the next optimal point.\n",
      "Time taken: 7.6284\n",
      "Function value obtained: -0.4109\n",
      "Current minimum: -0.4357\n",
      "Iteration No: 220 started. Searching for the next optimal point.\n",
      "[100, 100, 'sqrt', 2, 1, False]\n"
     ]
    },
    {
     "name": "stderr",
     "output_type": "stream",
     "text": [
      "/home/carcook/anaconda3/envs/TCGA-round1/lib/python3.8/site-packages/skopt/optimizer/optimizer.py:449: UserWarning: The objective has been evaluated at this point before.\n",
      "  warnings.warn(\"The objective has been evaluated \"\n"
     ]
    },
    {
     "name": "stdout",
     "output_type": "stream",
     "text": [
      "*****redundant*****\n",
      "Iteration No: 220 ended. Search finished for the next optimal point.\n",
      "Time taken: 7.0850\n",
      "Function value obtained: -0.4087\n",
      "Current minimum: -0.4357\n",
      "Iteration No: 221 started. Searching for the next optimal point.\n",
      "[100, 100, 'sqrt', 2, 1, False]\n"
     ]
    },
    {
     "name": "stderr",
     "output_type": "stream",
     "text": [
      "/home/carcook/anaconda3/envs/TCGA-round1/lib/python3.8/site-packages/skopt/optimizer/optimizer.py:449: UserWarning: The objective has been evaluated at this point before.\n",
      "  warnings.warn(\"The objective has been evaluated \"\n"
     ]
    },
    {
     "name": "stdout",
     "output_type": "stream",
     "text": [
      "*****redundant*****\n",
      "Iteration No: 221 ended. Search finished for the next optimal point.\n",
      "Time taken: 7.2997\n",
      "Function value obtained: -0.4096\n",
      "Current minimum: -0.4357\n",
      "Iteration No: 222 started. Searching for the next optimal point.\n",
      "[100, 100, 'sqrt', 2, 1, False]\n"
     ]
    },
    {
     "name": "stderr",
     "output_type": "stream",
     "text": [
      "/home/carcook/anaconda3/envs/TCGA-round1/lib/python3.8/site-packages/skopt/optimizer/optimizer.py:449: UserWarning: The objective has been evaluated at this point before.\n",
      "  warnings.warn(\"The objective has been evaluated \"\n"
     ]
    },
    {
     "name": "stdout",
     "output_type": "stream",
     "text": [
      "*****redundant*****\n",
      "Iteration No: 222 ended. Search finished for the next optimal point.\n",
      "Time taken: 6.6218\n",
      "Function value obtained: -0.4143\n",
      "Current minimum: -0.4357\n",
      "Iteration No: 223 started. Searching for the next optimal point.\n",
      "[100, 100, 'sqrt', 2, 1, False]\n"
     ]
    },
    {
     "name": "stderr",
     "output_type": "stream",
     "text": [
      "/home/carcook/anaconda3/envs/TCGA-round1/lib/python3.8/site-packages/skopt/optimizer/optimizer.py:449: UserWarning: The objective has been evaluated at this point before.\n",
      "  warnings.warn(\"The objective has been evaluated \"\n"
     ]
    },
    {
     "name": "stdout",
     "output_type": "stream",
     "text": [
      "*****redundant*****\n",
      "Iteration No: 223 ended. Search finished for the next optimal point.\n",
      "Time taken: 7.1761\n",
      "Function value obtained: -0.4064\n",
      "Current minimum: -0.4357\n",
      "Iteration No: 224 started. Searching for the next optimal point.\n",
      "[100, 25, 'sqrt', 4, 3, False]\n",
      "Iteration No: 224 ended. Search finished for the next optimal point.\n",
      "Time taken: 6.0435\n",
      "Function value obtained: -0.3844\n",
      "Current minimum: -0.4357\n",
      "Iteration No: 225 started. Searching for the next optimal point.\n",
      "[100, 100, 'sqrt', 2, 1, False]\n"
     ]
    },
    {
     "name": "stderr",
     "output_type": "stream",
     "text": [
      "/home/carcook/anaconda3/envs/TCGA-round1/lib/python3.8/site-packages/skopt/optimizer/optimizer.py:449: UserWarning: The objective has been evaluated at this point before.\n",
      "  warnings.warn(\"The objective has been evaluated \"\n"
     ]
    },
    {
     "name": "stdout",
     "output_type": "stream",
     "text": [
      "*****redundant*****\n",
      "Iteration No: 225 ended. Search finished for the next optimal point.\n",
      "Time taken: 6.4111\n",
      "Function value obtained: -0.4140\n",
      "Current minimum: -0.4357\n",
      "Iteration No: 226 started. Searching for the next optimal point.\n",
      "[100, 100, 'sqrt', 2, 1, False]\n"
     ]
    },
    {
     "name": "stderr",
     "output_type": "stream",
     "text": [
      "/home/carcook/anaconda3/envs/TCGA-round1/lib/python3.8/site-packages/skopt/optimizer/optimizer.py:449: UserWarning: The objective has been evaluated at this point before.\n",
      "  warnings.warn(\"The objective has been evaluated \"\n"
     ]
    },
    {
     "name": "stdout",
     "output_type": "stream",
     "text": [
      "*****redundant*****\n",
      "Iteration No: 226 ended. Search finished for the next optimal point.\n",
      "Time taken: 7.5292\n",
      "Function value obtained: -0.4093\n",
      "Current minimum: -0.4357\n",
      "Iteration No: 227 started. Searching for the next optimal point.\n",
      "[100, 100, 'sqrt', 2, 1, False]\n"
     ]
    },
    {
     "name": "stderr",
     "output_type": "stream",
     "text": [
      "/home/carcook/anaconda3/envs/TCGA-round1/lib/python3.8/site-packages/skopt/optimizer/optimizer.py:449: UserWarning: The objective has been evaluated at this point before.\n",
      "  warnings.warn(\"The objective has been evaluated \"\n"
     ]
    },
    {
     "name": "stdout",
     "output_type": "stream",
     "text": [
      "*****redundant*****\n",
      "Iteration No: 227 ended. Search finished for the next optimal point.\n",
      "Time taken: 8.4660\n",
      "Function value obtained: -0.3874\n",
      "Current minimum: -0.4357\n",
      "Iteration No: 228 started. Searching for the next optimal point.\n",
      "[100, 100, 'sqrt', 2, 1, False]\n"
     ]
    },
    {
     "name": "stderr",
     "output_type": "stream",
     "text": [
      "/home/carcook/anaconda3/envs/TCGA-round1/lib/python3.8/site-packages/skopt/optimizer/optimizer.py:449: UserWarning: The objective has been evaluated at this point before.\n",
      "  warnings.warn(\"The objective has been evaluated \"\n"
     ]
    },
    {
     "name": "stdout",
     "output_type": "stream",
     "text": [
      "*****redundant*****\n",
      "Iteration No: 228 ended. Search finished for the next optimal point.\n",
      "Time taken: 6.3442\n",
      "Function value obtained: -0.4087\n",
      "Current minimum: -0.4357\n",
      "Iteration No: 229 started. Searching for the next optimal point.\n",
      "[100, 100, 'sqrt', 2, 1, False]\n"
     ]
    },
    {
     "name": "stderr",
     "output_type": "stream",
     "text": [
      "/home/carcook/anaconda3/envs/TCGA-round1/lib/python3.8/site-packages/skopt/optimizer/optimizer.py:449: UserWarning: The objective has been evaluated at this point before.\n",
      "  warnings.warn(\"The objective has been evaluated \"\n"
     ]
    },
    {
     "name": "stdout",
     "output_type": "stream",
     "text": [
      "*****redundant*****\n",
      "Iteration No: 229 ended. Search finished for the next optimal point.\n",
      "Time taken: 6.7109\n",
      "Function value obtained: -0.3845\n",
      "Current minimum: -0.4357\n",
      "Iteration No: 230 started. Searching for the next optimal point.\n",
      "[100, 100, 'sqrt', 2, 1, False]\n"
     ]
    },
    {
     "name": "stderr",
     "output_type": "stream",
     "text": [
      "/home/carcook/anaconda3/envs/TCGA-round1/lib/python3.8/site-packages/skopt/optimizer/optimizer.py:449: UserWarning: The objective has been evaluated at this point before.\n",
      "  warnings.warn(\"The objective has been evaluated \"\n"
     ]
    },
    {
     "name": "stdout",
     "output_type": "stream",
     "text": [
      "*****redundant*****\n",
      "Iteration No: 230 ended. Search finished for the next optimal point.\n",
      "Time taken: 7.3667\n",
      "Function value obtained: -0.3938\n",
      "Current minimum: -0.4357\n",
      "Iteration No: 231 started. Searching for the next optimal point.\n",
      "[100, 100, 'sqrt', 2, 1, False]\n"
     ]
    },
    {
     "name": "stderr",
     "output_type": "stream",
     "text": [
      "/home/carcook/anaconda3/envs/TCGA-round1/lib/python3.8/site-packages/skopt/optimizer/optimizer.py:449: UserWarning: The objective has been evaluated at this point before.\n",
      "  warnings.warn(\"The objective has been evaluated \"\n"
     ]
    },
    {
     "name": "stdout",
     "output_type": "stream",
     "text": [
      "*****redundant*****\n",
      "Iteration No: 231 ended. Search finished for the next optimal point.\n",
      "Time taken: 7.6735\n",
      "Function value obtained: -0.3958\n",
      "Current minimum: -0.4357\n",
      "Iteration No: 232 started. Searching for the next optimal point.\n",
      "[100, 10, 'sqrt', 2, 1, False]\n"
     ]
    },
    {
     "name": "stderr",
     "output_type": "stream",
     "text": [
      "/home/carcook/anaconda3/envs/TCGA-round1/lib/python3.8/site-packages/skopt/optimizer/optimizer.py:449: UserWarning: The objective has been evaluated at this point before.\n",
      "  warnings.warn(\"The objective has been evaluated \"\n"
     ]
    },
    {
     "name": "stdout",
     "output_type": "stream",
     "text": [
      "*****redundant*****\n",
      "Iteration No: 232 ended. Search finished for the next optimal point.\n",
      "Time taken: 7.6405\n",
      "Function value obtained: -0.3988\n",
      "Current minimum: -0.4357\n",
      "Iteration No: 233 started. Searching for the next optimal point.\n",
      "[101, 31, 'auto', 2, 3, False]\n",
      "Iteration No: 233 ended. Search finished for the next optimal point.\n",
      "Time taken: 7.0306\n",
      "Function value obtained: -0.3994\n",
      "Current minimum: -0.4357\n",
      "Iteration No: 234 started. Searching for the next optimal point.\n",
      "[100, 10, 'sqrt', 2, 1, False]\n"
     ]
    },
    {
     "name": "stderr",
     "output_type": "stream",
     "text": [
      "/home/carcook/anaconda3/envs/TCGA-round1/lib/python3.8/site-packages/skopt/optimizer/optimizer.py:449: UserWarning: The objective has been evaluated at this point before.\n",
      "  warnings.warn(\"The objective has been evaluated \"\n"
     ]
    },
    {
     "name": "stdout",
     "output_type": "stream",
     "text": [
      "*****redundant*****\n",
      "Iteration No: 234 ended. Search finished for the next optimal point.\n",
      "Time taken: 6.9164\n",
      "Function value obtained: -0.4129\n",
      "Current minimum: -0.4357\n",
      "Iteration No: 235 started. Searching for the next optimal point.\n",
      "[991, 67, 'auto', 4, 1, False]\n",
      "Iteration No: 235 ended. Search finished for the next optimal point.\n",
      "Time taken: 11.3124\n",
      "Function value obtained: -0.3909\n",
      "Current minimum: -0.4357\n",
      "Iteration No: 236 started. Searching for the next optimal point.\n",
      "[100, 10, 'sqrt', 2, 1, False]\n"
     ]
    },
    {
     "name": "stderr",
     "output_type": "stream",
     "text": [
      "/home/carcook/anaconda3/envs/TCGA-round1/lib/python3.8/site-packages/skopt/optimizer/optimizer.py:449: UserWarning: The objective has been evaluated at this point before.\n",
      "  warnings.warn(\"The objective has been evaluated \"\n"
     ]
    },
    {
     "name": "stdout",
     "output_type": "stream",
     "text": [
      "*****redundant*****\n",
      "Iteration No: 236 ended. Search finished for the next optimal point.\n",
      "Time taken: 7.0233\n",
      "Function value obtained: -0.4012\n",
      "Current minimum: -0.4357\n",
      "Iteration No: 237 started. Searching for the next optimal point.\n",
      "[100, 10, 'sqrt', 2, 1, False]\n"
     ]
    },
    {
     "name": "stderr",
     "output_type": "stream",
     "text": [
      "/home/carcook/anaconda3/envs/TCGA-round1/lib/python3.8/site-packages/skopt/optimizer/optimizer.py:449: UserWarning: The objective has been evaluated at this point before.\n",
      "  warnings.warn(\"The objective has been evaluated \"\n"
     ]
    },
    {
     "name": "stdout",
     "output_type": "stream",
     "text": [
      "*****redundant*****\n",
      "Iteration No: 237 ended. Search finished for the next optimal point.\n",
      "Time taken: 7.1233\n",
      "Function value obtained: -0.3921\n",
      "Current minimum: -0.4357\n",
      "Iteration No: 238 started. Searching for the next optimal point.\n",
      "[100, 100, 'sqrt', 2, 1, False]\n"
     ]
    },
    {
     "name": "stderr",
     "output_type": "stream",
     "text": [
      "/home/carcook/anaconda3/envs/TCGA-round1/lib/python3.8/site-packages/skopt/optimizer/optimizer.py:449: UserWarning: The objective has been evaluated at this point before.\n",
      "  warnings.warn(\"The objective has been evaluated \"\n"
     ]
    },
    {
     "name": "stdout",
     "output_type": "stream",
     "text": [
      "*****redundant*****\n",
      "Iteration No: 238 ended. Search finished for the next optimal point.\n",
      "Time taken: 7.5225\n",
      "Function value obtained: -0.4050\n",
      "Current minimum: -0.4357\n",
      "Iteration No: 239 started. Searching for the next optimal point.\n",
      "[984, 55, 'sqrt', 4, 1, False]\n",
      "Iteration No: 239 ended. Search finished for the next optimal point.\n",
      "Time taken: 10.9668\n",
      "Function value obtained: -0.4023\n",
      "Current minimum: -0.4357\n",
      "Iteration No: 240 started. Searching for the next optimal point.\n",
      "[100, 100, 'sqrt', 2, 1, False]\n"
     ]
    },
    {
     "name": "stderr",
     "output_type": "stream",
     "text": [
      "/home/carcook/anaconda3/envs/TCGA-round1/lib/python3.8/site-packages/skopt/optimizer/optimizer.py:449: UserWarning: The objective has been evaluated at this point before.\n",
      "  warnings.warn(\"The objective has been evaluated \"\n"
     ]
    },
    {
     "name": "stdout",
     "output_type": "stream",
     "text": [
      "*****redundant*****\n",
      "Iteration No: 240 ended. Search finished for the next optimal point.\n",
      "Time taken: 7.8219\n",
      "Function value obtained: -0.3852\n",
      "Current minimum: -0.4357\n",
      "Iteration No: 241 started. Searching for the next optimal point.\n",
      "[100, 10, 'sqrt', 2, 1, False]\n"
     ]
    },
    {
     "name": "stderr",
     "output_type": "stream",
     "text": [
      "/home/carcook/anaconda3/envs/TCGA-round1/lib/python3.8/site-packages/skopt/optimizer/optimizer.py:449: UserWarning: The objective has been evaluated at this point before.\n",
      "  warnings.warn(\"The objective has been evaluated \"\n"
     ]
    },
    {
     "name": "stdout",
     "output_type": "stream",
     "text": [
      "*****redundant*****\n",
      "Iteration No: 241 ended. Search finished for the next optimal point.\n",
      "Time taken: 6.4333\n",
      "Function value obtained: -0.4145\n",
      "Current minimum: -0.4357\n",
      "Iteration No: 242 started. Searching for the next optimal point.\n",
      "[100, 10, 'sqrt', 2, 1, False]\n"
     ]
    },
    {
     "name": "stderr",
     "output_type": "stream",
     "text": [
      "/home/carcook/anaconda3/envs/TCGA-round1/lib/python3.8/site-packages/skopt/optimizer/optimizer.py:449: UserWarning: The objective has been evaluated at this point before.\n",
      "  warnings.warn(\"The objective has been evaluated \"\n"
     ]
    },
    {
     "name": "stdout",
     "output_type": "stream",
     "text": [
      "*****redundant*****\n",
      "Iteration No: 242 ended. Search finished for the next optimal point.\n",
      "Time taken: 7.7195\n",
      "Function value obtained: -0.4137\n",
      "Current minimum: -0.4357\n",
      "Iteration No: 243 started. Searching for the next optimal point.\n",
      "[100, 10, 'sqrt', 2, 1, False]\n"
     ]
    },
    {
     "name": "stderr",
     "output_type": "stream",
     "text": [
      "/home/carcook/anaconda3/envs/TCGA-round1/lib/python3.8/site-packages/skopt/optimizer/optimizer.py:449: UserWarning: The objective has been evaluated at this point before.\n",
      "  warnings.warn(\"The objective has been evaluated \"\n"
     ]
    },
    {
     "name": "stdout",
     "output_type": "stream",
     "text": [
      "*****redundant*****\n",
      "Iteration No: 243 ended. Search finished for the next optimal point.\n",
      "Time taken: 7.3207\n",
      "Function value obtained: -0.4098\n",
      "Current minimum: -0.4357\n",
      "Iteration No: 244 started. Searching for the next optimal point.\n",
      "[100, 10, 'sqrt', 2, 1, False]\n"
     ]
    },
    {
     "name": "stderr",
     "output_type": "stream",
     "text": [
      "/home/carcook/anaconda3/envs/TCGA-round1/lib/python3.8/site-packages/skopt/optimizer/optimizer.py:449: UserWarning: The objective has been evaluated at this point before.\n",
      "  warnings.warn(\"The objective has been evaluated \"\n"
     ]
    },
    {
     "name": "stdout",
     "output_type": "stream",
     "text": [
      "*****redundant*****\n",
      "Iteration No: 244 ended. Search finished for the next optimal point.\n",
      "Time taken: 7.3206\n",
      "Function value obtained: -0.3867\n",
      "Current minimum: -0.4357\n",
      "Iteration No: 245 started. Searching for the next optimal point.\n",
      "[100, 10, 'sqrt', 2, 1, False]\n"
     ]
    },
    {
     "name": "stderr",
     "output_type": "stream",
     "text": [
      "/home/carcook/anaconda3/envs/TCGA-round1/lib/python3.8/site-packages/skopt/optimizer/optimizer.py:449: UserWarning: The objective has been evaluated at this point before.\n",
      "  warnings.warn(\"The objective has been evaluated \"\n"
     ]
    },
    {
     "name": "stdout",
     "output_type": "stream",
     "text": [
      "*****redundant*****\n",
      "Iteration No: 245 ended. Search finished for the next optimal point.\n",
      "Time taken: 7.2708\n",
      "Function value obtained: -0.3758\n",
      "Current minimum: -0.4357\n",
      "Iteration No: 246 started. Searching for the next optimal point.\n",
      "[100, 100, 'sqrt', 2, 1, False]\n"
     ]
    },
    {
     "name": "stderr",
     "output_type": "stream",
     "text": [
      "/home/carcook/anaconda3/envs/TCGA-round1/lib/python3.8/site-packages/skopt/optimizer/optimizer.py:449: UserWarning: The objective has been evaluated at this point before.\n",
      "  warnings.warn(\"The objective has been evaluated \"\n"
     ]
    },
    {
     "name": "stdout",
     "output_type": "stream",
     "text": [
      "*****redundant*****\n",
      "Iteration No: 246 ended. Search finished for the next optimal point.\n",
      "Time taken: 8.4117\n",
      "Function value obtained: -0.3935\n",
      "Current minimum: -0.4357\n",
      "Iteration No: 247 started. Searching for the next optimal point.\n",
      "[999, 15, 'sqrt', 2, 3, False]\n",
      "Iteration No: 247 ended. Search finished for the next optimal point.\n",
      "Time taken: 12.8738\n",
      "Function value obtained: -0.3916\n",
      "Current minimum: -0.4357\n",
      "Iteration No: 248 started. Searching for the next optimal point.\n",
      "[100, 100, 'sqrt', 2, 1, False]\n"
     ]
    },
    {
     "name": "stderr",
     "output_type": "stream",
     "text": [
      "/home/carcook/anaconda3/envs/TCGA-round1/lib/python3.8/site-packages/skopt/optimizer/optimizer.py:449: UserWarning: The objective has been evaluated at this point before.\n",
      "  warnings.warn(\"The objective has been evaluated \"\n"
     ]
    },
    {
     "name": "stdout",
     "output_type": "stream",
     "text": [
      "*****redundant*****\n",
      "Iteration No: 248 ended. Search finished for the next optimal point.\n",
      "Time taken: 7.9885\n",
      "Function value obtained: -0.4019\n",
      "Current minimum: -0.4357\n",
      "Iteration No: 249 started. Searching for the next optimal point.\n",
      "[100, 10, 'sqrt', 2, 1, False]\n"
     ]
    },
    {
     "name": "stderr",
     "output_type": "stream",
     "text": [
      "/home/carcook/anaconda3/envs/TCGA-round1/lib/python3.8/site-packages/skopt/optimizer/optimizer.py:449: UserWarning: The objective has been evaluated at this point before.\n",
      "  warnings.warn(\"The objective has been evaluated \"\n"
     ]
    },
    {
     "name": "stdout",
     "output_type": "stream",
     "text": [
      "*****redundant*****\n",
      "Iteration No: 249 ended. Search finished for the next optimal point.\n",
      "Time taken: 8.0910\n",
      "Function value obtained: -0.4036\n",
      "Current minimum: -0.4357\n",
      "Iteration No: 250 started. Searching for the next optimal point.\n",
      "[100, 10, 'sqrt', 2, 1, False]\n"
     ]
    },
    {
     "name": "stderr",
     "output_type": "stream",
     "text": [
      "/home/carcook/anaconda3/envs/TCGA-round1/lib/python3.8/site-packages/skopt/optimizer/optimizer.py:449: UserWarning: The objective has been evaluated at this point before.\n",
      "  warnings.warn(\"The objective has been evaluated \"\n"
     ]
    },
    {
     "name": "stdout",
     "output_type": "stream",
     "text": [
      "*****redundant*****\n",
      "Iteration No: 250 ended. Search finished for the next optimal point.\n",
      "Time taken: 8.1082\n",
      "Function value obtained: -0.3935\n",
      "Current minimum: -0.4357\n",
      "Iteration No: 251 started. Searching for the next optimal point.\n",
      "[100, 100, 'sqrt', 2, 1, False]\n"
     ]
    },
    {
     "name": "stderr",
     "output_type": "stream",
     "text": [
      "/home/carcook/anaconda3/envs/TCGA-round1/lib/python3.8/site-packages/skopt/optimizer/optimizer.py:449: UserWarning: The objective has been evaluated at this point before.\n",
      "  warnings.warn(\"The objective has been evaluated \"\n"
     ]
    },
    {
     "name": "stdout",
     "output_type": "stream",
     "text": [
      "*****redundant*****\n",
      "Iteration No: 251 ended. Search finished for the next optimal point.\n",
      "Time taken: 8.6985\n",
      "Function value obtained: -0.3865\n",
      "Current minimum: -0.4357\n",
      "Iteration No: 252 started. Searching for the next optimal point.\n",
      "[105, 51, 'sqrt', 2, 1, True]\n",
      "Iteration No: 252 ended. Search finished for the next optimal point.\n",
      "Time taken: 8.4517\n",
      "Function value obtained: -0.3779\n",
      "Current minimum: -0.4357\n",
      "Iteration No: 253 started. Searching for the next optimal point.\n",
      "[100, 10, 'sqrt', 2, 1, False]\n"
     ]
    },
    {
     "name": "stderr",
     "output_type": "stream",
     "text": [
      "/home/carcook/anaconda3/envs/TCGA-round1/lib/python3.8/site-packages/skopt/optimizer/optimizer.py:449: UserWarning: The objective has been evaluated at this point before.\n",
      "  warnings.warn(\"The objective has been evaluated \"\n"
     ]
    },
    {
     "name": "stdout",
     "output_type": "stream",
     "text": [
      "*****redundant*****\n",
      "Iteration No: 253 ended. Search finished for the next optimal point.\n",
      "Time taken: 8.9676\n",
      "Function value obtained: -0.3926\n",
      "Current minimum: -0.4357\n",
      "Iteration No: 254 started. Searching for the next optimal point.\n",
      "[100, 100, 'sqrt', 2, 1, False]\n"
     ]
    },
    {
     "name": "stderr",
     "output_type": "stream",
     "text": [
      "/home/carcook/anaconda3/envs/TCGA-round1/lib/python3.8/site-packages/skopt/optimizer/optimizer.py:449: UserWarning: The objective has been evaluated at this point before.\n",
      "  warnings.warn(\"The objective has been evaluated \"\n"
     ]
    },
    {
     "name": "stdout",
     "output_type": "stream",
     "text": [
      "*****redundant*****\n",
      "Iteration No: 254 ended. Search finished for the next optimal point.\n",
      "Time taken: 8.3743\n",
      "Function value obtained: -0.3910\n",
      "Current minimum: -0.4357\n",
      "Iteration No: 255 started. Searching for the next optimal point.\n",
      "[108, 21, 'auto', 4, 3, True]\n",
      "Iteration No: 255 ended. Search finished for the next optimal point.\n",
      "Time taken: 8.4410\n",
      "Function value obtained: -0.3703\n",
      "Current minimum: -0.4357\n",
      "Iteration No: 256 started. Searching for the next optimal point.\n",
      "[100, 10, 'sqrt', 2, 1, False]\n"
     ]
    },
    {
     "name": "stderr",
     "output_type": "stream",
     "text": [
      "/home/carcook/anaconda3/envs/TCGA-round1/lib/python3.8/site-packages/skopt/optimizer/optimizer.py:449: UserWarning: The objective has been evaluated at this point before.\n",
      "  warnings.warn(\"The objective has been evaluated \"\n"
     ]
    },
    {
     "name": "stdout",
     "output_type": "stream",
     "text": [
      "*****redundant*****\n",
      "Iteration No: 256 ended. Search finished for the next optimal point.\n",
      "Time taken: 8.2782\n",
      "Function value obtained: -0.4216\n",
      "Current minimum: -0.4357\n",
      "Iteration No: 257 started. Searching for the next optimal point.\n",
      "[100, 10, 'sqrt', 2, 1, False]\n"
     ]
    },
    {
     "name": "stderr",
     "output_type": "stream",
     "text": [
      "/home/carcook/anaconda3/envs/TCGA-round1/lib/python3.8/site-packages/skopt/optimizer/optimizer.py:449: UserWarning: The objective has been evaluated at this point before.\n",
      "  warnings.warn(\"The objective has been evaluated \"\n"
     ]
    },
    {
     "name": "stdout",
     "output_type": "stream",
     "text": [
      "*****redundant*****\n",
      "Iteration No: 257 ended. Search finished for the next optimal point.\n",
      "Time taken: 9.6175\n",
      "Function value obtained: -0.4375\n",
      "Current minimum: -0.4375\n",
      "Iteration No: 258 started. Searching for the next optimal point.\n",
      "[100, 10, 'sqrt', 2, 1, False]\n"
     ]
    },
    {
     "name": "stderr",
     "output_type": "stream",
     "text": [
      "/home/carcook/anaconda3/envs/TCGA-round1/lib/python3.8/site-packages/skopt/optimizer/optimizer.py:449: UserWarning: The objective has been evaluated at this point before.\n",
      "  warnings.warn(\"The objective has been evaluated \"\n"
     ]
    },
    {
     "name": "stdout",
     "output_type": "stream",
     "text": [
      "*****redundant*****\n",
      "Iteration No: 258 ended. Search finished for the next optimal point.\n",
      "Time taken: 8.3627\n",
      "Function value obtained: -0.4118\n",
      "Current minimum: -0.4375\n",
      "Iteration No: 259 started. Searching for the next optimal point.\n",
      "[100, 10, 'sqrt', 2, 1, False]\n"
     ]
    },
    {
     "name": "stderr",
     "output_type": "stream",
     "text": [
      "/home/carcook/anaconda3/envs/TCGA-round1/lib/python3.8/site-packages/skopt/optimizer/optimizer.py:449: UserWarning: The objective has been evaluated at this point before.\n",
      "  warnings.warn(\"The objective has been evaluated \"\n"
     ]
    },
    {
     "name": "stdout",
     "output_type": "stream",
     "text": [
      "*****redundant*****\n",
      "Iteration No: 259 ended. Search finished for the next optimal point.\n",
      "Time taken: 7.8006\n",
      "Function value obtained: -0.3893\n",
      "Current minimum: -0.4375\n",
      "Iteration No: 260 started. Searching for the next optimal point.\n",
      "[100, 10, 'sqrt', 2, 1, False]\n"
     ]
    },
    {
     "name": "stderr",
     "output_type": "stream",
     "text": [
      "/home/carcook/anaconda3/envs/TCGA-round1/lib/python3.8/site-packages/skopt/optimizer/optimizer.py:449: UserWarning: The objective has been evaluated at this point before.\n",
      "  warnings.warn(\"The objective has been evaluated \"\n"
     ]
    },
    {
     "name": "stdout",
     "output_type": "stream",
     "text": [
      "*****redundant*****\n",
      "Iteration No: 260 ended. Search finished for the next optimal point.\n",
      "Time taken: 7.9863\n",
      "Function value obtained: -0.4101\n",
      "Current minimum: -0.4375\n",
      "Iteration No: 261 started. Searching for the next optimal point.\n",
      "[100, 10, 'sqrt', 2, 1, False]\n"
     ]
    },
    {
     "name": "stderr",
     "output_type": "stream",
     "text": [
      "/home/carcook/anaconda3/envs/TCGA-round1/lib/python3.8/site-packages/skopt/optimizer/optimizer.py:449: UserWarning: The objective has been evaluated at this point before.\n",
      "  warnings.warn(\"The objective has been evaluated \"\n"
     ]
    },
    {
     "name": "stdout",
     "output_type": "stream",
     "text": [
      "*****redundant*****\n",
      "Iteration No: 261 ended. Search finished for the next optimal point.\n",
      "Time taken: 9.4677\n",
      "Function value obtained: -0.4313\n",
      "Current minimum: -0.4375\n",
      "Iteration No: 262 started. Searching for the next optimal point.\n",
      "[100, 10, 'sqrt', 2, 1, False]\n"
     ]
    },
    {
     "name": "stderr",
     "output_type": "stream",
     "text": [
      "/home/carcook/anaconda3/envs/TCGA-round1/lib/python3.8/site-packages/skopt/optimizer/optimizer.py:449: UserWarning: The objective has been evaluated at this point before.\n",
      "  warnings.warn(\"The objective has been evaluated \"\n"
     ]
    },
    {
     "name": "stdout",
     "output_type": "stream",
     "text": [
      "*****redundant*****\n",
      "Iteration No: 262 ended. Search finished for the next optimal point.\n",
      "Time taken: 8.4619\n",
      "Function value obtained: -0.3899\n",
      "Current minimum: -0.4375\n",
      "Iteration No: 263 started. Searching for the next optimal point.\n",
      "[100, 10, 'sqrt', 2, 1, False]\n"
     ]
    },
    {
     "name": "stderr",
     "output_type": "stream",
     "text": [
      "/home/carcook/anaconda3/envs/TCGA-round1/lib/python3.8/site-packages/skopt/optimizer/optimizer.py:449: UserWarning: The objective has been evaluated at this point before.\n",
      "  warnings.warn(\"The objective has been evaluated \"\n"
     ]
    },
    {
     "name": "stdout",
     "output_type": "stream",
     "text": [
      "*****redundant*****\n",
      "Iteration No: 263 ended. Search finished for the next optimal point.\n",
      "Time taken: 8.2785\n",
      "Function value obtained: -0.3978\n",
      "Current minimum: -0.4375\n",
      "Iteration No: 264 started. Searching for the next optimal point.\n",
      "[100, 100, 'sqrt', 2, 1, False]\n"
     ]
    },
    {
     "name": "stderr",
     "output_type": "stream",
     "text": [
      "/home/carcook/anaconda3/envs/TCGA-round1/lib/python3.8/site-packages/skopt/optimizer/optimizer.py:449: UserWarning: The objective has been evaluated at this point before.\n",
      "  warnings.warn(\"The objective has been evaluated \"\n"
     ]
    },
    {
     "name": "stdout",
     "output_type": "stream",
     "text": [
      "*****redundant*****\n",
      "Iteration No: 264 ended. Search finished for the next optimal point.\n",
      "Time taken: 9.3306\n",
      "Function value obtained: -0.3872\n",
      "Current minimum: -0.4375\n",
      "Iteration No: 265 started. Searching for the next optimal point.\n",
      "[100, 10, 'sqrt', 2, 1, False]\n"
     ]
    },
    {
     "name": "stderr",
     "output_type": "stream",
     "text": [
      "/home/carcook/anaconda3/envs/TCGA-round1/lib/python3.8/site-packages/skopt/optimizer/optimizer.py:449: UserWarning: The objective has been evaluated at this point before.\n",
      "  warnings.warn(\"The objective has been evaluated \"\n"
     ]
    },
    {
     "name": "stdout",
     "output_type": "stream",
     "text": [
      "*****redundant*****\n",
      "Iteration No: 265 ended. Search finished for the next optimal point.\n",
      "Time taken: 9.4780\n",
      "Function value obtained: -0.4246\n",
      "Current minimum: -0.4375\n",
      "Iteration No: 266 started. Searching for the next optimal point.\n",
      "[100, 10, 'sqrt', 2, 1, False]\n"
     ]
    },
    {
     "name": "stderr",
     "output_type": "stream",
     "text": [
      "/home/carcook/anaconda3/envs/TCGA-round1/lib/python3.8/site-packages/skopt/optimizer/optimizer.py:449: UserWarning: The objective has been evaluated at this point before.\n",
      "  warnings.warn(\"The objective has been evaluated \"\n"
     ]
    },
    {
     "name": "stdout",
     "output_type": "stream",
     "text": [
      "*****redundant*****\n",
      "Iteration No: 266 ended. Search finished for the next optimal point.\n",
      "Time taken: 9.6375\n",
      "Function value obtained: -0.4020\n",
      "Current minimum: -0.4375\n",
      "Iteration No: 267 started. Searching for the next optimal point.\n",
      "[100, 10, 'sqrt', 2, 1, False]\n"
     ]
    },
    {
     "name": "stderr",
     "output_type": "stream",
     "text": [
      "/home/carcook/anaconda3/envs/TCGA-round1/lib/python3.8/site-packages/skopt/optimizer/optimizer.py:449: UserWarning: The objective has been evaluated at this point before.\n",
      "  warnings.warn(\"The objective has been evaluated \"\n"
     ]
    },
    {
     "name": "stdout",
     "output_type": "stream",
     "text": [
      "*****redundant*****\n",
      "Iteration No: 267 ended. Search finished for the next optimal point.\n",
      "Time taken: 8.7271\n",
      "Function value obtained: -0.3830\n",
      "Current minimum: -0.4375\n",
      "Iteration No: 268 started. Searching for the next optimal point.\n",
      "[100, 10, 'sqrt', 2, 1, False]\n"
     ]
    },
    {
     "name": "stderr",
     "output_type": "stream",
     "text": [
      "/home/carcook/anaconda3/envs/TCGA-round1/lib/python3.8/site-packages/skopt/optimizer/optimizer.py:449: UserWarning: The objective has been evaluated at this point before.\n",
      "  warnings.warn(\"The objective has been evaluated \"\n"
     ]
    },
    {
     "name": "stdout",
     "output_type": "stream",
     "text": [
      "*****redundant*****\n",
      "Iteration No: 268 ended. Search finished for the next optimal point.\n",
      "Time taken: 9.0978\n",
      "Function value obtained: -0.4019\n",
      "Current minimum: -0.4375\n",
      "Iteration No: 269 started. Searching for the next optimal point.\n",
      "[100, 10, 'sqrt', 2, 1, False]\n"
     ]
    },
    {
     "name": "stderr",
     "output_type": "stream",
     "text": [
      "/home/carcook/anaconda3/envs/TCGA-round1/lib/python3.8/site-packages/skopt/optimizer/optimizer.py:449: UserWarning: The objective has been evaluated at this point before.\n",
      "  warnings.warn(\"The objective has been evaluated \"\n"
     ]
    },
    {
     "name": "stdout",
     "output_type": "stream",
     "text": [
      "*****redundant*****\n",
      "Iteration No: 269 ended. Search finished for the next optimal point.\n",
      "Time taken: 6.9559\n",
      "Function value obtained: -0.4030\n",
      "Current minimum: -0.4375\n",
      "Iteration No: 270 started. Searching for the next optimal point.\n",
      "[100, 10, 'sqrt', 2, 1, False]\n"
     ]
    },
    {
     "name": "stderr",
     "output_type": "stream",
     "text": [
      "/home/carcook/anaconda3/envs/TCGA-round1/lib/python3.8/site-packages/skopt/optimizer/optimizer.py:449: UserWarning: The objective has been evaluated at this point before.\n",
      "  warnings.warn(\"The objective has been evaluated \"\n"
     ]
    },
    {
     "name": "stdout",
     "output_type": "stream",
     "text": [
      "*****redundant*****\n",
      "Iteration No: 270 ended. Search finished for the next optimal point.\n",
      "Time taken: 8.7939\n",
      "Function value obtained: -0.3722\n",
      "Current minimum: -0.4375\n",
      "Iteration No: 271 started. Searching for the next optimal point.\n",
      "[100, 10, 'sqrt', 2, 1, False]\n"
     ]
    },
    {
     "name": "stderr",
     "output_type": "stream",
     "text": [
      "/home/carcook/anaconda3/envs/TCGA-round1/lib/python3.8/site-packages/skopt/optimizer/optimizer.py:449: UserWarning: The objective has been evaluated at this point before.\n",
      "  warnings.warn(\"The objective has been evaluated \"\n"
     ]
    },
    {
     "name": "stdout",
     "output_type": "stream",
     "text": [
      "*****redundant*****\n",
      "Iteration No: 271 ended. Search finished for the next optimal point.\n",
      "Time taken: 8.7244\n",
      "Function value obtained: -0.3988\n",
      "Current minimum: -0.4375\n",
      "Iteration No: 272 started. Searching for the next optimal point.\n",
      "[100, 10, 'sqrt', 2, 1, False]\n"
     ]
    },
    {
     "name": "stderr",
     "output_type": "stream",
     "text": [
      "/home/carcook/anaconda3/envs/TCGA-round1/lib/python3.8/site-packages/skopt/optimizer/optimizer.py:449: UserWarning: The objective has been evaluated at this point before.\n",
      "  warnings.warn(\"The objective has been evaluated \"\n"
     ]
    },
    {
     "name": "stdout",
     "output_type": "stream",
     "text": [
      "*****redundant*****\n",
      "Iteration No: 272 ended. Search finished for the next optimal point.\n",
      "Time taken: 8.3999\n",
      "Function value obtained: -0.4168\n",
      "Current minimum: -0.4375\n",
      "Iteration No: 273 started. Searching for the next optimal point.\n",
      "[100, 10, 'sqrt', 2, 1, False]\n"
     ]
    },
    {
     "name": "stderr",
     "output_type": "stream",
     "text": [
      "/home/carcook/anaconda3/envs/TCGA-round1/lib/python3.8/site-packages/skopt/optimizer/optimizer.py:449: UserWarning: The objective has been evaluated at this point before.\n",
      "  warnings.warn(\"The objective has been evaluated \"\n"
     ]
    },
    {
     "name": "stdout",
     "output_type": "stream",
     "text": [
      "*****redundant*****\n",
      "Iteration No: 273 ended. Search finished for the next optimal point.\n",
      "Time taken: 9.0108\n",
      "Function value obtained: -0.3899\n",
      "Current minimum: -0.4375\n",
      "Iteration No: 274 started. Searching for the next optimal point.\n",
      "[100, 10, 'sqrt', 2, 1, False]\n"
     ]
    },
    {
     "name": "stderr",
     "output_type": "stream",
     "text": [
      "/home/carcook/anaconda3/envs/TCGA-round1/lib/python3.8/site-packages/skopt/optimizer/optimizer.py:449: UserWarning: The objective has been evaluated at this point before.\n",
      "  warnings.warn(\"The objective has been evaluated \"\n"
     ]
    },
    {
     "name": "stdout",
     "output_type": "stream",
     "text": [
      "*****redundant*****\n",
      "Iteration No: 274 ended. Search finished for the next optimal point.\n",
      "Time taken: 8.2648\n",
      "Function value obtained: -0.4121\n",
      "Current minimum: -0.4375\n",
      "Iteration No: 275 started. Searching for the next optimal point.\n",
      "[100, 10, 'sqrt', 2, 1, False]\n"
     ]
    },
    {
     "name": "stderr",
     "output_type": "stream",
     "text": [
      "/home/carcook/anaconda3/envs/TCGA-round1/lib/python3.8/site-packages/skopt/optimizer/optimizer.py:449: UserWarning: The objective has been evaluated at this point before.\n",
      "  warnings.warn(\"The objective has been evaluated \"\n"
     ]
    },
    {
     "name": "stdout",
     "output_type": "stream",
     "text": [
      "*****redundant*****\n",
      "Iteration No: 275 ended. Search finished for the next optimal point.\n",
      "Time taken: 8.8216\n",
      "Function value obtained: -0.4162\n",
      "Current minimum: -0.4375\n",
      "Iteration No: 276 started. Searching for the next optimal point.\n",
      "[100, 10, 'sqrt', 2, 1, False]\n"
     ]
    },
    {
     "name": "stderr",
     "output_type": "stream",
     "text": [
      "/home/carcook/anaconda3/envs/TCGA-round1/lib/python3.8/site-packages/skopt/optimizer/optimizer.py:449: UserWarning: The objective has been evaluated at this point before.\n",
      "  warnings.warn(\"The objective has been evaluated \"\n"
     ]
    },
    {
     "name": "stdout",
     "output_type": "stream",
     "text": [
      "*****redundant*****\n",
      "Iteration No: 276 ended. Search finished for the next optimal point.\n",
      "Time taken: 9.4084\n",
      "Function value obtained: -0.4078\n",
      "Current minimum: -0.4375\n",
      "Iteration No: 277 started. Searching for the next optimal point.\n",
      "[100, 10, 'sqrt', 2, 1, False]\n"
     ]
    },
    {
     "name": "stderr",
     "output_type": "stream",
     "text": [
      "/home/carcook/anaconda3/envs/TCGA-round1/lib/python3.8/site-packages/skopt/optimizer/optimizer.py:449: UserWarning: The objective has been evaluated at this point before.\n",
      "  warnings.warn(\"The objective has been evaluated \"\n"
     ]
    },
    {
     "name": "stdout",
     "output_type": "stream",
     "text": [
      "*****redundant*****\n",
      "Iteration No: 277 ended. Search finished for the next optimal point.\n",
      "Time taken: 10.4950\n",
      "Function value obtained: -0.3964\n",
      "Current minimum: -0.4375\n",
      "Iteration No: 278 started. Searching for the next optimal point.\n",
      "[100, 10, 'sqrt', 2, 1, False]\n"
     ]
    },
    {
     "name": "stderr",
     "output_type": "stream",
     "text": [
      "/home/carcook/anaconda3/envs/TCGA-round1/lib/python3.8/site-packages/skopt/optimizer/optimizer.py:449: UserWarning: The objective has been evaluated at this point before.\n",
      "  warnings.warn(\"The objective has been evaluated \"\n"
     ]
    },
    {
     "name": "stdout",
     "output_type": "stream",
     "text": [
      "*****redundant*****\n",
      "Iteration No: 278 ended. Search finished for the next optimal point.\n",
      "Time taken: 9.3747\n",
      "Function value obtained: -0.4032\n",
      "Current minimum: -0.4375\n",
      "Iteration No: 279 started. Searching for the next optimal point.\n",
      "[100, 10, 'sqrt', 2, 1, False]\n"
     ]
    },
    {
     "name": "stderr",
     "output_type": "stream",
     "text": [
      "/home/carcook/anaconda3/envs/TCGA-round1/lib/python3.8/site-packages/skopt/optimizer/optimizer.py:449: UserWarning: The objective has been evaluated at this point before.\n",
      "  warnings.warn(\"The objective has been evaluated \"\n"
     ]
    },
    {
     "name": "stdout",
     "output_type": "stream",
     "text": [
      "*****redundant*****\n",
      "Iteration No: 279 ended. Search finished for the next optimal point.\n",
      "Time taken: 10.0805\n",
      "Function value obtained: -0.4192\n",
      "Current minimum: -0.4375\n",
      "Iteration No: 280 started. Searching for the next optimal point.\n",
      "[100, 10, 'sqrt', 2, 1, False]\n"
     ]
    },
    {
     "name": "stderr",
     "output_type": "stream",
     "text": [
      "/home/carcook/anaconda3/envs/TCGA-round1/lib/python3.8/site-packages/skopt/optimizer/optimizer.py:449: UserWarning: The objective has been evaluated at this point before.\n",
      "  warnings.warn(\"The objective has been evaluated \"\n"
     ]
    },
    {
     "name": "stdout",
     "output_type": "stream",
     "text": [
      "*****redundant*****\n",
      "Iteration No: 280 ended. Search finished for the next optimal point.\n",
      "Time taken: 8.3298\n",
      "Function value obtained: -0.3965\n",
      "Current minimum: -0.4375\n",
      "Iteration No: 281 started. Searching for the next optimal point.\n",
      "[100, 10, 'sqrt', 2, 1, False]\n"
     ]
    },
    {
     "name": "stderr",
     "output_type": "stream",
     "text": [
      "/home/carcook/anaconda3/envs/TCGA-round1/lib/python3.8/site-packages/skopt/optimizer/optimizer.py:449: UserWarning: The objective has been evaluated at this point before.\n",
      "  warnings.warn(\"The objective has been evaluated \"\n"
     ]
    },
    {
     "name": "stdout",
     "output_type": "stream",
     "text": [
      "*****redundant*****\n",
      "Iteration No: 281 ended. Search finished for the next optimal point.\n",
      "Time taken: 9.3459\n",
      "Function value obtained: -0.3884\n",
      "Current minimum: -0.4375\n",
      "Iteration No: 282 started. Searching for the next optimal point.\n",
      "[100, 10, 'sqrt', 2, 1, False]\n"
     ]
    },
    {
     "name": "stderr",
     "output_type": "stream",
     "text": [
      "/home/carcook/anaconda3/envs/TCGA-round1/lib/python3.8/site-packages/skopt/optimizer/optimizer.py:449: UserWarning: The objective has been evaluated at this point before.\n",
      "  warnings.warn(\"The objective has been evaluated \"\n"
     ]
    },
    {
     "name": "stdout",
     "output_type": "stream",
     "text": [
      "*****redundant*****\n",
      "Iteration No: 282 ended. Search finished for the next optimal point.\n",
      "Time taken: 9.8809\n",
      "Function value obtained: -0.4045\n",
      "Current minimum: -0.4375\n",
      "Iteration No: 283 started. Searching for the next optimal point.\n",
      "[100, 10, 'sqrt', 2, 1, False]\n"
     ]
    },
    {
     "name": "stderr",
     "output_type": "stream",
     "text": [
      "/home/carcook/anaconda3/envs/TCGA-round1/lib/python3.8/site-packages/skopt/optimizer/optimizer.py:449: UserWarning: The objective has been evaluated at this point before.\n",
      "  warnings.warn(\"The objective has been evaluated \"\n"
     ]
    },
    {
     "name": "stdout",
     "output_type": "stream",
     "text": [
      "*****redundant*****\n",
      "Iteration No: 283 ended. Search finished for the next optimal point.\n",
      "Time taken: 9.4907\n",
      "Function value obtained: -0.4077\n",
      "Current minimum: -0.4375\n",
      "Iteration No: 284 started. Searching for the next optimal point.\n",
      "[100, 10, 'sqrt', 2, 1, False]\n"
     ]
    },
    {
     "name": "stderr",
     "output_type": "stream",
     "text": [
      "/home/carcook/anaconda3/envs/TCGA-round1/lib/python3.8/site-packages/skopt/optimizer/optimizer.py:449: UserWarning: The objective has been evaluated at this point before.\n",
      "  warnings.warn(\"The objective has been evaluated \"\n"
     ]
    },
    {
     "name": "stdout",
     "output_type": "stream",
     "text": [
      "*****redundant*****\n",
      "Iteration No: 284 ended. Search finished for the next optimal point.\n",
      "Time taken: 9.1346\n",
      "Function value obtained: -0.4023\n",
      "Current minimum: -0.4375\n",
      "Iteration No: 285 started. Searching for the next optimal point.\n",
      "[100, 100, 'sqrt', 2, 1, False]\n"
     ]
    },
    {
     "name": "stderr",
     "output_type": "stream",
     "text": [
      "/home/carcook/anaconda3/envs/TCGA-round1/lib/python3.8/site-packages/skopt/optimizer/optimizer.py:449: UserWarning: The objective has been evaluated at this point before.\n",
      "  warnings.warn(\"The objective has been evaluated \"\n"
     ]
    },
    {
     "name": "stdout",
     "output_type": "stream",
     "text": [
      "*****redundant*****\n",
      "Iteration No: 285 ended. Search finished for the next optimal point.\n",
      "Time taken: 9.1072\n",
      "Function value obtained: -0.4021\n",
      "Current minimum: -0.4375\n",
      "Iteration No: 286 started. Searching for the next optimal point.\n",
      "[100, 10, 'sqrt', 2, 1, False]\n"
     ]
    },
    {
     "name": "stderr",
     "output_type": "stream",
     "text": [
      "/home/carcook/anaconda3/envs/TCGA-round1/lib/python3.8/site-packages/skopt/optimizer/optimizer.py:449: UserWarning: The objective has been evaluated at this point before.\n",
      "  warnings.warn(\"The objective has been evaluated \"\n"
     ]
    },
    {
     "name": "stdout",
     "output_type": "stream",
     "text": [
      "*****redundant*****\n",
      "Iteration No: 286 ended. Search finished for the next optimal point.\n",
      "Time taken: 10.0902\n",
      "Function value obtained: -0.3949\n",
      "Current minimum: -0.4375\n",
      "Iteration No: 287 started. Searching for the next optimal point.\n",
      "[100, 10, 'sqrt', 2, 1, False]\n"
     ]
    },
    {
     "name": "stderr",
     "output_type": "stream",
     "text": [
      "/home/carcook/anaconda3/envs/TCGA-round1/lib/python3.8/site-packages/skopt/optimizer/optimizer.py:449: UserWarning: The objective has been evaluated at this point before.\n",
      "  warnings.warn(\"The objective has been evaluated \"\n"
     ]
    },
    {
     "name": "stdout",
     "output_type": "stream",
     "text": [
      "*****redundant*****\n",
      "Iteration No: 287 ended. Search finished for the next optimal point.\n",
      "Time taken: 9.4413\n",
      "Function value obtained: -0.3911\n",
      "Current minimum: -0.4375\n",
      "Iteration No: 288 started. Searching for the next optimal point.\n",
      "[100, 10, 'sqrt', 2, 1, False]\n"
     ]
    },
    {
     "name": "stderr",
     "output_type": "stream",
     "text": [
      "/home/carcook/anaconda3/envs/TCGA-round1/lib/python3.8/site-packages/skopt/optimizer/optimizer.py:449: UserWarning: The objective has been evaluated at this point before.\n",
      "  warnings.warn(\"The objective has been evaluated \"\n"
     ]
    },
    {
     "name": "stdout",
     "output_type": "stream",
     "text": [
      "*****redundant*****\n",
      "Iteration No: 288 ended. Search finished for the next optimal point.\n",
      "Time taken: 9.9922\n",
      "Function value obtained: -0.4106\n",
      "Current minimum: -0.4375\n",
      "Iteration No: 289 started. Searching for the next optimal point.\n",
      "[100, 10, 'sqrt', 2, 1, False]\n"
     ]
    },
    {
     "name": "stderr",
     "output_type": "stream",
     "text": [
      "/home/carcook/anaconda3/envs/TCGA-round1/lib/python3.8/site-packages/skopt/optimizer/optimizer.py:449: UserWarning: The objective has been evaluated at this point before.\n",
      "  warnings.warn(\"The objective has been evaluated \"\n"
     ]
    },
    {
     "name": "stdout",
     "output_type": "stream",
     "text": [
      "*****redundant*****\n",
      "Iteration No: 289 ended. Search finished for the next optimal point.\n",
      "Time taken: 10.4003\n",
      "Function value obtained: -0.4197\n",
      "Current minimum: -0.4375\n",
      "Iteration No: 290 started. Searching for the next optimal point.\n",
      "[100, 10, 'sqrt', 2, 1, False]\n"
     ]
    },
    {
     "name": "stderr",
     "output_type": "stream",
     "text": [
      "/home/carcook/anaconda3/envs/TCGA-round1/lib/python3.8/site-packages/skopt/optimizer/optimizer.py:449: UserWarning: The objective has been evaluated at this point before.\n",
      "  warnings.warn(\"The objective has been evaluated \"\n"
     ]
    },
    {
     "name": "stdout",
     "output_type": "stream",
     "text": [
      "*****redundant*****\n",
      "Iteration No: 290 ended. Search finished for the next optimal point.\n",
      "Time taken: 10.0752\n",
      "Function value obtained: -0.4077\n",
      "Current minimum: -0.4375\n",
      "Iteration No: 291 started. Searching for the next optimal point.\n",
      "[100, 10, 'sqrt', 2, 1, False]\n"
     ]
    },
    {
     "name": "stderr",
     "output_type": "stream",
     "text": [
      "/home/carcook/anaconda3/envs/TCGA-round1/lib/python3.8/site-packages/skopt/optimizer/optimizer.py:449: UserWarning: The objective has been evaluated at this point before.\n",
      "  warnings.warn(\"The objective has been evaluated \"\n"
     ]
    },
    {
     "name": "stdout",
     "output_type": "stream",
     "text": [
      "*****redundant*****\n",
      "Iteration No: 291 ended. Search finished for the next optimal point.\n",
      "Time taken: 11.1415\n",
      "Function value obtained: -0.4018\n",
      "Current minimum: -0.4375\n",
      "Iteration No: 292 started. Searching for the next optimal point.\n",
      "[100, 10, 'sqrt', 2, 1, False]\n"
     ]
    },
    {
     "name": "stderr",
     "output_type": "stream",
     "text": [
      "/home/carcook/anaconda3/envs/TCGA-round1/lib/python3.8/site-packages/skopt/optimizer/optimizer.py:449: UserWarning: The objective has been evaluated at this point before.\n",
      "  warnings.warn(\"The objective has been evaluated \"\n"
     ]
    },
    {
     "name": "stdout",
     "output_type": "stream",
     "text": [
      "*****redundant*****\n",
      "Iteration No: 292 ended. Search finished for the next optimal point.\n",
      "Time taken: 9.8736\n",
      "Function value obtained: -0.3905\n",
      "Current minimum: -0.4375\n",
      "Iteration No: 293 started. Searching for the next optimal point.\n",
      "[100, 10, 'sqrt', 2, 1, False]\n"
     ]
    },
    {
     "name": "stderr",
     "output_type": "stream",
     "text": [
      "/home/carcook/anaconda3/envs/TCGA-round1/lib/python3.8/site-packages/skopt/optimizer/optimizer.py:449: UserWarning: The objective has been evaluated at this point before.\n",
      "  warnings.warn(\"The objective has been evaluated \"\n"
     ]
    },
    {
     "name": "stdout",
     "output_type": "stream",
     "text": [
      "*****redundant*****\n",
      "Iteration No: 293 ended. Search finished for the next optimal point.\n",
      "Time taken: 10.7739\n",
      "Function value obtained: -0.4071\n",
      "Current minimum: -0.4375\n",
      "Iteration No: 294 started. Searching for the next optimal point.\n",
      "[100, 10, 'sqrt', 2, 1, False]\n"
     ]
    },
    {
     "name": "stderr",
     "output_type": "stream",
     "text": [
      "/home/carcook/anaconda3/envs/TCGA-round1/lib/python3.8/site-packages/skopt/optimizer/optimizer.py:449: UserWarning: The objective has been evaluated at this point before.\n",
      "  warnings.warn(\"The objective has been evaluated \"\n"
     ]
    },
    {
     "name": "stdout",
     "output_type": "stream",
     "text": [
      "*****redundant*****\n",
      "Iteration No: 294 ended. Search finished for the next optimal point.\n",
      "Time taken: 10.2229\n",
      "Function value obtained: -0.4088\n",
      "Current minimum: -0.4375\n",
      "Iteration No: 295 started. Searching for the next optimal point.\n",
      "[100, 10, 'sqrt', 2, 1, False]\n"
     ]
    },
    {
     "name": "stderr",
     "output_type": "stream",
     "text": [
      "/home/carcook/anaconda3/envs/TCGA-round1/lib/python3.8/site-packages/skopt/optimizer/optimizer.py:449: UserWarning: The objective has been evaluated at this point before.\n",
      "  warnings.warn(\"The objective has been evaluated \"\n"
     ]
    },
    {
     "name": "stdout",
     "output_type": "stream",
     "text": [
      "*****redundant*****\n",
      "Iteration No: 295 ended. Search finished for the next optimal point.\n",
      "Time taken: 10.3194\n",
      "Function value obtained: -0.4075\n",
      "Current minimum: -0.4375\n",
      "Iteration No: 296 started. Searching for the next optimal point.\n",
      "[100, 10, 'sqrt', 2, 1, False]\n"
     ]
    },
    {
     "name": "stderr",
     "output_type": "stream",
     "text": [
      "/home/carcook/anaconda3/envs/TCGA-round1/lib/python3.8/site-packages/skopt/optimizer/optimizer.py:449: UserWarning: The objective has been evaluated at this point before.\n",
      "  warnings.warn(\"The objective has been evaluated \"\n"
     ]
    },
    {
     "name": "stdout",
     "output_type": "stream",
     "text": [
      "*****redundant*****\n",
      "Iteration No: 296 ended. Search finished for the next optimal point.\n",
      "Time taken: 11.3068\n",
      "Function value obtained: -0.4001\n",
      "Current minimum: -0.4375\n",
      "Iteration No: 297 started. Searching for the next optimal point.\n",
      "[100, 10, 'sqrt', 2, 1, False]\n"
     ]
    },
    {
     "name": "stderr",
     "output_type": "stream",
     "text": [
      "/home/carcook/anaconda3/envs/TCGA-round1/lib/python3.8/site-packages/skopt/optimizer/optimizer.py:449: UserWarning: The objective has been evaluated at this point before.\n",
      "  warnings.warn(\"The objective has been evaluated \"\n"
     ]
    },
    {
     "name": "stdout",
     "output_type": "stream",
     "text": [
      "*****redundant*****\n",
      "Iteration No: 297 ended. Search finished for the next optimal point.\n",
      "Time taken: 11.4063\n",
      "Function value obtained: -0.3934\n",
      "Current minimum: -0.4375\n",
      "Iteration No: 298 started. Searching for the next optimal point.\n",
      "[100, 10, 'sqrt', 2, 1, False]\n"
     ]
    },
    {
     "name": "stderr",
     "output_type": "stream",
     "text": [
      "/home/carcook/anaconda3/envs/TCGA-round1/lib/python3.8/site-packages/skopt/optimizer/optimizer.py:449: UserWarning: The objective has been evaluated at this point before.\n",
      "  warnings.warn(\"The objective has been evaluated \"\n"
     ]
    },
    {
     "name": "stdout",
     "output_type": "stream",
     "text": [
      "*****redundant*****\n",
      "Iteration No: 298 ended. Search finished for the next optimal point.\n",
      "Time taken: 11.8899\n",
      "Function value obtained: -0.4083\n",
      "Current minimum: -0.4375\n",
      "Iteration No: 299 started. Searching for the next optimal point.\n",
      "[100, 10, 'sqrt', 2, 1, False]\n"
     ]
    },
    {
     "name": "stderr",
     "output_type": "stream",
     "text": [
      "/home/carcook/anaconda3/envs/TCGA-round1/lib/python3.8/site-packages/skopt/optimizer/optimizer.py:449: UserWarning: The objective has been evaluated at this point before.\n",
      "  warnings.warn(\"The objective has been evaluated \"\n"
     ]
    },
    {
     "name": "stdout",
     "output_type": "stream",
     "text": [
      "*****redundant*****\n",
      "Iteration No: 299 ended. Search finished for the next optimal point.\n",
      "Time taken: 11.0535\n",
      "Function value obtained: -0.3812\n",
      "Current minimum: -0.4375\n",
      "Iteration No: 300 started. Searching for the next optimal point.\n",
      "[100, 10, 'sqrt', 2, 1, False]\n"
     ]
    },
    {
     "name": "stderr",
     "output_type": "stream",
     "text": [
      "/home/carcook/anaconda3/envs/TCGA-round1/lib/python3.8/site-packages/skopt/optimizer/optimizer.py:449: UserWarning: The objective has been evaluated at this point before.\n",
      "  warnings.warn(\"The objective has been evaluated \"\n"
     ]
    },
    {
     "name": "stdout",
     "output_type": "stream",
     "text": [
      "*****redundant*****\n",
      "Iteration No: 300 ended. Search finished for the next optimal point.\n",
      "Time taken: 11.0020\n",
      "Function value obtained: -0.3894\n",
      "Current minimum: -0.4375\n"
     ]
    }
   ],
   "source": [
    "callback_file = f\"{unified_dsets[i]}_opt_rfc_h_params.tsv\"\n",
    "try:\n",
    "    os.remove(callback_file)\n",
    "except OSError:\n",
    "    pass\n",
    "\n",
    "\n",
    "res = gp_minimize(\n",
    "    lambda h_ps: objective(h_ps, x_df, y_df, rand),\n",
    "    space,\n",
    "    verbose=True,\n",
    "    random_state=rand,\n",
    "    n_initial_points=n_initial,\n",
    "    n_calls = n_calls,\n",
    "    n_jobs=-1,\n",
    "    callback=lambda x: opt.save_callback(x, callback_file, n = 5, sep=\"\\t\")\n",
    ")"
   ]
  },
  {
   "cell_type": "code",
   "execution_count": null,
   "metadata": {},
   "outputs": [],
   "source": []
  }
 ],
 "metadata": {
  "kernelspec": {
   "display_name": "Python 3",
   "language": "python",
   "name": "python3"
  },
  "language_info": {
   "codemirror_mode": {
    "name": "ipython",
    "version": 3
   },
   "file_extension": ".py",
   "mimetype": "text/x-python",
   "name": "python",
   "nbconvert_exporter": "python",
   "pygments_lexer": "ipython3",
   "version": "3.8.3"
  }
 },
 "nbformat": 4,
 "nbformat_minor": 4
}
