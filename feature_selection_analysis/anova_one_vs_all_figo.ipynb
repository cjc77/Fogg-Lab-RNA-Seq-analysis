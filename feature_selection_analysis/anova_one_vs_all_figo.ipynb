{
 "cells": [
  {
   "cell_type": "code",
   "execution_count": 157,
   "metadata": {},
   "outputs": [],
   "source": [
    "library(tidyverse)\n",
    "\n",
    "# Custom package\n",
    "library(rutils)"
   ]
  },
  {
   "cell_type": "code",
   "execution_count": 158,
   "metadata": {},
   "outputs": [],
   "source": [
    "dirs <- rutils::get_dev_directories(dev_paths_file = \"../dev_paths.txt\")\n",
    "projects <- c(\"TCGA-CESC\", \"TCGA-UCS\", \"TCGA-UCEC\", \"TCGA-OV\")\n",
    "unified_dsets <- c(\"unified_cervical_data\", \"unified_uterine_data\", \"unified_uterine_endometrial_data\")\n",
    "matrisome_path <- paste0(dirs$data_dir, \"/matrisome/matrisome_hs_masterlist.tsv\")"
   ]
  },
  {
   "cell_type": "code",
   "execution_count": 159,
   "metadata": {},
   "outputs": [],
   "source": [
    "dset_idx <- 1"
   ]
  },
  {
   "cell_type": "markdown",
   "metadata": {},
   "source": [
    "# Load and filter survival data"
   ]
  },
  {
   "cell_type": "code",
   "execution_count": 160,
   "metadata": {},
   "outputs": [],
   "source": [
    "event_code <- list(\"Alive\" = 0, \"Dead\" = 1)\n",
    "covariate_cols_no_figo <- c(\"age_at_diagnosis\", \"race\", \"ethnicity\")\n",
    "covariate_cols <- c(\"figo_stage\", covariate_cols_no_figo)\n",
    "dep_cols <- c(\"vital_status\", \"survival_time\")"
   ]
  },
  {
   "cell_type": "code",
   "execution_count": 161,
   "metadata": {},
   "outputs": [
    {
     "name": "stderr",
     "output_type": "stream",
     "text": [
      "Parsed with column specification:\n",
      "cols(\n",
      "  sample_name = col_character(),\n",
      "  vital_status = col_character(),\n",
      "  survival_time = col_double(),\n",
      "  figo_stage = col_character(),\n",
      "  days_to_last_follow_up = col_double(),\n",
      "  days_to_death = col_double(),\n",
      "  age_at_diagnosis = col_double(),\n",
      "  age_at_index = col_double(),\n",
      "  height = col_double(),\n",
      "  weight = col_double(),\n",
      "  bmi = col_double(),\n",
      "  race = col_character(),\n",
      "  ethnicity = col_character()\n",
      ")\n"
     ]
    }
   ],
   "source": [
    "survival_path <- paste0(dirs$data_dir, \"/\", unified_dsets[dset_idx], \"/survival_data.tsv\")\n",
    "survival_df <- load_survival_df(survival_path, event_code)"
   ]
  },
  {
   "cell_type": "code",
   "execution_count": 162,
   "metadata": {},
   "outputs": [],
   "source": [
    "filtered_survival_df <- survival_df %>%\n",
    "    decode_figo_stage(to = \"n\") %>%\n",
    "    dplyr::mutate(figo_stage = as.character(figo_stage)) %>%\n",
    "    dplyr::select(sample_name, figo_stage, race, ethnicity, age_at_diagnosis) %>% # make sure using same samples as classification models\n",
    "    dplyr::filter(rowSums(is.na(.)) == 0) %>%\n",
    "    dplyr::select(sample_name, figo_stage) %>%\n",
    "    bind_cols(to_one_hot(., \"figo_stage\"))\n",
    "#     dplyr::select(-figo_stage)"
   ]
  },
  {
   "cell_type": "markdown",
   "metadata": {},
   "source": [
    "# Load normalized matrisome count data"
   ]
  },
  {
   "cell_type": "code",
   "execution_count": 163,
   "metadata": {},
   "outputs": [
    {
     "name": "stderr",
     "output_type": "stream",
     "text": [
      "Parsed with column specification:\n",
      "cols(\n",
      "  .default = col_double(),\n",
      "  geneID = col_character()\n",
      ")\n",
      "See spec(...) for full column specifications.\n"
     ]
    }
   ],
   "source": [
    "norm_matrisome_counts_path <- paste0(dirs$data_dir, \"/\", unified_dsets[dset_idx], \"/norm_matrisome_counts.tsv\")\n",
    "norm_survival_counts_t_df <- read_tsv(norm_matrisome_counts_path) %>%\n",
    "    dplyr::select(c(\"geneID\", filtered_survival_df$sample_name)) %>%\n",
    "    transpose_df(\"geneID\", \"sample_name\")"
   ]
  },
  {
   "cell_type": "code",
   "execution_count": 164,
   "metadata": {},
   "outputs": [],
   "source": [
    "joined_df <- filtered_survival_df %>%\n",
    "    inner_join(norm_survival_counts_t_df, by = \"sample_name\")\n",
    "#     dplyr::mutate(figo_stage = case_when(\n",
    "#         figo_stage %in% c(\"figo_stage_1\", \"figo_stage_2\") ~ \"early\",\n",
    "#         figo_stage %in% c(\"figo_stage_3\", \"figo_stage_4\") ~ \"late\"\n",
    "#     ))"
   ]
  },
  {
   "cell_type": "code",
   "execution_count": 165,
   "metadata": {},
   "outputs": [
    {
     "name": "stderr",
     "output_type": "stream",
     "text": [
      "`summarise()` ungrouping output (override with `.groups` argument)\n"
     ]
    },
    {
     "data": {
      "text/html": [
       "<table>\n",
       "<caption>A tibble: 4 × 2</caption>\n",
       "<thead>\n",
       "\t<tr><th scope=col>figo_stage</th><th scope=col>n</th></tr>\n",
       "\t<tr><th scope=col>&lt;chr&gt;</th><th scope=col>&lt;int&gt;</th></tr>\n",
       "</thead>\n",
       "<tbody>\n",
       "\t<tr><td>1</td><td>135</td></tr>\n",
       "\t<tr><td>2</td><td> 61</td></tr>\n",
       "\t<tr><td>3</td><td> 40</td></tr>\n",
       "\t<tr><td>4</td><td> 19</td></tr>\n",
       "</tbody>\n",
       "</table>\n"
      ],
      "text/latex": [
       "A tibble: 4 × 2\n",
       "\\begin{tabular}{ll}\n",
       " figo\\_stage & n\\\\\n",
       " <chr> & <int>\\\\\n",
       "\\hline\n",
       "\t 1 & 135\\\\\n",
       "\t 2 &  61\\\\\n",
       "\t 3 &  40\\\\\n",
       "\t 4 &  19\\\\\n",
       "\\end{tabular}\n"
      ],
      "text/markdown": [
       "\n",
       "A tibble: 4 × 2\n",
       "\n",
       "| figo_stage &lt;chr&gt; | n &lt;int&gt; |\n",
       "|---|---|\n",
       "| 1 | 135 |\n",
       "| 2 |  61 |\n",
       "| 3 |  40 |\n",
       "| 4 |  19 |\n",
       "\n"
      ],
      "text/plain": [
       "  figo_stage n  \n",
       "1 1          135\n",
       "2 2           61\n",
       "3 3           40\n",
       "4 4           19"
      ]
     },
     "metadata": {},
     "output_type": "display_data"
    }
   ],
   "source": [
    "joined_df %>%\n",
    "    group_by(figo_stage) %>%\n",
    "    summarize(n = n())"
   ]
  },
  {
   "cell_type": "code",
   "execution_count": 166,
   "metadata": {},
   "outputs": [],
   "source": [
    "# Some genes contain the '-' symbol, which affects formulae\n",
    "colnames(joined_df) <- gsub(\"-\", \"_\", colnames(joined_df))"
   ]
  },
  {
   "cell_type": "code",
   "execution_count": 167,
   "metadata": {},
   "outputs": [],
   "source": [
    "gene_names <- colnames(joined_df[-c(1:6)])\n",
    "pval_mat <- matrix(0.0, nrow=length(gene_names), ncol=4)\n",
    "colnames(pval_mat) <- paste0(colnames(filtered_survival_df)[-c(1:2)], \"_pval\")"
   ]
  },
  {
   "cell_type": "code",
   "execution_count": 168,
   "metadata": {},
   "outputs": [],
   "source": [
    "for (i in 1:length(gene_names)) {\n",
    "    g <- gene_names[i]\n",
    "    formula_strs <- paste0(g, \" ~ \", colnames(filtered_survival_df)[-c(1:2)])\n",
    "    waov_res <- lapply(formula_strs, function(x) { oneway.test(as.formula(x), data = joined_df) })\n",
    "    waov_pvals <- lapply(waov_res, function(x) { x$p.value })\n",
    "    pval_mat[i, ] <- unlist(waov_pvals)\n",
    "}\n"
   ]
  },
  {
   "cell_type": "code",
   "execution_count": 169,
   "metadata": {},
   "outputs": [],
   "source": [
    "waov_df <- tibble(gene_names) %>%\n",
    "    bind_cols(as_tibble(pval_mat))\n",
    "waov_padj <- apply(waov_df[-1], 2, function(x) { p.adjust(x, method = \"BH\") })\n",
    "colnames(waov_padj) <- gsub(\"pval\", \"padj\", colnames(waov_padj))\n",
    "waov_df <- waov_df %>%\n",
    "    bind_cols(as_tibble(waov_padj))"
   ]
  },
  {
   "cell_type": "code",
   "execution_count": 170,
   "metadata": {},
   "outputs": [],
   "source": [
    "write_tsv(waov_df, paste0(dirs$analysis_dir, \"/\", unified_dsets[dset_idx], \"_welch_anova_one_vs_all_results.tsv\"))"
   ]
  }
 ],
 "metadata": {
  "kernelspec": {
   "display_name": "R",
   "language": "R",
   "name": "ir"
  },
  "language_info": {
   "codemirror_mode": "r",
   "file_extension": ".r",
   "mimetype": "text/x-r-source",
   "name": "R",
   "pygments_lexer": "r",
   "version": "3.6.3"
  }
 },
 "nbformat": 4,
 "nbformat_minor": 4
}
