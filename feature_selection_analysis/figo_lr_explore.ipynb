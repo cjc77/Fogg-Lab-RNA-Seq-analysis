{
 "cells": [
  {
   "cell_type": "code",
   "execution_count": 1,
   "id": "incorporate-geneva",
   "metadata": {},
   "outputs": [],
   "source": [
    "import pandas as pd\n",
    "import numpy as np\n",
    "from sklearn.linear_model import LogisticRegression\n",
    "from sklearn.ensemble import GradientBoostingClassifier, RandomForestClassifier\n",
    "from sklearn.pipeline import make_pipeline\n",
    "from sklearn.preprocessing import StandardScaler\n",
    "from sklearn.model_selection import cross_val_score, KFold\n",
    "from sklearn.compose import ColumnTransformer, TransformedTargetRegressor\n",
    "from sklearn.metrics import f1_score\n",
    "from sklearn.inspection import permutation_importance\n",
    "\n",
    "import utils.dev_config as dev_conf\n",
    "import utils.preprocessing as prep\n",
    "import utils.optimization as opt\n",
    "import utils.feature_selection as feat_sel\n",
    "\n"
   ]
  },
  {
   "cell_type": "code",
   "execution_count": 2,
   "id": "european-mason",
   "metadata": {},
   "outputs": [],
   "source": [
    "def make_lr(h_params, matrisome_genes):\n",
    "    if pd.isna(h_params[\"class_weight\"]):\n",
    "        h_params[\"class_weight\"] = None\n",
    "    model = make_pipeline(\n",
    "        # c_transformer = ColumnTransformer([\n",
    "        #     (\"standard\", StandardScaler(), [\"age_at_diagnosis\"] + list(matrisome_genes))\n",
    "        # ], remainder=\"passthrough\")\n",
    "        ColumnTransformer([\n",
    "            (\"standard\", StandardScaler(), list(matrisome_genes))\n",
    "        ], remainder=\"passthrough\"),\n",
    "        LogisticRegression(\n",
    "            C=h_params[\"C\"],\n",
    "            class_weight=h_params[\"class_weight\"],\n",
    "            solver=h_params[\"solver\"],\n",
    "            penalty=h_params[\"penalty\"],\n",
    "            random_state=h_params[\"random_state\"],\n",
    "            n_jobs=-1\n",
    "        )\n",
    "    )\n",
    "    return model\n"
   ]
  },
  {
   "cell_type": "code",
   "execution_count": 3,
   "id": "fluid-fusion",
   "metadata": {},
   "outputs": [],
   "source": [
    "# Define constants and load data\n",
    "dirs = dev_conf.get_dev_directories(\"../dev_paths.txt\")\n",
    "unified_dsets = [\"unified_cervical_data\", \"unified_uterine_data\", \"unified_uterine_endometrial_data\"]\n",
    "matrisome_list = f\"{dirs.data_dir}/matrisome/matrisome_hs_masterlist.tsv\"\n",
    "seed = 123\n",
    "rand = np.random.RandomState()\n",
    "event_code = {\"Alive\": 0, \"Dead\": 1}\n",
    "# covariate_cols = [\"age_at_diagnosis\", \"race\", \"ethnicity\"]\n",
    "dep_cols = [\"figo_stage\"]\n",
    "# cat_cols = [\"race\", \"ethnicity\"]\n",
    "scoring_method = \"f1_macro\""
   ]
  },
  {
   "cell_type": "code",
   "execution_count": 4,
   "id": "moderate-mustang",
   "metadata": {},
   "outputs": [],
   "source": [
    "dset_idx = 0"
   ]
  },
  {
   "cell_type": "code",
   "execution_count": 5,
   "id": "initial-chart",
   "metadata": {},
   "outputs": [],
   "source": [
    "# Load and filter survival data\n",
    "survival_df = prep.load_survival_df(f\"{dirs.data_dir}/{unified_dsets[dset_idx]}/survival_data.tsv\", event_code)\n",
    "filtered_survival_df = (\n",
    "    # prep.decode_figo_stage(survival_df[[\"sample_name\"] + dep_cols + covariate_cols].dropna(), to=\"n\")\n",
    "    prep.decode_figo_stage(survival_df[[\"sample_name\"] + dep_cols].dropna(), to=\"n\")\n",
    "        # .pipe(pd.get_dummies, columns=cat_cols)\n",
    "        .reset_index(drop = True)\n",
    "        .pipe(prep.cols_to_front, [\"sample_name\", \"figo_num\"])\n",
    ")\n",
    "filtered_survival_df.columns = filtered_survival_df.columns.str.replace(' ', '_')\n",
    "\n",
    "# Load normalized matrisome count data\n",
    "norm_matrisome_counts_df = pd.read_csv(f\"{dirs.data_dir}/{unified_dsets[dset_idx]}/norm_matrisome_counts.tsv\", sep='\\t')\n",
    "norm_filtered_matrisome_counts_t_df = prep.transpose_df(\n",
    "    norm_matrisome_counts_df[[\"geneID\"] + list(filtered_survival_df.sample_name)], \"geneID\", \"sample_name\"\n",
    ")\n",
    "\n",
    "# Combine survival data and normalized count data\n",
    "joined_df = (\n",
    "    pd.merge(filtered_survival_df, norm_filtered_matrisome_counts_t_df, on=\"sample_name\")\n",
    "        .set_index(\"sample_name\")\n",
    ")\n",
    "\n",
    "rand.seed(seed)\n",
    "x_df, y_df = prep.shuffle_data(joined_df, rand)\n",
    "\n",
    "# Prep for running models\n",
    "matrisome_genes = norm_filtered_matrisome_counts_t_df.columns[1:]\n",
    "\n",
    "# Build models\n",
    "l1_lr_h_param_df = pd.read_csv(f\"{dirs.analysis_dir}/model_opt/{unified_dsets[dset_idx]}_opt_lr_h_params_l1_{scoring_method}.tsv\", sep=\"\\t\")\n",
    "l1_lrs = []\n",
    "for i in range(l1_lr_h_param_df.shape[0]):\n",
    "    l1_lr_h_params = {\n",
    "        **dict(zip(l1_lr_h_param_df.columns[:-1], l1_lr_h_param_df.iloc[i, :-1])), \"penalty\": \"l1\", \"random_state\": rand\n",
    "    }\n",
    "    l1_lrs.append(make_lr(l1_lr_h_params, matrisome_genes))\n"
   ]
  },
  {
   "cell_type": "code",
   "execution_count": 6,
   "id": "disturbed-tiger",
   "metadata": {},
   "outputs": [],
   "source": [
    "any_model_genes = []\n",
    "all_model_genes = []"
   ]
  },
  {
   "cell_type": "code",
   "execution_count": 7,
   "id": "fluid-ocean",
   "metadata": {},
   "outputs": [
    {
     "name": "stderr",
     "output_type": "stream",
     "text": [
      "/home/carcook/anaconda3/envs/gynmatv2-env/lib/python3.8/site-packages/sklearn/linear_model/_sag.py:328: ConvergenceWarning: The max_iter was reached which means the coef_ did not converge\n",
      "  warnings.warn(\"The max_iter was reached which means \"\n",
      "/home/carcook/anaconda3/envs/gynmatv2-env/lib/python3.8/site-packages/sklearn/linear_model/_sag.py:328: ConvergenceWarning: The max_iter was reached which means the coef_ did not converge\n",
      "  warnings.warn(\"The max_iter was reached which means \"\n",
      "/home/carcook/anaconda3/envs/gynmatv2-env/lib/python3.8/site-packages/sklearn/linear_model/_sag.py:328: ConvergenceWarning: The max_iter was reached which means the coef_ did not converge\n",
      "  warnings.warn(\"The max_iter was reached which means \"\n",
      "/home/carcook/anaconda3/envs/gynmatv2-env/lib/python3.8/site-packages/sklearn/linear_model/_sag.py:328: ConvergenceWarning: The max_iter was reached which means the coef_ did not converge\n",
      "  warnings.warn(\"The max_iter was reached which means \"\n",
      "/home/carcook/anaconda3/envs/gynmatv2-env/lib/python3.8/site-packages/sklearn/linear_model/_sag.py:328: ConvergenceWarning: The max_iter was reached which means the coef_ did not converge\n",
      "  warnings.warn(\"The max_iter was reached which means \"\n"
     ]
    }
   ],
   "source": [
    "for p_line in l1_lrs:\n",
    "    p_line.fit(x_df, y_df.squeeze())\n",
    "    all_model_genes.append(matrisome_genes[np.where(np.sum(p_line[1].coef_ != 0, axis=0) == 4)])\n",
    "    any_model_genes.append(matrisome_genes[np.where(np.sum(p_line[1].coef_ != 0, axis=0) > 0)])"
   ]
  },
  {
   "cell_type": "code",
   "execution_count": 10,
   "id": "protective-canal",
   "metadata": {},
   "outputs": [
    {
     "name": "stdout",
     "output_type": "stream",
     "text": [
      "854\n",
      "54\n"
     ]
    }
   ],
   "source": [
    "print(len(set.intersection(*map(set, any_model_genes))))\n",
    "print(len(set.intersection(*map(set, all_model_genes))))"
   ]
  },
  {
   "cell_type": "code",
   "execution_count": 11,
   "id": "fitted-stake",
   "metadata": {},
   "outputs": [
    {
     "name": "stdout",
     "output_type": "stream",
     "text": [
      "[867, 888, 874, 889, 856]\n",
      "[62, 85, 69, 83, 54]\n"
     ]
    }
   ],
   "source": [
    "print(list(map(len, any_model_genes)))\n",
    "print(list(map(len, all_model_genes)))"
   ]
  }
 ],
 "metadata": {
  "kernelspec": {
   "display_name": "Python 3",
   "language": "python",
   "name": "python3"
  },
  "language_info": {
   "codemirror_mode": {
    "name": "ipython",
    "version": 3
   },
   "file_extension": ".py",
   "mimetype": "text/x-python",
   "name": "python",
   "nbconvert_exporter": "python",
   "pygments_lexer": "ipython3",
   "version": "3.8.3"
  }
 },
 "nbformat": 4,
 "nbformat_minor": 5
}
