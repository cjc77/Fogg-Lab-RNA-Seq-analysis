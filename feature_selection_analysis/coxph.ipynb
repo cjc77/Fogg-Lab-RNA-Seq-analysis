{
 "cells": [
  {
   "cell_type": "code",
   "execution_count": 15,
   "metadata": {},
   "outputs": [],
   "source": [
    "library(tidyverse)\n",
    "library(survival)\n",
    "library(survminer)\n",
    "library(ggplot2)\n",
    "\n",
    "# Custom package\n",
    "library(rutils)"
   ]
  },
  {
   "cell_type": "code",
   "execution_count": 16,
   "metadata": {},
   "outputs": [],
   "source": [
    "dirs <- rutils::get_dev_directories(dev_paths_file = \"../dev_paths.txt\")\n",
    "projects <- c(\"TCGA-CESC\", \"TCGA-UCS\", \"TCGA-UCEC\", \"TCGA-OV\")\n",
    "unified_dsets <- c(\"unified_cervical_data\", \"unified_uterine_data\", \"unified_uterine_endometrial_data\")\n",
    "matrisome_path <- paste0(dirs$data_dir, \"/matrisome/matrisome_hs_masterlist.tsv\")"
   ]
  },
  {
   "cell_type": "code",
   "execution_count": 17,
   "metadata": {},
   "outputs": [],
   "source": [
    "dset_idx <- 1"
   ]
  },
  {
   "cell_type": "markdown",
   "metadata": {},
   "source": [
    "# Load and filter survival data"
   ]
  },
  {
   "cell_type": "code",
   "execution_count": 18,
   "metadata": {},
   "outputs": [],
   "source": [
    "event_code <- list(\"Alive\" = 0, \"Dead\" = 1)\n",
    "covariate_cols <- c(\"figo_stage\", \"age_at_diagnosis\", \"race\", \"ethnicity\")\n",
    "dep_cols <- c(\"vital_status\", \"survival_time\")\n",
    "figo_map_df <- tibble(\n",
    "    roman_num = c(\"I\", \"II\", \"III\", \"IV\"),\n",
    "    figo_code = c('1', '2', '3', '4')\n",
    ")"
   ]
  },
  {
   "cell_type": "code",
   "execution_count": 19,
   "metadata": {},
   "outputs": [
    {
     "name": "stderr",
     "output_type": "stream",
     "text": [
      "Parsed with column specification:\n",
      "cols(\n",
      "  sample_name = col_character(),\n",
      "  vital_status = col_character(),\n",
      "  survival_time = col_double(),\n",
      "  figo_stage = col_character(),\n",
      "  days_to_last_follow_up = col_double(),\n",
      "  days_to_death = col_double(),\n",
      "  age_at_diagnosis = col_double(),\n",
      "  age_at_index = col_double(),\n",
      "  height = col_double(),\n",
      "  weight = col_double(),\n",
      "  bmi = col_double(),\n",
      "  race = col_character(),\n",
      "  ethnicity = col_character()\n",
      ")\n"
     ]
    }
   ],
   "source": [
    "survival_path <- paste0(dirs$data_dir, \"/\", unified_dsets[dset_idx], \"/survival_data.tsv\")\n",
    "survival_df <- load_survival_df(survival_path, event_code)\n",
    "filtered_survival_df <- survival_df %>%\n",
    "    dplyr::select(one_of(c(\"sample_name\", dep_cols, covariate_cols))) %>%\n",
    "    dplyr::filter(rowSums(is.na(.)) == 0) %>%\n",
    "    dplyr::mutate(\n",
    "        figo_rn = str_extract(figo_stage, \"IV|III|II|I\")\n",
    "    ) %>%\n",
    "    dplyr::inner_join(figo_map_df, by = c(\"figo_rn\" = \"roman_num\")) %>%\n",
    "    dplyr::select(-c(figo_rn, figo_stage)) %>%\n",
    "    dplyr::rename(figo_stage = figo_code)"
   ]
  },
  {
   "cell_type": "markdown",
   "metadata": {},
   "source": [
    "# Load normalized matrisome count data"
   ]
  },
  {
   "cell_type": "code",
   "execution_count": 20,
   "metadata": {},
   "outputs": [
    {
     "name": "stderr",
     "output_type": "stream",
     "text": [
      "Parsed with column specification:\n",
      "cols(\n",
      "  .default = col_double(),\n",
      "  geneID = col_character()\n",
      ")\n",
      "See spec(...) for full column specifications.\n"
     ]
    }
   ],
   "source": [
    "norm_matrisome_counts <- read_tsv(paste0(dirs$data_dir, \"/\", unified_dsets[dset_idx], \"/norm_matrisome_counts.tsv\")) %>%\n",
    "    column_to_rownames(var = \"geneID\") %>%\n",
    "    as.matrix()\n",
    "\n",
    "# Match up columns of counts with rows of survival data & only include samples present in survival data\n",
    "norm_matrisome_survival_counts <- norm_matrisome_counts[, filtered_survival_df$sample_name]"
   ]
  },
  {
   "cell_type": "code",
   "execution_count": 21,
   "metadata": {},
   "outputs": [
    {
     "data": {
      "text/html": [
       "TRUE"
      ],
      "text/latex": [
       "TRUE"
      ],
      "text/markdown": [
       "TRUE"
      ],
      "text/plain": [
       "[1] TRUE"
      ]
     },
     "metadata": {},
     "output_type": "display_data"
    }
   ],
   "source": [
    "all(rownames(t(norm_matrisome_survival_counts)) == filtered_survival_df$sample_name)"
   ]
  },
  {
   "cell_type": "markdown",
   "metadata": {},
   "source": [
    "# Combine filtered survival data and normalized count data"
   ]
  },
  {
   "cell_type": "code",
   "execution_count": 22,
   "metadata": {},
   "outputs": [
    {
     "data": {
      "text/html": [
       "255"
      ],
      "text/latex": [
       "255"
      ],
      "text/markdown": [
       "255"
      ],
      "text/plain": [
       "[1] 255"
      ]
     },
     "metadata": {},
     "output_type": "display_data"
    },
    {
     "data": {
      "text/html": [
       "<table>\n",
       "<caption>A tibble: 6 × 1015</caption>\n",
       "<thead>\n",
       "\t<tr><th scope=col>sample_name</th><th scope=col>vital_status</th><th scope=col>survival_time</th><th scope=col>age_at_diagnosis</th><th scope=col>race</th><th scope=col>ethnicity</th><th scope=col>figo_stage</th><th scope=col>PGF</th><th scope=col>TIMP4</th><th scope=col>C1QTNF6</th><th scope=col>⋯</th><th scope=col>PIK3IP1</th><th scope=col>C1QTNF2</th><th scope=col>PCSK5</th><th scope=col>ANXA1</th><th scope=col>HGF</th><th scope=col>VWA2</th><th scope=col>FGF3</th><th scope=col>POSTN</th><th scope=col>NTF3</th><th scope=col>S100A6</th></tr>\n",
       "\t<tr><th scope=col>&lt;chr&gt;</th><th scope=col>&lt;dbl&gt;</th><th scope=col>&lt;dbl&gt;</th><th scope=col>&lt;dbl&gt;</th><th scope=col>&lt;chr&gt;</th><th scope=col>&lt;chr&gt;</th><th scope=col>&lt;chr&gt;</th><th scope=col>&lt;dbl&gt;</th><th scope=col>&lt;dbl&gt;</th><th scope=col>&lt;dbl&gt;</th><th scope=col>⋯</th><th scope=col>&lt;dbl&gt;</th><th scope=col>&lt;dbl&gt;</th><th scope=col>&lt;dbl&gt;</th><th scope=col>&lt;dbl&gt;</th><th scope=col>&lt;dbl&gt;</th><th scope=col>&lt;dbl&gt;</th><th scope=col>&lt;dbl&gt;</th><th scope=col>&lt;dbl&gt;</th><th scope=col>&lt;dbl&gt;</th><th scope=col>&lt;dbl&gt;</th></tr>\n",
       "</thead>\n",
       "<tbody>\n",
       "\t<tr><td>TCGA-C5-A1BF-01B-11R-A13Y-07</td><td>1</td><td> 570</td><td>16975</td><td>white</td><td>not reported          </td><td>1</td><td>10.800637</td><td>6.228003</td><td>11.669331</td><td>⋯</td><td> 9.013453</td><td>8.190325</td><td> 9.503647</td><td>14.07799</td><td> 6.569726</td><td>7.315604</td><td>4.602649</td><td>12.062300</td><td>5.649441</td><td>16.55841</td></tr>\n",
       "\t<tr><td>TCGA-MU-A51Y-01A-11R-A26T-07</td><td>0</td><td> 854</td><td>10199</td><td>white</td><td>not reported          </td><td>2</td><td> 8.451001</td><td>5.851272</td><td>10.079584</td><td>⋯</td><td>12.208410</td><td>8.172899</td><td>10.515388</td><td>16.88600</td><td> 7.384140</td><td>7.366949</td><td>4.890169</td><td>11.011959</td><td>5.406776</td><td>14.76108</td></tr>\n",
       "\t<tr><td>TCGA-EK-A2RM-01A-21R-A18M-07</td><td>0</td><td>  50</td><td>14842</td><td>white</td><td>not hispanic or latino</td><td>1</td><td> 9.674879</td><td>7.277164</td><td>10.712783</td><td>⋯</td><td>10.854224</td><td>6.581217</td><td> 8.437154</td><td>15.81626</td><td> 7.644559</td><td>6.406766</td><td>4.998296</td><td>11.731128</td><td>6.028879</td><td>17.11959</td></tr>\n",
       "\t<tr><td>TCGA-Q1-A73P-01A-11R-A32P-07</td><td>0</td><td> 483</td><td>16450</td><td>white</td><td>not hispanic or latino</td><td>1</td><td> 8.036801</td><td>5.247645</td><td> 9.894159</td><td>⋯</td><td>10.854487</td><td>5.629541</td><td> 9.602922</td><td>14.17475</td><td> 6.987468</td><td>6.731154</td><td>4.602649</td><td> 9.293089</td><td>4.893018</td><td>16.64949</td></tr>\n",
       "\t<tr><td>TCGA-C5-A8YT-01A-11R-A37O-07</td><td>1</td><td> 633</td><td>13253</td><td>white</td><td>not hispanic or latino</td><td>1</td><td> 7.830611</td><td>5.733875</td><td>12.445548</td><td>⋯</td><td> 9.453187</td><td>6.398956</td><td>12.288955</td><td>13.39633</td><td>10.228758</td><td>8.542025</td><td>4.602649</td><td>11.765396</td><td>5.318924</td><td>13.55632</td></tr>\n",
       "\t<tr><td>TCGA-C5-A2LZ-01A-11R-A213-07</td><td>1</td><td>3046</td><td>24059</td><td>white</td><td>not hispanic or latino</td><td>3</td><td>10.135550</td><td>4.865349</td><td> 8.566221</td><td>⋯</td><td>11.492135</td><td>7.426145</td><td> 9.480199</td><td>15.92715</td><td> 6.010764</td><td>7.405245</td><td>4.602649</td><td> 7.506731</td><td>5.423416</td><td>14.73802</td></tr>\n",
       "</tbody>\n",
       "</table>\n"
      ],
      "text/latex": [
       "A tibble: 6 × 1015\n",
       "\\begin{tabular}{lllllllllllllllllllll}\n",
       " sample\\_name & vital\\_status & survival\\_time & age\\_at\\_diagnosis & race & ethnicity & figo\\_stage & PGF & TIMP4 & C1QTNF6 & ⋯ & PIK3IP1 & C1QTNF2 & PCSK5 & ANXA1 & HGF & VWA2 & FGF3 & POSTN & NTF3 & S100A6\\\\\n",
       " <chr> & <dbl> & <dbl> & <dbl> & <chr> & <chr> & <chr> & <dbl> & <dbl> & <dbl> & ⋯ & <dbl> & <dbl> & <dbl> & <dbl> & <dbl> & <dbl> & <dbl> & <dbl> & <dbl> & <dbl>\\\\\n",
       "\\hline\n",
       "\t TCGA-C5-A1BF-01B-11R-A13Y-07 & 1 &  570 & 16975 & white & not reported           & 1 & 10.800637 & 6.228003 & 11.669331 & ⋯ &  9.013453 & 8.190325 &  9.503647 & 14.07799 &  6.569726 & 7.315604 & 4.602649 & 12.062300 & 5.649441 & 16.55841\\\\\n",
       "\t TCGA-MU-A51Y-01A-11R-A26T-07 & 0 &  854 & 10199 & white & not reported           & 2 &  8.451001 & 5.851272 & 10.079584 & ⋯ & 12.208410 & 8.172899 & 10.515388 & 16.88600 &  7.384140 & 7.366949 & 4.890169 & 11.011959 & 5.406776 & 14.76108\\\\\n",
       "\t TCGA-EK-A2RM-01A-21R-A18M-07 & 0 &   50 & 14842 & white & not hispanic or latino & 1 &  9.674879 & 7.277164 & 10.712783 & ⋯ & 10.854224 & 6.581217 &  8.437154 & 15.81626 &  7.644559 & 6.406766 & 4.998296 & 11.731128 & 6.028879 & 17.11959\\\\\n",
       "\t TCGA-Q1-A73P-01A-11R-A32P-07 & 0 &  483 & 16450 & white & not hispanic or latino & 1 &  8.036801 & 5.247645 &  9.894159 & ⋯ & 10.854487 & 5.629541 &  9.602922 & 14.17475 &  6.987468 & 6.731154 & 4.602649 &  9.293089 & 4.893018 & 16.64949\\\\\n",
       "\t TCGA-C5-A8YT-01A-11R-A37O-07 & 1 &  633 & 13253 & white & not hispanic or latino & 1 &  7.830611 & 5.733875 & 12.445548 & ⋯ &  9.453187 & 6.398956 & 12.288955 & 13.39633 & 10.228758 & 8.542025 & 4.602649 & 11.765396 & 5.318924 & 13.55632\\\\\n",
       "\t TCGA-C5-A2LZ-01A-11R-A213-07 & 1 & 3046 & 24059 & white & not hispanic or latino & 3 & 10.135550 & 4.865349 &  8.566221 & ⋯ & 11.492135 & 7.426145 &  9.480199 & 15.92715 &  6.010764 & 7.405245 & 4.602649 &  7.506731 & 5.423416 & 14.73802\\\\\n",
       "\\end{tabular}\n"
      ],
      "text/markdown": [
       "\n",
       "A tibble: 6 × 1015\n",
       "\n",
       "| sample_name &lt;chr&gt; | vital_status &lt;dbl&gt; | survival_time &lt;dbl&gt; | age_at_diagnosis &lt;dbl&gt; | race &lt;chr&gt; | ethnicity &lt;chr&gt; | figo_stage &lt;chr&gt; | PGF &lt;dbl&gt; | TIMP4 &lt;dbl&gt; | C1QTNF6 &lt;dbl&gt; | ⋯ ⋯ | PIK3IP1 &lt;dbl&gt; | C1QTNF2 &lt;dbl&gt; | PCSK5 &lt;dbl&gt; | ANXA1 &lt;dbl&gt; | HGF &lt;dbl&gt; | VWA2 &lt;dbl&gt; | FGF3 &lt;dbl&gt; | POSTN &lt;dbl&gt; | NTF3 &lt;dbl&gt; | S100A6 &lt;dbl&gt; |\n",
       "|---|---|---|---|---|---|---|---|---|---|---|---|---|---|---|---|---|---|---|---|---|\n",
       "| TCGA-C5-A1BF-01B-11R-A13Y-07 | 1 |  570 | 16975 | white | not reported           | 1 | 10.800637 | 6.228003 | 11.669331 | ⋯ |  9.013453 | 8.190325 |  9.503647 | 14.07799 |  6.569726 | 7.315604 | 4.602649 | 12.062300 | 5.649441 | 16.55841 |\n",
       "| TCGA-MU-A51Y-01A-11R-A26T-07 | 0 |  854 | 10199 | white | not reported           | 2 |  8.451001 | 5.851272 | 10.079584 | ⋯ | 12.208410 | 8.172899 | 10.515388 | 16.88600 |  7.384140 | 7.366949 | 4.890169 | 11.011959 | 5.406776 | 14.76108 |\n",
       "| TCGA-EK-A2RM-01A-21R-A18M-07 | 0 |   50 | 14842 | white | not hispanic or latino | 1 |  9.674879 | 7.277164 | 10.712783 | ⋯ | 10.854224 | 6.581217 |  8.437154 | 15.81626 |  7.644559 | 6.406766 | 4.998296 | 11.731128 | 6.028879 | 17.11959 |\n",
       "| TCGA-Q1-A73P-01A-11R-A32P-07 | 0 |  483 | 16450 | white | not hispanic or latino | 1 |  8.036801 | 5.247645 |  9.894159 | ⋯ | 10.854487 | 5.629541 |  9.602922 | 14.17475 |  6.987468 | 6.731154 | 4.602649 |  9.293089 | 4.893018 | 16.64949 |\n",
       "| TCGA-C5-A8YT-01A-11R-A37O-07 | 1 |  633 | 13253 | white | not hispanic or latino | 1 |  7.830611 | 5.733875 | 12.445548 | ⋯ |  9.453187 | 6.398956 | 12.288955 | 13.39633 | 10.228758 | 8.542025 | 4.602649 | 11.765396 | 5.318924 | 13.55632 |\n",
       "| TCGA-C5-A2LZ-01A-11R-A213-07 | 1 | 3046 | 24059 | white | not hispanic or latino | 3 | 10.135550 | 4.865349 |  8.566221 | ⋯ | 11.492135 | 7.426145 |  9.480199 | 15.92715 |  6.010764 | 7.405245 | 4.602649 |  7.506731 | 5.423416 | 14.73802 |\n",
       "\n"
      ],
      "text/plain": [
       "  sample_name                  vital_status survival_time age_at_diagnosis\n",
       "1 TCGA-C5-A1BF-01B-11R-A13Y-07 1             570          16975           \n",
       "2 TCGA-MU-A51Y-01A-11R-A26T-07 0             854          10199           \n",
       "3 TCGA-EK-A2RM-01A-21R-A18M-07 0              50          14842           \n",
       "4 TCGA-Q1-A73P-01A-11R-A32P-07 0             483          16450           \n",
       "5 TCGA-C5-A8YT-01A-11R-A37O-07 1             633          13253           \n",
       "6 TCGA-C5-A2LZ-01A-11R-A213-07 1            3046          24059           \n",
       "  race  ethnicity              figo_stage PGF       TIMP4    C1QTNF6   ⋯\n",
       "1 white not reported           1          10.800637 6.228003 11.669331 ⋯\n",
       "2 white not reported           2           8.451001 5.851272 10.079584 ⋯\n",
       "3 white not hispanic or latino 1           9.674879 7.277164 10.712783 ⋯\n",
       "4 white not hispanic or latino 1           8.036801 5.247645  9.894159 ⋯\n",
       "5 white not hispanic or latino 1           7.830611 5.733875 12.445548 ⋯\n",
       "6 white not hispanic or latino 3          10.135550 4.865349  8.566221 ⋯\n",
       "  PIK3IP1   C1QTNF2  PCSK5     ANXA1    HGF       VWA2     FGF3     POSTN    \n",
       "1  9.013453 8.190325  9.503647 14.07799  6.569726 7.315604 4.602649 12.062300\n",
       "2 12.208410 8.172899 10.515388 16.88600  7.384140 7.366949 4.890169 11.011959\n",
       "3 10.854224 6.581217  8.437154 15.81626  7.644559 6.406766 4.998296 11.731128\n",
       "4 10.854487 5.629541  9.602922 14.17475  6.987468 6.731154 4.602649  9.293089\n",
       "5  9.453187 6.398956 12.288955 13.39633 10.228758 8.542025 4.602649 11.765396\n",
       "6 11.492135 7.426145  9.480199 15.92715  6.010764 7.405245 4.602649  7.506731\n",
       "  NTF3     S100A6  \n",
       "1 5.649441 16.55841\n",
       "2 5.406776 14.76108\n",
       "3 6.028879 17.11959\n",
       "4 4.893018 16.64949\n",
       "5 5.318924 13.55632\n",
       "6 5.423416 14.73802"
      ]
     },
     "metadata": {},
     "output_type": "display_data"
    }
   ],
   "source": [
    "joined_survival_counts_df <- filtered_survival_df %>%\n",
    "    inner_join(\n",
    "        as_tibble(t(norm_matrisome_survival_counts), rownames = \"sample_name\"),\n",
    "        by = \"sample_name\"\n",
    "    )\n",
    "nrow(joined_survival_counts_df)\n",
    "head(joined_survival_counts_df)\n",
    "\n",
    "# Some genes contain the '-' symbol, which affects formulae\n",
    "colnames(joined_survival_counts_df) <- gsub(\"-\", \"_\", colnames(joined_survival_counts_df))"
   ]
  },
  {
   "cell_type": "code",
   "execution_count": 23,
   "metadata": {
    "collapsed": true,
    "jupyter": {
     "outputs_hidden": true
    }
   },
   "outputs": [
    {
     "data": {
      "text/plain": [
       "Call:\n",
       "coxph(formula = as.formula(null_model_formula_chr), data = joined_survival_counts_df, \n",
       "    singular.ok = TRUE)\n",
       "\n",
       "  n= 255, number of events= 66 \n",
       "\n",
       "                                                    coef  exp(coef)   se(coef)\n",
       "figo_stage2                                   -6.296e-01  5.328e-01  4.097e-01\n",
       "figo_stage3                                    3.084e-01  1.361e+00  3.768e-01\n",
       "figo_stage4                                    1.447e+00  4.249e+00  3.601e-01\n",
       "age_at_diagnosis                               3.332e-05  1.000e+00  2.727e-05\n",
       "raceasian                                     -2.546e+00  7.839e-02  1.281e+00\n",
       "raceblack or african american                 -2.570e+00  7.654e-02  1.111e+00\n",
       "racenative hawaiian or other pacific islander -1.978e-01  8.205e-01  1.456e+00\n",
       "racenot reported                              -2.542e+00  7.874e-02  1.103e+00\n",
       "racewhite                                     -2.282e+00  1.020e-01  1.052e+00\n",
       "ethnicitynot hispanic or latino                1.083e+00  2.954e+00  1.059e+00\n",
       "ethnicitynot reported                          1.265e+00  3.544e+00  1.033e+00\n",
       "                                                   z Pr(>|z|)    \n",
       "figo_stage2                                   -1.537   0.1244    \n",
       "figo_stage3                                    0.819   0.4130    \n",
       "figo_stage4                                    4.017 5.89e-05 ***\n",
       "age_at_diagnosis                               1.222   0.2217    \n",
       "raceasian                                     -1.988   0.0468 *  \n",
       "raceblack or african american                 -2.313   0.0207 *  \n",
       "racenative hawaiian or other pacific islander -0.136   0.8919    \n",
       "racenot reported                              -2.305   0.0212 *  \n",
       "racewhite                                     -2.170   0.0300 *  \n",
       "ethnicitynot hispanic or latino                1.023   0.3063    \n",
       "ethnicitynot reported                          1.225   0.2205    \n",
       "---\n",
       "Signif. codes:  0 ‘***’ 0.001 ‘**’ 0.01 ‘*’ 0.05 ‘.’ 0.1 ‘ ’ 1\n",
       "\n",
       "                                              exp(coef) exp(-coef) lower .95\n",
       "figo_stage2                                     0.53281     1.8768  0.238668\n",
       "figo_stage3                                     1.36128     0.7346  0.650498\n",
       "figo_stage4                                     4.24893     0.2354  2.097726\n",
       "age_at_diagnosis                                1.00003     1.0000  0.999980\n",
       "raceasian                                       0.07839    12.7575  0.006367\n",
       "raceblack or african american                   0.07654    13.0653  0.008673\n",
       "racenative hawaiian or other pacific islander   0.82052     1.2187  0.047332\n",
       "racenot reported                                0.07874    12.6994  0.009067\n",
       "racewhite                                       0.10203     9.8009  0.012983\n",
       "ethnicitynot hispanic or latino                 2.95361     0.3386  0.370827\n",
       "ethnicitynot reported                           3.54380     0.2822  0.468235\n",
       "                                              upper .95\n",
       "figo_stage2                                      1.1895\n",
       "figo_stage3                                      2.8487\n",
       "figo_stage4                                      8.6062\n",
       "age_at_diagnosis                                 1.0001\n",
       "raceasian                                        0.9651\n",
       "raceblack or african american                    0.6755\n",
       "racenative hawaiian or other pacific islander   14.2241\n",
       "racenot reported                                 0.6838\n",
       "racewhite                                        0.8019\n",
       "ethnicitynot hispanic or latino                 23.5252\n",
       "ethnicitynot reported                           26.8209\n",
       "\n",
       "Concordance= 0.689  (se = 0.042 )\n",
       "Likelihood ratio test= 33.24  on 11 df,   p=5e-04\n",
       "Wald test            = 39.2  on 11 df,   p=5e-05\n",
       "Score (logrank) test = 48.37  on 11 df,   p=1e-06\n"
      ]
     },
     "metadata": {},
     "output_type": "display_data"
    }
   ],
   "source": [
    "null_model_formula_chr <- paste0(\n",
    "    \"Surv(survival_time, vital_status) ~ \",\n",
    "    paste0(covariate_cols, collapse = \" + \")\n",
    ")\n",
    "cox_fit_null <- coxph(\n",
    "    as.formula(null_model_formula_chr),\n",
    "    data = joined_survival_counts_df,\n",
    "    singular.ok = TRUE\n",
    ")\n",
    "summary(cox_fit_null)"
   ]
  },
  {
   "cell_type": "code",
   "execution_count": 24,
   "metadata": {},
   "outputs": [
    {
     "name": "stderr",
     "output_type": "stream",
     "text": [
      "Warning message in fitter(X, Y, istrat, offset, init, control, weights = weights, :\n",
      "“Loglik converged before variable  12 ; coefficient may be infinite. ”Warning message in fitter(X, Y, istrat, offset, init, control, weights = weights, :\n",
      "“Loglik converged before variable  12 ; coefficient may be infinite. ”Warning message in fitter(X, Y, istrat, offset, init, control, weights = weights, :\n",
      "“Loglik converged before variable  12 ; coefficient may be infinite. ”Warning message in fitter(X, Y, istrat, offset, init, control, weights = weights, :\n",
      "“Loglik converged before variable  12 ; coefficient may be infinite. ”Warning message in fitter(X, Y, istrat, offset, init, control, weights = weights, :\n",
      "“Loglik converged before variable  12 ; coefficient may be infinite. ”"
     ]
    }
   ],
   "source": [
    "genes_of_interest <- colnames(joined_survival_counts_df %>% dplyr::select(-colnames(filtered_survival_df)))\n",
    "gene_pvals <- c()\n",
    "gene_coeffs <- c()\n",
    "\n",
    "for (g in genes_of_interest) {\n",
    "    gene_model_formula_chr <- paste0(null_model_formula_chr, \" + \", g)\n",
    "    cox_fit_gene <- coxph(\n",
    "        as.formula(gene_model_formula_chr),\n",
    "        data = joined_survival_counts_df,\n",
    "        singular.ok = TRUE\n",
    "    )\n",
    "    anova_res <- anova(cox_fit_null, cox_fit_gene, test = \"LRT\")\n",
    "    gene_pvals <- c(gene_pvals, anova_res[[\"P(>|Chi|)\"]][2])\n",
    "    gene_coeffs <- c(gene_coeffs, cox_fit_gene$coefficients[[g]])\n",
    "}"
   ]
  },
  {
   "cell_type": "code",
   "execution_count": 25,
   "metadata": {},
   "outputs": [],
   "source": [
    "# Re-sub '-' for '_' now that no longer needed for formulae\n",
    "cox_regression_df <- tibble(\"geneID\" = gsub(\"_\", \"-\", genes_of_interest), \"gene_pval\" = gene_pvals, \"gene_coeff\" = gene_coeffs)\n",
    "sig_cox_regression_df <- cox_regression_df %>%\n",
    "    dplyr::filter(gene_pval < 0.05)\n",
    "write_tsv(cox_regression_df, paste0(dirs$analysis_dir, \"/\", unified_dsets[dset_idx], \"_coxph_results.tsv\"))"
   ]
  },
  {
   "cell_type": "code",
   "execution_count": 26,
   "metadata": {},
   "outputs": [
    {
     "data": {
      "text/html": [
       "171"
      ],
      "text/latex": [
       "171"
      ],
      "text/markdown": [
       "171"
      ],
      "text/plain": [
       "[1] 171"
      ]
     },
     "metadata": {},
     "output_type": "display_data"
    },
    {
     "data": {
      "text/html": [
       "0.169642857142857"
      ],
      "text/latex": [
       "0.169642857142857"
      ],
      "text/markdown": [
       "0.169642857142857"
      ],
      "text/plain": [
       "[1] 0.1696429"
      ]
     },
     "metadata": {},
     "output_type": "display_data"
    }
   ],
   "source": [
    "# Num. predictive genes\n",
    "nrow(sig_cox_regression_df)\n",
    "# Prop. matrisome genes which are predictive\n",
    "nrow(sig_cox_regression_df) / nrow(norm_matrisome_survival_counts)"
   ]
  },
  {
   "cell_type": "markdown",
   "metadata": {},
   "source": [
    "# Interpretation of coefficient sign\n",
    "\n",
    "Source: https://www.statsdirect.com/help/survival_analysis/cox_regression.htm#:~:text=In%20the%20context%20of%20an,Cox%20regression%20for%20survival%20analysis.&text=The%20coefficients%20in%20a%20Cox,with%20which%20it%20is%20associated."
   ]
  },
  {
   "cell_type": "code",
   "execution_count": 27,
   "metadata": {},
   "outputs": [
    {
     "data": {
      "text/html": [
       "117"
      ],
      "text/latex": [
       "117"
      ],
      "text/markdown": [
       "117"
      ],
      "text/plain": [
       "[1] 117"
      ]
     },
     "metadata": {},
     "output_type": "display_data"
    },
    {
     "data": {
      "text/html": [
       "54"
      ],
      "text/latex": [
       "54"
      ],
      "text/markdown": [
       "54"
      ],
      "text/plain": [
       "[1] 54"
      ]
     },
     "metadata": {},
     "output_type": "display_data"
    }
   ],
   "source": [
    "# Genes associated with negative prognosis\n",
    "nrow(sig_cox_regression_df %>%\n",
    "     dplyr::filter(gene_coeff > 0))\n",
    "\n",
    "# Genes associated with positive prognosis\n",
    "nrow(sig_cox_regression_df %>%\n",
    "     dplyr::filter(gene_coeff < 0))"
   ]
  }
 ],
 "metadata": {
  "kernelspec": {
   "display_name": "R",
   "language": "R",
   "name": "ir"
  },
  "language_info": {
   "codemirror_mode": "r",
   "file_extension": ".r",
   "mimetype": "text/x-r-source",
   "name": "R",
   "pygments_lexer": "r",
   "version": "3.6.3"
  }
 },
 "nbformat": 4,
 "nbformat_minor": 4
}
