{
 "cells": [
  {
   "cell_type": "code",
   "execution_count": 24,
   "metadata": {
    "collapsed": true,
    "jupyter": {
     "outputs_hidden": true
    }
   },
   "outputs": [
    {
     "name": "stderr",
     "output_type": "stream",
     "text": [
      "Loading required package: dynamicTreeCut\n",
      "Loading required package: fastcluster\n",
      "\n",
      "Attaching package: ‘fastcluster’\n",
      "\n",
      "The following object is masked from ‘package:stats’:\n",
      "\n",
      "    hclust\n",
      "\n",
      "\n",
      "\n",
      "Attaching package: ‘WGCNA’\n",
      "\n",
      "The following object is masked from ‘package:stats’:\n",
      "\n",
      "    cor\n",
      "\n"
     ]
    }
   ],
   "source": [
    "library(tidyverse)\n",
    "library(survival)\n",
    "library(survminer)\n",
    "library(ggplot2)\n",
    "library(WGCNA)\n",
    "\n",
    "# Custom package\n",
    "library(rutils)"
   ]
  },
  {
   "cell_type": "code",
   "execution_count": 2,
   "metadata": {},
   "outputs": [],
   "source": [
    "dirs <- rutils::get_dev_directories(dev_paths_file = \"../dev_paths.txt\")\n",
    "projects <- c(\"TCGA-CESC\", \"TCGA-UCS\", \"TCGA-UCEC\", \"TCGA-OV\")\n",
    "unified_dsets <- c(\"unified_cervical_data\", \"unified_uterine_data\", \"unified_uterine_endometrial_data\")\n",
    "matrisome_path <- paste0(dirs$data_dir, \"/matrisome/matrisome_hs_masterlist.tsv\")"
   ]
  },
  {
   "cell_type": "code",
   "execution_count": 3,
   "metadata": {},
   "outputs": [],
   "source": [
    "dset_idx <- 1"
   ]
  },
  {
   "cell_type": "markdown",
   "metadata": {},
   "source": [
    "# Load and filter survival data"
   ]
  },
  {
   "cell_type": "code",
   "execution_count": 4,
   "metadata": {},
   "outputs": [],
   "source": [
    "event_code <- list(\"Alive\" = 0, \"Dead\" = 1)\n",
    "covariate_cols <- c(\"figo_stage\", \"age_at_diagnosis\", \"race\", \"ethnicity\")\n",
    "dep_cols <- c(\"vital_status\", \"survival_time\")\n",
    "figo_map_df <- tibble(\n",
    "    roman_num = c(\"I\", \"II\", \"III\", \"IV\"),\n",
    "    figo_code = c('1', '2', '3', '4')\n",
    ")"
   ]
  },
  {
   "cell_type": "code",
   "execution_count": 5,
   "metadata": {
    "collapsed": true,
    "jupyter": {
     "outputs_hidden": true
    }
   },
   "outputs": [
    {
     "name": "stderr",
     "output_type": "stream",
     "text": [
      "Parsed with column specification:\n",
      "cols(\n",
      "  sample_name = col_character(),\n",
      "  vital_status = col_character(),\n",
      "  survival_time = col_double(),\n",
      "  figo_stage = col_character(),\n",
      "  days_to_last_follow_up = col_double(),\n",
      "  days_to_death = col_double(),\n",
      "  age_at_diagnosis = col_double(),\n",
      "  age_at_index = col_double(),\n",
      "  height = col_double(),\n",
      "  weight = col_double(),\n",
      "  bmi = col_double(),\n",
      "  race = col_character(),\n",
      "  ethnicity = col_character()\n",
      ")\n"
     ]
    }
   ],
   "source": [
    "survival_path <- paste0(dirs$data_dir, \"/\", unified_dsets[dset_idx], \"/survival_data.tsv\")\n",
    "survival_df <- load_survival_df(survival_path, event_code)\n",
    "filtered_survival_df <- survival_df %>%\n",
    "    dplyr::select(one_of(c(\"sample_name\", dep_cols, covariate_cols))) %>%\n",
    "    dplyr::filter(rowSums(is.na(.)) == 0) %>%\n",
    "    dplyr::mutate(\n",
    "        figo_rn = str_extract(figo_stage, \"IV|III|II|I\")\n",
    "    ) %>%\n",
    "    dplyr::inner_join(figo_map_df, by = c(\"figo_rn\" = \"roman_num\")) %>%\n",
    "    dplyr::select(-c(figo_rn, figo_stage)) %>%\n",
    "    dplyr::rename(figo_stage = figo_code)"
   ]
  },
  {
   "cell_type": "markdown",
   "metadata": {},
   "source": [
    "# Load normalized matrisome count data"
   ]
  },
  {
   "cell_type": "code",
   "execution_count": 6,
   "metadata": {
    "collapsed": true,
    "jupyter": {
     "outputs_hidden": true
    }
   },
   "outputs": [
    {
     "name": "stderr",
     "output_type": "stream",
     "text": [
      "Parsed with column specification:\n",
      "cols(\n",
      "  .default = col_double(),\n",
      "  geneID = col_character()\n",
      ")\n",
      "See spec(...) for full column specifications.\n"
     ]
    }
   ],
   "source": [
    "norm_matrisome_counts <- read_tsv(paste0(dirs$data_dir, \"/\", unified_dsets[dset_idx], \"/norm_matrisome_counts.tsv\")) %>%\n",
    "    column_to_rownames(var = \"geneID\") %>%\n",
    "    as.matrix()\n",
    "\n",
    "# Match up columns of counts with rows of survival data & only include samples present in survival data\n",
    "norm_matrisome_survival_counts <- norm_matrisome_counts[, filtered_survival_df$sample_name]"
   ]
  },
  {
   "cell_type": "code",
   "execution_count": 7,
   "metadata": {},
   "outputs": [
    {
     "data": {
      "text/html": [
       "TRUE"
      ],
      "text/latex": [
       "TRUE"
      ],
      "text/markdown": [
       "TRUE"
      ],
      "text/plain": [
       "[1] TRUE"
      ]
     },
     "metadata": {},
     "output_type": "display_data"
    }
   ],
   "source": [
    "all(rownames(t(norm_matrisome_survival_counts)) == filtered_survival_df$sample_name)"
   ]
  },
  {
   "cell_type": "markdown",
   "metadata": {},
   "source": [
    "# Combine filtered survival data and normalized count data"
   ]
  },
  {
   "cell_type": "code",
   "execution_count": 8,
   "metadata": {},
   "outputs": [
    {
     "data": {
      "text/html": [
       "255"
      ],
      "text/latex": [
       "255"
      ],
      "text/markdown": [
       "255"
      ],
      "text/plain": [
       "[1] 255"
      ]
     },
     "metadata": {},
     "output_type": "display_data"
    },
    {
     "data": {
      "text/html": [
       "<table>\n",
       "<caption>A tibble: 6 × 1015</caption>\n",
       "<thead>\n",
       "\t<tr><th scope=col>sample_name</th><th scope=col>vital_status</th><th scope=col>survival_time</th><th scope=col>age_at_diagnosis</th><th scope=col>race</th><th scope=col>ethnicity</th><th scope=col>figo_stage</th><th scope=col>PGF</th><th scope=col>TIMP4</th><th scope=col>C1QTNF6</th><th scope=col>⋯</th><th scope=col>PIK3IP1</th><th scope=col>C1QTNF2</th><th scope=col>PCSK5</th><th scope=col>ANXA1</th><th scope=col>HGF</th><th scope=col>VWA2</th><th scope=col>FGF3</th><th scope=col>POSTN</th><th scope=col>NTF3</th><th scope=col>S100A6</th></tr>\n",
       "\t<tr><th scope=col>&lt;chr&gt;</th><th scope=col>&lt;dbl&gt;</th><th scope=col>&lt;dbl&gt;</th><th scope=col>&lt;dbl&gt;</th><th scope=col>&lt;chr&gt;</th><th scope=col>&lt;chr&gt;</th><th scope=col>&lt;chr&gt;</th><th scope=col>&lt;dbl&gt;</th><th scope=col>&lt;dbl&gt;</th><th scope=col>&lt;dbl&gt;</th><th scope=col>⋯</th><th scope=col>&lt;dbl&gt;</th><th scope=col>&lt;dbl&gt;</th><th scope=col>&lt;dbl&gt;</th><th scope=col>&lt;dbl&gt;</th><th scope=col>&lt;dbl&gt;</th><th scope=col>&lt;dbl&gt;</th><th scope=col>&lt;dbl&gt;</th><th scope=col>&lt;dbl&gt;</th><th scope=col>&lt;dbl&gt;</th><th scope=col>&lt;dbl&gt;</th></tr>\n",
       "</thead>\n",
       "<tbody>\n",
       "\t<tr><td>TCGA-C5-A1BF-01B-11R-A13Y-07</td><td>1</td><td> 570</td><td>16975</td><td>white</td><td>not reported          </td><td>1</td><td>10.800637</td><td>6.228003</td><td>11.669331</td><td>⋯</td><td> 9.013453</td><td>8.190325</td><td> 9.503647</td><td>14.07799</td><td> 6.569726</td><td>7.315604</td><td>4.602649</td><td>12.062300</td><td>5.649441</td><td>16.55841</td></tr>\n",
       "\t<tr><td>TCGA-MU-A51Y-01A-11R-A26T-07</td><td>0</td><td> 854</td><td>10199</td><td>white</td><td>not reported          </td><td>2</td><td> 8.451001</td><td>5.851272</td><td>10.079584</td><td>⋯</td><td>12.208410</td><td>8.172899</td><td>10.515388</td><td>16.88600</td><td> 7.384140</td><td>7.366949</td><td>4.890169</td><td>11.011959</td><td>5.406776</td><td>14.76108</td></tr>\n",
       "\t<tr><td>TCGA-EK-A2RM-01A-21R-A18M-07</td><td>0</td><td>  50</td><td>14842</td><td>white</td><td>not hispanic or latino</td><td>1</td><td> 9.674879</td><td>7.277164</td><td>10.712783</td><td>⋯</td><td>10.854224</td><td>6.581217</td><td> 8.437154</td><td>15.81626</td><td> 7.644559</td><td>6.406766</td><td>4.998296</td><td>11.731128</td><td>6.028879</td><td>17.11959</td></tr>\n",
       "\t<tr><td>TCGA-Q1-A73P-01A-11R-A32P-07</td><td>0</td><td> 483</td><td>16450</td><td>white</td><td>not hispanic or latino</td><td>1</td><td> 8.036801</td><td>5.247645</td><td> 9.894159</td><td>⋯</td><td>10.854487</td><td>5.629541</td><td> 9.602922</td><td>14.17475</td><td> 6.987468</td><td>6.731154</td><td>4.602649</td><td> 9.293089</td><td>4.893018</td><td>16.64949</td></tr>\n",
       "\t<tr><td>TCGA-C5-A8YT-01A-11R-A37O-07</td><td>1</td><td> 633</td><td>13253</td><td>white</td><td>not hispanic or latino</td><td>1</td><td> 7.830611</td><td>5.733875</td><td>12.445548</td><td>⋯</td><td> 9.453187</td><td>6.398956</td><td>12.288955</td><td>13.39633</td><td>10.228758</td><td>8.542025</td><td>4.602649</td><td>11.765396</td><td>5.318924</td><td>13.55632</td></tr>\n",
       "\t<tr><td>TCGA-C5-A2LZ-01A-11R-A213-07</td><td>1</td><td>3046</td><td>24059</td><td>white</td><td>not hispanic or latino</td><td>3</td><td>10.135550</td><td>4.865349</td><td> 8.566221</td><td>⋯</td><td>11.492135</td><td>7.426145</td><td> 9.480199</td><td>15.92715</td><td> 6.010764</td><td>7.405245</td><td>4.602649</td><td> 7.506731</td><td>5.423416</td><td>14.73802</td></tr>\n",
       "</tbody>\n",
       "</table>\n"
      ],
      "text/latex": [
       "A tibble: 6 × 1015\n",
       "\\begin{tabular}{lllllllllllllllllllll}\n",
       " sample\\_name & vital\\_status & survival\\_time & age\\_at\\_diagnosis & race & ethnicity & figo\\_stage & PGF & TIMP4 & C1QTNF6 & ⋯ & PIK3IP1 & C1QTNF2 & PCSK5 & ANXA1 & HGF & VWA2 & FGF3 & POSTN & NTF3 & S100A6\\\\\n",
       " <chr> & <dbl> & <dbl> & <dbl> & <chr> & <chr> & <chr> & <dbl> & <dbl> & <dbl> & ⋯ & <dbl> & <dbl> & <dbl> & <dbl> & <dbl> & <dbl> & <dbl> & <dbl> & <dbl> & <dbl>\\\\\n",
       "\\hline\n",
       "\t TCGA-C5-A1BF-01B-11R-A13Y-07 & 1 &  570 & 16975 & white & not reported           & 1 & 10.800637 & 6.228003 & 11.669331 & ⋯ &  9.013453 & 8.190325 &  9.503647 & 14.07799 &  6.569726 & 7.315604 & 4.602649 & 12.062300 & 5.649441 & 16.55841\\\\\n",
       "\t TCGA-MU-A51Y-01A-11R-A26T-07 & 0 &  854 & 10199 & white & not reported           & 2 &  8.451001 & 5.851272 & 10.079584 & ⋯ & 12.208410 & 8.172899 & 10.515388 & 16.88600 &  7.384140 & 7.366949 & 4.890169 & 11.011959 & 5.406776 & 14.76108\\\\\n",
       "\t TCGA-EK-A2RM-01A-21R-A18M-07 & 0 &   50 & 14842 & white & not hispanic or latino & 1 &  9.674879 & 7.277164 & 10.712783 & ⋯ & 10.854224 & 6.581217 &  8.437154 & 15.81626 &  7.644559 & 6.406766 & 4.998296 & 11.731128 & 6.028879 & 17.11959\\\\\n",
       "\t TCGA-Q1-A73P-01A-11R-A32P-07 & 0 &  483 & 16450 & white & not hispanic or latino & 1 &  8.036801 & 5.247645 &  9.894159 & ⋯ & 10.854487 & 5.629541 &  9.602922 & 14.17475 &  6.987468 & 6.731154 & 4.602649 &  9.293089 & 4.893018 & 16.64949\\\\\n",
       "\t TCGA-C5-A8YT-01A-11R-A37O-07 & 1 &  633 & 13253 & white & not hispanic or latino & 1 &  7.830611 & 5.733875 & 12.445548 & ⋯ &  9.453187 & 6.398956 & 12.288955 & 13.39633 & 10.228758 & 8.542025 & 4.602649 & 11.765396 & 5.318924 & 13.55632\\\\\n",
       "\t TCGA-C5-A2LZ-01A-11R-A213-07 & 1 & 3046 & 24059 & white & not hispanic or latino & 3 & 10.135550 & 4.865349 &  8.566221 & ⋯ & 11.492135 & 7.426145 &  9.480199 & 15.92715 &  6.010764 & 7.405245 & 4.602649 &  7.506731 & 5.423416 & 14.73802\\\\\n",
       "\\end{tabular}\n"
      ],
      "text/markdown": [
       "\n",
       "A tibble: 6 × 1015\n",
       "\n",
       "| sample_name &lt;chr&gt; | vital_status &lt;dbl&gt; | survival_time &lt;dbl&gt; | age_at_diagnosis &lt;dbl&gt; | race &lt;chr&gt; | ethnicity &lt;chr&gt; | figo_stage &lt;chr&gt; | PGF &lt;dbl&gt; | TIMP4 &lt;dbl&gt; | C1QTNF6 &lt;dbl&gt; | ⋯ ⋯ | PIK3IP1 &lt;dbl&gt; | C1QTNF2 &lt;dbl&gt; | PCSK5 &lt;dbl&gt; | ANXA1 &lt;dbl&gt; | HGF &lt;dbl&gt; | VWA2 &lt;dbl&gt; | FGF3 &lt;dbl&gt; | POSTN &lt;dbl&gt; | NTF3 &lt;dbl&gt; | S100A6 &lt;dbl&gt; |\n",
       "|---|---|---|---|---|---|---|---|---|---|---|---|---|---|---|---|---|---|---|---|---|\n",
       "| TCGA-C5-A1BF-01B-11R-A13Y-07 | 1 |  570 | 16975 | white | not reported           | 1 | 10.800637 | 6.228003 | 11.669331 | ⋯ |  9.013453 | 8.190325 |  9.503647 | 14.07799 |  6.569726 | 7.315604 | 4.602649 | 12.062300 | 5.649441 | 16.55841 |\n",
       "| TCGA-MU-A51Y-01A-11R-A26T-07 | 0 |  854 | 10199 | white | not reported           | 2 |  8.451001 | 5.851272 | 10.079584 | ⋯ | 12.208410 | 8.172899 | 10.515388 | 16.88600 |  7.384140 | 7.366949 | 4.890169 | 11.011959 | 5.406776 | 14.76108 |\n",
       "| TCGA-EK-A2RM-01A-21R-A18M-07 | 0 |   50 | 14842 | white | not hispanic or latino | 1 |  9.674879 | 7.277164 | 10.712783 | ⋯ | 10.854224 | 6.581217 |  8.437154 | 15.81626 |  7.644559 | 6.406766 | 4.998296 | 11.731128 | 6.028879 | 17.11959 |\n",
       "| TCGA-Q1-A73P-01A-11R-A32P-07 | 0 |  483 | 16450 | white | not hispanic or latino | 1 |  8.036801 | 5.247645 |  9.894159 | ⋯ | 10.854487 | 5.629541 |  9.602922 | 14.17475 |  6.987468 | 6.731154 | 4.602649 |  9.293089 | 4.893018 | 16.64949 |\n",
       "| TCGA-C5-A8YT-01A-11R-A37O-07 | 1 |  633 | 13253 | white | not hispanic or latino | 1 |  7.830611 | 5.733875 | 12.445548 | ⋯ |  9.453187 | 6.398956 | 12.288955 | 13.39633 | 10.228758 | 8.542025 | 4.602649 | 11.765396 | 5.318924 | 13.55632 |\n",
       "| TCGA-C5-A2LZ-01A-11R-A213-07 | 1 | 3046 | 24059 | white | not hispanic or latino | 3 | 10.135550 | 4.865349 |  8.566221 | ⋯ | 11.492135 | 7.426145 |  9.480199 | 15.92715 |  6.010764 | 7.405245 | 4.602649 |  7.506731 | 5.423416 | 14.73802 |\n",
       "\n"
      ],
      "text/plain": [
       "  sample_name                  vital_status survival_time age_at_diagnosis\n",
       "1 TCGA-C5-A1BF-01B-11R-A13Y-07 1             570          16975           \n",
       "2 TCGA-MU-A51Y-01A-11R-A26T-07 0             854          10199           \n",
       "3 TCGA-EK-A2RM-01A-21R-A18M-07 0              50          14842           \n",
       "4 TCGA-Q1-A73P-01A-11R-A32P-07 0             483          16450           \n",
       "5 TCGA-C5-A8YT-01A-11R-A37O-07 1             633          13253           \n",
       "6 TCGA-C5-A2LZ-01A-11R-A213-07 1            3046          24059           \n",
       "  race  ethnicity              figo_stage PGF       TIMP4    C1QTNF6   ⋯\n",
       "1 white not reported           1          10.800637 6.228003 11.669331 ⋯\n",
       "2 white not reported           2           8.451001 5.851272 10.079584 ⋯\n",
       "3 white not hispanic or latino 1           9.674879 7.277164 10.712783 ⋯\n",
       "4 white not hispanic or latino 1           8.036801 5.247645  9.894159 ⋯\n",
       "5 white not hispanic or latino 1           7.830611 5.733875 12.445548 ⋯\n",
       "6 white not hispanic or latino 3          10.135550 4.865349  8.566221 ⋯\n",
       "  PIK3IP1   C1QTNF2  PCSK5     ANXA1    HGF       VWA2     FGF3     POSTN    \n",
       "1  9.013453 8.190325  9.503647 14.07799  6.569726 7.315604 4.602649 12.062300\n",
       "2 12.208410 8.172899 10.515388 16.88600  7.384140 7.366949 4.890169 11.011959\n",
       "3 10.854224 6.581217  8.437154 15.81626  7.644559 6.406766 4.998296 11.731128\n",
       "4 10.854487 5.629541  9.602922 14.17475  6.987468 6.731154 4.602649  9.293089\n",
       "5  9.453187 6.398956 12.288955 13.39633 10.228758 8.542025 4.602649 11.765396\n",
       "6 11.492135 7.426145  9.480199 15.92715  6.010764 7.405245 4.602649  7.506731\n",
       "  NTF3     S100A6  \n",
       "1 5.649441 16.55841\n",
       "2 5.406776 14.76108\n",
       "3 6.028879 17.11959\n",
       "4 4.893018 16.64949\n",
       "5 5.318924 13.55632\n",
       "6 5.423416 14.73802"
      ]
     },
     "metadata": {},
     "output_type": "display_data"
    }
   ],
   "source": [
    "joined_survival_counts_df <- filtered_survival_df %>%\n",
    "    inner_join(\n",
    "        as_tibble(t(norm_matrisome_survival_counts), rownames = \"sample_name\"),\n",
    "        by = \"sample_name\"\n",
    "    )\n",
    "nrow(joined_survival_counts_df)\n",
    "head(joined_survival_counts_df)\n",
    "\n",
    "# Some genes contain the '-' symbol, which affects formulae\n",
    "colnames(joined_survival_counts_df) <- gsub(\"-\", \"_\", colnames(joined_survival_counts_df))"
   ]
  },
  {
   "cell_type": "code",
   "execution_count": 9,
   "metadata": {
    "collapsed": true,
    "jupyter": {
     "outputs_hidden": true
    }
   },
   "outputs": [
    {
     "data": {
      "text/plain": [
       "Call:\n",
       "coxph(formula = as.formula(null_model_formula_chr), data = joined_survival_counts_df, \n",
       "    singular.ok = TRUE)\n",
       "\n",
       "  n= 255, number of events= 66 \n",
       "\n",
       "                                                    coef  exp(coef)   se(coef)\n",
       "figo_stage2                                   -6.296e-01  5.328e-01  4.097e-01\n",
       "figo_stage3                                    3.084e-01  1.361e+00  3.768e-01\n",
       "figo_stage4                                    1.447e+00  4.249e+00  3.601e-01\n",
       "age_at_diagnosis                               3.332e-05  1.000e+00  2.727e-05\n",
       "raceasian                                     -2.546e+00  7.839e-02  1.281e+00\n",
       "raceblack or african american                 -2.570e+00  7.654e-02  1.111e+00\n",
       "racenative hawaiian or other pacific islander -1.978e-01  8.205e-01  1.456e+00\n",
       "racenot reported                              -2.542e+00  7.874e-02  1.103e+00\n",
       "racewhite                                     -2.282e+00  1.020e-01  1.052e+00\n",
       "ethnicitynot hispanic or latino                1.083e+00  2.954e+00  1.059e+00\n",
       "ethnicitynot reported                          1.265e+00  3.544e+00  1.033e+00\n",
       "                                                   z Pr(>|z|)    \n",
       "figo_stage2                                   -1.537   0.1244    \n",
       "figo_stage3                                    0.819   0.4130    \n",
       "figo_stage4                                    4.017 5.89e-05 ***\n",
       "age_at_diagnosis                               1.222   0.2217    \n",
       "raceasian                                     -1.988   0.0468 *  \n",
       "raceblack or african american                 -2.313   0.0207 *  \n",
       "racenative hawaiian or other pacific islander -0.136   0.8919    \n",
       "racenot reported                              -2.305   0.0212 *  \n",
       "racewhite                                     -2.170   0.0300 *  \n",
       "ethnicitynot hispanic or latino                1.023   0.3063    \n",
       "ethnicitynot reported                          1.225   0.2205    \n",
       "---\n",
       "Signif. codes:  0 ‘***’ 0.001 ‘**’ 0.01 ‘*’ 0.05 ‘.’ 0.1 ‘ ’ 1\n",
       "\n",
       "                                              exp(coef) exp(-coef) lower .95\n",
       "figo_stage2                                     0.53281     1.8768  0.238668\n",
       "figo_stage3                                     1.36128     0.7346  0.650498\n",
       "figo_stage4                                     4.24893     0.2354  2.097726\n",
       "age_at_diagnosis                                1.00003     1.0000  0.999980\n",
       "raceasian                                       0.07839    12.7575  0.006367\n",
       "raceblack or african american                   0.07654    13.0653  0.008673\n",
       "racenative hawaiian or other pacific islander   0.82052     1.2187  0.047332\n",
       "racenot reported                                0.07874    12.6994  0.009067\n",
       "racewhite                                       0.10203     9.8009  0.012983\n",
       "ethnicitynot hispanic or latino                 2.95361     0.3386  0.370827\n",
       "ethnicitynot reported                           3.54380     0.2822  0.468235\n",
       "                                              upper .95\n",
       "figo_stage2                                      1.1895\n",
       "figo_stage3                                      2.8487\n",
       "figo_stage4                                      8.6062\n",
       "age_at_diagnosis                                 1.0001\n",
       "raceasian                                        0.9651\n",
       "raceblack or african american                    0.6755\n",
       "racenative hawaiian or other pacific islander   14.2241\n",
       "racenot reported                                 0.6838\n",
       "racewhite                                        0.8019\n",
       "ethnicitynot hispanic or latino                 23.5252\n",
       "ethnicitynot reported                           26.8209\n",
       "\n",
       "Concordance= 0.689  (se = 0.042 )\n",
       "Likelihood ratio test= 33.24  on 11 df,   p=5e-04\n",
       "Wald test            = 39.2  on 11 df,   p=5e-05\n",
       "Score (logrank) test = 48.37  on 11 df,   p=1e-06\n"
      ]
     },
     "metadata": {},
     "output_type": "display_data"
    }
   ],
   "source": [
    "null_model_formula_chr <- paste0(\n",
    "    \"Surv(survival_time, vital_status) ~ \",\n",
    "    paste0(covariate_cols, collapse = \" + \")\n",
    ")\n",
    "cox_fit_null <- coxph(\n",
    "    as.formula(null_model_formula_chr),\n",
    "    data = joined_survival_counts_df,\n",
    "    singular.ok = TRUE\n",
    ")\n",
    "summary(cox_fit_null)"
   ]
  },
  {
   "cell_type": "code",
   "execution_count": 10,
   "metadata": {},
   "outputs": [],
   "source": [
    "res <- summary(cox_fit_null)"
   ]
  },
  {
   "cell_type": "code",
   "execution_count": 11,
   "metadata": {},
   "outputs": [
    {
     "data": {
      "text/html": [
       "0.000481401319678568"
      ],
      "text/latex": [
       "0.000481401319678568"
      ],
      "text/markdown": [
       "0.000481401319678568"
      ],
      "text/plain": [
       "[1] 0.0004814013"
      ]
     },
     "metadata": {},
     "output_type": "display_data"
    }
   ],
   "source": [
    "res$logtest[[\"pvalue\"]]"
   ]
  },
  {
   "cell_type": "code",
   "execution_count": 12,
   "metadata": {},
   "outputs": [],
   "source": [
    "df1 = tibble(dataset = character(), lr_test_pval = numeric(), wald_test_pval = numeric(), score_test_pval = numeric())"
   ]
  },
  {
   "cell_type": "code",
   "execution_count": 13,
   "metadata": {},
   "outputs": [
    {
     "data": {
      "text/html": [
       "<table>\n",
       "<caption>A tibble: 0 × 4</caption>\n",
       "<thead>\n",
       "\t<tr><th scope=col>dataset</th><th scope=col>lr_test_pval</th><th scope=col>wald_test_pval</th><th scope=col>score_test_pval</th></tr>\n",
       "\t<tr><th scope=col>&lt;chr&gt;</th><th scope=col>&lt;dbl&gt;</th><th scope=col>&lt;dbl&gt;</th><th scope=col>&lt;dbl&gt;</th></tr>\n",
       "</thead>\n",
       "<tbody>\n",
       "</tbody>\n",
       "</table>\n"
      ],
      "text/latex": [
       "A tibble: 0 × 4\n",
       "\\begin{tabular}{llll}\n",
       " dataset & lr\\_test\\_pval & wald\\_test\\_pval & score\\_test\\_pval\\\\\n",
       " <chr> & <dbl> & <dbl> & <dbl>\\\\\n",
       "\\hline\n",
       "\\end{tabular}\n"
      ],
      "text/markdown": [
       "\n",
       "A tibble: 0 × 4\n",
       "\n",
       "| dataset &lt;chr&gt; | lr_test_pval &lt;dbl&gt; | wald_test_pval &lt;dbl&gt; | score_test_pval &lt;dbl&gt; |\n",
       "|---|---|---|---|\n",
       "\n"
      ],
      "text/plain": [
       "     dataset lr_test_pval wald_test_pval score_test_pval"
      ]
     },
     "metadata": {},
     "output_type": "display_data"
    }
   ],
   "source": [
    "df1"
   ]
  },
  {
   "cell_type": "code",
   "execution_count": 14,
   "metadata": {},
   "outputs": [
    {
     "data": {
      "text/html": [
       "<table>\n",
       "<caption>A tibble: 1 × 4</caption>\n",
       "<thead>\n",
       "\t<tr><th scope=col>dataset</th><th scope=col>lr_test_pval</th><th scope=col>wald_test_pval</th><th scope=col>score_test_pval</th></tr>\n",
       "\t<tr><th scope=col>&lt;chr&gt;</th><th scope=col>&lt;dbl&gt;</th><th scope=col>&lt;dbl&gt;</th><th scope=col>&lt;dbl&gt;</th></tr>\n",
       "</thead>\n",
       "<tbody>\n",
       "\t<tr><td>unified_cervical_data</td><td>0.0004814013</td><td>4.9053e-05</td><td>1.224173e-06</td></tr>\n",
       "</tbody>\n",
       "</table>\n"
      ],
      "text/latex": [
       "A tibble: 1 × 4\n",
       "\\begin{tabular}{llll}\n",
       " dataset & lr\\_test\\_pval & wald\\_test\\_pval & score\\_test\\_pval\\\\\n",
       " <chr> & <dbl> & <dbl> & <dbl>\\\\\n",
       "\\hline\n",
       "\t unified\\_cervical\\_data & 0.0004814013 & 4.9053e-05 & 1.224173e-06\\\\\n",
       "\\end{tabular}\n"
      ],
      "text/markdown": [
       "\n",
       "A tibble: 1 × 4\n",
       "\n",
       "| dataset &lt;chr&gt; | lr_test_pval &lt;dbl&gt; | wald_test_pval &lt;dbl&gt; | score_test_pval &lt;dbl&gt; |\n",
       "|---|---|---|---|\n",
       "| unified_cervical_data | 0.0004814013 | 4.9053e-05 | 1.224173e-06 |\n",
       "\n"
      ],
      "text/plain": [
       "  dataset               lr_test_pval wald_test_pval score_test_pval\n",
       "1 unified_cervical_data 0.0004814013 4.9053e-05     1.224173e-06   "
      ]
     },
     "metadata": {},
     "output_type": "display_data"
    }
   ],
   "source": [
    "df1 %>% add_row(\n",
    "    dataset = unified_dsets[dset_idx],\n",
    "    lr_test_pval = res$logtest[[\"pvalue\"]],\n",
    "    wald_test_pval = res$waldtest[[\"pvalue\"]],\n",
    "    score_test_pval = res$sctest[[\"pvalue\"]]\n",
    ")"
   ]
  },
  {
   "cell_type": "code",
   "execution_count": 15,
   "metadata": {
    "collapsed": true,
    "jupyter": {
     "outputs_hidden": true
    }
   },
   "outputs": [
    {
     "name": "stderr",
     "output_type": "stream",
     "text": [
      "Warning message in fitter(X, Y, istrat, offset, init, control, weights = weights, :\n",
      "“Loglik converged before variable  12 ; coefficient may be infinite. ”Warning message in fitter(X, Y, istrat, offset, init, control, weights = weights, :\n",
      "“Loglik converged before variable  12 ; coefficient may be infinite. ”Warning message in fitter(X, Y, istrat, offset, init, control, weights = weights, :\n",
      "“Loglik converged before variable  12 ; coefficient may be infinite. ”Warning message in fitter(X, Y, istrat, offset, init, control, weights = weights, :\n",
      "“Loglik converged before variable  12 ; coefficient may be infinite. ”Warning message in fitter(X, Y, istrat, offset, init, control, weights = weights, :\n",
      "“Loglik converged before variable  12 ; coefficient may be infinite. ”"
     ]
    }
   ],
   "source": [
    "genes_of_interest <- colnames(joined_survival_counts_df %>% dplyr::select(-colnames(filtered_survival_df)))\n",
    "gene_pvals <- c()\n",
    "gene_coeffs <- c()\n",
    "\n",
    "for (g in genes_of_interest) {\n",
    "    gene_model_formula_chr <- paste0(null_model_formula_chr, \" + \", g)\n",
    "    cox_fit_gene <- coxph(\n",
    "        as.formula(gene_model_formula_chr),\n",
    "        data = joined_survival_counts_df,\n",
    "        singular.ok = TRUE\n",
    "    )\n",
    "    anova_res <- anova(cox_fit_null, cox_fit_gene, test = \"LRT\")\n",
    "    gene_pvals <- c(gene_pvals, anova_res[[\"P(>|Chi|)\"]][2])\n",
    "    gene_coeffs <- c(gene_coeffs, cox_fit_gene$coefficients[[g]])\n",
    "}"
   ]
  },
  {
   "cell_type": "code",
   "execution_count": 16,
   "metadata": {},
   "outputs": [],
   "source": [
    "# Re-sub '-' for '_' now that no longer needed for formulae\n",
    "cox_regression_df <- tibble(\"geneID\" = gsub(\"_\", \"-\", genes_of_interest), \"gene_pval\" = gene_pvals, \"gene_coeff\" = gene_coeffs)\n",
    "sig_cox_regression_df <- cox_regression_df %>%\n",
    "    dplyr::filter(gene_pval < 0.05)\n",
    "# write_tsv(cox_regression_df, paste0(dirs$analysis_dir, \"/\", unified_dsets[dset_idx], \"_coxph_results.tsv\"))"
   ]
  },
  {
   "cell_type": "code",
   "execution_count": 17,
   "metadata": {},
   "outputs": [
    {
     "data": {
      "text/html": [
       "171"
      ],
      "text/latex": [
       "171"
      ],
      "text/markdown": [
       "171"
      ],
      "text/plain": [
       "[1] 171"
      ]
     },
     "metadata": {},
     "output_type": "display_data"
    },
    {
     "data": {
      "text/html": [
       "0.169642857142857"
      ],
      "text/latex": [
       "0.169642857142857"
      ],
      "text/markdown": [
       "0.169642857142857"
      ],
      "text/plain": [
       "[1] 0.1696429"
      ]
     },
     "metadata": {},
     "output_type": "display_data"
    }
   ],
   "source": [
    "# Num. predictive genes\n",
    "nrow(sig_cox_regression_df)\n",
    "# Prop. matrisome genes which are predictive\n",
    "nrow(sig_cox_regression_df) / nrow(norm_matrisome_survival_counts)"
   ]
  },
  {
   "cell_type": "code",
   "execution_count": 31,
   "metadata": {},
   "outputs": [
    {
     "data": {
      "text/html": [
       "<table>\n",
       "<caption>A tibble: 55 × 5</caption>\n",
       "<thead>\n",
       "\t<tr><th scope=col>geneID</th><th scope=col>gene_pval</th><th scope=col>gene_coeff</th><th scope=col>gene_padj</th><th scope=col>gene_qval</th></tr>\n",
       "\t<tr><th scope=col>&lt;chr&gt;</th><th scope=col>&lt;dbl&gt;</th><th scope=col>&lt;dbl&gt;</th><th scope=col>&lt;dbl&gt;</th><th scope=col>&lt;dbl&gt;</th></tr>\n",
       "</thead>\n",
       "<tbody>\n",
       "\t<tr><td>FGG     </td><td>2.446202e-03</td><td>  0.2884951</td><td>0.058039441</td><td>0.037373332</td></tr>\n",
       "\t<tr><td>MUC8    </td><td>1.696131e-03</td><td> -3.0177276</td><td>0.051107462</td><td>0.032909623</td></tr>\n",
       "\t<tr><td>SERPINA5</td><td>7.333787e-04</td><td>  0.3064788</td><td>0.049283047</td><td>0.031734828</td></tr>\n",
       "\t<tr><td>CSF2    </td><td>3.864596e-03</td><td>  0.3793224</td><td>0.070827500</td><td>0.045607945</td></tr>\n",
       "\t<tr><td>P4HA3   </td><td>1.345548e-03</td><td>  0.3696400</td><td>0.051107462</td><td>0.032909623</td></tr>\n",
       "\t<tr><td>CRHBP   </td><td>1.769667e-03</td><td> -1.1767988</td><td>0.051107462</td><td>0.032909623</td></tr>\n",
       "\t<tr><td>CXCL2   </td><td>9.726344e-06</td><td>  0.3487878</td><td>0.008207598</td><td>0.005285118</td></tr>\n",
       "\t<tr><td>WNT3A   </td><td>9.040916e-04</td><td> -0.3315028</td><td>0.051107462</td><td>0.032909623</td></tr>\n",
       "\t<tr><td>ESM1    </td><td>3.638095e-03</td><td>  0.2877764</td><td>0.069083613</td><td>0.044485004</td></tr>\n",
       "\t<tr><td>CXCL1   </td><td>1.165628e-03</td><td>  0.2093393</td><td>0.051107462</td><td>0.032909623</td></tr>\n",
       "\t<tr><td>IL1B    </td><td>1.160238e-03</td><td>  0.2667947</td><td>0.051107462</td><td>0.032909623</td></tr>\n",
       "\t<tr><td>SERPINH1</td><td>3.374184e-03</td><td>  0.4443280</td><td>0.069083613</td><td>0.044485004</td></tr>\n",
       "\t<tr><td>BMP7    </td><td>1.549055e-03</td><td> -0.1724286</td><td>0.051107462</td><td>0.032909623</td></tr>\n",
       "\t<tr><td>MATN3   </td><td>5.055170e-04</td><td>  0.2717521</td><td>0.042484728</td><td>0.027357187</td></tr>\n",
       "\t<tr><td>SERPINA3</td><td>1.628492e-05</td><td>  0.2206911</td><td>0.008207598</td><td>0.005285118</td></tr>\n",
       "\t<tr><td>LOXL2   </td><td>1.769391e-03</td><td>  0.2757904</td><td>0.051107462</td><td>0.032909623</td></tr>\n",
       "\t<tr><td>CXCL3   </td><td>6.083486e-05</td><td>  0.3150565</td><td>0.012200059</td><td>0.007855983</td></tr>\n",
       "\t<tr><td>SERPINE1</td><td>2.692401e-03</td><td>  0.2232763</td><td>0.060309783</td><td>0.038835272</td></tr>\n",
       "\t<tr><td>FIGF    </td><td>1.544367e-03</td><td> -0.8062667</td><td>0.051107462</td><td>0.032909623</td></tr>\n",
       "\t<tr><td>PAPPA   </td><td>1.065595e-03</td><td>  0.3100554</td><td>0.051107462</td><td>0.032909623</td></tr>\n",
       "\t<tr><td>DMBT1   </td><td>3.572857e-03</td><td>  0.1364430</td><td>0.069083613</td><td>0.044485004</td></tr>\n",
       "\t<tr><td>SEMA3A  </td><td>5.057706e-04</td><td>  0.2369575</td><td>0.042484728</td><td>0.027357187</td></tr>\n",
       "\t<tr><td>ANGPTL4 </td><td>2.475889e-03</td><td>  0.2569172</td><td>0.058039441</td><td>0.037373332</td></tr>\n",
       "\t<tr><td>SEMA4D  </td><td>2.089025e-03</td><td> -0.5252667</td><td>0.056103239</td><td>0.036126553</td></tr>\n",
       "\t<tr><td>LIF     </td><td>8.472263e-05</td><td>  0.3549182</td><td>0.012200059</td><td>0.007855983</td></tr>\n",
       "\t<tr><td>SCUBE1  </td><td>2.234799e-03</td><td> -0.5253591</td><td>0.057760963</td><td>0.037194011</td></tr>\n",
       "\t<tr><td>LGALS9  </td><td>1.742679e-03</td><td> -0.3593984</td><td>0.051107462</td><td>0.032909623</td></tr>\n",
       "\t<tr><td>CCL25   </td><td>3.515936e-03</td><td> -0.9820997</td><td>0.069083613</td><td>0.044485004</td></tr>\n",
       "\t<tr><td>FGF5    </td><td>2.425680e-03</td><td>  0.4110940</td><td>0.058039441</td><td>0.037373332</td></tr>\n",
       "\t<tr><td>SERPINB6</td><td>2.424764e-03</td><td>  0.4220919</td><td>0.058039441</td><td>0.037373332</td></tr>\n",
       "\t<tr><td>MMP3    </td><td>1.791498e-03</td><td>  0.2066425</td><td>0.051107462</td><td>0.032909623</td></tr>\n",
       "\t<tr><td>INSL3   </td><td>3.700908e-03</td><td> -1.0574034</td><td>0.069083613</td><td>0.044485004</td></tr>\n",
       "\t<tr><td>FSTL3   </td><td>3.538399e-03</td><td>  0.2539530</td><td>0.069083613</td><td>0.044485004</td></tr>\n",
       "\t<tr><td>ZP1     </td><td>1.825266e-03</td><td>  0.9206308</td><td>0.051107462</td><td>0.032909623</td></tr>\n",
       "\t<tr><td>CXCL5   </td><td>3.974807e-05</td><td>  0.2468158</td><td>0.010016515</td><td>0.006449933</td></tr>\n",
       "\t<tr><td>LGALS9C </td><td>3.594551e-03</td><td> -0.2794035</td><td>0.069083613</td><td>0.044485004</td></tr>\n",
       "\t<tr><td>SMOC1   </td><td>1.197460e-03</td><td>  0.1604253</td><td>0.051107462</td><td>0.032909623</td></tr>\n",
       "\t<tr><td>LMAN1   </td><td>1.029564e-03</td><td>  0.9073611</td><td>0.051107462</td><td>0.032909623</td></tr>\n",
       "\t<tr><td>ADAM9   </td><td>1.299100e-03</td><td>  0.5684138</td><td>0.051107462</td><td>0.032909623</td></tr>\n",
       "\t<tr><td>MMP1    </td><td>1.064467e-04</td><td>  0.2195225</td><td>0.013412286</td><td>0.008636572</td></tr>\n",
       "\t<tr><td>CCL20   </td><td>1.290950e-03</td><td>  0.2050445</td><td>0.051107462</td><td>0.032909623</td></tr>\n",
       "\t<tr><td>PLOD2   </td><td>3.533404e-05</td><td>  0.4527466</td><td>0.010016515</td><td>0.006449933</td></tr>\n",
       "\t<tr><td>TGFBI   </td><td>1.269508e-03</td><td>  0.2575633</td><td>0.051107462</td><td>0.032909623</td></tr>\n",
       "\t<tr><td>CLEC2D  </td><td>2.916253e-03</td><td> -0.5123328</td><td>0.063903984</td><td>0.041149686</td></tr>\n",
       "\t<tr><td>CSHL1   </td><td>2.666364e-03</td><td>-72.4575756</td><td>0.060309783</td><td>0.038835272</td></tr>\n",
       "\t<tr><td>DDX26B  </td><td>1.385307e-03</td><td> -0.5129824</td><td>0.051107462</td><td>0.032909623</td></tr>\n",
       "\t<tr><td>ANXA2   </td><td>6.783160e-04</td><td>  0.6483124</td><td>0.048838749</td><td>0.031448731</td></tr>\n",
       "\t<tr><td>ANGPTL6 </td><td>2.720452e-04</td><td> -1.2549889</td><td>0.027422152</td><td>0.017657944</td></tr>\n",
       "\t<tr><td>P4HA1   </td><td>1.003305e-03</td><td>  0.4854493</td><td>0.051107462</td><td>0.032909623</td></tr>\n",
       "\t<tr><td>P4HA2   </td><td>6.540850e-04</td><td>  0.5783149</td><td>0.048838749</td><td>0.031448731</td></tr>\n",
       "\t<tr><td>EGLN1   </td><td>8.074051e-05</td><td>  0.9290873</td><td>0.012200059</td><td>0.007855983</td></tr>\n",
       "\t<tr><td>PLOD1   </td><td>2.692770e-04</td><td>  0.6013743</td><td>0.027422152</td><td>0.017657944</td></tr>\n",
       "\t<tr><td>EREG    </td><td>1.533084e-03</td><td>  0.2043453</td><td>0.051107462</td><td>0.032909623</td></tr>\n",
       "\t<tr><td>TGFA    </td><td>3.070213e-03</td><td>  0.3666546</td><td>0.065846277</td><td>0.042400387</td></tr>\n",
       "\t<tr><td>ANXA3   </td><td>2.115003e-03</td><td>  0.3290668</td><td>0.056103239</td><td>0.036126553</td></tr>\n",
       "</tbody>\n",
       "</table>\n"
      ],
      "text/latex": [
       "A tibble: 55 × 5\n",
       "\\begin{tabular}{lllll}\n",
       " geneID & gene\\_pval & gene\\_coeff & gene\\_padj & gene\\_qval\\\\\n",
       " <chr> & <dbl> & <dbl> & <dbl> & <dbl>\\\\\n",
       "\\hline\n",
       "\t FGG      & 2.446202e-03 &   0.2884951 & 0.058039441 & 0.037373332\\\\\n",
       "\t MUC8     & 1.696131e-03 &  -3.0177276 & 0.051107462 & 0.032909623\\\\\n",
       "\t SERPINA5 & 7.333787e-04 &   0.3064788 & 0.049283047 & 0.031734828\\\\\n",
       "\t CSF2     & 3.864596e-03 &   0.3793224 & 0.070827500 & 0.045607945\\\\\n",
       "\t P4HA3    & 1.345548e-03 &   0.3696400 & 0.051107462 & 0.032909623\\\\\n",
       "\t CRHBP    & 1.769667e-03 &  -1.1767988 & 0.051107462 & 0.032909623\\\\\n",
       "\t CXCL2    & 9.726344e-06 &   0.3487878 & 0.008207598 & 0.005285118\\\\\n",
       "\t WNT3A    & 9.040916e-04 &  -0.3315028 & 0.051107462 & 0.032909623\\\\\n",
       "\t ESM1     & 3.638095e-03 &   0.2877764 & 0.069083613 & 0.044485004\\\\\n",
       "\t CXCL1    & 1.165628e-03 &   0.2093393 & 0.051107462 & 0.032909623\\\\\n",
       "\t IL1B     & 1.160238e-03 &   0.2667947 & 0.051107462 & 0.032909623\\\\\n",
       "\t SERPINH1 & 3.374184e-03 &   0.4443280 & 0.069083613 & 0.044485004\\\\\n",
       "\t BMP7     & 1.549055e-03 &  -0.1724286 & 0.051107462 & 0.032909623\\\\\n",
       "\t MATN3    & 5.055170e-04 &   0.2717521 & 0.042484728 & 0.027357187\\\\\n",
       "\t SERPINA3 & 1.628492e-05 &   0.2206911 & 0.008207598 & 0.005285118\\\\\n",
       "\t LOXL2    & 1.769391e-03 &   0.2757904 & 0.051107462 & 0.032909623\\\\\n",
       "\t CXCL3    & 6.083486e-05 &   0.3150565 & 0.012200059 & 0.007855983\\\\\n",
       "\t SERPINE1 & 2.692401e-03 &   0.2232763 & 0.060309783 & 0.038835272\\\\\n",
       "\t FIGF     & 1.544367e-03 &  -0.8062667 & 0.051107462 & 0.032909623\\\\\n",
       "\t PAPPA    & 1.065595e-03 &   0.3100554 & 0.051107462 & 0.032909623\\\\\n",
       "\t DMBT1    & 3.572857e-03 &   0.1364430 & 0.069083613 & 0.044485004\\\\\n",
       "\t SEMA3A   & 5.057706e-04 &   0.2369575 & 0.042484728 & 0.027357187\\\\\n",
       "\t ANGPTL4  & 2.475889e-03 &   0.2569172 & 0.058039441 & 0.037373332\\\\\n",
       "\t SEMA4D   & 2.089025e-03 &  -0.5252667 & 0.056103239 & 0.036126553\\\\\n",
       "\t LIF      & 8.472263e-05 &   0.3549182 & 0.012200059 & 0.007855983\\\\\n",
       "\t SCUBE1   & 2.234799e-03 &  -0.5253591 & 0.057760963 & 0.037194011\\\\\n",
       "\t LGALS9   & 1.742679e-03 &  -0.3593984 & 0.051107462 & 0.032909623\\\\\n",
       "\t CCL25    & 3.515936e-03 &  -0.9820997 & 0.069083613 & 0.044485004\\\\\n",
       "\t FGF5     & 2.425680e-03 &   0.4110940 & 0.058039441 & 0.037373332\\\\\n",
       "\t SERPINB6 & 2.424764e-03 &   0.4220919 & 0.058039441 & 0.037373332\\\\\n",
       "\t MMP3     & 1.791498e-03 &   0.2066425 & 0.051107462 & 0.032909623\\\\\n",
       "\t INSL3    & 3.700908e-03 &  -1.0574034 & 0.069083613 & 0.044485004\\\\\n",
       "\t FSTL3    & 3.538399e-03 &   0.2539530 & 0.069083613 & 0.044485004\\\\\n",
       "\t ZP1      & 1.825266e-03 &   0.9206308 & 0.051107462 & 0.032909623\\\\\n",
       "\t CXCL5    & 3.974807e-05 &   0.2468158 & 0.010016515 & 0.006449933\\\\\n",
       "\t LGALS9C  & 3.594551e-03 &  -0.2794035 & 0.069083613 & 0.044485004\\\\\n",
       "\t SMOC1    & 1.197460e-03 &   0.1604253 & 0.051107462 & 0.032909623\\\\\n",
       "\t LMAN1    & 1.029564e-03 &   0.9073611 & 0.051107462 & 0.032909623\\\\\n",
       "\t ADAM9    & 1.299100e-03 &   0.5684138 & 0.051107462 & 0.032909623\\\\\n",
       "\t MMP1     & 1.064467e-04 &   0.2195225 & 0.013412286 & 0.008636572\\\\\n",
       "\t CCL20    & 1.290950e-03 &   0.2050445 & 0.051107462 & 0.032909623\\\\\n",
       "\t PLOD2    & 3.533404e-05 &   0.4527466 & 0.010016515 & 0.006449933\\\\\n",
       "\t TGFBI    & 1.269508e-03 &   0.2575633 & 0.051107462 & 0.032909623\\\\\n",
       "\t CLEC2D   & 2.916253e-03 &  -0.5123328 & 0.063903984 & 0.041149686\\\\\n",
       "\t CSHL1    & 2.666364e-03 & -72.4575756 & 0.060309783 & 0.038835272\\\\\n",
       "\t DDX26B   & 1.385307e-03 &  -0.5129824 & 0.051107462 & 0.032909623\\\\\n",
       "\t ANXA2    & 6.783160e-04 &   0.6483124 & 0.048838749 & 0.031448731\\\\\n",
       "\t ANGPTL6  & 2.720452e-04 &  -1.2549889 & 0.027422152 & 0.017657944\\\\\n",
       "\t P4HA1    & 1.003305e-03 &   0.4854493 & 0.051107462 & 0.032909623\\\\\n",
       "\t P4HA2    & 6.540850e-04 &   0.5783149 & 0.048838749 & 0.031448731\\\\\n",
       "\t EGLN1    & 8.074051e-05 &   0.9290873 & 0.012200059 & 0.007855983\\\\\n",
       "\t PLOD1    & 2.692770e-04 &   0.6013743 & 0.027422152 & 0.017657944\\\\\n",
       "\t EREG     & 1.533084e-03 &   0.2043453 & 0.051107462 & 0.032909623\\\\\n",
       "\t TGFA     & 3.070213e-03 &   0.3666546 & 0.065846277 & 0.042400387\\\\\n",
       "\t ANXA3    & 2.115003e-03 &   0.3290668 & 0.056103239 & 0.036126553\\\\\n",
       "\\end{tabular}\n"
      ],
      "text/markdown": [
       "\n",
       "A tibble: 55 × 5\n",
       "\n",
       "| geneID &lt;chr&gt; | gene_pval &lt;dbl&gt; | gene_coeff &lt;dbl&gt; | gene_padj &lt;dbl&gt; | gene_qval &lt;dbl&gt; |\n",
       "|---|---|---|---|---|\n",
       "| FGG      | 2.446202e-03 |   0.2884951 | 0.058039441 | 0.037373332 |\n",
       "| MUC8     | 1.696131e-03 |  -3.0177276 | 0.051107462 | 0.032909623 |\n",
       "| SERPINA5 | 7.333787e-04 |   0.3064788 | 0.049283047 | 0.031734828 |\n",
       "| CSF2     | 3.864596e-03 |   0.3793224 | 0.070827500 | 0.045607945 |\n",
       "| P4HA3    | 1.345548e-03 |   0.3696400 | 0.051107462 | 0.032909623 |\n",
       "| CRHBP    | 1.769667e-03 |  -1.1767988 | 0.051107462 | 0.032909623 |\n",
       "| CXCL2    | 9.726344e-06 |   0.3487878 | 0.008207598 | 0.005285118 |\n",
       "| WNT3A    | 9.040916e-04 |  -0.3315028 | 0.051107462 | 0.032909623 |\n",
       "| ESM1     | 3.638095e-03 |   0.2877764 | 0.069083613 | 0.044485004 |\n",
       "| CXCL1    | 1.165628e-03 |   0.2093393 | 0.051107462 | 0.032909623 |\n",
       "| IL1B     | 1.160238e-03 |   0.2667947 | 0.051107462 | 0.032909623 |\n",
       "| SERPINH1 | 3.374184e-03 |   0.4443280 | 0.069083613 | 0.044485004 |\n",
       "| BMP7     | 1.549055e-03 |  -0.1724286 | 0.051107462 | 0.032909623 |\n",
       "| MATN3    | 5.055170e-04 |   0.2717521 | 0.042484728 | 0.027357187 |\n",
       "| SERPINA3 | 1.628492e-05 |   0.2206911 | 0.008207598 | 0.005285118 |\n",
       "| LOXL2    | 1.769391e-03 |   0.2757904 | 0.051107462 | 0.032909623 |\n",
       "| CXCL3    | 6.083486e-05 |   0.3150565 | 0.012200059 | 0.007855983 |\n",
       "| SERPINE1 | 2.692401e-03 |   0.2232763 | 0.060309783 | 0.038835272 |\n",
       "| FIGF     | 1.544367e-03 |  -0.8062667 | 0.051107462 | 0.032909623 |\n",
       "| PAPPA    | 1.065595e-03 |   0.3100554 | 0.051107462 | 0.032909623 |\n",
       "| DMBT1    | 3.572857e-03 |   0.1364430 | 0.069083613 | 0.044485004 |\n",
       "| SEMA3A   | 5.057706e-04 |   0.2369575 | 0.042484728 | 0.027357187 |\n",
       "| ANGPTL4  | 2.475889e-03 |   0.2569172 | 0.058039441 | 0.037373332 |\n",
       "| SEMA4D   | 2.089025e-03 |  -0.5252667 | 0.056103239 | 0.036126553 |\n",
       "| LIF      | 8.472263e-05 |   0.3549182 | 0.012200059 | 0.007855983 |\n",
       "| SCUBE1   | 2.234799e-03 |  -0.5253591 | 0.057760963 | 0.037194011 |\n",
       "| LGALS9   | 1.742679e-03 |  -0.3593984 | 0.051107462 | 0.032909623 |\n",
       "| CCL25    | 3.515936e-03 |  -0.9820997 | 0.069083613 | 0.044485004 |\n",
       "| FGF5     | 2.425680e-03 |   0.4110940 | 0.058039441 | 0.037373332 |\n",
       "| SERPINB6 | 2.424764e-03 |   0.4220919 | 0.058039441 | 0.037373332 |\n",
       "| MMP3     | 1.791498e-03 |   0.2066425 | 0.051107462 | 0.032909623 |\n",
       "| INSL3    | 3.700908e-03 |  -1.0574034 | 0.069083613 | 0.044485004 |\n",
       "| FSTL3    | 3.538399e-03 |   0.2539530 | 0.069083613 | 0.044485004 |\n",
       "| ZP1      | 1.825266e-03 |   0.9206308 | 0.051107462 | 0.032909623 |\n",
       "| CXCL5    | 3.974807e-05 |   0.2468158 | 0.010016515 | 0.006449933 |\n",
       "| LGALS9C  | 3.594551e-03 |  -0.2794035 | 0.069083613 | 0.044485004 |\n",
       "| SMOC1    | 1.197460e-03 |   0.1604253 | 0.051107462 | 0.032909623 |\n",
       "| LMAN1    | 1.029564e-03 |   0.9073611 | 0.051107462 | 0.032909623 |\n",
       "| ADAM9    | 1.299100e-03 |   0.5684138 | 0.051107462 | 0.032909623 |\n",
       "| MMP1     | 1.064467e-04 |   0.2195225 | 0.013412286 | 0.008636572 |\n",
       "| CCL20    | 1.290950e-03 |   0.2050445 | 0.051107462 | 0.032909623 |\n",
       "| PLOD2    | 3.533404e-05 |   0.4527466 | 0.010016515 | 0.006449933 |\n",
       "| TGFBI    | 1.269508e-03 |   0.2575633 | 0.051107462 | 0.032909623 |\n",
       "| CLEC2D   | 2.916253e-03 |  -0.5123328 | 0.063903984 | 0.041149686 |\n",
       "| CSHL1    | 2.666364e-03 | -72.4575756 | 0.060309783 | 0.038835272 |\n",
       "| DDX26B   | 1.385307e-03 |  -0.5129824 | 0.051107462 | 0.032909623 |\n",
       "| ANXA2    | 6.783160e-04 |   0.6483124 | 0.048838749 | 0.031448731 |\n",
       "| ANGPTL6  | 2.720452e-04 |  -1.2549889 | 0.027422152 | 0.017657944 |\n",
       "| P4HA1    | 1.003305e-03 |   0.4854493 | 0.051107462 | 0.032909623 |\n",
       "| P4HA2    | 6.540850e-04 |   0.5783149 | 0.048838749 | 0.031448731 |\n",
       "| EGLN1    | 8.074051e-05 |   0.9290873 | 0.012200059 | 0.007855983 |\n",
       "| PLOD1    | 2.692770e-04 |   0.6013743 | 0.027422152 | 0.017657944 |\n",
       "| EREG     | 1.533084e-03 |   0.2043453 | 0.051107462 | 0.032909623 |\n",
       "| TGFA     | 3.070213e-03 |   0.3666546 | 0.065846277 | 0.042400387 |\n",
       "| ANXA3    | 2.115003e-03 |   0.3290668 | 0.056103239 | 0.036126553 |\n",
       "\n"
      ],
      "text/plain": [
       "   geneID   gene_pval    gene_coeff  gene_padj   gene_qval  \n",
       "1  FGG      2.446202e-03   0.2884951 0.058039441 0.037373332\n",
       "2  MUC8     1.696131e-03  -3.0177276 0.051107462 0.032909623\n",
       "3  SERPINA5 7.333787e-04   0.3064788 0.049283047 0.031734828\n",
       "4  CSF2     3.864596e-03   0.3793224 0.070827500 0.045607945\n",
       "5  P4HA3    1.345548e-03   0.3696400 0.051107462 0.032909623\n",
       "6  CRHBP    1.769667e-03  -1.1767988 0.051107462 0.032909623\n",
       "7  CXCL2    9.726344e-06   0.3487878 0.008207598 0.005285118\n",
       "8  WNT3A    9.040916e-04  -0.3315028 0.051107462 0.032909623\n",
       "9  ESM1     3.638095e-03   0.2877764 0.069083613 0.044485004\n",
       "10 CXCL1    1.165628e-03   0.2093393 0.051107462 0.032909623\n",
       "11 IL1B     1.160238e-03   0.2667947 0.051107462 0.032909623\n",
       "12 SERPINH1 3.374184e-03   0.4443280 0.069083613 0.044485004\n",
       "13 BMP7     1.549055e-03  -0.1724286 0.051107462 0.032909623\n",
       "14 MATN3    5.055170e-04   0.2717521 0.042484728 0.027357187\n",
       "15 SERPINA3 1.628492e-05   0.2206911 0.008207598 0.005285118\n",
       "16 LOXL2    1.769391e-03   0.2757904 0.051107462 0.032909623\n",
       "17 CXCL3    6.083486e-05   0.3150565 0.012200059 0.007855983\n",
       "18 SERPINE1 2.692401e-03   0.2232763 0.060309783 0.038835272\n",
       "19 FIGF     1.544367e-03  -0.8062667 0.051107462 0.032909623\n",
       "20 PAPPA    1.065595e-03   0.3100554 0.051107462 0.032909623\n",
       "21 DMBT1    3.572857e-03   0.1364430 0.069083613 0.044485004\n",
       "22 SEMA3A   5.057706e-04   0.2369575 0.042484728 0.027357187\n",
       "23 ANGPTL4  2.475889e-03   0.2569172 0.058039441 0.037373332\n",
       "24 SEMA4D   2.089025e-03  -0.5252667 0.056103239 0.036126553\n",
       "25 LIF      8.472263e-05   0.3549182 0.012200059 0.007855983\n",
       "26 SCUBE1   2.234799e-03  -0.5253591 0.057760963 0.037194011\n",
       "27 LGALS9   1.742679e-03  -0.3593984 0.051107462 0.032909623\n",
       "28 CCL25    3.515936e-03  -0.9820997 0.069083613 0.044485004\n",
       "29 FGF5     2.425680e-03   0.4110940 0.058039441 0.037373332\n",
       "30 SERPINB6 2.424764e-03   0.4220919 0.058039441 0.037373332\n",
       "31 MMP3     1.791498e-03   0.2066425 0.051107462 0.032909623\n",
       "32 INSL3    3.700908e-03  -1.0574034 0.069083613 0.044485004\n",
       "33 FSTL3    3.538399e-03   0.2539530 0.069083613 0.044485004\n",
       "34 ZP1      1.825266e-03   0.9206308 0.051107462 0.032909623\n",
       "35 CXCL5    3.974807e-05   0.2468158 0.010016515 0.006449933\n",
       "36 LGALS9C  3.594551e-03  -0.2794035 0.069083613 0.044485004\n",
       "37 SMOC1    1.197460e-03   0.1604253 0.051107462 0.032909623\n",
       "38 LMAN1    1.029564e-03   0.9073611 0.051107462 0.032909623\n",
       "39 ADAM9    1.299100e-03   0.5684138 0.051107462 0.032909623\n",
       "40 MMP1     1.064467e-04   0.2195225 0.013412286 0.008636572\n",
       "41 CCL20    1.290950e-03   0.2050445 0.051107462 0.032909623\n",
       "42 PLOD2    3.533404e-05   0.4527466 0.010016515 0.006449933\n",
       "43 TGFBI    1.269508e-03   0.2575633 0.051107462 0.032909623\n",
       "44 CLEC2D   2.916253e-03  -0.5123328 0.063903984 0.041149686\n",
       "45 CSHL1    2.666364e-03 -72.4575756 0.060309783 0.038835272\n",
       "46 DDX26B   1.385307e-03  -0.5129824 0.051107462 0.032909623\n",
       "47 ANXA2    6.783160e-04   0.6483124 0.048838749 0.031448731\n",
       "48 ANGPTL6  2.720452e-04  -1.2549889 0.027422152 0.017657944\n",
       "49 P4HA1    1.003305e-03   0.4854493 0.051107462 0.032909623\n",
       "50 P4HA2    6.540850e-04   0.5783149 0.048838749 0.031448731\n",
       "51 EGLN1    8.074051e-05   0.9290873 0.012200059 0.007855983\n",
       "52 PLOD1    2.692770e-04   0.6013743 0.027422152 0.017657944\n",
       "53 EREG     1.533084e-03   0.2043453 0.051107462 0.032909623\n",
       "54 TGFA     3.070213e-03   0.3666546 0.065846277 0.042400387\n",
       "55 ANXA3    2.115003e-03   0.3290668 0.056103239 0.036126553"
      ]
     },
     "metadata": {},
     "output_type": "display_data"
    }
   ],
   "source": [
    "cox_regression_df %>%\n",
    "    dplyr::mutate(gene_padj = p.adjust(gene_pval, method = \"BH\")) %>%\n",
    "    dplyr::mutate(gene_qval = WGCNA::qvalue(gene_pval)$qvalues) %>%\n",
    "    dplyr::filter(gene_qval < 0.05)"
   ]
  },
  {
   "cell_type": "markdown",
   "metadata": {},
   "source": [
    "# Interpretation of coefficient sign\n",
    "\n",
    "Source: https://www.statsdirect.com/help/survival_analysis/cox_regression.htm#:~:text=In%20the%20context%20of%20an,Cox%20regression%20for%20survival%20analysis.&text=The%20coefficients%20in%20a%20Cox,with%20which%20it%20is%20associated."
   ]
  },
  {
   "cell_type": "code",
   "execution_count": 18,
   "metadata": {},
   "outputs": [
    {
     "data": {
      "text/html": [
       "117"
      ],
      "text/latex": [
       "117"
      ],
      "text/markdown": [
       "117"
      ],
      "text/plain": [
       "[1] 117"
      ]
     },
     "metadata": {},
     "output_type": "display_data"
    },
    {
     "data": {
      "text/html": [
       "54"
      ],
      "text/latex": [
       "54"
      ],
      "text/markdown": [
       "54"
      ],
      "text/plain": [
       "[1] 54"
      ]
     },
     "metadata": {},
     "output_type": "display_data"
    }
   ],
   "source": [
    "# Genes associated with negative prognosis\n",
    "nrow(sig_cox_regression_df %>%\n",
    "     dplyr::filter(gene_coeff > 0))\n",
    "\n",
    "# Genes associated with positive prognosis\n",
    "nrow(sig_cox_regression_df %>%\n",
    "     dplyr::filter(gene_coeff < 0))"
   ]
  }
 ],
 "metadata": {
  "kernelspec": {
   "display_name": "R",
   "language": "R",
   "name": "ir"
  },
  "language_info": {
   "codemirror_mode": "r",
   "file_extension": ".r",
   "mimetype": "text/x-r-source",
   "name": "R",
   "pygments_lexer": "r",
   "version": "3.6.3"
  }
 },
 "nbformat": 4,
 "nbformat_minor": 4
}
