{
 "cells": [
  {
   "cell_type": "code",
   "execution_count": 1,
   "metadata": {},
   "outputs": [
    {
     "name": "stderr",
     "output_type": "stream",
     "text": [
      "── Attaching packages ─────────────────────────────────────── tidyverse 1.3.0 ──\n",
      "✔ ggplot2 3.3.2     ✔ purrr   0.3.4\n",
      "✔ tibble  3.0.3     ✔ dplyr   1.0.0\n",
      "✔ tidyr   1.1.0     ✔ stringr 1.4.0\n",
      "✔ readr   1.3.1     ✔ forcats 0.5.0\n",
      "── Conflicts ────────────────────────────────────────── tidyverse_conflicts() ──\n",
      "✖ dplyr::filter() masks stats::filter()\n",
      "✖ dplyr::lag()    masks stats::lag()\n"
     ]
    }
   ],
   "source": [
    "library(tidyverse)\n",
    "\n",
    "# Custom package\n",
    "library(rutils)"
   ]
  },
  {
   "cell_type": "code",
   "execution_count": 2,
   "metadata": {},
   "outputs": [],
   "source": [
    "dirs <- rutils::get_dev_directories(dev_paths_file = \"../dev_paths.txt\")\n",
    "projects <- c(\"TCGA-CESC\", \"TCGA-UCS\", \"TCGA-UCEC\", \"TCGA-OV\")\n",
    "unified_dsets <- c(\"unified_cervical_data\", \"unified_uterine_data\", \"unified_uterine_endometrial_data\")\n",
    "matrisome_path <- paste0(dirs$data_dir, \"/matrisome/matrisome_hs_masterlist.tsv\")"
   ]
  },
  {
   "cell_type": "code",
   "execution_count": 3,
   "metadata": {},
   "outputs": [],
   "source": [
    "i <- 1"
   ]
  },
  {
   "cell_type": "code",
   "execution_count": 4,
   "metadata": {},
   "outputs": [
    {
     "name": "stderr",
     "output_type": "stream",
     "text": [
      "Parsed with column specification:\n",
      "cols(\n",
      "  Division = col_character(),\n",
      "  Category = col_character(),\n",
      "  `Gene Symbol` = col_character(),\n",
      "  `Gene Name` = col_character(),\n",
      "  Synonyms = col_character(),\n",
      "  HGNC_IDs = col_double(),\n",
      "  `HGNC_IDs Links` = col_double(),\n",
      "  UniProt_IDs = col_character(),\n",
      "  Refseq_IDs = col_character(),\n",
      "  Orthology = col_character(),\n",
      "  Notes = col_character()\n",
      ")\n"
     ]
    }
   ],
   "source": [
    "matrisome_df <- load_matrisome_df(matrisome_path)"
   ]
  },
  {
   "cell_type": "markdown",
   "metadata": {},
   "source": [
    "# Load and filter survival data"
   ]
  },
  {
   "cell_type": "code",
   "execution_count": 5,
   "metadata": {},
   "outputs": [],
   "source": [
    "event_code <- list(\"Alive\" = 0, \"Dead\" = 1)\n",
    "covariate_cols_no_figo <- c(\"age_at_diagnosis\", \"bmi\", \"race\", \"ethnicity\")\n",
    "covariate_cols <- c(\"figo_stage\", covariate_cols_no_figo)\n",
    "dep_cols <- c(\"vital_status\", \"survival_time\")"
   ]
  },
  {
   "cell_type": "code",
   "execution_count": 6,
   "metadata": {},
   "outputs": [
    {
     "name": "stderr",
     "output_type": "stream",
     "text": [
      "Parsed with column specification:\n",
      "cols(\n",
      "  sample_name = col_character(),\n",
      "  vital_status = col_character(),\n",
      "  survival_time = col_double(),\n",
      "  figo_stage = col_character(),\n",
      "  days_to_last_follow_up = col_double(),\n",
      "  days_to_death = col_double(),\n",
      "  age_at_diagnosis = col_double(),\n",
      "  age_at_index = col_double(),\n",
      "  height = col_double(),\n",
      "  weight = col_double(),\n",
      "  bmi = col_double(),\n",
      "  race = col_character(),\n",
      "  ethnicity = col_character()\n",
      ")\n"
     ]
    }
   ],
   "source": [
    "survival_path <- paste0(dirs$data_dir, \"/\", unified_dsets[i], \"/survival_data.tsv\")\n",
    "survival_df <- load_survival_df(survival_path, event_code)"
   ]
  },
  {
   "cell_type": "code",
   "execution_count": 7,
   "metadata": {},
   "outputs": [
    {
     "data": {
      "text/html": [
       "66"
      ],
      "text/latex": [
       "66"
      ],
      "text/markdown": [
       "66"
      ],
      "text/plain": [
       "[1] 66"
      ]
     },
     "metadata": {},
     "output_type": "display_data"
    },
    {
     "data": {
      "text/html": [
       "<table>\n",
       "<caption>A tibble: 6 × 3</caption>\n",
       "<thead>\n",
       "\t<tr><th scope=col>sample_name</th><th scope=col>vital_status</th><th scope=col>survival_time</th></tr>\n",
       "\t<tr><th scope=col>&lt;chr&gt;</th><th scope=col>&lt;dbl&gt;</th><th scope=col>&lt;dbl&gt;</th></tr>\n",
       "</thead>\n",
       "<tbody>\n",
       "\t<tr><td>TCGA-C5-A1BF-01B-11R-A13Y-07</td><td>1</td><td> 570</td></tr>\n",
       "\t<tr><td>TCGA-C5-A8YT-01A-11R-A37O-07</td><td>1</td><td> 633</td></tr>\n",
       "\t<tr><td>TCGA-C5-A2LZ-01A-11R-A213-07</td><td>1</td><td>3046</td></tr>\n",
       "\t<tr><td>TCGA-VS-A9V1-01A-11R-A42T-07</td><td>1</td><td> 157</td></tr>\n",
       "\t<tr><td>TCGA-C5-A1BE-01B-11R-A13Y-07</td><td>1</td><td>2094</td></tr>\n",
       "\t<tr><td>TCGA-C5-A8XH-01A-11R-A37O-07</td><td>1</td><td>1394</td></tr>\n",
       "</tbody>\n",
       "</table>\n"
      ],
      "text/latex": [
       "A tibble: 6 × 3\n",
       "\\begin{tabular}{lll}\n",
       " sample\\_name & vital\\_status & survival\\_time\\\\\n",
       " <chr> & <dbl> & <dbl>\\\\\n",
       "\\hline\n",
       "\t TCGA-C5-A1BF-01B-11R-A13Y-07 & 1 &  570\\\\\n",
       "\t TCGA-C5-A8YT-01A-11R-A37O-07 & 1 &  633\\\\\n",
       "\t TCGA-C5-A2LZ-01A-11R-A213-07 & 1 & 3046\\\\\n",
       "\t TCGA-VS-A9V1-01A-11R-A42T-07 & 1 &  157\\\\\n",
       "\t TCGA-C5-A1BE-01B-11R-A13Y-07 & 1 & 2094\\\\\n",
       "\t TCGA-C5-A8XH-01A-11R-A37O-07 & 1 & 1394\\\\\n",
       "\\end{tabular}\n"
      ],
      "text/markdown": [
       "\n",
       "A tibble: 6 × 3\n",
       "\n",
       "| sample_name &lt;chr&gt; | vital_status &lt;dbl&gt; | survival_time &lt;dbl&gt; |\n",
       "|---|---|---|\n",
       "| TCGA-C5-A1BF-01B-11R-A13Y-07 | 1 |  570 |\n",
       "| TCGA-C5-A8YT-01A-11R-A37O-07 | 1 |  633 |\n",
       "| TCGA-C5-A2LZ-01A-11R-A213-07 | 1 | 3046 |\n",
       "| TCGA-VS-A9V1-01A-11R-A42T-07 | 1 |  157 |\n",
       "| TCGA-C5-A1BE-01B-11R-A13Y-07 | 1 | 2094 |\n",
       "| TCGA-C5-A8XH-01A-11R-A37O-07 | 1 | 1394 |\n",
       "\n"
      ],
      "text/plain": [
       "  sample_name                  vital_status survival_time\n",
       "1 TCGA-C5-A1BF-01B-11R-A13Y-07 1             570         \n",
       "2 TCGA-C5-A8YT-01A-11R-A37O-07 1             633         \n",
       "3 TCGA-C5-A2LZ-01A-11R-A213-07 1            3046         \n",
       "4 TCGA-VS-A9V1-01A-11R-A42T-07 1             157         \n",
       "5 TCGA-C5-A1BE-01B-11R-A13Y-07 1            2094         \n",
       "6 TCGA-C5-A8XH-01A-11R-A37O-07 1            1394         "
      ]
     },
     "metadata": {},
     "output_type": "display_data"
    }
   ],
   "source": [
    "filtered_survival_df <- survival_df %>%\n",
    "    dplyr::select(sample_name, vital_status, survival_time) %>%\n",
    "    dplyr::filter(vital_status == event_code$Dead, rowSums(is.na(.)) == 0)\n",
    "    \n",
    "nrow(filtered_survival_df)\n",
    "head(filtered_survival_df)"
   ]
  },
  {
   "cell_type": "markdown",
   "metadata": {},
   "source": [
    "# Load normalized matrisome count data"
   ]
  },
  {
   "cell_type": "code",
   "execution_count": 8,
   "metadata": {},
   "outputs": [
    {
     "name": "stderr",
     "output_type": "stream",
     "text": [
      "Parsed with column specification:\n",
      "cols(\n",
      "  .default = col_double(),\n",
      "  geneID = col_character()\n",
      ")\n",
      "See spec(...) for full column specifications.\n"
     ]
    }
   ],
   "source": [
    "norm_matrisome_counts_path <- paste0(dirs$data_dir, \"/\", unified_dsets[i], \"/norm_matrisome_counts.tsv\")\n",
    "norm_survival_counts_df <- read_tsv(norm_matrisome_counts_path) %>%\n",
    "    dplyr::select(c(\"geneID\", filtered_survival_df$sample_name))"
   ]
  },
  {
   "cell_type": "code",
   "execution_count": 9,
   "metadata": {},
   "outputs": [],
   "source": [
    "norm_survival_counts_t_df <- norm_survival_counts_df %>%\n",
    "    column_to_rownames(var = \"geneID\") %>%\n",
    "    t() %>%\n",
    "    as_tibble(rownames = \"sample_name\") %>%\n",
    "    inner_join(filtered_survival_df, by = \"sample_name\") %>%\n",
    "    dplyr::select(sample_name, survival_time, everything(), -vital_status)"
   ]
  },
  {
   "cell_type": "code",
   "execution_count": 10,
   "metadata": {},
   "outputs": [
    {
     "data": {
      "text/html": [
       "66"
      ],
      "text/latex": [
       "66"
      ],
      "text/markdown": [
       "66"
      ],
      "text/plain": [
       "[1] 66"
      ]
     },
     "metadata": {},
     "output_type": "display_data"
    },
    {
     "data": {
      "text/html": [
       "<table>\n",
       "<caption>A tibble: 6 × 1010</caption>\n",
       "<thead>\n",
       "\t<tr><th scope=col>sample_name</th><th scope=col>survival_time</th><th scope=col>PGF</th><th scope=col>TIMP4</th><th scope=col>C1QTNF6</th><th scope=col>TNC</th><th scope=col>PRL</th><th scope=col>OGN</th><th scope=col>C1QL3</th><th scope=col>FGB</th><th scope=col>⋯</th><th scope=col>PIK3IP1</th><th scope=col>C1QTNF2</th><th scope=col>PCSK5</th><th scope=col>ANXA1</th><th scope=col>HGF</th><th scope=col>VWA2</th><th scope=col>FGF3</th><th scope=col>POSTN</th><th scope=col>NTF3</th><th scope=col>S100A6</th></tr>\n",
       "\t<tr><th scope=col>&lt;chr&gt;</th><th scope=col>&lt;dbl&gt;</th><th scope=col>&lt;dbl&gt;</th><th scope=col>&lt;dbl&gt;</th><th scope=col>&lt;dbl&gt;</th><th scope=col>&lt;dbl&gt;</th><th scope=col>&lt;dbl&gt;</th><th scope=col>&lt;dbl&gt;</th><th scope=col>&lt;dbl&gt;</th><th scope=col>&lt;dbl&gt;</th><th scope=col>⋯</th><th scope=col>&lt;dbl&gt;</th><th scope=col>&lt;dbl&gt;</th><th scope=col>&lt;dbl&gt;</th><th scope=col>&lt;dbl&gt;</th><th scope=col>&lt;dbl&gt;</th><th scope=col>&lt;dbl&gt;</th><th scope=col>&lt;dbl&gt;</th><th scope=col>&lt;dbl&gt;</th><th scope=col>&lt;dbl&gt;</th><th scope=col>&lt;dbl&gt;</th></tr>\n",
       "</thead>\n",
       "<tbody>\n",
       "\t<tr><td>TCGA-C5-A1BF-01B-11R-A13Y-07</td><td> 570</td><td>10.800637</td><td>6.228003</td><td>11.669331</td><td>13.00293</td><td>5.063964</td><td> 4.869744</td><td>5.063964</td><td>8.834522</td><td>⋯</td><td> 9.013453</td><td>8.190325</td><td> 9.503647</td><td>14.07799</td><td> 6.569726</td><td> 7.315604</td><td>4.602649</td><td>12.062300</td><td>5.649441</td><td>16.55841</td></tr>\n",
       "\t<tr><td>TCGA-C5-A8YT-01A-11R-A37O-07</td><td> 633</td><td> 7.830611</td><td>5.733875</td><td>12.445548</td><td>13.76547</td><td>5.455125</td><td>13.049104</td><td>5.146455</td><td>5.074289</td><td>⋯</td><td> 9.453187</td><td>6.398956</td><td>12.288955</td><td>13.39633</td><td>10.228758</td><td> 8.542025</td><td>4.602649</td><td>11.765396</td><td>5.318924</td><td>13.55632</td></tr>\n",
       "\t<tr><td>TCGA-C5-A2LZ-01A-11R-A213-07</td><td>3046</td><td>10.135550</td><td>4.865349</td><td> 8.566221</td><td>10.84231</td><td>4.865349</td><td> 5.241781</td><td>6.669045</td><td>4.602649</td><td>⋯</td><td>11.492135</td><td>7.426145</td><td> 9.480199</td><td>15.92715</td><td> 6.010764</td><td> 7.405245</td><td>4.602649</td><td> 7.506731</td><td>5.423416</td><td>14.73802</td></tr>\n",
       "\t<tr><td>TCGA-VS-A9V1-01A-11R-A42T-07</td><td> 157</td><td> 6.893100</td><td>6.334201</td><td>10.871571</td><td>12.21604</td><td>4.602649</td><td> 5.153289</td><td>5.153289</td><td>6.749410</td><td>⋯</td><td> 9.319180</td><td>7.444380</td><td> 8.707254</td><td>12.23439</td><td> 6.011689</td><td>10.391491</td><td>4.602649</td><td> 7.767144</td><td>5.376786</td><td>16.71254</td></tr>\n",
       "\t<tr><td>TCGA-C5-A1BE-01B-11R-A13Y-07</td><td>2094</td><td>10.642039</td><td>5.348449</td><td> 8.945220</td><td>13.41922</td><td>4.602649</td><td> 5.867905</td><td>5.646251</td><td>4.602649</td><td>⋯</td><td>11.696884</td><td>6.384980</td><td> 9.774029</td><td>15.38194</td><td> 6.205261</td><td> 7.163053</td><td>4.957257</td><td>10.113788</td><td>5.213815</td><td>15.56497</td></tr>\n",
       "\t<tr><td>TCGA-C5-A8XH-01A-11R-A37O-07</td><td>1394</td><td> 9.633752</td><td>5.908552</td><td>11.672191</td><td>13.86377</td><td>4.602649</td><td> 5.339887</td><td>5.702581</td><td>5.389600</td><td>⋯</td><td>11.148165</td><td>7.526140</td><td> 8.561116</td><td>14.40442</td><td> 6.462928</td><td> 6.102570</td><td>4.602649</td><td> 9.104547</td><td>5.088257</td><td>15.19735</td></tr>\n",
       "</tbody>\n",
       "</table>\n"
      ],
      "text/latex": [
       "A tibble: 6 × 1010\n",
       "\\begin{tabular}{lllllllllllllllllllll}\n",
       " sample\\_name & survival\\_time & PGF & TIMP4 & C1QTNF6 & TNC & PRL & OGN & C1QL3 & FGB & ⋯ & PIK3IP1 & C1QTNF2 & PCSK5 & ANXA1 & HGF & VWA2 & FGF3 & POSTN & NTF3 & S100A6\\\\\n",
       " <chr> & <dbl> & <dbl> & <dbl> & <dbl> & <dbl> & <dbl> & <dbl> & <dbl> & <dbl> & ⋯ & <dbl> & <dbl> & <dbl> & <dbl> & <dbl> & <dbl> & <dbl> & <dbl> & <dbl> & <dbl>\\\\\n",
       "\\hline\n",
       "\t TCGA-C5-A1BF-01B-11R-A13Y-07 &  570 & 10.800637 & 6.228003 & 11.669331 & 13.00293 & 5.063964 &  4.869744 & 5.063964 & 8.834522 & ⋯ &  9.013453 & 8.190325 &  9.503647 & 14.07799 &  6.569726 &  7.315604 & 4.602649 & 12.062300 & 5.649441 & 16.55841\\\\\n",
       "\t TCGA-C5-A8YT-01A-11R-A37O-07 &  633 &  7.830611 & 5.733875 & 12.445548 & 13.76547 & 5.455125 & 13.049104 & 5.146455 & 5.074289 & ⋯ &  9.453187 & 6.398956 & 12.288955 & 13.39633 & 10.228758 &  8.542025 & 4.602649 & 11.765396 & 5.318924 & 13.55632\\\\\n",
       "\t TCGA-C5-A2LZ-01A-11R-A213-07 & 3046 & 10.135550 & 4.865349 &  8.566221 & 10.84231 & 4.865349 &  5.241781 & 6.669045 & 4.602649 & ⋯ & 11.492135 & 7.426145 &  9.480199 & 15.92715 &  6.010764 &  7.405245 & 4.602649 &  7.506731 & 5.423416 & 14.73802\\\\\n",
       "\t TCGA-VS-A9V1-01A-11R-A42T-07 &  157 &  6.893100 & 6.334201 & 10.871571 & 12.21604 & 4.602649 &  5.153289 & 5.153289 & 6.749410 & ⋯ &  9.319180 & 7.444380 &  8.707254 & 12.23439 &  6.011689 & 10.391491 & 4.602649 &  7.767144 & 5.376786 & 16.71254\\\\\n",
       "\t TCGA-C5-A1BE-01B-11R-A13Y-07 & 2094 & 10.642039 & 5.348449 &  8.945220 & 13.41922 & 4.602649 &  5.867905 & 5.646251 & 4.602649 & ⋯ & 11.696884 & 6.384980 &  9.774029 & 15.38194 &  6.205261 &  7.163053 & 4.957257 & 10.113788 & 5.213815 & 15.56497\\\\\n",
       "\t TCGA-C5-A8XH-01A-11R-A37O-07 & 1394 &  9.633752 & 5.908552 & 11.672191 & 13.86377 & 4.602649 &  5.339887 & 5.702581 & 5.389600 & ⋯ & 11.148165 & 7.526140 &  8.561116 & 14.40442 &  6.462928 &  6.102570 & 4.602649 &  9.104547 & 5.088257 & 15.19735\\\\\n",
       "\\end{tabular}\n"
      ],
      "text/markdown": [
       "\n",
       "A tibble: 6 × 1010\n",
       "\n",
       "| sample_name &lt;chr&gt; | survival_time &lt;dbl&gt; | PGF &lt;dbl&gt; | TIMP4 &lt;dbl&gt; | C1QTNF6 &lt;dbl&gt; | TNC &lt;dbl&gt; | PRL &lt;dbl&gt; | OGN &lt;dbl&gt; | C1QL3 &lt;dbl&gt; | FGB &lt;dbl&gt; | ⋯ ⋯ | PIK3IP1 &lt;dbl&gt; | C1QTNF2 &lt;dbl&gt; | PCSK5 &lt;dbl&gt; | ANXA1 &lt;dbl&gt; | HGF &lt;dbl&gt; | VWA2 &lt;dbl&gt; | FGF3 &lt;dbl&gt; | POSTN &lt;dbl&gt; | NTF3 &lt;dbl&gt; | S100A6 &lt;dbl&gt; |\n",
       "|---|---|---|---|---|---|---|---|---|---|---|---|---|---|---|---|---|---|---|---|---|\n",
       "| TCGA-C5-A1BF-01B-11R-A13Y-07 |  570 | 10.800637 | 6.228003 | 11.669331 | 13.00293 | 5.063964 |  4.869744 | 5.063964 | 8.834522 | ⋯ |  9.013453 | 8.190325 |  9.503647 | 14.07799 |  6.569726 |  7.315604 | 4.602649 | 12.062300 | 5.649441 | 16.55841 |\n",
       "| TCGA-C5-A8YT-01A-11R-A37O-07 |  633 |  7.830611 | 5.733875 | 12.445548 | 13.76547 | 5.455125 | 13.049104 | 5.146455 | 5.074289 | ⋯ |  9.453187 | 6.398956 | 12.288955 | 13.39633 | 10.228758 |  8.542025 | 4.602649 | 11.765396 | 5.318924 | 13.55632 |\n",
       "| TCGA-C5-A2LZ-01A-11R-A213-07 | 3046 | 10.135550 | 4.865349 |  8.566221 | 10.84231 | 4.865349 |  5.241781 | 6.669045 | 4.602649 | ⋯ | 11.492135 | 7.426145 |  9.480199 | 15.92715 |  6.010764 |  7.405245 | 4.602649 |  7.506731 | 5.423416 | 14.73802 |\n",
       "| TCGA-VS-A9V1-01A-11R-A42T-07 |  157 |  6.893100 | 6.334201 | 10.871571 | 12.21604 | 4.602649 |  5.153289 | 5.153289 | 6.749410 | ⋯ |  9.319180 | 7.444380 |  8.707254 | 12.23439 |  6.011689 | 10.391491 | 4.602649 |  7.767144 | 5.376786 | 16.71254 |\n",
       "| TCGA-C5-A1BE-01B-11R-A13Y-07 | 2094 | 10.642039 | 5.348449 |  8.945220 | 13.41922 | 4.602649 |  5.867905 | 5.646251 | 4.602649 | ⋯ | 11.696884 | 6.384980 |  9.774029 | 15.38194 |  6.205261 |  7.163053 | 4.957257 | 10.113788 | 5.213815 | 15.56497 |\n",
       "| TCGA-C5-A8XH-01A-11R-A37O-07 | 1394 |  9.633752 | 5.908552 | 11.672191 | 13.86377 | 4.602649 |  5.339887 | 5.702581 | 5.389600 | ⋯ | 11.148165 | 7.526140 |  8.561116 | 14.40442 |  6.462928 |  6.102570 | 4.602649 |  9.104547 | 5.088257 | 15.19735 |\n",
       "\n"
      ],
      "text/plain": [
       "  sample_name                  survival_time PGF       TIMP4    C1QTNF6  \n",
       "1 TCGA-C5-A1BF-01B-11R-A13Y-07  570          10.800637 6.228003 11.669331\n",
       "2 TCGA-C5-A8YT-01A-11R-A37O-07  633           7.830611 5.733875 12.445548\n",
       "3 TCGA-C5-A2LZ-01A-11R-A213-07 3046          10.135550 4.865349  8.566221\n",
       "4 TCGA-VS-A9V1-01A-11R-A42T-07  157           6.893100 6.334201 10.871571\n",
       "5 TCGA-C5-A1BE-01B-11R-A13Y-07 2094          10.642039 5.348449  8.945220\n",
       "6 TCGA-C5-A8XH-01A-11R-A37O-07 1394           9.633752 5.908552 11.672191\n",
       "  TNC      PRL      OGN       C1QL3    FGB      ⋯ PIK3IP1   C1QTNF2  PCSK5    \n",
       "1 13.00293 5.063964  4.869744 5.063964 8.834522 ⋯  9.013453 8.190325  9.503647\n",
       "2 13.76547 5.455125 13.049104 5.146455 5.074289 ⋯  9.453187 6.398956 12.288955\n",
       "3 10.84231 4.865349  5.241781 6.669045 4.602649 ⋯ 11.492135 7.426145  9.480199\n",
       "4 12.21604 4.602649  5.153289 5.153289 6.749410 ⋯  9.319180 7.444380  8.707254\n",
       "5 13.41922 4.602649  5.867905 5.646251 4.602649 ⋯ 11.696884 6.384980  9.774029\n",
       "6 13.86377 4.602649  5.339887 5.702581 5.389600 ⋯ 11.148165 7.526140  8.561116\n",
       "  ANXA1    HGF       VWA2      FGF3     POSTN     NTF3     S100A6  \n",
       "1 14.07799  6.569726  7.315604 4.602649 12.062300 5.649441 16.55841\n",
       "2 13.39633 10.228758  8.542025 4.602649 11.765396 5.318924 13.55632\n",
       "3 15.92715  6.010764  7.405245 4.602649  7.506731 5.423416 14.73802\n",
       "4 12.23439  6.011689 10.391491 4.602649  7.767144 5.376786 16.71254\n",
       "5 15.38194  6.205261  7.163053 4.957257 10.113788 5.213815 15.56497\n",
       "6 14.40442  6.462928  6.102570 4.602649  9.104547 5.088257 15.19735"
      ]
     },
     "metadata": {},
     "output_type": "display_data"
    }
   ],
   "source": [
    "nrow(norm_survival_counts_t_df)\n",
    "head(norm_survival_counts_t_df)"
   ]
  },
  {
   "cell_type": "code",
   "execution_count": 21,
   "metadata": {},
   "outputs": [
    {
     "name": "stderr",
     "output_type": "stream",
     "text": [
      "Warning message in cor(x, y):\n",
      "“the standard deviation is zero”Warning message in cor(x, y):\n",
      "“the standard deviation is zero”Warning message in cor(x, y):\n",
      "“the standard deviation is zero”Warning message in cor(x, y):\n",
      "“the standard deviation is zero”Warning message in cor(x, y):\n",
      "“the standard deviation is zero”Warning message in cor(x, y):\n",
      "“the standard deviation is zero”Warning message in cor(x, y):\n",
      "“the standard deviation is zero”Warning message in cor(x, y):\n",
      "“the standard deviation is zero”Warning message in cor(x, y):\n",
      "“the standard deviation is zero”"
     ]
    }
   ],
   "source": [
    "cor_test_df <- colwise_cor_test(\n",
    "    norm_survival_counts_t_df,\n",
    "    colnames(norm_survival_counts_t_df)[-c(1:2)],\n",
    "    \"survival_time\",\n",
    "    v = \"geneID\"\n",
    ")"
   ]
  },
  {
   "cell_type": "code",
   "execution_count": 22,
   "metadata": {},
   "outputs": [
    {
     "data": {
      "text/html": [
       "<table>\n",
       "<caption>A tibble: 85 × 4</caption>\n",
       "<thead>\n",
       "\t<tr><th scope=col>geneID</th><th scope=col>cor</th><th scope=col>pval</th><th scope=col>n</th></tr>\n",
       "\t<tr><th scope=col>&lt;chr&gt;</th><th scope=col>&lt;dbl&gt;</th><th scope=col>&lt;dbl&gt;</th><th scope=col>&lt;int&gt;</th></tr>\n",
       "</thead>\n",
       "<tbody>\n",
       "\t<tr><td>C1QTNF6 </td><td>-0.3218074</td><td>0.0084158050</td><td>66</td></tr>\n",
       "\t<tr><td>CCL22   </td><td> 0.2642482</td><td>0.0320317949</td><td>66</td></tr>\n",
       "\t<tr><td>ANGPT2  </td><td>-0.3041151</td><td>0.0130448132</td><td>66</td></tr>\n",
       "\t<tr><td>CELA2B  </td><td> 0.3835591</td><td>0.0014775919</td><td>66</td></tr>\n",
       "\t<tr><td>IL10    </td><td> 0.2695193</td><td>0.0286389952</td><td>66</td></tr>\n",
       "\t<tr><td>CRHBP   </td><td> 0.3979693</td><td>0.0009357146</td><td>66</td></tr>\n",
       "\t<tr><td>CXCL2   </td><td>-0.3022278</td><td>0.0136489827</td><td>66</td></tr>\n",
       "\t<tr><td>WNT3A   </td><td> 0.2879545</td><td>0.0190499520</td><td>66</td></tr>\n",
       "\t<tr><td>MMP20   </td><td>-0.2735399</td><td>0.0262589611</td><td>66</td></tr>\n",
       "\t<tr><td>MMP15   </td><td>-0.2531520</td><td>0.0402806856</td><td>66</td></tr>\n",
       "\t<tr><td>ESM1    </td><td>-0.2473500</td><td>0.0452504818</td><td>66</td></tr>\n",
       "\t<tr><td>CLEC9A  </td><td> 0.2853321</td><td>0.0202188500</td><td>66</td></tr>\n",
       "\t<tr><td>WNT4    </td><td> 0.3166068</td><td>0.0095981664</td><td>66</td></tr>\n",
       "\t<tr><td>COLEC11 </td><td> 0.2977502</td><td>0.0151796467</td><td>66</td></tr>\n",
       "\t<tr><td>CXCL1   </td><td>-0.2757290</td><td>0.0250347545</td><td>66</td></tr>\n",
       "\t<tr><td>ZFP91   </td><td> 0.3667190</td><td>0.0024570074</td><td>66</td></tr>\n",
       "\t<tr><td>EFEMP1  </td><td>-0.2463668</td><td>0.0461406907</td><td>66</td></tr>\n",
       "\t<tr><td>IL1B    </td><td>-0.2748202</td><td>0.0255369805</td><td>66</td></tr>\n",
       "\t<tr><td>HRG     </td><td> 0.2722196</td><td>0.0270213860</td><td>66</td></tr>\n",
       "\t<tr><td>SERPINH1</td><td>-0.2427865</td><td>0.0495047839</td><td>66</td></tr>\n",
       "\t<tr><td>BMP7    </td><td> 0.2620010</td><td>0.0335771775</td><td>66</td></tr>\n",
       "\t<tr><td>IL34    </td><td> 0.2789550</td><td>0.0233188843</td><td>66</td></tr>\n",
       "\t<tr><td>S100B   </td><td> 0.2695824</td><td>0.0286003021</td><td>66</td></tr>\n",
       "\t<tr><td>LGI3    </td><td> 0.3715270</td><td>0.0021307558</td><td>66</td></tr>\n",
       "\t<tr><td>LAMC1   </td><td>-0.2458718</td><td>0.0465943324</td><td>66</td></tr>\n",
       "\t<tr><td>LOXL2   </td><td>-0.2940990</td><td>0.0165348610</td><td>66</td></tr>\n",
       "\t<tr><td>LTBP3   </td><td>-0.2605767</td><td>0.0345885653</td><td>66</td></tr>\n",
       "\t<tr><td>KERA    </td><td> 0.2720472</td><td>0.0271223077</td><td>66</td></tr>\n",
       "\t<tr><td>PRELP   </td><td> 0.2680814</td><td>0.0295330843</td><td>66</td></tr>\n",
       "\t<tr><td>VWA1    </td><td>-0.2840210</td><td>0.0208257979</td><td>66</td></tr>\n",
       "\t<tr><td>⋮</td><td>⋮</td><td>⋮</td><td>⋮</td></tr>\n",
       "\t<tr><td>CLEC10A  </td><td> 0.2590963</td><td>3.566651e-02</td><td>66</td></tr>\n",
       "\t<tr><td>LGALS9C  </td><td> 0.2582186</td><td>3.631878e-02</td><td>66</td></tr>\n",
       "\t<tr><td>SMOC1    </td><td>-0.2726672</td><td>2.676083e-02</td><td>66</td></tr>\n",
       "\t<tr><td>RSPO1    </td><td> 0.2926781</td><td>1.708963e-02</td><td>66</td></tr>\n",
       "\t<tr><td>NELL1    </td><td> 0.2962667</td><td>1.571829e-02</td><td>66</td></tr>\n",
       "\t<tr><td>PDGFB    </td><td>-0.2850006</td><td>2.037086e-02</td><td>66</td></tr>\n",
       "\t<tr><td>SERPINB12</td><td> 0.4875217</td><td>3.300213e-05</td><td>66</td></tr>\n",
       "\t<tr><td>CST7     </td><td> 0.2491061</td><td>4.369571e-02</td><td>66</td></tr>\n",
       "\t<tr><td>CX3CL1   </td><td> 0.3060675</td><td>1.244426e-02</td><td>66</td></tr>\n",
       "\t<tr><td>CCL19    </td><td> 0.2881841</td><td>1.895039e-02</td><td>66</td></tr>\n",
       "\t<tr><td>PLOD2    </td><td>-0.3298542</td><td>6.836672e-03</td><td>66</td></tr>\n",
       "\t<tr><td>AGT      </td><td>-0.2460663</td><td>4.641561e-02</td><td>66</td></tr>\n",
       "\t<tr><td>CRNN     </td><td> 0.2558073</td><td>3.816194e-02</td><td>66</td></tr>\n",
       "\t<tr><td>WNT2B    </td><td> 0.4213663</td><td>4.260961e-04</td><td>66</td></tr>\n",
       "\t<tr><td>TGFBI    </td><td>-0.2457081</td><td>4.674514e-02</td><td>66</td></tr>\n",
       "\t<tr><td>MUC4     </td><td> 0.4114651</td><td>5.985558e-04</td><td>66</td></tr>\n",
       "\t<tr><td>CSPG4    </td><td>-0.2624449</td><td>3.326705e-02</td><td>66</td></tr>\n",
       "\t<tr><td>NCAN     </td><td> 0.3337333</td><td>6.172989e-03</td><td>66</td></tr>\n",
       "\t<tr><td>TNFSF8   </td><td> 0.3154151</td><td>9.888640e-03</td><td>66</td></tr>\n",
       "\t<tr><td>DDX26B   </td><td> 0.3223307</td><td>8.304210e-03</td><td>66</td></tr>\n",
       "\t<tr><td>ANGPTL6  </td><td> 0.2471728</td><td>4.540990e-02</td><td>66</td></tr>\n",
       "\t<tr><td>CTSW     </td><td> 0.2466767</td><td>4.585859e-02</td><td>66</td></tr>\n",
       "\t<tr><td>LEPRE1   </td><td>-0.2788518</td><td>2.337216e-02</td><td>66</td></tr>\n",
       "\t<tr><td>PLOD1    </td><td>-0.2517778</td><td>4.141495e-02</td><td>66</td></tr>\n",
       "\t<tr><td>TNFSF13B </td><td> 0.2622174</td><td>3.342570e-02</td><td>66</td></tr>\n",
       "\t<tr><td>HMCN2    </td><td> 0.2775700</td><td>2.404293e-02</td><td>66</td></tr>\n",
       "\t<tr><td>CCL21    </td><td> 0.2509798</td><td>4.208563e-02</td><td>66</td></tr>\n",
       "\t<tr><td>GREM1    </td><td> 0.2524236</td><td>4.087866e-02</td><td>66</td></tr>\n",
       "\t<tr><td>VWA2     </td><td>-0.2461613</td><td>4.632855e-02</td><td>66</td></tr>\n",
       "\t<tr><td>S100A6   </td><td>-0.2738995</td><td>2.605442e-02</td><td>66</td></tr>\n",
       "</tbody>\n",
       "</table>\n"
      ],
      "text/latex": [
       "A tibble: 85 × 4\n",
       "\\begin{tabular}{llll}\n",
       " geneID & cor & pval & n\\\\\n",
       " <chr> & <dbl> & <dbl> & <int>\\\\\n",
       "\\hline\n",
       "\t C1QTNF6  & -0.3218074 & 0.0084158050 & 66\\\\\n",
       "\t CCL22    &  0.2642482 & 0.0320317949 & 66\\\\\n",
       "\t ANGPT2   & -0.3041151 & 0.0130448132 & 66\\\\\n",
       "\t CELA2B   &  0.3835591 & 0.0014775919 & 66\\\\\n",
       "\t IL10     &  0.2695193 & 0.0286389952 & 66\\\\\n",
       "\t CRHBP    &  0.3979693 & 0.0009357146 & 66\\\\\n",
       "\t CXCL2    & -0.3022278 & 0.0136489827 & 66\\\\\n",
       "\t WNT3A    &  0.2879545 & 0.0190499520 & 66\\\\\n",
       "\t MMP20    & -0.2735399 & 0.0262589611 & 66\\\\\n",
       "\t MMP15    & -0.2531520 & 0.0402806856 & 66\\\\\n",
       "\t ESM1     & -0.2473500 & 0.0452504818 & 66\\\\\n",
       "\t CLEC9A   &  0.2853321 & 0.0202188500 & 66\\\\\n",
       "\t WNT4     &  0.3166068 & 0.0095981664 & 66\\\\\n",
       "\t COLEC11  &  0.2977502 & 0.0151796467 & 66\\\\\n",
       "\t CXCL1    & -0.2757290 & 0.0250347545 & 66\\\\\n",
       "\t ZFP91    &  0.3667190 & 0.0024570074 & 66\\\\\n",
       "\t EFEMP1   & -0.2463668 & 0.0461406907 & 66\\\\\n",
       "\t IL1B     & -0.2748202 & 0.0255369805 & 66\\\\\n",
       "\t HRG      &  0.2722196 & 0.0270213860 & 66\\\\\n",
       "\t SERPINH1 & -0.2427865 & 0.0495047839 & 66\\\\\n",
       "\t BMP7     &  0.2620010 & 0.0335771775 & 66\\\\\n",
       "\t IL34     &  0.2789550 & 0.0233188843 & 66\\\\\n",
       "\t S100B    &  0.2695824 & 0.0286003021 & 66\\\\\n",
       "\t LGI3     &  0.3715270 & 0.0021307558 & 66\\\\\n",
       "\t LAMC1    & -0.2458718 & 0.0465943324 & 66\\\\\n",
       "\t LOXL2    & -0.2940990 & 0.0165348610 & 66\\\\\n",
       "\t LTBP3    & -0.2605767 & 0.0345885653 & 66\\\\\n",
       "\t KERA     &  0.2720472 & 0.0271223077 & 66\\\\\n",
       "\t PRELP    &  0.2680814 & 0.0295330843 & 66\\\\\n",
       "\t VWA1     & -0.2840210 & 0.0208257979 & 66\\\\\n",
       "\t ⋮ & ⋮ & ⋮ & ⋮\\\\\n",
       "\t CLEC10A   &  0.2590963 & 3.566651e-02 & 66\\\\\n",
       "\t LGALS9C   &  0.2582186 & 3.631878e-02 & 66\\\\\n",
       "\t SMOC1     & -0.2726672 & 2.676083e-02 & 66\\\\\n",
       "\t RSPO1     &  0.2926781 & 1.708963e-02 & 66\\\\\n",
       "\t NELL1     &  0.2962667 & 1.571829e-02 & 66\\\\\n",
       "\t PDGFB     & -0.2850006 & 2.037086e-02 & 66\\\\\n",
       "\t SERPINB12 &  0.4875217 & 3.300213e-05 & 66\\\\\n",
       "\t CST7      &  0.2491061 & 4.369571e-02 & 66\\\\\n",
       "\t CX3CL1    &  0.3060675 & 1.244426e-02 & 66\\\\\n",
       "\t CCL19     &  0.2881841 & 1.895039e-02 & 66\\\\\n",
       "\t PLOD2     & -0.3298542 & 6.836672e-03 & 66\\\\\n",
       "\t AGT       & -0.2460663 & 4.641561e-02 & 66\\\\\n",
       "\t CRNN      &  0.2558073 & 3.816194e-02 & 66\\\\\n",
       "\t WNT2B     &  0.4213663 & 4.260961e-04 & 66\\\\\n",
       "\t TGFBI     & -0.2457081 & 4.674514e-02 & 66\\\\\n",
       "\t MUC4      &  0.4114651 & 5.985558e-04 & 66\\\\\n",
       "\t CSPG4     & -0.2624449 & 3.326705e-02 & 66\\\\\n",
       "\t NCAN      &  0.3337333 & 6.172989e-03 & 66\\\\\n",
       "\t TNFSF8    &  0.3154151 & 9.888640e-03 & 66\\\\\n",
       "\t DDX26B    &  0.3223307 & 8.304210e-03 & 66\\\\\n",
       "\t ANGPTL6   &  0.2471728 & 4.540990e-02 & 66\\\\\n",
       "\t CTSW      &  0.2466767 & 4.585859e-02 & 66\\\\\n",
       "\t LEPRE1    & -0.2788518 & 2.337216e-02 & 66\\\\\n",
       "\t PLOD1     & -0.2517778 & 4.141495e-02 & 66\\\\\n",
       "\t TNFSF13B  &  0.2622174 & 3.342570e-02 & 66\\\\\n",
       "\t HMCN2     &  0.2775700 & 2.404293e-02 & 66\\\\\n",
       "\t CCL21     &  0.2509798 & 4.208563e-02 & 66\\\\\n",
       "\t GREM1     &  0.2524236 & 4.087866e-02 & 66\\\\\n",
       "\t VWA2      & -0.2461613 & 4.632855e-02 & 66\\\\\n",
       "\t S100A6    & -0.2738995 & 2.605442e-02 & 66\\\\\n",
       "\\end{tabular}\n"
      ],
      "text/markdown": [
       "\n",
       "A tibble: 85 × 4\n",
       "\n",
       "| geneID &lt;chr&gt; | cor &lt;dbl&gt; | pval &lt;dbl&gt; | n &lt;int&gt; |\n",
       "|---|---|---|---|\n",
       "| C1QTNF6  | -0.3218074 | 0.0084158050 | 66 |\n",
       "| CCL22    |  0.2642482 | 0.0320317949 | 66 |\n",
       "| ANGPT2   | -0.3041151 | 0.0130448132 | 66 |\n",
       "| CELA2B   |  0.3835591 | 0.0014775919 | 66 |\n",
       "| IL10     |  0.2695193 | 0.0286389952 | 66 |\n",
       "| CRHBP    |  0.3979693 | 0.0009357146 | 66 |\n",
       "| CXCL2    | -0.3022278 | 0.0136489827 | 66 |\n",
       "| WNT3A    |  0.2879545 | 0.0190499520 | 66 |\n",
       "| MMP20    | -0.2735399 | 0.0262589611 | 66 |\n",
       "| MMP15    | -0.2531520 | 0.0402806856 | 66 |\n",
       "| ESM1     | -0.2473500 | 0.0452504818 | 66 |\n",
       "| CLEC9A   |  0.2853321 | 0.0202188500 | 66 |\n",
       "| WNT4     |  0.3166068 | 0.0095981664 | 66 |\n",
       "| COLEC11  |  0.2977502 | 0.0151796467 | 66 |\n",
       "| CXCL1    | -0.2757290 | 0.0250347545 | 66 |\n",
       "| ZFP91    |  0.3667190 | 0.0024570074 | 66 |\n",
       "| EFEMP1   | -0.2463668 | 0.0461406907 | 66 |\n",
       "| IL1B     | -0.2748202 | 0.0255369805 | 66 |\n",
       "| HRG      |  0.2722196 | 0.0270213860 | 66 |\n",
       "| SERPINH1 | -0.2427865 | 0.0495047839 | 66 |\n",
       "| BMP7     |  0.2620010 | 0.0335771775 | 66 |\n",
       "| IL34     |  0.2789550 | 0.0233188843 | 66 |\n",
       "| S100B    |  0.2695824 | 0.0286003021 | 66 |\n",
       "| LGI3     |  0.3715270 | 0.0021307558 | 66 |\n",
       "| LAMC1    | -0.2458718 | 0.0465943324 | 66 |\n",
       "| LOXL2    | -0.2940990 | 0.0165348610 | 66 |\n",
       "| LTBP3    | -0.2605767 | 0.0345885653 | 66 |\n",
       "| KERA     |  0.2720472 | 0.0271223077 | 66 |\n",
       "| PRELP    |  0.2680814 | 0.0295330843 | 66 |\n",
       "| VWA1     | -0.2840210 | 0.0208257979 | 66 |\n",
       "| ⋮ | ⋮ | ⋮ | ⋮ |\n",
       "| CLEC10A   |  0.2590963 | 3.566651e-02 | 66 |\n",
       "| LGALS9C   |  0.2582186 | 3.631878e-02 | 66 |\n",
       "| SMOC1     | -0.2726672 | 2.676083e-02 | 66 |\n",
       "| RSPO1     |  0.2926781 | 1.708963e-02 | 66 |\n",
       "| NELL1     |  0.2962667 | 1.571829e-02 | 66 |\n",
       "| PDGFB     | -0.2850006 | 2.037086e-02 | 66 |\n",
       "| SERPINB12 |  0.4875217 | 3.300213e-05 | 66 |\n",
       "| CST7      |  0.2491061 | 4.369571e-02 | 66 |\n",
       "| CX3CL1    |  0.3060675 | 1.244426e-02 | 66 |\n",
       "| CCL19     |  0.2881841 | 1.895039e-02 | 66 |\n",
       "| PLOD2     | -0.3298542 | 6.836672e-03 | 66 |\n",
       "| AGT       | -0.2460663 | 4.641561e-02 | 66 |\n",
       "| CRNN      |  0.2558073 | 3.816194e-02 | 66 |\n",
       "| WNT2B     |  0.4213663 | 4.260961e-04 | 66 |\n",
       "| TGFBI     | -0.2457081 | 4.674514e-02 | 66 |\n",
       "| MUC4      |  0.4114651 | 5.985558e-04 | 66 |\n",
       "| CSPG4     | -0.2624449 | 3.326705e-02 | 66 |\n",
       "| NCAN      |  0.3337333 | 6.172989e-03 | 66 |\n",
       "| TNFSF8    |  0.3154151 | 9.888640e-03 | 66 |\n",
       "| DDX26B    |  0.3223307 | 8.304210e-03 | 66 |\n",
       "| ANGPTL6   |  0.2471728 | 4.540990e-02 | 66 |\n",
       "| CTSW      |  0.2466767 | 4.585859e-02 | 66 |\n",
       "| LEPRE1    | -0.2788518 | 2.337216e-02 | 66 |\n",
       "| PLOD1     | -0.2517778 | 4.141495e-02 | 66 |\n",
       "| TNFSF13B  |  0.2622174 | 3.342570e-02 | 66 |\n",
       "| HMCN2     |  0.2775700 | 2.404293e-02 | 66 |\n",
       "| CCL21     |  0.2509798 | 4.208563e-02 | 66 |\n",
       "| GREM1     |  0.2524236 | 4.087866e-02 | 66 |\n",
       "| VWA2      | -0.2461613 | 4.632855e-02 | 66 |\n",
       "| S100A6    | -0.2738995 | 2.605442e-02 | 66 |\n",
       "\n"
      ],
      "text/plain": [
       "   geneID    cor        pval         n \n",
       "1  C1QTNF6   -0.3218074 0.0084158050 66\n",
       "2  CCL22      0.2642482 0.0320317949 66\n",
       "3  ANGPT2    -0.3041151 0.0130448132 66\n",
       "4  CELA2B     0.3835591 0.0014775919 66\n",
       "5  IL10       0.2695193 0.0286389952 66\n",
       "6  CRHBP      0.3979693 0.0009357146 66\n",
       "7  CXCL2     -0.3022278 0.0136489827 66\n",
       "8  WNT3A      0.2879545 0.0190499520 66\n",
       "9  MMP20     -0.2735399 0.0262589611 66\n",
       "10 MMP15     -0.2531520 0.0402806856 66\n",
       "11 ESM1      -0.2473500 0.0452504818 66\n",
       "12 CLEC9A     0.2853321 0.0202188500 66\n",
       "13 WNT4       0.3166068 0.0095981664 66\n",
       "14 COLEC11    0.2977502 0.0151796467 66\n",
       "15 CXCL1     -0.2757290 0.0250347545 66\n",
       "16 ZFP91      0.3667190 0.0024570074 66\n",
       "17 EFEMP1    -0.2463668 0.0461406907 66\n",
       "18 IL1B      -0.2748202 0.0255369805 66\n",
       "19 HRG        0.2722196 0.0270213860 66\n",
       "20 SERPINH1  -0.2427865 0.0495047839 66\n",
       "21 BMP7       0.2620010 0.0335771775 66\n",
       "22 IL34       0.2789550 0.0233188843 66\n",
       "23 S100B      0.2695824 0.0286003021 66\n",
       "24 LGI3       0.3715270 0.0021307558 66\n",
       "25 LAMC1     -0.2458718 0.0465943324 66\n",
       "26 LOXL2     -0.2940990 0.0165348610 66\n",
       "27 LTBP3     -0.2605767 0.0345885653 66\n",
       "28 KERA       0.2720472 0.0271223077 66\n",
       "29 PRELP      0.2680814 0.0295330843 66\n",
       "30 VWA1      -0.2840210 0.0208257979 66\n",
       "⋮  ⋮         ⋮          ⋮            ⋮ \n",
       "56 CLEC10A    0.2590963 3.566651e-02 66\n",
       "57 LGALS9C    0.2582186 3.631878e-02 66\n",
       "58 SMOC1     -0.2726672 2.676083e-02 66\n",
       "59 RSPO1      0.2926781 1.708963e-02 66\n",
       "60 NELL1      0.2962667 1.571829e-02 66\n",
       "61 PDGFB     -0.2850006 2.037086e-02 66\n",
       "62 SERPINB12  0.4875217 3.300213e-05 66\n",
       "63 CST7       0.2491061 4.369571e-02 66\n",
       "64 CX3CL1     0.3060675 1.244426e-02 66\n",
       "65 CCL19      0.2881841 1.895039e-02 66\n",
       "66 PLOD2     -0.3298542 6.836672e-03 66\n",
       "67 AGT       -0.2460663 4.641561e-02 66\n",
       "68 CRNN       0.2558073 3.816194e-02 66\n",
       "69 WNT2B      0.4213663 4.260961e-04 66\n",
       "70 TGFBI     -0.2457081 4.674514e-02 66\n",
       "71 MUC4       0.4114651 5.985558e-04 66\n",
       "72 CSPG4     -0.2624449 3.326705e-02 66\n",
       "73 NCAN       0.3337333 6.172989e-03 66\n",
       "74 TNFSF8     0.3154151 9.888640e-03 66\n",
       "75 DDX26B     0.3223307 8.304210e-03 66\n",
       "76 ANGPTL6    0.2471728 4.540990e-02 66\n",
       "77 CTSW       0.2466767 4.585859e-02 66\n",
       "78 LEPRE1    -0.2788518 2.337216e-02 66\n",
       "79 PLOD1     -0.2517778 4.141495e-02 66\n",
       "80 TNFSF13B   0.2622174 3.342570e-02 66\n",
       "81 HMCN2      0.2775700 2.404293e-02 66\n",
       "82 CCL21      0.2509798 4.208563e-02 66\n",
       "83 GREM1      0.2524236 4.087866e-02 66\n",
       "84 VWA2      -0.2461613 4.632855e-02 66\n",
       "85 S100A6    -0.2738995 2.605442e-02 66"
      ]
     },
     "metadata": {},
     "output_type": "display_data"
    }
   ],
   "source": [
    "cor_test_df %>%\n",
    "    dplyr::filter(pval < 0.05)"
   ]
  },
  {
   "cell_type": "code",
   "execution_count": 23,
   "metadata": {},
   "outputs": [],
   "source": [
    "write_tsv(cor_test_df, paste0(dirs$analysis_dir, \"/\", unified_dsets[i], \"_cor_results.tsv\"))"
   ]
  }
 ],
 "metadata": {
  "kernelspec": {
   "display_name": "R",
   "language": "R",
   "name": "ir"
  },
  "language_info": {
   "codemirror_mode": "r",
   "file_extension": ".r",
   "mimetype": "text/x-r-source",
   "name": "R",
   "pygments_lexer": "r",
   "version": "3.6.3"
  }
 },
 "nbformat": 4,
 "nbformat_minor": 4
}
