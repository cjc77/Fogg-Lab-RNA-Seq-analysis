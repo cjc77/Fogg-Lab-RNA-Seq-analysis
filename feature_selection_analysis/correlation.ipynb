{
 "cells": [
  {
   "cell_type": "code",
   "execution_count": 1,
   "metadata": {},
   "outputs": [
    {
     "name": "stderr",
     "output_type": "stream",
     "text": [
      "── Attaching packages ─────────────────────────────────────── tidyverse 1.3.0 ──\n",
      "✔ ggplot2 3.3.2     ✔ purrr   0.3.4\n",
      "✔ tibble  3.0.3     ✔ dplyr   1.0.0\n",
      "✔ tidyr   1.1.0     ✔ stringr 1.4.0\n",
      "✔ readr   1.3.1     ✔ forcats 0.5.0\n",
      "── Conflicts ────────────────────────────────────────── tidyverse_conflicts() ──\n",
      "✖ dplyr::filter() masks stats::filter()\n",
      "✖ dplyr::lag()    masks stats::lag()\n"
     ]
    }
   ],
   "source": [
    "library(tidyverse)\n",
    "\n",
    "# Custom package\n",
    "library(rutils)"
   ]
  },
  {
   "cell_type": "code",
   "execution_count": 2,
   "metadata": {},
   "outputs": [],
   "source": [
    "dirs <- rutils::get_dev_directories(dev_paths_file = \"../dev_paths.txt\")\n",
    "projects <- c(\"TCGA-CESC\", \"TCGA-UCS\", \"TCGA-UCEC\", \"TCGA-OV\")\n",
    "unified_dsets <- c(\"unified_cervical_data\", \"unified_uterine_data\", \"unified_uterine_endometrial_data\")\n",
    "matrisome_path <- paste0(dirs$data_dir, \"/matrisome/matrisome_hs_masterlist.tsv\")"
   ]
  },
  {
   "cell_type": "code",
   "execution_count": 3,
   "metadata": {},
   "outputs": [],
   "source": [
    "dset_idx <- 3"
   ]
  },
  {
   "cell_type": "code",
   "execution_count": 4,
   "metadata": {},
   "outputs": [
    {
     "name": "stderr",
     "output_type": "stream",
     "text": [
      "Parsed with column specification:\n",
      "cols(\n",
      "  Division = col_character(),\n",
      "  Category = col_character(),\n",
      "  `Gene Symbol` = col_character(),\n",
      "  `Gene Name` = col_character(),\n",
      "  Synonyms = col_character(),\n",
      "  HGNC_IDs = col_double(),\n",
      "  `HGNC_IDs Links` = col_double(),\n",
      "  UniProt_IDs = col_character(),\n",
      "  Refseq_IDs = col_character(),\n",
      "  Orthology = col_character(),\n",
      "  Notes = col_character()\n",
      ")\n"
     ]
    }
   ],
   "source": [
    "matrisome_df <- load_matrisome_df(matrisome_path)"
   ]
  },
  {
   "cell_type": "markdown",
   "metadata": {},
   "source": [
    "# Load and filter survival data"
   ]
  },
  {
   "cell_type": "code",
   "execution_count": 5,
   "metadata": {},
   "outputs": [],
   "source": [
    "event_code <- list(\"Alive\" = 0, \"Dead\" = 1)\n",
    "covariate_cols_no_figo <- c(\"age_at_diagnosis\", \"race\", \"ethnicity\")\n",
    "covariate_cols <- c(\"figo_stage\", covariate_cols_no_figo)\n",
    "dep_cols <- c(\"vital_status\", \"survival_time\")"
   ]
  },
  {
   "cell_type": "code",
   "execution_count": 6,
   "metadata": {},
   "outputs": [
    {
     "name": "stderr",
     "output_type": "stream",
     "text": [
      "Parsed with column specification:\n",
      "cols(\n",
      "  sample_name = col_character(),\n",
      "  vital_status = col_character(),\n",
      "  survival_time = col_double(),\n",
      "  figo_stage = col_character(),\n",
      "  days_to_last_follow_up = col_double(),\n",
      "  days_to_death = col_double(),\n",
      "  age_at_diagnosis = col_double(),\n",
      "  age_at_index = col_double(),\n",
      "  height = col_double(),\n",
      "  weight = col_double(),\n",
      "  bmi = col_double(),\n",
      "  race = col_character(),\n",
      "  ethnicity = col_character()\n",
      ")\n"
     ]
    }
   ],
   "source": [
    "survival_path <- paste0(dirs$data_dir, \"/\", unified_dsets[dset_idx], \"/survival_data.tsv\")\n",
    "survival_df <- load_survival_df(survival_path, event_code)"
   ]
  },
  {
   "cell_type": "code",
   "execution_count": 7,
   "metadata": {},
   "outputs": [
    {
     "data": {
      "text/html": [
       "24"
      ],
      "text/latex": [
       "24"
      ],
      "text/markdown": [
       "24"
      ],
      "text/plain": [
       "[1] 24"
      ]
     },
     "metadata": {},
     "output_type": "display_data"
    },
    {
     "data": {
      "text/html": [
       "<table>\n",
       "<caption>A tibble: 6 × 3</caption>\n",
       "<thead>\n",
       "\t<tr><th scope=col>sample_name</th><th scope=col>vital_status</th><th scope=col>survival_time</th></tr>\n",
       "\t<tr><th scope=col>&lt;chr&gt;</th><th scope=col>&lt;dbl&gt;</th><th scope=col>&lt;dbl&gt;</th></tr>\n",
       "</thead>\n",
       "<tbody>\n",
       "\t<tr><td>TCGA-A5-A2K4-01A-11R-A18M-07</td><td>1</td><td>871</td></tr>\n",
       "\t<tr><td>TCGA-AJ-A23N-01A-11R-A22K-07</td><td>1</td><td>439</td></tr>\n",
       "\t<tr><td>TCGA-EY-A3QX-01A-11R-A22K-07</td><td>1</td><td>989</td></tr>\n",
       "\t<tr><td>TCGA-AJ-A3I9-01A-11R-A22K-07</td><td>1</td><td>519</td></tr>\n",
       "\t<tr><td>TCGA-EY-A2ON-01A-21R-A18M-07</td><td>1</td><td>610</td></tr>\n",
       "\t<tr><td>TCGA-AJ-A3EJ-01A-11R-A19W-07</td><td>1</td><td> 50</td></tr>\n",
       "</tbody>\n",
       "</table>\n"
      ],
      "text/latex": [
       "A tibble: 6 × 3\n",
       "\\begin{tabular}{lll}\n",
       " sample\\_name & vital\\_status & survival\\_time\\\\\n",
       " <chr> & <dbl> & <dbl>\\\\\n",
       "\\hline\n",
       "\t TCGA-A5-A2K4-01A-11R-A18M-07 & 1 & 871\\\\\n",
       "\t TCGA-AJ-A23N-01A-11R-A22K-07 & 1 & 439\\\\\n",
       "\t TCGA-EY-A3QX-01A-11R-A22K-07 & 1 & 989\\\\\n",
       "\t TCGA-AJ-A3I9-01A-11R-A22K-07 & 1 & 519\\\\\n",
       "\t TCGA-EY-A2ON-01A-21R-A18M-07 & 1 & 610\\\\\n",
       "\t TCGA-AJ-A3EJ-01A-11R-A19W-07 & 1 &  50\\\\\n",
       "\\end{tabular}\n"
      ],
      "text/markdown": [
       "\n",
       "A tibble: 6 × 3\n",
       "\n",
       "| sample_name &lt;chr&gt; | vital_status &lt;dbl&gt; | survival_time &lt;dbl&gt; |\n",
       "|---|---|---|\n",
       "| TCGA-A5-A2K4-01A-11R-A18M-07 | 1 | 871 |\n",
       "| TCGA-AJ-A23N-01A-11R-A22K-07 | 1 | 439 |\n",
       "| TCGA-EY-A3QX-01A-11R-A22K-07 | 1 | 989 |\n",
       "| TCGA-AJ-A3I9-01A-11R-A22K-07 | 1 | 519 |\n",
       "| TCGA-EY-A2ON-01A-21R-A18M-07 | 1 | 610 |\n",
       "| TCGA-AJ-A3EJ-01A-11R-A19W-07 | 1 |  50 |\n",
       "\n"
      ],
      "text/plain": [
       "  sample_name                  vital_status survival_time\n",
       "1 TCGA-A5-A2K4-01A-11R-A18M-07 1            871          \n",
       "2 TCGA-AJ-A23N-01A-11R-A22K-07 1            439          \n",
       "3 TCGA-EY-A3QX-01A-11R-A22K-07 1            989          \n",
       "4 TCGA-AJ-A3I9-01A-11R-A22K-07 1            519          \n",
       "5 TCGA-EY-A2ON-01A-21R-A18M-07 1            610          \n",
       "6 TCGA-AJ-A3EJ-01A-11R-A19W-07 1             50          "
      ]
     },
     "metadata": {},
     "output_type": "display_data"
    }
   ],
   "source": [
    "filtered_survival_df <- survival_df %>%\n",
    "    dplyr::select(sample_name, vital_status, survival_time) %>%\n",
    "    dplyr::filter(vital_status == event_code$Dead, rowSums(is.na(.)) == 0)\n",
    "    \n",
    "nrow(filtered_survival_df)\n",
    "head(filtered_survival_df)"
   ]
  },
  {
   "cell_type": "markdown",
   "metadata": {},
   "source": [
    "# Load normalized matrisome count data"
   ]
  },
  {
   "cell_type": "code",
   "execution_count": 8,
   "metadata": {},
   "outputs": [
    {
     "name": "stderr",
     "output_type": "stream",
     "text": [
      "Parsed with column specification:\n",
      "cols(\n",
      "  .default = col_double(),\n",
      "  geneID = col_character()\n",
      ")\n",
      "See spec(...) for full column specifications.\n"
     ]
    }
   ],
   "source": [
    "norm_matrisome_counts_path <- paste0(dirs$data_dir, \"/\", unified_dsets[dset_idx], \"/norm_matrisome_counts.tsv\")\n",
    "norm_survival_counts_df <- read_tsv(norm_matrisome_counts_path) %>%\n",
    "    dplyr::select(c(\"geneID\", filtered_survival_df$sample_name))"
   ]
  },
  {
   "cell_type": "code",
   "execution_count": 9,
   "metadata": {},
   "outputs": [],
   "source": [
    "norm_survival_counts_t_df <- norm_survival_counts_df %>%\n",
    "    column_to_rownames(var = \"geneID\") %>%\n",
    "    t() %>%\n",
    "    as_tibble(rownames = \"sample_name\") %>%\n",
    "    inner_join(filtered_survival_df, by = \"sample_name\") %>%\n",
    "    dplyr::select(sample_name, survival_time, everything(), -vital_status)"
   ]
  },
  {
   "cell_type": "code",
   "execution_count": 10,
   "metadata": {},
   "outputs": [
    {
     "data": {
      "text/html": [
       "24"
      ],
      "text/latex": [
       "24"
      ],
      "text/markdown": [
       "24"
      ],
      "text/plain": [
       "[1] 24"
      ]
     },
     "metadata": {},
     "output_type": "display_data"
    },
    {
     "data": {
      "text/html": [
       "<table>\n",
       "<caption>A tibble: 6 × 1010</caption>\n",
       "<thead>\n",
       "\t<tr><th scope=col>sample_name</th><th scope=col>survival_time</th><th scope=col>PGF</th><th scope=col>TIMP4</th><th scope=col>C1QTNF6</th><th scope=col>TNC</th><th scope=col>PRL</th><th scope=col>OGN</th><th scope=col>C1QL3</th><th scope=col>FGB</th><th scope=col>⋯</th><th scope=col>PIK3IP1</th><th scope=col>C1QTNF2</th><th scope=col>PCSK5</th><th scope=col>ANXA1</th><th scope=col>HGF</th><th scope=col>VWA2</th><th scope=col>FGF3</th><th scope=col>POSTN</th><th scope=col>NTF3</th><th scope=col>S100A6</th></tr>\n",
       "\t<tr><th scope=col>&lt;chr&gt;</th><th scope=col>&lt;dbl&gt;</th><th scope=col>&lt;dbl&gt;</th><th scope=col>&lt;dbl&gt;</th><th scope=col>&lt;dbl&gt;</th><th scope=col>&lt;dbl&gt;</th><th scope=col>&lt;dbl&gt;</th><th scope=col>&lt;dbl&gt;</th><th scope=col>&lt;dbl&gt;</th><th scope=col>&lt;dbl&gt;</th><th scope=col>⋯</th><th scope=col>&lt;dbl&gt;</th><th scope=col>&lt;dbl&gt;</th><th scope=col>&lt;dbl&gt;</th><th scope=col>&lt;dbl&gt;</th><th scope=col>&lt;dbl&gt;</th><th scope=col>&lt;dbl&gt;</th><th scope=col>&lt;dbl&gt;</th><th scope=col>&lt;dbl&gt;</th><th scope=col>&lt;dbl&gt;</th><th scope=col>&lt;dbl&gt;</th></tr>\n",
       "</thead>\n",
       "<tbody>\n",
       "\t<tr><td>TCGA-A5-A2K4-01A-11R-A18M-07</td><td>871</td><td>7.607230</td><td>4.169268</td><td>11.255370</td><td>12.235577</td><td>4.856636</td><td>4.405101</td><td>4.914654</td><td>7.523761</td><td>⋯</td><td>10.468971</td><td>5.479441</td><td> 8.614214</td><td>12.57315</td><td>7.562306</td><td>7.088642</td><td>3.586865</td><td> 9.456699</td><td>7.277034</td><td>15.67178</td></tr>\n",
       "\t<tr><td>TCGA-AJ-A23N-01A-11R-A22K-07</td><td>439</td><td>7.523942</td><td>4.161205</td><td>10.830059</td><td>11.411592</td><td>4.393914</td><td>4.839870</td><td>4.839870</td><td>3.586865</td><td>⋯</td><td>10.035907</td><td>5.741274</td><td>10.296439</td><td>13.10422</td><td>7.351969</td><td>7.391397</td><td>4.248627</td><td>13.159221</td><td>6.602252</td><td>14.81338</td></tr>\n",
       "\t<tr><td>TCGA-EY-A3QX-01A-11R-A22K-07</td><td>989</td><td>7.816775</td><td>4.066913</td><td> 9.444013</td><td>13.437827</td><td>8.365137</td><td>4.865358</td><td>4.781944</td><td>3.586865</td><td>⋯</td><td> 9.832998</td><td>5.048594</td><td> 7.964041</td><td>13.32012</td><td>5.317610</td><td>8.156598</td><td>3.927090</td><td> 9.277586</td><td>4.340787</td><td>16.14524</td></tr>\n",
       "\t<tr><td>TCGA-AJ-A3I9-01A-11R-A22K-07</td><td>519</td><td>7.321404</td><td>5.142235</td><td> 7.355847</td><td>11.544473</td><td>3.586865</td><td>7.249919</td><td>5.142235</td><td>3.586865</td><td>⋯</td><td> 9.577459</td><td>4.656818</td><td> 6.480327</td><td>11.28885</td><td>6.305301</td><td>9.278474</td><td>3.586865</td><td>10.459636</td><td>3.586865</td><td>11.84801</td></tr>\n",
       "\t<tr><td>TCGA-EY-A2ON-01A-21R-A18M-07</td><td>610</td><td>8.274716</td><td>3.586865</td><td>10.434548</td><td> 9.930904</td><td>4.951923</td><td>3.586865</td><td>5.574260</td><td>6.485578</td><td>⋯</td><td>10.581401</td><td>5.536235</td><td> 7.092757</td><td>12.67511</td><td>5.013691</td><td>6.466455</td><td>3.586865</td><td> 8.756968</td><td>5.072150</td><td>14.35194</td></tr>\n",
       "\t<tr><td>TCGA-AJ-A3EJ-01A-11R-A19W-07</td><td> 50</td><td>8.972874</td><td>5.187273</td><td>10.302243</td><td>12.990765</td><td>4.178013</td><td>4.933524</td><td>3.586865</td><td>3.586865</td><td>⋯</td><td>11.219672</td><td>6.172985</td><td> 9.314071</td><td>13.14225</td><td>6.490858</td><td>7.914754</td><td>3.586865</td><td>11.750540</td><td>6.869177</td><td>13.55150</td></tr>\n",
       "</tbody>\n",
       "</table>\n"
      ],
      "text/latex": [
       "A tibble: 6 × 1010\n",
       "\\begin{tabular}{lllllllllllllllllllll}\n",
       " sample\\_name & survival\\_time & PGF & TIMP4 & C1QTNF6 & TNC & PRL & OGN & C1QL3 & FGB & ⋯ & PIK3IP1 & C1QTNF2 & PCSK5 & ANXA1 & HGF & VWA2 & FGF3 & POSTN & NTF3 & S100A6\\\\\n",
       " <chr> & <dbl> & <dbl> & <dbl> & <dbl> & <dbl> & <dbl> & <dbl> & <dbl> & <dbl> & ⋯ & <dbl> & <dbl> & <dbl> & <dbl> & <dbl> & <dbl> & <dbl> & <dbl> & <dbl> & <dbl>\\\\\n",
       "\\hline\n",
       "\t TCGA-A5-A2K4-01A-11R-A18M-07 & 871 & 7.607230 & 4.169268 & 11.255370 & 12.235577 & 4.856636 & 4.405101 & 4.914654 & 7.523761 & ⋯ & 10.468971 & 5.479441 &  8.614214 & 12.57315 & 7.562306 & 7.088642 & 3.586865 &  9.456699 & 7.277034 & 15.67178\\\\\n",
       "\t TCGA-AJ-A23N-01A-11R-A22K-07 & 439 & 7.523942 & 4.161205 & 10.830059 & 11.411592 & 4.393914 & 4.839870 & 4.839870 & 3.586865 & ⋯ & 10.035907 & 5.741274 & 10.296439 & 13.10422 & 7.351969 & 7.391397 & 4.248627 & 13.159221 & 6.602252 & 14.81338\\\\\n",
       "\t TCGA-EY-A3QX-01A-11R-A22K-07 & 989 & 7.816775 & 4.066913 &  9.444013 & 13.437827 & 8.365137 & 4.865358 & 4.781944 & 3.586865 & ⋯ &  9.832998 & 5.048594 &  7.964041 & 13.32012 & 5.317610 & 8.156598 & 3.927090 &  9.277586 & 4.340787 & 16.14524\\\\\n",
       "\t TCGA-AJ-A3I9-01A-11R-A22K-07 & 519 & 7.321404 & 5.142235 &  7.355847 & 11.544473 & 3.586865 & 7.249919 & 5.142235 & 3.586865 & ⋯ &  9.577459 & 4.656818 &  6.480327 & 11.28885 & 6.305301 & 9.278474 & 3.586865 & 10.459636 & 3.586865 & 11.84801\\\\\n",
       "\t TCGA-EY-A2ON-01A-21R-A18M-07 & 610 & 8.274716 & 3.586865 & 10.434548 &  9.930904 & 4.951923 & 3.586865 & 5.574260 & 6.485578 & ⋯ & 10.581401 & 5.536235 &  7.092757 & 12.67511 & 5.013691 & 6.466455 & 3.586865 &  8.756968 & 5.072150 & 14.35194\\\\\n",
       "\t TCGA-AJ-A3EJ-01A-11R-A19W-07 &  50 & 8.972874 & 5.187273 & 10.302243 & 12.990765 & 4.178013 & 4.933524 & 3.586865 & 3.586865 & ⋯ & 11.219672 & 6.172985 &  9.314071 & 13.14225 & 6.490858 & 7.914754 & 3.586865 & 11.750540 & 6.869177 & 13.55150\\\\\n",
       "\\end{tabular}\n"
      ],
      "text/markdown": [
       "\n",
       "A tibble: 6 × 1010\n",
       "\n",
       "| sample_name &lt;chr&gt; | survival_time &lt;dbl&gt; | PGF &lt;dbl&gt; | TIMP4 &lt;dbl&gt; | C1QTNF6 &lt;dbl&gt; | TNC &lt;dbl&gt; | PRL &lt;dbl&gt; | OGN &lt;dbl&gt; | C1QL3 &lt;dbl&gt; | FGB &lt;dbl&gt; | ⋯ ⋯ | PIK3IP1 &lt;dbl&gt; | C1QTNF2 &lt;dbl&gt; | PCSK5 &lt;dbl&gt; | ANXA1 &lt;dbl&gt; | HGF &lt;dbl&gt; | VWA2 &lt;dbl&gt; | FGF3 &lt;dbl&gt; | POSTN &lt;dbl&gt; | NTF3 &lt;dbl&gt; | S100A6 &lt;dbl&gt; |\n",
       "|---|---|---|---|---|---|---|---|---|---|---|---|---|---|---|---|---|---|---|---|---|\n",
       "| TCGA-A5-A2K4-01A-11R-A18M-07 | 871 | 7.607230 | 4.169268 | 11.255370 | 12.235577 | 4.856636 | 4.405101 | 4.914654 | 7.523761 | ⋯ | 10.468971 | 5.479441 |  8.614214 | 12.57315 | 7.562306 | 7.088642 | 3.586865 |  9.456699 | 7.277034 | 15.67178 |\n",
       "| TCGA-AJ-A23N-01A-11R-A22K-07 | 439 | 7.523942 | 4.161205 | 10.830059 | 11.411592 | 4.393914 | 4.839870 | 4.839870 | 3.586865 | ⋯ | 10.035907 | 5.741274 | 10.296439 | 13.10422 | 7.351969 | 7.391397 | 4.248627 | 13.159221 | 6.602252 | 14.81338 |\n",
       "| TCGA-EY-A3QX-01A-11R-A22K-07 | 989 | 7.816775 | 4.066913 |  9.444013 | 13.437827 | 8.365137 | 4.865358 | 4.781944 | 3.586865 | ⋯ |  9.832998 | 5.048594 |  7.964041 | 13.32012 | 5.317610 | 8.156598 | 3.927090 |  9.277586 | 4.340787 | 16.14524 |\n",
       "| TCGA-AJ-A3I9-01A-11R-A22K-07 | 519 | 7.321404 | 5.142235 |  7.355847 | 11.544473 | 3.586865 | 7.249919 | 5.142235 | 3.586865 | ⋯ |  9.577459 | 4.656818 |  6.480327 | 11.28885 | 6.305301 | 9.278474 | 3.586865 | 10.459636 | 3.586865 | 11.84801 |\n",
       "| TCGA-EY-A2ON-01A-21R-A18M-07 | 610 | 8.274716 | 3.586865 | 10.434548 |  9.930904 | 4.951923 | 3.586865 | 5.574260 | 6.485578 | ⋯ | 10.581401 | 5.536235 |  7.092757 | 12.67511 | 5.013691 | 6.466455 | 3.586865 |  8.756968 | 5.072150 | 14.35194 |\n",
       "| TCGA-AJ-A3EJ-01A-11R-A19W-07 |  50 | 8.972874 | 5.187273 | 10.302243 | 12.990765 | 4.178013 | 4.933524 | 3.586865 | 3.586865 | ⋯ | 11.219672 | 6.172985 |  9.314071 | 13.14225 | 6.490858 | 7.914754 | 3.586865 | 11.750540 | 6.869177 | 13.55150 |\n",
       "\n"
      ],
      "text/plain": [
       "  sample_name                  survival_time PGF      TIMP4    C1QTNF6  \n",
       "1 TCGA-A5-A2K4-01A-11R-A18M-07 871           7.607230 4.169268 11.255370\n",
       "2 TCGA-AJ-A23N-01A-11R-A22K-07 439           7.523942 4.161205 10.830059\n",
       "3 TCGA-EY-A3QX-01A-11R-A22K-07 989           7.816775 4.066913  9.444013\n",
       "4 TCGA-AJ-A3I9-01A-11R-A22K-07 519           7.321404 5.142235  7.355847\n",
       "5 TCGA-EY-A2ON-01A-21R-A18M-07 610           8.274716 3.586865 10.434548\n",
       "6 TCGA-AJ-A3EJ-01A-11R-A19W-07  50           8.972874 5.187273 10.302243\n",
       "  TNC       PRL      OGN      C1QL3    FGB      ⋯ PIK3IP1   C1QTNF2  PCSK5    \n",
       "1 12.235577 4.856636 4.405101 4.914654 7.523761 ⋯ 10.468971 5.479441  8.614214\n",
       "2 11.411592 4.393914 4.839870 4.839870 3.586865 ⋯ 10.035907 5.741274 10.296439\n",
       "3 13.437827 8.365137 4.865358 4.781944 3.586865 ⋯  9.832998 5.048594  7.964041\n",
       "4 11.544473 3.586865 7.249919 5.142235 3.586865 ⋯  9.577459 4.656818  6.480327\n",
       "5  9.930904 4.951923 3.586865 5.574260 6.485578 ⋯ 10.581401 5.536235  7.092757\n",
       "6 12.990765 4.178013 4.933524 3.586865 3.586865 ⋯ 11.219672 6.172985  9.314071\n",
       "  ANXA1    HGF      VWA2     FGF3     POSTN     NTF3     S100A6  \n",
       "1 12.57315 7.562306 7.088642 3.586865  9.456699 7.277034 15.67178\n",
       "2 13.10422 7.351969 7.391397 4.248627 13.159221 6.602252 14.81338\n",
       "3 13.32012 5.317610 8.156598 3.927090  9.277586 4.340787 16.14524\n",
       "4 11.28885 6.305301 9.278474 3.586865 10.459636 3.586865 11.84801\n",
       "5 12.67511 5.013691 6.466455 3.586865  8.756968 5.072150 14.35194\n",
       "6 13.14225 6.490858 7.914754 3.586865 11.750540 6.869177 13.55150"
      ]
     },
     "metadata": {},
     "output_type": "display_data"
    }
   ],
   "source": [
    "nrow(norm_survival_counts_t_df)\n",
    "head(norm_survival_counts_t_df)"
   ]
  },
  {
   "cell_type": "code",
   "execution_count": 11,
   "metadata": {
    "collapsed": true,
    "jupyter": {
     "outputs_hidden": true
    }
   },
   "outputs": [
    {
     "name": "stderr",
     "output_type": "stream",
     "text": [
      "Warning message in cor(x, y):\n",
      "“the standard deviation is zero”Warning message in cor(x, y):\n",
      "“the standard deviation is zero”Warning message in cor(x, y):\n",
      "“the standard deviation is zero”Warning message in cor(x, y):\n",
      "“the standard deviation is zero”Warning message in cor(x, y):\n",
      "“the standard deviation is zero”Warning message in cor(x, y):\n",
      "“the standard deviation is zero”Warning message in cor(x, y):\n",
      "“the standard deviation is zero”Warning message in cor(x, y):\n",
      "“the standard deviation is zero”Warning message in cor(x, y):\n",
      "“the standard deviation is zero”Warning message in cor(x, y):\n",
      "“the standard deviation is zero”Warning message in cor(x, y):\n",
      "“the standard deviation is zero”Warning message in cor(x, y):\n",
      "“the standard deviation is zero”Warning message in cor(x, y):\n",
      "“the standard deviation is zero”Warning message in cor(x, y):\n",
      "“the standard deviation is zero”Warning message in cor(x, y):\n",
      "“the standard deviation is zero”"
     ]
    }
   ],
   "source": [
    "cor_test_df <- colwise_cor_test(\n",
    "    norm_survival_counts_t_df,\n",
    "    colnames(norm_survival_counts_t_df)[-c(1:2)],\n",
    "    \"survival_time\",\n",
    "    v = \"geneID\"\n",
    ")"
   ]
  },
  {
   "cell_type": "code",
   "execution_count": 12,
   "metadata": {},
   "outputs": [
    {
     "data": {
      "text/html": [
       "<style>\n",
       ".list-inline {list-style: none; margin:0; padding: 0}\n",
       ".list-inline>li {display: inline-block}\n",
       ".list-inline>li:not(:last-child)::after {content: \"\\00b7\"; padding: 0 .5ex}\n",
       "</style>\n",
       "<ol class=list-inline><li>1008</li><li>4</li></ol>\n"
      ],
      "text/latex": [
       "\\begin{enumerate*}\n",
       "\\item 1008\n",
       "\\item 4\n",
       "\\end{enumerate*}\n"
      ],
      "text/markdown": [
       "1. 1008\n",
       "2. 4\n",
       "\n",
       "\n"
      ],
      "text/plain": [
       "[1] 1008    4"
      ]
     },
     "metadata": {},
     "output_type": "display_data"
    },
    {
     "data": {
      "text/html": [
       "<table>\n",
       "<caption>A tibble: 6 × 4</caption>\n",
       "<thead>\n",
       "\t<tr><th scope=col>geneID</th><th scope=col>cor</th><th scope=col>pval</th><th scope=col>n</th></tr>\n",
       "\t<tr><th scope=col>&lt;chr&gt;</th><th scope=col>&lt;dbl&gt;</th><th scope=col>&lt;dbl&gt;</th><th scope=col>&lt;int&gt;</th></tr>\n",
       "</thead>\n",
       "<tbody>\n",
       "\t<tr><td>PGF    </td><td>-0.07598693</td><td>0.72416586</td><td>24</td></tr>\n",
       "\t<tr><td>TIMP4  </td><td> 0.05152558</td><td>0.81102341</td><td>24</td></tr>\n",
       "\t<tr><td>C1QTNF6</td><td> 0.12352882</td><td>0.56524457</td><td>24</td></tr>\n",
       "\t<tr><td>TNC    </td><td>-0.11081136</td><td>0.60622130</td><td>24</td></tr>\n",
       "\t<tr><td>PRL    </td><td> 0.34762180</td><td>0.09602153</td><td>24</td></tr>\n",
       "\t<tr><td>OGN    </td><td> 0.01062888</td><td>0.96068650</td><td>24</td></tr>\n",
       "</tbody>\n",
       "</table>\n"
      ],
      "text/latex": [
       "A tibble: 6 × 4\n",
       "\\begin{tabular}{llll}\n",
       " geneID & cor & pval & n\\\\\n",
       " <chr> & <dbl> & <dbl> & <int>\\\\\n",
       "\\hline\n",
       "\t PGF     & -0.07598693 & 0.72416586 & 24\\\\\n",
       "\t TIMP4   &  0.05152558 & 0.81102341 & 24\\\\\n",
       "\t C1QTNF6 &  0.12352882 & 0.56524457 & 24\\\\\n",
       "\t TNC     & -0.11081136 & 0.60622130 & 24\\\\\n",
       "\t PRL     &  0.34762180 & 0.09602153 & 24\\\\\n",
       "\t OGN     &  0.01062888 & 0.96068650 & 24\\\\\n",
       "\\end{tabular}\n"
      ],
      "text/markdown": [
       "\n",
       "A tibble: 6 × 4\n",
       "\n",
       "| geneID &lt;chr&gt; | cor &lt;dbl&gt; | pval &lt;dbl&gt; | n &lt;int&gt; |\n",
       "|---|---|---|---|\n",
       "| PGF     | -0.07598693 | 0.72416586 | 24 |\n",
       "| TIMP4   |  0.05152558 | 0.81102341 | 24 |\n",
       "| C1QTNF6 |  0.12352882 | 0.56524457 | 24 |\n",
       "| TNC     | -0.11081136 | 0.60622130 | 24 |\n",
       "| PRL     |  0.34762180 | 0.09602153 | 24 |\n",
       "| OGN     |  0.01062888 | 0.96068650 | 24 |\n",
       "\n"
      ],
      "text/plain": [
       "  geneID  cor         pval       n \n",
       "1 PGF     -0.07598693 0.72416586 24\n",
       "2 TIMP4    0.05152558 0.81102341 24\n",
       "3 C1QTNF6  0.12352882 0.56524457 24\n",
       "4 TNC     -0.11081136 0.60622130 24\n",
       "5 PRL      0.34762180 0.09602153 24\n",
       "6 OGN      0.01062888 0.96068650 24"
      ]
     },
     "metadata": {},
     "output_type": "display_data"
    }
   ],
   "source": [
    "dim(cor_test_df)\n",
    "head(cor_test_df)"
   ]
  },
  {
   "cell_type": "code",
   "execution_count": 13,
   "metadata": {},
   "outputs": [],
   "source": [
    "write_tsv(cor_test_df, paste0(dirs$analysis_dir, \"/\", unified_dsets[dset_idx], \"_cor_results.tsv\"))"
   ]
  },
  {
   "cell_type": "code",
   "execution_count": null,
   "metadata": {},
   "outputs": [],
   "source": []
  }
 ],
 "metadata": {
  "kernelspec": {
   "display_name": "R",
   "language": "R",
   "name": "ir"
  },
  "language_info": {
   "codemirror_mode": "r",
   "file_extension": ".r",
   "mimetype": "text/x-r-source",
   "name": "R",
   "pygments_lexer": "r",
   "version": "3.6.3"
  }
 },
 "nbformat": 4,
 "nbformat_minor": 4
}
