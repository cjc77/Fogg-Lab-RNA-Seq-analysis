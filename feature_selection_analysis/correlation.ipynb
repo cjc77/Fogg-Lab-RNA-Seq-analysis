{
 "cells": [
  {
   "cell_type": "code",
   "execution_count": 1,
   "metadata": {},
   "outputs": [
    {
     "name": "stderr",
     "output_type": "stream",
     "text": [
      "── Attaching packages ─────────────────────────────────────── tidyverse 1.3.0 ──\n",
      "✔ ggplot2 3.3.2     ✔ purrr   0.3.4\n",
      "✔ tibble  3.0.3     ✔ dplyr   1.0.0\n",
      "✔ tidyr   1.1.0     ✔ stringr 1.4.0\n",
      "✔ readr   1.3.1     ✔ forcats 0.5.0\n",
      "── Conflicts ────────────────────────────────────────── tidyverse_conflicts() ──\n",
      "✖ dplyr::filter() masks stats::filter()\n",
      "✖ dplyr::lag()    masks stats::lag()\n"
     ]
    }
   ],
   "source": [
    "library(tidyverse)\n",
    "\n",
    "# Custom package\n",
    "library(rutils)"
   ]
  },
  {
   "cell_type": "code",
   "execution_count": 2,
   "metadata": {},
   "outputs": [],
   "source": [
    "dirs <- rutils::get_dev_directories(dev_paths_file = \"../dev_paths.txt\")\n",
    "projects <- c(\"TCGA-CESC\", \"TCGA-UCS\", \"TCGA-UCEC\", \"TCGA-OV\")\n",
    "unified_dsets <- c(\"unified_cervical_data\", \"unified_uterine_data\", \"unified_uterine_endometrial_data\")\n",
    "matrisome_path <- paste0(dirs$data_dir, \"/matrisome/matrisome_hs_masterlist.tsv\")"
   ]
  },
  {
   "cell_type": "code",
   "execution_count": 3,
   "metadata": {},
   "outputs": [],
   "source": [
    "i <- 1"
   ]
  },
  {
   "cell_type": "code",
   "execution_count": 4,
   "metadata": {},
   "outputs": [
    {
     "name": "stderr",
     "output_type": "stream",
     "text": [
      "Parsed with column specification:\n",
      "cols(\n",
      "  Division = col_character(),\n",
      "  Category = col_character(),\n",
      "  `Gene Symbol` = col_character(),\n",
      "  `Gene Name` = col_character(),\n",
      "  Synonyms = col_character(),\n",
      "  HGNC_IDs = col_double(),\n",
      "  `HGNC_IDs Links` = col_double(),\n",
      "  UniProt_IDs = col_character(),\n",
      "  Refseq_IDs = col_character(),\n",
      "  Orthology = col_character(),\n",
      "  Notes = col_character()\n",
      ")\n"
     ]
    }
   ],
   "source": [
    "matrisome_df <- load_matrisome_df(matrisome_path)"
   ]
  },
  {
   "cell_type": "markdown",
   "metadata": {},
   "source": [
    "# Load and filter survival data"
   ]
  },
  {
   "cell_type": "code",
   "execution_count": 5,
   "metadata": {},
   "outputs": [],
   "source": [
    "event_code <- list(\"Alive\" = 0, \"Dead\" = 1)\n",
    "covariate_cols_no_figo <- c(\"age_at_diagnosis\", \"race\", \"ethnicity\")\n",
    "covariate_cols <- c(\"figo_stage\", covariate_cols_no_figo)\n",
    "dep_cols <- c(\"vital_status\", \"survival_time\")"
   ]
  },
  {
   "cell_type": "code",
   "execution_count": 6,
   "metadata": {},
   "outputs": [
    {
     "name": "stderr",
     "output_type": "stream",
     "text": [
      "Parsed with column specification:\n",
      "cols(\n",
      "  sample_name = col_character(),\n",
      "  vital_status = col_character(),\n",
      "  survival_time = col_double(),\n",
      "  figo_stage = col_character(),\n",
      "  days_to_last_follow_up = col_double(),\n",
      "  days_to_death = col_double(),\n",
      "  age_at_diagnosis = col_double(),\n",
      "  age_at_index = col_double(),\n",
      "  height = col_double(),\n",
      "  weight = col_double(),\n",
      "  bmi = col_double(),\n",
      "  race = col_character(),\n",
      "  ethnicity = col_character()\n",
      ")\n"
     ]
    }
   ],
   "source": [
    "survival_path <- paste0(dirs$data_dir, \"/\", unified_dsets[i], \"/survival_data.tsv\")\n",
    "survival_df <- load_survival_df(survival_path, event_code)"
   ]
  },
  {
   "cell_type": "code",
   "execution_count": 26,
   "metadata": {},
   "outputs": [
    {
     "data": {
      "text/html": [
       "66"
      ],
      "text/latex": [
       "66"
      ],
      "text/markdown": [
       "66"
      ],
      "text/plain": [
       "[1] 66"
      ]
     },
     "metadata": {},
     "output_type": "display_data"
    },
    {
     "data": {
      "text/html": [
       "<table>\n",
       "<caption>A tibble: 6 × 3</caption>\n",
       "<thead>\n",
       "\t<tr><th scope=col>sample_name</th><th scope=col>vital_status</th><th scope=col>survival_time</th></tr>\n",
       "\t<tr><th scope=col>&lt;chr&gt;</th><th scope=col>&lt;dbl&gt;</th><th scope=col>&lt;dbl&gt;</th></tr>\n",
       "</thead>\n",
       "<tbody>\n",
       "\t<tr><td>TCGA-C5-A1BF-01B-11R-A13Y-07</td><td>1</td><td> 570</td></tr>\n",
       "\t<tr><td>TCGA-C5-A8YT-01A-11R-A37O-07</td><td>1</td><td> 633</td></tr>\n",
       "\t<tr><td>TCGA-C5-A2LZ-01A-11R-A213-07</td><td>1</td><td>3046</td></tr>\n",
       "\t<tr><td>TCGA-VS-A9V1-01A-11R-A42T-07</td><td>1</td><td> 157</td></tr>\n",
       "\t<tr><td>TCGA-C5-A1BE-01B-11R-A13Y-07</td><td>1</td><td>2094</td></tr>\n",
       "\t<tr><td>TCGA-C5-A8XH-01A-11R-A37O-07</td><td>1</td><td>1394</td></tr>\n",
       "</tbody>\n",
       "</table>\n"
      ],
      "text/latex": [
       "A tibble: 6 × 3\n",
       "\\begin{tabular}{lll}\n",
       " sample\\_name & vital\\_status & survival\\_time\\\\\n",
       " <chr> & <dbl> & <dbl>\\\\\n",
       "\\hline\n",
       "\t TCGA-C5-A1BF-01B-11R-A13Y-07 & 1 &  570\\\\\n",
       "\t TCGA-C5-A8YT-01A-11R-A37O-07 & 1 &  633\\\\\n",
       "\t TCGA-C5-A2LZ-01A-11R-A213-07 & 1 & 3046\\\\\n",
       "\t TCGA-VS-A9V1-01A-11R-A42T-07 & 1 &  157\\\\\n",
       "\t TCGA-C5-A1BE-01B-11R-A13Y-07 & 1 & 2094\\\\\n",
       "\t TCGA-C5-A8XH-01A-11R-A37O-07 & 1 & 1394\\\\\n",
       "\\end{tabular}\n"
      ],
      "text/markdown": [
       "\n",
       "A tibble: 6 × 3\n",
       "\n",
       "| sample_name &lt;chr&gt; | vital_status &lt;dbl&gt; | survival_time &lt;dbl&gt; |\n",
       "|---|---|---|\n",
       "| TCGA-C5-A1BF-01B-11R-A13Y-07 | 1 |  570 |\n",
       "| TCGA-C5-A8YT-01A-11R-A37O-07 | 1 |  633 |\n",
       "| TCGA-C5-A2LZ-01A-11R-A213-07 | 1 | 3046 |\n",
       "| TCGA-VS-A9V1-01A-11R-A42T-07 | 1 |  157 |\n",
       "| TCGA-C5-A1BE-01B-11R-A13Y-07 | 1 | 2094 |\n",
       "| TCGA-C5-A8XH-01A-11R-A37O-07 | 1 | 1394 |\n",
       "\n"
      ],
      "text/plain": [
       "  sample_name                  vital_status survival_time\n",
       "1 TCGA-C5-A1BF-01B-11R-A13Y-07 1             570         \n",
       "2 TCGA-C5-A8YT-01A-11R-A37O-07 1             633         \n",
       "3 TCGA-C5-A2LZ-01A-11R-A213-07 1            3046         \n",
       "4 TCGA-VS-A9V1-01A-11R-A42T-07 1             157         \n",
       "5 TCGA-C5-A1BE-01B-11R-A13Y-07 1            2094         \n",
       "6 TCGA-C5-A8XH-01A-11R-A37O-07 1            1394         "
      ]
     },
     "metadata": {},
     "output_type": "display_data"
    }
   ],
   "source": [
    "filtered_survival_df <- survival_df %>%\n",
    "    dplyr::select(sample_name, vital_status, survival_time) %>%\n",
    "    dplyr::filter(vital_status == event_code$Dead, rowSums(is.na(.)) == 0)\n",
    "    \n",
    "nrow(filtered_survival_df)\n",
    "head(filtered_survival_df)"
   ]
  },
  {
   "cell_type": "markdown",
   "metadata": {},
   "source": [
    "# Load normalized matrisome count data"
   ]
  },
  {
   "cell_type": "code",
   "execution_count": 27,
   "metadata": {},
   "outputs": [
    {
     "name": "stderr",
     "output_type": "stream",
     "text": [
      "Parsed with column specification:\n",
      "cols(\n",
      "  .default = col_double(),\n",
      "  geneID = col_character()\n",
      ")\n",
      "See spec(...) for full column specifications.\n"
     ]
    }
   ],
   "source": [
    "norm_matrisome_counts_path <- paste0(dirs$data_dir, \"/\", unified_dsets[i], \"/norm_matrisome_counts.tsv\")\n",
    "norm_survival_counts_df <- read_tsv(norm_matrisome_counts_path) %>%\n",
    "    dplyr::select(c(\"geneID\", filtered_survival_df$sample_name))"
   ]
  },
  {
   "cell_type": "code",
   "execution_count": 28,
   "metadata": {},
   "outputs": [],
   "source": [
    "norm_survival_counts_t_df <- norm_survival_counts_df %>%\n",
    "    column_to_rownames(var = \"geneID\") %>%\n",
    "    t() %>%\n",
    "    as_tibble(rownames = \"sample_name\") %>%\n",
    "    inner_join(filtered_survival_df, by = \"sample_name\") %>%\n",
    "    dplyr::select(sample_name, survival_time, everything(), -vital_status)"
   ]
  },
  {
   "cell_type": "code",
   "execution_count": 29,
   "metadata": {},
   "outputs": [
    {
     "data": {
      "text/html": [
       "66"
      ],
      "text/latex": [
       "66"
      ],
      "text/markdown": [
       "66"
      ],
      "text/plain": [
       "[1] 66"
      ]
     },
     "metadata": {},
     "output_type": "display_data"
    },
    {
     "data": {
      "text/html": [
       "<table>\n",
       "<caption>A tibble: 6 × 1010</caption>\n",
       "<thead>\n",
       "\t<tr><th scope=col>sample_name</th><th scope=col>survival_time</th><th scope=col>PGF</th><th scope=col>TIMP4</th><th scope=col>C1QTNF6</th><th scope=col>TNC</th><th scope=col>PRL</th><th scope=col>OGN</th><th scope=col>C1QL3</th><th scope=col>FGB</th><th scope=col>⋯</th><th scope=col>PIK3IP1</th><th scope=col>C1QTNF2</th><th scope=col>PCSK5</th><th scope=col>ANXA1</th><th scope=col>HGF</th><th scope=col>VWA2</th><th scope=col>FGF3</th><th scope=col>POSTN</th><th scope=col>NTF3</th><th scope=col>S100A6</th></tr>\n",
       "\t<tr><th scope=col>&lt;chr&gt;</th><th scope=col>&lt;dbl&gt;</th><th scope=col>&lt;dbl&gt;</th><th scope=col>&lt;dbl&gt;</th><th scope=col>&lt;dbl&gt;</th><th scope=col>&lt;dbl&gt;</th><th scope=col>&lt;dbl&gt;</th><th scope=col>&lt;dbl&gt;</th><th scope=col>&lt;dbl&gt;</th><th scope=col>&lt;dbl&gt;</th><th scope=col>⋯</th><th scope=col>&lt;dbl&gt;</th><th scope=col>&lt;dbl&gt;</th><th scope=col>&lt;dbl&gt;</th><th scope=col>&lt;dbl&gt;</th><th scope=col>&lt;dbl&gt;</th><th scope=col>&lt;dbl&gt;</th><th scope=col>&lt;dbl&gt;</th><th scope=col>&lt;dbl&gt;</th><th scope=col>&lt;dbl&gt;</th><th scope=col>&lt;dbl&gt;</th></tr>\n",
       "</thead>\n",
       "<tbody>\n",
       "\t<tr><td>TCGA-C5-A1BF-01B-11R-A13Y-07</td><td> 570</td><td>10.800637</td><td>6.228003</td><td>11.669331</td><td>13.00293</td><td>5.063964</td><td> 4.869744</td><td>5.063964</td><td>8.834522</td><td>⋯</td><td> 9.013453</td><td>8.190325</td><td> 9.503647</td><td>14.07799</td><td> 6.569726</td><td> 7.315604</td><td>4.602649</td><td>12.062300</td><td>5.649441</td><td>16.55841</td></tr>\n",
       "\t<tr><td>TCGA-C5-A8YT-01A-11R-A37O-07</td><td> 633</td><td> 7.830611</td><td>5.733875</td><td>12.445548</td><td>13.76547</td><td>5.455125</td><td>13.049104</td><td>5.146455</td><td>5.074289</td><td>⋯</td><td> 9.453187</td><td>6.398956</td><td>12.288955</td><td>13.39633</td><td>10.228758</td><td> 8.542025</td><td>4.602649</td><td>11.765396</td><td>5.318924</td><td>13.55632</td></tr>\n",
       "\t<tr><td>TCGA-C5-A2LZ-01A-11R-A213-07</td><td>3046</td><td>10.135550</td><td>4.865349</td><td> 8.566221</td><td>10.84231</td><td>4.865349</td><td> 5.241781</td><td>6.669045</td><td>4.602649</td><td>⋯</td><td>11.492135</td><td>7.426145</td><td> 9.480199</td><td>15.92715</td><td> 6.010764</td><td> 7.405245</td><td>4.602649</td><td> 7.506731</td><td>5.423416</td><td>14.73802</td></tr>\n",
       "\t<tr><td>TCGA-VS-A9V1-01A-11R-A42T-07</td><td> 157</td><td> 6.893100</td><td>6.334201</td><td>10.871571</td><td>12.21604</td><td>4.602649</td><td> 5.153289</td><td>5.153289</td><td>6.749410</td><td>⋯</td><td> 9.319180</td><td>7.444380</td><td> 8.707254</td><td>12.23439</td><td> 6.011689</td><td>10.391491</td><td>4.602649</td><td> 7.767144</td><td>5.376786</td><td>16.71254</td></tr>\n",
       "\t<tr><td>TCGA-C5-A1BE-01B-11R-A13Y-07</td><td>2094</td><td>10.642039</td><td>5.348449</td><td> 8.945220</td><td>13.41922</td><td>4.602649</td><td> 5.867905</td><td>5.646251</td><td>4.602649</td><td>⋯</td><td>11.696884</td><td>6.384980</td><td> 9.774029</td><td>15.38194</td><td> 6.205261</td><td> 7.163053</td><td>4.957257</td><td>10.113788</td><td>5.213815</td><td>15.56497</td></tr>\n",
       "\t<tr><td>TCGA-C5-A8XH-01A-11R-A37O-07</td><td>1394</td><td> 9.633752</td><td>5.908552</td><td>11.672191</td><td>13.86377</td><td>4.602649</td><td> 5.339887</td><td>5.702581</td><td>5.389600</td><td>⋯</td><td>11.148165</td><td>7.526140</td><td> 8.561116</td><td>14.40442</td><td> 6.462928</td><td> 6.102570</td><td>4.602649</td><td> 9.104547</td><td>5.088257</td><td>15.19735</td></tr>\n",
       "</tbody>\n",
       "</table>\n"
      ],
      "text/latex": [
       "A tibble: 6 × 1010\n",
       "\\begin{tabular}{lllllllllllllllllllll}\n",
       " sample\\_name & survival\\_time & PGF & TIMP4 & C1QTNF6 & TNC & PRL & OGN & C1QL3 & FGB & ⋯ & PIK3IP1 & C1QTNF2 & PCSK5 & ANXA1 & HGF & VWA2 & FGF3 & POSTN & NTF3 & S100A6\\\\\n",
       " <chr> & <dbl> & <dbl> & <dbl> & <dbl> & <dbl> & <dbl> & <dbl> & <dbl> & <dbl> & ⋯ & <dbl> & <dbl> & <dbl> & <dbl> & <dbl> & <dbl> & <dbl> & <dbl> & <dbl> & <dbl>\\\\\n",
       "\\hline\n",
       "\t TCGA-C5-A1BF-01B-11R-A13Y-07 &  570 & 10.800637 & 6.228003 & 11.669331 & 13.00293 & 5.063964 &  4.869744 & 5.063964 & 8.834522 & ⋯ &  9.013453 & 8.190325 &  9.503647 & 14.07799 &  6.569726 &  7.315604 & 4.602649 & 12.062300 & 5.649441 & 16.55841\\\\\n",
       "\t TCGA-C5-A8YT-01A-11R-A37O-07 &  633 &  7.830611 & 5.733875 & 12.445548 & 13.76547 & 5.455125 & 13.049104 & 5.146455 & 5.074289 & ⋯ &  9.453187 & 6.398956 & 12.288955 & 13.39633 & 10.228758 &  8.542025 & 4.602649 & 11.765396 & 5.318924 & 13.55632\\\\\n",
       "\t TCGA-C5-A2LZ-01A-11R-A213-07 & 3046 & 10.135550 & 4.865349 &  8.566221 & 10.84231 & 4.865349 &  5.241781 & 6.669045 & 4.602649 & ⋯ & 11.492135 & 7.426145 &  9.480199 & 15.92715 &  6.010764 &  7.405245 & 4.602649 &  7.506731 & 5.423416 & 14.73802\\\\\n",
       "\t TCGA-VS-A9V1-01A-11R-A42T-07 &  157 &  6.893100 & 6.334201 & 10.871571 & 12.21604 & 4.602649 &  5.153289 & 5.153289 & 6.749410 & ⋯ &  9.319180 & 7.444380 &  8.707254 & 12.23439 &  6.011689 & 10.391491 & 4.602649 &  7.767144 & 5.376786 & 16.71254\\\\\n",
       "\t TCGA-C5-A1BE-01B-11R-A13Y-07 & 2094 & 10.642039 & 5.348449 &  8.945220 & 13.41922 & 4.602649 &  5.867905 & 5.646251 & 4.602649 & ⋯ & 11.696884 & 6.384980 &  9.774029 & 15.38194 &  6.205261 &  7.163053 & 4.957257 & 10.113788 & 5.213815 & 15.56497\\\\\n",
       "\t TCGA-C5-A8XH-01A-11R-A37O-07 & 1394 &  9.633752 & 5.908552 & 11.672191 & 13.86377 & 4.602649 &  5.339887 & 5.702581 & 5.389600 & ⋯ & 11.148165 & 7.526140 &  8.561116 & 14.40442 &  6.462928 &  6.102570 & 4.602649 &  9.104547 & 5.088257 & 15.19735\\\\\n",
       "\\end{tabular}\n"
      ],
      "text/markdown": [
       "\n",
       "A tibble: 6 × 1010\n",
       "\n",
       "| sample_name &lt;chr&gt; | survival_time &lt;dbl&gt; | PGF &lt;dbl&gt; | TIMP4 &lt;dbl&gt; | C1QTNF6 &lt;dbl&gt; | TNC &lt;dbl&gt; | PRL &lt;dbl&gt; | OGN &lt;dbl&gt; | C1QL3 &lt;dbl&gt; | FGB &lt;dbl&gt; | ⋯ ⋯ | PIK3IP1 &lt;dbl&gt; | C1QTNF2 &lt;dbl&gt; | PCSK5 &lt;dbl&gt; | ANXA1 &lt;dbl&gt; | HGF &lt;dbl&gt; | VWA2 &lt;dbl&gt; | FGF3 &lt;dbl&gt; | POSTN &lt;dbl&gt; | NTF3 &lt;dbl&gt; | S100A6 &lt;dbl&gt; |\n",
       "|---|---|---|---|---|---|---|---|---|---|---|---|---|---|---|---|---|---|---|---|---|\n",
       "| TCGA-C5-A1BF-01B-11R-A13Y-07 |  570 | 10.800637 | 6.228003 | 11.669331 | 13.00293 | 5.063964 |  4.869744 | 5.063964 | 8.834522 | ⋯ |  9.013453 | 8.190325 |  9.503647 | 14.07799 |  6.569726 |  7.315604 | 4.602649 | 12.062300 | 5.649441 | 16.55841 |\n",
       "| TCGA-C5-A8YT-01A-11R-A37O-07 |  633 |  7.830611 | 5.733875 | 12.445548 | 13.76547 | 5.455125 | 13.049104 | 5.146455 | 5.074289 | ⋯ |  9.453187 | 6.398956 | 12.288955 | 13.39633 | 10.228758 |  8.542025 | 4.602649 | 11.765396 | 5.318924 | 13.55632 |\n",
       "| TCGA-C5-A2LZ-01A-11R-A213-07 | 3046 | 10.135550 | 4.865349 |  8.566221 | 10.84231 | 4.865349 |  5.241781 | 6.669045 | 4.602649 | ⋯ | 11.492135 | 7.426145 |  9.480199 | 15.92715 |  6.010764 |  7.405245 | 4.602649 |  7.506731 | 5.423416 | 14.73802 |\n",
       "| TCGA-VS-A9V1-01A-11R-A42T-07 |  157 |  6.893100 | 6.334201 | 10.871571 | 12.21604 | 4.602649 |  5.153289 | 5.153289 | 6.749410 | ⋯ |  9.319180 | 7.444380 |  8.707254 | 12.23439 |  6.011689 | 10.391491 | 4.602649 |  7.767144 | 5.376786 | 16.71254 |\n",
       "| TCGA-C5-A1BE-01B-11R-A13Y-07 | 2094 | 10.642039 | 5.348449 |  8.945220 | 13.41922 | 4.602649 |  5.867905 | 5.646251 | 4.602649 | ⋯ | 11.696884 | 6.384980 |  9.774029 | 15.38194 |  6.205261 |  7.163053 | 4.957257 | 10.113788 | 5.213815 | 15.56497 |\n",
       "| TCGA-C5-A8XH-01A-11R-A37O-07 | 1394 |  9.633752 | 5.908552 | 11.672191 | 13.86377 | 4.602649 |  5.339887 | 5.702581 | 5.389600 | ⋯ | 11.148165 | 7.526140 |  8.561116 | 14.40442 |  6.462928 |  6.102570 | 4.602649 |  9.104547 | 5.088257 | 15.19735 |\n",
       "\n"
      ],
      "text/plain": [
       "  sample_name                  survival_time PGF       TIMP4    C1QTNF6  \n",
       "1 TCGA-C5-A1BF-01B-11R-A13Y-07  570          10.800637 6.228003 11.669331\n",
       "2 TCGA-C5-A8YT-01A-11R-A37O-07  633           7.830611 5.733875 12.445548\n",
       "3 TCGA-C5-A2LZ-01A-11R-A213-07 3046          10.135550 4.865349  8.566221\n",
       "4 TCGA-VS-A9V1-01A-11R-A42T-07  157           6.893100 6.334201 10.871571\n",
       "5 TCGA-C5-A1BE-01B-11R-A13Y-07 2094          10.642039 5.348449  8.945220\n",
       "6 TCGA-C5-A8XH-01A-11R-A37O-07 1394           9.633752 5.908552 11.672191\n",
       "  TNC      PRL      OGN       C1QL3    FGB      ⋯ PIK3IP1   C1QTNF2  PCSK5    \n",
       "1 13.00293 5.063964  4.869744 5.063964 8.834522 ⋯  9.013453 8.190325  9.503647\n",
       "2 13.76547 5.455125 13.049104 5.146455 5.074289 ⋯  9.453187 6.398956 12.288955\n",
       "3 10.84231 4.865349  5.241781 6.669045 4.602649 ⋯ 11.492135 7.426145  9.480199\n",
       "4 12.21604 4.602649  5.153289 5.153289 6.749410 ⋯  9.319180 7.444380  8.707254\n",
       "5 13.41922 4.602649  5.867905 5.646251 4.602649 ⋯ 11.696884 6.384980  9.774029\n",
       "6 13.86377 4.602649  5.339887 5.702581 5.389600 ⋯ 11.148165 7.526140  8.561116\n",
       "  ANXA1    HGF       VWA2      FGF3     POSTN     NTF3     S100A6  \n",
       "1 14.07799  6.569726  7.315604 4.602649 12.062300 5.649441 16.55841\n",
       "2 13.39633 10.228758  8.542025 4.602649 11.765396 5.318924 13.55632\n",
       "3 15.92715  6.010764  7.405245 4.602649  7.506731 5.423416 14.73802\n",
       "4 12.23439  6.011689 10.391491 4.602649  7.767144 5.376786 16.71254\n",
       "5 15.38194  6.205261  7.163053 4.957257 10.113788 5.213815 15.56497\n",
       "6 14.40442  6.462928  6.102570 4.602649  9.104547 5.088257 15.19735"
      ]
     },
     "metadata": {},
     "output_type": "display_data"
    }
   ],
   "source": [
    "nrow(norm_survival_counts_t_df)\n",
    "head(norm_survival_counts_t_df)"
   ]
  },
  {
   "cell_type": "code",
   "execution_count": 31,
   "metadata": {},
   "outputs": [
    {
     "name": "stderr",
     "output_type": "stream",
     "text": [
      "Warning message in cor(x, y):\n",
      "“the standard deviation is zero”Warning message in cor(x, y):\n",
      "“the standard deviation is zero”Warning message in cor(x, y):\n",
      "“the standard deviation is zero”Warning message in cor(x, y):\n",
      "“the standard deviation is zero”Warning message in cor(x, y):\n",
      "“the standard deviation is zero”Warning message in cor(x, y):\n",
      "“the standard deviation is zero”Warning message in cor(x, y):\n",
      "“the standard deviation is zero”Warning message in cor(x, y):\n",
      "“the standard deviation is zero”Warning message in cor(x, y):\n",
      "“the standard deviation is zero”"
     ]
    }
   ],
   "source": [
    "cor_test_df <- colwise_cor_test(\n",
    "    norm_survival_counts_t_df,\n",
    "    colnames(norm_survival_counts_t_df)[-c(1:2)],\n",
    "    \"survival_time\",\n",
    "    v = \"geneID\"\n",
    ")"
   ]
  },
  {
   "cell_type": "code",
   "execution_count": 32,
   "metadata": {},
   "outputs": [
    {
     "data": {
      "text/html": [
       "<table>\n",
       "<caption>A tibble: 1008 × 4</caption>\n",
       "<thead>\n",
       "\t<tr><th scope=col>geneID</th><th scope=col>cor</th><th scope=col>pval</th><th scope=col>n</th></tr>\n",
       "\t<tr><th scope=col>&lt;chr&gt;</th><th scope=col>&lt;dbl&gt;</th><th scope=col>&lt;dbl&gt;</th><th scope=col>&lt;int&gt;</th></tr>\n",
       "</thead>\n",
       "<tbody>\n",
       "\t<tr><td>PGF     </td><td>-0.032679924</td><td>0.794485949</td><td>66</td></tr>\n",
       "\t<tr><td>TIMP4   </td><td>-0.115274808</td><td>0.356694904</td><td>66</td></tr>\n",
       "\t<tr><td>C1QTNF6 </td><td>-0.321807438</td><td>0.008415805</td><td>66</td></tr>\n",
       "\t<tr><td>TNC     </td><td> 0.034756367</td><td>0.781741120</td><td>66</td></tr>\n",
       "\t<tr><td>PRL     </td><td>-0.102726232</td><td>0.411771043</td><td>66</td></tr>\n",
       "\t<tr><td>OGN     </td><td> 0.162835258</td><td>0.191436111</td><td>66</td></tr>\n",
       "\t<tr><td>C1QL3   </td><td>-0.014145547</td><td>0.910245522</td><td>66</td></tr>\n",
       "\t<tr><td>FGB     </td><td>-0.153981575</td><td>0.217043333</td><td>66</td></tr>\n",
       "\t<tr><td>NDNF    </td><td>-0.055158147</td><td>0.660023859</td><td>66</td></tr>\n",
       "\t<tr><td>CCL22   </td><td> 0.264248155</td><td>0.032031795</td><td>66</td></tr>\n",
       "\t<tr><td>ELSPBP1 </td><td> 0.079396097</td><td>0.526280276</td><td>66</td></tr>\n",
       "\t<tr><td>CYR61   </td><td>-0.043889838</td><td>0.726399706</td><td>66</td></tr>\n",
       "\t<tr><td>ECM1    </td><td> 0.088414250</td><td>0.480224747</td><td>66</td></tr>\n",
       "\t<tr><td>ANGPT2  </td><td>-0.304115106</td><td>0.013044813</td><td>66</td></tr>\n",
       "\t<tr><td>SERPINF2</td><td>-0.004017697</td><td>0.974458970</td><td>66</td></tr>\n",
       "\t<tr><td>SCUBE3  </td><td> 0.094445185</td><td>0.450666319</td><td>66</td></tr>\n",
       "\t<tr><td>CRELD2  </td><td>-0.189688478</td><td>0.127139610</td><td>66</td></tr>\n",
       "\t<tr><td>KITLG   </td><td> 0.060654241</td><td>0.628536134</td><td>66</td></tr>\n",
       "\t<tr><td>THSD4   </td><td> 0.005538535</td><td>0.964796091</td><td>66</td></tr>\n",
       "\t<tr><td>MEPE    </td><td>-0.088922803</td><td>0.477693105</td><td>66</td></tr>\n",
       "\t<tr><td>CELA2B  </td><td> 0.383559115</td><td>0.001477592</td><td>66</td></tr>\n",
       "\t<tr><td>CLEC4G  </td><td>-0.124617780</td><td>0.318789255</td><td>66</td></tr>\n",
       "\t<tr><td>ANGPTL7 </td><td> 0.076048024</td><td>0.543922239</td><td>66</td></tr>\n",
       "\t<tr><td>CSF3    </td><td>-0.130963317</td><td>0.294571814</td><td>66</td></tr>\n",
       "\t<tr><td>LOXL1   </td><td> 0.079853460</td><td>0.523892660</td><td>66</td></tr>\n",
       "\t<tr><td>CLEC18A </td><td>-0.141855423</td><td>0.255882709</td><td>66</td></tr>\n",
       "\t<tr><td>MUC3A   </td><td>-0.040687338</td><td>0.745662291</td><td>66</td></tr>\n",
       "\t<tr><td>PXDNL   </td><td>-0.147727186</td><td>0.236524517</td><td>66</td></tr>\n",
       "\t<tr><td>FGF9    </td><td>-0.099402875</td><td>0.427141467</td><td>66</td></tr>\n",
       "\t<tr><td>SFTPD   </td><td>-0.012084265</td><td>0.923281710</td><td>66</td></tr>\n",
       "\t<tr><td>⋮</td><td>⋮</td><td>⋮</td><td>⋮</td></tr>\n",
       "\t<tr><td>MUCL1  </td><td>-0.07749591</td><td>0.53625781</td><td>66</td></tr>\n",
       "\t<tr><td>TCHH   </td><td> 0.16431078</td><td>0.18738892</td><td>66</td></tr>\n",
       "\t<tr><td>ANXA3  </td><td>-0.21274766</td><td>0.08633774</td><td>66</td></tr>\n",
       "\t<tr><td>HMCN2  </td><td> 0.27757000</td><td>0.02404293</td><td>66</td></tr>\n",
       "\t<tr><td>MFAP1  </td><td> 0.11052324</td><td>0.37699313</td><td>66</td></tr>\n",
       "\t<tr><td>CCL21  </td><td> 0.25097981</td><td>0.04208563</td><td>66</td></tr>\n",
       "\t<tr><td>MSTN   </td><td> 0.21035535</td><td>0.09001678</td><td>66</td></tr>\n",
       "\t<tr><td>FGF19  </td><td>-0.04884359</td><td>0.69693724</td><td>66</td></tr>\n",
       "\t<tr><td>COL13A1</td><td>-0.17952692</td><td>0.14919953</td><td>66</td></tr>\n",
       "\t<tr><td>SDC3   </td><td> 0.16278815</td><td>0.19156635</td><td>66</td></tr>\n",
       "\t<tr><td>GDF3   </td><td> 0.17139163</td><td>0.16882348</td><td>66</td></tr>\n",
       "\t<tr><td>EPGN   </td><td>-0.22795263</td><td>0.06564650</td><td>66</td></tr>\n",
       "\t<tr><td>LAMB4  </td><td>-0.22753857</td><td>0.06615154</td><td>66</td></tr>\n",
       "\t<tr><td>FRAS1  </td><td> 0.02464999</td><td>0.84424932</td><td>66</td></tr>\n",
       "\t<tr><td>ANGPTL1</td><td> 0.03841922</td><td>0.75940003</td><td>66</td></tr>\n",
       "\t<tr><td>GREM1  </td><td> 0.25242363</td><td>0.04087866</td><td>66</td></tr>\n",
       "\t<tr><td>SLIT3  </td><td>-0.10329699</td><td>0.40916394</td><td>66</td></tr>\n",
       "\t<tr><td>VWA9   </td><td>-0.07591424</td><td>0.54463310</td><td>66</td></tr>\n",
       "\t<tr><td>CLEC18B</td><td>-0.04823284</td><td>0.70054668</td><td>66</td></tr>\n",
       "\t<tr><td>TSPEAR </td><td> 0.07992711</td><td>0.52350867</td><td>66</td></tr>\n",
       "\t<tr><td>PIK3IP1</td><td> 0.16514287</td><td>0.18513398</td><td>66</td></tr>\n",
       "\t<tr><td>C1QTNF2</td><td> 0.14044380</td><td>0.26069237</td><td>66</td></tr>\n",
       "\t<tr><td>PCSK5  </td><td>-0.05982233</td><td>0.63326183</td><td>66</td></tr>\n",
       "\t<tr><td>ANXA1  </td><td> 0.07363654</td><td>0.55680442</td><td>66</td></tr>\n",
       "\t<tr><td>HGF    </td><td> 0.08262214</td><td>0.50955575</td><td>66</td></tr>\n",
       "\t<tr><td>VWA2   </td><td>-0.24616135</td><td>0.04632855</td><td>66</td></tr>\n",
       "\t<tr><td>FGF3   </td><td>-0.11243505</td><td>0.36874390</td><td>66</td></tr>\n",
       "\t<tr><td>POSTN  </td><td>-0.17180121</td><td>0.16779240</td><td>66</td></tr>\n",
       "\t<tr><td>NTF3   </td><td> 0.16332691</td><td>0.19008067</td><td>66</td></tr>\n",
       "\t<tr><td>S100A6 </td><td>-0.27389955</td><td>0.02605442</td><td>66</td></tr>\n",
       "</tbody>\n",
       "</table>\n"
      ],
      "text/latex": [
       "A tibble: 1008 × 4\n",
       "\\begin{tabular}{llll}\n",
       " geneID & cor & pval & n\\\\\n",
       " <chr> & <dbl> & <dbl> & <int>\\\\\n",
       "\\hline\n",
       "\t PGF      & -0.032679924 & 0.794485949 & 66\\\\\n",
       "\t TIMP4    & -0.115274808 & 0.356694904 & 66\\\\\n",
       "\t C1QTNF6  & -0.321807438 & 0.008415805 & 66\\\\\n",
       "\t TNC      &  0.034756367 & 0.781741120 & 66\\\\\n",
       "\t PRL      & -0.102726232 & 0.411771043 & 66\\\\\n",
       "\t OGN      &  0.162835258 & 0.191436111 & 66\\\\\n",
       "\t C1QL3    & -0.014145547 & 0.910245522 & 66\\\\\n",
       "\t FGB      & -0.153981575 & 0.217043333 & 66\\\\\n",
       "\t NDNF     & -0.055158147 & 0.660023859 & 66\\\\\n",
       "\t CCL22    &  0.264248155 & 0.032031795 & 66\\\\\n",
       "\t ELSPBP1  &  0.079396097 & 0.526280276 & 66\\\\\n",
       "\t CYR61    & -0.043889838 & 0.726399706 & 66\\\\\n",
       "\t ECM1     &  0.088414250 & 0.480224747 & 66\\\\\n",
       "\t ANGPT2   & -0.304115106 & 0.013044813 & 66\\\\\n",
       "\t SERPINF2 & -0.004017697 & 0.974458970 & 66\\\\\n",
       "\t SCUBE3   &  0.094445185 & 0.450666319 & 66\\\\\n",
       "\t CRELD2   & -0.189688478 & 0.127139610 & 66\\\\\n",
       "\t KITLG    &  0.060654241 & 0.628536134 & 66\\\\\n",
       "\t THSD4    &  0.005538535 & 0.964796091 & 66\\\\\n",
       "\t MEPE     & -0.088922803 & 0.477693105 & 66\\\\\n",
       "\t CELA2B   &  0.383559115 & 0.001477592 & 66\\\\\n",
       "\t CLEC4G   & -0.124617780 & 0.318789255 & 66\\\\\n",
       "\t ANGPTL7  &  0.076048024 & 0.543922239 & 66\\\\\n",
       "\t CSF3     & -0.130963317 & 0.294571814 & 66\\\\\n",
       "\t LOXL1    &  0.079853460 & 0.523892660 & 66\\\\\n",
       "\t CLEC18A  & -0.141855423 & 0.255882709 & 66\\\\\n",
       "\t MUC3A    & -0.040687338 & 0.745662291 & 66\\\\\n",
       "\t PXDNL    & -0.147727186 & 0.236524517 & 66\\\\\n",
       "\t FGF9     & -0.099402875 & 0.427141467 & 66\\\\\n",
       "\t SFTPD    & -0.012084265 & 0.923281710 & 66\\\\\n",
       "\t ⋮ & ⋮ & ⋮ & ⋮\\\\\n",
       "\t MUCL1   & -0.07749591 & 0.53625781 & 66\\\\\n",
       "\t TCHH    &  0.16431078 & 0.18738892 & 66\\\\\n",
       "\t ANXA3   & -0.21274766 & 0.08633774 & 66\\\\\n",
       "\t HMCN2   &  0.27757000 & 0.02404293 & 66\\\\\n",
       "\t MFAP1   &  0.11052324 & 0.37699313 & 66\\\\\n",
       "\t CCL21   &  0.25097981 & 0.04208563 & 66\\\\\n",
       "\t MSTN    &  0.21035535 & 0.09001678 & 66\\\\\n",
       "\t FGF19   & -0.04884359 & 0.69693724 & 66\\\\\n",
       "\t COL13A1 & -0.17952692 & 0.14919953 & 66\\\\\n",
       "\t SDC3    &  0.16278815 & 0.19156635 & 66\\\\\n",
       "\t GDF3    &  0.17139163 & 0.16882348 & 66\\\\\n",
       "\t EPGN    & -0.22795263 & 0.06564650 & 66\\\\\n",
       "\t LAMB4   & -0.22753857 & 0.06615154 & 66\\\\\n",
       "\t FRAS1   &  0.02464999 & 0.84424932 & 66\\\\\n",
       "\t ANGPTL1 &  0.03841922 & 0.75940003 & 66\\\\\n",
       "\t GREM1   &  0.25242363 & 0.04087866 & 66\\\\\n",
       "\t SLIT3   & -0.10329699 & 0.40916394 & 66\\\\\n",
       "\t VWA9    & -0.07591424 & 0.54463310 & 66\\\\\n",
       "\t CLEC18B & -0.04823284 & 0.70054668 & 66\\\\\n",
       "\t TSPEAR  &  0.07992711 & 0.52350867 & 66\\\\\n",
       "\t PIK3IP1 &  0.16514287 & 0.18513398 & 66\\\\\n",
       "\t C1QTNF2 &  0.14044380 & 0.26069237 & 66\\\\\n",
       "\t PCSK5   & -0.05982233 & 0.63326183 & 66\\\\\n",
       "\t ANXA1   &  0.07363654 & 0.55680442 & 66\\\\\n",
       "\t HGF     &  0.08262214 & 0.50955575 & 66\\\\\n",
       "\t VWA2    & -0.24616135 & 0.04632855 & 66\\\\\n",
       "\t FGF3    & -0.11243505 & 0.36874390 & 66\\\\\n",
       "\t POSTN   & -0.17180121 & 0.16779240 & 66\\\\\n",
       "\t NTF3    &  0.16332691 & 0.19008067 & 66\\\\\n",
       "\t S100A6  & -0.27389955 & 0.02605442 & 66\\\\\n",
       "\\end{tabular}\n"
      ],
      "text/markdown": [
       "\n",
       "A tibble: 1008 × 4\n",
       "\n",
       "| geneID &lt;chr&gt; | cor &lt;dbl&gt; | pval &lt;dbl&gt; | n &lt;int&gt; |\n",
       "|---|---|---|---|\n",
       "| PGF      | -0.032679924 | 0.794485949 | 66 |\n",
       "| TIMP4    | -0.115274808 | 0.356694904 | 66 |\n",
       "| C1QTNF6  | -0.321807438 | 0.008415805 | 66 |\n",
       "| TNC      |  0.034756367 | 0.781741120 | 66 |\n",
       "| PRL      | -0.102726232 | 0.411771043 | 66 |\n",
       "| OGN      |  0.162835258 | 0.191436111 | 66 |\n",
       "| C1QL3    | -0.014145547 | 0.910245522 | 66 |\n",
       "| FGB      | -0.153981575 | 0.217043333 | 66 |\n",
       "| NDNF     | -0.055158147 | 0.660023859 | 66 |\n",
       "| CCL22    |  0.264248155 | 0.032031795 | 66 |\n",
       "| ELSPBP1  |  0.079396097 | 0.526280276 | 66 |\n",
       "| CYR61    | -0.043889838 | 0.726399706 | 66 |\n",
       "| ECM1     |  0.088414250 | 0.480224747 | 66 |\n",
       "| ANGPT2   | -0.304115106 | 0.013044813 | 66 |\n",
       "| SERPINF2 | -0.004017697 | 0.974458970 | 66 |\n",
       "| SCUBE3   |  0.094445185 | 0.450666319 | 66 |\n",
       "| CRELD2   | -0.189688478 | 0.127139610 | 66 |\n",
       "| KITLG    |  0.060654241 | 0.628536134 | 66 |\n",
       "| THSD4    |  0.005538535 | 0.964796091 | 66 |\n",
       "| MEPE     | -0.088922803 | 0.477693105 | 66 |\n",
       "| CELA2B   |  0.383559115 | 0.001477592 | 66 |\n",
       "| CLEC4G   | -0.124617780 | 0.318789255 | 66 |\n",
       "| ANGPTL7  |  0.076048024 | 0.543922239 | 66 |\n",
       "| CSF3     | -0.130963317 | 0.294571814 | 66 |\n",
       "| LOXL1    |  0.079853460 | 0.523892660 | 66 |\n",
       "| CLEC18A  | -0.141855423 | 0.255882709 | 66 |\n",
       "| MUC3A    | -0.040687338 | 0.745662291 | 66 |\n",
       "| PXDNL    | -0.147727186 | 0.236524517 | 66 |\n",
       "| FGF9     | -0.099402875 | 0.427141467 | 66 |\n",
       "| SFTPD    | -0.012084265 | 0.923281710 | 66 |\n",
       "| ⋮ | ⋮ | ⋮ | ⋮ |\n",
       "| MUCL1   | -0.07749591 | 0.53625781 | 66 |\n",
       "| TCHH    |  0.16431078 | 0.18738892 | 66 |\n",
       "| ANXA3   | -0.21274766 | 0.08633774 | 66 |\n",
       "| HMCN2   |  0.27757000 | 0.02404293 | 66 |\n",
       "| MFAP1   |  0.11052324 | 0.37699313 | 66 |\n",
       "| CCL21   |  0.25097981 | 0.04208563 | 66 |\n",
       "| MSTN    |  0.21035535 | 0.09001678 | 66 |\n",
       "| FGF19   | -0.04884359 | 0.69693724 | 66 |\n",
       "| COL13A1 | -0.17952692 | 0.14919953 | 66 |\n",
       "| SDC3    |  0.16278815 | 0.19156635 | 66 |\n",
       "| GDF3    |  0.17139163 | 0.16882348 | 66 |\n",
       "| EPGN    | -0.22795263 | 0.06564650 | 66 |\n",
       "| LAMB4   | -0.22753857 | 0.06615154 | 66 |\n",
       "| FRAS1   |  0.02464999 | 0.84424932 | 66 |\n",
       "| ANGPTL1 |  0.03841922 | 0.75940003 | 66 |\n",
       "| GREM1   |  0.25242363 | 0.04087866 | 66 |\n",
       "| SLIT3   | -0.10329699 | 0.40916394 | 66 |\n",
       "| VWA9    | -0.07591424 | 0.54463310 | 66 |\n",
       "| CLEC18B | -0.04823284 | 0.70054668 | 66 |\n",
       "| TSPEAR  |  0.07992711 | 0.52350867 | 66 |\n",
       "| PIK3IP1 |  0.16514287 | 0.18513398 | 66 |\n",
       "| C1QTNF2 |  0.14044380 | 0.26069237 | 66 |\n",
       "| PCSK5   | -0.05982233 | 0.63326183 | 66 |\n",
       "| ANXA1   |  0.07363654 | 0.55680442 | 66 |\n",
       "| HGF     |  0.08262214 | 0.50955575 | 66 |\n",
       "| VWA2    | -0.24616135 | 0.04632855 | 66 |\n",
       "| FGF3    | -0.11243505 | 0.36874390 | 66 |\n",
       "| POSTN   | -0.17180121 | 0.16779240 | 66 |\n",
       "| NTF3    |  0.16332691 | 0.19008067 | 66 |\n",
       "| S100A6  | -0.27389955 | 0.02605442 | 66 |\n",
       "\n"
      ],
      "text/plain": [
       "     geneID   cor          pval        n \n",
       "1    PGF      -0.032679924 0.794485949 66\n",
       "2    TIMP4    -0.115274808 0.356694904 66\n",
       "3    C1QTNF6  -0.321807438 0.008415805 66\n",
       "4    TNC       0.034756367 0.781741120 66\n",
       "5    PRL      -0.102726232 0.411771043 66\n",
       "6    OGN       0.162835258 0.191436111 66\n",
       "7    C1QL3    -0.014145547 0.910245522 66\n",
       "8    FGB      -0.153981575 0.217043333 66\n",
       "9    NDNF     -0.055158147 0.660023859 66\n",
       "10   CCL22     0.264248155 0.032031795 66\n",
       "11   ELSPBP1   0.079396097 0.526280276 66\n",
       "12   CYR61    -0.043889838 0.726399706 66\n",
       "13   ECM1      0.088414250 0.480224747 66\n",
       "14   ANGPT2   -0.304115106 0.013044813 66\n",
       "15   SERPINF2 -0.004017697 0.974458970 66\n",
       "16   SCUBE3    0.094445185 0.450666319 66\n",
       "17   CRELD2   -0.189688478 0.127139610 66\n",
       "18   KITLG     0.060654241 0.628536134 66\n",
       "19   THSD4     0.005538535 0.964796091 66\n",
       "20   MEPE     -0.088922803 0.477693105 66\n",
       "21   CELA2B    0.383559115 0.001477592 66\n",
       "22   CLEC4G   -0.124617780 0.318789255 66\n",
       "23   ANGPTL7   0.076048024 0.543922239 66\n",
       "24   CSF3     -0.130963317 0.294571814 66\n",
       "25   LOXL1     0.079853460 0.523892660 66\n",
       "26   CLEC18A  -0.141855423 0.255882709 66\n",
       "27   MUC3A    -0.040687338 0.745662291 66\n",
       "28   PXDNL    -0.147727186 0.236524517 66\n",
       "29   FGF9     -0.099402875 0.427141467 66\n",
       "30   SFTPD    -0.012084265 0.923281710 66\n",
       "⋮    ⋮        ⋮            ⋮           ⋮ \n",
       "979  MUCL1    -0.07749591  0.53625781  66\n",
       "980  TCHH      0.16431078  0.18738892  66\n",
       "981  ANXA3    -0.21274766  0.08633774  66\n",
       "982  HMCN2     0.27757000  0.02404293  66\n",
       "983  MFAP1     0.11052324  0.37699313  66\n",
       "984  CCL21     0.25097981  0.04208563  66\n",
       "985  MSTN      0.21035535  0.09001678  66\n",
       "986  FGF19    -0.04884359  0.69693724  66\n",
       "987  COL13A1  -0.17952692  0.14919953  66\n",
       "988  SDC3      0.16278815  0.19156635  66\n",
       "989  GDF3      0.17139163  0.16882348  66\n",
       "990  EPGN     -0.22795263  0.06564650  66\n",
       "991  LAMB4    -0.22753857  0.06615154  66\n",
       "992  FRAS1     0.02464999  0.84424932  66\n",
       "993  ANGPTL1   0.03841922  0.75940003  66\n",
       "994  GREM1     0.25242363  0.04087866  66\n",
       "995  SLIT3    -0.10329699  0.40916394  66\n",
       "996  VWA9     -0.07591424  0.54463310  66\n",
       "997  CLEC18B  -0.04823284  0.70054668  66\n",
       "998  TSPEAR    0.07992711  0.52350867  66\n",
       "999  PIK3IP1   0.16514287  0.18513398  66\n",
       "1000 C1QTNF2   0.14044380  0.26069237  66\n",
       "1001 PCSK5    -0.05982233  0.63326183  66\n",
       "1002 ANXA1     0.07363654  0.55680442  66\n",
       "1003 HGF       0.08262214  0.50955575  66\n",
       "1004 VWA2     -0.24616135  0.04632855  66\n",
       "1005 FGF3     -0.11243505  0.36874390  66\n",
       "1006 POSTN    -0.17180121  0.16779240  66\n",
       "1007 NTF3      0.16332691  0.19008067  66\n",
       "1008 S100A6   -0.27389955  0.02605442  66"
      ]
     },
     "metadata": {},
     "output_type": "display_data"
    }
   ],
   "source": [
    "cor_test_df"
   ]
  },
  {
   "cell_type": "code",
   "execution_count": 33,
   "metadata": {},
   "outputs": [],
   "source": [
    "write_tsv(cor_test_df, paste0(dirs$analysis_dir, \"/\", unified_dsets[i], \"_cor_results.tsv\"))"
   ]
  }
 ],
 "metadata": {
  "kernelspec": {
   "display_name": "R",
   "language": "R",
   "name": "ir"
  },
  "language_info": {
   "codemirror_mode": "r",
   "file_extension": ".r",
   "mimetype": "text/x-r-source",
   "name": "R",
   "pygments_lexer": "r",
   "version": "3.6.3"
  }
 },
 "nbformat": 4,
 "nbformat_minor": 4
}
