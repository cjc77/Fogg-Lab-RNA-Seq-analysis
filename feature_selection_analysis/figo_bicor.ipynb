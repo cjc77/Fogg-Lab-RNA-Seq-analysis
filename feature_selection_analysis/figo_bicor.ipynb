{
 "cells": [
  {
   "cell_type": "code",
   "execution_count": 1,
   "id": "subsequent-apple",
   "metadata": {},
   "outputs": [
    {
     "name": "stderr",
     "output_type": "stream",
     "text": [
      "-- \u001b[1mAttaching packages\u001b[22m --------------------------------------------------------------------------------------------------------- tidyverse 1.3.0 --\n",
      "\n",
      "\u001b[32mv\u001b[39m \u001b[34mggplot2\u001b[39m 3.3.3     \u001b[32mv\u001b[39m \u001b[34mpurrr  \u001b[39m 0.3.4\n",
      "\u001b[32mv\u001b[39m \u001b[34mtibble \u001b[39m 3.0.6     \u001b[32mv\u001b[39m \u001b[34mdplyr  \u001b[39m 1.0.4\n",
      "\u001b[32mv\u001b[39m \u001b[34mtidyr  \u001b[39m 1.1.2     \u001b[32mv\u001b[39m \u001b[34mstringr\u001b[39m 1.4.0\n",
      "\u001b[32mv\u001b[39m \u001b[34mreadr  \u001b[39m 1.4.0     \u001b[32mv\u001b[39m \u001b[34mforcats\u001b[39m 0.5.1\n",
      "\n",
      "-- \u001b[1mConflicts\u001b[22m ------------------------------------------------------------------------------------------------------------ tidyverse_conflicts() --\n",
      "\u001b[31mx\u001b[39m \u001b[34mdplyr\u001b[39m::\u001b[32mfilter()\u001b[39m masks \u001b[34mstats\u001b[39m::filter()\n",
      "\u001b[31mx\u001b[39m \u001b[34mdplyr\u001b[39m::\u001b[32mlag()\u001b[39m    masks \u001b[34mstats\u001b[39m::lag()\n",
      "\n"
     ]
    }
   ],
   "source": [
    "library(tidyverse)\n",
    "\n",
    "# Custom package\n",
    "library(rutils)"
   ]
  },
  {
   "cell_type": "code",
   "execution_count": 2,
   "id": "strategic-balance",
   "metadata": {},
   "outputs": [],
   "source": [
    "# Define constants\n",
    "dirs <- rutils::get_dev_directories(dev_paths_file = \"../dev_paths.txt\")\n",
    "projects <- c(\"TCGA-CESC\", \"TCGA-UCS\", \"TCGA-UCEC\", \"TCGA-OV\")\n",
    "unified_dsets <- c(\"unified_cervical_data\", \"unified_uterine_data\", \"unified_uterine_endometrial_data\")\n",
    "matrisome_path <- paste0(dirs$data_dir, \"/matrisome/matrisome_hs_masterlist.tsv\")\n"
   ]
  },
  {
   "cell_type": "code",
   "execution_count": 25,
   "id": "terminal-highland",
   "metadata": {},
   "outputs": [],
   "source": [
    "dset_idx <- 1"
   ]
  },
  {
   "cell_type": "code",
   "execution_count": 26,
   "id": "prompt-authorization",
   "metadata": {},
   "outputs": [
    {
     "name": "stderr",
     "output_type": "stream",
     "text": [
      "\n",
      "\u001b[36m--\u001b[39m \u001b[1m\u001b[1mColumn specification\u001b[1m\u001b[22m \u001b[36m--------------------------------------------------------------------------------------------------------------------------\u001b[39m\n",
      "cols(\n",
      "  .default = col_double(),\n",
      "  geneID = \u001b[31mcol_character()\u001b[39m,\n",
      "  module = \u001b[31mcol_character()\u001b[39m\n",
      ")\n",
      "\u001b[36mi\u001b[39m Use \u001b[30m\u001b[47m\u001b[30m\u001b[47m`spec()`\u001b[47m\u001b[30m\u001b[49m\u001b[39m for the full column specifications.\n",
      "\n",
      "\n"
     ]
    }
   ],
   "source": [
    "mm_gs_df <- read_tsv(paste0(dirs$analysis_dir, \"/network/\", unified_dsets[dset_idx], \"_gene_mm_gs.tsv\"))"
   ]
  },
  {
   "cell_type": "code",
   "execution_count": 29,
   "id": "brave-harvey",
   "metadata": {},
   "outputs": [
    {
     "data": {
      "text/html": [
       "<table class=\"dataframe\">\n",
       "<caption>A tibble: 27 × 7</caption>\n",
       "<thead>\n",
       "\t<tr><th scope=col>geneID</th><th scope=col>module</th><th scope=col>mm_cor</th><th scope=col>mm_pval</th><th scope=col>figo_min_pval</th><th scope=col>figo_min_qval</th><th scope=col>figo_max_cor</th></tr>\n",
       "\t<tr><th scope=col>&lt;chr&gt;</th><th scope=col>&lt;chr&gt;</th><th scope=col>&lt;dbl&gt;</th><th scope=col>&lt;dbl&gt;</th><th scope=col>&lt;dbl&gt;</th><th scope=col>&lt;dbl&gt;</th><th scope=col>&lt;dbl&gt;</th></tr>\n",
       "</thead>\n",
       "<tbody>\n",
       "\t<tr><td>PGF    </td><td>blue     </td><td> 0.38408356</td><td>2.176317e-10</td><td>1.030322e-04</td><td>0.03802438</td><td>0.2003536</td></tr>\n",
       "\t<tr><td>ANXA7  </td><td>turquoise</td><td> 0.31783465</td><td>2.153630e-07</td><td>1.950240e-03</td><td>0.08238172</td><td>0.1931056</td></tr>\n",
       "\t<tr><td>MUC13  </td><td>pink     </td><td>-0.54386900</td><td>4.949330e-21</td><td>2.187721e-03</td><td>0.08238172</td><td>0.1910121</td></tr>\n",
       "\t<tr><td>TGFB1  </td><td>green    </td><td> 0.52200039</td><td>3.168811e-19</td><td>2.990627e-03</td><td>0.08829605</td><td>0.1187306</td></tr>\n",
       "\t<tr><td>PLXNA1 </td><td>blue     </td><td> 0.42538234</td><td>1.251796e-12</td><td>3.699322e-04</td><td>0.06826235</td><td>0.1365086</td></tr>\n",
       "\t<tr><td>PLXNB3 </td><td>blue     </td><td> 0.55147036</td><td>1.084538e-21</td><td>1.937168e-03</td><td>0.08238172</td><td>0.1269872</td></tr>\n",
       "\t<tr><td>CCL8   </td><td>yellow   </td><td> 0.16242478</td><td>9.370061e-03</td><td>1.316032e-03</td><td>0.06938372</td><td>0.1218897</td></tr>\n",
       "\t<tr><td>WNT10B </td><td>yellow   </td><td> 0.24014613</td><td>1.075878e-04</td><td>9.383167e-04</td><td>0.06938372</td><td>0.1272726</td></tr>\n",
       "\t<tr><td>EGLN3  </td><td>brown    </td><td> 0.31701895</td><td>2.321935e-07</td><td>2.515252e-03</td><td>0.08438745</td><td>0.1032363</td></tr>\n",
       "\t<tr><td>TGM1   </td><td>blue     </td><td> 0.82551444</td><td>8.516190e-65</td><td>1.869596e-03</td><td>0.08238172</td><td>0.1938697</td></tr>\n",
       "\t<tr><td>CHAD   </td><td>pink     </td><td>-0.22214505</td><td>3.506137e-04</td><td>3.253762e-03</td><td>0.09237012</td><td>0.1836111</td></tr>\n",
       "\t<tr><td>CLCF1  </td><td>red      </td><td>-0.16709527</td><td>7.494939e-03</td><td>6.118920e-04</td><td>0.06938372</td><td>0.2131389</td></tr>\n",
       "\t<tr><td>CPN2   </td><td>purple   </td><td> 0.19172698</td><td>2.103818e-03</td><td>1.417209e-03</td><td>0.06973673</td><td>0.1235904</td></tr>\n",
       "\t<tr><td>CTGF   </td><td>turquoise</td><td>-0.27280763</td><td>9.911540e-06</td><td>2.119721e-03</td><td>0.08238172</td><td>0.1915895</td></tr>\n",
       "\t<tr><td>CRLF1  </td><td>turquoise</td><td> 0.12602711</td><td>4.436481e-02</td><td>9.789612e-04</td><td>0.06938372</td><td>0.1317788</td></tr>\n",
       "\t<tr><td>A2ML1  </td><td>blue     </td><td> 0.71968764</td><td>5.653922e-42</td><td>8.818350e-05</td><td>0.03802438</td><td>0.2000279</td></tr>\n",
       "\t<tr><td>FGF23  </td><td>black    </td><td>-0.25742599</td><td>3.169878e-05</td><td>2.705334e-05</td><td>0.02660023</td><td>0.2595794</td></tr>\n",
       "\t<tr><td>MUC16  </td><td>red      </td><td>-0.21999333</td><td>4.013281e-04</td><td>3.638374e-04</td><td>0.06826235</td><td>0.2215574</td></tr>\n",
       "\t<tr><td>BMP3   </td><td>blue     </td><td>-0.40963158</td><td>9.736860e-12</td><td>9.317878e-04</td><td>0.06938372</td><td>0.2060851</td></tr>\n",
       "\t<tr><td>ADAM20 </td><td>blue     </td><td> 0.15683276</td><td>1.215366e-02</td><td>1.188517e-03</td><td>0.06938372</td><td>0.1284316</td></tr>\n",
       "\t<tr><td>MUC5B  </td><td>pink     </td><td>-0.54779270</td><td>2.271535e-21</td><td>1.244312e-03</td><td>0.06938372</td><td>0.2010966</td></tr>\n",
       "\t<tr><td>CILP2  </td><td>turquoise</td><td>-0.07880189</td><td>2.097933e-01</td><td>5.951393e-04</td><td>0.06938372</td><td>0.1211540</td></tr>\n",
       "\t<tr><td>S100A13</td><td>red      </td><td>-0.17833839</td><td>4.279614e-03</td><td>2.332571e-03</td><td>0.08238172</td><td>0.1898348</td></tr>\n",
       "\t<tr><td>FGF11  </td><td>blue     </td><td> 0.65770766</td><td>5.606731e-33</td><td>8.021089e-04</td><td>0.06938372</td><td>0.1741732</td></tr>\n",
       "\t<tr><td>P4HA2  </td><td>turquoise</td><td> 0.17415888</td><td>5.290788e-03</td><td>2.565530e-04</td><td>0.08718575</td><td>0.2270430</td></tr>\n",
       "\t<tr><td>VWA3B  </td><td>blue     </td><td>-0.57842874</td><td>3.597640e-24</td><td>1.124158e-03</td><td>0.06938372</td><td>0.2028613</td></tr>\n",
       "\t<tr><td>CTF1   </td><td>brown    </td><td>-0.09535950</td><td>1.288253e-01</td><td>2.912924e-03</td><td>0.08829605</td><td>0.1857015</td></tr>\n",
       "</tbody>\n",
       "</table>\n"
      ],
      "text/latex": [
       "A tibble: 27 × 7\n",
       "\\begin{tabular}{lllllll}\n",
       " geneID & module & mm\\_cor & mm\\_pval & figo\\_min\\_pval & figo\\_min\\_qval & figo\\_max\\_cor\\\\\n",
       " <chr> & <chr> & <dbl> & <dbl> & <dbl> & <dbl> & <dbl>\\\\\n",
       "\\hline\n",
       "\t PGF     & blue      &  0.38408356 & 2.176317e-10 & 1.030322e-04 & 0.03802438 & 0.2003536\\\\\n",
       "\t ANXA7   & turquoise &  0.31783465 & 2.153630e-07 & 1.950240e-03 & 0.08238172 & 0.1931056\\\\\n",
       "\t MUC13   & pink      & -0.54386900 & 4.949330e-21 & 2.187721e-03 & 0.08238172 & 0.1910121\\\\\n",
       "\t TGFB1   & green     &  0.52200039 & 3.168811e-19 & 2.990627e-03 & 0.08829605 & 0.1187306\\\\\n",
       "\t PLXNA1  & blue      &  0.42538234 & 1.251796e-12 & 3.699322e-04 & 0.06826235 & 0.1365086\\\\\n",
       "\t PLXNB3  & blue      &  0.55147036 & 1.084538e-21 & 1.937168e-03 & 0.08238172 & 0.1269872\\\\\n",
       "\t CCL8    & yellow    &  0.16242478 & 9.370061e-03 & 1.316032e-03 & 0.06938372 & 0.1218897\\\\\n",
       "\t WNT10B  & yellow    &  0.24014613 & 1.075878e-04 & 9.383167e-04 & 0.06938372 & 0.1272726\\\\\n",
       "\t EGLN3   & brown     &  0.31701895 & 2.321935e-07 & 2.515252e-03 & 0.08438745 & 0.1032363\\\\\n",
       "\t TGM1    & blue      &  0.82551444 & 8.516190e-65 & 1.869596e-03 & 0.08238172 & 0.1938697\\\\\n",
       "\t CHAD    & pink      & -0.22214505 & 3.506137e-04 & 3.253762e-03 & 0.09237012 & 0.1836111\\\\\n",
       "\t CLCF1   & red       & -0.16709527 & 7.494939e-03 & 6.118920e-04 & 0.06938372 & 0.2131389\\\\\n",
       "\t CPN2    & purple    &  0.19172698 & 2.103818e-03 & 1.417209e-03 & 0.06973673 & 0.1235904\\\\\n",
       "\t CTGF    & turquoise & -0.27280763 & 9.911540e-06 & 2.119721e-03 & 0.08238172 & 0.1915895\\\\\n",
       "\t CRLF1   & turquoise &  0.12602711 & 4.436481e-02 & 9.789612e-04 & 0.06938372 & 0.1317788\\\\\n",
       "\t A2ML1   & blue      &  0.71968764 & 5.653922e-42 & 8.818350e-05 & 0.03802438 & 0.2000279\\\\\n",
       "\t FGF23   & black     & -0.25742599 & 3.169878e-05 & 2.705334e-05 & 0.02660023 & 0.2595794\\\\\n",
       "\t MUC16   & red       & -0.21999333 & 4.013281e-04 & 3.638374e-04 & 0.06826235 & 0.2215574\\\\\n",
       "\t BMP3    & blue      & -0.40963158 & 9.736860e-12 & 9.317878e-04 & 0.06938372 & 0.2060851\\\\\n",
       "\t ADAM20  & blue      &  0.15683276 & 1.215366e-02 & 1.188517e-03 & 0.06938372 & 0.1284316\\\\\n",
       "\t MUC5B   & pink      & -0.54779270 & 2.271535e-21 & 1.244312e-03 & 0.06938372 & 0.2010966\\\\\n",
       "\t CILP2   & turquoise & -0.07880189 & 2.097933e-01 & 5.951393e-04 & 0.06938372 & 0.1211540\\\\\n",
       "\t S100A13 & red       & -0.17833839 & 4.279614e-03 & 2.332571e-03 & 0.08238172 & 0.1898348\\\\\n",
       "\t FGF11   & blue      &  0.65770766 & 5.606731e-33 & 8.021089e-04 & 0.06938372 & 0.1741732\\\\\n",
       "\t P4HA2   & turquoise &  0.17415888 & 5.290788e-03 & 2.565530e-04 & 0.08718575 & 0.2270430\\\\\n",
       "\t VWA3B   & blue      & -0.57842874 & 3.597640e-24 & 1.124158e-03 & 0.06938372 & 0.2028613\\\\\n",
       "\t CTF1    & brown     & -0.09535950 & 1.288253e-01 & 2.912924e-03 & 0.08829605 & 0.1857015\\\\\n",
       "\\end{tabular}\n"
      ],
      "text/markdown": [
       "\n",
       "A tibble: 27 × 7\n",
       "\n",
       "| geneID &lt;chr&gt; | module &lt;chr&gt; | mm_cor &lt;dbl&gt; | mm_pval &lt;dbl&gt; | figo_min_pval &lt;dbl&gt; | figo_min_qval &lt;dbl&gt; | figo_max_cor &lt;dbl&gt; |\n",
       "|---|---|---|---|---|---|---|\n",
       "| PGF     | blue      |  0.38408356 | 2.176317e-10 | 1.030322e-04 | 0.03802438 | 0.2003536 |\n",
       "| ANXA7   | turquoise |  0.31783465 | 2.153630e-07 | 1.950240e-03 | 0.08238172 | 0.1931056 |\n",
       "| MUC13   | pink      | -0.54386900 | 4.949330e-21 | 2.187721e-03 | 0.08238172 | 0.1910121 |\n",
       "| TGFB1   | green     |  0.52200039 | 3.168811e-19 | 2.990627e-03 | 0.08829605 | 0.1187306 |\n",
       "| PLXNA1  | blue      |  0.42538234 | 1.251796e-12 | 3.699322e-04 | 0.06826235 | 0.1365086 |\n",
       "| PLXNB3  | blue      |  0.55147036 | 1.084538e-21 | 1.937168e-03 | 0.08238172 | 0.1269872 |\n",
       "| CCL8    | yellow    |  0.16242478 | 9.370061e-03 | 1.316032e-03 | 0.06938372 | 0.1218897 |\n",
       "| WNT10B  | yellow    |  0.24014613 | 1.075878e-04 | 9.383167e-04 | 0.06938372 | 0.1272726 |\n",
       "| EGLN3   | brown     |  0.31701895 | 2.321935e-07 | 2.515252e-03 | 0.08438745 | 0.1032363 |\n",
       "| TGM1    | blue      |  0.82551444 | 8.516190e-65 | 1.869596e-03 | 0.08238172 | 0.1938697 |\n",
       "| CHAD    | pink      | -0.22214505 | 3.506137e-04 | 3.253762e-03 | 0.09237012 | 0.1836111 |\n",
       "| CLCF1   | red       | -0.16709527 | 7.494939e-03 | 6.118920e-04 | 0.06938372 | 0.2131389 |\n",
       "| CPN2    | purple    |  0.19172698 | 2.103818e-03 | 1.417209e-03 | 0.06973673 | 0.1235904 |\n",
       "| CTGF    | turquoise | -0.27280763 | 9.911540e-06 | 2.119721e-03 | 0.08238172 | 0.1915895 |\n",
       "| CRLF1   | turquoise |  0.12602711 | 4.436481e-02 | 9.789612e-04 | 0.06938372 | 0.1317788 |\n",
       "| A2ML1   | blue      |  0.71968764 | 5.653922e-42 | 8.818350e-05 | 0.03802438 | 0.2000279 |\n",
       "| FGF23   | black     | -0.25742599 | 3.169878e-05 | 2.705334e-05 | 0.02660023 | 0.2595794 |\n",
       "| MUC16   | red       | -0.21999333 | 4.013281e-04 | 3.638374e-04 | 0.06826235 | 0.2215574 |\n",
       "| BMP3    | blue      | -0.40963158 | 9.736860e-12 | 9.317878e-04 | 0.06938372 | 0.2060851 |\n",
       "| ADAM20  | blue      |  0.15683276 | 1.215366e-02 | 1.188517e-03 | 0.06938372 | 0.1284316 |\n",
       "| MUC5B   | pink      | -0.54779270 | 2.271535e-21 | 1.244312e-03 | 0.06938372 | 0.2010966 |\n",
       "| CILP2   | turquoise | -0.07880189 | 2.097933e-01 | 5.951393e-04 | 0.06938372 | 0.1211540 |\n",
       "| S100A13 | red       | -0.17833839 | 4.279614e-03 | 2.332571e-03 | 0.08238172 | 0.1898348 |\n",
       "| FGF11   | blue      |  0.65770766 | 5.606731e-33 | 8.021089e-04 | 0.06938372 | 0.1741732 |\n",
       "| P4HA2   | turquoise |  0.17415888 | 5.290788e-03 | 2.565530e-04 | 0.08718575 | 0.2270430 |\n",
       "| VWA3B   | blue      | -0.57842874 | 3.597640e-24 | 1.124158e-03 | 0.06938372 | 0.2028613 |\n",
       "| CTF1    | brown     | -0.09535950 | 1.288253e-01 | 2.912924e-03 | 0.08829605 | 0.1857015 |\n",
       "\n"
      ],
      "text/plain": [
       "   geneID  module    mm_cor      mm_pval      figo_min_pval figo_min_qval\n",
       "1  PGF     blue       0.38408356 2.176317e-10 1.030322e-04  0.03802438   \n",
       "2  ANXA7   turquoise  0.31783465 2.153630e-07 1.950240e-03  0.08238172   \n",
       "3  MUC13   pink      -0.54386900 4.949330e-21 2.187721e-03  0.08238172   \n",
       "4  TGFB1   green      0.52200039 3.168811e-19 2.990627e-03  0.08829605   \n",
       "5  PLXNA1  blue       0.42538234 1.251796e-12 3.699322e-04  0.06826235   \n",
       "6  PLXNB3  blue       0.55147036 1.084538e-21 1.937168e-03  0.08238172   \n",
       "7  CCL8    yellow     0.16242478 9.370061e-03 1.316032e-03  0.06938372   \n",
       "8  WNT10B  yellow     0.24014613 1.075878e-04 9.383167e-04  0.06938372   \n",
       "9  EGLN3   brown      0.31701895 2.321935e-07 2.515252e-03  0.08438745   \n",
       "10 TGM1    blue       0.82551444 8.516190e-65 1.869596e-03  0.08238172   \n",
       "11 CHAD    pink      -0.22214505 3.506137e-04 3.253762e-03  0.09237012   \n",
       "12 CLCF1   red       -0.16709527 7.494939e-03 6.118920e-04  0.06938372   \n",
       "13 CPN2    purple     0.19172698 2.103818e-03 1.417209e-03  0.06973673   \n",
       "14 CTGF    turquoise -0.27280763 9.911540e-06 2.119721e-03  0.08238172   \n",
       "15 CRLF1   turquoise  0.12602711 4.436481e-02 9.789612e-04  0.06938372   \n",
       "16 A2ML1   blue       0.71968764 5.653922e-42 8.818350e-05  0.03802438   \n",
       "17 FGF23   black     -0.25742599 3.169878e-05 2.705334e-05  0.02660023   \n",
       "18 MUC16   red       -0.21999333 4.013281e-04 3.638374e-04  0.06826235   \n",
       "19 BMP3    blue      -0.40963158 9.736860e-12 9.317878e-04  0.06938372   \n",
       "20 ADAM20  blue       0.15683276 1.215366e-02 1.188517e-03  0.06938372   \n",
       "21 MUC5B   pink      -0.54779270 2.271535e-21 1.244312e-03  0.06938372   \n",
       "22 CILP2   turquoise -0.07880189 2.097933e-01 5.951393e-04  0.06938372   \n",
       "23 S100A13 red       -0.17833839 4.279614e-03 2.332571e-03  0.08238172   \n",
       "24 FGF11   blue       0.65770766 5.606731e-33 8.021089e-04  0.06938372   \n",
       "25 P4HA2   turquoise  0.17415888 5.290788e-03 2.565530e-04  0.08718575   \n",
       "26 VWA3B   blue      -0.57842874 3.597640e-24 1.124158e-03  0.06938372   \n",
       "27 CTF1    brown     -0.09535950 1.288253e-01 2.912924e-03  0.08829605   \n",
       "   figo_max_cor\n",
       "1  0.2003536   \n",
       "2  0.1931056   \n",
       "3  0.1910121   \n",
       "4  0.1187306   \n",
       "5  0.1365086   \n",
       "6  0.1269872   \n",
       "7  0.1218897   \n",
       "8  0.1272726   \n",
       "9  0.1032363   \n",
       "10 0.1938697   \n",
       "11 0.1836111   \n",
       "12 0.2131389   \n",
       "13 0.1235904   \n",
       "14 0.1915895   \n",
       "15 0.1317788   \n",
       "16 0.2000279   \n",
       "17 0.2595794   \n",
       "18 0.2215574   \n",
       "19 0.2060851   \n",
       "20 0.1284316   \n",
       "21 0.2010966   \n",
       "22 0.1211540   \n",
       "23 0.1898348   \n",
       "24 0.1741732   \n",
       "25 0.2270430   \n",
       "26 0.2028613   \n",
       "27 0.1857015   "
      ]
     },
     "metadata": {},
     "output_type": "display_data"
    }
   ],
   "source": [
    "mm_gs_df %>%\n",
    "    condense_figo(include_pvals = TRUE) %>%\n",
    "    dplyr::select(one_of(\"geneID\", \"module\", \"mm_cor\", \"mm_pval\"), contains(\"figo\")) %>%\n",
    "    dplyr::filter(figo_min_qval < 0.1)"
   ]
  },
  {
   "cell_type": "code",
   "execution_count": null,
   "id": "dietary-shell",
   "metadata": {},
   "outputs": [],
   "source": []
  }
 ],
 "metadata": {
  "kernelspec": {
   "display_name": "R",
   "language": "R",
   "name": "ir"
  },
  "language_info": {
   "codemirror_mode": "r",
   "file_extension": ".r",
   "mimetype": "text/x-r-source",
   "name": "R",
   "pygments_lexer": "r",
   "version": "4.0.3"
  }
 },
 "nbformat": 4,
 "nbformat_minor": 5
}
