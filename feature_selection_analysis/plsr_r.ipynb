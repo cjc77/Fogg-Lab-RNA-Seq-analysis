{
 "cells": [
  {
   "cell_type": "code",
   "execution_count": 1,
   "metadata": {
    "collapsed": true,
    "jupyter": {
     "outputs_hidden": true
    }
   },
   "outputs": [
    {
     "name": "stderr",
     "output_type": "stream",
     "text": [
      "── Attaching packages ─────────────────────────────────────── tidyverse 1.3.0 ──\n",
      "✔ ggplot2 3.3.2     ✔ purrr   0.3.4\n",
      "✔ tibble  3.0.3     ✔ dplyr   1.0.0\n",
      "✔ tidyr   1.1.0     ✔ stringr 1.4.0\n",
      "✔ readr   1.3.1     ✔ forcats 0.5.0\n",
      "── Conflicts ────────────────────────────────────────── tidyverse_conflicts() ──\n",
      "✖ dplyr::filter() masks stats::filter()\n",
      "✖ dplyr::lag()    masks stats::lag()\n",
      "Loading required package: MASS\n",
      "\n",
      "Attaching package: ‘MASS’\n",
      "\n",
      "The following object is masked from ‘package:dplyr’:\n",
      "\n",
      "    select\n",
      "\n",
      "Loading required package: lattice\n",
      "Warning message in rgl.init(initValue, onlyNULL):\n",
      "“RGL: unable to open X11 display”Warning message:\n",
      "“'rgl.init' failed, running with 'rgl.useNULL = TRUE'.”\n",
      "Loaded mixOmics 6.3.2\n",
      "\n",
      "Thank you for using mixOmics!\n",
      "\n",
      "How to apply our methods: http://www.mixOmics.org for some examples.\n",
      "Questions or comments: email us at mixomics[at]math.univ-toulouse.fr  \n",
      "Any bugs? https://bitbucket.org/klecao/package-mixomics/issues\n",
      "Cite us:  citation('mixOmics')\n",
      "\n",
      "Attaching package: ‘mixOmics’\n",
      "\n",
      "The following object is masked from ‘package:purrr’:\n",
      "\n",
      "    map\n",
      "\n"
     ]
    }
   ],
   "source": [
    "library(tidyverse)\n",
    "library(mixOmics)\n",
    "\n",
    "# Custom package\n",
    "library(rutils)"
   ]
  },
  {
   "cell_type": "code",
   "execution_count": 2,
   "metadata": {},
   "outputs": [],
   "source": [
    "dirs <- rutils::get_dev_directories(dev_paths_file = \"../dev_paths.txt\")\n",
    "projects <- c(\"TCGA-CESC\", \"TCGA-UCS\", \"TCGA-UCEC\", \"TCGA-OV\")\n",
    "unified_dsets <- c(\"unified_cervical_data\", \"unified_uterine_data\", \"unified_uterine_endometrial_data\")\n",
    "matrisome_path <- paste0(dirs$data_dir, \"/matrisome/matrisome_hs_masterlist.tsv\")"
   ]
  },
  {
   "cell_type": "code",
   "execution_count": 3,
   "metadata": {},
   "outputs": [],
   "source": [
    "i <- 1"
   ]
  },
  {
   "cell_type": "markdown",
   "metadata": {},
   "source": [
    "# Load and filter survival data"
   ]
  },
  {
   "cell_type": "code",
   "execution_count": 4,
   "metadata": {},
   "outputs": [],
   "source": [
    "event_code <- list(\"Alive\" = 0, \"Dead\" = 1)\n",
    "covariate_cols <- c(\"figo_stage\", \"age_at_diagnosis\", \"race\", \"ethnicity\")\n",
    "dep_cols <- c(\"vital_status\", \"survival_time\")\n",
    "figo_map_df <- tibble(\n",
    "    roman_num = c(\"I\", \"II\", \"III\", \"IV\"),\n",
    "    figo_code = c('1', '2', '3', '4')\n",
    ")"
   ]
  },
  {
   "cell_type": "code",
   "execution_count": 5,
   "metadata": {},
   "outputs": [
    {
     "name": "stderr",
     "output_type": "stream",
     "text": [
      "Parsed with column specification:\n",
      "cols(\n",
      "  sample_name = col_character(),\n",
      "  vital_status = col_character(),\n",
      "  survival_time = col_double(),\n",
      "  figo_stage = col_character(),\n",
      "  days_to_last_follow_up = col_double(),\n",
      "  days_to_death = col_double(),\n",
      "  age_at_diagnosis = col_double(),\n",
      "  age_at_index = col_double(),\n",
      "  height = col_double(),\n",
      "  weight = col_double(),\n",
      "  bmi = col_double(),\n",
      "  race = col_character(),\n",
      "  ethnicity = col_character()\n",
      ")\n"
     ]
    }
   ],
   "source": [
    "# survival_df <- read_tsv(paste0(dirs$data_dir, \"/\", unified_dsets[i], \"/survival_data.tsv\"))\n",
    "survival_path <- paste0(dirs$data_dir, \"/\", unified_dsets[i], \"/survival_data.tsv\")\n",
    "survival_df <- load_survival_df(survival_path, event_code)\n",
    "filtered_survival_df <- survival_df %>%\n",
    "    dplyr::select(one_of(c(\"sample_name\", dep_cols, covariate_cols))) %>%\n",
    "    dplyr::filter(rowSums(is.na(.)) == 0, vital_status == 1) %>%\n",
    "    dplyr::mutate(\n",
    "        figo_rn = str_extract(figo_stage, \"IV|III|II|I\")\n",
    "    ) %>%\n",
    "    dplyr::inner_join(figo_map_df, by = c(\"figo_rn\" = \"roman_num\")) %>%\n",
    "    dplyr::select(-c(figo_rn, figo_stage, vital_status)) %>%\n",
    "    dplyr::rename(figo_stage = figo_code)"
   ]
  },
  {
   "cell_type": "markdown",
   "metadata": {},
   "source": [
    "# Load normalized matrisome count data"
   ]
  },
  {
   "cell_type": "code",
   "execution_count": 6,
   "metadata": {},
   "outputs": [
    {
     "name": "stderr",
     "output_type": "stream",
     "text": [
      "Parsed with column specification:\n",
      "cols(\n",
      "  .default = col_double(),\n",
      "  geneID = col_character()\n",
      ")\n",
      "See spec(...) for full column specifications.\n"
     ]
    }
   ],
   "source": [
    "norm_matrisome_counts_path <- paste0(dirs$data_dir, \"/\", unified_dsets[i], \"/norm_matrisome_counts.tsv\")\n",
    "norm_survival_counts_df <- read_tsv(norm_matrisome_counts_path) %>%\n",
    "    dplyr::select(c(\"geneID\", filtered_survival_df$sample_name))\n",
    "norm_survival_counts_t_df <- norm_survival_counts_df %>%\n",
    "    column_to_rownames(var = \"geneID\") %>%\n",
    "    t() %>%\n",
    "    as_tibble(rownames = \"sample_name\")"
   ]
  },
  {
   "cell_type": "markdown",
   "metadata": {},
   "source": [
    "# Join survival and count data"
   ]
  },
  {
   "cell_type": "code",
   "execution_count": 7,
   "metadata": {},
   "outputs": [
    {
     "data": {
      "text/html": [
       "66"
      ],
      "text/latex": [
       "66"
      ],
      "text/markdown": [
       "66"
      ],
      "text/plain": [
       "[1] 66"
      ]
     },
     "metadata": {},
     "output_type": "display_data"
    },
    {
     "data": {
      "text/html": [
       "<table>\n",
       "<caption>A tibble: 6 × 1014</caption>\n",
       "<thead>\n",
       "\t<tr><th scope=col>sample_name</th><th scope=col>survival_time</th><th scope=col>age_at_diagnosis</th><th scope=col>race</th><th scope=col>ethnicity</th><th scope=col>figo_stage</th><th scope=col>PGF</th><th scope=col>TIMP4</th><th scope=col>C1QTNF6</th><th scope=col>TNC</th><th scope=col>⋯</th><th scope=col>PIK3IP1</th><th scope=col>C1QTNF2</th><th scope=col>PCSK5</th><th scope=col>ANXA1</th><th scope=col>HGF</th><th scope=col>VWA2</th><th scope=col>FGF3</th><th scope=col>POSTN</th><th scope=col>NTF3</th><th scope=col>S100A6</th></tr>\n",
       "\t<tr><th scope=col>&lt;chr&gt;</th><th scope=col>&lt;dbl&gt;</th><th scope=col>&lt;dbl&gt;</th><th scope=col>&lt;chr&gt;</th><th scope=col>&lt;chr&gt;</th><th scope=col>&lt;chr&gt;</th><th scope=col>&lt;dbl&gt;</th><th scope=col>&lt;dbl&gt;</th><th scope=col>&lt;dbl&gt;</th><th scope=col>&lt;dbl&gt;</th><th scope=col>⋯</th><th scope=col>&lt;dbl&gt;</th><th scope=col>&lt;dbl&gt;</th><th scope=col>&lt;dbl&gt;</th><th scope=col>&lt;dbl&gt;</th><th scope=col>&lt;dbl&gt;</th><th scope=col>&lt;dbl&gt;</th><th scope=col>&lt;dbl&gt;</th><th scope=col>&lt;dbl&gt;</th><th scope=col>&lt;dbl&gt;</th><th scope=col>&lt;dbl&gt;</th></tr>\n",
       "</thead>\n",
       "<tbody>\n",
       "\t<tr><td>TCGA-C5-A1BF-01B-11R-A13Y-07</td><td> 570</td><td>16975</td><td>white</td><td>not reported          </td><td>1</td><td>10.800637</td><td>6.228003</td><td>11.669331</td><td>13.00293</td><td>⋯</td><td> 9.013453</td><td>8.190325</td><td> 9.503647</td><td>14.07799</td><td> 6.569726</td><td> 7.315604</td><td>4.602649</td><td>12.062300</td><td>5.649441</td><td>16.55841</td></tr>\n",
       "\t<tr><td>TCGA-C5-A8YT-01A-11R-A37O-07</td><td> 633</td><td>13253</td><td>white</td><td>not hispanic or latino</td><td>1</td><td> 7.830611</td><td>5.733875</td><td>12.445548</td><td>13.76547</td><td>⋯</td><td> 9.453187</td><td>6.398956</td><td>12.288955</td><td>13.39633</td><td>10.228758</td><td> 8.542025</td><td>4.602649</td><td>11.765396</td><td>5.318924</td><td>13.55632</td></tr>\n",
       "\t<tr><td>TCGA-C5-A2LZ-01A-11R-A213-07</td><td>3046</td><td>24059</td><td>white</td><td>not hispanic or latino</td><td>3</td><td>10.135550</td><td>4.865349</td><td> 8.566221</td><td>10.84231</td><td>⋯</td><td>11.492135</td><td>7.426145</td><td> 9.480199</td><td>15.92715</td><td> 6.010764</td><td> 7.405245</td><td>4.602649</td><td> 7.506731</td><td>5.423416</td><td>14.73802</td></tr>\n",
       "\t<tr><td>TCGA-VS-A9V1-01A-11R-A42T-07</td><td> 157</td><td>17001</td><td>white</td><td>not reported          </td><td>4</td><td> 6.893100</td><td>6.334201</td><td>10.871571</td><td>12.21604</td><td>⋯</td><td> 9.319180</td><td>7.444380</td><td> 8.707254</td><td>12.23439</td><td> 6.011689</td><td>10.391491</td><td>4.602649</td><td> 7.767144</td><td>5.376786</td><td>16.71254</td></tr>\n",
       "\t<tr><td>TCGA-C5-A1BE-01B-11R-A13Y-07</td><td>2094</td><td>23727</td><td>white</td><td>not reported          </td><td>1</td><td>10.642039</td><td>5.348449</td><td> 8.945220</td><td>13.41922</td><td>⋯</td><td>11.696884</td><td>6.384980</td><td> 9.774029</td><td>15.38194</td><td> 6.205261</td><td> 7.163053</td><td>4.957257</td><td>10.113788</td><td>5.213815</td><td>15.56497</td></tr>\n",
       "\t<tr><td>TCGA-C5-A8XH-01A-11R-A37O-07</td><td>1394</td><td>14444</td><td>white</td><td>not hispanic or latino</td><td>1</td><td> 9.633752</td><td>5.908552</td><td>11.672191</td><td>13.86377</td><td>⋯</td><td>11.148165</td><td>7.526140</td><td> 8.561116</td><td>14.40442</td><td> 6.462928</td><td> 6.102570</td><td>4.602649</td><td> 9.104547</td><td>5.088257</td><td>15.19735</td></tr>\n",
       "</tbody>\n",
       "</table>\n"
      ],
      "text/latex": [
       "A tibble: 6 × 1014\n",
       "\\begin{tabular}{lllllllllllllllllllll}\n",
       " sample\\_name & survival\\_time & age\\_at\\_diagnosis & race & ethnicity & figo\\_stage & PGF & TIMP4 & C1QTNF6 & TNC & ⋯ & PIK3IP1 & C1QTNF2 & PCSK5 & ANXA1 & HGF & VWA2 & FGF3 & POSTN & NTF3 & S100A6\\\\\n",
       " <chr> & <dbl> & <dbl> & <chr> & <chr> & <chr> & <dbl> & <dbl> & <dbl> & <dbl> & ⋯ & <dbl> & <dbl> & <dbl> & <dbl> & <dbl> & <dbl> & <dbl> & <dbl> & <dbl> & <dbl>\\\\\n",
       "\\hline\n",
       "\t TCGA-C5-A1BF-01B-11R-A13Y-07 &  570 & 16975 & white & not reported           & 1 & 10.800637 & 6.228003 & 11.669331 & 13.00293 & ⋯ &  9.013453 & 8.190325 &  9.503647 & 14.07799 &  6.569726 &  7.315604 & 4.602649 & 12.062300 & 5.649441 & 16.55841\\\\\n",
       "\t TCGA-C5-A8YT-01A-11R-A37O-07 &  633 & 13253 & white & not hispanic or latino & 1 &  7.830611 & 5.733875 & 12.445548 & 13.76547 & ⋯ &  9.453187 & 6.398956 & 12.288955 & 13.39633 & 10.228758 &  8.542025 & 4.602649 & 11.765396 & 5.318924 & 13.55632\\\\\n",
       "\t TCGA-C5-A2LZ-01A-11R-A213-07 & 3046 & 24059 & white & not hispanic or latino & 3 & 10.135550 & 4.865349 &  8.566221 & 10.84231 & ⋯ & 11.492135 & 7.426145 &  9.480199 & 15.92715 &  6.010764 &  7.405245 & 4.602649 &  7.506731 & 5.423416 & 14.73802\\\\\n",
       "\t TCGA-VS-A9V1-01A-11R-A42T-07 &  157 & 17001 & white & not reported           & 4 &  6.893100 & 6.334201 & 10.871571 & 12.21604 & ⋯ &  9.319180 & 7.444380 &  8.707254 & 12.23439 &  6.011689 & 10.391491 & 4.602649 &  7.767144 & 5.376786 & 16.71254\\\\\n",
       "\t TCGA-C5-A1BE-01B-11R-A13Y-07 & 2094 & 23727 & white & not reported           & 1 & 10.642039 & 5.348449 &  8.945220 & 13.41922 & ⋯ & 11.696884 & 6.384980 &  9.774029 & 15.38194 &  6.205261 &  7.163053 & 4.957257 & 10.113788 & 5.213815 & 15.56497\\\\\n",
       "\t TCGA-C5-A8XH-01A-11R-A37O-07 & 1394 & 14444 & white & not hispanic or latino & 1 &  9.633752 & 5.908552 & 11.672191 & 13.86377 & ⋯ & 11.148165 & 7.526140 &  8.561116 & 14.40442 &  6.462928 &  6.102570 & 4.602649 &  9.104547 & 5.088257 & 15.19735\\\\\n",
       "\\end{tabular}\n"
      ],
      "text/markdown": [
       "\n",
       "A tibble: 6 × 1014\n",
       "\n",
       "| sample_name &lt;chr&gt; | survival_time &lt;dbl&gt; | age_at_diagnosis &lt;dbl&gt; | race &lt;chr&gt; | ethnicity &lt;chr&gt; | figo_stage &lt;chr&gt; | PGF &lt;dbl&gt; | TIMP4 &lt;dbl&gt; | C1QTNF6 &lt;dbl&gt; | TNC &lt;dbl&gt; | ⋯ ⋯ | PIK3IP1 &lt;dbl&gt; | C1QTNF2 &lt;dbl&gt; | PCSK5 &lt;dbl&gt; | ANXA1 &lt;dbl&gt; | HGF &lt;dbl&gt; | VWA2 &lt;dbl&gt; | FGF3 &lt;dbl&gt; | POSTN &lt;dbl&gt; | NTF3 &lt;dbl&gt; | S100A6 &lt;dbl&gt; |\n",
       "|---|---|---|---|---|---|---|---|---|---|---|---|---|---|---|---|---|---|---|---|---|\n",
       "| TCGA-C5-A1BF-01B-11R-A13Y-07 |  570 | 16975 | white | not reported           | 1 | 10.800637 | 6.228003 | 11.669331 | 13.00293 | ⋯ |  9.013453 | 8.190325 |  9.503647 | 14.07799 |  6.569726 |  7.315604 | 4.602649 | 12.062300 | 5.649441 | 16.55841 |\n",
       "| TCGA-C5-A8YT-01A-11R-A37O-07 |  633 | 13253 | white | not hispanic or latino | 1 |  7.830611 | 5.733875 | 12.445548 | 13.76547 | ⋯ |  9.453187 | 6.398956 | 12.288955 | 13.39633 | 10.228758 |  8.542025 | 4.602649 | 11.765396 | 5.318924 | 13.55632 |\n",
       "| TCGA-C5-A2LZ-01A-11R-A213-07 | 3046 | 24059 | white | not hispanic or latino | 3 | 10.135550 | 4.865349 |  8.566221 | 10.84231 | ⋯ | 11.492135 | 7.426145 |  9.480199 | 15.92715 |  6.010764 |  7.405245 | 4.602649 |  7.506731 | 5.423416 | 14.73802 |\n",
       "| TCGA-VS-A9V1-01A-11R-A42T-07 |  157 | 17001 | white | not reported           | 4 |  6.893100 | 6.334201 | 10.871571 | 12.21604 | ⋯ |  9.319180 | 7.444380 |  8.707254 | 12.23439 |  6.011689 | 10.391491 | 4.602649 |  7.767144 | 5.376786 | 16.71254 |\n",
       "| TCGA-C5-A1BE-01B-11R-A13Y-07 | 2094 | 23727 | white | not reported           | 1 | 10.642039 | 5.348449 |  8.945220 | 13.41922 | ⋯ | 11.696884 | 6.384980 |  9.774029 | 15.38194 |  6.205261 |  7.163053 | 4.957257 | 10.113788 | 5.213815 | 15.56497 |\n",
       "| TCGA-C5-A8XH-01A-11R-A37O-07 | 1394 | 14444 | white | not hispanic or latino | 1 |  9.633752 | 5.908552 | 11.672191 | 13.86377 | ⋯ | 11.148165 | 7.526140 |  8.561116 | 14.40442 |  6.462928 |  6.102570 | 4.602649 |  9.104547 | 5.088257 | 15.19735 |\n",
       "\n"
      ],
      "text/plain": [
       "  sample_name                  survival_time age_at_diagnosis race \n",
       "1 TCGA-C5-A1BF-01B-11R-A13Y-07  570          16975            white\n",
       "2 TCGA-C5-A8YT-01A-11R-A37O-07  633          13253            white\n",
       "3 TCGA-C5-A2LZ-01A-11R-A213-07 3046          24059            white\n",
       "4 TCGA-VS-A9V1-01A-11R-A42T-07  157          17001            white\n",
       "5 TCGA-C5-A1BE-01B-11R-A13Y-07 2094          23727            white\n",
       "6 TCGA-C5-A8XH-01A-11R-A37O-07 1394          14444            white\n",
       "  ethnicity              figo_stage PGF       TIMP4    C1QTNF6   TNC      ⋯\n",
       "1 not reported           1          10.800637 6.228003 11.669331 13.00293 ⋯\n",
       "2 not hispanic or latino 1           7.830611 5.733875 12.445548 13.76547 ⋯\n",
       "3 not hispanic or latino 3          10.135550 4.865349  8.566221 10.84231 ⋯\n",
       "4 not reported           4           6.893100 6.334201 10.871571 12.21604 ⋯\n",
       "5 not reported           1          10.642039 5.348449  8.945220 13.41922 ⋯\n",
       "6 not hispanic or latino 1           9.633752 5.908552 11.672191 13.86377 ⋯\n",
       "  PIK3IP1   C1QTNF2  PCSK5     ANXA1    HGF       VWA2      FGF3     POSTN    \n",
       "1  9.013453 8.190325  9.503647 14.07799  6.569726  7.315604 4.602649 12.062300\n",
       "2  9.453187 6.398956 12.288955 13.39633 10.228758  8.542025 4.602649 11.765396\n",
       "3 11.492135 7.426145  9.480199 15.92715  6.010764  7.405245 4.602649  7.506731\n",
       "4  9.319180 7.444380  8.707254 12.23439  6.011689 10.391491 4.602649  7.767144\n",
       "5 11.696884 6.384980  9.774029 15.38194  6.205261  7.163053 4.957257 10.113788\n",
       "6 11.148165 7.526140  8.561116 14.40442  6.462928  6.102570 4.602649  9.104547\n",
       "  NTF3     S100A6  \n",
       "1 5.649441 16.55841\n",
       "2 5.318924 13.55632\n",
       "3 5.423416 14.73802\n",
       "4 5.376786 16.71254\n",
       "5 5.213815 15.56497\n",
       "6 5.088257 15.19735"
      ]
     },
     "metadata": {},
     "output_type": "display_data"
    }
   ],
   "source": [
    "joined_df <- filtered_survival_df %>%\n",
    "    inner_join(norm_survival_counts_t_df, by = \"sample_name\")\n",
    "nrow(joined_df)\n",
    "head(joined_df)"
   ]
  },
  {
   "cell_type": "code",
   "execution_count": 27,
   "metadata": {},
   "outputs": [],
   "source": [
    "final_df <- joined_df %>%\n",
    "    bind_cols(to_one_hot(., \"race\"), to_one_hot(., \"ethnicity\"), to_one_hot(., \"figo_stage\")) %>%\n",
    "    dplyr::select(-c(race, ethnicity, figo_stage))"
   ]
  },
  {
   "cell_type": "code",
   "execution_count": 28,
   "metadata": {},
   "outputs": [],
   "source": [
    "X_df = final_df[-c(1, 2)]\n",
    "y_df = final_df[2]"
   ]
  },
  {
   "cell_type": "code",
   "execution_count": 31,
   "metadata": {},
   "outputs": [
    {
     "name": "stderr",
     "output_type": "stream",
     "text": [
      "Warning message in cor(A[[k]], variates.A[[k]]):\n",
      "“the standard deviation is zero”"
     ]
    }
   ],
   "source": [
    "plsr <- pls(X_df, y_df, ncomp = 2, mode=\"regression\")"
   ]
  },
  {
   "cell_type": "code",
   "execution_count": 37,
   "metadata": {},
   "outputs": [],
   "source": [
    "vip <- vip(plsr)"
   ]
  },
  {
   "cell_type": "code",
   "execution_count": null,
   "metadata": {},
   "outputs": [],
   "source": []
  }
 ],
 "metadata": {
  "kernelspec": {
   "display_name": "R",
   "language": "R",
   "name": "ir"
  },
  "language_info": {
   "codemirror_mode": "r",
   "file_extension": ".r",
   "mimetype": "text/x-r-source",
   "name": "R",
   "pygments_lexer": "r",
   "version": "3.6.3"
  }
 },
 "nbformat": 4,
 "nbformat_minor": 4
}
