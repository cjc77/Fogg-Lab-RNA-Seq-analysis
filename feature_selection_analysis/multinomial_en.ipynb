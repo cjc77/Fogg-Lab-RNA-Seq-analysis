{
 "cells": [
  {
   "cell_type": "code",
   "execution_count": 1,
   "id": "departmental-writer",
   "metadata": {
    "collapsed": true,
    "jupyter": {
     "outputs_hidden": true
    }
   },
   "outputs": [
    {
     "name": "stderr",
     "output_type": "stream",
     "text": [
      "-- \u001b[1mAttaching packages\u001b[22m --------------------------------------------------------------------------------------------------------- tidyverse 1.3.0 --\n",
      "\n",
      "\u001b[32mv\u001b[39m \u001b[34mggplot2\u001b[39m 3.3.3     \u001b[32mv\u001b[39m \u001b[34mpurrr  \u001b[39m 0.3.4\n",
      "\u001b[32mv\u001b[39m \u001b[34mtibble \u001b[39m 3.0.6     \u001b[32mv\u001b[39m \u001b[34mdplyr  \u001b[39m 1.0.4\n",
      "\u001b[32mv\u001b[39m \u001b[34mtidyr  \u001b[39m 1.1.2     \u001b[32mv\u001b[39m \u001b[34mstringr\u001b[39m 1.4.0\n",
      "\u001b[32mv\u001b[39m \u001b[34mreadr  \u001b[39m 1.4.0     \u001b[32mv\u001b[39m \u001b[34mforcats\u001b[39m 0.5.1\n",
      "\n",
      "-- \u001b[1mConflicts\u001b[22m ------------------------------------------------------------------------------------------------------------ tidyverse_conflicts() --\n",
      "\u001b[31mx\u001b[39m \u001b[34mdplyr\u001b[39m::\u001b[32mfilter()\u001b[39m masks \u001b[34mstats\u001b[39m::filter()\n",
      "\u001b[31mx\u001b[39m \u001b[34mdplyr\u001b[39m::\u001b[32mlag()\u001b[39m    masks \u001b[34mstats\u001b[39m::lag()\n",
      "\n",
      "Loading required package: dynamicTreeCut\n",
      "\n",
      "Loading required package: fastcluster\n",
      "\n",
      "\n",
      "Attaching package: 'fastcluster'\n",
      "\n",
      "\n",
      "The following object is masked from 'package:stats':\n",
      "\n",
      "    hclust\n",
      "\n",
      "\n",
      "\n",
      "\n",
      "\n",
      "Attaching package: 'WGCNA'\n",
      "\n",
      "\n",
      "The following object is masked from 'package:stats':\n",
      "\n",
      "    cor\n",
      "\n",
      "\n",
      "Loading required package: Matrix\n",
      "\n",
      "\n",
      "Attaching package: 'Matrix'\n",
      "\n",
      "\n",
      "The following objects are masked from 'package:tidyr':\n",
      "\n",
      "    expand, pack, unpack\n",
      "\n",
      "\n",
      "Loaded glmnet 4.1\n",
      "\n"
     ]
    }
   ],
   "source": [
    "library(tidyverse)\n",
    "library(WGCNA)\n",
    "library(glmnet)\n",
    "# library(BiocParallel)\n",
    "# library(parallel)\n",
    "# library(caret)\n",
    "\n",
    "\n",
    "# Custom package\n",
    "library(rutils)"
   ]
  },
  {
   "cell_type": "code",
   "execution_count": 2,
   "id": "available-cradle",
   "metadata": {},
   "outputs": [
    {
     "name": "stdout",
     "output_type": "stream",
     "text": [
      "Allowing parallel execution with up to 15 working processes.\n"
     ]
    }
   ],
   "source": [
    "enableWGCNAThreads()"
   ]
  },
  {
   "cell_type": "code",
   "execution_count": 3,
   "id": "outside-horizon",
   "metadata": {},
   "outputs": [],
   "source": [
    "# Define constants\n",
    "dirs <- rutils::get_dev_directories(dev_paths_file = \"../dev_paths.txt\")\n",
    "projects <- c(\"TCGA-CESC\", \"TCGA-UCS\", \"TCGA-UCEC\", \"TCGA-OV\")\n",
    "unified_dsets <- c(\"unified_cervical_data\", \"unified_uterine_data\", \"unified_uterine_endometrial_data\")\n",
    "matrisome_path <- paste0(dirs$data_dir, \"/matrisome/matrisome_hs_masterlist.tsv\")\n",
    "\n",
    "event_code <- list(\"Alive\" = 0, \"Dead\" = 1)\n",
    "# covariate_cols_no_figo <- c(\"age_at_diagnosis\", \"race\", \"ethnicity\")\n",
    "# covariate_cols <- c(\"figo_stage\", covariate_cols_no_figo)\n",
    "covariate_cols <- c(\"figo_stage\")\n",
    "dep_cols <- c(\"vital_status\", \"survival_time\")\n"
   ]
  },
  {
   "cell_type": "code",
   "execution_count": 4,
   "id": "responsible-mercury",
   "metadata": {},
   "outputs": [],
   "source": [
    "dset_idx <- 1\n",
    "save_res <- TRUE\n",
    "# Worst performance observed in CESC\n",
    "worst_score <- 0.6864"
   ]
  },
  {
   "cell_type": "code",
   "execution_count": 5,
   "id": "guilty-intensity",
   "metadata": {},
   "outputs": [
    {
     "name": "stderr",
     "output_type": "stream",
     "text": [
      "\n",
      "\u001b[36m--\u001b[39m \u001b[1m\u001b[1mColumn specification\u001b[1m\u001b[22m \u001b[36m--------------------------------------------------------------------------------------------------------------------------\u001b[39m\n",
      "cols(\n",
      "  sample_name = \u001b[31mcol_character()\u001b[39m,\n",
      "  vital_status = \u001b[31mcol_character()\u001b[39m,\n",
      "  survival_time = \u001b[32mcol_double()\u001b[39m,\n",
      "  figo_stage = \u001b[31mcol_character()\u001b[39m,\n",
      "  days_to_last_follow_up = \u001b[32mcol_double()\u001b[39m,\n",
      "  days_to_death = \u001b[32mcol_double()\u001b[39m,\n",
      "  age_at_diagnosis = \u001b[32mcol_double()\u001b[39m,\n",
      "  age_at_index = \u001b[32mcol_double()\u001b[39m,\n",
      "  height = \u001b[32mcol_double()\u001b[39m,\n",
      "  weight = \u001b[32mcol_double()\u001b[39m,\n",
      "  bmi = \u001b[32mcol_double()\u001b[39m,\n",
      "  race = \u001b[31mcol_character()\u001b[39m,\n",
      "  ethnicity = \u001b[31mcol_character()\u001b[39m\n",
      ")\n",
      "\n",
      "\n"
     ]
    }
   ],
   "source": [
    "survival_path <- paste0(dirs$data_dir, \"/\", unified_dsets[dset_idx], \"/survival_data.tsv\")\n",
    "survival_df <- load_survival_df(survival_path, event_code)\n",
    "demg_list <- read_lines(paste0(dirs$analysis_dir, \"/gene_lists/\", unified_dsets[dset_idx], \"_demg_list.txt\"))"
   ]
  },
  {
   "cell_type": "code",
   "execution_count": 6,
   "id": "dominican-transcript",
   "metadata": {},
   "outputs": [
    {
     "name": "stderr",
     "output_type": "stream",
     "text": [
      "\n",
      "\u001b[36m--\u001b[39m \u001b[1m\u001b[1mColumn specification\u001b[1m\u001b[22m \u001b[36m--------------------------------------------------------------------------------------------------------------------------\u001b[39m\n",
      "cols(\n",
      "  .default = col_double(),\n",
      "  geneID = \u001b[31mcol_character()\u001b[39m\n",
      ")\n",
      "\u001b[36mi\u001b[39m Use \u001b[30m\u001b[47m\u001b[30m\u001b[47m`spec()`\u001b[47m\u001b[30m\u001b[49m\u001b[39m for the full column specifications.\n",
      "\n",
      "\n"
     ]
    }
   ],
   "source": [
    "# Load and filter survival data\n",
    "filtered_survival_df <- survival_df %>%\n",
    "    decode_figo_stage(to = \"c\") %>%\n",
    "    dplyr::select(sample_name, figo_stage) %>% # make sure using same samples as classification models\n",
    "    dplyr::filter(rowSums(is.na(.)) == 0)\n",
    "\n",
    "# Load normalized matrisome count data\n",
    "norm_matrisome_counts_path <- paste0(dirs$data_dir, \"/\", unified_dsets[dset_idx], \"/norm_matrisome_counts.tsv\")\n",
    "norm_survival_counts_t_df <- read_tsv(norm_matrisome_counts_path) %>%\n",
    "    dplyr::select(c(\"geneID\", filtered_survival_df$sample_name)) %>%\n",
    "    transpose_df(\"geneID\", \"sample_name\")\n",
    "\n",
    "# Combine survival data and normalized count data\n",
    "joined_df <- filtered_survival_df %>%\n",
    "    inner_join(norm_survival_counts_t_df, by = \"sample_name\")"
   ]
  },
  {
   "cell_type": "code",
   "execution_count": 7,
   "id": "czech-corpus",
   "metadata": {},
   "outputs": [],
   "source": [
    "y <- as.vector(joined_df$figo_stage)\n",
    "\n",
    "x <- as.matrix(\n",
    "    joined_df %>%\n",
    "        dplyr::select(-c(sample_name, figo_stage))\n",
    ")\n",
    "rownames(x) <- joined_df$sample_name"
   ]
  },
  {
   "cell_type": "code",
   "execution_count": 8,
   "id": "raised-mainland",
   "metadata": {},
   "outputs": [
    {
     "data": {
      "text/html": [
       "<table class=\"dataframe\">\n",
       "<caption>A grouped_df: 4 × 2</caption>\n",
       "<thead>\n",
       "\t<tr><th scope=col>figo_stage</th><th scope=col>n</th></tr>\n",
       "\t<tr><th scope=col>&lt;chr&gt;</th><th scope=col>&lt;int&gt;</th></tr>\n",
       "</thead>\n",
       "<tbody>\n",
       "\t<tr><td>figo_stage_1</td><td>135</td></tr>\n",
       "\t<tr><td>figo_stage_2</td><td> 61</td></tr>\n",
       "\t<tr><td>figo_stage_3</td><td> 40</td></tr>\n",
       "\t<tr><td>figo_stage_4</td><td> 19</td></tr>\n",
       "</tbody>\n",
       "</table>\n"
      ],
      "text/latex": [
       "A grouped\\_df: 4 × 2\n",
       "\\begin{tabular}{ll}\n",
       " figo\\_stage & n\\\\\n",
       " <chr> & <int>\\\\\n",
       "\\hline\n",
       "\t figo\\_stage\\_1 & 135\\\\\n",
       "\t figo\\_stage\\_2 &  61\\\\\n",
       "\t figo\\_stage\\_3 &  40\\\\\n",
       "\t figo\\_stage\\_4 &  19\\\\\n",
       "\\end{tabular}\n"
      ],
      "text/markdown": [
       "\n",
       "A grouped_df: 4 × 2\n",
       "\n",
       "| figo_stage &lt;chr&gt; | n &lt;int&gt; |\n",
       "|---|---|\n",
       "| figo_stage_1 | 135 |\n",
       "| figo_stage_2 |  61 |\n",
       "| figo_stage_3 |  40 |\n",
       "| figo_stage_4 |  19 |\n",
       "\n"
      ],
      "text/plain": [
       "  figo_stage   n  \n",
       "1 figo_stage_1 135\n",
       "2 figo_stage_2  61\n",
       "3 figo_stage_3  40\n",
       "4 figo_stage_4  19"
      ]
     },
     "metadata": {},
     "output_type": "display_data"
    }
   ],
   "source": [
    "joined_df %>%\n",
    "    group_by(figo_stage) %>%\n",
    "    count() \n",
    "ns <- joined_df %>%\n",
    "    group_by(figo_stage) %>%\n",
    "    count() %>%\n",
    "    pull(n)"
   ]
  },
  {
   "cell_type": "code",
   "execution_count": 9,
   "id": "three-domain",
   "metadata": {},
   "outputs": [],
   "source": [
    "figo_weights = rep(0, length(y))\n",
    "c <- length(unique(y))\n",
    "# Weights sum to n\n",
    "figo_weights[y == \"figo_stage_1\"] <- length(y) / (c * ns[1])\n",
    "figo_weights[y == \"figo_stage_2\"] <- length(y) / (c * ns[2])\n",
    "figo_weights[y == \"figo_stage_3\"] <- length(y) / (c * ns[3])\n",
    "figo_weights[y == \"figo_stage_4\"] <- length(y) / (c * ns[4])"
   ]
  },
  {
   "cell_type": "code",
   "execution_count": 10,
   "id": "related-campaign",
   "metadata": {},
   "outputs": [],
   "source": [
    "set.seed(123)\n",
    "cv_mr_model <- cv.glmnet(\n",
    "    x, y, family = \"multinomial\", alpha = 1,\n",
    "    nfolds = 5, weights = figo_weights, type.measure = \"class\",\n",
    "#     type.multinomial = \"grouped\", nlambda = 1000, parallel = TRUE\n",
    "    type.multinomial = \"grouped\", parallel = TRUE,\n",
    "#     lambda = seq(1, 0.005, -0.005)\n",
    "    lambda = exp(seq(-5, 0, 0.005))\n",
    ")"
   ]
  },
  {
   "cell_type": "code",
   "execution_count": 11,
   "id": "forward-samuel",
   "metadata": {},
   "outputs": [
    {
     "data": {
      "text/html": [
       "1001"
      ],
      "text/latex": [
       "1001"
      ],
      "text/markdown": [
       "1001"
      ],
      "text/plain": [
       "[1] 1001"
      ]
     },
     "metadata": {},
     "output_type": "display_data"
    }
   ],
   "source": [
    "exp(seq(-5, 0, 0.005)) %>%\n",
    "    length()"
   ]
  },
  {
   "cell_type": "code",
   "execution_count": 12,
   "id": "found-discretion",
   "metadata": {},
   "outputs": [
    {
     "data": {
      "text/plain": [
       "\n",
       "Call:  cv.glmnet(x = x, y = y, weights = figo_weights, lambda = exp(seq(-5,      0, 0.005)), type.measure = \"class\", nfolds = 5, parallel = TRUE,      family = \"multinomial\", alpha = 1, type.multinomial = \"grouped\") \n",
       "\n",
       "Measure: Misclassification Error \n",
       "\n",
       "      Lambda Index Measure      SE Nonzero\n",
       "min 0.009372   935  0.6863 0.02920     218\n",
       "1se 0.020548   778  0.7140 0.03439     188"
      ]
     },
     "metadata": {},
     "output_type": "display_data"
    },
    {
     "data": {
      "image/png": "[encoded data removed]",
      "text/plain": [
       "plot without title"
      ]
     },
     "metadata": {
      "image/png": {
       "height": 420,
       "width": 420
      }
     },
     "output_type": "display_data"
    }
   ],
   "source": [
    "cv_mr_model\n",
    "plot(cv_mr_model)"
   ]
  },
  {
   "cell_type": "code",
   "execution_count": 13,
   "id": "right-glasgow",
   "metadata": {},
   "outputs": [
    {
     "data": {
      "text/html": [
       "TRUE"
      ],
      "text/latex": [
       "TRUE"
      ],
      "text/markdown": [
       "TRUE"
      ],
      "text/plain": [
       "[1] TRUE"
      ]
     },
     "metadata": {},
     "output_type": "display_data"
    },
    {
     "data": {
      "text/html": [
       "TRUE"
      ],
      "text/latex": [
       "TRUE"
      ],
      "text/markdown": [
       "TRUE"
      ],
      "text/plain": [
       "[1] TRUE"
      ]
     },
     "metadata": {},
     "output_type": "display_data"
    },
    {
     "data": {
      "text/html": [
       "TRUE"
      ],
      "text/latex": [
       "TRUE"
      ],
      "text/markdown": [
       "TRUE"
      ],
      "text/plain": [
       "[1] TRUE"
      ]
     },
     "metadata": {},
     "output_type": "display_data"
    },
    {
     "data": {
      "text/html": [
       "0.00909527710169582"
      ],
      "text/latex": [
       "0.00909527710169582"
      ],
      "text/markdown": [
       "0.00909527710169582"
      ],
      "text/plain": [
       "[1] 0.009095277"
      ]
     },
     "metadata": {},
     "output_type": "display_data"
    }
   ],
   "source": [
    "# Last index better than worst best score of any cancer model\n",
    "lambda_idx <- max(which(cv_mr_model$cvm < worst_score))\n",
    "\n",
    "# mask_lambda <- cv_mr_model$lambda.min\n",
    "# mask_lambda_genes <- as.matrix(coef(cv_mr_model, s = mask_lambda))[, 1] != 0\n",
    "# subscript [-1, ...] is to skip the coefficient\n",
    "# Since we're using \"grouped\", coefficients are same for each level of figo stage\n",
    "mask_lambda <- cv_mr_model$lambda[lambda_idx]\n",
    "mask_1 <- as.matrix(coef(cv_mr_model, s = mask_lambda)$figo_stage_1)[-1, 1] != 0\n",
    "mask_2 <- as.matrix(coef(cv_mr_model, s = mask_lambda)$figo_stage_2)[-1, 1] != 0\n",
    "mask_3 <- as.matrix(coef(cv_mr_model, s = mask_lambda)$figo_stage_3)[-1, 1] != 0\n",
    "mask_4 <- as.matrix(coef(cv_mr_model, s = mask_lambda)$figo_stage_4)[-1, 1] != 0\n",
    "all(mask_1 == mask_2)\n",
    "all(mask_1 == mask_3)\n",
    "all(mask_1 == mask_4)\n",
    "mask_lambda"
   ]
  },
  {
   "cell_type": "code",
   "execution_count": 14,
   "id": "polish-worship",
   "metadata": {},
   "outputs": [],
   "source": [
    "coefs_1 <- as.matrix(coef(cv_mr_model, s = mask_lambda)$figo_stage_1)[-1, 1]\n",
    "coefs_2 <- as.matrix(coef(cv_mr_model, s = mask_lambda)$figo_stage_2)[-1, 1]\n",
    "coefs_3 <- as.matrix(coef(cv_mr_model, s = mask_lambda)$figo_stage_3)[-1, 1]\n",
    "coefs_4 <- as.matrix(coef(cv_mr_model, s = mask_lambda)$figo_stage_4)[-1, 1]"
   ]
  },
  {
   "cell_type": "markdown",
   "id": "finnish-honduras",
   "metadata": {},
   "source": [
    "## Weighted baseline"
   ]
  },
  {
   "cell_type": "code",
   "execution_count": 15,
   "id": "verbal-flush",
   "metadata": {},
   "outputs": [],
   "source": [
    "maj_class <- which.max(ns)"
   ]
  },
  {
   "cell_type": "code",
   "execution_count": 16,
   "id": "piano-proposition",
   "metadata": {},
   "outputs": [],
   "source": [
    "weighted_baseline <- 1 - sum(figo_weights[y == paste0(\"figo_stage_\", maj_class)]) / sum(figo_weights)"
   ]
  },
  {
   "cell_type": "code",
   "execution_count": 17,
   "id": "following-german",
   "metadata": {},
   "outputs": [
    {
     "data": {
      "text/html": [
       "0.75"
      ],
      "text/latex": [
       "0.75"
      ],
      "text/markdown": [
       "0.75"
      ],
      "text/plain": [
       "[1] 0.75"
      ]
     },
     "metadata": {},
     "output_type": "display_data"
    }
   ],
   "source": [
    "weighted_baseline\n",
    "cv_best_cvm <- cv_mr_model$cvm[cv_mr_model$index[\"min\",]]"
   ]
  },
  {
   "cell_type": "code",
   "execution_count": 18,
   "id": "digital-seeker",
   "metadata": {},
   "outputs": [
    {
     "data": {
      "text/html": [
       "-0.084906901436956"
      ],
      "text/latex": [
       "-0.084906901436956"
      ],
      "text/markdown": [
       "-0.084906901436956"
      ],
      "text/plain": [
       "[1] -0.0849069"
      ]
     },
     "metadata": {},
     "output_type": "display_data"
    }
   ],
   "source": [
    "(cv_best_cvm - weighted_baseline) / weighted_baseline"
   ]
  },
  {
   "cell_type": "code",
   "execution_count": 19,
   "id": "quarterly-hormone",
   "metadata": {},
   "outputs": [
    {
     "data": {
      "text/html": [
       "220"
      ],
      "text/latex": [
       "220"
      ],
      "text/markdown": [
       "220"
      ],
      "text/plain": [
       "[1] 220"
      ]
     },
     "metadata": {},
     "output_type": "display_data"
    }
   ],
   "source": [
    "important_gene_df <- tibble(\n",
    "    geneID = colnames(x)[mask_1],\n",
    "    figo_stage_1_coefs = coefs_1[mask_1],\n",
    "    figo_stage_2_coefs = coefs_1[mask_1],\n",
    "    figo_stage_3_coefs = coefs_1[mask_1],\n",
    "    figo_stage_4_coefs = coefs_1[mask_1],\n",
    ")\n",
    "nrow(important_gene_df)"
   ]
  },
  {
   "cell_type": "code",
   "execution_count": 20,
   "id": "metric-feeling",
   "metadata": {},
   "outputs": [],
   "source": [
    "if (save_res) {\n",
    "    write_tsv(important_gene_df, paste0(dirs$analysis_dir, \"/feature_selection/\", unified_dsets[dset_idx], \"_en_multinom_results.tsv\"))\n",
    "}"
   ]
  }
 ],
 "metadata": {
  "kernelspec": {
   "display_name": "R",
   "language": "R",
   "name": "ir"
  },
  "language_info": {
   "codemirror_mode": "r",
   "file_extension": ".r",
   "mimetype": "text/x-r-source",
   "name": "R",
   "pygments_lexer": "r",
   "version": "4.0.3"
  }
 },
 "nbformat": 4,
 "nbformat_minor": 5
}
