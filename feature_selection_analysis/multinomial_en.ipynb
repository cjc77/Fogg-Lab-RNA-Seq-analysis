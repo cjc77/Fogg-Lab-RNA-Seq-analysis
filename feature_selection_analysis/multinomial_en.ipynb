{
 "cells": [
  {
   "cell_type": "code",
   "execution_count": 1,
   "id": "dense-optimization",
   "metadata": {},
   "outputs": [
    {
     "name": "stderr",
     "output_type": "stream",
     "text": [
      "-- \u001b[1mAttaching packages\u001b[22m ------------------------------------------------------------------------------------------------------- tidyverse 1.3.0 --\n",
      "\n",
      "\u001b[32mv\u001b[39m \u001b[34mggplot2\u001b[39m 3.3.3     \u001b[32mv\u001b[39m \u001b[34mpurrr  \u001b[39m 0.3.4\n",
      "\u001b[32mv\u001b[39m \u001b[34mtibble \u001b[39m 3.0.6     \u001b[32mv\u001b[39m \u001b[34mdplyr  \u001b[39m 1.0.4\n",
      "\u001b[32mv\u001b[39m \u001b[34mtidyr  \u001b[39m 1.1.2     \u001b[32mv\u001b[39m \u001b[34mstringr\u001b[39m 1.4.0\n",
      "\u001b[32mv\u001b[39m \u001b[34mreadr  \u001b[39m 1.4.0     \u001b[32mv\u001b[39m \u001b[34mforcats\u001b[39m 0.5.1\n",
      "\n",
      "-- \u001b[1mConflicts\u001b[22m ---------------------------------------------------------------------------------------------------------- tidyverse_conflicts() --\n",
      "\u001b[31mx\u001b[39m \u001b[34mdplyr\u001b[39m::\u001b[32mfilter()\u001b[39m masks \u001b[34mstats\u001b[39m::filter()\n",
      "\u001b[31mx\u001b[39m \u001b[34mdplyr\u001b[39m::\u001b[32mlag()\u001b[39m    masks \u001b[34mstats\u001b[39m::lag()\n",
      "\n",
      "Loading required package: dynamicTreeCut\n",
      "\n",
      "Loading required package: fastcluster\n",
      "\n",
      "\n",
      "Attaching package: 'fastcluster'\n",
      "\n",
      "\n",
      "The following object is masked from 'package:stats':\n",
      "\n",
      "    hclust\n",
      "\n",
      "\n",
      "\n",
      "\n",
      "\n",
      "Attaching package: 'WGCNA'\n",
      "\n",
      "\n",
      "The following object is masked from 'package:stats':\n",
      "\n",
      "    cor\n",
      "\n",
      "\n",
      "Loading required package: Matrix\n",
      "\n",
      "\n",
      "Attaching package: 'Matrix'\n",
      "\n",
      "\n",
      "The following objects are masked from 'package:tidyr':\n",
      "\n",
      "    expand, pack, unpack\n",
      "\n",
      "\n",
      "Loaded glmnet 4.1\n",
      "\n"
     ]
    }
   ],
   "source": [
    "library(tidyverse)\n",
    "library(WGCNA)\n",
    "library(glmnet)\n",
    "\n",
    "# Custom package\n",
    "library(rutils)"
   ]
  },
  {
   "cell_type": "code",
   "execution_count": 2,
   "id": "exact-staff",
   "metadata": {},
   "outputs": [],
   "source": [
    "# Define constants\n",
    "dirs <- rutils::get_dev_directories(dev_paths_file = \"../dev_paths.txt\")\n",
    "projects <- c(\"TCGA-CESC\", \"TCGA-UCS\", \"TCGA-UCEC\", \"TCGA-OV\")\n",
    "unified_dsets <- c(\"unified_cervical_data\", \"unified_uterine_data\", \"unified_uterine_endometrial_data\")\n",
    "matrisome_path <- paste0(dirs$data_dir, \"/matrisome/matrisome_hs_masterlist.tsv\")\n",
    "\n",
    "event_code <- list(\"Alive\" = 0, \"Dead\" = 1)\n",
    "# covariate_cols_no_figo <- c(\"age_at_diagnosis\", \"race\", \"ethnicity\")\n",
    "# covariate_cols <- c(\"figo_stage\", covariate_cols_no_figo)\n",
    "covariate_cols <- c(\"figo_stage\")\n",
    "dep_cols <- c(\"vital_status\", \"survival_time\")\n"
   ]
  },
  {
   "cell_type": "code",
   "execution_count": 3,
   "id": "upset-compound",
   "metadata": {},
   "outputs": [],
   "source": [
    "dset_idx <- 2\n",
    "save_res <- TRUE"
   ]
  },
  {
   "cell_type": "code",
   "execution_count": 4,
   "id": "unknown-slovenia",
   "metadata": {},
   "outputs": [
    {
     "name": "stderr",
     "output_type": "stream",
     "text": [
      "\n",
      "\u001b[36m--\u001b[39m \u001b[1m\u001b[1mColumn specification\u001b[1m\u001b[22m \u001b[36m------------------------------------------------------------------------------------------------------------------------\u001b[39m\n",
      "cols(\n",
      "  sample_name = \u001b[31mcol_character()\u001b[39m,\n",
      "  vital_status = \u001b[31mcol_character()\u001b[39m,\n",
      "  survival_time = \u001b[32mcol_double()\u001b[39m,\n",
      "  figo_stage = \u001b[31mcol_character()\u001b[39m,\n",
      "  days_to_last_follow_up = \u001b[32mcol_double()\u001b[39m,\n",
      "  days_to_death = \u001b[32mcol_double()\u001b[39m,\n",
      "  age_at_diagnosis = \u001b[32mcol_double()\u001b[39m,\n",
      "  age_at_index = \u001b[32mcol_double()\u001b[39m,\n",
      "  height = \u001b[32mcol_double()\u001b[39m,\n",
      "  weight = \u001b[32mcol_double()\u001b[39m,\n",
      "  bmi = \u001b[32mcol_double()\u001b[39m,\n",
      "  race = \u001b[31mcol_character()\u001b[39m,\n",
      "  ethnicity = \u001b[31mcol_character()\u001b[39m\n",
      ")\n",
      "\n",
      "\n",
      "\n",
      "\u001b[36m--\u001b[39m \u001b[1m\u001b[1mColumn specification\u001b[1m\u001b[22m \u001b[36m------------------------------------------------------------------------------------------------------------------------\u001b[39m\n",
      "cols(\n",
      "  .default = col_double(),\n",
      "  geneID = \u001b[31mcol_character()\u001b[39m\n",
      ")\n",
      "\u001b[36mi\u001b[39m Use \u001b[30m\u001b[47m\u001b[30m\u001b[47m`spec()`\u001b[47m\u001b[30m\u001b[49m\u001b[39m for the full column specifications.\n",
      "\n",
      "\n"
     ]
    }
   ],
   "source": [
    "survival_path <- paste0(dirs$data_dir, \"/\", unified_dsets[dset_idx], \"/survival_data.tsv\")\n",
    "survival_df <- load_survival_df(survival_path, event_code)\n",
    "\n",
    "# Load and filter survival data\n",
    "filtered_survival_df <- survival_df %>%\n",
    "    decode_figo_stage(to = \"c\") %>%\n",
    "    dplyr::select(sample_name, figo_stage) %>% # make sure using same samples as classification models\n",
    "    dplyr::filter(rowSums(is.na(.)) == 0) %>%\n",
    "    dplyr::select(sample_name, figo_stage)\n",
    "\n",
    "# Load normalized matrisome count data\n",
    "norm_matrisome_counts_path <- paste0(dirs$data_dir, \"/\", unified_dsets[dset_idx], \"/norm_matrisome_counts.tsv\")\n",
    "norm_survival_counts_t_df <- read_tsv(norm_matrisome_counts_path) %>%\n",
    "    dplyr::select(c(\"geneID\", filtered_survival_df$sample_name)) %>%\n",
    "    transpose_df(\"geneID\", \"sample_name\")\n",
    "\n",
    "# Combine survival data and normalized count data\n",
    "joined_df <- filtered_survival_df %>%\n",
    "    inner_join(norm_survival_counts_t_df, by = \"sample_name\")\n"
   ]
  },
  {
   "cell_type": "code",
   "execution_count": 5,
   "id": "amazing-guide",
   "metadata": {},
   "outputs": [],
   "source": [
    "y <- as.vector(joined_df$figo_stage)\n",
    "\n",
    "x <- as.matrix(\n",
    "    joined_df %>%\n",
    "        dplyr::select(-c(sample_name, figo_stage))\n",
    ")\n",
    "rownames(x) <- joined_df$sample_name"
   ]
  },
  {
   "cell_type": "code",
   "execution_count": 6,
   "id": "floral-tooth",
   "metadata": {},
   "outputs": [
    {
     "data": {
      "text/html": [
       "<table class=\"dataframe\">\n",
       "<caption>A grouped_df: 4 × 2</caption>\n",
       "<thead>\n",
       "\t<tr><th scope=col>figo_stage</th><th scope=col>n</th></tr>\n",
       "\t<tr><th scope=col>&lt;chr&gt;</th><th scope=col>&lt;int&gt;</th></tr>\n",
       "</thead>\n",
       "<tbody>\n",
       "\t<tr><td>figo_stage_1</td><td>17</td></tr>\n",
       "\t<tr><td>figo_stage_2</td><td> 5</td></tr>\n",
       "\t<tr><td>figo_stage_3</td><td>18</td></tr>\n",
       "\t<tr><td>figo_stage_4</td><td> 6</td></tr>\n",
       "</tbody>\n",
       "</table>\n"
      ],
      "text/latex": [
       "A grouped\\_df: 4 × 2\n",
       "\\begin{tabular}{ll}\n",
       " figo\\_stage & n\\\\\n",
       " <chr> & <int>\\\\\n",
       "\\hline\n",
       "\t figo\\_stage\\_1 & 17\\\\\n",
       "\t figo\\_stage\\_2 &  5\\\\\n",
       "\t figo\\_stage\\_3 & 18\\\\\n",
       "\t figo\\_stage\\_4 &  6\\\\\n",
       "\\end{tabular}\n"
      ],
      "text/markdown": [
       "\n",
       "A grouped_df: 4 × 2\n",
       "\n",
       "| figo_stage &lt;chr&gt; | n &lt;int&gt; |\n",
       "|---|---|\n",
       "| figo_stage_1 | 17 |\n",
       "| figo_stage_2 |  5 |\n",
       "| figo_stage_3 | 18 |\n",
       "| figo_stage_4 |  6 |\n",
       "\n"
      ],
      "text/plain": [
       "  figo_stage   n \n",
       "1 figo_stage_1 17\n",
       "2 figo_stage_2  5\n",
       "3 figo_stage_3 18\n",
       "4 figo_stage_4  6"
      ]
     },
     "metadata": {},
     "output_type": "display_data"
    }
   ],
   "source": [
    "joined_df %>%\n",
    "    group_by(figo_stage) %>%\n",
    "    count() \n",
    "ns <- joined_df %>%\n",
    "    group_by(figo_stage) %>%\n",
    "    count() %>%\n",
    "    pull(n)"
   ]
  },
  {
   "cell_type": "code",
   "execution_count": 7,
   "id": "tight-technician",
   "metadata": {},
   "outputs": [],
   "source": [
    "figo_weights = rep(0, length(y))\n",
    "# figo_weights[y == \"figo_stage_1\"] <- 1 - ns[1] / length(y)\n",
    "# figo_weights[y == \"figo_stage_2\"] <- 1 - ns[2] / length(y)\n",
    "# figo_weights[y == \"figo_stage_3\"] <- 1 - ns[3] / length(y)\n",
    "# figo_weights[y == \"figo_stage_4\"] <- 1 - ns[4] / length(y)\n",
    "\n",
    "figo_weights[y == \"figo_stage_1\"] <- length(y) / (4 * ns[1])\n",
    "figo_weights[y == \"figo_stage_2\"] <- length(y) / (4 * ns[2])\n",
    "figo_weights[y == \"figo_stage_3\"] <- length(y) / (4 * ns[3])\n",
    "figo_weights[y == \"figo_stage_4\"] <- length(y) / (4 * ns[4])"
   ]
  },
  {
   "cell_type": "code",
   "execution_count": 8,
   "id": "numerous-yeast",
   "metadata": {},
   "outputs": [
    {
     "name": "stderr",
     "output_type": "stream",
     "text": [
      "Warning message in lognet(xd, is.sparse, ix, jx, y, weights, offset, alpha, nobs, :\n",
      "\"one multinomial or binomial class has fewer than 8  observations; dangerous ground\"\n",
      "Warning message in lognet(xd, is.sparse, ix, jx, y, weights, offset, alpha, nobs, :\n",
      "\"one multinomial or binomial class has fewer than 8  observations; dangerous ground\"\n",
      "Warning message in lognet(xd, is.sparse, ix, jx, y, weights, offset, alpha, nobs, :\n",
      "\"one multinomial or binomial class has fewer than 8  observations; dangerous ground\"\n",
      "Warning message in lognet(xd, is.sparse, ix, jx, y, weights, offset, alpha, nobs, :\n",
      "\"one multinomial or binomial class has fewer than 8  observations; dangerous ground\"\n",
      "Warning message in lognet(xd, is.sparse, ix, jx, y, weights, offset, alpha, nobs, :\n",
      "\"one multinomial or binomial class has fewer than 8  observations; dangerous ground\"\n",
      "Warning message in lognet(xd, is.sparse, ix, jx, y, weights, offset, alpha, nobs, :\n",
      "\"one multinomial or binomial class has fewer than 8  observations; dangerous ground\"\n",
      "Warning message in lognet(xd, is.sparse, ix, jx, y, weights, offset, alpha, nobs, :\n",
      "\"one multinomial or binomial class has fewer than 8  observations; dangerous ground\"\n",
      "Warning message in lognet(xd, is.sparse, ix, jx, y, weights, offset, alpha, nobs, :\n",
      "\"one multinomial or binomial class has fewer than 8  observations; dangerous ground\"\n",
      "Warning message in lognet(xd, is.sparse, ix, jx, y, weights, offset, alpha, nobs, :\n",
      "\"one multinomial or binomial class has fewer than 8  observations; dangerous ground\"\n",
      "Warning message in lognet(xd, is.sparse, ix, jx, y, weights, offset, alpha, nobs, :\n",
      "\"one multinomial or binomial class has fewer than 8  observations; dangerous ground\"\n",
      "Warning message in lognet(xd, is.sparse, ix, jx, y, weights, offset, alpha, nobs, :\n",
      "\"one multinomial or binomial class has fewer than 8  observations; dangerous ground\"\n"
     ]
    }
   ],
   "source": [
    "set.seed(123)\n",
    "cv_mr_model <- cv.glmnet(\n",
    "    x, as.factor(y), family = \"multinomial\", alpha = 1,\n",
    "    nfolds = 10, weights = figo_weights, type.measure = \"class\",\n",
    "    type.multinomial = \"grouped\"\n",
    ")"
   ]
  },
  {
   "cell_type": "markdown",
   "id": "exterior-composer",
   "metadata": {},
   "source": [
    "## Model summary"
   ]
  },
  {
   "cell_type": "code",
   "execution_count": 9,
   "id": "silver-defeat",
   "metadata": {},
   "outputs": [
    {
     "data": {
      "text/plain": [
       "\n",
       "Call:  cv.glmnet(x = x, y = as.factor(y), weights = figo_weights, type.measure = \"class\",      nfolds = 10, family = \"multinomial\", alpha = 1, type.multinomial = \"grouped\") \n",
       "\n",
       "Measure: Misclassification Error \n",
       "\n",
       "     Lambda Index Measure      SE Nonzero\n",
       "min 0.01047    76  0.7637 0.04941      67\n",
       "1se 0.27162     6  0.8070 0.07147       6"
      ]
     },
     "metadata": {},
     "output_type": "display_data"
    },
    {
     "data": {
      "image/png": "[encoded data removed]",
      "text/plain": [
       "plot without title"
      ]
     },
     "metadata": {
      "image/png": {
       "height": 420,
       "width": 420
      }
     },
     "output_type": "display_data"
    }
   ],
   "source": [
    "cv_mr_model\n",
    "plot(cv_mr_model)"
   ]
  },
  {
   "cell_type": "code",
   "execution_count": 10,
   "id": "distinguished-rotation",
   "metadata": {},
   "outputs": [],
   "source": [
    "cv_min_idx <- cv_mr_model$index[\"min\",]\n",
    "# best cv performance\n",
    "cv_best_cvm <- cv_mr_model$cvm[cv_min_idx]\n",
    "# Std. error assoc. with best cv performance\n",
    "cv_best_se <- cv_mr_model$cvsd[cv_min_idx]\n",
    "\n",
    "mask_lambda <- cv_mr_model$lambda.min\n",
    "# mask_lambda_genes <- as.matrix(coef(cv_mr_model, s = mask_lambda))[, 1] != 0\n",
    "# subscript [-1, ...] is to skip the coefficient\n",
    "# Since we're using \"grouped\", coefficients are same for each level of figo stage\n",
    "mask_lambda_1 <- as.matrix(coef(cv_mr_model, s = mask_lambda)$figo_stage_1)[-1, 1] != 0\n",
    "# mask_lambda_2 <- as.matrix(coef(cv_mr_model, s = mask_lambda)$figo_stage_2)[-1, 1] != 0\n",
    "# mask_lambda_3 <- as.matrix(coef(cv_mr_model, s = mask_lambda)$figo_stage_3)[-1, 1] != 0\n",
    "# mask_lambda_4 <- as.matrix(coef(cv_mr_model, s = mask_lambda)$figo_stage_4)[-1, 1] != 0"
   ]
  },
  {
   "cell_type": "markdown",
   "id": "distinguished-liver",
   "metadata": {},
   "source": [
    "## Weighted baseline"
   ]
  },
  {
   "cell_type": "code",
   "execution_count": 18,
   "id": "fatal-immunology",
   "metadata": {},
   "outputs": [],
   "source": [
    "maj_class <- which.max(ns)"
   ]
  },
  {
   "cell_type": "code",
   "execution_count": 19,
   "id": "contrary-diameter",
   "metadata": {},
   "outputs": [],
   "source": [
    "weighted_baseline <- 1 - sum(figo_weights[y == paste0(\"figo_stage_\", maj_class)]) / sum(figo_weights)"
   ]
  },
  {
   "cell_type": "code",
   "execution_count": 21,
   "id": "standard-disorder",
   "metadata": {},
   "outputs": [
    {
     "data": {
      "text/html": [
       "0.75"
      ],
      "text/latex": [
       "0.75"
      ],
      "text/markdown": [
       "0.75"
      ],
      "text/plain": [
       "[1] 0.75"
      ]
     },
     "metadata": {},
     "output_type": "display_data"
    }
   ],
   "source": [
    "weighted_baseline"
   ]
  },
  {
   "cell_type": "code",
   "execution_count": 20,
   "id": "clinical-significance",
   "metadata": {},
   "outputs": [
    {
     "data": {
      "text/html": [
       "101.830065359477"
      ],
      "text/latex": [
       "101.830065359477"
      ],
      "text/markdown": [
       "101.830065359477"
      ],
      "text/plain": [
       "[1] 101.8301"
      ]
     },
     "metadata": {},
     "output_type": "display_data"
    }
   ],
   "source": [
    "cv_best_cvm / weighted_baseline * 100"
   ]
  },
  {
   "cell_type": "code",
   "execution_count": 13,
   "id": "political-recruitment",
   "metadata": {},
   "outputs": [],
   "source": [
    "important_gene_df <- tibble(geneID = colnames(x)[mask_lambda_1])\n",
    "# important_gene_df"
   ]
  },
  {
   "cell_type": "code",
   "execution_count": 14,
   "id": "standard-scheduling",
   "metadata": {},
   "outputs": [],
   "source": [
    "if (save_res) {\n",
    "    write_tsv(important_gene_df, paste0(dirs$analysis_dir, \"/feature_selection/\", unified_dsets[dset_idx], \"_en_multinom_results.tsv\"))\n",
    "}"
   ]
  }
 ],
 "metadata": {
  "kernelspec": {
   "display_name": "R",
   "language": "R",
   "name": "ir"
  },
  "language_info": {
   "codemirror_mode": "r",
   "file_extension": ".r",
   "mimetype": "text/x-r-source",
   "name": "R",
   "pygments_lexer": "r",
   "version": "4.0.3"
  }
 },
 "nbformat": 4,
 "nbformat_minor": 5
}
