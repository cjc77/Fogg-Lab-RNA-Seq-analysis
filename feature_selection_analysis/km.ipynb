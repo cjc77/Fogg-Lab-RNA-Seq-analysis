{
 "cells": [
  {
   "cell_type": "code",
   "execution_count": 2,
   "id": "spiritual-better",
   "metadata": {},
   "outputs": [],
   "source": [
    "library(tidyverse)\n",
    "library(survival)\n",
    "\n",
    "# Custom package\n",
    "library(rutils)\n",
    "\n",
    "# Define constants\n",
    "dirs <- rutils::get_dev_directories(dev_paths_file = \"../dev_paths.txt\")\n",
    "projects <- c(\"TCGA-CESC\", \"TCGA-UCS\", \"TCGA-UCEC\", \"TCGA-OV\")\n",
    "unified_dsets <- c(\"unified_cervical_data\", \"unified_uterine_data\", \"unified_uterine_endometrial_data\")\n",
    "matrisome_path <- paste0(dirs$data_dir, \"/matrisome/matrisome_hs_masterlist.tsv\")\n",
    "\n",
    "event_code <- list(\"Alive\" = 0, \"Dead\" = 1)\n",
    "covariate_cols <- c(\"figo_stage\", \"age_at_diagnosis\", \"race\", \"ethnicity\")\n",
    "dep_cols <- c(\"vital_status\", \"survival_time\")\n"
   ]
  },
  {
   "cell_type": "code",
   "execution_count": 3,
   "id": "specified-crime",
   "metadata": {},
   "outputs": [],
   "source": [
    "dset_idx <- 1"
   ]
  },
  {
   "cell_type": "code",
   "execution_count": 5,
   "id": "robust-forest",
   "metadata": {},
   "outputs": [
    {
     "name": "stderr",
     "output_type": "stream",
     "text": [
      "\n",
      "\u001b[36m--\u001b[39m \u001b[1m\u001b[1mColumn specification\u001b[1m\u001b[22m \u001b[36m----------------------------------------------------------------------------------------------\u001b[39m\n",
      "cols(\n",
      "  sample_name = \u001b[31mcol_character()\u001b[39m,\n",
      "  vital_status = \u001b[31mcol_character()\u001b[39m,\n",
      "  survival_time = \u001b[32mcol_double()\u001b[39m,\n",
      "  figo_stage = \u001b[31mcol_character()\u001b[39m,\n",
      "  days_to_last_follow_up = \u001b[32mcol_double()\u001b[39m,\n",
      "  days_to_death = \u001b[32mcol_double()\u001b[39m,\n",
      "  age_at_diagnosis = \u001b[32mcol_double()\u001b[39m,\n",
      "  age_at_index = \u001b[32mcol_double()\u001b[39m,\n",
      "  height = \u001b[32mcol_double()\u001b[39m,\n",
      "  weight = \u001b[32mcol_double()\u001b[39m,\n",
      "  bmi = \u001b[32mcol_double()\u001b[39m,\n",
      "  race = \u001b[31mcol_character()\u001b[39m,\n",
      "  ethnicity = \u001b[31mcol_character()\u001b[39m\n",
      ")\n",
      "\n",
      "\n",
      "\n",
      "\u001b[36m--\u001b[39m \u001b[1m\u001b[1mColumn specification\u001b[1m\u001b[22m \u001b[36m----------------------------------------------------------------------------------------------\u001b[39m\n",
      "cols(\n",
      "  .default = col_double(),\n",
      "  geneID = \u001b[31mcol_character()\u001b[39m\n",
      ")\n",
      "\u001b[36mi\u001b[39m Use \u001b[30m\u001b[47m\u001b[30m\u001b[47m`spec()`\u001b[47m\u001b[30m\u001b[49m\u001b[39m for the full column specifications.\n",
      "\n",
      "\n"
     ]
    }
   ],
   "source": [
    "# Load and filter survival data\n",
    "survival_path <- paste0(dirs$data_dir, \"/\", unified_dsets[dset_idx], \"/survival_data.tsv\")\n",
    "survival_df <- load_survival_df(survival_path, event_code)\n",
    "\n",
    "filtered_survival_df <- survival_df %>%\n",
    "    decode_figo_stage(to = \"c\") %>%\n",
    "    dplyr::select(one_of(c(\"sample_name\", dep_cols, covariate_cols))) %>%\n",
    "    dplyr::filter(rowSums(is.na(.)) == 0)\n",
    "\n",
    "# Load normalized matrisome count data\n",
    "norm_matrisome_counts_df <- read_tsv(paste0(dirs$data_dir, \"/\", unified_dsets[dset_idx], \"/norm_matrisome_counts.tsv\"))\n",
    "norm_matrisome_counts_t_df <- norm_matrisome_counts_df %>%\n",
    "    dplyr::select(c(\"geneID\", filtered_survival_df$sample_name)) %>%\n",
    "    transpose_df(\"geneID\", \"sample_name\")\n",
    "# Combine survival data and normalized count data\n",
    "joined_survival_counts_df <- filtered_survival_df %>%\n",
    "    inner_join(norm_matrisome_counts_t_df, by = \"sample_name\")\n"
   ]
  },
  {
   "cell_type": "code",
   "execution_count": 8,
   "id": "outdoor-lithuania",
   "metadata": {},
   "outputs": [
    {
     "data": {
      "text/html": [
       "<table class=\"dataframe\">\n",
       "<caption>A tibble: 6 × 1015</caption>\n",
       "<thead>\n",
       "\t<tr><th scope=col>sample_name</th><th scope=col>vital_status</th><th scope=col>survival_time</th><th scope=col>figo_stage</th><th scope=col>age_at_diagnosis</th><th scope=col>race</th><th scope=col>ethnicity</th><th scope=col>PGF</th><th scope=col>TIMP4</th><th scope=col>C1QTNF6</th><th scope=col>⋯</th><th scope=col>PIK3IP1</th><th scope=col>C1QTNF2</th><th scope=col>PCSK5</th><th scope=col>ANXA1</th><th scope=col>HGF</th><th scope=col>VWA2</th><th scope=col>FGF3</th><th scope=col>POSTN</th><th scope=col>NTF3</th><th scope=col>S100A6</th></tr>\n",
       "\t<tr><th scope=col>&lt;chr&gt;</th><th scope=col>&lt;dbl&gt;</th><th scope=col>&lt;dbl&gt;</th><th scope=col>&lt;chr&gt;</th><th scope=col>&lt;dbl&gt;</th><th scope=col>&lt;chr&gt;</th><th scope=col>&lt;chr&gt;</th><th scope=col>&lt;dbl&gt;</th><th scope=col>&lt;dbl&gt;</th><th scope=col>&lt;dbl&gt;</th><th scope=col>⋯</th><th scope=col>&lt;dbl&gt;</th><th scope=col>&lt;dbl&gt;</th><th scope=col>&lt;dbl&gt;</th><th scope=col>&lt;dbl&gt;</th><th scope=col>&lt;dbl&gt;</th><th scope=col>&lt;dbl&gt;</th><th scope=col>&lt;dbl&gt;</th><th scope=col>&lt;dbl&gt;</th><th scope=col>&lt;dbl&gt;</th><th scope=col>&lt;dbl&gt;</th></tr>\n",
       "</thead>\n",
       "<tbody>\n",
       "\t<tr><td>TCGA-C5-A1BF-01B-11R-A13Y-07</td><td>1</td><td> 570</td><td>figo_stage_1</td><td>16975</td><td>white</td><td>not reported          </td><td>10.800637</td><td>6.228003</td><td>11.669331</td><td>⋯</td><td> 9.013453</td><td>8.190325</td><td> 9.503647</td><td>14.07799</td><td> 6.569726</td><td>7.315604</td><td>4.602649</td><td>12.062300</td><td>5.649441</td><td>16.55841</td></tr>\n",
       "\t<tr><td>TCGA-MU-A51Y-01A-11R-A26T-07</td><td>0</td><td> 854</td><td>figo_stage_2</td><td>10199</td><td>white</td><td>not reported          </td><td> 8.451001</td><td>5.851272</td><td>10.079584</td><td>⋯</td><td>12.208410</td><td>8.172899</td><td>10.515388</td><td>16.88600</td><td> 7.384140</td><td>7.366949</td><td>4.890169</td><td>11.011959</td><td>5.406776</td><td>14.76108</td></tr>\n",
       "\t<tr><td>TCGA-EK-A2RM-01A-21R-A18M-07</td><td>0</td><td>  50</td><td>figo_stage_1</td><td>14842</td><td>white</td><td>not hispanic or latino</td><td> 9.674879</td><td>7.277164</td><td>10.712783</td><td>⋯</td><td>10.854224</td><td>6.581217</td><td> 8.437154</td><td>15.81626</td><td> 7.644559</td><td>6.406766</td><td>4.998296</td><td>11.731128</td><td>6.028879</td><td>17.11959</td></tr>\n",
       "\t<tr><td>TCGA-Q1-A73P-01A-11R-A32P-07</td><td>0</td><td> 483</td><td>figo_stage_1</td><td>16450</td><td>white</td><td>not hispanic or latino</td><td> 8.036801</td><td>5.247645</td><td> 9.894159</td><td>⋯</td><td>10.854487</td><td>5.629541</td><td> 9.602922</td><td>14.17475</td><td> 6.987468</td><td>6.731154</td><td>4.602649</td><td> 9.293089</td><td>4.893018</td><td>16.64949</td></tr>\n",
       "\t<tr><td>TCGA-C5-A8YT-01A-11R-A37O-07</td><td>1</td><td> 633</td><td>figo_stage_1</td><td>13253</td><td>white</td><td>not hispanic or latino</td><td> 7.830611</td><td>5.733875</td><td>12.445548</td><td>⋯</td><td> 9.453187</td><td>6.398956</td><td>12.288955</td><td>13.39633</td><td>10.228758</td><td>8.542025</td><td>4.602649</td><td>11.765396</td><td>5.318924</td><td>13.55632</td></tr>\n",
       "\t<tr><td>TCGA-C5-A2LZ-01A-11R-A213-07</td><td>1</td><td>3046</td><td>figo_stage_3</td><td>24059</td><td>white</td><td>not hispanic or latino</td><td>10.135550</td><td>4.865349</td><td> 8.566221</td><td>⋯</td><td>11.492135</td><td>7.426145</td><td> 9.480199</td><td>15.92715</td><td> 6.010764</td><td>7.405245</td><td>4.602649</td><td> 7.506731</td><td>5.423416</td><td>14.73802</td></tr>\n",
       "</tbody>\n",
       "</table>\n"
      ],
      "text/latex": [
       "A tibble: 6 × 1015\n",
       "\\begin{tabular}{lllllllllllllllllllll}\n",
       " sample\\_name & vital\\_status & survival\\_time & figo\\_stage & age\\_at\\_diagnosis & race & ethnicity & PGF & TIMP4 & C1QTNF6 & ⋯ & PIK3IP1 & C1QTNF2 & PCSK5 & ANXA1 & HGF & VWA2 & FGF3 & POSTN & NTF3 & S100A6\\\\\n",
       " <chr> & <dbl> & <dbl> & <chr> & <dbl> & <chr> & <chr> & <dbl> & <dbl> & <dbl> & ⋯ & <dbl> & <dbl> & <dbl> & <dbl> & <dbl> & <dbl> & <dbl> & <dbl> & <dbl> & <dbl>\\\\\n",
       "\\hline\n",
       "\t TCGA-C5-A1BF-01B-11R-A13Y-07 & 1 &  570 & figo\\_stage\\_1 & 16975 & white & not reported           & 10.800637 & 6.228003 & 11.669331 & ⋯ &  9.013453 & 8.190325 &  9.503647 & 14.07799 &  6.569726 & 7.315604 & 4.602649 & 12.062300 & 5.649441 & 16.55841\\\\\n",
       "\t TCGA-MU-A51Y-01A-11R-A26T-07 & 0 &  854 & figo\\_stage\\_2 & 10199 & white & not reported           &  8.451001 & 5.851272 & 10.079584 & ⋯ & 12.208410 & 8.172899 & 10.515388 & 16.88600 &  7.384140 & 7.366949 & 4.890169 & 11.011959 & 5.406776 & 14.76108\\\\\n",
       "\t TCGA-EK-A2RM-01A-21R-A18M-07 & 0 &   50 & figo\\_stage\\_1 & 14842 & white & not hispanic or latino &  9.674879 & 7.277164 & 10.712783 & ⋯ & 10.854224 & 6.581217 &  8.437154 & 15.81626 &  7.644559 & 6.406766 & 4.998296 & 11.731128 & 6.028879 & 17.11959\\\\\n",
       "\t TCGA-Q1-A73P-01A-11R-A32P-07 & 0 &  483 & figo\\_stage\\_1 & 16450 & white & not hispanic or latino &  8.036801 & 5.247645 &  9.894159 & ⋯ & 10.854487 & 5.629541 &  9.602922 & 14.17475 &  6.987468 & 6.731154 & 4.602649 &  9.293089 & 4.893018 & 16.64949\\\\\n",
       "\t TCGA-C5-A8YT-01A-11R-A37O-07 & 1 &  633 & figo\\_stage\\_1 & 13253 & white & not hispanic or latino &  7.830611 & 5.733875 & 12.445548 & ⋯ &  9.453187 & 6.398956 & 12.288955 & 13.39633 & 10.228758 & 8.542025 & 4.602649 & 11.765396 & 5.318924 & 13.55632\\\\\n",
       "\t TCGA-C5-A2LZ-01A-11R-A213-07 & 1 & 3046 & figo\\_stage\\_3 & 24059 & white & not hispanic or latino & 10.135550 & 4.865349 &  8.566221 & ⋯ & 11.492135 & 7.426145 &  9.480199 & 15.92715 &  6.010764 & 7.405245 & 4.602649 &  7.506731 & 5.423416 & 14.73802\\\\\n",
       "\\end{tabular}\n"
      ],
      "text/markdown": [
       "\n",
       "A tibble: 6 × 1015\n",
       "\n",
       "| sample_name &lt;chr&gt; | vital_status &lt;dbl&gt; | survival_time &lt;dbl&gt; | figo_stage &lt;chr&gt; | age_at_diagnosis &lt;dbl&gt; | race &lt;chr&gt; | ethnicity &lt;chr&gt; | PGF &lt;dbl&gt; | TIMP4 &lt;dbl&gt; | C1QTNF6 &lt;dbl&gt; | ⋯ ⋯ | PIK3IP1 &lt;dbl&gt; | C1QTNF2 &lt;dbl&gt; | PCSK5 &lt;dbl&gt; | ANXA1 &lt;dbl&gt; | HGF &lt;dbl&gt; | VWA2 &lt;dbl&gt; | FGF3 &lt;dbl&gt; | POSTN &lt;dbl&gt; | NTF3 &lt;dbl&gt; | S100A6 &lt;dbl&gt; |\n",
       "|---|---|---|---|---|---|---|---|---|---|---|---|---|---|---|---|---|---|---|---|---|\n",
       "| TCGA-C5-A1BF-01B-11R-A13Y-07 | 1 |  570 | figo_stage_1 | 16975 | white | not reported           | 10.800637 | 6.228003 | 11.669331 | ⋯ |  9.013453 | 8.190325 |  9.503647 | 14.07799 |  6.569726 | 7.315604 | 4.602649 | 12.062300 | 5.649441 | 16.55841 |\n",
       "| TCGA-MU-A51Y-01A-11R-A26T-07 | 0 |  854 | figo_stage_2 | 10199 | white | not reported           |  8.451001 | 5.851272 | 10.079584 | ⋯ | 12.208410 | 8.172899 | 10.515388 | 16.88600 |  7.384140 | 7.366949 | 4.890169 | 11.011959 | 5.406776 | 14.76108 |\n",
       "| TCGA-EK-A2RM-01A-21R-A18M-07 | 0 |   50 | figo_stage_1 | 14842 | white | not hispanic or latino |  9.674879 | 7.277164 | 10.712783 | ⋯ | 10.854224 | 6.581217 |  8.437154 | 15.81626 |  7.644559 | 6.406766 | 4.998296 | 11.731128 | 6.028879 | 17.11959 |\n",
       "| TCGA-Q1-A73P-01A-11R-A32P-07 | 0 |  483 | figo_stage_1 | 16450 | white | not hispanic or latino |  8.036801 | 5.247645 |  9.894159 | ⋯ | 10.854487 | 5.629541 |  9.602922 | 14.17475 |  6.987468 | 6.731154 | 4.602649 |  9.293089 | 4.893018 | 16.64949 |\n",
       "| TCGA-C5-A8YT-01A-11R-A37O-07 | 1 |  633 | figo_stage_1 | 13253 | white | not hispanic or latino |  7.830611 | 5.733875 | 12.445548 | ⋯ |  9.453187 | 6.398956 | 12.288955 | 13.39633 | 10.228758 | 8.542025 | 4.602649 | 11.765396 | 5.318924 | 13.55632 |\n",
       "| TCGA-C5-A2LZ-01A-11R-A213-07 | 1 | 3046 | figo_stage_3 | 24059 | white | not hispanic or latino | 10.135550 | 4.865349 |  8.566221 | ⋯ | 11.492135 | 7.426145 |  9.480199 | 15.92715 |  6.010764 | 7.405245 | 4.602649 |  7.506731 | 5.423416 | 14.73802 |\n",
       "\n"
      ],
      "text/plain": [
       "  sample_name                  vital_status survival_time figo_stage  \n",
       "1 TCGA-C5-A1BF-01B-11R-A13Y-07 1             570          figo_stage_1\n",
       "2 TCGA-MU-A51Y-01A-11R-A26T-07 0             854          figo_stage_2\n",
       "3 TCGA-EK-A2RM-01A-21R-A18M-07 0              50          figo_stage_1\n",
       "4 TCGA-Q1-A73P-01A-11R-A32P-07 0             483          figo_stage_1\n",
       "5 TCGA-C5-A8YT-01A-11R-A37O-07 1             633          figo_stage_1\n",
       "6 TCGA-C5-A2LZ-01A-11R-A213-07 1            3046          figo_stage_3\n",
       "  age_at_diagnosis race  ethnicity              PGF       TIMP4    C1QTNF6  \n",
       "1 16975            white not reported           10.800637 6.228003 11.669331\n",
       "2 10199            white not reported            8.451001 5.851272 10.079584\n",
       "3 14842            white not hispanic or latino  9.674879 7.277164 10.712783\n",
       "4 16450            white not hispanic or latino  8.036801 5.247645  9.894159\n",
       "5 13253            white not hispanic or latino  7.830611 5.733875 12.445548\n",
       "6 24059            white not hispanic or latino 10.135550 4.865349  8.566221\n",
       "  <U+22EF>   PIK3IP1   C1QTNF2  PCSK5     ANXA1    HGF       VWA2     FGF3    \n",
       "1 <U+22EF>  9.013453 8.190325  9.503647 14.07799  6.569726 7.315604 4.602649\n",
       "2 <U+22EF> 12.208410 8.172899 10.515388 16.88600  7.384140 7.366949 4.890169\n",
       "3 <U+22EF> 10.854224 6.581217  8.437154 15.81626  7.644559 6.406766 4.998296\n",
       "4 <U+22EF> 10.854487 5.629541  9.602922 14.17475  6.987468 6.731154 4.602649\n",
       "5 <U+22EF>  9.453187 6.398956 12.288955 13.39633 10.228758 8.542025 4.602649\n",
       "6 <U+22EF> 11.492135 7.426145  9.480199 15.92715  6.010764 7.405245 4.602649\n",
       "  POSTN     NTF3     S100A6  \n",
       "1 12.062300 5.649441 16.55841\n",
       "2 11.011959 5.406776 14.76108\n",
       "3 11.731128 6.028879 17.11959\n",
       "4  9.293089 4.893018 16.64949\n",
       "5 11.765396 5.318924 13.55632\n",
       "6  7.506731 5.423416 14.73802"
      ]
     },
     "metadata": {},
     "output_type": "display_data"
    }
   ],
   "source": [
    "head(joined_survival_counts_df)"
   ]
  },
  {
   "cell_type": "code",
   "execution_count": 87,
   "id": "applicable-conservative",
   "metadata": {},
   "outputs": [],
   "source": [
    "get_high_low <- function(df, col_str, center) {\n",
    "    col = as.name(col_str)\n",
    "    df %>%\n",
    "        mutate(high = !!col > 1.1 * center(!!col), \"high_low\" = ifelse(high == TRUE, \"high\", \"low\")) %>%\n",
    "        select(-high)\n",
    "}"
   ]
  },
  {
   "cell_type": "code",
   "execution_count": 92,
   "id": "overhead-immunology",
   "metadata": {},
   "outputs": [],
   "source": [
    "col_i = \"HRNR\"\n",
    "simp_survival_df <- joined_survival_counts_df %>%\n",
    "    select(sample_name, vital_status, survival_time, !!as.name(col_i))\n",
    "simp_survival_df <- get_high_low(simp_survival_df, col_i, mean)\n",
    "# simp_survival_df"
   ]
  },
  {
   "cell_type": "code",
   "execution_count": 93,
   "id": "ruled-argument",
   "metadata": {},
   "outputs": [],
   "source": [
    "km_formula_str <- paste0(\"Surv(survival_time, vital_status) ~ \", \"high_low\")\n",
    "km_formula <- as.formula(km_formula_str)"
   ]
  },
  {
   "cell_type": "code",
   "execution_count": 94,
   "id": "bored-harrison",
   "metadata": {},
   "outputs": [
    {
     "data": {
      "text/plain": [
       "Call:\n",
       "survdiff(formula = km_formula, data = simp_survival_df)\n",
       "\n",
       "                N Observed Expected (O-E)^2/E (O-E)^2/V\n",
       "high_low=high  54       13     16.4     0.697     0.939\n",
       "high_low=low  201       53     49.6     0.230     0.939\n",
       "\n",
       " Chisq= 0.9  on 1 degrees of freedom, p= 0.3 "
      ]
     },
     "metadata": {},
     "output_type": "display_data"
    }
   ],
   "source": [
    "survdiff(km_formula, data = simp_survival_df)"
   ]
  }
 ],
 "metadata": {
  "kernelspec": {
   "display_name": "R",
   "language": "R",
   "name": "ir"
  },
  "language_info": {
   "codemirror_mode": "r",
   "file_extension": ".r",
   "mimetype": "text/x-r-source",
   "name": "R",
   "pygments_lexer": "r",
   "version": "4.0.3"
  }
 },
 "nbformat": 4,
 "nbformat_minor": 5
}
