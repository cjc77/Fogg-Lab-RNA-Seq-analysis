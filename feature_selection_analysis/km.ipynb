{
 "cells": [
  {
   "cell_type": "code",
   "execution_count": 1,
   "id": "employed-spell",
   "metadata": {
    "collapsed": true,
    "jupyter": {
     "outputs_hidden": true
    }
   },
   "outputs": [
    {
     "name": "stderr",
     "output_type": "stream",
     "text": [
      "-- \u001b[1mAttaching packages\u001b[22m ------------------------------------------------------------------------------- tidyverse 1.3.0 --\n",
      "\n",
      "\u001b[32mv\u001b[39m \u001b[34mggplot2\u001b[39m 3.3.3     \u001b[32mv\u001b[39m \u001b[34mpurrr  \u001b[39m 0.3.4\n",
      "\u001b[32mv\u001b[39m \u001b[34mtibble \u001b[39m 3.0.6     \u001b[32mv\u001b[39m \u001b[34mdplyr  \u001b[39m 1.0.4\n",
      "\u001b[32mv\u001b[39m \u001b[34mtidyr  \u001b[39m 1.1.2     \u001b[32mv\u001b[39m \u001b[34mstringr\u001b[39m 1.4.0\n",
      "\u001b[32mv\u001b[39m \u001b[34mreadr  \u001b[39m 1.4.0     \u001b[32mv\u001b[39m \u001b[34mforcats\u001b[39m 0.5.1\n",
      "\n",
      "-- \u001b[1mConflicts\u001b[22m ---------------------------------------------------------------------------------- tidyverse_conflicts() --\n",
      "\u001b[31mx\u001b[39m \u001b[34mdplyr\u001b[39m::\u001b[32mfilter()\u001b[39m masks \u001b[34mstats\u001b[39m::filter()\n",
      "\u001b[31mx\u001b[39m \u001b[34mdplyr\u001b[39m::\u001b[32mlag()\u001b[39m    masks \u001b[34mstats\u001b[39m::lag()\n",
      "\n",
      "Loading required package: ggpubr\n",
      "\n",
      "Loading required package: dynamicTreeCut\n",
      "\n",
      "Loading required package: fastcluster\n",
      "\n",
      "\n",
      "Attaching package: 'fastcluster'\n",
      "\n",
      "\n",
      "The following object is masked from 'package:stats':\n",
      "\n",
      "    hclust\n",
      "\n",
      "\n",
      "\n",
      "\n",
      "\n",
      "Attaching package: 'WGCNA'\n",
      "\n",
      "\n",
      "The following object is masked from 'package:stats':\n",
      "\n",
      "    cor\n",
      "\n",
      "\n"
     ]
    }
   ],
   "source": [
    "library(tidyverse)\n",
    "library(survival)\n",
    "library(survminer)\n",
    "library(WGCNA)\n",
    "\n",
    "# Custom package\n",
    "library(rutils)\n",
    "\n",
    "# Define constants\n",
    "dirs <- rutils::get_dev_directories(dev_paths_file = \"../dev_paths.txt\")\n",
    "projects <- c(\"TCGA-CESC\", \"TCGA-UCS\", \"TCGA-UCEC\", \"TCGA-OV\")\n",
    "unified_dsets <- c(\"unified_cervical_data\", \"unified_uterine_data\", \"unified_uterine_endometrial_data\")\n",
    "matrisome_path <- paste0(dirs$data_dir, \"/matrisome/matrisome_hs_masterlist.tsv\")\n",
    "\n",
    "event_code <- list(\"Alive\" = 0, \"Dead\" = 1)\n",
    "# covariate_cols <- c(\"figo_stage\", \"age_at_diagnosis\", \"race\", \"ethnicity\")\n",
    "dep_cols <- c(\"vital_status\", \"survival_time\")"
   ]
  },
  {
   "cell_type": "code",
   "execution_count": 2,
   "id": "caroline-marketplace",
   "metadata": {},
   "outputs": [],
   "source": [
    "dset_idx <- 1"
   ]
  },
  {
   "cell_type": "code",
   "execution_count": 3,
   "id": "prerequisite-northeast",
   "metadata": {
    "collapsed": true,
    "jupyter": {
     "outputs_hidden": true
    }
   },
   "outputs": [
    {
     "name": "stderr",
     "output_type": "stream",
     "text": [
      "\n",
      "\u001b[36m--\u001b[39m \u001b[1m\u001b[1mColumn specification\u001b[1m\u001b[22m \u001b[36m------------------------------------------------------------------------------------------------\u001b[39m\n",
      "cols(\n",
      "  sample_name = \u001b[31mcol_character()\u001b[39m,\n",
      "  vital_status = \u001b[31mcol_character()\u001b[39m,\n",
      "  survival_time = \u001b[32mcol_double()\u001b[39m,\n",
      "  figo_stage = \u001b[31mcol_character()\u001b[39m,\n",
      "  days_to_last_follow_up = \u001b[32mcol_double()\u001b[39m,\n",
      "  days_to_death = \u001b[32mcol_double()\u001b[39m,\n",
      "  age_at_diagnosis = \u001b[32mcol_double()\u001b[39m,\n",
      "  age_at_index = \u001b[32mcol_double()\u001b[39m,\n",
      "  height = \u001b[32mcol_double()\u001b[39m,\n",
      "  weight = \u001b[32mcol_double()\u001b[39m,\n",
      "  bmi = \u001b[32mcol_double()\u001b[39m,\n",
      "  race = \u001b[31mcol_character()\u001b[39m,\n",
      "  ethnicity = \u001b[31mcol_character()\u001b[39m\n",
      ")\n",
      "\n",
      "\n",
      "\n",
      "\u001b[36m--\u001b[39m \u001b[1m\u001b[1mColumn specification\u001b[1m\u001b[22m \u001b[36m------------------------------------------------------------------------------------------------\u001b[39m\n",
      "cols(\n",
      "  geneID = \u001b[31mcol_character()\u001b[39m,\n",
      "  cutoff = \u001b[32mcol_double()\u001b[39m\n",
      ")\n",
      "\n",
      "\n",
      "\n",
      "\u001b[36m--\u001b[39m \u001b[1m\u001b[1mColumn specification\u001b[1m\u001b[22m \u001b[36m------------------------------------------------------------------------------------------------\u001b[39m\n",
      "cols(\n",
      "  .default = col_double(),\n",
      "  geneID = \u001b[31mcol_character()\u001b[39m\n",
      ")\n",
      "\u001b[36mi\u001b[39m Use \u001b[30m\u001b[47m\u001b[30m\u001b[47m`spec()`\u001b[47m\u001b[30m\u001b[49m\u001b[39m for the full column specifications.\n",
      "\n",
      "\n"
     ]
    }
   ],
   "source": [
    "# Load and filter survival data\n",
    "survival_path <- paste0(dirs$data_dir, \"/\", unified_dsets[dset_idx], \"/survival_data.tsv\")\n",
    "survival_df <- load_survival_df(survival_path, event_code)\n",
    "umsmg_demg_list <- read_lines(paste0(dirs$analysis_dir, \"/gene_lists/\", unified_dsets[dset_idx], \"_umsmg_demg_list.txt\"))\n",
    "cutoff_df <- read_tsv(paste0(dirs$analysis_dir, \"/survival/\", unified_dsets[dset_idx], \"_expression_cutoffs.tsv\"))\n",
    "\n",
    "filtered_survival_df <- survival_df %>%\n",
    "#     decode_figo_stage(to = \"c\") %>%\n",
    "#     dplyr::select(one_of(c(\"sample_name\", dep_cols, covariate_cols))) %>%\n",
    "    dplyr::select(one_of(c(\"sample_name\", dep_cols))) %>%\n",
    "    dplyr::filter(rowSums(is.na(.)) == 0)\n",
    "\n",
    "# Load normalized matrisome count data\n",
    "norm_matrisome_counts_df <- read_tsv(paste0(dirs$data_dir, \"/\", unified_dsets[dset_idx], \"/norm_matrisome_counts.tsv\"))\n",
    "norm_matrisome_counts_t_df <- norm_matrisome_counts_df %>%\n",
    "    dplyr::select(c(\"geneID\", filtered_survival_df$sample_name)) %>%\n",
    "    transpose_df(\"geneID\", \"sample_name\")\n",
    "# Combine survival data and normalized count data\n",
    "filtered_joined_df <- filtered_survival_df %>%\n",
    "    inner_join(norm_matrisome_counts_t_df, by = \"sample_name\") %>%\n",
    "    select(one_of(\"sample_name\", \"vital_status\", \"survival_time\", umsmg_demg_list))"
   ]
  },
  {
   "cell_type": "code",
   "execution_count": 4,
   "id": "painted-negative",
   "metadata": {},
   "outputs": [],
   "source": [
    "get_high_low <- function(df, col_str, cutoff) {\n",
    "    col = as.name(col_str)\n",
    "    df %>%\n",
    "        mutate(high = !!col > cutoff, \"high_low\" = ifelse(high == TRUE, \"high\", \"low\")) %>%\n",
    "        select(-high)\n",
    "}\n",
    "\n",
    "test_all_genes_km <- function(count_df, cutoff_df, gene_names) {\n",
    "    n_genes <- length(gene_names)\n",
    "    pvals <- rep(1, n_genes)\n",
    "    for (i in seq_len(n_genes)) {\n",
    "        gene_i <- gene_names[i]\n",
    "        simp_df <- count_df %>%\n",
    "            select(sample_name, vital_status, survival_time, !!as.name(gene_i))\n",
    "        cutoff <- cutoff_df %>%\n",
    "            filter(geneID == gene_i) %>%\n",
    "            pull(cutoff)\n",
    "        simp_df <- get_high_low(simp_df, gene_i, cutoff)\n",
    "        km_fit <- survfit(Surv(survival_time, vital_status) ~ high_low, type = \"kaplan-meier\", data = simp_df)\n",
    "        km_diff <- survdiff(Surv(survival_time, vital_status) ~ high_low, data = simp_df)\n",
    "        pvals[i] <- pchisq(km_diff$chisq, length(km_diff$n) - 1, lower.tail = FALSE)\n",
    "    }\n",
    "    tibble(geneID = gene_names, km_pval = pvals, km_qval = WGCNA::qvalue(km_pval)$qvalues)\n",
    "}\n",
    "\n",
    "test_all_genes_cph <- function(count_df, gene_names) {\n",
    "    n_genes <- length(gene_names)\n",
    "    pvals <- rep(1, n_genes)\n",
    "    for (i in seq_len(n_genes)) {\n",
    "        gene_i <- gene_names[i]\n",
    "        cph_fit <- coxph(as.formula(paste0(\"Surv(survival_time, vital_status) ~ \", gene_i)), data = count_df)\n",
    "        pvals[i] <- summary(cph_fit)$logtest[\"pvalue\"]\n",
    "    }\n",
    "    tibble(geneID = gene_names, cph_pval = pvals, cph_qval = WGCNA::qvalue(cph_pval)$qvalues)\n",
    "}"
   ]
  },
  {
   "cell_type": "code",
   "execution_count": 5,
   "id": "pharmaceutical-wallet",
   "metadata": {},
   "outputs": [
    {
     "name": "stderr",
     "output_type": "stream",
     "text": [
      "Warning message in fitter(X, Y, istrat, offset, init, control, weights = weights, :\n",
      "\"Loglik converged before variable  1 ; coefficient may be infinite. \"\n"
     ]
    }
   ],
   "source": [
    "gene_names <- colnames(filtered_joined_df)[-(1:3)]\n",
    "km_df <- test_all_genes_km(filtered_joined_df, cutoff_df, gene_names)\n",
    "cph_df <- test_all_genes_cph(filtered_joined_df, gene_names)\n",
    "joined_surv_df <- km_df %>%\n",
    "    inner_join(cph_df, by = \"geneID\")"
   ]
  },
  {
   "cell_type": "code",
   "execution_count": 6,
   "id": "handled-perception",
   "metadata": {},
   "outputs": [
    {
     "data": {
      "text/html": [
       "<table class=\"dataframe\">\n",
       "<caption>A tibble: 12 × 5</caption>\n",
       "<thead>\n",
       "\t<tr><th scope=col>geneID</th><th scope=col>km_pval</th><th scope=col>km_qval</th><th scope=col>cph_pval</th><th scope=col>cph_qval</th></tr>\n",
       "\t<tr><th scope=col>&lt;chr&gt;</th><th scope=col>&lt;dbl&gt;</th><th scope=col>&lt;dbl&gt;</th><th scope=col>&lt;dbl&gt;</th><th scope=col>&lt;dbl&gt;</th></tr>\n",
       "</thead>\n",
       "<tbody>\n",
       "\t<tr><td>PRL     </td><td>0.030190785</td><td>0.3282728</td><td>0.093182843</td><td>0.2567660</td></tr>\n",
       "\t<tr><td>CCL7    </td><td>0.029842608</td><td>0.3282728</td><td>0.084488439</td><td>0.2567660</td></tr>\n",
       "\t<tr><td>REG3A   </td><td>0.048818537</td><td>0.3317609</td><td>0.007443063</td><td>0.1431721</td></tr>\n",
       "\t<tr><td>PCOLCE2 </td><td>0.087378566</td><td>0.4568378</td><td>0.040945530</td><td>0.2028634</td></tr>\n",
       "\t<tr><td>COL6A5  </td><td>0.004378179</td><td>0.2380257</td><td>0.021296912</td><td>0.1564901</td></tr>\n",
       "\t<tr><td>TNFSF11 </td><td>0.171469936</td><td>0.4568378</td><td>0.041411854</td><td>0.2028634</td></tr>\n",
       "\t<tr><td>ANGPTL2 </td><td>0.016428826</td><td>0.2977253</td><td>0.003721132</td><td>0.1431721</td></tr>\n",
       "\t<tr><td>SERPIND1</td><td>0.135949522</td><td>0.4568378</td><td>0.012989630</td><td>0.1431721</td></tr>\n",
       "\t<tr><td>SERPINA3</td><td>0.040719767</td><td>0.3317609</td><td>0.466935790</td><td>0.4728980</td></tr>\n",
       "\t<tr><td>LGI2    </td><td>0.010475725</td><td>0.2847636</td><td>0.018170458</td><td>0.1564901</td></tr>\n",
       "\t<tr><td>FGF19   </td><td>0.176461854</td><td>0.4568378</td><td>0.025544931</td><td>0.1608897</td></tr>\n",
       "\t<tr><td>COL5A3  </td><td>0.042847215</td><td>0.3317609</td><td>0.012346876</td><td>0.1431721</td></tr>\n",
       "</tbody>\n",
       "</table>\n"
      ],
      "text/latex": [
       "A tibble: 12 × 5\n",
       "\\begin{tabular}{lllll}\n",
       " geneID & km\\_pval & km\\_qval & cph\\_pval & cph\\_qval\\\\\n",
       " <chr> & <dbl> & <dbl> & <dbl> & <dbl>\\\\\n",
       "\\hline\n",
       "\t PRL      & 0.030190785 & 0.3282728 & 0.093182843 & 0.2567660\\\\\n",
       "\t CCL7     & 0.029842608 & 0.3282728 & 0.084488439 & 0.2567660\\\\\n",
       "\t REG3A    & 0.048818537 & 0.3317609 & 0.007443063 & 0.1431721\\\\\n",
       "\t PCOLCE2  & 0.087378566 & 0.4568378 & 0.040945530 & 0.2028634\\\\\n",
       "\t COL6A5   & 0.004378179 & 0.2380257 & 0.021296912 & 0.1564901\\\\\n",
       "\t TNFSF11  & 0.171469936 & 0.4568378 & 0.041411854 & 0.2028634\\\\\n",
       "\t ANGPTL2  & 0.016428826 & 0.2977253 & 0.003721132 & 0.1431721\\\\\n",
       "\t SERPIND1 & 0.135949522 & 0.4568378 & 0.012989630 & 0.1431721\\\\\n",
       "\t SERPINA3 & 0.040719767 & 0.3317609 & 0.466935790 & 0.4728980\\\\\n",
       "\t LGI2     & 0.010475725 & 0.2847636 & 0.018170458 & 0.1564901\\\\\n",
       "\t FGF19    & 0.176461854 & 0.4568378 & 0.025544931 & 0.1608897\\\\\n",
       "\t COL5A3   & 0.042847215 & 0.3317609 & 0.012346876 & 0.1431721\\\\\n",
       "\\end{tabular}\n"
      ],
      "text/markdown": [
       "\n",
       "A tibble: 12 × 5\n",
       "\n",
       "| geneID &lt;chr&gt; | km_pval &lt;dbl&gt; | km_qval &lt;dbl&gt; | cph_pval &lt;dbl&gt; | cph_qval &lt;dbl&gt; |\n",
       "|---|---|---|---|---|\n",
       "| PRL      | 0.030190785 | 0.3282728 | 0.093182843 | 0.2567660 |\n",
       "| CCL7     | 0.029842608 | 0.3282728 | 0.084488439 | 0.2567660 |\n",
       "| REG3A    | 0.048818537 | 0.3317609 | 0.007443063 | 0.1431721 |\n",
       "| PCOLCE2  | 0.087378566 | 0.4568378 | 0.040945530 | 0.2028634 |\n",
       "| COL6A5   | 0.004378179 | 0.2380257 | 0.021296912 | 0.1564901 |\n",
       "| TNFSF11  | 0.171469936 | 0.4568378 | 0.041411854 | 0.2028634 |\n",
       "| ANGPTL2  | 0.016428826 | 0.2977253 | 0.003721132 | 0.1431721 |\n",
       "| SERPIND1 | 0.135949522 | 0.4568378 | 0.012989630 | 0.1431721 |\n",
       "| SERPINA3 | 0.040719767 | 0.3317609 | 0.466935790 | 0.4728980 |\n",
       "| LGI2     | 0.010475725 | 0.2847636 | 0.018170458 | 0.1564901 |\n",
       "| FGF19    | 0.176461854 | 0.4568378 | 0.025544931 | 0.1608897 |\n",
       "| COL5A3   | 0.042847215 | 0.3317609 | 0.012346876 | 0.1431721 |\n",
       "\n"
      ],
      "text/plain": [
       "   geneID   km_pval     km_qval   cph_pval    cph_qval \n",
       "1  PRL      0.030190785 0.3282728 0.093182843 0.2567660\n",
       "2  CCL7     0.029842608 0.3282728 0.084488439 0.2567660\n",
       "3  REG3A    0.048818537 0.3317609 0.007443063 0.1431721\n",
       "4  PCOLCE2  0.087378566 0.4568378 0.040945530 0.2028634\n",
       "5  COL6A5   0.004378179 0.2380257 0.021296912 0.1564901\n",
       "6  TNFSF11  0.171469936 0.4568378 0.041411854 0.2028634\n",
       "7  ANGPTL2  0.016428826 0.2977253 0.003721132 0.1431721\n",
       "8  SERPIND1 0.135949522 0.4568378 0.012989630 0.1431721\n",
       "9  SERPINA3 0.040719767 0.3317609 0.466935790 0.4728980\n",
       "10 LGI2     0.010475725 0.2847636 0.018170458 0.1564901\n",
       "11 FGF19    0.176461854 0.4568378 0.025544931 0.1608897\n",
       "12 COL5A3   0.042847215 0.3317609 0.012346876 0.1431721"
      ]
     },
     "metadata": {},
     "output_type": "display_data"
    }
   ],
   "source": [
    "joined_surv_df %>%\n",
    "#     filter(cph_pval < 0.1)\n",
    "#     filter(km_pval < 0.1)\n",
    "    filter(km_pval < 0.05 | cph_pval < 0.05)"
   ]
  },
  {
   "cell_type": "code",
   "execution_count": 7,
   "id": "round-going",
   "metadata": {},
   "outputs": [],
   "source": [
    "write_tsv(joined_surv_df, paste0(dirs$analysis_dir, \"/survival/\", unified_dsets[dset_idx], \"_univ_survival_results.tsv\"))"
   ]
  },
  {
   "cell_type": "code",
   "execution_count": 8,
   "id": "significant-cheese",
   "metadata": {},
   "outputs": [],
   "source": [
    "# g = \"COL6A5\"\n",
    "# simp_survival_df <- filtered_joined_df %>%\n",
    "#     select(sample_name, vital_status, survival_time, !!as.name(g))\n",
    "# center <- cutoff_df %>%\n",
    "#     filter(geneID == g) %>%\n",
    "#     pull(cutoff)\n",
    "# simp_survival_df <- get_high_low(simp_survival_df, g, center)\n",
    "\n",
    "# km_fit <- survfit(Surv(survival_time, vital_status) ~ high_low, type = \"kaplan-meier\", data = simp_survival_df)\n",
    "# km_diff <- survdiff(Surv(survival_time, vital_status) ~ high_low, data = simp_survival_df)\n",
    "# km_diff\n",
    "# ggplot(data = simp_survival_df) +\n",
    "#     geom_histogram(aes_string(x = g), binwidth = 0.2, fill = \"steelblue\") +\n",
    "#     geom_vline(xintercept = center, color = \"firebrick\", linetype = 2) +\n",
    "#     theme_bw()\n",
    "\n",
    "# ggsurvplot(survfit(Surv(survival_time, vital_status) ~ high_low, data = simp_survival_df), data = simp_survival_df)"
   ]
  }
 ],
 "metadata": {
  "kernelspec": {
   "display_name": "R",
   "language": "R",
   "name": "ir"
  },
  "language_info": {
   "codemirror_mode": "r",
   "file_extension": ".r",
   "mimetype": "text/x-r-source",
   "name": "R",
   "pygments_lexer": "r",
   "version": "4.0.3"
  }
 },
 "nbformat": 4,
 "nbformat_minor": 5
}
