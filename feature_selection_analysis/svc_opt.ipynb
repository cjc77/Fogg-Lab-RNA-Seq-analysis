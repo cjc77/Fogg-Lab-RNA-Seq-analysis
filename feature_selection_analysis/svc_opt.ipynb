{
 "cells": [
  {
   "cell_type": "code",
   "execution_count": 1,
   "metadata": {},
   "outputs": [],
   "source": [
    "import pandas as pd\n",
    "import numpy as np\n",
    "from time import perf_counter\n",
    "from sklearn.svm import SVC\n",
    "from sklearn.pipeline import make_pipeline, Pipeline\n",
    "from sklearn.preprocessing import StandardScaler\n",
    "from sklearn.model_selection import cross_val_score, KFold\n",
    "from sklearn.compose import ColumnTransformer, TransformedTargetRegressor\n",
    "from skopt.space import Real, Integer, Categorical\n",
    "from skopt import gp_minimize\n",
    "\n",
    "import utils.dev_config as dev_conf\n",
    "import utils.preprocessing as prep\n",
    "import utils.optimization as opt"
   ]
  },
  {
   "cell_type": "code",
   "execution_count": 2,
   "metadata": {},
   "outputs": [],
   "source": [
    "dirs = dev_conf.get_dev_directories(\"../dev_paths.txt\")\n",
    "unified_dsets = [\"unified_cervical_data\", \"unified_uterine_data\", \"unified_uterine_endometrial_data\"]\n",
    "matrisome_list = f\"{dirs.data_dir}/matrisome/matrisome_hs_masterlist.tsv\""
   ]
  },
  {
   "cell_type": "code",
   "execution_count": 3,
   "metadata": {},
   "outputs": [],
   "source": [
    "i = 0"
   ]
  },
  {
   "cell_type": "code",
   "execution_count": 4,
   "metadata": {},
   "outputs": [],
   "source": [
    "matrisome_df = prep.load_matrisome_df(matrisome_list)"
   ]
  },
  {
   "cell_type": "code",
   "execution_count": 5,
   "metadata": {},
   "outputs": [],
   "source": [
    "seed = 123\n",
    "rand = np.random.RandomState()"
   ]
  },
  {
   "cell_type": "markdown",
   "metadata": {},
   "source": [
    "# Load and filter survival data"
   ]
  },
  {
   "cell_type": "code",
   "execution_count": 6,
   "metadata": {},
   "outputs": [],
   "source": [
    "event_code = {\"Alive\": 0, \"Dead\": 1}\n",
    "covariate_cols = [\"age_at_diagnosis\", \"race\", \"ethnicity\"]\n",
    "dep_cols = [\"figo_stage\"]\n",
    "cat_cols = [\"race\", \"ethnicity\"]\n",
    "survival_df = prep.load_survival_df(f\"{dirs.data_dir}/{unified_dsets[i]}/survival_data.tsv\", event_code)"
   ]
  },
  {
   "cell_type": "code",
   "execution_count": 7,
   "metadata": {},
   "outputs": [
    {
     "name": "stdout",
     "output_type": "stream",
     "text": [
      "(255, 12)\n"
     ]
    }
   ],
   "source": [
    "filtered_survival_df = (\n",
    "    prep.decode_figo_stage(survival_df[[\"sample_name\"] + dep_cols + covariate_cols].dropna(), to=\"n\")\n",
    "        .pipe(pd.get_dummies, columns=cat_cols)\n",
    "        .reset_index(drop = True)\n",
    "        .pipe(prep.cols_to_front, [\"sample_name\", \"figo_num\"])\n",
    ")\n",
    "filtered_survival_df.columns = filtered_survival_df.columns.str.replace(' ', '_')\n",
    "print(filtered_survival_df.shape)\n",
    "# filtered_survival_df.head()"
   ]
  },
  {
   "cell_type": "markdown",
   "metadata": {},
   "source": [
    "# Load normalized matrisome count data"
   ]
  },
  {
   "cell_type": "code",
   "execution_count": 8,
   "metadata": {},
   "outputs": [
    {
     "name": "stdout",
     "output_type": "stream",
     "text": [
      "(255, 1009)\n"
     ]
    }
   ],
   "source": [
    "norm_matrisome_counts_df = pd.read_csv(f\"{dirs.data_dir}/{unified_dsets[i]}/norm_matrisome_counts.tsv\", sep='\\t')\n",
    "norm_filtered_matrisome_counts_t_df = prep.transpose_df(\n",
    "    norm_matrisome_counts_df[[\"geneID\"] + list(filtered_survival_df.sample_name)], \"geneID\", \"sample_name\"\n",
    ")\n",
    "print(norm_filtered_matrisome_counts_t_df.shape)\n",
    "# norm_filtered_matrisome_counts_t_df.head()"
   ]
  },
  {
   "cell_type": "markdown",
   "metadata": {},
   "source": [
    "# Join survival and count data"
   ]
  },
  {
   "cell_type": "code",
   "execution_count": 9,
   "metadata": {},
   "outputs": [
    {
     "name": "stdout",
     "output_type": "stream",
     "text": [
      "(255, 1019)\n"
     ]
    }
   ],
   "source": [
    "joined_df = (\n",
    "    pd.merge(filtered_survival_df, norm_filtered_matrisome_counts_t_df, on=\"sample_name\")\n",
    "        .set_index(\"sample_name\")\n",
    ")\n",
    "\n",
    "print(joined_df.shape)\n",
    "# joined_df.head()"
   ]
  },
  {
   "cell_type": "markdown",
   "metadata": {},
   "source": [
    "# Optimize model"
   ]
  },
  {
   "cell_type": "code",
   "execution_count": 22,
   "metadata": {},
   "outputs": [],
   "source": [
    "x_df, y_df = prep.shuffle_data(joined_df, rand, seed=seed)"
   ]
  },
  {
   "cell_type": "code",
   "execution_count": 26,
   "metadata": {},
   "outputs": [],
   "source": [
    "def objective(h_params, X, y, verbose=True):\n",
    "    if verbose:\n",
    "        print(h_params)\n",
    "    model = SVC(\n",
    "        kernel=h_params[0],\n",
    "        C=h_params[1],\n",
    "        gamma=h_params[2],\n",
    "        degree=h_params[3],\n",
    "        coef0=h_params[4],\n",
    "        class_weight=h_params[5]\n",
    "    )\n",
    "    # Standardize all variables (except one-hots)\n",
    "    pipeline = make_pipeline(\n",
    "        ColumnTransformer([\n",
    "            (\"standard\", StandardScaler(), [\"age_at_diagnosis\"] + list(norm_filtered_matrisome_counts_t_df.columns[1:]))\n",
    "        ], remainder=\"passthrough\"),\n",
    "        model\n",
    "    )\n",
    "    return -np.mean(cross_val_score(\n",
    "        pipeline,\n",
    "        X,\n",
    "        y,\n",
    "        cv=KFold(n_splits=5),\n",
    "        n_jobs=-1,\n",
    "        scoring=\"f1_weighted\"\n",
    "    ))"
   ]
  },
  {
   "cell_type": "code",
   "execution_count": 24,
   "metadata": {},
   "outputs": [],
   "source": [
    "space = [\n",
    "    Categorical([\"linear\", \"rbf\", \"poly\"], name=\"kernel\"),\n",
    "    Real(1e-1, 1e1, name=\"C\"),\n",
    "    Real(1e-3, 1e-1, name=\"gamma\"),\n",
    "    Integer(1, 3, name=\"degree\"),\n",
    "    Real(-1, 1, name=\"coef0\")\n",
    "    Categorical([\"balanced\", None], name=\"class_weights\")\n",
    "]\n",
    "n_initial = 10 * (len(space[0].categories))\n",
    "n_calls = 100 * (len(space[0].categories))"
   ]
  },
  {
   "cell_type": "code",
   "execution_count": 25,
   "metadata": {
    "collapsed": true,
    "jupyter": {
     "outputs_hidden": true
    }
   },
   "outputs": [
    {
     "name": "stdout",
     "output_type": "stream",
     "text": [
      "Iteration No: 1 started. Evaluating function at random point.\n",
      "['rbf', 9.775715921772743, 0.012891978002009141, 2, -0.41458075403961614]\n",
      "Iteration No: 1 ended. Evaluation done at random point.\n",
      "Time taken: 0.2587\n",
      "Function value obtained: -0.3691\n",
      "Current minimum: -0.3691\n",
      "Iteration No: 2 started. Evaluating function at random point.\n",
      "['rbf', 5.610638904936243, 0.06571975323605078, 3, -0.3056630018784391]\n",
      "Iteration No: 2 ended. Evaluation done at random point.\n",
      "Time taken: 0.2442\n",
      "Function value obtained: -0.3691\n",
      "Current minimum: -0.3691\n",
      "Iteration No: 3 started. Evaluating function at random point.\n",
      "['rbf', 9.962181971599627, 0.08635660955369447, 3, -0.40967858109762656]\n",
      "Iteration No: 3 ended. Evaluation done at random point.\n",
      "Time taken: 0.2587\n",
      "Function value obtained: -0.3691\n",
      "Current minimum: -0.3691\n",
      "Iteration No: 4 started. Evaluating function at random point.\n",
      "['rbf', 8.892212203167828, 0.04041162284821849, 1, -0.3040493282827196]\n",
      "Iteration No: 4 ended. Evaluation done at random point.\n",
      "Time taken: 0.2554\n",
      "Function value obtained: -0.3691\n",
      "Current minimum: -0.3691\n",
      "Iteration No: 5 started. Evaluating function at random point.\n",
      "['rbf', 0.17695279070972725, 0.0034502547117702697, 2, 0.905409652239578]\n",
      "Iteration No: 5 ended. Evaluation done at random point.\n",
      "Time taken: 0.2672\n",
      "Function value obtained: -0.3691\n",
      "Current minimum: -0.3691\n",
      "Iteration No: 6 started. Evaluating function at random point.\n",
      "['rbf', 3.7869156914817688, 0.0665102934104525, 3, -0.21840167493378448]\n",
      "Iteration No: 6 ended. Evaluation done at random point.\n",
      "Time taken: 0.2388\n",
      "Function value obtained: -0.3691\n",
      "Current minimum: -0.3691\n",
      "Iteration No: 7 started. Evaluating function at random point.\n",
      "['rbf', 9.844606775434663, 0.0653316398273875, 3, -0.8783084652869904]\n",
      "Iteration No: 7 ended. Evaluation done at random point.\n",
      "Time taken: 0.2495\n",
      "Function value obtained: -0.3691\n",
      "Current minimum: -0.3691\n",
      "Iteration No: 8 started. Evaluating function at random point.\n",
      "['rbf', 0.4842386227792862, 0.04546021533614818, 3, -0.8527906760995609]\n",
      "Iteration No: 8 ended. Evaluation done at random point.\n",
      "Time taken: 0.2309\n",
      "Function value obtained: -0.3691\n",
      "Current minimum: -0.3691\n",
      "Iteration No: 9 started. Evaluating function at random point.\n",
      "['rbf', 0.14761538359004342, 0.055773412836043625, 3, -0.669689237910132]\n",
      "Iteration No: 9 ended. Evaluation done at random point.\n",
      "Time taken: 0.2432\n",
      "Function value obtained: -0.3691\n",
      "Current minimum: -0.3691\n",
      "Iteration No: 10 started. Evaluating function at random point.\n",
      "['rbf', 4.431112108952025, 0.06915748373331904, 3, 0.7057567720639082]\n",
      "Iteration No: 10 ended. Evaluation done at random point.\n",
      "Time taken: 0.2588\n",
      "Function value obtained: -0.3691\n",
      "Current minimum: -0.3691\n",
      "Iteration No: 11 started. Evaluating function at random point.\n",
      "['rbf', 2.6385775532623397, 0.05148792388755617, 2, -0.7680720125204483]\n",
      "Iteration No: 11 ended. Evaluation done at random point.\n",
      "Time taken: 0.2468\n",
      "Function value obtained: -0.3691\n",
      "Current minimum: -0.3691\n",
      "Iteration No: 12 started. Evaluating function at random point.\n",
      "['rbf', 8.86164230691112, 0.07361395059546481, 1, 0.9910015128382161]\n",
      "Iteration No: 12 ended. Evaluation done at random point.\n",
      "Time taken: 0.2612\n",
      "Function value obtained: -0.3691\n",
      "Current minimum: -0.3691\n",
      "Iteration No: 13 started. Evaluating function at random point.\n",
      "['rbf', 0.1666921451670143, 0.022695016311982567, 2, -0.9341713657249502]\n",
      "Iteration No: 13 ended. Evaluation done at random point.\n",
      "Time taken: 0.2681\n",
      "Function value obtained: -0.3691\n",
      "Current minimum: -0.3691\n",
      "Iteration No: 14 started. Evaluating function at random point.\n",
      "['rbf', 3.125047476472914, 0.004963197730977239, 3, -0.9394825756408831]\n",
      "Iteration No: 14 ended. Evaluation done at random point.\n",
      "Time taken: 0.2722\n",
      "Function value obtained: -0.3691\n",
      "Current minimum: -0.3691\n",
      "Iteration No: 15 started. Evaluating function at random point.\n",
      "['rbf', 6.591581893767144, 0.08812644140152161, 2, -0.11368661538386737]\n",
      "Iteration No: 15 ended. Evaluation done at random point.\n",
      "Time taken: 0.2725\n",
      "Function value obtained: -0.3691\n",
      "Current minimum: -0.3691\n",
      "Iteration No: 16 started. Evaluating function at random point.\n",
      "['rbf', 5.25440863278428, 0.09060323449416703, 2, -0.7889907798758975]\n",
      "Iteration No: 16 ended. Evaluation done at random point.\n",
      "Time taken: 0.2571\n",
      "Function value obtained: -0.3691\n",
      "Current minimum: -0.3691\n",
      "Iteration No: 17 started. Evaluating function at random point.\n",
      "['rbf', 3.7973932668373713, 0.006997254468311843, 1, 0.7603156498706103]\n",
      "Iteration No: 17 ended. Evaluation done at random point.\n",
      "Time taken: 0.2339\n",
      "Function value obtained: -0.3691\n",
      "Current minimum: -0.3691\n",
      "Iteration No: 18 started. Evaluating function at random point.\n",
      "['rbf', 3.8842234385574703, 0.07014346857735403, 1, -0.07146729492138526]\n",
      "Iteration No: 18 ended. Evaluation done at random point.\n",
      "Time taken: 0.2454\n",
      "Function value obtained: -0.3691\n",
      "Current minimum: -0.3691\n",
      "Iteration No: 19 started. Evaluating function at random point.\n",
      "['rbf', 7.3242451022165, 0.09140233843943468, 2, 0.7420210606720035]\n",
      "Iteration No: 19 ended. Evaluation done at random point.\n",
      "Time taken: 0.2429\n",
      "Function value obtained: -0.3691\n",
      "Current minimum: -0.3691\n",
      "Iteration No: 20 started. Evaluating function at random point.\n",
      "['rbf', 4.08160059076716, 0.04829868754810177, 1, 0.7265590501405572]\n",
      "Iteration No: 20 ended. Evaluation done at random point.\n",
      "Time taken: 0.2398\n",
      "Function value obtained: -0.3691\n",
      "Current minimum: -0.3691\n",
      "Iteration No: 21 started. Evaluating function at random point.\n",
      "['rbf', 8.282234354769072, 0.019513957922149376, 2, 0.9680926695594227]\n",
      "Iteration No: 21 ended. Evaluation done at random point.\n",
      "Time taken: 0.2359\n",
      "Function value obtained: -0.3691\n",
      "Current minimum: -0.3691\n",
      "Iteration No: 22 started. Evaluating function at random point.\n",
      "['rbf', 3.208899538902522, 0.08479057449382359, 2, 0.2493206074822092]\n",
      "Iteration No: 22 ended. Evaluation done at random point.\n",
      "Time taken: 0.2362\n",
      "Function value obtained: -0.3691\n",
      "Current minimum: -0.3691\n",
      "Iteration No: 23 started. Evaluating function at random point.\n",
      "['rbf', 0.38683425785802805, 0.029592678572898004, 2, -0.15727316007524994]\n",
      "Iteration No: 23 ended. Evaluation done at random point.\n",
      "Time taken: 0.2491\n",
      "Function value obtained: -0.3691\n",
      "Current minimum: -0.3691\n",
      "Iteration No: 24 started. Evaluating function at random point.\n",
      "['rbf', 5.71676635412025, 0.0032763383136964514, 1, -0.9337723282417683]\n",
      "Iteration No: 24 ended. Evaluation done at random point.\n",
      "Time taken: 0.2740\n",
      "Function value obtained: -0.3856\n",
      "Current minimum: -0.3856\n",
      "Iteration No: 25 started. Evaluating function at random point.\n",
      "['rbf', 6.774362822415774, 0.032653011436063674, 3, 0.18635064412817592]\n",
      "Iteration No: 25 ended. Evaluation done at random point.\n",
      "Time taken: 0.2600\n",
      "Function value obtained: -0.3691\n",
      "Current minimum: -0.3856\n",
      "Iteration No: 26 started. Evaluating function at random point.\n",
      "['rbf', 8.234679279517081, 0.033900280088969906, 1, -0.4141324993315557]\n",
      "Iteration No: 26 ended. Evaluation done at random point.\n",
      "Time taken: 0.2302\n",
      "Function value obtained: -0.3691\n",
      "Current minimum: -0.3856\n",
      "Iteration No: 27 started. Evaluating function at random point.\n",
      "['rbf', 9.291199995753166, 0.012307008065919563, 2, -0.34339010001510817]\n",
      "Iteration No: 27 ended. Evaluation done at random point.\n",
      "Time taken: 0.2749\n",
      "Function value obtained: -0.3691\n",
      "Current minimum: -0.3856\n",
      "Iteration No: 28 started. Evaluating function at random point.\n",
      "['rbf', 1.3209700324398228, 0.0032491515983571403, 3, 0.5586580954760536]\n",
      "Iteration No: 28 ended. Evaluation done at random point.\n",
      "Time taken: 0.2583\n",
      "Function value obtained: -0.3775\n",
      "Current minimum: -0.3856\n",
      "Iteration No: 29 started. Evaluating function at random point.\n",
      "['rbf', 0.31325546553178946, 0.028172443729920157, 2, -0.10299530631095988]\n",
      "Iteration No: 29 ended. Evaluation done at random point.\n",
      "Time taken: 0.2298\n",
      "Function value obtained: -0.3691\n",
      "Current minimum: -0.3856\n",
      "Iteration No: 30 started. Evaluating function at random point.\n",
      "['rbf', 7.158234946272276, 0.09702504030036223, 3, -0.21355940063817336]\n",
      "Iteration No: 30 ended. Evaluation done at random point.\n",
      "Time taken: 0.2521\n",
      "Function value obtained: -0.3691\n",
      "Current minimum: -0.3856\n",
      "Iteration No: 31 started. Evaluating function at random point.\n",
      "['rbf', 8.83710822750012, 0.04584090132497782, 2, 0.7748504348941352]\n",
      "Iteration No: 31 ended. Evaluation done at random point.\n",
      "Time taken: 0.2298\n",
      "Function value obtained: -0.3691\n",
      "Current minimum: -0.3856\n",
      "Iteration No: 32 started. Evaluating function at random point.\n",
      "['rbf', 8.482408104354073, 0.04471293244937525, 2, -0.6268755589047348]\n",
      "Iteration No: 32 ended. Evaluation done at random point.\n",
      "Time taken: 0.2445\n",
      "Function value obtained: -0.3691\n",
      "Current minimum: -0.3856\n",
      "Iteration No: 33 started. Evaluating function at random point.\n",
      "['rbf', 2.585117219454543, 0.035130267306232504, 3, 0.36744181680682986]\n",
      "Iteration No: 33 ended. Evaluation done at random point.\n",
      "Time taken: 0.2287\n",
      "Function value obtained: -0.3691\n",
      "Current minimum: -0.3856\n",
      "Iteration No: 34 started. Evaluating function at random point.\n",
      "['rbf', 2.5563572688502414, 0.07514876273339409, 1, 0.5690555466977996]\n",
      "Iteration No: 34 ended. Evaluation done at random point.\n",
      "Time taken: 0.2673\n",
      "Function value obtained: -0.3691\n",
      "Current minimum: -0.3856\n",
      "Iteration No: 35 started. Evaluating function at random point.\n",
      "['rbf', 1.007314451818041, 0.055766150162225414, 1, 0.14191309427789123]\n",
      "Iteration No: 35 ended. Evaluation done at random point.\n",
      "Time taken: 0.2475\n",
      "Function value obtained: -0.3691\n",
      "Current minimum: -0.3856\n",
      "Iteration No: 36 started. Evaluating function at random point.\n",
      "['rbf', 0.262297833668926, 0.03438749245894304, 3, -0.210922736986755]\n",
      "Iteration No: 36 ended. Evaluation done at random point.\n",
      "Time taken: 0.2693\n",
      "Function value obtained: -0.3691\n",
      "Current minimum: -0.3856\n",
      "Iteration No: 37 started. Evaluating function at random point.\n",
      "['rbf', 1.4164448534738305, 0.032038416490028254, 2, -0.3657058428592933]\n",
      "Iteration No: 37 ended. Evaluation done at random point.\n",
      "Time taken: 0.2314\n",
      "Function value obtained: -0.3691\n",
      "Current minimum: -0.3856\n",
      "Iteration No: 38 started. Evaluating function at random point.\n",
      "['rbf', 1.3137068463699277, 0.05128296711224356, 1, -0.8954997866588683]\n",
      "Iteration No: 38 ended. Evaluation done at random point.\n",
      "Time taken: 0.2436\n",
      "Function value obtained: -0.3691\n",
      "Current minimum: -0.3856\n",
      "Iteration No: 39 started. Evaluating function at random point.\n",
      "['rbf', 0.18123879187948932, 0.09369136220294237, 1, 0.3138429485744567]\n",
      "Iteration No: 39 ended. Evaluation done at random point.\n",
      "Time taken: 0.2382\n",
      "Function value obtained: -0.3691\n",
      "Current minimum: -0.3856\n",
      "Iteration No: 40 started. Evaluating function at random point.\n",
      "['rbf', 6.027632348056528, 0.046791930167683696, 2, -0.9191195201541742]\n",
      "Iteration No: 40 ended. Evaluation done at random point.\n",
      "Time taken: 0.2561\n",
      "Function value obtained: -0.3691\n",
      "Current minimum: -0.3856\n",
      "Iteration No: 41 started. Evaluating function at random point.\n",
      "['rbf', 2.120762369540593, 0.08067588171871741, 2, -0.7320001034059902]\n",
      "Iteration No: 41 ended. Evaluation done at random point.\n",
      "Time taken: 0.2602\n",
      "Function value obtained: -0.3691\n",
      "Current minimum: -0.3856\n",
      "Iteration No: 42 started. Evaluating function at random point.\n",
      "['rbf', 9.479867664406054, 0.050245031422616555, 1, 0.8104908274129925]\n",
      "Iteration No: 42 ended. Evaluation done at random point.\n",
      "Time taken: 0.2279\n",
      "Function value obtained: -0.3691\n",
      "Current minimum: -0.3856\n",
      "Iteration No: 43 started. Evaluating function at random point.\n",
      "['rbf', 1.8330362914243217, 0.08208713539641464, 2, 0.7664903897728277]\n",
      "Iteration No: 43 ended. Evaluation done at random point.\n",
      "Time taken: 0.2281\n",
      "Function value obtained: -0.3691\n",
      "Current minimum: -0.3856\n",
      "Iteration No: 44 started. Evaluating function at random point.\n",
      "['rbf', 3.1788090310116592, 0.04103319913083634, 1, -0.8056627568957224]\n",
      "Iteration No: 44 ended. Evaluation done at random point.\n",
      "Time taken: 0.2274\n",
      "Function value obtained: -0.3691\n",
      "Current minimum: -0.3856\n",
      "Iteration No: 45 started. Evaluating function at random point.\n",
      "['rbf', 2.763663078504363, 0.08986175934364755, 2, -0.05200628543095509]\n",
      "Iteration No: 45 ended. Evaluation done at random point.\n",
      "Time taken: 0.2288\n",
      "Function value obtained: -0.3691\n",
      "Current minimum: -0.3856\n",
      "Iteration No: 46 started. Evaluating function at random point.\n",
      "['rbf', 2.5715525349022395, 0.09917794258320935, 2, -0.9068633251469138]\n",
      "Iteration No: 46 ended. Evaluation done at random point.\n",
      "Time taken: 0.2290\n",
      "Function value obtained: -0.3691\n",
      "Current minimum: -0.3856\n",
      "Iteration No: 47 started. Evaluating function at random point.\n",
      "['rbf', 7.963401901918244, 0.07041438798831026, 2, -0.1331214313482827]\n",
      "Iteration No: 47 ended. Evaluation done at random point.\n",
      "Time taken: 0.2400\n",
      "Function value obtained: -0.3691\n",
      "Current minimum: -0.3856\n",
      "Iteration No: 48 started. Evaluating function at random point.\n",
      "['rbf', 3.1791557879582526, 0.05831076509224012, 2, 0.30257461924500495]\n",
      "Iteration No: 48 ended. Evaluation done at random point.\n",
      "Time taken: 0.2301\n",
      "Function value obtained: -0.3691\n",
      "Current minimum: -0.3856\n",
      "Iteration No: 49 started. Evaluating function at random point.\n",
      "['rbf', 5.7676825598761345, 0.06505094955497265, 2, -0.04182830635205659]\n",
      "Iteration No: 49 ended. Evaluation done at random point.\n",
      "Time taken: 0.2743\n",
      "Function value obtained: -0.3691\n",
      "Current minimum: -0.3856\n",
      "Iteration No: 50 started. Evaluating function at random point.\n",
      "['rbf', 9.44180792386403, 0.05703448591700153, 1, 0.7993539602843025]\n",
      "Iteration No: 50 ended. Evaluation done at random point.\n",
      "Time taken: 1.0236\n",
      "Function value obtained: -0.3691\n",
      "Current minimum: -0.3856\n",
      "Iteration No: 51 started. Searching for the next optimal point.\n",
      "['rbf', 10.0, 0.001, 1, -1.0]\n",
      "Iteration No: 51 ended. Search finished for the next optimal point.\n",
      "Time taken: 0.9601\n",
      "Function value obtained: -0.4560\n",
      "Current minimum: -0.4560\n",
      "Iteration No: 52 started. Searching for the next optimal point.\n",
      "['rbf', 9.51291464187674, 0.06590474299457408, 3, 0.9964796536344931]\n",
      "Iteration No: 52 ended. Search finished for the next optimal point.\n",
      "Time taken: 0.9088\n",
      "Function value obtained: -0.3691\n",
      "Current minimum: -0.4560\n",
      "Iteration No: 53 started. Searching for the next optimal point.\n",
      "['rbf', 9.751010805567622, 0.002247806781278253, 3, 0.5609107874321908]\n",
      "Iteration No: 53 ended. Search finished for the next optimal point.\n",
      "Time taken: 0.9892\n",
      "Function value obtained: -0.3848\n",
      "Current minimum: -0.4560\n",
      "Iteration No: 54 started. Searching for the next optimal point.\n",
      "['rbf', 10.0, 0.1, 1, -1.0]\n",
      "Iteration No: 54 ended. Search finished for the next optimal point.\n",
      "Time taken: 0.9813\n",
      "Function value obtained: -0.3691\n",
      "Current minimum: -0.4560\n",
      "Iteration No: 55 started. Searching for the next optimal point.\n",
      "['rbf', 10.0, 0.001, 1, 1.0]\n",
      "Iteration No: 55 ended. Search finished for the next optimal point.\n",
      "Time taken: 0.9764\n",
      "Function value obtained: -0.4560\n",
      "Current minimum: -0.4560\n",
      "Iteration No: 56 started. Searching for the next optimal point.\n",
      "['rbf', 0.20028890072635436, 0.09803469945379618, 3, 0.7850630196715436]\n",
      "Iteration No: 56 ended. Search finished for the next optimal point.\n",
      "Time taken: 1.0487\n",
      "Function value obtained: -0.3691\n",
      "Current minimum: -0.4560\n",
      "Iteration No: 57 started. Searching for the next optimal point.\n",
      "['rbf', 10.0, 0.001, 1, -1.0]\n"
     ]
    },
    {
     "name": "stderr",
     "output_type": "stream",
     "text": [
      "/home/carcook/anaconda3/envs/TCGA-round1/lib/python3.8/site-packages/skopt/optimizer/optimizer.py:449: UserWarning: The objective has been evaluated at this point before.\n",
      "  warnings.warn(\"The objective has been evaluated \"\n"
     ]
    },
    {
     "name": "stdout",
     "output_type": "stream",
     "text": [
      "Iteration No: 57 ended. Search finished for the next optimal point.\n",
      "Time taken: 0.9195\n",
      "Function value obtained: -0.4560\n",
      "Current minimum: -0.4560\n",
      "Iteration No: 58 started. Searching for the next optimal point.\n",
      "['rbf', 0.2299100314122572, 0.002353985621404827, 1, 0.5759367647849147]\n",
      "Iteration No: 58 ended. Search finished for the next optimal point.\n",
      "Time taken: 1.0877\n",
      "Function value obtained: -0.3691\n",
      "Current minimum: -0.4560\n",
      "Iteration No: 59 started. Searching for the next optimal point.\n",
      "['rbf', 10.0, 0.001, 1, 1.0]\n"
     ]
    },
    {
     "name": "stderr",
     "output_type": "stream",
     "text": [
      "/home/carcook/anaconda3/envs/TCGA-round1/lib/python3.8/site-packages/skopt/optimizer/optimizer.py:449: UserWarning: The objective has been evaluated at this point before.\n",
      "  warnings.warn(\"The objective has been evaluated \"\n"
     ]
    },
    {
     "name": "stdout",
     "output_type": "stream",
     "text": [
      "Iteration No: 59 ended. Search finished for the next optimal point.\n",
      "Time taken: 0.9253\n",
      "Function value obtained: -0.4560\n",
      "Current minimum: -0.4560\n",
      "Iteration No: 60 started. Searching for the next optimal point.\n",
      "['rbf', 9.84071380617674, 0.006147595959925592, 1, -0.02266311931532261]\n",
      "Iteration No: 60 ended. Search finished for the next optimal point.\n",
      "Time taken: 1.0123\n",
      "Function value obtained: -0.3691\n",
      "Current minimum: -0.4560\n",
      "Iteration No: 61 started. Searching for the next optimal point.\n",
      "['rbf', 10.0, 0.001, 1, 1.0]\n"
     ]
    },
    {
     "name": "stderr",
     "output_type": "stream",
     "text": [
      "/home/carcook/anaconda3/envs/TCGA-round1/lib/python3.8/site-packages/skopt/optimizer/optimizer.py:449: UserWarning: The objective has been evaluated at this point before.\n",
      "  warnings.warn(\"The objective has been evaluated \"\n"
     ]
    },
    {
     "name": "stdout",
     "output_type": "stream",
     "text": [
      "Iteration No: 61 ended. Search finished for the next optimal point.\n",
      "Time taken: 1.0724\n",
      "Function value obtained: -0.4560\n",
      "Current minimum: -0.4560\n",
      "Iteration No: 62 started. Searching for the next optimal point.\n",
      "['rbf', 0.12238434017810895, 0.013631521113591328, 3, 0.883136156849686]\n",
      "Iteration No: 62 ended. Search finished for the next optimal point.\n",
      "Time taken: 0.9030\n",
      "Function value obtained: -0.3691\n",
      "Current minimum: -0.4560\n",
      "Iteration No: 63 started. Searching for the next optimal point.\n",
      "['rbf', 9.955473567461334, 0.02689619114179878, 1, -0.3470782697467697]\n",
      "Iteration No: 63 ended. Search finished for the next optimal point.\n",
      "Time taken: 0.9785\n",
      "Function value obtained: -0.3691\n",
      "Current minimum: -0.4560\n",
      "Iteration No: 64 started. Searching for the next optimal point.\n",
      "['rbf', 10.0, 0.001, 1, -1.0]\n"
     ]
    },
    {
     "name": "stderr",
     "output_type": "stream",
     "text": [
      "/home/carcook/anaconda3/envs/TCGA-round1/lib/python3.8/site-packages/skopt/optimizer/optimizer.py:449: UserWarning: The objective has been evaluated at this point before.\n",
      "  warnings.warn(\"The objective has been evaluated \"\n"
     ]
    },
    {
     "name": "stdout",
     "output_type": "stream",
     "text": [
      "Iteration No: 64 ended. Search finished for the next optimal point.\n",
      "Time taken: 1.1523\n",
      "Function value obtained: -0.4560\n",
      "Current minimum: -0.4560\n",
      "Iteration No: 65 started. Searching for the next optimal point.\n",
      "['rbf', 10.0, 0.001, 1, 1.0]\n"
     ]
    },
    {
     "name": "stderr",
     "output_type": "stream",
     "text": [
      "/home/carcook/anaconda3/envs/TCGA-round1/lib/python3.8/site-packages/skopt/optimizer/optimizer.py:449: UserWarning: The objective has been evaluated at this point before.\n",
      "  warnings.warn(\"The objective has been evaluated \"\n"
     ]
    },
    {
     "name": "stdout",
     "output_type": "stream",
     "text": [
      "Iteration No: 65 ended. Search finished for the next optimal point.\n",
      "Time taken: 1.2133\n",
      "Function value obtained: -0.4560\n",
      "Current minimum: -0.4560\n",
      "Iteration No: 66 started. Searching for the next optimal point.\n",
      "['rbf', 10.0, 0.001, 1, -1.0]\n"
     ]
    },
    {
     "name": "stderr",
     "output_type": "stream",
     "text": [
      "/home/carcook/anaconda3/envs/TCGA-round1/lib/python3.8/site-packages/skopt/optimizer/optimizer.py:449: UserWarning: The objective has been evaluated at this point before.\n",
      "  warnings.warn(\"The objective has been evaluated \"\n"
     ]
    },
    {
     "name": "stdout",
     "output_type": "stream",
     "text": [
      "Iteration No: 66 ended. Search finished for the next optimal point.\n",
      "Time taken: 1.9350\n",
      "Function value obtained: -0.4560\n",
      "Current minimum: -0.4560\n",
      "Iteration No: 67 started. Searching for the next optimal point.\n",
      "['rbf', 0.2371498500759563, 0.015394882709605075, 1, 0.951747729959938]\n",
      "Iteration No: 67 ended. Search finished for the next optimal point.\n",
      "Time taken: 1.5772\n",
      "Function value obtained: -0.3691\n",
      "Current minimum: -0.4560\n",
      "Iteration No: 68 started. Searching for the next optimal point.\n",
      "['rbf', 10.0, 0.001, 1, 1.0]\n"
     ]
    },
    {
     "name": "stderr",
     "output_type": "stream",
     "text": [
      "/home/carcook/anaconda3/envs/TCGA-round1/lib/python3.8/site-packages/skopt/optimizer/optimizer.py:449: UserWarning: The objective has been evaluated at this point before.\n",
      "  warnings.warn(\"The objective has been evaluated \"\n"
     ]
    },
    {
     "ename": "KeyboardInterrupt",
     "evalue": "",
     "output_type": "error",
     "traceback": [
      "\u001b[0;31m---------------------------------------------------------------------------\u001b[0m",
      "\u001b[0;31mKeyboardInterrupt\u001b[0m                         Traceback (most recent call last)",
      "\u001b[0;32m<ipython-input-25-a8dd8cf6be75>\u001b[0m in \u001b[0;36m<module>\u001b[0;34m\u001b[0m\n\u001b[1;32m      1\u001b[0m \u001b[0mrand\u001b[0m\u001b[0;34m.\u001b[0m\u001b[0mseed\u001b[0m\u001b[0;34m(\u001b[0m\u001b[0;34m)\u001b[0m\u001b[0;34m\u001b[0m\u001b[0;34m\u001b[0m\u001b[0m\n\u001b[0;32m----> 2\u001b[0;31m res = gp_minimize(\n\u001b[0m\u001b[1;32m      3\u001b[0m     \u001b[0;32mlambda\u001b[0m \u001b[0mh_ps\u001b[0m\u001b[0;34m:\u001b[0m \u001b[0mobjective\u001b[0m\u001b[0;34m(\u001b[0m\u001b[0mh_ps\u001b[0m\u001b[0;34m,\u001b[0m \u001b[0mx_df\u001b[0m\u001b[0;34m,\u001b[0m \u001b[0my_df\u001b[0m\u001b[0;34m)\u001b[0m\u001b[0;34m,\u001b[0m\u001b[0;34m\u001b[0m\u001b[0;34m\u001b[0m\u001b[0m\n\u001b[1;32m      4\u001b[0m     \u001b[0mspace\u001b[0m\u001b[0;34m,\u001b[0m\u001b[0;34m\u001b[0m\u001b[0;34m\u001b[0m\u001b[0m\n\u001b[1;32m      5\u001b[0m     \u001b[0mverbose\u001b[0m\u001b[0;34m=\u001b[0m\u001b[0;32mTrue\u001b[0m\u001b[0;34m,\u001b[0m\u001b[0;34m\u001b[0m\u001b[0;34m\u001b[0m\u001b[0m\n",
      "\u001b[0;32m~/anaconda3/envs/TCGA-round1/lib/python3.8/site-packages/skopt/optimizer/gp.py\u001b[0m in \u001b[0;36mgp_minimize\u001b[0;34m(func, dimensions, base_estimator, n_calls, n_random_starts, n_initial_points, initial_point_generator, acq_func, acq_optimizer, x0, y0, random_state, verbose, callback, n_points, n_restarts_optimizer, xi, kappa, noise, n_jobs, model_queue_size)\u001b[0m\n\u001b[1;32m    257\u001b[0m             noise=noise)\n\u001b[1;32m    258\u001b[0m \u001b[0;34m\u001b[0m\u001b[0m\n\u001b[0;32m--> 259\u001b[0;31m     return base_minimize(\n\u001b[0m\u001b[1;32m    260\u001b[0m         \u001b[0mfunc\u001b[0m\u001b[0;34m,\u001b[0m \u001b[0mspace\u001b[0m\u001b[0;34m,\u001b[0m \u001b[0mbase_estimator\u001b[0m\u001b[0;34m=\u001b[0m\u001b[0mbase_estimator\u001b[0m\u001b[0;34m,\u001b[0m\u001b[0;34m\u001b[0m\u001b[0;34m\u001b[0m\u001b[0m\n\u001b[1;32m    261\u001b[0m         \u001b[0macq_func\u001b[0m\u001b[0;34m=\u001b[0m\u001b[0macq_func\u001b[0m\u001b[0;34m,\u001b[0m\u001b[0;34m\u001b[0m\u001b[0;34m\u001b[0m\u001b[0m\n",
      "\u001b[0;32m~/anaconda3/envs/TCGA-round1/lib/python3.8/site-packages/skopt/optimizer/base.py\u001b[0m in \u001b[0;36mbase_minimize\u001b[0;34m(func, dimensions, base_estimator, n_calls, n_random_starts, n_initial_points, initial_point_generator, acq_func, acq_optimizer, x0, y0, random_state, verbose, callback, n_points, n_restarts_optimizer, xi, kappa, n_jobs, model_queue_size)\u001b[0m\n\u001b[1;32m    300\u001b[0m         \u001b[0mnext_x\u001b[0m \u001b[0;34m=\u001b[0m \u001b[0moptimizer\u001b[0m\u001b[0;34m.\u001b[0m\u001b[0mask\u001b[0m\u001b[0;34m(\u001b[0m\u001b[0;34m)\u001b[0m\u001b[0;34m\u001b[0m\u001b[0;34m\u001b[0m\u001b[0m\n\u001b[1;32m    301\u001b[0m         \u001b[0mnext_y\u001b[0m \u001b[0;34m=\u001b[0m \u001b[0mfunc\u001b[0m\u001b[0;34m(\u001b[0m\u001b[0mnext_x\u001b[0m\u001b[0;34m)\u001b[0m\u001b[0;34m\u001b[0m\u001b[0;34m\u001b[0m\u001b[0m\n\u001b[0;32m--> 302\u001b[0;31m         \u001b[0mresult\u001b[0m \u001b[0;34m=\u001b[0m \u001b[0moptimizer\u001b[0m\u001b[0;34m.\u001b[0m\u001b[0mtell\u001b[0m\u001b[0;34m(\u001b[0m\u001b[0mnext_x\u001b[0m\u001b[0;34m,\u001b[0m \u001b[0mnext_y\u001b[0m\u001b[0;34m)\u001b[0m\u001b[0;34m\u001b[0m\u001b[0;34m\u001b[0m\u001b[0m\n\u001b[0m\u001b[1;32m    303\u001b[0m         \u001b[0mresult\u001b[0m\u001b[0;34m.\u001b[0m\u001b[0mspecs\u001b[0m \u001b[0;34m=\u001b[0m \u001b[0mspecs\u001b[0m\u001b[0;34m\u001b[0m\u001b[0;34m\u001b[0m\u001b[0m\n\u001b[1;32m    304\u001b[0m         \u001b[0;32mif\u001b[0m \u001b[0meval_callbacks\u001b[0m\u001b[0;34m(\u001b[0m\u001b[0mcallbacks\u001b[0m\u001b[0;34m,\u001b[0m \u001b[0mresult\u001b[0m\u001b[0;34m)\u001b[0m\u001b[0;34m:\u001b[0m\u001b[0;34m\u001b[0m\u001b[0;34m\u001b[0m\u001b[0m\n",
      "\u001b[0;32m~/anaconda3/envs/TCGA-round1/lib/python3.8/site-packages/skopt/optimizer/optimizer.py\u001b[0m in \u001b[0;36mtell\u001b[0;34m(self, x, y, fit)\u001b[0m\n\u001b[1;32m    491\u001b[0m                 \u001b[0my\u001b[0m\u001b[0;34m[\u001b[0m\u001b[0;36m1\u001b[0m\u001b[0;34m]\u001b[0m \u001b[0;34m=\u001b[0m \u001b[0mlog\u001b[0m\u001b[0;34m(\u001b[0m\u001b[0my\u001b[0m\u001b[0;34m[\u001b[0m\u001b[0;36m1\u001b[0m\u001b[0;34m]\u001b[0m\u001b[0;34m)\u001b[0m\u001b[0;34m\u001b[0m\u001b[0;34m\u001b[0m\u001b[0m\n\u001b[1;32m    492\u001b[0m \u001b[0;34m\u001b[0m\u001b[0m\n\u001b[0;32m--> 493\u001b[0;31m         \u001b[0;32mreturn\u001b[0m \u001b[0mself\u001b[0m\u001b[0;34m.\u001b[0m\u001b[0m_tell\u001b[0m\u001b[0;34m(\u001b[0m\u001b[0mx\u001b[0m\u001b[0;34m,\u001b[0m \u001b[0my\u001b[0m\u001b[0;34m,\u001b[0m \u001b[0mfit\u001b[0m\u001b[0;34m=\u001b[0m\u001b[0mfit\u001b[0m\u001b[0;34m)\u001b[0m\u001b[0;34m\u001b[0m\u001b[0;34m\u001b[0m\u001b[0m\n\u001b[0m\u001b[1;32m    494\u001b[0m \u001b[0;34m\u001b[0m\u001b[0m\n\u001b[1;32m    495\u001b[0m     \u001b[0;32mdef\u001b[0m \u001b[0m_tell\u001b[0m\u001b[0;34m(\u001b[0m\u001b[0mself\u001b[0m\u001b[0;34m,\u001b[0m \u001b[0mx\u001b[0m\u001b[0;34m,\u001b[0m \u001b[0my\u001b[0m\u001b[0;34m,\u001b[0m \u001b[0mfit\u001b[0m\u001b[0;34m=\u001b[0m\u001b[0;32mTrue\u001b[0m\u001b[0;34m)\u001b[0m\u001b[0;34m:\u001b[0m\u001b[0;34m\u001b[0m\u001b[0;34m\u001b[0m\u001b[0m\n",
      "\u001b[0;32m~/anaconda3/envs/TCGA-round1/lib/python3.8/site-packages/skopt/optimizer/optimizer.py\u001b[0m in \u001b[0;36m_tell\u001b[0;34m(self, x, y, fit)\u001b[0m\n\u001b[1;32m    534\u001b[0m             \u001b[0;32mwith\u001b[0m \u001b[0mwarnings\u001b[0m\u001b[0;34m.\u001b[0m\u001b[0mcatch_warnings\u001b[0m\u001b[0;34m(\u001b[0m\u001b[0;34m)\u001b[0m\u001b[0;34m:\u001b[0m\u001b[0;34m\u001b[0m\u001b[0;34m\u001b[0m\u001b[0m\n\u001b[1;32m    535\u001b[0m                 \u001b[0mwarnings\u001b[0m\u001b[0;34m.\u001b[0m\u001b[0msimplefilter\u001b[0m\u001b[0;34m(\u001b[0m\u001b[0;34m\"ignore\"\u001b[0m\u001b[0;34m)\u001b[0m\u001b[0;34m\u001b[0m\u001b[0;34m\u001b[0m\u001b[0m\n\u001b[0;32m--> 536\u001b[0;31m                 \u001b[0mest\u001b[0m\u001b[0;34m.\u001b[0m\u001b[0mfit\u001b[0m\u001b[0;34m(\u001b[0m\u001b[0mself\u001b[0m\u001b[0;34m.\u001b[0m\u001b[0mspace\u001b[0m\u001b[0;34m.\u001b[0m\u001b[0mtransform\u001b[0m\u001b[0;34m(\u001b[0m\u001b[0mself\u001b[0m\u001b[0;34m.\u001b[0m\u001b[0mXi\u001b[0m\u001b[0;34m)\u001b[0m\u001b[0;34m,\u001b[0m \u001b[0mself\u001b[0m\u001b[0;34m.\u001b[0m\u001b[0myi\u001b[0m\u001b[0;34m)\u001b[0m\u001b[0;34m\u001b[0m\u001b[0;34m\u001b[0m\u001b[0m\n\u001b[0m\u001b[1;32m    537\u001b[0m \u001b[0;34m\u001b[0m\u001b[0m\n\u001b[1;32m    538\u001b[0m             \u001b[0;32mif\u001b[0m \u001b[0mhasattr\u001b[0m\u001b[0;34m(\u001b[0m\u001b[0mself\u001b[0m\u001b[0;34m,\u001b[0m \u001b[0;34m\"next_xs_\"\u001b[0m\u001b[0;34m)\u001b[0m \u001b[0;32mand\u001b[0m \u001b[0mself\u001b[0m\u001b[0;34m.\u001b[0m\u001b[0macq_func\u001b[0m \u001b[0;34m==\u001b[0m \u001b[0;34m\"gp_hedge\"\u001b[0m\u001b[0;34m:\u001b[0m\u001b[0;34m\u001b[0m\u001b[0;34m\u001b[0m\u001b[0m\n",
      "\u001b[0;32m~/anaconda3/envs/TCGA-round1/lib/python3.8/site-packages/skopt/learning/gaussian_process/gpr.py\u001b[0m in \u001b[0;36mfit\u001b[0;34m(self, X, y)\u001b[0m\n\u001b[1;32m    193\u001b[0m                 \u001b[0mnoise_level\u001b[0m\u001b[0;34m=\u001b[0m\u001b[0mself\u001b[0m\u001b[0;34m.\u001b[0m\u001b[0mnoise\u001b[0m\u001b[0;34m,\u001b[0m \u001b[0mnoise_level_bounds\u001b[0m\u001b[0;34m=\u001b[0m\u001b[0;34m\"fixed\"\u001b[0m\u001b[0;34m\u001b[0m\u001b[0;34m\u001b[0m\u001b[0m\n\u001b[1;32m    194\u001b[0m             )\n\u001b[0;32m--> 195\u001b[0;31m         \u001b[0msuper\u001b[0m\u001b[0;34m(\u001b[0m\u001b[0mGaussianProcessRegressor\u001b[0m\u001b[0;34m,\u001b[0m \u001b[0mself\u001b[0m\u001b[0;34m)\u001b[0m\u001b[0;34m.\u001b[0m\u001b[0mfit\u001b[0m\u001b[0;34m(\u001b[0m\u001b[0mX\u001b[0m\u001b[0;34m,\u001b[0m \u001b[0my\u001b[0m\u001b[0;34m)\u001b[0m\u001b[0;34m\u001b[0m\u001b[0;34m\u001b[0m\u001b[0m\n\u001b[0m\u001b[1;32m    196\u001b[0m \u001b[0;34m\u001b[0m\u001b[0m\n\u001b[1;32m    197\u001b[0m         \u001b[0mself\u001b[0m\u001b[0;34m.\u001b[0m\u001b[0mnoise_\u001b[0m \u001b[0;34m=\u001b[0m \u001b[0;32mNone\u001b[0m\u001b[0;34m\u001b[0m\u001b[0;34m\u001b[0m\u001b[0m\n",
      "\u001b[0;32m~/anaconda3/envs/TCGA-round1/lib/python3.8/site-packages/sklearn/gaussian_process/_gpr.py\u001b[0m in \u001b[0;36mfit\u001b[0;34m(self, X, y)\u001b[0m\n\u001b[1;32m    246\u001b[0m                         \u001b[0mself\u001b[0m\u001b[0;34m.\u001b[0m\u001b[0m_rng\u001b[0m\u001b[0;34m.\u001b[0m\u001b[0muniform\u001b[0m\u001b[0;34m(\u001b[0m\u001b[0mbounds\u001b[0m\u001b[0;34m[\u001b[0m\u001b[0;34m:\u001b[0m\u001b[0;34m,\u001b[0m \u001b[0;36m0\u001b[0m\u001b[0;34m]\u001b[0m\u001b[0;34m,\u001b[0m \u001b[0mbounds\u001b[0m\u001b[0;34m[\u001b[0m\u001b[0;34m:\u001b[0m\u001b[0;34m,\u001b[0m \u001b[0;36m1\u001b[0m\u001b[0;34m]\u001b[0m\u001b[0;34m)\u001b[0m\u001b[0;34m\u001b[0m\u001b[0;34m\u001b[0m\u001b[0m\n\u001b[1;32m    247\u001b[0m                     optima.append(\n\u001b[0;32m--> 248\u001b[0;31m                         self._constrained_optimization(obj_func, theta_initial,\n\u001b[0m\u001b[1;32m    249\u001b[0m                                                        bounds))\n\u001b[1;32m    250\u001b[0m             \u001b[0;31m# Select result from run with minimal (negative) log-marginal\u001b[0m\u001b[0;34m\u001b[0m\u001b[0;34m\u001b[0m\u001b[0;34m\u001b[0m\u001b[0m\n",
      "\u001b[0;32m~/anaconda3/envs/TCGA-round1/lib/python3.8/site-packages/sklearn/gaussian_process/_gpr.py\u001b[0m in \u001b[0;36m_constrained_optimization\u001b[0;34m(self, obj_func, initial_theta, bounds)\u001b[0m\n\u001b[1;32m    499\u001b[0m     \u001b[0;32mdef\u001b[0m \u001b[0m_constrained_optimization\u001b[0m\u001b[0;34m(\u001b[0m\u001b[0mself\u001b[0m\u001b[0;34m,\u001b[0m \u001b[0mobj_func\u001b[0m\u001b[0;34m,\u001b[0m \u001b[0minitial_theta\u001b[0m\u001b[0;34m,\u001b[0m \u001b[0mbounds\u001b[0m\u001b[0;34m)\u001b[0m\u001b[0;34m:\u001b[0m\u001b[0;34m\u001b[0m\u001b[0;34m\u001b[0m\u001b[0m\n\u001b[1;32m    500\u001b[0m         \u001b[0;32mif\u001b[0m \u001b[0mself\u001b[0m\u001b[0;34m.\u001b[0m\u001b[0moptimizer\u001b[0m \u001b[0;34m==\u001b[0m \u001b[0;34m\"fmin_l_bfgs_b\"\u001b[0m\u001b[0;34m:\u001b[0m\u001b[0;34m\u001b[0m\u001b[0;34m\u001b[0m\u001b[0m\n\u001b[0;32m--> 501\u001b[0;31m             opt_res = scipy.optimize.minimize(\n\u001b[0m\u001b[1;32m    502\u001b[0m                 \u001b[0mobj_func\u001b[0m\u001b[0;34m,\u001b[0m \u001b[0minitial_theta\u001b[0m\u001b[0;34m,\u001b[0m \u001b[0mmethod\u001b[0m\u001b[0;34m=\u001b[0m\u001b[0;34m\"L-BFGS-B\"\u001b[0m\u001b[0;34m,\u001b[0m \u001b[0mjac\u001b[0m\u001b[0;34m=\u001b[0m\u001b[0;32mTrue\u001b[0m\u001b[0;34m,\u001b[0m\u001b[0;34m\u001b[0m\u001b[0;34m\u001b[0m\u001b[0m\n\u001b[1;32m    503\u001b[0m                 bounds=bounds)\n",
      "\u001b[0;32m~/anaconda3/envs/TCGA-round1/lib/python3.8/site-packages/scipy/optimize/_minimize.py\u001b[0m in \u001b[0;36mminimize\u001b[0;34m(fun, x0, args, method, jac, hess, hessp, bounds, constraints, tol, callback, options)\u001b[0m\n\u001b[1;32m    615\u001b[0m                                   **options)\n\u001b[1;32m    616\u001b[0m     \u001b[0;32melif\u001b[0m \u001b[0mmeth\u001b[0m \u001b[0;34m==\u001b[0m \u001b[0;34m'l-bfgs-b'\u001b[0m\u001b[0;34m:\u001b[0m\u001b[0;34m\u001b[0m\u001b[0;34m\u001b[0m\u001b[0m\n\u001b[0;32m--> 617\u001b[0;31m         return _minimize_lbfgsb(fun, x0, args, jac, bounds,\n\u001b[0m\u001b[1;32m    618\u001b[0m                                 callback=callback, **options)\n\u001b[1;32m    619\u001b[0m     \u001b[0;32melif\u001b[0m \u001b[0mmeth\u001b[0m \u001b[0;34m==\u001b[0m \u001b[0;34m'tnc'\u001b[0m\u001b[0;34m:\u001b[0m\u001b[0;34m\u001b[0m\u001b[0;34m\u001b[0m\u001b[0m\n",
      "\u001b[0;32m~/anaconda3/envs/TCGA-round1/lib/python3.8/site-packages/scipy/optimize/lbfgsb.py\u001b[0m in \u001b[0;36m_minimize_lbfgsb\u001b[0;34m(fun, x0, args, jac, bounds, disp, maxcor, ftol, gtol, eps, maxfun, maxiter, iprint, callback, maxls, finite_diff_rel_step, **unknown_options)\u001b[0m\n\u001b[1;32m    358\u001b[0m             \u001b[0;31m# until the completion of the current minimization iteration.\u001b[0m\u001b[0;34m\u001b[0m\u001b[0;34m\u001b[0m\u001b[0;34m\u001b[0m\u001b[0m\n\u001b[1;32m    359\u001b[0m             \u001b[0;31m# Overwrite f and g:\u001b[0m\u001b[0;34m\u001b[0m\u001b[0;34m\u001b[0m\u001b[0;34m\u001b[0m\u001b[0m\n\u001b[0;32m--> 360\u001b[0;31m             \u001b[0mf\u001b[0m\u001b[0;34m,\u001b[0m \u001b[0mg\u001b[0m \u001b[0;34m=\u001b[0m \u001b[0mfunc_and_grad\u001b[0m\u001b[0;34m(\u001b[0m\u001b[0mx\u001b[0m\u001b[0;34m)\u001b[0m\u001b[0;34m\u001b[0m\u001b[0;34m\u001b[0m\u001b[0m\n\u001b[0m\u001b[1;32m    361\u001b[0m         \u001b[0;32melif\u001b[0m \u001b[0mtask_str\u001b[0m\u001b[0;34m.\u001b[0m\u001b[0mstartswith\u001b[0m\u001b[0;34m(\u001b[0m\u001b[0;34mb'NEW_X'\u001b[0m\u001b[0;34m)\u001b[0m\u001b[0;34m:\u001b[0m\u001b[0;34m\u001b[0m\u001b[0;34m\u001b[0m\u001b[0m\n\u001b[1;32m    362\u001b[0m             \u001b[0;31m# new iteration\u001b[0m\u001b[0;34m\u001b[0m\u001b[0;34m\u001b[0m\u001b[0;34m\u001b[0m\u001b[0m\n",
      "\u001b[0;32m~/anaconda3/envs/TCGA-round1/lib/python3.8/site-packages/scipy/optimize/_differentiable_functions.py\u001b[0m in \u001b[0;36mfun_and_grad\u001b[0;34m(self, x)\u001b[0m\n\u001b[1;32m    198\u001b[0m         \u001b[0;32mif\u001b[0m \u001b[0;32mnot\u001b[0m \u001b[0mnp\u001b[0m\u001b[0;34m.\u001b[0m\u001b[0marray_equal\u001b[0m\u001b[0;34m(\u001b[0m\u001b[0mx\u001b[0m\u001b[0;34m,\u001b[0m \u001b[0mself\u001b[0m\u001b[0;34m.\u001b[0m\u001b[0mx\u001b[0m\u001b[0;34m)\u001b[0m\u001b[0;34m:\u001b[0m\u001b[0;34m\u001b[0m\u001b[0;34m\u001b[0m\u001b[0m\n\u001b[1;32m    199\u001b[0m             \u001b[0mself\u001b[0m\u001b[0;34m.\u001b[0m\u001b[0m_update_x_impl\u001b[0m\u001b[0;34m(\u001b[0m\u001b[0mx\u001b[0m\u001b[0;34m)\u001b[0m\u001b[0;34m\u001b[0m\u001b[0;34m\u001b[0m\u001b[0m\n\u001b[0;32m--> 200\u001b[0;31m         \u001b[0mself\u001b[0m\u001b[0;34m.\u001b[0m\u001b[0m_update_fun\u001b[0m\u001b[0;34m(\u001b[0m\u001b[0;34m)\u001b[0m\u001b[0;34m\u001b[0m\u001b[0;34m\u001b[0m\u001b[0m\n\u001b[0m\u001b[1;32m    201\u001b[0m         \u001b[0mself\u001b[0m\u001b[0;34m.\u001b[0m\u001b[0m_update_grad\u001b[0m\u001b[0;34m(\u001b[0m\u001b[0;34m)\u001b[0m\u001b[0;34m\u001b[0m\u001b[0;34m\u001b[0m\u001b[0m\n\u001b[1;32m    202\u001b[0m         \u001b[0;32mreturn\u001b[0m \u001b[0mself\u001b[0m\u001b[0;34m.\u001b[0m\u001b[0mf\u001b[0m\u001b[0;34m,\u001b[0m \u001b[0mself\u001b[0m\u001b[0;34m.\u001b[0m\u001b[0mg\u001b[0m\u001b[0;34m\u001b[0m\u001b[0;34m\u001b[0m\u001b[0m\n",
      "\u001b[0;32m~/anaconda3/envs/TCGA-round1/lib/python3.8/site-packages/scipy/optimize/_differentiable_functions.py\u001b[0m in \u001b[0;36m_update_fun\u001b[0;34m(self)\u001b[0m\n\u001b[1;32m    164\u001b[0m     \u001b[0;32mdef\u001b[0m \u001b[0m_update_fun\u001b[0m\u001b[0;34m(\u001b[0m\u001b[0mself\u001b[0m\u001b[0;34m)\u001b[0m\u001b[0;34m:\u001b[0m\u001b[0;34m\u001b[0m\u001b[0;34m\u001b[0m\u001b[0m\n\u001b[1;32m    165\u001b[0m         \u001b[0;32mif\u001b[0m \u001b[0;32mnot\u001b[0m \u001b[0mself\u001b[0m\u001b[0;34m.\u001b[0m\u001b[0mf_updated\u001b[0m\u001b[0;34m:\u001b[0m\u001b[0;34m\u001b[0m\u001b[0;34m\u001b[0m\u001b[0m\n\u001b[0;32m--> 166\u001b[0;31m             \u001b[0mself\u001b[0m\u001b[0;34m.\u001b[0m\u001b[0m_update_fun_impl\u001b[0m\u001b[0;34m(\u001b[0m\u001b[0;34m)\u001b[0m\u001b[0;34m\u001b[0m\u001b[0;34m\u001b[0m\u001b[0m\n\u001b[0m\u001b[1;32m    167\u001b[0m             \u001b[0mself\u001b[0m\u001b[0;34m.\u001b[0m\u001b[0mf_updated\u001b[0m \u001b[0;34m=\u001b[0m \u001b[0;32mTrue\u001b[0m\u001b[0;34m\u001b[0m\u001b[0;34m\u001b[0m\u001b[0m\n\u001b[1;32m    168\u001b[0m \u001b[0;34m\u001b[0m\u001b[0m\n",
      "\u001b[0;32m~/anaconda3/envs/TCGA-round1/lib/python3.8/site-packages/scipy/optimize/_differentiable_functions.py\u001b[0m in \u001b[0;36mupdate_fun\u001b[0;34m()\u001b[0m\n\u001b[1;32m     71\u001b[0m \u001b[0;34m\u001b[0m\u001b[0m\n\u001b[1;32m     72\u001b[0m         \u001b[0;32mdef\u001b[0m \u001b[0mupdate_fun\u001b[0m\u001b[0;34m(\u001b[0m\u001b[0;34m)\u001b[0m\u001b[0;34m:\u001b[0m\u001b[0;34m\u001b[0m\u001b[0;34m\u001b[0m\u001b[0m\n\u001b[0;32m---> 73\u001b[0;31m             \u001b[0mself\u001b[0m\u001b[0;34m.\u001b[0m\u001b[0mf\u001b[0m \u001b[0;34m=\u001b[0m \u001b[0mfun_wrapped\u001b[0m\u001b[0;34m(\u001b[0m\u001b[0mself\u001b[0m\u001b[0;34m.\u001b[0m\u001b[0mx\u001b[0m\u001b[0;34m)\u001b[0m\u001b[0;34m\u001b[0m\u001b[0;34m\u001b[0m\u001b[0m\n\u001b[0m\u001b[1;32m     74\u001b[0m \u001b[0;34m\u001b[0m\u001b[0m\n\u001b[1;32m     75\u001b[0m         \u001b[0mself\u001b[0m\u001b[0;34m.\u001b[0m\u001b[0m_update_fun_impl\u001b[0m \u001b[0;34m=\u001b[0m \u001b[0mupdate_fun\u001b[0m\u001b[0;34m\u001b[0m\u001b[0;34m\u001b[0m\u001b[0m\n",
      "\u001b[0;32m~/anaconda3/envs/TCGA-round1/lib/python3.8/site-packages/scipy/optimize/_differentiable_functions.py\u001b[0m in \u001b[0;36mfun_wrapped\u001b[0;34m(x)\u001b[0m\n\u001b[1;32m     68\u001b[0m         \u001b[0;32mdef\u001b[0m \u001b[0mfun_wrapped\u001b[0m\u001b[0;34m(\u001b[0m\u001b[0mx\u001b[0m\u001b[0;34m)\u001b[0m\u001b[0;34m:\u001b[0m\u001b[0;34m\u001b[0m\u001b[0;34m\u001b[0m\u001b[0m\n\u001b[1;32m     69\u001b[0m             \u001b[0mself\u001b[0m\u001b[0;34m.\u001b[0m\u001b[0mnfev\u001b[0m \u001b[0;34m+=\u001b[0m \u001b[0;36m1\u001b[0m\u001b[0;34m\u001b[0m\u001b[0;34m\u001b[0m\u001b[0m\n\u001b[0;32m---> 70\u001b[0;31m             \u001b[0;32mreturn\u001b[0m \u001b[0mfun\u001b[0m\u001b[0;34m(\u001b[0m\u001b[0mx\u001b[0m\u001b[0;34m,\u001b[0m \u001b[0;34m*\u001b[0m\u001b[0margs\u001b[0m\u001b[0;34m)\u001b[0m\u001b[0;34m\u001b[0m\u001b[0;34m\u001b[0m\u001b[0m\n\u001b[0m\u001b[1;32m     71\u001b[0m \u001b[0;34m\u001b[0m\u001b[0m\n\u001b[1;32m     72\u001b[0m         \u001b[0;32mdef\u001b[0m \u001b[0mupdate_fun\u001b[0m\u001b[0;34m(\u001b[0m\u001b[0;34m)\u001b[0m\u001b[0;34m:\u001b[0m\u001b[0;34m\u001b[0m\u001b[0;34m\u001b[0m\u001b[0m\n",
      "\u001b[0;32m~/anaconda3/envs/TCGA-round1/lib/python3.8/site-packages/scipy/optimize/optimize.py\u001b[0m in \u001b[0;36m__call__\u001b[0;34m(self, x, *args)\u001b[0m\n\u001b[1;32m     72\u001b[0m     \u001b[0;32mdef\u001b[0m \u001b[0m__call__\u001b[0m\u001b[0;34m(\u001b[0m\u001b[0mself\u001b[0m\u001b[0;34m,\u001b[0m \u001b[0mx\u001b[0m\u001b[0;34m,\u001b[0m \u001b[0;34m*\u001b[0m\u001b[0margs\u001b[0m\u001b[0;34m)\u001b[0m\u001b[0;34m:\u001b[0m\u001b[0;34m\u001b[0m\u001b[0;34m\u001b[0m\u001b[0m\n\u001b[1;32m     73\u001b[0m         \u001b[0;34m\"\"\" returns the the function value \"\"\"\u001b[0m\u001b[0;34m\u001b[0m\u001b[0;34m\u001b[0m\u001b[0m\n\u001b[0;32m---> 74\u001b[0;31m         \u001b[0mself\u001b[0m\u001b[0;34m.\u001b[0m\u001b[0m_compute_if_needed\u001b[0m\u001b[0;34m(\u001b[0m\u001b[0mx\u001b[0m\u001b[0;34m,\u001b[0m \u001b[0;34m*\u001b[0m\u001b[0margs\u001b[0m\u001b[0;34m)\u001b[0m\u001b[0;34m\u001b[0m\u001b[0;34m\u001b[0m\u001b[0m\n\u001b[0m\u001b[1;32m     75\u001b[0m         \u001b[0;32mreturn\u001b[0m \u001b[0mself\u001b[0m\u001b[0;34m.\u001b[0m\u001b[0m_value\u001b[0m\u001b[0;34m\u001b[0m\u001b[0;34m\u001b[0m\u001b[0m\n\u001b[1;32m     76\u001b[0m \u001b[0;34m\u001b[0m\u001b[0m\n",
      "\u001b[0;32m~/anaconda3/envs/TCGA-round1/lib/python3.8/site-packages/scipy/optimize/optimize.py\u001b[0m in \u001b[0;36m_compute_if_needed\u001b[0;34m(self, x, *args)\u001b[0m\n\u001b[1;32m     66\u001b[0m         \u001b[0;32mif\u001b[0m \u001b[0;32mnot\u001b[0m \u001b[0mnp\u001b[0m\u001b[0;34m.\u001b[0m\u001b[0mall\u001b[0m\u001b[0;34m(\u001b[0m\u001b[0mx\u001b[0m \u001b[0;34m==\u001b[0m \u001b[0mself\u001b[0m\u001b[0;34m.\u001b[0m\u001b[0mx\u001b[0m\u001b[0;34m)\u001b[0m \u001b[0;32mor\u001b[0m \u001b[0mself\u001b[0m\u001b[0;34m.\u001b[0m\u001b[0m_value\u001b[0m \u001b[0;32mis\u001b[0m \u001b[0;32mNone\u001b[0m \u001b[0;32mor\u001b[0m \u001b[0mself\u001b[0m\u001b[0;34m.\u001b[0m\u001b[0mjac\u001b[0m \u001b[0;32mis\u001b[0m \u001b[0;32mNone\u001b[0m\u001b[0;34m:\u001b[0m\u001b[0;34m\u001b[0m\u001b[0;34m\u001b[0m\u001b[0m\n\u001b[1;32m     67\u001b[0m             \u001b[0mself\u001b[0m\u001b[0;34m.\u001b[0m\u001b[0mx\u001b[0m \u001b[0;34m=\u001b[0m \u001b[0mnp\u001b[0m\u001b[0;34m.\u001b[0m\u001b[0masarray\u001b[0m\u001b[0;34m(\u001b[0m\u001b[0mx\u001b[0m\u001b[0;34m)\u001b[0m\u001b[0;34m.\u001b[0m\u001b[0mcopy\u001b[0m\u001b[0;34m(\u001b[0m\u001b[0;34m)\u001b[0m\u001b[0;34m\u001b[0m\u001b[0;34m\u001b[0m\u001b[0m\n\u001b[0;32m---> 68\u001b[0;31m             \u001b[0mfg\u001b[0m \u001b[0;34m=\u001b[0m \u001b[0mself\u001b[0m\u001b[0;34m.\u001b[0m\u001b[0mfun\u001b[0m\u001b[0;34m(\u001b[0m\u001b[0mx\u001b[0m\u001b[0;34m,\u001b[0m \u001b[0;34m*\u001b[0m\u001b[0margs\u001b[0m\u001b[0;34m)\u001b[0m\u001b[0;34m\u001b[0m\u001b[0;34m\u001b[0m\u001b[0m\n\u001b[0m\u001b[1;32m     69\u001b[0m             \u001b[0mself\u001b[0m\u001b[0;34m.\u001b[0m\u001b[0mjac\u001b[0m \u001b[0;34m=\u001b[0m \u001b[0mfg\u001b[0m\u001b[0;34m[\u001b[0m\u001b[0;36m1\u001b[0m\u001b[0;34m]\u001b[0m\u001b[0;34m\u001b[0m\u001b[0;34m\u001b[0m\u001b[0m\n\u001b[1;32m     70\u001b[0m             \u001b[0mself\u001b[0m\u001b[0;34m.\u001b[0m\u001b[0m_value\u001b[0m \u001b[0;34m=\u001b[0m \u001b[0mfg\u001b[0m\u001b[0;34m[\u001b[0m\u001b[0;36m0\u001b[0m\u001b[0;34m]\u001b[0m\u001b[0;34m\u001b[0m\u001b[0;34m\u001b[0m\u001b[0m\n",
      "\u001b[0;32m~/anaconda3/envs/TCGA-round1/lib/python3.8/site-packages/sklearn/gaussian_process/_gpr.py\u001b[0m in \u001b[0;36mobj_func\u001b[0;34m(theta, eval_gradient)\u001b[0m\n\u001b[1;32m    222\u001b[0m             \u001b[0;32mdef\u001b[0m \u001b[0mobj_func\u001b[0m\u001b[0;34m(\u001b[0m\u001b[0mtheta\u001b[0m\u001b[0;34m,\u001b[0m \u001b[0meval_gradient\u001b[0m\u001b[0;34m=\u001b[0m\u001b[0;32mTrue\u001b[0m\u001b[0;34m)\u001b[0m\u001b[0;34m:\u001b[0m\u001b[0;34m\u001b[0m\u001b[0;34m\u001b[0m\u001b[0m\n\u001b[1;32m    223\u001b[0m                 \u001b[0;32mif\u001b[0m \u001b[0meval_gradient\u001b[0m\u001b[0;34m:\u001b[0m\u001b[0;34m\u001b[0m\u001b[0;34m\u001b[0m\u001b[0m\n\u001b[0;32m--> 224\u001b[0;31m                     lml, grad = self.log_marginal_likelihood(\n\u001b[0m\u001b[1;32m    225\u001b[0m                         theta, eval_gradient=True, clone_kernel=False)\n\u001b[1;32m    226\u001b[0m                     \u001b[0;32mreturn\u001b[0m \u001b[0;34m-\u001b[0m\u001b[0mlml\u001b[0m\u001b[0;34m,\u001b[0m \u001b[0;34m-\u001b[0m\u001b[0mgrad\u001b[0m\u001b[0;34m\u001b[0m\u001b[0;34m\u001b[0m\u001b[0m\n",
      "\u001b[0;32m~/anaconda3/envs/TCGA-round1/lib/python3.8/site-packages/sklearn/gaussian_process/_gpr.py\u001b[0m in \u001b[0;36mlog_marginal_likelihood\u001b[0;34m(self, theta, eval_gradient, clone_kernel)\u001b[0m\n\u001b[1;32m    477\u001b[0m \u001b[0;34m\u001b[0m\u001b[0m\n\u001b[1;32m    478\u001b[0m         \u001b[0;31m# Compute log-likelihood (compare line 7)\u001b[0m\u001b[0;34m\u001b[0m\u001b[0;34m\u001b[0m\u001b[0;34m\u001b[0m\u001b[0m\n\u001b[0;32m--> 479\u001b[0;31m         \u001b[0mlog_likelihood_dims\u001b[0m \u001b[0;34m=\u001b[0m \u001b[0;34m-\u001b[0m\u001b[0;36m0.5\u001b[0m \u001b[0;34m*\u001b[0m \u001b[0mnp\u001b[0m\u001b[0;34m.\u001b[0m\u001b[0meinsum\u001b[0m\u001b[0;34m(\u001b[0m\u001b[0;34m\"ik,ik->k\"\u001b[0m\u001b[0;34m,\u001b[0m \u001b[0my_train\u001b[0m\u001b[0;34m,\u001b[0m \u001b[0malpha\u001b[0m\u001b[0;34m)\u001b[0m\u001b[0;34m\u001b[0m\u001b[0;34m\u001b[0m\u001b[0m\n\u001b[0m\u001b[1;32m    480\u001b[0m         \u001b[0mlog_likelihood_dims\u001b[0m \u001b[0;34m-=\u001b[0m \u001b[0mnp\u001b[0m\u001b[0;34m.\u001b[0m\u001b[0mlog\u001b[0m\u001b[0;34m(\u001b[0m\u001b[0mnp\u001b[0m\u001b[0;34m.\u001b[0m\u001b[0mdiag\u001b[0m\u001b[0;34m(\u001b[0m\u001b[0mL\u001b[0m\u001b[0;34m)\u001b[0m\u001b[0;34m)\u001b[0m\u001b[0;34m.\u001b[0m\u001b[0msum\u001b[0m\u001b[0;34m(\u001b[0m\u001b[0;34m)\u001b[0m\u001b[0;34m\u001b[0m\u001b[0;34m\u001b[0m\u001b[0m\n\u001b[1;32m    481\u001b[0m         \u001b[0mlog_likelihood_dims\u001b[0m \u001b[0;34m-=\u001b[0m \u001b[0mK\u001b[0m\u001b[0;34m.\u001b[0m\u001b[0mshape\u001b[0m\u001b[0;34m[\u001b[0m\u001b[0;36m0\u001b[0m\u001b[0;34m]\u001b[0m \u001b[0;34m/\u001b[0m \u001b[0;36m2\u001b[0m \u001b[0;34m*\u001b[0m \u001b[0mnp\u001b[0m\u001b[0;34m.\u001b[0m\u001b[0mlog\u001b[0m\u001b[0;34m(\u001b[0m\u001b[0;36m2\u001b[0m \u001b[0;34m*\u001b[0m \u001b[0mnp\u001b[0m\u001b[0;34m.\u001b[0m\u001b[0mpi\u001b[0m\u001b[0;34m)\u001b[0m\u001b[0;34m\u001b[0m\u001b[0;34m\u001b[0m\u001b[0m\n",
      "\u001b[0;32m<__array_function__ internals>\u001b[0m in \u001b[0;36meinsum\u001b[0;34m(*args, **kwargs)\u001b[0m\n",
      "\u001b[0;32m~/anaconda3/envs/TCGA-round1/lib/python3.8/site-packages/numpy/core/einsumfunc.py\u001b[0m in \u001b[0;36meinsum\u001b[0;34m(out, optimize, *operands, **kwargs)\u001b[0m\n\u001b[1;32m   1348\u001b[0m         \u001b[0;32mif\u001b[0m \u001b[0mspecified_out\u001b[0m\u001b[0;34m:\u001b[0m\u001b[0;34m\u001b[0m\u001b[0;34m\u001b[0m\u001b[0m\n\u001b[1;32m   1349\u001b[0m             \u001b[0mkwargs\u001b[0m\u001b[0;34m[\u001b[0m\u001b[0;34m'out'\u001b[0m\u001b[0;34m]\u001b[0m \u001b[0;34m=\u001b[0m \u001b[0mout\u001b[0m\u001b[0;34m\u001b[0m\u001b[0;34m\u001b[0m\u001b[0m\n\u001b[0;32m-> 1350\u001b[0;31m         \u001b[0;32mreturn\u001b[0m \u001b[0mc_einsum\u001b[0m\u001b[0;34m(\u001b[0m\u001b[0;34m*\u001b[0m\u001b[0moperands\u001b[0m\u001b[0;34m,\u001b[0m \u001b[0;34m**\u001b[0m\u001b[0mkwargs\u001b[0m\u001b[0;34m)\u001b[0m\u001b[0;34m\u001b[0m\u001b[0;34m\u001b[0m\u001b[0m\n\u001b[0m\u001b[1;32m   1351\u001b[0m \u001b[0;34m\u001b[0m\u001b[0m\n\u001b[1;32m   1352\u001b[0m     \u001b[0;31m# Check the kwargs to avoid a more cryptic error later, without having to\u001b[0m\u001b[0;34m\u001b[0m\u001b[0;34m\u001b[0m\u001b[0;34m\u001b[0m\u001b[0m\n",
      "\u001b[0;31mKeyboardInterrupt\u001b[0m: "
     ]
    }
   ],
   "source": [
    "res = gp_minimize(\n",
    "    lambda h_ps: objective(h_ps, x_df, y_df),\n",
    "    space,\n",
    "    verbose=True,\n",
    "    random_state=rand,\n",
    "    n_initial_points=n_initial,\n",
    "    n_calls = n_calls,\n",
    "    n_jobs=-1,\n",
    "    callback=lambda x: opt.save_callback(x, \"opt_svc_h_params_TEST.tsv\", sep=\"\\t\")\n",
    ")"
   ]
  },
  {
   "cell_type": "code",
   "execution_count": null,
   "metadata": {},
   "outputs": [],
   "source": []
  }
 ],
 "metadata": {
  "kernelspec": {
   "display_name": "Python 3",
   "language": "python",
   "name": "python3"
  },
  "language_info": {
   "codemirror_mode": {
    "name": "ipython",
    "version": 3
   },
   "file_extension": ".py",
   "mimetype": "text/x-python",
   "name": "python",
   "nbconvert_exporter": "python",
   "pygments_lexer": "ipython3",
   "version": "3.8.3"
  }
 },
 "nbformat": 4,
 "nbformat_minor": 4
}
