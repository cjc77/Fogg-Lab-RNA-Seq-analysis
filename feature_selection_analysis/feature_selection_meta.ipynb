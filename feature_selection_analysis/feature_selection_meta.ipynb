{
 "cells": [
  {
   "cell_type": "code",
   "execution_count": 1,
   "metadata": {
    "collapsed": true,
    "jupyter": {
     "outputs_hidden": true
    }
   },
   "outputs": [
    {
     "name": "stderr",
     "output_type": "stream",
     "text": [
      "── Attaching packages ─────────────────────────────────────── tidyverse 1.3.0 ──\n",
      "✔ ggplot2 3.3.2     ✔ purrr   0.3.4\n",
      "✔ tibble  3.0.3     ✔ dplyr   1.0.0\n",
      "✔ tidyr   1.1.0     ✔ stringr 1.4.0\n",
      "✔ readr   1.3.1     ✔ forcats 0.5.0\n",
      "── Conflicts ────────────────────────────────────────── tidyverse_conflicts() ──\n",
      "✖ dplyr::filter() masks stats::filter()\n",
      "✖ dplyr::lag()    masks stats::lag()\n"
     ]
    }
   ],
   "source": [
    "library(tidyverse)\n",
    "\n",
    "# Custom package\n",
    "library(rutils)"
   ]
  },
  {
   "cell_type": "code",
   "execution_count": 2,
   "metadata": {
    "collapsed": true,
    "jupyter": {
     "outputs_hidden": true
    }
   },
   "outputs": [],
   "source": [
    "dirs <- rutils::get_dev_directories(dev_paths_file = \"../dev_paths.txt\")\n",
    "projects <- c(\"TCGA-CESC\", \"TCGA-UCS\", \"TCGA-UCEC\", \"TCGA-OV\")\n",
    "unified_dsets <- c(\"unified_cervical_data\", \"unified_uterine_data\", \"unified_uterine_endometrial_data\")\n",
    "matrisome_list <- paste0(dirs$data_dir, \"/matrisome/matrisome_hs_masterlist.tsv\")"
   ]
  },
  {
   "cell_type": "code",
   "execution_count": 3,
   "metadata": {
    "collapsed": true,
    "jupyter": {
     "outputs_hidden": true
    }
   },
   "outputs": [],
   "source": [
    "dset_idx <- 1"
   ]
  },
  {
   "cell_type": "code",
   "execution_count": 4,
   "metadata": {
    "collapsed": true,
    "jupyter": {
     "outputs_hidden": true
    }
   },
   "outputs": [],
   "source": [
    "p_thresh = 0.05\n",
    "lfc_thresh = log2(2)\n",
    "coxph_coeff_thresh = 0.0"
   ]
  },
  {
   "cell_type": "markdown",
   "metadata": {},
   "source": [
    "# Helpers"
   ]
  },
  {
   "cell_type": "code",
   "execution_count": 5,
   "metadata": {
    "collapsed": true,
    "jupyter": {
     "outputs_hidden": true
    }
   },
   "outputs": [
    {
     "name": "stderr",
     "output_type": "stream",
     "text": [
      "Parsed with column specification:\n",
      "cols(\n",
      "  Division = col_character(),\n",
      "  Category = col_character(),\n",
      "  `Gene Symbol` = col_character(),\n",
      "  `Gene Name` = col_character(),\n",
      "  Synonyms = col_character(),\n",
      "  HGNC_IDs = col_double(),\n",
      "  `HGNC_IDs Links` = col_double(),\n",
      "  UniProt_IDs = col_character(),\n",
      "  Refseq_IDs = col_character(),\n",
      "  Orthology = col_character(),\n",
      "  Notes = col_character()\n",
      ")\n"
     ]
    }
   ],
   "source": [
    "matrisome_df <- rutils::load_matrisome_df(matrisome_list) %>%\n",
    "    dplyr::select(gene_symbol, division, category)"
   ]
  },
  {
   "cell_type": "code",
   "execution_count": 6,
   "metadata": {
    "collapsed": true,
    "jupyter": {
     "outputs_hidden": true
    }
   },
   "outputs": [
    {
     "name": "stderr",
     "output_type": "stream",
     "text": [
      "Parsed with column specification:\n",
      "cols(\n",
      "  .default = col_double(),\n",
      "  geneID = col_character()\n",
      ")\n",
      "See spec(...) for full column specifications.\n"
     ]
    }
   ],
   "source": [
    "norm_counts_df <- read_tsv(paste0(dirs$data_dir, \"/\", unified_dsets[dset_idx], \"/\", \"norm_counts.tsv\"))"
   ]
  },
  {
   "cell_type": "markdown",
   "metadata": {},
   "source": [
    "# DGE analysis"
   ]
  },
  {
   "cell_type": "code",
   "execution_count": 7,
   "metadata": {
    "collapsed": true,
    "jupyter": {
     "outputs_hidden": true
    }
   },
   "outputs": [
    {
     "name": "stderr",
     "output_type": "stream",
     "text": [
      "Parsed with column specification:\n",
      "cols(\n",
      "  geneID = col_character(),\n",
      "  baseMean = col_double(),\n",
      "  log2FoldChange = col_double(),\n",
      "  lfcSE = col_double(),\n",
      "  stat = col_double(),\n",
      "  pvalue = col_double(),\n",
      "  padj = col_double()\n",
      ")\n"
     ]
    },
    {
     "data": {
      "text/html": [
       "'DEGs: 7189'"
      ],
      "text/latex": [
       "'DEGs: 7189'"
      ],
      "text/markdown": [
       "'DEGs: 7189'"
      ],
      "text/plain": [
       "[1] \"DEGs: 7189\""
      ]
     },
     "metadata": {},
     "output_type": "display_data"
    },
    {
     "data": {
      "text/html": [
       "'DEG prop: 0.355152652899911'"
      ],
      "text/latex": [
       "'DEG prop: 0.355152652899911'"
      ],
      "text/markdown": [
       "'DEG prop: 0.355152652899911'"
      ],
      "text/plain": [
       "[1] \"DEG prop: 0.355152652899911\""
      ]
     },
     "metadata": {},
     "output_type": "display_data"
    },
    {
     "data": {
      "text/html": [
       "'Up: 3703'"
      ],
      "text/latex": [
       "'Up: 3703'"
      ],
      "text/markdown": [
       "'Up: 3703'"
      ],
      "text/plain": [
       "[1] \"Up: 3703\""
      ]
     },
     "metadata": {},
     "output_type": "display_data"
    },
    {
     "data": {
      "text/html": [
       "'Down: 3486'"
      ],
      "text/latex": [
       "'Down: 3486'"
      ],
      "text/markdown": [
       "'Down: 3486'"
      ],
      "text/plain": [
       "[1] \"Down: 3486\""
      ]
     },
     "metadata": {},
     "output_type": "display_data"
    },
    {
     "data": {
      "text/html": [
       "'Matrisome DEGs: 559'"
      ],
      "text/latex": [
       "'Matrisome DEGs: 559'"
      ],
      "text/markdown": [
       "'Matrisome DEGs: 559'"
      ],
      "text/plain": [
       "[1] \"Matrisome DEGs: 559\""
      ]
     },
     "metadata": {},
     "output_type": "display_data"
    },
    {
     "data": {
      "text/html": [
       "'Matrisome DEG prop: 0.544303797468354'"
      ],
      "text/latex": [
       "'Matrisome DEG prop: 0.544303797468354'"
      ],
      "text/markdown": [
       "'Matrisome DEG prop: 0.544303797468354'"
      ],
      "text/plain": [
       "[1] \"Matrisome DEG prop: 0.544303797468354\""
      ]
     },
     "metadata": {},
     "output_type": "display_data"
    },
    {
     "data": {
      "text/html": [
       "'Matrisome up: 241'"
      ],
      "text/latex": [
       "'Matrisome up: 241'"
      ],
      "text/markdown": [
       "'Matrisome up: 241'"
      ],
      "text/plain": [
       "[1] \"Matrisome up: 241\""
      ]
     },
     "metadata": {},
     "output_type": "display_data"
    },
    {
     "data": {
      "text/html": [
       "'Matrisome down: 318'"
      ],
      "text/latex": [
       "'Matrisome down: 318'"
      ],
      "text/markdown": [
       "'Matrisome down: 318'"
      ],
      "text/plain": [
       "[1] \"Matrisome down: 318\""
      ]
     },
     "metadata": {},
     "output_type": "display_data"
    }
   ],
   "source": [
    "DESeq_results_df <- read_tsv(paste0(dirs$analysis_dir, \"/\", unified_dsets[dset_idx], \"_DESeq_results.tsv\"))\n",
    "filtered_DESeq_results_df <- DESeq_results_df %>%\n",
    "    dplyr::filter(abs(log2FoldChange) > lfc_thresh, padj < p_thresh)\n",
    "filtered_matrisome_DESeq_results_df <- filtered_DESeq_results_df %>%\n",
    "    dplyr::filter(geneID %in% matrisome_df$gene_symbol)\n",
    "\n",
    "n_degs <- nrow(filtered_DESeq_results_df)\n",
    "deg_prop <- nrow(filtered_DESeq_results_df) / nrow(norm_counts_df)\n",
    "n_degs_up <- nrow(filtered_DESeq_results_df %>% dplyr::filter(log2FoldChange > 0))\n",
    "n_degs_down <- nrow(filtered_DESeq_results_df %>% dplyr::filter(log2FoldChange < 0))\n",
    "\n",
    "n_matrisome_degs <- nrow(filtered_matrisome_DESeq_results_df)\n",
    "matrisome_deg_prop <- nrow(filtered_matrisome_DESeq_results_df) / nrow(matrisome_df)\n",
    "n_matrisome_degs_up <- nrow(filtered_matrisome_DESeq_results_df %>% dplyr::filter(log2FoldChange > 0))\n",
    "n_matrisome_degs_down <- nrow(filtered_matrisome_DESeq_results_df %>% dplyr::filter(log2FoldChange < 0))\n",
    "\n",
    "\n",
    "paste0(\"DEGs: \", n_degs)\n",
    "paste0(\"DEG prop: \", deg_prop)\n",
    "paste0(\"Up: \", n_degs_up)\n",
    "paste0(\"Down: \", n_degs_down)\n",
    "paste0(\"Matrisome DEGs: \", n_matrisome_degs)\n",
    "paste0(\"Matrisome DEG prop: \", matrisome_deg_prop)\n",
    "paste0(\"Matrisome up: \", n_matrisome_degs_up)\n",
    "paste0(\"Matrisome down: \", n_matrisome_degs_down)"
   ]
  },
  {
   "cell_type": "markdown",
   "metadata": {},
   "source": [
    "# Survival analysis"
   ]
  },
  {
   "cell_type": "code",
   "execution_count": 8,
   "metadata": {
    "collapsed": true,
    "jupyter": {
     "outputs_hidden": true
    }
   },
   "outputs": [
    {
     "name": "stderr",
     "output_type": "stream",
     "text": [
      "Parsed with column specification:\n",
      "cols(\n",
      "  dataset = col_character(),\n",
      "  lr_test_pval = col_double(),\n",
      "  wald_test_pval = col_double(),\n",
      "  score_test_pval = col_double()\n",
      ")\n",
      "Parsed with column specification:\n",
      "cols(\n",
      "  geneID = col_character(),\n",
      "  gene_pval = col_double(),\n",
      "  gene_coeff = col_double()\n",
      ")\n"
     ]
    }
   ],
   "source": [
    "coxph_null_scores_df <- read_tsv(paste0(dirs$analysis_dir, \"/meta/\", \"coxph_null_scores.tsv\"))\n",
    "coxph_results_df <- read_tsv(paste0(dirs$analysis_dir, \"/\", unified_dsets[dset_idx], \"_coxph_results.tsv\"))\n",
    "filtered_coxph_results_df <- coxph_results_df %>%\n",
    "    dplyr::filter(gene_pval < p_thresh)"
   ]
  },
  {
   "cell_type": "code",
   "execution_count": 9,
   "metadata": {
    "collapsed": true,
    "jupyter": {
     "outputs_hidden": true
    }
   },
   "outputs": [
    {
     "data": {
      "text/html": [
       "<table>\n",
       "<caption>A spec_tbl_df: 3 × 4</caption>\n",
       "<thead>\n",
       "\t<tr><th scope=col>dataset</th><th scope=col>lr_test_pval</th><th scope=col>wald_test_pval</th><th scope=col>score_test_pval</th></tr>\n",
       "\t<tr><th scope=col>&lt;chr&gt;</th><th scope=col>&lt;dbl&gt;</th><th scope=col>&lt;dbl&gt;</th><th scope=col>&lt;dbl&gt;</th></tr>\n",
       "</thead>\n",
       "<tbody>\n",
       "\t<tr><td>unified_cervical_data           </td><td>0.0004814013</td><td>0.000049053</td><td>1.224173e-06</td></tr>\n",
       "\t<tr><td>unified_uterine_data            </td><td>0.3392807906</td><td>0.989893132</td><td>3.053979e-01</td></tr>\n",
       "\t<tr><td>unified_uterine_endometrial_data</td><td>0.0007739010</td><td>0.000000000</td><td>1.040876e-06</td></tr>\n",
       "</tbody>\n",
       "</table>\n"
      ],
      "text/latex": [
       "A spec\\_tbl\\_df: 3 × 4\n",
       "\\begin{tabular}{llll}\n",
       " dataset & lr\\_test\\_pval & wald\\_test\\_pval & score\\_test\\_pval\\\\\n",
       " <chr> & <dbl> & <dbl> & <dbl>\\\\\n",
       "\\hline\n",
       "\t unified\\_cervical\\_data            & 0.0004814013 & 0.000049053 & 1.224173e-06\\\\\n",
       "\t unified\\_uterine\\_data             & 0.3392807906 & 0.989893132 & 3.053979e-01\\\\\n",
       "\t unified\\_uterine\\_endometrial\\_data & 0.0007739010 & 0.000000000 & 1.040876e-06\\\\\n",
       "\\end{tabular}\n"
      ],
      "text/markdown": [
       "\n",
       "A spec_tbl_df: 3 × 4\n",
       "\n",
       "| dataset &lt;chr&gt; | lr_test_pval &lt;dbl&gt; | wald_test_pval &lt;dbl&gt; | score_test_pval &lt;dbl&gt; |\n",
       "|---|---|---|---|\n",
       "| unified_cervical_data            | 0.0004814013 | 0.000049053 | 1.224173e-06 |\n",
       "| unified_uterine_data             | 0.3392807906 | 0.989893132 | 3.053979e-01 |\n",
       "| unified_uterine_endometrial_data | 0.0007739010 | 0.000000000 | 1.040876e-06 |\n",
       "\n"
      ],
      "text/plain": [
       "  dataset                          lr_test_pval wald_test_pval score_test_pval\n",
       "1 unified_cervical_data            0.0004814013 0.000049053    1.224173e-06   \n",
       "2 unified_uterine_data             0.3392807906 0.989893132    3.053979e-01   \n",
       "3 unified_uterine_endometrial_data 0.0007739010 0.000000000    1.040876e-06   "
      ]
     },
     "metadata": {},
     "output_type": "display_data"
    }
   ],
   "source": [
    "coxph_null_scores_df"
   ]
  },
  {
   "cell_type": "code",
   "execution_count": 10,
   "metadata": {
    "collapsed": true,
    "jupyter": {
     "outputs_hidden": true
    }
   },
   "outputs": [
    {
     "data": {
      "text/html": [
       "'Sig. null Cox PH: TRUE'"
      ],
      "text/latex": [
       "'Sig. null Cox PH: TRUE'"
      ],
      "text/markdown": [
       "'Sig. null Cox PH: TRUE'"
      ],
      "text/plain": [
       "[1] \"Sig. null Cox PH: TRUE\""
      ]
     },
     "metadata": {},
     "output_type": "display_data"
    },
    {
     "data": {
      "text/html": [
       "'Sig. Cox PH genes: 171'"
      ],
      "text/latex": [
       "'Sig. Cox PH genes: 171'"
      ],
      "text/markdown": [
       "'Sig. Cox PH genes: 171'"
      ],
      "text/plain": [
       "[1] \"Sig. Cox PH genes: 171\""
      ]
     },
     "metadata": {},
     "output_type": "display_data"
    },
    {
     "data": {
      "text/html": [
       "'Prop. sig. Cox PH genes: 0.166504381694255'"
      ],
      "text/latex": [
       "'Prop. sig. Cox PH genes: 0.166504381694255'"
      ],
      "text/markdown": [
       "'Prop. sig. Cox PH genes: 0.166504381694255'"
      ],
      "text/plain": [
       "[1] \"Prop. sig. Cox PH genes: 0.166504381694255\""
      ]
     },
     "metadata": {},
     "output_type": "display_data"
    },
    {
     "data": {
      "text/html": [
       "'Sig. Cox PH protective: 54'"
      ],
      "text/latex": [
       "'Sig. Cox PH protective: 54'"
      ],
      "text/markdown": [
       "'Sig. Cox PH protective: 54'"
      ],
      "text/plain": [
       "[1] \"Sig. Cox PH protective: 54\""
      ]
     },
     "metadata": {},
     "output_type": "display_data"
    },
    {
     "data": {
      "text/html": [
       "'Sig. Cox PH harmful: 117'"
      ],
      "text/latex": [
       "'Sig. Cox PH harmful: 117'"
      ],
      "text/markdown": [
       "'Sig. Cox PH harmful: 117'"
      ],
      "text/plain": [
       "[1] \"Sig. Cox PH harmful: 117\""
      ]
     },
     "metadata": {},
     "output_type": "display_data"
    }
   ],
   "source": [
    "coxph_null_sig <- (coxph_null_scores_df %>% dplyr::filter(dataset == unified_dsets[dset_idx]))$lr_test_pval < p_thresh\n",
    "n_coxph_sig <- nrow(filtered_coxph_results_df)\n",
    "prop_coxph_sig <- n_coxph_sig / nrow(matrisome_df)\n",
    "n_coxph_sig_protective <- nrow(filtered_coxph_results_df %>% dplyr::filter(gene_coeff < 0))\n",
    "n_coxph_sig_harmful <- nrow(filtered_coxph_results_df %>% dplyr::filter(gene_coeff > 0))\n",
    "\n",
    "\n",
    "paste0(\"Sig. null Cox PH: \", coxph_null_sig)\n",
    "paste0(\"Sig. Cox PH genes: \", n_coxph_sig)\n",
    "paste0(\"Prop. sig. Cox PH genes: \", prop_coxph_sig)\n",
    "paste0(\"Sig. Cox PH protective: \", n_coxph_sig_protective)\n",
    "paste0(\"Sig. Cox PH harmful: \", n_coxph_sig_harmful)"
   ]
  },
  {
   "cell_type": "markdown",
   "metadata": {},
   "source": [
    "# Regression"
   ]
  },
  {
   "cell_type": "markdown",
   "metadata": {
    "jupyter": {
     "outputs_hidden": true
    }
   },
   "source": [
    "## Correlation analysis"
   ]
  },
  {
   "cell_type": "code",
   "execution_count": 11,
   "metadata": {
    "collapsed": true,
    "jupyter": {
     "outputs_hidden": true
    }
   },
   "outputs": [
    {
     "name": "stderr",
     "output_type": "stream",
     "text": [
      "Parsed with column specification:\n",
      "cols(\n",
      "  geneID = col_character(),\n",
      "  cor = col_double(),\n",
      "  pval = col_double(),\n",
      "  n = col_double()\n",
      ")\n"
     ]
    },
    {
     "data": {
      "text/html": [
       "'Cor. genes: 85'"
      ],
      "text/latex": [
       "'Cor. genes: 85'"
      ],
      "text/markdown": [
       "'Cor. genes: 85'"
      ],
      "text/plain": [
       "[1] \"Cor. genes: 85\""
      ]
     },
     "metadata": {},
     "output_type": "display_data"
    },
    {
     "data": {
      "text/html": [
       "'Neg. cor. genes: 33'"
      ],
      "text/latex": [
       "'Neg. cor. genes: 33'"
      ],
      "text/markdown": [
       "'Neg. cor. genes: 33'"
      ],
      "text/plain": [
       "[1] \"Neg. cor. genes: 33\""
      ]
     },
     "metadata": {},
     "output_type": "display_data"
    },
    {
     "data": {
      "text/html": [
       "'Pos. cor. genes: 52'"
      ],
      "text/latex": [
       "'Pos. cor. genes: 52'"
      ],
      "text/markdown": [
       "'Pos. cor. genes: 52'"
      ],
      "text/plain": [
       "[1] \"Pos. cor. genes: 52\""
      ]
     },
     "metadata": {},
     "output_type": "display_data"
    }
   ],
   "source": [
    "cor_results_df <- read_tsv(paste0(dirs$analysis_dir, \"/\", unified_dsets[dset_idx], \"_cor_results.tsv\"))\n",
    "\n",
    "filtered_cor_results_df <- cor_results_df %>% dplyr::filter(pval < p_thresh)\n",
    "\n",
    "n_cor <- nrow(filtered_cor_results_df)\n",
    "n_cor_down <- nrow(filtered_cor_results_df %>% dplyr::filter(cor < 0))\n",
    "n_cor_up <- nrow(filtered_cor_results_df %>% dplyr::filter(cor > 0))\n",
    "\n",
    "paste0(\"Cor. genes: \", n_cor)\n",
    "paste0(\"Neg. cor. genes: \", n_cor_down)\n",
    "paste0(\"Pos. cor. genes: \", n_cor_up)"
   ]
  },
  {
   "cell_type": "markdown",
   "metadata": {},
   "source": [
    "## MI analysis"
   ]
  },
  {
   "cell_type": "code",
   "execution_count": 12,
   "metadata": {
    "collapsed": true,
    "jupyter": {
     "outputs_hidden": true
    }
   },
   "outputs": [
    {
     "name": "stderr",
     "output_type": "stream",
     "text": [
      "Parsed with column specification:\n",
      "cols(\n",
      "  geneID = col_character(),\n",
      "  MI_est_median = col_double()\n",
      ")\n"
     ]
    },
    {
     "data": {
      "text/html": [
       "'MI: 550'"
      ],
      "text/latex": [
       "'MI: 550'"
      ],
      "text/markdown": [
       "'MI: 550'"
      ],
      "text/plain": [
       "[1] \"MI: 550\""
      ]
     },
     "metadata": {},
     "output_type": "display_data"
    }
   ],
   "source": [
    "mi_survival_results_df <- read_tsv(paste0(dirs$analysis_dir, \"/\", unified_dsets[dset_idx], \"_MI_survival_results.tsv\"))\n",
    "filtered_mi_survival_results_df <- mi_survival_results_df %>% dplyr::filter(MI_est_median > 0)\n",
    "\n",
    "n_mi <- nrow(filtered_mi_survival_results_df)\n",
    "\n",
    "paste0(\"MI: \", n_mi)"
   ]
  },
  {
   "cell_type": "markdown",
   "metadata": {},
   "source": [
    "## Baselines"
   ]
  },
  {
   "cell_type": "code",
   "execution_count": 13,
   "metadata": {
    "collapsed": true,
    "jupyter": {
     "outputs_hidden": true
    }
   },
   "outputs": [
    {
     "name": "stderr",
     "output_type": "stream",
     "text": [
      "Parsed with column specification:\n",
      "cols(\n",
      "  dataset = col_character(),\n",
      "  L2 = col_double(),\n",
      "  L1 = col_double(),\n",
      "  R2 = col_double(),\n",
      "  explained_variance = col_double(),\n",
      "  n = col_double()\n",
      ")\n"
     ]
    },
    {
     "data": {
      "text/html": [
       "'MAE baseline: 518.333333333333'"
      ],
      "text/latex": [
       "'MAE baseline: 518.333333333333'"
      ],
      "text/markdown": [
       "'MAE baseline: 518.333333333333'"
      ],
      "text/plain": [
       "[1] \"MAE baseline: 518.333333333333\""
      ]
     },
     "metadata": {},
     "output_type": "display_data"
    },
    {
     "data": {
      "text/html": [
       "'EV baseline: 0'"
      ],
      "text/latex": [
       "'EV baseline: 0'"
      ],
      "text/markdown": [
       "'EV baseline: 0'"
      ],
      "text/plain": [
       "[1] \"EV baseline: 0\""
      ]
     },
     "metadata": {},
     "output_type": "display_data"
    }
   ],
   "source": [
    "reg_baselines_df <- read_tsv(paste0(dirs$analysis_dir, \"/meta/\", \"reg_baselines.tsv\"))\n",
    "mae_baseline = (reg_baselines_df %>% filter(dataset == unified_dsets[dset_idx]))$L1\n",
    "ev_baseline = (reg_baselines_df %>% filter(dataset == unified_dsets[dset_idx]))$explained_variance\n",
    "paste0(\"MAE baseline: \", mae_baseline)\n",
    "paste0(\"EV baseline: \", ev_baseline)"
   ]
  },
  {
   "cell_type": "markdown",
   "metadata": {},
   "source": [
    "## GBR (MAE)"
   ]
  },
  {
   "cell_type": "code",
   "execution_count": 14,
   "metadata": {
    "collapsed": true,
    "jupyter": {
     "outputs_hidden": true
    }
   },
   "outputs": [
    {
     "name": "stderr",
     "output_type": "stream",
     "text": [
      "Parsed with column specification:\n",
      "cols(\n",
      "  model = col_double(),\n",
      "  ref_score = col_double()\n",
      ")\n",
      "Parsed with column specification:\n",
      "cols(\n",
      "  geneID = col_character(),\n",
      "  mean_imp_0 = col_double(),\n",
      "  score_pct_improvement_0 = col_double(),\n",
      "  mean_imp_1 = col_double(),\n",
      "  score_pct_improvement_1 = col_double(),\n",
      "  mean_imp_2 = col_double(),\n",
      "  score_pct_improvement_2 = col_double(),\n",
      "  mean_imp_3 = col_double(),\n",
      "  score_pct_improvement_3 = col_double(),\n",
      "  mean_imp_4 = col_double(),\n",
      "  score_pct_improvement_4 = col_double(),\n",
      "  consensus_imp_mean = col_double(),\n",
      "  consensus_imp_std = col_double(),\n",
      "  consensus_imp_cv = col_double(),\n",
      "  consensus_vote = col_logical()\n",
      ")\n"
     ]
    },
    {
     "data": {
      "text/html": [
       "<table>\n",
       "<caption>A spec_tbl_df: 5 × 2</caption>\n",
       "<thead>\n",
       "\t<tr><th scope=col>model</th><th scope=col>ref_score</th></tr>\n",
       "\t<tr><th scope=col>&lt;dbl&gt;</th><th scope=col>&lt;dbl&gt;</th></tr>\n",
       "</thead>\n",
       "<tbody>\n",
       "\t<tr><td>0</td><td>-518.8947</td></tr>\n",
       "\t<tr><td>1</td><td>-512.7294</td></tr>\n",
       "\t<tr><td>2</td><td>-507.1236</td></tr>\n",
       "\t<tr><td>3</td><td>-507.3762</td></tr>\n",
       "\t<tr><td>4</td><td>-511.5485</td></tr>\n",
       "</tbody>\n",
       "</table>\n"
      ],
      "text/latex": [
       "A spec\\_tbl\\_df: 5 × 2\n",
       "\\begin{tabular}{ll}\n",
       " model & ref\\_score\\\\\n",
       " <dbl> & <dbl>\\\\\n",
       "\\hline\n",
       "\t 0 & -518.8947\\\\\n",
       "\t 1 & -512.7294\\\\\n",
       "\t 2 & -507.1236\\\\\n",
       "\t 3 & -507.3762\\\\\n",
       "\t 4 & -511.5485\\\\\n",
       "\\end{tabular}\n"
      ],
      "text/markdown": [
       "\n",
       "A spec_tbl_df: 5 × 2\n",
       "\n",
       "| model &lt;dbl&gt; | ref_score &lt;dbl&gt; |\n",
       "|---|---|\n",
       "| 0 | -518.8947 |\n",
       "| 1 | -512.7294 |\n",
       "| 2 | -507.1236 |\n",
       "| 3 | -507.3762 |\n",
       "| 4 | -511.5485 |\n",
       "\n"
      ],
      "text/plain": [
       "  model ref_score\n",
       "1 0     -518.8947\n",
       "2 1     -512.7294\n",
       "3 2     -507.1236\n",
       "4 3     -507.3762\n",
       "5 4     -511.5485"
      ]
     },
     "metadata": {},
     "output_type": "display_data"
    },
    {
     "data": {
      "text/html": [
       "'GBR MAE avg.: 511.53448699008'"
      ],
      "text/latex": [
       "'GBR MAE avg.: 511.53448699008'"
      ],
      "text/markdown": [
       "'GBR MAE avg.: 511.53448699008'"
      ],
      "text/plain": [
       "[1] \"GBR MAE avg.: 511.53448699008\""
      ]
     },
     "metadata": {},
     "output_type": "display_data"
    },
    {
     "data": {
      "text/html": [
       "'GBR MAE impr. over baseline: TRUE'"
      ],
      "text/latex": [
       "'GBR MAE impr. over baseline: TRUE'"
      ],
      "text/markdown": [
       "'GBR MAE impr. over baseline: TRUE'"
      ],
      "text/plain": [
       "[1] \"GBR MAE impr. over baseline: TRUE\""
      ]
     },
     "metadata": {},
     "output_type": "display_data"
    },
    {
     "data": {
      "text/html": [
       "'GBR MAE diff with baseline: -6.79884634325339'"
      ],
      "text/latex": [
       "'GBR MAE diff with baseline: -6.79884634325339'"
      ],
      "text/markdown": [
       "'GBR MAE diff with baseline: -6.79884634325339'"
      ],
      "text/plain": [
       "[1] \"GBR MAE diff with baseline: -6.79884634325339\""
      ]
     },
     "metadata": {},
     "output_type": "display_data"
    },
    {
     "data": {
      "text/html": [
       "'GBR MAE consensus genes: 50'"
      ],
      "text/latex": [
       "'GBR MAE consensus genes: 50'"
      ],
      "text/markdown": [
       "'GBR MAE consensus genes: 50'"
      ],
      "text/plain": [
       "[1] \"GBR MAE consensus genes: 50\""
      ]
     },
     "metadata": {},
     "output_type": "display_data"
    }
   ],
   "source": [
    "mae_gbr_scores_df <- read_tsv(paste0(dirs$analysis_dir, \"/\", unified_dsets[dset_idx], \"_mae_gbr_ref_scores.tsv\"))\n",
    "mae_gbr_results_df <- read_tsv(paste0(dirs$analysis_dir, \"/\", unified_dsets[dset_idx], \"_mae_gbr_results.tsv\"))\n",
    "mae_gbr_scores_df\n",
    "\n",
    "mae_gbr_avg <- -mean(mae_gbr_scores_df$ref_score)\n",
    "# Want MAE to be < baseline\n",
    "mae_gbr_imp <- mae_gbr_avg < mae_baseline\n",
    "mae_gbr_baseline_diff <- mae_gbr_avg - mae_baseline\n",
    "n_mae_gbr_consensus_genes <- nrow(mae_gbr_results_df %>% dplyr::filter(consensus_vote == TRUE))\n",
    "\n",
    "paste0(\"GBR MAE avg.: \", mae_gbr_avg)\n",
    "paste0(\"GBR MAE impr. over baseline: \", mae_gbr_imp)\n",
    "paste0(\"GBR MAE diff with baseline: \", mae_gbr_baseline_diff)\n",
    "paste0(\"GBR MAE consensus genes: \", n_mae_gbr_consensus_genes)"
   ]
  },
  {
   "cell_type": "markdown",
   "metadata": {},
   "source": [
    "## GBR (EV)"
   ]
  },
  {
   "cell_type": "code",
   "execution_count": 15,
   "metadata": {
    "collapsed": true,
    "jupyter": {
     "outputs_hidden": true
    }
   },
   "outputs": [
    {
     "name": "stderr",
     "output_type": "stream",
     "text": [
      "Parsed with column specification:\n",
      "cols(\n",
      "  model = col_double(),\n",
      "  ref_score = col_double()\n",
      ")\n",
      "Parsed with column specification:\n",
      "cols(\n",
      "  geneID = col_character(),\n",
      "  mean_imp_0 = col_double(),\n",
      "  score_pct_improvement_0 = col_double(),\n",
      "  mean_imp_1 = col_double(),\n",
      "  score_pct_improvement_1 = col_double(),\n",
      "  mean_imp_2 = col_double(),\n",
      "  score_pct_improvement_2 = col_double(),\n",
      "  mean_imp_3 = col_double(),\n",
      "  score_pct_improvement_3 = col_double(),\n",
      "  mean_imp_4 = col_double(),\n",
      "  score_pct_improvement_4 = col_double(),\n",
      "  consensus_imp_mean = col_double(),\n",
      "  consensus_imp_std = col_double(),\n",
      "  consensus_imp_cv = col_double(),\n",
      "  consensus_vote = col_logical()\n",
      ")\n"
     ]
    },
    {
     "data": {
      "text/html": [
       "<table>\n",
       "<caption>A spec_tbl_df: 5 × 2</caption>\n",
       "<thead>\n",
       "\t<tr><th scope=col>model</th><th scope=col>ref_score</th></tr>\n",
       "\t<tr><th scope=col>&lt;dbl&gt;</th><th scope=col>&lt;dbl&gt;</th></tr>\n",
       "</thead>\n",
       "<tbody>\n",
       "\t<tr><td>0</td><td>-0.22036053</td></tr>\n",
       "\t<tr><td>1</td><td>-0.18572014</td></tr>\n",
       "\t<tr><td>2</td><td> 0.01803834</td></tr>\n",
       "\t<tr><td>3</td><td>-0.03090779</td></tr>\n",
       "\t<tr><td>4</td><td> 0.02025601</td></tr>\n",
       "</tbody>\n",
       "</table>\n"
      ],
      "text/latex": [
       "A spec\\_tbl\\_df: 5 × 2\n",
       "\\begin{tabular}{ll}\n",
       " model & ref\\_score\\\\\n",
       " <dbl> & <dbl>\\\\\n",
       "\\hline\n",
       "\t 0 & -0.22036053\\\\\n",
       "\t 1 & -0.18572014\\\\\n",
       "\t 2 &  0.01803834\\\\\n",
       "\t 3 & -0.03090779\\\\\n",
       "\t 4 &  0.02025601\\\\\n",
       "\\end{tabular}\n"
      ],
      "text/markdown": [
       "\n",
       "A spec_tbl_df: 5 × 2\n",
       "\n",
       "| model &lt;dbl&gt; | ref_score &lt;dbl&gt; |\n",
       "|---|---|\n",
       "| 0 | -0.22036053 |\n",
       "| 1 | -0.18572014 |\n",
       "| 2 |  0.01803834 |\n",
       "| 3 | -0.03090779 |\n",
       "| 4 |  0.02025601 |\n",
       "\n"
      ],
      "text/plain": [
       "  model ref_score  \n",
       "1 0     -0.22036053\n",
       "2 1     -0.18572014\n",
       "3 2      0.01803834\n",
       "4 3     -0.03090779\n",
       "5 4      0.02025601"
      ]
     },
     "metadata": {},
     "output_type": "display_data"
    },
    {
     "data": {
      "text/html": [
       "'GBR EV avg.: -0.0797388205342726'"
      ],
      "text/latex": [
       "'GBR EV avg.: -0.0797388205342726'"
      ],
      "text/markdown": [
       "'GBR EV avg.: -0.0797388205342726'"
      ],
      "text/plain": [
       "[1] \"GBR EV avg.: -0.0797388205342726\""
      ]
     },
     "metadata": {},
     "output_type": "display_data"
    },
    {
     "data": {
      "text/html": [
       "'GBR EV impr. over baseline: FALSE'"
      ],
      "text/latex": [
       "'GBR EV impr. over baseline: FALSE'"
      ],
      "text/markdown": [
       "'GBR EV impr. over baseline: FALSE'"
      ],
      "text/plain": [
       "[1] \"GBR EV impr. over baseline: FALSE\""
      ]
     },
     "metadata": {},
     "output_type": "display_data"
    },
    {
     "data": {
      "text/html": [
       "'GBR EV diff with baseline: -0.0797388205342726'"
      ],
      "text/latex": [
       "'GBR EV diff with baseline: -0.0797388205342726'"
      ],
      "text/markdown": [
       "'GBR EV diff with baseline: -0.0797388205342726'"
      ],
      "text/plain": [
       "[1] \"GBR EV diff with baseline: -0.0797388205342726\""
      ]
     },
     "metadata": {},
     "output_type": "display_data"
    },
    {
     "data": {
      "text/html": [
       "'GBR EV consensus genes: 46'"
      ],
      "text/latex": [
       "'GBR EV consensus genes: 46'"
      ],
      "text/markdown": [
       "'GBR EV consensus genes: 46'"
      ],
      "text/plain": [
       "[1] \"GBR EV consensus genes: 46\""
      ]
     },
     "metadata": {},
     "output_type": "display_data"
    }
   ],
   "source": [
    "ev_gbr_scores_df <- read_tsv(paste0(dirs$analysis_dir, \"/\", unified_dsets[dset_idx], \"_ev_gbr_ref_scores.tsv\"))\n",
    "ev_gbr_results_df <- read_tsv(paste0(dirs$analysis_dir, \"/\", unified_dsets[dset_idx], \"_ev_gbr_results.tsv\"))\n",
    "ev_gbr_scores_df\n",
    "\n",
    "ev_gbr_avg <- mean(ev_gbr_scores_df$ref_score)\n",
    "# Want EV to be > baseline\n",
    "ev_gbr_imp <- ev_gbr_avg > ev_baseline\n",
    "ev_gbr_baseline_diff <- ev_gbr_avg - ev_baseline\n",
    "n_ev_gbr_consensus_genes <- nrow(ev_gbr_results_df %>% dplyr::filter(consensus_vote == TRUE))\n",
    "\n",
    "paste0(\"GBR EV avg.: \", ev_gbr_avg)\n",
    "paste0(\"GBR EV impr. over baseline: \", ev_gbr_imp)\n",
    "paste0(\"GBR EV diff with baseline: \", ev_gbr_baseline_diff)\n",
    "paste0(\"GBR EV consensus genes: \", n_ev_gbr_consensus_genes)"
   ]
  },
  {
   "cell_type": "markdown",
   "metadata": {},
   "source": [
    "## RFR (MAE)"
   ]
  },
  {
   "cell_type": "code",
   "execution_count": 16,
   "metadata": {
    "collapsed": true,
    "jupyter": {
     "outputs_hidden": true
    }
   },
   "outputs": [
    {
     "name": "stderr",
     "output_type": "stream",
     "text": [
      "Parsed with column specification:\n",
      "cols(\n",
      "  model = col_double(),\n",
      "  ref_score = col_double()\n",
      ")\n",
      "Parsed with column specification:\n",
      "cols(\n",
      "  geneID = col_character(),\n",
      "  mean_imp_0 = col_double(),\n",
      "  score_pct_improvement_0 = col_double(),\n",
      "  mean_imp_1 = col_double(),\n",
      "  score_pct_improvement_1 = col_double(),\n",
      "  mean_imp_2 = col_double(),\n",
      "  score_pct_improvement_2 = col_double(),\n",
      "  mean_imp_3 = col_double(),\n",
      "  score_pct_improvement_3 = col_double(),\n",
      "  mean_imp_4 = col_double(),\n",
      "  score_pct_improvement_4 = col_double(),\n",
      "  consensus_imp_mean = col_double(),\n",
      "  consensus_imp_std = col_double(),\n",
      "  consensus_imp_cv = col_double(),\n",
      "  consensus_vote = col_logical()\n",
      ")\n"
     ]
    },
    {
     "data": {
      "text/html": [
       "<table>\n",
       "<caption>A spec_tbl_df: 5 × 2</caption>\n",
       "<thead>\n",
       "\t<tr><th scope=col>model</th><th scope=col>ref_score</th></tr>\n",
       "\t<tr><th scope=col>&lt;dbl&gt;</th><th scope=col>&lt;dbl&gt;</th></tr>\n",
       "</thead>\n",
       "<tbody>\n",
       "\t<tr><td>0</td><td>-565.1224</td></tr>\n",
       "\t<tr><td>1</td><td>-574.7631</td></tr>\n",
       "\t<tr><td>2</td><td>-578.7912</td></tr>\n",
       "\t<tr><td>3</td><td>-568.5393</td></tr>\n",
       "\t<tr><td>4</td><td>-580.6566</td></tr>\n",
       "</tbody>\n",
       "</table>\n"
      ],
      "text/latex": [
       "A spec\\_tbl\\_df: 5 × 2\n",
       "\\begin{tabular}{ll}\n",
       " model & ref\\_score\\\\\n",
       " <dbl> & <dbl>\\\\\n",
       "\\hline\n",
       "\t 0 & -565.1224\\\\\n",
       "\t 1 & -574.7631\\\\\n",
       "\t 2 & -578.7912\\\\\n",
       "\t 3 & -568.5393\\\\\n",
       "\t 4 & -580.6566\\\\\n",
       "\\end{tabular}\n"
      ],
      "text/markdown": [
       "\n",
       "A spec_tbl_df: 5 × 2\n",
       "\n",
       "| model &lt;dbl&gt; | ref_score &lt;dbl&gt; |\n",
       "|---|---|\n",
       "| 0 | -565.1224 |\n",
       "| 1 | -574.7631 |\n",
       "| 2 | -578.7912 |\n",
       "| 3 | -568.5393 |\n",
       "| 4 | -580.6566 |\n",
       "\n"
      ],
      "text/plain": [
       "  model ref_score\n",
       "1 0     -565.1224\n",
       "2 1     -574.7631\n",
       "3 2     -578.7912\n",
       "4 3     -568.5393\n",
       "5 4     -580.6566"
      ]
     },
     "metadata": {},
     "output_type": "display_data"
    },
    {
     "data": {
      "text/html": [
       "'RFR MAE avg.: 573.574538465928'"
      ],
      "text/latex": [
       "'RFR MAE avg.: 573.574538465928'"
      ],
      "text/markdown": [
       "'RFR MAE avg.: 573.574538465928'"
      ],
      "text/plain": [
       "[1] \"RFR MAE avg.: 573.574538465928\""
      ]
     },
     "metadata": {},
     "output_type": "display_data"
    },
    {
     "data": {
      "text/html": [
       "'RFR MAE impr. over baseline: FALSE'"
      ],
      "text/latex": [
       "'RFR MAE impr. over baseline: FALSE'"
      ],
      "text/markdown": [
       "'RFR MAE impr. over baseline: FALSE'"
      ],
      "text/plain": [
       "[1] \"RFR MAE impr. over baseline: FALSE\""
      ]
     },
     "metadata": {},
     "output_type": "display_data"
    },
    {
     "data": {
      "text/html": [
       "'RFR MAE diff with baseline: 55.2412051325946'"
      ],
      "text/latex": [
       "'RFR MAE diff with baseline: 55.2412051325946'"
      ],
      "text/markdown": [
       "'RFR MAE diff with baseline: 55.2412051325946'"
      ],
      "text/plain": [
       "[1] \"RFR MAE diff with baseline: 55.2412051325946\""
      ]
     },
     "metadata": {},
     "output_type": "display_data"
    },
    {
     "data": {
      "text/html": [
       "'RFR MAE consensus genes: 55'"
      ],
      "text/latex": [
       "'RFR MAE consensus genes: 55'"
      ],
      "text/markdown": [
       "'RFR MAE consensus genes: 55'"
      ],
      "text/plain": [
       "[1] \"RFR MAE consensus genes: 55\""
      ]
     },
     "metadata": {},
     "output_type": "display_data"
    }
   ],
   "source": [
    "mae_rfr_scores_df <- read_tsv(paste0(dirs$analysis_dir, \"/\", unified_dsets[dset_idx], \"_mae_rfr_ref_scores.tsv\"))\n",
    "mae_rfr_results_df <- read_tsv(paste0(dirs$analysis_dir, \"/\", unified_dsets[dset_idx], \"_mae_rfr_results.tsv\"))\n",
    "mae_rfr_scores_df\n",
    "\n",
    "mae_rfr_avg <- -mean(mae_rfr_scores_df$ref_score)\n",
    "# Want MAE to be < baseline\n",
    "mae_rfr_imp <- mae_rfr_avg < mae_baseline\n",
    "mae_rfr_baseline_diff <- mae_rfr_avg - mae_baseline\n",
    "n_mae_rfr_consensus_genes <- nrow(mae_rfr_results_df %>% dplyr::filter(consensus_vote == TRUE))\n",
    "\n",
    "paste0(\"RFR MAE avg.: \", mae_rfr_avg)\n",
    "paste0(\"RFR MAE impr. over baseline: \", mae_rfr_imp)\n",
    "paste0(\"RFR MAE diff with baseline: \", mae_rfr_baseline_diff)\n",
    "paste0(\"RFR MAE consensus genes: \", n_mae_rfr_consensus_genes)"
   ]
  },
  {
   "cell_type": "markdown",
   "metadata": {},
   "source": [
    "## RFR (EV)"
   ]
  },
  {
   "cell_type": "code",
   "execution_count": 17,
   "metadata": {
    "collapsed": true,
    "jupyter": {
     "outputs_hidden": true
    }
   },
   "outputs": [
    {
     "name": "stderr",
     "output_type": "stream",
     "text": [
      "Parsed with column specification:\n",
      "cols(\n",
      "  model = col_double(),\n",
      "  ref_score = col_double()\n",
      ")\n",
      "Parsed with column specification:\n",
      "cols(\n",
      "  geneID = col_character(),\n",
      "  mean_imp_0 = col_double(),\n",
      "  score_pct_improvement_0 = col_double(),\n",
      "  mean_imp_1 = col_double(),\n",
      "  score_pct_improvement_1 = col_double(),\n",
      "  mean_imp_2 = col_double(),\n",
      "  score_pct_improvement_2 = col_double(),\n",
      "  mean_imp_3 = col_double(),\n",
      "  score_pct_improvement_3 = col_double(),\n",
      "  mean_imp_4 = col_double(),\n",
      "  score_pct_improvement_4 = col_double(),\n",
      "  consensus_imp_mean = col_double(),\n",
      "  consensus_imp_std = col_double(),\n",
      "  consensus_imp_cv = col_double(),\n",
      "  consensus_vote = col_logical()\n",
      ")\n"
     ]
    },
    {
     "data": {
      "text/html": [
       "<table>\n",
       "<caption>A spec_tbl_df: 5 × 2</caption>\n",
       "<thead>\n",
       "\t<tr><th scope=col>model</th><th scope=col>ref_score</th></tr>\n",
       "\t<tr><th scope=col>&lt;dbl&gt;</th><th scope=col>&lt;dbl&gt;</th></tr>\n",
       "</thead>\n",
       "<tbody>\n",
       "\t<tr><td>0</td><td>-0.010738678</td></tr>\n",
       "\t<tr><td>1</td><td> 0.005390867</td></tr>\n",
       "\t<tr><td>2</td><td> 0.015761948</td></tr>\n",
       "\t<tr><td>3</td><td> 0.020397702</td></tr>\n",
       "\t<tr><td>4</td><td> 0.005942691</td></tr>\n",
       "</tbody>\n",
       "</table>\n"
      ],
      "text/latex": [
       "A spec\\_tbl\\_df: 5 × 2\n",
       "\\begin{tabular}{ll}\n",
       " model & ref\\_score\\\\\n",
       " <dbl> & <dbl>\\\\\n",
       "\\hline\n",
       "\t 0 & -0.010738678\\\\\n",
       "\t 1 &  0.005390867\\\\\n",
       "\t 2 &  0.015761948\\\\\n",
       "\t 3 &  0.020397702\\\\\n",
       "\t 4 &  0.005942691\\\\\n",
       "\\end{tabular}\n"
      ],
      "text/markdown": [
       "\n",
       "A spec_tbl_df: 5 × 2\n",
       "\n",
       "| model &lt;dbl&gt; | ref_score &lt;dbl&gt; |\n",
       "|---|---|\n",
       "| 0 | -0.010738678 |\n",
       "| 1 |  0.005390867 |\n",
       "| 2 |  0.015761948 |\n",
       "| 3 |  0.020397702 |\n",
       "| 4 |  0.005942691 |\n",
       "\n"
      ],
      "text/plain": [
       "  model ref_score   \n",
       "1 0     -0.010738678\n",
       "2 1      0.005390867\n",
       "3 2      0.015761948\n",
       "4 3      0.020397702\n",
       "5 4      0.005942691"
      ]
     },
     "metadata": {},
     "output_type": "display_data"
    },
    {
     "data": {
      "text/html": [
       "'RFR EV avg.: 0.00735090603733708'"
      ],
      "text/latex": [
       "'RFR EV avg.: 0.00735090603733708'"
      ],
      "text/markdown": [
       "'RFR EV avg.: 0.00735090603733708'"
      ],
      "text/plain": [
       "[1] \"RFR EV avg.: 0.00735090603733708\""
      ]
     },
     "metadata": {},
     "output_type": "display_data"
    },
    {
     "data": {
      "text/html": [
       "'RFR EV impr. over baseline: TRUE'"
      ],
      "text/latex": [
       "'RFR EV impr. over baseline: TRUE'"
      ],
      "text/markdown": [
       "'RFR EV impr. over baseline: TRUE'"
      ],
      "text/plain": [
       "[1] \"RFR EV impr. over baseline: TRUE\""
      ]
     },
     "metadata": {},
     "output_type": "display_data"
    },
    {
     "data": {
      "text/html": [
       "'RFR EV diff with baseline: 0.00735090603733708'"
      ],
      "text/latex": [
       "'RFR EV diff with baseline: 0.00735090603733708'"
      ],
      "text/markdown": [
       "'RFR EV diff with baseline: 0.00735090603733708'"
      ],
      "text/plain": [
       "[1] \"RFR EV diff with baseline: 0.00735090603733708\""
      ]
     },
     "metadata": {},
     "output_type": "display_data"
    },
    {
     "data": {
      "text/html": [
       "'RFR EV consensus genes: 93'"
      ],
      "text/latex": [
       "'RFR EV consensus genes: 93'"
      ],
      "text/markdown": [
       "'RFR EV consensus genes: 93'"
      ],
      "text/plain": [
       "[1] \"RFR EV consensus genes: 93\""
      ]
     },
     "metadata": {},
     "output_type": "display_data"
    }
   ],
   "source": [
    "ev_rfr_scores_df <- read_tsv(paste0(dirs$analysis_dir, \"/\", unified_dsets[dset_idx], \"_ev_rfr_ref_scores.tsv\"))\n",
    "ev_rfr_results_df <- read_tsv(paste0(dirs$analysis_dir, \"/\", unified_dsets[dset_idx], \"_ev_rfr_results.tsv\"))\n",
    "ev_rfr_scores_df\n",
    "\n",
    "ev_rfr_avg <- mean(ev_rfr_scores_df$ref_score)\n",
    "# Want EV to be > baseline\n",
    "ev_rfr_imp <- ev_rfr_avg > ev_baseline\n",
    "ev_rfr_baseline_diff <- ev_rfr_avg - ev_baseline\n",
    "n_ev_rfr_consensus_genes <- nrow(ev_rfr_results_df %>% dplyr::filter(consensus_vote == TRUE))\n",
    "\n",
    "paste0(\"RFR EV avg.: \", ev_rfr_avg)\n",
    "paste0(\"RFR EV impr. over baseline: \", ev_rfr_imp)\n",
    "paste0(\"RFR EV diff with baseline: \", ev_rfr_baseline_diff)\n",
    "paste0(\"RFR EV consensus genes: \", n_ev_rfr_consensus_genes)"
   ]
  },
  {
   "cell_type": "markdown",
   "metadata": {},
   "source": [
    "# Classification"
   ]
  },
  {
   "cell_type": "markdown",
   "metadata": {},
   "source": [
    "## MI analysis"
   ]
  },
  {
   "cell_type": "code",
   "execution_count": 18,
   "metadata": {
    "collapsed": true,
    "jupyter": {
     "outputs_hidden": true
    }
   },
   "outputs": [
    {
     "name": "stderr",
     "output_type": "stream",
     "text": [
      "Parsed with column specification:\n",
      "cols(\n",
      "  geneID = col_character(),\n",
      "  MI_est_median = col_double()\n",
      ")\n"
     ]
    },
    {
     "data": {
      "text/html": [
       "'MI: 506'"
      ],
      "text/latex": [
       "'MI: 506'"
      ],
      "text/markdown": [
       "'MI: 506'"
      ],
      "text/plain": [
       "[1] \"MI: 506\""
      ]
     },
     "metadata": {},
     "output_type": "display_data"
    }
   ],
   "source": [
    "mi_figo_results_df <- read_tsv(paste0(dirs$analysis_dir, \"/\", unified_dsets[dset_idx], \"_MI_figo_results.tsv\"))\n",
    "filtered_mi_figo_results_df <- mi_figo_results_df %>% dplyr::filter(MI_est_median > 0)\n",
    "\n",
    "n_mi <- nrow(filtered_mi_figo_results_df)\n",
    "\n",
    "paste0(\"MI: \", n_mi)"
   ]
  },
  {
   "cell_type": "markdown",
   "metadata": {},
   "source": [
    "## Baselines"
   ]
  },
  {
   "cell_type": "code",
   "execution_count": 19,
   "metadata": {
    "collapsed": true,
    "jupyter": {
     "outputs_hidden": true
    }
   },
   "outputs": [
    {
     "name": "stderr",
     "output_type": "stream",
     "text": [
      "Parsed with column specification:\n",
      "cols(\n",
      "  dataset = col_character(),\n",
      "  f1_weighted_majority = col_double(),\n",
      "  f1_weighted_MC = col_double(),\n",
      "  n = col_double()\n",
      ")\n"
     ]
    },
    {
     "data": {
      "text/html": [
       "<table>\n",
       "<caption>A spec_tbl_df: 3 × 4</caption>\n",
       "<thead>\n",
       "\t<tr><th scope=col>dataset</th><th scope=col>f1_weighted_majority</th><th scope=col>f1_weighted_MC</th><th scope=col>n</th></tr>\n",
       "\t<tr><th scope=col>&lt;chr&gt;</th><th scope=col>&lt;dbl&gt;</th><th scope=col>&lt;dbl&gt;</th><th scope=col>&lt;dbl&gt;</th></tr>\n",
       "</thead>\n",
       "<tbody>\n",
       "\t<tr><td>unified_cervical_data           </td><td>0.3665158</td><td>0.3679826</td><td>255</td></tr>\n",
       "\t<tr><td>unified_uterine_data            </td><td>0.2201087</td><td>0.3113742</td><td> 46</td></tr>\n",
       "\t<tr><td>unified_uterine_endometrial_data</td><td>0.3704553</td><td>0.3814409</td><td>137</td></tr>\n",
       "</tbody>\n",
       "</table>\n"
      ],
      "text/latex": [
       "A spec\\_tbl\\_df: 3 × 4\n",
       "\\begin{tabular}{llll}\n",
       " dataset & f1\\_weighted\\_majority & f1\\_weighted\\_MC & n\\\\\n",
       " <chr> & <dbl> & <dbl> & <dbl>\\\\\n",
       "\\hline\n",
       "\t unified\\_cervical\\_data            & 0.3665158 & 0.3679826 & 255\\\\\n",
       "\t unified\\_uterine\\_data             & 0.2201087 & 0.3113742 &  46\\\\\n",
       "\t unified\\_uterine\\_endometrial\\_data & 0.3704553 & 0.3814409 & 137\\\\\n",
       "\\end{tabular}\n"
      ],
      "text/markdown": [
       "\n",
       "A spec_tbl_df: 3 × 4\n",
       "\n",
       "| dataset &lt;chr&gt; | f1_weighted_majority &lt;dbl&gt; | f1_weighted_MC &lt;dbl&gt; | n &lt;dbl&gt; |\n",
       "|---|---|---|---|\n",
       "| unified_cervical_data            | 0.3665158 | 0.3679826 | 255 |\n",
       "| unified_uterine_data             | 0.2201087 | 0.3113742 |  46 |\n",
       "| unified_uterine_endometrial_data | 0.3704553 | 0.3814409 | 137 |\n",
       "\n"
      ],
      "text/plain": [
       "  dataset                          f1_weighted_majority f1_weighted_MC n  \n",
       "1 unified_cervical_data            0.3665158            0.3679826      255\n",
       "2 unified_uterine_data             0.2201087            0.3113742       46\n",
       "3 unified_uterine_endometrial_data 0.3704553            0.3814409      137"
      ]
     },
     "metadata": {},
     "output_type": "display_data"
    },
    {
     "data": {
      "text/html": [
       "'F1 weighted (majority guess) baseline: 0.366515837104072'"
      ],
      "text/latex": [
       "'F1 weighted (majority guess) baseline: 0.366515837104072'"
      ],
      "text/markdown": [
       "'F1 weighted (majority guess) baseline: 0.366515837104072'"
      ],
      "text/plain": [
       "[1] \"F1 weighted (majority guess) baseline: 0.366515837104072\""
      ]
     },
     "metadata": {},
     "output_type": "display_data"
    },
    {
     "data": {
      "text/html": [
       "'F1 weighted (Monte Carlo) baseline: 0.367982618790009'"
      ],
      "text/latex": [
       "'F1 weighted (Monte Carlo) baseline: 0.367982618790009'"
      ],
      "text/markdown": [
       "'F1 weighted (Monte Carlo) baseline: 0.367982618790009'"
      ],
      "text/plain": [
       "[1] \"F1 weighted (Monte Carlo) baseline: 0.367982618790009\""
      ]
     },
     "metadata": {},
     "output_type": "display_data"
    }
   ],
   "source": [
    "cls_baselines_df <- read_tsv(paste0(dirs$analysis_dir, \"/meta/\", \"cls_baselines.tsv\"))\n",
    "cls_baselines_df\n",
    "f1_weighted_majority_baseline <- (cls_baselines_df %>% filter(dataset == unified_dsets[dset_idx]))$f1_weighted_majority\n",
    "f1_weighted_MC_baseline <- (cls_baselines_df %>% filter(dataset == unified_dsets[dset_idx]))$f1_weighted_MC\n",
    "\n",
    "\n",
    "paste0(\"F1 weighted (majority guess) baseline: \", f1_weighted_majority_baseline)\n",
    "paste0(\"F1 weighted (Monte Carlo) baseline: \", f1_weighted_MC_baseline)"
   ]
  },
  {
   "cell_type": "markdown",
   "metadata": {},
   "source": [
    "## GBC"
   ]
  },
  {
   "cell_type": "code",
   "execution_count": 20,
   "metadata": {
    "collapsed": true,
    "jupyter": {
     "outputs_hidden": true
    }
   },
   "outputs": [
    {
     "name": "stderr",
     "output_type": "stream",
     "text": [
      "Parsed with column specification:\n",
      "cols(\n",
      "  model = col_double(),\n",
      "  ref_score = col_double()\n",
      ")\n",
      "Parsed with column specification:\n",
      "cols(\n",
      "  geneID = col_character(),\n",
      "  mean_imp_0 = col_double(),\n",
      "  score_pct_improvement_0 = col_double(),\n",
      "  mean_imp_1 = col_double(),\n",
      "  score_pct_improvement_1 = col_double(),\n",
      "  mean_imp_2 = col_double(),\n",
      "  score_pct_improvement_2 = col_double(),\n",
      "  mean_imp_3 = col_double(),\n",
      "  score_pct_improvement_3 = col_double(),\n",
      "  mean_imp_4 = col_double(),\n",
      "  score_pct_improvement_4 = col_double(),\n",
      "  consensus_imp_mean = col_double(),\n",
      "  consensus_imp_std = col_double(),\n",
      "  consensus_imp_cv = col_double(),\n",
      "  consensus_vote = col_logical()\n",
      ")\n"
     ]
    },
    {
     "data": {
      "text/html": [
       "<table>\n",
       "<caption>A spec_tbl_df: 5 × 2</caption>\n",
       "<thead>\n",
       "\t<tr><th scope=col>model</th><th scope=col>ref_score</th></tr>\n",
       "\t<tr><th scope=col>&lt;dbl&gt;</th><th scope=col>&lt;dbl&gt;</th></tr>\n",
       "</thead>\n",
       "<tbody>\n",
       "\t<tr><td>0</td><td>0.4972759</td></tr>\n",
       "\t<tr><td>1</td><td>0.4947159</td></tr>\n",
       "\t<tr><td>2</td><td>0.4847261</td></tr>\n",
       "\t<tr><td>3</td><td>0.4839175</td></tr>\n",
       "\t<tr><td>4</td><td>0.4890497</td></tr>\n",
       "</tbody>\n",
       "</table>\n"
      ],
      "text/latex": [
       "A spec\\_tbl\\_df: 5 × 2\n",
       "\\begin{tabular}{ll}\n",
       " model & ref\\_score\\\\\n",
       " <dbl> & <dbl>\\\\\n",
       "\\hline\n",
       "\t 0 & 0.4972759\\\\\n",
       "\t 1 & 0.4947159\\\\\n",
       "\t 2 & 0.4847261\\\\\n",
       "\t 3 & 0.4839175\\\\\n",
       "\t 4 & 0.4890497\\\\\n",
       "\\end{tabular}\n"
      ],
      "text/markdown": [
       "\n",
       "A spec_tbl_df: 5 × 2\n",
       "\n",
       "| model &lt;dbl&gt; | ref_score &lt;dbl&gt; |\n",
       "|---|---|\n",
       "| 0 | 0.4972759 |\n",
       "| 1 | 0.4947159 |\n",
       "| 2 | 0.4847261 |\n",
       "| 3 | 0.4839175 |\n",
       "| 4 | 0.4890497 |\n",
       "\n"
      ],
      "text/plain": [
       "  model ref_score\n",
       "1 0     0.4972759\n",
       "2 1     0.4947159\n",
       "3 2     0.4847261\n",
       "4 3     0.4839175\n",
       "5 4     0.4890497"
      ]
     },
     "metadata": {},
     "output_type": "display_data"
    },
    {
     "data": {
      "text/html": [
       "'GBC F1 avg.: 0.489937009224344'"
      ],
      "text/latex": [
       "'GBC F1 avg.: 0.489937009224344'"
      ],
      "text/markdown": [
       "'GBC F1 avg.: 0.489937009224344'"
      ],
      "text/plain": [
       "[1] \"GBC F1 avg.: 0.489937009224344\""
      ]
     },
     "metadata": {},
     "output_type": "display_data"
    },
    {
     "data": {
      "text/html": [
       "'GBC F1 impr. over baseline: TRUE'"
      ],
      "text/latex": [
       "'GBC F1 impr. over baseline: TRUE'"
      ],
      "text/markdown": [
       "'GBC F1 impr. over baseline: TRUE'"
      ],
      "text/plain": [
       "[1] \"GBC F1 impr. over baseline: TRUE\""
      ]
     },
     "metadata": {},
     "output_type": "display_data"
    },
    {
     "data": {
      "text/html": [
       "'GBC F1 diff with baseline: 0.123421172120272'"
      ],
      "text/latex": [
       "'GBC F1 diff with baseline: 0.123421172120272'"
      ],
      "text/markdown": [
       "'GBC F1 diff with baseline: 0.123421172120272'"
      ],
      "text/plain": [
       "[1] \"GBC F1 diff with baseline: 0.123421172120272\""
      ]
     },
     "metadata": {},
     "output_type": "display_data"
    },
    {
     "data": {
      "text/html": [
       "'GBC F1 consensus genes: 25'"
      ],
      "text/latex": [
       "'GBC F1 consensus genes: 25'"
      ],
      "text/markdown": [
       "'GBC F1 consensus genes: 25'"
      ],
      "text/plain": [
       "[1] \"GBC F1 consensus genes: 25\""
      ]
     },
     "metadata": {},
     "output_type": "display_data"
    }
   ],
   "source": [
    "f1_gbc_scores_df <- read_tsv(paste0(dirs$analysis_dir, \"/\", unified_dsets[dset_idx], \"_gbc_ref_scores.tsv\"))\n",
    "f1_gbc_results_df <- read_tsv(paste0(dirs$analysis_dir, \"/\", unified_dsets[dset_idx], \"_gbc_results.tsv\"))\n",
    "f1_gbc_scores_df\n",
    "\n",
    "f1_gbc_avg <- mean(f1_gbc_scores_df$ref_score)\n",
    "f1_gbc_imp <- f1_gbc_avg > f1_weighted_majority_baseline\n",
    "f1_gbc_baseline_diff <- f1_gbc_avg - f1_weighted_majority_baseline\n",
    "n_f1_gbc_consensus_genes <- nrow(f1_gbc_results_df %>% dplyr::filter(consensus_vote == TRUE))\n",
    "\n",
    "paste0(\"GBC F1 avg.: \", f1_gbc_avg)\n",
    "paste0(\"GBC F1 impr. over baseline: \", f1_gbc_imp)\n",
    "paste0(\"GBC F1 diff with baseline: \", f1_gbc_baseline_diff)\n",
    "paste0(\"GBC F1 consensus genes: \", n_f1_gbc_consensus_genes)"
   ]
  },
  {
   "cell_type": "markdown",
   "metadata": {},
   "source": [
    "## RFC"
   ]
  },
  {
   "cell_type": "code",
   "execution_count": 21,
   "metadata": {
    "collapsed": true,
    "jupyter": {
     "outputs_hidden": true
    }
   },
   "outputs": [
    {
     "name": "stderr",
     "output_type": "stream",
     "text": [
      "Parsed with column specification:\n",
      "cols(\n",
      "  model = col_double(),\n",
      "  ref_score = col_double()\n",
      ")\n",
      "Parsed with column specification:\n",
      "cols(\n",
      "  geneID = col_character(),\n",
      "  mean_imp_0 = col_double(),\n",
      "  score_pct_improvement_0 = col_double(),\n",
      "  mean_imp_1 = col_double(),\n",
      "  score_pct_improvement_1 = col_double(),\n",
      "  mean_imp_2 = col_double(),\n",
      "  score_pct_improvement_2 = col_double(),\n",
      "  mean_imp_3 = col_double(),\n",
      "  score_pct_improvement_3 = col_double(),\n",
      "  mean_imp_4 = col_double(),\n",
      "  score_pct_improvement_4 = col_double(),\n",
      "  consensus_imp_mean = col_double(),\n",
      "  consensus_imp_std = col_double(),\n",
      "  consensus_imp_cv = col_double(),\n",
      "  consensus_vote = col_logical()\n",
      ")\n"
     ]
    },
    {
     "data": {
      "text/html": [
       "<table>\n",
       "<caption>A spec_tbl_df: 5 × 2</caption>\n",
       "<thead>\n",
       "\t<tr><th scope=col>model</th><th scope=col>ref_score</th></tr>\n",
       "\t<tr><th scope=col>&lt;dbl&gt;</th><th scope=col>&lt;dbl&gt;</th></tr>\n",
       "</thead>\n",
       "<tbody>\n",
       "\t<tr><td>0</td><td>0.3916562</td></tr>\n",
       "\t<tr><td>1</td><td>0.4086013</td></tr>\n",
       "\t<tr><td>2</td><td>0.3904341</td></tr>\n",
       "\t<tr><td>3</td><td>0.3926176</td></tr>\n",
       "\t<tr><td>4</td><td>0.3970711</td></tr>\n",
       "</tbody>\n",
       "</table>\n"
      ],
      "text/latex": [
       "A spec\\_tbl\\_df: 5 × 2\n",
       "\\begin{tabular}{ll}\n",
       " model & ref\\_score\\\\\n",
       " <dbl> & <dbl>\\\\\n",
       "\\hline\n",
       "\t 0 & 0.3916562\\\\\n",
       "\t 1 & 0.4086013\\\\\n",
       "\t 2 & 0.3904341\\\\\n",
       "\t 3 & 0.3926176\\\\\n",
       "\t 4 & 0.3970711\\\\\n",
       "\\end{tabular}\n"
      ],
      "text/markdown": [
       "\n",
       "A spec_tbl_df: 5 × 2\n",
       "\n",
       "| model &lt;dbl&gt; | ref_score &lt;dbl&gt; |\n",
       "|---|---|\n",
       "| 0 | 0.3916562 |\n",
       "| 1 | 0.4086013 |\n",
       "| 2 | 0.3904341 |\n",
       "| 3 | 0.3926176 |\n",
       "| 4 | 0.3970711 |\n",
       "\n"
      ],
      "text/plain": [
       "  model ref_score\n",
       "1 0     0.3916562\n",
       "2 1     0.4086013\n",
       "3 2     0.3904341\n",
       "4 3     0.3926176\n",
       "5 4     0.3970711"
      ]
     },
     "metadata": {},
     "output_type": "display_data"
    },
    {
     "data": {
      "text/html": [
       "'RBC F1 avg.: 0.396076075381531'"
      ],
      "text/latex": [
       "'RBC F1 avg.: 0.396076075381531'"
      ],
      "text/markdown": [
       "'RBC F1 avg.: 0.396076075381531'"
      ],
      "text/plain": [
       "[1] \"RBC F1 avg.: 0.396076075381531\""
      ]
     },
     "metadata": {},
     "output_type": "display_data"
    },
    {
     "data": {
      "text/html": [
       "'RBC F1 impr. over baseline: TRUE'"
      ],
      "text/latex": [
       "'RBC F1 impr. over baseline: TRUE'"
      ],
      "text/markdown": [
       "'RBC F1 impr. over baseline: TRUE'"
      ],
      "text/plain": [
       "[1] \"RBC F1 impr. over baseline: TRUE\""
      ]
     },
     "metadata": {},
     "output_type": "display_data"
    },
    {
     "data": {
      "text/html": [
       "'RBC F1 diff with baseline: 0.0295602382774589'"
      ],
      "text/latex": [
       "'RBC F1 diff with baseline: 0.0295602382774589'"
      ],
      "text/markdown": [
       "'RBC F1 diff with baseline: 0.0295602382774589'"
      ],
      "text/plain": [
       "[1] \"RBC F1 diff with baseline: 0.0295602382774589\""
      ]
     },
     "metadata": {},
     "output_type": "display_data"
    },
    {
     "data": {
      "text/html": [
       "'RBC F1 consensus genes: 0'"
      ],
      "text/latex": [
       "'RBC F1 consensus genes: 0'"
      ],
      "text/markdown": [
       "'RBC F1 consensus genes: 0'"
      ],
      "text/plain": [
       "[1] \"RBC F1 consensus genes: 0\""
      ]
     },
     "metadata": {},
     "output_type": "display_data"
    }
   ],
   "source": [
    "f1_rfc_scores_df <- read_tsv(paste0(dirs$analysis_dir, \"/\", unified_dsets[dset_idx], \"_rfc_ref_scores.tsv\"))\n",
    "f1_rfc_results_df <- read_tsv(paste0(dirs$analysis_dir, \"/\", unified_dsets[dset_idx], \"_rfc_results.tsv\"))\n",
    "f1_rfc_scores_df\n",
    "\n",
    "f1_rfc_avg <- mean(f1_rfc_scores_df$ref_score)\n",
    "f1_rfc_imp <- f1_rfc_avg > f1_weighted_majority_baseline\n",
    "f1_rfc_baseline_diff <- f1_rfc_avg - f1_weighted_majority_baseline\n",
    "n_f1_rfc_consensus_genes <- nrow(f1_rfc_results_df %>% dplyr::filter(consensus_vote == TRUE))\n",
    "\n",
    "paste0(\"RBC F1 avg.: \", f1_rfc_avg)\n",
    "paste0(\"RBC F1 impr. over baseline: \", f1_rfc_imp)\n",
    "paste0(\"RBC F1 diff with baseline: \", f1_rfc_baseline_diff)\n",
    "paste0(\"RBC F1 consensus genes: \", n_f1_rfc_consensus_genes)"
   ]
  },
  {
   "cell_type": "markdown",
   "metadata": {},
   "source": [
    "## LR (L1)"
   ]
  },
  {
   "cell_type": "code",
   "execution_count": 22,
   "metadata": {
    "collapsed": true,
    "jupyter": {
     "outputs_hidden": true
    }
   },
   "outputs": [
    {
     "name": "stderr",
     "output_type": "stream",
     "text": [
      "Parsed with column specification:\n",
      "cols(\n",
      "  model = col_double(),\n",
      "  ref_score = col_double()\n",
      ")\n",
      "Parsed with column specification:\n",
      "cols(\n",
      "  geneID = col_character(),\n",
      "  mean_imp_0 = col_double(),\n",
      "  score_pct_improvement_0 = col_double(),\n",
      "  mean_imp_1 = col_double(),\n",
      "  score_pct_improvement_1 = col_double(),\n",
      "  mean_imp_2 = col_double(),\n",
      "  score_pct_improvement_2 = col_double(),\n",
      "  mean_imp_3 = col_double(),\n",
      "  score_pct_improvement_3 = col_double(),\n",
      "  mean_imp_4 = col_double(),\n",
      "  score_pct_improvement_4 = col_double(),\n",
      "  consensus_imp_mean = col_double(),\n",
      "  consensus_imp_std = col_double(),\n",
      "  consensus_imp_cv = col_double(),\n",
      "  consensus_vote = col_logical()\n",
      ")\n"
     ]
    },
    {
     "data": {
      "text/html": [
       "<table>\n",
       "<caption>A spec_tbl_df: 5 × 2</caption>\n",
       "<thead>\n",
       "\t<tr><th scope=col>model</th><th scope=col>ref_score</th></tr>\n",
       "\t<tr><th scope=col>&lt;dbl&gt;</th><th scope=col>&lt;dbl&gt;</th></tr>\n",
       "</thead>\n",
       "<tbody>\n",
       "\t<tr><td>0</td><td>0.5061608</td></tr>\n",
       "\t<tr><td>1</td><td>0.5089790</td></tr>\n",
       "\t<tr><td>2</td><td>0.5091950</td></tr>\n",
       "\t<tr><td>3</td><td>0.5091950</td></tr>\n",
       "\t<tr><td>4</td><td>0.5016497</td></tr>\n",
       "</tbody>\n",
       "</table>\n"
      ],
      "text/latex": [
       "A spec\\_tbl\\_df: 5 × 2\n",
       "\\begin{tabular}{ll}\n",
       " model & ref\\_score\\\\\n",
       " <dbl> & <dbl>\\\\\n",
       "\\hline\n",
       "\t 0 & 0.5061608\\\\\n",
       "\t 1 & 0.5089790\\\\\n",
       "\t 2 & 0.5091950\\\\\n",
       "\t 3 & 0.5091950\\\\\n",
       "\t 4 & 0.5016497\\\\\n",
       "\\end{tabular}\n"
      ],
      "text/markdown": [
       "\n",
       "A spec_tbl_df: 5 × 2\n",
       "\n",
       "| model &lt;dbl&gt; | ref_score &lt;dbl&gt; |\n",
       "|---|---|\n",
       "| 0 | 0.5061608 |\n",
       "| 1 | 0.5089790 |\n",
       "| 2 | 0.5091950 |\n",
       "| 3 | 0.5091950 |\n",
       "| 4 | 0.5016497 |\n",
       "\n"
      ],
      "text/plain": [
       "  model ref_score\n",
       "1 0     0.5061608\n",
       "2 1     0.5089790\n",
       "3 2     0.5091950\n",
       "4 3     0.5091950\n",
       "5 4     0.5016497"
      ]
     },
     "metadata": {},
     "output_type": "display_data"
    },
    {
     "data": {
      "text/html": [
       "'LR L1 F1 avg.: 0.507035926627848'"
      ],
      "text/latex": [
       "'LR L1 F1 avg.: 0.507035926627848'"
      ],
      "text/markdown": [
       "'LR L1 F1 avg.: 0.507035926627848'"
      ],
      "text/plain": [
       "[1] \"LR L1 F1 avg.: 0.507035926627848\""
      ]
     },
     "metadata": {},
     "output_type": "display_data"
    },
    {
     "data": {
      "text/html": [
       "'LR L1 F1 impr. over baseline: TRUE'"
      ],
      "text/latex": [
       "'LR L1 F1 impr. over baseline: TRUE'"
      ],
      "text/markdown": [
       "'LR L1 F1 impr. over baseline: TRUE'"
      ],
      "text/plain": [
       "[1] \"LR L1 F1 impr. over baseline: TRUE\""
      ]
     },
     "metadata": {},
     "output_type": "display_data"
    },
    {
     "data": {
      "text/html": [
       "'LR L1 F1 diff with baseline: 0.140520089523776'"
      ],
      "text/latex": [
       "'LR L1 F1 diff with baseline: 0.140520089523776'"
      ],
      "text/markdown": [
       "'LR L1 F1 diff with baseline: 0.140520089523776'"
      ],
      "text/plain": [
       "[1] \"LR L1 F1 diff with baseline: 0.140520089523776\""
      ]
     },
     "metadata": {},
     "output_type": "display_data"
    },
    {
     "data": {
      "text/html": [
       "'LR L1 F1 consensus genes: 166'"
      ],
      "text/latex": [
       "'LR L1 F1 consensus genes: 166'"
      ],
      "text/markdown": [
       "'LR L1 F1 consensus genes: 166'"
      ],
      "text/plain": [
       "[1] \"LR L1 F1 consensus genes: 166\""
      ]
     },
     "metadata": {},
     "output_type": "display_data"
    }
   ],
   "source": [
    "f1_l1_lr_scores_df <- read_tsv(paste0(dirs$analysis_dir, \"/\", unified_dsets[dset_idx], \"_l1_lr_ref_scores.tsv\"))\n",
    "f1_l1_lr_results_df <- read_tsv(paste0(dirs$analysis_dir, \"/\", unified_dsets[dset_idx], \"_l1_lr_results.tsv\"))\n",
    "f1_l1_lr_scores_df\n",
    "\n",
    "f1_l1_lr_avg <- mean(f1_l1_lr_scores_df$ref_score)\n",
    "f1_l1_lr_imp <- f1_l1_lr_avg > f1_weighted_majority_baseline\n",
    "f1_l1_lr_baseline_diff <- f1_l1_lr_avg - f1_weighted_majority_baseline\n",
    "n_f1_l1_lr_consensus_genes <- nrow(f1_l1_lr_results_df %>% dplyr::filter(consensus_vote == TRUE))\n",
    "\n",
    "paste0(\"LR L1 F1 avg.: \", f1_l1_lr_avg)\n",
    "paste0(\"LR L1 F1 impr. over baseline: \", f1_l1_lr_imp)\n",
    "paste0(\"LR L1 F1 diff with baseline: \", f1_l1_lr_baseline_diff)\n",
    "paste0(\"LR L1 F1 consensus genes: \", n_f1_l1_lr_consensus_genes)"
   ]
  },
  {
   "cell_type": "markdown",
   "metadata": {},
   "source": [
    "## LR (L2)"
   ]
  },
  {
   "cell_type": "code",
   "execution_count": 23,
   "metadata": {
    "collapsed": true,
    "jupyter": {
     "outputs_hidden": true
    }
   },
   "outputs": [
    {
     "name": "stderr",
     "output_type": "stream",
     "text": [
      "Parsed with column specification:\n",
      "cols(\n",
      "  model = col_double(),\n",
      "  ref_score = col_double()\n",
      ")\n",
      "Parsed with column specification:\n",
      "cols(\n",
      "  geneID = col_character(),\n",
      "  mean_imp_0 = col_double(),\n",
      "  score_pct_improvement_0 = col_double(),\n",
      "  mean_imp_1 = col_double(),\n",
      "  score_pct_improvement_1 = col_double(),\n",
      "  mean_imp_2 = col_double(),\n",
      "  score_pct_improvement_2 = col_double(),\n",
      "  mean_imp_3 = col_double(),\n",
      "  score_pct_improvement_3 = col_double(),\n",
      "  mean_imp_4 = col_double(),\n",
      "  score_pct_improvement_4 = col_double(),\n",
      "  consensus_imp_mean = col_double(),\n",
      "  consensus_imp_std = col_double(),\n",
      "  consensus_imp_cv = col_double(),\n",
      "  consensus_vote = col_logical()\n",
      ")\n"
     ]
    },
    {
     "data": {
      "text/html": [
       "<table>\n",
       "<caption>A spec_tbl_df: 5 × 2</caption>\n",
       "<thead>\n",
       "\t<tr><th scope=col>model</th><th scope=col>ref_score</th></tr>\n",
       "\t<tr><th scope=col>&lt;dbl&gt;</th><th scope=col>&lt;dbl&gt;</th></tr>\n",
       "</thead>\n",
       "<tbody>\n",
       "\t<tr><td>0</td><td>0.5097446</td></tr>\n",
       "\t<tr><td>1</td><td>0.5097446</td></tr>\n",
       "\t<tr><td>2</td><td>0.5097446</td></tr>\n",
       "\t<tr><td>3</td><td>0.5097446</td></tr>\n",
       "\t<tr><td>4</td><td>0.5097446</td></tr>\n",
       "</tbody>\n",
       "</table>\n"
      ],
      "text/latex": [
       "A spec\\_tbl\\_df: 5 × 2\n",
       "\\begin{tabular}{ll}\n",
       " model & ref\\_score\\\\\n",
       " <dbl> & <dbl>\\\\\n",
       "\\hline\n",
       "\t 0 & 0.5097446\\\\\n",
       "\t 1 & 0.5097446\\\\\n",
       "\t 2 & 0.5097446\\\\\n",
       "\t 3 & 0.5097446\\\\\n",
       "\t 4 & 0.5097446\\\\\n",
       "\\end{tabular}\n"
      ],
      "text/markdown": [
       "\n",
       "A spec_tbl_df: 5 × 2\n",
       "\n",
       "| model &lt;dbl&gt; | ref_score &lt;dbl&gt; |\n",
       "|---|---|\n",
       "| 0 | 0.5097446 |\n",
       "| 1 | 0.5097446 |\n",
       "| 2 | 0.5097446 |\n",
       "| 3 | 0.5097446 |\n",
       "| 4 | 0.5097446 |\n",
       "\n"
      ],
      "text/plain": [
       "  model ref_score\n",
       "1 0     0.5097446\n",
       "2 1     0.5097446\n",
       "3 2     0.5097446\n",
       "4 3     0.5097446\n",
       "5 4     0.5097446"
      ]
     },
     "metadata": {},
     "output_type": "display_data"
    },
    {
     "data": {
      "text/html": [
       "'LR L2 F1 avg.: 0.509744581003057'"
      ],
      "text/latex": [
       "'LR L2 F1 avg.: 0.509744581003057'"
      ],
      "text/markdown": [
       "'LR L2 F1 avg.: 0.509744581003057'"
      ],
      "text/plain": [
       "[1] \"LR L2 F1 avg.: 0.509744581003057\""
      ]
     },
     "metadata": {},
     "output_type": "display_data"
    },
    {
     "data": {
      "text/html": [
       "'LR L2 F1 impr. over baseline: TRUE'"
      ],
      "text/latex": [
       "'LR L2 F1 impr. over baseline: TRUE'"
      ],
      "text/markdown": [
       "'LR L2 F1 impr. over baseline: TRUE'"
      ],
      "text/plain": [
       "[1] \"LR L2 F1 impr. over baseline: TRUE\""
      ]
     },
     "metadata": {},
     "output_type": "display_data"
    },
    {
     "data": {
      "text/html": [
       "'LR L2 F1 diff with baseline: 0.143228743898984'"
      ],
      "text/latex": [
       "'LR L2 F1 diff with baseline: 0.143228743898984'"
      ],
      "text/markdown": [
       "'LR L2 F1 diff with baseline: 0.143228743898984'"
      ],
      "text/plain": [
       "[1] \"LR L2 F1 diff with baseline: 0.143228743898984\""
      ]
     },
     "metadata": {},
     "output_type": "display_data"
    },
    {
     "data": {
      "text/html": [
       "'LR L2 F1 consensus genes: 869'"
      ],
      "text/latex": [
       "'LR L2 F1 consensus genes: 869'"
      ],
      "text/markdown": [
       "'LR L2 F1 consensus genes: 869'"
      ],
      "text/plain": [
       "[1] \"LR L2 F1 consensus genes: 869\""
      ]
     },
     "metadata": {},
     "output_type": "display_data"
    }
   ],
   "source": [
    "f1_l2_lr_scores_df <- read_tsv(paste0(dirs$analysis_dir, \"/\", unified_dsets[dset_idx], \"_l2_lr_ref_scores.tsv\"))\n",
    "f1_l2_lr_results_df <- read_tsv(paste0(dirs$analysis_dir, \"/\", unified_dsets[dset_idx], \"_l2_lr_results.tsv\"))\n",
    "f1_l2_lr_scores_df\n",
    "\n",
    "f1_l2_lr_avg <- mean(f1_l2_lr_scores_df$ref_score)\n",
    "f1_l2_lr_imp <- f1_l2_lr_avg > f1_weighted_majority_baseline\n",
    "f1_l2_lr_baseline_diff <- f1_l2_lr_avg - f1_weighted_majority_baseline\n",
    "n_f1_l2_lr_consensus_genes <- nrow(f1_l2_lr_results_df %>% dplyr::filter(consensus_vote == TRUE))\n",
    "\n",
    "paste0(\"LR L2 F1 avg.: \", f1_l2_lr_avg)\n",
    "paste0(\"LR L2 F1 impr. over baseline: \", f1_l2_lr_imp)\n",
    "paste0(\"LR L2 F1 diff with baseline: \", f1_l2_lr_baseline_diff)\n",
    "paste0(\"LR L2 F1 consensus genes: \", n_f1_l2_lr_consensus_genes)"
   ]
  },
  {
   "cell_type": "code",
   "execution_count": null,
   "metadata": {
    "collapsed": true,
    "jupyter": {
     "outputs_hidden": true
    }
   },
   "outputs": [],
   "source": []
  }
 ],
 "metadata": {
  "kernelspec": {
   "display_name": "R",
   "language": "R",
   "name": "ir"
  },
  "language_info": {
   "codemirror_mode": "r",
   "file_extension": ".r",
   "mimetype": "text/x-r-source",
   "name": "R",
   "pygments_lexer": "r",
   "version": "3.6.3"
  }
 },
 "nbformat": 4,
 "nbformat_minor": 4
}
