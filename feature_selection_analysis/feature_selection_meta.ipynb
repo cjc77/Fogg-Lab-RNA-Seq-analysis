{
 "cells": [
  {
   "cell_type": "code",
   "execution_count": 80,
   "metadata": {},
   "outputs": [],
   "source": [
    "library(tidyverse)\n",
    "\n",
    "# Custom package\n",
    "library(rutils)"
   ]
  },
  {
   "cell_type": "code",
   "execution_count": 81,
   "metadata": {},
   "outputs": [],
   "source": [
    "dirs <- rutils::get_dev_directories(dev_paths_file = \"../dev_paths.txt\")\n",
    "projects <- c(\"TCGA-CESC\", \"TCGA-UCS\", \"TCGA-UCEC\", \"TCGA-OV\")\n",
    "unified_dsets <- c(\"unified_cervical_data\", \"unified_uterine_data\", \"unified_uterine_endometrial_data\")\n",
    "matrisome_list <- paste0(dirs$data_dir, \"/matrisome/matrisome_hs_masterlist.tsv\")"
   ]
  },
  {
   "cell_type": "code",
   "execution_count": 82,
   "metadata": {},
   "outputs": [],
   "source": [
    "dset_idx <- 3"
   ]
  },
  {
   "cell_type": "code",
   "execution_count": 83,
   "metadata": {},
   "outputs": [],
   "source": [
    "p_thresh = 0.05\n",
    "lfc_thresh = log2(2)\n",
    "coxph_coeff_thresh = 0.0\n",
    "mi_thresh = 0.0\n",
    "consensus_thresh = 0.0\n",
    "consensus_n = 5"
   ]
  },
  {
   "cell_type": "markdown",
   "metadata": {},
   "source": [
    "# Helpers"
   ]
  },
  {
   "cell_type": "code",
   "execution_count": 84,
   "metadata": {},
   "outputs": [
    {
     "name": "stderr",
     "output_type": "stream",
     "text": [
      "Parsed with column specification:\n",
      "cols(\n",
      "  Division = col_character(),\n",
      "  Category = col_character(),\n",
      "  `Gene Symbol` = col_character(),\n",
      "  `Gene Name` = col_character(),\n",
      "  Synonyms = col_character(),\n",
      "  HGNC_IDs = col_double(),\n",
      "  `HGNC_IDs Links` = col_double(),\n",
      "  UniProt_IDs = col_character(),\n",
      "  Refseq_IDs = col_character(),\n",
      "  Orthology = col_character(),\n",
      "  Notes = col_character()\n",
      ")\n"
     ]
    }
   ],
   "source": [
    "matrisome_df <- rutils::load_matrisome_df(matrisome_list) %>%\n",
    "    dplyr::select(gene_symbol, division, category)\n",
    "\n",
    "\n",
    "get_consensus_col <- function(df, n, thresh = 0) {\n",
    "    consensus_df <- df %>%\n",
    "        dplyr::select(geneID, contains(\"mean\")) %>%\n",
    "        dplyr::mutate(consensus = rowSums(.[-1] > thresh) == n)\n",
    "    return(df %>% dplyr::mutate(consensus = consensus_df$consensus))\n",
    "}"
   ]
  },
  {
   "cell_type": "code",
   "execution_count": 85,
   "metadata": {},
   "outputs": [
    {
     "name": "stderr",
     "output_type": "stream",
     "text": [
      "Parsed with column specification:\n",
      "cols(\n",
      "  .default = col_double(),\n",
      "  geneID = col_character()\n",
      ")\n",
      "See spec(...) for full column specifications.\n"
     ]
    }
   ],
   "source": [
    "norm_counts_df <- read_tsv(paste0(dirs$data_dir, \"/\", unified_dsets[dset_idx], \"/\", \"norm_counts.tsv\"))"
   ]
  },
  {
   "cell_type": "markdown",
   "metadata": {},
   "source": [
    "# DGE analysis"
   ]
  },
  {
   "cell_type": "code",
   "execution_count": 86,
   "metadata": {},
   "outputs": [
    {
     "name": "stderr",
     "output_type": "stream",
     "text": [
      "Parsed with column specification:\n",
      "cols(\n",
      "  geneID = col_character(),\n",
      "  baseMean = col_double(),\n",
      "  log2FoldChange = col_double(),\n",
      "  lfcSE = col_double(),\n",
      "  stat = col_double(),\n",
      "  pvalue = col_double(),\n",
      "  padj = col_double()\n",
      ")\n"
     ]
    },
    {
     "data": {
      "text/html": [
       "'DEGs: 8229'"
      ],
      "text/latex": [
       "'DEGs: 8229'"
      ],
      "text/markdown": [
       "'DEGs: 8229'"
      ],
      "text/plain": [
       "[1] \"DEGs: 8229\""
      ]
     },
     "metadata": {},
     "output_type": "display_data"
    },
    {
     "data": {
      "text/html": [
       "'DEG prop: 0.406530975200079'"
      ],
      "text/latex": [
       "'DEG prop: 0.406530975200079'"
      ],
      "text/markdown": [
       "'DEG prop: 0.406530975200079'"
      ],
      "text/plain": [
       "[1] \"DEG prop: 0.406530975200079\""
      ]
     },
     "metadata": {},
     "output_type": "display_data"
    },
    {
     "data": {
      "text/html": [
       "'Up: 4862'"
      ],
      "text/latex": [
       "'Up: 4862'"
      ],
      "text/markdown": [
       "'Up: 4862'"
      ],
      "text/plain": [
       "[1] \"Up: 4862\""
      ]
     },
     "metadata": {},
     "output_type": "display_data"
    },
    {
     "data": {
      "text/html": [
       "'Down: 3367'"
      ],
      "text/latex": [
       "'Down: 3367'"
      ],
      "text/markdown": [
       "'Down: 3367'"
      ],
      "text/plain": [
       "[1] \"Down: 3367\""
      ]
     },
     "metadata": {},
     "output_type": "display_data"
    },
    {
     "data": {
      "text/html": [
       "'Matrisome DEGs: 618'"
      ],
      "text/latex": [
       "'Matrisome DEGs: 618'"
      ],
      "text/markdown": [
       "'Matrisome DEGs: 618'"
      ],
      "text/plain": [
       "[1] \"Matrisome DEGs: 618\""
      ]
     },
     "metadata": {},
     "output_type": "display_data"
    },
    {
     "data": {
      "text/html": [
       "'Matrisome DEG prop: 0.601752677702045'"
      ],
      "text/latex": [
       "'Matrisome DEG prop: 0.601752677702045'"
      ],
      "text/markdown": [
       "'Matrisome DEG prop: 0.601752677702045'"
      ],
      "text/plain": [
       "[1] \"Matrisome DEG prop: 0.601752677702045\""
      ]
     },
     "metadata": {},
     "output_type": "display_data"
    },
    {
     "data": {
      "text/html": [
       "'Matrisome up: 317'"
      ],
      "text/latex": [
       "'Matrisome up: 317'"
      ],
      "text/markdown": [
       "'Matrisome up: 317'"
      ],
      "text/plain": [
       "[1] \"Matrisome up: 317\""
      ]
     },
     "metadata": {},
     "output_type": "display_data"
    },
    {
     "data": {
      "text/html": [
       "'Matrisome down: 301'"
      ],
      "text/latex": [
       "'Matrisome down: 301'"
      ],
      "text/markdown": [
       "'Matrisome down: 301'"
      ],
      "text/plain": [
       "[1] \"Matrisome down: 301\""
      ]
     },
     "metadata": {},
     "output_type": "display_data"
    }
   ],
   "source": [
    "DESeq_results_df <- read_tsv(paste0(dirs$analysis_dir, \"/\", unified_dsets[dset_idx], \"_DESeq_results.tsv\"))\n",
    "filtered_DESeq_results_df <- DESeq_results_df %>%\n",
    "    dplyr::filter(abs(log2FoldChange) > lfc_thresh, padj < p_thresh)\n",
    "filtered_matrisome_DESeq_results_df <- filtered_DESeq_results_df %>%\n",
    "    dplyr::filter(geneID %in% matrisome_df$gene_symbol)\n",
    "\n",
    "n_degs <- nrow(filtered_DESeq_results_df)\n",
    "deg_prop <- nrow(filtered_DESeq_results_df) / nrow(norm_counts_df)\n",
    "n_degs_up <- nrow(filtered_DESeq_results_df %>% dplyr::filter(log2FoldChange > 0))\n",
    "n_degs_down <- nrow(filtered_DESeq_results_df %>% dplyr::filter(log2FoldChange < 0))\n",
    "\n",
    "n_matrisome_degs <- nrow(filtered_matrisome_DESeq_results_df)\n",
    "matrisome_deg_prop <- nrow(filtered_matrisome_DESeq_results_df) / nrow(matrisome_df)\n",
    "n_matrisome_degs_up <- nrow(filtered_matrisome_DESeq_results_df %>% dplyr::filter(log2FoldChange > 0))\n",
    "n_matrisome_degs_down <- nrow(filtered_matrisome_DESeq_results_df %>% dplyr::filter(log2FoldChange < 0))\n",
    "\n",
    "\n",
    "paste0(\"DEGs: \", n_degs)\n",
    "paste0(\"DEG prop: \", deg_prop)\n",
    "paste0(\"Up: \", n_degs_up)\n",
    "paste0(\"Down: \", n_degs_down)\n",
    "paste0(\"Matrisome DEGs: \", n_matrisome_degs)\n",
    "paste0(\"Matrisome DEG prop: \", matrisome_deg_prop)\n",
    "paste0(\"Matrisome up: \", n_matrisome_degs_up)\n",
    "paste0(\"Matrisome down: \", n_matrisome_degs_down)"
   ]
  },
  {
   "cell_type": "markdown",
   "metadata": {},
   "source": [
    "# Survival analysis"
   ]
  },
  {
   "cell_type": "code",
   "execution_count": 87,
   "metadata": {},
   "outputs": [
    {
     "name": "stderr",
     "output_type": "stream",
     "text": [
      "Parsed with column specification:\n",
      "cols(\n",
      "  dataset = col_character(),\n",
      "  lr_test_pval = col_double(),\n",
      "  wald_test_pval = col_double(),\n",
      "  score_test_pval = col_double()\n",
      ")\n",
      "Parsed with column specification:\n",
      "cols(\n",
      "  geneID = col_character(),\n",
      "  gene_pval = col_double(),\n",
      "  gene_coeff = col_double()\n",
      ")\n"
     ]
    }
   ],
   "source": [
    "coxph_null_scores_df <- read_tsv(paste0(dirs$analysis_dir, \"/meta/\", \"coxph_null_scores.tsv\"))\n",
    "coxph_results_df <- read_tsv(paste0(dirs$analysis_dir, \"/\", unified_dsets[dset_idx], \"_coxph_results.tsv\"))\n",
    "filtered_coxph_results_df <- coxph_results_df %>%\n",
    "    dplyr::filter(gene_pval < p_thresh)"
   ]
  },
  {
   "cell_type": "code",
   "execution_count": 88,
   "metadata": {},
   "outputs": [
    {
     "data": {
      "text/html": [
       "<table>\n",
       "<caption>A spec_tbl_df: 3 × 4</caption>\n",
       "<thead>\n",
       "\t<tr><th scope=col>dataset</th><th scope=col>lr_test_pval</th><th scope=col>wald_test_pval</th><th scope=col>score_test_pval</th></tr>\n",
       "\t<tr><th scope=col>&lt;chr&gt;</th><th scope=col>&lt;dbl&gt;</th><th scope=col>&lt;dbl&gt;</th><th scope=col>&lt;dbl&gt;</th></tr>\n",
       "</thead>\n",
       "<tbody>\n",
       "\t<tr><td>unified_cervical_data           </td><td>0.0004814013</td><td>0.000049053</td><td>1.224173e-06</td></tr>\n",
       "\t<tr><td>unified_uterine_data            </td><td>0.3392807906</td><td>0.989893132</td><td>3.053979e-01</td></tr>\n",
       "\t<tr><td>unified_uterine_endometrial_data</td><td>0.0007739010</td><td>0.000000000</td><td>1.040876e-06</td></tr>\n",
       "</tbody>\n",
       "</table>\n"
      ],
      "text/latex": [
       "A spec\\_tbl\\_df: 3 × 4\n",
       "\\begin{tabular}{llll}\n",
       " dataset & lr\\_test\\_pval & wald\\_test\\_pval & score\\_test\\_pval\\\\\n",
       " <chr> & <dbl> & <dbl> & <dbl>\\\\\n",
       "\\hline\n",
       "\t unified\\_cervical\\_data            & 0.0004814013 & 0.000049053 & 1.224173e-06\\\\\n",
       "\t unified\\_uterine\\_data             & 0.3392807906 & 0.989893132 & 3.053979e-01\\\\\n",
       "\t unified\\_uterine\\_endometrial\\_data & 0.0007739010 & 0.000000000 & 1.040876e-06\\\\\n",
       "\\end{tabular}\n"
      ],
      "text/markdown": [
       "\n",
       "A spec_tbl_df: 3 × 4\n",
       "\n",
       "| dataset &lt;chr&gt; | lr_test_pval &lt;dbl&gt; | wald_test_pval &lt;dbl&gt; | score_test_pval &lt;dbl&gt; |\n",
       "|---|---|---|---|\n",
       "| unified_cervical_data            | 0.0004814013 | 0.000049053 | 1.224173e-06 |\n",
       "| unified_uterine_data             | 0.3392807906 | 0.989893132 | 3.053979e-01 |\n",
       "| unified_uterine_endometrial_data | 0.0007739010 | 0.000000000 | 1.040876e-06 |\n",
       "\n"
      ],
      "text/plain": [
       "  dataset                          lr_test_pval wald_test_pval score_test_pval\n",
       "1 unified_cervical_data            0.0004814013 0.000049053    1.224173e-06   \n",
       "2 unified_uterine_data             0.3392807906 0.989893132    3.053979e-01   \n",
       "3 unified_uterine_endometrial_data 0.0007739010 0.000000000    1.040876e-06   "
      ]
     },
     "metadata": {},
     "output_type": "display_data"
    }
   ],
   "source": [
    "coxph_null_scores_df"
   ]
  },
  {
   "cell_type": "code",
   "execution_count": 89,
   "metadata": {},
   "outputs": [
    {
     "data": {
      "text/html": [
       "'Sig. null Cox PH: TRUE'"
      ],
      "text/latex": [
       "'Sig. null Cox PH: TRUE'"
      ],
      "text/markdown": [
       "'Sig. null Cox PH: TRUE'"
      ],
      "text/plain": [
       "[1] \"Sig. null Cox PH: TRUE\""
      ]
     },
     "metadata": {},
     "output_type": "display_data"
    },
    {
     "data": {
      "text/html": [
       "'Sig. Cox PH genes: 89'"
      ],
      "text/latex": [
       "'Sig. Cox PH genes: 89'"
      ],
      "text/markdown": [
       "'Sig. Cox PH genes: 89'"
      ],
      "text/plain": [
       "[1] \"Sig. Cox PH genes: 89\""
      ]
     },
     "metadata": {},
     "output_type": "display_data"
    },
    {
     "data": {
      "text/html": [
       "'Prop. sig. Cox PH genes: 0.0866601752677702'"
      ],
      "text/latex": [
       "'Prop. sig. Cox PH genes: 0.0866601752677702'"
      ],
      "text/markdown": [
       "'Prop. sig. Cox PH genes: 0.0866601752677702'"
      ],
      "text/plain": [
       "[1] \"Prop. sig. Cox PH genes: 0.0866601752677702\""
      ]
     },
     "metadata": {},
     "output_type": "display_data"
    },
    {
     "data": {
      "text/html": [
       "'Sig. Cox PH protective: 11'"
      ],
      "text/latex": [
       "'Sig. Cox PH protective: 11'"
      ],
      "text/markdown": [
       "'Sig. Cox PH protective: 11'"
      ],
      "text/plain": [
       "[1] \"Sig. Cox PH protective: 11\""
      ]
     },
     "metadata": {},
     "output_type": "display_data"
    },
    {
     "data": {
      "text/html": [
       "'Sig. Cox PH harmful: 78'"
      ],
      "text/latex": [
       "'Sig. Cox PH harmful: 78'"
      ],
      "text/markdown": [
       "'Sig. Cox PH harmful: 78'"
      ],
      "text/plain": [
       "[1] \"Sig. Cox PH harmful: 78\""
      ]
     },
     "metadata": {},
     "output_type": "display_data"
    }
   ],
   "source": [
    "coxph_null_sig <- (coxph_null_scores_df %>% dplyr::filter(dataset == unified_dsets[dset_idx]))$lr_test_pval < p_thresh\n",
    "n_coxph_sig <- nrow(filtered_coxph_results_df)\n",
    "prop_coxph_sig <- n_coxph_sig / nrow(matrisome_df)\n",
    "n_coxph_sig_protective <- nrow(filtered_coxph_results_df %>% dplyr::filter(gene_coeff < 0))\n",
    "n_coxph_sig_harmful <- nrow(filtered_coxph_results_df %>% dplyr::filter(gene_coeff > 0))\n",
    "\n",
    "\n",
    "paste0(\"Sig. null Cox PH: \", coxph_null_sig)\n",
    "paste0(\"Sig. Cox PH genes: \", n_coxph_sig)\n",
    "paste0(\"Prop. sig. Cox PH genes: \", prop_coxph_sig)\n",
    "paste0(\"Sig. Cox PH protective: \", n_coxph_sig_protective)\n",
    "paste0(\"Sig. Cox PH harmful: \", n_coxph_sig_harmful)"
   ]
  },
  {
   "cell_type": "markdown",
   "metadata": {},
   "source": [
    "# Regression"
   ]
  },
  {
   "cell_type": "markdown",
   "metadata": {
    "jupyter": {
     "outputs_hidden": true
    }
   },
   "source": [
    "## Correlation analysis"
   ]
  },
  {
   "cell_type": "code",
   "execution_count": 90,
   "metadata": {},
   "outputs": [
    {
     "name": "stderr",
     "output_type": "stream",
     "text": [
      "Parsed with column specification:\n",
      "cols(\n",
      "  geneID = col_character(),\n",
      "  cor = col_double(),\n",
      "  pval = col_double(),\n",
      "  n = col_double()\n",
      ")\n"
     ]
    },
    {
     "data": {
      "text/html": [
       "'Cor. genes: 40'"
      ],
      "text/latex": [
       "'Cor. genes: 40'"
      ],
      "text/markdown": [
       "'Cor. genes: 40'"
      ],
      "text/plain": [
       "[1] \"Cor. genes: 40\""
      ]
     },
     "metadata": {},
     "output_type": "display_data"
    },
    {
     "data": {
      "text/html": [
       "'Neg. cor. genes: 8'"
      ],
      "text/latex": [
       "'Neg. cor. genes: 8'"
      ],
      "text/markdown": [
       "'Neg. cor. genes: 8'"
      ],
      "text/plain": [
       "[1] \"Neg. cor. genes: 8\""
      ]
     },
     "metadata": {},
     "output_type": "display_data"
    },
    {
     "data": {
      "text/html": [
       "'Pos. cor. genes: 32'"
      ],
      "text/latex": [
       "'Pos. cor. genes: 32'"
      ],
      "text/markdown": [
       "'Pos. cor. genes: 32'"
      ],
      "text/plain": [
       "[1] \"Pos. cor. genes: 32\""
      ]
     },
     "metadata": {},
     "output_type": "display_data"
    }
   ],
   "source": [
    "cor_results_df <- read_tsv(paste0(dirs$analysis_dir, \"/\", unified_dsets[dset_idx], \"_cor_results.tsv\"))\n",
    "\n",
    "filtered_cor_results_df <- cor_results_df %>% dplyr::filter(pval < p_thresh)\n",
    "\n",
    "n_cor <- nrow(filtered_cor_results_df)\n",
    "n_cor_down <- nrow(filtered_cor_results_df %>% dplyr::filter(cor < 0))\n",
    "n_cor_up <- nrow(filtered_cor_results_df %>% dplyr::filter(cor > 0))\n",
    "\n",
    "paste0(\"Cor. genes: \", n_cor)\n",
    "paste0(\"Neg. cor. genes: \", n_cor_down)\n",
    "paste0(\"Pos. cor. genes: \", n_cor_up)"
   ]
  },
  {
   "cell_type": "markdown",
   "metadata": {},
   "source": [
    "## MI analysis"
   ]
  },
  {
   "cell_type": "code",
   "execution_count": 91,
   "metadata": {},
   "outputs": [
    {
     "name": "stderr",
     "output_type": "stream",
     "text": [
      "Parsed with column specification:\n",
      "cols(\n",
      "  geneID = col_character(),\n",
      "  MI_est_median = col_double()\n",
      ")\n"
     ]
    },
    {
     "data": {
      "text/html": [
       "'MI: 458'"
      ],
      "text/latex": [
       "'MI: 458'"
      ],
      "text/markdown": [
       "'MI: 458'"
      ],
      "text/plain": [
       "[1] \"MI: 458\""
      ]
     },
     "metadata": {},
     "output_type": "display_data"
    }
   ],
   "source": [
    "mi_survival_results_df <- read_tsv(paste0(dirs$analysis_dir, \"/\", unified_dsets[dset_idx], \"_MI_survival_results.tsv\"))\n",
    "filtered_mi_survival_results_df <- mi_survival_results_df %>% dplyr::filter(MI_est_median > mi_thresh)\n",
    "\n",
    "n_mi <- nrow(filtered_mi_survival_results_df)\n",
    "\n",
    "paste0(\"MI: \", n_mi)"
   ]
  },
  {
   "cell_type": "markdown",
   "metadata": {},
   "source": [
    "## Baselines"
   ]
  },
  {
   "cell_type": "code",
   "execution_count": 92,
   "metadata": {},
   "outputs": [
    {
     "name": "stderr",
     "output_type": "stream",
     "text": [
      "Parsed with column specification:\n",
      "cols(\n",
      "  dataset = col_character(),\n",
      "  L2 = col_double(),\n",
      "  L1 = col_double(),\n",
      "  R2 = col_double(),\n",
      "  explained_variance = col_double(),\n",
      "  n = col_double()\n",
      ")\n"
     ]
    },
    {
     "data": {
      "text/html": [
       "'MAE baseline: 415.708333333333'"
      ],
      "text/latex": [
       "'MAE baseline: 415.708333333333'"
      ],
      "text/markdown": [
       "'MAE baseline: 415.708333333333'"
      ],
      "text/plain": [
       "[1] \"MAE baseline: 415.708333333333\""
      ]
     },
     "metadata": {},
     "output_type": "display_data"
    },
    {
     "data": {
      "text/html": [
       "'EV baseline: 0'"
      ],
      "text/latex": [
       "'EV baseline: 0'"
      ],
      "text/markdown": [
       "'EV baseline: 0'"
      ],
      "text/plain": [
       "[1] \"EV baseline: 0\""
      ]
     },
     "metadata": {},
     "output_type": "display_data"
    }
   ],
   "source": [
    "reg_baselines_df <- read_tsv(paste0(dirs$analysis_dir, \"/meta/\", \"reg_baselines.tsv\"))\n",
    "mae_baseline = (reg_baselines_df %>% filter(dataset == unified_dsets[dset_idx]))$L1\n",
    "ev_baseline = (reg_baselines_df %>% filter(dataset == unified_dsets[dset_idx]))$explained_variance\n",
    "paste0(\"MAE baseline: \", mae_baseline)\n",
    "paste0(\"EV baseline: \", ev_baseline)"
   ]
  },
  {
   "cell_type": "code",
   "execution_count": 93,
   "metadata": {},
   "outputs": [
    {
     "data": {
      "text/html": [
       "<table>\n",
       "<caption>A spec_tbl_df: 3 × 6</caption>\n",
       "<thead>\n",
       "\t<tr><th scope=col>dataset</th><th scope=col>L2</th><th scope=col>L1</th><th scope=col>R2</th><th scope=col>explained_variance</th><th scope=col>n</th></tr>\n",
       "\t<tr><th scope=col>&lt;chr&gt;</th><th scope=col>&lt;dbl&gt;</th><th scope=col>&lt;dbl&gt;</th><th scope=col>&lt;dbl&gt;</th><th scope=col>&lt;dbl&gt;</th><th scope=col>&lt;dbl&gt;</th></tr>\n",
       "</thead>\n",
       "<tbody>\n",
       "\t<tr><td>unified_cervical_data           </td><td>641687.7</td><td>518.3333</td><td>0</td><td>0</td><td>66</td></tr>\n",
       "\t<tr><td>unified_uterine_data            </td><td>620674.9</td><td>516.0741</td><td>0</td><td>0</td><td>27</td></tr>\n",
       "\t<tr><td>unified_uterine_endometrial_data</td><td>386549.9</td><td>415.7083</td><td>0</td><td>0</td><td>24</td></tr>\n",
       "</tbody>\n",
       "</table>\n"
      ],
      "text/latex": [
       "A spec\\_tbl\\_df: 3 × 6\n",
       "\\begin{tabular}{llllll}\n",
       " dataset & L2 & L1 & R2 & explained\\_variance & n\\\\\n",
       " <chr> & <dbl> & <dbl> & <dbl> & <dbl> & <dbl>\\\\\n",
       "\\hline\n",
       "\t unified\\_cervical\\_data            & 641687.7 & 518.3333 & 0 & 0 & 66\\\\\n",
       "\t unified\\_uterine\\_data             & 620674.9 & 516.0741 & 0 & 0 & 27\\\\\n",
       "\t unified\\_uterine\\_endometrial\\_data & 386549.9 & 415.7083 & 0 & 0 & 24\\\\\n",
       "\\end{tabular}\n"
      ],
      "text/markdown": [
       "\n",
       "A spec_tbl_df: 3 × 6\n",
       "\n",
       "| dataset &lt;chr&gt; | L2 &lt;dbl&gt; | L1 &lt;dbl&gt; | R2 &lt;dbl&gt; | explained_variance &lt;dbl&gt; | n &lt;dbl&gt; |\n",
       "|---|---|---|---|---|---|\n",
       "| unified_cervical_data            | 641687.7 | 518.3333 | 0 | 0 | 66 |\n",
       "| unified_uterine_data             | 620674.9 | 516.0741 | 0 | 0 | 27 |\n",
       "| unified_uterine_endometrial_data | 386549.9 | 415.7083 | 0 | 0 | 24 |\n",
       "\n"
      ],
      "text/plain": [
       "  dataset                          L2       L1       R2 explained_variance n \n",
       "1 unified_cervical_data            641687.7 518.3333 0  0                  66\n",
       "2 unified_uterine_data             620674.9 516.0741 0  0                  27\n",
       "3 unified_uterine_endometrial_data 386549.9 415.7083 0  0                  24"
      ]
     },
     "metadata": {},
     "output_type": "display_data"
    }
   ],
   "source": [
    "reg_baselines_df"
   ]
  },
  {
   "cell_type": "markdown",
   "metadata": {},
   "source": [
    "# Classification"
   ]
  },
  {
   "cell_type": "markdown",
   "metadata": {},
   "source": [
    "## MI analysis"
   ]
  },
  {
   "cell_type": "code",
   "execution_count": 94,
   "metadata": {},
   "outputs": [
    {
     "name": "stderr",
     "output_type": "stream",
     "text": [
      "Parsed with column specification:\n",
      "cols(\n",
      "  geneID = col_character(),\n",
      "  MI_est_median = col_double()\n",
      ")\n"
     ]
    },
    {
     "data": {
      "text/html": [
       "'MI: 581'"
      ],
      "text/latex": [
       "'MI: 581'"
      ],
      "text/markdown": [
       "'MI: 581'"
      ],
      "text/plain": [
       "[1] \"MI: 581\""
      ]
     },
     "metadata": {},
     "output_type": "display_data"
    }
   ],
   "source": [
    "mi_figo_results_df <- read_tsv(paste0(dirs$analysis_dir, \"/\", unified_dsets[dset_idx], \"_MI_figo_results.tsv\"))\n",
    "filtered_mi_figo_results_df <- mi_figo_results_df %>% dplyr::filter(MI_est_median > mi_thresh)\n",
    "\n",
    "n_mi <- nrow(filtered_mi_figo_results_df)\n",
    "\n",
    "paste0(\"MI: \", n_mi)"
   ]
  },
  {
   "cell_type": "markdown",
   "metadata": {},
   "source": [
    "## Anova analysis"
   ]
  },
  {
   "cell_type": "code",
   "execution_count": 95,
   "metadata": {},
   "outputs": [
    {
     "name": "stderr",
     "output_type": "stream",
     "text": [
      "Parsed with column specification:\n",
      "cols(\n",
      "  geneID = col_character(),\n",
      "  pval = col_double(),\n",
      "  padj = col_double()\n",
      ")\n"
     ]
    },
    {
     "data": {
      "text/html": [
       "'Sig. ANOVA: 13'"
      ],
      "text/latex": [
       "'Sig. ANOVA: 13'"
      ],
      "text/markdown": [
       "'Sig. ANOVA: 13'"
      ],
      "text/plain": [
       "[1] \"Sig. ANOVA: 13\""
      ]
     },
     "metadata": {},
     "output_type": "display_data"
    }
   ],
   "source": [
    "welch_anova_results_df <- read_tsv(paste0(dirs$analysis_dir, \"/\", unified_dsets[dset_idx], \"_welch_anova_results.tsv\"))\n",
    "filtered_welch_anova_results_df <- welch_anova_results_df %>% dplyr::filter(padj < p_thresh)\n",
    "\n",
    "n_sig <- nrow(filtered_welch_anova_results_df)\n",
    "\n",
    "paste0(\"Sig. ANOVA: \", n_sig)"
   ]
  },
  {
   "cell_type": "markdown",
   "metadata": {},
   "source": [
    "## Baselines"
   ]
  },
  {
   "cell_type": "code",
   "execution_count": 96,
   "metadata": {},
   "outputs": [
    {
     "name": "stderr",
     "output_type": "stream",
     "text": [
      "Parsed with column specification:\n",
      "cols(\n",
      "  dataset = col_character(),\n",
      "  f1_macro_majority = col_double(),\n",
      "  f1_macro_MC = col_double(),\n",
      "  n = col_double()\n",
      ")\n"
     ]
    },
    {
     "data": {
      "text/html": [
       "<table>\n",
       "<caption>A spec_tbl_df: 3 × 4</caption>\n",
       "<thead>\n",
       "\t<tr><th scope=col>dataset</th><th scope=col>f1_macro_majority</th><th scope=col>f1_macro_MC</th><th scope=col>n</th></tr>\n",
       "\t<tr><th scope=col>&lt;chr&gt;</th><th scope=col>&lt;dbl&gt;</th><th scope=col>&lt;dbl&gt;</th><th scope=col>&lt;dbl&gt;</th></tr>\n",
       "</thead>\n",
       "<tbody>\n",
       "\t<tr><td>unified_cervical_data           </td><td>0.1730769</td><td>0.2487013</td><td>255</td></tr>\n",
       "\t<tr><td>unified_uterine_data            </td><td>0.1406250</td><td>0.2443586</td><td> 46</td></tr>\n",
       "\t<tr><td>unified_uterine_endometrial_data</td><td>0.1738095</td><td>0.2480810</td><td>137</td></tr>\n",
       "</tbody>\n",
       "</table>\n"
      ],
      "text/latex": [
       "A spec\\_tbl\\_df: 3 × 4\n",
       "\\begin{tabular}{llll}\n",
       " dataset & f1\\_macro\\_majority & f1\\_macro\\_MC & n\\\\\n",
       " <chr> & <dbl> & <dbl> & <dbl>\\\\\n",
       "\\hline\n",
       "\t unified\\_cervical\\_data            & 0.1730769 & 0.2487013 & 255\\\\\n",
       "\t unified\\_uterine\\_data             & 0.1406250 & 0.2443586 &  46\\\\\n",
       "\t unified\\_uterine\\_endometrial\\_data & 0.1738095 & 0.2480810 & 137\\\\\n",
       "\\end{tabular}\n"
      ],
      "text/markdown": [
       "\n",
       "A spec_tbl_df: 3 × 4\n",
       "\n",
       "| dataset &lt;chr&gt; | f1_macro_majority &lt;dbl&gt; | f1_macro_MC &lt;dbl&gt; | n &lt;dbl&gt; |\n",
       "|---|---|---|---|\n",
       "| unified_cervical_data            | 0.1730769 | 0.2487013 | 255 |\n",
       "| unified_uterine_data             | 0.1406250 | 0.2443586 |  46 |\n",
       "| unified_uterine_endometrial_data | 0.1738095 | 0.2480810 | 137 |\n",
       "\n"
      ],
      "text/plain": [
       "  dataset                          f1_macro_majority f1_macro_MC n  \n",
       "1 unified_cervical_data            0.1730769         0.2487013   255\n",
       "2 unified_uterine_data             0.1406250         0.2443586    46\n",
       "3 unified_uterine_endometrial_data 0.1738095         0.2480810   137"
      ]
     },
     "metadata": {},
     "output_type": "display_data"
    },
    {
     "data": {
      "text/html": [
       "'F1 macro (majority guess) baseline: 0.173809523809524'"
      ],
      "text/latex": [
       "'F1 macro (majority guess) baseline: 0.173809523809524'"
      ],
      "text/markdown": [
       "'F1 macro (majority guess) baseline: 0.173809523809524'"
      ],
      "text/plain": [
       "[1] \"F1 macro (majority guess) baseline: 0.173809523809524\""
      ]
     },
     "metadata": {},
     "output_type": "display_data"
    },
    {
     "data": {
      "text/html": [
       "'F1 macro (Monte Carlo) baseline: 0.24808098628323'"
      ],
      "text/latex": [
       "'F1 macro (Monte Carlo) baseline: 0.24808098628323'"
      ],
      "text/markdown": [
       "'F1 macro (Monte Carlo) baseline: 0.24808098628323'"
      ],
      "text/plain": [
       "[1] \"F1 macro (Monte Carlo) baseline: 0.24808098628323\""
      ]
     },
     "metadata": {},
     "output_type": "display_data"
    }
   ],
   "source": [
    "cls_baselines_df <- read_tsv(paste0(dirs$analysis_dir, \"/meta/\", \"cls_baselines.tsv\"))\n",
    "cls_baselines_df\n",
    "f1_macro_majority_baseline <- (cls_baselines_df %>% filter(dataset == unified_dsets[dset_idx]))$f1_macro_majority\n",
    "f1_macro_MC_baseline <- (cls_baselines_df %>% filter(dataset == unified_dsets[dset_idx]))$f1_macro_MC\n",
    "\n",
    "\n",
    "paste0(\"F1 macro (majority guess) baseline: \", f1_macro_majority_baseline)\n",
    "paste0(\"F1 macro (Monte Carlo) baseline: \", f1_macro_MC_baseline)"
   ]
  },
  {
   "cell_type": "markdown",
   "metadata": {},
   "source": [
    "## GBC"
   ]
  },
  {
   "cell_type": "code",
   "execution_count": 97,
   "metadata": {},
   "outputs": [
    {
     "name": "stderr",
     "output_type": "stream",
     "text": [
      "Parsed with column specification:\n",
      "cols(\n",
      "  model = col_double(),\n",
      "  ref_score = col_double()\n",
      ")\n",
      "Parsed with column specification:\n",
      "cols(\n",
      "  geneID = col_character(),\n",
      "  mean_imp_0 = col_double(),\n",
      "  score_pct_improvement_0 = col_double(),\n",
      "  mean_imp_1 = col_double(),\n",
      "  score_pct_improvement_1 = col_double(),\n",
      "  mean_imp_2 = col_double(),\n",
      "  score_pct_improvement_2 = col_double(),\n",
      "  mean_imp_3 = col_double(),\n",
      "  score_pct_improvement_3 = col_double(),\n",
      "  mean_imp_4 = col_double(),\n",
      "  score_pct_improvement_4 = col_double()\n",
      ")\n"
     ]
    },
    {
     "data": {
      "text/html": [
       "<table>\n",
       "<caption>A spec_tbl_df: 5 × 2</caption>\n",
       "<thead>\n",
       "\t<tr><th scope=col>model</th><th scope=col>ref_score</th></tr>\n",
       "\t<tr><th scope=col>&lt;dbl&gt;</th><th scope=col>&lt;dbl&gt;</th></tr>\n",
       "</thead>\n",
       "<tbody>\n",
       "\t<tr><td>0</td><td>0.3055761</td></tr>\n",
       "\t<tr><td>1</td><td>0.3002717</td></tr>\n",
       "\t<tr><td>2</td><td>0.2761016</td></tr>\n",
       "\t<tr><td>3</td><td>0.2815376</td></tr>\n",
       "\t<tr><td>4</td><td>0.2840617</td></tr>\n",
       "</tbody>\n",
       "</table>\n"
      ],
      "text/latex": [
       "A spec\\_tbl\\_df: 5 × 2\n",
       "\\begin{tabular}{ll}\n",
       " model & ref\\_score\\\\\n",
       " <dbl> & <dbl>\\\\\n",
       "\\hline\n",
       "\t 0 & 0.3055761\\\\\n",
       "\t 1 & 0.3002717\\\\\n",
       "\t 2 & 0.2761016\\\\\n",
       "\t 3 & 0.2815376\\\\\n",
       "\t 4 & 0.2840617\\\\\n",
       "\\end{tabular}\n"
      ],
      "text/markdown": [
       "\n",
       "A spec_tbl_df: 5 × 2\n",
       "\n",
       "| model &lt;dbl&gt; | ref_score &lt;dbl&gt; |\n",
       "|---|---|\n",
       "| 0 | 0.3055761 |\n",
       "| 1 | 0.3002717 |\n",
       "| 2 | 0.2761016 |\n",
       "| 3 | 0.2815376 |\n",
       "| 4 | 0.2840617 |\n",
       "\n"
      ],
      "text/plain": [
       "  model ref_score\n",
       "1 0     0.3055761\n",
       "2 1     0.3002717\n",
       "3 2     0.2761016\n",
       "4 3     0.2815376\n",
       "5 4     0.2840617"
      ]
     },
     "metadata": {},
     "output_type": "display_data"
    },
    {
     "data": {
      "text/html": [
       "'GBC F1 avg.: 0.289509729759355'"
      ],
      "text/latex": [
       "'GBC F1 avg.: 0.289509729759355'"
      ],
      "text/markdown": [
       "'GBC F1 avg.: 0.289509729759355'"
      ],
      "text/plain": [
       "[1] \"GBC F1 avg.: 0.289509729759355\""
      ]
     },
     "metadata": {},
     "output_type": "display_data"
    },
    {
     "data": {
      "text/html": [
       "'GBC F1 impr. over baseline: TRUE'"
      ],
      "text/latex": [
       "'GBC F1 impr. over baseline: TRUE'"
      ],
      "text/markdown": [
       "'GBC F1 impr. over baseline: TRUE'"
      ],
      "text/plain": [
       "[1] \"GBC F1 impr. over baseline: TRUE\""
      ]
     },
     "metadata": {},
     "output_type": "display_data"
    },
    {
     "data": {
      "text/html": [
       "'GBC F1 pct. impr. over baseline: 0.166996850894599'"
      ],
      "text/latex": [
       "'GBC F1 pct. impr. over baseline: 0.166996850894599'"
      ],
      "text/markdown": [
       "'GBC F1 pct. impr. over baseline: 0.166996850894599'"
      ],
      "text/plain": [
       "[1] \"GBC F1 pct. impr. over baseline: 0.166996850894599\""
      ]
     },
     "metadata": {},
     "output_type": "display_data"
    },
    {
     "data": {
      "text/html": [
       "'GBC F1 consensus genes: 3'"
      ],
      "text/latex": [
       "'GBC F1 consensus genes: 3'"
      ],
      "text/markdown": [
       "'GBC F1 consensus genes: 3'"
      ],
      "text/plain": [
       "[1] \"GBC F1 consensus genes: 3\""
      ]
     },
     "metadata": {},
     "output_type": "display_data"
    }
   ],
   "source": [
    "f1_gbc_scores_df <- read_tsv(paste0(dirs$analysis_dir, \"/\", unified_dsets[dset_idx], \"_gbc_ref_scores.tsv\"))\n",
    "f1_gbc_results_df <- read_tsv(paste0(dirs$analysis_dir, \"/\", unified_dsets[dset_idx], \"_gbc_results.tsv\"))\n",
    "f1_gbc_results_df <- get_consensus_col(f1_gbc_results_df, n = consensus_n, thresh = consensus_thresh)\n",
    "f1_gbc_scores_df\n",
    "\n",
    "f1_gbc_avg <- mean(f1_gbc_scores_df$ref_score)\n",
    "f1_gbc_imp <- f1_gbc_avg > f1_macro_MC_baseline\n",
    "f1_gbc_baseline_pct_imp <- (f1_gbc_avg - f1_macro_MC_baseline) / f1_macro_MC_baseline\n",
    "n_f1_gbc_consensus_genes <- nrow(f1_gbc_results_df %>% dplyr::filter(consensus == TRUE))\n",
    "\n",
    "paste0(\"GBC F1 avg.: \", f1_gbc_avg)\n",
    "paste0(\"GBC F1 impr. over baseline: \", f1_gbc_imp)\n",
    "paste0(\"GBC F1 pct. impr. over baseline: \", f1_gbc_baseline_pct_imp)\n",
    "paste0(\"GBC F1 consensus genes: \", n_f1_gbc_consensus_genes)"
   ]
  },
  {
   "cell_type": "markdown",
   "metadata": {},
   "source": [
    "## LR (L1)"
   ]
  },
  {
   "cell_type": "code",
   "execution_count": 98,
   "metadata": {},
   "outputs": [
    {
     "name": "stderr",
     "output_type": "stream",
     "text": [
      "Parsed with column specification:\n",
      "cols(\n",
      "  model = col_double(),\n",
      "  ref_score = col_double()\n",
      ")\n",
      "Parsed with column specification:\n",
      "cols(\n",
      "  geneID = col_character(),\n",
      "  mean_imp_0 = col_double(),\n",
      "  score_pct_improvement_0 = col_double(),\n",
      "  mean_imp_1 = col_double(),\n",
      "  score_pct_improvement_1 = col_double(),\n",
      "  mean_imp_2 = col_double(),\n",
      "  score_pct_improvement_2 = col_double(),\n",
      "  mean_imp_3 = col_double(),\n",
      "  score_pct_improvement_3 = col_double(),\n",
      "  mean_imp_4 = col_double(),\n",
      "  score_pct_improvement_4 = col_double()\n",
      ")\n"
     ]
    },
    {
     "data": {
      "text/html": [
       "<table>\n",
       "<caption>A spec_tbl_df: 5 × 2</caption>\n",
       "<thead>\n",
       "\t<tr><th scope=col>model</th><th scope=col>ref_score</th></tr>\n",
       "\t<tr><th scope=col>&lt;dbl&gt;</th><th scope=col>&lt;dbl&gt;</th></tr>\n",
       "</thead>\n",
       "<tbody>\n",
       "\t<tr><td>0</td><td>0.3366610</td></tr>\n",
       "\t<tr><td>1</td><td>0.3789767</td></tr>\n",
       "\t<tr><td>2</td><td>0.3565851</td></tr>\n",
       "\t<tr><td>3</td><td>0.3464781</td></tr>\n",
       "\t<tr><td>4</td><td>0.3514332</td></tr>\n",
       "</tbody>\n",
       "</table>\n"
      ],
      "text/latex": [
       "A spec\\_tbl\\_df: 5 × 2\n",
       "\\begin{tabular}{ll}\n",
       " model & ref\\_score\\\\\n",
       " <dbl> & <dbl>\\\\\n",
       "\\hline\n",
       "\t 0 & 0.3366610\\\\\n",
       "\t 1 & 0.3789767\\\\\n",
       "\t 2 & 0.3565851\\\\\n",
       "\t 3 & 0.3464781\\\\\n",
       "\t 4 & 0.3514332\\\\\n",
       "\\end{tabular}\n"
      ],
      "text/markdown": [
       "\n",
       "A spec_tbl_df: 5 × 2\n",
       "\n",
       "| model &lt;dbl&gt; | ref_score &lt;dbl&gt; |\n",
       "|---|---|\n",
       "| 0 | 0.3366610 |\n",
       "| 1 | 0.3789767 |\n",
       "| 2 | 0.3565851 |\n",
       "| 3 | 0.3464781 |\n",
       "| 4 | 0.3514332 |\n",
       "\n"
      ],
      "text/plain": [
       "  model ref_score\n",
       "1 0     0.3366610\n",
       "2 1     0.3789767\n",
       "3 2     0.3565851\n",
       "4 3     0.3464781\n",
       "5 4     0.3514332"
      ]
     },
     "metadata": {},
     "output_type": "display_data"
    },
    {
     "data": {
      "text/html": [
       "'LR L1 F1 avg.: 0.354026811258891'"
      ],
      "text/latex": [
       "'LR L1 F1 avg.: 0.354026811258891'"
      ],
      "text/markdown": [
       "'LR L1 F1 avg.: 0.354026811258891'"
      ],
      "text/plain": [
       "[1] \"LR L1 F1 avg.: 0.354026811258891\""
      ]
     },
     "metadata": {},
     "output_type": "display_data"
    },
    {
     "data": {
      "text/html": [
       "'LR L1 F1 impr. over baseline: TRUE'"
      ],
      "text/latex": [
       "'LR L1 F1 impr. over baseline: TRUE'"
      ],
      "text/markdown": [
       "'LR L1 F1 impr. over baseline: TRUE'"
      ],
      "text/plain": [
       "[1] \"LR L1 F1 impr. over baseline: TRUE\""
      ]
     },
     "metadata": {},
     "output_type": "display_data"
    },
    {
     "data": {
      "text/html": [
       "'LR L1 F1 pct. impr. over baseline: 0.427061447001443'"
      ],
      "text/latex": [
       "'LR L1 F1 pct. impr. over baseline: 0.427061447001443'"
      ],
      "text/markdown": [
       "'LR L1 F1 pct. impr. over baseline: 0.427061447001443'"
      ],
      "text/plain": [
       "[1] \"LR L1 F1 pct. impr. over baseline: 0.427061447001443\""
      ]
     },
     "metadata": {},
     "output_type": "display_data"
    },
    {
     "data": {
      "text/html": [
       "'LR L1 F1 consensus genes: 76'"
      ],
      "text/latex": [
       "'LR L1 F1 consensus genes: 76'"
      ],
      "text/markdown": [
       "'LR L1 F1 consensus genes: 76'"
      ],
      "text/plain": [
       "[1] \"LR L1 F1 consensus genes: 76\""
      ]
     },
     "metadata": {},
     "output_type": "display_data"
    }
   ],
   "source": [
    "f1_l1_lr_scores_df <- read_tsv(paste0(dirs$analysis_dir, \"/\", unified_dsets[dset_idx], \"_l1_lr_ref_scores.tsv\"))\n",
    "f1_l1_lr_results_df <- read_tsv(paste0(dirs$analysis_dir, \"/\", unified_dsets[dset_idx], \"_l1_lr_results.tsv\"))\n",
    "f1_l1_lr_results_df <- get_consensus_col(f1_l1_lr_results_df, n = consensus_n, thresh = consensus_thresh)\n",
    "f1_l1_lr_scores_df\n",
    "\n",
    "f1_l1_lr_avg <- mean(f1_l1_lr_scores_df$ref_score)\n",
    "f1_l1_lr_imp <- f1_l1_lr_avg > f1_macro_MC_baseline\n",
    "f1_l1_lr_pct_imp <- (f1_l1_lr_avg - f1_macro_MC_baseline) / f1_macro_MC_baseline\n",
    "n_f1_l1_lr_consensus_genes <- nrow(f1_l1_lr_results_df %>% dplyr::filter(consensus == TRUE))\n",
    "\n",
    "paste0(\"LR L1 F1 avg.: \", f1_l1_lr_avg)\n",
    "paste0(\"LR L1 F1 impr. over baseline: \", f1_l1_lr_imp)\n",
    "paste0(\"LR L1 F1 pct. impr. over baseline: \", f1_l1_lr_pct_imp)\n",
    "paste0(\"LR L1 F1 consensus genes: \", n_f1_l1_lr_consensus_genes)"
   ]
  },
  {
   "cell_type": "code",
   "execution_count": null,
   "metadata": {},
   "outputs": [],
   "source": []
  }
 ],
 "metadata": {
  "kernelspec": {
   "display_name": "R",
   "language": "R",
   "name": "ir"
  },
  "language_info": {
   "codemirror_mode": "r",
   "file_extension": ".r",
   "mimetype": "text/x-r-source",
   "name": "R",
   "pygments_lexer": "r",
   "version": "3.6.3"
  }
 },
 "nbformat": 4,
 "nbformat_minor": 4
}
