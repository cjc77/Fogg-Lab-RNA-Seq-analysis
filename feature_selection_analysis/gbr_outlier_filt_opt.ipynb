{
 "cells": [
  {
   "cell_type": "code",
   "execution_count": 1,
   "metadata": {},
   "outputs": [],
   "source": [
    "import pandas as pd\n",
    "import numpy as np\n",
    "import os\n",
    "from sklearn.ensemble import GradientBoostingRegressor\n",
    "from sklearn.pipeline import make_pipeline, Pipeline\n",
    "from sklearn.preprocessing import StandardScaler\n",
    "from sklearn.model_selection import cross_val_score, KFold\n",
    "from sklearn.compose import ColumnTransformer, TransformedTargetRegressor\n",
    "from sklearn.metrics import mean_squared_error, mean_absolute_error, r2_score, explained_variance_score\n",
    "from skopt.space import Real, Integer, Categorical\n",
    "from skopt import gp_minimize\n",
    "\n",
    "import utils.dev_config as dev_conf\n",
    "import utils.preprocessing as prep\n",
    "import utils.optimization as opt"
   ]
  },
  {
   "cell_type": "code",
   "execution_count": 2,
   "metadata": {},
   "outputs": [],
   "source": [
    "dirs = dev_conf.get_dev_directories(\"../dev_paths.txt\")\n",
    "unified_dsets = [\"unified_cervical_data\", \"unified_uterine_data\", \"unified_uterine_endometrial_data\"]\n",
    "matrisome_list = f\"{dirs.data_dir}/matrisome/matrisome_hs_masterlist.tsv\""
   ]
  },
  {
   "cell_type": "code",
   "execution_count": 3,
   "metadata": {},
   "outputs": [],
   "source": [
    "dset_idx = 0"
   ]
  },
  {
   "cell_type": "code",
   "execution_count": 4,
   "metadata": {},
   "outputs": [],
   "source": [
    "seed = 123\n",
    "rand = np.random.RandomState()"
   ]
  },
  {
   "cell_type": "markdown",
   "metadata": {},
   "source": [
    "# Load and filter survival data"
   ]
  },
  {
   "cell_type": "code",
   "execution_count": 5,
   "metadata": {},
   "outputs": [],
   "source": [
    "event_code = {\"Alive\": 0, \"Dead\": 1}\n",
    "covariate_cols = [\"figo_stage\", \"age_at_diagnosis\", \"race\", \"ethnicity\"]\n",
    "dep_cols = [\"vital_status\", \"survival_time\"]\n",
    "cat_cols = [\"race\", \"ethnicity\", \"figo_chr\"]\n",
    "survival_df = prep.load_survival_df(f\"{dirs.data_dir}/{unified_dsets[dset_idx]}/survival_data.tsv\", event_code)"
   ]
  },
  {
   "cell_type": "code",
   "execution_count": 6,
   "metadata": {},
   "outputs": [
    {
     "name": "stdout",
     "output_type": "stream",
     "text": [
      "(66, 16)\n"
     ]
    }
   ],
   "source": [
    "filtered_survival_df = (\n",
    "    prep.decode_figo_stage(survival_df[[\"sample_name\"] + dep_cols + covariate_cols].dropna(), to=\"c\")\n",
    "        .query(\"vital_status == 1\")\n",
    "        .drop([\"vital_status\"], axis=1)\n",
    "        .pipe(pd.get_dummies, columns=cat_cols)\n",
    "        .reset_index(drop = True)\n",
    ")\n",
    "filtered_survival_df.columns = filtered_survival_df.columns.str.replace(' ', '_')\n",
    "\n",
    "print(filtered_survival_df.shape)\n",
    "# filtered_survival_df.head()"
   ]
  },
  {
   "cell_type": "markdown",
   "metadata": {},
   "source": [
    "# Load normalized matrisome count data"
   ]
  },
  {
   "cell_type": "code",
   "execution_count": 7,
   "metadata": {},
   "outputs": [
    {
     "name": "stdout",
     "output_type": "stream",
     "text": [
      "(66, 1009)\n"
     ]
    }
   ],
   "source": [
    "norm_matrisome_counts_df = pd.read_csv(f\"{dirs.data_dir}/{unified_dsets[dset_idx]}/norm_matrisome_counts.tsv\", sep='\\t')\n",
    "norm_filtered_matrisome_counts_t_df = prep.transpose_df(\n",
    "    norm_matrisome_counts_df[[\"geneID\"] + list(filtered_survival_df.sample_name)], \"geneID\", \"sample_name\"\n",
    ")\n",
    "print(norm_filtered_matrisome_counts_t_df.shape)\n",
    "# norm_filtered_matrisome_counts_t_df.head()"
   ]
  },
  {
   "cell_type": "markdown",
   "metadata": {},
   "source": [
    "# Join survival and count data"
   ]
  },
  {
   "cell_type": "code",
   "execution_count": 8,
   "metadata": {},
   "outputs": [
    {
     "name": "stdout",
     "output_type": "stream",
     "text": [
      "(66, 1023)\n"
     ]
    }
   ],
   "source": [
    "joined_df = (\n",
    "    pd.merge(filtered_survival_df, norm_filtered_matrisome_counts_t_df, on=\"sample_name\")\n",
    "        .set_index(\"sample_name\")\n",
    ")\n",
    "print(joined_df.shape)"
   ]
  },
  {
   "cell_type": "code",
   "execution_count": 9,
   "metadata": {},
   "outputs": [],
   "source": [
    "filtered_joined_df = prep.filter_outliers_IQR(joined_df, \"survival_time\", coef=1.5)"
   ]
  },
  {
   "cell_type": "markdown",
   "metadata": {},
   "source": [
    "# Optimize model"
   ]
  },
  {
   "cell_type": "code",
   "execution_count": 10,
   "metadata": {},
   "outputs": [],
   "source": [
    "rand.seed(seed)\n",
    "x_df, y_df = prep.shuffle_data(filtered_joined_df, rand)"
   ]
  },
  {
   "cell_type": "markdown",
   "metadata": {},
   "source": [
    "## Get baselines"
   ]
  },
  {
   "cell_type": "code",
   "execution_count": 11,
   "metadata": {},
   "outputs": [
    {
     "name": "stdout",
     "output_type": "stream",
     "text": [
      "L2 baseline: 216346.93791991402\n",
      "L1 baseline: 353.1803278688525\n",
      "R2 baseline: 0.0\n",
      "explained variance baseline: 0.0\n"
     ]
    }
   ],
   "source": [
    "mean_baseline = mean_squared_error(y_df.values, np.repeat(np.mean(y_df.values.squeeze()), y_df.shape[0]))\n",
    "median_baseline = mean_absolute_error(y_df.values, np.repeat(np.median(y_df.values.squeeze()), y_df.shape[0]))\n",
    "r2_baseline = r2_score(y_df.values, np.repeat(np.mean(y_df.values.squeeze()), y_df.shape[0]))\n",
    "expl_var_baseline = explained_variance_score(y_df.values, np.repeat(np.mean(y_df.values.squeeze()), y_df.shape[0]))\n",
    "\n",
    "print(f\"L2 baseline: {mean_baseline}\")\n",
    "print(f\"L1 baseline: {median_baseline}\")\n",
    "print(f\"R2 baseline: {r2_baseline}\")\n",
    "print(f\"explained variance baseline: {expl_var_baseline}\")"
   ]
  },
  {
   "cell_type": "code",
   "execution_count": 12,
   "metadata": {},
   "outputs": [],
   "source": [
    "def objective(h_params, X, y, loss_default, scoring_default, r, verbose=True):\n",
    "    if verbose:\n",
    "        print(h_params)\n",
    "    model = GradientBoostingRegressor(\n",
    "        # We use lad since it most closely matches up with hyper-parameter objective\n",
    "        loss=loss_default,\n",
    "        learning_rate=h_params[0],\n",
    "        n_estimators=h_params[1],\n",
    "        max_depth=h_params[2],\n",
    "        max_features=h_params[3],\n",
    "        min_samples_split=h_params[4],\n",
    "        min_samples_leaf=h_params[5],\n",
    "        random_state=r\n",
    "    )\n",
    "    return -np.mean(cross_val_score(\n",
    "        model,\n",
    "        X,\n",
    "        y,\n",
    "        cv=KFold(n_splits=5),\n",
    "        n_jobs=-1,\n",
    "        scoring=scoring_default\n",
    "    ))"
   ]
  },
  {
   "cell_type": "code",
   "execution_count": 13,
   "metadata": {},
   "outputs": [],
   "source": [
    "space = [\n",
    "    Real(1e-3, 1e-1, name=\"learning_rate\"),\n",
    "    Integer(int(1e2), int(1e3), name=\"n_estimators\"),\n",
    "    Integer(2, 5, name=\"max_depth\"),\n",
    "    Categorical([\"auto\", \"sqrt\", \"log2\"], name=\"max_features\"),\n",
    "    Integer(int(2), int(6), name=\"min_samples_split\"),\n",
    "    Integer(int(1), int(3), name=\"min_samples_leaf\")\n",
    "]\n",
    "n_initial = 10 * (len(space))\n",
    "n_calls = 50 * (len(space))"
   ]
  },
  {
   "cell_type": "code",
   "execution_count": 14,
   "metadata": {
    "collapsed": true,
    "jupyter": {
     "outputs_hidden": true
    }
   },
   "outputs": [
    {
     "name": "stdout",
     "output_type": "stream",
     "text": [
      "Iteration No: 1 started. Evaluating function at random point.\n",
      "[0.06277134222741902, 204, 3, 'log2', 5, 2]\n",
      "Iteration No: 1 ended. Evaluation done at random point.\n",
      "Time taken: 0.8045\n",
      "Function value obtained: -0.1724\n",
      "Current minimum: -0.1724\n",
      "Iteration No: 2 started. Evaluating function at random point.\n",
      "[0.048820392162007745, 987, 4, 'log2', 2, 3]\n",
      "Iteration No: 2 ended. Evaluation done at random point.\n",
      "Time taken: 0.8086\n",
      "Function value obtained: -0.1951\n",
      "Current minimum: -0.1951\n",
      "Iteration No: 3 started. Evaluating function at random point.\n",
      "[0.06070295271268183, 591, 3, 'log2', 4, 2]\n",
      "Iteration No: 3 ended. Evaluation done at random point.\n",
      "Time taken: 0.6172\n",
      "Function value obtained: -0.1702\n",
      "Current minimum: -0.1951\n",
      "Iteration No: 4 started. Evaluating function at random point.\n",
      "[0.08767022733772234, 559, 4, 'log2', 4, 2]\n",
      "Iteration No: 4 ended. Evaluation done at random point.\n",
      "Time taken: 0.5651\n",
      "Function value obtained: -0.1920\n",
      "Current minimum: -0.1951\n",
      "Iteration No: 5 started. Evaluating function at random point.\n",
      "[0.0843919013244055, 175, 4, 'auto', 3, 2]\n",
      "Iteration No: 5 ended. Evaluation done at random point.\n",
      "Time taken: 1.4959\n",
      "Function value obtained: 0.0272\n",
      "Current minimum: -0.1951\n",
      "Iteration No: 6 started. Evaluating function at random point.\n",
      "[0.010475539144626327, 897, 4, 'log2', 2, 2]\n",
      "Iteration No: 6 ended. Evaluation done at random point.\n",
      "Time taken: 0.3303\n",
      "Function value obtained: -0.1523\n",
      "Current minimum: -0.1951\n",
      "Iteration No: 7 started. Evaluating function at random point.\n",
      "[0.0561217340470346, 243, 2, 'log2', 3, 2]\n",
      "Iteration No: 7 ended. Evaluation done at random point.\n",
      "Time taken: 0.1005\n",
      "Function value obtained: -0.0799\n",
      "Current minimum: -0.1951\n",
      "Iteration No: 8 started. Evaluating function at random point.\n",
      "[0.05588394172205945, 450, 5, 'sqrt', 3, 1]\n",
      "Iteration No: 8 ended. Evaluation done at random point.\n",
      "Time taken: 0.3583\n",
      "Function value obtained: -0.1157\n",
      "Current minimum: -0.1951\n",
      "Iteration No: 9 started. Evaluating function at random point.\n",
      "[0.031172039267698657, 458, 4, 'sqrt', 3, 3]\n",
      "Iteration No: 9 ended. Evaluation done at random point.\n",
      "Time taken: 0.3180\n",
      "Function value obtained: -0.1126\n",
      "Current minimum: -0.1951\n",
      "Iteration No: 10 started. Evaluating function at random point.\n",
      "[0.05972451473965991, 723, 2, 'log2', 3, 2]\n",
      "Iteration No: 10 ended. Evaluation done at random point.\n",
      "Time taken: 0.2204\n",
      "Function value obtained: -0.1468\n",
      "Current minimum: -0.1951\n",
      "Iteration No: 11 started. Evaluating function at random point.\n",
      "[0.05179968726570123, 700, 2, 'auto', 3, 2]\n",
      "Iteration No: 11 ended. Evaluation done at random point.\n",
      "Time taken: 3.3830\n",
      "Function value obtained: -0.2460\n",
      "Current minimum: -0.2460\n",
      "Iteration No: 12 started. Evaluating function at random point.\n",
      "[0.08480411630180151, 598, 5, 'log2', 3, 2]\n",
      "Iteration No: 12 ended. Evaluation done at random point.\n",
      "Time taken: 0.1996\n",
      "Function value obtained: -0.2422\n",
      "Current minimum: -0.2460\n",
      "Iteration No: 13 started. Evaluating function at random point.\n",
      "[0.01793710109130481, 846, 3, 'log2', 4, 2]\n",
      "Iteration No: 13 ended. Evaluation done at random point.\n",
      "Time taken: 0.2697\n",
      "Function value obtained: -0.2038\n",
      "Current minimum: -0.2460\n",
      "Iteration No: 14 started. Evaluating function at random point.\n",
      "[0.0012661183928577486, 990, 5, 'auto', 3, 2]\n",
      "Iteration No: 14 ended. Evaluation done at random point.\n",
      "Time taken: 9.1322\n",
      "Function value obtained: 0.1004\n",
      "Current minimum: -0.2460\n",
      "Iteration No: 15 started. Evaluating function at random point.\n",
      "[0.09028922589340642, 985, 3, 'log2', 5, 2]\n",
      "Iteration No: 15 ended. Evaluation done at random point.\n",
      "Time taken: 0.3044\n",
      "Function value obtained: -0.0966\n",
      "Current minimum: -0.2460\n",
      "Iteration No: 16 started. Evaluating function at random point.\n",
      "[0.07337623054861117, 245, 4, 'sqrt', 6, 1]\n",
      "Iteration No: 16 ended. Evaluation done at random point.\n",
      "Time taken: 0.1470\n",
      "Function value obtained: -0.1876\n",
      "Current minimum: -0.2460\n",
      "Iteration No: 17 started. Evaluating function at random point.\n",
      "[0.04340638019539399, 284, 3, 'log2', 2, 2]\n",
      "Iteration No: 17 ended. Evaluation done at random point.\n",
      "Time taken: 0.1374\n",
      "Function value obtained: -0.2261\n",
      "Current minimum: -0.2460\n",
      "Iteration No: 18 started. Evaluating function at random point.\n",
      "[0.09283083977506262, 612, 3, 'sqrt', 5, 1]\n",
      "Iteration No: 18 ended. Evaluation done at random point.\n",
      "Time taken: 0.3350\n",
      "Function value obtained: -0.1419\n",
      "Current minimum: -0.2460\n",
      "Iteration No: 19 started. Evaluating function at random point.\n",
      "[0.07116104214883187, 855, 2, 'sqrt', 3, 2]\n",
      "Iteration No: 19 ended. Evaluation done at random point.\n",
      "Time taken: 0.3528\n",
      "Function value obtained: -0.2840\n",
      "Current minimum: -0.2840\n",
      "Iteration No: 20 started. Evaluating function at random point.\n",
      "[0.06686088506961863, 200, 4, 'sqrt', 5, 2]\n",
      "Iteration No: 20 ended. Evaluation done at random point.\n",
      "Time taken: 0.1653\n",
      "Function value obtained: -0.1348\n",
      "Current minimum: -0.2840\n",
      "Iteration No: 21 started. Evaluating function at random point.\n",
      "[0.04438322405334526, 789, 4, 'auto', 4, 3]\n",
      "Iteration No: 21 ended. Evaluation done at random point.\n",
      "Time taken: 6.6517\n",
      "Function value obtained: -0.0554\n",
      "Current minimum: -0.2840\n",
      "Iteration No: 22 started. Evaluating function at random point.\n",
      "[0.0343695719613134, 935, 4, 'log2', 5, 1]\n",
      "Iteration No: 22 ended. Evaluation done at random point.\n",
      "Time taken: 0.3188\n",
      "Function value obtained: -0.1561\n",
      "Current minimum: -0.2840\n",
      "Iteration No: 23 started. Evaluating function at random point.\n",
      "[0.08607951849238056, 839, 5, 'auto', 2, 1]\n",
      "Iteration No: 23 ended. Evaluation done at random point.\n",
      "Time taken: 8.3408\n",
      "Function value obtained: 0.3156\n",
      "Current minimum: -0.2840\n",
      "Iteration No: 24 started. Evaluating function at random point.\n",
      "[0.040538492300177226, 482, 4, 'auto', 3, 3]\n",
      "Iteration No: 24 ended. Evaluation done at random point.\n",
      "Time taken: 3.9794\n",
      "Function value obtained: -0.0474\n",
      "Current minimum: -0.2840\n",
      "Iteration No: 25 started. Evaluating function at random point.\n",
      "[0.04733076983161821, 827, 2, 'log2', 6, 2]\n",
      "Iteration No: 25 ended. Evaluation done at random point.\n",
      "Time taken: 0.2198\n",
      "Function value obtained: -0.2480\n",
      "Current minimum: -0.2840\n",
      "Iteration No: 26 started. Evaluating function at random point.\n",
      "[0.02140347701708215, 746, 3, 'log2', 2, 2]\n",
      "Iteration No: 26 ended. Evaluation done at random point.\n",
      "Time taken: 0.2274\n",
      "Function value obtained: -0.1903\n",
      "Current minimum: -0.2840\n",
      "Iteration No: 27 started. Evaluating function at random point.\n",
      "[0.004187595558854477, 770, 3, 'auto', 4, 1]\n",
      "Iteration No: 27 ended. Evaluation done at random point.\n",
      "Time taken: 5.2950\n",
      "Function value obtained: -0.0756\n",
      "Current minimum: -0.2840\n",
      "Iteration No: 28 started. Evaluating function at random point.\n",
      "[0.06568312226395104, 996, 4, 'log2', 2, 2]\n",
      "Iteration No: 28 ended. Evaluation done at random point.\n",
      "Time taken: 0.3114\n",
      "Function value obtained: -0.0941\n",
      "Current minimum: -0.2840\n",
      "Iteration No: 29 started. Evaluating function at random point.\n",
      "[0.0664556188654652, 144, 4, 'log2', 4, 3]\n",
      "Iteration No: 29 ended. Evaluation done at random point.\n",
      "Time taken: 0.0900\n",
      "Function value obtained: -0.1739\n",
      "Current minimum: -0.2840\n",
      "Iteration No: 30 started. Evaluating function at random point.\n",
      "[0.041745353097674895, 533, 3, 'log2', 5, 1]\n",
      "Iteration No: 30 ended. Evaluation done at random point.\n",
      "Time taken: 0.1908\n",
      "Function value obtained: -0.1566\n",
      "Current minimum: -0.2840\n",
      "Iteration No: 31 started. Evaluating function at random point.\n",
      "[0.04231181502943108, 990, 3, 'sqrt', 6, 1]\n",
      "Iteration No: 31 ended. Evaluation done at random point.\n",
      "Time taken: 0.4606\n",
      "Function value obtained: -0.1250\n",
      "Current minimum: -0.2840\n",
      "Iteration No: 32 started. Evaluating function at random point.\n",
      "[0.0469016197636661, 552, 3, 'auto', 3, 1]\n",
      "Iteration No: 32 ended. Evaluation done at random point.\n",
      "Time taken: 3.7544\n",
      "Function value obtained: -0.0404\n",
      "Current minimum: -0.2840\n",
      "Iteration No: 33 started. Evaluating function at random point.\n",
      "[0.024586740665528774, 827, 5, 'auto', 3, 3]\n",
      "Iteration No: 33 ended. Evaluation done at random point.\n",
      "Time taken: 7.9921\n",
      "Function value obtained: -0.0905\n",
      "Current minimum: -0.2840\n",
      "Iteration No: 34 started. Evaluating function at random point.\n",
      "[0.054410977432819814, 664, 2, 'log2', 6, 2]\n",
      "Iteration No: 34 ended. Evaluation done at random point.\n",
      "Time taken: 0.1776\n",
      "Function value obtained: -0.1325\n",
      "Current minimum: -0.2840\n",
      "Iteration No: 35 started. Evaluating function at random point.\n",
      "[0.010606777705247265, 516, 5, 'log2', 5, 3]\n",
      "Iteration No: 35 ended. Evaluation done at random point.\n",
      "Time taken: 0.2270\n",
      "Function value obtained: -0.1279\n",
      "Current minimum: -0.2840\n",
      "Iteration No: 36 started. Evaluating function at random point.\n",
      "[0.021616581377154734, 499, 4, 'log2', 3, 3]\n",
      "Iteration No: 36 ended. Evaluation done at random point.\n",
      "Time taken: 0.1603\n",
      "Function value obtained: -0.1538\n",
      "Current minimum: -0.2840\n",
      "Iteration No: 37 started. Evaluating function at random point.\n",
      "[0.06542428628115306, 879, 2, 'log2', 4, 1]\n",
      "Iteration No: 37 ended. Evaluation done at random point.\n",
      "Time taken: 0.2305\n",
      "Function value obtained: -0.1329\n",
      "Current minimum: -0.2840\n",
      "Iteration No: 38 started. Evaluating function at random point.\n",
      "[0.09931029284838441, 313, 3, 'auto', 2, 1]\n",
      "Iteration No: 38 ended. Evaluation done at random point.\n",
      "Time taken: 2.1808\n",
      "Function value obtained: -0.0592\n",
      "Current minimum: -0.2840\n",
      "Iteration No: 39 started. Evaluating function at random point.\n",
      "[0.030760403414817273, 671, 3, 'log2', 2, 2]\n",
      "Iteration No: 39 ended. Evaluation done at random point.\n",
      "Time taken: 0.1916\n",
      "Function value obtained: -0.1644\n",
      "Current minimum: -0.2840\n",
      "Iteration No: 40 started. Evaluating function at random point.\n",
      "[0.053854712188131176, 246, 4, 'log2', 5, 1]\n",
      "Iteration No: 40 ended. Evaluation done at random point.\n",
      "Time taken: 0.1469\n",
      "Function value obtained: -0.1652\n",
      "Current minimum: -0.2840\n",
      "Iteration No: 41 started. Evaluating function at random point.\n",
      "[0.08887175258630974, 115, 2, 'sqrt', 2, 2]\n",
      "Iteration No: 41 ended. Evaluation done at random point.\n",
      "Time taken: 0.0913\n",
      "Function value obtained: -0.1339\n",
      "Current minimum: -0.2840\n",
      "Iteration No: 42 started. Evaluating function at random point.\n",
      "[0.09713356791050279, 885, 4, 'sqrt', 4, 3]\n",
      "Iteration No: 42 ended. Evaluation done at random point.\n",
      "Time taken: 0.4526\n",
      "Function value obtained: -0.0867\n",
      "Current minimum: -0.2840\n",
      "Iteration No: 43 started. Evaluating function at random point.\n",
      "[0.03623980912938785, 937, 2, 'sqrt', 5, 3]\n",
      "Iteration No: 43 ended. Evaluation done at random point.\n",
      "Time taken: 0.3597\n",
      "Function value obtained: -0.2455\n",
      "Current minimum: -0.2840\n",
      "Iteration No: 44 started. Evaluating function at random point.\n",
      "[0.013268377982470492, 637, 2, 'log2', 2, 1]\n",
      "Iteration No: 44 ended. Evaluation done at random point.\n",
      "Time taken: 0.2010\n",
      "Function value obtained: -0.1918\n",
      "Current minimum: -0.2840\n",
      "Iteration No: 45 started. Evaluating function at random point.\n",
      "[0.023324342634552346, 888, 3, 'log2', 4, 1]\n",
      "Iteration No: 45 ended. Evaluation done at random point.\n",
      "Time taken: 0.3103\n",
      "Function value obtained: -0.1788\n",
      "Current minimum: -0.2840\n",
      "Iteration No: 46 started. Evaluating function at random point.\n",
      "[0.05764253003046167, 695, 3, 'log2', 4, 3]\n",
      "Iteration No: 46 ended. Evaluation done at random point.\n",
      "Time taken: 0.2681\n",
      "Function value obtained: -0.1799\n",
      "Current minimum: -0.2840\n",
      "Iteration No: 47 started. Evaluating function at random point.\n",
      "[0.059161881000470755, 953, 4, 'log2', 2, 2]\n",
      "Iteration No: 47 ended. Evaluation done at random point.\n",
      "Time taken: 0.2977\n",
      "Function value obtained: -0.1894\n",
      "Current minimum: -0.2840\n",
      "Iteration No: 48 started. Evaluating function at random point.\n",
      "[0.09281804485770255, 279, 2, 'log2', 3, 3]\n",
      "Iteration No: 48 ended. Evaluation done at random point.\n",
      "Time taken: 0.0992\n",
      "Function value obtained: -0.2470\n",
      "Current minimum: -0.2840\n",
      "Iteration No: 49 started. Evaluating function at random point.\n",
      "[0.0036345004404359955, 928, 4, 'sqrt', 4, 3]\n",
      "Iteration No: 49 ended. Evaluation done at random point.\n",
      "Time taken: 0.4300\n",
      "Function value obtained: -0.1878\n",
      "Current minimum: -0.2840\n",
      "Iteration No: 50 started. Evaluating function at random point.\n",
      "[0.03421884348038934, 415, 3, 'sqrt', 3, 1]\n",
      "Iteration No: 50 ended. Evaluation done at random point.\n",
      "Time taken: 0.2224\n",
      "Function value obtained: -0.1761\n",
      "Current minimum: -0.2840\n",
      "Iteration No: 51 started. Evaluating function at random point.\n",
      "[0.09382916732226901, 917, 3, 'log2', 3, 1]\n",
      "Iteration No: 51 ended. Evaluation done at random point.\n",
      "Time taken: 0.3124\n",
      "Function value obtained: -0.1541\n",
      "Current minimum: -0.2840\n",
      "Iteration No: 52 started. Evaluating function at random point.\n",
      "[0.034297613370682656, 394, 5, 'sqrt', 5, 3]\n",
      "Iteration No: 52 ended. Evaluation done at random point.\n",
      "Time taken: 0.2912\n",
      "Function value obtained: -0.1608\n",
      "Current minimum: -0.2840\n",
      "Iteration No: 53 started. Evaluating function at random point.\n",
      "[0.04283179195769777, 321, 2, 'log2', 3, 1]\n",
      "Iteration No: 53 ended. Evaluation done at random point.\n",
      "Time taken: 0.1083\n",
      "Function value obtained: -0.1537\n",
      "Current minimum: -0.2840\n",
      "Iteration No: 54 started. Evaluating function at random point.\n",
      "[0.060690287473985416, 428, 4, 'auto', 5, 1]\n",
      "Iteration No: 54 ended. Evaluation done at random point.\n",
      "Time taken: 3.5621\n",
      "Function value obtained: 0.1980\n",
      "Current minimum: -0.2840\n",
      "Iteration No: 55 started. Evaluating function at random point.\n",
      "[0.02852433578065958, 768, 4, 'log2', 4, 2]\n",
      "Iteration No: 55 ended. Evaluation done at random point.\n",
      "Time taken: 0.2923\n",
      "Function value obtained: -0.1973\n",
      "Current minimum: -0.2840\n",
      "Iteration No: 56 started. Evaluating function at random point.\n",
      "[0.0913010800262853, 623, 3, 'log2', 5, 1]\n",
      "Iteration No: 56 ended. Evaluation done at random point.\n",
      "Time taken: 0.2090\n",
      "Function value obtained: -0.0407\n",
      "Current minimum: -0.2840\n",
      "Iteration No: 57 started. Evaluating function at random point.\n",
      "[0.08223684774811074, 518, 4, 'auto', 3, 3]\n",
      "Iteration No: 57 ended. Evaluation done at random point.\n",
      "Time taken: 4.2009\n",
      "Function value obtained: -0.0742\n",
      "Current minimum: -0.2840\n",
      "Iteration No: 58 started. Evaluating function at random point.\n",
      "[0.0661236922418307, 796, 4, 'auto', 4, 3]\n",
      "Iteration No: 58 ended. Evaluation done at random point.\n",
      "Time taken: 6.6245\n",
      "Function value obtained: -0.1227\n",
      "Current minimum: -0.2840\n",
      "Iteration No: 59 started. Evaluating function at random point.\n",
      "[0.06782847756402782, 105, 2, 'log2', 6, 2]\n",
      "Iteration No: 59 ended. Evaluation done at random point.\n",
      "Time taken: 0.0587\n",
      "Function value obtained: -0.1823\n",
      "Current minimum: -0.2840\n",
      "Iteration No: 60 started. Evaluating function at random point.\n",
      "[0.027747450475603046, 424, 3, 'log2', 3, 3]\n",
      "Iteration No: 60 ended. Evaluation done at random point.\n",
      "Time taken: 1.2160\n",
      "Function value obtained: -0.2190\n",
      "Current minimum: -0.2840\n",
      "Iteration No: 61 started. Searching for the next optimal point.\n",
      "[0.001, 216, 2, 'auto', 3, 3]\n",
      "Iteration No: 61 ended. Search finished for the next optimal point.\n",
      "Time taken: 2.2317\n",
      "Function value obtained: -0.0065\n",
      "Current minimum: -0.2840\n",
      "Iteration No: 62 started. Searching for the next optimal point.\n",
      "[0.001, 1000, 2, 'sqrt', 5, 3]\n",
      "Iteration No: 62 ended. Search finished for the next optimal point.\n",
      "Time taken: 1.6066\n",
      "Function value obtained: -0.1249\n",
      "Current minimum: -0.2840\n",
      "Iteration No: 63 started. Searching for the next optimal point.\n",
      "[0.001, 100, 2, 'log2', 6, 3]\n",
      "Iteration No: 63 ended. Search finished for the next optimal point.\n",
      "Time taken: 0.9106\n",
      "Function value obtained: -0.0137\n",
      "Current minimum: -0.2840\n",
      "Iteration No: 64 started. Searching for the next optimal point.\n",
      "[0.1, 1000, 2, 'auto', 3, 2]\n",
      "Iteration No: 64 ended. Search finished for the next optimal point.\n",
      "Time taken: 5.9183\n",
      "Function value obtained: -0.2192\n",
      "Current minimum: -0.2840\n",
      "Iteration No: 65 started. Searching for the next optimal point.\n",
      "[0.1, 100, 5, 'log2', 2, 3]\n",
      "Iteration No: 65 ended. Search finished for the next optimal point.\n",
      "Time taken: 1.0961\n",
      "Function value obtained: -0.1103\n",
      "Current minimum: -0.2840\n",
      "Iteration No: 66 started. Searching for the next optimal point.\n",
      "[0.001, 100, 5, 'log2', 2, 1]\n",
      "Iteration No: 66 ended. Search finished for the next optimal point.\n",
      "Time taken: 1.2038\n",
      "Function value obtained: -0.0253\n",
      "Current minimum: -0.2840\n",
      "Iteration No: 67 started. Searching for the next optimal point.\n",
      "[0.1, 663, 2, 'sqrt', 6, 3]\n",
      "Iteration No: 67 ended. Search finished for the next optimal point.\n",
      "Time taken: 1.4709\n",
      "Function value obtained: -0.2538\n",
      "Current minimum: -0.2840\n",
      "Iteration No: 68 started. Searching for the next optimal point.\n",
      "[0.1, 1000, 2, 'sqrt', 6, 3]\n",
      "Iteration No: 68 ended. Search finished for the next optimal point.\n",
      "Time taken: 1.3849\n",
      "Function value obtained: -0.2193\n",
      "Current minimum: -0.2840\n",
      "Iteration No: 69 started. Searching for the next optimal point.\n",
      "[0.1, 996, 2, 'auto', 3, 3]\n",
      "Iteration No: 69 ended. Search finished for the next optimal point.\n",
      "Time taken: 5.8620\n",
      "Function value obtained: -0.2560\n",
      "Current minimum: -0.2840\n",
      "Iteration No: 70 started. Searching for the next optimal point.\n",
      "[0.1, 634, 2, 'auto', 6, 3]\n",
      "Iteration No: 70 ended. Search finished for the next optimal point.\n",
      "Time taken: 4.0727\n",
      "Function value obtained: -0.2827\n",
      "Current minimum: -0.2840\n",
      "Iteration No: 71 started. Searching for the next optimal point.\n",
      "[0.1, 751, 2, 'auto', 5, 3]\n",
      "Iteration No: 71 ended. Search finished for the next optimal point.\n",
      "Time taken: 4.4520\n",
      "Function value obtained: -0.2482\n",
      "Current minimum: -0.2840\n",
      "Iteration No: 72 started. Searching for the next optimal point.\n",
      "[0.001, 923, 2, 'sqrt', 6, 1]\n",
      "Iteration No: 72 ended. Search finished for the next optimal point.\n",
      "Time taken: 1.2766\n",
      "Function value obtained: -0.1171\n",
      "Current minimum: -0.2840\n",
      "Iteration No: 73 started. Searching for the next optimal point.\n",
      "[0.1, 331, 2, 'auto', 3, 3]\n",
      "Iteration No: 73 ended. Search finished for the next optimal point.\n",
      "Time taken: 2.5812\n",
      "Function value obtained: -0.2502\n",
      "Current minimum: -0.2840\n",
      "Iteration No: 74 started. Searching for the next optimal point.\n",
      "[0.06566242769422885, 1000, 2, 'sqrt', 6, 3]\n",
      "Iteration No: 74 ended. Search finished for the next optimal point.\n",
      "Time taken: 1.3890\n",
      "Function value obtained: -0.2238\n",
      "Current minimum: -0.2840\n",
      "Iteration No: 75 started. Searching for the next optimal point.\n",
      "[0.1, 100, 2, 'auto', 6, 2]\n",
      "Iteration No: 75 ended. Search finished for the next optimal point.\n",
      "Time taken: 1.4949\n",
      "Function value obtained: -0.2731\n",
      "Current minimum: -0.2840\n",
      "Iteration No: 76 started. Searching for the next optimal point.\n",
      "[0.1, 100, 2, 'auto', 6, 2]\n"
     ]
    },
    {
     "name": "stderr",
     "output_type": "stream",
     "text": [
      "/home/carcook/anaconda3/envs/TCGA-round1/lib/python3.8/site-packages/skopt/optimizer/optimizer.py:449: UserWarning: The objective has been evaluated at this point before.\n",
      "  warnings.warn(\"The objective has been evaluated \"\n"
     ]
    },
    {
     "name": "stdout",
     "output_type": "stream",
     "text": [
      "Iteration No: 76 ended. Search finished for the next optimal point.\n",
      "Time taken: 1.4588\n",
      "Function value obtained: -0.2622\n",
      "Current minimum: -0.2840\n",
      "Iteration No: 77 started. Searching for the next optimal point.\n",
      "[0.1, 500, 2, 'auto', 6, 1]\n",
      "Iteration No: 77 ended. Search finished for the next optimal point.\n",
      "Time taken: 3.4344\n",
      "Function value obtained: -0.2713\n",
      "Current minimum: -0.2840\n",
      "Iteration No: 78 started. Searching for the next optimal point.\n",
      "[0.068170997375156, 100, 2, 'auto', 6, 1]\n",
      "Iteration No: 78 ended. Search finished for the next optimal point.\n",
      "Time taken: 1.5040\n",
      "Function value obtained: -0.2577\n",
      "Current minimum: -0.2840\n",
      "Iteration No: 79 started. Searching for the next optimal point.\n",
      "[0.1, 1000, 2, 'auto', 6, 1]\n",
      "Iteration No: 79 ended. Search finished for the next optimal point.\n",
      "Time taken: 5.7702\n",
      "Function value obtained: -0.2737\n",
      "Current minimum: -0.2840\n",
      "Iteration No: 80 started. Searching for the next optimal point.\n",
      "[0.041433669501713136, 859, 2, 'auto', 6, 1]\n",
      "Iteration No: 80 ended. Search finished for the next optimal point.\n",
      "Time taken: 5.1667\n",
      "Function value obtained: -0.2554\n",
      "Current minimum: -0.2840\n",
      "Iteration No: 81 started. Searching for the next optimal point.\n",
      "[0.1, 100, 2, 'auto', 2, 1]\n",
      "Iteration No: 81 ended. Search finished for the next optimal point.\n",
      "Time taken: 1.5104\n",
      "Function value obtained: -0.2688\n",
      "Current minimum: -0.2840\n",
      "Iteration No: 82 started. Searching for the next optimal point.\n",
      "[0.07030156485679319, 1000, 2, 'auto', 2, 1]\n",
      "Iteration No: 82 ended. Search finished for the next optimal point.\n",
      "Time taken: 5.6872\n",
      "Function value obtained: -0.2135\n",
      "Current minimum: -0.2840\n",
      "Iteration No: 83 started. Searching for the next optimal point.\n",
      "[0.001, 201, 2, 'auto', 6, 1]\n",
      "Iteration No: 83 ended. Search finished for the next optimal point.\n",
      "Time taken: 2.0869\n",
      "Function value obtained: -0.0048\n",
      "Current minimum: -0.2840\n",
      "Iteration No: 84 started. Searching for the next optimal point.\n",
      "[0.1, 316, 2, 'auto', 6, 3]\n",
      "Iteration No: 84 ended. Search finished for the next optimal point.\n",
      "Time taken: 2.8272\n",
      "Function value obtained: -0.2669\n",
      "Current minimum: -0.2840\n",
      "Iteration No: 85 started. Searching for the next optimal point.\n",
      "[0.1, 394, 2, 'auto', 5, 3]\n",
      "Iteration No: 85 ended. Search finished for the next optimal point.\n",
      "Time taken: 3.1469\n",
      "Function value obtained: -0.2742\n",
      "Current minimum: -0.2840\n",
      "Iteration No: 86 started. Searching for the next optimal point.\n",
      "[0.1, 393, 2, 'auto', 6, 3]\n",
      "Iteration No: 86 ended. Search finished for the next optimal point.\n",
      "Time taken: 3.0545\n",
      "Function value obtained: -0.2830\n",
      "Current minimum: -0.2840\n",
      "Iteration No: 87 started. Searching for the next optimal point.\n",
      "[0.1, 100, 2, 'auto', 6, 3]\n",
      "Iteration No: 87 ended. Search finished for the next optimal point.\n",
      "Time taken: 1.5158\n",
      "Function value obtained: -0.2541\n",
      "Current minimum: -0.2840\n",
      "Iteration No: 88 started. Searching for the next optimal point.\n",
      "[0.1, 432, 2, 'auto', 5, 3]\n",
      "Iteration No: 88 ended. Search finished for the next optimal point.\n",
      "Time taken: 3.1158\n",
      "Function value obtained: -0.2604\n",
      "Current minimum: -0.2840\n",
      "Iteration No: 89 started. Searching for the next optimal point.\n",
      "[0.1, 380, 2, 'auto', 6, 3]\n",
      "Iteration No: 89 ended. Search finished for the next optimal point.\n",
      "Time taken: 3.8905\n",
      "Function value obtained: -0.2497\n",
      "Current minimum: -0.2840\n",
      "Iteration No: 90 started. Searching for the next optimal point.\n",
      "[0.1, 317, 2, 'auto', 5, 3]\n",
      "Iteration No: 90 ended. Search finished for the next optimal point.\n",
      "Time taken: 3.9975\n",
      "Function value obtained: -0.2789\n",
      "Current minimum: -0.2840\n",
      "Iteration No: 91 started. Searching for the next optimal point.\n",
      "[0.1, 100, 2, 'auto', 4, 3]\n",
      "Iteration No: 91 ended. Search finished for the next optimal point.\n",
      "Time taken: 2.2835\n",
      "Function value obtained: -0.2814\n",
      "Current minimum: -0.2840\n",
      "Iteration No: 92 started. Searching for the next optimal point.\n",
      "[0.1, 153, 2, 'auto', 5, 3]\n",
      "Iteration No: 92 ended. Search finished for the next optimal point.\n",
      "Time taken: 3.1220\n",
      "Function value obtained: -0.2651\n",
      "Current minimum: -0.2840\n",
      "Iteration No: 93 started. Searching for the next optimal point.\n",
      "[0.1, 286, 2, 'auto', 2, 3]\n",
      "Iteration No: 93 ended. Search finished for the next optimal point.\n",
      "Time taken: 5.0457\n",
      "Function value obtained: -0.2731\n",
      "Current minimum: -0.2840\n",
      "Iteration No: 94 started. Searching for the next optimal point.\n",
      "[0.1, 282, 2, 'auto', 6, 3]\n",
      "Iteration No: 94 ended. Search finished for the next optimal point.\n",
      "Time taken: 3.7460\n",
      "Function value obtained: -0.2688\n",
      "Current minimum: -0.2840\n",
      "Iteration No: 95 started. Searching for the next optimal point.\n",
      "[0.1, 100, 2, 'auto', 5, 3]\n",
      "Iteration No: 95 ended. Search finished for the next optimal point.\n",
      "Time taken: 4.4238\n",
      "Function value obtained: -0.2631\n",
      "Current minimum: -0.2840\n",
      "Iteration No: 96 started. Searching for the next optimal point.\n",
      "[0.1, 406, 2, 'auto', 6, 2]\n",
      "Iteration No: 96 ended. Search finished for the next optimal point.\n",
      "Time taken: 5.4671\n",
      "Function value obtained: -0.2621\n",
      "Current minimum: -0.2840\n",
      "Iteration No: 97 started. Searching for the next optimal point.\n",
      "[0.0733901654673002, 1000, 2, 'auto', 6, 3]\n",
      "Iteration No: 97 ended. Search finished for the next optimal point.\n",
      "Time taken: 7.8765\n",
      "Function value obtained: -0.2328\n",
      "Current minimum: -0.2840\n",
      "Iteration No: 98 started. Searching for the next optimal point.\n",
      "[0.1, 372, 2, 'auto', 6, 1]\n",
      "Iteration No: 98 ended. Search finished for the next optimal point.\n",
      "Time taken: 4.5745\n",
      "Function value obtained: -0.3089\n",
      "Current minimum: -0.3089\n",
      "Iteration No: 99 started. Searching for the next optimal point.\n",
      "[0.1, 152, 2, 'auto', 6, 3]\n",
      "Iteration No: 99 ended. Search finished for the next optimal point.\n",
      "Time taken: 5.2467\n",
      "Function value obtained: -0.2857\n",
      "Current minimum: -0.3089\n",
      "Iteration No: 100 started. Searching for the next optimal point.\n",
      "[0.1, 100, 2, 'auto', 5, 3]\n"
     ]
    },
    {
     "name": "stderr",
     "output_type": "stream",
     "text": [
      "/home/carcook/anaconda3/envs/TCGA-round1/lib/python3.8/site-packages/skopt/optimizer/optimizer.py:449: UserWarning: The objective has been evaluated at this point before.\n",
      "  warnings.warn(\"The objective has been evaluated \"\n"
     ]
    },
    {
     "name": "stdout",
     "output_type": "stream",
     "text": [
      "Iteration No: 100 ended. Search finished for the next optimal point.\n",
      "Time taken: 2.9427\n",
      "Function value obtained: -0.2558\n",
      "Current minimum: -0.3089\n",
      "Iteration No: 101 started. Searching for the next optimal point.\n",
      "[0.1, 100, 2, 'auto', 6, 3]\n"
     ]
    },
    {
     "name": "stderr",
     "output_type": "stream",
     "text": [
      "/home/carcook/anaconda3/envs/TCGA-round1/lib/python3.8/site-packages/skopt/optimizer/optimizer.py:449: UserWarning: The objective has been evaluated at this point before.\n",
      "  warnings.warn(\"The objective has been evaluated \"\n"
     ]
    },
    {
     "name": "stdout",
     "output_type": "stream",
     "text": [
      "Iteration No: 101 ended. Search finished for the next optimal point.\n",
      "Time taken: 3.0451\n",
      "Function value obtained: -0.2928\n",
      "Current minimum: -0.3089\n",
      "Iteration No: 102 started. Searching for the next optimal point.\n",
      "[0.1, 100, 2, 'auto', 6, 3]\n"
     ]
    },
    {
     "name": "stderr",
     "output_type": "stream",
     "text": [
      "/home/carcook/anaconda3/envs/TCGA-round1/lib/python3.8/site-packages/skopt/optimizer/optimizer.py:449: UserWarning: The objective has been evaluated at this point before.\n",
      "  warnings.warn(\"The objective has been evaluated \"\n"
     ]
    },
    {
     "name": "stdout",
     "output_type": "stream",
     "text": [
      "Iteration No: 102 ended. Search finished for the next optimal point.\n",
      "Time taken: 3.5842\n",
      "Function value obtained: -0.2615\n",
      "Current minimum: -0.3089\n",
      "Iteration No: 103 started. Searching for the next optimal point.\n",
      "[0.1, 100, 2, 'auto', 6, 3]\n"
     ]
    },
    {
     "name": "stderr",
     "output_type": "stream",
     "text": [
      "/home/carcook/anaconda3/envs/TCGA-round1/lib/python3.8/site-packages/skopt/optimizer/optimizer.py:449: UserWarning: The objective has been evaluated at this point before.\n",
      "  warnings.warn(\"The objective has been evaluated \"\n"
     ]
    },
    {
     "name": "stdout",
     "output_type": "stream",
     "text": [
      "Iteration No: 103 ended. Search finished for the next optimal point.\n",
      "Time taken: 2.4841\n",
      "Function value obtained: -0.2720\n",
      "Current minimum: -0.3089\n",
      "Iteration No: 104 started. Searching for the next optimal point.\n",
      "[0.1, 100, 2, 'auto', 3, 3]\n",
      "Iteration No: 104 ended. Search finished for the next optimal point.\n",
      "Time taken: 3.1783\n",
      "Function value obtained: -0.2770\n",
      "Current minimum: -0.3089\n",
      "Iteration No: 105 started. Searching for the next optimal point.\n",
      "[0.03259510565091118, 1000, 2, 'log2', 6, 3]\n",
      "Iteration No: 105 ended. Search finished for the next optimal point.\n",
      "Time taken: 5.3227\n",
      "Function value obtained: -0.2064\n",
      "Current minimum: -0.3089\n",
      "Iteration No: 106 started. Searching for the next optimal point.\n",
      "[0.1, 1000, 5, 'log2', 6, 3]\n",
      "Iteration No: 106 ended. Search finished for the next optimal point.\n",
      "Time taken: 3.6641\n",
      "Function value obtained: -0.0200\n",
      "Current minimum: -0.3089\n",
      "Iteration No: 107 started. Searching for the next optimal point.\n",
      "[0.0988103280728492, 1000, 2, 'log2', 4, 1]\n",
      "Iteration No: 107 ended. Search finished for the next optimal point.\n",
      "Time taken: 3.9265\n",
      "Function value obtained: -0.1538\n",
      "Current minimum: -0.3089\n",
      "Iteration No: 108 started. Searching for the next optimal point.\n",
      "[0.05799189330742906, 627, 2, 'sqrt', 2, 3]\n",
      "Iteration No: 108 ended. Search finished for the next optimal point.\n",
      "Time taken: 3.0143\n",
      "Function value obtained: -0.2412\n",
      "Current minimum: -0.3089\n",
      "Iteration No: 109 started. Searching for the next optimal point.\n",
      "[0.07958316797549578, 478, 2, 'auto', 6, 1]\n",
      "Iteration No: 109 ended. Search finished for the next optimal point.\n",
      "Time taken: 7.0010\n",
      "Function value obtained: -0.2402\n",
      "Current minimum: -0.3089\n",
      "Iteration No: 110 started. Searching for the next optimal point.\n",
      "[0.1, 144, 5, 'log2', 2, 1]\n",
      "Iteration No: 110 ended. Search finished for the next optimal point.\n",
      "Time taken: 2.8378\n",
      "Function value obtained: -0.1294\n",
      "Current minimum: -0.3089\n",
      "Iteration No: 111 started. Searching for the next optimal point.\n",
      "[0.1, 1000, 2, 'sqrt', 2, 1]\n",
      "Iteration No: 111 ended. Search finished for the next optimal point.\n",
      "Time taken: 5.4088\n",
      "Function value obtained: -0.1731\n",
      "Current minimum: -0.3089\n",
      "Iteration No: 112 started. Searching for the next optimal point.\n",
      "[0.060022713141764314, 1000, 2, 'sqrt', 3, 3]\n",
      "Iteration No: 112 ended. Search finished for the next optimal point.\n",
      "Time taken: 2.5792\n",
      "Function value obtained: -0.1890\n",
      "Current minimum: -0.3089\n",
      "Iteration No: 113 started. Searching for the next optimal point.\n",
      "[0.023955115187815942, 1000, 2, 'auto', 6, 1]\n",
      "Iteration No: 113 ended. Search finished for the next optimal point.\n",
      "Time taken: 8.4103\n",
      "Function value obtained: -0.2511\n",
      "Current minimum: -0.3089\n",
      "Iteration No: 114 started. Searching for the next optimal point.\n",
      "[0.020870002403803187, 1000, 2, 'auto', 3, 1]\n",
      "Iteration No: 114 ended. Search finished for the next optimal point.\n",
      "Time taken: 9.2089\n",
      "Function value obtained: -0.2343\n",
      "Current minimum: -0.3089\n",
      "Iteration No: 115 started. Searching for the next optimal point.\n",
      "[0.01986090669259446, 1000, 2, 'auto', 6, 1]\n",
      "Iteration No: 115 ended. Search finished for the next optimal point.\n",
      "Time taken: 10.2956\n",
      "Function value obtained: -0.2649\n",
      "Current minimum: -0.3089\n",
      "Iteration No: 116 started. Searching for the next optimal point.\n",
      "[0.1, 100, 2, 'auto', 3, 3]\n"
     ]
    },
    {
     "name": "stderr",
     "output_type": "stream",
     "text": [
      "/home/carcook/anaconda3/envs/TCGA-round1/lib/python3.8/site-packages/skopt/optimizer/optimizer.py:449: UserWarning: The objective has been evaluated at this point before.\n",
      "  warnings.warn(\"The objective has been evaluated \"\n"
     ]
    },
    {
     "name": "stdout",
     "output_type": "stream",
     "text": [
      "Iteration No: 116 ended. Search finished for the next optimal point.\n",
      "Time taken: 5.5441\n",
      "Function value obtained: -0.2584\n",
      "Current minimum: -0.3089\n",
      "Iteration No: 117 started. Searching for the next optimal point.\n",
      "[0.01998412556432997, 1000, 2, 'auto', 6, 1]\n",
      "Iteration No: 117 ended. Search finished for the next optimal point.\n",
      "Time taken: 8.8184\n",
      "Function value obtained: -0.2617\n",
      "Current minimum: -0.3089\n",
      "Iteration No: 118 started. Searching for the next optimal point.\n",
      "[0.01903037125079881, 1000, 2, 'auto', 6, 1]\n",
      "Iteration No: 118 ended. Search finished for the next optimal point.\n",
      "Time taken: 9.0067\n",
      "Function value obtained: -0.2531\n",
      "Current minimum: -0.3089\n",
      "Iteration No: 119 started. Searching for the next optimal point.\n",
      "[0.016489470658871814, 1000, 2, 'log2', 6, 2]\n",
      "Iteration No: 119 ended. Search finished for the next optimal point.\n",
      "Time taken: 2.9015\n",
      "Function value obtained: -0.2115\n",
      "Current minimum: -0.3089\n",
      "Iteration No: 120 started. Searching for the next optimal point.\n",
      "[0.001, 1000, 2, 'auto', 4, 3]\n",
      "Iteration No: 120 ended. Search finished for the next optimal point.\n",
      "Time taken: 9.5518\n",
      "Function value obtained: -0.1195\n",
      "Current minimum: -0.3089\n",
      "Iteration No: 121 started. Searching for the next optimal point.\n",
      "[0.001, 1000, 5, 'sqrt', 4, 2]\n",
      "Iteration No: 121 ended. Search finished for the next optimal point.\n",
      "Time taken: 3.5942\n",
      "Function value obtained: -0.1221\n",
      "Current minimum: -0.3089\n",
      "Iteration No: 122 started. Searching for the next optimal point.\n",
      "[0.1, 100, 2, 'auto', 6, 3]\n"
     ]
    },
    {
     "name": "stderr",
     "output_type": "stream",
     "text": [
      "/home/carcook/anaconda3/envs/TCGA-round1/lib/python3.8/site-packages/skopt/optimizer/optimizer.py:449: UserWarning: The objective has been evaluated at this point before.\n",
      "  warnings.warn(\"The objective has been evaluated \"\n"
     ]
    },
    {
     "name": "stdout",
     "output_type": "stream",
     "text": [
      "Iteration No: 122 ended. Search finished for the next optimal point.\n",
      "Time taken: 4.3235\n",
      "Function value obtained: -0.2597\n",
      "Current minimum: -0.3089\n",
      "Iteration No: 123 started. Searching for the next optimal point.\n",
      "[0.1, 100, 2, 'auto', 6, 3]\n"
     ]
    },
    {
     "name": "stderr",
     "output_type": "stream",
     "text": [
      "/home/carcook/anaconda3/envs/TCGA-round1/lib/python3.8/site-packages/skopt/optimizer/optimizer.py:449: UserWarning: The objective has been evaluated at this point before.\n",
      "  warnings.warn(\"The objective has been evaluated \"\n"
     ]
    },
    {
     "name": "stdout",
     "output_type": "stream",
     "text": [
      "Iteration No: 123 ended. Search finished for the next optimal point.\n",
      "Time taken: 3.1208\n",
      "Function value obtained: -0.2824\n",
      "Current minimum: -0.3089\n",
      "Iteration No: 124 started. Searching for the next optimal point.\n",
      "[0.05235805336897977, 678, 2, 'sqrt', 6, 2]\n",
      "Iteration No: 124 ended. Search finished for the next optimal point.\n",
      "Time taken: 3.5437\n",
      "Function value obtained: -0.2611\n",
      "Current minimum: -0.3089\n",
      "Iteration No: 125 started. Searching for the next optimal point.\n",
      "[0.001, 100, 2, 'sqrt', 5, 1]\n",
      "Iteration No: 125 ended. Search finished for the next optimal point.\n",
      "Time taken: 2.5750\n",
      "Function value obtained: -0.0166\n",
      "Current minimum: -0.3089\n",
      "Iteration No: 126 started. Searching for the next optimal point.\n",
      "[0.1, 100, 2, 'log2', 6, 3]\n",
      "Iteration No: 126 ended. Search finished for the next optimal point.\n",
      "Time taken: 2.8777\n",
      "Function value obtained: -0.2444\n",
      "Current minimum: -0.3089\n",
      "Iteration No: 127 started. Searching for the next optimal point.\n",
      "[0.1, 100, 2, 'auto', 6, 1]\n",
      "Iteration No: 127 ended. Search finished for the next optimal point.\n",
      "Time taken: 3.6298\n",
      "Function value obtained: -0.2906\n",
      "Current minimum: -0.3089\n",
      "Iteration No: 128 started. Searching for the next optimal point.\n",
      "[0.1, 100, 2, 'auto', 6, 3]\n"
     ]
    },
    {
     "name": "stderr",
     "output_type": "stream",
     "text": [
      "/home/carcook/anaconda3/envs/TCGA-round1/lib/python3.8/site-packages/skopt/optimizer/optimizer.py:449: UserWarning: The objective has been evaluated at this point before.\n",
      "  warnings.warn(\"The objective has been evaluated \"\n"
     ]
    },
    {
     "name": "stdout",
     "output_type": "stream",
     "text": [
      "Iteration No: 128 ended. Search finished for the next optimal point.\n",
      "Time taken: 4.0243\n",
      "Function value obtained: -0.2381\n",
      "Current minimum: -0.3089\n",
      "Iteration No: 129 started. Searching for the next optimal point.\n",
      "[0.08282268514722524, 714, 2, 'sqrt', 6, 2]\n",
      "Iteration No: 129 ended. Search finished for the next optimal point.\n",
      "Time taken: 3.4470\n",
      "Function value obtained: -0.2807\n",
      "Current minimum: -0.3089\n",
      "Iteration No: 130 started. Searching for the next optimal point.\n",
      "[0.1, 100, 2, 'auto', 6, 3]\n"
     ]
    },
    {
     "name": "stderr",
     "output_type": "stream",
     "text": [
      "/home/carcook/anaconda3/envs/TCGA-round1/lib/python3.8/site-packages/skopt/optimizer/optimizer.py:449: UserWarning: The objective has been evaluated at this point before.\n",
      "  warnings.warn(\"The objective has been evaluated \"\n"
     ]
    },
    {
     "name": "stdout",
     "output_type": "stream",
     "text": [
      "Iteration No: 130 ended. Search finished for the next optimal point.\n",
      "Time taken: 3.8592\n",
      "Function value obtained: -0.2402\n",
      "Current minimum: -0.3089\n",
      "Iteration No: 131 started. Searching for the next optimal point.\n",
      "[0.1, 256, 2, 'auto', 6, 1]\n",
      "Iteration No: 131 ended. Search finished for the next optimal point.\n",
      "Time taken: 5.0240\n",
      "Function value obtained: -0.2798\n",
      "Current minimum: -0.3089\n",
      "Iteration No: 132 started. Searching for the next optimal point.\n",
      "[0.1, 100, 2, 'auto', 6, 3]\n"
     ]
    },
    {
     "name": "stderr",
     "output_type": "stream",
     "text": [
      "/home/carcook/anaconda3/envs/TCGA-round1/lib/python3.8/site-packages/skopt/optimizer/optimizer.py:449: UserWarning: The objective has been evaluated at this point before.\n",
      "  warnings.warn(\"The objective has been evaluated \"\n"
     ]
    },
    {
     "name": "stdout",
     "output_type": "stream",
     "text": [
      "Iteration No: 132 ended. Search finished for the next optimal point.\n",
      "Time taken: 4.0457\n",
      "Function value obtained: -0.2748\n",
      "Current minimum: -0.3089\n",
      "Iteration No: 133 started. Searching for the next optimal point.\n",
      "[0.1, 100, 2, 'auto', 6, 3]\n"
     ]
    },
    {
     "name": "stderr",
     "output_type": "stream",
     "text": [
      "/home/carcook/anaconda3/envs/TCGA-round1/lib/python3.8/site-packages/skopt/optimizer/optimizer.py:449: UserWarning: The objective has been evaluated at this point before.\n",
      "  warnings.warn(\"The objective has been evaluated \"\n"
     ]
    },
    {
     "name": "stdout",
     "output_type": "stream",
     "text": [
      "Iteration No: 133 ended. Search finished for the next optimal point.\n",
      "Time taken: 4.0739\n",
      "Function value obtained: -0.2810\n",
      "Current minimum: -0.3089\n",
      "Iteration No: 134 started. Searching for the next optimal point.\n",
      "[0.1, 100, 2, 'auto', 6, 3]\n"
     ]
    },
    {
     "name": "stderr",
     "output_type": "stream",
     "text": [
      "/home/carcook/anaconda3/envs/TCGA-round1/lib/python3.8/site-packages/skopt/optimizer/optimizer.py:449: UserWarning: The objective has been evaluated at this point before.\n",
      "  warnings.warn(\"The objective has been evaluated \"\n"
     ]
    },
    {
     "name": "stdout",
     "output_type": "stream",
     "text": [
      "Iteration No: 134 ended. Search finished for the next optimal point.\n",
      "Time taken: 3.9886\n",
      "Function value obtained: -0.2665\n",
      "Current minimum: -0.3089\n",
      "Iteration No: 135 started. Searching for the next optimal point.\n",
      "[0.1, 100, 2, 'auto', 5, 3]\n"
     ]
    },
    {
     "name": "stderr",
     "output_type": "stream",
     "text": [
      "/home/carcook/anaconda3/envs/TCGA-round1/lib/python3.8/site-packages/skopt/optimizer/optimizer.py:449: UserWarning: The objective has been evaluated at this point before.\n",
      "  warnings.warn(\"The objective has been evaluated \"\n"
     ]
    },
    {
     "name": "stdout",
     "output_type": "stream",
     "text": [
      "Iteration No: 135 ended. Search finished for the next optimal point.\n",
      "Time taken: 3.2395\n",
      "Function value obtained: -0.2618\n",
      "Current minimum: -0.3089\n",
      "Iteration No: 136 started. Searching for the next optimal point.\n",
      "[0.07217220866390112, 388, 2, 'auto', 6, 3]\n",
      "Iteration No: 136 ended. Search finished for the next optimal point.\n",
      "Time taken: 5.8401\n",
      "Function value obtained: -0.2829\n",
      "Current minimum: -0.3089\n",
      "Iteration No: 137 started. Searching for the next optimal point.\n",
      "[0.1, 100, 2, 'auto', 6, 3]\n"
     ]
    },
    {
     "name": "stderr",
     "output_type": "stream",
     "text": [
      "/home/carcook/anaconda3/envs/TCGA-round1/lib/python3.8/site-packages/skopt/optimizer/optimizer.py:449: UserWarning: The objective has been evaluated at this point before.\n",
      "  warnings.warn(\"The objective has been evaluated \"\n"
     ]
    },
    {
     "name": "stdout",
     "output_type": "stream",
     "text": [
      "Iteration No: 137 ended. Search finished for the next optimal point.\n",
      "Time taken: 3.6999\n",
      "Function value obtained: -0.2724\n",
      "Current minimum: -0.3089\n",
      "Iteration No: 138 started. Searching for the next optimal point.\n",
      "[0.1, 100, 2, 'auto', 6, 3]\n"
     ]
    },
    {
     "name": "stderr",
     "output_type": "stream",
     "text": [
      "/home/carcook/anaconda3/envs/TCGA-round1/lib/python3.8/site-packages/skopt/optimizer/optimizer.py:449: UserWarning: The objective has been evaluated at this point before.\n",
      "  warnings.warn(\"The objective has been evaluated \"\n"
     ]
    },
    {
     "name": "stdout",
     "output_type": "stream",
     "text": [
      "Iteration No: 138 ended. Search finished for the next optimal point.\n",
      "Time taken: 4.3012\n",
      "Function value obtained: -0.2516\n",
      "Current minimum: -0.3089\n",
      "Iteration No: 139 started. Searching for the next optimal point.\n",
      "[0.09965643268179773, 100, 2, 'auto', 6, 3]\n",
      "Iteration No: 139 ended. Search finished for the next optimal point.\n",
      "Time taken: 3.9882\n",
      "Function value obtained: -0.2884\n",
      "Current minimum: -0.3089\n",
      "Iteration No: 140 started. Searching for the next optimal point.\n",
      "[0.1, 100, 2, 'auto', 6, 3]\n"
     ]
    },
    {
     "name": "stderr",
     "output_type": "stream",
     "text": [
      "/home/carcook/anaconda3/envs/TCGA-round1/lib/python3.8/site-packages/skopt/optimizer/optimizer.py:449: UserWarning: The objective has been evaluated at this point before.\n",
      "  warnings.warn(\"The objective has been evaluated \"\n"
     ]
    },
    {
     "name": "stdout",
     "output_type": "stream",
     "text": [
      "Iteration No: 140 ended. Search finished for the next optimal point.\n",
      "Time taken: 4.7092\n",
      "Function value obtained: -0.2484\n",
      "Current minimum: -0.3089\n",
      "Iteration No: 141 started. Searching for the next optimal point.\n",
      "[0.1, 100, 2, 'auto', 6, 3]\n"
     ]
    },
    {
     "name": "stderr",
     "output_type": "stream",
     "text": [
      "/home/carcook/anaconda3/envs/TCGA-round1/lib/python3.8/site-packages/skopt/optimizer/optimizer.py:449: UserWarning: The objective has been evaluated at this point before.\n",
      "  warnings.warn(\"The objective has been evaluated \"\n"
     ]
    },
    {
     "name": "stdout",
     "output_type": "stream",
     "text": [
      "Iteration No: 141 ended. Search finished for the next optimal point.\n",
      "Time taken: 5.0083\n",
      "Function value obtained: -0.2471\n",
      "Current minimum: -0.3089\n",
      "Iteration No: 142 started. Searching for the next optimal point.\n",
      "[0.09936443697488848, 100, 2, 'auto', 6, 3]\n",
      "Iteration No: 142 ended. Search finished for the next optimal point.\n",
      "Time taken: 4.7708\n",
      "Function value obtained: -0.2370\n",
      "Current minimum: -0.3089\n",
      "Iteration No: 143 started. Searching for the next optimal point.\n",
      "[0.1, 100, 2, 'auto', 6, 3]\n"
     ]
    },
    {
     "name": "stderr",
     "output_type": "stream",
     "text": [
      "/home/carcook/anaconda3/envs/TCGA-round1/lib/python3.8/site-packages/skopt/optimizer/optimizer.py:449: UserWarning: The objective has been evaluated at this point before.\n",
      "  warnings.warn(\"The objective has been evaluated \"\n"
     ]
    },
    {
     "name": "stdout",
     "output_type": "stream",
     "text": [
      "Iteration No: 143 ended. Search finished for the next optimal point.\n",
      "Time taken: 4.2749\n",
      "Function value obtained: -0.2769\n",
      "Current minimum: -0.3089\n",
      "Iteration No: 144 started. Searching for the next optimal point.\n",
      "[0.1, 100, 2, 'auto', 6, 3]\n"
     ]
    },
    {
     "name": "stderr",
     "output_type": "stream",
     "text": [
      "/home/carcook/anaconda3/envs/TCGA-round1/lib/python3.8/site-packages/skopt/optimizer/optimizer.py:449: UserWarning: The objective has been evaluated at this point before.\n",
      "  warnings.warn(\"The objective has been evaluated \"\n"
     ]
    },
    {
     "name": "stdout",
     "output_type": "stream",
     "text": [
      "Iteration No: 144 ended. Search finished for the next optimal point.\n",
      "Time taken: 3.8697\n",
      "Function value obtained: -0.2712\n",
      "Current minimum: -0.3089\n",
      "Iteration No: 145 started. Searching for the next optimal point.\n",
      "[0.1, 100, 2, 'auto', 4, 3]\n"
     ]
    },
    {
     "name": "stderr",
     "output_type": "stream",
     "text": [
      "/home/carcook/anaconda3/envs/TCGA-round1/lib/python3.8/site-packages/skopt/optimizer/optimizer.py:449: UserWarning: The objective has been evaluated at this point before.\n",
      "  warnings.warn(\"The objective has been evaluated \"\n"
     ]
    },
    {
     "name": "stdout",
     "output_type": "stream",
     "text": [
      "Iteration No: 145 ended. Search finished for the next optimal point.\n",
      "Time taken: 4.3720\n",
      "Function value obtained: -0.2673\n",
      "Current minimum: -0.3089\n",
      "Iteration No: 146 started. Searching for the next optimal point.\n",
      "[0.1, 100, 2, 'auto', 6, 3]\n"
     ]
    },
    {
     "name": "stderr",
     "output_type": "stream",
     "text": [
      "/home/carcook/anaconda3/envs/TCGA-round1/lib/python3.8/site-packages/skopt/optimizer/optimizer.py:449: UserWarning: The objective has been evaluated at this point before.\n",
      "  warnings.warn(\"The objective has been evaluated \"\n"
     ]
    },
    {
     "name": "stdout",
     "output_type": "stream",
     "text": [
      "Iteration No: 146 ended. Search finished for the next optimal point.\n",
      "Time taken: 4.2945\n",
      "Function value obtained: -0.2349\n",
      "Current minimum: -0.3089\n",
      "Iteration No: 147 started. Searching for the next optimal point.\n",
      "[0.1, 100, 2, 'auto', 6, 3]\n"
     ]
    },
    {
     "name": "stderr",
     "output_type": "stream",
     "text": [
      "/home/carcook/anaconda3/envs/TCGA-round1/lib/python3.8/site-packages/skopt/optimizer/optimizer.py:449: UserWarning: The objective has been evaluated at this point before.\n",
      "  warnings.warn(\"The objective has been evaluated \"\n"
     ]
    },
    {
     "name": "stdout",
     "output_type": "stream",
     "text": [
      "Iteration No: 147 ended. Search finished for the next optimal point.\n",
      "Time taken: 3.8932\n",
      "Function value obtained: -0.2856\n",
      "Current minimum: -0.3089\n",
      "Iteration No: 148 started. Searching for the next optimal point.\n",
      "[0.1, 100, 2, 'auto', 6, 3]\n"
     ]
    },
    {
     "name": "stderr",
     "output_type": "stream",
     "text": [
      "/home/carcook/anaconda3/envs/TCGA-round1/lib/python3.8/site-packages/skopt/optimizer/optimizer.py:449: UserWarning: The objective has been evaluated at this point before.\n",
      "  warnings.warn(\"The objective has been evaluated \"\n"
     ]
    },
    {
     "name": "stdout",
     "output_type": "stream",
     "text": [
      "Iteration No: 148 ended. Search finished for the next optimal point.\n",
      "Time taken: 3.8888\n",
      "Function value obtained: -0.2640\n",
      "Current minimum: -0.3089\n",
      "Iteration No: 149 started. Searching for the next optimal point.\n",
      "[0.1, 100, 2, 'auto', 6, 3]\n"
     ]
    },
    {
     "name": "stderr",
     "output_type": "stream",
     "text": [
      "/home/carcook/anaconda3/envs/TCGA-round1/lib/python3.8/site-packages/skopt/optimizer/optimizer.py:449: UserWarning: The objective has been evaluated at this point before.\n",
      "  warnings.warn(\"The objective has been evaluated \"\n"
     ]
    },
    {
     "name": "stdout",
     "output_type": "stream",
     "text": [
      "Iteration No: 149 ended. Search finished for the next optimal point.\n",
      "Time taken: 4.1648\n",
      "Function value obtained: -0.2862\n",
      "Current minimum: -0.3089\n",
      "Iteration No: 150 started. Searching for the next optimal point.\n",
      "[0.1, 100, 2, 'auto', 6, 3]\n"
     ]
    },
    {
     "name": "stderr",
     "output_type": "stream",
     "text": [
      "/home/carcook/anaconda3/envs/TCGA-round1/lib/python3.8/site-packages/skopt/optimizer/optimizer.py:449: UserWarning: The objective has been evaluated at this point before.\n",
      "  warnings.warn(\"The objective has been evaluated \"\n"
     ]
    },
    {
     "name": "stdout",
     "output_type": "stream",
     "text": [
      "Iteration No: 150 ended. Search finished for the next optimal point.\n",
      "Time taken: 4.0230\n",
      "Function value obtained: -0.2640\n",
      "Current minimum: -0.3089\n",
      "Iteration No: 151 started. Searching for the next optimal point.\n",
      "[0.1, 100, 2, 'auto', 6, 3]\n"
     ]
    },
    {
     "name": "stderr",
     "output_type": "stream",
     "text": [
      "/home/carcook/anaconda3/envs/TCGA-round1/lib/python3.8/site-packages/skopt/optimizer/optimizer.py:449: UserWarning: The objective has been evaluated at this point before.\n",
      "  warnings.warn(\"The objective has been evaluated \"\n"
     ]
    },
    {
     "name": "stdout",
     "output_type": "stream",
     "text": [
      "Iteration No: 151 ended. Search finished for the next optimal point.\n",
      "Time taken: 4.9878\n",
      "Function value obtained: -0.2675\n",
      "Current minimum: -0.3089\n",
      "Iteration No: 152 started. Searching for the next optimal point.\n",
      "[0.06432014389466892, 532, 5, 'log2', 5, 2]\n",
      "Iteration No: 152 ended. Search finished for the next optimal point.\n",
      "Time taken: 4.1913\n",
      "Function value obtained: -0.1648\n",
      "Current minimum: -0.3089\n",
      "Iteration No: 153 started. Searching for the next optimal point.\n",
      "[0.1, 100, 2, 'auto', 6, 3]\n"
     ]
    },
    {
     "name": "stderr",
     "output_type": "stream",
     "text": [
      "/home/carcook/anaconda3/envs/TCGA-round1/lib/python3.8/site-packages/skopt/optimizer/optimizer.py:449: UserWarning: The objective has been evaluated at this point before.\n",
      "  warnings.warn(\"The objective has been evaluated \"\n"
     ]
    },
    {
     "name": "stdout",
     "output_type": "stream",
     "text": [
      "Iteration No: 153 ended. Search finished for the next optimal point.\n",
      "Time taken: 4.4472\n",
      "Function value obtained: -0.2963\n",
      "Current minimum: -0.3089\n",
      "Iteration No: 154 started. Searching for the next optimal point.\n",
      "[0.1, 100, 2, 'auto', 6, 3]\n"
     ]
    },
    {
     "name": "stderr",
     "output_type": "stream",
     "text": [
      "/home/carcook/anaconda3/envs/TCGA-round1/lib/python3.8/site-packages/skopt/optimizer/optimizer.py:449: UserWarning: The objective has been evaluated at this point before.\n",
      "  warnings.warn(\"The objective has been evaluated \"\n"
     ]
    },
    {
     "name": "stdout",
     "output_type": "stream",
     "text": [
      "Iteration No: 154 ended. Search finished for the next optimal point.\n",
      "Time taken: 4.5261\n",
      "Function value obtained: -0.2736\n",
      "Current minimum: -0.3089\n",
      "Iteration No: 155 started. Searching for the next optimal point.\n",
      "[0.1, 100, 2, 'auto', 6, 3]\n"
     ]
    },
    {
     "name": "stderr",
     "output_type": "stream",
     "text": [
      "/home/carcook/anaconda3/envs/TCGA-round1/lib/python3.8/site-packages/skopt/optimizer/optimizer.py:449: UserWarning: The objective has been evaluated at this point before.\n",
      "  warnings.warn(\"The objective has been evaluated \"\n"
     ]
    },
    {
     "name": "stdout",
     "output_type": "stream",
     "text": [
      "Iteration No: 155 ended. Search finished for the next optimal point.\n",
      "Time taken: 4.3912\n",
      "Function value obtained: -0.2653\n",
      "Current minimum: -0.3089\n",
      "Iteration No: 156 started. Searching for the next optimal point.\n",
      "[0.1, 100, 2, 'auto', 6, 3]\n"
     ]
    },
    {
     "name": "stderr",
     "output_type": "stream",
     "text": [
      "/home/carcook/anaconda3/envs/TCGA-round1/lib/python3.8/site-packages/skopt/optimizer/optimizer.py:449: UserWarning: The objective has been evaluated at this point before.\n",
      "  warnings.warn(\"The objective has been evaluated \"\n"
     ]
    },
    {
     "name": "stdout",
     "output_type": "stream",
     "text": [
      "Iteration No: 156 ended. Search finished for the next optimal point.\n",
      "Time taken: 5.0352\n",
      "Function value obtained: -0.2509\n",
      "Current minimum: -0.3089\n",
      "Iteration No: 157 started. Searching for the next optimal point.\n",
      "[0.1, 100, 2, 'auto', 6, 3]\n"
     ]
    },
    {
     "name": "stderr",
     "output_type": "stream",
     "text": [
      "/home/carcook/anaconda3/envs/TCGA-round1/lib/python3.8/site-packages/skopt/optimizer/optimizer.py:449: UserWarning: The objective has been evaluated at this point before.\n",
      "  warnings.warn(\"The objective has been evaluated \"\n"
     ]
    },
    {
     "name": "stdout",
     "output_type": "stream",
     "text": [
      "Iteration No: 157 ended. Search finished for the next optimal point.\n",
      "Time taken: 4.9750\n",
      "Function value obtained: -0.2381\n",
      "Current minimum: -0.3089\n",
      "Iteration No: 158 started. Searching for the next optimal point.\n",
      "[0.1, 100, 2, 'auto', 6, 3]\n"
     ]
    },
    {
     "name": "stderr",
     "output_type": "stream",
     "text": [
      "/home/carcook/anaconda3/envs/TCGA-round1/lib/python3.8/site-packages/skopt/optimizer/optimizer.py:449: UserWarning: The objective has been evaluated at this point before.\n",
      "  warnings.warn(\"The objective has been evaluated \"\n"
     ]
    },
    {
     "name": "stdout",
     "output_type": "stream",
     "text": [
      "Iteration No: 158 ended. Search finished for the next optimal point.\n",
      "Time taken: 4.4388\n",
      "Function value obtained: -0.2845\n",
      "Current minimum: -0.3089\n",
      "Iteration No: 159 started. Searching for the next optimal point.\n",
      "[0.1, 100, 2, 'auto', 6, 3]\n"
     ]
    },
    {
     "name": "stderr",
     "output_type": "stream",
     "text": [
      "/home/carcook/anaconda3/envs/TCGA-round1/lib/python3.8/site-packages/skopt/optimizer/optimizer.py:449: UserWarning: The objective has been evaluated at this point before.\n",
      "  warnings.warn(\"The objective has been evaluated \"\n"
     ]
    },
    {
     "name": "stdout",
     "output_type": "stream",
     "text": [
      "Iteration No: 159 ended. Search finished for the next optimal point.\n",
      "Time taken: 5.0615\n",
      "Function value obtained: -0.2497\n",
      "Current minimum: -0.3089\n",
      "Iteration No: 160 started. Searching for the next optimal point.\n",
      "[0.1, 100, 5, 'sqrt', 3, 1]\n",
      "Iteration No: 160 ended. Search finished for the next optimal point.\n",
      "Time taken: 6.9207\n",
      "Function value obtained: -0.1899\n",
      "Current minimum: -0.3089\n",
      "Iteration No: 161 started. Searching for the next optimal point.\n",
      "[0.1, 100, 2, 'auto', 6, 3]\n"
     ]
    },
    {
     "name": "stderr",
     "output_type": "stream",
     "text": [
      "/home/carcook/anaconda3/envs/TCGA-round1/lib/python3.8/site-packages/skopt/optimizer/optimizer.py:449: UserWarning: The objective has been evaluated at this point before.\n",
      "  warnings.warn(\"The objective has been evaluated \"\n"
     ]
    },
    {
     "name": "stdout",
     "output_type": "stream",
     "text": [
      "Iteration No: 161 ended. Search finished for the next optimal point.\n",
      "Time taken: 5.0850\n",
      "Function value obtained: -0.2544\n",
      "Current minimum: -0.3089\n",
      "Iteration No: 162 started. Searching for the next optimal point.\n",
      "[0.001, 100, 5, 'sqrt', 3, 3]\n",
      "Iteration No: 162 ended. Search finished for the next optimal point.\n",
      "Time taken: 4.1410\n",
      "Function value obtained: -0.0196\n",
      "Current minimum: -0.3089\n",
      "Iteration No: 163 started. Searching for the next optimal point.\n",
      "[0.1, 100, 2, 'auto', 6, 3]\n"
     ]
    },
    {
     "name": "stderr",
     "output_type": "stream",
     "text": [
      "/home/carcook/anaconda3/envs/TCGA-round1/lib/python3.8/site-packages/skopt/optimizer/optimizer.py:449: UserWarning: The objective has been evaluated at this point before.\n",
      "  warnings.warn(\"The objective has been evaluated \"\n"
     ]
    },
    {
     "name": "stdout",
     "output_type": "stream",
     "text": [
      "Iteration No: 163 ended. Search finished for the next optimal point.\n",
      "Time taken: 4.7279\n",
      "Function value obtained: -0.2461\n",
      "Current minimum: -0.3089\n",
      "Iteration No: 164 started. Searching for the next optimal point.\n",
      "[0.1, 100, 2, 'auto', 6, 3]\n"
     ]
    },
    {
     "name": "stderr",
     "output_type": "stream",
     "text": [
      "/home/carcook/anaconda3/envs/TCGA-round1/lib/python3.8/site-packages/skopt/optimizer/optimizer.py:449: UserWarning: The objective has been evaluated at this point before.\n",
      "  warnings.warn(\"The objective has been evaluated \"\n"
     ]
    },
    {
     "name": "stdout",
     "output_type": "stream",
     "text": [
      "Iteration No: 164 ended. Search finished for the next optimal point.\n",
      "Time taken: 4.4666\n",
      "Function value obtained: -0.2869\n",
      "Current minimum: -0.3089\n",
      "Iteration No: 165 started. Searching for the next optimal point.\n",
      "[0.1, 100, 2, 'auto', 6, 3]\n"
     ]
    },
    {
     "name": "stderr",
     "output_type": "stream",
     "text": [
      "/home/carcook/anaconda3/envs/TCGA-round1/lib/python3.8/site-packages/skopt/optimizer/optimizer.py:449: UserWarning: The objective has been evaluated at this point before.\n",
      "  warnings.warn(\"The objective has been evaluated \"\n"
     ]
    },
    {
     "name": "stdout",
     "output_type": "stream",
     "text": [
      "Iteration No: 165 ended. Search finished for the next optimal point.\n",
      "Time taken: 4.4425\n",
      "Function value obtained: -0.2646\n",
      "Current minimum: -0.3089\n",
      "Iteration No: 166 started. Searching for the next optimal point.\n",
      "[0.0698731995718213, 100, 2, 'auto', 6, 3]\n",
      "Iteration No: 166 ended. Search finished for the next optimal point.\n",
      "Time taken: 4.8452\n",
      "Function value obtained: -0.2880\n",
      "Current minimum: -0.3089\n",
      "Iteration No: 167 started. Searching for the next optimal point.\n",
      "[0.07433780300722545, 100, 2, 'auto', 6, 2]\n",
      "Iteration No: 167 ended. Search finished for the next optimal point.\n",
      "Time taken: 4.7117\n",
      "Function value obtained: -0.2696\n",
      "Current minimum: -0.3089\n",
      "Iteration No: 168 started. Searching for the next optimal point.\n",
      "[0.1, 100, 5, 'sqrt', 6, 3]\n",
      "Iteration No: 168 ended. Search finished for the next optimal point.\n",
      "Time taken: 4.5778\n",
      "Function value obtained: -0.2173\n",
      "Current minimum: -0.3089\n",
      "Iteration No: 169 started. Searching for the next optimal point.\n",
      "[0.06360755506126377, 691, 2, 'sqrt', 4, 1]\n",
      "Iteration No: 169 ended. Search finished for the next optimal point.\n",
      "Time taken: 4.8533\n",
      "Function value obtained: -0.2303\n",
      "Current minimum: -0.3089\n",
      "Iteration No: 170 started. Searching for the next optimal point.\n",
      "[0.1, 520, 5, 'log2', 6, 2]\n",
      "Iteration No: 170 ended. Search finished for the next optimal point.\n",
      "Time taken: 5.6911\n",
      "Function value obtained: -0.0282\n",
      "Current minimum: -0.3089\n",
      "Iteration No: 171 started. Searching for the next optimal point.\n",
      "[0.07905226687723903, 980, 2, 'sqrt', 6, 3]\n",
      "Iteration No: 171 ended. Search finished for the next optimal point.\n",
      "Time taken: 5.3644\n",
      "Function value obtained: -0.2229\n",
      "Current minimum: -0.3089\n",
      "Iteration No: 172 started. Searching for the next optimal point.\n",
      "[0.043813031701032415, 100, 2, 'sqrt', 6, 3]\n",
      "Iteration No: 172 ended. Search finished for the next optimal point.\n",
      "Time taken: 5.5979\n",
      "Function value obtained: -0.1990\n",
      "Current minimum: -0.3089\n",
      "Iteration No: 173 started. Searching for the next optimal point.\n",
      "[0.08074981740363198, 100, 5, 'log2', 5, 1]\n",
      "Iteration No: 173 ended. Search finished for the next optimal point.\n",
      "Time taken: 4.7197\n",
      "Function value obtained: 0.0222\n",
      "Current minimum: -0.3089\n",
      "Iteration No: 174 started. Searching for the next optimal point.\n",
      "[0.1, 100, 2, 'auto', 2, 3]\n",
      "Iteration No: 174 ended. Search finished for the next optimal point.\n",
      "Time taken: 4.5852\n",
      "Function value obtained: -0.2578\n",
      "Current minimum: -0.3089\n",
      "Iteration No: 175 started. Searching for the next optimal point.\n",
      "[0.07704267839143265, 893, 5, 'log2', 4, 3]\n",
      "Iteration No: 175 ended. Search finished for the next optimal point.\n",
      "Time taken: 4.2064\n",
      "Function value obtained: -0.1677\n",
      "Current minimum: -0.3089\n",
      "Iteration No: 176 started. Searching for the next optimal point.\n",
      "[0.1, 100, 2, 'log2', 2, 3]\n",
      "Iteration No: 176 ended. Search finished for the next optimal point.\n",
      "Time taken: 4.5663\n",
      "Function value obtained: -0.1817\n",
      "Current minimum: -0.3089\n",
      "Iteration No: 177 started. Searching for the next optimal point.\n",
      "[0.1, 397, 2, 'auto', 6, 3]\n",
      "Iteration No: 177 ended. Search finished for the next optimal point.\n",
      "Time taken: 6.6788\n",
      "Function value obtained: -0.2678\n",
      "Current minimum: -0.3089\n",
      "Iteration No: 178 started. Searching for the next optimal point.\n",
      "[0.1, 396, 2, 'auto', 6, 3]\n",
      "Iteration No: 178 ended. Search finished for the next optimal point.\n",
      "Time taken: 6.1004\n",
      "Function value obtained: -0.2896\n",
      "Current minimum: -0.3089\n",
      "Iteration No: 179 started. Searching for the next optimal point.\n",
      "[0.08943171883402058, 288, 2, 'auto', 6, 3]\n",
      "Iteration No: 179 ended. Search finished for the next optimal point.\n",
      "Time taken: 7.0194\n",
      "Function value obtained: -0.2714\n",
      "Current minimum: -0.3089\n",
      "Iteration No: 180 started. Searching for the next optimal point.\n",
      "[0.09308904349643903, 301, 2, 'auto', 6, 3]\n",
      "Iteration No: 180 ended. Search finished for the next optimal point.\n",
      "Time taken: 5.9563\n",
      "Function value obtained: -0.2790\n",
      "Current minimum: -0.3089\n",
      "Iteration No: 181 started. Searching for the next optimal point.\n",
      "[0.09247650505541027, 299, 2, 'auto', 6, 3]\n",
      "Iteration No: 181 ended. Search finished for the next optimal point.\n",
      "Time taken: 6.6692\n",
      "Function value obtained: -0.2390\n",
      "Current minimum: -0.3089\n",
      "Iteration No: 182 started. Searching for the next optimal point.\n",
      "[0.1, 336, 2, 'auto', 6, 3]\n",
      "Iteration No: 182 ended. Search finished for the next optimal point.\n",
      "Time taken: 7.8448\n",
      "Function value obtained: -0.2404\n",
      "Current minimum: -0.3089\n",
      "Iteration No: 183 started. Searching for the next optimal point.\n",
      "[0.1, 405, 2, 'log2', 6, 3]\n",
      "Iteration No: 183 ended. Search finished for the next optimal point.\n",
      "Time taken: 4.2647\n",
      "Function value obtained: -0.1994\n",
      "Current minimum: -0.3089\n",
      "Iteration No: 184 started. Searching for the next optimal point.\n",
      "[0.06997867479719083, 551, 5, 'log2', 2, 2]\n",
      "Iteration No: 184 ended. Search finished for the next optimal point.\n",
      "Time taken: 4.5918\n",
      "Function value obtained: -0.1509\n",
      "Current minimum: -0.3089\n",
      "Iteration No: 185 started. Searching for the next optimal point.\n",
      "[0.04007849076065436, 589, 2, 'sqrt', 2, 3]\n",
      "Iteration No: 185 ended. Search finished for the next optimal point.\n",
      "Time taken: 4.5444\n",
      "Function value obtained: -0.2797\n",
      "Current minimum: -0.3089\n",
      "Iteration No: 186 started. Searching for the next optimal point.\n",
      "[0.03385368363807563, 1000, 2, 'auto', 6, 3]\n",
      "Iteration No: 186 ended. Search finished for the next optimal point.\n",
      "Time taken: 10.8570\n",
      "Function value obtained: -0.2451\n",
      "Current minimum: -0.3089\n",
      "Iteration No: 187 started. Searching for the next optimal point.\n",
      "[0.0853295613175988, 100, 2, 'log2', 6, 3]\n",
      "Iteration No: 187 ended. Search finished for the next optimal point.\n",
      "Time taken: 4.4149\n",
      "Function value obtained: -0.1874\n",
      "Current minimum: -0.3089\n",
      "Iteration No: 188 started. Searching for the next optimal point.\n",
      "[0.07580445890488412, 633, 2, 'sqrt', 6, 3]\n",
      "Iteration No: 188 ended. Search finished for the next optimal point.\n",
      "Time taken: 5.2943\n",
      "Function value obtained: -0.2374\n",
      "Current minimum: -0.3089\n",
      "Iteration No: 189 started. Searching for the next optimal point.\n",
      "[0.1, 100, 4, 'sqrt', 6, 3]\n",
      "Iteration No: 189 ended. Search finished for the next optimal point.\n",
      "Time taken: 4.8219\n",
      "Function value obtained: -0.2556\n",
      "Current minimum: -0.3089\n",
      "Iteration No: 190 started. Searching for the next optimal point.\n",
      "[0.03988792962653662, 931, 5, 'log2', 6, 3]\n",
      "Iteration No: 190 ended. Search finished for the next optimal point.\n",
      "Time taken: 5.2718\n",
      "Function value obtained: -0.1902\n",
      "Current minimum: -0.3089\n",
      "Iteration No: 191 started. Searching for the next optimal point.\n",
      "[0.08246581495925928, 658, 5, 'log2', 2, 3]\n",
      "Iteration No: 191 ended. Search finished for the next optimal point.\n",
      "Time taken: 5.7518\n",
      "Function value obtained: -0.2113\n",
      "Current minimum: -0.3089\n",
      "Iteration No: 192 started. Searching for the next optimal point.\n",
      "[0.08228121344767308, 666, 5, 'log2', 5, 1]\n",
      "Iteration No: 192 ended. Search finished for the next optimal point.\n",
      "Time taken: 4.6087\n",
      "Function value obtained: -0.1398\n",
      "Current minimum: -0.3089\n",
      "Iteration No: 193 started. Searching for the next optimal point.\n",
      "[0.07025860312920656, 100, 2, 'auto', 2, 3]\n",
      "Iteration No: 193 ended. Search finished for the next optimal point.\n",
      "Time taken: 5.9292\n",
      "Function value obtained: -0.2664\n",
      "Current minimum: -0.3089\n",
      "Iteration No: 194 started. Searching for the next optimal point.\n",
      "[0.03702799678568624, 862, 2, 'sqrt', 2, 2]\n",
      "Iteration No: 194 ended. Search finished for the next optimal point.\n",
      "Time taken: 5.8841\n",
      "Function value obtained: -0.2866\n",
      "Current minimum: -0.3089\n",
      "Iteration No: 195 started. Searching for the next optimal point.\n",
      "[0.04280464044851175, 652, 2, 'sqrt', 2, 2]\n",
      "Iteration No: 195 ended. Search finished for the next optimal point.\n",
      "Time taken: 5.1606\n",
      "Function value obtained: -0.2600\n",
      "Current minimum: -0.3089\n",
      "Iteration No: 196 started. Searching for the next optimal point.\n",
      "[0.1, 100, 2, 'auto', 5, 3]\n"
     ]
    },
    {
     "name": "stderr",
     "output_type": "stream",
     "text": [
      "/home/carcook/anaconda3/envs/TCGA-round1/lib/python3.8/site-packages/skopt/optimizer/optimizer.py:449: UserWarning: The objective has been evaluated at this point before.\n",
      "  warnings.warn(\"The objective has been evaluated \"\n"
     ]
    },
    {
     "name": "stdout",
     "output_type": "stream",
     "text": [
      "Iteration No: 196 ended. Search finished for the next optimal point.\n",
      "Time taken: 5.1292\n",
      "Function value obtained: -0.2667\n",
      "Current minimum: -0.3089\n",
      "Iteration No: 197 started. Searching for the next optimal point.\n",
      "[0.1, 1000, 2, 'log2', 2, 3]\n",
      "Iteration No: 197 ended. Search finished for the next optimal point.\n",
      "Time taken: 8.5020\n",
      "Function value obtained: -0.3178\n",
      "Current minimum: -0.3178\n",
      "Iteration No: 198 started. Searching for the next optimal point.\n",
      "[0.1, 1000, 2, 'log2', 2, 3]\n"
     ]
    },
    {
     "name": "stderr",
     "output_type": "stream",
     "text": [
      "/home/carcook/anaconda3/envs/TCGA-round1/lib/python3.8/site-packages/skopt/optimizer/optimizer.py:449: UserWarning: The objective has been evaluated at this point before.\n",
      "  warnings.warn(\"The objective has been evaluated \"\n"
     ]
    },
    {
     "name": "stdout",
     "output_type": "stream",
     "text": [
      "Iteration No: 198 ended. Search finished for the next optimal point.\n",
      "Time taken: 5.8026\n",
      "Function value obtained: -0.1076\n",
      "Current minimum: -0.3178\n",
      "Iteration No: 199 started. Searching for the next optimal point.\n",
      "[0.1, 100, 2, 'sqrt', 6, 3]\n",
      "Iteration No: 199 ended. Search finished for the next optimal point.\n",
      "Time taken: 5.2883\n",
      "Function value obtained: -0.2931\n",
      "Current minimum: -0.3178\n",
      "Iteration No: 200 started. Searching for the next optimal point.\n",
      "[0.1, 100, 3, 'sqrt', 6, 3]\n",
      "Iteration No: 200 ended. Search finished for the next optimal point.\n",
      "Time taken: 4.8641\n",
      "Function value obtained: -0.1723\n",
      "Current minimum: -0.3178\n",
      "Iteration No: 201 started. Searching for the next optimal point.\n",
      "[0.1, 784, 5, 'log2', 2, 1]\n",
      "Iteration No: 201 ended. Search finished for the next optimal point.\n",
      "Time taken: 5.3015\n",
      "Function value obtained: 0.0686\n",
      "Current minimum: -0.3178\n",
      "Iteration No: 202 started. Searching for the next optimal point.\n",
      "[0.04178657976510489, 1000, 2, 'sqrt', 4, 1]\n",
      "Iteration No: 202 ended. Search finished for the next optimal point.\n",
      "Time taken: 5.6679\n",
      "Function value obtained: -0.2200\n",
      "Current minimum: -0.3178\n",
      "Iteration No: 203 started. Searching for the next optimal point.\n",
      "[0.05070443959619165, 1000, 5, 'sqrt', 6, 3]\n",
      "Iteration No: 203 ended. Search finished for the next optimal point.\n",
      "Time taken: 5.6009\n",
      "Function value obtained: -0.1390\n",
      "Current minimum: -0.3178\n",
      "Iteration No: 204 started. Searching for the next optimal point.\n",
      "[0.0543448586709415, 438, 2, 'auto', 6, 3]\n",
      "Iteration No: 204 ended. Search finished for the next optimal point.\n",
      "Time taken: 7.6457\n",
      "Function value obtained: -0.2550\n",
      "Current minimum: -0.3178\n",
      "Iteration No: 205 started. Searching for the next optimal point.\n",
      "[0.1, 442, 2, 'sqrt', 6, 3]\n",
      "Iteration No: 205 ended. Search finished for the next optimal point.\n",
      "Time taken: 4.9915\n",
      "Function value obtained: -0.2139\n",
      "Current minimum: -0.3178\n",
      "Iteration No: 206 started. Searching for the next optimal point.\n",
      "[0.02861316762371226, 1000, 2, 'auto', 2, 1]\n",
      "Iteration No: 206 ended. Search finished for the next optimal point.\n",
      "Time taken: 11.4362\n",
      "Function value obtained: -0.2302\n",
      "Current minimum: -0.3178\n",
      "Iteration No: 207 started. Searching for the next optimal point.\n",
      "[0.1, 100, 4, 'sqrt', 4, 1]\n",
      "Iteration No: 207 ended. Search finished for the next optimal point.\n",
      "Time taken: 5.3412\n",
      "Function value obtained: -0.1611\n",
      "Current minimum: -0.3178\n",
      "Iteration No: 208 started. Searching for the next optimal point.\n",
      "[0.05313743653296738, 1000, 2, 'auto', 6, 3]\n",
      "Iteration No: 208 ended. Search finished for the next optimal point.\n",
      "Time taken: 12.1562\n",
      "Function value obtained: -0.2564\n",
      "Current minimum: -0.3178\n",
      "Iteration No: 209 started. Searching for the next optimal point.\n",
      "[0.1, 100, 4, 'log2', 5, 3]\n",
      "Iteration No: 209 ended. Search finished for the next optimal point.\n",
      "Time taken: 5.5893\n",
      "Function value obtained: -0.1187\n",
      "Current minimum: -0.3178\n",
      "Iteration No: 210 started. Searching for the next optimal point.\n",
      "[0.1, 100, 2, 'auto', 6, 1]\n"
     ]
    },
    {
     "name": "stderr",
     "output_type": "stream",
     "text": [
      "/home/carcook/anaconda3/envs/TCGA-round1/lib/python3.8/site-packages/skopt/optimizer/optimizer.py:449: UserWarning: The objective has been evaluated at this point before.\n",
      "  warnings.warn(\"The objective has been evaluated \"\n"
     ]
    },
    {
     "name": "stdout",
     "output_type": "stream",
     "text": [
      "Iteration No: 210 ended. Search finished for the next optimal point.\n",
      "Time taken: 5.5996\n",
      "Function value obtained: -0.2881\n",
      "Current minimum: -0.3178\n",
      "Iteration No: 211 started. Searching for the next optimal point.\n",
      "[0.1, 100, 2, 'auto', 2, 1]\n"
     ]
    },
    {
     "name": "stderr",
     "output_type": "stream",
     "text": [
      "/home/carcook/anaconda3/envs/TCGA-round1/lib/python3.8/site-packages/skopt/optimizer/optimizer.py:449: UserWarning: The objective has been evaluated at this point before.\n",
      "  warnings.warn(\"The objective has been evaluated \"\n"
     ]
    },
    {
     "name": "stdout",
     "output_type": "stream",
     "text": [
      "Iteration No: 211 ended. Search finished for the next optimal point.\n",
      "Time taken: 6.0700\n",
      "Function value obtained: -0.2891\n",
      "Current minimum: -0.3178\n",
      "Iteration No: 212 started. Searching for the next optimal point.\n",
      "[0.07252035860856251, 597, 2, 'auto', 2, 3]\n",
      "Iteration No: 212 ended. Search finished for the next optimal point.\n",
      "Time taken: 9.5170\n",
      "Function value obtained: -0.2853\n",
      "Current minimum: -0.3178\n",
      "Iteration No: 213 started. Searching for the next optimal point.\n",
      "[0.025038923314223163, 1000, 2, 'auto', 6, 1]\n",
      "Iteration No: 213 ended. Search finished for the next optimal point.\n",
      "Time taken: 11.8035\n",
      "Function value obtained: -0.2601\n",
      "Current minimum: -0.3178\n",
      "Iteration No: 214 started. Searching for the next optimal point.\n",
      "[0.024688697486459948, 1000, 2, 'auto', 6, 1]\n",
      "Iteration No: 214 ended. Search finished for the next optimal point.\n",
      "Time taken: 12.7756\n",
      "Function value obtained: -0.2739\n",
      "Current minimum: -0.3178\n",
      "Iteration No: 215 started. Searching for the next optimal point.\n",
      "[0.08898846953965928, 100, 2, 'auto', 2, 1]\n",
      "Iteration No: 215 ended. Search finished for the next optimal point.\n",
      "Time taken: 6.3764\n",
      "Function value obtained: -0.2548\n",
      "Current minimum: -0.3178\n",
      "Iteration No: 216 started. Searching for the next optimal point.\n",
      "[0.06961765028711672, 502, 5, 'log2', 2, 3]\n",
      "Iteration No: 216 ended. Search finished for the next optimal point.\n",
      "Time taken: 6.0476\n",
      "Function value obtained: -0.2026\n",
      "Current minimum: -0.3178\n",
      "Iteration No: 217 started. Searching for the next optimal point.\n",
      "[0.025782459057370546, 1000, 2, 'auto', 6, 1]\n",
      "Iteration No: 217 ended. Search finished for the next optimal point.\n",
      "Time taken: 12.7545\n",
      "Function value obtained: -0.2648\n",
      "Current minimum: -0.3178\n",
      "Iteration No: 218 started. Searching for the next optimal point.\n",
      "[0.1, 494, 2, 'auto', 6, 1]\n",
      "Iteration No: 218 ended. Search finished for the next optimal point.\n",
      "Time taken: 9.4043\n",
      "Function value obtained: -0.2884\n",
      "Current minimum: -0.3178\n",
      "Iteration No: 219 started. Searching for the next optimal point.\n",
      "[0.07389960461551587, 432, 2, 'auto', 6, 3]\n",
      "Iteration No: 219 ended. Search finished for the next optimal point.\n",
      "Time taken: 9.1981\n",
      "Function value obtained: -0.2583\n",
      "Current minimum: -0.3178\n",
      "Iteration No: 220 started. Searching for the next optimal point.\n",
      "[0.1, 514, 2, 'auto', 6, 1]\n",
      "Iteration No: 220 ended. Search finished for the next optimal point.\n",
      "Time taken: 9.3561\n",
      "Function value obtained: -0.2931\n",
      "Current minimum: -0.3178\n",
      "Iteration No: 221 started. Searching for the next optimal point.\n",
      "[0.07374727399384363, 504, 5, 'sqrt', 2, 3]\n",
      "Iteration No: 221 ended. Search finished for the next optimal point.\n",
      "Time taken: 7.5506\n",
      "Function value obtained: -0.2046\n",
      "Current minimum: -0.3178\n",
      "Iteration No: 222 started. Searching for the next optimal point.\n",
      "[0.026414016003344327, 1000, 2, 'auto', 6, 1]\n",
      "Iteration No: 222 ended. Search finished for the next optimal point.\n",
      "Time taken: 13.8042\n",
      "Function value obtained: -0.2679\n",
      "Current minimum: -0.3178\n",
      "Iteration No: 223 started. Searching for the next optimal point.\n",
      "[0.1, 581, 2, 'auto', 6, 1]\n",
      "Iteration No: 223 ended. Search finished for the next optimal point.\n",
      "Time taken: 10.2485\n",
      "Function value obtained: -0.2829\n",
      "Current minimum: -0.3178\n",
      "Iteration No: 224 started. Searching for the next optimal point.\n",
      "[0.02712441019544891, 1000, 2, 'log2', 3, 1]\n",
      "Iteration No: 224 ended. Search finished for the next optimal point.\n",
      "Time taken: 6.8489\n",
      "Function value obtained: -0.2364\n",
      "Current minimum: -0.3178\n",
      "Iteration No: 225 started. Searching for the next optimal point.\n",
      "[0.1, 348, 2, 'auto', 6, 1]\n",
      "Iteration No: 225 ended. Search finished for the next optimal point.\n",
      "Time taken: 8.2905\n",
      "Function value obtained: -0.2643\n",
      "Current minimum: -0.3178\n",
      "Iteration No: 226 started. Searching for the next optimal point.\n",
      "[0.07428620726496206, 100, 2, 'auto', 6, 3]\n",
      "Iteration No: 226 ended. Search finished for the next optimal point.\n",
      "Time taken: 6.7877\n",
      "Function value obtained: -0.2778\n",
      "Current minimum: -0.3178\n",
      "Iteration No: 227 started. Searching for the next optimal point.\n",
      "[0.061315777174215935, 100, 2, 'auto', 6, 3]\n",
      "Iteration No: 227 ended. Search finished for the next optimal point.\n",
      "Time taken: 7.9539\n",
      "Function value obtained: -0.2521\n",
      "Current minimum: -0.3178\n",
      "Iteration No: 228 started. Searching for the next optimal point.\n",
      "[0.07946530007068968, 100, 2, 'auto', 2, 3]\n",
      "Iteration No: 228 ended. Search finished for the next optimal point.\n",
      "Time taken: 10.4849\n",
      "Function value obtained: -0.2096\n",
      "Current minimum: -0.3178\n",
      "Iteration No: 229 started. Searching for the next optimal point.\n",
      "[0.1, 1000, 3, 'auto', 6, 3]\n",
      "Iteration No: 229 ended. Search finished for the next optimal point.\n",
      "Time taken: 15.7629\n",
      "Function value obtained: -0.1619\n",
      "Current minimum: -0.3178\n",
      "Iteration No: 230 started. Searching for the next optimal point.\n",
      "[0.1, 100, 2, 'auto', 6, 1]\n"
     ]
    },
    {
     "name": "stderr",
     "output_type": "stream",
     "text": [
      "/home/carcook/anaconda3/envs/TCGA-round1/lib/python3.8/site-packages/skopt/optimizer/optimizer.py:449: UserWarning: The objective has been evaluated at this point before.\n",
      "  warnings.warn(\"The objective has been evaluated \"\n"
     ]
    },
    {
     "name": "stdout",
     "output_type": "stream",
     "text": [
      "Iteration No: 230 ended. Search finished for the next optimal point.\n",
      "Time taken: 8.3963\n",
      "Function value obtained: -0.2924\n",
      "Current minimum: -0.3178\n",
      "Iteration No: 231 started. Searching for the next optimal point.\n",
      "[0.02686492825044459, 1000, 2, 'auto', 6, 1]\n",
      "Iteration No: 231 ended. Search finished for the next optimal point.\n",
      "Time taken: 13.5180\n",
      "Function value obtained: -0.2632\n",
      "Current minimum: -0.3178\n",
      "Iteration No: 232 started. Searching for the next optimal point.\n",
      "[0.1, 100, 2, 'auto', 6, 1]\n"
     ]
    },
    {
     "name": "stderr",
     "output_type": "stream",
     "text": [
      "/home/carcook/anaconda3/envs/TCGA-round1/lib/python3.8/site-packages/skopt/optimizer/optimizer.py:449: UserWarning: The objective has been evaluated at this point before.\n",
      "  warnings.warn(\"The objective has been evaluated \"\n"
     ]
    },
    {
     "name": "stdout",
     "output_type": "stream",
     "text": [
      "Iteration No: 232 ended. Search finished for the next optimal point.\n",
      "Time taken: 8.1205\n",
      "Function value obtained: -0.2797\n",
      "Current minimum: -0.3178\n",
      "Iteration No: 233 started. Searching for the next optimal point.\n",
      "[0.1, 311, 2, 'auto', 6, 1]\n",
      "Iteration No: 233 ended. Search finished for the next optimal point.\n",
      "Time taken: 9.0594\n",
      "Function value obtained: -0.2873\n",
      "Current minimum: -0.3178\n",
      "Iteration No: 234 started. Searching for the next optimal point.\n",
      "[0.1, 654, 2, 'auto', 6, 1]\n",
      "Iteration No: 234 ended. Search finished for the next optimal point.\n",
      "Time taken: 13.2338\n",
      "Function value obtained: -0.2897\n",
      "Current minimum: -0.3178\n",
      "Iteration No: 235 started. Searching for the next optimal point.\n",
      "[0.1, 668, 2, 'auto', 6, 1]\n",
      "Iteration No: 235 ended. Search finished for the next optimal point.\n",
      "Time taken: 12.0571\n",
      "Function value obtained: -0.2730\n",
      "Current minimum: -0.3178\n",
      "Iteration No: 236 started. Searching for the next optimal point.\n",
      "[0.1, 321, 2, 'auto', 6, 1]\n",
      "Iteration No: 236 ended. Search finished for the next optimal point.\n",
      "Time taken: 9.0002\n",
      "Function value obtained: -0.2794\n",
      "Current minimum: -0.3178\n",
      "Iteration No: 237 started. Searching for the next optimal point.\n",
      "[0.03453625962549006, 631, 2, 'sqrt', 6, 3]\n",
      "Iteration No: 237 ended. Search finished for the next optimal point.\n",
      "Time taken: 6.7049\n",
      "Function value obtained: -0.2145\n",
      "Current minimum: -0.3178\n",
      "Iteration No: 238 started. Searching for the next optimal point.\n",
      "[0.1, 100, 2, 'auto', 6, 1]\n"
     ]
    },
    {
     "name": "stderr",
     "output_type": "stream",
     "text": [
      "/home/carcook/anaconda3/envs/TCGA-round1/lib/python3.8/site-packages/skopt/optimizer/optimizer.py:449: UserWarning: The objective has been evaluated at this point before.\n",
      "  warnings.warn(\"The objective has been evaluated \"\n"
     ]
    },
    {
     "name": "stdout",
     "output_type": "stream",
     "text": [
      "Iteration No: 238 ended. Search finished for the next optimal point.\n",
      "Time taken: 8.3133\n",
      "Function value obtained: -0.2881\n",
      "Current minimum: -0.3178\n",
      "Iteration No: 239 started. Searching for the next optimal point.\n",
      "[0.1, 100, 2, 'auto', 6, 1]\n"
     ]
    },
    {
     "name": "stderr",
     "output_type": "stream",
     "text": [
      "/home/carcook/anaconda3/envs/TCGA-round1/lib/python3.8/site-packages/skopt/optimizer/optimizer.py:449: UserWarning: The objective has been evaluated at this point before.\n",
      "  warnings.warn(\"The objective has been evaluated \"\n"
     ]
    },
    {
     "name": "stdout",
     "output_type": "stream",
     "text": [
      "Iteration No: 239 ended. Search finished for the next optimal point.\n",
      "Time taken: 7.5180\n",
      "Function value obtained: -0.2797\n",
      "Current minimum: -0.3178\n",
      "Iteration No: 240 started. Searching for the next optimal point.\n",
      "[0.1, 100, 2, 'auto', 6, 1]\n"
     ]
    },
    {
     "name": "stderr",
     "output_type": "stream",
     "text": [
      "/home/carcook/anaconda3/envs/TCGA-round1/lib/python3.8/site-packages/skopt/optimizer/optimizer.py:449: UserWarning: The objective has been evaluated at this point before.\n",
      "  warnings.warn(\"The objective has been evaluated \"\n"
     ]
    },
    {
     "name": "stdout",
     "output_type": "stream",
     "text": [
      "Iteration No: 240 ended. Search finished for the next optimal point.\n",
      "Time taken: 7.4261\n",
      "Function value obtained: -0.2822\n",
      "Current minimum: -0.3178\n",
      "Iteration No: 241 started. Searching for the next optimal point.\n",
      "[0.1, 352, 2, 'auto', 6, 1]\n",
      "Iteration No: 241 ended. Search finished for the next optimal point.\n",
      "Time taken: 9.4806\n",
      "Function value obtained: -0.2824\n",
      "Current minimum: -0.3178\n",
      "Iteration No: 242 started. Searching for the next optimal point.\n",
      "[0.1, 502, 2, 'auto', 6, 2]\n",
      "Iteration No: 242 ended. Search finished for the next optimal point.\n",
      "Time taken: 13.7551\n",
      "Function value obtained: -0.2664\n",
      "Current minimum: -0.3178\n",
      "Iteration No: 243 started. Searching for the next optimal point.\n",
      "[0.1, 100, 2, 'auto', 6, 1]\n"
     ]
    },
    {
     "name": "stderr",
     "output_type": "stream",
     "text": [
      "/home/carcook/anaconda3/envs/TCGA-round1/lib/python3.8/site-packages/skopt/optimizer/optimizer.py:449: UserWarning: The objective has been evaluated at this point before.\n",
      "  warnings.warn(\"The objective has been evaluated \"\n"
     ]
    },
    {
     "name": "stdout",
     "output_type": "stream",
     "text": [
      "Iteration No: 243 ended. Search finished for the next optimal point.\n",
      "Time taken: 8.7044\n",
      "Function value obtained: -0.3031\n",
      "Current minimum: -0.3178\n",
      "Iteration No: 244 started. Searching for the next optimal point.\n",
      "[0.1, 100, 2, 'auto', 6, 1]\n"
     ]
    },
    {
     "name": "stderr",
     "output_type": "stream",
     "text": [
      "/home/carcook/anaconda3/envs/TCGA-round1/lib/python3.8/site-packages/skopt/optimizer/optimizer.py:449: UserWarning: The objective has been evaluated at this point before.\n",
      "  warnings.warn(\"The objective has been evaluated \"\n"
     ]
    },
    {
     "name": "stdout",
     "output_type": "stream",
     "text": [
      "Iteration No: 244 ended. Search finished for the next optimal point.\n",
      "Time taken: 8.2583\n",
      "Function value obtained: -0.2823\n",
      "Current minimum: -0.3178\n",
      "Iteration No: 245 started. Searching for the next optimal point.\n",
      "[0.0642541093876293, 630, 2, 'auto', 6, 3]\n",
      "Iteration No: 245 ended. Search finished for the next optimal point.\n",
      "Time taken: 12.0371\n",
      "Function value obtained: -0.2230\n",
      "Current minimum: -0.3178\n",
      "Iteration No: 246 started. Searching for the next optimal point.\n",
      "[0.1, 347, 2, 'auto', 2, 1]\n",
      "Iteration No: 246 ended. Search finished for the next optimal point.\n",
      "Time taken: 11.1914\n",
      "Function value obtained: -0.2655\n",
      "Current minimum: -0.3178\n",
      "Iteration No: 247 started. Searching for the next optimal point.\n",
      "[0.1, 100, 2, 'auto', 6, 1]\n"
     ]
    },
    {
     "name": "stderr",
     "output_type": "stream",
     "text": [
      "/home/carcook/anaconda3/envs/TCGA-round1/lib/python3.8/site-packages/skopt/optimizer/optimizer.py:449: UserWarning: The objective has been evaluated at this point before.\n",
      "  warnings.warn(\"The objective has been evaluated \"\n"
     ]
    },
    {
     "name": "stdout",
     "output_type": "stream",
     "text": [
      "Iteration No: 247 ended. Search finished for the next optimal point.\n",
      "Time taken: 8.8799\n",
      "Function value obtained: -0.2945\n",
      "Current minimum: -0.3178\n",
      "Iteration No: 248 started. Searching for the next optimal point.\n",
      "[0.1, 100, 2, 'auto', 6, 1]\n"
     ]
    },
    {
     "name": "stderr",
     "output_type": "stream",
     "text": [
      "/home/carcook/anaconda3/envs/TCGA-round1/lib/python3.8/site-packages/skopt/optimizer/optimizer.py:449: UserWarning: The objective has been evaluated at this point before.\n",
      "  warnings.warn(\"The objective has been evaluated \"\n"
     ]
    },
    {
     "name": "stdout",
     "output_type": "stream",
     "text": [
      "Iteration No: 248 ended. Search finished for the next optimal point.\n",
      "Time taken: 7.3714\n",
      "Function value obtained: -0.2641\n",
      "Current minimum: -0.3178\n",
      "Iteration No: 249 started. Searching for the next optimal point.\n",
      "[0.1, 694, 2, 'auto', 6, 1]\n",
      "Iteration No: 249 ended. Search finished for the next optimal point.\n",
      "Time taken: 11.3462\n",
      "Function value obtained: -0.2611\n",
      "Current minimum: -0.3178\n",
      "Iteration No: 250 started. Searching for the next optimal point.\n",
      "[0.1, 100, 2, 'auto', 6, 1]\n"
     ]
    },
    {
     "name": "stderr",
     "output_type": "stream",
     "text": [
      "/home/carcook/anaconda3/envs/TCGA-round1/lib/python3.8/site-packages/skopt/optimizer/optimizer.py:449: UserWarning: The objective has been evaluated at this point before.\n",
      "  warnings.warn(\"The objective has been evaluated \"\n"
     ]
    },
    {
     "name": "stdout",
     "output_type": "stream",
     "text": [
      "Iteration No: 250 ended. Search finished for the next optimal point.\n",
      "Time taken: 8.4145\n",
      "Function value obtained: -0.2808\n",
      "Current minimum: -0.3178\n",
      "Iteration No: 251 started. Searching for the next optimal point.\n",
      "[0.1, 299, 2, 'auto', 6, 1]\n",
      "Iteration No: 251 ended. Search finished for the next optimal point.\n",
      "Time taken: 9.5584\n",
      "Function value obtained: -0.2751\n",
      "Current minimum: -0.3178\n",
      "Iteration No: 252 started. Searching for the next optimal point.\n",
      "[0.07449843351762891, 557, 4, 'log2', 6, 3]\n",
      "Iteration No: 252 ended. Search finished for the next optimal point.\n",
      "Time taken: 7.6174\n",
      "Function value obtained: -0.2152\n",
      "Current minimum: -0.3178\n",
      "Iteration No: 253 started. Searching for the next optimal point.\n",
      "[0.0885990648282348, 100, 2, 'auto', 6, 1]\n",
      "Iteration No: 253 ended. Search finished for the next optimal point.\n",
      "Time taken: 8.5181\n",
      "Function value obtained: -0.2622\n",
      "Current minimum: -0.3178\n",
      "Iteration No: 254 started. Searching for the next optimal point.\n",
      "[0.1, 100, 2, 'auto', 6, 1]\n"
     ]
    },
    {
     "name": "stderr",
     "output_type": "stream",
     "text": [
      "/home/carcook/anaconda3/envs/TCGA-round1/lib/python3.8/site-packages/skopt/optimizer/optimizer.py:449: UserWarning: The objective has been evaluated at this point before.\n",
      "  warnings.warn(\"The objective has been evaluated \"\n"
     ]
    },
    {
     "name": "stdout",
     "output_type": "stream",
     "text": [
      "Iteration No: 254 ended. Search finished for the next optimal point.\n",
      "Time taken: 8.4786\n",
      "Function value obtained: -0.3105\n",
      "Current minimum: -0.3178\n",
      "Iteration No: 255 started. Searching for the next optimal point.\n",
      "[0.1, 100, 2, 'auto', 6, 1]\n"
     ]
    },
    {
     "name": "stderr",
     "output_type": "stream",
     "text": [
      "/home/carcook/anaconda3/envs/TCGA-round1/lib/python3.8/site-packages/skopt/optimizer/optimizer.py:449: UserWarning: The objective has been evaluated at this point before.\n",
      "  warnings.warn(\"The objective has been evaluated \"\n"
     ]
    },
    {
     "name": "stdout",
     "output_type": "stream",
     "text": [
      "Iteration No: 255 ended. Search finished for the next optimal point.\n",
      "Time taken: 10.5962\n",
      "Function value obtained: -0.2967\n",
      "Current minimum: -0.3178\n",
      "Iteration No: 256 started. Searching for the next optimal point.\n",
      "[0.1, 100, 2, 'auto', 6, 1]\n"
     ]
    },
    {
     "name": "stderr",
     "output_type": "stream",
     "text": [
      "/home/carcook/anaconda3/envs/TCGA-round1/lib/python3.8/site-packages/skopt/optimizer/optimizer.py:449: UserWarning: The objective has been evaluated at this point before.\n",
      "  warnings.warn(\"The objective has been evaluated \"\n"
     ]
    },
    {
     "name": "stdout",
     "output_type": "stream",
     "text": [
      "Iteration No: 256 ended. Search finished for the next optimal point.\n",
      "Time taken: 8.6164\n",
      "Function value obtained: -0.2688\n",
      "Current minimum: -0.3178\n",
      "Iteration No: 257 started. Searching for the next optimal point.\n",
      "[0.1, 280, 2, 'auto', 6, 1]\n",
      "Iteration No: 257 ended. Search finished for the next optimal point.\n",
      "Time taken: 10.0578\n",
      "Function value obtained: -0.2905\n",
      "Current minimum: -0.3178\n",
      "Iteration No: 258 started. Searching for the next optimal point.\n",
      "[0.08627523442170675, 645, 2, 'auto', 6, 3]\n",
      "Iteration No: 258 ended. Search finished for the next optimal point.\n",
      "Time taken: 12.1544\n",
      "Function value obtained: -0.2412\n",
      "Current minimum: -0.3178\n",
      "Iteration No: 259 started. Searching for the next optimal point.\n",
      "[0.04163911965446309, 1000, 2, 'auto', 6, 2]\n",
      "Iteration No: 259 ended. Search finished for the next optimal point.\n",
      "Time taken: 14.2405\n",
      "Function value obtained: -0.2775\n",
      "Current minimum: -0.3178\n",
      "Iteration No: 260 started. Searching for the next optimal point.\n",
      "[0.04319107793895823, 1000, 2, 'auto', 6, 1]\n",
      "Iteration No: 260 ended. Search finished for the next optimal point.\n",
      "Time taken: 15.2911\n",
      "Function value obtained: -0.2843\n",
      "Current minimum: -0.3178\n",
      "Iteration No: 261 started. Searching for the next optimal point.\n",
      "[0.04345366364580635, 1000, 2, 'auto', 6, 1]\n",
      "Iteration No: 261 ended. Search finished for the next optimal point.\n",
      "Time taken: 15.3158\n",
      "Function value obtained: -0.2633\n",
      "Current minimum: -0.3178\n",
      "Iteration No: 262 started. Searching for the next optimal point.\n",
      "[0.1, 277, 2, 'auto', 6, 1]\n",
      "Iteration No: 262 ended. Search finished for the next optimal point.\n",
      "Time taken: 10.0331\n",
      "Function value obtained: -0.2884\n",
      "Current minimum: -0.3178\n",
      "Iteration No: 263 started. Searching for the next optimal point.\n",
      "[0.038826128716601745, 625, 2, 'sqrt', 6, 1]\n",
      "Iteration No: 263 ended. Search finished for the next optimal point.\n",
      "Time taken: 9.1780\n",
      "Function value obtained: -0.2725\n",
      "Current minimum: -0.3178\n",
      "Iteration No: 264 started. Searching for the next optimal point.\n",
      "[0.033333652990205916, 680, 2, 'sqrt', 2, 1]\n",
      "Iteration No: 264 ended. Search finished for the next optimal point.\n",
      "Time taken: 8.3191\n",
      "Function value obtained: -0.2480\n",
      "Current minimum: -0.3178\n",
      "Iteration No: 265 started. Searching for the next optimal point.\n",
      "[0.07504447823576003, 977, 2, 'sqrt', 6, 1]\n",
      "Iteration No: 265 ended. Search finished for the next optimal point.\n",
      "Time taken: 8.9163\n",
      "Function value obtained: -0.1542\n",
      "Current minimum: -0.3178\n",
      "Iteration No: 266 started. Searching for the next optimal point.\n",
      "[0.1, 276, 2, 'auto', 6, 1]\n",
      "Iteration No: 266 ended. Search finished for the next optimal point.\n",
      "Time taken: 9.8845\n",
      "Function value obtained: -0.3015\n",
      "Current minimum: -0.3178\n",
      "Iteration No: 267 started. Searching for the next optimal point.\n",
      "[0.040452841920829694, 1000, 2, 'auto', 6, 2]\n",
      "Iteration No: 267 ended. Search finished for the next optimal point.\n",
      "Time taken: 15.3932\n",
      "Function value obtained: -0.2644\n",
      "Current minimum: -0.3178\n",
      "Iteration No: 268 started. Searching for the next optimal point.\n",
      "[0.1, 276, 2, 'auto', 6, 1]\n"
     ]
    },
    {
     "name": "stderr",
     "output_type": "stream",
     "text": [
      "/home/carcook/anaconda3/envs/TCGA-round1/lib/python3.8/site-packages/skopt/optimizer/optimizer.py:449: UserWarning: The objective has been evaluated at this point before.\n",
      "  warnings.warn(\"The objective has been evaluated \"\n"
     ]
    },
    {
     "name": "stdout",
     "output_type": "stream",
     "text": [
      "Iteration No: 268 ended. Search finished for the next optimal point.\n",
      "Time taken: 9.8154\n",
      "Function value obtained: -0.2716\n",
      "Current minimum: -0.3178\n",
      "Iteration No: 269 started. Searching for the next optimal point.\n",
      "[0.1, 100, 2, 'auto', 6, 1]\n"
     ]
    },
    {
     "name": "stderr",
     "output_type": "stream",
     "text": [
      "/home/carcook/anaconda3/envs/TCGA-round1/lib/python3.8/site-packages/skopt/optimizer/optimizer.py:449: UserWarning: The objective has been evaluated at this point before.\n",
      "  warnings.warn(\"The objective has been evaluated \"\n"
     ]
    },
    {
     "name": "stdout",
     "output_type": "stream",
     "text": [
      "Iteration No: 269 ended. Search finished for the next optimal point.\n",
      "Time taken: 9.4545\n",
      "Function value obtained: -0.2691\n",
      "Current minimum: -0.3178\n",
      "Iteration No: 270 started. Searching for the next optimal point.\n",
      "[0.1, 291, 2, 'auto', 6, 1]\n",
      "Iteration No: 270 ended. Search finished for the next optimal point.\n",
      "Time taken: 11.3138\n",
      "Function value obtained: -0.2805\n",
      "Current minimum: -0.3178\n",
      "Iteration No: 271 started. Searching for the next optimal point.\n",
      "[0.04394827005592051, 712, 2, 'sqrt', 6, 2]\n",
      "Iteration No: 271 ended. Search finished for the next optimal point.\n",
      "Time taken: 8.5322\n",
      "Function value obtained: -0.1986\n",
      "Current minimum: -0.3178\n",
      "Iteration No: 272 started. Searching for the next optimal point.\n",
      "[0.1, 521, 2, 'auto', 2, 1]\n",
      "Iteration No: 272 ended. Search finished for the next optimal point.\n",
      "Time taken: 11.9280\n",
      "Function value obtained: -0.2712\n",
      "Current minimum: -0.3178\n",
      "Iteration No: 273 started. Searching for the next optimal point.\n",
      "[0.1, 276, 2, 'auto', 6, 1]\n"
     ]
    },
    {
     "name": "stderr",
     "output_type": "stream",
     "text": [
      "/home/carcook/anaconda3/envs/TCGA-round1/lib/python3.8/site-packages/skopt/optimizer/optimizer.py:449: UserWarning: The objective has been evaluated at this point before.\n",
      "  warnings.warn(\"The objective has been evaluated \"\n"
     ]
    },
    {
     "name": "stdout",
     "output_type": "stream",
     "text": [
      "Iteration No: 273 ended. Search finished for the next optimal point.\n",
      "Time taken: 11.0973\n",
      "Function value obtained: -0.2838\n",
      "Current minimum: -0.3178\n",
      "Iteration No: 274 started. Searching for the next optimal point.\n",
      "[0.1, 268, 2, 'auto', 6, 1]\n",
      "Iteration No: 274 ended. Search finished for the next optimal point.\n",
      "Time taken: 10.8790\n",
      "Function value obtained: -0.2728\n",
      "Current minimum: -0.3178\n",
      "Iteration No: 275 started. Searching for the next optimal point.\n",
      "[0.1, 100, 2, 'auto', 2, 1]\n"
     ]
    },
    {
     "name": "stderr",
     "output_type": "stream",
     "text": [
      "/home/carcook/anaconda3/envs/TCGA-round1/lib/python3.8/site-packages/skopt/optimizer/optimizer.py:449: UserWarning: The objective has been evaluated at this point before.\n",
      "  warnings.warn(\"The objective has been evaluated \"\n"
     ]
    },
    {
     "name": "stdout",
     "output_type": "stream",
     "text": [
      "Iteration No: 275 ended. Search finished for the next optimal point.\n",
      "Time taken: 8.5284\n",
      "Function value obtained: -0.2631\n",
      "Current minimum: -0.3178\n",
      "Iteration No: 276 started. Searching for the next optimal point.\n",
      "[0.08483858690338833, 719, 2, 'sqrt', 2, 3]\n",
      "Iteration No: 276 ended. Search finished for the next optimal point.\n",
      "Time taken: 8.8667\n",
      "Function value obtained: -0.0699\n",
      "Current minimum: -0.3178\n",
      "Iteration No: 277 started. Searching for the next optimal point.\n",
      "[0.1, 100, 2, 'sqrt', 6, 1]\n",
      "Iteration No: 277 ended. Search finished for the next optimal point.\n",
      "Time taken: 8.2824\n",
      "Function value obtained: -0.2402\n",
      "Current minimum: -0.3178\n",
      "Iteration No: 278 started. Searching for the next optimal point.\n",
      "[0.06600094974899512, 100, 2, 'sqrt', 6, 1]\n",
      "Iteration No: 278 ended. Search finished for the next optimal point.\n",
      "Time taken: 9.2954\n",
      "Function value obtained: -0.2345\n",
      "Current minimum: -0.3178\n",
      "Iteration No: 279 started. Searching for the next optimal point.\n",
      "[0.02655964068180117, 1000, 2, 'sqrt', 2, 3]\n",
      "Iteration No: 279 ended. Search finished for the next optimal point.\n",
      "Time taken: 9.7048\n",
      "Function value obtained: -0.3023\n",
      "Current minimum: -0.3178\n",
      "Iteration No: 280 started. Searching for the next optimal point.\n",
      "[0.024274156408524684, 1000, 2, 'sqrt', 2, 3]\n",
      "Iteration No: 280 ended. Search finished for the next optimal point.\n",
      "Time taken: 8.6177\n",
      "Function value obtained: -0.3035\n",
      "Current minimum: -0.3178\n",
      "Iteration No: 281 started. Searching for the next optimal point.\n",
      "[0.05399186343375507, 1000, 2, 'auto', 2, 3]\n",
      "Iteration No: 281 ended. Search finished for the next optimal point.\n",
      "Time taken: 14.8348\n",
      "Function value obtained: -0.2517\n",
      "Current minimum: -0.3178\n",
      "Iteration No: 282 started. Searching for the next optimal point.\n",
      "[0.02372858994939154, 1000, 2, 'sqrt', 2, 3]\n",
      "Iteration No: 282 ended. Search finished for the next optimal point.\n",
      "Time taken: 7.9111\n",
      "Function value obtained: -0.2929\n",
      "Current minimum: -0.3178\n",
      "Iteration No: 283 started. Searching for the next optimal point.\n",
      "[0.02406713826239134, 1000, 2, 'sqrt', 2, 3]\n",
      "Iteration No: 283 ended. Search finished for the next optimal point.\n",
      "Time taken: 8.4295\n",
      "Function value obtained: -0.2971\n",
      "Current minimum: -0.3178\n",
      "Iteration No: 284 started. Searching for the next optimal point.\n",
      "[0.023994027654974343, 1000, 2, 'sqrt', 2, 3]\n",
      "Iteration No: 284 ended. Search finished for the next optimal point.\n",
      "Time taken: 9.6007\n",
      "Function value obtained: -0.2625\n",
      "Current minimum: -0.3178\n",
      "Iteration No: 285 started. Searching for the next optimal point.\n",
      "[0.025397577752822063, 1000, 2, 'sqrt', 2, 3]\n",
      "Iteration No: 285 ended. Search finished for the next optimal point.\n",
      "Time taken: 8.7344\n",
      "Function value obtained: -0.2570\n",
      "Current minimum: -0.3178\n",
      "Iteration No: 286 started. Searching for the next optimal point.\n",
      "[0.025403347875180116, 1000, 2, 'sqrt', 2, 3]\n",
      "Iteration No: 286 ended. Search finished for the next optimal point.\n",
      "Time taken: 9.4587\n",
      "Function value obtained: -0.2085\n",
      "Current minimum: -0.3178\n",
      "Iteration No: 287 started. Searching for the next optimal point.\n",
      "[0.025383721383591767, 683, 2, 'sqrt', 2, 3]\n",
      "Iteration No: 287 ended. Search finished for the next optimal point.\n",
      "Time taken: 9.1619\n",
      "Function value obtained: -0.2313\n",
      "Current minimum: -0.3178\n",
      "Iteration No: 288 started. Searching for the next optimal point.\n",
      "[0.029410059456152954, 1000, 2, 'sqrt', 2, 3]\n",
      "Iteration No: 288 ended. Search finished for the next optimal point.\n",
      "Time taken: 9.6085\n",
      "Function value obtained: -0.1953\n",
      "Current minimum: -0.3178\n",
      "Iteration No: 289 started. Searching for the next optimal point.\n",
      "[0.025806336548650558, 1000, 2, 'sqrt', 2, 2]\n",
      "Iteration No: 289 ended. Search finished for the next optimal point.\n",
      "Time taken: 10.1024\n",
      "Function value obtained: -0.2987\n",
      "Current minimum: -0.3178\n",
      "Iteration No: 290 started. Searching for the next optimal point.\n",
      "[0.024692825250372974, 1000, 2, 'sqrt', 2, 2]\n",
      "Iteration No: 290 ended. Search finished for the next optimal point.\n",
      "Time taken: 10.2806\n",
      "Function value obtained: -0.2865\n",
      "Current minimum: -0.3178\n",
      "Iteration No: 291 started. Searching for the next optimal point.\n",
      "[0.02385170994871491, 1000, 2, 'sqrt', 2, 2]\n",
      "Iteration No: 291 ended. Search finished for the next optimal point.\n",
      "Time taken: 10.2065\n",
      "Function value obtained: -0.1627\n",
      "Current minimum: -0.3178\n",
      "Iteration No: 292 started. Searching for the next optimal point.\n",
      "[0.1, 620, 2, 'auto', 2, 3]\n",
      "Iteration No: 292 ended. Search finished for the next optimal point.\n",
      "Time taken: 14.3253\n",
      "Function value obtained: -0.2684\n",
      "Current minimum: -0.3178\n",
      "Iteration No: 293 started. Searching for the next optimal point.\n",
      "[0.1, 263, 2, 'auto', 4, 1]\n",
      "Iteration No: 293 ended. Search finished for the next optimal point.\n",
      "Time taken: 12.4079\n",
      "Function value obtained: -0.2186\n",
      "Current minimum: -0.3178\n",
      "Iteration No: 294 started. Searching for the next optimal point.\n",
      "[0.1, 100, 5, 'sqrt', 2, 3]\n",
      "Iteration No: 294 ended. Search finished for the next optimal point.\n",
      "Time taken: 9.9914\n",
      "Function value obtained: -0.1766\n",
      "Current minimum: -0.3178\n",
      "Iteration No: 295 started. Searching for the next optimal point.\n",
      "[0.05253671757629653, 1000, 2, 'auto', 6, 1]\n",
      "Iteration No: 295 ended. Search finished for the next optimal point.\n",
      "Time taken: 16.5724\n",
      "Function value obtained: -0.2789\n",
      "Current minimum: -0.3178\n",
      "Iteration No: 296 started. Searching for the next optimal point.\n",
      "[0.1, 100, 2, 'sqrt', 6, 3]\n"
     ]
    },
    {
     "name": "stderr",
     "output_type": "stream",
     "text": [
      "/home/carcook/anaconda3/envs/TCGA-round1/lib/python3.8/site-packages/skopt/optimizer/optimizer.py:449: UserWarning: The objective has been evaluated at this point before.\n",
      "  warnings.warn(\"The objective has been evaluated \"\n"
     ]
    },
    {
     "name": "stdout",
     "output_type": "stream",
     "text": [
      "Iteration No: 296 ended. Search finished for the next optimal point.\n",
      "Time taken: 9.1654\n",
      "Function value obtained: -0.1376\n",
      "Current minimum: -0.3178\n",
      "Iteration No: 297 started. Searching for the next optimal point.\n",
      "[0.03076646758609924, 1000, 2, 'auto', 6, 1]\n",
      "Iteration No: 297 ended. Search finished for the next optimal point.\n",
      "Time taken: 17.2739\n",
      "Function value obtained: -0.2486\n",
      "Current minimum: -0.3178\n",
      "Iteration No: 298 started. Searching for the next optimal point.\n",
      "[0.1, 100, 2, 'auto', 6, 1]\n"
     ]
    },
    {
     "name": "stderr",
     "output_type": "stream",
     "text": [
      "/home/carcook/anaconda3/envs/TCGA-round1/lib/python3.8/site-packages/skopt/optimizer/optimizer.py:449: UserWarning: The objective has been evaluated at this point before.\n",
      "  warnings.warn(\"The objective has been evaluated \"\n"
     ]
    },
    {
     "name": "stdout",
     "output_type": "stream",
     "text": [
      "Iteration No: 298 ended. Search finished for the next optimal point.\n",
      "Time taken: 11.9120\n",
      "Function value obtained: -0.2901\n",
      "Current minimum: -0.3178\n",
      "Iteration No: 299 started. Searching for the next optimal point.\n",
      "[0.1, 100, 2, 'auto', 6, 2]\n"
     ]
    },
    {
     "name": "stderr",
     "output_type": "stream",
     "text": [
      "/home/carcook/anaconda3/envs/TCGA-round1/lib/python3.8/site-packages/skopt/optimizer/optimizer.py:449: UserWarning: The objective has been evaluated at this point before.\n",
      "  warnings.warn(\"The objective has been evaluated \"\n"
     ]
    },
    {
     "name": "stdout",
     "output_type": "stream",
     "text": [
      "Iteration No: 299 ended. Search finished for the next optimal point.\n",
      "Time taken: 11.7636\n",
      "Function value obtained: -0.2628\n",
      "Current minimum: -0.3178\n",
      "Iteration No: 300 started. Searching for the next optimal point.\n",
      "[0.1, 100, 2, 'auto', 6, 1]\n"
     ]
    },
    {
     "name": "stderr",
     "output_type": "stream",
     "text": [
      "/home/carcook/anaconda3/envs/TCGA-round1/lib/python3.8/site-packages/skopt/optimizer/optimizer.py:449: UserWarning: The objective has been evaluated at this point before.\n",
      "  warnings.warn(\"The objective has been evaluated \"\n"
     ]
    },
    {
     "name": "stdout",
     "output_type": "stream",
     "text": [
      "Iteration No: 300 ended. Search finished for the next optimal point.\n",
      "Time taken: 11.2113\n",
      "Function value obtained: -0.2879\n",
      "Current minimum: -0.3178\n"
     ]
    }
   ],
   "source": [
    "loss_default = \"ls\"\n",
    "scoring_default = \"explained_variance\"\n",
    "callback_file = f\"{unified_dsets[dset_idx]}_opt_gbr_h_params_{scoring_default}_outliers_removed.tsv\"\n",
    "\n",
    "try:\n",
    "    os.remove(callback_file)\n",
    "except OSError:\n",
    "    pass\n",
    "\n",
    "\n",
    "res = gp_minimize(\n",
    "    lambda h_ps: objective(h_ps, x_df, y_df, loss_default, scoring_default, rand),\n",
    "    space,\n",
    "    verbose=True,\n",
    "    random_state=rand,\n",
    "    n_initial_points=n_initial,\n",
    "    n_calls = n_calls,\n",
    "    n_jobs=-1,\n",
    "    callback=lambda x: opt.save_callback(x, callback_file, n = 5, sep=\"\\t\")\n",
    ")"
   ]
  },
  {
   "cell_type": "code",
   "execution_count": null,
   "metadata": {},
   "outputs": [],
   "source": []
  }
 ],
 "metadata": {
  "kernelspec": {
   "display_name": "Python 3",
   "language": "python",
   "name": "python3"
  },
  "language_info": {
   "codemirror_mode": {
    "name": "ipython",
    "version": 3
   },
   "file_extension": ".py",
   "mimetype": "text/x-python",
   "name": "python",
   "nbconvert_exporter": "python",
   "pygments_lexer": "ipython3",
   "version": "3.8.3"
  }
 },
 "nbformat": 4,
 "nbformat_minor": 4
}
