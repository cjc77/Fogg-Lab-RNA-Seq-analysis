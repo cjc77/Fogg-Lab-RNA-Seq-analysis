{
 "cells": [
  {
   "cell_type": "code",
   "execution_count": 20,
   "id": "hispanic-lincoln",
   "metadata": {},
   "outputs": [],
   "source": [
    "import pandas as pd\n",
    "import numpy as np\n",
    "from sklearn.mixture import GaussianMixture\n",
    "\n",
    "import utils.dev_config as dev_conf\n",
    "import utils.preprocessing as prep"
   ]
  },
  {
   "cell_type": "code",
   "execution_count": 21,
   "id": "actual-responsibility",
   "metadata": {},
   "outputs": [],
   "source": [
    "dirs = dev_conf.get_dev_directories(\"../dev_paths.txt\")\n",
    "unified_dsets = [\"unified_cervical_data\", \"unified_uterine_data\", \"unified_uterine_endometrial_data\"]\n",
    "matrisome_list = f\"{dirs.data_dir}/matrisome/matrisome_hs_masterlist.tsv\""
   ]
  },
  {
   "cell_type": "code",
   "execution_count": 27,
   "id": "empty-technique",
   "metadata": {},
   "outputs": [],
   "source": [
    "dset_idx = 0"
   ]
  },
  {
   "cell_type": "code",
   "execution_count": 28,
   "id": "incomplete-school",
   "metadata": {},
   "outputs": [],
   "source": [
    "seed = 123\n",
    "rand = np.random.RandomState()"
   ]
  },
  {
   "cell_type": "code",
   "execution_count": 29,
   "id": "liberal-steering",
   "metadata": {},
   "outputs": [],
   "source": [
    "event_code = {\"Alive\": 0, \"Dead\": 1}\n",
    "dep_cols = [\"vital_status\", \"survival_time\"]\n",
    "survival_df = prep.load_survival_df(f\"{dirs.data_dir}/{unified_dsets[dset_idx]}/survival_data.tsv\", event_code)\n",
    "norm_matrisome_counts_df = pd.read_csv(f\"{dirs.data_dir}/{unified_dsets[dset_idx]}/norm_matrisome_counts.tsv\", sep='\\t')"
   ]
  },
  {
   "cell_type": "code",
   "execution_count": 30,
   "id": "million-powell",
   "metadata": {},
   "outputs": [],
   "source": [
    "filtered_survival_df = (\n",
    "    survival_df[[\"sample_name\", \"survival_time\", \"vital_status\"]]\n",
    ")\n",
    "norm_filtered_matrisome_counts_t_df = prep.transpose_df(\n",
    "    norm_matrisome_counts_df[[\"geneID\"] + list(filtered_survival_df.sample_name)], \"geneID\", \"sample_name\"\n",
    ")\n",
    "joined_df = (\n",
    "    pd.merge(filtered_survival_df, norm_filtered_matrisome_counts_t_df, on=\"sample_name\")\n",
    "        .set_index(\"sample_name\")\n",
    ")"
   ]
  },
  {
   "cell_type": "code",
   "execution_count": 7,
   "id": "polyphonic-bottle",
   "metadata": {},
   "outputs": [],
   "source": [
    "gene_names = list(joined_df.columns[2:])\n",
    "n_genes = len(gene_names)\n",
    "cutoffs = np.zeros(n_genes)"
   ]
  },
  {
   "cell_type": "code",
   "execution_count": 8,
   "id": "egyptian-lying",
   "metadata": {},
   "outputs": [],
   "source": [
    "rand.seed(seed)\n",
    "# gm = GaussianMixture(n_components=2, random_state=rand, n_init=5)"
   ]
  },
  {
   "cell_type": "code",
   "execution_count": 9,
   "id": "failing-assessment",
   "metadata": {},
   "outputs": [
    {
     "name": "stderr",
     "output_type": "stream",
     "text": [
      "/home/carcook/anaconda3/envs/gynmatv2-env/lib/python3.8/site-packages/sklearn/mixture/_base.py:147: ConvergenceWarning: Number of distinct clusters (1) found smaller than n_clusters (2). Possibly due to duplicate points in X.\n",
      "  label = cluster.KMeans(n_clusters=self.n_components, n_init=1,\n",
      "/home/carcook/anaconda3/envs/gynmatv2-env/lib/python3.8/site-packages/sklearn/mixture/_base.py:147: ConvergenceWarning: Number of distinct clusters (1) found smaller than n_clusters (2). Possibly due to duplicate points in X.\n",
      "  label = cluster.KMeans(n_clusters=self.n_components, n_init=1,\n",
      "/home/carcook/anaconda3/envs/gynmatv2-env/lib/python3.8/site-packages/sklearn/mixture/_base.py:147: ConvergenceWarning: Number of distinct clusters (1) found smaller than n_clusters (2). Possibly due to duplicate points in X.\n",
      "  label = cluster.KMeans(n_clusters=self.n_components, n_init=1,\n",
      "/home/carcook/anaconda3/envs/gynmatv2-env/lib/python3.8/site-packages/sklearn/mixture/_base.py:147: ConvergenceWarning: Number of distinct clusters (1) found smaller than n_clusters (2). Possibly due to duplicate points in X.\n",
      "  label = cluster.KMeans(n_clusters=self.n_components, n_init=1,\n",
      "/home/carcook/anaconda3/envs/gynmatv2-env/lib/python3.8/site-packages/sklearn/mixture/_base.py:147: ConvergenceWarning: Number of distinct clusters (1) found smaller than n_clusters (2). Possibly due to duplicate points in X.\n",
      "  label = cluster.KMeans(n_clusters=self.n_components, n_init=1,\n"
     ]
    }
   ],
   "source": [
    "for i in range(n_genes):\n",
    "    gene_i = gene_names[i]\n",
    "    gm = GaussianMixture(n_components=2, random_state=rand, n_init=5)\n",
    "    X = np.array(joined_df[gene_i])[:, np.newaxis]\n",
    "    gm.fit(X)\n",
    "    Yhat = gm.predict_proba(X)\n",
    "    # If didn't converge, just choose the median (since no evidence of bi-modal dist.)\n",
    "    if gm.converged_:\n",
    "        cutoff_loc = np.argmin(abs(Yhat[:, 0] - Yhat[:, 1]))\n",
    "        cutoffs[i] = X[cutoff_loc].item()\n",
    "    else:\n",
    "        cutoffs[i] = np.median(X)"
   ]
  },
  {
   "cell_type": "code",
   "execution_count": 10,
   "id": "ecological-scene",
   "metadata": {},
   "outputs": [],
   "source": [
    "cutoff_df = pd.DataFrame({\"geneID\": gene_names, \"cutoff\": cutoffs})"
   ]
  },
  {
   "cell_type": "code",
   "execution_count": 11,
   "id": "recreational-disney",
   "metadata": {},
   "outputs": [],
   "source": [
    "cutoff_df.to_csv(f\"{dirs.analysis_dir}/survival/{unified_dsets[dset_idx]}_expression_cutoffs.tsv\", index=False, sep=\"\\t\")"
   ]
  }
 ],
 "metadata": {
  "kernelspec": {
   "display_name": "Python 3",
   "language": "python",
   "name": "python3"
  },
  "language_info": {
   "codemirror_mode": {
    "name": "ipython",
    "version": 3
   },
   "file_extension": ".py",
   "mimetype": "text/x-python",
   "name": "python",
   "nbconvert_exporter": "python",
   "pygments_lexer": "ipython3",
   "version": "3.8.3"
  }
 },
 "nbformat": 4,
 "nbformat_minor": 5
}
