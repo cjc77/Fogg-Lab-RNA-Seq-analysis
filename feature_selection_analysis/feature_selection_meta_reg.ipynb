{
 "cells": [
  {
   "cell_type": "code",
   "execution_count": 11,
   "metadata": {},
   "outputs": [],
   "source": [
    "library(tidyverse)\n",
    "\n",
    "# Custom package\n",
    "library(rutils)"
   ]
  },
  {
   "cell_type": "code",
   "execution_count": 12,
   "metadata": {},
   "outputs": [],
   "source": [
    "dirs <- rutils::get_dev_directories(dev_paths_file = \"../dev_paths.txt\")\n",
    "projects <- c(\"TCGA-CESC\", \"TCGA-UCS\", \"TCGA-UCEC\", \"TCGA-OV\")\n",
    "unified_dsets <- c(\"unified_cervical_data\", \"unified_uterine_data\", \"unified_uterine_endometrial_data\")"
   ]
  },
  {
   "cell_type": "code",
   "execution_count": 13,
   "metadata": {},
   "outputs": [],
   "source": [
    "dset_idx <- 3"
   ]
  },
  {
   "cell_type": "markdown",
   "metadata": {},
   "source": [
    "# Helpers"
   ]
  },
  {
   "cell_type": "code",
   "execution_count": 14,
   "metadata": {},
   "outputs": [],
   "source": [
    "transpose_scores_df <- function(df, future_colnames_col) {\n",
    "    temp_df <- as.data.frame(df)\n",
    "    rownames(temp_df) <- df[[future_colnames_col]]\n",
    "    temp_df <- temp_df %>% dplyr::select(-(!!future_colnames_col))\n",
    "    t(temp_df) %>% as_tibble(rownames = \"dataset\")\n",
    "}"
   ]
  },
  {
   "cell_type": "markdown",
   "metadata": {},
   "source": [
    "# Survival analysis"
   ]
  },
  {
   "cell_type": "code",
   "execution_count": 15,
   "metadata": {},
   "outputs": [
    {
     "name": "stderr",
     "output_type": "stream",
     "text": [
      "Parsed with column specification:\n",
      "cols(\n",
      "  score = col_character(),\n",
      "  unified_cervical_data = col_double(),\n",
      "  unified_uterine_data = col_double(),\n",
      "  unified_uterine_endometrial_data = col_double()\n",
      ")\n"
     ]
    },
    {
     "data": {
      "text/html": [
       "<table>\n",
       "<caption>A tibble: 3 × 4</caption>\n",
       "<thead>\n",
       "\t<tr><th scope=col>dataset</th><th scope=col>lr_test_pval</th><th scope=col>wald_test_pval</th><th scope=col>score_test_pval</th></tr>\n",
       "\t<tr><th scope=col>&lt;chr&gt;</th><th scope=col>&lt;dbl&gt;</th><th scope=col>&lt;dbl&gt;</th><th scope=col>&lt;dbl&gt;</th></tr>\n",
       "</thead>\n",
       "<tbody>\n",
       "\t<tr><td>unified_cervical_data           </td><td>0.0004814013</td><td>0.000049053</td><td>1.224173e-06</td></tr>\n",
       "\t<tr><td>unified_uterine_data            </td><td>0.3392807906</td><td>0.989893132</td><td>3.053979e-01</td></tr>\n",
       "\t<tr><td>unified_uterine_endometrial_data</td><td>0.0007739010</td><td>0.000000000</td><td>1.040876e-06</td></tr>\n",
       "</tbody>\n",
       "</table>\n"
      ],
      "text/latex": [
       "A tibble: 3 × 4\n",
       "\\begin{tabular}{llll}\n",
       " dataset & lr\\_test\\_pval & wald\\_test\\_pval & score\\_test\\_pval\\\\\n",
       " <chr> & <dbl> & <dbl> & <dbl>\\\\\n",
       "\\hline\n",
       "\t unified\\_cervical\\_data            & 0.0004814013 & 0.000049053 & 1.224173e-06\\\\\n",
       "\t unified\\_uterine\\_data             & 0.3392807906 & 0.989893132 & 3.053979e-01\\\\\n",
       "\t unified\\_uterine\\_endometrial\\_data & 0.0007739010 & 0.000000000 & 1.040876e-06\\\\\n",
       "\\end{tabular}\n"
      ],
      "text/markdown": [
       "\n",
       "A tibble: 3 × 4\n",
       "\n",
       "| dataset &lt;chr&gt; | lr_test_pval &lt;dbl&gt; | wald_test_pval &lt;dbl&gt; | score_test_pval &lt;dbl&gt; |\n",
       "|---|---|---|---|\n",
       "| unified_cervical_data            | 0.0004814013 | 0.000049053 | 1.224173e-06 |\n",
       "| unified_uterine_data             | 0.3392807906 | 0.989893132 | 3.053979e-01 |\n",
       "| unified_uterine_endometrial_data | 0.0007739010 | 0.000000000 | 1.040876e-06 |\n",
       "\n"
      ],
      "text/plain": [
       "  dataset                          lr_test_pval wald_test_pval score_test_pval\n",
       "1 unified_cervical_data            0.0004814013 0.000049053    1.224173e-06   \n",
       "2 unified_uterine_data             0.3392807906 0.989893132    3.053979e-01   \n",
       "3 unified_uterine_endometrial_data 0.0007739010 0.000000000    1.040876e-06   "
      ]
     },
     "metadata": {},
     "output_type": "display_data"
    }
   ],
   "source": [
    "coxph_scores_df <- read_tsv(paste0(dirs$analysis_dir, \"/\", \"coxph_null_scores.tsv\")) %>% transpose_scores_df(\"score\")\n",
    "coxph_scores_df"
   ]
  },
  {
   "cell_type": "markdown",
   "metadata": {},
   "source": [
    "# Regression"
   ]
  },
  {
   "cell_type": "code",
   "execution_count": 16,
   "metadata": {},
   "outputs": [
    {
     "name": "stderr",
     "output_type": "stream",
     "text": [
      "Parsed with column specification:\n",
      "cols(\n",
      "  baseline = col_character(),\n",
      "  unified_cervical_data = col_double(),\n",
      "  unified_uterine_data = col_double(),\n",
      "  unified_uterine_endometrial_data = col_double()\n",
      ")\n"
     ]
    },
    {
     "data": {
      "text/html": [
       "<table>\n",
       "<caption>A tibble: 3 × 6</caption>\n",
       "<thead>\n",
       "\t<tr><th scope=col>dataset</th><th scope=col>L2</th><th scope=col>L1</th><th scope=col>R2</th><th scope=col>explained_variance</th><th scope=col>n</th></tr>\n",
       "\t<tr><th scope=col>&lt;chr&gt;</th><th scope=col>&lt;dbl&gt;</th><th scope=col>&lt;dbl&gt;</th><th scope=col>&lt;dbl&gt;</th><th scope=col>&lt;dbl&gt;</th><th scope=col>&lt;dbl&gt;</th></tr>\n",
       "</thead>\n",
       "<tbody>\n",
       "\t<tr><td>unified_cervical_data           </td><td>641687.7</td><td>518.3333</td><td>0</td><td>0</td><td>66</td></tr>\n",
       "\t<tr><td>unified_uterine_data            </td><td>620674.9</td><td>516.0741</td><td>0</td><td>0</td><td>27</td></tr>\n",
       "\t<tr><td>unified_uterine_endometrial_data</td><td>386549.9</td><td>415.7083</td><td>0</td><td>0</td><td>24</td></tr>\n",
       "</tbody>\n",
       "</table>\n"
      ],
      "text/latex": [
       "A tibble: 3 × 6\n",
       "\\begin{tabular}{llllll}\n",
       " dataset & L2 & L1 & R2 & explained\\_variance & n\\\\\n",
       " <chr> & <dbl> & <dbl> & <dbl> & <dbl> & <dbl>\\\\\n",
       "\\hline\n",
       "\t unified\\_cervical\\_data            & 641687.7 & 518.3333 & 0 & 0 & 66\\\\\n",
       "\t unified\\_uterine\\_data             & 620674.9 & 516.0741 & 0 & 0 & 27\\\\\n",
       "\t unified\\_uterine\\_endometrial\\_data & 386549.9 & 415.7083 & 0 & 0 & 24\\\\\n",
       "\\end{tabular}\n"
      ],
      "text/markdown": [
       "\n",
       "A tibble: 3 × 6\n",
       "\n",
       "| dataset &lt;chr&gt; | L2 &lt;dbl&gt; | L1 &lt;dbl&gt; | R2 &lt;dbl&gt; | explained_variance &lt;dbl&gt; | n &lt;dbl&gt; |\n",
       "|---|---|---|---|---|---|\n",
       "| unified_cervical_data            | 641687.7 | 518.3333 | 0 | 0 | 66 |\n",
       "| unified_uterine_data             | 620674.9 | 516.0741 | 0 | 0 | 27 |\n",
       "| unified_uterine_endometrial_data | 386549.9 | 415.7083 | 0 | 0 | 24 |\n",
       "\n"
      ],
      "text/plain": [
       "  dataset                          L2       L1       R2 explained_variance n \n",
       "1 unified_cervical_data            641687.7 518.3333 0  0                  66\n",
       "2 unified_uterine_data             620674.9 516.0741 0  0                  27\n",
       "3 unified_uterine_endometrial_data 386549.9 415.7083 0  0                  24"
      ]
     },
     "metadata": {},
     "output_type": "display_data"
    },
    {
     "data": {
      "text/html": [
       "415.708333333333"
      ],
      "text/latex": [
       "415.708333333333"
      ],
      "text/markdown": [
       "415.708333333333"
      ],
      "text/plain": [
       "[1] 415.7083"
      ]
     },
     "metadata": {},
     "output_type": "display_data"
    },
    {
     "data": {
      "text/html": [
       "0"
      ],
      "text/latex": [
       "0"
      ],
      "text/markdown": [
       "0"
      ],
      "text/plain": [
       "[1] 0"
      ]
     },
     "metadata": {},
     "output_type": "display_data"
    }
   ],
   "source": [
    "baselines_df <- read_tsv(paste0(dirs$analysis_dir, \"/\", \"reg_baselines.tsv\")) %>% transpose_scores_df(\"baseline\")\n",
    "baselines_df\n",
    "mae_baseline = (baselines_df %>% filter(dataset == unified_dsets[dset_idx]))$L1\n",
    "ev_baseline = (baselines_df %>% filter(dataset == unified_dsets[dset_idx]))$explained_variance\n",
    "mae_baseline\n",
    "ev_baseline"
   ]
  },
  {
   "cell_type": "code",
   "execution_count": 17,
   "metadata": {},
   "outputs": [
    {
     "name": "stderr",
     "output_type": "stream",
     "text": [
      "Parsed with column specification:\n",
      "cols(\n",
      "  model = col_double(),\n",
      "  ref_score = col_double()\n",
      ")\n"
     ]
    },
    {
     "data": {
      "text/html": [
       "<table>\n",
       "<caption>A spec_tbl_df: 5 × 2</caption>\n",
       "<thead>\n",
       "\t<tr><th scope=col>model</th><th scope=col>ref_score</th></tr>\n",
       "\t<tr><th scope=col>&lt;dbl&gt;</th><th scope=col>&lt;dbl&gt;</th></tr>\n",
       "</thead>\n",
       "<tbody>\n",
       "\t<tr><td>0</td><td>-429.8771</td></tr>\n",
       "\t<tr><td>1</td><td>-429.8557</td></tr>\n",
       "\t<tr><td>2</td><td>-428.7261</td></tr>\n",
       "\t<tr><td>3</td><td>-452.9965</td></tr>\n",
       "\t<tr><td>4</td><td>-419.9518</td></tr>\n",
       "</tbody>\n",
       "</table>\n"
      ],
      "text/latex": [
       "A spec\\_tbl\\_df: 5 × 2\n",
       "\\begin{tabular}{ll}\n",
       " model & ref\\_score\\\\\n",
       " <dbl> & <dbl>\\\\\n",
       "\\hline\n",
       "\t 0 & -429.8771\\\\\n",
       "\t 1 & -429.8557\\\\\n",
       "\t 2 & -428.7261\\\\\n",
       "\t 3 & -452.9965\\\\\n",
       "\t 4 & -419.9518\\\\\n",
       "\\end{tabular}\n"
      ],
      "text/markdown": [
       "\n",
       "A spec_tbl_df: 5 × 2\n",
       "\n",
       "| model &lt;dbl&gt; | ref_score &lt;dbl&gt; |\n",
       "|---|---|\n",
       "| 0 | -429.8771 |\n",
       "| 1 | -429.8557 |\n",
       "| 2 | -428.7261 |\n",
       "| 3 | -452.9965 |\n",
       "| 4 | -419.9518 |\n",
       "\n"
      ],
      "text/plain": [
       "  model ref_score\n",
       "1 0     -429.8771\n",
       "2 1     -429.8557\n",
       "3 2     -428.7261\n",
       "4 3     -452.9965\n",
       "5 4     -419.9518"
      ]
     },
     "metadata": {},
     "output_type": "display_data"
    },
    {
     "data": {
      "text/html": [
       "432.281412927133"
      ],
      "text/latex": [
       "432.281412927133"
      ],
      "text/markdown": [
       "432.281412927133"
      ],
      "text/plain": [
       "[1] 432.2814"
      ]
     },
     "metadata": {},
     "output_type": "display_data"
    },
    {
     "data": {
      "text/html": [
       "FALSE"
      ],
      "text/latex": [
       "FALSE"
      ],
      "text/markdown": [
       "FALSE"
      ],
      "text/plain": [
       "[1] FALSE"
      ]
     },
     "metadata": {},
     "output_type": "display_data"
    }
   ],
   "source": [
    "mae_gbr_res_df <- read_tsv(paste0(dirs$analysis_dir, \"/\", unified_dsets[dset_idx], \"_mae_gbr_ref_scores.tsv\"))\n",
    "mae_gbr_res_df\n",
    "-mean(mae_gbr_res_df$ref_score)\n",
    "# Want MAE to be < baseline\n",
    "-mean(mae_gbr_res_df$ref_score) < mae_baseline"
   ]
  },
  {
   "cell_type": "code",
   "execution_count": 18,
   "metadata": {},
   "outputs": [
    {
     "name": "stderr",
     "output_type": "stream",
     "text": [
      "Parsed with column specification:\n",
      "cols(\n",
      "  model = col_double(),\n",
      "  ref_score = col_double()\n",
      ")\n"
     ]
    },
    {
     "data": {
      "text/html": [
       "<table>\n",
       "<caption>A spec_tbl_df: 5 × 2</caption>\n",
       "<thead>\n",
       "\t<tr><th scope=col>model</th><th scope=col>ref_score</th></tr>\n",
       "\t<tr><th scope=col>&lt;dbl&gt;</th><th scope=col>&lt;dbl&gt;</th></tr>\n",
       "</thead>\n",
       "<tbody>\n",
       "\t<tr><td>0</td><td>0.24917900</td></tr>\n",
       "\t<tr><td>1</td><td>0.17566278</td></tr>\n",
       "\t<tr><td>2</td><td>0.23557729</td></tr>\n",
       "\t<tr><td>3</td><td>0.17305281</td></tr>\n",
       "\t<tr><td>4</td><td>0.08427494</td></tr>\n",
       "</tbody>\n",
       "</table>\n"
      ],
      "text/latex": [
       "A spec\\_tbl\\_df: 5 × 2\n",
       "\\begin{tabular}{ll}\n",
       " model & ref\\_score\\\\\n",
       " <dbl> & <dbl>\\\\\n",
       "\\hline\n",
       "\t 0 & 0.24917900\\\\\n",
       "\t 1 & 0.17566278\\\\\n",
       "\t 2 & 0.23557729\\\\\n",
       "\t 3 & 0.17305281\\\\\n",
       "\t 4 & 0.08427494\\\\\n",
       "\\end{tabular}\n"
      ],
      "text/markdown": [
       "\n",
       "A spec_tbl_df: 5 × 2\n",
       "\n",
       "| model &lt;dbl&gt; | ref_score &lt;dbl&gt; |\n",
       "|---|---|\n",
       "| 0 | 0.24917900 |\n",
       "| 1 | 0.17566278 |\n",
       "| 2 | 0.23557729 |\n",
       "| 3 | 0.17305281 |\n",
       "| 4 | 0.08427494 |\n",
       "\n"
      ],
      "text/plain": [
       "  model ref_score \n",
       "1 0     0.24917900\n",
       "2 1     0.17566278\n",
       "3 2     0.23557729\n",
       "4 3     0.17305281\n",
       "5 4     0.08427494"
      ]
     },
     "metadata": {},
     "output_type": "display_data"
    },
    {
     "data": {
      "text/html": [
       "0.183549365704627"
      ],
      "text/latex": [
       "0.183549365704627"
      ],
      "text/markdown": [
       "0.183549365704627"
      ],
      "text/plain": [
       "[1] 0.1835494"
      ]
     },
     "metadata": {},
     "output_type": "display_data"
    },
    {
     "data": {
      "text/html": [
       "TRUE"
      ],
      "text/latex": [
       "TRUE"
      ],
      "text/markdown": [
       "TRUE"
      ],
      "text/plain": [
       "[1] TRUE"
      ]
     },
     "metadata": {},
     "output_type": "display_data"
    }
   ],
   "source": [
    "ev_gbr_res_df <- read_tsv(paste0(dirs$analysis_dir, \"/\", unified_dsets[dset_idx], \"_ev_gbr_ref_scores.tsv\"))\n",
    "ev_gbr_res_df\n",
    "mean(ev_gbr_res_df$ref_score)\n",
    "# Want EV to be > baseline\n",
    "mean(ev_gbr_res_df$ref_score) > ev_baseline"
   ]
  },
  {
   "cell_type": "code",
   "execution_count": 19,
   "metadata": {},
   "outputs": [
    {
     "name": "stderr",
     "output_type": "stream",
     "text": [
      "Parsed with column specification:\n",
      "cols(\n",
      "  model = col_double(),\n",
      "  ref_score = col_double()\n",
      ")\n"
     ]
    },
    {
     "data": {
      "text/html": [
       "<table>\n",
       "<caption>A spec_tbl_df: 5 × 2</caption>\n",
       "<thead>\n",
       "\t<tr><th scope=col>model</th><th scope=col>ref_score</th></tr>\n",
       "\t<tr><th scope=col>&lt;dbl&gt;</th><th scope=col>&lt;dbl&gt;</th></tr>\n",
       "</thead>\n",
       "<tbody>\n",
       "\t<tr><td>0</td><td>-429.0907</td></tr>\n",
       "\t<tr><td>1</td><td>-414.3713</td></tr>\n",
       "\t<tr><td>2</td><td>-423.3422</td></tr>\n",
       "\t<tr><td>3</td><td>-425.1046</td></tr>\n",
       "\t<tr><td>4</td><td>-417.9237</td></tr>\n",
       "</tbody>\n",
       "</table>\n"
      ],
      "text/latex": [
       "A spec\\_tbl\\_df: 5 × 2\n",
       "\\begin{tabular}{ll}\n",
       " model & ref\\_score\\\\\n",
       " <dbl> & <dbl>\\\\\n",
       "\\hline\n",
       "\t 0 & -429.0907\\\\\n",
       "\t 1 & -414.3713\\\\\n",
       "\t 2 & -423.3422\\\\\n",
       "\t 3 & -425.1046\\\\\n",
       "\t 4 & -417.9237\\\\\n",
       "\\end{tabular}\n"
      ],
      "text/markdown": [
       "\n",
       "A spec_tbl_df: 5 × 2\n",
       "\n",
       "| model &lt;dbl&gt; | ref_score &lt;dbl&gt; |\n",
       "|---|---|\n",
       "| 0 | -429.0907 |\n",
       "| 1 | -414.3713 |\n",
       "| 2 | -423.3422 |\n",
       "| 3 | -425.1046 |\n",
       "| 4 | -417.9237 |\n",
       "\n"
      ],
      "text/plain": [
       "  model ref_score\n",
       "1 0     -429.0907\n",
       "2 1     -414.3713\n",
       "3 2     -423.3422\n",
       "4 3     -425.1046\n",
       "5 4     -417.9237"
      ]
     },
     "metadata": {},
     "output_type": "display_data"
    },
    {
     "data": {
      "text/html": [
       "421.966497071184"
      ],
      "text/latex": [
       "421.966497071184"
      ],
      "text/markdown": [
       "421.966497071184"
      ],
      "text/plain": [
       "[1] 421.9665"
      ]
     },
     "metadata": {},
     "output_type": "display_data"
    },
    {
     "data": {
      "text/html": [
       "FALSE"
      ],
      "text/latex": [
       "FALSE"
      ],
      "text/markdown": [
       "FALSE"
      ],
      "text/plain": [
       "[1] FALSE"
      ]
     },
     "metadata": {},
     "output_type": "display_data"
    }
   ],
   "source": [
    "mae_rfr_res_df <- read_tsv(paste0(dirs$analysis_dir, \"/\", unified_dsets[dset_idx], \"_mae_rfr_ref_scores.tsv\"))\n",
    "mae_rfr_res_df\n",
    "-mean(mae_rfr_res_df$ref_score)\n",
    "# Want MAE to be < baseline\n",
    "-mean(mae_rfr_res_df$ref_score) < mae_baseline"
   ]
  },
  {
   "cell_type": "code",
   "execution_count": 20,
   "metadata": {},
   "outputs": [
    {
     "name": "stderr",
     "output_type": "stream",
     "text": [
      "Parsed with column specification:\n",
      "cols(\n",
      "  model = col_double(),\n",
      "  ref_score = col_double()\n",
      ")\n"
     ]
    },
    {
     "data": {
      "text/html": [
       "<table>\n",
       "<caption>A spec_tbl_df: 5 × 2</caption>\n",
       "<thead>\n",
       "\t<tr><th scope=col>model</th><th scope=col>ref_score</th></tr>\n",
       "\t<tr><th scope=col>&lt;dbl&gt;</th><th scope=col>&lt;dbl&gt;</th></tr>\n",
       "</thead>\n",
       "<tbody>\n",
       "\t<tr><td>0</td><td>-0.14132234</td></tr>\n",
       "\t<tr><td>1</td><td> 0.02325248</td></tr>\n",
       "\t<tr><td>2</td><td>-0.06128286</td></tr>\n",
       "\t<tr><td>3</td><td>-0.01191531</td></tr>\n",
       "\t<tr><td>4</td><td>-0.01772288</td></tr>\n",
       "</tbody>\n",
       "</table>\n"
      ],
      "text/latex": [
       "A spec\\_tbl\\_df: 5 × 2\n",
       "\\begin{tabular}{ll}\n",
       " model & ref\\_score\\\\\n",
       " <dbl> & <dbl>\\\\\n",
       "\\hline\n",
       "\t 0 & -0.14132234\\\\\n",
       "\t 1 &  0.02325248\\\\\n",
       "\t 2 & -0.06128286\\\\\n",
       "\t 3 & -0.01191531\\\\\n",
       "\t 4 & -0.01772288\\\\\n",
       "\\end{tabular}\n"
      ],
      "text/markdown": [
       "\n",
       "A spec_tbl_df: 5 × 2\n",
       "\n",
       "| model &lt;dbl&gt; | ref_score &lt;dbl&gt; |\n",
       "|---|---|\n",
       "| 0 | -0.14132234 |\n",
       "| 1 |  0.02325248 |\n",
       "| 2 | -0.06128286 |\n",
       "| 3 | -0.01191531 |\n",
       "| 4 | -0.01772288 |\n",
       "\n"
      ],
      "text/plain": [
       "  model ref_score  \n",
       "1 0     -0.14132234\n",
       "2 1      0.02325248\n",
       "3 2     -0.06128286\n",
       "4 3     -0.01191531\n",
       "5 4     -0.01772288"
      ]
     },
     "metadata": {},
     "output_type": "display_data"
    },
    {
     "data": {
      "text/html": [
       "-0.0417981825517038"
      ],
      "text/latex": [
       "-0.0417981825517038"
      ],
      "text/markdown": [
       "-0.0417981825517038"
      ],
      "text/plain": [
       "[1] -0.04179818"
      ]
     },
     "metadata": {},
     "output_type": "display_data"
    },
    {
     "data": {
      "text/html": [
       "FALSE"
      ],
      "text/latex": [
       "FALSE"
      ],
      "text/markdown": [
       "FALSE"
      ],
      "text/plain": [
       "[1] FALSE"
      ]
     },
     "metadata": {},
     "output_type": "display_data"
    }
   ],
   "source": [
    "ev_rfr_res_df <- read_tsv(paste0(dirs$analysis_dir, \"/\", unified_dsets[dset_idx], \"_ev_rfr_ref_scores.tsv\"))\n",
    "ev_rfr_res_df\n",
    "mean(ev_rfr_res_df$ref_score)\n",
    "# Want EV to be > baseline\n",
    "mean(ev_rfr_res_df$ref_score) > ev_baseline"
   ]
  }
 ],
 "metadata": {
  "kernelspec": {
   "display_name": "R",
   "language": "R",
   "name": "ir"
  },
  "language_info": {
   "codemirror_mode": "r",
   "file_extension": ".r",
   "mimetype": "text/x-r-source",
   "name": "R",
   "pygments_lexer": "r",
   "version": "3.6.3"
  }
 },
 "nbformat": 4,
 "nbformat_minor": 4
}
