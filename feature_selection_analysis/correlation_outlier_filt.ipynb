{
 "cells": [
  {
   "cell_type": "code",
   "execution_count": 1,
   "metadata": {},
   "outputs": [
    {
     "name": "stderr",
     "output_type": "stream",
     "text": [
      "── Attaching packages ─────────────────────────────────────── tidyverse 1.3.0 ──\n",
      "✔ ggplot2 3.3.2     ✔ purrr   0.3.4\n",
      "✔ tibble  3.0.3     ✔ dplyr   1.0.0\n",
      "✔ tidyr   1.1.0     ✔ stringr 1.4.0\n",
      "✔ readr   1.3.1     ✔ forcats 0.5.0\n",
      "── Conflicts ────────────────────────────────────────── tidyverse_conflicts() ──\n",
      "✖ dplyr::filter() masks stats::filter()\n",
      "✖ dplyr::lag()    masks stats::lag()\n"
     ]
    }
   ],
   "source": [
    "library(tidyverse)\n",
    "\n",
    "# Custom package\n",
    "library(rutils)"
   ]
  },
  {
   "cell_type": "code",
   "execution_count": 2,
   "metadata": {},
   "outputs": [],
   "source": [
    "dirs <- rutils::get_dev_directories(dev_paths_file = \"../dev_paths.txt\")\n",
    "projects <- c(\"TCGA-CESC\", \"TCGA-UCS\", \"TCGA-UCEC\", \"TCGA-OV\")\n",
    "unified_dsets <- c(\"unified_cervical_data\", \"unified_uterine_data\", \"unified_uterine_endometrial_data\")\n",
    "matrisome_path <- paste0(dirs$data_dir, \"/matrisome/matrisome_hs_masterlist.tsv\")"
   ]
  },
  {
   "cell_type": "code",
   "execution_count": 3,
   "metadata": {},
   "outputs": [],
   "source": [
    "dset_idx <- 1"
   ]
  },
  {
   "cell_type": "markdown",
   "metadata": {},
   "source": [
    "# Load and filter survival data"
   ]
  },
  {
   "cell_type": "code",
   "execution_count": 4,
   "metadata": {},
   "outputs": [],
   "source": [
    "event_code <- list(\"Alive\" = 0, \"Dead\" = 1)\n",
    "covariate_cols_no_figo <- c(\"age_at_diagnosis\", \"race\", \"ethnicity\")\n",
    "covariate_cols <- c(\"figo_stage\", covariate_cols_no_figo)\n",
    "dep_cols <- c(\"vital_status\", \"survival_time\")"
   ]
  },
  {
   "cell_type": "code",
   "execution_count": 5,
   "metadata": {},
   "outputs": [
    {
     "name": "stderr",
     "output_type": "stream",
     "text": [
      "Parsed with column specification:\n",
      "cols(\n",
      "  sample_name = col_character(),\n",
      "  vital_status = col_character(),\n",
      "  survival_time = col_double(),\n",
      "  figo_stage = col_character(),\n",
      "  days_to_last_follow_up = col_double(),\n",
      "  days_to_death = col_double(),\n",
      "  age_at_diagnosis = col_double(),\n",
      "  age_at_index = col_double(),\n",
      "  height = col_double(),\n",
      "  weight = col_double(),\n",
      "  bmi = col_double(),\n",
      "  race = col_character(),\n",
      "  ethnicity = col_character()\n",
      ")\n"
     ]
    }
   ],
   "source": [
    "survival_path <- paste0(dirs$data_dir, \"/\", unified_dsets[dset_idx], \"/survival_data.tsv\")\n",
    "survival_df <- load_survival_df(survival_path, event_code)"
   ]
  },
  {
   "cell_type": "code",
   "execution_count": 6,
   "metadata": {},
   "outputs": [
    {
     "data": {
      "text/html": [
       "66"
      ],
      "text/latex": [
       "66"
      ],
      "text/markdown": [
       "66"
      ],
      "text/plain": [
       "[1] 66"
      ]
     },
     "metadata": {},
     "output_type": "display_data"
    },
    {
     "data": {
      "text/html": [
       "<table>\n",
       "<caption>A tibble: 6 × 3</caption>\n",
       "<thead>\n",
       "\t<tr><th scope=col>sample_name</th><th scope=col>vital_status</th><th scope=col>survival_time</th></tr>\n",
       "\t<tr><th scope=col>&lt;chr&gt;</th><th scope=col>&lt;dbl&gt;</th><th scope=col>&lt;dbl&gt;</th></tr>\n",
       "</thead>\n",
       "<tbody>\n",
       "\t<tr><td>TCGA-C5-A1BF-01B-11R-A13Y-07</td><td>1</td><td> 570</td></tr>\n",
       "\t<tr><td>TCGA-C5-A8YT-01A-11R-A37O-07</td><td>1</td><td> 633</td></tr>\n",
       "\t<tr><td>TCGA-C5-A2LZ-01A-11R-A213-07</td><td>1</td><td>3046</td></tr>\n",
       "\t<tr><td>TCGA-VS-A9V1-01A-11R-A42T-07</td><td>1</td><td> 157</td></tr>\n",
       "\t<tr><td>TCGA-C5-A1BE-01B-11R-A13Y-07</td><td>1</td><td>2094</td></tr>\n",
       "\t<tr><td>TCGA-C5-A8XH-01A-11R-A37O-07</td><td>1</td><td>1394</td></tr>\n",
       "</tbody>\n",
       "</table>\n"
      ],
      "text/latex": [
       "A tibble: 6 × 3\n",
       "\\begin{tabular}{lll}\n",
       " sample\\_name & vital\\_status & survival\\_time\\\\\n",
       " <chr> & <dbl> & <dbl>\\\\\n",
       "\\hline\n",
       "\t TCGA-C5-A1BF-01B-11R-A13Y-07 & 1 &  570\\\\\n",
       "\t TCGA-C5-A8YT-01A-11R-A37O-07 & 1 &  633\\\\\n",
       "\t TCGA-C5-A2LZ-01A-11R-A213-07 & 1 & 3046\\\\\n",
       "\t TCGA-VS-A9V1-01A-11R-A42T-07 & 1 &  157\\\\\n",
       "\t TCGA-C5-A1BE-01B-11R-A13Y-07 & 1 & 2094\\\\\n",
       "\t TCGA-C5-A8XH-01A-11R-A37O-07 & 1 & 1394\\\\\n",
       "\\end{tabular}\n"
      ],
      "text/markdown": [
       "\n",
       "A tibble: 6 × 3\n",
       "\n",
       "| sample_name &lt;chr&gt; | vital_status &lt;dbl&gt; | survival_time &lt;dbl&gt; |\n",
       "|---|---|---|\n",
       "| TCGA-C5-A1BF-01B-11R-A13Y-07 | 1 |  570 |\n",
       "| TCGA-C5-A8YT-01A-11R-A37O-07 | 1 |  633 |\n",
       "| TCGA-C5-A2LZ-01A-11R-A213-07 | 1 | 3046 |\n",
       "| TCGA-VS-A9V1-01A-11R-A42T-07 | 1 |  157 |\n",
       "| TCGA-C5-A1BE-01B-11R-A13Y-07 | 1 | 2094 |\n",
       "| TCGA-C5-A8XH-01A-11R-A37O-07 | 1 | 1394 |\n",
       "\n"
      ],
      "text/plain": [
       "  sample_name                  vital_status survival_time\n",
       "1 TCGA-C5-A1BF-01B-11R-A13Y-07 1             570         \n",
       "2 TCGA-C5-A8YT-01A-11R-A37O-07 1             633         \n",
       "3 TCGA-C5-A2LZ-01A-11R-A213-07 1            3046         \n",
       "4 TCGA-VS-A9V1-01A-11R-A42T-07 1             157         \n",
       "5 TCGA-C5-A1BE-01B-11R-A13Y-07 1            2094         \n",
       "6 TCGA-C5-A8XH-01A-11R-A37O-07 1            1394         "
      ]
     },
     "metadata": {},
     "output_type": "display_data"
    }
   ],
   "source": [
    "filtered_survival_df <- survival_df %>%\n",
    "    dplyr::select(sample_name, vital_status, survival_time) %>%\n",
    "    dplyr::filter(vital_status == event_code$Dead, rowSums(is.na(.)) == 0)\n",
    "    \n",
    "nrow(filtered_survival_df)\n",
    "head(filtered_survival_df)"
   ]
  },
  {
   "cell_type": "markdown",
   "metadata": {},
   "source": [
    "# Load normalized matrisome count data"
   ]
  },
  {
   "cell_type": "code",
   "execution_count": 7,
   "metadata": {},
   "outputs": [
    {
     "name": "stderr",
     "output_type": "stream",
     "text": [
      "Parsed with column specification:\n",
      "cols(\n",
      "  .default = col_double(),\n",
      "  geneID = col_character()\n",
      ")\n",
      "See spec(...) for full column specifications.\n"
     ]
    }
   ],
   "source": [
    "norm_matrisome_counts_path <- paste0(dirs$data_dir, \"/\", unified_dsets[dset_idx], \"/norm_matrisome_counts.tsv\")\n",
    "norm_survival_counts_df <- read_tsv(norm_matrisome_counts_path) %>%\n",
    "    dplyr::select(c(\"geneID\", filtered_survival_df$sample_name))"
   ]
  },
  {
   "cell_type": "code",
   "execution_count": 8,
   "metadata": {},
   "outputs": [],
   "source": [
    "norm_survival_counts_t_df <- norm_survival_counts_df %>%\n",
    "    column_to_rownames(var = \"geneID\") %>%\n",
    "    t() %>%\n",
    "    as_tibble(rownames = \"sample_name\") %>%\n",
    "    inner_join(filtered_survival_df, by = \"sample_name\") %>%\n",
    "    dplyr::select(sample_name, survival_time, everything(), -vital_status)"
   ]
  },
  {
   "cell_type": "code",
   "execution_count": 9,
   "metadata": {},
   "outputs": [
    {
     "data": {
      "text/html": [
       "66"
      ],
      "text/latex": [
       "66"
      ],
      "text/markdown": [
       "66"
      ],
      "text/plain": [
       "[1] 66"
      ]
     },
     "metadata": {},
     "output_type": "display_data"
    },
    {
     "data": {
      "text/html": [
       "<table>\n",
       "<caption>A tibble: 6 × 1010</caption>\n",
       "<thead>\n",
       "\t<tr><th scope=col>sample_name</th><th scope=col>survival_time</th><th scope=col>PGF</th><th scope=col>TIMP4</th><th scope=col>C1QTNF6</th><th scope=col>TNC</th><th scope=col>PRL</th><th scope=col>OGN</th><th scope=col>C1QL3</th><th scope=col>FGB</th><th scope=col>⋯</th><th scope=col>PIK3IP1</th><th scope=col>C1QTNF2</th><th scope=col>PCSK5</th><th scope=col>ANXA1</th><th scope=col>HGF</th><th scope=col>VWA2</th><th scope=col>FGF3</th><th scope=col>POSTN</th><th scope=col>NTF3</th><th scope=col>S100A6</th></tr>\n",
       "\t<tr><th scope=col>&lt;chr&gt;</th><th scope=col>&lt;dbl&gt;</th><th scope=col>&lt;dbl&gt;</th><th scope=col>&lt;dbl&gt;</th><th scope=col>&lt;dbl&gt;</th><th scope=col>&lt;dbl&gt;</th><th scope=col>&lt;dbl&gt;</th><th scope=col>&lt;dbl&gt;</th><th scope=col>&lt;dbl&gt;</th><th scope=col>&lt;dbl&gt;</th><th scope=col>⋯</th><th scope=col>&lt;dbl&gt;</th><th scope=col>&lt;dbl&gt;</th><th scope=col>&lt;dbl&gt;</th><th scope=col>&lt;dbl&gt;</th><th scope=col>&lt;dbl&gt;</th><th scope=col>&lt;dbl&gt;</th><th scope=col>&lt;dbl&gt;</th><th scope=col>&lt;dbl&gt;</th><th scope=col>&lt;dbl&gt;</th><th scope=col>&lt;dbl&gt;</th></tr>\n",
       "</thead>\n",
       "<tbody>\n",
       "\t<tr><td>TCGA-C5-A1BF-01B-11R-A13Y-07</td><td> 570</td><td>10.800637</td><td>6.228003</td><td>11.669331</td><td>13.00293</td><td>5.063964</td><td> 4.869744</td><td>5.063964</td><td>8.834522</td><td>⋯</td><td> 9.013453</td><td>8.190325</td><td> 9.503647</td><td>14.07799</td><td> 6.569726</td><td> 7.315604</td><td>4.602649</td><td>12.062300</td><td>5.649441</td><td>16.55841</td></tr>\n",
       "\t<tr><td>TCGA-C5-A8YT-01A-11R-A37O-07</td><td> 633</td><td> 7.830611</td><td>5.733875</td><td>12.445548</td><td>13.76547</td><td>5.455125</td><td>13.049104</td><td>5.146455</td><td>5.074289</td><td>⋯</td><td> 9.453187</td><td>6.398956</td><td>12.288955</td><td>13.39633</td><td>10.228758</td><td> 8.542025</td><td>4.602649</td><td>11.765396</td><td>5.318924</td><td>13.55632</td></tr>\n",
       "\t<tr><td>TCGA-C5-A2LZ-01A-11R-A213-07</td><td>3046</td><td>10.135550</td><td>4.865349</td><td> 8.566221</td><td>10.84231</td><td>4.865349</td><td> 5.241781</td><td>6.669045</td><td>4.602649</td><td>⋯</td><td>11.492135</td><td>7.426145</td><td> 9.480199</td><td>15.92715</td><td> 6.010764</td><td> 7.405245</td><td>4.602649</td><td> 7.506731</td><td>5.423416</td><td>14.73802</td></tr>\n",
       "\t<tr><td>TCGA-VS-A9V1-01A-11R-A42T-07</td><td> 157</td><td> 6.893100</td><td>6.334201</td><td>10.871571</td><td>12.21604</td><td>4.602649</td><td> 5.153289</td><td>5.153289</td><td>6.749410</td><td>⋯</td><td> 9.319180</td><td>7.444380</td><td> 8.707254</td><td>12.23439</td><td> 6.011689</td><td>10.391491</td><td>4.602649</td><td> 7.767144</td><td>5.376786</td><td>16.71254</td></tr>\n",
       "\t<tr><td>TCGA-C5-A1BE-01B-11R-A13Y-07</td><td>2094</td><td>10.642039</td><td>5.348449</td><td> 8.945220</td><td>13.41922</td><td>4.602649</td><td> 5.867905</td><td>5.646251</td><td>4.602649</td><td>⋯</td><td>11.696884</td><td>6.384980</td><td> 9.774029</td><td>15.38194</td><td> 6.205261</td><td> 7.163053</td><td>4.957257</td><td>10.113788</td><td>5.213815</td><td>15.56497</td></tr>\n",
       "\t<tr><td>TCGA-C5-A8XH-01A-11R-A37O-07</td><td>1394</td><td> 9.633752</td><td>5.908552</td><td>11.672191</td><td>13.86377</td><td>4.602649</td><td> 5.339887</td><td>5.702581</td><td>5.389600</td><td>⋯</td><td>11.148165</td><td>7.526140</td><td> 8.561116</td><td>14.40442</td><td> 6.462928</td><td> 6.102570</td><td>4.602649</td><td> 9.104547</td><td>5.088257</td><td>15.19735</td></tr>\n",
       "</tbody>\n",
       "</table>\n"
      ],
      "text/latex": [
       "A tibble: 6 × 1010\n",
       "\\begin{tabular}{lllllllllllllllllllll}\n",
       " sample\\_name & survival\\_time & PGF & TIMP4 & C1QTNF6 & TNC & PRL & OGN & C1QL3 & FGB & ⋯ & PIK3IP1 & C1QTNF2 & PCSK5 & ANXA1 & HGF & VWA2 & FGF3 & POSTN & NTF3 & S100A6\\\\\n",
       " <chr> & <dbl> & <dbl> & <dbl> & <dbl> & <dbl> & <dbl> & <dbl> & <dbl> & <dbl> & ⋯ & <dbl> & <dbl> & <dbl> & <dbl> & <dbl> & <dbl> & <dbl> & <dbl> & <dbl> & <dbl>\\\\\n",
       "\\hline\n",
       "\t TCGA-C5-A1BF-01B-11R-A13Y-07 &  570 & 10.800637 & 6.228003 & 11.669331 & 13.00293 & 5.063964 &  4.869744 & 5.063964 & 8.834522 & ⋯ &  9.013453 & 8.190325 &  9.503647 & 14.07799 &  6.569726 &  7.315604 & 4.602649 & 12.062300 & 5.649441 & 16.55841\\\\\n",
       "\t TCGA-C5-A8YT-01A-11R-A37O-07 &  633 &  7.830611 & 5.733875 & 12.445548 & 13.76547 & 5.455125 & 13.049104 & 5.146455 & 5.074289 & ⋯ &  9.453187 & 6.398956 & 12.288955 & 13.39633 & 10.228758 &  8.542025 & 4.602649 & 11.765396 & 5.318924 & 13.55632\\\\\n",
       "\t TCGA-C5-A2LZ-01A-11R-A213-07 & 3046 & 10.135550 & 4.865349 &  8.566221 & 10.84231 & 4.865349 &  5.241781 & 6.669045 & 4.602649 & ⋯ & 11.492135 & 7.426145 &  9.480199 & 15.92715 &  6.010764 &  7.405245 & 4.602649 &  7.506731 & 5.423416 & 14.73802\\\\\n",
       "\t TCGA-VS-A9V1-01A-11R-A42T-07 &  157 &  6.893100 & 6.334201 & 10.871571 & 12.21604 & 4.602649 &  5.153289 & 5.153289 & 6.749410 & ⋯ &  9.319180 & 7.444380 &  8.707254 & 12.23439 &  6.011689 & 10.391491 & 4.602649 &  7.767144 & 5.376786 & 16.71254\\\\\n",
       "\t TCGA-C5-A1BE-01B-11R-A13Y-07 & 2094 & 10.642039 & 5.348449 &  8.945220 & 13.41922 & 4.602649 &  5.867905 & 5.646251 & 4.602649 & ⋯ & 11.696884 & 6.384980 &  9.774029 & 15.38194 &  6.205261 &  7.163053 & 4.957257 & 10.113788 & 5.213815 & 15.56497\\\\\n",
       "\t TCGA-C5-A8XH-01A-11R-A37O-07 & 1394 &  9.633752 & 5.908552 & 11.672191 & 13.86377 & 4.602649 &  5.339887 & 5.702581 & 5.389600 & ⋯ & 11.148165 & 7.526140 &  8.561116 & 14.40442 &  6.462928 &  6.102570 & 4.602649 &  9.104547 & 5.088257 & 15.19735\\\\\n",
       "\\end{tabular}\n"
      ],
      "text/markdown": [
       "\n",
       "A tibble: 6 × 1010\n",
       "\n",
       "| sample_name &lt;chr&gt; | survival_time &lt;dbl&gt; | PGF &lt;dbl&gt; | TIMP4 &lt;dbl&gt; | C1QTNF6 &lt;dbl&gt; | TNC &lt;dbl&gt; | PRL &lt;dbl&gt; | OGN &lt;dbl&gt; | C1QL3 &lt;dbl&gt; | FGB &lt;dbl&gt; | ⋯ ⋯ | PIK3IP1 &lt;dbl&gt; | C1QTNF2 &lt;dbl&gt; | PCSK5 &lt;dbl&gt; | ANXA1 &lt;dbl&gt; | HGF &lt;dbl&gt; | VWA2 &lt;dbl&gt; | FGF3 &lt;dbl&gt; | POSTN &lt;dbl&gt; | NTF3 &lt;dbl&gt; | S100A6 &lt;dbl&gt; |\n",
       "|---|---|---|---|---|---|---|---|---|---|---|---|---|---|---|---|---|---|---|---|---|\n",
       "| TCGA-C5-A1BF-01B-11R-A13Y-07 |  570 | 10.800637 | 6.228003 | 11.669331 | 13.00293 | 5.063964 |  4.869744 | 5.063964 | 8.834522 | ⋯ |  9.013453 | 8.190325 |  9.503647 | 14.07799 |  6.569726 |  7.315604 | 4.602649 | 12.062300 | 5.649441 | 16.55841 |\n",
       "| TCGA-C5-A8YT-01A-11R-A37O-07 |  633 |  7.830611 | 5.733875 | 12.445548 | 13.76547 | 5.455125 | 13.049104 | 5.146455 | 5.074289 | ⋯ |  9.453187 | 6.398956 | 12.288955 | 13.39633 | 10.228758 |  8.542025 | 4.602649 | 11.765396 | 5.318924 | 13.55632 |\n",
       "| TCGA-C5-A2LZ-01A-11R-A213-07 | 3046 | 10.135550 | 4.865349 |  8.566221 | 10.84231 | 4.865349 |  5.241781 | 6.669045 | 4.602649 | ⋯ | 11.492135 | 7.426145 |  9.480199 | 15.92715 |  6.010764 |  7.405245 | 4.602649 |  7.506731 | 5.423416 | 14.73802 |\n",
       "| TCGA-VS-A9V1-01A-11R-A42T-07 |  157 |  6.893100 | 6.334201 | 10.871571 | 12.21604 | 4.602649 |  5.153289 | 5.153289 | 6.749410 | ⋯ |  9.319180 | 7.444380 |  8.707254 | 12.23439 |  6.011689 | 10.391491 | 4.602649 |  7.767144 | 5.376786 | 16.71254 |\n",
       "| TCGA-C5-A1BE-01B-11R-A13Y-07 | 2094 | 10.642039 | 5.348449 |  8.945220 | 13.41922 | 4.602649 |  5.867905 | 5.646251 | 4.602649 | ⋯ | 11.696884 | 6.384980 |  9.774029 | 15.38194 |  6.205261 |  7.163053 | 4.957257 | 10.113788 | 5.213815 | 15.56497 |\n",
       "| TCGA-C5-A8XH-01A-11R-A37O-07 | 1394 |  9.633752 | 5.908552 | 11.672191 | 13.86377 | 4.602649 |  5.339887 | 5.702581 | 5.389600 | ⋯ | 11.148165 | 7.526140 |  8.561116 | 14.40442 |  6.462928 |  6.102570 | 4.602649 |  9.104547 | 5.088257 | 15.19735 |\n",
       "\n"
      ],
      "text/plain": [
       "  sample_name                  survival_time PGF       TIMP4    C1QTNF6  \n",
       "1 TCGA-C5-A1BF-01B-11R-A13Y-07  570          10.800637 6.228003 11.669331\n",
       "2 TCGA-C5-A8YT-01A-11R-A37O-07  633           7.830611 5.733875 12.445548\n",
       "3 TCGA-C5-A2LZ-01A-11R-A213-07 3046          10.135550 4.865349  8.566221\n",
       "4 TCGA-VS-A9V1-01A-11R-A42T-07  157           6.893100 6.334201 10.871571\n",
       "5 TCGA-C5-A1BE-01B-11R-A13Y-07 2094          10.642039 5.348449  8.945220\n",
       "6 TCGA-C5-A8XH-01A-11R-A37O-07 1394           9.633752 5.908552 11.672191\n",
       "  TNC      PRL      OGN       C1QL3    FGB      ⋯ PIK3IP1   C1QTNF2  PCSK5    \n",
       "1 13.00293 5.063964  4.869744 5.063964 8.834522 ⋯  9.013453 8.190325  9.503647\n",
       "2 13.76547 5.455125 13.049104 5.146455 5.074289 ⋯  9.453187 6.398956 12.288955\n",
       "3 10.84231 4.865349  5.241781 6.669045 4.602649 ⋯ 11.492135 7.426145  9.480199\n",
       "4 12.21604 4.602649  5.153289 5.153289 6.749410 ⋯  9.319180 7.444380  8.707254\n",
       "5 13.41922 4.602649  5.867905 5.646251 4.602649 ⋯ 11.696884 6.384980  9.774029\n",
       "6 13.86377 4.602649  5.339887 5.702581 5.389600 ⋯ 11.148165 7.526140  8.561116\n",
       "  ANXA1    HGF       VWA2      FGF3     POSTN     NTF3     S100A6  \n",
       "1 14.07799  6.569726  7.315604 4.602649 12.062300 5.649441 16.55841\n",
       "2 13.39633 10.228758  8.542025 4.602649 11.765396 5.318924 13.55632\n",
       "3 15.92715  6.010764  7.405245 4.602649  7.506731 5.423416 14.73802\n",
       "4 12.23439  6.011689 10.391491 4.602649  7.767144 5.376786 16.71254\n",
       "5 15.38194  6.205261  7.163053 4.957257 10.113788 5.213815 15.56497\n",
       "6 14.40442  6.462928  6.102570 4.602649  9.104547 5.088257 15.19735"
      ]
     },
     "metadata": {},
     "output_type": "display_data"
    }
   ],
   "source": [
    "nrow(norm_survival_counts_t_df)\n",
    "head(norm_survival_counts_t_df)"
   ]
  },
  {
   "cell_type": "code",
   "execution_count": 11,
   "metadata": {},
   "outputs": [],
   "source": [
    "filtered_survival_counts_t_df <- filter_outliers_IQR(norm_survival_counts_t_df, \"survival_time\", coef = 1.5)"
   ]
  },
  {
   "cell_type": "code",
   "execution_count": 12,
   "metadata": {},
   "outputs": [
    {
     "name": "stderr",
     "output_type": "stream",
     "text": [
      "Warning message in cor(x, y):\n",
      "“the standard deviation is zero”Warning message in cor(x, y):\n",
      "“the standard deviation is zero”Warning message in cor(x, y):\n",
      "“the standard deviation is zero”Warning message in cor(x, y):\n",
      "“the standard deviation is zero”Warning message in cor(x, y):\n",
      "“the standard deviation is zero”Warning message in cor(x, y):\n",
      "“the standard deviation is zero”Warning message in cor(x, y):\n",
      "“the standard deviation is zero”Warning message in cor(x, y):\n",
      "“the standard deviation is zero”Warning message in cor(x, y):\n",
      "“the standard deviation is zero”"
     ]
    }
   ],
   "source": [
    "cor_test_df <- colwise_cor_test(\n",
    "    filtered_survival_counts_t_df,\n",
    "    colnames(filtered_survival_counts_t_df)[-c(1:2)],\n",
    "    \"survival_time\",\n",
    "    v = \"geneID\"\n",
    ")"
   ]
  },
  {
   "cell_type": "code",
   "execution_count": 13,
   "metadata": {},
   "outputs": [
    {
     "data": {
      "text/html": [
       "<style>\n",
       ".list-inline {list-style: none; margin:0; padding: 0}\n",
       ".list-inline>li {display: inline-block}\n",
       ".list-inline>li:not(:last-child)::after {content: \"\\00b7\"; padding: 0 .5ex}\n",
       "</style>\n",
       "<ol class=list-inline><li>1008</li><li>4</li></ol>\n"
      ],
      "text/latex": [
       "\\begin{enumerate*}\n",
       "\\item 1008\n",
       "\\item 4\n",
       "\\end{enumerate*}\n"
      ],
      "text/markdown": [
       "1. 1008\n",
       "2. 4\n",
       "\n",
       "\n"
      ],
      "text/plain": [
       "[1] 1008    4"
      ]
     },
     "metadata": {},
     "output_type": "display_data"
    },
    {
     "data": {
      "text/html": [
       "<table>\n",
       "<caption>A tibble: 6 × 4</caption>\n",
       "<thead>\n",
       "\t<tr><th scope=col>geneID</th><th scope=col>cor</th><th scope=col>pval</th><th scope=col>n</th></tr>\n",
       "\t<tr><th scope=col>&lt;chr&gt;</th><th scope=col>&lt;dbl&gt;</th><th scope=col>&lt;dbl&gt;</th><th scope=col>&lt;int&gt;</th></tr>\n",
       "</thead>\n",
       "<tbody>\n",
       "\t<tr><td>PGF    </td><td>-0.239511697</td><td>0.06301199</td><td>61</td></tr>\n",
       "\t<tr><td>TIMP4  </td><td>-0.060178185</td><td>0.64501303</td><td>61</td></tr>\n",
       "\t<tr><td>C1QTNF6</td><td>-0.275997697</td><td>0.03131662</td><td>61</td></tr>\n",
       "\t<tr><td>TNC    </td><td> 0.009778688</td><td>0.94037723</td><td>61</td></tr>\n",
       "\t<tr><td>PRL    </td><td>-0.126888957</td><td>0.32981912</td><td>61</td></tr>\n",
       "\t<tr><td>OGN    </td><td> 0.179234460</td><td>0.16693270</td><td>61</td></tr>\n",
       "</tbody>\n",
       "</table>\n"
      ],
      "text/latex": [
       "A tibble: 6 × 4\n",
       "\\begin{tabular}{llll}\n",
       " geneID & cor & pval & n\\\\\n",
       " <chr> & <dbl> & <dbl> & <int>\\\\\n",
       "\\hline\n",
       "\t PGF     & -0.239511697 & 0.06301199 & 61\\\\\n",
       "\t TIMP4   & -0.060178185 & 0.64501303 & 61\\\\\n",
       "\t C1QTNF6 & -0.275997697 & 0.03131662 & 61\\\\\n",
       "\t TNC     &  0.009778688 & 0.94037723 & 61\\\\\n",
       "\t PRL     & -0.126888957 & 0.32981912 & 61\\\\\n",
       "\t OGN     &  0.179234460 & 0.16693270 & 61\\\\\n",
       "\\end{tabular}\n"
      ],
      "text/markdown": [
       "\n",
       "A tibble: 6 × 4\n",
       "\n",
       "| geneID &lt;chr&gt; | cor &lt;dbl&gt; | pval &lt;dbl&gt; | n &lt;int&gt; |\n",
       "|---|---|---|---|\n",
       "| PGF     | -0.239511697 | 0.06301199 | 61 |\n",
       "| TIMP4   | -0.060178185 | 0.64501303 | 61 |\n",
       "| C1QTNF6 | -0.275997697 | 0.03131662 | 61 |\n",
       "| TNC     |  0.009778688 | 0.94037723 | 61 |\n",
       "| PRL     | -0.126888957 | 0.32981912 | 61 |\n",
       "| OGN     |  0.179234460 | 0.16693270 | 61 |\n",
       "\n"
      ],
      "text/plain": [
       "  geneID  cor          pval       n \n",
       "1 PGF     -0.239511697 0.06301199 61\n",
       "2 TIMP4   -0.060178185 0.64501303 61\n",
       "3 C1QTNF6 -0.275997697 0.03131662 61\n",
       "4 TNC      0.009778688 0.94037723 61\n",
       "5 PRL     -0.126888957 0.32981912 61\n",
       "6 OGN      0.179234460 0.16693270 61"
      ]
     },
     "metadata": {},
     "output_type": "display_data"
    }
   ],
   "source": [
    "dim(cor_test_df)\n",
    "head(cor_test_df)"
   ]
  },
  {
   "cell_type": "code",
   "execution_count": 14,
   "metadata": {},
   "outputs": [
    {
     "data": {
      "text/html": [
       "108"
      ],
      "text/latex": [
       "108"
      ],
      "text/markdown": [
       "108"
      ],
      "text/plain": [
       "[1] 108"
      ]
     },
     "metadata": {},
     "output_type": "display_data"
    }
   ],
   "source": [
    "nrow(cor_test_df %>%\n",
    "    dplyr::filter(pval < 0.05))"
   ]
  },
  {
   "cell_type": "code",
   "execution_count": null,
   "metadata": {},
   "outputs": [],
   "source": [
    "write_tsv(cor_test_df, paste0(dirs$analysis_dir, \"/\", unified_dsets[dset_idx], \"_cor_results_outliers_removed.tsv\"))"
   ]
  },
  {
   "cell_type": "code",
   "execution_count": null,
   "metadata": {},
   "outputs": [],
   "source": []
  }
 ],
 "metadata": {
  "kernelspec": {
   "display_name": "R",
   "language": "R",
   "name": "ir"
  },
  "language_info": {
   "codemirror_mode": "r",
   "file_extension": ".r",
   "mimetype": "text/x-r-source",
   "name": "R",
   "pygments_lexer": "r",
   "version": "3.6.3"
  }
 },
 "nbformat": 4,
 "nbformat_minor": 4
}
