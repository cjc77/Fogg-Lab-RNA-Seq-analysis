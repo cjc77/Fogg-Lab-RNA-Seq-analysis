{
 "cells": [
  {
   "cell_type": "code",
   "execution_count": 1,
   "metadata": {},
   "outputs": [],
   "source": [
    "import pandas as pd\n",
    "import numpy as np\n",
    "from time import perf_counter\n",
    "from sklearn.svm import SVR\n",
    "from sklearn.ensemble import GradientBoostingRegressor\n",
    "from sklearn.pipeline import make_pipeline, Pipeline\n",
    "from sklearn.preprocessing import StandardScaler, FunctionTransformer\n",
    "from sklearn.model_selection import cross_val_score, KFold\n",
    "from sklearn.compose import ColumnTransformer, TransformedTargetRegressor\n",
    "from sklearn.inspection import permutation_importance\n",
    "from sklearn.metrics import mean_absolute_error, r2_score, explained_variance_score\n",
    "from scipy import stats\n",
    "import seaborn as sns\n",
    "import matplotlib.pyplot as plt\n",
    "\n",
    "import utils.dev_config as dev_conf\n",
    "import utils.preprocessing as prep"
   ]
  },
  {
   "cell_type": "code",
   "execution_count": 2,
   "metadata": {},
   "outputs": [],
   "source": [
    "dirs = dev_conf.get_dev_directories(\"../dev_paths.txt\")\n",
    "unified_dsets = [\"unified_cervical_data\", \"unified_uterine_data\", \"unified_uterine_endometrial_data\"]\n",
    "matrisome_list = f\"{dirs.data_dir}/matrisome/matrisome_hs_masterlist.tsv\""
   ]
  },
  {
   "cell_type": "code",
   "execution_count": 3,
   "metadata": {},
   "outputs": [],
   "source": [
    "i = 0"
   ]
  },
  {
   "cell_type": "code",
   "execution_count": 4,
   "metadata": {},
   "outputs": [],
   "source": [
    "matrisome_df = prep.load_matrisome_df(matrisome_list)"
   ]
  },
  {
   "cell_type": "code",
   "execution_count": 5,
   "metadata": {},
   "outputs": [],
   "source": [
    "seed = 123\n",
    "rand = np.random.RandomState()"
   ]
  },
  {
   "cell_type": "code",
   "execution_count": 6,
   "metadata": {},
   "outputs": [],
   "source": [
    "score_dict = {\"neg_mean_absolute_error\": lambda y_true, y_pred: -mean_absolute_error(y_true, y_pred)}\n",
    "\n",
    "def cv_permutation_importance(estimator, X, y, k=5, metric=\"neg_mean_absolute_error\", random_state=None, n_repeats=11):\n",
    "    metric_fun = score_dict[metric]\n",
    "    \n",
    "    kf = KFold(n_splits=k)\n",
    "    results = []\n",
    "    ref_scores = []\n",
    "    for train_idx, test_idx in kf.split(X):\n",
    "        # Train/retrain from scratch\n",
    "        estimator.fit(X.iloc[train_idx], y.iloc[train_idx])\n",
    "        result = permutation_importance(estimator, X.iloc[test_idx], y.iloc[test_idx], scoring=metric, n_jobs=-1, n_repeats=n_repeats, random_state=random_state)\n",
    "        yhat = estimator.predict(X.iloc[test_idx])\n",
    "        ref_scores.append(metric_fun(y.iloc[test_idx].values, yhat))\n",
    "        results.append(result)\n",
    "    return results, np.array(ref_scores)\n",
    "\n",
    "def prep_data(df, r, seed):\n",
    "    r.seed(seed)\n",
    "    shuffled_df = df.sample(frac=1, random_state=r)\n",
    "    x_df = shuffled_df.iloc[:, 1:]\n",
    "    y_df = shuffled_df.iloc[:, [0]]\n",
    "    return x_df, y_df"
   ]
  },
  {
   "cell_type": "code",
   "execution_count": 7,
   "metadata": {},
   "outputs": [],
   "source": [
    "def gather_perm_res(x_df, mean_importances, ref_score_mean, gene_cols):\n",
    "    perm_res_df = pd.DataFrame({\n",
    "        \"geneID\": x_df.columns,\n",
    "        \"mean_imp\": mean_importances\n",
    "    })\n",
    "    perm_res_df = (\n",
    "        perm_res_df[perm_res_df.geneID.isin(gene_cols)]\n",
    "            .assign(score_pct_improvement = lambda x: x.mean_imp / np.abs(ref_score_mean))\n",
    "            .reset_index(drop=True)\n",
    "    )\n",
    "    return perm_res_df\n",
    "\n",
    "\n",
    "def vis_performance(estimator, x, y, random_state):\n",
    "    train_size = int(x.shape[0] * 2/3)\n",
    "    test_size = x.shape[0] - train_size\n",
    "    train_idx = random_state.choice(x.shape[0], size=train_size, replace=False)\n",
    "    train_mask = np.in1d(np.arange(x.shape[0]), train_idx)\n",
    "    \n",
    "    estimator.fit(x[train_mask], y[train_mask])\n",
    "    yhat = estimator.predict(x[~train_mask])\n",
    "    \n",
    "    pred_df = pd.DataFrame({\"y\": np.squeeze(y[~train_mask].values), \"yhat\": np.squeeze(yhat)})\n",
    "    pred_df[\"obs\"] = pred_df.index\n",
    "    pred_df = pd.melt(pred_df, id_vars=[\"obs\"], value_vars=[\"y\", \"yhat\"], var_name=\"y_type\", value_name=\"y_val\")\n",
    "    \n",
    "    ys = list(zip(np.squeeze(y[~train_mask].values), np.squeeze(yhat)))\n",
    "    xs = list(range(test_size))\n",
    "    \n",
    "    _, ax = plt.subplots(figsize=(10, 6))\n",
    "    sns.scatterplot(data=pred_df, x=\"obs\", y=\"y_val\", hue=\"y_type\", ax=ax)\n",
    "    ax.plot((xs, xs), ([i for (i, j) in ys], [j for (i, j) in ys]), c=\"black\", alpha=0.2)\n",
    "    return ax"
   ]
  },
  {
   "cell_type": "markdown",
   "metadata": {},
   "source": [
    "# Load and filter survival data"
   ]
  },
  {
   "cell_type": "code",
   "execution_count": 8,
   "metadata": {},
   "outputs": [],
   "source": [
    "event_code = {\"Alive\": 0, \"Dead\": 1}\n",
    "covariate_cols = [\"figo_stage\", \"age_at_diagnosis\", \"race\", \"ethnicity\"]\n",
    "dep_cols = [\"vital_status\", \"survival_time\"]\n",
    "cat_cols = [\"race\", \"ethnicity\", \"figo_chr\"]\n",
    "survival_df = prep.load_survival_df(f\"{dirs.data_dir}/{unified_dsets[i]}/survival_data.tsv\", event_code)"
   ]
  },
  {
   "cell_type": "code",
   "execution_count": 9,
   "metadata": {},
   "outputs": [
    {
     "name": "stdout",
     "output_type": "stream",
     "text": [
      "(66, 16)\n"
     ]
    }
   ],
   "source": [
    "filtered_survival_df = (\n",
    "    prep.decode_figo_stage(survival_df[[\"sample_name\"] + dep_cols + covariate_cols].dropna(), to=\"c\")\n",
    "        .query(\"vital_status == 1\")\n",
    "        .drop([\"vital_status\"], axis=1)\n",
    "        .pipe(pd.get_dummies, columns=cat_cols)\n",
    "        .reset_index(drop = True)\n",
    ")\n",
    "filtered_survival_df.columns = filtered_survival_df.columns.str.replace(' ', '_')\n",
    "\n",
    "print(filtered_survival_df.shape)\n",
    "# filtered_survival_df.head()"
   ]
  },
  {
   "cell_type": "markdown",
   "metadata": {},
   "source": [
    "# Load normalized matrisome count data"
   ]
  },
  {
   "cell_type": "code",
   "execution_count": 10,
   "metadata": {},
   "outputs": [
    {
     "name": "stdout",
     "output_type": "stream",
     "text": [
      "(66, 1009)\n"
     ]
    }
   ],
   "source": [
    "norm_matrisome_counts_df = pd.read_csv(f\"{dirs.data_dir}/{unified_dsets[i]}/norm_matrisome_counts.tsv\", sep='\\t')\n",
    "norm_filtered_matrisome_counts_t_df = prep.transpose_df(\n",
    "    norm_matrisome_counts_df[[\"geneID\"] + list(filtered_survival_df.sample_name)], \"geneID\", \"sample_name\"\n",
    ")\n",
    "print(norm_filtered_matrisome_counts_t_df.shape)\n",
    "# norm_filtered_matrisome_counts_t_df.head()"
   ]
  },
  {
   "cell_type": "markdown",
   "metadata": {},
   "source": [
    "# Join survival and count data"
   ]
  },
  {
   "cell_type": "code",
   "execution_count": 11,
   "metadata": {},
   "outputs": [
    {
     "name": "stdout",
     "output_type": "stream",
     "text": [
      "(66, 1023)\n"
     ]
    }
   ],
   "source": [
    "joined_df = (\n",
    "    pd.merge(filtered_survival_df, norm_filtered_matrisome_counts_t_df, on=\"sample_name\")\n",
    "        .set_index(\"sample_name\")\n",
    ")\n",
    "print(joined_df.shape)\n",
    "# joined_df.head()"
   ]
  },
  {
   "cell_type": "markdown",
   "metadata": {},
   "source": [
    "# Cross validated feature permutation importance"
   ]
  },
  {
   "cell_type": "markdown",
   "metadata": {},
   "source": [
    "# Create models from saved optimizer results"
   ]
  },
  {
   "cell_type": "markdown",
   "metadata": {},
   "source": [
    "## SVR\n",
    "Need to do feature permutation importance, since we use a kernel method"
   ]
  },
  {
   "cell_type": "code",
   "execution_count": 12,
   "metadata": {},
   "outputs": [],
   "source": [
    "svr_h_param_df = pd.read_csv(\"opt_svr_h_params.tsv\", sep=\"\\t\")\n",
    "svr_kwargs = pd.Series(svr_h_param_df.param_value[:-1].values, index=svr_h_param_df.param[:-1]).to_dict()\n",
    "svr = SVR(\n",
    "    kernel=svr_kwargs[\"kernel\"],\n",
    "    C=float(svr_kwargs[\"C\"]),\n",
    "    epsilon=float(svr_kwargs[\"epsilon\"]),\n",
    "    gamma=float(svr_kwargs[\"gamma\"]),\n",
    "    degree=int(svr_kwargs[\"degree\"]),\n",
    "    coef0=float(svr_kwargs[\"coef0\"])\n",
    ")\n",
    "svr_pipeline = make_pipeline(\n",
    "    ColumnTransformer([\n",
    "        (\"standard\", StandardScaler(), [\"age_at_diagnosis\"] + list(norm_filtered_matrisome_counts_t_df.columns[1:]))\n",
    "    ], remainder=\"passthrough\"),\n",
    "    svr\n",
    ")\n",
    "svr_ttr = TransformedTargetRegressor(regressor=svr_pipeline, transformer=StandardScaler())"
   ]
  },
  {
   "cell_type": "markdown",
   "metadata": {},
   "source": [
    "## Gradient Boosted Regressor"
   ]
  },
  {
   "cell_type": "code",
   "execution_count": 13,
   "metadata": {},
   "outputs": [],
   "source": [
    "gbr_h_param_df = pd.read_csv(\"opt_gbr_h_params.tsv\", sep=\"\\t\")\n",
    "gbr_kwargs = pd.Series(gbr_h_param_df.param_value[:-1].values, index=gbr_h_param_df.param[:-1]).to_dict()\n",
    "gbr = GradientBoostingRegressor(\n",
    "    loss=gbr_kwargs[\"loss\"],\n",
    "    learning_rate=float(gbr_kwargs[\"learning_rate\"]),\n",
    "    n_estimators=int(gbr_kwargs[\"n_estimators\"]),\n",
    "    max_depth=int(gbr_kwargs[\"max_depth\"]),\n",
    "    max_features=gbr_kwargs[\"max_features\"],\n",
    "    alpha=float(gbr_kwargs[\"alpha\"])\n",
    ")\n",
    "\n",
    "gbr_pipeline = make_pipeline(\n",
    "    ColumnTransformer([\n",
    "        (\"standard\", StandardScaler(), [\"age_at_diagnosis\"] + list(norm_filtered_matrisome_counts_t_df.columns[1:]))\n",
    "    ], remainder=\"passthrough\"),\n",
    "    gbr\n",
    ")\n",
    "gbr_ttr = TransformedTargetRegressor(regressor=gbr_pipeline, transformer=StandardScaler())"
   ]
  },
  {
   "cell_type": "markdown",
   "metadata": {},
   "source": [
    "# Collect feature permutation results\n",
    "$baseline - perm\\_score > 0 \\Longrightarrow \\text{feature permutation reduces performance} \\Longrightarrow \\text{feature is important}$\n",
    "\n",
    "EX:\n",
    "\n",
    "$baseline\\_neg\\_MAE = -500, \\; perm\\_neg\\_MAE = -510$\n",
    "\n",
    "$\\Longrightarrow -500 -(-510) = 10 > 0 \\Longrightarrow perm\\_importance > 0 \\Longrightarrow \\text{feature is important}$"
   ]
  },
  {
   "cell_type": "code",
   "execution_count": 14,
   "metadata": {},
   "outputs": [],
   "source": [
    "x_df, y_df = prep_data(joined_df, rand, seed)\n",
    "svr_perm_res, svr_ref_scores = cv_permutation_importance(svr_ttr, x_df, y_df, random_state=rand)"
   ]
  },
  {
   "cell_type": "code",
   "execution_count": 15,
   "metadata": {},
   "outputs": [
    {
     "data": {
      "text/plain": [
       "4.398964304440716"
      ]
     },
     "execution_count": 15,
     "metadata": {},
     "output_type": "execute_result"
    }
   ],
   "source": [
    "svr_perm_imp = np.concatenate([\n",
    "    (r.importances) for r in svr_perm_res\n",
    "], axis=1)\n",
    "svr_imp_meds = np.median(svr_perm_imp, axis=1)\n",
    "svr_imp_means = np.mean(svr_perm_imp, axis=1)\n",
    "\n",
    "# Assuming each feature was equally important, we would expect them to influence the reference metric by this value\n",
    "svr_ref_score_mean = svr_ref_scores.mean()\n",
    "svr_ref_score_med = np.median(svr_ref_scores)\n",
    "svr_naive_ref_score = -mean_absolute_error(y_df.values, np.repeat(np.median(y_df.values), y_df.shape[0])[:, np.newaxis])\n",
    "(svr_ref_score_mean - svr_naive_ref_score) / np.abs(svr_naive_ref_score) * 100"
   ]
  },
  {
   "cell_type": "code",
   "execution_count": 16,
   "metadata": {},
   "outputs": [
    {
     "data": {
      "image/png": "[encoded data removed]",
      "text/plain": [
       "<Figure size 720x432 with 1 Axes>"
      ]
     },
     "metadata": {
      "needs_background": "light"
     },
     "output_type": "display_data"
    }
   ],
   "source": [
    "ax = vis_performance(svr_ttr, x_df, y_df, rand)\n",
    "plt.show()"
   ]
  },
  {
   "cell_type": "code",
   "execution_count": 17,
   "metadata": {},
   "outputs": [],
   "source": [
    "svr_perm_res_df = pd.DataFrame({\n",
    "    \"geneID\": x_df.columns,\n",
    "    \"mean_imp\": svr_imp_means\n",
    "})\n",
    "svr_perm_res_df = (\n",
    "    svr_perm_res_df[svr_perm_res_df.geneID.isin(norm_filtered_matrisome_counts_t_df.columns[1:])]\n",
    "        .assign(mean_score_pct_improvement = lambda x: x.mean_imp / np.abs(svr_ref_score_mean) * 100)\n",
    "        .reset_index(drop=True)\n",
    ")"
   ]
  },
  {
   "cell_type": "code",
   "execution_count": 18,
   "metadata": {},
   "outputs": [],
   "source": [
    "x_df, y_df = prep_data(joined_df, rand, seed)\n",
    "gbr_perm_res, gbr_ref_scores = cv_permutation_importance(gbr_ttr, x_df, y_df, random_state=rand)"
   ]
  },
  {
   "cell_type": "code",
   "execution_count": 19,
   "metadata": {},
   "outputs": [
    {
     "data": {
      "text/plain": [
       "5.9976187158758725"
      ]
     },
     "execution_count": 19,
     "metadata": {},
     "output_type": "execute_result"
    }
   ],
   "source": [
    "gbr_perm_imp = np.concatenate([\n",
    "    (r.importances) for r in gbr_perm_res\n",
    "], axis=1)\n",
    "gbr_imp_meds = np.median(gbr_perm_imp, axis=1)\n",
    "gbr_imp_means = np.mean(gbr_perm_imp, axis=1)\n",
    "\n",
    "# Assuming each feature was equally important, we would expect them to influence the reference metric by this value\n",
    "gbr_ref_score_mean = gbr_ref_scores.mean()\n",
    "gbr_ref_score_med = np.median(gbr_ref_scores)\n",
    "gbr_naive_ref_score = -mean_absolute_error(y_df.values, np.repeat(np.median(y_df.values), y_df.shape[0])[:, np.newaxis])\n",
    "(gbr_ref_score_mean - gbr_naive_ref_score) / np.abs(gbr_naive_ref_score) * 100"
   ]
  },
  {
   "cell_type": "code",
   "execution_count": 20,
   "metadata": {},
   "outputs": [
    {
     "data": {
      "image/png": "[encoded data removed]",
      "text/plain": [
       "<Figure size 720x432 with 1 Axes>"
      ]
     },
     "metadata": {
      "needs_background": "light"
     },
     "output_type": "display_data"
    }
   ],
   "source": [
    "ax = vis_performance(gbr_ttr, x_df, y_df, rand)\n",
    "plt.show()"
   ]
  },
  {
   "cell_type": "code",
   "execution_count": 21,
   "metadata": {},
   "outputs": [],
   "source": [
    "gbr_perm_res_df = pd.DataFrame({\n",
    "    \"geneID\": x_df.columns,\n",
    "    \"mean_imp\": gbr_imp_means\n",
    "})\n",
    "gbr_perm_res_df = (\n",
    "    gbr_perm_res_df[gbr_perm_res_df.geneID.isin(norm_filtered_matrisome_counts_t_df.columns[1:])]\n",
    "        .assign(mean_score_pct_improvement = lambda x: x.mean_imp / np.abs(gbr_ref_score_mean) * 100)\n",
    "        .reset_index(drop=True)\n",
    ")"
   ]
  },
  {
   "cell_type": "markdown",
   "metadata": {},
   "source": [
    "# GBR seems to react much more strongly to feature permutation than SVR"
   ]
  },
  {
   "cell_type": "code",
   "execution_count": 22,
   "metadata": {},
   "outputs": [
    {
     "data": {
      "text/html": [
       "<div>\n",
       "<style scoped>\n",
       "    .dataframe tbody tr th:only-of-type {\n",
       "        vertical-align: middle;\n",
       "    }\n",
       "\n",
       "    .dataframe tbody tr th {\n",
       "        vertical-align: top;\n",
       "    }\n",
       "\n",
       "    .dataframe thead th {\n",
       "        text-align: right;\n",
       "    }\n",
       "</style>\n",
       "<table border=\"1\" class=\"dataframe\">\n",
       "  <thead>\n",
       "    <tr style=\"text-align: right;\">\n",
       "      <th></th>\n",
       "      <th>geneID</th>\n",
       "      <th>mean_imp</th>\n",
       "      <th>mean_score_pct_improvement</th>\n",
       "    </tr>\n",
       "  </thead>\n",
       "  <tbody>\n",
       "    <tr>\n",
       "      <th>166</th>\n",
       "      <td>ADAM18</td>\n",
       "      <td>1.181399</td>\n",
       "      <td>0.238410</td>\n",
       "    </tr>\n",
       "    <tr>\n",
       "      <th>780</th>\n",
       "      <td>BMP3</td>\n",
       "      <td>0.933007</td>\n",
       "      <td>0.188284</td>\n",
       "    </tr>\n",
       "    <tr>\n",
       "      <th>833</th>\n",
       "      <td>MUC4</td>\n",
       "      <td>0.769031</td>\n",
       "      <td>0.155193</td>\n",
       "    </tr>\n",
       "    <tr>\n",
       "      <th>150</th>\n",
       "      <td>COLEC11</td>\n",
       "      <td>0.744186</td>\n",
       "      <td>0.150179</td>\n",
       "    </tr>\n",
       "    <tr>\n",
       "      <th>944</th>\n",
       "      <td>COL11A1</td>\n",
       "      <td>0.735722</td>\n",
       "      <td>0.148471</td>\n",
       "    </tr>\n",
       "    <tr>\n",
       "      <th>...</th>\n",
       "      <td>...</td>\n",
       "      <td>...</td>\n",
       "      <td>...</td>\n",
       "    </tr>\n",
       "    <tr>\n",
       "      <th>618</th>\n",
       "      <td>REG3A</td>\n",
       "      <td>-0.490649</td>\n",
       "      <td>-0.099015</td>\n",
       "    </tr>\n",
       "    <tr>\n",
       "      <th>394</th>\n",
       "      <td>CFC1B</td>\n",
       "      <td>-0.526662</td>\n",
       "      <td>-0.106282</td>\n",
       "    </tr>\n",
       "    <tr>\n",
       "      <th>854</th>\n",
       "      <td>CST8</td>\n",
       "      <td>-0.595529</td>\n",
       "      <td>-0.120180</td>\n",
       "    </tr>\n",
       "    <tr>\n",
       "      <th>397</th>\n",
       "      <td>VWA5B1</td>\n",
       "      <td>-1.179715</td>\n",
       "      <td>-0.238070</td>\n",
       "    </tr>\n",
       "    <tr>\n",
       "      <th>647</th>\n",
       "      <td>BRINP3</td>\n",
       "      <td>-1.402319</td>\n",
       "      <td>-0.282993</td>\n",
       "    </tr>\n",
       "  </tbody>\n",
       "</table>\n",
       "<p>1008 rows × 3 columns</p>\n",
       "</div>"
      ],
      "text/plain": [
       "      geneID  mean_imp  mean_score_pct_improvement\n",
       "166   ADAM18  1.181399                    0.238410\n",
       "780     BMP3  0.933007                    0.188284\n",
       "833     MUC4  0.769031                    0.155193\n",
       "150  COLEC11  0.744186                    0.150179\n",
       "944  COL11A1  0.735722                    0.148471\n",
       "..       ...       ...                         ...\n",
       "618    REG3A -0.490649                   -0.099015\n",
       "394    CFC1B -0.526662                   -0.106282\n",
       "854     CST8 -0.595529                   -0.120180\n",
       "397   VWA5B1 -1.179715                   -0.238070\n",
       "647   BRINP3 -1.402319                   -0.282993\n",
       "\n",
       "[1008 rows x 3 columns]"
      ]
     },
     "execution_count": 22,
     "metadata": {},
     "output_type": "execute_result"
    }
   ],
   "source": [
    "svr_perm_res_df.sort_values(\"mean_imp\", ascending=False)"
   ]
  },
  {
   "cell_type": "code",
   "execution_count": 23,
   "metadata": {},
   "outputs": [
    {
     "data": {
      "text/html": [
       "<div>\n",
       "<style scoped>\n",
       "    .dataframe tbody tr th:only-of-type {\n",
       "        vertical-align: middle;\n",
       "    }\n",
       "\n",
       "    .dataframe tbody tr th {\n",
       "        vertical-align: top;\n",
       "    }\n",
       "\n",
       "    .dataframe thead th {\n",
       "        text-align: right;\n",
       "    }\n",
       "</style>\n",
       "<table border=\"1\" class=\"dataframe\">\n",
       "  <thead>\n",
       "    <tr style=\"text-align: right;\">\n",
       "      <th></th>\n",
       "      <th>geneID</th>\n",
       "      <th>mean_imp</th>\n",
       "      <th>mean_score_pct_improvement</th>\n",
       "    </tr>\n",
       "  </thead>\n",
       "  <tbody>\n",
       "    <tr>\n",
       "      <th>981</th>\n",
       "      <td>HMCN2</td>\n",
       "      <td>32.235742</td>\n",
       "      <td>6.615911</td>\n",
       "    </tr>\n",
       "    <tr>\n",
       "      <th>91</th>\n",
       "      <td>ADAMTS15</td>\n",
       "      <td>14.540505</td>\n",
       "      <td>2.984225</td>\n",
       "    </tr>\n",
       "    <tr>\n",
       "      <th>13</th>\n",
       "      <td>ANGPT2</td>\n",
       "      <td>13.882667</td>\n",
       "      <td>2.849213</td>\n",
       "    </tr>\n",
       "    <tr>\n",
       "      <th>528</th>\n",
       "      <td>HYAL3</td>\n",
       "      <td>12.261274</td>\n",
       "      <td>2.516446</td>\n",
       "    </tr>\n",
       "    <tr>\n",
       "      <th>396</th>\n",
       "      <td>AMBP</td>\n",
       "      <td>11.881650</td>\n",
       "      <td>2.438534</td>\n",
       "    </tr>\n",
       "    <tr>\n",
       "      <th>...</th>\n",
       "      <td>...</td>\n",
       "      <td>...</td>\n",
       "      <td>...</td>\n",
       "    </tr>\n",
       "    <tr>\n",
       "      <th>939</th>\n",
       "      <td>LEPRE1</td>\n",
       "      <td>-1.907668</td>\n",
       "      <td>-0.391521</td>\n",
       "    </tr>\n",
       "    <tr>\n",
       "      <th>201</th>\n",
       "      <td>FGF10</td>\n",
       "      <td>-2.801633</td>\n",
       "      <td>-0.574994</td>\n",
       "    </tr>\n",
       "    <tr>\n",
       "      <th>231</th>\n",
       "      <td>IGFBPL1</td>\n",
       "      <td>-2.856664</td>\n",
       "      <td>-0.586288</td>\n",
       "    </tr>\n",
       "    <tr>\n",
       "      <th>197</th>\n",
       "      <td>PLAU</td>\n",
       "      <td>-3.029354</td>\n",
       "      <td>-0.621730</td>\n",
       "    </tr>\n",
       "    <tr>\n",
       "      <th>232</th>\n",
       "      <td>SERPINB1</td>\n",
       "      <td>-7.237851</td>\n",
       "      <td>-1.485462</td>\n",
       "    </tr>\n",
       "  </tbody>\n",
       "</table>\n",
       "<p>1008 rows × 3 columns</p>\n",
       "</div>"
      ],
      "text/plain": [
       "       geneID   mean_imp  mean_score_pct_improvement\n",
       "981     HMCN2  32.235742                    6.615911\n",
       "91   ADAMTS15  14.540505                    2.984225\n",
       "13     ANGPT2  13.882667                    2.849213\n",
       "528     HYAL3  12.261274                    2.516446\n",
       "396      AMBP  11.881650                    2.438534\n",
       "..        ...        ...                         ...\n",
       "939    LEPRE1  -1.907668                   -0.391521\n",
       "201     FGF10  -2.801633                   -0.574994\n",
       "231   IGFBPL1  -2.856664                   -0.586288\n",
       "197      PLAU  -3.029354                   -0.621730\n",
       "232  SERPINB1  -7.237851                   -1.485462\n",
       "\n",
       "[1008 rows x 3 columns]"
      ]
     },
     "execution_count": 23,
     "metadata": {},
     "output_type": "execute_result"
    }
   ],
   "source": [
    "gbr_perm_res_df.sort_values(\"mean_imp\", ascending=False)"
   ]
  },
  {
   "cell_type": "code",
   "execution_count": 24,
   "metadata": {},
   "outputs": [],
   "source": [
    "svr_perm_res_df.to_csv(f\"{dirs.analysis_dir}/{unified_dsets[i]}_svr_permutation_results.tsv\", sep=\"\\t\", index=False)\n",
    "gbr_perm_res_df.to_csv(f\"{dirs.analysis_dir}/{unified_dsets[i]}_gbr_permutation_results.tsv\", sep=\"\\t\", index=False)"
   ]
  },
  {
   "cell_type": "markdown",
   "metadata": {},
   "source": [
    "# A brief look at the data"
   ]
  },
  {
   "cell_type": "code",
   "execution_count": 25,
   "metadata": {},
   "outputs": [],
   "source": [
    "y_quartiles = np.quantile(y_df.survival_time, [0.25, 0.5, 0.75])\n",
    "y_iqr = y_quartiles[-1] - y_quartiles[0]\n",
    "y_outlier_range = (y_quartiles[0] - 1.5 * y_iqr, y_quartiles[-1] + 1.5 * y_iqr)\n",
    "# y_analysis_df = y_df.assign(outlier = lambda x: np.abs(x.survival_time) > (x.survival_time.mean() + x.survival_time.std() * 3))\n",
    "y_analysis_df = y_df.assign(outlier = lambda x: ~((y_outlier_range[0] < x.survival_time) & (x.survival_time < y_outlier_range[1])))"
   ]
  },
  {
   "cell_type": "code",
   "execution_count": 26,
   "metadata": {},
   "outputs": [
    {
     "data": {
      "image/png": "[encoded data removed]",
      "text/plain": [
       "<Figure size 1080x576 with 1 Axes>"
      ]
     },
     "metadata": {
      "needs_background": "light"
     },
     "output_type": "display_data"
    },
    {
     "data": {
      "image/png": "[encoded data removed]",
      "text/plain": [
       "<Figure size 1080x576 with 1 Axes>"
      ]
     },
     "metadata": {
      "needs_background": "light"
     },
     "output_type": "display_data"
    }
   ],
   "source": [
    "_, ax = plt.subplots(figsize=(15, 8))\n",
    "sns.boxplot(data=y_analysis_df, x=\"survival_time\", ax=ax, )\n",
    "plt.show()\n",
    "\n",
    "_, ax = plt.subplots(figsize=(15, 8))\n",
    "sns.scatterplot(data=y_analysis_df, x=range(y_df.shape[0]), y=\"survival_time\", hue=\"outlier\", ax=ax)\n",
    "plt.show()"
   ]
  }
 ],
 "metadata": {
  "kernelspec": {
   "display_name": "Python 3",
   "language": "python",
   "name": "python3"
  },
  "language_info": {
   "codemirror_mode": {
    "name": "ipython",
    "version": 3
   },
   "file_extension": ".py",
   "mimetype": "text/x-python",
   "name": "python",
   "nbconvert_exporter": "python",
   "pygments_lexer": "ipython3",
   "version": "3.8.3"
  }
 },
 "nbformat": 4,
 "nbformat_minor": 4
}
