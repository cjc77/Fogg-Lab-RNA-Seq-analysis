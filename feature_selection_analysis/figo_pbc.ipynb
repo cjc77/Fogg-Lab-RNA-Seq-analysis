{
 "cells": [
  {
   "cell_type": "code",
   "execution_count": 1,
   "id": "outstanding-financing",
   "metadata": {},
   "outputs": [
    {
     "name": "stderr",
     "output_type": "stream",
     "text": [
      "-- \u001b[1mAttaching packages\u001b[22m --------------------------------------------------------------------------------------------------------- tidyverse 1.3.0 --\n",
      "\n",
      "\u001b[32mv\u001b[39m \u001b[34mggplot2\u001b[39m 3.3.3     \u001b[32mv\u001b[39m \u001b[34mpurrr  \u001b[39m 0.3.4\n",
      "\u001b[32mv\u001b[39m \u001b[34mtibble \u001b[39m 3.0.6     \u001b[32mv\u001b[39m \u001b[34mdplyr  \u001b[39m 1.0.4\n",
      "\u001b[32mv\u001b[39m \u001b[34mtidyr  \u001b[39m 1.1.2     \u001b[32mv\u001b[39m \u001b[34mstringr\u001b[39m 1.4.0\n",
      "\u001b[32mv\u001b[39m \u001b[34mreadr  \u001b[39m 1.4.0     \u001b[32mv\u001b[39m \u001b[34mforcats\u001b[39m 0.5.1\n",
      "\n",
      "-- \u001b[1mConflicts\u001b[22m ------------------------------------------------------------------------------------------------------------ tidyverse_conflicts() --\n",
      "\u001b[31mx\u001b[39m \u001b[34mdplyr\u001b[39m::\u001b[32mfilter()\u001b[39m masks \u001b[34mstats\u001b[39m::filter()\n",
      "\u001b[31mx\u001b[39m \u001b[34mdplyr\u001b[39m::\u001b[32mlag()\u001b[39m    masks \u001b[34mstats\u001b[39m::lag()\n",
      "\n",
      "Loading required package: dynamicTreeCut\n",
      "\n",
      "Loading required package: fastcluster\n",
      "\n",
      "\n",
      "Attaching package: 'fastcluster'\n",
      "\n",
      "\n",
      "The following object is masked from 'package:stats':\n",
      "\n",
      "    hclust\n",
      "\n",
      "\n",
      "\n",
      "\n",
      "\n",
      "Attaching package: 'WGCNA'\n",
      "\n",
      "\n",
      "The following object is masked from 'package:stats':\n",
      "\n",
      "    cor\n",
      "\n",
      "\n"
     ]
    }
   ],
   "source": [
    "library(tidyverse)\n",
    "library(WGCNA)\n",
    "\n",
    "# Custom package\n",
    "library(rutils)"
   ]
  },
  {
   "cell_type": "code",
   "execution_count": 2,
   "id": "destroyed-reward",
   "metadata": {},
   "outputs": [
    {
     "name": "stdout",
     "output_type": "stream",
     "text": [
      "Allowing parallel execution with up to 15 working processes.\n"
     ]
    }
   ],
   "source": [
    "enableWGCNAThreads()"
   ]
  },
  {
   "cell_type": "code",
   "execution_count": 3,
   "id": "canadian-fifth",
   "metadata": {},
   "outputs": [],
   "source": [
    "# Define constants\n",
    "dirs <- rutils::get_dev_directories(dev_paths_file = \"../dev_paths.txt\")\n",
    "projects <- c(\"TCGA-CESC\", \"TCGA-UCS\", \"TCGA-UCEC\", \"TCGA-OV\")\n",
    "unified_dsets <- c(\"unified_cervical_data\", \"unified_uterine_data\", \"unified_uterine_endometrial_data\")\n",
    "matrisome_path <- paste0(dirs$data_dir, \"/matrisome/matrisome_hs_masterlist.tsv\")\n"
   ]
  },
  {
   "cell_type": "code",
   "execution_count": 4,
   "id": "better-vanilla",
   "metadata": {},
   "outputs": [],
   "source": [
    "dset_idx <- 3\n",
    "save_res <- TRUE"
   ]
  },
  {
   "cell_type": "code",
   "execution_count": 5,
   "id": "voluntary-roulette",
   "metadata": {},
   "outputs": [
    {
     "name": "stderr",
     "output_type": "stream",
     "text": [
      "\n",
      "\u001b[36m--\u001b[39m \u001b[1m\u001b[1mColumn specification\u001b[1m\u001b[22m \u001b[36m--------------------------------------------------------------------------------------------------------------------------\u001b[39m\n",
      "cols(\n",
      "  sample_name = \u001b[31mcol_character()\u001b[39m,\n",
      "  vital_status = \u001b[31mcol_character()\u001b[39m,\n",
      "  survival_time = \u001b[32mcol_double()\u001b[39m,\n",
      "  figo_stage = \u001b[31mcol_character()\u001b[39m,\n",
      "  days_to_last_follow_up = \u001b[32mcol_double()\u001b[39m,\n",
      "  days_to_death = \u001b[32mcol_double()\u001b[39m,\n",
      "  age_at_diagnosis = \u001b[32mcol_double()\u001b[39m,\n",
      "  age_at_index = \u001b[32mcol_double()\u001b[39m,\n",
      "  height = \u001b[32mcol_double()\u001b[39m,\n",
      "  weight = \u001b[32mcol_double()\u001b[39m,\n",
      "  bmi = \u001b[32mcol_double()\u001b[39m,\n",
      "  race = \u001b[31mcol_character()\u001b[39m,\n",
      "  ethnicity = \u001b[31mcol_character()\u001b[39m\n",
      ")\n",
      "\n",
      "\n",
      "\n",
      "\u001b[36m--\u001b[39m \u001b[1m\u001b[1mColumn specification\u001b[1m\u001b[22m \u001b[36m--------------------------------------------------------------------------------------------------------------------------\u001b[39m\n",
      "cols(\n",
      "  .default = col_double(),\n",
      "  geneID = \u001b[31mcol_character()\u001b[39m\n",
      ")\n",
      "\u001b[36mi\u001b[39m Use \u001b[30m\u001b[47m\u001b[30m\u001b[47m`spec()`\u001b[47m\u001b[30m\u001b[49m\u001b[39m for the full column specifications.\n",
      "\n",
      "\n"
     ]
    }
   ],
   "source": [
    "event_code <- list(\"Alive\" = 0, \"Dead\" = 1)\n",
    "\n",
    "survival_path <- paste0(dirs$data_dir, \"/\", unified_dsets[dset_idx], \"/survival_data.tsv\")\n",
    "survival_df <- load_survival_df(survival_path, event_code)\n",
    "\n",
    "# Load and filter survival data\n",
    "filtered_survival_df <- survival_df %>%\n",
    "    decode_figo_stage(to = \"n\") %>%\n",
    "    dplyr::select(sample_name, figo_stage) %>% # make sure using same samples as classification models\n",
    "    dplyr::filter(rowSums(is.na(.)) == 0) %>%\n",
    "    dplyr::mutate(figo_stage = as.character(figo_stage))\n",
    "\n",
    "# Load normalized matrisome count data\n",
    "norm_matrisome_counts_path <- paste0(dirs$data_dir, \"/\", unified_dsets[dset_idx], \"/norm_matrisome_counts.tsv\")\n",
    "norm_survival_counts_t_df <- read_tsv(norm_matrisome_counts_path) %>%\n",
    "    dplyr::select(c(\"geneID\", filtered_survival_df$sample_name)) %>%\n",
    "    transpose_df(\"geneID\", \"sample_name\")\n",
    "\n",
    "# Combine survival data and normalized count data\n",
    "joined_df <- filtered_survival_df %>%\n",
    "    inner_join(norm_survival_counts_t_df, by = \"sample_name\")"
   ]
  },
  {
   "cell_type": "code",
   "execution_count": 6,
   "id": "faced-confirmation",
   "metadata": {},
   "outputs": [],
   "source": [
    "y <- to_one_hot(joined_df, \"figo_stage\") %>% as.matrix()\n",
    "rownames(y) <- joined_df$sample_name\n",
    "x <- joined_df[-c(1:2)] %>% as.matrix()\n",
    "rownames(x) <- joined_df$sample_name"
   ]
  },
  {
   "cell_type": "code",
   "execution_count": 7,
   "id": "dedicated-minutes",
   "metadata": {},
   "outputs": [],
   "source": [
    "gene_cor <- WGCNA::cor(x, y, use = \"p\")\n",
    "\n",
    "# Remove NA since qvalue can't handle them\n",
    "gene_pval <- corPvalueStudent(gene_cor, nrow(x)) %>%\n",
    "    as_tibble(rownames = \"geneID\") %>%\n",
    "    dplyr::filter(rowSums(is.na(.)) == 0) %>%\n",
    "    column_to_rownames(\"geneID\") %>%\n",
    "    as.matrix()\n",
    "\n",
    "gene_qval <- apply(gene_pval, MARGIN = 2, function(x) { WGCNA::qvalue(x)$qvalues })\n",
    "colnames(gene_cor) <- gsub(\"$\", \"_cor\", colnames(gene_cor))\n",
    "colnames(gene_pval) <- gsub(\"$\", \"_pval\", colnames(gene_pval))\n",
    "colnames(gene_qval) <- gsub(\"$\", \"_qval\", colnames(gene_qval))"
   ]
  },
  {
   "cell_type": "code",
   "execution_count": 8,
   "id": "representative-marriage",
   "metadata": {},
   "outputs": [],
   "source": [
    "pbc_df <- gene_pval %>%\n",
    "    as_tibble(rownames = \"geneID\") %>%\n",
    "    inner_join(as_tibble(gene_qval, rownames = \"geneID\"), by = \"geneID\") %>%\n",
    "    inner_join(as_tibble(gene_cor, rownames = \"geneID\"), by = \"geneID\")"
   ]
  },
  {
   "cell_type": "code",
   "execution_count": 9,
   "id": "pregnant-circular",
   "metadata": {},
   "outputs": [],
   "source": [
    "if (save_res) {\n",
    "    write_tsv(pbc_df, paste0(dirs$analysis_dir, \"/feature_selection/\", unified_dsets[dset_idx], \"_pbc_results.tsv\"))\n",
    "}"
   ]
  }
 ],
 "metadata": {
  "kernelspec": {
   "display_name": "R",
   "language": "R",
   "name": "ir"
  },
  "language_info": {
   "codemirror_mode": "r",
   "file_extension": ".r",
   "mimetype": "text/x-r-source",
   "name": "R",
   "pygments_lexer": "r",
   "version": "4.0.3"
  }
 },
 "nbformat": 4,
 "nbformat_minor": 5
}
