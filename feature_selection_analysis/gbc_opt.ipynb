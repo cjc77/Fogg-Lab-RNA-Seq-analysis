{
 "cells": [
  {
   "cell_type": "code",
   "execution_count": 1,
   "metadata": {},
   "outputs": [],
   "source": [
    "import pandas as pd\n",
    "import numpy as np\n",
    "from sklearn.ensemble import GradientBoostingClassifier\n",
    "from sklearn.pipeline import make_pipeline, Pipeline\n",
    "from sklearn.preprocessing import StandardScaler\n",
    "from sklearn.model_selection import cross_val_score, KFold\n",
    "from sklearn.compose import ColumnTransformer, TransformedTargetRegressor\n",
    "from skopt.space import Real, Integer, Categorical\n",
    "from skopt import gp_minimize\n",
    "\n",
    "import utils.dev_config as dev_conf\n",
    "import utils.preprocessing as prep\n",
    "import utils.optimization as opt"
   ]
  },
  {
   "cell_type": "code",
   "execution_count": 2,
   "metadata": {},
   "outputs": [],
   "source": [
    "dirs = dev_conf.get_dev_directories(\"../dev_paths.txt\")\n",
    "unified_dsets = [\"unified_cervical_data\", \"unified_uterine_data\", \"unified_uterine_endometrial_data\"]\n",
    "matrisome_list = f\"{dirs.data_dir}/matrisome/matrisome_hs_masterlist.tsv\""
   ]
  },
  {
   "cell_type": "code",
   "execution_count": 3,
   "metadata": {},
   "outputs": [],
   "source": [
    "i = 0"
   ]
  },
  {
   "cell_type": "code",
   "execution_count": 4,
   "metadata": {},
   "outputs": [],
   "source": [
    "matrisome_df = prep.load_matrisome_df(matrisome_list)"
   ]
  },
  {
   "cell_type": "code",
   "execution_count": 5,
   "metadata": {},
   "outputs": [],
   "source": [
    "seed = 123\n",
    "rand = np.random.RandomState()"
   ]
  },
  {
   "cell_type": "markdown",
   "metadata": {},
   "source": [
    "# Load and filter survival data"
   ]
  },
  {
   "cell_type": "code",
   "execution_count": 6,
   "metadata": {},
   "outputs": [],
   "source": [
    "event_code = {\"Alive\": 0, \"Dead\": 1}\n",
    "covariate_cols = [\"age_at_diagnosis\", \"race\", \"ethnicity\"]\n",
    "dep_cols = [\"figo_stage\"]\n",
    "cat_cols = [\"race\", \"ethnicity\"]\n",
    "survival_df = prep.load_survival_df(f\"{dirs.data_dir}/{unified_dsets[i]}/survival_data.tsv\", event_code)"
   ]
  },
  {
   "cell_type": "code",
   "execution_count": 7,
   "metadata": {},
   "outputs": [
    {
     "name": "stdout",
     "output_type": "stream",
     "text": [
      "(255, 12)\n"
     ]
    }
   ],
   "source": [
    "filtered_survival_df = (\n",
    "    prep.decode_figo_stage(survival_df[[\"sample_name\"] + dep_cols + covariate_cols].dropna(), to=\"n\")\n",
    "        .pipe(pd.get_dummies, columns=cat_cols)\n",
    "        .reset_index(drop = True)\n",
    "        .pipe(prep.cols_to_front, [\"sample_name\", \"figo_num\"])\n",
    ")\n",
    "filtered_survival_df.columns = filtered_survival_df.columns.str.replace(' ', '_')\n",
    "print(filtered_survival_df.shape)\n",
    "# filtered_survival_df.head()"
   ]
  },
  {
   "cell_type": "markdown",
   "metadata": {},
   "source": [
    "# Load normalized matrisome count data"
   ]
  },
  {
   "cell_type": "code",
   "execution_count": 8,
   "metadata": {},
   "outputs": [
    {
     "name": "stdout",
     "output_type": "stream",
     "text": [
      "(255, 1009)\n"
     ]
    }
   ],
   "source": [
    "norm_matrisome_counts_df = pd.read_csv(f\"{dirs.data_dir}/{unified_dsets[i]}/norm_matrisome_counts.tsv\", sep='\\t')\n",
    "norm_filtered_matrisome_counts_t_df = prep.transpose_df(\n",
    "    norm_matrisome_counts_df[[\"geneID\"] + list(filtered_survival_df.sample_name)], \"geneID\", \"sample_name\"\n",
    ")\n",
    "print(norm_filtered_matrisome_counts_t_df.shape)\n",
    "# norm_filtered_matrisome_counts_t_df.head()"
   ]
  },
  {
   "cell_type": "markdown",
   "metadata": {},
   "source": [
    "# Join survival and count data"
   ]
  },
  {
   "cell_type": "code",
   "execution_count": 9,
   "metadata": {},
   "outputs": [
    {
     "name": "stdout",
     "output_type": "stream",
     "text": [
      "(255, 1019)\n"
     ]
    }
   ],
   "source": [
    "joined_df = (\n",
    "    pd.merge(filtered_survival_df, norm_filtered_matrisome_counts_t_df, on=\"sample_name\")\n",
    "        .set_index(\"sample_name\")\n",
    ")\n",
    "print(joined_df.shape)\n",
    "# joined_df.head()"
   ]
  },
  {
   "cell_type": "markdown",
   "metadata": {},
   "source": [
    "# Optimize model"
   ]
  },
  {
   "cell_type": "code",
   "execution_count": 10,
   "metadata": {},
   "outputs": [],
   "source": [
    "rand.seed(seed)\n",
    "x_df, y_df = prep.shuffle_data(joined_df, rand)"
   ]
  },
  {
   "cell_type": "code",
   "execution_count": 11,
   "metadata": {},
   "outputs": [],
   "source": [
    "def objective(h_params, X, y, r, verbose=True):\n",
    "    if verbose:\n",
    "        print(h_params)\n",
    "    model = GradientBoostingClassifier(\n",
    "        # 'exponential' seems to cause nan error\n",
    "        loss=\"deviance\",\n",
    "        learning_rate=h_params[0],\n",
    "        n_estimators=h_params[1],\n",
    "        max_depth=h_params[2],\n",
    "        max_features=h_params[3],\n",
    "        random_state=r\n",
    "    )\n",
    "    # Standardize all variables (except one-hots)\n",
    "    # Don't really need to do this for decision tree methods, but might as well\n",
    "    # repeat the procedure that we're doing for the SVMs, just for posterity\n",
    "    pipeline = make_pipeline(\n",
    "        ColumnTransformer([\n",
    "            (\"standard\", StandardScaler(), [\"age_at_diagnosis\"] + list(norm_filtered_matrisome_counts_t_df.columns[1:]))\n",
    "        ], remainder=\"passthrough\"),\n",
    "        model\n",
    "    )\n",
    "    return -np.mean(cross_val_score(\n",
    "        pipeline,\n",
    "        X,\n",
    "        y,\n",
    "        cv=KFold(n_splits=5),\n",
    "        n_jobs=-1,\n",
    "        scoring=\"f1_weighted\"\n",
    "    ))"
   ]
  },
  {
   "cell_type": "code",
   "execution_count": 12,
   "metadata": {},
   "outputs": [],
   "source": [
    "space = [\n",
    "#     Categorical([\"deviance\", \"exponential\"], name=\"loss\"),\n",
    "    Real(1e-3, 1e-1, name=\"learning_rate\"),\n",
    "    Integer(int(1e2), int(1e3), name=\"n_estimators\"),\n",
    "    Integer(2, 5, name=\"max_depth\"),\n",
    "    Categorical([\"auto\", \"sqrt\", \"log2\"], name=\"max_features\"),\n",
    "]\n",
    "n_initial = 10 * (len(space[3].categories))\n",
    "n_calls = 100 * (len(space[3].categories))"
   ]
  },
  {
   "cell_type": "code",
   "execution_count": 13,
   "metadata": {
    "collapsed": true,
    "jupyter": {
     "outputs_hidden": true
    }
   },
   "outputs": [
    {
     "name": "stdout",
     "output_type": "stream",
     "text": [
      "Iteration No: 1 started. Evaluating function at random point.\n",
      "[0.00883574711308232, 873, 4, 'sqrt']\n",
      "Iteration No: 1 ended. Evaluation done at random point.\n",
      "Time taken: 10.4799\n",
      "Function value obtained: -0.4246\n",
      "Current minimum: -0.4246\n",
      "Iteration No: 2 started. Evaluating function at random point.\n",
      "[0.013734488553428625, 174, 2, 'log2']\n",
      "Iteration No: 2 ended. Evaluation done at random point.\n",
      "Time taken: 1.3328\n",
      "Function value obtained: -0.3691\n",
      "Current minimum: -0.4246\n",
      "Iteration No: 3 started. Evaluating function at random point.\n",
      "[0.043006379247018216, 606, 2, 'auto']\n",
      "Iteration No: 3 ended. Evaluation done at random point.\n",
      "Time taken: 77.7841\n",
      "Function value obtained: -0.4648\n",
      "Current minimum: -0.4648\n",
      "Iteration No: 4 started. Evaluating function at random point.\n",
      "[0.08135279048011816, 521, 4, 'auto']\n",
      "Iteration No: 4 ended. Evaluation done at random point.\n",
      "Time taken: 127.8417\n",
      "Function value obtained: -0.4412\n",
      "Current minimum: -0.4648\n",
      "Iteration No: 5 started. Evaluating function at random point.\n",
      "[0.05560767987225816, 939, 4, 'auto']\n",
      "Iteration No: 5 ended. Evaluation done at random point.\n",
      "Time taken: 228.4946\n",
      "Function value obtained: -0.4304\n",
      "Current minimum: -0.4648\n",
      "Iteration No: 6 started. Evaluating function at random point.\n",
      "[0.0720579986656762, 441, 4, 'auto']\n",
      "Iteration No: 6 ended. Evaluation done at random point.\n",
      "Time taken: 109.5188\n",
      "Function value obtained: -0.4251\n",
      "Current minimum: -0.4648\n",
      "Iteration No: 7 started. Evaluating function at random point.\n",
      "[0.06395413557578428, 129, 4, 'log2']\n",
      "Iteration No: 7 ended. Evaluation done at random point.\n",
      "Time taken: 1.4086\n",
      "Function value obtained: -0.4114\n",
      "Current minimum: -0.4648\n",
      "Iteration No: 8 started. Evaluating function at random point.\n",
      "[0.013053681191832318, 588, 2, 'log2']\n",
      "Iteration No: 8 ended. Evaluation done at random point.\n",
      "Time taken: 3.6116\n",
      "Function value obtained: -0.4143\n",
      "Current minimum: -0.4648\n",
      "Iteration No: 9 started. Evaluating function at random point.\n",
      "[0.09961254640941475, 792, 4, 'auto']\n",
      "Iteration No: 9 ended. Evaluation done at random point.\n",
      "Time taken: 195.9650\n",
      "Function value obtained: -0.4133\n",
      "Current minimum: -0.4648\n",
      "Iteration No: 10 started. Evaluating function at random point.\n",
      "[0.07028357340251858, 695, 2, 'sqrt']\n",
      "Iteration No: 10 ended. Evaluation done at random point.\n",
      "Time taken: 5.5858\n",
      "Function value obtained: -0.4544\n",
      "Current minimum: -0.4648\n",
      "Iteration No: 11 started. Evaluating function at random point.\n",
      "[0.05235294249816003, 483, 4, 'log2']\n",
      "Iteration No: 11 ended. Evaluation done at random point.\n",
      "Time taken: 3.3992\n",
      "Function value obtained: -0.3956\n",
      "Current minimum: -0.4648\n",
      "Iteration No: 12 started. Evaluating function at random point.\n",
      "[0.048621601275010216, 263, 3, 'sqrt']\n",
      "Iteration No: 12 ended. Evaluation done at random point.\n",
      "Time taken: 2.7950\n",
      "Function value obtained: -0.4492\n",
      "Current minimum: -0.4648\n",
      "Iteration No: 13 started. Evaluating function at random point.\n",
      "[0.019503471143744823, 476, 5, 'auto']\n",
      "Iteration No: 13 ended. Evaluation done at random point.\n",
      "Time taken: 137.1130\n",
      "Function value obtained: -0.4055\n",
      "Current minimum: -0.4648\n",
      "Iteration No: 14 started. Evaluating function at random point.\n",
      "[0.09176640096094409, 927, 2, 'log2']\n",
      "Iteration No: 14 ended. Evaluation done at random point.\n",
      "Time taken: 3.5263\n",
      "Function value obtained: -0.4623\n",
      "Current minimum: -0.4648\n",
      "Iteration No: 15 started. Evaluating function at random point.\n",
      "[0.050719417196955933, 382, 2, 'auto']\n",
      "Iteration No: 15 ended. Evaluation done at random point.\n",
      "Time taken: 49.6856\n",
      "Function value obtained: -0.4627\n",
      "Current minimum: -0.4648\n",
      "Iteration No: 16 started. Evaluating function at random point.\n",
      "[0.010457434513980735, 314, 4, 'sqrt']\n",
      "Iteration No: 16 ended. Evaluation done at random point.\n",
      "Time taken: 4.2512\n",
      "Function value obtained: -0.4225\n",
      "Current minimum: -0.4648\n",
      "Iteration No: 17 started. Evaluating function at random point.\n",
      "[0.005279066315885034, 372, 5, 'log2']\n",
      "Iteration No: 17 ended. Evaluation done at random point.\n",
      "Time taken: 3.6581\n",
      "Function value obtained: -0.3702\n",
      "Current minimum: -0.4648\n",
      "Iteration No: 18 started. Evaluating function at random point.\n",
      "[0.06300462680927578, 105, 3, 'sqrt']\n",
      "Iteration No: 18 ended. Evaluation done at random point.\n",
      "Time taken: 1.8117\n",
      "Function value obtained: -0.4407\n",
      "Current minimum: -0.4648\n",
      "Iteration No: 19 started. Evaluating function at random point.\n",
      "[0.038143367220797024, 187, 3, 'sqrt']\n",
      "Iteration No: 19 ended. Evaluation done at random point.\n",
      "Time taken: 1.6446\n",
      "Function value obtained: -0.4350\n",
      "Current minimum: -0.4648\n",
      "Iteration No: 20 started. Evaluating function at random point.\n",
      "[0.03484123074293664, 819, 4, 'auto']\n",
      "Iteration No: 20 ended. Evaluation done at random point.\n",
      "Time taken: 198.8886\n",
      "Function value obtained: -0.4302\n",
      "Current minimum: -0.4648\n",
      "Iteration No: 21 started. Evaluating function at random point.\n",
      "[0.04489340247831998, 744, 3, 'auto']\n",
      "Iteration No: 21 ended. Evaluation done at random point.\n",
      "Time taken: 138.3998\n",
      "Function value obtained: -0.4410\n",
      "Current minimum: -0.4648\n",
      "Iteration No: 22 started. Evaluating function at random point.\n",
      "[0.09678193637383546, 686, 5, 'auto']\n",
      "Iteration No: 22 ended. Evaluation done at random point.\n",
      "Time taken: 201.6600\n",
      "Function value obtained: -0.4483\n",
      "Current minimum: -0.4648\n",
      "Iteration No: 23 started. Evaluating function at random point.\n",
      "[0.027423675664322345, 552, 2, 'sqrt']\n",
      "Iteration No: 23 ended. Evaluation done at random point.\n",
      "Time taken: 4.4730\n",
      "Function value obtained: -0.4641\n",
      "Current minimum: -0.4648\n",
      "Iteration No: 24 started. Evaluating function at random point.\n",
      "[0.024409777223604868, 437, 3, 'auto']\n",
      "Iteration No: 24 ended. Evaluation done at random point.\n",
      "Time taken: 79.7348\n",
      "Function value obtained: -0.4289\n",
      "Current minimum: -0.4648\n",
      "Iteration No: 25 started. Evaluating function at random point.\n",
      "[0.024015498774819347, 371, 4, 'log2']\n",
      "Iteration No: 25 ended. Evaluation done at random point.\n",
      "Time taken: 2.9253\n",
      "Function value obtained: -0.3952\n",
      "Current minimum: -0.4648\n",
      "Iteration No: 26 started. Evaluating function at random point.\n",
      "[0.03686539933668106, 105, 3, 'log2']\n",
      "Iteration No: 26 ended. Evaluation done at random point.\n",
      "Time taken: 0.6287\n",
      "Function value obtained: -0.3968\n",
      "Current minimum: -0.4648\n",
      "Iteration No: 27 started. Evaluating function at random point.\n",
      "[0.017039567868002564, 638, 3, 'log2']\n",
      "Iteration No: 27 ended. Evaluation done at random point.\n",
      "Time taken: 3.1055\n",
      "Function value obtained: -0.4224\n",
      "Current minimum: -0.4648\n",
      "Iteration No: 28 started. Evaluating function at random point.\n",
      "[0.0035934639198335343, 899, 2, 'auto']\n",
      "Iteration No: 28 ended. Evaluation done at random point.\n",
      "Time taken: 111.6088\n",
      "Function value obtained: -0.4064\n",
      "Current minimum: -0.4648\n",
      "Iteration No: 29 started. Evaluating function at random point.\n",
      "[0.07793908369548964, 141, 4, 'sqrt']\n",
      "Iteration No: 29 ended. Evaluation done at random point.\n",
      "Time taken: 2.7024\n",
      "Function value obtained: -0.4352\n",
      "Current minimum: -0.4648\n",
      "Iteration No: 30 started. Evaluating function at random point.\n",
      "[0.08729661038108845, 739, 5, 'log2']\n",
      "Iteration No: 30 ended. Evaluation done at random point.\n",
      "Time taken: 5.8745\n",
      "Function value obtained: -0.4009\n",
      "Current minimum: -0.4648\n",
      "Iteration No: 31 started. Searching for the next optimal point.\n",
      "[0.08101661230892372, 522, 2, 'auto']\n",
      "Iteration No: 31 ended. Search finished for the next optimal point.\n",
      "Time taken: 64.4859\n",
      "Function value obtained: -0.4527\n",
      "Current minimum: -0.4648\n",
      "Iteration No: 32 started. Searching for the next optimal point.\n",
      "[0.08598785458132255, 379, 2, 'sqrt']\n",
      "Iteration No: 32 ended. Search finished for the next optimal point.\n",
      "Time taken: 3.0126\n",
      "Function value obtained: -0.4822\n",
      "Current minimum: -0.4822\n",
      "Iteration No: 33 started. Searching for the next optimal point.\n",
      "[0.1, 456, 3, 'sqrt']\n",
      "Iteration No: 33 ended. Search finished for the next optimal point.\n",
      "Time taken: 5.7080\n",
      "Function value obtained: -0.4798\n",
      "Current minimum: -0.4822\n",
      "Iteration No: 34 started. Searching for the next optimal point.\n",
      "[0.1, 485, 2, 'sqrt']\n",
      "Iteration No: 34 ended. Search finished for the next optimal point.\n",
      "Time taken: 3.5446\n",
      "Function value obtained: -0.4564\n",
      "Current minimum: -0.4822\n",
      "Iteration No: 35 started. Searching for the next optimal point.\n",
      "[0.1, 235, 2, 'sqrt']\n",
      "Iteration No: 35 ended. Search finished for the next optimal point.\n",
      "Time taken: 2.6084\n",
      "Function value obtained: -0.4567\n",
      "Current minimum: -0.4822\n",
      "Iteration No: 36 started. Searching for the next optimal point.\n",
      "[0.1, 556, 4, 'sqrt']\n",
      "Iteration No: 36 ended. Search finished for the next optimal point.\n",
      "Time taken: 8.7335\n",
      "Function value obtained: -0.4507\n",
      "Current minimum: -0.4822\n",
      "Iteration No: 37 started. Searching for the next optimal point.\n",
      "[0.1, 1000, 2, 'log2']\n",
      "Iteration No: 37 ended. Search finished for the next optimal point.\n",
      "Time taken: 4.7286\n",
      "Function value obtained: -0.4589\n",
      "Current minimum: -0.4822\n",
      "Iteration No: 38 started. Searching for the next optimal point.\n",
      "[0.06182407464481751, 416, 2, 'sqrt']\n",
      "Iteration No: 38 ended. Search finished for the next optimal point.\n",
      "Time taken: 4.5803\n",
      "Function value obtained: -0.4688\n",
      "Current minimum: -0.4822\n",
      "Iteration No: 39 started. Searching for the next optimal point.\n",
      "[0.0786693992438275, 446, 3, 'sqrt']\n",
      "Iteration No: 39 ended. Search finished for the next optimal point.\n",
      "Time taken: 4.1585\n",
      "Function value obtained: -0.4619\n",
      "Current minimum: -0.4822\n",
      "Iteration No: 40 started. Searching for the next optimal point.\n",
      "[0.1, 1000, 2, 'log2']\n"
     ]
    },
    {
     "name": "stderr",
     "output_type": "stream",
     "text": [
      "/home/carcook/anaconda3/envs/TCGA-round1/lib/python3.8/site-packages/skopt/optimizer/optimizer.py:449: UserWarning: The objective has been evaluated at this point before.\n",
      "  warnings.warn(\"The objective has been evaluated \"\n"
     ]
    },
    {
     "name": "stdout",
     "output_type": "stream",
     "text": [
      "Iteration No: 40 ended. Search finished for the next optimal point.\n",
      "Time taken: 4.7852\n",
      "Function value obtained: -0.4647\n",
      "Current minimum: -0.4822\n",
      "Iteration No: 41 started. Searching for the next optimal point.\n",
      "[0.1, 1000, 2, 'log2']\n"
     ]
    },
    {
     "name": "stderr",
     "output_type": "stream",
     "text": [
      "/home/carcook/anaconda3/envs/TCGA-round1/lib/python3.8/site-packages/skopt/optimizer/optimizer.py:449: UserWarning: The objective has been evaluated at this point before.\n",
      "  warnings.warn(\"The objective has been evaluated \"\n"
     ]
    },
    {
     "name": "stdout",
     "output_type": "stream",
     "text": [
      "Iteration No: 41 ended. Search finished for the next optimal point.\n",
      "Time taken: 4.6053\n",
      "Function value obtained: -0.4821\n",
      "Current minimum: -0.4822\n",
      "Iteration No: 42 started. Searching for the next optimal point.\n",
      "[0.1, 1000, 2, 'log2']\n"
     ]
    },
    {
     "name": "stderr",
     "output_type": "stream",
     "text": [
      "/home/carcook/anaconda3/envs/TCGA-round1/lib/python3.8/site-packages/skopt/optimizer/optimizer.py:449: UserWarning: The objective has been evaluated at this point before.\n",
      "  warnings.warn(\"The objective has been evaluated \"\n"
     ]
    },
    {
     "name": "stdout",
     "output_type": "stream",
     "text": [
      "Iteration No: 42 ended. Search finished for the next optimal point.\n",
      "Time taken: 4.3685\n",
      "Function value obtained: -0.4647\n",
      "Current minimum: -0.4822\n",
      "Iteration No: 43 started. Searching for the next optimal point.\n",
      "[0.1, 1000, 2, 'log2']\n"
     ]
    },
    {
     "name": "stderr",
     "output_type": "stream",
     "text": [
      "/home/carcook/anaconda3/envs/TCGA-round1/lib/python3.8/site-packages/skopt/optimizer/optimizer.py:449: UserWarning: The objective has been evaluated at this point before.\n",
      "  warnings.warn(\"The objective has been evaluated \"\n"
     ]
    },
    {
     "name": "stdout",
     "output_type": "stream",
     "text": [
      "Iteration No: 43 ended. Search finished for the next optimal point.\n",
      "Time taken: 4.6619\n",
      "Function value obtained: -0.4644\n",
      "Current minimum: -0.4822\n",
      "Iteration No: 44 started. Searching for the next optimal point.\n",
      "[0.1, 1000, 2, 'log2']\n"
     ]
    },
    {
     "name": "stderr",
     "output_type": "stream",
     "text": [
      "/home/carcook/anaconda3/envs/TCGA-round1/lib/python3.8/site-packages/skopt/optimizer/optimizer.py:449: UserWarning: The objective has been evaluated at this point before.\n",
      "  warnings.warn(\"The objective has been evaluated \"\n"
     ]
    },
    {
     "name": "stdout",
     "output_type": "stream",
     "text": [
      "Iteration No: 44 ended. Search finished for the next optimal point.\n",
      "Time taken: 6.4336\n",
      "Function value obtained: -0.4689\n",
      "Current minimum: -0.4822\n",
      "Iteration No: 45 started. Searching for the next optimal point.\n",
      "[0.1, 1000, 2, 'log2']\n"
     ]
    },
    {
     "name": "stderr",
     "output_type": "stream",
     "text": [
      "/home/carcook/anaconda3/envs/TCGA-round1/lib/python3.8/site-packages/skopt/optimizer/optimizer.py:449: UserWarning: The objective has been evaluated at this point before.\n",
      "  warnings.warn(\"The objective has been evaluated \"\n"
     ]
    },
    {
     "name": "stdout",
     "output_type": "stream",
     "text": [
      "Iteration No: 45 ended. Search finished for the next optimal point.\n",
      "Time taken: 4.0741\n",
      "Function value obtained: -0.4592\n",
      "Current minimum: -0.4822\n",
      "Iteration No: 46 started. Searching for the next optimal point.\n",
      "[0.1, 1000, 2, 'log2']\n"
     ]
    },
    {
     "name": "stderr",
     "output_type": "stream",
     "text": [
      "/home/carcook/anaconda3/envs/TCGA-round1/lib/python3.8/site-packages/skopt/optimizer/optimizer.py:449: UserWarning: The objective has been evaluated at this point before.\n",
      "  warnings.warn(\"The objective has been evaluated \"\n"
     ]
    },
    {
     "name": "stdout",
     "output_type": "stream",
     "text": [
      "Iteration No: 46 ended. Search finished for the next optimal point.\n",
      "Time taken: 5.9919\n",
      "Function value obtained: -0.4541\n",
      "Current minimum: -0.4822\n",
      "Iteration No: 47 started. Searching for the next optimal point.\n",
      "[0.1, 1000, 2, 'log2']\n"
     ]
    },
    {
     "name": "stderr",
     "output_type": "stream",
     "text": [
      "/home/carcook/anaconda3/envs/TCGA-round1/lib/python3.8/site-packages/skopt/optimizer/optimizer.py:449: UserWarning: The objective has been evaluated at this point before.\n",
      "  warnings.warn(\"The objective has been evaluated \"\n"
     ]
    },
    {
     "name": "stdout",
     "output_type": "stream",
     "text": [
      "Iteration No: 47 ended. Search finished for the next optimal point.\n",
      "Time taken: 4.4317\n",
      "Function value obtained: -0.4663\n",
      "Current minimum: -0.4822\n",
      "Iteration No: 48 started. Searching for the next optimal point.\n",
      "[0.1, 1000, 2, 'log2']\n"
     ]
    },
    {
     "name": "stderr",
     "output_type": "stream",
     "text": [
      "/home/carcook/anaconda3/envs/TCGA-round1/lib/python3.8/site-packages/skopt/optimizer/optimizer.py:449: UserWarning: The objective has been evaluated at this point before.\n",
      "  warnings.warn(\"The objective has been evaluated \"\n"
     ]
    },
    {
     "name": "stdout",
     "output_type": "stream",
     "text": [
      "Iteration No: 48 ended. Search finished for the next optimal point.\n",
      "Time taken: 4.6913\n",
      "Function value obtained: -0.4759\n",
      "Current minimum: -0.4822\n",
      "Iteration No: 49 started. Searching for the next optimal point.\n",
      "[0.1, 1000, 2, 'log2']\n"
     ]
    },
    {
     "name": "stderr",
     "output_type": "stream",
     "text": [
      "/home/carcook/anaconda3/envs/TCGA-round1/lib/python3.8/site-packages/skopt/optimizer/optimizer.py:449: UserWarning: The objective has been evaluated at this point before.\n",
      "  warnings.warn(\"The objective has been evaluated \"\n"
     ]
    },
    {
     "name": "stdout",
     "output_type": "stream",
     "text": [
      "Iteration No: 49 ended. Search finished for the next optimal point.\n",
      "Time taken: 4.9932\n",
      "Function value obtained: -0.4615\n",
      "Current minimum: -0.4822\n",
      "Iteration No: 50 started. Searching for the next optimal point.\n",
      "[0.1, 1000, 2, 'log2']\n"
     ]
    },
    {
     "name": "stderr",
     "output_type": "stream",
     "text": [
      "/home/carcook/anaconda3/envs/TCGA-round1/lib/python3.8/site-packages/skopt/optimizer/optimizer.py:449: UserWarning: The objective has been evaluated at this point before.\n",
      "  warnings.warn(\"The objective has been evaluated \"\n"
     ]
    },
    {
     "name": "stdout",
     "output_type": "stream",
     "text": [
      "Iteration No: 50 ended. Search finished for the next optimal point.\n",
      "Time taken: 4.5869\n",
      "Function value obtained: -0.4686\n",
      "Current minimum: -0.4822\n",
      "Iteration No: 51 started. Searching for the next optimal point.\n",
      "[0.1, 100, 2, 'auto']\n",
      "Iteration No: 51 ended. Search finished for the next optimal point.\n",
      "Time taken: 13.8348\n",
      "Function value obtained: -0.4499\n",
      "Current minimum: -0.4822\n",
      "Iteration No: 52 started. Searching for the next optimal point.\n",
      "[0.1, 1000, 2, 'log2']\n"
     ]
    },
    {
     "name": "stderr",
     "output_type": "stream",
     "text": [
      "/home/carcook/anaconda3/envs/TCGA-round1/lib/python3.8/site-packages/skopt/optimizer/optimizer.py:449: UserWarning: The objective has been evaluated at this point before.\n",
      "  warnings.warn(\"The objective has been evaluated \"\n"
     ]
    },
    {
     "name": "stdout",
     "output_type": "stream",
     "text": [
      "Iteration No: 52 ended. Search finished for the next optimal point.\n",
      "Time taken: 4.7146\n",
      "Function value obtained: -0.4746\n",
      "Current minimum: -0.4822\n",
      "Iteration No: 53 started. Searching for the next optimal point.\n",
      "[0.1, 1000, 2, 'log2']\n"
     ]
    },
    {
     "name": "stderr",
     "output_type": "stream",
     "text": [
      "/home/carcook/anaconda3/envs/TCGA-round1/lib/python3.8/site-packages/skopt/optimizer/optimizer.py:449: UserWarning: The objective has been evaluated at this point before.\n",
      "  warnings.warn(\"The objective has been evaluated \"\n"
     ]
    },
    {
     "name": "stdout",
     "output_type": "stream",
     "text": [
      "Iteration No: 53 ended. Search finished for the next optimal point.\n",
      "Time taken: 6.3755\n",
      "Function value obtained: -0.4573\n",
      "Current minimum: -0.4822\n",
      "Iteration No: 54 started. Searching for the next optimal point.\n",
      "[0.1, 1000, 2, 'log2']\n"
     ]
    },
    {
     "name": "stderr",
     "output_type": "stream",
     "text": [
      "/home/carcook/anaconda3/envs/TCGA-round1/lib/python3.8/site-packages/skopt/optimizer/optimizer.py:449: UserWarning: The objective has been evaluated at this point before.\n",
      "  warnings.warn(\"The objective has been evaluated \"\n"
     ]
    },
    {
     "name": "stdout",
     "output_type": "stream",
     "text": [
      "Iteration No: 54 ended. Search finished for the next optimal point.\n",
      "Time taken: 4.0170\n",
      "Function value obtained: -0.4890\n",
      "Current minimum: -0.4890\n",
      "Iteration No: 55 started. Searching for the next optimal point.\n",
      "[0.1, 1000, 2, 'log2']\n"
     ]
    },
    {
     "name": "stderr",
     "output_type": "stream",
     "text": [
      "/home/carcook/anaconda3/envs/TCGA-round1/lib/python3.8/site-packages/skopt/optimizer/optimizer.py:449: UserWarning: The objective has been evaluated at this point before.\n",
      "  warnings.warn(\"The objective has been evaluated \"\n"
     ]
    },
    {
     "name": "stdout",
     "output_type": "stream",
     "text": [
      "Iteration No: 55 ended. Search finished for the next optimal point.\n",
      "Time taken: 5.6617\n",
      "Function value obtained: -0.4680\n",
      "Current minimum: -0.4890\n",
      "Iteration No: 56 started. Searching for the next optimal point.\n",
      "[0.1, 1000, 2, 'log2']\n"
     ]
    },
    {
     "name": "stderr",
     "output_type": "stream",
     "text": [
      "/home/carcook/anaconda3/envs/TCGA-round1/lib/python3.8/site-packages/skopt/optimizer/optimizer.py:449: UserWarning: The objective has been evaluated at this point before.\n",
      "  warnings.warn(\"The objective has been evaluated \"\n"
     ]
    },
    {
     "name": "stdout",
     "output_type": "stream",
     "text": [
      "Iteration No: 56 ended. Search finished for the next optimal point.\n",
      "Time taken: 4.7639\n",
      "Function value obtained: -0.4568\n",
      "Current minimum: -0.4890\n",
      "Iteration No: 57 started. Searching for the next optimal point.\n",
      "[0.1, 1000, 2, 'log2']\n"
     ]
    },
    {
     "name": "stderr",
     "output_type": "stream",
     "text": [
      "/home/carcook/anaconda3/envs/TCGA-round1/lib/python3.8/site-packages/skopt/optimizer/optimizer.py:449: UserWarning: The objective has been evaluated at this point before.\n",
      "  warnings.warn(\"The objective has been evaluated \"\n"
     ]
    },
    {
     "name": "stdout",
     "output_type": "stream",
     "text": [
      "Iteration No: 57 ended. Search finished for the next optimal point.\n",
      "Time taken: 5.3877\n",
      "Function value obtained: -0.4666\n",
      "Current minimum: -0.4890\n",
      "Iteration No: 58 started. Searching for the next optimal point.\n",
      "[0.1, 1000, 2, 'log2']\n"
     ]
    },
    {
     "name": "stderr",
     "output_type": "stream",
     "text": [
      "/home/carcook/anaconda3/envs/TCGA-round1/lib/python3.8/site-packages/skopt/optimizer/optimizer.py:449: UserWarning: The objective has been evaluated at this point before.\n",
      "  warnings.warn(\"The objective has been evaluated \"\n"
     ]
    },
    {
     "name": "stdout",
     "output_type": "stream",
     "text": [
      "Iteration No: 58 ended. Search finished for the next optimal point.\n",
      "Time taken: 5.3494\n",
      "Function value obtained: -0.4717\n",
      "Current minimum: -0.4890\n",
      "Iteration No: 59 started. Searching for the next optimal point.\n",
      "[0.1, 1000, 2, 'log2']\n"
     ]
    },
    {
     "name": "stderr",
     "output_type": "stream",
     "text": [
      "/home/carcook/anaconda3/envs/TCGA-round1/lib/python3.8/site-packages/skopt/optimizer/optimizer.py:449: UserWarning: The objective has been evaluated at this point before.\n",
      "  warnings.warn(\"The objective has been evaluated \"\n"
     ]
    },
    {
     "name": "stdout",
     "output_type": "stream",
     "text": [
      "Iteration No: 59 ended. Search finished for the next optimal point.\n",
      "Time taken: 4.1042\n",
      "Function value obtained: -0.4658\n",
      "Current minimum: -0.4890\n",
      "Iteration No: 60 started. Searching for the next optimal point.\n",
      "[0.1, 1000, 2, 'log2']\n"
     ]
    },
    {
     "name": "stderr",
     "output_type": "stream",
     "text": [
      "/home/carcook/anaconda3/envs/TCGA-round1/lib/python3.8/site-packages/skopt/optimizer/optimizer.py:449: UserWarning: The objective has been evaluated at this point before.\n",
      "  warnings.warn(\"The objective has been evaluated \"\n"
     ]
    },
    {
     "name": "stdout",
     "output_type": "stream",
     "text": [
      "Iteration No: 60 ended. Search finished for the next optimal point.\n",
      "Time taken: 6.4757\n",
      "Function value obtained: -0.4621\n",
      "Current minimum: -0.4890\n",
      "Iteration No: 61 started. Searching for the next optimal point.\n",
      "[0.1, 1000, 2, 'log2']\n"
     ]
    },
    {
     "name": "stderr",
     "output_type": "stream",
     "text": [
      "/home/carcook/anaconda3/envs/TCGA-round1/lib/python3.8/site-packages/skopt/optimizer/optimizer.py:449: UserWarning: The objective has been evaluated at this point before.\n",
      "  warnings.warn(\"The objective has been evaluated \"\n"
     ]
    },
    {
     "name": "stdout",
     "output_type": "stream",
     "text": [
      "Iteration No: 61 ended. Search finished for the next optimal point.\n",
      "Time taken: 4.1586\n",
      "Function value obtained: -0.4683\n",
      "Current minimum: -0.4890\n",
      "Iteration No: 62 started. Searching for the next optimal point.\n",
      "[0.1, 1000, 2, 'log2']\n"
     ]
    },
    {
     "name": "stderr",
     "output_type": "stream",
     "text": [
      "/home/carcook/anaconda3/envs/TCGA-round1/lib/python3.8/site-packages/skopt/optimizer/optimizer.py:449: UserWarning: The objective has been evaluated at this point before.\n",
      "  warnings.warn(\"The objective has been evaluated \"\n"
     ]
    },
    {
     "name": "stdout",
     "output_type": "stream",
     "text": [
      "Iteration No: 62 ended. Search finished for the next optimal point.\n",
      "Time taken: 6.1528\n",
      "Function value obtained: -0.4500\n",
      "Current minimum: -0.4890\n",
      "Iteration No: 63 started. Searching for the next optimal point.\n",
      "[0.1, 1000, 2, 'log2']\n"
     ]
    },
    {
     "name": "stderr",
     "output_type": "stream",
     "text": [
      "/home/carcook/anaconda3/envs/TCGA-round1/lib/python3.8/site-packages/skopt/optimizer/optimizer.py:449: UserWarning: The objective has been evaluated at this point before.\n",
      "  warnings.warn(\"The objective has been evaluated \"\n"
     ]
    },
    {
     "name": "stdout",
     "output_type": "stream",
     "text": [
      "Iteration No: 63 ended. Search finished for the next optimal point.\n",
      "Time taken: 4.1807\n",
      "Function value obtained: -0.4587\n",
      "Current minimum: -0.4890\n",
      "Iteration No: 64 started. Searching for the next optimal point.\n",
      "[0.1, 1000, 2, 'log2']\n"
     ]
    },
    {
     "name": "stderr",
     "output_type": "stream",
     "text": [
      "/home/carcook/anaconda3/envs/TCGA-round1/lib/python3.8/site-packages/skopt/optimizer/optimizer.py:449: UserWarning: The objective has been evaluated at this point before.\n",
      "  warnings.warn(\"The objective has been evaluated \"\n"
     ]
    },
    {
     "name": "stdout",
     "output_type": "stream",
     "text": [
      "Iteration No: 64 ended. Search finished for the next optimal point.\n",
      "Time taken: 5.4283\n",
      "Function value obtained: -0.4391\n",
      "Current minimum: -0.4890\n",
      "Iteration No: 65 started. Searching for the next optimal point.\n",
      "[0.1, 1000, 2, 'sqrt']\n",
      "Iteration No: 65 ended. Search finished for the next optimal point.\n",
      "Time taken: 7.9624\n",
      "Function value obtained: -0.4845\n",
      "Current minimum: -0.4890\n",
      "Iteration No: 66 started. Searching for the next optimal point.\n",
      "[0.1, 1000, 2, 'sqrt']\n"
     ]
    },
    {
     "name": "stderr",
     "output_type": "stream",
     "text": [
      "/home/carcook/anaconda3/envs/TCGA-round1/lib/python3.8/site-packages/skopt/optimizer/optimizer.py:449: UserWarning: The objective has been evaluated at this point before.\n",
      "  warnings.warn(\"The objective has been evaluated \"\n"
     ]
    },
    {
     "name": "stdout",
     "output_type": "stream",
     "text": [
      "Iteration No: 66 ended. Search finished for the next optimal point.\n",
      "Time taken: 7.3800\n",
      "Function value obtained: -0.4691\n",
      "Current minimum: -0.4890\n",
      "Iteration No: 67 started. Searching for the next optimal point.\n",
      "[0.059328145469255036, 1000, 2, 'sqrt']\n",
      "Iteration No: 67 ended. Search finished for the next optimal point.\n",
      "Time taken: 7.9488\n",
      "Function value obtained: -0.4665\n",
      "Current minimum: -0.4890\n",
      "Iteration No: 68 started. Searching for the next optimal point.\n",
      "[0.1, 1000, 3, 'sqrt']\n",
      "Iteration No: 68 ended. Search finished for the next optimal point.\n",
      "Time taken: 13.4706\n",
      "Function value obtained: -0.4527\n",
      "Current minimum: -0.4890\n",
      "Iteration No: 69 started. Searching for the next optimal point.\n",
      "[0.002613421236134097, 965, 2, 'sqrt']\n",
      "Iteration No: 69 ended. Search finished for the next optimal point.\n",
      "Time taken: 9.0414\n",
      "Function value obtained: -0.3654\n",
      "Current minimum: -0.4890\n",
      "Iteration No: 70 started. Searching for the next optimal point.\n",
      "[0.1, 100, 5, 'auto']\n",
      "Iteration No: 70 ended. Search finished for the next optimal point.\n",
      "Time taken: 30.7297\n",
      "Function value obtained: -0.4647\n",
      "Current minimum: -0.4890\n",
      "Iteration No: 71 started. Searching for the next optimal point.\n",
      "[0.1, 412, 2, 'log2']\n",
      "Iteration No: 71 ended. Search finished for the next optimal point.\n",
      "Time taken: 2.7082\n",
      "Function value obtained: -0.4590\n",
      "Current minimum: -0.4890\n",
      "Iteration No: 72 started. Searching for the next optimal point.\n",
      "[0.06591714272201166, 1000, 2, 'auto']\n",
      "Iteration No: 72 ended. Search finished for the next optimal point.\n",
      "Time taken: 123.9399\n",
      "Function value obtained: -0.4627\n",
      "Current minimum: -0.4890\n",
      "Iteration No: 73 started. Searching for the next optimal point.\n",
      "[0.05657320339974226, 1000, 2, 'log2']\n",
      "Iteration No: 73 ended. Search finished for the next optimal point.\n",
      "Time taken: 6.7150\n",
      "Function value obtained: -0.4764\n",
      "Current minimum: -0.4890\n",
      "Iteration No: 74 started. Searching for the next optimal point.\n",
      "[0.04167790455036412, 1000, 2, 'log2']\n",
      "Iteration No: 74 ended. Search finished for the next optimal point.\n",
      "Time taken: 4.1858\n",
      "Function value obtained: -0.4454\n",
      "Current minimum: -0.4890\n",
      "Iteration No: 75 started. Searching for the next optimal point.\n",
      "[0.1, 100, 5, 'sqrt']\n",
      "Iteration No: 75 ended. Search finished for the next optimal point.\n",
      "Time taken: 3.0960\n",
      "Function value obtained: -0.4228\n",
      "Current minimum: -0.4890\n",
      "Iteration No: 76 started. Searching for the next optimal point.\n",
      "[0.06302807366952641, 686, 2, 'log2']\n",
      "Iteration No: 76 ended. Search finished for the next optimal point.\n",
      "Time taken: 5.8653\n",
      "Function value obtained: -0.4543\n",
      "Current minimum: -0.4890\n",
      "Iteration No: 77 started. Searching for the next optimal point.\n",
      "[0.04914348184404143, 1000, 5, 'sqrt']\n",
      "Iteration No: 77 ended. Search finished for the next optimal point.\n",
      "Time taken: 15.5653\n",
      "Function value obtained: -0.4194\n",
      "Current minimum: -0.4890\n",
      "Iteration No: 78 started. Searching for the next optimal point.\n",
      "[0.08167927585101221, 1000, 2, 'sqrt']\n",
      "Iteration No: 78 ended. Search finished for the next optimal point.\n",
      "Time taken: 9.5450\n",
      "Function value obtained: -0.4744\n",
      "Current minimum: -0.4890\n",
      "Iteration No: 79 started. Searching for the next optimal point.\n",
      "[0.07600098219633498, 1000, 2, 'log2']\n",
      "Iteration No: 79 ended. Search finished for the next optimal point.\n",
      "Time taken: 4.7277\n",
      "Function value obtained: -0.4696\n",
      "Current minimum: -0.4890\n",
      "Iteration No: 80 started. Searching for the next optimal point.\n",
      "[0.1, 809, 2, 'sqrt']\n",
      "Iteration No: 80 ended. Search finished for the next optimal point.\n",
      "Time taken: 7.5117\n",
      "Function value obtained: -0.4902\n",
      "Current minimum: -0.4902\n",
      "Iteration No: 81 started. Searching for the next optimal point.\n",
      "[0.1, 752, 2, 'sqrt']\n",
      "Iteration No: 81 ended. Search finished for the next optimal point.\n",
      "Time taken: 5.9035\n",
      "Function value obtained: -0.4766\n",
      "Current minimum: -0.4902\n",
      "Iteration No: 82 started. Searching for the next optimal point.\n",
      "[0.1, 1000, 2, 'auto']\n",
      "Iteration No: 82 ended. Search finished for the next optimal point.\n",
      "Time taken: 127.5925\n",
      "Function value obtained: -0.4742\n",
      "Current minimum: -0.4902\n",
      "Iteration No: 83 started. Searching for the next optimal point.\n",
      "[0.0030918687042600685, 973, 5, 'auto']\n",
      "Iteration No: 83 ended. Search finished for the next optimal point.\n",
      "Time taken: 288.2701\n",
      "Function value obtained: -0.4537\n",
      "Current minimum: -0.4902\n",
      "Iteration No: 84 started. Searching for the next optimal point.\n",
      "[0.1, 821, 2, 'sqrt']\n",
      "Iteration No: 84 ended. Search finished for the next optimal point.\n",
      "Time taken: 8.8625\n",
      "Function value obtained: -0.4707\n",
      "Current minimum: -0.4902\n",
      "Iteration No: 85 started. Searching for the next optimal point.\n",
      "[0.1, 100, 4, 'auto']\n",
      "Iteration No: 85 ended. Search finished for the next optimal point.\n",
      "Time taken: 26.3257\n",
      "Function value obtained: -0.4120\n",
      "Current minimum: -0.4902\n",
      "Iteration No: 86 started. Searching for the next optimal point.\n",
      "[0.09862399561745952, 166, 3, 'sqrt']\n",
      "Iteration No: 86 ended. Search finished for the next optimal point.\n",
      "Time taken: 3.7268\n",
      "Function value obtained: -0.4645\n",
      "Current minimum: -0.4902\n",
      "Iteration No: 87 started. Searching for the next optimal point.\n",
      "[0.07072849348838191, 104, 2, 'sqrt']\n",
      "Iteration No: 87 ended. Search finished for the next optimal point.\n",
      "Time taken: 3.1350\n",
      "Function value obtained: -0.4629\n",
      "Current minimum: -0.4902\n",
      "Iteration No: 88 started. Searching for the next optimal point.\n",
      "[0.061845084177528035, 1000, 3, 'sqrt']\n",
      "Iteration No: 88 ended. Search finished for the next optimal point.\n",
      "Time taken: 10.2675\n",
      "Function value obtained: -0.4562\n",
      "Current minimum: -0.4902\n",
      "Iteration No: 89 started. Searching for the next optimal point.\n",
      "[0.08959387928454463, 1000, 2, 'sqrt']\n",
      "Iteration No: 89 ended. Search finished for the next optimal point.\n",
      "Time taken: 9.5794\n",
      "Function value obtained: -0.4785\n",
      "Current minimum: -0.4902\n",
      "Iteration No: 90 started. Searching for the next optimal point.\n",
      "[0.1, 100, 2, 'log2']\n",
      "Iteration No: 90 ended. Search finished for the next optimal point.\n",
      "Time taken: 2.7045\n",
      "Function value obtained: -0.4642\n",
      "Current minimum: -0.4902\n",
      "Iteration No: 91 started. Searching for the next optimal point.\n",
      "[0.08712966148239368, 1000, 2, 'sqrt']\n",
      "Iteration No: 91 ended. Search finished for the next optimal point.\n",
      "Time taken: 9.1229\n",
      "Function value obtained: -0.4788\n",
      "Current minimum: -0.4902\n",
      "Iteration No: 92 started. Searching for the next optimal point.\n",
      "[0.1, 742, 2, 'auto']\n",
      "Iteration No: 92 ended. Search finished for the next optimal point.\n",
      "Time taken: 96.8032\n",
      "Function value obtained: -0.4713\n",
      "Current minimum: -0.4902\n",
      "Iteration No: 93 started. Searching for the next optimal point.\n",
      "[0.046682573459178416, 986, 2, 'sqrt']\n",
      "Iteration No: 93 ended. Search finished for the next optimal point.\n",
      "Time taken: 9.7239\n",
      "Function value obtained: -0.4909\n",
      "Current minimum: -0.4909\n",
      "Iteration No: 94 started. Searching for the next optimal point.\n",
      "[0.042866678857955726, 1000, 2, 'sqrt']\n",
      "Iteration No: 94 ended. Search finished for the next optimal point.\n",
      "Time taken: 7.6865\n",
      "Function value obtained: -0.4791\n",
      "Current minimum: -0.4909\n",
      "Iteration No: 95 started. Searching for the next optimal point.\n",
      "[0.043774304724772166, 1000, 2, 'sqrt']\n",
      "Iteration No: 95 ended. Search finished for the next optimal point.\n",
      "Time taken: 9.7865\n",
      "Function value obtained: -0.4820\n",
      "Current minimum: -0.4909\n",
      "Iteration No: 96 started. Searching for the next optimal point.\n",
      "[0.04379096488550082, 1000, 2, 'sqrt']\n",
      "Iteration No: 96 ended. Search finished for the next optimal point.\n",
      "Time taken: 7.0459\n",
      "Function value obtained: -0.4884\n",
      "Current minimum: -0.4909\n",
      "Iteration No: 97 started. Searching for the next optimal point.\n",
      "[0.0428093429885171, 1000, 2, 'sqrt']\n",
      "Iteration No: 97 ended. Search finished for the next optimal point.\n",
      "Time taken: 8.0418\n",
      "Function value obtained: -0.4808\n",
      "Current minimum: -0.4909\n",
      "Iteration No: 98 started. Searching for the next optimal point.\n",
      "[0.04467983535855836, 100, 2, 'sqrt']\n",
      "Iteration No: 98 ended. Search finished for the next optimal point.\n",
      "Time taken: 2.5727\n",
      "Function value obtained: -0.4318\n",
      "Current minimum: -0.4909\n",
      "Iteration No: 99 started. Searching for the next optimal point.\n",
      "[0.03973198185775853, 1000, 3, 'sqrt']\n",
      "Iteration No: 99 ended. Search finished for the next optimal point.\n",
      "Time taken: 11.6443\n",
      "Function value obtained: -0.4513\n",
      "Current minimum: -0.4909\n",
      "Iteration No: 100 started. Searching for the next optimal point.\n",
      "[0.048493054980108176, 1000, 2, 'sqrt']\n",
      "Iteration No: 100 ended. Search finished for the next optimal point.\n",
      "Time taken: 7.1052\n",
      "Function value obtained: -0.4794\n",
      "Current minimum: -0.4909\n",
      "Iteration No: 101 started. Searching for the next optimal point.\n",
      "[0.046484716866501574, 1000, 2, 'sqrt']\n",
      "Iteration No: 101 ended. Search finished for the next optimal point.\n",
      "Time taken: 10.0874\n",
      "Function value obtained: -0.4800\n",
      "Current minimum: -0.4909\n",
      "Iteration No: 102 started. Searching for the next optimal point.\n",
      "[0.04105954359665253, 1000, 2, 'sqrt']\n",
      "Iteration No: 102 ended. Search finished for the next optimal point.\n",
      "Time taken: 8.3904\n",
      "Function value obtained: -0.4544\n",
      "Current minimum: -0.4909\n",
      "Iteration No: 103 started. Searching for the next optimal point.\n",
      "[0.05539282514958668, 1000, 2, 'sqrt']\n",
      "Iteration No: 103 ended. Search finished for the next optimal point.\n",
      "Time taken: 7.9421\n",
      "Function value obtained: -0.4866\n",
      "Current minimum: -0.4909\n",
      "Iteration No: 104 started. Searching for the next optimal point.\n",
      "[0.05657081777745164, 1000, 2, 'sqrt']\n",
      "Iteration No: 104 ended. Search finished for the next optimal point.\n",
      "Time taken: 9.7893\n",
      "Function value obtained: -0.4822\n",
      "Current minimum: -0.4909\n",
      "Iteration No: 105 started. Searching for the next optimal point.\n",
      "[0.07202128441433917, 102, 5, 'auto']\n",
      "Iteration No: 105 ended. Search finished for the next optimal point.\n",
      "Time taken: 32.2024\n",
      "Function value obtained: -0.4345\n",
      "Current minimum: -0.4909\n",
      "Iteration No: 106 started. Searching for the next optimal point.\n",
      "[0.0567727259218421, 1000, 2, 'sqrt']\n",
      "Iteration No: 106 ended. Search finished for the next optimal point.\n",
      "Time taken: 7.3358\n",
      "Function value obtained: -0.4772\n",
      "Current minimum: -0.4909\n",
      "Iteration No: 107 started. Searching for the next optimal point.\n",
      "[0.044888752635074115, 1000, 2, 'auto']\n",
      "Iteration No: 107 ended. Search finished for the next optimal point.\n",
      "Time taken: 127.3983\n",
      "Function value obtained: -0.4598\n",
      "Current minimum: -0.4909\n",
      "Iteration No: 108 started. Searching for the next optimal point.\n",
      "[0.001199796191405792, 983, 4, 'auto']\n",
      "Iteration No: 108 ended. Search finished for the next optimal point.\n",
      "Time taken: 228.2586\n",
      "Function value obtained: -0.4210\n",
      "Current minimum: -0.4909\n",
      "Iteration No: 109 started. Searching for the next optimal point.\n",
      "[0.0562301680655771, 1000, 2, 'sqrt']\n",
      "Iteration No: 109 ended. Search finished for the next optimal point.\n",
      "Time taken: 10.6843\n",
      "Function value obtained: -0.4717\n",
      "Current minimum: -0.4909\n",
      "Iteration No: 110 started. Searching for the next optimal point.\n",
      "[0.05341317281486942, 1000, 2, 'sqrt']\n",
      "Iteration No: 110 ended. Search finished for the next optimal point.\n",
      "Time taken: 7.3051\n",
      "Function value obtained: -0.4725\n",
      "Current minimum: -0.4909\n",
      "Iteration No: 111 started. Searching for the next optimal point.\n",
      "[0.08370355178201844, 1000, 2, 'auto']\n",
      "Iteration No: 111 ended. Search finished for the next optimal point.\n",
      "Time taken: 126.6282\n",
      "Function value obtained: -0.4825\n",
      "Current minimum: -0.4909\n",
      "Iteration No: 112 started. Searching for the next optimal point.\n",
      "[0.04897214174310583, 773, 2, 'sqrt']\n",
      "Iteration No: 112 ended. Search finished for the next optimal point.\n",
      "Time taken: 6.6691\n",
      "Function value obtained: -0.4622\n",
      "Current minimum: -0.4909\n",
      "Iteration No: 113 started. Searching for the next optimal point.\n",
      "[0.07048346405573847, 116, 2, 'auto']\n",
      "Iteration No: 113 ended. Search finished for the next optimal point.\n",
      "Time taken: 15.0415\n",
      "Function value obtained: -0.4367\n",
      "Current minimum: -0.4909\n",
      "Iteration No: 114 started. Searching for the next optimal point.\n",
      "[0.1, 1000, 2, 'auto']\n"
     ]
    },
    {
     "name": "stderr",
     "output_type": "stream",
     "text": [
      "/home/carcook/anaconda3/envs/TCGA-round1/lib/python3.8/site-packages/skopt/optimizer/optimizer.py:449: UserWarning: The objective has been evaluated at this point before.\n",
      "  warnings.warn(\"The objective has been evaluated \"\n"
     ]
    },
    {
     "name": "stdout",
     "output_type": "stream",
     "text": [
      "Iteration No: 114 ended. Search finished for the next optimal point.\n",
      "Time taken: 123.9647\n",
      "Function value obtained: -0.4708\n",
      "Current minimum: -0.4909\n",
      "Iteration No: 115 started. Searching for the next optimal point.\n",
      "[0.002692984753839143, 993, 5, 'sqrt']\n",
      "Iteration No: 115 ended. Search finished for the next optimal point.\n",
      "Time taken: 18.1696\n",
      "Function value obtained: -0.3838\n",
      "Current minimum: -0.4909\n",
      "Iteration No: 116 started. Searching for the next optimal point.\n",
      "[0.1, 100, 3, 'log2']\n",
      "Iteration No: 116 ended. Search finished for the next optimal point.\n",
      "Time taken: 2.0612\n",
      "Function value obtained: -0.4333\n",
      "Current minimum: -0.4909\n",
      "Iteration No: 117 started. Searching for the next optimal point.\n",
      "[0.0829239038261399, 1000, 2, 'sqrt']\n",
      "Iteration No: 117 ended. Search finished for the next optimal point.\n",
      "Time taken: 7.0657\n",
      "Function value obtained: -0.4624\n",
      "Current minimum: -0.4909\n",
      "Iteration No: 118 started. Searching for the next optimal point.\n",
      "[0.08413664178841673, 1000, 2, 'auto']\n",
      "Iteration No: 118 ended. Search finished for the next optimal point.\n",
      "Time taken: 124.6523\n",
      "Function value obtained: -0.4801\n",
      "Current minimum: -0.4909\n",
      "Iteration No: 119 started. Searching for the next optimal point.\n",
      "[0.08402990518838474, 1000, 2, 'auto']\n",
      "Iteration No: 119 ended. Search finished for the next optimal point.\n",
      "Time taken: 123.7538\n",
      "Function value obtained: -0.4708\n",
      "Current minimum: -0.4909\n",
      "Iteration No: 120 started. Searching for the next optimal point.\n",
      "[0.07188009235053543, 988, 5, 'auto']\n",
      "Iteration No: 120 ended. Search finished for the next optimal point.\n",
      "Time taken: 282.2517\n",
      "Function value obtained: -0.4266\n",
      "Current minimum: -0.4909\n",
      "Iteration No: 121 started. Searching for the next optimal point.\n",
      "[0.1, 1000, 2, 'sqrt']\n"
     ]
    },
    {
     "name": "stderr",
     "output_type": "stream",
     "text": [
      "/home/carcook/anaconda3/envs/TCGA-round1/lib/python3.8/site-packages/skopt/optimizer/optimizer.py:449: UserWarning: The objective has been evaluated at this point before.\n",
      "  warnings.warn(\"The objective has been evaluated \"\n"
     ]
    },
    {
     "name": "stdout",
     "output_type": "stream",
     "text": [
      "Iteration No: 121 ended. Search finished for the next optimal point.\n",
      "Time taken: 7.2918\n",
      "Function value obtained: -0.4772\n",
      "Current minimum: -0.4909\n",
      "Iteration No: 122 started. Searching for the next optimal point.\n",
      "[0.1, 1000, 2, 'sqrt']\n"
     ]
    },
    {
     "name": "stderr",
     "output_type": "stream",
     "text": [
      "/home/carcook/anaconda3/envs/TCGA-round1/lib/python3.8/site-packages/skopt/optimizer/optimizer.py:449: UserWarning: The objective has been evaluated at this point before.\n",
      "  warnings.warn(\"The objective has been evaluated \"\n"
     ]
    },
    {
     "name": "stdout",
     "output_type": "stream",
     "text": [
      "Iteration No: 122 ended. Search finished for the next optimal point.\n",
      "Time taken: 9.8582\n",
      "Function value obtained: -0.4796\n",
      "Current minimum: -0.4909\n",
      "Iteration No: 123 started. Searching for the next optimal point.\n",
      "[0.1, 1000, 2, 'sqrt']\n"
     ]
    },
    {
     "name": "stderr",
     "output_type": "stream",
     "text": [
      "/home/carcook/anaconda3/envs/TCGA-round1/lib/python3.8/site-packages/skopt/optimizer/optimizer.py:449: UserWarning: The objective has been evaluated at this point before.\n",
      "  warnings.warn(\"The objective has been evaluated \"\n"
     ]
    },
    {
     "name": "stdout",
     "output_type": "stream",
     "text": [
      "Iteration No: 123 ended. Search finished for the next optimal point.\n",
      "Time taken: 8.8567\n",
      "Function value obtained: -0.4605\n",
      "Current minimum: -0.4909\n",
      "Iteration No: 124 started. Searching for the next optimal point.\n",
      "[0.06107740172082162, 995, 2, 'auto']\n",
      "Iteration No: 124 ended. Search finished for the next optimal point.\n",
      "Time taken: 123.9082\n",
      "Function value obtained: -0.4801\n",
      "Current minimum: -0.4909\n",
      "Iteration No: 125 started. Searching for the next optimal point.\n",
      "[0.07164932017086759, 1000, 2, 'auto']\n",
      "Iteration No: 125 ended. Search finished for the next optimal point.\n",
      "Time taken: 125.9406\n",
      "Function value obtained: -0.4637\n",
      "Current minimum: -0.4909\n",
      "Iteration No: 126 started. Searching for the next optimal point.\n",
      "[0.0977303273178668, 988, 5, 'sqrt']\n",
      "Iteration No: 126 ended. Search finished for the next optimal point.\n",
      "Time taken: 16.4309\n",
      "Function value obtained: -0.4396\n",
      "Current minimum: -0.4909\n",
      "Iteration No: 127 started. Searching for the next optimal point.\n",
      "[0.05305787679564859, 1000, 2, 'sqrt']\n",
      "Iteration No: 127 ended. Search finished for the next optimal point.\n",
      "Time taken: 8.5859\n",
      "Function value obtained: -0.4810\n",
      "Current minimum: -0.4909\n",
      "Iteration No: 128 started. Searching for the next optimal point.\n",
      "[0.07367860234806206, 999, 3, 'auto']\n",
      "Iteration No: 128 ended. Search finished for the next optimal point.\n",
      "Time taken: 177.2897\n",
      "Function value obtained: -0.4180\n",
      "Current minimum: -0.4909\n",
      "Iteration No: 129 started. Searching for the next optimal point.\n",
      "[0.052740294591226214, 1000, 2, 'sqrt']\n",
      "Iteration No: 129 ended. Search finished for the next optimal point.\n",
      "Time taken: 7.5142\n",
      "Function value obtained: -0.4708\n",
      "Current minimum: -0.4909\n",
      "Iteration No: 130 started. Searching for the next optimal point.\n",
      "[0.051030478516129844, 1000, 2, 'sqrt']\n",
      "Iteration No: 130 ended. Search finished for the next optimal point.\n",
      "Time taken: 8.1790\n",
      "Function value obtained: -0.4818\n",
      "Current minimum: -0.4909\n",
      "Iteration No: 131 started. Searching for the next optimal point.\n",
      "[0.05055196048272394, 1000, 2, 'sqrt']\n",
      "Iteration No: 131 ended. Search finished for the next optimal point.\n",
      "Time taken: 10.3511\n",
      "Function value obtained: -0.4760\n",
      "Current minimum: -0.4909\n",
      "Iteration No: 132 started. Searching for the next optimal point.\n",
      "[0.1, 1000, 2, 'auto']\n"
     ]
    },
    {
     "name": "stderr",
     "output_type": "stream",
     "text": [
      "/home/carcook/anaconda3/envs/TCGA-round1/lib/python3.8/site-packages/skopt/optimizer/optimizer.py:449: UserWarning: The objective has been evaluated at this point before.\n",
      "  warnings.warn(\"The objective has been evaluated \"\n"
     ]
    },
    {
     "name": "stdout",
     "output_type": "stream",
     "text": [
      "Iteration No: 132 ended. Search finished for the next optimal point.\n",
      "Time taken: 122.3276\n",
      "Function value obtained: -0.4672\n",
      "Current minimum: -0.4909\n",
      "Iteration No: 133 started. Searching for the next optimal point.\n",
      "[0.04985780744124469, 1000, 2, 'sqrt']\n",
      "Iteration No: 133 ended. Search finished for the next optimal point.\n",
      "Time taken: 7.3396\n",
      "Function value obtained: -0.4751\n",
      "Current minimum: -0.4909\n",
      "Iteration No: 134 started. Searching for the next optimal point.\n",
      "[0.09872421302342725, 108, 2, 'sqrt']\n",
      "Iteration No: 134 ended. Search finished for the next optimal point.\n",
      "Time taken: 2.5715\n",
      "Function value obtained: -0.4731\n",
      "Current minimum: -0.4909\n",
      "Iteration No: 135 started. Searching for the next optimal point.\n",
      "[0.04958659683997497, 1000, 2, 'sqrt']\n",
      "Iteration No: 135 ended. Search finished for the next optimal point.\n",
      "Time taken: 11.3708\n",
      "Function value obtained: -0.4588\n",
      "Current minimum: -0.4909\n",
      "Iteration No: 136 started. Searching for the next optimal point.\n",
      "[0.0712116172549338, 1000, 2, 'sqrt']\n",
      "Iteration No: 136 ended. Search finished for the next optimal point.\n",
      "Time taken: 7.8805\n",
      "Function value obtained: -0.4548\n",
      "Current minimum: -0.4909\n",
      "Iteration No: 137 started. Searching for the next optimal point.\n",
      "[0.04511284923840447, 1000, 2, 'sqrt']\n",
      "Iteration No: 137 ended. Search finished for the next optimal point.\n",
      "Time taken: 8.0420\n",
      "Function value obtained: -0.4803\n",
      "Current minimum: -0.4909\n",
      "Iteration No: 138 started. Searching for the next optimal point.\n",
      "[0.044699051986030004, 1000, 2, 'sqrt']\n",
      "Iteration No: 138 ended. Search finished for the next optimal point.\n",
      "Time taken: 11.5080\n",
      "Function value obtained: -0.4871\n",
      "Current minimum: -0.4909\n",
      "Iteration No: 139 started. Searching for the next optimal point.\n",
      "[0.043630991254590454, 1000, 2, 'sqrt']\n",
      "Iteration No: 139 ended. Search finished for the next optimal point.\n",
      "Time taken: 7.6507\n",
      "Function value obtained: -0.4615\n",
      "Current minimum: -0.4909\n",
      "Iteration No: 140 started. Searching for the next optimal point.\n",
      "[0.04782736684151162, 1000, 2, 'sqrt']\n",
      "Iteration No: 140 ended. Search finished for the next optimal point.\n",
      "Time taken: 8.7782\n",
      "Function value obtained: -0.4636\n",
      "Current minimum: -0.4909\n",
      "Iteration No: 141 started. Searching for the next optimal point.\n",
      "[0.1, 1000, 2, 'sqrt']\n"
     ]
    },
    {
     "name": "stderr",
     "output_type": "stream",
     "text": [
      "/home/carcook/anaconda3/envs/TCGA-round1/lib/python3.8/site-packages/skopt/optimizer/optimizer.py:449: UserWarning: The objective has been evaluated at this point before.\n",
      "  warnings.warn(\"The objective has been evaluated \"\n"
     ]
    },
    {
     "name": "stdout",
     "output_type": "stream",
     "text": [
      "Iteration No: 141 ended. Search finished for the next optimal point.\n",
      "Time taken: 11.2941\n",
      "Function value obtained: -0.4916\n",
      "Current minimum: -0.4916\n",
      "Iteration No: 142 started. Searching for the next optimal point.\n",
      "[0.1, 1000, 2, 'sqrt']\n"
     ]
    },
    {
     "name": "stderr",
     "output_type": "stream",
     "text": [
      "/home/carcook/anaconda3/envs/TCGA-round1/lib/python3.8/site-packages/skopt/optimizer/optimizer.py:449: UserWarning: The objective has been evaluated at this point before.\n",
      "  warnings.warn(\"The objective has been evaluated \"\n"
     ]
    },
    {
     "name": "stdout",
     "output_type": "stream",
     "text": [
      "Iteration No: 142 ended. Search finished for the next optimal point.\n",
      "Time taken: 7.8901\n",
      "Function value obtained: -0.4727\n",
      "Current minimum: -0.4916\n",
      "Iteration No: 143 started. Searching for the next optimal point.\n",
      "[0.1, 1000, 2, 'sqrt']\n"
     ]
    },
    {
     "name": "stderr",
     "output_type": "stream",
     "text": [
      "/home/carcook/anaconda3/envs/TCGA-round1/lib/python3.8/site-packages/skopt/optimizer/optimizer.py:449: UserWarning: The objective has been evaluated at this point before.\n",
      "  warnings.warn(\"The objective has been evaluated \"\n"
     ]
    },
    {
     "name": "stdout",
     "output_type": "stream",
     "text": [
      "Iteration No: 143 ended. Search finished for the next optimal point.\n",
      "Time taken: 9.5717\n",
      "Function value obtained: -0.4998\n",
      "Current minimum: -0.4998\n",
      "Iteration No: 144 started. Searching for the next optimal point.\n",
      "[0.1, 1000, 2, 'sqrt']\n"
     ]
    },
    {
     "name": "stderr",
     "output_type": "stream",
     "text": [
      "/home/carcook/anaconda3/envs/TCGA-round1/lib/python3.8/site-packages/skopt/optimizer/optimizer.py:449: UserWarning: The objective has been evaluated at this point before.\n",
      "  warnings.warn(\"The objective has been evaluated \"\n"
     ]
    },
    {
     "name": "stdout",
     "output_type": "stream",
     "text": [
      "Iteration No: 144 ended. Search finished for the next optimal point.\n",
      "Time taken: 9.6548\n",
      "Function value obtained: -0.4854\n",
      "Current minimum: -0.4998\n",
      "Iteration No: 145 started. Searching for the next optimal point.\n",
      "[0.1, 1000, 2, 'sqrt']\n"
     ]
    },
    {
     "name": "stderr",
     "output_type": "stream",
     "text": [
      "/home/carcook/anaconda3/envs/TCGA-round1/lib/python3.8/site-packages/skopt/optimizer/optimizer.py:449: UserWarning: The objective has been evaluated at this point before.\n",
      "  warnings.warn(\"The objective has been evaluated \"\n"
     ]
    },
    {
     "name": "stdout",
     "output_type": "stream",
     "text": [
      "Iteration No: 145 ended. Search finished for the next optimal point.\n",
      "Time taken: 7.3809\n",
      "Function value obtained: -0.4732\n",
      "Current minimum: -0.4998\n",
      "Iteration No: 146 started. Searching for the next optimal point.\n",
      "[0.08058186527090018, 1000, 4, 'sqrt']\n",
      "Iteration No: 146 ended. Search finished for the next optimal point.\n",
      "Time taken: 13.3574\n",
      "Function value obtained: -0.4547\n",
      "Current minimum: -0.4998\n",
      "Iteration No: 147 started. Searching for the next optimal point.\n",
      "[0.1, 1000, 2, 'sqrt']\n"
     ]
    },
    {
     "name": "stderr",
     "output_type": "stream",
     "text": [
      "/home/carcook/anaconda3/envs/TCGA-round1/lib/python3.8/site-packages/skopt/optimizer/optimizer.py:449: UserWarning: The objective has been evaluated at this point before.\n",
      "  warnings.warn(\"The objective has been evaluated \"\n"
     ]
    },
    {
     "name": "stdout",
     "output_type": "stream",
     "text": [
      "Iteration No: 147 ended. Search finished for the next optimal point.\n",
      "Time taken: 10.4640\n",
      "Function value obtained: -0.4732\n",
      "Current minimum: -0.4998\n",
      "Iteration No: 148 started. Searching for the next optimal point.\n",
      "[0.05924947013848217, 103, 5, 'sqrt']\n",
      "Iteration No: 148 ended. Search finished for the next optimal point.\n",
      "Time taken: 3.3153\n",
      "Function value obtained: -0.3954\n",
      "Current minimum: -0.4998\n",
      "Iteration No: 149 started. Searching for the next optimal point.\n",
      "[0.1, 1000, 2, 'sqrt']\n"
     ]
    },
    {
     "name": "stderr",
     "output_type": "stream",
     "text": [
      "/home/carcook/anaconda3/envs/TCGA-round1/lib/python3.8/site-packages/skopt/optimizer/optimizer.py:449: UserWarning: The objective has been evaluated at this point before.\n",
      "  warnings.warn(\"The objective has been evaluated \"\n"
     ]
    },
    {
     "name": "stdout",
     "output_type": "stream",
     "text": [
      "Iteration No: 149 ended. Search finished for the next optimal point.\n",
      "Time taken: 7.5036\n",
      "Function value obtained: -0.4927\n",
      "Current minimum: -0.4998\n",
      "Iteration No: 150 started. Searching for the next optimal point.\n",
      "[0.1, 1000, 2, 'sqrt']\n"
     ]
    },
    {
     "name": "stderr",
     "output_type": "stream",
     "text": [
      "/home/carcook/anaconda3/envs/TCGA-round1/lib/python3.8/site-packages/skopt/optimizer/optimizer.py:449: UserWarning: The objective has been evaluated at this point before.\n",
      "  warnings.warn(\"The objective has been evaluated \"\n"
     ]
    },
    {
     "name": "stdout",
     "output_type": "stream",
     "text": [
      "Iteration No: 150 ended. Search finished for the next optimal point.\n",
      "Time taken: 11.2937\n",
      "Function value obtained: -0.4565\n",
      "Current minimum: -0.4998\n",
      "Iteration No: 151 started. Searching for the next optimal point.\n",
      "[0.1, 1000, 2, 'sqrt']\n"
     ]
    },
    {
     "name": "stderr",
     "output_type": "stream",
     "text": [
      "/home/carcook/anaconda3/envs/TCGA-round1/lib/python3.8/site-packages/skopt/optimizer/optimizer.py:449: UserWarning: The objective has been evaluated at this point before.\n",
      "  warnings.warn(\"The objective has been evaluated \"\n"
     ]
    },
    {
     "name": "stdout",
     "output_type": "stream",
     "text": [
      "Iteration No: 151 ended. Search finished for the next optimal point.\n",
      "Time taken: 7.1419\n",
      "Function value obtained: -0.4902\n",
      "Current minimum: -0.4998\n",
      "Iteration No: 152 started. Searching for the next optimal point.\n",
      "[0.1, 1000, 2, 'sqrt']\n"
     ]
    },
    {
     "name": "stderr",
     "output_type": "stream",
     "text": [
      "/home/carcook/anaconda3/envs/TCGA-round1/lib/python3.8/site-packages/skopt/optimizer/optimizer.py:449: UserWarning: The objective has been evaluated at this point before.\n",
      "  warnings.warn(\"The objective has been evaluated \"\n"
     ]
    },
    {
     "name": "stdout",
     "output_type": "stream",
     "text": [
      "Iteration No: 152 ended. Search finished for the next optimal point.\n",
      "Time taken: 9.8406\n",
      "Function value obtained: -0.4622\n",
      "Current minimum: -0.4998\n",
      "Iteration No: 153 started. Searching for the next optimal point.\n",
      "[0.1, 1000, 2, 'sqrt']\n"
     ]
    },
    {
     "name": "stderr",
     "output_type": "stream",
     "text": [
      "/home/carcook/anaconda3/envs/TCGA-round1/lib/python3.8/site-packages/skopt/optimizer/optimizer.py:449: UserWarning: The objective has been evaluated at this point before.\n",
      "  warnings.warn(\"The objective has been evaluated \"\n"
     ]
    },
    {
     "name": "stdout",
     "output_type": "stream",
     "text": [
      "Iteration No: 153 ended. Search finished for the next optimal point.\n",
      "Time taken: 10.0013\n",
      "Function value obtained: -0.4889\n",
      "Current minimum: -0.4998\n",
      "Iteration No: 154 started. Searching for the next optimal point.\n",
      "[0.1, 1000, 2, 'sqrt']\n"
     ]
    },
    {
     "name": "stderr",
     "output_type": "stream",
     "text": [
      "/home/carcook/anaconda3/envs/TCGA-round1/lib/python3.8/site-packages/skopt/optimizer/optimizer.py:449: UserWarning: The objective has been evaluated at this point before.\n",
      "  warnings.warn(\"The objective has been evaluated \"\n"
     ]
    },
    {
     "name": "stdout",
     "output_type": "stream",
     "text": [
      "Iteration No: 154 ended. Search finished for the next optimal point.\n",
      "Time taken: 7.4761\n",
      "Function value obtained: -0.4858\n",
      "Current minimum: -0.4998\n",
      "Iteration No: 155 started. Searching for the next optimal point.\n",
      "[0.09279950598103497, 1000, 2, 'sqrt']\n",
      "Iteration No: 155 ended. Search finished for the next optimal point.\n",
      "Time taken: 9.1882\n",
      "Function value obtained: -0.4765\n",
      "Current minimum: -0.4998\n",
      "Iteration No: 156 started. Searching for the next optimal point.\n",
      "[0.1, 1000, 2, 'sqrt']\n"
     ]
    },
    {
     "name": "stderr",
     "output_type": "stream",
     "text": [
      "/home/carcook/anaconda3/envs/TCGA-round1/lib/python3.8/site-packages/skopt/optimizer/optimizer.py:449: UserWarning: The objective has been evaluated at this point before.\n",
      "  warnings.warn(\"The objective has been evaluated \"\n"
     ]
    },
    {
     "name": "stdout",
     "output_type": "stream",
     "text": [
      "Iteration No: 156 ended. Search finished for the next optimal point.\n",
      "Time taken: 11.1026\n",
      "Function value obtained: -0.4780\n",
      "Current minimum: -0.4998\n",
      "Iteration No: 157 started. Searching for the next optimal point.\n",
      "[0.1, 1000, 2, 'sqrt']\n"
     ]
    },
    {
     "name": "stderr",
     "output_type": "stream",
     "text": [
      "/home/carcook/anaconda3/envs/TCGA-round1/lib/python3.8/site-packages/skopt/optimizer/optimizer.py:449: UserWarning: The objective has been evaluated at this point before.\n",
      "  warnings.warn(\"The objective has been evaluated \"\n"
     ]
    },
    {
     "name": "stdout",
     "output_type": "stream",
     "text": [
      "Iteration No: 157 ended. Search finished for the next optimal point.\n",
      "Time taken: 8.2469\n",
      "Function value obtained: -0.4910\n",
      "Current minimum: -0.4998\n",
      "Iteration No: 158 started. Searching for the next optimal point.\n",
      "[0.1, 1000, 2, 'sqrt']\n"
     ]
    },
    {
     "name": "stderr",
     "output_type": "stream",
     "text": [
      "/home/carcook/anaconda3/envs/TCGA-round1/lib/python3.8/site-packages/skopt/optimizer/optimizer.py:449: UserWarning: The objective has been evaluated at this point before.\n",
      "  warnings.warn(\"The objective has been evaluated \"\n"
     ]
    },
    {
     "name": "stdout",
     "output_type": "stream",
     "text": [
      "Iteration No: 158 ended. Search finished for the next optimal point.\n",
      "Time taken: 8.6824\n",
      "Function value obtained: -0.4752\n",
      "Current minimum: -0.4998\n",
      "Iteration No: 159 started. Searching for the next optimal point.\n",
      "[0.1, 1000, 2, 'sqrt']\n"
     ]
    },
    {
     "name": "stderr",
     "output_type": "stream",
     "text": [
      "/home/carcook/anaconda3/envs/TCGA-round1/lib/python3.8/site-packages/skopt/optimizer/optimizer.py:449: UserWarning: The objective has been evaluated at this point before.\n",
      "  warnings.warn(\"The objective has been evaluated \"\n"
     ]
    },
    {
     "name": "stdout",
     "output_type": "stream",
     "text": [
      "Iteration No: 159 ended. Search finished for the next optimal point.\n",
      "Time taken: 11.3846\n",
      "Function value obtained: -0.4747\n",
      "Current minimum: -0.4998\n",
      "Iteration No: 160 started. Searching for the next optimal point.\n",
      "[0.1, 1000, 2, 'sqrt']\n"
     ]
    },
    {
     "name": "stderr",
     "output_type": "stream",
     "text": [
      "/home/carcook/anaconda3/envs/TCGA-round1/lib/python3.8/site-packages/skopt/optimizer/optimizer.py:449: UserWarning: The objective has been evaluated at this point before.\n",
      "  warnings.warn(\"The objective has been evaluated \"\n"
     ]
    },
    {
     "name": "stdout",
     "output_type": "stream",
     "text": [
      "Iteration No: 160 ended. Search finished for the next optimal point.\n",
      "Time taken: 8.0348\n",
      "Function value obtained: -0.4808\n",
      "Current minimum: -0.4998\n",
      "Iteration No: 161 started. Searching for the next optimal point.\n",
      "[0.09306467737121421, 1000, 2, 'sqrt']\n",
      "Iteration No: 161 ended. Search finished for the next optimal point.\n",
      "Time taken: 11.3112\n",
      "Function value obtained: -0.4756\n",
      "Current minimum: -0.4998\n",
      "Iteration No: 162 started. Searching for the next optimal point.\n",
      "[0.1, 1000, 2, 'sqrt']\n"
     ]
    },
    {
     "name": "stderr",
     "output_type": "stream",
     "text": [
      "/home/carcook/anaconda3/envs/TCGA-round1/lib/python3.8/site-packages/skopt/optimizer/optimizer.py:449: UserWarning: The objective has been evaluated at this point before.\n",
      "  warnings.warn(\"The objective has been evaluated \"\n"
     ]
    },
    {
     "name": "stdout",
     "output_type": "stream",
     "text": [
      "Iteration No: 162 ended. Search finished for the next optimal point.\n",
      "Time taken: 8.3484\n",
      "Function value obtained: -0.4823\n",
      "Current minimum: -0.4998\n",
      "Iteration No: 163 started. Searching for the next optimal point.\n",
      "[0.1, 1000, 2, 'sqrt']\n"
     ]
    },
    {
     "name": "stderr",
     "output_type": "stream",
     "text": [
      "/home/carcook/anaconda3/envs/TCGA-round1/lib/python3.8/site-packages/skopt/optimizer/optimizer.py:449: UserWarning: The objective has been evaluated at this point before.\n",
      "  warnings.warn(\"The objective has been evaluated \"\n"
     ]
    },
    {
     "name": "stdout",
     "output_type": "stream",
     "text": [
      "Iteration No: 163 ended. Search finished for the next optimal point.\n",
      "Time taken: 9.3911\n",
      "Function value obtained: -0.4755\n",
      "Current minimum: -0.4998\n",
      "Iteration No: 164 started. Searching for the next optimal point.\n",
      "[0.1, 1000, 2, 'sqrt']\n"
     ]
    },
    {
     "name": "stderr",
     "output_type": "stream",
     "text": [
      "/home/carcook/anaconda3/envs/TCGA-round1/lib/python3.8/site-packages/skopt/optimizer/optimizer.py:449: UserWarning: The objective has been evaluated at this point before.\n",
      "  warnings.warn(\"The objective has been evaluated \"\n"
     ]
    },
    {
     "name": "stdout",
     "output_type": "stream",
     "text": [
      "Iteration No: 164 ended. Search finished for the next optimal point.\n",
      "Time taken: 10.7161\n",
      "Function value obtained: -0.4739\n",
      "Current minimum: -0.4998\n",
      "Iteration No: 165 started. Searching for the next optimal point.\n",
      "[0.0025240372871393165, 126, 4, 'auto']\n",
      "Iteration No: 165 ended. Search finished for the next optimal point.\n",
      "Time taken: 30.2614\n",
      "Function value obtained: -0.3813\n",
      "Current minimum: -0.4998\n",
      "Iteration No: 166 started. Searching for the next optimal point.\n",
      "[0.1, 728, 2, 'sqrt']\n",
      "Iteration No: 166 ended. Search finished for the next optimal point.\n",
      "Time taken: 8.3550\n",
      "Function value obtained: -0.4667\n",
      "Current minimum: -0.4998\n",
      "Iteration No: 167 started. Searching for the next optimal point.\n",
      "[0.1, 1000, 2, 'sqrt']\n"
     ]
    },
    {
     "name": "stderr",
     "output_type": "stream",
     "text": [
      "/home/carcook/anaconda3/envs/TCGA-round1/lib/python3.8/site-packages/skopt/optimizer/optimizer.py:449: UserWarning: The objective has been evaluated at this point before.\n",
      "  warnings.warn(\"The objective has been evaluated \"\n"
     ]
    },
    {
     "name": "stdout",
     "output_type": "stream",
     "text": [
      "Iteration No: 167 ended. Search finished for the next optimal point.\n",
      "Time taken: 10.8152\n",
      "Function value obtained: -0.4808\n",
      "Current minimum: -0.4998\n",
      "Iteration No: 168 started. Searching for the next optimal point.\n",
      "[0.09409515110606506, 1000, 2, 'sqrt']\n",
      "Iteration No: 168 ended. Search finished for the next optimal point.\n",
      "Time taken: 8.3690\n",
      "Function value obtained: -0.4720\n",
      "Current minimum: -0.4998\n",
      "Iteration No: 169 started. Searching for the next optimal point.\n",
      "[0.1, 1000, 2, 'sqrt']\n"
     ]
    },
    {
     "name": "stderr",
     "output_type": "stream",
     "text": [
      "/home/carcook/anaconda3/envs/TCGA-round1/lib/python3.8/site-packages/skopt/optimizer/optimizer.py:449: UserWarning: The objective has been evaluated at this point before.\n",
      "  warnings.warn(\"The objective has been evaluated \"\n"
     ]
    },
    {
     "name": "stdout",
     "output_type": "stream",
     "text": [
      "Iteration No: 169 ended. Search finished for the next optimal point.\n",
      "Time taken: 11.5329\n",
      "Function value obtained: -0.4740\n",
      "Current minimum: -0.4998\n",
      "Iteration No: 170 started. Searching for the next optimal point.\n",
      "[0.1, 1000, 2, 'sqrt']\n"
     ]
    },
    {
     "name": "stderr",
     "output_type": "stream",
     "text": [
      "/home/carcook/anaconda3/envs/TCGA-round1/lib/python3.8/site-packages/skopt/optimizer/optimizer.py:449: UserWarning: The objective has been evaluated at this point before.\n",
      "  warnings.warn(\"The objective has been evaluated \"\n"
     ]
    },
    {
     "name": "stdout",
     "output_type": "stream",
     "text": [
      "Iteration No: 170 ended. Search finished for the next optimal point.\n",
      "Time taken: 8.9139\n",
      "Function value obtained: -0.4828\n",
      "Current minimum: -0.4998\n",
      "Iteration No: 171 started. Searching for the next optimal point.\n",
      "[0.03715947835526238, 988, 5, 'auto']\n",
      "Iteration No: 171 ended. Search finished for the next optimal point.\n",
      "Time taken: 276.3859\n",
      "Function value obtained: -0.4665\n",
      "Current minimum: -0.4998\n",
      "Iteration No: 172 started. Searching for the next optimal point.\n",
      "[0.04737499171257348, 764, 2, 'sqrt']\n",
      "Iteration No: 172 ended. Search finished for the next optimal point.\n",
      "Time taken: 10.2552\n",
      "Function value obtained: -0.4824\n",
      "Current minimum: -0.4998\n",
      "Iteration No: 173 started. Searching for the next optimal point.\n",
      "[0.0472128320112273, 751, 2, 'sqrt']\n",
      "Iteration No: 173 ended. Search finished for the next optimal point.\n",
      "Time taken: 7.1485\n",
      "Function value obtained: -0.4679\n",
      "Current minimum: -0.4998\n",
      "Iteration No: 174 started. Searching for the next optimal point.\n",
      "[0.1, 828, 2, 'sqrt']\n",
      "Iteration No: 174 ended. Search finished for the next optimal point.\n",
      "Time taken: 7.4747\n",
      "Function value obtained: -0.4778\n",
      "Current minimum: -0.4998\n",
      "Iteration No: 175 started. Searching for the next optimal point.\n",
      "[0.04773894968436767, 789, 2, 'sqrt']\n",
      "Iteration No: 175 ended. Search finished for the next optimal point.\n",
      "Time taken: 11.0533\n",
      "Function value obtained: -0.4825\n",
      "Current minimum: -0.4998\n",
      "Iteration No: 176 started. Searching for the next optimal point.\n",
      "[0.04750096168711875, 777, 2, 'sqrt']\n",
      "Iteration No: 176 ended. Search finished for the next optimal point.\n",
      "Time taken: 7.3556\n",
      "Function value obtained: -0.5011\n",
      "Current minimum: -0.5011\n",
      "Iteration No: 177 started. Searching for the next optimal point.\n",
      "[0.047150015964073484, 735, 2, 'sqrt']\n",
      "Iteration No: 177 ended. Search finished for the next optimal point.\n",
      "Time taken: 7.5392\n",
      "Function value obtained: -0.4523\n",
      "Current minimum: -0.5011\n",
      "Iteration No: 178 started. Searching for the next optimal point.\n",
      "[0.1, 1000, 2, 'sqrt']\n"
     ]
    },
    {
     "name": "stderr",
     "output_type": "stream",
     "text": [
      "/home/carcook/anaconda3/envs/TCGA-round1/lib/python3.8/site-packages/skopt/optimizer/optimizer.py:449: UserWarning: The objective has been evaluated at this point before.\n",
      "  warnings.warn(\"The objective has been evaluated \"\n"
     ]
    },
    {
     "name": "stdout",
     "output_type": "stream",
     "text": [
      "Iteration No: 178 ended. Search finished for the next optimal point.\n",
      "Time taken: 12.2348\n",
      "Function value obtained: -0.4878\n",
      "Current minimum: -0.5011\n",
      "Iteration No: 179 started. Searching for the next optimal point.\n",
      "[0.1, 812, 2, 'sqrt']\n",
      "Iteration No: 179 ended. Search finished for the next optimal point.\n",
      "Time taken: 7.3963\n",
      "Function value obtained: -0.4874\n",
      "Current minimum: -0.5011\n",
      "Iteration No: 180 started. Searching for the next optimal point.\n",
      "[0.1, 779, 2, 'sqrt']\n",
      "Iteration No: 180 ended. Search finished for the next optimal point.\n",
      "Time taken: 7.5024\n",
      "Function value obtained: -0.4903\n",
      "Current minimum: -0.5011\n",
      "Iteration No: 181 started. Searching for the next optimal point.\n",
      "[0.1, 745, 2, 'sqrt']\n",
      "Iteration No: 181 ended. Search finished for the next optimal point.\n",
      "Time taken: 10.4307\n",
      "Function value obtained: -0.4878\n",
      "Current minimum: -0.5011\n",
      "Iteration No: 182 started. Searching for the next optimal point.\n",
      "[0.1, 725, 2, 'sqrt']\n",
      "Iteration No: 182 ended. Search finished for the next optimal point.\n",
      "Time taken: 7.5878\n",
      "Function value obtained: -0.4776\n",
      "Current minimum: -0.5011\n",
      "Iteration No: 183 started. Searching for the next optimal point.\n",
      "[0.1, 737, 2, 'sqrt']\n",
      "Iteration No: 183 ended. Search finished for the next optimal point.\n",
      "Time taken: 7.5425\n",
      "Function value obtained: -0.4744\n",
      "Current minimum: -0.5011\n",
      "Iteration No: 184 started. Searching for the next optimal point.\n",
      "[0.1, 757, 2, 'sqrt']\n",
      "Iteration No: 184 ended. Search finished for the next optimal point.\n",
      "Time taken: 10.8479\n",
      "Function value obtained: -0.4771\n",
      "Current minimum: -0.5011\n",
      "Iteration No: 185 started. Searching for the next optimal point.\n",
      "[0.1, 769, 2, 'sqrt']\n",
      "Iteration No: 185 ended. Search finished for the next optimal point.\n",
      "Time taken: 7.2481\n",
      "Function value obtained: -0.4687\n",
      "Current minimum: -0.5011\n",
      "Iteration No: 186 started. Searching for the next optimal point.\n",
      "[0.1, 802, 2, 'sqrt']\n",
      "Iteration No: 186 ended. Search finished for the next optimal point.\n",
      "Time taken: 7.2798\n",
      "Function value obtained: -0.4683\n",
      "Current minimum: -0.5011\n",
      "Iteration No: 187 started. Searching for the next optimal point.\n",
      "[0.1, 1000, 2, 'sqrt']\n"
     ]
    },
    {
     "name": "stderr",
     "output_type": "stream",
     "text": [
      "/home/carcook/anaconda3/envs/TCGA-round1/lib/python3.8/site-packages/skopt/optimizer/optimizer.py:449: UserWarning: The objective has been evaluated at this point before.\n",
      "  warnings.warn(\"The objective has been evaluated \"\n"
     ]
    },
    {
     "name": "stdout",
     "output_type": "stream",
     "text": [
      "Iteration No: 187 ended. Search finished for the next optimal point.\n",
      "Time taken: 12.7389\n",
      "Function value obtained: -0.4924\n",
      "Current minimum: -0.5011\n",
      "Iteration No: 188 started. Searching for the next optimal point.\n",
      "[0.1, 1000, 2, 'sqrt']\n"
     ]
    },
    {
     "name": "stderr",
     "output_type": "stream",
     "text": [
      "/home/carcook/anaconda3/envs/TCGA-round1/lib/python3.8/site-packages/skopt/optimizer/optimizer.py:449: UserWarning: The objective has been evaluated at this point before.\n",
      "  warnings.warn(\"The objective has been evaluated \"\n"
     ]
    },
    {
     "name": "stdout",
     "output_type": "stream",
     "text": [
      "Iteration No: 188 ended. Search finished for the next optimal point.\n",
      "Time taken: 8.8107\n",
      "Function value obtained: -0.4627\n",
      "Current minimum: -0.5011\n",
      "Iteration No: 189 started. Searching for the next optimal point.\n",
      "[0.1, 816, 2, 'sqrt']\n",
      "Iteration No: 189 ended. Search finished for the next optimal point.\n",
      "Time taken: 10.1331\n",
      "Function value obtained: -0.4711\n",
      "Current minimum: -0.5011\n",
      "Iteration No: 190 started. Searching for the next optimal point.\n",
      "[0.1, 1000, 2, 'sqrt']\n"
     ]
    },
    {
     "name": "stderr",
     "output_type": "stream",
     "text": [
      "/home/carcook/anaconda3/envs/TCGA-round1/lib/python3.8/site-packages/skopt/optimizer/optimizer.py:449: UserWarning: The objective has been evaluated at this point before.\n",
      "  warnings.warn(\"The objective has been evaluated \"\n"
     ]
    },
    {
     "name": "stdout",
     "output_type": "stream",
     "text": [
      "Iteration No: 190 ended. Search finished for the next optimal point.\n",
      "Time taken: 12.4597\n",
      "Function value obtained: -0.4769\n",
      "Current minimum: -0.5011\n",
      "Iteration No: 191 started. Searching for the next optimal point.\n",
      "[0.1, 1000, 2, 'sqrt']\n"
     ]
    },
    {
     "name": "stderr",
     "output_type": "stream",
     "text": [
      "/home/carcook/anaconda3/envs/TCGA-round1/lib/python3.8/site-packages/skopt/optimizer/optimizer.py:449: UserWarning: The objective has been evaluated at this point before.\n",
      "  warnings.warn(\"The objective has been evaluated \"\n"
     ]
    },
    {
     "name": "stdout",
     "output_type": "stream",
     "text": [
      "Iteration No: 191 ended. Search finished for the next optimal point.\n",
      "Time taken: 9.0512\n",
      "Function value obtained: -0.4688\n",
      "Current minimum: -0.5011\n",
      "Iteration No: 192 started. Searching for the next optimal point.\n",
      "[0.1, 815, 2, 'sqrt']\n",
      "Iteration No: 192 ended. Search finished for the next optimal point.\n",
      "Time taken: 10.5052\n",
      "Function value obtained: -0.4933\n",
      "Current minimum: -0.5011\n",
      "Iteration No: 193 started. Searching for the next optimal point.\n",
      "[0.1, 773, 2, 'sqrt']\n",
      "Iteration No: 193 ended. Search finished for the next optimal point.\n",
      "Time taken: 8.7537\n",
      "Function value obtained: -0.5073\n",
      "Current minimum: -0.5073\n",
      "Iteration No: 194 started. Searching for the next optimal point.\n",
      "[0.1, 694, 2, 'sqrt']\n",
      "Iteration No: 194 ended. Search finished for the next optimal point.\n",
      "Time taken: 7.1176\n",
      "Function value obtained: -0.4813\n",
      "Current minimum: -0.5073\n",
      "Iteration No: 195 started. Searching for the next optimal point.\n",
      "[0.1, 695, 2, 'sqrt']\n",
      "Iteration No: 195 ended. Search finished for the next optimal point.\n",
      "Time taken: 10.4165\n",
      "Function value obtained: -0.4692\n",
      "Current minimum: -0.5073\n",
      "Iteration No: 196 started. Searching for the next optimal point.\n",
      "[0.1, 735, 2, 'sqrt']\n",
      "Iteration No: 196 ended. Search finished for the next optimal point.\n",
      "Time taken: 8.3998\n",
      "Function value obtained: -0.4873\n",
      "Current minimum: -0.5073\n",
      "Iteration No: 197 started. Searching for the next optimal point.\n",
      "[0.1, 720, 2, 'sqrt']\n",
      "Iteration No: 197 ended. Search finished for the next optimal point.\n",
      "Time taken: 7.4282\n",
      "Function value obtained: -0.4545\n",
      "Current minimum: -0.5073\n",
      "Iteration No: 198 started. Searching for the next optimal point.\n",
      "[0.1, 788, 2, 'sqrt']\n",
      "Iteration No: 198 ended. Search finished for the next optimal point.\n",
      "Time taken: 9.3859\n",
      "Function value obtained: -0.4795\n",
      "Current minimum: -0.5073\n",
      "Iteration No: 199 started. Searching for the next optimal point.\n",
      "[0.1, 794, 2, 'sqrt']\n",
      "Iteration No: 199 ended. Search finished for the next optimal point.\n",
      "Time taken: 9.5428\n",
      "Function value obtained: -0.4857\n",
      "Current minimum: -0.5073\n",
      "Iteration No: 200 started. Searching for the next optimal point.\n",
      "[0.1, 787, 2, 'sqrt']\n",
      "Iteration No: 200 ended. Search finished for the next optimal point.\n",
      "Time taken: 7.6403\n",
      "Function value obtained: -0.4683\n",
      "Current minimum: -0.5073\n",
      "Iteration No: 201 started. Searching for the next optimal point.\n",
      "[0.1, 1000, 2, 'sqrt']\n"
     ]
    },
    {
     "name": "stderr",
     "output_type": "stream",
     "text": [
      "/home/carcook/anaconda3/envs/TCGA-round1/lib/python3.8/site-packages/skopt/optimizer/optimizer.py:449: UserWarning: The objective has been evaluated at this point before.\n",
      "  warnings.warn(\"The objective has been evaluated \"\n"
     ]
    },
    {
     "name": "stdout",
     "output_type": "stream",
     "text": [
      "Iteration No: 201 ended. Search finished for the next optimal point.\n",
      "Time taken: 11.9314\n",
      "Function value obtained: -0.4693\n",
      "Current minimum: -0.5073\n",
      "Iteration No: 202 started. Searching for the next optimal point.\n",
      "[0.1, 787, 2, 'sqrt']\n"
     ]
    },
    {
     "name": "stderr",
     "output_type": "stream",
     "text": [
      "/home/carcook/anaconda3/envs/TCGA-round1/lib/python3.8/site-packages/skopt/optimizer/optimizer.py:449: UserWarning: The objective has been evaluated at this point before.\n",
      "  warnings.warn(\"The objective has been evaluated \"\n"
     ]
    },
    {
     "name": "stdout",
     "output_type": "stream",
     "text": [
      "Iteration No: 202 ended. Search finished for the next optimal point.\n",
      "Time taken: 10.2706\n",
      "Function value obtained: -0.4670\n",
      "Current minimum: -0.5073\n",
      "Iteration No: 203 started. Searching for the next optimal point.\n",
      "[0.1, 1000, 2, 'sqrt']\n"
     ]
    },
    {
     "name": "stderr",
     "output_type": "stream",
     "text": [
      "/home/carcook/anaconda3/envs/TCGA-round1/lib/python3.8/site-packages/skopt/optimizer/optimizer.py:449: UserWarning: The objective has been evaluated at this point before.\n",
      "  warnings.warn(\"The objective has been evaluated \"\n"
     ]
    },
    {
     "name": "stdout",
     "output_type": "stream",
     "text": [
      "Iteration No: 203 ended. Search finished for the next optimal point.\n",
      "Time taken: 9.1332\n",
      "Function value obtained: -0.4776\n",
      "Current minimum: -0.5073\n",
      "Iteration No: 204 started. Searching for the next optimal point.\n",
      "[0.1, 1000, 2, 'sqrt']\n"
     ]
    },
    {
     "name": "stderr",
     "output_type": "stream",
     "text": [
      "/home/carcook/anaconda3/envs/TCGA-round1/lib/python3.8/site-packages/skopt/optimizer/optimizer.py:449: UserWarning: The objective has been evaluated at this point before.\n",
      "  warnings.warn(\"The objective has been evaluated \"\n"
     ]
    },
    {
     "name": "stdout",
     "output_type": "stream",
     "text": [
      "Iteration No: 204 ended. Search finished for the next optimal point.\n",
      "Time taken: 12.7698\n",
      "Function value obtained: -0.4638\n",
      "Current minimum: -0.5073\n",
      "Iteration No: 205 started. Searching for the next optimal point.\n",
      "[0.09173637274434546, 731, 2, 'sqrt']\n",
      "Iteration No: 205 ended. Search finished for the next optimal point.\n",
      "Time taken: 7.3411\n",
      "Function value obtained: -0.4936\n",
      "Current minimum: -0.5073\n",
      "Iteration No: 206 started. Searching for the next optimal point.\n",
      "[0.08927698429283912, 670, 2, 'sqrt']\n",
      "Iteration No: 206 ended. Search finished for the next optimal point.\n",
      "Time taken: 7.4668\n",
      "Function value obtained: -0.5019\n",
      "Current minimum: -0.5073\n",
      "Iteration No: 207 started. Searching for the next optimal point.\n",
      "[0.08736712685901127, 615, 2, 'sqrt']\n",
      "Iteration No: 207 ended. Search finished for the next optimal point.\n",
      "Time taken: 10.3982\n",
      "Function value obtained: -0.4466\n",
      "Current minimum: -0.5073\n",
      "Iteration No: 208 started. Searching for the next optimal point.\n",
      "[0.1, 694, 2, 'sqrt']\n"
     ]
    },
    {
     "name": "stderr",
     "output_type": "stream",
     "text": [
      "/home/carcook/anaconda3/envs/TCGA-round1/lib/python3.8/site-packages/skopt/optimizer/optimizer.py:449: UserWarning: The objective has been evaluated at this point before.\n",
      "  warnings.warn(\"The objective has been evaluated \"\n"
     ]
    },
    {
     "name": "stdout",
     "output_type": "stream",
     "text": [
      "Iteration No: 208 ended. Search finished for the next optimal point.\n",
      "Time taken: 7.1992\n",
      "Function value obtained: -0.4850\n",
      "Current minimum: -0.5073\n",
      "Iteration No: 209 started. Searching for the next optimal point.\n",
      "[0.1, 677, 2, 'sqrt']\n",
      "Iteration No: 209 ended. Search finished for the next optimal point.\n",
      "Time taken: 7.2839\n",
      "Function value obtained: -0.4791\n",
      "Current minimum: -0.5073\n",
      "Iteration No: 210 started. Searching for the next optimal point.\n",
      "[0.09216987761083441, 747, 2, 'sqrt']\n",
      "Iteration No: 210 ended. Search finished for the next optimal point.\n",
      "Time taken: 12.1142\n",
      "Function value obtained: -0.4719\n",
      "Current minimum: -0.5073\n",
      "Iteration No: 211 started. Searching for the next optimal point.\n",
      "[0.093081771406047, 758, 2, 'sqrt']\n",
      "Iteration No: 211 ended. Search finished for the next optimal point.\n",
      "Time taken: 7.7397\n",
      "Function value obtained: -0.4747\n",
      "Current minimum: -0.5073\n",
      "Iteration No: 212 started. Searching for the next optimal point.\n",
      "[0.1, 689, 2, 'sqrt']\n",
      "Iteration No: 212 ended. Search finished for the next optimal point.\n",
      "Time taken: 7.8979\n",
      "Function value obtained: -0.4742\n",
      "Current minimum: -0.5073\n",
      "Iteration No: 213 started. Searching for the next optimal point.\n",
      "[0.1, 717, 2, 'sqrt']\n",
      "Iteration No: 213 ended. Search finished for the next optimal point.\n",
      "Time taken: 11.4667\n",
      "Function value obtained: -0.4811\n",
      "Current minimum: -0.5073\n",
      "Iteration No: 214 started. Searching for the next optimal point.\n",
      "[0.1, 716, 2, 'sqrt']\n",
      "Iteration No: 214 ended. Search finished for the next optimal point.\n",
      "Time taken: 7.5147\n",
      "Function value obtained: -0.4661\n",
      "Current minimum: -0.5073\n",
      "Iteration No: 215 started. Searching for the next optimal point.\n",
      "[0.1, 769, 2, 'sqrt']\n"
     ]
    },
    {
     "name": "stderr",
     "output_type": "stream",
     "text": [
      "/home/carcook/anaconda3/envs/TCGA-round1/lib/python3.8/site-packages/skopt/optimizer/optimizer.py:449: UserWarning: The objective has been evaluated at this point before.\n",
      "  warnings.warn(\"The objective has been evaluated \"\n"
     ]
    },
    {
     "name": "stdout",
     "output_type": "stream",
     "text": [
      "Iteration No: 215 ended. Search finished for the next optimal point.\n",
      "Time taken: 8.7309\n",
      "Function value obtained: -0.4741\n",
      "Current minimum: -0.5073\n",
      "Iteration No: 216 started. Searching for the next optimal point.\n",
      "[0.1, 1000, 2, 'sqrt']\n"
     ]
    },
    {
     "name": "stderr",
     "output_type": "stream",
     "text": [
      "/home/carcook/anaconda3/envs/TCGA-round1/lib/python3.8/site-packages/skopt/optimizer/optimizer.py:449: UserWarning: The objective has been evaluated at this point before.\n",
      "  warnings.warn(\"The objective has been evaluated \"\n"
     ]
    },
    {
     "name": "stdout",
     "output_type": "stream",
     "text": [
      "Iteration No: 216 ended. Search finished for the next optimal point.\n",
      "Time taken: 12.1316\n",
      "Function value obtained: -0.4918\n",
      "Current minimum: -0.5073\n",
      "Iteration No: 217 started. Searching for the next optimal point.\n",
      "[0.1, 1000, 2, 'sqrt']\n"
     ]
    },
    {
     "name": "stderr",
     "output_type": "stream",
     "text": [
      "/home/carcook/anaconda3/envs/TCGA-round1/lib/python3.8/site-packages/skopt/optimizer/optimizer.py:449: UserWarning: The objective has been evaluated at this point before.\n",
      "  warnings.warn(\"The objective has been evaluated \"\n"
     ]
    },
    {
     "name": "stdout",
     "output_type": "stream",
     "text": [
      "Iteration No: 217 ended. Search finished for the next optimal point.\n",
      "Time taken: 9.1606\n",
      "Function value obtained: -0.4727\n",
      "Current minimum: -0.5073\n",
      "Iteration No: 218 started. Searching for the next optimal point.\n",
      "[0.1, 1000, 2, 'sqrt']\n"
     ]
    },
    {
     "name": "stderr",
     "output_type": "stream",
     "text": [
      "/home/carcook/anaconda3/envs/TCGA-round1/lib/python3.8/site-packages/skopt/optimizer/optimizer.py:449: UserWarning: The objective has been evaluated at this point before.\n",
      "  warnings.warn(\"The objective has been evaluated \"\n"
     ]
    },
    {
     "name": "stdout",
     "output_type": "stream",
     "text": [
      "Iteration No: 218 ended. Search finished for the next optimal point.\n",
      "Time taken: 14.0416\n",
      "Function value obtained: -0.4608\n",
      "Current minimum: -0.5073\n",
      "Iteration No: 219 started. Searching for the next optimal point.\n",
      "[0.054160281351895684, 1000, 2, 'sqrt']\n",
      "Iteration No: 219 ended. Search finished for the next optimal point.\n",
      "Time taken: 9.3709\n",
      "Function value obtained: -0.4772\n",
      "Current minimum: -0.5073\n",
      "Iteration No: 220 started. Searching for the next optimal point.\n",
      "[0.05398404597474289, 1000, 2, 'sqrt']\n",
      "Iteration No: 220 ended. Search finished for the next optimal point.\n",
      "Time taken: 12.9881\n",
      "Function value obtained: -0.4727\n",
      "Current minimum: -0.5073\n",
      "Iteration No: 221 started. Searching for the next optimal point.\n",
      "[0.1, 756, 2, 'sqrt']\n",
      "Iteration No: 221 ended. Search finished for the next optimal point.\n",
      "Time taken: 9.3046\n",
      "Function value obtained: -0.4841\n",
      "Current minimum: -0.5073\n",
      "Iteration No: 222 started. Searching for the next optimal point.\n",
      "[0.1, 748, 2, 'sqrt']\n",
      "Iteration No: 222 ended. Search finished for the next optimal point.\n",
      "Time taken: 7.9236\n",
      "Function value obtained: -0.4852\n",
      "Current minimum: -0.5073\n",
      "Iteration No: 223 started. Searching for the next optimal point.\n",
      "[0.1, 737, 2, 'sqrt']\n"
     ]
    },
    {
     "name": "stderr",
     "output_type": "stream",
     "text": [
      "/home/carcook/anaconda3/envs/TCGA-round1/lib/python3.8/site-packages/skopt/optimizer/optimizer.py:449: UserWarning: The objective has been evaluated at this point before.\n",
      "  warnings.warn(\"The objective has been evaluated \"\n"
     ]
    },
    {
     "name": "stdout",
     "output_type": "stream",
     "text": [
      "Iteration No: 223 ended. Search finished for the next optimal point.\n",
      "Time taken: 11.6468\n",
      "Function value obtained: -0.4695\n",
      "Current minimum: -0.5073\n",
      "Iteration No: 224 started. Searching for the next optimal point.\n",
      "[0.09245967465259543, 800, 2, 'sqrt']\n",
      "Iteration No: 224 ended. Search finished for the next optimal point.\n",
      "Time taken: 9.4271\n",
      "Function value obtained: -0.4685\n",
      "Current minimum: -0.5073\n",
      "Iteration No: 225 started. Searching for the next optimal point.\n",
      "[0.1, 1000, 2, 'sqrt']\n"
     ]
    },
    {
     "name": "stderr",
     "output_type": "stream",
     "text": [
      "/home/carcook/anaconda3/envs/TCGA-round1/lib/python3.8/site-packages/skopt/optimizer/optimizer.py:449: UserWarning: The objective has been evaluated at this point before.\n",
      "  warnings.warn(\"The objective has been evaluated \"\n"
     ]
    },
    {
     "name": "stdout",
     "output_type": "stream",
     "text": [
      "Iteration No: 225 ended. Search finished for the next optimal point.\n",
      "Time taken: 9.6480\n",
      "Function value obtained: -0.4614\n",
      "Current minimum: -0.5073\n",
      "Iteration No: 226 started. Searching for the next optimal point.\n",
      "[0.1, 688, 2, 'sqrt']\n",
      "Iteration No: 226 ended. Search finished for the next optimal point.\n",
      "Time taken: 12.3148\n",
      "Function value obtained: -0.4781\n",
      "Current minimum: -0.5073\n",
      "Iteration No: 227 started. Searching for the next optimal point.\n",
      "[0.1, 706, 2, 'sqrt']\n",
      "Iteration No: 227 ended. Search finished for the next optimal point.\n",
      "Time taken: 8.0342\n",
      "Function value obtained: -0.4682\n",
      "Current minimum: -0.5073\n",
      "Iteration No: 228 started. Searching for the next optimal point.\n",
      "[0.05203576909898645, 824, 2, 'sqrt']\n",
      "Iteration No: 228 ended. Search finished for the next optimal point.\n",
      "Time taken: 10.0364\n",
      "Function value obtained: -0.4779\n",
      "Current minimum: -0.5073\n",
      "Iteration No: 229 started. Searching for the next optimal point.\n",
      "[0.051954105003195784, 820, 2, 'sqrt']\n",
      "Iteration No: 229 ended. Search finished for the next optimal point.\n",
      "Time taken: 10.9404\n",
      "Function value obtained: -0.4790\n",
      "Current minimum: -0.5073\n",
      "Iteration No: 230 started. Searching for the next optimal point.\n",
      "[0.05190661040874539, 815, 2, 'sqrt']\n",
      "Iteration No: 230 ended. Search finished for the next optimal point.\n",
      "Time taken: 9.5159\n",
      "Function value obtained: -0.4819\n",
      "Current minimum: -0.5073\n",
      "Iteration No: 231 started. Searching for the next optimal point.\n",
      "[0.051973626991178204, 804, 2, 'sqrt']\n",
      "Iteration No: 231 ended. Search finished for the next optimal point.\n",
      "Time taken: 12.8128\n",
      "Function value obtained: -0.4908\n",
      "Current minimum: -0.5073\n",
      "Iteration No: 232 started. Searching for the next optimal point.\n",
      "[0.05246424455502118, 782, 2, 'sqrt']\n",
      "Iteration No: 232 ended. Search finished for the next optimal point.\n",
      "Time taken: 8.5488\n",
      "Function value obtained: -0.4749\n",
      "Current minimum: -0.5073\n",
      "Iteration No: 233 started. Searching for the next optimal point.\n",
      "[0.05217924215264054, 789, 2, 'sqrt']\n",
      "Iteration No: 233 ended. Search finished for the next optimal point.\n",
      "Time taken: 9.5219\n",
      "Function value obtained: -0.4772\n",
      "Current minimum: -0.5073\n",
      "Iteration No: 234 started. Searching for the next optimal point.\n",
      "[0.05198533479281723, 792, 2, 'sqrt']\n",
      "Iteration No: 234 ended. Search finished for the next optimal point.\n",
      "Time taken: 12.0002\n",
      "Function value obtained: -0.5008\n",
      "Current minimum: -0.5073\n",
      "Iteration No: 235 started. Searching for the next optimal point.\n",
      "[0.05290918216089069, 764, 2, 'sqrt']\n",
      "Iteration No: 235 ended. Search finished for the next optimal point.\n",
      "Time taken: 8.3890\n",
      "Function value obtained: -0.4803\n",
      "Current minimum: -0.5073\n",
      "Iteration No: 236 started. Searching for the next optimal point.\n",
      "[0.05281073757059211, 764, 2, 'sqrt']\n",
      "Iteration No: 236 ended. Search finished for the next optimal point.\n",
      "Time taken: 11.3828\n",
      "Function value obtained: -0.4796\n",
      "Current minimum: -0.5073\n",
      "Iteration No: 237 started. Searching for the next optimal point.\n",
      "[0.05266310508291662, 766, 2, 'sqrt']\n",
      "Iteration No: 237 ended. Search finished for the next optimal point.\n",
      "Time taken: 10.3034\n",
      "Function value obtained: -0.4804\n",
      "Current minimum: -0.5073\n",
      "Iteration No: 238 started. Searching for the next optimal point.\n",
      "[0.05253379172250504, 766, 2, 'sqrt']\n",
      "Iteration No: 238 ended. Search finished for the next optimal point.\n",
      "Time taken: 8.9850\n",
      "Function value obtained: -0.4721\n",
      "Current minimum: -0.5073\n",
      "Iteration No: 239 started. Searching for the next optimal point.\n",
      "[0.05211301815166603, 776, 2, 'sqrt']\n",
      "Iteration No: 239 ended. Search finished for the next optimal point.\n",
      "Time taken: 13.0354\n",
      "Function value obtained: -0.4791\n",
      "Current minimum: -0.5073\n",
      "Iteration No: 240 started. Searching for the next optimal point.\n",
      "[0.051886752871288286, 778, 2, 'sqrt']\n",
      "Iteration No: 240 ended. Search finished for the next optimal point.\n",
      "Time taken: 9.0326\n",
      "Function value obtained: -0.4845\n",
      "Current minimum: -0.5073\n",
      "Iteration No: 241 started. Searching for the next optimal point.\n",
      "[0.05177607889052187, 774, 2, 'sqrt']\n",
      "Iteration No: 241 ended. Search finished for the next optimal point.\n",
      "Time taken: 11.0875\n",
      "Function value obtained: -0.4587\n",
      "Current minimum: -0.5073\n",
      "Iteration No: 242 started. Searching for the next optimal point.\n",
      "[0.052527618197342994, 802, 2, 'sqrt']\n",
      "Iteration No: 242 ended. Search finished for the next optimal point.\n",
      "Time taken: 12.5583\n",
      "Function value obtained: -0.4898\n",
      "Current minimum: -0.5073\n",
      "Iteration No: 243 started. Searching for the next optimal point.\n",
      "[0.053140914480266754, 793, 2, 'sqrt']\n",
      "Iteration No: 243 ended. Search finished for the next optimal point.\n",
      "Time taken: 9.2640\n",
      "Function value obtained: -0.4663\n",
      "Current minimum: -0.5073\n",
      "Iteration No: 244 started. Searching for the next optimal point.\n",
      "[0.0512391412739544, 804, 2, 'sqrt']\n",
      "Iteration No: 244 ended. Search finished for the next optimal point.\n",
      "Time taken: 13.4235\n",
      "Function value obtained: -0.4569\n",
      "Current minimum: -0.5073\n",
      "Iteration No: 245 started. Searching for the next optimal point.\n",
      "[0.055197087823547555, 1000, 2, 'sqrt']\n",
      "Iteration No: 245 ended. Search finished for the next optimal point.\n",
      "Time taken: 10.8589\n",
      "Function value obtained: -0.4795\n",
      "Current minimum: -0.5073\n",
      "Iteration No: 246 started. Searching for the next optimal point.\n",
      "[0.055123804365325414, 870, 2, 'sqrt']\n",
      "Iteration No: 246 ended. Search finished for the next optimal point.\n",
      "Time taken: 12.7407\n",
      "Function value obtained: -0.4920\n",
      "Current minimum: -0.5073\n",
      "Iteration No: 247 started. Searching for the next optimal point.\n",
      "[0.05663177617466535, 859, 2, 'sqrt']\n",
      "Iteration No: 247 ended. Search finished for the next optimal point.\n",
      "Time taken: 11.1460\n",
      "Function value obtained: -0.4789\n",
      "Current minimum: -0.5073\n",
      "Iteration No: 248 started. Searching for the next optimal point.\n",
      "[0.05649389179067507, 1000, 2, 'sqrt']\n",
      "Iteration No: 248 ended. Search finished for the next optimal point.\n",
      "Time taken: 10.9828\n",
      "Function value obtained: -0.4527\n",
      "Current minimum: -0.5073\n",
      "Iteration No: 249 started. Searching for the next optimal point.\n",
      "[0.04933762133945533, 795, 2, 'sqrt']\n",
      "Iteration No: 249 ended. Search finished for the next optimal point.\n",
      "Time taken: 12.8442\n",
      "Function value obtained: -0.4696\n",
      "Current minimum: -0.5073\n",
      "Iteration No: 250 started. Searching for the next optimal point.\n",
      "[0.05077578536865352, 803, 2, 'sqrt']\n",
      "Iteration No: 250 ended. Search finished for the next optimal point.\n",
      "Time taken: 9.8675\n",
      "Function value obtained: -0.4547\n",
      "Current minimum: -0.5073\n",
      "Iteration No: 251 started. Searching for the next optimal point.\n",
      "[0.1, 778, 2, 'sqrt']\n",
      "Iteration No: 251 ended. Search finished for the next optimal point.\n",
      "Time taken: 12.1643\n",
      "Function value obtained: -0.4812\n",
      "Current minimum: -0.5073\n",
      "Iteration No: 252 started. Searching for the next optimal point.\n",
      "[0.1, 778, 2, 'sqrt']\n"
     ]
    },
    {
     "name": "stderr",
     "output_type": "stream",
     "text": [
      "/home/carcook/anaconda3/envs/TCGA-round1/lib/python3.8/site-packages/skopt/optimizer/optimizer.py:449: UserWarning: The objective has been evaluated at this point before.\n",
      "  warnings.warn(\"The objective has been evaluated \"\n"
     ]
    },
    {
     "name": "stdout",
     "output_type": "stream",
     "text": [
      "Iteration No: 252 ended. Search finished for the next optimal point.\n",
      "Time taken: 11.1163\n",
      "Function value obtained: -0.4801\n",
      "Current minimum: -0.5073\n",
      "Iteration No: 253 started. Searching for the next optimal point.\n",
      "[0.1, 781, 2, 'sqrt']\n",
      "Iteration No: 253 ended. Search finished for the next optimal point.\n",
      "Time taken: 9.6240\n",
      "Function value obtained: -0.4834\n",
      "Current minimum: -0.5073\n",
      "Iteration No: 254 started. Searching for the next optimal point.\n",
      "[0.1, 779, 2, 'sqrt']\n"
     ]
    },
    {
     "name": "stderr",
     "output_type": "stream",
     "text": [
      "/home/carcook/anaconda3/envs/TCGA-round1/lib/python3.8/site-packages/skopt/optimizer/optimizer.py:449: UserWarning: The objective has been evaluated at this point before.\n",
      "  warnings.warn(\"The objective has been evaluated \"\n"
     ]
    },
    {
     "name": "stdout",
     "output_type": "stream",
     "text": [
      "Iteration No: 254 ended. Search finished for the next optimal point.\n",
      "Time taken: 13.0556\n",
      "Function value obtained: -0.4728\n",
      "Current minimum: -0.5073\n",
      "Iteration No: 255 started. Searching for the next optimal point.\n",
      "[0.1, 791, 2, 'sqrt']\n",
      "Iteration No: 255 ended. Search finished for the next optimal point.\n",
      "Time taken: 9.4665\n",
      "Function value obtained: -0.4768\n",
      "Current minimum: -0.5073\n",
      "Iteration No: 256 started. Searching for the next optimal point.\n",
      "[0.1, 798, 2, 'sqrt']\n",
      "Iteration No: 256 ended. Search finished for the next optimal point.\n",
      "Time taken: 12.1728\n",
      "Function value obtained: -0.4635\n",
      "Current minimum: -0.5073\n",
      "Iteration No: 257 started. Searching for the next optimal point.\n",
      "[0.1, 100, 2, 'sqrt']\n",
      "Iteration No: 257 ended. Search finished for the next optimal point.\n",
      "Time taken: 6.4277\n",
      "Function value obtained: -0.4630\n",
      "Current minimum: -0.5073\n",
      "Iteration No: 258 started. Searching for the next optimal point.\n",
      "[0.0913404037739259, 794, 2, 'sqrt']\n",
      "Iteration No: 258 ended. Search finished for the next optimal point.\n",
      "Time taken: 9.3533\n",
      "Function value obtained: -0.4662\n",
      "Current minimum: -0.5073\n",
      "Iteration No: 259 started. Searching for the next optimal point.\n",
      "[0.1, 1000, 2, 'auto']\n"
     ]
    },
    {
     "name": "stderr",
     "output_type": "stream",
     "text": [
      "/home/carcook/anaconda3/envs/TCGA-round1/lib/python3.8/site-packages/skopt/optimizer/optimizer.py:449: UserWarning: The objective has been evaluated at this point before.\n",
      "  warnings.warn(\"The objective has been evaluated \"\n"
     ]
    },
    {
     "name": "stdout",
     "output_type": "stream",
     "text": [
      "Iteration No: 259 ended. Search finished for the next optimal point.\n",
      "Time taken: 126.0600\n",
      "Function value obtained: -0.4606\n",
      "Current minimum: -0.5073\n",
      "Iteration No: 260 started. Searching for the next optimal point.\n",
      "[0.05355177941004137, 1000, 2, 'sqrt']\n",
      "Iteration No: 260 ended. Search finished for the next optimal point.\n",
      "Time taken: 10.8234\n",
      "Function value obtained: -0.4874\n",
      "Current minimum: -0.5073\n",
      "Iteration No: 261 started. Searching for the next optimal point.\n",
      "[0.054279984185810995, 1000, 2, 'sqrt']\n",
      "Iteration No: 261 ended. Search finished for the next optimal point.\n",
      "Time taken: 15.1872\n",
      "Function value obtained: -0.4680\n",
      "Current minimum: -0.5073\n",
      "Iteration No: 262 started. Searching for the next optimal point.\n",
      "[0.05302603845231144, 1000, 2, 'sqrt']\n",
      "Iteration No: 262 ended. Search finished for the next optimal point.\n",
      "Time taken: 10.9807\n",
      "Function value obtained: -0.4854\n",
      "Current minimum: -0.5073\n",
      "Iteration No: 263 started. Searching for the next optimal point.\n",
      "[0.05347171835751123, 1000, 2, 'sqrt']\n",
      "Iteration No: 263 ended. Search finished for the next optimal point.\n",
      "Time taken: 14.5018\n",
      "Function value obtained: -0.4756\n",
      "Current minimum: -0.5073\n",
      "Iteration No: 264 started. Searching for the next optimal point.\n",
      "[0.05308618541351855, 1000, 2, 'sqrt']\n",
      "Iteration No: 264 ended. Search finished for the next optimal point.\n",
      "Time taken: 12.1486\n",
      "Function value obtained: -0.4725\n",
      "Current minimum: -0.5073\n",
      "Iteration No: 265 started. Searching for the next optimal point.\n",
      "[0.1, 1000, 2, 'sqrt']\n"
     ]
    },
    {
     "name": "stderr",
     "output_type": "stream",
     "text": [
      "/home/carcook/anaconda3/envs/TCGA-round1/lib/python3.8/site-packages/skopt/optimizer/optimizer.py:449: UserWarning: The objective has been evaluated at this point before.\n",
      "  warnings.warn(\"The objective has been evaluated \"\n"
     ]
    },
    {
     "name": "stdout",
     "output_type": "stream",
     "text": [
      "Iteration No: 265 ended. Search finished for the next optimal point.\n",
      "Time taken: 12.0228\n",
      "Function value obtained: -0.4874\n",
      "Current minimum: -0.5073\n",
      "Iteration No: 266 started. Searching for the next optimal point.\n",
      "[0.1, 1000, 2, 'sqrt']\n"
     ]
    },
    {
     "name": "stderr",
     "output_type": "stream",
     "text": [
      "/home/carcook/anaconda3/envs/TCGA-round1/lib/python3.8/site-packages/skopt/optimizer/optimizer.py:449: UserWarning: The objective has been evaluated at this point before.\n",
      "  warnings.warn(\"The objective has been evaluated \"\n"
     ]
    },
    {
     "name": "stdout",
     "output_type": "stream",
     "text": [
      "Iteration No: 266 ended. Search finished for the next optimal point.\n",
      "Time taken: 14.2127\n",
      "Function value obtained: -0.4632\n",
      "Current minimum: -0.5073\n",
      "Iteration No: 267 started. Searching for the next optimal point.\n",
      "[0.1, 816, 2, 'sqrt']\n"
     ]
    },
    {
     "name": "stderr",
     "output_type": "stream",
     "text": [
      "/home/carcook/anaconda3/envs/TCGA-round1/lib/python3.8/site-packages/skopt/optimizer/optimizer.py:449: UserWarning: The objective has been evaluated at this point before.\n",
      "  warnings.warn(\"The objective has been evaluated \"\n"
     ]
    },
    {
     "name": "stdout",
     "output_type": "stream",
     "text": [
      "Iteration No: 267 ended. Search finished for the next optimal point.\n",
      "Time taken: 10.1692\n",
      "Function value obtained: -0.4729\n",
      "Current minimum: -0.5073\n",
      "Iteration No: 268 started. Searching for the next optimal point.\n",
      "[0.052530787560250196, 1000, 2, 'sqrt']\n",
      "Iteration No: 268 ended. Search finished for the next optimal point.\n",
      "Time taken: 15.5631\n",
      "Function value obtained: -0.4771\n",
      "Current minimum: -0.5073\n",
      "Iteration No: 269 started. Searching for the next optimal point.\n",
      "[0.1, 1000, 2, 'sqrt']\n"
     ]
    },
    {
     "name": "stderr",
     "output_type": "stream",
     "text": [
      "/home/carcook/anaconda3/envs/TCGA-round1/lib/python3.8/site-packages/skopt/optimizer/optimizer.py:449: UserWarning: The objective has been evaluated at this point before.\n",
      "  warnings.warn(\"The objective has been evaluated \"\n"
     ]
    },
    {
     "name": "stdout",
     "output_type": "stream",
     "text": [
      "Iteration No: 269 ended. Search finished for the next optimal point.\n",
      "Time taken: 11.1772\n",
      "Function value obtained: -0.4887\n",
      "Current minimum: -0.5073\n",
      "Iteration No: 270 started. Searching for the next optimal point.\n",
      "[0.1, 1000, 2, 'sqrt']\n"
     ]
    },
    {
     "name": "stderr",
     "output_type": "stream",
     "text": [
      "/home/carcook/anaconda3/envs/TCGA-round1/lib/python3.8/site-packages/skopt/optimizer/optimizer.py:449: UserWarning: The objective has been evaluated at this point before.\n",
      "  warnings.warn(\"The objective has been evaluated \"\n"
     ]
    },
    {
     "name": "stdout",
     "output_type": "stream",
     "text": [
      "Iteration No: 270 ended. Search finished for the next optimal point.\n",
      "Time taken: 15.3989\n",
      "Function value obtained: -0.4830\n",
      "Current minimum: -0.5073\n",
      "Iteration No: 271 started. Searching for the next optimal point.\n",
      "[0.1, 1000, 2, 'sqrt']\n"
     ]
    },
    {
     "name": "stderr",
     "output_type": "stream",
     "text": [
      "/home/carcook/anaconda3/envs/TCGA-round1/lib/python3.8/site-packages/skopt/optimizer/optimizer.py:449: UserWarning: The objective has been evaluated at this point before.\n",
      "  warnings.warn(\"The objective has been evaluated \"\n"
     ]
    },
    {
     "name": "stdout",
     "output_type": "stream",
     "text": [
      "Iteration No: 271 ended. Search finished for the next optimal point.\n",
      "Time taken: 11.1163\n",
      "Function value obtained: -0.4792\n",
      "Current minimum: -0.5073\n",
      "Iteration No: 272 started. Searching for the next optimal point.\n",
      "[0.1, 1000, 2, 'sqrt']\n"
     ]
    },
    {
     "name": "stderr",
     "output_type": "stream",
     "text": [
      "/home/carcook/anaconda3/envs/TCGA-round1/lib/python3.8/site-packages/skopt/optimizer/optimizer.py:449: UserWarning: The objective has been evaluated at this point before.\n",
      "  warnings.warn(\"The objective has been evaluated \"\n"
     ]
    },
    {
     "name": "stdout",
     "output_type": "stream",
     "text": [
      "Iteration No: 272 ended. Search finished for the next optimal point.\n",
      "Time taken: 14.9883\n",
      "Function value obtained: -0.4908\n",
      "Current minimum: -0.5073\n",
      "Iteration No: 273 started. Searching for the next optimal point.\n",
      "[0.1, 1000, 2, 'sqrt']\n"
     ]
    },
    {
     "name": "stderr",
     "output_type": "stream",
     "text": [
      "/home/carcook/anaconda3/envs/TCGA-round1/lib/python3.8/site-packages/skopt/optimizer/optimizer.py:449: UserWarning: The objective has been evaluated at this point before.\n",
      "  warnings.warn(\"The objective has been evaluated \"\n"
     ]
    },
    {
     "name": "stdout",
     "output_type": "stream",
     "text": [
      "Iteration No: 273 ended. Search finished for the next optimal point.\n",
      "Time taken: 11.8886\n",
      "Function value obtained: -0.4949\n",
      "Current minimum: -0.5073\n",
      "Iteration No: 274 started. Searching for the next optimal point.\n",
      "[0.1, 1000, 2, 'sqrt']\n"
     ]
    },
    {
     "name": "stderr",
     "output_type": "stream",
     "text": [
      "/home/carcook/anaconda3/envs/TCGA-round1/lib/python3.8/site-packages/skopt/optimizer/optimizer.py:449: UserWarning: The objective has been evaluated at this point before.\n",
      "  warnings.warn(\"The objective has been evaluated \"\n"
     ]
    },
    {
     "name": "stdout",
     "output_type": "stream",
     "text": [
      "Iteration No: 274 ended. Search finished for the next optimal point.\n",
      "Time taken: 15.8697\n",
      "Function value obtained: -0.4915\n",
      "Current minimum: -0.5073\n",
      "Iteration No: 275 started. Searching for the next optimal point.\n",
      "[0.1, 1000, 2, 'sqrt']\n"
     ]
    },
    {
     "name": "stderr",
     "output_type": "stream",
     "text": [
      "/home/carcook/anaconda3/envs/TCGA-round1/lib/python3.8/site-packages/skopt/optimizer/optimizer.py:449: UserWarning: The objective has been evaluated at this point before.\n",
      "  warnings.warn(\"The objective has been evaluated \"\n"
     ]
    },
    {
     "name": "stdout",
     "output_type": "stream",
     "text": [
      "Iteration No: 275 ended. Search finished for the next optimal point.\n",
      "Time taken: 12.1144\n",
      "Function value obtained: -0.4756\n",
      "Current minimum: -0.5073\n",
      "Iteration No: 276 started. Searching for the next optimal point.\n",
      "[0.1, 1000, 2, 'sqrt']\n"
     ]
    },
    {
     "name": "stderr",
     "output_type": "stream",
     "text": [
      "/home/carcook/anaconda3/envs/TCGA-round1/lib/python3.8/site-packages/skopt/optimizer/optimizer.py:449: UserWarning: The objective has been evaluated at this point before.\n",
      "  warnings.warn(\"The objective has been evaluated \"\n"
     ]
    },
    {
     "name": "stdout",
     "output_type": "stream",
     "text": [
      "Iteration No: 276 ended. Search finished for the next optimal point.\n",
      "Time taken: 15.2655\n",
      "Function value obtained: -0.4755\n",
      "Current minimum: -0.5073\n",
      "Iteration No: 277 started. Searching for the next optimal point.\n",
      "[0.1, 1000, 2, 'sqrt']\n"
     ]
    },
    {
     "name": "stderr",
     "output_type": "stream",
     "text": [
      "/home/carcook/anaconda3/envs/TCGA-round1/lib/python3.8/site-packages/skopt/optimizer/optimizer.py:449: UserWarning: The objective has been evaluated at this point before.\n",
      "  warnings.warn(\"The objective has been evaluated \"\n"
     ]
    },
    {
     "name": "stdout",
     "output_type": "stream",
     "text": [
      "Iteration No: 277 ended. Search finished for the next optimal point.\n",
      "Time taken: 11.6624\n",
      "Function value obtained: -0.4797\n",
      "Current minimum: -0.5073\n",
      "Iteration No: 278 started. Searching for the next optimal point.\n",
      "[0.1, 1000, 2, 'sqrt']\n"
     ]
    },
    {
     "name": "stderr",
     "output_type": "stream",
     "text": [
      "/home/carcook/anaconda3/envs/TCGA-round1/lib/python3.8/site-packages/skopt/optimizer/optimizer.py:449: UserWarning: The objective has been evaluated at this point before.\n",
      "  warnings.warn(\"The objective has been evaluated \"\n"
     ]
    },
    {
     "name": "stdout",
     "output_type": "stream",
     "text": [
      "Iteration No: 278 ended. Search finished for the next optimal point.\n",
      "Time taken: 14.7062\n",
      "Function value obtained: -0.4590\n",
      "Current minimum: -0.5073\n",
      "Iteration No: 279 started. Searching for the next optimal point.\n",
      "[0.1, 1000, 2, 'sqrt']\n"
     ]
    },
    {
     "name": "stderr",
     "output_type": "stream",
     "text": [
      "/home/carcook/anaconda3/envs/TCGA-round1/lib/python3.8/site-packages/skopt/optimizer/optimizer.py:449: UserWarning: The objective has been evaluated at this point before.\n",
      "  warnings.warn(\"The objective has been evaluated \"\n"
     ]
    },
    {
     "name": "stdout",
     "output_type": "stream",
     "text": [
      "Iteration No: 279 ended. Search finished for the next optimal point.\n",
      "Time taken: 12.9094\n",
      "Function value obtained: -0.4982\n",
      "Current minimum: -0.5073\n",
      "Iteration No: 280 started. Searching for the next optimal point.\n",
      "[0.1, 1000, 2, 'sqrt']\n"
     ]
    },
    {
     "name": "stderr",
     "output_type": "stream",
     "text": [
      "/home/carcook/anaconda3/envs/TCGA-round1/lib/python3.8/site-packages/skopt/optimizer/optimizer.py:449: UserWarning: The objective has been evaluated at this point before.\n",
      "  warnings.warn(\"The objective has been evaluated \"\n"
     ]
    },
    {
     "name": "stdout",
     "output_type": "stream",
     "text": [
      "Iteration No: 280 ended. Search finished for the next optimal point.\n",
      "Time taken: 13.2200\n",
      "Function value obtained: -0.4958\n",
      "Current minimum: -0.5073\n",
      "Iteration No: 281 started. Searching for the next optimal point.\n",
      "[0.1, 1000, 2, 'sqrt']\n"
     ]
    },
    {
     "name": "stderr",
     "output_type": "stream",
     "text": [
      "/home/carcook/anaconda3/envs/TCGA-round1/lib/python3.8/site-packages/skopt/optimizer/optimizer.py:449: UserWarning: The objective has been evaluated at this point before.\n",
      "  warnings.warn(\"The objective has been evaluated \"\n"
     ]
    },
    {
     "name": "stdout",
     "output_type": "stream",
     "text": [
      "Iteration No: 281 ended. Search finished for the next optimal point.\n",
      "Time taken: 14.3386\n",
      "Function value obtained: -0.4744\n",
      "Current minimum: -0.5073\n",
      "Iteration No: 282 started. Searching for the next optimal point.\n",
      "[0.1, 1000, 2, 'sqrt']\n"
     ]
    },
    {
     "name": "stderr",
     "output_type": "stream",
     "text": [
      "/home/carcook/anaconda3/envs/TCGA-round1/lib/python3.8/site-packages/skopt/optimizer/optimizer.py:449: UserWarning: The objective has been evaluated at this point before.\n",
      "  warnings.warn(\"The objective has been evaluated \"\n"
     ]
    },
    {
     "name": "stdout",
     "output_type": "stream",
     "text": [
      "Iteration No: 282 ended. Search finished for the next optimal point.\n",
      "Time taken: 12.8412\n",
      "Function value obtained: -0.4925\n",
      "Current minimum: -0.5073\n",
      "Iteration No: 283 started. Searching for the next optimal point.\n",
      "[0.1, 1000, 2, 'sqrt']\n"
     ]
    },
    {
     "name": "stderr",
     "output_type": "stream",
     "text": [
      "/home/carcook/anaconda3/envs/TCGA-round1/lib/python3.8/site-packages/skopt/optimizer/optimizer.py:449: UserWarning: The objective has been evaluated at this point before.\n",
      "  warnings.warn(\"The objective has been evaluated \"\n"
     ]
    },
    {
     "name": "stdout",
     "output_type": "stream",
     "text": [
      "Iteration No: 283 ended. Search finished for the next optimal point.\n",
      "Time taken: 13.7504\n",
      "Function value obtained: -0.4860\n",
      "Current minimum: -0.5073\n",
      "Iteration No: 284 started. Searching for the next optimal point.\n",
      "[0.1, 1000, 2, 'sqrt']\n"
     ]
    },
    {
     "name": "stderr",
     "output_type": "stream",
     "text": [
      "/home/carcook/anaconda3/envs/TCGA-round1/lib/python3.8/site-packages/skopt/optimizer/optimizer.py:449: UserWarning: The objective has been evaluated at this point before.\n",
      "  warnings.warn(\"The objective has been evaluated \"\n"
     ]
    },
    {
     "name": "stdout",
     "output_type": "stream",
     "text": [
      "Iteration No: 284 ended. Search finished for the next optimal point.\n",
      "Time taken: 12.8069\n",
      "Function value obtained: -0.4784\n",
      "Current minimum: -0.5073\n",
      "Iteration No: 285 started. Searching for the next optimal point.\n",
      "[0.1, 1000, 2, 'sqrt']\n"
     ]
    },
    {
     "name": "stderr",
     "output_type": "stream",
     "text": [
      "/home/carcook/anaconda3/envs/TCGA-round1/lib/python3.8/site-packages/skopt/optimizer/optimizer.py:449: UserWarning: The objective has been evaluated at this point before.\n",
      "  warnings.warn(\"The objective has been evaluated \"\n"
     ]
    },
    {
     "name": "stdout",
     "output_type": "stream",
     "text": [
      "Iteration No: 285 ended. Search finished for the next optimal point.\n",
      "Time taken: 16.0865\n",
      "Function value obtained: -0.4850\n",
      "Current minimum: -0.5073\n",
      "Iteration No: 286 started. Searching for the next optimal point.\n",
      "[0.1, 1000, 2, 'sqrt']\n"
     ]
    },
    {
     "name": "stderr",
     "output_type": "stream",
     "text": [
      "/home/carcook/anaconda3/envs/TCGA-round1/lib/python3.8/site-packages/skopt/optimizer/optimizer.py:449: UserWarning: The objective has been evaluated at this point before.\n",
      "  warnings.warn(\"The objective has been evaluated \"\n"
     ]
    },
    {
     "name": "stdout",
     "output_type": "stream",
     "text": [
      "Iteration No: 286 ended. Search finished for the next optimal point.\n",
      "Time taken: 12.4736\n",
      "Function value obtained: -0.4850\n",
      "Current minimum: -0.5073\n",
      "Iteration No: 287 started. Searching for the next optimal point.\n",
      "[0.1, 1000, 2, 'sqrt']\n"
     ]
    },
    {
     "name": "stderr",
     "output_type": "stream",
     "text": [
      "/home/carcook/anaconda3/envs/TCGA-round1/lib/python3.8/site-packages/skopt/optimizer/optimizer.py:449: UserWarning: The objective has been evaluated at this point before.\n",
      "  warnings.warn(\"The objective has been evaluated \"\n"
     ]
    },
    {
     "name": "stdout",
     "output_type": "stream",
     "text": [
      "Iteration No: 287 ended. Search finished for the next optimal point.\n",
      "Time taken: 16.1823\n",
      "Function value obtained: -0.4856\n",
      "Current minimum: -0.5073\n",
      "Iteration No: 288 started. Searching for the next optimal point.\n",
      "[0.1, 1000, 2, 'sqrt']\n"
     ]
    },
    {
     "name": "stderr",
     "output_type": "stream",
     "text": [
      "/home/carcook/anaconda3/envs/TCGA-round1/lib/python3.8/site-packages/skopt/optimizer/optimizer.py:449: UserWarning: The objective has been evaluated at this point before.\n",
      "  warnings.warn(\"The objective has been evaluated \"\n"
     ]
    },
    {
     "name": "stdout",
     "output_type": "stream",
     "text": [
      "Iteration No: 288 ended. Search finished for the next optimal point.\n",
      "Time taken: 11.4454\n",
      "Function value obtained: -0.4799\n",
      "Current minimum: -0.5073\n",
      "Iteration No: 289 started. Searching for the next optimal point.\n",
      "[0.1, 1000, 2, 'sqrt']\n"
     ]
    },
    {
     "name": "stderr",
     "output_type": "stream",
     "text": [
      "/home/carcook/anaconda3/envs/TCGA-round1/lib/python3.8/site-packages/skopt/optimizer/optimizer.py:449: UserWarning: The objective has been evaluated at this point before.\n",
      "  warnings.warn(\"The objective has been evaluated \"\n"
     ]
    },
    {
     "name": "stdout",
     "output_type": "stream",
     "text": [
      "Iteration No: 289 ended. Search finished for the next optimal point.\n",
      "Time taken: 15.9812\n",
      "Function value obtained: -0.4698\n",
      "Current minimum: -0.5073\n",
      "Iteration No: 290 started. Searching for the next optimal point.\n",
      "[0.1, 1000, 2, 'sqrt']\n"
     ]
    },
    {
     "name": "stderr",
     "output_type": "stream",
     "text": [
      "/home/carcook/anaconda3/envs/TCGA-round1/lib/python3.8/site-packages/skopt/optimizer/optimizer.py:449: UserWarning: The objective has been evaluated at this point before.\n",
      "  warnings.warn(\"The objective has been evaluated \"\n"
     ]
    },
    {
     "name": "stdout",
     "output_type": "stream",
     "text": [
      "Iteration No: 290 ended. Search finished for the next optimal point.\n",
      "Time taken: 11.4515\n",
      "Function value obtained: -0.4673\n",
      "Current minimum: -0.5073\n",
      "Iteration No: 291 started. Searching for the next optimal point.\n",
      "[0.1, 1000, 2, 'sqrt']\n"
     ]
    },
    {
     "name": "stderr",
     "output_type": "stream",
     "text": [
      "/home/carcook/anaconda3/envs/TCGA-round1/lib/python3.8/site-packages/skopt/optimizer/optimizer.py:449: UserWarning: The objective has been evaluated at this point before.\n",
      "  warnings.warn(\"The objective has been evaluated \"\n"
     ]
    },
    {
     "name": "stdout",
     "output_type": "stream",
     "text": [
      "Iteration No: 291 ended. Search finished for the next optimal point.\n",
      "Time taken: 15.7314\n",
      "Function value obtained: -0.4905\n",
      "Current minimum: -0.5073\n",
      "Iteration No: 292 started. Searching for the next optimal point.\n",
      "[0.1, 1000, 2, 'sqrt']\n"
     ]
    },
    {
     "name": "stderr",
     "output_type": "stream",
     "text": [
      "/home/carcook/anaconda3/envs/TCGA-round1/lib/python3.8/site-packages/skopt/optimizer/optimizer.py:449: UserWarning: The objective has been evaluated at this point before.\n",
      "  warnings.warn(\"The objective has been evaluated \"\n"
     ]
    },
    {
     "name": "stdout",
     "output_type": "stream",
     "text": [
      "Iteration No: 292 ended. Search finished for the next optimal point.\n",
      "Time taken: 12.8547\n",
      "Function value obtained: -0.4714\n",
      "Current minimum: -0.5073\n",
      "Iteration No: 293 started. Searching for the next optimal point.\n",
      "[0.1, 1000, 2, 'sqrt']\n"
     ]
    },
    {
     "name": "stderr",
     "output_type": "stream",
     "text": [
      "/home/carcook/anaconda3/envs/TCGA-round1/lib/python3.8/site-packages/skopt/optimizer/optimizer.py:449: UserWarning: The objective has been evaluated at this point before.\n",
      "  warnings.warn(\"The objective has been evaluated \"\n"
     ]
    },
    {
     "name": "stdout",
     "output_type": "stream",
     "text": [
      "Iteration No: 293 ended. Search finished for the next optimal point.\n",
      "Time taken: 13.3673\n",
      "Function value obtained: -0.4846\n",
      "Current minimum: -0.5073\n",
      "Iteration No: 294 started. Searching for the next optimal point.\n",
      "[0.1, 1000, 2, 'sqrt']\n"
     ]
    },
    {
     "name": "stderr",
     "output_type": "stream",
     "text": [
      "/home/carcook/anaconda3/envs/TCGA-round1/lib/python3.8/site-packages/skopt/optimizer/optimizer.py:449: UserWarning: The objective has been evaluated at this point before.\n",
      "  warnings.warn(\"The objective has been evaluated \"\n"
     ]
    },
    {
     "name": "stdout",
     "output_type": "stream",
     "text": [
      "Iteration No: 294 ended. Search finished for the next optimal point.\n",
      "Time taken: 13.7674\n",
      "Function value obtained: -0.4733\n",
      "Current minimum: -0.5073\n",
      "Iteration No: 295 started. Searching for the next optimal point.\n",
      "[0.1, 1000, 2, 'sqrt']\n"
     ]
    },
    {
     "name": "stderr",
     "output_type": "stream",
     "text": [
      "/home/carcook/anaconda3/envs/TCGA-round1/lib/python3.8/site-packages/skopt/optimizer/optimizer.py:449: UserWarning: The objective has been evaluated at this point before.\n",
      "  warnings.warn(\"The objective has been evaluated \"\n"
     ]
    },
    {
     "name": "stdout",
     "output_type": "stream",
     "text": [
      "Iteration No: 295 ended. Search finished for the next optimal point.\n",
      "Time taken: 13.3897\n",
      "Function value obtained: -0.4843\n",
      "Current minimum: -0.5073\n",
      "Iteration No: 296 started. Searching for the next optimal point.\n",
      "[0.1, 1000, 2, 'sqrt']\n"
     ]
    },
    {
     "name": "stderr",
     "output_type": "stream",
     "text": [
      "/home/carcook/anaconda3/envs/TCGA-round1/lib/python3.8/site-packages/skopt/optimizer/optimizer.py:449: UserWarning: The objective has been evaluated at this point before.\n",
      "  warnings.warn(\"The objective has been evaluated \"\n"
     ]
    },
    {
     "name": "stdout",
     "output_type": "stream",
     "text": [
      "Iteration No: 296 ended. Search finished for the next optimal point.\n",
      "Time taken: 14.5476\n",
      "Function value obtained: -0.4834\n",
      "Current minimum: -0.5073\n",
      "Iteration No: 297 started. Searching for the next optimal point.\n",
      "[0.1, 1000, 2, 'sqrt']\n"
     ]
    },
    {
     "name": "stderr",
     "output_type": "stream",
     "text": [
      "/home/carcook/anaconda3/envs/TCGA-round1/lib/python3.8/site-packages/skopt/optimizer/optimizer.py:449: UserWarning: The objective has been evaluated at this point before.\n",
      "  warnings.warn(\"The objective has been evaluated \"\n"
     ]
    },
    {
     "name": "stdout",
     "output_type": "stream",
     "text": [
      "Iteration No: 297 ended. Search finished for the next optimal point.\n",
      "Time taken: 13.2248\n",
      "Function value obtained: -0.5008\n",
      "Current minimum: -0.5073\n",
      "Iteration No: 298 started. Searching for the next optimal point.\n",
      "[0.1, 1000, 2, 'sqrt']\n"
     ]
    },
    {
     "name": "stderr",
     "output_type": "stream",
     "text": [
      "/home/carcook/anaconda3/envs/TCGA-round1/lib/python3.8/site-packages/skopt/optimizer/optimizer.py:449: UserWarning: The objective has been evaluated at this point before.\n",
      "  warnings.warn(\"The objective has been evaluated \"\n"
     ]
    },
    {
     "name": "stdout",
     "output_type": "stream",
     "text": [
      "Iteration No: 298 ended. Search finished for the next optimal point.\n",
      "Time taken: 16.2984\n",
      "Function value obtained: -0.4644\n",
      "Current minimum: -0.5073\n",
      "Iteration No: 299 started. Searching for the next optimal point.\n",
      "[0.1, 1000, 2, 'sqrt']\n"
     ]
    },
    {
     "name": "stderr",
     "output_type": "stream",
     "text": [
      "/home/carcook/anaconda3/envs/TCGA-round1/lib/python3.8/site-packages/skopt/optimizer/optimizer.py:449: UserWarning: The objective has been evaluated at this point before.\n",
      "  warnings.warn(\"The objective has been evaluated \"\n"
     ]
    },
    {
     "name": "stdout",
     "output_type": "stream",
     "text": [
      "Iteration No: 299 ended. Search finished for the next optimal point.\n",
      "Time taken: 12.0352\n",
      "Function value obtained: -0.4819\n",
      "Current minimum: -0.5073\n",
      "Iteration No: 300 started. Searching for the next optimal point.\n",
      "[0.1, 1000, 2, 'sqrt']\n"
     ]
    },
    {
     "name": "stderr",
     "output_type": "stream",
     "text": [
      "/home/carcook/anaconda3/envs/TCGA-round1/lib/python3.8/site-packages/skopt/optimizer/optimizer.py:449: UserWarning: The objective has been evaluated at this point before.\n",
      "  warnings.warn(\"The objective has been evaluated \"\n"
     ]
    },
    {
     "name": "stdout",
     "output_type": "stream",
     "text": [
      "Iteration No: 300 ended. Search finished for the next optimal point.\n",
      "Time taken: 17.4948\n",
      "Function value obtained: -0.4766\n",
      "Current minimum: -0.5073\n"
     ]
    }
   ],
   "source": [
    "res = gp_minimize(\n",
    "    lambda h_ps: objective(h_ps, x_df, y_df, rand),\n",
    "    space,\n",
    "    verbose=True,\n",
    "    random_state=rand,\n",
    "    n_initial_points=n_initial,\n",
    "    n_calls=n_calls,\n",
    "    n_jobs=-1,\n",
    "    callback=lambda x: opt.save_callback(x, \"opt_gbc_h_params_TEST.tsv\", sep=\"\\t\")\n",
    ")"
   ]
  },
  {
   "cell_type": "code",
   "execution_count": null,
   "metadata": {},
   "outputs": [],
   "source": []
  }
 ],
 "metadata": {
  "kernelspec": {
   "display_name": "Python 3",
   "language": "python",
   "name": "python3"
  },
  "language_info": {
   "codemirror_mode": {
    "name": "ipython",
    "version": 3
   },
   "file_extension": ".py",
   "mimetype": "text/x-python",
   "name": "python",
   "nbconvert_exporter": "python",
   "pygments_lexer": "ipython3",
   "version": "3.8.3"
  }
 },
 "nbformat": 4,
 "nbformat_minor": 4
}
