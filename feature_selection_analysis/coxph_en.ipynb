{
 "cells": [
  {
   "cell_type": "code",
   "execution_count": 1,
   "id": "sixth-words",
   "metadata": {
    "collapsed": true,
    "jupyter": {
     "outputs_hidden": true
    }
   },
   "outputs": [
    {
     "name": "stderr",
     "output_type": "stream",
     "text": [
      "-- \u001b[1mAttaching packages\u001b[22m --------------------------------------------------------------------------------------------------------- tidyverse 1.3.0 --\n",
      "\n",
      "\u001b[32mv\u001b[39m \u001b[34mggplot2\u001b[39m 3.3.3     \u001b[32mv\u001b[39m \u001b[34mpurrr  \u001b[39m 0.3.4\n",
      "\u001b[32mv\u001b[39m \u001b[34mtibble \u001b[39m 3.0.6     \u001b[32mv\u001b[39m \u001b[34mdplyr  \u001b[39m 1.0.4\n",
      "\u001b[32mv\u001b[39m \u001b[34mtidyr  \u001b[39m 1.1.2     \u001b[32mv\u001b[39m \u001b[34mstringr\u001b[39m 1.4.0\n",
      "\u001b[32mv\u001b[39m \u001b[34mreadr  \u001b[39m 1.4.0     \u001b[32mv\u001b[39m \u001b[34mforcats\u001b[39m 0.5.1\n",
      "\n",
      "-- \u001b[1mConflicts\u001b[22m ------------------------------------------------------------------------------------------------------------ tidyverse_conflicts() --\n",
      "\u001b[31mx\u001b[39m \u001b[34mdplyr\u001b[39m::\u001b[32mfilter()\u001b[39m masks \u001b[34mstats\u001b[39m::filter()\n",
      "\u001b[31mx\u001b[39m \u001b[34mdplyr\u001b[39m::\u001b[32mlag()\u001b[39m    masks \u001b[34mstats\u001b[39m::lag()\n",
      "\n",
      "Loading required package: Matrix\n",
      "\n",
      "\n",
      "Attaching package: 'Matrix'\n",
      "\n",
      "\n",
      "The following objects are masked from 'package:tidyr':\n",
      "\n",
      "    expand, pack, unpack\n",
      "\n",
      "\n",
      "Loaded glmnet 4.1\n",
      "\n",
      "Loading required package: dynamicTreeCut\n",
      "\n",
      "Loading required package: fastcluster\n",
      "\n",
      "\n",
      "Attaching package: 'fastcluster'\n",
      "\n",
      "\n",
      "The following object is masked from 'package:stats':\n",
      "\n",
      "    hclust\n",
      "\n",
      "\n",
      "\n",
      "\n",
      "\n",
      "Attaching package: 'WGCNA'\n",
      "\n",
      "\n",
      "The following object is masked from 'package:stats':\n",
      "\n",
      "    cor\n",
      "\n",
      "\n"
     ]
    }
   ],
   "source": [
    "library(tidyverse)\n",
    "library(glmnet)\n",
    "library(WGCNA)\n",
    "\n",
    "# Custom package\n",
    "library(rutils)"
   ]
  },
  {
   "cell_type": "code",
   "execution_count": 2,
   "id": "amateur-nickel",
   "metadata": {},
   "outputs": [
    {
     "name": "stdout",
     "output_type": "stream",
     "text": [
      "Allowing parallel execution with up to 15 working processes.\n"
     ]
    }
   ],
   "source": [
    "enableWGCNAThreads()"
   ]
  },
  {
   "cell_type": "code",
   "execution_count": 3,
   "id": "dirty-dependence",
   "metadata": {},
   "outputs": [],
   "source": [
    "# Define constants\n",
    "dirs <- rutils::get_dev_directories(dev_paths_file = \"../dev_paths.txt\")\n",
    "projects <- c(\"TCGA-CESC\", \"TCGA-UCS\", \"TCGA-UCEC\", \"TCGA-OV\")\n",
    "unified_dsets <- c(\"unified_cervical_data\", \"unified_uterine_data\", \"unified_uterine_endometrial_data\")\n",
    "matrisome_path <- paste0(dirs$data_dir, \"/matrisome/matrisome_hs_masterlist.tsv\")\n",
    "\n",
    "event_code <- list(\"Alive\" = 0, \"Dead\" = 1)\n",
    "# covariate_cols <- c(\"figo_stage\", \"age_at_diagnosis\", \"race\", \"ethnicity\")\n",
    "dep_cols <- c(\"vital_status\", \"survival_time\")"
   ]
  },
  {
   "cell_type": "code",
   "execution_count": 4,
   "id": "spectacular-sellers",
   "metadata": {},
   "outputs": [],
   "source": [
    "dset_idx <- 2\n",
    "save_res <- TRUE\n",
    "# Worst performance observed in UCS\n",
    "worst_score <- 0.6847"
   ]
  },
  {
   "cell_type": "code",
   "execution_count": 5,
   "id": "hazardous-limitation",
   "metadata": {},
   "outputs": [
    {
     "name": "stderr",
     "output_type": "stream",
     "text": [
      "\n",
      "\u001b[36m--\u001b[39m \u001b[1m\u001b[1mColumn specification\u001b[1m\u001b[22m \u001b[36m--------------------------------------------------------------------------------------------------------------------------\u001b[39m\n",
      "cols(\n",
      "  sample_name = \u001b[31mcol_character()\u001b[39m,\n",
      "  vital_status = \u001b[31mcol_character()\u001b[39m,\n",
      "  survival_time = \u001b[32mcol_double()\u001b[39m,\n",
      "  figo_stage = \u001b[31mcol_character()\u001b[39m,\n",
      "  days_to_last_follow_up = \u001b[32mcol_double()\u001b[39m,\n",
      "  days_to_death = \u001b[32mcol_double()\u001b[39m,\n",
      "  age_at_diagnosis = \u001b[32mcol_double()\u001b[39m,\n",
      "  age_at_index = \u001b[32mcol_double()\u001b[39m,\n",
      "  height = \u001b[32mcol_double()\u001b[39m,\n",
      "  weight = \u001b[32mcol_double()\u001b[39m,\n",
      "  bmi = \u001b[32mcol_double()\u001b[39m,\n",
      "  race = \u001b[31mcol_character()\u001b[39m,\n",
      "  ethnicity = \u001b[31mcol_character()\u001b[39m\n",
      ")\n",
      "\n",
      "\n",
      "\n",
      "\u001b[36m--\u001b[39m \u001b[1m\u001b[1mColumn specification\u001b[1m\u001b[22m \u001b[36m--------------------------------------------------------------------------------------------------------------------------\u001b[39m\n",
      "cols(\n",
      "  geneID = \u001b[31mcol_character()\u001b[39m,\n",
      "  cutoff = \u001b[32mcol_double()\u001b[39m\n",
      ")\n",
      "\n",
      "\n",
      "\n",
      "\u001b[36m--\u001b[39m \u001b[1m\u001b[1mColumn specification\u001b[1m\u001b[22m \u001b[36m--------------------------------------------------------------------------------------------------------------------------\u001b[39m\n",
      "cols(\n",
      "  .default = col_double(),\n",
      "  geneID = \u001b[31mcol_character()\u001b[39m\n",
      ")\n",
      "\u001b[36mi\u001b[39m Use \u001b[30m\u001b[47m\u001b[30m\u001b[47m`spec()`\u001b[47m\u001b[30m\u001b[49m\u001b[39m for the full column specifications.\n",
      "\n",
      "\n"
     ]
    }
   ],
   "source": [
    "# Load and filter survival data\n",
    "survival_path <- paste0(dirs$data_dir, \"/\", unified_dsets[dset_idx], \"/survival_data.tsv\")\n",
    "survival_df <- load_survival_df(survival_path, event_code)\n",
    "cutoff_df <- read_tsv(paste0(dirs$analysis_dir, \"/survival/\", unified_dsets[dset_idx], \"_expression_cutoffs.tsv\"))\n",
    "\n",
    "filtered_survival_df <- survival_df %>%\n",
    "    dplyr::select(one_of(c(\"sample_name\", dep_cols))) %>%\n",
    "    dplyr::filter(rowSums(is.na(.)) == 0)\n",
    "\n",
    "# Load normalized matrisome count data\n",
    "norm_matrisome_counts_df <- read_tsv(paste0(dirs$data_dir, \"/\", unified_dsets[dset_idx], \"/norm_matrisome_counts.tsv\"))\n",
    "norm_matrisome_counts_t_df <- norm_matrisome_counts_df %>%\n",
    "    dplyr::select(c(\"geneID\", filtered_survival_df$sample_name)) %>%\n",
    "    transpose_df(\"geneID\", \"sample_name\")\n",
    "# Combine survival data and normalized count data\n",
    "joined_df <- filtered_survival_df %>%\n",
    "    inner_join(norm_matrisome_counts_t_df, by = \"sample_name\") %>%\n",
    "#     select(one_of(\"sample_name\", \"vital_status\", \"survival_time\", umsmg_demg_list)) %>%\n",
    "    # cannot have survival times of 0\n",
    "    dplyr::filter(survival_time > 0)"
   ]
  },
  {
   "cell_type": "code",
   "execution_count": 6,
   "id": "available-revelation",
   "metadata": {},
   "outputs": [],
   "source": [
    "y <- as.matrix(\n",
    "    joined_df %>%\n",
    "        dplyr::select(survival_time, vital_status) %>%\n",
    "        dplyr::rename(time = survival_time, status = vital_status)\n",
    ")\n",
    "rownames(y) <- joined_df$sample_name\n",
    "\n",
    "x <- as.matrix(\n",
    "    joined_df %>%\n",
    "        dplyr::select(-c(sample_name, vital_status, survival_time))\n",
    ")\n",
    "rownames(x) <- joined_df$sample_name"
   ]
  },
  {
   "cell_type": "code",
   "execution_count": 7,
   "id": "dried-toolbox",
   "metadata": {},
   "outputs": [],
   "source": [
    "set.seed(123)\n",
    "# alpha = 1 --> lasso\n",
    "# cv_cph_model <- cv.glmnet(x, y, family = \"cox\", alpha = 0.5, type.measure = \"default\")\n",
    "cv_cph_model <- cv.glmnet(\n",
    "    x, y, family = \"cox\", alpha = 1, nfolds = 10, type.measure = \"C\",\n",
    "    lambda = exp(seq(-5, 0, 0.005)),\n",
    "    parallel = TRUE\n",
    ")"
   ]
  },
  {
   "cell_type": "code",
   "execution_count": 8,
   "id": "sized-craps",
   "metadata": {},
   "outputs": [
    {
     "data": {
      "text/plain": [
       "\n",
       "Call:  cv.glmnet(x = x, y = y, lambda = exp(seq(-5, 0, 0.005)), type.measure = \"C\",      nfolds = 10, parallel = TRUE, family = \"cox\", alpha = 1) \n",
       "\n",
       "Measure: C-index \n",
       "\n",
       "    Lambda Index Measure      SE Nonzero\n",
       "min 0.1136   436  0.6848 0.09022      26\n",
       "1se 0.1773   347  0.6080 0.09694      15"
      ]
     },
     "metadata": {},
     "output_type": "display_data"
    },
    {
     "data": {
      "image/png": "[encoded data removed]",
      "text/plain": [
       "plot without title"
      ]
     },
     "metadata": {
      "image/png": {
       "height": 420,
       "width": 420
      }
     },
     "output_type": "display_data"
    }
   ],
   "source": [
    "cv_cph_model\n",
    "plot(cv_cph_model)"
   ]
  },
  {
   "cell_type": "code",
   "execution_count": 9,
   "id": "personal-while",
   "metadata": {},
   "outputs": [],
   "source": [
    "# Last index better than worst best score of any cancer model\n",
    "lambda_idx <- max(which(cv_cph_model$cvm > worst_score))\n",
    "\n",
    "\n",
    "mask_lambda <- cv_cph_model$lambda[lambda_idx]\n",
    "mask_lambda_genes <- as.matrix(coef(cv_cph_model, s = mask_lambda))[, 1] != 0"
   ]
  },
  {
   "cell_type": "code",
   "execution_count": 10,
   "id": "artificial-bailey",
   "metadata": {},
   "outputs": [
    {
     "data": {
      "text/html": [
       "27"
      ],
      "text/latex": [
       "27"
      ],
      "text/markdown": [
       "27"
      ],
      "text/plain": [
       "[1] 27"
      ]
     },
     "metadata": {},
     "output_type": "display_data"
    }
   ],
   "source": [
    "cv_cph_model_coeffs <- as.matrix(coef(cv_cph_model, s = mask_lambda))\n",
    "important_gene_df <- tibble(geneID = colnames(x)[mask_lambda_genes], coeff = cv_cph_model_coeffs[mask_lambda_genes])\n",
    "nrow(important_gene_df)"
   ]
  },
  {
   "cell_type": "code",
   "execution_count": 11,
   "id": "vocal-greene",
   "metadata": {},
   "outputs": [],
   "source": [
    "if (save_res) {\n",
    "    write_tsv(important_gene_df, paste0(dirs$analysis_dir, \"/feature_selection/\", unified_dsets[dset_idx], \"_en_cph_results.tsv\"))    \n",
    "}"
   ]
  }
 ],
 "metadata": {
  "kernelspec": {
   "display_name": "R",
   "language": "R",
   "name": "ir"
  },
  "language_info": {
   "codemirror_mode": "r",
   "file_extension": ".r",
   "mimetype": "text/x-r-source",
   "name": "R",
   "pygments_lexer": "r",
   "version": "4.0.3"
  }
 },
 "nbformat": 4,
 "nbformat_minor": 5
}
