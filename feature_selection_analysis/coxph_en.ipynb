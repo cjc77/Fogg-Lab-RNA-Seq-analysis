{
 "cells": [
  {
   "cell_type": "code",
   "execution_count": 1,
   "id": "pacific-sheet",
   "metadata": {},
   "outputs": [
    {
     "name": "stderr",
     "output_type": "stream",
     "text": [
      "-- \u001b[1mAttaching packages\u001b[22m ------------------------------------------------------------------------------------------------------- tidyverse 1.3.0 --\n",
      "\n",
      "\u001b[32mv\u001b[39m \u001b[34mggplot2\u001b[39m 3.3.3     \u001b[32mv\u001b[39m \u001b[34mpurrr  \u001b[39m 0.3.4\n",
      "\u001b[32mv\u001b[39m \u001b[34mtibble \u001b[39m 3.0.6     \u001b[32mv\u001b[39m \u001b[34mdplyr  \u001b[39m 1.0.4\n",
      "\u001b[32mv\u001b[39m \u001b[34mtidyr  \u001b[39m 1.1.2     \u001b[32mv\u001b[39m \u001b[34mstringr\u001b[39m 1.4.0\n",
      "\u001b[32mv\u001b[39m \u001b[34mreadr  \u001b[39m 1.4.0     \u001b[32mv\u001b[39m \u001b[34mforcats\u001b[39m 0.5.1\n",
      "\n",
      "-- \u001b[1mConflicts\u001b[22m ---------------------------------------------------------------------------------------------------------- tidyverse_conflicts() --\n",
      "\u001b[31mx\u001b[39m \u001b[34mdplyr\u001b[39m::\u001b[32mfilter()\u001b[39m masks \u001b[34mstats\u001b[39m::filter()\n",
      "\u001b[31mx\u001b[39m \u001b[34mdplyr\u001b[39m::\u001b[32mlag()\u001b[39m    masks \u001b[34mstats\u001b[39m::lag()\n",
      "\n",
      "Loading required package: Matrix\n",
      "\n",
      "\n",
      "Attaching package: 'Matrix'\n",
      "\n",
      "\n",
      "The following objects are masked from 'package:tidyr':\n",
      "\n",
      "    expand, pack, unpack\n",
      "\n",
      "\n",
      "Loaded glmnet 4.1\n",
      "\n"
     ]
    }
   ],
   "source": [
    "library(tidyverse)\n",
    "library(glmnet)\n",
    "\n",
    "# Custom package\n",
    "library(rutils)"
   ]
  },
  {
   "cell_type": "code",
   "execution_count": 2,
   "id": "sorted-ferry",
   "metadata": {},
   "outputs": [],
   "source": [
    "# Define constants\n",
    "dirs <- rutils::get_dev_directories(dev_paths_file = \"../dev_paths.txt\")\n",
    "projects <- c(\"TCGA-CESC\", \"TCGA-UCS\", \"TCGA-UCEC\", \"TCGA-OV\")\n",
    "unified_dsets <- c(\"unified_cervical_data\", \"unified_uterine_data\", \"unified_uterine_endometrial_data\")\n",
    "matrisome_path <- paste0(dirs$data_dir, \"/matrisome/matrisome_hs_masterlist.tsv\")\n",
    "\n",
    "event_code <- list(\"Alive\" = 0, \"Dead\" = 1)\n",
    "# covariate_cols <- c(\"figo_stage\", \"age_at_diagnosis\", \"race\", \"ethnicity\")\n",
    "dep_cols <- c(\"vital_status\", \"survival_time\")"
   ]
  },
  {
   "cell_type": "code",
   "execution_count": 3,
   "id": "increased-bidder",
   "metadata": {},
   "outputs": [],
   "source": [
    "dset_idx <- 3\n",
    "save_res <- FALSE"
   ]
  },
  {
   "cell_type": "code",
   "execution_count": 4,
   "id": "russian-commissioner",
   "metadata": {},
   "outputs": [
    {
     "name": "stderr",
     "output_type": "stream",
     "text": [
      "\n",
      "\u001b[36m--\u001b[39m \u001b[1m\u001b[1mColumn specification\u001b[1m\u001b[22m \u001b[36m------------------------------------------------------------------------------------------------------------------------\u001b[39m\n",
      "cols(\n",
      "  sample_name = \u001b[31mcol_character()\u001b[39m,\n",
      "  vital_status = \u001b[31mcol_character()\u001b[39m,\n",
      "  survival_time = \u001b[32mcol_double()\u001b[39m,\n",
      "  figo_stage = \u001b[31mcol_character()\u001b[39m,\n",
      "  days_to_last_follow_up = \u001b[32mcol_double()\u001b[39m,\n",
      "  days_to_death = \u001b[32mcol_double()\u001b[39m,\n",
      "  age_at_diagnosis = \u001b[32mcol_double()\u001b[39m,\n",
      "  age_at_index = \u001b[32mcol_double()\u001b[39m,\n",
      "  height = \u001b[32mcol_double()\u001b[39m,\n",
      "  weight = \u001b[32mcol_double()\u001b[39m,\n",
      "  bmi = \u001b[32mcol_double()\u001b[39m,\n",
      "  race = \u001b[31mcol_character()\u001b[39m,\n",
      "  ethnicity = \u001b[31mcol_character()\u001b[39m\n",
      ")\n",
      "\n",
      "\n",
      "\n",
      "\u001b[36m--\u001b[39m \u001b[1m\u001b[1mColumn specification\u001b[1m\u001b[22m \u001b[36m------------------------------------------------------------------------------------------------------------------------\u001b[39m\n",
      "cols(\n",
      "  geneID = \u001b[31mcol_character()\u001b[39m,\n",
      "  cutoff = \u001b[32mcol_double()\u001b[39m\n",
      ")\n",
      "\n",
      "\n",
      "\n",
      "\u001b[36m--\u001b[39m \u001b[1m\u001b[1mColumn specification\u001b[1m\u001b[22m \u001b[36m------------------------------------------------------------------------------------------------------------------------\u001b[39m\n",
      "cols(\n",
      "  .default = col_double(),\n",
      "  geneID = \u001b[31mcol_character()\u001b[39m\n",
      ")\n",
      "\u001b[36mi\u001b[39m Use \u001b[30m\u001b[47m\u001b[30m\u001b[47m`spec()`\u001b[47m\u001b[30m\u001b[49m\u001b[39m for the full column specifications.\n",
      "\n",
      "\n"
     ]
    }
   ],
   "source": [
    "# Load and filter survival data\n",
    "survival_path <- paste0(dirs$data_dir, \"/\", unified_dsets[dset_idx], \"/survival_data.tsv\")\n",
    "survival_df <- load_survival_df(survival_path, event_code)\n",
    "umsmg_demg_list <- read_lines(paste0(dirs$analysis_dir, \"/gene_lists/\", unified_dsets[dset_idx], \"_umsmg_demg_list.txt\"))\n",
    "cutoff_df <- read_tsv(paste0(dirs$analysis_dir, \"/survival/\", unified_dsets[dset_idx], \"_expression_cutoffs.tsv\"))\n",
    "\n",
    "filtered_survival_df <- survival_df %>%\n",
    "    dplyr::select(one_of(c(\"sample_name\", dep_cols))) %>%\n",
    "    dplyr::filter(rowSums(is.na(.)) == 0)\n",
    "\n",
    "# Load normalized matrisome count data\n",
    "norm_matrisome_counts_df <- read_tsv(paste0(dirs$data_dir, \"/\", unified_dsets[dset_idx], \"/norm_matrisome_counts.tsv\"))\n",
    "norm_matrisome_counts_t_df <- norm_matrisome_counts_df %>%\n",
    "    dplyr::select(c(\"geneID\", filtered_survival_df$sample_name)) %>%\n",
    "    transpose_df(\"geneID\", \"sample_name\")\n",
    "# Combine survival data and normalized count data\n",
    "filtered_joined_df <- filtered_survival_df %>%\n",
    "    inner_join(norm_matrisome_counts_t_df, by = \"sample_name\") %>%\n",
    "    select(one_of(\"sample_name\", \"vital_status\", \"survival_time\", umsmg_demg_list)) %>%\n",
    "    # cannot have survival times of 0\n",
    "    dplyr::filter(survival_time > 0)"
   ]
  },
  {
   "cell_type": "code",
   "execution_count": 5,
   "id": "coastal-neighbor",
   "metadata": {},
   "outputs": [],
   "source": [
    "y <- as.matrix(\n",
    "    filtered_joined_df %>%\n",
    "        dplyr::select(survival_time, vital_status) %>%\n",
    "        dplyr::rename(time = survival_time, status = vital_status)\n",
    ")\n",
    "rownames(y) <- filtered_joined_df$sample_name\n",
    "\n",
    "x <- as.matrix(\n",
    "    filtered_joined_df %>%\n",
    "        dplyr::select(-c(sample_name, vital_status, survival_time))\n",
    ")\n",
    "rownames(x) <- filtered_joined_df$sample_name"
   ]
  },
  {
   "cell_type": "code",
   "execution_count": 6,
   "id": "usual-lighting",
   "metadata": {},
   "outputs": [],
   "source": [
    "set.seed(123)\n",
    "# alpha = 1 --> lasso\n",
    "# cv_cph_model <- cv.glmnet(x, y, family = \"cox\", alpha = 0.5, type.measure = \"default\")\n",
    "cv_cph_model <- cv.glmnet(x, y, family = \"cox\", alpha = 0.5, nfolds = 10, type.measure = \"C\")\n",
    "# cph_model <- glmnet(x, y, family = \"cox\", alpha = 1)"
   ]
  },
  {
   "cell_type": "code",
   "execution_count": 7,
   "id": "southern-florida",
   "metadata": {},
   "outputs": [
    {
     "data": {
      "text/plain": [
       "\n",
       "Call:  cv.glmnet(x = x, y = y, type.measure = \"C\", nfolds = 10, family = \"cox\",      alpha = 0.5) \n",
       "\n",
       "Measure: C-index \n",
       "\n",
       "    Lambda Index Measure      SE Nonzero\n",
       "min 0.1117     7  0.6213 0.08553      11\n",
       "1se 0.1621     3  0.5460 0.06559       3"
      ]
     },
     "metadata": {},
     "output_type": "display_data"
    },
    {
     "data": {
      "image/png": "[encoded data removed]",
      "text/plain": [
       "plot without title"
      ]
     },
     "metadata": {
      "image/png": {
       "height": 420,
       "width": 420
      }
     },
     "output_type": "display_data"
    }
   ],
   "source": [
    "cv_cph_model\n",
    "plot(cv_cph_model)"
   ]
  },
  {
   "cell_type": "code",
   "execution_count": 13,
   "id": "valid-trailer",
   "metadata": {},
   "outputs": [],
   "source": [
    "# Index associated with best cv performance\n",
    "cv_min_idx <- cv_cph_model$index[\"min\",]\n",
    "# best cv performance\n",
    "cv_best_cvm <- cv_cph_model$cvm[cv_min_idx]\n",
    "# Std. error assoc. with best cv performance\n",
    "cv_best_se <- cv_cph_model$cvsd[cv_min_idx]\n",
    "# model_mask <- cv_cph_model$cvm > cv_best_cvm - cv_best_se\n",
    "# model_mask <- cv_cph_model$cvm < cv_best_cvm + cv_best_se\n",
    "\n",
    "# model_mask <- cv_cph_model$cvm == cv_best_cvm\n",
    "# mask_lambda <- cv_cph_model$lambda[model_mask] %>% last()\n",
    "# mask_lambda_genes <- as.matrix(coef(cv_cph_model, s = mask_lambda))[, 1] != 0\n",
    "mask_lambda <- cv_cph_model$lambda.min\n",
    "mask_lambda_genes <- as.matrix(coef(cv_cph_model, s = mask_lambda))[, 1] != 0"
   ]
  },
  {
   "cell_type": "code",
   "execution_count": 14,
   "id": "uniform-guarantee",
   "metadata": {},
   "outputs": [
    {
     "data": {
      "text/html": [
       "<table class=\"dataframe\">\n",
       "<caption>A tibble: 11 × 2</caption>\n",
       "<thead>\n",
       "\t<tr><th scope=col>geneID</th><th scope=col>coeff</th></tr>\n",
       "\t<tr><th scope=col>&lt;chr&gt;</th><th scope=col>&lt;dbl&gt;</th></tr>\n",
       "</thead>\n",
       "<tbody>\n",
       "\t<tr><td>TGM5    </td><td> 0.027480124</td></tr>\n",
       "\t<tr><td>PCOLCE2 </td><td> 0.009700858</td></tr>\n",
       "\t<tr><td>COL6A5  </td><td> 0.117991338</td></tr>\n",
       "\t<tr><td>TNFSF11 </td><td>-0.041883856</td></tr>\n",
       "\t<tr><td>ANGPTL2 </td><td> 0.136867375</td></tr>\n",
       "\t<tr><td>SERPIND1</td><td>-0.006672967</td></tr>\n",
       "\t<tr><td>LGI2    </td><td> 0.020502491</td></tr>\n",
       "\t<tr><td>FGF19   </td><td>-0.022298708</td></tr>\n",
       "\t<tr><td>CBLN3   </td><td> 0.007024268</td></tr>\n",
       "\t<tr><td>COL5A3  </td><td> 0.136411073</td></tr>\n",
       "\t<tr><td>CST6    </td><td> 0.008939942</td></tr>\n",
       "</tbody>\n",
       "</table>\n"
      ],
      "text/latex": [
       "A tibble: 11 × 2\n",
       "\\begin{tabular}{ll}\n",
       " geneID & coeff\\\\\n",
       " <chr> & <dbl>\\\\\n",
       "\\hline\n",
       "\t TGM5     &  0.027480124\\\\\n",
       "\t PCOLCE2  &  0.009700858\\\\\n",
       "\t COL6A5   &  0.117991338\\\\\n",
       "\t TNFSF11  & -0.041883856\\\\\n",
       "\t ANGPTL2  &  0.136867375\\\\\n",
       "\t SERPIND1 & -0.006672967\\\\\n",
       "\t LGI2     &  0.020502491\\\\\n",
       "\t FGF19    & -0.022298708\\\\\n",
       "\t CBLN3    &  0.007024268\\\\\n",
       "\t COL5A3   &  0.136411073\\\\\n",
       "\t CST6     &  0.008939942\\\\\n",
       "\\end{tabular}\n"
      ],
      "text/markdown": [
       "\n",
       "A tibble: 11 × 2\n",
       "\n",
       "| geneID &lt;chr&gt; | coeff &lt;dbl&gt; |\n",
       "|---|---|\n",
       "| TGM5     |  0.027480124 |\n",
       "| PCOLCE2  |  0.009700858 |\n",
       "| COL6A5   |  0.117991338 |\n",
       "| TNFSF11  | -0.041883856 |\n",
       "| ANGPTL2  |  0.136867375 |\n",
       "| SERPIND1 | -0.006672967 |\n",
       "| LGI2     |  0.020502491 |\n",
       "| FGF19    | -0.022298708 |\n",
       "| CBLN3    |  0.007024268 |\n",
       "| COL5A3   |  0.136411073 |\n",
       "| CST6     |  0.008939942 |\n",
       "\n"
      ],
      "text/plain": [
       "   geneID   coeff       \n",
       "1  TGM5      0.027480124\n",
       "2  PCOLCE2   0.009700858\n",
       "3  COL6A5    0.117991338\n",
       "4  TNFSF11  -0.041883856\n",
       "5  ANGPTL2   0.136867375\n",
       "6  SERPIND1 -0.006672967\n",
       "7  LGI2      0.020502491\n",
       "8  FGF19    -0.022298708\n",
       "9  CBLN3     0.007024268\n",
       "10 COL5A3    0.136411073\n",
       "11 CST6      0.008939942"
      ]
     },
     "metadata": {},
     "output_type": "display_data"
    }
   ],
   "source": [
    "cv_cph_model_coeffs <- as.matrix(coef(cv_cph_model, s = mask_lambda))\n",
    "important_gene_df <- tibble(geneID = colnames(x)[mask_lambda_genes], coeff = cv_cph_model_coeffs[mask_lambda_genes])\n",
    "important_gene_df"
   ]
  },
  {
   "cell_type": "code",
   "execution_count": 12,
   "id": "guided-reader",
   "metadata": {},
   "outputs": [],
   "source": [
    "if (save_res) {\n",
    "    write_tsv(important_gene_df, paste0(dirs$analysis_dir, \"/survival/\", unified_dsets[dset_idx], \"_en_cph_results.tsv\"))    \n",
    "}"
   ]
  }
 ],
 "metadata": {
  "kernelspec": {
   "display_name": "R",
   "language": "R",
   "name": "ir"
  },
  "language_info": {
   "codemirror_mode": "r",
   "file_extension": ".r",
   "mimetype": "text/x-r-source",
   "name": "R",
   "pygments_lexer": "r",
   "version": "4.0.3"
  }
 },
 "nbformat": 4,
 "nbformat_minor": 5
}
