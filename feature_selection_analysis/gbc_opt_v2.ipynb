{
 "cells": [
  {
   "cell_type": "code",
   "execution_count": 1,
   "metadata": {},
   "outputs": [],
   "source": [
    "import pandas as pd\n",
    "import numpy as np\n",
    "import os\n",
    "from sklearn.ensemble import GradientBoostingClassifier\n",
    "from sklearn.pipeline import make_pipeline, Pipeline\n",
    "from sklearn.preprocessing import StandardScaler\n",
    "from sklearn.model_selection import cross_val_score, KFold\n",
    "from sklearn.compose import ColumnTransformer, TransformedTargetRegressor\n",
    "from sklearn.metrics import f1_score\n",
    "from skopt.space import Real, Integer, Categorical\n",
    "from skopt import gp_minimize\n",
    "\n",
    "import utils.dev_config as dev_conf\n",
    "import utils.preprocessing as prep\n",
    "import utils.optimization as opt"
   ]
  },
  {
   "cell_type": "code",
   "execution_count": 2,
   "metadata": {},
   "outputs": [],
   "source": [
    "dirs = dev_conf.get_dev_directories(\"../dev_paths.txt\")\n",
    "unified_dsets = [\"unified_cervical_data\", \"unified_uterine_data\", \"unified_uterine_endometrial_data\"]\n",
    "matrisome_list = f\"{dirs.data_dir}/matrisome/matrisome_hs_masterlist.tsv\""
   ]
  },
  {
   "cell_type": "code",
   "execution_count": 3,
   "metadata": {},
   "outputs": [],
   "source": [
    "dset_idx = 0"
   ]
  },
  {
   "cell_type": "code",
   "execution_count": 4,
   "metadata": {},
   "outputs": [],
   "source": [
    "matrisome_df = prep.load_matrisome_df(matrisome_list)"
   ]
  },
  {
   "cell_type": "code",
   "execution_count": 5,
   "metadata": {},
   "outputs": [],
   "source": [
    "seed = 123\n",
    "rand = np.random.RandomState()"
   ]
  },
  {
   "cell_type": "markdown",
   "metadata": {},
   "source": [
    "# Load and filter survival data"
   ]
  },
  {
   "cell_type": "code",
   "execution_count": 6,
   "metadata": {},
   "outputs": [],
   "source": [
    "event_code = {\"Alive\": 0, \"Dead\": 1}\n",
    "covariate_cols = [\"age_at_diagnosis\", \"race\", \"ethnicity\"]\n",
    "dep_cols = [\"figo_stage\"]\n",
    "cat_cols = [\"race\", \"ethnicity\"]\n",
    "survival_df = prep.load_survival_df(f\"{dirs.data_dir}/{unified_dsets[dset_idx]}/survival_data.tsv\", event_code)"
   ]
  },
  {
   "cell_type": "code",
   "execution_count": 7,
   "metadata": {},
   "outputs": [
    {
     "name": "stdout",
     "output_type": "stream",
     "text": [
      "(255, 12)\n"
     ]
    }
   ],
   "source": [
    "filtered_survival_df = (\n",
    "    prep.decode_figo_stage(survival_df[[\"sample_name\"] + dep_cols + covariate_cols].dropna(), to=\"n\")\n",
    "        .pipe(pd.get_dummies, columns=cat_cols)\n",
    "        .reset_index(drop = True)\n",
    "        .pipe(prep.cols_to_front, [\"sample_name\", \"figo_num\"])\n",
    ")\n",
    "filtered_survival_df.columns = filtered_survival_df.columns.str.replace(' ', '_')\n",
    "print(filtered_survival_df.shape)\n",
    "# filtered_survival_df.head()"
   ]
  },
  {
   "cell_type": "markdown",
   "metadata": {},
   "source": [
    "# Load normalized matrisome count data"
   ]
  },
  {
   "cell_type": "code",
   "execution_count": 8,
   "metadata": {},
   "outputs": [
    {
     "name": "stdout",
     "output_type": "stream",
     "text": [
      "(255, 1009)\n"
     ]
    }
   ],
   "source": [
    "norm_matrisome_counts_df = pd.read_csv(f\"{dirs.data_dir}/{unified_dsets[dset_idx]}/norm_matrisome_counts.tsv\", sep='\\t')\n",
    "norm_filtered_matrisome_counts_t_df = prep.transpose_df(\n",
    "    norm_matrisome_counts_df[[\"geneID\"] + list(filtered_survival_df.sample_name)], \"geneID\", \"sample_name\"\n",
    ")\n",
    "print(norm_filtered_matrisome_counts_t_df.shape)\n",
    "# norm_filtered_matrisome_counts_t_df.head()"
   ]
  },
  {
   "cell_type": "markdown",
   "metadata": {},
   "source": [
    "# Join survival and count data"
   ]
  },
  {
   "cell_type": "code",
   "execution_count": 9,
   "metadata": {},
   "outputs": [
    {
     "name": "stdout",
     "output_type": "stream",
     "text": [
      "(255, 1019)\n"
     ]
    }
   ],
   "source": [
    "joined_df = (\n",
    "    pd.merge(filtered_survival_df, norm_filtered_matrisome_counts_t_df, on=\"sample_name\")\n",
    "        .set_index(\"sample_name\")\n",
    ")\n",
    "print(joined_df.shape)\n",
    "# joined_df.head()"
   ]
  },
  {
   "cell_type": "markdown",
   "metadata": {},
   "source": [
    "# Optimize model"
   ]
  },
  {
   "cell_type": "code",
   "execution_count": 10,
   "metadata": {},
   "outputs": [],
   "source": [
    "rand.seed(seed)\n",
    "x_df, y_df = prep.shuffle_data(joined_df, rand)"
   ]
  },
  {
   "cell_type": "markdown",
   "metadata": {},
   "source": [
    "## Get baselines"
   ]
  },
  {
   "cell_type": "code",
   "execution_count": 11,
   "metadata": {},
   "outputs": [
    {
     "name": "stdout",
     "output_type": "stream",
     "text": [
      "Most frequent baseline: 0.3665158371040725\n",
      "Monte Carlo baseline: 0.3661348131221232\n"
     ]
    }
   ],
   "source": [
    "def est_mc_baseline(y, labels, weights, metric, n=11):\n",
    "    scores = []\n",
    "    for _ in range(n):\n",
    "        mc_yhat = np.random.choice(labels, size=y.shape[0], p = weights)\n",
    "        scores.append(metric(y, mc_yhat))\n",
    "    return np.array(scores)\n",
    "\n",
    "rand.seed(seed)\n",
    "\n",
    "label_value_counts_df = (\n",
    "    pd.DataFrame(y_df.figo_num.value_counts()).reset_index()\n",
    "        .rename(columns={\"index\": \"label\", \"figo_num\": \"n\"})\n",
    "        .sort_values(\"n\", ascending=False)\n",
    ")\n",
    "\n",
    "most_frequent_label = label_value_counts_df.label[0]\n",
    "most_frequent_baseline = f1_score(y_df.values.squeeze(), np.repeat(most_frequent_label, y_df.shape[0]), average=\"weighted\")\n",
    "\n",
    "mc_baseline = est_mc_baseline(\n",
    "    y=y_df.values.squeeze(),\n",
    "    labels=label_value_counts_df.label.values,\n",
    "    weights=label_value_counts_df.n.values / label_value_counts_df.n.values.sum(),\n",
    "    metric=lambda y, yhat: f1_score(y, yhat, average=\"weighted\"),\n",
    "    n=1001\n",
    ")\n",
    "\n",
    "print(f\"Most frequent baseline: {most_frequent_baseline}\")\n",
    "print(f\"Monte Carlo baseline: {mc_baseline.mean()}\")"
   ]
  },
  {
   "cell_type": "markdown",
   "metadata": {},
   "source": [
    "## SMBO"
   ]
  },
  {
   "cell_type": "code",
   "execution_count": 12,
   "metadata": {},
   "outputs": [],
   "source": [
    "def objective(h_params, X, y, loss_default, scoring_default, r, verbose=True):\n",
    "    if verbose:\n",
    "        print(h_params)\n",
    "    model = GradientBoostingClassifier(\n",
    "        loss=loss_default,\n",
    "        learning_rate=h_params[0],\n",
    "        n_estimators=h_params[1],\n",
    "        max_depth=h_params[2],\n",
    "        max_features=h_params[3],\n",
    "        min_samples_split=h_params[4],\n",
    "        min_samples_leaf=h_params[5],\n",
    "        random_state=r\n",
    "    )\n",
    "    return -np.mean(cross_val_score(\n",
    "        model,\n",
    "        X,\n",
    "        y,\n",
    "        cv=KFold(n_splits=5),\n",
    "        n_jobs=-1,\n",
    "        scoring=scoring_default\n",
    "    ))"
   ]
  },
  {
   "cell_type": "code",
   "execution_count": 13,
   "metadata": {},
   "outputs": [],
   "source": [
    "space = [\n",
    "    Real(1e-3, 1e-1, name=\"learning_rate\"),\n",
    "    Integer(int(1e2), int(1e3), name=\"n_estimators\"),\n",
    "    Integer(2, 5, name=\"max_depth\"),\n",
    "    Categorical([\"auto\", \"sqrt\", \"log2\"], name=\"max_features\"),\n",
    "    Integer(int(2), int(6), name=\"min_samples_split\"),\n",
    "    Integer(int(1), int(3), name=\"min_samples_leaf\")\n",
    "]\n",
    "n_initial = 10 * len(space)\n",
    "n_calls = 50 * len(space)"
   ]
  },
  {
   "cell_type": "code",
   "execution_count": 14,
   "metadata": {
    "collapsed": true,
    "jupyter": {
     "outputs_hidden": true
    }
   },
   "outputs": [
    {
     "name": "stdout",
     "output_type": "stream",
     "text": [
      "Iteration No: 1 started. Evaluating function at random point.\n",
      "[0.0715825767317995, 486, 4, 'log2', 4, 3]\n",
      "Iteration No: 1 ended. Evaluation done at random point.\n",
      "Time taken: 2.8113\n",
      "Function value obtained: -0.4209\n",
      "Current minimum: -0.4209\n",
      "Iteration No: 2 started. Evaluating function at random point.\n",
      "[0.04168151289819289, 622, 2, 'log2', 5, 2]\n",
      "Iteration No: 2 ended. Evaluation done at random point.\n",
      "Time taken: 2.3421\n",
      "Function value obtained: -0.4596\n",
      "Current minimum: -0.4596\n",
      "Iteration No: 3 started. Evaluating function at random point.\n",
      "[0.025231168418438074, 725, 4, 'log2', 4, 1]\n",
      "Iteration No: 3 ended. Evaluation done at random point.\n",
      "Time taken: 3.6834\n",
      "Function value obtained: -0.4102\n",
      "Current minimum: -0.4596\n",
      "Iteration No: 4 started. Evaluating function at random point.\n",
      "[0.0715206879574875, 485, 3, 'log2', 5, 2]\n",
      "Iteration No: 4 ended. Evaluation done at random point.\n",
      "Time taken: 2.2576\n",
      "Function value obtained: -0.4456\n",
      "Current minimum: -0.4596\n",
      "Iteration No: 5 started. Evaluating function at random point.\n",
      "[0.04230378485450844, 689, 3, 'auto', 6, 3]\n",
      "Iteration No: 5 ended. Evaluation done at random point.\n",
      "Time taken: 96.4862\n",
      "Function value obtained: -0.4450\n",
      "Current minimum: -0.4596\n",
      "Iteration No: 6 started. Evaluating function at random point.\n",
      "[0.07792343945008828, 125, 3, 'auto', 2, 3]\n",
      "Iteration No: 6 ended. Evaluation done at random point.\n",
      "Time taken: 17.9605\n",
      "Function value obtained: -0.4276\n",
      "Current minimum: -0.4596\n",
      "Iteration No: 7 started. Evaluating function at random point.\n",
      "[0.07528749177191801, 724, 4, 'log2', 4, 2]\n",
      "Iteration No: 7 ended. Evaluation done at random point.\n",
      "Time taken: 3.4246\n",
      "Function value obtained: -0.4251\n",
      "Current minimum: -0.4596\n",
      "Iteration No: 8 started. Evaluating function at random point.\n",
      "[0.05023356984606233, 715, 5, 'auto', 4, 1]\n",
      "Iteration No: 8 ended. Evaluation done at random point.\n",
      "Time taken: 158.6936\n",
      "Function value obtained: -0.4461\n",
      "Current minimum: -0.4596\n",
      "Iteration No: 9 started. Evaluating function at random point.\n",
      "[0.04424920561668694, 776, 3, 'sqrt', 3, 2]\n",
      "Iteration No: 9 ended. Evaluation done at random point.\n",
      "Time taken: 5.4534\n",
      "Function value obtained: -0.4540\n",
      "Current minimum: -0.4596\n",
      "Iteration No: 10 started. Evaluating function at random point.\n",
      "[0.0019659776174124864, 407, 4, 'sqrt', 3, 2]\n",
      "Iteration No: 10 ended. Evaluation done at random point.\n",
      "Time taken: 3.6942\n",
      "Function value obtained: -0.3691\n",
      "Current minimum: -0.4596\n",
      "Iteration No: 11 started. Evaluating function at random point.\n",
      "[0.027559849463460736, 853, 3, 'log2', 3, 2]\n",
      "Iteration No: 11 ended. Evaluation done at random point.\n",
      "Time taken: 3.1071\n",
      "Function value obtained: -0.4437\n",
      "Current minimum: -0.4596\n",
      "Iteration No: 12 started. Evaluating function at random point.\n",
      "[0.08921980048807691, 262, 3, 'auto', 4, 1]\n",
      "Iteration No: 12 ended. Evaluation done at random point.\n",
      "Time taken: 37.6338\n",
      "Function value obtained: -0.4505\n",
      "Current minimum: -0.4596\n",
      "Iteration No: 13 started. Evaluating function at random point.\n",
      "[0.09198662329180704, 995, 3, 'log2', 4, 2]\n",
      "Iteration No: 13 ended. Evaluation done at random point.\n",
      "Time taken: 3.7526\n",
      "Function value obtained: -0.4559\n",
      "Current minimum: -0.4596\n",
      "Iteration No: 14 started. Evaluating function at random point.\n",
      "[0.07661983275307287, 198, 4, 'sqrt', 3, 2]\n",
      "Iteration No: 14 ended. Evaluation done at random point.\n",
      "Time taken: 1.8916\n",
      "Function value obtained: -0.4063\n",
      "Current minimum: -0.4596\n",
      "Iteration No: 15 started. Evaluating function at random point.\n",
      "[0.0856423087665836, 740, 3, 'auto', 4, 2]\n",
      "Iteration No: 15 ended. Evaluation done at random point.\n",
      "Time taken: 103.6222\n",
      "Function value obtained: -0.4558\n",
      "Current minimum: -0.4596\n",
      "Iteration No: 16 started. Evaluating function at random point.\n",
      "[0.056115187403116315, 104, 4, 'auto', 2, 3]\n",
      "Iteration No: 16 ended. Evaluation done at random point.\n",
      "Time taken: 18.6245\n",
      "Function value obtained: -0.4342\n",
      "Current minimum: -0.4596\n",
      "Iteration No: 17 started. Evaluating function at random point.\n",
      "[0.02996617275840605, 786, 3, 'sqrt', 2, 2]\n",
      "Iteration No: 17 ended. Evaluation done at random point.\n",
      "Time taken: 5.4957\n",
      "Function value obtained: -0.4616\n",
      "Current minimum: -0.4616\n",
      "Iteration No: 18 started. Evaluating function at random point.\n",
      "[0.024784502885927262, 896, 3, 'auto', 3, 3]\n",
      "Iteration No: 18 ended. Evaluation done at random point.\n",
      "Time taken: 126.8904\n",
      "Function value obtained: -0.4628\n",
      "Current minimum: -0.4628\n",
      "Iteration No: 19 started. Evaluating function at random point.\n",
      "[0.05638925017490197, 710, 4, 'sqrt', 4, 1]\n",
      "Iteration No: 19 ended. Evaluation done at random point.\n",
      "Time taken: 6.4368\n",
      "Function value obtained: -0.4441\n",
      "Current minimum: -0.4628\n",
      "Iteration No: 20 started. Evaluating function at random point.\n",
      "[0.04836744146559119, 569, 4, 'log2', 6, 2]\n",
      "Iteration No: 20 ended. Evaluation done at random point.\n",
      "Time taken: 2.5443\n",
      "Function value obtained: -0.4255\n",
      "Current minimum: -0.4628\n",
      "Iteration No: 21 started. Evaluating function at random point.\n",
      "[0.03557489710715376, 587, 3, 'log2', 3, 2]\n",
      "Iteration No: 21 ended. Evaluation done at random point.\n",
      "Time taken: 2.1702\n",
      "Function value obtained: -0.4389\n",
      "Current minimum: -0.4628\n",
      "Iteration No: 22 started. Evaluating function at random point.\n",
      "[0.0718039366295304, 566, 3, 'log2', 5, 1]\n",
      "Iteration No: 22 ended. Evaluation done at random point.\n",
      "Time taken: 2.2338\n",
      "Function value obtained: -0.4580\n",
      "Current minimum: -0.4628\n",
      "Iteration No: 23 started. Evaluating function at random point.\n",
      "[0.09876035390586096, 414, 4, 'auto', 2, 3]\n",
      "Iteration No: 23 ended. Evaluation done at random point.\n",
      "Time taken: 74.8163\n",
      "Function value obtained: -0.4164\n",
      "Current minimum: -0.4628\n",
      "Iteration No: 24 started. Evaluating function at random point.\n",
      "[0.09122049535236207, 279, 2, 'sqrt', 3, 1]\n",
      "Iteration No: 24 ended. Evaluation done at random point.\n",
      "Time taken: 1.4111\n",
      "Function value obtained: -0.4876\n",
      "Current minimum: -0.4876\n",
      "Iteration No: 25 started. Evaluating function at random point.\n",
      "[0.0076885226488044335, 526, 4, 'log2', 3, 2]\n",
      "Iteration No: 25 ended. Evaluation done at random point.\n",
      "Time taken: 2.3772\n",
      "Function value obtained: -0.3838\n",
      "Current minimum: -0.4876\n",
      "Iteration No: 26 started. Evaluating function at random point.\n",
      "[0.080931059280923, 830, 4, 'sqrt', 4, 1]\n",
      "Iteration No: 26 ended. Evaluation done at random point.\n",
      "Time taken: 7.1161\n",
      "Function value obtained: -0.4441\n",
      "Current minimum: -0.4876\n",
      "Iteration No: 27 started. Evaluating function at random point.\n",
      "[0.04932927448971438, 552, 3, 'auto', 2, 2]\n",
      "Iteration No: 27 ended. Evaluation done at random point.\n",
      "Time taken: 77.8464\n",
      "Function value obtained: -0.4435\n",
      "Current minimum: -0.4876\n",
      "Iteration No: 28 started. Evaluating function at random point.\n",
      "[0.027325209516327918, 893, 4, 'log2', 3, 1]\n",
      "Iteration No: 28 ended. Evaluation done at random point.\n",
      "Time taken: 4.2477\n",
      "Function value obtained: -0.4117\n",
      "Current minimum: -0.4876\n",
      "Iteration No: 29 started. Evaluating function at random point.\n",
      "[0.016546487613263123, 405, 3, 'log2', 3, 2]\n",
      "Iteration No: 29 ended. Evaluation done at random point.\n",
      "Time taken: 1.6924\n",
      "Function value obtained: -0.4229\n",
      "Current minimum: -0.4876\n",
      "Iteration No: 30 started. Evaluating function at random point.\n",
      "[0.0925226894150264, 172, 3, 'log2', 2, 3]\n",
      "Iteration No: 30 ended. Evaluation done at random point.\n",
      "Time taken: 0.8783\n",
      "Function value obtained: -0.4386\n",
      "Current minimum: -0.4876\n",
      "Iteration No: 31 started. Evaluating function at random point.\n",
      "[0.04387746214942718, 545, 3, 'log2', 6, 3]\n",
      "Iteration No: 31 ended. Evaluation done at random point.\n",
      "Time taken: 2.0692\n",
      "Function value obtained: -0.4418\n",
      "Current minimum: -0.4876\n",
      "Iteration No: 32 started. Evaluating function at random point.\n",
      "[0.06589706602400304, 516, 4, 'log2', 3, 2]\n",
      "Iteration No: 32 ended. Evaluation done at random point.\n",
      "Time taken: 2.6876\n",
      "Function value obtained: -0.4152\n",
      "Current minimum: -0.4876\n",
      "Iteration No: 33 started. Evaluating function at random point.\n",
      "[0.06938308461882182, 850, 4, 'log2', 5, 2]\n",
      "Iteration No: 33 ended. Evaluation done at random point.\n",
      "Time taken: 4.5577\n",
      "Function value obtained: -0.4253\n",
      "Current minimum: -0.4876\n",
      "Iteration No: 34 started. Evaluating function at random point.\n",
      "[0.07050833245406808, 969, 2, 'auto', 4, 3]\n",
      "Iteration No: 34 ended. Evaluation done at random point.\n",
      "Time taken: 99.3262\n",
      "Function value obtained: -0.4599\n",
      "Current minimum: -0.4876\n",
      "Iteration No: 35 started. Evaluating function at random point.\n",
      "[0.05162042175832121, 928, 3, 'log2', 6, 2]\n",
      "Iteration No: 35 ended. Evaluation done at random point.\n",
      "Time taken: 3.7149\n",
      "Function value obtained: -0.4385\n",
      "Current minimum: -0.4876\n",
      "Iteration No: 36 started. Evaluating function at random point.\n",
      "[0.019767150315291755, 375, 3, 'log2', 2, 3]\n",
      "Iteration No: 36 ended. Evaluation done at random point.\n",
      "Time taken: 1.4973\n",
      "Function value obtained: -0.4248\n",
      "Current minimum: -0.4876\n",
      "Iteration No: 37 started. Evaluating function at random point.\n",
      "[0.06069206860520372, 690, 4, 'log2', 2, 2]\n",
      "Iteration No: 37 ended. Evaluation done at random point.\n",
      "Time taken: 3.4262\n",
      "Function value obtained: -0.4242\n",
      "Current minimum: -0.4876\n",
      "Iteration No: 38 started. Evaluating function at random point.\n",
      "[0.018061920134472855, 716, 4, 'log2', 3, 2]\n",
      "Iteration No: 38 ended. Evaluation done at random point.\n",
      "Time taken: 3.6843\n",
      "Function value obtained: -0.4224\n",
      "Current minimum: -0.4876\n",
      "Iteration No: 39 started. Evaluating function at random point.\n",
      "[0.08219406181340379, 219, 2, 'log2', 2, 2]\n",
      "Iteration No: 39 ended. Evaluation done at random point.\n",
      "Time taken: 0.8707\n",
      "Function value obtained: -0.4534\n",
      "Current minimum: -0.4876\n",
      "Iteration No: 40 started. Evaluating function at random point.\n",
      "[0.0415296508467128, 435, 3, 'sqrt', 4, 2]\n",
      "Iteration No: 40 ended. Evaluation done at random point.\n",
      "Time taken: 3.2117\n",
      "Function value obtained: -0.4598\n",
      "Current minimum: -0.4876\n",
      "Iteration No: 41 started. Evaluating function at random point.\n",
      "[0.01260347694908108, 806, 3, 'auto', 3, 2]\n",
      "Iteration No: 41 ended. Evaluation done at random point.\n",
      "Time taken: 118.3434\n",
      "Function value obtained: -0.4291\n",
      "Current minimum: -0.4876\n",
      "Iteration No: 42 started. Evaluating function at random point.\n",
      "[0.048454082897612695, 382, 2, 'log2', 3, 2]\n",
      "Iteration No: 42 ended. Evaluation done at random point.\n",
      "Time taken: 1.2209\n",
      "Function value obtained: -0.4511\n",
      "Current minimum: -0.4876\n",
      "Iteration No: 43 started. Evaluating function at random point.\n",
      "[0.03120625100017681, 908, 4, 'log2', 5, 3]\n",
      "Iteration No: 43 ended. Evaluation done at random point.\n",
      "Time taken: 4.0628\n",
      "Function value obtained: -0.4270\n",
      "Current minimum: -0.4876\n",
      "Iteration No: 44 started. Evaluating function at random point.\n",
      "[0.09140989430564403, 146, 3, 'log2', 3, 2]\n",
      "Iteration No: 44 ended. Evaluation done at random point.\n",
      "Time taken: 0.6128\n",
      "Function value obtained: -0.4358\n",
      "Current minimum: -0.4876\n",
      "Iteration No: 45 started. Evaluating function at random point.\n",
      "[0.032934207016134115, 986, 4, 'log2', 4, 2]\n",
      "Iteration No: 45 ended. Evaluation done at random point.\n",
      "Time taken: 4.8148\n",
      "Function value obtained: -0.4176\n",
      "Current minimum: -0.4876\n",
      "Iteration No: 46 started. Evaluating function at random point.\n",
      "[0.04071740657735914, 789, 5, 'auto', 4, 2]\n",
      "Iteration No: 46 ended. Evaluation done at random point.\n",
      "Time taken: 179.4592\n",
      "Function value obtained: -0.4355\n",
      "Current minimum: -0.4876\n",
      "Iteration No: 47 started. Evaluating function at random point.\n",
      "[0.044174626626238944, 367, 3, 'sqrt', 5, 3]\n",
      "Iteration No: 47 ended. Evaluation done at random point.\n",
      "Time taken: 2.6898\n",
      "Function value obtained: -0.4456\n",
      "Current minimum: -0.4876\n",
      "Iteration No: 48 started. Evaluating function at random point.\n",
      "[0.04822302251263771, 891, 4, 'log2', 5, 3]\n",
      "Iteration No: 48 ended. Evaluation done at random point.\n",
      "Time taken: 4.1764\n",
      "Function value obtained: -0.4307\n",
      "Current minimum: -0.4876\n",
      "Iteration No: 49 started. Evaluating function at random point.\n",
      "[0.0359462446711396, 977, 4, 'log2', 4, 1]\n",
      "Iteration No: 49 ended. Evaluation done at random point.\n",
      "Time taken: 4.9112\n",
      "Function value obtained: -0.4179\n",
      "Current minimum: -0.4876\n",
      "Iteration No: 50 started. Evaluating function at random point.\n",
      "[0.09980003751861212, 674, 2, 'auto', 5, 2]\n",
      "Iteration No: 50 ended. Evaluation done at random point.\n",
      "Time taken: 67.8941\n",
      "Function value obtained: -0.4708\n",
      "Current minimum: -0.4876\n",
      "Iteration No: 51 started. Evaluating function at random point.\n",
      "[0.05440564614830355, 172, 4, 'log2', 3, 2]\n",
      "Iteration No: 51 ended. Evaluation done at random point.\n",
      "Time taken: 1.0324\n",
      "Function value obtained: -0.4312\n",
      "Current minimum: -0.4876\n",
      "Iteration No: 52 started. Evaluating function at random point.\n",
      "[0.036135397161960854, 744, 4, 'sqrt', 3, 1]\n",
      "Iteration No: 52 ended. Evaluation done at random point.\n",
      "Time taken: 6.8732\n",
      "Function value obtained: -0.4343\n",
      "Current minimum: -0.4876\n",
      "Iteration No: 53 started. Evaluating function at random point.\n",
      "[0.008674317095011904, 903, 2, 'log2', 2, 3]\n",
      "Iteration No: 53 ended. Evaluation done at random point.\n",
      "Time taken: 2.5589\n",
      "Function value obtained: -0.4297\n",
      "Current minimum: -0.4876\n",
      "Iteration No: 54 started. Evaluating function at random point.\n",
      "[0.03460034966882752, 668, 3, 'sqrt', 5, 1]\n",
      "Iteration No: 54 ended. Evaluation done at random point.\n",
      "Time taken: 4.4676\n",
      "Function value obtained: -0.4511\n",
      "Current minimum: -0.4876\n",
      "Iteration No: 55 started. Evaluating function at random point.\n",
      "[0.0709634195139342, 892, 4, 'sqrt', 4, 1]\n",
      "Iteration No: 55 ended. Evaluation done at random point.\n",
      "Time taken: 7.5359\n",
      "Function value obtained: -0.4471\n",
      "Current minimum: -0.4876\n",
      "Iteration No: 56 started. Evaluating function at random point.\n",
      "[0.05183544564633351, 570, 4, 'sqrt', 3, 3]\n",
      "Iteration No: 56 ended. Evaluation done at random point.\n",
      "Time taken: 4.8562\n",
      "Function value obtained: -0.4363\n",
      "Current minimum: -0.4876\n",
      "Iteration No: 57 started. Evaluating function at random point.\n",
      "[0.04064079895410621, 451, 3, 'auto', 4, 2]\n",
      "Iteration No: 57 ended. Evaluation done at random point.\n",
      "Time taken: 74.5401\n",
      "Function value obtained: -0.4461\n",
      "Current minimum: -0.4876\n",
      "Iteration No: 58 started. Evaluating function at random point.\n",
      "[0.030471686317243937, 903, 3, 'log2', 4, 2]\n",
      "Iteration No: 58 ended. Evaluation done at random point.\n",
      "Time taken: 4.8000\n",
      "Function value obtained: -0.4477\n",
      "Current minimum: -0.4876\n",
      "Iteration No: 59 started. Evaluating function at random point.\n",
      "[0.07735948497361005, 764, 3, 'log2', 5, 2]\n",
      "Iteration No: 59 ended. Evaluation done at random point.\n",
      "Time taken: 3.9803\n",
      "Function value obtained: -0.4648\n",
      "Current minimum: -0.4876\n",
      "Iteration No: 60 started. Evaluating function at random point.\n",
      "[0.051548647186192, 770, 3, 'log2', 4, 1]\n",
      "Iteration No: 60 ended. Evaluation done at random point.\n",
      "Time taken: 5.8423\n",
      "Function value obtained: -0.4620\n",
      "Current minimum: -0.4876\n",
      "Iteration No: 61 started. Searching for the next optimal point.\n",
      "[0.08307734053731891, 958, 2, 'sqrt', 2, 1]\n",
      "Iteration No: 61 ended. Search finished for the next optimal point.\n",
      "Time taken: 8.7379\n",
      "Function value obtained: -0.4817\n",
      "Current minimum: -0.4876\n",
      "Iteration No: 62 started. Searching for the next optimal point.\n",
      "[0.1, 582, 2, 'sqrt', 6, 1]\n",
      "Iteration No: 62 ended. Search finished for the next optimal point.\n",
      "Time taken: 5.5464\n",
      "Function value obtained: -0.4651\n",
      "Current minimum: -0.4876\n",
      "Iteration No: 63 started. Searching for the next optimal point.\n",
      "[0.06555696422159493, 1000, 2, 'sqrt', 2, 1]\n",
      "Iteration No: 63 ended. Search finished for the next optimal point.\n",
      "Time taken: 8.9242\n",
      "Function value obtained: -0.4930\n",
      "Current minimum: -0.4930\n",
      "Iteration No: 64 started. Searching for the next optimal point.\n",
      "[0.07237746502473369, 1000, 2, 'auto', 6, 1]\n",
      "Iteration No: 64 ended. Search finished for the next optimal point.\n",
      "Time taken: 125.0427\n",
      "Function value obtained: -0.4755\n",
      "Current minimum: -0.4930\n",
      "Iteration No: 65 started. Searching for the next optimal point.\n",
      "[0.052336451854247255, 1000, 2, 'sqrt', 2, 1]\n",
      "Iteration No: 65 ended. Search finished for the next optimal point.\n",
      "Time taken: 8.0708\n",
      "Function value obtained: -0.5021\n",
      "Current minimum: -0.5021\n",
      "Iteration No: 66 started. Searching for the next optimal point.\n",
      "[0.04126298046971108, 1000, 2, 'sqrt', 2, 1]\n",
      "Iteration No: 66 ended. Search finished for the next optimal point.\n",
      "Time taken: 7.7386\n",
      "Function value obtained: -0.4889\n",
      "Current minimum: -0.5021\n",
      "Iteration No: 67 started. Searching for the next optimal point.\n",
      "[0.05888678947249753, 699, 2, 'sqrt', 2, 1]\n",
      "Iteration No: 67 ended. Search finished for the next optimal point.\n",
      "Time taken: 6.6433\n",
      "Function value obtained: -0.4760\n",
      "Current minimum: -0.5021\n",
      "Iteration No: 68 started. Searching for the next optimal point.\n",
      "[0.09623336473456463, 998, 2, 'sqrt', 5, 3]\n",
      "Iteration No: 68 ended. Search finished for the next optimal point.\n",
      "Time taken: 8.5454\n",
      "Function value obtained: -0.4906\n",
      "Current minimum: -0.5021\n",
      "Iteration No: 69 started. Searching for the next optimal point.\n",
      "[0.052943840292012136, 1000, 2, 'sqrt', 2, 1]\n",
      "Iteration No: 69 ended. Search finished for the next optimal point.\n",
      "Time taken: 8.0526\n",
      "Function value obtained: -0.4557\n",
      "Current minimum: -0.5021\n",
      "Iteration No: 70 started. Searching for the next optimal point.\n",
      "[0.1, 1000, 2, 'sqrt', 3, 1]\n",
      "Iteration No: 70 ended. Search finished for the next optimal point.\n",
      "Time taken: 8.0646\n",
      "Function value obtained: -0.4662\n",
      "Current minimum: -0.5021\n",
      "Iteration No: 71 started. Searching for the next optimal point.\n",
      "[0.07755669001044073, 1000, 2, 'sqrt', 6, 1]\n",
      "Iteration No: 71 ended. Search finished for the next optimal point.\n",
      "Time taken: 8.4717\n",
      "Function value obtained: -0.4645\n",
      "Current minimum: -0.5021\n",
      "Iteration No: 72 started. Searching for the next optimal point.\n",
      "[0.1, 1000, 2, 'sqrt', 2, 3]\n",
      "Iteration No: 72 ended. Search finished for the next optimal point.\n",
      "Time taken: 8.3422\n",
      "Function value obtained: -0.4828\n",
      "Current minimum: -0.5021\n",
      "Iteration No: 73 started. Searching for the next optimal point.\n",
      "[0.1, 1000, 2, 'auto', 2, 3]\n",
      "Iteration No: 73 ended. Search finished for the next optimal point.\n",
      "Time taken: 126.3095\n",
      "Function value obtained: -0.4806\n",
      "Current minimum: -0.5021\n",
      "Iteration No: 74 started. Searching for the next optimal point.\n",
      "[0.1, 1000, 2, 'sqrt', 6, 3]\n",
      "Iteration No: 74 ended. Search finished for the next optimal point.\n",
      "Time taken: 8.1453\n",
      "Function value obtained: -0.5038\n",
      "Current minimum: -0.5038\n",
      "Iteration No: 75 started. Searching for the next optimal point.\n",
      "[0.1, 1000, 2, 'sqrt', 6, 3]\n"
     ]
    },
    {
     "name": "stderr",
     "output_type": "stream",
     "text": [
      "/home/carcook/anaconda3/envs/TCGA-round1/lib/python3.8/site-packages/skopt/optimizer/optimizer.py:449: UserWarning: The objective has been evaluated at this point before.\n",
      "  warnings.warn(\"The objective has been evaluated \"\n"
     ]
    },
    {
     "name": "stdout",
     "output_type": "stream",
     "text": [
      "Iteration No: 75 ended. Search finished for the next optimal point.\n",
      "Time taken: 7.7019\n",
      "Function value obtained: -0.4997\n",
      "Current minimum: -0.5038\n",
      "Iteration No: 76 started. Searching for the next optimal point.\n",
      "[0.09942636523085548, 179, 2, 'sqrt', 6, 3]\n",
      "Iteration No: 76 ended. Search finished for the next optimal point.\n",
      "Time taken: 2.4855\n",
      "Function value obtained: -0.4564\n",
      "Current minimum: -0.5038\n",
      "Iteration No: 77 started. Searching for the next optimal point.\n",
      "[0.09998111739187887, 860, 5, 'log2', 4, 1]\n",
      "Iteration No: 77 ended. Search finished for the next optimal point.\n",
      "Time taken: 7.7115\n",
      "Function value obtained: -0.4335\n",
      "Current minimum: -0.5038\n",
      "Iteration No: 78 started. Searching for the next optimal point.\n",
      "[0.022296317741992946, 1000, 2, 'log2', 2, 1]\n",
      "Iteration No: 78 ended. Search finished for the next optimal point.\n",
      "Time taken: 5.5580\n",
      "Function value obtained: -0.4654\n",
      "Current minimum: -0.5038\n",
      "Iteration No: 79 started. Searching for the next optimal point.\n",
      "[0.1, 1000, 2, 'sqrt', 6, 3]\n"
     ]
    },
    {
     "name": "stderr",
     "output_type": "stream",
     "text": [
      "/home/carcook/anaconda3/envs/TCGA-round1/lib/python3.8/site-packages/skopt/optimizer/optimizer.py:449: UserWarning: The objective has been evaluated at this point before.\n",
      "  warnings.warn(\"The objective has been evaluated \"\n"
     ]
    },
    {
     "name": "stdout",
     "output_type": "stream",
     "text": [
      "Iteration No: 79 ended. Search finished for the next optimal point.\n",
      "Time taken: 8.3301\n",
      "Function value obtained: -0.4788\n",
      "Current minimum: -0.5038\n",
      "Iteration No: 80 started. Searching for the next optimal point.\n",
      "[0.1, 1000, 2, 'sqrt', 6, 3]\n"
     ]
    },
    {
     "name": "stderr",
     "output_type": "stream",
     "text": [
      "/home/carcook/anaconda3/envs/TCGA-round1/lib/python3.8/site-packages/skopt/optimizer/optimizer.py:449: UserWarning: The objective has been evaluated at this point before.\n",
      "  warnings.warn(\"The objective has been evaluated \"\n"
     ]
    },
    {
     "name": "stdout",
     "output_type": "stream",
     "text": [
      "Iteration No: 80 ended. Search finished for the next optimal point.\n",
      "Time taken: 8.9013\n",
      "Function value obtained: -0.5005\n",
      "Current minimum: -0.5038\n",
      "Iteration No: 81 started. Searching for the next optimal point.\n",
      "[0.1, 1000, 2, 'sqrt', 6, 3]\n"
     ]
    },
    {
     "name": "stderr",
     "output_type": "stream",
     "text": [
      "/home/carcook/anaconda3/envs/TCGA-round1/lib/python3.8/site-packages/skopt/optimizer/optimizer.py:449: UserWarning: The objective has been evaluated at this point before.\n",
      "  warnings.warn(\"The objective has been evaluated \"\n"
     ]
    },
    {
     "name": "stdout",
     "output_type": "stream",
     "text": [
      "Iteration No: 81 ended. Search finished for the next optimal point.\n",
      "Time taken: 8.4975\n",
      "Function value obtained: -0.4892\n",
      "Current minimum: -0.5038\n",
      "Iteration No: 82 started. Searching for the next optimal point.\n",
      "[0.1, 1000, 2, 'sqrt', 6, 3]\n"
     ]
    },
    {
     "name": "stderr",
     "output_type": "stream",
     "text": [
      "/home/carcook/anaconda3/envs/TCGA-round1/lib/python3.8/site-packages/skopt/optimizer/optimizer.py:449: UserWarning: The objective has been evaluated at this point before.\n",
      "  warnings.warn(\"The objective has been evaluated \"\n"
     ]
    },
    {
     "name": "stdout",
     "output_type": "stream",
     "text": [
      "Iteration No: 82 ended. Search finished for the next optimal point.\n",
      "Time taken: 7.9176\n",
      "Function value obtained: -0.5032\n",
      "Current minimum: -0.5038\n",
      "Iteration No: 83 started. Searching for the next optimal point.\n",
      "[0.1, 1000, 2, 'auto', 6, 3]\n",
      "Iteration No: 83 ended. Search finished for the next optimal point.\n",
      "Time taken: 135.6129\n",
      "Function value obtained: -0.4855\n",
      "Current minimum: -0.5038\n",
      "Iteration No: 84 started. Searching for the next optimal point.\n",
      "[0.037113243297138616, 116, 2, 'auto', 2, 1]\n",
      "Iteration No: 84 ended. Search finished for the next optimal point.\n",
      "Time taken: 18.9955\n",
      "Function value obtained: -0.4425\n",
      "Current minimum: -0.5038\n",
      "Iteration No: 85 started. Searching for the next optimal point.\n",
      "[0.1, 1000, 2, 'sqrt', 6, 3]\n"
     ]
    },
    {
     "name": "stderr",
     "output_type": "stream",
     "text": [
      "/home/carcook/anaconda3/envs/TCGA-round1/lib/python3.8/site-packages/skopt/optimizer/optimizer.py:449: UserWarning: The objective has been evaluated at this point before.\n",
      "  warnings.warn(\"The objective has been evaluated \"\n"
     ]
    },
    {
     "name": "stdout",
     "output_type": "stream",
     "text": [
      "Iteration No: 85 ended. Search finished for the next optimal point.\n",
      "Time taken: 10.3939\n",
      "Function value obtained: -0.4925\n",
      "Current minimum: -0.5038\n",
      "Iteration No: 86 started. Searching for the next optimal point.\n",
      "[0.1, 1000, 2, 'sqrt', 6, 3]\n"
     ]
    },
    {
     "name": "stderr",
     "output_type": "stream",
     "text": [
      "/home/carcook/anaconda3/envs/TCGA-round1/lib/python3.8/site-packages/skopt/optimizer/optimizer.py:449: UserWarning: The objective has been evaluated at this point before.\n",
      "  warnings.warn(\"The objective has been evaluated \"\n"
     ]
    },
    {
     "name": "stdout",
     "output_type": "stream",
     "text": [
      "Iteration No: 86 ended. Search finished for the next optimal point.\n",
      "Time taken: 9.2221\n",
      "Function value obtained: -0.4874\n",
      "Current minimum: -0.5038\n",
      "Iteration No: 87 started. Searching for the next optimal point.\n",
      "[0.09279113987248806, 1000, 2, 'sqrt', 6, 3]\n",
      "Iteration No: 87 ended. Search finished for the next optimal point.\n",
      "Time taken: 9.0129\n",
      "Function value obtained: -0.4700\n",
      "Current minimum: -0.5038\n",
      "Iteration No: 88 started. Searching for the next optimal point.\n",
      "[0.1, 1000, 2, 'sqrt', 2, 3]\n"
     ]
    },
    {
     "name": "stderr",
     "output_type": "stream",
     "text": [
      "/home/carcook/anaconda3/envs/TCGA-round1/lib/python3.8/site-packages/skopt/optimizer/optimizer.py:449: UserWarning: The objective has been evaluated at this point before.\n",
      "  warnings.warn(\"The objective has been evaluated \"\n"
     ]
    },
    {
     "name": "stdout",
     "output_type": "stream",
     "text": [
      "Iteration No: 88 ended. Search finished for the next optimal point.\n",
      "Time taken: 8.8111\n",
      "Function value obtained: -0.4892\n",
      "Current minimum: -0.5038\n",
      "Iteration No: 89 started. Searching for the next optimal point.\n",
      "[0.04306161844254703, 986, 2, 'sqrt', 4, 3]\n",
      "Iteration No: 89 ended. Search finished for the next optimal point.\n",
      "Time taken: 8.5805\n",
      "Function value obtained: -0.4907\n",
      "Current minimum: -0.5038\n",
      "Iteration No: 90 started. Searching for the next optimal point.\n",
      "[0.1, 1000, 2, 'sqrt', 2, 3]\n"
     ]
    },
    {
     "name": "stderr",
     "output_type": "stream",
     "text": [
      "/home/carcook/anaconda3/envs/TCGA-round1/lib/python3.8/site-packages/skopt/optimizer/optimizer.py:449: UserWarning: The objective has been evaluated at this point before.\n",
      "  warnings.warn(\"The objective has been evaluated \"\n"
     ]
    },
    {
     "name": "stdout",
     "output_type": "stream",
     "text": [
      "Iteration No: 90 ended. Search finished for the next optimal point.\n",
      "Time taken: 9.0292\n",
      "Function value obtained: -0.4900\n",
      "Current minimum: -0.5038\n",
      "Iteration No: 91 started. Searching for the next optimal point.\n",
      "[0.03251119948802686, 928, 2, 'sqrt', 4, 3]\n",
      "Iteration No: 91 ended. Search finished for the next optimal point.\n",
      "Time taken: 9.3211\n",
      "Function value obtained: -0.4866\n",
      "Current minimum: -0.5038\n",
      "Iteration No: 92 started. Searching for the next optimal point.\n",
      "[0.03753244543861458, 1000, 2, 'sqrt', 2, 3]\n",
      "Iteration No: 92 ended. Search finished for the next optimal point.\n",
      "Time taken: 10.0750\n",
      "Function value obtained: -0.5043\n",
      "Current minimum: -0.5043\n",
      "Iteration No: 93 started. Searching for the next optimal point.\n",
      "[0.0367991619788695, 1000, 2, 'auto', 2, 3]\n",
      "Iteration No: 93 ended. Search finished for the next optimal point.\n",
      "Time taken: 136.9055\n",
      "Function value obtained: -0.4671\n",
      "Current minimum: -0.5043\n",
      "Iteration No: 94 started. Searching for the next optimal point.\n",
      "[0.03890550521046765, 1000, 2, 'sqrt', 2, 3]\n",
      "Iteration No: 94 ended. Search finished for the next optimal point.\n",
      "Time taken: 9.1618\n",
      "Function value obtained: -0.4941\n",
      "Current minimum: -0.5043\n",
      "Iteration No: 95 started. Searching for the next optimal point.\n",
      "[0.03828248730807859, 1000, 2, 'sqrt', 2, 3]\n",
      "Iteration No: 95 ended. Search finished for the next optimal point.\n",
      "Time taken: 10.6983\n",
      "Function value obtained: -0.4917\n",
      "Current minimum: -0.5043\n",
      "Iteration No: 96 started. Searching for the next optimal point.\n",
      "[0.06583582173196373, 987, 2, 'sqrt', 2, 3]\n",
      "Iteration No: 96 ended. Search finished for the next optimal point.\n",
      "Time taken: 9.6574\n",
      "Function value obtained: -0.4867\n",
      "Current minimum: -0.5043\n",
      "Iteration No: 97 started. Searching for the next optimal point.\n",
      "[0.045877036431986984, 1000, 2, 'sqrt', 2, 3]\n",
      "Iteration No: 97 ended. Search finished for the next optimal point.\n",
      "Time taken: 10.0522\n",
      "Function value obtained: -0.4873\n",
      "Current minimum: -0.5043\n",
      "Iteration No: 98 started. Searching for the next optimal point.\n",
      "[0.03971870312877248, 129, 5, 'sqrt', 4, 3]\n",
      "Iteration No: 98 ended. Search finished for the next optimal point.\n",
      "Time taken: 5.6682\n",
      "Function value obtained: -0.4267\n",
      "Current minimum: -0.5043\n",
      "Iteration No: 99 started. Searching for the next optimal point.\n",
      "[0.07505584229381002, 153, 2, 'sqrt', 4, 1]\n",
      "Iteration No: 99 ended. Search finished for the next optimal point.\n",
      "Time taken: 3.9746\n",
      "Function value obtained: -0.4630\n",
      "Current minimum: -0.5043\n",
      "Iteration No: 100 started. Searching for the next optimal point.\n",
      "[0.09789287413450139, 112, 2, 'auto', 5, 1]\n",
      "Iteration No: 100 ended. Search finished for the next optimal point.\n",
      "Time taken: 17.8449\n",
      "Function value obtained: -0.4563\n",
      "Current minimum: -0.5043\n",
      "Iteration No: 101 started. Searching for the next optimal point.\n",
      "[0.04176033693284654, 1000, 2, 'sqrt', 2, 3]\n",
      "Iteration No: 101 ended. Search finished for the next optimal point.\n",
      "Time taken: 11.3102\n",
      "Function value obtained: -0.4933\n",
      "Current minimum: -0.5043\n",
      "Iteration No: 102 started. Searching for the next optimal point.\n",
      "[0.04055806643504029, 1000, 2, 'sqrt', 2, 3]\n",
      "Iteration No: 102 ended. Search finished for the next optimal point.\n",
      "Time taken: 10.4119\n",
      "Function value obtained: -0.4913\n",
      "Current minimum: -0.5043\n",
      "Iteration No: 103 started. Searching for the next optimal point.\n",
      "[0.09995587972930997, 951, 3, 'sqrt', 6, 3]\n",
      "Iteration No: 103 ended. Search finished for the next optimal point.\n",
      "Time taken: 12.2770\n",
      "Function value obtained: -0.4685\n",
      "Current minimum: -0.5043\n",
      "Iteration No: 104 started. Searching for the next optimal point.\n",
      "[0.0018366924849266514, 101, 2, 'log2', 5, 1]\n",
      "Iteration No: 104 ended. Search finished for the next optimal point.\n",
      "Time taken: 3.3763\n",
      "Function value obtained: -0.3691\n",
      "Current minimum: -0.5043\n",
      "Iteration No: 105 started. Searching for the next optimal point.\n",
      "[0.03467425535184649, 1000, 2, 'sqrt', 2, 3]\n",
      "Iteration No: 105 ended. Search finished for the next optimal point.\n",
      "Time taken: 9.3628\n",
      "Function value obtained: -0.4798\n",
      "Current minimum: -0.5043\n",
      "Iteration No: 106 started. Searching for the next optimal point.\n",
      "[0.0809265285976109, 978, 2, 'sqrt', 2, 3]\n",
      "Iteration No: 106 ended. Search finished for the next optimal point.\n",
      "Time taken: 9.2814\n",
      "Function value obtained: -0.4945\n",
      "Current minimum: -0.5043\n",
      "Iteration No: 107 started. Searching for the next optimal point.\n",
      "[0.1, 1000, 2, 'sqrt', 2, 3]\n"
     ]
    },
    {
     "name": "stderr",
     "output_type": "stream",
     "text": [
      "/home/carcook/anaconda3/envs/TCGA-round1/lib/python3.8/site-packages/skopt/optimizer/optimizer.py:449: UserWarning: The objective has been evaluated at this point before.\n",
      "  warnings.warn(\"The objective has been evaluated \"\n"
     ]
    },
    {
     "name": "stdout",
     "output_type": "stream",
     "text": [
      "Iteration No: 107 ended. Search finished for the next optimal point.\n",
      "Time taken: 9.4522\n",
      "Function value obtained: -0.4964\n",
      "Current minimum: -0.5043\n",
      "Iteration No: 108 started. Searching for the next optimal point.\n",
      "[0.08547764968641701, 988, 5, 'sqrt', 3, 3]\n",
      "Iteration No: 108 ended. Search finished for the next optimal point.\n",
      "Time taken: 17.7251\n",
      "Function value obtained: -0.4308\n",
      "Current minimum: -0.5043\n",
      "Iteration No: 109 started. Searching for the next optimal point.\n",
      "[0.09974441435007517, 106, 5, 'auto', 3, 1]\n",
      "Iteration No: 109 ended. Search finished for the next optimal point.\n",
      "Time taken: 36.6662\n",
      "Function value obtained: -0.4500\n",
      "Current minimum: -0.5043\n",
      "Iteration No: 110 started. Searching for the next optimal point.\n",
      "[0.07349791154211306, 104, 5, 'auto', 6, 1]\n",
      "Iteration No: 110 ended. Search finished for the next optimal point.\n",
      "Time taken: 37.4621\n",
      "Function value obtained: -0.4531\n",
      "Current minimum: -0.5043\n",
      "Iteration No: 111 started. Searching for the next optimal point.\n",
      "[0.0041637005108989475, 987, 5, 'auto', 2, 3]\n",
      "Iteration No: 111 ended. Search finished for the next optimal point.\n",
      "Time taken: 303.3628\n",
      "Function value obtained: -0.4445\n",
      "Current minimum: -0.5043\n",
      "Iteration No: 112 started. Searching for the next optimal point.\n",
      "[0.05272134565743377, 1000, 2, 'sqrt', 2, 3]\n",
      "Iteration No: 112 ended. Search finished for the next optimal point.\n",
      "Time taken: 12.6682\n",
      "Function value obtained: -0.5017\n",
      "Current minimum: -0.5043\n",
      "Iteration No: 113 started. Searching for the next optimal point.\n",
      "[0.05509446006839032, 1000, 2, 'sqrt', 2, 3]\n",
      "Iteration No: 113 ended. Search finished for the next optimal point.\n",
      "Time taken: 10.4519\n",
      "Function value obtained: -0.4898\n",
      "Current minimum: -0.5043\n",
      "Iteration No: 114 started. Searching for the next optimal point.\n",
      "[0.09735711665008824, 970, 2, 'auto', 3, 1]\n",
      "Iteration No: 114 ended. Search finished for the next optimal point.\n",
      "Time taken: 139.8983\n",
      "Function value obtained: -0.4724\n",
      "Current minimum: -0.5043\n",
      "Iteration No: 115 started. Searching for the next optimal point.\n",
      "[0.0528664672347334, 1000, 2, 'sqrt', 2, 3]\n",
      "Iteration No: 115 ended. Search finished for the next optimal point.\n",
      "Time taken: 9.5309\n",
      "Function value obtained: -0.5021\n",
      "Current minimum: -0.5043\n",
      "Iteration No: 116 started. Searching for the next optimal point.\n",
      "[0.0036673582231822794, 104, 5, 'auto', 5, 3]\n",
      "Iteration No: 116 ended. Search finished for the next optimal point.\n",
      "Time taken: 34.2026\n",
      "Function value obtained: -0.4138\n",
      "Current minimum: -0.5043\n",
      "Iteration No: 117 started. Searching for the next optimal point.\n",
      "[0.054411076936662126, 1000, 2, 'sqrt', 2, 3]\n",
      "Iteration No: 117 ended. Search finished for the next optimal point.\n",
      "Time taken: 12.5692\n",
      "Function value obtained: -0.4971\n",
      "Current minimum: -0.5043\n",
      "Iteration No: 118 started. Searching for the next optimal point.\n",
      "[0.05447332599724589, 1000, 2, 'sqrt', 6, 3]\n",
      "Iteration No: 118 ended. Search finished for the next optimal point.\n",
      "Time taken: 11.4665\n",
      "Function value obtained: -0.4861\n",
      "Current minimum: -0.5043\n",
      "Iteration No: 119 started. Searching for the next optimal point.\n",
      "[0.05135795101291539, 1000, 2, 'sqrt', 2, 3]\n",
      "Iteration No: 119 ended. Search finished for the next optimal point.\n",
      "Time taken: 10.1556\n",
      "Function value obtained: -0.4973\n",
      "Current minimum: -0.5043\n",
      "Iteration No: 120 started. Searching for the next optimal point.\n",
      "[0.04635125287504448, 932, 2, 'auto', 3, 1]\n",
      "Iteration No: 120 ended. Search finished for the next optimal point.\n",
      "Time taken: 132.8882\n",
      "Function value obtained: -0.4627\n",
      "Current minimum: -0.5043\n",
      "Iteration No: 121 started. Searching for the next optimal point.\n",
      "[0.051354964504188964, 1000, 2, 'sqrt', 2, 3]\n",
      "Iteration No: 121 ended. Search finished for the next optimal point.\n",
      "Time taken: 10.6259\n",
      "Function value obtained: -0.4764\n",
      "Current minimum: -0.5043\n",
      "Iteration No: 122 started. Searching for the next optimal point.\n",
      "[0.07774897413884309, 1000, 2, 'sqrt', 2, 3]\n",
      "Iteration No: 122 ended. Search finished for the next optimal point.\n",
      "Time taken: 10.3606\n",
      "Function value obtained: -0.4932\n",
      "Current minimum: -0.5043\n",
      "Iteration No: 123 started. Searching for the next optimal point.\n",
      "[0.07817479618374232, 1000, 2, 'sqrt', 2, 3]\n",
      "Iteration No: 123 ended. Search finished for the next optimal point.\n",
      "Time taken: 9.9379\n",
      "Function value obtained: -0.4810\n",
      "Current minimum: -0.5043\n",
      "Iteration No: 124 started. Searching for the next optimal point.\n",
      "[0.04686676750616895, 1000, 2, 'sqrt', 2, 3]\n",
      "Iteration No: 124 ended. Search finished for the next optimal point.\n",
      "Time taken: 9.8919\n",
      "Function value obtained: -0.4928\n",
      "Current minimum: -0.5043\n",
      "Iteration No: 125 started. Searching for the next optimal point.\n",
      "[0.05531538002340907, 150, 2, 'sqrt', 5, 3]\n",
      "Iteration No: 125 ended. Search finished for the next optimal point.\n",
      "Time taken: 3.0252\n",
      "Function value obtained: -0.4453\n",
      "Current minimum: -0.5043\n",
      "Iteration No: 126 started. Searching for the next optimal point.\n",
      "[0.04677505587181864, 1000, 2, 'sqrt', 2, 3]\n",
      "Iteration No: 126 ended. Search finished for the next optimal point.\n",
      "Time taken: 10.2043\n",
      "Function value obtained: -0.4936\n",
      "Current minimum: -0.5043\n",
      "Iteration No: 127 started. Searching for the next optimal point.\n",
      "[0.046683967137088604, 1000, 2, 'sqrt', 2, 3]\n",
      "Iteration No: 127 ended. Search finished for the next optimal point.\n",
      "Time taken: 9.9691\n",
      "Function value obtained: -0.5020\n",
      "Current minimum: -0.5043\n",
      "Iteration No: 128 started. Searching for the next optimal point.\n",
      "[0.0468490607205316, 1000, 2, 'sqrt', 2, 3]\n",
      "Iteration No: 128 ended. Search finished for the next optimal point.\n",
      "Time taken: 10.4162\n",
      "Function value obtained: -0.4874\n",
      "Current minimum: -0.5043\n",
      "Iteration No: 129 started. Searching for the next optimal point.\n",
      "[0.046589731570926454, 1000, 2, 'sqrt', 2, 3]\n",
      "Iteration No: 129 ended. Search finished for the next optimal point.\n",
      "Time taken: 10.6032\n",
      "Function value obtained: -0.4897\n",
      "Current minimum: -0.5043\n",
      "Iteration No: 130 started. Searching for the next optimal point.\n",
      "[0.1, 1000, 2, 'sqrt', 2, 3]\n"
     ]
    },
    {
     "name": "stderr",
     "output_type": "stream",
     "text": [
      "/home/carcook/anaconda3/envs/TCGA-round1/lib/python3.8/site-packages/skopt/optimizer/optimizer.py:449: UserWarning: The objective has been evaluated at this point before.\n",
      "  warnings.warn(\"The objective has been evaluated \"\n"
     ]
    },
    {
     "name": "stdout",
     "output_type": "stream",
     "text": [
      "Iteration No: 130 ended. Search finished for the next optimal point.\n",
      "Time taken: 9.9338\n",
      "Function value obtained: -0.5008\n",
      "Current minimum: -0.5043\n",
      "Iteration No: 131 started. Searching for the next optimal point.\n",
      "[0.1, 1000, 2, 'sqrt', 2, 3]\n"
     ]
    },
    {
     "name": "stderr",
     "output_type": "stream",
     "text": [
      "/home/carcook/anaconda3/envs/TCGA-round1/lib/python3.8/site-packages/skopt/optimizer/optimizer.py:449: UserWarning: The objective has been evaluated at this point before.\n",
      "  warnings.warn(\"The objective has been evaluated \"\n"
     ]
    },
    {
     "name": "stdout",
     "output_type": "stream",
     "text": [
      "Iteration No: 131 ended. Search finished for the next optimal point.\n",
      "Time taken: 10.4913\n",
      "Function value obtained: -0.4804\n",
      "Current minimum: -0.5043\n",
      "Iteration No: 132 started. Searching for the next optimal point.\n",
      "[0.04629201216069715, 1000, 2, 'sqrt', 2, 3]\n",
      "Iteration No: 132 ended. Search finished for the next optimal point.\n",
      "Time taken: 10.2214\n",
      "Function value obtained: -0.4806\n",
      "Current minimum: -0.5043\n",
      "Iteration No: 133 started. Searching for the next optimal point.\n",
      "[0.04563368030631217, 1000, 2, 'sqrt', 6, 3]\n",
      "Iteration No: 133 ended. Search finished for the next optimal point.\n",
      "Time taken: 11.0383\n",
      "Function value obtained: -0.4966\n",
      "Current minimum: -0.5043\n",
      "Iteration No: 134 started. Searching for the next optimal point.\n",
      "[0.04489617070413907, 1000, 2, 'sqrt', 6, 3]\n",
      "Iteration No: 134 ended. Search finished for the next optimal point.\n",
      "Time taken: 10.6788\n",
      "Function value obtained: -0.4812\n",
      "Current minimum: -0.5043\n",
      "Iteration No: 135 started. Searching for the next optimal point.\n",
      "[0.1, 1000, 2, 'sqrt', 2, 3]\n"
     ]
    },
    {
     "name": "stderr",
     "output_type": "stream",
     "text": [
      "/home/carcook/anaconda3/envs/TCGA-round1/lib/python3.8/site-packages/skopt/optimizer/optimizer.py:449: UserWarning: The objective has been evaluated at this point before.\n",
      "  warnings.warn(\"The objective has been evaluated \"\n"
     ]
    },
    {
     "name": "stdout",
     "output_type": "stream",
     "text": [
      "Iteration No: 135 ended. Search finished for the next optimal point.\n",
      "Time taken: 10.5106\n",
      "Function value obtained: -0.5092\n",
      "Current minimum: -0.5092\n",
      "Iteration No: 136 started. Searching for the next optimal point.\n",
      "[0.1, 1000, 2, 'sqrt', 2, 3]\n"
     ]
    },
    {
     "name": "stderr",
     "output_type": "stream",
     "text": [
      "/home/carcook/anaconda3/envs/TCGA-round1/lib/python3.8/site-packages/skopt/optimizer/optimizer.py:449: UserWarning: The objective has been evaluated at this point before.\n",
      "  warnings.warn(\"The objective has been evaluated \"\n"
     ]
    },
    {
     "name": "stdout",
     "output_type": "stream",
     "text": [
      "Iteration No: 136 ended. Search finished for the next optimal point.\n",
      "Time taken: 9.7789\n",
      "Function value obtained: -0.4849\n",
      "Current minimum: -0.5092\n",
      "Iteration No: 137 started. Searching for the next optimal point.\n",
      "[0.05577638534877796, 1000, 2, 'sqrt', 2, 3]\n",
      "Iteration No: 137 ended. Search finished for the next optimal point.\n",
      "Time taken: 10.4072\n",
      "Function value obtained: -0.4936\n",
      "Current minimum: -0.5092\n",
      "Iteration No: 138 started. Searching for the next optimal point.\n",
      "[0.1, 1000, 2, 'sqrt', 2, 3]\n"
     ]
    },
    {
     "name": "stderr",
     "output_type": "stream",
     "text": [
      "/home/carcook/anaconda3/envs/TCGA-round1/lib/python3.8/site-packages/skopt/optimizer/optimizer.py:449: UserWarning: The objective has been evaluated at this point before.\n",
      "  warnings.warn(\"The objective has been evaluated \"\n"
     ]
    },
    {
     "name": "stdout",
     "output_type": "stream",
     "text": [
      "Iteration No: 138 ended. Search finished for the next optimal point.\n",
      "Time taken: 10.9090\n",
      "Function value obtained: -0.4865\n",
      "Current minimum: -0.5092\n",
      "Iteration No: 139 started. Searching for the next optimal point.\n",
      "[0.05641781714690707, 1000, 2, 'sqrt', 2, 3]\n",
      "Iteration No: 139 ended. Search finished for the next optimal point.\n",
      "Time taken: 12.5015\n",
      "Function value obtained: -0.5055\n",
      "Current minimum: -0.5092\n",
      "Iteration No: 140 started. Searching for the next optimal point.\n",
      "[0.05914638365807092, 1000, 2, 'sqrt', 2, 3]\n",
      "Iteration No: 140 ended. Search finished for the next optimal point.\n",
      "Time taken: 11.3910\n",
      "Function value obtained: -0.4966\n",
      "Current minimum: -0.5092\n",
      "Iteration No: 141 started. Searching for the next optimal point.\n",
      "[0.05961506299154729, 1000, 2, 'sqrt', 2, 3]\n",
      "Iteration No: 141 ended. Search finished for the next optimal point.\n",
      "Time taken: 11.6567\n",
      "Function value obtained: -0.4986\n",
      "Current minimum: -0.5092\n",
      "Iteration No: 142 started. Searching for the next optimal point.\n",
      "[0.060422962084034, 1000, 2, 'sqrt', 2, 3]\n",
      "Iteration No: 142 ended. Search finished for the next optimal point.\n",
      "Time taken: 7.9111\n",
      "Function value obtained: -0.5027\n",
      "Current minimum: -0.5092\n",
      "Iteration No: 143 started. Searching for the next optimal point.\n",
      "[0.06172309977838658, 1000, 2, 'sqrt', 2, 3]\n",
      "Iteration No: 143 ended. Search finished for the next optimal point.\n",
      "Time taken: 9.1273\n",
      "Function value obtained: -0.4955\n",
      "Current minimum: -0.5092\n",
      "Iteration No: 144 started. Searching for the next optimal point.\n",
      "[0.06167619191122096, 1000, 2, 'sqrt', 2, 3]\n",
      "Iteration No: 144 ended. Search finished for the next optimal point.\n",
      "Time taken: 7.9643\n",
      "Function value obtained: -0.4780\n",
      "Current minimum: -0.5092\n",
      "Iteration No: 145 started. Searching for the next optimal point.\n",
      "[0.055297075437976996, 1000, 2, 'sqrt', 2, 3]\n",
      "Iteration No: 145 ended. Search finished for the next optimal point.\n",
      "Time taken: 8.3085\n",
      "Function value obtained: -0.4984\n",
      "Current minimum: -0.5092\n",
      "Iteration No: 146 started. Searching for the next optimal point.\n",
      "[0.05554544805398392, 1000, 2, 'sqrt', 2, 3]\n",
      "Iteration No: 146 ended. Search finished for the next optimal point.\n",
      "Time taken: 8.0998\n",
      "Function value obtained: -0.5018\n",
      "Current minimum: -0.5092\n",
      "Iteration No: 147 started. Searching for the next optimal point.\n",
      "[0.05607062759612775, 1000, 2, 'sqrt', 2, 3]\n",
      "Iteration No: 147 ended. Search finished for the next optimal point.\n",
      "Time taken: 8.8458\n",
      "Function value obtained: -0.4790\n",
      "Current minimum: -0.5092\n",
      "Iteration No: 148 started. Searching for the next optimal point.\n",
      "[0.05320254005126781, 1000, 2, 'sqrt', 2, 3]\n",
      "Iteration No: 148 ended. Search finished for the next optimal point.\n",
      "Time taken: 8.7594\n",
      "Function value obtained: -0.4764\n",
      "Current minimum: -0.5092\n",
      "Iteration No: 149 started. Searching for the next optimal point.\n",
      "[0.1, 1000, 2, 'sqrt', 2, 3]\n"
     ]
    },
    {
     "name": "stderr",
     "output_type": "stream",
     "text": [
      "/home/carcook/anaconda3/envs/TCGA-round1/lib/python3.8/site-packages/skopt/optimizer/optimizer.py:449: UserWarning: The objective has been evaluated at this point before.\n",
      "  warnings.warn(\"The objective has been evaluated \"\n"
     ]
    },
    {
     "name": "stdout",
     "output_type": "stream",
     "text": [
      "Iteration No: 149 ended. Search finished for the next optimal point.\n",
      "Time taken: 8.5962\n",
      "Function value obtained: -0.4836\n",
      "Current minimum: -0.5092\n",
      "Iteration No: 150 started. Searching for the next optimal point.\n",
      "[0.06392382436877724, 1000, 2, 'sqrt', 2, 3]\n",
      "Iteration No: 150 ended. Search finished for the next optimal point.\n",
      "Time taken: 8.5517\n",
      "Function value obtained: -0.4824\n",
      "Current minimum: -0.5092\n",
      "Iteration No: 151 started. Searching for the next optimal point.\n",
      "[0.047799031832546364, 1000, 2, 'sqrt', 2, 3]\n",
      "Iteration No: 151 ended. Search finished for the next optimal point.\n",
      "Time taken: 8.4560\n",
      "Function value obtained: -0.4752\n",
      "Current minimum: -0.5092\n",
      "Iteration No: 152 started. Searching for the next optimal point.\n",
      "[0.08380559902409279, 1000, 2, 'sqrt', 6, 3]\n",
      "Iteration No: 152 ended. Search finished for the next optimal point.\n",
      "Time taken: 8.7024\n",
      "Function value obtained: -0.4888\n",
      "Current minimum: -0.5092\n",
      "Iteration No: 153 started. Searching for the next optimal point.\n",
      "[0.0479226176140001, 1000, 2, 'sqrt', 2, 2]\n",
      "Iteration No: 153 ended. Search finished for the next optimal point.\n",
      "Time taken: 8.7681\n",
      "Function value obtained: -0.4776\n",
      "Current minimum: -0.5092\n",
      "Iteration No: 154 started. Searching for the next optimal point.\n",
      "[0.06720877922157634, 1000, 2, 'sqrt', 2, 3]\n",
      "Iteration No: 154 ended. Search finished for the next optimal point.\n",
      "Time taken: 8.9049\n",
      "Function value obtained: -0.4983\n",
      "Current minimum: -0.5092\n",
      "Iteration No: 155 started. Searching for the next optimal point.\n",
      "[0.07059037189507011, 1000, 2, 'sqrt', 2, 3]\n",
      "Iteration No: 155 ended. Search finished for the next optimal point.\n",
      "Time taken: 9.1945\n",
      "Function value obtained: -0.4837\n",
      "Current minimum: -0.5092\n",
      "Iteration No: 156 started. Searching for the next optimal point.\n",
      "[0.09876162518428853, 101, 5, 'sqrt', 4, 3]\n",
      "Iteration No: 156 ended. Search finished for the next optimal point.\n",
      "Time taken: 4.3463\n",
      "Function value obtained: -0.4108\n",
      "Current minimum: -0.5092\n",
      "Iteration No: 157 started. Searching for the next optimal point.\n",
      "[0.05757768297488885, 1000, 2, 'sqrt', 6, 3]\n",
      "Iteration No: 157 ended. Search finished for the next optimal point.\n",
      "Time taken: 8.6405\n",
      "Function value obtained: -0.4906\n",
      "Current minimum: -0.5092\n",
      "Iteration No: 158 started. Searching for the next optimal point.\n",
      "[0.1, 1000, 2, 'log2', 2, 3]\n",
      "Iteration No: 158 ended. Search finished for the next optimal point.\n",
      "Time taken: 6.0119\n",
      "Function value obtained: -0.4564\n",
      "Current minimum: -0.5092\n",
      "Iteration No: 159 started. Searching for the next optimal point.\n",
      "[0.058331711126942014, 1000, 2, 'sqrt', 6, 3]\n",
      "Iteration No: 159 ended. Search finished for the next optimal point.\n",
      "Time taken: 8.4473\n",
      "Function value obtained: -0.4930\n",
      "Current minimum: -0.5092\n",
      "Iteration No: 160 started. Searching for the next optimal point.\n",
      "[0.05840282327457289, 1000, 2, 'sqrt', 6, 3]\n",
      "Iteration No: 160 ended. Search finished for the next optimal point.\n",
      "Time taken: 8.4914\n",
      "Function value obtained: -0.4843\n",
      "Current minimum: -0.5092\n",
      "Iteration No: 161 started. Searching for the next optimal point.\n",
      "[0.08213377145808078, 1000, 2, 'sqrt', 2, 3]\n",
      "Iteration No: 161 ended. Search finished for the next optimal point.\n",
      "Time taken: 8.6176\n",
      "Function value obtained: -0.4929\n",
      "Current minimum: -0.5092\n",
      "Iteration No: 162 started. Searching for the next optimal point.\n",
      "[0.08205146654339854, 1000, 2, 'sqrt', 2, 3]\n",
      "Iteration No: 162 ended. Search finished for the next optimal point.\n",
      "Time taken: 8.6157\n",
      "Function value obtained: -0.4945\n",
      "Current minimum: -0.5092\n",
      "Iteration No: 163 started. Searching for the next optimal point.\n",
      "[0.082015623282215, 1000, 2, 'sqrt', 2, 3]\n",
      "Iteration No: 163 ended. Search finished for the next optimal point.\n",
      "Time taken: 8.8547\n",
      "Function value obtained: -0.4875\n",
      "Current minimum: -0.5092\n",
      "Iteration No: 164 started. Searching for the next optimal point.\n",
      "[0.06609330710781408, 1000, 2, 'sqrt', 2, 3]\n",
      "Iteration No: 164 ended. Search finished for the next optimal point.\n",
      "Time taken: 8.4029\n",
      "Function value obtained: -0.4856\n",
      "Current minimum: -0.5092\n",
      "Iteration No: 165 started. Searching for the next optimal point.\n",
      "[0.04818741022783242, 1000, 2, 'sqrt', 6, 3]\n",
      "Iteration No: 165 ended. Search finished for the next optimal point.\n",
      "Time taken: 13.6749\n",
      "Function value obtained: -0.4692\n",
      "Current minimum: -0.5092\n",
      "Iteration No: 166 started. Searching for the next optimal point.\n",
      "[0.08662280300692043, 1000, 2, 'sqrt', 2, 3]\n",
      "Iteration No: 166 ended. Search finished for the next optimal point.\n",
      "Time taken: 9.1907\n",
      "Function value obtained: -0.4699\n",
      "Current minimum: -0.5092\n",
      "Iteration No: 167 started. Searching for the next optimal point.\n",
      "[0.1, 1000, 2, 'sqrt', 6, 3]\n"
     ]
    },
    {
     "name": "stderr",
     "output_type": "stream",
     "text": [
      "/home/carcook/anaconda3/envs/TCGA-round1/lib/python3.8/site-packages/skopt/optimizer/optimizer.py:449: UserWarning: The objective has been evaluated at this point before.\n",
      "  warnings.warn(\"The objective has been evaluated \"\n"
     ]
    },
    {
     "name": "stdout",
     "output_type": "stream",
     "text": [
      "Iteration No: 167 ended. Search finished for the next optimal point.\n",
      "Time taken: 9.2462\n",
      "Function value obtained: -0.4897\n",
      "Current minimum: -0.5092\n",
      "Iteration No: 168 started. Searching for the next optimal point.\n",
      "[0.051978900373780224, 1000, 2, 'sqrt', 2, 3]\n",
      "Iteration No: 168 ended. Search finished for the next optimal point.\n",
      "Time taken: 8.8299\n",
      "Function value obtained: -0.4887\n",
      "Current minimum: -0.5092\n",
      "Iteration No: 169 started. Searching for the next optimal point.\n",
      "[0.052317368886054066, 1000, 2, 'sqrt', 2, 3]\n",
      "Iteration No: 169 ended. Search finished for the next optimal point.\n",
      "Time taken: 8.5780\n",
      "Function value obtained: -0.5015\n",
      "Current minimum: -0.5092\n",
      "Iteration No: 170 started. Searching for the next optimal point.\n",
      "[0.051880011670967716, 1000, 2, 'sqrt', 2, 3]\n",
      "Iteration No: 170 ended. Search finished for the next optimal point.\n",
      "Time taken: 8.9255\n",
      "Function value obtained: -0.4898\n",
      "Current minimum: -0.5092\n",
      "Iteration No: 171 started. Searching for the next optimal point.\n",
      "[0.052075220004497, 1000, 2, 'sqrt', 2, 3]\n",
      "Iteration No: 171 ended. Search finished for the next optimal point.\n",
      "Time taken: 9.4381\n",
      "Function value obtained: -0.4874\n",
      "Current minimum: -0.5092\n",
      "Iteration No: 172 started. Searching for the next optimal point.\n",
      "[0.1, 1000, 2, 'sqrt', 6, 3]\n"
     ]
    },
    {
     "name": "stderr",
     "output_type": "stream",
     "text": [
      "/home/carcook/anaconda3/envs/TCGA-round1/lib/python3.8/site-packages/skopt/optimizer/optimizer.py:449: UserWarning: The objective has been evaluated at this point before.\n",
      "  warnings.warn(\"The objective has been evaluated \"\n"
     ]
    },
    {
     "name": "stdout",
     "output_type": "stream",
     "text": [
      "Iteration No: 172 ended. Search finished for the next optimal point.\n",
      "Time taken: 8.7175\n",
      "Function value obtained: -0.5004\n",
      "Current minimum: -0.5092\n",
      "Iteration No: 173 started. Searching for the next optimal point.\n",
      "[0.1, 1000, 2, 'sqrt', 6, 3]\n"
     ]
    },
    {
     "name": "stderr",
     "output_type": "stream",
     "text": [
      "/home/carcook/anaconda3/envs/TCGA-round1/lib/python3.8/site-packages/skopt/optimizer/optimizer.py:449: UserWarning: The objective has been evaluated at this point before.\n",
      "  warnings.warn(\"The objective has been evaluated \"\n"
     ]
    },
    {
     "name": "stdout",
     "output_type": "stream",
     "text": [
      "Iteration No: 173 ended. Search finished for the next optimal point.\n",
      "Time taken: 9.4134\n",
      "Function value obtained: -0.4764\n",
      "Current minimum: -0.5092\n",
      "Iteration No: 174 started. Searching for the next optimal point.\n",
      "[0.05436006444758546, 1000, 2, 'sqrt', 2, 3]\n",
      "Iteration No: 174 ended. Search finished for the next optimal point.\n",
      "Time taken: 9.3785\n",
      "Function value obtained: -0.5007\n",
      "Current minimum: -0.5092\n",
      "Iteration No: 175 started. Searching for the next optimal point.\n",
      "[0.05453902532075593, 1000, 2, 'sqrt', 2, 3]\n",
      "Iteration No: 175 ended. Search finished for the next optimal point.\n",
      "Time taken: 9.0659\n",
      "Function value obtained: -0.4803\n",
      "Current minimum: -0.5092\n",
      "Iteration No: 176 started. Searching for the next optimal point.\n",
      "[0.04620628429117376, 1000, 2, 'sqrt', 2, 3]\n",
      "Iteration No: 176 ended. Search finished for the next optimal point.\n",
      "Time taken: 9.4609\n",
      "Function value obtained: -0.4994\n",
      "Current minimum: -0.5092\n",
      "Iteration No: 177 started. Searching for the next optimal point.\n",
      "[0.0451277151992824, 1000, 2, 'sqrt', 2, 3]\n",
      "Iteration No: 177 ended. Search finished for the next optimal point.\n",
      "Time taken: 9.2343\n",
      "Function value obtained: -0.4855\n",
      "Current minimum: -0.5092\n",
      "Iteration No: 178 started. Searching for the next optimal point.\n",
      "[0.05509858531654656, 1000, 2, 'sqrt', 2, 3]\n",
      "Iteration No: 178 ended. Search finished for the next optimal point.\n",
      "Time taken: 9.1663\n",
      "Function value obtained: -0.4954\n",
      "Current minimum: -0.5092\n",
      "Iteration No: 179 started. Searching for the next optimal point.\n",
      "[0.05551064795926434, 1000, 2, 'sqrt', 2, 3]\n",
      "Iteration No: 179 ended. Search finished for the next optimal point.\n",
      "Time taken: 8.9559\n",
      "Function value obtained: -0.4770\n",
      "Current minimum: -0.5092\n",
      "Iteration No: 180 started. Searching for the next optimal point.\n",
      "[0.1, 1000, 2, 'sqrt', 2, 3]\n"
     ]
    },
    {
     "name": "stderr",
     "output_type": "stream",
     "text": [
      "/home/carcook/anaconda3/envs/TCGA-round1/lib/python3.8/site-packages/skopt/optimizer/optimizer.py:449: UserWarning: The objective has been evaluated at this point before.\n",
      "  warnings.warn(\"The objective has been evaluated \"\n"
     ]
    },
    {
     "name": "stdout",
     "output_type": "stream",
     "text": [
      "Iteration No: 180 ended. Search finished for the next optimal point.\n",
      "Time taken: 9.1473\n",
      "Function value obtained: -0.4807\n",
      "Current minimum: -0.5092\n",
      "Iteration No: 181 started. Searching for the next optimal point.\n",
      "[0.04359718946967855, 1000, 2, 'sqrt', 2, 3]\n",
      "Iteration No: 181 ended. Search finished for the next optimal point.\n",
      "Time taken: 8.9802\n",
      "Function value obtained: -0.4925\n",
      "Current minimum: -0.5092\n",
      "Iteration No: 182 started. Searching for the next optimal point.\n",
      "[0.043473146296462366, 1000, 2, 'sqrt', 2, 3]\n",
      "Iteration No: 182 ended. Search finished for the next optimal point.\n",
      "Time taken: 9.0309\n",
      "Function value obtained: -0.4944\n",
      "Current minimum: -0.5092\n",
      "Iteration No: 183 started. Searching for the next optimal point.\n",
      "[0.04300963502893486, 1000, 2, 'sqrt', 2, 3]\n",
      "Iteration No: 183 ended. Search finished for the next optimal point.\n",
      "Time taken: 9.0115\n",
      "Function value obtained: -0.4946\n",
      "Current minimum: -0.5092\n",
      "Iteration No: 184 started. Searching for the next optimal point.\n",
      "[0.042531700334362155, 1000, 2, 'sqrt', 2, 3]\n",
      "Iteration No: 184 ended. Search finished for the next optimal point.\n",
      "Time taken: 9.2859\n",
      "Function value obtained: -0.4968\n",
      "Current minimum: -0.5092\n",
      "Iteration No: 185 started. Searching for the next optimal point.\n",
      "[0.04174398183552691, 1000, 2, 'sqrt', 2, 3]\n",
      "Iteration No: 185 ended. Search finished for the next optimal point.\n",
      "Time taken: 9.9806\n",
      "Function value obtained: -0.4816\n",
      "Current minimum: -0.5092\n",
      "Iteration No: 186 started. Searching for the next optimal point.\n",
      "[0.045883820137502064, 1000, 2, 'sqrt', 2, 3]\n",
      "Iteration No: 186 ended. Search finished for the next optimal point.\n",
      "Time taken: 9.2538\n",
      "Function value obtained: -0.5027\n",
      "Current minimum: -0.5092\n",
      "Iteration No: 187 started. Searching for the next optimal point.\n",
      "[0.04461087076563966, 1000, 2, 'sqrt', 2, 3]\n",
      "Iteration No: 187 ended. Search finished for the next optimal point.\n",
      "Time taken: 9.5095\n",
      "Function value obtained: -0.4841\n",
      "Current minimum: -0.5092\n",
      "Iteration No: 188 started. Searching for the next optimal point.\n",
      "[0.04810320333161261, 1000, 2, 'sqrt', 2, 3]\n",
      "Iteration No: 188 ended. Search finished for the next optimal point.\n",
      "Time taken: 9.0969\n",
      "Function value obtained: -0.4974\n",
      "Current minimum: -0.5092\n",
      "Iteration No: 189 started. Searching for the next optimal point.\n",
      "[0.047658901519732656, 1000, 2, 'sqrt', 2, 3]\n",
      "Iteration No: 189 ended. Search finished for the next optimal point.\n",
      "Time taken: 9.2453\n",
      "Function value obtained: -0.4976\n",
      "Current minimum: -0.5092\n",
      "Iteration No: 190 started. Searching for the next optimal point.\n",
      "[0.0471586998306001, 1000, 2, 'sqrt', 2, 3]\n",
      "Iteration No: 190 ended. Search finished for the next optimal point.\n",
      "Time taken: 9.2349\n",
      "Function value obtained: -0.5025\n",
      "Current minimum: -0.5092\n",
      "Iteration No: 191 started. Searching for the next optimal point.\n",
      "[0.04634663408235333, 1000, 2, 'sqrt', 2, 3]\n",
      "Iteration No: 191 ended. Search finished for the next optimal point.\n",
      "Time taken: 9.7148\n",
      "Function value obtained: -0.4989\n",
      "Current minimum: -0.5092\n",
      "Iteration No: 192 started. Searching for the next optimal point.\n",
      "[0.04569323767320881, 1000, 2, 'sqrt', 2, 3]\n",
      "Iteration No: 192 ended. Search finished for the next optimal point.\n",
      "Time taken: 9.5305\n",
      "Function value obtained: -0.4968\n",
      "Current minimum: -0.5092\n",
      "Iteration No: 193 started. Searching for the next optimal point.\n",
      "[0.04519827457125542, 1000, 2, 'sqrt', 2, 3]\n",
      "Iteration No: 193 ended. Search finished for the next optimal point.\n",
      "Time taken: 10.5239\n",
      "Function value obtained: -0.4891\n",
      "Current minimum: -0.5092\n",
      "Iteration No: 194 started. Searching for the next optimal point.\n",
      "[0.04599473393239092, 1000, 2, 'sqrt', 2, 3]\n",
      "Iteration No: 194 ended. Search finished for the next optimal point.\n",
      "Time taken: 9.9810\n",
      "Function value obtained: -0.5029\n",
      "Current minimum: -0.5092\n",
      "Iteration No: 195 started. Searching for the next optimal point.\n",
      "[0.04493212070760955, 1000, 2, 'sqrt', 2, 3]\n",
      "Iteration No: 195 ended. Search finished for the next optimal point.\n",
      "Time taken: 9.3846\n",
      "Function value obtained: -0.4921\n",
      "Current minimum: -0.5092\n",
      "Iteration No: 196 started. Searching for the next optimal point.\n",
      "[0.04512577518175508, 1000, 2, 'sqrt', 2, 3]\n",
      "Iteration No: 196 ended. Search finished for the next optimal point.\n",
      "Time taken: 9.4727\n",
      "Function value obtained: -0.4944\n",
      "Current minimum: -0.5092\n",
      "Iteration No: 197 started. Searching for the next optimal point.\n",
      "[0.044913609128311424, 1000, 2, 'sqrt', 2, 3]\n",
      "Iteration No: 197 ended. Search finished for the next optimal point.\n",
      "Time taken: 9.9694\n",
      "Function value obtained: -0.4858\n",
      "Current minimum: -0.5092\n",
      "Iteration No: 198 started. Searching for the next optimal point.\n",
      "[0.0474221021134801, 1000, 2, 'sqrt', 2, 3]\n",
      "Iteration No: 198 ended. Search finished for the next optimal point.\n",
      "Time taken: 10.0343\n",
      "Function value obtained: -0.4848\n",
      "Current minimum: -0.5092\n",
      "Iteration No: 199 started. Searching for the next optimal point.\n",
      "[0.0483719482441645, 1000, 2, 'sqrt', 2, 3]\n",
      "Iteration No: 199 ended. Search finished for the next optimal point.\n",
      "Time taken: 9.4733\n",
      "Function value obtained: -0.4961\n",
      "Current minimum: -0.5092\n",
      "Iteration No: 200 started. Searching for the next optimal point.\n",
      "[0.04830688210588394, 1000, 2, 'sqrt', 2, 3]\n",
      "Iteration No: 200 ended. Search finished for the next optimal point.\n",
      "Time taken: 9.6731\n",
      "Function value obtained: -0.4917\n",
      "Current minimum: -0.5092\n",
      "Iteration No: 201 started. Searching for the next optimal point.\n",
      "[0.04817928990138371, 1000, 2, 'sqrt', 2, 3]\n",
      "Iteration No: 201 ended. Search finished for the next optimal point.\n",
      "Time taken: 9.6162\n",
      "Function value obtained: -0.4693\n",
      "Current minimum: -0.5092\n",
      "Iteration No: 202 started. Searching for the next optimal point.\n",
      "[0.042228553422605106, 1000, 2, 'sqrt', 2, 3]\n",
      "Iteration No: 202 ended. Search finished for the next optimal point.\n",
      "Time taken: 9.6079\n",
      "Function value obtained: -0.4977\n",
      "Current minimum: -0.5092\n",
      "Iteration No: 203 started. Searching for the next optimal point.\n",
      "[0.04114071352014651, 1000, 2, 'sqrt', 2, 3]\n",
      "Iteration No: 203 ended. Search finished for the next optimal point.\n",
      "Time taken: 9.8660\n",
      "Function value obtained: -0.4966\n",
      "Current minimum: -0.5092\n",
      "Iteration No: 204 started. Searching for the next optimal point.\n",
      "[0.04035648481449995, 1000, 2, 'sqrt', 2, 3]\n",
      "Iteration No: 204 ended. Search finished for the next optimal point.\n",
      "Time taken: 10.0276\n",
      "Function value obtained: -0.4815\n",
      "Current minimum: -0.5092\n",
      "Iteration No: 205 started. Searching for the next optimal point.\n",
      "[0.05249215824399079, 1000, 2, 'sqrt', 2, 3]\n",
      "Iteration No: 205 ended. Search finished for the next optimal point.\n",
      "Time taken: 9.6262\n",
      "Function value obtained: -0.4917\n",
      "Current minimum: -0.5092\n",
      "Iteration No: 206 started. Searching for the next optimal point.\n",
      "[0.05230592446977349, 1000, 2, 'sqrt', 2, 3]\n",
      "Iteration No: 206 ended. Search finished for the next optimal point.\n",
      "Time taken: 11.2579\n",
      "Function value obtained: -0.4597\n",
      "Current minimum: -0.5092\n",
      "Iteration No: 207 started. Searching for the next optimal point.\n",
      "[0.039622183579360454, 1000, 2, 'sqrt', 2, 3]\n",
      "Iteration No: 207 ended. Search finished for the next optimal point.\n",
      "Time taken: 9.8204\n",
      "Function value obtained: -0.4916\n",
      "Current minimum: -0.5092\n",
      "Iteration No: 208 started. Searching for the next optimal point.\n",
      "[0.1, 1000, 2, 'sqrt', 6, 3]\n"
     ]
    },
    {
     "name": "stderr",
     "output_type": "stream",
     "text": [
      "/home/carcook/anaconda3/envs/TCGA-round1/lib/python3.8/site-packages/skopt/optimizer/optimizer.py:449: UserWarning: The objective has been evaluated at this point before.\n",
      "  warnings.warn(\"The objective has been evaluated \"\n"
     ]
    },
    {
     "name": "stdout",
     "output_type": "stream",
     "text": [
      "Iteration No: 208 ended. Search finished for the next optimal point.\n",
      "Time taken: 10.1196\n",
      "Function value obtained: -0.4743\n",
      "Current minimum: -0.5092\n",
      "Iteration No: 209 started. Searching for the next optimal point.\n",
      "[0.03980338504106934, 1000, 2, 'sqrt', 2, 3]\n",
      "Iteration No: 209 ended. Search finished for the next optimal point.\n",
      "Time taken: 10.3314\n",
      "Function value obtained: -0.4857\n",
      "Current minimum: -0.5092\n",
      "Iteration No: 210 started. Searching for the next optimal point.\n",
      "[0.041137921255090436, 1000, 2, 'sqrt', 2, 3]\n",
      "Iteration No: 210 ended. Search finished for the next optimal point.\n",
      "Time taken: 11.8527\n",
      "Function value obtained: -0.4722\n",
      "Current minimum: -0.5092\n",
      "Iteration No: 211 started. Searching for the next optimal point.\n",
      "[0.05893315020986476, 1000, 2, 'sqrt', 2, 3]\n",
      "Iteration No: 211 ended. Search finished for the next optimal point.\n",
      "Time taken: 10.2725\n",
      "Function value obtained: -0.5020\n",
      "Current minimum: -0.5092\n",
      "Iteration No: 212 started. Searching for the next optimal point.\n",
      "[0.06053732533554889, 1000, 2, 'sqrt', 2, 3]\n",
      "Iteration No: 212 ended. Search finished for the next optimal point.\n",
      "Time taken: 9.9760\n",
      "Function value obtained: -0.5079\n",
      "Current minimum: -0.5092\n",
      "Iteration No: 213 started. Searching for the next optimal point.\n",
      "[0.0622236421991838, 1000, 2, 'sqrt', 2, 3]\n",
      "Iteration No: 213 ended. Search finished for the next optimal point.\n",
      "Time taken: 9.9043\n",
      "Function value obtained: -0.4822\n",
      "Current minimum: -0.5092\n",
      "Iteration No: 214 started. Searching for the next optimal point.\n",
      "[0.06034467555817437, 1000, 2, 'sqrt', 2, 3]\n",
      "Iteration No: 214 ended. Search finished for the next optimal point.\n",
      "Time taken: 9.9231\n",
      "Function value obtained: -0.4976\n",
      "Current minimum: -0.5092\n",
      "Iteration No: 215 started. Searching for the next optimal point.\n",
      "[0.06099308020153968, 1000, 2, 'sqrt', 2, 3]\n",
      "Iteration No: 215 ended. Search finished for the next optimal point.\n",
      "Time taken: 10.3130\n",
      "Function value obtained: -0.4924\n",
      "Current minimum: -0.5092\n",
      "Iteration No: 216 started. Searching for the next optimal point.\n",
      "[0.060961979779104336, 1000, 2, 'sqrt', 2, 3]\n",
      "Iteration No: 216 ended. Search finished for the next optimal point.\n",
      "Time taken: 10.2502\n",
      "Function value obtained: -0.4844\n",
      "Current minimum: -0.5092\n",
      "Iteration No: 217 started. Searching for the next optimal point.\n",
      "[0.0593376199959657, 1000, 2, 'sqrt', 2, 3]\n",
      "Iteration No: 217 ended. Search finished for the next optimal point.\n",
      "Time taken: 10.2123\n",
      "Function value obtained: -0.4785\n",
      "Current minimum: -0.5092\n",
      "Iteration No: 218 started. Searching for the next optimal point.\n",
      "[0.05566932265314014, 1000, 2, 'sqrt', 2, 3]\n",
      "Iteration No: 218 ended. Search finished for the next optimal point.\n",
      "Time taken: 10.0800\n",
      "Function value obtained: -0.4961\n",
      "Current minimum: -0.5092\n",
      "Iteration No: 219 started. Searching for the next optimal point.\n",
      "[0.05607397281495528, 1000, 2, 'sqrt', 2, 3]\n",
      "Iteration No: 219 ended. Search finished for the next optimal point.\n",
      "Time taken: 10.3568\n",
      "Function value obtained: -0.4835\n",
      "Current minimum: -0.5092\n",
      "Iteration No: 220 started. Searching for the next optimal point.\n",
      "[0.0545758644939725, 1000, 2, 'sqrt', 2, 3]\n",
      "Iteration No: 220 ended. Search finished for the next optimal point.\n",
      "Time taken: 10.6401\n",
      "Function value obtained: -0.5021\n",
      "Current minimum: -0.5092\n",
      "Iteration No: 221 started. Searching for the next optimal point.\n",
      "[0.05540551608314191, 1000, 2, 'sqrt', 2, 3]\n",
      "Iteration No: 221 ended. Search finished for the next optimal point.\n",
      "Time taken: 10.2266\n",
      "Function value obtained: -0.4870\n",
      "Current minimum: -0.5092\n",
      "Iteration No: 222 started. Searching for the next optimal point.\n",
      "[0.05469706024110203, 1000, 2, 'sqrt', 2, 3]\n",
      "Iteration No: 222 ended. Search finished for the next optimal point.\n",
      "Time taken: 10.2614\n",
      "Function value obtained: -0.4908\n",
      "Current minimum: -0.5092\n",
      "Iteration No: 223 started. Searching for the next optimal point.\n",
      "[0.05448179207702705, 1000, 2, 'sqrt', 2, 3]\n",
      "Iteration No: 223 ended. Search finished for the next optimal point.\n",
      "Time taken: 10.6635\n",
      "Function value obtained: -0.4941\n",
      "Current minimum: -0.5092\n",
      "Iteration No: 224 started. Searching for the next optimal point.\n",
      "[0.0546322222713526, 1000, 2, 'sqrt', 2, 3]\n",
      "Iteration No: 224 ended. Search finished for the next optimal point.\n",
      "Time taken: 10.5710\n",
      "Function value obtained: -0.4934\n",
      "Current minimum: -0.5092\n",
      "Iteration No: 225 started. Searching for the next optimal point.\n",
      "[0.05470823700413294, 1000, 2, 'sqrt', 2, 3]\n",
      "Iteration No: 225 ended. Search finished for the next optimal point.\n",
      "Time taken: 11.0405\n",
      "Function value obtained: -0.4817\n",
      "Current minimum: -0.5092\n",
      "Iteration No: 226 started. Searching for the next optimal point.\n",
      "[0.05293428677751753, 1000, 2, 'sqrt', 2, 3]\n",
      "Iteration No: 226 ended. Search finished for the next optimal point.\n",
      "Time taken: 12.1302\n",
      "Function value obtained: -0.4922\n",
      "Current minimum: -0.5092\n",
      "Iteration No: 227 started. Searching for the next optimal point.\n",
      "[0.05286288098522908, 1000, 2, 'sqrt', 2, 3]\n",
      "Iteration No: 227 ended. Search finished for the next optimal point.\n",
      "Time taken: 12.7512\n",
      "Function value obtained: -0.4846\n",
      "Current minimum: -0.5092\n",
      "Iteration No: 228 started. Searching for the next optimal point.\n",
      "[0.06385655761524231, 1000, 2, 'sqrt', 2, 3]\n",
      "Iteration No: 228 ended. Search finished for the next optimal point.\n",
      "Time taken: 11.3386\n",
      "Function value obtained: -0.4978\n",
      "Current minimum: -0.5092\n",
      "Iteration No: 229 started. Searching for the next optimal point.\n",
      "[0.06586727769650882, 1000, 2, 'sqrt', 2, 3]\n",
      "Iteration No: 229 ended. Search finished for the next optimal point.\n",
      "Time taken: 11.3766\n",
      "Function value obtained: -0.4686\n",
      "Current minimum: -0.5092\n",
      "Iteration No: 230 started. Searching for the next optimal point.\n",
      "[0.04833108206889322, 1000, 2, 'sqrt', 2, 3]\n",
      "Iteration No: 230 ended. Search finished for the next optimal point.\n",
      "Time taken: 11.2039\n",
      "Function value obtained: -0.4646\n",
      "Current minimum: -0.5092\n",
      "Iteration No: 231 started. Searching for the next optimal point.\n",
      "[0.05024103528315107, 1000, 2, 'sqrt', 6, 3]\n",
      "Iteration No: 231 ended. Search finished for the next optimal point.\n",
      "Time taken: 10.5026\n",
      "Function value obtained: -0.4767\n",
      "Current minimum: -0.5092\n",
      "Iteration No: 232 started. Searching for the next optimal point.\n",
      "[0.1, 1000, 2, 'sqrt', 2, 3]\n"
     ]
    },
    {
     "name": "stderr",
     "output_type": "stream",
     "text": [
      "/home/carcook/anaconda3/envs/TCGA-round1/lib/python3.8/site-packages/skopt/optimizer/optimizer.py:449: UserWarning: The objective has been evaluated at this point before.\n",
      "  warnings.warn(\"The objective has been evaluated \"\n"
     ]
    },
    {
     "name": "stdout",
     "output_type": "stream",
     "text": [
      "Iteration No: 232 ended. Search finished for the next optimal point.\n",
      "Time taken: 10.3771\n",
      "Function value obtained: -0.5047\n",
      "Current minimum: -0.5092\n",
      "Iteration No: 233 started. Searching for the next optimal point.\n",
      "[0.1, 1000, 2, 'sqrt', 2, 3]\n"
     ]
    },
    {
     "name": "stderr",
     "output_type": "stream",
     "text": [
      "/home/carcook/anaconda3/envs/TCGA-round1/lib/python3.8/site-packages/skopt/optimizer/optimizer.py:449: UserWarning: The objective has been evaluated at this point before.\n",
      "  warnings.warn(\"The objective has been evaluated \"\n"
     ]
    },
    {
     "name": "stdout",
     "output_type": "stream",
     "text": [
      "Iteration No: 233 ended. Search finished for the next optimal point.\n",
      "Time taken: 10.7255\n",
      "Function value obtained: -0.4982\n",
      "Current minimum: -0.5092\n",
      "Iteration No: 234 started. Searching for the next optimal point.\n",
      "[0.1, 1000, 2, 'sqrt', 2, 3]\n"
     ]
    },
    {
     "name": "stderr",
     "output_type": "stream",
     "text": [
      "/home/carcook/anaconda3/envs/TCGA-round1/lib/python3.8/site-packages/skopt/optimizer/optimizer.py:449: UserWarning: The objective has been evaluated at this point before.\n",
      "  warnings.warn(\"The objective has been evaluated \"\n"
     ]
    },
    {
     "name": "stdout",
     "output_type": "stream",
     "text": [
      "Iteration No: 234 ended. Search finished for the next optimal point.\n",
      "Time taken: 10.8429\n",
      "Function value obtained: -0.4928\n",
      "Current minimum: -0.5092\n",
      "Iteration No: 235 started. Searching for the next optimal point.\n",
      "[0.1, 1000, 2, 'sqrt', 2, 3]\n"
     ]
    },
    {
     "name": "stderr",
     "output_type": "stream",
     "text": [
      "/home/carcook/anaconda3/envs/TCGA-round1/lib/python3.8/site-packages/skopt/optimizer/optimizer.py:449: UserWarning: The objective has been evaluated at this point before.\n",
      "  warnings.warn(\"The objective has been evaluated \"\n"
     ]
    },
    {
     "name": "stdout",
     "output_type": "stream",
     "text": [
      "Iteration No: 235 ended. Search finished for the next optimal point.\n",
      "Time taken: 12.2484\n",
      "Function value obtained: -0.4951\n",
      "Current minimum: -0.5092\n",
      "Iteration No: 236 started. Searching for the next optimal point.\n",
      "[0.1, 1000, 2, 'sqrt', 2, 3]\n"
     ]
    },
    {
     "name": "stderr",
     "output_type": "stream",
     "text": [
      "/home/carcook/anaconda3/envs/TCGA-round1/lib/python3.8/site-packages/skopt/optimizer/optimizer.py:449: UserWarning: The objective has been evaluated at this point before.\n",
      "  warnings.warn(\"The objective has been evaluated \"\n"
     ]
    },
    {
     "name": "stdout",
     "output_type": "stream",
     "text": [
      "Iteration No: 236 ended. Search finished for the next optimal point.\n",
      "Time taken: 13.0812\n",
      "Function value obtained: -0.5134\n",
      "Current minimum: -0.5134\n",
      "Iteration No: 237 started. Searching for the next optimal point.\n",
      "[0.1, 1000, 2, 'sqrt', 2, 3]\n"
     ]
    },
    {
     "name": "stderr",
     "output_type": "stream",
     "text": [
      "/home/carcook/anaconda3/envs/TCGA-round1/lib/python3.8/site-packages/skopt/optimizer/optimizer.py:449: UserWarning: The objective has been evaluated at this point before.\n",
      "  warnings.warn(\"The objective has been evaluated \"\n"
     ]
    },
    {
     "name": "stdout",
     "output_type": "stream",
     "text": [
      "Iteration No: 237 ended. Search finished for the next optimal point.\n",
      "Time taken: 10.8265\n",
      "Function value obtained: -0.4818\n",
      "Current minimum: -0.5134\n",
      "Iteration No: 238 started. Searching for the next optimal point.\n",
      "[0.1, 1000, 2, 'sqrt', 2, 3]\n"
     ]
    },
    {
     "name": "stderr",
     "output_type": "stream",
     "text": [
      "/home/carcook/anaconda3/envs/TCGA-round1/lib/python3.8/site-packages/skopt/optimizer/optimizer.py:449: UserWarning: The objective has been evaluated at this point before.\n",
      "  warnings.warn(\"The objective has been evaluated \"\n"
     ]
    },
    {
     "name": "stdout",
     "output_type": "stream",
     "text": [
      "Iteration No: 238 ended. Search finished for the next optimal point.\n",
      "Time taken: 10.9126\n",
      "Function value obtained: -0.4931\n",
      "Current minimum: -0.5134\n",
      "Iteration No: 239 started. Searching for the next optimal point.\n",
      "[0.1, 1000, 2, 'sqrt', 2, 3]\n"
     ]
    },
    {
     "name": "stderr",
     "output_type": "stream",
     "text": [
      "/home/carcook/anaconda3/envs/TCGA-round1/lib/python3.8/site-packages/skopt/optimizer/optimizer.py:449: UserWarning: The objective has been evaluated at this point before.\n",
      "  warnings.warn(\"The objective has been evaluated \"\n"
     ]
    },
    {
     "name": "stdout",
     "output_type": "stream",
     "text": [
      "Iteration No: 239 ended. Search finished for the next optimal point.\n",
      "Time taken: 10.7135\n",
      "Function value obtained: -0.4940\n",
      "Current minimum: -0.5134\n",
      "Iteration No: 240 started. Searching for the next optimal point.\n",
      "[0.1, 1000, 2, 'sqrt', 2, 3]\n"
     ]
    },
    {
     "name": "stderr",
     "output_type": "stream",
     "text": [
      "/home/carcook/anaconda3/envs/TCGA-round1/lib/python3.8/site-packages/skopt/optimizer/optimizer.py:449: UserWarning: The objective has been evaluated at this point before.\n",
      "  warnings.warn(\"The objective has been evaluated \"\n"
     ]
    },
    {
     "name": "stdout",
     "output_type": "stream",
     "text": [
      "Iteration No: 240 ended. Search finished for the next optimal point.\n",
      "Time taken: 10.8275\n",
      "Function value obtained: -0.4828\n",
      "Current minimum: -0.5134\n",
      "Iteration No: 241 started. Searching for the next optimal point.\n",
      "[0.1, 1000, 2, 'sqrt', 2, 3]\n"
     ]
    },
    {
     "name": "stderr",
     "output_type": "stream",
     "text": [
      "/home/carcook/anaconda3/envs/TCGA-round1/lib/python3.8/site-packages/skopt/optimizer/optimizer.py:449: UserWarning: The objective has been evaluated at this point before.\n",
      "  warnings.warn(\"The objective has been evaluated \"\n"
     ]
    },
    {
     "name": "stdout",
     "output_type": "stream",
     "text": [
      "Iteration No: 241 ended. Search finished for the next optimal point.\n",
      "Time taken: 11.0108\n",
      "Function value obtained: -0.4853\n",
      "Current minimum: -0.5134\n",
      "Iteration No: 242 started. Searching for the next optimal point.\n",
      "[0.1, 1000, 2, 'sqrt', 2, 3]\n"
     ]
    },
    {
     "name": "stderr",
     "output_type": "stream",
     "text": [
      "/home/carcook/anaconda3/envs/TCGA-round1/lib/python3.8/site-packages/skopt/optimizer/optimizer.py:449: UserWarning: The objective has been evaluated at this point before.\n",
      "  warnings.warn(\"The objective has been evaluated \"\n"
     ]
    },
    {
     "name": "stdout",
     "output_type": "stream",
     "text": [
      "Iteration No: 242 ended. Search finished for the next optimal point.\n",
      "Time taken: 11.6222\n",
      "Function value obtained: -0.4776\n",
      "Current minimum: -0.5134\n",
      "Iteration No: 243 started. Searching for the next optimal point.\n",
      "[0.1, 1000, 2, 'sqrt', 2, 3]\n"
     ]
    },
    {
     "name": "stderr",
     "output_type": "stream",
     "text": [
      "/home/carcook/anaconda3/envs/TCGA-round1/lib/python3.8/site-packages/skopt/optimizer/optimizer.py:449: UserWarning: The objective has been evaluated at this point before.\n",
      "  warnings.warn(\"The objective has been evaluated \"\n"
     ]
    },
    {
     "name": "stdout",
     "output_type": "stream",
     "text": [
      "Iteration No: 243 ended. Search finished for the next optimal point.\n",
      "Time taken: 12.3593\n",
      "Function value obtained: -0.5008\n",
      "Current minimum: -0.5134\n",
      "Iteration No: 244 started. Searching for the next optimal point.\n",
      "[0.1, 1000, 2, 'sqrt', 2, 3]\n"
     ]
    },
    {
     "name": "stderr",
     "output_type": "stream",
     "text": [
      "/home/carcook/anaconda3/envs/TCGA-round1/lib/python3.8/site-packages/skopt/optimizer/optimizer.py:449: UserWarning: The objective has been evaluated at this point before.\n",
      "  warnings.warn(\"The objective has been evaluated \"\n"
     ]
    },
    {
     "name": "stdout",
     "output_type": "stream",
     "text": [
      "Iteration No: 244 ended. Search finished for the next optimal point.\n",
      "Time taken: 11.0406\n",
      "Function value obtained: -0.4838\n",
      "Current minimum: -0.5134\n",
      "Iteration No: 245 started. Searching for the next optimal point.\n",
      "[0.09084557926646036, 1000, 2, 'sqrt', 2, 3]\n",
      "Iteration No: 245 ended. Search finished for the next optimal point.\n",
      "Time taken: 11.7136\n",
      "Function value obtained: -0.4941\n",
      "Current minimum: -0.5134\n",
      "Iteration No: 246 started. Searching for the next optimal point.\n",
      "[0.1, 1000, 2, 'sqrt', 6, 3]\n"
     ]
    },
    {
     "name": "stderr",
     "output_type": "stream",
     "text": [
      "/home/carcook/anaconda3/envs/TCGA-round1/lib/python3.8/site-packages/skopt/optimizer/optimizer.py:449: UserWarning: The objective has been evaluated at this point before.\n",
      "  warnings.warn(\"The objective has been evaluated \"\n"
     ]
    },
    {
     "name": "stdout",
     "output_type": "stream",
     "text": [
      "Iteration No: 246 ended. Search finished for the next optimal point.\n",
      "Time taken: 11.5772\n",
      "Function value obtained: -0.4847\n",
      "Current minimum: -0.5134\n",
      "Iteration No: 247 started. Searching for the next optimal point.\n",
      "[0.1, 1000, 2, 'sqrt', 2, 3]\n"
     ]
    },
    {
     "name": "stderr",
     "output_type": "stream",
     "text": [
      "/home/carcook/anaconda3/envs/TCGA-round1/lib/python3.8/site-packages/skopt/optimizer/optimizer.py:449: UserWarning: The objective has been evaluated at this point before.\n",
      "  warnings.warn(\"The objective has been evaluated \"\n"
     ]
    },
    {
     "name": "stdout",
     "output_type": "stream",
     "text": [
      "Iteration No: 247 ended. Search finished for the next optimal point.\n",
      "Time taken: 11.8438\n",
      "Function value obtained: -0.5038\n",
      "Current minimum: -0.5134\n",
      "Iteration No: 248 started. Searching for the next optimal point.\n",
      "[0.1, 1000, 2, 'sqrt', 2, 3]\n"
     ]
    },
    {
     "name": "stderr",
     "output_type": "stream",
     "text": [
      "/home/carcook/anaconda3/envs/TCGA-round1/lib/python3.8/site-packages/skopt/optimizer/optimizer.py:449: UserWarning: The objective has been evaluated at this point before.\n",
      "  warnings.warn(\"The objective has been evaluated \"\n"
     ]
    },
    {
     "name": "stdout",
     "output_type": "stream",
     "text": [
      "Iteration No: 248 ended. Search finished for the next optimal point.\n",
      "Time taken: 11.6838\n",
      "Function value obtained: -0.4958\n",
      "Current minimum: -0.5134\n",
      "Iteration No: 249 started. Searching for the next optimal point.\n",
      "[0.1, 1000, 2, 'sqrt', 2, 3]\n"
     ]
    },
    {
     "name": "stderr",
     "output_type": "stream",
     "text": [
      "/home/carcook/anaconda3/envs/TCGA-round1/lib/python3.8/site-packages/skopt/optimizer/optimizer.py:449: UserWarning: The objective has been evaluated at this point before.\n",
      "  warnings.warn(\"The objective has been evaluated \"\n"
     ]
    },
    {
     "name": "stdout",
     "output_type": "stream",
     "text": [
      "Iteration No: 249 ended. Search finished for the next optimal point.\n",
      "Time taken: 11.8645\n",
      "Function value obtained: -0.4900\n",
      "Current minimum: -0.5134\n",
      "Iteration No: 250 started. Searching for the next optimal point.\n",
      "[0.1, 1000, 2, 'sqrt', 2, 3]\n"
     ]
    },
    {
     "name": "stderr",
     "output_type": "stream",
     "text": [
      "/home/carcook/anaconda3/envs/TCGA-round1/lib/python3.8/site-packages/skopt/optimizer/optimizer.py:449: UserWarning: The objective has been evaluated at this point before.\n",
      "  warnings.warn(\"The objective has been evaluated \"\n"
     ]
    },
    {
     "name": "stdout",
     "output_type": "stream",
     "text": [
      "Iteration No: 250 ended. Search finished for the next optimal point.\n",
      "Time taken: 11.5235\n",
      "Function value obtained: -0.4970\n",
      "Current minimum: -0.5134\n",
      "Iteration No: 251 started. Searching for the next optimal point.\n",
      "[0.1, 1000, 2, 'sqrt', 2, 3]\n"
     ]
    },
    {
     "name": "stderr",
     "output_type": "stream",
     "text": [
      "/home/carcook/anaconda3/envs/TCGA-round1/lib/python3.8/site-packages/skopt/optimizer/optimizer.py:449: UserWarning: The objective has been evaluated at this point before.\n",
      "  warnings.warn(\"The objective has been evaluated \"\n"
     ]
    },
    {
     "name": "stdout",
     "output_type": "stream",
     "text": [
      "Iteration No: 251 ended. Search finished for the next optimal point.\n",
      "Time taken: 11.8635\n",
      "Function value obtained: -0.4670\n",
      "Current minimum: -0.5134\n",
      "Iteration No: 252 started. Searching for the next optimal point.\n",
      "[0.1, 1000, 2, 'sqrt', 2, 3]\n"
     ]
    },
    {
     "name": "stderr",
     "output_type": "stream",
     "text": [
      "/home/carcook/anaconda3/envs/TCGA-round1/lib/python3.8/site-packages/skopt/optimizer/optimizer.py:449: UserWarning: The objective has been evaluated at this point before.\n",
      "  warnings.warn(\"The objective has been evaluated \"\n"
     ]
    },
    {
     "name": "stdout",
     "output_type": "stream",
     "text": [
      "Iteration No: 252 ended. Search finished for the next optimal point.\n",
      "Time taken: 12.7974\n",
      "Function value obtained: -0.4998\n",
      "Current minimum: -0.5134\n",
      "Iteration No: 253 started. Searching for the next optimal point.\n",
      "[0.0897932976041452, 1000, 2, 'sqrt', 2, 3]\n",
      "Iteration No: 253 ended. Search finished for the next optimal point.\n",
      "Time taken: 11.8851\n",
      "Function value obtained: -0.4902\n",
      "Current minimum: -0.5134\n",
      "Iteration No: 254 started. Searching for the next optimal point.\n",
      "[0.1, 1000, 2, 'sqrt', 2, 3]\n"
     ]
    },
    {
     "name": "stderr",
     "output_type": "stream",
     "text": [
      "/home/carcook/anaconda3/envs/TCGA-round1/lib/python3.8/site-packages/skopt/optimizer/optimizer.py:449: UserWarning: The objective has been evaluated at this point before.\n",
      "  warnings.warn(\"The objective has been evaluated \"\n"
     ]
    },
    {
     "name": "stdout",
     "output_type": "stream",
     "text": [
      "Iteration No: 254 ended. Search finished for the next optimal point.\n",
      "Time taken: 12.7459\n",
      "Function value obtained: -0.4883\n",
      "Current minimum: -0.5134\n",
      "Iteration No: 255 started. Searching for the next optimal point.\n",
      "[0.1, 1000, 2, 'sqrt', 2, 3]\n"
     ]
    },
    {
     "name": "stderr",
     "output_type": "stream",
     "text": [
      "/home/carcook/anaconda3/envs/TCGA-round1/lib/python3.8/site-packages/skopt/optimizer/optimizer.py:449: UserWarning: The objective has been evaluated at this point before.\n",
      "  warnings.warn(\"The objective has been evaluated \"\n"
     ]
    },
    {
     "name": "stdout",
     "output_type": "stream",
     "text": [
      "Iteration No: 255 ended. Search finished for the next optimal point.\n",
      "Time taken: 14.6352\n",
      "Function value obtained: -0.4686\n",
      "Current minimum: -0.5134\n",
      "Iteration No: 256 started. Searching for the next optimal point.\n",
      "[0.1, 1000, 2, 'sqrt', 2, 3]\n"
     ]
    },
    {
     "name": "stderr",
     "output_type": "stream",
     "text": [
      "/home/carcook/anaconda3/envs/TCGA-round1/lib/python3.8/site-packages/skopt/optimizer/optimizer.py:449: UserWarning: The objective has been evaluated at this point before.\n",
      "  warnings.warn(\"The objective has been evaluated \"\n"
     ]
    },
    {
     "name": "stdout",
     "output_type": "stream",
     "text": [
      "Iteration No: 256 ended. Search finished for the next optimal point.\n",
      "Time taken: 13.2022\n",
      "Function value obtained: -0.4925\n",
      "Current minimum: -0.5134\n",
      "Iteration No: 257 started. Searching for the next optimal point.\n",
      "[0.08674604879641395, 1000, 2, 'sqrt', 2, 3]\n",
      "Iteration No: 257 ended. Search finished for the next optimal point.\n",
      "Time taken: 13.4263\n",
      "Function value obtained: -0.4903\n",
      "Current minimum: -0.5134\n",
      "Iteration No: 258 started. Searching for the next optimal point.\n",
      "[0.08684406522409495, 1000, 2, 'sqrt', 2, 3]\n",
      "Iteration No: 258 ended. Search finished for the next optimal point.\n",
      "Time taken: 12.7172\n",
      "Function value obtained: -0.4734\n",
      "Current minimum: -0.5134\n",
      "Iteration No: 259 started. Searching for the next optimal point.\n",
      "[0.1, 1000, 2, 'sqrt', 2, 3]\n"
     ]
    },
    {
     "name": "stderr",
     "output_type": "stream",
     "text": [
      "/home/carcook/anaconda3/envs/TCGA-round1/lib/python3.8/site-packages/skopt/optimizer/optimizer.py:449: UserWarning: The objective has been evaluated at this point before.\n",
      "  warnings.warn(\"The objective has been evaluated \"\n"
     ]
    },
    {
     "name": "stdout",
     "output_type": "stream",
     "text": [
      "Iteration No: 259 ended. Search finished for the next optimal point.\n",
      "Time taken: 12.8165\n",
      "Function value obtained: -0.4967\n",
      "Current minimum: -0.5134\n",
      "Iteration No: 260 started. Searching for the next optimal point.\n",
      "[0.04880309778730984, 1000, 2, 'sqrt', 2, 2]\n",
      "Iteration No: 260 ended. Search finished for the next optimal point.\n",
      "Time taken: 12.5814\n",
      "Function value obtained: -0.4896\n",
      "Current minimum: -0.5134\n",
      "Iteration No: 261 started. Searching for the next optimal point.\n",
      "[0.04950318887719466, 1000, 2, 'sqrt', 2, 3]\n",
      "Iteration No: 261 ended. Search finished for the next optimal point.\n",
      "Time taken: 12.4306\n",
      "Function value obtained: -0.4868\n",
      "Current minimum: -0.5134\n",
      "Iteration No: 262 started. Searching for the next optimal point.\n",
      "[0.1, 1000, 2, 'sqrt', 6, 3]\n"
     ]
    },
    {
     "name": "stderr",
     "output_type": "stream",
     "text": [
      "/home/carcook/anaconda3/envs/TCGA-round1/lib/python3.8/site-packages/skopt/optimizer/optimizer.py:449: UserWarning: The objective has been evaluated at this point before.\n",
      "  warnings.warn(\"The objective has been evaluated \"\n"
     ]
    },
    {
     "name": "stdout",
     "output_type": "stream",
     "text": [
      "Iteration No: 262 ended. Search finished for the next optimal point.\n",
      "Time taken: 12.4755\n",
      "Function value obtained: -0.5042\n",
      "Current minimum: -0.5134\n",
      "Iteration No: 263 started. Searching for the next optimal point.\n",
      "[0.1, 1000, 2, 'sqrt', 6, 3]\n"
     ]
    },
    {
     "name": "stderr",
     "output_type": "stream",
     "text": [
      "/home/carcook/anaconda3/envs/TCGA-round1/lib/python3.8/site-packages/skopt/optimizer/optimizer.py:449: UserWarning: The objective has been evaluated at this point before.\n",
      "  warnings.warn(\"The objective has been evaluated \"\n"
     ]
    },
    {
     "name": "stdout",
     "output_type": "stream",
     "text": [
      "Iteration No: 263 ended. Search finished for the next optimal point.\n",
      "Time taken: 13.8498\n",
      "Function value obtained: -0.4914\n",
      "Current minimum: -0.5134\n",
      "Iteration No: 264 started. Searching for the next optimal point.\n",
      "[0.1, 1000, 2, 'sqrt', 6, 3]\n"
     ]
    },
    {
     "name": "stderr",
     "output_type": "stream",
     "text": [
      "/home/carcook/anaconda3/envs/TCGA-round1/lib/python3.8/site-packages/skopt/optimizer/optimizer.py:449: UserWarning: The objective has been evaluated at this point before.\n",
      "  warnings.warn(\"The objective has been evaluated \"\n"
     ]
    },
    {
     "name": "stdout",
     "output_type": "stream",
     "text": [
      "Iteration No: 264 ended. Search finished for the next optimal point.\n",
      "Time taken: 14.0995\n",
      "Function value obtained: -0.4887\n",
      "Current minimum: -0.5134\n",
      "Iteration No: 265 started. Searching for the next optimal point.\n",
      "[0.0484875630047562, 1000, 2, 'sqrt', 2, 2]\n",
      "Iteration No: 265 ended. Search finished for the next optimal point.\n",
      "Time taken: 17.3414\n",
      "Function value obtained: -0.4834\n",
      "Current minimum: -0.5134\n",
      "Iteration No: 266 started. Searching for the next optimal point.\n",
      "[0.1, 1000, 2, 'sqrt', 2, 3]\n"
     ]
    },
    {
     "name": "stderr",
     "output_type": "stream",
     "text": [
      "/home/carcook/anaconda3/envs/TCGA-round1/lib/python3.8/site-packages/skopt/optimizer/optimizer.py:449: UserWarning: The objective has been evaluated at this point before.\n",
      "  warnings.warn(\"The objective has been evaluated \"\n"
     ]
    },
    {
     "name": "stdout",
     "output_type": "stream",
     "text": [
      "Iteration No: 266 ended. Search finished for the next optimal point.\n",
      "Time taken: 16.1538\n",
      "Function value obtained: -0.4859\n",
      "Current minimum: -0.5134\n",
      "Iteration No: 267 started. Searching for the next optimal point.\n",
      "[0.04869766917532669, 1000, 2, 'sqrt', 2, 3]\n",
      "Iteration No: 267 ended. Search finished for the next optimal point.\n",
      "Time taken: 14.0912\n",
      "Function value obtained: -0.4744\n",
      "Current minimum: -0.5134\n",
      "Iteration No: 268 started. Searching for the next optimal point.\n",
      "[0.1, 1000, 2, 'sqrt', 6, 3]\n"
     ]
    },
    {
     "name": "stderr",
     "output_type": "stream",
     "text": [
      "/home/carcook/anaconda3/envs/TCGA-round1/lib/python3.8/site-packages/skopt/optimizer/optimizer.py:449: UserWarning: The objective has been evaluated at this point before.\n",
      "  warnings.warn(\"The objective has been evaluated \"\n"
     ]
    },
    {
     "name": "stdout",
     "output_type": "stream",
     "text": [
      "Iteration No: 268 ended. Search finished for the next optimal point.\n",
      "Time taken: 13.3086\n",
      "Function value obtained: -0.4835\n",
      "Current minimum: -0.5134\n",
      "Iteration No: 269 started. Searching for the next optimal point.\n",
      "[0.1, 1000, 2, 'sqrt', 2, 3]\n"
     ]
    },
    {
     "name": "stderr",
     "output_type": "stream",
     "text": [
      "/home/carcook/anaconda3/envs/TCGA-round1/lib/python3.8/site-packages/skopt/optimizer/optimizer.py:449: UserWarning: The objective has been evaluated at this point before.\n",
      "  warnings.warn(\"The objective has been evaluated \"\n"
     ]
    },
    {
     "name": "stdout",
     "output_type": "stream",
     "text": [
      "Iteration No: 269 ended. Search finished for the next optimal point.\n",
      "Time taken: 13.7100\n",
      "Function value obtained: -0.5017\n",
      "Current minimum: -0.5134\n",
      "Iteration No: 270 started. Searching for the next optimal point.\n",
      "[0.1, 1000, 2, 'sqrt', 2, 3]\n"
     ]
    },
    {
     "name": "stderr",
     "output_type": "stream",
     "text": [
      "/home/carcook/anaconda3/envs/TCGA-round1/lib/python3.8/site-packages/skopt/optimizer/optimizer.py:449: UserWarning: The objective has been evaluated at this point before.\n",
      "  warnings.warn(\"The objective has been evaluated \"\n"
     ]
    },
    {
     "name": "stdout",
     "output_type": "stream",
     "text": [
      "Iteration No: 270 ended. Search finished for the next optimal point.\n",
      "Time taken: 13.5080\n",
      "Function value obtained: -0.4911\n",
      "Current minimum: -0.5134\n",
      "Iteration No: 271 started. Searching for the next optimal point.\n",
      "[0.1, 1000, 2, 'sqrt', 2, 3]\n"
     ]
    },
    {
     "name": "stderr",
     "output_type": "stream",
     "text": [
      "/home/carcook/anaconda3/envs/TCGA-round1/lib/python3.8/site-packages/skopt/optimizer/optimizer.py:449: UserWarning: The objective has been evaluated at this point before.\n",
      "  warnings.warn(\"The objective has been evaluated \"\n"
     ]
    },
    {
     "name": "stdout",
     "output_type": "stream",
     "text": [
      "Iteration No: 271 ended. Search finished for the next optimal point.\n",
      "Time taken: 13.7619\n",
      "Function value obtained: -0.4947\n",
      "Current minimum: -0.5134\n",
      "Iteration No: 272 started. Searching for the next optimal point.\n",
      "[0.055389460688408006, 1000, 2, 'sqrt', 2, 3]\n",
      "Iteration No: 272 ended. Search finished for the next optimal point.\n",
      "Time taken: 13.9133\n",
      "Function value obtained: -0.4900\n",
      "Current minimum: -0.5134\n",
      "Iteration No: 273 started. Searching for the next optimal point.\n",
      "[0.1, 1000, 2, 'sqrt', 6, 3]\n"
     ]
    },
    {
     "name": "stderr",
     "output_type": "stream",
     "text": [
      "/home/carcook/anaconda3/envs/TCGA-round1/lib/python3.8/site-packages/skopt/optimizer/optimizer.py:449: UserWarning: The objective has been evaluated at this point before.\n",
      "  warnings.warn(\"The objective has been evaluated \"\n"
     ]
    },
    {
     "name": "stdout",
     "output_type": "stream",
     "text": [
      "Iteration No: 273 ended. Search finished for the next optimal point.\n",
      "Time taken: 13.7605\n",
      "Function value obtained: -0.4842\n",
      "Current minimum: -0.5134\n",
      "Iteration No: 274 started. Searching for the next optimal point.\n",
      "[0.05381791116070061, 1000, 2, 'sqrt', 2, 3]\n",
      "Iteration No: 274 ended. Search finished for the next optimal point.\n",
      "Time taken: 14.1470\n",
      "Function value obtained: -0.5122\n",
      "Current minimum: -0.5134\n",
      "Iteration No: 275 started. Searching for the next optimal point.\n",
      "[0.1, 1000, 2, 'sqrt', 2, 3]\n"
     ]
    },
    {
     "name": "stderr",
     "output_type": "stream",
     "text": [
      "/home/carcook/anaconda3/envs/TCGA-round1/lib/python3.8/site-packages/skopt/optimizer/optimizer.py:449: UserWarning: The objective has been evaluated at this point before.\n",
      "  warnings.warn(\"The objective has been evaluated \"\n"
     ]
    },
    {
     "name": "stdout",
     "output_type": "stream",
     "text": [
      "Iteration No: 275 ended. Search finished for the next optimal point.\n",
      "Time taken: 13.4500\n",
      "Function value obtained: -0.5060\n",
      "Current minimum: -0.5134\n",
      "Iteration No: 276 started. Searching for the next optimal point.\n",
      "[0.1, 1000, 2, 'sqrt', 2, 3]\n"
     ]
    },
    {
     "name": "stderr",
     "output_type": "stream",
     "text": [
      "/home/carcook/anaconda3/envs/TCGA-round1/lib/python3.8/site-packages/skopt/optimizer/optimizer.py:449: UserWarning: The objective has been evaluated at this point before.\n",
      "  warnings.warn(\"The objective has been evaluated \"\n"
     ]
    },
    {
     "name": "stdout",
     "output_type": "stream",
     "text": [
      "Iteration No: 276 ended. Search finished for the next optimal point.\n",
      "Time taken: 13.3081\n",
      "Function value obtained: -0.5013\n",
      "Current minimum: -0.5134\n",
      "Iteration No: 277 started. Searching for the next optimal point.\n",
      "[0.1, 1000, 2, 'sqrt', 6, 3]\n"
     ]
    },
    {
     "name": "stderr",
     "output_type": "stream",
     "text": [
      "/home/carcook/anaconda3/envs/TCGA-round1/lib/python3.8/site-packages/skopt/optimizer/optimizer.py:449: UserWarning: The objective has been evaluated at this point before.\n",
      "  warnings.warn(\"The objective has been evaluated \"\n"
     ]
    },
    {
     "name": "stdout",
     "output_type": "stream",
     "text": [
      "Iteration No: 277 ended. Search finished for the next optimal point.\n",
      "Time taken: 13.3276\n",
      "Function value obtained: -0.4988\n",
      "Current minimum: -0.5134\n",
      "Iteration No: 278 started. Searching for the next optimal point.\n",
      "[0.1, 1000, 2, 'sqrt', 2, 3]\n"
     ]
    },
    {
     "name": "stderr",
     "output_type": "stream",
     "text": [
      "/home/carcook/anaconda3/envs/TCGA-round1/lib/python3.8/site-packages/skopt/optimizer/optimizer.py:449: UserWarning: The objective has been evaluated at this point before.\n",
      "  warnings.warn(\"The objective has been evaluated \"\n"
     ]
    },
    {
     "name": "stdout",
     "output_type": "stream",
     "text": [
      "Iteration No: 278 ended. Search finished for the next optimal point.\n",
      "Time taken: 15.0534\n",
      "Function value obtained: -0.4963\n",
      "Current minimum: -0.5134\n",
      "Iteration No: 279 started. Searching for the next optimal point.\n",
      "[0.1, 1000, 2, 'sqrt', 2, 3]\n"
     ]
    },
    {
     "name": "stderr",
     "output_type": "stream",
     "text": [
      "/home/carcook/anaconda3/envs/TCGA-round1/lib/python3.8/site-packages/skopt/optimizer/optimizer.py:449: UserWarning: The objective has been evaluated at this point before.\n",
      "  warnings.warn(\"The objective has been evaluated \"\n"
     ]
    },
    {
     "name": "stdout",
     "output_type": "stream",
     "text": [
      "Iteration No: 279 ended. Search finished for the next optimal point.\n",
      "Time taken: 13.3369\n",
      "Function value obtained: -0.4879\n",
      "Current minimum: -0.5134\n",
      "Iteration No: 280 started. Searching for the next optimal point.\n",
      "[0.1, 1000, 2, 'sqrt', 2, 3]\n"
     ]
    },
    {
     "name": "stderr",
     "output_type": "stream",
     "text": [
      "/home/carcook/anaconda3/envs/TCGA-round1/lib/python3.8/site-packages/skopt/optimizer/optimizer.py:449: UserWarning: The objective has been evaluated at this point before.\n",
      "  warnings.warn(\"The objective has been evaluated \"\n"
     ]
    },
    {
     "name": "stdout",
     "output_type": "stream",
     "text": [
      "Iteration No: 280 ended. Search finished for the next optimal point.\n",
      "Time taken: 13.8208\n",
      "Function value obtained: -0.4931\n",
      "Current minimum: -0.5134\n",
      "Iteration No: 281 started. Searching for the next optimal point.\n",
      "[0.1, 1000, 2, 'sqrt', 2, 3]\n"
     ]
    },
    {
     "name": "stderr",
     "output_type": "stream",
     "text": [
      "/home/carcook/anaconda3/envs/TCGA-round1/lib/python3.8/site-packages/skopt/optimizer/optimizer.py:449: UserWarning: The objective has been evaluated at this point before.\n",
      "  warnings.warn(\"The objective has been evaluated \"\n"
     ]
    },
    {
     "name": "stdout",
     "output_type": "stream",
     "text": [
      "Iteration No: 281 ended. Search finished for the next optimal point.\n",
      "Time taken: 14.0222\n",
      "Function value obtained: -0.4919\n",
      "Current minimum: -0.5134\n",
      "Iteration No: 282 started. Searching for the next optimal point.\n",
      "[0.1, 1000, 2, 'sqrt', 2, 3]\n"
     ]
    },
    {
     "name": "stderr",
     "output_type": "stream",
     "text": [
      "/home/carcook/anaconda3/envs/TCGA-round1/lib/python3.8/site-packages/skopt/optimizer/optimizer.py:449: UserWarning: The objective has been evaluated at this point before.\n",
      "  warnings.warn(\"The objective has been evaluated \"\n"
     ]
    },
    {
     "name": "stdout",
     "output_type": "stream",
     "text": [
      "Iteration No: 282 ended. Search finished for the next optimal point.\n",
      "Time taken: 13.3407\n",
      "Function value obtained: -0.4818\n",
      "Current minimum: -0.5134\n",
      "Iteration No: 283 started. Searching for the next optimal point.\n",
      "[0.1, 1000, 2, 'sqrt', 2, 3]\n"
     ]
    },
    {
     "name": "stderr",
     "output_type": "stream",
     "text": [
      "/home/carcook/anaconda3/envs/TCGA-round1/lib/python3.8/site-packages/skopt/optimizer/optimizer.py:449: UserWarning: The objective has been evaluated at this point before.\n",
      "  warnings.warn(\"The objective has been evaluated \"\n"
     ]
    },
    {
     "name": "stdout",
     "output_type": "stream",
     "text": [
      "Iteration No: 283 ended. Search finished for the next optimal point.\n",
      "Time taken: 13.4108\n",
      "Function value obtained: -0.4931\n",
      "Current minimum: -0.5134\n",
      "Iteration No: 284 started. Searching for the next optimal point.\n",
      "[0.1, 1000, 2, 'sqrt', 2, 3]\n"
     ]
    },
    {
     "name": "stderr",
     "output_type": "stream",
     "text": [
      "/home/carcook/anaconda3/envs/TCGA-round1/lib/python3.8/site-packages/skopt/optimizer/optimizer.py:449: UserWarning: The objective has been evaluated at this point before.\n",
      "  warnings.warn(\"The objective has been evaluated \"\n"
     ]
    },
    {
     "name": "stdout",
     "output_type": "stream",
     "text": [
      "Iteration No: 284 ended. Search finished for the next optimal point.\n",
      "Time taken: 13.4811\n",
      "Function value obtained: -0.4794\n",
      "Current minimum: -0.5134\n",
      "Iteration No: 285 started. Searching for the next optimal point.\n",
      "[0.1, 1000, 2, 'sqrt', 2, 3]\n"
     ]
    },
    {
     "name": "stderr",
     "output_type": "stream",
     "text": [
      "/home/carcook/anaconda3/envs/TCGA-round1/lib/python3.8/site-packages/skopt/optimizer/optimizer.py:449: UserWarning: The objective has been evaluated at this point before.\n",
      "  warnings.warn(\"The objective has been evaluated \"\n"
     ]
    },
    {
     "name": "stdout",
     "output_type": "stream",
     "text": [
      "Iteration No: 285 ended. Search finished for the next optimal point.\n",
      "Time taken: 13.3276\n",
      "Function value obtained: -0.4772\n",
      "Current minimum: -0.5134\n",
      "Iteration No: 286 started. Searching for the next optimal point.\n",
      "[0.1, 1000, 2, 'sqrt', 6, 3]\n"
     ]
    },
    {
     "name": "stderr",
     "output_type": "stream",
     "text": [
      "/home/carcook/anaconda3/envs/TCGA-round1/lib/python3.8/site-packages/skopt/optimizer/optimizer.py:449: UserWarning: The objective has been evaluated at this point before.\n",
      "  warnings.warn(\"The objective has been evaluated \"\n"
     ]
    },
    {
     "name": "stdout",
     "output_type": "stream",
     "text": [
      "Iteration No: 286 ended. Search finished for the next optimal point.\n",
      "Time taken: 13.6412\n",
      "Function value obtained: -0.4903\n",
      "Current minimum: -0.5134\n",
      "Iteration No: 287 started. Searching for the next optimal point.\n",
      "[0.1, 1000, 2, 'sqrt', 2, 3]\n"
     ]
    },
    {
     "name": "stderr",
     "output_type": "stream",
     "text": [
      "/home/carcook/anaconda3/envs/TCGA-round1/lib/python3.8/site-packages/skopt/optimizer/optimizer.py:449: UserWarning: The objective has been evaluated at this point before.\n",
      "  warnings.warn(\"The objective has been evaluated \"\n"
     ]
    },
    {
     "name": "stdout",
     "output_type": "stream",
     "text": [
      "Iteration No: 287 ended. Search finished for the next optimal point.\n",
      "Time taken: 13.8885\n",
      "Function value obtained: -0.4919\n",
      "Current minimum: -0.5134\n",
      "Iteration No: 288 started. Searching for the next optimal point.\n",
      "[0.05551070958502263, 1000, 2, 'sqrt', 2, 3]\n",
      "Iteration No: 288 ended. Search finished for the next optimal point.\n",
      "Time taken: 13.8514\n",
      "Function value obtained: -0.4833\n",
      "Current minimum: -0.5134\n",
      "Iteration No: 289 started. Searching for the next optimal point.\n",
      "[0.1, 1000, 2, 'sqrt', 2, 3]\n"
     ]
    },
    {
     "name": "stderr",
     "output_type": "stream",
     "text": [
      "/home/carcook/anaconda3/envs/TCGA-round1/lib/python3.8/site-packages/skopt/optimizer/optimizer.py:449: UserWarning: The objective has been evaluated at this point before.\n",
      "  warnings.warn(\"The objective has been evaluated \"\n"
     ]
    },
    {
     "name": "stdout",
     "output_type": "stream",
     "text": [
      "Iteration No: 289 ended. Search finished for the next optimal point.\n",
      "Time taken: 13.7225\n",
      "Function value obtained: -0.4865\n",
      "Current minimum: -0.5134\n",
      "Iteration No: 290 started. Searching for the next optimal point.\n",
      "[0.053613730998197724, 1000, 2, 'sqrt', 2, 3]\n",
      "Iteration No: 290 ended. Search finished for the next optimal point.\n",
      "Time taken: 14.0348\n",
      "Function value obtained: -0.4957\n",
      "Current minimum: -0.5134\n",
      "Iteration No: 291 started. Searching for the next optimal point.\n",
      "[0.1, 1000, 2, 'sqrt', 2, 3]\n"
     ]
    },
    {
     "name": "stderr",
     "output_type": "stream",
     "text": [
      "/home/carcook/anaconda3/envs/TCGA-round1/lib/python3.8/site-packages/skopt/optimizer/optimizer.py:449: UserWarning: The objective has been evaluated at this point before.\n",
      "  warnings.warn(\"The objective has been evaluated \"\n"
     ]
    },
    {
     "name": "stdout",
     "output_type": "stream",
     "text": [
      "Iteration No: 291 ended. Search finished for the next optimal point.\n",
      "Time taken: 14.2488\n",
      "Function value obtained: -0.4830\n",
      "Current minimum: -0.5134\n",
      "Iteration No: 292 started. Searching for the next optimal point.\n",
      "[0.1, 1000, 2, 'sqrt', 2, 3]\n"
     ]
    },
    {
     "name": "stderr",
     "output_type": "stream",
     "text": [
      "/home/carcook/anaconda3/envs/TCGA-round1/lib/python3.8/site-packages/skopt/optimizer/optimizer.py:449: UserWarning: The objective has been evaluated at this point before.\n",
      "  warnings.warn(\"The objective has been evaluated \"\n"
     ]
    },
    {
     "name": "stdout",
     "output_type": "stream",
     "text": [
      "Iteration No: 292 ended. Search finished for the next optimal point.\n",
      "Time taken: 14.1889\n",
      "Function value obtained: -0.5037\n",
      "Current minimum: -0.5134\n",
      "Iteration No: 293 started. Searching for the next optimal point.\n",
      "[0.1, 1000, 2, 'sqrt', 6, 3]\n"
     ]
    },
    {
     "name": "stderr",
     "output_type": "stream",
     "text": [
      "/home/carcook/anaconda3/envs/TCGA-round1/lib/python3.8/site-packages/skopt/optimizer/optimizer.py:449: UserWarning: The objective has been evaluated at this point before.\n",
      "  warnings.warn(\"The objective has been evaluated \"\n"
     ]
    },
    {
     "name": "stdout",
     "output_type": "stream",
     "text": [
      "Iteration No: 293 ended. Search finished for the next optimal point.\n",
      "Time taken: 13.5069\n",
      "Function value obtained: -0.4935\n",
      "Current minimum: -0.5134\n",
      "Iteration No: 294 started. Searching for the next optimal point.\n",
      "[0.1, 1000, 2, 'sqrt', 2, 3]\n"
     ]
    },
    {
     "name": "stderr",
     "output_type": "stream",
     "text": [
      "/home/carcook/anaconda3/envs/TCGA-round1/lib/python3.8/site-packages/skopt/optimizer/optimizer.py:449: UserWarning: The objective has been evaluated at this point before.\n",
      "  warnings.warn(\"The objective has been evaluated \"\n"
     ]
    },
    {
     "name": "stdout",
     "output_type": "stream",
     "text": [
      "Iteration No: 294 ended. Search finished for the next optimal point.\n",
      "Time taken: 13.3399\n",
      "Function value obtained: -0.4908\n",
      "Current minimum: -0.5134\n",
      "Iteration No: 295 started. Searching for the next optimal point.\n",
      "[0.1, 1000, 2, 'sqrt', 6, 3]\n"
     ]
    },
    {
     "name": "stderr",
     "output_type": "stream",
     "text": [
      "/home/carcook/anaconda3/envs/TCGA-round1/lib/python3.8/site-packages/skopt/optimizer/optimizer.py:449: UserWarning: The objective has been evaluated at this point before.\n",
      "  warnings.warn(\"The objective has been evaluated \"\n"
     ]
    },
    {
     "name": "stdout",
     "output_type": "stream",
     "text": [
      "Iteration No: 295 ended. Search finished for the next optimal point.\n",
      "Time taken: 13.8072\n",
      "Function value obtained: -0.4949\n",
      "Current minimum: -0.5134\n",
      "Iteration No: 296 started. Searching for the next optimal point.\n",
      "[0.1, 1000, 2, 'sqrt', 6, 3]\n"
     ]
    },
    {
     "name": "stderr",
     "output_type": "stream",
     "text": [
      "/home/carcook/anaconda3/envs/TCGA-round1/lib/python3.8/site-packages/skopt/optimizer/optimizer.py:449: UserWarning: The objective has been evaluated at this point before.\n",
      "  warnings.warn(\"The objective has been evaluated \"\n"
     ]
    },
    {
     "name": "stdout",
     "output_type": "stream",
     "text": [
      "Iteration No: 296 ended. Search finished for the next optimal point.\n",
      "Time taken: 14.5038\n",
      "Function value obtained: -0.4948\n",
      "Current minimum: -0.5134\n",
      "Iteration No: 297 started. Searching for the next optimal point.\n",
      "[0.1, 1000, 2, 'sqrt', 2, 3]\n"
     ]
    },
    {
     "name": "stderr",
     "output_type": "stream",
     "text": [
      "/home/carcook/anaconda3/envs/TCGA-round1/lib/python3.8/site-packages/skopt/optimizer/optimizer.py:449: UserWarning: The objective has been evaluated at this point before.\n",
      "  warnings.warn(\"The objective has been evaluated \"\n"
     ]
    },
    {
     "name": "stdout",
     "output_type": "stream",
     "text": [
      "Iteration No: 297 ended. Search finished for the next optimal point.\n",
      "Time taken: 14.2453\n",
      "Function value obtained: -0.4938\n",
      "Current minimum: -0.5134\n",
      "Iteration No: 298 started. Searching for the next optimal point.\n",
      "[0.1, 1000, 2, 'sqrt', 6, 3]\n"
     ]
    },
    {
     "name": "stderr",
     "output_type": "stream",
     "text": [
      "/home/carcook/anaconda3/envs/TCGA-round1/lib/python3.8/site-packages/skopt/optimizer/optimizer.py:449: UserWarning: The objective has been evaluated at this point before.\n",
      "  warnings.warn(\"The objective has been evaluated \"\n"
     ]
    },
    {
     "name": "stdout",
     "output_type": "stream",
     "text": [
      "Iteration No: 298 ended. Search finished for the next optimal point.\n",
      "Time taken: 12.3134\n",
      "Function value obtained: -0.4921\n",
      "Current minimum: -0.5134\n",
      "Iteration No: 299 started. Searching for the next optimal point.\n",
      "[0.1, 1000, 2, 'sqrt', 6, 3]\n"
     ]
    },
    {
     "name": "stderr",
     "output_type": "stream",
     "text": [
      "/home/carcook/anaconda3/envs/TCGA-round1/lib/python3.8/site-packages/skopt/optimizer/optimizer.py:449: UserWarning: The objective has been evaluated at this point before.\n",
      "  warnings.warn(\"The objective has been evaluated \"\n"
     ]
    },
    {
     "name": "stdout",
     "output_type": "stream",
     "text": [
      "Iteration No: 299 ended. Search finished for the next optimal point.\n",
      "Time taken: 12.1494\n",
      "Function value obtained: -0.4915\n",
      "Current minimum: -0.5134\n",
      "Iteration No: 300 started. Searching for the next optimal point.\n",
      "[0.1, 1000, 2, 'sqrt', 6, 3]\n"
     ]
    },
    {
     "name": "stderr",
     "output_type": "stream",
     "text": [
      "/home/carcook/anaconda3/envs/TCGA-round1/lib/python3.8/site-packages/skopt/optimizer/optimizer.py:449: UserWarning: The objective has been evaluated at this point before.\n",
      "  warnings.warn(\"The objective has been evaluated \"\n"
     ]
    },
    {
     "name": "stdout",
     "output_type": "stream",
     "text": [
      "Iteration No: 300 ended. Search finished for the next optimal point.\n",
      "Time taken: 12.0556\n",
      "Function value obtained: -0.4984\n",
      "Current minimum: -0.5134\n"
     ]
    }
   ],
   "source": [
    "loss_default = \"deviance\"\n",
    "scoring_default = \"f1_weighted\"\n",
    "callback_file = f\"{unified_dsets[dset_idx]}_opt_gbc_h_params_{scoring_default}.tsv\"\n",
    "\n",
    "try:\n",
    "    os.remove(callback_file)\n",
    "except OSError:\n",
    "    pass\n",
    "\n",
    "res = gp_minimize(\n",
    "    lambda h_ps: objective(h_ps, x_df, y_df, loss_default, scoring_default, rand),\n",
    "    space,\n",
    "    verbose=True,\n",
    "    random_state=rand,\n",
    "    n_initial_points=n_initial,\n",
    "    n_calls=n_calls,\n",
    "    n_jobs=-1,\n",
    "    callback=lambda x: opt.save_callback(x, callback_file, n = 5, sep=\"\\t\")\n",
    ")"
   ]
  },
  {
   "cell_type": "code",
   "execution_count": null,
   "metadata": {},
   "outputs": [],
   "source": []
  }
 ],
 "metadata": {
  "kernelspec": {
   "display_name": "Python 3",
   "language": "python",
   "name": "python3"
  },
  "language_info": {
   "codemirror_mode": {
    "name": "ipython",
    "version": 3
   },
   "file_extension": ".py",
   "mimetype": "text/x-python",
   "name": "python",
   "nbconvert_exporter": "python",
   "pygments_lexer": "ipython3",
   "version": "3.8.3"
  }
 },
 "nbformat": 4,
 "nbformat_minor": 4
}
