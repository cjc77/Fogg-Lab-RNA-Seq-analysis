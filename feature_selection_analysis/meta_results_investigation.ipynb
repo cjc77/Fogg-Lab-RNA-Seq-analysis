{
 "cells": [
  {
   "cell_type": "code",
   "execution_count": 1,
   "metadata": {
    "collapsed": true,
    "jupyter": {
     "outputs_hidden": true
    }
   },
   "outputs": [
    {
     "name": "stderr",
     "output_type": "stream",
     "text": [
      "── Attaching packages ─────────────────────────────────────── tidyverse 1.3.0 ──\n",
      "✔ ggplot2 3.3.2     ✔ purrr   0.3.4\n",
      "✔ tibble  3.0.3     ✔ dplyr   1.0.0\n",
      "✔ tidyr   1.1.0     ✔ stringr 1.4.0\n",
      "✔ readr   1.3.1     ✔ forcats 0.5.0\n",
      "── Conflicts ────────────────────────────────────────── tidyverse_conflicts() ──\n",
      "✖ dplyr::filter() masks stats::filter()\n",
      "✖ dplyr::lag()    masks stats::lag()\n"
     ]
    }
   ],
   "source": [
    "library(tidyverse)\n",
    "\n",
    "# Custom package\n",
    "library(rutils)"
   ]
  },
  {
   "cell_type": "code",
   "execution_count": 2,
   "metadata": {
    "collapsed": true,
    "jupyter": {
     "outputs_hidden": true
    }
   },
   "outputs": [],
   "source": [
    "dirs <- rutils::get_dev_directories(dev_paths_file = \"../dev_paths.txt\")\n",
    "projects <- c(\"TCGA-CESC\", \"TCGA-UCS\", \"TCGA-UCEC\", \"TCGA-OV\")\n",
    "unified_dsets <- c(\"unified_cervical_data\", \"unified_uterine_data\", \"unified_uterine_endometrial_data\")\n",
    "matrisome_path <- paste0(dirs$data_dir, \"/matrisome/matrisome_hs_masterlist.tsv\")"
   ]
  },
  {
   "cell_type": "code",
   "execution_count": 3,
   "metadata": {
    "collapsed": true,
    "jupyter": {
     "outputs_hidden": true
    }
   },
   "outputs": [],
   "source": [
    "dset_idx <- 2"
   ]
  },
  {
   "cell_type": "code",
   "execution_count": 4,
   "metadata": {
    "collapsed": true,
    "jupyter": {
     "outputs_hidden": true
    }
   },
   "outputs": [],
   "source": [
    "p_thresh = 0.05\n",
    "lfc_thresh = log2(2)\n",
    "coxph_coeff_thresh = 0.0"
   ]
  },
  {
   "cell_type": "markdown",
   "metadata": {},
   "source": [
    "# DEG quick glance"
   ]
  },
  {
   "cell_type": "code",
   "execution_count": 5,
   "metadata": {
    "collapsed": true,
    "jupyter": {
     "outputs_hidden": true
    }
   },
   "outputs": [
    {
     "name": "stderr",
     "output_type": "stream",
     "text": [
      "Parsed with column specification:\n",
      "cols(\n",
      "  geneID = col_character(),\n",
      "  baseMean = col_double(),\n",
      "  log2FoldChange = col_double(),\n",
      "  lfcSE = col_double(),\n",
      "  stat = col_double(),\n",
      "  pvalue = col_double(),\n",
      "  padj = col_double()\n",
      ")\n"
     ]
    }
   ],
   "source": [
    "deg_results_df <- read_tsv(paste0(dirs$analysis_dir, \"/\", unified_dsets[dset_idx], \"_DESeq_results.tsv\"))"
   ]
  },
  {
   "cell_type": "code",
   "execution_count": 6,
   "metadata": {},
   "outputs": [
    {
     "data": {
      "text/html": [
       "<table>\n",
       "<caption>A tibble: 20 × 4</caption>\n",
       "<thead>\n",
       "\t<tr><th scope=col>geneID</th><th scope=col>baseMean</th><th scope=col>log2FoldChange</th><th scope=col>padj</th></tr>\n",
       "\t<tr><th scope=col>&lt;chr&gt;</th><th scope=col>&lt;dbl&gt;</th><th scope=col>&lt;dbl&gt;</th><th scope=col>&lt;dbl&gt;</th></tr>\n",
       "</thead>\n",
       "<tbody>\n",
       "\t<tr><td>CBX7  </td><td> 5921.31225</td><td>-4.618208</td><td> 0.000000e+00</td></tr>\n",
       "\t<tr><td>AURKA </td><td>  562.38661</td><td> 4.844620</td><td>4.775893e-249</td></tr>\n",
       "\t<tr><td>AUNIP </td><td>  102.95701</td><td> 4.245145</td><td>2.558909e-232</td></tr>\n",
       "\t<tr><td>NXPH4 </td><td>  447.19461</td><td> 8.081839</td><td>8.750641e-230</td></tr>\n",
       "\t<tr><td>CCNF  </td><td>  487.96660</td><td> 3.362696</td><td>2.193272e-226</td></tr>\n",
       "\t<tr><td>TCF23 </td><td>  825.94556</td><td>-8.268469</td><td>9.582032e-224</td></tr>\n",
       "\t<tr><td>KIF2C </td><td>  868.44071</td><td> 4.903658</td><td>7.673212e-219</td></tr>\n",
       "\t<tr><td>CBX2  </td><td> 1123.37530</td><td> 4.196122</td><td>3.082652e-214</td></tr>\n",
       "\t<tr><td>CDKN2A</td><td> 1344.24703</td><td> 6.989934</td><td>2.846574e-208</td></tr>\n",
       "\t<tr><td>OTX1  </td><td>   76.90961</td><td> 6.747420</td><td>6.499880e-205</td></tr>\n",
       "\t<tr><td>PRR11 </td><td>  255.94692</td><td> 4.149053</td><td>2.956054e-203</td></tr>\n",
       "\t<tr><td>ECT2  </td><td>  852.57087</td><td> 3.165138</td><td>8.611957e-198</td></tr>\n",
       "\t<tr><td>LMOD1 </td><td>21263.06191</td><td>-5.895592</td><td>3.202672e-197</td></tr>\n",
       "\t<tr><td>PLK1  </td><td>  813.42907</td><td> 4.064102</td><td>5.514192e-197</td></tr>\n",
       "\t<tr><td>SGOL2 </td><td>  333.55211</td><td> 3.246404</td><td>4.824586e-192</td></tr>\n",
       "\t<tr><td>CCNE1 </td><td>  567.45706</td><td> 5.355162</td><td>4.824586e-192</td></tr>\n",
       "\t<tr><td>GSTM5 </td><td> 1371.91703</td><td>-6.589146</td><td>2.450135e-190</td></tr>\n",
       "\t<tr><td>TACC3 </td><td> 1867.26025</td><td> 4.204630</td><td>2.514008e-190</td></tr>\n",
       "\t<tr><td>CHEK1 </td><td>  452.28478</td><td> 2.913481</td><td>3.430096e-189</td></tr>\n",
       "\t<tr><td>FAM49B</td><td> 1684.58713</td><td> 2.059250</td><td>1.898978e-185</td></tr>\n",
       "</tbody>\n",
       "</table>\n"
      ],
      "text/latex": [
       "A tibble: 20 × 4\n",
       "\\begin{tabular}{llll}\n",
       " geneID & baseMean & log2FoldChange & padj\\\\\n",
       " <chr> & <dbl> & <dbl> & <dbl>\\\\\n",
       "\\hline\n",
       "\t CBX7   &  5921.31225 & -4.618208 &  0.000000e+00\\\\\n",
       "\t AURKA  &   562.38661 &  4.844620 & 4.775893e-249\\\\\n",
       "\t AUNIP  &   102.95701 &  4.245145 & 2.558909e-232\\\\\n",
       "\t NXPH4  &   447.19461 &  8.081839 & 8.750641e-230\\\\\n",
       "\t CCNF   &   487.96660 &  3.362696 & 2.193272e-226\\\\\n",
       "\t TCF23  &   825.94556 & -8.268469 & 9.582032e-224\\\\\n",
       "\t KIF2C  &   868.44071 &  4.903658 & 7.673212e-219\\\\\n",
       "\t CBX2   &  1123.37530 &  4.196122 & 3.082652e-214\\\\\n",
       "\t CDKN2A &  1344.24703 &  6.989934 & 2.846574e-208\\\\\n",
       "\t OTX1   &    76.90961 &  6.747420 & 6.499880e-205\\\\\n",
       "\t PRR11  &   255.94692 &  4.149053 & 2.956054e-203\\\\\n",
       "\t ECT2   &   852.57087 &  3.165138 & 8.611957e-198\\\\\n",
       "\t LMOD1  & 21263.06191 & -5.895592 & 3.202672e-197\\\\\n",
       "\t PLK1   &   813.42907 &  4.064102 & 5.514192e-197\\\\\n",
       "\t SGOL2  &   333.55211 &  3.246404 & 4.824586e-192\\\\\n",
       "\t CCNE1  &   567.45706 &  5.355162 & 4.824586e-192\\\\\n",
       "\t GSTM5  &  1371.91703 & -6.589146 & 2.450135e-190\\\\\n",
       "\t TACC3  &  1867.26025 &  4.204630 & 2.514008e-190\\\\\n",
       "\t CHEK1  &   452.28478 &  2.913481 & 3.430096e-189\\\\\n",
       "\t FAM49B &  1684.58713 &  2.059250 & 1.898978e-185\\\\\n",
       "\\end{tabular}\n"
      ],
      "text/markdown": [
       "\n",
       "A tibble: 20 × 4\n",
       "\n",
       "| geneID &lt;chr&gt; | baseMean &lt;dbl&gt; | log2FoldChange &lt;dbl&gt; | padj &lt;dbl&gt; |\n",
       "|---|---|---|---|\n",
       "| CBX7   |  5921.31225 | -4.618208 |  0.000000e+00 |\n",
       "| AURKA  |   562.38661 |  4.844620 | 4.775893e-249 |\n",
       "| AUNIP  |   102.95701 |  4.245145 | 2.558909e-232 |\n",
       "| NXPH4  |   447.19461 |  8.081839 | 8.750641e-230 |\n",
       "| CCNF   |   487.96660 |  3.362696 | 2.193272e-226 |\n",
       "| TCF23  |   825.94556 | -8.268469 | 9.582032e-224 |\n",
       "| KIF2C  |   868.44071 |  4.903658 | 7.673212e-219 |\n",
       "| CBX2   |  1123.37530 |  4.196122 | 3.082652e-214 |\n",
       "| CDKN2A |  1344.24703 |  6.989934 | 2.846574e-208 |\n",
       "| OTX1   |    76.90961 |  6.747420 | 6.499880e-205 |\n",
       "| PRR11  |   255.94692 |  4.149053 | 2.956054e-203 |\n",
       "| ECT2   |   852.57087 |  3.165138 | 8.611957e-198 |\n",
       "| LMOD1  | 21263.06191 | -5.895592 | 3.202672e-197 |\n",
       "| PLK1   |   813.42907 |  4.064102 | 5.514192e-197 |\n",
       "| SGOL2  |   333.55211 |  3.246404 | 4.824586e-192 |\n",
       "| CCNE1  |   567.45706 |  5.355162 | 4.824586e-192 |\n",
       "| GSTM5  |  1371.91703 | -6.589146 | 2.450135e-190 |\n",
       "| TACC3  |  1867.26025 |  4.204630 | 2.514008e-190 |\n",
       "| CHEK1  |   452.28478 |  2.913481 | 3.430096e-189 |\n",
       "| FAM49B |  1684.58713 |  2.059250 | 1.898978e-185 |\n",
       "\n"
      ],
      "text/plain": [
       "   geneID baseMean    log2FoldChange padj         \n",
       "1  CBX7    5921.31225 -4.618208       0.000000e+00\n",
       "2  AURKA    562.38661  4.844620      4.775893e-249\n",
       "3  AUNIP    102.95701  4.245145      2.558909e-232\n",
       "4  NXPH4    447.19461  8.081839      8.750641e-230\n",
       "5  CCNF     487.96660  3.362696      2.193272e-226\n",
       "6  TCF23    825.94556 -8.268469      9.582032e-224\n",
       "7  KIF2C    868.44071  4.903658      7.673212e-219\n",
       "8  CBX2    1123.37530  4.196122      3.082652e-214\n",
       "9  CDKN2A  1344.24703  6.989934      2.846574e-208\n",
       "10 OTX1      76.90961  6.747420      6.499880e-205\n",
       "11 PRR11    255.94692  4.149053      2.956054e-203\n",
       "12 ECT2     852.57087  3.165138      8.611957e-198\n",
       "13 LMOD1  21263.06191 -5.895592      3.202672e-197\n",
       "14 PLK1     813.42907  4.064102      5.514192e-197\n",
       "15 SGOL2    333.55211  3.246404      4.824586e-192\n",
       "16 CCNE1    567.45706  5.355162      4.824586e-192\n",
       "17 GSTM5   1371.91703 -6.589146      2.450135e-190\n",
       "18 TACC3   1867.26025  4.204630      2.514008e-190\n",
       "19 CHEK1    452.28478  2.913481      3.430096e-189\n",
       "20 FAM49B  1684.58713  2.059250      1.898978e-185"
      ]
     },
     "metadata": {},
     "output_type": "display_data"
    }
   ],
   "source": [
    "deg_results_df %>%\n",
    "    dplyr::filter(padj < p_thresh, abs(log2FoldChange) > lfc_thresh) %>%\n",
    "    top_n(-20, padj) %>%\n",
    "    dplyr::arrange(padj) %>%\n",
    "    dplyr::select(c(geneID, baseMean, log2FoldChange, padj))"
   ]
  },
  {
   "cell_type": "markdown",
   "metadata": {},
   "source": [
    "# Cox PH quick glance"
   ]
  },
  {
   "cell_type": "code",
   "execution_count": 7,
   "metadata": {
    "collapsed": true,
    "jupyter": {
     "outputs_hidden": true
    }
   },
   "outputs": [
    {
     "name": "stderr",
     "output_type": "stream",
     "text": [
      "Parsed with column specification:\n",
      "cols(\n",
      "  geneID = col_character(),\n",
      "  gene_pval = col_double(),\n",
      "  gene_coeff = col_double()\n",
      ")\n"
     ]
    }
   ],
   "source": [
    "coxph_results_df <- read_tsv(paste0(dirs$analysis_dir, \"/\", unified_dsets[dset_idx], \"_coxph_results.tsv\"))"
   ]
  },
  {
   "cell_type": "code",
   "execution_count": 8,
   "metadata": {
    "collapsed": true,
    "jupyter": {
     "outputs_hidden": true
    }
   },
   "outputs": [
    {
     "data": {
      "text/html": [
       "<table>\n",
       "<caption>A spec_tbl_df: 20 × 3</caption>\n",
       "<thead>\n",
       "\t<tr><th scope=col>geneID</th><th scope=col>gene_pval</th><th scope=col>gene_coeff</th></tr>\n",
       "\t<tr><th scope=col>&lt;chr&gt;</th><th scope=col>&lt;dbl&gt;</th><th scope=col>&lt;dbl&gt;</th></tr>\n",
       "</thead>\n",
       "<tbody>\n",
       "\t<tr><td>COL7A1</td><td>0.0002336249</td><td>-0.7225286</td></tr>\n",
       "\t<tr><td>TGM3  </td><td>0.0004093898</td><td> 1.1245609</td></tr>\n",
       "\t<tr><td>CST6  </td><td>0.0005719445</td><td>-1.0079816</td></tr>\n",
       "\t<tr><td>SDC1  </td><td>0.0010491945</td><td>-0.7943372</td></tr>\n",
       "\t<tr><td>MUC12 </td><td>0.0011265731</td><td> 1.2784272</td></tr>\n",
       "\t<tr><td>COL5A3</td><td>0.0015920889</td><td> 0.8329635</td></tr>\n",
       "\t<tr><td>WNT10A</td><td>0.0017444436</td><td>-0.5720240</td></tr>\n",
       "\t<tr><td>IFNA1 </td><td>0.0020149675</td><td>-6.5102220</td></tr>\n",
       "\t<tr><td>WNT7B </td><td>0.0025813922</td><td>-0.4752282</td></tr>\n",
       "\t<tr><td>TIMP4 </td><td>0.0027979185</td><td> 0.4775624</td></tr>\n",
       "\t<tr><td>SEMA7A</td><td>0.0028485257</td><td>-1.2730621</td></tr>\n",
       "\t<tr><td>CELA3B</td><td>0.0032186936</td><td> 1.4303575</td></tr>\n",
       "\t<tr><td>CST4  </td><td>0.0033007384</td><td> 0.8048966</td></tr>\n",
       "\t<tr><td>TGM6  </td><td>0.0046312450</td><td>-9.2021837</td></tr>\n",
       "\t<tr><td>CLEC4M</td><td>0.0047158271</td><td> 0.9567509</td></tr>\n",
       "\t<tr><td>HAPLN2</td><td>0.0048964085</td><td>-1.5198197</td></tr>\n",
       "\t<tr><td>CST1  </td><td>0.0050154686</td><td> 0.4108890</td></tr>\n",
       "\t<tr><td>VWA9  </td><td>0.0051767872</td><td> 2.2349914</td></tr>\n",
       "\t<tr><td>FGF16 </td><td>0.0065236328</td><td>-2.6207750</td></tr>\n",
       "\t<tr><td>LAMB3 </td><td>0.0065344165</td><td>-0.3855805</td></tr>\n",
       "</tbody>\n",
       "</table>\n"
      ],
      "text/latex": [
       "A spec\\_tbl\\_df: 20 × 3\n",
       "\\begin{tabular}{lll}\n",
       " geneID & gene\\_pval & gene\\_coeff\\\\\n",
       " <chr> & <dbl> & <dbl>\\\\\n",
       "\\hline\n",
       "\t COL7A1 & 0.0002336249 & -0.7225286\\\\\n",
       "\t TGM3   & 0.0004093898 &  1.1245609\\\\\n",
       "\t CST6   & 0.0005719445 & -1.0079816\\\\\n",
       "\t SDC1   & 0.0010491945 & -0.7943372\\\\\n",
       "\t MUC12  & 0.0011265731 &  1.2784272\\\\\n",
       "\t COL5A3 & 0.0015920889 &  0.8329635\\\\\n",
       "\t WNT10A & 0.0017444436 & -0.5720240\\\\\n",
       "\t IFNA1  & 0.0020149675 & -6.5102220\\\\\n",
       "\t WNT7B  & 0.0025813922 & -0.4752282\\\\\n",
       "\t TIMP4  & 0.0027979185 &  0.4775624\\\\\n",
       "\t SEMA7A & 0.0028485257 & -1.2730621\\\\\n",
       "\t CELA3B & 0.0032186936 &  1.4303575\\\\\n",
       "\t CST4   & 0.0033007384 &  0.8048966\\\\\n",
       "\t TGM6   & 0.0046312450 & -9.2021837\\\\\n",
       "\t CLEC4M & 0.0047158271 &  0.9567509\\\\\n",
       "\t HAPLN2 & 0.0048964085 & -1.5198197\\\\\n",
       "\t CST1   & 0.0050154686 &  0.4108890\\\\\n",
       "\t VWA9   & 0.0051767872 &  2.2349914\\\\\n",
       "\t FGF16  & 0.0065236328 & -2.6207750\\\\\n",
       "\t LAMB3  & 0.0065344165 & -0.3855805\\\\\n",
       "\\end{tabular}\n"
      ],
      "text/markdown": [
       "\n",
       "A spec_tbl_df: 20 × 3\n",
       "\n",
       "| geneID &lt;chr&gt; | gene_pval &lt;dbl&gt; | gene_coeff &lt;dbl&gt; |\n",
       "|---|---|---|\n",
       "| COL7A1 | 0.0002336249 | -0.7225286 |\n",
       "| TGM3   | 0.0004093898 |  1.1245609 |\n",
       "| CST6   | 0.0005719445 | -1.0079816 |\n",
       "| SDC1   | 0.0010491945 | -0.7943372 |\n",
       "| MUC12  | 0.0011265731 |  1.2784272 |\n",
       "| COL5A3 | 0.0015920889 |  0.8329635 |\n",
       "| WNT10A | 0.0017444436 | -0.5720240 |\n",
       "| IFNA1  | 0.0020149675 | -6.5102220 |\n",
       "| WNT7B  | 0.0025813922 | -0.4752282 |\n",
       "| TIMP4  | 0.0027979185 |  0.4775624 |\n",
       "| SEMA7A | 0.0028485257 | -1.2730621 |\n",
       "| CELA3B | 0.0032186936 |  1.4303575 |\n",
       "| CST4   | 0.0033007384 |  0.8048966 |\n",
       "| TGM6   | 0.0046312450 | -9.2021837 |\n",
       "| CLEC4M | 0.0047158271 |  0.9567509 |\n",
       "| HAPLN2 | 0.0048964085 | -1.5198197 |\n",
       "| CST1   | 0.0050154686 |  0.4108890 |\n",
       "| VWA9   | 0.0051767872 |  2.2349914 |\n",
       "| FGF16  | 0.0065236328 | -2.6207750 |\n",
       "| LAMB3  | 0.0065344165 | -0.3855805 |\n",
       "\n"
      ],
      "text/plain": [
       "   geneID gene_pval    gene_coeff\n",
       "1  COL7A1 0.0002336249 -0.7225286\n",
       "2  TGM3   0.0004093898  1.1245609\n",
       "3  CST6   0.0005719445 -1.0079816\n",
       "4  SDC1   0.0010491945 -0.7943372\n",
       "5  MUC12  0.0011265731  1.2784272\n",
       "6  COL5A3 0.0015920889  0.8329635\n",
       "7  WNT10A 0.0017444436 -0.5720240\n",
       "8  IFNA1  0.0020149675 -6.5102220\n",
       "9  WNT7B  0.0025813922 -0.4752282\n",
       "10 TIMP4  0.0027979185  0.4775624\n",
       "11 SEMA7A 0.0028485257 -1.2730621\n",
       "12 CELA3B 0.0032186936  1.4303575\n",
       "13 CST4   0.0033007384  0.8048966\n",
       "14 TGM6   0.0046312450 -9.2021837\n",
       "15 CLEC4M 0.0047158271  0.9567509\n",
       "16 HAPLN2 0.0048964085 -1.5198197\n",
       "17 CST1   0.0050154686  0.4108890\n",
       "18 VWA9   0.0051767872  2.2349914\n",
       "19 FGF16  0.0065236328 -2.6207750\n",
       "20 LAMB3  0.0065344165 -0.3855805"
      ]
     },
     "metadata": {},
     "output_type": "display_data"
    }
   ],
   "source": [
    "coxph_results_df %>%\n",
    "    dplyr::top_n(-20, gene_pval) %>%\n",
    "    dplyr::arrange(gene_pval)"
   ]
  },
  {
   "cell_type": "markdown",
   "metadata": {},
   "source": [
    "# Correlation quick glance"
   ]
  },
  {
   "cell_type": "code",
   "execution_count": 9,
   "metadata": {
    "collapsed": true,
    "jupyter": {
     "outputs_hidden": true
    }
   },
   "outputs": [
    {
     "name": "stderr",
     "output_type": "stream",
     "text": [
      "Parsed with column specification:\n",
      "cols(\n",
      "  geneID = col_character(),\n",
      "  cor = col_double(),\n",
      "  pval = col_double(),\n",
      "  n = col_double()\n",
      ")\n"
     ]
    }
   ],
   "source": [
    "cor_results_df <- read_tsv(paste0(dirs$analysis_dir, \"/\", unified_dsets[dset_idx], \"_cor_results.tsv\"))"
   ]
  },
  {
   "cell_type": "code",
   "execution_count": 10,
   "metadata": {
    "collapsed": true,
    "jupyter": {
     "outputs_hidden": true
    }
   },
   "outputs": [
    {
     "data": {
      "text/html": [
       "<table>\n",
       "<caption>A tibble: 20 × 3</caption>\n",
       "<thead>\n",
       "\t<tr><th scope=col>geneID</th><th scope=col>cor</th><th scope=col>pval</th></tr>\n",
       "\t<tr><th scope=col>&lt;chr&gt;</th><th scope=col>&lt;dbl&gt;</th><th scope=col>&lt;dbl&gt;</th></tr>\n",
       "</thead>\n",
       "<tbody>\n",
       "\t<tr><td>FGF16  </td><td> 0.7061038</td><td>3.866132e-05</td></tr>\n",
       "\t<tr><td>IL9    </td><td> 0.5942475</td><td>1.081511e-03</td></tr>\n",
       "\t<tr><td>IFNA2  </td><td> 0.5942475</td><td>1.081511e-03</td></tr>\n",
       "\t<tr><td>TSKU   </td><td> 0.5878516</td><td>1.261943e-03</td></tr>\n",
       "\t<tr><td>TECTB  </td><td> 0.5407042</td><td>3.592000e-03</td></tr>\n",
       "\t<tr><td>ANGPTL6</td><td> 0.5320337</td><td>4.284821e-03</td></tr>\n",
       "\t<tr><td>OGN    </td><td> 0.5116528</td><td>6.372819e-03</td></tr>\n",
       "\t<tr><td>FGL1   </td><td>-0.4973148</td><td>8.308743e-03</td></tr>\n",
       "\t<tr><td>FGF6   </td><td> 0.4865330</td><td>1.007027e-02</td></tr>\n",
       "\t<tr><td>TGM6   </td><td> 0.4859619</td><td>1.017166e-02</td></tr>\n",
       "\t<tr><td>IL5    </td><td> 0.4858323</td><td>1.019479e-02</td></tr>\n",
       "\t<tr><td>ANXA2  </td><td>-0.4794116</td><td>1.139681e-02</td></tr>\n",
       "\t<tr><td>INHBC  </td><td> 0.4670735</td><td>1.403865e-02</td></tr>\n",
       "\t<tr><td>VWCE   </td><td> 0.4644749</td><td>1.465515e-02</td></tr>\n",
       "\t<tr><td>SDC4   </td><td>-0.4629233</td><td>1.503382e-02</td></tr>\n",
       "\t<tr><td>SLIT2  </td><td> 0.4595403</td><td>1.588747e-02</td></tr>\n",
       "\t<tr><td>HPSE2  </td><td> 0.4592651</td><td>1.595864e-02</td></tr>\n",
       "\t<tr><td>CBLN4  </td><td> 0.4579274</td><td>1.630832e-02</td></tr>\n",
       "\t<tr><td>HAPLN2 </td><td> 0.4464300</td><td>1.958213e-02</td></tr>\n",
       "\t<tr><td>CHRDL2 </td><td> 0.4409734</td><td>2.131426e-02</td></tr>\n",
       "</tbody>\n",
       "</table>\n"
      ],
      "text/latex": [
       "A tibble: 20 × 3\n",
       "\\begin{tabular}{lll}\n",
       " geneID & cor & pval\\\\\n",
       " <chr> & <dbl> & <dbl>\\\\\n",
       "\\hline\n",
       "\t FGF16   &  0.7061038 & 3.866132e-05\\\\\n",
       "\t IL9     &  0.5942475 & 1.081511e-03\\\\\n",
       "\t IFNA2   &  0.5942475 & 1.081511e-03\\\\\n",
       "\t TSKU    &  0.5878516 & 1.261943e-03\\\\\n",
       "\t TECTB   &  0.5407042 & 3.592000e-03\\\\\n",
       "\t ANGPTL6 &  0.5320337 & 4.284821e-03\\\\\n",
       "\t OGN     &  0.5116528 & 6.372819e-03\\\\\n",
       "\t FGL1    & -0.4973148 & 8.308743e-03\\\\\n",
       "\t FGF6    &  0.4865330 & 1.007027e-02\\\\\n",
       "\t TGM6    &  0.4859619 & 1.017166e-02\\\\\n",
       "\t IL5     &  0.4858323 & 1.019479e-02\\\\\n",
       "\t ANXA2   & -0.4794116 & 1.139681e-02\\\\\n",
       "\t INHBC   &  0.4670735 & 1.403865e-02\\\\\n",
       "\t VWCE    &  0.4644749 & 1.465515e-02\\\\\n",
       "\t SDC4    & -0.4629233 & 1.503382e-02\\\\\n",
       "\t SLIT2   &  0.4595403 & 1.588747e-02\\\\\n",
       "\t HPSE2   &  0.4592651 & 1.595864e-02\\\\\n",
       "\t CBLN4   &  0.4579274 & 1.630832e-02\\\\\n",
       "\t HAPLN2  &  0.4464300 & 1.958213e-02\\\\\n",
       "\t CHRDL2  &  0.4409734 & 2.131426e-02\\\\\n",
       "\\end{tabular}\n"
      ],
      "text/markdown": [
       "\n",
       "A tibble: 20 × 3\n",
       "\n",
       "| geneID &lt;chr&gt; | cor &lt;dbl&gt; | pval &lt;dbl&gt; |\n",
       "|---|---|---|\n",
       "| FGF16   |  0.7061038 | 3.866132e-05 |\n",
       "| IL9     |  0.5942475 | 1.081511e-03 |\n",
       "| IFNA2   |  0.5942475 | 1.081511e-03 |\n",
       "| TSKU    |  0.5878516 | 1.261943e-03 |\n",
       "| TECTB   |  0.5407042 | 3.592000e-03 |\n",
       "| ANGPTL6 |  0.5320337 | 4.284821e-03 |\n",
       "| OGN     |  0.5116528 | 6.372819e-03 |\n",
       "| FGL1    | -0.4973148 | 8.308743e-03 |\n",
       "| FGF6    |  0.4865330 | 1.007027e-02 |\n",
       "| TGM6    |  0.4859619 | 1.017166e-02 |\n",
       "| IL5     |  0.4858323 | 1.019479e-02 |\n",
       "| ANXA2   | -0.4794116 | 1.139681e-02 |\n",
       "| INHBC   |  0.4670735 | 1.403865e-02 |\n",
       "| VWCE    |  0.4644749 | 1.465515e-02 |\n",
       "| SDC4    | -0.4629233 | 1.503382e-02 |\n",
       "| SLIT2   |  0.4595403 | 1.588747e-02 |\n",
       "| HPSE2   |  0.4592651 | 1.595864e-02 |\n",
       "| CBLN4   |  0.4579274 | 1.630832e-02 |\n",
       "| HAPLN2  |  0.4464300 | 1.958213e-02 |\n",
       "| CHRDL2  |  0.4409734 | 2.131426e-02 |\n",
       "\n"
      ],
      "text/plain": [
       "   geneID  cor        pval        \n",
       "1  FGF16    0.7061038 3.866132e-05\n",
       "2  IL9      0.5942475 1.081511e-03\n",
       "3  IFNA2    0.5942475 1.081511e-03\n",
       "4  TSKU     0.5878516 1.261943e-03\n",
       "5  TECTB    0.5407042 3.592000e-03\n",
       "6  ANGPTL6  0.5320337 4.284821e-03\n",
       "7  OGN      0.5116528 6.372819e-03\n",
       "8  FGL1    -0.4973148 8.308743e-03\n",
       "9  FGF6     0.4865330 1.007027e-02\n",
       "10 TGM6     0.4859619 1.017166e-02\n",
       "11 IL5      0.4858323 1.019479e-02\n",
       "12 ANXA2   -0.4794116 1.139681e-02\n",
       "13 INHBC    0.4670735 1.403865e-02\n",
       "14 VWCE     0.4644749 1.465515e-02\n",
       "15 SDC4    -0.4629233 1.503382e-02\n",
       "16 SLIT2    0.4595403 1.588747e-02\n",
       "17 HPSE2    0.4592651 1.595864e-02\n",
       "18 CBLN4    0.4579274 1.630832e-02\n",
       "19 HAPLN2   0.4464300 1.958213e-02\n",
       "20 CHRDL2   0.4409734 2.131426e-02"
      ]
     },
     "metadata": {},
     "output_type": "display_data"
    }
   ],
   "source": [
    "cor_results_df %>%\n",
    "    dplyr::select(geneID, cor, pval) %>%\n",
    "    dplyr::top_n(-20, pval) %>%\n",
    "    dplyr::arrange(pval)"
   ]
  },
  {
   "cell_type": "markdown",
   "metadata": {},
   "source": [
    "# MI survival quick glance"
   ]
  },
  {
   "cell_type": "code",
   "execution_count": 11,
   "metadata": {
    "collapsed": true,
    "jupyter": {
     "outputs_hidden": true
    }
   },
   "outputs": [
    {
     "name": "stderr",
     "output_type": "stream",
     "text": [
      "Parsed with column specification:\n",
      "cols(\n",
      "  geneID = col_character(),\n",
      "  MI_est_median = col_double()\n",
      ")\n"
     ]
    }
   ],
   "source": [
    "mi_survival_results_df <- read_tsv(paste0(dirs$analysis_dir, \"/\", unified_dsets[dset_idx], \"_MI_survival_results.tsv\"))"
   ]
  },
  {
   "cell_type": "code",
   "execution_count": 12,
   "metadata": {
    "collapsed": true,
    "jupyter": {
     "outputs_hidden": true
    }
   },
   "outputs": [
    {
     "data": {
      "text/html": [
       "<table>\n",
       "<caption>A spec_tbl_df: 20 × 2</caption>\n",
       "<thead>\n",
       "\t<tr><th scope=col>geneID</th><th scope=col>MI_est_median</th></tr>\n",
       "\t<tr><th scope=col>&lt;chr&gt;</th><th scope=col>&lt;dbl&gt;</th></tr>\n",
       "</thead>\n",
       "<tbody>\n",
       "\t<tr><td>COL9A2 </td><td>0.3096317</td></tr>\n",
       "\t<tr><td>CTSG   </td><td>0.2891200</td></tr>\n",
       "\t<tr><td>SEMA3D </td><td>0.2537188</td></tr>\n",
       "\t<tr><td>IL17C  </td><td>0.2498483</td></tr>\n",
       "\t<tr><td>S100A3 </td><td>0.2403626</td></tr>\n",
       "\t<tr><td>ADAM33 </td><td>0.2396814</td></tr>\n",
       "\t<tr><td>TGFA   </td><td>0.2301018</td></tr>\n",
       "\t<tr><td>SPP1   </td><td>0.2249892</td></tr>\n",
       "\t<tr><td>COL27A1</td><td>0.2236791</td></tr>\n",
       "\t<tr><td>MMP13  </td><td>0.2233744</td></tr>\n",
       "\t<tr><td>FGF18  </td><td>0.2189357</td></tr>\n",
       "\t<tr><td>COL12A1</td><td>0.2180947</td></tr>\n",
       "\t<tr><td>ADAM23 </td><td>0.2121758</td></tr>\n",
       "\t<tr><td>CTSE   </td><td>0.2071265</td></tr>\n",
       "\t<tr><td>COL25A1</td><td>0.2041463</td></tr>\n",
       "\t<tr><td>MUC8   </td><td>0.1975198</td></tr>\n",
       "\t<tr><td>COL6A2 </td><td>0.1952531</td></tr>\n",
       "\t<tr><td>ADAM15 </td><td>0.1944044</td></tr>\n",
       "\t<tr><td>OGN    </td><td>0.1911530</td></tr>\n",
       "\t<tr><td>GPC2   </td><td>0.1906376</td></tr>\n",
       "</tbody>\n",
       "</table>\n"
      ],
      "text/latex": [
       "A spec\\_tbl\\_df: 20 × 2\n",
       "\\begin{tabular}{ll}\n",
       " geneID & MI\\_est\\_median\\\\\n",
       " <chr> & <dbl>\\\\\n",
       "\\hline\n",
       "\t COL9A2  & 0.3096317\\\\\n",
       "\t CTSG    & 0.2891200\\\\\n",
       "\t SEMA3D  & 0.2537188\\\\\n",
       "\t IL17C   & 0.2498483\\\\\n",
       "\t S100A3  & 0.2403626\\\\\n",
       "\t ADAM33  & 0.2396814\\\\\n",
       "\t TGFA    & 0.2301018\\\\\n",
       "\t SPP1    & 0.2249892\\\\\n",
       "\t COL27A1 & 0.2236791\\\\\n",
       "\t MMP13   & 0.2233744\\\\\n",
       "\t FGF18   & 0.2189357\\\\\n",
       "\t COL12A1 & 0.2180947\\\\\n",
       "\t ADAM23  & 0.2121758\\\\\n",
       "\t CTSE    & 0.2071265\\\\\n",
       "\t COL25A1 & 0.2041463\\\\\n",
       "\t MUC8    & 0.1975198\\\\\n",
       "\t COL6A2  & 0.1952531\\\\\n",
       "\t ADAM15  & 0.1944044\\\\\n",
       "\t OGN     & 0.1911530\\\\\n",
       "\t GPC2    & 0.1906376\\\\\n",
       "\\end{tabular}\n"
      ],
      "text/markdown": [
       "\n",
       "A spec_tbl_df: 20 × 2\n",
       "\n",
       "| geneID &lt;chr&gt; | MI_est_median &lt;dbl&gt; |\n",
       "|---|---|\n",
       "| COL9A2  | 0.3096317 |\n",
       "| CTSG    | 0.2891200 |\n",
       "| SEMA3D  | 0.2537188 |\n",
       "| IL17C   | 0.2498483 |\n",
       "| S100A3  | 0.2403626 |\n",
       "| ADAM33  | 0.2396814 |\n",
       "| TGFA    | 0.2301018 |\n",
       "| SPP1    | 0.2249892 |\n",
       "| COL27A1 | 0.2236791 |\n",
       "| MMP13   | 0.2233744 |\n",
       "| FGF18   | 0.2189357 |\n",
       "| COL12A1 | 0.2180947 |\n",
       "| ADAM23  | 0.2121758 |\n",
       "| CTSE    | 0.2071265 |\n",
       "| COL25A1 | 0.2041463 |\n",
       "| MUC8    | 0.1975198 |\n",
       "| COL6A2  | 0.1952531 |\n",
       "| ADAM15  | 0.1944044 |\n",
       "| OGN     | 0.1911530 |\n",
       "| GPC2    | 0.1906376 |\n",
       "\n"
      ],
      "text/plain": [
       "   geneID  MI_est_median\n",
       "1  COL9A2  0.3096317    \n",
       "2  CTSG    0.2891200    \n",
       "3  SEMA3D  0.2537188    \n",
       "4  IL17C   0.2498483    \n",
       "5  S100A3  0.2403626    \n",
       "6  ADAM33  0.2396814    \n",
       "7  TGFA    0.2301018    \n",
       "8  SPP1    0.2249892    \n",
       "9  COL27A1 0.2236791    \n",
       "10 MMP13   0.2233744    \n",
       "11 FGF18   0.2189357    \n",
       "12 COL12A1 0.2180947    \n",
       "13 ADAM23  0.2121758    \n",
       "14 CTSE    0.2071265    \n",
       "15 COL25A1 0.2041463    \n",
       "16 MUC8    0.1975198    \n",
       "17 COL6A2  0.1952531    \n",
       "18 ADAM15  0.1944044    \n",
       "19 OGN     0.1911530    \n",
       "20 GPC2    0.1906376    "
      ]
     },
     "metadata": {},
     "output_type": "display_data"
    }
   ],
   "source": [
    "mi_survival_results_df %>%\n",
    "    dplyr::top_n(20, MI_est_median) %>%\n",
    "    dplyr::arrange(desc(MI_est_median))"
   ]
  },
  {
   "cell_type": "markdown",
   "metadata": {},
   "source": [
    "# MAE GBR quick glance"
   ]
  },
  {
   "cell_type": "code",
   "execution_count": 13,
   "metadata": {
    "collapsed": true,
    "jupyter": {
     "outputs_hidden": true
    }
   },
   "outputs": [
    {
     "name": "stderr",
     "output_type": "stream",
     "text": [
      "Parsed with column specification:\n",
      "cols(\n",
      "  geneID = col_character(),\n",
      "  mean_imp_0 = col_double(),\n",
      "  score_pct_improvement_0 = col_double(),\n",
      "  mean_imp_1 = col_double(),\n",
      "  score_pct_improvement_1 = col_double(),\n",
      "  mean_imp_2 = col_double(),\n",
      "  score_pct_improvement_2 = col_double(),\n",
      "  mean_imp_3 = col_double(),\n",
      "  score_pct_improvement_3 = col_double(),\n",
      "  mean_imp_4 = col_double(),\n",
      "  score_pct_improvement_4 = col_double(),\n",
      "  consensus_imp_mean = col_double(),\n",
      "  consensus_imp_std = col_double(),\n",
      "  consensus_imp_cv = col_double(),\n",
      "  consensus_vote = col_logical()\n",
      ")\n"
     ]
    }
   ],
   "source": [
    "mae_gbr_results_df <- read_tsv(paste0(dirs$analysis_dir, \"/\", unified_dsets[dset_idx], \"_mae_gbr_results.tsv\"))"
   ]
  },
  {
   "cell_type": "code",
   "execution_count": 14,
   "metadata": {
    "collapsed": true,
    "jupyter": {
     "outputs_hidden": true
    }
   },
   "outputs": [
    {
     "data": {
      "text/html": [
       "<table>\n",
       "<caption>A tibble: 20 × 3</caption>\n",
       "<thead>\n",
       "\t<tr><th scope=col>geneID</th><th scope=col>consensus_vote</th><th scope=col>consensus_mean_pct_imp</th></tr>\n",
       "\t<tr><th scope=col>&lt;chr&gt;</th><th scope=col>&lt;lgl&gt;</th><th scope=col>&lt;dbl&gt;</th></tr>\n",
       "</thead>\n",
       "<tbody>\n",
       "\t<tr><td>CTSV    </td><td> TRUE</td><td>1.03170675</td></tr>\n",
       "\t<tr><td>INHBC   </td><td> TRUE</td><td>0.99249380</td></tr>\n",
       "\t<tr><td>CCL16   </td><td> TRUE</td><td>0.08939644</td></tr>\n",
       "\t<tr><td>ANGPTL7 </td><td> TRUE</td><td>0.07644699</td></tr>\n",
       "\t<tr><td>TMPRSS15</td><td>FALSE</td><td>0.07140040</td></tr>\n",
       "\t<tr><td>SFRP5   </td><td> TRUE</td><td>0.04796304</td></tr>\n",
       "\t<tr><td>FN1     </td><td> TRUE</td><td>0.04042421</td></tr>\n",
       "\t<tr><td>WISP1   </td><td> TRUE</td><td>0.03666048</td></tr>\n",
       "\t<tr><td>COL25A1 </td><td> TRUE</td><td>0.03610745</td></tr>\n",
       "\t<tr><td>CLEC12A </td><td> TRUE</td><td>0.03374429</td></tr>\n",
       "\t<tr><td>COL9A1  </td><td> TRUE</td><td>0.02878950</td></tr>\n",
       "\t<tr><td>FSTL1   </td><td>FALSE</td><td>0.02321892</td></tr>\n",
       "\t<tr><td>ADAM21  </td><td> TRUE</td><td>0.02283544</td></tr>\n",
       "\t<tr><td>MUC8    </td><td> TRUE</td><td>0.02265633</td></tr>\n",
       "\t<tr><td>LGALS9B </td><td> TRUE</td><td>0.02264344</td></tr>\n",
       "\t<tr><td>CTSF    </td><td> TRUE</td><td>0.02112065</td></tr>\n",
       "\t<tr><td>SLIT2   </td><td>FALSE</td><td>0.01929505</td></tr>\n",
       "\t<tr><td>IL1RN   </td><td> TRUE</td><td>0.01823058</td></tr>\n",
       "\t<tr><td>CTHRC1  </td><td> TRUE</td><td>0.01704331</td></tr>\n",
       "\t<tr><td>TCHH    </td><td> TRUE</td><td>0.01621751</td></tr>\n",
       "</tbody>\n",
       "</table>\n"
      ],
      "text/latex": [
       "A tibble: 20 × 3\n",
       "\\begin{tabular}{lll}\n",
       " geneID & consensus\\_vote & consensus\\_mean\\_pct\\_imp\\\\\n",
       " <chr> & <lgl> & <dbl>\\\\\n",
       "\\hline\n",
       "\t CTSV     &  TRUE & 1.03170675\\\\\n",
       "\t INHBC    &  TRUE & 0.99249380\\\\\n",
       "\t CCL16    &  TRUE & 0.08939644\\\\\n",
       "\t ANGPTL7  &  TRUE & 0.07644699\\\\\n",
       "\t TMPRSS15 & FALSE & 0.07140040\\\\\n",
       "\t SFRP5    &  TRUE & 0.04796304\\\\\n",
       "\t FN1      &  TRUE & 0.04042421\\\\\n",
       "\t WISP1    &  TRUE & 0.03666048\\\\\n",
       "\t COL25A1  &  TRUE & 0.03610745\\\\\n",
       "\t CLEC12A  &  TRUE & 0.03374429\\\\\n",
       "\t COL9A1   &  TRUE & 0.02878950\\\\\n",
       "\t FSTL1    & FALSE & 0.02321892\\\\\n",
       "\t ADAM21   &  TRUE & 0.02283544\\\\\n",
       "\t MUC8     &  TRUE & 0.02265633\\\\\n",
       "\t LGALS9B  &  TRUE & 0.02264344\\\\\n",
       "\t CTSF     &  TRUE & 0.02112065\\\\\n",
       "\t SLIT2    & FALSE & 0.01929505\\\\\n",
       "\t IL1RN    &  TRUE & 0.01823058\\\\\n",
       "\t CTHRC1   &  TRUE & 0.01704331\\\\\n",
       "\t TCHH     &  TRUE & 0.01621751\\\\\n",
       "\\end{tabular}\n"
      ],
      "text/markdown": [
       "\n",
       "A tibble: 20 × 3\n",
       "\n",
       "| geneID &lt;chr&gt; | consensus_vote &lt;lgl&gt; | consensus_mean_pct_imp &lt;dbl&gt; |\n",
       "|---|---|---|\n",
       "| CTSV     |  TRUE | 1.03170675 |\n",
       "| INHBC    |  TRUE | 0.99249380 |\n",
       "| CCL16    |  TRUE | 0.08939644 |\n",
       "| ANGPTL7  |  TRUE | 0.07644699 |\n",
       "| TMPRSS15 | FALSE | 0.07140040 |\n",
       "| SFRP5    |  TRUE | 0.04796304 |\n",
       "| FN1      |  TRUE | 0.04042421 |\n",
       "| WISP1    |  TRUE | 0.03666048 |\n",
       "| COL25A1  |  TRUE | 0.03610745 |\n",
       "| CLEC12A  |  TRUE | 0.03374429 |\n",
       "| COL9A1   |  TRUE | 0.02878950 |\n",
       "| FSTL1    | FALSE | 0.02321892 |\n",
       "| ADAM21   |  TRUE | 0.02283544 |\n",
       "| MUC8     |  TRUE | 0.02265633 |\n",
       "| LGALS9B  |  TRUE | 0.02264344 |\n",
       "| CTSF     |  TRUE | 0.02112065 |\n",
       "| SLIT2    | FALSE | 0.01929505 |\n",
       "| IL1RN    |  TRUE | 0.01823058 |\n",
       "| CTHRC1   |  TRUE | 0.01704331 |\n",
       "| TCHH     |  TRUE | 0.01621751 |\n",
       "\n"
      ],
      "text/plain": [
       "   geneID   consensus_vote consensus_mean_pct_imp\n",
       "1  CTSV      TRUE          1.03170675            \n",
       "2  INHBC     TRUE          0.99249380            \n",
       "3  CCL16     TRUE          0.08939644            \n",
       "4  ANGPTL7   TRUE          0.07644699            \n",
       "5  TMPRSS15 FALSE          0.07140040            \n",
       "6  SFRP5     TRUE          0.04796304            \n",
       "7  FN1       TRUE          0.04042421            \n",
       "8  WISP1     TRUE          0.03666048            \n",
       "9  COL25A1   TRUE          0.03610745            \n",
       "10 CLEC12A   TRUE          0.03374429            \n",
       "11 COL9A1    TRUE          0.02878950            \n",
       "12 FSTL1    FALSE          0.02321892            \n",
       "13 ADAM21    TRUE          0.02283544            \n",
       "14 MUC8      TRUE          0.02265633            \n",
       "15 LGALS9B   TRUE          0.02264344            \n",
       "16 CTSF      TRUE          0.02112065            \n",
       "17 SLIT2    FALSE          0.01929505            \n",
       "18 IL1RN     TRUE          0.01823058            \n",
       "19 CTHRC1    TRUE          0.01704331            \n",
       "20 TCHH      TRUE          0.01621751            "
      ]
     },
     "metadata": {},
     "output_type": "display_data"
    }
   ],
   "source": [
    "mae_gbr_results_df %>%\n",
    "    dplyr::select(geneID, contains(\"pct\"), consensus_vote) %>%\n",
    "    dplyr::mutate(consensus_mean_pct_imp = rowMeans(dplyr::select(., contains(\"pct\")))) %>%\n",
    "    dplyr::select(geneID, consensus_vote, consensus_mean_pct_imp) %>%\n",
    "    dplyr::top_n(20, consensus_mean_pct_imp) %>%\n",
    "    dplyr::arrange(desc(consensus_mean_pct_imp))"
   ]
  },
  {
   "cell_type": "markdown",
   "metadata": {},
   "source": [
    "# EV GBR quick glance"
   ]
  },
  {
   "cell_type": "code",
   "execution_count": 17,
   "metadata": {
    "collapsed": true,
    "jupyter": {
     "outputs_hidden": true
    }
   },
   "outputs": [
    {
     "name": "stderr",
     "output_type": "stream",
     "text": [
      "Parsed with column specification:\n",
      "cols(\n",
      "  geneID = col_character(),\n",
      "  mean_imp_0 = col_double(),\n",
      "  score_pct_improvement_0 = col_double(),\n",
      "  mean_imp_1 = col_double(),\n",
      "  score_pct_improvement_1 = col_double(),\n",
      "  mean_imp_2 = col_double(),\n",
      "  score_pct_improvement_2 = col_double(),\n",
      "  mean_imp_3 = col_double(),\n",
      "  score_pct_improvement_3 = col_double(),\n",
      "  mean_imp_4 = col_double(),\n",
      "  score_pct_improvement_4 = col_double(),\n",
      "  consensus_imp_mean = col_double(),\n",
      "  consensus_imp_std = col_double(),\n",
      "  consensus_imp_cv = col_double(),\n",
      "  consensus_vote = col_logical()\n",
      ")\n"
     ]
    }
   ],
   "source": [
    "ev_gbr_results_df <- read_tsv(paste0(dirs$analysis_dir, \"/\", unified_dsets[dset_idx], \"_ev_gbr_results.tsv\"))"
   ]
  },
  {
   "cell_type": "code",
   "execution_count": 23,
   "metadata": {
    "collapsed": true,
    "jupyter": {
     "outputs_hidden": true
    }
   },
   "outputs": [
    {
     "data": {
      "text/html": [
       "<table>\n",
       "<caption>A tibble: 20 × 3</caption>\n",
       "<thead>\n",
       "\t<tr><th scope=col>geneID</th><th scope=col>consensus_vote</th><th scope=col>consensus_mean_pct_imp</th></tr>\n",
       "\t<tr><th scope=col>&lt;chr&gt;</th><th scope=col>&lt;lgl&gt;</th><th scope=col>&lt;dbl&gt;</th></tr>\n",
       "</thead>\n",
       "<tbody>\n",
       "\t<tr><td>FGF1    </td><td> TRUE</td><td>32.1966959</td></tr>\n",
       "\t<tr><td>INHBC   </td><td> TRUE</td><td>30.7086815</td></tr>\n",
       "\t<tr><td>LGALS9B </td><td> TRUE</td><td>28.9839410</td></tr>\n",
       "\t<tr><td>SLIT2   </td><td> TRUE</td><td>23.8823489</td></tr>\n",
       "\t<tr><td>CTSG    </td><td> TRUE</td><td>15.2848516</td></tr>\n",
       "\t<tr><td>SFRP2   </td><td> TRUE</td><td>11.8558355</td></tr>\n",
       "\t<tr><td>CTSV    </td><td> TRUE</td><td> 7.6207291</td></tr>\n",
       "\t<tr><td>WNT7B   </td><td> TRUE</td><td> 7.5323356</td></tr>\n",
       "\t<tr><td>TMPRSS15</td><td> TRUE</td><td> 5.6932101</td></tr>\n",
       "\t<tr><td>OMD     </td><td> TRUE</td><td> 5.4181083</td></tr>\n",
       "\t<tr><td>ANGPTL6 </td><td> TRUE</td><td> 4.1475556</td></tr>\n",
       "\t<tr><td>IL5     </td><td> TRUE</td><td> 3.0457379</td></tr>\n",
       "\t<tr><td>FGF16   </td><td> TRUE</td><td> 3.0451260</td></tr>\n",
       "\t<tr><td>PLG     </td><td> TRUE</td><td> 2.1418114</td></tr>\n",
       "\t<tr><td>OGN     </td><td> TRUE</td><td> 1.8907572</td></tr>\n",
       "\t<tr><td>IGFBP2  </td><td> TRUE</td><td> 1.6876855</td></tr>\n",
       "\t<tr><td>SERPINB7</td><td> TRUE</td><td> 1.6485665</td></tr>\n",
       "\t<tr><td>WNT3A   </td><td> TRUE</td><td> 1.3607043</td></tr>\n",
       "\t<tr><td>LGI3    </td><td> TRUE</td><td> 0.9314519</td></tr>\n",
       "\t<tr><td>MATN1   </td><td>FALSE</td><td> 0.3591590</td></tr>\n",
       "</tbody>\n",
       "</table>\n"
      ],
      "text/latex": [
       "A tibble: 20 × 3\n",
       "\\begin{tabular}{lll}\n",
       " geneID & consensus\\_vote & consensus\\_mean\\_pct\\_imp\\\\\n",
       " <chr> & <lgl> & <dbl>\\\\\n",
       "\\hline\n",
       "\t FGF1     &  TRUE & 32.1966959\\\\\n",
       "\t INHBC    &  TRUE & 30.7086815\\\\\n",
       "\t LGALS9B  &  TRUE & 28.9839410\\\\\n",
       "\t SLIT2    &  TRUE & 23.8823489\\\\\n",
       "\t CTSG     &  TRUE & 15.2848516\\\\\n",
       "\t SFRP2    &  TRUE & 11.8558355\\\\\n",
       "\t CTSV     &  TRUE &  7.6207291\\\\\n",
       "\t WNT7B    &  TRUE &  7.5323356\\\\\n",
       "\t TMPRSS15 &  TRUE &  5.6932101\\\\\n",
       "\t OMD      &  TRUE &  5.4181083\\\\\n",
       "\t ANGPTL6  &  TRUE &  4.1475556\\\\\n",
       "\t IL5      &  TRUE &  3.0457379\\\\\n",
       "\t FGF16    &  TRUE &  3.0451260\\\\\n",
       "\t PLG      &  TRUE &  2.1418114\\\\\n",
       "\t OGN      &  TRUE &  1.8907572\\\\\n",
       "\t IGFBP2   &  TRUE &  1.6876855\\\\\n",
       "\t SERPINB7 &  TRUE &  1.6485665\\\\\n",
       "\t WNT3A    &  TRUE &  1.3607043\\\\\n",
       "\t LGI3     &  TRUE &  0.9314519\\\\\n",
       "\t MATN1    & FALSE &  0.3591590\\\\\n",
       "\\end{tabular}\n"
      ],
      "text/markdown": [
       "\n",
       "A tibble: 20 × 3\n",
       "\n",
       "| geneID &lt;chr&gt; | consensus_vote &lt;lgl&gt; | consensus_mean_pct_imp &lt;dbl&gt; |\n",
       "|---|---|---|\n",
       "| FGF1     |  TRUE | 32.1966959 |\n",
       "| INHBC    |  TRUE | 30.7086815 |\n",
       "| LGALS9B  |  TRUE | 28.9839410 |\n",
       "| SLIT2    |  TRUE | 23.8823489 |\n",
       "| CTSG     |  TRUE | 15.2848516 |\n",
       "| SFRP2    |  TRUE | 11.8558355 |\n",
       "| CTSV     |  TRUE |  7.6207291 |\n",
       "| WNT7B    |  TRUE |  7.5323356 |\n",
       "| TMPRSS15 |  TRUE |  5.6932101 |\n",
       "| OMD      |  TRUE |  5.4181083 |\n",
       "| ANGPTL6  |  TRUE |  4.1475556 |\n",
       "| IL5      |  TRUE |  3.0457379 |\n",
       "| FGF16    |  TRUE |  3.0451260 |\n",
       "| PLG      |  TRUE |  2.1418114 |\n",
       "| OGN      |  TRUE |  1.8907572 |\n",
       "| IGFBP2   |  TRUE |  1.6876855 |\n",
       "| SERPINB7 |  TRUE |  1.6485665 |\n",
       "| WNT3A    |  TRUE |  1.3607043 |\n",
       "| LGI3     |  TRUE |  0.9314519 |\n",
       "| MATN1    | FALSE |  0.3591590 |\n",
       "\n"
      ],
      "text/plain": [
       "   geneID   consensus_vote consensus_mean_pct_imp\n",
       "1  FGF1      TRUE          32.1966959            \n",
       "2  INHBC     TRUE          30.7086815            \n",
       "3  LGALS9B   TRUE          28.9839410            \n",
       "4  SLIT2     TRUE          23.8823489            \n",
       "5  CTSG      TRUE          15.2848516            \n",
       "6  SFRP2     TRUE          11.8558355            \n",
       "7  CTSV      TRUE           7.6207291            \n",
       "8  WNT7B     TRUE           7.5323356            \n",
       "9  TMPRSS15  TRUE           5.6932101            \n",
       "10 OMD       TRUE           5.4181083            \n",
       "11 ANGPTL6   TRUE           4.1475556            \n",
       "12 IL5       TRUE           3.0457379            \n",
       "13 FGF16     TRUE           3.0451260            \n",
       "14 PLG       TRUE           2.1418114            \n",
       "15 OGN       TRUE           1.8907572            \n",
       "16 IGFBP2    TRUE           1.6876855            \n",
       "17 SERPINB7  TRUE           1.6485665            \n",
       "18 WNT3A     TRUE           1.3607043            \n",
       "19 LGI3      TRUE           0.9314519            \n",
       "20 MATN1    FALSE           0.3591590            "
      ]
     },
     "metadata": {},
     "output_type": "display_data"
    }
   ],
   "source": [
    "ev_gbr_results_df %>%\n",
    "    dplyr::select(geneID, contains(\"pct\"), consensus_vote) %>%\n",
    "    dplyr::mutate(consensus_mean_pct_imp = rowMeans(dplyr::select(., contains(\"pct\")))) %>%\n",
    "    dplyr::select(geneID, consensus_vote, consensus_mean_pct_imp) %>%\n",
    "    dplyr::top_n(20, consensus_mean_pct_imp) %>%\n",
    "    dplyr::arrange(desc(consensus_mean_pct_imp))"
   ]
  },
  {
   "cell_type": "markdown",
   "metadata": {},
   "source": [
    "# MI FIGO quick glance"
   ]
  },
  {
   "cell_type": "code",
   "execution_count": 27,
   "metadata": {},
   "outputs": [
    {
     "name": "stderr",
     "output_type": "stream",
     "text": [
      "Parsed with column specification:\n",
      "cols(\n",
      "  geneID = col_character(),\n",
      "  MI_est_median = col_double()\n",
      ")\n"
     ]
    }
   ],
   "source": [
    "mi_figo_results_df <- read_tsv(paste0(dirs$analysis_dir, \"/\", unified_dsets[dset_idx], \"_MI_figo_results.tsv\"))"
   ]
  },
  {
   "cell_type": "code",
   "execution_count": 29,
   "metadata": {
    "collapsed": true,
    "jupyter": {
     "outputs_hidden": true
    }
   },
   "outputs": [
    {
     "data": {
      "text/html": [
       "<table>\n",
       "<caption>A spec_tbl_df: 20 × 2</caption>\n",
       "<thead>\n",
       "\t<tr><th scope=col>geneID</th><th scope=col>MI_est_median</th></tr>\n",
       "\t<tr><th scope=col>&lt;chr&gt;</th><th scope=col>&lt;dbl&gt;</th></tr>\n",
       "</thead>\n",
       "<tbody>\n",
       "\t<tr><td>LOXL3  </td><td>0.9755391</td></tr>\n",
       "\t<tr><td>ADAM8  </td><td>0.9283197</td></tr>\n",
       "\t<tr><td>ANXA8L1</td><td>0.8728699</td></tr>\n",
       "\t<tr><td>CCL3L3 </td><td>0.8561879</td></tr>\n",
       "\t<tr><td>PPBP   </td><td>0.8160963</td></tr>\n",
       "\t<tr><td>NTNG1  </td><td>0.8131801</td></tr>\n",
       "\t<tr><td>IFNA5  </td><td>0.7771863</td></tr>\n",
       "\t<tr><td>PLXNA2 </td><td>0.7581610</td></tr>\n",
       "\t<tr><td>SBSPON </td><td>0.7567825</td></tr>\n",
       "\t<tr><td>CX3CL1 </td><td>0.7385588</td></tr>\n",
       "\t<tr><td>CHAD   </td><td>0.7129574</td></tr>\n",
       "\t<tr><td>MMP11  </td><td>0.7011491</td></tr>\n",
       "\t<tr><td>VWA5B1 </td><td>0.6895579</td></tr>\n",
       "\t<tr><td>COL5A3 </td><td>0.6835044</td></tr>\n",
       "\t<tr><td>SHH    </td><td>0.6810966</td></tr>\n",
       "\t<tr><td>RELN   </td><td>0.6662802</td></tr>\n",
       "\t<tr><td>SFRP5  </td><td>0.6500445</td></tr>\n",
       "\t<tr><td>FGF12  </td><td>0.6266716</td></tr>\n",
       "\t<tr><td>CLEC4D </td><td>0.6259018</td></tr>\n",
       "\t<tr><td>ADAMTS9</td><td>0.6255510</td></tr>\n",
       "</tbody>\n",
       "</table>\n"
      ],
      "text/latex": [
       "A spec\\_tbl\\_df: 20 × 2\n",
       "\\begin{tabular}{ll}\n",
       " geneID & MI\\_est\\_median\\\\\n",
       " <chr> & <dbl>\\\\\n",
       "\\hline\n",
       "\t LOXL3   & 0.9755391\\\\\n",
       "\t ADAM8   & 0.9283197\\\\\n",
       "\t ANXA8L1 & 0.8728699\\\\\n",
       "\t CCL3L3  & 0.8561879\\\\\n",
       "\t PPBP    & 0.8160963\\\\\n",
       "\t NTNG1   & 0.8131801\\\\\n",
       "\t IFNA5   & 0.7771863\\\\\n",
       "\t PLXNA2  & 0.7581610\\\\\n",
       "\t SBSPON  & 0.7567825\\\\\n",
       "\t CX3CL1  & 0.7385588\\\\\n",
       "\t CHAD    & 0.7129574\\\\\n",
       "\t MMP11   & 0.7011491\\\\\n",
       "\t VWA5B1  & 0.6895579\\\\\n",
       "\t COL5A3  & 0.6835044\\\\\n",
       "\t SHH     & 0.6810966\\\\\n",
       "\t RELN    & 0.6662802\\\\\n",
       "\t SFRP5   & 0.6500445\\\\\n",
       "\t FGF12   & 0.6266716\\\\\n",
       "\t CLEC4D  & 0.6259018\\\\\n",
       "\t ADAMTS9 & 0.6255510\\\\\n",
       "\\end{tabular}\n"
      ],
      "text/markdown": [
       "\n",
       "A spec_tbl_df: 20 × 2\n",
       "\n",
       "| geneID &lt;chr&gt; | MI_est_median &lt;dbl&gt; |\n",
       "|---|---|\n",
       "| LOXL3   | 0.9755391 |\n",
       "| ADAM8   | 0.9283197 |\n",
       "| ANXA8L1 | 0.8728699 |\n",
       "| CCL3L3  | 0.8561879 |\n",
       "| PPBP    | 0.8160963 |\n",
       "| NTNG1   | 0.8131801 |\n",
       "| IFNA5   | 0.7771863 |\n",
       "| PLXNA2  | 0.7581610 |\n",
       "| SBSPON  | 0.7567825 |\n",
       "| CX3CL1  | 0.7385588 |\n",
       "| CHAD    | 0.7129574 |\n",
       "| MMP11   | 0.7011491 |\n",
       "| VWA5B1  | 0.6895579 |\n",
       "| COL5A3  | 0.6835044 |\n",
       "| SHH     | 0.6810966 |\n",
       "| RELN    | 0.6662802 |\n",
       "| SFRP5   | 0.6500445 |\n",
       "| FGF12   | 0.6266716 |\n",
       "| CLEC4D  | 0.6259018 |\n",
       "| ADAMTS9 | 0.6255510 |\n",
       "\n"
      ],
      "text/plain": [
       "   geneID  MI_est_median\n",
       "1  LOXL3   0.9755391    \n",
       "2  ADAM8   0.9283197    \n",
       "3  ANXA8L1 0.8728699    \n",
       "4  CCL3L3  0.8561879    \n",
       "5  PPBP    0.8160963    \n",
       "6  NTNG1   0.8131801    \n",
       "7  IFNA5   0.7771863    \n",
       "8  PLXNA2  0.7581610    \n",
       "9  SBSPON  0.7567825    \n",
       "10 CX3CL1  0.7385588    \n",
       "11 CHAD    0.7129574    \n",
       "12 MMP11   0.7011491    \n",
       "13 VWA5B1  0.6895579    \n",
       "14 COL5A3  0.6835044    \n",
       "15 SHH     0.6810966    \n",
       "16 RELN    0.6662802    \n",
       "17 SFRP5   0.6500445    \n",
       "18 FGF12   0.6266716    \n",
       "19 CLEC4D  0.6259018    \n",
       "20 ADAMTS9 0.6255510    "
      ]
     },
     "metadata": {},
     "output_type": "display_data"
    }
   ],
   "source": [
    "mi_figo_results_df %>%\n",
    "    dplyr::top_n(20, MI_est_median) %>%\n",
    "    dplyr::arrange(desc(MI_est_median))"
   ]
  },
  {
   "cell_type": "markdown",
   "metadata": {},
   "source": [
    "# F1 GBC quick glance"
   ]
  },
  {
   "cell_type": "code",
   "execution_count": 15,
   "metadata": {
    "collapsed": true,
    "jupyter": {
     "outputs_hidden": true
    }
   },
   "outputs": [
    {
     "name": "stderr",
     "output_type": "stream",
     "text": [
      "Parsed with column specification:\n",
      "cols(\n",
      "  geneID = col_character(),\n",
      "  mean_imp_0 = col_double(),\n",
      "  score_pct_improvement_0 = col_double(),\n",
      "  mean_imp_1 = col_double(),\n",
      "  score_pct_improvement_1 = col_double(),\n",
      "  mean_imp_2 = col_double(),\n",
      "  score_pct_improvement_2 = col_double(),\n",
      "  mean_imp_3 = col_double(),\n",
      "  score_pct_improvement_3 = col_double(),\n",
      "  mean_imp_4 = col_double(),\n",
      "  score_pct_improvement_4 = col_double(),\n",
      "  consensus_imp_mean = col_double(),\n",
      "  consensus_imp_std = col_double(),\n",
      "  consensus_imp_cv = col_double(),\n",
      "  consensus_vote = col_logical()\n",
      ")\n"
     ]
    }
   ],
   "source": [
    "f1_gbc_results_df <- read_tsv(paste0(dirs$analysis_dir, \"/\", unified_dsets[dset_idx], \"_gbc_results.tsv\"))"
   ]
  },
  {
   "cell_type": "code",
   "execution_count": 31,
   "metadata": {
    "collapsed": true,
    "jupyter": {
     "outputs_hidden": true
    }
   },
   "outputs": [
    {
     "data": {
      "text/html": [
       "<table>\n",
       "<caption>A tibble: 20 × 3</caption>\n",
       "<thead>\n",
       "\t<tr><th scope=col>geneID</th><th scope=col>consensus_vote</th><th scope=col>consensus_mean_pct_imp</th></tr>\n",
       "\t<tr><th scope=col>&lt;chr&gt;</th><th scope=col>&lt;lgl&gt;</th><th scope=col>&lt;dbl&gt;</th></tr>\n",
       "</thead>\n",
       "<tbody>\n",
       "\t<tr><td>AMELX   </td><td>FALSE</td><td>2.2009790</td></tr>\n",
       "\t<tr><td>NCAN    </td><td> TRUE</td><td>1.8322940</td></tr>\n",
       "\t<tr><td>CSF3    </td><td>FALSE</td><td>1.6751470</td></tr>\n",
       "\t<tr><td>XCL1    </td><td>FALSE</td><td>1.2901529</td></tr>\n",
       "\t<tr><td>LPA     </td><td>FALSE</td><td>0.9904496</td></tr>\n",
       "\t<tr><td>TGM3    </td><td>FALSE</td><td>0.8955166</td></tr>\n",
       "\t<tr><td>PF4V1   </td><td>FALSE</td><td>0.7594193</td></tr>\n",
       "\t<tr><td>CHRDL2  </td><td>FALSE</td><td>0.7342582</td></tr>\n",
       "\t<tr><td>OSM     </td><td>FALSE</td><td>0.6853571</td></tr>\n",
       "\t<tr><td>SERPINA4</td><td>FALSE</td><td>0.6424801</td></tr>\n",
       "\t<tr><td>AMBP    </td><td>FALSE</td><td>0.6047757</td></tr>\n",
       "\t<tr><td>COL15A1 </td><td>FALSE</td><td>0.6018704</td></tr>\n",
       "\t<tr><td>FMOD    </td><td>FALSE</td><td>0.5980492</td></tr>\n",
       "\t<tr><td>CLEC10A </td><td>FALSE</td><td>0.5648222</td></tr>\n",
       "\t<tr><td>WNT10B  </td><td>FALSE</td><td>0.5220130</td></tr>\n",
       "\t<tr><td>FGF10   </td><td>FALSE</td><td>0.5180973</td></tr>\n",
       "\t<tr><td>IGFBP6  </td><td>FALSE</td><td>0.5040032</td></tr>\n",
       "\t<tr><td>S100A16 </td><td>FALSE</td><td>0.4857918</td></tr>\n",
       "\t<tr><td>ADAMTSL5</td><td>FALSE</td><td>0.4714345</td></tr>\n",
       "\t<tr><td>EGFL8   </td><td>FALSE</td><td>0.4513905</td></tr>\n",
       "</tbody>\n",
       "</table>\n"
      ],
      "text/latex": [
       "A tibble: 20 × 3\n",
       "\\begin{tabular}{lll}\n",
       " geneID & consensus\\_vote & consensus\\_mean\\_pct\\_imp\\\\\n",
       " <chr> & <lgl> & <dbl>\\\\\n",
       "\\hline\n",
       "\t AMELX    & FALSE & 2.2009790\\\\\n",
       "\t NCAN     &  TRUE & 1.8322940\\\\\n",
       "\t CSF3     & FALSE & 1.6751470\\\\\n",
       "\t XCL1     & FALSE & 1.2901529\\\\\n",
       "\t LPA      & FALSE & 0.9904496\\\\\n",
       "\t TGM3     & FALSE & 0.8955166\\\\\n",
       "\t PF4V1    & FALSE & 0.7594193\\\\\n",
       "\t CHRDL2   & FALSE & 0.7342582\\\\\n",
       "\t OSM      & FALSE & 0.6853571\\\\\n",
       "\t SERPINA4 & FALSE & 0.6424801\\\\\n",
       "\t AMBP     & FALSE & 0.6047757\\\\\n",
       "\t COL15A1  & FALSE & 0.6018704\\\\\n",
       "\t FMOD     & FALSE & 0.5980492\\\\\n",
       "\t CLEC10A  & FALSE & 0.5648222\\\\\n",
       "\t WNT10B   & FALSE & 0.5220130\\\\\n",
       "\t FGF10    & FALSE & 0.5180973\\\\\n",
       "\t IGFBP6   & FALSE & 0.5040032\\\\\n",
       "\t S100A16  & FALSE & 0.4857918\\\\\n",
       "\t ADAMTSL5 & FALSE & 0.4714345\\\\\n",
       "\t EGFL8    & FALSE & 0.4513905\\\\\n",
       "\\end{tabular}\n"
      ],
      "text/markdown": [
       "\n",
       "A tibble: 20 × 3\n",
       "\n",
       "| geneID &lt;chr&gt; | consensus_vote &lt;lgl&gt; | consensus_mean_pct_imp &lt;dbl&gt; |\n",
       "|---|---|---|\n",
       "| AMELX    | FALSE | 2.2009790 |\n",
       "| NCAN     |  TRUE | 1.8322940 |\n",
       "| CSF3     | FALSE | 1.6751470 |\n",
       "| XCL1     | FALSE | 1.2901529 |\n",
       "| LPA      | FALSE | 0.9904496 |\n",
       "| TGM3     | FALSE | 0.8955166 |\n",
       "| PF4V1    | FALSE | 0.7594193 |\n",
       "| CHRDL2   | FALSE | 0.7342582 |\n",
       "| OSM      | FALSE | 0.6853571 |\n",
       "| SERPINA4 | FALSE | 0.6424801 |\n",
       "| AMBP     | FALSE | 0.6047757 |\n",
       "| COL15A1  | FALSE | 0.6018704 |\n",
       "| FMOD     | FALSE | 0.5980492 |\n",
       "| CLEC10A  | FALSE | 0.5648222 |\n",
       "| WNT10B   | FALSE | 0.5220130 |\n",
       "| FGF10    | FALSE | 0.5180973 |\n",
       "| IGFBP6   | FALSE | 0.5040032 |\n",
       "| S100A16  | FALSE | 0.4857918 |\n",
       "| ADAMTSL5 | FALSE | 0.4714345 |\n",
       "| EGFL8    | FALSE | 0.4513905 |\n",
       "\n"
      ],
      "text/plain": [
       "   geneID   consensus_vote consensus_mean_pct_imp\n",
       "1  AMELX    FALSE          2.2009790             \n",
       "2  NCAN      TRUE          1.8322940             \n",
       "3  CSF3     FALSE          1.6751470             \n",
       "4  XCL1     FALSE          1.2901529             \n",
       "5  LPA      FALSE          0.9904496             \n",
       "6  TGM3     FALSE          0.8955166             \n",
       "7  PF4V1    FALSE          0.7594193             \n",
       "8  CHRDL2   FALSE          0.7342582             \n",
       "9  OSM      FALSE          0.6853571             \n",
       "10 SERPINA4 FALSE          0.6424801             \n",
       "11 AMBP     FALSE          0.6047757             \n",
       "12 COL15A1  FALSE          0.6018704             \n",
       "13 FMOD     FALSE          0.5980492             \n",
       "14 CLEC10A  FALSE          0.5648222             \n",
       "15 WNT10B   FALSE          0.5220130             \n",
       "16 FGF10    FALSE          0.5180973             \n",
       "17 IGFBP6   FALSE          0.5040032             \n",
       "18 S100A16  FALSE          0.4857918             \n",
       "19 ADAMTSL5 FALSE          0.4714345             \n",
       "20 EGFL8    FALSE          0.4513905             "
      ]
     },
     "metadata": {},
     "output_type": "display_data"
    }
   ],
   "source": [
    "f1_gbc_results_df %>%\n",
    "    dplyr::select(geneID, contains(\"pct\"), consensus_vote) %>%\n",
    "    dplyr::mutate(consensus_mean_pct_imp = rowMeans(dplyr::select(., contains(\"pct\")))) %>%\n",
    "    dplyr::select(geneID, consensus_vote, consensus_mean_pct_imp) %>%\n",
    "    dplyr::top_n(20, consensus_mean_pct_imp) %>%\n",
    "    dplyr::arrange(desc(consensus_mean_pct_imp))"
   ]
  },
  {
   "cell_type": "markdown",
   "metadata": {},
   "source": [
    "# F1 RFC quick glance"
   ]
  },
  {
   "cell_type": "code",
   "execution_count": 32,
   "metadata": {
    "collapsed": true,
    "jupyter": {
     "outputs_hidden": true
    }
   },
   "outputs": [
    {
     "name": "stderr",
     "output_type": "stream",
     "text": [
      "Parsed with column specification:\n",
      "cols(\n",
      "  geneID = col_character(),\n",
      "  mean_imp_0 = col_double(),\n",
      "  score_pct_improvement_0 = col_double(),\n",
      "  mean_imp_1 = col_double(),\n",
      "  score_pct_improvement_1 = col_double(),\n",
      "  mean_imp_2 = col_double(),\n",
      "  score_pct_improvement_2 = col_double(),\n",
      "  mean_imp_3 = col_double(),\n",
      "  score_pct_improvement_3 = col_double(),\n",
      "  mean_imp_4 = col_double(),\n",
      "  score_pct_improvement_4 = col_double(),\n",
      "  consensus_imp_mean = col_double(),\n",
      "  consensus_imp_std = col_double(),\n",
      "  consensus_imp_cv = col_double(),\n",
      "  consensus_vote = col_logical()\n",
      ")\n"
     ]
    }
   ],
   "source": [
    "f1_rfc_results_df <- read_tsv(paste0(dirs$analysis_dir, \"/\", unified_dsets[dset_idx], \"_rfc_results.tsv\"))"
   ]
  },
  {
   "cell_type": "code",
   "execution_count": 33,
   "metadata": {
    "collapsed": true,
    "jupyter": {
     "outputs_hidden": true
    }
   },
   "outputs": [
    {
     "data": {
      "text/html": [
       "<table>\n",
       "<caption>A tibble: 20 × 3</caption>\n",
       "<thead>\n",
       "\t<tr><th scope=col>geneID</th><th scope=col>consensus_vote</th><th scope=col>consensus_mean_pct_imp</th></tr>\n",
       "\t<tr><th scope=col>&lt;chr&gt;</th><th scope=col>&lt;lgl&gt;</th><th scope=col>&lt;dbl&gt;</th></tr>\n",
       "</thead>\n",
       "<tbody>\n",
       "\t<tr><td>NCAN   </td><td>FALSE</td><td>2.2305067</td></tr>\n",
       "\t<tr><td>TCHH   </td><td>FALSE</td><td>2.2244728</td></tr>\n",
       "\t<tr><td>CHRDL2 </td><td>FALSE</td><td>1.8886852</td></tr>\n",
       "\t<tr><td>XCL1   </td><td>FALSE</td><td>1.8300103</td></tr>\n",
       "\t<tr><td>COL11A1</td><td>FALSE</td><td>1.6658268</td></tr>\n",
       "\t<tr><td>GDF6   </td><td>FALSE</td><td>1.4732691</td></tr>\n",
       "\t<tr><td>TGM3   </td><td>FALSE</td><td>1.4680128</td></tr>\n",
       "\t<tr><td>LPA    </td><td>FALSE</td><td>1.2138383</td></tr>\n",
       "\t<tr><td>TIMP2  </td><td>FALSE</td><td>1.1756255</td></tr>\n",
       "\t<tr><td>ZP3    </td><td>FALSE</td><td>1.1405991</td></tr>\n",
       "\t<tr><td>MUC13  </td><td>FALSE</td><td>1.0888230</td></tr>\n",
       "\t<tr><td>DMP1   </td><td>FALSE</td><td>1.0722727</td></tr>\n",
       "\t<tr><td>CBLN2  </td><td>FALSE</td><td>1.0718864</td></tr>\n",
       "\t<tr><td>BMPER  </td><td>FALSE</td><td>1.0495647</td></tr>\n",
       "\t<tr><td>CTSC   </td><td>FALSE</td><td>1.0224114</td></tr>\n",
       "\t<tr><td>GPC3   </td><td>FALSE</td><td>1.0191051</td></tr>\n",
       "\t<tr><td>CST1   </td><td>FALSE</td><td>0.9972462</td></tr>\n",
       "\t<tr><td>EPYC   </td><td>FALSE</td><td>0.9972462</td></tr>\n",
       "\t<tr><td>HMCN1  </td><td>FALSE</td><td>0.9938808</td></tr>\n",
       "\t<tr><td>WNT2B  </td><td>FALSE</td><td>0.9804189</td></tr>\n",
       "</tbody>\n",
       "</table>\n"
      ],
      "text/latex": [
       "A tibble: 20 × 3\n",
       "\\begin{tabular}{lll}\n",
       " geneID & consensus\\_vote & consensus\\_mean\\_pct\\_imp\\\\\n",
       " <chr> & <lgl> & <dbl>\\\\\n",
       "\\hline\n",
       "\t NCAN    & FALSE & 2.2305067\\\\\n",
       "\t TCHH    & FALSE & 2.2244728\\\\\n",
       "\t CHRDL2  & FALSE & 1.8886852\\\\\n",
       "\t XCL1    & FALSE & 1.8300103\\\\\n",
       "\t COL11A1 & FALSE & 1.6658268\\\\\n",
       "\t GDF6    & FALSE & 1.4732691\\\\\n",
       "\t TGM3    & FALSE & 1.4680128\\\\\n",
       "\t LPA     & FALSE & 1.2138383\\\\\n",
       "\t TIMP2   & FALSE & 1.1756255\\\\\n",
       "\t ZP3     & FALSE & 1.1405991\\\\\n",
       "\t MUC13   & FALSE & 1.0888230\\\\\n",
       "\t DMP1    & FALSE & 1.0722727\\\\\n",
       "\t CBLN2   & FALSE & 1.0718864\\\\\n",
       "\t BMPER   & FALSE & 1.0495647\\\\\n",
       "\t CTSC    & FALSE & 1.0224114\\\\\n",
       "\t GPC3    & FALSE & 1.0191051\\\\\n",
       "\t CST1    & FALSE & 0.9972462\\\\\n",
       "\t EPYC    & FALSE & 0.9972462\\\\\n",
       "\t HMCN1   & FALSE & 0.9938808\\\\\n",
       "\t WNT2B   & FALSE & 0.9804189\\\\\n",
       "\\end{tabular}\n"
      ],
      "text/markdown": [
       "\n",
       "A tibble: 20 × 3\n",
       "\n",
       "| geneID &lt;chr&gt; | consensus_vote &lt;lgl&gt; | consensus_mean_pct_imp &lt;dbl&gt; |\n",
       "|---|---|---|\n",
       "| NCAN    | FALSE | 2.2305067 |\n",
       "| TCHH    | FALSE | 2.2244728 |\n",
       "| CHRDL2  | FALSE | 1.8886852 |\n",
       "| XCL1    | FALSE | 1.8300103 |\n",
       "| COL11A1 | FALSE | 1.6658268 |\n",
       "| GDF6    | FALSE | 1.4732691 |\n",
       "| TGM3    | FALSE | 1.4680128 |\n",
       "| LPA     | FALSE | 1.2138383 |\n",
       "| TIMP2   | FALSE | 1.1756255 |\n",
       "| ZP3     | FALSE | 1.1405991 |\n",
       "| MUC13   | FALSE | 1.0888230 |\n",
       "| DMP1    | FALSE | 1.0722727 |\n",
       "| CBLN2   | FALSE | 1.0718864 |\n",
       "| BMPER   | FALSE | 1.0495647 |\n",
       "| CTSC    | FALSE | 1.0224114 |\n",
       "| GPC3    | FALSE | 1.0191051 |\n",
       "| CST1    | FALSE | 0.9972462 |\n",
       "| EPYC    | FALSE | 0.9972462 |\n",
       "| HMCN1   | FALSE | 0.9938808 |\n",
       "| WNT2B   | FALSE | 0.9804189 |\n",
       "\n"
      ],
      "text/plain": [
       "   geneID  consensus_vote consensus_mean_pct_imp\n",
       "1  NCAN    FALSE          2.2305067             \n",
       "2  TCHH    FALSE          2.2244728             \n",
       "3  CHRDL2  FALSE          1.8886852             \n",
       "4  XCL1    FALSE          1.8300103             \n",
       "5  COL11A1 FALSE          1.6658268             \n",
       "6  GDF6    FALSE          1.4732691             \n",
       "7  TGM3    FALSE          1.4680128             \n",
       "8  LPA     FALSE          1.2138383             \n",
       "9  TIMP2   FALSE          1.1756255             \n",
       "10 ZP3     FALSE          1.1405991             \n",
       "11 MUC13   FALSE          1.0888230             \n",
       "12 DMP1    FALSE          1.0722727             \n",
       "13 CBLN2   FALSE          1.0718864             \n",
       "14 BMPER   FALSE          1.0495647             \n",
       "15 CTSC    FALSE          1.0224114             \n",
       "16 GPC3    FALSE          1.0191051             \n",
       "17 CST1    FALSE          0.9972462             \n",
       "18 EPYC    FALSE          0.9972462             \n",
       "19 HMCN1   FALSE          0.9938808             \n",
       "20 WNT2B   FALSE          0.9804189             "
      ]
     },
     "metadata": {},
     "output_type": "display_data"
    }
   ],
   "source": [
    "f1_rfc_results_df %>%\n",
    "    dplyr::select(geneID, contains(\"pct\"), consensus_vote) %>%\n",
    "    dplyr::mutate(consensus_mean_pct_imp = rowMeans(dplyr::select(., contains(\"pct\")))) %>%\n",
    "    dplyr::select(geneID, consensus_vote, consensus_mean_pct_imp) %>%\n",
    "    dplyr::top_n(20, consensus_mean_pct_imp) %>%\n",
    "    dplyr::arrange(desc(consensus_mean_pct_imp))"
   ]
  },
  {
   "cell_type": "markdown",
   "metadata": {},
   "source": [
    "# L1 LR quick glance"
   ]
  },
  {
   "cell_type": "code",
   "execution_count": 34,
   "metadata": {
    "collapsed": true,
    "jupyter": {
     "outputs_hidden": true
    }
   },
   "outputs": [
    {
     "name": "stderr",
     "output_type": "stream",
     "text": [
      "Parsed with column specification:\n",
      "cols(\n",
      "  geneID = col_character(),\n",
      "  mean_imp_0 = col_double(),\n",
      "  score_pct_improvement_0 = col_double(),\n",
      "  mean_imp_1 = col_double(),\n",
      "  score_pct_improvement_1 = col_double(),\n",
      "  mean_imp_2 = col_double(),\n",
      "  score_pct_improvement_2 = col_double(),\n",
      "  mean_imp_3 = col_double(),\n",
      "  score_pct_improvement_3 = col_double(),\n",
      "  mean_imp_4 = col_double(),\n",
      "  score_pct_improvement_4 = col_double(),\n",
      "  consensus_imp_mean = col_double(),\n",
      "  consensus_imp_std = col_double(),\n",
      "  consensus_imp_cv = col_double(),\n",
      "  consensus_vote = col_logical()\n",
      ")\n"
     ]
    }
   ],
   "source": [
    "l1_lr_results_df <- read_tsv(paste0(dirs$analysis_dir, \"/\", unified_dsets[dset_idx], \"_l1_lr_results.tsv\"))"
   ]
  },
  {
   "cell_type": "code",
   "execution_count": 39,
   "metadata": {
    "collapsed": true,
    "jupyter": {
     "outputs_hidden": true
    }
   },
   "outputs": [
    {
     "data": {
      "text/html": [
       "<table>\n",
       "<caption>A tibble: 20 × 3</caption>\n",
       "<thead>\n",
       "\t<tr><th scope=col>geneID</th><th scope=col>consensus_vote</th><th scope=col>consensus_mean_pct_imp</th></tr>\n",
       "\t<tr><th scope=col>&lt;chr&gt;</th><th scope=col>&lt;lgl&gt;</th><th scope=col>&lt;dbl&gt;</th></tr>\n",
       "</thead>\n",
       "<tbody>\n",
       "\t<tr><td>FGF1    </td><td>TRUE</td><td>9.549765</td></tr>\n",
       "\t<tr><td>CELA1   </td><td>TRUE</td><td>8.284395</td></tr>\n",
       "\t<tr><td>PDGFC   </td><td>TRUE</td><td>7.715524</td></tr>\n",
       "\t<tr><td>CCL16   </td><td>TRUE</td><td>6.328994</td></tr>\n",
       "\t<tr><td>NCAN    </td><td>TRUE</td><td>6.214198</td></tr>\n",
       "\t<tr><td>XCL1    </td><td>TRUE</td><td>5.835793</td></tr>\n",
       "\t<tr><td>MEGF11  </td><td>TRUE</td><td>5.443356</td></tr>\n",
       "\t<tr><td>BMPER   </td><td>TRUE</td><td>5.424592</td></tr>\n",
       "\t<tr><td>WNT1    </td><td>TRUE</td><td>4.790320</td></tr>\n",
       "\t<tr><td>SERPINB9</td><td>TRUE</td><td>4.666706</td></tr>\n",
       "\t<tr><td>PI3     </td><td>TRUE</td><td>4.656740</td></tr>\n",
       "\t<tr><td>LPA     </td><td>TRUE</td><td>4.417925</td></tr>\n",
       "\t<tr><td>ANXA11  </td><td>TRUE</td><td>4.343959</td></tr>\n",
       "\t<tr><td>TGM3    </td><td>TRUE</td><td>4.226445</td></tr>\n",
       "\t<tr><td>ADAMTSL4</td><td>TRUE</td><td>4.049307</td></tr>\n",
       "\t<tr><td>NRG3    </td><td>TRUE</td><td>4.045925</td></tr>\n",
       "\t<tr><td>ANGPTL2 </td><td>TRUE</td><td>3.458919</td></tr>\n",
       "\t<tr><td>AMBP    </td><td>TRUE</td><td>3.337952</td></tr>\n",
       "\t<tr><td>CNTF    </td><td>TRUE</td><td>3.317160</td></tr>\n",
       "\t<tr><td>GDNF    </td><td>TRUE</td><td>3.289375</td></tr>\n",
       "</tbody>\n",
       "</table>\n"
      ],
      "text/latex": [
       "A tibble: 20 × 3\n",
       "\\begin{tabular}{lll}\n",
       " geneID & consensus\\_vote & consensus\\_mean\\_pct\\_imp\\\\\n",
       " <chr> & <lgl> & <dbl>\\\\\n",
       "\\hline\n",
       "\t FGF1     & TRUE & 9.549765\\\\\n",
       "\t CELA1    & TRUE & 8.284395\\\\\n",
       "\t PDGFC    & TRUE & 7.715524\\\\\n",
       "\t CCL16    & TRUE & 6.328994\\\\\n",
       "\t NCAN     & TRUE & 6.214198\\\\\n",
       "\t XCL1     & TRUE & 5.835793\\\\\n",
       "\t MEGF11   & TRUE & 5.443356\\\\\n",
       "\t BMPER    & TRUE & 5.424592\\\\\n",
       "\t WNT1     & TRUE & 4.790320\\\\\n",
       "\t SERPINB9 & TRUE & 4.666706\\\\\n",
       "\t PI3      & TRUE & 4.656740\\\\\n",
       "\t LPA      & TRUE & 4.417925\\\\\n",
       "\t ANXA11   & TRUE & 4.343959\\\\\n",
       "\t TGM3     & TRUE & 4.226445\\\\\n",
       "\t ADAMTSL4 & TRUE & 4.049307\\\\\n",
       "\t NRG3     & TRUE & 4.045925\\\\\n",
       "\t ANGPTL2  & TRUE & 3.458919\\\\\n",
       "\t AMBP     & TRUE & 3.337952\\\\\n",
       "\t CNTF     & TRUE & 3.317160\\\\\n",
       "\t GDNF     & TRUE & 3.289375\\\\\n",
       "\\end{tabular}\n"
      ],
      "text/markdown": [
       "\n",
       "A tibble: 20 × 3\n",
       "\n",
       "| geneID &lt;chr&gt; | consensus_vote &lt;lgl&gt; | consensus_mean_pct_imp &lt;dbl&gt; |\n",
       "|---|---|---|\n",
       "| FGF1     | TRUE | 9.549765 |\n",
       "| CELA1    | TRUE | 8.284395 |\n",
       "| PDGFC    | TRUE | 7.715524 |\n",
       "| CCL16    | TRUE | 6.328994 |\n",
       "| NCAN     | TRUE | 6.214198 |\n",
       "| XCL1     | TRUE | 5.835793 |\n",
       "| MEGF11   | TRUE | 5.443356 |\n",
       "| BMPER    | TRUE | 5.424592 |\n",
       "| WNT1     | TRUE | 4.790320 |\n",
       "| SERPINB9 | TRUE | 4.666706 |\n",
       "| PI3      | TRUE | 4.656740 |\n",
       "| LPA      | TRUE | 4.417925 |\n",
       "| ANXA11   | TRUE | 4.343959 |\n",
       "| TGM3     | TRUE | 4.226445 |\n",
       "| ADAMTSL4 | TRUE | 4.049307 |\n",
       "| NRG3     | TRUE | 4.045925 |\n",
       "| ANGPTL2  | TRUE | 3.458919 |\n",
       "| AMBP     | TRUE | 3.337952 |\n",
       "| CNTF     | TRUE | 3.317160 |\n",
       "| GDNF     | TRUE | 3.289375 |\n",
       "\n"
      ],
      "text/plain": [
       "   geneID   consensus_vote consensus_mean_pct_imp\n",
       "1  FGF1     TRUE           9.549765              \n",
       "2  CELA1    TRUE           8.284395              \n",
       "3  PDGFC    TRUE           7.715524              \n",
       "4  CCL16    TRUE           6.328994              \n",
       "5  NCAN     TRUE           6.214198              \n",
       "6  XCL1     TRUE           5.835793              \n",
       "7  MEGF11   TRUE           5.443356              \n",
       "8  BMPER    TRUE           5.424592              \n",
       "9  WNT1     TRUE           4.790320              \n",
       "10 SERPINB9 TRUE           4.666706              \n",
       "11 PI3      TRUE           4.656740              \n",
       "12 LPA      TRUE           4.417925              \n",
       "13 ANXA11   TRUE           4.343959              \n",
       "14 TGM3     TRUE           4.226445              \n",
       "15 ADAMTSL4 TRUE           4.049307              \n",
       "16 NRG3     TRUE           4.045925              \n",
       "17 ANGPTL2  TRUE           3.458919              \n",
       "18 AMBP     TRUE           3.337952              \n",
       "19 CNTF     TRUE           3.317160              \n",
       "20 GDNF     TRUE           3.289375              "
      ]
     },
     "metadata": {},
     "output_type": "display_data"
    }
   ],
   "source": [
    "l1_lr_results_df %>%\n",
    "    dplyr::select(geneID, contains(\"pct\"), consensus_vote) %>%\n",
    "    dplyr::mutate(consensus_mean_pct_imp = rowMeans(dplyr::select(., contains(\"pct\")))) %>%\n",
    "    dplyr::select(geneID, consensus_vote, consensus_mean_pct_imp) %>%\n",
    "    dplyr::top_n(20, consensus_mean_pct_imp) %>%\n",
    "    dplyr::arrange(desc(consensus_mean_pct_imp))"
   ]
  }
 ],
 "metadata": {
  "kernelspec": {
   "display_name": "R",
   "language": "R",
   "name": "ir"
  },
  "language_info": {
   "codemirror_mode": "r",
   "file_extension": ".r",
   "mimetype": "text/x-r-source",
   "name": "R",
   "pygments_lexer": "r",
   "version": "3.6.3"
  }
 },
 "nbformat": 4,
 "nbformat_minor": 4
}
