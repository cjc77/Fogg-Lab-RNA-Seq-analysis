{
 "cells": [
  {
   "cell_type": "code",
   "execution_count": 1,
   "metadata": {},
   "outputs": [],
   "source": [
    "import pandas as pd\n",
    "import numpy as np\n",
    "import os\n",
    "from sklearn.ensemble import RandomForestClassifier\n",
    "from sklearn.pipeline import make_pipeline, Pipeline\n",
    "from sklearn.preprocessing import StandardScaler\n",
    "from sklearn.model_selection import cross_val_score, KFold\n",
    "from sklearn.compose import ColumnTransformer, TransformedTargetRegressor\n",
    "from sklearn.metrics import f1_score\n",
    "from skopt.space import Real, Integer, Categorical\n",
    "from skopt import gp_minimize\n",
    "\n",
    "import utils.dev_config as dev_conf\n",
    "import utils.preprocessing as prep\n",
    "import utils.optimization as opt"
   ]
  },
  {
   "cell_type": "code",
   "execution_count": 2,
   "metadata": {},
   "outputs": [],
   "source": [
    "dirs = dev_conf.get_dev_directories(\"../dev_paths.txt\")\n",
    "unified_dsets = [\"unified_cervical_data\", \"unified_uterine_data\", \"unified_uterine_endometrial_data\"]\n",
    "matrisome_list = f\"{dirs.data_dir}/matrisome/matrisome_hs_masterlist.tsv\""
   ]
  },
  {
   "cell_type": "code",
   "execution_count": 3,
   "metadata": {},
   "outputs": [],
   "source": [
    "dset_idx = 0"
   ]
  },
  {
   "cell_type": "code",
   "execution_count": 4,
   "metadata": {},
   "outputs": [],
   "source": [
    "matrisome_df = prep.load_matrisome_df(matrisome_list)"
   ]
  },
  {
   "cell_type": "code",
   "execution_count": 5,
   "metadata": {},
   "outputs": [],
   "source": [
    "seed = 123\n",
    "rand = np.random.RandomState()"
   ]
  },
  {
   "cell_type": "markdown",
   "metadata": {},
   "source": [
    "# Load and filter survival data"
   ]
  },
  {
   "cell_type": "code",
   "execution_count": 6,
   "metadata": {},
   "outputs": [],
   "source": [
    "event_code = {\"Alive\": 0, \"Dead\": 1}\n",
    "covariate_cols = [\"age_at_diagnosis\", \"race\", \"ethnicity\"]\n",
    "dep_cols = [\"figo_stage\"]\n",
    "cat_cols = [\"race\", \"ethnicity\"]\n",
    "survival_df = prep.load_survival_df(f\"{dirs.data_dir}/{unified_dsets[dset_idx]}/survival_data.tsv\", event_code)"
   ]
  },
  {
   "cell_type": "code",
   "execution_count": 7,
   "metadata": {},
   "outputs": [
    {
     "name": "stdout",
     "output_type": "stream",
     "text": [
      "(255, 12)\n"
     ]
    }
   ],
   "source": [
    "filtered_survival_df = (\n",
    "    prep.decode_figo_stage(survival_df[[\"sample_name\"] + dep_cols + covariate_cols].dropna(), to=\"n\")\n",
    "        .pipe(pd.get_dummies, columns=cat_cols)\n",
    "        .reset_index(drop = True)\n",
    "        .pipe(prep.cols_to_front, [\"sample_name\", \"figo_num\"])\n",
    ")\n",
    "filtered_survival_df.columns = filtered_survival_df.columns.str.replace(' ', '_')\n",
    "print(filtered_survival_df.shape)\n",
    "# filtered_survival_df.head()"
   ]
  },
  {
   "cell_type": "markdown",
   "metadata": {},
   "source": [
    "# Load normalized matrisome count data"
   ]
  },
  {
   "cell_type": "code",
   "execution_count": 8,
   "metadata": {},
   "outputs": [
    {
     "name": "stdout",
     "output_type": "stream",
     "text": [
      "(255, 1009)\n"
     ]
    }
   ],
   "source": [
    "norm_matrisome_counts_df = pd.read_csv(f\"{dirs.data_dir}/{unified_dsets[dset_idx]}/norm_matrisome_counts.tsv\", sep='\\t')\n",
    "norm_filtered_matrisome_counts_t_df = prep.transpose_df(\n",
    "    norm_matrisome_counts_df[[\"geneID\"] + list(filtered_survival_df.sample_name)], \"geneID\", \"sample_name\"\n",
    ")\n",
    "print(norm_filtered_matrisome_counts_t_df.shape)\n",
    "# norm_filtered_matrisome_counts_t_df.head()"
   ]
  },
  {
   "cell_type": "markdown",
   "metadata": {},
   "source": [
    "# Join survival and count data"
   ]
  },
  {
   "cell_type": "code",
   "execution_count": 9,
   "metadata": {},
   "outputs": [
    {
     "name": "stdout",
     "output_type": "stream",
     "text": [
      "(255, 1019)\n"
     ]
    }
   ],
   "source": [
    "joined_df = (\n",
    "    pd.merge(filtered_survival_df, norm_filtered_matrisome_counts_t_df, on=\"sample_name\")\n",
    "        .set_index(\"sample_name\")\n",
    ")\n",
    "print(joined_df.shape)\n",
    "# joined_df.head()"
   ]
  },
  {
   "cell_type": "markdown",
   "metadata": {},
   "source": [
    "# Optimize model"
   ]
  },
  {
   "cell_type": "code",
   "execution_count": 10,
   "metadata": {},
   "outputs": [],
   "source": [
    "rand.seed(seed)\n",
    "x_df, y_df = prep.shuffle_data(joined_df, rand)"
   ]
  },
  {
   "cell_type": "markdown",
   "metadata": {},
   "source": [
    "## Get baselines"
   ]
  },
  {
   "cell_type": "code",
   "execution_count": 11,
   "metadata": {},
   "outputs": [
    {
     "name": "stdout",
     "output_type": "stream",
     "text": [
      "Most frequent baseline: 0.3665158371040725\n",
      "Monte Carlo baseline: 0.36632086664743835\n"
     ]
    }
   ],
   "source": [
    "def est_mc_baseline(y, labels, weights, metric, n=11):\n",
    "    scores = []\n",
    "    for _ in range(n):\n",
    "        mc_yhat = np.random.choice(labels, size=y.shape[0], p = weights)\n",
    "        scores.append(metric(y, mc_yhat))\n",
    "    return np.array(scores)\n",
    "\n",
    "rand.seed(seed)\n",
    "\n",
    "label_value_counts_df = (\n",
    "    pd.DataFrame(y_df.figo_num.value_counts()).reset_index()\n",
    "        .rename(columns={\"index\": \"label\", \"figo_num\": \"n\"})\n",
    "        .sort_values(\"n\", ascending=False)\n",
    ")\n",
    "\n",
    "most_frequent_label = label_value_counts_df.label[0]\n",
    "most_frequent_baseline = f1_score(y_df.values.squeeze(), np.repeat(most_frequent_label, y_df.shape[0]), average=\"weighted\")\n",
    "\n",
    "mc_baseline = est_mc_baseline(\n",
    "    y=y_df.values.squeeze(),\n",
    "    labels=label_value_counts_df.label.values,\n",
    "    weights=label_value_counts_df.n.values / label_value_counts_df.n.values.sum(),\n",
    "    metric=lambda y, yhat: f1_score(y, yhat, average=\"weighted\"),\n",
    "    n=1001\n",
    ")\n",
    "\n",
    "print(f\"Most frequent baseline: {most_frequent_baseline}\")\n",
    "print(f\"Monte Carlo baseline: {mc_baseline.mean()}\")"
   ]
  },
  {
   "cell_type": "markdown",
   "metadata": {},
   "source": [
    "## SMBO"
   ]
  },
  {
   "cell_type": "code",
   "execution_count": 12,
   "metadata": {},
   "outputs": [],
   "source": [
    "def objective(h_params, X, y, scoring_default, r, verbose=True):\n",
    "    if verbose:\n",
    "        print(h_params)\n",
    "    model = RandomForestClassifier(\n",
    "        n_estimators=h_params[0],\n",
    "        max_depth=h_params[1],\n",
    "        max_features=h_params[2],\n",
    "        min_samples_split=h_params[3],\n",
    "        min_samples_leaf=h_params[4],\n",
    "        bootstrap=h_params[5],\n",
    "        n_jobs=-1,\n",
    "        random_state=r\n",
    "    )\n",
    "    return -np.mean(cross_val_score(\n",
    "        model,\n",
    "        X,\n",
    "        y,\n",
    "        cv=KFold(n_splits=5),\n",
    "        n_jobs=-1,\n",
    "        scoring=scoring_default\n",
    "    ))"
   ]
  },
  {
   "cell_type": "code",
   "execution_count": 13,
   "metadata": {},
   "outputs": [],
   "source": [
    "space = [\n",
    "    Integer(int(1e2), int(1e3), name=\"n_estimators\"),\n",
    "    Integer(int(10), int(100), name=\"max_depth\"),\n",
    "    Categorical([\"auto\", \"sqrt\", \"log2\"], name=\"max_features\"),\n",
    "    Integer(int(2), int(4), name=\"min_samples_split\"),\n",
    "    Integer(int(1), int(3), name=\"min_samples_leaf\"),\n",
    "    Categorical([True, False], name=\"bootstrap\")\n",
    "]\n",
    "n_initial = 10 * len(space)\n",
    "n_calls = 50 * len(space)"
   ]
  },
  {
   "cell_type": "code",
   "execution_count": 14,
   "metadata": {
    "collapsed": true,
    "jupyter": {
     "outputs_hidden": true
    }
   },
   "outputs": [
    {
     "name": "stdout",
     "output_type": "stream",
     "text": [
      "Iteration No: 1 started. Evaluating function at random point.\n",
      "[742, 49, 'log2', 3, 2, True]\n",
      "Iteration No: 1 ended. Evaluation done at random point.\n",
      "Time taken: 3.8023\n",
      "Function value obtained: -0.3691\n",
      "Current minimum: -0.3691\n",
      "Iteration No: 2 started. Evaluating function at random point.\n",
      "[470, 62, 'auto', 3, 2, False]\n",
      "Iteration No: 2 ended. Evaluation done at random point.\n",
      "Time taken: 2.8629\n",
      "Function value obtained: -0.3887\n",
      "Current minimum: -0.3887\n",
      "Iteration No: 3 started. Evaluating function at random point.\n",
      "[320, 73, 'log2', 3, 2, False]\n",
      "Iteration No: 3 ended. Evaluation done at random point.\n",
      "Time taken: 1.6539\n",
      "Function value obtained: -0.3782\n",
      "Current minimum: -0.3887\n",
      "Iteration No: 4 started. Evaluating function at random point.\n",
      "[741, 49, 'log2', 3, 2, False]\n",
      "Iteration No: 4 ended. Evaluation done at random point.\n",
      "Time taken: 3.0310\n",
      "Function value obtained: -0.3685\n",
      "Current minimum: -0.3887\n",
      "Iteration No: 5 started. Evaluating function at random point.\n",
      "[475, 69, 'log2', 2, 3, True]\n",
      "Iteration No: 5 ended. Evaluation done at random point.\n",
      "Time taken: 1.8814\n",
      "Function value obtained: -0.3691\n",
      "Current minimum: -0.3887\n",
      "Iteration No: 6 started. Evaluating function at random point.\n",
      "[799, 13, 'auto', 2, 1, True]\n",
      "Iteration No: 6 ended. Evaluation done at random point.\n",
      "Time taken: 3.8677\n",
      "Function value obtained: -0.3699\n",
      "Current minimum: -0.3887\n",
      "Iteration No: 7 started. Evaluating function at random point.\n",
      "[775, 72, 'log2', 3, 2, False]\n",
      "Iteration No: 7 ended. Evaluation done at random point.\n",
      "Time taken: 2.6299\n",
      "Function value obtained: -0.3792\n",
      "Current minimum: -0.3887\n",
      "Iteration No: 8 started. Evaluating function at random point.\n",
      "[548, 71, 'sqrt', 2, 2, False]\n",
      "Iteration No: 8 ended. Evaluation done at random point.\n",
      "Time taken: 2.5755\n",
      "Function value obtained: -0.3955\n",
      "Current minimum: -0.3955\n",
      "Iteration No: 9 started. Evaluating function at random point.\n",
      "[493, 78, 'log2', 4, 2, False]\n",
      "Iteration No: 9 ended. Evaluation done at random point.\n",
      "Time taken: 1.7714\n",
      "Function value obtained: -0.3792\n",
      "Current minimum: -0.3955\n",
      "Iteration No: 10 started. Evaluating function at random point.\n",
      "[109, 41, 'log2', 4, 2, False]\n",
      "Iteration No: 10 ended. Evaluation done at random point.\n",
      "Time taken: 0.5248\n",
      "Function value obtained: -0.3937\n",
      "Current minimum: -0.3955\n",
      "Iteration No: 11 started. Evaluating function at random point.\n",
      "[341, 85, 'log2', 3, 1, False]\n",
      "Iteration No: 11 ended. Evaluation done at random point.\n",
      "Time taken: 1.2069\n",
      "Function value obtained: -0.3792\n",
      "Current minimum: -0.3955\n",
      "Iteration No: 12 started. Evaluating function at random point.\n",
      "[902, 26, 'log2', 2, 2, False]\n",
      "Iteration No: 12 ended. Evaluation done at random point.\n",
      "Time taken: 3.0445\n",
      "Function value obtained: -0.3764\n",
      "Current minimum: -0.3955\n",
      "Iteration No: 13 started. Evaluating function at random point.\n",
      "[927, 99, 'log2', 3, 2, False]\n",
      "Iteration No: 13 ended. Evaluation done at random point.\n",
      "Time taken: 3.0037\n",
      "Function value obtained: -0.3764\n",
      "Current minimum: -0.3955\n",
      "Iteration No: 14 started. Evaluating function at random point.\n",
      "[787, 20, 'log2', 4, 1, False]\n",
      "Iteration No: 14 ended. Evaluation done at random point.\n",
      "Time taken: 2.6590\n",
      "Function value obtained: -0.3781\n",
      "Current minimum: -0.3955\n",
      "Iteration No: 15 started. Evaluating function at random point.\n",
      "[869, 74, 'log2', 2, 2, True]\n",
      "Iteration No: 15 ended. Evaluation done at random point.\n",
      "Time taken: 3.3303\n",
      "Function value obtained: -0.3691\n",
      "Current minimum: -0.3955\n",
      "Iteration No: 16 started. Evaluating function at random point.\n",
      "[601, 10, 'log2', 2, 1, True]\n",
      "Iteration No: 16 ended. Evaluation done at random point.\n",
      "Time taken: 2.4480\n",
      "Function value obtained: -0.3691\n",
      "Current minimum: -0.3955\n",
      "Iteration No: 17 started. Evaluating function at random point.\n",
      "[363, 79, 'log2', 4, 1, True]\n",
      "Iteration No: 17 ended. Evaluation done at random point.\n",
      "Time taken: 1.5242\n",
      "Function value obtained: -0.3703\n",
      "Current minimum: -0.3955\n",
      "Iteration No: 18 started. Evaluating function at random point.\n",
      "[316, 90, 'log2', 2, 2, True]\n",
      "Iteration No: 18 ended. Evaluation done at random point.\n",
      "Time taken: 1.3352\n",
      "Function value obtained: -0.3691\n",
      "Current minimum: -0.3955\n",
      "Iteration No: 19 started. Evaluating function at random point.\n",
      "[604, 71, 'sqrt', 4, 2, False]\n",
      "Iteration No: 19 ended. Evaluation done at random point.\n",
      "Time taken: 2.8602\n",
      "Function value obtained: -0.3934\n",
      "Current minimum: -0.3955\n",
      "Iteration No: 20 started. Evaluating function at random point.\n",
      "[531, 57, 'log2', 3, 3, True]\n",
      "Iteration No: 20 ended. Evaluation done at random point.\n",
      "Time taken: 2.0990\n",
      "Function value obtained: -0.3691\n",
      "Current minimum: -0.3955\n",
      "Iteration No: 21 started. Evaluating function at random point.\n",
      "[414, 59, 'log2', 3, 2, True]\n",
      "Iteration No: 21 ended. Evaluation done at random point.\n",
      "Time taken: 1.7521\n",
      "Function value obtained: -0.3691\n",
      "Current minimum: -0.3955\n",
      "Iteration No: 22 started. Evaluating function at random point.\n",
      "[744, 57, 'log2', 3, 3, False]\n",
      "Iteration No: 22 ended. Evaluation done at random point.\n",
      "Time taken: 2.4852\n",
      "Function value obtained: -0.3714\n",
      "Current minimum: -0.3955\n",
      "Iteration No: 23 started. Evaluating function at random point.\n",
      "[989, 41, 'sqrt', 2, 1, True]\n",
      "Iteration No: 23 ended. Evaluation done at random point.\n",
      "Time taken: 5.0080\n",
      "Function value obtained: -0.3699\n",
      "Current minimum: -0.3955\n",
      "Iteration No: 24 started. Evaluating function at random point.\n",
      "[920, 28, 'auto', 4, 1, False]\n",
      "Iteration No: 24 ended. Evaluation done at random point.\n",
      "Time taken: 4.6062\n",
      "Function value obtained: -0.3913\n",
      "Current minimum: -0.3955\n",
      "Iteration No: 25 started. Evaluating function at random point.\n",
      "[161, 53, 'log2', 3, 2, False]\n",
      "Iteration No: 25 ended. Evaluation done at random point.\n",
      "Time taken: 0.6983\n",
      "Function value obtained: -0.3706\n",
      "Current minimum: -0.3955\n",
      "Iteration No: 26 started. Evaluating function at random point.\n",
      "[827, 83, 'log2', 4, 2, False]\n",
      "Iteration No: 26 ended. Evaluation done at random point.\n",
      "Time taken: 2.8281\n",
      "Function value obtained: -0.3685\n",
      "Current minimum: -0.3955\n",
      "Iteration No: 27 started. Evaluating function at random point.\n",
      "[539, 55, 'log2', 2, 1, True]\n",
      "Iteration No: 27 ended. Evaluation done at random point.\n",
      "Time taken: 2.4956\n",
      "Function value obtained: -0.3691\n",
      "Current minimum: -0.3955\n",
      "Iteration No: 28 started. Evaluating function at random point.\n",
      "[339, 89, 'log2', 3, 1, False]\n",
      "Iteration No: 28 ended. Evaluation done at random point.\n",
      "Time taken: 1.4821\n",
      "Function value obtained: -0.3785\n",
      "Current minimum: -0.3955\n",
      "Iteration No: 29 started. Evaluating function at random point.\n",
      "[241, 40, 'log2', 3, 1, True]\n",
      "Iteration No: 29 ended. Evaluation done at random point.\n",
      "Time taken: 1.1479\n",
      "Function value obtained: -0.3691\n",
      "Current minimum: -0.3955\n",
      "Iteration No: 30 started. Evaluating function at random point.\n",
      "[932, 17, 'log2', 3, 1, True]\n",
      "Iteration No: 30 ended. Evaluation done at random point.\n",
      "Time taken: 3.8558\n",
      "Function value obtained: -0.3691\n",
      "Current minimum: -0.3955\n",
      "Iteration No: 31 started. Evaluating function at random point.\n",
      "[490, 54, 'log2', 3, 3, True]\n",
      "Iteration No: 31 ended. Evaluation done at random point.\n",
      "Time taken: 2.4086\n",
      "Function value obtained: -0.3691\n",
      "Current minimum: -0.3955\n",
      "Iteration No: 32 started. Evaluating function at random point.\n",
      "[690, 52, 'log2', 3, 2, False]\n",
      "Iteration No: 32 ended. Evaluation done at random point.\n",
      "Time taken: 2.3989\n",
      "Function value obtained: -0.3771\n",
      "Current minimum: -0.3955\n",
      "Iteration No: 33 started. Evaluating function at random point.\n",
      "[722, 85, 'log2', 3, 2, False]\n",
      "Iteration No: 33 ended. Evaluation done at random point.\n",
      "Time taken: 2.1430\n",
      "Function value obtained: -0.3771\n",
      "Current minimum: -0.3955\n",
      "Iteration No: 34 started. Evaluating function at random point.\n",
      "[732, 97, 'auto', 2, 2, True]\n",
      "Iteration No: 34 ended. Evaluation done at random point.\n",
      "Time taken: 3.5270\n",
      "Function value obtained: -0.3699\n",
      "Current minimum: -0.3955\n",
      "Iteration No: 35 started. Evaluating function at random point.\n",
      "[560, 93, 'log2', 3, 3, False]\n",
      "Iteration No: 35 ended. Evaluation done at random point.\n",
      "Time taken: 1.9967\n",
      "Function value obtained: -0.3721\n",
      "Current minimum: -0.3955\n",
      "Iteration No: 36 started. Evaluating function at random point.\n",
      "[271, 37, 'log2', 3, 1, True]\n",
      "Iteration No: 36 ended. Evaluation done at random point.\n",
      "Time taken: 1.2813\n",
      "Function value obtained: -0.3775\n",
      "Current minimum: -0.3955\n",
      "Iteration No: 37 started. Evaluating function at random point.\n",
      "[643, 69, 'log2', 3, 1, False]\n",
      "Iteration No: 37 ended. Evaluation done at random point.\n",
      "Time taken: 2.2102\n",
      "Function value obtained: -0.3871\n",
      "Current minimum: -0.3955\n",
      "Iteration No: 38 started. Evaluating function at random point.\n",
      "[255, 72, 'log2', 3, 2, False]\n",
      "Iteration No: 38 ended. Evaluation done at random point.\n",
      "Time taken: 1.0222\n",
      "Function value obtained: -0.3749\n",
      "Current minimum: -0.3955\n",
      "Iteration No: 39 started. Evaluating function at random point.\n",
      "[838, 22, 'auto', 3, 1, False]\n",
      "Iteration No: 39 ended. Evaluation done at random point.\n",
      "Time taken: 4.1912\n",
      "Function value obtained: -0.3871\n",
      "Current minimum: -0.3955\n",
      "Iteration No: 40 started. Evaluating function at random point.\n",
      "[468, 44, 'log2', 4, 2, True]\n",
      "Iteration No: 40 ended. Evaluation done at random point.\n",
      "Time taken: 1.9631\n",
      "Function value obtained: -0.3691\n",
      "Current minimum: -0.3955\n",
      "Iteration No: 41 started. Evaluating function at random point.\n",
      "[205, 81, 'log2', 2, 1, True]\n",
      "Iteration No: 41 ended. Evaluation done at random point.\n",
      "Time taken: 0.9328\n",
      "Function value obtained: -0.3691\n",
      "Current minimum: -0.3955\n",
      "Iteration No: 42 started. Evaluating function at random point.\n",
      "[531, 38, 'auto', 3, 1, True]\n",
      "Iteration No: 42 ended. Evaluation done at random point.\n",
      "Time taken: 2.5937\n",
      "Function value obtained: -0.3696\n",
      "Current minimum: -0.3955\n",
      "Iteration No: 43 started. Evaluating function at random point.\n",
      "[375, 91, 'log2', 3, 2, True]\n",
      "Iteration No: 43 ended. Evaluation done at random point.\n",
      "Time taken: 1.5918\n",
      "Function value obtained: -0.3691\n",
      "Current minimum: -0.3955\n",
      "Iteration No: 44 started. Evaluating function at random point.\n",
      "[922, 15, 'log2', 3, 1, True]\n",
      "Iteration No: 44 ended. Evaluation done at random point.\n",
      "Time taken: 3.7583\n",
      "Function value obtained: -0.3691\n",
      "Current minimum: -0.3955\n",
      "Iteration No: 45 started. Evaluating function at random point.\n",
      "[390, 99, 'log2', 3, 2, True]\n",
      "Iteration No: 45 ended. Evaluation done at random point.\n",
      "Time taken: 1.6616\n",
      "Function value obtained: -0.3691\n",
      "Current minimum: -0.3955\n",
      "Iteration No: 46 started. Evaluating function at random point.\n",
      "[461, 79, 'sqrt', 2, 2, True]\n",
      "Iteration No: 46 ended. Evaluation done at random point.\n",
      "Time taken: 2.2269\n",
      "Function value obtained: -0.3702\n",
      "Current minimum: -0.3955\n",
      "Iteration No: 47 started. Evaluating function at random point.\n",
      "[492, 37, 'log2', 4, 2, True]\n",
      "Iteration No: 47 ended. Evaluation done at random point.\n",
      "Time taken: 2.0410\n",
      "Function value obtained: -0.3691\n",
      "Current minimum: -0.3955\n",
      "Iteration No: 48 started. Evaluating function at random point.\n",
      "[529, 89, 'sqrt', 3, 3, True]\n",
      "Iteration No: 48 ended. Evaluation done at random point.\n",
      "Time taken: 2.4261\n",
      "Function value obtained: -0.3685\n",
      "Current minimum: -0.3955\n",
      "Iteration No: 49 started. Evaluating function at random point.\n",
      "[418, 98, 'log2', 3, 2, False]\n",
      "Iteration No: 49 ended. Evaluation done at random point.\n",
      "Time taken: 1.4631\n",
      "Function value obtained: -0.3789\n",
      "Current minimum: -0.3955\n",
      "Iteration No: 50 started. Evaluating function at random point.\n",
      "[998, 67, 'auto', 2, 3, False]\n",
      "Iteration No: 50 ended. Evaluation done at random point.\n",
      "Time taken: 4.4637\n",
      "Function value obtained: -0.3912\n",
      "Current minimum: -0.3955\n",
      "Iteration No: 51 started. Evaluating function at random point.\n",
      "[586, 17, 'log2', 3, 2, True]\n",
      "Iteration No: 51 ended. Evaluation done at random point.\n",
      "Time taken: 2.4164\n",
      "Function value obtained: -0.3691\n",
      "Current minimum: -0.3955\n",
      "Iteration No: 52 started. Evaluating function at random point.\n",
      "[419, 74, 'log2', 4, 2, False]\n",
      "Iteration No: 52 ended. Evaluation done at random point.\n",
      "Time taken: 1.4633\n",
      "Function value obtained: -0.3771\n",
      "Current minimum: -0.3955\n",
      "Iteration No: 53 started. Evaluating function at random point.\n",
      "[170, 90, 'auto', 3, 1, True]\n",
      "Iteration No: 53 ended. Evaluation done at random point.\n",
      "Time taken: 0.8128\n",
      "Function value obtained: -0.3659\n",
      "Current minimum: -0.3955\n",
      "Iteration No: 54 started. Evaluating function at random point.\n",
      "[405, 67, 'log2', 4, 2, False]\n",
      "Iteration No: 54 ended. Evaluation done at random point.\n",
      "Time taken: 1.4198\n",
      "Function value obtained: -0.3779\n",
      "Current minimum: -0.3955\n",
      "Iteration No: 55 started. Evaluating function at random point.\n",
      "[736, 89, 'log2', 4, 2, False]\n",
      "Iteration No: 55 ended. Evaluation done at random point.\n",
      "Time taken: 2.4625\n",
      "Function value obtained: -0.3800\n",
      "Current minimum: -0.3955\n",
      "Iteration No: 56 started. Evaluating function at random point.\n",
      "[562, 57, 'log2', 4, 2, True]\n",
      "Iteration No: 56 ended. Evaluation done at random point.\n",
      "Time taken: 2.1906\n",
      "Function value obtained: -0.3691\n",
      "Current minimum: -0.3955\n",
      "Iteration No: 57 started. Evaluating function at random point.\n",
      "[460, 45, 'log2', 2, 2, True]\n",
      "Iteration No: 57 ended. Evaluation done at random point.\n",
      "Time taken: 1.8245\n",
      "Function value obtained: -0.3691\n",
      "Current minimum: -0.3955\n",
      "Iteration No: 58 started. Evaluating function at random point.\n",
      "[368, 90, 'log2', 3, 2, False]\n",
      "Iteration No: 58 ended. Evaluation done at random point.\n",
      "Time taken: 1.2926\n",
      "Function value obtained: -0.3779\n",
      "Current minimum: -0.3955\n",
      "Iteration No: 59 started. Evaluating function at random point.\n",
      "[794, 76, 'log2', 3, 3, True]\n",
      "Iteration No: 59 ended. Evaluation done at random point.\n",
      "Time taken: 2.9941\n",
      "Function value obtained: -0.3674\n",
      "Current minimum: -0.3955\n",
      "Iteration No: 60 started. Evaluating function at random point.\n",
      "[560, 77, 'log2', 3, 2, False]\n",
      "Iteration No: 60 ended. Evaluation done at random point.\n",
      "Time taken: 3.9068\n",
      "Function value obtained: -0.3800\n",
      "Current minimum: -0.3955\n",
      "Iteration No: 61 started. Searching for the next optimal point.\n",
      "[103, 75, 'sqrt', 3, 1, False]\n",
      "Iteration No: 61 ended. Search finished for the next optimal point.\n",
      "Time taken: 2.4823\n",
      "Function value obtained: -0.3892\n",
      "Current minimum: -0.3955\n",
      "Iteration No: 62 started. Searching for the next optimal point.\n",
      "[1000, 96, 'sqrt', 2, 3, False]\n",
      "Iteration No: 62 ended. Search finished for the next optimal point.\n",
      "Time taken: 6.0414\n",
      "Function value obtained: -0.3953\n",
      "Current minimum: -0.3955\n",
      "Iteration No: 63 started. Searching for the next optimal point.\n",
      "[100, 37, 'sqrt', 3, 3, False]\n",
      "Iteration No: 63 ended. Search finished for the next optimal point.\n",
      "Time taken: 1.7942\n",
      "Function value obtained: -0.4138\n",
      "Current minimum: -0.4138\n",
      "Iteration No: 64 started. Searching for the next optimal point.\n",
      "[101, 81, 'sqrt', 2, 3, False]\n",
      "Iteration No: 64 ended. Search finished for the next optimal point.\n",
      "Time taken: 1.6612\n",
      "Function value obtained: -0.4056\n",
      "Current minimum: -0.4138\n",
      "Iteration No: 65 started. Searching for the next optimal point.\n",
      "[101, 41, 'auto', 2, 3, False]\n",
      "Iteration No: 65 ended. Search finished for the next optimal point.\n",
      "Time taken: 1.4491\n",
      "Function value obtained: -0.4098\n",
      "Current minimum: -0.4138\n",
      "Iteration No: 66 started. Searching for the next optimal point.\n",
      "[102, 92, 'auto', 3, 1, False]\n",
      "Iteration No: 66 ended. Search finished for the next optimal point.\n",
      "Time taken: 2.0918\n",
      "Function value obtained: -0.4112\n",
      "Current minimum: -0.4138\n",
      "Iteration No: 67 started. Searching for the next optimal point.\n",
      "[100, 100, 'auto', 4, 3, False]\n",
      "Iteration No: 67 ended. Search finished for the next optimal point.\n",
      "Time taken: 1.5485\n",
      "Function value obtained: -0.4115\n",
      "Current minimum: -0.4138\n",
      "Iteration No: 68 started. Searching for the next optimal point.\n",
      "[103, 85, 'auto', 3, 1, False]\n",
      "Iteration No: 68 ended. Search finished for the next optimal point.\n",
      "Time taken: 1.5151\n",
      "Function value obtained: -0.4030\n",
      "Current minimum: -0.4138\n",
      "Iteration No: 69 started. Searching for the next optimal point.\n",
      "[100, 97, 'auto', 2, 3, False]\n",
      "Iteration No: 69 ended. Search finished for the next optimal point.\n",
      "Time taken: 1.5241\n",
      "Function value obtained: -0.4048\n",
      "Current minimum: -0.4138\n",
      "Iteration No: 70 started. Searching for the next optimal point.\n",
      "[100, 10, 'sqrt', 4, 3, False]\n",
      "Iteration No: 70 ended. Search finished for the next optimal point.\n",
      "Time taken: 1.5141\n",
      "Function value obtained: -0.3899\n",
      "Current minimum: -0.4138\n",
      "Iteration No: 71 started. Searching for the next optimal point.\n",
      "[991, 29, 'sqrt', 3, 1, False]\n",
      "Iteration No: 71 ended. Search finished for the next optimal point.\n",
      "Time taken: 6.0688\n",
      "Function value obtained: -0.3893\n",
      "Current minimum: -0.4138\n",
      "Iteration No: 72 started. Searching for the next optimal point.\n",
      "[100, 10, 'auto', 3, 3, False]\n",
      "Iteration No: 72 ended. Search finished for the next optimal point.\n",
      "Time taken: 2.2335\n",
      "Function value obtained: -0.3787\n",
      "Current minimum: -0.4138\n",
      "Iteration No: 73 started. Searching for the next optimal point.\n",
      "[100, 100, 'auto', 2, 1, False]\n",
      "Iteration No: 73 ended. Search finished for the next optimal point.\n",
      "Time taken: 1.8515\n",
      "Function value obtained: -0.4188\n",
      "Current minimum: -0.4188\n",
      "Iteration No: 74 started. Searching for the next optimal point.\n",
      "[100, 10, 'auto', 2, 1, False]\n",
      "Iteration No: 74 ended. Search finished for the next optimal point.\n",
      "Time taken: 2.0083\n",
      "Function value obtained: -0.3999\n",
      "Current minimum: -0.4188\n",
      "Iteration No: 75 started. Searching for the next optimal point.\n",
      "[100, 100, 'auto', 4, 1, False]\n",
      "Iteration No: 75 ended. Search finished for the next optimal point.\n",
      "Time taken: 2.1259\n",
      "Function value obtained: -0.3793\n",
      "Current minimum: -0.4188\n",
      "Iteration No: 76 started. Searching for the next optimal point.\n",
      "[870, 98, 'sqrt', 3, 3, False]\n",
      "Iteration No: 76 ended. Search finished for the next optimal point.\n",
      "Time taken: 5.7344\n",
      "Function value obtained: -0.3896\n",
      "Current minimum: -0.4188\n",
      "Iteration No: 77 started. Searching for the next optimal point.\n",
      "[984, 100, 'auto', 4, 3, False]\n",
      "Iteration No: 77 ended. Search finished for the next optimal point.\n",
      "Time taken: 6.4578\n",
      "Function value obtained: -0.3871\n",
      "Current minimum: -0.4188\n",
      "Iteration No: 78 started. Searching for the next optimal point.\n",
      "[100, 100, 'auto', 2, 1, False]\n"
     ]
    },
    {
     "name": "stderr",
     "output_type": "stream",
     "text": [
      "/home/carcook/anaconda3/envs/TCGA-round1/lib/python3.8/site-packages/skopt/optimizer/optimizer.py:449: UserWarning: The objective has been evaluated at this point before.\n",
      "  warnings.warn(\"The objective has been evaluated \"\n"
     ]
    },
    {
     "name": "stdout",
     "output_type": "stream",
     "text": [
      "Iteration No: 78 ended. Search finished for the next optimal point.\n",
      "Time taken: 2.1903\n",
      "Function value obtained: -0.4064\n",
      "Current minimum: -0.4188\n",
      "Iteration No: 79 started. Searching for the next optimal point.\n",
      "[137, 11, 'sqrt', 2, 3, False]\n",
      "Iteration No: 79 ended. Search finished for the next optimal point.\n",
      "Time taken: 2.4554\n",
      "Function value obtained: -0.3827\n",
      "Current minimum: -0.4188\n",
      "Iteration No: 80 started. Searching for the next optimal point.\n",
      "[120, 98, 'sqrt', 4, 2, False]\n",
      "Iteration No: 80 ended. Search finished for the next optimal point.\n",
      "Time taken: 2.4207\n",
      "Function value obtained: -0.4047\n",
      "Current minimum: -0.4188\n",
      "Iteration No: 81 started. Searching for the next optimal point.\n",
      "[954, 100, 'auto', 2, 1, False]\n",
      "Iteration No: 81 ended. Search finished for the next optimal point.\n",
      "Time taken: 6.0033\n",
      "Function value obtained: -0.3888\n",
      "Current minimum: -0.4188\n",
      "Iteration No: 82 started. Searching for the next optimal point.\n",
      "[100, 100, 'auto', 2, 1, False]\n"
     ]
    },
    {
     "name": "stderr",
     "output_type": "stream",
     "text": [
      "/home/carcook/anaconda3/envs/TCGA-round1/lib/python3.8/site-packages/skopt/optimizer/optimizer.py:449: UserWarning: The objective has been evaluated at this point before.\n",
      "  warnings.warn(\"The objective has been evaluated \"\n"
     ]
    },
    {
     "name": "stdout",
     "output_type": "stream",
     "text": [
      "Iteration No: 82 ended. Search finished for the next optimal point.\n",
      "Time taken: 2.5751\n",
      "Function value obtained: -0.4107\n",
      "Current minimum: -0.4188\n",
      "Iteration No: 83 started. Searching for the next optimal point.\n",
      "[100, 100, 'auto', 2, 3, False]\n",
      "Iteration No: 83 ended. Search finished for the next optimal point.\n",
      "Time taken: 2.2444\n",
      "Function value obtained: -0.3855\n",
      "Current minimum: -0.4188\n",
      "Iteration No: 84 started. Searching for the next optimal point.\n",
      "[122, 10, 'sqrt', 4, 1, True]\n",
      "Iteration No: 84 ended. Search finished for the next optimal point.\n",
      "Time taken: 2.8123\n",
      "Function value obtained: -0.3792\n",
      "Current minimum: -0.4188\n",
      "Iteration No: 85 started. Searching for the next optimal point.\n",
      "[100, 100, 'auto', 2, 1, False]\n"
     ]
    },
    {
     "name": "stderr",
     "output_type": "stream",
     "text": [
      "/home/carcook/anaconda3/envs/TCGA-round1/lib/python3.8/site-packages/skopt/optimizer/optimizer.py:449: UserWarning: The objective has been evaluated at this point before.\n",
      "  warnings.warn(\"The objective has been evaluated \"\n"
     ]
    },
    {
     "name": "stdout",
     "output_type": "stream",
     "text": [
      "Iteration No: 85 ended. Search finished for the next optimal point.\n",
      "Time taken: 1.8118\n",
      "Function value obtained: -0.3823\n",
      "Current minimum: -0.4188\n",
      "Iteration No: 86 started. Searching for the next optimal point.\n",
      "[100, 100, 'auto', 2, 2, False]\n",
      "Iteration No: 86 ended. Search finished for the next optimal point.\n",
      "Time taken: 1.6239\n",
      "Function value obtained: -0.3928\n",
      "Current minimum: -0.4188\n",
      "Iteration No: 87 started. Searching for the next optimal point.\n",
      "[100, 100, 'auto', 2, 1, False]\n"
     ]
    },
    {
     "name": "stderr",
     "output_type": "stream",
     "text": [
      "/home/carcook/anaconda3/envs/TCGA-round1/lib/python3.8/site-packages/skopt/optimizer/optimizer.py:449: UserWarning: The objective has been evaluated at this point before.\n",
      "  warnings.warn(\"The objective has been evaluated \"\n"
     ]
    },
    {
     "name": "stdout",
     "output_type": "stream",
     "text": [
      "Iteration No: 87 ended. Search finished for the next optimal point.\n",
      "Time taken: 2.1377\n",
      "Function value obtained: -0.3944\n",
      "Current minimum: -0.4188\n",
      "Iteration No: 88 started. Searching for the next optimal point.\n",
      "[100, 100, 'sqrt', 4, 2, False]\n",
      "Iteration No: 88 ended. Search finished for the next optimal point.\n",
      "Time taken: 1.9394\n",
      "Function value obtained: -0.3941\n",
      "Current minimum: -0.4188\n",
      "Iteration No: 89 started. Searching for the next optimal point.\n",
      "[998, 16, 'sqrt', 3, 2, False]\n",
      "Iteration No: 89 ended. Search finished for the next optimal point.\n",
      "Time taken: 6.1880\n",
      "Function value obtained: -0.3961\n",
      "Current minimum: -0.4188\n",
      "Iteration No: 90 started. Searching for the next optimal point.\n",
      "[1000, 87, 'sqrt', 4, 1, False]\n",
      "Iteration No: 90 ended. Search finished for the next optimal point.\n",
      "Time taken: 6.7989\n",
      "Function value obtained: -0.3889\n",
      "Current minimum: -0.4188\n",
      "Iteration No: 91 started. Searching for the next optimal point.\n",
      "[100, 92, 'auto', 3, 1, False]\n",
      "Iteration No: 91 ended. Search finished for the next optimal point.\n",
      "Time taken: 2.4430\n",
      "Function value obtained: -0.3898\n",
      "Current minimum: -0.4188\n",
      "Iteration No: 92 started. Searching for the next optimal point.\n",
      "[100, 90, 'sqrt', 3, 2, True]\n",
      "Iteration No: 92 ended. Search finished for the next optimal point.\n",
      "Time taken: 2.5974\n",
      "Function value obtained: -0.3836\n",
      "Current minimum: -0.4188\n",
      "Iteration No: 93 started. Searching for the next optimal point.\n",
      "[1000, 10, 'sqrt', 2, 2, True]\n",
      "Iteration No: 93 ended. Search finished for the next optimal point.\n",
      "Time taken: 7.8800\n",
      "Function value obtained: -0.3699\n",
      "Current minimum: -0.4188\n",
      "Iteration No: 94 started. Searching for the next optimal point.\n",
      "[100, 28, 'auto', 4, 1, False]\n",
      "Iteration No: 94 ended. Search finished for the next optimal point.\n",
      "Time taken: 2.2285\n",
      "Function value obtained: -0.3986\n",
      "Current minimum: -0.4188\n",
      "Iteration No: 95 started. Searching for the next optimal point.\n",
      "[1000, 29, 'sqrt', 2, 2, False]\n",
      "Iteration No: 95 ended. Search finished for the next optimal point.\n",
      "Time taken: 6.6161\n",
      "Function value obtained: -0.3856\n",
      "Current minimum: -0.4188\n",
      "Iteration No: 96 started. Searching for the next optimal point.\n",
      "[100, 10, 'auto', 4, 1, False]\n",
      "Iteration No: 96 ended. Search finished for the next optimal point.\n",
      "Time taken: 2.5330\n",
      "Function value obtained: -0.4021\n",
      "Current minimum: -0.4188\n",
      "Iteration No: 97 started. Searching for the next optimal point.\n",
      "[100, 68, 'auto', 2, 2, False]\n",
      "Iteration No: 97 ended. Search finished for the next optimal point.\n",
      "Time taken: 2.6780\n",
      "Function value obtained: -0.3980\n",
      "Current minimum: -0.4188\n",
      "Iteration No: 98 started. Searching for the next optimal point.\n",
      "[100, 12, 'auto', 4, 2, True]\n",
      "Iteration No: 98 ended. Search finished for the next optimal point.\n",
      "Time taken: 2.2727\n",
      "Function value obtained: -0.3812\n",
      "Current minimum: -0.4188\n",
      "Iteration No: 99 started. Searching for the next optimal point.\n",
      "[999, 27, 'auto', 4, 3, True]\n",
      "Iteration No: 99 ended. Search finished for the next optimal point.\n",
      "Time taken: 6.3049\n",
      "Function value obtained: -0.3710\n",
      "Current minimum: -0.4188\n",
      "Iteration No: 100 started. Searching for the next optimal point.\n",
      "[999, 36, 'auto', 2, 3, False]\n",
      "Iteration No: 100 ended. Search finished for the next optimal point.\n",
      "Time taken: 7.5702\n",
      "Function value obtained: -0.3982\n",
      "Current minimum: -0.4188\n",
      "Iteration No: 101 started. Searching for the next optimal point.\n",
      "[100, 99, 'sqrt', 2, 1, False]\n",
      "Iteration No: 101 ended. Search finished for the next optimal point.\n",
      "Time taken: 2.2864\n",
      "Function value obtained: -0.4030\n",
      "Current minimum: -0.4188\n",
      "Iteration No: 102 started. Searching for the next optimal point.\n",
      "[100, 88, 'sqrt', 4, 1, False]\n",
      "Iteration No: 102 ended. Search finished for the next optimal point.\n",
      "Time taken: 2.7749\n",
      "Function value obtained: -0.3880\n",
      "Current minimum: -0.4188\n",
      "Iteration No: 103 started. Searching for the next optimal point.\n",
      "[998, 18, 'auto', 3, 1, False]\n",
      "Iteration No: 103 ended. Search finished for the next optimal point.\n",
      "Time taken: 7.2224\n",
      "Function value obtained: -0.3953\n",
      "Current minimum: -0.4188\n",
      "Iteration No: 104 started. Searching for the next optimal point.\n",
      "[1000, 98, 'sqrt', 4, 1, False]\n",
      "Iteration No: 104 ended. Search finished for the next optimal point.\n",
      "Time taken: 7.2380\n",
      "Function value obtained: -0.3979\n",
      "Current minimum: -0.4188\n",
      "Iteration No: 105 started. Searching for the next optimal point.\n",
      "[100, 79, 'auto', 2, 1, False]\n",
      "Iteration No: 105 ended. Search finished for the next optimal point.\n",
      "Time taken: 2.8647\n",
      "Function value obtained: -0.4044\n",
      "Current minimum: -0.4188\n",
      "Iteration No: 106 started. Searching for the next optimal point.\n",
      "[1000, 42, 'auto', 3, 1, False]\n",
      "Iteration No: 106 ended. Search finished for the next optimal point.\n",
      "Time taken: 7.0969\n",
      "Function value obtained: -0.3821\n",
      "Current minimum: -0.4188\n",
      "Iteration No: 107 started. Searching for the next optimal point.\n",
      "[100, 48, 'sqrt', 3, 2, True]\n",
      "Iteration No: 107 ended. Search finished for the next optimal point.\n",
      "Time taken: 3.0395\n",
      "Function value obtained: -0.3767\n",
      "Current minimum: -0.4188\n",
      "Iteration No: 108 started. Searching for the next optimal point.\n",
      "[100, 88, 'auto', 2, 2, False]\n",
      "Iteration No: 108 ended. Search finished for the next optimal point.\n",
      "Time taken: 2.7370\n",
      "Function value obtained: -0.3876\n",
      "Current minimum: -0.4188\n",
      "Iteration No: 109 started. Searching for the next optimal point.\n",
      "[100, 10, 'auto', 4, 1, False]\n"
     ]
    },
    {
     "name": "stderr",
     "output_type": "stream",
     "text": [
      "/home/carcook/anaconda3/envs/TCGA-round1/lib/python3.8/site-packages/skopt/optimizer/optimizer.py:449: UserWarning: The objective has been evaluated at this point before.\n",
      "  warnings.warn(\"The objective has been evaluated \"\n"
     ]
    },
    {
     "name": "stdout",
     "output_type": "stream",
     "text": [
      "Iteration No: 109 ended. Search finished for the next optimal point.\n",
      "Time taken: 3.2604\n",
      "Function value obtained: -0.3908\n",
      "Current minimum: -0.4188\n",
      "Iteration No: 110 started. Searching for the next optimal point.\n",
      "[100, 59, 'auto', 4, 3, False]\n",
      "Iteration No: 110 ended. Search finished for the next optimal point.\n",
      "Time taken: 2.5661\n",
      "Function value obtained: -0.4025\n",
      "Current minimum: -0.4188\n",
      "Iteration No: 111 started. Searching for the next optimal point.\n",
      "[101, 80, 'sqrt', 4, 2, False]\n",
      "Iteration No: 111 ended. Search finished for the next optimal point.\n",
      "Time taken: 3.5197\n",
      "Function value obtained: -0.4046\n",
      "Current minimum: -0.4188\n",
      "Iteration No: 112 started. Searching for the next optimal point.\n",
      "[998, 25, 'sqrt', 4, 1, False]\n",
      "Iteration No: 112 ended. Search finished for the next optimal point.\n",
      "Time taken: 6.6965\n",
      "Function value obtained: -0.3872\n",
      "Current minimum: -0.4188\n",
      "Iteration No: 113 started. Searching for the next optimal point.\n",
      "[100, 13, 'sqrt', 4, 3, False]\n",
      "Iteration No: 113 ended. Search finished for the next optimal point.\n",
      "Time taken: 2.9826\n",
      "Function value obtained: -0.3951\n",
      "Current minimum: -0.4188\n",
      "Iteration No: 114 started. Searching for the next optimal point.\n",
      "[101, 87, 'auto', 3, 2, True]\n",
      "Iteration No: 114 ended. Search finished for the next optimal point.\n",
      "Time taken: 3.1669\n",
      "Function value obtained: -0.3799\n",
      "Current minimum: -0.4188\n",
      "Iteration No: 115 started. Searching for the next optimal point.\n",
      "[999, 55, 'sqrt', 3, 2, True]\n",
      "Iteration No: 115 ended. Search finished for the next optimal point.\n",
      "Time taken: 7.0603\n",
      "Function value obtained: -0.3714\n",
      "Current minimum: -0.4188\n",
      "Iteration No: 116 started. Searching for the next optimal point.\n",
      "[999, 15, 'auto', 2, 1, True]\n",
      "Iteration No: 116 ended. Search finished for the next optimal point.\n",
      "Time taken: 7.6776\n",
      "Function value obtained: -0.3708\n",
      "Current minimum: -0.4188\n",
      "Iteration No: 117 started. Searching for the next optimal point.\n",
      "[101, 46, 'sqrt', 2, 3, False]\n",
      "Iteration No: 117 ended. Search finished for the next optimal point.\n",
      "Time taken: 3.3323\n",
      "Function value obtained: -0.3803\n",
      "Current minimum: -0.4188\n",
      "Iteration No: 118 started. Searching for the next optimal point.\n",
      "[100, 73, 'auto', 3, 3, False]\n",
      "Iteration No: 118 ended. Search finished for the next optimal point.\n",
      "Time taken: 3.3694\n",
      "Function value obtained: -0.3918\n",
      "Current minimum: -0.4188\n",
      "Iteration No: 119 started. Searching for the next optimal point.\n",
      "[1000, 83, 'auto', 3, 1, False]\n",
      "Iteration No: 119 ended. Search finished for the next optimal point.\n",
      "Time taken: 8.1404\n",
      "Function value obtained: -0.3934\n",
      "Current minimum: -0.4188\n",
      "Iteration No: 120 started. Searching for the next optimal point.\n",
      "[100, 10, 'auto', 4, 1, False]\n"
     ]
    },
    {
     "name": "stderr",
     "output_type": "stream",
     "text": [
      "/home/carcook/anaconda3/envs/TCGA-round1/lib/python3.8/site-packages/skopt/optimizer/optimizer.py:449: UserWarning: The objective has been evaluated at this point before.\n",
      "  warnings.warn(\"The objective has been evaluated \"\n"
     ]
    },
    {
     "name": "stdout",
     "output_type": "stream",
     "text": [
      "Iteration No: 120 ended. Search finished for the next optimal point.\n",
      "Time taken: 3.1993\n",
      "Function value obtained: -0.4189\n",
      "Current minimum: -0.4189\n",
      "Iteration No: 121 started. Searching for the next optimal point.\n",
      "[999, 15, 'sqrt', 2, 2, False]\n",
      "Iteration No: 121 ended. Search finished for the next optimal point.\n",
      "Time taken: 6.8721\n",
      "Function value obtained: -0.3961\n",
      "Current minimum: -0.4189\n",
      "Iteration No: 122 started. Searching for the next optimal point.\n",
      "[100, 79, 'sqrt', 4, 2, True]\n",
      "Iteration No: 122 ended. Search finished for the next optimal point.\n",
      "Time taken: 2.2552\n",
      "Function value obtained: -0.3740\n",
      "Current minimum: -0.4189\n",
      "Iteration No: 123 started. Searching for the next optimal point.\n",
      "[100, 10, 'auto', 2, 2, False]\n",
      "Iteration No: 123 ended. Search finished for the next optimal point.\n",
      "Time taken: 2.8562\n",
      "Function value obtained: -0.3966\n",
      "Current minimum: -0.4189\n",
      "Iteration No: 124 started. Searching for the next optimal point.\n",
      "[999, 15, 'auto', 2, 2, False]\n",
      "Iteration No: 124 ended. Search finished for the next optimal point.\n",
      "Time taken: 7.9185\n",
      "Function value obtained: -0.3879\n",
      "Current minimum: -0.4189\n",
      "Iteration No: 125 started. Searching for the next optimal point.\n",
      "[100, 93, 'auto', 4, 1, True]\n",
      "Iteration No: 125 ended. Search finished for the next optimal point.\n",
      "Time taken: 3.9357\n",
      "Function value obtained: -0.3691\n",
      "Current minimum: -0.4189\n",
      "Iteration No: 126 started. Searching for the next optimal point.\n",
      "[1000, 34, 'sqrt', 2, 3, False]\n",
      "Iteration No: 126 ended. Search finished for the next optimal point.\n",
      "Time taken: 7.1552\n",
      "Function value obtained: -0.3867\n",
      "Current minimum: -0.4189\n",
      "Iteration No: 127 started. Searching for the next optimal point.\n",
      "[100, 29, 'sqrt', 3, 1, False]\n",
      "Iteration No: 127 ended. Search finished for the next optimal point.\n",
      "Time taken: 3.3297\n",
      "Function value obtained: -0.3992\n",
      "Current minimum: -0.4189\n",
      "Iteration No: 128 started. Searching for the next optimal point.\n",
      "[999, 14, 'sqrt', 2, 2, True]\n",
      "Iteration No: 128 ended. Search finished for the next optimal point.\n",
      "Time taken: 6.3899\n",
      "Function value obtained: -0.3674\n",
      "Current minimum: -0.4189\n",
      "Iteration No: 129 started. Searching for the next optimal point.\n",
      "[998, 84, 'auto', 4, 3, False]\n",
      "Iteration No: 129 ended. Search finished for the next optimal point.\n",
      "Time taken: 7.1977\n",
      "Function value obtained: -0.3863\n",
      "Current minimum: -0.4189\n",
      "Iteration No: 130 started. Searching for the next optimal point.\n",
      "[101, 35, 'sqrt', 2, 2, False]\n",
      "Iteration No: 130 ended. Search finished for the next optimal point.\n",
      "Time taken: 2.8225\n",
      "Function value obtained: -0.4002\n",
      "Current minimum: -0.4189\n",
      "Iteration No: 131 started. Searching for the next optimal point.\n",
      "[1000, 22, 'sqrt', 4, 3, False]\n",
      "Iteration No: 131 ended. Search finished for the next optimal point.\n",
      "Time taken: 7.1713\n",
      "Function value obtained: -0.3879\n",
      "Current minimum: -0.4189\n",
      "Iteration No: 132 started. Searching for the next optimal point.\n",
      "[100, 10, 'auto', 3, 1, False]\n",
      "Iteration No: 132 ended. Search finished for the next optimal point.\n",
      "Time taken: 3.0279\n",
      "Function value obtained: -0.3970\n",
      "Current minimum: -0.4189\n",
      "Iteration No: 133 started. Searching for the next optimal point.\n",
      "[997, 47, 'auto', 2, 1, True]\n",
      "Iteration No: 133 ended. Search finished for the next optimal point.\n",
      "Time taken: 7.3638\n",
      "Function value obtained: -0.3685\n",
      "Current minimum: -0.4189\n",
      "Iteration No: 134 started. Searching for the next optimal point.\n",
      "[100, 10, 'auto', 3, 3, False]\n"
     ]
    },
    {
     "name": "stderr",
     "output_type": "stream",
     "text": [
      "/home/carcook/anaconda3/envs/TCGA-round1/lib/python3.8/site-packages/skopt/optimizer/optimizer.py:449: UserWarning: The objective has been evaluated at this point before.\n",
      "  warnings.warn(\"The objective has been evaluated \"\n"
     ]
    },
    {
     "name": "stdout",
     "output_type": "stream",
     "text": [
      "Iteration No: 134 ended. Search finished for the next optimal point.\n",
      "Time taken: 4.8239\n",
      "Function value obtained: -0.3861\n",
      "Current minimum: -0.4189\n",
      "Iteration No: 135 started. Searching for the next optimal point.\n",
      "[100, 34, 'auto', 2, 1, False]\n",
      "Iteration No: 135 ended. Search finished for the next optimal point.\n",
      "Time taken: 4.2727\n",
      "Function value obtained: -0.3768\n",
      "Current minimum: -0.4189\n",
      "Iteration No: 136 started. Searching for the next optimal point.\n",
      "[101, 86, 'sqrt', 2, 3, False]\n",
      "Iteration No: 136 ended. Search finished for the next optimal point.\n",
      "Time taken: 3.9896\n",
      "Function value obtained: -0.3908\n",
      "Current minimum: -0.4189\n",
      "Iteration No: 137 started. Searching for the next optimal point.\n",
      "[102, 90, 'sqrt', 3, 3, True]\n",
      "Iteration No: 137 ended. Search finished for the next optimal point.\n",
      "Time taken: 4.6858\n",
      "Function value obtained: -0.3774\n",
      "Current minimum: -0.4189\n",
      "Iteration No: 138 started. Searching for the next optimal point.\n",
      "[100, 45, 'auto', 3, 1, False]\n",
      "Iteration No: 138 ended. Search finished for the next optimal point.\n",
      "Time taken: 4.3023\n",
      "Function value obtained: -0.3866\n",
      "Current minimum: -0.4189\n",
      "Iteration No: 139 started. Searching for the next optimal point.\n",
      "[1000, 82, 'sqrt', 2, 1, False]\n",
      "Iteration No: 139 ended. Search finished for the next optimal point.\n",
      "Time taken: 8.8515\n",
      "Function value obtained: -0.4083\n",
      "Current minimum: -0.4189\n",
      "Iteration No: 140 started. Searching for the next optimal point.\n",
      "[999, 22, 'auto', 4, 2, False]\n",
      "Iteration No: 140 ended. Search finished for the next optimal point.\n",
      "Time taken: 7.8306\n",
      "Function value obtained: -0.3945\n",
      "Current minimum: -0.4189\n",
      "Iteration No: 141 started. Searching for the next optimal point.\n",
      "[1000, 54, 'sqrt', 3, 1, False]\n",
      "Iteration No: 141 ended. Search finished for the next optimal point.\n",
      "Time taken: 8.6971\n",
      "Function value obtained: -0.3858\n",
      "Current minimum: -0.4189\n",
      "Iteration No: 142 started. Searching for the next optimal point.\n",
      "[100, 100, 'auto', 4, 2, False]\n",
      "Iteration No: 142 ended. Search finished for the next optimal point.\n",
      "Time taken: 3.6153\n",
      "Function value obtained: -0.3748\n",
      "Current minimum: -0.4189\n",
      "Iteration No: 143 started. Searching for the next optimal point.\n",
      "[101, 21, 'sqrt', 3, 3, False]\n",
      "Iteration No: 143 ended. Search finished for the next optimal point.\n",
      "Time taken: 3.3984\n",
      "Function value obtained: -0.3926\n",
      "Current minimum: -0.4189\n",
      "Iteration No: 144 started. Searching for the next optimal point.\n",
      "[998, 99, 'auto', 2, 3, False]\n",
      "Iteration No: 144 ended. Search finished for the next optimal point.\n",
      "Time taken: 7.4721\n",
      "Function value obtained: -0.3888\n",
      "Current minimum: -0.4189\n",
      "Iteration No: 145 started. Searching for the next optimal point.\n",
      "[100, 67, 'sqrt', 3, 1, False]\n",
      "Iteration No: 145 ended. Search finished for the next optimal point.\n",
      "Time taken: 5.9981\n",
      "Function value obtained: -0.4180\n",
      "Current minimum: -0.4189\n",
      "Iteration No: 146 started. Searching for the next optimal point.\n",
      "[100, 24, 'sqrt', 2, 1, False]\n",
      "Iteration No: 146 ended. Search finished for the next optimal point.\n",
      "Time taken: 4.5535\n",
      "Function value obtained: -0.4087\n",
      "Current minimum: -0.4189\n",
      "Iteration No: 147 started. Searching for the next optimal point.\n",
      "[100, 100, 'sqrt', 3, 1, False]\n",
      "Iteration No: 147 ended. Search finished for the next optimal point.\n",
      "Time taken: 6.1466\n",
      "Function value obtained: -0.3979\n",
      "Current minimum: -0.4189\n",
      "Iteration No: 148 started. Searching for the next optimal point.\n",
      "[104, 50, 'sqrt', 4, 1, False]\n",
      "Iteration No: 148 ended. Search finished for the next optimal point.\n",
      "Time taken: 4.2804\n",
      "Function value obtained: -0.4398\n",
      "Current minimum: -0.4398\n",
      "Iteration No: 149 started. Searching for the next optimal point.\n",
      "[100, 22, 'sqrt', 4, 1, False]\n",
      "Iteration No: 149 ended. Search finished for the next optimal point.\n",
      "Time taken: 4.7173\n",
      "Function value obtained: -0.4120\n",
      "Current minimum: -0.4398\n",
      "Iteration No: 150 started. Searching for the next optimal point.\n",
      "[100, 95, 'sqrt', 4, 1, False]\n",
      "Iteration No: 150 ended. Search finished for the next optimal point.\n",
      "Time taken: 4.2384\n",
      "Function value obtained: -0.3937\n",
      "Current minimum: -0.4398\n",
      "Iteration No: 151 started. Searching for the next optimal point.\n",
      "[100, 10, 'sqrt', 2, 1, False]\n",
      "Iteration No: 151 ended. Search finished for the next optimal point.\n",
      "Time taken: 4.3806\n",
      "Function value obtained: -0.3916\n",
      "Current minimum: -0.4398\n",
      "Iteration No: 152 started. Searching for the next optimal point.\n",
      "[104, 79, 'auto', 3, 3, True]\n",
      "Iteration No: 152 ended. Search finished for the next optimal point.\n",
      "Time taken: 5.1725\n",
      "Function value obtained: -0.3696\n",
      "Current minimum: -0.4398\n",
      "Iteration No: 153 started. Searching for the next optimal point.\n",
      "[999, 28, 'auto', 3, 3, True]\n",
      "Iteration No: 153 ended. Search finished for the next optimal point.\n",
      "Time taken: 9.6616\n",
      "Function value obtained: -0.3699\n",
      "Current minimum: -0.4398\n",
      "Iteration No: 154 started. Searching for the next optimal point.\n",
      "[999, 13, 'sqrt', 3, 3, True]\n",
      "Iteration No: 154 ended. Search finished for the next optimal point.\n",
      "Time taken: 10.2823\n",
      "Function value obtained: -0.3691\n",
      "Current minimum: -0.4398\n",
      "Iteration No: 155 started. Searching for the next optimal point.\n",
      "[100, 43, 'auto', 3, 3, True]\n",
      "Iteration No: 155 ended. Search finished for the next optimal point.\n",
      "Time taken: 7.8454\n",
      "Function value obtained: -0.3709\n",
      "Current minimum: -0.4398\n",
      "Iteration No: 156 started. Searching for the next optimal point.\n",
      "[100, 10, 'sqrt', 4, 1, False]\n",
      "Iteration No: 156 ended. Search finished for the next optimal point.\n",
      "Time taken: 3.9631\n",
      "Function value obtained: -0.4202\n",
      "Current minimum: -0.4398\n",
      "Iteration No: 157 started. Searching for the next optimal point.\n",
      "[101, 22, 'sqrt', 3, 1, True]\n",
      "Iteration No: 157 ended. Search finished for the next optimal point.\n",
      "Time taken: 4.9626\n",
      "Function value obtained: -0.3817\n",
      "Current minimum: -0.4398\n",
      "Iteration No: 158 started. Searching for the next optimal point.\n",
      "[100, 45, 'sqrt', 4, 1, False]\n",
      "Iteration No: 158 ended. Search finished for the next optimal point.\n",
      "Time taken: 6.0055\n",
      "Function value obtained: -0.3979\n",
      "Current minimum: -0.4398\n",
      "Iteration No: 159 started. Searching for the next optimal point.\n",
      "[100, 10, 'sqrt', 3, 1, False]\n",
      "Iteration No: 159 ended. Search finished for the next optimal point.\n",
      "Time taken: 5.4229\n",
      "Function value obtained: -0.3866\n",
      "Current minimum: -0.4398\n",
      "Iteration No: 160 started. Searching for the next optimal point.\n",
      "[100, 100, 'sqrt', 4, 1, False]\n",
      "Iteration No: 160 ended. Search finished for the next optimal point.\n",
      "Time taken: 4.8992\n",
      "Function value obtained: -0.4164\n",
      "Current minimum: -0.4398\n",
      "Iteration No: 161 started. Searching for the next optimal point.\n",
      "[998, 67, 'auto', 3, 3, True]\n",
      "Iteration No: 161 ended. Search finished for the next optimal point.\n",
      "Time taken: 9.7215\n",
      "Function value obtained: -0.3709\n",
      "Current minimum: -0.4398\n",
      "Iteration No: 162 started. Searching for the next optimal point.\n",
      "[1000, 49, 'sqrt', 3, 1, True]\n",
      "Iteration No: 162 ended. Search finished for the next optimal point.\n",
      "Time taken: 9.4044\n",
      "Function value obtained: -0.3699\n",
      "Current minimum: -0.4398\n",
      "Iteration No: 163 started. Searching for the next optimal point.\n",
      "[100, 100, 'sqrt', 4, 1, False]\n"
     ]
    },
    {
     "name": "stderr",
     "output_type": "stream",
     "text": [
      "/home/carcook/anaconda3/envs/TCGA-round1/lib/python3.8/site-packages/skopt/optimizer/optimizer.py:449: UserWarning: The objective has been evaluated at this point before.\n",
      "  warnings.warn(\"The objective has been evaluated \"\n"
     ]
    },
    {
     "name": "stdout",
     "output_type": "stream",
     "text": [
      "Iteration No: 163 ended. Search finished for the next optimal point.\n",
      "Time taken: 5.6048\n",
      "Function value obtained: -0.4003\n",
      "Current minimum: -0.4398\n",
      "Iteration No: 164 started. Searching for the next optimal point.\n",
      "[105, 47, 'log2', 2, 3, False]\n",
      "Iteration No: 164 ended. Search finished for the next optimal point.\n",
      "Time taken: 6.7667\n",
      "Function value obtained: -0.3764\n",
      "Current minimum: -0.4398\n",
      "Iteration No: 165 started. Searching for the next optimal point.\n",
      "[100, 100, 'sqrt', 4, 1, False]\n"
     ]
    },
    {
     "name": "stderr",
     "output_type": "stream",
     "text": [
      "/home/carcook/anaconda3/envs/TCGA-round1/lib/python3.8/site-packages/skopt/optimizer/optimizer.py:449: UserWarning: The objective has been evaluated at this point before.\n",
      "  warnings.warn(\"The objective has been evaluated \"\n"
     ]
    },
    {
     "name": "stdout",
     "output_type": "stream",
     "text": [
      "Iteration No: 165 ended. Search finished for the next optimal point.\n",
      "Time taken: 5.1027\n",
      "Function value obtained: -0.4204\n",
      "Current minimum: -0.4398\n",
      "Iteration No: 166 started. Searching for the next optimal point.\n",
      "[100, 44, 'sqrt', 4, 1, False]\n",
      "Iteration No: 166 ended. Search finished for the next optimal point.\n",
      "Time taken: 5.4778\n",
      "Function value obtained: -0.3960\n",
      "Current minimum: -0.4398\n",
      "Iteration No: 167 started. Searching for the next optimal point.\n",
      "[100, 100, 'sqrt', 4, 1, False]\n"
     ]
    },
    {
     "name": "stderr",
     "output_type": "stream",
     "text": [
      "/home/carcook/anaconda3/envs/TCGA-round1/lib/python3.8/site-packages/skopt/optimizer/optimizer.py:449: UserWarning: The objective has been evaluated at this point before.\n",
      "  warnings.warn(\"The objective has been evaluated \"\n"
     ]
    },
    {
     "name": "stdout",
     "output_type": "stream",
     "text": [
      "Iteration No: 167 ended. Search finished for the next optimal point.\n",
      "Time taken: 7.2520\n",
      "Function value obtained: -0.4060\n",
      "Current minimum: -0.4398\n",
      "Iteration No: 168 started. Searching for the next optimal point.\n",
      "[100, 10, 'sqrt', 4, 1, False]\n"
     ]
    },
    {
     "name": "stderr",
     "output_type": "stream",
     "text": [
      "/home/carcook/anaconda3/envs/TCGA-round1/lib/python3.8/site-packages/skopt/optimizer/optimizer.py:449: UserWarning: The objective has been evaluated at this point before.\n",
      "  warnings.warn(\"The objective has been evaluated \"\n"
     ]
    },
    {
     "name": "stdout",
     "output_type": "stream",
     "text": [
      "Iteration No: 168 ended. Search finished for the next optimal point.\n",
      "Time taken: 6.5612\n",
      "Function value obtained: -0.4044\n",
      "Current minimum: -0.4398\n",
      "Iteration No: 169 started. Searching for the next optimal point.\n",
      "[100, 57, 'sqrt', 4, 3, True]\n",
      "Iteration No: 169 ended. Search finished for the next optimal point.\n",
      "Time taken: 5.7502\n",
      "Function value obtained: -0.3762\n",
      "Current minimum: -0.4398\n",
      "Iteration No: 170 started. Searching for the next optimal point.\n",
      "[100, 100, 'sqrt', 4, 1, False]\n"
     ]
    },
    {
     "name": "stderr",
     "output_type": "stream",
     "text": [
      "/home/carcook/anaconda3/envs/TCGA-round1/lib/python3.8/site-packages/skopt/optimizer/optimizer.py:449: UserWarning: The objective has been evaluated at this point before.\n",
      "  warnings.warn(\"The objective has been evaluated \"\n"
     ]
    },
    {
     "name": "stdout",
     "output_type": "stream",
     "text": [
      "Iteration No: 170 ended. Search finished for the next optimal point.\n",
      "Time taken: 6.2689\n",
      "Function value obtained: -0.3908\n",
      "Current minimum: -0.4398\n",
      "Iteration No: 171 started. Searching for the next optimal point.\n",
      "[100, 100, 'sqrt', 4, 1, False]\n"
     ]
    },
    {
     "name": "stderr",
     "output_type": "stream",
     "text": [
      "/home/carcook/anaconda3/envs/TCGA-round1/lib/python3.8/site-packages/skopt/optimizer/optimizer.py:449: UserWarning: The objective has been evaluated at this point before.\n",
      "  warnings.warn(\"The objective has been evaluated \"\n"
     ]
    },
    {
     "name": "stdout",
     "output_type": "stream",
     "text": [
      "Iteration No: 171 ended. Search finished for the next optimal point.\n",
      "Time taken: 5.9083\n",
      "Function value obtained: -0.3960\n",
      "Current minimum: -0.4398\n",
      "Iteration No: 172 started. Searching for the next optimal point.\n",
      "[100, 10, 'sqrt', 4, 1, False]\n"
     ]
    },
    {
     "name": "stderr",
     "output_type": "stream",
     "text": [
      "/home/carcook/anaconda3/envs/TCGA-round1/lib/python3.8/site-packages/skopt/optimizer/optimizer.py:449: UserWarning: The objective has been evaluated at this point before.\n",
      "  warnings.warn(\"The objective has been evaluated \"\n"
     ]
    },
    {
     "name": "stdout",
     "output_type": "stream",
     "text": [
      "Iteration No: 172 ended. Search finished for the next optimal point.\n",
      "Time taken: 4.9201\n",
      "Function value obtained: -0.4124\n",
      "Current minimum: -0.4398\n",
      "Iteration No: 173 started. Searching for the next optimal point.\n",
      "[100, 100, 'sqrt', 4, 1, False]\n"
     ]
    },
    {
     "name": "stderr",
     "output_type": "stream",
     "text": [
      "/home/carcook/anaconda3/envs/TCGA-round1/lib/python3.8/site-packages/skopt/optimizer/optimizer.py:449: UserWarning: The objective has been evaluated at this point before.\n",
      "  warnings.warn(\"The objective has been evaluated \"\n"
     ]
    },
    {
     "name": "stdout",
     "output_type": "stream",
     "text": [
      "Iteration No: 173 ended. Search finished for the next optimal point.\n",
      "Time taken: 5.5420\n",
      "Function value obtained: -0.3841\n",
      "Current minimum: -0.4398\n",
      "Iteration No: 174 started. Searching for the next optimal point.\n",
      "[100, 10, 'sqrt', 2, 1, False]\n"
     ]
    },
    {
     "name": "stderr",
     "output_type": "stream",
     "text": [
      "/home/carcook/anaconda3/envs/TCGA-round1/lib/python3.8/site-packages/skopt/optimizer/optimizer.py:449: UserWarning: The objective has been evaluated at this point before.\n",
      "  warnings.warn(\"The objective has been evaluated \"\n"
     ]
    },
    {
     "name": "stdout",
     "output_type": "stream",
     "text": [
      "Iteration No: 174 ended. Search finished for the next optimal point.\n",
      "Time taken: 5.5643\n",
      "Function value obtained: -0.4141\n",
      "Current minimum: -0.4398\n",
      "Iteration No: 175 started. Searching for the next optimal point.\n",
      "[1000, 50, 'sqrt', 4, 3, False]\n",
      "Iteration No: 175 ended. Search finished for the next optimal point.\n",
      "Time taken: 10.6519\n",
      "Function value obtained: -0.4018\n",
      "Current minimum: -0.4398\n",
      "Iteration No: 176 started. Searching for the next optimal point.\n",
      "[100, 54, 'auto', 3, 3, True]\n",
      "Iteration No: 176 ended. Search finished for the next optimal point.\n",
      "Time taken: 5.9940\n",
      "Function value obtained: -0.3691\n",
      "Current minimum: -0.4398\n",
      "Iteration No: 177 started. Searching for the next optimal point.\n",
      "[100, 10, 'sqrt', 2, 1, False]\n"
     ]
    },
    {
     "name": "stderr",
     "output_type": "stream",
     "text": [
      "/home/carcook/anaconda3/envs/TCGA-round1/lib/python3.8/site-packages/skopt/optimizer/optimizer.py:449: UserWarning: The objective has been evaluated at this point before.\n",
      "  warnings.warn(\"The objective has been evaluated \"\n"
     ]
    },
    {
     "name": "stdout",
     "output_type": "stream",
     "text": [
      "Iteration No: 177 ended. Search finished for the next optimal point.\n",
      "Time taken: 7.0079\n",
      "Function value obtained: -0.3999\n",
      "Current minimum: -0.4398\n",
      "Iteration No: 178 started. Searching for the next optimal point.\n",
      "[100, 10, 'sqrt', 4, 1, False]\n"
     ]
    },
    {
     "name": "stderr",
     "output_type": "stream",
     "text": [
      "/home/carcook/anaconda3/envs/TCGA-round1/lib/python3.8/site-packages/skopt/optimizer/optimizer.py:449: UserWarning: The objective has been evaluated at this point before.\n",
      "  warnings.warn(\"The objective has been evaluated \"\n"
     ]
    },
    {
     "name": "stdout",
     "output_type": "stream",
     "text": [
      "Iteration No: 178 ended. Search finished for the next optimal point.\n",
      "Time taken: 7.0580\n",
      "Function value obtained: -0.3741\n",
      "Current minimum: -0.4398\n",
      "Iteration No: 179 started. Searching for the next optimal point.\n",
      "[996, 23, 'auto', 3, 3, False]\n",
      "Iteration No: 179 ended. Search finished for the next optimal point.\n",
      "Time taken: 10.7976\n",
      "Function value obtained: -0.3871\n",
      "Current minimum: -0.4398\n",
      "Iteration No: 180 started. Searching for the next optimal point.\n",
      "[100, 100, 'sqrt', 3, 1, False]\n"
     ]
    },
    {
     "name": "stderr",
     "output_type": "stream",
     "text": [
      "/home/carcook/anaconda3/envs/TCGA-round1/lib/python3.8/site-packages/skopt/optimizer/optimizer.py:449: UserWarning: The objective has been evaluated at this point before.\n",
      "  warnings.warn(\"The objective has been evaluated \"\n"
     ]
    },
    {
     "name": "stdout",
     "output_type": "stream",
     "text": [
      "Iteration No: 180 ended. Search finished for the next optimal point.\n",
      "Time taken: 5.6980\n",
      "Function value obtained: -0.4168\n",
      "Current minimum: -0.4398\n",
      "Iteration No: 181 started. Searching for the next optimal point.\n",
      "[100, 29, 'sqrt', 2, 1, True]\n",
      "Iteration No: 181 ended. Search finished for the next optimal point.\n",
      "Time taken: 5.7197\n",
      "Function value obtained: -0.3830\n",
      "Current minimum: -0.4398\n",
      "Iteration No: 182 started. Searching for the next optimal point.\n",
      "[999, 97, 'sqrt', 2, 1, False]\n",
      "Iteration No: 182 ended. Search finished for the next optimal point.\n",
      "Time taken: 10.3734\n",
      "Function value obtained: -0.3906\n",
      "Current minimum: -0.4398\n",
      "Iteration No: 183 started. Searching for the next optimal point.\n",
      "[100, 100, 'sqrt', 2, 1, False]\n",
      "Iteration No: 183 ended. Search finished for the next optimal point.\n",
      "Time taken: 5.8886\n",
      "Function value obtained: -0.3845\n",
      "Current minimum: -0.4398\n",
      "Iteration No: 184 started. Searching for the next optimal point.\n",
      "[100, 100, 'sqrt', 2, 1, False]\n"
     ]
    },
    {
     "name": "stderr",
     "output_type": "stream",
     "text": [
      "/home/carcook/anaconda3/envs/TCGA-round1/lib/python3.8/site-packages/skopt/optimizer/optimizer.py:449: UserWarning: The objective has been evaluated at this point before.\n",
      "  warnings.warn(\"The objective has been evaluated \"\n"
     ]
    },
    {
     "name": "stdout",
     "output_type": "stream",
     "text": [
      "Iteration No: 184 ended. Search finished for the next optimal point.\n",
      "Time taken: 5.8571\n",
      "Function value obtained: -0.4022\n",
      "Current minimum: -0.4398\n",
      "Iteration No: 185 started. Searching for the next optimal point.\n",
      "[100, 85, 'log2', 2, 1, False]\n",
      "Iteration No: 185 ended. Search finished for the next optimal point.\n",
      "Time taken: 6.4856\n",
      "Function value obtained: -0.3714\n",
      "Current minimum: -0.4398\n",
      "Iteration No: 186 started. Searching for the next optimal point.\n",
      "[100, 100, 'sqrt', 3, 1, False]\n"
     ]
    },
    {
     "name": "stderr",
     "output_type": "stream",
     "text": [
      "/home/carcook/anaconda3/envs/TCGA-round1/lib/python3.8/site-packages/skopt/optimizer/optimizer.py:449: UserWarning: The objective has been evaluated at this point before.\n",
      "  warnings.warn(\"The objective has been evaluated \"\n"
     ]
    },
    {
     "name": "stdout",
     "output_type": "stream",
     "text": [
      "Iteration No: 186 ended. Search finished for the next optimal point.\n",
      "Time taken: 7.7749\n",
      "Function value obtained: -0.3864\n",
      "Current minimum: -0.4398\n",
      "Iteration No: 187 started. Searching for the next optimal point.\n",
      "[1000, 34, 'sqrt', 4, 3, False]\n",
      "Iteration No: 187 ended. Search finished for the next optimal point.\n",
      "Time taken: 11.0609\n",
      "Function value obtained: -0.3867\n",
      "Current minimum: -0.4398\n",
      "Iteration No: 188 started. Searching for the next optimal point.\n",
      "[100, 100, 'sqrt', 4, 1, False]\n"
     ]
    },
    {
     "name": "stderr",
     "output_type": "stream",
     "text": [
      "/home/carcook/anaconda3/envs/TCGA-round1/lib/python3.8/site-packages/skopt/optimizer/optimizer.py:449: UserWarning: The objective has been evaluated at this point before.\n",
      "  warnings.warn(\"The objective has been evaluated \"\n"
     ]
    },
    {
     "name": "stdout",
     "output_type": "stream",
     "text": [
      "Iteration No: 188 ended. Search finished for the next optimal point.\n",
      "Time taken: 7.8610\n",
      "Function value obtained: -0.3988\n",
      "Current minimum: -0.4398\n",
      "Iteration No: 189 started. Searching for the next optimal point.\n",
      "[100, 100, 'sqrt', 4, 1, False]\n"
     ]
    },
    {
     "name": "stderr",
     "output_type": "stream",
     "text": [
      "/home/carcook/anaconda3/envs/TCGA-round1/lib/python3.8/site-packages/skopt/optimizer/optimizer.py:449: UserWarning: The objective has been evaluated at this point before.\n",
      "  warnings.warn(\"The objective has been evaluated \"\n"
     ]
    },
    {
     "name": "stdout",
     "output_type": "stream",
     "text": [
      "Iteration No: 189 ended. Search finished for the next optimal point.\n",
      "Time taken: 6.6815\n",
      "Function value obtained: -0.3858\n",
      "Current minimum: -0.4398\n",
      "Iteration No: 190 started. Searching for the next optimal point.\n",
      "[999, 39, 'auto', 3, 1, False]\n",
      "Iteration No: 190 ended. Search finished for the next optimal point.\n",
      "Time taken: 11.7871\n",
      "Function value obtained: -0.3903\n",
      "Current minimum: -0.4398\n",
      "Iteration No: 191 started. Searching for the next optimal point.\n",
      "[999, 78, 'sqrt', 3, 3, True]\n",
      "Iteration No: 191 ended. Search finished for the next optimal point.\n",
      "Time taken: 11.8977\n",
      "Function value obtained: -0.3703\n",
      "Current minimum: -0.4398\n",
      "Iteration No: 192 started. Searching for the next optimal point.\n",
      "[100, 10, 'sqrt', 4, 1, False]\n"
     ]
    },
    {
     "name": "stderr",
     "output_type": "stream",
     "text": [
      "/home/carcook/anaconda3/envs/TCGA-round1/lib/python3.8/site-packages/skopt/optimizer/optimizer.py:449: UserWarning: The objective has been evaluated at this point before.\n",
      "  warnings.warn(\"The objective has been evaluated \"\n"
     ]
    },
    {
     "name": "stdout",
     "output_type": "stream",
     "text": [
      "Iteration No: 192 ended. Search finished for the next optimal point.\n",
      "Time taken: 6.9611\n",
      "Function value obtained: -0.4018\n",
      "Current minimum: -0.4398\n",
      "Iteration No: 193 started. Searching for the next optimal point.\n",
      "[1000, 85, 'auto', 2, 3, True]\n",
      "Iteration No: 193 ended. Search finished for the next optimal point.\n",
      "Time taken: 10.2327\n",
      "Function value obtained: -0.3691\n",
      "Current minimum: -0.4398\n",
      "Iteration No: 194 started. Searching for the next optimal point.\n",
      "[100, 10, 'sqrt', 4, 1, False]\n"
     ]
    },
    {
     "name": "stderr",
     "output_type": "stream",
     "text": [
      "/home/carcook/anaconda3/envs/TCGA-round1/lib/python3.8/site-packages/skopt/optimizer/optimizer.py:449: UserWarning: The objective has been evaluated at this point before.\n",
      "  warnings.warn(\"The objective has been evaluated \"\n"
     ]
    },
    {
     "name": "stdout",
     "output_type": "stream",
     "text": [
      "Iteration No: 194 ended. Search finished for the next optimal point.\n",
      "Time taken: 6.6785\n",
      "Function value obtained: -0.4047\n",
      "Current minimum: -0.4398\n",
      "Iteration No: 195 started. Searching for the next optimal point.\n",
      "[100, 10, 'sqrt', 2, 1, False]\n"
     ]
    },
    {
     "name": "stderr",
     "output_type": "stream",
     "text": [
      "/home/carcook/anaconda3/envs/TCGA-round1/lib/python3.8/site-packages/skopt/optimizer/optimizer.py:449: UserWarning: The objective has been evaluated at this point before.\n",
      "  warnings.warn(\"The objective has been evaluated \"\n"
     ]
    },
    {
     "name": "stdout",
     "output_type": "stream",
     "text": [
      "Iteration No: 195 ended. Search finished for the next optimal point.\n",
      "Time taken: 7.4450\n",
      "Function value obtained: -0.4004\n",
      "Current minimum: -0.4398\n",
      "Iteration No: 196 started. Searching for the next optimal point.\n",
      "[999, 22, 'auto', 4, 3, False]\n",
      "Iteration No: 196 ended. Search finished for the next optimal point.\n",
      "Time taken: 11.8351\n",
      "Function value obtained: -0.3882\n",
      "Current minimum: -0.4398\n",
      "Iteration No: 197 started. Searching for the next optimal point.\n",
      "[100, 10, 'sqrt', 2, 1, False]\n"
     ]
    },
    {
     "name": "stderr",
     "output_type": "stream",
     "text": [
      "/home/carcook/anaconda3/envs/TCGA-round1/lib/python3.8/site-packages/skopt/optimizer/optimizer.py:449: UserWarning: The objective has been evaluated at this point before.\n",
      "  warnings.warn(\"The objective has been evaluated \"\n"
     ]
    },
    {
     "name": "stdout",
     "output_type": "stream",
     "text": [
      "Iteration No: 197 ended. Search finished for the next optimal point.\n",
      "Time taken: 7.8363\n",
      "Function value obtained: -0.4124\n",
      "Current minimum: -0.4398\n",
      "Iteration No: 198 started. Searching for the next optimal point.\n",
      "[100, 10, 'sqrt', 4, 1, False]\n"
     ]
    },
    {
     "name": "stderr",
     "output_type": "stream",
     "text": [
      "/home/carcook/anaconda3/envs/TCGA-round1/lib/python3.8/site-packages/skopt/optimizer/optimizer.py:449: UserWarning: The objective has been evaluated at this point before.\n",
      "  warnings.warn(\"The objective has been evaluated \"\n"
     ]
    },
    {
     "name": "stdout",
     "output_type": "stream",
     "text": [
      "Iteration No: 198 ended. Search finished for the next optimal point.\n",
      "Time taken: 8.9504\n",
      "Function value obtained: -0.3840\n",
      "Current minimum: -0.4398\n",
      "Iteration No: 199 started. Searching for the next optimal point.\n",
      "[100, 10, 'sqrt', 2, 1, False]\n"
     ]
    },
    {
     "name": "stderr",
     "output_type": "stream",
     "text": [
      "/home/carcook/anaconda3/envs/TCGA-round1/lib/python3.8/site-packages/skopt/optimizer/optimizer.py:449: UserWarning: The objective has been evaluated at this point before.\n",
      "  warnings.warn(\"The objective has been evaluated \"\n"
     ]
    },
    {
     "name": "stdout",
     "output_type": "stream",
     "text": [
      "Iteration No: 199 ended. Search finished for the next optimal point.\n",
      "Time taken: 7.9853\n",
      "Function value obtained: -0.4222\n",
      "Current minimum: -0.4398\n",
      "Iteration No: 200 started. Searching for the next optimal point.\n",
      "[100, 10, 'sqrt', 2, 1, False]\n"
     ]
    },
    {
     "name": "stderr",
     "output_type": "stream",
     "text": [
      "/home/carcook/anaconda3/envs/TCGA-round1/lib/python3.8/site-packages/skopt/optimizer/optimizer.py:449: UserWarning: The objective has been evaluated at this point before.\n",
      "  warnings.warn(\"The objective has been evaluated \"\n"
     ]
    },
    {
     "name": "stdout",
     "output_type": "stream",
     "text": [
      "Iteration No: 200 ended. Search finished for the next optimal point.\n",
      "Time taken: 7.0422\n",
      "Function value obtained: -0.4116\n",
      "Current minimum: -0.4398\n",
      "Iteration No: 201 started. Searching for the next optimal point.\n",
      "[100, 10, 'sqrt', 2, 1, False]\n"
     ]
    },
    {
     "name": "stderr",
     "output_type": "stream",
     "text": [
      "/home/carcook/anaconda3/envs/TCGA-round1/lib/python3.8/site-packages/skopt/optimizer/optimizer.py:449: UserWarning: The objective has been evaluated at this point before.\n",
      "  warnings.warn(\"The objective has been evaluated \"\n"
     ]
    },
    {
     "name": "stdout",
     "output_type": "stream",
     "text": [
      "Iteration No: 201 ended. Search finished for the next optimal point.\n",
      "Time taken: 6.9003\n",
      "Function value obtained: -0.4065\n",
      "Current minimum: -0.4398\n",
      "Iteration No: 202 started. Searching for the next optimal point.\n",
      "[100, 10, 'sqrt', 2, 1, False]\n"
     ]
    },
    {
     "name": "stderr",
     "output_type": "stream",
     "text": [
      "/home/carcook/anaconda3/envs/TCGA-round1/lib/python3.8/site-packages/skopt/optimizer/optimizer.py:449: UserWarning: The objective has been evaluated at this point before.\n",
      "  warnings.warn(\"The objective has been evaluated \"\n"
     ]
    },
    {
     "name": "stdout",
     "output_type": "stream",
     "text": [
      "Iteration No: 202 ended. Search finished for the next optimal point.\n",
      "Time taken: 6.8942\n",
      "Function value obtained: -0.4164\n",
      "Current minimum: -0.4398\n",
      "Iteration No: 203 started. Searching for the next optimal point.\n",
      "[102, 56, 'sqrt', 4, 1, True]\n",
      "Iteration No: 203 ended. Search finished for the next optimal point.\n",
      "Time taken: 8.0188\n",
      "Function value obtained: -0.3866\n",
      "Current minimum: -0.4398\n",
      "Iteration No: 204 started. Searching for the next optimal point.\n",
      "[100, 10, 'sqrt', 2, 1, False]\n"
     ]
    },
    {
     "name": "stderr",
     "output_type": "stream",
     "text": [
      "/home/carcook/anaconda3/envs/TCGA-round1/lib/python3.8/site-packages/skopt/optimizer/optimizer.py:449: UserWarning: The objective has been evaluated at this point before.\n",
      "  warnings.warn(\"The objective has been evaluated \"\n"
     ]
    },
    {
     "name": "stdout",
     "output_type": "stream",
     "text": [
      "Iteration No: 204 ended. Search finished for the next optimal point.\n",
      "Time taken: 7.7722\n",
      "Function value obtained: -0.4204\n",
      "Current minimum: -0.4398\n",
      "Iteration No: 205 started. Searching for the next optimal point.\n",
      "[100, 10, 'sqrt', 2, 1, False]\n"
     ]
    },
    {
     "name": "stderr",
     "output_type": "stream",
     "text": [
      "/home/carcook/anaconda3/envs/TCGA-round1/lib/python3.8/site-packages/skopt/optimizer/optimizer.py:449: UserWarning: The objective has been evaluated at this point before.\n",
      "  warnings.warn(\"The objective has been evaluated \"\n"
     ]
    },
    {
     "name": "stdout",
     "output_type": "stream",
     "text": [
      "Iteration No: 205 ended. Search finished for the next optimal point.\n",
      "Time taken: 7.4984\n",
      "Function value obtained: -0.3824\n",
      "Current minimum: -0.4398\n",
      "Iteration No: 206 started. Searching for the next optimal point.\n",
      "[100, 10, 'sqrt', 2, 1, False]\n"
     ]
    },
    {
     "name": "stderr",
     "output_type": "stream",
     "text": [
      "/home/carcook/anaconda3/envs/TCGA-round1/lib/python3.8/site-packages/skopt/optimizer/optimizer.py:449: UserWarning: The objective has been evaluated at this point before.\n",
      "  warnings.warn(\"The objective has been evaluated \"\n"
     ]
    },
    {
     "name": "stdout",
     "output_type": "stream",
     "text": [
      "Iteration No: 206 ended. Search finished for the next optimal point.\n",
      "Time taken: 7.8582\n",
      "Function value obtained: -0.4108\n",
      "Current minimum: -0.4398\n",
      "Iteration No: 207 started. Searching for the next optimal point.\n",
      "[100, 10, 'sqrt', 2, 1, False]\n"
     ]
    },
    {
     "name": "stderr",
     "output_type": "stream",
     "text": [
      "/home/carcook/anaconda3/envs/TCGA-round1/lib/python3.8/site-packages/skopt/optimizer/optimizer.py:449: UserWarning: The objective has been evaluated at this point before.\n",
      "  warnings.warn(\"The objective has been evaluated \"\n"
     ]
    },
    {
     "name": "stdout",
     "output_type": "stream",
     "text": [
      "Iteration No: 207 ended. Search finished for the next optimal point.\n",
      "Time taken: 7.9791\n",
      "Function value obtained: -0.3880\n",
      "Current minimum: -0.4398\n",
      "Iteration No: 208 started. Searching for the next optimal point.\n",
      "[100, 10, 'sqrt', 2, 1, False]\n"
     ]
    },
    {
     "name": "stderr",
     "output_type": "stream",
     "text": [
      "/home/carcook/anaconda3/envs/TCGA-round1/lib/python3.8/site-packages/skopt/optimizer/optimizer.py:449: UserWarning: The objective has been evaluated at this point before.\n",
      "  warnings.warn(\"The objective has been evaluated \"\n"
     ]
    },
    {
     "name": "stdout",
     "output_type": "stream",
     "text": [
      "Iteration No: 208 ended. Search finished for the next optimal point.\n",
      "Time taken: 8.3841\n",
      "Function value obtained: -0.4286\n",
      "Current minimum: -0.4398\n",
      "Iteration No: 209 started. Searching for the next optimal point.\n",
      "[100, 10, 'sqrt', 2, 1, False]\n"
     ]
    },
    {
     "name": "stderr",
     "output_type": "stream",
     "text": [
      "/home/carcook/anaconda3/envs/TCGA-round1/lib/python3.8/site-packages/skopt/optimizer/optimizer.py:449: UserWarning: The objective has been evaluated at this point before.\n",
      "  warnings.warn(\"The objective has been evaluated \"\n"
     ]
    },
    {
     "name": "stdout",
     "output_type": "stream",
     "text": [
      "Iteration No: 209 ended. Search finished for the next optimal point.\n",
      "Time taken: 8.7567\n",
      "Function value obtained: -0.3924\n",
      "Current minimum: -0.4398\n",
      "Iteration No: 210 started. Searching for the next optimal point.\n",
      "[100, 38, 'sqrt', 2, 1, False]\n",
      "Iteration No: 210 ended. Search finished for the next optimal point.\n",
      "Time taken: 8.9038\n",
      "Function value obtained: -0.3951\n",
      "Current minimum: -0.4398\n",
      "Iteration No: 211 started. Searching for the next optimal point.\n",
      "[100, 50, 'auto', 3, 1, True]\n",
      "Iteration No: 211 ended. Search finished for the next optimal point.\n",
      "Time taken: 8.7398\n",
      "Function value obtained: -0.3808\n",
      "Current minimum: -0.4398\n",
      "Iteration No: 212 started. Searching for the next optimal point.\n",
      "[100, 10, 'sqrt', 2, 1, False]\n"
     ]
    },
    {
     "name": "stderr",
     "output_type": "stream",
     "text": [
      "/home/carcook/anaconda3/envs/TCGA-round1/lib/python3.8/site-packages/skopt/optimizer/optimizer.py:449: UserWarning: The objective has been evaluated at this point before.\n",
      "  warnings.warn(\"The objective has been evaluated \"\n"
     ]
    },
    {
     "name": "stdout",
     "output_type": "stream",
     "text": [
      "Iteration No: 212 ended. Search finished for the next optimal point.\n",
      "Time taken: 9.2309\n",
      "Function value obtained: -0.3871\n",
      "Current minimum: -0.4398\n",
      "Iteration No: 213 started. Searching for the next optimal point.\n",
      "[100, 10, 'sqrt', 2, 1, False]\n"
     ]
    },
    {
     "name": "stderr",
     "output_type": "stream",
     "text": [
      "/home/carcook/anaconda3/envs/TCGA-round1/lib/python3.8/site-packages/skopt/optimizer/optimizer.py:449: UserWarning: The objective has been evaluated at this point before.\n",
      "  warnings.warn(\"The objective has been evaluated \"\n"
     ]
    },
    {
     "name": "stdout",
     "output_type": "stream",
     "text": [
      "Iteration No: 213 ended. Search finished for the next optimal point.\n",
      "Time taken: 9.1593\n",
      "Function value obtained: -0.3931\n",
      "Current minimum: -0.4398\n",
      "Iteration No: 214 started. Searching for the next optimal point.\n",
      "[996, 74, 'sqrt', 4, 1, False]\n",
      "Iteration No: 214 ended. Search finished for the next optimal point.\n",
      "Time taken: 12.4589\n",
      "Function value obtained: -0.4039\n",
      "Current minimum: -0.4398\n",
      "Iteration No: 215 started. Searching for the next optimal point.\n",
      "[100, 10, 'sqrt', 2, 1, False]\n"
     ]
    },
    {
     "name": "stderr",
     "output_type": "stream",
     "text": [
      "/home/carcook/anaconda3/envs/TCGA-round1/lib/python3.8/site-packages/skopt/optimizer/optimizer.py:449: UserWarning: The objective has been evaluated at this point before.\n",
      "  warnings.warn(\"The objective has been evaluated \"\n"
     ]
    },
    {
     "name": "stdout",
     "output_type": "stream",
     "text": [
      "Iteration No: 215 ended. Search finished for the next optimal point.\n",
      "Time taken: 7.6347\n",
      "Function value obtained: -0.3919\n",
      "Current minimum: -0.4398\n",
      "Iteration No: 216 started. Searching for the next optimal point.\n",
      "[100, 10, 'sqrt', 2, 1, False]\n"
     ]
    },
    {
     "name": "stderr",
     "output_type": "stream",
     "text": [
      "/home/carcook/anaconda3/envs/TCGA-round1/lib/python3.8/site-packages/skopt/optimizer/optimizer.py:449: UserWarning: The objective has been evaluated at this point before.\n",
      "  warnings.warn(\"The objective has been evaluated \"\n"
     ]
    },
    {
     "name": "stdout",
     "output_type": "stream",
     "text": [
      "Iteration No: 216 ended. Search finished for the next optimal point.\n",
      "Time taken: 7.6949\n",
      "Function value obtained: -0.4038\n",
      "Current minimum: -0.4398\n",
      "Iteration No: 217 started. Searching for the next optimal point.\n",
      "[100, 10, 'sqrt', 2, 1, False]\n"
     ]
    },
    {
     "name": "stderr",
     "output_type": "stream",
     "text": [
      "/home/carcook/anaconda3/envs/TCGA-round1/lib/python3.8/site-packages/skopt/optimizer/optimizer.py:449: UserWarning: The objective has been evaluated at this point before.\n",
      "  warnings.warn(\"The objective has been evaluated \"\n"
     ]
    },
    {
     "name": "stdout",
     "output_type": "stream",
     "text": [
      "Iteration No: 217 ended. Search finished for the next optimal point.\n",
      "Time taken: 8.0560\n",
      "Function value obtained: -0.3917\n",
      "Current minimum: -0.4398\n",
      "Iteration No: 218 started. Searching for the next optimal point.\n",
      "[100, 10, 'sqrt', 4, 1, False]\n"
     ]
    },
    {
     "name": "stderr",
     "output_type": "stream",
     "text": [
      "/home/carcook/anaconda3/envs/TCGA-round1/lib/python3.8/site-packages/skopt/optimizer/optimizer.py:449: UserWarning: The objective has been evaluated at this point before.\n",
      "  warnings.warn(\"The objective has been evaluated \"\n"
     ]
    },
    {
     "name": "stdout",
     "output_type": "stream",
     "text": [
      "Iteration No: 218 ended. Search finished for the next optimal point.\n",
      "Time taken: 9.9959\n",
      "Function value obtained: -0.4019\n",
      "Current minimum: -0.4398\n",
      "Iteration No: 219 started. Searching for the next optimal point.\n",
      "[100, 10, 'sqrt', 4, 1, False]\n"
     ]
    },
    {
     "name": "stderr",
     "output_type": "stream",
     "text": [
      "/home/carcook/anaconda3/envs/TCGA-round1/lib/python3.8/site-packages/skopt/optimizer/optimizer.py:449: UserWarning: The objective has been evaluated at this point before.\n",
      "  warnings.warn(\"The objective has been evaluated \"\n"
     ]
    },
    {
     "name": "stdout",
     "output_type": "stream",
     "text": [
      "Iteration No: 219 ended. Search finished for the next optimal point.\n",
      "Time taken: 9.9805\n",
      "Function value obtained: -0.4137\n",
      "Current minimum: -0.4398\n",
      "Iteration No: 220 started. Searching for the next optimal point.\n",
      "[999, 14, 'sqrt', 2, 1, True]\n",
      "Iteration No: 220 ended. Search finished for the next optimal point.\n",
      "Time taken: 11.9147\n",
      "Function value obtained: -0.3710\n",
      "Current minimum: -0.4398\n",
      "Iteration No: 221 started. Searching for the next optimal point.\n",
      "[100, 10, 'sqrt', 4, 1, False]\n"
     ]
    },
    {
     "name": "stderr",
     "output_type": "stream",
     "text": [
      "/home/carcook/anaconda3/envs/TCGA-round1/lib/python3.8/site-packages/skopt/optimizer/optimizer.py:449: UserWarning: The objective has been evaluated at this point before.\n",
      "  warnings.warn(\"The objective has been evaluated \"\n"
     ]
    },
    {
     "name": "stdout",
     "output_type": "stream",
     "text": [
      "Iteration No: 221 ended. Search finished for the next optimal point.\n",
      "Time taken: 8.6208\n",
      "Function value obtained: -0.3996\n",
      "Current minimum: -0.4398\n",
      "Iteration No: 222 started. Searching for the next optimal point.\n",
      "[999, 64, 'sqrt', 3, 3, False]\n",
      "Iteration No: 222 ended. Search finished for the next optimal point.\n",
      "Time taken: 13.7130\n",
      "Function value obtained: -0.3945\n",
      "Current minimum: -0.4398\n",
      "Iteration No: 223 started. Searching for the next optimal point.\n",
      "[100, 10, 'sqrt', 2, 1, False]\n"
     ]
    },
    {
     "name": "stderr",
     "output_type": "stream",
     "text": [
      "/home/carcook/anaconda3/envs/TCGA-round1/lib/python3.8/site-packages/skopt/optimizer/optimizer.py:449: UserWarning: The objective has been evaluated at this point before.\n",
      "  warnings.warn(\"The objective has been evaluated \"\n"
     ]
    },
    {
     "name": "stdout",
     "output_type": "stream",
     "text": [
      "Iteration No: 223 ended. Search finished for the next optimal point.\n",
      "Time taken: 8.1006\n",
      "Function value obtained: -0.3898\n",
      "Current minimum: -0.4398\n",
      "Iteration No: 224 started. Searching for the next optimal point.\n",
      "[100, 10, 'sqrt', 4, 1, False]\n"
     ]
    },
    {
     "name": "stderr",
     "output_type": "stream",
     "text": [
      "/home/carcook/anaconda3/envs/TCGA-round1/lib/python3.8/site-packages/skopt/optimizer/optimizer.py:449: UserWarning: The objective has been evaluated at this point before.\n",
      "  warnings.warn(\"The objective has been evaluated \"\n"
     ]
    },
    {
     "name": "stdout",
     "output_type": "stream",
     "text": [
      "Iteration No: 224 ended. Search finished for the next optimal point.\n",
      "Time taken: 8.8623\n",
      "Function value obtained: -0.4110\n",
      "Current minimum: -0.4398\n",
      "Iteration No: 225 started. Searching for the next optimal point.\n",
      "[100, 10, 'sqrt', 3, 1, False]\n"
     ]
    },
    {
     "name": "stderr",
     "output_type": "stream",
     "text": [
      "/home/carcook/anaconda3/envs/TCGA-round1/lib/python3.8/site-packages/skopt/optimizer/optimizer.py:449: UserWarning: The objective has been evaluated at this point before.\n",
      "  warnings.warn(\"The objective has been evaluated \"\n"
     ]
    },
    {
     "name": "stdout",
     "output_type": "stream",
     "text": [
      "Iteration No: 225 ended. Search finished for the next optimal point.\n",
      "Time taken: 7.3025\n",
      "Function value obtained: -0.4166\n",
      "Current minimum: -0.4398\n",
      "Iteration No: 226 started. Searching for the next optimal point.\n",
      "[111, 35, 'sqrt', 2, 3, True]\n",
      "Iteration No: 226 ended. Search finished for the next optimal point.\n",
      "Time taken: 8.4394\n",
      "Function value obtained: -0.3737\n",
      "Current minimum: -0.4398\n",
      "Iteration No: 227 started. Searching for the next optimal point.\n",
      "[100, 10, 'sqrt', 4, 1, False]\n"
     ]
    },
    {
     "name": "stderr",
     "output_type": "stream",
     "text": [
      "/home/carcook/anaconda3/envs/TCGA-round1/lib/python3.8/site-packages/skopt/optimizer/optimizer.py:449: UserWarning: The objective has been evaluated at this point before.\n",
      "  warnings.warn(\"The objective has been evaluated \"\n"
     ]
    },
    {
     "name": "stdout",
     "output_type": "stream",
     "text": [
      "Iteration No: 227 ended. Search finished for the next optimal point.\n",
      "Time taken: 7.9985\n",
      "Function value obtained: -0.4216\n",
      "Current minimum: -0.4398\n",
      "Iteration No: 228 started. Searching for the next optimal point.\n",
      "[100, 10, 'sqrt', 4, 1, False]\n"
     ]
    },
    {
     "name": "stderr",
     "output_type": "stream",
     "text": [
      "/home/carcook/anaconda3/envs/TCGA-round1/lib/python3.8/site-packages/skopt/optimizer/optimizer.py:449: UserWarning: The objective has been evaluated at this point before.\n",
      "  warnings.warn(\"The objective has been evaluated \"\n"
     ]
    },
    {
     "name": "stdout",
     "output_type": "stream",
     "text": [
      "Iteration No: 228 ended. Search finished for the next optimal point.\n",
      "Time taken: 8.8327\n",
      "Function value obtained: -0.4105\n",
      "Current minimum: -0.4398\n",
      "Iteration No: 229 started. Searching for the next optimal point.\n",
      "[999, 78, 'auto', 4, 1, False]\n",
      "Iteration No: 229 ended. Search finished for the next optimal point.\n",
      "Time taken: 13.1686\n",
      "Function value obtained: -0.4036\n",
      "Current minimum: -0.4398\n",
      "Iteration No: 230 started. Searching for the next optimal point.\n",
      "[998, 51, 'auto', 3, 3, False]\n",
      "Iteration No: 230 ended. Search finished for the next optimal point.\n",
      "Time taken: 14.4102\n",
      "Function value obtained: -0.3907\n",
      "Current minimum: -0.4398\n",
      "Iteration No: 231 started. Searching for the next optimal point.\n",
      "[100, 10, 'sqrt', 4, 1, False]\n"
     ]
    },
    {
     "name": "stderr",
     "output_type": "stream",
     "text": [
      "/home/carcook/anaconda3/envs/TCGA-round1/lib/python3.8/site-packages/skopt/optimizer/optimizer.py:449: UserWarning: The objective has been evaluated at this point before.\n",
      "  warnings.warn(\"The objective has been evaluated \"\n"
     ]
    },
    {
     "name": "stdout",
     "output_type": "stream",
     "text": [
      "Iteration No: 231 ended. Search finished for the next optimal point.\n",
      "Time taken: 9.2254\n",
      "Function value obtained: -0.4035\n",
      "Current minimum: -0.4398\n",
      "Iteration No: 232 started. Searching for the next optimal point.\n",
      "[100, 10, 'sqrt', 4, 1, False]\n"
     ]
    },
    {
     "name": "stderr",
     "output_type": "stream",
     "text": [
      "/home/carcook/anaconda3/envs/TCGA-round1/lib/python3.8/site-packages/skopt/optimizer/optimizer.py:449: UserWarning: The objective has been evaluated at this point before.\n",
      "  warnings.warn(\"The objective has been evaluated \"\n"
     ]
    },
    {
     "name": "stdout",
     "output_type": "stream",
     "text": [
      "Iteration No: 232 ended. Search finished for the next optimal point.\n",
      "Time taken: 11.6990\n",
      "Function value obtained: -0.3840\n",
      "Current minimum: -0.4398\n",
      "Iteration No: 233 started. Searching for the next optimal point.\n",
      "[100, 10, 'sqrt', 4, 1, False]\n"
     ]
    },
    {
     "name": "stderr",
     "output_type": "stream",
     "text": [
      "/home/carcook/anaconda3/envs/TCGA-round1/lib/python3.8/site-packages/skopt/optimizer/optimizer.py:449: UserWarning: The objective has been evaluated at this point before.\n",
      "  warnings.warn(\"The objective has been evaluated \"\n"
     ]
    },
    {
     "name": "stdout",
     "output_type": "stream",
     "text": [
      "Iteration No: 233 ended. Search finished for the next optimal point.\n",
      "Time taken: 11.9627\n",
      "Function value obtained: -0.3896\n",
      "Current minimum: -0.4398\n",
      "Iteration No: 234 started. Searching for the next optimal point.\n",
      "[1000, 99, 'auto', 3, 1, True]\n",
      "Iteration No: 234 ended. Search finished for the next optimal point.\n",
      "Time taken: 14.7355\n",
      "Function value obtained: -0.3703\n",
      "Current minimum: -0.4398\n",
      "Iteration No: 235 started. Searching for the next optimal point.\n",
      "[100, 10, 'sqrt', 4, 1, False]\n"
     ]
    },
    {
     "name": "stderr",
     "output_type": "stream",
     "text": [
      "/home/carcook/anaconda3/envs/TCGA-round1/lib/python3.8/site-packages/skopt/optimizer/optimizer.py:449: UserWarning: The objective has been evaluated at this point before.\n",
      "  warnings.warn(\"The objective has been evaluated \"\n"
     ]
    },
    {
     "name": "stdout",
     "output_type": "stream",
     "text": [
      "Iteration No: 235 ended. Search finished for the next optimal point.\n",
      "Time taken: 9.0226\n",
      "Function value obtained: -0.4123\n",
      "Current minimum: -0.4398\n",
      "Iteration No: 236 started. Searching for the next optimal point.\n",
      "[100, 10, 'sqrt', 4, 1, False]\n"
     ]
    },
    {
     "name": "stderr",
     "output_type": "stream",
     "text": [
      "/home/carcook/anaconda3/envs/TCGA-round1/lib/python3.8/site-packages/skopt/optimizer/optimizer.py:449: UserWarning: The objective has been evaluated at this point before.\n",
      "  warnings.warn(\"The objective has been evaluated \"\n"
     ]
    },
    {
     "name": "stdout",
     "output_type": "stream",
     "text": [
      "Iteration No: 236 ended. Search finished for the next optimal point.\n",
      "Time taken: 8.8766\n",
      "Function value obtained: -0.3906\n",
      "Current minimum: -0.4398\n",
      "Iteration No: 237 started. Searching for the next optimal point.\n",
      "[100, 100, 'sqrt', 4, 1, False]\n"
     ]
    },
    {
     "name": "stderr",
     "output_type": "stream",
     "text": [
      "/home/carcook/anaconda3/envs/TCGA-round1/lib/python3.8/site-packages/skopt/optimizer/optimizer.py:449: UserWarning: The objective has been evaluated at this point before.\n",
      "  warnings.warn(\"The objective has been evaluated \"\n"
     ]
    },
    {
     "name": "stdout",
     "output_type": "stream",
     "text": [
      "Iteration No: 237 ended. Search finished for the next optimal point.\n",
      "Time taken: 10.1794\n",
      "Function value obtained: -0.3910\n",
      "Current minimum: -0.4398\n",
      "Iteration No: 238 started. Searching for the next optimal point.\n",
      "[100, 10, 'sqrt', 4, 1, False]\n"
     ]
    },
    {
     "name": "stderr",
     "output_type": "stream",
     "text": [
      "/home/carcook/anaconda3/envs/TCGA-round1/lib/python3.8/site-packages/skopt/optimizer/optimizer.py:449: UserWarning: The objective has been evaluated at this point before.\n",
      "  warnings.warn(\"The objective has been evaluated \"\n"
     ]
    },
    {
     "name": "stdout",
     "output_type": "stream",
     "text": [
      "Iteration No: 238 ended. Search finished for the next optimal point.\n",
      "Time taken: 9.5621\n",
      "Function value obtained: -0.4039\n",
      "Current minimum: -0.4398\n",
      "Iteration No: 239 started. Searching for the next optimal point.\n",
      "[100, 10, 'sqrt', 2, 1, False]\n"
     ]
    },
    {
     "name": "stderr",
     "output_type": "stream",
     "text": [
      "/home/carcook/anaconda3/envs/TCGA-round1/lib/python3.8/site-packages/skopt/optimizer/optimizer.py:449: UserWarning: The objective has been evaluated at this point before.\n",
      "  warnings.warn(\"The objective has been evaluated \"\n"
     ]
    },
    {
     "name": "stdout",
     "output_type": "stream",
     "text": [
      "Iteration No: 239 ended. Search finished for the next optimal point.\n",
      "Time taken: 9.6834\n",
      "Function value obtained: -0.4143\n",
      "Current minimum: -0.4398\n",
      "Iteration No: 240 started. Searching for the next optimal point.\n",
      "[100, 10, 'sqrt', 4, 1, False]\n"
     ]
    },
    {
     "name": "stderr",
     "output_type": "stream",
     "text": [
      "/home/carcook/anaconda3/envs/TCGA-round1/lib/python3.8/site-packages/skopt/optimizer/optimizer.py:449: UserWarning: The objective has been evaluated at this point before.\n",
      "  warnings.warn(\"The objective has been evaluated \"\n"
     ]
    },
    {
     "name": "stdout",
     "output_type": "stream",
     "text": [
      "Iteration No: 240 ended. Search finished for the next optimal point.\n",
      "Time taken: 8.7491\n",
      "Function value obtained: -0.4041\n",
      "Current minimum: -0.4398\n",
      "Iteration No: 241 started. Searching for the next optimal point.\n",
      "[100, 10, 'sqrt', 2, 1, False]\n"
     ]
    },
    {
     "name": "stderr",
     "output_type": "stream",
     "text": [
      "/home/carcook/anaconda3/envs/TCGA-round1/lib/python3.8/site-packages/skopt/optimizer/optimizer.py:449: UserWarning: The objective has been evaluated at this point before.\n",
      "  warnings.warn(\"The objective has been evaluated \"\n"
     ]
    },
    {
     "name": "stdout",
     "output_type": "stream",
     "text": [
      "Iteration No: 241 ended. Search finished for the next optimal point.\n",
      "Time taken: 9.6334\n",
      "Function value obtained: -0.3988\n",
      "Current minimum: -0.4398\n",
      "Iteration No: 242 started. Searching for the next optimal point.\n",
      "[100, 10, 'sqrt', 4, 1, False]\n"
     ]
    },
    {
     "name": "stderr",
     "output_type": "stream",
     "text": [
      "/home/carcook/anaconda3/envs/TCGA-round1/lib/python3.8/site-packages/skopt/optimizer/optimizer.py:449: UserWarning: The objective has been evaluated at this point before.\n",
      "  warnings.warn(\"The objective has been evaluated \"\n"
     ]
    },
    {
     "name": "stdout",
     "output_type": "stream",
     "text": [
      "Iteration No: 242 ended. Search finished for the next optimal point.\n",
      "Time taken: 8.6790\n",
      "Function value obtained: -0.4052\n",
      "Current minimum: -0.4398\n",
      "Iteration No: 243 started. Searching for the next optimal point.\n",
      "[100, 10, 'sqrt', 2, 1, False]\n"
     ]
    },
    {
     "name": "stderr",
     "output_type": "stream",
     "text": [
      "/home/carcook/anaconda3/envs/TCGA-round1/lib/python3.8/site-packages/skopt/optimizer/optimizer.py:449: UserWarning: The objective has been evaluated at this point before.\n",
      "  warnings.warn(\"The objective has been evaluated \"\n"
     ]
    },
    {
     "name": "stdout",
     "output_type": "stream",
     "text": [
      "Iteration No: 243 ended. Search finished for the next optimal point.\n",
      "Time taken: 9.4438\n",
      "Function value obtained: -0.4149\n",
      "Current minimum: -0.4398\n",
      "Iteration No: 244 started. Searching for the next optimal point.\n",
      "[100, 10, 'sqrt', 2, 1, False]\n"
     ]
    },
    {
     "name": "stderr",
     "output_type": "stream",
     "text": [
      "/home/carcook/anaconda3/envs/TCGA-round1/lib/python3.8/site-packages/skopt/optimizer/optimizer.py:449: UserWarning: The objective has been evaluated at this point before.\n",
      "  warnings.warn(\"The objective has been evaluated \"\n"
     ]
    },
    {
     "name": "stdout",
     "output_type": "stream",
     "text": [
      "Iteration No: 244 ended. Search finished for the next optimal point.\n",
      "Time taken: 9.9823\n",
      "Function value obtained: -0.3854\n",
      "Current minimum: -0.4398\n",
      "Iteration No: 245 started. Searching for the next optimal point.\n",
      "[100, 100, 'sqrt', 4, 1, False]\n"
     ]
    },
    {
     "name": "stderr",
     "output_type": "stream",
     "text": [
      "/home/carcook/anaconda3/envs/TCGA-round1/lib/python3.8/site-packages/skopt/optimizer/optimizer.py:449: UserWarning: The objective has been evaluated at this point before.\n",
      "  warnings.warn(\"The objective has been evaluated \"\n"
     ]
    },
    {
     "name": "stdout",
     "output_type": "stream",
     "text": [
      "Iteration No: 245 ended. Search finished for the next optimal point.\n",
      "Time taken: 10.0368\n",
      "Function value obtained: -0.4270\n",
      "Current minimum: -0.4398\n",
      "Iteration No: 246 started. Searching for the next optimal point.\n",
      "[100, 100, 'sqrt', 4, 1, False]\n"
     ]
    },
    {
     "name": "stderr",
     "output_type": "stream",
     "text": [
      "/home/carcook/anaconda3/envs/TCGA-round1/lib/python3.8/site-packages/skopt/optimizer/optimizer.py:449: UserWarning: The objective has been evaluated at this point before.\n",
      "  warnings.warn(\"The objective has been evaluated \"\n"
     ]
    },
    {
     "name": "stdout",
     "output_type": "stream",
     "text": [
      "Iteration No: 246 ended. Search finished for the next optimal point.\n",
      "Time taken: 10.7305\n",
      "Function value obtained: -0.3752\n",
      "Current minimum: -0.4398\n",
      "Iteration No: 247 started. Searching for the next optimal point.\n",
      "[100, 10, 'sqrt', 2, 1, False]\n"
     ]
    },
    {
     "name": "stderr",
     "output_type": "stream",
     "text": [
      "/home/carcook/anaconda3/envs/TCGA-round1/lib/python3.8/site-packages/skopt/optimizer/optimizer.py:449: UserWarning: The objective has been evaluated at this point before.\n",
      "  warnings.warn(\"The objective has been evaluated \"\n"
     ]
    },
    {
     "name": "stdout",
     "output_type": "stream",
     "text": [
      "Iteration No: 247 ended. Search finished for the next optimal point.\n",
      "Time taken: 9.2821\n",
      "Function value obtained: -0.3963\n",
      "Current minimum: -0.4398\n",
      "Iteration No: 248 started. Searching for the next optimal point.\n",
      "[100, 10, 'sqrt', 4, 1, False]\n"
     ]
    },
    {
     "name": "stderr",
     "output_type": "stream",
     "text": [
      "/home/carcook/anaconda3/envs/TCGA-round1/lib/python3.8/site-packages/skopt/optimizer/optimizer.py:449: UserWarning: The objective has been evaluated at this point before.\n",
      "  warnings.warn(\"The objective has been evaluated \"\n"
     ]
    },
    {
     "name": "stdout",
     "output_type": "stream",
     "text": [
      "Iteration No: 248 ended. Search finished for the next optimal point.\n",
      "Time taken: 9.9487\n",
      "Function value obtained: -0.4032\n",
      "Current minimum: -0.4398\n",
      "Iteration No: 249 started. Searching for the next optimal point.\n",
      "[100, 10, 'sqrt', 4, 1, False]\n"
     ]
    },
    {
     "name": "stderr",
     "output_type": "stream",
     "text": [
      "/home/carcook/anaconda3/envs/TCGA-round1/lib/python3.8/site-packages/skopt/optimizer/optimizer.py:449: UserWarning: The objective has been evaluated at this point before.\n",
      "  warnings.warn(\"The objective has been evaluated \"\n"
     ]
    },
    {
     "name": "stdout",
     "output_type": "stream",
     "text": [
      "Iteration No: 249 ended. Search finished for the next optimal point.\n",
      "Time taken: 9.5487\n",
      "Function value obtained: -0.4049\n",
      "Current minimum: -0.4398\n",
      "Iteration No: 250 started. Searching for the next optimal point.\n",
      "[100, 10, 'sqrt', 4, 1, False]\n"
     ]
    },
    {
     "name": "stderr",
     "output_type": "stream",
     "text": [
      "/home/carcook/anaconda3/envs/TCGA-round1/lib/python3.8/site-packages/skopt/optimizer/optimizer.py:449: UserWarning: The objective has been evaluated at this point before.\n",
      "  warnings.warn(\"The objective has been evaluated \"\n"
     ]
    },
    {
     "name": "stdout",
     "output_type": "stream",
     "text": [
      "Iteration No: 250 ended. Search finished for the next optimal point.\n",
      "Time taken: 9.0738\n",
      "Function value obtained: -0.3775\n",
      "Current minimum: -0.4398\n",
      "Iteration No: 251 started. Searching for the next optimal point.\n",
      "[100, 10, 'sqrt', 4, 1, False]\n"
     ]
    },
    {
     "name": "stderr",
     "output_type": "stream",
     "text": [
      "/home/carcook/anaconda3/envs/TCGA-round1/lib/python3.8/site-packages/skopt/optimizer/optimizer.py:449: UserWarning: The objective has been evaluated at this point before.\n",
      "  warnings.warn(\"The objective has been evaluated \"\n"
     ]
    },
    {
     "name": "stdout",
     "output_type": "stream",
     "text": [
      "Iteration No: 251 ended. Search finished for the next optimal point.\n",
      "Time taken: 10.1250\n",
      "Function value obtained: -0.3962\n",
      "Current minimum: -0.4398\n",
      "Iteration No: 252 started. Searching for the next optimal point.\n",
      "[100, 10, 'sqrt', 4, 1, False]\n"
     ]
    },
    {
     "name": "stderr",
     "output_type": "stream",
     "text": [
      "/home/carcook/anaconda3/envs/TCGA-round1/lib/python3.8/site-packages/skopt/optimizer/optimizer.py:449: UserWarning: The objective has been evaluated at this point before.\n",
      "  warnings.warn(\"The objective has been evaluated \"\n"
     ]
    },
    {
     "name": "stdout",
     "output_type": "stream",
     "text": [
      "Iteration No: 252 ended. Search finished for the next optimal point.\n",
      "Time taken: 9.1494\n",
      "Function value obtained: -0.4105\n",
      "Current minimum: -0.4398\n",
      "Iteration No: 253 started. Searching for the next optimal point.\n",
      "[100, 10, 'sqrt', 4, 1, False]\n"
     ]
    },
    {
     "name": "stderr",
     "output_type": "stream",
     "text": [
      "/home/carcook/anaconda3/envs/TCGA-round1/lib/python3.8/site-packages/skopt/optimizer/optimizer.py:449: UserWarning: The objective has been evaluated at this point before.\n",
      "  warnings.warn(\"The objective has been evaluated \"\n"
     ]
    },
    {
     "name": "stdout",
     "output_type": "stream",
     "text": [
      "Iteration No: 253 ended. Search finished for the next optimal point.\n",
      "Time taken: 9.7066\n",
      "Function value obtained: -0.3972\n",
      "Current minimum: -0.4398\n",
      "Iteration No: 254 started. Searching for the next optimal point.\n",
      "[100, 10, 'sqrt', 2, 1, False]\n"
     ]
    },
    {
     "name": "stderr",
     "output_type": "stream",
     "text": [
      "/home/carcook/anaconda3/envs/TCGA-round1/lib/python3.8/site-packages/skopt/optimizer/optimizer.py:449: UserWarning: The objective has been evaluated at this point before.\n",
      "  warnings.warn(\"The objective has been evaluated \"\n"
     ]
    },
    {
     "name": "stdout",
     "output_type": "stream",
     "text": [
      "Iteration No: 254 ended. Search finished for the next optimal point.\n",
      "Time taken: 11.8979\n",
      "Function value obtained: -0.4059\n",
      "Current minimum: -0.4398\n",
      "Iteration No: 255 started. Searching for the next optimal point.\n",
      "[100, 10, 'sqrt', 2, 1, False]\n"
     ]
    },
    {
     "name": "stderr",
     "output_type": "stream",
     "text": [
      "/home/carcook/anaconda3/envs/TCGA-round1/lib/python3.8/site-packages/skopt/optimizer/optimizer.py:449: UserWarning: The objective has been evaluated at this point before.\n",
      "  warnings.warn(\"The objective has been evaluated \"\n"
     ]
    },
    {
     "name": "stdout",
     "output_type": "stream",
     "text": [
      "Iteration No: 255 ended. Search finished for the next optimal point.\n",
      "Time taken: 14.2375\n",
      "Function value obtained: -0.3956\n",
      "Current minimum: -0.4398\n",
      "Iteration No: 256 started. Searching for the next optimal point.\n",
      "[100, 10, 'sqrt', 2, 1, False]\n"
     ]
    },
    {
     "name": "stderr",
     "output_type": "stream",
     "text": [
      "/home/carcook/anaconda3/envs/TCGA-round1/lib/python3.8/site-packages/skopt/optimizer/optimizer.py:449: UserWarning: The objective has been evaluated at this point before.\n",
      "  warnings.warn(\"The objective has been evaluated \"\n"
     ]
    },
    {
     "name": "stdout",
     "output_type": "stream",
     "text": [
      "Iteration No: 256 ended. Search finished for the next optimal point.\n",
      "Time taken: 12.8661\n",
      "Function value obtained: -0.3990\n",
      "Current minimum: -0.4398\n",
      "Iteration No: 257 started. Searching for the next optimal point.\n",
      "[100, 65, 'sqrt', 4, 1, False]\n",
      "Iteration No: 257 ended. Search finished for the next optimal point.\n",
      "Time taken: 12.2399\n",
      "Function value obtained: -0.3869\n",
      "Current minimum: -0.4398\n",
      "Iteration No: 258 started. Searching for the next optimal point.\n",
      "[100, 10, 'sqrt', 4, 1, False]\n"
     ]
    },
    {
     "name": "stderr",
     "output_type": "stream",
     "text": [
      "/home/carcook/anaconda3/envs/TCGA-round1/lib/python3.8/site-packages/skopt/optimizer/optimizer.py:449: UserWarning: The objective has been evaluated at this point before.\n",
      "  warnings.warn(\"The objective has been evaluated \"\n"
     ]
    },
    {
     "name": "stdout",
     "output_type": "stream",
     "text": [
      "Iteration No: 258 ended. Search finished for the next optimal point.\n",
      "Time taken: 11.2477\n",
      "Function value obtained: -0.4045\n",
      "Current minimum: -0.4398\n",
      "Iteration No: 259 started. Searching for the next optimal point.\n",
      "[100, 10, 'sqrt', 2, 1, False]\n"
     ]
    },
    {
     "name": "stderr",
     "output_type": "stream",
     "text": [
      "/home/carcook/anaconda3/envs/TCGA-round1/lib/python3.8/site-packages/skopt/optimizer/optimizer.py:449: UserWarning: The objective has been evaluated at this point before.\n",
      "  warnings.warn(\"The objective has been evaluated \"\n"
     ]
    },
    {
     "name": "stdout",
     "output_type": "stream",
     "text": [
      "Iteration No: 259 ended. Search finished for the next optimal point.\n",
      "Time taken: 10.5444\n",
      "Function value obtained: -0.4068\n",
      "Current minimum: -0.4398\n",
      "Iteration No: 260 started. Searching for the next optimal point.\n",
      "[999, 77, 'sqrt', 3, 3, False]\n",
      "Iteration No: 260 ended. Search finished for the next optimal point.\n",
      "Time taken: 14.4637\n",
      "Function value obtained: -0.3871\n",
      "Current minimum: -0.4398\n",
      "Iteration No: 261 started. Searching for the next optimal point.\n",
      "[100, 10, 'sqrt', 3, 1, False]\n"
     ]
    },
    {
     "name": "stderr",
     "output_type": "stream",
     "text": [
      "/home/carcook/anaconda3/envs/TCGA-round1/lib/python3.8/site-packages/skopt/optimizer/optimizer.py:449: UserWarning: The objective has been evaluated at this point before.\n",
      "  warnings.warn(\"The objective has been evaluated \"\n"
     ]
    },
    {
     "name": "stdout",
     "output_type": "stream",
     "text": [
      "Iteration No: 261 ended. Search finished for the next optimal point.\n",
      "Time taken: 11.1809\n",
      "Function value obtained: -0.3926\n",
      "Current minimum: -0.4398\n",
      "Iteration No: 262 started. Searching for the next optimal point.\n",
      "[101, 83, 'auto', 3, 3, True]\n",
      "Iteration No: 262 ended. Search finished for the next optimal point.\n",
      "Time taken: 10.5230\n",
      "Function value obtained: -0.3818\n",
      "Current minimum: -0.4398\n",
      "Iteration No: 263 started. Searching for the next optimal point.\n",
      "[100, 10, 'sqrt', 2, 1, False]\n"
     ]
    },
    {
     "name": "stderr",
     "output_type": "stream",
     "text": [
      "/home/carcook/anaconda3/envs/TCGA-round1/lib/python3.8/site-packages/skopt/optimizer/optimizer.py:449: UserWarning: The objective has been evaluated at this point before.\n",
      "  warnings.warn(\"The objective has been evaluated \"\n"
     ]
    },
    {
     "name": "stdout",
     "output_type": "stream",
     "text": [
      "Iteration No: 263 ended. Search finished for the next optimal point.\n",
      "Time taken: 11.1308\n",
      "Function value obtained: -0.4187\n",
      "Current minimum: -0.4398\n",
      "Iteration No: 264 started. Searching for the next optimal point.\n",
      "[100, 10, 'sqrt', 2, 1, False]\n"
     ]
    },
    {
     "name": "stderr",
     "output_type": "stream",
     "text": [
      "/home/carcook/anaconda3/envs/TCGA-round1/lib/python3.8/site-packages/skopt/optimizer/optimizer.py:449: UserWarning: The objective has been evaluated at this point before.\n",
      "  warnings.warn(\"The objective has been evaluated \"\n"
     ]
    },
    {
     "name": "stdout",
     "output_type": "stream",
     "text": [
      "Iteration No: 264 ended. Search finished for the next optimal point.\n",
      "Time taken: 10.0388\n",
      "Function value obtained: -0.4013\n",
      "Current minimum: -0.4398\n",
      "Iteration No: 265 started. Searching for the next optimal point.\n",
      "[100, 10, 'sqrt', 2, 1, False]\n"
     ]
    },
    {
     "name": "stderr",
     "output_type": "stream",
     "text": [
      "/home/carcook/anaconda3/envs/TCGA-round1/lib/python3.8/site-packages/skopt/optimizer/optimizer.py:449: UserWarning: The objective has been evaluated at this point before.\n",
      "  warnings.warn(\"The objective has been evaluated \"\n"
     ]
    },
    {
     "name": "stdout",
     "output_type": "stream",
     "text": [
      "Iteration No: 265 ended. Search finished for the next optimal point.\n",
      "Time taken: 9.1981\n",
      "Function value obtained: -0.3940\n",
      "Current minimum: -0.4398\n",
      "Iteration No: 266 started. Searching for the next optimal point.\n",
      "[100, 10, 'sqrt', 2, 1, False]\n"
     ]
    },
    {
     "name": "stderr",
     "output_type": "stream",
     "text": [
      "/home/carcook/anaconda3/envs/TCGA-round1/lib/python3.8/site-packages/skopt/optimizer/optimizer.py:449: UserWarning: The objective has been evaluated at this point before.\n",
      "  warnings.warn(\"The objective has been evaluated \"\n"
     ]
    },
    {
     "name": "stdout",
     "output_type": "stream",
     "text": [
      "Iteration No: 266 ended. Search finished for the next optimal point.\n",
      "Time taken: 10.0956\n",
      "Function value obtained: -0.3803\n",
      "Current minimum: -0.4398\n",
      "Iteration No: 267 started. Searching for the next optimal point.\n",
      "[992, 56, 'auto', 4, 1, False]\n",
      "Iteration No: 267 ended. Search finished for the next optimal point.\n",
      "Time taken: 14.7200\n",
      "Function value obtained: -0.3908\n",
      "Current minimum: -0.4398\n",
      "Iteration No: 268 started. Searching for the next optimal point.\n",
      "[100, 100, 'sqrt', 3, 1, False]\n"
     ]
    },
    {
     "name": "stderr",
     "output_type": "stream",
     "text": [
      "/home/carcook/anaconda3/envs/TCGA-round1/lib/python3.8/site-packages/skopt/optimizer/optimizer.py:449: UserWarning: The objective has been evaluated at this point before.\n",
      "  warnings.warn(\"The objective has been evaluated \"\n"
     ]
    },
    {
     "name": "stdout",
     "output_type": "stream",
     "text": [
      "Iteration No: 268 ended. Search finished for the next optimal point.\n",
      "Time taken: 10.4150\n",
      "Function value obtained: -0.4203\n",
      "Current minimum: -0.4398\n",
      "Iteration No: 269 started. Searching for the next optimal point.\n",
      "[100, 100, 'sqrt', 2, 1, False]\n"
     ]
    },
    {
     "name": "stderr",
     "output_type": "stream",
     "text": [
      "/home/carcook/anaconda3/envs/TCGA-round1/lib/python3.8/site-packages/skopt/optimizer/optimizer.py:449: UserWarning: The objective has been evaluated at this point before.\n",
      "  warnings.warn(\"The objective has been evaluated \"\n"
     ]
    },
    {
     "name": "stdout",
     "output_type": "stream",
     "text": [
      "Iteration No: 269 ended. Search finished for the next optimal point.\n",
      "Time taken: 10.3815\n",
      "Function value obtained: -0.4048\n",
      "Current minimum: -0.4398\n",
      "Iteration No: 270 started. Searching for the next optimal point.\n",
      "[100, 10, 'sqrt', 4, 1, False]\n"
     ]
    },
    {
     "name": "stderr",
     "output_type": "stream",
     "text": [
      "/home/carcook/anaconda3/envs/TCGA-round1/lib/python3.8/site-packages/skopt/optimizer/optimizer.py:449: UserWarning: The objective has been evaluated at this point before.\n",
      "  warnings.warn(\"The objective has been evaluated \"\n"
     ]
    },
    {
     "name": "stdout",
     "output_type": "stream",
     "text": [
      "Iteration No: 270 ended. Search finished for the next optimal point.\n",
      "Time taken: 11.9063\n",
      "Function value obtained: -0.4050\n",
      "Current minimum: -0.4398\n",
      "Iteration No: 271 started. Searching for the next optimal point.\n",
      "[100, 100, 'sqrt', 4, 1, False]\n"
     ]
    },
    {
     "name": "stderr",
     "output_type": "stream",
     "text": [
      "/home/carcook/anaconda3/envs/TCGA-round1/lib/python3.8/site-packages/skopt/optimizer/optimizer.py:449: UserWarning: The objective has been evaluated at this point before.\n",
      "  warnings.warn(\"The objective has been evaluated \"\n"
     ]
    },
    {
     "name": "stdout",
     "output_type": "stream",
     "text": [
      "Iteration No: 271 ended. Search finished for the next optimal point.\n",
      "Time taken: 11.0543\n",
      "Function value obtained: -0.4040\n",
      "Current minimum: -0.4398\n",
      "Iteration No: 272 started. Searching for the next optimal point.\n",
      "[998, 71, 'sqrt', 2, 1, False]\n",
      "Iteration No: 272 ended. Search finished for the next optimal point.\n",
      "Time taken: 17.1673\n",
      "Function value obtained: -0.3942\n",
      "Current minimum: -0.4398\n",
      "Iteration No: 273 started. Searching for the next optimal point.\n",
      "[100, 100, 'sqrt', 4, 1, False]\n"
     ]
    },
    {
     "name": "stderr",
     "output_type": "stream",
     "text": [
      "/home/carcook/anaconda3/envs/TCGA-round1/lib/python3.8/site-packages/skopt/optimizer/optimizer.py:449: UserWarning: The objective has been evaluated at this point before.\n",
      "  warnings.warn(\"The objective has been evaluated \"\n"
     ]
    },
    {
     "name": "stdout",
     "output_type": "stream",
     "text": [
      "Iteration No: 273 ended. Search finished for the next optimal point.\n",
      "Time taken: 12.9835\n",
      "Function value obtained: -0.3972\n",
      "Current minimum: -0.4398\n",
      "Iteration No: 274 started. Searching for the next optimal point.\n",
      "[100, 100, 'sqrt', 3, 1, False]\n"
     ]
    },
    {
     "name": "stderr",
     "output_type": "stream",
     "text": [
      "/home/carcook/anaconda3/envs/TCGA-round1/lib/python3.8/site-packages/skopt/optimizer/optimizer.py:449: UserWarning: The objective has been evaluated at this point before.\n",
      "  warnings.warn(\"The objective has been evaluated \"\n"
     ]
    },
    {
     "name": "stdout",
     "output_type": "stream",
     "text": [
      "Iteration No: 274 ended. Search finished for the next optimal point.\n",
      "Time taken: 14.0377\n",
      "Function value obtained: -0.4230\n",
      "Current minimum: -0.4398\n",
      "Iteration No: 275 started. Searching for the next optimal point.\n",
      "[100, 100, 'sqrt', 2, 1, False]\n"
     ]
    },
    {
     "name": "stderr",
     "output_type": "stream",
     "text": [
      "/home/carcook/anaconda3/envs/TCGA-round1/lib/python3.8/site-packages/skopt/optimizer/optimizer.py:449: UserWarning: The objective has been evaluated at this point before.\n",
      "  warnings.warn(\"The objective has been evaluated \"\n"
     ]
    },
    {
     "name": "stdout",
     "output_type": "stream",
     "text": [
      "Iteration No: 275 ended. Search finished for the next optimal point.\n",
      "Time taken: 11.6523\n",
      "Function value obtained: -0.3983\n",
      "Current minimum: -0.4398\n",
      "Iteration No: 276 started. Searching for the next optimal point.\n",
      "[100, 100, 'sqrt', 4, 1, False]\n"
     ]
    },
    {
     "name": "stderr",
     "output_type": "stream",
     "text": [
      "/home/carcook/anaconda3/envs/TCGA-round1/lib/python3.8/site-packages/skopt/optimizer/optimizer.py:449: UserWarning: The objective has been evaluated at this point before.\n",
      "  warnings.warn(\"The objective has been evaluated \"\n"
     ]
    },
    {
     "name": "stdout",
     "output_type": "stream",
     "text": [
      "Iteration No: 276 ended. Search finished for the next optimal point.\n",
      "Time taken: 12.1956\n",
      "Function value obtained: -0.3905\n",
      "Current minimum: -0.4398\n",
      "Iteration No: 277 started. Searching for the next optimal point.\n",
      "[100, 100, 'sqrt', 2, 1, False]\n"
     ]
    },
    {
     "name": "stderr",
     "output_type": "stream",
     "text": [
      "/home/carcook/anaconda3/envs/TCGA-round1/lib/python3.8/site-packages/skopt/optimizer/optimizer.py:449: UserWarning: The objective has been evaluated at this point before.\n",
      "  warnings.warn(\"The objective has been evaluated \"\n"
     ]
    },
    {
     "name": "stdout",
     "output_type": "stream",
     "text": [
      "Iteration No: 277 ended. Search finished for the next optimal point.\n",
      "Time taken: 11.5476\n",
      "Function value obtained: -0.3898\n",
      "Current minimum: -0.4398\n",
      "Iteration No: 278 started. Searching for the next optimal point.\n",
      "[100, 100, 'sqrt', 3, 1, False]\n"
     ]
    },
    {
     "name": "stderr",
     "output_type": "stream",
     "text": [
      "/home/carcook/anaconda3/envs/TCGA-round1/lib/python3.8/site-packages/skopt/optimizer/optimizer.py:449: UserWarning: The objective has been evaluated at this point before.\n",
      "  warnings.warn(\"The objective has been evaluated \"\n"
     ]
    },
    {
     "name": "stdout",
     "output_type": "stream",
     "text": [
      "Iteration No: 278 ended. Search finished for the next optimal point.\n",
      "Time taken: 11.6603\n",
      "Function value obtained: -0.3976\n",
      "Current minimum: -0.4398\n",
      "Iteration No: 279 started. Searching for the next optimal point.\n",
      "[100, 10, 'sqrt', 4, 1, False]\n"
     ]
    },
    {
     "name": "stderr",
     "output_type": "stream",
     "text": [
      "/home/carcook/anaconda3/envs/TCGA-round1/lib/python3.8/site-packages/skopt/optimizer/optimizer.py:449: UserWarning: The objective has been evaluated at this point before.\n",
      "  warnings.warn(\"The objective has been evaluated \"\n"
     ]
    },
    {
     "name": "stdout",
     "output_type": "stream",
     "text": [
      "Iteration No: 279 ended. Search finished for the next optimal point.\n",
      "Time taken: 11.7296\n",
      "Function value obtained: -0.4037\n",
      "Current minimum: -0.4398\n",
      "Iteration No: 280 started. Searching for the next optimal point.\n",
      "[100, 100, 'sqrt', 4, 1, False]\n"
     ]
    },
    {
     "name": "stderr",
     "output_type": "stream",
     "text": [
      "/home/carcook/anaconda3/envs/TCGA-round1/lib/python3.8/site-packages/skopt/optimizer/optimizer.py:449: UserWarning: The objective has been evaluated at this point before.\n",
      "  warnings.warn(\"The objective has been evaluated \"\n"
     ]
    },
    {
     "name": "stdout",
     "output_type": "stream",
     "text": [
      "Iteration No: 280 ended. Search finished for the next optimal point.\n",
      "Time taken: 11.5993\n",
      "Function value obtained: -0.4206\n",
      "Current minimum: -0.4398\n",
      "Iteration No: 281 started. Searching for the next optimal point.\n",
      "[100, 100, 'sqrt', 2, 1, False]\n"
     ]
    },
    {
     "name": "stderr",
     "output_type": "stream",
     "text": [
      "/home/carcook/anaconda3/envs/TCGA-round1/lib/python3.8/site-packages/skopt/optimizer/optimizer.py:449: UserWarning: The objective has been evaluated at this point before.\n",
      "  warnings.warn(\"The objective has been evaluated \"\n"
     ]
    },
    {
     "name": "stdout",
     "output_type": "stream",
     "text": [
      "Iteration No: 281 ended. Search finished for the next optimal point.\n",
      "Time taken: 11.2795\n",
      "Function value obtained: -0.4265\n",
      "Current minimum: -0.4398\n",
      "Iteration No: 282 started. Searching for the next optimal point.\n",
      "[100, 100, 'sqrt', 2, 1, False]\n"
     ]
    },
    {
     "name": "stderr",
     "output_type": "stream",
     "text": [
      "/home/carcook/anaconda3/envs/TCGA-round1/lib/python3.8/site-packages/skopt/optimizer/optimizer.py:449: UserWarning: The objective has been evaluated at this point before.\n",
      "  warnings.warn(\"The objective has been evaluated \"\n"
     ]
    },
    {
     "name": "stdout",
     "output_type": "stream",
     "text": [
      "Iteration No: 282 ended. Search finished for the next optimal point.\n",
      "Time taken: 11.1812\n",
      "Function value obtained: -0.4120\n",
      "Current minimum: -0.4398\n",
      "Iteration No: 283 started. Searching for the next optimal point.\n",
      "[100, 100, 'sqrt', 2, 1, False]\n"
     ]
    },
    {
     "name": "stderr",
     "output_type": "stream",
     "text": [
      "/home/carcook/anaconda3/envs/TCGA-round1/lib/python3.8/site-packages/skopt/optimizer/optimizer.py:449: UserWarning: The objective has been evaluated at this point before.\n",
      "  warnings.warn(\"The objective has been evaluated \"\n"
     ]
    },
    {
     "name": "stdout",
     "output_type": "stream",
     "text": [
      "Iteration No: 283 ended. Search finished for the next optimal point.\n",
      "Time taken: 12.2032\n",
      "Function value obtained: -0.3699\n",
      "Current minimum: -0.4398\n",
      "Iteration No: 284 started. Searching for the next optimal point.\n",
      "[100, 100, 'sqrt', 4, 1, False]\n"
     ]
    },
    {
     "name": "stderr",
     "output_type": "stream",
     "text": [
      "/home/carcook/anaconda3/envs/TCGA-round1/lib/python3.8/site-packages/skopt/optimizer/optimizer.py:449: UserWarning: The objective has been evaluated at this point before.\n",
      "  warnings.warn(\"The objective has been evaluated \"\n"
     ]
    },
    {
     "name": "stdout",
     "output_type": "stream",
     "text": [
      "Iteration No: 284 ended. Search finished for the next optimal point.\n",
      "Time taken: 12.0970\n",
      "Function value obtained: -0.3923\n",
      "Current minimum: -0.4398\n",
      "Iteration No: 285 started. Searching for the next optimal point.\n",
      "[100, 100, 'sqrt', 4, 1, False]\n"
     ]
    },
    {
     "name": "stderr",
     "output_type": "stream",
     "text": [
      "/home/carcook/anaconda3/envs/TCGA-round1/lib/python3.8/site-packages/skopt/optimizer/optimizer.py:449: UserWarning: The objective has been evaluated at this point before.\n",
      "  warnings.warn(\"The objective has been evaluated \"\n"
     ]
    },
    {
     "name": "stdout",
     "output_type": "stream",
     "text": [
      "Iteration No: 285 ended. Search finished for the next optimal point.\n",
      "Time taken: 10.6865\n",
      "Function value obtained: -0.4236\n",
      "Current minimum: -0.4398\n",
      "Iteration No: 286 started. Searching for the next optimal point.\n",
      "[100, 100, 'sqrt', 4, 1, False]\n"
     ]
    },
    {
     "name": "stderr",
     "output_type": "stream",
     "text": [
      "/home/carcook/anaconda3/envs/TCGA-round1/lib/python3.8/site-packages/skopt/optimizer/optimizer.py:449: UserWarning: The objective has been evaluated at this point before.\n",
      "  warnings.warn(\"The objective has been evaluated \"\n"
     ]
    },
    {
     "name": "stdout",
     "output_type": "stream",
     "text": [
      "Iteration No: 286 ended. Search finished for the next optimal point.\n",
      "Time taken: 10.7651\n",
      "Function value obtained: -0.4219\n",
      "Current minimum: -0.4398\n",
      "Iteration No: 287 started. Searching for the next optimal point.\n",
      "[100, 100, 'sqrt', 4, 1, False]\n"
     ]
    },
    {
     "name": "stderr",
     "output_type": "stream",
     "text": [
      "/home/carcook/anaconda3/envs/TCGA-round1/lib/python3.8/site-packages/skopt/optimizer/optimizer.py:449: UserWarning: The objective has been evaluated at this point before.\n",
      "  warnings.warn(\"The objective has been evaluated \"\n"
     ]
    },
    {
     "name": "stdout",
     "output_type": "stream",
     "text": [
      "Iteration No: 287 ended. Search finished for the next optimal point.\n",
      "Time taken: 12.0273\n",
      "Function value obtained: -0.3765\n",
      "Current minimum: -0.4398\n",
      "Iteration No: 288 started. Searching for the next optimal point.\n",
      "[100, 100, 'sqrt', 2, 1, False]\n"
     ]
    },
    {
     "name": "stderr",
     "output_type": "stream",
     "text": [
      "/home/carcook/anaconda3/envs/TCGA-round1/lib/python3.8/site-packages/skopt/optimizer/optimizer.py:449: UserWarning: The objective has been evaluated at this point before.\n",
      "  warnings.warn(\"The objective has been evaluated \"\n"
     ]
    },
    {
     "name": "stdout",
     "output_type": "stream",
     "text": [
      "Iteration No: 288 ended. Search finished for the next optimal point.\n",
      "Time taken: 10.2999\n",
      "Function value obtained: -0.3938\n",
      "Current minimum: -0.4398\n",
      "Iteration No: 289 started. Searching for the next optimal point.\n",
      "[100, 100, 'sqrt', 4, 1, False]\n"
     ]
    },
    {
     "name": "stderr",
     "output_type": "stream",
     "text": [
      "/home/carcook/anaconda3/envs/TCGA-round1/lib/python3.8/site-packages/skopt/optimizer/optimizer.py:449: UserWarning: The objective has been evaluated at this point before.\n",
      "  warnings.warn(\"The objective has been evaluated \"\n"
     ]
    },
    {
     "name": "stdout",
     "output_type": "stream",
     "text": [
      "Iteration No: 289 ended. Search finished for the next optimal point.\n",
      "Time taken: 11.3269\n",
      "Function value obtained: -0.3920\n",
      "Current minimum: -0.4398\n",
      "Iteration No: 290 started. Searching for the next optimal point.\n",
      "[100, 10, 'sqrt', 4, 1, False]\n"
     ]
    },
    {
     "name": "stderr",
     "output_type": "stream",
     "text": [
      "/home/carcook/anaconda3/envs/TCGA-round1/lib/python3.8/site-packages/skopt/optimizer/optimizer.py:449: UserWarning: The objective has been evaluated at this point before.\n",
      "  warnings.warn(\"The objective has been evaluated \"\n"
     ]
    },
    {
     "name": "stdout",
     "output_type": "stream",
     "text": [
      "Iteration No: 290 ended. Search finished for the next optimal point.\n",
      "Time taken: 11.3746\n",
      "Function value obtained: -0.4050\n",
      "Current minimum: -0.4398\n",
      "Iteration No: 291 started. Searching for the next optimal point.\n",
      "[103, 55, 'sqrt', 2, 1, True]\n",
      "Iteration No: 291 ended. Search finished for the next optimal point.\n",
      "Time taken: 12.4536\n",
      "Function value obtained: -0.3913\n",
      "Current minimum: -0.4398\n",
      "Iteration No: 292 started. Searching for the next optimal point.\n",
      "[102, 15, 'log2', 2, 3, False]\n",
      "Iteration No: 292 ended. Search finished for the next optimal point.\n",
      "Time taken: 12.6820\n",
      "Function value obtained: -0.3888\n",
      "Current minimum: -0.4398\n",
      "Iteration No: 293 started. Searching for the next optimal point.\n",
      "[100, 10, 'sqrt', 4, 1, False]\n"
     ]
    },
    {
     "name": "stderr",
     "output_type": "stream",
     "text": [
      "/home/carcook/anaconda3/envs/TCGA-round1/lib/python3.8/site-packages/skopt/optimizer/optimizer.py:449: UserWarning: The objective has been evaluated at this point before.\n",
      "  warnings.warn(\"The objective has been evaluated \"\n"
     ]
    },
    {
     "name": "stdout",
     "output_type": "stream",
     "text": [
      "Iteration No: 293 ended. Search finished for the next optimal point.\n",
      "Time taken: 13.0881\n",
      "Function value obtained: -0.4139\n",
      "Current minimum: -0.4398\n",
      "Iteration No: 294 started. Searching for the next optimal point.\n",
      "[100, 10, 'sqrt', 4, 1, False]\n"
     ]
    },
    {
     "name": "stderr",
     "output_type": "stream",
     "text": [
      "/home/carcook/anaconda3/envs/TCGA-round1/lib/python3.8/site-packages/skopt/optimizer/optimizer.py:449: UserWarning: The objective has been evaluated at this point before.\n",
      "  warnings.warn(\"The objective has been evaluated \"\n"
     ]
    },
    {
     "name": "stdout",
     "output_type": "stream",
     "text": [
      "Iteration No: 294 ended. Search finished for the next optimal point.\n",
      "Time taken: 12.5306\n",
      "Function value obtained: -0.4038\n",
      "Current minimum: -0.4398\n",
      "Iteration No: 295 started. Searching for the next optimal point.\n",
      "[100, 100, 'sqrt', 4, 1, False]\n"
     ]
    },
    {
     "name": "stderr",
     "output_type": "stream",
     "text": [
      "/home/carcook/anaconda3/envs/TCGA-round1/lib/python3.8/site-packages/skopt/optimizer/optimizer.py:449: UserWarning: The objective has been evaluated at this point before.\n",
      "  warnings.warn(\"The objective has been evaluated \"\n"
     ]
    },
    {
     "name": "stdout",
     "output_type": "stream",
     "text": [
      "Iteration No: 295 ended. Search finished for the next optimal point.\n",
      "Time taken: 12.0063\n",
      "Function value obtained: -0.3687\n",
      "Current minimum: -0.4398\n",
      "Iteration No: 296 started. Searching for the next optimal point.\n",
      "[100, 100, 'sqrt', 4, 1, False]\n"
     ]
    },
    {
     "name": "stderr",
     "output_type": "stream",
     "text": [
      "/home/carcook/anaconda3/envs/TCGA-round1/lib/python3.8/site-packages/skopt/optimizer/optimizer.py:449: UserWarning: The objective has been evaluated at this point before.\n",
      "  warnings.warn(\"The objective has been evaluated \"\n"
     ]
    },
    {
     "name": "stdout",
     "output_type": "stream",
     "text": [
      "Iteration No: 296 ended. Search finished for the next optimal point.\n",
      "Time taken: 11.3526\n",
      "Function value obtained: -0.3995\n",
      "Current minimum: -0.4398\n",
      "Iteration No: 297 started. Searching for the next optimal point.\n",
      "[100, 10, 'sqrt', 2, 1, False]\n"
     ]
    },
    {
     "name": "stderr",
     "output_type": "stream",
     "text": [
      "/home/carcook/anaconda3/envs/TCGA-round1/lib/python3.8/site-packages/skopt/optimizer/optimizer.py:449: UserWarning: The objective has been evaluated at this point before.\n",
      "  warnings.warn(\"The objective has been evaluated \"\n"
     ]
    },
    {
     "name": "stdout",
     "output_type": "stream",
     "text": [
      "Iteration No: 297 ended. Search finished for the next optimal point.\n",
      "Time taken: 14.4250\n",
      "Function value obtained: -0.4228\n",
      "Current minimum: -0.4398\n",
      "Iteration No: 298 started. Searching for the next optimal point.\n",
      "[100, 10, 'sqrt', 2, 1, False]\n"
     ]
    },
    {
     "name": "stderr",
     "output_type": "stream",
     "text": [
      "/home/carcook/anaconda3/envs/TCGA-round1/lib/python3.8/site-packages/skopt/optimizer/optimizer.py:449: UserWarning: The objective has been evaluated at this point before.\n",
      "  warnings.warn(\"The objective has been evaluated \"\n"
     ]
    },
    {
     "name": "stdout",
     "output_type": "stream",
     "text": [
      "Iteration No: 298 ended. Search finished for the next optimal point.\n",
      "Time taken: 15.6457\n",
      "Function value obtained: -0.4168\n",
      "Current minimum: -0.4398\n",
      "Iteration No: 299 started. Searching for the next optimal point.\n",
      "[100, 10, 'sqrt', 2, 1, False]\n"
     ]
    },
    {
     "name": "stderr",
     "output_type": "stream",
     "text": [
      "/home/carcook/anaconda3/envs/TCGA-round1/lib/python3.8/site-packages/skopt/optimizer/optimizer.py:449: UserWarning: The objective has been evaluated at this point before.\n",
      "  warnings.warn(\"The objective has been evaluated \"\n"
     ]
    },
    {
     "name": "stdout",
     "output_type": "stream",
     "text": [
      "Iteration No: 299 ended. Search finished for the next optimal point.\n",
      "Time taken: 12.9125\n",
      "Function value obtained: -0.4054\n",
      "Current minimum: -0.4398\n",
      "Iteration No: 300 started. Searching for the next optimal point.\n",
      "[100, 10, 'sqrt', 2, 1, False]\n"
     ]
    },
    {
     "name": "stderr",
     "output_type": "stream",
     "text": [
      "/home/carcook/anaconda3/envs/TCGA-round1/lib/python3.8/site-packages/skopt/optimizer/optimizer.py:449: UserWarning: The objective has been evaluated at this point before.\n",
      "  warnings.warn(\"The objective has been evaluated \"\n"
     ]
    },
    {
     "name": "stdout",
     "output_type": "stream",
     "text": [
      "Iteration No: 300 ended. Search finished for the next optimal point.\n",
      "Time taken: 12.1789\n",
      "Function value obtained: -0.4023\n",
      "Current minimum: -0.4398\n"
     ]
    }
   ],
   "source": [
    "scoring_default = \"f1_weighted\"\n",
    "callback_file = f\"{unified_dsets[dset_idx]}_opt_rfc_h_params_{scoring_default}.tsv\"\n",
    "\n",
    "try:\n",
    "    os.remove(callback_file)\n",
    "except OSError:\n",
    "    pass\n",
    "\n",
    "\n",
    "res = gp_minimize(\n",
    "    lambda h_ps: objective(h_ps, x_df, y_df, scoring_default, rand),\n",
    "    space,\n",
    "    verbose=True,\n",
    "    random_state=rand,\n",
    "    n_initial_points=n_initial,\n",
    "    n_calls = n_calls,\n",
    "    n_jobs=-1,\n",
    "    callback=lambda x: opt.save_callback(x, callback_file, n = 5, sep=\"\\t\")\n",
    ")"
   ]
  },
  {
   "cell_type": "code",
   "execution_count": null,
   "metadata": {},
   "outputs": [],
   "source": []
  }
 ],
 "metadata": {
  "kernelspec": {
   "display_name": "Python 3",
   "language": "python",
   "name": "python3"
  },
  "language_info": {
   "codemirror_mode": {
    "name": "ipython",
    "version": 3
   },
   "file_extension": ".py",
   "mimetype": "text/x-python",
   "name": "python",
   "nbconvert_exporter": "python",
   "pygments_lexer": "ipython3",
   "version": "3.8.3"
  }
 },
 "nbformat": 4,
 "nbformat_minor": 4
}
