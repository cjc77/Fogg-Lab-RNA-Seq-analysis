{
 "cells": [
  {
   "cell_type": "code",
   "execution_count": 1,
   "metadata": {},
   "outputs": [
    {
     "name": "stderr",
     "output_type": "stream",
     "text": [
      "── Attaching packages ─────────────────────────────────────── tidyverse 1.3.0 ──\n",
      "✔ ggplot2 3.3.2     ✔ purrr   0.3.4\n",
      "✔ tibble  3.0.3     ✔ dplyr   1.0.0\n",
      "✔ tidyr   1.1.0     ✔ stringr 1.4.0\n",
      "✔ readr   1.3.1     ✔ forcats 0.5.0\n",
      "── Conflicts ────────────────────────────────────────── tidyverse_conflicts() ──\n",
      "✖ dplyr::filter() masks stats::filter()\n",
      "✖ dplyr::lag()    masks stats::lag()\n"
     ]
    }
   ],
   "source": [
    "library(tidyverse)\n",
    "\n",
    "# Custom package\n",
    "library(rutils)"
   ]
  },
  {
   "cell_type": "code",
   "execution_count": 2,
   "metadata": {},
   "outputs": [],
   "source": [
    "dirs <- rutils::get_dev_directories(dev_paths_file = \"../dev_paths.txt\")\n",
    "projects <- c(\"TCGA-CESC\", \"TCGA-UCS\", \"TCGA-UCEC\", \"TCGA-OV\")\n",
    "unified_dsets <- c(\"unified_cervical_data\", \"unified_uterine_data\", \"unified_uterine_endometrial_data\")\n",
    "matrisome_path <- paste0(dirs$data_dir, \"/matrisome/matrisome_hs_masterlist.tsv\")"
   ]
  },
  {
   "cell_type": "code",
   "execution_count": 3,
   "metadata": {},
   "outputs": [],
   "source": [
    "dset_idx <- 3"
   ]
  },
  {
   "cell_type": "markdown",
   "metadata": {},
   "source": [
    "# Load and filter survival data"
   ]
  },
  {
   "cell_type": "code",
   "execution_count": 4,
   "metadata": {},
   "outputs": [],
   "source": [
    "event_code <- list(\"Alive\" = 0, \"Dead\" = 1)\n",
    "covariate_cols_no_figo <- c(\"age_at_diagnosis\", \"race\", \"ethnicity\")\n",
    "covariate_cols <- c(\"figo_stage\", covariate_cols_no_figo)\n",
    "dep_cols <- c(\"vital_status\", \"survival_time\")"
   ]
  },
  {
   "cell_type": "code",
   "execution_count": 5,
   "metadata": {},
   "outputs": [
    {
     "name": "stderr",
     "output_type": "stream",
     "text": [
      "Parsed with column specification:\n",
      "cols(\n",
      "  sample_name = col_character(),\n",
      "  vital_status = col_character(),\n",
      "  survival_time = col_double(),\n",
      "  figo_stage = col_character(),\n",
      "  days_to_last_follow_up = col_double(),\n",
      "  days_to_death = col_double(),\n",
      "  age_at_diagnosis = col_double(),\n",
      "  age_at_index = col_double(),\n",
      "  height = col_double(),\n",
      "  weight = col_double(),\n",
      "  bmi = col_double(),\n",
      "  race = col_character(),\n",
      "  ethnicity = col_character()\n",
      ")\n"
     ]
    }
   ],
   "source": [
    "survival_path <- paste0(dirs$data_dir, \"/\", unified_dsets[dset_idx], \"/survival_data.tsv\")\n",
    "survival_df <- load_survival_df(survival_path, event_code)"
   ]
  },
  {
   "cell_type": "code",
   "execution_count": 6,
   "metadata": {},
   "outputs": [],
   "source": [
    "filtered_survival_df <- survival_df %>%\n",
    "    decode_figo_stage(to = \"c\") %>%\n",
    "    dplyr::select(sample_name, figo_stage, race, ethnicity, age_at_diagnosis) %>% # make sure using same samples as classification models\n",
    "    dplyr::filter(rowSums(is.na(.)) == 0) %>%\n",
    "    dplyr::select(sample_name, figo_stage)"
   ]
  },
  {
   "cell_type": "markdown",
   "metadata": {},
   "source": [
    "# Load normalized matrisome count data"
   ]
  },
  {
   "cell_type": "code",
   "execution_count": 7,
   "metadata": {},
   "outputs": [
    {
     "name": "stderr",
     "output_type": "stream",
     "text": [
      "Parsed with column specification:\n",
      "cols(\n",
      "  .default = col_double(),\n",
      "  geneID = col_character()\n",
      ")\n",
      "See spec(...) for full column specifications.\n"
     ]
    }
   ],
   "source": [
    "norm_matrisome_counts_path <- paste0(dirs$data_dir, \"/\", unified_dsets[dset_idx], \"/norm_matrisome_counts.tsv\")\n",
    "norm_survival_counts_t_df <- read_tsv(norm_matrisome_counts_path) %>%\n",
    "    dplyr::select(c(\"geneID\", filtered_survival_df$sample_name)) %>%\n",
    "    transpose_df(\"geneID\", \"sample_name\")"
   ]
  },
  {
   "cell_type": "code",
   "execution_count": 8,
   "metadata": {},
   "outputs": [],
   "source": [
    "joined_df <- filtered_survival_df %>%\n",
    "    inner_join(norm_survival_counts_t_df, by = \"sample_name\")"
   ]
  },
  {
   "cell_type": "code",
   "execution_count": 9,
   "metadata": {},
   "outputs": [
    {
     "name": "stderr",
     "output_type": "stream",
     "text": [
      "`summarise()` ungrouping output (override with `.groups` argument)\n"
     ]
    },
    {
     "data": {
      "text/html": [
       "<table>\n",
       "<caption>A tibble: 4 × 2</caption>\n",
       "<thead>\n",
       "\t<tr><th scope=col>figo_stage</th><th scope=col>n</th></tr>\n",
       "\t<tr><th scope=col>&lt;chr&gt;</th><th scope=col>&lt;int&gt;</th></tr>\n",
       "</thead>\n",
       "<tbody>\n",
       "\t<tr><td>figo_stage_1</td><td>73</td></tr>\n",
       "\t<tr><td>figo_stage_2</td><td>19</td></tr>\n",
       "\t<tr><td>figo_stage_3</td><td>38</td></tr>\n",
       "\t<tr><td>figo_stage_4</td><td> 7</td></tr>\n",
       "</tbody>\n",
       "</table>\n"
      ],
      "text/latex": [
       "A tibble: 4 × 2\n",
       "\\begin{tabular}{ll}\n",
       " figo\\_stage & n\\\\\n",
       " <chr> & <int>\\\\\n",
       "\\hline\n",
       "\t figo\\_stage\\_1 & 73\\\\\n",
       "\t figo\\_stage\\_2 & 19\\\\\n",
       "\t figo\\_stage\\_3 & 38\\\\\n",
       "\t figo\\_stage\\_4 &  7\\\\\n",
       "\\end{tabular}\n"
      ],
      "text/markdown": [
       "\n",
       "A tibble: 4 × 2\n",
       "\n",
       "| figo_stage &lt;chr&gt; | n &lt;int&gt; |\n",
       "|---|---|\n",
       "| figo_stage_1 | 73 |\n",
       "| figo_stage_2 | 19 |\n",
       "| figo_stage_3 | 38 |\n",
       "| figo_stage_4 |  7 |\n",
       "\n"
      ],
      "text/plain": [
       "  figo_stage   n \n",
       "1 figo_stage_1 73\n",
       "2 figo_stage_2 19\n",
       "3 figo_stage_3 38\n",
       "4 figo_stage_4  7"
      ]
     },
     "metadata": {},
     "output_type": "display_data"
    }
   ],
   "source": [
    "joined_df %>%\n",
    "    group_by(figo_stage) %>%\n",
    "    summarize(n = n())"
   ]
  },
  {
   "cell_type": "code",
   "execution_count": 10,
   "metadata": {},
   "outputs": [],
   "source": [
    "# Some genes contain the '-' symbol, which affects formulae\n",
    "colnames(joined_df) <- gsub(\"-\", \"_\", colnames(joined_df))"
   ]
  },
  {
   "cell_type": "code",
   "execution_count": 11,
   "metadata": {},
   "outputs": [],
   "source": [
    "gene_names <- colnames(joined_df[-c(1:2)])"
   ]
  },
  {
   "cell_type": "code",
   "execution_count": 17,
   "metadata": {},
   "outputs": [],
   "source": [
    "waov_df <- colwise_anova(joined_df, \"figo_stage\", gene_names, \"geneID\", adjust_method = \"BH\")"
   ]
  },
  {
   "cell_type": "code",
   "execution_count": 18,
   "metadata": {},
   "outputs": [],
   "source": [
    "# write_tsv(waov_df, paste0(dirs$analysis_dir, \"/\", unified_dsets[dset_idx], \"_welch_anova_results.tsv\"))"
   ]
  },
  {
   "cell_type": "code",
   "execution_count": 19,
   "metadata": {},
   "outputs": [
    {
     "data": {
      "text/html": [
       "<table>\n",
       "<caption>A tibble: 13 × 3</caption>\n",
       "<thead>\n",
       "\t<tr><th scope=col>geneID</th><th scope=col>pval</th><th scope=col>padj</th></tr>\n",
       "\t<tr><th scope=col>&lt;chr&gt;</th><th scope=col>&lt;dbl&gt;</th><th scope=col>&lt;dbl&gt;</th></tr>\n",
       "</thead>\n",
       "<tbody>\n",
       "\t<tr><td>MUC3A    </td><td>5.083115e-04</td><td>4.498752e-02</td></tr>\n",
       "\t<tr><td>IL7      </td><td>2.304654e-05</td><td>1.106965e-02</td></tr>\n",
       "\t<tr><td>SERPINA3 </td><td>5.864586e-04</td><td>4.498752e-02</td></tr>\n",
       "\t<tr><td>TGM3     </td><td>6.041712e-04</td><td>4.498752e-02</td></tr>\n",
       "\t<tr><td>FGF14    </td><td>5.232242e-04</td><td>4.498752e-02</td></tr>\n",
       "\t<tr><td>LGI2     </td><td>3.430677e-05</td><td>1.106965e-02</td></tr>\n",
       "\t<tr><td>GDF7     </td><td>1.368575e-04</td><td>2.650798e-02</td></tr>\n",
       "\t<tr><td>IHH      </td><td>1.516764e-08</td><td>1.468228e-05</td></tr>\n",
       "\t<tr><td>MEGF9    </td><td>4.229478e-04</td><td>4.498752e-02</td></tr>\n",
       "\t<tr><td>PCOLCE2  </td><td>2.976123e-04</td><td>3.807040e-02</td></tr>\n",
       "\t<tr><td>HHIP     </td><td>3.146314e-04</td><td>3.807040e-02</td></tr>\n",
       "\t<tr><td>SERPINA11</td><td>2.430913e-04</td><td>3.807040e-02</td></tr>\n",
       "\t<tr><td>PLG      </td><td>1.369214e-04</td><td>2.650798e-02</td></tr>\n",
       "</tbody>\n",
       "</table>\n"
      ],
      "text/latex": [
       "A tibble: 13 × 3\n",
       "\\begin{tabular}{lll}\n",
       " geneID & pval & padj\\\\\n",
       " <chr> & <dbl> & <dbl>\\\\\n",
       "\\hline\n",
       "\t MUC3A     & 5.083115e-04 & 4.498752e-02\\\\\n",
       "\t IL7       & 2.304654e-05 & 1.106965e-02\\\\\n",
       "\t SERPINA3  & 5.864586e-04 & 4.498752e-02\\\\\n",
       "\t TGM3      & 6.041712e-04 & 4.498752e-02\\\\\n",
       "\t FGF14     & 5.232242e-04 & 4.498752e-02\\\\\n",
       "\t LGI2      & 3.430677e-05 & 1.106965e-02\\\\\n",
       "\t GDF7      & 1.368575e-04 & 2.650798e-02\\\\\n",
       "\t IHH       & 1.516764e-08 & 1.468228e-05\\\\\n",
       "\t MEGF9     & 4.229478e-04 & 4.498752e-02\\\\\n",
       "\t PCOLCE2   & 2.976123e-04 & 3.807040e-02\\\\\n",
       "\t HHIP      & 3.146314e-04 & 3.807040e-02\\\\\n",
       "\t SERPINA11 & 2.430913e-04 & 3.807040e-02\\\\\n",
       "\t PLG       & 1.369214e-04 & 2.650798e-02\\\\\n",
       "\\end{tabular}\n"
      ],
      "text/markdown": [
       "\n",
       "A tibble: 13 × 3\n",
       "\n",
       "| geneID &lt;chr&gt; | pval &lt;dbl&gt; | padj &lt;dbl&gt; |\n",
       "|---|---|---|\n",
       "| MUC3A     | 5.083115e-04 | 4.498752e-02 |\n",
       "| IL7       | 2.304654e-05 | 1.106965e-02 |\n",
       "| SERPINA3  | 5.864586e-04 | 4.498752e-02 |\n",
       "| TGM3      | 6.041712e-04 | 4.498752e-02 |\n",
       "| FGF14     | 5.232242e-04 | 4.498752e-02 |\n",
       "| LGI2      | 3.430677e-05 | 1.106965e-02 |\n",
       "| GDF7      | 1.368575e-04 | 2.650798e-02 |\n",
       "| IHH       | 1.516764e-08 | 1.468228e-05 |\n",
       "| MEGF9     | 4.229478e-04 | 4.498752e-02 |\n",
       "| PCOLCE2   | 2.976123e-04 | 3.807040e-02 |\n",
       "| HHIP      | 3.146314e-04 | 3.807040e-02 |\n",
       "| SERPINA11 | 2.430913e-04 | 3.807040e-02 |\n",
       "| PLG       | 1.369214e-04 | 2.650798e-02 |\n",
       "\n"
      ],
      "text/plain": [
       "   geneID    pval         padj        \n",
       "1  MUC3A     5.083115e-04 4.498752e-02\n",
       "2  IL7       2.304654e-05 1.106965e-02\n",
       "3  SERPINA3  5.864586e-04 4.498752e-02\n",
       "4  TGM3      6.041712e-04 4.498752e-02\n",
       "5  FGF14     5.232242e-04 4.498752e-02\n",
       "6  LGI2      3.430677e-05 1.106965e-02\n",
       "7  GDF7      1.368575e-04 2.650798e-02\n",
       "8  IHH       1.516764e-08 1.468228e-05\n",
       "9  MEGF9     4.229478e-04 4.498752e-02\n",
       "10 PCOLCE2   2.976123e-04 3.807040e-02\n",
       "11 HHIP      3.146314e-04 3.807040e-02\n",
       "12 SERPINA11 2.430913e-04 3.807040e-02\n",
       "13 PLG       1.369214e-04 2.650798e-02"
      ]
     },
     "metadata": {},
     "output_type": "display_data"
    }
   ],
   "source": [
    "waov_df %>%\n",
    "    dplyr::filter(padj < 0.05)"
   ]
  },
  {
   "cell_type": "code",
   "execution_count": 22,
   "metadata": {},
   "outputs": [
    {
     "data": {
      "text/html": [
       "'INS_IGF2'"
      ],
      "text/latex": [
       "'INS\\_IGF2'"
      ],
      "text/markdown": [
       "'INS_IGF2'"
      ],
      "text/plain": [
       "[1] \"INS_IGF2\""
      ]
     },
     "metadata": {},
     "output_type": "display_data"
    },
    {
     "data": {
      "text/html": [],
      "text/latex": [],
      "text/markdown": [],
      "text/plain": [
       "character(0)"
      ]
     },
     "metadata": {},
     "output_type": "display_data"
    }
   ],
   "source": [
    "waov_df$geneID[str_detect(waov_df$geneID, \"_\")]\n",
    "waov_df$geneID <- gsub(\"_\", \"-\", waov_df$geneID)\n",
    "waov_df$geneID[str_detect(waov_df$geneID, \"_\")]"
   ]
  },
  {
   "cell_type": "code",
   "execution_count": null,
   "metadata": {},
   "outputs": [],
   "source": []
  }
 ],
 "metadata": {
  "kernelspec": {
   "display_name": "R",
   "language": "R",
   "name": "ir"
  },
  "language_info": {
   "codemirror_mode": "r",
   "file_extension": ".r",
   "mimetype": "text/x-r-source",
   "name": "R",
   "pygments_lexer": "r",
   "version": "3.6.3"
  }
 },
 "nbformat": 4,
 "nbformat_minor": 4
}
