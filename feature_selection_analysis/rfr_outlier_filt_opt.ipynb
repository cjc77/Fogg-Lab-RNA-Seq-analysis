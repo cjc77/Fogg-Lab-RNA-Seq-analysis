{
 "cells": [
  {
   "cell_type": "code",
   "execution_count": 1,
   "metadata": {},
   "outputs": [],
   "source": [
    "import pandas as pd\n",
    "import numpy as np\n",
    "import os\n",
    "from sklearn.ensemble import RandomForestRegressor\n",
    "from sklearn.pipeline import make_pipeline, Pipeline\n",
    "from sklearn.preprocessing import StandardScaler\n",
    "from sklearn.model_selection import cross_val_score, KFold\n",
    "from sklearn.compose import ColumnTransformer, TransformedTargetRegressor\n",
    "from sklearn.metrics import mean_squared_error, mean_absolute_error, r2_score, explained_variance_score\n",
    "from skopt.space import Real, Integer, Categorical\n",
    "from skopt import gp_minimize\n",
    "\n",
    "import utils.dev_config as dev_conf\n",
    "import utils.preprocessing as prep\n",
    "import utils.optimization as opt"
   ]
  },
  {
   "cell_type": "code",
   "execution_count": 2,
   "metadata": {},
   "outputs": [],
   "source": [
    "dirs = dev_conf.get_dev_directories(\"../dev_paths.txt\")\n",
    "unified_dsets = [\"unified_cervical_data\", \"unified_uterine_data\", \"unified_uterine_endometrial_data\"]\n",
    "matrisome_list = f\"{dirs.data_dir}/matrisome/matrisome_hs_masterlist.tsv\""
   ]
  },
  {
   "cell_type": "code",
   "execution_count": 3,
   "metadata": {},
   "outputs": [],
   "source": [
    "dset_idx = 0"
   ]
  },
  {
   "cell_type": "code",
   "execution_count": 4,
   "metadata": {},
   "outputs": [],
   "source": [
    "seed = 123\n",
    "rand = np.random.RandomState()"
   ]
  },
  {
   "cell_type": "markdown",
   "metadata": {},
   "source": [
    "# Load and filter survival data"
   ]
  },
  {
   "cell_type": "code",
   "execution_count": 5,
   "metadata": {},
   "outputs": [],
   "source": [
    "event_code = {\"Alive\": 0, \"Dead\": 1}\n",
    "covariate_cols = [\"figo_stage\", \"age_at_diagnosis\", \"race\", \"ethnicity\"]\n",
    "dep_cols = [\"vital_status\", \"survival_time\"]\n",
    "cat_cols = [\"race\", \"ethnicity\", \"figo_chr\"]\n",
    "survival_df = prep.load_survival_df(f\"{dirs.data_dir}/{unified_dsets[dset_idx]}/survival_data.tsv\", event_code)"
   ]
  },
  {
   "cell_type": "code",
   "execution_count": 6,
   "metadata": {},
   "outputs": [
    {
     "name": "stdout",
     "output_type": "stream",
     "text": [
      "(66, 16)\n"
     ]
    }
   ],
   "source": [
    "filtered_survival_df = (\n",
    "    prep.decode_figo_stage(survival_df[[\"sample_name\"] + dep_cols + covariate_cols].dropna(), to=\"c\")\n",
    "        .query(\"vital_status == 1\")\n",
    "        .drop([\"vital_status\"], axis=1)\n",
    "        .pipe(pd.get_dummies, columns=cat_cols)\n",
    "        .reset_index(drop = True)\n",
    ")\n",
    "filtered_survival_df.columns = filtered_survival_df.columns.str.replace(' ', '_')\n",
    "\n",
    "print(filtered_survival_df.shape)"
   ]
  },
  {
   "cell_type": "markdown",
   "metadata": {},
   "source": [
    "# Load normalized matrisome count data"
   ]
  },
  {
   "cell_type": "code",
   "execution_count": 7,
   "metadata": {},
   "outputs": [
    {
     "name": "stdout",
     "output_type": "stream",
     "text": [
      "(66, 1009)\n"
     ]
    }
   ],
   "source": [
    "norm_matrisome_counts_df = pd.read_csv(f\"{dirs.data_dir}/{unified_dsets[dset_idx]}/norm_matrisome_counts.tsv\", sep='\\t')\n",
    "norm_filtered_matrisome_counts_t_df = prep.transpose_df(\n",
    "    norm_matrisome_counts_df[[\"geneID\"] + list(filtered_survival_df.sample_name)], \"geneID\", \"sample_name\"\n",
    ")\n",
    "print(norm_filtered_matrisome_counts_t_df.shape)"
   ]
  },
  {
   "cell_type": "markdown",
   "metadata": {},
   "source": [
    "# Join survival and count data"
   ]
  },
  {
   "cell_type": "code",
   "execution_count": 8,
   "metadata": {},
   "outputs": [
    {
     "name": "stdout",
     "output_type": "stream",
     "text": [
      "(66, 1023)\n"
     ]
    }
   ],
   "source": [
    "joined_df = (\n",
    "    pd.merge(filtered_survival_df, norm_filtered_matrisome_counts_t_df, on=\"sample_name\")\n",
    "        .set_index(\"sample_name\")\n",
    ")\n",
    "print(joined_df.shape)"
   ]
  },
  {
   "cell_type": "code",
   "execution_count": 9,
   "metadata": {},
   "outputs": [],
   "source": [
    "filtered_joined_df = prep.filter_outliers_IQR(joined_df, \"survival_time\", coef=1.5)"
   ]
  },
  {
   "cell_type": "markdown",
   "metadata": {},
   "source": [
    "# Optimize model"
   ]
  },
  {
   "cell_type": "code",
   "execution_count": 10,
   "metadata": {},
   "outputs": [],
   "source": [
    "rand.seed(seed)\n",
    "x_df, y_df = prep.shuffle_data(filtered_joined_df, rand)"
   ]
  },
  {
   "cell_type": "code",
   "execution_count": 11,
   "metadata": {},
   "outputs": [
    {
     "name": "stdout",
     "output_type": "stream",
     "text": [
      "L2 baseline: 216346.93791991402\n",
      "L1 baseline: 353.1803278688525\n",
      "R2 baseline: 0.0\n",
      "explained variance baseline: 0.0\n"
     ]
    }
   ],
   "source": [
    "mean_baseline = mean_squared_error(y_df.values, np.repeat(np.mean(y_df.values.squeeze()), y_df.shape[0]))\n",
    "median_baseline = mean_absolute_error(y_df.values, np.repeat(np.median(y_df.values.squeeze()), y_df.shape[0]))\n",
    "r2_baseline = r2_score(y_df.values, np.repeat(np.mean(y_df.values.squeeze()), y_df.shape[0]))\n",
    "expl_var_baseline = explained_variance_score(y_df.values, np.repeat(np.mean(y_df.values.squeeze()), y_df.shape[0]))\n",
    "\n",
    "print(f\"L2 baseline: {mean_baseline}\")\n",
    "print(f\"L1 baseline: {median_baseline}\")\n",
    "print(f\"R2 baseline: {r2_baseline}\")\n",
    "print(f\"explained variance baseline: {expl_var_baseline}\")"
   ]
  },
  {
   "cell_type": "code",
   "execution_count": 12,
   "metadata": {},
   "outputs": [],
   "source": [
    "def objective(h_params, X, y, scoring_default, r, verbose=True):\n",
    "    if verbose:\n",
    "        print(h_params)\n",
    "    model = RandomForestRegressor(\n",
    "        n_estimators=h_params[0],\n",
    "        max_depth=h_params[1],\n",
    "        max_features=h_params[2],\n",
    "        min_samples_split=h_params[3],\n",
    "        min_samples_leaf=h_params[4],\n",
    "        bootstrap=h_params[5],\n",
    "        n_jobs=-1,\n",
    "        random_state=r\n",
    "    )\n",
    "    return -np.mean(cross_val_score(\n",
    "        model,\n",
    "        X,\n",
    "        y,\n",
    "        cv=KFold(n_splits=5),\n",
    "        n_jobs=-1,\n",
    "        scoring=scoring_default\n",
    "    ))"
   ]
  },
  {
   "cell_type": "code",
   "execution_count": 13,
   "metadata": {},
   "outputs": [],
   "source": [
    "space = [\n",
    "    Integer(int(1e2), int(1e3), name=\"n_estimators\"),\n",
    "    Integer(int(10), int(100), name=\"max_depth\"),\n",
    "    Categorical([\"auto\", \"sqrt\", \"log2\"], name=\"max_features\"),\n",
    "    Integer(int(2), int(4), name=\"min_samples_split\"),\n",
    "    Integer(int(1), int(3), name=\"min_samples_leaf\"),\n",
    "    Categorical([True, False], name=\"bootstrap\")\n",
    "]\n",
    "n_initial = 10 * len(space)\n",
    "n_calls = 50 * len(space)"
   ]
  },
  {
   "cell_type": "code",
   "execution_count": 14,
   "metadata": {
    "collapsed": true,
    "jupyter": {
     "outputs_hidden": true
    }
   },
   "outputs": [
    {
     "name": "stdout",
     "output_type": "stream",
     "text": [
      "Iteration No: 1 started. Evaluating function at random point.\n",
      "[662, 20, 'log2', 3, 3, False]\n",
      "Iteration No: 1 ended. Evaluation done at random point.\n",
      "Time taken: 2.7284\n",
      "Function value obtained: -0.1594\n",
      "Current minimum: -0.1594\n",
      "Iteration No: 2 started. Evaluating function at random point.\n",
      "[535, 99, 'log2', 3, 1, True]\n",
      "Iteration No: 2 ended. Evaluation done at random point.\n",
      "Time taken: 2.0263\n",
      "Function value obtained: -0.1179\n",
      "Current minimum: -0.1594\n",
      "Iteration No: 3 started. Evaluating function at random point.\n",
      "[643, 59, 'log2', 3, 2, True]\n",
      "Iteration No: 3 ended. Evaluation done at random point.\n",
      "Time taken: 2.7225\n",
      "Function value obtained: -0.1121\n",
      "Current minimum: -0.1594\n",
      "Iteration No: 4 started. Evaluating function at random point.\n",
      "[888, 56, 'log2', 3, 2, True]\n",
      "Iteration No: 4 ended. Evaluation done at random point.\n",
      "Time taken: 2.8356\n",
      "Function value obtained: -0.1109\n",
      "Current minimum: -0.1594\n",
      "Iteration No: 5 started. Evaluating function at random point.\n",
      "[858, 17, 'sqrt', 2, 1, True]\n",
      "Iteration No: 5 ended. Evaluation done at random point.\n",
      "Time taken: 3.2014\n",
      "Function value obtained: -0.1030\n",
      "Current minimum: -0.1594\n",
      "Iteration No: 6 started. Evaluating function at random point.\n",
      "[186, 90, 'log2', 3, 1, True]\n",
      "Iteration No: 6 ended. Evaluation done at random point.\n",
      "Time taken: 0.6689\n",
      "Function value obtained: -0.1309\n",
      "Current minimum: -0.1594\n",
      "Iteration No: 7 started. Evaluating function at random point.\n",
      "[601, 24, 'auto', 3, 2, True]\n",
      "Iteration No: 7 ended. Evaluation done at random point.\n",
      "Time taken: 4.5347\n",
      "Function value obtained: -0.0991\n",
      "Current minimum: -0.1594\n",
      "Iteration No: 8 started. Evaluating function at random point.\n",
      "[599, 45, 'sqrt', 4, 2, False]\n",
      "Iteration No: 8 ended. Evaluation done at random point.\n",
      "Time taken: 1.7712\n",
      "Function value obtained: -0.1532\n",
      "Current minimum: -0.1594\n",
      "Iteration No: 9 started. Evaluating function at random point.\n",
      "[374, 46, 'log2', 4, 2, True]\n",
      "Iteration No: 9 ended. Evaluation done at random point.\n",
      "Time taken: 1.1037\n",
      "Function value obtained: -0.1135\n",
      "Current minimum: -0.1594\n",
      "Iteration No: 10 started. Evaluating function at random point.\n",
      "[634, 72, 'auto', 3, 1, False]\n",
      "Iteration No: 10 ended. Evaluation done at random point.\n",
      "Time taken: 5.7869\n",
      "Function value obtained: 0.3165\n",
      "Current minimum: -0.1594\n",
      "Iteration No: 11 started. Evaluating function at random point.\n",
      "[562, 70, 'auto', 2, 2, True]\n",
      "Iteration No: 11 ended. Evaluation done at random point.\n",
      "Time taken: 3.7784\n",
      "Function value obtained: -0.1008\n",
      "Current minimum: -0.1594\n",
      "Iteration No: 12 started. Evaluating function at random point.\n",
      "[862, 60, 'sqrt', 3, 2, False]\n",
      "Iteration No: 12 ended. Evaluation done at random point.\n",
      "Time taken: 2.0624\n",
      "Function value obtained: -0.1728\n",
      "Current minimum: -0.1728\n",
      "Iteration No: 13 started. Evaluating function at random point.\n",
      "[254, 85, 'log2', 3, 2, True]\n",
      "Iteration No: 13 ended. Evaluation done at random point.\n",
      "Time taken: 0.8297\n",
      "Function value obtained: -0.1113\n",
      "Current minimum: -0.1728\n",
      "Iteration No: 14 started. Evaluating function at random point.\n",
      "[102, 99, 'sqrt', 2, 2, True]\n",
      "Iteration No: 14 ended. Evaluation done at random point.\n",
      "Time taken: 0.4070\n",
      "Function value obtained: -0.1497\n",
      "Current minimum: -0.1728\n",
      "Iteration No: 15 started. Evaluating function at random point.\n",
      "[912, 99, 'log2', 3, 3, False]\n",
      "Iteration No: 15 ended. Evaluation done at random point.\n",
      "Time taken: 1.9861\n",
      "Function value obtained: -0.1600\n",
      "Current minimum: -0.1728\n",
      "Iteration No: 16 started. Evaluating function at random point.\n",
      "[758, 24, 'log2', 4, 3, False]\n",
      "Iteration No: 16 ended. Evaluation done at random point.\n",
      "Time taken: 1.8733\n",
      "Function value obtained: -0.1562\n",
      "Current minimum: -0.1728\n",
      "Iteration No: 17 started. Evaluating function at random point.\n",
      "[486, 28, 'log2', 3, 1, False]\n",
      "Iteration No: 17 ended. Evaluation done at random point.\n",
      "Time taken: 1.1761\n",
      "Function value obtained: -0.1506\n",
      "Current minimum: -0.1728\n",
      "Iteration No: 18 started. Evaluating function at random point.\n",
      "[935, 61, 'log2', 4, 2, False]\n",
      "Iteration No: 18 ended. Evaluation done at random point.\n",
      "Time taken: 1.7270\n",
      "Function value obtained: -0.1686\n",
      "Current minimum: -0.1728\n",
      "Iteration No: 19 started. Evaluating function at random point.\n",
      "[738, 86, 'auto', 4, 2, False]\n",
      "Iteration No: 19 ended. Evaluation done at random point.\n",
      "Time taken: 6.1053\n",
      "Function value obtained: 0.2851\n",
      "Current minimum: -0.1728\n",
      "Iteration No: 20 started. Evaluating function at random point.\n",
      "[699, 20, 'log2', 4, 2, False]\n",
      "Iteration No: 20 ended. Evaluation done at random point.\n",
      "Time taken: 1.5324\n",
      "Function value obtained: -0.1658\n",
      "Current minimum: -0.1728\n",
      "Iteration No: 21 started. Evaluating function at random point.\n",
      "[494, 79, 'log2', 2, 2, True]\n",
      "Iteration No: 21 ended. Evaluation done at random point.\n",
      "Time taken: 1.3134\n",
      "Function value obtained: -0.1103\n",
      "Current minimum: -0.1728\n",
      "Iteration No: 22 started. Evaluating function at random point.\n",
      "[403, 93, 'sqrt', 3, 3, False]\n",
      "Iteration No: 22 ended. Evaluation done at random point.\n",
      "Time taken: 1.0571\n",
      "Function value obtained: -0.1711\n",
      "Current minimum: -0.1728\n",
      "Iteration No: 23 started. Evaluating function at random point.\n",
      "[873, 84, 'sqrt', 2, 1, False]\n",
      "Iteration No: 23 ended. Evaluation done at random point.\n",
      "Time taken: 1.7823\n",
      "Function value obtained: -0.1621\n",
      "Current minimum: -0.1728\n",
      "Iteration No: 24 started. Evaluating function at random point.\n",
      "[459, 48, 'log2', 2, 1, True]\n",
      "Iteration No: 24 ended. Evaluation done at random point.\n",
      "Time taken: 1.5451\n",
      "Function value obtained: -0.0983\n",
      "Current minimum: -0.1728\n",
      "Iteration No: 25 started. Evaluating function at random point.\n",
      "[521, 83, 'auto', 3, 3, True]\n",
      "Iteration No: 25 ended. Evaluation done at random point.\n",
      "Time taken: 3.2426\n",
      "Function value obtained: -0.1072\n",
      "Current minimum: -0.1728\n",
      "Iteration No: 26 started. Evaluating function at random point.\n",
      "[285, 75, 'log2', 3, 1, True]\n",
      "Iteration No: 26 ended. Evaluation done at random point.\n",
      "Time taken: 0.7969\n",
      "Function value obtained: -0.0944\n",
      "Current minimum: -0.1728\n",
      "Iteration No: 27 started. Evaluating function at random point.\n",
      "[129, 77, 'log2', 2, 2, False]\n",
      "Iteration No: 27 ended. Evaluation done at random point.\n",
      "Time taken: 0.4661\n",
      "Function value obtained: -0.1241\n",
      "Current minimum: -0.1728\n",
      "Iteration No: 28 started. Evaluating function at random point.\n",
      "[688, 100, 'sqrt', 3, 1, True]\n",
      "Iteration No: 28 ended. Evaluation done at random point.\n",
      "Time taken: 2.1153\n",
      "Function value obtained: -0.1135\n",
      "Current minimum: -0.1728\n",
      "Iteration No: 29 started. Evaluating function at random point.\n",
      "[695, 14, 'sqrt', 3, 2, True]\n",
      "Iteration No: 29 ended. Evaluation done at random point.\n",
      "Time taken: 2.3129\n",
      "Function value obtained: -0.1260\n",
      "Current minimum: -0.1728\n",
      "Iteration No: 30 started. Evaluating function at random point.\n",
      "[470, 53, 'auto', 3, 3, False]\n",
      "Iteration No: 30 ended. Evaluation done at random point.\n",
      "Time taken: 3.3853\n",
      "Function value obtained: 0.3157\n",
      "Current minimum: -0.1728\n",
      "Iteration No: 31 started. Evaluating function at random point.\n",
      "[476, 99, 'auto', 4, 3, False]\n",
      "Iteration No: 31 ended. Evaluation done at random point.\n",
      "Time taken: 3.7942\n",
      "Function value obtained: 0.3170\n",
      "Current minimum: -0.1728\n",
      "Iteration No: 32 started. Evaluating function at random point.\n",
      "[517, 55, 'log2', 2, 1, False]\n",
      "Iteration No: 32 ended. Evaluation done at random point.\n",
      "Time taken: 1.4765\n",
      "Function value obtained: -0.1533\n",
      "Current minimum: -0.1728\n",
      "Iteration No: 33 started. Evaluating function at random point.\n",
      "[314, 83, 'sqrt', 2, 2, True]\n",
      "Iteration No: 33 ended. Evaluation done at random point.\n",
      "Time taken: 0.9468\n",
      "Function value obtained: -0.0927\n",
      "Current minimum: -0.1728\n",
      "Iteration No: 34 started. Evaluating function at random point.\n",
      "[586, 66, 'auto', 3, 3, False]\n",
      "Iteration No: 34 ended. Evaluation done at random point.\n",
      "Time taken: 4.6420\n",
      "Function value obtained: 0.3184\n",
      "Current minimum: -0.1728\n",
      "Iteration No: 35 started. Evaluating function at random point.\n",
      "[187, 52, 'sqrt', 3, 3, True]\n",
      "Iteration No: 35 ended. Evaluation done at random point.\n",
      "Time taken: 0.6916\n",
      "Function value obtained: -0.0977\n",
      "Current minimum: -0.1728\n",
      "Iteration No: 36 started. Evaluating function at random point.\n",
      "[287, 50, 'log2', 3, 1, True]\n",
      "Iteration No: 36 ended. Evaluation done at random point.\n",
      "Time taken: 0.9738\n",
      "Function value obtained: -0.1150\n",
      "Current minimum: -0.1728\n",
      "Iteration No: 37 started. Evaluating function at random point.\n",
      "[686, 88, 'auto', 3, 2, False]\n",
      "Iteration No: 37 ended. Evaluation done at random point.\n",
      "Time taken: 5.3315\n",
      "Function value obtained: 0.2882\n",
      "Current minimum: -0.1728\n",
      "Iteration No: 38 started. Evaluating function at random point.\n",
      "[994, 31, 'log2', 2, 1, False]\n",
      "Iteration No: 38 ended. Evaluation done at random point.\n",
      "Time taken: 2.2631\n",
      "Function value obtained: -0.1520\n",
      "Current minimum: -0.1728\n",
      "Iteration No: 39 started. Evaluating function at random point.\n",
      "[371, 67, 'log2', 3, 1, False]\n",
      "Iteration No: 39 ended. Evaluation done at random point.\n",
      "Time taken: 0.9038\n",
      "Function value obtained: -0.1558\n",
      "Current minimum: -0.1728\n",
      "Iteration No: 40 started. Evaluating function at random point.\n",
      "[580, 25, 'log2', 3, 2, False]\n",
      "Iteration No: 40 ended. Evaluation done at random point.\n",
      "Time taken: 1.3217\n",
      "Function value obtained: -0.1720\n",
      "Current minimum: -0.1728\n",
      "Iteration No: 41 started. Evaluating function at random point.\n",
      "[899, 11, 'auto', 4, 1, True]\n",
      "Iteration No: 41 ended. Evaluation done at random point.\n",
      "Time taken: 6.2580\n",
      "Function value obtained: -0.1019\n",
      "Current minimum: -0.1728\n",
      "Iteration No: 42 started. Evaluating function at random point.\n",
      "[974, 88, 'log2', 4, 2, True]\n",
      "Iteration No: 42 ended. Evaluation done at random point.\n",
      "Time taken: 3.1708\n",
      "Function value obtained: -0.1135\n",
      "Current minimum: -0.1728\n",
      "Iteration No: 43 started. Evaluating function at random point.\n",
      "[420, 94, 'auto', 4, 3, True]\n",
      "Iteration No: 43 ended. Evaluation done at random point.\n",
      "Time taken: 2.6791\n",
      "Function value obtained: -0.0878\n",
      "Current minimum: -0.1728\n",
      "Iteration No: 44 started. Evaluating function at random point.\n",
      "[212, 64, 'auto', 3, 1, False]\n",
      "Iteration No: 44 ended. Evaluation done at random point.\n",
      "Time taken: 1.7984\n",
      "Function value obtained: 0.3220\n",
      "Current minimum: -0.1728\n",
      "Iteration No: 45 started. Evaluating function at random point.\n",
      "[303, 89, 'log2', 3, 2, False]\n",
      "Iteration No: 45 ended. Evaluation done at random point.\n",
      "Time taken: 0.6228\n",
      "Function value obtained: -0.1708\n",
      "Current minimum: -0.1728\n",
      "Iteration No: 46 started. Evaluating function at random point.\n",
      "[615, 69, 'log2', 3, 2, True]\n",
      "Iteration No: 46 ended. Evaluation done at random point.\n",
      "Time taken: 2.1454\n",
      "Function value obtained: -0.1206\n",
      "Current minimum: -0.1728\n",
      "Iteration No: 47 started. Evaluating function at random point.\n",
      "[629, 95, 'log2', 3, 1, False]\n",
      "Iteration No: 47 ended. Evaluation done at random point.\n",
      "Time taken: 1.5181\n",
      "Function value obtained: -0.1543\n",
      "Current minimum: -0.1728\n",
      "Iteration No: 48 started. Evaluating function at random point.\n",
      "[935, 28, 'auto', 3, 2, True]\n",
      "Iteration No: 48 ended. Evaluation done at random point.\n",
      "Time taken: 6.3061\n",
      "Function value obtained: -0.1083\n",
      "Current minimum: -0.1728\n",
      "Iteration No: 49 started. Evaluating function at random point.\n",
      "[124, 93, 'log2', 4, 2, True]\n",
      "Iteration No: 49 ended. Evaluation done at random point.\n",
      "Time taken: 0.4533\n",
      "Function value obtained: -0.1257\n",
      "Current minimum: -0.1728\n",
      "Iteration No: 50 started. Evaluating function at random point.\n",
      "[402, 41, 'log2', 4, 2, False]\n",
      "Iteration No: 50 ended. Evaluation done at random point.\n",
      "Time taken: 1.0212\n",
      "Function value obtained: -0.1673\n",
      "Current minimum: -0.1728\n",
      "Iteration No: 51 started. Evaluating function at random point.\n",
      "[944, 92, 'log2', 3, 2, False]\n",
      "Iteration No: 51 ended. Evaluation done at random point.\n",
      "Time taken: 2.2414\n",
      "Function value obtained: -0.1757\n",
      "Current minimum: -0.1757\n",
      "Iteration No: 52 started. Evaluating function at random point.\n",
      "[403, 39, 'sqrt', 4, 2, True]\n",
      "Iteration No: 52 ended. Evaluation done at random point.\n",
      "Time taken: 1.3354\n",
      "Function value obtained: -0.1449\n",
      "Current minimum: -0.1757\n",
      "Iteration No: 53 started. Evaluating function at random point.\n",
      "[480, 32, 'auto', 3, 1, False]\n",
      "Iteration No: 53 ended. Evaluation done at random point.\n",
      "Time taken: 4.5245\n",
      "Function value obtained: 0.3274\n",
      "Current minimum: -0.1757\n",
      "Iteration No: 54 started. Evaluating function at random point.\n",
      "[643, 43, 'log2', 2, 2, False]\n",
      "Iteration No: 54 ended. Evaluation done at random point.\n",
      "Time taken: 1.7538\n",
      "Function value obtained: -0.1660\n",
      "Current minimum: -0.1757\n",
      "Iteration No: 55 started. Evaluating function at random point.\n",
      "[350, 77, 'log2', 3, 2, True]\n",
      "Iteration No: 55 ended. Evaluation done at random point.\n",
      "Time taken: 0.9339\n",
      "Function value obtained: -0.1296\n",
      "Current minimum: -0.1757\n",
      "Iteration No: 56 started. Evaluating function at random point.\n",
      "[921, 62, 'auto', 3, 3, False]\n",
      "Iteration No: 56 ended. Evaluation done at random point.\n",
      "Time taken: 7.0714\n",
      "Function value obtained: 0.3144\n",
      "Current minimum: -0.1757\n",
      "Iteration No: 57 started. Evaluating function at random point.\n",
      "[839, 52, 'sqrt', 2, 2, True]\n",
      "Iteration No: 57 ended. Evaluation done at random point.\n",
      "Time taken: 2.5977\n",
      "Function value obtained: -0.1115\n",
      "Current minimum: -0.1757\n",
      "Iteration No: 58 started. Evaluating function at random point.\n",
      "[692, 80, 'log2', 2, 2, True]\n",
      "Iteration No: 58 ended. Evaluation done at random point.\n",
      "Time taken: 1.8508\n",
      "Function value obtained: -0.1140\n",
      "Current minimum: -0.1757\n",
      "Iteration No: 59 started. Evaluating function at random point.\n",
      "[708, 11, 'auto', 3, 3, False]\n",
      "Iteration No: 59 ended. Evaluation done at random point.\n",
      "Time taken: 5.2768\n",
      "Function value obtained: 0.3187\n",
      "Current minimum: -0.1757\n",
      "Iteration No: 60 started. Evaluating function at random point.\n",
      "[343, 42, 'auto', 3, 1, True]\n",
      "Iteration No: 60 ended. Evaluation done at random point.\n",
      "Time taken: 4.1585\n",
      "Function value obtained: -0.1024\n",
      "Current minimum: -0.1757\n",
      "Iteration No: 61 started. Searching for the next optimal point.\n",
      "[100, 90, 'sqrt', 2, 3, False]\n",
      "Iteration No: 61 ended. Search finished for the next optimal point.\n",
      "Time taken: 1.2385\n",
      "Function value obtained: -0.1655\n",
      "Current minimum: -0.1757\n",
      "Iteration No: 62 started. Searching for the next optimal point.\n",
      "[105, 16, 'sqrt', 2, 1, False]\n",
      "Iteration No: 62 ended. Search finished for the next optimal point.\n",
      "Time taken: 1.8579\n",
      "Function value obtained: -0.1258\n",
      "Current minimum: -0.1757\n",
      "Iteration No: 63 started. Searching for the next optimal point.\n",
      "[1000, 100, 'sqrt', 4, 2, False]\n",
      "Iteration No: 63 ended. Search finished for the next optimal point.\n",
      "Time taken: 4.0299\n",
      "Function value obtained: -0.1629\n",
      "Current minimum: -0.1757\n",
      "Iteration No: 64 started. Searching for the next optimal point.\n",
      "[1000, 100, 'sqrt', 4, 3, False]\n",
      "Iteration No: 64 ended. Search finished for the next optimal point.\n",
      "Time taken: 3.6583\n",
      "Function value obtained: -0.1842\n",
      "Current minimum: -0.1842\n",
      "Iteration No: 65 started. Searching for the next optimal point.\n",
      "[1000, 100, 'sqrt', 4, 3, False]\n"
     ]
    },
    {
     "name": "stderr",
     "output_type": "stream",
     "text": [
      "/home/carcook/anaconda3/envs/TCGA-round1/lib/python3.8/site-packages/skopt/optimizer/optimizer.py:449: UserWarning: The objective has been evaluated at this point before.\n",
      "  warnings.warn(\"The objective has been evaluated \"\n"
     ]
    },
    {
     "name": "stdout",
     "output_type": "stream",
     "text": [
      "Iteration No: 65 ended. Search finished for the next optimal point.\n",
      "Time taken: 3.1205\n",
      "Function value obtained: -0.1724\n",
      "Current minimum: -0.1842\n",
      "Iteration No: 66 started. Searching for the next optimal point.\n",
      "[1000, 100, 'sqrt', 4, 3, False]\n"
     ]
    },
    {
     "name": "stderr",
     "output_type": "stream",
     "text": [
      "/home/carcook/anaconda3/envs/TCGA-round1/lib/python3.8/site-packages/skopt/optimizer/optimizer.py:449: UserWarning: The objective has been evaluated at this point before.\n",
      "  warnings.warn(\"The objective has been evaluated \"\n"
     ]
    },
    {
     "name": "stdout",
     "output_type": "stream",
     "text": [
      "Iteration No: 66 ended. Search finished for the next optimal point.\n",
      "Time taken: 3.0044\n",
      "Function value obtained: -0.1782\n",
      "Current minimum: -0.1842\n",
      "Iteration No: 67 started. Searching for the next optimal point.\n",
      "[122, 100, 'sqrt', 4, 2, False]\n",
      "Iteration No: 67 ended. Search finished for the next optimal point.\n",
      "Time taken: 1.3777\n",
      "Function value obtained: -0.1133\n",
      "Current minimum: -0.1842\n",
      "Iteration No: 68 started. Searching for the next optimal point.\n",
      "[1000, 63, 'sqrt', 2, 3, False]\n",
      "Iteration No: 68 ended. Search finished for the next optimal point.\n",
      "Time taken: 3.5595\n",
      "Function value obtained: -0.1846\n",
      "Current minimum: -0.1846\n",
      "Iteration No: 69 started. Searching for the next optimal point.\n",
      "[1000, 96, 'sqrt', 2, 3, False]\n",
      "Iteration No: 69 ended. Search finished for the next optimal point.\n",
      "Time taken: 2.8542\n",
      "Function value obtained: -0.1738\n",
      "Current minimum: -0.1846\n",
      "Iteration No: 70 started. Searching for the next optimal point.\n",
      "[1000, 99, 'sqrt', 2, 3, False]\n",
      "Iteration No: 70 ended. Search finished for the next optimal point.\n",
      "Time taken: 3.1590\n",
      "Function value obtained: -0.1702\n",
      "Current minimum: -0.1846\n",
      "Iteration No: 71 started. Searching for the next optimal point.\n",
      "[1000, 91, 'sqrt', 2, 3, False]\n",
      "Iteration No: 71 ended. Search finished for the next optimal point.\n",
      "Time taken: 2.8622\n",
      "Function value obtained: -0.1770\n",
      "Current minimum: -0.1846\n",
      "Iteration No: 72 started. Searching for the next optimal point.\n",
      "[987, 14, 'sqrt', 2, 3, False]\n",
      "Iteration No: 72 ended. Search finished for the next optimal point.\n",
      "Time taken: 2.7370\n",
      "Function value obtained: -0.1762\n",
      "Current minimum: -0.1846\n",
      "Iteration No: 73 started. Searching for the next optimal point.\n",
      "[1000, 78, 'sqrt', 2, 3, False]\n",
      "Iteration No: 73 ended. Search finished for the next optimal point.\n",
      "Time taken: 3.4308\n",
      "Function value obtained: -0.1808\n",
      "Current minimum: -0.1846\n",
      "Iteration No: 74 started. Searching for the next optimal point.\n",
      "[1000, 26, 'sqrt', 2, 3, False]\n",
      "Iteration No: 74 ended. Search finished for the next optimal point.\n",
      "Time taken: 3.8123\n",
      "Function value obtained: -0.1879\n",
      "Current minimum: -0.1879\n",
      "Iteration No: 75 started. Searching for the next optimal point.\n",
      "[1000, 79, 'log2', 4, 3, False]\n",
      "Iteration No: 75 ended. Search finished for the next optimal point.\n",
      "Time taken: 3.4022\n",
      "Function value obtained: -0.1578\n",
      "Current minimum: -0.1879\n",
      "Iteration No: 76 started. Searching for the next optimal point.\n",
      "[983, 20, 'sqrt', 2, 3, False]\n",
      "Iteration No: 76 ended. Search finished for the next optimal point.\n",
      "Time taken: 3.7337\n",
      "Function value obtained: -0.1751\n",
      "Current minimum: -0.1879\n",
      "Iteration No: 77 started. Searching for the next optimal point.\n",
      "[1000, 10, 'sqrt', 2, 3, False]\n",
      "Iteration No: 77 ended. Search finished for the next optimal point.\n",
      "Time taken: 4.5609\n",
      "Function value obtained: -0.1781\n",
      "Current minimum: -0.1879\n",
      "Iteration No: 78 started. Searching for the next optimal point.\n",
      "[995, 30, 'sqrt', 2, 1, False]\n",
      "Iteration No: 78 ended. Search finished for the next optimal point.\n",
      "Time taken: 4.5776\n",
      "Function value obtained: -0.1560\n",
      "Current minimum: -0.1879\n",
      "Iteration No: 79 started. Searching for the next optimal point.\n",
      "[996, 79, 'log2', 4, 1, False]\n",
      "Iteration No: 79 ended. Search finished for the next optimal point.\n",
      "Time taken: 3.8604\n",
      "Function value obtained: -0.1487\n",
      "Current minimum: -0.1879\n",
      "Iteration No: 80 started. Searching for the next optimal point.\n",
      "[100, 80, 'log2', 4, 3, False]\n",
      "Iteration No: 80 ended. Search finished for the next optimal point.\n",
      "Time taken: 1.2096\n",
      "Function value obtained: -0.0944\n",
      "Current minimum: -0.1879\n",
      "Iteration No: 81 started. Searching for the next optimal point.\n",
      "[989, 33, 'log2', 2, 1, False]\n",
      "Iteration No: 81 ended. Search finished for the next optimal point.\n",
      "Time taken: 3.4066\n",
      "Function value obtained: -0.1435\n",
      "Current minimum: -0.1879\n",
      "Iteration No: 82 started. Searching for the next optimal point.\n",
      "[998, 43, 'sqrt', 4, 1, False]\n",
      "Iteration No: 82 ended. Search finished for the next optimal point.\n",
      "Time taken: 3.4803\n",
      "Function value obtained: -0.1385\n",
      "Current minimum: -0.1879\n",
      "Iteration No: 83 started. Searching for the next optimal point.\n",
      "[994, 89, 'sqrt', 2, 3, False]\n",
      "Iteration No: 83 ended. Search finished for the next optimal point.\n",
      "Time taken: 3.9488\n",
      "Function value obtained: -0.1859\n",
      "Current minimum: -0.1879\n",
      "Iteration No: 84 started. Searching for the next optimal point.\n",
      "[1000, 10, 'sqrt', 2, 3, False]\n"
     ]
    },
    {
     "name": "stderr",
     "output_type": "stream",
     "text": [
      "/home/carcook/anaconda3/envs/TCGA-round1/lib/python3.8/site-packages/skopt/optimizer/optimizer.py:449: UserWarning: The objective has been evaluated at this point before.\n",
      "  warnings.warn(\"The objective has been evaluated \"\n"
     ]
    },
    {
     "name": "stdout",
     "output_type": "stream",
     "text": [
      "Iteration No: 84 ended. Search finished for the next optimal point.\n",
      "Time taken: 4.1553\n",
      "Function value obtained: -0.1759\n",
      "Current minimum: -0.1879\n",
      "Iteration No: 85 started. Searching for the next optimal point.\n",
      "[996, 74, 'sqrt', 4, 3, False]\n",
      "Iteration No: 85 ended. Search finished for the next optimal point.\n",
      "Time taken: 4.5639\n",
      "Function value obtained: -0.1718\n",
      "Current minimum: -0.1879\n",
      "Iteration No: 86 started. Searching for the next optimal point.\n",
      "[100, 100, 'sqrt', 4, 1, True]\n",
      "Iteration No: 86 ended. Search finished for the next optimal point.\n",
      "Time taken: 1.5969\n",
      "Function value obtained: -0.0763\n",
      "Current minimum: -0.1879\n",
      "Iteration No: 87 started. Searching for the next optimal point.\n",
      "[1000, 22, 'log2', 2, 3, False]\n",
      "Iteration No: 87 ended. Search finished for the next optimal point.\n",
      "Time taken: 3.3258\n",
      "Function value obtained: -0.1559\n",
      "Current minimum: -0.1879\n",
      "Iteration No: 88 started. Searching for the next optimal point.\n",
      "[957, 10, 'sqrt', 4, 3, False]\n",
      "Iteration No: 88 ended. Search finished for the next optimal point.\n",
      "Time taken: 4.5667\n",
      "Function value obtained: -0.1805\n",
      "Current minimum: -0.1879\n",
      "Iteration No: 89 started. Searching for the next optimal point.\n",
      "[100, 87, 'log2', 4, 3, True]\n",
      "Iteration No: 89 ended. Search finished for the next optimal point.\n",
      "Time taken: 2.9418\n",
      "Function value obtained: -0.0875\n",
      "Current minimum: -0.1879\n",
      "Iteration No: 90 started. Searching for the next optimal point.\n",
      "[1000, 10, 'sqrt', 2, 3, False]\n"
     ]
    },
    {
     "name": "stderr",
     "output_type": "stream",
     "text": [
      "/home/carcook/anaconda3/envs/TCGA-round1/lib/python3.8/site-packages/skopt/optimizer/optimizer.py:449: UserWarning: The objective has been evaluated at this point before.\n",
      "  warnings.warn(\"The objective has been evaluated \"\n"
     ]
    },
    {
     "name": "stdout",
     "output_type": "stream",
     "text": [
      "Iteration No: 90 ended. Search finished for the next optimal point.\n",
      "Time taken: 5.0330\n",
      "Function value obtained: -0.1735\n",
      "Current minimum: -0.1879\n",
      "Iteration No: 91 started. Searching for the next optimal point.\n",
      "[1000, 10, 'log2', 4, 2, False]\n",
      "Iteration No: 91 ended. Search finished for the next optimal point.\n",
      "Time taken: 4.7631\n",
      "Function value obtained: -0.1739\n",
      "Current minimum: -0.1879\n",
      "Iteration No: 92 started. Searching for the next optimal point.\n",
      "[999, 35, 'log2', 4, 3, True]\n",
      "Iteration No: 92 ended. Search finished for the next optimal point.\n",
      "Time taken: 5.1549\n",
      "Function value obtained: -0.1206\n",
      "Current minimum: -0.1879\n",
      "Iteration No: 93 started. Searching for the next optimal point.\n",
      "[1000, 10, 'sqrt', 2, 3, False]\n"
     ]
    },
    {
     "name": "stderr",
     "output_type": "stream",
     "text": [
      "/home/carcook/anaconda3/envs/TCGA-round1/lib/python3.8/site-packages/skopt/optimizer/optimizer.py:449: UserWarning: The objective has been evaluated at this point before.\n",
      "  warnings.warn(\"The objective has been evaluated \"\n"
     ]
    },
    {
     "name": "stdout",
     "output_type": "stream",
     "text": [
      "Iteration No: 93 ended. Search finished for the next optimal point.\n",
      "Time taken: 3.9905\n",
      "Function value obtained: -0.1727\n",
      "Current minimum: -0.1879\n",
      "Iteration No: 94 started. Searching for the next optimal point.\n",
      "[103, 47, 'sqrt', 2, 3, False]\n",
      "Iteration No: 94 ended. Search finished for the next optimal point.\n",
      "Time taken: 1.6241\n",
      "Function value obtained: -0.1176\n",
      "Current minimum: -0.1879\n",
      "Iteration No: 95 started. Searching for the next optimal point.\n",
      "[999, 20, 'log2', 4, 1, False]\n",
      "Iteration No: 95 ended. Search finished for the next optimal point.\n",
      "Time taken: 3.4960\n",
      "Function value obtained: -0.1434\n",
      "Current minimum: -0.1879\n",
      "Iteration No: 96 started. Searching for the next optimal point.\n",
      "[992, 90, 'sqrt', 4, 1, False]\n",
      "Iteration No: 96 ended. Search finished for the next optimal point.\n",
      "Time taken: 3.6637\n",
      "Function value obtained: -0.1481\n",
      "Current minimum: -0.1879\n",
      "Iteration No: 97 started. Searching for the next optimal point.\n",
      "[1000, 56, 'log2', 2, 3, False]\n",
      "Iteration No: 97 ended. Search finished for the next optimal point.\n",
      "Time taken: 3.9852\n",
      "Function value obtained: -0.1685\n",
      "Current minimum: -0.1879\n",
      "Iteration No: 98 started. Searching for the next optimal point.\n",
      "[997, 20, 'sqrt', 3, 3, True]\n",
      "Iteration No: 98 ended. Search finished for the next optimal point.\n",
      "Time taken: 4.3078\n",
      "Function value obtained: -0.1292\n",
      "Current minimum: -0.1879\n",
      "Iteration No: 99 started. Searching for the next optimal point.\n",
      "[995, 92, 'sqrt', 2, 3, False]\n",
      "Iteration No: 99 ended. Search finished for the next optimal point.\n",
      "Time taken: 3.9193\n",
      "Function value obtained: -0.1833\n",
      "Current minimum: -0.1879\n",
      "Iteration No: 100 started. Searching for the next optimal point.\n",
      "[997, 29, 'sqrt', 4, 3, False]\n",
      "Iteration No: 100 ended. Search finished for the next optimal point.\n",
      "Time taken: 4.4982\n",
      "Function value obtained: -0.1653\n",
      "Current minimum: -0.1879\n",
      "Iteration No: 101 started. Searching for the next optimal point.\n",
      "[981, 95, 'log2', 2, 3, False]\n",
      "Iteration No: 101 ended. Search finished for the next optimal point.\n",
      "Time taken: 3.9756\n",
      "Function value obtained: -0.1511\n",
      "Current minimum: -0.1879\n",
      "Iteration No: 102 started. Searching for the next optimal point.\n",
      "[1000, 13, 'log2', 2, 3, False]\n",
      "Iteration No: 102 ended. Search finished for the next optimal point.\n",
      "Time taken: 4.5265\n",
      "Function value obtained: -0.1671\n",
      "Current minimum: -0.1879\n",
      "Iteration No: 103 started. Searching for the next optimal point.\n",
      "[997, 31, 'sqrt', 4, 3, False]\n",
      "Iteration No: 103 ended. Search finished for the next optimal point.\n",
      "Time taken: 4.6316\n",
      "Function value obtained: -0.1595\n",
      "Current minimum: -0.1879\n",
      "Iteration No: 104 started. Searching for the next optimal point.\n",
      "[997, 11, 'sqrt', 2, 1, False]\n",
      "Iteration No: 104 ended. Search finished for the next optimal point.\n",
      "Time taken: 4.3029\n",
      "Function value obtained: -0.1602\n",
      "Current minimum: -0.1879\n",
      "Iteration No: 105 started. Searching for the next optimal point.\n",
      "[997, 90, 'sqrt', 2, 3, False]\n",
      "Iteration No: 105 ended. Search finished for the next optimal point.\n",
      "Time taken: 4.6769\n",
      "Function value obtained: -0.1634\n",
      "Current minimum: -0.1879\n",
      "Iteration No: 106 started. Searching for the next optimal point.\n",
      "[1000, 100, 'log2', 2, 3, False]\n",
      "Iteration No: 106 ended. Search finished for the next optimal point.\n",
      "Time taken: 4.6282\n",
      "Function value obtained: -0.1752\n",
      "Current minimum: -0.1879\n",
      "Iteration No: 107 started. Searching for the next optimal point.\n",
      "[998, 48, 'log2', 4, 1, False]\n",
      "Iteration No: 107 ended. Search finished for the next optimal point.\n",
      "Time taken: 4.7419\n",
      "Function value obtained: -0.1252\n",
      "Current minimum: -0.1879\n",
      "Iteration No: 108 started. Searching for the next optimal point.\n",
      "[1000, 24, 'sqrt', 2, 2, False]\n",
      "Iteration No: 108 ended. Search finished for the next optimal point.\n",
      "Time taken: 5.5176\n",
      "Function value obtained: -0.1583\n",
      "Current minimum: -0.1879\n",
      "Iteration No: 109 started. Searching for the next optimal point.\n",
      "[999, 18, 'auto', 3, 3, True]\n",
      "Iteration No: 109 ended. Search finished for the next optimal point.\n",
      "Time taken: 8.6693\n",
      "Function value obtained: -0.0974\n",
      "Current minimum: -0.1879\n",
      "Iteration No: 110 started. Searching for the next optimal point.\n",
      "[1000, 100, 'log2', 2, 2, False]\n",
      "Iteration No: 110 ended. Search finished for the next optimal point.\n",
      "Time taken: 4.0127\n",
      "Function value obtained: -0.1360\n",
      "Current minimum: -0.1879\n",
      "Iteration No: 111 started. Searching for the next optimal point.\n",
      "[851, 100, 'log2', 2, 3, False]\n",
      "Iteration No: 111 ended. Search finished for the next optimal point.\n",
      "Time taken: 3.9378\n",
      "Function value obtained: -0.1706\n",
      "Current minimum: -0.1879\n",
      "Iteration No: 112 started. Searching for the next optimal point.\n",
      "[831, 100, 'log2', 2, 3, False]\n",
      "Iteration No: 112 ended. Search finished for the next optimal point.\n",
      "Time taken: 4.1036\n",
      "Function value obtained: -0.1487\n",
      "Current minimum: -0.1879\n",
      "Iteration No: 113 started. Searching for the next optimal point.\n",
      "[662, 55, 'sqrt', 2, 3, False]\n",
      "Iteration No: 113 ended. Search finished for the next optimal point.\n",
      "Time taken: 3.8585\n",
      "Function value obtained: -0.1711\n",
      "Current minimum: -0.1879\n",
      "Iteration No: 114 started. Searching for the next optimal point.\n",
      "[106, 12, 'log2', 2, 3, False]\n",
      "Iteration No: 114 ended. Search finished for the next optimal point.\n",
      "Time taken: 2.3252\n",
      "Function value obtained: -0.1846\n",
      "Current minimum: -0.1879\n",
      "Iteration No: 115 started. Searching for the next optimal point.\n",
      "[129, 11, 'log2', 2, 3, False]\n",
      "Iteration No: 115 ended. Search finished for the next optimal point.\n",
      "Time taken: 2.9549\n",
      "Function value obtained: -0.1644\n",
      "Current minimum: -0.1879\n",
      "Iteration No: 116 started. Searching for the next optimal point.\n",
      "[993, 20, 'sqrt', 4, 3, False]\n",
      "Iteration No: 116 ended. Search finished for the next optimal point.\n",
      "Time taken: 4.9309\n",
      "Function value obtained: -0.1770\n",
      "Current minimum: -0.1879\n",
      "Iteration No: 117 started. Searching for the next optimal point.\n",
      "[101, 17, 'log2', 2, 3, False]\n",
      "Iteration No: 117 ended. Search finished for the next optimal point.\n",
      "Time taken: 3.4754\n",
      "Function value obtained: -0.1345\n",
      "Current minimum: -0.1879\n",
      "Iteration No: 118 started. Searching for the next optimal point.\n",
      "[999, 98, 'sqrt', 2, 3, False]\n",
      "Iteration No: 118 ended. Search finished for the next optimal point.\n",
      "Time taken: 5.3933\n",
      "Function value obtained: -0.1686\n",
      "Current minimum: -0.1879\n",
      "Iteration No: 119 started. Searching for the next optimal point.\n",
      "[996, 11, 'sqrt', 4, 3, False]\n",
      "Iteration No: 119 ended. Search finished for the next optimal point.\n",
      "Time taken: 5.0913\n",
      "Function value obtained: -0.1651\n",
      "Current minimum: -0.1879\n",
      "Iteration No: 120 started. Searching for the next optimal point.\n",
      "[994, 21, 'sqrt', 4, 3, False]\n",
      "Iteration No: 120 ended. Search finished for the next optimal point.\n",
      "Time taken: 4.7655\n",
      "Function value obtained: -0.1796\n",
      "Current minimum: -0.1879\n",
      "Iteration No: 121 started. Searching for the next optimal point.\n",
      "[113, 35, 'sqrt', 2, 3, False]\n",
      "Iteration No: 121 ended. Search finished for the next optimal point.\n",
      "Time taken: 3.2561\n",
      "Function value obtained: -0.2212\n",
      "Current minimum: -0.2212\n",
      "Iteration No: 122 started. Searching for the next optimal point.\n",
      "[101, 20, 'sqrt', 4, 3, False]\n",
      "Iteration No: 122 ended. Search finished for the next optimal point.\n",
      "Time taken: 3.0574\n",
      "Function value obtained: -0.1730\n",
      "Current minimum: -0.2212\n",
      "Iteration No: 123 started. Searching for the next optimal point.\n",
      "[125, 89, 'sqrt', 4, 3, False]\n",
      "Iteration No: 123 ended. Search finished for the next optimal point.\n",
      "Time taken: 3.3794\n",
      "Function value obtained: -0.1589\n",
      "Current minimum: -0.2212\n",
      "Iteration No: 124 started. Searching for the next optimal point.\n",
      "[981, 96, 'sqrt', 4, 3, True]\n",
      "Iteration No: 124 ended. Search finished for the next optimal point.\n",
      "Time taken: 5.9962\n",
      "Function value obtained: -0.1242\n",
      "Current minimum: -0.2212\n",
      "Iteration No: 125 started. Searching for the next optimal point.\n",
      "[107, 17, 'sqrt', 4, 3, False]\n",
      "Iteration No: 125 ended. Search finished for the next optimal point.\n",
      "Time taken: 2.6247\n",
      "Function value obtained: -0.2048\n",
      "Current minimum: -0.2212\n",
      "Iteration No: 126 started. Searching for the next optimal point.\n",
      "[112, 19, 'sqrt', 2, 1, False]\n",
      "Iteration No: 126 ended. Search finished for the next optimal point.\n",
      "Time taken: 2.7389\n",
      "Function value obtained: -0.1304\n",
      "Current minimum: -0.2212\n",
      "Iteration No: 127 started. Searching for the next optimal point.\n",
      "[101, 95, 'sqrt', 4, 3, False]\n",
      "Iteration No: 127 ended. Search finished for the next optimal point.\n",
      "Time taken: 3.4432\n",
      "Function value obtained: -0.1585\n",
      "Current minimum: -0.2212\n",
      "Iteration No: 128 started. Searching for the next optimal point.\n",
      "[100, 76, 'log2', 2, 1, False]\n",
      "Iteration No: 128 ended. Search finished for the next optimal point.\n",
      "Time taken: 2.7048\n",
      "Function value obtained: -0.1331\n",
      "Current minimum: -0.2212\n",
      "Iteration No: 129 started. Searching for the next optimal point.\n",
      "[102, 53, 'auto', 2, 1, True]\n",
      "Iteration No: 129 ended. Search finished for the next optimal point.\n",
      "Time taken: 3.3462\n",
      "Function value obtained: -0.0763\n",
      "Current minimum: -0.2212\n",
      "Iteration No: 130 started. Searching for the next optimal point.\n",
      "[1000, 10, 'log2', 2, 3, False]\n",
      "Iteration No: 130 ended. Search finished for the next optimal point.\n",
      "Time taken: 5.2814\n",
      "Function value obtained: -0.1630\n",
      "Current minimum: -0.2212\n",
      "Iteration No: 131 started. Searching for the next optimal point.\n",
      "[100, 10, 'sqrt', 4, 3, False]\n",
      "Iteration No: 131 ended. Search finished for the next optimal point.\n",
      "Time taken: 2.2355\n",
      "Function value obtained: -0.1562\n",
      "Current minimum: -0.2212\n",
      "Iteration No: 132 started. Searching for the next optimal point.\n",
      "[103, 31, 'sqrt', 4, 3, True]\n",
      "Iteration No: 132 ended. Search finished for the next optimal point.\n",
      "Time taken: 2.9065\n",
      "Function value obtained: -0.1279\n",
      "Current minimum: -0.2212\n",
      "Iteration No: 133 started. Searching for the next optimal point.\n",
      "[101, 86, 'log2', 4, 3, False]\n",
      "Iteration No: 133 ended. Search finished for the next optimal point.\n",
      "Time taken: 2.7429\n",
      "Function value obtained: -0.1733\n",
      "Current minimum: -0.2212\n",
      "Iteration No: 134 started. Searching for the next optimal point.\n",
      "[106, 88, 'sqrt', 2, 3, False]\n",
      "Iteration No: 134 ended. Search finished for the next optimal point.\n",
      "Time taken: 3.8737\n",
      "Function value obtained: -0.1881\n",
      "Current minimum: -0.2212\n",
      "Iteration No: 135 started. Searching for the next optimal point.\n",
      "[1000, 10, 'log2', 2, 3, False]\n"
     ]
    },
    {
     "name": "stderr",
     "output_type": "stream",
     "text": [
      "/home/carcook/anaconda3/envs/TCGA-round1/lib/python3.8/site-packages/skopt/optimizer/optimizer.py:449: UserWarning: The objective has been evaluated at this point before.\n",
      "  warnings.warn(\"The objective has been evaluated \"\n"
     ]
    },
    {
     "name": "stdout",
     "output_type": "stream",
     "text": [
      "Iteration No: 135 ended. Search finished for the next optimal point.\n",
      "Time taken: 5.5877\n",
      "Function value obtained: -0.1781\n",
      "Current minimum: -0.2212\n",
      "Iteration No: 136 started. Searching for the next optimal point.\n",
      "[133, 24, 'sqrt', 4, 1, False]\n",
      "Iteration No: 136 ended. Search finished for the next optimal point.\n",
      "Time taken: 3.2582\n",
      "Function value obtained: -0.1484\n",
      "Current minimum: -0.2212\n",
      "Iteration No: 137 started. Searching for the next optimal point.\n",
      "[991, 21, 'sqrt', 2, 3, True]\n",
      "Iteration No: 137 ended. Search finished for the next optimal point.\n",
      "Time taken: 6.2616\n",
      "Function value obtained: -0.1221\n",
      "Current minimum: -0.2212\n",
      "Iteration No: 138 started. Searching for the next optimal point.\n",
      "[133, 11, 'log2', 4, 3, False]\n",
      "Iteration No: 138 ended. Search finished for the next optimal point.\n",
      "Time taken: 4.6918\n",
      "Function value obtained: -0.1321\n",
      "Current minimum: -0.2212\n",
      "Iteration No: 139 started. Searching for the next optimal point.\n",
      "[105, 97, 'sqrt', 2, 3, False]\n",
      "Iteration No: 139 ended. Search finished for the next optimal point.\n",
      "Time taken: 3.5082\n",
      "Function value obtained: -0.1497\n",
      "Current minimum: -0.2212\n",
      "Iteration No: 140 started. Searching for the next optimal point.\n",
      "[967, 91, 'sqrt', 2, 1, False]\n",
      "Iteration No: 140 ended. Search finished for the next optimal point.\n",
      "Time taken: 4.4412\n",
      "Function value obtained: -0.1383\n",
      "Current minimum: -0.2212\n",
      "Iteration No: 141 started. Searching for the next optimal point.\n",
      "[1000, 10, 'log2', 2, 3, False]\n"
     ]
    },
    {
     "name": "stderr",
     "output_type": "stream",
     "text": [
      "/home/carcook/anaconda3/envs/TCGA-round1/lib/python3.8/site-packages/skopt/optimizer/optimizer.py:449: UserWarning: The objective has been evaluated at this point before.\n",
      "  warnings.warn(\"The objective has been evaluated \"\n"
     ]
    },
    {
     "name": "stdout",
     "output_type": "stream",
     "text": [
      "Iteration No: 141 ended. Search finished for the next optimal point.\n",
      "Time taken: 4.4515\n",
      "Function value obtained: -0.1697\n",
      "Current minimum: -0.2212\n",
      "Iteration No: 142 started. Searching for the next optimal point.\n",
      "[113, 13, 'sqrt', 2, 3, False]\n",
      "Iteration No: 142 ended. Search finished for the next optimal point.\n",
      "Time taken: 3.3938\n",
      "Function value obtained: -0.1740\n",
      "Current minimum: -0.2212\n",
      "Iteration No: 143 started. Searching for the next optimal point.\n",
      "[997, 12, 'log2', 2, 3, True]\n",
      "Iteration No: 143 ended. Search finished for the next optimal point.\n",
      "Time taken: 6.8413\n",
      "Function value obtained: -0.1226\n",
      "Current minimum: -0.2212\n",
      "Iteration No: 144 started. Searching for the next optimal point.\n",
      "[1000, 10, 'log2', 2, 3, False]\n"
     ]
    },
    {
     "name": "stderr",
     "output_type": "stream",
     "text": [
      "/home/carcook/anaconda3/envs/TCGA-round1/lib/python3.8/site-packages/skopt/optimizer/optimizer.py:449: UserWarning: The objective has been evaluated at this point before.\n",
      "  warnings.warn(\"The objective has been evaluated \"\n"
     ]
    },
    {
     "name": "stdout",
     "output_type": "stream",
     "text": [
      "Iteration No: 144 ended. Search finished for the next optimal point.\n",
      "Time taken: 4.4311\n",
      "Function value obtained: -0.1538\n",
      "Current minimum: -0.2212\n",
      "Iteration No: 145 started. Searching for the next optimal point.\n",
      "[106, 11, 'sqrt', 4, 3, False]\n",
      "Iteration No: 145 ended. Search finished for the next optimal point.\n",
      "Time taken: 3.5376\n",
      "Function value obtained: -0.1530\n",
      "Current minimum: -0.2212\n",
      "Iteration No: 146 started. Searching for the next optimal point.\n",
      "[1000, 10, 'log2', 2, 3, False]\n"
     ]
    },
    {
     "name": "stderr",
     "output_type": "stream",
     "text": [
      "/home/carcook/anaconda3/envs/TCGA-round1/lib/python3.8/site-packages/skopt/optimizer/optimizer.py:449: UserWarning: The objective has been evaluated at this point before.\n",
      "  warnings.warn(\"The objective has been evaluated \"\n"
     ]
    },
    {
     "name": "stdout",
     "output_type": "stream",
     "text": [
      "Iteration No: 146 ended. Search finished for the next optimal point.\n",
      "Time taken: 5.4096\n",
      "Function value obtained: -0.1565\n",
      "Current minimum: -0.2212\n",
      "Iteration No: 147 started. Searching for the next optimal point.\n",
      "[115, 21, 'log2', 2, 1, False]\n",
      "Iteration No: 147 ended. Search finished for the next optimal point.\n",
      "Time taken: 3.5042\n",
      "Function value obtained: -0.1276\n",
      "Current minimum: -0.2212\n",
      "Iteration No: 148 started. Searching for the next optimal point.\n",
      "[963, 11, 'sqrt', 4, 1, True]\n",
      "Iteration No: 148 ended. Search finished for the next optimal point.\n",
      "Time taken: 7.0680\n",
      "Function value obtained: -0.1033\n",
      "Current minimum: -0.2212\n",
      "Iteration No: 149 started. Searching for the next optimal point.\n",
      "[1000, 10, 'log2', 2, 3, False]\n"
     ]
    },
    {
     "name": "stderr",
     "output_type": "stream",
     "text": [
      "/home/carcook/anaconda3/envs/TCGA-round1/lib/python3.8/site-packages/skopt/optimizer/optimizer.py:449: UserWarning: The objective has been evaluated at this point before.\n",
      "  warnings.warn(\"The objective has been evaluated \"\n"
     ]
    },
    {
     "name": "stdout",
     "output_type": "stream",
     "text": [
      "Iteration No: 149 ended. Search finished for the next optimal point.\n",
      "Time taken: 5.8538\n",
      "Function value obtained: -0.1778\n",
      "Current minimum: -0.2212\n",
      "Iteration No: 150 started. Searching for the next optimal point.\n",
      "[120, 17, 'log2', 2, 3, True]\n",
      "Iteration No: 150 ended. Search finished for the next optimal point.\n",
      "Time taken: 3.9006\n",
      "Function value obtained: -0.0729\n",
      "Current minimum: -0.2212\n",
      "Iteration No: 151 started. Searching for the next optimal point.\n",
      "[1000, 10, 'log2', 2, 3, False]\n"
     ]
    },
    {
     "name": "stderr",
     "output_type": "stream",
     "text": [
      "/home/carcook/anaconda3/envs/TCGA-round1/lib/python3.8/site-packages/skopt/optimizer/optimizer.py:449: UserWarning: The objective has been evaluated at this point before.\n",
      "  warnings.warn(\"The objective has been evaluated \"\n"
     ]
    },
    {
     "name": "stdout",
     "output_type": "stream",
     "text": [
      "Iteration No: 151 ended. Search finished for the next optimal point.\n",
      "Time taken: 5.9952\n",
      "Function value obtained: -0.1608\n",
      "Current minimum: -0.2212\n",
      "Iteration No: 152 started. Searching for the next optimal point.\n",
      "[1000, 10, 'log2', 2, 3, False]\n"
     ]
    },
    {
     "name": "stderr",
     "output_type": "stream",
     "text": [
      "/home/carcook/anaconda3/envs/TCGA-round1/lib/python3.8/site-packages/skopt/optimizer/optimizer.py:449: UserWarning: The objective has been evaluated at this point before.\n",
      "  warnings.warn(\"The objective has been evaluated \"\n"
     ]
    },
    {
     "name": "stdout",
     "output_type": "stream",
     "text": [
      "Iteration No: 152 ended. Search finished for the next optimal point.\n",
      "Time taken: 5.8847\n",
      "Function value obtained: -0.1773\n",
      "Current minimum: -0.2212\n",
      "Iteration No: 153 started. Searching for the next optimal point.\n",
      "[1000, 10, 'log2', 2, 3, False]\n"
     ]
    },
    {
     "name": "stderr",
     "output_type": "stream",
     "text": [
      "/home/carcook/anaconda3/envs/TCGA-round1/lib/python3.8/site-packages/skopt/optimizer/optimizer.py:449: UserWarning: The objective has been evaluated at this point before.\n",
      "  warnings.warn(\"The objective has been evaluated \"\n"
     ]
    },
    {
     "name": "stdout",
     "output_type": "stream",
     "text": [
      "Iteration No: 153 ended. Search finished for the next optimal point.\n",
      "Time taken: 6.0185\n",
      "Function value obtained: -0.1798\n",
      "Current minimum: -0.2212\n",
      "Iteration No: 154 started. Searching for the next optimal point.\n",
      "[1000, 10, 'log2', 2, 3, False]\n"
     ]
    },
    {
     "name": "stderr",
     "output_type": "stream",
     "text": [
      "/home/carcook/anaconda3/envs/TCGA-round1/lib/python3.8/site-packages/skopt/optimizer/optimizer.py:449: UserWarning: The objective has been evaluated at this point before.\n",
      "  warnings.warn(\"The objective has been evaluated \"\n"
     ]
    },
    {
     "name": "stdout",
     "output_type": "stream",
     "text": [
      "Iteration No: 154 ended. Search finished for the next optimal point.\n",
      "Time taken: 5.3312\n",
      "Function value obtained: -0.1680\n",
      "Current minimum: -0.2212\n",
      "Iteration No: 155 started. Searching for the next optimal point.\n",
      "[998, 78, 'auto', 4, 1, True]\n",
      "Iteration No: 155 ended. Search finished for the next optimal point.\n",
      "Time taken: 10.1607\n",
      "Function value obtained: -0.0949\n",
      "Current minimum: -0.2212\n",
      "Iteration No: 156 started. Searching for the next optimal point.\n",
      "[1000, 10, 'log2', 2, 3, False]\n"
     ]
    },
    {
     "name": "stderr",
     "output_type": "stream",
     "text": [
      "/home/carcook/anaconda3/envs/TCGA-round1/lib/python3.8/site-packages/skopt/optimizer/optimizer.py:449: UserWarning: The objective has been evaluated at this point before.\n",
      "  warnings.warn(\"The objective has been evaluated \"\n"
     ]
    },
    {
     "name": "stdout",
     "output_type": "stream",
     "text": [
      "Iteration No: 156 ended. Search finished for the next optimal point.\n",
      "Time taken: 4.6303\n",
      "Function value obtained: -0.1760\n",
      "Current minimum: -0.2212\n",
      "Iteration No: 157 started. Searching for the next optimal point.\n",
      "[1000, 10, 'log2', 2, 3, False]\n"
     ]
    },
    {
     "name": "stderr",
     "output_type": "stream",
     "text": [
      "/home/carcook/anaconda3/envs/TCGA-round1/lib/python3.8/site-packages/skopt/optimizer/optimizer.py:449: UserWarning: The objective has been evaluated at this point before.\n",
      "  warnings.warn(\"The objective has been evaluated \"\n"
     ]
    },
    {
     "name": "stdout",
     "output_type": "stream",
     "text": [
      "Iteration No: 157 ended. Search finished for the next optimal point.\n",
      "Time taken: 5.0472\n",
      "Function value obtained: -0.1670\n",
      "Current minimum: -0.2212\n",
      "Iteration No: 158 started. Searching for the next optimal point.\n",
      "[1000, 10, 'log2', 2, 3, False]\n"
     ]
    },
    {
     "name": "stderr",
     "output_type": "stream",
     "text": [
      "/home/carcook/anaconda3/envs/TCGA-round1/lib/python3.8/site-packages/skopt/optimizer/optimizer.py:449: UserWarning: The objective has been evaluated at this point before.\n",
      "  warnings.warn(\"The objective has been evaluated \"\n"
     ]
    },
    {
     "name": "stdout",
     "output_type": "stream",
     "text": [
      "Iteration No: 158 ended. Search finished for the next optimal point.\n",
      "Time taken: 4.8994\n",
      "Function value obtained: -0.1563\n",
      "Current minimum: -0.2212\n",
      "Iteration No: 159 started. Searching for the next optimal point.\n",
      "[1000, 10, 'log2', 2, 3, False]\n"
     ]
    },
    {
     "name": "stderr",
     "output_type": "stream",
     "text": [
      "/home/carcook/anaconda3/envs/TCGA-round1/lib/python3.8/site-packages/skopt/optimizer/optimizer.py:449: UserWarning: The objective has been evaluated at this point before.\n",
      "  warnings.warn(\"The objective has been evaluated \"\n"
     ]
    },
    {
     "name": "stdout",
     "output_type": "stream",
     "text": [
      "Iteration No: 159 ended. Search finished for the next optimal point.\n",
      "Time taken: 5.3579\n",
      "Function value obtained: -0.1540\n",
      "Current minimum: -0.2212\n",
      "Iteration No: 160 started. Searching for the next optimal point.\n",
      "[1000, 10, 'log2', 2, 3, False]\n"
     ]
    },
    {
     "name": "stderr",
     "output_type": "stream",
     "text": [
      "/home/carcook/anaconda3/envs/TCGA-round1/lib/python3.8/site-packages/skopt/optimizer/optimizer.py:449: UserWarning: The objective has been evaluated at this point before.\n",
      "  warnings.warn(\"The objective has been evaluated \"\n"
     ]
    },
    {
     "name": "stdout",
     "output_type": "stream",
     "text": [
      "Iteration No: 160 ended. Search finished for the next optimal point.\n",
      "Time taken: 5.4501\n",
      "Function value obtained: -0.1759\n",
      "Current minimum: -0.2212\n",
      "Iteration No: 161 started. Searching for the next optimal point.\n",
      "[1000, 10, 'log2', 2, 3, False]\n"
     ]
    },
    {
     "name": "stderr",
     "output_type": "stream",
     "text": [
      "/home/carcook/anaconda3/envs/TCGA-round1/lib/python3.8/site-packages/skopt/optimizer/optimizer.py:449: UserWarning: The objective has been evaluated at this point before.\n",
      "  warnings.warn(\"The objective has been evaluated \"\n"
     ]
    },
    {
     "name": "stdout",
     "output_type": "stream",
     "text": [
      "Iteration No: 161 ended. Search finished for the next optimal point.\n",
      "Time taken: 5.4733\n",
      "Function value obtained: -0.1609\n",
      "Current minimum: -0.2212\n",
      "Iteration No: 162 started. Searching for the next optimal point.\n",
      "[1000, 10, 'log2', 2, 3, False]\n"
     ]
    },
    {
     "name": "stderr",
     "output_type": "stream",
     "text": [
      "/home/carcook/anaconda3/envs/TCGA-round1/lib/python3.8/site-packages/skopt/optimizer/optimizer.py:449: UserWarning: The objective has been evaluated at this point before.\n",
      "  warnings.warn(\"The objective has been evaluated \"\n"
     ]
    },
    {
     "name": "stdout",
     "output_type": "stream",
     "text": [
      "Iteration No: 162 ended. Search finished for the next optimal point.\n",
      "Time taken: 6.2530\n",
      "Function value obtained: -0.1528\n",
      "Current minimum: -0.2212\n",
      "Iteration No: 163 started. Searching for the next optimal point.\n",
      "[1000, 10, 'log2', 2, 3, False]\n"
     ]
    },
    {
     "name": "stderr",
     "output_type": "stream",
     "text": [
      "/home/carcook/anaconda3/envs/TCGA-round1/lib/python3.8/site-packages/skopt/optimizer/optimizer.py:449: UserWarning: The objective has been evaluated at this point before.\n",
      "  warnings.warn(\"The objective has been evaluated \"\n"
     ]
    },
    {
     "name": "stdout",
     "output_type": "stream",
     "text": [
      "Iteration No: 163 ended. Search finished for the next optimal point.\n",
      "Time taken: 5.8098\n",
      "Function value obtained: -0.1558\n",
      "Current minimum: -0.2212\n",
      "Iteration No: 164 started. Searching for the next optimal point.\n",
      "[1000, 10, 'log2', 2, 3, False]\n"
     ]
    },
    {
     "name": "stderr",
     "output_type": "stream",
     "text": [
      "/home/carcook/anaconda3/envs/TCGA-round1/lib/python3.8/site-packages/skopt/optimizer/optimizer.py:449: UserWarning: The objective has been evaluated at this point before.\n",
      "  warnings.warn(\"The objective has been evaluated \"\n"
     ]
    },
    {
     "name": "stdout",
     "output_type": "stream",
     "text": [
      "Iteration No: 164 ended. Search finished for the next optimal point.\n",
      "Time taken: 7.4901\n",
      "Function value obtained: -0.1671\n",
      "Current minimum: -0.2212\n",
      "Iteration No: 165 started. Searching for the next optimal point.\n",
      "[996, 23, 'log2', 4, 1, True]\n",
      "Iteration No: 165 ended. Search finished for the next optimal point.\n",
      "Time taken: 5.2789\n",
      "Function value obtained: -0.1049\n",
      "Current minimum: -0.2212\n",
      "Iteration No: 166 started. Searching for the next optimal point.\n",
      "[1000, 10, 'log2', 2, 3, False]\n"
     ]
    },
    {
     "name": "stderr",
     "output_type": "stream",
     "text": [
      "/home/carcook/anaconda3/envs/TCGA-round1/lib/python3.8/site-packages/skopt/optimizer/optimizer.py:449: UserWarning: The objective has been evaluated at this point before.\n",
      "  warnings.warn(\"The objective has been evaluated \"\n"
     ]
    },
    {
     "name": "stdout",
     "output_type": "stream",
     "text": [
      "Iteration No: 166 ended. Search finished for the next optimal point.\n",
      "Time taken: 5.0747\n",
      "Function value obtained: -0.1633\n",
      "Current minimum: -0.2212\n",
      "Iteration No: 167 started. Searching for the next optimal point.\n",
      "[106, 22, 'auto', 2, 3, True]\n",
      "Iteration No: 167 ended. Search finished for the next optimal point.\n",
      "Time taken: 4.9437\n",
      "Function value obtained: -0.0831\n",
      "Current minimum: -0.2212\n",
      "Iteration No: 168 started. Searching for the next optimal point.\n",
      "[1000, 10, 'log2', 2, 3, False]\n"
     ]
    },
    {
     "name": "stderr",
     "output_type": "stream",
     "text": [
      "/home/carcook/anaconda3/envs/TCGA-round1/lib/python3.8/site-packages/skopt/optimizer/optimizer.py:449: UserWarning: The objective has been evaluated at this point before.\n",
      "  warnings.warn(\"The objective has been evaluated \"\n"
     ]
    },
    {
     "name": "stdout",
     "output_type": "stream",
     "text": [
      "Iteration No: 168 ended. Search finished for the next optimal point.\n",
      "Time taken: 6.3119\n",
      "Function value obtained: -0.1553\n",
      "Current minimum: -0.2212\n",
      "Iteration No: 169 started. Searching for the next optimal point.\n",
      "[1000, 10, 'log2', 2, 3, False]\n"
     ]
    },
    {
     "name": "stderr",
     "output_type": "stream",
     "text": [
      "/home/carcook/anaconda3/envs/TCGA-round1/lib/python3.8/site-packages/skopt/optimizer/optimizer.py:449: UserWarning: The objective has been evaluated at this point before.\n",
      "  warnings.warn(\"The objective has been evaluated \"\n"
     ]
    },
    {
     "name": "stdout",
     "output_type": "stream",
     "text": [
      "Iteration No: 169 ended. Search finished for the next optimal point.\n",
      "Time taken: 5.6450\n",
      "Function value obtained: -0.1683\n",
      "Current minimum: -0.2212\n",
      "Iteration No: 170 started. Searching for the next optimal point.\n",
      "[987, 92, 'sqrt', 2, 3, True]\n",
      "Iteration No: 170 ended. Search finished for the next optimal point.\n",
      "Time taken: 6.4318\n",
      "Function value obtained: -0.1249\n",
      "Current minimum: -0.2212\n",
      "Iteration No: 171 started. Searching for the next optimal point.\n",
      "[1000, 10, 'log2', 2, 3, False]\n"
     ]
    },
    {
     "name": "stderr",
     "output_type": "stream",
     "text": [
      "/home/carcook/anaconda3/envs/TCGA-round1/lib/python3.8/site-packages/skopt/optimizer/optimizer.py:449: UserWarning: The objective has been evaluated at this point before.\n",
      "  warnings.warn(\"The objective has been evaluated \"\n"
     ]
    },
    {
     "name": "stdout",
     "output_type": "stream",
     "text": [
      "Iteration No: 171 ended. Search finished for the next optimal point.\n",
      "Time taken: 5.6564\n",
      "Function value obtained: -0.1692\n",
      "Current minimum: -0.2212\n",
      "Iteration No: 172 started. Searching for the next optimal point.\n",
      "[1000, 10, 'log2', 2, 3, False]\n"
     ]
    },
    {
     "name": "stderr",
     "output_type": "stream",
     "text": [
      "/home/carcook/anaconda3/envs/TCGA-round1/lib/python3.8/site-packages/skopt/optimizer/optimizer.py:449: UserWarning: The objective has been evaluated at this point before.\n",
      "  warnings.warn(\"The objective has been evaluated \"\n"
     ]
    },
    {
     "name": "stdout",
     "output_type": "stream",
     "text": [
      "Iteration No: 172 ended. Search finished for the next optimal point.\n",
      "Time taken: 7.2083\n",
      "Function value obtained: -0.1674\n",
      "Current minimum: -0.2212\n",
      "Iteration No: 173 started. Searching for the next optimal point.\n",
      "[1000, 10, 'log2', 2, 3, False]\n"
     ]
    },
    {
     "name": "stderr",
     "output_type": "stream",
     "text": [
      "/home/carcook/anaconda3/envs/TCGA-round1/lib/python3.8/site-packages/skopt/optimizer/optimizer.py:449: UserWarning: The objective has been evaluated at this point before.\n",
      "  warnings.warn(\"The objective has been evaluated \"\n"
     ]
    },
    {
     "name": "stdout",
     "output_type": "stream",
     "text": [
      "Iteration No: 173 ended. Search finished for the next optimal point.\n",
      "Time taken: 5.7873\n",
      "Function value obtained: -0.1513\n",
      "Current minimum: -0.2212\n",
      "Iteration No: 174 started. Searching for the next optimal point.\n",
      "[1000, 10, 'log2', 2, 3, False]\n"
     ]
    },
    {
     "name": "stderr",
     "output_type": "stream",
     "text": [
      "/home/carcook/anaconda3/envs/TCGA-round1/lib/python3.8/site-packages/skopt/optimizer/optimizer.py:449: UserWarning: The objective has been evaluated at this point before.\n",
      "  warnings.warn(\"The objective has been evaluated \"\n"
     ]
    },
    {
     "name": "stdout",
     "output_type": "stream",
     "text": [
      "Iteration No: 174 ended. Search finished for the next optimal point.\n",
      "Time taken: 6.4463\n",
      "Function value obtained: -0.1737\n",
      "Current minimum: -0.2212\n",
      "Iteration No: 175 started. Searching for the next optimal point.\n",
      "[1000, 10, 'log2', 2, 3, False]\n"
     ]
    },
    {
     "name": "stderr",
     "output_type": "stream",
     "text": [
      "/home/carcook/anaconda3/envs/TCGA-round1/lib/python3.8/site-packages/skopt/optimizer/optimizer.py:449: UserWarning: The objective has been evaluated at this point before.\n",
      "  warnings.warn(\"The objective has been evaluated \"\n"
     ]
    },
    {
     "name": "stdout",
     "output_type": "stream",
     "text": [
      "Iteration No: 175 ended. Search finished for the next optimal point.\n",
      "Time taken: 7.3141\n",
      "Function value obtained: -0.1485\n",
      "Current minimum: -0.2212\n",
      "Iteration No: 176 started. Searching for the next optimal point.\n",
      "[1000, 10, 'log2', 2, 3, False]\n"
     ]
    },
    {
     "name": "stderr",
     "output_type": "stream",
     "text": [
      "/home/carcook/anaconda3/envs/TCGA-round1/lib/python3.8/site-packages/skopt/optimizer/optimizer.py:449: UserWarning: The objective has been evaluated at this point before.\n",
      "  warnings.warn(\"The objective has been evaluated \"\n"
     ]
    },
    {
     "name": "stdout",
     "output_type": "stream",
     "text": [
      "Iteration No: 176 ended. Search finished for the next optimal point.\n",
      "Time taken: 6.3140\n",
      "Function value obtained: -0.1594\n",
      "Current minimum: -0.2212\n",
      "Iteration No: 177 started. Searching for the next optimal point.\n",
      "[1000, 10, 'log2', 2, 3, False]\n"
     ]
    },
    {
     "name": "stderr",
     "output_type": "stream",
     "text": [
      "/home/carcook/anaconda3/envs/TCGA-round1/lib/python3.8/site-packages/skopt/optimizer/optimizer.py:449: UserWarning: The objective has been evaluated at this point before.\n",
      "  warnings.warn(\"The objective has been evaluated \"\n"
     ]
    },
    {
     "name": "stdout",
     "output_type": "stream",
     "text": [
      "Iteration No: 177 ended. Search finished for the next optimal point.\n",
      "Time taken: 6.4902\n",
      "Function value obtained: -0.1755\n",
      "Current minimum: -0.2212\n",
      "Iteration No: 178 started. Searching for the next optimal point.\n",
      "[1000, 10, 'log2', 2, 3, False]\n"
     ]
    },
    {
     "name": "stderr",
     "output_type": "stream",
     "text": [
      "/home/carcook/anaconda3/envs/TCGA-round1/lib/python3.8/site-packages/skopt/optimizer/optimizer.py:449: UserWarning: The objective has been evaluated at this point before.\n",
      "  warnings.warn(\"The objective has been evaluated \"\n"
     ]
    },
    {
     "name": "stdout",
     "output_type": "stream",
     "text": [
      "Iteration No: 178 ended. Search finished for the next optimal point.\n",
      "Time taken: 6.6927\n",
      "Function value obtained: -0.1648\n",
      "Current minimum: -0.2212\n",
      "Iteration No: 179 started. Searching for the next optimal point.\n",
      "[1000, 10, 'log2', 2, 3, False]\n"
     ]
    },
    {
     "name": "stderr",
     "output_type": "stream",
     "text": [
      "/home/carcook/anaconda3/envs/TCGA-round1/lib/python3.8/site-packages/skopt/optimizer/optimizer.py:449: UserWarning: The objective has been evaluated at this point before.\n",
      "  warnings.warn(\"The objective has been evaluated \"\n"
     ]
    },
    {
     "name": "stdout",
     "output_type": "stream",
     "text": [
      "Iteration No: 179 ended. Search finished for the next optimal point.\n",
      "Time taken: 6.6354\n",
      "Function value obtained: -0.1609\n",
      "Current minimum: -0.2212\n",
      "Iteration No: 180 started. Searching for the next optimal point.\n",
      "[1000, 10, 'log2', 2, 3, False]\n"
     ]
    },
    {
     "name": "stderr",
     "output_type": "stream",
     "text": [
      "/home/carcook/anaconda3/envs/TCGA-round1/lib/python3.8/site-packages/skopt/optimizer/optimizer.py:449: UserWarning: The objective has been evaluated at this point before.\n",
      "  warnings.warn(\"The objective has been evaluated \"\n"
     ]
    },
    {
     "name": "stdout",
     "output_type": "stream",
     "text": [
      "Iteration No: 180 ended. Search finished for the next optimal point.\n",
      "Time taken: 5.8007\n",
      "Function value obtained: -0.1737\n",
      "Current minimum: -0.2212\n",
      "Iteration No: 181 started. Searching for the next optimal point.\n",
      "[1000, 10, 'log2', 2, 3, False]\n"
     ]
    },
    {
     "name": "stderr",
     "output_type": "stream",
     "text": [
      "/home/carcook/anaconda3/envs/TCGA-round1/lib/python3.8/site-packages/skopt/optimizer/optimizer.py:449: UserWarning: The objective has been evaluated at this point before.\n",
      "  warnings.warn(\"The objective has been evaluated \"\n"
     ]
    },
    {
     "name": "stdout",
     "output_type": "stream",
     "text": [
      "Iteration No: 181 ended. Search finished for the next optimal point.\n",
      "Time taken: 7.9690\n",
      "Function value obtained: -0.1455\n",
      "Current minimum: -0.2212\n",
      "Iteration No: 182 started. Searching for the next optimal point.\n",
      "[1000, 10, 'log2', 2, 3, False]\n"
     ]
    },
    {
     "name": "stderr",
     "output_type": "stream",
     "text": [
      "/home/carcook/anaconda3/envs/TCGA-round1/lib/python3.8/site-packages/skopt/optimizer/optimizer.py:449: UserWarning: The objective has been evaluated at this point before.\n",
      "  warnings.warn(\"The objective has been evaluated \"\n"
     ]
    },
    {
     "name": "stdout",
     "output_type": "stream",
     "text": [
      "Iteration No: 182 ended. Search finished for the next optimal point.\n",
      "Time taken: 7.4510\n",
      "Function value obtained: -0.1633\n",
      "Current minimum: -0.2212\n",
      "Iteration No: 183 started. Searching for the next optimal point.\n",
      "[1000, 10, 'log2', 2, 3, False]\n"
     ]
    },
    {
     "name": "stderr",
     "output_type": "stream",
     "text": [
      "/home/carcook/anaconda3/envs/TCGA-round1/lib/python3.8/site-packages/skopt/optimizer/optimizer.py:449: UserWarning: The objective has been evaluated at this point before.\n",
      "  warnings.warn(\"The objective has been evaluated \"\n"
     ]
    },
    {
     "name": "stdout",
     "output_type": "stream",
     "text": [
      "Iteration No: 183 ended. Search finished for the next optimal point.\n",
      "Time taken: 6.2691\n",
      "Function value obtained: -0.1562\n",
      "Current minimum: -0.2212\n",
      "Iteration No: 184 started. Searching for the next optimal point.\n",
      "[1000, 10, 'log2', 2, 3, False]\n"
     ]
    },
    {
     "name": "stderr",
     "output_type": "stream",
     "text": [
      "/home/carcook/anaconda3/envs/TCGA-round1/lib/python3.8/site-packages/skopt/optimizer/optimizer.py:449: UserWarning: The objective has been evaluated at this point before.\n",
      "  warnings.warn(\"The objective has been evaluated \"\n"
     ]
    },
    {
     "name": "stdout",
     "output_type": "stream",
     "text": [
      "Iteration No: 184 ended. Search finished for the next optimal point.\n",
      "Time taken: 7.0093\n",
      "Function value obtained: -0.1642\n",
      "Current minimum: -0.2212\n",
      "Iteration No: 185 started. Searching for the next optimal point.\n",
      "[1000, 10, 'log2', 2, 3, False]\n"
     ]
    },
    {
     "name": "stderr",
     "output_type": "stream",
     "text": [
      "/home/carcook/anaconda3/envs/TCGA-round1/lib/python3.8/site-packages/skopt/optimizer/optimizer.py:449: UserWarning: The objective has been evaluated at this point before.\n",
      "  warnings.warn(\"The objective has been evaluated \"\n"
     ]
    },
    {
     "name": "stdout",
     "output_type": "stream",
     "text": [
      "Iteration No: 185 ended. Search finished for the next optimal point.\n",
      "Time taken: 7.3850\n",
      "Function value obtained: -0.1609\n",
      "Current minimum: -0.2212\n",
      "Iteration No: 186 started. Searching for the next optimal point.\n",
      "[127, 98, 'log2', 4, 3, False]\n",
      "Iteration No: 186 ended. Search finished for the next optimal point.\n",
      "Time taken: 7.5026\n",
      "Function value obtained: -0.1429\n",
      "Current minimum: -0.2212\n",
      "Iteration No: 187 started. Searching for the next optimal point.\n",
      "[1000, 10, 'log2', 2, 3, False]\n"
     ]
    },
    {
     "name": "stderr",
     "output_type": "stream",
     "text": [
      "/home/carcook/anaconda3/envs/TCGA-round1/lib/python3.8/site-packages/skopt/optimizer/optimizer.py:449: UserWarning: The objective has been evaluated at this point before.\n",
      "  warnings.warn(\"The objective has been evaluated \"\n"
     ]
    },
    {
     "name": "stdout",
     "output_type": "stream",
     "text": [
      "Iteration No: 187 ended. Search finished for the next optimal point.\n",
      "Time taken: 6.6221\n",
      "Function value obtained: -0.1579\n",
      "Current minimum: -0.2212\n",
      "Iteration No: 188 started. Searching for the next optimal point.\n",
      "[1000, 10, 'log2', 2, 3, False]\n"
     ]
    },
    {
     "name": "stderr",
     "output_type": "stream",
     "text": [
      "/home/carcook/anaconda3/envs/TCGA-round1/lib/python3.8/site-packages/skopt/optimizer/optimizer.py:449: UserWarning: The objective has been evaluated at this point before.\n",
      "  warnings.warn(\"The objective has been evaluated \"\n"
     ]
    },
    {
     "name": "stdout",
     "output_type": "stream",
     "text": [
      "Iteration No: 188 ended. Search finished for the next optimal point.\n",
      "Time taken: 7.4528\n",
      "Function value obtained: -0.1579\n",
      "Current minimum: -0.2212\n",
      "Iteration No: 189 started. Searching for the next optimal point.\n",
      "[1000, 10, 'log2', 2, 3, False]\n"
     ]
    },
    {
     "name": "stderr",
     "output_type": "stream",
     "text": [
      "/home/carcook/anaconda3/envs/TCGA-round1/lib/python3.8/site-packages/skopt/optimizer/optimizer.py:449: UserWarning: The objective has been evaluated at this point before.\n",
      "  warnings.warn(\"The objective has been evaluated \"\n"
     ]
    },
    {
     "name": "stdout",
     "output_type": "stream",
     "text": [
      "Iteration No: 189 ended. Search finished for the next optimal point.\n",
      "Time taken: 7.6245\n",
      "Function value obtained: -0.1740\n",
      "Current minimum: -0.2212\n",
      "Iteration No: 190 started. Searching for the next optimal point.\n",
      "[1000, 10, 'log2', 2, 3, False]\n"
     ]
    },
    {
     "name": "stderr",
     "output_type": "stream",
     "text": [
      "/home/carcook/anaconda3/envs/TCGA-round1/lib/python3.8/site-packages/skopt/optimizer/optimizer.py:449: UserWarning: The objective has been evaluated at this point before.\n",
      "  warnings.warn(\"The objective has been evaluated \"\n"
     ]
    },
    {
     "name": "stdout",
     "output_type": "stream",
     "text": [
      "Iteration No: 190 ended. Search finished for the next optimal point.\n",
      "Time taken: 7.8097\n",
      "Function value obtained: -0.1658\n",
      "Current minimum: -0.2212\n",
      "Iteration No: 191 started. Searching for the next optimal point.\n",
      "[1000, 10, 'log2', 2, 3, False]\n"
     ]
    },
    {
     "name": "stderr",
     "output_type": "stream",
     "text": [
      "/home/carcook/anaconda3/envs/TCGA-round1/lib/python3.8/site-packages/skopt/optimizer/optimizer.py:449: UserWarning: The objective has been evaluated at this point before.\n",
      "  warnings.warn(\"The objective has been evaluated \"\n"
     ]
    },
    {
     "name": "stdout",
     "output_type": "stream",
     "text": [
      "Iteration No: 191 ended. Search finished for the next optimal point.\n",
      "Time taken: 7.4775\n",
      "Function value obtained: -0.1544\n",
      "Current minimum: -0.2212\n",
      "Iteration No: 192 started. Searching for the next optimal point.\n",
      "[1000, 10, 'log2', 2, 3, False]\n"
     ]
    },
    {
     "name": "stderr",
     "output_type": "stream",
     "text": [
      "/home/carcook/anaconda3/envs/TCGA-round1/lib/python3.8/site-packages/skopt/optimizer/optimizer.py:449: UserWarning: The objective has been evaluated at this point before.\n",
      "  warnings.warn(\"The objective has been evaluated \"\n"
     ]
    },
    {
     "name": "stdout",
     "output_type": "stream",
     "text": [
      "Iteration No: 192 ended. Search finished for the next optimal point.\n",
      "Time taken: 8.1187\n",
      "Function value obtained: -0.1563\n",
      "Current minimum: -0.2212\n",
      "Iteration No: 193 started. Searching for the next optimal point.\n",
      "[1000, 10, 'log2', 2, 3, False]\n"
     ]
    },
    {
     "name": "stderr",
     "output_type": "stream",
     "text": [
      "/home/carcook/anaconda3/envs/TCGA-round1/lib/python3.8/site-packages/skopt/optimizer/optimizer.py:449: UserWarning: The objective has been evaluated at this point before.\n",
      "  warnings.warn(\"The objective has been evaluated \"\n"
     ]
    },
    {
     "name": "stdout",
     "output_type": "stream",
     "text": [
      "Iteration No: 193 ended. Search finished for the next optimal point.\n",
      "Time taken: 10.1560\n",
      "Function value obtained: -0.1615\n",
      "Current minimum: -0.2212\n",
      "Iteration No: 194 started. Searching for the next optimal point.\n",
      "[1000, 10, 'log2', 2, 3, False]\n"
     ]
    },
    {
     "name": "stderr",
     "output_type": "stream",
     "text": [
      "/home/carcook/anaconda3/envs/TCGA-round1/lib/python3.8/site-packages/skopt/optimizer/optimizer.py:449: UserWarning: The objective has been evaluated at this point before.\n",
      "  warnings.warn(\"The objective has been evaluated \"\n"
     ]
    },
    {
     "name": "stdout",
     "output_type": "stream",
     "text": [
      "Iteration No: 194 ended. Search finished for the next optimal point.\n",
      "Time taken: 8.2191\n",
      "Function value obtained: -0.1561\n",
      "Current minimum: -0.2212\n",
      "Iteration No: 195 started. Searching for the next optimal point.\n",
      "[1000, 10, 'log2', 2, 3, False]\n"
     ]
    },
    {
     "name": "stderr",
     "output_type": "stream",
     "text": [
      "/home/carcook/anaconda3/envs/TCGA-round1/lib/python3.8/site-packages/skopt/optimizer/optimizer.py:449: UserWarning: The objective has been evaluated at this point before.\n",
      "  warnings.warn(\"The objective has been evaluated \"\n"
     ]
    },
    {
     "name": "stdout",
     "output_type": "stream",
     "text": [
      "Iteration No: 195 ended. Search finished for the next optimal point.\n",
      "Time taken: 6.8833\n",
      "Function value obtained: -0.1405\n",
      "Current minimum: -0.2212\n",
      "Iteration No: 196 started. Searching for the next optimal point.\n",
      "[1000, 10, 'log2', 2, 3, False]\n"
     ]
    },
    {
     "name": "stderr",
     "output_type": "stream",
     "text": [
      "/home/carcook/anaconda3/envs/TCGA-round1/lib/python3.8/site-packages/skopt/optimizer/optimizer.py:449: UserWarning: The objective has been evaluated at this point before.\n",
      "  warnings.warn(\"The objective has been evaluated \"\n"
     ]
    },
    {
     "name": "stdout",
     "output_type": "stream",
     "text": [
      "Iteration No: 196 ended. Search finished for the next optimal point.\n",
      "Time taken: 8.3690\n",
      "Function value obtained: -0.1588\n",
      "Current minimum: -0.2212\n",
      "Iteration No: 197 started. Searching for the next optimal point.\n",
      "[1000, 10, 'log2', 2, 3, False]\n"
     ]
    },
    {
     "name": "stderr",
     "output_type": "stream",
     "text": [
      "/home/carcook/anaconda3/envs/TCGA-round1/lib/python3.8/site-packages/skopt/optimizer/optimizer.py:449: UserWarning: The objective has been evaluated at this point before.\n",
      "  warnings.warn(\"The objective has been evaluated \"\n"
     ]
    },
    {
     "name": "stdout",
     "output_type": "stream",
     "text": [
      "Iteration No: 197 ended. Search finished for the next optimal point.\n",
      "Time taken: 7.2115\n",
      "Function value obtained: -0.1626\n",
      "Current minimum: -0.2212\n",
      "Iteration No: 198 started. Searching for the next optimal point.\n",
      "[1000, 10, 'log2', 2, 3, False]\n"
     ]
    },
    {
     "name": "stderr",
     "output_type": "stream",
     "text": [
      "/home/carcook/anaconda3/envs/TCGA-round1/lib/python3.8/site-packages/skopt/optimizer/optimizer.py:449: UserWarning: The objective has been evaluated at this point before.\n",
      "  warnings.warn(\"The objective has been evaluated \"\n"
     ]
    },
    {
     "name": "stdout",
     "output_type": "stream",
     "text": [
      "Iteration No: 198 ended. Search finished for the next optimal point.\n",
      "Time taken: 7.9311\n",
      "Function value obtained: -0.1760\n",
      "Current minimum: -0.2212\n",
      "Iteration No: 199 started. Searching for the next optimal point.\n",
      "[1000, 10, 'log2', 2, 3, False]\n"
     ]
    },
    {
     "name": "stderr",
     "output_type": "stream",
     "text": [
      "/home/carcook/anaconda3/envs/TCGA-round1/lib/python3.8/site-packages/skopt/optimizer/optimizer.py:449: UserWarning: The objective has been evaluated at this point before.\n",
      "  warnings.warn(\"The objective has been evaluated \"\n"
     ]
    },
    {
     "name": "stdout",
     "output_type": "stream",
     "text": [
      "Iteration No: 199 ended. Search finished for the next optimal point.\n",
      "Time taken: 8.3233\n",
      "Function value obtained: -0.1649\n",
      "Current minimum: -0.2212\n",
      "Iteration No: 200 started. Searching for the next optimal point.\n",
      "[1000, 10, 'log2', 2, 3, False]\n"
     ]
    },
    {
     "name": "stderr",
     "output_type": "stream",
     "text": [
      "/home/carcook/anaconda3/envs/TCGA-round1/lib/python3.8/site-packages/skopt/optimizer/optimizer.py:449: UserWarning: The objective has been evaluated at this point before.\n",
      "  warnings.warn(\"The objective has been evaluated \"\n"
     ]
    },
    {
     "name": "stdout",
     "output_type": "stream",
     "text": [
      "Iteration No: 200 ended. Search finished for the next optimal point.\n",
      "Time taken: 8.0238\n",
      "Function value obtained: -0.1576\n",
      "Current minimum: -0.2212\n",
      "Iteration No: 201 started. Searching for the next optimal point.\n",
      "[1000, 10, 'log2', 2, 3, False]\n"
     ]
    },
    {
     "name": "stderr",
     "output_type": "stream",
     "text": [
      "/home/carcook/anaconda3/envs/TCGA-round1/lib/python3.8/site-packages/skopt/optimizer/optimizer.py:449: UserWarning: The objective has been evaluated at this point before.\n",
      "  warnings.warn(\"The objective has been evaluated \"\n"
     ]
    },
    {
     "name": "stdout",
     "output_type": "stream",
     "text": [
      "Iteration No: 201 ended. Search finished for the next optimal point.\n",
      "Time taken: 9.2114\n",
      "Function value obtained: -0.1563\n",
      "Current minimum: -0.2212\n",
      "Iteration No: 202 started. Searching for the next optimal point.\n",
      "[1000, 10, 'log2', 2, 3, False]\n"
     ]
    },
    {
     "name": "stderr",
     "output_type": "stream",
     "text": [
      "/home/carcook/anaconda3/envs/TCGA-round1/lib/python3.8/site-packages/skopt/optimizer/optimizer.py:449: UserWarning: The objective has been evaluated at this point before.\n",
      "  warnings.warn(\"The objective has been evaluated \"\n"
     ]
    },
    {
     "name": "stdout",
     "output_type": "stream",
     "text": [
      "Iteration No: 202 ended. Search finished for the next optimal point.\n",
      "Time taken: 6.9150\n",
      "Function value obtained: -0.1638\n",
      "Current minimum: -0.2212\n",
      "Iteration No: 203 started. Searching for the next optimal point.\n",
      "[1000, 10, 'log2', 2, 3, False]\n"
     ]
    },
    {
     "name": "stderr",
     "output_type": "stream",
     "text": [
      "/home/carcook/anaconda3/envs/TCGA-round1/lib/python3.8/site-packages/skopt/optimizer/optimizer.py:449: UserWarning: The objective has been evaluated at this point before.\n",
      "  warnings.warn(\"The objective has been evaluated \"\n"
     ]
    },
    {
     "name": "stdout",
     "output_type": "stream",
     "text": [
      "Iteration No: 203 ended. Search finished for the next optimal point.\n",
      "Time taken: 8.7251\n",
      "Function value obtained: -0.1248\n",
      "Current minimum: -0.2212\n",
      "Iteration No: 204 started. Searching for the next optimal point.\n",
      "[1000, 10, 'log2', 2, 3, False]\n"
     ]
    },
    {
     "name": "stderr",
     "output_type": "stream",
     "text": [
      "/home/carcook/anaconda3/envs/TCGA-round1/lib/python3.8/site-packages/skopt/optimizer/optimizer.py:449: UserWarning: The objective has been evaluated at this point before.\n",
      "  warnings.warn(\"The objective has been evaluated \"\n"
     ]
    },
    {
     "name": "stdout",
     "output_type": "stream",
     "text": [
      "Iteration No: 204 ended. Search finished for the next optimal point.\n",
      "Time taken: 8.4980\n",
      "Function value obtained: -0.1712\n",
      "Current minimum: -0.2212\n",
      "Iteration No: 205 started. Searching for the next optimal point.\n",
      "[1000, 10, 'log2', 2, 3, False]\n"
     ]
    },
    {
     "name": "stderr",
     "output_type": "stream",
     "text": [
      "/home/carcook/anaconda3/envs/TCGA-round1/lib/python3.8/site-packages/skopt/optimizer/optimizer.py:449: UserWarning: The objective has been evaluated at this point before.\n",
      "  warnings.warn(\"The objective has been evaluated \"\n"
     ]
    },
    {
     "name": "stdout",
     "output_type": "stream",
     "text": [
      "Iteration No: 205 ended. Search finished for the next optimal point.\n",
      "Time taken: 7.2927\n",
      "Function value obtained: -0.1643\n",
      "Current minimum: -0.2212\n",
      "Iteration No: 206 started. Searching for the next optimal point.\n",
      "[1000, 10, 'log2', 2, 3, False]\n"
     ]
    },
    {
     "name": "stderr",
     "output_type": "stream",
     "text": [
      "/home/carcook/anaconda3/envs/TCGA-round1/lib/python3.8/site-packages/skopt/optimizer/optimizer.py:449: UserWarning: The objective has been evaluated at this point before.\n",
      "  warnings.warn(\"The objective has been evaluated \"\n"
     ]
    },
    {
     "name": "stdout",
     "output_type": "stream",
     "text": [
      "Iteration No: 206 ended. Search finished for the next optimal point.\n",
      "Time taken: 8.3312\n",
      "Function value obtained: -0.1892\n",
      "Current minimum: -0.2212\n",
      "Iteration No: 207 started. Searching for the next optimal point.\n",
      "[1000, 10, 'log2', 2, 3, False]\n"
     ]
    },
    {
     "name": "stderr",
     "output_type": "stream",
     "text": [
      "/home/carcook/anaconda3/envs/TCGA-round1/lib/python3.8/site-packages/skopt/optimizer/optimizer.py:449: UserWarning: The objective has been evaluated at this point before.\n",
      "  warnings.warn(\"The objective has been evaluated \"\n"
     ]
    },
    {
     "name": "stdout",
     "output_type": "stream",
     "text": [
      "Iteration No: 207 ended. Search finished for the next optimal point.\n",
      "Time taken: 8.0723\n",
      "Function value obtained: -0.1780\n",
      "Current minimum: -0.2212\n",
      "Iteration No: 208 started. Searching for the next optimal point.\n",
      "[1000, 10, 'log2', 2, 3, False]\n"
     ]
    },
    {
     "name": "stderr",
     "output_type": "stream",
     "text": [
      "/home/carcook/anaconda3/envs/TCGA-round1/lib/python3.8/site-packages/skopt/optimizer/optimizer.py:449: UserWarning: The objective has been evaluated at this point before.\n",
      "  warnings.warn(\"The objective has been evaluated \"\n"
     ]
    },
    {
     "name": "stdout",
     "output_type": "stream",
     "text": [
      "Iteration No: 208 ended. Search finished for the next optimal point.\n",
      "Time taken: 7.4239\n",
      "Function value obtained: -0.1327\n",
      "Current minimum: -0.2212\n",
      "Iteration No: 209 started. Searching for the next optimal point.\n",
      "[1000, 10, 'log2', 2, 3, False]\n"
     ]
    },
    {
     "name": "stderr",
     "output_type": "stream",
     "text": [
      "/home/carcook/anaconda3/envs/TCGA-round1/lib/python3.8/site-packages/skopt/optimizer/optimizer.py:449: UserWarning: The objective has been evaluated at this point before.\n",
      "  warnings.warn(\"The objective has been evaluated \"\n"
     ]
    },
    {
     "name": "stdout",
     "output_type": "stream",
     "text": [
      "Iteration No: 209 ended. Search finished for the next optimal point.\n",
      "Time taken: 8.5787\n",
      "Function value obtained: -0.1571\n",
      "Current minimum: -0.2212\n",
      "Iteration No: 210 started. Searching for the next optimal point.\n",
      "[1000, 10, 'log2', 2, 3, False]\n"
     ]
    },
    {
     "name": "stderr",
     "output_type": "stream",
     "text": [
      "/home/carcook/anaconda3/envs/TCGA-round1/lib/python3.8/site-packages/skopt/optimizer/optimizer.py:449: UserWarning: The objective has been evaluated at this point before.\n",
      "  warnings.warn(\"The objective has been evaluated \"\n"
     ]
    },
    {
     "name": "stdout",
     "output_type": "stream",
     "text": [
      "Iteration No: 210 ended. Search finished for the next optimal point.\n",
      "Time taken: 10.3176\n",
      "Function value obtained: -0.1652\n",
      "Current minimum: -0.2212\n",
      "Iteration No: 211 started. Searching for the next optimal point.\n",
      "[1000, 10, 'log2', 2, 3, False]\n"
     ]
    },
    {
     "name": "stderr",
     "output_type": "stream",
     "text": [
      "/home/carcook/anaconda3/envs/TCGA-round1/lib/python3.8/site-packages/skopt/optimizer/optimizer.py:449: UserWarning: The objective has been evaluated at this point before.\n",
      "  warnings.warn(\"The objective has been evaluated \"\n"
     ]
    },
    {
     "name": "stdout",
     "output_type": "stream",
     "text": [
      "Iteration No: 211 ended. Search finished for the next optimal point.\n",
      "Time taken: 7.9628\n",
      "Function value obtained: -0.1802\n",
      "Current minimum: -0.2212\n",
      "Iteration No: 212 started. Searching for the next optimal point.\n",
      "[1000, 10, 'log2', 2, 3, False]\n"
     ]
    },
    {
     "name": "stderr",
     "output_type": "stream",
     "text": [
      "/home/carcook/anaconda3/envs/TCGA-round1/lib/python3.8/site-packages/skopt/optimizer/optimizer.py:449: UserWarning: The objective has been evaluated at this point before.\n",
      "  warnings.warn(\"The objective has been evaluated \"\n"
     ]
    },
    {
     "name": "stdout",
     "output_type": "stream",
     "text": [
      "Iteration No: 212 ended. Search finished for the next optimal point.\n",
      "Time taken: 7.0277\n",
      "Function value obtained: -0.1621\n",
      "Current minimum: -0.2212\n",
      "Iteration No: 213 started. Searching for the next optimal point.\n",
      "[1000, 10, 'log2', 2, 3, False]\n"
     ]
    },
    {
     "name": "stderr",
     "output_type": "stream",
     "text": [
      "/home/carcook/anaconda3/envs/TCGA-round1/lib/python3.8/site-packages/skopt/optimizer/optimizer.py:449: UserWarning: The objective has been evaluated at this point before.\n",
      "  warnings.warn(\"The objective has been evaluated \"\n"
     ]
    },
    {
     "name": "stdout",
     "output_type": "stream",
     "text": [
      "Iteration No: 213 ended. Search finished for the next optimal point.\n",
      "Time taken: 7.5571\n",
      "Function value obtained: -0.1660\n",
      "Current minimum: -0.2212\n",
      "Iteration No: 214 started. Searching for the next optimal point.\n",
      "[1000, 10, 'log2', 2, 3, False]\n"
     ]
    },
    {
     "name": "stderr",
     "output_type": "stream",
     "text": [
      "/home/carcook/anaconda3/envs/TCGA-round1/lib/python3.8/site-packages/skopt/optimizer/optimizer.py:449: UserWarning: The objective has been evaluated at this point before.\n",
      "  warnings.warn(\"The objective has been evaluated \"\n"
     ]
    },
    {
     "name": "stdout",
     "output_type": "stream",
     "text": [
      "Iteration No: 214 ended. Search finished for the next optimal point.\n",
      "Time taken: 9.4848\n",
      "Function value obtained: -0.1669\n",
      "Current minimum: -0.2212\n",
      "Iteration No: 215 started. Searching for the next optimal point.\n",
      "[1000, 10, 'log2', 2, 3, False]\n"
     ]
    },
    {
     "name": "stderr",
     "output_type": "stream",
     "text": [
      "/home/carcook/anaconda3/envs/TCGA-round1/lib/python3.8/site-packages/skopt/optimizer/optimizer.py:449: UserWarning: The objective has been evaluated at this point before.\n",
      "  warnings.warn(\"The objective has been evaluated \"\n"
     ]
    },
    {
     "name": "stdout",
     "output_type": "stream",
     "text": [
      "Iteration No: 215 ended. Search finished for the next optimal point.\n",
      "Time taken: 9.0218\n",
      "Function value obtained: -0.1657\n",
      "Current minimum: -0.2212\n",
      "Iteration No: 216 started. Searching for the next optimal point.\n",
      "[1000, 10, 'log2', 2, 3, False]\n"
     ]
    },
    {
     "name": "stderr",
     "output_type": "stream",
     "text": [
      "/home/carcook/anaconda3/envs/TCGA-round1/lib/python3.8/site-packages/skopt/optimizer/optimizer.py:449: UserWarning: The objective has been evaluated at this point before.\n",
      "  warnings.warn(\"The objective has been evaluated \"\n"
     ]
    },
    {
     "name": "stdout",
     "output_type": "stream",
     "text": [
      "Iteration No: 216 ended. Search finished for the next optimal point.\n",
      "Time taken: 9.8427\n",
      "Function value obtained: -0.1640\n",
      "Current minimum: -0.2212\n",
      "Iteration No: 217 started. Searching for the next optimal point.\n",
      "[1000, 10, 'log2', 2, 3, False]\n"
     ]
    },
    {
     "name": "stderr",
     "output_type": "stream",
     "text": [
      "/home/carcook/anaconda3/envs/TCGA-round1/lib/python3.8/site-packages/skopt/optimizer/optimizer.py:449: UserWarning: The objective has been evaluated at this point before.\n",
      "  warnings.warn(\"The objective has been evaluated \"\n"
     ]
    },
    {
     "name": "stdout",
     "output_type": "stream",
     "text": [
      "Iteration No: 217 ended. Search finished for the next optimal point.\n",
      "Time taken: 8.0175\n",
      "Function value obtained: -0.1583\n",
      "Current minimum: -0.2212\n",
      "Iteration No: 218 started. Searching for the next optimal point.\n",
      "[1000, 10, 'log2', 2, 3, False]\n"
     ]
    },
    {
     "name": "stderr",
     "output_type": "stream",
     "text": [
      "/home/carcook/anaconda3/envs/TCGA-round1/lib/python3.8/site-packages/skopt/optimizer/optimizer.py:449: UserWarning: The objective has been evaluated at this point before.\n",
      "  warnings.warn(\"The objective has been evaluated \"\n"
     ]
    },
    {
     "name": "stdout",
     "output_type": "stream",
     "text": [
      "Iteration No: 218 ended. Search finished for the next optimal point.\n",
      "Time taken: 7.0259\n",
      "Function value obtained: -0.1536\n",
      "Current minimum: -0.2212\n",
      "Iteration No: 219 started. Searching for the next optimal point.\n",
      "[1000, 10, 'log2', 2, 3, False]\n"
     ]
    },
    {
     "name": "stderr",
     "output_type": "stream",
     "text": [
      "/home/carcook/anaconda3/envs/TCGA-round1/lib/python3.8/site-packages/skopt/optimizer/optimizer.py:449: UserWarning: The objective has been evaluated at this point before.\n",
      "  warnings.warn(\"The objective has been evaluated \"\n"
     ]
    },
    {
     "name": "stdout",
     "output_type": "stream",
     "text": [
      "Iteration No: 219 ended. Search finished for the next optimal point.\n",
      "Time taken: 7.3728\n",
      "Function value obtained: -0.1663\n",
      "Current minimum: -0.2212\n",
      "Iteration No: 220 started. Searching for the next optimal point.\n",
      "[1000, 10, 'log2', 2, 3, False]\n"
     ]
    },
    {
     "name": "stderr",
     "output_type": "stream",
     "text": [
      "/home/carcook/anaconda3/envs/TCGA-round1/lib/python3.8/site-packages/skopt/optimizer/optimizer.py:449: UserWarning: The objective has been evaluated at this point before.\n",
      "  warnings.warn(\"The objective has been evaluated \"\n"
     ]
    },
    {
     "name": "stdout",
     "output_type": "stream",
     "text": [
      "Iteration No: 220 ended. Search finished for the next optimal point.\n",
      "Time taken: 8.3978\n",
      "Function value obtained: -0.1421\n",
      "Current minimum: -0.2212\n",
      "Iteration No: 221 started. Searching for the next optimal point.\n",
      "[1000, 10, 'log2', 2, 3, False]\n"
     ]
    },
    {
     "name": "stderr",
     "output_type": "stream",
     "text": [
      "/home/carcook/anaconda3/envs/TCGA-round1/lib/python3.8/site-packages/skopt/optimizer/optimizer.py:449: UserWarning: The objective has been evaluated at this point before.\n",
      "  warnings.warn(\"The objective has been evaluated \"\n"
     ]
    },
    {
     "name": "stdout",
     "output_type": "stream",
     "text": [
      "Iteration No: 221 ended. Search finished for the next optimal point.\n",
      "Time taken: 8.2574\n",
      "Function value obtained: -0.1592\n",
      "Current minimum: -0.2212\n",
      "Iteration No: 222 started. Searching for the next optimal point.\n",
      "[1000, 10, 'log2', 2, 3, False]\n"
     ]
    },
    {
     "name": "stderr",
     "output_type": "stream",
     "text": [
      "/home/carcook/anaconda3/envs/TCGA-round1/lib/python3.8/site-packages/skopt/optimizer/optimizer.py:449: UserWarning: The objective has been evaluated at this point before.\n",
      "  warnings.warn(\"The objective has been evaluated \"\n"
     ]
    },
    {
     "name": "stdout",
     "output_type": "stream",
     "text": [
      "Iteration No: 222 ended. Search finished for the next optimal point.\n",
      "Time taken: 8.4833\n",
      "Function value obtained: -0.1500\n",
      "Current minimum: -0.2212\n",
      "Iteration No: 223 started. Searching for the next optimal point.\n",
      "[1000, 10, 'log2', 2, 3, False]\n"
     ]
    },
    {
     "name": "stderr",
     "output_type": "stream",
     "text": [
      "/home/carcook/anaconda3/envs/TCGA-round1/lib/python3.8/site-packages/skopt/optimizer/optimizer.py:449: UserWarning: The objective has been evaluated at this point before.\n",
      "  warnings.warn(\"The objective has been evaluated \"\n"
     ]
    },
    {
     "name": "stdout",
     "output_type": "stream",
     "text": [
      "Iteration No: 223 ended. Search finished for the next optimal point.\n",
      "Time taken: 8.8759\n",
      "Function value obtained: -0.1523\n",
      "Current minimum: -0.2212\n",
      "Iteration No: 224 started. Searching for the next optimal point.\n",
      "[1000, 10, 'log2', 2, 3, False]\n"
     ]
    },
    {
     "name": "stderr",
     "output_type": "stream",
     "text": [
      "/home/carcook/anaconda3/envs/TCGA-round1/lib/python3.8/site-packages/skopt/optimizer/optimizer.py:449: UserWarning: The objective has been evaluated at this point before.\n",
      "  warnings.warn(\"The objective has been evaluated \"\n"
     ]
    },
    {
     "name": "stdout",
     "output_type": "stream",
     "text": [
      "Iteration No: 224 ended. Search finished for the next optimal point.\n",
      "Time taken: 8.6269\n",
      "Function value obtained: -0.1463\n",
      "Current minimum: -0.2212\n",
      "Iteration No: 225 started. Searching for the next optimal point.\n",
      "[1000, 10, 'log2', 2, 3, False]\n"
     ]
    },
    {
     "name": "stderr",
     "output_type": "stream",
     "text": [
      "/home/carcook/anaconda3/envs/TCGA-round1/lib/python3.8/site-packages/skopt/optimizer/optimizer.py:449: UserWarning: The objective has been evaluated at this point before.\n",
      "  warnings.warn(\"The objective has been evaluated \"\n"
     ]
    },
    {
     "name": "stdout",
     "output_type": "stream",
     "text": [
      "Iteration No: 225 ended. Search finished for the next optimal point.\n",
      "Time taken: 9.5923\n",
      "Function value obtained: -0.1498\n",
      "Current minimum: -0.2212\n",
      "Iteration No: 226 started. Searching for the next optimal point.\n",
      "[1000, 10, 'log2', 2, 3, False]\n"
     ]
    },
    {
     "name": "stderr",
     "output_type": "stream",
     "text": [
      "/home/carcook/anaconda3/envs/TCGA-round1/lib/python3.8/site-packages/skopt/optimizer/optimizer.py:449: UserWarning: The objective has been evaluated at this point before.\n",
      "  warnings.warn(\"The objective has been evaluated \"\n"
     ]
    },
    {
     "name": "stdout",
     "output_type": "stream",
     "text": [
      "Iteration No: 226 ended. Search finished for the next optimal point.\n",
      "Time taken: 8.8285\n",
      "Function value obtained: -0.1549\n",
      "Current minimum: -0.2212\n",
      "Iteration No: 227 started. Searching for the next optimal point.\n",
      "[1000, 10, 'log2', 2, 3, False]\n"
     ]
    },
    {
     "name": "stderr",
     "output_type": "stream",
     "text": [
      "/home/carcook/anaconda3/envs/TCGA-round1/lib/python3.8/site-packages/skopt/optimizer/optimizer.py:449: UserWarning: The objective has been evaluated at this point before.\n",
      "  warnings.warn(\"The objective has been evaluated \"\n"
     ]
    },
    {
     "name": "stdout",
     "output_type": "stream",
     "text": [
      "Iteration No: 227 ended. Search finished for the next optimal point.\n",
      "Time taken: 8.7927\n",
      "Function value obtained: -0.1581\n",
      "Current minimum: -0.2212\n",
      "Iteration No: 228 started. Searching for the next optimal point.\n",
      "[1000, 10, 'log2', 2, 3, False]\n"
     ]
    },
    {
     "name": "stderr",
     "output_type": "stream",
     "text": [
      "/home/carcook/anaconda3/envs/TCGA-round1/lib/python3.8/site-packages/skopt/optimizer/optimizer.py:449: UserWarning: The objective has been evaluated at this point before.\n",
      "  warnings.warn(\"The objective has been evaluated \"\n"
     ]
    },
    {
     "name": "stdout",
     "output_type": "stream",
     "text": [
      "Iteration No: 228 ended. Search finished for the next optimal point.\n",
      "Time taken: 8.8111\n",
      "Function value obtained: -0.1712\n",
      "Current minimum: -0.2212\n",
      "Iteration No: 229 started. Searching for the next optimal point.\n",
      "[1000, 10, 'log2', 2, 3, False]\n"
     ]
    },
    {
     "name": "stderr",
     "output_type": "stream",
     "text": [
      "/home/carcook/anaconda3/envs/TCGA-round1/lib/python3.8/site-packages/skopt/optimizer/optimizer.py:449: UserWarning: The objective has been evaluated at this point before.\n",
      "  warnings.warn(\"The objective has been evaluated \"\n"
     ]
    },
    {
     "name": "stdout",
     "output_type": "stream",
     "text": [
      "Iteration No: 229 ended. Search finished for the next optimal point.\n",
      "Time taken: 6.8783\n",
      "Function value obtained: -0.1567\n",
      "Current minimum: -0.2212\n",
      "Iteration No: 230 started. Searching for the next optimal point.\n",
      "[1000, 10, 'log2', 2, 3, False]\n"
     ]
    },
    {
     "name": "stderr",
     "output_type": "stream",
     "text": [
      "/home/carcook/anaconda3/envs/TCGA-round1/lib/python3.8/site-packages/skopt/optimizer/optimizer.py:449: UserWarning: The objective has been evaluated at this point before.\n",
      "  warnings.warn(\"The objective has been evaluated \"\n"
     ]
    },
    {
     "name": "stdout",
     "output_type": "stream",
     "text": [
      "Iteration No: 230 ended. Search finished for the next optimal point.\n",
      "Time taken: 10.1970\n",
      "Function value obtained: -0.1598\n",
      "Current minimum: -0.2212\n",
      "Iteration No: 231 started. Searching for the next optimal point.\n",
      "[1000, 10, 'log2', 2, 3, False]\n"
     ]
    },
    {
     "name": "stderr",
     "output_type": "stream",
     "text": [
      "/home/carcook/anaconda3/envs/TCGA-round1/lib/python3.8/site-packages/skopt/optimizer/optimizer.py:449: UserWarning: The objective has been evaluated at this point before.\n",
      "  warnings.warn(\"The objective has been evaluated \"\n"
     ]
    },
    {
     "name": "stdout",
     "output_type": "stream",
     "text": [
      "Iteration No: 231 ended. Search finished for the next optimal point.\n",
      "Time taken: 7.9729\n",
      "Function value obtained: -0.1688\n",
      "Current minimum: -0.2212\n",
      "Iteration No: 232 started. Searching for the next optimal point.\n",
      "[1000, 10, 'log2', 2, 3, False]\n"
     ]
    },
    {
     "name": "stderr",
     "output_type": "stream",
     "text": [
      "/home/carcook/anaconda3/envs/TCGA-round1/lib/python3.8/site-packages/skopt/optimizer/optimizer.py:449: UserWarning: The objective has been evaluated at this point before.\n",
      "  warnings.warn(\"The objective has been evaluated \"\n"
     ]
    },
    {
     "name": "stdout",
     "output_type": "stream",
     "text": [
      "Iteration No: 232 ended. Search finished for the next optimal point.\n",
      "Time taken: 9.1049\n",
      "Function value obtained: -0.1729\n",
      "Current minimum: -0.2212\n",
      "Iteration No: 233 started. Searching for the next optimal point.\n",
      "[1000, 10, 'log2', 2, 3, False]\n"
     ]
    },
    {
     "name": "stderr",
     "output_type": "stream",
     "text": [
      "/home/carcook/anaconda3/envs/TCGA-round1/lib/python3.8/site-packages/skopt/optimizer/optimizer.py:449: UserWarning: The objective has been evaluated at this point before.\n",
      "  warnings.warn(\"The objective has been evaluated \"\n"
     ]
    },
    {
     "name": "stdout",
     "output_type": "stream",
     "text": [
      "Iteration No: 233 ended. Search finished for the next optimal point.\n",
      "Time taken: 9.2380\n",
      "Function value obtained: -0.1715\n",
      "Current minimum: -0.2212\n",
      "Iteration No: 234 started. Searching for the next optimal point.\n",
      "[1000, 10, 'log2', 2, 3, False]\n"
     ]
    },
    {
     "name": "stderr",
     "output_type": "stream",
     "text": [
      "/home/carcook/anaconda3/envs/TCGA-round1/lib/python3.8/site-packages/skopt/optimizer/optimizer.py:449: UserWarning: The objective has been evaluated at this point before.\n",
      "  warnings.warn(\"The objective has been evaluated \"\n"
     ]
    },
    {
     "name": "stdout",
     "output_type": "stream",
     "text": [
      "Iteration No: 234 ended. Search finished for the next optimal point.\n",
      "Time taken: 7.7940\n",
      "Function value obtained: -0.1521\n",
      "Current minimum: -0.2212\n",
      "Iteration No: 235 started. Searching for the next optimal point.\n",
      "[1000, 10, 'log2', 2, 3, False]\n"
     ]
    },
    {
     "name": "stderr",
     "output_type": "stream",
     "text": [
      "/home/carcook/anaconda3/envs/TCGA-round1/lib/python3.8/site-packages/skopt/optimizer/optimizer.py:449: UserWarning: The objective has been evaluated at this point before.\n",
      "  warnings.warn(\"The objective has been evaluated \"\n"
     ]
    },
    {
     "name": "stdout",
     "output_type": "stream",
     "text": [
      "Iteration No: 235 ended. Search finished for the next optimal point.\n",
      "Time taken: 9.0536\n",
      "Function value obtained: -0.1705\n",
      "Current minimum: -0.2212\n",
      "Iteration No: 236 started. Searching for the next optimal point.\n",
      "[1000, 10, 'log2', 2, 3, False]\n"
     ]
    },
    {
     "name": "stderr",
     "output_type": "stream",
     "text": [
      "/home/carcook/anaconda3/envs/TCGA-round1/lib/python3.8/site-packages/skopt/optimizer/optimizer.py:449: UserWarning: The objective has been evaluated at this point before.\n",
      "  warnings.warn(\"The objective has been evaluated \"\n"
     ]
    },
    {
     "name": "stdout",
     "output_type": "stream",
     "text": [
      "Iteration No: 236 ended. Search finished for the next optimal point.\n",
      "Time taken: 9.3606\n",
      "Function value obtained: -0.1660\n",
      "Current minimum: -0.2212\n",
      "Iteration No: 237 started. Searching for the next optimal point.\n",
      "[1000, 10, 'log2', 2, 3, False]\n"
     ]
    },
    {
     "name": "stderr",
     "output_type": "stream",
     "text": [
      "/home/carcook/anaconda3/envs/TCGA-round1/lib/python3.8/site-packages/skopt/optimizer/optimizer.py:449: UserWarning: The objective has been evaluated at this point before.\n",
      "  warnings.warn(\"The objective has been evaluated \"\n"
     ]
    },
    {
     "name": "stdout",
     "output_type": "stream",
     "text": [
      "Iteration No: 237 ended. Search finished for the next optimal point.\n",
      "Time taken: 8.7056\n",
      "Function value obtained: -0.1682\n",
      "Current minimum: -0.2212\n",
      "Iteration No: 238 started. Searching for the next optimal point.\n",
      "[1000, 10, 'log2', 2, 3, False]\n"
     ]
    },
    {
     "name": "stderr",
     "output_type": "stream",
     "text": [
      "/home/carcook/anaconda3/envs/TCGA-round1/lib/python3.8/site-packages/skopt/optimizer/optimizer.py:449: UserWarning: The objective has been evaluated at this point before.\n",
      "  warnings.warn(\"The objective has been evaluated \"\n"
     ]
    },
    {
     "name": "stdout",
     "output_type": "stream",
     "text": [
      "Iteration No: 238 ended. Search finished for the next optimal point.\n",
      "Time taken: 8.7138\n",
      "Function value obtained: -0.1499\n",
      "Current minimum: -0.2212\n",
      "Iteration No: 239 started. Searching for the next optimal point.\n",
      "[1000, 10, 'log2', 2, 3, False]\n"
     ]
    },
    {
     "name": "stderr",
     "output_type": "stream",
     "text": [
      "/home/carcook/anaconda3/envs/TCGA-round1/lib/python3.8/site-packages/skopt/optimizer/optimizer.py:449: UserWarning: The objective has been evaluated at this point before.\n",
      "  warnings.warn(\"The objective has been evaluated \"\n"
     ]
    },
    {
     "name": "stdout",
     "output_type": "stream",
     "text": [
      "Iteration No: 239 ended. Search finished for the next optimal point.\n",
      "Time taken: 9.0627\n",
      "Function value obtained: -0.1368\n",
      "Current minimum: -0.2212\n",
      "Iteration No: 240 started. Searching for the next optimal point.\n",
      "[1000, 10, 'log2', 2, 3, False]\n"
     ]
    },
    {
     "name": "stderr",
     "output_type": "stream",
     "text": [
      "/home/carcook/anaconda3/envs/TCGA-round1/lib/python3.8/site-packages/skopt/optimizer/optimizer.py:449: UserWarning: The objective has been evaluated at this point before.\n",
      "  warnings.warn(\"The objective has been evaluated \"\n"
     ]
    },
    {
     "name": "stdout",
     "output_type": "stream",
     "text": [
      "Iteration No: 240 ended. Search finished for the next optimal point.\n",
      "Time taken: 9.0903\n",
      "Function value obtained: -0.1631\n",
      "Current minimum: -0.2212\n",
      "Iteration No: 241 started. Searching for the next optimal point.\n",
      "[1000, 10, 'log2', 2, 3, False]\n"
     ]
    },
    {
     "name": "stderr",
     "output_type": "stream",
     "text": [
      "/home/carcook/anaconda3/envs/TCGA-round1/lib/python3.8/site-packages/skopt/optimizer/optimizer.py:449: UserWarning: The objective has been evaluated at this point before.\n",
      "  warnings.warn(\"The objective has been evaluated \"\n"
     ]
    },
    {
     "name": "stdout",
     "output_type": "stream",
     "text": [
      "Iteration No: 241 ended. Search finished for the next optimal point.\n",
      "Time taken: 7.9873\n",
      "Function value obtained: -0.1527\n",
      "Current minimum: -0.2212\n",
      "Iteration No: 242 started. Searching for the next optimal point.\n",
      "[1000, 10, 'log2', 2, 3, False]\n"
     ]
    },
    {
     "name": "stderr",
     "output_type": "stream",
     "text": [
      "/home/carcook/anaconda3/envs/TCGA-round1/lib/python3.8/site-packages/skopt/optimizer/optimizer.py:449: UserWarning: The objective has been evaluated at this point before.\n",
      "  warnings.warn(\"The objective has been evaluated \"\n"
     ]
    },
    {
     "name": "stdout",
     "output_type": "stream",
     "text": [
      "Iteration No: 242 ended. Search finished for the next optimal point.\n",
      "Time taken: 8.8336\n",
      "Function value obtained: -0.1733\n",
      "Current minimum: -0.2212\n",
      "Iteration No: 243 started. Searching for the next optimal point.\n",
      "[1000, 10, 'log2', 2, 3, False]\n"
     ]
    },
    {
     "name": "stderr",
     "output_type": "stream",
     "text": [
      "/home/carcook/anaconda3/envs/TCGA-round1/lib/python3.8/site-packages/skopt/optimizer/optimizer.py:449: UserWarning: The objective has been evaluated at this point before.\n",
      "  warnings.warn(\"The objective has been evaluated \"\n"
     ]
    },
    {
     "name": "stdout",
     "output_type": "stream",
     "text": [
      "Iteration No: 243 ended. Search finished for the next optimal point.\n",
      "Time taken: 9.5940\n",
      "Function value obtained: -0.1608\n",
      "Current minimum: -0.2212\n",
      "Iteration No: 244 started. Searching for the next optimal point.\n",
      "[1000, 10, 'log2', 2, 3, False]\n"
     ]
    },
    {
     "name": "stderr",
     "output_type": "stream",
     "text": [
      "/home/carcook/anaconda3/envs/TCGA-round1/lib/python3.8/site-packages/skopt/optimizer/optimizer.py:449: UserWarning: The objective has been evaluated at this point before.\n",
      "  warnings.warn(\"The objective has been evaluated \"\n"
     ]
    },
    {
     "name": "stdout",
     "output_type": "stream",
     "text": [
      "Iteration No: 244 ended. Search finished for the next optimal point.\n",
      "Time taken: 10.5100\n",
      "Function value obtained: -0.1596\n",
      "Current minimum: -0.2212\n",
      "Iteration No: 245 started. Searching for the next optimal point.\n",
      "[1000, 10, 'log2', 2, 3, False]\n"
     ]
    },
    {
     "name": "stderr",
     "output_type": "stream",
     "text": [
      "/home/carcook/anaconda3/envs/TCGA-round1/lib/python3.8/site-packages/skopt/optimizer/optimizer.py:449: UserWarning: The objective has been evaluated at this point before.\n",
      "  warnings.warn(\"The objective has been evaluated \"\n"
     ]
    },
    {
     "name": "stdout",
     "output_type": "stream",
     "text": [
      "Iteration No: 245 ended. Search finished for the next optimal point.\n",
      "Time taken: 9.5647\n",
      "Function value obtained: -0.1535\n",
      "Current minimum: -0.2212\n",
      "Iteration No: 246 started. Searching for the next optimal point.\n",
      "[1000, 10, 'log2', 2, 3, False]\n"
     ]
    },
    {
     "name": "stderr",
     "output_type": "stream",
     "text": [
      "/home/carcook/anaconda3/envs/TCGA-round1/lib/python3.8/site-packages/skopt/optimizer/optimizer.py:449: UserWarning: The objective has been evaluated at this point before.\n",
      "  warnings.warn(\"The objective has been evaluated \"\n"
     ]
    },
    {
     "name": "stdout",
     "output_type": "stream",
     "text": [
      "Iteration No: 246 ended. Search finished for the next optimal point.\n",
      "Time taken: 10.0717\n",
      "Function value obtained: -0.1672\n",
      "Current minimum: -0.2212\n",
      "Iteration No: 247 started. Searching for the next optimal point.\n",
      "[1000, 10, 'log2', 2, 3, False]\n"
     ]
    },
    {
     "name": "stderr",
     "output_type": "stream",
     "text": [
      "/home/carcook/anaconda3/envs/TCGA-round1/lib/python3.8/site-packages/skopt/optimizer/optimizer.py:449: UserWarning: The objective has been evaluated at this point before.\n",
      "  warnings.warn(\"The objective has been evaluated \"\n"
     ]
    },
    {
     "name": "stdout",
     "output_type": "stream",
     "text": [
      "Iteration No: 247 ended. Search finished for the next optimal point.\n",
      "Time taken: 10.4426\n",
      "Function value obtained: -0.1645\n",
      "Current minimum: -0.2212\n",
      "Iteration No: 248 started. Searching for the next optimal point.\n",
      "[1000, 10, 'log2', 2, 3, False]\n"
     ]
    },
    {
     "name": "stderr",
     "output_type": "stream",
     "text": [
      "/home/carcook/anaconda3/envs/TCGA-round1/lib/python3.8/site-packages/skopt/optimizer/optimizer.py:449: UserWarning: The objective has been evaluated at this point before.\n",
      "  warnings.warn(\"The objective has been evaluated \"\n"
     ]
    },
    {
     "name": "stdout",
     "output_type": "stream",
     "text": [
      "Iteration No: 248 ended. Search finished for the next optimal point.\n",
      "Time taken: 9.8942\n",
      "Function value obtained: -0.1644\n",
      "Current minimum: -0.2212\n",
      "Iteration No: 249 started. Searching for the next optimal point.\n",
      "[1000, 10, 'log2', 2, 3, False]\n"
     ]
    },
    {
     "name": "stderr",
     "output_type": "stream",
     "text": [
      "/home/carcook/anaconda3/envs/TCGA-round1/lib/python3.8/site-packages/skopt/optimizer/optimizer.py:449: UserWarning: The objective has been evaluated at this point before.\n",
      "  warnings.warn(\"The objective has been evaluated \"\n"
     ]
    },
    {
     "name": "stdout",
     "output_type": "stream",
     "text": [
      "Iteration No: 249 ended. Search finished for the next optimal point.\n",
      "Time taken: 8.8797\n",
      "Function value obtained: -0.1594\n",
      "Current minimum: -0.2212\n",
      "Iteration No: 250 started. Searching for the next optimal point.\n",
      "[1000, 10, 'log2', 2, 3, False]\n"
     ]
    },
    {
     "name": "stderr",
     "output_type": "stream",
     "text": [
      "/home/carcook/anaconda3/envs/TCGA-round1/lib/python3.8/site-packages/skopt/optimizer/optimizer.py:449: UserWarning: The objective has been evaluated at this point before.\n",
      "  warnings.warn(\"The objective has been evaluated \"\n"
     ]
    },
    {
     "name": "stdout",
     "output_type": "stream",
     "text": [
      "Iteration No: 250 ended. Search finished for the next optimal point.\n",
      "Time taken: 9.4584\n",
      "Function value obtained: -0.1539\n",
      "Current minimum: -0.2212\n",
      "Iteration No: 251 started. Searching for the next optimal point.\n",
      "[1000, 10, 'log2', 2, 3, False]\n"
     ]
    },
    {
     "name": "stderr",
     "output_type": "stream",
     "text": [
      "/home/carcook/anaconda3/envs/TCGA-round1/lib/python3.8/site-packages/skopt/optimizer/optimizer.py:449: UserWarning: The objective has been evaluated at this point before.\n",
      "  warnings.warn(\"The objective has been evaluated \"\n"
     ]
    },
    {
     "name": "stdout",
     "output_type": "stream",
     "text": [
      "Iteration No: 251 ended. Search finished for the next optimal point.\n",
      "Time taken: 9.3621\n",
      "Function value obtained: -0.1803\n",
      "Current minimum: -0.2212\n",
      "Iteration No: 252 started. Searching for the next optimal point.\n",
      "[1000, 10, 'log2', 2, 3, False]\n"
     ]
    },
    {
     "name": "stderr",
     "output_type": "stream",
     "text": [
      "/home/carcook/anaconda3/envs/TCGA-round1/lib/python3.8/site-packages/skopt/optimizer/optimizer.py:449: UserWarning: The objective has been evaluated at this point before.\n",
      "  warnings.warn(\"The objective has been evaluated \"\n"
     ]
    },
    {
     "name": "stdout",
     "output_type": "stream",
     "text": [
      "Iteration No: 252 ended. Search finished for the next optimal point.\n",
      "Time taken: 10.3593\n",
      "Function value obtained: -0.1562\n",
      "Current minimum: -0.2212\n",
      "Iteration No: 253 started. Searching for the next optimal point.\n",
      "[1000, 10, 'log2', 2, 3, False]\n"
     ]
    },
    {
     "name": "stderr",
     "output_type": "stream",
     "text": [
      "/home/carcook/anaconda3/envs/TCGA-round1/lib/python3.8/site-packages/skopt/optimizer/optimizer.py:449: UserWarning: The objective has been evaluated at this point before.\n",
      "  warnings.warn(\"The objective has been evaluated \"\n"
     ]
    },
    {
     "name": "stdout",
     "output_type": "stream",
     "text": [
      "Iteration No: 253 ended. Search finished for the next optimal point.\n",
      "Time taken: 9.6686\n",
      "Function value obtained: -0.1584\n",
      "Current minimum: -0.2212\n",
      "Iteration No: 254 started. Searching for the next optimal point.\n",
      "[1000, 10, 'log2', 2, 3, False]\n"
     ]
    },
    {
     "name": "stderr",
     "output_type": "stream",
     "text": [
      "/home/carcook/anaconda3/envs/TCGA-round1/lib/python3.8/site-packages/skopt/optimizer/optimizer.py:449: UserWarning: The objective has been evaluated at this point before.\n",
      "  warnings.warn(\"The objective has been evaluated \"\n"
     ]
    },
    {
     "name": "stdout",
     "output_type": "stream",
     "text": [
      "Iteration No: 254 ended. Search finished for the next optimal point.\n",
      "Time taken: 9.0522\n",
      "Function value obtained: -0.1563\n",
      "Current minimum: -0.2212\n",
      "Iteration No: 255 started. Searching for the next optimal point.\n",
      "[1000, 10, 'log2', 2, 3, False]\n"
     ]
    },
    {
     "name": "stderr",
     "output_type": "stream",
     "text": [
      "/home/carcook/anaconda3/envs/TCGA-round1/lib/python3.8/site-packages/skopt/optimizer/optimizer.py:449: UserWarning: The objective has been evaluated at this point before.\n",
      "  warnings.warn(\"The objective has been evaluated \"\n"
     ]
    },
    {
     "name": "stdout",
     "output_type": "stream",
     "text": [
      "Iteration No: 255 ended. Search finished for the next optimal point.\n",
      "Time taken: 10.4574\n",
      "Function value obtained: -0.1669\n",
      "Current minimum: -0.2212\n",
      "Iteration No: 256 started. Searching for the next optimal point.\n",
      "[1000, 10, 'log2', 2, 3, False]\n"
     ]
    },
    {
     "name": "stderr",
     "output_type": "stream",
     "text": [
      "/home/carcook/anaconda3/envs/TCGA-round1/lib/python3.8/site-packages/skopt/optimizer/optimizer.py:449: UserWarning: The objective has been evaluated at this point before.\n",
      "  warnings.warn(\"The objective has been evaluated \"\n"
     ]
    },
    {
     "name": "stdout",
     "output_type": "stream",
     "text": [
      "Iteration No: 256 ended. Search finished for the next optimal point.\n",
      "Time taken: 8.7794\n",
      "Function value obtained: -0.1562\n",
      "Current minimum: -0.2212\n",
      "Iteration No: 257 started. Searching for the next optimal point.\n",
      "[1000, 10, 'log2', 2, 3, False]\n"
     ]
    },
    {
     "name": "stderr",
     "output_type": "stream",
     "text": [
      "/home/carcook/anaconda3/envs/TCGA-round1/lib/python3.8/site-packages/skopt/optimizer/optimizer.py:449: UserWarning: The objective has been evaluated at this point before.\n",
      "  warnings.warn(\"The objective has been evaluated \"\n"
     ]
    },
    {
     "name": "stdout",
     "output_type": "stream",
     "text": [
      "Iteration No: 257 ended. Search finished for the next optimal point.\n",
      "Time taken: 9.4270\n",
      "Function value obtained: -0.1553\n",
      "Current minimum: -0.2212\n",
      "Iteration No: 258 started. Searching for the next optimal point.\n",
      "[1000, 10, 'log2', 2, 3, False]\n"
     ]
    },
    {
     "name": "stderr",
     "output_type": "stream",
     "text": [
      "/home/carcook/anaconda3/envs/TCGA-round1/lib/python3.8/site-packages/skopt/optimizer/optimizer.py:449: UserWarning: The objective has been evaluated at this point before.\n",
      "  warnings.warn(\"The objective has been evaluated \"\n"
     ]
    },
    {
     "name": "stdout",
     "output_type": "stream",
     "text": [
      "Iteration No: 258 ended. Search finished for the next optimal point.\n",
      "Time taken: 10.7257\n",
      "Function value obtained: -0.1588\n",
      "Current minimum: -0.2212\n",
      "Iteration No: 259 started. Searching for the next optimal point.\n",
      "[1000, 10, 'log2', 2, 3, False]\n"
     ]
    },
    {
     "name": "stderr",
     "output_type": "stream",
     "text": [
      "/home/carcook/anaconda3/envs/TCGA-round1/lib/python3.8/site-packages/skopt/optimizer/optimizer.py:449: UserWarning: The objective has been evaluated at this point before.\n",
      "  warnings.warn(\"The objective has been evaluated \"\n"
     ]
    },
    {
     "name": "stdout",
     "output_type": "stream",
     "text": [
      "Iteration No: 259 ended. Search finished for the next optimal point.\n",
      "Time taken: 10.0431\n",
      "Function value obtained: -0.1651\n",
      "Current minimum: -0.2212\n",
      "Iteration No: 260 started. Searching for the next optimal point.\n",
      "[1000, 10, 'log2', 2, 3, False]\n"
     ]
    },
    {
     "name": "stderr",
     "output_type": "stream",
     "text": [
      "/home/carcook/anaconda3/envs/TCGA-round1/lib/python3.8/site-packages/skopt/optimizer/optimizer.py:449: UserWarning: The objective has been evaluated at this point before.\n",
      "  warnings.warn(\"The objective has been evaluated \"\n"
     ]
    },
    {
     "name": "stdout",
     "output_type": "stream",
     "text": [
      "Iteration No: 260 ended. Search finished for the next optimal point.\n",
      "Time taken: 9.9165\n",
      "Function value obtained: -0.1740\n",
      "Current minimum: -0.2212\n",
      "Iteration No: 261 started. Searching for the next optimal point.\n",
      "[1000, 10, 'log2', 2, 3, False]\n"
     ]
    },
    {
     "name": "stderr",
     "output_type": "stream",
     "text": [
      "/home/carcook/anaconda3/envs/TCGA-round1/lib/python3.8/site-packages/skopt/optimizer/optimizer.py:449: UserWarning: The objective has been evaluated at this point before.\n",
      "  warnings.warn(\"The objective has been evaluated \"\n"
     ]
    },
    {
     "name": "stdout",
     "output_type": "stream",
     "text": [
      "Iteration No: 261 ended. Search finished for the next optimal point.\n",
      "Time taken: 9.0942\n",
      "Function value obtained: -0.1581\n",
      "Current minimum: -0.2212\n",
      "Iteration No: 262 started. Searching for the next optimal point.\n",
      "[1000, 10, 'log2', 2, 3, False]\n"
     ]
    },
    {
     "name": "stderr",
     "output_type": "stream",
     "text": [
      "/home/carcook/anaconda3/envs/TCGA-round1/lib/python3.8/site-packages/skopt/optimizer/optimizer.py:449: UserWarning: The objective has been evaluated at this point before.\n",
      "  warnings.warn(\"The objective has been evaluated \"\n"
     ]
    },
    {
     "name": "stdout",
     "output_type": "stream",
     "text": [
      "Iteration No: 262 ended. Search finished for the next optimal point.\n",
      "Time taken: 9.6764\n",
      "Function value obtained: -0.1543\n",
      "Current minimum: -0.2212\n",
      "Iteration No: 263 started. Searching for the next optimal point.\n",
      "[1000, 10, 'log2', 2, 3, False]\n"
     ]
    },
    {
     "name": "stderr",
     "output_type": "stream",
     "text": [
      "/home/carcook/anaconda3/envs/TCGA-round1/lib/python3.8/site-packages/skopt/optimizer/optimizer.py:449: UserWarning: The objective has been evaluated at this point before.\n",
      "  warnings.warn(\"The objective has been evaluated \"\n"
     ]
    },
    {
     "name": "stdout",
     "output_type": "stream",
     "text": [
      "Iteration No: 263 ended. Search finished for the next optimal point.\n",
      "Time taken: 9.9095\n",
      "Function value obtained: -0.1544\n",
      "Current minimum: -0.2212\n",
      "Iteration No: 264 started. Searching for the next optimal point.\n",
      "[1000, 10, 'log2', 2, 3, False]\n"
     ]
    },
    {
     "name": "stderr",
     "output_type": "stream",
     "text": [
      "/home/carcook/anaconda3/envs/TCGA-round1/lib/python3.8/site-packages/skopt/optimizer/optimizer.py:449: UserWarning: The objective has been evaluated at this point before.\n",
      "  warnings.warn(\"The objective has been evaluated \"\n"
     ]
    },
    {
     "name": "stdout",
     "output_type": "stream",
     "text": [
      "Iteration No: 264 ended. Search finished for the next optimal point.\n",
      "Time taken: 10.4837\n",
      "Function value obtained: -0.1666\n",
      "Current minimum: -0.2212\n",
      "Iteration No: 265 started. Searching for the next optimal point.\n",
      "[1000, 10, 'log2', 2, 3, False]\n"
     ]
    },
    {
     "name": "stderr",
     "output_type": "stream",
     "text": [
      "/home/carcook/anaconda3/envs/TCGA-round1/lib/python3.8/site-packages/skopt/optimizer/optimizer.py:449: UserWarning: The objective has been evaluated at this point before.\n",
      "  warnings.warn(\"The objective has been evaluated \"\n"
     ]
    },
    {
     "name": "stdout",
     "output_type": "stream",
     "text": [
      "Iteration No: 265 ended. Search finished for the next optimal point.\n",
      "Time taken: 10.1814\n",
      "Function value obtained: -0.1438\n",
      "Current minimum: -0.2212\n",
      "Iteration No: 266 started. Searching for the next optimal point.\n",
      "[1000, 10, 'log2', 2, 3, False]\n"
     ]
    },
    {
     "name": "stderr",
     "output_type": "stream",
     "text": [
      "/home/carcook/anaconda3/envs/TCGA-round1/lib/python3.8/site-packages/skopt/optimizer/optimizer.py:449: UserWarning: The objective has been evaluated at this point before.\n",
      "  warnings.warn(\"The objective has been evaluated \"\n"
     ]
    },
    {
     "name": "stdout",
     "output_type": "stream",
     "text": [
      "Iteration No: 266 ended. Search finished for the next optimal point.\n",
      "Time taken: 11.9640\n",
      "Function value obtained: -0.1592\n",
      "Current minimum: -0.2212\n",
      "Iteration No: 267 started. Searching for the next optimal point.\n",
      "[1000, 10, 'log2', 2, 3, False]\n"
     ]
    },
    {
     "name": "stderr",
     "output_type": "stream",
     "text": [
      "/home/carcook/anaconda3/envs/TCGA-round1/lib/python3.8/site-packages/skopt/optimizer/optimizer.py:449: UserWarning: The objective has been evaluated at this point before.\n",
      "  warnings.warn(\"The objective has been evaluated \"\n"
     ]
    },
    {
     "name": "stdout",
     "output_type": "stream",
     "text": [
      "Iteration No: 267 ended. Search finished for the next optimal point.\n",
      "Time taken: 12.4734\n",
      "Function value obtained: -0.1671\n",
      "Current minimum: -0.2212\n",
      "Iteration No: 268 started. Searching for the next optimal point.\n",
      "[1000, 10, 'log2', 2, 3, False]\n"
     ]
    },
    {
     "name": "stderr",
     "output_type": "stream",
     "text": [
      "/home/carcook/anaconda3/envs/TCGA-round1/lib/python3.8/site-packages/skopt/optimizer/optimizer.py:449: UserWarning: The objective has been evaluated at this point before.\n",
      "  warnings.warn(\"The objective has been evaluated \"\n"
     ]
    },
    {
     "name": "stdout",
     "output_type": "stream",
     "text": [
      "Iteration No: 268 ended. Search finished for the next optimal point.\n",
      "Time taken: 11.4680\n",
      "Function value obtained: -0.1684\n",
      "Current minimum: -0.2212\n",
      "Iteration No: 269 started. Searching for the next optimal point.\n",
      "[1000, 10, 'log2', 2, 3, False]\n"
     ]
    },
    {
     "name": "stderr",
     "output_type": "stream",
     "text": [
      "/home/carcook/anaconda3/envs/TCGA-round1/lib/python3.8/site-packages/skopt/optimizer/optimizer.py:449: UserWarning: The objective has been evaluated at this point before.\n",
      "  warnings.warn(\"The objective has been evaluated \"\n"
     ]
    },
    {
     "name": "stdout",
     "output_type": "stream",
     "text": [
      "Iteration No: 269 ended. Search finished for the next optimal point.\n",
      "Time taken: 11.5058\n",
      "Function value obtained: -0.1757\n",
      "Current minimum: -0.2212\n",
      "Iteration No: 270 started. Searching for the next optimal point.\n",
      "[1000, 10, 'log2', 2, 3, False]\n"
     ]
    },
    {
     "name": "stderr",
     "output_type": "stream",
     "text": [
      "/home/carcook/anaconda3/envs/TCGA-round1/lib/python3.8/site-packages/skopt/optimizer/optimizer.py:449: UserWarning: The objective has been evaluated at this point before.\n",
      "  warnings.warn(\"The objective has been evaluated \"\n"
     ]
    },
    {
     "name": "stdout",
     "output_type": "stream",
     "text": [
      "Iteration No: 270 ended. Search finished for the next optimal point.\n",
      "Time taken: 10.2358\n",
      "Function value obtained: -0.1597\n",
      "Current minimum: -0.2212\n",
      "Iteration No: 271 started. Searching for the next optimal point.\n",
      "[1000, 10, 'log2', 2, 3, False]\n"
     ]
    },
    {
     "name": "stderr",
     "output_type": "stream",
     "text": [
      "/home/carcook/anaconda3/envs/TCGA-round1/lib/python3.8/site-packages/skopt/optimizer/optimizer.py:449: UserWarning: The objective has been evaluated at this point before.\n",
      "  warnings.warn(\"The objective has been evaluated \"\n"
     ]
    },
    {
     "name": "stdout",
     "output_type": "stream",
     "text": [
      "Iteration No: 271 ended. Search finished for the next optimal point.\n",
      "Time taken: 10.9606\n",
      "Function value obtained: -0.1381\n",
      "Current minimum: -0.2212\n",
      "Iteration No: 272 started. Searching for the next optimal point.\n",
      "[1000, 10, 'log2', 2, 3, False]\n"
     ]
    },
    {
     "name": "stderr",
     "output_type": "stream",
     "text": [
      "/home/carcook/anaconda3/envs/TCGA-round1/lib/python3.8/site-packages/skopt/optimizer/optimizer.py:449: UserWarning: The objective has been evaluated at this point before.\n",
      "  warnings.warn(\"The objective has been evaluated \"\n"
     ]
    },
    {
     "name": "stdout",
     "output_type": "stream",
     "text": [
      "Iteration No: 272 ended. Search finished for the next optimal point.\n",
      "Time taken: 11.9065\n",
      "Function value obtained: -0.1689\n",
      "Current minimum: -0.2212\n",
      "Iteration No: 273 started. Searching for the next optimal point.\n",
      "[1000, 10, 'log2', 2, 3, False]\n"
     ]
    },
    {
     "name": "stderr",
     "output_type": "stream",
     "text": [
      "/home/carcook/anaconda3/envs/TCGA-round1/lib/python3.8/site-packages/skopt/optimizer/optimizer.py:449: UserWarning: The objective has been evaluated at this point before.\n",
      "  warnings.warn(\"The objective has been evaluated \"\n"
     ]
    },
    {
     "name": "stdout",
     "output_type": "stream",
     "text": [
      "Iteration No: 273 ended. Search finished for the next optimal point.\n",
      "Time taken: 11.1281\n",
      "Function value obtained: -0.1577\n",
      "Current minimum: -0.2212\n",
      "Iteration No: 274 started. Searching for the next optimal point.\n",
      "[1000, 10, 'log2', 2, 3, False]\n"
     ]
    },
    {
     "name": "stderr",
     "output_type": "stream",
     "text": [
      "/home/carcook/anaconda3/envs/TCGA-round1/lib/python3.8/site-packages/skopt/optimizer/optimizer.py:449: UserWarning: The objective has been evaluated at this point before.\n",
      "  warnings.warn(\"The objective has been evaluated \"\n"
     ]
    },
    {
     "name": "stdout",
     "output_type": "stream",
     "text": [
      "Iteration No: 274 ended. Search finished for the next optimal point.\n",
      "Time taken: 11.4984\n",
      "Function value obtained: -0.1473\n",
      "Current minimum: -0.2212\n",
      "Iteration No: 275 started. Searching for the next optimal point.\n",
      "[1000, 10, 'log2', 2, 3, False]\n"
     ]
    },
    {
     "name": "stderr",
     "output_type": "stream",
     "text": [
      "/home/carcook/anaconda3/envs/TCGA-round1/lib/python3.8/site-packages/skopt/optimizer/optimizer.py:449: UserWarning: The objective has been evaluated at this point before.\n",
      "  warnings.warn(\"The objective has been evaluated \"\n"
     ]
    },
    {
     "name": "stdout",
     "output_type": "stream",
     "text": [
      "Iteration No: 275 ended. Search finished for the next optimal point.\n",
      "Time taken: 11.2717\n",
      "Function value obtained: -0.1840\n",
      "Current minimum: -0.2212\n",
      "Iteration No: 276 started. Searching for the next optimal point.\n",
      "[1000, 10, 'log2', 2, 3, False]\n"
     ]
    },
    {
     "name": "stderr",
     "output_type": "stream",
     "text": [
      "/home/carcook/anaconda3/envs/TCGA-round1/lib/python3.8/site-packages/skopt/optimizer/optimizer.py:449: UserWarning: The objective has been evaluated at this point before.\n",
      "  warnings.warn(\"The objective has been evaluated \"\n"
     ]
    },
    {
     "name": "stdout",
     "output_type": "stream",
     "text": [
      "Iteration No: 276 ended. Search finished for the next optimal point.\n",
      "Time taken: 9.1417\n",
      "Function value obtained: -0.1703\n",
      "Current minimum: -0.2212\n",
      "Iteration No: 277 started. Searching for the next optimal point.\n",
      "[1000, 10, 'log2', 2, 3, False]\n"
     ]
    },
    {
     "name": "stderr",
     "output_type": "stream",
     "text": [
      "/home/carcook/anaconda3/envs/TCGA-round1/lib/python3.8/site-packages/skopt/optimizer/optimizer.py:449: UserWarning: The objective has been evaluated at this point before.\n",
      "  warnings.warn(\"The objective has been evaluated \"\n"
     ]
    },
    {
     "name": "stdout",
     "output_type": "stream",
     "text": [
      "Iteration No: 277 ended. Search finished for the next optimal point.\n",
      "Time taken: 9.4266\n",
      "Function value obtained: -0.1645\n",
      "Current minimum: -0.2212\n",
      "Iteration No: 278 started. Searching for the next optimal point.\n",
      "[1000, 10, 'log2', 2, 3, False]\n"
     ]
    },
    {
     "name": "stderr",
     "output_type": "stream",
     "text": [
      "/home/carcook/anaconda3/envs/TCGA-round1/lib/python3.8/site-packages/skopt/optimizer/optimizer.py:449: UserWarning: The objective has been evaluated at this point before.\n",
      "  warnings.warn(\"The objective has been evaluated \"\n"
     ]
    },
    {
     "name": "stdout",
     "output_type": "stream",
     "text": [
      "Iteration No: 278 ended. Search finished for the next optimal point.\n",
      "Time taken: 9.3673\n",
      "Function value obtained: -0.1558\n",
      "Current minimum: -0.2212\n",
      "Iteration No: 279 started. Searching for the next optimal point.\n",
      "[1000, 10, 'log2', 2, 3, False]\n"
     ]
    },
    {
     "name": "stderr",
     "output_type": "stream",
     "text": [
      "/home/carcook/anaconda3/envs/TCGA-round1/lib/python3.8/site-packages/skopt/optimizer/optimizer.py:449: UserWarning: The objective has been evaluated at this point before.\n",
      "  warnings.warn(\"The objective has been evaluated \"\n"
     ]
    },
    {
     "name": "stdout",
     "output_type": "stream",
     "text": [
      "Iteration No: 279 ended. Search finished for the next optimal point.\n",
      "Time taken: 9.5907\n",
      "Function value obtained: -0.1567\n",
      "Current minimum: -0.2212\n",
      "Iteration No: 280 started. Searching for the next optimal point.\n",
      "[1000, 10, 'log2', 2, 3, False]\n"
     ]
    },
    {
     "name": "stderr",
     "output_type": "stream",
     "text": [
      "/home/carcook/anaconda3/envs/TCGA-round1/lib/python3.8/site-packages/skopt/optimizer/optimizer.py:449: UserWarning: The objective has been evaluated at this point before.\n",
      "  warnings.warn(\"The objective has been evaluated \"\n"
     ]
    },
    {
     "name": "stdout",
     "output_type": "stream",
     "text": [
      "Iteration No: 280 ended. Search finished for the next optimal point.\n",
      "Time taken: 9.3075\n",
      "Function value obtained: -0.1612\n",
      "Current minimum: -0.2212\n",
      "Iteration No: 281 started. Searching for the next optimal point.\n",
      "[1000, 10, 'log2', 2, 3, False]\n"
     ]
    },
    {
     "name": "stderr",
     "output_type": "stream",
     "text": [
      "/home/carcook/anaconda3/envs/TCGA-round1/lib/python3.8/site-packages/skopt/optimizer/optimizer.py:449: UserWarning: The objective has been evaluated at this point before.\n",
      "  warnings.warn(\"The objective has been evaluated \"\n"
     ]
    },
    {
     "name": "stdout",
     "output_type": "stream",
     "text": [
      "Iteration No: 281 ended. Search finished for the next optimal point.\n",
      "Time taken: 9.4588\n",
      "Function value obtained: -0.1542\n",
      "Current minimum: -0.2212\n",
      "Iteration No: 282 started. Searching for the next optimal point.\n",
      "[1000, 10, 'log2', 2, 3, False]\n"
     ]
    },
    {
     "name": "stderr",
     "output_type": "stream",
     "text": [
      "/home/carcook/anaconda3/envs/TCGA-round1/lib/python3.8/site-packages/skopt/optimizer/optimizer.py:449: UserWarning: The objective has been evaluated at this point before.\n",
      "  warnings.warn(\"The objective has been evaluated \"\n"
     ]
    },
    {
     "name": "stdout",
     "output_type": "stream",
     "text": [
      "Iteration No: 282 ended. Search finished for the next optimal point.\n",
      "Time taken: 8.5910\n",
      "Function value obtained: -0.1559\n",
      "Current minimum: -0.2212\n",
      "Iteration No: 283 started. Searching for the next optimal point.\n",
      "[1000, 10, 'log2', 2, 3, False]\n"
     ]
    },
    {
     "name": "stderr",
     "output_type": "stream",
     "text": [
      "/home/carcook/anaconda3/envs/TCGA-round1/lib/python3.8/site-packages/skopt/optimizer/optimizer.py:449: UserWarning: The objective has been evaluated at this point before.\n",
      "  warnings.warn(\"The objective has been evaluated \"\n"
     ]
    },
    {
     "name": "stdout",
     "output_type": "stream",
     "text": [
      "Iteration No: 283 ended. Search finished for the next optimal point.\n",
      "Time taken: 9.6057\n",
      "Function value obtained: -0.1633\n",
      "Current minimum: -0.2212\n",
      "Iteration No: 284 started. Searching for the next optimal point.\n",
      "[1000, 10, 'log2', 2, 3, False]\n"
     ]
    },
    {
     "name": "stderr",
     "output_type": "stream",
     "text": [
      "/home/carcook/anaconda3/envs/TCGA-round1/lib/python3.8/site-packages/skopt/optimizer/optimizer.py:449: UserWarning: The objective has been evaluated at this point before.\n",
      "  warnings.warn(\"The objective has been evaluated \"\n"
     ]
    },
    {
     "name": "stdout",
     "output_type": "stream",
     "text": [
      "Iteration No: 284 ended. Search finished for the next optimal point.\n",
      "Time taken: 8.9603\n",
      "Function value obtained: -0.1649\n",
      "Current minimum: -0.2212\n",
      "Iteration No: 285 started. Searching for the next optimal point.\n",
      "[1000, 10, 'log2', 2, 3, False]\n"
     ]
    },
    {
     "name": "stderr",
     "output_type": "stream",
     "text": [
      "/home/carcook/anaconda3/envs/TCGA-round1/lib/python3.8/site-packages/skopt/optimizer/optimizer.py:449: UserWarning: The objective has been evaluated at this point before.\n",
      "  warnings.warn(\"The objective has been evaluated \"\n"
     ]
    },
    {
     "name": "stdout",
     "output_type": "stream",
     "text": [
      "Iteration No: 285 ended. Search finished for the next optimal point.\n",
      "Time taken: 9.2264\n",
      "Function value obtained: -0.1791\n",
      "Current minimum: -0.2212\n",
      "Iteration No: 286 started. Searching for the next optimal point.\n",
      "[1000, 10, 'log2', 2, 3, False]\n"
     ]
    },
    {
     "name": "stderr",
     "output_type": "stream",
     "text": [
      "/home/carcook/anaconda3/envs/TCGA-round1/lib/python3.8/site-packages/skopt/optimizer/optimizer.py:449: UserWarning: The objective has been evaluated at this point before.\n",
      "  warnings.warn(\"The objective has been evaluated \"\n"
     ]
    },
    {
     "name": "stdout",
     "output_type": "stream",
     "text": [
      "Iteration No: 286 ended. Search finished for the next optimal point.\n",
      "Time taken: 9.7083\n",
      "Function value obtained: -0.1736\n",
      "Current minimum: -0.2212\n",
      "Iteration No: 287 started. Searching for the next optimal point.\n",
      "[1000, 10, 'log2', 2, 3, False]\n"
     ]
    },
    {
     "name": "stderr",
     "output_type": "stream",
     "text": [
      "/home/carcook/anaconda3/envs/TCGA-round1/lib/python3.8/site-packages/skopt/optimizer/optimizer.py:449: UserWarning: The objective has been evaluated at this point before.\n",
      "  warnings.warn(\"The objective has been evaluated \"\n"
     ]
    },
    {
     "name": "stdout",
     "output_type": "stream",
     "text": [
      "Iteration No: 287 ended. Search finished for the next optimal point.\n",
      "Time taken: 9.0883\n",
      "Function value obtained: -0.1536\n",
      "Current minimum: -0.2212\n",
      "Iteration No: 288 started. Searching for the next optimal point.\n",
      "[1000, 10, 'log2', 2, 3, False]\n"
     ]
    },
    {
     "name": "stderr",
     "output_type": "stream",
     "text": [
      "/home/carcook/anaconda3/envs/TCGA-round1/lib/python3.8/site-packages/skopt/optimizer/optimizer.py:449: UserWarning: The objective has been evaluated at this point before.\n",
      "  warnings.warn(\"The objective has been evaluated \"\n"
     ]
    },
    {
     "name": "stdout",
     "output_type": "stream",
     "text": [
      "Iteration No: 288 ended. Search finished for the next optimal point.\n",
      "Time taken: 9.6460\n",
      "Function value obtained: -0.1609\n",
      "Current minimum: -0.2212\n",
      "Iteration No: 289 started. Searching for the next optimal point.\n",
      "[1000, 10, 'log2', 2, 3, False]\n"
     ]
    },
    {
     "name": "stderr",
     "output_type": "stream",
     "text": [
      "/home/carcook/anaconda3/envs/TCGA-round1/lib/python3.8/site-packages/skopt/optimizer/optimizer.py:449: UserWarning: The objective has been evaluated at this point before.\n",
      "  warnings.warn(\"The objective has been evaluated \"\n"
     ]
    },
    {
     "name": "stdout",
     "output_type": "stream",
     "text": [
      "Iteration No: 289 ended. Search finished for the next optimal point.\n",
      "Time taken: 8.9529\n",
      "Function value obtained: -0.1564\n",
      "Current minimum: -0.2212\n",
      "Iteration No: 290 started. Searching for the next optimal point.\n",
      "[1000, 10, 'log2', 2, 3, False]\n"
     ]
    },
    {
     "name": "stderr",
     "output_type": "stream",
     "text": [
      "/home/carcook/anaconda3/envs/TCGA-round1/lib/python3.8/site-packages/skopt/optimizer/optimizer.py:449: UserWarning: The objective has been evaluated at this point before.\n",
      "  warnings.warn(\"The objective has been evaluated \"\n"
     ]
    },
    {
     "name": "stdout",
     "output_type": "stream",
     "text": [
      "Iteration No: 290 ended. Search finished for the next optimal point.\n",
      "Time taken: 8.8157\n",
      "Function value obtained: -0.1423\n",
      "Current minimum: -0.2212\n",
      "Iteration No: 291 started. Searching for the next optimal point.\n",
      "[1000, 10, 'log2', 2, 3, False]\n"
     ]
    },
    {
     "name": "stderr",
     "output_type": "stream",
     "text": [
      "/home/carcook/anaconda3/envs/TCGA-round1/lib/python3.8/site-packages/skopt/optimizer/optimizer.py:449: UserWarning: The objective has been evaluated at this point before.\n",
      "  warnings.warn(\"The objective has been evaluated \"\n"
     ]
    },
    {
     "name": "stdout",
     "output_type": "stream",
     "text": [
      "Iteration No: 291 ended. Search finished for the next optimal point.\n",
      "Time taken: 9.4643\n",
      "Function value obtained: -0.1794\n",
      "Current minimum: -0.2212\n",
      "Iteration No: 292 started. Searching for the next optimal point.\n",
      "[1000, 10, 'log2', 2, 3, False]\n"
     ]
    },
    {
     "name": "stderr",
     "output_type": "stream",
     "text": [
      "/home/carcook/anaconda3/envs/TCGA-round1/lib/python3.8/site-packages/skopt/optimizer/optimizer.py:449: UserWarning: The objective has been evaluated at this point before.\n",
      "  warnings.warn(\"The objective has been evaluated \"\n"
     ]
    },
    {
     "name": "stdout",
     "output_type": "stream",
     "text": [
      "Iteration No: 292 ended. Search finished for the next optimal point.\n",
      "Time taken: 9.5226\n",
      "Function value obtained: -0.1411\n",
      "Current minimum: -0.2212\n",
      "Iteration No: 293 started. Searching for the next optimal point.\n",
      "[1000, 10, 'log2', 2, 3, False]\n"
     ]
    },
    {
     "name": "stderr",
     "output_type": "stream",
     "text": [
      "/home/carcook/anaconda3/envs/TCGA-round1/lib/python3.8/site-packages/skopt/optimizer/optimizer.py:449: UserWarning: The objective has been evaluated at this point before.\n",
      "  warnings.warn(\"The objective has been evaluated \"\n"
     ]
    },
    {
     "name": "stdout",
     "output_type": "stream",
     "text": [
      "Iteration No: 293 ended. Search finished for the next optimal point.\n",
      "Time taken: 9.1207\n",
      "Function value obtained: -0.1800\n",
      "Current minimum: -0.2212\n",
      "Iteration No: 294 started. Searching for the next optimal point.\n",
      "[1000, 10, 'log2', 2, 3, False]\n"
     ]
    },
    {
     "name": "stderr",
     "output_type": "stream",
     "text": [
      "/home/carcook/anaconda3/envs/TCGA-round1/lib/python3.8/site-packages/skopt/optimizer/optimizer.py:449: UserWarning: The objective has been evaluated at this point before.\n",
      "  warnings.warn(\"The objective has been evaluated \"\n"
     ]
    },
    {
     "name": "stdout",
     "output_type": "stream",
     "text": [
      "Iteration No: 294 ended. Search finished for the next optimal point.\n",
      "Time taken: 8.9265\n",
      "Function value obtained: -0.1604\n",
      "Current minimum: -0.2212\n",
      "Iteration No: 295 started. Searching for the next optimal point.\n",
      "[1000, 10, 'log2', 2, 3, False]\n"
     ]
    },
    {
     "name": "stderr",
     "output_type": "stream",
     "text": [
      "/home/carcook/anaconda3/envs/TCGA-round1/lib/python3.8/site-packages/skopt/optimizer/optimizer.py:449: UserWarning: The objective has been evaluated at this point before.\n",
      "  warnings.warn(\"The objective has been evaluated \"\n"
     ]
    },
    {
     "name": "stdout",
     "output_type": "stream",
     "text": [
      "Iteration No: 295 ended. Search finished for the next optimal point.\n",
      "Time taken: 9.8394\n",
      "Function value obtained: -0.1619\n",
      "Current minimum: -0.2212\n",
      "Iteration No: 296 started. Searching for the next optimal point.\n",
      "[1000, 10, 'log2', 2, 3, False]\n"
     ]
    },
    {
     "name": "stderr",
     "output_type": "stream",
     "text": [
      "/home/carcook/anaconda3/envs/TCGA-round1/lib/python3.8/site-packages/skopt/optimizer/optimizer.py:449: UserWarning: The objective has been evaluated at this point before.\n",
      "  warnings.warn(\"The objective has been evaluated \"\n"
     ]
    },
    {
     "name": "stdout",
     "output_type": "stream",
     "text": [
      "Iteration No: 296 ended. Search finished for the next optimal point.\n",
      "Time taken: 9.7163\n",
      "Function value obtained: -0.1682\n",
      "Current minimum: -0.2212\n",
      "Iteration No: 297 started. Searching for the next optimal point.\n",
      "[1000, 10, 'log2', 2, 3, False]\n"
     ]
    },
    {
     "name": "stderr",
     "output_type": "stream",
     "text": [
      "/home/carcook/anaconda3/envs/TCGA-round1/lib/python3.8/site-packages/skopt/optimizer/optimizer.py:449: UserWarning: The objective has been evaluated at this point before.\n",
      "  warnings.warn(\"The objective has been evaluated \"\n"
     ]
    },
    {
     "name": "stdout",
     "output_type": "stream",
     "text": [
      "Iteration No: 297 ended. Search finished for the next optimal point.\n",
      "Time taken: 9.9743\n",
      "Function value obtained: -0.1676\n",
      "Current minimum: -0.2212\n",
      "Iteration No: 298 started. Searching for the next optimal point.\n",
      "[1000, 10, 'log2', 2, 3, False]\n"
     ]
    },
    {
     "name": "stderr",
     "output_type": "stream",
     "text": [
      "/home/carcook/anaconda3/envs/TCGA-round1/lib/python3.8/site-packages/skopt/optimizer/optimizer.py:449: UserWarning: The objective has been evaluated at this point before.\n",
      "  warnings.warn(\"The objective has been evaluated \"\n"
     ]
    },
    {
     "name": "stdout",
     "output_type": "stream",
     "text": [
      "Iteration No: 298 ended. Search finished for the next optimal point.\n",
      "Time taken: 9.9243\n",
      "Function value obtained: -0.1540\n",
      "Current minimum: -0.2212\n",
      "Iteration No: 299 started. Searching for the next optimal point.\n",
      "[1000, 10, 'log2', 2, 3, False]\n"
     ]
    },
    {
     "name": "stderr",
     "output_type": "stream",
     "text": [
      "/home/carcook/anaconda3/envs/TCGA-round1/lib/python3.8/site-packages/skopt/optimizer/optimizer.py:449: UserWarning: The objective has been evaluated at this point before.\n",
      "  warnings.warn(\"The objective has been evaluated \"\n"
     ]
    },
    {
     "name": "stdout",
     "output_type": "stream",
     "text": [
      "Iteration No: 299 ended. Search finished for the next optimal point.\n",
      "Time taken: 10.5908\n",
      "Function value obtained: -0.1629\n",
      "Current minimum: -0.2212\n",
      "Iteration No: 300 started. Searching for the next optimal point.\n",
      "[1000, 10, 'log2', 2, 3, False]\n"
     ]
    },
    {
     "name": "stderr",
     "output_type": "stream",
     "text": [
      "/home/carcook/anaconda3/envs/TCGA-round1/lib/python3.8/site-packages/skopt/optimizer/optimizer.py:449: UserWarning: The objective has been evaluated at this point before.\n",
      "  warnings.warn(\"The objective has been evaluated \"\n"
     ]
    },
    {
     "name": "stdout",
     "output_type": "stream",
     "text": [
      "Iteration No: 300 ended. Search finished for the next optimal point.\n",
      "Time taken: 9.9777\n",
      "Function value obtained: -0.1699\n",
      "Current minimum: -0.2212\n"
     ]
    }
   ],
   "source": [
    "scoring_default = \"explained_variance\"\n",
    "callback_file = f\"{unified_dsets[dset_idx]}_opt_rfr_h_params_{scoring_default}_outliers_removed.tsv\"\n",
    "\n",
    "try:\n",
    "    os.remove(callback_file)\n",
    "except OSError:\n",
    "    pass\n",
    "\n",
    "\n",
    "res = gp_minimize(\n",
    "    lambda h_ps: objective(h_ps, x_df, y_df, scoring_default, rand),\n",
    "    space,\n",
    "    verbose=True,\n",
    "    random_state=rand,\n",
    "    n_initial_points=n_initial,\n",
    "    n_calls = n_calls,\n",
    "    n_jobs=-1,\n",
    "    callback=lambda x: opt.save_callback(x, callback_file, n = 5, sep=\"\\t\")\n",
    ")"
   ]
  },
  {
   "cell_type": "code",
   "execution_count": null,
   "metadata": {},
   "outputs": [],
   "source": []
  }
 ],
 "metadata": {
  "kernelspec": {
   "display_name": "Python 3",
   "language": "python",
   "name": "python3"
  },
  "language_info": {
   "codemirror_mode": {
    "name": "ipython",
    "version": 3
   },
   "file_extension": ".py",
   "mimetype": "text/x-python",
   "name": "python",
   "nbconvert_exporter": "python",
   "pygments_lexer": "ipython3",
   "version": "3.8.3"
  }
 },
 "nbformat": 4,
 "nbformat_minor": 4
}
