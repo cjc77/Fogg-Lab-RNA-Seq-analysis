{
 "cells": [
  {
   "cell_type": "markdown",
   "metadata": {},
   "source": [
    "# Preliminary TCGA DGE analysis\n",
    "### Primary concerns about this analysis:\n",
    "1. Low statistical power: healthy condition has few samples\n",
    "2. Missing data: ovarian cancer cohort has no healthy samples"
   ]
  },
  {
   "cell_type": "code",
   "execution_count": 1,
   "metadata": {
    "collapsed": true,
    "jupyter": {
     "outputs_hidden": true
    }
   },
   "outputs": [
    {
     "name": "stderr",
     "output_type": "stream",
     "text": [
      "── Attaching packages ─────────────────────────────────────── tidyverse 1.3.0 ──\n",
      "✔ ggplot2 3.3.2     ✔ purrr   0.3.4\n",
      "✔ tibble  3.0.3     ✔ dplyr   1.0.0\n",
      "✔ tidyr   1.1.0     ✔ stringr 1.4.0\n",
      "✔ readr   1.3.1     ✔ forcats 0.5.0\n",
      "── Conflicts ────────────────────────────────────────── tidyverse_conflicts() ──\n",
      "✖ dplyr::filter() masks stats::filter()\n",
      "✖ dplyr::lag()    masks stats::lag()\n",
      "Loading required package: S4Vectors\n",
      "Loading required package: stats4\n",
      "Loading required package: BiocGenerics\n",
      "Loading required package: parallel\n",
      "\n",
      "Attaching package: ‘BiocGenerics’\n",
      "\n",
      "The following objects are masked from ‘package:parallel’:\n",
      "\n",
      "    clusterApply, clusterApplyLB, clusterCall, clusterEvalQ,\n",
      "    clusterExport, clusterMap, parApply, parCapply, parLapply,\n",
      "    parLapplyLB, parRapply, parSapply, parSapplyLB\n",
      "\n",
      "The following objects are masked from ‘package:dplyr’:\n",
      "\n",
      "    combine, intersect, setdiff, union\n",
      "\n",
      "The following objects are masked from ‘package:stats’:\n",
      "\n",
      "    IQR, mad, sd, var, xtabs\n",
      "\n",
      "The following objects are masked from ‘package:base’:\n",
      "\n",
      "    anyDuplicated, append, as.data.frame, basename, cbind, colnames,\n",
      "    dirname, do.call, duplicated, eval, evalq, Filter, Find, get, grep,\n",
      "    grepl, intersect, is.unsorted, lapply, Map, mapply, match, mget,\n",
      "    order, paste, pmax, pmax.int, pmin, pmin.int, Position, rank,\n",
      "    rbind, Reduce, rownames, sapply, setdiff, sort, table, tapply,\n",
      "    union, unique, unsplit, which, which.max, which.min\n",
      "\n",
      "\n",
      "Attaching package: ‘S4Vectors’\n",
      "\n",
      "The following objects are masked from ‘package:dplyr’:\n",
      "\n",
      "    first, rename\n",
      "\n",
      "The following object is masked from ‘package:tidyr’:\n",
      "\n",
      "    expand\n",
      "\n",
      "The following object is masked from ‘package:base’:\n",
      "\n",
      "    expand.grid\n",
      "\n",
      "Loading required package: IRanges\n",
      "\n",
      "Attaching package: ‘IRanges’\n",
      "\n",
      "The following objects are masked from ‘package:dplyr’:\n",
      "\n",
      "    collapse, desc, slice\n",
      "\n",
      "The following object is masked from ‘package:purrr’:\n",
      "\n",
      "    reduce\n",
      "\n",
      "Loading required package: GenomicRanges\n",
      "Loading required package: GenomeInfoDb\n",
      "Loading required package: SummarizedExperiment\n",
      "Loading required package: Biobase\n",
      "Welcome to Bioconductor\n",
      "\n",
      "    Vignettes contain introductory material; view with\n",
      "    'browseVignettes()'. To cite Bioconductor, see\n",
      "    'citation(\"Biobase\")', and for packages 'citation(\"pkgname\")'.\n",
      "\n",
      "Loading required package: DelayedArray\n",
      "Loading required package: matrixStats\n",
      "\n",
      "Attaching package: ‘matrixStats’\n",
      "\n",
      "The following objects are masked from ‘package:Biobase’:\n",
      "\n",
      "    anyMissing, rowMedians\n",
      "\n",
      "The following object is masked from ‘package:dplyr’:\n",
      "\n",
      "    count\n",
      "\n",
      "Loading required package: BiocParallel\n",
      "\n",
      "Attaching package: ‘DelayedArray’\n",
      "\n",
      "The following objects are masked from ‘package:matrixStats’:\n",
      "\n",
      "    colMaxs, colMins, colRanges, rowMaxs, rowMins, rowRanges\n",
      "\n",
      "The following object is masked from ‘package:purrr’:\n",
      "\n",
      "    simplify\n",
      "\n",
      "The following objects are masked from ‘package:base’:\n",
      "\n",
      "    aperm, apply, rowsum\n",
      "\n"
     ]
    }
   ],
   "source": [
    "library(tidyverse)\n",
    "library(TCGAbiolinks)\n",
    "library(DESeq2)\n",
    "library(BiocParallel)"
   ]
  },
  {
   "cell_type": "markdown",
   "metadata": {},
   "source": [
    "## Take advantage of parallelization in DESeq2 functions"
   ]
  },
  {
   "cell_type": "code",
   "execution_count": 2,
   "metadata": {},
   "outputs": [],
   "source": [
    "n_cores <- detectCores()\n",
    "BiocParallel::register(MulticoreParam(n_cores))"
   ]
  },
  {
   "cell_type": "markdown",
   "metadata": {},
   "source": [
    "## Constants"
   ]
  },
  {
   "cell_type": "code",
   "execution_count": 255,
   "metadata": {},
   "outputs": [],
   "source": [
    "projects <- c(\"TCGA-UCEC\", \"TCGA-CESC\")\n",
    "data_root <- \"../../../../../mnt/d/TCGA\"\n",
    "project_dirs <- sapply(\n",
    "    projects, \n",
    "    (function(p) paste0(data_root, \"/\", as.character(Sys.Date()), \"-\", p, \"-\", \"TCGAbiolinks\"))\n",
    ")\n",
    "tumor_levels <- c(\"Primary solid Tumor\", \"Metastatic\")\n",
    "healthy_levels <- c(\"Solid Tissue Normal\")\n",
    "tumor_def <- \"Tumor\"\n",
    "healthy_def <- \"Healthy\"\n",
    "proj_idx <- 2\n",
    "# max_padj <- 0.05\n",
    "# min_l2fc <- log2(2)"
   ]
  },
  {
   "cell_type": "markdown",
   "metadata": {},
   "source": [
    "## Functions"
   ]
  },
  {
   "cell_type": "code",
   "execution_count": 262,
   "metadata": {},
   "outputs": [],
   "source": [
    "consolidate_levels <- function(d, old_tumor_levels, old_healthy_levels, new_tumor_level, new_healthy_level, drop_remaining = TRUE) {\n",
    "    tumor_mask <- d$definition %in% old_tumor_levels\n",
    "    healthy_mask <- d$definition %in% old_healthy_levels\n",
    "    d$definition[tumor_mask] <- new_tumor_level\n",
    "    d$definition[healthy_mask] <- new_healthy_level\n",
    "    \n",
    "    if (drop_remaining) {\n",
    "        level_mask <- d$definition %in% c(new_tumor_level, new_healthy_level)\n",
    "        d <- d[, level_mask]\n",
    "    }\n",
    "}\n",
    "\n",
    "\n",
    "filter_DGE_res <- function(df, max_padj = 0.05, min_l2fc = log2(2)) {\n",
    "    padj_mask <- df$padj <= max_padj\n",
    "    l2fc_mask <- df$log2FoldChange >= min_l2fc\n",
    "    final_mask <- padj_mask & l2fc_mask\n",
    "    return(df[final_mask, ])\n",
    "}"
   ]
  },
  {
   "cell_type": "markdown",
   "metadata": {},
   "source": [
    "## Run Query & download"
   ]
  },
  {
   "cell_type": "code",
   "execution_count": 5,
   "metadata": {},
   "outputs": [
    {
     "name": "stderr",
     "output_type": "stream",
     "text": [
      "--------------------------------------\n",
      "o GDCquery: Searching in GDC database\n",
      "--------------------------------------\n",
      "Genome of reference: hg38\n",
      "--------------------------------------------\n",
      "oo Accessing GDC. This might take a while...\n",
      "--------------------------------------------\n",
      "ooo Project: TCGA-CESC\n",
      "--------------------\n",
      "oo Filtering results\n",
      "--------------------\n",
      "ooo By data.type\n",
      "ooo By workflow.type\n",
      "----------------\n",
      "oo Checking data\n",
      "----------------\n",
      "ooo Check if there are duplicated cases\n",
      "ooo Check if there results for the query\n",
      "-------------------\n",
      "o Preparing output\n",
      "-------------------\n"
     ]
    }
   ],
   "source": [
    "query <- GDCquery(\n",
    "    project = projects[proj_idx],\n",
    "    data.category = \"Transcriptome Profiling\",\n",
    "    data.type = \"Gene Expression Quantification\",\n",
    "    workflow.type = \"HTSeq - Counts\"\n",
    ")"
   ]
  },
  {
   "cell_type": "code",
   "execution_count": 6,
   "metadata": {},
   "outputs": [
    {
     "name": "stderr",
     "output_type": "stream",
     "text": [
      "Downloading data for project TCGA-CESC\n",
      "Of the 309 files for download 309 already exist.\n",
      "All samples have been already downloaded\n"
     ]
    }
   ],
   "source": [
    "GDCdownload(query, method = \"api\", directory = project_dirs[proj_idx], files.per.chunk = 10)"
   ]
  },
  {
   "cell_type": "markdown",
   "metadata": {},
   "source": [
    "## Prepare data for analysis"
   ]
  },
  {
   "cell_type": "code",
   "execution_count": 263,
   "metadata": {},
   "outputs": [
    {
     "name": "stdout",
     "output_type": "stream",
     "text": [
      "|====================================================|100%                      Completed after 27 s \n"
     ]
    },
    {
     "name": "stderr",
     "output_type": "stream",
     "text": [
      "Starting to add information to samples\n",
      " => Add clinical information to samples\n",
      "Add FFPE information. More information at: \n",
      "=> https://cancergenome.nih.gov/cancersselected/biospeccriteria \n",
      "=> http://gdac.broadinstitute.org/runs/sampleReports/latest/FPPP_FFPE_Cases.html\n",
      " => Adding subtype information to samples\n",
      "cesc subtype information from:doi:10.1038/nature21386\n",
      "Accessing www.ensembl.org to get gene information\n",
      "Downloading genome information (try:0) Using: Human genes (GRCh38.p13)\n",
      "Cache found\n",
      "From the 60483 genes we couldn't map 3990\n"
     ]
    }
   ],
   "source": [
    "data <- GDCprepare(query, directory = project_dirs[proj_idx])"
   ]
  },
  {
   "cell_type": "code",
   "execution_count": 277,
   "metadata": {},
   "outputs": [
    {
     "data": {
      "text/plain": [
       "class: RangedSummarizedExperiment \n",
       "dim: 56493 309 \n",
       "metadata(1): data_release\n",
       "assays(1): HTSeq - Counts\n",
       "rownames(56493): ENSG00000000003 ENSG00000000005 ... ENSG00000281912\n",
       "  ENSG00000281920\n",
       "rowData names(3): ensembl_gene_id external_gene_name\n",
       "  original_ensembl_gene_id\n",
       "colnames(309): TCGA-JX-A3Q8-01A-11R-A21T-07\n",
       "  TCGA-C5-A1BK-01B-11R-A13Y-07 ... TCGA-EK-A2R8-01A-21R-A18M-07\n",
       "  TCGA-JW-A5VK-01A-11R-A28H-07\n",
       "colData names(131): sample patient ... subtype_GEXP.APOBEC3H.164668\n",
       "  subtype_patient"
      ]
     },
     "metadata": {},
     "output_type": "display_data"
    }
   ],
   "source": [
    "data"
   ]
  },
  {
   "cell_type": "markdown",
   "metadata": {},
   "source": [
    "### Only want two levels\n",
    "\n",
    "Lump \"Metastatic\" and \"Primary Solid Tumor\" together, define \"Healthy\" as non-tumor, and filter out data from other levels"
   ]
  },
  {
   "cell_type": "code",
   "execution_count": 278,
   "metadata": {},
   "outputs": [],
   "source": [
    "data_consolidated <- consolidate_levels(\n",
    "    data,\n",
    "    old_tumor_levels = tumor_levels,\n",
    "    old_healthy_levels = healthy_levels,\n",
    "    new_tumor_level = tumor_def,\n",
    "    new_healthy_level = healthy_def,\n",
    "    drop_remaining = TRUE\n",
    ")"
   ]
  },
  {
   "cell_type": "code",
   "execution_count": 285,
   "metadata": {},
   "outputs": [
    {
     "data": {
      "text/html": [
       "<style>\n",
       ".list-inline {list-style: none; margin:0; padding: 0}\n",
       ".list-inline>li {display: inline-block}\n",
       ".list-inline>li:not(:last-child)::after {content: \"\\00b7\"; padding: 0 .5ex}\n",
       "</style>\n",
       "<ol class=list-inline><li>'Tumor'</li><li>'Healthy'</li></ol>\n"
      ],
      "text/latex": [
       "\\begin{enumerate*}\n",
       "\\item 'Tumor'\n",
       "\\item 'Healthy'\n",
       "\\end{enumerate*}\n"
      ],
      "text/markdown": [
       "1. 'Tumor'\n",
       "2. 'Healthy'\n",
       "\n",
       "\n"
      ],
      "text/plain": [
       "[1] \"Tumor\"   \"Healthy\""
      ]
     },
     "metadata": {},
     "output_type": "display_data"
    },
    {
     "data": {
      "text/plain": [
       "class: RangedSummarizedExperiment \n",
       "dim: 56493 309 \n",
       "metadata(1): data_release\n",
       "assays(1): HTSeq - Counts\n",
       "rownames(56493): ENSG00000000003 ENSG00000000005 ... ENSG00000281912\n",
       "  ENSG00000281920\n",
       "rowData names(3): ensembl_gene_id external_gene_name\n",
       "  original_ensembl_gene_id\n",
       "colnames(309): TCGA-JX-A3Q8-01A-11R-A21T-07\n",
       "  TCGA-C5-A1BK-01B-11R-A13Y-07 ... TCGA-EK-A2R8-01A-21R-A18M-07\n",
       "  TCGA-JW-A5VK-01A-11R-A28H-07\n",
       "colData names(131): sample patient ... subtype_GEXP.APOBEC3H.164668\n",
       "  subtype_patient"
      ]
     },
     "metadata": {},
     "output_type": "display_data"
    }
   ],
   "source": [
    "unique(data_consolidated$definition)\n",
    "data_consolidated"
   ]
  },
  {
   "cell_type": "code",
   "execution_count": 287,
   "metadata": {},
   "outputs": [
    {
     "data": {
      "text/html": [
       "306"
      ],
      "text/latex": [
       "306"
      ],
      "text/markdown": [
       "306"
      ],
      "text/plain": [
       "[1] 306"
      ]
     },
     "metadata": {},
     "output_type": "display_data"
    },
    {
     "data": {
      "text/html": [
       "3"
      ],
      "text/latex": [
       "3"
      ],
      "text/markdown": [
       "3"
      ],
      "text/plain": [
       "[1] 3"
      ]
     },
     "metadata": {},
     "output_type": "display_data"
    }
   ],
   "source": [
    "sum(data_consolidated$definition == tumor_def)\n",
    "sum(data_consolidated$definition == healthy_def)"
   ]
  },
  {
   "cell_type": "markdown",
   "metadata": {},
   "source": [
    "## Prep data for DGE analysis"
   ]
  },
  {
   "cell_type": "code",
   "execution_count": 288,
   "metadata": {},
   "outputs": [
    {
     "name": "stderr",
     "output_type": "stream",
     "text": [
      "renaming the first element in assays to 'counts'\n",
      "converting counts to integer mode\n",
      "Warning message in DESeqDataSet(data_consolidated, design = ~definition):\n",
      "“some variables in design formula are characters, converting to factors”"
     ]
    }
   ],
   "source": [
    "ddsSE <- DESeqDataSet(data_consolidated, design = ~ definition)"
   ]
  },
  {
   "cell_type": "code",
   "execution_count": 289,
   "metadata": {},
   "outputs": [
    {
     "data": {
      "text/plain": [
       "class: DESeqDataSet \n",
       "dim: 56493 309 \n",
       "metadata(2): data_release version\n",
       "assays(1): counts\n",
       "rownames(56493): ENSG00000000003 ENSG00000000005 ... ENSG00000281912\n",
       "  ENSG00000281920\n",
       "rowData names(3): ensembl_gene_id external_gene_name\n",
       "  original_ensembl_gene_id\n",
       "colnames(309): TCGA-JX-A3Q8-01A-11R-A21T-07\n",
       "  TCGA-C5-A1BK-01B-11R-A13Y-07 ... TCGA-EK-A2R8-01A-21R-A18M-07\n",
       "  TCGA-JW-A5VK-01A-11R-A28H-07\n",
       "colData names(131): sample patient ... subtype_GEXP.APOBEC3H.164668\n",
       "  subtype_patient"
      ]
     },
     "metadata": {},
     "output_type": "display_data"
    }
   ],
   "source": [
    "ddsSE"
   ]
  },
  {
   "cell_type": "markdown",
   "metadata": {},
   "source": [
    "### Filter out genes which are not expressed in either tumor or healthy conditions\n",
    "I.E. we want to keep only genes that are expressed in the healthy AND the tumor conditions"
   ]
  },
  {
   "cell_type": "code",
   "execution_count": 290,
   "metadata": {},
   "outputs": [
    {
     "data": {
      "text/html": [
       "306"
      ],
      "text/latex": [
       "306"
      ],
      "text/markdown": [
       "306"
      ],
      "text/plain": [
       "[1] 306"
      ]
     },
     "metadata": {},
     "output_type": "display_data"
    },
    {
     "data": {
      "text/html": [
       "3"
      ],
      "text/latex": [
       "3"
      ],
      "text/markdown": [
       "3"
      ],
      "text/plain": [
       "[1] 3"
      ]
     },
     "metadata": {},
     "output_type": "display_data"
    }
   ],
   "source": [
    "tumor_cond_mask <- ddsSE$definition == tumor_def\n",
    "healthy_cond_mask <- ddsSE$definition == healthy_def\n",
    "sum(tumor_cond_mask)\n",
    "sum(healthy_cond_mask)"
   ]
  },
  {
   "cell_type": "code",
   "execution_count": 291,
   "metadata": {},
   "outputs": [
    {
     "data": {
      "text/html": [
       "53753"
      ],
      "text/latex": [
       "53753"
      ],
      "text/markdown": [
       "53753"
      ],
      "text/plain": [
       "[1] 53753"
      ]
     },
     "metadata": {},
     "output_type": "display_data"
    },
    {
     "data": {
      "text/html": [
       "35559"
      ],
      "text/latex": [
       "35559"
      ],
      "text/markdown": [
       "35559"
      ],
      "text/plain": [
       "[1] 35559"
      ]
     },
     "metadata": {},
     "output_type": "display_data"
    },
    {
     "data": {
      "text/html": [
       "35549"
      ],
      "text/latex": [
       "35549"
      ],
      "text/markdown": [
       "35549"
      ],
      "text/plain": [
       "[1] 35549"
      ]
     },
     "metadata": {},
     "output_type": "display_data"
    }
   ],
   "source": [
    "tumor_cond_expr_mask <- rowSums(counts(ddsSE[, tumor_condition_mask])) > 0\n",
    "healthy_cond_expr_mask <- rowSums(counts(ddsSE[, healthy_condition_mask])) > 0\n",
    "expr_mask <- tumor_cond_expr_mask & healthy_cond_expr_mask\n",
    "sum(tumor_cond_expr_mask)\n",
    "sum(healthy_cond_expr_mask)\n",
    "sum(expr_mask)"
   ]
  },
  {
   "cell_type": "code",
   "execution_count": 292,
   "metadata": {},
   "outputs": [],
   "source": [
    "ddsSE <- ddsSE[expr_mask, ]"
   ]
  },
  {
   "cell_type": "code",
   "execution_count": 293,
   "metadata": {},
   "outputs": [
    {
     "data": {
      "text/plain": [
       "class: DESeqDataSet \n",
       "dim: 35549 309 \n",
       "metadata(2): data_release version\n",
       "assays(1): counts\n",
       "rownames(35549): ENSG00000000003 ENSG00000000005 ... ENSG00000281912\n",
       "  ENSG00000281920\n",
       "rowData names(3): ensembl_gene_id external_gene_name\n",
       "  original_ensembl_gene_id\n",
       "colnames(309): TCGA-JX-A3Q8-01A-11R-A21T-07\n",
       "  TCGA-C5-A1BK-01B-11R-A13Y-07 ... TCGA-EK-A2R8-01A-21R-A18M-07\n",
       "  TCGA-JW-A5VK-01A-11R-A28H-07\n",
       "colData names(131): sample patient ... subtype_GEXP.APOBEC3H.164668\n",
       "  subtype_patient"
      ]
     },
     "metadata": {},
     "output_type": "display_data"
    }
   ],
   "source": [
    "ddsSE"
   ]
  },
  {
   "cell_type": "markdown",
   "metadata": {},
   "source": [
    "## Perform DGE analysis"
   ]
  },
  {
   "cell_type": "code",
   "execution_count": 294,
   "metadata": {},
   "outputs": [
    {
     "name": "stderr",
     "output_type": "stream",
     "text": [
      "estimating size factors\n",
      "estimating dispersions\n",
      "gene-wise dispersion estimates: 16 workers\n",
      "mean-dispersion relationship\n",
      "final dispersion estimates, fitting model and testing: 16 workers\n",
      "-- replacing outliers and refitting for 3297 genes\n",
      "-- DESeq argument 'minReplicatesForReplace' = 7 \n",
      "-- original counts are preserved in counts(dds)\n",
      "estimating dispersions\n",
      "fitting model and testing\n"
     ]
    }
   ],
   "source": [
    "ddsSESeq <- DESeq(ddsSE, parallel = TRUE)"
   ]
  },
  {
   "cell_type": "code",
   "execution_count": 295,
   "metadata": {},
   "outputs": [
    {
     "data": {
      "text/plain": [
       "class: DESeqDataSet \n",
       "dim: 35549 309 \n",
       "metadata(2): data_release version\n",
       "assays(6): counts mu ... replaceCounts replaceCooks\n",
       "rownames(35549): ENSG00000000003 ENSG00000000005 ... ENSG00000281912\n",
       "  ENSG00000281920\n",
       "rowData names(26): ensembl_gene_id external_gene_name ... maxCooks\n",
       "  replace\n",
       "colnames(309): TCGA-JX-A3Q8-01A-11R-A21T-07\n",
       "  TCGA-C5-A1BK-01B-11R-A13Y-07 ... TCGA-EK-A2R8-01A-21R-A18M-07\n",
       "  TCGA-JW-A5VK-01A-11R-A28H-07\n",
       "colData names(133): sample patient ... sizeFactor replaceable"
      ]
     },
     "metadata": {},
     "output_type": "display_data"
    }
   ],
   "source": [
    "ddsSESeq"
   ]
  },
  {
   "cell_type": "code",
   "execution_count": 296,
   "metadata": {},
   "outputs": [
    {
     "data": {
      "text/html": [
       "<style>\n",
       ".list-inline {list-style: none; margin:0; padding: 0}\n",
       ".list-inline>li {display: inline-block}\n",
       ".list-inline>li:not(:last-child)::after {content: \"\\00b7\"; padding: 0 .5ex}\n",
       "</style>\n",
       "<ol class=list-inline><li>'Intercept'</li><li>'definition_Tumor_vs_Healthy'</li></ol>\n"
      ],
      "text/latex": [
       "\\begin{enumerate*}\n",
       "\\item 'Intercept'\n",
       "\\item 'definition\\_Tumor\\_vs\\_Healthy'\n",
       "\\end{enumerate*}\n"
      ],
      "text/markdown": [
       "1. 'Intercept'\n",
       "2. 'definition_Tumor_vs_Healthy'\n",
       "\n",
       "\n"
      ],
      "text/plain": [
       "[1] \"Intercept\"                   \"definition_Tumor_vs_Healthy\""
      ]
     },
     "metadata": {},
     "output_type": "display_data"
    }
   ],
   "source": [
    "resultsNames(ddsSESeq)"
   ]
  },
  {
   "cell_type": "code",
   "execution_count": 297,
   "metadata": {},
   "outputs": [],
   "source": [
    "res <- results(ddsSESeq, contrast = c(\"definition\", \"Tumor\", \"Healthy\"), pAdjustMethod = \"BH\", parallel = TRUE)"
   ]
  },
  {
   "cell_type": "markdown",
   "metadata": {},
   "source": [
    "## Combine results with external gene IDs"
   ]
  },
  {
   "cell_type": "code",
   "execution_count": 298,
   "metadata": {},
   "outputs": [
    {
     "data": {
      "text/html": [
       "<table>\n",
       "<caption>A tibble: 6 × 7</caption>\n",
       "<thead>\n",
       "\t<tr><th scope=col>geneID</th><th scope=col>baseMean</th><th scope=col>log2FoldChange</th><th scope=col>lfcSE</th><th scope=col>stat</th><th scope=col>pvalue</th><th scope=col>padj</th></tr>\n",
       "\t<tr><th scope=col>&lt;chr&gt;</th><th scope=col>&lt;dbl&gt;</th><th scope=col>&lt;dbl&gt;</th><th scope=col>&lt;dbl&gt;</th><th scope=col>&lt;dbl&gt;</th><th scope=col>&lt;dbl&gt;</th><th scope=col>&lt;dbl&gt;</th></tr>\n",
       "</thead>\n",
       "<tbody>\n",
       "\t<tr><td>ENSG00000000003</td><td>3476.033426</td><td> 0.3218579</td><td>0.4444177</td><td> 0.7242239</td><td>4.689283e-01</td><td>6.487193e-01</td></tr>\n",
       "\t<tr><td>ENSG00000000005</td><td>   2.267135</td><td>-3.8836735</td><td>1.7357334</td><td>-2.2374828</td><td>2.525480e-02</td><td>9.194335e-02</td></tr>\n",
       "\t<tr><td>ENSG00000000419</td><td>2638.597733</td><td> 0.3850439</td><td>0.2701783</td><td> 1.4251477</td><td>1.541145e-01</td><td>3.193678e-01</td></tr>\n",
       "\t<tr><td>ENSG00000000457</td><td> 910.186204</td><td> 0.2949981</td><td>0.2782027</td><td> 1.0603710</td><td>2.889758e-01</td><td>4.799699e-01</td></tr>\n",
       "\t<tr><td>ENSG00000000460</td><td> 878.032328</td><td> 2.4829943</td><td>0.3161081</td><td> 7.8548899</td><td>4.001234e-15</td><td>4.944582e-13</td></tr>\n",
       "\t<tr><td>ENSG00000000938</td><td> 514.668255</td><td>-1.1657661</td><td>0.5908316</td><td>-1.9730936</td><td>4.848490e-02</td><td>1.465515e-01</td></tr>\n",
       "</tbody>\n",
       "</table>\n"
      ],
      "text/latex": [
       "A tibble: 6 × 7\n",
       "\\begin{tabular}{lllllll}\n",
       " geneID & baseMean & log2FoldChange & lfcSE & stat & pvalue & padj\\\\\n",
       " <chr> & <dbl> & <dbl> & <dbl> & <dbl> & <dbl> & <dbl>\\\\\n",
       "\\hline\n",
       "\t ENSG00000000003 & 3476.033426 &  0.3218579 & 0.4444177 &  0.7242239 & 4.689283e-01 & 6.487193e-01\\\\\n",
       "\t ENSG00000000005 &    2.267135 & -3.8836735 & 1.7357334 & -2.2374828 & 2.525480e-02 & 9.194335e-02\\\\\n",
       "\t ENSG00000000419 & 2638.597733 &  0.3850439 & 0.2701783 &  1.4251477 & 1.541145e-01 & 3.193678e-01\\\\\n",
       "\t ENSG00000000457 &  910.186204 &  0.2949981 & 0.2782027 &  1.0603710 & 2.889758e-01 & 4.799699e-01\\\\\n",
       "\t ENSG00000000460 &  878.032328 &  2.4829943 & 0.3161081 &  7.8548899 & 4.001234e-15 & 4.944582e-13\\\\\n",
       "\t ENSG00000000938 &  514.668255 & -1.1657661 & 0.5908316 & -1.9730936 & 4.848490e-02 & 1.465515e-01\\\\\n",
       "\\end{tabular}\n"
      ],
      "text/markdown": [
       "\n",
       "A tibble: 6 × 7\n",
       "\n",
       "| geneID &lt;chr&gt; | baseMean &lt;dbl&gt; | log2FoldChange &lt;dbl&gt; | lfcSE &lt;dbl&gt; | stat &lt;dbl&gt; | pvalue &lt;dbl&gt; | padj &lt;dbl&gt; |\n",
       "|---|---|---|---|---|---|---|\n",
       "| ENSG00000000003 | 3476.033426 |  0.3218579 | 0.4444177 |  0.7242239 | 4.689283e-01 | 6.487193e-01 |\n",
       "| ENSG00000000005 |    2.267135 | -3.8836735 | 1.7357334 | -2.2374828 | 2.525480e-02 | 9.194335e-02 |\n",
       "| ENSG00000000419 | 2638.597733 |  0.3850439 | 0.2701783 |  1.4251477 | 1.541145e-01 | 3.193678e-01 |\n",
       "| ENSG00000000457 |  910.186204 |  0.2949981 | 0.2782027 |  1.0603710 | 2.889758e-01 | 4.799699e-01 |\n",
       "| ENSG00000000460 |  878.032328 |  2.4829943 | 0.3161081 |  7.8548899 | 4.001234e-15 | 4.944582e-13 |\n",
       "| ENSG00000000938 |  514.668255 | -1.1657661 | 0.5908316 | -1.9730936 | 4.848490e-02 | 1.465515e-01 |\n",
       "\n"
      ],
      "text/plain": [
       "  geneID          baseMean    log2FoldChange lfcSE     stat       pvalue      \n",
       "1 ENSG00000000003 3476.033426  0.3218579     0.4444177  0.7242239 4.689283e-01\n",
       "2 ENSG00000000005    2.267135 -3.8836735     1.7357334 -2.2374828 2.525480e-02\n",
       "3 ENSG00000000419 2638.597733  0.3850439     0.2701783  1.4251477 1.541145e-01\n",
       "4 ENSG00000000457  910.186204  0.2949981     0.2782027  1.0603710 2.889758e-01\n",
       "5 ENSG00000000460  878.032328  2.4829943     0.3161081  7.8548899 4.001234e-15\n",
       "6 ENSG00000000938  514.668255 -1.1657661     0.5908316 -1.9730936 4.848490e-02\n",
       "  padj        \n",
       "1 6.487193e-01\n",
       "2 9.194335e-02\n",
       "3 3.193678e-01\n",
       "4 4.799699e-01\n",
       "5 4.944582e-13\n",
       "6 1.465515e-01"
      ]
     },
     "metadata": {},
     "output_type": "display_data"
    },
    {
     "data": {
      "text/html": [
       "<table>\n",
       "<caption>A tibble: 6 × 26</caption>\n",
       "<thead>\n",
       "\t<tr><th scope=col>ensembl_gene_id</th><th scope=col>external_gene_name</th><th scope=col>original_ensembl_gene_id</th><th scope=col>baseMean</th><th scope=col>baseVar</th><th scope=col>allZero</th><th scope=col>dispGeneEst</th><th scope=col>dispGeneIter</th><th scope=col>dispFit</th><th scope=col>dispersion</th><th scope=col>⋯</th><th scope=col>SE_definition_Tumor_vs_Healthy</th><th scope=col>WaldStatistic_Intercept</th><th scope=col>WaldStatistic_definition_Tumor_vs_Healthy</th><th scope=col>WaldPvalue_Intercept</th><th scope=col>WaldPvalue_definition_Tumor_vs_Healthy</th><th scope=col>betaConv</th><th scope=col>betaIter</th><th scope=col>deviance</th><th scope=col>maxCooks</th><th scope=col>replace</th></tr>\n",
       "\t<tr><th scope=col>&lt;chr&gt;</th><th scope=col>&lt;chr&gt;</th><th scope=col>&lt;chr&gt;</th><th scope=col>&lt;dbl&gt;</th><th scope=col>&lt;dbl&gt;</th><th scope=col>&lt;lgl&gt;</th><th scope=col>&lt;dbl&gt;</th><th scope=col>&lt;dbl&gt;</th><th scope=col>&lt;dbl&gt;</th><th scope=col>&lt;dbl&gt;</th><th scope=col>⋯</th><th scope=col>&lt;dbl&gt;</th><th scope=col>&lt;dbl&gt;</th><th scope=col>&lt;dbl&gt;</th><th scope=col>&lt;dbl&gt;</th><th scope=col>&lt;dbl&gt;</th><th scope=col>&lt;lgl&gt;</th><th scope=col>&lt;dbl&gt;</th><th scope=col>&lt;dbl&gt;</th><th scope=col>&lt;dbl&gt;</th><th scope=col>&lt;lgl&gt;</th></tr>\n",
       "</thead>\n",
       "<tbody>\n",
       "\t<tr><td>ENSG00000000003</td><td>TSPAN6  </td><td>ENSG00000000003.13</td><td>3476.033426</td><td>3.940164e+06</td><td>FALSE</td><td>0.2800062</td><td>15</td><td>0.8832757</td><td>0.2815563</td><td>⋯</td><td>0.4444177</td><td>25.87686</td><td> 0.7242239</td><td>1.213545e-147</td><td>4.689283e-01</td><td>TRUE</td><td>3</td><td>5466.125</td><td>0.342619187</td><td>FALSE</td></tr>\n",
       "\t<tr><td>ENSG00000000005</td><td>TNMD    </td><td>ENSG00000000005.5 </td><td>   2.267135</td><td>8.077287e+01</td><td>FALSE</td><td>4.2965380</td><td>13</td><td>1.9727695</td><td>4.2612391</td><td>⋯</td><td>1.7357334</td><td> 2.81675</td><td>-2.2374828</td><td> 4.851226e-03</td><td>2.525480e-02</td><td>TRUE</td><td>6</td><td>1018.913</td><td>0.019389739</td><td>FALSE</td></tr>\n",
       "\t<tr><td>ENSG00000000419</td><td>DPM1    </td><td>ENSG00000000419.11</td><td>2638.597733</td><td>7.558667e+05</td><td>FALSE</td><td>0.1075142</td><td>14</td><td>0.8835014</td><td>0.1036992</td><td>⋯</td><td>0.2701783</td><td>40.85256</td><td> 1.4251477</td><td> 0.000000e+00</td><td>1.541145e-01</td><td>TRUE</td><td>3</td><td>5025.976</td><td>0.001500538</td><td>FALSE</td></tr>\n",
       "\t<tr><td>ENSG00000000457</td><td>SCYL3   </td><td>ENSG00000000457.12</td><td> 910.186204</td><td>9.218868e+04</td><td>FALSE</td><td>0.1099086</td><td>14</td><td>0.8852802</td><td>0.1091296</td><td>⋯</td><td>0.2782027</td><td>34.45117</td><td> 1.0603710</td><td>4.325215e-260</td><td>2.889758e-01</td><td>TRUE</td><td>3</td><td>4385.427</td><td>0.194833296</td><td>FALSE</td></tr>\n",
       "\t<tr><td>ENSG00000000460</td><td>C1orf112</td><td>ENSG00000000460.15</td><td> 878.032328</td><td>1.156717e+05</td><td>FALSE</td><td>0.1408486</td><td>14</td><td>0.8853796</td><td>0.1363742</td><td>⋯</td><td>0.3161081</td><td>23.22452</td><td> 7.8548899</td><td>2.574325e-119</td><td>4.001234e-15</td><td>TRUE</td><td>3</td><td>4420.954</td><td>0.276946722</td><td>FALSE</td></tr>\n",
       "\t<tr><td>ENSG00000000938</td><td>FGR     </td><td>ENSG00000000938.11</td><td> 514.668255</td><td>1.938244e+05</td><td>FALSE</td><td>0.4960500</td><td>15</td><td>0.8873671</td><td>0.4973794</td><td>⋯</td><td>0.5908316</td><td>17.27355</td><td>-1.9730936</td><td> 7.442642e-67</td><td>4.848490e-02</td><td>TRUE</td><td>4</td><td>4407.542</td><td>0.144241292</td><td>FALSE</td></tr>\n",
       "</tbody>\n",
       "</table>\n"
      ],
      "text/latex": [
       "A tibble: 6 × 26\n",
       "\\begin{tabular}{lllllllllllllllllllll}\n",
       " ensembl\\_gene\\_id & external\\_gene\\_name & original\\_ensembl\\_gene\\_id & baseMean & baseVar & allZero & dispGeneEst & dispGeneIter & dispFit & dispersion & ⋯ & SE\\_definition\\_Tumor\\_vs\\_Healthy & WaldStatistic\\_Intercept & WaldStatistic\\_definition\\_Tumor\\_vs\\_Healthy & WaldPvalue\\_Intercept & WaldPvalue\\_definition\\_Tumor\\_vs\\_Healthy & betaConv & betaIter & deviance & maxCooks & replace\\\\\n",
       " <chr> & <chr> & <chr> & <dbl> & <dbl> & <lgl> & <dbl> & <dbl> & <dbl> & <dbl> & ⋯ & <dbl> & <dbl> & <dbl> & <dbl> & <dbl> & <lgl> & <dbl> & <dbl> & <dbl> & <lgl>\\\\\n",
       "\\hline\n",
       "\t ENSG00000000003 & TSPAN6   & ENSG00000000003.13 & 3476.033426 & 3.940164e+06 & FALSE & 0.2800062 & 15 & 0.8832757 & 0.2815563 & ⋯ & 0.4444177 & 25.87686 &  0.7242239 & 1.213545e-147 & 4.689283e-01 & TRUE & 3 & 5466.125 & 0.342619187 & FALSE\\\\\n",
       "\t ENSG00000000005 & TNMD     & ENSG00000000005.5  &    2.267135 & 8.077287e+01 & FALSE & 4.2965380 & 13 & 1.9727695 & 4.2612391 & ⋯ & 1.7357334 &  2.81675 & -2.2374828 &  4.851226e-03 & 2.525480e-02 & TRUE & 6 & 1018.913 & 0.019389739 & FALSE\\\\\n",
       "\t ENSG00000000419 & DPM1     & ENSG00000000419.11 & 2638.597733 & 7.558667e+05 & FALSE & 0.1075142 & 14 & 0.8835014 & 0.1036992 & ⋯ & 0.2701783 & 40.85256 &  1.4251477 &  0.000000e+00 & 1.541145e-01 & TRUE & 3 & 5025.976 & 0.001500538 & FALSE\\\\\n",
       "\t ENSG00000000457 & SCYL3    & ENSG00000000457.12 &  910.186204 & 9.218868e+04 & FALSE & 0.1099086 & 14 & 0.8852802 & 0.1091296 & ⋯ & 0.2782027 & 34.45117 &  1.0603710 & 4.325215e-260 & 2.889758e-01 & TRUE & 3 & 4385.427 & 0.194833296 & FALSE\\\\\n",
       "\t ENSG00000000460 & C1orf112 & ENSG00000000460.15 &  878.032328 & 1.156717e+05 & FALSE & 0.1408486 & 14 & 0.8853796 & 0.1363742 & ⋯ & 0.3161081 & 23.22452 &  7.8548899 & 2.574325e-119 & 4.001234e-15 & TRUE & 3 & 4420.954 & 0.276946722 & FALSE\\\\\n",
       "\t ENSG00000000938 & FGR      & ENSG00000000938.11 &  514.668255 & 1.938244e+05 & FALSE & 0.4960500 & 15 & 0.8873671 & 0.4973794 & ⋯ & 0.5908316 & 17.27355 & -1.9730936 &  7.442642e-67 & 4.848490e-02 & TRUE & 4 & 4407.542 & 0.144241292 & FALSE\\\\\n",
       "\\end{tabular}\n"
      ],
      "text/markdown": [
       "\n",
       "A tibble: 6 × 26\n",
       "\n",
       "| ensembl_gene_id &lt;chr&gt; | external_gene_name &lt;chr&gt; | original_ensembl_gene_id &lt;chr&gt; | baseMean &lt;dbl&gt; | baseVar &lt;dbl&gt; | allZero &lt;lgl&gt; | dispGeneEst &lt;dbl&gt; | dispGeneIter &lt;dbl&gt; | dispFit &lt;dbl&gt; | dispersion &lt;dbl&gt; | ⋯ ⋯ | SE_definition_Tumor_vs_Healthy &lt;dbl&gt; | WaldStatistic_Intercept &lt;dbl&gt; | WaldStatistic_definition_Tumor_vs_Healthy &lt;dbl&gt; | WaldPvalue_Intercept &lt;dbl&gt; | WaldPvalue_definition_Tumor_vs_Healthy &lt;dbl&gt; | betaConv &lt;lgl&gt; | betaIter &lt;dbl&gt; | deviance &lt;dbl&gt; | maxCooks &lt;dbl&gt; | replace &lt;lgl&gt; |\n",
       "|---|---|---|---|---|---|---|---|---|---|---|---|---|---|---|---|---|---|---|---|---|\n",
       "| ENSG00000000003 | TSPAN6   | ENSG00000000003.13 | 3476.033426 | 3.940164e+06 | FALSE | 0.2800062 | 15 | 0.8832757 | 0.2815563 | ⋯ | 0.4444177 | 25.87686 |  0.7242239 | 1.213545e-147 | 4.689283e-01 | TRUE | 3 | 5466.125 | 0.342619187 | FALSE |\n",
       "| ENSG00000000005 | TNMD     | ENSG00000000005.5  |    2.267135 | 8.077287e+01 | FALSE | 4.2965380 | 13 | 1.9727695 | 4.2612391 | ⋯ | 1.7357334 |  2.81675 | -2.2374828 |  4.851226e-03 | 2.525480e-02 | TRUE | 6 | 1018.913 | 0.019389739 | FALSE |\n",
       "| ENSG00000000419 | DPM1     | ENSG00000000419.11 | 2638.597733 | 7.558667e+05 | FALSE | 0.1075142 | 14 | 0.8835014 | 0.1036992 | ⋯ | 0.2701783 | 40.85256 |  1.4251477 |  0.000000e+00 | 1.541145e-01 | TRUE | 3 | 5025.976 | 0.001500538 | FALSE |\n",
       "| ENSG00000000457 | SCYL3    | ENSG00000000457.12 |  910.186204 | 9.218868e+04 | FALSE | 0.1099086 | 14 | 0.8852802 | 0.1091296 | ⋯ | 0.2782027 | 34.45117 |  1.0603710 | 4.325215e-260 | 2.889758e-01 | TRUE | 3 | 4385.427 | 0.194833296 | FALSE |\n",
       "| ENSG00000000460 | C1orf112 | ENSG00000000460.15 |  878.032328 | 1.156717e+05 | FALSE | 0.1408486 | 14 | 0.8853796 | 0.1363742 | ⋯ | 0.3161081 | 23.22452 |  7.8548899 | 2.574325e-119 | 4.001234e-15 | TRUE | 3 | 4420.954 | 0.276946722 | FALSE |\n",
       "| ENSG00000000938 | FGR      | ENSG00000000938.11 |  514.668255 | 1.938244e+05 | FALSE | 0.4960500 | 15 | 0.8873671 | 0.4973794 | ⋯ | 0.5908316 | 17.27355 | -1.9730936 |  7.442642e-67 | 4.848490e-02 | TRUE | 4 | 4407.542 | 0.144241292 | FALSE |\n",
       "\n"
      ],
      "text/plain": [
       "  ensembl_gene_id external_gene_name original_ensembl_gene_id baseMean   \n",
       "1 ENSG00000000003 TSPAN6             ENSG00000000003.13       3476.033426\n",
       "2 ENSG00000000005 TNMD               ENSG00000000005.5           2.267135\n",
       "3 ENSG00000000419 DPM1               ENSG00000000419.11       2638.597733\n",
       "4 ENSG00000000457 SCYL3              ENSG00000000457.12        910.186204\n",
       "5 ENSG00000000460 C1orf112           ENSG00000000460.15        878.032328\n",
       "6 ENSG00000000938 FGR                ENSG00000000938.11        514.668255\n",
       "  baseVar      allZero dispGeneEst dispGeneIter dispFit   dispersion ⋯\n",
       "1 3.940164e+06 FALSE   0.2800062   15           0.8832757 0.2815563  ⋯\n",
       "2 8.077287e+01 FALSE   4.2965380   13           1.9727695 4.2612391  ⋯\n",
       "3 7.558667e+05 FALSE   0.1075142   14           0.8835014 0.1036992  ⋯\n",
       "4 9.218868e+04 FALSE   0.1099086   14           0.8852802 0.1091296  ⋯\n",
       "5 1.156717e+05 FALSE   0.1408486   14           0.8853796 0.1363742  ⋯\n",
       "6 1.938244e+05 FALSE   0.4960500   15           0.8873671 0.4973794  ⋯\n",
       "  SE_definition_Tumor_vs_Healthy WaldStatistic_Intercept\n",
       "1 0.4444177                      25.87686               \n",
       "2 1.7357334                       2.81675               \n",
       "3 0.2701783                      40.85256               \n",
       "4 0.2782027                      34.45117               \n",
       "5 0.3161081                      23.22452               \n",
       "6 0.5908316                      17.27355               \n",
       "  WaldStatistic_definition_Tumor_vs_Healthy WaldPvalue_Intercept\n",
       "1  0.7242239                                1.213545e-147       \n",
       "2 -2.2374828                                 4.851226e-03       \n",
       "3  1.4251477                                 0.000000e+00       \n",
       "4  1.0603710                                4.325215e-260       \n",
       "5  7.8548899                                2.574325e-119       \n",
       "6 -1.9730936                                 7.442642e-67       \n",
       "  WaldPvalue_definition_Tumor_vs_Healthy betaConv betaIter deviance maxCooks   \n",
       "1 4.689283e-01                           TRUE     3        5466.125 0.342619187\n",
       "2 2.525480e-02                           TRUE     6        1018.913 0.019389739\n",
       "3 1.541145e-01                           TRUE     3        5025.976 0.001500538\n",
       "4 2.889758e-01                           TRUE     3        4385.427 0.194833296\n",
       "5 4.001234e-15                           TRUE     3        4420.954 0.276946722\n",
       "6 4.848490e-02                           TRUE     4        4407.542 0.144241292\n",
       "  replace\n",
       "1 FALSE  \n",
       "2 FALSE  \n",
       "3 FALSE  \n",
       "4 FALSE  \n",
       "5 FALSE  \n",
       "6 FALSE  "
      ]
     },
     "metadata": {},
     "output_type": "display_data"
    }
   ],
   "source": [
    "res_df <- as_tibble(res, rownames = \"geneID\")\n",
    "head(res_df)\n",
    "ddSESeq_row_data_df <- rowData(ddsSESeq) %>% as_tibble()\n",
    "head(ddSESeq_row_data_df)"
   ]
  },
  {
   "cell_type": "markdown",
   "metadata": {},
   "source": [
    "### Make sure gene ordering is preserved between results and ddSESeq row data"
   ]
  },
  {
   "cell_type": "code",
   "execution_count": 299,
   "metadata": {},
   "outputs": [
    {
     "data": {
      "text/html": [
       "TRUE"
      ],
      "text/latex": [
       "TRUE"
      ],
      "text/markdown": [
       "TRUE"
      ],
      "text/plain": [
       "[1] TRUE"
      ]
     },
     "metadata": {},
     "output_type": "display_data"
    }
   ],
   "source": [
    "all(ddSESeq_row_data_df$ensembl_gene_id == res_df$geneID)"
   ]
  },
  {
   "cell_type": "code",
   "execution_count": 300,
   "metadata": {},
   "outputs": [],
   "source": [
    "res_genes_df <- res_df %>% mutate(\n",
    "        external_gene_name = ddSESeq_row_data_df$external_gene_name,\n",
    "        original_ensembl_gene_id = ddSESeq_row_data_df$original_ensembl_gene_id,\n",
    "        ensembl_gene_id = res_df$geneID\n",
    "    ) %>%\n",
    "    select(-geneID) %>%\n",
    "    select(ensembl_gene_id, original_ensembl_gene_id, external_gene_name, everything())"
   ]
  },
  {
   "cell_type": "code",
   "execution_count": 301,
   "metadata": {},
   "outputs": [
    {
     "data": {
      "text/html": [
       "<style>\n",
       ".list-inline {list-style: none; margin:0; padding: 0}\n",
       ".list-inline>li {display: inline-block}\n",
       ".list-inline>li:not(:last-child)::after {content: \"\\00b7\"; padding: 0 .5ex}\n",
       "</style>\n",
       "<ol class=list-inline><li>35549</li><li>9</li></ol>\n"
      ],
      "text/latex": [
       "\\begin{enumerate*}\n",
       "\\item 35549\n",
       "\\item 9\n",
       "\\end{enumerate*}\n"
      ],
      "text/markdown": [
       "1. 35549\n",
       "2. 9\n",
       "\n",
       "\n"
      ],
      "text/plain": [
       "[1] 35549     9"
      ]
     },
     "metadata": {},
     "output_type": "display_data"
    }
   ],
   "source": [
    "dim(res_genes_df)"
   ]
  },
  {
   "cell_type": "markdown",
   "metadata": {},
   "source": [
    "## Create DEG list"
   ]
  },
  {
   "cell_type": "markdown",
   "metadata": {},
   "source": [
    "### Drop rows (genes) with NA values"
   ]
  },
  {
   "cell_type": "code",
   "execution_count": 302,
   "metadata": {},
   "outputs": [],
   "source": [
    "na_mask <- rowSums(is.na(res_genes_df)) > 0\n",
    "res_genes_df <- res_genes_df[!na_mask, ]"
   ]
  },
  {
   "cell_type": "markdown",
   "metadata": {},
   "source": [
    "No NAs left?"
   ]
  },
  {
   "cell_type": "code",
   "execution_count": 303,
   "metadata": {},
   "outputs": [
    {
     "data": {
      "text/html": [
       "TRUE"
      ],
      "text/latex": [
       "TRUE"
      ],
      "text/markdown": [
       "TRUE"
      ],
      "text/plain": [
       "[1] TRUE"
      ]
     },
     "metadata": {},
     "output_type": "display_data"
    }
   ],
   "source": [
    "sum(rowSums(is.na(res_genes_df))) == 0"
   ]
  },
  {
   "cell_type": "markdown",
   "metadata": {},
   "source": [
    "How many rows left?"
   ]
  },
  {
   "cell_type": "code",
   "execution_count": 304,
   "metadata": {},
   "outputs": [
    {
     "data": {
      "text/html": [
       "28299"
      ],
      "text/latex": [
       "28299"
      ],
      "text/markdown": [
       "28299"
      ],
      "text/plain": [
       "[1] 28299"
      ]
     },
     "metadata": {},
     "output_type": "display_data"
    }
   ],
   "source": [
    "nrow(res_genes_df)"
   ]
  },
  {
   "cell_type": "markdown",
   "metadata": {},
   "source": [
    "### Apply final filters (adj. $p$-values, $\\log_2$ fold-change)"
   ]
  },
  {
   "cell_type": "code",
   "execution_count": 305,
   "metadata": {},
   "outputs": [],
   "source": [
    "DEG1_df <- filter_DGE_res(res_genes_df, max_padj = 0.05, min_l2fc = log2(2))"
   ]
  },
  {
   "cell_type": "markdown",
   "metadata": {},
   "source": [
    "How many rows left?"
   ]
  },
  {
   "cell_type": "code",
   "execution_count": 306,
   "metadata": {},
   "outputs": [
    {
     "data": {
      "text/html": [
       "3393"
      ],
      "text/latex": [
       "3393"
      ],
      "text/markdown": [
       "3393"
      ],
      "text/plain": [
       "[1] 3393"
      ]
     },
     "metadata": {},
     "output_type": "display_data"
    }
   ],
   "source": [
    "nrow(DEG1_df)"
   ]
  },
  {
   "cell_type": "code",
   "execution_count": null,
   "metadata": {},
   "outputs": [],
   "source": []
  }
 ],
 "metadata": {
  "kernelspec": {
   "display_name": "R",
   "language": "R",
   "name": "ir"
  },
  "language_info": {
   "codemirror_mode": "r",
   "file_extension": ".r",
   "mimetype": "text/x-r-source",
   "name": "R",
   "pygments_lexer": "r",
   "version": "3.6.3"
  }
 },
 "nbformat": 4,
 "nbformat_minor": 4
}
