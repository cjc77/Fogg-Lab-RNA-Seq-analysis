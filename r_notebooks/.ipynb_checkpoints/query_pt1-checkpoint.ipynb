{
 "cells": [
  {
   "cell_type": "code",
   "execution_count": 1,
   "metadata": {
    "collapsed": true,
    "jupyter": {
     "outputs_hidden": true
    }
   },
   "outputs": [
    {
     "name": "stderr",
     "output_type": "stream",
     "text": [
      "── Attaching packages ─────────────────────────────────────── tidyverse 1.3.0 ──\n",
      "✔ ggplot2 3.3.2     ✔ purrr   0.3.4\n",
      "✔ tibble  3.0.3     ✔ dplyr   1.0.0\n",
      "✔ tidyr   1.1.0     ✔ stringr 1.4.0\n",
      "✔ readr   1.3.1     ✔ forcats 0.5.0\n",
      "── Conflicts ────────────────────────────────────────── tidyverse_conflicts() ──\n",
      "✖ dplyr::filter() masks stats::filter()\n",
      "✖ dplyr::lag()    masks stats::lag()\n",
      "Loading required package: S4Vectors\n",
      "Loading required package: stats4\n",
      "Loading required package: BiocGenerics\n",
      "Loading required package: parallel\n",
      "\n",
      "Attaching package: ‘BiocGenerics’\n",
      "\n",
      "The following objects are masked from ‘package:parallel’:\n",
      "\n",
      "    clusterApply, clusterApplyLB, clusterCall, clusterEvalQ,\n",
      "    clusterExport, clusterMap, parApply, parCapply, parLapply,\n",
      "    parLapplyLB, parRapply, parSapply, parSapplyLB\n",
      "\n",
      "The following objects are masked from ‘package:dplyr’:\n",
      "\n",
      "    combine, intersect, setdiff, union\n",
      "\n",
      "The following objects are masked from ‘package:stats’:\n",
      "\n",
      "    IQR, mad, sd, var, xtabs\n",
      "\n",
      "The following objects are masked from ‘package:base’:\n",
      "\n",
      "    anyDuplicated, append, as.data.frame, basename, cbind, colnames,\n",
      "    dirname, do.call, duplicated, eval, evalq, Filter, Find, get, grep,\n",
      "    grepl, intersect, is.unsorted, lapply, Map, mapply, match, mget,\n",
      "    order, paste, pmax, pmax.int, pmin, pmin.int, Position, rank,\n",
      "    rbind, Reduce, rownames, sapply, setdiff, sort, table, tapply,\n",
      "    union, unique, unsplit, which, which.max, which.min\n",
      "\n",
      "\n",
      "Attaching package: ‘S4Vectors’\n",
      "\n",
      "The following objects are masked from ‘package:dplyr’:\n",
      "\n",
      "    first, rename\n",
      "\n",
      "The following object is masked from ‘package:tidyr’:\n",
      "\n",
      "    expand\n",
      "\n",
      "The following object is masked from ‘package:base’:\n",
      "\n",
      "    expand.grid\n",
      "\n",
      "Loading required package: IRanges\n",
      "\n",
      "Attaching package: ‘IRanges’\n",
      "\n",
      "The following objects are masked from ‘package:dplyr’:\n",
      "\n",
      "    collapse, desc, slice\n",
      "\n",
      "The following object is masked from ‘package:purrr’:\n",
      "\n",
      "    reduce\n",
      "\n",
      "Loading required package: GenomicRanges\n",
      "Loading required package: GenomeInfoDb\n",
      "Loading required package: SummarizedExperiment\n",
      "Loading required package: Biobase\n",
      "Welcome to Bioconductor\n",
      "\n",
      "    Vignettes contain introductory material; view with\n",
      "    'browseVignettes()'. To cite Bioconductor, see\n",
      "    'citation(\"Biobase\")', and for packages 'citation(\"pkgname\")'.\n",
      "\n",
      "Loading required package: DelayedArray\n",
      "Loading required package: matrixStats\n",
      "\n",
      "Attaching package: ‘matrixStats’\n",
      "\n",
      "The following objects are masked from ‘package:Biobase’:\n",
      "\n",
      "    anyMissing, rowMedians\n",
      "\n",
      "The following object is masked from ‘package:dplyr’:\n",
      "\n",
      "    count\n",
      "\n",
      "Loading required package: BiocParallel\n",
      "\n",
      "Attaching package: ‘DelayedArray’\n",
      "\n",
      "The following objects are masked from ‘package:matrixStats’:\n",
      "\n",
      "    colMaxs, colMins, colRanges, rowMaxs, rowMins, rowRanges\n",
      "\n",
      "The following object is masked from ‘package:purrr’:\n",
      "\n",
      "    simplify\n",
      "\n",
      "The following objects are masked from ‘package:base’:\n",
      "\n",
      "    aperm, apply, rowsum\n",
      "\n"
     ]
    }
   ],
   "source": [
    "library(tidyverse)\n",
    "library(TCGAbiolinks)\n",
    "library(DESeq2)"
   ]
  },
  {
   "cell_type": "markdown",
   "metadata": {},
   "source": [
    "## Constants"
   ]
  },
  {
   "cell_type": "code",
   "execution_count": 75,
   "metadata": {},
   "outputs": [],
   "source": [
    "projects <- c(\"TCGA-UCEC\", \"TCGA-CESC\")\n",
    "data_root <- \"../../../../../mnt/d/TCGA\"\n",
    "project_dirs <- sapply(\n",
    "    projects, \n",
    "    (function(p) paste0(data_root, \"/\", as.character(Sys.Date()), \"-\", p, \"-\", \"TCGAbiolinks\"))\n",
    ")\n",
    "tumor_levels <- c(\"Primary solid Tumor\", \"Metastatic\")\n",
    "# tumor_levels <- c(\"Primary solid Tumor\")\n",
    "healthy_levels <- c(\"Solid Tissue Normal\")\n",
    "tumor_def <- \"Tumor\"\n",
    "healthy_def <- \"Healthy\"\n",
    "proj_idx <- 2"
   ]
  },
  {
   "cell_type": "markdown",
   "metadata": {},
   "source": [
    "## Run Query"
   ]
  },
  {
   "cell_type": "code",
   "execution_count": 3,
   "metadata": {},
   "outputs": [
    {
     "name": "stderr",
     "output_type": "stream",
     "text": [
      "--------------------------------------\n",
      "o GDCquery: Searching in GDC database\n",
      "--------------------------------------\n",
      "Genome of reference: hg38\n",
      "--------------------------------------------\n",
      "oo Accessing GDC. This might take a while...\n",
      "--------------------------------------------\n",
      "ooo Project: TCGA-CESC\n",
      "--------------------\n",
      "oo Filtering results\n",
      "--------------------\n",
      "ooo By data.type\n",
      "ooo By workflow.type\n",
      "----------------\n",
      "oo Checking data\n",
      "----------------\n",
      "ooo Check if there are duplicated cases\n",
      "ooo Check if there results for the query\n",
      "-------------------\n",
      "o Preparing output\n",
      "-------------------\n"
     ]
    }
   ],
   "source": [
    "query <- GDCquery(\n",
    "    project = projects[proj_idx],\n",
    "    data.category = \"Transcriptome Profiling\",\n",
    "    data.type = \"Gene Expression Quantification\",\n",
    "    workflow.type = \"HTSeq - Counts\"\n",
    ")"
   ]
  },
  {
   "cell_type": "markdown",
   "metadata": {},
   "source": [
    "## Download the data found by the query"
   ]
  },
  {
   "cell_type": "code",
   "execution_count": 4,
   "metadata": {
    "collapsed": true,
    "jupyter": {
     "outputs_hidden": true
    }
   },
   "outputs": [
    {
     "name": "stderr",
     "output_type": "stream",
     "text": [
      "Downloading data for project TCGA-CESC\n",
      "GDCdownload will download 309 files. A total of 77.948874 MB\n",
      "Downloading chunk 1 of 31 (10 files, size = 2.5169 MB) as Thu_Jul_16_12_14_40_2020_0.tar.gz\n"
     ]
    },
    {
     "name": "stdout",
     "output_type": "stream",
     "text": [
      "Downloading: 2.5 MB     "
     ]
    },
    {
     "name": "stderr",
     "output_type": "stream",
     "text": [
      "Downloading chunk 2 of 31 (10 files, size = 2.509254 MB) as Thu_Jul_16_12_14_40_2020_1.tar.gz\n"
     ]
    },
    {
     "name": "stdout",
     "output_type": "stream",
     "text": [
      "Downloading: 2.5 MB       "
     ]
    },
    {
     "name": "stderr",
     "output_type": "stream",
     "text": [
      "Downloading chunk 3 of 31 (10 files, size = 2.515677 MB) as Thu_Jul_16_12_14_40_2020_2.tar.gz\n"
     ]
    },
    {
     "name": "stdout",
     "output_type": "stream",
     "text": [
      "Downloading: 2.5 MB     "
     ]
    },
    {
     "name": "stderr",
     "output_type": "stream",
     "text": [
      "Downloading chunk 4 of 31 (10 files, size = 2.518157 MB) as Thu_Jul_16_12_14_40_2020_3.tar.gz\n"
     ]
    },
    {
     "name": "stdout",
     "output_type": "stream",
     "text": [
      "Downloading: 2.5 MB       "
     ]
    },
    {
     "name": "stderr",
     "output_type": "stream",
     "text": [
      "Downloading chunk 5 of 31 (10 files, size = 2.511126 MB) as Thu_Jul_16_12_14_40_2020_4.tar.gz\n"
     ]
    },
    {
     "name": "stdout",
     "output_type": "stream",
     "text": [
      "Downloading: 2.5 MB       "
     ]
    },
    {
     "name": "stderr",
     "output_type": "stream",
     "text": [
      "Downloading chunk 6 of 31 (10 files, size = 2.524145 MB) as Thu_Jul_16_12_14_40_2020_5.tar.gz\n"
     ]
    },
    {
     "name": "stdout",
     "output_type": "stream",
     "text": [
      "Downloading: 2.5 MB     "
     ]
    },
    {
     "name": "stderr",
     "output_type": "stream",
     "text": [
      "Downloading chunk 7 of 31 (10 files, size = 2.537913 MB) as Thu_Jul_16_12_14_40_2020_6.tar.gz\n"
     ]
    },
    {
     "name": "stdout",
     "output_type": "stream",
     "text": [
      "Downloading: 2.5 MB     "
     ]
    },
    {
     "name": "stderr",
     "output_type": "stream",
     "text": [
      "Downloading chunk 8 of 31 (10 files, size = 2.51407 MB) as Thu_Jul_16_12_14_40_2020_7.tar.gz\n"
     ]
    },
    {
     "name": "stdout",
     "output_type": "stream",
     "text": [
      "Downloading: 2.5 MB     "
     ]
    },
    {
     "name": "stderr",
     "output_type": "stream",
     "text": [
      "Downloading chunk 9 of 31 (10 files, size = 2.522695 MB) as Thu_Jul_16_12_14_40_2020_8.tar.gz\n"
     ]
    },
    {
     "name": "stdout",
     "output_type": "stream",
     "text": [
      "Downloading: 2.5 MB       "
     ]
    },
    {
     "name": "stderr",
     "output_type": "stream",
     "text": [
      "Downloading chunk 10 of 31 (10 files, size = 2.529265 MB) as Thu_Jul_16_12_14_40_2020_9.tar.gz\n"
     ]
    },
    {
     "name": "stdout",
     "output_type": "stream",
     "text": [
      "Downloading: 2.5 MB     "
     ]
    },
    {
     "name": "stderr",
     "output_type": "stream",
     "text": [
      "Downloading chunk 11 of 31 (10 files, size = 2.527341 MB) as Thu_Jul_16_12_14_40_2020_10.tar.gz\n"
     ]
    },
    {
     "name": "stdout",
     "output_type": "stream",
     "text": [
      "Downloading: 2.5 MB       "
     ]
    },
    {
     "name": "stderr",
     "output_type": "stream",
     "text": [
      "Downloading chunk 12 of 31 (10 files, size = 2.520964 MB) as Thu_Jul_16_12_14_40_2020_11.tar.gz\n"
     ]
    },
    {
     "name": "stdout",
     "output_type": "stream",
     "text": [
      "Downloading: 2.5 MB       "
     ]
    },
    {
     "name": "stderr",
     "output_type": "stream",
     "text": [
      "Downloading chunk 13 of 31 (10 files, size = 2.525687 MB) as Thu_Jul_16_12_14_40_2020_12.tar.gz\n"
     ]
    },
    {
     "name": "stdout",
     "output_type": "stream",
     "text": [
      "Downloading: 2.5 MB       "
     ]
    },
    {
     "name": "stderr",
     "output_type": "stream",
     "text": [
      "Downloading chunk 14 of 31 (10 files, size = 2.527227 MB) as Thu_Jul_16_12_14_40_2020_13.tar.gz\n"
     ]
    },
    {
     "name": "stdout",
     "output_type": "stream",
     "text": [
      "Downloading: 2.5 MB       "
     ]
    },
    {
     "name": "stderr",
     "output_type": "stream",
     "text": [
      "Downloading chunk 15 of 31 (10 files, size = 2.516641 MB) as Thu_Jul_16_12_14_40_2020_14.tar.gz\n"
     ]
    },
    {
     "name": "stdout",
     "output_type": "stream",
     "text": [
      "Downloading: 2.5 MB       "
     ]
    },
    {
     "name": "stderr",
     "output_type": "stream",
     "text": [
      "Downloading chunk 16 of 31 (10 files, size = 2.527569 MB) as Thu_Jul_16_12_14_40_2020_15.tar.gz\n"
     ]
    },
    {
     "name": "stdout",
     "output_type": "stream",
     "text": [
      "Downloading: 2.5 MB       "
     ]
    },
    {
     "name": "stderr",
     "output_type": "stream",
     "text": [
      "Downloading chunk 17 of 31 (10 files, size = 2.516499 MB) as Thu_Jul_16_12_14_40_2020_16.tar.gz\n"
     ]
    },
    {
     "name": "stdout",
     "output_type": "stream",
     "text": [
      "Downloading: 2.5 MB     "
     ]
    },
    {
     "name": "stderr",
     "output_type": "stream",
     "text": [
      "Downloading chunk 18 of 31 (10 files, size = 2.525649 MB) as Thu_Jul_16_12_14_40_2020_17.tar.gz\n"
     ]
    },
    {
     "name": "stdout",
     "output_type": "stream",
     "text": [
      "Downloading: 2.5 MB     "
     ]
    },
    {
     "name": "stderr",
     "output_type": "stream",
     "text": [
      "Downloading chunk 19 of 31 (10 files, size = 2.528622 MB) as Thu_Jul_16_12_14_40_2020_18.tar.gz\n"
     ]
    },
    {
     "name": "stdout",
     "output_type": "stream",
     "text": [
      "Downloading: 2.5 MB       "
     ]
    },
    {
     "name": "stderr",
     "output_type": "stream",
     "text": [
      "Downloading chunk 20 of 31 (10 files, size = 2.526459 MB) as Thu_Jul_16_12_14_40_2020_19.tar.gz\n"
     ]
    },
    {
     "name": "stdout",
     "output_type": "stream",
     "text": [
      "Downloading: 2.5 MB       "
     ]
    },
    {
     "name": "stderr",
     "output_type": "stream",
     "text": [
      "Downloading chunk 21 of 31 (10 files, size = 2.505514 MB) as Thu_Jul_16_12_14_40_2020_20.tar.gz\n"
     ]
    },
    {
     "name": "stdout",
     "output_type": "stream",
     "text": [
      "Downloading: 2.5 MB       "
     ]
    },
    {
     "name": "stderr",
     "output_type": "stream",
     "text": [
      "Downloading chunk 22 of 31 (10 files, size = 2.557378 MB) as Thu_Jul_16_12_14_40_2020_21.tar.gz\n"
     ]
    },
    {
     "name": "stdout",
     "output_type": "stream",
     "text": [
      "Downloading: 2.6 MB       "
     ]
    },
    {
     "name": "stderr",
     "output_type": "stream",
     "text": [
      "Downloading chunk 23 of 31 (10 files, size = 2.530486 MB) as Thu_Jul_16_12_14_40_2020_22.tar.gz\n"
     ]
    },
    {
     "name": "stdout",
     "output_type": "stream",
     "text": [
      "Downloading: 2.5 MB       "
     ]
    },
    {
     "name": "stderr",
     "output_type": "stream",
     "text": [
      "Downloading chunk 24 of 31 (10 files, size = 2.520495 MB) as Thu_Jul_16_12_14_40_2020_23.tar.gz\n"
     ]
    },
    {
     "name": "stdout",
     "output_type": "stream",
     "text": [
      "Downloading: 2.5 MB       "
     ]
    },
    {
     "name": "stderr",
     "output_type": "stream",
     "text": [
      "Downloading chunk 25 of 31 (10 files, size = 2.511265 MB) as Thu_Jul_16_12_14_40_2020_24.tar.gz\n"
     ]
    },
    {
     "name": "stdout",
     "output_type": "stream",
     "text": [
      "Downloading: 2.5 MB     "
     ]
    },
    {
     "name": "stderr",
     "output_type": "stream",
     "text": [
      "Downloading chunk 26 of 31 (10 files, size = 2.516215 MB) as Thu_Jul_16_12_14_40_2020_25.tar.gz\n"
     ]
    },
    {
     "name": "stdout",
     "output_type": "stream",
     "text": [
      "Downloading: 2.5 MB       "
     ]
    },
    {
     "name": "stderr",
     "output_type": "stream",
     "text": [
      "Downloading chunk 27 of 31 (10 files, size = 2.531861 MB) as Thu_Jul_16_12_14_40_2020_26.tar.gz\n"
     ]
    },
    {
     "name": "stdout",
     "output_type": "stream",
     "text": [
      "Downloading: 2.5 MB       "
     ]
    },
    {
     "name": "stderr",
     "output_type": "stream",
     "text": [
      "Downloading chunk 28 of 31 (10 files, size = 2.529356 MB) as Thu_Jul_16_12_14_40_2020_27.tar.gz\n"
     ]
    },
    {
     "name": "stdout",
     "output_type": "stream",
     "text": [
      "Downloading: 2.5 MB       "
     ]
    },
    {
     "name": "stderr",
     "output_type": "stream",
     "text": [
      "Downloading chunk 29 of 31 (10 files, size = 2.514211 MB) as Thu_Jul_16_12_14_40_2020_28.tar.gz\n"
     ]
    },
    {
     "name": "stdout",
     "output_type": "stream",
     "text": [
      "Downloading: 2.5 MB       "
     ]
    },
    {
     "name": "stderr",
     "output_type": "stream",
     "text": [
      "Downloading chunk 30 of 31 (10 files, size = 2.520868 MB) as Thu_Jul_16_12_14_40_2020_29.tar.gz\n"
     ]
    },
    {
     "name": "stdout",
     "output_type": "stream",
     "text": [
      "Downloading: 2.5 MB       "
     ]
    },
    {
     "name": "stderr",
     "output_type": "stream",
     "text": [
      "Downloading chunk 31 of 31 (9 files, size = 2.269365 MB) as Thu_Jul_16_12_14_40_2020_30.tar.gz\n"
     ]
    },
    {
     "name": "stdout",
     "output_type": "stream",
     "text": [
      "Downloading: 2.3 MB       "
     ]
    }
   ],
   "source": [
    "GDCdownload(query, method = \"api\", directory = project_dirs[proj_idx], files.per.chunk = 10)"
   ]
  },
  {
   "cell_type": "markdown",
   "metadata": {},
   "source": [
    "## Prepare data for analysis"
   ]
  },
  {
   "cell_type": "code",
   "execution_count": 97,
   "metadata": {},
   "outputs": [
    {
     "name": "stdout",
     "output_type": "stream",
     "text": [
      "|====================================================|100%                      Completed after 26 s \n"
     ]
    },
    {
     "name": "stderr",
     "output_type": "stream",
     "text": [
      "Starting to add information to samples\n",
      " => Add clinical information to samples\n",
      "Add FFPE information. More information at: \n",
      "=> https://cancergenome.nih.gov/cancersselected/biospeccriteria \n",
      "=> http://gdac.broadinstitute.org/runs/sampleReports/latest/FPPP_FFPE_Cases.html\n",
      " => Adding subtype information to samples\n",
      "cesc subtype information from:doi:10.1038/nature21386\n",
      "Accessing www.ensembl.org to get gene information\n",
      "Downloading genome information (try:0) Using: Human genes (GRCh38.p13)\n",
      "Cache found\n",
      "From the 60483 genes we couldn't map 3990\n"
     ]
    }
   ],
   "source": [
    "data <- GDCprepare(query, directory = project_dirs[proj_idx])"
   ]
  },
  {
   "cell_type": "markdown",
   "metadata": {},
   "source": [
    "### Only want two levels\n",
    "\n",
    "Lumping \"Metastatic\" and \"Primary Solid Tumor\" together"
   ]
  },
  {
   "cell_type": "code",
   "execution_count": 98,
   "metadata": {},
   "outputs": [
    {
     "data": {
      "text/html": [
       "<style>\n",
       ".list-inline {list-style: none; margin:0; padding: 0}\n",
       ".list-inline>li {display: inline-block}\n",
       ".list-inline>li:not(:last-child)::after {content: \"\\00b7\"; padding: 0 .5ex}\n",
       "</style>\n",
       "<ol class=list-inline><li>'Tumor'</li><li>'Healthy'</li></ol>\n"
      ],
      "text/latex": [
       "\\begin{enumerate*}\n",
       "\\item 'Tumor'\n",
       "\\item 'Healthy'\n",
       "\\end{enumerate*}\n"
      ],
      "text/markdown": [
       "1. 'Tumor'\n",
       "2. 'Healthy'\n",
       "\n",
       "\n"
      ],
      "text/plain": [
       "[1] \"Tumor\"   \"Healthy\""
      ]
     },
     "metadata": {},
     "output_type": "display_data"
    }
   ],
   "source": [
    "tumor_mask <- data$definition %in% tumor_levels\n",
    "healthy_mask <- data$definition %in% healthy_levels\n",
    "data$definition[tumor_mask] <- tumor_def\n",
    "data$definition[healthy_mask] <- healthy_def\n",
    "# data$definition <- as.factor(data$definition)\n",
    "unique(data$definition)"
   ]
  },
  {
   "cell_type": "markdown",
   "metadata": {},
   "source": [
    "### Filter out samples which are not levels of interest"
   ]
  },
  {
   "cell_type": "code",
   "execution_count": 99,
   "metadata": {},
   "outputs": [],
   "source": [
    "level_mask <- data$definition %in% c(tumor_def, healthy_def)\n",
    "# Filter by columns (since samples are columns)\n",
    "data <- data[, level_mask]"
   ]
  },
  {
   "cell_type": "code",
   "execution_count": 100,
   "metadata": {},
   "outputs": [
    {
     "data": {
      "text/plain": [
       "class: RangedSummarizedExperiment \n",
       "dim: 56493 309 \n",
       "metadata(1): data_release\n",
       "assays(1): HTSeq - Counts\n",
       "rownames(56493): ENSG00000000003 ENSG00000000005 ... ENSG00000281912\n",
       "  ENSG00000281920\n",
       "rowData names(3): ensembl_gene_id external_gene_name\n",
       "  original_ensembl_gene_id\n",
       "colnames(309): TCGA-JX-A3Q8-01A-11R-A21T-07\n",
       "  TCGA-C5-A1BK-01B-11R-A13Y-07 ... TCGA-EK-A2R8-01A-21R-A18M-07\n",
       "  TCGA-JW-A5VK-01A-11R-A28H-07\n",
       "colData names(131): sample patient ... subtype_GEXP.APOBEC3H.164668\n",
       "  subtype_patient"
      ]
     },
     "metadata": {},
     "output_type": "display_data"
    }
   ],
   "source": [
    "data"
   ]
  },
  {
   "cell_type": "markdown",
   "metadata": {},
   "source": [
    "## Filter samples for levels of interest"
   ]
  },
  {
   "cell_type": "code",
   "execution_count": 101,
   "metadata": {},
   "outputs": [
    {
     "name": "stderr",
     "output_type": "stream",
     "text": [
      "renaming the first element in assays to 'counts'\n",
      "converting counts to integer mode\n",
      "Warning message in DESeqDataSet(data, design = ~definition):\n",
      "“some variables in design formula are characters, converting to factors”"
     ]
    }
   ],
   "source": [
    "ddsSE <- DESeqDataSet(data, design = ~ definition)"
   ]
  },
  {
   "cell_type": "code",
   "execution_count": 102,
   "metadata": {},
   "outputs": [
    {
     "data": {
      "text/plain": [
       "class: DESeqDataSet \n",
       "dim: 56493 309 \n",
       "metadata(2): data_release version\n",
       "assays(1): counts\n",
       "rownames(56493): ENSG00000000003 ENSG00000000005 ... ENSG00000281912\n",
       "  ENSG00000281920\n",
       "rowData names(3): ensembl_gene_id external_gene_name\n",
       "  original_ensembl_gene_id\n",
       "colnames(309): TCGA-JX-A3Q8-01A-11R-A21T-07\n",
       "  TCGA-C5-A1BK-01B-11R-A13Y-07 ... TCGA-EK-A2R8-01A-21R-A18M-07\n",
       "  TCGA-JW-A5VK-01A-11R-A28H-07\n",
       "colData names(131): sample patient ... subtype_GEXP.APOBEC3H.164668\n",
       "  subtype_patient"
      ]
     },
     "metadata": {},
     "output_type": "display_data"
    }
   ],
   "source": [
    "ddsSE"
   ]
  },
  {
   "cell_type": "code",
   "execution_count": 103,
   "metadata": {},
   "outputs": [
    {
     "name": "stderr",
     "output_type": "stream",
     "text": [
      "estimating size factors\n",
      "estimating dispersions\n",
      "gene-wise dispersion estimates\n",
      "mean-dispersion relationship\n",
      "final dispersion estimates\n",
      "fitting model and testing\n",
      "-- replacing outliers and refitting for 4519 genes\n",
      "-- DESeq argument 'minReplicatesForReplace' = 7 \n",
      "-- original counts are preserved in counts(dds)\n",
      "estimating dispersions\n",
      "fitting model and testing\n"
     ]
    }
   ],
   "source": [
    "ddsSESeq <- DESeq(ddsSE)"
   ]
  },
  {
   "cell_type": "code",
   "execution_count": 105,
   "metadata": {},
   "outputs": [
    {
     "data": {
      "text/html": [
       "<style>\n",
       ".list-inline {list-style: none; margin:0; padding: 0}\n",
       ".list-inline>li {display: inline-block}\n",
       ".list-inline>li:not(:last-child)::after {content: \"\\00b7\"; padding: 0 .5ex}\n",
       "</style>\n",
       "<ol class=list-inline><li>'Intercept'</li><li>'definition_Tumor_vs_Healthy'</li></ol>\n"
      ],
      "text/latex": [
       "\\begin{enumerate*}\n",
       "\\item 'Intercept'\n",
       "\\item 'definition\\_Tumor\\_vs\\_Healthy'\n",
       "\\end{enumerate*}\n"
      ],
      "text/markdown": [
       "1. 'Intercept'\n",
       "2. 'definition_Tumor_vs_Healthy'\n",
       "\n",
       "\n"
      ],
      "text/plain": [
       "[1] \"Intercept\"                   \"definition_Tumor_vs_Healthy\""
      ]
     },
     "metadata": {},
     "output_type": "display_data"
    }
   ],
   "source": [
    "resultsNames(ddsSESeq)"
   ]
  },
  {
   "cell_type": "code",
   "execution_count": 108,
   "metadata": {},
   "outputs": [],
   "source": [
    "res <- results(ddsSESeq, contrast = c(\"definition\", \"Tumor\", \"Healthy\"))"
   ]
  },
  {
   "cell_type": "code",
   "execution_count": 120,
   "metadata": {},
   "outputs": [
    {
     "data": {
      "text/html": [
       "<table>\n",
       "<caption>A tibble: 56493 × 7</caption>\n",
       "<thead>\n",
       "\t<tr><th scope=col>geneID</th><th scope=col>baseMean</th><th scope=col>log2FoldChange</th><th scope=col>lfcSE</th><th scope=col>stat</th><th scope=col>pvalue</th><th scope=col>padj</th></tr>\n",
       "\t<tr><th scope=col>&lt;chr&gt;</th><th scope=col>&lt;dbl&gt;</th><th scope=col>&lt;dbl&gt;</th><th scope=col>&lt;dbl&gt;</th><th scope=col>&lt;dbl&gt;</th><th scope=col>&lt;dbl&gt;</th><th scope=col>&lt;dbl&gt;</th></tr>\n",
       "</thead>\n",
       "<tbody>\n",
       "\t<tr><td>ENSG00000000003</td><td> 3476.033426</td><td> 0.321858005</td><td>0.4442807</td><td> 0.724447462</td><td>4.687911e-01</td><td>6.388746e-01</td></tr>\n",
       "\t<tr><td>ENSG00000000005</td><td>    2.267135</td><td>-3.883578781</td><td>1.7394600</td><td>-2.232634716</td><td>2.557304e-02</td><td>8.950413e-02</td></tr>\n",
       "\t<tr><td>ENSG00000000419</td><td> 2638.597733</td><td> 0.385043922</td><td>0.2700207</td><td> 1.425979104</td><td>1.538744e-01</td><td>3.091112e-01</td></tr>\n",
       "\t<tr><td>ENSG00000000457</td><td>  910.186204</td><td> 0.294998354</td><td>0.2780415</td><td> 1.060986776</td><td>2.886959e-01</td><td>4.687732e-01</td></tr>\n",
       "\t<tr><td>ENSG00000000460</td><td>  878.032328</td><td> 2.482991328</td><td>0.3159528</td><td> 7.858741846</td><td>3.880110e-15</td><td>4.890596e-13</td></tr>\n",
       "\t<tr><td>ENSG00000000938</td><td>  514.668255</td><td>-1.165766106</td><td>0.5907400</td><td>-1.973399733</td><td>4.845004e-02</td><td>1.409502e-01</td></tr>\n",
       "\t<tr><td>ENSG00000000971</td><td> 3950.819717</td><td> 0.254351771</td><td>0.8636045</td><td> 0.294523455</td><td>7.683579e-01</td><td>8.618625e-01</td></tr>\n",
       "\t<tr><td>ENSG00000001036</td><td> 3845.645354</td><td> 0.511220332</td><td>0.3921115</td><td> 1.303762662</td><td>1.923145e-01</td><td>3.583954e-01</td></tr>\n",
       "\t<tr><td>ENSG00000001084</td><td> 4025.114912</td><td> 1.217425649</td><td>0.8198118</td><td> 1.485006200</td><td>1.375422e-01</td><td>2.862656e-01</td></tr>\n",
       "\t<tr><td>ENSG00000001167</td><td> 1842.209860</td><td> 0.680668798</td><td>0.2938898</td><td> 2.316068120</td><td>2.055455e-02</td><td>7.664212e-02</td></tr>\n",
       "\t<tr><td>ENSG00000001460</td><td>  757.534549</td><td> 0.226098962</td><td>0.3862257</td><td> 0.585406383</td><td>5.582745e-01</td><td>7.115400e-01</td></tr>\n",
       "\t<tr><td>ENSG00000001461</td><td> 2272.246162</td><td> 0.515945490</td><td>0.3257152</td><td> 1.584038504</td><td>1.131850e-01</td><td>2.509983e-01</td></tr>\n",
       "\t<tr><td>ENSG00000001497</td><td> 3738.988973</td><td> 0.540425834</td><td>0.3192042</td><td> 1.693041144</td><td>9.044764e-02</td><td>2.160051e-01</td></tr>\n",
       "\t<tr><td>ENSG00000001561</td><td>  614.563742</td><td>-0.274348223</td><td>1.0179625</td><td>-0.269507204</td><td>7.875394e-01</td><td>8.741415e-01</td></tr>\n",
       "\t<tr><td>ENSG00000001617</td><td> 8614.145289</td><td> 2.201347541</td><td>0.4775016</td><td> 4.610136828</td><td>4.024040e-06</td><td>7.933492e-05</td></tr>\n",
       "\t<tr><td>ENSG00000001626</td><td>  249.606532</td><td>-2.304451190</td><td>1.6148443</td><td>-1.427042308</td><td>          NA</td><td>          NA</td></tr>\n",
       "\t<tr><td>ENSG00000001629</td><td> 2819.121522</td><td> 0.638005639</td><td>0.2995713</td><td> 2.129728891</td><td>3.319400e-02</td><td>1.078695e-01</td></tr>\n",
       "\t<tr><td>ENSG00000001630</td><td>  233.885161</td><td> 0.993594622</td><td>0.5695556</td><td> 1.744508423</td><td>8.107047e-02</td><td>2.004364e-01</td></tr>\n",
       "\t<tr><td>ENSG00000001631</td><td> 1606.179718</td><td> 0.184771711</td><td>0.3229310</td><td> 0.572170896</td><td>5.672062e-01</td><td>7.184222e-01</td></tr>\n",
       "\t<tr><td>ENSG00000002016</td><td>  453.364945</td><td>-0.187754422</td><td>0.3374765</td><td>-0.556348076</td><td>5.779729e-01</td><td>7.270326e-01</td></tr>\n",
       "\t<tr><td>ENSG00000002079</td><td>   43.548511</td><td> 2.213724955</td><td>0.9738034</td><td> 2.273277197</td><td>2.300948e-02</td><td>8.298381e-02</td></tr>\n",
       "\t<tr><td>ENSG00000002330</td><td> 2320.214510</td><td>-0.320080817</td><td>0.4331805</td><td>-0.738908695</td><td>4.599624e-01</td><td>6.317146e-01</td></tr>\n",
       "\t<tr><td>ENSG00000002549</td><td> 6950.835243</td><td> 0.846421654</td><td>0.5247908</td><td> 1.612874303</td><td>1.067718e-01</td><td>2.413370e-01</td></tr>\n",
       "\t<tr><td>ENSG00000002586</td><td>11135.001508</td><td>-1.189030454</td><td>0.4929955</td><td>-2.411848311</td><td>1.587188e-02</td><td>6.384688e-02</td></tr>\n",
       "\t<tr><td>ENSG00000002587</td><td> 1157.604695</td><td> 0.003401177</td><td>0.7841166</td><td> 0.004337591</td><td>9.965391e-01</td><td>9.981975e-01</td></tr>\n",
       "\t<tr><td>ENSG00000002726</td><td> 1550.946381</td><td> 0.078783557</td><td>1.5410869</td><td> 0.051122072</td><td>9.592282e-01</td><td>9.780997e-01</td></tr>\n",
       "\t<tr><td>ENSG00000002745</td><td>   26.464722</td><td> 1.410052602</td><td>1.0450783</td><td> 1.349231528</td><td>1.772626e-01</td><td>3.392721e-01</td></tr>\n",
       "\t<tr><td>ENSG00000002746</td><td>   43.481721</td><td> 1.768756591</td><td>0.9184500</td><td> 1.925806012</td><td>5.412860e-02</td><td>1.521026e-01</td></tr>\n",
       "\t<tr><td>ENSG00000002822</td><td> 2163.025347</td><td> 0.454069809</td><td>0.3406841</td><td> 1.332817856</td><td>1.825916e-01</td><td>3.458877e-01</td></tr>\n",
       "\t<tr><td>ENSG00000002834</td><td>13024.735199</td><td> 0.401968031</td><td>0.3065137</td><td> 1.311419263</td><td>1.897162e-01</td><td>3.549986e-01</td></tr>\n",
       "\t<tr><td>⋮</td><td>⋮</td><td>⋮</td><td>⋮</td><td>⋮</td><td>⋮</td><td>⋮</td></tr>\n",
       "\t<tr><td>ENSG00000281721</td><td> 0.336208722</td><td> 0.9524859</td><td> 2.1957124</td><td> 0.433793548</td><td>6.644384e-01</td><td>          NA</td></tr>\n",
       "\t<tr><td>ENSG00000281731</td><td> 3.294400200</td><td> 0.1629226</td><td> 0.7859138</td><td> 0.207303457</td><td>8.357729e-01</td><td>9.037685e-01</td></tr>\n",
       "\t<tr><td>ENSG00000281732</td><td> 0.386992976</td><td>-2.8109677</td><td> 2.9998103</td><td>-0.937048490</td><td>3.487336e-01</td><td>          NA</td></tr>\n",
       "\t<tr><td>ENSG00000281741</td><td>11.062960966</td><td> 0.2714238</td><td> 1.0064995</td><td> 0.269671118</td><td>7.874133e-01</td><td>8.740673e-01</td></tr>\n",
       "\t<tr><td>ENSG00000281756</td><td> 7.043255907</td><td> 2.9985683</td><td> 1.2746125</td><td> 2.352533245</td><td>1.864602e-02</td><td>7.134854e-02</td></tr>\n",
       "\t<tr><td>ENSG00000281769</td><td> 1.383350079</td><td> 0.6838195</td><td> 2.1538536</td><td> 0.317486542</td><td>7.508744e-01</td><td>8.499824e-01</td></tr>\n",
       "\t<tr><td>ENSG00000281772</td><td> 3.118417119</td><td>-0.4064897</td><td> 0.7751920</td><td>-0.524372984</td><td>6.000191e-01</td><td>7.439138e-01</td></tr>\n",
       "\t<tr><td>ENSG00000281778</td><td> 0.108629162</td><td> 0.2905068</td><td> 4.8510890</td><td> 0.059884871</td><td>9.522473e-01</td><td>          NA</td></tr>\n",
       "\t<tr><td>ENSG00000281780</td><td> 4.596152441</td><td> 1.1663259</td><td> 0.7529267</td><td> 1.549056462</td><td>1.213681e-01</td><td>2.638096e-01</td></tr>\n",
       "\t<tr><td>ENSG00000281808</td><td> 0.000000000</td><td>        NA</td><td>        NA</td><td>          NA</td><td>          NA</td><td>          NA</td></tr>\n",
       "\t<tr><td>ENSG00000281809</td><td> 1.528356348</td><td> 2.1460318</td><td> 1.6902524</td><td> 1.269651677</td><td>2.042087e-01</td><td>3.729832e-01</td></tr>\n",
       "\t<tr><td>ENSG00000281825</td><td> 0.168557424</td><td> 0.5261174</td><td> 2.6099953</td><td> 0.201577910</td><td>8.402467e-01</td><td>          NA</td></tr>\n",
       "\t<tr><td>ENSG00000281831</td><td> 7.402004354</td><td>-1.4524400</td><td> 1.0111013</td><td>-1.436493020</td><td>1.508621e-01</td><td>3.052196e-01</td></tr>\n",
       "\t<tr><td>ENSG00000281832</td><td> 3.523980580</td><td>-0.5743087</td><td> 3.2495791</td><td>-0.176733267</td><td>8.597179e-01</td><td>9.181490e-01</td></tr>\n",
       "\t<tr><td>ENSG00000281842</td><td> 2.096384752</td><td>-0.1505358</td><td> 0.7940736</td><td>-0.189574124</td><td>8.496429e-01</td><td>9.123113e-01</td></tr>\n",
       "\t<tr><td>ENSG00000281849</td><td> 7.422437916</td><td> 0.1572625</td><td> 0.5143128</td><td> 0.305772008</td><td>7.597782e-01</td><td>8.555954e-01</td></tr>\n",
       "\t<tr><td>ENSG00000281852</td><td> 1.656866709</td><td>-4.2484475</td><td> 0.9015865</td><td>-4.712190485</td><td>2.450681e-06</td><td>5.200028e-05</td></tr>\n",
       "\t<tr><td>ENSG00000281856</td><td> 0.002915008</td><td> 0.0352300</td><td>14.7545256</td><td> 0.002387742</td><td>9.980949e-01</td><td>          NA</td></tr>\n",
       "\t<tr><td>ENSG00000281859</td><td> 0.000000000</td><td>        NA</td><td>        NA</td><td>          NA</td><td>          NA</td><td>          NA</td></tr>\n",
       "\t<tr><td>ENSG00000281863</td><td> 0.297488901</td><td> 0.9204760</td><td> 1.9017717</td><td> 0.484009753</td><td>6.283789e-01</td><td>          NA</td></tr>\n",
       "\t<tr><td>ENSG00000281880</td><td> 0.721350870</td><td> 2.0482018</td><td> 2.2611320</td><td> 0.905830258</td><td>3.650257e-01</td><td>          NA</td></tr>\n",
       "\t<tr><td>ENSG00000281883</td><td> 2.814619967</td><td> 0.4766099</td><td> 0.8631818</td><td> 0.552154699</td><td>5.808424e-01</td><td>7.291804e-01</td></tr>\n",
       "\t<tr><td>ENSG00000281887</td><td> 0.049685038</td><td>-2.7994375</td><td> 6.6736901</td><td>-0.419473696</td><td>6.748700e-01</td><td>          NA</td></tr>\n",
       "\t<tr><td>ENSG00000281896</td><td>24.351680871</td><td> 0.6503423</td><td> 0.7578008</td><td> 0.858196882</td><td>3.907838e-01</td><td>5.709274e-01</td></tr>\n",
       "\t<tr><td>ENSG00000281903</td><td> 8.447971635</td><td> 1.5036889</td><td> 0.8104260</td><td> 1.855430126</td><td>6.353483e-02</td><td>1.695860e-01</td></tr>\n",
       "\t<tr><td>ENSG00000281904</td><td> 0.193308081</td><td>-0.3340764</td><td> 2.7166558</td><td>-0.122973382</td><td>9.021282e-01</td><td>          NA</td></tr>\n",
       "\t<tr><td>ENSG00000281909</td><td> 0.385299169</td><td> 1.2278995</td><td> 1.5708534</td><td> 0.781676684</td><td>4.344046e-01</td><td>          NA</td></tr>\n",
       "\t<tr><td>ENSG00000281910</td><td> 0.136105659</td><td> 0.4420036</td><td> 2.8331152</td><td> 0.156013269</td><td>8.760226e-01</td><td>          NA</td></tr>\n",
       "\t<tr><td>ENSG00000281912</td><td>54.528328505</td><td>-0.9862215</td><td> 0.5380276</td><td>-1.833031367</td><td>6.679791e-02</td><td>1.754458e-01</td></tr>\n",
       "\t<tr><td>ENSG00000281920</td><td> 4.494452813</td><td>-1.2019623</td><td> 0.9968342</td><td>-1.205779584</td><td>2.279025e-01</td><td>4.013228e-01</td></tr>\n",
       "</tbody>\n",
       "</table>\n"
      ],
      "text/latex": [
       "A tibble: 56493 × 7\n",
       "\\begin{tabular}{lllllll}\n",
       " geneID & baseMean & log2FoldChange & lfcSE & stat & pvalue & padj\\\\\n",
       " <chr> & <dbl> & <dbl> & <dbl> & <dbl> & <dbl> & <dbl>\\\\\n",
       "\\hline\n",
       "\t ENSG00000000003 &  3476.033426 &  0.321858005 & 0.4442807 &  0.724447462 & 4.687911e-01 & 6.388746e-01\\\\\n",
       "\t ENSG00000000005 &     2.267135 & -3.883578781 & 1.7394600 & -2.232634716 & 2.557304e-02 & 8.950413e-02\\\\\n",
       "\t ENSG00000000419 &  2638.597733 &  0.385043922 & 0.2700207 &  1.425979104 & 1.538744e-01 & 3.091112e-01\\\\\n",
       "\t ENSG00000000457 &   910.186204 &  0.294998354 & 0.2780415 &  1.060986776 & 2.886959e-01 & 4.687732e-01\\\\\n",
       "\t ENSG00000000460 &   878.032328 &  2.482991328 & 0.3159528 &  7.858741846 & 3.880110e-15 & 4.890596e-13\\\\\n",
       "\t ENSG00000000938 &   514.668255 & -1.165766106 & 0.5907400 & -1.973399733 & 4.845004e-02 & 1.409502e-01\\\\\n",
       "\t ENSG00000000971 &  3950.819717 &  0.254351771 & 0.8636045 &  0.294523455 & 7.683579e-01 & 8.618625e-01\\\\\n",
       "\t ENSG00000001036 &  3845.645354 &  0.511220332 & 0.3921115 &  1.303762662 & 1.923145e-01 & 3.583954e-01\\\\\n",
       "\t ENSG00000001084 &  4025.114912 &  1.217425649 & 0.8198118 &  1.485006200 & 1.375422e-01 & 2.862656e-01\\\\\n",
       "\t ENSG00000001167 &  1842.209860 &  0.680668798 & 0.2938898 &  2.316068120 & 2.055455e-02 & 7.664212e-02\\\\\n",
       "\t ENSG00000001460 &   757.534549 &  0.226098962 & 0.3862257 &  0.585406383 & 5.582745e-01 & 7.115400e-01\\\\\n",
       "\t ENSG00000001461 &  2272.246162 &  0.515945490 & 0.3257152 &  1.584038504 & 1.131850e-01 & 2.509983e-01\\\\\n",
       "\t ENSG00000001497 &  3738.988973 &  0.540425834 & 0.3192042 &  1.693041144 & 9.044764e-02 & 2.160051e-01\\\\\n",
       "\t ENSG00000001561 &   614.563742 & -0.274348223 & 1.0179625 & -0.269507204 & 7.875394e-01 & 8.741415e-01\\\\\n",
       "\t ENSG00000001617 &  8614.145289 &  2.201347541 & 0.4775016 &  4.610136828 & 4.024040e-06 & 7.933492e-05\\\\\n",
       "\t ENSG00000001626 &   249.606532 & -2.304451190 & 1.6148443 & -1.427042308 &           NA &           NA\\\\\n",
       "\t ENSG00000001629 &  2819.121522 &  0.638005639 & 0.2995713 &  2.129728891 & 3.319400e-02 & 1.078695e-01\\\\\n",
       "\t ENSG00000001630 &   233.885161 &  0.993594622 & 0.5695556 &  1.744508423 & 8.107047e-02 & 2.004364e-01\\\\\n",
       "\t ENSG00000001631 &  1606.179718 &  0.184771711 & 0.3229310 &  0.572170896 & 5.672062e-01 & 7.184222e-01\\\\\n",
       "\t ENSG00000002016 &   453.364945 & -0.187754422 & 0.3374765 & -0.556348076 & 5.779729e-01 & 7.270326e-01\\\\\n",
       "\t ENSG00000002079 &    43.548511 &  2.213724955 & 0.9738034 &  2.273277197 & 2.300948e-02 & 8.298381e-02\\\\\n",
       "\t ENSG00000002330 &  2320.214510 & -0.320080817 & 0.4331805 & -0.738908695 & 4.599624e-01 & 6.317146e-01\\\\\n",
       "\t ENSG00000002549 &  6950.835243 &  0.846421654 & 0.5247908 &  1.612874303 & 1.067718e-01 & 2.413370e-01\\\\\n",
       "\t ENSG00000002586 & 11135.001508 & -1.189030454 & 0.4929955 & -2.411848311 & 1.587188e-02 & 6.384688e-02\\\\\n",
       "\t ENSG00000002587 &  1157.604695 &  0.003401177 & 0.7841166 &  0.004337591 & 9.965391e-01 & 9.981975e-01\\\\\n",
       "\t ENSG00000002726 &  1550.946381 &  0.078783557 & 1.5410869 &  0.051122072 & 9.592282e-01 & 9.780997e-01\\\\\n",
       "\t ENSG00000002745 &    26.464722 &  1.410052602 & 1.0450783 &  1.349231528 & 1.772626e-01 & 3.392721e-01\\\\\n",
       "\t ENSG00000002746 &    43.481721 &  1.768756591 & 0.9184500 &  1.925806012 & 5.412860e-02 & 1.521026e-01\\\\\n",
       "\t ENSG00000002822 &  2163.025347 &  0.454069809 & 0.3406841 &  1.332817856 & 1.825916e-01 & 3.458877e-01\\\\\n",
       "\t ENSG00000002834 & 13024.735199 &  0.401968031 & 0.3065137 &  1.311419263 & 1.897162e-01 & 3.549986e-01\\\\\n",
       "\t ⋮ & ⋮ & ⋮ & ⋮ & ⋮ & ⋮ & ⋮\\\\\n",
       "\t ENSG00000281721 &  0.336208722 &  0.9524859 &  2.1957124 &  0.433793548 & 6.644384e-01 &           NA\\\\\n",
       "\t ENSG00000281731 &  3.294400200 &  0.1629226 &  0.7859138 &  0.207303457 & 8.357729e-01 & 9.037685e-01\\\\\n",
       "\t ENSG00000281732 &  0.386992976 & -2.8109677 &  2.9998103 & -0.937048490 & 3.487336e-01 &           NA\\\\\n",
       "\t ENSG00000281741 & 11.062960966 &  0.2714238 &  1.0064995 &  0.269671118 & 7.874133e-01 & 8.740673e-01\\\\\n",
       "\t ENSG00000281756 &  7.043255907 &  2.9985683 &  1.2746125 &  2.352533245 & 1.864602e-02 & 7.134854e-02\\\\\n",
       "\t ENSG00000281769 &  1.383350079 &  0.6838195 &  2.1538536 &  0.317486542 & 7.508744e-01 & 8.499824e-01\\\\\n",
       "\t ENSG00000281772 &  3.118417119 & -0.4064897 &  0.7751920 & -0.524372984 & 6.000191e-01 & 7.439138e-01\\\\\n",
       "\t ENSG00000281778 &  0.108629162 &  0.2905068 &  4.8510890 &  0.059884871 & 9.522473e-01 &           NA\\\\\n",
       "\t ENSG00000281780 &  4.596152441 &  1.1663259 &  0.7529267 &  1.549056462 & 1.213681e-01 & 2.638096e-01\\\\\n",
       "\t ENSG00000281808 &  0.000000000 &         NA &         NA &           NA &           NA &           NA\\\\\n",
       "\t ENSG00000281809 &  1.528356348 &  2.1460318 &  1.6902524 &  1.269651677 & 2.042087e-01 & 3.729832e-01\\\\\n",
       "\t ENSG00000281825 &  0.168557424 &  0.5261174 &  2.6099953 &  0.201577910 & 8.402467e-01 &           NA\\\\\n",
       "\t ENSG00000281831 &  7.402004354 & -1.4524400 &  1.0111013 & -1.436493020 & 1.508621e-01 & 3.052196e-01\\\\\n",
       "\t ENSG00000281832 &  3.523980580 & -0.5743087 &  3.2495791 & -0.176733267 & 8.597179e-01 & 9.181490e-01\\\\\n",
       "\t ENSG00000281842 &  2.096384752 & -0.1505358 &  0.7940736 & -0.189574124 & 8.496429e-01 & 9.123113e-01\\\\\n",
       "\t ENSG00000281849 &  7.422437916 &  0.1572625 &  0.5143128 &  0.305772008 & 7.597782e-01 & 8.555954e-01\\\\\n",
       "\t ENSG00000281852 &  1.656866709 & -4.2484475 &  0.9015865 & -4.712190485 & 2.450681e-06 & 5.200028e-05\\\\\n",
       "\t ENSG00000281856 &  0.002915008 &  0.0352300 & 14.7545256 &  0.002387742 & 9.980949e-01 &           NA\\\\\n",
       "\t ENSG00000281859 &  0.000000000 &         NA &         NA &           NA &           NA &           NA\\\\\n",
       "\t ENSG00000281863 &  0.297488901 &  0.9204760 &  1.9017717 &  0.484009753 & 6.283789e-01 &           NA\\\\\n",
       "\t ENSG00000281880 &  0.721350870 &  2.0482018 &  2.2611320 &  0.905830258 & 3.650257e-01 &           NA\\\\\n",
       "\t ENSG00000281883 &  2.814619967 &  0.4766099 &  0.8631818 &  0.552154699 & 5.808424e-01 & 7.291804e-01\\\\\n",
       "\t ENSG00000281887 &  0.049685038 & -2.7994375 &  6.6736901 & -0.419473696 & 6.748700e-01 &           NA\\\\\n",
       "\t ENSG00000281896 & 24.351680871 &  0.6503423 &  0.7578008 &  0.858196882 & 3.907838e-01 & 5.709274e-01\\\\\n",
       "\t ENSG00000281903 &  8.447971635 &  1.5036889 &  0.8104260 &  1.855430126 & 6.353483e-02 & 1.695860e-01\\\\\n",
       "\t ENSG00000281904 &  0.193308081 & -0.3340764 &  2.7166558 & -0.122973382 & 9.021282e-01 &           NA\\\\\n",
       "\t ENSG00000281909 &  0.385299169 &  1.2278995 &  1.5708534 &  0.781676684 & 4.344046e-01 &           NA\\\\\n",
       "\t ENSG00000281910 &  0.136105659 &  0.4420036 &  2.8331152 &  0.156013269 & 8.760226e-01 &           NA\\\\\n",
       "\t ENSG00000281912 & 54.528328505 & -0.9862215 &  0.5380276 & -1.833031367 & 6.679791e-02 & 1.754458e-01\\\\\n",
       "\t ENSG00000281920 &  4.494452813 & -1.2019623 &  0.9968342 & -1.205779584 & 2.279025e-01 & 4.013228e-01\\\\\n",
       "\\end{tabular}\n"
      ],
      "text/markdown": [
       "\n",
       "A tibble: 56493 × 7\n",
       "\n",
       "| geneID &lt;chr&gt; | baseMean &lt;dbl&gt; | log2FoldChange &lt;dbl&gt; | lfcSE &lt;dbl&gt; | stat &lt;dbl&gt; | pvalue &lt;dbl&gt; | padj &lt;dbl&gt; |\n",
       "|---|---|---|---|---|---|---|\n",
       "| ENSG00000000003 |  3476.033426 |  0.321858005 | 0.4442807 |  0.724447462 | 4.687911e-01 | 6.388746e-01 |\n",
       "| ENSG00000000005 |     2.267135 | -3.883578781 | 1.7394600 | -2.232634716 | 2.557304e-02 | 8.950413e-02 |\n",
       "| ENSG00000000419 |  2638.597733 |  0.385043922 | 0.2700207 |  1.425979104 | 1.538744e-01 | 3.091112e-01 |\n",
       "| ENSG00000000457 |   910.186204 |  0.294998354 | 0.2780415 |  1.060986776 | 2.886959e-01 | 4.687732e-01 |\n",
       "| ENSG00000000460 |   878.032328 |  2.482991328 | 0.3159528 |  7.858741846 | 3.880110e-15 | 4.890596e-13 |\n",
       "| ENSG00000000938 |   514.668255 | -1.165766106 | 0.5907400 | -1.973399733 | 4.845004e-02 | 1.409502e-01 |\n",
       "| ENSG00000000971 |  3950.819717 |  0.254351771 | 0.8636045 |  0.294523455 | 7.683579e-01 | 8.618625e-01 |\n",
       "| ENSG00000001036 |  3845.645354 |  0.511220332 | 0.3921115 |  1.303762662 | 1.923145e-01 | 3.583954e-01 |\n",
       "| ENSG00000001084 |  4025.114912 |  1.217425649 | 0.8198118 |  1.485006200 | 1.375422e-01 | 2.862656e-01 |\n",
       "| ENSG00000001167 |  1842.209860 |  0.680668798 | 0.2938898 |  2.316068120 | 2.055455e-02 | 7.664212e-02 |\n",
       "| ENSG00000001460 |   757.534549 |  0.226098962 | 0.3862257 |  0.585406383 | 5.582745e-01 | 7.115400e-01 |\n",
       "| ENSG00000001461 |  2272.246162 |  0.515945490 | 0.3257152 |  1.584038504 | 1.131850e-01 | 2.509983e-01 |\n",
       "| ENSG00000001497 |  3738.988973 |  0.540425834 | 0.3192042 |  1.693041144 | 9.044764e-02 | 2.160051e-01 |\n",
       "| ENSG00000001561 |   614.563742 | -0.274348223 | 1.0179625 | -0.269507204 | 7.875394e-01 | 8.741415e-01 |\n",
       "| ENSG00000001617 |  8614.145289 |  2.201347541 | 0.4775016 |  4.610136828 | 4.024040e-06 | 7.933492e-05 |\n",
       "| ENSG00000001626 |   249.606532 | -2.304451190 | 1.6148443 | -1.427042308 |           NA |           NA |\n",
       "| ENSG00000001629 |  2819.121522 |  0.638005639 | 0.2995713 |  2.129728891 | 3.319400e-02 | 1.078695e-01 |\n",
       "| ENSG00000001630 |   233.885161 |  0.993594622 | 0.5695556 |  1.744508423 | 8.107047e-02 | 2.004364e-01 |\n",
       "| ENSG00000001631 |  1606.179718 |  0.184771711 | 0.3229310 |  0.572170896 | 5.672062e-01 | 7.184222e-01 |\n",
       "| ENSG00000002016 |   453.364945 | -0.187754422 | 0.3374765 | -0.556348076 | 5.779729e-01 | 7.270326e-01 |\n",
       "| ENSG00000002079 |    43.548511 |  2.213724955 | 0.9738034 |  2.273277197 | 2.300948e-02 | 8.298381e-02 |\n",
       "| ENSG00000002330 |  2320.214510 | -0.320080817 | 0.4331805 | -0.738908695 | 4.599624e-01 | 6.317146e-01 |\n",
       "| ENSG00000002549 |  6950.835243 |  0.846421654 | 0.5247908 |  1.612874303 | 1.067718e-01 | 2.413370e-01 |\n",
       "| ENSG00000002586 | 11135.001508 | -1.189030454 | 0.4929955 | -2.411848311 | 1.587188e-02 | 6.384688e-02 |\n",
       "| ENSG00000002587 |  1157.604695 |  0.003401177 | 0.7841166 |  0.004337591 | 9.965391e-01 | 9.981975e-01 |\n",
       "| ENSG00000002726 |  1550.946381 |  0.078783557 | 1.5410869 |  0.051122072 | 9.592282e-01 | 9.780997e-01 |\n",
       "| ENSG00000002745 |    26.464722 |  1.410052602 | 1.0450783 |  1.349231528 | 1.772626e-01 | 3.392721e-01 |\n",
       "| ENSG00000002746 |    43.481721 |  1.768756591 | 0.9184500 |  1.925806012 | 5.412860e-02 | 1.521026e-01 |\n",
       "| ENSG00000002822 |  2163.025347 |  0.454069809 | 0.3406841 |  1.332817856 | 1.825916e-01 | 3.458877e-01 |\n",
       "| ENSG00000002834 | 13024.735199 |  0.401968031 | 0.3065137 |  1.311419263 | 1.897162e-01 | 3.549986e-01 |\n",
       "| ⋮ | ⋮ | ⋮ | ⋮ | ⋮ | ⋮ | ⋮ |\n",
       "| ENSG00000281721 |  0.336208722 |  0.9524859 |  2.1957124 |  0.433793548 | 6.644384e-01 |           NA |\n",
       "| ENSG00000281731 |  3.294400200 |  0.1629226 |  0.7859138 |  0.207303457 | 8.357729e-01 | 9.037685e-01 |\n",
       "| ENSG00000281732 |  0.386992976 | -2.8109677 |  2.9998103 | -0.937048490 | 3.487336e-01 |           NA |\n",
       "| ENSG00000281741 | 11.062960966 |  0.2714238 |  1.0064995 |  0.269671118 | 7.874133e-01 | 8.740673e-01 |\n",
       "| ENSG00000281756 |  7.043255907 |  2.9985683 |  1.2746125 |  2.352533245 | 1.864602e-02 | 7.134854e-02 |\n",
       "| ENSG00000281769 |  1.383350079 |  0.6838195 |  2.1538536 |  0.317486542 | 7.508744e-01 | 8.499824e-01 |\n",
       "| ENSG00000281772 |  3.118417119 | -0.4064897 |  0.7751920 | -0.524372984 | 6.000191e-01 | 7.439138e-01 |\n",
       "| ENSG00000281778 |  0.108629162 |  0.2905068 |  4.8510890 |  0.059884871 | 9.522473e-01 |           NA |\n",
       "| ENSG00000281780 |  4.596152441 |  1.1663259 |  0.7529267 |  1.549056462 | 1.213681e-01 | 2.638096e-01 |\n",
       "| ENSG00000281808 |  0.000000000 |         NA |         NA |           NA |           NA |           NA |\n",
       "| ENSG00000281809 |  1.528356348 |  2.1460318 |  1.6902524 |  1.269651677 | 2.042087e-01 | 3.729832e-01 |\n",
       "| ENSG00000281825 |  0.168557424 |  0.5261174 |  2.6099953 |  0.201577910 | 8.402467e-01 |           NA |\n",
       "| ENSG00000281831 |  7.402004354 | -1.4524400 |  1.0111013 | -1.436493020 | 1.508621e-01 | 3.052196e-01 |\n",
       "| ENSG00000281832 |  3.523980580 | -0.5743087 |  3.2495791 | -0.176733267 | 8.597179e-01 | 9.181490e-01 |\n",
       "| ENSG00000281842 |  2.096384752 | -0.1505358 |  0.7940736 | -0.189574124 | 8.496429e-01 | 9.123113e-01 |\n",
       "| ENSG00000281849 |  7.422437916 |  0.1572625 |  0.5143128 |  0.305772008 | 7.597782e-01 | 8.555954e-01 |\n",
       "| ENSG00000281852 |  1.656866709 | -4.2484475 |  0.9015865 | -4.712190485 | 2.450681e-06 | 5.200028e-05 |\n",
       "| ENSG00000281856 |  0.002915008 |  0.0352300 | 14.7545256 |  0.002387742 | 9.980949e-01 |           NA |\n",
       "| ENSG00000281859 |  0.000000000 |         NA |         NA |           NA |           NA |           NA |\n",
       "| ENSG00000281863 |  0.297488901 |  0.9204760 |  1.9017717 |  0.484009753 | 6.283789e-01 |           NA |\n",
       "| ENSG00000281880 |  0.721350870 |  2.0482018 |  2.2611320 |  0.905830258 | 3.650257e-01 |           NA |\n",
       "| ENSG00000281883 |  2.814619967 |  0.4766099 |  0.8631818 |  0.552154699 | 5.808424e-01 | 7.291804e-01 |\n",
       "| ENSG00000281887 |  0.049685038 | -2.7994375 |  6.6736901 | -0.419473696 | 6.748700e-01 |           NA |\n",
       "| ENSG00000281896 | 24.351680871 |  0.6503423 |  0.7578008 |  0.858196882 | 3.907838e-01 | 5.709274e-01 |\n",
       "| ENSG00000281903 |  8.447971635 |  1.5036889 |  0.8104260 |  1.855430126 | 6.353483e-02 | 1.695860e-01 |\n",
       "| ENSG00000281904 |  0.193308081 | -0.3340764 |  2.7166558 | -0.122973382 | 9.021282e-01 |           NA |\n",
       "| ENSG00000281909 |  0.385299169 |  1.2278995 |  1.5708534 |  0.781676684 | 4.344046e-01 |           NA |\n",
       "| ENSG00000281910 |  0.136105659 |  0.4420036 |  2.8331152 |  0.156013269 | 8.760226e-01 |           NA |\n",
       "| ENSG00000281912 | 54.528328505 | -0.9862215 |  0.5380276 | -1.833031367 | 6.679791e-02 | 1.754458e-01 |\n",
       "| ENSG00000281920 |  4.494452813 | -1.2019623 |  0.9968342 | -1.205779584 | 2.279025e-01 | 4.013228e-01 |\n",
       "\n"
      ],
      "text/plain": [
       "      geneID          baseMean     log2FoldChange lfcSE      stat        \n",
       "1     ENSG00000000003  3476.033426  0.321858005   0.4442807   0.724447462\n",
       "2     ENSG00000000005     2.267135 -3.883578781   1.7394600  -2.232634716\n",
       "3     ENSG00000000419  2638.597733  0.385043922   0.2700207   1.425979104\n",
       "4     ENSG00000000457   910.186204  0.294998354   0.2780415   1.060986776\n",
       "5     ENSG00000000460   878.032328  2.482991328   0.3159528   7.858741846\n",
       "6     ENSG00000000938   514.668255 -1.165766106   0.5907400  -1.973399733\n",
       "7     ENSG00000000971  3950.819717  0.254351771   0.8636045   0.294523455\n",
       "8     ENSG00000001036  3845.645354  0.511220332   0.3921115   1.303762662\n",
       "9     ENSG00000001084  4025.114912  1.217425649   0.8198118   1.485006200\n",
       "10    ENSG00000001167  1842.209860  0.680668798   0.2938898   2.316068120\n",
       "11    ENSG00000001460   757.534549  0.226098962   0.3862257   0.585406383\n",
       "12    ENSG00000001461  2272.246162  0.515945490   0.3257152   1.584038504\n",
       "13    ENSG00000001497  3738.988973  0.540425834   0.3192042   1.693041144\n",
       "14    ENSG00000001561   614.563742 -0.274348223   1.0179625  -0.269507204\n",
       "15    ENSG00000001617  8614.145289  2.201347541   0.4775016   4.610136828\n",
       "16    ENSG00000001626   249.606532 -2.304451190   1.6148443  -1.427042308\n",
       "17    ENSG00000001629  2819.121522  0.638005639   0.2995713   2.129728891\n",
       "18    ENSG00000001630   233.885161  0.993594622   0.5695556   1.744508423\n",
       "19    ENSG00000001631  1606.179718  0.184771711   0.3229310   0.572170896\n",
       "20    ENSG00000002016   453.364945 -0.187754422   0.3374765  -0.556348076\n",
       "21    ENSG00000002079    43.548511  2.213724955   0.9738034   2.273277197\n",
       "22    ENSG00000002330  2320.214510 -0.320080817   0.4331805  -0.738908695\n",
       "23    ENSG00000002549  6950.835243  0.846421654   0.5247908   1.612874303\n",
       "24    ENSG00000002586 11135.001508 -1.189030454   0.4929955  -2.411848311\n",
       "25    ENSG00000002587  1157.604695  0.003401177   0.7841166   0.004337591\n",
       "26    ENSG00000002726  1550.946381  0.078783557   1.5410869   0.051122072\n",
       "27    ENSG00000002745    26.464722  1.410052602   1.0450783   1.349231528\n",
       "28    ENSG00000002746    43.481721  1.768756591   0.9184500   1.925806012\n",
       "29    ENSG00000002822  2163.025347  0.454069809   0.3406841   1.332817856\n",
       "30    ENSG00000002834 13024.735199  0.401968031   0.3065137   1.311419263\n",
       "⋮     ⋮               ⋮            ⋮              ⋮          ⋮           \n",
       "56464 ENSG00000281721  0.336208722  0.9524859      2.1957124  0.433793548\n",
       "56465 ENSG00000281731  3.294400200  0.1629226      0.7859138  0.207303457\n",
       "56466 ENSG00000281732  0.386992976 -2.8109677      2.9998103 -0.937048490\n",
       "56467 ENSG00000281741 11.062960966  0.2714238      1.0064995  0.269671118\n",
       "56468 ENSG00000281756  7.043255907  2.9985683      1.2746125  2.352533245\n",
       "56469 ENSG00000281769  1.383350079  0.6838195      2.1538536  0.317486542\n",
       "56470 ENSG00000281772  3.118417119 -0.4064897      0.7751920 -0.524372984\n",
       "56471 ENSG00000281778  0.108629162  0.2905068      4.8510890  0.059884871\n",
       "56472 ENSG00000281780  4.596152441  1.1663259      0.7529267  1.549056462\n",
       "56473 ENSG00000281808  0.000000000         NA             NA           NA\n",
       "56474 ENSG00000281809  1.528356348  2.1460318      1.6902524  1.269651677\n",
       "56475 ENSG00000281825  0.168557424  0.5261174      2.6099953  0.201577910\n",
       "56476 ENSG00000281831  7.402004354 -1.4524400      1.0111013 -1.436493020\n",
       "56477 ENSG00000281832  3.523980580 -0.5743087      3.2495791 -0.176733267\n",
       "56478 ENSG00000281842  2.096384752 -0.1505358      0.7940736 -0.189574124\n",
       "56479 ENSG00000281849  7.422437916  0.1572625      0.5143128  0.305772008\n",
       "56480 ENSG00000281852  1.656866709 -4.2484475      0.9015865 -4.712190485\n",
       "56481 ENSG00000281856  0.002915008  0.0352300     14.7545256  0.002387742\n",
       "56482 ENSG00000281859  0.000000000         NA             NA           NA\n",
       "56483 ENSG00000281863  0.297488901  0.9204760      1.9017717  0.484009753\n",
       "56484 ENSG00000281880  0.721350870  2.0482018      2.2611320  0.905830258\n",
       "56485 ENSG00000281883  2.814619967  0.4766099      0.8631818  0.552154699\n",
       "56486 ENSG00000281887  0.049685038 -2.7994375      6.6736901 -0.419473696\n",
       "56487 ENSG00000281896 24.351680871  0.6503423      0.7578008  0.858196882\n",
       "56488 ENSG00000281903  8.447971635  1.5036889      0.8104260  1.855430126\n",
       "56489 ENSG00000281904  0.193308081 -0.3340764      2.7166558 -0.122973382\n",
       "56490 ENSG00000281909  0.385299169  1.2278995      1.5708534  0.781676684\n",
       "56491 ENSG00000281910  0.136105659  0.4420036      2.8331152  0.156013269\n",
       "56492 ENSG00000281912 54.528328505 -0.9862215      0.5380276 -1.833031367\n",
       "56493 ENSG00000281920  4.494452813 -1.2019623      0.9968342 -1.205779584\n",
       "      pvalue       padj        \n",
       "1     4.687911e-01 6.388746e-01\n",
       "2     2.557304e-02 8.950413e-02\n",
       "3     1.538744e-01 3.091112e-01\n",
       "4     2.886959e-01 4.687732e-01\n",
       "5     3.880110e-15 4.890596e-13\n",
       "6     4.845004e-02 1.409502e-01\n",
       "7     7.683579e-01 8.618625e-01\n",
       "8     1.923145e-01 3.583954e-01\n",
       "9     1.375422e-01 2.862656e-01\n",
       "10    2.055455e-02 7.664212e-02\n",
       "11    5.582745e-01 7.115400e-01\n",
       "12    1.131850e-01 2.509983e-01\n",
       "13    9.044764e-02 2.160051e-01\n",
       "14    7.875394e-01 8.741415e-01\n",
       "15    4.024040e-06 7.933492e-05\n",
       "16              NA           NA\n",
       "17    3.319400e-02 1.078695e-01\n",
       "18    8.107047e-02 2.004364e-01\n",
       "19    5.672062e-01 7.184222e-01\n",
       "20    5.779729e-01 7.270326e-01\n",
       "21    2.300948e-02 8.298381e-02\n",
       "22    4.599624e-01 6.317146e-01\n",
       "23    1.067718e-01 2.413370e-01\n",
       "24    1.587188e-02 6.384688e-02\n",
       "25    9.965391e-01 9.981975e-01\n",
       "26    9.592282e-01 9.780997e-01\n",
       "27    1.772626e-01 3.392721e-01\n",
       "28    5.412860e-02 1.521026e-01\n",
       "29    1.825916e-01 3.458877e-01\n",
       "30    1.897162e-01 3.549986e-01\n",
       "⋮     ⋮            ⋮           \n",
       "56464 6.644384e-01           NA\n",
       "56465 8.357729e-01 9.037685e-01\n",
       "56466 3.487336e-01           NA\n",
       "56467 7.874133e-01 8.740673e-01\n",
       "56468 1.864602e-02 7.134854e-02\n",
       "56469 7.508744e-01 8.499824e-01\n",
       "56470 6.000191e-01 7.439138e-01\n",
       "56471 9.522473e-01           NA\n",
       "56472 1.213681e-01 2.638096e-01\n",
       "56473           NA           NA\n",
       "56474 2.042087e-01 3.729832e-01\n",
       "56475 8.402467e-01           NA\n",
       "56476 1.508621e-01 3.052196e-01\n",
       "56477 8.597179e-01 9.181490e-01\n",
       "56478 8.496429e-01 9.123113e-01\n",
       "56479 7.597782e-01 8.555954e-01\n",
       "56480 2.450681e-06 5.200028e-05\n",
       "56481 9.980949e-01           NA\n",
       "56482           NA           NA\n",
       "56483 6.283789e-01           NA\n",
       "56484 3.650257e-01           NA\n",
       "56485 5.808424e-01 7.291804e-01\n",
       "56486 6.748700e-01           NA\n",
       "56487 3.907838e-01 5.709274e-01\n",
       "56488 6.353483e-02 1.695860e-01\n",
       "56489 9.021282e-01           NA\n",
       "56490 4.344046e-01           NA\n",
       "56491 8.760226e-01           NA\n",
       "56492 6.679791e-02 1.754458e-01\n",
       "56493 2.279025e-01 4.013228e-01"
      ]
     },
     "metadata": {},
     "output_type": "display_data"
    }
   ],
   "source": [
    "res %>% as_tibble(rownames = \"geneID\")"
   ]
  },
  {
   "cell_type": "code",
   "execution_count": 119,
   "metadata": {},
   "outputs": [
    {
     "data": {
      "text/html": [
       "<table>\n",
       "<caption>A tibble: 6 × 3</caption>\n",
       "<thead>\n",
       "\t<tr><th scope=col>ensembl_gene_id</th><th scope=col>external_gene_name</th><th scope=col>original_ensembl_gene_id</th></tr>\n",
       "\t<tr><th scope=col>&lt;chr&gt;</th><th scope=col>&lt;chr&gt;</th><th scope=col>&lt;chr&gt;</th></tr>\n",
       "</thead>\n",
       "<tbody>\n",
       "\t<tr><td>ENSG00000000003</td><td>TSPAN6  </td><td>ENSG00000000003.13</td></tr>\n",
       "\t<tr><td>ENSG00000000005</td><td>TNMD    </td><td>ENSG00000000005.5 </td></tr>\n",
       "\t<tr><td>ENSG00000000419</td><td>DPM1    </td><td>ENSG00000000419.11</td></tr>\n",
       "\t<tr><td>ENSG00000000457</td><td>SCYL3   </td><td>ENSG00000000457.12</td></tr>\n",
       "\t<tr><td>ENSG00000000460</td><td>C1orf112</td><td>ENSG00000000460.15</td></tr>\n",
       "\t<tr><td>ENSG00000000938</td><td>FGR     </td><td>ENSG00000000938.11</td></tr>\n",
       "</tbody>\n",
       "</table>\n"
      ],
      "text/latex": [
       "A tibble: 6 × 3\n",
       "\\begin{tabular}{lll}\n",
       " ensembl\\_gene\\_id & external\\_gene\\_name & original\\_ensembl\\_gene\\_id\\\\\n",
       " <chr> & <chr> & <chr>\\\\\n",
       "\\hline\n",
       "\t ENSG00000000003 & TSPAN6   & ENSG00000000003.13\\\\\n",
       "\t ENSG00000000005 & TNMD     & ENSG00000000005.5 \\\\\n",
       "\t ENSG00000000419 & DPM1     & ENSG00000000419.11\\\\\n",
       "\t ENSG00000000457 & SCYL3    & ENSG00000000457.12\\\\\n",
       "\t ENSG00000000460 & C1orf112 & ENSG00000000460.15\\\\\n",
       "\t ENSG00000000938 & FGR      & ENSG00000000938.11\\\\\n",
       "\\end{tabular}\n"
      ],
      "text/markdown": [
       "\n",
       "A tibble: 6 × 3\n",
       "\n",
       "| ensembl_gene_id &lt;chr&gt; | external_gene_name &lt;chr&gt; | original_ensembl_gene_id &lt;chr&gt; |\n",
       "|---|---|---|\n",
       "| ENSG00000000003 | TSPAN6   | ENSG00000000003.13 |\n",
       "| ENSG00000000005 | TNMD     | ENSG00000000005.5  |\n",
       "| ENSG00000000419 | DPM1     | ENSG00000000419.11 |\n",
       "| ENSG00000000457 | SCYL3    | ENSG00000000457.12 |\n",
       "| ENSG00000000460 | C1orf112 | ENSG00000000460.15 |\n",
       "| ENSG00000000938 | FGR      | ENSG00000000938.11 |\n",
       "\n"
      ],
      "text/plain": [
       "  ensembl_gene_id external_gene_name original_ensembl_gene_id\n",
       "1 ENSG00000000003 TSPAN6             ENSG00000000003.13      \n",
       "2 ENSG00000000005 TNMD               ENSG00000000005.5       \n",
       "3 ENSG00000000419 DPM1               ENSG00000000419.11      \n",
       "4 ENSG00000000457 SCYL3              ENSG00000000457.12      \n",
       "5 ENSG00000000460 C1orf112           ENSG00000000460.15      \n",
       "6 ENSG00000000938 FGR                ENSG00000000938.11      "
      ]
     },
     "metadata": {},
     "output_type": "display_data"
    }
   ],
   "source": [
    "head(rowData(ddsSE) %>% as_tibble())"
   ]
  }
 ],
 "metadata": {
  "kernelspec": {
   "display_name": "R",
   "language": "R",
   "name": "ir"
  },
  "language_info": {
   "codemirror_mode": "r",
   "file_extension": ".r",
   "mimetype": "text/x-r-source",
   "name": "R",
   "pygments_lexer": "r",
   "version": "3.6.3"
  }
 },
 "nbformat": 4,
 "nbformat_minor": 4
}
