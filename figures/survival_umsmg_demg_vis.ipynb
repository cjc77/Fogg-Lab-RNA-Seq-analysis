{
 "cells": [
  {
   "cell_type": "code",
   "execution_count": 1,
   "id": "experienced-herald",
   "metadata": {},
   "outputs": [
    {
     "name": "stderr",
     "output_type": "stream",
     "text": [
      "-- \u001b[1mAttaching packages\u001b[22m ------------------------------------------------------------------------------------- tidyverse 1.3.0 --\n",
      "\n",
      "\u001b[32mv\u001b[39m \u001b[34mggplot2\u001b[39m 3.3.3     \u001b[32mv\u001b[39m \u001b[34mpurrr  \u001b[39m 0.3.4\n",
      "\u001b[32mv\u001b[39m \u001b[34mtibble \u001b[39m 3.0.6     \u001b[32mv\u001b[39m \u001b[34mdplyr  \u001b[39m 1.0.4\n",
      "\u001b[32mv\u001b[39m \u001b[34mtidyr  \u001b[39m 1.1.2     \u001b[32mv\u001b[39m \u001b[34mstringr\u001b[39m 1.4.0\n",
      "\u001b[32mv\u001b[39m \u001b[34mreadr  \u001b[39m 1.4.0     \u001b[32mv\u001b[39m \u001b[34mforcats\u001b[39m 0.5.1\n",
      "\n",
      "-- \u001b[1mConflicts\u001b[22m ---------------------------------------------------------------------------------------- tidyverse_conflicts() --\n",
      "\u001b[31mx\u001b[39m \u001b[34mdplyr\u001b[39m::\u001b[32mfilter()\u001b[39m masks \u001b[34mstats\u001b[39m::filter()\n",
      "\u001b[31mx\u001b[39m \u001b[34mdplyr\u001b[39m::\u001b[32mlag()\u001b[39m    masks \u001b[34mstats\u001b[39m::lag()\n",
      "\n"
     ]
    }
   ],
   "source": [
    "library(tidyverse)\n",
    "\n",
    "# Custom package\n",
    "library(rutils)"
   ]
  },
  {
   "cell_type": "code",
   "execution_count": 2,
   "id": "tough-filter",
   "metadata": {},
   "outputs": [],
   "source": [
    "dirs <- rutils::get_dev_directories(dev_paths_file = \"../dev_paths.txt\")\n",
    "unified_dsets <- c(\"unified_cervical_data\", \"unified_uterine_data\", \"unified_uterine_endometrial_data\")\n",
    "projects <- c(\"CESC\", \"UCS\", \"UCEC\")"
   ]
  },
  {
   "cell_type": "code",
   "execution_count": 3,
   "id": "white-thought",
   "metadata": {},
   "outputs": [],
   "source": [
    "# text_size <- 11\n",
    "text_size <- 8\n",
    "guide_size <- 1\n",
    "# family <- \"arial\"\n",
    "family <- \"ArialMT\"\n",
    "dpi <- 320\n",
    "ht <- 8\n",
    "wd_1 <- 5\n",
    "wd_2 <- 3"
   ]
  },
  {
   "cell_type": "code",
   "execution_count": 4,
   "id": "cardiovascular-collaboration",
   "metadata": {},
   "outputs": [],
   "source": [
    "# p_thresh <- 0.05\n",
    "q_thresh <- 0.05"
   ]
  },
  {
   "cell_type": "code",
   "execution_count": 5,
   "id": "former-regard",
   "metadata": {},
   "outputs": [],
   "source": [
    "demg_lists <- list()\n",
    "survival_umsmg_lists <- list()\n",
    "for (dset_idx in 1:3) {\n",
    "    demg_lists[[projects[dset_idx]]] <- read_lines(paste0(dirs$analysis_dir, \"/gene_lists/\", unified_dsets[dset_idx], \"_demg_list.txt\"))\n",
    "    survival_umsmg_lists[[projects[dset_idx]]] <- read_lines(paste0(dirs$analysis_dir, \"/gene_lists/\", unified_dsets[dset_idx], \"_figo_umsmg_list.txt\"))\n",
    "}\n"
   ]
  },
  {
   "cell_type": "code",
   "execution_count": 6,
   "id": "limiting-completion",
   "metadata": {},
   "outputs": [
    {
     "name": "stderr",
     "output_type": "stream",
     "text": [
      "\n",
      "\u001b[36m--\u001b[39m \u001b[1m\u001b[1mColumn specification\u001b[1m\u001b[22m \u001b[36m------------------------------------------------------------------------------------------------------\u001b[39m\n",
      "cols(\n",
      "  geneID = \u001b[31mcol_character()\u001b[39m,\n",
      "  km_pval = \u001b[32mcol_double()\u001b[39m,\n",
      "  km_qval = \u001b[32mcol_double()\u001b[39m,\n",
      "  cph_pval = \u001b[32mcol_double()\u001b[39m,\n",
      "  cph_qval = \u001b[32mcol_double()\u001b[39m,\n",
      "  coeff = \u001b[32mcol_double()\u001b[39m\n",
      ")\n",
      "\n",
      "\n",
      "\n",
      "\u001b[36m--\u001b[39m \u001b[1m\u001b[1mColumn specification\u001b[1m\u001b[22m \u001b[36m------------------------------------------------------------------------------------------------------\u001b[39m\n",
      "cols(\n",
      "  geneID = \u001b[31mcol_character()\u001b[39m,\n",
      "  vital_pval = \u001b[32mcol_double()\u001b[39m,\n",
      "  vital_qval = \u001b[32mcol_double()\u001b[39m,\n",
      "  hr = \u001b[32mcol_double()\u001b[39m\n",
      ")\n",
      "\n",
      "\n",
      "\n",
      "\u001b[36m--\u001b[39m \u001b[1m\u001b[1mColumn specification\u001b[1m\u001b[22m \u001b[36m------------------------------------------------------------------------------------------------------\u001b[39m\n",
      "cols(\n",
      "  geneID = \u001b[31mcol_character()\u001b[39m,\n",
      "  coeff = \u001b[32mcol_double()\u001b[39m\n",
      ")\n",
      "\n",
      "\n",
      "\n",
      "\u001b[36m--\u001b[39m \u001b[1m\u001b[1mColumn specification\u001b[1m\u001b[22m \u001b[36m------------------------------------------------------------------------------------------------------\u001b[39m\n",
      "cols(\n",
      "  geneID = \u001b[31mcol_character()\u001b[39m,\n",
      "  km_pval = \u001b[32mcol_double()\u001b[39m,\n",
      "  km_qval = \u001b[32mcol_double()\u001b[39m,\n",
      "  cph_pval = \u001b[32mcol_double()\u001b[39m,\n",
      "  cph_qval = \u001b[32mcol_double()\u001b[39m,\n",
      "  coeff = \u001b[32mcol_double()\u001b[39m\n",
      ")\n",
      "\n",
      "\n",
      "\n",
      "\u001b[36m--\u001b[39m \u001b[1m\u001b[1mColumn specification\u001b[1m\u001b[22m \u001b[36m------------------------------------------------------------------------------------------------------\u001b[39m\n",
      "cols(\n",
      "  geneID = \u001b[31mcol_character()\u001b[39m,\n",
      "  vital_pval = \u001b[32mcol_double()\u001b[39m,\n",
      "  vital_qval = \u001b[32mcol_double()\u001b[39m,\n",
      "  hr = \u001b[32mcol_double()\u001b[39m\n",
      ")\n",
      "\n",
      "\n",
      "\n",
      "\u001b[36m--\u001b[39m \u001b[1m\u001b[1mColumn specification\u001b[1m\u001b[22m \u001b[36m------------------------------------------------------------------------------------------------------\u001b[39m\n",
      "cols(\n",
      "  geneID = \u001b[31mcol_character()\u001b[39m,\n",
      "  coeff = \u001b[32mcol_double()\u001b[39m\n",
      ")\n",
      "\n",
      "\n",
      "\n",
      "\u001b[36m--\u001b[39m \u001b[1m\u001b[1mColumn specification\u001b[1m\u001b[22m \u001b[36m------------------------------------------------------------------------------------------------------\u001b[39m\n",
      "cols(\n",
      "  geneID = \u001b[31mcol_character()\u001b[39m,\n",
      "  km_pval = \u001b[32mcol_double()\u001b[39m,\n",
      "  km_qval = \u001b[32mcol_double()\u001b[39m,\n",
      "  cph_pval = \u001b[32mcol_double()\u001b[39m,\n",
      "  cph_qval = \u001b[32mcol_double()\u001b[39m,\n",
      "  coeff = \u001b[32mcol_double()\u001b[39m\n",
      ")\n",
      "\n",
      "\n",
      "\n",
      "\u001b[36m--\u001b[39m \u001b[1m\u001b[1mColumn specification\u001b[1m\u001b[22m \u001b[36m------------------------------------------------------------------------------------------------------\u001b[39m\n",
      "cols(\n",
      "  geneID = \u001b[31mcol_character()\u001b[39m,\n",
      "  vital_pval = \u001b[32mcol_double()\u001b[39m,\n",
      "  vital_qval = \u001b[32mcol_double()\u001b[39m,\n",
      "  hr = \u001b[32mcol_double()\u001b[39m\n",
      ")\n",
      "\n",
      "\n",
      "\n",
      "\u001b[36m--\u001b[39m \u001b[1m\u001b[1mColumn specification\u001b[1m\u001b[22m \u001b[36m------------------------------------------------------------------------------------------------------\u001b[39m\n",
      "cols(\n",
      "  geneID = \u001b[31mcol_character()\u001b[39m,\n",
      "  coeff = \u001b[32mcol_double()\u001b[39m\n",
      ")\n",
      "\n",
      "\n"
     ]
    }
   ],
   "source": [
    "univ_dfs <- list()\n",
    "cts_dfs <- list()\n",
    "en_cph_dfs <- list()\n",
    "for (dset_idx in 1:3) {\n",
    "    univ_dfs[[projects[dset_idx]]] <- read_tsv(paste0(dirs$analysis_dir, \"/feature_selection/\", unified_dsets[dset_idx], \"_univ_survival_results.tsv\")) %>%\n",
    "        filter(geneID %in% demg_lists[[projects[dset_idx]]]) %>%\n",
    "        filter(km_qval < q_thresh | cph_qval < q_thresh)\n",
    "    \n",
    "    cts_dfs[[projects[dset_idx]]] <- read_tsv(paste0(dirs$analysis_dir, \"/feature_selection/\", unified_dsets[dset_idx], \"_survival_cts_results.tsv\")) %>%\n",
    "        filter(geneID %in% demg_lists[[projects[dset_idx]]]) %>%\n",
    "        filter(vital_qval < q_thresh)\n",
    "\n",
    "    en_cph_dfs[[projects[dset_idx]]] <- read_tsv(paste0(dirs$analysis_dir, \"/feature_selection/\", unified_dsets[dset_idx], \"_en_cph_results.tsv\")) %>%\n",
    "#         filter(geneID %in% survival_umsmg_lists[[projects[dset_idx]]]) %>%\n",
    "        filter(geneID %in% demg_lists[[projects[dset_idx]]])\n",
    "}"
   ]
  },
  {
   "cell_type": "code",
   "execution_count": 7,
   "id": "canadian-defendant",
   "metadata": {},
   "outputs": [],
   "source": [
    "univ_gene_list <- purrr::map(univ_dfs, \"geneID\") %>% unlist()\n",
    "cts_gene_list <- purrr::map(cts_dfs, \"geneID\") %>% unlist()\n",
    "en_cph_gene_list <- purrr::map(en_cph_dfs, \"geneID\") %>% unlist()\n",
    "vis_gene_list <- univ_gene_list %>%\n",
    "    union(cts_gene_list) %>%\n",
    "    union(en_cph_gene_list)"
   ]
  },
  {
   "cell_type": "code",
   "execution_count": 8,
   "id": "reliable-apparel",
   "metadata": {},
   "outputs": [
    {
     "data": {
      "text/html": [
       "76"
      ],
      "text/latex": [
       "76"
      ],
      "text/markdown": [
       "76"
      ],
      "text/plain": [
       "[1] 76"
      ]
     },
     "metadata": {},
     "output_type": "display_data"
    }
   ],
   "source": [
    "length(vis_gene_list)"
   ]
  },
  {
   "cell_type": "markdown",
   "id": "incomplete-hunger",
   "metadata": {},
   "source": [
    "# Prognostic significance"
   ]
  },
  {
   "cell_type": "code",
   "execution_count": 9,
   "id": "unusual-legend",
   "metadata": {},
   "outputs": [],
   "source": [
    "surv_df <- tibble(geneID = vis_gene_list)\n",
    "for (dset_idx in 1:3) {\n",
    "    univ_col <- paste0(projects[dset_idx], \"_univ\")\n",
    "    en_col <- paste0(projects[dset_idx], \"_en\")\n",
    "    surv_df <- surv_df %>%\n",
    "        mutate(\n",
    "            !!as.name(univ_col) := geneID %in% univ_dfs[[projects[dset_idx]]]$geneID | geneID %in% cts_dfs[[projects[dset_idx]]]$geneID,\n",
    "#             !!as.name(univ_col) := geneID %in% univ_dfs[[projects[dset_idx]]]$geneID,\n",
    "            !!as.name(en_col) := geneID %in% en_cph_dfs[[projects[dset_idx]]]$geneID\n",
    "        )\n",
    "}\n",
    "\n",
    "surv_df <- surv_df %>%\n",
    "    mutate(checks = rowSums(.[-1])) %>%\n",
    "    select(geneID, checks, CESC_en, CESC_univ, UCEC_en, UCEC_univ, UCS_en, UCS_univ) %>%\n",
    "    mutate(last_true = max.col(.[,-c(1:2)], \"last\")) %>%\n",
    "    arrange(checks, desc(last_true), desc(geneID)) %>%\n",
    "    mutate(geneID_f = factor(geneID, levels = geneID)) %>%\n",
    "    select(geneID_f, last_true, everything())"
   ]
  },
  {
   "cell_type": "code",
   "execution_count": 10,
   "id": "adolescent-founder",
   "metadata": {},
   "outputs": [],
   "source": [
    "hm_surv_df <- surv_df %>%\n",
    "    pivot_longer(cols = colnames(.[-c(1:4)]), names_to = \"sig_list\") %>%\n",
    "    mutate(value = ifelse(value == TRUE, \"yes\", \"no\"), value = factor(value, levels = c(\"yes\", \"no\")))\n",
    "# head(hm_surv_df)"
   ]
  },
  {
   "cell_type": "code",
   "execution_count": 11,
   "id": "wired-paintball",
   "metadata": {},
   "outputs": [],
   "source": [
    "unique_sig_list <- unique(hm_surv_df$sig_list)\n",
    "analysis_labs <- gsub(\"univ\", \"UV\", gsub(\"en\", \"MV\", gsub(\"_\", \" \", unique_sig_list)))\n",
    "names(analysis_labs) <- unique_sig_list"
   ]
  },
  {
   "cell_type": "code",
   "execution_count": 12,
   "id": "martial-enemy",
   "metadata": {},
   "outputs": [
    {
     "data": {
      "image/png": "[encoded data removed]",
      "text/plain": [
       "plot without title"
      ]
     },
     "metadata": {
      "image/png": {
       "height": 420,
       "width": 420
      }
     },
     "output_type": "display_data"
    }
   ],
   "source": [
    "ggplot(hm_surv_df) +\n",
    "    geom_tile(aes(x = sig_list, y = geneID_f, fill = value), color = \"white\", size = 0.25) +\n",
    "    geom_vline(xintercept = c(2.5, 4.5), color = \"black\", size = 1) +\n",
    "    scale_fill_manual(values = c(\"yes\" = \"black\", \"no\" = \"lightgray\")) +\n",
    "    theme_classic() +\n",
    "    labs(x = NULL, y = NULL, fill = \"Prognistic\") +\n",
    "#     labs(x = \"Analysis method\", y = \"ECM gene\", fill = \"Prognistic\") +\n",
    "    scale_x_discrete(\n",
    "        labels = analysis_labs\n",
    "    ) +\n",
    "    theme(\n",
    "        text = element_text(size = text_size, family = family),\n",
    "        axis.text.x = element_text(angle = 90, vjust = 0.9, hjust = 0.9),\n",
    "#         axis.text.x = element_text(size = text_size, angle = 55, vjust = 0.55, hjust = 0.55),\n",
    "        axis.line = element_blank(),\n",
    "        axis.ticks = element_blank(),\n",
    "#         axis.text.y = element_blank()\n",
    "    )\n",
    "#     guides(fill = guide_legend(override.aes = list(color = \"black\", size = 0.25)))"
   ]
  },
  {
   "cell_type": "code",
   "execution_count": 13,
   "id": "graduate-section",
   "metadata": {},
   "outputs": [],
   "source": [
    "survival_subcat_hm <- last_plot()\n",
    "ggsave(paste0(dirs$figures_dir, \"/gene_lists/prognostic_genes.png\"), survival_subcat_hm, width = wd_1, height = ht, dpi = dpi)"
   ]
  },
  {
   "cell_type": "markdown",
   "id": "outstanding-steal",
   "metadata": {},
   "source": [
    "# Hazard influence"
   ]
  },
  {
   "cell_type": "code",
   "execution_count": 14,
   "id": "preceding-saint",
   "metadata": {},
   "outputs": [],
   "source": [
    "replace_na <- function(x, val = 0) {\n",
    "    x[is.na(x)] <- 0\n",
    "    x\n",
    "}\n",
    "\n",
    "same_or_na <- function(...) {\n",
    "    observed <- unique(c(..., NA))\n",
    "    0 <= length(observed) & length(observed) <= 2\n",
    "}"
   ]
  },
  {
   "cell_type": "markdown",
   "id": "promising-detroit",
   "metadata": {},
   "source": [
    "## Make sure hazard signs agree between univ and en"
   ]
  },
  {
   "cell_type": "code",
   "execution_count": 15,
   "id": "rational-lender",
   "metadata": {},
   "outputs": [],
   "source": [
    "hazard_df <- tibble(geneID = vis_gene_list)\n",
    "\n",
    "for (dset_idx in 1:3) {\n",
    "    univ_col <- paste0(projects[dset_idx], \"_univ\")\n",
    "    cts_col <- paste0(projects[dset_idx], \"_cts\")\n",
    "    en_col <- paste0(projects[dset_idx], \"_en\")\n",
    "    univ_df <- univ_dfs[[projects[dset_idx]]] %>%\n",
    "        dplyr::select(geneID, coeff) %>%\n",
    "        dplyr::rename(!!as.name(univ_col) := coeff)\n",
    "    cts_df <- cts_dfs[[projects[dset_idx]]] %>%\n",
    "        dplyr::select(geneID, hr) %>%\n",
    "        dplyr::rename(!!as.name(cts_col) := hr) %>%\n",
    "        # hazard ratio is the same as exponent of coefficients, log(hr) = beta\n",
    "        dplyr::mutate(!!as.name(cts_col) := log(!!as.name(cts_col)))\n",
    "    en_cph_df <- en_cph_dfs[[projects[dset_idx]]] %>%\n",
    "        dplyr::select(geneID, coeff) %>%\n",
    "        dplyr::rename(!!as.name(en_col) := coeff)\n",
    "    hazard_df <- hazard_df %>%\n",
    "        left_join(univ_df, by = \"geneID\") %>%\n",
    "        left_join(en_cph_df, by = \"geneID\") %>%\n",
    "        left_join(cts_df, by = \"geneID\")\n",
    "}\n",
    "all_same_sign <- all(apply(sign(hazard_df[2:4]), 1, same_or_na))\n",
    "stopifnot(all_same_sign)\n",
    "\n",
    "hazard_df <- hazard_df %>% \n",
    "    dplyr::mutate_at(colnames(.)[-1], replace_na) %>%\n",
    "    dplyr::mutate(\n",
    "        CESC = sign(CESC_univ + CESC_cts + CESC_en),\n",
    "        UCEC = sign(UCEC_univ + UCEC_cts + UCEC_en),\n",
    "        UCS = sign(UCS_univ + UCS_cts + UCS_en)\n",
    "    ) %>%\n",
    "    dplyr::select(geneID, CESC, UCEC, UCS) %>%\n",
    "    dplyr::mutate(first_true = max.col(abs(.[,-1]), \"first\")) %>%\n",
    "    dplyr::mutate(checks = rowSums(abs(.[,2:4]))) %>%\n",
    "    arrange(checks, desc(first_true), desc(geneID)) %>%\n",
    "    dplyr::mutate(geneID_f = factor(geneID, levels = geneID))"
   ]
  },
  {
   "cell_type": "code",
   "execution_count": 16,
   "id": "religious-hands",
   "metadata": {},
   "outputs": [
    {
     "data": {
      "text/html": [
       "76"
      ],
      "text/latex": [
       "76"
      ],
      "text/markdown": [
       "76"
      ],
      "text/plain": [
       "[1] 76"
      ]
     },
     "metadata": {},
     "output_type": "display_data"
    }
   ],
   "source": [
    "nrow(hazard_df)"
   ]
  },
  {
   "cell_type": "markdown",
   "id": "cardiac-flooring",
   "metadata": {},
   "source": [
    "## Prepare for plot"
   ]
  },
  {
   "cell_type": "code",
   "execution_count": 17,
   "id": "above-carrier",
   "metadata": {},
   "outputs": [],
   "source": [
    "hm_hazard_df <- hazard_df %>%\n",
    "    pivot_longer(cols = c(\"CESC\", \"UCEC\", \"UCS\"), names_to = \"sig_list\", values_to = \"hazard_sign\") %>%\n",
    "    dplyr::mutate(hazard_infl = case_when(\n",
    "        hazard_sign == 0 ~ \"not sig.\",\n",
    "        hazard_sign == -1 ~ \"protective\",\n",
    "        hazard_sign == 1 ~ \"harmful\"\n",
    "    ))"
   ]
  },
  {
   "cell_type": "markdown",
   "id": "worthy-bulletin",
   "metadata": {},
   "source": [
    "## Plot"
   ]
  },
  {
   "cell_type": "code",
   "execution_count": 29,
   "id": "prepared-fleece",
   "metadata": {},
   "outputs": [
    {
     "data": {
      "image/png": "[encoded data removed]",
      "text/plain": [
       "plot without title"
      ]
     },
     "metadata": {
      "image/png": {
       "height": 420,
       "width": 420
      }
     },
     "output_type": "display_data"
    }
   ],
   "source": [
    "ggplot(data = hm_hazard_df) +\n",
    "    geom_tile(aes(x = sig_list, y = geneID_f, fill = hazard_infl), color = \"black\", size = 0.25) +\n",
    "#     geom_vline(xintercept = c(1.5, 2.5), color = \"black\", size = 1) +\n",
    "    theme_classic() +\n",
    "    scale_fill_manual(\n",
    "#         values = c(\"protective\" = \"steelblue3\", \"not present\" = \"lightgray\", \"harmful\" = \"firebrick3\"),\n",
    "        values = c(\"protective\" = \"turquoise4\", \"not sig.\" = \"gray85\", \"harmful\" = \"darkorange3\"),\n",
    "        breaks = c(\"protective\", \"harmful\", \"not sig.\")\n",
    "    ) +\n",
    "    theme(\n",
    "        text = element_text(size = text_size, family = family),\n",
    "        axis.text.x = element_text(angle = 90, vjust = 0.9/2, hjust = 0.9),\n",
    "        axis.line = element_blank(),\n",
    "        axis.ticks = element_blank(),\n",
    "#         axis.text.y = element_blank(),\n",
    "    ) +\n",
    "#     labs(y = \"ECM gene\", x = \"Cohort\", fill = \"Hazard influence\")\n",
    "    labs(y = NULL, x = NULL, fill = \"Hazard influence\")"
   ]
  },
  {
   "cell_type": "code",
   "execution_count": 30,
   "id": "supposed-imagination",
   "metadata": {},
   "outputs": [],
   "source": [
    "survival_hm <- last_plot()\n",
    "ggsave(paste0(dirs$figures_dir, \"/gene_lists/prognostic_hazard_genes.png\"), survival_hm, width = wd_2, height = ht, dpi = dpi)"
   ]
  },
  {
   "cell_type": "code",
   "execution_count": 31,
   "id": "unlimited-liberia",
   "metadata": {},
   "outputs": [],
   "source": [
    "save(\n",
    "    list = c(\"survival_hm\", \"survival_subcat_hm\"),\n",
    "    file = paste0(dirs$figures_dir, \"/saved_obj/survival_hms.RData\")\n",
    ")"
   ]
  },
  {
   "cell_type": "code",
   "execution_count": null,
   "id": "filled-carry",
   "metadata": {},
   "outputs": [],
   "source": []
  }
 ],
 "metadata": {
  "kernelspec": {
   "display_name": "R",
   "language": "R",
   "name": "ir"
  },
  "language_info": {
   "codemirror_mode": "r",
   "file_extension": ".r",
   "mimetype": "text/x-r-source",
   "name": "R",
   "pygments_lexer": "r",
   "version": "4.0.3"
  }
 },
 "nbformat": 4,
 "nbformat_minor": 5
}
