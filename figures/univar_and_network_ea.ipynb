{
 "cells": [
  {
   "cell_type": "code",
   "execution_count": 1,
   "id": "reflected-permission",
   "metadata": {},
   "outputs": [
    {
     "name": "stderr",
     "output_type": "stream",
     "text": [
      "-- \u001b[1mAttaching packages\u001b[22m ------------------------------------------------------------------------------- tidyverse 1.3.0 --\n",
      "\n",
      "\u001b[32mv\u001b[39m \u001b[34mggplot2\u001b[39m 3.3.3     \u001b[32mv\u001b[39m \u001b[34mpurrr  \u001b[39m 0.3.4\n",
      "\u001b[32mv\u001b[39m \u001b[34mtibble \u001b[39m 3.0.6     \u001b[32mv\u001b[39m \u001b[34mdplyr  \u001b[39m 1.0.4\n",
      "\u001b[32mv\u001b[39m \u001b[34mtidyr  \u001b[39m 1.1.2     \u001b[32mv\u001b[39m \u001b[34mstringr\u001b[39m 1.4.0\n",
      "\u001b[32mv\u001b[39m \u001b[34mreadr  \u001b[39m 1.4.0     \u001b[32mv\u001b[39m \u001b[34mforcats\u001b[39m 0.5.1\n",
      "\n",
      "-- \u001b[1mConflicts\u001b[22m ---------------------------------------------------------------------------------- tidyverse_conflicts() --\n",
      "\u001b[31mx\u001b[39m \u001b[34mdplyr\u001b[39m::\u001b[32mfilter()\u001b[39m masks \u001b[34mstats\u001b[39m::filter()\n",
      "\u001b[31mx\u001b[39m \u001b[34mdplyr\u001b[39m::\u001b[32mlag()\u001b[39m    masks \u001b[34mstats\u001b[39m::lag()\n",
      "\n",
      "\n",
      "\n",
      "DOSE v3.16.0  For help: https://guangchuangyu.github.io/software/DOSE\n",
      "\n",
      "If you use DOSE in published research, please cite:\n",
      "Guangchuang Yu, Li-Gen Wang, Guang-Rong Yan, Qing-Yu He. DOSE: an R/Bioconductor package for Disease Ontology Semantic and Enrichment analysis. Bioinformatics 2015, 31(4):608-609\n",
      "\n",
      "\n"
     ]
    }
   ],
   "source": [
    "library(tidyverse)\n",
    "library(enrichplot)\n",
    "library(DOSE)\n",
    "\n",
    "# Custom package\n",
    "library(rutils)"
   ]
  },
  {
   "cell_type": "code",
   "execution_count": 2,
   "id": "possible-exclusive",
   "metadata": {},
   "outputs": [],
   "source": [
    "dirs <- rutils::get_dev_directories(dev_paths_file = \"../dev_paths.txt\")\n",
    "projects <- c(\"CESC\", \"UCS\", \"UCEC\")\n",
    "unified_dsets <- c(\"unified_cervical_data\", \"unified_uterine_data\", \"unified_uterine_endometrial_data\")"
   ]
  },
  {
   "cell_type": "code",
   "execution_count": 3,
   "id": "primary-context",
   "metadata": {},
   "outputs": [],
   "source": [
    "dset_idx <- 1"
   ]
  },
  {
   "cell_type": "code",
   "execution_count": 21,
   "id": "pediatric-machinery",
   "metadata": {},
   "outputs": [],
   "source": [
    "text_size <- 8\n",
    "guide_size <- 1\n",
    "family <- \"ArialMT\"\n",
    "dpi <- 320\n",
    "ht <- 6\n",
    "wd <- 6\n",
    "\n",
    "top_n <- 10"
   ]
  },
  {
   "cell_type": "code",
   "execution_count": 5,
   "id": "earned-brooklyn",
   "metadata": {},
   "outputs": [],
   "source": [
    "lnames <- load(paste0(dirs$analysis_dir, \"/enrichment/\", unified_dsets[dset_idx], \"_granular_enrichment_results.RData\"))"
   ]
  },
  {
   "cell_type": "code",
   "execution_count": 6,
   "id": "southeast-geneva",
   "metadata": {},
   "outputs": [
    {
     "data": {
      "text/html": [
       "<style>\n",
       ".list-inline {list-style: none; margin:0; padding: 0}\n",
       ".list-inline>li {display: inline-block}\n",
       ".list-inline>li:not(:last-child)::after {content: \"\\00b7\"; padding: 0 .5ex}\n",
       "</style>\n",
       "<ol class=list-inline><li>'figo_umsmg_demg_go'</li><li>'figo_nsmg_demg_go'</li></ol>\n"
      ],
      "text/latex": [
       "\\begin{enumerate*}\n",
       "\\item 'figo\\_umsmg\\_demg\\_go'\n",
       "\\item 'figo\\_nsmg\\_demg\\_go'\n",
       "\\end{enumerate*}\n"
      ],
      "text/markdown": [
       "1. 'figo_umsmg_demg_go'\n",
       "2. 'figo_nsmg_demg_go'\n",
       "\n",
       "\n"
      ],
      "text/plain": [
       "[1] \"figo_umsmg_demg_go\" \"figo_nsmg_demg_go\" "
      ]
     },
     "metadata": {},
     "output_type": "display_data"
    }
   ],
   "source": [
    "lnames"
   ]
  },
  {
   "cell_type": "code",
   "execution_count": 123,
   "id": "foreign-former",
   "metadata": {},
   "outputs": [
    {
     "data": {
      "text/plain": [
       "#\n",
       "# over-representation test\n",
       "#\n",
       "#...@organism \t Homo sapiens \n",
       "#...@ontology \t GOALL \n",
       "#...@keytype \t ENTREZID \n",
       "#...@gene \t chr [1:153] \"5617\" \"6367\" \"10218\" \"6286\" \"220001\" \"3456\" \"10563\" \"25975\" ...\n",
       "#...pvalues adjusted by 'BH' with cutoff <0.05 \n",
       "#...10 enriched terms found\n",
       "'data.frame':\t10 obs. of  10 variables:\n",
       " $ ONTOLOGY   : chr  \"BP\" \"BP\" \"BP\" \"BP\" ...\n",
       " $ ID         : chr  \"GO:0030198\" \"GO:0043062\" \"GO:0022617\" \"GO:0030574\" ...\n",
       " $ Description: chr  \"extracellular matrix organization\" \"extracellular structure organization\" \"extracellular matrix disassembly\" \"collagen catabolic process\" ...\n",
       " $ GeneRatio  : chr  \"35/147\" \"35/147\" \"10/147\" \"8/147\" ...\n",
       " $ BgRatio    : chr  \"395/18866\" \"396/18866\" \"82/18866\" \"47/18866\" ...\n",
       " $ pvalue     : num  3.85e-27 4.19e-27 8.03e-10 2.73e-09 6.59e-09 ...\n",
       " $ p.adjust   : num  4.68e-24 4.68e-24 5.98e-07 1.52e-06 2.94e-06 ...\n",
       " $ qvalue     : num  3.45e-24 3.45e-24 4.40e-07 1.12e-06 2.17e-06 ...\n",
       " $ geneID     : chr  \"ANGPTL7/EGFL6/TLL2/VIT/MATN4/MMP9/MMP25/ADAM8/MMP27/LOXL3/NTNG1/HSPG2/MATN1/CCN2/MMP17/COL24A1/ADAMTS6/COL14A1/\"| __truncated__ \"ANGPTL7/EGFL6/TLL2/VIT/MATN4/MMP9/MMP25/ADAM8/MMP27/LOXL3/NTNG1/HSPG2/MATN1/CCN2/MMP17/COL24A1/ADAMTS6/COL14A1/\"| __truncated__ \"TLL2/MMP9/ADAM8/ELANE/TLL1/MMP10/MMP13/MMP7/MMP8/PRSS1\" \"MMP9/MMP25/MMP27/MMP17/MMP10/MMP13/MMP7/MMP8\" ...\n",
       " $ Count      : int  35 35 10 8 18 17 10 18 9 9\n",
       "#...Citation\n",
       "  Guangchuang Yu, Li-Gen Wang, Yanyan Han and Qing-Yu He.\n",
       "  clusterProfiler: an R package for comparing biological themes among\n",
       "  gene clusters. OMICS: A Journal of Integrative Biology\n",
       "  2012, 16(5):284-287 \n"
      ]
     },
     "metadata": {},
     "output_type": "display_data"
    }
   ],
   "source": [
    "figo_umsmg_demg_go"
   ]
  },
  {
   "cell_type": "code",
   "execution_count": 124,
   "id": "stock-motor",
   "metadata": {},
   "outputs": [],
   "source": [
    "# figo_umsmg_demg_go@result <- figo_umsmg_demg_go@result[1:10,]"
   ]
  },
  {
   "cell_type": "code",
   "execution_count": 254,
   "id": "polyphonic-graphic",
   "metadata": {},
   "outputs": [
    {
     "name": "stderr",
     "output_type": "stream",
     "text": [
      "Warning message:\n",
      "\"Ignoring unknown parameters: bg.colour\"\n"
     ]
    }
   ],
   "source": [
    "umsmg_edox <- setReadable(figo_umsmg_demg_go, \"org.Hs.eg.db\", \"ENTREZID\")\n",
    "# set.seed(1)\n",
    "umsmg_p <- cnetplot(umsmg_edox, node_label=\"category\", cex_label_category = 0.5, circular = FALSE, showCategory = 3, layout = \"lgl\") +\n",
    "#     theme(text=element_text(size = 2, face = \"bold\")) +\n",
    "    theme(legend.position=\"none\")"
   ]
  },
  {
   "cell_type": "code",
   "execution_count": 255,
   "id": "ultimate-playing",
   "metadata": {},
   "outputs": [],
   "source": [
    "ggsave(paste0(dirs$figures_dir, \"/enrichment/\", unified_dsets[dset_idx], \"_granular_umsmg_ea.png\"), umsmg_p, height = 2, width = 2, dpi = dpi)"
   ]
  },
  {
   "cell_type": "code",
   "execution_count": 261,
   "id": "banner-grill",
   "metadata": {},
   "outputs": [
    {
     "name": "stderr",
     "output_type": "stream",
     "text": [
      "Warning message:\n",
      "\"Ignoring unknown parameters: bg.colour\"\n"
     ]
    }
   ],
   "source": [
    "nsmg_edox_1 <- setReadable(figo_nsmg_demg_go[[1]], \"org.Hs.eg.db\", \"ENTREZID\")\n",
    "nsmg_p1 <- cnetplot(nsmg_edox_1, node_label=\"category\", cex_label_category = 0.5, circular = FALSE, showCategory = 3, layout = \"lgl\") +\n",
    "#     theme(text=element_text(size = 2, face = \"bold\")) +\n",
    "    theme(legend.position=\"none\")"
   ]
  },
  {
   "cell_type": "code",
   "execution_count": 262,
   "id": "clean-costa",
   "metadata": {},
   "outputs": [],
   "source": [
    "ggsave(paste0(dirs$figures_dir, \"/enrichment/\", unified_dsets[dset_idx], \"_granular_nsmg_1_ea.png\"), nsmg_p1, height = 2, width = 2, dpi = dpi)"
   ]
  },
  {
   "cell_type": "code",
   "execution_count": 284,
   "id": "comfortable-contrary",
   "metadata": {},
   "outputs": [
    {
     "name": "stderr",
     "output_type": "stream",
     "text": [
      "Warning message:\n",
      "\"Ignoring unknown parameters: bg.colour\"\n"
     ]
    }
   ],
   "source": [
    "nsmg_edox_2 <- setReadable(figo_nsmg_demg_go[[2]], \"org.Hs.eg.db\", \"ENTREZID\")\n",
    "nsmg_p2 <- cnetplot(nsmg_edox_2, node_label=\"category\", cex_label_category = 0.5, circular = FALSE, showCategory = 3, layout = \"lgl\") +\n",
    "#     theme(text=element_text(size = 2, face = \"bold\")) +\n",
    "    theme(legend.position=\"none\")"
   ]
  },
  {
   "cell_type": "code",
   "execution_count": 285,
   "id": "romance-coating",
   "metadata": {},
   "outputs": [],
   "source": [
    "ggsave(paste0(dirs$figures_dir, \"/enrichment/\", unified_dsets[dset_idx], \"_granular_nsmg_2_ea.png\"), nsmg_p2, height = 2, width = 2, dpi = dpi)"
   ]
  },
  {
   "cell_type": "code",
   "execution_count": 286,
   "id": "configured-divorce",
   "metadata": {},
   "outputs": [
    {
     "name": "stderr",
     "output_type": "stream",
     "text": [
      "Warning message:\n",
      "\"Ignoring unknown parameters: bg.colour\"\n"
     ]
    }
   ],
   "source": [
    "nsmg_edox_3 <- setReadable(figo_nsmg_demg_go[[3]], \"org.Hs.eg.db\", \"ENTREZID\")\n",
    "nsmg_p3 <- cnetplot(nsmg_edox_3, node_label=\"category\", cex_label_category = 0.5, circular = FALSE, showCategory = 3, layout = \"lgl\") +\n",
    "#     theme(text=element_text(size = 2, face = \"bold\")) +\n",
    "    theme(legend.position=\"none\")"
   ]
  },
  {
   "cell_type": "code",
   "execution_count": 287,
   "id": "third-tanzania",
   "metadata": {},
   "outputs": [],
   "source": [
    "ggsave(paste0(dirs$figures_dir, \"/enrichment/\", unified_dsets[dset_idx], \"_granular_nsmg_3_ea.png\"), nsmg_p3, height = 2, width = 2, dpi = dpi)"
   ]
  },
  {
   "cell_type": "code",
   "execution_count": 291,
   "id": "pursuant-beads",
   "metadata": {},
   "outputs": [],
   "source": [
    "assign(paste0(projects[dset_idx], \"_umsmg_ea_plot\"), umsmg_p)\n",
    "assign(paste0(projects[dset_idx], \"_nsmg_1_ea_plot\"), nsmg_p1)\n",
    "assign(paste0(projects[dset_idx], \"_nsmg_2_ea_plot\"), nsmg_p2)\n",
    "assign(paste0(projects[dset_idx], \"_nsmg_3_ea_plot\"), nsmg_p3)\n",
    "save(\n",
    "    list = c(\n",
    "        paste0(projects[dset_idx], \"_umsmg_ea_plot\"),\n",
    "        paste0(projects[dset_idx], \"_nsmg_1_ea_plot\"),\n",
    "        paste0(projects[dset_idx], \"_nsmg_2_ea_plot\"),\n",
    "        paste0(projects[dset_idx], \"_nsmg_3_ea_plot\")\n",
    "    ),\n",
    "    file = paste0(dirs$figures_dir, \"/saved_obj/\", unified_dsets[dset_idx], \"_granular_ea_plots.RData\")\n",
    ")"
   ]
  },
  {
   "cell_type": "code",
   "execution_count": null,
   "id": "parental-prior",
   "metadata": {},
   "outputs": [],
   "source": []
  }
 ],
 "metadata": {
  "kernelspec": {
   "display_name": "R",
   "language": "R",
   "name": "ir"
  },
  "language_info": {
   "codemirror_mode": "r",
   "file_extension": ".r",
   "mimetype": "text/x-r-source",
   "name": "R",
   "pygments_lexer": "r",
   "version": "4.0.3"
  }
 },
 "nbformat": 4,
 "nbformat_minor": 5
}
