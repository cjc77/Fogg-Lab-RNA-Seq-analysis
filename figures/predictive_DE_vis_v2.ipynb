{
 "cells": [
  {
   "cell_type": "code",
   "execution_count": 1,
   "id": "electronic-domain",
   "metadata": {},
   "outputs": [
    {
     "name": "stderr",
     "output_type": "stream",
     "text": [
      "-- \u001b[1mAttaching packages\u001b[22m -------------------------------------------------------------------------------------------------------------- tidyverse 1.3.0 --\n",
      "\n",
      "\u001b[32mv\u001b[39m \u001b[34mggplot2\u001b[39m 3.3.3     \u001b[32mv\u001b[39m \u001b[34mpurrr  \u001b[39m 0.3.4\n",
      "\u001b[32mv\u001b[39m \u001b[34mtibble \u001b[39m 3.0.6     \u001b[32mv\u001b[39m \u001b[34mdplyr  \u001b[39m 1.0.4\n",
      "\u001b[32mv\u001b[39m \u001b[34mtidyr  \u001b[39m 1.1.2     \u001b[32mv\u001b[39m \u001b[34mstringr\u001b[39m 1.4.0\n",
      "\u001b[32mv\u001b[39m \u001b[34mreadr  \u001b[39m 1.4.0     \u001b[32mv\u001b[39m \u001b[34mforcats\u001b[39m 0.5.1\n",
      "\n",
      "-- \u001b[1mConflicts\u001b[22m ----------------------------------------------------------------------------------------------------------------- tidyverse_conflicts() --\n",
      "\u001b[31mx\u001b[39m \u001b[34mdplyr\u001b[39m::\u001b[32mfilter()\u001b[39m masks \u001b[34mstats\u001b[39m::filter()\n",
      "\u001b[31mx\u001b[39m \u001b[34mdplyr\u001b[39m::\u001b[32mlag()\u001b[39m    masks \u001b[34mstats\u001b[39m::lag()\n",
      "\n"
     ]
    }
   ],
   "source": [
    "library(tidyverse)\n",
    "\n",
    "# Custom package\n",
    "library(rutils)"
   ]
  },
  {
   "cell_type": "code",
   "execution_count": 2,
   "id": "superb-zealand",
   "metadata": {},
   "outputs": [],
   "source": [
    "dirs <- rutils::get_dev_directories(dev_paths_file = \"../dev_paths.txt\")\n",
    "project <- c(\"CESC\", \"UCS\", \"UCEC\")\n",
    "unified_dsets <- c(\"unified_cervical_data\", \"unified_uterine_data\", \"unified_uterine_endometrial_data\")\n",
    "matrisome_list <- paste0(dirs$data_dir, \"/matrisome/matrisome_hs_masterlist.tsv\")"
   ]
  },
  {
   "cell_type": "code",
   "execution_count": 3,
   "id": "first-screening",
   "metadata": {},
   "outputs": [],
   "source": [
    "dset_idx <- 3"
   ]
  },
  {
   "cell_type": "code",
   "execution_count": 4,
   "id": "basic-benjamin",
   "metadata": {},
   "outputs": [],
   "source": [
    "text_size <- 8\n",
    "# guide_size <- 4\n",
    "guide_size <- 1\n",
    "family <- \"ArialMT\"\n",
    "dpi <- 320\n",
    "ht <- 4\n",
    "wd <- 5\n",
    "pt_to_mm <- 5 / 14"
   ]
  },
  {
   "cell_type": "code",
   "execution_count": 5,
   "id": "dressed-membership",
   "metadata": {},
   "outputs": [
    {
     "name": "stderr",
     "output_type": "stream",
     "text": [
      "\n",
      "\u001b[36m--\u001b[39m \u001b[1m\u001b[1mColumn specification\u001b[1m\u001b[22m \u001b[36m-------------------------------------------------------------------------------------------------------------------------------\u001b[39m\n",
      "cols(\n",
      "  Division = \u001b[31mcol_character()\u001b[39m,\n",
      "  Category = \u001b[31mcol_character()\u001b[39m,\n",
      "  `Gene Symbol` = \u001b[31mcol_character()\u001b[39m,\n",
      "  `Gene Name` = \u001b[31mcol_character()\u001b[39m,\n",
      "  Synonyms = \u001b[31mcol_character()\u001b[39m,\n",
      "  HGNC_IDs = \u001b[32mcol_double()\u001b[39m,\n",
      "  `HGNC_IDs Links` = \u001b[32mcol_double()\u001b[39m,\n",
      "  UniProt_IDs = \u001b[31mcol_character()\u001b[39m,\n",
      "  Refseq_IDs = \u001b[31mcol_character()\u001b[39m,\n",
      "  Orthology = \u001b[31mcol_character()\u001b[39m,\n",
      "  Notes = \u001b[31mcol_character()\u001b[39m\n",
      ")\n",
      "\n",
      "\n",
      "\n",
      "\u001b[36m--\u001b[39m \u001b[1m\u001b[1mColumn specification\u001b[1m\u001b[22m \u001b[36m-------------------------------------------------------------------------------------------------------------------------------\u001b[39m\n",
      "cols(\n",
      "  .default = col_double(),\n",
      "  Hugo_Symbol = \u001b[31mcol_character()\u001b[39m\n",
      ")\n",
      "\u001b[36mi\u001b[39m Use \u001b[30m\u001b[47m\u001b[30m\u001b[47m`spec()`\u001b[47m\u001b[30m\u001b[49m\u001b[39m for the full column specifications.\n",
      "\n",
      "\n"
     ]
    }
   ],
   "source": [
    "matrisome_df <- rutils::load_matrisome_df(matrisome_list) %>%\n",
    "    dplyr::select(gene_symbol, division, category) %>%\n",
    "    dplyr::rename(geneID = gene_symbol)\n",
    "\n",
    "counts_df <- read_tsv(paste0(dirs$data_dir, \"/\", unified_dsets[dset_idx], \"/counts.tsv\")) %>%\n",
    "    dplyr::rename(\"geneID\" = \"Hugo_Symbol\") %>%\n",
    "    dplyr::select(-\"Entrez_Gene_Id\")"
   ]
  },
  {
   "cell_type": "code",
   "execution_count": 6,
   "id": "explicit-custom",
   "metadata": {},
   "outputs": [],
   "source": [
    "demg_list <- read_lines(paste0(dirs$analysis_dir, \"/gene_lists/\", unified_dsets[dset_idx], \"_demg_list.txt\"))\n",
    "figo_umsmg_list <- read_lines(paste0(dirs$analysis_dir, \"/gene_lists/\", unified_dsets[dset_idx], \"_figo_umsmg_list.txt\"))\n",
    "figo_nsmg_list <- read_lines(paste0(dirs$analysis_dir, \"/gene_lists/\", unified_dsets[dset_idx], \"_figo_nsmg_list.txt\"))\n",
    "figo_list <- figo_umsmg_list %>%\n",
    "    union(figo_nsmg_list)"
   ]
  },
  {
   "cell_type": "code",
   "execution_count": 7,
   "id": "surface-advocacy",
   "metadata": {},
   "outputs": [
    {
     "data": {
      "text/html": [
       "618"
      ],
      "text/latex": [
       "618"
      ],
      "text/markdown": [
       "618"
      ],
      "text/plain": [
       "[1] 618"
      ]
     },
     "metadata": {},
     "output_type": "display_data"
    },
    {
     "data": {
      "text/html": [
       "33"
      ],
      "text/latex": [
       "33"
      ],
      "text/markdown": [
       "33"
      ],
      "text/plain": [
       "[1] 33"
      ]
     },
     "metadata": {},
     "output_type": "display_data"
    },
    {
     "data": {
      "text/html": [
       "71"
      ],
      "text/latex": [
       "71"
      ],
      "text/markdown": [
       "71"
      ],
      "text/plain": [
       "[1] 71"
      ]
     },
     "metadata": {},
     "output_type": "display_data"
    },
    {
     "data": {
      "text/html": [
       "100"
      ],
      "text/latex": [
       "100"
      ],
      "text/markdown": [
       "100"
      ],
      "text/plain": [
       "[1] 100"
      ]
     },
     "metadata": {},
     "output_type": "display_data"
    },
    {
     "data": {
      "text/html": [
       "65"
      ],
      "text/latex": [
       "65"
      ],
      "text/markdown": [
       "65"
      ],
      "text/plain": [
       "[1] 65"
      ]
     },
     "metadata": {},
     "output_type": "display_data"
    }
   ],
   "source": [
    "length(demg_list)\n",
    "length(figo_umsmg_list)\n",
    "length(figo_nsmg_list)\n",
    "length(figo_list)\n",
    "length(intersect(figo_list, demg_list))"
   ]
  },
  {
   "cell_type": "code",
   "execution_count": 8,
   "id": "affecting-humanity",
   "metadata": {},
   "outputs": [],
   "source": [
    "matrisome_category_levels <- c(\"Proteoglycans\", \"Collagens\", \"ECM-affiliated Proteins\", \"ECM Glycoproteins\", \"ECM Regulators\", \"Secreted Factors\")\n",
    "genes_in_dset <- counts_df$geneID\n",
    "matrisome_mem_df <- matrisome_df %>%\n",
    "    filter(geneID %in% genes_in_dset) %>%\n",
    "    dplyr::mutate(\n",
    "        de = geneID %in% demg_list,\n",
    "        predictive = geneID %in% figo_list,\n",
    "        both = de & predictive\n",
    "    ) %>%\n",
    "    dplyr::mutate(membership = case_when(\n",
    "        de & !both ~ \"DE only\",\n",
    "        predictive & !both ~ \"FIGO sig. only\",\n",
    "        both == TRUE ~ \"FIGO sig. and DE\",\n",
    "        !de & !predictive ~ \"Neither\"),\n",
    "        category = factor(category, levels = matrisome_category_levels)\n",
    "    ) %>%\n",
    "    dplyr::mutate(membership = factor(membership, levels = c(\"FIGO sig. only\", \"FIGO sig. and DE\", \"DE only\", \"Neither\")))"
   ]
  },
  {
   "cell_type": "code",
   "execution_count": 9,
   "id": "underlying-method",
   "metadata": {},
   "outputs": [
    {
     "name": "stderr",
     "output_type": "stream",
     "text": [
      "`summarise()` has grouped output by 'category'. You can override using the `.groups` argument.\n",
      "\n"
     ]
    }
   ],
   "source": [
    "matrisome_bp_df <- matrisome_mem_df %>%\n",
    "    group_by(category, membership) %>%\n",
    "    summarize(cat_counts = n())"
   ]
  },
  {
   "cell_type": "code",
   "execution_count": 10,
   "id": "prime-jackson",
   "metadata": {},
   "outputs": [
    {
     "data": {
      "text/html": [
       "<table class=\"dataframe\">\n",
       "<caption>A grouped_df: 6 × 3</caption>\n",
       "<thead>\n",
       "\t<tr><th scope=col>category</th><th scope=col>membership</th><th scope=col>cat_counts</th></tr>\n",
       "\t<tr><th scope=col>&lt;fct&gt;</th><th scope=col>&lt;fct&gt;</th><th scope=col>&lt;int&gt;</th></tr>\n",
       "</thead>\n",
       "<tbody>\n",
       "\t<tr><td>Proteoglycans</td><td>FIGO sig. only  </td><td> 2</td></tr>\n",
       "\t<tr><td>Proteoglycans</td><td>DE only         </td><td>24</td></tr>\n",
       "\t<tr><td>Proteoglycans</td><td>Neither         </td><td> 9</td></tr>\n",
       "\t<tr><td>Collagens    </td><td>FIGO sig. only  </td><td> 3</td></tr>\n",
       "\t<tr><td>Collagens    </td><td>FIGO sig. and DE</td><td> 4</td></tr>\n",
       "\t<tr><td>Collagens    </td><td>DE only         </td><td>25</td></tr>\n",
       "</tbody>\n",
       "</table>\n"
      ],
      "text/latex": [
       "A grouped\\_df: 6 × 3\n",
       "\\begin{tabular}{lll}\n",
       " category & membership & cat\\_counts\\\\\n",
       " <fct> & <fct> & <int>\\\\\n",
       "\\hline\n",
       "\t Proteoglycans & FIGO sig. only   &  2\\\\\n",
       "\t Proteoglycans & DE only          & 24\\\\\n",
       "\t Proteoglycans & Neither          &  9\\\\\n",
       "\t Collagens     & FIGO sig. only   &  3\\\\\n",
       "\t Collagens     & FIGO sig. and DE &  4\\\\\n",
       "\t Collagens     & DE only          & 25\\\\\n",
       "\\end{tabular}\n"
      ],
      "text/markdown": [
       "\n",
       "A grouped_df: 6 × 3\n",
       "\n",
       "| category &lt;fct&gt; | membership &lt;fct&gt; | cat_counts &lt;int&gt; |\n",
       "|---|---|---|\n",
       "| Proteoglycans | FIGO sig. only   |  2 |\n",
       "| Proteoglycans | DE only          | 24 |\n",
       "| Proteoglycans | Neither          |  9 |\n",
       "| Collagens     | FIGO sig. only   |  3 |\n",
       "| Collagens     | FIGO sig. and DE |  4 |\n",
       "| Collagens     | DE only          | 25 |\n",
       "\n"
      ],
      "text/plain": [
       "  category      membership       cat_counts\n",
       "1 Proteoglycans FIGO sig. only    2        \n",
       "2 Proteoglycans DE only          24        \n",
       "3 Proteoglycans Neither           9        \n",
       "4 Collagens     FIGO sig. only    3        \n",
       "5 Collagens     FIGO sig. and DE  4        \n",
       "6 Collagens     DE only          25        "
      ]
     },
     "metadata": {},
     "output_type": "display_data"
    }
   ],
   "source": [
    "head(matrisome_bp_df)"
   ]
  },
  {
   "cell_type": "code",
   "execution_count": 11,
   "id": "minimal-shopping",
   "metadata": {},
   "outputs": [
    {
     "data": {
      "text/html": [
       "1008"
      ],
      "text/latex": [
       "1008"
      ],
      "text/markdown": [
       "1008"
      ],
      "text/plain": [
       "[1] 1008"
      ]
     },
     "metadata": {},
     "output_type": "display_data"
    }
   ],
   "source": [
    "sum(matrisome_bp_df$cat_counts)"
   ]
  },
  {
   "cell_type": "code",
   "execution_count": 12,
   "id": "precious-fisher",
   "metadata": {},
   "outputs": [
    {
     "data": {
      "image/png": "[encoded data removed]",
      "text/plain": [
       "plot without title"
      ]
     },
     "metadata": {
      "image/png": {
       "height": 420,
       "width": 420
      }
     },
     "output_type": "display_data"
    }
   ],
   "source": [
    "# sig_color_scale <- c(\"Not sig.\" = \"gray30\",\"FIGO sig. only\" = \"steelblue3\", \"FIGO sig. and DE\" = \"darkorchid4\", \"DE only\" = \"firebrick3\")\n",
    "sig_color_scale <- c(\"Neither\" = \"gray75\",\"FIGO sig. only\" = \"royalblue3\", \"FIGO sig. and DE\" = \"springgreen4\", \"DE only\" = \"orange3\")\n",
    "ggplot(data = matrisome_bp_df, aes(x = category, y = cat_counts, fill = membership)) +\n",
    "    geom_bar(stat = \"identity\", alpha = 0.7) +\n",
    "#     geom_text(aes(label = cat_counts), position = position_stack(vjust = 0.5), color = \"gray90\", size = (text_size - 3) * pt_to_mm) +\n",
    "    stat_summary(fun = sum, aes(label = ..y.., group = category), geom = \"text\", vjust = -0.25, size = (text_size - 3) * pt_to_mm) +\n",
    "    scale_fill_manual(values = sig_color_scale, name = NULL) +\n",
    "    guides(fill = guide_legend(override.aes = list(size = guide_size))) +\n",
    "    theme_bw() +\n",
    "    theme(\n",
    "        text = element_text(size = text_size, family = family),\n",
    "        axis.ticks.x = element_blank(),\n",
    "        axis.text.x = element_text(angle = 90, vjust = 0.9, hjust = 0.9),\n",
    "        axis.title.x = element_blank()\n",
    "    ) +\n",
    "    labs(y = \"Matrisome gene count\")"
   ]
  },
  {
   "cell_type": "code",
   "execution_count": 13,
   "id": "unlikely-gospel",
   "metadata": {},
   "outputs": [],
   "source": [
    "ggsave(paste0(dirs$figures_dir, \"/deg/\", unified_dsets[dset_idx], \"_figo_sig_demg_stacked_bp.png\"), last_plot(), height = ht, width = wd, dpi = dpi)"
   ]
  },
  {
   "cell_type": "code",
   "execution_count": 14,
   "id": "convinced-estimate",
   "metadata": {},
   "outputs": [],
   "source": [
    "category_bplot <- last_plot()"
   ]
  },
  {
   "cell_type": "code",
   "execution_count": 15,
   "id": "promising-partnership",
   "metadata": {},
   "outputs": [],
   "source": [
    "assign(paste0(project[dset_idx], \"_mat_sig_bplot\"), category_bplot)\n",
    "save(\n",
    "    list = c(paste0(project[dset_idx], \"_mat_sig_bplot\")),\n",
    "    file = paste0(dirs$figures_dir, \"/saved_obj/\", unified_dsets[dset_idx], \"_mat_sig_bplots.RData\")\n",
    ")"
   ]
  },
  {
   "cell_type": "code",
   "execution_count": null,
   "id": "legal-designer",
   "metadata": {},
   "outputs": [],
   "source": []
  }
 ],
 "metadata": {
  "kernelspec": {
   "display_name": "R",
   "language": "R",
   "name": "ir"
  },
  "language_info": {
   "codemirror_mode": "r",
   "file_extension": ".r",
   "mimetype": "text/x-r-source",
   "name": "R",
   "pygments_lexer": "r",
   "version": "4.0.3"
  }
 },
 "nbformat": 4,
 "nbformat_minor": 5
}
