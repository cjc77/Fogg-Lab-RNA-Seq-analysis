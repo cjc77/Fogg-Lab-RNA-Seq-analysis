{
 "cells": [
  {
   "cell_type": "code",
   "execution_count": 1,
   "id": "resistant-screening",
   "metadata": {},
   "outputs": [
    {
     "name": "stderr",
     "output_type": "stream",
     "text": [
      "-- \u001b[1mAttaching packages\u001b[22m --------------------------------------------------------------------------------------------------------- tidyverse 1.3.0 --\n",
      "\n",
      "\u001b[32mv\u001b[39m \u001b[34mggplot2\u001b[39m 3.3.3     \u001b[32mv\u001b[39m \u001b[34mpurrr  \u001b[39m 0.3.4\n",
      "\u001b[32mv\u001b[39m \u001b[34mtibble \u001b[39m 3.0.6     \u001b[32mv\u001b[39m \u001b[34mdplyr  \u001b[39m 1.0.4\n",
      "\u001b[32mv\u001b[39m \u001b[34mtidyr  \u001b[39m 1.1.2     \u001b[32mv\u001b[39m \u001b[34mstringr\u001b[39m 1.4.0\n",
      "\u001b[32mv\u001b[39m \u001b[34mreadr  \u001b[39m 1.4.0     \u001b[32mv\u001b[39m \u001b[34mforcats\u001b[39m 0.5.1\n",
      "\n",
      "-- \u001b[1mConflicts\u001b[22m ------------------------------------------------------------------------------------------------------------ tidyverse_conflicts() --\n",
      "\u001b[31mx\u001b[39m \u001b[34mdplyr\u001b[39m::\u001b[32mfilter()\u001b[39m masks \u001b[34mstats\u001b[39m::filter()\n",
      "\u001b[31mx\u001b[39m \u001b[34mdplyr\u001b[39m::\u001b[32mlag()\u001b[39m    masks \u001b[34mstats\u001b[39m::lag()\n",
      "\n"
     ]
    }
   ],
   "source": [
    "library(tidyverse)\n",
    "\n",
    "# Custom package\n",
    "library(rutils)"
   ]
  },
  {
   "cell_type": "code",
   "execution_count": 2,
   "id": "studied-compact",
   "metadata": {},
   "outputs": [],
   "source": [
    "dirs <- rutils::get_dev_directories(dev_paths_file = \"../dev_paths.txt\")\n",
    "projects <- c(\"TCGA-CESC\", \"TCGA-UCS\", \"TCGA-UCEC\", \"TCGA-OV\")\n",
    "unified_dsets <- c(\"unified_cervical_data\", \"unified_uterine_data\", \"unified_uterine_endometrial_data\")\n",
    "matrisome_list <- paste0(dirs$data_dir, \"/matrisome/matrisome_hs_masterlist.tsv\")"
   ]
  },
  {
   "cell_type": "code",
   "execution_count": 3,
   "id": "empty-halifax",
   "metadata": {},
   "outputs": [],
   "source": [
    "dset_idx <- 3"
   ]
  },
  {
   "cell_type": "code",
   "execution_count": 4,
   "id": "superb-record",
   "metadata": {},
   "outputs": [],
   "source": [
    "text_size <- 11\n",
    "guide_size <- 1\n",
    "family <- \"arial\"\n",
    "dpi <- 320\n",
    "ht <- 4\n",
    "wd <- 5"
   ]
  },
  {
   "cell_type": "code",
   "execution_count": 5,
   "id": "expired-insight",
   "metadata": {},
   "outputs": [
    {
     "name": "stderr",
     "output_type": "stream",
     "text": [
      "\n",
      "\u001b[36m--\u001b[39m \u001b[1m\u001b[1mColumn specification\u001b[1m\u001b[22m \u001b[36m--------------------------------------------------------------------------------------------------------------------------\u001b[39m\n",
      "cols(\n",
      "  Division = \u001b[31mcol_character()\u001b[39m,\n",
      "  Category = \u001b[31mcol_character()\u001b[39m,\n",
      "  `Gene Symbol` = \u001b[31mcol_character()\u001b[39m,\n",
      "  `Gene Name` = \u001b[31mcol_character()\u001b[39m,\n",
      "  Synonyms = \u001b[31mcol_character()\u001b[39m,\n",
      "  HGNC_IDs = \u001b[32mcol_double()\u001b[39m,\n",
      "  `HGNC_IDs Links` = \u001b[32mcol_double()\u001b[39m,\n",
      "  UniProt_IDs = \u001b[31mcol_character()\u001b[39m,\n",
      "  Refseq_IDs = \u001b[31mcol_character()\u001b[39m,\n",
      "  Orthology = \u001b[31mcol_character()\u001b[39m,\n",
      "  Notes = \u001b[31mcol_character()\u001b[39m\n",
      ")\n",
      "\n",
      "\n"
     ]
    }
   ],
   "source": [
    "matrisome_df <- rutils::load_matrisome_df(matrisome_list) %>%\n",
    "    dplyr::select(gene_symbol, division, category) %>%\n",
    "    dplyr::rename(geneID = gene_symbol)"
   ]
  },
  {
   "cell_type": "code",
   "execution_count": 6,
   "id": "steady-stopping",
   "metadata": {},
   "outputs": [],
   "source": [
    "demg_list <- read_lines(paste0(dirs$analysis_dir, \"/gene_lists/\", unified_dsets[dset_idx], \"_demg_list.txt\"))\n",
    "figo_umsmg_list <- read_lines(paste0(dirs$analysis_dir, \"/gene_lists/\", unified_dsets[dset_idx], \"_figo_umsmg_list.txt\"))\n",
    "figo_nsmg_list <- read_lines(paste0(dirs$analysis_dir, \"/gene_lists/\", unified_dsets[dset_idx], \"_figo_nsmg_list.txt\"))\n",
    "figo_list <- figo_umsmg_list %>%\n",
    "    union(figo_nsmg_list)"
   ]
  },
  {
   "cell_type": "code",
   "execution_count": 7,
   "id": "prescribed-trinity",
   "metadata": {},
   "outputs": [
    {
     "data": {
      "text/html": [
       "618"
      ],
      "text/latex": [
       "618"
      ],
      "text/markdown": [
       "618"
      ],
      "text/plain": [
       "[1] 618"
      ]
     },
     "metadata": {},
     "output_type": "display_data"
    },
    {
     "data": {
      "text/html": [
       "33"
      ],
      "text/latex": [
       "33"
      ],
      "text/markdown": [
       "33"
      ],
      "text/plain": [
       "[1] 33"
      ]
     },
     "metadata": {},
     "output_type": "display_data"
    },
    {
     "data": {
      "text/html": [
       "71"
      ],
      "text/latex": [
       "71"
      ],
      "text/markdown": [
       "71"
      ],
      "text/plain": [
       "[1] 71"
      ]
     },
     "metadata": {},
     "output_type": "display_data"
    },
    {
     "data": {
      "text/html": [
       "100"
      ],
      "text/latex": [
       "100"
      ],
      "text/markdown": [
       "100"
      ],
      "text/plain": [
       "[1] 100"
      ]
     },
     "metadata": {},
     "output_type": "display_data"
    },
    {
     "data": {
      "text/html": [
       "65"
      ],
      "text/latex": [
       "65"
      ],
      "text/markdown": [
       "65"
      ],
      "text/plain": [
       "[1] 65"
      ]
     },
     "metadata": {},
     "output_type": "display_data"
    }
   ],
   "source": [
    "length(demg_list)\n",
    "length(figo_umsmg_list)\n",
    "length(figo_nsmg_list)\n",
    "length(figo_list)\n",
    "length(intersect(figo_list, demg_list))"
   ]
  },
  {
   "cell_type": "code",
   "execution_count": 8,
   "id": "deluxe-empire",
   "metadata": {},
   "outputs": [],
   "source": [
    "matrisome_mem_df <- matrisome_df %>%\n",
    "    dplyr::mutate(\n",
    "        de = geneID %in% demg_list,\n",
    "        predictive = geneID %in% figo_list,\n",
    "        both = de & predictive\n",
    "    ) %>%\n",
    "    dplyr::mutate(membership = case_when(\n",
    "        de & !both ~ \"DE only\",\n",
    "        predictive & !both ~ \"FIGO sig. only\",\n",
    "        both == TRUE ~ \"FIGO sig. and DE\",\n",
    "        !de & !predictive ~ \"Neither\"\n",
    "    )) %>%\n",
    "    dplyr::mutate(membership = factor(membership, levels = c(\"FIGO sig. only\", \"FIGO sig. and DE\", \"DE only\", \"Neither\")))"
   ]
  },
  {
   "cell_type": "code",
   "execution_count": 9,
   "id": "gothic-boating",
   "metadata": {},
   "outputs": [
    {
     "name": "stderr",
     "output_type": "stream",
     "text": [
      "`summarise()` has grouped output by 'category'. You can override using the `.groups` argument.\n",
      "\n"
     ]
    }
   ],
   "source": [
    "matrisome_bp_df <- matrisome_mem_df %>%\n",
    "    group_by(category, membership) %>%\n",
    "    summarize(count = n())"
   ]
  },
  {
   "cell_type": "code",
   "execution_count": 10,
   "id": "descending-cancer",
   "metadata": {},
   "outputs": [
    {
     "data": {
      "image/png": "[encoded data removed]",
      "text/plain": [
       "plot without title"
      ]
     },
     "metadata": {
      "image/png": {
       "height": 420,
       "width": 420
      }
     },
     "output_type": "display_data"
    }
   ],
   "source": [
    "ggplot(data = matrisome_bp_df, aes(x = category, y = count, fill = membership)) +\n",
    "    geom_bar(stat = \"identity\") +\n",
    "    scale_fill_manual(values = c(\"FIGO sig. only\" = \"steelblue3\", \"FIGO sig. and DE\" = \"darkorchid4\", \"DE only\" = \"firebrick3\", \"Neither\" = \"gray70\")) +\n",
    "    guides(fill = guide_legend(override.aes = list(size = guide_size))) +\n",
    "    theme_classic() +\n",
    "    theme(\n",
    "        text = element_text(size = text_size, family = family),\n",
    "        axis.title.x = element_blank(),\n",
    "        axis.ticks.x = element_blank(),\n",
    "        axis.text.x = element_text(size = text_size, angle = 55, vjust = 0.55, hjust=0.55),\n",
    "        legend.title = element_blank(),\n",
    "    ) +\n",
    "    labs(y = \"Gene count\", fill = \"Membership\")"
   ]
  },
  {
   "cell_type": "code",
   "execution_count": 11,
   "id": "synthetic-rally",
   "metadata": {},
   "outputs": [],
   "source": [
    "ggsave(paste0(dirs$figures_dir, \"/deg/\", unified_dsets[dset_idx], \"_figo_sig_demg_stacked_bp.png\"), last_plot(), height = ht, width = wd, dpi = dpi)"
   ]
  }
 ],
 "metadata": {
  "kernelspec": {
   "display_name": "R",
   "language": "R",
   "name": "ir"
  },
  "language_info": {
   "codemirror_mode": "r",
   "file_extension": ".r",
   "mimetype": "text/x-r-source",
   "name": "R",
   "pygments_lexer": "r",
   "version": "4.0.3"
  }
 },
 "nbformat": 4,
 "nbformat_minor": 5
}
