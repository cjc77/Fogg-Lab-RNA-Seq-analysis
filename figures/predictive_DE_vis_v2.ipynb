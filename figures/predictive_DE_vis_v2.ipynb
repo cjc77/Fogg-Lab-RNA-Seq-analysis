{
 "cells": [
  {
   "cell_type": "code",
   "execution_count": 1,
   "id": "statutory-length",
   "metadata": {},
   "outputs": [
    {
     "name": "stderr",
     "output_type": "stream",
     "text": [
      "-- \u001b[1mAttaching packages\u001b[22m ------------------------------------------------------------------------------- tidyverse 1.3.0 --\n",
      "\n",
      "\u001b[32mv\u001b[39m \u001b[34mggplot2\u001b[39m 3.3.3     \u001b[32mv\u001b[39m \u001b[34mpurrr  \u001b[39m 0.3.4\n",
      "\u001b[32mv\u001b[39m \u001b[34mtibble \u001b[39m 3.0.6     \u001b[32mv\u001b[39m \u001b[34mdplyr  \u001b[39m 1.0.4\n",
      "\u001b[32mv\u001b[39m \u001b[34mtidyr  \u001b[39m 1.1.2     \u001b[32mv\u001b[39m \u001b[34mstringr\u001b[39m 1.4.0\n",
      "\u001b[32mv\u001b[39m \u001b[34mreadr  \u001b[39m 1.4.0     \u001b[32mv\u001b[39m \u001b[34mforcats\u001b[39m 0.5.1\n",
      "\n",
      "-- \u001b[1mConflicts\u001b[22m ---------------------------------------------------------------------------------- tidyverse_conflicts() --\n",
      "\u001b[31mx\u001b[39m \u001b[34mdplyr\u001b[39m::\u001b[32mfilter()\u001b[39m masks \u001b[34mstats\u001b[39m::filter()\n",
      "\u001b[31mx\u001b[39m \u001b[34mdplyr\u001b[39m::\u001b[32mlag()\u001b[39m    masks \u001b[34mstats\u001b[39m::lag()\n",
      "\n"
     ]
    }
   ],
   "source": [
    "library(tidyverse)\n",
    "\n",
    "# Custom package\n",
    "library(rutils)"
   ]
  },
  {
   "cell_type": "code",
   "execution_count": 2,
   "id": "billion-dining",
   "metadata": {},
   "outputs": [],
   "source": [
    "dirs <- rutils::get_dev_directories(dev_paths_file = \"../dev_paths.txt\")\n",
    "projects <- c(\"TCGA-CESC\", \"TCGA-UCS\", \"TCGA-UCEC\", \"TCGA-OV\")\n",
    "unified_dsets <- c(\"unified_cervical_data\", \"unified_uterine_data\", \"unified_uterine_endometrial_data\")\n",
    "matrisome_list <- paste0(dirs$data_dir, \"/matrisome/matrisome_hs_masterlist.tsv\")"
   ]
  },
  {
   "cell_type": "code",
   "execution_count": 3,
   "id": "classified-reality",
   "metadata": {},
   "outputs": [],
   "source": [
    "dset_idx <- 2\n",
    "# hub_con_thresh <- 0.5\n",
    "hub_con_thresh <- 0.0"
   ]
  },
  {
   "cell_type": "code",
   "execution_count": 4,
   "id": "consistent-offer",
   "metadata": {},
   "outputs": [],
   "source": [
    "text_size <- 11\n",
    "guide_size <- 1\n",
    "family <- \"arial\"\n",
    "dpi <- 320\n",
    "ht <- 4\n",
    "wd <- 5"
   ]
  },
  {
   "cell_type": "code",
   "execution_count": 5,
   "id": "restricted-being",
   "metadata": {},
   "outputs": [
    {
     "name": "stderr",
     "output_type": "stream",
     "text": [
      "\n",
      "\u001b[36m--\u001b[39m \u001b[1m\u001b[1mColumn specification\u001b[1m\u001b[22m \u001b[36m------------------------------------------------------------------------------------------------\u001b[39m\n",
      "cols(\n",
      "  Division = \u001b[31mcol_character()\u001b[39m,\n",
      "  Category = \u001b[31mcol_character()\u001b[39m,\n",
      "  `Gene Symbol` = \u001b[31mcol_character()\u001b[39m,\n",
      "  `Gene Name` = \u001b[31mcol_character()\u001b[39m,\n",
      "  Synonyms = \u001b[31mcol_character()\u001b[39m,\n",
      "  HGNC_IDs = \u001b[32mcol_double()\u001b[39m,\n",
      "  `HGNC_IDs Links` = \u001b[32mcol_double()\u001b[39m,\n",
      "  UniProt_IDs = \u001b[31mcol_character()\u001b[39m,\n",
      "  Refseq_IDs = \u001b[31mcol_character()\u001b[39m,\n",
      "  Orthology = \u001b[31mcol_character()\u001b[39m,\n",
      "  Notes = \u001b[31mcol_character()\u001b[39m\n",
      ")\n",
      "\n",
      "\n"
     ]
    }
   ],
   "source": [
    "matrisome_df <- rutils::load_matrisome_df(matrisome_list) %>%\n",
    "    dplyr::select(gene_symbol, division, category) %>%\n",
    "    dplyr::rename(geneID = gene_symbol)"
   ]
  },
  {
   "cell_type": "code",
   "execution_count": 6,
   "id": "opened-independence",
   "metadata": {},
   "outputs": [],
   "source": [
    "demg_list <- read_lines(paste0(dirs$analysis_dir, \"/gene_lists/\", unified_dsets[dset_idx], \"_demg_list.txt\"))\n",
    "umsmg_list <- read_lines(paste0(dirs$analysis_dir, \"/gene_lists/\", unified_dsets[dset_idx], \"_umsmg_list.txt\"))\n",
    "nsmg_list <- read_lines(paste0(dirs$analysis_dir, \"/gene_lists/\", unified_dsets[dset_idx], \"_nsmg_hub_thresh_\", hub_con_thresh, \"_list.txt\"))\n",
    "figo_list <- union(umsmg_list, nsmg_list)"
   ]
  },
  {
   "cell_type": "code",
   "execution_count": 7,
   "id": "requested-mason",
   "metadata": {},
   "outputs": [
    {
     "data": {
      "text/html": [
       "595"
      ],
      "text/latex": [
       "595"
      ],
      "text/markdown": [
       "595"
      ],
      "text/plain": [
       "[1] 595"
      ]
     },
     "metadata": {},
     "output_type": "display_data"
    },
    {
     "data": {
      "text/html": [
       "65"
      ],
      "text/latex": [
       "65"
      ],
      "text/markdown": [
       "65"
      ],
      "text/plain": [
       "[1] 65"
      ]
     },
     "metadata": {},
     "output_type": "display_data"
    },
    {
     "data": {
      "text/html": [
       "175"
      ],
      "text/latex": [
       "175"
      ],
      "text/markdown": [
       "175"
      ],
      "text/plain": [
       "[1] 175"
      ]
     },
     "metadata": {},
     "output_type": "display_data"
    },
    {
     "data": {
      "text/html": [
       "221"
      ],
      "text/latex": [
       "221"
      ],
      "text/markdown": [
       "221"
      ],
      "text/plain": [
       "[1] 221"
      ]
     },
     "metadata": {},
     "output_type": "display_data"
    },
    {
     "data": {
      "text/html": [
       "134"
      ],
      "text/latex": [
       "134"
      ],
      "text/markdown": [
       "134"
      ],
      "text/plain": [
       "[1] 134"
      ]
     },
     "metadata": {},
     "output_type": "display_data"
    }
   ],
   "source": [
    "length(demg_list)\n",
    "length(umsmg_list)\n",
    "length(nsmg_list)\n",
    "length(figo_list)\n",
    "length(intersect(figo_list, demg_list))"
   ]
  },
  {
   "cell_type": "code",
   "execution_count": 8,
   "id": "invisible-reserve",
   "metadata": {},
   "outputs": [],
   "source": [
    "matrisome_mem_df <- matrisome_df %>%\n",
    "    dplyr::mutate(\n",
    "        de = geneID %in% demg_list,\n",
    "        predictive = geneID %in% figo_list,\n",
    "        both = de & predictive\n",
    "    ) %>%\n",
    "    dplyr::mutate(membership = case_when(\n",
    "        de & !both ~ \"DE only\",\n",
    "        predictive & !both ~ \"FIGO sig. only\",\n",
    "        both == TRUE ~ \"FIGO sig. and DE\",\n",
    "        !de & !predictive ~ \"Neither\"\n",
    "    )) %>%\n",
    "    dplyr::mutate(membership = factor(membership, levels = c(\"FIGO sig. only\", \"FIGO sig. and DE\", \"DE only\", \"Neither\")))"
   ]
  },
  {
   "cell_type": "code",
   "execution_count": 9,
   "id": "sweet-client",
   "metadata": {},
   "outputs": [
    {
     "name": "stderr",
     "output_type": "stream",
     "text": [
      "`summarise()` has grouped output by 'category'. You can override using the `.groups` argument.\n",
      "\n"
     ]
    }
   ],
   "source": [
    "matrisome_bp_df <- matrisome_mem_df %>%\n",
    "    group_by(category, membership) %>%\n",
    "    summarize(count = n())"
   ]
  },
  {
   "cell_type": "code",
   "execution_count": 10,
   "id": "powerful-generation",
   "metadata": {},
   "outputs": [
    {
     "data": {
      "image/png": "[encoded data removed]",
      "text/plain": [
       "plot without title"
      ]
     },
     "metadata": {
      "image/png": {
       "height": 420,
       "width": 420
      }
     },
     "output_type": "display_data"
    }
   ],
   "source": [
    "ggplot(data = matrisome_bp_df, aes(x = category, y = count, fill = membership)) +\n",
    "    geom_bar(stat = \"identity\") +\n",
    "    scale_fill_manual(values = c(\"FIGO sig. only\" = \"steelblue3\", \"FIGO sig. and DE\" = \"darkorchid4\", \"DE only\" = \"firebrick3\", \"Neither\" = \"gray70\")) +\n",
    "    guides(fill = guide_legend(override.aes = list(size = guide_size))) +\n",
    "    theme_classic() +\n",
    "    theme(\n",
    "        text = element_text(size = text_size, family = family),\n",
    "        axis.title.x = element_blank(),\n",
    "        axis.ticks.x = element_blank(),\n",
    "        axis.text.x = element_text(size = text_size, angle = 55, vjust = 0.55, hjust=0.55),\n",
    "        legend.title = element_blank(),\n",
    "    ) +\n",
    "    labs(y = \"Gene count\", fill = \"Membership\")\n",
    "ggsave(paste0(dirs$figures_dir, \"/deg/\", unified_dsets[dset_idx], \"_figo_sig_demg_stacked_bp.png\"), last_plot(), height = ht, width = wd, dpi = dpi)\n"
   ]
  },
  {
   "cell_type": "code",
   "execution_count": null,
   "id": "initial-asian",
   "metadata": {},
   "outputs": [],
   "source": []
  }
 ],
 "metadata": {
  "kernelspec": {
   "display_name": "R",
   "language": "R",
   "name": "ir"
  },
  "language_info": {
   "codemirror_mode": "r",
   "file_extension": ".r",
   "mimetype": "text/x-r-source",
   "name": "R",
   "pygments_lexer": "r",
   "version": "4.0.3"
  }
 },
 "nbformat": 4,
 "nbformat_minor": 5
}
