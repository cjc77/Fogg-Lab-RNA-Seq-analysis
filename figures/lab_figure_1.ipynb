{
 "cells": [
  {
   "cell_type": "code",
   "execution_count": 1,
   "id": "paperback-imaging",
   "metadata": {},
   "outputs": [
    {
     "name": "stderr",
     "output_type": "stream",
     "text": [
      "-- \u001b[1mAttaching packages\u001b[22m -------------------------------------------------------------------- tidyverse 1.3.0 --\n",
      "\n",
      "\u001b[32mv\u001b[39m \u001b[34mggplot2\u001b[39m 3.3.3     \u001b[32mv\u001b[39m \u001b[34mpurrr  \u001b[39m 0.3.4\n",
      "\u001b[32mv\u001b[39m \u001b[34mtibble \u001b[39m 3.0.6     \u001b[32mv\u001b[39m \u001b[34mdplyr  \u001b[39m 1.0.4\n",
      "\u001b[32mv\u001b[39m \u001b[34mtidyr  \u001b[39m 1.1.2     \u001b[32mv\u001b[39m \u001b[34mstringr\u001b[39m 1.4.0\n",
      "\u001b[32mv\u001b[39m \u001b[34mreadr  \u001b[39m 1.4.0     \u001b[32mv\u001b[39m \u001b[34mforcats\u001b[39m 0.5.1\n",
      "\n",
      "-- \u001b[1mConflicts\u001b[22m ----------------------------------------------------------------------- tidyverse_conflicts() --\n",
      "\u001b[31mx\u001b[39m \u001b[34mdplyr\u001b[39m::\u001b[32mfilter()\u001b[39m masks \u001b[34mstats\u001b[39m::filter()\n",
      "\u001b[31mx\u001b[39m \u001b[34mdplyr\u001b[39m::\u001b[32mlag()\u001b[39m    masks \u001b[34mstats\u001b[39m::lag()\n",
      "\n"
     ]
    }
   ],
   "source": [
    "library(tidyverse)\n",
    "library(cowplot)\n",
    "\n",
    "# Custom package\n",
    "library(rutils)"
   ]
  },
  {
   "cell_type": "code",
   "execution_count": 2,
   "id": "cognitive-privacy",
   "metadata": {},
   "outputs": [],
   "source": [
    "dirs <- rutils::get_dev_directories(dev_paths_file = \"../dev_paths.txt\")\n",
    "unified_dsets <- c(\"unified_cervical_data\", \"unified_uterine_data\", \"unified_uterine_endometrial_data\")\n",
    "projects <- c(\"CESC\", \"UCS\", \"UCEC\")"
   ]
  },
  {
   "cell_type": "code",
   "execution_count": 3,
   "id": "disciplinary-excellence",
   "metadata": {},
   "outputs": [],
   "source": [
    "text_size <- 8\n",
    "label_text_size <- 8\n",
    "small_text_size <- 8\n",
    "family <- \"ArialMT\"\n",
    "dpi <- 320\n",
    "fig1_ht <- 5\n",
    "fig1_wd <- 6"
   ]
  },
  {
   "cell_type": "code",
   "execution_count": 4,
   "id": "successful-event",
   "metadata": {},
   "outputs": [
    {
     "name": "stderr",
     "output_type": "stream",
     "text": [
      "Registered S3 method overwritten by 'GGally':\n",
      "  method from   \n",
      "  +.gg   ggplot2\n",
      "\n"
     ]
    }
   ],
   "source": [
    "mat_de_bplot_figs <- list()\n",
    "mat_sig_bplot_figs <- list()\n",
    "for (idx in 1:3) {\n",
    "    mat_de_bplot_figs[[projects[idx]]] <- load(paste0(dirs$figures_dir, \"/saved_obj/\", unified_dsets[idx], \"_mat_de_bplots.RData\"))\n",
    "    mat_sig_bplot_figs[[projects[idx]]] <- load(paste0(dirs$figures_dir, \"/saved_obj/\", unified_dsets[idx], \"_mat_sig_bplots.RData\"))\n",
    "}\n",
    "hmplot_figs <- c(load(paste0(dirs$figures_dir, \"/saved_obj/hmplots.RData\")))\n",
    "pcaplot_figs <- c(load(paste0(dirs$figures_dir, \"/saved_obj/pcaplots.RData\")))\n",
    "umapplot_figs <- c(load(paste0(dirs$figures_dir, \"/saved_obj/umapplots.RData\")))\n",
    "\n",
    "mat_de_bplot_figs <- Reduce(c, mat_de_bplot_figs)\n",
    "mat_sig_bplot_figs <- Reduce(c, mat_sig_bplot_figs)\n",
    "\n",
    "\n",
    "net_figs <- list()\n",
    "midxs <- c(3, 3, 4)\n",
    "\n",
    "for (idx in 1:3) {\n",
    "    for (midx in seq_len(midxs[idx])) {\n",
    "        net_figs[[paste0(projects[idx], midx)]] <- load(paste0(dirs$figures_dir, \"/saved_obj/\", unified_dsets[idx], \"_netplot\", midx, \".RData\"))\n",
    "    }\n",
    "}\n",
    "net_figs <- Reduce(c, net_figs)"
   ]
  },
  {
   "cell_type": "code",
   "execution_count": 5,
   "id": "stone-input",
   "metadata": {},
   "outputs": [
    {
     "data": {
      "text/html": [
       "<style>\n",
       ".list-inline {list-style: none; margin:0; padding: 0}\n",
       ".list-inline>li {display: inline-block}\n",
       ".list-inline>li:not(:last-child)::after {content: \"\\00b7\"; padding: 0 .5ex}\n",
       "</style>\n",
       "<ol class=list-inline><li>'CESC_mat_de_bplot'</li><li>'UCS_mat_de_bplot'</li><li>'UCEC_mat_de_bplot'</li></ol>\n"
      ],
      "text/latex": [
       "\\begin{enumerate*}\n",
       "\\item 'CESC\\_mat\\_de\\_bplot'\n",
       "\\item 'UCS\\_mat\\_de\\_bplot'\n",
       "\\item 'UCEC\\_mat\\_de\\_bplot'\n",
       "\\end{enumerate*}\n"
      ],
      "text/markdown": [
       "1. 'CESC_mat_de_bplot'\n",
       "2. 'UCS_mat_de_bplot'\n",
       "3. 'UCEC_mat_de_bplot'\n",
       "\n",
       "\n"
      ],
      "text/plain": [
       "[1] \"CESC_mat_de_bplot\" \"UCS_mat_de_bplot\"  \"UCEC_mat_de_bplot\""
      ]
     },
     "metadata": {},
     "output_type": "display_data"
    },
    {
     "data": {
      "text/html": [
       "<style>\n",
       ".list-inline {list-style: none; margin:0; padding: 0}\n",
       ".list-inline>li {display: inline-block}\n",
       ".list-inline>li:not(:last-child)::after {content: \"\\00b7\"; padding: 0 .5ex}\n",
       "</style>\n",
       "<ol class=list-inline><li>'CESC_mat_sig_bplot'</li><li>'UCS_mat_sig_bplot'</li><li>'UCEC_mat_sig_bplot'</li></ol>\n"
      ],
      "text/latex": [
       "\\begin{enumerate*}\n",
       "\\item 'CESC\\_mat\\_sig\\_bplot'\n",
       "\\item 'UCS\\_mat\\_sig\\_bplot'\n",
       "\\item 'UCEC\\_mat\\_sig\\_bplot'\n",
       "\\end{enumerate*}\n"
      ],
      "text/markdown": [
       "1. 'CESC_mat_sig_bplot'\n",
       "2. 'UCS_mat_sig_bplot'\n",
       "3. 'UCEC_mat_sig_bplot'\n",
       "\n",
       "\n"
      ],
      "text/plain": [
       "[1] \"CESC_mat_sig_bplot\" \"UCS_mat_sig_bplot\"  \"UCEC_mat_sig_bplot\""
      ]
     },
     "metadata": {},
     "output_type": "display_data"
    },
    {
     "data": {
      "text/html": [
       "<style>\n",
       ".list-inline {list-style: none; margin:0; padding: 0}\n",
       ".list-inline>li {display: inline-block}\n",
       ".list-inline>li:not(:last-child)::after {content: \"\\00b7\"; padding: 0 .5ex}\n",
       "</style>\n",
       "<ol class=list-inline><li>'gyn_hmplot'</li><li>'pan_hmplot'</li><li>'z_tileplot'</li></ol>\n"
      ],
      "text/latex": [
       "\\begin{enumerate*}\n",
       "\\item 'gyn\\_hmplot'\n",
       "\\item 'pan\\_hmplot'\n",
       "\\item 'z\\_tileplot'\n",
       "\\end{enumerate*}\n"
      ],
      "text/markdown": [
       "1. 'gyn_hmplot'\n",
       "2. 'pan_hmplot'\n",
       "3. 'z_tileplot'\n",
       "\n",
       "\n"
      ],
      "text/plain": [
       "[1] \"gyn_hmplot\" \"pan_hmplot\" \"z_tileplot\""
      ]
     },
     "metadata": {},
     "output_type": "display_data"
    },
    {
     "data": {
      "text/html": [
       "<style>\n",
       ".list-inline {list-style: none; margin:0; padding: 0}\n",
       ".list-inline>li {display: inline-block}\n",
       ".list-inline>li:not(:last-child)::after {content: \"\\00b7\"; padding: 0 .5ex}\n",
       "</style>\n",
       "<ol class=list-inline><li>'screeplot'</li><li>'small_multplot'</li><li>'pc1_pc2_scatterplot'</li><li>'pc2_pc3_scatterplot'</li></ol>\n"
      ],
      "text/latex": [
       "\\begin{enumerate*}\n",
       "\\item 'screeplot'\n",
       "\\item 'small\\_multplot'\n",
       "\\item 'pc1\\_pc2\\_scatterplot'\n",
       "\\item 'pc2\\_pc3\\_scatterplot'\n",
       "\\end{enumerate*}\n"
      ],
      "text/markdown": [
       "1. 'screeplot'\n",
       "2. 'small_multplot'\n",
       "3. 'pc1_pc2_scatterplot'\n",
       "4. 'pc2_pc3_scatterplot'\n",
       "\n",
       "\n"
      ],
      "text/plain": [
       "[1] \"screeplot\"           \"small_multplot\"      \"pc1_pc2_scatterplot\"\n",
       "[4] \"pc2_pc3_scatterplot\""
      ]
     },
     "metadata": {},
     "output_type": "display_data"
    },
    {
     "data": {
      "text/html": [
       "<style>\n",
       ".list-inline {list-style: none; margin:0; padding: 0}\n",
       ".list-inline>li {display: inline-block}\n",
       ".list-inline>li:not(:last-child)::after {content: \"\\00b7\"; padding: 0 .5ex}\n",
       "</style>\n",
       "<ol class=list-inline><li>'pan_umapplot'</li><li>'gyn_umapplot'</li></ol>\n"
      ],
      "text/latex": [
       "\\begin{enumerate*}\n",
       "\\item 'pan\\_umapplot'\n",
       "\\item 'gyn\\_umapplot'\n",
       "\\end{enumerate*}\n"
      ],
      "text/markdown": [
       "1. 'pan_umapplot'\n",
       "2. 'gyn_umapplot'\n",
       "\n",
       "\n"
      ],
      "text/plain": [
       "[1] \"pan_umapplot\" \"gyn_umapplot\""
      ]
     },
     "metadata": {},
     "output_type": "display_data"
    },
    {
     "data": {
      "text/html": [
       "<style>\n",
       ".list-inline {list-style: none; margin:0; padding: 0}\n",
       ".list-inline>li {display: inline-block}\n",
       ".list-inline>li:not(:last-child)::after {content: \"\\00b7\"; padding: 0 .5ex}\n",
       "</style>\n",
       "<ol class=list-inline><li>'CESC_netplot1'</li><li>'CESC_netplot2'</li><li>'CESC_netplot3'</li><li>'UCS_netplot1'</li><li>'UCS_netplot2'</li><li>'UCS_netplot3'</li><li>'UCEC_netplot1'</li><li>'UCEC_netplot2'</li><li>'UCEC_netplot3'</li><li>'UCEC_netplot4'</li></ol>\n"
      ],
      "text/latex": [
       "\\begin{enumerate*}\n",
       "\\item 'CESC\\_netplot1'\n",
       "\\item 'CESC\\_netplot2'\n",
       "\\item 'CESC\\_netplot3'\n",
       "\\item 'UCS\\_netplot1'\n",
       "\\item 'UCS\\_netplot2'\n",
       "\\item 'UCS\\_netplot3'\n",
       "\\item 'UCEC\\_netplot1'\n",
       "\\item 'UCEC\\_netplot2'\n",
       "\\item 'UCEC\\_netplot3'\n",
       "\\item 'UCEC\\_netplot4'\n",
       "\\end{enumerate*}\n"
      ],
      "text/markdown": [
       "1. 'CESC_netplot1'\n",
       "2. 'CESC_netplot2'\n",
       "3. 'CESC_netplot3'\n",
       "4. 'UCS_netplot1'\n",
       "5. 'UCS_netplot2'\n",
       "6. 'UCS_netplot3'\n",
       "7. 'UCEC_netplot1'\n",
       "8. 'UCEC_netplot2'\n",
       "9. 'UCEC_netplot3'\n",
       "10. 'UCEC_netplot4'\n",
       "\n",
       "\n"
      ],
      "text/plain": [
       " [1] \"CESC_netplot1\" \"CESC_netplot2\" \"CESC_netplot3\" \"UCS_netplot1\" \n",
       " [5] \"UCS_netplot2\"  \"UCS_netplot3\"  \"UCEC_netplot1\" \"UCEC_netplot2\"\n",
       " [9] \"UCEC_netplot3\" \"UCEC_netplot4\""
      ]
     },
     "metadata": {},
     "output_type": "display_data"
    }
   ],
   "source": [
    "mat_de_bplot_figs\n",
    "mat_sig_bplot_figs\n",
    "\n",
    "hmplot_figs\n",
    "pcaplot_figs\n",
    "umapplot_figs\n",
    "\n",
    "net_figs"
   ]
  },
  {
   "cell_type": "code",
   "execution_count": 6,
   "id": "moved-dakota",
   "metadata": {},
   "outputs": [],
   "source": [
    "hide_legend <- function(plt) {\n",
    "    plt + theme(legend.position=\"none\")\n",
    "}\n",
    "\n",
    "hide_axis_title <- function(plt, axis = \"x\") {\n",
    "    if (axis == \"x\") {\n",
    "        plt <- plt + theme(axis.title.x = element_blank())\n",
    "    }\n",
    "    else if (axis == \"y\") {\n",
    "        plt <- plt + theme(axis.title.y = element_blank())\n",
    "    }\n",
    "    plt\n",
    "}\n",
    "\n",
    "hide_axis_text <- function(plt, axis = \"x\") {\n",
    "    if (axis == \"x\") {\n",
    "        plt <- plt + theme(axis.text.x = element_blank())\n",
    "    }\n",
    "    else if (axis == \"y\") {\n",
    "        plt <- plt + theme(axis.text.y = element_blank())\n",
    "    }\n",
    "    plt\n",
    "}\n",
    "\n",
    "rename_axis_title <- function(plt, axis = \"x\", n_title = \"\") {\n",
    "    if (axis == \"x\") {\n",
    "        plt <- plt + labs(x = n_title)\n",
    "    }\n",
    "    else if (axis == \"y\") {\n",
    "        plt <- plt + labs(y = n_title)\n",
    "    }\n",
    "    plt\n",
    "}\n",
    "\n",
    "set_margins <- function(plt, margins = c(0, 0, 0, 0)) {\n",
    "    plt + theme(plot.margin = unit(margins, \"cm\"))\n",
    "}"
   ]
  },
  {
   "cell_type": "markdown",
   "id": "varied-reach",
   "metadata": {},
   "source": [
    "# Barplots"
   ]
  },
  {
   "cell_type": "code",
   "execution_count": null,
   "id": "threatened-amber",
   "metadata": {},
   "outputs": [],
   "source": [
    "mat_de_bplot_list <- c(\n",
    "    mget(\"CESC_mat_de_bplot\"),\n",
    "    c(mget(\"UCEC_mat_de_bplot\"), mget(\"UCS_mat_de_bplot\")) %>%\n",
    "        purrr::map(function(p) { hide_axis_title(p, \"y\") })\n",
    ") %>%\n",
    "    purrr::map(hide_legend) %>%\n",
    "    purrr::map(function(p) { set_margins(p, c(0.0, 0, 0, 0)) }) %>%\n",
    "    purrr::map(function(p) { hide_axis_text(p, \"x\") })\n",
    "\n",
    "\n",
    "mat_de_bplots <- plot_grid(\n",
    "    plotlist = mat_de_bplot_list,\n",
    "    ncol = 3,\n",
    "#     labels = c(\"A\", \"B\", \"C\"),\n",
    "#     labels = c(\"A\"),\n",
    "    label_fontfamily = family,\n",
    "    label_size = label_text_size,\n",
    "    label_fontface = \"bold\",\n",
    "    align = \"vh\"\n",
    ")\n",
    "\n",
    "# mat_de_bplots\n",
    "\n",
    "mat_de_bplot_legend <- get_legend(CESC_mat_de_bplot + theme(legend.position = \"bottom\", legend.spacing.x = unit(0.4, 'cm')))\n",
    "\n",
    "# mat_de_bplot_grid <- plot_grid(mat_de_bplots, mat_de_bplot_legend, ncol = 1, rel_heights = c(1, 0.15))\n",
    "mat_de_bplot_grid <- plot_grid(mat_de_bplots, ncol = 1)\n",
    "mat_de_bplot_grid"
   ]
  },
  {
   "cell_type": "code",
   "execution_count": null,
   "id": "agricultural-boxing",
   "metadata": {},
   "outputs": [],
   "source": [
    "mat_sig_bplot_list <- c(\n",
    "    mget(\"CESC_mat_sig_bplot\"),\n",
    "    mget(\"UCEC_mat_sig_bplot\") %>% purrr::map(function(p) { hide_axis_title(p, \"y\") }),\n",
    "    mget(\"UCS_mat_sig_bplot\") %>% purrr::map(function(p) { hide_axis_title(p, \"y\") })\n",
    ") %>%\n",
    "    purrr::map(hide_legend) %>%\n",
    "    purrr::map(function(p) { set_margins(p, c(0, 0, 0, 0)) })\n",
    "\n",
    "mat_sig_bplots <- plot_grid(\n",
    "    plotlist = mat_sig_bplot_list,\n",
    "    ncol = 3,\n",
    "#     labels = c(\"D\", \"E\", \"F\"),\n",
    "#     labels = c(\"B\"),\n",
    "    label_fontfamily = family,\n",
    "    label_size = label_text_size,\n",
    "    label_fontface = \"bold\",\n",
    "    align = \"vh\"\n",
    ")\n",
    "mat_sig_bplot_legend <- get_legend(CESC_mat_sig_bplot + theme(legend.position = \"bottom\", legend.spacing.x = unit(0.4, 'cm')))\n",
    "\n",
    "# legend.spacing.x = unit(1.0, 'cm')\n",
    "\n",
    "# mat_sig_bplot_grid <- plot_grid(mat_sig_bplots, mat_sig_bplot_legend, ncol = 1, rel_heights = c(1, 0.15))\n",
    "mat_sig_bplot_grid <- plot_grid(mat_sig_bplots, ncol = 1)\n",
    "mat_sig_bplot_grid"
   ]
  },
  {
   "cell_type": "code",
   "execution_count": null,
   "id": "attached-shore",
   "metadata": {},
   "outputs": [],
   "source": [
    "postfig_1 <- plot_grid(\n",
    "#     plot_grid(NULL, NULL, NULL, ncol = 3, labels = c(\"Cervical cancer\", \"Endometrial cancer\", \"Uterine carcinosarcoma\"), label_font_family = family, label_size = text_size, label_fontface = \"bold\", hjust = 0, vjust = 1, label_x = 0.2),\n",
    "    plot_grid(NULL, NULL, NULL, ncol = 3, labels = c(\"Cervical\", \"Endometrial\", \"Uterine\"), label_font_family = family, label_size = text_size, label_fontface = \"bold\", hjust = 0, vjust = 1, label_x = 0.2),\n",
    "    mat_de_bplot_grid,\n",
    "    mat_sig_bplot_grid,\n",
    "    mat_de_bplot_legend,\n",
    "    mat_sig_bplot_legend,\n",
    "#     vplot_grid + theme(plot.margin = unit(c(0, 0, 0.25, 0), \"cm\")),\n",
    "#     ea_goplots,\n",
    "    ncol = 1,\n",
    "#     rel_heights = c(1, 1.75)\n",
    "    rel_heights = c(0.075, 1, 1.5, 0.15, 0.15)\n",
    ")\n",
    "postfig_1"
   ]
  },
  {
   "cell_type": "code",
   "execution_count": null,
   "id": "hawaiian-vertical",
   "metadata": {},
   "outputs": [],
   "source": [
    "ggsave(postfig_1, filename = paste0(dirs$figures_dir, \"/one_off/postfig_1.png\"), dpi = dpi, height = 7, width = 5)"
   ]
  },
  {
   "cell_type": "markdown",
   "id": "handmade-visiting",
   "metadata": {},
   "source": [
    "# Heatmaps & dim. reduction"
   ]
  },
  {
   "cell_type": "code",
   "execution_count": null,
   "id": "under-intersection",
   "metadata": {},
   "outputs": [],
   "source": [
    "hmplot_list <- c(\n",
    "    mget(\"gyn_hmplot\"),\n",
    "    mget(\"pan_hmplot\")\n",
    ") %>%\n",
    "    purrr::map(function(p) { set_margins(p, c(0, 0, 0, 0)) })\n",
    "\n",
    "hm_grid <- plot_grid(\n",
    "    plotlist = hmplot_list,\n",
    "    ncol = 2,\n",
    "#     labels = c(\"C\", \"D\"),\n",
    "    label_fontfamily = family,\n",
    "    label_size = label_text_size,\n",
    "    label_fontface = \"bold\",\n",
    "    align = \"vh\"\n",
    ")\n",
    "hm_grid"
   ]
  },
  {
   "cell_type": "code",
   "execution_count": null,
   "id": "continuous-kingston",
   "metadata": {},
   "outputs": [],
   "source": [
    "# pcaplot_list <- c(\n",
    "#     mget(\"screeplot\") %>%\n",
    "#         purrr::map(function(p) { rename_axis_title(p, \"y\", \"% var.\") }) %>%\n",
    "#         purrr::map(function(p) { set_margins(p, c(0.5, 0, 0, 0.25)) }),\n",
    "#     mget(\"pc1_pc2_scatterplot\") %>%\n",
    "#         purrr::map(function(p) { set_margins(p, c(0.5, 0, 0, 0.25)) }),\n",
    "#     mget(\"small_multplot\") %>%\n",
    "#         purrr::map(function(p) { set_margins(p, c(0, 0, 0, 0.5)) })\n",
    "# ) \n",
    "\n",
    "# sm_grid <- plot_grid(\n",
    "#     plotlist = pcaplot_list[3],\n",
    "#     ncol = 1,\n",
    "#     labels = c(\"E\"),\n",
    "#     label_fontfamily = family,\n",
    "#     label_size = label_text_size,\n",
    "#     label_fontface = \"bold\"\n",
    "# )\n",
    "# sm_grid"
   ]
  },
  {
   "cell_type": "code",
   "execution_count": null,
   "id": "broke-desperate",
   "metadata": {},
   "outputs": [],
   "source": [
    "umapplot_list <- c(\n",
    "    mget(\"gyn_umapplot\"),\n",
    "    mget(\"pan_umapplot\")\n",
    ") %>%\n",
    "    purrr::map(function(p) { set_margins(p, c(0, 1, 0, 1)) }) %>%\n",
    "    purrr::map(function(p) { hide_legend(p) }) %>%\n",
    "    purrr::map(function(p) { p + theme(\n",
    "        panel.grid.major = element_blank(),\n",
    "        panel.grid.minor = element_blank()\n",
    "    )})\n",
    "\n",
    "# scatter_grid <- plot_grid(\n",
    "#     plotlist = c(pcaplot_list[2] %>% purrr::map(function(p) { p + labs(x = \"PC1\", y = \"PC2\") }), umapplot_list),\n",
    "#     ncol = 1,\n",
    "#     labels = c(\"F\", \"G\", \"H\"),\n",
    "#     label_fontfamily = family,\n",
    "#     label_size = label_text_size,\n",
    "#     label_fontface = \"bold\",\n",
    "#     label_x = 0.03,\n",
    "#     align = \"vh\",\n",
    "#     rel_heights = c(1, 1, 1)\n",
    "# )\n",
    "# scatter_grid"
   ]
  },
  {
   "cell_type": "code",
   "execution_count": null,
   "id": "collected-rwanda",
   "metadata": {},
   "outputs": [],
   "source": [
    "z_legend <- get_legend(z_tileplot + theme(legend.position = \"right\", plot.margin = unit(c(0, 0, 0, 0), \"cm\")))\n",
    "ctype_legend <- get_legend(small_multplot + theme(legend.position = \"right\", plot.margin = unit(c(0, 0, 0, 0), \"cm\")))\n",
    "legend_grid <- plot_grid(\n",
    "    z_legend,\n",
    "    ctype_legend,\n",
    "    nrow = 2,\n",
    "    align = \"vh\"\n",
    ")\n",
    "legend_grid"
   ]
  },
  {
   "cell_type": "code",
   "execution_count": null,
   "id": "formed-manufacturer",
   "metadata": {},
   "outputs": [],
   "source": [
    "# plt_grid <- plot_grid(\n",
    "#     hm_grid,\n",
    "#     plot_grid(sm_grid, scatter_grid, ncol = 2, rel_widths = c(1.2, 1)),\n",
    "#     ncol = 1,\n",
    "#     rel_heights = c(1, 1.3)\n",
    "# )\n",
    "\n",
    "# fig3 <- plot_grid(\n",
    "#     plt_grid,\n",
    "#     legend_grid,\n",
    "#     ncol = 2,\n",
    "#     rel_widths = c(1, 0.2)\n",
    "# )\n",
    "# fig3\n",
    "postfig_2 <- plot_grid(\n",
    "    plot_grid(hm_grid,umapplot_list[[2]], nrow = 2, rel_heights = c(1, 0.5)),\n",
    "    legend_grid,\n",
    "    ncol = 2,\n",
    "    rel_widths = c(1, 0.2)\n",
    ")\n",
    "postfig_2"
   ]
  },
  {
   "cell_type": "code",
   "execution_count": null,
   "id": "concrete-mumbai",
   "metadata": {},
   "outputs": [],
   "source": [
    "ggsave(postfig_2, filename = paste0(dirs$figures_dir, \"/one_off/postfig_2.png\"), dpi = dpi, height = 5, width = 5)"
   ]
  },
  {
   "cell_type": "markdown",
   "id": "modern-chancellor",
   "metadata": {},
   "source": [
    "# Network"
   ]
  },
  {
   "cell_type": "code",
   "execution_count": 7,
   "id": "choice-harassment",
   "metadata": {},
   "outputs": [],
   "source": [
    "net_fig_list <- c(\n",
    "    mget(\"UCEC_netplot1\")\n",
    ")"
   ]
  },
  {
   "cell_type": "code",
   "execution_count": 11,
   "id": "preliminary-daughter",
   "metadata": {},
   "outputs": [],
   "source": [
    "ggsave(net_fig_list[[1]], filename = paste0(dirs$figures_dir, \"/one_off/postfig_3.png\"), dpi = dpi, height = 3, width = 3)"
   ]
  },
  {
   "cell_type": "markdown",
   "id": "instructional-shade",
   "metadata": {},
   "source": [
    "# Combine"
   ]
  },
  {
   "cell_type": "code",
   "execution_count": null,
   "id": "difficult-knight",
   "metadata": {},
   "outputs": [],
   "source": [
    "# lab_fig <- plot_grid(\n",
    "#     fig2, fig3,\n",
    "#     ncol = 2,\n",
    "#     rel_heights = c(1, 1.3)\n",
    "# )\n",
    "# lab_fig"
   ]
  },
  {
   "cell_type": "code",
   "execution_count": null,
   "id": "polyphonic-demand",
   "metadata": {},
   "outputs": [],
   "source": [
    "# ggsave(lab_fig, filename = paste0(dirs$figures_dir, \"/one_off/lab_fig1.png\"), dpi = dpi, height = 8, width = 10)"
   ]
  },
  {
   "cell_type": "code",
   "execution_count": null,
   "id": "fitting-professional",
   "metadata": {},
   "outputs": [],
   "source": []
  },
  {
   "cell_type": "code",
   "execution_count": null,
   "id": "coral-consultation",
   "metadata": {},
   "outputs": [],
   "source": []
  }
 ],
 "metadata": {
  "kernelspec": {
   "display_name": "R",
   "language": "R",
   "name": "ir"
  },
  "language_info": {
   "codemirror_mode": "r",
   "file_extension": ".r",
   "mimetype": "text/x-r-source",
   "name": "R",
   "pygments_lexer": "r",
   "version": "4.0.3"
  }
 },
 "nbformat": 4,
 "nbformat_minor": 5
}
