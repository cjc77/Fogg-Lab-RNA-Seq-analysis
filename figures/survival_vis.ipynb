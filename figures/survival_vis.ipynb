{
 "cells": [
  {
   "cell_type": "code",
   "execution_count": 1,
   "id": "trained-supervisor",
   "metadata": {},
   "outputs": [
    {
     "name": "stderr",
     "output_type": "stream",
     "text": [
      "-- \u001b[1mAttaching packages\u001b[22m ------------------------------------------------------------------------------------------------------- tidyverse 1.3.0 --\n",
      "\n",
      "\u001b[32mv\u001b[39m \u001b[34mggplot2\u001b[39m 3.3.3     \u001b[32mv\u001b[39m \u001b[34mpurrr  \u001b[39m 0.3.4\n",
      "\u001b[32mv\u001b[39m \u001b[34mtibble \u001b[39m 3.0.6     \u001b[32mv\u001b[39m \u001b[34mdplyr  \u001b[39m 1.0.4\n",
      "\u001b[32mv\u001b[39m \u001b[34mtidyr  \u001b[39m 1.1.2     \u001b[32mv\u001b[39m \u001b[34mstringr\u001b[39m 1.4.0\n",
      "\u001b[32mv\u001b[39m \u001b[34mreadr  \u001b[39m 1.4.0     \u001b[32mv\u001b[39m \u001b[34mforcats\u001b[39m 0.5.1\n",
      "\n",
      "-- \u001b[1mConflicts\u001b[22m ---------------------------------------------------------------------------------------------------------- tidyverse_conflicts() --\n",
      "\u001b[31mx\u001b[39m \u001b[34mdplyr\u001b[39m::\u001b[32mfilter()\u001b[39m masks \u001b[34mstats\u001b[39m::filter()\n",
      "\u001b[31mx\u001b[39m \u001b[34mdplyr\u001b[39m::\u001b[32mlag()\u001b[39m    masks \u001b[34mstats\u001b[39m::lag()\n",
      "\n"
     ]
    }
   ],
   "source": [
    "library(tidyverse)\n",
    "\n",
    "# Custom package\n",
    "library(rutils)"
   ]
  },
  {
   "cell_type": "code",
   "execution_count": 2,
   "id": "experienced-compromise",
   "metadata": {},
   "outputs": [],
   "source": [
    "dirs <- rutils::get_dev_directories(dev_paths_file = \"../dev_paths.txt\")\n",
    "unified_dsets <- c(\"unified_cervical_data\", \"unified_uterine_data\", \"unified_uterine_endometrial_data\")\n",
    "projects <- c(\"CESC\", \"UCS\", \"UCEC\")"
   ]
  },
  {
   "cell_type": "code",
   "execution_count": 3,
   "id": "legal-flavor",
   "metadata": {},
   "outputs": [],
   "source": [
    "text_size <- 11\n",
    "guide_size <- 1\n",
    "family <- \"arial\"\n",
    "dpi <- 320\n",
    "ht <- 4\n",
    "wd <- 5"
   ]
  },
  {
   "cell_type": "code",
   "execution_count": 4,
   "id": "foreign-crystal",
   "metadata": {},
   "outputs": [],
   "source": [
    "p_thresh <- 0.05\n",
    "q_thresh <- 0.15"
   ]
  },
  {
   "cell_type": "code",
   "execution_count": 5,
   "id": "large-requirement",
   "metadata": {},
   "outputs": [
    {
     "name": "stderr",
     "output_type": "stream",
     "text": [
      "\n",
      "\u001b[36m--\u001b[39m \u001b[1m\u001b[1mColumn specification\u001b[1m\u001b[22m \u001b[36m------------------------------------------------------------------------------------------------------------------------\u001b[39m\n",
      "cols(\n",
      "  geneID = \u001b[31mcol_character()\u001b[39m,\n",
      "  km_pval = \u001b[32mcol_double()\u001b[39m,\n",
      "  km_qval = \u001b[32mcol_double()\u001b[39m,\n",
      "  cph_pval = \u001b[32mcol_double()\u001b[39m,\n",
      "  cph_qval = \u001b[32mcol_double()\u001b[39m\n",
      ")\n",
      "\n",
      "\n",
      "\n",
      "\u001b[36m--\u001b[39m \u001b[1m\u001b[1mColumn specification\u001b[1m\u001b[22m \u001b[36m------------------------------------------------------------------------------------------------------------------------\u001b[39m\n",
      "cols(\n",
      "  geneID = \u001b[31mcol_character()\u001b[39m\n",
      ")\n",
      "\n",
      "\n",
      "\n",
      "\u001b[36m--\u001b[39m \u001b[1m\u001b[1mColumn specification\u001b[1m\u001b[22m \u001b[36m------------------------------------------------------------------------------------------------------------------------\u001b[39m\n",
      "cols(\n",
      "  geneID = \u001b[31mcol_character()\u001b[39m,\n",
      "  km_pval = \u001b[32mcol_double()\u001b[39m,\n",
      "  km_qval = \u001b[32mcol_double()\u001b[39m,\n",
      "  cph_pval = \u001b[32mcol_double()\u001b[39m,\n",
      "  cph_qval = \u001b[32mcol_double()\u001b[39m\n",
      ")\n",
      "\n",
      "\n",
      "\n",
      "\u001b[36m--\u001b[39m \u001b[1m\u001b[1mColumn specification\u001b[1m\u001b[22m \u001b[36m------------------------------------------------------------------------------------------------------------------------\u001b[39m\n",
      "cols(\n",
      "  geneID = \u001b[31mcol_character()\u001b[39m\n",
      ")\n",
      "\n",
      "\n",
      "\n",
      "\u001b[36m--\u001b[39m \u001b[1m\u001b[1mColumn specification\u001b[1m\u001b[22m \u001b[36m------------------------------------------------------------------------------------------------------------------------\u001b[39m\n",
      "cols(\n",
      "  geneID = \u001b[31mcol_character()\u001b[39m,\n",
      "  km_pval = \u001b[32mcol_double()\u001b[39m,\n",
      "  km_qval = \u001b[32mcol_double()\u001b[39m,\n",
      "  cph_pval = \u001b[32mcol_double()\u001b[39m,\n",
      "  cph_qval = \u001b[32mcol_double()\u001b[39m\n",
      ")\n",
      "\n",
      "\n",
      "\n",
      "\u001b[36m--\u001b[39m \u001b[1m\u001b[1mColumn specification\u001b[1m\u001b[22m \u001b[36m------------------------------------------------------------------------------------------------------------------------\u001b[39m\n",
      "cols(\n",
      "  geneID = \u001b[31mcol_character()\u001b[39m\n",
      ")\n",
      "\n",
      "\n"
     ]
    }
   ],
   "source": [
    "univ_dfs <- list()\n",
    "l1_cph_dfs <- list()\n",
    "for (dset_idx in 1:3) {\n",
    "    univ_dfs[[projects[dset_idx]]] <- read_tsv(paste0(dirs$analysis_dir, \"/survival/\", unified_dsets[dset_idx], \"_univ_survival_results.tsv\")) %>%\n",
    "        filter(km_pval < p_thresh | cph_pval < p_thresh) %>%\n",
    "        filter(km_qval < q_thresh | cph_qval < q_thresh)\n",
    "    l1_cph_dfs[[projects[dset_idx]]] <- read_tsv(paste0(dirs$analysis_dir, \"/survival/\", unified_dsets[dset_idx], \"_l1_cph_results.tsv\"))\n",
    "}"
   ]
  },
  {
   "cell_type": "code",
   "execution_count": 6,
   "id": "portable-upset",
   "metadata": {},
   "outputs": [],
   "source": [
    "surv_df <- tibble(geneID = union(purrr::map(univ_dfs, \"geneID\") %>% unlist(), purrr::map(l1_cph_dfs, \"geneID\") %>% unlist()))\n",
    "for (dset_idx in 1:3) {\n",
    "    univ_col <- paste0(projects[dset_idx], \"_univ\")\n",
    "    l1_col <- paste0(projects[dset_idx], \"_l1\")\n",
    "    surv_df <- surv_df %>%\n",
    "        mutate(\n",
    "            !!as.name(univ_col) := geneID %in% univ_dfs[[projects[dset_idx]]]$geneID,\n",
    "            !!as.name(l1_col) := geneID %in% l1_cph_dfs[[projects[dset_idx]]]$geneID\n",
    "        )\n",
    "}\n",
    "\n",
    "surv_df <- surv_df %>%\n",
    "    mutate(checks = rowSums(.[-1])) %>%\n",
    "    select(geneID, checks, CESC_l1, CESC_univ, UCEC_l1, UCEC_univ, UCS_l1, UCS_univ) %>%\n",
    "    mutate(last_true = max.col(.[,-c(1:2)], \"last\")) %>%\n",
    "    arrange(checks, desc(last_true), desc(geneID)) %>%\n",
    "    mutate(geneID_f = factor(geneID, levels = geneID)) %>%\n",
    "    select(geneID_f, last_true, everything())"
   ]
  },
  {
   "cell_type": "code",
   "execution_count": 7,
   "id": "detailed-boston",
   "metadata": {},
   "outputs": [],
   "source": [
    "hm_surv_df <- surv_df %>%\n",
    "    pivot_longer(cols = colnames(.[-c(1:4)]), names_to = \"sig_list\") %>%\n",
    "    mutate(value = ifelse(value == TRUE, \"yes\", \"no\"), value = factor(value, levels = c(\"yes\", \"no\")))\n",
    "# head(hm_surv_df)"
   ]
  },
  {
   "cell_type": "code",
   "execution_count": 8,
   "id": "understanding-bosnia",
   "metadata": {},
   "outputs": [],
   "source": [
    "unique_sig_list <- unique(hm_surv_df$sig_list)\n",
    "analysis_labs <- gsub(\"univ\", \"Univariate\", gsub(\"l1\", \"Cox Lasso\", gsub(\"_\", \" \", unique_sig_list)))\n",
    "names(analysis_labs) <- unique_sig_list"
   ]
  },
  {
   "cell_type": "code",
   "execution_count": 9,
   "id": "finite-prerequisite",
   "metadata": {},
   "outputs": [
    {
     "data": {
      "image/png": "[encoded data removed]",
      "text/plain": [
       "plot without title"
      ]
     },
     "metadata": {
      "image/png": {
       "height": 420,
       "width": 420
      }
     },
     "output_type": "display_data"
    }
   ],
   "source": [
    "ggplot(hm_surv_df) +\n",
    "    geom_tile(aes(x = sig_list, y = geneID_f, fill = value), color = \"white\", size = 1) +\n",
    "    scale_fill_manual(values = c(\"yes\" = \"black\", \"no\" = \"white\")) +\n",
    "    theme_classic() +\n",
    "    labs(x = \"Analysis method\", y = \"ECM gene\", fill = \"Prognistic\") +\n",
    "    scale_x_discrete(\n",
    "        labels = analysis_labs\n",
    "    ) +\n",
    "    theme(\n",
    "        text = element_text(size = text_size, family = family),\n",
    "        axis.text.x = element_text(size = text_size, angle = 55, vjust = 0.55, hjust = 0.55)\n",
    "    ) +\n",
    "    guides(fill = guide_legend(override.aes = list(color = \"black\", size = 0.5)))\n",
    "\n",
    "# ggsave(paste0(dirs$figures_dir, \"/survival/prognostic_genes.png\"), last_plot(), width = wd, dpi = dpi)"
   ]
  },
  {
   "cell_type": "code",
   "execution_count": null,
   "id": "electric-illinois",
   "metadata": {},
   "outputs": [],
   "source": []
  }
 ],
 "metadata": {
  "kernelspec": {
   "display_name": "R",
   "language": "R",
   "name": "ir"
  },
  "language_info": {
   "codemirror_mode": "r",
   "file_extension": ".r",
   "mimetype": "text/x-r-source",
   "name": "R",
   "pygments_lexer": "r",
   "version": "4.0.3"
  }
 },
 "nbformat": 4,
 "nbformat_minor": 5
}
