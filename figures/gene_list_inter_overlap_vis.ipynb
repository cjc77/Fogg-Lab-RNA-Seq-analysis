{
 "cells": [
  {
   "cell_type": "code",
   "execution_count": null,
   "id": "interpreted-pocket",
   "metadata": {},
   "outputs": [],
   "source": [
    "library(ggvenn)\n",
    "library(tidyverse)\n",
    "library(RColorBrewer)\n",
    "\n",
    "# Custom package\n",
    "library(rutils)"
   ]
  },
  {
   "cell_type": "code",
   "execution_count": null,
   "id": "heard-audio",
   "metadata": {},
   "outputs": [],
   "source": [
    "# dset_idx <- 1\n",
    "# hub_con_thresh <- 0.5\n",
    "# hub_con_thresh <- 0.25\n",
    "hub_con_thresh <- 0.0"
   ]
  },
  {
   "cell_type": "code",
   "execution_count": null,
   "id": "weird-pearl",
   "metadata": {},
   "outputs": [],
   "source": [
    "dirs <- rutils::get_dev_directories(dev_paths_file = \"../dev_paths.txt\")\n",
    "projects <- c(\"CESC\", \"UCS\", \"UCEC\")\n",
    "unified_dsets <- c(\"unified_cervical_data\", \"unified_uterine_data\", \"unified_uterine_endometrial_data\")\n",
    "matrisome_path <- paste0(dirs$data_dir, \"/matrisome/matrisome_hs_masterlist.tsv\")"
   ]
  },
  {
   "cell_type": "code",
   "execution_count": null,
   "id": "continuous-government",
   "metadata": {},
   "outputs": [],
   "source": [
    "dge_m_files <- paste0(dirs$analysis_dir, \"/gene_lists/\", unified_dsets, \"_dge_m_gene_list.txt\")\n",
    "univar_figo_files <- paste0(dirs$analysis_dir, \"/gene_lists/\", unified_dsets, \"_figo_univar_gene_list.txt\")\n",
    "network_figo_files <- paste0(dirs$analysis_dir, \"/gene_lists/\", unified_dsets, \"_figo_network_hub_thresh_\", hub_con_thresh, \"_gene_list.txt\")"
   ]
  },
  {
   "cell_type": "code",
   "execution_count": null,
   "id": "referenced-bulletin",
   "metadata": {},
   "outputs": [],
   "source": [
    "text_size <- 11\n",
    "guide_size <- 1\n",
    "family <- \"arial\"\n",
    "dpi <- 320\n",
    "vd_ht <- 4\n",
    "vd_wd <- vd_ht"
   ]
  },
  {
   "cell_type": "code",
   "execution_count": null,
   "id": "empty-bachelor",
   "metadata": {},
   "outputs": [],
   "source": [
    "dge_m_lists <- list()\n",
    "univar_figo_lists <- list()\n",
    "network_figo_lists <- list()\n",
    "\n",
    "for (i in 1:3) {\n",
    "    dge_m_lists[[unified_dsets[i]]] <- read_lines(dge_m_files[i])\n",
    "    univar_figo_lists[[unified_dsets[i]]] <- read_lines(univar_figo_files[i])\n",
    "    network_figo_lists[[unified_dsets[i]]] <- read_lines(network_figo_files[i])\n",
    "}\n",
    "matrisome_df <- load_matrisome_df(matrisome_path)"
   ]
  },
  {
   "cell_type": "code",
   "execution_count": null,
   "id": "vertical-slide",
   "metadata": {},
   "outputs": [],
   "source": [
    "venn_df <- tibble(geneID = matrisome_df$gene_symbol) %>%\n",
    "    # DEMGs\n",
    "    dplyr::mutate(cesc_demg = geneID %in% dge_m_lists$unified_cervical_data) %>%\n",
    "    dplyr::mutate(ucs_demg = geneID %in% dge_m_lists$unified_uterine_data) %>%\n",
    "    dplyr::mutate(ucec_demg = geneID %in% dge_m_lists$unified_uterine_endometrial_data) %>%\n",
    "    # Univar\n",
    "    dplyr::mutate(cesc_univar = geneID %in% univar_figo_lists$unified_cervical_data) %>%\n",
    "    dplyr::mutate(ucs_univar = geneID %in% univar_figo_lists$unified_uterine_data) %>%\n",
    "    dplyr::mutate(ucec_univar = geneID %in% univar_figo_lists$unified_uterine_endometrial_data) %>%\n",
    "    # Network\n",
    "    dplyr::mutate(cesc_network = geneID %in% network_figo_lists$unified_cervical_data) %>%\n",
    "    dplyr::mutate(ucs_network = geneID %in% network_figo_lists$unified_uterine_data) %>%\n",
    "    dplyr::mutate(ucec_network = geneID %in% network_figo_lists$unified_uterine_endometrial_data)"
   ]
  },
  {
   "cell_type": "code",
   "execution_count": null,
   "id": "material-jesus",
   "metadata": {},
   "outputs": [],
   "source": [
    "venn_pal <- brewer.pal(n = 3, name = \"Set2\")\n",
    "# venn_pal <- c(\"#F8766D\", \"#00BA38\", \"#619CFF\")"
   ]
  },
  {
   "cell_type": "code",
   "execution_count": null,
   "id": "corporate-spelling",
   "metadata": {},
   "outputs": [],
   "source": [
    "make_inter_venn <- function (df, map, title = \"\") {\n",
    "    ggplot(data = df) +\n",
    "        geom_venn(\n",
    "            map,\n",
    "            fill_color = venn_pal,\n",
    "            fill_alpha = 0.7,\n",
    "            set_names = c(\"CESC\", \"UCS\", \"UCEC\"),\n",
    "            show_percentage = FALSE\n",
    "        ) +\n",
    "        theme_void() +\n",
    "        theme(\n",
    "            text = element_text(size = text_size, family = family)\n",
    "#             plot.title = element_text(face = \"bold\", size = label_size)\n",
    "        )\n",
    "}"
   ]
  },
  {
   "cell_type": "code",
   "execution_count": null,
   "id": "present-think",
   "metadata": {},
   "outputs": [],
   "source": [
    "make_inter_venn(venn_df, aes_string(A = \"cesc_demg\", B = \"ucs_demg\", C = \"ucec_demg\"), title = \"DEMG Overlaps\")\n",
    "ggsave(filename = paste0(dirs$figures_dir, \"/gene_lists/DEMG_inter_overlap.png\"), last_plot(), height = vd_ht, width = vd_wd)\n",
    "make_inter_venn(venn_df, aes_string(A = \"cesc_univar\", B = \"ucs_univar\", C = \"ucec_univar\"), title = \"Univ./Multiv. FIGO Overlaps\")\n",
    "ggsave(filename = paste0(dirs$figures_dir, \"/gene_lists/figo_univar_inter_overlap.png\"), last_plot(), height = vd_ht, width = vd_wd)\n",
    "make_inter_venn(venn_df, aes_string(A = \"cesc_network\", B = \"ucs_network\", C = \"ucec_network\"), title = \"Network FIGO Overlaps\")\n",
    "ggsave(filename = paste0(dirs$figures_dir, \"/gene_lists/figo_network_inter_overlap.png\"), last_plot(), height = vd_ht, width = vd_wd)"
   ]
  },
  {
   "cell_type": "code",
   "execution_count": null,
   "id": "micro-authority",
   "metadata": {},
   "outputs": [],
   "source": []
  }
 ],
 "metadata": {
  "kernelspec": {
   "display_name": "R",
   "language": "R",
   "name": "ir"
  },
  "language_info": {
   "codemirror_mode": "r",
   "file_extension": ".r",
   "mimetype": "text/x-r-source",
   "name": "R",
   "pygments_lexer": "r",
   "version": "4.0.3"
  }
 },
 "nbformat": 4,
 "nbformat_minor": 5
}
