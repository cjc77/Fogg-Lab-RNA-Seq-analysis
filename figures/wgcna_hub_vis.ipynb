{
 "cells": [
  {
   "cell_type": "code",
   "execution_count": 1,
   "id": "sought-field",
   "metadata": {},
   "outputs": [
    {
     "name": "stderr",
     "output_type": "stream",
     "text": [
      "-- \u001b[1mAttaching packages\u001b[22m -------------------------------------------------------------------------------------------------------------- tidyverse 1.3.0 --\n",
      "\n",
      "\u001b[32mv\u001b[39m \u001b[34mggplot2\u001b[39m 3.3.3     \u001b[32mv\u001b[39m \u001b[34mpurrr  \u001b[39m 0.3.4\n",
      "\u001b[32mv\u001b[39m \u001b[34mtibble \u001b[39m 3.0.6     \u001b[32mv\u001b[39m \u001b[34mdplyr  \u001b[39m 1.0.4\n",
      "\u001b[32mv\u001b[39m \u001b[34mtidyr  \u001b[39m 1.1.2     \u001b[32mv\u001b[39m \u001b[34mstringr\u001b[39m 1.4.0\n",
      "\u001b[32mv\u001b[39m \u001b[34mreadr  \u001b[39m 1.4.0     \u001b[32mv\u001b[39m \u001b[34mforcats\u001b[39m 0.5.1\n",
      "\n",
      "-- \u001b[1mConflicts\u001b[22m ----------------------------------------------------------------------------------------------------------------- tidyverse_conflicts() --\n",
      "\u001b[31mx\u001b[39m \u001b[34mdplyr\u001b[39m::\u001b[32mfilter()\u001b[39m masks \u001b[34mstats\u001b[39m::filter()\n",
      "\u001b[31mx\u001b[39m \u001b[34mdplyr\u001b[39m::\u001b[32mlag()\u001b[39m    masks \u001b[34mstats\u001b[39m::lag()\n",
      "\n",
      "Registered S3 method overwritten by 'GGally':\n",
      "  method from   \n",
      "  +.gg   ggplot2\n",
      "\n",
      "network: Classes for Relational Data\n",
      "Version 1.16.1 created on 2020-10-06.\n",
      "copyright (c) 2005, Carter T. Butts, University of California-Irvine\n",
      "                    Mark S. Handcock, University of California -- Los Angeles\n",
      "                    David R. Hunter, Penn State University\n",
      "                    Martina Morris, University of Washington\n",
      "                    Skye Bender-deMoll, University of Washington\n",
      " For citation information, type citation(\"network\").\n",
      " Type help(\"network-package\") to get started.\n",
      "\n",
      "\n",
      "Loading required package: statnet.common\n",
      "\n",
      "\n",
      "Attaching package: 'statnet.common'\n",
      "\n",
      "\n",
      "The following object is masked from 'package:base':\n",
      "\n",
      "    order\n",
      "\n",
      "\n",
      "sna: Tools for Social Network Analysis\n",
      "Version 2.6 created on 2020-10-5.\n",
      "copyright (c) 2005, Carter T. Butts, University of California-Irvine\n",
      " For citation information, type citation(\"sna\").\n",
      " Type help(package=\"sna\") to get started.\n",
      "\n",
      "\n"
     ]
    }
   ],
   "source": [
    "library(tidyverse)\n",
    "library(GGally)\n",
    "library(network)\n",
    "library(sna)\n",
    "\n",
    "# Custom package\n",
    "library(rutils)"
   ]
  },
  {
   "cell_type": "code",
   "execution_count": 2,
   "id": "fifty-correction",
   "metadata": {},
   "outputs": [],
   "source": [
    "dirs <- rutils::get_dev_directories(dev_paths_file = \"../dev_paths.txt\")\n",
    "unified_dsets <- c(\"unified_cervical_data\", \"unified_uterine_data\", \"unified_uterine_endometrial_data\")\n",
    "project <- c(\"CESC\", \"UCS\", \"UCEC\")\n",
    "matrisome_path <- paste0(dirs$data_dir, \"/matrisome/matrisome_hs_masterlist.tsv\")\n",
    "\n",
    "event_code <- list(\"Alive\" = 0, \"Dead\" = 1)"
   ]
  },
  {
   "cell_type": "code",
   "execution_count": 3,
   "id": "approved-plaza",
   "metadata": {},
   "outputs": [],
   "source": [
    "dset_idx <- 3\n",
    "module_idx <- 3"
   ]
  },
  {
   "cell_type": "code",
   "execution_count": 4,
   "id": "christian-highlight",
   "metadata": {},
   "outputs": [],
   "source": [
    "text_size <- 8\n",
    "guide_size <- 1\n",
    "family <- \"ArialMT\"\n",
    "dpi <- 320\n",
    "ht <- 4\n",
    "wd <- ht\n",
    "label_size <- 10\n",
    "pt_to_mm <- 5 / 14"
   ]
  },
  {
   "cell_type": "code",
   "execution_count": 5,
   "id": "visible-cardiff",
   "metadata": {},
   "outputs": [],
   "source": [
    "q_me_thresh <- 0.05\n",
    "p_mm_thresh <- 0.05\n",
    "min_hub <- 0.3\n",
    "# min_hub <- 0.25\n",
    "# min_hub <- 0\n",
    "# top_hub <- 0.75\n",
    "top_hub <- 0.9"
   ]
  },
  {
   "cell_type": "code",
   "execution_count": 6,
   "id": "finnish-foundation",
   "metadata": {},
   "outputs": [
    {
     "name": "stderr",
     "output_type": "stream",
     "text": [
      "\n",
      "\u001b[36m--\u001b[39m \u001b[1m\u001b[1mColumn specification\u001b[1m\u001b[22m \u001b[36m-------------------------------------------------------------------------------------------------------------------------------\u001b[39m\n",
      "cols(\n",
      "  .default = col_double(),\n",
      "  geneID = \u001b[31mcol_character()\u001b[39m,\n",
      "  module = \u001b[31mcol_character()\u001b[39m\n",
      ")\n",
      "\u001b[36mi\u001b[39m Use \u001b[30m\u001b[47m\u001b[30m\u001b[47m`spec()`\u001b[47m\u001b[30m\u001b[49m\u001b[39m for the full column specifications.\n",
      "\n",
      "\n",
      "\n",
      "\u001b[36m--\u001b[39m \u001b[1m\u001b[1mColumn specification\u001b[1m\u001b[22m \u001b[36m-------------------------------------------------------------------------------------------------------------------------------\u001b[39m\n",
      "cols(\n",
      "  module = \u001b[31mcol_character()\u001b[39m,\n",
      "  figo_stage_1_cor = \u001b[32mcol_double()\u001b[39m,\n",
      "  figo_stage_2_cor = \u001b[32mcol_double()\u001b[39m,\n",
      "  figo_stage_3_cor = \u001b[32mcol_double()\u001b[39m,\n",
      "  figo_stage_4_cor = \u001b[32mcol_double()\u001b[39m,\n",
      "  figo_stage_1_pval = \u001b[32mcol_double()\u001b[39m,\n",
      "  figo_stage_2_pval = \u001b[32mcol_double()\u001b[39m,\n",
      "  figo_stage_3_pval = \u001b[32mcol_double()\u001b[39m,\n",
      "  figo_stage_4_pval = \u001b[32mcol_double()\u001b[39m,\n",
      "  figo_stage_1_qval = \u001b[32mcol_double()\u001b[39m,\n",
      "  figo_stage_2_qval = \u001b[32mcol_double()\u001b[39m,\n",
      "  figo_stage_3_qval = \u001b[32mcol_double()\u001b[39m,\n",
      "  figo_stage_4_qval = \u001b[32mcol_double()\u001b[39m,\n",
      "  vital_hr = \u001b[32mcol_double()\u001b[39m,\n",
      "  vital_dev_cor = \u001b[32mcol_double()\u001b[39m,\n",
      "  vital_pval = \u001b[32mcol_double()\u001b[39m,\n",
      "  vital_qval = \u001b[32mcol_double()\u001b[39m\n",
      ")\n",
      "\n",
      "\n"
     ]
    }
   ],
   "source": [
    "network_mm_gs_df <- read_tsv(paste0(dirs$analysis_dir, \"/network/\", unified_dsets[dset_idx], \"_gene_mm_gs.tsv\"))\n",
    "network_me_sig_df <- read_tsv(paste0(dirs$analysis_dir, \"/network/\", unified_dsets[dset_idx], \"_eigengene_traits.tsv\"))\n",
    "\n",
    "lnames <- load(file = paste0(dirs$data_dir, \"/saved_network_objects/\", unified_dsets[dset_idx], \"_tumor_data.RData\"))\n",
    "lnames <- load(file = paste0(dirs$data_dir, \"/saved_network_objects/\", unified_dsets[dset_idx], \"_tumor_network.RData\"))\n",
    "\n",
    "figo_nsmg_list <- read_lines(paste0(dirs$analysis_dir, \"/gene_lists/\", unified_dsets[dset_idx], \"_figo_nsmg_list.txt\"))"
   ]
  },
  {
   "cell_type": "code",
   "execution_count": 7,
   "id": "second-manner",
   "metadata": {},
   "outputs": [],
   "source": [
    "# module_palette <- list(\n",
    "#     \"hub_1\" = \"steelblue4\",\n",
    "#     \"nonhub_1\" = \"steelblue1\",\n",
    "#     \"hub_2\" = \"goldenrod4\",\n",
    "#     \"nonhub_2\" = \"goldenrod1\",\n",
    "#     \"hub_3\" = \"firebrick4\",\n",
    "#     \"nonhub_3\" = \"firebrick1\"\n",
    "# )\n",
    "module_palette <- list(\n",
    "    # 50%\n",
    "    \"hub_1\" = \"#4080bf\",\n",
    "    # 80%\n",
    "    \"nonhub_1\" = \"#b3cce6\",\n",
    "    # 40%\n",
    "    \"hub_2\" = \"#cc9900\",\n",
    "    # 80%\n",
    "    \"nonhub_2\" = \"#ffe699\",\n",
    "    # 40%\n",
    "    \"hub_3\" = \"#cc0000\",\n",
    "    # 80%\n",
    "    \"nonhub_3\" = \"#ff9999\"\n",
    ")"
   ]
  },
  {
   "cell_type": "code",
   "execution_count": 8,
   "id": "according-decimal",
   "metadata": {},
   "outputs": [],
   "source": [
    "conn_size_map <- c(\n",
    "    \"0.3\" = 1,\n",
    "    \"0.4\" = 2,\n",
    "    \"0.5\" = 3,\n",
    "    \"0.6\" = 4,\n",
    "    \"0.7\" = 5,\n",
    "    \"0.8\" = 6,\n",
    "    \"0.9\" = 7,\n",
    "    \"1\" = 8\n",
    ")"
   ]
  },
  {
   "cell_type": "code",
   "execution_count": 9,
   "id": "metric-idaho",
   "metadata": {},
   "outputs": [
    {
     "name": "stderr",
     "output_type": "stream",
     "text": [
      "\n",
      "\n"
     ]
    }
   ],
   "source": [
    "colnames(tom) <- colnames(data_expr)\n",
    "rownames(tom) <- colnames(data_expr)\n",
    "tom_nocyc <- tom - diag(1, nrow(tom))\n",
    "\n",
    "network_meta_ls <- wgcna_meta(network_me_sig_df, network_mm_gs_df, q_me_thresh, p_mm_thresh, colnames(tom_nocyc))\n",
    "\n",
    "target_module <- network_meta_ls$modules[module_idx]\n",
    "# sig_mm_gs_df <- network_mm_gs_df %>% filter(module == target_module, geneID %in% figo_nsmg_list)\n",
    "sig_mm_gs_df <- network_mm_gs_df %>% filter(module == target_module)\n",
    "\n",
    "nsmg_mask <- colnames(data_expr) %in% figo_nsmg_list\n",
    "filt_data_expr <- data_expr[, nsmg_mask]\n",
    "filt_module_colors <- module_colors[nsmg_mask]\n",
    "\n",
    "min_hub_df <- get_most_conn_genes(filt_data_expr, filt_module_colors, soft_power, conn_vs_hub_thresh = min_hub) %>%\n",
    "    bind_rows(.id = \"module\") %>%\n",
    "    dplyr::select(geneID, everything()) %>%\n",
    "#     dplyr::filter(module == target_module, geneID %in% figo_nsmg_list)\n",
    "    dplyr::filter(module == target_module)\n",
    "\n",
    "top_hub_df <- get_most_conn_genes(filt_data_expr, filt_module_colors, soft_power, conn_vs_hub_thresh = top_hub) %>%\n",
    "    bind_rows(.id = \"module\") %>%\n",
    "    dplyr::select(geneID, everything()) %>%\n",
    "#     dplyr::filter(module == target_module, geneID %in% figo_nsmg_list)\n",
    "    dplyr::filter(module == target_module)\n",
    "\n",
    "# gene_mask <- colnames(data_expr) %in% network_meta_ls$genes\n",
    "gene_mask <- (colnames(data_expr) %in% sig_mm_gs_df$geneID) & (colnames(data_expr) %in% min_hub_df$geneID)\n",
    "tom_nocyc_sig <- tom_nocyc[gene_mask, gene_mask]\n",
    "adj <- WGCNA::adjacency(filt_data_expr[, filt_module_colors == target_module], power = soft_power, type = \"unsigned\")\n",
    "adj_nocyc <- adj - diag(1, nrow(adj))"
   ]
  },
  {
   "cell_type": "code",
   "execution_count": 10,
   "id": "strategic-delight",
   "metadata": {},
   "outputs": [],
   "source": [
    "tom_net = network(tom_nocyc_sig, directed = FALSE)"
   ]
  },
  {
   "cell_type": "code",
   "execution_count": 11,
   "id": "broadband-pontiac",
   "metadata": {},
   "outputs": [
    {
     "data": {
      "text/html": [
       "<style>\n",
       ".dl-inline {width: auto; margin:0; padding: 0}\n",
       ".dl-inline>dt, .dl-inline>dd {float: none; width: auto; display: inline-block}\n",
       ".dl-inline>dt::after {content: \":\\0020\"; padding-right: .5ex}\n",
       ".dl-inline>dt:not(:first-of-type) {padding-left: .5ex}\n",
       "</style><dl class=dl-inline><dt>0.3</dt><dd>1</dd><dt>0.4</dt><dd>2</dd><dt>0.5</dt><dd>3</dd><dt>0.6</dt><dd>4</dd><dt>0.7</dt><dd>5</dd><dt>0.8</dt><dd>6</dd><dt>0.9</dt><dd>7</dd><dt>1</dt><dd>8</dd></dl>\n"
      ],
      "text/latex": [
       "\\begin{description*}\n",
       "\\item[0.3] 1\n",
       "\\item[0.4] 2\n",
       "\\item[0.5] 3\n",
       "\\item[0.6] 4\n",
       "\\item[0.7] 5\n",
       "\\item[0.8] 6\n",
       "\\item[0.9] 7\n",
       "\\item[1] 8\n",
       "\\end{description*}\n"
      ],
      "text/markdown": [
       "0.3\n",
       ":   10.4\n",
       ":   20.5\n",
       ":   30.6\n",
       ":   40.7\n",
       ":   50.8\n",
       ":   60.9\n",
       ":   71\n",
       ":   8\n",
       "\n"
      ],
      "text/plain": [
       "0.3 0.4 0.5 0.6 0.7 0.8 0.9   1 \n",
       "  1   2   3   4   5   6   7   8 "
      ]
     },
     "metadata": {},
     "output_type": "display_data"
    }
   ],
   "source": [
    "conn_size_map"
   ]
  },
  {
   "cell_type": "code",
   "execution_count": 12,
   "id": "skilled-butter",
   "metadata": {},
   "outputs": [],
   "source": [
    "# tom_net %v% \"module\" = purrr::map(network.vertex.names(tom_net), function(x) { gene_module_table[[x]] })\n",
    "# tom_net %v% \"module\" = purrr::map(network.vertex.names(tom_net), function(x) { sig_mm_gs_df %>% filter(geneID == x) %>% pull(module) })\n",
    "# tom_net %v% \"connectivity\" = purrr::map(network.vertex.names(tom_net), function(x) { sum(tom_nocyc_sig[x, ]) })\n",
    "tom_net %v% \"conn\" = purrr::map(network.vertex.names(tom_net), function(x) { sum(adj_nocyc[x, ]) })\n",
    "# tom_net %v% \"round_pct\" = purrr::map(network.vertex.names(tom_net), function(x) { round(sum(adj_nocyc[x, ]), 1) })\n",
    "tom_net %v% \"conn_vs_hub\" = purrr::map(tom_net$val, function(x) { min_hub_df %>% filter(geneID == x$vertex.names) %>% pull(conn_vs_hub) %>% round(1) %>% as.character() })\n",
    "# tom_net %v% \"hub\" = purrr::map(network.vertex.names(tom_net), function(x) { ifelse(x %in% hub_df$geneID, \"hub\", \"not_hub\") })\n",
    "tom_net %v% \"module_color\" = purrr::map(network.vertex.names(tom_net), function(x) {\n",
    "    ifelse(x %in% top_hub_df$geneID, module_palette[[paste0(\"hub_\", module_idx)]], module_palette[[paste0(\"nonhub_\", module_idx)]])\n",
    "})"
   ]
  },
  {
   "cell_type": "code",
   "execution_count": 13,
   "id": "accompanied-crime",
   "metadata": {},
   "outputs": [
    {
     "data": {
      "image/png": "[encoded data removed]",
      "text/plain": [
       "plot without title"
      ]
     },
     "metadata": {
      "image/png": {
       "height": 420,
       "width": 420
      }
     },
     "output_type": "display_data"
    }
   ],
   "source": [
    "set.seed(123)\n",
    "lab_df <- min_hub_df %>%\n",
    "    filter(geneID %in% network.vertex.names(tom_net))\n",
    "# ggnet2(tom_net, edge.size = 0.1, edge.alpha = 0.5, color = \"module_color\", size = \"connectivity\", mode = \"kamadakawai\", size.cut = FALSE) +\n",
    "ggnet2(tom_net, edge.color = \"gray80\", edge.size = 0.1, edge.alpha = 0.5, color = \"module_color\", size = \"conn_vs_hub\",\n",
    "       size.palette = conn_size_map, mode = \"kamadakawai\", size.cut = FALSE, label = \"vertex.names\", label.size = (text_size - 3) * pt_to_mm) +\n",
    "    guides(size = FALSE) +\n",
    "#     geom_point(aes(color = color)) +\n",
    "#     geom_text(aes(label = network.vertex.names(tom_net)), nudge_y = 0.01, size = (text_size - 3) * pt_to_mm, ) +\n",
    "#     geom_text(aes(label = purrr::map(tom_net$val, function(x) { min_hub_df %>% filter(geneID == x$vertex.names) %>% pull(conn_vs_hub) %>% round(2) })), nudge_y = -0.01, size = (text_size - 3) * pt_to_mm) +\n",
    "#     geom_text(aes(label = lab_df$geneID), nudge_y = 0.01, size = (text_size - 3) * pt_to_mm) +\n",
    "#     geom_text(aes(label = round(lab_df$conn_vs_hub, 2)), nudge_y = -0.01, size = (text_size - 3) * pt_to_mm) +\n",
    "#     geom_text(aes(label = label), nudge_y = 0.01, size = (text_size - 3) * pt_to_mm) +\n",
    "#     geom_text(aes(label = round(lab_df$conn_vs_hub, 2)), nudge_y = -0.01, size = (text_size - 3) * pt_to_mm) +\n",
    "    theme(text = element_text())"
   ]
  },
  {
   "cell_type": "code",
   "execution_count": 14,
   "id": "powered-memphis",
   "metadata": {},
   "outputs": [],
   "source": [
    "netplot <- last_plot()\n",
    "ggsave(plot = netplot, paste0(dirs$figures_dir, \"/network/\", unified_dsets[dset_idx], \"_module\", module_idx, \"_hub_genes.png\"), dpi = dpi, height = ht, width = wd)"
   ]
  },
  {
   "cell_type": "code",
   "execution_count": 15,
   "id": "fiscal-bleeding",
   "metadata": {},
   "outputs": [],
   "source": [
    "assign(paste0(project[dset_idx], \"_netplot\", module_idx), netplot)\n",
    "save(\n",
    "    list = c(paste0(project[dset_idx], \"_netplot\", module_idx)),\n",
    "    file = paste0(dirs$figures_dir, \"/saved_obj/\", unified_dsets[dset_idx], \"_netplot\", module_idx, \".RData\")\n",
    ")"
   ]
  },
  {
   "cell_type": "code",
   "execution_count": null,
   "id": "persistent-clerk",
   "metadata": {},
   "outputs": [],
   "source": []
  }
 ],
 "metadata": {
  "kernelspec": {
   "display_name": "R",
   "language": "R",
   "name": "ir"
  },
  "language_info": {
   "codemirror_mode": "r",
   "file_extension": ".r",
   "mimetype": "text/x-r-source",
   "name": "R",
   "pygments_lexer": "r",
   "version": "4.0.3"
  }
 },
 "nbformat": 4,
 "nbformat_minor": 5
}
