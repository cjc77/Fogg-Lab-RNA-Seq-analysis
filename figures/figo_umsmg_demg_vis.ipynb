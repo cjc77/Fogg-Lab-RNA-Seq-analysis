{
 "cells": [
  {
   "cell_type": "code",
   "execution_count": 1,
   "id": "marked-guatemala",
   "metadata": {},
   "outputs": [
    {
     "name": "stderr",
     "output_type": "stream",
     "text": [
      "-- \u001b[1mAttaching packages\u001b[22m ------------------------------------------------------------------------------- tidyverse 1.3.0 --\n",
      "\n",
      "\u001b[32mv\u001b[39m \u001b[34mggplot2\u001b[39m 3.3.3     \u001b[32mv\u001b[39m \u001b[34mpurrr  \u001b[39m 0.3.4\n",
      "\u001b[32mv\u001b[39m \u001b[34mtibble \u001b[39m 3.0.6     \u001b[32mv\u001b[39m \u001b[34mdplyr  \u001b[39m 1.0.4\n",
      "\u001b[32mv\u001b[39m \u001b[34mtidyr  \u001b[39m 1.1.2     \u001b[32mv\u001b[39m \u001b[34mstringr\u001b[39m 1.4.0\n",
      "\u001b[32mv\u001b[39m \u001b[34mreadr  \u001b[39m 1.4.0     \u001b[32mv\u001b[39m \u001b[34mforcats\u001b[39m 0.5.1\n",
      "\n",
      "-- \u001b[1mConflicts\u001b[22m ---------------------------------------------------------------------------------- tidyverse_conflicts() --\n",
      "\u001b[31mx\u001b[39m \u001b[34mdplyr\u001b[39m::\u001b[32mfilter()\u001b[39m masks \u001b[34mstats\u001b[39m::filter()\n",
      "\u001b[31mx\u001b[39m \u001b[34mdplyr\u001b[39m::\u001b[32mlag()\u001b[39m    masks \u001b[34mstats\u001b[39m::lag()\n",
      "\n"
     ]
    }
   ],
   "source": [
    "library(tidyverse)\n",
    "\n",
    "# Custom package\n",
    "library(rutils)"
   ]
  },
  {
   "cell_type": "code",
   "execution_count": 2,
   "id": "moral-specific",
   "metadata": {},
   "outputs": [],
   "source": [
    "dirs <- rutils::get_dev_directories(dev_paths_file = \"../dev_paths.txt\")\n",
    "unified_dsets <- c(\"unified_cervical_data\", \"unified_uterine_data\", \"unified_uterine_endometrial_data\")\n",
    "projects <- c(\"CESC\", \"UCS\", \"UCEC\")"
   ]
  },
  {
   "cell_type": "code",
   "execution_count": 3,
   "id": "single-westminster",
   "metadata": {},
   "outputs": [],
   "source": [
    "# text_size <- 11\n",
    "text_size <- 8\n",
    "guide_size <- 1\n",
    "family <- \"ArialMT\"\n",
    "dpi <- 320\n",
    "ht <- 9\n",
    "wd_1 <- 5\n",
    "wd_2 <- 3"
   ]
  },
  {
   "cell_type": "code",
   "execution_count": 4,
   "id": "backed-native",
   "metadata": {},
   "outputs": [],
   "source": [
    "q_thresh <- 0.05"
   ]
  },
  {
   "cell_type": "code",
   "execution_count": 5,
   "id": "affected-sharing",
   "metadata": {
    "collapsed": true,
    "jupyter": {
     "outputs_hidden": true
    }
   },
   "outputs": [
    {
     "name": "stderr",
     "output_type": "stream",
     "text": [
      "\n",
      "\u001b[36m--\u001b[39m \u001b[1m\u001b[1mColumn specification\u001b[1m\u001b[22m \u001b[36m------------------------------------------------------------------------------------------------\u001b[39m\n",
      "cols(\n",
      "  geneID = \u001b[31mcol_character()\u001b[39m,\n",
      "  baseMean = \u001b[32mcol_double()\u001b[39m,\n",
      "  log2FoldChange = \u001b[32mcol_double()\u001b[39m,\n",
      "  lfcSE = \u001b[32mcol_double()\u001b[39m,\n",
      "  stat = \u001b[32mcol_double()\u001b[39m,\n",
      "  pvalue = \u001b[32mcol_double()\u001b[39m,\n",
      "  padj = \u001b[32mcol_double()\u001b[39m,\n",
      "  qval = \u001b[32mcol_double()\u001b[39m\n",
      ")\n",
      "\n",
      "\n",
      "\n",
      "\u001b[36m--\u001b[39m \u001b[1m\u001b[1mColumn specification\u001b[1m\u001b[22m \u001b[36m------------------------------------------------------------------------------------------------\u001b[39m\n",
      "cols(\n",
      "  geneID = \u001b[31mcol_character()\u001b[39m,\n",
      "  baseMean = \u001b[32mcol_double()\u001b[39m,\n",
      "  log2FoldChange = \u001b[32mcol_double()\u001b[39m,\n",
      "  lfcSE = \u001b[32mcol_double()\u001b[39m,\n",
      "  stat = \u001b[32mcol_double()\u001b[39m,\n",
      "  pvalue = \u001b[32mcol_double()\u001b[39m,\n",
      "  padj = \u001b[32mcol_double()\u001b[39m,\n",
      "  qval = \u001b[32mcol_double()\u001b[39m\n",
      ")\n",
      "\n",
      "\n",
      "\n",
      "\u001b[36m--\u001b[39m \u001b[1m\u001b[1mColumn specification\u001b[1m\u001b[22m \u001b[36m------------------------------------------------------------------------------------------------\u001b[39m\n",
      "cols(\n",
      "  geneID = \u001b[31mcol_character()\u001b[39m,\n",
      "  baseMean = \u001b[32mcol_double()\u001b[39m,\n",
      "  log2FoldChange = \u001b[32mcol_double()\u001b[39m,\n",
      "  lfcSE = \u001b[32mcol_double()\u001b[39m,\n",
      "  stat = \u001b[32mcol_double()\u001b[39m,\n",
      "  pvalue = \u001b[32mcol_double()\u001b[39m,\n",
      "  padj = \u001b[32mcol_double()\u001b[39m,\n",
      "  qval = \u001b[32mcol_double()\u001b[39m\n",
      ")\n",
      "\n",
      "\n"
     ]
    }
   ],
   "source": [
    "demg_lists <- list()\n",
    "deseq_dfs <- list()\n",
    "for (dset_idx in 1:3) {\n",
    "    demg_lists[[projects[dset_idx]]] <- read_lines(paste0(dirs$analysis_dir, \"/gene_lists/\", unified_dsets[dset_idx], \"_demg_list.txt\"))\n",
    "    deseq_dfs[[projects[dset_idx]]] <- read_tsv(paste0(dirs$analysis_dir, \"/deg/\", unified_dsets[dset_idx], \"_DESeq_results.tsv\")) %>%\n",
    "        dplyr::rename(base_mean = baseMean, lfc = log2FoldChange) %>%\n",
    "        dplyr::select(geneID, base_mean, lfc, qval)\n",
    "}\n",
    "\n"
   ]
  },
  {
   "cell_type": "code",
   "execution_count": 6,
   "id": "isolated-calvin",
   "metadata": {
    "collapsed": true,
    "jupyter": {
     "outputs_hidden": true
    }
   },
   "outputs": [
    {
     "name": "stderr",
     "output_type": "stream",
     "text": [
      "\n",
      "\u001b[36m--\u001b[39m \u001b[1m\u001b[1mColumn specification\u001b[1m\u001b[22m \u001b[36m------------------------------------------------------------------------------------------------\u001b[39m\n",
      "cols(\n",
      "  geneID = \u001b[31mcol_character()\u001b[39m,\n",
      "  figo_stage_1_pval = \u001b[32mcol_double()\u001b[39m,\n",
      "  figo_stage_2_pval = \u001b[32mcol_double()\u001b[39m,\n",
      "  figo_stage_3_pval = \u001b[32mcol_double()\u001b[39m,\n",
      "  figo_stage_4_pval = \u001b[32mcol_double()\u001b[39m,\n",
      "  figo_stage_1_qval = \u001b[32mcol_double()\u001b[39m,\n",
      "  figo_stage_2_qval = \u001b[32mcol_double()\u001b[39m,\n",
      "  figo_stage_3_qval = \u001b[32mcol_double()\u001b[39m,\n",
      "  figo_stage_4_qval = \u001b[32mcol_double()\u001b[39m,\n",
      "  figo_stage_1_cor = \u001b[32mcol_double()\u001b[39m,\n",
      "  figo_stage_2_cor = \u001b[32mcol_double()\u001b[39m,\n",
      "  figo_stage_3_cor = \u001b[32mcol_double()\u001b[39m,\n",
      "  figo_stage_4_cor = \u001b[32mcol_double()\u001b[39m\n",
      ")\n",
      "\n",
      "\n",
      "\n",
      "\u001b[36m--\u001b[39m \u001b[1m\u001b[1mColumn specification\u001b[1m\u001b[22m \u001b[36m------------------------------------------------------------------------------------------------\u001b[39m\n",
      "cols(\n",
      "  geneID = \u001b[31mcol_character()\u001b[39m,\n",
      "  pval = \u001b[32mcol_double()\u001b[39m,\n",
      "  padj = \u001b[32mcol_double()\u001b[39m,\n",
      "  qval = \u001b[32mcol_double()\u001b[39m\n",
      ")\n",
      "\n",
      "\n",
      "\n",
      "\u001b[36m--\u001b[39m \u001b[1m\u001b[1mColumn specification\u001b[1m\u001b[22m \u001b[36m------------------------------------------------------------------------------------------------\u001b[39m\n",
      "cols(\n",
      "  geneID = \u001b[31mcol_character()\u001b[39m,\n",
      "  figo_stage_1_coefs = \u001b[32mcol_double()\u001b[39m,\n",
      "  figo_stage_2_coefs = \u001b[32mcol_double()\u001b[39m,\n",
      "  figo_stage_3_coefs = \u001b[32mcol_double()\u001b[39m,\n",
      "  figo_stage_4_coefs = \u001b[32mcol_double()\u001b[39m\n",
      ")\n",
      "\n",
      "\n",
      "\n",
      "\u001b[36m--\u001b[39m \u001b[1m\u001b[1mColumn specification\u001b[1m\u001b[22m \u001b[36m------------------------------------------------------------------------------------------------\u001b[39m\n",
      "cols(\n",
      "  geneID = \u001b[31mcol_character()\u001b[39m,\n",
      "  figo_stage_1_pval = \u001b[32mcol_double()\u001b[39m,\n",
      "  figo_stage_2_pval = \u001b[32mcol_double()\u001b[39m,\n",
      "  figo_stage_3_pval = \u001b[32mcol_double()\u001b[39m,\n",
      "  figo_stage_4_pval = \u001b[32mcol_double()\u001b[39m,\n",
      "  figo_stage_1_qval = \u001b[32mcol_double()\u001b[39m,\n",
      "  figo_stage_2_qval = \u001b[32mcol_double()\u001b[39m,\n",
      "  figo_stage_3_qval = \u001b[32mcol_double()\u001b[39m,\n",
      "  figo_stage_4_qval = \u001b[32mcol_double()\u001b[39m,\n",
      "  figo_stage_1_cor = \u001b[32mcol_double()\u001b[39m,\n",
      "  figo_stage_2_cor = \u001b[32mcol_double()\u001b[39m,\n",
      "  figo_stage_3_cor = \u001b[32mcol_double()\u001b[39m,\n",
      "  figo_stage_4_cor = \u001b[32mcol_double()\u001b[39m\n",
      ")\n",
      "\n",
      "\n",
      "\n",
      "\u001b[36m--\u001b[39m \u001b[1m\u001b[1mColumn specification\u001b[1m\u001b[22m \u001b[36m------------------------------------------------------------------------------------------------\u001b[39m\n",
      "cols(\n",
      "  geneID = \u001b[31mcol_character()\u001b[39m,\n",
      "  pval = \u001b[32mcol_double()\u001b[39m,\n",
      "  padj = \u001b[32mcol_double()\u001b[39m,\n",
      "  qval = \u001b[32mcol_double()\u001b[39m\n",
      ")\n",
      "\n",
      "\n",
      "\n",
      "\u001b[36m--\u001b[39m \u001b[1m\u001b[1mColumn specification\u001b[1m\u001b[22m \u001b[36m------------------------------------------------------------------------------------------------\u001b[39m\n",
      "cols(\n",
      "  geneID = \u001b[31mcol_character()\u001b[39m,\n",
      "  figo_stage_1_coefs = \u001b[32mcol_double()\u001b[39m,\n",
      "  figo_stage_2_coefs = \u001b[32mcol_double()\u001b[39m,\n",
      "  figo_stage_3_coefs = \u001b[32mcol_double()\u001b[39m,\n",
      "  figo_stage_4_coefs = \u001b[32mcol_double()\u001b[39m\n",
      ")\n",
      "\n",
      "\n",
      "\n",
      "\u001b[36m--\u001b[39m \u001b[1m\u001b[1mColumn specification\u001b[1m\u001b[22m \u001b[36m------------------------------------------------------------------------------------------------\u001b[39m\n",
      "cols(\n",
      "  geneID = \u001b[31mcol_character()\u001b[39m,\n",
      "  figo_stage_1_pval = \u001b[32mcol_double()\u001b[39m,\n",
      "  figo_stage_2_pval = \u001b[32mcol_double()\u001b[39m,\n",
      "  figo_stage_3_pval = \u001b[32mcol_double()\u001b[39m,\n",
      "  figo_stage_4_pval = \u001b[32mcol_double()\u001b[39m,\n",
      "  figo_stage_1_qval = \u001b[32mcol_double()\u001b[39m,\n",
      "  figo_stage_2_qval = \u001b[32mcol_double()\u001b[39m,\n",
      "  figo_stage_3_qval = \u001b[32mcol_double()\u001b[39m,\n",
      "  figo_stage_4_qval = \u001b[32mcol_double()\u001b[39m,\n",
      "  figo_stage_1_cor = \u001b[32mcol_double()\u001b[39m,\n",
      "  figo_stage_2_cor = \u001b[32mcol_double()\u001b[39m,\n",
      "  figo_stage_3_cor = \u001b[32mcol_double()\u001b[39m,\n",
      "  figo_stage_4_cor = \u001b[32mcol_double()\u001b[39m\n",
      ")\n",
      "\n",
      "\n",
      "\n",
      "\u001b[36m--\u001b[39m \u001b[1m\u001b[1mColumn specification\u001b[1m\u001b[22m \u001b[36m------------------------------------------------------------------------------------------------\u001b[39m\n",
      "cols(\n",
      "  geneID = \u001b[31mcol_character()\u001b[39m,\n",
      "  pval = \u001b[32mcol_double()\u001b[39m,\n",
      "  padj = \u001b[32mcol_double()\u001b[39m,\n",
      "  qval = \u001b[32mcol_double()\u001b[39m\n",
      ")\n",
      "\n",
      "\n",
      "\n",
      "\u001b[36m--\u001b[39m \u001b[1m\u001b[1mColumn specification\u001b[1m\u001b[22m \u001b[36m------------------------------------------------------------------------------------------------\u001b[39m\n",
      "cols(\n",
      "  geneID = \u001b[31mcol_character()\u001b[39m,\n",
      "  figo_stage_1_coefs = \u001b[32mcol_double()\u001b[39m,\n",
      "  figo_stage_2_coefs = \u001b[32mcol_double()\u001b[39m,\n",
      "  figo_stage_3_coefs = \u001b[32mcol_double()\u001b[39m,\n",
      "  figo_stage_4_coefs = \u001b[32mcol_double()\u001b[39m\n",
      ")\n",
      "\n",
      "\n"
     ]
    }
   ],
   "source": [
    "pbc_dfs <- list()\n",
    "wa_dfs <- list()\n",
    "en_mr_dfs <- list()\n",
    "\n",
    "for (dset_idx in 1:3) {\n",
    "    pbc_dfs[[projects[dset_idx]]] <- read_tsv(paste0(dirs$analysis_dir, \"/feature_selection/\", unified_dsets[dset_idx], \"_pbc_results.tsv\")) %>%\n",
    "        dplyr::filter(geneID %in% demg_lists[[projects[dset_idx]]]) %>%\n",
    "        condense_figo(include_pvals = TRUE) %>%\n",
    "        dplyr::filter(figo_min_qval < q_thresh) %>%\n",
    "        dplyr::inner_join(deseq_dfs[[projects[dset_idx]]], by = \"geneID\")\n",
    "\n",
    "    wa_dfs[[projects[dset_idx]]] <- read_tsv(paste0(dirs$analysis_dir, \"/feature_selection/\", unified_dsets[dset_idx], \"_welch_anova_results.tsv\")) %>%\n",
    "        dplyr::filter(geneID %in% demg_lists[[projects[dset_idx]]]) %>%\n",
    "        dplyr::filter(qval < q_thresh) %>%\n",
    "        dplyr::inner_join(deseq_dfs[[projects[dset_idx]]], by = \"geneID\")\n",
    "    \n",
    "    en_mr_dfs[[projects[dset_idx]]] <- read_tsv(paste0(dirs$analysis_dir, \"/feature_selection/\", unified_dsets[dset_idx], \"_en_multinom_results.tsv\")) %>%\n",
    "        dplyr::filter(geneID %in% demg_lists[[projects[dset_idx]]]) %>%\n",
    "        dplyr::inner_join(deseq_dfs[[projects[dset_idx]]], by = \"geneID\")    \n",
    "\n",
    "#     # Extra filtering since CESC has way more than the others & UCS has more than UCEC by a lot\n",
    "#     if (dset_idx == 1) {\n",
    "#         en_mr_dfs[[projects[dset_idx]]] <- en_mr_dfs[[projects[dset_idx]]] %>%\n",
    "#             arrange(qval) %>%\n",
    "#             top_n(qval, n = nrow(.) / 2)\n",
    "#     }\n",
    "#     else if (dset_idx == 2) {\n",
    "#         en_mr_dfs[[projects[dset_idx]]] <- en_mr_dfs[[projects[dset_idx]]] %>%\n",
    "#             arrange(qval) %>%\n",
    "#             top_n(qval, n = nrow(.) / 2)\n",
    "#     }\n",
    "#     else if (dset_idx == 3) {\n",
    "#         en_mr_dfs[[projects[dset_idx]]] <- en_mr_dfs[[projects[dset_idx]]] %>%\n",
    "#             arrange(qval) %>%\n",
    "#             top_n(qval, n = nrow(.) / 2)\n",
    "#     }\n",
    "\n",
    "}"
   ]
  },
  {
   "cell_type": "code",
   "execution_count": 7,
   "id": "western-choir",
   "metadata": {},
   "outputs": [],
   "source": [
    "pbc_gene_list <- purrr::map(pbc_dfs, \"geneID\") %>% unlist()\n",
    "wa_gene_list <- purrr::map(wa_dfs, \"geneID\") %>% unlist()\n",
    "en_mr_gene_list <- purrr::map(en_mr_dfs, \"geneID\") %>% unlist()\n",
    "vis_gene_list <- pbc_gene_list %>%\n",
    "    union(wa_gene_list) %>%\n",
    "    union(en_mr_gene_list)"
   ]
  },
  {
   "cell_type": "code",
   "execution_count": 8,
   "id": "hollywood-kenya",
   "metadata": {},
   "outputs": [
    {
     "data": {
      "text/html": [
       "166"
      ],
      "text/latex": [
       "166"
      ],
      "text/markdown": [
       "166"
      ],
      "text/plain": [
       "[1] 166"
      ]
     },
     "metadata": {},
     "output_type": "display_data"
    }
   ],
   "source": [
    "length(vis_gene_list)"
   ]
  },
  {
   "cell_type": "code",
   "execution_count": 9,
   "id": "timely-copying",
   "metadata": {},
   "outputs": [],
   "source": [
    "head_fig_n <- length(vis_gene_list) / 2 + length(vis_gene_list) %% 2"
   ]
  },
  {
   "cell_type": "code",
   "execution_count": 13,
   "id": "given-grain",
   "metadata": {},
   "outputs": [
    {
     "data": {
      "text/html": [
       "<table class=\"dataframe\">\n",
       "<caption>A spec_tbl_df: 11 × 7</caption>\n",
       "<thead>\n",
       "\t<tr><th scope=col>geneID</th><th scope=col>pval</th><th scope=col>padj</th><th scope=col>qval.x</th><th scope=col>base_mean</th><th scope=col>lfc</th><th scope=col>qval.y</th></tr>\n",
       "\t<tr><th scope=col>&lt;chr&gt;</th><th scope=col>&lt;dbl&gt;</th><th scope=col>&lt;dbl&gt;</th><th scope=col>&lt;dbl&gt;</th><th scope=col>&lt;dbl&gt;</th><th scope=col>&lt;dbl&gt;</th><th scope=col>&lt;dbl&gt;</th></tr>\n",
       "</thead>\n",
       "<tbody>\n",
       "\t<tr><td>ANGPTL2  </td><td>8.794182e-04</td><td>0.05604754</td><td>0.03990539</td><td> 3208.22825</td><td>-2.089861</td><td>2.106622e-70</td></tr>\n",
       "\t<tr><td>SERPIND1 </td><td>9.641649e-04</td><td>0.05604754</td><td>0.03990539</td><td>   84.90581</td><td>-3.173144</td><td>8.973486e-29</td></tr>\n",
       "\t<tr><td>SERPINA3 </td><td>5.298833e-04</td><td>0.04787176</td><td>0.03408430</td><td> 6285.70450</td><td> 2.221874</td><td>5.062722e-13</td></tr>\n",
       "\t<tr><td>TGM3     </td><td>7.031708e-04</td><td>0.05235918</td><td>0.03727931</td><td>  215.53031</td><td> 3.903356</td><td>7.630275e-50</td></tr>\n",
       "\t<tr><td>LGI2     </td><td>4.558871e-05</td><td>0.01470996</td><td>0.01047337</td><td>  682.82144</td><td>-2.418608</td><td>5.702105e-41</td></tr>\n",
       "\t<tr><td>GDF7     </td><td>1.171590e-04</td><td>0.02674075</td><td>0.01903920</td><td>  108.12101</td><td>-2.538190</td><td>6.325562e-28</td></tr>\n",
       "\t<tr><td>PCOLCE2  </td><td>2.771917e-04</td><td>0.03407843</td><td>0.02426357</td><td>  238.30799</td><td>-1.894319</td><td>1.016617e-18</td></tr>\n",
       "\t<tr><td>SERPINA11</td><td>2.550735e-04</td><td>0.03407843</td><td>0.02426357</td><td>   22.37475</td><td> 2.874830</td><td>5.771197e-10</td></tr>\n",
       "\t<tr><td>TNFSF11  </td><td>9.494738e-04</td><td>0.05604754</td><td>0.03990539</td><td>   21.25372</td><td> 4.393216</td><td>2.805567e-55</td></tr>\n",
       "\t<tr><td>PLG      </td><td>1.381237e-04</td><td>0.02674075</td><td>0.01903920</td><td>   16.18731</td><td> 2.233456</td><td>6.394927e-13</td></tr>\n",
       "\t<tr><td>CTSB     </td><td>9.843059e-04</td><td>0.05604754</td><td>0.03990539</td><td>45023.90937</td><td> 1.118941</td><td>1.444106e-30</td></tr>\n",
       "</tbody>\n",
       "</table>\n"
      ],
      "text/latex": [
       "A spec\\_tbl\\_df: 11 × 7\n",
       "\\begin{tabular}{lllllll}\n",
       " geneID & pval & padj & qval.x & base\\_mean & lfc & qval.y\\\\\n",
       " <chr> & <dbl> & <dbl> & <dbl> & <dbl> & <dbl> & <dbl>\\\\\n",
       "\\hline\n",
       "\t ANGPTL2   & 8.794182e-04 & 0.05604754 & 0.03990539 &  3208.22825 & -2.089861 & 2.106622e-70\\\\\n",
       "\t SERPIND1  & 9.641649e-04 & 0.05604754 & 0.03990539 &    84.90581 & -3.173144 & 8.973486e-29\\\\\n",
       "\t SERPINA3  & 5.298833e-04 & 0.04787176 & 0.03408430 &  6285.70450 &  2.221874 & 5.062722e-13\\\\\n",
       "\t TGM3      & 7.031708e-04 & 0.05235918 & 0.03727931 &   215.53031 &  3.903356 & 7.630275e-50\\\\\n",
       "\t LGI2      & 4.558871e-05 & 0.01470996 & 0.01047337 &   682.82144 & -2.418608 & 5.702105e-41\\\\\n",
       "\t GDF7      & 1.171590e-04 & 0.02674075 & 0.01903920 &   108.12101 & -2.538190 & 6.325562e-28\\\\\n",
       "\t PCOLCE2   & 2.771917e-04 & 0.03407843 & 0.02426357 &   238.30799 & -1.894319 & 1.016617e-18\\\\\n",
       "\t SERPINA11 & 2.550735e-04 & 0.03407843 & 0.02426357 &    22.37475 &  2.874830 & 5.771197e-10\\\\\n",
       "\t TNFSF11   & 9.494738e-04 & 0.05604754 & 0.03990539 &    21.25372 &  4.393216 & 2.805567e-55\\\\\n",
       "\t PLG       & 1.381237e-04 & 0.02674075 & 0.01903920 &    16.18731 &  2.233456 & 6.394927e-13\\\\\n",
       "\t CTSB      & 9.843059e-04 & 0.05604754 & 0.03990539 & 45023.90937 &  1.118941 & 1.444106e-30\\\\\n",
       "\\end{tabular}\n"
      ],
      "text/markdown": [
       "\n",
       "A spec_tbl_df: 11 × 7\n",
       "\n",
       "| geneID &lt;chr&gt; | pval &lt;dbl&gt; | padj &lt;dbl&gt; | qval.x &lt;dbl&gt; | base_mean &lt;dbl&gt; | lfc &lt;dbl&gt; | qval.y &lt;dbl&gt; |\n",
       "|---|---|---|---|---|---|---|\n",
       "| ANGPTL2   | 8.794182e-04 | 0.05604754 | 0.03990539 |  3208.22825 | -2.089861 | 2.106622e-70 |\n",
       "| SERPIND1  | 9.641649e-04 | 0.05604754 | 0.03990539 |    84.90581 | -3.173144 | 8.973486e-29 |\n",
       "| SERPINA3  | 5.298833e-04 | 0.04787176 | 0.03408430 |  6285.70450 |  2.221874 | 5.062722e-13 |\n",
       "| TGM3      | 7.031708e-04 | 0.05235918 | 0.03727931 |   215.53031 |  3.903356 | 7.630275e-50 |\n",
       "| LGI2      | 4.558871e-05 | 0.01470996 | 0.01047337 |   682.82144 | -2.418608 | 5.702105e-41 |\n",
       "| GDF7      | 1.171590e-04 | 0.02674075 | 0.01903920 |   108.12101 | -2.538190 | 6.325562e-28 |\n",
       "| PCOLCE2   | 2.771917e-04 | 0.03407843 | 0.02426357 |   238.30799 | -1.894319 | 1.016617e-18 |\n",
       "| SERPINA11 | 2.550735e-04 | 0.03407843 | 0.02426357 |    22.37475 |  2.874830 | 5.771197e-10 |\n",
       "| TNFSF11   | 9.494738e-04 | 0.05604754 | 0.03990539 |    21.25372 |  4.393216 | 2.805567e-55 |\n",
       "| PLG       | 1.381237e-04 | 0.02674075 | 0.01903920 |    16.18731 |  2.233456 | 6.394927e-13 |\n",
       "| CTSB      | 9.843059e-04 | 0.05604754 | 0.03990539 | 45023.90937 |  1.118941 | 1.444106e-30 |\n",
       "\n"
      ],
      "text/plain": [
       "   geneID    pval         padj       qval.x     base_mean   lfc      \n",
       "1  ANGPTL2   8.794182e-04 0.05604754 0.03990539  3208.22825 -2.089861\n",
       "2  SERPIND1  9.641649e-04 0.05604754 0.03990539    84.90581 -3.173144\n",
       "3  SERPINA3  5.298833e-04 0.04787176 0.03408430  6285.70450  2.221874\n",
       "4  TGM3      7.031708e-04 0.05235918 0.03727931   215.53031  3.903356\n",
       "5  LGI2      4.558871e-05 0.01470996 0.01047337   682.82144 -2.418608\n",
       "6  GDF7      1.171590e-04 0.02674075 0.01903920   108.12101 -2.538190\n",
       "7  PCOLCE2   2.771917e-04 0.03407843 0.02426357   238.30799 -1.894319\n",
       "8  SERPINA11 2.550735e-04 0.03407843 0.02426357    22.37475  2.874830\n",
       "9  TNFSF11   9.494738e-04 0.05604754 0.03990539    21.25372  4.393216\n",
       "10 PLG       1.381237e-04 0.02674075 0.01903920    16.18731  2.233456\n",
       "11 CTSB      9.843059e-04 0.05604754 0.03990539 45023.90937  1.118941\n",
       "   qval.y      \n",
       "1  2.106622e-70\n",
       "2  8.973486e-29\n",
       "3  5.062722e-13\n",
       "4  7.630275e-50\n",
       "5  5.702105e-41\n",
       "6  6.325562e-28\n",
       "7  1.016617e-18\n",
       "8  5.771197e-10\n",
       "9  2.805567e-55\n",
       "10 6.394927e-13\n",
       "11 1.444106e-30"
      ]
     },
     "metadata": {},
     "output_type": "display_data"
    }
   ],
   "source": [
    "wa_dfs$UCEC"
   ]
  },
  {
   "cell_type": "markdown",
   "id": "injured-silly",
   "metadata": {},
   "source": [
    "# FIGO significance"
   ]
  },
  {
   "cell_type": "code",
   "execution_count": null,
   "id": "frozen-highland",
   "metadata": {},
   "outputs": [],
   "source": [
    "figo_df <- tibble(geneID = vis_gene_list)\n",
    "for (dset_idx in 1:3) {\n",
    "    uv_col <- paste0(projects[dset_idx], \"_uv\")\n",
    "    mv_col <- paste0(projects[dset_idx], \"_mv\")\n",
    "    figo_df <- figo_df %>%\n",
    "        mutate(\n",
    "            !!as.name(uv_col) := geneID %in% pbc_dfs[[projects[dset_idx]]]$geneID | geneID %in% wa_dfs[[projects[dset_idx]]]$geneID,\n",
    "            !!as.name(mv_col) := geneID %in% en_mr_dfs[[projects[dset_idx]]]$geneID\n",
    "        )\n",
    "}\n",
    "figo_df <- figo_df %>%\n",
    "    mutate(checks = rowSums(.[-1])) %>%\n",
    "    select(geneID, checks, CESC_mv, CESC_uv, UCEC_mv, UCEC_uv, UCS_mv, UCS_uv) %>%\n",
    "    mutate(last_true = max.col(.[,-c(1:2)], \"last\")) %>%\n",
    "    arrange(checks, desc(last_true), desc(geneID)) %>%\n",
    "    mutate(geneID_f = factor(geneID, levels = geneID)) %>%\n",
    "    select(geneID, geneID_f, last_true, everything())"
   ]
  },
  {
   "cell_type": "markdown",
   "id": "public-impression",
   "metadata": {},
   "source": [
    "# In 1 plot"
   ]
  },
  {
   "cell_type": "code",
   "execution_count": null,
   "id": "earned-snowboard",
   "metadata": {},
   "outputs": [],
   "source": [
    "# hm_figo_df <- figo_df %>%\n",
    "#     pivot_longer(cols = colnames(.[-c(1:4)]), names_to = \"sig_list\") %>%\n",
    "#     mutate(value = ifelse(value == TRUE, \"yes\", \"no\"), value = factor(value, levels = c(\"yes\", \"no\")))\n",
    "# unique_sig_list <- unique(hm_figo_df$sig_list)\n",
    "# analysis_labs <- gsub(\"uv\", \"UV\", gsub(\"mv\", \"MV\", gsub(\"_\", \" \", unique_sig_list)))\n",
    "# names(analysis_labs) <- unique_sig_list\n",
    "# ggplot(hm_figo_df) +\n",
    "#     geom_tile(aes(x = sig_list, y = geneID_f, fill = value), color = \"white\", size = 0.25) +\n",
    "#     geom_vline(xintercept = c(2.5, 4.5), color = \"black\", size = 1) +\n",
    "#     scale_fill_manual(values = c(\"yes\" = \"black\", \"no\" = \"lightgray\")) +\n",
    "#     theme_classic() +\n",
    "#     labs(x = NULL, y = NULL, fill = \"Significant\") +\n",
    "#     scale_x_discrete(labels = analysis_labs) +\n",
    "#     theme(\n",
    "#         text = element_text(size = text_size, family = family),\n",
    "#         axis.text.x = element_text(angle = 90, vjust = 0.9, hjust = 0.9),\n",
    "#         axis.line = element_blank(),\n",
    "#         axis.ticks = element_blank(),\n",
    "#     )\n",
    "\n"
   ]
  },
  {
   "cell_type": "code",
   "execution_count": null,
   "id": "acting-nigeria",
   "metadata": {},
   "outputs": [],
   "source": [
    "# figo_subcat_hm <- last_plot()\n",
    "# ggsave(paste0(dirs$figures_dir, \"/gene_lists/DE_figo_genes.png\"), figo_subcat_hm, width = wd_1, height = ht, dpi = dpi)"
   ]
  },
  {
   "cell_type": "markdown",
   "id": "cathedral-official",
   "metadata": {},
   "source": [
    "# In 2 plots"
   ]
  },
  {
   "cell_type": "code",
   "execution_count": null,
   "id": "turned-peninsula",
   "metadata": {},
   "outputs": [],
   "source": [
    "subcat_plot <- function(figo_df) {\n",
    "    \n",
    "    hm_figo_df <- figo_df %>%\n",
    "    pivot_longer(cols = colnames(.[-c(1:4)]), names_to = \"sig_list\") %>%\n",
    "    mutate(value = ifelse(value == TRUE, \"yes\", \"no\"), value = factor(value, levels = c(\"yes\", \"no\")))\n",
    "    unique_sig_list <- unique(hm_figo_df$sig_list)\n",
    "    analysis_labs <- gsub(\"uv\", \"UV\", gsub(\"mv\", \"MV\", gsub(\"_\", \" \", unique_sig_list)))\n",
    "    names(analysis_labs) <- unique_sig_list\n",
    "    \n",
    "    ggplot(data = hm_figo_df) +\n",
    "        geom_tile(aes(x = sig_list, y = geneID_f, fill = value), color = \"white\", size = 0.25) +\n",
    "        geom_vline(xintercept = c(2.5, 4.5), color = \"black\", size = 1) +\n",
    "        scale_fill_manual(values = c(\"yes\" = \"black\", \"no\" = \"lightgray\")) +\n",
    "        theme_classic() +\n",
    "        labs(x = NULL, y = NULL, fill = \"Significant\") +\n",
    "        scale_x_discrete(labels = analysis_labs) +\n",
    "        theme(\n",
    "            text = element_text(size = text_size, family = family),\n",
    "            axis.text.x = element_text(angle = 90, vjust = 0.9, hjust = 0.9),\n",
    "            axis.line = element_blank(),\n",
    "            axis.ticks = element_blank(),\n",
    "        )\n",
    "}"
   ]
  },
  {
   "cell_type": "code",
   "execution_count": null,
   "id": "objective-hunger",
   "metadata": {},
   "outputs": [],
   "source": [
    "figo_df <- figo_df %>% arrange(-dplyr::row_number())\n",
    "figo_subcat_headhm <- subcat_plot(figo_df %>% head(n = head_fig_n))\n",
    "figo_subcat_tailhm <- subcat_plot(figo_df %>% tail(n = length(vis_gene_list) - head_fig_n))"
   ]
  },
  {
   "cell_type": "code",
   "execution_count": null,
   "id": "oriented-morocco",
   "metadata": {},
   "outputs": [],
   "source": [
    "figo_subcat_headhm\n",
    "figo_subcat_tailhm"
   ]
  },
  {
   "cell_type": "markdown",
   "id": "ceramic-atlanta",
   "metadata": {},
   "source": [
    "# Directionality"
   ]
  },
  {
   "cell_type": "code",
   "execution_count": null,
   "id": "wound-multimedia",
   "metadata": {},
   "outputs": [],
   "source": [
    "dir_df <- tibble(geneID = vis_gene_list)\n",
    "for (dset_idx in 1:3) {\n",
    "    lfc_sign_col <- as.name(paste0(projects[dset_idx], \"_sign\"))\n",
    "    proj_col <- as.name(projects[dset_idx])\n",
    "    filt_deseq_df <- deseq_dfs[[projects[dset_idx]]] %>%\n",
    "        dplyr::filter(geneID %in% vis_gene_list) %>%\n",
    "        dplyr::mutate(!!lfc_sign_col := sign(lfc)) %>%\n",
    "        dplyr::select(geneID, !!lfc_sign_col)\n",
    "    dir_df <- dir_df %>%\n",
    "        mutate(\n",
    "#             !!as.name(projects[dset_idx]) := geneID %in% pbc_dfs[[projects[dset_idx]]]$geneID | geneID %in% wa_dfs[[projects[dset_idx]]]$geneID,\n",
    "#             !!as.name(mv_col) := geneID %in% en_mr_dfs[[projects[dset_idx]]]$geneID,\n",
    "            !!proj_col := geneID %in% Reduce(\n",
    "                union,\n",
    "                c(pbc_dfs[[projects[dset_idx]]]$geneID, wa_dfs[[projects[dset_idx]]]$geneID, en_mr_dfs[[projects[dset_idx]]]$geneID)\n",
    "            )\n",
    "        ) %>%\n",
    "        dplyr::left_join(filt_deseq_df, by = \"geneID\") %>%\n",
    "        mutate(!!lfc_sign_col := ifelse(!!proj_col, !!lfc_sign_col, 0))\n",
    "}\n",
    "dir_df <- dir_df %>%\n",
    "    select(geneID, CESC_sign, UCEC_sign, UCS_sign) %>%\n",
    "    rename(CESC = CESC_sign, UCEC = UCEC_sign, UCS = UCS_sign) %>%\n",
    "    mutate(first_true = max.col(abs(.[,-1]), \"first\")) %>%\n",
    "    mutate(checks = rowSums(abs(.[,2:4]))) %>%\n",
    "    arrange(checks, desc(first_true), desc(geneID)) %>%\n",
    "    mutate(geneID_f = factor(geneID, levels = geneID))"
   ]
  },
  {
   "cell_type": "markdown",
   "id": "exclusive-diameter",
   "metadata": {},
   "source": [
    "# In 1 plot"
   ]
  },
  {
   "cell_type": "code",
   "execution_count": null,
   "id": "about-order",
   "metadata": {},
   "outputs": [],
   "source": [
    "# hm_dir_df <- dir_df %>%\n",
    "#     pivot_longer(cols = c(\"CESC\", \"UCEC\", \"UCS\"), names_to = \"sig_list\", values_to = \"de_dir\") %>%\n",
    "#     mutate(de_dir = case_when(\n",
    "#         de_dir == 0 ~ \"not present\",\n",
    "#         de_dir == 1 ~ \"up\",\n",
    "#         de_dir == -1 ~ \"down\"\n",
    "#     ))\n",
    "\n",
    "# ggplot(data = hm_dir_df) +\n",
    "#     geom_tile(aes(x = sig_list, y = geneID_f, fill = de_dir), color = \"white\", size = 0.25) +\n",
    "#     geom_vline(xintercept = c(1.5, 2.5), color = \"black\", size = 1) +\n",
    "#     theme_classic() +\n",
    "# #     theme_bw() +\n",
    "#     scale_fill_manual(\n",
    "#         values = c(\"down\" = \"steelblue3\", \"not present\" = \"lightgray\", \"up\" = \"firebrick3\"),\n",
    "#         breaks = c(\"down\", \"up\")\n",
    "#     ) +\n",
    "#     theme(\n",
    "#         text = element_text(size = text_size, family = family),\n",
    "#         axis.text.x = element_text(angle = 90, vjust = 0.9, hjust = 0.9),\n",
    "#         axis.line = element_blank(),\n",
    "#         axis.ticks = element_blank(),\n",
    "#     ) +\n",
    "#     labs(y = NULL, x = NULL, fill = \"DE direction\")"
   ]
  },
  {
   "cell_type": "code",
   "execution_count": null,
   "id": "herbal-stock",
   "metadata": {},
   "outputs": [],
   "source": [
    "# figo_hm <- last_plot()\n",
    "# ggsave(paste0(dirs$figures_dir, \"/gene_lists/DE_dir_figo_genes.png\"), figo_hm, width = wd_2, height = ht, dpi = dpi)"
   ]
  },
  {
   "cell_type": "markdown",
   "id": "curious-interaction",
   "metadata": {},
   "source": [
    "# In 2 plots"
   ]
  },
  {
   "cell_type": "code",
   "execution_count": null,
   "id": "vanilla-russian",
   "metadata": {},
   "outputs": [],
   "source": [
    "dir_plot <- function(dir_df) {\n",
    "    hm_dir_df <- dir_df %>%\n",
    "        pivot_longer(cols = c(\"CESC\", \"UCEC\", \"UCS\"), names_to = \"sig_list\", values_to = \"de_dir\") %>%\n",
    "        mutate(de_dir = case_when(\n",
    "            de_dir == 0 ~ \"not sig.\",\n",
    "            de_dir == 1 ~ \"up\",\n",
    "            de_dir == -1 ~ \"down\"\n",
    "        ))\n",
    "\n",
    "    ggplot(data = hm_dir_df) +\n",
    "        geom_tile(aes(x = sig_list, y = geneID_f, fill = de_dir), color = \"black\", size = 0.25) +\n",
    "#         geom_vline(xintercept = c(1.5, 2.5), color = \"black\", size = 1) +\n",
    "        theme_classic() +\n",
    "    #     theme_bw() +\n",
    "        scale_fill_manual(\n",
    "            values = c(\"down\" = \"steelblue3\", \"not sig.\" = \"gray85\", \"up\" = \"firebrick3\"),\n",
    "            breaks = c(\"down\", \"up\", \"not sig.\")\n",
    "        ) +\n",
    "        theme(\n",
    "            text = element_text(size = text_size, family = family),\n",
    "            axis.text.x = element_text(angle = 90, vjust = 0.9/2, hjust = 0.9),\n",
    "            axis.line = element_blank(),\n",
    "            axis.ticks = element_blank(),\n",
    "        ) +\n",
    "        labs(y = NULL, x = NULL, fill = \"DE direction\")\n",
    "}"
   ]
  },
  {
   "cell_type": "code",
   "execution_count": null,
   "id": "interim-cowboy",
   "metadata": {},
   "outputs": [],
   "source": [
    "dir_df <- dir_df %>% arrange(-dplyr::row_number())\n",
    "# head_n <- \n",
    "figo_headhm <- dir_plot(dir_df %>% head(n = head_fig_n))\n",
    "figo_tailhm <- dir_plot(dir_df %>% tail(n = length(vis_gene_list) - head_fig_n))"
   ]
  },
  {
   "cell_type": "code",
   "execution_count": null,
   "id": "muslim-albuquerque",
   "metadata": {},
   "outputs": [],
   "source": [
    "figo_headhm\n",
    "figo_tailhm"
   ]
  },
  {
   "cell_type": "code",
   "execution_count": null,
   "id": "active-playlist",
   "metadata": {},
   "outputs": [],
   "source": [
    "# save(\n",
    "#     list = c(\"figo_hm\", \"figo_subcat_hm\"),\n",
    "#     file = paste0(dirs$figures_dir, \"/saved_obj/figo_hms.RData\")\n",
    "# )\n",
    "\n",
    "save(\n",
    "    list = c(\"figo_headhm\", \"figo_tailhm\", \"figo_subcat_headhm\", \"figo_subcat_tailhm\"),\n",
    "    file = paste0(dirs$figures_dir, \"/saved_obj/figo_hms.RData\")\n",
    ")"
   ]
  },
  {
   "cell_type": "code",
   "execution_count": null,
   "id": "martial-climate",
   "metadata": {},
   "outputs": [],
   "source": []
  }
 ],
 "metadata": {
  "kernelspec": {
   "display_name": "R",
   "language": "R",
   "name": "ir"
  },
  "language_info": {
   "codemirror_mode": "r",
   "file_extension": ".r",
   "mimetype": "text/x-r-source",
   "name": "R",
   "pygments_lexer": "r",
   "version": "4.0.3"
  }
 },
 "nbformat": 4,
 "nbformat_minor": 5
}
