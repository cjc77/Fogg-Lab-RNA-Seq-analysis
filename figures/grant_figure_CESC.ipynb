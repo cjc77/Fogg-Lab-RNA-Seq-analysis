{
 "cells": [
  {
   "cell_type": "code",
   "execution_count": 66,
   "id": "posted-disco",
   "metadata": {},
   "outputs": [],
   "source": [
    "library(tidyverse)\n",
    "library(cowplot)\n",
    "library(RColorBrewer)\n",
    "\n",
    "# Custom package\n",
    "library(rutils)"
   ]
  },
  {
   "cell_type": "code",
   "execution_count": 2,
   "id": "interstate-disability",
   "metadata": {},
   "outputs": [],
   "source": [
    "dirs <- rutils::get_dev_directories(dev_paths_file = \"../dev_paths.txt\")\n",
    "unified_dsets <- c(\"unified_cervical_data\", \"unified_uterine_data\", \"unified_uterine_endometrial_data\")\n",
    "projects <- c(\"CESC\", \"UCS\", \"UCEC\")"
   ]
  },
  {
   "cell_type": "code",
   "execution_count": 3,
   "id": "parliamentary-prompt",
   "metadata": {},
   "outputs": [],
   "source": [
    "text_size <- 8\n",
    "label_text_size <- 10\n",
    "small_text_size <- 8\n",
    "guide_size <- 4\n",
    "family <- \"ArialMT\"\n",
    "dpi <- 320\n",
    "fig1_ht <- 5\n",
    "fig1_wd <- 6"
   ]
  },
  {
   "cell_type": "code",
   "execution_count": 8,
   "id": "therapeutic-latvia",
   "metadata": {},
   "outputs": [],
   "source": [
    "dset_idx <- 1"
   ]
  },
  {
   "cell_type": "code",
   "execution_count": 33,
   "id": "united-cliff",
   "metadata": {
    "collapsed": true,
    "jupyter": {
     "outputs_hidden": true
    }
   },
   "outputs": [
    {
     "name": "stderr",
     "output_type": "stream",
     "text": [
      "\n",
      "\u001b[36m--\u001b[39m \u001b[1m\u001b[1mColumn specification\u001b[1m\u001b[22m \u001b[36m------------------------------------------------------------------------------------------------\u001b[39m\n",
      "cols(\n",
      "  .default = col_double(),\n",
      "  geneID = \u001b[31mcol_character()\u001b[39m\n",
      ")\n",
      "\u001b[36mi\u001b[39m Use \u001b[30m\u001b[47m\u001b[30m\u001b[47m`spec()`\u001b[47m\u001b[30m\u001b[49m\u001b[39m for the full column specifications.\n",
      "\n",
      "\n",
      "\n",
      "\u001b[36m--\u001b[39m \u001b[1m\u001b[1mColumn specification\u001b[1m\u001b[22m \u001b[36m------------------------------------------------------------------------------------------------\u001b[39m\n",
      "cols(\n",
      "  sample_name = \u001b[31mcol_character()\u001b[39m,\n",
      "  condition = \u001b[31mcol_character()\u001b[39m,\n",
      "  data_source = \u001b[31mcol_character()\u001b[39m\n",
      ")\n",
      "\n",
      "\n",
      "\n",
      "\u001b[36m--\u001b[39m \u001b[1m\u001b[1mColumn specification\u001b[1m\u001b[22m \u001b[36m------------------------------------------------------------------------------------------------\u001b[39m\n",
      "cols(\n",
      "  sample_name = \u001b[31mcol_character()\u001b[39m,\n",
      "  vital_status = \u001b[31mcol_character()\u001b[39m,\n",
      "  survival_time = \u001b[32mcol_double()\u001b[39m,\n",
      "  figo_stage = \u001b[31mcol_character()\u001b[39m,\n",
      "  days_to_last_follow_up = \u001b[32mcol_double()\u001b[39m,\n",
      "  days_to_death = \u001b[32mcol_double()\u001b[39m,\n",
      "  age_at_diagnosis = \u001b[32mcol_double()\u001b[39m,\n",
      "  age_at_index = \u001b[32mcol_double()\u001b[39m,\n",
      "  height = \u001b[32mcol_double()\u001b[39m,\n",
      "  weight = \u001b[32mcol_double()\u001b[39m,\n",
      "  bmi = \u001b[32mcol_double()\u001b[39m,\n",
      "  race = \u001b[31mcol_character()\u001b[39m,\n",
      "  ethnicity = \u001b[31mcol_character()\u001b[39m\n",
      ")\n",
      "\n",
      "\n"
     ]
    }
   ],
   "source": [
    "expr_df <- read_tsv(paste0(dirs$data_dir, \"/\", unified_dsets[dset_idx], \"/norm_matrisome_counts.tsv\")) %>%\n",
    "    filter(geneID == \"MUC4\") %>%\n",
    "    rutils::transpose_df(\"geneID\", \"sample_name\")\n",
    "coldata_df <- read_tsv(paste0(dirs$data_dir, \"/\", unified_dsets[dset_idx], \"/coldata.tsv\")) %>%\n",
    "    select(-data_source)\n",
    "survival_df <- read_tsv(paste0(dirs$data_dir, \"/\", unified_dsets[dset_idx], \"/survival_data.tsv\")) %>%\n",
    "    decode_figo_stage(to = \"c\") %>%\n",
    "    mutate(figo_stage = str_replace(figo_stage, \"figo_stage_\", \"Stage \")) %>%\n",
    "    select(sample_name, figo_stage)"
   ]
  },
  {
   "cell_type": "code",
   "execution_count": 92,
   "id": "finished-vegetation",
   "metadata": {},
   "outputs": [],
   "source": [
    "joined_df <- expr_df %>%\n",
    "    inner_join(coldata_df, by = \"sample_name\") %>%\n",
    "    left_join(survival_df, by = \"sample_name\") %>%\n",
    "    mutate(condition = str_to_title(condition)) %>%\n",
    "    mutate(condition = factor(condition), figo_stage = factor(figo_stage)) %>%\n",
    "    filter(!(condition == \"Tumor\" & is.na(figo_stage)))"
   ]
  },
  {
   "cell_type": "markdown",
   "id": "alive-anatomy",
   "metadata": {},
   "source": [
    "# By FIGO stage"
   ]
  },
  {
   "cell_type": "code",
   "execution_count": 93,
   "id": "vital-sleep",
   "metadata": {},
   "outputs": [
    {
     "data": {
      "image/png": "[encoded data removed]",
      "text/plain": [
       "plot without title"
      ]
     },
     "metadata": {
      "image/png": {
       "height": 420,
       "width": 420
      }
     },
     "output_type": "display_data"
    }
   ],
   "source": [
    "figo_color_scale <- c(\"Stage 1\" = \"#F5B7B1\", \"Stage 2\" = \"#F1948A\", \"Stage 3\" = \"#EC7063\", \"Stage 4\" = \"#E74C3C\")\n",
    "ggplot(data = joined_df %>% filter(condition == \"Tumor\")) +\n",
    "    geom_boxplot(aes(figo_stage, MUC4, fill = figo_stage)) +\n",
    "#     scale_fill_brewer(palette = \"Set2\") +\n",
    "    scale_fill_manual(name = NULL, values = figo_color_scale) +\n",
    "    theme_bw() +\n",
    "    theme(\n",
    "            text = element_text(size = text_size, family = family),\n",
    "            axis.ticks.x = element_blank(),\n",
    "            legend.position = \"none\"\n",
    "#             axis.text.x = element_text(angle = 90, vjust = 0.9, hjust = 0.9),\n",
    "#             axis.title.x = element_blank()\n",
    "    ) +\n",
    "    labs(x = \"FIGO Stage\", y = \"MUC4\")\n",
    "ggsave(paste0(dirs$figures_dir, \"/one_off/\", unified_dsets[dset_idx], \"_MUC4_by_FIGO.png\"), dpi = dpi, height = 3, width = 3)"
   ]
  },
  {
   "cell_type": "code",
   "execution_count": 97,
   "id": "quantitative-reflection",
   "metadata": {},
   "outputs": [
    {
     "data": {
      "image/png": "[encoded data removed]",
      "text/plain": [
       "plot without title"
      ]
     },
     "metadata": {
      "image/png": {
       "height": 420,
       "width": 420
      }
     },
     "output_type": "display_data"
    }
   ],
   "source": [
    "condition_color_scale <- c(\"Healthy\" = \"#3498DB\", \"Tumor\" = \"#E74C3C\")\n",
    "ggplot(data = joined_df) +\n",
    "    geom_boxplot(aes(condition, MUC4, fill = condition)) +\n",
    "    scale_fill_manual(name = NULL, values = condition_color_scale) +\n",
    "    theme_bw() +\n",
    "    theme(\n",
    "            text = element_text(size = text_size, family = family),\n",
    "            axis.ticks.x = element_blank(),\n",
    "            legend.position = \"none\"\n",
    "    ) +\n",
    "    labs(x = \"Condition\", y = \"MUC4\")\n",
    "\n",
    "ggsave(paste0(dirs$figures_dir, \"/one_off/\", unified_dsets[dset_idx], \"_MUC4_by_condition.png\"), dpi = dpi, height = 3, width = 3)"
   ]
  },
  {
   "cell_type": "markdown",
   "id": "chinese-asbestos",
   "metadata": {},
   "source": [
    "# Write out special .tsv"
   ]
  },
  {
   "cell_type": "code",
   "execution_count": 100,
   "id": "average-majority",
   "metadata": {},
   "outputs": [],
   "source": [
    "joined_df %>% write_tsv(paste0(dirs$analysis_dir, \"/one_off/cesc_muc4.tsv\"))"
   ]
  },
  {
   "cell_type": "code",
   "execution_count": 99,
   "id": "needed-mainstream",
   "metadata": {},
   "outputs": [
    {
     "data": {
      "text/html": [
       "<table class=\"dataframe\">\n",
       "<caption>A grouped_df: 5 × 2</caption>\n",
       "<thead>\n",
       "\t<tr><th scope=col>figo_stage</th><th scope=col>n</th></tr>\n",
       "\t<tr><th scope=col>&lt;fct&gt;</th><th scope=col>&lt;int&gt;</th></tr>\n",
       "</thead>\n",
       "<tbody>\n",
       "\t<tr><td>Stage 1</td><td>135</td></tr>\n",
       "\t<tr><td>Stage 2</td><td> 61</td></tr>\n",
       "\t<tr><td>Stage 3</td><td> 40</td></tr>\n",
       "\t<tr><td>Stage 4</td><td> 19</td></tr>\n",
       "\t<tr><td>NA     </td><td> 13</td></tr>\n",
       "</tbody>\n",
       "</table>\n"
      ],
      "text/latex": [
       "A grouped\\_df: 5 × 2\n",
       "\\begin{tabular}{ll}\n",
       " figo\\_stage & n\\\\\n",
       " <fct> & <int>\\\\\n",
       "\\hline\n",
       "\t Stage 1 & 135\\\\\n",
       "\t Stage 2 &  61\\\\\n",
       "\t Stage 3 &  40\\\\\n",
       "\t Stage 4 &  19\\\\\n",
       "\t NA      &  13\\\\\n",
       "\\end{tabular}\n"
      ],
      "text/markdown": [
       "\n",
       "A grouped_df: 5 × 2\n",
       "\n",
       "| figo_stage &lt;fct&gt; | n &lt;int&gt; |\n",
       "|---|---|\n",
       "| Stage 1 | 135 |\n",
       "| Stage 2 |  61 |\n",
       "| Stage 3 |  40 |\n",
       "| Stage 4 |  19 |\n",
       "| NA      |  13 |\n",
       "\n"
      ],
      "text/plain": [
       "  figo_stage n  \n",
       "1 Stage 1    135\n",
       "2 Stage 2     61\n",
       "3 Stage 3     40\n",
       "4 Stage 4     19\n",
       "5 NA          13"
      ]
     },
     "metadata": {},
     "output_type": "display_data"
    }
   ],
   "source": [
    "joined_df %>%\n",
    "    group_by(figo_stage) %>%\n",
    "    count()"
   ]
  }
 ],
 "metadata": {
  "kernelspec": {
   "display_name": "R",
   "language": "R",
   "name": "ir"
  },
  "language_info": {
   "codemirror_mode": "r",
   "file_extension": ".r",
   "mimetype": "text/x-r-source",
   "name": "R",
   "pygments_lexer": "r",
   "version": "4.0.3"
  }
 },
 "nbformat": 4,
 "nbformat_minor": 5
}
