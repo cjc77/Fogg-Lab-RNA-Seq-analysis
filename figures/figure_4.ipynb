{
 "cells": [
  {
   "cell_type": "code",
   "execution_count": 156,
   "id": "designing-longer",
   "metadata": {},
   "outputs": [],
   "source": [
    "library(tidyverse)\n",
    "library(cowplot)\n",
    "library(gridExtra)\n",
    "library(grid)\n",
    "\n",
    "# Custom package\n",
    "library(rutils)"
   ]
  },
  {
   "cell_type": "code",
   "execution_count": 242,
   "id": "earlier-norwegian",
   "metadata": {},
   "outputs": [],
   "source": [
    "dirs <- rutils::get_dev_directories(dev_paths_file = \"../dev_paths.txt\")\n",
    "unified_dsets <- c(\"unified_cervical_data\", \"unified_uterine_data\", \"unified_uterine_endometrial_data\")\n",
    "projects <- c(\"CESC\", \"UCS\", \"UCEC\")"
   ]
  },
  {
   "cell_type": "code",
   "execution_count": 243,
   "id": "metallic-penalty",
   "metadata": {},
   "outputs": [],
   "source": [
    "text_size <- 8\n",
    "label_text_size <- 10\n",
    "small_text_size <- 8\n",
    "guide_size <- 4\n",
    "family <- \"ArialMT\"\n",
    "dpi <- 320"
   ]
  },
  {
   "cell_type": "code",
   "execution_count": 244,
   "id": "facial-ridge",
   "metadata": {},
   "outputs": [],
   "source": [
    "figo_hm_figs <- c(load(paste0(dirs$figures_dir, \"/saved_obj/figo_hms.RData\")))\n",
    "survival_hm_figs <- c(load(paste0(dirs$figures_dir, \"/saved_obj/survival_hms.RData\")))"
   ]
  },
  {
   "cell_type": "code",
   "execution_count": 245,
   "id": "hollow-portable",
   "metadata": {},
   "outputs": [
    {
     "data": {
      "text/html": [
       "<style>\n",
       ".list-inline {list-style: none; margin:0; padding: 0}\n",
       ".list-inline>li {display: inline-block}\n",
       ".list-inline>li:not(:last-child)::after {content: \"\\00b7\"; padding: 0 .5ex}\n",
       "</style>\n",
       "<ol class=list-inline><li>'figo_headhm'</li><li>'figo_tailhm'</li><li>'figo_subcat_headhm'</li><li>'figo_subcat_tailhm'</li></ol>\n"
      ],
      "text/latex": [
       "\\begin{enumerate*}\n",
       "\\item 'figo\\_headhm'\n",
       "\\item 'figo\\_tailhm'\n",
       "\\item 'figo\\_subcat\\_headhm'\n",
       "\\item 'figo\\_subcat\\_tailhm'\n",
       "\\end{enumerate*}\n"
      ],
      "text/markdown": [
       "1. 'figo_headhm'\n",
       "2. 'figo_tailhm'\n",
       "3. 'figo_subcat_headhm'\n",
       "4. 'figo_subcat_tailhm'\n",
       "\n",
       "\n"
      ],
      "text/plain": [
       "[1] \"figo_headhm\"        \"figo_tailhm\"        \"figo_subcat_headhm\"\n",
       "[4] \"figo_subcat_tailhm\""
      ]
     },
     "metadata": {},
     "output_type": "display_data"
    },
    {
     "data": {
      "text/html": [
       "<style>\n",
       ".list-inline {list-style: none; margin:0; padding: 0}\n",
       ".list-inline>li {display: inline-block}\n",
       ".list-inline>li:not(:last-child)::after {content: \"\\00b7\"; padding: 0 .5ex}\n",
       "</style>\n",
       "<ol class=list-inline><li>'survival_hm'</li><li>'survival_subcat_hm'</li></ol>\n"
      ],
      "text/latex": [
       "\\begin{enumerate*}\n",
       "\\item 'survival\\_hm'\n",
       "\\item 'survival\\_subcat\\_hm'\n",
       "\\end{enumerate*}\n"
      ],
      "text/markdown": [
       "1. 'survival_hm'\n",
       "2. 'survival_subcat_hm'\n",
       "\n",
       "\n"
      ],
      "text/plain": [
       "[1] \"survival_hm\"        \"survival_subcat_hm\""
      ]
     },
     "metadata": {},
     "output_type": "display_data"
    }
   ],
   "source": [
    "figo_hm_figs\n",
    "survival_hm_figs"
   ]
  },
  {
   "cell_type": "code",
   "execution_count": 246,
   "id": "healthy-soundtrack",
   "metadata": {},
   "outputs": [],
   "source": [
    "set_margins <- function(plt, margins = c(0, 0, 0, 0)) {\n",
    "    plt + theme(plot.margin = unit(margins, \"cm\"))\n",
    "}\n",
    "\n",
    "hide_legend <- function(plt) {\n",
    "    plt + theme(legend.position=\"none\")\n",
    "}\n",
    "\n",
    "hide_axis_text <- function(plt, axis = \"x\") {\n",
    "    if (axis == \"x\") {\n",
    "        plt <- plt + theme(axis.text.x = element_blank())\n",
    "    }\n",
    "    else if (axis == \"y\") {\n",
    "        plt <- plt + theme(axis.text.y = element_blank())\n",
    "    }\n",
    "    plt\n",
    "}"
   ]
  },
  {
   "cell_type": "code",
   "execution_count": 280,
   "id": "growing-benjamin",
   "metadata": {},
   "outputs": [],
   "source": [
    "figo_hm_list <- c(\n",
    "    c(mget(\"figo_headhm\"), mget(\"figo_tailhm\")) %>%\n",
    "        purrr::map(function(p) { set_margins(p, c(0.75, 0, 0, 0)) }) %>%\n",
    "        purrr::map(function(p) { hide_legend(p) })\n",
    "#         purrr::map(function(p) { hide_axis_text(p, \"x\") })\n",
    ")\n",
    "\n",
    "survival_hm_list <- c(\n",
    "    mget(\"survival_hm\") %>%\n",
    "        purrr::map(function(p) { set_margins(p, c(0.75, 0, 0, 0)) }) %>%\n",
    "        purrr::map(function(p) { hide_legend(p) })\n",
    ")\n",
    "\n",
    "figs_grid <- plot_grid(\n",
    "    figo_hm_list[[1]],\n",
    "    plot_grid(figo_hm_list[[2]], get_legend(figo_hm_list[[1]] + theme(legend.position = \"right\", plot.margin = unit(c(0, 0, 0, 0), \"cm\"))), rel_heights = c(1, 0.463), nrow = 2),\n",
    "    NULL,\n",
    "    plot_grid(survival_hm_list[[1]], get_legend(survival_hm_list[[1]] + theme(legend.position = \"right\", plot.margin = unit(c(0, 0, 0, 0), \"cm\"))), rel_heights = c(1, 0.287), nrow = 2),\n",
    "    ncol = 4,\n",
    "    rel_widths = c(1, 1, 0.5, 1),\n",
    "    labels = c(\"FIGO significant\", \"\", \"\", \"Survival significant\"),\n",
    "    label_fontfamily = family,\n",
    "    label_size = text_size,\n",
    "    label_fontface = \"bold\",\n",
    "    hjust = 0\n",
    ")\n",
    "\n",
    "\n",
    "fig4 <- plot_grid(\n",
    "    plot_grid(NULL, NULL, NULL, ncol = 3, rel_widths = c(2/3.5, 0.5/3.5, 1/3.5), labels = c(\"A\", \"\", \"B\"), label_fontfamily = family, label_size = label_text_size, label_fontface = \"bold\", hjust = 0),\n",
    "    figs_grid,\n",
    "    nrow = 2,\n",
    "    rel_heights = c(0.025, 1)\n",
    ")\n"
   ]
  },
  {
   "cell_type": "code",
   "execution_count": 282,
   "id": "equivalent-municipality",
   "metadata": {},
   "outputs": [],
   "source": [
    "ggsave(fig4, filename = paste0(dirs$figures_dir, \"/paneled/figure4.png\"), dpi = dpi, height = 9, width = 5)\n"
   ]
  },
  {
   "cell_type": "code",
   "execution_count": null,
   "id": "opened-algorithm",
   "metadata": {},
   "outputs": [],
   "source": []
  }
 ],
 "metadata": {
  "kernelspec": {
   "display_name": "R",
   "language": "R",
   "name": "ir"
  },
  "language_info": {
   "codemirror_mode": "r",
   "file_extension": ".r",
   "mimetype": "text/x-r-source",
   "name": "R",
   "pygments_lexer": "r",
   "version": "4.0.3"
  }
 },
 "nbformat": 4,
 "nbformat_minor": 5
}
