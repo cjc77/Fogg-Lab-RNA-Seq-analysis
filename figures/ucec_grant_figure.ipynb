{
 "cells": [
  {
   "cell_type": "code",
   "execution_count": 1,
   "metadata": {},
   "outputs": [
    {
     "name": "stderr",
     "output_type": "stream",
     "text": [
      "-- \u001b[1mAttaching packages\u001b[22m ------------------------------------------------------------------------------- tidyverse 1.3.0 --\n",
      "\n",
      "\u001b[32mv\u001b[39m \u001b[34mggplot2\u001b[39m 3.3.3     \u001b[32mv\u001b[39m \u001b[34mpurrr  \u001b[39m 0.3.4\n",
      "\u001b[32mv\u001b[39m \u001b[34mtibble \u001b[39m 3.0.6     \u001b[32mv\u001b[39m \u001b[34mdplyr  \u001b[39m 1.0.4\n",
      "\u001b[32mv\u001b[39m \u001b[34mtidyr  \u001b[39m 1.1.2     \u001b[32mv\u001b[39m \u001b[34mstringr\u001b[39m 1.4.0\n",
      "\u001b[32mv\u001b[39m \u001b[34mreadr  \u001b[39m 1.4.0     \u001b[32mv\u001b[39m \u001b[34mforcats\u001b[39m 0.5.1\n",
      "\n",
      "-- \u001b[1mConflicts\u001b[22m ---------------------------------------------------------------------------------- tidyverse_conflicts() --\n",
      "\u001b[31mx\u001b[39m \u001b[34mdplyr\u001b[39m::\u001b[32mfilter()\u001b[39m masks \u001b[34mstats\u001b[39m::filter()\n",
      "\u001b[31mx\u001b[39m \u001b[34mdplyr\u001b[39m::\u001b[32mlag()\u001b[39m    masks \u001b[34mstats\u001b[39m::lag()\n",
      "\n"
     ]
    }
   ],
   "source": [
    "library(tidyverse)\n",
    "\n",
    "# Custom package\n",
    "library(rutils)"
   ]
  },
  {
   "cell_type": "code",
   "execution_count": 2,
   "metadata": {},
   "outputs": [],
   "source": [
    "dirs <- rutils::get_dev_directories(dev_paths_file = \"../dev_paths.txt\")\n",
    "projects <- c(\"CESC\", \"UCS\", \"UCEC\")\n",
    "unified_dsets <- c(\"unified_cervical_data\", \"unified_uterine_data\", \"unified_uterine_endometrial_data\")"
   ]
  },
  {
   "cell_type": "code",
   "execution_count": 3,
   "metadata": {},
   "outputs": [],
   "source": [
    "dset_idx <- 3"
   ]
  },
  {
   "cell_type": "code",
   "execution_count": 4,
   "metadata": {},
   "outputs": [],
   "source": [
    "text_size <- 8\n",
    "guide_size <- 1\n",
    "family <- \"ArialMT\"\n",
    "dpi <- 320\n",
    "ht <- 3\n",
    "wd <- 6\n",
    "\n",
    "top_n <- 10"
   ]
  },
  {
   "cell_type": "code",
   "execution_count": 5,
   "metadata": {
    "collapsed": true,
    "jupyter": {
     "outputs_hidden": true
    }
   },
   "outputs": [
    {
     "name": "stderr",
     "output_type": "stream",
     "text": [
      "\n",
      "\u001b[36m--\u001b[39m \u001b[1m\u001b[1mColumn specification\u001b[1m\u001b[22m \u001b[36m------------------------------------------------------------------------------------------------\u001b[39m\n",
      "cols(\n",
      "  type = \u001b[31mcol_character()\u001b[39m,\n",
      "  geneIDs = \u001b[31mcol_character()\u001b[39m,\n",
      "  count = \u001b[32mcol_double()\u001b[39m,\n",
      "  ratio = \u001b[32mcol_double()\u001b[39m,\n",
      "  qval = \u001b[32mcol_double()\u001b[39m,\n",
      "  ont = \u001b[31mcol_character()\u001b[39m\n",
      ")\n",
      "\n",
      "\n",
      "\n",
      "\u001b[36m--\u001b[39m \u001b[1m\u001b[1mColumn specification\u001b[1m\u001b[22m \u001b[36m------------------------------------------------------------------------------------------------\u001b[39m\n",
      "cols(\n",
      "  type = \u001b[31mcol_character()\u001b[39m,\n",
      "  geneIDs = \u001b[31mcol_character()\u001b[39m,\n",
      "  count = \u001b[32mcol_double()\u001b[39m,\n",
      "  ratio = \u001b[32mcol_double()\u001b[39m,\n",
      "  qval = \u001b[32mcol_double()\u001b[39m\n",
      ")\n",
      "\n",
      "\n",
      "\n",
      "\u001b[36m--\u001b[39m \u001b[1m\u001b[1mColumn specification\u001b[1m\u001b[22m \u001b[36m------------------------------------------------------------------------------------------------\u001b[39m\n",
      "cols(\n",
      "  type = \u001b[31mcol_character()\u001b[39m,\n",
      "  geneIDs = \u001b[31mcol_character()\u001b[39m,\n",
      "  count = \u001b[32mcol_double()\u001b[39m,\n",
      "  ratio = \u001b[32mcol_double()\u001b[39m,\n",
      "  qval = \u001b[32mcol_double()\u001b[39m,\n",
      "  ont = \u001b[31mcol_character()\u001b[39m\n",
      ")\n",
      "\n",
      "\n",
      "\n",
      "\u001b[36m--\u001b[39m \u001b[1m\u001b[1mColumn specification\u001b[1m\u001b[22m \u001b[36m------------------------------------------------------------------------------------------------\u001b[39m\n",
      "cols(\n",
      "  type = \u001b[31mcol_character()\u001b[39m,\n",
      "  geneIDs = \u001b[31mcol_character()\u001b[39m,\n",
      "  count = \u001b[32mcol_double()\u001b[39m,\n",
      "  ratio = \u001b[32mcol_double()\u001b[39m,\n",
      "  qval = \u001b[32mcol_double()\u001b[39m\n",
      ")\n",
      "\n",
      "\n",
      "\n",
      "\u001b[36m--\u001b[39m \u001b[1m\u001b[1mColumn specification\u001b[1m\u001b[22m \u001b[36m------------------------------------------------------------------------------------------------\u001b[39m\n",
      "cols(\n",
      "  type = \u001b[31mcol_character()\u001b[39m,\n",
      "  geneIDs = \u001b[31mcol_character()\u001b[39m,\n",
      "  count = \u001b[32mcol_double()\u001b[39m,\n",
      "  ratio = \u001b[32mcol_double()\u001b[39m,\n",
      "  qval = \u001b[32mcol_double()\u001b[39m,\n",
      "  ont = \u001b[31mcol_character()\u001b[39m\n",
      ")\n",
      "\n",
      "\n",
      "\n",
      "\u001b[36m--\u001b[39m \u001b[1m\u001b[1mColumn specification\u001b[1m\u001b[22m \u001b[36m------------------------------------------------------------------------------------------------\u001b[39m\n",
      "cols(\n",
      "  type = \u001b[31mcol_character()\u001b[39m,\n",
      "  geneIDs = \u001b[31mcol_character()\u001b[39m,\n",
      "  count = \u001b[32mcol_double()\u001b[39m,\n",
      "  ratio = \u001b[32mcol_double()\u001b[39m,\n",
      "  qval = \u001b[32mcol_double()\u001b[39m\n",
      ")\n",
      "\n",
      "\n",
      "\n",
      "\u001b[36m--\u001b[39m \u001b[1m\u001b[1mColumn specification\u001b[1m\u001b[22m \u001b[36m------------------------------------------------------------------------------------------------\u001b[39m\n",
      "cols(\n",
      "  type = \u001b[31mcol_character()\u001b[39m,\n",
      "  geneIDs = \u001b[31mcol_character()\u001b[39m,\n",
      "  count = \u001b[32mcol_double()\u001b[39m,\n",
      "  ratio = \u001b[32mcol_double()\u001b[39m,\n",
      "  qval = \u001b[32mcol_double()\u001b[39m,\n",
      "  ont = \u001b[31mcol_character()\u001b[39m\n",
      ")\n",
      "\n",
      "\n"
     ]
    }
   ],
   "source": [
    "deg_go_df <- read_tsv(paste0(dirs$analysis_dir, \"/enrichment/\", unified_dsets[dset_idx], \"_deg_go.tsv\"))\n",
    "deg_kegg_df <- read_tsv(paste0(dirs$analysis_dir, \"/enrichment/\", unified_dsets[dset_idx], \"_deg_kegg.tsv\")) %>%\n",
    "    mutate(type = tolower(type))\n",
    "demg_go_df <- read_tsv(paste0(dirs$analysis_dir, \"/enrichment/\", unified_dsets[dset_idx], \"_demg_go.tsv\"))\n",
    "demg_kegg_df <- read_tsv(paste0(dirs$analysis_dir, \"/enrichment/\", unified_dsets[dset_idx], \"_demg_kegg.tsv\")) %>%\n",
    "    mutate(type = tolower(type))\n",
    "figo_go_df <- read_tsv(paste0(dirs$analysis_dir, \"/enrichment/\", unified_dsets[dset_idx], \"_figo_go.tsv\"))\n",
    "figo_kegg_df <- read_tsv(paste0(dirs$analysis_dir, \"/enrichment/\", unified_dsets[dset_idx], \"_figo_kegg.tsv\")) %>%\n",
    "    mutate(type = tolower(type))\n",
    "survival_go_df <- read_tsv(paste0(dirs$analysis_dir, \"/enrichment/\", unified_dsets[dset_idx], \"_survival_go.tsv\"))\n",
    "\n",
    "# No survival KEGG results for UCEC\n",
    "if (dset_idx != 3) {\n",
    "    survival_kegg_df <- read_tsv(paste0(dirs$analysis_dir, \"/enrichment/\", unified_dsets[dset_idx], \"_survival_kegg.tsv\")) %>%\n",
    "        mutate(type = tolower(type))\n",
    "}\n"
   ]
  },
  {
   "cell_type": "code",
   "execution_count": 6,
   "metadata": {},
   "outputs": [],
   "source": [
    "ea_plot <- function(df, title = \"\", top = 40, label_size = 16, qval_thresh = 0.05, type_filter = \"\") {\n",
    "    df <- df %>%\n",
    "        dplyr::filter(qval < qval_thresh) %>%\n",
    "        {if (type_filter != \"\") dplyr::filter(., str_detect(type, type_filter)) else . } %>%\n",
    "        dplyr::top_n(n = -top, wt = qval) %>%\n",
    "        dplyr::arrange(-log10(qval)) %>%\n",
    "        dplyr::mutate(type_fact = factor(type, levels = type))\n",
    "    ggplot(df) +\n",
    "        geom_bar(aes(x = type_fact, y = -log10(qval)), stat = \"identity\") +\n",
    "        theme_classic() +\n",
    "        theme(\n",
    "            text = element_text(size = text_size, family = family),\n",
    "            axis.title.y = element_blank(),\n",
    "            axis.ticks.y = element_blank()\n",
    "        ) +\n",
    "        labs(y = bquote(paste(-log[10], italic(q), \"-value\"))) +\n",
    "        coord_flip()\n",
    "}\n"
   ]
  },
  {
   "cell_type": "markdown",
   "metadata": {},
   "source": [
    "# DEG enrichment"
   ]
  },
  {
   "cell_type": "code",
   "execution_count": 10,
   "metadata": {},
   "outputs": [],
   "source": [
    "# ea_plot(deg_go_df, top = top_n, type_filter = \"ecm|extracellular matrix|matrix\")\n",
    "# deg_goplot <- last_plot()\n",
    "# # ggsave(paste0(dirs$figures_dir, \"/enrichment/\", unified_dsets[dset_idx], \"_deg_go.png\"), deg_goplot, height = ht, width = wd, dpi = dpi)\n",
    "\n",
    "# ea_plot(deg_kegg_df, top = top_n, type_filter = \"ecm|extracellular matrix|matrix\")\n",
    "# deg_keggplot <- last_plot()\n",
    "# # ggsave(paste0(dirs$figures_dir, \"/enrichment/\", unified_dsets[dset_idx], \"_deg_kegg.png\"), deg_keggplot, height = ht, width = wd, dpi = dpi)\n",
    "\n",
    "# ea_plot(demg_go_df, top = top_n)\n",
    "# demg_goplot <- last_plot()\n",
    "# # ggsave(paste0(dirs$figures_dir, \"/enrichment/\", unified_dsets[dset_idx], \"_demg_go.png\"), demg_goplot, height = ht, width = wd, dpi = dpi)\n",
    "\n",
    "# ea_plot(demg_kegg_df, top = top_n)\n",
    "# demg_keggplot <- last_plot()\n",
    "# # ggsave(paste0(dirs$figures_dir, \"/enrichment/\", unified_dsets[dset_idx], \"_demg_kegg.png\"), demg_keggplot, height = ht, width = wd, dpi = dpi)"
   ]
  },
  {
   "cell_type": "markdown",
   "metadata": {},
   "source": [
    "# FIGO enrichment"
   ]
  },
  {
   "cell_type": "code",
   "execution_count": 9,
   "metadata": {},
   "outputs": [
    {
     "data": {
      "image/png": "[encoded data removed]",
      "text/plain": [
       "plot without title"
      ]
     },
     "metadata": {
      "image/png": {
       "height": 420,
       "width": 420
      }
     },
     "output_type": "display_data"
    },
    {
     "data": {
      "image/png": "[encoded data removed]",
      "text/plain": [
       "plot without title"
      ]
     },
     "metadata": {
      "image/png": {
       "height": 420,
       "width": 420
      }
     },
     "output_type": "display_data"
    }
   ],
   "source": [
    "ea_plot(figo_go_df, top = top_n)\n",
    "figo_goplot <- last_plot()\n",
    "# ggsave(paste0(dirs$figures_dir, \"/enrichment/\", unified_dsets[dset_idx], \"_figo_go.png\"), figo_goplot, height = ht, width = wd, dpi = dpi)\n",
    "\n",
    "ea_plot(figo_kegg_df, top = top_n)\n",
    "figo_keggplot <- last_plot()\n",
    "# ggsave(paste0(dirs$figures_dir, \"/enrichment/\", unified_dsets[dset_idx], \"_figo_kegg.png\"), figo_keggplot, height = ht, width = wd, dpi = dpi)"
   ]
  },
  {
   "cell_type": "markdown",
   "metadata": {},
   "source": [
    "# Survival enrichment"
   ]
  },
  {
   "cell_type": "code",
   "execution_count": 11,
   "metadata": {},
   "outputs": [
    {
     "data": {
      "image/png": "[encoded data removed]",
      "text/plain": [
       "plot without title"
      ]
     },
     "metadata": {
      "image/png": {
       "height": 420,
       "width": 420
      }
     },
     "output_type": "display_data"
    }
   ],
   "source": [
    "ea_plot(survival_go_df, top = top_n)\n",
    "survival_goplot <- last_plot()\n",
    "# ggsave(paste0(dirs$figures_dir, \"/enrichment/\", unified_dsets[dset_idx], \"_survival_go.png\"), survival_goplot, height = ht, width = wd, dpi = dpi)\n",
    "\n",
    "if (dset_idx != 3) {\n",
    "    ea_plot(survival_kegg_df, top = top_n)\n",
    "    survival_keggplot <- last_plot()\n",
    "#     ggsave(paste0(dirs$figures_dir, \"/enrichment/\", unified_dsets[dset_idx], \"_survival_kegg.png\"), survival_keggplot, height = ht, width = wd, dpi = dpi)\n",
    "}"
   ]
  },
  {
   "cell_type": "markdown",
   "metadata": {},
   "source": [
    "# Save out plot objects"
   ]
  },
  {
   "cell_type": "code",
   "execution_count": null,
   "metadata": {},
   "outputs": [],
   "source": [
    "assign(paste0(projects[dset_idx], \"_deg_goplot\"), deg_goplot)\n",
    "assign(paste0(projects[dset_idx], \"_deg_keggplot\"), deg_keggplot)\n",
    "assign(paste0(projects[dset_idx], \"_demg_goplot\"), demg_goplot)\n",
    "assign(paste0(projects[dset_idx], \"_demg_keggplot\"), demg_keggplot)\n",
    "\n",
    "assign(paste0(projects[dset_idx], \"_figo_goplot\"), figo_goplot)\n",
    "assign(paste0(projects[dset_idx], \"_figo_keggplot\"), figo_keggplot)\n",
    "assign(paste0(projects[dset_idx], \"_survival_goplot\"), survival_goplot)\n",
    "\n",
    "\n",
    "\n",
    "surv_ls <- c(\n",
    "    paste0(projects[dset_idx], \"_deg_goplot\"),\n",
    "    paste0(projects[dset_idx], \"_deg_keggplot\"),\n",
    "    paste0(projects[dset_idx], \"_demg_goplot\"),\n",
    "    paste0(projects[dset_idx], \"_demg_keggplot\"),\n",
    "    paste0(projects[dset_idx], \"_figo_goplot\"),\n",
    "    paste0(projects[dset_idx], \"_figo_keggplot\"),\n",
    "    paste0(projects[dset_idx], \"_survival_goplot\")\n",
    ")\n",
    "\n",
    "if (dset_idx != 3) {\n",
    "    assign(paste0(projects[dset_idx], \"_survival_keggplot\"), survival_keggplot)\n",
    "    surv_ls <- c(surv_ls, paste0(projects[dset_idx], \"_survival_keggplot\"))\n",
    "}\n",
    "\n",
    "# save(\n",
    "#     list = surv_ls,\n",
    "#     file = paste0(dirs$figures_dir, \"/saved_obj/\", unified_dsets[dset_idx], \"_enrichment_plots.RData\")\n",
    "# )"
   ]
  },
  {
   "cell_type": "code",
   "execution_count": null,
   "metadata": {},
   "outputs": [],
   "source": []
  }
 ],
 "metadata": {
  "kernelspec": {
   "display_name": "R",
   "language": "R",
   "name": "ir"
  },
  "language_info": {
   "codemirror_mode": "r",
   "file_extension": ".r",
   "mimetype": "text/x-r-source",
   "name": "R",
   "pygments_lexer": "r",
   "version": "4.0.3"
  }
 },
 "nbformat": 4,
 "nbformat_minor": 4
}
