{
 "cells": [
  {
   "cell_type": "code",
   "execution_count": null,
   "metadata": {},
   "outputs": [],
   "source": [
    "library(tidyverse)\n",
    "library(DESeq2)\n",
    "library(BiocParallel)\n",
    "library(RColorBrewer)\n",
    "library(pheatmap)\n",
    "library(umap)\n",
    "\n",
    "# Custom package\n",
    "library(rutils)"
   ]
  },
  {
   "cell_type": "code",
   "execution_count": null,
   "metadata": {},
   "outputs": [],
   "source": [
    "n_cores <- detectCores() - 2\n",
    "BiocParallel::register(MulticoreParam(n_cores))"
   ]
  },
  {
   "cell_type": "code",
   "execution_count": null,
   "metadata": {},
   "outputs": [],
   "source": [
    "projects <- c(\"TCGA-CESC\", \"TCGA-OV\", \"TCGA-UCS\", \"TCGA-UCEC\")\n",
    "data_root <- \"../../../../../mnt/d\"\n",
    "count_files <- Sys.glob(paths = paste0(data_root, \"/\", \"TCGA\", \"/\", \"matrix_count_data\", \"/*counts.tsv\"))\n",
    "coldata_files <- Sys.glob(paths = paste0(data_root, \"/\", \"TCGA\", \"/\", \"matrix_count_data\", \"/*coldata.tsv\"))"
   ]
  },
  {
   "cell_type": "code",
   "execution_count": null,
   "metadata": {},
   "outputs": [],
   "source": [
    "count_files\n",
    "coldata_files"
   ]
  },
  {
   "cell_type": "code",
   "execution_count": null,
   "metadata": {},
   "outputs": [],
   "source": [
    "data_ls <- rutils::load_and_combine_count_matrix_data(\n",
    "    count_files,\n",
    "    coldata_files,\n",
    "    count_join_symbols = c(\"ensembl_gene_id\", \"external_gene_name\")\n",
    ")"
   ]
  },
  {
   "cell_type": "code",
   "execution_count": null,
   "metadata": {},
   "outputs": [],
   "source": [
    "counts_df <- data_ls$counts_df\n",
    "coldata_df <- data_ls$coldata_df"
   ]
  },
  {
   "cell_type": "markdown",
   "metadata": {},
   "source": [
    "# Normalize counts"
   ]
  },
  {
   "cell_type": "code",
   "execution_count": null,
   "metadata": {},
   "outputs": [],
   "source": [
    "vst_counts_df <- counts_df\n",
    "vst_counts_df[, -(1:2)] = vst(as.matrix(vst_counts_df[, -(1:2)]), blind = TRUE)"
   ]
  },
  {
   "cell_type": "code",
   "execution_count": null,
   "metadata": {},
   "outputs": [],
   "source": [
    "vst_counts_df"
   ]
  },
  {
   "cell_type": "markdown",
   "metadata": {},
   "source": [
    "# Filter down to matrisome genes only"
   ]
  },
  {
   "cell_type": "code",
   "execution_count": null,
   "metadata": {},
   "outputs": [],
   "source": [
    "matrisome_df <- rutils::load_matrisome_df(\n",
    "    paste0(data_root, \"/\", \"unified_TCGA_GTEx_data\", \"/\", \"matrisome\", \"/\", \"matrisome_hs_masterlist.tsv\")\n",
    ")"
   ]
  },
  {
   "cell_type": "code",
   "execution_count": null,
   "metadata": {},
   "outputs": [],
   "source": [
    "matrisome_mask <- counts_df$external_gene_name %in% matrisome_df$gene_symbol"
   ]
  },
  {
   "cell_type": "code",
   "execution_count": null,
   "metadata": {},
   "outputs": [],
   "source": [
    "matrisome_vst_counts_df <- vst_counts_df[matrisome_mask, ]"
   ]
  },
  {
   "cell_type": "markdown",
   "metadata": {},
   "source": [
    "### Any repeat entries among matrisome genes?"
   ]
  },
  {
   "cell_type": "code",
   "execution_count": null,
   "metadata": {},
   "outputs": [],
   "source": [
    "# If these lengths are the same, there are no repeat entries\n",
    "# among nmatrisome genes\n",
    "nrow(matrisome_vst_counts_df) == length(unique(matrisome_counts_df$external_gene_name))"
   ]
  },
  {
   "cell_type": "markdown",
   "metadata": {},
   "source": [
    "### No longer care about Ensembl Gene IDs"
   ]
  },
  {
   "cell_type": "code",
   "execution_count": null,
   "metadata": {},
   "outputs": [],
   "source": [
    "matrisome_vst_counts_df <- matrisome_vst_counts_df %>%\n",
    "    dplyr::select(-ensembl_gene_id)"
   ]
  },
  {
   "cell_type": "markdown",
   "metadata": {},
   "source": [
    "# Functions"
   ]
  },
  {
   "cell_type": "code",
   "execution_count": null,
   "metadata": {},
   "outputs": [],
   "source": [
    "pca_scatter <- function(df, pc_x, pc_y, col) {\n",
    "    plt <- ggplot(df) +\n",
    "        aes_string(x = pc_x, y = pc_y, color = col) +\n",
    "        geom_point(size=1) +\n",
    "        xlab(paste0(pc_x)) + \n",
    "        ylab(paste0(pc_y)) +\n",
    "        coord_fixed()\n",
    "    return(plt)\n",
    "}\n",
    "\n",
    "\n",
    "get_project_centroids <- function(counts, coldata, projs) {\n",
    "    centroids <- list()\n",
    "    for (proj in projs) {\n",
    "        proj_mask <- coldata$project == proj\n",
    "        proj_samples <- coldata$sample_name[proj_mask]\n",
    "        # Use medians as centroids since we know there are many outliers\n",
    "        centroid <- rowMedians(as.matrix(counts[, proj_samples]))\n",
    "        centroids[[proj]] <- centroid\n",
    "    }\n",
    "    return(as_tibble(centroids))\n",
    "}\n",
    "\n",
    "\n",
    "l1_dist <- function(x, y) {\n",
    "    return(sum(abs(x - y)))\n",
    "}\n",
    "\n",
    "\n",
    "z_score <- function(x){\n",
    "    (x - mean(x)) / sd(x)\n",
    "}\n",
    "\n",
    "\n",
    "find_n_closest <- function(counts, centroid, n) {\n",
    "    res <- apply(counts, 2, function(x) { l1_dist(x, centroid) })\n",
    "    return(\n",
    "        res %>%\n",
    "            as_tibble(rownames = \"sample_name\") %>%\n",
    "            top_n(-n, wt = value)\n",
    "    )\n",
    "}\n",
    "\n",
    "\n",
    "\n",
    "heatmap_sample <- function(counts, coldata, centroids, projs, n) {\n",
    "    samples <- list()\n",
    "    for (proj in projs) {\n",
    "        proj_mask <- coldata$project == proj\n",
    "        proj_counts <- counts[, coldata$sample_name[proj_mask]]\n",
    "        centroid <- centroids[[proj]]\n",
    "        res <- find_n_closest(proj_counts, centroid, n) %>%\n",
    "            mutate(project = proj)\n",
    "        print(dim(res))\n",
    "        samples[[proj]] <- res\n",
    "    }\n",
    "    return(bind_rows(samples))\n",
    "}"
   ]
  },
  {
   "cell_type": "markdown",
   "metadata": {},
   "source": [
    "# PCA"
   ]
  },
  {
   "cell_type": "code",
   "execution_count": null,
   "metadata": {},
   "outputs": [],
   "source": [
    "pca_res <- prcomp(t(matrisome_vst_counts), center = TRUE, scale. = FALSE)"
   ]
  },
  {
   "cell_type": "code",
   "execution_count": null,
   "metadata": {},
   "outputs": [],
   "source": [
    "pca_res_df <- pca_res$x %>%\n",
    "    as_tibble(rownames = \"sample_name\") %>%\n",
    "    mutate(project = coldata_df$project)"
   ]
  },
  {
   "cell_type": "code",
   "execution_count": null,
   "metadata": {},
   "outputs": [],
   "source": [
    "pca_var <- pca_res$sdev ^ 2\n",
    "pca_pct_var <- round(pca_var / sum(pca_var) * 100, 3)\n",
    "pca_var_df <- tibble(PC = colnames(pca_res$x), var = pca_var, pct_var = pca_pct_var) %>%\n",
    "    mutate(PC_fact = factor(colnames(pca_res$x), levels = colnames(pca_res$x)))"
   ]
  },
  {
   "cell_type": "markdown",
   "metadata": {},
   "source": [
    "# Heatmaps: TODO"
   ]
  },
  {
   "cell_type": "markdown",
   "metadata": {},
   "source": [
    "## Find centroids\n",
    "We want to find centroids in a reduced space, so we use PCA results"
   ]
  },
  {
   "cell_type": "code",
   "execution_count": null,
   "metadata": {},
   "outputs": [],
   "source": [
    "# Do this with dimensionally reduced data?\n",
    "centroids <- get_project_centroids(matrisome_vst_counts_df, coldata_df, sub(\"-\", \"_\", projects))"
   ]
  },
  {
   "cell_type": "code",
   "execution_count": null,
   "metadata": {},
   "outputs": [],
   "source": [
    "hm_sample_meta_df <- heatmap_sample(matrisome_vst_counts_df, coldata_df, centroids, sub(\"-\", \"_\", projects), 10)"
   ]
  },
  {
   "cell_type": "code",
   "execution_count": null,
   "metadata": {},
   "outputs": [],
   "source": [
    "hm_sample_df <- matrisome_vst_counts_df[, hm_sample_meta_df$sample_name]"
   ]
  },
  {
   "cell_type": "markdown",
   "metadata": {},
   "source": [
    "## Drop genes where sd is too low"
   ]
  },
  {
   "cell_type": "code",
   "execution_count": null,
   "metadata": {},
   "outputs": [],
   "source": [
    "gene_sd_mask <- rowSds(as.matrix(hm_sample_df)) > 1e-10\n",
    "hm_sample_df <- hm_sample_df[gene_sd_mask, ]"
   ]
  },
  {
   "cell_type": "code",
   "execution_count": null,
   "metadata": {},
   "outputs": [],
   "source": [
    "hm_sample_coldata_df <- coldata_df %>%\n",
    "    dplyr::filter(sample_name %in% colnames(hm_sample_df))"
   ]
  },
  {
   "cell_type": "code",
   "execution_count": null,
   "metadata": {},
   "outputs": [],
   "source": [
    "dim(hm_sample_df)"
   ]
  },
  {
   "cell_type": "code",
   "execution_count": null,
   "metadata": {},
   "outputs": [],
   "source": [
    "col_dist <- as.dist(1 - cor(hm_sample_df, method = \"spearman\"))\n",
    "row_dist <- as.dist(1 - cor(t(hm_sample_df), method = \"pearson\"))\n",
    "\n",
    "col_clust <- hclust(col_dist, method = \"complete\")\n",
    "row_clust <- hclust(row_dist, method = \"complete\")"
   ]
  },
  {
   "cell_type": "code",
   "execution_count": null,
   "metadata": {},
   "outputs": [],
   "source": [
    "z_score_mat <- t(apply(hm_sample_df, 1, z_score))"
   ]
  },
  {
   "cell_type": "code",
   "execution_count": null,
   "metadata": {},
   "outputs": [],
   "source": [
    "proj_colors <- list(project = brewer.pal(n = 4, name = \"Set1\"))\n",
    "names(proj_colors$project) <- unique(hm_sample_coldata_df$project)"
   ]
  },
  {
   "cell_type": "code",
   "execution_count": null,
   "metadata": {},
   "outputs": [],
   "source": [
    "hm_sample_coldata_df_sorted <- hm_sample_coldata_df[match(colnames(hm_sample_df), hm_sample_coldata_df$sample_name), ]\n"
   ]
  },
  {
   "cell_type": "code",
   "execution_count": null,
   "metadata": {},
   "outputs": [],
   "source": [
    "hm <- pheatmap(\n",
    "    z_score_mat,\n",
    "    cluster_rows = row_clust,\n",
    "    cluster_cols = col_clust,\n",
    "    cutree_cols = 4,\n",
    "    show_rownames = FALSE,\n",
    "    show_colnames = FALSE\n",
    ")"
   ]
  },
  {
   "cell_type": "markdown",
   "metadata": {},
   "source": [
    "# PCA Plots"
   ]
  },
  {
   "cell_type": "code",
   "execution_count": null,
   "metadata": {},
   "outputs": [],
   "source": [
    "matrisome_vst_counts <- matrisome_vst_counts_df %>%\n",
    "    column_to_rownames(var = \"external_gene_name\") %>%\n",
    "    as.matrix()"
   ]
  },
  {
   "cell_type": "code",
   "execution_count": null,
   "metadata": {},
   "outputs": [],
   "source": [
    "ggplot() +\n",
    "    geom_bar(aes(x = PC_fact, y = pct_var), data = pca_var_df[1:10, ], stat = \"identity\", fill = \"steelblue\") +\n",
    "    xlab(label = \"principal component\") +\n",
    "    ylab(label = \"% variance\") +\n",
    "    theme(panel.grid.major = element_blank())\n",
    "ggsave(filename = paste(data_root, \"TCGA\", \"figures\", \"screeplot.png\", sep = \"/\"), last_plot())"
   ]
  },
  {
   "cell_type": "code",
   "execution_count": null,
   "metadata": {},
   "outputs": [],
   "source": [
    "pca_scatter(pca_res_df, \"PC1\", \"PC2\", \"project\")\n",
    "ggsave(filename = paste(data_root, \"TCGA\", \"figures\", \"PC2_vs_PC1.png\", sep = \"/\"), last_plot())\n",
    "pca_scatter(pca_res_df, \"PC2\", \"PC3\", \"project\")\n",
    "ggsave(filename = paste(data_root, \"TCGA\", \"figures\", \"PC3_vs_PC2.png\", sep = \"/\"), last_plot())"
   ]
  },
  {
   "cell_type": "code",
   "execution_count": null,
   "metadata": {},
   "outputs": [],
   "source": [
    "pca_pivot_df <- pca_res_df%>%\n",
    "    dplyr::select(sample_name, PC1:PC4, project) %>%\n",
    "    pivot_longer(cols = PC1:PC4, names_to = \"PC\", values_to = \"loadings\")"
   ]
  },
  {
   "cell_type": "code",
   "execution_count": null,
   "metadata": {},
   "outputs": [],
   "source": [
    "head(pca_pivot_df)"
   ]
  },
  {
   "cell_type": "code",
   "execution_count": null,
   "metadata": {},
   "outputs": [],
   "source": [
    "ggplot() +\n",
    "    geom_bar(data = pca_pivot_df, aes(x=sample_name, y=loadings, fill=project), stat = \"identity\") +\n",
    "    facet_wrap(~PC) +\n",
    "    coord_flip() +\n",
    "    theme_bw() + \n",
    "    theme(\n",
    "        axis.text.y = element_blank(),\n",
    "        axis.ticks.y = element_blank(),\n",
    "        axis.title.y = element_blank()\n",
    "    )\n",
    "ggsave(filename = paste(data_root, \"TCGA\", \"figures\", \"small_multiples_plot.png\", sep = \"/\"), plot = last_plot())"
   ]
  },
  {
   "cell_type": "code",
   "execution_count": null,
   "metadata": {},
   "outputs": [],
   "source": [
    "res_umap <- umap(t(matrisome_vst_counts))"
   ]
  },
  {
   "cell_type": "code",
   "execution_count": null,
   "metadata": {},
   "outputs": [],
   "source": [
    "colnames(res_umap$layout) <- c(\"x1\", \"x2\")\n",
    "umap_df <- res_umap$layout %>%\n",
    "    as_tibble() %>%\n",
    "    bind_cols(coldata_df)\n",
    "dim(umap_df)\n",
    "head(umap_df)"
   ]
  },
  {
   "cell_type": "code",
   "execution_count": null,
   "metadata": {},
   "outputs": [],
   "source": [
    "ggplot() +\n",
    "    geom_point(aes(x = x1, y = x2, color = project), data = umap_df, size = 1)\n",
    "ggsave(filename = paste(data_root, \"TCGA\", \"figures\", \"umap.png\", sep = \"/\"), plot = last_plot())"
   ]
  },
  {
   "cell_type": "code",
   "execution_count": null,
   "metadata": {},
   "outputs": [],
   "source": []
  }
 ],
 "metadata": {
  "kernelspec": {
   "display_name": "R",
   "language": "R",
   "name": "ir"
  },
  "language_info": {
   "codemirror_mode": "r",
   "file_extension": ".r",
   "mimetype": "text/x-r-source",
   "name": "R",
   "pygments_lexer": "r",
   "version": "3.6.3"
  }
 },
 "nbformat": 4,
 "nbformat_minor": 4
}
