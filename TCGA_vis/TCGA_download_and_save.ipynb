{
 "cells": [
  {
   "cell_type": "code",
   "execution_count": 26,
   "metadata": {},
   "outputs": [],
   "source": [
    "library(tidyverse)\n",
    "library(TCGAbiolinks)\n",
    "library(HDF5Array)"
   ]
  },
  {
   "cell_type": "markdown",
   "metadata": {},
   "source": [
    "## Constants"
   ]
  },
  {
   "cell_type": "code",
   "execution_count": 2,
   "metadata": {},
   "outputs": [],
   "source": [
    "projects <- c(\"TCGA-CESC\", \"TCGA-OV\", \"TCGA-UCS\", \"TCGA-UCEC\")\n",
    "# projects <- c(\"TCGA-CESC\", \"TCGA-OV\")\n",
    "data_root <- \"../../../../../mnt/d/TCGA\"\n",
    "project_dirs <- sapply(\n",
    "    projects, \n",
    "    (function(p) paste0(data_root, \"/\", p, \"-\", \"TCGAbiolinks\"))\n",
    ")"
   ]
  },
  {
   "cell_type": "markdown",
   "metadata": {},
   "source": [
    "## Functions"
   ]
  },
  {
   "cell_type": "code",
   "execution_count": 12,
   "metadata": {},
   "outputs": [],
   "source": [
    "rna_seq_query <- function(p) {\n",
    "    return(GDCquery(\n",
    "        project = p,\n",
    "        data.category = \"Transcriptome Profiling\",\n",
    "        data.type = \"Gene Expression Quantification\",\n",
    "        workflow.type = \"HTSeq - Counts\"\n",
    "    ))\n",
    "}"
   ]
  },
  {
   "cell_type": "markdown",
   "metadata": {},
   "source": [
    "## Download and save data\n",
    "No loops used here since API is really finicky and quits abruptly"
   ]
  },
  {
   "cell_type": "code",
   "execution_count": 17,
   "metadata": {},
   "outputs": [
    {
     "name": "stderr",
     "output_type": "stream",
     "text": [
      "--------------------------------------\n",
      "o GDCquery: Searching in GDC database\n",
      "--------------------------------------\n",
      "Genome of reference: hg38\n",
      "--------------------------------------------\n",
      "oo Accessing GDC. This might take a while...\n",
      "--------------------------------------------\n",
      "ooo Project: TCGA-CESC\n",
      "--------------------\n",
      "oo Filtering results\n",
      "--------------------\n",
      "ooo By data.type\n",
      "ooo By workflow.type\n",
      "----------------\n",
      "oo Checking data\n",
      "----------------\n",
      "ooo Check if there are duplicated cases\n",
      "ooo Check if there results for the query\n",
      "-------------------\n",
      "o Preparing output\n",
      "-------------------\n",
      "Downloading data for project TCGA-CESC\n",
      "Of the 309 files for download 309 already exist.\n",
      "All samples have been already downloaded\n"
     ]
    },
    {
     "name": "stdout",
     "output_type": "stream",
     "text": [
      "|====================================================|100%                      Completed after 25 s \n"
     ]
    },
    {
     "name": "stderr",
     "output_type": "stream",
     "text": [
      "Starting to add information to samples\n",
      " => Add clinical information to samples\n",
      "Add FFPE information. More information at: \n",
      "=> https://cancergenome.nih.gov/cancersselected/biospeccriteria \n",
      "=> http://gdac.broadinstitute.org/runs/sampleReports/latest/FPPP_FFPE_Cases.html\n",
      " => Adding subtype information to samples\n",
      "cesc subtype information from:doi:10.1038/nature21386\n",
      "Accessing www.ensembl.org to get gene information\n",
      "Downloading genome information (try:0) Using: Human genes (GRCh38.p13)\n",
      "Cache found\n",
      "From the 60483 genes we couldn't map 3990\n"
     ]
    }
   ],
   "source": [
    "proj_idx <- 1\n",
    "q <- rna_seq_query(projects[proj_idx])\n",
    "GDCdownload(q, method = \"api\", directory = data_root, files.per.chunk = 10)\n",
    "data <- GDCprepare(q, directory = data_root)"
   ]
  },
  {
   "cell_type": "code",
   "execution_count": 31,
   "metadata": {},
   "outputs": [
    {
     "data": {
      "text/plain": [
       "class: RangedSummarizedExperiment \n",
       "dim: 56493 309 \n",
       "metadata(1): data_release\n",
       "assays(1): HTSeq - Counts\n",
       "rownames(56493): ENSG00000000003 ENSG00000000005 ... ENSG00000281912\n",
       "  ENSG00000281920\n",
       "rowData names(3): ensembl_gene_id external_gene_name\n",
       "  original_ensembl_gene_id\n",
       "colnames(309): TCGA-JX-A3Q8-01A-11R-A21T-07\n",
       "  TCGA-C5-A1BK-01B-11R-A13Y-07 ... TCGA-EK-A2R8-01A-21R-A18M-07\n",
       "  TCGA-JW-A5VK-01A-11R-A28H-07\n",
       "colData names(131): sample patient ... subtype_GEXP.APOBEC3H.164668\n",
       "  subtype_patient"
      ]
     },
     "metadata": {},
     "output_type": "display_data"
    },
    {
     "ename": "ERROR",
     "evalue": "Error in .check_and_delete_files(rds_path, h5_path, replace): Files \"../../../../../mnt/d/TCGA/saved_RSE_objects/TCGA_CESCse.rds\"\n  and/or \"../../../../../mnt/d/TCGA/saved_RSE_objects/TCGA_CESCassays.h5\"\n  already exist. Use a different 'prefix' or use 'replace=TRUE' if you\n  really want to replace them.\n",
     "output_type": "error",
     "traceback": [
      "Error in .check_and_delete_files(rds_path, h5_path, replace): Files \"../../../../../mnt/d/TCGA/saved_RSE_objects/TCGA_CESCse.rds\"\n  and/or \"../../../../../mnt/d/TCGA/saved_RSE_objects/TCGA_CESCassays.h5\"\n  already exist. Use a different 'prefix' or use 'replace=TRUE' if you\n  really want to replace them.\nTraceback:\n",
      "1. saveHDF5SummarizedExperiment(data, dir = paste0(data_root, \"/\", \n .     \"saved_RSE_objects\"), prefix = sub(\"-\", \"_\", projects[proj_idx]))",
      "2. .check_and_delete_files(rds_path, h5_path, replace)",
      "3. stop(wmsg(\"Files \\\"\", rds_path, \"\\\" and/or \\\"\", h5_path, \"\\\" \", \n .     \"already exist. Use a different 'prefix' or use \", \"'replace=TRUE' if you really want to replace them.\"))"
     ]
    }
   ],
   "source": [
    "data\n",
    "saveHDF5SummarizedExperiment(data, dir = paste0(data_root, \"/\", \"saved_RSE_objects\"), prefix = sub(\"-\", \"_\", projects[proj_idx]))"
   ]
  },
  {
   "cell_type": "code",
   "execution_count": 32,
   "metadata": {},
   "outputs": [
    {
     "name": "stderr",
     "output_type": "stream",
     "text": [
      "--------------------------------------\n",
      "o GDCquery: Searching in GDC database\n",
      "--------------------------------------\n",
      "Genome of reference: hg38\n",
      "--------------------------------------------\n",
      "oo Accessing GDC. This might take a while...\n",
      "--------------------------------------------\n",
      "ooo Project: TCGA-OV\n",
      "--------------------\n",
      "oo Filtering results\n",
      "--------------------\n",
      "ooo By data.type\n",
      "ooo By workflow.type\n",
      "----------------\n",
      "oo Checking data\n",
      "----------------\n",
      "ooo Check if there are duplicated cases\n",
      "ooo Check if there results for the query\n",
      "-------------------\n",
      "o Preparing output\n",
      "-------------------\n",
      "Downloading data for project TCGA-OV\n",
      "Of the 379 files for download 379 already exist.\n",
      "All samples have been already downloaded\n"
     ]
    },
    {
     "name": "stdout",
     "output_type": "stream",
     "text": [
      "|====================================================|100%                      Completed after 32 s \n"
     ]
    },
    {
     "name": "stderr",
     "output_type": "stream",
     "text": [
      "Starting to add information to samples\n",
      " => Add clinical information to samples\n",
      "Add FFPE information. More information at: \n",
      "=> https://cancergenome.nih.gov/cancersselected/biospeccriteria \n",
      "=> http://gdac.broadinstitute.org/runs/sampleReports/latest/FPPP_FFPE_Cases.html\n",
      " => Adding subtype information to samples\n",
      "Accessing www.ensembl.org to get gene information\n",
      "Downloading genome information (try:0) Using: Human genes (GRCh38.p13)\n",
      "Cache found\n",
      "From the 60483 genes we couldn't map 3990\n"
     ]
    }
   ],
   "source": [
    "proj_idx <- 2\n",
    "q <- rna_seq_query(projects[proj_idx])\n",
    "GDCdownload(q, method = \"api\", directory = data_root, files.per.chunk = 10)\n",
    "data <- GDCprepare(q, directory = data_root)"
   ]
  },
  {
   "cell_type": "code",
   "execution_count": 36,
   "metadata": {},
   "outputs": [
    {
     "data": {
      "text/plain": [
       "class: RangedSummarizedExperiment \n",
       "dim: 56493 379 \n",
       "metadata(1): data_release\n",
       "assays(1): HTSeq - Counts\n",
       "rownames(56493): ENSG00000000003 ENSG00000000005 ... ENSG00000281912\n",
       "  ENSG00000281920\n",
       "rowData names(3): ensembl_gene_id external_gene_name\n",
       "  original_ensembl_gene_id\n",
       "colnames(379): TCGA-5X-AA5U-01A-11R-A406-31\n",
       "  TCGA-25-2400-01A-01R-1569-13 ... TCGA-13-1498-01A-01R-1565-13\n",
       "  TCGA-31-1953-01A-01R-1568-13\n",
       "colData names(63): sample patient ... name is_ffpe"
      ]
     },
     "metadata": {},
     "output_type": "display_data"
    }
   ],
   "source": [
    "data\n",
    "saveHDF5SummarizedExperiment(data, dir = paste0(data_root, \"/\", \"saved_RSE_objects\"), prefix = sub(\"-\", \"_\", projects[proj_idx]))"
   ]
  },
  {
   "cell_type": "code",
   "execution_count": 41,
   "metadata": {},
   "outputs": [
    {
     "name": "stderr",
     "output_type": "stream",
     "text": [
      "--------------------------------------\n",
      "o GDCquery: Searching in GDC database\n",
      "--------------------------------------\n",
      "Genome of reference: hg38\n",
      "--------------------------------------------\n",
      "oo Accessing GDC. This might take a while...\n",
      "--------------------------------------------\n",
      "ooo Project: TCGA-UCS\n",
      "--------------------\n",
      "oo Filtering results\n",
      "--------------------\n",
      "ooo By data.type\n",
      "ooo By workflow.type\n",
      "----------------\n",
      "oo Checking data\n",
      "----------------\n",
      "ooo Check if there are duplicated cases\n",
      "ooo Check if there results for the query\n",
      "-------------------\n",
      "o Preparing output\n",
      "-------------------\n",
      "Downloading data for project TCGA-UCS\n",
      "Of the 56 files for download 56 already exist.\n",
      "All samples have been already downloaded\n"
     ]
    },
    {
     "name": "stdout",
     "output_type": "stream",
     "text": [
      "|====================================================|100%                      Completed after 5 s \n"
     ]
    },
    {
     "name": "stderr",
     "output_type": "stream",
     "text": [
      "Starting to add information to samples\n",
      " => Add clinical information to samples\n",
      "Add FFPE information. More information at: \n",
      "=> https://cancergenome.nih.gov/cancersselected/biospeccriteria \n",
      "=> http://gdac.broadinstitute.org/runs/sampleReports/latest/FPPP_FFPE_Cases.html\n",
      " => Adding subtype information to samples\n",
      "ucs subtype information from:doi:10.1016/j.ccell.2017.02.010\n",
      "Accessing www.ensembl.org to get gene information\n",
      "Downloading genome information (try:0) Using: Human genes (GRCh38.p13)\n",
      "Cache found\n",
      "From the 60483 genes we couldn't map 3990\n"
     ]
    }
   ],
   "source": [
    "proj_idx <- 3\n",
    "q <- rna_seq_query(projects[proj_idx])\n",
    "GDCdownload(q, method = \"api\", directory = data_root, files.per.chunk = 10)\n",
    "data <- GDCprepare(q, directory = data_root)"
   ]
  },
  {
   "cell_type": "code",
   "execution_count": 42,
   "metadata": {},
   "outputs": [
    {
     "data": {
      "text/plain": [
       "class: RangedSummarizedExperiment \n",
       "dim: 56493 56 \n",
       "metadata(1): data_release\n",
       "assays(1): HTSeq - Counts\n",
       "rownames(56493): ENSG00000000003 ENSG00000000005 ... ENSG00000281912\n",
       "  ENSG00000281920\n",
       "rowData names(3): ensembl_gene_id external_gene_name\n",
       "  original_ensembl_gene_id\n",
       "colnames(56): TCGA-N8-A4PO-01A-11R-A28V-07 TCGA-N5-A4RA-01A-11R-A28V-07\n",
       "  ... TCGA-N9-A4Q7-01A-11R-A28V-07 TCGA-NG-A4VW-01A-11R-A28V-07\n",
       "colData names(128): sample patient ... subtype_histologic.subtype\n",
       "  subtype_Estimated_Carc_percent"
      ]
     },
     "metadata": {},
     "output_type": "display_data"
    }
   ],
   "source": [
    "data\n",
    "saveHDF5SummarizedExperiment(data, dir = paste0(data_root, \"/\", \"saved_RSE_objects\"), prefix = sub(\"-\", \"_\", projects[proj_idx]))"
   ]
  },
  {
   "cell_type": "code",
   "execution_count": 43,
   "metadata": {},
   "outputs": [
    {
     "name": "stderr",
     "output_type": "stream",
     "text": [
      "--------------------------------------\n",
      "o GDCquery: Searching in GDC database\n",
      "--------------------------------------\n",
      "Genome of reference: hg38\n",
      "--------------------------------------------\n",
      "oo Accessing GDC. This might take a while...\n",
      "--------------------------------------------\n",
      "ooo Project: TCGA-UCEC\n",
      "--------------------\n",
      "oo Filtering results\n",
      "--------------------\n",
      "ooo By data.type\n",
      "ooo By workflow.type\n",
      "----------------\n",
      "oo Checking data\n",
      "----------------\n",
      "ooo Check if there are duplicated cases\n",
      "ooo Check if there results for the query\n",
      "-------------------\n",
      "o Preparing output\n",
      "-------------------\n",
      "Downloading data for project TCGA-UCEC\n",
      "Of the 587 files for download 587 already exist.\n",
      "All samples have been already downloaded\n"
     ]
    },
    {
     "name": "stdout",
     "output_type": "stream",
     "text": [
      "|====================================================|100%                      Completed after 51 s \n"
     ]
    },
    {
     "name": "stderr",
     "output_type": "stream",
     "text": [
      "Starting to add information to samples\n",
      " => Add clinical information to samples\n",
      "Add FFPE information. More information at: \n",
      "=> https://cancergenome.nih.gov/cancersselected/biospeccriteria \n",
      "=> http://gdac.broadinstitute.org/runs/sampleReports/latest/FPPP_FFPE_Cases.html\n",
      " => Adding subtype information to samples\n",
      "ucec subtype information from:doi:10.1038/nature12113\n",
      "Accessing www.ensembl.org to get gene information\n",
      "Downloading genome information (try:0) Using: Human genes (GRCh38.p13)\n",
      "Cache found\n",
      "From the 60483 genes we couldn't map 3990\n"
     ]
    }
   ],
   "source": [
    "proj_idx <- 4\n",
    "q <- rna_seq_query(projects[proj_idx])\n",
    "GDCdownload(q, method = \"api\", directory = data_root, files.per.chunk = 10)\n",
    "data <- GDCprepare(q, directory = data_root)"
   ]
  },
  {
   "cell_type": "code",
   "execution_count": 44,
   "metadata": {},
   "outputs": [
    {
     "data": {
      "text/plain": [
       "class: RangedSummarizedExperiment \n",
       "dim: 56493 587 \n",
       "metadata(1): data_release\n",
       "assays(1): HTSeq - Counts\n",
       "rownames(56493): ENSG00000000003 ENSG00000000005 ... ENSG00000281912\n",
       "  ENSG00000281920\n",
       "rowData names(3): ensembl_gene_id external_gene_name\n",
       "  original_ensembl_gene_id\n",
       "colnames(587): TCGA-AX-A06H-01A-11R-A118-07\n",
       "  TCGA-A5-A0GN-01A-11R-A040-07 ... TCGA-FI-A2F4-01A-11R-A17B-07\n",
       "  TCGA-AX-A3G7-01A-12R-A213-07\n",
       "colData names(82): sample patient ... subtype_cna_cluster_k4\n",
       "  subtype_mrna_expression_cluster"
      ]
     },
     "metadata": {},
     "output_type": "display_data"
    }
   ],
   "source": [
    "data\n",
    "saveHDF5SummarizedExperiment(data, dir = paste0(data_root, \"/\", \"saved_RSE_objects\"), prefix = sub(\"-\", \"_\", projects[proj_idx]))"
   ]
  },
  {
   "cell_type": "code",
   "execution_count": null,
   "metadata": {},
   "outputs": [],
   "source": []
  }
 ],
 "metadata": {
  "kernelspec": {
   "display_name": "R",
   "language": "R",
   "name": "ir"
  },
  "language_info": {
   "codemirror_mode": "r",
   "file_extension": ".r",
   "mimetype": "text/x-r-source",
   "name": "R",
   "pygments_lexer": "r",
   "version": "3.6.3"
  }
 },
 "nbformat": 4,
 "nbformat_minor": 4
}
