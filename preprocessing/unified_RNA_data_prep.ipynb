{
 "cells": [
  {
   "cell_type": "code",
   "execution_count": 1,
   "metadata": {},
   "outputs": [],
   "source": [
    "import pandas as pd\n",
    "import numpy as np\n",
    "import itertools\n",
    "import os"
   ]
  },
  {
   "cell_type": "code",
   "execution_count": 18,
   "metadata": {},
   "outputs": [],
   "source": [
    "def compile_data_for_DESeq(gene_cols, healthy_dfs, healthy_srcs, tumor_dfs, tumor_srcs, healthy_level, tumor_level):\n",
    "    gene_col_df = healthy_dfs[0][gene_cols]\n",
    "    for i, hd in enumerate(healthy_dfs):\n",
    "        assert all(gene_col_df == hd[gene_cols]), f\"Row ordering (order of gene symbols) violated by healthy dataframe {i}\"\n",
    "    for i, td in enumerate(tumor_dfs):\n",
    "        assert all(gene_col_df == td[gene_cols]), f\"Row ordering (order of gene symbols) violated by tumor dataframe {i}\"\n",
    "    \n",
    "    healthy_sources = []\n",
    "    tumor_sources = []\n",
    "    \n",
    "    for i, hd in enumerate(healthy_dfs):\n",
    "        healthy_sources.extend(itertools.repeat(healthy_srcs[i], len(hd.columns) - len(gene_cols)))\n",
    "    \n",
    "    for i, td in enumerate(tumor_dfs):\n",
    "        tumor_sources.extend(itertools.repeat(tumor_srcs[i], len(td.columns) - len(gene_cols)))\n",
    "    \n",
    "    all_healthy_df = pd.concat(\n",
    "        (df.drop(gene_cols, axis=1) for df in healthy_dfs),\n",
    "        axis=1\n",
    "    )\n",
    "    \n",
    "    all_tumor_df = pd.concat(\n",
    "        (df.drop(gene_cols, axis=1) for df in tumor_dfs),\n",
    "        axis=1\n",
    "    )\n",
    "    \n",
    "    col_data_healthy_df = pd.DataFrame(\n",
    "        data=zip(all_healthy_df.columns, itertools.repeat(healthy_level, len(all_healthy_df.columns)), healthy_sources),\n",
    "        columns=[\"sample_name\", \"condition\", \"data_source\"]\n",
    "    )\n",
    "    \n",
    "    col_data_tumor_df = pd.DataFrame(\n",
    "        data=zip(all_tumor_df.columns, itertools.repeat(tumor_level, len(all_tumor_df.columns)), tumor_sources),\n",
    "        columns=[\"sample_name\", \"condition\", \"data_source\"]\n",
    "    )\n",
    "    \n",
    "    return pd.concat([gene_col_df, all_healthy_df, all_tumor_df], axis=1), pd.concat([col_data_healthy_df, col_data_tumor_df], axis=0, ignore_index=True)\n",
    "\n",
    "\n",
    "def save_for_DESeq(data_dir, healthy_files, tumor_files, dset_name, gene_cols, healthy_level, tumor_level):\n",
    "    healthy_dfs = [pd.read_csv(f\"{data_dir}/{fn}\", sep=\"\\t\", compression=\"gzip\") for fn in healthy_files]\n",
    "    tumor_dfs = [pd.read_csv(f\"{data_dir}/{fn}\", sep=\"\\t\", compression=\"gzip\") for fn in tumor_files]\n",
    "    \n",
    "    healthy_srcs = []\n",
    "    tumor_srcs = []\n",
    "    \n",
    "    for hf in healthy_files:\n",
    "        if \"tcga\" in hf:\n",
    "            healthy_srcs.append(\"TCGA\")\n",
    "        elif \"gtex\" in hf:\n",
    "            healthy_srcs.append(\"GTEx\")\n",
    "    \n",
    "    for tf in tumor_files:\n",
    "        if \"tcga\" in tf:\n",
    "            tumor_srcs.append(\"TCGA\")\n",
    "        elif \"gtex\" in tf:\n",
    "            tumor_srcs.append(\"GTEx\")\n",
    "    \n",
    "    counts_df, coldata_df = compile_data_for_DESeq(gene_cols, healthy_dfs, healthy_srcs, tumor_dfs, tumor_srcs, healthy_level, tumor_level)\n",
    "    \n",
    "    if not os.path.exists(f\"{data_dir}/{dset_name}\"):\n",
    "        os.makedirs(f\"{data_dir}/{dset_name}\")\n",
    "\n",
    "    \n",
    "    counts_df.to_csv(f\"{data_dir}/{dset_name}/counts.tsv\", sep=\"\\t\", index=False)\n",
    "    coldata_df.to_csv(f\"{data_dir}/{dset_name}/coldata.tsv\", sep=\"\\t\", index=False)"
   ]
  },
  {
   "cell_type": "code",
   "execution_count": 19,
   "metadata": {},
   "outputs": [],
   "source": [
    "# Read in root data directory\n",
    "with open('../dev_paths.txt') as f:\n",
    "    data_dir = f.readline().strip()\n",
    "\n",
    "cvx_healthy = [\"cervixrsemcountgtex.txt.gz\", \"cescrsemcounttcga.txt.gz\"]\n",
    "cvx_tumor = [\"cescrsemcounttcgat.txt.gz\"]\n",
    "# ut_healthy = [\"uterusrsemcountgtex.txt.gz\", \"ucecrsemcounttcga.txt.gz\"]\n",
    "# ut_tumor = [\"ucecrsemcounttcgat.txt.gz\", \"ucsrsemcounttcgat.txt.gz\"]\n",
    "gene_cols = [\"Hugo_Symbol\", \"Entrez_Gene_Id\"]"
   ]
  },
  {
   "cell_type": "code",
   "execution_count": 20,
   "metadata": {},
   "outputs": [],
   "source": [
    "save_for_DESeq(data_dir, cvx_healthy, cvx_tumor, \"unified_cervical_data\", gene_cols, \"healthy\", \"tumor\")\n",
    "# save_for_DESeq(data_dir, ut_healthy, ut_tumor, \"unified_uterine_data\", gene_cols, \"healthy\", \"tumor\")"
   ]
  }
 ],
 "metadata": {
  "kernelspec": {
   "display_name": "Python 3",
   "language": "python",
   "name": "python3"
  },
  "language_info": {
   "codemirror_mode": {
    "name": "ipython",
    "version": 3
   },
   "file_extension": ".py",
   "mimetype": "text/x-python",
   "name": "python",
   "nbconvert_exporter": "python",
   "pygments_lexer": "ipython3",
   "version": "3.8.3"
  }
 },
 "nbformat": 4,
 "nbformat_minor": 4
}
