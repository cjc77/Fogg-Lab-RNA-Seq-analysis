{
 "cells": [
  {
   "cell_type": "code",
   "execution_count": 1,
   "metadata": {
    "collapsed": true,
    "jupyter": {
     "outputs_hidden": true
    }
   },
   "outputs": [
    {
     "name": "stderr",
     "output_type": "stream",
     "text": [
      "── Attaching packages ─────────────────────────────────────── tidyverse 1.3.0 ──\n",
      "✔ ggplot2 3.3.2     ✔ purrr   0.3.4\n",
      "✔ tibble  3.0.3     ✔ dplyr   1.0.0\n",
      "✔ tidyr   1.1.0     ✔ stringr 1.4.0\n",
      "✔ readr   1.3.1     ✔ forcats 0.5.0\n",
      "── Conflicts ────────────────────────────────────────── tidyverse_conflicts() ──\n",
      "✖ dplyr::filter() masks stats::filter()\n",
      "✖ dplyr::lag()    masks stats::lag()\n",
      "Loading required package: S4Vectors\n",
      "Loading required package: stats4\n",
      "Loading required package: BiocGenerics\n",
      "Loading required package: parallel\n",
      "\n",
      "Attaching package: ‘BiocGenerics’\n",
      "\n",
      "The following objects are masked from ‘package:parallel’:\n",
      "\n",
      "    clusterApply, clusterApplyLB, clusterCall, clusterEvalQ,\n",
      "    clusterExport, clusterMap, parApply, parCapply, parLapply,\n",
      "    parLapplyLB, parRapply, parSapply, parSapplyLB\n",
      "\n",
      "The following objects are masked from ‘package:dplyr’:\n",
      "\n",
      "    combine, intersect, setdiff, union\n",
      "\n",
      "The following objects are masked from ‘package:stats’:\n",
      "\n",
      "    IQR, mad, sd, var, xtabs\n",
      "\n",
      "The following objects are masked from ‘package:base’:\n",
      "\n",
      "    anyDuplicated, append, as.data.frame, basename, cbind, colnames,\n",
      "    dirname, do.call, duplicated, eval, evalq, Filter, Find, get, grep,\n",
      "    grepl, intersect, is.unsorted, lapply, Map, mapply, match, mget,\n",
      "    order, paste, pmax, pmax.int, pmin, pmin.int, Position, rank,\n",
      "    rbind, Reduce, rownames, sapply, setdiff, sort, table, tapply,\n",
      "    union, unique, unsplit, which, which.max, which.min\n",
      "\n",
      "\n",
      "Attaching package: ‘S4Vectors’\n",
      "\n",
      "The following objects are masked from ‘package:dplyr’:\n",
      "\n",
      "    first, rename\n",
      "\n",
      "The following object is masked from ‘package:tidyr’:\n",
      "\n",
      "    expand\n",
      "\n",
      "The following object is masked from ‘package:base’:\n",
      "\n",
      "    expand.grid\n",
      "\n",
      "Loading required package: IRanges\n",
      "\n",
      "Attaching package: ‘IRanges’\n",
      "\n",
      "The following objects are masked from ‘package:dplyr’:\n",
      "\n",
      "    collapse, desc, slice\n",
      "\n",
      "The following object is masked from ‘package:purrr’:\n",
      "\n",
      "    reduce\n",
      "\n",
      "Loading required package: GenomicRanges\n",
      "Loading required package: GenomeInfoDb\n",
      "Loading required package: SummarizedExperiment\n",
      "Loading required package: Biobase\n",
      "Welcome to Bioconductor\n",
      "\n",
      "    Vignettes contain introductory material; view with\n",
      "    'browseVignettes()'. To cite Bioconductor, see\n",
      "    'citation(\"Biobase\")', and for packages 'citation(\"pkgname\")'.\n",
      "\n",
      "Loading required package: DelayedArray\n",
      "Loading required package: matrixStats\n",
      "\n",
      "Attaching package: ‘matrixStats’\n",
      "\n",
      "The following objects are masked from ‘package:Biobase’:\n",
      "\n",
      "    anyMissing, rowMedians\n",
      "\n",
      "The following object is masked from ‘package:dplyr’:\n",
      "\n",
      "    count\n",
      "\n",
      "Loading required package: BiocParallel\n",
      "\n",
      "Attaching package: ‘DelayedArray’\n",
      "\n",
      "The following objects are masked from ‘package:matrixStats’:\n",
      "\n",
      "    colMaxs, colMins, colRanges, rowMaxs, rowMins, rowRanges\n",
      "\n",
      "The following object is masked from ‘package:purrr’:\n",
      "\n",
      "    simplify\n",
      "\n",
      "The following objects are masked from ‘package:base’:\n",
      "\n",
      "    aperm, apply, rowsum\n",
      "\n"
     ]
    }
   ],
   "source": [
    "library(tidyverse)\n",
    "library(DESeq2)\n",
    "library(BiocParallel)\n",
    "\n",
    "# Custom package\n",
    "library(rutils)"
   ]
  },
  {
   "cell_type": "code",
   "execution_count": 2,
   "metadata": {},
   "outputs": [],
   "source": [
    "n_cores <- detectCores() - 2\n",
    "BiocParallel::register(MulticoreParam(n_cores))"
   ]
  },
  {
   "cell_type": "code",
   "execution_count": 3,
   "metadata": {},
   "outputs": [],
   "source": [
    "dirs <- rutils::get_dev_directories(dev_paths_file = \"../dev_paths.txt\")\n",
    "gyn_projects <- c(\"TCGA-CESC\", \"TCGA-UCS\", \"TCGA-UCEC\", \"TCGA-OV\")\n",
    "nongyn_projects <- c(\"TCGA-BRCA\", \"TCGA-COAD\", \"TCGA-LGG\")"
   ]
  },
  {
   "cell_type": "code",
   "execution_count": 4,
   "metadata": {},
   "outputs": [
    {
     "data": {
      "text/html": [
       "<style>\n",
       ".list-inline {list-style: none; margin:0; padding: 0}\n",
       ".list-inline>li {display: inline-block}\n",
       ".list-inline>li:not(:last-child)::after {content: \"\\00b7\"; padding: 0 .5ex}\n",
       "</style>\n",
       "<ol class=list-inline><li>'/mnt/d/fogg_lab_gyn_cancer_data/TCGA_RNA_matrix_count_data/TCGA-CESC_counts.tsv'</li><li>'/mnt/d/fogg_lab_gyn_cancer_data/TCGA_RNA_matrix_count_data/TCGA-UCS_counts.tsv'</li><li>'/mnt/d/fogg_lab_gyn_cancer_data/TCGA_RNA_matrix_count_data/TCGA-UCEC_counts.tsv'</li><li>'/mnt/d/fogg_lab_gyn_cancer_data/TCGA_RNA_matrix_count_data/TCGA-OV_counts.tsv'</li><li>'/mnt/d/fogg_lab_gyn_cancer_data/TCGA_RNA_matrix_count_data/TCGA-BRCA_counts.tsv'</li><li>'/mnt/d/fogg_lab_gyn_cancer_data/TCGA_RNA_matrix_count_data/TCGA-COAD_counts.tsv'</li><li>'/mnt/d/fogg_lab_gyn_cancer_data/TCGA_RNA_matrix_count_data/TCGA-LGG_counts.tsv'</li></ol>\n"
      ],
      "text/latex": [
       "\\begin{enumerate*}\n",
       "\\item '/mnt/d/fogg\\_lab\\_gyn\\_cancer\\_data/TCGA\\_RNA\\_matrix\\_count\\_data/TCGA-CESC\\_counts.tsv'\n",
       "\\item '/mnt/d/fogg\\_lab\\_gyn\\_cancer\\_data/TCGA\\_RNA\\_matrix\\_count\\_data/TCGA-UCS\\_counts.tsv'\n",
       "\\item '/mnt/d/fogg\\_lab\\_gyn\\_cancer\\_data/TCGA\\_RNA\\_matrix\\_count\\_data/TCGA-UCEC\\_counts.tsv'\n",
       "\\item '/mnt/d/fogg\\_lab\\_gyn\\_cancer\\_data/TCGA\\_RNA\\_matrix\\_count\\_data/TCGA-OV\\_counts.tsv'\n",
       "\\item '/mnt/d/fogg\\_lab\\_gyn\\_cancer\\_data/TCGA\\_RNA\\_matrix\\_count\\_data/TCGA-BRCA\\_counts.tsv'\n",
       "\\item '/mnt/d/fogg\\_lab\\_gyn\\_cancer\\_data/TCGA\\_RNA\\_matrix\\_count\\_data/TCGA-COAD\\_counts.tsv'\n",
       "\\item '/mnt/d/fogg\\_lab\\_gyn\\_cancer\\_data/TCGA\\_RNA\\_matrix\\_count\\_data/TCGA-LGG\\_counts.tsv'\n",
       "\\end{enumerate*}\n"
      ],
      "text/markdown": [
       "1. '/mnt/d/fogg_lab_gyn_cancer_data/TCGA_RNA_matrix_count_data/TCGA-CESC_counts.tsv'\n",
       "2. '/mnt/d/fogg_lab_gyn_cancer_data/TCGA_RNA_matrix_count_data/TCGA-UCS_counts.tsv'\n",
       "3. '/mnt/d/fogg_lab_gyn_cancer_data/TCGA_RNA_matrix_count_data/TCGA-UCEC_counts.tsv'\n",
       "4. '/mnt/d/fogg_lab_gyn_cancer_data/TCGA_RNA_matrix_count_data/TCGA-OV_counts.tsv'\n",
       "5. '/mnt/d/fogg_lab_gyn_cancer_data/TCGA_RNA_matrix_count_data/TCGA-BRCA_counts.tsv'\n",
       "6. '/mnt/d/fogg_lab_gyn_cancer_data/TCGA_RNA_matrix_count_data/TCGA-COAD_counts.tsv'\n",
       "7. '/mnt/d/fogg_lab_gyn_cancer_data/TCGA_RNA_matrix_count_data/TCGA-LGG_counts.tsv'\n",
       "\n",
       "\n"
      ],
      "text/plain": [
       "[1] \"/mnt/d/fogg_lab_gyn_cancer_data/TCGA_RNA_matrix_count_data/TCGA-CESC_counts.tsv\"\n",
       "[2] \"/mnt/d/fogg_lab_gyn_cancer_data/TCGA_RNA_matrix_count_data/TCGA-UCS_counts.tsv\" \n",
       "[3] \"/mnt/d/fogg_lab_gyn_cancer_data/TCGA_RNA_matrix_count_data/TCGA-UCEC_counts.tsv\"\n",
       "[4] \"/mnt/d/fogg_lab_gyn_cancer_data/TCGA_RNA_matrix_count_data/TCGA-OV_counts.tsv\"  \n",
       "[5] \"/mnt/d/fogg_lab_gyn_cancer_data/TCGA_RNA_matrix_count_data/TCGA-BRCA_counts.tsv\"\n",
       "[6] \"/mnt/d/fogg_lab_gyn_cancer_data/TCGA_RNA_matrix_count_data/TCGA-COAD_counts.tsv\"\n",
       "[7] \"/mnt/d/fogg_lab_gyn_cancer_data/TCGA_RNA_matrix_count_data/TCGA-LGG_counts.tsv\" "
      ]
     },
     "metadata": {},
     "output_type": "display_data"
    },
    {
     "data": {
      "text/html": [
       "<style>\n",
       ".list-inline {list-style: none; margin:0; padding: 0}\n",
       ".list-inline>li {display: inline-block}\n",
       ".list-inline>li:not(:last-child)::after {content: \"\\00b7\"; padding: 0 .5ex}\n",
       "</style>\n",
       "<ol class=list-inline><li>'/mnt/d/fogg_lab_gyn_cancer_data/TCGA_RNA_matrix_count_data/TCGA-CESC_coldata.tsv'</li><li>'/mnt/d/fogg_lab_gyn_cancer_data/TCGA_RNA_matrix_count_data/TCGA-UCS_coldata.tsv'</li><li>'/mnt/d/fogg_lab_gyn_cancer_data/TCGA_RNA_matrix_count_data/TCGA-UCEC_coldata.tsv'</li><li>'/mnt/d/fogg_lab_gyn_cancer_data/TCGA_RNA_matrix_count_data/TCGA-OV_coldata.tsv'</li><li>'/mnt/d/fogg_lab_gyn_cancer_data/TCGA_RNA_matrix_count_data/TCGA-BRCA_coldata.tsv'</li><li>'/mnt/d/fogg_lab_gyn_cancer_data/TCGA_RNA_matrix_count_data/TCGA-COAD_coldata.tsv'</li><li>'/mnt/d/fogg_lab_gyn_cancer_data/TCGA_RNA_matrix_count_data/TCGA-LGG_coldata.tsv'</li></ol>\n"
      ],
      "text/latex": [
       "\\begin{enumerate*}\n",
       "\\item '/mnt/d/fogg\\_lab\\_gyn\\_cancer\\_data/TCGA\\_RNA\\_matrix\\_count\\_data/TCGA-CESC\\_coldata.tsv'\n",
       "\\item '/mnt/d/fogg\\_lab\\_gyn\\_cancer\\_data/TCGA\\_RNA\\_matrix\\_count\\_data/TCGA-UCS\\_coldata.tsv'\n",
       "\\item '/mnt/d/fogg\\_lab\\_gyn\\_cancer\\_data/TCGA\\_RNA\\_matrix\\_count\\_data/TCGA-UCEC\\_coldata.tsv'\n",
       "\\item '/mnt/d/fogg\\_lab\\_gyn\\_cancer\\_data/TCGA\\_RNA\\_matrix\\_count\\_data/TCGA-OV\\_coldata.tsv'\n",
       "\\item '/mnt/d/fogg\\_lab\\_gyn\\_cancer\\_data/TCGA\\_RNA\\_matrix\\_count\\_data/TCGA-BRCA\\_coldata.tsv'\n",
       "\\item '/mnt/d/fogg\\_lab\\_gyn\\_cancer\\_data/TCGA\\_RNA\\_matrix\\_count\\_data/TCGA-COAD\\_coldata.tsv'\n",
       "\\item '/mnt/d/fogg\\_lab\\_gyn\\_cancer\\_data/TCGA\\_RNA\\_matrix\\_count\\_data/TCGA-LGG\\_coldata.tsv'\n",
       "\\end{enumerate*}\n"
      ],
      "text/markdown": [
       "1. '/mnt/d/fogg_lab_gyn_cancer_data/TCGA_RNA_matrix_count_data/TCGA-CESC_coldata.tsv'\n",
       "2. '/mnt/d/fogg_lab_gyn_cancer_data/TCGA_RNA_matrix_count_data/TCGA-UCS_coldata.tsv'\n",
       "3. '/mnt/d/fogg_lab_gyn_cancer_data/TCGA_RNA_matrix_count_data/TCGA-UCEC_coldata.tsv'\n",
       "4. '/mnt/d/fogg_lab_gyn_cancer_data/TCGA_RNA_matrix_count_data/TCGA-OV_coldata.tsv'\n",
       "5. '/mnt/d/fogg_lab_gyn_cancer_data/TCGA_RNA_matrix_count_data/TCGA-BRCA_coldata.tsv'\n",
       "6. '/mnt/d/fogg_lab_gyn_cancer_data/TCGA_RNA_matrix_count_data/TCGA-COAD_coldata.tsv'\n",
       "7. '/mnt/d/fogg_lab_gyn_cancer_data/TCGA_RNA_matrix_count_data/TCGA-LGG_coldata.tsv'\n",
       "\n",
       "\n"
      ],
      "text/plain": [
       "[1] \"/mnt/d/fogg_lab_gyn_cancer_data/TCGA_RNA_matrix_count_data/TCGA-CESC_coldata.tsv\"\n",
       "[2] \"/mnt/d/fogg_lab_gyn_cancer_data/TCGA_RNA_matrix_count_data/TCGA-UCS_coldata.tsv\" \n",
       "[3] \"/mnt/d/fogg_lab_gyn_cancer_data/TCGA_RNA_matrix_count_data/TCGA-UCEC_coldata.tsv\"\n",
       "[4] \"/mnt/d/fogg_lab_gyn_cancer_data/TCGA_RNA_matrix_count_data/TCGA-OV_coldata.tsv\"  \n",
       "[5] \"/mnt/d/fogg_lab_gyn_cancer_data/TCGA_RNA_matrix_count_data/TCGA-BRCA_coldata.tsv\"\n",
       "[6] \"/mnt/d/fogg_lab_gyn_cancer_data/TCGA_RNA_matrix_count_data/TCGA-COAD_coldata.tsv\"\n",
       "[7] \"/mnt/d/fogg_lab_gyn_cancer_data/TCGA_RNA_matrix_count_data/TCGA-LGG_coldata.tsv\" "
      ]
     },
     "metadata": {},
     "output_type": "display_data"
    }
   ],
   "source": [
    "count_files <- paste0(dirs$data_dir, \"/TCGA_RNA_matrix_count_data/\", c(gyn_projects, nongyn_projects), \"_counts.tsv\")\n",
    "coldata_files <- paste0(dirs$data_dir, \"/TCGA_RNA_matrix_count_data/\", c(gyn_projects, nongyn_projects), \"_coldata.tsv\")\n",
    "\n",
    "count_files\n",
    "coldata_files"
   ]
  },
  {
   "cell_type": "markdown",
   "metadata": {},
   "source": [
    "# Load data"
   ]
  },
  {
   "cell_type": "code",
   "execution_count": 5,
   "metadata": {},
   "outputs": [
    {
     "name": "stderr",
     "output_type": "stream",
     "text": [
      "Parsed with column specification:\n",
      "cols(\n",
      "  Division = col_character(),\n",
      "  Category = col_character(),\n",
      "  `Gene Symbol` = col_character(),\n",
      "  `Gene Name` = col_character(),\n",
      "  Synonyms = col_character(),\n",
      "  HGNC_IDs = col_double(),\n",
      "  `HGNC_IDs Links` = col_double(),\n",
      "  UniProt_IDs = col_character(),\n",
      "  Refseq_IDs = col_character(),\n",
      "  Orthology = col_character(),\n",
      "  Notes = col_character()\n",
      ")\n"
     ]
    }
   ],
   "source": [
    "matrisome_df <- rutils::load_matrisome_df(\n",
    "    paste0(dirs$data_dir, \"/matrisome/matrisome_hs_masterlist.tsv\")\n",
    ")"
   ]
  },
  {
   "cell_type": "code",
   "execution_count": 6,
   "metadata": {
    "collapsed": true,
    "jupyter": {
     "outputs_hidden": true
    }
   },
   "outputs": [
    {
     "name": "stderr",
     "output_type": "stream",
     "text": [
      "Parsed with column specification:\n",
      "cols(\n",
      "  .default = col_double(),\n",
      "  ensembl_gene_id = col_character(),\n",
      "  external_gene_name = col_character()\n",
      ")\n",
      "See spec(...) for full column specifications.\n",
      "Parsed with column specification:\n",
      "cols(\n",
      "  .default = col_double(),\n",
      "  ensembl_gene_id = col_character(),\n",
      "  external_gene_name = col_character()\n",
      ")\n",
      "See spec(...) for full column specifications.\n",
      "Parsed with column specification:\n",
      "cols(\n",
      "  .default = col_double(),\n",
      "  ensembl_gene_id = col_character(),\n",
      "  external_gene_name = col_character()\n",
      ")\n",
      "See spec(...) for full column specifications.\n",
      "Parsed with column specification:\n",
      "cols(\n",
      "  .default = col_double(),\n",
      "  ensembl_gene_id = col_character(),\n",
      "  external_gene_name = col_character()\n",
      ")\n",
      "See spec(...) for full column specifications.\n",
      "Parsed with column specification:\n",
      "cols(\n",
      "  .default = col_double(),\n",
      "  ensembl_gene_id = col_character(),\n",
      "  external_gene_name = col_character()\n",
      ")\n",
      "See spec(...) for full column specifications.\n",
      "Parsed with column specification:\n",
      "cols(\n",
      "  .default = col_double(),\n",
      "  ensembl_gene_id = col_character(),\n",
      "  external_gene_name = col_character()\n",
      ")\n",
      "See spec(...) for full column specifications.\n",
      "Parsed with column specification:\n",
      "cols(\n",
      "  .default = col_double(),\n",
      "  ensembl_gene_id = col_character(),\n",
      "  external_gene_name = col_character()\n",
      ")\n",
      "See spec(...) for full column specifications.\n",
      "Parsed with column specification:\n",
      "cols(\n",
      "  sample_name = col_character(),\n",
      "  condition = col_character(),\n",
      "  project = col_character()\n",
      ")\n",
      "Parsed with column specification:\n",
      "cols(\n",
      "  sample_name = col_character(),\n",
      "  condition = col_character(),\n",
      "  project = col_character()\n",
      ")\n",
      "Parsed with column specification:\n",
      "cols(\n",
      "  sample_name = col_character(),\n",
      "  condition = col_character(),\n",
      "  project = col_character()\n",
      ")\n",
      "Parsed with column specification:\n",
      "cols(\n",
      "  sample_name = col_character(),\n",
      "  condition = col_character(),\n",
      "  project = col_character()\n",
      ")\n",
      "Parsed with column specification:\n",
      "cols(\n",
      "  sample_name = col_character(),\n",
      "  condition = col_character(),\n",
      "  project = col_character()\n",
      ")\n",
      "Parsed with column specification:\n",
      "cols(\n",
      "  sample_name = col_character(),\n",
      "  condition = col_character(),\n",
      "  project = col_character()\n",
      ")\n",
      "Parsed with column specification:\n",
      "cols(\n",
      "  sample_name = col_character(),\n",
      "  condition = col_character(),\n",
      "  project = col_character()\n",
      ")\n"
     ]
    },
    {
     "data": {
      "text/html": [
       "TRUE"
      ],
      "text/latex": [
       "TRUE"
      ],
      "text/markdown": [
       "TRUE"
      ],
      "text/plain": [
       "[1] TRUE"
      ]
     },
     "metadata": {},
     "output_type": "display_data"
    }
   ],
   "source": [
    "data_ls <- rutils::load_and_combine_count_matrix_data(\n",
    "    count_files,\n",
    "    coldata_files,\n",
    "    count_join_symbols = c(\"ensembl_gene_id\", \"external_gene_name\")\n",
    ")\n",
    "\n",
    "# Separate out counts & coldata\n",
    "# Also, for this analysis, we only care about tumor data\n",
    "pan_coldata_df <- data_ls$coldata_df %>%\n",
    "    dplyr::filter(condition == \"Primary solid Tumor\")\n",
    "pan_counts_df <- data_ls$counts_df %>%\n",
    "    dplyr::select(ensembl_gene_id, external_gene_name, pan_coldata_df$sample_name)\n",
    "all(pan_coldata_df$sample_name == colnames(pan_counts_df)[-c(1:2)])"
   ]
  },
  {
   "cell_type": "code",
   "execution_count": 7,
   "metadata": {},
   "outputs": [
    {
     "data": {
      "text/html": [
       "TRUE"
      ],
      "text/latex": [
       "TRUE"
      ],
      "text/markdown": [
       "TRUE"
      ],
      "text/plain": [
       "[1] TRUE"
      ]
     },
     "metadata": {},
     "output_type": "display_data"
    }
   ],
   "source": [
    "gyn_coldata_df <- pan_coldata_df %>% dplyr::filter(project %in% gyn_projects)\n",
    "gyn_counts_df <- pan_counts_df[c(\"ensembl_gene_id\", \"external_gene_name\", gyn_coldata_df$sample_name)]\n",
    "all(gyn_coldata_df$sample_name == colnames(gyn_counts_df)[-c(1:2)])"
   ]
  },
  {
   "cell_type": "markdown",
   "metadata": {},
   "source": [
    "# Filter and normalize"
   ]
  },
  {
   "cell_type": "markdown",
   "metadata": {},
   "source": [
    "## Pre-filter lowly expressed genes"
   ]
  },
  {
   "cell_type": "code",
   "execution_count": 8,
   "metadata": {},
   "outputs": [
    {
     "data": {
      "text/html": [
       "34478"
      ],
      "text/latex": [
       "34478"
      ],
      "text/markdown": [
       "34478"
      ],
      "text/plain": [
       "[1] 34478"
      ]
     },
     "metadata": {},
     "output_type": "display_data"
    },
    {
     "data": {
      "text/html": [
       "34930"
      ],
      "text/latex": [
       "34930"
      ],
      "text/markdown": [
       "34930"
      ],
      "text/plain": [
       "[1] 34930"
      ]
     },
     "metadata": {},
     "output_type": "display_data"
    }
   ],
   "source": [
    "# Keep genes which are expressed in > 1/3 of samples\n",
    "pan_expression_mask <- rowSums(pan_counts_df[, -c(1:2)] > 0) > (1 / 3 * nrow(pan_coldata_df))\n",
    "prefiltered_pan_counts_df <- pan_counts_df[pan_expression_mask, ]\n",
    "\n",
    "gyn_expression_mask <- rowSums(gyn_counts_df[, -c(1:2)] > 0) > (1 / 3 * nrow(gyn_coldata_df))\n",
    "prefiltered_gyn_counts_df <- gyn_counts_df[gyn_expression_mask, ]\n",
    "\n",
    "# Remaining genes\n",
    "nrow(prefiltered_pan_counts_df)\n",
    "nrow(prefiltered_gyn_counts_df)"
   ]
  },
  {
   "cell_type": "markdown",
   "metadata": {},
   "source": [
    "## Normalize and filter to matrisome genes"
   ]
  },
  {
   "cell_type": "code",
   "execution_count": 9,
   "metadata": {},
   "outputs": [
    {
     "name": "stderr",
     "output_type": "stream",
     "text": [
      "converting counts to integer mode\n"
     ]
    }
   ],
   "source": [
    "norm_gyn_counts <- varianceStabilizingTransformation(as.matrix(prefiltered_gyn_counts_df[, -c(1:2)]), blind = TRUE)\n",
    "prefiltered_norm_gyn_counts_df <- norm_gyn_counts %>%\n",
    "    as_tibble() %>%\n",
    "    dplyr::mutate(ensembl_gene_id = prefiltered_gyn_counts_df$ensembl_gene_id,\n",
    "                  external_gene_name = prefiltered_gyn_counts_df$external_gene_name) %>%\n",
    "    dplyr::select(ensembl_gene_id, external_gene_name, everything()) %>%\n",
    "    dplyr::filter(external_gene_name %in% matrisome_df$gene_symbol)"
   ]
  },
  {
   "cell_type": "code",
   "execution_count": 10,
   "metadata": {},
   "outputs": [
    {
     "name": "stderr",
     "output_type": "stream",
     "text": [
      "converting counts to integer mode\n"
     ]
    }
   ],
   "source": [
    "norm_pan_counts <- varianceStabilizingTransformation(as.matrix(prefiltered_pan_counts_df[, -c(1:2)]), blind = TRUE)\n",
    "prefiltered_norm_pan_counts_df <- norm_pan_counts %>%\n",
    "    as_tibble() %>%\n",
    "    dplyr::mutate(ensembl_gene_id = prefiltered_pan_counts_df$ensembl_gene_id,\n",
    "                  external_gene_name = prefiltered_pan_counts_df$external_gene_name) %>%\n",
    "    dplyr::select(ensembl_gene_id, external_gene_name, everything()) %>%\n",
    "    dplyr::filter(external_gene_name %in% matrisome_df$gene_symbol)"
   ]
  },
  {
   "cell_type": "code",
   "execution_count": 11,
   "metadata": {},
   "outputs": [],
   "source": [
    "if(!dir.exists(paste0(dirs$data_dir, \"/TCGA_RNA_combined_matrix_count_data\"))) {\n",
    "    dir.create(paste0(dirs$data_dir, \"/TCGA_RNA_combined_matrix_count_data\"))\n",
    "}"
   ]
  },
  {
   "cell_type": "code",
   "execution_count": 12,
   "metadata": {},
   "outputs": [],
   "source": [
    "write_tsv(\n",
    "    prefiltered_norm_gyn_counts_df,\n",
    "    paste0(dirs$data_dir, \"/TCGA_RNA_combined_matrix_count_data/prefiltered_norm_matrisome_gyn_counts.tsv\")\n",
    ")\n",
    "write_tsv(\n",
    "    gyn_coldata_df,\n",
    "    paste0(dirs$data_dir, \"/TCGA_RNA_combined_matrix_count_data/matrisome_gyn_coldata.tsv\")\n",
    ")"
   ]
  },
  {
   "cell_type": "code",
   "execution_count": 13,
   "metadata": {},
   "outputs": [],
   "source": [
    "write_tsv(\n",
    "    prefiltered_norm_pan_counts_df,\n",
    "    paste0(dirs$data_dir, \"/TCGA_RNA_combined_matrix_count_data/prefiltered_norm_matrisome_pan_counts.tsv\")\n",
    ")\n",
    "write_tsv(\n",
    "    pan_coldata_df,\n",
    "    paste0(dirs$data_dir, \"/TCGA_RNA_combined_matrix_count_data/matrisome_pan_coldata.tsv\")\n",
    ")"
   ]
  }
 ],
 "metadata": {
  "kernelspec": {
   "display_name": "R",
   "language": "R",
   "name": "ir"
  },
  "language_info": {
   "codemirror_mode": "r",
   "file_extension": ".r",
   "mimetype": "text/x-r-source",
   "name": "R",
   "pygments_lexer": "r",
   "version": "3.6.3"
  }
 },
 "nbformat": 4,
 "nbformat_minor": 4
}
