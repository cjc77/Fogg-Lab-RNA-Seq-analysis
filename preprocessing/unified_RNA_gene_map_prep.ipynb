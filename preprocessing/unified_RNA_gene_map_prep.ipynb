{
 "cells": [
  {
   "cell_type": "code",
   "execution_count": 6,
   "metadata": {},
   "outputs": [],
   "source": [
    "library(tidyverse)\n",
    "library(org.Hs.eg.db)\n",
    "\n",
    "\n",
    "# Custom package\n",
    "library(rutils)"
   ]
  },
  {
   "cell_type": "code",
   "execution_count": 7,
   "metadata": {},
   "outputs": [],
   "source": [
    "dirs <- rutils::get_dev_directories(dev_paths_file = \"../dev_paths.txt\")\n",
    "unified_dsets <- c(\"unified_cervical_data\", \"unified_uterine_data\", \"unified_uterine_endometrial_data\")"
   ]
  },
  {
   "cell_type": "code",
   "execution_count": 8,
   "metadata": {},
   "outputs": [
    {
     "name": "stderr",
     "output_type": "stream",
     "text": [
      "Parsed with column specification:\n",
      "cols(\n",
      "  Division = col_character(),\n",
      "  Category = col_character(),\n",
      "  `Gene Symbol` = col_character(),\n",
      "  `Gene Name` = col_character(),\n",
      "  Synonyms = col_character(),\n",
      "  HGNC_IDs = col_double(),\n",
      "  `HGNC_IDs Links` = col_double(),\n",
      "  UniProt_IDs = col_character(),\n",
      "  Refseq_IDs = col_character(),\n",
      "  Orthology = col_character(),\n",
      "  Notes = col_character()\n",
      ")\n"
     ]
    }
   ],
   "source": [
    "matrisome_df <- load_matrisome_df(paste0(dirs$data_dir, \"/matrisome/matrisome_hs_masterlist.tsv\"))"
   ]
  },
  {
   "cell_type": "code",
   "execution_count": 9,
   "metadata": {
    "collapsed": true,
    "jupyter": {
     "outputs_hidden": true
    }
   },
   "outputs": [
    {
     "name": "stderr",
     "output_type": "stream",
     "text": [
      "Parsed with column specification:\n",
      "cols(\n",
      "  .default = col_double(),\n",
      "  Hugo_Symbol = col_character()\n",
      ")\n",
      "See spec(...) for full column specifications.\n",
      "'select()' returned 1:many mapping between keys and columns\n",
      "Parsed with column specification:\n",
      "cols(\n",
      "  .default = col_double(),\n",
      "  Hugo_Symbol = col_character()\n",
      ")\n",
      "See spec(...) for full column specifications.\n",
      "'select()' returned 1:many mapping between keys and columns\n",
      "Parsed with column specification:\n",
      "cols(\n",
      "  .default = col_double(),\n",
      "  Hugo_Symbol = col_character()\n",
      ")\n",
      "See spec(...) for full column specifications.\n",
      "'select()' returned 1:many mapping between keys and columns\n"
     ]
    }
   ],
   "source": [
    "for (dset_idx in 1:3) {\n",
    "    gene_map_df <- read_tsv(paste0(dirs$data_dir, \"/\", unified_dsets[dset_idx], \"/counts.tsv\")) %>%\n",
    "        dplyr::select(Hugo_Symbol, Entrez_Gene_Id) %>%\n",
    "        dplyr::rename_all(tolower)\n",
    "\n",
    "    # Fill in missing Entrez IDs if possible\n",
    "    db_gene_map <- mapIds(\n",
    "        x = org.Hs.eg.db,\n",
    "        keys = gene_map_df %>% dplyr::pull(hugo_symbol),\n",
    "        column = \"ENTREZID\",\n",
    "        keytype = \"SYMBOL\",\n",
    "        multiVals = \"first\"\n",
    "    )\n",
    "\n",
    "    db_gene_map_df <- as_tibble(db_gene_map, rownames = \"hugo_symbol\") %>%\n",
    "        dplyr::rename(db_entrez_gene_id = value)\n",
    "\n",
    "    # Fill in missing entrez IDs with non-NA org.Hs.eg.db entrez IDs\n",
    "    # Also, for non-missing entrez IDs, we prefer the ones from org.Hs.eg.db\n",
    "    gene_map_df <- gene_map_df %>%\n",
    "        inner_join(db_gene_map_df, by = \"hugo_symbol\") %>%\n",
    "    #     dplyr::mutate(entrez_gene_id = ifelse(entrez_gene_id == 0 & !is.na(db_entrez_gene_id), db_entrez_gene_id, entrez_gene_id)) %>%\n",
    "        dplyr::mutate(entrez_gene_id = ifelse(!is.na(db_entrez_gene_id), db_entrez_gene_id, entrez_gene_id)) %>%\n",
    "        dplyr::select(-db_entrez_gene_id)\n",
    "\n",
    "    no_entrez_genes <- gene_map_df %>%\n",
    "        dplyr::filter(entrez_gene_id == 0) %>%\n",
    "        dplyr::pull(hugo_symbol)\n",
    "    # Still missing a few genes\n",
    "    length(no_entrez_genes)\n",
    "\n",
    "    write_tsv(gene_map_df, paste0(dirs$data_dir, \"/\", unified_dsets[dset_idx], \"/hugo2entrez.tsv\"))\n",
    "}"
   ]
  }
 ],
 "metadata": {
  "kernelspec": {
   "display_name": "R",
   "language": "R",
   "name": "ir"
  },
  "language_info": {
   "codemirror_mode": "r",
   "file_extension": ".r",
   "mimetype": "text/x-r-source",
   "name": "R",
   "pygments_lexer": "r",
   "version": "3.6.3"
  }
 },
 "nbformat": 4,
 "nbformat_minor": 4
}
