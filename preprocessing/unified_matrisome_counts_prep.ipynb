{
 "cells": [
  {
   "cell_type": "code",
   "execution_count": 24,
   "metadata": {},
   "outputs": [],
   "source": [
    "library(tidyverse)\n",
    "library(survival)\n",
    "library(survminer)\n",
    "library(DESeq2)\n",
    "\n",
    "# Custom package\n",
    "library(rutils)"
   ]
  },
  {
   "cell_type": "code",
   "execution_count": 25,
   "metadata": {},
   "outputs": [],
   "source": [
    "dirs <- rutils::get_dev_directories(dev_paths_file = \"../dev_paths.txt\")\n",
    "projects <- c(\"TCGA-CESC\", \"TCGA-UCS\", \"TCGA-UCEC\", \"TCGA-OV\")\n",
    "unified_dsets <- c(\"unified_cervical_data\", \"unified_uterine_data\", \"unified_uterine_endometrial_data\")\n",
    "matrisome_list <- paste0(dirs$data_dir, \"/matrisome/matrisome_hs_masterlist.tsv\")"
   ]
  },
  {
   "cell_type": "code",
   "execution_count": 26,
   "metadata": {},
   "outputs": [
    {
     "name": "stderr",
     "output_type": "stream",
     "text": [
      "Parsed with column specification:\n",
      "cols(\n",
      "  Division = col_character(),\n",
      "  Category = col_character(),\n",
      "  `Gene Symbol` = col_character(),\n",
      "  `Gene Name` = col_character(),\n",
      "  Synonyms = col_character(),\n",
      "  HGNC_IDs = col_double(),\n",
      "  `HGNC_IDs Links` = col_double(),\n",
      "  UniProt_IDs = col_character(),\n",
      "  Refseq_IDs = col_character(),\n",
      "  Orthology = col_character(),\n",
      "  Notes = col_character()\n",
      ")\n",
      "Parsed with column specification:\n",
      "cols(\n",
      "  .default = col_double(),\n",
      "  Hugo_Symbol = col_character()\n",
      ")\n",
      "See spec(...) for full column specifications.\n",
      "converting counts to integer mode\n",
      "Parsed with column specification:\n",
      "cols(\n",
      "  .default = col_double(),\n",
      "  Hugo_Symbol = col_character()\n",
      ")\n",
      "See spec(...) for full column specifications.\n",
      "converting counts to integer mode\n",
      "Parsed with column specification:\n",
      "cols(\n",
      "  .default = col_double(),\n",
      "  Hugo_Symbol = col_character()\n",
      ")\n",
      "See spec(...) for full column specifications.\n",
      "converting counts to integer mode\n"
     ]
    }
   ],
   "source": [
    "matrisome_df <- rutils::load_matrisome_df(matrisome_list)\n",
    "for (i in seq_len(length(unified_dsets))) {\n",
    "    counts_df <- read_tsv(paste0(dirs$data_dir, \"/\", unified_dsets[i], \"/counts.tsv\")) %>%\n",
    "        dplyr::rename(geneID = Hugo_Symbol) %>%\n",
    "        dplyr::select(-Entrez_Gene_Id) %>%\n",
    "        dplyr::mutate_if(is.numeric, round, 0)\n",
    "    \n",
    "    counts <- as.matrix(counts_df[, -1])\n",
    "    rownames(counts) <- counts_df$geneID\n",
    "    norm_counts <- varianceStabilizingTransformation(counts)\n",
    "    \n",
    "    matrisome_counts_df <- counts_df %>%\n",
    "        dplyr::filter(geneID %in% matrisome_df$gene_symbol)\n",
    "\n",
    "    norm_matrisome_counts_df <- norm_counts %>%\n",
    "        as_tibble(rownames = \"geneID\") %>%\n",
    "        dplyr::filter(geneID %in% matrisome_df$gene_symbol)\n",
    "    \n",
    "    write_tsv(matrisome_counts_df, paste0(dirs$data_dir, \"/\", unified_dsets[i], \"/matrisome_counts.tsv\"))\n",
    "    write_tsv(norm_matrisome_counts_df, paste0(dirs$data_dir, \"/\", unified_dsets[i], \"/norm_matrisome_counts.tsv\"))\n",
    "}"
   ]
  }
 ],
 "metadata": {
  "kernelspec": {
   "display_name": "R",
   "language": "R",
   "name": "ir"
  },
  "language_info": {
   "codemirror_mode": "r",
   "file_extension": ".r",
   "mimetype": "text/x-r-source",
   "name": "R",
   "pygments_lexer": "r",
   "version": "3.6.3"
  }
 },
 "nbformat": 4,
 "nbformat_minor": 4
}
