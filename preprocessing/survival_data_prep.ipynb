{
 "cells": [
  {
   "cell_type": "code",
   "execution_count": 29,
   "metadata": {},
   "outputs": [],
   "source": [
    "library(tidyverse)\n",
    "library(HDF5Array)\n",
    "library(SummarizedExperiment)\n",
    "library(TCGAbiolinks)\n",
    "\n",
    "# Custom package\n",
    "library(rutils)"
   ]
  },
  {
   "cell_type": "code",
   "execution_count": 30,
   "metadata": {},
   "outputs": [],
   "source": [
    "dirs <- rutils::get_dev_directories(dev_paths_file = \"../dev_paths.txt\")\n",
    "projects <- c(\"TCGA-CESC\", \"TCGA-UCS\", \"TCGA-UCEC\", \"TCGA-OV\")\n",
    "unified_dsets <- c(\"unified_cervical_data\", \"unified_uterine_data\", \"unified_uterine_endometrial_data\")\n",
    "RSE_objects_dir <- \"saved_RSE_objects\"\n",
    "biolinks_dir <- \"tcga_biolinks_downloads\"\n",
    "TCGA_dest_dir <- paste0(dirs$data_dir, \"/\", biolinks_dir)\n",
    "RSE_objects_dest_dir <- paste0(dirs$data_dir, \"/\", RSE_objects_dir)"
   ]
  },
  {
   "cell_type": "code",
   "execution_count": 31,
   "metadata": {},
   "outputs": [],
   "source": [
    "data_ls <- load_RSE_objects(RSE_objects_dest_dir, projects, paste0(projects, \"_RNA_\"))"
   ]
  },
  {
   "cell_type": "markdown",
   "metadata": {},
   "source": [
    "# Collect survival/metadata\n",
    "\n",
    "Survival data is only relevant for patients with tumors who are no longer alive, so this dataset will be strictly smaller\n",
    "(in terms of samples) than the full expression counts"
   ]
  },
  {
   "cell_type": "code",
   "execution_count": 34,
   "metadata": {},
   "outputs": [],
   "source": [
    "get_unified_tumor_coldata <- function(dset) {\n",
    "    unified_coldata_df <- read_tsv(paste0(dirs$data_dir, \"/\", dset, \"/coldata.tsv\"))\n",
    "    return(\n",
    "        unified_coldata_df %>%\n",
    "            dplyr::filter(condition == \"tumor\")\n",
    "    )\n",
    "}\n",
    "\n",
    "\n",
    "get_clinical_df <- function(RSE_obj) {\n",
    "    race_df <- tibble(race = RSE_obj$race)\n",
    "    race_one_hot <- model.matrix(~race - 1, model.frame(~ ., race_df, na.action = na.pass))\n",
    "#     race_one_hot <- model.matrix(~race, model.frame(~ ., race_df, na.action = na.pass))\n",
    "    colnames(race_one_hot) <- gsub(\" \", \"_\", colnames(race_one_hot))\n",
    "    colnames(race_one_hot) <- sub(\"race\", \"race_\", colnames(race_one_hot))\n",
    "\n",
    "    ethnicity_df <- tibble(ethnicity = RSE_obj$ethnicity)\n",
    "    ethnicity_one_hot <- model.matrix(~ethnicity - 1, model.frame(~ ., ethnicity_df, na.action = na.pass))\n",
    "#     ethnicity_one_hot <- model.matrix(~ethnicity, model.frame(~ ., ethnicity_df, na.action = na.pass))\n",
    "    colnames(ethnicity_one_hot) <- gsub(\" \", \"_\", colnames(ethnicity_one_hot))\n",
    "    colnames(ethnicity_one_hot) <- gsub(\"ethnicity\", \"ethnicity_\", colnames(ethnicity_one_hot))\n",
    "\n",
    "    clinical_df <- as_tibble(colData(RSE_obj)) %>%\n",
    "        bind_cols(as_tibble(race_one_hot)) %>%\n",
    "        bind_cols(as_tibble(ethnicity_one_hot))\n",
    "    return(clinical_df)\n",
    "}\n",
    "\n",
    "\n",
    "get_survival_df <- function(unified_tumor_samples_df, clinical_df, keeper_cols) {\n",
    "    survival_df <- unified_tumor_samples_df %>%\n",
    "        left_join(clinical_df, by = c(\"sample_name\" = \"barcode\")) %>%\n",
    "        mutate(survival_time = pmax(days_to_last_follow_up, days_to_death, na.rm = TRUE)) %>%\n",
    "        dplyr::select(one_of(keeper_cols))\n",
    "    return(survival_df)\n",
    "}"
   ]
  },
  {
   "cell_type": "code",
   "execution_count": 35,
   "metadata": {
    "collapsed": true,
    "jupyter": {
     "outputs_hidden": true
    }
   },
   "outputs": [
    {
     "name": "stderr",
     "output_type": "stream",
     "text": [
      "Parsed with column specification:\n",
      "cols(\n",
      "  sample_name = col_character(),\n",
      "  condition = col_character(),\n",
      "  data_source = col_character()\n",
      ")\n",
      "Parsed with column specification:\n",
      "cols(\n",
      "  sample_name = col_character(),\n",
      "  condition = col_character(),\n",
      "  data_source = col_character()\n",
      ")\n",
      "Parsed with column specification:\n",
      "cols(\n",
      "  sample_name = col_character(),\n",
      "  condition = col_character(),\n",
      "  data_source = col_character()\n",
      ")\n"
     ]
    }
   ],
   "source": [
    "for (i in seq_len(length(unified_dsets))) {\n",
    "    unified_tumor_samples_df <- get_unified_tumor_coldata(unified_dsets[i]) %>%\n",
    "        dplyr::select(sample_name)\n",
    "    clinical_df <- get_clinical_df(data_ls[[i]])\n",
    "    race_cols <- colnames(clinical_df)[grepl(\"^race_\", colnames(clinical_df))]\n",
    "    ethnicity_cols <- colnames(clinical_df)[grepl(\"^ethnicity_\", colnames(clinical_df))]\n",
    "    keeper_cols <- c(\"sample_name\", \"vital_status\", \"days_to_last_follow_up\", \"days_to_death\", \"survival_time\", \"age_at_diagnosis\", \"age_at_index\", \"height\", \"weight\", \"bmi\", race_cols, ethnicity_cols)\n",
    "    survival_df <- get_survival_df(unified_tumor_samples_df, clinical_df, keeper_cols)\n",
    "    \n",
    "    write_tsv(survival_df, paste0(dirs$data_dir, \"/\", unified_dsets[i], \"/survival_data.tsv\"))\n",
    "}"
   ]
  }
 ],
 "metadata": {
  "kernelspec": {
   "display_name": "R",
   "language": "R",
   "name": "ir"
  },
  "language_info": {
   "codemirror_mode": "r",
   "file_extension": ".r",
   "mimetype": "text/x-r-source",
   "name": "R",
   "pygments_lexer": "r",
   "version": "3.6.3"
  }
 },
 "nbformat": 4,
 "nbformat_minor": 4
}
