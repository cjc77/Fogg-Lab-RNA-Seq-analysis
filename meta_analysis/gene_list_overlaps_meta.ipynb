{
 "cells": [
  {
   "cell_type": "code",
   "execution_count": 1,
   "id": "wrapped-backup",
   "metadata": {},
   "outputs": [
    {
     "name": "stderr",
     "output_type": "stream",
     "text": [
      "-- \u001b[1mAttaching packages\u001b[22m ------------------------------------------------------------------ tidyverse 1.3.0 --\n",
      "\n",
      "\u001b[32mv\u001b[39m \u001b[34mggplot2\u001b[39m 3.3.3     \u001b[32mv\u001b[39m \u001b[34mpurrr  \u001b[39m 0.3.4\n",
      "\u001b[32mv\u001b[39m \u001b[34mtibble \u001b[39m 3.0.6     \u001b[32mv\u001b[39m \u001b[34mdplyr  \u001b[39m 1.0.4\n",
      "\u001b[32mv\u001b[39m \u001b[34mtidyr  \u001b[39m 1.1.2     \u001b[32mv\u001b[39m \u001b[34mstringr\u001b[39m 1.4.0\n",
      "\u001b[32mv\u001b[39m \u001b[34mreadr  \u001b[39m 1.4.0     \u001b[32mv\u001b[39m \u001b[34mforcats\u001b[39m 0.5.1\n",
      "\n",
      "-- \u001b[1mConflicts\u001b[22m --------------------------------------------------------------------- tidyverse_conflicts() --\n",
      "\u001b[31mx\u001b[39m \u001b[34mdplyr\u001b[39m::\u001b[32mfilter()\u001b[39m masks \u001b[34mstats\u001b[39m::filter()\n",
      "\u001b[31mx\u001b[39m \u001b[34mdplyr\u001b[39m::\u001b[32mlag()\u001b[39m    masks \u001b[34mstats\u001b[39m::lag()\n",
      "\n"
     ]
    }
   ],
   "source": [
    "library(tidyverse)\n",
    "\n",
    "# Custom package\n",
    "library(rutils)"
   ]
  },
  {
   "cell_type": "code",
   "execution_count": 2,
   "id": "elect-intro",
   "metadata": {},
   "outputs": [],
   "source": [
    "dirs <- rutils::get_dev_directories(dev_paths_file = \"../dev_paths.txt\")\n",
    "projects <- c(\"CESC\", \"UCS\", \"UCEC\")\n",
    "unified_dsets <- c(\"unified_cervical_data\", \"unified_uterine_data\", \"unified_uterine_endometrial_data\")\n",
    "matrisome_path <- paste0(dirs$data_dir, \"/matrisome/matrisome_hs_masterlist.tsv\")"
   ]
  },
  {
   "cell_type": "code",
   "execution_count": 3,
   "id": "marked-mongolia",
   "metadata": {},
   "outputs": [],
   "source": [
    "demg_files <- paste0(dirs$analysis_dir, \"/gene_lists/\", unified_dsets, \"_demg_list.txt\")\n",
    "figo_umsmg_files <- paste0(dirs$analysis_dir, \"/gene_lists/\", unified_dsets, \"_figo_umsmg_list.txt\")\n",
    "figo_nsmg_files <- paste0(dirs$analysis_dir, \"/gene_lists/\", unified_dsets, \"_figo_nsmg_list.txt\")\n",
    "survival_files <- paste0(dirs$analysis_dir, \"/gene_lists/\", unified_dsets, \"_survival_umsmg_list.txt\")"
   ]
  },
  {
   "cell_type": "code",
   "execution_count": 4,
   "id": "legitimate-population",
   "metadata": {},
   "outputs": [],
   "source": [
    "save_results <- TRUE"
   ]
  },
  {
   "cell_type": "code",
   "execution_count": 5,
   "id": "pacific-monaco",
   "metadata": {},
   "outputs": [
    {
     "name": "stderr",
     "output_type": "stream",
     "text": [
      "\n",
      "\u001b[36m--\u001b[39m \u001b[1m\u001b[1mColumn specification\u001b[1m\u001b[22m \u001b[36m-----------------------------------------------------------------------------------\u001b[39m\n",
      "cols(\n",
      "  Division = \u001b[31mcol_character()\u001b[39m,\n",
      "  Category = \u001b[31mcol_character()\u001b[39m,\n",
      "  `Gene Symbol` = \u001b[31mcol_character()\u001b[39m,\n",
      "  `Gene Name` = \u001b[31mcol_character()\u001b[39m,\n",
      "  Synonyms = \u001b[31mcol_character()\u001b[39m,\n",
      "  HGNC_IDs = \u001b[32mcol_double()\u001b[39m,\n",
      "  `HGNC_IDs Links` = \u001b[32mcol_double()\u001b[39m,\n",
      "  UniProt_IDs = \u001b[31mcol_character()\u001b[39m,\n",
      "  Refseq_IDs = \u001b[31mcol_character()\u001b[39m,\n",
      "  Orthology = \u001b[31mcol_character()\u001b[39m,\n",
      "  Notes = \u001b[31mcol_character()\u001b[39m\n",
      ")\n",
      "\n",
      "\n"
     ]
    }
   ],
   "source": [
    "demg_lists <- list()\n",
    "figo_umsmg_lists <- list()\n",
    "figo_nsmg_lists <- list()\n",
    "survival_lists <- list()\n",
    "\n",
    "for (i in 1:3) {\n",
    "    demg_lists[[unified_dsets[i]]] <- read_lines(demg_files[i])\n",
    "    figo_umsmg_lists[[unified_dsets[i]]] <- read_lines(figo_umsmg_files[i])\n",
    "    figo_nsmg_lists[[unified_dsets[i]]] <- read_lines(figo_nsmg_files[i])\n",
    "    survival_lists[[unified_dsets[i]]] <- read_lines(survival_files[i])\n",
    "    \n",
    "#     figo_umsmg_list <- read_lines(figo_umsmg_files[i])\n",
    "#     figo_nsmg_list <- read_lines(figo_nsmg_files[i])\n",
    "#     figo_lists[[unified_dsets[i]]] <- figo_umsmg_list %>%\n",
    "#         union(figo_nsmg_list)\n",
    "#     survival_lists[[unified_dsets[i]]] <- read_lines(survival_files[i])\n",
    "}\n",
    "matrisome_df <- load_matrisome_df(matrisome_path)"
   ]
  },
  {
   "cell_type": "code",
   "execution_count": 6,
   "id": "stock-sauce",
   "metadata": {},
   "outputs": [],
   "source": [
    "l1 <- list(a = c(1, 2, 3), b = c(10, 11, 12))\n",
    "l2 <- list(a = c(3, 4, 5), b = c(12, 13, 14, 15))"
   ]
  },
  {
   "cell_type": "code",
   "execution_count": 7,
   "id": "current-estimate",
   "metadata": {},
   "outputs": [
    {
     "data": {
      "text/html": [
       "<dl>\n",
       "\t<dt>$a</dt>\n",
       "\t\t<dd><style>\n",
       ".list-inline {list-style: none; margin:0; padding: 0}\n",
       ".list-inline>li {display: inline-block}\n",
       ".list-inline>li:not(:last-child)::after {content: \"\\00b7\"; padding: 0 .5ex}\n",
       "</style>\n",
       "<ol class=list-inline><li>1</li><li>2</li><li>3</li><li>4</li><li>5</li></ol>\n",
       "</dd>\n",
       "\t<dt>$b</dt>\n",
       "\t\t<dd><style>\n",
       ".list-inline {list-style: none; margin:0; padding: 0}\n",
       ".list-inline>li {display: inline-block}\n",
       ".list-inline>li:not(:last-child)::after {content: \"\\00b7\"; padding: 0 .5ex}\n",
       "</style>\n",
       "<ol class=list-inline><li>10</li><li>11</li><li>12</li><li>13</li><li>14</li><li>15</li></ol>\n",
       "</dd>\n",
       "</dl>\n"
      ],
      "text/latex": [
       "\\begin{description}\n",
       "\\item[\\$a] \\begin{enumerate*}\n",
       "\\item 1\n",
       "\\item 2\n",
       "\\item 3\n",
       "\\item 4\n",
       "\\item 5\n",
       "\\end{enumerate*}\n",
       "\n",
       "\\item[\\$b] \\begin{enumerate*}\n",
       "\\item 10\n",
       "\\item 11\n",
       "\\item 12\n",
       "\\item 13\n",
       "\\item 14\n",
       "\\item 15\n",
       "\\end{enumerate*}\n",
       "\n",
       "\\end{description}\n"
      ],
      "text/markdown": [
       "$a\n",
       ":   1. 1\n",
       "2. 2\n",
       "3. 3\n",
       "4. 4\n",
       "5. 5\n",
       "\n",
       "\n",
       "\n",
       "$b\n",
       ":   1. 10\n",
       "2. 11\n",
       "3. 12\n",
       "4. 13\n",
       "5. 14\n",
       "6. 15\n",
       "\n",
       "\n",
       "\n",
       "\n",
       "\n"
      ],
      "text/plain": [
       "$a\n",
       "[1] 1 2 3 4 5\n",
       "\n",
       "$b\n",
       "[1] 10 11 12 13 14 15\n"
      ]
     },
     "metadata": {},
     "output_type": "display_data"
    }
   ],
   "source": [
    "mapply(union, l1, l2)"
   ]
  },
  {
   "cell_type": "code",
   "execution_count": 8,
   "id": "known-person",
   "metadata": {},
   "outputs": [
    {
     "data": {
      "text/html": [
       "<dl>\n",
       "\t<dt>$unified_cervical_data</dt>\n",
       "\t\t<dd>251</dd>\n",
       "\t<dt>$unified_uterine_data</dt>\n",
       "\t\t<dd>177</dd>\n",
       "\t<dt>$unified_uterine_endometrial_data</dt>\n",
       "\t\t<dd>207</dd>\n",
       "</dl>\n"
      ],
      "text/latex": [
       "\\begin{description}\n",
       "\\item[\\$unified\\_cervical\\_data] 251\n",
       "\\item[\\$unified\\_uterine\\_data] 177\n",
       "\\item[\\$unified\\_uterine\\_endometrial\\_data] 207\n",
       "\\end{description}\n"
      ],
      "text/markdown": [
       "$unified_cervical_data\n",
       ":   251\n",
       "$unified_uterine_data\n",
       ":   177\n",
       "$unified_uterine_endometrial_data\n",
       ":   207\n",
       "\n",
       "\n"
      ],
      "text/plain": [
       "$unified_cervical_data\n",
       "[1] 251\n",
       "\n",
       "$unified_uterine_data\n",
       "[1] 177\n",
       "\n",
       "$unified_uterine_endometrial_data\n",
       "[1] 207\n"
      ]
     },
     "metadata": {},
     "output_type": "display_data"
    }
   ],
   "source": [
    "figo_sig_lists <- mapply(intersect, mapply(union, figo_umsmg_lists, figo_nsmg_lists), demg_lists)\n",
    "figo_sig_lists %>% map(length)"
   ]
  },
  {
   "cell_type": "code",
   "execution_count": 9,
   "id": "pressing-walter",
   "metadata": {},
   "outputs": [
    {
     "data": {
      "text/html": [
       "<dl>\n",
       "\t<dt>$unified_cervical_data</dt>\n",
       "\t\t<dd>33</dd>\n",
       "\t<dt>$unified_uterine_data</dt>\n",
       "\t\t<dd>18</dd>\n",
       "\t<dt>$unified_uterine_endometrial_data</dt>\n",
       "\t\t<dd>26</dd>\n",
       "</dl>\n"
      ],
      "text/latex": [
       "\\begin{description}\n",
       "\\item[\\$unified\\_cervical\\_data] 33\n",
       "\\item[\\$unified\\_uterine\\_data] 18\n",
       "\\item[\\$unified\\_uterine\\_endometrial\\_data] 26\n",
       "\\end{description}\n"
      ],
      "text/markdown": [
       "$unified_cervical_data\n",
       ":   33\n",
       "$unified_uterine_data\n",
       ":   18\n",
       "$unified_uterine_endometrial_data\n",
       ":   26\n",
       "\n",
       "\n"
      ],
      "text/plain": [
       "$unified_cervical_data\n",
       "[1] 33\n",
       "\n",
       "$unified_uterine_data\n",
       "[1] 18\n",
       "\n",
       "$unified_uterine_endometrial_data\n",
       "[1] 26\n"
      ]
     },
     "metadata": {},
     "output_type": "display_data"
    }
   ],
   "source": [
    "survival_sig_lists <- mapply(intersect, survival_lists, demg_lists)\n",
    "survival_sig_lists %>% map(length)"
   ]
  },
  {
   "cell_type": "code",
   "execution_count": 10,
   "id": "selective-miami",
   "metadata": {},
   "outputs": [
    {
     "data": {
      "text/html": [
       "<dl>\n",
       "\t<dt>$unified_cervical_data</dt>\n",
       "\t\t<dd>13</dd>\n",
       "\t<dt>$unified_uterine_data</dt>\n",
       "\t\t<dd>3</dd>\n",
       "\t<dt>$unified_uterine_endometrial_data</dt>\n",
       "\t\t<dd>9</dd>\n",
       "</dl>\n"
      ],
      "text/latex": [
       "\\begin{description}\n",
       "\\item[\\$unified\\_cervical\\_data] 13\n",
       "\\item[\\$unified\\_uterine\\_data] 3\n",
       "\\item[\\$unified\\_uterine\\_endometrial\\_data] 9\n",
       "\\end{description}\n"
      ],
      "text/markdown": [
       "$unified_cervical_data\n",
       ":   13\n",
       "$unified_uterine_data\n",
       ":   3\n",
       "$unified_uterine_endometrial_data\n",
       ":   9\n",
       "\n",
       "\n"
      ],
      "text/plain": [
       "$unified_cervical_data\n",
       "[1] 13\n",
       "\n",
       "$unified_uterine_data\n",
       "[1] 3\n",
       "\n",
       "$unified_uterine_endometrial_data\n",
       "[1] 9\n"
      ]
     },
     "metadata": {},
     "output_type": "display_data"
    }
   ],
   "source": [
    "figo_survival_sig_lists <- mapply(intersect, figo_sig_lists, survival_sig_lists)\n",
    "figo_survival_sig_lists %>% map(length)"
   ]
  },
  {
   "cell_type": "code",
   "execution_count": 11,
   "id": "ambient-sphere",
   "metadata": {},
   "outputs": [
    {
     "data": {
      "text/html": [
       "340"
      ],
      "text/latex": [
       "340"
      ],
      "text/markdown": [
       "340"
      ],
      "text/plain": [
       "[1] 340"
      ]
     },
     "metadata": {},
     "output_type": "display_data"
    }
   ],
   "source": [
    "demg_all_list <- Reduce(intersect, demg_lists)\n",
    "demg_all_list %>% length()"
   ]
  },
  {
   "cell_type": "code",
   "execution_count": 12,
   "id": "developmental-central",
   "metadata": {},
   "outputs": [
    {
     "data": {
      "text/html": [
       "19"
      ],
      "text/latex": [
       "19"
      ],
      "text/markdown": [
       "19"
      ],
      "text/plain": [
       "[1] 19"
      ]
     },
     "metadata": {},
     "output_type": "display_data"
    }
   ],
   "source": [
    "figo_all_sig_list <- Reduce(intersect, figo_sig_lists)\n",
    "figo_all_sig_list %>% length()"
   ]
  },
  {
   "cell_type": "code",
   "execution_count": 13,
   "id": "unknown-bradford",
   "metadata": {},
   "outputs": [
    {
     "data": {
      "text/html": [
       "0"
      ],
      "text/latex": [
       "0"
      ],
      "text/markdown": [
       "0"
      ],
      "text/plain": [
       "[1] 0"
      ]
     },
     "metadata": {},
     "output_type": "display_data"
    }
   ],
   "source": [
    "survival_all_sig_list <- Reduce(intersect, survival_sig_lists)\n",
    "survival_all_sig_list %>% length()"
   ]
  },
  {
   "cell_type": "code",
   "execution_count": 14,
   "id": "emerging-appliance",
   "metadata": {},
   "outputs": [
    {
     "data": {
      "text/html": [
       "<dl>\n",
       "\t<dt>$cesc_ucs</dt>\n",
       "\t\t<dd>393</dd>\n",
       "\t<dt>$cesc_ucec</dt>\n",
       "\t\t<dd>454</dd>\n",
       "\t<dt>$ucec_ucs</dt>\n",
       "\t\t<dd>460</dd>\n",
       "</dl>\n"
      ],
      "text/latex": [
       "\\begin{description}\n",
       "\\item[\\$cesc\\_ucs] 393\n",
       "\\item[\\$cesc\\_ucec] 454\n",
       "\\item[\\$ucec\\_ucs] 460\n",
       "\\end{description}\n"
      ],
      "text/markdown": [
       "$cesc_ucs\n",
       ":   393\n",
       "$cesc_ucec\n",
       ":   454\n",
       "$ucec_ucs\n",
       ":   460\n",
       "\n",
       "\n"
      ],
      "text/plain": [
       "$cesc_ucs\n",
       "[1] 393\n",
       "\n",
       "$cesc_ucec\n",
       "[1] 454\n",
       "\n",
       "$ucec_ucs\n",
       "[1] 460\n"
      ]
     },
     "metadata": {},
     "output_type": "display_data"
    }
   ],
   "source": [
    "demg_all_pairs_list <- demg_lists %>%\n",
    "    combn(2, simplify = FALSE) %>%\n",
    "    lapply(function(x) { intersect(x[[1]], x[[2]]) })\n",
    "\n",
    "demg_all_pairs_list <- setNames(demg_all_pairs_list, c(\"cesc_ucs\", \"cesc_ucec\", \"ucec_ucs\"))\n",
    "demg_all_pairs_list %>% map(length)"
   ]
  },
  {
   "cell_type": "code",
   "execution_count": 15,
   "id": "activated-shield",
   "metadata": {},
   "outputs": [
    {
     "data": {
      "text/html": [
       "<dl>\n",
       "\t<dt>$cesc_ucs</dt>\n",
       "\t\t<dd>60</dd>\n",
       "\t<dt>$cesc_ucec</dt>\n",
       "\t\t<dd>66</dd>\n",
       "\t<dt>$ucec_ucs</dt>\n",
       "\t\t<dd>52</dd>\n",
       "</dl>\n"
      ],
      "text/latex": [
       "\\begin{description}\n",
       "\\item[\\$cesc\\_ucs] 60\n",
       "\\item[\\$cesc\\_ucec] 66\n",
       "\\item[\\$ucec\\_ucs] 52\n",
       "\\end{description}\n"
      ],
      "text/markdown": [
       "$cesc_ucs\n",
       ":   60\n",
       "$cesc_ucec\n",
       ":   66\n",
       "$ucec_ucs\n",
       ":   52\n",
       "\n",
       "\n"
      ],
      "text/plain": [
       "$cesc_ucs\n",
       "[1] 60\n",
       "\n",
       "$cesc_ucec\n",
       "[1] 66\n",
       "\n",
       "$ucec_ucs\n",
       "[1] 52\n"
      ]
     },
     "metadata": {},
     "output_type": "display_data"
    }
   ],
   "source": [
    "figo_all_pairs <- figo_sig_lists %>%\n",
    "    combn(2, simplify = FALSE) %>%\n",
    "    lapply(function(x) { intersect(x[[1]], x[[2]]) })\n",
    "\n",
    "figo_all_pairs <- setNames(figo_all_pairs, c(\"cesc_ucs\", \"cesc_ucec\", \"ucec_ucs\"))\n",
    "figo_all_pairs %>% map(length)"
   ]
  },
  {
   "cell_type": "code",
   "execution_count": 16,
   "id": "raising-approach",
   "metadata": {},
   "outputs": [
    {
     "data": {
      "text/html": [
       "<dl>\n",
       "\t<dt>$cesc_ucs</dt>\n",
       "\t\t<dd>0</dd>\n",
       "\t<dt>$cesc_ucec</dt>\n",
       "\t\t<dd>1</dd>\n",
       "\t<dt>$ucec_ucs</dt>\n",
       "\t\t<dd>0</dd>\n",
       "</dl>\n"
      ],
      "text/latex": [
       "\\begin{description}\n",
       "\\item[\\$cesc\\_ucs] 0\n",
       "\\item[\\$cesc\\_ucec] 1\n",
       "\\item[\\$ucec\\_ucs] 0\n",
       "\\end{description}\n"
      ],
      "text/markdown": [
       "$cesc_ucs\n",
       ":   0\n",
       "$cesc_ucec\n",
       ":   1\n",
       "$ucec_ucs\n",
       ":   0\n",
       "\n",
       "\n"
      ],
      "text/plain": [
       "$cesc_ucs\n",
       "[1] 0\n",
       "\n",
       "$cesc_ucec\n",
       "[1] 1\n",
       "\n",
       "$ucec_ucs\n",
       "[1] 0\n"
      ]
     },
     "metadata": {},
     "output_type": "display_data"
    }
   ],
   "source": [
    "survival_all_pairs <- survival_sig_lists %>%\n",
    "    combn(2, simplify = FALSE) %>%\n",
    "    lapply(function(x) { intersect(x[[1]], x[[2]]) })\n",
    "\n",
    "survival_all_pairs <- setNames(survival_all_pairs, c(\"cesc_ucs\", \"cesc_ucec\", \"ucec_ucs\"))\n",
    "survival_all_pairs %>% map(length)"
   ]
  },
  {
   "cell_type": "code",
   "execution_count": 17,
   "id": "provincial-father",
   "metadata": {},
   "outputs": [],
   "source": [
    "if (save_results) {\n",
    "    # FIGO sig\n",
    "    figo_sig_lists$unified_cervical_data %>% write_lines(paste0(dirs$analysis_dir, \"/gene_lists_extra/cesc_figo_demg.txt\"))\n",
    "    figo_sig_lists$unified_uterine_data %>% write_lines(paste0(dirs$analysis_dir, \"/gene_lists_extra/ucs_figo_demg.txt\"))\n",
    "    figo_sig_lists$unified_uterine_endometrial_data %>% write_lines(paste0(dirs$analysis_dir, \"/gene_lists_extra/ucec_figo_demg.txt\"))\n",
    "    \n",
    "    # Survival sig\n",
    "    survival_sig_lists$unified_cervical_data %>% write_lines(paste0(dirs$analysis_dir, \"/gene_lists_extra/cesc_survival_demg.txt\"))\n",
    "    survival_sig_lists$unified_uterine_data %>% write_lines(paste0(dirs$analysis_dir, \"/gene_lists_extra/ucs_survival_demg.txt\"))\n",
    "    survival_sig_lists$unified_uterine_endometrial_data %>% write_lines(paste0(dirs$analysis_dir, \"/gene_lists_extra/ucec_survival_demg.txt\"))\n",
    "    \n",
    "    # FIGO and survival sig\n",
    "    figo_survival_sig_lists$unified_cervical_data %>% write_lines(paste0(dirs$analysis_dir, \"/gene_lists_extra/cesc_figo_survival_demg.txt\"))\n",
    "    figo_survival_sig_lists$unified_uterine_data %>% write_lines(paste0(dirs$analysis_dir, \"/gene_lists_extra/ucs_figo_survival_demg.txt\"))\n",
    "    figo_survival_sig_lists$unified_uterine_endometrial_data %>% write_lines(paste0(dirs$analysis_dir, \"/gene_lists_extra/ucec_figo_survival_demg.txt\"))\n",
    "    \n",
    "    # DEMG (all)\n",
    "    demg_all_list %>% write_lines(paste0(dirs$analysis_dir, \"/gene_lists_extra/all_demg.txt\"))\n",
    "    \n",
    "    # FIGO (all)\n",
    "    figo_all_sig_list %>% write_lines(paste0(dirs$analysis_dir, \"/gene_lists_extra/all_figo_demg.txt\"))\n",
    "    \n",
    "    # DEMG pairs\n",
    "    demg_all_pairs_list$cesc_ucs %>% write_lines(paste0(dirs$analysis_dir, \"/gene_lists_extra/cesc_ucs_demg.txt\"))\n",
    "    demg_all_pairs_list$cesc_ucec %>% write_lines(paste0(dirs$analysis_dir, \"/gene_lists_extra/cesc_ucec_demg.txt\"))\n",
    "    demg_all_pairs_list$ucs_ucec %>% write_lines(paste0(dirs$analysis_dir, \"/gene_lists_extra/ucec_ucs_demg.txt\"))\n",
    "    \n",
    "    # FIGO pairs\n",
    "    figo_all_pairs$cesc_ucs %>% write_lines(paste0(dirs$analysis_dir, \"/gene_lists_extra/cesc_ucs_figo_demg.txt\"))\n",
    "    figo_all_pairs$cesc_ucec %>% write_lines(paste0(dirs$analysis_dir, \"/gene_lists_extra/cesc_ucec_figo_demg.txt\"))\n",
    "    figo_all_pairs$ucec_ucs %>% write_lines(paste0(dirs$analysis_dir, \"/gene_lists_extra/ucec_ucs_figo_demg.txt\"))\n",
    "    \n",
    "    # Survival pairs\n",
    "    survival_all_pairs$cesc_ucs %>% write_lines(paste0(dirs$analysis_dir, \"/gene_lists_extra/cesc_ucs_survival_demg.txt\"))\n",
    "    survival_all_pairs$cesc_ucec %>% write_lines(paste0(dirs$analysis_dir, \"/gene_lists_extra/cesc_ucec_survival_demg.txt\"))\n",
    "    survival_all_pairs$ucec_ucs %>% write_lines(paste0(dirs$analysis_dir, \"/gene_lists_extra/ucec_ucs_survival_demg.txt\"))\n",
    "}"
   ]
  },
  {
   "cell_type": "code",
   "execution_count": null,
   "id": "peripheral-operations",
   "metadata": {},
   "outputs": [],
   "source": []
  }
 ],
 "metadata": {
  "kernelspec": {
   "display_name": "R",
   "language": "R",
   "name": "ir"
  },
  "language_info": {
   "codemirror_mode": "r",
   "file_extension": ".r",
   "mimetype": "text/x-r-source",
   "name": "R",
   "pygments_lexer": "r",
   "version": "4.0.3"
  }
 },
 "nbformat": 4,
 "nbformat_minor": 5
}
