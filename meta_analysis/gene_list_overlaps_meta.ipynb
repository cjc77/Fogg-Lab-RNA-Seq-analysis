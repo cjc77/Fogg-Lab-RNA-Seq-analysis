{
 "cells": [
  {
   "cell_type": "code",
   "execution_count": 1,
   "id": "upper-practitioner",
   "metadata": {},
   "outputs": [
    {
     "name": "stderr",
     "output_type": "stream",
     "text": [
      "-- \u001b[1mAttaching packages\u001b[22m ---------------------------------------------------------------------- tidyverse 1.3.0 --\n",
      "\n",
      "\u001b[32mv\u001b[39m \u001b[34mggplot2\u001b[39m 3.3.3     \u001b[32mv\u001b[39m \u001b[34mpurrr  \u001b[39m 0.3.4\n",
      "\u001b[32mv\u001b[39m \u001b[34mtibble \u001b[39m 3.0.6     \u001b[32mv\u001b[39m \u001b[34mdplyr  \u001b[39m 1.0.4\n",
      "\u001b[32mv\u001b[39m \u001b[34mtidyr  \u001b[39m 1.1.2     \u001b[32mv\u001b[39m \u001b[34mstringr\u001b[39m 1.4.0\n",
      "\u001b[32mv\u001b[39m \u001b[34mreadr  \u001b[39m 1.4.0     \u001b[32mv\u001b[39m \u001b[34mforcats\u001b[39m 0.5.1\n",
      "\n",
      "-- \u001b[1mConflicts\u001b[22m ------------------------------------------------------------------------- tidyverse_conflicts() --\n",
      "\u001b[31mx\u001b[39m \u001b[34mdplyr\u001b[39m::\u001b[32mfilter()\u001b[39m masks \u001b[34mstats\u001b[39m::filter()\n",
      "\u001b[31mx\u001b[39m \u001b[34mdplyr\u001b[39m::\u001b[32mlag()\u001b[39m    masks \u001b[34mstats\u001b[39m::lag()\n",
      "\n"
     ]
    }
   ],
   "source": [
    "library(tidyverse)\n",
    "\n",
    "# Custom package\n",
    "library(rutils)"
   ]
  },
  {
   "cell_type": "code",
   "execution_count": 2,
   "id": "stone-machinery",
   "metadata": {},
   "outputs": [],
   "source": [
    "dirs <- rutils::get_dev_directories(dev_paths_file = \"../dev_paths.txt\")\n",
    "projects <- c(\"CESC\", \"UCS\", \"UCEC\")\n",
    "unified_dsets <- c(\"unified_cervical_data\", \"unified_uterine_data\", \"unified_uterine_endometrial_data\")\n",
    "matrisome_path <- paste0(dirs$data_dir, \"/matrisome/matrisome_hs_masterlist.tsv\")"
   ]
  },
  {
   "cell_type": "code",
   "execution_count": 3,
   "id": "brave-ballet",
   "metadata": {},
   "outputs": [],
   "source": [
    "demg_files <- paste0(dirs$analysis_dir, \"/gene_lists/\", unified_dsets, \"_demg_list.txt\")\n",
    "figo_umsmg_files <- paste0(dirs$analysis_dir, \"/gene_lists/\", unified_dsets, \"_figo_umsmg_list.txt\")\n",
    "figo_nsmg_files <- paste0(dirs$analysis_dir, \"/gene_lists/\", unified_dsets, \"_figo_nsmg_list.txt\")\n",
    "survival_files <- paste0(dirs$analysis_dir, \"/gene_lists/\", unified_dsets, \"_survival_umsmg_list.txt\")"
   ]
  },
  {
   "cell_type": "code",
   "execution_count": 8,
   "id": "conceptual-middle",
   "metadata": {},
   "outputs": [
    {
     "name": "stderr",
     "output_type": "stream",
     "text": [
      "\n",
      "\u001b[36m--\u001b[39m \u001b[1m\u001b[1mColumn specification\u001b[1m\u001b[22m \u001b[36m---------------------------------------------------------------------------------------\u001b[39m\n",
      "cols(\n",
      "  Division = \u001b[31mcol_character()\u001b[39m,\n",
      "  Category = \u001b[31mcol_character()\u001b[39m,\n",
      "  `Gene Symbol` = \u001b[31mcol_character()\u001b[39m,\n",
      "  `Gene Name` = \u001b[31mcol_character()\u001b[39m,\n",
      "  Synonyms = \u001b[31mcol_character()\u001b[39m,\n",
      "  HGNC_IDs = \u001b[32mcol_double()\u001b[39m,\n",
      "  `HGNC_IDs Links` = \u001b[32mcol_double()\u001b[39m,\n",
      "  UniProt_IDs = \u001b[31mcol_character()\u001b[39m,\n",
      "  Refseq_IDs = \u001b[31mcol_character()\u001b[39m,\n",
      "  Orthology = \u001b[31mcol_character()\u001b[39m,\n",
      "  Notes = \u001b[31mcol_character()\u001b[39m\n",
      ")\n",
      "\n",
      "\n"
     ]
    }
   ],
   "source": [
    "demg_lists <- list()\n",
    "figo_umsmg_lists <- list()\n",
    "survival_umsmg_lists <- list()\n",
    "figo_umsmg_demg_lists <- list()\n",
    "\n",
    "for (i in 1:3) {\n",
    "    demg_lists[[unified_dsets[i]]] <- read_lines(demg_files[i])\n",
    "    figo_umsmg_lists[[unified_dsets[i]]] <- read_lines(figo_umsmg_files[i])\n",
    "    survival_umsmg_lists[[unified_dsets[i]]] <- read_lines(survival_files[i])\n",
    "    figo_umsmg_demg_lists[[unified_dsets[i]]] <- intersect(figo_umsmg_lists[[unified_dsets[i]]], demg_lists[[unified_dsets[i]]])\n",
    "    \n",
    "#     figo_umsmg_list <- read_lines(figo_umsmg_files[i])\n",
    "#     figo_nsmg_list <- read_lines(figo_nsmg_files[i])\n",
    "#     figo_lists[[unified_dsets[i]]] <- figo_umsmg_list %>%\n",
    "#         union(figo_nsmg_list)\n",
    "#     survival_lists[[unified_dsets[i]]] <- read_lines(survival_files[i])\n",
    "}\n",
    "matrisome_df <- load_matrisome_df(matrisome_path)"
   ]
  },
  {
   "cell_type": "code",
   "execution_count": 22,
   "id": "loving-fashion",
   "metadata": {},
   "outputs": [
    {
     "data": {
      "text/html": [],
      "text/latex": [],
      "text/markdown": [],
      "text/plain": [
       "character(0)"
      ]
     },
     "metadata": {},
     "output_type": "display_data"
    }
   ],
   "source": [
    "Reduce(intersect, figo_umsmg_demg_lists)"
   ]
  },
  {
   "cell_type": "code",
   "execution_count": 35,
   "id": "protecting-short",
   "metadata": {},
   "outputs": [
    {
     "data": {
      "text/html": [
       "'PRL'"
      ],
      "text/latex": [
       "'PRL'"
      ],
      "text/markdown": [
       "'PRL'"
      ],
      "text/plain": [
       "[1] \"PRL\""
      ]
     },
     "metadata": {},
     "output_type": "display_data"
    },
    {
     "data": {
      "text/html": [
       "<style>\n",
       ".list-inline {list-style: none; margin:0; padding: 0}\n",
       ".list-inline>li {display: inline-block}\n",
       ".list-inline>li:not(:last-child)::after {content: \"\\00b7\"; padding: 0 .5ex}\n",
       "</style>\n",
       "<ol class=list-inline><li>'ANGPTL2'</li><li>'SERPINA3'</li></ol>\n"
      ],
      "text/latex": [
       "\\begin{enumerate*}\n",
       "\\item 'ANGPTL2'\n",
       "\\item 'SERPINA3'\n",
       "\\end{enumerate*}\n"
      ],
      "text/markdown": [
       "1. 'ANGPTL2'\n",
       "2. 'SERPINA3'\n",
       "\n",
       "\n"
      ],
      "text/plain": [
       "[1] \"ANGPTL2\"  \"SERPINA3\""
      ]
     },
     "metadata": {},
     "output_type": "display_data"
    },
    {
     "data": {
      "text/html": [
       "<style>\n",
       ".list-inline {list-style: none; margin:0; padding: 0}\n",
       ".list-inline>li {display: inline-block}\n",
       ".list-inline>li:not(:last-child)::after {content: \"\\00b7\"; padding: 0 .5ex}\n",
       "</style>\n",
       "<ol class=list-inline><li>'KAL1'</li><li>'CCL3L3'</li></ol>\n"
      ],
      "text/latex": [
       "\\begin{enumerate*}\n",
       "\\item 'KAL1'\n",
       "\\item 'CCL3L3'\n",
       "\\end{enumerate*}\n"
      ],
      "text/markdown": [
       "1. 'KAL1'\n",
       "2. 'CCL3L3'\n",
       "\n",
       "\n"
      ],
      "text/plain": [
       "[1] \"KAL1\"   \"CCL3L3\""
      ]
     },
     "metadata": {},
     "output_type": "display_data"
    }
   ],
   "source": [
    "intersect(figo_umsmg_demg_lists$unified_cervical_data, figo_umsmg_demg_lists$unified_uterine_endometrial_data)\n",
    "# intersect(figo_umsmg_demg_lists$unified_cervical_data, figo_umsmg_demg_lists$unified_uterine_data)\n",
    "intersect(figo_umsmg_demg_lists$unified_uterine_data, figo_umsmg_demg_lists$unified_uterine_endometrial_data)\n",
    "intersect(figo_umsmg_demg_lists$unified_cervical_data, figo_umsmg_demg_lists$unified_uterine_data)"
   ]
  },
  {
   "cell_type": "code",
   "execution_count": null,
   "id": "german-roman",
   "metadata": {},
   "outputs": [],
   "source": []
  }
 ],
 "metadata": {
  "kernelspec": {
   "display_name": "R",
   "language": "R",
   "name": "ir"
  },
  "language_info": {
   "codemirror_mode": "r",
   "file_extension": ".r",
   "mimetype": "text/x-r-source",
   "name": "R",
   "pygments_lexer": "r",
   "version": "4.0.3"
  }
 },
 "nbformat": 4,
 "nbformat_minor": 5
}
