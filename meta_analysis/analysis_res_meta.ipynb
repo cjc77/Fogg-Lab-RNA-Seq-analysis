{
 "cells": [
  {
   "cell_type": "code",
   "execution_count": 1,
   "metadata": {},
   "outputs": [
    {
     "name": "stderr",
     "output_type": "stream",
     "text": [
      "-- \u001b[1mAttaching packages\u001b[22m ------------------------------------------------------------------------------- tidyverse 1.3.0 --\n",
      "\n",
      "\u001b[32mv\u001b[39m \u001b[34mggplot2\u001b[39m 3.3.3     \u001b[32mv\u001b[39m \u001b[34mpurrr  \u001b[39m 0.3.4\n",
      "\u001b[32mv\u001b[39m \u001b[34mtibble \u001b[39m 3.0.6     \u001b[32mv\u001b[39m \u001b[34mdplyr  \u001b[39m 1.0.4\n",
      "\u001b[32mv\u001b[39m \u001b[34mtidyr  \u001b[39m 1.1.2     \u001b[32mv\u001b[39m \u001b[34mstringr\u001b[39m 1.4.0\n",
      "\u001b[32mv\u001b[39m \u001b[34mreadr  \u001b[39m 1.4.0     \u001b[32mv\u001b[39m \u001b[34mforcats\u001b[39m 0.5.1\n",
      "\n",
      "-- \u001b[1mConflicts\u001b[22m ---------------------------------------------------------------------------------- tidyverse_conflicts() --\n",
      "\u001b[31mx\u001b[39m \u001b[34mdplyr\u001b[39m::\u001b[32mfilter()\u001b[39m masks \u001b[34mstats\u001b[39m::filter()\n",
      "\u001b[31mx\u001b[39m \u001b[34mdplyr\u001b[39m::\u001b[32mlag()\u001b[39m    masks \u001b[34mstats\u001b[39m::lag()\n",
      "\n"
     ]
    }
   ],
   "source": [
    "library(tidyverse)\n",
    "\n",
    "# Custom package\n",
    "library(rutils)"
   ]
  },
  {
   "cell_type": "code",
   "execution_count": 2,
   "metadata": {},
   "outputs": [],
   "source": [
    "dirs <- rutils::get_dev_directories(dev_paths_file = \"../dev_paths.txt\")\n",
    "projects <- c(\"TCGA-CESC\", \"TCGA-UCS\", \"TCGA-UCEC\", \"TCGA-OV\")\n",
    "unified_dsets <- c(\"unified_cervical_data\", \"unified_uterine_data\", \"unified_uterine_endometrial_data\")\n",
    "matrisome_list <- paste0(dirs$data_dir, \"/matrisome/matrisome_hs_masterlist.tsv\")"
   ]
  },
  {
   "cell_type": "code",
   "execution_count": 3,
   "metadata": {},
   "outputs": [],
   "source": [
    "dset_idx <- 2"
   ]
  },
  {
   "cell_type": "code",
   "execution_count": 4,
   "metadata": {},
   "outputs": [],
   "source": [
    "p_thresh <- 0.05\n",
    "lfc_thresh <- log2(2)\n",
    "coxph_coeff_thresh <- 0.0\n",
    "mi_thresh <- 0.0\n",
    "consensus_thresh <- 0.0\n",
    "consensus_n <- 5\n",
    "hub_con_thresh <- 0"
   ]
  },
  {
   "cell_type": "markdown",
   "metadata": {},
   "source": [
    "# Helpers"
   ]
  },
  {
   "cell_type": "code",
   "execution_count": 5,
   "metadata": {},
   "outputs": [
    {
     "name": "stderr",
     "output_type": "stream",
     "text": [
      "\n",
      "\u001b[36m--\u001b[39m \u001b[1m\u001b[1mColumn specification\u001b[1m\u001b[22m \u001b[36m------------------------------------------------------------------------------------------------\u001b[39m\n",
      "cols(\n",
      "  Division = \u001b[31mcol_character()\u001b[39m,\n",
      "  Category = \u001b[31mcol_character()\u001b[39m,\n",
      "  `Gene Symbol` = \u001b[31mcol_character()\u001b[39m,\n",
      "  `Gene Name` = \u001b[31mcol_character()\u001b[39m,\n",
      "  Synonyms = \u001b[31mcol_character()\u001b[39m,\n",
      "  HGNC_IDs = \u001b[32mcol_double()\u001b[39m,\n",
      "  `HGNC_IDs Links` = \u001b[32mcol_double()\u001b[39m,\n",
      "  UniProt_IDs = \u001b[31mcol_character()\u001b[39m,\n",
      "  Refseq_IDs = \u001b[31mcol_character()\u001b[39m,\n",
      "  Orthology = \u001b[31mcol_character()\u001b[39m,\n",
      "  Notes = \u001b[31mcol_character()\u001b[39m\n",
      ")\n",
      "\n",
      "\n"
     ]
    }
   ],
   "source": [
    "matrisome_df <- rutils::load_matrisome_df(matrisome_list) %>%\n",
    "    dplyr::select(gene_symbol, division, category)\n",
    "\n",
    "\n",
    "get_consensus_col <- function(df, n, thresh = 0) {\n",
    "    consensus_df <- df %>%\n",
    "        dplyr::select(geneID, contains(\"mean\")) %>%\n",
    "        dplyr::mutate(consensus = rowSums(.[-1] > thresh) >= n)\n",
    "    return(df %>% dplyr::mutate(consensus = consensus_df$consensus))\n",
    "}"
   ]
  },
  {
   "cell_type": "code",
   "execution_count": 6,
   "metadata": {},
   "outputs": [
    {
     "name": "stderr",
     "output_type": "stream",
     "text": [
      "\n",
      "\u001b[36m--\u001b[39m \u001b[1m\u001b[1mColumn specification\u001b[1m\u001b[22m \u001b[36m------------------------------------------------------------------------------------------------\u001b[39m\n",
      "cols(\n",
      "  .default = col_double(),\n",
      "  geneID = \u001b[31mcol_character()\u001b[39m\n",
      ")\n",
      "\u001b[36mi\u001b[39m Use \u001b[30m\u001b[47m\u001b[30m\u001b[47m`spec()`\u001b[47m\u001b[30m\u001b[49m\u001b[39m for the full column specifications.\n",
      "\n",
      "\n"
     ]
    }
   ],
   "source": [
    "norm_counts_df <- read_tsv(paste0(dirs$data_dir, \"/\", unified_dsets[dset_idx], \"/\", \"norm_counts.tsv\"))"
   ]
  },
  {
   "cell_type": "markdown",
   "metadata": {},
   "source": [
    "# DGE analysis"
   ]
  },
  {
   "cell_type": "code",
   "execution_count": 7,
   "metadata": {},
   "outputs": [
    {
     "name": "stderr",
     "output_type": "stream",
     "text": [
      "\n",
      "\u001b[36m--\u001b[39m \u001b[1m\u001b[1mColumn specification\u001b[1m\u001b[22m \u001b[36m------------------------------------------------------------------------------------------------\u001b[39m\n",
      "cols(\n",
      "  geneID = \u001b[31mcol_character()\u001b[39m,\n",
      "  baseMean = \u001b[32mcol_double()\u001b[39m,\n",
      "  log2FoldChange = \u001b[32mcol_double()\u001b[39m,\n",
      "  lfcSE = \u001b[32mcol_double()\u001b[39m,\n",
      "  stat = \u001b[32mcol_double()\u001b[39m,\n",
      "  pvalue = \u001b[32mcol_double()\u001b[39m,\n",
      "  padj = \u001b[32mcol_double()\u001b[39m,\n",
      "  qval = \u001b[32mcol_double()\u001b[39m\n",
      ")\n",
      "\n",
      "\n"
     ]
    },
    {
     "data": {
      "text/html": [
       "'DEGs: 7646'"
      ],
      "text/latex": [
       "'DEGs: 7646'"
      ],
      "text/markdown": [
       "'DEGs: 7646'"
      ],
      "text/plain": [
       "[1] \"DEGs: 7646\""
      ]
     },
     "metadata": {},
     "output_type": "display_data"
    },
    {
     "data": {
      "text/html": [
       "'DEG prop: 0.377729473372196'"
      ],
      "text/latex": [
       "'DEG prop: 0.377729473372196'"
      ],
      "text/markdown": [
       "'DEG prop: 0.377729473372196'"
      ],
      "text/plain": [
       "[1] \"DEG prop: 0.377729473372196\""
      ]
     },
     "metadata": {},
     "output_type": "display_data"
    },
    {
     "data": {
      "text/html": [
       "'Up: 4682'"
      ],
      "text/latex": [
       "'Up: 4682'"
      ],
      "text/markdown": [
       "'Up: 4682'"
      ],
      "text/plain": [
       "[1] \"Up: 4682\""
      ]
     },
     "metadata": {},
     "output_type": "display_data"
    },
    {
     "data": {
      "text/html": [
       "'Down: 2964'"
      ],
      "text/latex": [
       "'Down: 2964'"
      ],
      "text/markdown": [
       "'Down: 2964'"
      ],
      "text/plain": [
       "[1] \"Down: 2964\""
      ]
     },
     "metadata": {},
     "output_type": "display_data"
    },
    {
     "data": {
      "text/html": [
       "'Matrisome DEGs: 595'"
      ],
      "text/latex": [
       "'Matrisome DEGs: 595'"
      ],
      "text/markdown": [
       "'Matrisome DEGs: 595'"
      ],
      "text/plain": [
       "[1] \"Matrisome DEGs: 595\""
      ]
     },
     "metadata": {},
     "output_type": "display_data"
    },
    {
     "data": {
      "text/html": [
       "'Matrisome DEG prop: 0.57935735150925'"
      ],
      "text/latex": [
       "'Matrisome DEG prop: 0.57935735150925'"
      ],
      "text/markdown": [
       "'Matrisome DEG prop: 0.57935735150925'"
      ],
      "text/plain": [
       "[1] \"Matrisome DEG prop: 0.57935735150925\""
      ]
     },
     "metadata": {},
     "output_type": "display_data"
    },
    {
     "data": {
      "text/html": [
       "'Matrisome up: 363'"
      ],
      "text/latex": [
       "'Matrisome up: 363'"
      ],
      "text/markdown": [
       "'Matrisome up: 363'"
      ],
      "text/plain": [
       "[1] \"Matrisome up: 363\""
      ]
     },
     "metadata": {},
     "output_type": "display_data"
    },
    {
     "data": {
      "text/html": [
       "'Matrisome down: 232'"
      ],
      "text/latex": [
       "'Matrisome down: 232'"
      ],
      "text/markdown": [
       "'Matrisome down: 232'"
      ],
      "text/plain": [
       "[1] \"Matrisome down: 232\""
      ]
     },
     "metadata": {},
     "output_type": "display_data"
    }
   ],
   "source": [
    "DESeq_results_df <- read_tsv(paste0(dirs$analysis_dir, \"/deg/\", unified_dsets[dset_idx], \"_DESeq_results.tsv\"))\n",
    "# filtered_DESeq_results_df <- DESeq_results_df %>%\n",
    "#     dplyr::filter(abs(log2FoldChange) > lfc_thresh, padj < p_thresh)\n",
    "filtered_DESeq_results_df <- DESeq_results_df %>%\n",
    "    dplyr::filter(abs(log2FoldChange) > lfc_thresh, qval < p_thresh)\n",
    "\n",
    "filtered_matrisome_DESeq_results_df <- filtered_DESeq_results_df %>%\n",
    "    dplyr::filter(geneID %in% matrisome_df$gene_symbol)\n",
    "\n",
    "n_degs <- nrow(filtered_DESeq_results_df)\n",
    "deg_prop <- nrow(filtered_DESeq_results_df) / nrow(norm_counts_df)\n",
    "n_degs_up <- nrow(filtered_DESeq_results_df %>% dplyr::filter(log2FoldChange > 0))\n",
    "n_degs_down <- nrow(filtered_DESeq_results_df %>% dplyr::filter(log2FoldChange < 0))\n",
    "\n",
    "n_matrisome_degs <- nrow(filtered_matrisome_DESeq_results_df)\n",
    "matrisome_deg_prop <- nrow(filtered_matrisome_DESeq_results_df) / nrow(matrisome_df)\n",
    "n_matrisome_degs_up <- nrow(filtered_matrisome_DESeq_results_df %>% dplyr::filter(log2FoldChange > 0))\n",
    "n_matrisome_degs_down <- nrow(filtered_matrisome_DESeq_results_df %>% dplyr::filter(log2FoldChange < 0))\n",
    "\n",
    "\n",
    "paste0(\"DEGs: \", n_degs)\n",
    "paste0(\"DEG prop: \", deg_prop)\n",
    "paste0(\"Up: \", n_degs_up)\n",
    "paste0(\"Down: \", n_degs_down)\n",
    "paste0(\"Matrisome DEGs: \", n_matrisome_degs)\n",
    "paste0(\"Matrisome DEG prop: \", matrisome_deg_prop)\n",
    "paste0(\"Matrisome up: \", n_matrisome_degs_up)\n",
    "paste0(\"Matrisome down: \", n_matrisome_degs_down)"
   ]
  },
  {
   "cell_type": "markdown",
   "metadata": {},
   "source": [
    "# Survival analysis"
   ]
  },
  {
   "cell_type": "code",
   "execution_count": 8,
   "metadata": {},
   "outputs": [
    {
     "name": "stderr",
     "output_type": "stream",
     "text": [
      "\n",
      "\u001b[36m--\u001b[39m \u001b[1m\u001b[1mColumn specification\u001b[1m\u001b[22m \u001b[36m------------------------------------------------------------------------------------------------\u001b[39m\n",
      "cols(\n",
      "  dataset = \u001b[31mcol_character()\u001b[39m,\n",
      "  lr_test_pval = \u001b[32mcol_double()\u001b[39m,\n",
      "  wald_test_pval = \u001b[32mcol_double()\u001b[39m,\n",
      "  score_test_pval = \u001b[32mcol_double()\u001b[39m\n",
      ")\n",
      "\n",
      "\n",
      "\n",
      "\u001b[36m--\u001b[39m \u001b[1m\u001b[1mColumn specification\u001b[1m\u001b[22m \u001b[36m------------------------------------------------------------------------------------------------\u001b[39m\n",
      "cols(\n",
      "  geneID = \u001b[31mcol_character()\u001b[39m,\n",
      "  gene_pval = \u001b[32mcol_double()\u001b[39m,\n",
      "  gene_coeff = \u001b[32mcol_double()\u001b[39m,\n",
      "  gene_qval = \u001b[32mcol_double()\u001b[39m,\n",
      "  gene_padj = \u001b[32mcol_double()\u001b[39m\n",
      ")\n",
      "\n",
      "\n"
     ]
    }
   ],
   "source": [
    "coxph_null_scores_df <- read_tsv(paste0(dirs$analysis_dir, \"/meta/\", \"coxph_null_scores.tsv\"))\n",
    "coxph_results_df <- read_tsv(paste0(dirs$analysis_dir, \"/feature_selection/\", unified_dsets[dset_idx], \"_coxph_results.tsv\"))\n",
    "# filtered_coxph_results_df <- coxph_results_df %>%\n",
    "#     dplyr::filter(gene_pval < p_thresh)\n",
    "filtered_coxph_results_df <- coxph_results_df %>%\n",
    "    dplyr::filter(gene_qval < p_thresh)"
   ]
  },
  {
   "cell_type": "code",
   "execution_count": 9,
   "metadata": {},
   "outputs": [
    {
     "data": {
      "text/html": [
       "<table class=\"dataframe\">\n",
       "<caption>A spec_tbl_df: 3 × 4</caption>\n",
       "<thead>\n",
       "\t<tr><th scope=col>dataset</th><th scope=col>lr_test_pval</th><th scope=col>wald_test_pval</th><th scope=col>score_test_pval</th></tr>\n",
       "\t<tr><th scope=col>&lt;chr&gt;</th><th scope=col>&lt;dbl&gt;</th><th scope=col>&lt;dbl&gt;</th><th scope=col>&lt;dbl&gt;</th></tr>\n",
       "</thead>\n",
       "<tbody>\n",
       "\t<tr><td>unified_cervical_data           </td><td>0.0004814013</td><td>0.000049053</td><td>1.224173e-06</td></tr>\n",
       "\t<tr><td>unified_uterine_data            </td><td>0.3392807906</td><td>0.989893132</td><td>3.053979e-01</td></tr>\n",
       "\t<tr><td>unified_uterine_endometrial_data</td><td>0.0007739010</td><td>0.000000000</td><td>1.040876e-06</td></tr>\n",
       "</tbody>\n",
       "</table>\n"
      ],
      "text/latex": [
       "A spec\\_tbl\\_df: 3 × 4\n",
       "\\begin{tabular}{llll}\n",
       " dataset & lr\\_test\\_pval & wald\\_test\\_pval & score\\_test\\_pval\\\\\n",
       " <chr> & <dbl> & <dbl> & <dbl>\\\\\n",
       "\\hline\n",
       "\t unified\\_cervical\\_data            & 0.0004814013 & 0.000049053 & 1.224173e-06\\\\\n",
       "\t unified\\_uterine\\_data             & 0.3392807906 & 0.989893132 & 3.053979e-01\\\\\n",
       "\t unified\\_uterine\\_endometrial\\_data & 0.0007739010 & 0.000000000 & 1.040876e-06\\\\\n",
       "\\end{tabular}\n"
      ],
      "text/markdown": [
       "\n",
       "A spec_tbl_df: 3 × 4\n",
       "\n",
       "| dataset &lt;chr&gt; | lr_test_pval &lt;dbl&gt; | wald_test_pval &lt;dbl&gt; | score_test_pval &lt;dbl&gt; |\n",
       "|---|---|---|---|\n",
       "| unified_cervical_data            | 0.0004814013 | 0.000049053 | 1.224173e-06 |\n",
       "| unified_uterine_data             | 0.3392807906 | 0.989893132 | 3.053979e-01 |\n",
       "| unified_uterine_endometrial_data | 0.0007739010 | 0.000000000 | 1.040876e-06 |\n",
       "\n"
      ],
      "text/plain": [
       "  dataset                          lr_test_pval wald_test_pval score_test_pval\n",
       "1 unified_cervical_data            0.0004814013 0.000049053    1.224173e-06   \n",
       "2 unified_uterine_data             0.3392807906 0.989893132    3.053979e-01   \n",
       "3 unified_uterine_endometrial_data 0.0007739010 0.000000000    1.040876e-06   "
      ]
     },
     "metadata": {},
     "output_type": "display_data"
    }
   ],
   "source": [
    "coxph_null_scores_df"
   ]
  },
  {
   "cell_type": "code",
   "execution_count": 10,
   "metadata": {},
   "outputs": [
    {
     "data": {
      "text/html": [
       "'Sig. null Cox PH: FALSE'"
      ],
      "text/latex": [
       "'Sig. null Cox PH: FALSE'"
      ],
      "text/markdown": [
       "'Sig. null Cox PH: FALSE'"
      ],
      "text/plain": [
       "[1] \"Sig. null Cox PH: FALSE\""
      ]
     },
     "metadata": {},
     "output_type": "display_data"
    },
    {
     "data": {
      "text/html": [
       "'Sig. Cox PH genes: 0'"
      ],
      "text/latex": [
       "'Sig. Cox PH genes: 0'"
      ],
      "text/markdown": [
       "'Sig. Cox PH genes: 0'"
      ],
      "text/plain": [
       "[1] \"Sig. Cox PH genes: 0\""
      ]
     },
     "metadata": {},
     "output_type": "display_data"
    },
    {
     "data": {
      "text/html": [
       "'Prop. sig. Cox PH genes: 0'"
      ],
      "text/latex": [
       "'Prop. sig. Cox PH genes: 0'"
      ],
      "text/markdown": [
       "'Prop. sig. Cox PH genes: 0'"
      ],
      "text/plain": [
       "[1] \"Prop. sig. Cox PH genes: 0\""
      ]
     },
     "metadata": {},
     "output_type": "display_data"
    },
    {
     "data": {
      "text/html": [
       "'Sig. Cox PH protective: 0'"
      ],
      "text/latex": [
       "'Sig. Cox PH protective: 0'"
      ],
      "text/markdown": [
       "'Sig. Cox PH protective: 0'"
      ],
      "text/plain": [
       "[1] \"Sig. Cox PH protective: 0\""
      ]
     },
     "metadata": {},
     "output_type": "display_data"
    },
    {
     "data": {
      "text/html": [
       "'Sig. Cox PH harmful: 0'"
      ],
      "text/latex": [
       "'Sig. Cox PH harmful: 0'"
      ],
      "text/markdown": [
       "'Sig. Cox PH harmful: 0'"
      ],
      "text/plain": [
       "[1] \"Sig. Cox PH harmful: 0\""
      ]
     },
     "metadata": {},
     "output_type": "display_data"
    }
   ],
   "source": [
    "coxph_null_sig <- (coxph_null_scores_df %>% dplyr::filter(dataset == unified_dsets[dset_idx]))$lr_test_pval < p_thresh\n",
    "n_coxph_sig <- nrow(filtered_coxph_results_df)\n",
    "prop_coxph_sig <- n_coxph_sig / nrow(matrisome_df)\n",
    "n_coxph_sig_protective <- nrow(filtered_coxph_results_df %>% dplyr::filter(gene_coeff < 0))\n",
    "n_coxph_sig_harmful <- nrow(filtered_coxph_results_df %>% dplyr::filter(gene_coeff > 0))\n",
    "\n",
    "\n",
    "paste0(\"Sig. null Cox PH: \", coxph_null_sig)\n",
    "paste0(\"Sig. Cox PH genes: \", n_coxph_sig)\n",
    "paste0(\"Prop. sig. Cox PH genes: \", prop_coxph_sig)\n",
    "paste0(\"Sig. Cox PH protective: \", n_coxph_sig_protective)\n",
    "paste0(\"Sig. Cox PH harmful: \", n_coxph_sig_harmful)"
   ]
  },
  {
   "cell_type": "code",
   "execution_count": 11,
   "metadata": {},
   "outputs": [],
   "source": [
    "survival_list <- read_lines(paste0(dirs$analysis_dir, \"/gene_lists/\", unified_dsets[dset_idx], \"_survival_list.txt\"))\n",
    "demg_list <- read_lines(paste0(dirs$analysis_dir, \"/gene_lists/\", unified_dsets[dset_idx], \"_demg_list.txt\"))\n",
    "survival_genes_df <- tibble(geneID = survival_list) %>%\n",
    "    mutate(survival_sig = TRUE)\n",
    "coxph_genes_df <- tibble(geneID = filtered_coxph_results_df$geneID) %>%\n",
    "    mutate(coxph_sig = TRUE)\n",
    "demg_genes_df <- tibble(geneID = demg_list) %>%\n",
    "    mutate(demg = TRUE)\n",
    "joined_survival_demg_m_df <- matrisome_df %>%\n",
    "    rename(geneID = gene_symbol) %>%\n",
    "    left_join(survival_genes_df, by = \"geneID\", ) %>%\n",
    "    left_join(coxph_genes_df, by = \"geneID\") %>%\n",
    "    left_join(demg_genes_df, by = \"geneID\") %>%\n",
    "    mutate(\n",
    "        survival_sig = replace_na(survival_sig, FALSE),\n",
    "        coxph_sig = replace_na(coxph_sig, FALSE),\n",
    "        demg = replace_na(demg, FALSE),\n",
    "        survival_sig_demg = survival_sig & demg,\n",
    "        coxph_sig_demg = coxph_sig & demg\n",
    "    )"
   ]
  },
  {
   "cell_type": "code",
   "execution_count": 12,
   "metadata": {},
   "outputs": [
    {
     "data": {
      "text/html": [
       "<table class=\"dataframe\">\n",
       "<caption>A grouped_df: 2 × 4</caption>\n",
       "<thead>\n",
       "\t<tr><th scope=col>survival_sig</th><th scope=col>coxph_sig</th><th scope=col>coxph_sig_demg</th><th scope=col>n</th></tr>\n",
       "\t<tr><th scope=col>&lt;lgl&gt;</th><th scope=col>&lt;lgl&gt;</th><th scope=col>&lt;lgl&gt;</th><th scope=col>&lt;int&gt;</th></tr>\n",
       "</thead>\n",
       "<tbody>\n",
       "\t<tr><td>FALSE</td><td>FALSE</td><td>FALSE</td><td>986</td></tr>\n",
       "\t<tr><td> TRUE</td><td>FALSE</td><td>FALSE</td><td> 41</td></tr>\n",
       "</tbody>\n",
       "</table>\n"
      ],
      "text/latex": [
       "A grouped\\_df: 2 × 4\n",
       "\\begin{tabular}{llll}\n",
       " survival\\_sig & coxph\\_sig & coxph\\_sig\\_demg & n\\\\\n",
       " <lgl> & <lgl> & <lgl> & <int>\\\\\n",
       "\\hline\n",
       "\t FALSE & FALSE & FALSE & 986\\\\\n",
       "\t  TRUE & FALSE & FALSE &  41\\\\\n",
       "\\end{tabular}\n"
      ],
      "text/markdown": [
       "\n",
       "A grouped_df: 2 × 4\n",
       "\n",
       "| survival_sig &lt;lgl&gt; | coxph_sig &lt;lgl&gt; | coxph_sig_demg &lt;lgl&gt; | n &lt;int&gt; |\n",
       "|---|---|---|---|\n",
       "| FALSE | FALSE | FALSE | 986 |\n",
       "|  TRUE | FALSE | FALSE |  41 |\n",
       "\n"
      ],
      "text/plain": [
       "  survival_sig coxph_sig coxph_sig_demg n  \n",
       "1 FALSE        FALSE     FALSE          986\n",
       "2  TRUE        FALSE     FALSE           41"
      ]
     },
     "metadata": {},
     "output_type": "display_data"
    },
    {
     "data": {
      "text/html": [
       "41"
      ],
      "text/latex": [
       "41"
      ],
      "text/markdown": [
       "41"
      ],
      "text/plain": [
       "[1] 41"
      ]
     },
     "metadata": {},
     "output_type": "display_data"
    },
    {
     "data": {
      "text/html": [
       "0"
      ],
      "text/latex": [
       "0"
      ],
      "text/markdown": [
       "0"
      ],
      "text/plain": [
       "[1] 0"
      ]
     },
     "metadata": {},
     "output_type": "display_data"
    }
   ],
   "source": [
    "joined_survival_demg_m_df %>%\n",
    "    group_by(survival_sig, coxph_sig, coxph_sig_demg) %>%\n",
    "    count()\n",
    "sum(joined_survival_demg_m_df$survival_sig)\n",
    "sum(joined_survival_demg_m_df$coxph_sig)"
   ]
  },
  {
   "cell_type": "markdown",
   "metadata": {},
   "source": [
    "# Regression"
   ]
  },
  {
   "cell_type": "markdown",
   "metadata": {
    "jupyter": {
     "outputs_hidden": true
    }
   },
   "source": [
    "## Correlation analysis"
   ]
  },
  {
   "cell_type": "code",
   "execution_count": 13,
   "metadata": {},
   "outputs": [
    {
     "name": "stderr",
     "output_type": "stream",
     "text": [
      "\n",
      "\u001b[36m--\u001b[39m \u001b[1m\u001b[1mColumn specification\u001b[1m\u001b[22m \u001b[36m------------------------------------------------------------------------------------------------\u001b[39m\n",
      "cols(\n",
      "  geneID = \u001b[31mcol_character()\u001b[39m,\n",
      "  cor = \u001b[32mcol_double()\u001b[39m,\n",
      "  pval = \u001b[32mcol_double()\u001b[39m,\n",
      "  padj = \u001b[32mcol_double()\u001b[39m,\n",
      "  qval = \u001b[32mcol_double()\u001b[39m,\n",
      "  n = \u001b[32mcol_double()\u001b[39m\n",
      ")\n",
      "\n",
      "\n"
     ]
    },
    {
     "data": {
      "text/html": [
       "'Cor. genes: 1'"
      ],
      "text/latex": [
       "'Cor. genes: 1'"
      ],
      "text/markdown": [
       "'Cor. genes: 1'"
      ],
      "text/plain": [
       "[1] \"Cor. genes: 1\""
      ]
     },
     "metadata": {},
     "output_type": "display_data"
    },
    {
     "data": {
      "text/html": [
       "'Neg. cor. genes: 0'"
      ],
      "text/latex": [
       "'Neg. cor. genes: 0'"
      ],
      "text/markdown": [
       "'Neg. cor. genes: 0'"
      ],
      "text/plain": [
       "[1] \"Neg. cor. genes: 0\""
      ]
     },
     "metadata": {},
     "output_type": "display_data"
    },
    {
     "data": {
      "text/html": [
       "'Pos. cor. genes: 1'"
      ],
      "text/latex": [
       "'Pos. cor. genes: 1'"
      ],
      "text/markdown": [
       "'Pos. cor. genes: 1'"
      ],
      "text/plain": [
       "[1] \"Pos. cor. genes: 1\""
      ]
     },
     "metadata": {},
     "output_type": "display_data"
    }
   ],
   "source": [
    "cor_results_df <- read_tsv(paste0(dirs$analysis_dir, \"/feature_selection/\", unified_dsets[dset_idx], \"_cor_results.tsv\"))\n",
    "\n",
    "# filtered_cor_results_df <- cor_results_df %>% dplyr::filter(pval < p_thresh)\n",
    "# filtered_cor_results_df <- cor_results_df %>% dplyr::filter(padj < p_thresh)\n",
    "filtered_cor_results_df <- cor_results_df %>% dplyr::filter(qval < p_thresh)\n",
    "\n",
    "n_cor <- nrow(filtered_cor_results_df)\n",
    "n_cor_down <- nrow(filtered_cor_results_df %>% dplyr::filter(cor < 0))\n",
    "n_cor_up <- nrow(filtered_cor_results_df %>% dplyr::filter(cor > 0))\n",
    "\n",
    "paste0(\"Cor. genes: \", n_cor)\n",
    "paste0(\"Neg. cor. genes: \", n_cor_down)\n",
    "paste0(\"Pos. cor. genes: \", n_cor_up)"
   ]
  },
  {
   "cell_type": "markdown",
   "metadata": {},
   "source": [
    "## MI analysis"
   ]
  },
  {
   "cell_type": "code",
   "execution_count": 14,
   "metadata": {},
   "outputs": [
    {
     "name": "stderr",
     "output_type": "stream",
     "text": [
      "\n",
      "\u001b[36m--\u001b[39m \u001b[1m\u001b[1mColumn specification\u001b[1m\u001b[22m \u001b[36m------------------------------------------------------------------------------------------------\u001b[39m\n",
      "cols(\n",
      "  geneID = \u001b[31mcol_character()\u001b[39m,\n",
      "  MI_est_median = \u001b[32mcol_double()\u001b[39m\n",
      ")\n",
      "\n",
      "\n"
     ]
    },
    {
     "data": {
      "text/html": [
       "'MI: 447'"
      ],
      "text/latex": [
       "'MI: 447'"
      ],
      "text/markdown": [
       "'MI: 447'"
      ],
      "text/plain": [
       "[1] \"MI: 447\""
      ]
     },
     "metadata": {},
     "output_type": "display_data"
    }
   ],
   "source": [
    "mi_survival_results_df <- read_tsv(paste0(dirs$analysis_dir, \"/feature_selection/\", unified_dsets[dset_idx], \"_MI_survival_results.tsv\"))\n",
    "filtered_mi_survival_results_df <- mi_survival_results_df %>% dplyr::filter(MI_est_median > mi_thresh)\n",
    "\n",
    "n_mi <- nrow(filtered_mi_survival_results_df)\n",
    "\n",
    "paste0(\"MI: \", n_mi)"
   ]
  },
  {
   "cell_type": "code",
   "execution_count": 15,
   "metadata": {},
   "outputs": [
    {
     "data": {
      "text/html": [
       "95"
      ],
      "text/latex": [
       "95"
      ],
      "text/markdown": [
       "95"
      ],
      "text/plain": [
       "[1] 95"
      ]
     },
     "metadata": {},
     "output_type": "display_data"
    },
    {
     "data": {
      "text/html": [
       "30.0625226121643"
      ],
      "text/latex": [
       "30.0625226121643"
      ],
      "text/markdown": [
       "30.0625226121643"
      ],
      "text/plain": [
       "[1] 30.06252"
      ]
     },
     "metadata": {},
     "output_type": "display_data"
    },
    {
     "data": {
      "text/html": [
       "41"
      ],
      "text/latex": [
       "41"
      ],
      "text/markdown": [
       "41"
      ],
      "text/plain": [
       "[1] 41"
      ]
     },
     "metadata": {},
     "output_type": "display_data"
    }
   ],
   "source": [
    "mi_survival_ord_df <- mi_survival_results_df %>%\n",
    "    dplyr::arrange(desc(MI_est_median)) %>%\n",
    "    dplyr::mutate(geneID_f = factor(geneID, levels = geneID)) %>%\n",
    "    dplyr::filter(MI_est_median > 0.0)\n",
    "\n",
    "tot_survival_MI <- sum(mi_survival_ord_df$MI_est_median)\n",
    "\n",
    "mi_survival_ord_df <- mi_survival_ord_df %>%\n",
    "    dplyr::mutate(cum_MI_prop = cumsum(MI_est_median) / tot_survival_MI)\n",
    "\n",
    "nrow(mi_survival_ord_df %>% dplyr::filter(cum_MI_prop < 0.5))\n",
    "tot_survival_MI\n",
    "\n",
    "nrow(mi_survival_ord_df %>%\n",
    "    dplyr::mutate(pct_delta_max = (MI_est_median - first(MI_est_median)) / first(MI_est_median) * 100) %>%\n",
    "    dplyr::filter(pct_delta_max > -50))\n"
   ]
  },
  {
   "cell_type": "markdown",
   "metadata": {},
   "source": [
    "## Baselines"
   ]
  },
  {
   "cell_type": "code",
   "execution_count": 16,
   "metadata": {},
   "outputs": [
    {
     "name": "stderr",
     "output_type": "stream",
     "text": [
      "\n",
      "\u001b[36m--\u001b[39m \u001b[1m\u001b[1mColumn specification\u001b[1m\u001b[22m \u001b[36m------------------------------------------------------------------------------------------------\u001b[39m\n",
      "cols(\n",
      "  dataset = \u001b[31mcol_character()\u001b[39m,\n",
      "  L2 = \u001b[32mcol_double()\u001b[39m,\n",
      "  L1 = \u001b[32mcol_double()\u001b[39m,\n",
      "  R2 = \u001b[32mcol_double()\u001b[39m,\n",
      "  explained_variance = \u001b[32mcol_double()\u001b[39m,\n",
      "  n = \u001b[32mcol_double()\u001b[39m\n",
      ")\n",
      "\n",
      "\n"
     ]
    },
    {
     "data": {
      "text/html": [
       "'MSE baseline: 620674.891632373'"
      ],
      "text/latex": [
       "'MSE baseline: 620674.891632373'"
      ],
      "text/markdown": [
       "'MSE baseline: 620674.891632373'"
      ],
      "text/plain": [
       "[1] \"MSE baseline: 620674.891632373\""
      ]
     },
     "metadata": {},
     "output_type": "display_data"
    },
    {
     "data": {
      "text/html": [
       "'MAE baseline: 516.074074074074'"
      ],
      "text/latex": [
       "'MAE baseline: 516.074074074074'"
      ],
      "text/markdown": [
       "'MAE baseline: 516.074074074074'"
      ],
      "text/plain": [
       "[1] \"MAE baseline: 516.074074074074\""
      ]
     },
     "metadata": {},
     "output_type": "display_data"
    },
    {
     "data": {
      "text/html": [
       "'EV baseline: 0'"
      ],
      "text/latex": [
       "'EV baseline: 0'"
      ],
      "text/markdown": [
       "'EV baseline: 0'"
      ],
      "text/plain": [
       "[1] \"EV baseline: 0\""
      ]
     },
     "metadata": {},
     "output_type": "display_data"
    }
   ],
   "source": [
    "reg_baselines_df <- read_tsv(paste0(dirs$analysis_dir, \"/meta/\", \"reg_baselines.tsv\"))\n",
    "mse_baseline = (reg_baselines_df %>% filter(dataset == unified_dsets[dset_idx]))$L2\n",
    "mae_baseline = (reg_baselines_df %>% filter(dataset == unified_dsets[dset_idx]))$L1\n",
    "ev_baseline = (reg_baselines_df %>% filter(dataset == unified_dsets[dset_idx]))$explained_variance\n",
    "paste0(\"MSE baseline: \", mse_baseline)\n",
    "paste0(\"MAE baseline: \", mae_baseline)\n",
    "paste0(\"EV baseline: \", ev_baseline)"
   ]
  },
  {
   "cell_type": "markdown",
   "metadata": {},
   "source": [
    "## GBR (MSE)"
   ]
  },
  {
   "cell_type": "code",
   "execution_count": 17,
   "metadata": {},
   "outputs": [
    {
     "name": "stderr",
     "output_type": "stream",
     "text": [
      "\n",
      "\u001b[36m--\u001b[39m \u001b[1m\u001b[1mColumn specification\u001b[1m\u001b[22m \u001b[36m------------------------------------------------------------------------------------------------\u001b[39m\n",
      "cols(\n",
      "  model = \u001b[32mcol_double()\u001b[39m,\n",
      "  ref_score = \u001b[32mcol_double()\u001b[39m\n",
      ")\n",
      "\n",
      "\n",
      "\n",
      "\u001b[36m--\u001b[39m \u001b[1m\u001b[1mColumn specification\u001b[1m\u001b[22m \u001b[36m------------------------------------------------------------------------------------------------\u001b[39m\n",
      "cols(\n",
      "  geneID = \u001b[31mcol_character()\u001b[39m,\n",
      "  mean_imp_0 = \u001b[32mcol_double()\u001b[39m,\n",
      "  score_pct_improvement_0 = \u001b[32mcol_double()\u001b[39m,\n",
      "  mean_imp_1 = \u001b[32mcol_double()\u001b[39m,\n",
      "  score_pct_improvement_1 = \u001b[32mcol_double()\u001b[39m,\n",
      "  mean_imp_2 = \u001b[32mcol_double()\u001b[39m,\n",
      "  score_pct_improvement_2 = \u001b[32mcol_double()\u001b[39m,\n",
      "  mean_imp_3 = \u001b[32mcol_double()\u001b[39m,\n",
      "  score_pct_improvement_3 = \u001b[32mcol_double()\u001b[39m,\n",
      "  mean_imp_4 = \u001b[32mcol_double()\u001b[39m,\n",
      "  score_pct_improvement_4 = \u001b[32mcol_double()\u001b[39m\n",
      ")\n",
      "\n",
      "\n"
     ]
    },
    {
     "data": {
      "text/html": [
       "<table class=\"dataframe\">\n",
       "<caption>A spec_tbl_df: 5 × 2</caption>\n",
       "<thead>\n",
       "\t<tr><th scope=col>model</th><th scope=col>ref_score</th></tr>\n",
       "\t<tr><th scope=col>&lt;dbl&gt;</th><th scope=col>&lt;dbl&gt;</th></tr>\n",
       "</thead>\n",
       "<tbody>\n",
       "\t<tr><td>0</td><td>-858938.7</td></tr>\n",
       "\t<tr><td>1</td><td>-819312.7</td></tr>\n",
       "\t<tr><td>2</td><td>-773748.1</td></tr>\n",
       "\t<tr><td>3</td><td>-758202.2</td></tr>\n",
       "\t<tr><td>4</td><td>-786774.4</td></tr>\n",
       "</tbody>\n",
       "</table>\n"
      ],
      "text/latex": [
       "A spec\\_tbl\\_df: 5 × 2\n",
       "\\begin{tabular}{ll}\n",
       " model & ref\\_score\\\\\n",
       " <dbl> & <dbl>\\\\\n",
       "\\hline\n",
       "\t 0 & -858938.7\\\\\n",
       "\t 1 & -819312.7\\\\\n",
       "\t 2 & -773748.1\\\\\n",
       "\t 3 & -758202.2\\\\\n",
       "\t 4 & -786774.4\\\\\n",
       "\\end{tabular}\n"
      ],
      "text/markdown": [
       "\n",
       "A spec_tbl_df: 5 × 2\n",
       "\n",
       "| model &lt;dbl&gt; | ref_score &lt;dbl&gt; |\n",
       "|---|---|\n",
       "| 0 | -858938.7 |\n",
       "| 1 | -819312.7 |\n",
       "| 2 | -773748.1 |\n",
       "| 3 | -758202.2 |\n",
       "| 4 | -786774.4 |\n",
       "\n"
      ],
      "text/plain": [
       "  model ref_score\n",
       "1 0     -858938.7\n",
       "2 1     -819312.7\n",
       "3 2     -773748.1\n",
       "4 3     -758202.2\n",
       "5 4     -786774.4"
      ]
     },
     "metadata": {},
     "output_type": "display_data"
    },
    {
     "data": {
      "text/html": [
       "'GBR MSE avg.: 799395.219286424'"
      ],
      "text/latex": [
       "'GBR MSE avg.: 799395.219286424'"
      ],
      "text/markdown": [
       "'GBR MSE avg.: 799395.219286424'"
      ],
      "text/plain": [
       "[1] \"GBR MSE avg.: 799395.219286424\""
      ]
     },
     "metadata": {},
     "output_type": "display_data"
    },
    {
     "data": {
      "text/html": [
       "'GBR MSE impr. over baseline: FALSE'"
      ],
      "text/latex": [
       "'GBR MSE impr. over baseline: FALSE'"
      ],
      "text/markdown": [
       "'GBR MSE impr. over baseline: FALSE'"
      ],
      "text/plain": [
       "[1] \"GBR MSE impr. over baseline: FALSE\""
      ]
     },
     "metadata": {},
     "output_type": "display_data"
    },
    {
     "data": {
      "text/html": [
       "'GBR MSE pct. impr. over baseline: -28.7945154642903'"
      ],
      "text/latex": [
       "'GBR MSE pct. impr. over baseline: -28.7945154642903'"
      ],
      "text/markdown": [
       "'GBR MSE pct. impr. over baseline: -28.7945154642903'"
      ],
      "text/plain": [
       "[1] \"GBR MSE pct. impr. over baseline: -28.7945154642903\""
      ]
     },
     "metadata": {},
     "output_type": "display_data"
    },
    {
     "data": {
      "text/html": [
       "'GBR MSE consensus genes: 26'"
      ],
      "text/latex": [
       "'GBR MSE consensus genes: 26'"
      ],
      "text/markdown": [
       "'GBR MSE consensus genes: 26'"
      ],
      "text/plain": [
       "[1] \"GBR MSE consensus genes: 26\""
      ]
     },
     "metadata": {},
     "output_type": "display_data"
    }
   ],
   "source": [
    "mse_gbr_scores_df <- read_tsv(paste0(dirs$analysis_dir, \"/feature_selection/\", unified_dsets[dset_idx], \"_mse_gbr_ref_scores.tsv\"))\n",
    "mse_gbr_results_df <- read_tsv(paste0(dirs$analysis_dir, \"/feature_selection/\", unified_dsets[dset_idx], \"_mse_gbr_results.tsv\"))\n",
    "mse_gbr_results_df <- get_consensus_col(mse_gbr_results_df, n = consensus_n, thresh = consensus_thresh)\n",
    "mse_gbr_scores_df\n",
    "\n",
    "# mult. by -1 to convert neg MSE -> MSE\n",
    "mse_gbr_avg <- mean(-mse_gbr_scores_df$ref_score)\n",
    "mse_gbr_imp <- mse_gbr_avg < mse_baseline\n",
    "# mult. by -1 since pct. \"improvement\" is pct. reduction in this case\n",
    "mse_gbr_baseline_pct_imp <- - (mse_gbr_avg - mse_baseline) / mse_baseline * 100\n",
    "n_mse_gbr_consensus_genes <- nrow(mse_gbr_results_df %>% dplyr::filter(consensus == TRUE))\n",
    "\n",
    "paste0(\"GBR MSE avg.: \", mse_gbr_avg)\n",
    "paste0(\"GBR MSE impr. over baseline: \", mse_gbr_imp)\n",
    "paste0(\"GBR MSE pct. impr. over baseline: \", mse_gbr_baseline_pct_imp)\n",
    "paste0(\"GBR MSE consensus genes: \", n_mse_gbr_consensus_genes)"
   ]
  },
  {
   "cell_type": "markdown",
   "metadata": {},
   "source": [
    "## RFR (MSE)"
   ]
  },
  {
   "cell_type": "code",
   "execution_count": 18,
   "metadata": {},
   "outputs": [
    {
     "name": "stderr",
     "output_type": "stream",
     "text": [
      "\n",
      "\u001b[36m--\u001b[39m \u001b[1m\u001b[1mColumn specification\u001b[1m\u001b[22m \u001b[36m------------------------------------------------------------------------------------------------\u001b[39m\n",
      "cols(\n",
      "  model = \u001b[32mcol_double()\u001b[39m,\n",
      "  ref_score = \u001b[32mcol_double()\u001b[39m\n",
      ")\n",
      "\n",
      "\n",
      "\n",
      "\u001b[36m--\u001b[39m \u001b[1m\u001b[1mColumn specification\u001b[1m\u001b[22m \u001b[36m------------------------------------------------------------------------------------------------\u001b[39m\n",
      "cols(\n",
      "  geneID = \u001b[31mcol_character()\u001b[39m,\n",
      "  mean_imp_0 = \u001b[32mcol_double()\u001b[39m,\n",
      "  score_pct_improvement_0 = \u001b[32mcol_double()\u001b[39m,\n",
      "  mean_imp_1 = \u001b[32mcol_double()\u001b[39m,\n",
      "  score_pct_improvement_1 = \u001b[32mcol_double()\u001b[39m,\n",
      "  mean_imp_2 = \u001b[32mcol_double()\u001b[39m,\n",
      "  score_pct_improvement_2 = \u001b[32mcol_double()\u001b[39m,\n",
      "  mean_imp_3 = \u001b[32mcol_double()\u001b[39m,\n",
      "  score_pct_improvement_3 = \u001b[32mcol_double()\u001b[39m,\n",
      "  mean_imp_4 = \u001b[32mcol_double()\u001b[39m,\n",
      "  score_pct_improvement_4 = \u001b[32mcol_double()\u001b[39m\n",
      ")\n",
      "\n",
      "\n"
     ]
    },
    {
     "data": {
      "text/html": [
       "<table class=\"dataframe\">\n",
       "<caption>A spec_tbl_df: 5 × 2</caption>\n",
       "<thead>\n",
       "\t<tr><th scope=col>model</th><th scope=col>ref_score</th></tr>\n",
       "\t<tr><th scope=col>&lt;dbl&gt;</th><th scope=col>&lt;dbl&gt;</th></tr>\n",
       "</thead>\n",
       "<tbody>\n",
       "\t<tr><td>0</td><td>-700327.1</td></tr>\n",
       "\t<tr><td>1</td><td>-762400.7</td></tr>\n",
       "\t<tr><td>2</td><td>-755860.1</td></tr>\n",
       "\t<tr><td>3</td><td>-760565.4</td></tr>\n",
       "\t<tr><td>4</td><td>-767924.2</td></tr>\n",
       "</tbody>\n",
       "</table>\n"
      ],
      "text/latex": [
       "A spec\\_tbl\\_df: 5 × 2\n",
       "\\begin{tabular}{ll}\n",
       " model & ref\\_score\\\\\n",
       " <dbl> & <dbl>\\\\\n",
       "\\hline\n",
       "\t 0 & -700327.1\\\\\n",
       "\t 1 & -762400.7\\\\\n",
       "\t 2 & -755860.1\\\\\n",
       "\t 3 & -760565.4\\\\\n",
       "\t 4 & -767924.2\\\\\n",
       "\\end{tabular}\n"
      ],
      "text/markdown": [
       "\n",
       "A spec_tbl_df: 5 × 2\n",
       "\n",
       "| model &lt;dbl&gt; | ref_score &lt;dbl&gt; |\n",
       "|---|---|\n",
       "| 0 | -700327.1 |\n",
       "| 1 | -762400.7 |\n",
       "| 2 | -755860.1 |\n",
       "| 3 | -760565.4 |\n",
       "| 4 | -767924.2 |\n",
       "\n"
      ],
      "text/plain": [
       "  model ref_score\n",
       "1 0     -700327.1\n",
       "2 1     -762400.7\n",
       "3 2     -755860.1\n",
       "4 3     -760565.4\n",
       "5 4     -767924.2"
      ]
     },
     "metadata": {},
     "output_type": "display_data"
    },
    {
     "data": {
      "text/html": [
       "'RFR MSE avg.: 749415.519821426'"
      ],
      "text/latex": [
       "'RFR MSE avg.: 749415.519821426'"
      ],
      "text/markdown": [
       "'RFR MSE avg.: 749415.519821426'"
      ],
      "text/plain": [
       "[1] \"RFR MSE avg.: 749415.519821426\""
      ]
     },
     "metadata": {},
     "output_type": "display_data"
    },
    {
     "data": {
      "text/html": [
       "'RFR MSE impr. over baseline: FALSE'"
      ],
      "text/latex": [
       "'RFR MSE impr. over baseline: FALSE'"
      ],
      "text/markdown": [
       "'RFR MSE impr. over baseline: FALSE'"
      ],
      "text/plain": [
       "[1] \"RFR MSE impr. over baseline: FALSE\""
      ]
     },
     "metadata": {},
     "output_type": "display_data"
    },
    {
     "data": {
      "text/html": [
       "'RFR MSE pct. impr. over baseline: -20.7420390166687'"
      ],
      "text/latex": [
       "'RFR MSE pct. impr. over baseline: -20.7420390166687'"
      ],
      "text/markdown": [
       "'RFR MSE pct. impr. over baseline: -20.7420390166687'"
      ],
      "text/plain": [
       "[1] \"RFR MSE pct. impr. over baseline: -20.7420390166687\""
      ]
     },
     "metadata": {},
     "output_type": "display_data"
    },
    {
     "data": {
      "text/html": [
       "'RFR MSE consensus genes: 28'"
      ],
      "text/latex": [
       "'RFR MSE consensus genes: 28'"
      ],
      "text/markdown": [
       "'RFR MSE consensus genes: 28'"
      ],
      "text/plain": [
       "[1] \"RFR MSE consensus genes: 28\""
      ]
     },
     "metadata": {},
     "output_type": "display_data"
    }
   ],
   "source": [
    "mse_rfr_scores_df <- read_tsv(paste0(dirs$analysis_dir, \"/feature_selection/\", unified_dsets[dset_idx], \"_mse_rfr_ref_scores.tsv\"))\n",
    "mse_rfr_results_df <- read_tsv(paste0(dirs$analysis_dir, \"/feature_selection/\", unified_dsets[dset_idx], \"_mse_rfr_results.tsv\"))\n",
    "mse_rfr_results_df <- get_consensus_col(mse_rfr_results_df, n = consensus_n, thresh = consensus_thresh)\n",
    "mse_rfr_scores_df\n",
    "\n",
    "# mult. by -1 to convert neg MSE -> MSE\n",
    "mse_rfr_avg <- mean(-mse_rfr_scores_df$ref_score)\n",
    "mse_rfr_imp <- mse_rfr_avg < mse_baseline\n",
    "# mult. by -1 since pct. \"improvement\" is pct. reduction in this case\n",
    "mse_rfr_baseline_pct_imp <- - (mse_rfr_avg - mse_baseline) / mse_baseline * 100\n",
    "n_mse_rfr_consensus_genes <- nrow(mse_rfr_results_df %>% dplyr::filter(consensus == TRUE))\n",
    "\n",
    "paste0(\"RFR MSE avg.: \", mse_rfr_avg)\n",
    "paste0(\"RFR MSE impr. over baseline: \", mse_rfr_imp)\n",
    "paste0(\"RFR MSE pct. impr. over baseline: \", mse_rfr_baseline_pct_imp)\n",
    "paste0(\"RFR MSE consensus genes: \", n_mse_rfr_consensus_genes)"
   ]
  },
  {
   "cell_type": "markdown",
   "metadata": {},
   "source": [
    "# Classification"
   ]
  },
  {
   "cell_type": "markdown",
   "metadata": {},
   "source": [
    "## Anova analysis"
   ]
  },
  {
   "cell_type": "code",
   "execution_count": 19,
   "metadata": {},
   "outputs": [
    {
     "name": "stderr",
     "output_type": "stream",
     "text": [
      "\n",
      "\u001b[36m--\u001b[39m \u001b[1m\u001b[1mColumn specification\u001b[1m\u001b[22m \u001b[36m------------------------------------------------------------------------------------------------\u001b[39m\n",
      "cols(\n",
      "  geneID = \u001b[31mcol_character()\u001b[39m,\n",
      "  pval = \u001b[32mcol_double()\u001b[39m,\n",
      "  padj = \u001b[32mcol_double()\u001b[39m,\n",
      "  qval = \u001b[32mcol_double()\u001b[39m\n",
      ")\n",
      "\n",
      "\n"
     ]
    },
    {
     "data": {
      "text/html": [
       "'Sig. ANOVA: 12'"
      ],
      "text/latex": [
       "'Sig. ANOVA: 12'"
      ],
      "text/markdown": [
       "'Sig. ANOVA: 12'"
      ],
      "text/plain": [
       "[1] \"Sig. ANOVA: 12\""
      ]
     },
     "metadata": {},
     "output_type": "display_data"
    }
   ],
   "source": [
    "welch_anova_results_df <- read_tsv(paste0(dirs$analysis_dir, \"/feature_selection/\", unified_dsets[dset_idx], \"_welch_anova_results.tsv\"))\n",
    "# filtered_welch_anova_results_df <- welch_anova_results_df %>% dplyr::filter(padj < p_thresh)\n",
    "filtered_welch_anova_results_df <- welch_anova_results_df %>% dplyr::filter(qval < p_thresh)\n",
    "\n",
    "n_sig <- nrow(filtered_welch_anova_results_df)\n",
    "\n",
    "paste0(\"Sig. ANOVA: \", n_sig)"
   ]
  },
  {
   "cell_type": "markdown",
   "metadata": {},
   "source": [
    "## MI analysis"
   ]
  },
  {
   "cell_type": "code",
   "execution_count": 20,
   "metadata": {},
   "outputs": [
    {
     "name": "stderr",
     "output_type": "stream",
     "text": [
      "\n",
      "\u001b[36m--\u001b[39m \u001b[1m\u001b[1mColumn specification\u001b[1m\u001b[22m \u001b[36m------------------------------------------------------------------------------------------------\u001b[39m\n",
      "cols(\n",
      "  geneID = \u001b[31mcol_character()\u001b[39m,\n",
      "  MI_est_median = \u001b[32mcol_double()\u001b[39m\n",
      ")\n",
      "\n",
      "\n"
     ]
    },
    {
     "data": {
      "text/html": [
       "'MI: 523'"
      ],
      "text/latex": [
       "'MI: 523'"
      ],
      "text/markdown": [
       "'MI: 523'"
      ],
      "text/plain": [
       "[1] \"MI: 523\""
      ]
     },
     "metadata": {},
     "output_type": "display_data"
    }
   ],
   "source": [
    "mi_figo_results_df <- read_tsv(paste0(dirs$analysis_dir, \"/feature_selection/\", unified_dsets[dset_idx], \"_MI_figo_results.tsv\"))\n",
    "filtered_mi_figo_results_df <- mi_figo_results_df %>% dplyr::filter(MI_est_median > mi_thresh)\n",
    "\n",
    "n_mi <- nrow(filtered_mi_figo_results_df)\n",
    "\n",
    "paste0(\"MI: \", n_mi)"
   ]
  },
  {
   "cell_type": "code",
   "execution_count": 21,
   "metadata": {},
   "outputs": [
    {
     "data": {
      "text/html": [
       "64"
      ],
      "text/latex": [
       "64"
      ],
      "text/markdown": [
       "64"
      ],
      "text/plain": [
       "[1] 64"
      ]
     },
     "metadata": {},
     "output_type": "display_data"
    },
    {
     "data": {
      "text/html": [
       "66.3916449281702"
      ],
      "text/latex": [
       "66.3916449281702"
      ],
      "text/markdown": [
       "66.3916449281702"
      ],
      "text/plain": [
       "[1] 66.39164"
      ]
     },
     "metadata": {},
     "output_type": "display_data"
    },
    {
     "data": {
      "text/html": [
       "30"
      ],
      "text/latex": [
       "30"
      ],
      "text/markdown": [
       "30"
      ],
      "text/plain": [
       "[1] 30"
      ]
     },
     "metadata": {},
     "output_type": "display_data"
    }
   ],
   "source": [
    "mi_figo_ord_df <- mi_figo_results_df %>%\n",
    "    dplyr::arrange(desc(MI_est_median)) %>%\n",
    "    dplyr::mutate(geneID_f = factor(geneID, levels = geneID)) %>%\n",
    "    dplyr::filter(MI_est_median > 0.0)\n",
    "\n",
    "tot_figo_MI <- sum(mi_figo_ord_df$MI_est_median)\n",
    "\n",
    "mi_figo_ord_df <- mi_figo_ord_df %>%\n",
    "    dplyr::mutate(cum_MI_prop = cumsum(MI_est_median) / tot_figo_MI)\n",
    "\n",
    "nrow(mi_figo_ord_df %>% dplyr::filter(cum_MI_prop < 0.5))\n",
    "tot_figo_MI\n",
    "\n",
    "\n",
    "nrow(mi_figo_ord_df %>%\n",
    "    dplyr::mutate(pct_delta_max = (MI_est_median - first(MI_est_median)) / first(MI_est_median) * 100) %>%\n",
    "    dplyr::filter(pct_delta_max > -50))\n",
    "\n",
    "# ggplot(data = mi_figo_ordered_df) +\n",
    "#     geom_bar(aes(x = geneID_f, y = MI_est_median), stat = \"identity\") +\n",
    "#     theme_classic() +\n",
    "#     theme(\n",
    "#         axis.text.x = element_blank(),\n",
    "#         axis.ticks.x = element_blank()\n",
    "#     ) +\n",
    "#     labs(x = \"Matrisome gene\", y = \"Mutual information score\")"
   ]
  },
  {
   "cell_type": "markdown",
   "metadata": {},
   "source": [
    "## Baselines"
   ]
  },
  {
   "cell_type": "code",
   "execution_count": 22,
   "metadata": {},
   "outputs": [
    {
     "name": "stderr",
     "output_type": "stream",
     "text": [
      "\n",
      "\u001b[36m--\u001b[39m \u001b[1m\u001b[1mColumn specification\u001b[1m\u001b[22m \u001b[36m------------------------------------------------------------------------------------------------\u001b[39m\n",
      "cols(\n",
      "  dataset = \u001b[31mcol_character()\u001b[39m,\n",
      "  f1_macro_majority = \u001b[32mcol_double()\u001b[39m,\n",
      "  f1_macro_MC = \u001b[32mcol_double()\u001b[39m,\n",
      "  n = \u001b[32mcol_double()\u001b[39m\n",
      ")\n",
      "\n",
      "\n"
     ]
    },
    {
     "data": {
      "text/html": [
       "<table class=\"dataframe\">\n",
       "<caption>A spec_tbl_df: 3 × 4</caption>\n",
       "<thead>\n",
       "\t<tr><th scope=col>dataset</th><th scope=col>f1_macro_majority</th><th scope=col>f1_macro_MC</th><th scope=col>n</th></tr>\n",
       "\t<tr><th scope=col>&lt;chr&gt;</th><th scope=col>&lt;dbl&gt;</th><th scope=col>&lt;dbl&gt;</th><th scope=col>&lt;dbl&gt;</th></tr>\n",
       "</thead>\n",
       "<tbody>\n",
       "\t<tr><td>unified_cervical_data           </td><td>0.1730769</td><td>0.2487013</td><td>255</td></tr>\n",
       "\t<tr><td>unified_uterine_data            </td><td>0.1406250</td><td>0.2443586</td><td> 46</td></tr>\n",
       "\t<tr><td>unified_uterine_endometrial_data</td><td>0.1738095</td><td>0.2480810</td><td>137</td></tr>\n",
       "</tbody>\n",
       "</table>\n"
      ],
      "text/latex": [
       "A spec\\_tbl\\_df: 3 × 4\n",
       "\\begin{tabular}{llll}\n",
       " dataset & f1\\_macro\\_majority & f1\\_macro\\_MC & n\\\\\n",
       " <chr> & <dbl> & <dbl> & <dbl>\\\\\n",
       "\\hline\n",
       "\t unified\\_cervical\\_data            & 0.1730769 & 0.2487013 & 255\\\\\n",
       "\t unified\\_uterine\\_data             & 0.1406250 & 0.2443586 &  46\\\\\n",
       "\t unified\\_uterine\\_endometrial\\_data & 0.1738095 & 0.2480810 & 137\\\\\n",
       "\\end{tabular}\n"
      ],
      "text/markdown": [
       "\n",
       "A spec_tbl_df: 3 × 4\n",
       "\n",
       "| dataset &lt;chr&gt; | f1_macro_majority &lt;dbl&gt; | f1_macro_MC &lt;dbl&gt; | n &lt;dbl&gt; |\n",
       "|---|---|---|---|\n",
       "| unified_cervical_data            | 0.1730769 | 0.2487013 | 255 |\n",
       "| unified_uterine_data             | 0.1406250 | 0.2443586 |  46 |\n",
       "| unified_uterine_endometrial_data | 0.1738095 | 0.2480810 | 137 |\n",
       "\n"
      ],
      "text/plain": [
       "  dataset                          f1_macro_majority f1_macro_MC n  \n",
       "1 unified_cervical_data            0.1730769         0.2487013   255\n",
       "2 unified_uterine_data             0.1406250         0.2443586    46\n",
       "3 unified_uterine_endometrial_data 0.1738095         0.2480810   137"
      ]
     },
     "metadata": {},
     "output_type": "display_data"
    },
    {
     "data": {
      "text/html": [
       "'F1 macro (majority guess) baseline: 0.140625'"
      ],
      "text/latex": [
       "'F1 macro (majority guess) baseline: 0.140625'"
      ],
      "text/markdown": [
       "'F1 macro (majority guess) baseline: 0.140625'"
      ],
      "text/plain": [
       "[1] \"F1 macro (majority guess) baseline: 0.140625\""
      ]
     },
     "metadata": {},
     "output_type": "display_data"
    },
    {
     "data": {
      "text/html": [
       "'F1 macro (Monte Carlo) baseline: 0.244358630475602'"
      ],
      "text/latex": [
       "'F1 macro (Monte Carlo) baseline: 0.244358630475602'"
      ],
      "text/markdown": [
       "'F1 macro (Monte Carlo) baseline: 0.244358630475602'"
      ],
      "text/plain": [
       "[1] \"F1 macro (Monte Carlo) baseline: 0.244358630475602\""
      ]
     },
     "metadata": {},
     "output_type": "display_data"
    }
   ],
   "source": [
    "cls_baselines_df <- read_tsv(paste0(dirs$analysis_dir, \"/meta/\", \"cls_baselines.tsv\"))\n",
    "cls_baselines_df\n",
    "f1_macro_majority_baseline <- (cls_baselines_df %>% filter(dataset == unified_dsets[dset_idx]))$f1_macro_majority\n",
    "f1_macro_MC_baseline <- (cls_baselines_df %>% filter(dataset == unified_dsets[dset_idx]))$f1_macro_MC\n",
    "\n",
    "\n",
    "paste0(\"F1 macro (majority guess) baseline: \", f1_macro_majority_baseline)\n",
    "paste0(\"F1 macro (Monte Carlo) baseline: \", f1_macro_MC_baseline)"
   ]
  },
  {
   "cell_type": "markdown",
   "metadata": {},
   "source": [
    "## GBC"
   ]
  },
  {
   "cell_type": "code",
   "execution_count": 23,
   "metadata": {},
   "outputs": [
    {
     "name": "stderr",
     "output_type": "stream",
     "text": [
      "\n",
      "\u001b[36m--\u001b[39m \u001b[1m\u001b[1mColumn specification\u001b[1m\u001b[22m \u001b[36m------------------------------------------------------------------------------------------------\u001b[39m\n",
      "cols(\n",
      "  model = \u001b[32mcol_double()\u001b[39m,\n",
      "  ref_score = \u001b[32mcol_double()\u001b[39m\n",
      ")\n",
      "\n",
      "\n",
      "\n",
      "\u001b[36m--\u001b[39m \u001b[1m\u001b[1mColumn specification\u001b[1m\u001b[22m \u001b[36m------------------------------------------------------------------------------------------------\u001b[39m\n",
      "cols(\n",
      "  geneID = \u001b[31mcol_character()\u001b[39m,\n",
      "  mean_imp_0 = \u001b[32mcol_double()\u001b[39m,\n",
      "  score_pct_improvement_0 = \u001b[32mcol_double()\u001b[39m,\n",
      "  mean_imp_1 = \u001b[32mcol_double()\u001b[39m,\n",
      "  score_pct_improvement_1 = \u001b[32mcol_double()\u001b[39m,\n",
      "  mean_imp_2 = \u001b[32mcol_double()\u001b[39m,\n",
      "  score_pct_improvement_2 = \u001b[32mcol_double()\u001b[39m,\n",
      "  mean_imp_3 = \u001b[32mcol_double()\u001b[39m,\n",
      "  score_pct_improvement_3 = \u001b[32mcol_double()\u001b[39m,\n",
      "  mean_imp_4 = \u001b[32mcol_double()\u001b[39m,\n",
      "  score_pct_improvement_4 = \u001b[32mcol_double()\u001b[39m\n",
      ")\n",
      "\n",
      "\n"
     ]
    },
    {
     "data": {
      "text/html": [
       "<table class=\"dataframe\">\n",
       "<caption>A spec_tbl_df: 5 × 2</caption>\n",
       "<thead>\n",
       "\t<tr><th scope=col>model</th><th scope=col>ref_score</th></tr>\n",
       "\t<tr><th scope=col>&lt;dbl&gt;</th><th scope=col>&lt;dbl&gt;</th></tr>\n",
       "</thead>\n",
       "<tbody>\n",
       "\t<tr><td>0</td><td>0.3624711</td></tr>\n",
       "\t<tr><td>1</td><td>0.3820238</td></tr>\n",
       "\t<tr><td>2</td><td>0.3439695</td></tr>\n",
       "\t<tr><td>3</td><td>0.3624711</td></tr>\n",
       "\t<tr><td>4</td><td>0.3654341</td></tr>\n",
       "</tbody>\n",
       "</table>\n"
      ],
      "text/latex": [
       "A spec\\_tbl\\_df: 5 × 2\n",
       "\\begin{tabular}{ll}\n",
       " model & ref\\_score\\\\\n",
       " <dbl> & <dbl>\\\\\n",
       "\\hline\n",
       "\t 0 & 0.3624711\\\\\n",
       "\t 1 & 0.3820238\\\\\n",
       "\t 2 & 0.3439695\\\\\n",
       "\t 3 & 0.3624711\\\\\n",
       "\t 4 & 0.3654341\\\\\n",
       "\\end{tabular}\n"
      ],
      "text/markdown": [
       "\n",
       "A spec_tbl_df: 5 × 2\n",
       "\n",
       "| model &lt;dbl&gt; | ref_score &lt;dbl&gt; |\n",
       "|---|---|\n",
       "| 0 | 0.3624711 |\n",
       "| 1 | 0.3820238 |\n",
       "| 2 | 0.3439695 |\n",
       "| 3 | 0.3624711 |\n",
       "| 4 | 0.3654341 |\n",
       "\n"
      ],
      "text/plain": [
       "  model ref_score\n",
       "1 0     0.3624711\n",
       "2 1     0.3820238\n",
       "3 2     0.3439695\n",
       "4 3     0.3624711\n",
       "5 4     0.3654341"
      ]
     },
     "metadata": {},
     "output_type": "display_data"
    },
    {
     "data": {
      "text/html": [
       "'GBC F1 avg.: 0.36327392977393'"
      ],
      "text/latex": [
       "'GBC F1 avg.: 0.36327392977393'"
      ],
      "text/markdown": [
       "'GBC F1 avg.: 0.36327392977393'"
      ],
      "text/plain": [
       "[1] \"GBC F1 avg.: 0.36327392977393\""
      ]
     },
     "metadata": {},
     "output_type": "display_data"
    },
    {
     "data": {
      "text/html": [
       "'GBC F1 impr. over baseline: TRUE'"
      ],
      "text/latex": [
       "'GBC F1 impr. over baseline: TRUE'"
      ],
      "text/markdown": [
       "'GBC F1 impr. over baseline: TRUE'"
      ],
      "text/plain": [
       "[1] \"GBC F1 impr. over baseline: TRUE\""
      ]
     },
     "metadata": {},
     "output_type": "display_data"
    },
    {
     "data": {
      "text/html": [
       "'GBC F1 pct. impr. over baseline: 48.6642518280937'"
      ],
      "text/latex": [
       "'GBC F1 pct. impr. over baseline: 48.6642518280937'"
      ],
      "text/markdown": [
       "'GBC F1 pct. impr. over baseline: 48.6642518280937'"
      ],
      "text/plain": [
       "[1] \"GBC F1 pct. impr. over baseline: 48.6642518280937\""
      ]
     },
     "metadata": {},
     "output_type": "display_data"
    },
    {
     "data": {
      "text/html": [
       "'GBC F1 consensus genes: 0'"
      ],
      "text/latex": [
       "'GBC F1 consensus genes: 0'"
      ],
      "text/markdown": [
       "'GBC F1 consensus genes: 0'"
      ],
      "text/plain": [
       "[1] \"GBC F1 consensus genes: 0\""
      ]
     },
     "metadata": {},
     "output_type": "display_data"
    }
   ],
   "source": [
    "f1_gbc_scores_df <- read_tsv(paste0(dirs$analysis_dir, \"/feature_selection/\", unified_dsets[dset_idx], \"_gbc_ref_scores.tsv\"))\n",
    "f1_gbc_results_df <- read_tsv(paste0(dirs$analysis_dir, \"/feature_selection/\", unified_dsets[dset_idx], \"_gbc_results.tsv\"))\n",
    "f1_gbc_results_df <- get_consensus_col(f1_gbc_results_df, n = consensus_n, thresh = consensus_thresh)\n",
    "f1_gbc_scores_df\n",
    "\n",
    "f1_gbc_avg <- mean(f1_gbc_scores_df$ref_score)\n",
    "f1_gbc_imp <- f1_gbc_avg > f1_macro_MC_baseline\n",
    "f1_gbc_baseline_pct_imp <- (f1_gbc_avg - f1_macro_MC_baseline) / f1_macro_MC_baseline * 100\n",
    "n_f1_gbc_consensus_genes <- nrow(f1_gbc_results_df %>% dplyr::filter(consensus == TRUE))\n",
    "\n",
    "paste0(\"GBC F1 avg.: \", f1_gbc_avg)\n",
    "paste0(\"GBC F1 impr. over baseline: \", f1_gbc_imp)\n",
    "paste0(\"GBC F1 pct. impr. over baseline: \", f1_gbc_baseline_pct_imp)\n",
    "paste0(\"GBC F1 consensus genes: \", n_f1_gbc_consensus_genes)"
   ]
  },
  {
   "cell_type": "markdown",
   "metadata": {},
   "source": [
    "## RFC"
   ]
  },
  {
   "cell_type": "code",
   "execution_count": 24,
   "metadata": {},
   "outputs": [
    {
     "name": "stderr",
     "output_type": "stream",
     "text": [
      "\n",
      "\u001b[36m--\u001b[39m \u001b[1m\u001b[1mColumn specification\u001b[1m\u001b[22m \u001b[36m------------------------------------------------------------------------------------------------\u001b[39m\n",
      "cols(\n",
      "  model = \u001b[32mcol_double()\u001b[39m,\n",
      "  ref_score = \u001b[32mcol_double()\u001b[39m\n",
      ")\n",
      "\n",
      "\n",
      "\n",
      "\u001b[36m--\u001b[39m \u001b[1m\u001b[1mColumn specification\u001b[1m\u001b[22m \u001b[36m------------------------------------------------------------------------------------------------\u001b[39m\n",
      "cols(\n",
      "  geneID = \u001b[31mcol_character()\u001b[39m,\n",
      "  mean_imp_0 = \u001b[32mcol_double()\u001b[39m,\n",
      "  score_pct_improvement_0 = \u001b[32mcol_double()\u001b[39m,\n",
      "  mean_imp_1 = \u001b[32mcol_double()\u001b[39m,\n",
      "  score_pct_improvement_1 = \u001b[32mcol_double()\u001b[39m,\n",
      "  mean_imp_2 = \u001b[32mcol_double()\u001b[39m,\n",
      "  score_pct_improvement_2 = \u001b[32mcol_double()\u001b[39m,\n",
      "  mean_imp_3 = \u001b[32mcol_double()\u001b[39m,\n",
      "  score_pct_improvement_3 = \u001b[32mcol_double()\u001b[39m,\n",
      "  mean_imp_4 = \u001b[32mcol_double()\u001b[39m,\n",
      "  score_pct_improvement_4 = \u001b[32mcol_double()\u001b[39m\n",
      ")\n",
      "\n",
      "\n"
     ]
    },
    {
     "data": {
      "text/html": [
       "<table class=\"dataframe\">\n",
       "<caption>A spec_tbl_df: 5 × 2</caption>\n",
       "<thead>\n",
       "\t<tr><th scope=col>model</th><th scope=col>ref_score</th></tr>\n",
       "\t<tr><th scope=col>&lt;dbl&gt;</th><th scope=col>&lt;dbl&gt;</th></tr>\n",
       "</thead>\n",
       "<tbody>\n",
       "\t<tr><td>0</td><td>0.3286905</td></tr>\n",
       "\t<tr><td>1</td><td>0.3257035</td></tr>\n",
       "\t<tr><td>2</td><td>0.3313504</td></tr>\n",
       "\t<tr><td>3</td><td>0.3627742</td></tr>\n",
       "\t<tr><td>4</td><td>0.3426058</td></tr>\n",
       "</tbody>\n",
       "</table>\n"
      ],
      "text/latex": [
       "A spec\\_tbl\\_df: 5 × 2\n",
       "\\begin{tabular}{ll}\n",
       " model & ref\\_score\\\\\n",
       " <dbl> & <dbl>\\\\\n",
       "\\hline\n",
       "\t 0 & 0.3286905\\\\\n",
       "\t 1 & 0.3257035\\\\\n",
       "\t 2 & 0.3313504\\\\\n",
       "\t 3 & 0.3627742\\\\\n",
       "\t 4 & 0.3426058\\\\\n",
       "\\end{tabular}\n"
      ],
      "text/markdown": [
       "\n",
       "A spec_tbl_df: 5 × 2\n",
       "\n",
       "| model &lt;dbl&gt; | ref_score &lt;dbl&gt; |\n",
       "|---|---|\n",
       "| 0 | 0.3286905 |\n",
       "| 1 | 0.3257035 |\n",
       "| 2 | 0.3313504 |\n",
       "| 3 | 0.3627742 |\n",
       "| 4 | 0.3426058 |\n",
       "\n"
      ],
      "text/plain": [
       "  model ref_score\n",
       "1 0     0.3286905\n",
       "2 1     0.3257035\n",
       "3 2     0.3313504\n",
       "4 3     0.3627742\n",
       "5 4     0.3426058"
      ]
     },
     "metadata": {},
     "output_type": "display_data"
    },
    {
     "data": {
      "text/html": [
       "'rfc F1 avg.: 0.338224867724868'"
      ],
      "text/latex": [
       "'rfc F1 avg.: 0.338224867724868'"
      ],
      "text/markdown": [
       "'rfc F1 avg.: 0.338224867724868'"
      ],
      "text/plain": [
       "[1] \"rfc F1 avg.: 0.338224867724868\""
      ]
     },
     "metadata": {},
     "output_type": "display_data"
    },
    {
     "data": {
      "text/html": [
       "'rfc F1 impr. over baseline: TRUE'"
      ],
      "text/latex": [
       "'rfc F1 impr. over baseline: TRUE'"
      ],
      "text/markdown": [
       "'rfc F1 impr. over baseline: TRUE'"
      ],
      "text/plain": [
       "[1] \"rfc F1 impr. over baseline: TRUE\""
      ]
     },
     "metadata": {},
     "output_type": "display_data"
    },
    {
     "data": {
      "text/html": [
       "'rfc F1 pct. impr. over baseline: 38.413309596052'"
      ],
      "text/latex": [
       "'rfc F1 pct. impr. over baseline: 38.413309596052'"
      ],
      "text/markdown": [
       "'rfc F1 pct. impr. over baseline: 38.413309596052'"
      ],
      "text/plain": [
       "[1] \"rfc F1 pct. impr. over baseline: 38.413309596052\""
      ]
     },
     "metadata": {},
     "output_type": "display_data"
    },
    {
     "data": {
      "text/html": [
       "'rfc F1 consensus genes: 0'"
      ],
      "text/latex": [
       "'rfc F1 consensus genes: 0'"
      ],
      "text/markdown": [
       "'rfc F1 consensus genes: 0'"
      ],
      "text/plain": [
       "[1] \"rfc F1 consensus genes: 0\""
      ]
     },
     "metadata": {},
     "output_type": "display_data"
    }
   ],
   "source": [
    "f1_rfc_scores_df <- read_tsv(paste0(dirs$analysis_dir, \"/feature_selection/\", unified_dsets[dset_idx], \"_rfc_ref_scores.tsv\"))\n",
    "f1_rfc_results_df <- read_tsv(paste0(dirs$analysis_dir, \"/feature_selection/\", unified_dsets[dset_idx], \"_rfc_results.tsv\"))\n",
    "f1_rfc_results_df <- get_consensus_col(f1_rfc_results_df, n = consensus_n, thresh = consensus_thresh)\n",
    "f1_rfc_scores_df\n",
    "\n",
    "f1_rfc_avg <- mean(f1_rfc_scores_df$ref_score)\n",
    "f1_rfc_imp <- f1_rfc_avg > f1_macro_MC_baseline\n",
    "f1_rfc_baseline_pct_imp <- (f1_rfc_avg - f1_macro_MC_baseline) / f1_macro_MC_baseline * 100\n",
    "n_f1_rfc_consensus_genes <- nrow(f1_rfc_results_df %>% dplyr::filter(consensus == TRUE))\n",
    "\n",
    "paste0(\"rfc F1 avg.: \", f1_rfc_avg)\n",
    "paste0(\"rfc F1 impr. over baseline: \", f1_rfc_imp)\n",
    "paste0(\"rfc F1 pct. impr. over baseline: \", f1_rfc_baseline_pct_imp)\n",
    "paste0(\"rfc F1 consensus genes: \", n_f1_rfc_consensus_genes)"
   ]
  },
  {
   "cell_type": "markdown",
   "metadata": {},
   "source": [
    "## LR (L1)"
   ]
  },
  {
   "cell_type": "code",
   "execution_count": 25,
   "metadata": {},
   "outputs": [
    {
     "name": "stderr",
     "output_type": "stream",
     "text": [
      "\n",
      "\u001b[36m--\u001b[39m \u001b[1m\u001b[1mColumn specification\u001b[1m\u001b[22m \u001b[36m------------------------------------------------------------------------------------------------\u001b[39m\n",
      "cols(\n",
      "  model = \u001b[32mcol_double()\u001b[39m,\n",
      "  ref_score = \u001b[32mcol_double()\u001b[39m\n",
      ")\n",
      "\n",
      "\n",
      "\n",
      "\u001b[36m--\u001b[39m \u001b[1m\u001b[1mColumn specification\u001b[1m\u001b[22m \u001b[36m------------------------------------------------------------------------------------------------\u001b[39m\n",
      "cols(\n",
      "  geneID = \u001b[31mcol_character()\u001b[39m,\n",
      "  mean_imp_0 = \u001b[32mcol_double()\u001b[39m,\n",
      "  score_pct_improvement_0 = \u001b[32mcol_double()\u001b[39m,\n",
      "  mean_imp_1 = \u001b[32mcol_double()\u001b[39m,\n",
      "  score_pct_improvement_1 = \u001b[32mcol_double()\u001b[39m,\n",
      "  mean_imp_2 = \u001b[32mcol_double()\u001b[39m,\n",
      "  score_pct_improvement_2 = \u001b[32mcol_double()\u001b[39m,\n",
      "  mean_imp_3 = \u001b[32mcol_double()\u001b[39m,\n",
      "  score_pct_improvement_3 = \u001b[32mcol_double()\u001b[39m,\n",
      "  mean_imp_4 = \u001b[32mcol_double()\u001b[39m,\n",
      "  score_pct_improvement_4 = \u001b[32mcol_double()\u001b[39m\n",
      ")\n",
      "\n",
      "\n"
     ]
    },
    {
     "data": {
      "text/html": [
       "<table class=\"dataframe\">\n",
       "<caption>A spec_tbl_df: 5 × 2</caption>\n",
       "<thead>\n",
       "\t<tr><th scope=col>model</th><th scope=col>ref_score</th></tr>\n",
       "\t<tr><th scope=col>&lt;dbl&gt;</th><th scope=col>&lt;dbl&gt;</th></tr>\n",
       "</thead>\n",
       "<tbody>\n",
       "\t<tr><td>0</td><td>0.3078968</td></tr>\n",
       "\t<tr><td>1</td><td>0.3078968</td></tr>\n",
       "\t<tr><td>2</td><td>0.3078968</td></tr>\n",
       "\t<tr><td>3</td><td>0.2912302</td></tr>\n",
       "\t<tr><td>4</td><td>0.3078968</td></tr>\n",
       "</tbody>\n",
       "</table>\n"
      ],
      "text/latex": [
       "A spec\\_tbl\\_df: 5 × 2\n",
       "\\begin{tabular}{ll}\n",
       " model & ref\\_score\\\\\n",
       " <dbl> & <dbl>\\\\\n",
       "\\hline\n",
       "\t 0 & 0.3078968\\\\\n",
       "\t 1 & 0.3078968\\\\\n",
       "\t 2 & 0.3078968\\\\\n",
       "\t 3 & 0.2912302\\\\\n",
       "\t 4 & 0.3078968\\\\\n",
       "\\end{tabular}\n"
      ],
      "text/markdown": [
       "\n",
       "A spec_tbl_df: 5 × 2\n",
       "\n",
       "| model &lt;dbl&gt; | ref_score &lt;dbl&gt; |\n",
       "|---|---|\n",
       "| 0 | 0.3078968 |\n",
       "| 1 | 0.3078968 |\n",
       "| 2 | 0.3078968 |\n",
       "| 3 | 0.2912302 |\n",
       "| 4 | 0.3078968 |\n",
       "\n"
      ],
      "text/plain": [
       "  model ref_score\n",
       "1 0     0.3078968\n",
       "2 1     0.3078968\n",
       "3 2     0.3078968\n",
       "4 3     0.2912302\n",
       "5 4     0.3078968"
      ]
     },
     "metadata": {},
     "output_type": "display_data"
    },
    {
     "data": {
      "text/html": [
       "'LR L1 F1 avg.: 0.304563492063492'"
      ],
      "text/latex": [
       "'LR L1 F1 avg.: 0.304563492063492'"
      ],
      "text/markdown": [
       "'LR L1 F1 avg.: 0.304563492063492'"
      ],
      "text/plain": [
       "[1] \"LR L1 F1 avg.: 0.304563492063492\""
      ]
     },
     "metadata": {},
     "output_type": "display_data"
    },
    {
     "data": {
      "text/html": [
       "'LR L1 F1 impr. over baseline: TRUE'"
      ],
      "text/latex": [
       "'LR L1 F1 impr. over baseline: TRUE'"
      ],
      "text/markdown": [
       "'LR L1 F1 impr. over baseline: TRUE'"
      ],
      "text/plain": [
       "[1] \"LR L1 F1 impr. over baseline: TRUE\""
      ]
     },
     "metadata": {},
     "output_type": "display_data"
    },
    {
     "data": {
      "text/html": [
       "'LR L1 F1 pct. impr. over baseline: 24.6379108733388'"
      ],
      "text/latex": [
       "'LR L1 F1 pct. impr. over baseline: 24.6379108733388'"
      ],
      "text/markdown": [
       "'LR L1 F1 pct. impr. over baseline: 24.6379108733388'"
      ],
      "text/plain": [
       "[1] \"LR L1 F1 pct. impr. over baseline: 24.6379108733388\""
      ]
     },
     "metadata": {},
     "output_type": "display_data"
    },
    {
     "data": {
      "text/html": [
       "'LR L1 F1 consensus genes: 28'"
      ],
      "text/latex": [
       "'LR L1 F1 consensus genes: 28'"
      ],
      "text/markdown": [
       "'LR L1 F1 consensus genes: 28'"
      ],
      "text/plain": [
       "[1] \"LR L1 F1 consensus genes: 28\""
      ]
     },
     "metadata": {},
     "output_type": "display_data"
    }
   ],
   "source": [
    "f1_l1_lr_scores_df <- read_tsv(paste0(dirs$analysis_dir, \"/feature_selection/\", unified_dsets[dset_idx], \"_l1_lr_ref_scores.tsv\"))\n",
    "f1_l1_lr_results_df <- read_tsv(paste0(dirs$analysis_dir, \"/feature_selection/\", unified_dsets[dset_idx], \"_l1_lr_results.tsv\"))\n",
    "f1_l1_lr_results_df <- get_consensus_col(f1_l1_lr_results_df, n = consensus_n, thresh = consensus_thresh)\n",
    "f1_l1_lr_scores_df\n",
    "\n",
    "f1_l1_lr_avg <- mean(f1_l1_lr_scores_df$ref_score)\n",
    "f1_l1_lr_imp <- f1_l1_lr_avg > f1_macro_MC_baseline\n",
    "f1_l1_lr_pct_imp <- (f1_l1_lr_avg - f1_macro_MC_baseline) / f1_macro_MC_baseline * 100\n",
    "n_f1_l1_lr_consensus_genes <- nrow(f1_l1_lr_results_df %>% dplyr::filter(consensus == TRUE))\n",
    "\n",
    "paste0(\"LR L1 F1 avg.: \", f1_l1_lr_avg)\n",
    "paste0(\"LR L1 F1 impr. over baseline: \", f1_l1_lr_imp)\n",
    "paste0(\"LR L1 F1 pct. impr. over baseline: \", f1_l1_lr_pct_imp)\n",
    "paste0(\"LR L1 F1 consensus genes: \", n_f1_l1_lr_consensus_genes)"
   ]
  },
  {
   "cell_type": "markdown",
   "metadata": {},
   "source": [
    "# Network Analysis"
   ]
  },
  {
   "cell_type": "code",
   "execution_count": 26,
   "metadata": {},
   "outputs": [
    {
     "name": "stderr",
     "output_type": "stream",
     "text": [
      "\n",
      "\u001b[36m--\u001b[39m \u001b[1m\u001b[1mColumn specification\u001b[1m\u001b[22m \u001b[36m------------------------------------------------------------------------------------------------\u001b[39m\n",
      "cols(\n",
      "  .default = col_double(),\n",
      "  geneID = \u001b[31mcol_character()\u001b[39m,\n",
      "  module = \u001b[31mcol_character()\u001b[39m\n",
      ")\n",
      "\u001b[36mi\u001b[39m Use \u001b[30m\u001b[47m\u001b[30m\u001b[47m`spec()`\u001b[47m\u001b[30m\u001b[49m\u001b[39m for the full column specifications.\n",
      "\n",
      "\n",
      "\n",
      "\u001b[36m--\u001b[39m \u001b[1m\u001b[1mColumn specification\u001b[1m\u001b[22m \u001b[36m------------------------------------------------------------------------------------------------\u001b[39m\n",
      "cols(\n",
      "  module = \u001b[31mcol_character()\u001b[39m,\n",
      "  figo_stage_1_cor = \u001b[32mcol_double()\u001b[39m,\n",
      "  figo_stage_2_cor = \u001b[32mcol_double()\u001b[39m,\n",
      "  figo_stage_3_cor = \u001b[32mcol_double()\u001b[39m,\n",
      "  figo_stage_4_cor = \u001b[32mcol_double()\u001b[39m,\n",
      "  figo_stage_1_pval = \u001b[32mcol_double()\u001b[39m,\n",
      "  figo_stage_2_pval = \u001b[32mcol_double()\u001b[39m,\n",
      "  figo_stage_3_pval = \u001b[32mcol_double()\u001b[39m,\n",
      "  figo_stage_4_pval = \u001b[32mcol_double()\u001b[39m,\n",
      "  figo_stage_1_qval = \u001b[32mcol_double()\u001b[39m,\n",
      "  figo_stage_2_qval = \u001b[32mcol_double()\u001b[39m,\n",
      "  figo_stage_3_qval = \u001b[32mcol_double()\u001b[39m,\n",
      "  figo_stage_4_qval = \u001b[32mcol_double()\u001b[39m,\n",
      "  vital_hr = \u001b[32mcol_double()\u001b[39m,\n",
      "  vital_dev_cor = \u001b[32mcol_double()\u001b[39m,\n",
      "  vital_pval = \u001b[32mcol_double()\u001b[39m,\n",
      "  vital_qval = \u001b[32mcol_double()\u001b[39m\n",
      ")\n",
      "\n",
      "\n",
      "\n",
      "\n"
     ]
    }
   ],
   "source": [
    "network_mm_gs_df <- read_tsv(paste0(dirs$analysis_dir, \"/network/\", unified_dsets[dset_idx], \"_gene_mm_gs.tsv\"))\n",
    "network_me_sig_df <- read_tsv(paste0(dirs$analysis_dir, \"/network/\", unified_dsets[dset_idx], \"_eigengene_traits.tsv\"))\n",
    "lnames <- load(file = paste0(dirs$data_dir, \"/saved_network_objects/\", unified_dsets[dset_idx], \"_tumor_data.RData\"))\n",
    "lnames <- load(file = paste0(dirs$data_dir, \"/saved_network_objects/\", unified_dsets[dset_idx], \"_tumor_network.RData\"))\n",
    "pval_thresh <- 0.05\n",
    "\n",
    "hub_df <- get_most_conn_genes(data_expr, module_colors, soft_power, conn_vs_hub_thresh = hub_con_thresh) %>%\n",
    "    bind_rows(.id = \"module\") %>%\n",
    "    dplyr::select(geneID, everything())\n"
   ]
  },
  {
   "cell_type": "code",
   "execution_count": 27,
   "metadata": {},
   "outputs": [],
   "source": [
    "condensed_me_df <- network_me_sig_df %>%\n",
    "    condense_figo(include_pvals = TRUE) %>%\n",
    "    dplyr::rename_if(!startsWith(colnames(.), \"module\"), ~ gsub(\"^\", \"me_\", .))\n",
    "\n",
    "filtered_figo_network_df <- network_mm_gs_df %>%\n",
    "    dplyr::select(geneID, module, mm_pval, mm_cor) %>%\n",
    "    inner_join(condensed_me_df, by = \"module\") %>%\n",
    "    dplyr::filter(me_figo_min_qval < pval_thresh) %>%\n",
    "    # Make sure genes are significant members of the module\n",
    "    dplyr::filter(mm_pval < pval_thresh) %>%\n",
    "    # Make sure genes are highly connected within the module\n",
    "    dplyr::filter(geneID %in% hub_df$geneID)\n",
    "\n",
    "filtered_coxph_network_df <- network_mm_gs_df %>%\n",
    "    dplyr::select(geneID, module, mm_pval, mm_cor) %>%\n",
    "    inner_join(condensed_me_df, by = \"module\") %>%\n",
    "    dplyr::filter(me_vital_qval < pval_thresh) %>%\n",
    "    # Make sure genes are significant members of the module\n",
    "    dplyr::filter(mm_pval < pval_thresh) %>%\n",
    "    # Make sure genes are highly connected within the module\n",
    "    dplyr::filter(geneID %in% hub_df$geneID)"
   ]
  },
  {
   "cell_type": "code",
   "execution_count": 28,
   "metadata": {},
   "outputs": [
    {
     "data": {
      "text/html": [
       "175"
      ],
      "text/latex": [
       "175"
      ],
      "text/markdown": [
       "175"
      ],
      "text/plain": [
       "[1] 175"
      ]
     },
     "metadata": {},
     "output_type": "display_data"
    },
    {
     "data": {
      "text/html": [
       "0"
      ],
      "text/latex": [
       "0"
      ],
      "text/markdown": [
       "0"
      ],
      "text/plain": [
       "[1] 0"
      ]
     },
     "metadata": {},
     "output_type": "display_data"
    },
    {
     "data": {
      "text/html": [
       "3"
      ],
      "text/latex": [
       "3"
      ],
      "text/markdown": [
       "3"
      ],
      "text/plain": [
       "[1] 3"
      ]
     },
     "metadata": {},
     "output_type": "display_data"
    },
    {
     "data": {
      "text/html": [
       "0"
      ],
      "text/latex": [
       "0"
      ],
      "text/markdown": [
       "0"
      ],
      "text/plain": [
       "[1] 0"
      ]
     },
     "metadata": {},
     "output_type": "display_data"
    }
   ],
   "source": [
    "nrow(filtered_figo_network_df)\n",
    "nrow(filtered_coxph_network_df)\n",
    "length(unique(filtered_figo_network_df$module))\n",
    "length(unique(filtered_coxph_network_df$module))"
   ]
  },
  {
   "cell_type": "code",
   "execution_count": 29,
   "metadata": {},
   "outputs": [
    {
     "data": {
      "text/html": [
       "3.29"
      ],
      "text/latex": [
       "3.29"
      ],
      "text/markdown": [
       "3.29"
      ],
      "text/plain": [
       "[1] 3.29"
      ]
     },
     "metadata": {},
     "output_type": "display_data"
    },
    {
     "data": {
      "text/html": [
       "<style>\n",
       ".dl-inline {width: auto; margin:0; padding: 0}\n",
       ".dl-inline>dt, .dl-inline>dd {float: none; width: auto; display: inline-block}\n",
       ".dl-inline>dt::after {content: \":\\0020\"; padding-right: .5ex}\n",
       ".dl-inline>dt:not(:first-of-type) {padding-left: .5ex}\n",
       "</style><dl class=dl-inline><dt>0%</dt><dd>0.415</dd><dt>25%</dt><dd>1.447</dd><dt>50%</dt><dd>2.359</dd><dt>75%</dt><dd>4.275</dd><dt>100%</dt><dd>17.344</dd></dl>\n"
      ],
      "text/latex": [
       "\\begin{description*}\n",
       "\\item[0\\textbackslash{}\\%] 0.415\n",
       "\\item[25\\textbackslash{}\\%] 1.447\n",
       "\\item[50\\textbackslash{}\\%] 2.359\n",
       "\\item[75\\textbackslash{}\\%] 4.275\n",
       "\\item[100\\textbackslash{}\\%] 17.344\n",
       "\\end{description*}\n"
      ],
      "text/markdown": [
       "0%\n",
       ":   0.41525%\n",
       ":   1.44750%\n",
       ":   2.35975%\n",
       ":   4.275100%\n",
       ":   17.344\n",
       "\n"
      ],
      "text/plain": [
       "    0%    25%    50%    75%   100% \n",
       " 0.415  1.447  2.359  4.275 17.344 "
      ]
     },
     "metadata": {},
     "output_type": "display_data"
    }
   ],
   "source": [
    "# Subtract 1 from diagonal of TOM (so we don't count self-TOM)\n",
    "tom_summary_df <- tibble(geneID = colnames(data_expr), tom_conn = rowSums(tom - diag(1, nrow(tom), ncol(tom)))) %>%\n",
    "    arrange(desc(tom_conn))\n",
    "round(mean(tom_summary_df$tom_conn), 3)\n",
    "round(quantile(tom_summary_df$tom_conn), 3)"
   ]
  }
 ],
 "metadata": {
  "kernelspec": {
   "display_name": "R",
   "language": "R",
   "name": "ir"
  },
  "language_info": {
   "codemirror_mode": "r",
   "file_extension": ".r",
   "mimetype": "text/x-r-source",
   "name": "R",
   "pygments_lexer": "r",
   "version": "4.0.3"
  }
 },
 "nbformat": 4,
 "nbformat_minor": 4
}
