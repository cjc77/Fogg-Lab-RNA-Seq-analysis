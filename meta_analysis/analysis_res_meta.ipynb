{
 "cells": [
  {
   "cell_type": "code",
   "execution_count": 27,
   "metadata": {},
   "outputs": [],
   "source": [
    "library(tidyverse)\n",
    "\n",
    "# Custom package\n",
    "library(rutils)"
   ]
  },
  {
   "cell_type": "code",
   "execution_count": 28,
   "metadata": {},
   "outputs": [],
   "source": [
    "dirs <- rutils::get_dev_directories(dev_paths_file = \"../dev_paths.txt\")\n",
    "projects <- c(\"TCGA-CESC\", \"TCGA-UCS\", \"TCGA-UCEC\", \"TCGA-OV\")\n",
    "unified_dsets <- c(\"unified_cervical_data\", \"unified_uterine_data\", \"unified_uterine_endometrial_data\")\n",
    "matrisome_list <- paste0(dirs$data_dir, \"/matrisome/matrisome_hs_masterlist.tsv\")"
   ]
  },
  {
   "cell_type": "code",
   "execution_count": 29,
   "metadata": {},
   "outputs": [],
   "source": [
    "dset_idx <- 3"
   ]
  },
  {
   "cell_type": "code",
   "execution_count": 30,
   "metadata": {},
   "outputs": [],
   "source": [
    "p_thresh = 0.05\n",
    "lfc_thresh = log2(2)\n",
    "coxph_coeff_thresh = 0.0\n",
    "mi_thresh = 0.0\n",
    "consensus_thresh = 0.0\n",
    "consensus_n = 5"
   ]
  },
  {
   "cell_type": "markdown",
   "metadata": {},
   "source": [
    "# Helpers"
   ]
  },
  {
   "cell_type": "code",
   "execution_count": 31,
   "metadata": {},
   "outputs": [
    {
     "name": "stderr",
     "output_type": "stream",
     "text": [
      "\n",
      "\u001b[36m--\u001b[39m \u001b[1m\u001b[1mColumn specification\u001b[1m\u001b[22m \u001b[36m-------------------------------------------------------------------------------------------------------------------------------------------------------------------\u001b[39m\n",
      "cols(\n",
      "  Division = \u001b[31mcol_character()\u001b[39m,\n",
      "  Category = \u001b[31mcol_character()\u001b[39m,\n",
      "  `Gene Symbol` = \u001b[31mcol_character()\u001b[39m,\n",
      "  `Gene Name` = \u001b[31mcol_character()\u001b[39m,\n",
      "  Synonyms = \u001b[31mcol_character()\u001b[39m,\n",
      "  HGNC_IDs = \u001b[32mcol_double()\u001b[39m,\n",
      "  `HGNC_IDs Links` = \u001b[32mcol_double()\u001b[39m,\n",
      "  UniProt_IDs = \u001b[31mcol_character()\u001b[39m,\n",
      "  Refseq_IDs = \u001b[31mcol_character()\u001b[39m,\n",
      "  Orthology = \u001b[31mcol_character()\u001b[39m,\n",
      "  Notes = \u001b[31mcol_character()\u001b[39m\n",
      ")\n",
      "\n",
      "\n"
     ]
    }
   ],
   "source": [
    "matrisome_df <- rutils::load_matrisome_df(matrisome_list) %>%\n",
    "    dplyr::select(gene_symbol, division, category)\n",
    "\n",
    "\n",
    "get_consensus_col <- function(df, n, thresh = 0) {\n",
    "    consensus_df <- df %>%\n",
    "        dplyr::select(geneID, contains(\"mean\")) %>%\n",
    "        dplyr::mutate(consensus = rowSums(.[-1] > thresh) == n)\n",
    "    return(df %>% dplyr::mutate(consensus = consensus_df$consensus))\n",
    "}"
   ]
  },
  {
   "cell_type": "code",
   "execution_count": 32,
   "metadata": {},
   "outputs": [
    {
     "name": "stderr",
     "output_type": "stream",
     "text": [
      "\n",
      "\u001b[36m--\u001b[39m \u001b[1m\u001b[1mColumn specification\u001b[1m\u001b[22m \u001b[36m-------------------------------------------------------------------------------------------------------------------------------------------------------------------\u001b[39m\n",
      "cols(\n",
      "  .default = col_double(),\n",
      "  geneID = \u001b[31mcol_character()\u001b[39m\n",
      ")\n",
      "\u001b[36mi\u001b[39m Use \u001b[30m\u001b[47m\u001b[30m\u001b[47m`spec()`\u001b[47m\u001b[30m\u001b[49m\u001b[39m for the full column specifications.\n",
      "\n",
      "\n"
     ]
    }
   ],
   "source": [
    "norm_counts_df <- read_tsv(paste0(dirs$data_dir, \"/\", unified_dsets[dset_idx], \"/\", \"norm_counts.tsv\"))"
   ]
  },
  {
   "cell_type": "markdown",
   "metadata": {},
   "source": [
    "# DGE analysis"
   ]
  },
  {
   "cell_type": "code",
   "execution_count": 33,
   "metadata": {},
   "outputs": [
    {
     "name": "stderr",
     "output_type": "stream",
     "text": [
      "\n",
      "\u001b[36m--\u001b[39m \u001b[1m\u001b[1mColumn specification\u001b[1m\u001b[22m \u001b[36m-------------------------------------------------------------------------------------------------------------------------------------------------------------------\u001b[39m\n",
      "cols(\n",
      "  geneID = \u001b[31mcol_character()\u001b[39m,\n",
      "  baseMean = \u001b[32mcol_double()\u001b[39m,\n",
      "  log2FoldChange = \u001b[32mcol_double()\u001b[39m,\n",
      "  lfcSE = \u001b[32mcol_double()\u001b[39m,\n",
      "  stat = \u001b[32mcol_double()\u001b[39m,\n",
      "  pvalue = \u001b[32mcol_double()\u001b[39m,\n",
      "  padj = \u001b[32mcol_double()\u001b[39m,\n",
      "  qval = \u001b[32mcol_double()\u001b[39m\n",
      ")\n",
      "\n",
      "\n"
     ]
    },
    {
     "data": {
      "text/html": [
       "'DEGs: 8229'"
      ],
      "text/latex": [
       "'DEGs: 8229'"
      ],
      "text/markdown": [
       "'DEGs: 8229'"
      ],
      "text/plain": [
       "[1] \"DEGs: 8229\""
      ]
     },
     "metadata": {},
     "output_type": "display_data"
    },
    {
     "data": {
      "text/html": [
       "'DEG prop: 0.406530975200079'"
      ],
      "text/latex": [
       "'DEG prop: 0.406530975200079'"
      ],
      "text/markdown": [
       "'DEG prop: 0.406530975200079'"
      ],
      "text/plain": [
       "[1] \"DEG prop: 0.406530975200079\""
      ]
     },
     "metadata": {},
     "output_type": "display_data"
    },
    {
     "data": {
      "text/html": [
       "'Up: 4862'"
      ],
      "text/latex": [
       "'Up: 4862'"
      ],
      "text/markdown": [
       "'Up: 4862'"
      ],
      "text/plain": [
       "[1] \"Up: 4862\""
      ]
     },
     "metadata": {},
     "output_type": "display_data"
    },
    {
     "data": {
      "text/html": [
       "'Down: 3367'"
      ],
      "text/latex": [
       "'Down: 3367'"
      ],
      "text/markdown": [
       "'Down: 3367'"
      ],
      "text/plain": [
       "[1] \"Down: 3367\""
      ]
     },
     "metadata": {},
     "output_type": "display_data"
    },
    {
     "data": {
      "text/html": [
       "'Matrisome DEGs: 618'"
      ],
      "text/latex": [
       "'Matrisome DEGs: 618'"
      ],
      "text/markdown": [
       "'Matrisome DEGs: 618'"
      ],
      "text/plain": [
       "[1] \"Matrisome DEGs: 618\""
      ]
     },
     "metadata": {},
     "output_type": "display_data"
    },
    {
     "data": {
      "text/html": [
       "'Matrisome DEG prop: 0.601752677702045'"
      ],
      "text/latex": [
       "'Matrisome DEG prop: 0.601752677702045'"
      ],
      "text/markdown": [
       "'Matrisome DEG prop: 0.601752677702045'"
      ],
      "text/plain": [
       "[1] \"Matrisome DEG prop: 0.601752677702045\""
      ]
     },
     "metadata": {},
     "output_type": "display_data"
    },
    {
     "data": {
      "text/html": [
       "'Matrisome up: 317'"
      ],
      "text/latex": [
       "'Matrisome up: 317'"
      ],
      "text/markdown": [
       "'Matrisome up: 317'"
      ],
      "text/plain": [
       "[1] \"Matrisome up: 317\""
      ]
     },
     "metadata": {},
     "output_type": "display_data"
    },
    {
     "data": {
      "text/html": [
       "'Matrisome down: 301'"
      ],
      "text/latex": [
       "'Matrisome down: 301'"
      ],
      "text/markdown": [
       "'Matrisome down: 301'"
      ],
      "text/plain": [
       "[1] \"Matrisome down: 301\""
      ]
     },
     "metadata": {},
     "output_type": "display_data"
    }
   ],
   "source": [
    "DESeq_results_df <- read_tsv(paste0(dirs$analysis_dir, \"/deg/\", unified_dsets[dset_idx], \"_DESeq_results.tsv\"))\n",
    "# filtered_DESeq_results_df <- DESeq_results_df %>%\n",
    "#     dplyr::filter(abs(log2FoldChange) > lfc_thresh, padj < p_thresh)\n",
    "filtered_DESeq_results_df <- DESeq_results_df %>%\n",
    "    dplyr::filter(abs(log2FoldChange) > lfc_thresh, qval < p_thresh)\n",
    "\n",
    "filtered_matrisome_DESeq_results_df <- filtered_DESeq_results_df %>%\n",
    "    dplyr::filter(geneID %in% matrisome_df$gene_symbol)\n",
    "\n",
    "n_degs <- nrow(filtered_DESeq_results_df)\n",
    "deg_prop <- nrow(filtered_DESeq_results_df) / nrow(norm_counts_df)\n",
    "n_degs_up <- nrow(filtered_DESeq_results_df %>% dplyr::filter(log2FoldChange > 0))\n",
    "n_degs_down <- nrow(filtered_DESeq_results_df %>% dplyr::filter(log2FoldChange < 0))\n",
    "\n",
    "n_matrisome_degs <- nrow(filtered_matrisome_DESeq_results_df)\n",
    "matrisome_deg_prop <- nrow(filtered_matrisome_DESeq_results_df) / nrow(matrisome_df)\n",
    "n_matrisome_degs_up <- nrow(filtered_matrisome_DESeq_results_df %>% dplyr::filter(log2FoldChange > 0))\n",
    "n_matrisome_degs_down <- nrow(filtered_matrisome_DESeq_results_df %>% dplyr::filter(log2FoldChange < 0))\n",
    "\n",
    "\n",
    "paste0(\"DEGs: \", n_degs)\n",
    "paste0(\"DEG prop: \", deg_prop)\n",
    "paste0(\"Up: \", n_degs_up)\n",
    "paste0(\"Down: \", n_degs_down)\n",
    "paste0(\"Matrisome DEGs: \", n_matrisome_degs)\n",
    "paste0(\"Matrisome DEG prop: \", matrisome_deg_prop)\n",
    "paste0(\"Matrisome up: \", n_matrisome_degs_up)\n",
    "paste0(\"Matrisome down: \", n_matrisome_degs_down)"
   ]
  },
  {
   "cell_type": "markdown",
   "metadata": {},
   "source": [
    "# Survival analysis"
   ]
  },
  {
   "cell_type": "code",
   "execution_count": 34,
   "metadata": {},
   "outputs": [
    {
     "name": "stderr",
     "output_type": "stream",
     "text": [
      "\n",
      "\u001b[36m--\u001b[39m \u001b[1m\u001b[1mColumn specification\u001b[1m\u001b[22m \u001b[36m-------------------------------------------------------------------------------------------------------------------------------------------------------------------\u001b[39m\n",
      "cols(\n",
      "  dataset = \u001b[31mcol_character()\u001b[39m,\n",
      "  lr_test_pval = \u001b[32mcol_double()\u001b[39m,\n",
      "  wald_test_pval = \u001b[32mcol_double()\u001b[39m,\n",
      "  score_test_pval = \u001b[32mcol_double()\u001b[39m\n",
      ")\n",
      "\n",
      "\n",
      "\n",
      "\u001b[36m--\u001b[39m \u001b[1m\u001b[1mColumn specification\u001b[1m\u001b[22m \u001b[36m-------------------------------------------------------------------------------------------------------------------------------------------------------------------\u001b[39m\n",
      "cols(\n",
      "  geneID = \u001b[31mcol_character()\u001b[39m,\n",
      "  gene_pval = \u001b[32mcol_double()\u001b[39m,\n",
      "  gene_coeff = \u001b[32mcol_double()\u001b[39m,\n",
      "  gene_qval = \u001b[32mcol_double()\u001b[39m,\n",
      "  gene_padj = \u001b[32mcol_double()\u001b[39m\n",
      ")\n",
      "\n",
      "\n"
     ]
    }
   ],
   "source": [
    "coxph_null_scores_df <- read_tsv(paste0(dirs$analysis_dir, \"/meta/\", \"coxph_null_scores.tsv\"))\n",
    "coxph_results_df <- read_tsv(paste0(dirs$analysis_dir, \"/feature_selection/\", unified_dsets[dset_idx], \"_coxph_results.tsv\"))\n",
    "# filtered_coxph_results_df <- coxph_results_df %>%\n",
    "#     dplyr::filter(gene_pval < p_thresh)\n",
    "filtered_coxph_results_df <- coxph_results_df %>%\n",
    "    dplyr::filter(gene_qval < p_thresh)"
   ]
  },
  {
   "cell_type": "code",
   "execution_count": 35,
   "metadata": {},
   "outputs": [
    {
     "data": {
      "text/html": [
       "<table class=\"dataframe\">\n",
       "<caption>A spec_tbl_df: 3 × 4</caption>\n",
       "<thead>\n",
       "\t<tr><th scope=col>dataset</th><th scope=col>lr_test_pval</th><th scope=col>wald_test_pval</th><th scope=col>score_test_pval</th></tr>\n",
       "\t<tr><th scope=col>&lt;chr&gt;</th><th scope=col>&lt;dbl&gt;</th><th scope=col>&lt;dbl&gt;</th><th scope=col>&lt;dbl&gt;</th></tr>\n",
       "</thead>\n",
       "<tbody>\n",
       "\t<tr><td>unified_cervical_data           </td><td>0.0004814013</td><td>0.000049053</td><td>1.224173e-06</td></tr>\n",
       "\t<tr><td>unified_uterine_data            </td><td>0.3392807906</td><td>0.989893132</td><td>3.053979e-01</td></tr>\n",
       "\t<tr><td>unified_uterine_endometrial_data</td><td>0.0007739010</td><td>0.000000000</td><td>1.040876e-06</td></tr>\n",
       "</tbody>\n",
       "</table>\n"
      ],
      "text/latex": [
       "A spec\\_tbl\\_df: 3 × 4\n",
       "\\begin{tabular}{llll}\n",
       " dataset & lr\\_test\\_pval & wald\\_test\\_pval & score\\_test\\_pval\\\\\n",
       " <chr> & <dbl> & <dbl> & <dbl>\\\\\n",
       "\\hline\n",
       "\t unified\\_cervical\\_data            & 0.0004814013 & 0.000049053 & 1.224173e-06\\\\\n",
       "\t unified\\_uterine\\_data             & 0.3392807906 & 0.989893132 & 3.053979e-01\\\\\n",
       "\t unified\\_uterine\\_endometrial\\_data & 0.0007739010 & 0.000000000 & 1.040876e-06\\\\\n",
       "\\end{tabular}\n"
      ],
      "text/markdown": [
       "\n",
       "A spec_tbl_df: 3 × 4\n",
       "\n",
       "| dataset &lt;chr&gt; | lr_test_pval &lt;dbl&gt; | wald_test_pval &lt;dbl&gt; | score_test_pval &lt;dbl&gt; |\n",
       "|---|---|---|---|\n",
       "| unified_cervical_data            | 0.0004814013 | 0.000049053 | 1.224173e-06 |\n",
       "| unified_uterine_data             | 0.3392807906 | 0.989893132 | 3.053979e-01 |\n",
       "| unified_uterine_endometrial_data | 0.0007739010 | 0.000000000 | 1.040876e-06 |\n",
       "\n"
      ],
      "text/plain": [
       "  dataset                          lr_test_pval wald_test_pval score_test_pval\n",
       "1 unified_cervical_data            0.0004814013 0.000049053    1.224173e-06   \n",
       "2 unified_uterine_data             0.3392807906 0.989893132    3.053979e-01   \n",
       "3 unified_uterine_endometrial_data 0.0007739010 0.000000000    1.040876e-06   "
      ]
     },
     "metadata": {},
     "output_type": "display_data"
    }
   ],
   "source": [
    "coxph_null_scores_df"
   ]
  },
  {
   "cell_type": "code",
   "execution_count": 36,
   "metadata": {},
   "outputs": [
    {
     "data": {
      "text/html": [
       "'Sig. null Cox PH: TRUE'"
      ],
      "text/latex": [
       "'Sig. null Cox PH: TRUE'"
      ],
      "text/markdown": [
       "'Sig. null Cox PH: TRUE'"
      ],
      "text/plain": [
       "[1] \"Sig. null Cox PH: TRUE\""
      ]
     },
     "metadata": {},
     "output_type": "display_data"
    },
    {
     "data": {
      "text/html": [
       "'Sig. Cox PH genes: 0'"
      ],
      "text/latex": [
       "'Sig. Cox PH genes: 0'"
      ],
      "text/markdown": [
       "'Sig. Cox PH genes: 0'"
      ],
      "text/plain": [
       "[1] \"Sig. Cox PH genes: 0\""
      ]
     },
     "metadata": {},
     "output_type": "display_data"
    },
    {
     "data": {
      "text/html": [
       "'Prop. sig. Cox PH genes: 0'"
      ],
      "text/latex": [
       "'Prop. sig. Cox PH genes: 0'"
      ],
      "text/markdown": [
       "'Prop. sig. Cox PH genes: 0'"
      ],
      "text/plain": [
       "[1] \"Prop. sig. Cox PH genes: 0\""
      ]
     },
     "metadata": {},
     "output_type": "display_data"
    },
    {
     "data": {
      "text/html": [
       "'Sig. Cox PH protective: 0'"
      ],
      "text/latex": [
       "'Sig. Cox PH protective: 0'"
      ],
      "text/markdown": [
       "'Sig. Cox PH protective: 0'"
      ],
      "text/plain": [
       "[1] \"Sig. Cox PH protective: 0\""
      ]
     },
     "metadata": {},
     "output_type": "display_data"
    },
    {
     "data": {
      "text/html": [
       "'Sig. Cox PH harmful: 0'"
      ],
      "text/latex": [
       "'Sig. Cox PH harmful: 0'"
      ],
      "text/markdown": [
       "'Sig. Cox PH harmful: 0'"
      ],
      "text/plain": [
       "[1] \"Sig. Cox PH harmful: 0\""
      ]
     },
     "metadata": {},
     "output_type": "display_data"
    }
   ],
   "source": [
    "coxph_null_sig <- (coxph_null_scores_df %>% dplyr::filter(dataset == unified_dsets[dset_idx]))$lr_test_pval < p_thresh\n",
    "n_coxph_sig <- nrow(filtered_coxph_results_df)\n",
    "prop_coxph_sig <- n_coxph_sig / nrow(matrisome_df)\n",
    "n_coxph_sig_protective <- nrow(filtered_coxph_results_df %>% dplyr::filter(gene_coeff < 0))\n",
    "n_coxph_sig_harmful <- nrow(filtered_coxph_results_df %>% dplyr::filter(gene_coeff > 0))\n",
    "\n",
    "\n",
    "paste0(\"Sig. null Cox PH: \", coxph_null_sig)\n",
    "paste0(\"Sig. Cox PH genes: \", n_coxph_sig)\n",
    "paste0(\"Prop. sig. Cox PH genes: \", prop_coxph_sig)\n",
    "paste0(\"Sig. Cox PH protective: \", n_coxph_sig_protective)\n",
    "paste0(\"Sig. Cox PH harmful: \", n_coxph_sig_harmful)"
   ]
  },
  {
   "cell_type": "markdown",
   "metadata": {},
   "source": [
    "# Regression"
   ]
  },
  {
   "cell_type": "markdown",
   "metadata": {
    "jupyter": {
     "outputs_hidden": true
    }
   },
   "source": [
    "## Correlation analysis"
   ]
  },
  {
   "cell_type": "code",
   "execution_count": 37,
   "metadata": {},
   "outputs": [
    {
     "name": "stderr",
     "output_type": "stream",
     "text": [
      "\n",
      "\u001b[36m--\u001b[39m \u001b[1m\u001b[1mColumn specification\u001b[1m\u001b[22m \u001b[36m-------------------------------------------------------------------------------------------------------------------------------------------------------------------\u001b[39m\n",
      "cols(\n",
      "  geneID = \u001b[31mcol_character()\u001b[39m,\n",
      "  cor = \u001b[32mcol_double()\u001b[39m,\n",
      "  pval = \u001b[32mcol_double()\u001b[39m,\n",
      "  padj = \u001b[32mcol_double()\u001b[39m,\n",
      "  qval = \u001b[32mcol_double()\u001b[39m,\n",
      "  n = \u001b[32mcol_double()\u001b[39m\n",
      ")\n",
      "\n",
      "\n"
     ]
    },
    {
     "data": {
      "text/html": [
       "'Cor. genes: 3'"
      ],
      "text/latex": [
       "'Cor. genes: 3'"
      ],
      "text/markdown": [
       "'Cor. genes: 3'"
      ],
      "text/plain": [
       "[1] \"Cor. genes: 3\""
      ]
     },
     "metadata": {},
     "output_type": "display_data"
    },
    {
     "data": {
      "text/html": [
       "'Neg. cor. genes: 0'"
      ],
      "text/latex": [
       "'Neg. cor. genes: 0'"
      ],
      "text/markdown": [
       "'Neg. cor. genes: 0'"
      ],
      "text/plain": [
       "[1] \"Neg. cor. genes: 0\""
      ]
     },
     "metadata": {},
     "output_type": "display_data"
    },
    {
     "data": {
      "text/html": [
       "'Pos. cor. genes: 3'"
      ],
      "text/latex": [
       "'Pos. cor. genes: 3'"
      ],
      "text/markdown": [
       "'Pos. cor. genes: 3'"
      ],
      "text/plain": [
       "[1] \"Pos. cor. genes: 3\""
      ]
     },
     "metadata": {},
     "output_type": "display_data"
    }
   ],
   "source": [
    "cor_results_df <- read_tsv(paste0(dirs$analysis_dir, \"/feature_selection/\", unified_dsets[dset_idx], \"_cor_results.tsv\"))\n",
    "\n",
    "# filtered_cor_results_df <- cor_results_df %>% dplyr::filter(pval < p_thresh)\n",
    "# filtered_cor_results_df <- cor_results_df %>% dplyr::filter(padj < p_thresh)\n",
    "filtered_cor_results_df <- cor_results_df %>% dplyr::filter(qval < p_thresh)\n",
    "\n",
    "n_cor <- nrow(filtered_cor_results_df)\n",
    "n_cor_down <- nrow(filtered_cor_results_df %>% dplyr::filter(cor < 0))\n",
    "n_cor_up <- nrow(filtered_cor_results_df %>% dplyr::filter(cor > 0))\n",
    "\n",
    "paste0(\"Cor. genes: \", n_cor)\n",
    "paste0(\"Neg. cor. genes: \", n_cor_down)\n",
    "paste0(\"Pos. cor. genes: \", n_cor_up)"
   ]
  },
  {
   "cell_type": "markdown",
   "metadata": {},
   "source": [
    "## MI analysis"
   ]
  },
  {
   "cell_type": "code",
   "execution_count": 38,
   "metadata": {},
   "outputs": [
    {
     "name": "stderr",
     "output_type": "stream",
     "text": [
      "\n",
      "\u001b[36m--\u001b[39m \u001b[1m\u001b[1mColumn specification\u001b[1m\u001b[22m \u001b[36m-------------------------------------------------------------------------------------------------------------------------------------------------------------------\u001b[39m\n",
      "cols(\n",
      "  geneID = \u001b[31mcol_character()\u001b[39m,\n",
      "  MI_est_median = \u001b[32mcol_double()\u001b[39m\n",
      ")\n",
      "\n",
      "\n"
     ]
    },
    {
     "data": {
      "text/html": [
       "'MI: 458'"
      ],
      "text/latex": [
       "'MI: 458'"
      ],
      "text/markdown": [
       "'MI: 458'"
      ],
      "text/plain": [
       "[1] \"MI: 458\""
      ]
     },
     "metadata": {},
     "output_type": "display_data"
    }
   ],
   "source": [
    "mi_survival_results_df <- read_tsv(paste0(dirs$analysis_dir, \"/feature_selection/\", unified_dsets[dset_idx], \"_MI_survival_results.tsv\"))\n",
    "filtered_mi_survival_results_df <- mi_survival_results_df %>% dplyr::filter(MI_est_median > mi_thresh)\n",
    "\n",
    "n_mi <- nrow(filtered_mi_survival_results_df)\n",
    "\n",
    "paste0(\"MI: \", n_mi)"
   ]
  },
  {
   "cell_type": "code",
   "execution_count": 39,
   "metadata": {},
   "outputs": [
    {
     "data": {
      "text/html": [
       "17"
      ],
      "text/latex": [
       "17"
      ],
      "text/markdown": [
       "17"
      ],
      "text/plain": [
       "[1] 17"
      ]
     },
     "metadata": {},
     "output_type": "display_data"
    }
   ],
   "source": [
    "mi_survival_ordered_df <- mi_survival_results_df %>%\n",
    "    dplyr::arrange(desc(MI_est_median)) %>%\n",
    "    dplyr::mutate(geneID_f = factor(geneID, levels = geneID)) %>%\n",
    "    dplyr::filter(MI_est_median > 0.0)\n",
    "nrow(mi_survival_ordered_df %>%\n",
    "    dplyr::mutate(pct_delta_max = (MI_est_median - first(MI_est_median)) / first(MI_est_median) * 100) %>%\n",
    "    dplyr::filter(pct_delta_max > -50))\n",
    "\n",
    "# ggplot(data = mi_survival_ordered_df) +\n",
    "#     geom_bar(aes(x = geneID_f, y = MI_est_median), stat = \"identity\") +\n",
    "#     theme_classic() +\n",
    "#     theme(\n",
    "#         axis.text.x = element_blank(),\n",
    "#         axis.ticks.x = element_blank()\n",
    "#     ) +\n",
    "#     labs(x = \"Matrisome gene\", y = \"Mutual information score\")\n"
   ]
  },
  {
   "cell_type": "markdown",
   "metadata": {},
   "source": [
    "## Baselines"
   ]
  },
  {
   "cell_type": "code",
   "execution_count": 40,
   "metadata": {},
   "outputs": [
    {
     "name": "stderr",
     "output_type": "stream",
     "text": [
      "\n",
      "\u001b[36m--\u001b[39m \u001b[1m\u001b[1mColumn specification\u001b[1m\u001b[22m \u001b[36m-------------------------------------------------------------------------------------------------------------------------------------------------------------------\u001b[39m\n",
      "cols(\n",
      "  dataset = \u001b[31mcol_character()\u001b[39m,\n",
      "  L2 = \u001b[32mcol_double()\u001b[39m,\n",
      "  L1 = \u001b[32mcol_double()\u001b[39m,\n",
      "  R2 = \u001b[32mcol_double()\u001b[39m,\n",
      "  explained_variance = \u001b[32mcol_double()\u001b[39m,\n",
      "  n = \u001b[32mcol_double()\u001b[39m\n",
      ")\n",
      "\n",
      "\n"
     ]
    },
    {
     "data": {
      "text/html": [
       "'MSE baseline: 386549.942708333'"
      ],
      "text/latex": [
       "'MSE baseline: 386549.942708333'"
      ],
      "text/markdown": [
       "'MSE baseline: 386549.942708333'"
      ],
      "text/plain": [
       "[1] \"MSE baseline: 386549.942708333\""
      ]
     },
     "metadata": {},
     "output_type": "display_data"
    },
    {
     "data": {
      "text/html": [
       "'MAE baseline: 415.708333333333'"
      ],
      "text/latex": [
       "'MAE baseline: 415.708333333333'"
      ],
      "text/markdown": [
       "'MAE baseline: 415.708333333333'"
      ],
      "text/plain": [
       "[1] \"MAE baseline: 415.708333333333\""
      ]
     },
     "metadata": {},
     "output_type": "display_data"
    },
    {
     "data": {
      "text/html": [
       "'EV baseline: 0'"
      ],
      "text/latex": [
       "'EV baseline: 0'"
      ],
      "text/markdown": [
       "'EV baseline: 0'"
      ],
      "text/plain": [
       "[1] \"EV baseline: 0\""
      ]
     },
     "metadata": {},
     "output_type": "display_data"
    }
   ],
   "source": [
    "reg_baselines_df <- read_tsv(paste0(dirs$analysis_dir, \"/meta/\", \"reg_baselines.tsv\"))\n",
    "mse_baseline = (reg_baselines_df %>% filter(dataset == unified_dsets[dset_idx]))$L2\n",
    "mae_baseline = (reg_baselines_df %>% filter(dataset == unified_dsets[dset_idx]))$L1\n",
    "ev_baseline = (reg_baselines_df %>% filter(dataset == unified_dsets[dset_idx]))$explained_variance\n",
    "paste0(\"MSE baseline: \", mse_baseline)\n",
    "paste0(\"MAE baseline: \", mae_baseline)\n",
    "paste0(\"EV baseline: \", ev_baseline)"
   ]
  },
  {
   "cell_type": "markdown",
   "metadata": {},
   "source": [
    "## GBR (MSE)"
   ]
  },
  {
   "cell_type": "code",
   "execution_count": 41,
   "metadata": {},
   "outputs": [
    {
     "name": "stderr",
     "output_type": "stream",
     "text": [
      "\n",
      "\u001b[36m--\u001b[39m \u001b[1m\u001b[1mColumn specification\u001b[1m\u001b[22m \u001b[36m-------------------------------------------------------------------------------------------------------------------------------------------------------------------\u001b[39m\n",
      "cols(\n",
      "  model = \u001b[32mcol_double()\u001b[39m,\n",
      "  ref_score = \u001b[32mcol_double()\u001b[39m\n",
      ")\n",
      "\n",
      "\n",
      "\n",
      "\u001b[36m--\u001b[39m \u001b[1m\u001b[1mColumn specification\u001b[1m\u001b[22m \u001b[36m-------------------------------------------------------------------------------------------------------------------------------------------------------------------\u001b[39m\n",
      "cols(\n",
      "  geneID = \u001b[31mcol_character()\u001b[39m,\n",
      "  mean_imp_0 = \u001b[32mcol_double()\u001b[39m,\n",
      "  score_pct_improvement_0 = \u001b[32mcol_double()\u001b[39m,\n",
      "  mean_imp_1 = \u001b[32mcol_double()\u001b[39m,\n",
      "  score_pct_improvement_1 = \u001b[32mcol_double()\u001b[39m,\n",
      "  mean_imp_2 = \u001b[32mcol_double()\u001b[39m,\n",
      "  score_pct_improvement_2 = \u001b[32mcol_double()\u001b[39m,\n",
      "  mean_imp_3 = \u001b[32mcol_double()\u001b[39m,\n",
      "  score_pct_improvement_3 = \u001b[32mcol_double()\u001b[39m,\n",
      "  mean_imp_4 = \u001b[32mcol_double()\u001b[39m,\n",
      "  score_pct_improvement_4 = \u001b[32mcol_double()\u001b[39m\n",
      ")\n",
      "\n",
      "\n"
     ]
    },
    {
     "data": {
      "text/html": [
       "<table class=\"dataframe\">\n",
       "<caption>A spec_tbl_df: 5 × 2</caption>\n",
       "<thead>\n",
       "\t<tr><th scope=col>model</th><th scope=col>ref_score</th></tr>\n",
       "\t<tr><th scope=col>&lt;dbl&gt;</th><th scope=col>&lt;dbl&gt;</th></tr>\n",
       "</thead>\n",
       "<tbody>\n",
       "\t<tr><td>0</td><td>-424103.6</td></tr>\n",
       "\t<tr><td>1</td><td>-410631.6</td></tr>\n",
       "\t<tr><td>2</td><td>-439290.4</td></tr>\n",
       "\t<tr><td>3</td><td>-403978.5</td></tr>\n",
       "\t<tr><td>4</td><td>-400675.8</td></tr>\n",
       "</tbody>\n",
       "</table>\n"
      ],
      "text/latex": [
       "A spec\\_tbl\\_df: 5 × 2\n",
       "\\begin{tabular}{ll}\n",
       " model & ref\\_score\\\\\n",
       " <dbl> & <dbl>\\\\\n",
       "\\hline\n",
       "\t 0 & -424103.6\\\\\n",
       "\t 1 & -410631.6\\\\\n",
       "\t 2 & -439290.4\\\\\n",
       "\t 3 & -403978.5\\\\\n",
       "\t 4 & -400675.8\\\\\n",
       "\\end{tabular}\n"
      ],
      "text/markdown": [
       "\n",
       "A spec_tbl_df: 5 × 2\n",
       "\n",
       "| model &lt;dbl&gt; | ref_score &lt;dbl&gt; |\n",
       "|---|---|\n",
       "| 0 | -424103.6 |\n",
       "| 1 | -410631.6 |\n",
       "| 2 | -439290.4 |\n",
       "| 3 | -403978.5 |\n",
       "| 4 | -400675.8 |\n",
       "\n"
      ],
      "text/plain": [
       "  model ref_score\n",
       "1 0     -424103.6\n",
       "2 1     -410631.6\n",
       "3 2     -439290.4\n",
       "4 3     -403978.5\n",
       "5 4     -400675.8"
      ]
     },
     "metadata": {},
     "output_type": "display_data"
    },
    {
     "data": {
      "text/html": [
       "'GBR MSE avg.: 415735.980469395'"
      ],
      "text/latex": [
       "'GBR MSE avg.: 415735.980469395'"
      ],
      "text/markdown": [
       "'GBR MSE avg.: 415735.980469395'"
      ],
      "text/plain": [
       "[1] \"GBR MSE avg.: 415735.980469395\""
      ]
     },
     "metadata": {},
     "output_type": "display_data"
    },
    {
     "data": {
      "text/html": [
       "'GBR MSE impr. over baseline: FALSE'"
      ],
      "text/latex": [
       "'GBR MSE impr. over baseline: FALSE'"
      ],
      "text/markdown": [
       "'GBR MSE impr. over baseline: FALSE'"
      ],
      "text/plain": [
       "[1] \"GBR MSE impr. over baseline: FALSE\""
      ]
     },
     "metadata": {},
     "output_type": "display_data"
    },
    {
     "data": {
      "text/html": [
       "'GBR MSE pct. impr. over baseline: -7.55039246845347'"
      ],
      "text/latex": [
       "'GBR MSE pct. impr. over baseline: -7.55039246845347'"
      ],
      "text/markdown": [
       "'GBR MSE pct. impr. over baseline: -7.55039246845347'"
      ],
      "text/plain": [
       "[1] \"GBR MSE pct. impr. over baseline: -7.55039246845347\""
      ]
     },
     "metadata": {},
     "output_type": "display_data"
    },
    {
     "data": {
      "text/html": [
       "'GBR MSE consensus genes: 31'"
      ],
      "text/latex": [
       "'GBR MSE consensus genes: 31'"
      ],
      "text/markdown": [
       "'GBR MSE consensus genes: 31'"
      ],
      "text/plain": [
       "[1] \"GBR MSE consensus genes: 31\""
      ]
     },
     "metadata": {},
     "output_type": "display_data"
    }
   ],
   "source": [
    "mse_gbr_scores_df <- read_tsv(paste0(dirs$analysis_dir, \"/feature_selection/\", unified_dsets[dset_idx], \"_mse_gbr_ref_scores.tsv\"))\n",
    "mse_gbr_results_df <- read_tsv(paste0(dirs$analysis_dir, \"/feature_selection/\", unified_dsets[dset_idx], \"_mse_gbr_results.tsv\"))\n",
    "mse_gbr_results_df <- get_consensus_col(mse_gbr_results_df, n = consensus_n, thresh = consensus_thresh)\n",
    "mse_gbr_scores_df\n",
    "\n",
    "# mult. by -1 to convert neg MSE -> MSE\n",
    "mse_gbr_avg <- mean(-mse_gbr_scores_df$ref_score)\n",
    "mse_gbr_imp <- mse_gbr_avg < mse_baseline\n",
    "# mult. by -1 since pct. \"improvement\" is pct. reduction in this case\n",
    "mse_gbr_baseline_pct_imp <- - (mse_gbr_avg - mse_baseline) / mse_baseline * 100\n",
    "n_mse_gbr_consensus_genes <- nrow(mse_gbr_results_df %>% dplyr::filter(consensus == TRUE))\n",
    "\n",
    "paste0(\"GBR MSE avg.: \", mse_gbr_avg)\n",
    "paste0(\"GBR MSE impr. over baseline: \", mse_gbr_imp)\n",
    "paste0(\"GBR MSE pct. impr. over baseline: \", mse_gbr_baseline_pct_imp)\n",
    "paste0(\"GBR MSE consensus genes: \", n_mse_gbr_consensus_genes)"
   ]
  },
  {
   "cell_type": "markdown",
   "metadata": {},
   "source": [
    "## RFR (MSE)"
   ]
  },
  {
   "cell_type": "code",
   "execution_count": 42,
   "metadata": {},
   "outputs": [
    {
     "name": "stderr",
     "output_type": "stream",
     "text": [
      "\n",
      "\u001b[36m--\u001b[39m \u001b[1m\u001b[1mColumn specification\u001b[1m\u001b[22m \u001b[36m-------------------------------------------------------------------------------------------------------------------------------------------------------------------\u001b[39m\n",
      "cols(\n",
      "  model = \u001b[32mcol_double()\u001b[39m,\n",
      "  ref_score = \u001b[32mcol_double()\u001b[39m\n",
      ")\n",
      "\n",
      "\n",
      "\n",
      "\u001b[36m--\u001b[39m \u001b[1m\u001b[1mColumn specification\u001b[1m\u001b[22m \u001b[36m-------------------------------------------------------------------------------------------------------------------------------------------------------------------\u001b[39m\n",
      "cols(\n",
      "  geneID = \u001b[31mcol_character()\u001b[39m,\n",
      "  mean_imp_0 = \u001b[32mcol_double()\u001b[39m,\n",
      "  score_pct_improvement_0 = \u001b[32mcol_double()\u001b[39m,\n",
      "  mean_imp_1 = \u001b[32mcol_double()\u001b[39m,\n",
      "  score_pct_improvement_1 = \u001b[32mcol_double()\u001b[39m,\n",
      "  mean_imp_2 = \u001b[32mcol_double()\u001b[39m,\n",
      "  score_pct_improvement_2 = \u001b[32mcol_double()\u001b[39m,\n",
      "  mean_imp_3 = \u001b[32mcol_double()\u001b[39m,\n",
      "  score_pct_improvement_3 = \u001b[32mcol_double()\u001b[39m,\n",
      "  mean_imp_4 = \u001b[32mcol_double()\u001b[39m,\n",
      "  score_pct_improvement_4 = \u001b[32mcol_double()\u001b[39m\n",
      ")\n",
      "\n",
      "\n"
     ]
    },
    {
     "data": {
      "text/html": [
       "<table class=\"dataframe\">\n",
       "<caption>A spec_tbl_df: 5 × 2</caption>\n",
       "<thead>\n",
       "\t<tr><th scope=col>model</th><th scope=col>ref_score</th></tr>\n",
       "\t<tr><th scope=col>&lt;dbl&gt;</th><th scope=col>&lt;dbl&gt;</th></tr>\n",
       "</thead>\n",
       "<tbody>\n",
       "\t<tr><td>0</td><td>-417613.7</td></tr>\n",
       "\t<tr><td>1</td><td>-412636.6</td></tr>\n",
       "\t<tr><td>2</td><td>-413562.6</td></tr>\n",
       "\t<tr><td>3</td><td>-419644.2</td></tr>\n",
       "\t<tr><td>4</td><td>-410025.4</td></tr>\n",
       "</tbody>\n",
       "</table>\n"
      ],
      "text/latex": [
       "A spec\\_tbl\\_df: 5 × 2\n",
       "\\begin{tabular}{ll}\n",
       " model & ref\\_score\\\\\n",
       " <dbl> & <dbl>\\\\\n",
       "\\hline\n",
       "\t 0 & -417613.7\\\\\n",
       "\t 1 & -412636.6\\\\\n",
       "\t 2 & -413562.6\\\\\n",
       "\t 3 & -419644.2\\\\\n",
       "\t 4 & -410025.4\\\\\n",
       "\\end{tabular}\n"
      ],
      "text/markdown": [
       "\n",
       "A spec_tbl_df: 5 × 2\n",
       "\n",
       "| model &lt;dbl&gt; | ref_score &lt;dbl&gt; |\n",
       "|---|---|\n",
       "| 0 | -417613.7 |\n",
       "| 1 | -412636.6 |\n",
       "| 2 | -413562.6 |\n",
       "| 3 | -419644.2 |\n",
       "| 4 | -410025.4 |\n",
       "\n"
      ],
      "text/plain": [
       "  model ref_score\n",
       "1 0     -417613.7\n",
       "2 1     -412636.6\n",
       "3 2     -413562.6\n",
       "4 3     -419644.2\n",
       "5 4     -410025.4"
      ]
     },
     "metadata": {},
     "output_type": "display_data"
    },
    {
     "data": {
      "text/html": [
       "'RFR MSE avg.: 414696.4859634'"
      ],
      "text/latex": [
       "'RFR MSE avg.: 414696.4859634'"
      ],
      "text/markdown": [
       "'RFR MSE avg.: 414696.4859634'"
      ],
      "text/plain": [
       "[1] \"RFR MSE avg.: 414696.4859634\""
      ]
     },
     "metadata": {},
     "output_type": "display_data"
    },
    {
     "data": {
      "text/html": [
       "'RFR MSE impr. over baseline: FALSE'"
      ],
      "text/latex": [
       "'RFR MSE impr. over baseline: FALSE'"
      ],
      "text/markdown": [
       "'RFR MSE impr. over baseline: FALSE'"
      ],
      "text/plain": [
       "[1] \"RFR MSE impr. over baseline: FALSE\""
      ]
     },
     "metadata": {},
     "output_type": "display_data"
    },
    {
     "data": {
      "text/html": [
       "'RFR MSE pct. impr. over baseline: -7.28147650413823'"
      ],
      "text/latex": [
       "'RFR MSE pct. impr. over baseline: -7.28147650413823'"
      ],
      "text/markdown": [
       "'RFR MSE pct. impr. over baseline: -7.28147650413823'"
      ],
      "text/plain": [
       "[1] \"RFR MSE pct. impr. over baseline: -7.28147650413823\""
      ]
     },
     "metadata": {},
     "output_type": "display_data"
    },
    {
     "data": {
      "text/html": [
       "'RFR MSE consensus genes: 61'"
      ],
      "text/latex": [
       "'RFR MSE consensus genes: 61'"
      ],
      "text/markdown": [
       "'RFR MSE consensus genes: 61'"
      ],
      "text/plain": [
       "[1] \"RFR MSE consensus genes: 61\""
      ]
     },
     "metadata": {},
     "output_type": "display_data"
    }
   ],
   "source": [
    "mse_rfr_scores_df <- read_tsv(paste0(dirs$analysis_dir, \"/feature_selection/\", unified_dsets[dset_idx], \"_mse_rfr_ref_scores.tsv\"))\n",
    "mse_rfr_results_df <- read_tsv(paste0(dirs$analysis_dir, \"/feature_selection/\", unified_dsets[dset_idx], \"_mse_rfr_results.tsv\"))\n",
    "mse_rfr_results_df <- get_consensus_col(mse_rfr_results_df, n = consensus_n, thresh = consensus_thresh)\n",
    "mse_rfr_scores_df\n",
    "\n",
    "# mult. by -1 to convert neg MSE -> MSE\n",
    "mse_rfr_avg <- mean(-mse_rfr_scores_df$ref_score)\n",
    "mse_rfr_imp <- mse_rfr_avg < mse_baseline\n",
    "# mult. by -1 since pct. \"improvement\" is pct. reduction in this case\n",
    "mse_rfr_baseline_pct_imp <- - (mse_rfr_avg - mse_baseline) / mse_baseline * 100\n",
    "n_mse_rfr_consensus_genes <- nrow(mse_rfr_results_df %>% dplyr::filter(consensus == TRUE))\n",
    "\n",
    "paste0(\"RFR MSE avg.: \", mse_rfr_avg)\n",
    "paste0(\"RFR MSE impr. over baseline: \", mse_rfr_imp)\n",
    "paste0(\"RFR MSE pct. impr. over baseline: \", mse_rfr_baseline_pct_imp)\n",
    "paste0(\"RFR MSE consensus genes: \", n_mse_rfr_consensus_genes)"
   ]
  },
  {
   "cell_type": "markdown",
   "metadata": {},
   "source": [
    "# Classification"
   ]
  },
  {
   "cell_type": "markdown",
   "metadata": {},
   "source": [
    "## Anova analysis"
   ]
  },
  {
   "cell_type": "code",
   "execution_count": 43,
   "metadata": {},
   "outputs": [
    {
     "name": "stderr",
     "output_type": "stream",
     "text": [
      "\n",
      "\u001b[36m--\u001b[39m \u001b[1m\u001b[1mColumn specification\u001b[1m\u001b[22m \u001b[36m-------------------------------------------------------------------------------------------------------------------------------------------------------------------\u001b[39m\n",
      "cols(\n",
      "  geneID = \u001b[31mcol_character()\u001b[39m,\n",
      "  pval = \u001b[32mcol_double()\u001b[39m,\n",
      "  padj = \u001b[32mcol_double()\u001b[39m,\n",
      "  qval = \u001b[32mcol_double()\u001b[39m\n",
      ")\n",
      "\n",
      "\n"
     ]
    },
    {
     "data": {
      "text/html": [
       "'Sig. ANOVA: 16'"
      ],
      "text/latex": [
       "'Sig. ANOVA: 16'"
      ],
      "text/markdown": [
       "'Sig. ANOVA: 16'"
      ],
      "text/plain": [
       "[1] \"Sig. ANOVA: 16\""
      ]
     },
     "metadata": {},
     "output_type": "display_data"
    }
   ],
   "source": [
    "welch_anova_results_df <- read_tsv(paste0(dirs$analysis_dir, \"/feature_selection/\", unified_dsets[dset_idx], \"_welch_anova_results.tsv\"))\n",
    "# filtered_welch_anova_results_df <- welch_anova_results_df %>% dplyr::filter(padj < p_thresh)\n",
    "filtered_welch_anova_results_df <- welch_anova_results_df %>% dplyr::filter(qval < p_thresh)\n",
    "\n",
    "n_sig <- nrow(filtered_welch_anova_results_df)\n",
    "\n",
    "paste0(\"Sig. ANOVA: \", n_sig)"
   ]
  },
  {
   "cell_type": "markdown",
   "metadata": {},
   "source": [
    "## MI analysis"
   ]
  },
  {
   "cell_type": "code",
   "execution_count": 44,
   "metadata": {},
   "outputs": [
    {
     "name": "stderr",
     "output_type": "stream",
     "text": [
      "\n",
      "\u001b[36m--\u001b[39m \u001b[1m\u001b[1mColumn specification\u001b[1m\u001b[22m \u001b[36m-------------------------------------------------------------------------------------------------------------------------------------------------------------------\u001b[39m\n",
      "cols(\n",
      "  geneID = \u001b[31mcol_character()\u001b[39m,\n",
      "  MI_est_median = \u001b[32mcol_double()\u001b[39m\n",
      ")\n",
      "\n",
      "\n"
     ]
    },
    {
     "data": {
      "text/html": [
       "'MI: 581'"
      ],
      "text/latex": [
       "'MI: 581'"
      ],
      "text/markdown": [
       "'MI: 581'"
      ],
      "text/plain": [
       "[1] \"MI: 581\""
      ]
     },
     "metadata": {},
     "output_type": "display_data"
    }
   ],
   "source": [
    "mi_figo_results_df <- read_tsv(paste0(dirs$analysis_dir, \"/feature_selection/\", unified_dsets[dset_idx], \"_MI_figo_results.tsv\"))\n",
    "filtered_mi_figo_results_df <- mi_figo_results_df %>% dplyr::filter(MI_est_median > mi_thresh)\n",
    "\n",
    "n_mi <- nrow(filtered_mi_figo_results_df)\n",
    "\n",
    "paste0(\"MI: \", n_mi)"
   ]
  },
  {
   "cell_type": "code",
   "execution_count": 45,
   "metadata": {},
   "outputs": [
    {
     "data": {
      "text/html": [
       "52"
      ],
      "text/latex": [
       "52"
      ],
      "text/markdown": [
       "52"
      ],
      "text/plain": [
       "[1] 52"
      ]
     },
     "metadata": {},
     "output_type": "display_data"
    }
   ],
   "source": [
    "mi_figo_ordered_df <- mi_figo_results_df %>%\n",
    "    dplyr::arrange(desc(MI_est_median)) %>%\n",
    "    dplyr::mutate(geneID_f = factor(geneID, levels = geneID)) %>%\n",
    "    dplyr::filter(MI_est_median > 0.0)\n",
    "nrow(mi_figo_ordered_df %>%\n",
    "    dplyr::mutate(pct_delta_max = (MI_est_median - first(MI_est_median)) / first(MI_est_median) * 100) %>%\n",
    "    dplyr::filter(pct_delta_max > -50))\n",
    "\n",
    "# ggplot(data = mi_figo_ordered_df) +\n",
    "#     geom_bar(aes(x = geneID_f, y = MI_est_median), stat = \"identity\") +\n",
    "#     theme_classic() +\n",
    "#     theme(\n",
    "#         axis.text.x = element_blank(),\n",
    "#         axis.ticks.x = element_blank()\n",
    "#     ) +\n",
    "#     labs(x = \"Matrisome gene\", y = \"Mutual information score\")"
   ]
  },
  {
   "cell_type": "markdown",
   "metadata": {},
   "source": [
    "## Baselines"
   ]
  },
  {
   "cell_type": "code",
   "execution_count": 46,
   "metadata": {},
   "outputs": [
    {
     "name": "stderr",
     "output_type": "stream",
     "text": [
      "\n",
      "\u001b[36m--\u001b[39m \u001b[1m\u001b[1mColumn specification\u001b[1m\u001b[22m \u001b[36m-------------------------------------------------------------------------------------------------------------------------------------------------------------------\u001b[39m\n",
      "cols(\n",
      "  dataset = \u001b[31mcol_character()\u001b[39m,\n",
      "  f1_macro_majority = \u001b[32mcol_double()\u001b[39m,\n",
      "  f1_macro_MC = \u001b[32mcol_double()\u001b[39m,\n",
      "  n = \u001b[32mcol_double()\u001b[39m\n",
      ")\n",
      "\n",
      "\n"
     ]
    },
    {
     "data": {
      "text/html": [
       "<table class=\"dataframe\">\n",
       "<caption>A spec_tbl_df: 3 × 4</caption>\n",
       "<thead>\n",
       "\t<tr><th scope=col>dataset</th><th scope=col>f1_macro_majority</th><th scope=col>f1_macro_MC</th><th scope=col>n</th></tr>\n",
       "\t<tr><th scope=col>&lt;chr&gt;</th><th scope=col>&lt;dbl&gt;</th><th scope=col>&lt;dbl&gt;</th><th scope=col>&lt;dbl&gt;</th></tr>\n",
       "</thead>\n",
       "<tbody>\n",
       "\t<tr><td>unified_cervical_data           </td><td>0.1730769</td><td>0.2487013</td><td>255</td></tr>\n",
       "\t<tr><td>unified_uterine_data            </td><td>0.1406250</td><td>0.2443586</td><td> 46</td></tr>\n",
       "\t<tr><td>unified_uterine_endometrial_data</td><td>0.1738095</td><td>0.2480810</td><td>137</td></tr>\n",
       "</tbody>\n",
       "</table>\n"
      ],
      "text/latex": [
       "A spec\\_tbl\\_df: 3 × 4\n",
       "\\begin{tabular}{llll}\n",
       " dataset & f1\\_macro\\_majority & f1\\_macro\\_MC & n\\\\\n",
       " <chr> & <dbl> & <dbl> & <dbl>\\\\\n",
       "\\hline\n",
       "\t unified\\_cervical\\_data            & 0.1730769 & 0.2487013 & 255\\\\\n",
       "\t unified\\_uterine\\_data             & 0.1406250 & 0.2443586 &  46\\\\\n",
       "\t unified\\_uterine\\_endometrial\\_data & 0.1738095 & 0.2480810 & 137\\\\\n",
       "\\end{tabular}\n"
      ],
      "text/markdown": [
       "\n",
       "A spec_tbl_df: 3 × 4\n",
       "\n",
       "| dataset &lt;chr&gt; | f1_macro_majority &lt;dbl&gt; | f1_macro_MC &lt;dbl&gt; | n &lt;dbl&gt; |\n",
       "|---|---|---|---|\n",
       "| unified_cervical_data            | 0.1730769 | 0.2487013 | 255 |\n",
       "| unified_uterine_data             | 0.1406250 | 0.2443586 |  46 |\n",
       "| unified_uterine_endometrial_data | 0.1738095 | 0.2480810 | 137 |\n",
       "\n"
      ],
      "text/plain": [
       "  dataset                          f1_macro_majority f1_macro_MC n  \n",
       "1 unified_cervical_data            0.1730769         0.2487013   255\n",
       "2 unified_uterine_data             0.1406250         0.2443586    46\n",
       "3 unified_uterine_endometrial_data 0.1738095         0.2480810   137"
      ]
     },
     "metadata": {},
     "output_type": "display_data"
    },
    {
     "data": {
      "text/html": [
       "'F1 macro (majority guess) baseline: 0.173809523809524'"
      ],
      "text/latex": [
       "'F1 macro (majority guess) baseline: 0.173809523809524'"
      ],
      "text/markdown": [
       "'F1 macro (majority guess) baseline: 0.173809523809524'"
      ],
      "text/plain": [
       "[1] \"F1 macro (majority guess) baseline: 0.173809523809524\""
      ]
     },
     "metadata": {},
     "output_type": "display_data"
    },
    {
     "data": {
      "text/html": [
       "'F1 macro (Monte Carlo) baseline: 0.24808098628323'"
      ],
      "text/latex": [
       "'F1 macro (Monte Carlo) baseline: 0.24808098628323'"
      ],
      "text/markdown": [
       "'F1 macro (Monte Carlo) baseline: 0.24808098628323'"
      ],
      "text/plain": [
       "[1] \"F1 macro (Monte Carlo) baseline: 0.24808098628323\""
      ]
     },
     "metadata": {},
     "output_type": "display_data"
    }
   ],
   "source": [
    "cls_baselines_df <- read_tsv(paste0(dirs$analysis_dir, \"/meta/\", \"cls_baselines.tsv\"))\n",
    "cls_baselines_df\n",
    "f1_macro_majority_baseline <- (cls_baselines_df %>% filter(dataset == unified_dsets[dset_idx]))$f1_macro_majority\n",
    "f1_macro_MC_baseline <- (cls_baselines_df %>% filter(dataset == unified_dsets[dset_idx]))$f1_macro_MC\n",
    "\n",
    "\n",
    "paste0(\"F1 macro (majority guess) baseline: \", f1_macro_majority_baseline)\n",
    "paste0(\"F1 macro (Monte Carlo) baseline: \", f1_macro_MC_baseline)"
   ]
  },
  {
   "cell_type": "markdown",
   "metadata": {},
   "source": [
    "## GBC"
   ]
  },
  {
   "cell_type": "code",
   "execution_count": 47,
   "metadata": {},
   "outputs": [
    {
     "name": "stderr",
     "output_type": "stream",
     "text": [
      "\n",
      "\u001b[36m--\u001b[39m \u001b[1m\u001b[1mColumn specification\u001b[1m\u001b[22m \u001b[36m-------------------------------------------------------------------------------------------------------------------------------------------------------------------\u001b[39m\n",
      "cols(\n",
      "  model = \u001b[32mcol_double()\u001b[39m,\n",
      "  ref_score = \u001b[32mcol_double()\u001b[39m\n",
      ")\n",
      "\n",
      "\n",
      "\n",
      "\u001b[36m--\u001b[39m \u001b[1m\u001b[1mColumn specification\u001b[1m\u001b[22m \u001b[36m-------------------------------------------------------------------------------------------------------------------------------------------------------------------\u001b[39m\n",
      "cols(\n",
      "  geneID = \u001b[31mcol_character()\u001b[39m,\n",
      "  mean_imp_0 = \u001b[32mcol_double()\u001b[39m,\n",
      "  score_pct_improvement_0 = \u001b[32mcol_double()\u001b[39m,\n",
      "  mean_imp_1 = \u001b[32mcol_double()\u001b[39m,\n",
      "  score_pct_improvement_1 = \u001b[32mcol_double()\u001b[39m,\n",
      "  mean_imp_2 = \u001b[32mcol_double()\u001b[39m,\n",
      "  score_pct_improvement_2 = \u001b[32mcol_double()\u001b[39m,\n",
      "  mean_imp_3 = \u001b[32mcol_double()\u001b[39m,\n",
      "  score_pct_improvement_3 = \u001b[32mcol_double()\u001b[39m,\n",
      "  mean_imp_4 = \u001b[32mcol_double()\u001b[39m,\n",
      "  score_pct_improvement_4 = \u001b[32mcol_double()\u001b[39m\n",
      ")\n",
      "\n",
      "\n"
     ]
    },
    {
     "data": {
      "text/html": [
       "<table class=\"dataframe\">\n",
       "<caption>A spec_tbl_df: 5 × 2</caption>\n",
       "<thead>\n",
       "\t<tr><th scope=col>model</th><th scope=col>ref_score</th></tr>\n",
       "\t<tr><th scope=col>&lt;dbl&gt;</th><th scope=col>&lt;dbl&gt;</th></tr>\n",
       "</thead>\n",
       "<tbody>\n",
       "\t<tr><td>0</td><td>0.3055761</td></tr>\n",
       "\t<tr><td>1</td><td>0.3002717</td></tr>\n",
       "\t<tr><td>2</td><td>0.2761016</td></tr>\n",
       "\t<tr><td>3</td><td>0.2815376</td></tr>\n",
       "\t<tr><td>4</td><td>0.2840617</td></tr>\n",
       "</tbody>\n",
       "</table>\n"
      ],
      "text/latex": [
       "A spec\\_tbl\\_df: 5 × 2\n",
       "\\begin{tabular}{ll}\n",
       " model & ref\\_score\\\\\n",
       " <dbl> & <dbl>\\\\\n",
       "\\hline\n",
       "\t 0 & 0.3055761\\\\\n",
       "\t 1 & 0.3002717\\\\\n",
       "\t 2 & 0.2761016\\\\\n",
       "\t 3 & 0.2815376\\\\\n",
       "\t 4 & 0.2840617\\\\\n",
       "\\end{tabular}\n"
      ],
      "text/markdown": [
       "\n",
       "A spec_tbl_df: 5 × 2\n",
       "\n",
       "| model &lt;dbl&gt; | ref_score &lt;dbl&gt; |\n",
       "|---|---|\n",
       "| 0 | 0.3055761 |\n",
       "| 1 | 0.3002717 |\n",
       "| 2 | 0.2761016 |\n",
       "| 3 | 0.2815376 |\n",
       "| 4 | 0.2840617 |\n",
       "\n"
      ],
      "text/plain": [
       "  model ref_score\n",
       "1 0     0.3055761\n",
       "2 1     0.3002717\n",
       "3 2     0.2761016\n",
       "4 3     0.2815376\n",
       "5 4     0.2840617"
      ]
     },
     "metadata": {},
     "output_type": "display_data"
    },
    {
     "data": {
      "text/html": [
       "'GBC F1 avg.: 0.289509729759355'"
      ],
      "text/latex": [
       "'GBC F1 avg.: 0.289509729759355'"
      ],
      "text/markdown": [
       "'GBC F1 avg.: 0.289509729759355'"
      ],
      "text/plain": [
       "[1] \"GBC F1 avg.: 0.289509729759355\""
      ]
     },
     "metadata": {},
     "output_type": "display_data"
    },
    {
     "data": {
      "text/html": [
       "'GBC F1 impr. over baseline: TRUE'"
      ],
      "text/latex": [
       "'GBC F1 impr. over baseline: TRUE'"
      ],
      "text/markdown": [
       "'GBC F1 impr. over baseline: TRUE'"
      ],
      "text/plain": [
       "[1] \"GBC F1 impr. over baseline: TRUE\""
      ]
     },
     "metadata": {},
     "output_type": "display_data"
    },
    {
     "data": {
      "text/html": [
       "'GBC F1 pct. impr. over baseline: 16.6996850894599'"
      ],
      "text/latex": [
       "'GBC F1 pct. impr. over baseline: 16.6996850894599'"
      ],
      "text/markdown": [
       "'GBC F1 pct. impr. over baseline: 16.6996850894599'"
      ],
      "text/plain": [
       "[1] \"GBC F1 pct. impr. over baseline: 16.6996850894599\""
      ]
     },
     "metadata": {},
     "output_type": "display_data"
    },
    {
     "data": {
      "text/html": [
       "'GBC F1 consensus genes: 3'"
      ],
      "text/latex": [
       "'GBC F1 consensus genes: 3'"
      ],
      "text/markdown": [
       "'GBC F1 consensus genes: 3'"
      ],
      "text/plain": [
       "[1] \"GBC F1 consensus genes: 3\""
      ]
     },
     "metadata": {},
     "output_type": "display_data"
    }
   ],
   "source": [
    "f1_gbc_scores_df <- read_tsv(paste0(dirs$analysis_dir, \"/feature_selection/\", unified_dsets[dset_idx], \"_gbc_ref_scores.tsv\"))\n",
    "f1_gbc_results_df <- read_tsv(paste0(dirs$analysis_dir, \"/feature_selection/\", unified_dsets[dset_idx], \"_gbc_results.tsv\"))\n",
    "f1_gbc_results_df <- get_consensus_col(f1_gbc_results_df, n = consensus_n, thresh = consensus_thresh)\n",
    "f1_gbc_scores_df\n",
    "\n",
    "f1_gbc_avg <- mean(f1_gbc_scores_df$ref_score)\n",
    "f1_gbc_imp <- f1_gbc_avg > f1_macro_MC_baseline\n",
    "f1_gbc_baseline_pct_imp <- (f1_gbc_avg - f1_macro_MC_baseline) / f1_macro_MC_baseline * 100\n",
    "n_f1_gbc_consensus_genes <- nrow(f1_gbc_results_df %>% dplyr::filter(consensus == TRUE))\n",
    "\n",
    "paste0(\"GBC F1 avg.: \", f1_gbc_avg)\n",
    "paste0(\"GBC F1 impr. over baseline: \", f1_gbc_imp)\n",
    "paste0(\"GBC F1 pct. impr. over baseline: \", f1_gbc_baseline_pct_imp)\n",
    "paste0(\"GBC F1 consensus genes: \", n_f1_gbc_consensus_genes)"
   ]
  },
  {
   "cell_type": "markdown",
   "metadata": {},
   "source": [
    "## RFC"
   ]
  },
  {
   "cell_type": "code",
   "execution_count": 48,
   "metadata": {},
   "outputs": [
    {
     "name": "stderr",
     "output_type": "stream",
     "text": [
      "\n",
      "\u001b[36m--\u001b[39m \u001b[1m\u001b[1mColumn specification\u001b[1m\u001b[22m \u001b[36m-------------------------------------------------------------------------------------------------------------------------------------------------------------------\u001b[39m\n",
      "cols(\n",
      "  model = \u001b[32mcol_double()\u001b[39m,\n",
      "  ref_score = \u001b[32mcol_double()\u001b[39m\n",
      ")\n",
      "\n",
      "\n",
      "\n",
      "\u001b[36m--\u001b[39m \u001b[1m\u001b[1mColumn specification\u001b[1m\u001b[22m \u001b[36m-------------------------------------------------------------------------------------------------------------------------------------------------------------------\u001b[39m\n",
      "cols(\n",
      "  geneID = \u001b[31mcol_character()\u001b[39m,\n",
      "  mean_imp_0 = \u001b[32mcol_double()\u001b[39m,\n",
      "  score_pct_improvement_0 = \u001b[32mcol_double()\u001b[39m,\n",
      "  mean_imp_1 = \u001b[32mcol_double()\u001b[39m,\n",
      "  score_pct_improvement_1 = \u001b[32mcol_double()\u001b[39m,\n",
      "  mean_imp_2 = \u001b[32mcol_double()\u001b[39m,\n",
      "  score_pct_improvement_2 = \u001b[32mcol_double()\u001b[39m,\n",
      "  mean_imp_3 = \u001b[32mcol_double()\u001b[39m,\n",
      "  score_pct_improvement_3 = \u001b[32mcol_double()\u001b[39m,\n",
      "  mean_imp_4 = \u001b[32mcol_double()\u001b[39m,\n",
      "  score_pct_improvement_4 = \u001b[32mcol_double()\u001b[39m\n",
      ")\n",
      "\n",
      "\n"
     ]
    },
    {
     "data": {
      "text/html": [
       "<table class=\"dataframe\">\n",
       "<caption>A spec_tbl_df: 5 × 2</caption>\n",
       "<thead>\n",
       "\t<tr><th scope=col>model</th><th scope=col>ref_score</th></tr>\n",
       "\t<tr><th scope=col>&lt;dbl&gt;</th><th scope=col>&lt;dbl&gt;</th></tr>\n",
       "</thead>\n",
       "<tbody>\n",
       "\t<tr><td>0</td><td>0.2798849</td></tr>\n",
       "\t<tr><td>1</td><td>0.2544950</td></tr>\n",
       "\t<tr><td>2</td><td>0.2862669</td></tr>\n",
       "\t<tr><td>3</td><td>0.2587466</td></tr>\n",
       "\t<tr><td>4</td><td>0.2717753</td></tr>\n",
       "</tbody>\n",
       "</table>\n"
      ],
      "text/latex": [
       "A spec\\_tbl\\_df: 5 × 2\n",
       "\\begin{tabular}{ll}\n",
       " model & ref\\_score\\\\\n",
       " <dbl> & <dbl>\\\\\n",
       "\\hline\n",
       "\t 0 & 0.2798849\\\\\n",
       "\t 1 & 0.2544950\\\\\n",
       "\t 2 & 0.2862669\\\\\n",
       "\t 3 & 0.2587466\\\\\n",
       "\t 4 & 0.2717753\\\\\n",
       "\\end{tabular}\n"
      ],
      "text/markdown": [
       "\n",
       "A spec_tbl_df: 5 × 2\n",
       "\n",
       "| model &lt;dbl&gt; | ref_score &lt;dbl&gt; |\n",
       "|---|---|\n",
       "| 0 | 0.2798849 |\n",
       "| 1 | 0.2544950 |\n",
       "| 2 | 0.2862669 |\n",
       "| 3 | 0.2587466 |\n",
       "| 4 | 0.2717753 |\n",
       "\n"
      ],
      "text/plain": [
       "  model ref_score\n",
       "1 0     0.2798849\n",
       "2 1     0.2544950\n",
       "3 2     0.2862669\n",
       "4 3     0.2587466\n",
       "5 4     0.2717753"
      ]
     },
     "metadata": {},
     "output_type": "display_data"
    },
    {
     "data": {
      "text/html": [
       "'rfc F1 avg.: 0.270233741600766'"
      ],
      "text/latex": [
       "'rfc F1 avg.: 0.270233741600766'"
      ],
      "text/markdown": [
       "'rfc F1 avg.: 0.270233741600766'"
      ],
      "text/plain": [
       "[1] \"rfc F1 avg.: 0.270233741600766\""
      ]
     },
     "metadata": {},
     "output_type": "display_data"
    },
    {
     "data": {
      "text/html": [
       "'rfc F1 impr. over baseline: TRUE'"
      ],
      "text/latex": [
       "'rfc F1 impr. over baseline: TRUE'"
      ],
      "text/markdown": [
       "'rfc F1 impr. over baseline: TRUE'"
      ],
      "text/plain": [
       "[1] \"rfc F1 impr. over baseline: TRUE\""
      ]
     },
     "metadata": {},
     "output_type": "display_data"
    },
    {
     "data": {
      "text/html": [
       "'rfc F1 pct. impr. over baseline: 8.92964658413785'"
      ],
      "text/latex": [
       "'rfc F1 pct. impr. over baseline: 8.92964658413785'"
      ],
      "text/markdown": [
       "'rfc F1 pct. impr. over baseline: 8.92964658413785'"
      ],
      "text/plain": [
       "[1] \"rfc F1 pct. impr. over baseline: 8.92964658413785\""
      ]
     },
     "metadata": {},
     "output_type": "display_data"
    },
    {
     "data": {
      "text/html": [
       "'rfc F1 consensus genes: 2'"
      ],
      "text/latex": [
       "'rfc F1 consensus genes: 2'"
      ],
      "text/markdown": [
       "'rfc F1 consensus genes: 2'"
      ],
      "text/plain": [
       "[1] \"rfc F1 consensus genes: 2\""
      ]
     },
     "metadata": {},
     "output_type": "display_data"
    }
   ],
   "source": [
    "f1_rfc_scores_df <- read_tsv(paste0(dirs$analysis_dir, \"/feature_selection/\", unified_dsets[dset_idx], \"_rfc_ref_scores.tsv\"))\n",
    "f1_rfc_results_df <- read_tsv(paste0(dirs$analysis_dir, \"/feature_selection/\", unified_dsets[dset_idx], \"_rfc_results.tsv\"))\n",
    "f1_rfc_results_df <- get_consensus_col(f1_rfc_results_df, n = consensus_n, thresh = consensus_thresh)\n",
    "f1_rfc_scores_df\n",
    "\n",
    "f1_rfc_avg <- mean(f1_rfc_scores_df$ref_score)\n",
    "f1_rfc_imp <- f1_rfc_avg > f1_macro_MC_baseline\n",
    "f1_rfc_baseline_pct_imp <- (f1_rfc_avg - f1_macro_MC_baseline) / f1_macro_MC_baseline * 100\n",
    "n_f1_rfc_consensus_genes <- nrow(f1_rfc_results_df %>% dplyr::filter(consensus == TRUE))\n",
    "\n",
    "paste0(\"rfc F1 avg.: \", f1_rfc_avg)\n",
    "paste0(\"rfc F1 impr. over baseline: \", f1_rfc_imp)\n",
    "paste0(\"rfc F1 pct. impr. over baseline: \", f1_rfc_baseline_pct_imp)\n",
    "paste0(\"rfc F1 consensus genes: \", n_f1_rfc_consensus_genes)"
   ]
  },
  {
   "cell_type": "markdown",
   "metadata": {},
   "source": [
    "## LR (L1)"
   ]
  },
  {
   "cell_type": "code",
   "execution_count": 49,
   "metadata": {},
   "outputs": [
    {
     "name": "stderr",
     "output_type": "stream",
     "text": [
      "\n",
      "\u001b[36m--\u001b[39m \u001b[1m\u001b[1mColumn specification\u001b[1m\u001b[22m \u001b[36m-------------------------------------------------------------------------------------------------------------------------------------------------------------------\u001b[39m\n",
      "cols(\n",
      "  model = \u001b[32mcol_double()\u001b[39m,\n",
      "  ref_score = \u001b[32mcol_double()\u001b[39m\n",
      ")\n",
      "\n",
      "\n",
      "\n",
      "\u001b[36m--\u001b[39m \u001b[1m\u001b[1mColumn specification\u001b[1m\u001b[22m \u001b[36m-------------------------------------------------------------------------------------------------------------------------------------------------------------------\u001b[39m\n",
      "cols(\n",
      "  geneID = \u001b[31mcol_character()\u001b[39m,\n",
      "  mean_imp_0 = \u001b[32mcol_double()\u001b[39m,\n",
      "  score_pct_improvement_0 = \u001b[32mcol_double()\u001b[39m,\n",
      "  mean_imp_1 = \u001b[32mcol_double()\u001b[39m,\n",
      "  score_pct_improvement_1 = \u001b[32mcol_double()\u001b[39m,\n",
      "  mean_imp_2 = \u001b[32mcol_double()\u001b[39m,\n",
      "  score_pct_improvement_2 = \u001b[32mcol_double()\u001b[39m,\n",
      "  mean_imp_3 = \u001b[32mcol_double()\u001b[39m,\n",
      "  score_pct_improvement_3 = \u001b[32mcol_double()\u001b[39m,\n",
      "  mean_imp_4 = \u001b[32mcol_double()\u001b[39m,\n",
      "  score_pct_improvement_4 = \u001b[32mcol_double()\u001b[39m\n",
      ")\n",
      "\n",
      "\n"
     ]
    },
    {
     "data": {
      "text/html": [
       "<table class=\"dataframe\">\n",
       "<caption>A spec_tbl_df: 5 × 2</caption>\n",
       "<thead>\n",
       "\t<tr><th scope=col>model</th><th scope=col>ref_score</th></tr>\n",
       "\t<tr><th scope=col>&lt;dbl&gt;</th><th scope=col>&lt;dbl&gt;</th></tr>\n",
       "</thead>\n",
       "<tbody>\n",
       "\t<tr><td>0</td><td>0.3366610</td></tr>\n",
       "\t<tr><td>1</td><td>0.3789767</td></tr>\n",
       "\t<tr><td>2</td><td>0.3565851</td></tr>\n",
       "\t<tr><td>3</td><td>0.3464781</td></tr>\n",
       "\t<tr><td>4</td><td>0.3514332</td></tr>\n",
       "</tbody>\n",
       "</table>\n"
      ],
      "text/latex": [
       "A spec\\_tbl\\_df: 5 × 2\n",
       "\\begin{tabular}{ll}\n",
       " model & ref\\_score\\\\\n",
       " <dbl> & <dbl>\\\\\n",
       "\\hline\n",
       "\t 0 & 0.3366610\\\\\n",
       "\t 1 & 0.3789767\\\\\n",
       "\t 2 & 0.3565851\\\\\n",
       "\t 3 & 0.3464781\\\\\n",
       "\t 4 & 0.3514332\\\\\n",
       "\\end{tabular}\n"
      ],
      "text/markdown": [
       "\n",
       "A spec_tbl_df: 5 × 2\n",
       "\n",
       "| model &lt;dbl&gt; | ref_score &lt;dbl&gt; |\n",
       "|---|---|\n",
       "| 0 | 0.3366610 |\n",
       "| 1 | 0.3789767 |\n",
       "| 2 | 0.3565851 |\n",
       "| 3 | 0.3464781 |\n",
       "| 4 | 0.3514332 |\n",
       "\n"
      ],
      "text/plain": [
       "  model ref_score\n",
       "1 0     0.3366610\n",
       "2 1     0.3789767\n",
       "3 2     0.3565851\n",
       "4 3     0.3464781\n",
       "5 4     0.3514332"
      ]
     },
     "metadata": {},
     "output_type": "display_data"
    },
    {
     "data": {
      "text/html": [
       "'LR L1 F1 avg.: 0.354026811258891'"
      ],
      "text/latex": [
       "'LR L1 F1 avg.: 0.354026811258891'"
      ],
      "text/markdown": [
       "'LR L1 F1 avg.: 0.354026811258891'"
      ],
      "text/plain": [
       "[1] \"LR L1 F1 avg.: 0.354026811258891\""
      ]
     },
     "metadata": {},
     "output_type": "display_data"
    },
    {
     "data": {
      "text/html": [
       "'LR L1 F1 impr. over baseline: TRUE'"
      ],
      "text/latex": [
       "'LR L1 F1 impr. over baseline: TRUE'"
      ],
      "text/markdown": [
       "'LR L1 F1 impr. over baseline: TRUE'"
      ],
      "text/plain": [
       "[1] \"LR L1 F1 impr. over baseline: TRUE\""
      ]
     },
     "metadata": {},
     "output_type": "display_data"
    },
    {
     "data": {
      "text/html": [
       "'LR L1 F1 pct. impr. over baseline: 42.7061447001443'"
      ],
      "text/latex": [
       "'LR L1 F1 pct. impr. over baseline: 42.7061447001443'"
      ],
      "text/markdown": [
       "'LR L1 F1 pct. impr. over baseline: 42.7061447001443'"
      ],
      "text/plain": [
       "[1] \"LR L1 F1 pct. impr. over baseline: 42.7061447001443\""
      ]
     },
     "metadata": {},
     "output_type": "display_data"
    },
    {
     "data": {
      "text/html": [
       "'LR L1 F1 consensus genes: 76'"
      ],
      "text/latex": [
       "'LR L1 F1 consensus genes: 76'"
      ],
      "text/markdown": [
       "'LR L1 F1 consensus genes: 76'"
      ],
      "text/plain": [
       "[1] \"LR L1 F1 consensus genes: 76\""
      ]
     },
     "metadata": {},
     "output_type": "display_data"
    }
   ],
   "source": [
    "f1_l1_lr_scores_df <- read_tsv(paste0(dirs$analysis_dir, \"/feature_selection/\", unified_dsets[dset_idx], \"_l1_lr_ref_scores.tsv\"))\n",
    "f1_l1_lr_results_df <- read_tsv(paste0(dirs$analysis_dir, \"/feature_selection/\", unified_dsets[dset_idx], \"_l1_lr_results.tsv\"))\n",
    "f1_l1_lr_results_df <- get_consensus_col(f1_l1_lr_results_df, n = consensus_n, thresh = consensus_thresh)\n",
    "f1_l1_lr_scores_df\n",
    "\n",
    "f1_l1_lr_avg <- mean(f1_l1_lr_scores_df$ref_score)\n",
    "f1_l1_lr_imp <- f1_l1_lr_avg > f1_macro_MC_baseline\n",
    "f1_l1_lr_pct_imp <- (f1_l1_lr_avg - f1_macro_MC_baseline) / f1_macro_MC_baseline * 100\n",
    "n_f1_l1_lr_consensus_genes <- nrow(f1_l1_lr_results_df %>% dplyr::filter(consensus == TRUE))\n",
    "\n",
    "paste0(\"LR L1 F1 avg.: \", f1_l1_lr_avg)\n",
    "paste0(\"LR L1 F1 impr. over baseline: \", f1_l1_lr_imp)\n",
    "paste0(\"LR L1 F1 pct. impr. over baseline: \", f1_l1_lr_pct_imp)\n",
    "paste0(\"LR L1 F1 consensus genes: \", n_f1_l1_lr_consensus_genes)"
   ]
  },
  {
   "cell_type": "markdown",
   "metadata": {},
   "source": [
    "# Network Analysis"
   ]
  },
  {
   "cell_type": "code",
   "execution_count": 50,
   "metadata": {},
   "outputs": [
    {
     "name": "stderr",
     "output_type": "stream",
     "text": [
      "\n",
      "\u001b[36m--\u001b[39m \u001b[1m\u001b[1mColumn specification\u001b[1m\u001b[22m \u001b[36m-------------------------------------------------------------------------------------------------------------------------------------------------------------------\u001b[39m\n",
      "cols(\n",
      "  .default = col_double(),\n",
      "  geneID = \u001b[31mcol_character()\u001b[39m,\n",
      "  module = \u001b[31mcol_character()\u001b[39m\n",
      ")\n",
      "\u001b[36mi\u001b[39m Use \u001b[30m\u001b[47m\u001b[30m\u001b[47m`spec()`\u001b[47m\u001b[30m\u001b[49m\u001b[39m for the full column specifications.\n",
      "\n",
      "\n",
      "\n",
      "\u001b[36m--\u001b[39m \u001b[1m\u001b[1mColumn specification\u001b[1m\u001b[22m \u001b[36m-------------------------------------------------------------------------------------------------------------------------------------------------------------------\u001b[39m\n",
      "cols(\n",
      "  module = \u001b[31mcol_character()\u001b[39m,\n",
      "  figo_stage_1_cor = \u001b[32mcol_double()\u001b[39m,\n",
      "  figo_stage_2_cor = \u001b[32mcol_double()\u001b[39m,\n",
      "  figo_stage_3_cor = \u001b[32mcol_double()\u001b[39m,\n",
      "  figo_stage_4_cor = \u001b[32mcol_double()\u001b[39m,\n",
      "  figo_stage_1_pval = \u001b[32mcol_double()\u001b[39m,\n",
      "  figo_stage_2_pval = \u001b[32mcol_double()\u001b[39m,\n",
      "  figo_stage_3_pval = \u001b[32mcol_double()\u001b[39m,\n",
      "  figo_stage_4_pval = \u001b[32mcol_double()\u001b[39m,\n",
      "  figo_stage_1_qval = \u001b[32mcol_double()\u001b[39m,\n",
      "  figo_stage_2_qval = \u001b[32mcol_double()\u001b[39m,\n",
      "  figo_stage_3_qval = \u001b[32mcol_double()\u001b[39m,\n",
      "  figo_stage_4_qval = \u001b[32mcol_double()\u001b[39m,\n",
      "  vital_hr = \u001b[32mcol_double()\u001b[39m,\n",
      "  vital_dev_cor = \u001b[32mcol_double()\u001b[39m,\n",
      "  vital_pval = \u001b[32mcol_double()\u001b[39m,\n",
      "  vital_qval = \u001b[32mcol_double()\u001b[39m\n",
      ")\n",
      "\n",
      "\n"
     ]
    }
   ],
   "source": [
    "network_mm_gs_df <- read_tsv(paste0(dirs$analysis_dir, \"/network/\", unified_dsets[dset_idx], \"_gene_mm_gs.tsv\"))\n",
    "network_me_sig_df <- read_tsv(paste0(dirs$analysis_dir, \"/network/\", unified_dsets[dset_idx], \"_eigengene_traits.tsv\"))\n",
    "lnames <- load(file = paste0(dirs$data_dir, \"/saved_network_objects/\", unified_dsets[dset_idx], \"_tumor_data.RData\"))\n",
    "lnames <- load(file = paste0(dirs$data_dir, \"/saved_network_objects/\", unified_dsets[dset_idx], \"_tumor_network.RData\"))\n",
    "pval_thresh <- 0.05\n",
    "\n",
    "hub_df <- get_most_conn_genes(data_expr, module_colors, soft_power, conn_vs_hub_thresh = 0.5) %>%\n",
    "    bind_rows(.id = \"module\") %>%\n",
    "    dplyr::select(geneID, everything())\n"
   ]
  },
  {
   "cell_type": "code",
   "execution_count": 51,
   "metadata": {},
   "outputs": [],
   "source": [
    "condensed_me_df <- network_me_sig_df %>%\n",
    "    condense_figo(include_pvals = TRUE) %>%\n",
    "    dplyr::rename_if(!startsWith(colnames(.), \"module\"), ~ gsub(\"^\", \"me_\", .))\n",
    "\n",
    "filtered_figo_network_df <- network_mm_gs_df %>%\n",
    "    dplyr::select(geneID, module, mm_pval, mm_cor) %>%\n",
    "    inner_join(condensed_me_df, by = \"module\") %>%\n",
    "    dplyr::filter(me_figo_min_qval < pval_thresh) %>%\n",
    "    # Make sure genes are significant members of the module\n",
    "    dplyr::filter(mm_pval < pval_thresh) %>%\n",
    "    # Make sure genes are highly connected within the module\n",
    "    dplyr::filter(geneID %in% hub_df$geneID)\n",
    "\n",
    "filtered_coxph_network_df <- network_mm_gs_df %>%\n",
    "    dplyr::select(geneID, module, mm_pval, mm_cor) %>%\n",
    "    inner_join(condensed_me_df, by = \"module\") %>%\n",
    "    dplyr::filter(me_vital_qval < pval_thresh) %>%\n",
    "    # Make sure genes are significant members of the module\n",
    "    dplyr::filter(mm_pval < pval_thresh) %>%\n",
    "    # Make sure genes are highly connected within the module\n",
    "    dplyr::filter(geneID %in% hub_df$geneID)"
   ]
  },
  {
   "cell_type": "code",
   "execution_count": 52,
   "metadata": {},
   "outputs": [
    {
     "data": {
      "text/html": [
       "21"
      ],
      "text/latex": [
       "21"
      ],
      "text/markdown": [
       "21"
      ],
      "text/plain": [
       "[1] 21"
      ]
     },
     "metadata": {},
     "output_type": "display_data"
    },
    {
     "data": {
      "text/html": [
       "0"
      ],
      "text/latex": [
       "0"
      ],
      "text/markdown": [
       "0"
      ],
      "text/plain": [
       "[1] 0"
      ]
     },
     "metadata": {},
     "output_type": "display_data"
    },
    {
     "data": {
      "text/html": [
       "3"
      ],
      "text/latex": [
       "3"
      ],
      "text/markdown": [
       "3"
      ],
      "text/plain": [
       "[1] 3"
      ]
     },
     "metadata": {},
     "output_type": "display_data"
    },
    {
     "data": {
      "text/html": [
       "0"
      ],
      "text/latex": [
       "0"
      ],
      "text/markdown": [
       "0"
      ],
      "text/plain": [
       "[1] 0"
      ]
     },
     "metadata": {},
     "output_type": "display_data"
    }
   ],
   "source": [
    "nrow(filtered_figo_network_df)\n",
    "nrow(filtered_coxph_network_df)\n",
    "length(unique(filtered_figo_network_df$module))\n",
    "length(unique(filtered_coxph_network_df$module))"
   ]
  }
 ],
 "metadata": {
  "kernelspec": {
   "display_name": "R",
   "language": "R",
   "name": "ir"
  },
  "language_info": {
   "codemirror_mode": "r",
   "file_extension": ".r",
   "mimetype": "text/x-r-source",
   "name": "R",
   "pygments_lexer": "r",
   "version": "4.0.3"
  }
 },
 "nbformat": 4,
 "nbformat_minor": 4
}
