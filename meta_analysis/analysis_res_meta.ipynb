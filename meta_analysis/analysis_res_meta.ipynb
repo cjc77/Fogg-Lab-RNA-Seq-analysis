{
 "cells": [
  {
   "cell_type": "code",
   "execution_count": 1,
   "metadata": {},
   "outputs": [
    {
     "name": "stderr",
     "output_type": "stream",
     "text": [
      "── Attaching packages ─────────────────────────────────────── tidyverse 1.3.0 ──\n",
      "✔ ggplot2 3.3.2     ✔ purrr   0.3.4\n",
      "✔ tibble  3.0.3     ✔ dplyr   1.0.0\n",
      "✔ tidyr   1.1.0     ✔ stringr 1.4.0\n",
      "✔ readr   1.3.1     ✔ forcats 0.5.0\n",
      "── Conflicts ────────────────────────────────────────── tidyverse_conflicts() ──\n",
      "✖ dplyr::filter() masks stats::filter()\n",
      "✖ dplyr::lag()    masks stats::lag()\n"
     ]
    }
   ],
   "source": [
    "library(tidyverse)\n",
    "\n",
    "# Custom package\n",
    "library(rutils)"
   ]
  },
  {
   "cell_type": "code",
   "execution_count": 2,
   "metadata": {},
   "outputs": [],
   "source": [
    "dirs <- rutils::get_dev_directories(dev_paths_file = \"../dev_paths.txt\")\n",
    "projects <- c(\"TCGA-CESC\", \"TCGA-UCS\", \"TCGA-UCEC\", \"TCGA-OV\")\n",
    "unified_dsets <- c(\"unified_cervical_data\", \"unified_uterine_data\", \"unified_uterine_endometrial_data\")\n",
    "matrisome_list <- paste0(dirs$data_dir, \"/matrisome/matrisome_hs_masterlist.tsv\")"
   ]
  },
  {
   "cell_type": "code",
   "execution_count": 3,
   "metadata": {},
   "outputs": [],
   "source": [
    "dset_idx <- 1"
   ]
  },
  {
   "cell_type": "code",
   "execution_count": 4,
   "metadata": {},
   "outputs": [],
   "source": [
    "p_thresh = 0.05\n",
    "lfc_thresh = log2(2)\n",
    "coxph_coeff_thresh = 0.0\n",
    "mi_thresh = 0.0\n",
    "consensus_thresh = 0.0\n",
    "consensus_n = 5"
   ]
  },
  {
   "cell_type": "markdown",
   "metadata": {},
   "source": [
    "# Helpers"
   ]
  },
  {
   "cell_type": "code",
   "execution_count": 5,
   "metadata": {},
   "outputs": [
    {
     "name": "stderr",
     "output_type": "stream",
     "text": [
      "Parsed with column specification:\n",
      "cols(\n",
      "  Division = col_character(),\n",
      "  Category = col_character(),\n",
      "  `Gene Symbol` = col_character(),\n",
      "  `Gene Name` = col_character(),\n",
      "  Synonyms = col_character(),\n",
      "  HGNC_IDs = col_double(),\n",
      "  `HGNC_IDs Links` = col_double(),\n",
      "  UniProt_IDs = col_character(),\n",
      "  Refseq_IDs = col_character(),\n",
      "  Orthology = col_character(),\n",
      "  Notes = col_character()\n",
      ")\n"
     ]
    }
   ],
   "source": [
    "matrisome_df <- rutils::load_matrisome_df(matrisome_list) %>%\n",
    "    dplyr::select(gene_symbol, division, category)\n",
    "\n",
    "\n",
    "get_consensus_col <- function(df, n, thresh = 0) {\n",
    "    consensus_df <- df %>%\n",
    "        dplyr::select(geneID, contains(\"mean\")) %>%\n",
    "        dplyr::mutate(consensus = rowSums(.[-1] > thresh) == n)\n",
    "    return(df %>% dplyr::mutate(consensus = consensus_df$consensus))\n",
    "}"
   ]
  },
  {
   "cell_type": "code",
   "execution_count": 6,
   "metadata": {},
   "outputs": [
    {
     "name": "stderr",
     "output_type": "stream",
     "text": [
      "Parsed with column specification:\n",
      "cols(\n",
      "  .default = col_double(),\n",
      "  geneID = col_character()\n",
      ")\n",
      "See spec(...) for full column specifications.\n"
     ]
    }
   ],
   "source": [
    "norm_counts_df <- read_tsv(paste0(dirs$data_dir, \"/\", unified_dsets[dset_idx], \"/\", \"norm_counts.tsv\"))"
   ]
  },
  {
   "cell_type": "markdown",
   "metadata": {},
   "source": [
    "# DGE analysis"
   ]
  },
  {
   "cell_type": "code",
   "execution_count": 8,
   "metadata": {},
   "outputs": [
    {
     "name": "stderr",
     "output_type": "stream",
     "text": [
      "Parsed with column specification:\n",
      "cols(\n",
      "  geneID = col_character(),\n",
      "  baseMean = col_double(),\n",
      "  log2FoldChange = col_double(),\n",
      "  lfcSE = col_double(),\n",
      "  stat = col_double(),\n",
      "  pvalue = col_double(),\n",
      "  padj = col_double(),\n",
      "  qval = col_double()\n",
      ")\n"
     ]
    },
    {
     "data": {
      "text/html": [
       "'DEGs: 7652'"
      ],
      "text/latex": [
       "'DEGs: 7652'"
      ],
      "text/markdown": [
       "'DEGs: 7652'"
      ],
      "text/plain": [
       "[1] \"DEGs: 7652\""
      ]
     },
     "metadata": {},
     "output_type": "display_data"
    },
    {
     "data": {
      "text/html": [
       "'DEG prop: 0.378025886770082'"
      ],
      "text/latex": [
       "'DEG prop: 0.378025886770082'"
      ],
      "text/markdown": [
       "'DEG prop: 0.378025886770082'"
      ],
      "text/plain": [
       "[1] \"DEG prop: 0.378025886770082\""
      ]
     },
     "metadata": {},
     "output_type": "display_data"
    },
    {
     "data": {
      "text/html": [
       "'Up: 3966'"
      ],
      "text/latex": [
       "'Up: 3966'"
      ],
      "text/markdown": [
       "'Up: 3966'"
      ],
      "text/plain": [
       "[1] \"Up: 3966\""
      ]
     },
     "metadata": {},
     "output_type": "display_data"
    },
    {
     "data": {
      "text/html": [
       "'Down: 3686'"
      ],
      "text/latex": [
       "'Down: 3686'"
      ],
      "text/markdown": [
       "'Down: 3686'"
      ],
      "text/plain": [
       "[1] \"Down: 3686\""
      ]
     },
     "metadata": {},
     "output_type": "display_data"
    },
    {
     "data": {
      "text/html": [
       "'Matrisome DEGs: 593'"
      ],
      "text/latex": [
       "'Matrisome DEGs: 593'"
      ],
      "text/markdown": [
       "'Matrisome DEGs: 593'"
      ],
      "text/plain": [
       "[1] \"Matrisome DEGs: 593\""
      ]
     },
     "metadata": {},
     "output_type": "display_data"
    },
    {
     "data": {
      "text/html": [
       "'Matrisome DEG prop: 0.577409931840312'"
      ],
      "text/latex": [
       "'Matrisome DEG prop: 0.577409931840312'"
      ],
      "text/markdown": [
       "'Matrisome DEG prop: 0.577409931840312'"
      ],
      "text/plain": [
       "[1] \"Matrisome DEG prop: 0.577409931840312\""
      ]
     },
     "metadata": {},
     "output_type": "display_data"
    },
    {
     "data": {
      "text/html": [
       "'Matrisome up: 262'"
      ],
      "text/latex": [
       "'Matrisome up: 262'"
      ],
      "text/markdown": [
       "'Matrisome up: 262'"
      ],
      "text/plain": [
       "[1] \"Matrisome up: 262\""
      ]
     },
     "metadata": {},
     "output_type": "display_data"
    },
    {
     "data": {
      "text/html": [
       "'Matrisome down: 331'"
      ],
      "text/latex": [
       "'Matrisome down: 331'"
      ],
      "text/markdown": [
       "'Matrisome down: 331'"
      ],
      "text/plain": [
       "[1] \"Matrisome down: 331\""
      ]
     },
     "metadata": {},
     "output_type": "display_data"
    }
   ],
   "source": [
    "DESeq_results_df <- read_tsv(paste0(dirs$analysis_dir, \"/deg/\", unified_dsets[dset_idx], \"_DESeq_results.tsv\"))\n",
    "# filtered_DESeq_results_df <- DESeq_results_df %>%\n",
    "#     dplyr::filter(abs(log2FoldChange) > lfc_thresh, padj < p_thresh)\n",
    "filtered_DESeq_results_df <- DESeq_results_df %>%\n",
    "    dplyr::filter(abs(log2FoldChange) > lfc_thresh, qval < p_thresh)\n",
    "\n",
    "filtered_matrisome_DESeq_results_df <- filtered_DESeq_results_df %>%\n",
    "    dplyr::filter(geneID %in% matrisome_df$gene_symbol)\n",
    "\n",
    "n_degs <- nrow(filtered_DESeq_results_df)\n",
    "deg_prop <- nrow(filtered_DESeq_results_df) / nrow(norm_counts_df)\n",
    "n_degs_up <- nrow(filtered_DESeq_results_df %>% dplyr::filter(log2FoldChange > 0))\n",
    "n_degs_down <- nrow(filtered_DESeq_results_df %>% dplyr::filter(log2FoldChange < 0))\n",
    "\n",
    "n_matrisome_degs <- nrow(filtered_matrisome_DESeq_results_df)\n",
    "matrisome_deg_prop <- nrow(filtered_matrisome_DESeq_results_df) / nrow(matrisome_df)\n",
    "n_matrisome_degs_up <- nrow(filtered_matrisome_DESeq_results_df %>% dplyr::filter(log2FoldChange > 0))\n",
    "n_matrisome_degs_down <- nrow(filtered_matrisome_DESeq_results_df %>% dplyr::filter(log2FoldChange < 0))\n",
    "\n",
    "\n",
    "paste0(\"DEGs: \", n_degs)\n",
    "paste0(\"DEG prop: \", deg_prop)\n",
    "paste0(\"Up: \", n_degs_up)\n",
    "paste0(\"Down: \", n_degs_down)\n",
    "paste0(\"Matrisome DEGs: \", n_matrisome_degs)\n",
    "paste0(\"Matrisome DEG prop: \", matrisome_deg_prop)\n",
    "paste0(\"Matrisome up: \", n_matrisome_degs_up)\n",
    "paste0(\"Matrisome down: \", n_matrisome_degs_down)"
   ]
  },
  {
   "cell_type": "markdown",
   "metadata": {},
   "source": [
    "# Survival analysis"
   ]
  },
  {
   "cell_type": "code",
   "execution_count": null,
   "metadata": {},
   "outputs": [],
   "source": [
    "coxph_null_scores_df <- read_tsv(paste0(dirs$analysis_dir, \"/meta/\", \"coxph_null_scores.tsv\"))\n",
    "coxph_results_df <- read_tsv(paste0(dirs$analysis_dir, \"/\", unified_dsets[dset_idx], \"_coxph_results.tsv\"))\n",
    "# filtered_coxph_results_df <- coxph_results_df %>%\n",
    "#     dplyr::filter(gene_pval < p_thresh)\n",
    "filtered_coxph_results_df <- coxph_results_df %>%\n",
    "    dplyr::filter(gene_qval < p_thresh)"
   ]
  },
  {
   "cell_type": "code",
   "execution_count": null,
   "metadata": {},
   "outputs": [],
   "source": [
    "coxph_null_scores_df"
   ]
  },
  {
   "cell_type": "code",
   "execution_count": null,
   "metadata": {},
   "outputs": [],
   "source": [
    "coxph_null_sig <- (coxph_null_scores_df %>% dplyr::filter(dataset == unified_dsets[dset_idx]))$lr_test_pval < p_thresh\n",
    "n_coxph_sig <- nrow(filtered_coxph_results_df)\n",
    "prop_coxph_sig <- n_coxph_sig / nrow(matrisome_df)\n",
    "n_coxph_sig_protective <- nrow(filtered_coxph_results_df %>% dplyr::filter(gene_coeff < 0))\n",
    "n_coxph_sig_harmful <- nrow(filtered_coxph_results_df %>% dplyr::filter(gene_coeff > 0))\n",
    "\n",
    "\n",
    "paste0(\"Sig. null Cox PH: \", coxph_null_sig)\n",
    "paste0(\"Sig. Cox PH genes: \", n_coxph_sig)\n",
    "paste0(\"Prop. sig. Cox PH genes: \", prop_coxph_sig)\n",
    "paste0(\"Sig. Cox PH protective: \", n_coxph_sig_protective)\n",
    "paste0(\"Sig. Cox PH harmful: \", n_coxph_sig_harmful)"
   ]
  },
  {
   "cell_type": "markdown",
   "metadata": {},
   "source": [
    "# Regression"
   ]
  },
  {
   "cell_type": "markdown",
   "metadata": {
    "jupyter": {
     "outputs_hidden": true
    }
   },
   "source": [
    "## Correlation analysis"
   ]
  },
  {
   "cell_type": "code",
   "execution_count": 13,
   "metadata": {},
   "outputs": [
    {
     "name": "stderr",
     "output_type": "stream",
     "text": [
      "Parsed with column specification:\n",
      "cols(\n",
      "  geneID = col_character(),\n",
      "  cor = col_double(),\n",
      "  pval = col_double(),\n",
      "  padj = col_double(),\n",
      "  qval = col_double(),\n",
      "  n = col_double()\n",
      ")\n"
     ]
    },
    {
     "data": {
      "text/html": [
       "'Cor. genes: 1'"
      ],
      "text/latex": [
       "'Cor. genes: 1'"
      ],
      "text/markdown": [
       "'Cor. genes: 1'"
      ],
      "text/plain": [
       "[1] \"Cor. genes: 1\""
      ]
     },
     "metadata": {},
     "output_type": "display_data"
    },
    {
     "data": {
      "text/html": [
       "'Neg. cor. genes: 0'"
      ],
      "text/latex": [
       "'Neg. cor. genes: 0'"
      ],
      "text/markdown": [
       "'Neg. cor. genes: 0'"
      ],
      "text/plain": [
       "[1] \"Neg. cor. genes: 0\""
      ]
     },
     "metadata": {},
     "output_type": "display_data"
    },
    {
     "data": {
      "text/html": [
       "'Pos. cor. genes: 1'"
      ],
      "text/latex": [
       "'Pos. cor. genes: 1'"
      ],
      "text/markdown": [
       "'Pos. cor. genes: 1'"
      ],
      "text/plain": [
       "[1] \"Pos. cor. genes: 1\""
      ]
     },
     "metadata": {},
     "output_type": "display_data"
    }
   ],
   "source": [
    "cor_results_df <- read_tsv(paste0(dirs$analysis_dir, \"/feature_selection/\", unified_dsets[dset_idx], \"_cor_results.tsv\"))\n",
    "\n",
    "# filtered_cor_results_df <- cor_results_df %>% dplyr::filter(pval < p_thresh)\n",
    "# filtered_cor_results_df <- cor_results_df %>% dplyr::filter(padj < p_thresh)\n",
    "filtered_cor_results_df <- cor_results_df %>% dplyr::filter(qval < p_thresh)\n",
    "\n",
    "n_cor <- nrow(filtered_cor_results_df)\n",
    "n_cor_down <- nrow(filtered_cor_results_df %>% dplyr::filter(cor < 0))\n",
    "n_cor_up <- nrow(filtered_cor_results_df %>% dplyr::filter(cor > 0))\n",
    "\n",
    "paste0(\"Cor. genes: \", n_cor)\n",
    "paste0(\"Neg. cor. genes: \", n_cor_down)\n",
    "paste0(\"Pos. cor. genes: \", n_cor_up)"
   ]
  },
  {
   "cell_type": "markdown",
   "metadata": {},
   "source": [
    "## MI analysis"
   ]
  },
  {
   "cell_type": "code",
   "execution_count": null,
   "metadata": {},
   "outputs": [],
   "source": [
    "mi_survival_results_df <- read_tsv(paste0(dirs$analysis_dir, \"/\", unified_dsets[dset_idx], \"_MI_survival_results.tsv\"))\n",
    "filtered_mi_survival_results_df <- mi_survival_results_df %>% dplyr::filter(MI_est_median > mi_thresh)\n",
    "\n",
    "n_mi <- nrow(filtered_mi_survival_results_df)\n",
    "\n",
    "paste0(\"MI: \", n_mi)"
   ]
  },
  {
   "cell_type": "markdown",
   "metadata": {},
   "source": [
    "## Baselines"
   ]
  },
  {
   "cell_type": "code",
   "execution_count": null,
   "metadata": {},
   "outputs": [],
   "source": [
    "reg_baselines_df <- read_tsv(paste0(dirs$analysis_dir, \"/meta/\", \"reg_baselines.tsv\"))\n",
    "mae_baseline = (reg_baselines_df %>% filter(dataset == unified_dsets[dset_idx]))$L1\n",
    "ev_baseline = (reg_baselines_df %>% filter(dataset == unified_dsets[dset_idx]))$explained_variance\n",
    "paste0(\"MAE baseline: \", mae_baseline)\n",
    "paste0(\"EV baseline: \", ev_baseline)"
   ]
  },
  {
   "cell_type": "code",
   "execution_count": null,
   "metadata": {},
   "outputs": [],
   "source": [
    "reg_baselines_df"
   ]
  },
  {
   "cell_type": "markdown",
   "metadata": {},
   "source": [
    "# Classification"
   ]
  },
  {
   "cell_type": "markdown",
   "metadata": {},
   "source": [
    "## Anova analysis"
   ]
  },
  {
   "cell_type": "code",
   "execution_count": 12,
   "metadata": {},
   "outputs": [
    {
     "name": "stderr",
     "output_type": "stream",
     "text": [
      "Parsed with column specification:\n",
      "cols(\n",
      "  geneID = col_character(),\n",
      "  pval = col_double(),\n",
      "  padj = col_double(),\n",
      "  qval = col_double()\n",
      ")\n"
     ]
    },
    {
     "data": {
      "text/html": [
       "'Sig. ANOVA: 3'"
      ],
      "text/latex": [
       "'Sig. ANOVA: 3'"
      ],
      "text/markdown": [
       "'Sig. ANOVA: 3'"
      ],
      "text/plain": [
       "[1] \"Sig. ANOVA: 3\""
      ]
     },
     "metadata": {},
     "output_type": "display_data"
    }
   ],
   "source": [
    "welch_anova_results_df <- read_tsv(paste0(dirs$analysis_dir, \"/feature_selection/\", unified_dsets[dset_idx], \"_welch_anova_results.tsv\"))\n",
    "# filtered_welch_anova_results_df <- welch_anova_results_df %>% dplyr::filter(padj < p_thresh)\n",
    "filtered_welch_anova_results_df <- welch_anova_results_df %>% dplyr::filter(qval < p_thresh)\n",
    "\n",
    "n_sig <- nrow(filtered_welch_anova_results_df)\n",
    "\n",
    "paste0(\"Sig. ANOVA: \", n_sig)"
   ]
  },
  {
   "cell_type": "markdown",
   "metadata": {},
   "source": [
    "## MI analysis"
   ]
  },
  {
   "cell_type": "code",
   "execution_count": null,
   "metadata": {},
   "outputs": [],
   "source": [
    "mi_figo_results_df <- read_tsv(paste0(dirs$analysis_dir, \"/\", unified_dsets[dset_idx], \"_MI_figo_results.tsv\"))\n",
    "filtered_mi_figo_results_df <- mi_figo_results_df %>% dplyr::filter(MI_est_median > mi_thresh)\n",
    "\n",
    "n_mi <- nrow(filtered_mi_figo_results_df)\n",
    "\n",
    "paste0(\"MI: \", n_mi)"
   ]
  },
  {
   "cell_type": "markdown",
   "metadata": {},
   "source": [
    "## Baselines"
   ]
  },
  {
   "cell_type": "code",
   "execution_count": null,
   "metadata": {},
   "outputs": [],
   "source": [
    "cls_baselines_df <- read_tsv(paste0(dirs$analysis_dir, \"/meta/\", \"cls_baselines.tsv\"))\n",
    "cls_baselines_df\n",
    "f1_macro_majority_baseline <- (cls_baselines_df %>% filter(dataset == unified_dsets[dset_idx]))$f1_macro_majority\n",
    "f1_macro_MC_baseline <- (cls_baselines_df %>% filter(dataset == unified_dsets[dset_idx]))$f1_macro_MC\n",
    "\n",
    "\n",
    "paste0(\"F1 macro (majority guess) baseline: \", f1_macro_majority_baseline)\n",
    "paste0(\"F1 macro (Monte Carlo) baseline: \", f1_macro_MC_baseline)"
   ]
  },
  {
   "cell_type": "markdown",
   "metadata": {},
   "source": [
    "## GBC"
   ]
  },
  {
   "cell_type": "code",
   "execution_count": null,
   "metadata": {},
   "outputs": [],
   "source": [
    "f1_gbc_scores_df <- read_tsv(paste0(dirs$analysis_dir, \"/\", unified_dsets[dset_idx], \"_gbc_ref_scores.tsv\"))\n",
    "f1_gbc_results_df <- read_tsv(paste0(dirs$analysis_dir, \"/\", unified_dsets[dset_idx], \"_gbc_results.tsv\"))\n",
    "f1_gbc_results_df <- get_consensus_col(f1_gbc_results_df, n = consensus_n, thresh = consensus_thresh)\n",
    "f1_gbc_scores_df\n",
    "\n",
    "f1_gbc_avg <- mean(f1_gbc_scores_df$ref_score)\n",
    "f1_gbc_imp <- f1_gbc_avg > f1_macro_MC_baseline\n",
    "f1_gbc_baseline_pct_imp <- (f1_gbc_avg - f1_macro_MC_baseline) / f1_macro_MC_baseline\n",
    "n_f1_gbc_consensus_genes <- nrow(f1_gbc_results_df %>% dplyr::filter(consensus == TRUE))\n",
    "\n",
    "paste0(\"GBC F1 avg.: \", f1_gbc_avg)\n",
    "paste0(\"GBC F1 impr. over baseline: \", f1_gbc_imp)\n",
    "paste0(\"GBC F1 pct. impr. over baseline: \", f1_gbc_baseline_pct_imp)\n",
    "paste0(\"GBC F1 consensus genes: \", n_f1_gbc_consensus_genes)"
   ]
  },
  {
   "cell_type": "markdown",
   "metadata": {},
   "source": [
    "## LR (L1)"
   ]
  },
  {
   "cell_type": "code",
   "execution_count": null,
   "metadata": {},
   "outputs": [],
   "source": [
    "f1_l1_lr_scores_df <- read_tsv(paste0(dirs$analysis_dir, \"/\", unified_dsets[dset_idx], \"_l1_lr_ref_scores.tsv\"))\n",
    "f1_l1_lr_results_df <- read_tsv(paste0(dirs$analysis_dir, \"/\", unified_dsets[dset_idx], \"_l1_lr_results.tsv\"))\n",
    "f1_l1_lr_results_df <- get_consensus_col(f1_l1_lr_results_df, n = consensus_n, thresh = consensus_thresh)\n",
    "f1_l1_lr_scores_df\n",
    "\n",
    "f1_l1_lr_avg <- mean(f1_l1_lr_scores_df$ref_score)\n",
    "f1_l1_lr_imp <- f1_l1_lr_avg > f1_macro_MC_baseline\n",
    "f1_l1_lr_pct_imp <- (f1_l1_lr_avg - f1_macro_MC_baseline) / f1_macro_MC_baseline\n",
    "n_f1_l1_lr_consensus_genes <- nrow(f1_l1_lr_results_df %>% dplyr::filter(consensus == TRUE))\n",
    "\n",
    "paste0(\"LR L1 F1 avg.: \", f1_l1_lr_avg)\n",
    "paste0(\"LR L1 F1 impr. over baseline: \", f1_l1_lr_imp)\n",
    "paste0(\"LR L1 F1 pct. impr. over baseline: \", f1_l1_lr_pct_imp)\n",
    "paste0(\"LR L1 F1 consensus genes: \", n_f1_l1_lr_consensus_genes)"
   ]
  },
  {
   "cell_type": "code",
   "execution_count": null,
   "metadata": {},
   "outputs": [],
   "source": []
  }
 ],
 "metadata": {
  "kernelspec": {
   "display_name": "R",
   "language": "R",
   "name": "ir"
  },
  "language_info": {
   "codemirror_mode": "r",
   "file_extension": ".r",
   "mimetype": "text/x-r-source",
   "name": "R",
   "pygments_lexer": "r",
   "version": "3.6.3"
  }
 },
 "nbformat": 4,
 "nbformat_minor": 4
}
