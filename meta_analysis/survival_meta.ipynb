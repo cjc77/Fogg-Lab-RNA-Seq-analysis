{
 "cells": [
  {
   "cell_type": "code",
   "execution_count": 1,
   "id": "assured-specific",
   "metadata": {},
   "outputs": [
    {
     "name": "stderr",
     "output_type": "stream",
     "text": [
      "-- \u001b[1mAttaching packages\u001b[22m ------------------------------------------------------------------------------------------------------- tidyverse 1.3.0 --\n",
      "\n",
      "\u001b[32mv\u001b[39m \u001b[34mggplot2\u001b[39m 3.3.3     \u001b[32mv\u001b[39m \u001b[34mpurrr  \u001b[39m 0.3.4\n",
      "\u001b[32mv\u001b[39m \u001b[34mtibble \u001b[39m 3.0.6     \u001b[32mv\u001b[39m \u001b[34mdplyr  \u001b[39m 1.0.4\n",
      "\u001b[32mv\u001b[39m \u001b[34mtidyr  \u001b[39m 1.1.2     \u001b[32mv\u001b[39m \u001b[34mstringr\u001b[39m 1.4.0\n",
      "\u001b[32mv\u001b[39m \u001b[34mreadr  \u001b[39m 1.4.0     \u001b[32mv\u001b[39m \u001b[34mforcats\u001b[39m 0.5.1\n",
      "\n",
      "-- \u001b[1mConflicts\u001b[22m ---------------------------------------------------------------------------------------------------------- tidyverse_conflicts() --\n",
      "\u001b[31mx\u001b[39m \u001b[34mdplyr\u001b[39m::\u001b[32mfilter()\u001b[39m masks \u001b[34mstats\u001b[39m::filter()\n",
      "\u001b[31mx\u001b[39m \u001b[34mdplyr\u001b[39m::\u001b[32mlag()\u001b[39m    masks \u001b[34mstats\u001b[39m::lag()\n",
      "\n"
     ]
    }
   ],
   "source": [
    "library(tidyverse)\n",
    "\n",
    "# Custom package\n",
    "library(rutils)"
   ]
  },
  {
   "cell_type": "code",
   "execution_count": 2,
   "id": "incomplete-minutes",
   "metadata": {},
   "outputs": [],
   "source": [
    "dirs <- rutils::get_dev_directories(dev_paths_file = \"../dev_paths.txt\")\n",
    "unified_dsets <- c(\"unified_cervical_data\", \"unified_uterine_data\", \"unified_uterine_endometrial_data\")"
   ]
  },
  {
   "cell_type": "code",
   "execution_count": 3,
   "id": "nonprofit-mauritius",
   "metadata": {},
   "outputs": [],
   "source": [
    "dset_idx <- 3"
   ]
  },
  {
   "cell_type": "code",
   "execution_count": 4,
   "id": "fifth-embassy",
   "metadata": {},
   "outputs": [],
   "source": [
    "p_thresh <- 0.05\n",
    "q_thresh <- 0.15"
   ]
  },
  {
   "cell_type": "code",
   "execution_count": 5,
   "id": "coastal-stress",
   "metadata": {},
   "outputs": [
    {
     "name": "stderr",
     "output_type": "stream",
     "text": [
      "\n",
      "\u001b[36m--\u001b[39m \u001b[1m\u001b[1mColumn specification\u001b[1m\u001b[22m \u001b[36m------------------------------------------------------------------------------------------------------------------------\u001b[39m\n",
      "cols(\n",
      "  geneID = \u001b[31mcol_character()\u001b[39m,\n",
      "  km_pval = \u001b[32mcol_double()\u001b[39m,\n",
      "  km_qval = \u001b[32mcol_double()\u001b[39m,\n",
      "  cph_pval = \u001b[32mcol_double()\u001b[39m,\n",
      "  cph_qval = \u001b[32mcol_double()\u001b[39m,\n",
      "  coeff = \u001b[32mcol_double()\u001b[39m\n",
      ")\n",
      "\n",
      "\n",
      "\n",
      "\u001b[36m--\u001b[39m \u001b[1m\u001b[1mColumn specification\u001b[1m\u001b[22m \u001b[36m------------------------------------------------------------------------------------------------------------------------\u001b[39m\n",
      "cols(\n",
      "  geneID = \u001b[31mcol_character()\u001b[39m,\n",
      "  coeff = \u001b[32mcol_double()\u001b[39m\n",
      ")\n",
      "\n",
      "\n",
      "\n",
      "\u001b[36m--\u001b[39m \u001b[1m\u001b[1mColumn specification\u001b[1m\u001b[22m \u001b[36m------------------------------------------------------------------------------------------------------------------------\u001b[39m\n",
      "cols(\n",
      "  .default = col_double(),\n",
      "  geneID = \u001b[31mcol_character()\u001b[39m,\n",
      "  module = \u001b[31mcol_character()\u001b[39m\n",
      ")\n",
      "\u001b[36mi\u001b[39m Use \u001b[30m\u001b[47m\u001b[30m\u001b[47m`spec()`\u001b[47m\u001b[30m\u001b[49m\u001b[39m for the full column specifications.\n",
      "\n",
      "\n",
      "\n",
      "\u001b[36m--\u001b[39m \u001b[1m\u001b[1mColumn specification\u001b[1m\u001b[22m \u001b[36m------------------------------------------------------------------------------------------------------------------------\u001b[39m\n",
      "cols(\n",
      "  module = \u001b[31mcol_character()\u001b[39m,\n",
      "  figo_stage_1_cor = \u001b[32mcol_double()\u001b[39m,\n",
      "  figo_stage_2_cor = \u001b[32mcol_double()\u001b[39m,\n",
      "  figo_stage_3_cor = \u001b[32mcol_double()\u001b[39m,\n",
      "  figo_stage_4_cor = \u001b[32mcol_double()\u001b[39m,\n",
      "  figo_stage_1_pval = \u001b[32mcol_double()\u001b[39m,\n",
      "  figo_stage_2_pval = \u001b[32mcol_double()\u001b[39m,\n",
      "  figo_stage_3_pval = \u001b[32mcol_double()\u001b[39m,\n",
      "  figo_stage_4_pval = \u001b[32mcol_double()\u001b[39m,\n",
      "  figo_stage_1_qval = \u001b[32mcol_double()\u001b[39m,\n",
      "  figo_stage_2_qval = \u001b[32mcol_double()\u001b[39m,\n",
      "  figo_stage_3_qval = \u001b[32mcol_double()\u001b[39m,\n",
      "  figo_stage_4_qval = \u001b[32mcol_double()\u001b[39m,\n",
      "  vital_hr = \u001b[32mcol_double()\u001b[39m,\n",
      "  vital_dev_cor = \u001b[32mcol_double()\u001b[39m,\n",
      "  vital_pval = \u001b[32mcol_double()\u001b[39m,\n",
      "  vital_qval = \u001b[32mcol_double()\u001b[39m\n",
      ")\n",
      "\n",
      "\n"
     ]
    }
   ],
   "source": [
    "univ_surv_df <- read_tsv(paste0(dirs$analysis_dir, \"/survival/\", unified_dsets[dset_idx], \"_univ_survival_results.tsv\"))\n",
    "en_cph_df <- read_tsv(paste0(dirs$analysis_dir, \"/survival/\", unified_dsets[dset_idx], \"_en_cph_results.tsv\"))\n",
    "network_mm_gs_df <- read_tsv(paste0(dirs$analysis_dir, \"/network/\", unified_dsets[dset_idx], \"_gene_mm_gs.tsv\"))\n",
    "network_me_sig_df <- read_tsv(paste0(dirs$analysis_dir, \"/network/\", unified_dsets[dset_idx], \"_eigengene_traits.tsv\"))"
   ]
  },
  {
   "cell_type": "markdown",
   "id": "acquired-outdoors",
   "metadata": {},
   "source": [
    "# Univariate Survival"
   ]
  },
  {
   "cell_type": "code",
   "execution_count": 6,
   "id": "instant-checklist",
   "metadata": {},
   "outputs": [
    {
     "data": {
      "text/html": [
       "<table class=\"dataframe\">\n",
       "<caption>A spec_tbl_df: 4 × 6</caption>\n",
       "<thead>\n",
       "\t<tr><th scope=col>geneID</th><th scope=col>km_pval</th><th scope=col>km_qval</th><th scope=col>cph_pval</th><th scope=col>cph_qval</th><th scope=col>coeff</th></tr>\n",
       "\t<tr><th scope=col>&lt;chr&gt;</th><th scope=col>&lt;dbl&gt;</th><th scope=col>&lt;dbl&gt;</th><th scope=col>&lt;dbl&gt;</th><th scope=col>&lt;dbl&gt;</th><th scope=col>&lt;dbl&gt;</th></tr>\n",
       "</thead>\n",
       "<tbody>\n",
       "\t<tr><td>REG3A   </td><td>0.04881854</td><td>0.3317609</td><td>0.007443063</td><td>0.1431721</td><td>-49.7966701</td></tr>\n",
       "\t<tr><td>ANGPTL2 </td><td>0.01642883</td><td>0.2977253</td><td>0.003721132</td><td>0.1431721</td><td>  0.7207592</td></tr>\n",
       "\t<tr><td>SERPIND1</td><td>0.13594952</td><td>0.4568378</td><td>0.012989630</td><td>0.1431721</td><td> -0.8798543</td></tr>\n",
       "\t<tr><td>COL5A3  </td><td>0.04284721</td><td>0.3317609</td><td>0.012346876</td><td>0.1431721</td><td>  0.4652507</td></tr>\n",
       "</tbody>\n",
       "</table>\n"
      ],
      "text/latex": [
       "A spec\\_tbl\\_df: 4 × 6\n",
       "\\begin{tabular}{llllll}\n",
       " geneID & km\\_pval & km\\_qval & cph\\_pval & cph\\_qval & coeff\\\\\n",
       " <chr> & <dbl> & <dbl> & <dbl> & <dbl> & <dbl>\\\\\n",
       "\\hline\n",
       "\t REG3A    & 0.04881854 & 0.3317609 & 0.007443063 & 0.1431721 & -49.7966701\\\\\n",
       "\t ANGPTL2  & 0.01642883 & 0.2977253 & 0.003721132 & 0.1431721 &   0.7207592\\\\\n",
       "\t SERPIND1 & 0.13594952 & 0.4568378 & 0.012989630 & 0.1431721 &  -0.8798543\\\\\n",
       "\t COL5A3   & 0.04284721 & 0.3317609 & 0.012346876 & 0.1431721 &   0.4652507\\\\\n",
       "\\end{tabular}\n"
      ],
      "text/markdown": [
       "\n",
       "A spec_tbl_df: 4 × 6\n",
       "\n",
       "| geneID &lt;chr&gt; | km_pval &lt;dbl&gt; | km_qval &lt;dbl&gt; | cph_pval &lt;dbl&gt; | cph_qval &lt;dbl&gt; | coeff &lt;dbl&gt; |\n",
       "|---|---|---|---|---|---|\n",
       "| REG3A    | 0.04881854 | 0.3317609 | 0.007443063 | 0.1431721 | -49.7966701 |\n",
       "| ANGPTL2  | 0.01642883 | 0.2977253 | 0.003721132 | 0.1431721 |   0.7207592 |\n",
       "| SERPIND1 | 0.13594952 | 0.4568378 | 0.012989630 | 0.1431721 |  -0.8798543 |\n",
       "| COL5A3   | 0.04284721 | 0.3317609 | 0.012346876 | 0.1431721 |   0.4652507 |\n",
       "\n"
      ],
      "text/plain": [
       "  geneID   km_pval    km_qval   cph_pval    cph_qval  coeff      \n",
       "1 REG3A    0.04881854 0.3317609 0.007443063 0.1431721 -49.7966701\n",
       "2 ANGPTL2  0.01642883 0.2977253 0.003721132 0.1431721   0.7207592\n",
       "3 SERPIND1 0.13594952 0.4568378 0.012989630 0.1431721  -0.8798543\n",
       "4 COL5A3   0.04284721 0.3317609 0.012346876 0.1431721   0.4652507"
      ]
     },
     "metadata": {},
     "output_type": "display_data"
    }
   ],
   "source": [
    "sig_univ_df <- univ_surv_df %>%\n",
    "    dplyr::filter(km_pval < p_thresh | cph_pval < p_thresh) %>%\n",
    "    dplyr::filter(km_qval < q_thresh | cph_qval < q_thresh)\n",
    "sig_univ_df"
   ]
  },
  {
   "cell_type": "markdown",
   "id": "ideal-boulder",
   "metadata": {},
   "source": [
    "# Cox PH EN"
   ]
  },
  {
   "cell_type": "code",
   "execution_count": 7,
   "id": "egyptian-press",
   "metadata": {},
   "outputs": [
    {
     "data": {
      "text/html": [
       "<table class=\"dataframe\">\n",
       "<caption>A spec_tbl_df: 11 × 2</caption>\n",
       "<thead>\n",
       "\t<tr><th scope=col>geneID</th><th scope=col>coeff</th></tr>\n",
       "\t<tr><th scope=col>&lt;chr&gt;</th><th scope=col>&lt;dbl&gt;</th></tr>\n",
       "</thead>\n",
       "<tbody>\n",
       "\t<tr><td>TGM5    </td><td> 0.027480124</td></tr>\n",
       "\t<tr><td>PCOLCE2 </td><td> 0.009700858</td></tr>\n",
       "\t<tr><td>COL6A5  </td><td> 0.117991338</td></tr>\n",
       "\t<tr><td>TNFSF11 </td><td>-0.041883856</td></tr>\n",
       "\t<tr><td>ANGPTL2 </td><td> 0.136867375</td></tr>\n",
       "\t<tr><td>SERPIND1</td><td>-0.006672967</td></tr>\n",
       "\t<tr><td>LGI2    </td><td> 0.020502491</td></tr>\n",
       "\t<tr><td>FGF19   </td><td>-0.022298708</td></tr>\n",
       "\t<tr><td>CBLN3   </td><td> 0.007024268</td></tr>\n",
       "\t<tr><td>COL5A3  </td><td> 0.136411073</td></tr>\n",
       "\t<tr><td>CST6    </td><td> 0.008939942</td></tr>\n",
       "</tbody>\n",
       "</table>\n"
      ],
      "text/latex": [
       "A spec\\_tbl\\_df: 11 × 2\n",
       "\\begin{tabular}{ll}\n",
       " geneID & coeff\\\\\n",
       " <chr> & <dbl>\\\\\n",
       "\\hline\n",
       "\t TGM5     &  0.027480124\\\\\n",
       "\t PCOLCE2  &  0.009700858\\\\\n",
       "\t COL6A5   &  0.117991338\\\\\n",
       "\t TNFSF11  & -0.041883856\\\\\n",
       "\t ANGPTL2  &  0.136867375\\\\\n",
       "\t SERPIND1 & -0.006672967\\\\\n",
       "\t LGI2     &  0.020502491\\\\\n",
       "\t FGF19    & -0.022298708\\\\\n",
       "\t CBLN3    &  0.007024268\\\\\n",
       "\t COL5A3   &  0.136411073\\\\\n",
       "\t CST6     &  0.008939942\\\\\n",
       "\\end{tabular}\n"
      ],
      "text/markdown": [
       "\n",
       "A spec_tbl_df: 11 × 2\n",
       "\n",
       "| geneID &lt;chr&gt; | coeff &lt;dbl&gt; |\n",
       "|---|---|\n",
       "| TGM5     |  0.027480124 |\n",
       "| PCOLCE2  |  0.009700858 |\n",
       "| COL6A5   |  0.117991338 |\n",
       "| TNFSF11  | -0.041883856 |\n",
       "| ANGPTL2  |  0.136867375 |\n",
       "| SERPIND1 | -0.006672967 |\n",
       "| LGI2     |  0.020502491 |\n",
       "| FGF19    | -0.022298708 |\n",
       "| CBLN3    |  0.007024268 |\n",
       "| COL5A3   |  0.136411073 |\n",
       "| CST6     |  0.008939942 |\n",
       "\n"
      ],
      "text/plain": [
       "   geneID   coeff       \n",
       "1  TGM5      0.027480124\n",
       "2  PCOLCE2   0.009700858\n",
       "3  COL6A5    0.117991338\n",
       "4  TNFSF11  -0.041883856\n",
       "5  ANGPTL2   0.136867375\n",
       "6  SERPIND1 -0.006672967\n",
       "7  LGI2      0.020502491\n",
       "8  FGF19    -0.022298708\n",
       "9  CBLN3     0.007024268\n",
       "10 COL5A3    0.136411073\n",
       "11 CST6      0.008939942"
      ]
     },
     "metadata": {},
     "output_type": "display_data"
    }
   ],
   "source": [
    "en_cph_df"
   ]
  },
  {
   "cell_type": "markdown",
   "id": "russian-shirt",
   "metadata": {},
   "source": [
    "# Joined data"
   ]
  },
  {
   "cell_type": "code",
   "execution_count": 8,
   "id": "binding-scale",
   "metadata": {},
   "outputs": [],
   "source": [
    "univ_joined_df <- network_mm_gs_df %>%\n",
    "    dplyr::filter(geneID %in% (sig_univ_df %>% pull(geneID))) %>%\n",
    "    dplyr::select(geneID, module, mm_cor, mm_pval) %>%\n",
    "    inner_join(network_me_sig_df, by = \"module\") %>%\n",
    "    condense_figo(include_pvals = TRUE)\n",
    "\n",
    "en_joined_df <- network_mm_gs_df %>%\n",
    "    dplyr::filter(geneID %in% (en_cph_df %>% pull(geneID))) %>%\n",
    "    dplyr::select(geneID, module, mm_cor, mm_pval) %>%\n",
    "    inner_join(network_me_sig_df, by = \"module\") %>%\n",
    "    condense_figo(include_pvals = TRUE)"
   ]
  },
  {
   "cell_type": "code",
   "execution_count": 9,
   "id": "theoretical-concentrate",
   "metadata": {},
   "outputs": [
    {
     "data": {
      "text/html": [
       "<table class=\"dataframe\">\n",
       "<caption>A tibble: 4 × 11</caption>\n",
       "<thead>\n",
       "\t<tr><th scope=col>geneID</th><th scope=col>module</th><th scope=col>mm_cor</th><th scope=col>mm_pval</th><th scope=col>vital_hr</th><th scope=col>vital_dev_cor</th><th scope=col>vital_pval</th><th scope=col>vital_qval</th><th scope=col>figo_min_pval</th><th scope=col>figo_min_qval</th><th scope=col>figo_max_cor</th></tr>\n",
       "\t<tr><th scope=col>&lt;chr&gt;</th><th scope=col>&lt;chr&gt;</th><th scope=col>&lt;dbl&gt;</th><th scope=col>&lt;dbl&gt;</th><th scope=col>&lt;dbl&gt;</th><th scope=col>&lt;dbl&gt;</th><th scope=col>&lt;dbl&gt;</th><th scope=col>&lt;dbl&gt;</th><th scope=col>&lt;dbl&gt;</th><th scope=col>&lt;dbl&gt;</th><th scope=col>&lt;dbl&gt;</th></tr>\n",
       "</thead>\n",
       "<tbody>\n",
       "\t<tr><td>ANGPTL2 </td><td>turquoise</td><td>0.60598832</td><td>2.696626e-15</td><td>15.210746</td><td>0.10260576</td><td>0.2527572</td><td>0.7891011</td><td>0.03665683</td><td>0.06840227</td><td>0.12743211</td></tr>\n",
       "\t<tr><td>SERPIND1</td><td>brown    </td><td>0.12339366</td><td>1.478439e-01</td><td> 3.874555</td><td>0.03686686</td><td>0.5880984</td><td>0.7891011</td><td>0.26831026</td><td>0.11996150</td><td>0.07632176</td></tr>\n",
       "\t<tr><td>COL5A3  </td><td>turquoise</td><td>0.49531043</td><td>5.689026e-10</td><td>15.210746</td><td>0.10260576</td><td>0.2527572</td><td>0.7891011</td><td>0.03665683</td><td>0.06840227</td><td>0.12743211</td></tr>\n",
       "\t<tr><td>REG3A   </td><td>brown    </td><td>0.01252468</td><td>8.836561e-01</td><td> 3.874555</td><td>0.03686686</td><td>0.5880984</td><td>0.7891011</td><td>0.26831026</td><td>0.11996150</td><td>0.07632176</td></tr>\n",
       "</tbody>\n",
       "</table>\n"
      ],
      "text/latex": [
       "A tibble: 4 × 11\n",
       "\\begin{tabular}{lllllllllll}\n",
       " geneID & module & mm\\_cor & mm\\_pval & vital\\_hr & vital\\_dev\\_cor & vital\\_pval & vital\\_qval & figo\\_min\\_pval & figo\\_min\\_qval & figo\\_max\\_cor\\\\\n",
       " <chr> & <chr> & <dbl> & <dbl> & <dbl> & <dbl> & <dbl> & <dbl> & <dbl> & <dbl> & <dbl>\\\\\n",
       "\\hline\n",
       "\t ANGPTL2  & turquoise & 0.60598832 & 2.696626e-15 & 15.210746 & 0.10260576 & 0.2527572 & 0.7891011 & 0.03665683 & 0.06840227 & 0.12743211\\\\\n",
       "\t SERPIND1 & brown     & 0.12339366 & 1.478439e-01 &  3.874555 & 0.03686686 & 0.5880984 & 0.7891011 & 0.26831026 & 0.11996150 & 0.07632176\\\\\n",
       "\t COL5A3   & turquoise & 0.49531043 & 5.689026e-10 & 15.210746 & 0.10260576 & 0.2527572 & 0.7891011 & 0.03665683 & 0.06840227 & 0.12743211\\\\\n",
       "\t REG3A    & brown     & 0.01252468 & 8.836561e-01 &  3.874555 & 0.03686686 & 0.5880984 & 0.7891011 & 0.26831026 & 0.11996150 & 0.07632176\\\\\n",
       "\\end{tabular}\n"
      ],
      "text/markdown": [
       "\n",
       "A tibble: 4 × 11\n",
       "\n",
       "| geneID &lt;chr&gt; | module &lt;chr&gt; | mm_cor &lt;dbl&gt; | mm_pval &lt;dbl&gt; | vital_hr &lt;dbl&gt; | vital_dev_cor &lt;dbl&gt; | vital_pval &lt;dbl&gt; | vital_qval &lt;dbl&gt; | figo_min_pval &lt;dbl&gt; | figo_min_qval &lt;dbl&gt; | figo_max_cor &lt;dbl&gt; |\n",
       "|---|---|---|---|---|---|---|---|---|---|---|\n",
       "| ANGPTL2  | turquoise | 0.60598832 | 2.696626e-15 | 15.210746 | 0.10260576 | 0.2527572 | 0.7891011 | 0.03665683 | 0.06840227 | 0.12743211 |\n",
       "| SERPIND1 | brown     | 0.12339366 | 1.478439e-01 |  3.874555 | 0.03686686 | 0.5880984 | 0.7891011 | 0.26831026 | 0.11996150 | 0.07632176 |\n",
       "| COL5A3   | turquoise | 0.49531043 | 5.689026e-10 | 15.210746 | 0.10260576 | 0.2527572 | 0.7891011 | 0.03665683 | 0.06840227 | 0.12743211 |\n",
       "| REG3A    | brown     | 0.01252468 | 8.836561e-01 |  3.874555 | 0.03686686 | 0.5880984 | 0.7891011 | 0.26831026 | 0.11996150 | 0.07632176 |\n",
       "\n"
      ],
      "text/plain": [
       "  geneID   module    mm_cor     mm_pval      vital_hr  vital_dev_cor vital_pval\n",
       "1 ANGPTL2  turquoise 0.60598832 2.696626e-15 15.210746 0.10260576    0.2527572 \n",
       "2 SERPIND1 brown     0.12339366 1.478439e-01  3.874555 0.03686686    0.5880984 \n",
       "3 COL5A3   turquoise 0.49531043 5.689026e-10 15.210746 0.10260576    0.2527572 \n",
       "4 REG3A    brown     0.01252468 8.836561e-01  3.874555 0.03686686    0.5880984 \n",
       "  vital_qval figo_min_pval figo_min_qval figo_max_cor\n",
       "1 0.7891011  0.03665683    0.06840227    0.12743211  \n",
       "2 0.7891011  0.26831026    0.11996150    0.07632176  \n",
       "3 0.7891011  0.03665683    0.06840227    0.12743211  \n",
       "4 0.7891011  0.26831026    0.11996150    0.07632176  "
      ]
     },
     "metadata": {},
     "output_type": "display_data"
    },
    {
     "data": {
      "text/html": [
       "<table class=\"dataframe\">\n",
       "<caption>A tibble: 11 × 11</caption>\n",
       "<thead>\n",
       "\t<tr><th scope=col>geneID</th><th scope=col>module</th><th scope=col>mm_cor</th><th scope=col>mm_pval</th><th scope=col>vital_hr</th><th scope=col>vital_dev_cor</th><th scope=col>vital_pval</th><th scope=col>vital_qval</th><th scope=col>figo_min_pval</th><th scope=col>figo_min_qval</th><th scope=col>figo_max_cor</th></tr>\n",
       "\t<tr><th scope=col>&lt;chr&gt;</th><th scope=col>&lt;chr&gt;</th><th scope=col>&lt;dbl&gt;</th><th scope=col>&lt;dbl&gt;</th><th scope=col>&lt;dbl&gt;</th><th scope=col>&lt;dbl&gt;</th><th scope=col>&lt;dbl&gt;</th><th scope=col>&lt;dbl&gt;</th><th scope=col>&lt;dbl&gt;</th><th scope=col>&lt;dbl&gt;</th><th scope=col>&lt;dbl&gt;</th></tr>\n",
       "</thead>\n",
       "<tbody>\n",
       "\t<tr><td>ANGPTL2 </td><td>turquoise</td><td> 0.60598832</td><td>2.696626e-15</td><td>15.210745749</td><td> 0.10260576</td><td>0.2527572</td><td>0.7891011</td><td>0.036656830</td><td>0.06840227</td><td>0.12743211</td></tr>\n",
       "\t<tr><td>SERPIND1</td><td>brown    </td><td> 0.12339366</td><td>1.478439e-01</td><td> 3.874555059</td><td> 0.03686686</td><td>0.5880984</td><td>0.7891011</td><td>0.268310259</td><td>0.11996150</td><td>0.07632176</td></tr>\n",
       "\t<tr><td>CBLN3   </td><td>black    </td><td>-0.04606288</td><td>5.902629e-01</td><td>14.764553299</td><td> 0.12032337</td><td>0.2357867</td><td>0.7891011</td><td>0.006693521</td><td>0.02574670</td><td>0.22680162</td></tr>\n",
       "\t<tr><td>LGI2    </td><td>black    </td><td> 0.40479340</td><td>7.709714e-07</td><td>14.764553299</td><td> 0.12032337</td><td>0.2357867</td><td>0.7891011</td><td>0.006693521</td><td>0.02574670</td><td>0.22680162</td></tr>\n",
       "\t<tr><td>COL5A3  </td><td>turquoise</td><td> 0.49531043</td><td>5.689026e-10</td><td>15.210745749</td><td> 0.10260576</td><td>0.2527572</td><td>0.7891011</td><td>0.036656830</td><td>0.06840227</td><td>0.12743211</td></tr>\n",
       "\t<tr><td>TGM5    </td><td>red      </td><td> 0.01403149</td><td>8.697760e-01</td><td> 0.870808814</td><td>-0.01165428</td><td>0.9518628</td><td>0.9921280</td><td>0.060059827</td><td>0.09883772</td><td>0.15990569</td></tr>\n",
       "\t<tr><td>PCOLCE2 </td><td>black    </td><td> 0.16359886</td><td>5.430815e-02</td><td>14.764553299</td><td> 0.12032337</td><td>0.2357867</td><td>0.7891011</td><td>0.006693521</td><td>0.02574670</td><td>0.22680162</td></tr>\n",
       "\t<tr><td>COL6A5  </td><td>turquoise</td><td> 0.24895786</td><td>3.123223e-03</td><td>15.210745749</td><td> 0.10260576</td><td>0.2527572</td><td>0.7891011</td><td>0.036656830</td><td>0.06840227</td><td>0.12743211</td></tr>\n",
       "\t<tr><td>TNFSF11 </td><td>turquoise</td><td> 0.23961095</td><td>4.497676e-03</td><td>15.210745749</td><td> 0.10260576</td><td>0.2527572</td><td>0.7891011</td><td>0.036656830</td><td>0.06840227</td><td>0.12743211</td></tr>\n",
       "\t<tr><td>CST6    </td><td>red      </td><td> 0.10161756</td><td>2.339212e-01</td><td> 0.870808814</td><td>-0.01165428</td><td>0.9518628</td><td>0.9921280</td><td>0.060059827</td><td>0.09883772</td><td>0.15990569</td></tr>\n",
       "\t<tr><td>FGF19   </td><td>magenta  </td><td> 0.19099593</td><td>2.430647e-02</td><td> 0.004460693</td><td>-0.11455611</td><td>0.1308341</td><td>0.7891011</td><td>0.210126502</td><td>0.17514164</td><td>0.10695718</td></tr>\n",
       "</tbody>\n",
       "</table>\n"
      ],
      "text/latex": [
       "A tibble: 11 × 11\n",
       "\\begin{tabular}{lllllllllll}\n",
       " geneID & module & mm\\_cor & mm\\_pval & vital\\_hr & vital\\_dev\\_cor & vital\\_pval & vital\\_qval & figo\\_min\\_pval & figo\\_min\\_qval & figo\\_max\\_cor\\\\\n",
       " <chr> & <chr> & <dbl> & <dbl> & <dbl> & <dbl> & <dbl> & <dbl> & <dbl> & <dbl> & <dbl>\\\\\n",
       "\\hline\n",
       "\t ANGPTL2  & turquoise &  0.60598832 & 2.696626e-15 & 15.210745749 &  0.10260576 & 0.2527572 & 0.7891011 & 0.036656830 & 0.06840227 & 0.12743211\\\\\n",
       "\t SERPIND1 & brown     &  0.12339366 & 1.478439e-01 &  3.874555059 &  0.03686686 & 0.5880984 & 0.7891011 & 0.268310259 & 0.11996150 & 0.07632176\\\\\n",
       "\t CBLN3    & black     & -0.04606288 & 5.902629e-01 & 14.764553299 &  0.12032337 & 0.2357867 & 0.7891011 & 0.006693521 & 0.02574670 & 0.22680162\\\\\n",
       "\t LGI2     & black     &  0.40479340 & 7.709714e-07 & 14.764553299 &  0.12032337 & 0.2357867 & 0.7891011 & 0.006693521 & 0.02574670 & 0.22680162\\\\\n",
       "\t COL5A3   & turquoise &  0.49531043 & 5.689026e-10 & 15.210745749 &  0.10260576 & 0.2527572 & 0.7891011 & 0.036656830 & 0.06840227 & 0.12743211\\\\\n",
       "\t TGM5     & red       &  0.01403149 & 8.697760e-01 &  0.870808814 & -0.01165428 & 0.9518628 & 0.9921280 & 0.060059827 & 0.09883772 & 0.15990569\\\\\n",
       "\t PCOLCE2  & black     &  0.16359886 & 5.430815e-02 & 14.764553299 &  0.12032337 & 0.2357867 & 0.7891011 & 0.006693521 & 0.02574670 & 0.22680162\\\\\n",
       "\t COL6A5   & turquoise &  0.24895786 & 3.123223e-03 & 15.210745749 &  0.10260576 & 0.2527572 & 0.7891011 & 0.036656830 & 0.06840227 & 0.12743211\\\\\n",
       "\t TNFSF11  & turquoise &  0.23961095 & 4.497676e-03 & 15.210745749 &  0.10260576 & 0.2527572 & 0.7891011 & 0.036656830 & 0.06840227 & 0.12743211\\\\\n",
       "\t CST6     & red       &  0.10161756 & 2.339212e-01 &  0.870808814 & -0.01165428 & 0.9518628 & 0.9921280 & 0.060059827 & 0.09883772 & 0.15990569\\\\\n",
       "\t FGF19    & magenta   &  0.19099593 & 2.430647e-02 &  0.004460693 & -0.11455611 & 0.1308341 & 0.7891011 & 0.210126502 & 0.17514164 & 0.10695718\\\\\n",
       "\\end{tabular}\n"
      ],
      "text/markdown": [
       "\n",
       "A tibble: 11 × 11\n",
       "\n",
       "| geneID &lt;chr&gt; | module &lt;chr&gt; | mm_cor &lt;dbl&gt; | mm_pval &lt;dbl&gt; | vital_hr &lt;dbl&gt; | vital_dev_cor &lt;dbl&gt; | vital_pval &lt;dbl&gt; | vital_qval &lt;dbl&gt; | figo_min_pval &lt;dbl&gt; | figo_min_qval &lt;dbl&gt; | figo_max_cor &lt;dbl&gt; |\n",
       "|---|---|---|---|---|---|---|---|---|---|---|\n",
       "| ANGPTL2  | turquoise |  0.60598832 | 2.696626e-15 | 15.210745749 |  0.10260576 | 0.2527572 | 0.7891011 | 0.036656830 | 0.06840227 | 0.12743211 |\n",
       "| SERPIND1 | brown     |  0.12339366 | 1.478439e-01 |  3.874555059 |  0.03686686 | 0.5880984 | 0.7891011 | 0.268310259 | 0.11996150 | 0.07632176 |\n",
       "| CBLN3    | black     | -0.04606288 | 5.902629e-01 | 14.764553299 |  0.12032337 | 0.2357867 | 0.7891011 | 0.006693521 | 0.02574670 | 0.22680162 |\n",
       "| LGI2     | black     |  0.40479340 | 7.709714e-07 | 14.764553299 |  0.12032337 | 0.2357867 | 0.7891011 | 0.006693521 | 0.02574670 | 0.22680162 |\n",
       "| COL5A3   | turquoise |  0.49531043 | 5.689026e-10 | 15.210745749 |  0.10260576 | 0.2527572 | 0.7891011 | 0.036656830 | 0.06840227 | 0.12743211 |\n",
       "| TGM5     | red       |  0.01403149 | 8.697760e-01 |  0.870808814 | -0.01165428 | 0.9518628 | 0.9921280 | 0.060059827 | 0.09883772 | 0.15990569 |\n",
       "| PCOLCE2  | black     |  0.16359886 | 5.430815e-02 | 14.764553299 |  0.12032337 | 0.2357867 | 0.7891011 | 0.006693521 | 0.02574670 | 0.22680162 |\n",
       "| COL6A5   | turquoise |  0.24895786 | 3.123223e-03 | 15.210745749 |  0.10260576 | 0.2527572 | 0.7891011 | 0.036656830 | 0.06840227 | 0.12743211 |\n",
       "| TNFSF11  | turquoise |  0.23961095 | 4.497676e-03 | 15.210745749 |  0.10260576 | 0.2527572 | 0.7891011 | 0.036656830 | 0.06840227 | 0.12743211 |\n",
       "| CST6     | red       |  0.10161756 | 2.339212e-01 |  0.870808814 | -0.01165428 | 0.9518628 | 0.9921280 | 0.060059827 | 0.09883772 | 0.15990569 |\n",
       "| FGF19    | magenta   |  0.19099593 | 2.430647e-02 |  0.004460693 | -0.11455611 | 0.1308341 | 0.7891011 | 0.210126502 | 0.17514164 | 0.10695718 |\n",
       "\n"
      ],
      "text/plain": [
       "   geneID   module    mm_cor      mm_pval      vital_hr     vital_dev_cor\n",
       "1  ANGPTL2  turquoise  0.60598832 2.696626e-15 15.210745749  0.10260576  \n",
       "2  SERPIND1 brown      0.12339366 1.478439e-01  3.874555059  0.03686686  \n",
       "3  CBLN3    black     -0.04606288 5.902629e-01 14.764553299  0.12032337  \n",
       "4  LGI2     black      0.40479340 7.709714e-07 14.764553299  0.12032337  \n",
       "5  COL5A3   turquoise  0.49531043 5.689026e-10 15.210745749  0.10260576  \n",
       "6  TGM5     red        0.01403149 8.697760e-01  0.870808814 -0.01165428  \n",
       "7  PCOLCE2  black      0.16359886 5.430815e-02 14.764553299  0.12032337  \n",
       "8  COL6A5   turquoise  0.24895786 3.123223e-03 15.210745749  0.10260576  \n",
       "9  TNFSF11  turquoise  0.23961095 4.497676e-03 15.210745749  0.10260576  \n",
       "10 CST6     red        0.10161756 2.339212e-01  0.870808814 -0.01165428  \n",
       "11 FGF19    magenta    0.19099593 2.430647e-02  0.004460693 -0.11455611  \n",
       "   vital_pval vital_qval figo_min_pval figo_min_qval figo_max_cor\n",
       "1  0.2527572  0.7891011  0.036656830   0.06840227    0.12743211  \n",
       "2  0.5880984  0.7891011  0.268310259   0.11996150    0.07632176  \n",
       "3  0.2357867  0.7891011  0.006693521   0.02574670    0.22680162  \n",
       "4  0.2357867  0.7891011  0.006693521   0.02574670    0.22680162  \n",
       "5  0.2527572  0.7891011  0.036656830   0.06840227    0.12743211  \n",
       "6  0.9518628  0.9921280  0.060059827   0.09883772    0.15990569  \n",
       "7  0.2357867  0.7891011  0.006693521   0.02574670    0.22680162  \n",
       "8  0.2527572  0.7891011  0.036656830   0.06840227    0.12743211  \n",
       "9  0.2527572  0.7891011  0.036656830   0.06840227    0.12743211  \n",
       "10 0.9518628  0.9921280  0.060059827   0.09883772    0.15990569  \n",
       "11 0.1308341  0.7891011  0.210126502   0.17514164    0.10695718  "
      ]
     },
     "metadata": {},
     "output_type": "display_data"
    }
   ],
   "source": [
    "univ_joined_df\n",
    "en_joined_df"
   ]
  },
  {
   "cell_type": "code",
   "execution_count": 10,
   "id": "virtual-effort",
   "metadata": {},
   "outputs": [
    {
     "data": {
      "text/html": [
       "14"
      ],
      "text/latex": [
       "14"
      ],
      "text/markdown": [
       "14"
      ],
      "text/plain": [
       "[1] 14"
      ]
     },
     "metadata": {},
     "output_type": "display_data"
    },
    {
     "data": {
      "text/html": [
       "4"
      ],
      "text/latex": [
       "4"
      ],
      "text/markdown": [
       "4"
      ],
      "text/plain": [
       "[1] 4"
      ]
     },
     "metadata": {},
     "output_type": "display_data"
    },
    {
     "data": {
      "text/html": [
       "2"
      ],
      "text/latex": [
       "2"
      ],
      "text/markdown": [
       "2"
      ],
      "text/plain": [
       "[1] 2"
      ]
     },
     "metadata": {},
     "output_type": "display_data"
    },
    {
     "data": {
      "text/html": [
       "0.5"
      ],
      "text/latex": [
       "0.5"
      ],
      "text/markdown": [
       "0.5"
      ],
      "text/plain": [
       "[1] 0.5"
      ]
     },
     "metadata": {},
     "output_type": "display_data"
    },
    {
     "data": {
      "text/html": [
       "11"
      ],
      "text/latex": [
       "11"
      ],
      "text/markdown": [
       "11"
      ],
      "text/plain": [
       "[1] 11"
      ]
     },
     "metadata": {},
     "output_type": "display_data"
    },
    {
     "data": {
      "text/html": [
       "5"
      ],
      "text/latex": [
       "5"
      ],
      "text/markdown": [
       "5"
      ],
      "text/plain": [
       "[1] 5"
      ]
     },
     "metadata": {},
     "output_type": "display_data"
    },
    {
     "data": {
      "text/html": [
       "0.545454545454545"
      ],
      "text/latex": [
       "0.545454545454545"
      ],
      "text/markdown": [
       "0.545454545454545"
      ],
      "text/plain": [
       "[1] 0.5454545"
      ]
     },
     "metadata": {},
     "output_type": "display_data"
    }
   ],
   "source": [
    "# Number of modules\n",
    "nrow(network_me_sig_df)\n",
    "\n",
    "# Unique modules in univ models\n",
    "nrow(univ_joined_df)\n",
    "n_univ_mod <- length(unique(univ_joined_df$module))\n",
    "n_univ_mod\n",
    "# prop module repeats\n",
    "1 - n_univ_mod / nrow(univ_joined_df)\n",
    "\n",
    "# Unique modules in EN model\n",
    "nrow(en_joined_df)\n",
    "n_en_mod <- length(unique(en_joined_df$module))\n",
    "n_en_mod\n",
    "# prop module repeats\n",
    "1 - n_en_mod / nrow(en_joined_df)"
   ]
  },
  {
   "cell_type": "code",
   "execution_count": null,
   "id": "digital-adobe",
   "metadata": {},
   "outputs": [],
   "source": []
  }
 ],
 "metadata": {
  "kernelspec": {
   "display_name": "R",
   "language": "R",
   "name": "ir"
  },
  "language_info": {
   "codemirror_mode": "r",
   "file_extension": ".r",
   "mimetype": "text/x-r-source",
   "name": "R",
   "pygments_lexer": "r",
   "version": "4.0.3"
  }
 },
 "nbformat": 4,
 "nbformat_minor": 5
}
