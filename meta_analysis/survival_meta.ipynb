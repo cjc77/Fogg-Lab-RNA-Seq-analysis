{
 "cells": [
  {
   "cell_type": "code",
   "execution_count": 1,
   "id": "narrow-berlin",
   "metadata": {},
   "outputs": [
    {
     "name": "stderr",
     "output_type": "stream",
     "text": [
      "-- \u001b[1mAttaching packages\u001b[22m ------------------------------------------------------------------------------------------------------- tidyverse 1.3.0 --\n",
      "\n",
      "\u001b[32mv\u001b[39m \u001b[34mggplot2\u001b[39m 3.3.3     \u001b[32mv\u001b[39m \u001b[34mpurrr  \u001b[39m 0.3.4\n",
      "\u001b[32mv\u001b[39m \u001b[34mtibble \u001b[39m 3.0.6     \u001b[32mv\u001b[39m \u001b[34mdplyr  \u001b[39m 1.0.4\n",
      "\u001b[32mv\u001b[39m \u001b[34mtidyr  \u001b[39m 1.1.2     \u001b[32mv\u001b[39m \u001b[34mstringr\u001b[39m 1.4.0\n",
      "\u001b[32mv\u001b[39m \u001b[34mreadr  \u001b[39m 1.4.0     \u001b[32mv\u001b[39m \u001b[34mforcats\u001b[39m 0.5.1\n",
      "\n",
      "-- \u001b[1mConflicts\u001b[22m ---------------------------------------------------------------------------------------------------------- tidyverse_conflicts() --\n",
      "\u001b[31mx\u001b[39m \u001b[34mdplyr\u001b[39m::\u001b[32mfilter()\u001b[39m masks \u001b[34mstats\u001b[39m::filter()\n",
      "\u001b[31mx\u001b[39m \u001b[34mdplyr\u001b[39m::\u001b[32mlag()\u001b[39m    masks \u001b[34mstats\u001b[39m::lag()\n",
      "\n"
     ]
    }
   ],
   "source": [
    "library(tidyverse)\n",
    "\n",
    "# Custom package\n",
    "library(rutils)"
   ]
  },
  {
   "cell_type": "code",
   "execution_count": 2,
   "id": "express-subcommittee",
   "metadata": {},
   "outputs": [],
   "source": [
    "dirs <- rutils::get_dev_directories(dev_paths_file = \"../dev_paths.txt\")\n",
    "unified_dsets <- c(\"unified_cervical_data\", \"unified_uterine_data\", \"unified_uterine_endometrial_data\")"
   ]
  },
  {
   "cell_type": "code",
   "execution_count": 3,
   "id": "future-patio",
   "metadata": {},
   "outputs": [],
   "source": [
    "dset_idx <- 1"
   ]
  },
  {
   "cell_type": "code",
   "execution_count": 4,
   "id": "monthly-philippines",
   "metadata": {},
   "outputs": [],
   "source": [
    "p_thresh <- 0.05\n",
    "q_thresh <- 0.15"
   ]
  },
  {
   "cell_type": "code",
   "execution_count": 5,
   "id": "expressed-skiing",
   "metadata": {},
   "outputs": [
    {
     "name": "stderr",
     "output_type": "stream",
     "text": [
      "\n",
      "\u001b[36m--\u001b[39m \u001b[1m\u001b[1mColumn specification\u001b[1m\u001b[22m \u001b[36m------------------------------------------------------------------------------------------------------------------------\u001b[39m\n",
      "cols(\n",
      "  geneID = \u001b[31mcol_character()\u001b[39m,\n",
      "  km_pval = \u001b[32mcol_double()\u001b[39m,\n",
      "  km_qval = \u001b[32mcol_double()\u001b[39m,\n",
      "  cph_pval = \u001b[32mcol_double()\u001b[39m,\n",
      "  cph_qval = \u001b[32mcol_double()\u001b[39m\n",
      ")\n",
      "\n",
      "\n"
     ]
    }
   ],
   "source": [
    "univ_surv_df <- read_tsv(paste0(dirs$analysis_dir, \"/survival/\", unified_dsets[dset_idx], \"_univ_survival_results.tsv\"))"
   ]
  },
  {
   "cell_type": "markdown",
   "id": "right-spanish",
   "metadata": {},
   "source": [
    "# Univariate Survival"
   ]
  },
  {
   "cell_type": "code",
   "execution_count": 6,
   "id": "endangered-penny",
   "metadata": {},
   "outputs": [],
   "source": [
    "sig_univ_surv_df <- univ_surv_df %>%\n",
    "    dplyr::filter(km_pval < p_thresh | cph_pval < p_thresh) %>%\n",
    "    dplyr::filter(km_qval < q_thresh | cph_qval < q_thresh)"
   ]
  },
  {
   "cell_type": "code",
   "execution_count": 7,
   "id": "simplified-camera",
   "metadata": {},
   "outputs": [
    {
     "data": {
      "text/html": [
       "10"
      ],
      "text/latex": [
       "10"
      ],
      "text/markdown": [
       "10"
      ],
      "text/plain": [
       "[1] 10"
      ]
     },
     "metadata": {},
     "output_type": "display_data"
    }
   ],
   "source": [
    "nrow(sig_univ_surv_df)"
   ]
  },
  {
   "cell_type": "code",
   "execution_count": 8,
   "id": "premium-chemistry",
   "metadata": {},
   "outputs": [
    {
     "data": {
      "text/html": [
       "<table class=\"dataframe\">\n",
       "<caption>A spec_tbl_df: 10 × 5</caption>\n",
       "<thead>\n",
       "\t<tr><th scope=col>geneID</th><th scope=col>km_pval</th><th scope=col>km_qval</th><th scope=col>cph_pval</th><th scope=col>cph_qval</th></tr>\n",
       "\t<tr><th scope=col>&lt;chr&gt;</th><th scope=col>&lt;dbl&gt;</th><th scope=col>&lt;dbl&gt;</th><th scope=col>&lt;dbl&gt;</th><th scope=col>&lt;dbl&gt;</th></tr>\n",
       "</thead>\n",
       "<tbody>\n",
       "\t<tr><td>CXCL2  </td><td>0.0002407716</td><td>0.02789489</td><td>0.0008898265</td><td>0.023240547</td></tr>\n",
       "\t<tr><td>IL1B   </td><td>0.0009832634</td><td>0.03797240</td><td>0.0004481667</td><td>0.017557872</td></tr>\n",
       "\t<tr><td>LAMC1  </td><td>0.0684853932</td><td>0.54391059</td><td>0.0031423997</td><td>0.054428135</td></tr>\n",
       "\t<tr><td>FIGF   </td><td>0.0244875096</td><td>0.43981639</td><td>0.0117976482</td><td>0.115549404</td></tr>\n",
       "\t<tr><td>TNF    </td><td>0.0472823310</td><td>0.50340616</td><td>0.0060013587</td><td>0.078371939</td></tr>\n",
       "\t<tr><td>LGALS9C</td><td>0.0265735780</td><td>0.43981639</td><td>0.0163736893</td><td>0.128492440</td></tr>\n",
       "\t<tr><td>CCL17  </td><td>0.1104378480</td><td>0.73156362</td><td>0.0034732113</td><td>0.054428135</td></tr>\n",
       "\t<tr><td>PLOD2  </td><td>0.0005922877</td><td>0.03431011</td><td>0.0000714658</td><td>0.005599645</td></tr>\n",
       "\t<tr><td>EGLN3  </td><td>0.1396639457</td><td>0.73156362</td><td>0.0114106823</td><td>0.115549404</td></tr>\n",
       "\t<tr><td>LAMC2  </td><td>0.2392406336</td><td>0.81522115</td><td>0.0163989227</td><td>0.128492440</td></tr>\n",
       "</tbody>\n",
       "</table>\n"
      ],
      "text/latex": [
       "A spec\\_tbl\\_df: 10 × 5\n",
       "\\begin{tabular}{lllll}\n",
       " geneID & km\\_pval & km\\_qval & cph\\_pval & cph\\_qval\\\\\n",
       " <chr> & <dbl> & <dbl> & <dbl> & <dbl>\\\\\n",
       "\\hline\n",
       "\t CXCL2   & 0.0002407716 & 0.02789489 & 0.0008898265 & 0.023240547\\\\\n",
       "\t IL1B    & 0.0009832634 & 0.03797240 & 0.0004481667 & 0.017557872\\\\\n",
       "\t LAMC1   & 0.0684853932 & 0.54391059 & 0.0031423997 & 0.054428135\\\\\n",
       "\t FIGF    & 0.0244875096 & 0.43981639 & 0.0117976482 & 0.115549404\\\\\n",
       "\t TNF     & 0.0472823310 & 0.50340616 & 0.0060013587 & 0.078371939\\\\\n",
       "\t LGALS9C & 0.0265735780 & 0.43981639 & 0.0163736893 & 0.128492440\\\\\n",
       "\t CCL17   & 0.1104378480 & 0.73156362 & 0.0034732113 & 0.054428135\\\\\n",
       "\t PLOD2   & 0.0005922877 & 0.03431011 & 0.0000714658 & 0.005599645\\\\\n",
       "\t EGLN3   & 0.1396639457 & 0.73156362 & 0.0114106823 & 0.115549404\\\\\n",
       "\t LAMC2   & 0.2392406336 & 0.81522115 & 0.0163989227 & 0.128492440\\\\\n",
       "\\end{tabular}\n"
      ],
      "text/markdown": [
       "\n",
       "A spec_tbl_df: 10 × 5\n",
       "\n",
       "| geneID &lt;chr&gt; | km_pval &lt;dbl&gt; | km_qval &lt;dbl&gt; | cph_pval &lt;dbl&gt; | cph_qval &lt;dbl&gt; |\n",
       "|---|---|---|---|---|\n",
       "| CXCL2   | 0.0002407716 | 0.02789489 | 0.0008898265 | 0.023240547 |\n",
       "| IL1B    | 0.0009832634 | 0.03797240 | 0.0004481667 | 0.017557872 |\n",
       "| LAMC1   | 0.0684853932 | 0.54391059 | 0.0031423997 | 0.054428135 |\n",
       "| FIGF    | 0.0244875096 | 0.43981639 | 0.0117976482 | 0.115549404 |\n",
       "| TNF     | 0.0472823310 | 0.50340616 | 0.0060013587 | 0.078371939 |\n",
       "| LGALS9C | 0.0265735780 | 0.43981639 | 0.0163736893 | 0.128492440 |\n",
       "| CCL17   | 0.1104378480 | 0.73156362 | 0.0034732113 | 0.054428135 |\n",
       "| PLOD2   | 0.0005922877 | 0.03431011 | 0.0000714658 | 0.005599645 |\n",
       "| EGLN3   | 0.1396639457 | 0.73156362 | 0.0114106823 | 0.115549404 |\n",
       "| LAMC2   | 0.2392406336 | 0.81522115 | 0.0163989227 | 0.128492440 |\n",
       "\n"
      ],
      "text/plain": [
       "   geneID  km_pval      km_qval    cph_pval     cph_qval   \n",
       "1  CXCL2   0.0002407716 0.02789489 0.0008898265 0.023240547\n",
       "2  IL1B    0.0009832634 0.03797240 0.0004481667 0.017557872\n",
       "3  LAMC1   0.0684853932 0.54391059 0.0031423997 0.054428135\n",
       "4  FIGF    0.0244875096 0.43981639 0.0117976482 0.115549404\n",
       "5  TNF     0.0472823310 0.50340616 0.0060013587 0.078371939\n",
       "6  LGALS9C 0.0265735780 0.43981639 0.0163736893 0.128492440\n",
       "7  CCL17   0.1104378480 0.73156362 0.0034732113 0.054428135\n",
       "8  PLOD2   0.0005922877 0.03431011 0.0000714658 0.005599645\n",
       "9  EGLN3   0.1396639457 0.73156362 0.0114106823 0.115549404\n",
       "10 LAMC2   0.2392406336 0.81522115 0.0163989227 0.128492440"
      ]
     },
     "metadata": {},
     "output_type": "display_data"
    }
   ],
   "source": [
    "sig_univ_surv_df"
   ]
  },
  {
   "cell_type": "markdown",
   "id": "seventh-silence",
   "metadata": {},
   "source": [
    "# Cox PH Lasso"
   ]
  },
  {
   "cell_type": "code",
   "execution_count": null,
   "id": "sealed-blocking",
   "metadata": {},
   "outputs": [],
   "source": []
  }
 ],
 "metadata": {
  "kernelspec": {
   "display_name": "R",
   "language": "R",
   "name": "ir"
  },
  "language_info": {
   "codemirror_mode": "r",
   "file_extension": ".r",
   "mimetype": "text/x-r-source",
   "name": "R",
   "pygments_lexer": "r",
   "version": "4.0.3"
  }
 },
 "nbformat": 4,
 "nbformat_minor": 5
}
