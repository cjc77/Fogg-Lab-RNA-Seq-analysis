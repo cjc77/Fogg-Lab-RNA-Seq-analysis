{
 "cells": [
  {
   "cell_type": "code",
   "execution_count": 1,
   "id": "prerequisite-compiler",
   "metadata": {},
   "outputs": [
    {
     "name": "stderr",
     "output_type": "stream",
     "text": [
      "-- \u001b[1mAttaching packages\u001b[22m ------------------------------------------------------------------------------------------------------- tidyverse 1.3.0 --\n",
      "\n",
      "\u001b[32mv\u001b[39m \u001b[34mggplot2\u001b[39m 3.3.3     \u001b[32mv\u001b[39m \u001b[34mpurrr  \u001b[39m 0.3.4\n",
      "\u001b[32mv\u001b[39m \u001b[34mtibble \u001b[39m 3.0.6     \u001b[32mv\u001b[39m \u001b[34mdplyr  \u001b[39m 1.0.4\n",
      "\u001b[32mv\u001b[39m \u001b[34mtidyr  \u001b[39m 1.1.2     \u001b[32mv\u001b[39m \u001b[34mstringr\u001b[39m 1.4.0\n",
      "\u001b[32mv\u001b[39m \u001b[34mreadr  \u001b[39m 1.4.0     \u001b[32mv\u001b[39m \u001b[34mforcats\u001b[39m 0.5.1\n",
      "\n",
      "-- \u001b[1mConflicts\u001b[22m ---------------------------------------------------------------------------------------------------------- tidyverse_conflicts() --\n",
      "\u001b[31mx\u001b[39m \u001b[34mdplyr\u001b[39m::\u001b[32mfilter()\u001b[39m masks \u001b[34mstats\u001b[39m::filter()\n",
      "\u001b[31mx\u001b[39m \u001b[34mdplyr\u001b[39m::\u001b[32mlag()\u001b[39m    masks \u001b[34mstats\u001b[39m::lag()\n",
      "\n"
     ]
    }
   ],
   "source": [
    "library(tidyverse)\n",
    "\n",
    "# Custom package\n",
    "library(rutils)"
   ]
  },
  {
   "cell_type": "code",
   "execution_count": 2,
   "id": "forty-mattress",
   "metadata": {},
   "outputs": [],
   "source": [
    "dirs <- rutils::get_dev_directories(dev_paths_file = \"../dev_paths.txt\")\n",
    "unified_dsets <- c(\"unified_cervical_data\", \"unified_uterine_data\", \"unified_uterine_endometrial_data\")"
   ]
  },
  {
   "cell_type": "code",
   "execution_count": 3,
   "id": "choice-alexandria",
   "metadata": {},
   "outputs": [],
   "source": [
    "dset_idx <- 3"
   ]
  },
  {
   "cell_type": "code",
   "execution_count": 4,
   "id": "mobile-workstation",
   "metadata": {},
   "outputs": [],
   "source": [
    "p_thresh <- 0.05\n",
    "q_thresh <- 0.15"
   ]
  },
  {
   "cell_type": "code",
   "execution_count": 5,
   "id": "vocal-batch",
   "metadata": {},
   "outputs": [
    {
     "name": "stderr",
     "output_type": "stream",
     "text": [
      "\n",
      "\u001b[36m--\u001b[39m \u001b[1m\u001b[1mColumn specification\u001b[1m\u001b[22m \u001b[36m------------------------------------------------------------------------------------------------------------------------\u001b[39m\n",
      "cols(\n",
      "  geneID = \u001b[31mcol_character()\u001b[39m,\n",
      "  km_pval = \u001b[32mcol_double()\u001b[39m,\n",
      "  km_qval = \u001b[32mcol_double()\u001b[39m,\n",
      "  cph_pval = \u001b[32mcol_double()\u001b[39m,\n",
      "  cph_qval = \u001b[32mcol_double()\u001b[39m\n",
      ")\n",
      "\n",
      "\n"
     ]
    }
   ],
   "source": [
    "univ_surv_df <- read_tsv(paste0(dirs$analysis_dir, \"/survival/\", unified_dsets[dset_idx], \"_univ_survival_results.tsv\"))"
   ]
  },
  {
   "cell_type": "markdown",
   "id": "japanese-sequence",
   "metadata": {},
   "source": [
    "# Univariate Survival"
   ]
  },
  {
   "cell_type": "code",
   "execution_count": 6,
   "id": "capital-bangkok",
   "metadata": {},
   "outputs": [],
   "source": [
    "sig_univ_surv_df <- univ_surv_df %>%\n",
    "    dplyr::filter(km_pval < p_thresh | cph_pval < p_thresh) %>%\n",
    "    dplyr::filter(km_qval < q_thresh | cph_qval < q_thresh)"
   ]
  },
  {
   "cell_type": "code",
   "execution_count": 7,
   "id": "formed-duncan",
   "metadata": {},
   "outputs": [
    {
     "data": {
      "text/html": [
       "4"
      ],
      "text/latex": [
       "4"
      ],
      "text/markdown": [
       "4"
      ],
      "text/plain": [
       "[1] 4"
      ]
     },
     "metadata": {},
     "output_type": "display_data"
    }
   ],
   "source": [
    "nrow(sig_univ_surv_df)"
   ]
  },
  {
   "cell_type": "code",
   "execution_count": 8,
   "id": "expressed-seventh",
   "metadata": {},
   "outputs": [
    {
     "data": {
      "text/html": [
       "<table class=\"dataframe\">\n",
       "<caption>A spec_tbl_df: 4 × 5</caption>\n",
       "<thead>\n",
       "\t<tr><th scope=col>geneID</th><th scope=col>km_pval</th><th scope=col>km_qval</th><th scope=col>cph_pval</th><th scope=col>cph_qval</th></tr>\n",
       "\t<tr><th scope=col>&lt;chr&gt;</th><th scope=col>&lt;dbl&gt;</th><th scope=col>&lt;dbl&gt;</th><th scope=col>&lt;dbl&gt;</th><th scope=col>&lt;dbl&gt;</th></tr>\n",
       "</thead>\n",
       "<tbody>\n",
       "\t<tr><td>REG3A   </td><td>0.04881854</td><td>0.3317609</td><td>0.007443063</td><td>0.1431721</td></tr>\n",
       "\t<tr><td>ANGPTL2 </td><td>0.01642883</td><td>0.2977253</td><td>0.003721132</td><td>0.1431721</td></tr>\n",
       "\t<tr><td>SERPIND1</td><td>0.13594952</td><td>0.4568378</td><td>0.012989630</td><td>0.1431721</td></tr>\n",
       "\t<tr><td>COL5A3  </td><td>0.04284721</td><td>0.3317609</td><td>0.012346876</td><td>0.1431721</td></tr>\n",
       "</tbody>\n",
       "</table>\n"
      ],
      "text/latex": [
       "A spec\\_tbl\\_df: 4 × 5\n",
       "\\begin{tabular}{lllll}\n",
       " geneID & km\\_pval & km\\_qval & cph\\_pval & cph\\_qval\\\\\n",
       " <chr> & <dbl> & <dbl> & <dbl> & <dbl>\\\\\n",
       "\\hline\n",
       "\t REG3A    & 0.04881854 & 0.3317609 & 0.007443063 & 0.1431721\\\\\n",
       "\t ANGPTL2  & 0.01642883 & 0.2977253 & 0.003721132 & 0.1431721\\\\\n",
       "\t SERPIND1 & 0.13594952 & 0.4568378 & 0.012989630 & 0.1431721\\\\\n",
       "\t COL5A3   & 0.04284721 & 0.3317609 & 0.012346876 & 0.1431721\\\\\n",
       "\\end{tabular}\n"
      ],
      "text/markdown": [
       "\n",
       "A spec_tbl_df: 4 × 5\n",
       "\n",
       "| geneID &lt;chr&gt; | km_pval &lt;dbl&gt; | km_qval &lt;dbl&gt; | cph_pval &lt;dbl&gt; | cph_qval &lt;dbl&gt; |\n",
       "|---|---|---|---|---|\n",
       "| REG3A    | 0.04881854 | 0.3317609 | 0.007443063 | 0.1431721 |\n",
       "| ANGPTL2  | 0.01642883 | 0.2977253 | 0.003721132 | 0.1431721 |\n",
       "| SERPIND1 | 0.13594952 | 0.4568378 | 0.012989630 | 0.1431721 |\n",
       "| COL5A3   | 0.04284721 | 0.3317609 | 0.012346876 | 0.1431721 |\n",
       "\n"
      ],
      "text/plain": [
       "  geneID   km_pval    km_qval   cph_pval    cph_qval \n",
       "1 REG3A    0.04881854 0.3317609 0.007443063 0.1431721\n",
       "2 ANGPTL2  0.01642883 0.2977253 0.003721132 0.1431721\n",
       "3 SERPIND1 0.13594952 0.4568378 0.012989630 0.1431721\n",
       "4 COL5A3   0.04284721 0.3317609 0.012346876 0.1431721"
      ]
     },
     "metadata": {},
     "output_type": "display_data"
    }
   ],
   "source": [
    "sig_univ_surv_df"
   ]
  },
  {
   "cell_type": "markdown",
   "id": "opponent-opportunity",
   "metadata": {},
   "source": [
    "# Cox PH Lasso"
   ]
  },
  {
   "cell_type": "code",
   "execution_count": null,
   "id": "sound-replacement",
   "metadata": {},
   "outputs": [],
   "source": []
  }
 ],
 "metadata": {
  "kernelspec": {
   "display_name": "R",
   "language": "R",
   "name": "ir"
  },
  "language_info": {
   "codemirror_mode": "r",
   "file_extension": ".r",
   "mimetype": "text/x-r-source",
   "name": "R",
   "pygments_lexer": "r",
   "version": "4.0.3"
  }
 },
 "nbformat": 4,
 "nbformat_minor": 5
}
