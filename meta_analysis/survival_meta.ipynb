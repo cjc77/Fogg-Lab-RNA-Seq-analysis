{
 "cells": [
  {
   "cell_type": "code",
   "execution_count": 9,
   "id": "optimum-converter",
   "metadata": {},
   "outputs": [],
   "source": [
    "library(tidyverse)\n",
    "\n",
    "# Custom package\n",
    "library(rutils)"
   ]
  },
  {
   "cell_type": "code",
   "execution_count": 10,
   "id": "discrete-variation",
   "metadata": {},
   "outputs": [],
   "source": [
    "dirs <- rutils::get_dev_directories(dev_paths_file = \"../dev_paths.txt\")\n",
    "unified_dsets <- c(\"unified_cervical_data\", \"unified_uterine_data\", \"unified_uterine_endometrial_data\")"
   ]
  },
  {
   "cell_type": "code",
   "execution_count": 11,
   "id": "imported-europe",
   "metadata": {},
   "outputs": [],
   "source": [
    "dset_idx <- 1"
   ]
  },
  {
   "cell_type": "code",
   "execution_count": 12,
   "id": "built-massachusetts",
   "metadata": {},
   "outputs": [],
   "source": [
    "p_thresh <- 0.05\n",
    "q_thresh <- 0.15"
   ]
  },
  {
   "cell_type": "code",
   "execution_count": 15,
   "id": "altered-queen",
   "metadata": {},
   "outputs": [
    {
     "name": "stderr",
     "output_type": "stream",
     "text": [
      "\n",
      "\u001b[36m--\u001b[39m \u001b[1m\u001b[1mColumn specification\u001b[1m\u001b[22m \u001b[36m------------------------------------------------------------------------------------------------------------------------\u001b[39m\n",
      "cols(\n",
      "  geneID = \u001b[31mcol_character()\u001b[39m,\n",
      "  km_pval = \u001b[32mcol_double()\u001b[39m,\n",
      "  km_qval = \u001b[32mcol_double()\u001b[39m,\n",
      "  cph_pval = \u001b[32mcol_double()\u001b[39m,\n",
      "  cph_qval = \u001b[32mcol_double()\u001b[39m,\n",
      "  coeff = \u001b[32mcol_double()\u001b[39m\n",
      ")\n",
      "\n",
      "\n",
      "\n",
      "\u001b[36m--\u001b[39m \u001b[1m\u001b[1mColumn specification\u001b[1m\u001b[22m \u001b[36m------------------------------------------------------------------------------------------------------------------------\u001b[39m\n",
      "cols(\n",
      "  geneID = \u001b[31mcol_character()\u001b[39m,\n",
      "  coeff = \u001b[32mcol_double()\u001b[39m\n",
      ")\n",
      "\n",
      "\n"
     ]
    }
   ],
   "source": [
    "univ_surv_df <- read_tsv(paste0(dirs$analysis_dir, \"/survival/\", unified_dsets[dset_idx], \"_univ_survival_results.tsv\"))\n",
    "l1_cph_df <- read_tsv(paste0(dirs$analysis_dir, \"/survival/\", unified_dsets[dset_idx], \"_l1_cph_results.tsv\"))"
   ]
  },
  {
   "cell_type": "markdown",
   "id": "soviet-subscriber",
   "metadata": {},
   "source": [
    "# Univariate Survival"
   ]
  },
  {
   "cell_type": "code",
   "execution_count": 17,
   "id": "promotional-committee",
   "metadata": {},
   "outputs": [
    {
     "data": {
      "text/html": [
       "<table class=\"dataframe\">\n",
       "<caption>A spec_tbl_df: 10 × 6</caption>\n",
       "<thead>\n",
       "\t<tr><th scope=col>geneID</th><th scope=col>km_pval</th><th scope=col>km_qval</th><th scope=col>cph_pval</th><th scope=col>cph_qval</th><th scope=col>coeff</th></tr>\n",
       "\t<tr><th scope=col>&lt;chr&gt;</th><th scope=col>&lt;dbl&gt;</th><th scope=col>&lt;dbl&gt;</th><th scope=col>&lt;dbl&gt;</th><th scope=col>&lt;dbl&gt;</th><th scope=col>&lt;dbl&gt;</th></tr>\n",
       "</thead>\n",
       "<tbody>\n",
       "\t<tr><td>CXCL2  </td><td>0.0002407716</td><td>0.02789489</td><td>0.0008898265</td><td>0.023240547</td><td> 0.2253025</td></tr>\n",
       "\t<tr><td>IL1B   </td><td>0.0009832634</td><td>0.03797240</td><td>0.0004481667</td><td>0.017557872</td><td> 0.2522567</td></tr>\n",
       "\t<tr><td>LAMC1  </td><td>0.0684853932</td><td>0.54391059</td><td>0.0031423997</td><td>0.054428135</td><td> 0.4276788</td></tr>\n",
       "\t<tr><td>FIGF   </td><td>0.0244875096</td><td>0.43981639</td><td>0.0117976482</td><td>0.115549404</td><td>-0.5853274</td></tr>\n",
       "\t<tr><td>TNF    </td><td>0.0472823310</td><td>0.50340616</td><td>0.0060013587</td><td>0.078371939</td><td> 0.2988688</td></tr>\n",
       "\t<tr><td>LGALS9C</td><td>0.0265735780</td><td>0.43981639</td><td>0.0163736893</td><td>0.128492440</td><td>-0.2101494</td></tr>\n",
       "\t<tr><td>CCL17  </td><td>0.1104378480</td><td>0.73156362</td><td>0.0034732113</td><td>0.054428135</td><td>-0.5069329</td></tr>\n",
       "\t<tr><td>PLOD2  </td><td>0.0005922877</td><td>0.03431011</td><td>0.0000714658</td><td>0.005599645</td><td> 0.4252741</td></tr>\n",
       "\t<tr><td>EGLN3  </td><td>0.1396639457</td><td>0.73156362</td><td>0.0114106823</td><td>0.115549404</td><td> 0.2146271</td></tr>\n",
       "\t<tr><td>LAMC2  </td><td>0.2392406336</td><td>0.81522115</td><td>0.0163989227</td><td>0.128492440</td><td> 0.1725551</td></tr>\n",
       "</tbody>\n",
       "</table>\n"
      ],
      "text/latex": [
       "A spec\\_tbl\\_df: 10 × 6\n",
       "\\begin{tabular}{llllll}\n",
       " geneID & km\\_pval & km\\_qval & cph\\_pval & cph\\_qval & coeff\\\\\n",
       " <chr> & <dbl> & <dbl> & <dbl> & <dbl> & <dbl>\\\\\n",
       "\\hline\n",
       "\t CXCL2   & 0.0002407716 & 0.02789489 & 0.0008898265 & 0.023240547 &  0.2253025\\\\\n",
       "\t IL1B    & 0.0009832634 & 0.03797240 & 0.0004481667 & 0.017557872 &  0.2522567\\\\\n",
       "\t LAMC1   & 0.0684853932 & 0.54391059 & 0.0031423997 & 0.054428135 &  0.4276788\\\\\n",
       "\t FIGF    & 0.0244875096 & 0.43981639 & 0.0117976482 & 0.115549404 & -0.5853274\\\\\n",
       "\t TNF     & 0.0472823310 & 0.50340616 & 0.0060013587 & 0.078371939 &  0.2988688\\\\\n",
       "\t LGALS9C & 0.0265735780 & 0.43981639 & 0.0163736893 & 0.128492440 & -0.2101494\\\\\n",
       "\t CCL17   & 0.1104378480 & 0.73156362 & 0.0034732113 & 0.054428135 & -0.5069329\\\\\n",
       "\t PLOD2   & 0.0005922877 & 0.03431011 & 0.0000714658 & 0.005599645 &  0.4252741\\\\\n",
       "\t EGLN3   & 0.1396639457 & 0.73156362 & 0.0114106823 & 0.115549404 &  0.2146271\\\\\n",
       "\t LAMC2   & 0.2392406336 & 0.81522115 & 0.0163989227 & 0.128492440 &  0.1725551\\\\\n",
       "\\end{tabular}\n"
      ],
      "text/markdown": [
       "\n",
       "A spec_tbl_df: 10 × 6\n",
       "\n",
       "| geneID &lt;chr&gt; | km_pval &lt;dbl&gt; | km_qval &lt;dbl&gt; | cph_pval &lt;dbl&gt; | cph_qval &lt;dbl&gt; | coeff &lt;dbl&gt; |\n",
       "|---|---|---|---|---|---|\n",
       "| CXCL2   | 0.0002407716 | 0.02789489 | 0.0008898265 | 0.023240547 |  0.2253025 |\n",
       "| IL1B    | 0.0009832634 | 0.03797240 | 0.0004481667 | 0.017557872 |  0.2522567 |\n",
       "| LAMC1   | 0.0684853932 | 0.54391059 | 0.0031423997 | 0.054428135 |  0.4276788 |\n",
       "| FIGF    | 0.0244875096 | 0.43981639 | 0.0117976482 | 0.115549404 | -0.5853274 |\n",
       "| TNF     | 0.0472823310 | 0.50340616 | 0.0060013587 | 0.078371939 |  0.2988688 |\n",
       "| LGALS9C | 0.0265735780 | 0.43981639 | 0.0163736893 | 0.128492440 | -0.2101494 |\n",
       "| CCL17   | 0.1104378480 | 0.73156362 | 0.0034732113 | 0.054428135 | -0.5069329 |\n",
       "| PLOD2   | 0.0005922877 | 0.03431011 | 0.0000714658 | 0.005599645 |  0.4252741 |\n",
       "| EGLN3   | 0.1396639457 | 0.73156362 | 0.0114106823 | 0.115549404 |  0.2146271 |\n",
       "| LAMC2   | 0.2392406336 | 0.81522115 | 0.0163989227 | 0.128492440 |  0.1725551 |\n",
       "\n"
      ],
      "text/plain": [
       "   geneID  km_pval      km_qval    cph_pval     cph_qval    coeff     \n",
       "1  CXCL2   0.0002407716 0.02789489 0.0008898265 0.023240547  0.2253025\n",
       "2  IL1B    0.0009832634 0.03797240 0.0004481667 0.017557872  0.2522567\n",
       "3  LAMC1   0.0684853932 0.54391059 0.0031423997 0.054428135  0.4276788\n",
       "4  FIGF    0.0244875096 0.43981639 0.0117976482 0.115549404 -0.5853274\n",
       "5  TNF     0.0472823310 0.50340616 0.0060013587 0.078371939  0.2988688\n",
       "6  LGALS9C 0.0265735780 0.43981639 0.0163736893 0.128492440 -0.2101494\n",
       "7  CCL17   0.1104378480 0.73156362 0.0034732113 0.054428135 -0.5069329\n",
       "8  PLOD2   0.0005922877 0.03431011 0.0000714658 0.005599645  0.4252741\n",
       "9  EGLN3   0.1396639457 0.73156362 0.0114106823 0.115549404  0.2146271\n",
       "10 LAMC2   0.2392406336 0.81522115 0.0163989227 0.128492440  0.1725551"
      ]
     },
     "metadata": {},
     "output_type": "display_data"
    }
   ],
   "source": [
    "univ_surv_df %>%\n",
    "    dplyr::filter(km_pval < p_thresh | cph_pval < p_thresh) %>%\n",
    "    dplyr::filter(km_qval < q_thresh | cph_qval < q_thresh)"
   ]
  },
  {
   "cell_type": "markdown",
   "id": "vietnamese-russia",
   "metadata": {},
   "source": [
    "# Cox PH Lasso"
   ]
  },
  {
   "cell_type": "code",
   "execution_count": 16,
   "id": "instrumental-operation",
   "metadata": {},
   "outputs": [
    {
     "data": {
      "text/html": [
       "<table class=\"dataframe\">\n",
       "<caption>A spec_tbl_df: 19 × 2</caption>\n",
       "<thead>\n",
       "\t<tr><th scope=col>geneID</th><th scope=col>coeff</th></tr>\n",
       "\t<tr><th scope=col>&lt;chr&gt;</th><th scope=col>&lt;dbl&gt;</th></tr>\n",
       "</thead>\n",
       "<tbody>\n",
       "\t<tr><td>TLL2   </td><td>-0.054165103</td></tr>\n",
       "\t<tr><td>CXCL2  </td><td> 0.031738062</td></tr>\n",
       "\t<tr><td>KAL1   </td><td>-0.145465217</td></tr>\n",
       "\t<tr><td>MMP25  </td><td>-0.161468823</td></tr>\n",
       "\t<tr><td>IL1B   </td><td> 0.159006910</td></tr>\n",
       "\t<tr><td>FMOD   </td><td> 0.079770598</td></tr>\n",
       "\t<tr><td>HSPG2  </td><td> 0.122831730</td></tr>\n",
       "\t<tr><td>CLEC4C </td><td>-0.074382310</td></tr>\n",
       "\t<tr><td>COL11A2</td><td>-0.005189312</td></tr>\n",
       "\t<tr><td>IGF2   </td><td> 0.059355098</td></tr>\n",
       "\t<tr><td>TNF    </td><td> 0.027453270</td></tr>\n",
       "\t<tr><td>LGALS9C</td><td>-0.097068831</td></tr>\n",
       "\t<tr><td>CILP2  </td><td>-0.058499653</td></tr>\n",
       "\t<tr><td>LAMA4  </td><td> 0.001591536</td></tr>\n",
       "\t<tr><td>CCL17  </td><td>-0.127282081</td></tr>\n",
       "\t<tr><td>PLOD2  </td><td> 0.212220086</td></tr>\n",
       "\t<tr><td>EGLN3  </td><td> 0.043411249</td></tr>\n",
       "\t<tr><td>ANXA9  </td><td>-0.070372894</td></tr>\n",
       "\t<tr><td>WNT3   </td><td> 0.124278640</td></tr>\n",
       "</tbody>\n",
       "</table>\n"
      ],
      "text/latex": [
       "A spec\\_tbl\\_df: 19 × 2\n",
       "\\begin{tabular}{ll}\n",
       " geneID & coeff\\\\\n",
       " <chr> & <dbl>\\\\\n",
       "\\hline\n",
       "\t TLL2    & -0.054165103\\\\\n",
       "\t CXCL2   &  0.031738062\\\\\n",
       "\t KAL1    & -0.145465217\\\\\n",
       "\t MMP25   & -0.161468823\\\\\n",
       "\t IL1B    &  0.159006910\\\\\n",
       "\t FMOD    &  0.079770598\\\\\n",
       "\t HSPG2   &  0.122831730\\\\\n",
       "\t CLEC4C  & -0.074382310\\\\\n",
       "\t COL11A2 & -0.005189312\\\\\n",
       "\t IGF2    &  0.059355098\\\\\n",
       "\t TNF     &  0.027453270\\\\\n",
       "\t LGALS9C & -0.097068831\\\\\n",
       "\t CILP2   & -0.058499653\\\\\n",
       "\t LAMA4   &  0.001591536\\\\\n",
       "\t CCL17   & -0.127282081\\\\\n",
       "\t PLOD2   &  0.212220086\\\\\n",
       "\t EGLN3   &  0.043411249\\\\\n",
       "\t ANXA9   & -0.070372894\\\\\n",
       "\t WNT3    &  0.124278640\\\\\n",
       "\\end{tabular}\n"
      ],
      "text/markdown": [
       "\n",
       "A spec_tbl_df: 19 × 2\n",
       "\n",
       "| geneID &lt;chr&gt; | coeff &lt;dbl&gt; |\n",
       "|---|---|\n",
       "| TLL2    | -0.054165103 |\n",
       "| CXCL2   |  0.031738062 |\n",
       "| KAL1    | -0.145465217 |\n",
       "| MMP25   | -0.161468823 |\n",
       "| IL1B    |  0.159006910 |\n",
       "| FMOD    |  0.079770598 |\n",
       "| HSPG2   |  0.122831730 |\n",
       "| CLEC4C  | -0.074382310 |\n",
       "| COL11A2 | -0.005189312 |\n",
       "| IGF2    |  0.059355098 |\n",
       "| TNF     |  0.027453270 |\n",
       "| LGALS9C | -0.097068831 |\n",
       "| CILP2   | -0.058499653 |\n",
       "| LAMA4   |  0.001591536 |\n",
       "| CCL17   | -0.127282081 |\n",
       "| PLOD2   |  0.212220086 |\n",
       "| EGLN3   |  0.043411249 |\n",
       "| ANXA9   | -0.070372894 |\n",
       "| WNT3    |  0.124278640 |\n",
       "\n"
      ],
      "text/plain": [
       "   geneID  coeff       \n",
       "1  TLL2    -0.054165103\n",
       "2  CXCL2    0.031738062\n",
       "3  KAL1    -0.145465217\n",
       "4  MMP25   -0.161468823\n",
       "5  IL1B     0.159006910\n",
       "6  FMOD     0.079770598\n",
       "7  HSPG2    0.122831730\n",
       "8  CLEC4C  -0.074382310\n",
       "9  COL11A2 -0.005189312\n",
       "10 IGF2     0.059355098\n",
       "11 TNF      0.027453270\n",
       "12 LGALS9C -0.097068831\n",
       "13 CILP2   -0.058499653\n",
       "14 LAMA4    0.001591536\n",
       "15 CCL17   -0.127282081\n",
       "16 PLOD2    0.212220086\n",
       "17 EGLN3    0.043411249\n",
       "18 ANXA9   -0.070372894\n",
       "19 WNT3     0.124278640"
      ]
     },
     "metadata": {},
     "output_type": "display_data"
    }
   ],
   "source": [
    "l1_cph_df"
   ]
  }
 ],
 "metadata": {
  "kernelspec": {
   "display_name": "R",
   "language": "R",
   "name": "ir"
  },
  "language_info": {
   "codemirror_mode": "r",
   "file_extension": ".r",
   "mimetype": "text/x-r-source",
   "name": "R",
   "pygments_lexer": "r",
   "version": "4.0.3"
  }
 },
 "nbformat": 4,
 "nbformat_minor": 5
}
