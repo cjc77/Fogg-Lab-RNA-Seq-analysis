{
 "cells": [
  {
   "cell_type": "code",
   "execution_count": 1,
   "id": "social-turkey",
   "metadata": {},
   "outputs": [
    {
     "name": "stderr",
     "output_type": "stream",
     "text": [
      "-- \u001b[1mAttaching packages\u001b[22m ------------------------------------------------------------------------------------------------------- tidyverse 1.3.0 --\n",
      "\n",
      "\u001b[32mv\u001b[39m \u001b[34mggplot2\u001b[39m 3.3.3     \u001b[32mv\u001b[39m \u001b[34mpurrr  \u001b[39m 0.3.4\n",
      "\u001b[32mv\u001b[39m \u001b[34mtibble \u001b[39m 3.0.6     \u001b[32mv\u001b[39m \u001b[34mdplyr  \u001b[39m 1.0.4\n",
      "\u001b[32mv\u001b[39m \u001b[34mtidyr  \u001b[39m 1.1.2     \u001b[32mv\u001b[39m \u001b[34mstringr\u001b[39m 1.4.0\n",
      "\u001b[32mv\u001b[39m \u001b[34mreadr  \u001b[39m 1.4.0     \u001b[32mv\u001b[39m \u001b[34mforcats\u001b[39m 0.5.1\n",
      "\n",
      "-- \u001b[1mConflicts\u001b[22m ---------------------------------------------------------------------------------------------------------- tidyverse_conflicts() --\n",
      "\u001b[31mx\u001b[39m \u001b[34mdplyr\u001b[39m::\u001b[32mfilter()\u001b[39m masks \u001b[34mstats\u001b[39m::filter()\n",
      "\u001b[31mx\u001b[39m \u001b[34mdplyr\u001b[39m::\u001b[32mlag()\u001b[39m    masks \u001b[34mstats\u001b[39m::lag()\n",
      "\n"
     ]
    }
   ],
   "source": [
    "library(tidyverse)\n",
    "\n",
    "# Custom package\n",
    "library(rutils)"
   ]
  },
  {
   "cell_type": "code",
   "execution_count": 2,
   "id": "willing-guard",
   "metadata": {},
   "outputs": [],
   "source": [
    "dirs <- rutils::get_dev_directories(dev_paths_file = \"../dev_paths.txt\")\n",
    "unified_dsets <- c(\"unified_cervical_data\", \"unified_uterine_data\", \"unified_uterine_endometrial_data\")"
   ]
  },
  {
   "cell_type": "code",
   "execution_count": 3,
   "id": "connected-fourth",
   "metadata": {},
   "outputs": [],
   "source": [
    "dset_idx <- 2"
   ]
  },
  {
   "cell_type": "code",
   "execution_count": 4,
   "id": "transsexual-qualification",
   "metadata": {},
   "outputs": [],
   "source": [
    "p_thresh <- 0.05\n",
    "q_thresh <- 0.15"
   ]
  },
  {
   "cell_type": "code",
   "execution_count": 5,
   "id": "involved-difference",
   "metadata": {},
   "outputs": [
    {
     "name": "stderr",
     "output_type": "stream",
     "text": [
      "\n",
      "\u001b[36m--\u001b[39m \u001b[1m\u001b[1mColumn specification\u001b[1m\u001b[22m \u001b[36m------------------------------------------------------------------------------------------------------------------------\u001b[39m\n",
      "cols(\n",
      "  geneID = \u001b[31mcol_character()\u001b[39m,\n",
      "  km_pval = \u001b[32mcol_double()\u001b[39m,\n",
      "  km_qval = \u001b[32mcol_double()\u001b[39m,\n",
      "  cph_pval = \u001b[32mcol_double()\u001b[39m,\n",
      "  cph_qval = \u001b[32mcol_double()\u001b[39m,\n",
      "  coeff = \u001b[32mcol_double()\u001b[39m\n",
      ")\n",
      "\n",
      "\n"
     ]
    }
   ],
   "source": [
    "univ_surv_df <- read_tsv(paste0(dirs$analysis_dir, \"/survival/\", unified_dsets[dset_idx], \"_univ_survival_results.tsv\"))"
   ]
  },
  {
   "cell_type": "markdown",
   "id": "original-combat",
   "metadata": {},
   "source": [
    "# Univariate Survival"
   ]
  },
  {
   "cell_type": "code",
   "execution_count": 6,
   "id": "subtle-luxembourg",
   "metadata": {},
   "outputs": [],
   "source": [
    "sig_univ_surv_df <- univ_surv_df %>%\n",
    "    dplyr::filter(km_pval < p_thresh | cph_pval < p_thresh) %>%\n",
    "    dplyr::filter(km_qval < q_thresh | cph_qval < q_thresh)"
   ]
  },
  {
   "cell_type": "code",
   "execution_count": 7,
   "id": "satisfactory-philip",
   "metadata": {},
   "outputs": [
    {
     "data": {
      "text/html": [
       "1"
      ],
      "text/latex": [
       "1"
      ],
      "text/markdown": [
       "1"
      ],
      "text/plain": [
       "[1] 1"
      ]
     },
     "metadata": {},
     "output_type": "display_data"
    }
   ],
   "source": [
    "nrow(sig_univ_surv_df)"
   ]
  },
  {
   "cell_type": "code",
   "execution_count": 8,
   "id": "helpful-remains",
   "metadata": {},
   "outputs": [
    {
     "data": {
      "text/html": [
       "<table class=\"dataframe\">\n",
       "<caption>A spec_tbl_df: 1 × 6</caption>\n",
       "<thead>\n",
       "\t<tr><th scope=col>geneID</th><th scope=col>km_pval</th><th scope=col>km_qval</th><th scope=col>cph_pval</th><th scope=col>cph_qval</th><th scope=col>coeff</th></tr>\n",
       "\t<tr><th scope=col>&lt;chr&gt;</th><th scope=col>&lt;dbl&gt;</th><th scope=col>&lt;dbl&gt;</th><th scope=col>&lt;dbl&gt;</th><th scope=col>&lt;dbl&gt;</th><th scope=col>&lt;dbl&gt;</th></tr>\n",
       "</thead>\n",
       "<tbody>\n",
       "\t<tr><td>COL5A3</td><td>0.009416507</td><td>0.3484108</td><td>0.003190413</td><td>0.1074039</td><td>0.6365094</td></tr>\n",
       "</tbody>\n",
       "</table>\n"
      ],
      "text/latex": [
       "A spec\\_tbl\\_df: 1 × 6\n",
       "\\begin{tabular}{llllll}\n",
       " geneID & km\\_pval & km\\_qval & cph\\_pval & cph\\_qval & coeff\\\\\n",
       " <chr> & <dbl> & <dbl> & <dbl> & <dbl> & <dbl>\\\\\n",
       "\\hline\n",
       "\t COL5A3 & 0.009416507 & 0.3484108 & 0.003190413 & 0.1074039 & 0.6365094\\\\\n",
       "\\end{tabular}\n"
      ],
      "text/markdown": [
       "\n",
       "A spec_tbl_df: 1 × 6\n",
       "\n",
       "| geneID &lt;chr&gt; | km_pval &lt;dbl&gt; | km_qval &lt;dbl&gt; | cph_pval &lt;dbl&gt; | cph_qval &lt;dbl&gt; | coeff &lt;dbl&gt; |\n",
       "|---|---|---|---|---|---|\n",
       "| COL5A3 | 0.009416507 | 0.3484108 | 0.003190413 | 0.1074039 | 0.6365094 |\n",
       "\n"
      ],
      "text/plain": [
       "  geneID km_pval     km_qval   cph_pval    cph_qval  coeff    \n",
       "1 COL5A3 0.009416507 0.3484108 0.003190413 0.1074039 0.6365094"
      ]
     },
     "metadata": {},
     "output_type": "display_data"
    }
   ],
   "source": [
    "sig_univ_surv_df"
   ]
  },
  {
   "cell_type": "markdown",
   "id": "supported-acquisition",
   "metadata": {},
   "source": [
    "# Cox PH Lasso"
   ]
  },
  {
   "cell_type": "code",
   "execution_count": null,
   "id": "opposed-cholesterol",
   "metadata": {},
   "outputs": [],
   "source": []
  }
 ],
 "metadata": {
  "kernelspec": {
   "display_name": "R",
   "language": "R",
   "name": "ir"
  },
  "language_info": {
   "codemirror_mode": "r",
   "file_extension": ".r",
   "mimetype": "text/x-r-source",
   "name": "R",
   "pygments_lexer": "r",
   "version": "4.0.3"
  }
 },
 "nbformat": 4,
 "nbformat_minor": 5
}
