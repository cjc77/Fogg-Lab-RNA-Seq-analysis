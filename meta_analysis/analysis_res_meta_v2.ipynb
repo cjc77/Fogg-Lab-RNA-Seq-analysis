{
 "cells": [
  {
   "cell_type": "code",
   "execution_count": 1,
   "id": "prostate-census",
   "metadata": {},
   "outputs": [
    {
     "name": "stderr",
     "output_type": "stream",
     "text": [
      "-- \u001b[1mAttaching packages\u001b[22m ------------------------------------------------------------------------------------------------------- tidyverse 1.3.0 --\n",
      "\n",
      "\u001b[32mv\u001b[39m \u001b[34mggplot2\u001b[39m 3.3.3     \u001b[32mv\u001b[39m \u001b[34mpurrr  \u001b[39m 0.3.4\n",
      "\u001b[32mv\u001b[39m \u001b[34mtibble \u001b[39m 3.0.6     \u001b[32mv\u001b[39m \u001b[34mdplyr  \u001b[39m 1.0.4\n",
      "\u001b[32mv\u001b[39m \u001b[34mtidyr  \u001b[39m 1.1.2     \u001b[32mv\u001b[39m \u001b[34mstringr\u001b[39m 1.4.0\n",
      "\u001b[32mv\u001b[39m \u001b[34mreadr  \u001b[39m 1.4.0     \u001b[32mv\u001b[39m \u001b[34mforcats\u001b[39m 0.5.1\n",
      "\n",
      "-- \u001b[1mConflicts\u001b[22m ---------------------------------------------------------------------------------------------------------- tidyverse_conflicts() --\n",
      "\u001b[31mx\u001b[39m \u001b[34mdplyr\u001b[39m::\u001b[32mfilter()\u001b[39m masks \u001b[34mstats\u001b[39m::filter()\n",
      "\u001b[31mx\u001b[39m \u001b[34mdplyr\u001b[39m::\u001b[32mlag()\u001b[39m    masks \u001b[34mstats\u001b[39m::lag()\n",
      "\n"
     ]
    }
   ],
   "source": [
    "library(tidyverse)\n",
    "\n",
    "# Custom package\n",
    "library(rutils)"
   ]
  },
  {
   "cell_type": "code",
   "execution_count": 2,
   "id": "editorial-career",
   "metadata": {},
   "outputs": [],
   "source": [
    "dirs <- rutils::get_dev_directories(dev_paths_file = \"../dev_paths.txt\")\n",
    "projects <- c(\"TCGA-CESC\", \"TCGA-UCS\", \"TCGA-UCEC\", \"TCGA-OV\")\n",
    "unified_dsets <- c(\"unified_cervical_data\", \"unified_uterine_data\", \"unified_uterine_endometrial_data\")\n",
    "matrisome_list <- paste0(dirs$data_dir, \"/matrisome/matrisome_hs_masterlist.tsv\")"
   ]
  },
  {
   "cell_type": "code",
   "execution_count": 3,
   "id": "cooked-edition",
   "metadata": {},
   "outputs": [],
   "source": [
    "dset_idx <- 3"
   ]
  },
  {
   "cell_type": "code",
   "execution_count": 4,
   "id": "rental-burlington",
   "metadata": {},
   "outputs": [],
   "source": [
    "p_thresh <- 0.05\n",
    "lfc_thresh <- log2(2)\n",
    "q_deg_thresh <- 0.05\n",
    "q_anova_thresh <- 0.05\n",
    "coxph_coeff_thresh <- 0.0\n",
    "mi_thresh <- 0.0\n",
    "consensus_thresh <- 0.0\n",
    "consensus_n <- 5\n",
    "hub_con_thresh <- 0"
   ]
  },
  {
   "cell_type": "markdown",
   "id": "contrary-hungarian",
   "metadata": {},
   "source": [
    "# Functions"
   ]
  },
  {
   "cell_type": "code",
   "execution_count": 5,
   "id": "caring-spread",
   "metadata": {},
   "outputs": [
    {
     "name": "stderr",
     "output_type": "stream",
     "text": [
      "\n",
      "\u001b[36m--\u001b[39m \u001b[1m\u001b[1mColumn specification\u001b[1m\u001b[22m \u001b[36m------------------------------------------------------------------------------------------------------------------------\u001b[39m\n",
      "cols(\n",
      "  Division = \u001b[31mcol_character()\u001b[39m,\n",
      "  Category = \u001b[31mcol_character()\u001b[39m,\n",
      "  `Gene Symbol` = \u001b[31mcol_character()\u001b[39m,\n",
      "  `Gene Name` = \u001b[31mcol_character()\u001b[39m,\n",
      "  Synonyms = \u001b[31mcol_character()\u001b[39m,\n",
      "  HGNC_IDs = \u001b[32mcol_double()\u001b[39m,\n",
      "  `HGNC_IDs Links` = \u001b[32mcol_double()\u001b[39m,\n",
      "  UniProt_IDs = \u001b[31mcol_character()\u001b[39m,\n",
      "  Refseq_IDs = \u001b[31mcol_character()\u001b[39m,\n",
      "  Orthology = \u001b[31mcol_character()\u001b[39m,\n",
      "  Notes = \u001b[31mcol_character()\u001b[39m\n",
      ")\n",
      "\n",
      "\n"
     ]
    }
   ],
   "source": [
    "matrisome_df <- rutils::load_matrisome_df(matrisome_list) %>%\n",
    "    dplyr::select(gene_symbol, division, category)\n",
    "\n",
    "\n",
    "get_consensus_col <- function(df, n, thresh = 0) {\n",
    "    consensus_df <- df %>%\n",
    "        dplyr::select(geneID, contains(\"mean\")) %>%\n",
    "        dplyr::mutate(consensus = rowSums(.[-1] > thresh) >= n)\n",
    "    df %>% dplyr::mutate(consensus = consensus_df$consensus)\n",
    "}\n",
    "\n",
    "deg_meta <- function(df, lfc_thresh, q_thresh, n) {\n",
    "    deg_df <- df %>%\n",
    "        dplyr::filter(abs(lfc) > lfc_thresh, qval < q_thresh)\n",
    "    list(\n",
    "        n_deg = nrow(deg_df),\n",
    "        deg_prop = nrow(deg_df) / n,\n",
    "        n_up = nrow(deg_df %>% dplyr::filter(lfc > 0)),\n",
    "        n_down = nrow(deg_df %>% dplyr::filter(lfc < 0)),\n",
    "        genes = deg_df$geneID\n",
    "    )\n",
    "}\n",
    "\n",
    "simple_test_meta <- function(df, q_thresh) {\n",
    "    filt_df <- df %>%\n",
    "        dplyr::filter(qval < q_thresh)\n",
    "    list(n_sig = nrow(filt_df), genes = filt_df$geneID)\n",
    "}\n",
    "\n",
    "mi_meta <- function(df, pct_max_thresh) {\n",
    "    ord_df <- mi_figo_results_df %>%\n",
    "        dplyr::arrange(desc(mi_est)) %>%\n",
    "        dplyr::mutate(pct_max = mi_est / first(mi_est) * 100) %>%\n",
    "        dplyr::filter(pct_max > pct_max_thresh)\n",
    "    list(\n",
    "        n_mi = nrow(ord_df),\n",
    "        genes = ord_df$geneID\n",
    "    )\n",
    "}\n",
    "\n",
    "lr_l1_meta <- function(score_df, res_df, baseline_df) {\n",
    "    consensus_genes <- res_df %>%\n",
    "        dplyr::filter(consensus == TRUE) %>%\n",
    "        pull(geneID)\n",
    "    avg_score <- mean(score_df$ref_score)\n",
    "    naive_pct_imp <- (avg_score - baseline_df$naive) / baseline_df$naive * 100\n",
    "    mc_pct_imp <- (avg_score - baseline_df$mc) / baseline_df$mc * 100\n",
    "    list(\n",
    "        avg_score = avg_score,\n",
    "        naive_pct_imp = naive_pct_imp,\n",
    "        mc_pct_imp = mc_pct_imp,\n",
    "        n_genes = length(consensus_genes),\n",
    "        genes = consensus_genes\n",
    "    )\n",
    "}"
   ]
  },
  {
   "cell_type": "markdown",
   "id": "invalid-greeting",
   "metadata": {},
   "source": [
    "# Data"
   ]
  },
  {
   "cell_type": "code",
   "execution_count": 6,
   "id": "exceptional-cambodia",
   "metadata": {},
   "outputs": [
    {
     "name": "stderr",
     "output_type": "stream",
     "text": [
      "\n",
      "\u001b[36m--\u001b[39m \u001b[1m\u001b[1mColumn specification\u001b[1m\u001b[22m \u001b[36m------------------------------------------------------------------------------------------------------------------------\u001b[39m\n",
      "cols(\n",
      "  .default = col_double(),\n",
      "  geneID = \u001b[31mcol_character()\u001b[39m\n",
      ")\n",
      "\u001b[36mi\u001b[39m Use \u001b[30m\u001b[47m\u001b[30m\u001b[47m`spec()`\u001b[47m\u001b[30m\u001b[49m\u001b[39m for the full column specifications.\n",
      "\n",
      "\n",
      "\n",
      "\u001b[36m--\u001b[39m \u001b[1m\u001b[1mColumn specification\u001b[1m\u001b[22m \u001b[36m------------------------------------------------------------------------------------------------------------------------\u001b[39m\n",
      "cols(\n",
      "  geneID = \u001b[31mcol_character()\u001b[39m,\n",
      "  baseMean = \u001b[32mcol_double()\u001b[39m,\n",
      "  log2FoldChange = \u001b[32mcol_double()\u001b[39m,\n",
      "  lfcSE = \u001b[32mcol_double()\u001b[39m,\n",
      "  stat = \u001b[32mcol_double()\u001b[39m,\n",
      "  pvalue = \u001b[32mcol_double()\u001b[39m,\n",
      "  padj = \u001b[32mcol_double()\u001b[39m,\n",
      "  qval = \u001b[32mcol_double()\u001b[39m\n",
      ")\n",
      "\n",
      "\n",
      "\n",
      "\u001b[36m--\u001b[39m \u001b[1m\u001b[1mColumn specification\u001b[1m\u001b[22m \u001b[36m------------------------------------------------------------------------------------------------------------------------\u001b[39m\n",
      "cols(\n",
      "  geneID = \u001b[31mcol_character()\u001b[39m,\n",
      "  pval = \u001b[32mcol_double()\u001b[39m,\n",
      "  padj = \u001b[32mcol_double()\u001b[39m,\n",
      "  qval = \u001b[32mcol_double()\u001b[39m\n",
      ")\n",
      "\n",
      "\n",
      "\n",
      "\u001b[36m--\u001b[39m \u001b[1m\u001b[1mColumn specification\u001b[1m\u001b[22m \u001b[36m------------------------------------------------------------------------------------------------------------------------\u001b[39m\n",
      "cols(\n",
      "  geneID = \u001b[31mcol_character()\u001b[39m,\n",
      "  MI_est_median = \u001b[32mcol_double()\u001b[39m\n",
      ")\n",
      "\n",
      "\n",
      "\n",
      "\u001b[36m--\u001b[39m \u001b[1m\u001b[1mColumn specification\u001b[1m\u001b[22m \u001b[36m------------------------------------------------------------------------------------------------------------------------\u001b[39m\n",
      "cols(\n",
      "  dataset = \u001b[31mcol_character()\u001b[39m,\n",
      "  f1_macro_majority = \u001b[32mcol_double()\u001b[39m,\n",
      "  f1_macro_MC = \u001b[32mcol_double()\u001b[39m,\n",
      "  n = \u001b[32mcol_double()\u001b[39m\n",
      ")\n",
      "\n",
      "\n",
      "\n",
      "\u001b[36m--\u001b[39m \u001b[1m\u001b[1mColumn specification\u001b[1m\u001b[22m \u001b[36m------------------------------------------------------------------------------------------------------------------------\u001b[39m\n",
      "cols(\n",
      "  model = \u001b[32mcol_double()\u001b[39m,\n",
      "  ref_score = \u001b[32mcol_double()\u001b[39m\n",
      ")\n",
      "\n",
      "\n",
      "\n",
      "\u001b[36m--\u001b[39m \u001b[1m\u001b[1mColumn specification\u001b[1m\u001b[22m \u001b[36m------------------------------------------------------------------------------------------------------------------------\u001b[39m\n",
      "cols(\n",
      "  geneID = \u001b[31mcol_character()\u001b[39m,\n",
      "  mean_imp_0 = \u001b[32mcol_double()\u001b[39m,\n",
      "  score_pct_improvement_0 = \u001b[32mcol_double()\u001b[39m,\n",
      "  mean_imp_1 = \u001b[32mcol_double()\u001b[39m,\n",
      "  score_pct_improvement_1 = \u001b[32mcol_double()\u001b[39m,\n",
      "  mean_imp_2 = \u001b[32mcol_double()\u001b[39m,\n",
      "  score_pct_improvement_2 = \u001b[32mcol_double()\u001b[39m,\n",
      "  mean_imp_3 = \u001b[32mcol_double()\u001b[39m,\n",
      "  score_pct_improvement_3 = \u001b[32mcol_double()\u001b[39m,\n",
      "  mean_imp_4 = \u001b[32mcol_double()\u001b[39m,\n",
      "  score_pct_improvement_4 = \u001b[32mcol_double()\u001b[39m\n",
      ")\n",
      "\n",
      "\n"
     ]
    }
   ],
   "source": [
    "norm_counts_df <- read_tsv(paste0(dirs$data_dir, \"/\", unified_dsets[dset_idx], \"/\", \"norm_counts.tsv\"))\n",
    "m_norm_counts_df <- norm_counts_df %>%\n",
    "    dplyr::filter(geneID %in% matrisome_df$gene_symbol)\n",
    "deseq_results_df <- read_tsv(paste0(dirs$analysis_dir, \"/deg/\", unified_dsets[dset_idx], \"_DESeq_results.tsv\")) %>%\n",
    "    rename(base_mean = baseMean, lfc = log2FoldChange)\n",
    "welch_anova_results_df <- read_tsv(paste0(dirs$analysis_dir, \"/feature_selection/\", unified_dsets[dset_idx], \"_welch_anova_results.tsv\"))\n",
    "mi_figo_results_df <- read_tsv(paste0(dirs$analysis_dir, \"/feature_selection/\", unified_dsets[dset_idx], \"_MI_figo_results.tsv\")) %>%\n",
    "    dplyr::rename(mi_est = MI_est_median)\n",
    "cls_baselines_df <- read_tsv(paste0(dirs$analysis_dir, \"/meta/\", \"cls_baselines.tsv\"))\n",
    "f1_l1_lr_scores_df <- read_tsv(paste0(dirs$analysis_dir, \"/feature_selection/\", unified_dsets[dset_idx], \"_l1_lr_ref_scores.tsv\"))\n",
    "f1_l1_lr_results_df <- read_tsv(paste0(dirs$analysis_dir, \"/feature_selection/\", unified_dsets[dset_idx], \"_l1_lr_results.tsv\")) %>%\n",
    "    get_consensus_col(n = consensus_n, thresh = consensus_thresh)"
   ]
  },
  {
   "cell_type": "markdown",
   "id": "convinced-compiler",
   "metadata": {},
   "source": [
    "# DGE analysis"
   ]
  },
  {
   "cell_type": "markdown",
   "id": "interstate-lawrence",
   "metadata": {},
   "source": [
    "## DEG"
   ]
  },
  {
   "cell_type": "code",
   "execution_count": 7,
   "id": "functional-cleaners",
   "metadata": {},
   "outputs": [
    {
     "data": {
      "text/html": [
       "<dl>\n",
       "\t<dt>$n_deg</dt>\n",
       "\t\t<dd>8229</dd>\n",
       "\t<dt>$deg_prop</dt>\n",
       "\t\t<dd>0.406530975200079</dd>\n",
       "\t<dt>$n_up</dt>\n",
       "\t\t<dd>4862</dd>\n",
       "\t<dt>$n_down</dt>\n",
       "\t\t<dd>3367</dd>\n",
       "</dl>\n"
      ],
      "text/latex": [
       "\\begin{description}\n",
       "\\item[\\$n\\_deg] 8229\n",
       "\\item[\\$deg\\_prop] 0.406530975200079\n",
       "\\item[\\$n\\_up] 4862\n",
       "\\item[\\$n\\_down] 3367\n",
       "\\end{description}\n"
      ],
      "text/markdown": [
       "$n_deg\n",
       ":   8229\n",
       "$deg_prop\n",
       ":   0.406530975200079\n",
       "$n_up\n",
       ":   4862\n",
       "$n_down\n",
       ":   3367\n",
       "\n",
       "\n"
      ],
      "text/plain": [
       "$n_deg\n",
       "[1] 8229\n",
       "\n",
       "$deg_prop\n",
       "[1] 0.406531\n",
       "\n",
       "$n_up\n",
       "[1] 4862\n",
       "\n",
       "$n_down\n",
       "[1] 3367\n"
      ]
     },
     "metadata": {},
     "output_type": "display_data"
    }
   ],
   "source": [
    "deg_meta_ls <- deg_meta(deseq_results_df, lfc_thresh, q_deg_thresh, nrow(norm_counts_df))\n",
    "deg_meta_ls[1:4]"
   ]
  },
  {
   "cell_type": "markdown",
   "id": "valuable-sunrise",
   "metadata": {},
   "source": [
    "## DEMG"
   ]
  },
  {
   "cell_type": "code",
   "execution_count": 8,
   "id": "tracked-recommendation",
   "metadata": {},
   "outputs": [
    {
     "data": {
      "text/html": [
       "<dl>\n",
       "\t<dt>$n_deg</dt>\n",
       "\t\t<dd>618</dd>\n",
       "\t<dt>$deg_prop</dt>\n",
       "\t\t<dd>0.613095238095238</dd>\n",
       "\t<dt>$n_up</dt>\n",
       "\t\t<dd>317</dd>\n",
       "\t<dt>$n_down</dt>\n",
       "\t\t<dd>301</dd>\n",
       "</dl>\n"
      ],
      "text/latex": [
       "\\begin{description}\n",
       "\\item[\\$n\\_deg] 618\n",
       "\\item[\\$deg\\_prop] 0.613095238095238\n",
       "\\item[\\$n\\_up] 317\n",
       "\\item[\\$n\\_down] 301\n",
       "\\end{description}\n"
      ],
      "text/markdown": [
       "$n_deg\n",
       ":   618\n",
       "$deg_prop\n",
       ":   0.613095238095238\n",
       "$n_up\n",
       ":   317\n",
       "$n_down\n",
       ":   301\n",
       "\n",
       "\n"
      ],
      "text/plain": [
       "$n_deg\n",
       "[1] 618\n",
       "\n",
       "$deg_prop\n",
       "[1] 0.6130952\n",
       "\n",
       "$n_up\n",
       "[1] 317\n",
       "\n",
       "$n_down\n",
       "[1] 301\n"
      ]
     },
     "metadata": {},
     "output_type": "display_data"
    }
   ],
   "source": [
    "m_deseq_results_df <- deseq_results_df %>%\n",
    "    dplyr::filter(geneID %in% matrisome_df$gene_symbol)\n",
    "demg_meta_ls <- deg_meta(m_deseq_results_df, lfc_thresh, q_deg_thresh, nrow(m_norm_counts_df))\n",
    "demg_meta_ls[1:4]"
   ]
  },
  {
   "cell_type": "markdown",
   "id": "hawaiian-plaintiff",
   "metadata": {},
   "source": [
    "# Uni/multivariate analysis"
   ]
  },
  {
   "cell_type": "markdown",
   "id": "forbidden-ecuador",
   "metadata": {},
   "source": [
    "## Welch ANOVA"
   ]
  },
  {
   "cell_type": "code",
   "execution_count": 9,
   "id": "pursuant-treat",
   "metadata": {},
   "outputs": [
    {
     "data": {
      "text/html": [
       "<dl>\n",
       "\t<dt>$n_sig</dt>\n",
       "\t\t<dd>16</dd>\n",
       "\t<dt>$genes</dt>\n",
       "\t\t<dd><style>\n",
       ".list-inline {list-style: none; margin:0; padding: 0}\n",
       ".list-inline>li {display: inline-block}\n",
       ".list-inline>li:not(:last-child)::after {content: \"\\00b7\"; padding: 0 .5ex}\n",
       "</style>\n",
       "<ol class=list-inline><li>'MUC3A'</li><li>'ANGPTL2'</li><li>'IL7'</li><li>'SERPIND1'</li><li>'SERPINA3'</li><li>'TGM3'</li><li>'FGF14'</li><li>'LGI2'</li><li>'GDF7'</li><li>'IHH'</li><li>'MEGF9'</li><li>'PCOLCE2'</li><li>'HHIP'</li><li>'SERPINA11'</li><li>'TNFSF11'</li><li>'PLG'</li></ol>\n",
       "</dd>\n",
       "</dl>\n"
      ],
      "text/latex": [
       "\\begin{description}\n",
       "\\item[\\$n\\_sig] 16\n",
       "\\item[\\$genes] \\begin{enumerate*}\n",
       "\\item 'MUC3A'\n",
       "\\item 'ANGPTL2'\n",
       "\\item 'IL7'\n",
       "\\item 'SERPIND1'\n",
       "\\item 'SERPINA3'\n",
       "\\item 'TGM3'\n",
       "\\item 'FGF14'\n",
       "\\item 'LGI2'\n",
       "\\item 'GDF7'\n",
       "\\item 'IHH'\n",
       "\\item 'MEGF9'\n",
       "\\item 'PCOLCE2'\n",
       "\\item 'HHIP'\n",
       "\\item 'SERPINA11'\n",
       "\\item 'TNFSF11'\n",
       "\\item 'PLG'\n",
       "\\end{enumerate*}\n",
       "\n",
       "\\end{description}\n"
      ],
      "text/markdown": [
       "$n_sig\n",
       ":   16\n",
       "$genes\n",
       ":   1. 'MUC3A'\n",
       "2. 'ANGPTL2'\n",
       "3. 'IL7'\n",
       "4. 'SERPIND1'\n",
       "5. 'SERPINA3'\n",
       "6. 'TGM3'\n",
       "7. 'FGF14'\n",
       "8. 'LGI2'\n",
       "9. 'GDF7'\n",
       "10. 'IHH'\n",
       "11. 'MEGF9'\n",
       "12. 'PCOLCE2'\n",
       "13. 'HHIP'\n",
       "14. 'SERPINA11'\n",
       "15. 'TNFSF11'\n",
       "16. 'PLG'\n",
       "\n",
       "\n",
       "\n",
       "\n",
       "\n"
      ],
      "text/plain": [
       "$n_sig\n",
       "[1] 16\n",
       "\n",
       "$genes\n",
       " [1] \"MUC3A\"     \"ANGPTL2\"   \"IL7\"       \"SERPIND1\"  \"SERPINA3\"  \"TGM3\"     \n",
       " [7] \"FGF14\"     \"LGI2\"      \"GDF7\"      \"IHH\"       \"MEGF9\"     \"PCOLCE2\"  \n",
       "[13] \"HHIP\"      \"SERPINA11\" \"TNFSF11\"   \"PLG\"      \n"
      ]
     },
     "metadata": {},
     "output_type": "display_data"
    }
   ],
   "source": [
    "anova_meta_ls <- simple_test_meta(welch_anova_results_df, q_anova_thresh)\n",
    "anova_meta_ls"
   ]
  },
  {
   "cell_type": "markdown",
   "id": "embedded-stocks",
   "metadata": {},
   "source": [
    "## MI"
   ]
  },
  {
   "cell_type": "code",
   "execution_count": 10,
   "id": "fiscal-strip",
   "metadata": {},
   "outputs": [
    {
     "data": {
      "text/html": [
       "<dl>\n",
       "\t<dt>$n_mi</dt>\n",
       "\t\t<dd>52</dd>\n",
       "\t<dt>$genes</dt>\n",
       "\t\t<dd><style>\n",
       ".list-inline {list-style: none; margin:0; padding: 0}\n",
       ".list-inline>li {display: inline-block}\n",
       ".list-inline>li:not(:last-child)::after {content: \"\\00b7\"; padding: 0 .5ex}\n",
       "</style>\n",
       "<ol class=list-inline><li>'PLXDC2'</li><li>'ANXA13'</li><li>'GPC6'</li><li>'CHRDL2'</li><li>'PPBP'</li><li>'CCL24'</li><li>'ADAM8'</li><li>'CCL7'</li><li>'RELN'</li><li>'PLXNA2'</li><li>'FGF19'</li><li>'CTSA'</li><li>'ANGPT4'</li><li>'IFNA5'</li><li>'IL12B'</li><li>'CLEC4D'</li><li>'OPTC'</li><li>'S100A16'</li><li>'SCUBE1'</li><li>'CELA3B'</li><li>'CX3CL1'</li><li>'IFNA6'</li><li>'FCN3'</li><li>'LOXL3'</li><li>'PCOLCE'</li><li>'SPOCK1'</li><li>'CHRD'</li><li>'CHAD'</li><li>'CBLN3'</li><li>'VIT'</li><li>'ADAMTSL2'</li><li>'IBSP'</li><li>'CXCL6'</li><li>'NTNG1'</li><li>'COL5A3'</li><li>'MFAP1'</li><li>'FBN2'</li><li>'S100P'</li><li>'SHH'</li><li>'VWA1'</li><li>'TGM6'</li><li>'FGF12'</li><li>'CST6'</li><li>'SEMA3F'</li><li>'CLEC9A'</li><li>'PLXDC1'</li><li>'SFRP2'</li><li>'CTGF'</li><li>'LRG1'</li><li>'LAMA4'</li><li>'NELL2'</li><li>'IFNW1'</li></ol>\n",
       "</dd>\n",
       "</dl>\n"
      ],
      "text/latex": [
       "\\begin{description}\n",
       "\\item[\\$n\\_mi] 52\n",
       "\\item[\\$genes] \\begin{enumerate*}\n",
       "\\item 'PLXDC2'\n",
       "\\item 'ANXA13'\n",
       "\\item 'GPC6'\n",
       "\\item 'CHRDL2'\n",
       "\\item 'PPBP'\n",
       "\\item 'CCL24'\n",
       "\\item 'ADAM8'\n",
       "\\item 'CCL7'\n",
       "\\item 'RELN'\n",
       "\\item 'PLXNA2'\n",
       "\\item 'FGF19'\n",
       "\\item 'CTSA'\n",
       "\\item 'ANGPT4'\n",
       "\\item 'IFNA5'\n",
       "\\item 'IL12B'\n",
       "\\item 'CLEC4D'\n",
       "\\item 'OPTC'\n",
       "\\item 'S100A16'\n",
       "\\item 'SCUBE1'\n",
       "\\item 'CELA3B'\n",
       "\\item 'CX3CL1'\n",
       "\\item 'IFNA6'\n",
       "\\item 'FCN3'\n",
       "\\item 'LOXL3'\n",
       "\\item 'PCOLCE'\n",
       "\\item 'SPOCK1'\n",
       "\\item 'CHRD'\n",
       "\\item 'CHAD'\n",
       "\\item 'CBLN3'\n",
       "\\item 'VIT'\n",
       "\\item 'ADAMTSL2'\n",
       "\\item 'IBSP'\n",
       "\\item 'CXCL6'\n",
       "\\item 'NTNG1'\n",
       "\\item 'COL5A3'\n",
       "\\item 'MFAP1'\n",
       "\\item 'FBN2'\n",
       "\\item 'S100P'\n",
       "\\item 'SHH'\n",
       "\\item 'VWA1'\n",
       "\\item 'TGM6'\n",
       "\\item 'FGF12'\n",
       "\\item 'CST6'\n",
       "\\item 'SEMA3F'\n",
       "\\item 'CLEC9A'\n",
       "\\item 'PLXDC1'\n",
       "\\item 'SFRP2'\n",
       "\\item 'CTGF'\n",
       "\\item 'LRG1'\n",
       "\\item 'LAMA4'\n",
       "\\item 'NELL2'\n",
       "\\item 'IFNW1'\n",
       "\\end{enumerate*}\n",
       "\n",
       "\\end{description}\n"
      ],
      "text/markdown": [
       "$n_mi\n",
       ":   52\n",
       "$genes\n",
       ":   1. 'PLXDC2'\n",
       "2. 'ANXA13'\n",
       "3. 'GPC6'\n",
       "4. 'CHRDL2'\n",
       "5. 'PPBP'\n",
       "6. 'CCL24'\n",
       "7. 'ADAM8'\n",
       "8. 'CCL7'\n",
       "9. 'RELN'\n",
       "10. 'PLXNA2'\n",
       "11. 'FGF19'\n",
       "12. 'CTSA'\n",
       "13. 'ANGPT4'\n",
       "14. 'IFNA5'\n",
       "15. 'IL12B'\n",
       "16. 'CLEC4D'\n",
       "17. 'OPTC'\n",
       "18. 'S100A16'\n",
       "19. 'SCUBE1'\n",
       "20. 'CELA3B'\n",
       "21. 'CX3CL1'\n",
       "22. 'IFNA6'\n",
       "23. 'FCN3'\n",
       "24. 'LOXL3'\n",
       "25. 'PCOLCE'\n",
       "26. 'SPOCK1'\n",
       "27. 'CHRD'\n",
       "28. 'CHAD'\n",
       "29. 'CBLN3'\n",
       "30. 'VIT'\n",
       "31. 'ADAMTSL2'\n",
       "32. 'IBSP'\n",
       "33. 'CXCL6'\n",
       "34. 'NTNG1'\n",
       "35. 'COL5A3'\n",
       "36. 'MFAP1'\n",
       "37. 'FBN2'\n",
       "38. 'S100P'\n",
       "39. 'SHH'\n",
       "40. 'VWA1'\n",
       "41. 'TGM6'\n",
       "42. 'FGF12'\n",
       "43. 'CST6'\n",
       "44. 'SEMA3F'\n",
       "45. 'CLEC9A'\n",
       "46. 'PLXDC1'\n",
       "47. 'SFRP2'\n",
       "48. 'CTGF'\n",
       "49. 'LRG1'\n",
       "50. 'LAMA4'\n",
       "51. 'NELL2'\n",
       "52. 'IFNW1'\n",
       "\n",
       "\n",
       "\n",
       "\n",
       "\n"
      ],
      "text/plain": [
       "$n_mi\n",
       "[1] 52\n",
       "\n",
       "$genes\n",
       " [1] \"PLXDC2\"   \"ANXA13\"   \"GPC6\"     \"CHRDL2\"   \"PPBP\"     \"CCL24\"   \n",
       " [7] \"ADAM8\"    \"CCL7\"     \"RELN\"     \"PLXNA2\"   \"FGF19\"    \"CTSA\"    \n",
       "[13] \"ANGPT4\"   \"IFNA5\"    \"IL12B\"    \"CLEC4D\"   \"OPTC\"     \"S100A16\" \n",
       "[19] \"SCUBE1\"   \"CELA3B\"   \"CX3CL1\"   \"IFNA6\"    \"FCN3\"     \"LOXL3\"   \n",
       "[25] \"PCOLCE\"   \"SPOCK1\"   \"CHRD\"     \"CHAD\"     \"CBLN3\"    \"VIT\"     \n",
       "[31] \"ADAMTSL2\" \"IBSP\"     \"CXCL6\"    \"NTNG1\"    \"COL5A3\"   \"MFAP1\"   \n",
       "[37] \"FBN2\"     \"S100P\"    \"SHH\"      \"VWA1\"     \"TGM6\"     \"FGF12\"   \n",
       "[43] \"CST6\"     \"SEMA3F\"   \"CLEC9A\"   \"PLXDC1\"   \"SFRP2\"    \"CTGF\"    \n",
       "[49] \"LRG1\"     \"LAMA4\"    \"NELL2\"    \"IFNW1\"   \n"
      ]
     },
     "metadata": {},
     "output_type": "display_data"
    }
   ],
   "source": [
    "mi_meta_ls <- mi_meta(mi_figo_results_df, 50)\n",
    "mi_meta_ls"
   ]
  },
  {
   "cell_type": "markdown",
   "id": "smaller-affect",
   "metadata": {},
   "source": [
    "# ML baselines"
   ]
  },
  {
   "cell_type": "code",
   "execution_count": 11,
   "id": "difficult-monaco",
   "metadata": {},
   "outputs": [
    {
     "data": {
      "text/html": [
       "<dl>\n",
       "\t<dt>$dataset</dt>\n",
       "\t\t<dd>'unified_uterine_endometrial_data'</dd>\n",
       "\t<dt>$naive</dt>\n",
       "\t\t<dd>0.173809523809524</dd>\n",
       "\t<dt>$mc</dt>\n",
       "\t\t<dd>0.248283168400536</dd>\n",
       "\t<dt>$n_obs</dt>\n",
       "\t\t<dd>137</dd>\n",
       "</dl>\n"
      ],
      "text/latex": [
       "\\begin{description}\n",
       "\\item[\\$dataset] 'unified\\_uterine\\_endometrial\\_data'\n",
       "\\item[\\$naive] 0.173809523809524\n",
       "\\item[\\$mc] 0.248283168400536\n",
       "\\item[\\$n\\_obs] 137\n",
       "\\end{description}\n"
      ],
      "text/markdown": [
       "$dataset\n",
       ":   'unified_uterine_endometrial_data'\n",
       "$naive\n",
       ":   0.173809523809524\n",
       "$mc\n",
       ":   0.248283168400536\n",
       "$n_obs\n",
       ":   137\n",
       "\n",
       "\n"
      ],
      "text/plain": [
       "$dataset\n",
       "[1] \"unified_uterine_endometrial_data\"\n",
       "\n",
       "$naive\n",
       "[1] 0.1738095\n",
       "\n",
       "$mc\n",
       "[1] 0.2482832\n",
       "\n",
       "$n_obs\n",
       "[1] 137\n"
      ]
     },
     "metadata": {},
     "output_type": "display_data"
    }
   ],
   "source": [
    "cls_baselines <- as.list(cls_baselines_df[dset_idx,])\n",
    "names(cls_baselines) <- c(\"dataset\", \"naive\", \"mc\", \"n_obs\")\n",
    "f1_macro_majority_baseline <- cls_baselines$naive\n",
    "f1_macro_mc_baseline <- cls_baselines$mc\n",
    "cls_baselines"
   ]
  },
  {
   "cell_type": "markdown",
   "id": "suspected-heavy",
   "metadata": {},
   "source": [
    "# LR (L1)"
   ]
  },
  {
   "cell_type": "code",
   "execution_count": 12,
   "id": "optimum-lexington",
   "metadata": {},
   "outputs": [
    {
     "data": {
      "text/html": [
       "<dl>\n",
       "\t<dt>$avg_score</dt>\n",
       "\t\t<dd>0.354026811258891</dd>\n",
       "\t<dt>$naive_pct_imp</dt>\n",
       "\t\t<dd>103.686658532513</dd>\n",
       "\t<dt>$mc_pct_imp</dt>\n",
       "\t\t<dd>42.5899361360523</dd>\n",
       "\t<dt>$n_genes</dt>\n",
       "\t\t<dd>76</dd>\n",
       "</dl>\n"
      ],
      "text/latex": [
       "\\begin{description}\n",
       "\\item[\\$avg\\_score] 0.354026811258891\n",
       "\\item[\\$naive\\_pct\\_imp] 103.686658532513\n",
       "\\item[\\$mc\\_pct\\_imp] 42.5899361360523\n",
       "\\item[\\$n\\_genes] 76\n",
       "\\end{description}\n"
      ],
      "text/markdown": [
       "$avg_score\n",
       ":   0.354026811258891\n",
       "$naive_pct_imp\n",
       ":   103.686658532513\n",
       "$mc_pct_imp\n",
       ":   42.5899361360523\n",
       "$n_genes\n",
       ":   76\n",
       "\n",
       "\n"
      ],
      "text/plain": [
       "$avg_score\n",
       "[1] 0.3540268\n",
       "\n",
       "$naive_pct_imp\n",
       "[1] 103.6867\n",
       "\n",
       "$mc_pct_imp\n",
       "[1] 42.58994\n",
       "\n",
       "$n_genes\n",
       "[1] 76\n"
      ]
     },
     "metadata": {},
     "output_type": "display_data"
    }
   ],
   "source": [
    "lr_l1_meta_ls <- lr_l1_meta(f1_l1_lr_scores_df, f1_l1_lr_results_df, cls_baselines)\n",
    "lr_l1_meta_ls[1:4]"
   ]
  },
  {
   "cell_type": "code",
   "execution_count": 13,
   "id": "fitting-fever",
   "metadata": {},
   "outputs": [
    {
     "data": {
      "text/html": [
       "135"
      ],
      "text/latex": [
       "135"
      ],
      "text/markdown": [
       "135"
      ],
      "text/plain": [
       "[1] 135"
      ]
     },
     "metadata": {},
     "output_type": "display_data"
    },
    {
     "data": {
      "text/html": [
       "135"
      ],
      "text/latex": [
       "135"
      ],
      "text/markdown": [
       "135"
      ],
      "text/plain": [
       "[1] 135"
      ]
     },
     "metadata": {},
     "output_type": "display_data"
    },
    {
     "data": {
      "text/html": [
       "135"
      ],
      "text/latex": [
       "135"
      ],
      "text/markdown": [
       "135"
      ],
      "text/plain": [
       "[1] 135"
      ]
     },
     "metadata": {},
     "output_type": "display_data"
    }
   ],
   "source": [
    "umsmg_gold <- read_lines(paste0(dirs$analysis_dir, \"/gene_lists/\", unified_dsets[dset_idx], \"_umsmg_list.txt\"))\n",
    "umsmg_new <- union(union(lr_l1_meta_ls$genes, mi_meta_ls$genes), anova_meta_ls$genes)\n",
    "length(umsmg_gold)\n",
    "length(umsmg_new)\n",
    "length(intersect(umsmg_new, umsmg_gold))"
   ]
  },
  {
   "cell_type": "code",
   "execution_count": null,
   "id": "homeless-brunei",
   "metadata": {},
   "outputs": [],
   "source": []
  }
 ],
 "metadata": {
  "kernelspec": {
   "display_name": "R",
   "language": "R",
   "name": "ir"
  },
  "language_info": {
   "codemirror_mode": "r",
   "file_extension": ".r",
   "mimetype": "text/x-r-source",
   "name": "R",
   "pygments_lexer": "r",
   "version": "4.0.3"
  }
 },
 "nbformat": 4,
 "nbformat_minor": 5
}
