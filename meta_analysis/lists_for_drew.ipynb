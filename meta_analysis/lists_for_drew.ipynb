{
 "cells": [
  {
   "cell_type": "code",
   "execution_count": 68,
   "id": "fuzzy-transportation",
   "metadata": {},
   "outputs": [],
   "source": [
    "library(tidyverse)\n",
    "\n",
    "# Custom package\n",
    "library(rutils)"
   ]
  },
  {
   "cell_type": "code",
   "execution_count": 69,
   "id": "widespread-telling",
   "metadata": {},
   "outputs": [],
   "source": [
    "dirs <- rutils::get_dev_directories(dev_paths_file = \"../dev_paths.txt\")\n",
    "unified_dsets <- c(\"unified_cervical_data\", \"unified_uterine_data\", \"unified_uterine_endometrial_data\")\n",
    "proj <- c(\"CESC\", \"UCS\", \"UCEC\")\n",
    "matrisome_path <- paste0(dirs$data_dir, \"/matrisome/matrisome_hs_masterlist.tsv\")"
   ]
  },
  {
   "cell_type": "code",
   "execution_count": 70,
   "id": "freelance-stand",
   "metadata": {},
   "outputs": [
    {
     "name": "stderr",
     "output_type": "stream",
     "text": [
      "\n",
      "\u001b[36m--\u001b[39m \u001b[1m\u001b[1mColumn specification\u001b[1m\u001b[22m \u001b[36m------------------------------------------------------------------------------------------------\u001b[39m\n",
      "cols(\n",
      "  Division = \u001b[31mcol_character()\u001b[39m,\n",
      "  Category = \u001b[31mcol_character()\u001b[39m,\n",
      "  `Gene Symbol` = \u001b[31mcol_character()\u001b[39m,\n",
      "  `Gene Name` = \u001b[31mcol_character()\u001b[39m,\n",
      "  Synonyms = \u001b[31mcol_character()\u001b[39m,\n",
      "  HGNC_IDs = \u001b[32mcol_double()\u001b[39m,\n",
      "  `HGNC_IDs Links` = \u001b[32mcol_double()\u001b[39m,\n",
      "  UniProt_IDs = \u001b[31mcol_character()\u001b[39m,\n",
      "  Refseq_IDs = \u001b[31mcol_character()\u001b[39m,\n",
      "  Orthology = \u001b[31mcol_character()\u001b[39m,\n",
      "  Notes = \u001b[31mcol_character()\u001b[39m\n",
      ")\n",
      "\n",
      "\n"
     ]
    }
   ],
   "source": [
    "matrisome_df <- load_matrisome_df(matrisome_path)"
   ]
  },
  {
   "cell_type": "code",
   "execution_count": 71,
   "id": "paperback-champagne",
   "metadata": {},
   "outputs": [],
   "source": [
    "hub_con_thresh <- 0.0\n",
    "dset_idx <- 3"
   ]
  },
  {
   "cell_type": "code",
   "execution_count": 72,
   "id": "sudden-reading",
   "metadata": {},
   "outputs": [
    {
     "name": "stderr",
     "output_type": "stream",
     "text": [
      "\n",
      "\u001b[36m--\u001b[39m \u001b[1m\u001b[1mColumn specification\u001b[1m\u001b[22m \u001b[36m------------------------------------------------------------------------------------------------\u001b[39m\n",
      "cols(\n",
      "  geneID = \u001b[31mcol_character()\u001b[39m,\n",
      "  baseMean = \u001b[32mcol_double()\u001b[39m,\n",
      "  log2FoldChange = \u001b[32mcol_double()\u001b[39m,\n",
      "  lfcSE = \u001b[32mcol_double()\u001b[39m,\n",
      "  stat = \u001b[32mcol_double()\u001b[39m,\n",
      "  pvalue = \u001b[32mcol_double()\u001b[39m,\n",
      "  padj = \u001b[32mcol_double()\u001b[39m,\n",
      "  qval = \u001b[32mcol_double()\u001b[39m\n",
      ")\n",
      "\n",
      "\n"
     ]
    },
    {
     "data": {
      "text/html": [
       "618"
      ],
      "text/latex": [
       "618"
      ],
      "text/markdown": [
       "618"
      ],
      "text/plain": [
       "[1] 618"
      ]
     },
     "metadata": {},
     "output_type": "display_data"
    },
    {
     "data": {
      "text/html": [
       "18135"
      ],
      "text/latex": [
       "18135"
      ],
      "text/markdown": [
       "18135"
      ],
      "text/plain": [
       "[1] 18135"
      ]
     },
     "metadata": {},
     "output_type": "display_data"
    }
   ],
   "source": [
    "demg_df <- read_lines(paste0(dirs$analysis_dir, \"/gene_lists/\", unified_dsets[dset_idx], \"_dge_m_gene_list.txt\")) %>%\n",
    "    as_tibble() %>%\n",
    "    dplyr::rename(geneID = value)\n",
    "dge_df <- read_tsv(paste0(dirs$analysis_dir, \"/deg/\", unified_dsets[dset_idx], \"_DESeq_results.tsv\"))\n",
    "nrow(demg_df)\n",
    "nrow(dge_df)"
   ]
  },
  {
   "cell_type": "code",
   "execution_count": 73,
   "id": "finite-vacation",
   "metadata": {},
   "outputs": [],
   "source": [
    "demg_details_df <- dge_df %>%\n",
    "    dplyr::inner_join(demg_df, by = \"geneID\") %>%\n",
    "    dplyr::inner_join(matrisome_df, by = c(\"geneID\" = \"gene_symbol\")) %>%\n",
    "    dplyr::select(-c(lfcSE, stat, pvalue, padj, synonyms, hgnc_ids_links, uniprot_ids, refseq_ids, orthology, notes))"
   ]
  },
  {
   "cell_type": "code",
   "execution_count": 74,
   "id": "educated-martial",
   "metadata": {},
   "outputs": [],
   "source": [
    "write_tsv(demg_details_df, paste0(dirs$analysis_dir, \"/one_off/\", unified_dsets[dset_idx], \"_demg_details.tsv\"))"
   ]
  }
 ],
 "metadata": {
  "kernelspec": {
   "display_name": "R",
   "language": "R",
   "name": "ir"
  },
  "language_info": {
   "codemirror_mode": "r",
   "file_extension": ".r",
   "mimetype": "text/x-r-source",
   "name": "R",
   "pygments_lexer": "r",
   "version": "4.0.3"
  }
 },
 "nbformat": 4,
 "nbformat_minor": 5
}
