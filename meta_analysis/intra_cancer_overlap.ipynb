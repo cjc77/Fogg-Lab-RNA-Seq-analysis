{
 "cells": [
  {
   "cell_type": "code",
   "execution_count": 1,
   "id": "flush-patio",
   "metadata": {},
   "outputs": [
    {
     "name": "stderr",
     "output_type": "stream",
     "text": [
      "-- \u001b[1mAttaching packages\u001b[22m ------------------------------------------------------------------------------- tidyverse 1.3.0 --\n",
      "\n",
      "\u001b[32mv\u001b[39m \u001b[34mggplot2\u001b[39m 3.3.3     \u001b[32mv\u001b[39m \u001b[34mpurrr  \u001b[39m 0.3.4\n",
      "\u001b[32mv\u001b[39m \u001b[34mtibble \u001b[39m 3.0.6     \u001b[32mv\u001b[39m \u001b[34mdplyr  \u001b[39m 1.0.4\n",
      "\u001b[32mv\u001b[39m \u001b[34mtidyr  \u001b[39m 1.1.2     \u001b[32mv\u001b[39m \u001b[34mstringr\u001b[39m 1.4.0\n",
      "\u001b[32mv\u001b[39m \u001b[34mreadr  \u001b[39m 1.4.0     \u001b[32mv\u001b[39m \u001b[34mforcats\u001b[39m 0.5.1\n",
      "\n",
      "-- \u001b[1mConflicts\u001b[22m ---------------------------------------------------------------------------------- tidyverse_conflicts() --\n",
      "\u001b[31mx\u001b[39m \u001b[34mdplyr\u001b[39m::\u001b[32mfilter()\u001b[39m masks \u001b[34mstats\u001b[39m::filter()\n",
      "\u001b[31mx\u001b[39m \u001b[34mdplyr\u001b[39m::\u001b[32mlag()\u001b[39m    masks \u001b[34mstats\u001b[39m::lag()\n",
      "\n"
     ]
    }
   ],
   "source": [
    "library(tidyverse)\n",
    "\n",
    "# Custom package\n",
    "library(rutils)"
   ]
  },
  {
   "cell_type": "code",
   "execution_count": 2,
   "id": "monthly-product",
   "metadata": {},
   "outputs": [],
   "source": [
    "dirs <- rutils::get_dev_directories(dev_paths_file = \"../dev_paths.txt\")\n",
    "unified_dsets <- c(\"unified_cervical_data\", \"unified_uterine_data\", \"unified_uterine_endometrial_data\")\n",
    "matrisome_path <- paste0(dirs$data_dir, \"/matrisome/matrisome_hs_masterlist.tsv\")"
   ]
  },
  {
   "cell_type": "code",
   "execution_count": 3,
   "id": "returning-collector",
   "metadata": {},
   "outputs": [],
   "source": [
    "dset_idx <- 1\n",
    "# hub_con_thresh <- 0.5\n",
    "hub_con_thresh <- 0.25"
   ]
  },
  {
   "cell_type": "code",
   "execution_count": 4,
   "id": "dietary-bowling",
   "metadata": {},
   "outputs": [],
   "source": [
    "deg_list <- read_lines(paste0(dirs$analysis_dir, \"/gene_lists/\", unified_dsets[dset_idx], \"_dge_gene_list.txt\"))\n",
    "demg_list <- read_lines(paste0(dirs$analysis_dir, \"/gene_lists/\", unified_dsets[dset_idx], \"_dge_m_gene_list.txt\"))\n",
    "figo_list <- read_lines(paste0(dirs$analysis_dir, \"/gene_lists/\", unified_dsets[dset_idx], \"_figo_hub_thresh_\", hub_con_thresh, \"_gene_list.txt\"))\n",
    "network_figo_list <- read_lines(paste0(dirs$analysis_dir, \"/gene_lists/\", unified_dsets[dset_idx], \"_figo_network_hub_thresh_\", hub_con_thresh, \"_gene_list.txt\"))\n",
    "univar_figo_list <- read_lines(paste0(dirs$analysis_dir, \"/gene_lists/\", unified_dsets[dset_idx], \"_figo_univar_gene_list.txt\"))"
   ]
  },
  {
   "cell_type": "code",
   "execution_count": 5,
   "id": "fundamental-probability",
   "metadata": {},
   "outputs": [
    {
     "data": {
      "text/html": [
       "<style>\n",
       ".list-inline {list-style: none; margin:0; padding: 0}\n",
       ".list-inline>li {display: inline-block}\n",
       ".list-inline>li:not(:last-child)::after {content: \"\\00b7\"; padding: 0 .5ex}\n",
       "</style>\n",
       "<ol class=list-inline><li>'MUC13'</li><li>'CXCL2'</li><li>'SEMA6C'</li><li>'S100A11'</li><li>'MUC6'</li><li>'A2ML1'</li><li>'ADAMTS18'</li><li>'SERPINB5'</li><li>'MMP28'</li><li>'CSTB'</li><li>'LGALS7'</li></ol>\n"
      ],
      "text/latex": [
       "\\begin{enumerate*}\n",
       "\\item 'MUC13'\n",
       "\\item 'CXCL2'\n",
       "\\item 'SEMA6C'\n",
       "\\item 'S100A11'\n",
       "\\item 'MUC6'\n",
       "\\item 'A2ML1'\n",
       "\\item 'ADAMTS18'\n",
       "\\item 'SERPINB5'\n",
       "\\item 'MMP28'\n",
       "\\item 'CSTB'\n",
       "\\item 'LGALS7'\n",
       "\\end{enumerate*}\n"
      ],
      "text/markdown": [
       "1. 'MUC13'\n",
       "2. 'CXCL2'\n",
       "3. 'SEMA6C'\n",
       "4. 'S100A11'\n",
       "5. 'MUC6'\n",
       "6. 'A2ML1'\n",
       "7. 'ADAMTS18'\n",
       "8. 'SERPINB5'\n",
       "9. 'MMP28'\n",
       "10. 'CSTB'\n",
       "11. 'LGALS7'\n",
       "\n",
       "\n"
      ],
      "text/plain": [
       " [1] \"MUC13\"    \"CXCL2\"    \"SEMA6C\"   \"S100A11\"  \"MUC6\"     \"A2ML1\"   \n",
       " [7] \"ADAMTS18\" \"SERPINB5\" \"MMP28\"    \"CSTB\"     \"LGALS7\"  "
      ]
     },
     "metadata": {},
     "output_type": "display_data"
    },
    {
     "data": {
      "text/html": [
       "11"
      ],
      "text/latex": [
       "11"
      ],
      "text/markdown": [
       "11"
      ],
      "text/plain": [
       "[1] 11"
      ]
     },
     "metadata": {},
     "output_type": "display_data"
    }
   ],
   "source": [
    "full_overlap <- demg_list %>%\n",
    "    intersect(network_figo_list) %>%\n",
    "    intersect(univar_figo_list)\n",
    "full_overlap\n",
    "length(full_overlap)"
   ]
  },
  {
   "cell_type": "code",
   "execution_count": 6,
   "id": "light-disposition",
   "metadata": {},
   "outputs": [
    {
     "data": {
      "text/html": [
       "593"
      ],
      "text/latex": [
       "593"
      ],
      "text/markdown": [
       "593"
      ],
      "text/plain": [
       "[1] 593"
      ]
     },
     "metadata": {},
     "output_type": "display_data"
    },
    {
     "data": {
      "text/html": [
       "239"
      ],
      "text/latex": [
       "239"
      ],
      "text/markdown": [
       "239"
      ],
      "text/plain": [
       "[1] 239"
      ]
     },
     "metadata": {},
     "output_type": "display_data"
    },
    {
     "data": {
      "text/html": [
       "129"
      ],
      "text/latex": [
       "129"
      ],
      "text/markdown": [
       "129"
      ],
      "text/plain": [
       "[1] 129"
      ]
     },
     "metadata": {},
     "output_type": "display_data"
    },
    {
     "data": {
      "text/html": [
       "11"
      ],
      "text/latex": [
       "11"
      ],
      "text/markdown": [
       "11"
      ],
      "text/plain": [
       "[1] 11"
      ]
     },
     "metadata": {},
     "output_type": "display_data"
    }
   ],
   "source": [
    "# Number DEMGs\n",
    "length(demg_list)\n",
    "# Number \"predictive\" genes\n",
    "length(univar_figo_list)\n",
    "# Number \"pseudohub\" FIGO network genes\n",
    "length(network_figo_list)\n",
    "\n",
    "demg_list %>%\n",
    "    intersect(univar_figo_list) %>%\n",
    "    intersect(network_figo_list) %>%\n",
    "    length()"
   ]
  },
  {
   "cell_type": "code",
   "execution_count": 7,
   "id": "induced-found",
   "metadata": {},
   "outputs": [],
   "source": [
    "write_lines(full_overlap, paste0(dirs$analysis_dir, \"/gene_lists/\", unified_dsets[dset_idx], \"_full_overlap_hub_thresh_\", hub_con_thresh, \"_gene_list.txt\"))"
   ]
  }
 ],
 "metadata": {
  "kernelspec": {
   "display_name": "R",
   "language": "R",
   "name": "ir"
  },
  "language_info": {
   "codemirror_mode": "r",
   "file_extension": ".r",
   "mimetype": "text/x-r-source",
   "name": "R",
   "pygments_lexer": "r",
   "version": "4.0.3"
  }
 },
 "nbformat": 4,
 "nbformat_minor": 5
}
