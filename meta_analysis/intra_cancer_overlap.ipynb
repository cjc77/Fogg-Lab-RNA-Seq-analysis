{
 "cells": [
  {
   "cell_type": "code",
   "execution_count": 49,
   "id": "stuck-tender",
   "metadata": {},
   "outputs": [],
   "source": [
    "library(tidyverse)\n",
    "\n",
    "# Custom package\n",
    "library(rutils)"
   ]
  },
  {
   "cell_type": "code",
   "execution_count": 50,
   "id": "lined-questionnaire",
   "metadata": {},
   "outputs": [],
   "source": [
    "dirs <- rutils::get_dev_directories(dev_paths_file = \"../dev_paths.txt\")\n",
    "unified_dsets <- c(\"unified_cervical_data\", \"unified_uterine_data\", \"unified_uterine_endometrial_data\")\n",
    "matrisome_path <- paste0(dirs$data_dir, \"/matrisome/matrisome_hs_masterlist.tsv\")"
   ]
  },
  {
   "cell_type": "code",
   "execution_count": 51,
   "id": "primary-newfoundland",
   "metadata": {},
   "outputs": [],
   "source": [
    "dset_idx <- 3\n",
    "# hub_con_thresh <- 0.5\n",
    "# hub_con_thresh <- 0.25\n",
    "hub_con_thresh <- 0.0"
   ]
  },
  {
   "cell_type": "code",
   "execution_count": 52,
   "id": "preceding-penguin",
   "metadata": {},
   "outputs": [],
   "source": [
    "deg_list <- read_lines(paste0(dirs$analysis_dir, \"/gene_lists/\", unified_dsets[dset_idx], \"_dge_gene_list.txt\"))\n",
    "demg_list <- read_lines(paste0(dirs$analysis_dir, \"/gene_lists/\", unified_dsets[dset_idx], \"_dge_m_gene_list.txt\"))\n",
    "figo_list <- read_lines(paste0(dirs$analysis_dir, \"/gene_lists/\", unified_dsets[dset_idx], \"_figo_hub_thresh_\", hub_con_thresh, \"_gene_list.txt\"))\n",
    "network_figo_list <- read_lines(paste0(dirs$analysis_dir, \"/gene_lists/\", unified_dsets[dset_idx], \"_figo_network_hub_thresh_\", hub_con_thresh, \"_gene_list.txt\"))\n",
    "univar_figo_list <- read_lines(paste0(dirs$analysis_dir, \"/gene_lists/\", unified_dsets[dset_idx], \"_figo_univar_gene_list.txt\"))"
   ]
  },
  {
   "cell_type": "code",
   "execution_count": 53,
   "id": "reasonable-fisher",
   "metadata": {},
   "outputs": [
    {
     "data": {
      "text/html": [
       "<style>\n",
       ".list-inline {list-style: none; margin:0; padding: 0}\n",
       ".list-inline>li {display: inline-block}\n",
       ".list-inline>li:not(:last-child)::after {content: \"\\00b7\"; padding: 0 .5ex}\n",
       "</style>\n",
       "<ol class=list-inline><li>'LOXL3'</li><li>'LGI2'</li><li>'WNT10A'</li><li>'PAPPA2'</li><li>'ANGPT4'</li><li>'RSPO3'</li><li>'FGF12'</li></ol>\n"
      ],
      "text/latex": [
       "\\begin{enumerate*}\n",
       "\\item 'LOXL3'\n",
       "\\item 'LGI2'\n",
       "\\item 'WNT10A'\n",
       "\\item 'PAPPA2'\n",
       "\\item 'ANGPT4'\n",
       "\\item 'RSPO3'\n",
       "\\item 'FGF12'\n",
       "\\end{enumerate*}\n"
      ],
      "text/markdown": [
       "1. 'LOXL3'\n",
       "2. 'LGI2'\n",
       "3. 'WNT10A'\n",
       "4. 'PAPPA2'\n",
       "5. 'ANGPT4'\n",
       "6. 'RSPO3'\n",
       "7. 'FGF12'\n",
       "\n",
       "\n"
      ],
      "text/plain": [
       "[1] \"LOXL3\"  \"LGI2\"   \"WNT10A\" \"PAPPA2\" \"ANGPT4\" \"RSPO3\"  \"FGF12\" "
      ]
     },
     "metadata": {},
     "output_type": "display_data"
    },
    {
     "data": {
      "text/html": [
       "7"
      ],
      "text/latex": [
       "7"
      ],
      "text/markdown": [
       "7"
      ],
      "text/plain": [
       "[1] 7"
      ]
     },
     "metadata": {},
     "output_type": "display_data"
    }
   ],
   "source": [
    "full_overlap <- demg_list %>%\n",
    "    intersect(network_figo_list) %>%\n",
    "    intersect(univar_figo_list)\n",
    "full_overlap\n",
    "length(full_overlap)"
   ]
  },
  {
   "cell_type": "code",
   "execution_count": 54,
   "id": "alleged-arkansas",
   "metadata": {},
   "outputs": [
    {
     "data": {
      "text/html": [
       "<style>\n",
       ".list-inline {list-style: none; margin:0; padding: 0}\n",
       ".list-inline>li {display: inline-block}\n",
       ".list-inline>li:not(:last-child)::after {content: \"\\00b7\"; padding: 0 .5ex}\n",
       "</style>\n",
       "<ol class=list-inline><li>'PRL'</li><li>'CCL22'</li><li>'SFTPD'</li><li>'S100P'</li><li>'ANGPTL2'</li><li>'P4HA3'</li><li>'VIT'</li><li>'SERPIND1'</li><li>'CLEC9A'</li><li>'ADAM8'</li><li>'NELL2'</li><li>'VEGFA'</li><li>'CST2'</li><li>'FGF10'</li><li>'WNT9B'</li><li>'HRG'</li><li>'LGI1'</li><li>'TNFAIP6'</li><li>'ANXA13'</li><li>'COL9A1'</li><li>'LOXL3'</li><li>'GDF10'</li><li>'COL4A5'</li><li>'SERPINA3'</li><li>'IBSP'</li><li>'OPTC'</li><li>'SHH'</li><li>'PCSK6'</li><li>'AMH'</li><li>'GAS6'</li><li>'CBLN3'</li><li>'CELA3B'</li><li>'CCL24'</li><li>'PLXDC1'</li><li>'TGM3'</li><li>'C1QTNF4'</li><li>'CTGF'</li><li>'SCUBE1'</li><li>'CCL7'</li><li>'CHRDL2'</li><li>'HYAL3'</li><li>'SEMA3F'</li><li>'LGI2'</li><li>'BRINP2'</li><li>'WNT10A'</li><li>'COL5A3'</li><li>'IL6'</li><li>'GDF7'</li><li>'REG3A'</li><li>'PLXDC2'</li><li>'PAPPA2'</li><li>'TGM5'</li><li>'KAZALD1'</li><li>'PCOLCE2'</li><li>'WNT7B'</li><li>'NELL1'</li><li>'FLG2'</li><li>'COL6A5'</li><li>'PPBP'</li><li>'SERPINA11'</li><li>'IL12B'</li><li>'ANGPT4'</li><li>'TNFSF11'</li><li>'PLG'</li><li>'CST6'</li><li>'SERPINB4'</li><li>'MUC4'</li><li>'FBN2'</li><li>'RSPO3'</li><li>'LAMA4'</li><li>'CXCL6'</li><li>'FGF12'</li><li>'S100A16'</li><li>'SPOCK1'</li><li>'FREM1'</li><li>'LRG1'</li><li>'CHRD'</li><li>'PLXNA2'</li><li>'F10'</li><li>'TGM7'</li><li>'TCHH'</li><li>'FGF19'</li></ol>\n"
      ],
      "text/latex": [
       "\\begin{enumerate*}\n",
       "\\item 'PRL'\n",
       "\\item 'CCL22'\n",
       "\\item 'SFTPD'\n",
       "\\item 'S100P'\n",
       "\\item 'ANGPTL2'\n",
       "\\item 'P4HA3'\n",
       "\\item 'VIT'\n",
       "\\item 'SERPIND1'\n",
       "\\item 'CLEC9A'\n",
       "\\item 'ADAM8'\n",
       "\\item 'NELL2'\n",
       "\\item 'VEGFA'\n",
       "\\item 'CST2'\n",
       "\\item 'FGF10'\n",
       "\\item 'WNT9B'\n",
       "\\item 'HRG'\n",
       "\\item 'LGI1'\n",
       "\\item 'TNFAIP6'\n",
       "\\item 'ANXA13'\n",
       "\\item 'COL9A1'\n",
       "\\item 'LOXL3'\n",
       "\\item 'GDF10'\n",
       "\\item 'COL4A5'\n",
       "\\item 'SERPINA3'\n",
       "\\item 'IBSP'\n",
       "\\item 'OPTC'\n",
       "\\item 'SHH'\n",
       "\\item 'PCSK6'\n",
       "\\item 'AMH'\n",
       "\\item 'GAS6'\n",
       "\\item 'CBLN3'\n",
       "\\item 'CELA3B'\n",
       "\\item 'CCL24'\n",
       "\\item 'PLXDC1'\n",
       "\\item 'TGM3'\n",
       "\\item 'C1QTNF4'\n",
       "\\item 'CTGF'\n",
       "\\item 'SCUBE1'\n",
       "\\item 'CCL7'\n",
       "\\item 'CHRDL2'\n",
       "\\item 'HYAL3'\n",
       "\\item 'SEMA3F'\n",
       "\\item 'LGI2'\n",
       "\\item 'BRINP2'\n",
       "\\item 'WNT10A'\n",
       "\\item 'COL5A3'\n",
       "\\item 'IL6'\n",
       "\\item 'GDF7'\n",
       "\\item 'REG3A'\n",
       "\\item 'PLXDC2'\n",
       "\\item 'PAPPA2'\n",
       "\\item 'TGM5'\n",
       "\\item 'KAZALD1'\n",
       "\\item 'PCOLCE2'\n",
       "\\item 'WNT7B'\n",
       "\\item 'NELL1'\n",
       "\\item 'FLG2'\n",
       "\\item 'COL6A5'\n",
       "\\item 'PPBP'\n",
       "\\item 'SERPINA11'\n",
       "\\item 'IL12B'\n",
       "\\item 'ANGPT4'\n",
       "\\item 'TNFSF11'\n",
       "\\item 'PLG'\n",
       "\\item 'CST6'\n",
       "\\item 'SERPINB4'\n",
       "\\item 'MUC4'\n",
       "\\item 'FBN2'\n",
       "\\item 'RSPO3'\n",
       "\\item 'LAMA4'\n",
       "\\item 'CXCL6'\n",
       "\\item 'FGF12'\n",
       "\\item 'S100A16'\n",
       "\\item 'SPOCK1'\n",
       "\\item 'FREM1'\n",
       "\\item 'LRG1'\n",
       "\\item 'CHRD'\n",
       "\\item 'PLXNA2'\n",
       "\\item 'F10'\n",
       "\\item 'TGM7'\n",
       "\\item 'TCHH'\n",
       "\\item 'FGF19'\n",
       "\\end{enumerate*}\n"
      ],
      "text/markdown": [
       "1. 'PRL'\n",
       "2. 'CCL22'\n",
       "3. 'SFTPD'\n",
       "4. 'S100P'\n",
       "5. 'ANGPTL2'\n",
       "6. 'P4HA3'\n",
       "7. 'VIT'\n",
       "8. 'SERPIND1'\n",
       "9. 'CLEC9A'\n",
       "10. 'ADAM8'\n",
       "11. 'NELL2'\n",
       "12. 'VEGFA'\n",
       "13. 'CST2'\n",
       "14. 'FGF10'\n",
       "15. 'WNT9B'\n",
       "16. 'HRG'\n",
       "17. 'LGI1'\n",
       "18. 'TNFAIP6'\n",
       "19. 'ANXA13'\n",
       "20. 'COL9A1'\n",
       "21. 'LOXL3'\n",
       "22. 'GDF10'\n",
       "23. 'COL4A5'\n",
       "24. 'SERPINA3'\n",
       "25. 'IBSP'\n",
       "26. 'OPTC'\n",
       "27. 'SHH'\n",
       "28. 'PCSK6'\n",
       "29. 'AMH'\n",
       "30. 'GAS6'\n",
       "31. 'CBLN3'\n",
       "32. 'CELA3B'\n",
       "33. 'CCL24'\n",
       "34. 'PLXDC1'\n",
       "35. 'TGM3'\n",
       "36. 'C1QTNF4'\n",
       "37. 'CTGF'\n",
       "38. 'SCUBE1'\n",
       "39. 'CCL7'\n",
       "40. 'CHRDL2'\n",
       "41. 'HYAL3'\n",
       "42. 'SEMA3F'\n",
       "43. 'LGI2'\n",
       "44. 'BRINP2'\n",
       "45. 'WNT10A'\n",
       "46. 'COL5A3'\n",
       "47. 'IL6'\n",
       "48. 'GDF7'\n",
       "49. 'REG3A'\n",
       "50. 'PLXDC2'\n",
       "51. 'PAPPA2'\n",
       "52. 'TGM5'\n",
       "53. 'KAZALD1'\n",
       "54. 'PCOLCE2'\n",
       "55. 'WNT7B'\n",
       "56. 'NELL1'\n",
       "57. 'FLG2'\n",
       "58. 'COL6A5'\n",
       "59. 'PPBP'\n",
       "60. 'SERPINA11'\n",
       "61. 'IL12B'\n",
       "62. 'ANGPT4'\n",
       "63. 'TNFSF11'\n",
       "64. 'PLG'\n",
       "65. 'CST6'\n",
       "66. 'SERPINB4'\n",
       "67. 'MUC4'\n",
       "68. 'FBN2'\n",
       "69. 'RSPO3'\n",
       "70. 'LAMA4'\n",
       "71. 'CXCL6'\n",
       "72. 'FGF12'\n",
       "73. 'S100A16'\n",
       "74. 'SPOCK1'\n",
       "75. 'FREM1'\n",
       "76. 'LRG1'\n",
       "77. 'CHRD'\n",
       "78. 'PLXNA2'\n",
       "79. 'F10'\n",
       "80. 'TGM7'\n",
       "81. 'TCHH'\n",
       "82. 'FGF19'\n",
       "\n",
       "\n"
      ],
      "text/plain": [
       " [1] \"PRL\"       \"CCL22\"     \"SFTPD\"     \"S100P\"     \"ANGPTL2\"   \"P4HA3\"    \n",
       " [7] \"VIT\"       \"SERPIND1\"  \"CLEC9A\"    \"ADAM8\"     \"NELL2\"     \"VEGFA\"    \n",
       "[13] \"CST2\"      \"FGF10\"     \"WNT9B\"     \"HRG\"       \"LGI1\"      \"TNFAIP6\"  \n",
       "[19] \"ANXA13\"    \"COL9A1\"    \"LOXL3\"     \"GDF10\"     \"COL4A5\"    \"SERPINA3\" \n",
       "[25] \"IBSP\"      \"OPTC\"      \"SHH\"       \"PCSK6\"     \"AMH\"       \"GAS6\"     \n",
       "[31] \"CBLN3\"     \"CELA3B\"    \"CCL24\"     \"PLXDC1\"    \"TGM3\"      \"C1QTNF4\"  \n",
       "[37] \"CTGF\"      \"SCUBE1\"    \"CCL7\"      \"CHRDL2\"    \"HYAL3\"     \"SEMA3F\"   \n",
       "[43] \"LGI2\"      \"BRINP2\"    \"WNT10A\"    \"COL5A3\"    \"IL6\"       \"GDF7\"     \n",
       "[49] \"REG3A\"     \"PLXDC2\"    \"PAPPA2\"    \"TGM5\"      \"KAZALD1\"   \"PCOLCE2\"  \n",
       "[55] \"WNT7B\"     \"NELL1\"     \"FLG2\"      \"COL6A5\"    \"PPBP\"      \"SERPINA11\"\n",
       "[61] \"IL12B\"     \"ANGPT4\"    \"TNFSF11\"   \"PLG\"       \"CST6\"      \"SERPINB4\" \n",
       "[67] \"MUC4\"      \"FBN2\"      \"RSPO3\"     \"LAMA4\"     \"CXCL6\"     \"FGF12\"    \n",
       "[73] \"S100A16\"   \"SPOCK1\"    \"FREM1\"     \"LRG1\"      \"CHRD\"      \"PLXNA2\"   \n",
       "[79] \"F10\"       \"TGM7\"      \"TCHH\"      \"FGF19\"    "
      ]
     },
     "metadata": {},
     "output_type": "display_data"
    },
    {
     "data": {
      "text/html": [
       "82"
      ],
      "text/latex": [
       "82"
      ],
      "text/markdown": [
       "82"
      ],
      "text/plain": [
       "[1] 82"
      ]
     },
     "metadata": {},
     "output_type": "display_data"
    }
   ],
   "source": [
    "demg_univar_overlap <- demg_list %>%\n",
    "    intersect(univar_figo_list)\n",
    "demg_univar_overlap\n",
    "length(demg_univar_overlap)"
   ]
  },
  {
   "cell_type": "code",
   "execution_count": 55,
   "id": "ultimate-shore",
   "metadata": {},
   "outputs": [],
   "source": [
    "write_lines(full_overlap, paste0(dirs$analysis_dir, \"/gene_lists/\", unified_dsets[dset_idx], \"_full_overlap_hub_thresh_\", hub_con_thresh, \"_gene_list.txt\"))\n",
    "write_lines(demg_univar_overlap, paste0(dirs$analysis_dir, \"/gene_lists/\", unified_dsets[dset_idx], \"_demg_univar_overlap_gene_list.txt\"))"
   ]
  }
 ],
 "metadata": {
  "kernelspec": {
   "display_name": "R",
   "language": "R",
   "name": "ir"
  },
  "language_info": {
   "codemirror_mode": "r",
   "file_extension": ".r",
   "mimetype": "text/x-r-source",
   "name": "R",
   "pygments_lexer": "r",
   "version": "4.0.3"
  }
 },
 "nbformat": 4,
 "nbformat_minor": 5
}
