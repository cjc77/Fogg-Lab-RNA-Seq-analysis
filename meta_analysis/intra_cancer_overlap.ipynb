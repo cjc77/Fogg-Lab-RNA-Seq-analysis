{
 "cells": [
  {
   "cell_type": "code",
   "execution_count": 36,
   "id": "exclusive-superintendent",
   "metadata": {},
   "outputs": [],
   "source": [
    "library(tidyverse)\n",
    "\n",
    "# Custom package\n",
    "library(rutils)"
   ]
  },
  {
   "cell_type": "code",
   "execution_count": 37,
   "id": "precious-appeal",
   "metadata": {},
   "outputs": [],
   "source": [
    "dirs <- rutils::get_dev_directories(dev_paths_file = \"../dev_paths.txt\")\n",
    "unified_dsets <- c(\"unified_cervical_data\", \"unified_uterine_data\", \"unified_uterine_endometrial_data\")\n",
    "matrisome_path <- paste0(dirs$data_dir, \"/matrisome/matrisome_hs_masterlist.tsv\")"
   ]
  },
  {
   "cell_type": "code",
   "execution_count": 38,
   "id": "unavailable-finance",
   "metadata": {},
   "outputs": [],
   "source": [
    "dset_idx <- 3\n",
    "# hub_con_thresh <- 0.5\n",
    "hub_con_thresh <- 0.25"
   ]
  },
  {
   "cell_type": "code",
   "execution_count": 39,
   "id": "dependent-education",
   "metadata": {},
   "outputs": [],
   "source": [
    "deg_list <- read_lines(paste0(dirs$analysis_dir, \"/gene_lists/\", unified_dsets[dset_idx], \"_dge_gene_list.txt\"))\n",
    "demg_list <- read_lines(paste0(dirs$analysis_dir, \"/gene_lists/\", unified_dsets[dset_idx], \"_dge_m_gene_list.txt\"))\n",
    "figo_list <- read_lines(paste0(dirs$analysis_dir, \"/gene_lists/\", unified_dsets[dset_idx], \"_figo_hub_thresh_\", hub_con_thresh, \"_gene_list.txt\"))\n",
    "network_figo_list <- read_lines(paste0(dirs$analysis_dir, \"/gene_lists/\", unified_dsets[dset_idx], \"_figo_network_hub_thresh_\", hub_con_thresh, \"_gene_list.txt\"))\n",
    "univar_figo_list <- read_lines(paste0(dirs$analysis_dir, \"/gene_lists/\", unified_dsets[dset_idx], \"_figo_univar_gene_list.txt\"))"
   ]
  },
  {
   "cell_type": "code",
   "execution_count": 40,
   "id": "serious-muslim",
   "metadata": {},
   "outputs": [
    {
     "data": {
      "text/html": [
       "<style>\n",
       ".list-inline {list-style: none; margin:0; padding: 0}\n",
       ".list-inline>li {display: inline-block}\n",
       ".list-inline>li:not(:last-child)::after {content: \"\\00b7\"; padding: 0 .5ex}\n",
       "</style>\n",
       "<ol class=list-inline><li>'LOXL3'</li><li>'LGI2'</li><li>'WNT10A'</li><li>'PAPPA2'</li><li>'ANGPT4'</li><li>'RSPO3'</li><li>'FGF12'</li></ol>\n"
      ],
      "text/latex": [
       "\\begin{enumerate*}\n",
       "\\item 'LOXL3'\n",
       "\\item 'LGI2'\n",
       "\\item 'WNT10A'\n",
       "\\item 'PAPPA2'\n",
       "\\item 'ANGPT4'\n",
       "\\item 'RSPO3'\n",
       "\\item 'FGF12'\n",
       "\\end{enumerate*}\n"
      ],
      "text/markdown": [
       "1. 'LOXL3'\n",
       "2. 'LGI2'\n",
       "3. 'WNT10A'\n",
       "4. 'PAPPA2'\n",
       "5. 'ANGPT4'\n",
       "6. 'RSPO3'\n",
       "7. 'FGF12'\n",
       "\n",
       "\n"
      ],
      "text/plain": [
       "[1] \"LOXL3\"  \"LGI2\"   \"WNT10A\" \"PAPPA2\" \"ANGPT4\" \"RSPO3\"  \"FGF12\" "
      ]
     },
     "metadata": {},
     "output_type": "display_data"
    },
    {
     "data": {
      "text/html": [
       "7"
      ],
      "text/latex": [
       "7"
      ],
      "text/markdown": [
       "7"
      ],
      "text/plain": [
       "[1] 7"
      ]
     },
     "metadata": {},
     "output_type": "display_data"
    }
   ],
   "source": [
    "full_overlap <- demg_list %>%\n",
    "    intersect(network_figo_list) %>%\n",
    "    intersect(univar_figo_list)\n",
    "full_overlap\n",
    "length(full_overlap)"
   ]
  },
  {
   "cell_type": "code",
   "execution_count": 41,
   "id": "distant-female",
   "metadata": {},
   "outputs": [
    {
     "data": {
      "text/html": [
       "618"
      ],
      "text/latex": [
       "618"
      ],
      "text/markdown": [
       "618"
      ],
      "text/plain": [
       "[1] 618"
      ]
     },
     "metadata": {},
     "output_type": "display_data"
    },
    {
     "data": {
      "text/html": [
       "135"
      ],
      "text/latex": [
       "135"
      ],
      "text/markdown": [
       "135"
      ],
      "text/plain": [
       "[1] 135"
      ]
     },
     "metadata": {},
     "output_type": "display_data"
    },
    {
     "data": {
      "text/html": [
       "71"
      ],
      "text/latex": [
       "71"
      ],
      "text/markdown": [
       "71"
      ],
      "text/plain": [
       "[1] 71"
      ]
     },
     "metadata": {},
     "output_type": "display_data"
    },
    {
     "data": {
      "text/html": [
       "7"
      ],
      "text/latex": [
       "7"
      ],
      "text/markdown": [
       "7"
      ],
      "text/plain": [
       "[1] 7"
      ]
     },
     "metadata": {},
     "output_type": "display_data"
    }
   ],
   "source": [
    "# Number DEMGs\n",
    "length(demg_list)\n",
    "# Number \"predictive\" genes\n",
    "length(univar_figo_list)\n",
    "# Number \"pseudohub\" FIGO network genes\n",
    "length(network_figo_list)\n",
    "\n",
    "demg_list %>%\n",
    "    intersect(univar_figo_list) %>%\n",
    "    intersect(network_figo_list) %>%\n",
    "    length()"
   ]
  },
  {
   "cell_type": "code",
   "execution_count": 42,
   "id": "collective-temple",
   "metadata": {},
   "outputs": [],
   "source": [
    "write_lines(full_overlap, paste0(dirs$analysis_dir, \"/gene_lists/\", unified_dsets[dset_idx], \"_full_overlap_hub_thresh_\", hub_con_thresh, \"_gene_list.txt\"))"
   ]
  }
 ],
 "metadata": {
  "kernelspec": {
   "display_name": "R",
   "language": "R",
   "name": "ir"
  },
  "language_info": {
   "codemirror_mode": "r",
   "file_extension": ".r",
   "mimetype": "text/x-r-source",
   "name": "R",
   "pygments_lexer": "r",
   "version": "4.0.3"
  }
 },
 "nbformat": 4,
 "nbformat_minor": 5
}
