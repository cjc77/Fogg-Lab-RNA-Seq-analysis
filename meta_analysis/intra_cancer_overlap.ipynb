{
 "cells": [
  {
   "cell_type": "code",
   "execution_count": 31,
   "id": "informal-sierra",
   "metadata": {},
   "outputs": [],
   "source": [
    "library(tidyverse)\n",
    "\n",
    "# Custom package\n",
    "library(rutils)"
   ]
  },
  {
   "cell_type": "code",
   "execution_count": 32,
   "id": "further-contemporary",
   "metadata": {},
   "outputs": [],
   "source": [
    "dirs <- rutils::get_dev_directories(dev_paths_file = \"../dev_paths.txt\")\n",
    "unified_dsets <- c(\"unified_cervical_data\", \"unified_uterine_data\", \"unified_uterine_endometrial_data\")\n",
    "matrisome_path <- paste0(dirs$data_dir, \"/matrisome/matrisome_hs_masterlist.tsv\")"
   ]
  },
  {
   "cell_type": "code",
   "execution_count": 59,
   "id": "horizontal-wilderness",
   "metadata": {},
   "outputs": [],
   "source": [
    "dset_idx <- 3\n",
    "# hub_con_thresh <- 0.5\n",
    "# hub_con_thresh <- 0.25\n",
    "hub_con_thresh <- 0.0"
   ]
  },
  {
   "cell_type": "code",
   "execution_count": 60,
   "id": "royal-mistake",
   "metadata": {},
   "outputs": [],
   "source": [
    "deg_list <- read_lines(paste0(dirs$analysis_dir, \"/gene_lists/\", unified_dsets[dset_idx], \"_dge_gene_list.txt\"))\n",
    "demg_list <- read_lines(paste0(dirs$analysis_dir, \"/gene_lists/\", unified_dsets[dset_idx], \"_dge_m_gene_list.txt\"))\n",
    "figo_list <- read_lines(paste0(dirs$analysis_dir, \"/gene_lists/\", unified_dsets[dset_idx], \"_figo_hub_thresh_\", hub_con_thresh, \"_gene_list.txt\"))\n",
    "network_figo_list <- read_lines(paste0(dirs$analysis_dir, \"/gene_lists/\", unified_dsets[dset_idx], \"_figo_network_hub_thresh_\", hub_con_thresh, \"_gene_list.txt\"))\n",
    "univar_figo_list <- read_lines(paste0(dirs$analysis_dir, \"/gene_lists/\", unified_dsets[dset_idx], \"_figo_univar_gene_list.txt\"))"
   ]
  },
  {
   "cell_type": "code",
   "execution_count": 61,
   "id": "reflected-alexander",
   "metadata": {},
   "outputs": [
    {
     "data": {
      "text/html": [
       "618"
      ],
      "text/latex": [
       "618"
      ],
      "text/markdown": [
       "618"
      ],
      "text/plain": [
       "[1] 618"
      ]
     },
     "metadata": {},
     "output_type": "display_data"
    },
    {
     "data": {
      "text/html": [
       "135"
      ],
      "text/latex": [
       "135"
      ],
      "text/markdown": [
       "135"
      ],
      "text/plain": [
       "[1] 135"
      ]
     },
     "metadata": {},
     "output_type": "display_data"
    },
    {
     "data": {
      "text/html": [
       "71"
      ],
      "text/latex": [
       "71"
      ],
      "text/markdown": [
       "71"
      ],
      "text/plain": [
       "[1] 71"
      ]
     },
     "metadata": {},
     "output_type": "display_data"
    }
   ],
   "source": [
    "length(demg_list)\n",
    "length(univar_figo_list)\n",
    "length(network_figo_list)"
   ]
  },
  {
   "cell_type": "code",
   "execution_count": 62,
   "id": "optimum-miami",
   "metadata": {},
   "outputs": [
    {
     "data": {
      "text/html": [
       "7"
      ],
      "text/latex": [
       "7"
      ],
      "text/markdown": [
       "7"
      ],
      "text/plain": [
       "[1] 7"
      ]
     },
     "metadata": {},
     "output_type": "display_data"
    }
   ],
   "source": [
    "full_overlap <- demg_list %>%\n",
    "    intersect(network_figo_list) %>%\n",
    "    intersect(univar_figo_list)\n",
    "# full_overlap\n",
    "length(full_overlap)"
   ]
  },
  {
   "cell_type": "code",
   "execution_count": 63,
   "id": "falling-request",
   "metadata": {},
   "outputs": [
    {
     "data": {
      "text/html": [
       "82"
      ],
      "text/latex": [
       "82"
      ],
      "text/markdown": [
       "82"
      ],
      "text/plain": [
       "[1] 82"
      ]
     },
     "metadata": {},
     "output_type": "display_data"
    }
   ],
   "source": [
    "demg_univar_overlap <- demg_list %>%\n",
    "    intersect(univar_figo_list)\n",
    "# demg_univar_overlap\n",
    "length(demg_univar_overlap)"
   ]
  },
  {
   "cell_type": "code",
   "execution_count": 38,
   "id": "blocked-mineral",
   "metadata": {},
   "outputs": [],
   "source": [
    "write_lines(full_overlap, paste0(dirs$analysis_dir, \"/gene_lists/\", unified_dsets[dset_idx], \"_full_overlap_hub_thresh_\", hub_con_thresh, \"_gene_list.txt\"))\n",
    "write_lines(demg_univar_overlap, paste0(dirs$analysis_dir, \"/gene_lists/\", unified_dsets[dset_idx], \"_demg_univar_overlap_gene_list.txt\"))"
   ]
  }
 ],
 "metadata": {
  "kernelspec": {
   "display_name": "R",
   "language": "R",
   "name": "ir"
  },
  "language_info": {
   "codemirror_mode": "r",
   "file_extension": ".r",
   "mimetype": "text/x-r-source",
   "name": "R",
   "pygments_lexer": "r",
   "version": "4.0.3"
  }
 },
 "nbformat": 4,
 "nbformat_minor": 5
}
