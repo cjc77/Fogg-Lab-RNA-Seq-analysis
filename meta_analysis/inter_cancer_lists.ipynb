{
 "cells": [
  {
   "cell_type": "code",
   "execution_count": 1,
   "id": "junior-party",
   "metadata": {
    "collapsed": true,
    "jupyter": {
     "outputs_hidden": true
    }
   },
   "outputs": [
    {
     "name": "stderr",
     "output_type": "stream",
     "text": [
      "-- \u001b[1mAttaching packages\u001b[22m --------------------------------------------------------------------------------------------------------------------- tidyverse 1.3.0 --\n",
      "\n",
      "\u001b[32mv\u001b[39m \u001b[34mggplot2\u001b[39m 3.3.3     \u001b[32mv\u001b[39m \u001b[34mpurrr  \u001b[39m 0.3.4\n",
      "\u001b[32mv\u001b[39m \u001b[34mtibble \u001b[39m 3.0.6     \u001b[32mv\u001b[39m \u001b[34mdplyr  \u001b[39m 1.0.4\n",
      "\u001b[32mv\u001b[39m \u001b[34mtidyr  \u001b[39m 1.1.2     \u001b[32mv\u001b[39m \u001b[34mstringr\u001b[39m 1.4.0\n",
      "\u001b[32mv\u001b[39m \u001b[34mreadr  \u001b[39m 1.4.0     \u001b[32mv\u001b[39m \u001b[34mforcats\u001b[39m 0.5.1\n",
      "\n",
      "Warning message:\n",
      "\"package 'ggplot2' was built under R version 4.0.3\"\n",
      "Warning message:\n",
      "\"package 'tibble' was built under R version 4.0.3\"\n",
      "Warning message:\n",
      "\"package 'readr' was built under R version 4.0.3\"\n",
      "Warning message:\n",
      "\"package 'dplyr' was built under R version 4.0.3\"\n",
      "Warning message:\n",
      "\"package 'forcats' was built under R version 4.0.3\"\n",
      "-- \u001b[1mConflicts\u001b[22m ------------------------------------------------------------------------------------------------------------------------ tidyverse_conflicts() --\n",
      "\u001b[31mx\u001b[39m \u001b[34mdplyr\u001b[39m::\u001b[32mfilter()\u001b[39m masks \u001b[34mstats\u001b[39m::filter()\n",
      "\u001b[31mx\u001b[39m \u001b[34mdplyr\u001b[39m::\u001b[32mlag()\u001b[39m    masks \u001b[34mstats\u001b[39m::lag()\n",
      "\n",
      "Warning message:\n",
      "\"package 'clusterProfiler' was built under R version 4.0.3\"\n",
      "\n",
      "\n",
      "clusterProfiler v3.18.0  For help: https://guangchuangyu.github.io/software/clusterProfiler\n",
      "\n",
      "If you use clusterProfiler in published research, please cite:\n",
      "Guangchuang Yu, Li-Gen Wang, Yanyan Han, Qing-Yu He. clusterProfiler: an R package for comparing biological themes among gene clusters. OMICS: A Journal of Integrative Biology. 2012, 16(5):284-287.\n",
      "\n",
      "\n",
      "Attaching package: 'clusterProfiler'\n",
      "\n",
      "\n",
      "The following object is masked from 'package:purrr':\n",
      "\n",
      "    simplify\n",
      "\n",
      "\n",
      "The following object is masked from 'package:stats':\n",
      "\n",
      "    filter\n",
      "\n",
      "\n",
      "Loading required package: dynamicTreeCut\n",
      "\n",
      "Loading required package: fastcluster\n",
      "\n",
      "Warning message:\n",
      "\"package 'fastcluster' was built under R version 4.0.3\"\n",
      "\n",
      "Attaching package: 'fastcluster'\n",
      "\n",
      "\n",
      "The following object is masked from 'package:stats':\n",
      "\n",
      "    hclust\n",
      "\n",
      "\n",
      "\n",
      "Attaching package: 'WGCNA'\n",
      "\n",
      "\n",
      "The following object is masked from 'package:stats':\n",
      "\n",
      "    cor\n",
      "\n",
      "\n"
     ]
    }
   ],
   "source": [
    "library(tidyverse)\n",
    "library(clusterProfiler)\n",
    "library(WGCNA)\n",
    "library(parallel)\n",
    "\n",
    "# Custom package\n",
    "library(rutils)"
   ]
  },
  {
   "cell_type": "code",
   "execution_count": 2,
   "id": "conservative-cemetery",
   "metadata": {},
   "outputs": [],
   "source": [
    "dirs <- rutils::get_dev_directories(dev_paths_file = \"../dev_paths.txt\")\n",
    "unified_dsets <- c(\"unified_cervical_data\", \"unified_uterine_data\", \"unified_uterine_endometrial_data\")\n",
    "matrisome_path <- paste0(dirs$data_dir, \"/matrisome/matrisome_hs_masterlist.tsv\")"
   ]
  },
  {
   "cell_type": "code",
   "execution_count": 15,
   "id": "danish-aberdeen",
   "metadata": {},
   "outputs": [],
   "source": [
    "dge_m_files <- paste0(dirs$analysis_dir, \"/gene_lists/\", unified_dsets, \"_dge_m_gene_list.txt\")\n",
    "univar_figo_files <- paste0(dirs$analysis_dir, \"/gene_lists/\", unified_dsets, \"_figo_univar_gene_list.txt\")\n",
    "network_figo_files <- paste0(dirs$analysis_dir, \"/gene_lists/\", unified_dsets, \"_figo_network_gene_list.txt\")"
   ]
  },
  {
   "cell_type": "code",
   "execution_count": 18,
   "id": "controversial-doubt",
   "metadata": {},
   "outputs": [],
   "source": [
    "dge_m_lists <- list()\n",
    "univar_figo_lists <- list()\n",
    "network_figo_lists <- list()\n",
    "\n",
    "for (i in 1:3) {\n",
    "    dge_m_lists[[unified_dsets[i]]] <- read_lines(dge_m_files[i])\n",
    "    univar_figo_lists[[unified_dsets[i]]] <- read_lines(univar_figo_files[i])\n",
    "    network_figo_lists[[unified_dsets[i]]] <- read_lines(network_figo_files[i])\n",
    "}"
   ]
  },
  {
   "cell_type": "code",
   "execution_count": 19,
   "id": "collect-letters",
   "metadata": {},
   "outputs": [
    {
     "data": {
      "text/html": [
       "340"
      ],
      "text/latex": [
       "340"
      ],
      "text/markdown": [
       "340"
      ],
      "text/plain": [
       "[1] 340"
      ]
     },
     "metadata": {},
     "output_type": "display_data"
    },
    {
     "data": {
      "text/html": [
       "7"
      ],
      "text/latex": [
       "7"
      ],
      "text/markdown": [
       "7"
      ],
      "text/plain": [
       "[1] 7"
      ]
     },
     "metadata": {},
     "output_type": "display_data"
    },
    {
     "data": {
      "text/html": [
       "0"
      ],
      "text/latex": [
       "0"
      ],
      "text/markdown": [
       "0"
      ],
      "text/plain": [
       "[1] 0"
      ]
     },
     "metadata": {},
     "output_type": "display_data"
    }
   ],
   "source": [
    "length(Reduce(intersect, dge_m_lists))\n",
    "length(Reduce(intersect, univar_figo_lists))\n",
    "length(Reduce(intersect, network_figo_lists))"
   ]
  }
 ],
 "metadata": {
  "kernelspec": {
   "display_name": "R",
   "language": "R",
   "name": "ir"
  },
  "language_info": {
   "codemirror_mode": "r",
   "file_extension": ".r",
   "mimetype": "text/x-r-source",
   "name": "R",
   "pygments_lexer": "r",
   "version": "4.0.3"
  }
 },
 "nbformat": 4,
 "nbformat_minor": 5
}
