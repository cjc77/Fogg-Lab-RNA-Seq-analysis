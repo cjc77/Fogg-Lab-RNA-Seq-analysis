{
 "cells": [
  {
   "cell_type": "code",
   "execution_count": 2,
   "id": "caring-renewal",
   "metadata": {},
   "outputs": [
    {
     "name": "stderr",
     "output_type": "stream",
     "text": [
      "-- \u001b[1mAttaching packages\u001b[22m ------------------------------------------------------------------------------- tidyverse 1.3.0 --\n",
      "\n",
      "\u001b[32mv\u001b[39m \u001b[34mggplot2\u001b[39m 3.3.3     \u001b[32mv\u001b[39m \u001b[34mpurrr  \u001b[39m 0.3.4\n",
      "\u001b[32mv\u001b[39m \u001b[34mtibble \u001b[39m 3.0.6     \u001b[32mv\u001b[39m \u001b[34mdplyr  \u001b[39m 1.0.4\n",
      "\u001b[32mv\u001b[39m \u001b[34mtidyr  \u001b[39m 1.1.2     \u001b[32mv\u001b[39m \u001b[34mstringr\u001b[39m 1.4.0\n",
      "\u001b[32mv\u001b[39m \u001b[34mreadr  \u001b[39m 1.4.0     \u001b[32mv\u001b[39m \u001b[34mforcats\u001b[39m 0.5.1\n",
      "\n",
      "-- \u001b[1mConflicts\u001b[22m ---------------------------------------------------------------------------------- tidyverse_conflicts() --\n",
      "\u001b[31mx\u001b[39m \u001b[34mdplyr\u001b[39m::\u001b[32mfilter()\u001b[39m masks \u001b[34mstats\u001b[39m::filter()\n",
      "\u001b[31mx\u001b[39m \u001b[34mdplyr\u001b[39m::\u001b[32mlag()\u001b[39m    masks \u001b[34mstats\u001b[39m::lag()\n",
      "\n"
     ]
    }
   ],
   "source": [
    "library(tidyverse)\n",
    "\n",
    "# Custom package\n",
    "library(rutils)"
   ]
  },
  {
   "cell_type": "code",
   "execution_count": 3,
   "id": "requested-violence",
   "metadata": {},
   "outputs": [],
   "source": [
    "dirs <- rutils::get_dev_directories(dev_paths_file = \"../dev_paths.txt\")\n",
    "unified_dsets <- c(\"unified_cervical_data\", \"unified_uterine_data\", \"unified_uterine_endometrial_data\")\n",
    "matrisome_path <- paste0(dirs$data_dir, \"/matrisome/matrisome_hs_masterlist.tsv\")"
   ]
  },
  {
   "cell_type": "code",
   "execution_count": 4,
   "id": "downtown-blowing",
   "metadata": {},
   "outputs": [],
   "source": [
    "# hub_con_thresh <- 0.5\n",
    "# hub_con_thresh <- 0.25\n",
    "hub_con_thresh <- 0.0"
   ]
  },
  {
   "cell_type": "code",
   "execution_count": 5,
   "id": "apparent-juice",
   "metadata": {},
   "outputs": [],
   "source": [
    "dge_m_files <- paste0(dirs$analysis_dir, \"/gene_lists/\", unified_dsets, \"_dge_m_gene_list.txt\")\n",
    "univar_figo_files <- paste0(dirs$analysis_dir, \"/gene_lists/\", unified_dsets, \"_figo_univar_gene_list.txt\")\n",
    "network_figo_files <- paste0(dirs$analysis_dir, \"/gene_lists/\", unified_dsets, \"_figo_network_hub_thresh_\", hub_con_thresh, \"_gene_list.txt\")"
   ]
  },
  {
   "cell_type": "code",
   "execution_count": 6,
   "id": "stable-weekly",
   "metadata": {},
   "outputs": [],
   "source": [
    "dge_m_lists <- list()\n",
    "univar_figo_lists <- list()\n",
    "network_figo_lists <- list()\n",
    "\n",
    "for (i in 1:3) {\n",
    "    dge_m_lists[[unified_dsets[i]]] <- read_lines(dge_m_files[i])\n",
    "    univar_figo_lists[[unified_dsets[i]]] <- read_lines(univar_figo_files[i])\n",
    "    network_figo_lists[[unified_dsets[i]]] <- read_lines(network_figo_files[i])\n",
    "}"
   ]
  },
  {
   "cell_type": "code",
   "execution_count": 7,
   "id": "flexible-reproduction",
   "metadata": {},
   "outputs": [
    {
     "data": {
      "text/html": [
       "340"
      ],
      "text/latex": [
       "340"
      ],
      "text/markdown": [
       "340"
      ],
      "text/plain": [
       "[1] 340"
      ]
     },
     "metadata": {},
     "output_type": "display_data"
    },
    {
     "data": {
      "text/html": [
       "7"
      ],
      "text/latex": [
       "7"
      ],
      "text/markdown": [
       "7"
      ],
      "text/plain": [
       "[1] 7"
      ]
     },
     "metadata": {},
     "output_type": "display_data"
    },
    {
     "data": {
      "text/html": [
       "4"
      ],
      "text/latex": [
       "4"
      ],
      "text/markdown": [
       "4"
      ],
      "text/plain": [
       "[1] 4"
      ]
     },
     "metadata": {},
     "output_type": "display_data"
    }
   ],
   "source": [
    "demg_intersection <- Reduce(intersect, dge_m_lists)\n",
    "univar_figo_intersection <- Reduce(intersect, univar_figo_lists)\n",
    "network_figo_intersection <- Reduce(intersect, network_figo_lists)\n",
    "\n",
    "length(demg_intersection)\n",
    "length(univar_figo_intersection)\n",
    "length(network_figo_intersection)"
   ]
  },
  {
   "cell_type": "code",
   "execution_count": 8,
   "id": "endless-accordance",
   "metadata": {},
   "outputs": [],
   "source": [
    "write_lines(demg_intersection, paste0(dirs$analysis_dir, \"/gene_lists/all_cancer_demg_overlap_gene_list.txt\"))\n",
    "write_lines(univar_figo_intersection, paste0(dirs$analysis_dir, \"/gene_lists/all_cancer_figo_univar_overlap_gene_list.txt\"))\n",
    "write_lines(network_figo_intersection, paste0(dirs$analysis_dir, \"/gene_lists/all_cancer_figo_network_hub_thresh_\", hub_con_thresh, \"_overlap_gene_list.txt\"))"
   ]
  }
 ],
 "metadata": {
  "kernelspec": {
   "display_name": "R",
   "language": "R",
   "name": "ir"
  },
  "language_info": {
   "codemirror_mode": "r",
   "file_extension": ".r",
   "mimetype": "text/x-r-source",
   "name": "R",
   "pygments_lexer": "r",
   "version": "4.0.3"
  }
 },
 "nbformat": 4,
 "nbformat_minor": 5
}
