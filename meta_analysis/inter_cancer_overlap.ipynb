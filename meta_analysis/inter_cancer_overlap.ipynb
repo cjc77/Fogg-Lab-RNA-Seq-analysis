{
 "cells": [
  {
   "cell_type": "code",
   "execution_count": 8,
   "id": "disciplinary-modeling",
   "metadata": {},
   "outputs": [],
   "source": [
    "library(tidyverse)\n",
    "\n",
    "# Custom package\n",
    "library(rutils)"
   ]
  },
  {
   "cell_type": "code",
   "execution_count": 9,
   "id": "dense-trouble",
   "metadata": {},
   "outputs": [],
   "source": [
    "dirs <- rutils::get_dev_directories(dev_paths_file = \"../dev_paths.txt\")\n",
    "unified_dsets <- c(\"unified_cervical_data\", \"unified_uterine_data\", \"unified_uterine_endometrial_data\")\n",
    "matrisome_path <- paste0(dirs$data_dir, \"/matrisome/matrisome_hs_masterlist.tsv\")"
   ]
  },
  {
   "cell_type": "code",
   "execution_count": 10,
   "id": "quarterly-humanitarian",
   "metadata": {},
   "outputs": [],
   "source": [
    "hub_con_thresh <- 0.5\n",
    "# hub_con_thresh <- 0.25"
   ]
  },
  {
   "cell_type": "code",
   "execution_count": 11,
   "id": "unknown-visibility",
   "metadata": {},
   "outputs": [],
   "source": [
    "dge_m_files <- paste0(dirs$analysis_dir, \"/gene_lists/\", unified_dsets, \"_dge_m_gene_list.txt\")\n",
    "univar_figo_files <- paste0(dirs$analysis_dir, \"/gene_lists/\", unified_dsets, \"_figo_univar_gene_list.txt\")\n",
    "network_figo_files <- paste0(dirs$analysis_dir, \"/gene_lists/\", unified_dsets, \"_figo_network_hub_thresh_\", hub_con_thresh, \"_gene_list.txt\")"
   ]
  },
  {
   "cell_type": "code",
   "execution_count": 12,
   "id": "undefined-death",
   "metadata": {},
   "outputs": [],
   "source": [
    "dge_m_lists <- list()\n",
    "univar_figo_lists <- list()\n",
    "network_figo_lists <- list()\n",
    "\n",
    "for (i in 1:3) {\n",
    "    dge_m_lists[[unified_dsets[i]]] <- read_lines(dge_m_files[i])\n",
    "    univar_figo_lists[[unified_dsets[i]]] <- read_lines(univar_figo_files[i])\n",
    "    network_figo_lists[[unified_dsets[i]]] <- read_lines(network_figo_files[i])\n",
    "}"
   ]
  },
  {
   "cell_type": "code",
   "execution_count": 13,
   "id": "accessory-palestine",
   "metadata": {},
   "outputs": [
    {
     "data": {
      "text/html": [
       "340"
      ],
      "text/latex": [
       "340"
      ],
      "text/markdown": [
       "340"
      ],
      "text/plain": [
       "[1] 340"
      ]
     },
     "metadata": {},
     "output_type": "display_data"
    },
    {
     "data": {
      "text/html": [
       "7"
      ],
      "text/latex": [
       "7"
      ],
      "text/markdown": [
       "7"
      ],
      "text/plain": [
       "[1] 7"
      ]
     },
     "metadata": {},
     "output_type": "display_data"
    },
    {
     "data": {
      "text/html": [
       "0"
      ],
      "text/latex": [
       "0"
      ],
      "text/markdown": [
       "0"
      ],
      "text/plain": [
       "[1] 0"
      ]
     },
     "metadata": {},
     "output_type": "display_data"
    }
   ],
   "source": [
    "demg_intersection <- Reduce(intersect, dge_m_lists)\n",
    "univar_figo_intersection <- Reduce(intersect, univar_figo_lists)\n",
    "network_figo_intersection <- Reduce(intersect, network_figo_lists)\n",
    "\n",
    "length(demg_intersection)\n",
    "length(univar_figo_intersection)\n",
    "length(network_figo_intersection)"
   ]
  },
  {
   "cell_type": "code",
   "execution_count": 14,
   "id": "buried-found",
   "metadata": {},
   "outputs": [],
   "source": [
    "write_lines(demg_intersection, paste0(dirs$analysis_dir, \"/gene_lists/all_cancer_demg_overlap_gene_list.txt\"))\n",
    "write_lines(univar_figo_intersection, paste0(dirs$analysis_dir, \"/gene_lists/all_cancer_figo_univar_overlap_gene_list.txt\"))\n",
    "write_lines(network_figo_intersection, paste0(dirs$analysis_dir, \"/gene_lists/all_cancer_figo_network_hub_thresh_\", hub_con_thresh, \"_overlap_gene_list.txt\"))"
   ]
  }
 ],
 "metadata": {
  "kernelspec": {
   "display_name": "R",
   "language": "R",
   "name": "ir"
  },
  "language_info": {
   "codemirror_mode": "r",
   "file_extension": ".r",
   "mimetype": "text/x-r-source",
   "name": "R",
   "pygments_lexer": "r",
   "version": "4.0.3"
  }
 },
 "nbformat": 4,
 "nbformat_minor": 5
}
