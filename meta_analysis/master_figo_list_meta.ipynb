{
 "cells": [
  {
   "cell_type": "code",
   "execution_count": 1,
   "id": "applicable-edmonton",
   "metadata": {},
   "outputs": [
    {
     "name": "stderr",
     "output_type": "stream",
     "text": [
      "-- \u001b[1mAttaching packages\u001b[22m ------------------------------------------------------------------ tidyverse 1.3.0 --\n",
      "\n",
      "\u001b[32mv\u001b[39m \u001b[34mggplot2\u001b[39m 3.3.3     \u001b[32mv\u001b[39m \u001b[34mpurrr  \u001b[39m 0.3.4\n",
      "\u001b[32mv\u001b[39m \u001b[34mtibble \u001b[39m 3.0.6     \u001b[32mv\u001b[39m \u001b[34mdplyr  \u001b[39m 1.0.4\n",
      "\u001b[32mv\u001b[39m \u001b[34mtidyr  \u001b[39m 1.1.2     \u001b[32mv\u001b[39m \u001b[34mstringr\u001b[39m 1.4.0\n",
      "\u001b[32mv\u001b[39m \u001b[34mreadr  \u001b[39m 1.4.0     \u001b[32mv\u001b[39m \u001b[34mforcats\u001b[39m 0.5.1\n",
      "\n",
      "-- \u001b[1mConflicts\u001b[22m --------------------------------------------------------------------- tidyverse_conflicts() --\n",
      "\u001b[31mx\u001b[39m \u001b[34mdplyr\u001b[39m::\u001b[32mfilter()\u001b[39m masks \u001b[34mstats\u001b[39m::filter()\n",
      "\u001b[31mx\u001b[39m \u001b[34mdplyr\u001b[39m::\u001b[32mlag()\u001b[39m    masks \u001b[34mstats\u001b[39m::lag()\n",
      "\n"
     ]
    }
   ],
   "source": [
    "library(tidyverse)\n",
    "\n",
    "# Custom package\n",
    "library(rutils)"
   ]
  },
  {
   "cell_type": "code",
   "execution_count": 2,
   "id": "fabulous-balance",
   "metadata": {},
   "outputs": [],
   "source": [
    "dirs <- rutils::get_dev_directories(dev_paths_file = \"../dev_paths.txt\")\n",
    "unified_dsets <- c(\"unified_cervical_data\", \"unified_uterine_data\", \"unified_uterine_endometrial_data\")\n",
    "projects <- c(\"cesc\", \"ucs\", \"ucec\")"
   ]
  },
  {
   "cell_type": "code",
   "execution_count": 3,
   "id": "coated-shannon",
   "metadata": {},
   "outputs": [],
   "source": [
    "dset_idx <- 3\n",
    "save_res <- TRUE"
   ]
  },
  {
   "cell_type": "code",
   "execution_count": 4,
   "id": "gorgeous-remainder",
   "metadata": {},
   "outputs": [],
   "source": [
    "padj_pairwise_figo_thresh <- 0.01\n",
    "lfc_thresh <- log2(2)"
   ]
  },
  {
   "cell_type": "code",
   "execution_count": 5,
   "id": "banned-sympathy",
   "metadata": {},
   "outputs": [
    {
     "name": "stderr",
     "output_type": "stream",
     "text": [
      "\n",
      "\u001b[36m--\u001b[39m \u001b[1m\u001b[1mColumn specification\u001b[1m\u001b[22m \u001b[36m-----------------------------------------------------------------------------------\u001b[39m\n",
      "cols(\n",
      "  Division = \u001b[31mcol_character()\u001b[39m,\n",
      "  Category = \u001b[31mcol_character()\u001b[39m,\n",
      "  `Gene Symbol` = \u001b[31mcol_character()\u001b[39m,\n",
      "  `Gene Name` = \u001b[31mcol_character()\u001b[39m,\n",
      "  Synonyms = \u001b[31mcol_character()\u001b[39m,\n",
      "  HGNC_IDs = \u001b[32mcol_double()\u001b[39m,\n",
      "  `HGNC_IDs Links` = \u001b[32mcol_double()\u001b[39m,\n",
      "  UniProt_IDs = \u001b[31mcol_character()\u001b[39m,\n",
      "  Refseq_IDs = \u001b[31mcol_character()\u001b[39m,\n",
      "  Orthology = \u001b[31mcol_character()\u001b[39m,\n",
      "  Notes = \u001b[31mcol_character()\u001b[39m\n",
      ")\n",
      "\n",
      "\n",
      "\n",
      "\u001b[36m--\u001b[39m \u001b[1m\u001b[1mColumn specification\u001b[1m\u001b[22m \u001b[36m-----------------------------------------------------------------------------------\u001b[39m\n",
      "cols(\n",
      "  geneID = \u001b[31mcol_character()\u001b[39m,\n",
      "  baseMean = \u001b[32mcol_double()\u001b[39m,\n",
      "  log2FoldChange = \u001b[32mcol_double()\u001b[39m,\n",
      "  lfcSE = \u001b[32mcol_double()\u001b[39m,\n",
      "  stat = \u001b[32mcol_double()\u001b[39m,\n",
      "  pvalue = \u001b[32mcol_double()\u001b[39m,\n",
      "  padj = \u001b[32mcol_double()\u001b[39m,\n",
      "  qval = \u001b[32mcol_double()\u001b[39m\n",
      ")\n",
      "\n",
      "\n",
      "\n",
      "\u001b[36m--\u001b[39m \u001b[1m\u001b[1mColumn specification\u001b[1m\u001b[22m \u001b[36m-----------------------------------------------------------------------------------\u001b[39m\n",
      "cols(\n",
      "  geneID = \u001b[31mcol_character()\u001b[39m,\n",
      "  base_mean = \u001b[32mcol_double()\u001b[39m,\n",
      "  l2fc = \u001b[32mcol_double()\u001b[39m,\n",
      "  pval = \u001b[32mcol_double()\u001b[39m,\n",
      "  padj = \u001b[32mcol_double()\u001b[39m,\n",
      "  contrast = \u001b[31mcol_character()\u001b[39m\n",
      ")\n",
      "\n",
      "\n",
      "\n",
      "\u001b[36m--\u001b[39m \u001b[1m\u001b[1mColumn specification\u001b[1m\u001b[22m \u001b[36m-----------------------------------------------------------------------------------\u001b[39m\n",
      "cols(\n",
      "  geneID = \u001b[31mcol_character()\u001b[39m,\n",
      "  figo_stage_1_pval = \u001b[32mcol_double()\u001b[39m,\n",
      "  figo_stage_2_pval = \u001b[32mcol_double()\u001b[39m,\n",
      "  figo_stage_3_pval = \u001b[32mcol_double()\u001b[39m,\n",
      "  figo_stage_4_pval = \u001b[32mcol_double()\u001b[39m,\n",
      "  figo_stage_1_qval = \u001b[32mcol_double()\u001b[39m,\n",
      "  figo_stage_2_qval = \u001b[32mcol_double()\u001b[39m,\n",
      "  figo_stage_3_qval = \u001b[32mcol_double()\u001b[39m,\n",
      "  figo_stage_4_qval = \u001b[32mcol_double()\u001b[39m,\n",
      "  figo_stage_1_cor = \u001b[32mcol_double()\u001b[39m,\n",
      "  figo_stage_2_cor = \u001b[32mcol_double()\u001b[39m,\n",
      "  figo_stage_3_cor = \u001b[32mcol_double()\u001b[39m,\n",
      "  figo_stage_4_cor = \u001b[32mcol_double()\u001b[39m\n",
      ")\n",
      "\n",
      "\n",
      "\n",
      "\u001b[36m--\u001b[39m \u001b[1m\u001b[1mColumn specification\u001b[1m\u001b[22m \u001b[36m-----------------------------------------------------------------------------------\u001b[39m\n",
      "cols(\n",
      "  geneID = \u001b[31mcol_character()\u001b[39m,\n",
      "  figo_stage_1_coefs = \u001b[32mcol_double()\u001b[39m,\n",
      "  figo_stage_2_coefs = \u001b[32mcol_double()\u001b[39m,\n",
      "  figo_stage_3_coefs = \u001b[32mcol_double()\u001b[39m,\n",
      "  figo_stage_4_coefs = \u001b[32mcol_double()\u001b[39m\n",
      ")\n",
      "\n",
      "\n",
      "\n",
      "\u001b[36m--\u001b[39m \u001b[1m\u001b[1mColumn specification\u001b[1m\u001b[22m \u001b[36m-----------------------------------------------------------------------------------\u001b[39m\n",
      "cols(\n",
      "  .default = col_double(),\n",
      "  geneID = \u001b[31mcol_character()\u001b[39m,\n",
      "  module = \u001b[31mcol_character()\u001b[39m\n",
      ")\n",
      "\u001b[36mi\u001b[39m Use \u001b[30m\u001b[47m\u001b[30m\u001b[47m`spec()`\u001b[47m\u001b[30m\u001b[49m\u001b[39m for the full column specifications.\n",
      "\n",
      "\n",
      "\n",
      "\u001b[36m--\u001b[39m \u001b[1m\u001b[1mColumn specification\u001b[1m\u001b[22m \u001b[36m-----------------------------------------------------------------------------------\u001b[39m\n",
      "cols(\n",
      "  module = \u001b[31mcol_character()\u001b[39m,\n",
      "  figo_stage_1_cor = \u001b[32mcol_double()\u001b[39m,\n",
      "  figo_stage_2_cor = \u001b[32mcol_double()\u001b[39m,\n",
      "  figo_stage_3_cor = \u001b[32mcol_double()\u001b[39m,\n",
      "  figo_stage_4_cor = \u001b[32mcol_double()\u001b[39m,\n",
      "  figo_stage_1_pval = \u001b[32mcol_double()\u001b[39m,\n",
      "  figo_stage_2_pval = \u001b[32mcol_double()\u001b[39m,\n",
      "  figo_stage_3_pval = \u001b[32mcol_double()\u001b[39m,\n",
      "  figo_stage_4_pval = \u001b[32mcol_double()\u001b[39m,\n",
      "  figo_stage_1_qval = \u001b[32mcol_double()\u001b[39m,\n",
      "  figo_stage_2_qval = \u001b[32mcol_double()\u001b[39m,\n",
      "  figo_stage_3_qval = \u001b[32mcol_double()\u001b[39m,\n",
      "  figo_stage_4_qval = \u001b[32mcol_double()\u001b[39m,\n",
      "  vital_hr = \u001b[32mcol_double()\u001b[39m,\n",
      "  vital_dev_cor = \u001b[32mcol_double()\u001b[39m,\n",
      "  vital_pval = \u001b[32mcol_double()\u001b[39m,\n",
      "  vital_qval = \u001b[32mcol_double()\u001b[39m\n",
      ")\n",
      "\n",
      "\n"
     ]
    }
   ],
   "source": [
    "mat_df <- rutils::load_matrisome_df(paste0(dirs$data_dir, \"/matrisome/matrisome_hs_masterlist.tsv\")) %>%\n",
    "    select(gene_symbol, gene_name, division, category, hgnc_ids)\n",
    "figo_demg_df <- read_lines(paste0(dirs$analysis_dir, \"/gene_lists_extra/\", projects[dset_idx], \"_figo_demg.txt\")) %>%\n",
    "    as_tibble() %>%\n",
    "    rename(geneID = value)\n",
    "deg_df <- read_tsv(paste0(dirs$analysis_dir, \"/deg/\", unified_dsets[dset_idx], \"_DESeq_results.tsv\")) %>%\n",
    "    select(geneID, baseMean, log2FoldChange, qval) %>%\n",
    "    rename(de_base_mean = baseMean, de_l2fc = log2FoldChange, de_qval = qval)\n",
    "# waov_df <- read_tsv(paste0(dirs$analysis_dir, \"/feature_selection/\", unified_dsets[dset_idx], \"_welch_anova_results.tsv\")) %>%\n",
    "#     select(geneID, contains(\"qval\")) %>%\n",
    "#     rename_with(~ str_replace(., \"qval\", \"anova_qval\"))\n",
    "figo_pairwise_demg_df <- read_tsv(paste0(dirs$analysis_dir, \"/feature_selection/\", unified_dsets[dset_idx], \"_figo_pairwise_demg_results.tsv\"))\n",
    "pbc_df <- read_tsv(paste0(dirs$analysis_dir, \"/feature_selection/\", unified_dsets[dset_idx], \"_pbc_results.tsv\")) %>%\n",
    "    select(geneID, contains(\"qval\"), contains(\"cor\")) %>%\n",
    "    rename_with(~ str_replace(., \"qval\", \"cor_qval\")) %>%\n",
    "    rowwise() %>%\n",
    "    mutate(min_cor_qval = min(figo_stage_1_cor_qval, figo_stage_2_cor_qval, figo_stage_3_cor_qval, figo_stage_4_cor_qval)) %>%\n",
    "    ungroup()\n",
    "lasso_df <- read_tsv(paste0(dirs$analysis_dir, \"/feature_selection/\", unified_dsets[dset_idx], \"_en_multinom_results.tsv\")) %>%\n",
    "    # All coefs should be the same\n",
    "    mutate(lasso_coef = figo_stage_1_coefs) %>%\n",
    "    select(geneID, lasso_coef)\n",
    "wgcna_mm_df <- read_tsv(paste0(dirs$analysis_dir, \"/network/\", unified_dsets[dset_idx], \"_gene_mm_gs.tsv\")) %>%\n",
    "    select(geneID, module, mm_pval)\n",
    "wgcna_eg_df <- read_tsv(paste0(dirs$analysis_dir, \"/network/\", unified_dsets[dset_idx], \"_eigengene_traits.tsv\")) %>%\n",
    "    rowwise() %>%\n",
    "    mutate(eg_figo_qval_min = min(figo_stage_1_qval, figo_stage_2_qval, figo_stage_3_qval, figo_stage_4_qval)) %>%\n",
    "    ungroup() %>%\n",
    "    select(-starts_with(\"vital\"), -contains(\"pval\"), -contains(\"cor\")) %>%\n",
    "    rename_with(~ str_replace(., \"qval\", \"wgcna_qval\"))"
   ]
  },
  {
   "cell_type": "markdown",
   "id": "desperate-senegal",
   "metadata": {},
   "source": [
    "# Organize FIGO pairwise DEMG results"
   ]
  },
  {
   "cell_type": "code",
   "execution_count": 6,
   "id": "charitable-barrier",
   "metadata": {},
   "outputs": [
    {
     "name": "stderr",
     "output_type": "stream",
     "text": [
      "\n",
      "\u001b[36m--\u001b[39m \u001b[1m\u001b[1mColumn specification\u001b[1m\u001b[22m \u001b[36m-----------------------------------------------------------------------------------\u001b[39m\n",
      "cols(\n",
      "  geneID = \u001b[31mcol_character()\u001b[39m,\n",
      "  base_mean = \u001b[32mcol_double()\u001b[39m,\n",
      "  l2fc = \u001b[32mcol_double()\u001b[39m,\n",
      "  pval = \u001b[32mcol_double()\u001b[39m,\n",
      "  padj = \u001b[32mcol_double()\u001b[39m,\n",
      "  contrast = \u001b[31mcol_character()\u001b[39m\n",
      ")\n",
      "\n",
      "\n"
     ]
    },
    {
     "data": {
      "text/html": [
       "88"
      ],
      "text/latex": [
       "88"
      ],
      "text/markdown": [
       "88"
      ],
      "text/plain": [
       "[1] 88"
      ]
     },
     "metadata": {},
     "output_type": "display_data"
    }
   ],
   "source": [
    "figo_pairwise_demg_df <- read_tsv(paste0(dirs$analysis_dir, \"/feature_selection/\", unified_dsets[dset_idx], \"_figo_pairwise_demg_results.tsv\"))\n",
    "sig_figo_pairwise_demg_lfcs_df <- figo_pairwise_demg_df %>%\n",
    "    spread(contrast, l2fc) %>%\n",
    "    rowwise() %>%\n",
    "    mutate(l2fc = first(na.omit(c(`2_vs_1`, `3_vs_1`, `4_vs_1`, `3_vs_2`, `4_vs_2`, `4_vs_3`)))) %>%\n",
    "    ungroup() %>%\n",
    "    filter(padj < padj_pairwise_figo_thresh, abs(l2fc) > lfc_thresh) %>%\n",
    "    group_by(geneID) %>%\n",
    "    summarize(\n",
    "        figo_2v1 = first(na.omit(`2_vs_1`)),\n",
    "        figo_3v1 = first(na.omit(`3_vs_1`)),\n",
    "        figo_4v1 = first(na.omit(`4_vs_1`)),\n",
    "        figo_3v2 = first(na.omit(`3_vs_2`)),\n",
    "        figo_4v2 = first(na.omit(`4_vs_2`)),\n",
    "        figo_4v3 = first(na.omit(`4_vs_3`))\n",
    "    ) %>%\n",
    "    rename_with(~ str_replace(., \"figo\", \"sig_figo_lfc\"))\n",
    "\n",
    "sig_figo_pairwise_demg_contrasts_df <- figo_pairwise_demg_df %>%\n",
    "    filter(padj < padj_pairwise_figo_thresh, abs(l2fc) > lfc_thresh) %>%\n",
    "    group_by(geneID) %>%\n",
    "    summarize(sig_contrasts = paste0(contrast, collapse = \";\")) %>%\n",
    "    ungroup()\n",
    "\n",
    "sig_figo_pairwise_demg_df <- sig_figo_pairwise_demg_contrasts_df %>%\n",
    "    inner_join(sig_figo_pairwise_demg_lfcs_df, by = \"geneID\")\n",
    "nrow(sig_figo_pairwise_demg_df)"
   ]
  },
  {
   "cell_type": "code",
   "execution_count": 7,
   "id": "finnish-present",
   "metadata": {},
   "outputs": [],
   "source": [
    "meta_df <- figo_demg_df %>%\n",
    "    inner_join(mat_df, by = c(\"geneID\" = \"gene_symbol\")) %>%\n",
    "    inner_join(deg_df, by = \"geneID\") %>%\n",
    "#     left_join(waov_df, by = \"geneID\") %>%\n",
    "    left_join(sig_figo_pairwise_demg_df, by = \"geneID\") %>%\n",
    "    left_join(pbc_df, by = \"geneID\") %>%\n",
    "    left_join(lasso_df, by = \"geneID\") %>%\n",
    "    inner_join(wgcna_mm_df, by = \"geneID\") %>%\n",
    "    inner_join(wgcna_eg_df, by = \"module\") %>%\n",
    "    replace_na(list(lasso_coef = 0))"
   ]
  },
  {
   "cell_type": "code",
   "execution_count": 8,
   "id": "ignored-brook",
   "metadata": {},
   "outputs": [],
   "source": [
    "if (save_res) {\n",
    "    meta_df %>% write_tsv(paste0(dirs$analysis_dir, \"/meta/\", unified_dsets[dset_idx], \"_full_figo_umsmg_summary.tsv\"))\n",
    "}"
   ]
  },
  {
   "cell_type": "code",
   "execution_count": null,
   "id": "victorian-camel",
   "metadata": {},
   "outputs": [],
   "source": []
  }
 ],
 "metadata": {
  "kernelspec": {
   "display_name": "R",
   "language": "R",
   "name": "ir"
  },
  "language_info": {
   "codemirror_mode": "r",
   "file_extension": ".r",
   "mimetype": "text/x-r-source",
   "name": "R",
   "pygments_lexer": "r",
   "version": "4.0.3"
  }
 },
 "nbformat": 4,
 "nbformat_minor": 5
}
