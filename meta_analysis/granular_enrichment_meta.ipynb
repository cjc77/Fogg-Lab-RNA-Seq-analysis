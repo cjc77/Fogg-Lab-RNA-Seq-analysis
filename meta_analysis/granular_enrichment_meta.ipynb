{
 "cells": [
  {
   "cell_type": "code",
   "execution_count": 1,
   "id": "smart-requirement",
   "metadata": {},
   "outputs": [
    {
     "name": "stderr",
     "output_type": "stream",
     "text": [
      "-- \u001b[1mAttaching packages\u001b[22m ------------------------------------------------------------------------------- tidyverse 1.3.0 --\n",
      "\n",
      "\u001b[32mv\u001b[39m \u001b[34mggplot2\u001b[39m 3.3.3     \u001b[32mv\u001b[39m \u001b[34mpurrr  \u001b[39m 0.3.4\n",
      "\u001b[32mv\u001b[39m \u001b[34mtibble \u001b[39m 3.0.6     \u001b[32mv\u001b[39m \u001b[34mdplyr  \u001b[39m 1.0.4\n",
      "\u001b[32mv\u001b[39m \u001b[34mtidyr  \u001b[39m 1.1.2     \u001b[32mv\u001b[39m \u001b[34mstringr\u001b[39m 1.4.0\n",
      "\u001b[32mv\u001b[39m \u001b[34mreadr  \u001b[39m 1.4.0     \u001b[32mv\u001b[39m \u001b[34mforcats\u001b[39m 0.5.1\n",
      "\n",
      "-- \u001b[1mConflicts\u001b[22m ---------------------------------------------------------------------------------- tidyverse_conflicts() --\n",
      "\u001b[31mx\u001b[39m \u001b[34mdplyr\u001b[39m::\u001b[32mfilter()\u001b[39m masks \u001b[34mstats\u001b[39m::filter()\n",
      "\u001b[31mx\u001b[39m \u001b[34mdplyr\u001b[39m::\u001b[32mlag()\u001b[39m    masks \u001b[34mstats\u001b[39m::lag()\n",
      "\n"
     ]
    }
   ],
   "source": [
    "library(tidyverse)\n",
    "\n",
    "# Custom package\n",
    "library(rutils)"
   ]
  },
  {
   "cell_type": "code",
   "execution_count": 2,
   "id": "systematic-franklin",
   "metadata": {},
   "outputs": [],
   "source": [
    "dirs <- rutils::get_dev_directories(dev_paths_file = \"../dev_paths.txt\")\n",
    "unified_dsets <- c(\"unified_cervical_data\", \"unified_uterine_data\", \"unified_uterine_endometrial_data\")"
   ]
  },
  {
   "cell_type": "code",
   "execution_count": 3,
   "id": "crude-layout",
   "metadata": {},
   "outputs": [],
   "source": [
    "dset_idx <- 2\n",
    "save_res <- TRUE"
   ]
  },
  {
   "cell_type": "code",
   "execution_count": 4,
   "id": "capable-jesus",
   "metadata": {},
   "outputs": [
    {
     "name": "stderr",
     "output_type": "stream",
     "text": [
      "\n",
      "\u001b[36m--\u001b[39m \u001b[1m\u001b[1mColumn specification\u001b[1m\u001b[22m \u001b[36m------------------------------------------------------------------------------------------------\u001b[39m\n",
      "cols(\n",
      "  type = \u001b[31mcol_character()\u001b[39m,\n",
      "  geneIDs = \u001b[31mcol_character()\u001b[39m,\n",
      "  count = \u001b[32mcol_double()\u001b[39m,\n",
      "  ratio = \u001b[32mcol_double()\u001b[39m,\n",
      "  qval = \u001b[32mcol_double()\u001b[39m,\n",
      "  ont = \u001b[31mcol_character()\u001b[39m\n",
      ")\n",
      "\n",
      "\n"
     ]
    }
   ],
   "source": [
    "figo_umsmg_demg_go_df <- read_tsv(paste0(dirs$analysis_dir, \"/enrichment/\", unified_dsets[dset_idx], \"_figo_umsmg_demg_go.tsv\"))"
   ]
  },
  {
   "cell_type": "code",
   "execution_count": 5,
   "id": "accompanied-acrylic",
   "metadata": {},
   "outputs": [
    {
     "data": {
      "text/html": [
       "<style>\n",
       ".list-inline {list-style: none; margin:0; padding: 0}\n",
       ".list-inline>li {display: inline-block}\n",
       ".list-inline>li:not(:last-child)::after {content: \"\\00b7\"; padding: 0 .5ex}\n",
       "</style>\n",
       "<ol class=list-inline><li>'brown'</li><li>'magenta'</li><li>'yellow'</li></ol>\n"
      ],
      "text/latex": [
       "\\begin{enumerate*}\n",
       "\\item 'brown'\n",
       "\\item 'magenta'\n",
       "\\item 'yellow'\n",
       "\\end{enumerate*}\n"
      ],
      "text/markdown": [
       "1. 'brown'\n",
       "2. 'magenta'\n",
       "3. 'yellow'\n",
       "\n",
       "\n"
      ],
      "text/plain": [
       "[1] \"brown\"   \"magenta\" \"yellow\" "
      ]
     },
     "metadata": {},
     "output_type": "display_data"
    },
    {
     "data": {
      "text/html": [
       "<style>\n",
       ".list-inline {list-style: none; margin:0; padding: 0}\n",
       ".list-inline>li {display: inline-block}\n",
       ".list-inline>li:not(:last-child)::after {content: \"\\00b7\"; padding: 0 .5ex}\n",
       "</style>\n",
       "<ol class=list-inline><li>'/mnt/d/2020_08_17_fogg_lab_gyn_cancer_analysis/enrichment/unified_uterine_data_figo_nsmg_demg_brown_go.tsv'</li><li>'/mnt/d/2020_08_17_fogg_lab_gyn_cancer_analysis/enrichment/unified_uterine_data_figo_nsmg_demg_magenta_go.tsv'</li><li>'/mnt/d/2020_08_17_fogg_lab_gyn_cancer_analysis/enrichment/unified_uterine_data_figo_nsmg_demg_yellow_go.tsv'</li></ol>\n"
      ],
      "text/latex": [
       "\\begin{enumerate*}\n",
       "\\item '/mnt/d/2020\\_08\\_17\\_fogg\\_lab\\_gyn\\_cancer\\_analysis/enrichment/unified\\_uterine\\_data\\_figo\\_nsmg\\_demg\\_brown\\_go.tsv'\n",
       "\\item '/mnt/d/2020\\_08\\_17\\_fogg\\_lab\\_gyn\\_cancer\\_analysis/enrichment/unified\\_uterine\\_data\\_figo\\_nsmg\\_demg\\_magenta\\_go.tsv'\n",
       "\\item '/mnt/d/2020\\_08\\_17\\_fogg\\_lab\\_gyn\\_cancer\\_analysis/enrichment/unified\\_uterine\\_data\\_figo\\_nsmg\\_demg\\_yellow\\_go.tsv'\n",
       "\\end{enumerate*}\n"
      ],
      "text/markdown": [
       "1. '/mnt/d/2020_08_17_fogg_lab_gyn_cancer_analysis/enrichment/unified_uterine_data_figo_nsmg_demg_brown_go.tsv'\n",
       "2. '/mnt/d/2020_08_17_fogg_lab_gyn_cancer_analysis/enrichment/unified_uterine_data_figo_nsmg_demg_magenta_go.tsv'\n",
       "3. '/mnt/d/2020_08_17_fogg_lab_gyn_cancer_analysis/enrichment/unified_uterine_data_figo_nsmg_demg_yellow_go.tsv'\n",
       "\n",
       "\n"
      ],
      "text/plain": [
       "[1] \"/mnt/d/2020_08_17_fogg_lab_gyn_cancer_analysis/enrichment/unified_uterine_data_figo_nsmg_demg_brown_go.tsv\"  \n",
       "[2] \"/mnt/d/2020_08_17_fogg_lab_gyn_cancer_analysis/enrichment/unified_uterine_data_figo_nsmg_demg_magenta_go.tsv\"\n",
       "[3] \"/mnt/d/2020_08_17_fogg_lab_gyn_cancer_analysis/enrichment/unified_uterine_data_figo_nsmg_demg_yellow_go.tsv\" "
      ]
     },
     "metadata": {},
     "output_type": "display_data"
    }
   ],
   "source": [
    "figo_nsmg_demg_go_files <- list.files(paste0(dirs$analysis_dir, \"/enrichment\"), full.names = TRUE)\n",
    "dset_mask <- figo_nsmg_demg_go_files %>%\n",
    "    str_detect(paste0(unified_dsets[dset_idx], \"_figo_nsmg_demg\"))\n",
    "figo_nsmg_demg_go_files <- figo_nsmg_demg_go_files[dset_mask]\n",
    "sig_modules <- figo_nsmg_demg_go_files %>% purrr::map(function(x) { unlist(str_split(x, \"_\"))[length(unlist(str_split(x, \"_\"))) - 1] }) %>% unlist()\n",
    "sig_modules\n",
    "figo_nsmg_demg_go_files"
   ]
  },
  {
   "cell_type": "code",
   "execution_count": 6,
   "id": "matched-blackberry",
   "metadata": {},
   "outputs": [
    {
     "name": "stderr",
     "output_type": "stream",
     "text": [
      "\n",
      "\u001b[36m--\u001b[39m \u001b[1m\u001b[1mColumn specification\u001b[1m\u001b[22m \u001b[36m------------------------------------------------------------------------------------------------\u001b[39m\n",
      "cols(\n",
      "  type = \u001b[31mcol_character()\u001b[39m,\n",
      "  geneIDs = \u001b[31mcol_character()\u001b[39m,\n",
      "  count = \u001b[32mcol_double()\u001b[39m,\n",
      "  ratio = \u001b[32mcol_double()\u001b[39m,\n",
      "  qval = \u001b[32mcol_double()\u001b[39m,\n",
      "  ont = \u001b[31mcol_character()\u001b[39m\n",
      ")\n",
      "\n",
      "\n",
      "\n",
      "\u001b[36m--\u001b[39m \u001b[1m\u001b[1mColumn specification\u001b[1m\u001b[22m \u001b[36m------------------------------------------------------------------------------------------------\u001b[39m\n",
      "cols(\n",
      "  type = \u001b[31mcol_character()\u001b[39m,\n",
      "  geneIDs = \u001b[31mcol_character()\u001b[39m,\n",
      "  count = \u001b[32mcol_double()\u001b[39m,\n",
      "  ratio = \u001b[32mcol_double()\u001b[39m,\n",
      "  qval = \u001b[32mcol_double()\u001b[39m,\n",
      "  ont = \u001b[31mcol_character()\u001b[39m\n",
      ")\n",
      "\n",
      "\n",
      "\n",
      "\u001b[36m--\u001b[39m \u001b[1m\u001b[1mColumn specification\u001b[1m\u001b[22m \u001b[36m------------------------------------------------------------------------------------------------\u001b[39m\n",
      "cols(\n",
      "  type = \u001b[31mcol_character()\u001b[39m,\n",
      "  geneIDs = \u001b[31mcol_character()\u001b[39m,\n",
      "  count = \u001b[32mcol_double()\u001b[39m,\n",
      "  ratio = \u001b[32mcol_double()\u001b[39m,\n",
      "  qval = \u001b[32mcol_double()\u001b[39m,\n",
      "  ont = \u001b[31mcol_character()\u001b[39m\n",
      ")\n",
      "\n",
      "\n"
     ]
    }
   ],
   "source": [
    "figo_nsmg_demg_go_dfs <- list()\n",
    "for (i in seq_len(length(sig_modules))) {\n",
    "    figo_nsmg_demg_go_dfs[[sig_modules[i]]] <- read_tsv(figo_nsmg_demg_go_files[i])\n",
    "}"
   ]
  },
  {
   "cell_type": "code",
   "execution_count": 8,
   "id": "classified-navigator",
   "metadata": {},
   "outputs": [
    {
     "data": {
      "text/html": [
       "<table class=\"dataframe\">\n",
       "<caption>A tibble: 15 × 6</caption>\n",
       "<thead>\n",
       "\t<tr><th scope=col>type</th><th scope=col>geneIDs</th><th scope=col>count</th><th scope=col>ratio</th><th scope=col>qval</th><th scope=col>ont</th></tr>\n",
       "\t<tr><th scope=col>&lt;chr&gt;</th><th scope=col>&lt;chr&gt;</th><th scope=col>&lt;dbl&gt;</th><th scope=col>&lt;dbl&gt;</th><th scope=col>&lt;dbl&gt;</th><th scope=col>&lt;chr&gt;</th></tr>\n",
       "</thead>\n",
       "<tbody>\n",
       "\t<tr><td>collagen-containing extracellular matrix     </td><td>FGF10/HRG/SERPINA3/PCSK6/TINAGL1/COL21A1/ADAMTS3/AMBP/ANGPTL7/COL10A1/COL6A3/COL9A1/COMP/CCN2/ECM1/EFEMP1/ELN/EMILIN3/FREM1/GPC5/KNG1/LAMA2/LMAN1L/PLG/PZP/S100A7/SERPINE1/SFRP1/TGFBI</td><td>29</td><td>0.4202899</td><td>1.539998e-28</td><td>CC</td></tr>\n",
       "\t<tr><td>receptor ligand activity                     </td><td>PRL/FGF10/GDF7/THPO/TNFSF11/BMP3/CCL22/CCL24/CCN2/EFEMP1/GAS6/GDF5/GDF6/IL11/IL1A/IL2/IL6/LIF/LTB/NRG3                                                                                </td><td>20</td><td>0.3030303</td><td>1.167321e-14</td><td>MF</td></tr>\n",
       "\t<tr><td>signaling receptor activator activity        </td><td>PRL/FGF10/GDF7/THPO/TNFSF11/BMP3/CCL22/CCL24/CCN2/EFEMP1/GAS6/GDF5/GDF6/IL11/IL1A/IL2/IL6/LIF/LTB/NRG3                                                                                </td><td>20</td><td>0.3030303</td><td>1.167321e-14</td><td>MF</td></tr>\n",
       "\t<tr><td>extracellular matrix structural constituent  </td><td>TINAGL1/COL21A1/COL10A1/COL6A3/COL9A1/COMP/ECM1/EFEMP1/ELN/EMILIN3/LAMA2/MUC5AC/MUC6/TGFBI                                                                                            </td><td>14</td><td>0.2121212</td><td>2.229516e-14</td><td>MF</td></tr>\n",
       "\t<tr><td>peptidase regulator activity                 </td><td>HRG/SERPINA3/WFIKKN2/A2ML1/AMBP/COL6A3/CST1/CST4/GAS6/KNG1/PCOLCE2/PZP/SERPINA6/SERPINB4/SERPINE1                                                                                     </td><td>15</td><td>0.2272727</td><td>4.101201e-14</td><td>MF</td></tr>\n",
       "\t<tr><td>endopeptidase inhibitor activity             </td><td>HRG/SERPINA3/WFIKKN2/A2ML1/AMBP/COL6A3/CST1/CST4/GAS6/KNG1/PZP/SERPINA6/SERPINB4/SERPINE1                                                                                             </td><td>14</td><td>0.2121212</td><td>4.101201e-14</td><td>MF</td></tr>\n",
       "\t<tr><td>peptidase inhibitor activity                 </td><td>HRG/SERPINA3/WFIKKN2/A2ML1/AMBP/COL6A3/CST1/CST4/GAS6/KNG1/PZP/SERPINA6/SERPINB4/SERPINE1                                                                                             </td><td>14</td><td>0.2121212</td><td>5.371984e-14</td><td>MF</td></tr>\n",
       "\t<tr><td>endopeptidase regulator activity             </td><td>HRG/SERPINA3/WFIKKN2/A2ML1/AMBP/COL6A3/CST1/CST4/GAS6/KNG1/PZP/SERPINA6/SERPINB4/SERPINE1                                                                                             </td><td>14</td><td>0.2121212</td><td>5.739758e-14</td><td>MF</td></tr>\n",
       "\t<tr><td>growth factor activity                       </td><td>FGF10/GDF7/THPO/BMP3/CCN2/EFEMP1/GDF5/GDF6/IL11/IL2/IL6/LIF/NRG3                                                                                                                      </td><td>13</td><td>0.1969697</td><td>1.482375e-13</td><td>MF</td></tr>\n",
       "\t<tr><td>cytokine activity                            </td><td>GDF7/THPO/TNFSF11/BMP3/CCL22/CCL24/GDF5/GDF6/IL11/IL1A/IL2/IL6/LIF/LTB                                                                                                                </td><td>14</td><td>0.2121212</td><td>7.378290e-13</td><td>MF</td></tr>\n",
       "\t<tr><td>serine-type endopeptidase inhibitor activity </td><td>HRG/SERPINA3/WFIKKN2/A2ML1/AMBP/COL6A3/PZP/SERPINA6/SERPINB4/SERPINE1                                                                                                                 </td><td>10</td><td>0.1515152</td><td>1.389884e-11</td><td>MF</td></tr>\n",
       "\t<tr><td>enzyme inhibitor activity                    </td><td>HRG/SERPINA3/WFIKKN2/A2ML1/AMBP/COL6A3/CST1/CST4/ELFN2/GAS6/KNG1/PZP/SERPINA6/SERPINB4/SERPINE1                                                                                       </td><td>15</td><td>0.2272727</td><td>3.135719e-11</td><td>MF</td></tr>\n",
       "\t<tr><td>negative regulation of peptidase activity    </td><td>HRG/SERPINA3/WFIKKN2/A2ML1/AMBP/COL6A3/CST1/CST4/ECM1/GAS6/KNG1/PZP/SERPINA6/SERPINB4/SERPINE1                                                                                        </td><td>15</td><td>0.2238806</td><td>3.597844e-11</td><td>BP</td></tr>\n",
       "\t<tr><td>negative regulation of endopeptidase activity</td><td>HRG/SERPINA3/WFIKKN2/A2ML1/AMBP/COL6A3/CST1/CST4/GAS6/KNG1/PZP/SERPINA6/SERPINB4/SERPINE1                                                                                             </td><td>14</td><td>0.2089552</td><td>1.586424e-10</td><td>BP</td></tr>\n",
       "\t<tr><td>regulation of peptidase activity             </td><td>HRG/SERPINA3/WFIKKN2/A2ML1/AMBP/COL6A3/CST1/CST4/CCN2/ECM1/GAS6/KNG1/PCOLCE2/PZP/SERPINA6/SERPINB4/SERPINE1                                                                           </td><td>17</td><td>0.2537313</td><td>1.586424e-10</td><td>BP</td></tr>\n",
       "</tbody>\n",
       "</table>\n"
      ],
      "text/latex": [
       "A tibble: 15 × 6\n",
       "\\begin{tabular}{llllll}\n",
       " type & geneIDs & count & ratio & qval & ont\\\\\n",
       " <chr> & <chr> & <dbl> & <dbl> & <dbl> & <chr>\\\\\n",
       "\\hline\n",
       "\t collagen-containing extracellular matrix      & FGF10/HRG/SERPINA3/PCSK6/TINAGL1/COL21A1/ADAMTS3/AMBP/ANGPTL7/COL10A1/COL6A3/COL9A1/COMP/CCN2/ECM1/EFEMP1/ELN/EMILIN3/FREM1/GPC5/KNG1/LAMA2/LMAN1L/PLG/PZP/S100A7/SERPINE1/SFRP1/TGFBI & 29 & 0.4202899 & 1.539998e-28 & CC\\\\\n",
       "\t receptor ligand activity                      & PRL/FGF10/GDF7/THPO/TNFSF11/BMP3/CCL22/CCL24/CCN2/EFEMP1/GAS6/GDF5/GDF6/IL11/IL1A/IL2/IL6/LIF/LTB/NRG3                                                                                 & 20 & 0.3030303 & 1.167321e-14 & MF\\\\\n",
       "\t signaling receptor activator activity         & PRL/FGF10/GDF7/THPO/TNFSF11/BMP3/CCL22/CCL24/CCN2/EFEMP1/GAS6/GDF5/GDF6/IL11/IL1A/IL2/IL6/LIF/LTB/NRG3                                                                                 & 20 & 0.3030303 & 1.167321e-14 & MF\\\\\n",
       "\t extracellular matrix structural constituent   & TINAGL1/COL21A1/COL10A1/COL6A3/COL9A1/COMP/ECM1/EFEMP1/ELN/EMILIN3/LAMA2/MUC5AC/MUC6/TGFBI                                                                                             & 14 & 0.2121212 & 2.229516e-14 & MF\\\\\n",
       "\t peptidase regulator activity                  & HRG/SERPINA3/WFIKKN2/A2ML1/AMBP/COL6A3/CST1/CST4/GAS6/KNG1/PCOLCE2/PZP/SERPINA6/SERPINB4/SERPINE1                                                                                      & 15 & 0.2272727 & 4.101201e-14 & MF\\\\\n",
       "\t endopeptidase inhibitor activity              & HRG/SERPINA3/WFIKKN2/A2ML1/AMBP/COL6A3/CST1/CST4/GAS6/KNG1/PZP/SERPINA6/SERPINB4/SERPINE1                                                                                              & 14 & 0.2121212 & 4.101201e-14 & MF\\\\\n",
       "\t peptidase inhibitor activity                  & HRG/SERPINA3/WFIKKN2/A2ML1/AMBP/COL6A3/CST1/CST4/GAS6/KNG1/PZP/SERPINA6/SERPINB4/SERPINE1                                                                                              & 14 & 0.2121212 & 5.371984e-14 & MF\\\\\n",
       "\t endopeptidase regulator activity              & HRG/SERPINA3/WFIKKN2/A2ML1/AMBP/COL6A3/CST1/CST4/GAS6/KNG1/PZP/SERPINA6/SERPINB4/SERPINE1                                                                                              & 14 & 0.2121212 & 5.739758e-14 & MF\\\\\n",
       "\t growth factor activity                        & FGF10/GDF7/THPO/BMP3/CCN2/EFEMP1/GDF5/GDF6/IL11/IL2/IL6/LIF/NRG3                                                                                                                       & 13 & 0.1969697 & 1.482375e-13 & MF\\\\\n",
       "\t cytokine activity                             & GDF7/THPO/TNFSF11/BMP3/CCL22/CCL24/GDF5/GDF6/IL11/IL1A/IL2/IL6/LIF/LTB                                                                                                                 & 14 & 0.2121212 & 7.378290e-13 & MF\\\\\n",
       "\t serine-type endopeptidase inhibitor activity  & HRG/SERPINA3/WFIKKN2/A2ML1/AMBP/COL6A3/PZP/SERPINA6/SERPINB4/SERPINE1                                                                                                                  & 10 & 0.1515152 & 1.389884e-11 & MF\\\\\n",
       "\t enzyme inhibitor activity                     & HRG/SERPINA3/WFIKKN2/A2ML1/AMBP/COL6A3/CST1/CST4/ELFN2/GAS6/KNG1/PZP/SERPINA6/SERPINB4/SERPINE1                                                                                        & 15 & 0.2272727 & 3.135719e-11 & MF\\\\\n",
       "\t negative regulation of peptidase activity     & HRG/SERPINA3/WFIKKN2/A2ML1/AMBP/COL6A3/CST1/CST4/ECM1/GAS6/KNG1/PZP/SERPINA6/SERPINB4/SERPINE1                                                                                         & 15 & 0.2238806 & 3.597844e-11 & BP\\\\\n",
       "\t negative regulation of endopeptidase activity & HRG/SERPINA3/WFIKKN2/A2ML1/AMBP/COL6A3/CST1/CST4/GAS6/KNG1/PZP/SERPINA6/SERPINB4/SERPINE1                                                                                              & 14 & 0.2089552 & 1.586424e-10 & BP\\\\\n",
       "\t regulation of peptidase activity              & HRG/SERPINA3/WFIKKN2/A2ML1/AMBP/COL6A3/CST1/CST4/CCN2/ECM1/GAS6/KNG1/PCOLCE2/PZP/SERPINA6/SERPINB4/SERPINE1                                                                            & 17 & 0.2537313 & 1.586424e-10 & BP\\\\\n",
       "\\end{tabular}\n"
      ],
      "text/markdown": [
       "\n",
       "A tibble: 15 × 6\n",
       "\n",
       "| type &lt;chr&gt; | geneIDs &lt;chr&gt; | count &lt;dbl&gt; | ratio &lt;dbl&gt; | qval &lt;dbl&gt; | ont &lt;chr&gt; |\n",
       "|---|---|---|---|---|---|\n",
       "| collagen-containing extracellular matrix      | FGF10/HRG/SERPINA3/PCSK6/TINAGL1/COL21A1/ADAMTS3/AMBP/ANGPTL7/COL10A1/COL6A3/COL9A1/COMP/CCN2/ECM1/EFEMP1/ELN/EMILIN3/FREM1/GPC5/KNG1/LAMA2/LMAN1L/PLG/PZP/S100A7/SERPINE1/SFRP1/TGFBI | 29 | 0.4202899 | 1.539998e-28 | CC |\n",
       "| receptor ligand activity                      | PRL/FGF10/GDF7/THPO/TNFSF11/BMP3/CCL22/CCL24/CCN2/EFEMP1/GAS6/GDF5/GDF6/IL11/IL1A/IL2/IL6/LIF/LTB/NRG3                                                                                 | 20 | 0.3030303 | 1.167321e-14 | MF |\n",
       "| signaling receptor activator activity         | PRL/FGF10/GDF7/THPO/TNFSF11/BMP3/CCL22/CCL24/CCN2/EFEMP1/GAS6/GDF5/GDF6/IL11/IL1A/IL2/IL6/LIF/LTB/NRG3                                                                                 | 20 | 0.3030303 | 1.167321e-14 | MF |\n",
       "| extracellular matrix structural constituent   | TINAGL1/COL21A1/COL10A1/COL6A3/COL9A1/COMP/ECM1/EFEMP1/ELN/EMILIN3/LAMA2/MUC5AC/MUC6/TGFBI                                                                                             | 14 | 0.2121212 | 2.229516e-14 | MF |\n",
       "| peptidase regulator activity                  | HRG/SERPINA3/WFIKKN2/A2ML1/AMBP/COL6A3/CST1/CST4/GAS6/KNG1/PCOLCE2/PZP/SERPINA6/SERPINB4/SERPINE1                                                                                      | 15 | 0.2272727 | 4.101201e-14 | MF |\n",
       "| endopeptidase inhibitor activity              | HRG/SERPINA3/WFIKKN2/A2ML1/AMBP/COL6A3/CST1/CST4/GAS6/KNG1/PZP/SERPINA6/SERPINB4/SERPINE1                                                                                              | 14 | 0.2121212 | 4.101201e-14 | MF |\n",
       "| peptidase inhibitor activity                  | HRG/SERPINA3/WFIKKN2/A2ML1/AMBP/COL6A3/CST1/CST4/GAS6/KNG1/PZP/SERPINA6/SERPINB4/SERPINE1                                                                                              | 14 | 0.2121212 | 5.371984e-14 | MF |\n",
       "| endopeptidase regulator activity              | HRG/SERPINA3/WFIKKN2/A2ML1/AMBP/COL6A3/CST1/CST4/GAS6/KNG1/PZP/SERPINA6/SERPINB4/SERPINE1                                                                                              | 14 | 0.2121212 | 5.739758e-14 | MF |\n",
       "| growth factor activity                        | FGF10/GDF7/THPO/BMP3/CCN2/EFEMP1/GDF5/GDF6/IL11/IL2/IL6/LIF/NRG3                                                                                                                       | 13 | 0.1969697 | 1.482375e-13 | MF |\n",
       "| cytokine activity                             | GDF7/THPO/TNFSF11/BMP3/CCL22/CCL24/GDF5/GDF6/IL11/IL1A/IL2/IL6/LIF/LTB                                                                                                                 | 14 | 0.2121212 | 7.378290e-13 | MF |\n",
       "| serine-type endopeptidase inhibitor activity  | HRG/SERPINA3/WFIKKN2/A2ML1/AMBP/COL6A3/PZP/SERPINA6/SERPINB4/SERPINE1                                                                                                                  | 10 | 0.1515152 | 1.389884e-11 | MF |\n",
       "| enzyme inhibitor activity                     | HRG/SERPINA3/WFIKKN2/A2ML1/AMBP/COL6A3/CST1/CST4/ELFN2/GAS6/KNG1/PZP/SERPINA6/SERPINB4/SERPINE1                                                                                        | 15 | 0.2272727 | 3.135719e-11 | MF |\n",
       "| negative regulation of peptidase activity     | HRG/SERPINA3/WFIKKN2/A2ML1/AMBP/COL6A3/CST1/CST4/ECM1/GAS6/KNG1/PZP/SERPINA6/SERPINB4/SERPINE1                                                                                         | 15 | 0.2238806 | 3.597844e-11 | BP |\n",
       "| negative regulation of endopeptidase activity | HRG/SERPINA3/WFIKKN2/A2ML1/AMBP/COL6A3/CST1/CST4/GAS6/KNG1/PZP/SERPINA6/SERPINB4/SERPINE1                                                                                              | 14 | 0.2089552 | 1.586424e-10 | BP |\n",
       "| regulation of peptidase activity              | HRG/SERPINA3/WFIKKN2/A2ML1/AMBP/COL6A3/CST1/CST4/CCN2/ECM1/GAS6/KNG1/PCOLCE2/PZP/SERPINA6/SERPINB4/SERPINE1                                                                            | 17 | 0.2537313 | 1.586424e-10 | BP |\n",
       "\n"
      ],
      "text/plain": [
       "   type                                         \n",
       "1  collagen-containing extracellular matrix     \n",
       "2  receptor ligand activity                     \n",
       "3  signaling receptor activator activity        \n",
       "4  extracellular matrix structural constituent  \n",
       "5  peptidase regulator activity                 \n",
       "6  endopeptidase inhibitor activity             \n",
       "7  peptidase inhibitor activity                 \n",
       "8  endopeptidase regulator activity             \n",
       "9  growth factor activity                       \n",
       "10 cytokine activity                            \n",
       "11 serine-type endopeptidase inhibitor activity \n",
       "12 enzyme inhibitor activity                    \n",
       "13 negative regulation of peptidase activity    \n",
       "14 negative regulation of endopeptidase activity\n",
       "15 regulation of peptidase activity             \n",
       "   geneIDs                                                                                                                                                                               \n",
       "1  FGF10/HRG/SERPINA3/PCSK6/TINAGL1/COL21A1/ADAMTS3/AMBP/ANGPTL7/COL10A1/COL6A3/COL9A1/COMP/CCN2/ECM1/EFEMP1/ELN/EMILIN3/FREM1/GPC5/KNG1/LAMA2/LMAN1L/PLG/PZP/S100A7/SERPINE1/SFRP1/TGFBI\n",
       "2  PRL/FGF10/GDF7/THPO/TNFSF11/BMP3/CCL22/CCL24/CCN2/EFEMP1/GAS6/GDF5/GDF6/IL11/IL1A/IL2/IL6/LIF/LTB/NRG3                                                                                \n",
       "3  PRL/FGF10/GDF7/THPO/TNFSF11/BMP3/CCL22/CCL24/CCN2/EFEMP1/GAS6/GDF5/GDF6/IL11/IL1A/IL2/IL6/LIF/LTB/NRG3                                                                                \n",
       "4  TINAGL1/COL21A1/COL10A1/COL6A3/COL9A1/COMP/ECM1/EFEMP1/ELN/EMILIN3/LAMA2/MUC5AC/MUC6/TGFBI                                                                                            \n",
       "5  HRG/SERPINA3/WFIKKN2/A2ML1/AMBP/COL6A3/CST1/CST4/GAS6/KNG1/PCOLCE2/PZP/SERPINA6/SERPINB4/SERPINE1                                                                                     \n",
       "6  HRG/SERPINA3/WFIKKN2/A2ML1/AMBP/COL6A3/CST1/CST4/GAS6/KNG1/PZP/SERPINA6/SERPINB4/SERPINE1                                                                                             \n",
       "7  HRG/SERPINA3/WFIKKN2/A2ML1/AMBP/COL6A3/CST1/CST4/GAS6/KNG1/PZP/SERPINA6/SERPINB4/SERPINE1                                                                                             \n",
       "8  HRG/SERPINA3/WFIKKN2/A2ML1/AMBP/COL6A3/CST1/CST4/GAS6/KNG1/PZP/SERPINA6/SERPINB4/SERPINE1                                                                                             \n",
       "9  FGF10/GDF7/THPO/BMP3/CCN2/EFEMP1/GDF5/GDF6/IL11/IL2/IL6/LIF/NRG3                                                                                                                      \n",
       "10 GDF7/THPO/TNFSF11/BMP3/CCL22/CCL24/GDF5/GDF6/IL11/IL1A/IL2/IL6/LIF/LTB                                                                                                                \n",
       "11 HRG/SERPINA3/WFIKKN2/A2ML1/AMBP/COL6A3/PZP/SERPINA6/SERPINB4/SERPINE1                                                                                                                 \n",
       "12 HRG/SERPINA3/WFIKKN2/A2ML1/AMBP/COL6A3/CST1/CST4/ELFN2/GAS6/KNG1/PZP/SERPINA6/SERPINB4/SERPINE1                                                                                       \n",
       "13 HRG/SERPINA3/WFIKKN2/A2ML1/AMBP/COL6A3/CST1/CST4/ECM1/GAS6/KNG1/PZP/SERPINA6/SERPINB4/SERPINE1                                                                                        \n",
       "14 HRG/SERPINA3/WFIKKN2/A2ML1/AMBP/COL6A3/CST1/CST4/GAS6/KNG1/PZP/SERPINA6/SERPINB4/SERPINE1                                                                                             \n",
       "15 HRG/SERPINA3/WFIKKN2/A2ML1/AMBP/COL6A3/CST1/CST4/CCN2/ECM1/GAS6/KNG1/PCOLCE2/PZP/SERPINA6/SERPINB4/SERPINE1                                                                           \n",
       "   count ratio     qval         ont\n",
       "1  29    0.4202899 1.539998e-28 CC \n",
       "2  20    0.3030303 1.167321e-14 MF \n",
       "3  20    0.3030303 1.167321e-14 MF \n",
       "4  14    0.2121212 2.229516e-14 MF \n",
       "5  15    0.2272727 4.101201e-14 MF \n",
       "6  14    0.2121212 4.101201e-14 MF \n",
       "7  14    0.2121212 5.371984e-14 MF \n",
       "8  14    0.2121212 5.739758e-14 MF \n",
       "9  13    0.1969697 1.482375e-13 MF \n",
       "10 14    0.2121212 7.378290e-13 MF \n",
       "11 10    0.1515152 1.389884e-11 MF \n",
       "12 15    0.2272727 3.135719e-11 MF \n",
       "13 15    0.2238806 3.597844e-11 BP \n",
       "14 14    0.2089552 1.586424e-10 BP \n",
       "15 17    0.2537313 1.586424e-10 BP "
      ]
     },
     "metadata": {},
     "output_type": "display_data"
    }
   ],
   "source": [
    "figo_umsmg_demg_go_df %>%\n",
    "    arrange(qval) %>%\n",
    "    head(n = 15)"
   ]
  },
  {
   "cell_type": "code",
   "execution_count": null,
   "id": "functional-honduras",
   "metadata": {},
   "outputs": [],
   "source": []
  }
 ],
 "metadata": {
  "kernelspec": {
   "display_name": "R",
   "language": "R",
   "name": "ir"
  },
  "language_info": {
   "codemirror_mode": "r",
   "file_extension": ".r",
   "mimetype": "text/x-r-source",
   "name": "R",
   "pygments_lexer": "r",
   "version": "4.0.3"
  }
 },
 "nbformat": 4,
 "nbformat_minor": 5
}
