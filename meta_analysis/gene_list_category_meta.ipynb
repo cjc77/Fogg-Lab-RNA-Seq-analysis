{
 "cells": [
  {
   "cell_type": "code",
   "execution_count": 1,
   "id": "chronic-throw",
   "metadata": {},
   "outputs": [
    {
     "name": "stderr",
     "output_type": "stream",
     "text": [
      "-- \u001b[1mAttaching packages\u001b[22m ------------------------------------------------------------------------------- tidyverse 1.3.0 --\n",
      "\n",
      "\u001b[32mv\u001b[39m \u001b[34mggplot2\u001b[39m 3.3.3     \u001b[32mv\u001b[39m \u001b[34mpurrr  \u001b[39m 0.3.4\n",
      "\u001b[32mv\u001b[39m \u001b[34mtibble \u001b[39m 3.0.6     \u001b[32mv\u001b[39m \u001b[34mdplyr  \u001b[39m 1.0.4\n",
      "\u001b[32mv\u001b[39m \u001b[34mtidyr  \u001b[39m 1.1.2     \u001b[32mv\u001b[39m \u001b[34mstringr\u001b[39m 1.4.0\n",
      "\u001b[32mv\u001b[39m \u001b[34mreadr  \u001b[39m 1.4.0     \u001b[32mv\u001b[39m \u001b[34mforcats\u001b[39m 0.5.1\n",
      "\n",
      "-- \u001b[1mConflicts\u001b[22m ---------------------------------------------------------------------------------- tidyverse_conflicts() --\n",
      "\u001b[31mx\u001b[39m \u001b[34mdplyr\u001b[39m::\u001b[32mfilter()\u001b[39m masks \u001b[34mstats\u001b[39m::filter()\n",
      "\u001b[31mx\u001b[39m \u001b[34mdplyr\u001b[39m::\u001b[32mlag()\u001b[39m    masks \u001b[34mstats\u001b[39m::lag()\n",
      "\n"
     ]
    }
   ],
   "source": [
    "library(tidyverse)\n",
    "\n",
    "# Custom package\n",
    "library(rutils)"
   ]
  },
  {
   "cell_type": "code",
   "execution_count": 2,
   "id": "correct-magazine",
   "metadata": {},
   "outputs": [],
   "source": [
    "dset_idx <- 3\n",
    "save_res <- TRUE"
   ]
  },
  {
   "cell_type": "code",
   "execution_count": 3,
   "id": "wrapped-public",
   "metadata": {},
   "outputs": [],
   "source": [
    "dirs <- rutils::get_dev_directories(dev_paths_file = \"../dev_paths.txt\")\n",
    "projects <- c(\"TCGA-CESC\", \"TCGA-UCS\", \"TCGA-UCEC\", \"TCGA-OV\")\n",
    "unified_dsets <- c(\"unified_cervical_data\", \"unified_uterine_data\", \"unified_uterine_endometrial_data\")\n",
    "matrisome_path <- paste0(dirs$data_dir, \"/matrisome/matrisome_hs_masterlist.tsv\")\n",
    "\n",
    "matrisome_path <- paste0(dirs$data_dir, \"/matrisome/matrisome_hs_masterlist.tsv\")"
   ]
  },
  {
   "cell_type": "code",
   "execution_count": 4,
   "id": "apparent-hammer",
   "metadata": {},
   "outputs": [
    {
     "name": "stderr",
     "output_type": "stream",
     "text": [
      "\n",
      "\u001b[36m--\u001b[39m \u001b[1m\u001b[1mColumn specification\u001b[1m\u001b[22m \u001b[36m------------------------------------------------------------------------------------------------\u001b[39m\n",
      "cols(\n",
      "  Division = \u001b[31mcol_character()\u001b[39m,\n",
      "  Category = \u001b[31mcol_character()\u001b[39m,\n",
      "  `Gene Symbol` = \u001b[31mcol_character()\u001b[39m,\n",
      "  `Gene Name` = \u001b[31mcol_character()\u001b[39m,\n",
      "  Synonyms = \u001b[31mcol_character()\u001b[39m,\n",
      "  HGNC_IDs = \u001b[32mcol_double()\u001b[39m,\n",
      "  `HGNC_IDs Links` = \u001b[32mcol_double()\u001b[39m,\n",
      "  UniProt_IDs = \u001b[31mcol_character()\u001b[39m,\n",
      "  Refseq_IDs = \u001b[31mcol_character()\u001b[39m,\n",
      "  Orthology = \u001b[31mcol_character()\u001b[39m,\n",
      "  Notes = \u001b[31mcol_character()\u001b[39m\n",
      ")\n",
      "\n",
      "\n"
     ]
    }
   ],
   "source": [
    "matrisome_df <- rutils::load_matrisome_df(matrisome_path) %>%\n",
    "    dplyr::select(gene_symbol, division, category) %>%\n",
    "    dplyr::rename(geneID = gene_symbol)\n",
    "demg_list <- read_lines(paste0(dirs$analysis_dir, \"/gene_lists/\", unified_dsets[dset_idx], \"_demg_list.txt\"))\n",
    "figo_umsmg_list <- read_lines(paste0(dirs$analysis_dir, \"/gene_lists/\", unified_dsets[dset_idx], \"_figo_umsmg_list.txt\"))\n",
    "survival_umsmg_list <- read_lines(paste0(dirs$analysis_dir, \"/gene_lists/\", unified_dsets[dset_idx], \"_survival_umsmg_list.txt\"))\n",
    "figo_nsmg_list <- read_lines(paste0(dirs$analysis_dir, \"/gene_lists/\", unified_dsets[dset_idx], \"_figo_nsmg_list.txt\"))\n",
    "figo_sig_list <- union(figo_umsmg_list, figo_nsmg_list)\n",
    "figo_sig_de_list <- intersect(figo_sig_list, demg_list)\n"
   ]
  },
  {
   "cell_type": "markdown",
   "id": "first-extraction",
   "metadata": {},
   "source": [
    "# Matrisome overview"
   ]
  },
  {
   "cell_type": "code",
   "execution_count": 5,
   "id": "electric-shelter",
   "metadata": {},
   "outputs": [
    {
     "data": {
      "text/html": [
       "<table class=\"dataframe\">\n",
       "<caption>A grouped_df: 6 × 2</caption>\n",
       "<thead>\n",
       "\t<tr><th scope=col>category</th><th scope=col>n</th></tr>\n",
       "\t<tr><th scope=col>&lt;chr&gt;</th><th scope=col>&lt;int&gt;</th></tr>\n",
       "</thead>\n",
       "<tbody>\n",
       "\t<tr><td>Collagens              </td><td> 44</td></tr>\n",
       "\t<tr><td>ECM Glycoproteins      </td><td>195</td></tr>\n",
       "\t<tr><td>ECM Regulators         </td><td>238</td></tr>\n",
       "\t<tr><td>ECM-affiliated Proteins</td><td>171</td></tr>\n",
       "\t<tr><td>Proteoglycans          </td><td> 35</td></tr>\n",
       "\t<tr><td>Secreted Factors       </td><td>344</td></tr>\n",
       "</tbody>\n",
       "</table>\n"
      ],
      "text/latex": [
       "A grouped\\_df: 6 × 2\n",
       "\\begin{tabular}{ll}\n",
       " category & n\\\\\n",
       " <chr> & <int>\\\\\n",
       "\\hline\n",
       "\t Collagens               &  44\\\\\n",
       "\t ECM Glycoproteins       & 195\\\\\n",
       "\t ECM Regulators          & 238\\\\\n",
       "\t ECM-affiliated Proteins & 171\\\\\n",
       "\t Proteoglycans           &  35\\\\\n",
       "\t Secreted Factors        & 344\\\\\n",
       "\\end{tabular}\n"
      ],
      "text/markdown": [
       "\n",
       "A grouped_df: 6 × 2\n",
       "\n",
       "| category &lt;chr&gt; | n &lt;int&gt; |\n",
       "|---|---|\n",
       "| Collagens               |  44 |\n",
       "| ECM Glycoproteins       | 195 |\n",
       "| ECM Regulators          | 238 |\n",
       "| ECM-affiliated Proteins | 171 |\n",
       "| Proteoglycans           |  35 |\n",
       "| Secreted Factors        | 344 |\n",
       "\n"
      ],
      "text/plain": [
       "  category                n  \n",
       "1 Collagens                44\n",
       "2 ECM Glycoproteins       195\n",
       "3 ECM Regulators          238\n",
       "4 ECM-affiliated Proteins 171\n",
       "5 Proteoglycans            35\n",
       "6 Secreted Factors        344"
      ]
     },
     "metadata": {},
     "output_type": "display_data"
    }
   ],
   "source": [
    "matrisome_df %>%\n",
    "    dplyr::group_by(category) %>%\n",
    "    dplyr::count()"
   ]
  },
  {
   "cell_type": "markdown",
   "id": "offensive-article",
   "metadata": {},
   "source": [
    "# FIGO UMSMG $\\cap$ DEMG"
   ]
  },
  {
   "cell_type": "code",
   "execution_count": 6,
   "id": "crude-print",
   "metadata": {},
   "outputs": [
    {
     "data": {
      "text/html": [
       "<table class=\"dataframe\">\n",
       "<caption>A grouped_df: 6 × 2</caption>\n",
       "<thead>\n",
       "\t<tr><th scope=col>category</th><th scope=col>n</th></tr>\n",
       "\t<tr><th scope=col>&lt;chr&gt;</th><th scope=col>&lt;int&gt;</th></tr>\n",
       "</thead>\n",
       "<tbody>\n",
       "\t<tr><td>Collagens              </td><td> 2</td></tr>\n",
       "\t<tr><td>ECM Glycoproteins      </td><td>13</td></tr>\n",
       "\t<tr><td>ECM Regulators         </td><td>15</td></tr>\n",
       "\t<tr><td>ECM-affiliated Proteins</td><td>10</td></tr>\n",
       "\t<tr><td>Proteoglycans          </td><td> 2</td></tr>\n",
       "\t<tr><td>Secreted Factors       </td><td>20</td></tr>\n",
       "</tbody>\n",
       "</table>\n"
      ],
      "text/latex": [
       "A grouped\\_df: 6 × 2\n",
       "\\begin{tabular}{ll}\n",
       " category & n\\\\\n",
       " <chr> & <int>\\\\\n",
       "\\hline\n",
       "\t Collagens               &  2\\\\\n",
       "\t ECM Glycoproteins       & 13\\\\\n",
       "\t ECM Regulators          & 15\\\\\n",
       "\t ECM-affiliated Proteins & 10\\\\\n",
       "\t Proteoglycans           &  2\\\\\n",
       "\t Secreted Factors        & 20\\\\\n",
       "\\end{tabular}\n"
      ],
      "text/markdown": [
       "\n",
       "A grouped_df: 6 × 2\n",
       "\n",
       "| category &lt;chr&gt; | n &lt;int&gt; |\n",
       "|---|---|\n",
       "| Collagens               |  2 |\n",
       "| ECM Glycoproteins       | 13 |\n",
       "| ECM Regulators          | 15 |\n",
       "| ECM-affiliated Proteins | 10 |\n",
       "| Proteoglycans           |  2 |\n",
       "| Secreted Factors        | 20 |\n",
       "\n"
      ],
      "text/plain": [
       "  category                n \n",
       "1 Collagens                2\n",
       "2 ECM Glycoproteins       13\n",
       "3 ECM Regulators          15\n",
       "4 ECM-affiliated Proteins 10\n",
       "5 Proteoglycans            2\n",
       "6 Secreted Factors        20"
      ]
     },
     "metadata": {},
     "output_type": "display_data"
    }
   ],
   "source": [
    "matrisome_df %>%\n",
    "    dplyr::filter(geneID %in% intersect(figo_umsmg_list, demg_list)) %>%\n",
    "    dplyr::group_by(category) %>%\n",
    "    dplyr::count()"
   ]
  },
  {
   "cell_type": "code",
   "execution_count": 7,
   "id": "solved-malawi",
   "metadata": {},
   "outputs": [
    {
     "data": {
      "text/html": [
       "99"
      ],
      "text/latex": [
       "99"
      ],
      "text/markdown": [
       "99"
      ],
      "text/plain": [
       "[1] 99"
      ]
     },
     "metadata": {},
     "output_type": "display_data"
    },
    {
     "data": {
      "text/html": [
       "298"
      ],
      "text/latex": [
       "298"
      ],
      "text/markdown": [
       "298"
      ],
      "text/plain": [
       "[1] 298"
      ]
     },
     "metadata": {},
     "output_type": "display_data"
    },
    {
     "data": {
      "text/html": [
       "595"
      ],
      "text/latex": [
       "595"
      ],
      "text/markdown": [
       "595"
      ],
      "text/plain": [
       "[1] 595"
      ]
     },
     "metadata": {},
     "output_type": "display_data"
    },
    {
     "data": {
      "text/html": [
       "177"
      ],
      "text/latex": [
       "177"
      ],
      "text/markdown": [
       "177"
      ],
      "text/plain": [
       "[1] 177"
      ]
     },
     "metadata": {},
     "output_type": "display_data"
    },
    {
     "data": {
      "text/html": [
       "0.247206703910615"
      ],
      "text/latex": [
       "0.247206703910615"
      ],
      "text/markdown": [
       "0.247206703910615"
      ],
      "text/plain": [
       "[1] 0.2472067"
      ]
     },
     "metadata": {},
     "output_type": "display_data"
    },
    {
     "data": {
      "text/html": [
       "0.344827586206897"
      ],
      "text/latex": [
       "0.344827586206897"
      ],
      "text/markdown": [
       "0.344827586206897"
      ],
      "text/plain": [
       "[1] 0.3448276"
      ]
     },
     "metadata": {},
     "output_type": "display_data"
    }
   ],
   "source": [
    "figo_umsmg_list %>% length()\n",
    "figo_sig_list %>% length()\n",
    "demg_list %>% length()\n",
    "figo_sig_de_list %>% length()\n",
    "\n",
    "length(figo_sig_de_list) / length(union(figo_sig_list, demg_list))\n",
    "# Use survival list as denom since it's smaller in all cases\n",
    "length(intersect(survival_umsmg_list, figo_sig_list)) / length(survival_umsmg_list)"
   ]
  },
  {
   "cell_type": "markdown",
   "id": "welcome-market",
   "metadata": {},
   "source": [
    "# Survival UMSMG $\\cap$ DEMG"
   ]
  },
  {
   "cell_type": "code",
   "execution_count": 8,
   "id": "increasing-packet",
   "metadata": {},
   "outputs": [
    {
     "data": {
      "text/html": [
       "<table class=\"dataframe\">\n",
       "<caption>A grouped_df: 6 × 2</caption>\n",
       "<thead>\n",
       "\t<tr><th scope=col>category</th><th scope=col>n</th></tr>\n",
       "\t<tr><th scope=col>&lt;chr&gt;</th><th scope=col>&lt;int&gt;</th></tr>\n",
       "</thead>\n",
       "<tbody>\n",
       "\t<tr><td>Collagens              </td><td>1</td></tr>\n",
       "\t<tr><td>ECM Glycoproteins      </td><td>1</td></tr>\n",
       "\t<tr><td>ECM Regulators         </td><td>5</td></tr>\n",
       "\t<tr><td>ECM-affiliated Proteins</td><td>4</td></tr>\n",
       "\t<tr><td>Proteoglycans          </td><td>2</td></tr>\n",
       "\t<tr><td>Secreted Factors       </td><td>5</td></tr>\n",
       "</tbody>\n",
       "</table>\n"
      ],
      "text/latex": [
       "A grouped\\_df: 6 × 2\n",
       "\\begin{tabular}{ll}\n",
       " category & n\\\\\n",
       " <chr> & <int>\\\\\n",
       "\\hline\n",
       "\t Collagens               & 1\\\\\n",
       "\t ECM Glycoproteins       & 1\\\\\n",
       "\t ECM Regulators          & 5\\\\\n",
       "\t ECM-affiliated Proteins & 4\\\\\n",
       "\t Proteoglycans           & 2\\\\\n",
       "\t Secreted Factors        & 5\\\\\n",
       "\\end{tabular}\n"
      ],
      "text/markdown": [
       "\n",
       "A grouped_df: 6 × 2\n",
       "\n",
       "| category &lt;chr&gt; | n &lt;int&gt; |\n",
       "|---|---|\n",
       "| Collagens               | 1 |\n",
       "| ECM Glycoproteins       | 1 |\n",
       "| ECM Regulators          | 5 |\n",
       "| ECM-affiliated Proteins | 4 |\n",
       "| Proteoglycans           | 2 |\n",
       "| Secreted Factors        | 5 |\n",
       "\n"
      ],
      "text/plain": [
       "  category                n\n",
       "1 Collagens               1\n",
       "2 ECM Glycoproteins       1\n",
       "3 ECM Regulators          5\n",
       "4 ECM-affiliated Proteins 4\n",
       "5 Proteoglycans           2\n",
       "6 Secreted Factors        5"
      ]
     },
     "metadata": {},
     "output_type": "display_data"
    }
   ],
   "source": [
    "matrisome_df %>%\n",
    "    dplyr::filter(geneID %in% intersect(survival_umsmg_list, demg_list)) %>%\n",
    "    dplyr::group_by(category) %>%\n",
    "    dplyr::count()"
   ]
  },
  {
   "cell_type": "markdown",
   "id": "chief-founder",
   "metadata": {},
   "source": [
    "# FIGO NSMG $\\cap$ DEMG"
   ]
  },
  {
   "cell_type": "code",
   "execution_count": 9,
   "id": "sixth-sympathy",
   "metadata": {},
   "outputs": [
    {
     "data": {
      "text/html": [
       "<table class=\"dataframe\">\n",
       "<caption>A grouped_df: 6 × 2</caption>\n",
       "<thead>\n",
       "\t<tr><th scope=col>category</th><th scope=col>n</th></tr>\n",
       "\t<tr><th scope=col>&lt;chr&gt;</th><th scope=col>&lt;int&gt;</th></tr>\n",
       "</thead>\n",
       "<tbody>\n",
       "\t<tr><td>Collagens              </td><td>10</td></tr>\n",
       "\t<tr><td>ECM Glycoproteins      </td><td>20</td></tr>\n",
       "\t<tr><td>ECM Regulators         </td><td>29</td></tr>\n",
       "\t<tr><td>ECM-affiliated Proteins</td><td>21</td></tr>\n",
       "\t<tr><td>Proteoglycans          </td><td> 3</td></tr>\n",
       "\t<tr><td>Secreted Factors       </td><td>46</td></tr>\n",
       "</tbody>\n",
       "</table>\n"
      ],
      "text/latex": [
       "A grouped\\_df: 6 × 2\n",
       "\\begin{tabular}{ll}\n",
       " category & n\\\\\n",
       " <chr> & <int>\\\\\n",
       "\\hline\n",
       "\t Collagens               & 10\\\\\n",
       "\t ECM Glycoproteins       & 20\\\\\n",
       "\t ECM Regulators          & 29\\\\\n",
       "\t ECM-affiliated Proteins & 21\\\\\n",
       "\t Proteoglycans           &  3\\\\\n",
       "\t Secreted Factors        & 46\\\\\n",
       "\\end{tabular}\n"
      ],
      "text/markdown": [
       "\n",
       "A grouped_df: 6 × 2\n",
       "\n",
       "| category &lt;chr&gt; | n &lt;int&gt; |\n",
       "|---|---|\n",
       "| Collagens               | 10 |\n",
       "| ECM Glycoproteins       | 20 |\n",
       "| ECM Regulators          | 29 |\n",
       "| ECM-affiliated Proteins | 21 |\n",
       "| Proteoglycans           |  3 |\n",
       "| Secreted Factors        | 46 |\n",
       "\n"
      ],
      "text/plain": [
       "  category                n \n",
       "1 Collagens               10\n",
       "2 ECM Glycoproteins       20\n",
       "3 ECM Regulators          29\n",
       "4 ECM-affiliated Proteins 21\n",
       "5 Proteoglycans            3\n",
       "6 Secreted Factors        46"
      ]
     },
     "metadata": {},
     "output_type": "display_data"
    }
   ],
   "source": [
    "matrisome_df %>%\n",
    "    dplyr::filter(geneID %in% intersect(figo_nsmg_list, demg_list)) %>%\n",
    "    dplyr::group_by(category) %>%\n",
    "    dplyr::count()"
   ]
  },
  {
   "cell_type": "code",
   "execution_count": null,
   "id": "resident-creature",
   "metadata": {},
   "outputs": [],
   "source": []
  }
 ],
 "metadata": {
  "kernelspec": {
   "display_name": "R",
   "language": "R",
   "name": "ir"
  },
  "language_info": {
   "codemirror_mode": "r",
   "file_extension": ".r",
   "mimetype": "text/x-r-source",
   "name": "R",
   "pygments_lexer": "r",
   "version": "4.0.3"
  }
 },
 "nbformat": 4,
 "nbformat_minor": 5
}
