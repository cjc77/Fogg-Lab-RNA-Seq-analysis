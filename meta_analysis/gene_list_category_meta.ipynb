{
 "cells": [
  {
   "cell_type": "code",
   "execution_count": 1,
   "id": "changing-accommodation",
   "metadata": {},
   "outputs": [
    {
     "name": "stderr",
     "output_type": "stream",
     "text": [
      "-- \u001b[1mAttaching packages\u001b[22m ------------------------------------------------------- tidyverse 1.3.0 --\n",
      "\n",
      "\u001b[32mv\u001b[39m \u001b[34mggplot2\u001b[39m 3.3.3     \u001b[32mv\u001b[39m \u001b[34mpurrr  \u001b[39m 0.3.4\n",
      "\u001b[32mv\u001b[39m \u001b[34mtibble \u001b[39m 3.0.6     \u001b[32mv\u001b[39m \u001b[34mdplyr  \u001b[39m 1.0.4\n",
      "\u001b[32mv\u001b[39m \u001b[34mtidyr  \u001b[39m 1.1.2     \u001b[32mv\u001b[39m \u001b[34mstringr\u001b[39m 1.4.0\n",
      "\u001b[32mv\u001b[39m \u001b[34mreadr  \u001b[39m 1.4.0     \u001b[32mv\u001b[39m \u001b[34mforcats\u001b[39m 0.5.1\n",
      "\n",
      "-- \u001b[1mConflicts\u001b[22m ---------------------------------------------------------- tidyverse_conflicts() --\n",
      "\u001b[31mx\u001b[39m \u001b[34mdplyr\u001b[39m::\u001b[32mfilter()\u001b[39m masks \u001b[34mstats\u001b[39m::filter()\n",
      "\u001b[31mx\u001b[39m \u001b[34mdplyr\u001b[39m::\u001b[32mlag()\u001b[39m    masks \u001b[34mstats\u001b[39m::lag()\n",
      "\n"
     ]
    }
   ],
   "source": [
    "library(tidyverse)\n",
    "\n",
    "# Custom package\n",
    "library(rutils)"
   ]
  },
  {
   "cell_type": "code",
   "execution_count": 2,
   "id": "specific-filename",
   "metadata": {},
   "outputs": [],
   "source": [
    "dset_idx <- 3\n",
    "save_res <- TRUE"
   ]
  },
  {
   "cell_type": "code",
   "execution_count": 3,
   "id": "constant-advisory",
   "metadata": {},
   "outputs": [],
   "source": [
    "dirs <- rutils::get_dev_directories(dev_paths_file = \"../dev_paths.txt\")\n",
    "projects <- c(\"TCGA-CESC\", \"TCGA-UCS\", \"TCGA-UCEC\", \"TCGA-OV\")\n",
    "unified_dsets <- c(\"unified_cervical_data\", \"unified_uterine_data\", \"unified_uterine_endometrial_data\")\n",
    "matrisome_path <- paste0(dirs$data_dir, \"/matrisome/matrisome_hs_masterlist.tsv\")\n",
    "\n",
    "matrisome_path <- paste0(dirs$data_dir, \"/matrisome/matrisome_hs_masterlist.tsv\")"
   ]
  },
  {
   "cell_type": "code",
   "execution_count": 4,
   "id": "mighty-duration",
   "metadata": {},
   "outputs": [
    {
     "name": "stderr",
     "output_type": "stream",
     "text": [
      "\n",
      "\u001b[36m--\u001b[39m \u001b[1m\u001b[1mColumn specification\u001b[1m\u001b[22m \u001b[36m------------------------------------------------------------------------\u001b[39m\n",
      "cols(\n",
      "  Division = \u001b[31mcol_character()\u001b[39m,\n",
      "  Category = \u001b[31mcol_character()\u001b[39m,\n",
      "  `Gene Symbol` = \u001b[31mcol_character()\u001b[39m,\n",
      "  `Gene Name` = \u001b[31mcol_character()\u001b[39m,\n",
      "  Synonyms = \u001b[31mcol_character()\u001b[39m,\n",
      "  HGNC_IDs = \u001b[32mcol_double()\u001b[39m,\n",
      "  `HGNC_IDs Links` = \u001b[32mcol_double()\u001b[39m,\n",
      "  UniProt_IDs = \u001b[31mcol_character()\u001b[39m,\n",
      "  Refseq_IDs = \u001b[31mcol_character()\u001b[39m,\n",
      "  Orthology = \u001b[31mcol_character()\u001b[39m,\n",
      "  Notes = \u001b[31mcol_character()\u001b[39m\n",
      ")\n",
      "\n",
      "\n"
     ]
    }
   ],
   "source": [
    "matrisome_df <- rutils::load_matrisome_df(matrisome_path) %>%\n",
    "    dplyr::select(gene_symbol, division, category) %>%\n",
    "    dplyr::rename(geneID = gene_symbol)\n",
    "demg_list <- read_lines(paste0(dirs$analysis_dir, \"/gene_lists/\", unified_dsets[dset_idx], \"_demg_list.txt\"))\n",
    "figo_umsmg_list <- read_lines(paste0(dirs$analysis_dir, \"/gene_lists/\", unified_dsets[dset_idx], \"_figo_umsmg_list.txt\"))\n",
    "survival_umsmg_list <- read_lines(paste0(dirs$analysis_dir, \"/gene_lists/\", unified_dsets[dset_idx], \"_survival_umsmg_list.txt\"))\n",
    "figo_nsmg_list <- read_lines(paste0(dirs$analysis_dir, \"/gene_lists/\", unified_dsets[dset_idx], \"_figo_nsmg_list.txt\"))\n",
    "figo_sig_list <- union(figo_umsmg_list, figo_nsmg_list)\n",
    "figo_sig_de_list <- intersect(figo_sig_list, demg_list)\n"
   ]
  },
  {
   "cell_type": "code",
   "execution_count": 5,
   "id": "initial-yacht",
   "metadata": {},
   "outputs": [
    {
     "name": "stderr",
     "output_type": "stream",
     "text": [
      "\n",
      "\u001b[36m--\u001b[39m \u001b[1m\u001b[1mColumn specification\u001b[1m\u001b[22m \u001b[36m------------------------------------------------------------------------\u001b[39m\n",
      "cols(\n",
      "  hugo_symbol = \u001b[31mcol_character()\u001b[39m,\n",
      "  entrez_gene_id = \u001b[32mcol_double()\u001b[39m\n",
      ")\n",
      "\n",
      "\n"
     ]
    }
   ],
   "source": [
    "dset_genes <- read_tsv(paste0(dirs$data_dir, \"/\", unified_dsets[dset_idx], \"/hugo2entrez.tsv\")) %>% pull(hugo_symbol)"
   ]
  },
  {
   "cell_type": "markdown",
   "id": "funky-mileage",
   "metadata": {},
   "source": [
    "# Matrisome overview"
   ]
  },
  {
   "cell_type": "code",
   "execution_count": 6,
   "id": "figured-impression",
   "metadata": {},
   "outputs": [
    {
     "data": {
      "text/html": [
       "<table class=\"dataframe\">\n",
       "<caption>A tibble: 6 × 3</caption>\n",
       "<thead>\n",
       "\t<tr><th scope=col>category</th><th scope=col>master_n</th><th scope=col>dset_n</th></tr>\n",
       "\t<tr><th scope=col>&lt;chr&gt;</th><th scope=col>&lt;int&gt;</th><th scope=col>&lt;int&gt;</th></tr>\n",
       "</thead>\n",
       "<tbody>\n",
       "\t<tr><td>Collagens              </td><td> 44</td><td> 43</td></tr>\n",
       "\t<tr><td>ECM Glycoproteins      </td><td>195</td><td>192</td></tr>\n",
       "\t<tr><td>ECM Regulators         </td><td>238</td><td>233</td></tr>\n",
       "\t<tr><td>ECM-affiliated Proteins</td><td>171</td><td>168</td></tr>\n",
       "\t<tr><td>Proteoglycans          </td><td> 35</td><td> 35</td></tr>\n",
       "\t<tr><td>Secreted Factors       </td><td>344</td><td>337</td></tr>\n",
       "</tbody>\n",
       "</table>\n"
      ],
      "text/latex": [
       "A tibble: 6 × 3\n",
       "\\begin{tabular}{lll}\n",
       " category & master\\_n & dset\\_n\\\\\n",
       " <chr> & <int> & <int>\\\\\n",
       "\\hline\n",
       "\t Collagens               &  44 &  43\\\\\n",
       "\t ECM Glycoproteins       & 195 & 192\\\\\n",
       "\t ECM Regulators          & 238 & 233\\\\\n",
       "\t ECM-affiliated Proteins & 171 & 168\\\\\n",
       "\t Proteoglycans           &  35 &  35\\\\\n",
       "\t Secreted Factors        & 344 & 337\\\\\n",
       "\\end{tabular}\n"
      ],
      "text/markdown": [
       "\n",
       "A tibble: 6 × 3\n",
       "\n",
       "| category &lt;chr&gt; | master_n &lt;int&gt; | dset_n &lt;int&gt; |\n",
       "|---|---|---|\n",
       "| Collagens               |  44 |  43 |\n",
       "| ECM Glycoproteins       | 195 | 192 |\n",
       "| ECM Regulators          | 238 | 233 |\n",
       "| ECM-affiliated Proteins | 171 | 168 |\n",
       "| Proteoglycans           |  35 |  35 |\n",
       "| Secreted Factors        | 344 | 337 |\n",
       "\n"
      ],
      "text/plain": [
       "  category                master_n dset_n\n",
       "1 Collagens                44       43   \n",
       "2 ECM Glycoproteins       195      192   \n",
       "3 ECM Regulators          238      233   \n",
       "4 ECM-affiliated Proteins 171      168   \n",
       "5 Proteoglycans            35       35   \n",
       "6 Secreted Factors        344      337   "
      ]
     },
     "metadata": {},
     "output_type": "display_data"
    }
   ],
   "source": [
    "master_mat_counts_df <- matrisome_df %>%\n",
    "    dplyr::group_by(category) %>%\n",
    "    dplyr::summarize(master_n = n())\n",
    "dset_mat_counts_df <- matrisome_df %>%\n",
    "    filter(geneID %in% dset_genes) %>%\n",
    "    group_by(category) %>%\n",
    "    dplyr::summarize(dset_n = n())\n",
    "master_mat_counts_df %>%\n",
    "    inner_join(dset_mat_counts_df, by = \"category\")"
   ]
  },
  {
   "cell_type": "code",
   "execution_count": 18,
   "id": "unexpected-advocacy",
   "metadata": {},
   "outputs": [
    {
     "name": "stderr",
     "output_type": "stream",
     "text": [
      "`summarise()` has grouped output by 'division'. You can override using the `.groups` argument.\n",
      "\n"
     ]
    },
    {
     "data": {
      "text/html": [
       "<table class=\"dataframe\">\n",
       "<caption>A tibble: 6 × 4</caption>\n",
       "<thead>\n",
       "\t<tr><th scope=col>division</th><th scope=col>category</th><th scope=col>n</th><th scope=col>division_n</th></tr>\n",
       "\t<tr><th scope=col>&lt;chr&gt;</th><th scope=col>&lt;chr&gt;</th><th scope=col>&lt;int&gt;</th><th scope=col>&lt;int&gt;</th></tr>\n",
       "</thead>\n",
       "<tbody>\n",
       "\t<tr><td>Core matrisome      </td><td>Collagens              </td><td> 44</td><td>274</td></tr>\n",
       "\t<tr><td>Core matrisome      </td><td>ECM Glycoproteins      </td><td>195</td><td>274</td></tr>\n",
       "\t<tr><td>Core matrisome      </td><td>Proteoglycans          </td><td> 35</td><td>274</td></tr>\n",
       "\t<tr><td>Matrisome-associated</td><td>ECM Regulators         </td><td>238</td><td>753</td></tr>\n",
       "\t<tr><td>Matrisome-associated</td><td>ECM-affiliated Proteins</td><td>171</td><td>753</td></tr>\n",
       "\t<tr><td>Matrisome-associated</td><td>Secreted Factors       </td><td>344</td><td>753</td></tr>\n",
       "</tbody>\n",
       "</table>\n"
      ],
      "text/latex": [
       "A tibble: 6 × 4\n",
       "\\begin{tabular}{llll}\n",
       " division & category & n & division\\_n\\\\\n",
       " <chr> & <chr> & <int> & <int>\\\\\n",
       "\\hline\n",
       "\t Core matrisome       & Collagens               &  44 & 274\\\\\n",
       "\t Core matrisome       & ECM Glycoproteins       & 195 & 274\\\\\n",
       "\t Core matrisome       & Proteoglycans           &  35 & 274\\\\\n",
       "\t Matrisome-associated & ECM Regulators          & 238 & 753\\\\\n",
       "\t Matrisome-associated & ECM-affiliated Proteins & 171 & 753\\\\\n",
       "\t Matrisome-associated & Secreted Factors        & 344 & 753\\\\\n",
       "\\end{tabular}\n"
      ],
      "text/markdown": [
       "\n",
       "A tibble: 6 × 4\n",
       "\n",
       "| division &lt;chr&gt; | category &lt;chr&gt; | n &lt;int&gt; | division_n &lt;int&gt; |\n",
       "|---|---|---|---|\n",
       "| Core matrisome       | Collagens               |  44 | 274 |\n",
       "| Core matrisome       | ECM Glycoproteins       | 195 | 274 |\n",
       "| Core matrisome       | Proteoglycans           |  35 | 274 |\n",
       "| Matrisome-associated | ECM Regulators          | 238 | 753 |\n",
       "| Matrisome-associated | ECM-affiliated Proteins | 171 | 753 |\n",
       "| Matrisome-associated | Secreted Factors        | 344 | 753 |\n",
       "\n"
      ],
      "text/plain": [
       "  division             category                n   division_n\n",
       "1 Core matrisome       Collagens                44 274       \n",
       "2 Core matrisome       ECM Glycoproteins       195 274       \n",
       "3 Core matrisome       Proteoglycans            35 274       \n",
       "4 Matrisome-associated ECM Regulators          238 753       \n",
       "5 Matrisome-associated ECM-affiliated Proteins 171 753       \n",
       "6 Matrisome-associated Secreted Factors        344 753       "
      ]
     },
     "metadata": {},
     "output_type": "display_data"
    }
   ],
   "source": [
    "matrisome_df %>%\n",
    "    dplyr::group_by(division, category) %>%\n",
    "    summarize(n = n()) %>%\n",
    "    group_by(division) %>%\n",
    "    mutate(division_n = sum(n)) %>%\n",
    "    ungroup()"
   ]
  },
  {
   "cell_type": "code",
   "execution_count": 7,
   "id": "stock-agriculture",
   "metadata": {},
   "outputs": [
    {
     "data": {
      "text/html": [
       "<table class=\"dataframe\">\n",
       "<caption>A grouped_df: 2 × 2</caption>\n",
       "<thead>\n",
       "\t<tr><th scope=col>division</th><th scope=col>n</th></tr>\n",
       "\t<tr><th scope=col>&lt;chr&gt;</th><th scope=col>&lt;int&gt;</th></tr>\n",
       "</thead>\n",
       "<tbody>\n",
       "\t<tr><td>Core matrisome      </td><td>274</td></tr>\n",
       "\t<tr><td>Matrisome-associated</td><td>753</td></tr>\n",
       "</tbody>\n",
       "</table>\n"
      ],
      "text/latex": [
       "A grouped\\_df: 2 × 2\n",
       "\\begin{tabular}{ll}\n",
       " division & n\\\\\n",
       " <chr> & <int>\\\\\n",
       "\\hline\n",
       "\t Core matrisome       & 274\\\\\n",
       "\t Matrisome-associated & 753\\\\\n",
       "\\end{tabular}\n"
      ],
      "text/markdown": [
       "\n",
       "A grouped_df: 2 × 2\n",
       "\n",
       "| division &lt;chr&gt; | n &lt;int&gt; |\n",
       "|---|---|\n",
       "| Core matrisome       | 274 |\n",
       "| Matrisome-associated | 753 |\n",
       "\n"
      ],
      "text/plain": [
       "  division             n  \n",
       "1 Core matrisome       274\n",
       "2 Matrisome-associated 753"
      ]
     },
     "metadata": {},
     "output_type": "display_data"
    },
    {
     "data": {
      "text/html": [
       "<table class=\"dataframe\">\n",
       "<caption>A grouped_df: 2 × 2</caption>\n",
       "<thead>\n",
       "\t<tr><th scope=col>division</th><th scope=col>n</th></tr>\n",
       "\t<tr><th scope=col>&lt;chr&gt;</th><th scope=col>&lt;int&gt;</th></tr>\n",
       "</thead>\n",
       "<tbody>\n",
       "\t<tr><td>Core matrisome      </td><td>270</td></tr>\n",
       "\t<tr><td>Matrisome-associated</td><td>738</td></tr>\n",
       "</tbody>\n",
       "</table>\n"
      ],
      "text/latex": [
       "A grouped\\_df: 2 × 2\n",
       "\\begin{tabular}{ll}\n",
       " division & n\\\\\n",
       " <chr> & <int>\\\\\n",
       "\\hline\n",
       "\t Core matrisome       & 270\\\\\n",
       "\t Matrisome-associated & 738\\\\\n",
       "\\end{tabular}\n"
      ],
      "text/markdown": [
       "\n",
       "A grouped_df: 2 × 2\n",
       "\n",
       "| division &lt;chr&gt; | n &lt;int&gt; |\n",
       "|---|---|\n",
       "| Core matrisome       | 270 |\n",
       "| Matrisome-associated | 738 |\n",
       "\n"
      ],
      "text/plain": [
       "  division             n  \n",
       "1 Core matrisome       270\n",
       "2 Matrisome-associated 738"
      ]
     },
     "metadata": {},
     "output_type": "display_data"
    }
   ],
   "source": [
    "matrisome_df %>%\n",
    "    group_by(division) %>%\n",
    "    dplyr::count()\n",
    "matrisome_df %>%\n",
    "    filter(geneID %in% dset_genes) %>%\n",
    "    group_by(division) %>%\n",
    "    dplyr::count()"
   ]
  },
  {
   "cell_type": "markdown",
   "id": "assumed-lottery",
   "metadata": {},
   "source": [
    "# FIGO UMSMG $\\cap$ DEMG"
   ]
  },
  {
   "cell_type": "code",
   "execution_count": 8,
   "id": "grave-cross",
   "metadata": {},
   "outputs": [
    {
     "data": {
      "text/html": [
       "<table class=\"dataframe\">\n",
       "<caption>A grouped_df: 5 × 2</caption>\n",
       "<thead>\n",
       "\t<tr><th scope=col>category</th><th scope=col>n</th></tr>\n",
       "\t<tr><th scope=col>&lt;chr&gt;</th><th scope=col>&lt;int&gt;</th></tr>\n",
       "</thead>\n",
       "<tbody>\n",
       "\t<tr><td>Collagens              </td><td> 4</td></tr>\n",
       "\t<tr><td>ECM Glycoproteins      </td><td>15</td></tr>\n",
       "\t<tr><td>ECM Regulators         </td><td>19</td></tr>\n",
       "\t<tr><td>ECM-affiliated Proteins</td><td> 8</td></tr>\n",
       "\t<tr><td>Secreted Factors       </td><td>24</td></tr>\n",
       "</tbody>\n",
       "</table>\n"
      ],
      "text/latex": [
       "A grouped\\_df: 5 × 2\n",
       "\\begin{tabular}{ll}\n",
       " category & n\\\\\n",
       " <chr> & <int>\\\\\n",
       "\\hline\n",
       "\t Collagens               &  4\\\\\n",
       "\t ECM Glycoproteins       & 15\\\\\n",
       "\t ECM Regulators          & 19\\\\\n",
       "\t ECM-affiliated Proteins &  8\\\\\n",
       "\t Secreted Factors        & 24\\\\\n",
       "\\end{tabular}\n"
      ],
      "text/markdown": [
       "\n",
       "A grouped_df: 5 × 2\n",
       "\n",
       "| category &lt;chr&gt; | n &lt;int&gt; |\n",
       "|---|---|\n",
       "| Collagens               |  4 |\n",
       "| ECM Glycoproteins       | 15 |\n",
       "| ECM Regulators          | 19 |\n",
       "| ECM-affiliated Proteins |  8 |\n",
       "| Secreted Factors        | 24 |\n",
       "\n"
      ],
      "text/plain": [
       "  category                n \n",
       "1 Collagens                4\n",
       "2 ECM Glycoproteins       15\n",
       "3 ECM Regulators          19\n",
       "4 ECM-affiliated Proteins  8\n",
       "5 Secreted Factors        24"
      ]
     },
     "metadata": {},
     "output_type": "display_data"
    }
   ],
   "source": [
    "matrisome_df %>%\n",
    "    dplyr::filter(geneID %in% intersect(figo_umsmg_list, demg_list)) %>%\n",
    "    dplyr::group_by(category) %>%\n",
    "    dplyr::count()"
   ]
  },
  {
   "cell_type": "code",
   "execution_count": 9,
   "id": "polar-trout",
   "metadata": {},
   "outputs": [
    {
     "data": {
      "text/html": [
       "101"
      ],
      "text/latex": [
       "101"
      ],
      "text/markdown": [
       "101"
      ],
      "text/plain": [
       "[1] 101"
      ]
     },
     "metadata": {},
     "output_type": "display_data"
    },
    {
     "data": {
      "text/html": [
       "322"
      ],
      "text/latex": [
       "322"
      ],
      "text/markdown": [
       "322"
      ],
      "text/plain": [
       "[1] 322"
      ]
     },
     "metadata": {},
     "output_type": "display_data"
    },
    {
     "data": {
      "text/html": [
       "618"
      ],
      "text/latex": [
       "618"
      ],
      "text/markdown": [
       "618"
      ],
      "text/plain": [
       "[1] 618"
      ]
     },
     "metadata": {},
     "output_type": "display_data"
    },
    {
     "data": {
      "text/html": [
       "207"
      ],
      "text/latex": [
       "207"
      ],
      "text/markdown": [
       "207"
      ],
      "text/plain": [
       "[1] 207"
      ]
     },
     "metadata": {},
     "output_type": "display_data"
    },
    {
     "data": {
      "text/html": [
       "0.282401091405184"
      ],
      "text/latex": [
       "0.282401091405184"
      ],
      "text/markdown": [
       "0.282401091405184"
      ],
      "text/plain": [
       "[1] 0.2824011"
      ]
     },
     "metadata": {},
     "output_type": "display_data"
    },
    {
     "data": {
      "text/html": [
       "0.346938775510204"
      ],
      "text/latex": [
       "0.346938775510204"
      ],
      "text/markdown": [
       "0.346938775510204"
      ],
      "text/plain": [
       "[1] 0.3469388"
      ]
     },
     "metadata": {},
     "output_type": "display_data"
    }
   ],
   "source": [
    "figo_umsmg_list %>% length()\n",
    "figo_sig_list %>% length()\n",
    "demg_list %>% length()\n",
    "figo_sig_de_list %>% length()\n",
    "\n",
    "length(figo_sig_de_list) / length(union(figo_sig_list, demg_list))\n",
    "# Use survival list as denom since it's smaller in all cases\n",
    "length(intersect(survival_umsmg_list, figo_sig_list)) / length(survival_umsmg_list)"
   ]
  },
  {
   "cell_type": "markdown",
   "id": "black-province",
   "metadata": {},
   "source": [
    "# Survival UMSMG $\\cap$ DEMG"
   ]
  },
  {
   "cell_type": "code",
   "execution_count": 10,
   "id": "contemporary-proxy",
   "metadata": {},
   "outputs": [
    {
     "data": {
      "text/html": [
       "<table class=\"dataframe\">\n",
       "<caption>A grouped_df: 5 × 2</caption>\n",
       "<thead>\n",
       "\t<tr><th scope=col>category</th><th scope=col>n</th></tr>\n",
       "\t<tr><th scope=col>&lt;chr&gt;</th><th scope=col>&lt;int&gt;</th></tr>\n",
       "</thead>\n",
       "<tbody>\n",
       "\t<tr><td>Collagens              </td><td>1</td></tr>\n",
       "\t<tr><td>ECM Glycoproteins      </td><td>7</td></tr>\n",
       "\t<tr><td>ECM Regulators         </td><td>5</td></tr>\n",
       "\t<tr><td>ECM-affiliated Proteins</td><td>5</td></tr>\n",
       "\t<tr><td>Secreted Factors       </td><td>8</td></tr>\n",
       "</tbody>\n",
       "</table>\n"
      ],
      "text/latex": [
       "A grouped\\_df: 5 × 2\n",
       "\\begin{tabular}{ll}\n",
       " category & n\\\\\n",
       " <chr> & <int>\\\\\n",
       "\\hline\n",
       "\t Collagens               & 1\\\\\n",
       "\t ECM Glycoproteins       & 7\\\\\n",
       "\t ECM Regulators          & 5\\\\\n",
       "\t ECM-affiliated Proteins & 5\\\\\n",
       "\t Secreted Factors        & 8\\\\\n",
       "\\end{tabular}\n"
      ],
      "text/markdown": [
       "\n",
       "A grouped_df: 5 × 2\n",
       "\n",
       "| category &lt;chr&gt; | n &lt;int&gt; |\n",
       "|---|---|\n",
       "| Collagens               | 1 |\n",
       "| ECM Glycoproteins       | 7 |\n",
       "| ECM Regulators          | 5 |\n",
       "| ECM-affiliated Proteins | 5 |\n",
       "| Secreted Factors        | 8 |\n",
       "\n"
      ],
      "text/plain": [
       "  category                n\n",
       "1 Collagens               1\n",
       "2 ECM Glycoproteins       7\n",
       "3 ECM Regulators          5\n",
       "4 ECM-affiliated Proteins 5\n",
       "5 Secreted Factors        8"
      ]
     },
     "metadata": {},
     "output_type": "display_data"
    }
   ],
   "source": [
    "matrisome_df %>%\n",
    "    dplyr::filter(geneID %in% intersect(survival_umsmg_list, demg_list)) %>%\n",
    "    dplyr::group_by(category) %>%\n",
    "    dplyr::count()"
   ]
  },
  {
   "cell_type": "markdown",
   "id": "legendary-plasma",
   "metadata": {},
   "source": [
    "# FIGO NSMG $\\cap$ DEMG"
   ]
  },
  {
   "cell_type": "code",
   "execution_count": 11,
   "id": "standing-diagram",
   "metadata": {},
   "outputs": [
    {
     "data": {
      "text/html": [
       "<table class=\"dataframe\">\n",
       "<caption>A grouped_df: 6 × 2</caption>\n",
       "<thead>\n",
       "\t<tr><th scope=col>category</th><th scope=col>n</th></tr>\n",
       "\t<tr><th scope=col>&lt;chr&gt;</th><th scope=col>&lt;int&gt;</th></tr>\n",
       "</thead>\n",
       "<tbody>\n",
       "\t<tr><td>Collagens              </td><td> 7</td></tr>\n",
       "\t<tr><td>ECM Glycoproteins      </td><td>32</td></tr>\n",
       "\t<tr><td>ECM Regulators         </td><td>40</td></tr>\n",
       "\t<tr><td>ECM-affiliated Proteins</td><td>35</td></tr>\n",
       "\t<tr><td>Proteoglycans          </td><td> 2</td></tr>\n",
       "\t<tr><td>Secreted Factors       </td><td>43</td></tr>\n",
       "</tbody>\n",
       "</table>\n"
      ],
      "text/latex": [
       "A grouped\\_df: 6 × 2\n",
       "\\begin{tabular}{ll}\n",
       " category & n\\\\\n",
       " <chr> & <int>\\\\\n",
       "\\hline\n",
       "\t Collagens               &  7\\\\\n",
       "\t ECM Glycoproteins       & 32\\\\\n",
       "\t ECM Regulators          & 40\\\\\n",
       "\t ECM-affiliated Proteins & 35\\\\\n",
       "\t Proteoglycans           &  2\\\\\n",
       "\t Secreted Factors        & 43\\\\\n",
       "\\end{tabular}\n"
      ],
      "text/markdown": [
       "\n",
       "A grouped_df: 6 × 2\n",
       "\n",
       "| category &lt;chr&gt; | n &lt;int&gt; |\n",
       "|---|---|\n",
       "| Collagens               |  7 |\n",
       "| ECM Glycoproteins       | 32 |\n",
       "| ECM Regulators          | 40 |\n",
       "| ECM-affiliated Proteins | 35 |\n",
       "| Proteoglycans           |  2 |\n",
       "| Secreted Factors        | 43 |\n",
       "\n"
      ],
      "text/plain": [
       "  category                n \n",
       "1 Collagens                7\n",
       "2 ECM Glycoproteins       32\n",
       "3 ECM Regulators          40\n",
       "4 ECM-affiliated Proteins 35\n",
       "5 Proteoglycans            2\n",
       "6 Secreted Factors        43"
      ]
     },
     "metadata": {},
     "output_type": "display_data"
    }
   ],
   "source": [
    "matrisome_df %>%\n",
    "    dplyr::filter(geneID %in% intersect(figo_nsmg_list, demg_list)) %>%\n",
    "    dplyr::group_by(category) %>%\n",
    "    dplyr::count()"
   ]
  },
  {
   "cell_type": "code",
   "execution_count": null,
   "id": "european-columbia",
   "metadata": {},
   "outputs": [],
   "source": []
  }
 ],
 "metadata": {
  "kernelspec": {
   "display_name": "R",
   "language": "R",
   "name": "ir"
  },
  "language_info": {
   "codemirror_mode": "r",
   "file_extension": ".r",
   "mimetype": "text/x-r-source",
   "name": "R",
   "pygments_lexer": "r",
   "version": "4.0.3"
  }
 },
 "nbformat": 4,
 "nbformat_minor": 5
}
