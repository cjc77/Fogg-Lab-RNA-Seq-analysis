{
 "cells": [
  {
   "cell_type": "code",
   "execution_count": 1,
   "id": "crude-essence",
   "metadata": {},
   "outputs": [
    {
     "name": "stderr",
     "output_type": "stream",
     "text": [
      "-- \u001b[1mAttaching packages\u001b[22m --------------------------------------------------------------------------------------------------------- tidyverse 1.3.0 --\n",
      "\n",
      "\u001b[32mv\u001b[39m \u001b[34mggplot2\u001b[39m 3.3.3     \u001b[32mv\u001b[39m \u001b[34mpurrr  \u001b[39m 0.3.4\n",
      "\u001b[32mv\u001b[39m \u001b[34mtibble \u001b[39m 3.0.6     \u001b[32mv\u001b[39m \u001b[34mdplyr  \u001b[39m 1.0.4\n",
      "\u001b[32mv\u001b[39m \u001b[34mtidyr  \u001b[39m 1.1.2     \u001b[32mv\u001b[39m \u001b[34mstringr\u001b[39m 1.4.0\n",
      "\u001b[32mv\u001b[39m \u001b[34mreadr  \u001b[39m 1.4.0     \u001b[32mv\u001b[39m \u001b[34mforcats\u001b[39m 0.5.1\n",
      "\n",
      "-- \u001b[1mConflicts\u001b[22m ------------------------------------------------------------------------------------------------------------ tidyverse_conflicts() --\n",
      "\u001b[31mx\u001b[39m \u001b[34mdplyr\u001b[39m::\u001b[32mfilter()\u001b[39m masks \u001b[34mstats\u001b[39m::filter()\n",
      "\u001b[31mx\u001b[39m \u001b[34mdplyr\u001b[39m::\u001b[32mlag()\u001b[39m    masks \u001b[34mstats\u001b[39m::lag()\n",
      "\n"
     ]
    }
   ],
   "source": [
    "library(tidyverse)\n",
    "\n",
    "# Custom package\n",
    "library(rutils)"
   ]
  },
  {
   "cell_type": "code",
   "execution_count": 2,
   "id": "aware-korea",
   "metadata": {},
   "outputs": [],
   "source": [
    "dset_idx <- 1\n",
    "save_res <- TRUE"
   ]
  },
  {
   "cell_type": "code",
   "execution_count": 3,
   "id": "hispanic-treat",
   "metadata": {},
   "outputs": [],
   "source": [
    "dirs <- rutils::get_dev_directories(dev_paths_file = \"../dev_paths.txt\")\n",
    "projects <- c(\"TCGA-CESC\", \"TCGA-UCS\", \"TCGA-UCEC\", \"TCGA-OV\")\n",
    "unified_dsets <- c(\"unified_cervical_data\", \"unified_uterine_data\", \"unified_uterine_endometrial_data\")\n",
    "matrisome_path <- paste0(dirs$data_dir, \"/matrisome/matrisome_hs_masterlist.tsv\")\n",
    "\n",
    "matrisome_path <- paste0(dirs$data_dir, \"/matrisome/matrisome_hs_masterlist.tsv\")"
   ]
  },
  {
   "cell_type": "code",
   "execution_count": 4,
   "id": "broadband-bicycle",
   "metadata": {},
   "outputs": [
    {
     "name": "stderr",
     "output_type": "stream",
     "text": [
      "\n",
      "\u001b[36m--\u001b[39m \u001b[1m\u001b[1mColumn specification\u001b[1m\u001b[22m \u001b[36m--------------------------------------------------------------------------------------------------------------------------\u001b[39m\n",
      "cols(\n",
      "  Division = \u001b[31mcol_character()\u001b[39m,\n",
      "  Category = \u001b[31mcol_character()\u001b[39m,\n",
      "  `Gene Symbol` = \u001b[31mcol_character()\u001b[39m,\n",
      "  `Gene Name` = \u001b[31mcol_character()\u001b[39m,\n",
      "  Synonyms = \u001b[31mcol_character()\u001b[39m,\n",
      "  HGNC_IDs = \u001b[32mcol_double()\u001b[39m,\n",
      "  `HGNC_IDs Links` = \u001b[32mcol_double()\u001b[39m,\n",
      "  UniProt_IDs = \u001b[31mcol_character()\u001b[39m,\n",
      "  Refseq_IDs = \u001b[31mcol_character()\u001b[39m,\n",
      "  Orthology = \u001b[31mcol_character()\u001b[39m,\n",
      "  Notes = \u001b[31mcol_character()\u001b[39m\n",
      ")\n",
      "\n",
      "\n"
     ]
    }
   ],
   "source": [
    "matrisome_df <- rutils::load_matrisome_df(matrisome_path) %>%\n",
    "    dplyr::select(gene_symbol, division, category) %>%\n",
    "    dplyr::rename(geneID = gene_symbol)\n",
    "demg_list <- read_lines(paste0(dirs$analysis_dir, \"/gene_lists/\", unified_dsets[dset_idx], \"_demg_list.txt\"))\n",
    "figo_umsmg_list <- read_lines(paste0(dirs$analysis_dir, \"/gene_lists/\", unified_dsets[dset_idx], \"_figo_umsmg_list.txt\"))\n",
    "survival_umsmg_list <- read_lines(paste0(dirs$analysis_dir, \"/gene_lists/\", unified_dsets[dset_idx], \"_survival_umsmg_list.txt\"))\n",
    "figo_nsmg_list <- read_lines(paste0(dirs$analysis_dir, \"/gene_lists/\", unified_dsets[dset_idx], \"_figo_nsmg_list.txt\"))\n"
   ]
  },
  {
   "cell_type": "markdown",
   "id": "sweet-collins",
   "metadata": {},
   "source": [
    "# Matrisome overview"
   ]
  },
  {
   "cell_type": "code",
   "execution_count": 5,
   "id": "hungarian-liberty",
   "metadata": {},
   "outputs": [
    {
     "data": {
      "text/html": [
       "<table class=\"dataframe\">\n",
       "<caption>A grouped_df: 6 × 2</caption>\n",
       "<thead>\n",
       "\t<tr><th scope=col>category</th><th scope=col>n</th></tr>\n",
       "\t<tr><th scope=col>&lt;chr&gt;</th><th scope=col>&lt;int&gt;</th></tr>\n",
       "</thead>\n",
       "<tbody>\n",
       "\t<tr><td>Collagens              </td><td> 44</td></tr>\n",
       "\t<tr><td>ECM Glycoproteins      </td><td>195</td></tr>\n",
       "\t<tr><td>ECM Regulators         </td><td>238</td></tr>\n",
       "\t<tr><td>ECM-affiliated Proteins</td><td>171</td></tr>\n",
       "\t<tr><td>Proteoglycans          </td><td> 35</td></tr>\n",
       "\t<tr><td>Secreted Factors       </td><td>344</td></tr>\n",
       "</tbody>\n",
       "</table>\n"
      ],
      "text/latex": [
       "A grouped\\_df: 6 × 2\n",
       "\\begin{tabular}{ll}\n",
       " category & n\\\\\n",
       " <chr> & <int>\\\\\n",
       "\\hline\n",
       "\t Collagens               &  44\\\\\n",
       "\t ECM Glycoproteins       & 195\\\\\n",
       "\t ECM Regulators          & 238\\\\\n",
       "\t ECM-affiliated Proteins & 171\\\\\n",
       "\t Proteoglycans           &  35\\\\\n",
       "\t Secreted Factors        & 344\\\\\n",
       "\\end{tabular}\n"
      ],
      "text/markdown": [
       "\n",
       "A grouped_df: 6 × 2\n",
       "\n",
       "| category &lt;chr&gt; | n &lt;int&gt; |\n",
       "|---|---|\n",
       "| Collagens               |  44 |\n",
       "| ECM Glycoproteins       | 195 |\n",
       "| ECM Regulators          | 238 |\n",
       "| ECM-affiliated Proteins | 171 |\n",
       "| Proteoglycans           |  35 |\n",
       "| Secreted Factors        | 344 |\n",
       "\n"
      ],
      "text/plain": [
       "  category                n  \n",
       "1 Collagens                44\n",
       "2 ECM Glycoproteins       195\n",
       "3 ECM Regulators          238\n",
       "4 ECM-affiliated Proteins 171\n",
       "5 Proteoglycans            35\n",
       "6 Secreted Factors        344"
      ]
     },
     "metadata": {},
     "output_type": "display_data"
    }
   ],
   "source": [
    "matrisome_df %>%\n",
    "    dplyr::group_by(category) %>%\n",
    "    dplyr::count()"
   ]
  },
  {
   "cell_type": "markdown",
   "id": "dynamic-playback",
   "metadata": {},
   "source": [
    "# FIGO UMSMG $\\cap$ DEMG"
   ]
  },
  {
   "cell_type": "code",
   "execution_count": 6,
   "id": "appointed-martial",
   "metadata": {},
   "outputs": [
    {
     "data": {
      "text/html": [
       "<table class=\"dataframe\">\n",
       "<caption>A grouped_df: 6 × 2</caption>\n",
       "<thead>\n",
       "\t<tr><th scope=col>category</th><th scope=col>n</th></tr>\n",
       "\t<tr><th scope=col>&lt;chr&gt;</th><th scope=col>&lt;int&gt;</th></tr>\n",
       "</thead>\n",
       "<tbody>\n",
       "\t<tr><td>Collagens              </td><td> 4</td></tr>\n",
       "\t<tr><td>ECM Glycoproteins      </td><td>19</td></tr>\n",
       "\t<tr><td>ECM Regulators         </td><td>27</td></tr>\n",
       "\t<tr><td>ECM-affiliated Proteins</td><td>16</td></tr>\n",
       "\t<tr><td>Proteoglycans          </td><td> 5</td></tr>\n",
       "\t<tr><td>Secreted Factors       </td><td>35</td></tr>\n",
       "</tbody>\n",
       "</table>\n"
      ],
      "text/latex": [
       "A grouped\\_df: 6 × 2\n",
       "\\begin{tabular}{ll}\n",
       " category & n\\\\\n",
       " <chr> & <int>\\\\\n",
       "\\hline\n",
       "\t Collagens               &  4\\\\\n",
       "\t ECM Glycoproteins       & 19\\\\\n",
       "\t ECM Regulators          & 27\\\\\n",
       "\t ECM-affiliated Proteins & 16\\\\\n",
       "\t Proteoglycans           &  5\\\\\n",
       "\t Secreted Factors        & 35\\\\\n",
       "\\end{tabular}\n"
      ],
      "text/markdown": [
       "\n",
       "A grouped_df: 6 × 2\n",
       "\n",
       "| category &lt;chr&gt; | n &lt;int&gt; |\n",
       "|---|---|\n",
       "| Collagens               |  4 |\n",
       "| ECM Glycoproteins       | 19 |\n",
       "| ECM Regulators          | 27 |\n",
       "| ECM-affiliated Proteins | 16 |\n",
       "| Proteoglycans           |  5 |\n",
       "| Secreted Factors        | 35 |\n",
       "\n"
      ],
      "text/plain": [
       "  category                n \n",
       "1 Collagens                4\n",
       "2 ECM Glycoproteins       19\n",
       "3 ECM Regulators          27\n",
       "4 ECM-affiliated Proteins 16\n",
       "5 Proteoglycans            5\n",
       "6 Secreted Factors        35"
      ]
     },
     "metadata": {},
     "output_type": "display_data"
    }
   ],
   "source": [
    "matrisome_df %>%\n",
    "    dplyr::filter(geneID %in% intersect(figo_umsmg_list, demg_list)) %>%\n",
    "    dplyr::group_by(category) %>%\n",
    "    dplyr::count()"
   ]
  },
  {
   "cell_type": "markdown",
   "id": "champion-version",
   "metadata": {},
   "source": [
    "# Survival UMSMG $\\cap$ DEMG"
   ]
  },
  {
   "cell_type": "code",
   "execution_count": 7,
   "id": "statewide-despite",
   "metadata": {},
   "outputs": [
    {
     "data": {
      "text/html": [
       "<table class=\"dataframe\">\n",
       "<caption>A grouped_df: 5 × 2</caption>\n",
       "<thead>\n",
       "\t<tr><th scope=col>category</th><th scope=col>n</th></tr>\n",
       "\t<tr><th scope=col>&lt;chr&gt;</th><th scope=col>&lt;int&gt;</th></tr>\n",
       "</thead>\n",
       "<tbody>\n",
       "\t<tr><td>ECM Glycoproteins      </td><td> 5</td></tr>\n",
       "\t<tr><td>ECM Regulators         </td><td> 8</td></tr>\n",
       "\t<tr><td>ECM-affiliated Proteins</td><td> 5</td></tr>\n",
       "\t<tr><td>Proteoglycans          </td><td> 1</td></tr>\n",
       "\t<tr><td>Secreted Factors       </td><td>14</td></tr>\n",
       "</tbody>\n",
       "</table>\n"
      ],
      "text/latex": [
       "A grouped\\_df: 5 × 2\n",
       "\\begin{tabular}{ll}\n",
       " category & n\\\\\n",
       " <chr> & <int>\\\\\n",
       "\\hline\n",
       "\t ECM Glycoproteins       &  5\\\\\n",
       "\t ECM Regulators          &  8\\\\\n",
       "\t ECM-affiliated Proteins &  5\\\\\n",
       "\t Proteoglycans           &  1\\\\\n",
       "\t Secreted Factors        & 14\\\\\n",
       "\\end{tabular}\n"
      ],
      "text/markdown": [
       "\n",
       "A grouped_df: 5 × 2\n",
       "\n",
       "| category &lt;chr&gt; | n &lt;int&gt; |\n",
       "|---|---|\n",
       "| ECM Glycoproteins       |  5 |\n",
       "| ECM Regulators          |  8 |\n",
       "| ECM-affiliated Proteins |  5 |\n",
       "| Proteoglycans           |  1 |\n",
       "| Secreted Factors        | 14 |\n",
       "\n"
      ],
      "text/plain": [
       "  category                n \n",
       "1 ECM Glycoproteins        5\n",
       "2 ECM Regulators           8\n",
       "3 ECM-affiliated Proteins  5\n",
       "4 Proteoglycans            1\n",
       "5 Secreted Factors        14"
      ]
     },
     "metadata": {},
     "output_type": "display_data"
    }
   ],
   "source": [
    "matrisome_df %>%\n",
    "    dplyr::filter(geneID %in% intersect(survival_umsmg_list, demg_list)) %>%\n",
    "    dplyr::group_by(category) %>%\n",
    "    dplyr::count()"
   ]
  },
  {
   "cell_type": "markdown",
   "id": "uniform-wheat",
   "metadata": {},
   "source": [
    "# FIGO NSMG $\\cap$ DEMG"
   ]
  },
  {
   "cell_type": "code",
   "execution_count": 8,
   "id": "smart-procurement",
   "metadata": {},
   "outputs": [
    {
     "data": {
      "text/html": [
       "<table class=\"dataframe\">\n",
       "<caption>A grouped_df: 6 × 2</caption>\n",
       "<thead>\n",
       "\t<tr><th scope=col>category</th><th scope=col>n</th></tr>\n",
       "\t<tr><th scope=col>&lt;chr&gt;</th><th scope=col>&lt;int&gt;</th></tr>\n",
       "</thead>\n",
       "<tbody>\n",
       "\t<tr><td>Collagens              </td><td> 4</td></tr>\n",
       "\t<tr><td>ECM Glycoproteins      </td><td>12</td></tr>\n",
       "\t<tr><td>ECM Regulators         </td><td>36</td></tr>\n",
       "\t<tr><td>ECM-affiliated Proteins</td><td>27</td></tr>\n",
       "\t<tr><td>Proteoglycans          </td><td> 3</td></tr>\n",
       "\t<tr><td>Secreted Factors       </td><td>46</td></tr>\n",
       "</tbody>\n",
       "</table>\n"
      ],
      "text/latex": [
       "A grouped\\_df: 6 × 2\n",
       "\\begin{tabular}{ll}\n",
       " category & n\\\\\n",
       " <chr> & <int>\\\\\n",
       "\\hline\n",
       "\t Collagens               &  4\\\\\n",
       "\t ECM Glycoproteins       & 12\\\\\n",
       "\t ECM Regulators          & 36\\\\\n",
       "\t ECM-affiliated Proteins & 27\\\\\n",
       "\t Proteoglycans           &  3\\\\\n",
       "\t Secreted Factors        & 46\\\\\n",
       "\\end{tabular}\n"
      ],
      "text/markdown": [
       "\n",
       "A grouped_df: 6 × 2\n",
       "\n",
       "| category &lt;chr&gt; | n &lt;int&gt; |\n",
       "|---|---|\n",
       "| Collagens               |  4 |\n",
       "| ECM Glycoproteins       | 12 |\n",
       "| ECM Regulators          | 36 |\n",
       "| ECM-affiliated Proteins | 27 |\n",
       "| Proteoglycans           |  3 |\n",
       "| Secreted Factors        | 46 |\n",
       "\n"
      ],
      "text/plain": [
       "  category                n \n",
       "1 Collagens                4\n",
       "2 ECM Glycoproteins       12\n",
       "3 ECM Regulators          36\n",
       "4 ECM-affiliated Proteins 27\n",
       "5 Proteoglycans            3\n",
       "6 Secreted Factors        46"
      ]
     },
     "metadata": {},
     "output_type": "display_data"
    }
   ],
   "source": [
    "matrisome_df %>%\n",
    "    dplyr::filter(geneID %in% intersect(figo_nsmg_list, demg_list)) %>%\n",
    "    dplyr::group_by(category) %>%\n",
    "    dplyr::count()"
   ]
  },
  {
   "cell_type": "code",
   "execution_count": null,
   "id": "homeless-piece",
   "metadata": {},
   "outputs": [],
   "source": []
  }
 ],
 "metadata": {
  "kernelspec": {
   "display_name": "R",
   "language": "R",
   "name": "ir"
  },
  "language_info": {
   "codemirror_mode": "r",
   "file_extension": ".r",
   "mimetype": "text/x-r-source",
   "name": "R",
   "pygments_lexer": "r",
   "version": "4.0.3"
  }
 },
 "nbformat": 4,
 "nbformat_minor": 5
}
