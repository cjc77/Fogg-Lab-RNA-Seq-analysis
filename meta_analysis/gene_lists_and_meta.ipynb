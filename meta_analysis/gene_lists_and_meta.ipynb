{
 "cells": [
  {
   "cell_type": "code",
   "execution_count": 1,
   "id": "dominant-reception",
   "metadata": {},
   "outputs": [
    {
     "name": "stderr",
     "output_type": "stream",
     "text": [
      "-- \u001b[1mAttaching packages\u001b[22m ------------------------------------------------------------------------------- tidyverse 1.3.0 --\n",
      "\n",
      "\u001b[32mv\u001b[39m \u001b[34mggplot2\u001b[39m 3.3.3     \u001b[32mv\u001b[39m \u001b[34mpurrr  \u001b[39m 0.3.4\n",
      "\u001b[32mv\u001b[39m \u001b[34mtibble \u001b[39m 3.0.6     \u001b[32mv\u001b[39m \u001b[34mdplyr  \u001b[39m 1.0.4\n",
      "\u001b[32mv\u001b[39m \u001b[34mtidyr  \u001b[39m 1.1.2     \u001b[32mv\u001b[39m \u001b[34mstringr\u001b[39m 1.4.0\n",
      "\u001b[32mv\u001b[39m \u001b[34mreadr  \u001b[39m 1.4.0     \u001b[32mv\u001b[39m \u001b[34mforcats\u001b[39m 0.5.1\n",
      "\n",
      "-- \u001b[1mConflicts\u001b[22m ---------------------------------------------------------------------------------- tidyverse_conflicts() --\n",
      "\u001b[31mx\u001b[39m \u001b[34mdplyr\u001b[39m::\u001b[32mfilter()\u001b[39m masks \u001b[34mstats\u001b[39m::filter()\n",
      "\u001b[31mx\u001b[39m \u001b[34mdplyr\u001b[39m::\u001b[32mlag()\u001b[39m    masks \u001b[34mstats\u001b[39m::lag()\n",
      "\n"
     ]
    }
   ],
   "source": [
    "library(tidyverse)\n",
    "\n",
    "# Custom package\n",
    "library(rutils)"
   ]
  },
  {
   "cell_type": "code",
   "execution_count": 2,
   "id": "sustained-purchase",
   "metadata": {},
   "outputs": [],
   "source": [
    "dirs <- rutils::get_dev_directories(dev_paths_file = \"../dev_paths.txt\")\n",
    "projects <- c(\"TCGA-CESC\", \"TCGA-UCS\", \"TCGA-UCEC\", \"TCGA-OV\")\n",
    "unified_dsets <- c(\"unified_cervical_data\", \"unified_uterine_data\", \"unified_uterine_endometrial_data\")\n",
    "matrisome_list <- paste0(dirs$data_dir, \"/matrisome/matrisome_hs_masterlist.tsv\")"
   ]
  },
  {
   "cell_type": "code",
   "execution_count": 3,
   "id": "annoying-forum",
   "metadata": {},
   "outputs": [],
   "source": [
    "dset_idx <- 2\n",
    "save_lists <- FALSE"
   ]
  },
  {
   "cell_type": "code",
   "execution_count": 4,
   "id": "asian-abortion",
   "metadata": {},
   "outputs": [],
   "source": [
    "p_thresh <- 0.05\n",
    "lfc_thresh <- log2(2)\n",
    "# hub_con_thresh <- 0\n",
    "q_deg_thresh <- 0.05\n",
    "q_anova_thresh <- 0.05\n",
    "padj_pairwise_figo_thresh <- 0.01\n",
    "q_me_thresh <- 0.05\n",
    "cph_coeff_thresh <- 0.0\n",
    "q_pbc_thresh <- 0.05\n",
    "q_cts_thresh <- 0.05\n",
    "q_univ_surv_thresh <- 0.05\n",
    "p_mm_thresh <- 0.05"
   ]
  },
  {
   "cell_type": "markdown",
   "id": "civilian-methodology",
   "metadata": {},
   "source": [
    "# Data"
   ]
  },
  {
   "cell_type": "code",
   "execution_count": 5,
   "id": "falling-zimbabwe",
   "metadata": {},
   "outputs": [
    {
     "name": "stderr",
     "output_type": "stream",
     "text": [
      "\n",
      "\u001b[36m--\u001b[39m \u001b[1m\u001b[1mColumn specification\u001b[1m\u001b[22m \u001b[36m------------------------------------------------------------------------------------------------\u001b[39m\n",
      "cols(\n",
      "  Division = \u001b[31mcol_character()\u001b[39m,\n",
      "  Category = \u001b[31mcol_character()\u001b[39m,\n",
      "  `Gene Symbol` = \u001b[31mcol_character()\u001b[39m,\n",
      "  `Gene Name` = \u001b[31mcol_character()\u001b[39m,\n",
      "  Synonyms = \u001b[31mcol_character()\u001b[39m,\n",
      "  HGNC_IDs = \u001b[32mcol_double()\u001b[39m,\n",
      "  `HGNC_IDs Links` = \u001b[32mcol_double()\u001b[39m,\n",
      "  UniProt_IDs = \u001b[31mcol_character()\u001b[39m,\n",
      "  Refseq_IDs = \u001b[31mcol_character()\u001b[39m,\n",
      "  Orthology = \u001b[31mcol_character()\u001b[39m,\n",
      "  Notes = \u001b[31mcol_character()\u001b[39m\n",
      ")\n",
      "\n",
      "\n",
      "\n",
      "\u001b[36m--\u001b[39m \u001b[1m\u001b[1mColumn specification\u001b[1m\u001b[22m \u001b[36m------------------------------------------------------------------------------------------------\u001b[39m\n",
      "cols(\n",
      "  .default = col_double(),\n",
      "  geneID = \u001b[31mcol_character()\u001b[39m\n",
      ")\n",
      "\u001b[36mi\u001b[39m Use \u001b[30m\u001b[47m\u001b[30m\u001b[47m`spec()`\u001b[47m\u001b[30m\u001b[49m\u001b[39m for the full column specifications.\n",
      "\n",
      "\n",
      "\n",
      "\u001b[36m--\u001b[39m \u001b[1m\u001b[1mColumn specification\u001b[1m\u001b[22m \u001b[36m------------------------------------------------------------------------------------------------\u001b[39m\n",
      "cols(\n",
      "  geneID = \u001b[31mcol_character()\u001b[39m,\n",
      "  baseMean = \u001b[32mcol_double()\u001b[39m,\n",
      "  log2FoldChange = \u001b[32mcol_double()\u001b[39m,\n",
      "  lfcSE = \u001b[32mcol_double()\u001b[39m,\n",
      "  stat = \u001b[32mcol_double()\u001b[39m,\n",
      "  pvalue = \u001b[32mcol_double()\u001b[39m,\n",
      "  padj = \u001b[32mcol_double()\u001b[39m,\n",
      "  qval = \u001b[32mcol_double()\u001b[39m\n",
      ")\n",
      "\n",
      "\n",
      "\n",
      "\u001b[36m--\u001b[39m \u001b[1m\u001b[1mColumn specification\u001b[1m\u001b[22m \u001b[36m------------------------------------------------------------------------------------------------\u001b[39m\n",
      "cols(\n",
      "  geneID = \u001b[31mcol_character()\u001b[39m,\n",
      "  coeff = \u001b[32mcol_double()\u001b[39m\n",
      ")\n",
      "\n",
      "\n",
      "\n",
      "\u001b[36m--\u001b[39m \u001b[1m\u001b[1mColumn specification\u001b[1m\u001b[22m \u001b[36m------------------------------------------------------------------------------------------------\u001b[39m\n",
      "cols(\n",
      "  geneID = \u001b[31mcol_character()\u001b[39m,\n",
      "  vital_pval = \u001b[32mcol_double()\u001b[39m,\n",
      "  vital_qval = \u001b[32mcol_double()\u001b[39m,\n",
      "  hr = \u001b[32mcol_double()\u001b[39m\n",
      ")\n",
      "\n",
      "\n",
      "\n",
      "\u001b[36m--\u001b[39m \u001b[1m\u001b[1mColumn specification\u001b[1m\u001b[22m \u001b[36m------------------------------------------------------------------------------------------------\u001b[39m\n",
      "cols(\n",
      "  geneID = \u001b[31mcol_character()\u001b[39m,\n",
      "  km_pval = \u001b[32mcol_double()\u001b[39m,\n",
      "  km_qval = \u001b[32mcol_double()\u001b[39m,\n",
      "  cph_pval = \u001b[32mcol_double()\u001b[39m,\n",
      "  cph_qval = \u001b[32mcol_double()\u001b[39m,\n",
      "  coeff = \u001b[32mcol_double()\u001b[39m\n",
      ")\n",
      "\n",
      "\n",
      "\n",
      "\u001b[36m--\u001b[39m \u001b[1m\u001b[1mColumn specification\u001b[1m\u001b[22m \u001b[36m------------------------------------------------------------------------------------------------\u001b[39m\n",
      "cols(\n",
      "  geneID = \u001b[31mcol_character()\u001b[39m,\n",
      "  figo_stage_1_coefs = \u001b[32mcol_double()\u001b[39m,\n",
      "  figo_stage_2_coefs = \u001b[32mcol_double()\u001b[39m,\n",
      "  figo_stage_3_coefs = \u001b[32mcol_double()\u001b[39m,\n",
      "  figo_stage_4_coefs = \u001b[32mcol_double()\u001b[39m\n",
      ")\n",
      "\n",
      "\n",
      "\n",
      "\u001b[36m--\u001b[39m \u001b[1m\u001b[1mColumn specification\u001b[1m\u001b[22m \u001b[36m------------------------------------------------------------------------------------------------\u001b[39m\n",
      "cols(\n",
      "  geneID = \u001b[31mcol_character()\u001b[39m,\n",
      "  figo_stage_1_pval = \u001b[32mcol_double()\u001b[39m,\n",
      "  figo_stage_2_pval = \u001b[32mcol_double()\u001b[39m,\n",
      "  figo_stage_3_pval = \u001b[32mcol_double()\u001b[39m,\n",
      "  figo_stage_4_pval = \u001b[32mcol_double()\u001b[39m,\n",
      "  figo_stage_1_qval = \u001b[32mcol_double()\u001b[39m,\n",
      "  figo_stage_2_qval = \u001b[32mcol_double()\u001b[39m,\n",
      "  figo_stage_3_qval = \u001b[32mcol_double()\u001b[39m,\n",
      "  figo_stage_4_qval = \u001b[32mcol_double()\u001b[39m,\n",
      "  figo_stage_1_cor = \u001b[32mcol_double()\u001b[39m,\n",
      "  figo_stage_2_cor = \u001b[32mcol_double()\u001b[39m,\n",
      "  figo_stage_3_cor = \u001b[32mcol_double()\u001b[39m,\n",
      "  figo_stage_4_cor = \u001b[32mcol_double()\u001b[39m\n",
      ")\n",
      "\n",
      "\n",
      "\n",
      "\u001b[36m--\u001b[39m \u001b[1m\u001b[1mColumn specification\u001b[1m\u001b[22m \u001b[36m------------------------------------------------------------------------------------------------\u001b[39m\n",
      "cols(\n",
      "  geneID = \u001b[31mcol_character()\u001b[39m,\n",
      "  base_mean = \u001b[32mcol_double()\u001b[39m,\n",
      "  l2fc = \u001b[32mcol_double()\u001b[39m,\n",
      "  pval = \u001b[32mcol_double()\u001b[39m,\n",
      "  padj = \u001b[32mcol_double()\u001b[39m,\n",
      "  contrast = \u001b[31mcol_character()\u001b[39m\n",
      ")\n",
      "\n",
      "\n",
      "\n",
      "\u001b[36m--\u001b[39m \u001b[1m\u001b[1mColumn specification\u001b[1m\u001b[22m \u001b[36m------------------------------------------------------------------------------------------------\u001b[39m\n",
      "cols(\n",
      "  .default = col_double(),\n",
      "  geneID = \u001b[31mcol_character()\u001b[39m,\n",
      "  module = \u001b[31mcol_character()\u001b[39m\n",
      ")\n",
      "\u001b[36mi\u001b[39m Use \u001b[30m\u001b[47m\u001b[30m\u001b[47m`spec()`\u001b[47m\u001b[30m\u001b[49m\u001b[39m for the full column specifications.\n",
      "\n",
      "\n",
      "\n",
      "\u001b[36m--\u001b[39m \u001b[1m\u001b[1mColumn specification\u001b[1m\u001b[22m \u001b[36m------------------------------------------------------------------------------------------------\u001b[39m\n",
      "cols(\n",
      "  module = \u001b[31mcol_character()\u001b[39m,\n",
      "  figo_stage_1_cor = \u001b[32mcol_double()\u001b[39m,\n",
      "  figo_stage_2_cor = \u001b[32mcol_double()\u001b[39m,\n",
      "  figo_stage_3_cor = \u001b[32mcol_double()\u001b[39m,\n",
      "  figo_stage_4_cor = \u001b[32mcol_double()\u001b[39m,\n",
      "  figo_stage_1_pval = \u001b[32mcol_double()\u001b[39m,\n",
      "  figo_stage_2_pval = \u001b[32mcol_double()\u001b[39m,\n",
      "  figo_stage_3_pval = \u001b[32mcol_double()\u001b[39m,\n",
      "  figo_stage_4_pval = \u001b[32mcol_double()\u001b[39m,\n",
      "  figo_stage_1_qval = \u001b[32mcol_double()\u001b[39m,\n",
      "  figo_stage_2_qval = \u001b[32mcol_double()\u001b[39m,\n",
      "  figo_stage_3_qval = \u001b[32mcol_double()\u001b[39m,\n",
      "  figo_stage_4_qval = \u001b[32mcol_double()\u001b[39m,\n",
      "  vital_hr = \u001b[32mcol_double()\u001b[39m,\n",
      "  vital_dev_cor = \u001b[32mcol_double()\u001b[39m,\n",
      "  vital_pval = \u001b[32mcol_double()\u001b[39m,\n",
      "  vital_qval = \u001b[32mcol_double()\u001b[39m\n",
      ")\n",
      "\n",
      "\n"
     ]
    }
   ],
   "source": [
    "matrisome_df <- rutils::load_matrisome_df(matrisome_list) %>%\n",
    "    dplyr::select(gene_symbol, division, category)\n",
    "norm_counts_df <- read_tsv(paste0(dirs$data_dir, \"/\", unified_dsets[dset_idx], \"/\", \"norm_counts.tsv\"))\n",
    "m_norm_counts_df <- norm_counts_df %>%\n",
    "    dplyr::filter(geneID %in% matrisome_df$gene_symbol)\n",
    "\n",
    "deseq_results_df <- read_tsv(paste0(dirs$analysis_dir, \"/deg/\", unified_dsets[dset_idx], \"_DESeq_results.tsv\")) %>%\n",
    "    rename(base_mean = baseMean, lfc = log2FoldChange)\n",
    "\n",
    "en_cph_df <- read_tsv(paste0(dirs$analysis_dir, \"/feature_selection/\", unified_dsets[dset_idx], \"_en_cph_results.tsv\"))\n",
    "cts_df <- read_tsv(paste0(dirs$analysis_dir, \"/feature_selection/\", unified_dsets[dset_idx], \"_survival_cts_results.tsv\"))\n",
    "univ_survival_df <- read_tsv(paste0(dirs$analysis_dir, \"/feature_selection/\", unified_dsets[dset_idx], \"_univ_survival_results.tsv\"))\n",
    "\n",
    "en_multinom_df <- read_tsv(paste0(dirs$analysis_dir, \"/feature_selection/\", unified_dsets[dset_idx], \"_en_multinom_results.tsv\"))\n",
    "pbc_df <- read_tsv(paste0(dirs$analysis_dir, \"/feature_selection/\", unified_dsets[dset_idx], \"_pbc_results.tsv\"))\n",
    "# anova_df <- read_tsv(paste0(dirs$analysis_dir, \"/feature_selection/\", unified_dsets[dset_idx], \"_welch_anova_results.tsv\"))\n",
    "figo_pairwise_demg_results_df <- read_tsv(paste0(dirs$analysis_dir, \"/feature_selection/\", unified_dsets[dset_idx], \"_figo_pairwise_demg_results.tsv\"))\n",
    "\n",
    "network_mm_gs_df <- read_tsv(paste0(dirs$analysis_dir, \"/network/\", unified_dsets[dset_idx], \"_gene_mm_gs.tsv\"))\n",
    "network_me_sig_df <- read_tsv(paste0(dirs$analysis_dir, \"/network/\", unified_dsets[dset_idx], \"_eigengene_traits.tsv\"))\n",
    "lnames <- load(file = paste0(dirs$data_dir, \"/saved_network_objects/\", unified_dsets[dset_idx], \"_tumor_data.RData\"))\n",
    "lnames <- load(file = paste0(dirs$data_dir, \"/saved_network_objects/\", unified_dsets[dset_idx], \"_tumor_network.RData\"))"
   ]
  },
  {
   "cell_type": "markdown",
   "id": "equivalent-slovak",
   "metadata": {},
   "source": [
    "# DGE analysis"
   ]
  },
  {
   "cell_type": "markdown",
   "id": "magnetic-programmer",
   "metadata": {},
   "source": [
    "## DEG"
   ]
  },
  {
   "cell_type": "code",
   "execution_count": 6,
   "id": "israeli-accident",
   "metadata": {},
   "outputs": [
    {
     "data": {
      "text/html": [
       "<dl>\n",
       "\t<dt>$n_deg</dt>\n",
       "\t\t<dd>7646</dd>\n",
       "\t<dt>$deg_prop</dt>\n",
       "\t\t<dd>0.377729473372196</dd>\n",
       "\t<dt>$n_up</dt>\n",
       "\t\t<dd>4682</dd>\n",
       "\t<dt>$n_down</dt>\n",
       "\t\t<dd>2964</dd>\n",
       "</dl>\n"
      ],
      "text/latex": [
       "\\begin{description}\n",
       "\\item[\\$n\\_deg] 7646\n",
       "\\item[\\$deg\\_prop] 0.377729473372196\n",
       "\\item[\\$n\\_up] 4682\n",
       "\\item[\\$n\\_down] 2964\n",
       "\\end{description}\n"
      ],
      "text/markdown": [
       "$n_deg\n",
       ":   7646\n",
       "$deg_prop\n",
       ":   0.377729473372196\n",
       "$n_up\n",
       ":   4682\n",
       "$n_down\n",
       ":   2964\n",
       "\n",
       "\n"
      ],
      "text/plain": [
       "$n_deg\n",
       "[1] 7646\n",
       "\n",
       "$deg_prop\n",
       "[1] 0.3777295\n",
       "\n",
       "$n_up\n",
       "[1] 4682\n",
       "\n",
       "$n_down\n",
       "[1] 2964\n"
      ]
     },
     "metadata": {},
     "output_type": "display_data"
    }
   ],
   "source": [
    "deg_meta_ls <- deg_meta(deseq_results_df, lfc_thresh, q_deg_thresh, nrow(norm_counts_df))\n",
    "deg_meta_ls[1:4]"
   ]
  },
  {
   "cell_type": "markdown",
   "id": "disabled-repair",
   "metadata": {},
   "source": [
    "## DEMG"
   ]
  },
  {
   "cell_type": "code",
   "execution_count": 7,
   "id": "editorial-monaco",
   "metadata": {},
   "outputs": [
    {
     "data": {
      "text/html": [
       "<dl>\n",
       "\t<dt>$n_deg</dt>\n",
       "\t\t<dd>595</dd>\n",
       "\t<dt>$deg_prop</dt>\n",
       "\t\t<dd>0.590277777777778</dd>\n",
       "\t<dt>$n_up</dt>\n",
       "\t\t<dd>363</dd>\n",
       "\t<dt>$n_down</dt>\n",
       "\t\t<dd>232</dd>\n",
       "</dl>\n"
      ],
      "text/latex": [
       "\\begin{description}\n",
       "\\item[\\$n\\_deg] 595\n",
       "\\item[\\$deg\\_prop] 0.590277777777778\n",
       "\\item[\\$n\\_up] 363\n",
       "\\item[\\$n\\_down] 232\n",
       "\\end{description}\n"
      ],
      "text/markdown": [
       "$n_deg\n",
       ":   595\n",
       "$deg_prop\n",
       ":   0.590277777777778\n",
       "$n_up\n",
       ":   363\n",
       "$n_down\n",
       ":   232\n",
       "\n",
       "\n"
      ],
      "text/plain": [
       "$n_deg\n",
       "[1] 595\n",
       "\n",
       "$deg_prop\n",
       "[1] 0.5902778\n",
       "\n",
       "$n_up\n",
       "[1] 363\n",
       "\n",
       "$n_down\n",
       "[1] 232\n"
      ]
     },
     "metadata": {},
     "output_type": "display_data"
    }
   ],
   "source": [
    "m_deseq_results_df <- deseq_results_df %>%\n",
    "    dplyr::filter(geneID %in% matrisome_df$gene_symbol)\n",
    "demg_meta_ls <- deg_meta(m_deseq_results_df, lfc_thresh, q_deg_thresh, nrow(m_norm_counts_df))\n",
    "demg_meta_ls[1:4]"
   ]
  },
  {
   "cell_type": "code",
   "execution_count": 8,
   "id": "hired-equity",
   "metadata": {},
   "outputs": [
    {
     "data": {
      "text/html": [
       "<table class=\"dataframe\">\n",
       "<caption>A tibble: 6 × 3</caption>\n",
       "<thead>\n",
       "\t<tr><th></th><th scope=col>category</th><th scope=col>n_cat</th><th scope=col>pct_de</th></tr>\n",
       "\t<tr><th></th><th scope=col>&lt;chr&gt;</th><th scope=col>&lt;int&gt;</th><th scope=col>&lt;dbl&gt;</th></tr>\n",
       "</thead>\n",
       "<tbody>\n",
       "\t<tr><th scope=row>1</th><td>Collagens              </td><td> 43</td><td>74</td></tr>\n",
       "\t<tr><th scope=row>2</th><td>ECM Glycoproteins      </td><td>192</td><td>64</td></tr>\n",
       "\t<tr><th scope=row>3</th><td>ECM Regulators         </td><td>233</td><td>56</td></tr>\n",
       "\t<tr><th scope=row>4</th><td>ECM-affiliated Proteins</td><td>168</td><td>50</td></tr>\n",
       "\t<tr><th scope=row>5</th><td>Proteoglycans          </td><td> 35</td><td>74</td></tr>\n",
       "\t<tr><th scope=row>6</th><td>Secreted Factors       </td><td>337</td><td>59</td></tr>\n",
       "</tbody>\n",
       "</table>\n"
      ],
      "text/latex": [
       "A tibble: 6 × 3\n",
       "\\begin{tabular}{r|lll}\n",
       "  & category & n\\_cat & pct\\_de\\\\\n",
       "  & <chr> & <int> & <dbl>\\\\\n",
       "\\hline\n",
       "\t1 & Collagens               &  43 & 74\\\\\n",
       "\t2 & ECM Glycoproteins       & 192 & 64\\\\\n",
       "\t3 & ECM Regulators          & 233 & 56\\\\\n",
       "\t4 & ECM-affiliated Proteins & 168 & 50\\\\\n",
       "\t5 & Proteoglycans           &  35 & 74\\\\\n",
       "\t6 & Secreted Factors        & 337 & 59\\\\\n",
       "\\end{tabular}\n"
      ],
      "text/markdown": [
       "\n",
       "A tibble: 6 × 3\n",
       "\n",
       "| <!--/--> | category &lt;chr&gt; | n_cat &lt;int&gt; | pct_de &lt;dbl&gt; |\n",
       "|---|---|---|---|\n",
       "| 1 | Collagens               |  43 | 74 |\n",
       "| 2 | ECM Glycoproteins       | 192 | 64 |\n",
       "| 3 | ECM Regulators          | 233 | 56 |\n",
       "| 4 | ECM-affiliated Proteins | 168 | 50 |\n",
       "| 5 | Proteoglycans           |  35 | 74 |\n",
       "| 6 | Secreted Factors        | 337 | 59 |\n",
       "\n"
      ],
      "text/plain": [
       "  category                n_cat pct_de\n",
       "1 Collagens                43   74    \n",
       "2 ECM Glycoproteins       192   64    \n",
       "3 ECM Regulators          233   56    \n",
       "4 ECM-affiliated Proteins 168   50    \n",
       "5 Proteoglycans            35   74    \n",
       "6 Secreted Factors        337   59    "
      ]
     },
     "metadata": {},
     "output_type": "display_data"
    }
   ],
   "source": [
    "matrisome_df %>%\n",
    "    filter(gene_symbol %in% norm_counts_df$geneID) %>%\n",
    "    rename(geneID = gene_symbol) %>%\n",
    "    left_join(deseq_results_df, by = c(\"geneID\")) %>%\n",
    "    mutate(de = abs(lfc) > lfc_thresh & qval < q_deg_thresh) %>%\n",
    "    group_by(category) %>%\n",
    "    summarize(n_cat = n(), pct_de = round(sum(de, na.rm = TRUE) / n_cat * 100))\n",
    "# deseq_results_df %>%\n",
    "#     inner_join(matrisome_df, by = c(\"geneID\" = \"gene_symbol\")) %>%\n",
    "#     select(geneID, category, lfc, qval) %>%\n",
    "#     mutate(de = )"
   ]
  },
  {
   "cell_type": "markdown",
   "id": "structural-integrity",
   "metadata": {},
   "source": [
    "# Uni/multivariate analysis"
   ]
  },
  {
   "cell_type": "markdown",
   "id": "adjustable-cable",
   "metadata": {},
   "source": [
    "## FIGO"
   ]
  },
  {
   "cell_type": "markdown",
   "id": "consolidated-technical",
   "metadata": {},
   "source": [
    "### LASSO multinomial regression"
   ]
  },
  {
   "cell_type": "code",
   "execution_count": 9,
   "id": "unique-black",
   "metadata": {},
   "outputs": [
    {
     "data": {
      "text/html": [
       "<strong>$n_var</strong> = 63"
      ],
      "text/latex": [
       "\\textbf{\\$n\\_var} = 63"
      ],
      "text/markdown": [
       "**$n_var** = 63"
      ],
      "text/plain": [
       "$n_var\n",
       "[1] 63\n"
      ]
     },
     "metadata": {},
     "output_type": "display_data"
    },
    {
     "data": {
      "text/html": [
       "<strong>$n_var_demg</strong> = 38"
      ],
      "text/latex": [
       "\\textbf{\\$n\\_var\\_demg} = 38"
      ],
      "text/markdown": [
       "**$n_var_demg** = 38"
      ],
      "text/plain": [
       "$n_var_demg\n",
       "[1] 38\n"
      ]
     },
     "metadata": {},
     "output_type": "display_data"
    }
   ],
   "source": [
    "en_multinom_meta_ls <- list(n_var = nrow(en_multinom_df), genes = en_multinom_df$geneID)\n",
    "\n",
    "en_multinom_meta_ls[[\"demg_genes\"]] <- en_multinom_meta_ls$genes %>% intersect(demg_meta_ls$genes)\n",
    "en_multinom_meta_ls[[\"n_var_demg\"]] <- en_multinom_meta_ls$demg_genes %>% length()\n",
    "en_multinom_meta_ls[1]\n",
    "en_multinom_meta_ls[4]"
   ]
  },
  {
   "cell_type": "markdown",
   "id": "olive-classification",
   "metadata": {},
   "source": [
    "### Welch ANOVA"
   ]
  },
  {
   "cell_type": "code",
   "execution_count": 10,
   "id": "allied-river",
   "metadata": {},
   "outputs": [],
   "source": [
    "# # anova_meta_ls <- simple_test_meta(anova_df, q_anova_thresh)\n",
    "# anova_meta_df <- anova_df %>%\n",
    "#     filter(qval < q_anova_thresh)\n",
    "# anova_meta_ls <- list(n_sig = nrow(anova_meta_df), genes = anova_meta_df$geneID)\n",
    "# anova_meta_ls[1]"
   ]
  },
  {
   "cell_type": "markdown",
   "id": "digital-breach",
   "metadata": {},
   "source": [
    "# FIGO pairwise DGE Analysis"
   ]
  },
  {
   "cell_type": "code",
   "execution_count": 11,
   "id": "ongoing-flooring",
   "metadata": {},
   "outputs": [
    {
     "data": {
      "text/html": [
       "<strong>$n_sig</strong> = 48"
      ],
      "text/latex": [
       "\\textbf{\\$n\\_sig} = 48"
      ],
      "text/markdown": [
       "**$n_sig** = 48"
      ],
      "text/plain": [
       "$n_sig\n",
       "[1] 48\n"
      ]
     },
     "metadata": {},
     "output_type": "display_data"
    },
    {
     "data": {
      "text/html": [
       "<strong>$n_sig_demg</strong> = 33"
      ],
      "text/latex": [
       "\\textbf{\\$n\\_sig\\_demg} = 33"
      ],
      "text/markdown": [
       "**$n_sig_demg** = 33"
      ],
      "text/plain": [
       "$n_sig_demg\n",
       "[1] 33\n"
      ]
     },
     "metadata": {},
     "output_type": "display_data"
    }
   ],
   "source": [
    "figo_pairwise_demg_meta_ls <- list()\n",
    "figo_pairwise_demg_meta_ls[[\"genes\"]] <- figo_pairwise_demg_results_df %>%\n",
    "    filter(padj < padj_pairwise_figo_thresh, abs(l2fc) > lfc_thresh) %>%\n",
    "    group_by(geneID) %>%\n",
    "    summarize(n = n()) %>%\n",
    "    pull(geneID)\n",
    "figo_pairwise_demg_meta_ls[[\"n_sig\"]] <- length(figo_pairwise_demg_meta_ls[[\"genes\"]])\n",
    "figo_pairwise_demg_meta_ls[[\"demg_genes\"]] <- figo_pairwise_demg_meta_ls$genes %>% intersect(demg_meta_ls$genes)\n",
    "figo_pairwise_demg_meta_ls[[\"n_sig_demg\"]] <- figo_pairwise_demg_meta_ls$demg_genes %>% length()\n",
    "figo_pairwise_demg_meta_ls[2]\n",
    "figo_pairwise_demg_meta_ls[4]"
   ]
  },
  {
   "cell_type": "markdown",
   "id": "broke-eating",
   "metadata": {},
   "source": [
    "### Point-biserial correlation with FIGO"
   ]
  },
  {
   "cell_type": "code",
   "execution_count": 12,
   "id": "medium-stranger",
   "metadata": {},
   "outputs": [
    {
     "data": {
      "text/html": [
       "<strong>$n_sig</strong> = 0"
      ],
      "text/latex": [
       "\\textbf{\\$n\\_sig} = 0"
      ],
      "text/markdown": [
       "**$n_sig** = 0"
      ],
      "text/plain": [
       "$n_sig\n",
       "[1] 0\n"
      ]
     },
     "metadata": {},
     "output_type": "display_data"
    },
    {
     "data": {
      "text/html": [
       "<strong>$n_sig_demg</strong> = 0"
      ],
      "text/latex": [
       "\\textbf{\\$n\\_sig\\_demg} = 0"
      ],
      "text/markdown": [
       "**$n_sig_demg** = 0"
      ],
      "text/plain": [
       "$n_sig_demg\n",
       "[1] 0\n"
      ]
     },
     "metadata": {},
     "output_type": "display_data"
    }
   ],
   "source": [
    "pbc_meta_df <- pbc_df %>%\n",
    "    condense_figo(include_pvals = TRUE) %>%\n",
    "    dplyr::filter(figo_min_qval < q_pbc_thresh)\n",
    "pbc_meta_ls <- list(n_sig = nrow(pbc_meta_df), genes = pbc_meta_df$geneID)\n",
    "pbc_meta_ls[[\"demg_genes\"]] <- pbc_meta_ls$genes %>% intersect(demg_meta_ls$genes)\n",
    "pbc_meta_ls[[\"n_sig_demg\"]] <- pbc_meta_ls$demg_genes %>% length()\n",
    "pbc_meta_ls[1]\n",
    "pbc_meta_ls[4]"
   ]
  },
  {
   "cell_type": "code",
   "execution_count": 13,
   "id": "sexual-malpractice",
   "metadata": {},
   "outputs": [
    {
     "data": {
      "text/html": [
       "9"
      ],
      "text/latex": [
       "9"
      ],
      "text/markdown": [
       "9"
      ],
      "text/plain": [
       "[1] 9"
      ]
     },
     "metadata": {},
     "output_type": "display_data"
    },
    {
     "data": {
      "text/html": [
       "0"
      ],
      "text/latex": [
       "0"
      ],
      "text/markdown": [
       "0"
      ],
      "text/plain": [
       "[1] 0"
      ]
     },
     "metadata": {},
     "output_type": "display_data"
    },
    {
     "data": {
      "text/html": [
       "0"
      ],
      "text/latex": [
       "0"
      ],
      "text/markdown": [
       "0"
      ],
      "text/plain": [
       "[1] 0"
      ]
     },
     "metadata": {},
     "output_type": "display_data"
    }
   ],
   "source": [
    "length(intersect(en_multinom_meta_ls$demg_genes, figo_pairwise_demg_meta_ls$demg_genes))\n",
    "length(intersect(en_multinom_meta_ls$demg_genes, pbc_meta_ls$demg_genes))\n",
    "length(intersect(figo_pairwise_demg_meta_ls$demg_genes, pbc_meta_ls$demg_genes))"
   ]
  },
  {
   "cell_type": "code",
   "execution_count": 14,
   "id": "prepared-oklahoma",
   "metadata": {},
   "outputs": [
    {
     "data": {
      "text/html": [
       "62"
      ],
      "text/latex": [
       "62"
      ],
      "text/markdown": [
       "62"
      ],
      "text/plain": [
       "[1] 62"
      ]
     },
     "metadata": {},
     "output_type": "display_data"
    }
   ],
   "source": [
    "en_multinom_meta_ls$demg_genes %>%\n",
    "    union(figo_pairwise_demg_meta_ls$demg_genes) %>%\n",
    "    union(pbc_meta_ls$demg_genes) %>%\n",
    "    length()"
   ]
  },
  {
   "cell_type": "markdown",
   "id": "cosmetic-amazon",
   "metadata": {},
   "source": [
    "## Survival"
   ]
  },
  {
   "cell_type": "markdown",
   "id": "nasty-stand",
   "metadata": {},
   "source": [
    "### LASSO Cox PH"
   ]
  },
  {
   "cell_type": "code",
   "execution_count": 15,
   "id": "confused-liability",
   "metadata": {},
   "outputs": [
    {
     "data": {
      "text/html": [
       "<strong>$n_var</strong> = 27"
      ],
      "text/latex": [
       "\\textbf{\\$n\\_var} = 27"
      ],
      "text/markdown": [
       "**$n_var** = 27"
      ],
      "text/plain": [
       "$n_var\n",
       "[1] 27\n"
      ]
     },
     "metadata": {},
     "output_type": "display_data"
    },
    {
     "data": {
      "text/html": [
       "<strong>$n_var_demg</strong> = 16"
      ],
      "text/latex": [
       "\\textbf{\\$n\\_var\\_demg} = 16"
      ],
      "text/markdown": [
       "**$n_var_demg** = 16"
      ],
      "text/plain": [
       "$n_var_demg\n",
       "[1] 16\n"
      ]
     },
     "metadata": {},
     "output_type": "display_data"
    }
   ],
   "source": [
    "en_cph_meta_ls <- list(n_var = nrow(en_cph_df), genes = en_cph_df$geneID)\n",
    "en_cph_meta_ls[[\"demg_genes\"]] <- en_cph_meta_ls$genes %>% intersect(demg_meta_ls$genes)\n",
    "en_cph_meta_ls[[\"n_var_demg\"]] <- en_cph_meta_ls$demg_genes %>% length()\n",
    "en_cph_meta_ls[1]\n",
    "en_cph_meta_ls[4]"
   ]
  },
  {
   "cell_type": "markdown",
   "id": "temporal-technology",
   "metadata": {},
   "source": [
    "### Univariate KM/Cox PH"
   ]
  },
  {
   "cell_type": "code",
   "execution_count": 16,
   "id": "juvenile-carbon",
   "metadata": {},
   "outputs": [
    {
     "data": {
      "text/html": [
       "<strong>$n_sig</strong> = 2"
      ],
      "text/latex": [
       "\\textbf{\\$n\\_sig} = 2"
      ],
      "text/markdown": [
       "**$n_sig** = 2"
      ],
      "text/plain": [
       "$n_sig\n",
       "[1] 2\n"
      ]
     },
     "metadata": {},
     "output_type": "display_data"
    },
    {
     "data": {
      "text/html": [
       "<strong>$n_sig_demg</strong> = 2"
      ],
      "text/latex": [
       "\\textbf{\\$n\\_sig\\_demg} = 2"
      ],
      "text/markdown": [
       "**$n_sig_demg** = 2"
      ],
      "text/plain": [
       "$n_sig_demg\n",
       "[1] 2\n"
      ]
     },
     "metadata": {},
     "output_type": "display_data"
    }
   ],
   "source": [
    "univ_survival_meta_df <- univ_survival_df %>%\n",
    "    rowwise() %>%\n",
    "    mutate(min_qval = min(km_qval, cph_qval)) %>%\n",
    "    as_tibble() %>%\n",
    "    filter(min_qval < q_univ_surv_thresh)\n",
    "\n",
    "univ_survival_meta_ls <- list(n_sig = nrow(univ_survival_meta_df), genes = univ_survival_meta_df$geneID)\n",
    "univ_survival_meta_ls[[\"demg_genes\"]] <- univ_survival_meta_ls$genes %>% intersect(demg_meta_ls$genes)\n",
    "univ_survival_meta_ls[[\"n_sig_demg\"]] <- univ_survival_meta_ls$demg_genes %>% length()\n",
    "univ_survival_meta_ls[1]\n",
    "univ_survival_meta_ls[4]"
   ]
  },
  {
   "cell_type": "code",
   "execution_count": 17,
   "id": "proved-plant",
   "metadata": {},
   "outputs": [
    {
     "data": {
      "text/html": [
       "<style>\n",
       ".list-inline {list-style: none; margin:0; padding: 0}\n",
       ".list-inline>li {display: inline-block}\n",
       ".list-inline>li:not(:last-child)::after {content: \"\\00b7\"; padding: 0 .5ex}\n",
       "</style>\n",
       "<ol class=list-inline><li>'TNFSF14'</li><li>'CST1'</li></ol>\n"
      ],
      "text/latex": [
       "\\begin{enumerate*}\n",
       "\\item 'TNFSF14'\n",
       "\\item 'CST1'\n",
       "\\end{enumerate*}\n"
      ],
      "text/markdown": [
       "1. 'TNFSF14'\n",
       "2. 'CST1'\n",
       "\n",
       "\n"
      ],
      "text/plain": [
       "[1] \"TNFSF14\" \"CST1\"   "
      ]
     },
     "metadata": {},
     "output_type": "display_data"
    }
   ],
   "source": [
    "univ_survival_meta_ls$demg_genes"
   ]
  },
  {
   "cell_type": "markdown",
   "id": "valued-adams",
   "metadata": {},
   "source": [
    "### Censored time screen"
   ]
  },
  {
   "cell_type": "code",
   "execution_count": 18,
   "id": "textile-listening",
   "metadata": {},
   "outputs": [
    {
     "data": {
      "text/html": [
       "<strong>$n_sig</strong> = 1"
      ],
      "text/latex": [
       "\\textbf{\\$n\\_sig} = 1"
      ],
      "text/markdown": [
       "**$n_sig** = 1"
      ],
      "text/plain": [
       "$n_sig\n",
       "[1] 1\n"
      ]
     },
     "metadata": {},
     "output_type": "display_data"
    },
    {
     "data": {
      "text/html": [
       "<strong>$n_sig_demg</strong> = 0"
      ],
      "text/latex": [
       "\\textbf{\\$n\\_sig\\_demg} = 0"
      ],
      "text/markdown": [
       "**$n_sig_demg** = 0"
      ],
      "text/plain": [
       "$n_sig_demg\n",
       "[1] 0\n"
      ]
     },
     "metadata": {},
     "output_type": "display_data"
    }
   ],
   "source": [
    "cts_meta_df <- cts_df %>%\n",
    "    dplyr::filter(vital_qval < q_cts_thresh)\n",
    "cts_meta_ls <- list(n_sig = nrow(cts_meta_df), genes = cts_meta_df$geneID)\n",
    "cts_meta_ls[[\"demg_genes\"]] <- cts_meta_ls$genes %>% intersect(demg_meta_ls$genes)\n",
    "cts_meta_ls[[\"n_sig_demg\"]] <- cts_meta_ls$demg_genes %>% length()\n",
    "cts_meta_ls[1]\n",
    "cts_meta_ls[4]"
   ]
  },
  {
   "cell_type": "code",
   "execution_count": 19,
   "id": "imported-maximum",
   "metadata": {},
   "outputs": [
    {
     "data": {
      "text/html": [],
      "text/latex": [],
      "text/markdown": [],
      "text/plain": [
       "character(0)"
      ]
     },
     "metadata": {},
     "output_type": "display_data"
    }
   ],
   "source": [
    "cts_meta_ls$demg_genes"
   ]
  },
  {
   "cell_type": "code",
   "execution_count": 20,
   "id": "municipal-clinton",
   "metadata": {},
   "outputs": [
    {
     "data": {
      "text/html": [
       "0"
      ],
      "text/latex": [
       "0"
      ],
      "text/markdown": [
       "0"
      ],
      "text/plain": [
       "[1] 0"
      ]
     },
     "metadata": {},
     "output_type": "display_data"
    },
    {
     "data": {
      "text/html": [
       "0"
      ],
      "text/latex": [
       "0"
      ],
      "text/markdown": [
       "0"
      ],
      "text/plain": [
       "[1] 0"
      ]
     },
     "metadata": {},
     "output_type": "display_data"
    },
    {
     "data": {
      "text/html": [
       "0"
      ],
      "text/latex": [
       "0"
      ],
      "text/markdown": [
       "0"
      ],
      "text/plain": [
       "[1] 0"
      ]
     },
     "metadata": {},
     "output_type": "display_data"
    }
   ],
   "source": [
    "length(intersect(en_cph_meta_ls$demg_genes, cts_meta_ls$demg_genes))\n",
    "length(intersect(en_cph_meta_ls$demg_genes, univ_survival_meta_ls$demg_genes))\n",
    "length(intersect(univ_survival_meta_ls$demg_genes, cts_meta_ls$demg_genes))"
   ]
  },
  {
   "cell_type": "code",
   "execution_count": 21,
   "id": "specific-heater",
   "metadata": {},
   "outputs": [
    {
     "data": {
      "text/html": [
       "18"
      ],
      "text/latex": [
       "18"
      ],
      "text/markdown": [
       "18"
      ],
      "text/plain": [
       "[1] 18"
      ]
     },
     "metadata": {},
     "output_type": "display_data"
    }
   ],
   "source": [
    "en_cph_meta_ls$demg_genes %>%\n",
    "    union(univ_survival_meta_ls$demg_genes) %>%\n",
    "    union(cts_meta_ls$demg_genes) %>%\n",
    "    length()"
   ]
  },
  {
   "cell_type": "markdown",
   "id": "presidential-rotation",
   "metadata": {},
   "source": [
    "# WGCNA"
   ]
  },
  {
   "cell_type": "code",
   "execution_count": 22,
   "id": "czech-henry",
   "metadata": {},
   "outputs": [
    {
     "data": {
      "text/html": [
       "<dl>\n",
       "\t<dt>$n_sig_modules</dt>\n",
       "\t\t<dd>3</dd>\n",
       "\t<dt>$n_sig_genes</dt>\n",
       "\t\t<dd>229</dd>\n",
       "</dl>\n"
      ],
      "text/latex": [
       "\\begin{description}\n",
       "\\item[\\$n\\_sig\\_modules] 3\n",
       "\\item[\\$n\\_sig\\_genes] 229\n",
       "\\end{description}\n"
      ],
      "text/markdown": [
       "$n_sig_modules\n",
       ":   3\n",
       "$n_sig_genes\n",
       ":   229\n",
       "\n",
       "\n"
      ],
      "text/plain": [
       "$n_sig_modules\n",
       "[1] 3\n",
       "\n",
       "$n_sig_genes\n",
       "[1] 229\n"
      ]
     },
     "metadata": {},
     "output_type": "display_data"
    }
   ],
   "source": [
    "# wgcna_meta_ls <- wgcna_meta(network_me_sig_df, network_mm_gs_df, q_me_thresh, p_mm_thresh, hub_df$geneID)\n",
    "wgcna_meta_ls <- wgcna_meta(network_me_sig_df, network_mm_gs_df, q_me_thresh, p_mm_thresh, colnames(data_expr))\n",
    "wgcna_meta_ls[1:2]"
   ]
  },
  {
   "cell_type": "code",
   "execution_count": 23,
   "id": "arabic-spending",
   "metadata": {},
   "outputs": [
    {
     "data": {
      "text/html": [
       "<style>\n",
       ".list-inline {list-style: none; margin:0; padding: 0}\n",
       ".list-inline>li {display: inline-block}\n",
       ".list-inline>li:not(:last-child)::after {content: \"\\00b7\"; padding: 0 .5ex}\n",
       "</style>\n",
       "<ol class=list-inline><li>'yellow'</li><li>'brown'</li><li>'magenta'</li></ol>\n"
      ],
      "text/latex": [
       "\\begin{enumerate*}\n",
       "\\item 'yellow'\n",
       "\\item 'brown'\n",
       "\\item 'magenta'\n",
       "\\end{enumerate*}\n"
      ],
      "text/markdown": [
       "1. 'yellow'\n",
       "2. 'brown'\n",
       "3. 'magenta'\n",
       "\n",
       "\n"
      ],
      "text/plain": [
       "[1] \"yellow\"  \"brown\"   \"magenta\""
      ]
     },
     "metadata": {},
     "output_type": "display_data"
    }
   ],
   "source": [
    "wgcna_meta_ls$modules"
   ]
  },
  {
   "cell_type": "code",
   "execution_count": 24,
   "id": "round-heading",
   "metadata": {},
   "outputs": [
    {
     "data": {
      "text/html": [
       "<table class=\"dataframe\">\n",
       "<caption>A tibble: 3 × 8</caption>\n",
       "<thead>\n",
       "\t<tr><th scope=col>module</th><th scope=col>me_vital_hr</th><th scope=col>me_vital_dev_cor</th><th scope=col>me_vital_pval</th><th scope=col>me_vital_qval</th><th scope=col>me_figo_min_pval</th><th scope=col>me_figo_min_qval</th><th scope=col>me_figo_max_cor</th></tr>\n",
       "\t<tr><th scope=col>&lt;chr&gt;</th><th scope=col>&lt;dbl&gt;</th><th scope=col>&lt;dbl&gt;</th><th scope=col>&lt;dbl&gt;</th><th scope=col>&lt;dbl&gt;</th><th scope=col>&lt;dbl&gt;</th><th scope=col>&lt;dbl&gt;</th><th scope=col>&lt;dbl&gt;</th></tr>\n",
       "</thead>\n",
       "<tbody>\n",
       "\t<tr><td>brown  </td><td>1.2962486</td><td>-0.02968637</td><td>0.8427853</td><td>0.8954594</td><td>0.006237097</td><td>0.03464316</td><td>0.3974397</td></tr>\n",
       "\t<tr><td>magenta</td><td>1.6383246</td><td> 0.05016247</td><td>0.7611454</td><td>0.8954594</td><td>0.014107088</td><td>0.04339257</td><td>0.2649137</td></tr>\n",
       "\t<tr><td>yellow </td><td>0.5330869</td><td>-0.04107669</td><td>0.6410392</td><td>0.8954594</td><td>0.007508416</td><td>0.03464316</td><td>0.2816784</td></tr>\n",
       "</tbody>\n",
       "</table>\n"
      ],
      "text/latex": [
       "A tibble: 3 × 8\n",
       "\\begin{tabular}{llllllll}\n",
       " module & me\\_vital\\_hr & me\\_vital\\_dev\\_cor & me\\_vital\\_pval & me\\_vital\\_qval & me\\_figo\\_min\\_pval & me\\_figo\\_min\\_qval & me\\_figo\\_max\\_cor\\\\\n",
       " <chr> & <dbl> & <dbl> & <dbl> & <dbl> & <dbl> & <dbl> & <dbl>\\\\\n",
       "\\hline\n",
       "\t brown   & 1.2962486 & -0.02968637 & 0.8427853 & 0.8954594 & 0.006237097 & 0.03464316 & 0.3974397\\\\\n",
       "\t magenta & 1.6383246 &  0.05016247 & 0.7611454 & 0.8954594 & 0.014107088 & 0.04339257 & 0.2649137\\\\\n",
       "\t yellow  & 0.5330869 & -0.04107669 & 0.6410392 & 0.8954594 & 0.007508416 & 0.03464316 & 0.2816784\\\\\n",
       "\\end{tabular}\n"
      ],
      "text/markdown": [
       "\n",
       "A tibble: 3 × 8\n",
       "\n",
       "| module &lt;chr&gt; | me_vital_hr &lt;dbl&gt; | me_vital_dev_cor &lt;dbl&gt; | me_vital_pval &lt;dbl&gt; | me_vital_qval &lt;dbl&gt; | me_figo_min_pval &lt;dbl&gt; | me_figo_min_qval &lt;dbl&gt; | me_figo_max_cor &lt;dbl&gt; |\n",
       "|---|---|---|---|---|---|---|---|\n",
       "| brown   | 1.2962486 | -0.02968637 | 0.8427853 | 0.8954594 | 0.006237097 | 0.03464316 | 0.3974397 |\n",
       "| magenta | 1.6383246 |  0.05016247 | 0.7611454 | 0.8954594 | 0.014107088 | 0.04339257 | 0.2649137 |\n",
       "| yellow  | 0.5330869 | -0.04107669 | 0.6410392 | 0.8954594 | 0.007508416 | 0.03464316 | 0.2816784 |\n",
       "\n"
      ],
      "text/plain": [
       "  module  me_vital_hr me_vital_dev_cor me_vital_pval me_vital_qval\n",
       "1 brown   1.2962486   -0.02968637      0.8427853     0.8954594    \n",
       "2 magenta 1.6383246    0.05016247      0.7611454     0.8954594    \n",
       "3 yellow  0.5330869   -0.04107669      0.6410392     0.8954594    \n",
       "  me_figo_min_pval me_figo_min_qval me_figo_max_cor\n",
       "1 0.006237097      0.03464316       0.3974397      \n",
       "2 0.014107088      0.04339257       0.2649137      \n",
       "3 0.007508416      0.03464316       0.2816784      "
      ]
     },
     "metadata": {},
     "output_type": "display_data"
    }
   ],
   "source": [
    "condensed_network_me_sig_df <- network_me_sig_df %>%\n",
    "    condense_figo(include_pvals = TRUE) %>%\n",
    "    dplyr::rename_if(!startsWith(colnames(.), \"module\"), ~ gsub(\"^\", \"me_\", .))\n",
    "condensed_network_me_sig_df %>%\n",
    "    filter(me_figo_min_qval < q_me_thresh)"
   ]
  },
  {
   "cell_type": "code",
   "execution_count": 25,
   "id": "extra-abortion",
   "metadata": {},
   "outputs": [
    {
     "data": {
      "text/html": [
       "<table class=\"dataframe\">\n",
       "<caption>A tibble: 3 × 2</caption>\n",
       "<thead>\n",
       "\t<tr><th></th><th scope=col>module</th><th scope=col>n</th></tr>\n",
       "\t<tr><th></th><th scope=col>&lt;chr&gt;</th><th scope=col>&lt;int&gt;</th></tr>\n",
       "</thead>\n",
       "<tbody>\n",
       "\t<tr><th scope=row>1</th><td>brown  </td><td>97</td></tr>\n",
       "\t<tr><th scope=row>2</th><td>magenta</td><td>34</td></tr>\n",
       "\t<tr><th scope=row>3</th><td>yellow </td><td>98</td></tr>\n",
       "</tbody>\n",
       "</table>\n"
      ],
      "text/latex": [
       "A tibble: 3 × 2\n",
       "\\begin{tabular}{r|ll}\n",
       "  & module & n\\\\\n",
       "  & <chr> & <int>\\\\\n",
       "\\hline\n",
       "\t1 & brown   & 97\\\\\n",
       "\t2 & magenta & 34\\\\\n",
       "\t3 & yellow  & 98\\\\\n",
       "\\end{tabular}\n"
      ],
      "text/markdown": [
       "\n",
       "A tibble: 3 × 2\n",
       "\n",
       "| <!--/--> | module &lt;chr&gt; | n &lt;int&gt; |\n",
       "|---|---|---|\n",
       "| 1 | brown   | 97 |\n",
       "| 2 | magenta | 34 |\n",
       "| 3 | yellow  | 98 |\n",
       "\n"
      ],
      "text/plain": [
       "  module  n \n",
       "1 brown   97\n",
       "2 magenta 34\n",
       "3 yellow  98"
      ]
     },
     "metadata": {},
     "output_type": "display_data"
    }
   ],
   "source": [
    "network_mm_gs_df %>%\n",
    "    select(geneID, module, mm_cor, mm_pval) %>%\n",
    "    inner_join(condensed_network_me_sig_df, by = \"module\") %>%\n",
    "    filter(mm_pval < p_mm_thresh, me_figo_min_qval < q_me_thresh) %>%\n",
    "    group_by(module) %>%\n",
    "    summarize(n = n())\n",
    "    "
   ]
  },
  {
   "cell_type": "markdown",
   "id": "preceding-orientation",
   "metadata": {},
   "source": [
    "## TOM meta"
   ]
  },
  {
   "cell_type": "code",
   "execution_count": 26,
   "id": "intermediate-reality",
   "metadata": {},
   "outputs": [
    {
     "data": {
      "text/html": [
       "<style>\n",
       ".dl-inline {width: auto; margin:0; padding: 0}\n",
       ".dl-inline>dt, .dl-inline>dd {float: none; width: auto; display: inline-block}\n",
       ".dl-inline>dt::after {content: \":\\0020\"; padding-right: .5ex}\n",
       ".dl-inline>dt:not(:first-of-type) {padding-left: .5ex}\n",
       "</style><dl class=dl-inline><dt>0%</dt><dd>1.4</dd><dt>25%</dt><dd>2.4</dd><dt>50%</dt><dd>3.4</dd><dt>75%</dt><dd>5.3</dd><dt>100%</dt><dd>18.3</dd></dl>\n"
      ],
      "text/latex": [
       "\\begin{description*}\n",
       "\\item[0\\textbackslash{}\\%] 1.4\n",
       "\\item[25\\textbackslash{}\\%] 2.4\n",
       "\\item[50\\textbackslash{}\\%] 3.4\n",
       "\\item[75\\textbackslash{}\\%] 5.3\n",
       "\\item[100\\textbackslash{}\\%] 18.3\n",
       "\\end{description*}\n"
      ],
      "text/markdown": [
       "0%\n",
       ":   1.425%\n",
       ":   2.450%\n",
       ":   3.475%\n",
       ":   5.3100%\n",
       ":   18.3\n",
       "\n"
      ],
      "text/plain": [
       "  0%  25%  50%  75% 100% \n",
       " 1.4  2.4  3.4  5.3 18.3 "
      ]
     },
     "metadata": {},
     "output_type": "display_data"
    }
   ],
   "source": [
    "colnames(tom) <- colnames(data_expr)\n",
    "rownames(tom) <- colnames(data_expr)\n",
    "rowSums(tom) %>%\n",
    "    quantile() %>%\n",
    "    round(digits = 1)"
   ]
  },
  {
   "cell_type": "markdown",
   "id": "monthly-cooperative",
   "metadata": {},
   "source": [
    "# Create Lists"
   ]
  },
  {
   "cell_type": "code",
   "execution_count": 27,
   "id": "technical-education",
   "metadata": {},
   "outputs": [],
   "source": [
    "deg_list <- deg_meta_ls$genes\n",
    "demg_list <- demg_meta_ls$genes\n",
    "figo_umsmg_list <- en_multinom_meta_ls$genes %>%\n",
    "    union(pbc_meta_ls$genes) %>%\n",
    "#     union(anova_meta_ls$genes)\n",
    "    union(figo_pairwise_demg_meta_ls$genes)\n",
    "survival_umsmg_list <- en_cph_meta_ls$genes %>%\n",
    "    union(cts_meta_ls$genes) %>%\n",
    "    union(univ_survival_meta_ls$genes)\n",
    "# all_umsmg_list <- figo_umsmg_list %>%\n",
    "#     intersect(survival_umsmg_list)\n",
    "figo_nsmg_list <- wgcna_meta_ls$genes\n",
    "# figo_umsmg_demg_list <- figo_umsmg_list %>%\n",
    "#     intersect(demg_list)\n",
    "# survival_umsmg_demg_list <- survival_umsmg_list %>%\n",
    "#     intersect(demg_list)\n",
    "# figo_umsmg_nsmg_demg_list <- figo_umsmg_list %>%\n",
    "#     intersect(figo_nsmg_list) %>%\n",
    "#     intersect(demg_list)\n",
    "figo_list <- figo_umsmg_list %>%\n",
    "    union(figo_nsmg_list) %>%\n",
    "    intersect(demg_list)\n",
    "survival_list <- survival_umsmg_list %>%\n",
    "    intersect(demg_list)\n",
    "full_overlap_list <- figo_list %>%\n",
    "    intersect(survival_list)"
   ]
  },
  {
   "cell_type": "code",
   "execution_count": 28,
   "id": "theoretical-miracle",
   "metadata": {},
   "outputs": [
    {
     "data": {
      "text/html": [
       "<table class=\"dataframe\">\n",
       "<caption>A tibble: 31 × 2</caption>\n",
       "<thead>\n",
       "\t<tr><th scope=col>metric</th><th scope=col>val</th></tr>\n",
       "\t<tr><th scope=col>&lt;chr&gt;</th><th scope=col>&lt;dbl&gt;</th></tr>\n",
       "</thead>\n",
       "<tbody>\n",
       "\t<tr><td>n_deg                </td><td>7646.00</td></tr>\n",
       "\t<tr><td>deg_pct_de           </td><td>   0.38</td></tr>\n",
       "\t<tr><td>deg_up               </td><td>4682.00</td></tr>\n",
       "\t<tr><td>deg_down             </td><td>2964.00</td></tr>\n",
       "\t<tr><td>n_demg               </td><td> 595.00</td></tr>\n",
       "\t<tr><td>demg_pct_de          </td><td>   0.59</td></tr>\n",
       "\t<tr><td>demg_up              </td><td> 363.00</td></tr>\n",
       "\t<tr><td>demg_down            </td><td> 232.00</td></tr>\n",
       "\t<tr><td>n_lasso_multinom     </td><td>  63.00</td></tr>\n",
       "\t<tr><td>n_lasso_multinom_demg</td><td>  38.00</td></tr>\n",
       "\t<tr><td>n_figo_pairwise      </td><td>  48.00</td></tr>\n",
       "\t<tr><td>n_figo_pairwise_demg </td><td>  33.00</td></tr>\n",
       "\t<tr><td>n_pbc                </td><td>   0.00</td></tr>\n",
       "\t<tr><td>n_pbc_demg           </td><td>   0.00</td></tr>\n",
       "\t<tr><td>n_lasso_cox          </td><td>  27.00</td></tr>\n",
       "\t<tr><td>n_lasso_cox_demg     </td><td>  16.00</td></tr>\n",
       "\t<tr><td>n_uv_cph_km          </td><td>   2.00</td></tr>\n",
       "\t<tr><td>n_uv_cph_km_demg     </td><td>   2.00</td></tr>\n",
       "\t<tr><td>n_cts                </td><td>   1.00</td></tr>\n",
       "\t<tr><td>n_cts_demg           </td><td>   0.00</td></tr>\n",
       "\t<tr><td>n_modules            </td><td>   3.00</td></tr>\n",
       "\t<tr><td>n_module_genes       </td><td> 229.00</td></tr>\n",
       "\t<tr><td>n_figo_umsmg         </td><td>  99.00</td></tr>\n",
       "\t<tr><td>n_figo_nsmg          </td><td> 229.00</td></tr>\n",
       "\t<tr><td>n_surv_umsmg         </td><td>  29.00</td></tr>\n",
       "\t<tr><td>n_figo_umsmg_and_demg</td><td>  62.00</td></tr>\n",
       "\t<tr><td>n_figo_nsmg_and_demg </td><td> 129.00</td></tr>\n",
       "\t<tr><td>n_figo_umsmg_or_nsmg </td><td> 298.00</td></tr>\n",
       "\t<tr><td>n_figo_tot           </td><td> 177.00</td></tr>\n",
       "\t<tr><td>n_surv_tot           </td><td>  18.00</td></tr>\n",
       "\t<tr><td>n_full_overlap       </td><td>   3.00</td></tr>\n",
       "</tbody>\n",
       "</table>\n"
      ],
      "text/latex": [
       "A tibble: 31 × 2\n",
       "\\begin{tabular}{ll}\n",
       " metric & val\\\\\n",
       " <chr> & <dbl>\\\\\n",
       "\\hline\n",
       "\t n\\_deg                 & 7646.00\\\\\n",
       "\t deg\\_pct\\_de            &    0.38\\\\\n",
       "\t deg\\_up                & 4682.00\\\\\n",
       "\t deg\\_down              & 2964.00\\\\\n",
       "\t n\\_demg                &  595.00\\\\\n",
       "\t demg\\_pct\\_de           &    0.59\\\\\n",
       "\t demg\\_up               &  363.00\\\\\n",
       "\t demg\\_down             &  232.00\\\\\n",
       "\t n\\_lasso\\_multinom      &   63.00\\\\\n",
       "\t n\\_lasso\\_multinom\\_demg &   38.00\\\\\n",
       "\t n\\_figo\\_pairwise       &   48.00\\\\\n",
       "\t n\\_figo\\_pairwise\\_demg  &   33.00\\\\\n",
       "\t n\\_pbc                 &    0.00\\\\\n",
       "\t n\\_pbc\\_demg            &    0.00\\\\\n",
       "\t n\\_lasso\\_cox           &   27.00\\\\\n",
       "\t n\\_lasso\\_cox\\_demg      &   16.00\\\\\n",
       "\t n\\_uv\\_cph\\_km           &    2.00\\\\\n",
       "\t n\\_uv\\_cph\\_km\\_demg      &    2.00\\\\\n",
       "\t n\\_cts                 &    1.00\\\\\n",
       "\t n\\_cts\\_demg            &    0.00\\\\\n",
       "\t n\\_modules             &    3.00\\\\\n",
       "\t n\\_module\\_genes        &  229.00\\\\\n",
       "\t n\\_figo\\_umsmg          &   99.00\\\\\n",
       "\t n\\_figo\\_nsmg           &  229.00\\\\\n",
       "\t n\\_surv\\_umsmg          &   29.00\\\\\n",
       "\t n\\_figo\\_umsmg\\_and\\_demg &   62.00\\\\\n",
       "\t n\\_figo\\_nsmg\\_and\\_demg  &  129.00\\\\\n",
       "\t n\\_figo\\_umsmg\\_or\\_nsmg  &  298.00\\\\\n",
       "\t n\\_figo\\_tot            &  177.00\\\\\n",
       "\t n\\_surv\\_tot            &   18.00\\\\\n",
       "\t n\\_full\\_overlap        &    3.00\\\\\n",
       "\\end{tabular}\n"
      ],
      "text/markdown": [
       "\n",
       "A tibble: 31 × 2\n",
       "\n",
       "| metric &lt;chr&gt; | val &lt;dbl&gt; |\n",
       "|---|---|\n",
       "| n_deg                 | 7646.00 |\n",
       "| deg_pct_de            |    0.38 |\n",
       "| deg_up                | 4682.00 |\n",
       "| deg_down              | 2964.00 |\n",
       "| n_demg                |  595.00 |\n",
       "| demg_pct_de           |    0.59 |\n",
       "| demg_up               |  363.00 |\n",
       "| demg_down             |  232.00 |\n",
       "| n_lasso_multinom      |   63.00 |\n",
       "| n_lasso_multinom_demg |   38.00 |\n",
       "| n_figo_pairwise       |   48.00 |\n",
       "| n_figo_pairwise_demg  |   33.00 |\n",
       "| n_pbc                 |    0.00 |\n",
       "| n_pbc_demg            |    0.00 |\n",
       "| n_lasso_cox           |   27.00 |\n",
       "| n_lasso_cox_demg      |   16.00 |\n",
       "| n_uv_cph_km           |    2.00 |\n",
       "| n_uv_cph_km_demg      |    2.00 |\n",
       "| n_cts                 |    1.00 |\n",
       "| n_cts_demg            |    0.00 |\n",
       "| n_modules             |    3.00 |\n",
       "| n_module_genes        |  229.00 |\n",
       "| n_figo_umsmg          |   99.00 |\n",
       "| n_figo_nsmg           |  229.00 |\n",
       "| n_surv_umsmg          |   29.00 |\n",
       "| n_figo_umsmg_and_demg |   62.00 |\n",
       "| n_figo_nsmg_and_demg  |  129.00 |\n",
       "| n_figo_umsmg_or_nsmg  |  298.00 |\n",
       "| n_figo_tot            |  177.00 |\n",
       "| n_surv_tot            |   18.00 |\n",
       "| n_full_overlap        |    3.00 |\n",
       "\n"
      ],
      "text/plain": [
       "   metric                val    \n",
       "1  n_deg                 7646.00\n",
       "2  deg_pct_de               0.38\n",
       "3  deg_up                4682.00\n",
       "4  deg_down              2964.00\n",
       "5  n_demg                 595.00\n",
       "6  demg_pct_de              0.59\n",
       "7  demg_up                363.00\n",
       "8  demg_down              232.00\n",
       "9  n_lasso_multinom        63.00\n",
       "10 n_lasso_multinom_demg   38.00\n",
       "11 n_figo_pairwise         48.00\n",
       "12 n_figo_pairwise_demg    33.00\n",
       "13 n_pbc                    0.00\n",
       "14 n_pbc_demg               0.00\n",
       "15 n_lasso_cox             27.00\n",
       "16 n_lasso_cox_demg        16.00\n",
       "17 n_uv_cph_km              2.00\n",
       "18 n_uv_cph_km_demg         2.00\n",
       "19 n_cts                    1.00\n",
       "20 n_cts_demg               0.00\n",
       "21 n_modules                3.00\n",
       "22 n_module_genes         229.00\n",
       "23 n_figo_umsmg            99.00\n",
       "24 n_figo_nsmg            229.00\n",
       "25 n_surv_umsmg            29.00\n",
       "26 n_figo_umsmg_and_demg   62.00\n",
       "27 n_figo_nsmg_and_demg   129.00\n",
       "28 n_figo_umsmg_or_nsmg   298.00\n",
       "29 n_figo_tot             177.00\n",
       "30 n_surv_tot              18.00\n",
       "31 n_full_overlap           3.00"
      ]
     },
     "metadata": {},
     "output_type": "display_data"
    }
   ],
   "source": [
    "meta_counts <- tibble(\n",
    "    n_deg = length(deg_list),\n",
    "    deg_pct_de = deg_meta_ls$deg_prop,\n",
    "    deg_up = deg_meta_ls$n_up,\n",
    "    deg_down = deg_meta_ls$n_down,\n",
    "    n_demg = length(demg_list),\n",
    "    demg_pct_de = demg_meta_ls$deg_prop,\n",
    "    demg_up = demg_meta_ls$n_up,\n",
    "    demg_down = demg_meta_ls$n_down,\n",
    "    n_lasso_multinom = en_multinom_meta_ls$n_var,\n",
    "    n_lasso_multinom_demg = en_multinom_meta_ls$n_var_demg,\n",
    "#     n_anova = anova_meta_ls$n_sig,\n",
    "    n_figo_pairwise = figo_pairwise_demg_meta_ls$n_sig,\n",
    "    n_figo_pairwise_demg = figo_pairwise_demg_meta_ls$n_sig_demg,\n",
    "    n_pbc = pbc_meta_ls$n_sig,\n",
    "    n_pbc_demg = pbc_meta_ls$n_sig_demg,\n",
    "    n_lasso_cox = en_cph_meta_ls$n_var,\n",
    "    n_lasso_cox_demg = en_cph_meta_ls$n_var_demg,\n",
    "    n_uv_cph_km = univ_survival_meta_ls$n_sig,\n",
    "    n_uv_cph_km_demg = univ_survival_meta_ls$n_sig_demg,\n",
    "    n_cts = cts_meta_ls$n_sig,\n",
    "    n_cts_demg = cts_meta_ls$n_sig_demg,\n",
    "    n_modules = wgcna_meta_ls$n_sig_modules,\n",
    "    n_module_genes = wgcna_meta_ls$n_sig_genes,\n",
    "    n_figo_umsmg = length(figo_umsmg_list),\n",
    "    n_figo_nsmg = length(figo_nsmg_list),\n",
    "    n_surv_umsmg = length(survival_umsmg_list),\n",
    "    n_figo_umsmg_and_demg = length(figo_umsmg_list %>% intersect(demg_list)),\n",
    "    n_figo_nsmg_and_demg = length(figo_nsmg_list %>% intersect(demg_list)),\n",
    "    n_figo_umsmg_or_nsmg = union(figo_umsmg_list, figo_nsmg_list) %>% length(),\n",
    "    n_figo_tot = length(figo_list),\n",
    "    n_surv_tot = length(survival_list),\n",
    "    n_full_overlap = length(full_overlap_list)\n",
    ") %>%\n",
    "    t()\n",
    "colnames(meta_counts) <- c(\"val\")\n",
    "meta_counts_df <- meta_counts %>%\n",
    "    as_tibble(rownames = \"metric\") %>%\n",
    "    mutate(val = round(val, 2))\n",
    "meta_counts_df\n",
    "\n",
    "# length(deg_list)\n",
    "# length(demg_list)\n",
    "# length(figo_umsmg_list)\n",
    "# length(figo_nsmg_list)\n",
    "# length(survival_umsmg_list)\n",
    "# length(all_umsmg_list)\n",
    "# length(figo_umsmg_demg_list)\n",
    "# length(survival_umsmg_demg_list)\n",
    "# length(figo_umsmg_nsmg_demg_list)"
   ]
  },
  {
   "cell_type": "markdown",
   "id": "forbidden-excess",
   "metadata": {},
   "source": [
    "# Save lists"
   ]
  },
  {
   "cell_type": "code",
   "execution_count": 29,
   "id": "purple-pipeline",
   "metadata": {},
   "outputs": [],
   "source": [
    "if (save_lists) {\n",
    "    write_lines(deg_list, paste0(dirs$analysis_dir, \"/gene_lists/\", unified_dsets[dset_idx], \"_deg_list.txt\"))\n",
    "    write_lines(demg_list, paste0(dirs$analysis_dir, \"/gene_lists/\", unified_dsets[dset_idx], \"_demg_list.txt\"))\n",
    "    write_lines(figo_umsmg_list, paste0(dirs$analysis_dir, \"/gene_lists/\", unified_dsets[dset_idx], \"_figo_umsmg_list.txt\"))\n",
    "    write_lines(survival_umsmg_list, paste0(dirs$analysis_dir, \"/gene_lists/\", unified_dsets[dset_idx], \"_survival_umsmg_list.txt\"))\n",
    "    write_lines(figo_nsmg_list, paste0(dirs$analysis_dir, \"/gene_lists/\", unified_dsets[dset_idx], \"_figo_nsmg_list.txt\"))\n",
    "    meta_counts_df %>% write_tsv(paste0(dirs$analysis_dir, \"/meta/\", unified_dsets[dset_idx], \"_meta_counts.tsv\"))\n",
    "}"
   ]
  },
  {
   "cell_type": "code",
   "execution_count": null,
   "id": "electric-veteran",
   "metadata": {},
   "outputs": [],
   "source": []
  }
 ],
 "metadata": {
  "kernelspec": {
   "display_name": "R",
   "language": "R",
   "name": "ir"
  },
  "language_info": {
   "codemirror_mode": "r",
   "file_extension": ".r",
   "mimetype": "text/x-r-source",
   "name": "R",
   "pygments_lexer": "r",
   "version": "4.0.3"
  }
 },
 "nbformat": 4,
 "nbformat_minor": 5
}
