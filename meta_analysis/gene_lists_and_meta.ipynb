{
 "cells": [
  {
   "cell_type": "code",
   "execution_count": 1,
   "id": "private-vision",
   "metadata": {},
   "outputs": [
    {
     "name": "stderr",
     "output_type": "stream",
     "text": [
      "-- \u001b[1mAttaching packages\u001b[22m ------------------------------------------------------------------------------------------------------- tidyverse 1.3.0 --\n",
      "\n",
      "\u001b[32mv\u001b[39m \u001b[34mggplot2\u001b[39m 3.3.3     \u001b[32mv\u001b[39m \u001b[34mpurrr  \u001b[39m 0.3.4\n",
      "\u001b[32mv\u001b[39m \u001b[34mtibble \u001b[39m 3.0.6     \u001b[32mv\u001b[39m \u001b[34mdplyr  \u001b[39m 1.0.4\n",
      "\u001b[32mv\u001b[39m \u001b[34mtidyr  \u001b[39m 1.1.2     \u001b[32mv\u001b[39m \u001b[34mstringr\u001b[39m 1.4.0\n",
      "\u001b[32mv\u001b[39m \u001b[34mreadr  \u001b[39m 1.4.0     \u001b[32mv\u001b[39m \u001b[34mforcats\u001b[39m 0.5.1\n",
      "\n",
      "-- \u001b[1mConflicts\u001b[22m ---------------------------------------------------------------------------------------------------------- tidyverse_conflicts() --\n",
      "\u001b[31mx\u001b[39m \u001b[34mdplyr\u001b[39m::\u001b[32mfilter()\u001b[39m masks \u001b[34mstats\u001b[39m::filter()\n",
      "\u001b[31mx\u001b[39m \u001b[34mdplyr\u001b[39m::\u001b[32mlag()\u001b[39m    masks \u001b[34mstats\u001b[39m::lag()\n",
      "\n"
     ]
    }
   ],
   "source": [
    "library(tidyverse)\n",
    "\n",
    "# Custom package\n",
    "library(rutils)"
   ]
  },
  {
   "cell_type": "code",
   "execution_count": 2,
   "id": "confidential-phenomenon",
   "metadata": {},
   "outputs": [],
   "source": [
    "dirs <- rutils::get_dev_directories(dev_paths_file = \"../dev_paths.txt\")\n",
    "projects <- c(\"TCGA-CESC\", \"TCGA-UCS\", \"TCGA-UCEC\", \"TCGA-OV\")\n",
    "unified_dsets <- c(\"unified_cervical_data\", \"unified_uterine_data\", \"unified_uterine_endometrial_data\")\n",
    "matrisome_list <- paste0(dirs$data_dir, \"/matrisome/matrisome_hs_masterlist.tsv\")"
   ]
  },
  {
   "cell_type": "code",
   "execution_count": 3,
   "id": "minor-spokesman",
   "metadata": {},
   "outputs": [],
   "source": [
    "dset_idx <- 2\n",
    "save_lists <- FALSE"
   ]
  },
  {
   "cell_type": "code",
   "execution_count": 4,
   "id": "molecular-accent",
   "metadata": {},
   "outputs": [],
   "source": [
    "p_thresh <- 0.05\n",
    "lfc_thresh <- log2(2)\n",
    "q_deg_thresh <- 0.05\n",
    "q_anova_thresh <- 0.05\n",
    "q_me_thresh <- 0.05\n",
    "coxph_coeff_thresh <- 0.0\n",
    "mi_thresh <- 0.0\n",
    "consensus_thresh <- 0.0\n",
    "consensus_n <- 5\n",
    "hub_con_thresh <- 0"
   ]
  },
  {
   "cell_type": "markdown",
   "id": "cordless-template",
   "metadata": {},
   "source": [
    "# Functions"
   ]
  },
  {
   "cell_type": "code",
   "execution_count": 5,
   "id": "healthy-switch",
   "metadata": {},
   "outputs": [],
   "source": [
    "get_consensus_col <- function(df, n, thresh = 0) {\n",
    "    consensus_df <- df %>%\n",
    "        dplyr::select(geneID, contains(\"mean\")) %>%\n",
    "        dplyr::mutate(consensus = rowSums(.[-1] > thresh) >= n)\n",
    "    df %>% dplyr::mutate(consensus = consensus_df$consensus)\n",
    "}"
   ]
  },
  {
   "cell_type": "markdown",
   "id": "critical-logan",
   "metadata": {},
   "source": [
    "# Data"
   ]
  },
  {
   "cell_type": "code",
   "execution_count": 6,
   "id": "cardiovascular-saver",
   "metadata": {},
   "outputs": [
    {
     "name": "stderr",
     "output_type": "stream",
     "text": [
      "\n",
      "\u001b[36m--\u001b[39m \u001b[1m\u001b[1mColumn specification\u001b[1m\u001b[22m \u001b[36m------------------------------------------------------------------------------------------------------------------------\u001b[39m\n",
      "cols(\n",
      "  Division = \u001b[31mcol_character()\u001b[39m,\n",
      "  Category = \u001b[31mcol_character()\u001b[39m,\n",
      "  `Gene Symbol` = \u001b[31mcol_character()\u001b[39m,\n",
      "  `Gene Name` = \u001b[31mcol_character()\u001b[39m,\n",
      "  Synonyms = \u001b[31mcol_character()\u001b[39m,\n",
      "  HGNC_IDs = \u001b[32mcol_double()\u001b[39m,\n",
      "  `HGNC_IDs Links` = \u001b[32mcol_double()\u001b[39m,\n",
      "  UniProt_IDs = \u001b[31mcol_character()\u001b[39m,\n",
      "  Refseq_IDs = \u001b[31mcol_character()\u001b[39m,\n",
      "  Orthology = \u001b[31mcol_character()\u001b[39m,\n",
      "  Notes = \u001b[31mcol_character()\u001b[39m\n",
      ")\n",
      "\n",
      "\n",
      "\n",
      "\u001b[36m--\u001b[39m \u001b[1m\u001b[1mColumn specification\u001b[1m\u001b[22m \u001b[36m------------------------------------------------------------------------------------------------------------------------\u001b[39m\n",
      "cols(\n",
      "  .default = col_double(),\n",
      "  geneID = \u001b[31mcol_character()\u001b[39m\n",
      ")\n",
      "\u001b[36mi\u001b[39m Use \u001b[30m\u001b[47m\u001b[30m\u001b[47m`spec()`\u001b[47m\u001b[30m\u001b[49m\u001b[39m for the full column specifications.\n",
      "\n",
      "\n",
      "\n",
      "\u001b[36m--\u001b[39m \u001b[1m\u001b[1mColumn specification\u001b[1m\u001b[22m \u001b[36m------------------------------------------------------------------------------------------------------------------------\u001b[39m\n",
      "cols(\n",
      "  geneID = \u001b[31mcol_character()\u001b[39m,\n",
      "  baseMean = \u001b[32mcol_double()\u001b[39m,\n",
      "  log2FoldChange = \u001b[32mcol_double()\u001b[39m,\n",
      "  lfcSE = \u001b[32mcol_double()\u001b[39m,\n",
      "  stat = \u001b[32mcol_double()\u001b[39m,\n",
      "  pvalue = \u001b[32mcol_double()\u001b[39m,\n",
      "  padj = \u001b[32mcol_double()\u001b[39m,\n",
      "  qval = \u001b[32mcol_double()\u001b[39m\n",
      ")\n",
      "\n",
      "\n",
      "\n",
      "\u001b[36m--\u001b[39m \u001b[1m\u001b[1mColumn specification\u001b[1m\u001b[22m \u001b[36m------------------------------------------------------------------------------------------------------------------------\u001b[39m\n",
      "cols(\n",
      "  geneID = \u001b[31mcol_character()\u001b[39m,\n",
      "  pval = \u001b[32mcol_double()\u001b[39m,\n",
      "  padj = \u001b[32mcol_double()\u001b[39m,\n",
      "  qval = \u001b[32mcol_double()\u001b[39m\n",
      ")\n",
      "\n",
      "\n",
      "\n",
      "\u001b[36m--\u001b[39m \u001b[1m\u001b[1mColumn specification\u001b[1m\u001b[22m \u001b[36m------------------------------------------------------------------------------------------------------------------------\u001b[39m\n",
      "cols(\n",
      "  geneID = \u001b[31mcol_character()\u001b[39m,\n",
      "  MI_est_median = \u001b[32mcol_double()\u001b[39m\n",
      ")\n",
      "\n",
      "\n",
      "\n",
      "\u001b[36m--\u001b[39m \u001b[1m\u001b[1mColumn specification\u001b[1m\u001b[22m \u001b[36m------------------------------------------------------------------------------------------------------------------------\u001b[39m\n",
      "cols(\n",
      "  dataset = \u001b[31mcol_character()\u001b[39m,\n",
      "  f1_macro_majority = \u001b[32mcol_double()\u001b[39m,\n",
      "  f1_macro_MC = \u001b[32mcol_double()\u001b[39m,\n",
      "  n = \u001b[32mcol_double()\u001b[39m\n",
      ")\n",
      "\n",
      "\n",
      "\n",
      "\u001b[36m--\u001b[39m \u001b[1m\u001b[1mColumn specification\u001b[1m\u001b[22m \u001b[36m------------------------------------------------------------------------------------------------------------------------\u001b[39m\n",
      "cols(\n",
      "  model = \u001b[32mcol_double()\u001b[39m,\n",
      "  ref_score = \u001b[32mcol_double()\u001b[39m\n",
      ")\n",
      "\n",
      "\n",
      "\n",
      "\u001b[36m--\u001b[39m \u001b[1m\u001b[1mColumn specification\u001b[1m\u001b[22m \u001b[36m------------------------------------------------------------------------------------------------------------------------\u001b[39m\n",
      "cols(\n",
      "  geneID = \u001b[31mcol_character()\u001b[39m,\n",
      "  mean_imp_0 = \u001b[32mcol_double()\u001b[39m,\n",
      "  score_pct_improvement_0 = \u001b[32mcol_double()\u001b[39m,\n",
      "  mean_imp_1 = \u001b[32mcol_double()\u001b[39m,\n",
      "  score_pct_improvement_1 = \u001b[32mcol_double()\u001b[39m,\n",
      "  mean_imp_2 = \u001b[32mcol_double()\u001b[39m,\n",
      "  score_pct_improvement_2 = \u001b[32mcol_double()\u001b[39m,\n",
      "  mean_imp_3 = \u001b[32mcol_double()\u001b[39m,\n",
      "  score_pct_improvement_3 = \u001b[32mcol_double()\u001b[39m,\n",
      "  mean_imp_4 = \u001b[32mcol_double()\u001b[39m,\n",
      "  score_pct_improvement_4 = \u001b[32mcol_double()\u001b[39m\n",
      ")\n",
      "\n",
      "\n",
      "\n",
      "\u001b[36m--\u001b[39m \u001b[1m\u001b[1mColumn specification\u001b[1m\u001b[22m \u001b[36m------------------------------------------------------------------------------------------------------------------------\u001b[39m\n",
      "cols(\n",
      "  .default = col_double(),\n",
      "  geneID = \u001b[31mcol_character()\u001b[39m,\n",
      "  module = \u001b[31mcol_character()\u001b[39m\n",
      ")\n",
      "\u001b[36mi\u001b[39m Use \u001b[30m\u001b[47m\u001b[30m\u001b[47m`spec()`\u001b[47m\u001b[30m\u001b[49m\u001b[39m for the full column specifications.\n",
      "\n",
      "\n",
      "\n",
      "\u001b[36m--\u001b[39m \u001b[1m\u001b[1mColumn specification\u001b[1m\u001b[22m \u001b[36m------------------------------------------------------------------------------------------------------------------------\u001b[39m\n",
      "cols(\n",
      "  module = \u001b[31mcol_character()\u001b[39m,\n",
      "  figo_stage_1_cor = \u001b[32mcol_double()\u001b[39m,\n",
      "  figo_stage_2_cor = \u001b[32mcol_double()\u001b[39m,\n",
      "  figo_stage_3_cor = \u001b[32mcol_double()\u001b[39m,\n",
      "  figo_stage_4_cor = \u001b[32mcol_double()\u001b[39m,\n",
      "  figo_stage_1_pval = \u001b[32mcol_double()\u001b[39m,\n",
      "  figo_stage_2_pval = \u001b[32mcol_double()\u001b[39m,\n",
      "  figo_stage_3_pval = \u001b[32mcol_double()\u001b[39m,\n",
      "  figo_stage_4_pval = \u001b[32mcol_double()\u001b[39m,\n",
      "  figo_stage_1_qval = \u001b[32mcol_double()\u001b[39m,\n",
      "  figo_stage_2_qval = \u001b[32mcol_double()\u001b[39m,\n",
      "  figo_stage_3_qval = \u001b[32mcol_double()\u001b[39m,\n",
      "  figo_stage_4_qval = \u001b[32mcol_double()\u001b[39m,\n",
      "  vital_hr = \u001b[32mcol_double()\u001b[39m,\n",
      "  vital_dev_cor = \u001b[32mcol_double()\u001b[39m,\n",
      "  vital_pval = \u001b[32mcol_double()\u001b[39m,\n",
      "  vital_qval = \u001b[32mcol_double()\u001b[39m\n",
      ")\n",
      "\n",
      "\n"
     ]
    }
   ],
   "source": [
    "matrisome_df <- rutils::load_matrisome_df(matrisome_list) %>%\n",
    "    dplyr::select(gene_symbol, division, category)\n",
    "norm_counts_df <- read_tsv(paste0(dirs$data_dir, \"/\", unified_dsets[dset_idx], \"/\", \"norm_counts.tsv\"))\n",
    "m_norm_counts_df <- norm_counts_df %>%\n",
    "    dplyr::filter(geneID %in% matrisome_df$gene_symbol)\n",
    "deseq_results_df <- read_tsv(paste0(dirs$analysis_dir, \"/deg/\", unified_dsets[dset_idx], \"_DESeq_results.tsv\")) %>%\n",
    "    rename(base_mean = baseMean, lfc = log2FoldChange)\n",
    "welch_anova_results_df <- read_tsv(paste0(dirs$analysis_dir, \"/feature_selection/\", unified_dsets[dset_idx], \"_welch_anova_results.tsv\"))\n",
    "mi_figo_results_df <- read_tsv(paste0(dirs$analysis_dir, \"/feature_selection/\", unified_dsets[dset_idx], \"_MI_figo_results.tsv\")) %>%\n",
    "    dplyr::rename(mi_est = MI_est_median)\n",
    "cls_baselines_df <- read_tsv(paste0(dirs$analysis_dir, \"/meta/\", \"cls_baselines.tsv\"))\n",
    "f1_l1_lr_scores_df <- read_tsv(paste0(dirs$analysis_dir, \"/feature_selection/\", unified_dsets[dset_idx], \"_l1_lr_ref_scores.tsv\"))\n",
    "f1_l1_lr_results_df <- read_tsv(paste0(dirs$analysis_dir, \"/feature_selection/\", unified_dsets[dset_idx], \"_l1_lr_results.tsv\")) %>%\n",
    "    get_consensus_col(n = consensus_n, thresh = consensus_thresh)\n",
    "network_mm_gs_df <- read_tsv(paste0(dirs$analysis_dir, \"/network/\", unified_dsets[dset_idx], \"_gene_mm_gs.tsv\"))\n",
    "network_me_sig_df <- read_tsv(paste0(dirs$analysis_dir, \"/network/\", unified_dsets[dset_idx], \"_eigengene_traits.tsv\"))\n",
    "lnames <- load(file = paste0(dirs$data_dir, \"/saved_network_objects/\", unified_dsets[dset_idx], \"_tumor_data.RData\"))\n",
    "lnames <- load(file = paste0(dirs$data_dir, \"/saved_network_objects/\", unified_dsets[dset_idx], \"_tumor_network.RData\"))"
   ]
  },
  {
   "cell_type": "markdown",
   "id": "artistic-equity",
   "metadata": {},
   "source": [
    "# DGE analysis"
   ]
  },
  {
   "cell_type": "markdown",
   "id": "certified-dover",
   "metadata": {},
   "source": [
    "## DEG"
   ]
  },
  {
   "cell_type": "code",
   "execution_count": 7,
   "id": "accurate-topic",
   "metadata": {},
   "outputs": [
    {
     "data": {
      "text/html": [
       "<dl>\n",
       "\t<dt>$n_deg</dt>\n",
       "\t\t<dd>7646</dd>\n",
       "\t<dt>$deg_prop</dt>\n",
       "\t\t<dd>0.377729473372196</dd>\n",
       "\t<dt>$n_up</dt>\n",
       "\t\t<dd>4682</dd>\n",
       "\t<dt>$n_down</dt>\n",
       "\t\t<dd>2964</dd>\n",
       "</dl>\n"
      ],
      "text/latex": [
       "\\begin{description}\n",
       "\\item[\\$n\\_deg] 7646\n",
       "\\item[\\$deg\\_prop] 0.377729473372196\n",
       "\\item[\\$n\\_up] 4682\n",
       "\\item[\\$n\\_down] 2964\n",
       "\\end{description}\n"
      ],
      "text/markdown": [
       "$n_deg\n",
       ":   7646\n",
       "$deg_prop\n",
       ":   0.377729473372196\n",
       "$n_up\n",
       ":   4682\n",
       "$n_down\n",
       ":   2964\n",
       "\n",
       "\n"
      ],
      "text/plain": [
       "$n_deg\n",
       "[1] 7646\n",
       "\n",
       "$deg_prop\n",
       "[1] 0.3777295\n",
       "\n",
       "$n_up\n",
       "[1] 4682\n",
       "\n",
       "$n_down\n",
       "[1] 2964\n"
      ]
     },
     "metadata": {},
     "output_type": "display_data"
    }
   ],
   "source": [
    "deg_meta_ls <- deg_meta(deseq_results_df, lfc_thresh, q_deg_thresh, nrow(norm_counts_df))\n",
    "deg_meta_ls[1:4]"
   ]
  },
  {
   "cell_type": "markdown",
   "id": "brilliant-andrew",
   "metadata": {},
   "source": [
    "## DEMG"
   ]
  },
  {
   "cell_type": "code",
   "execution_count": 8,
   "id": "headed-closing",
   "metadata": {},
   "outputs": [
    {
     "data": {
      "text/html": [
       "<dl>\n",
       "\t<dt>$n_deg</dt>\n",
       "\t\t<dd>595</dd>\n",
       "\t<dt>$deg_prop</dt>\n",
       "\t\t<dd>0.590277777777778</dd>\n",
       "\t<dt>$n_up</dt>\n",
       "\t\t<dd>363</dd>\n",
       "\t<dt>$n_down</dt>\n",
       "\t\t<dd>232</dd>\n",
       "</dl>\n"
      ],
      "text/latex": [
       "\\begin{description}\n",
       "\\item[\\$n\\_deg] 595\n",
       "\\item[\\$deg\\_prop] 0.590277777777778\n",
       "\\item[\\$n\\_up] 363\n",
       "\\item[\\$n\\_down] 232\n",
       "\\end{description}\n"
      ],
      "text/markdown": [
       "$n_deg\n",
       ":   595\n",
       "$deg_prop\n",
       ":   0.590277777777778\n",
       "$n_up\n",
       ":   363\n",
       "$n_down\n",
       ":   232\n",
       "\n",
       "\n"
      ],
      "text/plain": [
       "$n_deg\n",
       "[1] 595\n",
       "\n",
       "$deg_prop\n",
       "[1] 0.5902778\n",
       "\n",
       "$n_up\n",
       "[1] 363\n",
       "\n",
       "$n_down\n",
       "[1] 232\n"
      ]
     },
     "metadata": {},
     "output_type": "display_data"
    }
   ],
   "source": [
    "m_deseq_results_df <- deseq_results_df %>%\n",
    "    dplyr::filter(geneID %in% matrisome_df$gene_symbol)\n",
    "demg_meta_ls <- deg_meta(m_deseq_results_df, lfc_thresh, q_deg_thresh, nrow(m_norm_counts_df))\n",
    "demg_meta_ls[1:4]"
   ]
  },
  {
   "cell_type": "markdown",
   "id": "extended-meaning",
   "metadata": {},
   "source": [
    "# Uni/multivariate analysis"
   ]
  },
  {
   "cell_type": "markdown",
   "id": "trained-generation",
   "metadata": {},
   "source": [
    "## Welch ANOVA"
   ]
  },
  {
   "cell_type": "code",
   "execution_count": 9,
   "id": "seeing-assault",
   "metadata": {},
   "outputs": [
    {
     "data": {
      "text/html": [
       "<strong>$n_sig</strong> = 12"
      ],
      "text/latex": [
       "\\textbf{\\$n\\_sig} = 12"
      ],
      "text/markdown": [
       "**$n_sig** = 12"
      ],
      "text/plain": [
       "$n_sig\n",
       "[1] 12\n"
      ]
     },
     "metadata": {},
     "output_type": "display_data"
    }
   ],
   "source": [
    "anova_meta_ls <- simple_test_meta(welch_anova_results_df, q_anova_thresh)\n",
    "anova_meta_ls[1]"
   ]
  },
  {
   "cell_type": "markdown",
   "id": "powerful-nursing",
   "metadata": {},
   "source": [
    "## MI"
   ]
  },
  {
   "cell_type": "code",
   "execution_count": 10,
   "id": "initial-calvin",
   "metadata": {},
   "outputs": [
    {
     "data": {
      "text/html": [
       "<strong>$n_mi</strong> = 30"
      ],
      "text/latex": [
       "\\textbf{\\$n\\_mi} = 30"
      ],
      "text/markdown": [
       "**$n_mi** = 30"
      ],
      "text/plain": [
       "$n_mi\n",
       "[1] 30\n"
      ]
     },
     "metadata": {},
     "output_type": "display_data"
    }
   ],
   "source": [
    "mi_meta_ls <- mi_meta(mi_figo_results_df, 50)\n",
    "mi_meta_ls[1]"
   ]
  },
  {
   "cell_type": "markdown",
   "id": "naked-oregon",
   "metadata": {},
   "source": [
    "# ML baselines"
   ]
  },
  {
   "cell_type": "code",
   "execution_count": 11,
   "id": "amber-charter",
   "metadata": {},
   "outputs": [
    {
     "data": {
      "text/html": [
       "<dl>\n",
       "\t<dt>$dataset</dt>\n",
       "\t\t<dd>'unified_uterine_data'</dd>\n",
       "\t<dt>$naive</dt>\n",
       "\t\t<dd>0.140625</dd>\n",
       "\t<dt>$mc</dt>\n",
       "\t\t<dd>0.246008409683536</dd>\n",
       "\t<dt>$n_obs</dt>\n",
       "\t\t<dd>46</dd>\n",
       "</dl>\n"
      ],
      "text/latex": [
       "\\begin{description}\n",
       "\\item[\\$dataset] 'unified\\_uterine\\_data'\n",
       "\\item[\\$naive] 0.140625\n",
       "\\item[\\$mc] 0.246008409683536\n",
       "\\item[\\$n\\_obs] 46\n",
       "\\end{description}\n"
      ],
      "text/markdown": [
       "$dataset\n",
       ":   'unified_uterine_data'\n",
       "$naive\n",
       ":   0.140625\n",
       "$mc\n",
       ":   0.246008409683536\n",
       "$n_obs\n",
       ":   46\n",
       "\n",
       "\n"
      ],
      "text/plain": [
       "$dataset\n",
       "[1] \"unified_uterine_data\"\n",
       "\n",
       "$naive\n",
       "[1] 0.140625\n",
       "\n",
       "$mc\n",
       "[1] 0.2460084\n",
       "\n",
       "$n_obs\n",
       "[1] 46\n"
      ]
     },
     "metadata": {},
     "output_type": "display_data"
    }
   ],
   "source": [
    "cls_baselines <- as.list(cls_baselines_df[dset_idx,])\n",
    "names(cls_baselines) <- c(\"dataset\", \"naive\", \"mc\", \"n_obs\")\n",
    "f1_macro_majority_baseline <- cls_baselines$naive\n",
    "f1_macro_mc_baseline <- cls_baselines$mc\n",
    "cls_baselines"
   ]
  },
  {
   "cell_type": "markdown",
   "id": "dominant-corrections",
   "metadata": {},
   "source": [
    "# LR (L1)"
   ]
  },
  {
   "cell_type": "code",
   "execution_count": 12,
   "id": "organized-tourism",
   "metadata": {},
   "outputs": [
    {
     "data": {
      "text/html": [
       "<dl>\n",
       "\t<dt>$avg_score</dt>\n",
       "\t\t<dd>0.304563492063492</dd>\n",
       "\t<dt>$naive_pct_imp</dt>\n",
       "\t\t<dd>116.57848324515</dd>\n",
       "\t<dt>$mc_pct_imp</dt>\n",
       "\t\t<dd>23.8020653258485</dd>\n",
       "\t<dt>$n_genes</dt>\n",
       "\t\t<dd>28</dd>\n",
       "</dl>\n"
      ],
      "text/latex": [
       "\\begin{description}\n",
       "\\item[\\$avg\\_score] 0.304563492063492\n",
       "\\item[\\$naive\\_pct\\_imp] 116.57848324515\n",
       "\\item[\\$mc\\_pct\\_imp] 23.8020653258485\n",
       "\\item[\\$n\\_genes] 28\n",
       "\\end{description}\n"
      ],
      "text/markdown": [
       "$avg_score\n",
       ":   0.304563492063492\n",
       "$naive_pct_imp\n",
       ":   116.57848324515\n",
       "$mc_pct_imp\n",
       ":   23.8020653258485\n",
       "$n_genes\n",
       ":   28\n",
       "\n",
       "\n"
      ],
      "text/plain": [
       "$avg_score\n",
       "[1] 0.3045635\n",
       "\n",
       "$naive_pct_imp\n",
       "[1] 116.5785\n",
       "\n",
       "$mc_pct_imp\n",
       "[1] 23.80207\n",
       "\n",
       "$n_genes\n",
       "[1] 28\n"
      ]
     },
     "metadata": {},
     "output_type": "display_data"
    }
   ],
   "source": [
    "lr_l1_meta_ls <- lr_l1_meta(f1_l1_lr_scores_df, f1_l1_lr_results_df, cls_baselines)\n",
    "lr_l1_meta_ls[1:4]"
   ]
  },
  {
   "cell_type": "markdown",
   "id": "spare-intervention",
   "metadata": {},
   "source": [
    "## How do uni/multivariate analyses overlap?"
   ]
  },
  {
   "cell_type": "code",
   "execution_count": 22,
   "id": "threatened-thriller",
   "metadata": {},
   "outputs": [
    {
     "data": {
      "text/html": [
       "0"
      ],
      "text/latex": [
       "0"
      ],
      "text/markdown": [
       "0"
      ],
      "text/plain": [
       "[1] 0"
      ]
     },
     "metadata": {},
     "output_type": "display_data"
    },
    {
     "data": {
      "text/html": [
       "3"
      ],
      "text/latex": [
       "3"
      ],
      "text/markdown": [
       "3"
      ],
      "text/plain": [
       "[1] 3"
      ]
     },
     "metadata": {},
     "output_type": "display_data"
    },
    {
     "data": {
      "text/html": [
       "2"
      ],
      "text/latex": [
       "2"
      ],
      "text/markdown": [
       "2"
      ],
      "text/plain": [
       "[1] 2"
      ]
     },
     "metadata": {},
     "output_type": "display_data"
    }
   ],
   "source": [
    "length(intersect(mi_meta_ls$genes, lr_l1_meta_ls$genes))\n",
    "length(intersect(anova_meta_ls$genes, lr_l1_meta_ls$genes))\n",
    "length(intersect(anova_meta_ls$genes, mi_meta_ls$genes))"
   ]
  },
  {
   "cell_type": "markdown",
   "id": "described-capitol",
   "metadata": {},
   "source": [
    "# WGCNA"
   ]
  },
  {
   "cell_type": "code",
   "execution_count": 14,
   "id": "maritime-elephant",
   "metadata": {},
   "outputs": [
    {
     "name": "stderr",
     "output_type": "stream",
     "text": [
      "\n",
      "\n"
     ]
    }
   ],
   "source": [
    "hub_df <- get_most_conn_genes(data_expr, module_colors, soft_power, conn_vs_hub_thresh = hub_con_thresh) %>%\n",
    "    bind_rows(.id = \"module\") %>%\n",
    "    dplyr::select(geneID, everything())"
   ]
  },
  {
   "cell_type": "code",
   "execution_count": 15,
   "id": "czech-length",
   "metadata": {},
   "outputs": [
    {
     "data": {
      "text/html": [
       "<dl>\n",
       "\t<dt>$n_sig_modules</dt>\n",
       "\t\t<dd>3</dd>\n",
       "\t<dt>$n_sig_genes</dt>\n",
       "\t\t<dd>175</dd>\n",
       "</dl>\n"
      ],
      "text/latex": [
       "\\begin{description}\n",
       "\\item[\\$n\\_sig\\_modules] 3\n",
       "\\item[\\$n\\_sig\\_genes] 175\n",
       "\\end{description}\n"
      ],
      "text/markdown": [
       "$n_sig_modules\n",
       ":   3\n",
       "$n_sig_genes\n",
       ":   175\n",
       "\n",
       "\n"
      ],
      "text/plain": [
       "$n_sig_modules\n",
       "[1] 3\n",
       "\n",
       "$n_sig_genes\n",
       "[1] 175\n"
      ]
     },
     "metadata": {},
     "output_type": "display_data"
    }
   ],
   "source": [
    "wgcna_meta_ls <- wgcna_meta(network_me_sig_df, network_mm_gs_df, q_me_thresh, p_thresh, hub_df$geneID)\n",
    "wgcna_meta_ls[1:2]"
   ]
  },
  {
   "cell_type": "markdown",
   "id": "adequate-librarian",
   "metadata": {},
   "source": [
    "## TOM meta"
   ]
  },
  {
   "cell_type": "code",
   "execution_count": 16,
   "id": "corrected-dubai",
   "metadata": {},
   "outputs": [
    {
     "data": {
      "text/html": [
       "<style>\n",
       ".dl-inline {width: auto; margin:0; padding: 0}\n",
       ".dl-inline>dt, .dl-inline>dd {float: none; width: auto; display: inline-block}\n",
       ".dl-inline>dt::after {content: \":\\0020\"; padding-right: .5ex}\n",
       ".dl-inline>dt:not(:first-of-type) {padding-left: .5ex}\n",
       "</style><dl class=dl-inline><dt>0%</dt><dd>1.4</dd><dt>25%</dt><dd>2.4</dd><dt>50%</dt><dd>3.4</dd><dt>75%</dt><dd>5.3</dd><dt>100%</dt><dd>18.3</dd></dl>\n"
      ],
      "text/latex": [
       "\\begin{description*}\n",
       "\\item[0\\textbackslash{}\\%] 1.4\n",
       "\\item[25\\textbackslash{}\\%] 2.4\n",
       "\\item[50\\textbackslash{}\\%] 3.4\n",
       "\\item[75\\textbackslash{}\\%] 5.3\n",
       "\\item[100\\textbackslash{}\\%] 18.3\n",
       "\\end{description*}\n"
      ],
      "text/markdown": [
       "0%\n",
       ":   1.425%\n",
       ":   2.450%\n",
       ":   3.475%\n",
       ":   5.3100%\n",
       ":   18.3\n",
       "\n"
      ],
      "text/plain": [
       "  0%  25%  50%  75% 100% \n",
       " 1.4  2.4  3.4  5.3 18.3 "
      ]
     },
     "metadata": {},
     "output_type": "display_data"
    }
   ],
   "source": [
    "colnames(tom) <- colnames(data_expr)\n",
    "rownames(tom) <- colnames(data_expr)\n",
    "rowSums(tom) %>%\n",
    "    quantile() %>%\n",
    "    round(digits = 1)"
   ]
  },
  {
   "cell_type": "markdown",
   "id": "proper-privacy",
   "metadata": {},
   "source": [
    "# Create Lists"
   ]
  },
  {
   "cell_type": "code",
   "execution_count": 17,
   "id": "formed-sword",
   "metadata": {},
   "outputs": [],
   "source": [
    "deg_list <- deg_meta_ls$genes\n",
    "demg_list <- demg_meta_ls$genes\n",
    "umsmg_list <- lr_l1_meta_ls$genes %>%\n",
    "    union(anova_meta_ls$genes) %>%\n",
    "    union(mi_meta_ls$genes)\n",
    "nsmg_list <- wgcna_meta_ls$genes\n",
    "umsmg_demg_list <- umsmg_list %>%\n",
    "    intersect(demg_list)\n",
    "nsmg_demg_list <- nsmg_list %>%\n",
    "    intersect(demg_list)\n",
    "umsmg_nsmg_demg_list <- intersect(umsmg_demg_list, nsmg_demg_list)"
   ]
  },
  {
   "cell_type": "code",
   "execution_count": 18,
   "id": "finite-reader",
   "metadata": {},
   "outputs": [
    {
     "data": {
      "text/html": [
       "7646"
      ],
      "text/latex": [
       "7646"
      ],
      "text/markdown": [
       "7646"
      ],
      "text/plain": [
       "[1] 7646"
      ]
     },
     "metadata": {},
     "output_type": "display_data"
    },
    {
     "data": {
      "text/html": [
       "595"
      ],
      "text/latex": [
       "595"
      ],
      "text/markdown": [
       "595"
      ],
      "text/plain": [
       "[1] 595"
      ]
     },
     "metadata": {},
     "output_type": "display_data"
    },
    {
     "data": {
      "text/html": [
       "65"
      ],
      "text/latex": [
       "65"
      ],
      "text/markdown": [
       "65"
      ],
      "text/plain": [
       "[1] 65"
      ]
     },
     "metadata": {},
     "output_type": "display_data"
    },
    {
     "data": {
      "text/html": [
       "175"
      ],
      "text/latex": [
       "175"
      ],
      "text/markdown": [
       "175"
      ],
      "text/plain": [
       "[1] 175"
      ]
     },
     "metadata": {},
     "output_type": "display_data"
    },
    {
     "data": {
      "text/html": [
       "37"
      ],
      "text/latex": [
       "37"
      ],
      "text/markdown": [
       "37"
      ],
      "text/plain": [
       "[1] 37"
      ]
     },
     "metadata": {},
     "output_type": "display_data"
    },
    {
     "data": {
      "text/html": [
       "106"
      ],
      "text/latex": [
       "106"
      ],
      "text/markdown": [
       "106"
      ],
      "text/plain": [
       "[1] 106"
      ]
     },
     "metadata": {},
     "output_type": "display_data"
    },
    {
     "data": {
      "text/html": [
       "9"
      ],
      "text/latex": [
       "9"
      ],
      "text/markdown": [
       "9"
      ],
      "text/plain": [
       "[1] 9"
      ]
     },
     "metadata": {},
     "output_type": "display_data"
    }
   ],
   "source": [
    "length(deg_list)\n",
    "length(demg_list)\n",
    "length(umsmg_list)\n",
    "length(nsmg_list)\n",
    "length(umsmg_demg_list)\n",
    "length(nsmg_demg_list)\n",
    "length(umsmg_nsmg_demg_list)"
   ]
  },
  {
   "cell_type": "markdown",
   "id": "sublime-allergy",
   "metadata": {},
   "source": [
    "# Save lists"
   ]
  },
  {
   "cell_type": "code",
   "execution_count": 19,
   "id": "biblical-singapore",
   "metadata": {},
   "outputs": [],
   "source": [
    "if (save_lists) {\n",
    "    write_lines(deg_list, paste0(dirs$analysis_dir, \"/gene_lists/\", unified_dsets[dset_idx], \"_deg_list.txt\"))\n",
    "    write_lines(demg_list, paste0(dirs$analysis_dir, \"/gene_lists/\", unified_dsets[dset_idx], \"_demg_list.txt\"))\n",
    "    write_lines(umsmg_list, paste0(dirs$analysis_dir, \"/gene_lists/\", unified_dsets[dset_idx], \"_umsmg_list.txt\"))\n",
    "    write_lines(nsmg_list, paste0(dirs$analysis_dir, \"/gene_lists/\", unified_dsets[dset_idx], \"_nsmg_hub_thresh_\", hub_con_thresh, \"_list.txt\"))\n",
    "    write_lines(umsmg_demg_list, paste0(dirs$analysis_dir, \"/gene_lists/\", unified_dsets[dset_idx], \"_umsmg_demg_list.txt\"))\n",
    "    write_lines(nsmg_demg_list, paste0(dirs$analysis_dir, \"/gene_lists/\", unified_dsets[dset_idx], \"_nsmg_hub_thresh_\", hub_con_thresh, \"_demg_list.txt\"))\n",
    "    write_lines(umsmg_nsmg_demg_list, paste0(dirs$analysis_dir, \"/gene_lists/\", unified_dsets[dset_idx], \"_umsmg_nsmg_hub_thresh_\", hub_con_thresh, \"_demg_list.txt\"))\n",
    "}"
   ]
  },
  {
   "cell_type": "code",
   "execution_count": null,
   "id": "institutional-mitchell",
   "metadata": {},
   "outputs": [],
   "source": []
  }
 ],
 "metadata": {
  "kernelspec": {
   "display_name": "R",
   "language": "R",
   "name": "ir"
  },
  "language_info": {
   "codemirror_mode": "r",
   "file_extension": ".r",
   "mimetype": "text/x-r-source",
   "name": "R",
   "pygments_lexer": "r",
   "version": "4.0.3"
  }
 },
 "nbformat": 4,
 "nbformat_minor": 5
}
