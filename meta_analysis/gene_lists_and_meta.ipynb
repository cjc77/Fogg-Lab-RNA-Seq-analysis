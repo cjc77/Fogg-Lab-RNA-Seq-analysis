{
 "cells": [
  {
   "cell_type": "code",
   "execution_count": 1,
   "id": "hollywood-coordinator",
   "metadata": {},
   "outputs": [
    {
     "name": "stderr",
     "output_type": "stream",
     "text": [
      "-- \u001b[1mAttaching packages\u001b[22m ------------------------------------------------------------------------------------------------------- tidyverse 1.3.0 --\n",
      "\n",
      "\u001b[32mv\u001b[39m \u001b[34mggplot2\u001b[39m 3.3.3     \u001b[32mv\u001b[39m \u001b[34mpurrr  \u001b[39m 0.3.4\n",
      "\u001b[32mv\u001b[39m \u001b[34mtibble \u001b[39m 3.0.6     \u001b[32mv\u001b[39m \u001b[34mdplyr  \u001b[39m 1.0.4\n",
      "\u001b[32mv\u001b[39m \u001b[34mtidyr  \u001b[39m 1.1.2     \u001b[32mv\u001b[39m \u001b[34mstringr\u001b[39m 1.4.0\n",
      "\u001b[32mv\u001b[39m \u001b[34mreadr  \u001b[39m 1.4.0     \u001b[32mv\u001b[39m \u001b[34mforcats\u001b[39m 0.5.1\n",
      "\n",
      "-- \u001b[1mConflicts\u001b[22m ---------------------------------------------------------------------------------------------------------- tidyverse_conflicts() --\n",
      "\u001b[31mx\u001b[39m \u001b[34mdplyr\u001b[39m::\u001b[32mfilter()\u001b[39m masks \u001b[34mstats\u001b[39m::filter()\n",
      "\u001b[31mx\u001b[39m \u001b[34mdplyr\u001b[39m::\u001b[32mlag()\u001b[39m    masks \u001b[34mstats\u001b[39m::lag()\n",
      "\n"
     ]
    }
   ],
   "source": [
    "library(tidyverse)\n",
    "\n",
    "# Custom package\n",
    "library(rutils)"
   ]
  },
  {
   "cell_type": "code",
   "execution_count": 2,
   "id": "integral-meditation",
   "metadata": {},
   "outputs": [],
   "source": [
    "dirs <- rutils::get_dev_directories(dev_paths_file = \"../dev_paths.txt\")\n",
    "projects <- c(\"TCGA-CESC\", \"TCGA-UCS\", \"TCGA-UCEC\", \"TCGA-OV\")\n",
    "unified_dsets <- c(\"unified_cervical_data\", \"unified_uterine_data\", \"unified_uterine_endometrial_data\")\n",
    "matrisome_list <- paste0(dirs$data_dir, \"/matrisome/matrisome_hs_masterlist.tsv\")"
   ]
  },
  {
   "cell_type": "code",
   "execution_count": 3,
   "id": "thousand-policy",
   "metadata": {},
   "outputs": [],
   "source": [
    "dset_idx <- 1\n",
    "save_lists <- TRUE"
   ]
  },
  {
   "cell_type": "code",
   "execution_count": 4,
   "id": "living-liberty",
   "metadata": {},
   "outputs": [],
   "source": [
    "p_thresh <- 0.05\n",
    "lfc_thresh <- log2(2)\n",
    "q_deg_thresh <- 0.05\n",
    "q_anova_thresh <- 0.05\n",
    "q_me_thresh <- 0.05\n",
    "coxph_coeff_thresh <- 0.0\n",
    "mi_thresh <- 0.0\n",
    "consensus_thresh <- 0.0\n",
    "consensus_n <- 5\n",
    "hub_con_thresh <- 0"
   ]
  },
  {
   "cell_type": "markdown",
   "id": "consistent-james",
   "metadata": {},
   "source": [
    "# Functions"
   ]
  },
  {
   "cell_type": "code",
   "execution_count": 5,
   "id": "round-hanging",
   "metadata": {},
   "outputs": [],
   "source": [
    "get_consensus_col <- function(df, n, thresh = 0) {\n",
    "    consensus_df <- df %>%\n",
    "        dplyr::select(geneID, contains(\"mean\")) %>%\n",
    "        dplyr::mutate(consensus = rowSums(.[-1] > thresh) >= n)\n",
    "    df %>% dplyr::mutate(consensus = consensus_df$consensus)\n",
    "}"
   ]
  },
  {
   "cell_type": "markdown",
   "id": "handmade-trinidad",
   "metadata": {},
   "source": [
    "# Data"
   ]
  },
  {
   "cell_type": "code",
   "execution_count": 6,
   "id": "advisory-proceeding",
   "metadata": {},
   "outputs": [
    {
     "name": "stderr",
     "output_type": "stream",
     "text": [
      "\n",
      "\u001b[36m--\u001b[39m \u001b[1m\u001b[1mColumn specification\u001b[1m\u001b[22m \u001b[36m------------------------------------------------------------------------------------------------------------------------\u001b[39m\n",
      "cols(\n",
      "  Division = \u001b[31mcol_character()\u001b[39m,\n",
      "  Category = \u001b[31mcol_character()\u001b[39m,\n",
      "  `Gene Symbol` = \u001b[31mcol_character()\u001b[39m,\n",
      "  `Gene Name` = \u001b[31mcol_character()\u001b[39m,\n",
      "  Synonyms = \u001b[31mcol_character()\u001b[39m,\n",
      "  HGNC_IDs = \u001b[32mcol_double()\u001b[39m,\n",
      "  `HGNC_IDs Links` = \u001b[32mcol_double()\u001b[39m,\n",
      "  UniProt_IDs = \u001b[31mcol_character()\u001b[39m,\n",
      "  Refseq_IDs = \u001b[31mcol_character()\u001b[39m,\n",
      "  Orthology = \u001b[31mcol_character()\u001b[39m,\n",
      "  Notes = \u001b[31mcol_character()\u001b[39m\n",
      ")\n",
      "\n",
      "\n",
      "\n",
      "\u001b[36m--\u001b[39m \u001b[1m\u001b[1mColumn specification\u001b[1m\u001b[22m \u001b[36m------------------------------------------------------------------------------------------------------------------------\u001b[39m\n",
      "cols(\n",
      "  .default = col_double(),\n",
      "  geneID = \u001b[31mcol_character()\u001b[39m\n",
      ")\n",
      "\u001b[36mi\u001b[39m Use \u001b[30m\u001b[47m\u001b[30m\u001b[47m`spec()`\u001b[47m\u001b[30m\u001b[49m\u001b[39m for the full column specifications.\n",
      "\n",
      "\n",
      "\n",
      "\u001b[36m--\u001b[39m \u001b[1m\u001b[1mColumn specification\u001b[1m\u001b[22m \u001b[36m------------------------------------------------------------------------------------------------------------------------\u001b[39m\n",
      "cols(\n",
      "  geneID = \u001b[31mcol_character()\u001b[39m,\n",
      "  baseMean = \u001b[32mcol_double()\u001b[39m,\n",
      "  log2FoldChange = \u001b[32mcol_double()\u001b[39m,\n",
      "  lfcSE = \u001b[32mcol_double()\u001b[39m,\n",
      "  stat = \u001b[32mcol_double()\u001b[39m,\n",
      "  pvalue = \u001b[32mcol_double()\u001b[39m,\n",
      "  padj = \u001b[32mcol_double()\u001b[39m,\n",
      "  qval = \u001b[32mcol_double()\u001b[39m\n",
      ")\n",
      "\n",
      "\n",
      "\n",
      "\u001b[36m--\u001b[39m \u001b[1m\u001b[1mColumn specification\u001b[1m\u001b[22m \u001b[36m------------------------------------------------------------------------------------------------------------------------\u001b[39m\n",
      "cols(\n",
      "  geneID = \u001b[31mcol_character()\u001b[39m,\n",
      "  pval = \u001b[32mcol_double()\u001b[39m,\n",
      "  padj = \u001b[32mcol_double()\u001b[39m,\n",
      "  qval = \u001b[32mcol_double()\u001b[39m\n",
      ")\n",
      "\n",
      "\n",
      "\n",
      "\u001b[36m--\u001b[39m \u001b[1m\u001b[1mColumn specification\u001b[1m\u001b[22m \u001b[36m------------------------------------------------------------------------------------------------------------------------\u001b[39m\n",
      "cols(\n",
      "  geneID = \u001b[31mcol_character()\u001b[39m,\n",
      "  MI_est_median = \u001b[32mcol_double()\u001b[39m\n",
      ")\n",
      "\n",
      "\n",
      "\n",
      "\u001b[36m--\u001b[39m \u001b[1m\u001b[1mColumn specification\u001b[1m\u001b[22m \u001b[36m------------------------------------------------------------------------------------------------------------------------\u001b[39m\n",
      "cols(\n",
      "  dataset = \u001b[31mcol_character()\u001b[39m,\n",
      "  f1_macro_majority = \u001b[32mcol_double()\u001b[39m,\n",
      "  f1_macro_MC = \u001b[32mcol_double()\u001b[39m,\n",
      "  n = \u001b[32mcol_double()\u001b[39m\n",
      ")\n",
      "\n",
      "\n",
      "\n",
      "\u001b[36m--\u001b[39m \u001b[1m\u001b[1mColumn specification\u001b[1m\u001b[22m \u001b[36m------------------------------------------------------------------------------------------------------------------------\u001b[39m\n",
      "cols(\n",
      "  model = \u001b[32mcol_double()\u001b[39m,\n",
      "  ref_score = \u001b[32mcol_double()\u001b[39m\n",
      ")\n",
      "\n",
      "\n",
      "\n",
      "\u001b[36m--\u001b[39m \u001b[1m\u001b[1mColumn specification\u001b[1m\u001b[22m \u001b[36m------------------------------------------------------------------------------------------------------------------------\u001b[39m\n",
      "cols(\n",
      "  geneID = \u001b[31mcol_character()\u001b[39m,\n",
      "  mean_imp_0 = \u001b[32mcol_double()\u001b[39m,\n",
      "  score_pct_improvement_0 = \u001b[32mcol_double()\u001b[39m,\n",
      "  mean_imp_1 = \u001b[32mcol_double()\u001b[39m,\n",
      "  score_pct_improvement_1 = \u001b[32mcol_double()\u001b[39m,\n",
      "  mean_imp_2 = \u001b[32mcol_double()\u001b[39m,\n",
      "  score_pct_improvement_2 = \u001b[32mcol_double()\u001b[39m,\n",
      "  mean_imp_3 = \u001b[32mcol_double()\u001b[39m,\n",
      "  score_pct_improvement_3 = \u001b[32mcol_double()\u001b[39m,\n",
      "  mean_imp_4 = \u001b[32mcol_double()\u001b[39m,\n",
      "  score_pct_improvement_4 = \u001b[32mcol_double()\u001b[39m\n",
      ")\n",
      "\n",
      "\n",
      "\n",
      "\u001b[36m--\u001b[39m \u001b[1m\u001b[1mColumn specification\u001b[1m\u001b[22m \u001b[36m------------------------------------------------------------------------------------------------------------------------\u001b[39m\n",
      "cols(\n",
      "  .default = col_double(),\n",
      "  geneID = \u001b[31mcol_character()\u001b[39m,\n",
      "  module = \u001b[31mcol_character()\u001b[39m\n",
      ")\n",
      "\u001b[36mi\u001b[39m Use \u001b[30m\u001b[47m\u001b[30m\u001b[47m`spec()`\u001b[47m\u001b[30m\u001b[49m\u001b[39m for the full column specifications.\n",
      "\n",
      "\n",
      "\n",
      "\u001b[36m--\u001b[39m \u001b[1m\u001b[1mColumn specification\u001b[1m\u001b[22m \u001b[36m------------------------------------------------------------------------------------------------------------------------\u001b[39m\n",
      "cols(\n",
      "  module = \u001b[31mcol_character()\u001b[39m,\n",
      "  figo_stage_1_cor = \u001b[32mcol_double()\u001b[39m,\n",
      "  figo_stage_2_cor = \u001b[32mcol_double()\u001b[39m,\n",
      "  figo_stage_3_cor = \u001b[32mcol_double()\u001b[39m,\n",
      "  figo_stage_4_cor = \u001b[32mcol_double()\u001b[39m,\n",
      "  figo_stage_1_pval = \u001b[32mcol_double()\u001b[39m,\n",
      "  figo_stage_2_pval = \u001b[32mcol_double()\u001b[39m,\n",
      "  figo_stage_3_pval = \u001b[32mcol_double()\u001b[39m,\n",
      "  figo_stage_4_pval = \u001b[32mcol_double()\u001b[39m,\n",
      "  figo_stage_1_qval = \u001b[32mcol_double()\u001b[39m,\n",
      "  figo_stage_2_qval = \u001b[32mcol_double()\u001b[39m,\n",
      "  figo_stage_3_qval = \u001b[32mcol_double()\u001b[39m,\n",
      "  figo_stage_4_qval = \u001b[32mcol_double()\u001b[39m,\n",
      "  vital_hr = \u001b[32mcol_double()\u001b[39m,\n",
      "  vital_dev_cor = \u001b[32mcol_double()\u001b[39m,\n",
      "  vital_pval = \u001b[32mcol_double()\u001b[39m,\n",
      "  vital_qval = \u001b[32mcol_double()\u001b[39m\n",
      ")\n",
      "\n",
      "\n"
     ]
    }
   ],
   "source": [
    "matrisome_df <- rutils::load_matrisome_df(matrisome_list) %>%\n",
    "    dplyr::select(gene_symbol, division, category)\n",
    "norm_counts_df <- read_tsv(paste0(dirs$data_dir, \"/\", unified_dsets[dset_idx], \"/\", \"norm_counts.tsv\"))\n",
    "m_norm_counts_df <- norm_counts_df %>%\n",
    "    dplyr::filter(geneID %in% matrisome_df$gene_symbol)\n",
    "deseq_results_df <- read_tsv(paste0(dirs$analysis_dir, \"/deg/\", unified_dsets[dset_idx], \"_DESeq_results.tsv\")) %>%\n",
    "    rename(base_mean = baseMean, lfc = log2FoldChange)\n",
    "welch_anova_results_df <- read_tsv(paste0(dirs$analysis_dir, \"/feature_selection/\", unified_dsets[dset_idx], \"_welch_anova_results.tsv\"))\n",
    "mi_figo_results_df <- read_tsv(paste0(dirs$analysis_dir, \"/feature_selection/\", unified_dsets[dset_idx], \"_MI_figo_results.tsv\")) %>%\n",
    "    dplyr::rename(mi_est = MI_est_median)\n",
    "cls_baselines_df <- read_tsv(paste0(dirs$analysis_dir, \"/meta/\", \"cls_baselines.tsv\"))\n",
    "f1_l1_lr_scores_df <- read_tsv(paste0(dirs$analysis_dir, \"/feature_selection/\", unified_dsets[dset_idx], \"_l1_lr_ref_scores.tsv\"))\n",
    "f1_l1_lr_results_df <- read_tsv(paste0(dirs$analysis_dir, \"/feature_selection/\", unified_dsets[dset_idx], \"_l1_lr_results.tsv\")) %>%\n",
    "    get_consensus_col(n = consensus_n, thresh = consensus_thresh)\n",
    "network_mm_gs_df <- read_tsv(paste0(dirs$analysis_dir, \"/network/\", unified_dsets[dset_idx], \"_gene_mm_gs.tsv\"))\n",
    "network_me_sig_df <- read_tsv(paste0(dirs$analysis_dir, \"/network/\", unified_dsets[dset_idx], \"_eigengene_traits.tsv\"))\n",
    "lnames <- load(file = paste0(dirs$data_dir, \"/saved_network_objects/\", unified_dsets[dset_idx], \"_tumor_data.RData\"))\n",
    "lnames <- load(file = paste0(dirs$data_dir, \"/saved_network_objects/\", unified_dsets[dset_idx], \"_tumor_network.RData\"))"
   ]
  },
  {
   "cell_type": "markdown",
   "id": "electric-truck",
   "metadata": {},
   "source": [
    "# DGE analysis"
   ]
  },
  {
   "cell_type": "markdown",
   "id": "continent-genealogy",
   "metadata": {},
   "source": [
    "## DEG"
   ]
  },
  {
   "cell_type": "code",
   "execution_count": 7,
   "id": "emerging-nursery",
   "metadata": {},
   "outputs": [
    {
     "data": {
      "text/html": [
       "<dl>\n",
       "\t<dt>$n_deg</dt>\n",
       "\t\t<dd>7652</dd>\n",
       "\t<dt>$deg_prop</dt>\n",
       "\t\t<dd>0.378025886770082</dd>\n",
       "\t<dt>$n_up</dt>\n",
       "\t\t<dd>3966</dd>\n",
       "\t<dt>$n_down</dt>\n",
       "\t\t<dd>3686</dd>\n",
       "</dl>\n"
      ],
      "text/latex": [
       "\\begin{description}\n",
       "\\item[\\$n\\_deg] 7652\n",
       "\\item[\\$deg\\_prop] 0.378025886770082\n",
       "\\item[\\$n\\_up] 3966\n",
       "\\item[\\$n\\_down] 3686\n",
       "\\end{description}\n"
      ],
      "text/markdown": [
       "$n_deg\n",
       ":   7652\n",
       "$deg_prop\n",
       ":   0.378025886770082\n",
       "$n_up\n",
       ":   3966\n",
       "$n_down\n",
       ":   3686\n",
       "\n",
       "\n"
      ],
      "text/plain": [
       "$n_deg\n",
       "[1] 7652\n",
       "\n",
       "$deg_prop\n",
       "[1] 0.3780259\n",
       "\n",
       "$n_up\n",
       "[1] 3966\n",
       "\n",
       "$n_down\n",
       "[1] 3686\n"
      ]
     },
     "metadata": {},
     "output_type": "display_data"
    }
   ],
   "source": [
    "deg_meta_ls <- deg_meta(deseq_results_df, lfc_thresh, q_deg_thresh, nrow(norm_counts_df))\n",
    "deg_meta_ls[1:4]"
   ]
  },
  {
   "cell_type": "markdown",
   "id": "bottom-dayton",
   "metadata": {},
   "source": [
    "## DEMG"
   ]
  },
  {
   "cell_type": "code",
   "execution_count": 8,
   "id": "joined-joyce",
   "metadata": {},
   "outputs": [
    {
     "data": {
      "text/html": [
       "<dl>\n",
       "\t<dt>$n_deg</dt>\n",
       "\t\t<dd>593</dd>\n",
       "\t<dt>$deg_prop</dt>\n",
       "\t\t<dd>0.588293650793651</dd>\n",
       "\t<dt>$n_up</dt>\n",
       "\t\t<dd>262</dd>\n",
       "\t<dt>$n_down</dt>\n",
       "\t\t<dd>331</dd>\n",
       "</dl>\n"
      ],
      "text/latex": [
       "\\begin{description}\n",
       "\\item[\\$n\\_deg] 593\n",
       "\\item[\\$deg\\_prop] 0.588293650793651\n",
       "\\item[\\$n\\_up] 262\n",
       "\\item[\\$n\\_down] 331\n",
       "\\end{description}\n"
      ],
      "text/markdown": [
       "$n_deg\n",
       ":   593\n",
       "$deg_prop\n",
       ":   0.588293650793651\n",
       "$n_up\n",
       ":   262\n",
       "$n_down\n",
       ":   331\n",
       "\n",
       "\n"
      ],
      "text/plain": [
       "$n_deg\n",
       "[1] 593\n",
       "\n",
       "$deg_prop\n",
       "[1] 0.5882937\n",
       "\n",
       "$n_up\n",
       "[1] 262\n",
       "\n",
       "$n_down\n",
       "[1] 331\n"
      ]
     },
     "metadata": {},
     "output_type": "display_data"
    }
   ],
   "source": [
    "m_deseq_results_df <- deseq_results_df %>%\n",
    "    dplyr::filter(geneID %in% matrisome_df$gene_symbol)\n",
    "demg_meta_ls <- deg_meta(m_deseq_results_df, lfc_thresh, q_deg_thresh, nrow(m_norm_counts_df))\n",
    "demg_meta_ls[1:4]"
   ]
  },
  {
   "cell_type": "markdown",
   "id": "prime-health",
   "metadata": {},
   "source": [
    "# Uni/multivariate analysis"
   ]
  },
  {
   "cell_type": "markdown",
   "id": "ultimate-reservation",
   "metadata": {},
   "source": [
    "## Welch ANOVA"
   ]
  },
  {
   "cell_type": "code",
   "execution_count": 9,
   "id": "brilliant-guatemala",
   "metadata": {},
   "outputs": [
    {
     "data": {
      "text/html": [
       "<strong>$n_sig</strong> = 3"
      ],
      "text/latex": [
       "\\textbf{\\$n\\_sig} = 3"
      ],
      "text/markdown": [
       "**$n_sig** = 3"
      ],
      "text/plain": [
       "$n_sig\n",
       "[1] 3\n"
      ]
     },
     "metadata": {},
     "output_type": "display_data"
    }
   ],
   "source": [
    "anova_meta_ls <- simple_test_meta(welch_anova_results_df, q_anova_thresh)\n",
    "anova_meta_ls[1]"
   ]
  },
  {
   "cell_type": "markdown",
   "id": "informal-source",
   "metadata": {},
   "source": [
    "## MI"
   ]
  },
  {
   "cell_type": "code",
   "execution_count": 10,
   "id": "built-given",
   "metadata": {},
   "outputs": [
    {
     "data": {
      "text/html": [
       "<strong>$n_mi</strong> = 56"
      ],
      "text/latex": [
       "\\textbf{\\$n\\_mi} = 56"
      ],
      "text/markdown": [
       "**$n_mi** = 56"
      ],
      "text/plain": [
       "$n_mi\n",
       "[1] 56\n"
      ]
     },
     "metadata": {},
     "output_type": "display_data"
    }
   ],
   "source": [
    "mi_meta_ls <- mi_meta(mi_figo_results_df, 50)\n",
    "mi_meta_ls[1]"
   ]
  },
  {
   "cell_type": "markdown",
   "id": "divine-kidney",
   "metadata": {},
   "source": [
    "# ML baselines"
   ]
  },
  {
   "cell_type": "code",
   "execution_count": 11,
   "id": "cutting-survival",
   "metadata": {},
   "outputs": [
    {
     "data": {
      "text/html": [
       "<dl>\n",
       "\t<dt>$dataset</dt>\n",
       "\t\t<dd>'unified_cervical_data'</dd>\n",
       "\t<dt>$naive</dt>\n",
       "\t\t<dd>0.173076923076923</dd>\n",
       "\t<dt>$mc</dt>\n",
       "\t\t<dd>0.249366341763292</dd>\n",
       "\t<dt>$n_obs</dt>\n",
       "\t\t<dd>255</dd>\n",
       "</dl>\n"
      ],
      "text/latex": [
       "\\begin{description}\n",
       "\\item[\\$dataset] 'unified\\_cervical\\_data'\n",
       "\\item[\\$naive] 0.173076923076923\n",
       "\\item[\\$mc] 0.249366341763292\n",
       "\\item[\\$n\\_obs] 255\n",
       "\\end{description}\n"
      ],
      "text/markdown": [
       "$dataset\n",
       ":   'unified_cervical_data'\n",
       "$naive\n",
       ":   0.173076923076923\n",
       "$mc\n",
       ":   0.249366341763292\n",
       "$n_obs\n",
       ":   255\n",
       "\n",
       "\n"
      ],
      "text/plain": [
       "$dataset\n",
       "[1] \"unified_cervical_data\"\n",
       "\n",
       "$naive\n",
       "[1] 0.1730769\n",
       "\n",
       "$mc\n",
       "[1] 0.2493663\n",
       "\n",
       "$n_obs\n",
       "[1] 255\n"
      ]
     },
     "metadata": {},
     "output_type": "display_data"
    }
   ],
   "source": [
    "cls_baselines <- as.list(cls_baselines_df[dset_idx,])\n",
    "names(cls_baselines) <- c(\"dataset\", \"naive\", \"mc\", \"n_obs\")\n",
    "f1_macro_majority_baseline <- cls_baselines$naive\n",
    "f1_macro_mc_baseline <- cls_baselines$mc\n",
    "cls_baselines"
   ]
  },
  {
   "cell_type": "markdown",
   "id": "occasional-minutes",
   "metadata": {},
   "source": [
    "# LR (L1)"
   ]
  },
  {
   "cell_type": "code",
   "execution_count": 12,
   "id": "minimal-export",
   "metadata": {},
   "outputs": [
    {
     "data": {
      "text/html": [
       "<dl>\n",
       "\t<dt>$avg_score</dt>\n",
       "\t\t<dd>0.335966034453971</dd>\n",
       "\t<dt>$naive_pct_imp</dt>\n",
       "\t\t<dd>94.1137087956279</dd>\n",
       "\t<dt>$mc_pct_imp</dt>\n",
       "\t\t<dd>34.7278995546575</dd>\n",
       "\t<dt>$n_genes</dt>\n",
       "\t\t<dd>192</dd>\n",
       "</dl>\n"
      ],
      "text/latex": [
       "\\begin{description}\n",
       "\\item[\\$avg\\_score] 0.335966034453971\n",
       "\\item[\\$naive\\_pct\\_imp] 94.1137087956279\n",
       "\\item[\\$mc\\_pct\\_imp] 34.7278995546575\n",
       "\\item[\\$n\\_genes] 192\n",
       "\\end{description}\n"
      ],
      "text/markdown": [
       "$avg_score\n",
       ":   0.335966034453971\n",
       "$naive_pct_imp\n",
       ":   94.1137087956279\n",
       "$mc_pct_imp\n",
       ":   34.7278995546575\n",
       "$n_genes\n",
       ":   192\n",
       "\n",
       "\n"
      ],
      "text/plain": [
       "$avg_score\n",
       "[1] 0.335966\n",
       "\n",
       "$naive_pct_imp\n",
       "[1] 94.11371\n",
       "\n",
       "$mc_pct_imp\n",
       "[1] 34.7279\n",
       "\n",
       "$n_genes\n",
       "[1] 192\n"
      ]
     },
     "metadata": {},
     "output_type": "display_data"
    }
   ],
   "source": [
    "lr_l1_meta_ls <- lr_l1_meta(f1_l1_lr_scores_df, f1_l1_lr_results_df, cls_baselines)\n",
    "lr_l1_meta_ls[1:4]"
   ]
  },
  {
   "cell_type": "markdown",
   "id": "lasting-kitty",
   "metadata": {},
   "source": [
    "# WGCNA"
   ]
  },
  {
   "cell_type": "code",
   "execution_count": 13,
   "id": "dated-section",
   "metadata": {},
   "outputs": [
    {
     "name": "stderr",
     "output_type": "stream",
     "text": [
      "\n",
      "\n"
     ]
    }
   ],
   "source": [
    "hub_df <- get_most_conn_genes(data_expr, module_colors, soft_power, conn_vs_hub_thresh = hub_con_thresh) %>%\n",
    "    bind_rows(.id = \"module\") %>%\n",
    "    dplyr::select(geneID, everything())"
   ]
  },
  {
   "cell_type": "code",
   "execution_count": 14,
   "id": "acting-conducting",
   "metadata": {},
   "outputs": [
    {
     "ename": "ERROR",
     "evalue": "Error in wgcna_meta(network_me_sig_df, network_mm_gs_df, q_me_thresh, : could not find function \"wgcna_meta\"\n",
     "output_type": "error",
     "traceback": [
      "Error in wgcna_meta(network_me_sig_df, network_mm_gs_df, q_me_thresh, : could not find function \"wgcna_meta\"\nTraceback:\n"
     ]
    }
   ],
   "source": [
    "wgcna_meta_ls <- wgcna_meta(network_me_sig_df, network_mm_gs_df, q_me_thresh, p_thresh, hub_df$geneID)\n",
    "wgcna_meta_ls[1:2]"
   ]
  },
  {
   "cell_type": "markdown",
   "id": "brazilian-apple",
   "metadata": {},
   "source": [
    "# Create Lists"
   ]
  },
  {
   "cell_type": "code",
   "execution_count": null,
   "id": "choice-receptor",
   "metadata": {},
   "outputs": [],
   "source": [
    "deg_list <- deg_meta_ls$genes\n",
    "demg_list <- demg_meta_ls$genes\n",
    "umsmg_list <- lr_l1_meta_ls$genes %>%\n",
    "    union(anova_meta_ls$genes) %>%\n",
    "    union(mi_meta_ls$genes)\n",
    "nsmg_list <- wgcna_meta_ls$genes\n",
    "umsmg_demg_list <- umsmg_list %>%\n",
    "    intersect(demg_list)\n",
    "nsmg_demg_list <- nsmg_list %>%\n",
    "    intersect(demg_list)\n",
    "umsmg_nsmg_demg_list <- intersect(umsmg_demg_list, nsmg_demg_list)"
   ]
  },
  {
   "cell_type": "code",
   "execution_count": null,
   "id": "shaped-parcel",
   "metadata": {},
   "outputs": [],
   "source": [
    "length(deg_list)\n",
    "length(demg_list)\n",
    "length(umsmg_list)\n",
    "length(nsmg_list)\n",
    "length(umsmg_demg_list)\n",
    "length(nsmg_demg_list)\n",
    "length(umsmg_nsmg_demg_list)"
   ]
  },
  {
   "cell_type": "markdown",
   "id": "secret-vitamin",
   "metadata": {},
   "source": [
    "# Save lists"
   ]
  },
  {
   "cell_type": "code",
   "execution_count": null,
   "id": "apparent-quantum",
   "metadata": {},
   "outputs": [],
   "source": [
    "if (save_lists) {\n",
    "    write_lines(deg_list, paste0(dirs$analysis_dir, \"/gene_lists/\", unified_dsets[dset_idx], \"_deg_list.txt\"))\n",
    "    write_lines(demg_list, paste0(dirs$analysis_dir, \"/gene_lists/\", unified_dsets[dset_idx], \"_demg_list.txt\"))\n",
    "    write_lines(umsmg_list, paste0(dirs$analysis_dir, \"/gene_lists/\", unified_dsets[dset_idx], \"_umsmg_list.txt\"))\n",
    "    write_lines(nsmg_list, paste0(dirs$analysis_dir, \"/gene_lists/\", unified_dsets[dset_idx], \"_nsmg_hub_thresh_\", hub_con_thresh, \"_list.txt\"))\n",
    "    write_lines(umsmg_demg_list, paste0(dirs$analysis_dir, \"/gene_lists/\", unified_dsets[dset_idx], \"_umsmg_demg_list.txt\"))\n",
    "    write_lines(nsmg_demg_list, paste0(dirs$analysis_dir, \"/gene_lists/\", unified_dsets[dset_idx], \"_nsmg_hub_thresh_\", hub_con_thresh, \"_demg_list.txt\"))\n",
    "    write_lines(umsmg_nsmg_demg_list, paste0(dirs$analysis_dir, \"/gene_lists/\", unified_dsets[dset_idx], \"_umsmg_nsmg_hub_thresh_\", hub_con_thresh, \"_demg_list.txt\"))\n",
    "}"
   ]
  },
  {
   "cell_type": "code",
   "execution_count": null,
   "id": "assured-magnitude",
   "metadata": {},
   "outputs": [],
   "source": []
  }
 ],
 "metadata": {
  "kernelspec": {
   "display_name": "R",
   "language": "R",
   "name": "ir"
  },
  "language_info": {
   "codemirror_mode": "r",
   "file_extension": ".r",
   "mimetype": "text/x-r-source",
   "name": "R",
   "pygments_lexer": "r",
   "version": "4.0.3"
  }
 },
 "nbformat": 4,
 "nbformat_minor": 5
}
