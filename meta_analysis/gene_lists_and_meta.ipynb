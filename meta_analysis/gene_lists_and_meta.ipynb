{
 "cells": [
  {
   "cell_type": "code",
   "execution_count": 1,
   "id": "hydraulic-cancer",
   "metadata": {},
   "outputs": [
    {
     "name": "stderr",
     "output_type": "stream",
     "text": [
      "-- \u001b[1mAttaching packages\u001b[22m ---------------------------------------------------------------------- tidyverse 1.3.0 --\n",
      "\n",
      "\u001b[32mv\u001b[39m \u001b[34mggplot2\u001b[39m 3.3.3     \u001b[32mv\u001b[39m \u001b[34mpurrr  \u001b[39m 0.3.4\n",
      "\u001b[32mv\u001b[39m \u001b[34mtibble \u001b[39m 3.0.6     \u001b[32mv\u001b[39m \u001b[34mdplyr  \u001b[39m 1.0.4\n",
      "\u001b[32mv\u001b[39m \u001b[34mtidyr  \u001b[39m 1.1.2     \u001b[32mv\u001b[39m \u001b[34mstringr\u001b[39m 1.4.0\n",
      "\u001b[32mv\u001b[39m \u001b[34mreadr  \u001b[39m 1.4.0     \u001b[32mv\u001b[39m \u001b[34mforcats\u001b[39m 0.5.1\n",
      "\n",
      "-- \u001b[1mConflicts\u001b[22m ------------------------------------------------------------------------- tidyverse_conflicts() --\n",
      "\u001b[31mx\u001b[39m \u001b[34mdplyr\u001b[39m::\u001b[32mfilter()\u001b[39m masks \u001b[34mstats\u001b[39m::filter()\n",
      "\u001b[31mx\u001b[39m \u001b[34mdplyr\u001b[39m::\u001b[32mlag()\u001b[39m    masks \u001b[34mstats\u001b[39m::lag()\n",
      "\n"
     ]
    }
   ],
   "source": [
    "library(tidyverse)\n",
    "\n",
    "# Custom package\n",
    "library(rutils)"
   ]
  },
  {
   "cell_type": "code",
   "execution_count": 2,
   "id": "informational-denmark",
   "metadata": {},
   "outputs": [],
   "source": [
    "dirs <- rutils::get_dev_directories(dev_paths_file = \"../dev_paths.txt\")\n",
    "projects <- c(\"TCGA-CESC\", \"TCGA-UCS\", \"TCGA-UCEC\", \"TCGA-OV\")\n",
    "unified_dsets <- c(\"unified_cervical_data\", \"unified_uterine_data\", \"unified_uterine_endometrial_data\")\n",
    "matrisome_list <- paste0(dirs$data_dir, \"/matrisome/matrisome_hs_masterlist.tsv\")"
   ]
  },
  {
   "cell_type": "code",
   "execution_count": 3,
   "id": "criminal-ghost",
   "metadata": {},
   "outputs": [],
   "source": [
    "dset_idx <- 3\n",
    "save_lists <- TRUE"
   ]
  },
  {
   "cell_type": "code",
   "execution_count": 4,
   "id": "representative-radiation",
   "metadata": {},
   "outputs": [],
   "source": [
    "p_thresh <- 0.05\n",
    "lfc_thresh <- log2(2)\n",
    "# hub_con_thresh <- 0\n",
    "q_deg_thresh <- 0.05\n",
    "q_anova_thresh <- 0.05\n",
    "q_me_thresh <- 0.05\n",
    "cph_coeff_thresh <- 0.0\n",
    "q_pbc_thresh <- 0.05\n",
    "q_cts_thresh <- 0.05\n",
    "q_univ_surv_thresh <- 0.05\n",
    "p_mm_thresh <- 0.05"
   ]
  },
  {
   "cell_type": "markdown",
   "id": "alpha-player",
   "metadata": {},
   "source": [
    "# Data"
   ]
  },
  {
   "cell_type": "code",
   "execution_count": 5,
   "id": "classical-julian",
   "metadata": {},
   "outputs": [
    {
     "name": "stderr",
     "output_type": "stream",
     "text": [
      "\n",
      "\u001b[36m--\u001b[39m \u001b[1m\u001b[1mColumn specification\u001b[1m\u001b[22m \u001b[36m---------------------------------------------------------------------------------------\u001b[39m\n",
      "cols(\n",
      "  Division = \u001b[31mcol_character()\u001b[39m,\n",
      "  Category = \u001b[31mcol_character()\u001b[39m,\n",
      "  `Gene Symbol` = \u001b[31mcol_character()\u001b[39m,\n",
      "  `Gene Name` = \u001b[31mcol_character()\u001b[39m,\n",
      "  Synonyms = \u001b[31mcol_character()\u001b[39m,\n",
      "  HGNC_IDs = \u001b[32mcol_double()\u001b[39m,\n",
      "  `HGNC_IDs Links` = \u001b[32mcol_double()\u001b[39m,\n",
      "  UniProt_IDs = \u001b[31mcol_character()\u001b[39m,\n",
      "  Refseq_IDs = \u001b[31mcol_character()\u001b[39m,\n",
      "  Orthology = \u001b[31mcol_character()\u001b[39m,\n",
      "  Notes = \u001b[31mcol_character()\u001b[39m\n",
      ")\n",
      "\n",
      "\n",
      "\n",
      "\u001b[36m--\u001b[39m \u001b[1m\u001b[1mColumn specification\u001b[1m\u001b[22m \u001b[36m---------------------------------------------------------------------------------------\u001b[39m\n",
      "cols(\n",
      "  .default = col_double(),\n",
      "  geneID = \u001b[31mcol_character()\u001b[39m\n",
      ")\n",
      "\u001b[36mi\u001b[39m Use \u001b[30m\u001b[47m\u001b[30m\u001b[47m`spec()`\u001b[47m\u001b[30m\u001b[49m\u001b[39m for the full column specifications.\n",
      "\n",
      "\n",
      "\n",
      "\u001b[36m--\u001b[39m \u001b[1m\u001b[1mColumn specification\u001b[1m\u001b[22m \u001b[36m---------------------------------------------------------------------------------------\u001b[39m\n",
      "cols(\n",
      "  geneID = \u001b[31mcol_character()\u001b[39m,\n",
      "  baseMean = \u001b[32mcol_double()\u001b[39m,\n",
      "  log2FoldChange = \u001b[32mcol_double()\u001b[39m,\n",
      "  lfcSE = \u001b[32mcol_double()\u001b[39m,\n",
      "  stat = \u001b[32mcol_double()\u001b[39m,\n",
      "  pvalue = \u001b[32mcol_double()\u001b[39m,\n",
      "  padj = \u001b[32mcol_double()\u001b[39m,\n",
      "  qval = \u001b[32mcol_double()\u001b[39m\n",
      ")\n",
      "\n",
      "\n",
      "\n",
      "\u001b[36m--\u001b[39m \u001b[1m\u001b[1mColumn specification\u001b[1m\u001b[22m \u001b[36m---------------------------------------------------------------------------------------\u001b[39m\n",
      "cols(\n",
      "  geneID = \u001b[31mcol_character()\u001b[39m,\n",
      "  coeff = \u001b[32mcol_double()\u001b[39m\n",
      ")\n",
      "\n",
      "\n",
      "\n",
      "\u001b[36m--\u001b[39m \u001b[1m\u001b[1mColumn specification\u001b[1m\u001b[22m \u001b[36m---------------------------------------------------------------------------------------\u001b[39m\n",
      "cols(\n",
      "  geneID = \u001b[31mcol_character()\u001b[39m,\n",
      "  vital_pval = \u001b[32mcol_double()\u001b[39m,\n",
      "  vital_qval = \u001b[32mcol_double()\u001b[39m,\n",
      "  hr = \u001b[32mcol_double()\u001b[39m\n",
      ")\n",
      "\n",
      "\n",
      "\n",
      "\u001b[36m--\u001b[39m \u001b[1m\u001b[1mColumn specification\u001b[1m\u001b[22m \u001b[36m---------------------------------------------------------------------------------------\u001b[39m\n",
      "cols(\n",
      "  geneID = \u001b[31mcol_character()\u001b[39m,\n",
      "  km_pval = \u001b[32mcol_double()\u001b[39m,\n",
      "  km_qval = \u001b[32mcol_double()\u001b[39m,\n",
      "  cph_pval = \u001b[32mcol_double()\u001b[39m,\n",
      "  cph_qval = \u001b[32mcol_double()\u001b[39m,\n",
      "  coeff = \u001b[32mcol_double()\u001b[39m\n",
      ")\n",
      "\n",
      "\n",
      "\n",
      "\u001b[36m--\u001b[39m \u001b[1m\u001b[1mColumn specification\u001b[1m\u001b[22m \u001b[36m---------------------------------------------------------------------------------------\u001b[39m\n",
      "cols(\n",
      "  geneID = \u001b[31mcol_character()\u001b[39m,\n",
      "  figo_stage_1_coefs = \u001b[32mcol_double()\u001b[39m,\n",
      "  figo_stage_2_coefs = \u001b[32mcol_double()\u001b[39m,\n",
      "  figo_stage_3_coefs = \u001b[32mcol_double()\u001b[39m,\n",
      "  figo_stage_4_coefs = \u001b[32mcol_double()\u001b[39m\n",
      ")\n",
      "\n",
      "\n",
      "\n",
      "\u001b[36m--\u001b[39m \u001b[1m\u001b[1mColumn specification\u001b[1m\u001b[22m \u001b[36m---------------------------------------------------------------------------------------\u001b[39m\n",
      "cols(\n",
      "  geneID = \u001b[31mcol_character()\u001b[39m,\n",
      "  figo_stage_1_pval = \u001b[32mcol_double()\u001b[39m,\n",
      "  figo_stage_2_pval = \u001b[32mcol_double()\u001b[39m,\n",
      "  figo_stage_3_pval = \u001b[32mcol_double()\u001b[39m,\n",
      "  figo_stage_4_pval = \u001b[32mcol_double()\u001b[39m,\n",
      "  figo_stage_1_qval = \u001b[32mcol_double()\u001b[39m,\n",
      "  figo_stage_2_qval = \u001b[32mcol_double()\u001b[39m,\n",
      "  figo_stage_3_qval = \u001b[32mcol_double()\u001b[39m,\n",
      "  figo_stage_4_qval = \u001b[32mcol_double()\u001b[39m,\n",
      "  figo_stage_1_cor = \u001b[32mcol_double()\u001b[39m,\n",
      "  figo_stage_2_cor = \u001b[32mcol_double()\u001b[39m,\n",
      "  figo_stage_3_cor = \u001b[32mcol_double()\u001b[39m,\n",
      "  figo_stage_4_cor = \u001b[32mcol_double()\u001b[39m\n",
      ")\n",
      "\n",
      "\n",
      "\n",
      "\u001b[36m--\u001b[39m \u001b[1m\u001b[1mColumn specification\u001b[1m\u001b[22m \u001b[36m---------------------------------------------------------------------------------------\u001b[39m\n",
      "cols(\n",
      "  geneID = \u001b[31mcol_character()\u001b[39m,\n",
      "  pval = \u001b[32mcol_double()\u001b[39m,\n",
      "  padj = \u001b[32mcol_double()\u001b[39m,\n",
      "  qval = \u001b[32mcol_double()\u001b[39m\n",
      ")\n",
      "\n",
      "\n",
      "\n",
      "\u001b[36m--\u001b[39m \u001b[1m\u001b[1mColumn specification\u001b[1m\u001b[22m \u001b[36m---------------------------------------------------------------------------------------\u001b[39m\n",
      "cols(\n",
      "  .default = col_double(),\n",
      "  geneID = \u001b[31mcol_character()\u001b[39m,\n",
      "  module = \u001b[31mcol_character()\u001b[39m\n",
      ")\n",
      "\u001b[36mi\u001b[39m Use \u001b[30m\u001b[47m\u001b[30m\u001b[47m`spec()`\u001b[47m\u001b[30m\u001b[49m\u001b[39m for the full column specifications.\n",
      "\n",
      "\n",
      "\n",
      "\u001b[36m--\u001b[39m \u001b[1m\u001b[1mColumn specification\u001b[1m\u001b[22m \u001b[36m---------------------------------------------------------------------------------------\u001b[39m\n",
      "cols(\n",
      "  module = \u001b[31mcol_character()\u001b[39m,\n",
      "  figo_stage_1_cor = \u001b[32mcol_double()\u001b[39m,\n",
      "  figo_stage_2_cor = \u001b[32mcol_double()\u001b[39m,\n",
      "  figo_stage_3_cor = \u001b[32mcol_double()\u001b[39m,\n",
      "  figo_stage_4_cor = \u001b[32mcol_double()\u001b[39m,\n",
      "  figo_stage_1_pval = \u001b[32mcol_double()\u001b[39m,\n",
      "  figo_stage_2_pval = \u001b[32mcol_double()\u001b[39m,\n",
      "  figo_stage_3_pval = \u001b[32mcol_double()\u001b[39m,\n",
      "  figo_stage_4_pval = \u001b[32mcol_double()\u001b[39m,\n",
      "  figo_stage_1_qval = \u001b[32mcol_double()\u001b[39m,\n",
      "  figo_stage_2_qval = \u001b[32mcol_double()\u001b[39m,\n",
      "  figo_stage_3_qval = \u001b[32mcol_double()\u001b[39m,\n",
      "  figo_stage_4_qval = \u001b[32mcol_double()\u001b[39m,\n",
      "  vital_hr = \u001b[32mcol_double()\u001b[39m,\n",
      "  vital_dev_cor = \u001b[32mcol_double()\u001b[39m,\n",
      "  vital_pval = \u001b[32mcol_double()\u001b[39m,\n",
      "  vital_qval = \u001b[32mcol_double()\u001b[39m\n",
      ")\n",
      "\n",
      "\n"
     ]
    }
   ],
   "source": [
    "matrisome_df <- rutils::load_matrisome_df(matrisome_list) %>%\n",
    "    dplyr::select(gene_symbol, division, category)\n",
    "norm_counts_df <- read_tsv(paste0(dirs$data_dir, \"/\", unified_dsets[dset_idx], \"/\", \"norm_counts.tsv\"))\n",
    "m_norm_counts_df <- norm_counts_df %>%\n",
    "    dplyr::filter(geneID %in% matrisome_df$gene_symbol)\n",
    "\n",
    "deseq_results_df <- read_tsv(paste0(dirs$analysis_dir, \"/deg/\", unified_dsets[dset_idx], \"_DESeq_results.tsv\")) %>%\n",
    "    rename(base_mean = baseMean, lfc = log2FoldChange)\n",
    "\n",
    "en_cph_df <- read_tsv(paste0(dirs$analysis_dir, \"/feature_selection/\", unified_dsets[dset_idx], \"_en_cph_results.tsv\"))\n",
    "cts_df <- read_tsv(paste0(dirs$analysis_dir, \"/feature_selection/\", unified_dsets[dset_idx], \"_survival_cts_results.tsv\"))\n",
    "univ_survival_df <- read_tsv(paste0(dirs$analysis_dir, \"/feature_selection/\", unified_dsets[dset_idx], \"_univ_survival_results.tsv\"))\n",
    "\n",
    "en_multinom_df <- read_tsv(paste0(dirs$analysis_dir, \"/feature_selection/\", unified_dsets[dset_idx], \"_en_multinom_results.tsv\"))\n",
    "pbc_df <- read_tsv(paste0(dirs$analysis_dir, \"/feature_selection/\", unified_dsets[dset_idx], \"_pbc_results.tsv\"))\n",
    "anova_df <- read_tsv(paste0(dirs$analysis_dir, \"/feature_selection/\", unified_dsets[dset_idx], \"_welch_anova_results.tsv\"))\n",
    "\n",
    "network_mm_gs_df <- read_tsv(paste0(dirs$analysis_dir, \"/network/\", unified_dsets[dset_idx], \"_gene_mm_gs.tsv\"))\n",
    "network_me_sig_df <- read_tsv(paste0(dirs$analysis_dir, \"/network/\", unified_dsets[dset_idx], \"_eigengene_traits.tsv\"))\n",
    "lnames <- load(file = paste0(dirs$data_dir, \"/saved_network_objects/\", unified_dsets[dset_idx], \"_tumor_data.RData\"))\n",
    "lnames <- load(file = paste0(dirs$data_dir, \"/saved_network_objects/\", unified_dsets[dset_idx], \"_tumor_network.RData\"))"
   ]
  },
  {
   "cell_type": "markdown",
   "id": "starting-collapse",
   "metadata": {},
   "source": [
    "# DGE analysis"
   ]
  },
  {
   "cell_type": "markdown",
   "id": "mineral-genius",
   "metadata": {},
   "source": [
    "## DEG"
   ]
  },
  {
   "cell_type": "code",
   "execution_count": 6,
   "id": "chief-exchange",
   "metadata": {},
   "outputs": [
    {
     "data": {
      "text/html": [
       "<dl>\n",
       "\t<dt>$n_deg</dt>\n",
       "\t\t<dd>8229</dd>\n",
       "\t<dt>$deg_prop</dt>\n",
       "\t\t<dd>0.406530975200079</dd>\n",
       "\t<dt>$n_up</dt>\n",
       "\t\t<dd>4862</dd>\n",
       "\t<dt>$n_down</dt>\n",
       "\t\t<dd>3367</dd>\n",
       "</dl>\n"
      ],
      "text/latex": [
       "\\begin{description}\n",
       "\\item[\\$n\\_deg] 8229\n",
       "\\item[\\$deg\\_prop] 0.406530975200079\n",
       "\\item[\\$n\\_up] 4862\n",
       "\\item[\\$n\\_down] 3367\n",
       "\\end{description}\n"
      ],
      "text/markdown": [
       "$n_deg\n",
       ":   8229\n",
       "$deg_prop\n",
       ":   0.406530975200079\n",
       "$n_up\n",
       ":   4862\n",
       "$n_down\n",
       ":   3367\n",
       "\n",
       "\n"
      ],
      "text/plain": [
       "$n_deg\n",
       "[1] 8229\n",
       "\n",
       "$deg_prop\n",
       "[1] 0.406531\n",
       "\n",
       "$n_up\n",
       "[1] 4862\n",
       "\n",
       "$n_down\n",
       "[1] 3367\n"
      ]
     },
     "metadata": {},
     "output_type": "display_data"
    }
   ],
   "source": [
    "deg_meta_ls <- deg_meta(deseq_results_df, lfc_thresh, q_deg_thresh, nrow(norm_counts_df))\n",
    "deg_meta_ls[1:4]"
   ]
  },
  {
   "cell_type": "markdown",
   "id": "tired-price",
   "metadata": {},
   "source": [
    "## DEMG"
   ]
  },
  {
   "cell_type": "code",
   "execution_count": 7,
   "id": "spread-sussex",
   "metadata": {},
   "outputs": [
    {
     "data": {
      "text/html": [
       "<dl>\n",
       "\t<dt>$n_deg</dt>\n",
       "\t\t<dd>618</dd>\n",
       "\t<dt>$deg_prop</dt>\n",
       "\t\t<dd>0.613095238095238</dd>\n",
       "\t<dt>$n_up</dt>\n",
       "\t\t<dd>317</dd>\n",
       "\t<dt>$n_down</dt>\n",
       "\t\t<dd>301</dd>\n",
       "</dl>\n"
      ],
      "text/latex": [
       "\\begin{description}\n",
       "\\item[\\$n\\_deg] 618\n",
       "\\item[\\$deg\\_prop] 0.613095238095238\n",
       "\\item[\\$n\\_up] 317\n",
       "\\item[\\$n\\_down] 301\n",
       "\\end{description}\n"
      ],
      "text/markdown": [
       "$n_deg\n",
       ":   618\n",
       "$deg_prop\n",
       ":   0.613095238095238\n",
       "$n_up\n",
       ":   317\n",
       "$n_down\n",
       ":   301\n",
       "\n",
       "\n"
      ],
      "text/plain": [
       "$n_deg\n",
       "[1] 618\n",
       "\n",
       "$deg_prop\n",
       "[1] 0.6130952\n",
       "\n",
       "$n_up\n",
       "[1] 317\n",
       "\n",
       "$n_down\n",
       "[1] 301\n"
      ]
     },
     "metadata": {},
     "output_type": "display_data"
    }
   ],
   "source": [
    "m_deseq_results_df <- deseq_results_df %>%\n",
    "    dplyr::filter(geneID %in% matrisome_df$gene_symbol)\n",
    "demg_meta_ls <- deg_meta(m_deseq_results_df, lfc_thresh, q_deg_thresh, nrow(m_norm_counts_df))\n",
    "demg_meta_ls[1:4]"
   ]
  },
  {
   "cell_type": "code",
   "execution_count": 8,
   "id": "lightweight-pierre",
   "metadata": {},
   "outputs": [
    {
     "data": {
      "text/html": [
       "<table class=\"dataframe\">\n",
       "<caption>A tibble: 6 × 3</caption>\n",
       "<thead>\n",
       "\t<tr><th></th><th scope=col>category</th><th scope=col>n_cat</th><th scope=col>pct_de</th></tr>\n",
       "\t<tr><th></th><th scope=col>&lt;chr&gt;</th><th scope=col>&lt;int&gt;</th><th scope=col>&lt;dbl&gt;</th></tr>\n",
       "</thead>\n",
       "<tbody>\n",
       "\t<tr><th scope=row>1</th><td>Collagens              </td><td> 43</td><td>67</td></tr>\n",
       "\t<tr><th scope=row>2</th><td>ECM Glycoproteins      </td><td>192</td><td>63</td></tr>\n",
       "\t<tr><th scope=row>3</th><td>ECM Regulators         </td><td>233</td><td>61</td></tr>\n",
       "\t<tr><th scope=row>4</th><td>ECM-affiliated Proteins</td><td>168</td><td>59</td></tr>\n",
       "\t<tr><th scope=row>5</th><td>Proteoglycans          </td><td> 35</td><td>69</td></tr>\n",
       "\t<tr><th scope=row>6</th><td>Secreted Factors       </td><td>337</td><td>60</td></tr>\n",
       "</tbody>\n",
       "</table>\n"
      ],
      "text/latex": [
       "A tibble: 6 × 3\n",
       "\\begin{tabular}{r|lll}\n",
       "  & category & n\\_cat & pct\\_de\\\\\n",
       "  & <chr> & <int> & <dbl>\\\\\n",
       "\\hline\n",
       "\t1 & Collagens               &  43 & 67\\\\\n",
       "\t2 & ECM Glycoproteins       & 192 & 63\\\\\n",
       "\t3 & ECM Regulators          & 233 & 61\\\\\n",
       "\t4 & ECM-affiliated Proteins & 168 & 59\\\\\n",
       "\t5 & Proteoglycans           &  35 & 69\\\\\n",
       "\t6 & Secreted Factors        & 337 & 60\\\\\n",
       "\\end{tabular}\n"
      ],
      "text/markdown": [
       "\n",
       "A tibble: 6 × 3\n",
       "\n",
       "| <!--/--> | category &lt;chr&gt; | n_cat &lt;int&gt; | pct_de &lt;dbl&gt; |\n",
       "|---|---|---|---|\n",
       "| 1 | Collagens               |  43 | 67 |\n",
       "| 2 | ECM Glycoproteins       | 192 | 63 |\n",
       "| 3 | ECM Regulators          | 233 | 61 |\n",
       "| 4 | ECM-affiliated Proteins | 168 | 59 |\n",
       "| 5 | Proteoglycans           |  35 | 69 |\n",
       "| 6 | Secreted Factors        | 337 | 60 |\n",
       "\n"
      ],
      "text/plain": [
       "  category                n_cat pct_de\n",
       "1 Collagens                43   67    \n",
       "2 ECM Glycoproteins       192   63    \n",
       "3 ECM Regulators          233   61    \n",
       "4 ECM-affiliated Proteins 168   59    \n",
       "5 Proteoglycans            35   69    \n",
       "6 Secreted Factors        337   60    "
      ]
     },
     "metadata": {},
     "output_type": "display_data"
    }
   ],
   "source": [
    "matrisome_df %>%\n",
    "    filter(gene_symbol %in% norm_counts_df$geneID) %>%\n",
    "    rename(geneID = gene_symbol) %>%\n",
    "    left_join(deseq_results_df, by = c(\"geneID\")) %>%\n",
    "    mutate(de = abs(lfc) > lfc_thresh & qval < q_deg_thresh) %>%\n",
    "    group_by(category) %>%\n",
    "    summarize(n_cat = n(), pct_de = round(sum(de, na.rm = TRUE) / n_cat * 100))\n",
    "# deseq_results_df %>%\n",
    "#     inner_join(matrisome_df, by = c(\"geneID\" = \"gene_symbol\")) %>%\n",
    "#     select(geneID, category, lfc, qval) %>%\n",
    "#     mutate(de = )"
   ]
  },
  {
   "cell_type": "markdown",
   "id": "better-contractor",
   "metadata": {},
   "source": [
    "# Uni/multivariate analysis"
   ]
  },
  {
   "cell_type": "markdown",
   "id": "turkish-tobago",
   "metadata": {},
   "source": [
    "## FIGO"
   ]
  },
  {
   "cell_type": "markdown",
   "id": "alien-privacy",
   "metadata": {},
   "source": [
    "### LASSO multinomial regression"
   ]
  },
  {
   "cell_type": "code",
   "execution_count": 9,
   "id": "under-scottish",
   "metadata": {},
   "outputs": [
    {
     "data": {
      "text/html": [
       "<strong>$n_var</strong> = 20"
      ],
      "text/latex": [
       "\\textbf{\\$n\\_var} = 20"
      ],
      "text/markdown": [
       "**$n_var** = 20"
      ],
      "text/plain": [
       "$n_var\n",
       "[1] 20\n"
      ]
     },
     "metadata": {},
     "output_type": "display_data"
    }
   ],
   "source": [
    "en_multinom_meta_ls <- list(n_var = nrow(en_multinom_df), genes = en_multinom_df$geneID)\n",
    "en_multinom_meta_ls[1]"
   ]
  },
  {
   "cell_type": "markdown",
   "id": "promotional-pride",
   "metadata": {},
   "source": [
    "### Welch ANOVA"
   ]
  },
  {
   "cell_type": "code",
   "execution_count": 10,
   "id": "apart-objective",
   "metadata": {},
   "outputs": [
    {
     "data": {
      "text/html": [
       "<strong>$n_sig</strong> = 17"
      ],
      "text/latex": [
       "\\textbf{\\$n\\_sig} = 17"
      ],
      "text/markdown": [
       "**$n_sig** = 17"
      ],
      "text/plain": [
       "$n_sig\n",
       "[1] 17\n"
      ]
     },
     "metadata": {},
     "output_type": "display_data"
    }
   ],
   "source": [
    "# anova_meta_ls <- simple_test_meta(anova_df, q_anova_thresh)\n",
    "anova_meta_df <- anova_df %>%\n",
    "    filter(qval < q_anova_thresh)\n",
    "anova_meta_ls <- list(n_sig = nrow(anova_meta_df), genes = anova_meta_df$geneID)\n",
    "anova_meta_ls[1]"
   ]
  },
  {
   "cell_type": "markdown",
   "id": "agricultural-postcard",
   "metadata": {},
   "source": [
    "### Point-biserial correlation with FIGO"
   ]
  },
  {
   "cell_type": "code",
   "execution_count": 11,
   "id": "outer-cricket",
   "metadata": {},
   "outputs": [
    {
     "data": {
      "text/html": [
       "<strong>$n_sig</strong> = 3"
      ],
      "text/latex": [
       "\\textbf{\\$n\\_sig} = 3"
      ],
      "text/markdown": [
       "**$n_sig** = 3"
      ],
      "text/plain": [
       "$n_sig\n",
       "[1] 3\n"
      ]
     },
     "metadata": {},
     "output_type": "display_data"
    }
   ],
   "source": [
    "pbc_meta_df <- pbc_df %>%\n",
    "    condense_figo(include_pvals = TRUE) %>%\n",
    "    dplyr::filter(figo_min_qval < q_pbc_thresh)\n",
    "pbc_meta_ls <- list(n_sig = nrow(pbc_meta_df), genes = pbc_meta_df$geneID)\n",
    "pbc_meta_ls[1]"
   ]
  },
  {
   "cell_type": "code",
   "execution_count": 12,
   "id": "careful-tenant",
   "metadata": {},
   "outputs": [
    {
     "data": {
      "text/html": [
       "6"
      ],
      "text/latex": [
       "6"
      ],
      "text/markdown": [
       "6"
      ],
      "text/plain": [
       "[1] 6"
      ]
     },
     "metadata": {},
     "output_type": "display_data"
    },
    {
     "data": {
      "text/html": [
       "1"
      ],
      "text/latex": [
       "1"
      ],
      "text/markdown": [
       "1"
      ],
      "text/plain": [
       "[1] 1"
      ]
     },
     "metadata": {},
     "output_type": "display_data"
    },
    {
     "data": {
      "text/html": [
       "0"
      ],
      "text/latex": [
       "0"
      ],
      "text/markdown": [
       "0"
      ],
      "text/plain": [
       "[1] 0"
      ]
     },
     "metadata": {},
     "output_type": "display_data"
    }
   ],
   "source": [
    "length(intersect(en_multinom_meta_ls$genes, anova_meta_ls$genes))\n",
    "length(intersect(en_multinom_meta_ls$genes, pbc_meta_ls$genes))\n",
    "length(intersect(anova_meta_ls$genes, pbc_meta_ls$genes))"
   ]
  },
  {
   "cell_type": "markdown",
   "id": "alpine-court",
   "metadata": {},
   "source": [
    "## Survival"
   ]
  },
  {
   "cell_type": "markdown",
   "id": "beneficial-broad",
   "metadata": {},
   "source": [
    "### LASSO Cox PH"
   ]
  },
  {
   "cell_type": "code",
   "execution_count": 13,
   "id": "endangered-newman",
   "metadata": {},
   "outputs": [
    {
     "data": {
      "text/html": [
       "<strong>$n_var</strong> = 48"
      ],
      "text/latex": [
       "\\textbf{\\$n\\_var} = 48"
      ],
      "text/markdown": [
       "**$n_var** = 48"
      ],
      "text/plain": [
       "$n_var\n",
       "[1] 48\n"
      ]
     },
     "metadata": {},
     "output_type": "display_data"
    }
   ],
   "source": [
    "en_cph_meta_ls <- list(n_var = nrow(en_cph_df), genes = en_cph_df$geneID)\n",
    "en_cph_meta_ls[1]"
   ]
  },
  {
   "cell_type": "markdown",
   "id": "velvet-companion",
   "metadata": {},
   "source": [
    "### Univariate KM/Cox PH"
   ]
  },
  {
   "cell_type": "code",
   "execution_count": 14,
   "id": "compatible-institute",
   "metadata": {},
   "outputs": [
    {
     "data": {
      "text/html": [
       "<strong>$n_sig</strong> = 3"
      ],
      "text/latex": [
       "\\textbf{\\$n\\_sig} = 3"
      ],
      "text/markdown": [
       "**$n_sig** = 3"
      ],
      "text/plain": [
       "$n_sig\n",
       "[1] 3\n"
      ]
     },
     "metadata": {},
     "output_type": "display_data"
    }
   ],
   "source": [
    "univ_survival_meta_df <- univ_survival_df %>%\n",
    "    rowwise() %>%\n",
    "    mutate(min_qval = min(km_qval, cph_qval)) %>%\n",
    "    as_tibble() %>%\n",
    "    filter(min_qval < q_univ_surv_thresh)\n",
    "\n",
    "univ_survival_meta_ls <- list(n_sig = nrow(univ_survival_meta_df), genes = univ_survival_meta_df$geneID)\n",
    "univ_survival_meta_ls[1]"
   ]
  },
  {
   "cell_type": "markdown",
   "id": "arbitrary-fighter",
   "metadata": {},
   "source": [
    "### Censored time screen"
   ]
  },
  {
   "cell_type": "code",
   "execution_count": 15,
   "id": "comfortable-admission",
   "metadata": {},
   "outputs": [
    {
     "data": {
      "text/html": [
       "<strong>$n_sig</strong> = 2"
      ],
      "text/latex": [
       "\\textbf{\\$n\\_sig} = 2"
      ],
      "text/markdown": [
       "**$n_sig** = 2"
      ],
      "text/plain": [
       "$n_sig\n",
       "[1] 2\n"
      ]
     },
     "metadata": {},
     "output_type": "display_data"
    }
   ],
   "source": [
    "cts_meta_df <- cts_df %>%\n",
    "    dplyr::filter(vital_qval < q_cts_thresh)\n",
    "cts_meta_ls <- list(n_sig = nrow(cts_meta_df), genes = cts_meta_df$geneID)\n",
    "cts_meta_ls[1]"
   ]
  },
  {
   "cell_type": "code",
   "execution_count": 16,
   "id": "incident-italian",
   "metadata": {},
   "outputs": [
    {
     "data": {
      "text/html": [
       "0"
      ],
      "text/latex": [
       "0"
      ],
      "text/markdown": [
       "0"
      ],
      "text/plain": [
       "[1] 0"
      ]
     },
     "metadata": {},
     "output_type": "display_data"
    }
   ],
   "source": [
    "univ_cph_list <- univ_survival_df %>%\n",
    "    dplyr::filter(cph_qval < q_univ_surv_thresh) %>%\n",
    "    dplyr::pull(geneID)\n",
    "\n",
    "length(intersect(cts_meta_ls$genes, univ_cph_list)) / length(union(cts_meta_ls$genes, univ_cph_list))"
   ]
  },
  {
   "cell_type": "code",
   "execution_count": 17,
   "id": "bearing-sailing",
   "metadata": {},
   "outputs": [
    {
     "data": {
      "text/html": [
       "2"
      ],
      "text/latex": [
       "2"
      ],
      "text/markdown": [
       "2"
      ],
      "text/plain": [
       "[1] 2"
      ]
     },
     "metadata": {},
     "output_type": "display_data"
    },
    {
     "data": {
      "text/html": [
       "2"
      ],
      "text/latex": [
       "2"
      ],
      "text/markdown": [
       "2"
      ],
      "text/plain": [
       "[1] 2"
      ]
     },
     "metadata": {},
     "output_type": "display_data"
    },
    {
     "data": {
      "text/html": [
       "1"
      ],
      "text/latex": [
       "1"
      ],
      "text/markdown": [
       "1"
      ],
      "text/plain": [
       "[1] 1"
      ]
     },
     "metadata": {},
     "output_type": "display_data"
    }
   ],
   "source": [
    "length(intersect(en_cph_meta_ls$genes, cts_meta_ls$genes))\n",
    "length(intersect(en_cph_meta_ls$genes, univ_survival_meta_ls$genes))\n",
    "length(intersect(univ_survival_meta_ls$genes, cts_meta_ls$genes))"
   ]
  },
  {
   "cell_type": "markdown",
   "id": "rolled-airport",
   "metadata": {},
   "source": [
    "# WGCNA"
   ]
  },
  {
   "cell_type": "code",
   "execution_count": 18,
   "id": "official-oxygen",
   "metadata": {},
   "outputs": [
    {
     "data": {
      "text/html": [
       "<dl>\n",
       "\t<dt>$n_sig_modules</dt>\n",
       "\t\t<dd>4</dd>\n",
       "\t<dt>$n_sig_genes</dt>\n",
       "\t\t<dd>263</dd>\n",
       "</dl>\n"
      ],
      "text/latex": [
       "\\begin{description}\n",
       "\\item[\\$n\\_sig\\_modules] 4\n",
       "\\item[\\$n\\_sig\\_genes] 263\n",
       "\\end{description}\n"
      ],
      "text/markdown": [
       "$n_sig_modules\n",
       ":   4\n",
       "$n_sig_genes\n",
       ":   263\n",
       "\n",
       "\n"
      ],
      "text/plain": [
       "$n_sig_modules\n",
       "[1] 4\n",
       "\n",
       "$n_sig_genes\n",
       "[1] 263\n"
      ]
     },
     "metadata": {},
     "output_type": "display_data"
    }
   ],
   "source": [
    "# wgcna_meta_ls <- wgcna_meta(network_me_sig_df, network_mm_gs_df, q_me_thresh, p_mm_thresh, hub_df$geneID)\n",
    "wgcna_meta_ls <- wgcna_meta(network_me_sig_df, network_mm_gs_df, q_me_thresh, p_mm_thresh, colnames(data_expr))\n",
    "wgcna_meta_ls[1:2]"
   ]
  },
  {
   "cell_type": "code",
   "execution_count": 19,
   "id": "failing-colors",
   "metadata": {},
   "outputs": [
    {
     "data": {
      "text/html": [
       "<style>\n",
       ".list-inline {list-style: none; margin:0; padding: 0}\n",
       ".list-inline>li {display: inline-block}\n",
       ".list-inline>li:not(:last-child)::after {content: \"\\00b7\"; padding: 0 .5ex}\n",
       "</style>\n",
       "<ol class=list-inline><li>'green'</li><li>'pink'</li><li>'salmon'</li><li>'black'</li></ol>\n"
      ],
      "text/latex": [
       "\\begin{enumerate*}\n",
       "\\item 'green'\n",
       "\\item 'pink'\n",
       "\\item 'salmon'\n",
       "\\item 'black'\n",
       "\\end{enumerate*}\n"
      ],
      "text/markdown": [
       "1. 'green'\n",
       "2. 'pink'\n",
       "3. 'salmon'\n",
       "4. 'black'\n",
       "\n",
       "\n"
      ],
      "text/plain": [
       "[1] \"green\"  \"pink\"   \"salmon\" \"black\" "
      ]
     },
     "metadata": {},
     "output_type": "display_data"
    }
   ],
   "source": [
    "wgcna_meta_ls$modules"
   ]
  },
  {
   "cell_type": "code",
   "execution_count": 20,
   "id": "equivalent-plane",
   "metadata": {},
   "outputs": [
    {
     "data": {
      "text/html": [
       "<table class=\"dataframe\">\n",
       "<caption>A tibble: 4 × 8</caption>\n",
       "<thead>\n",
       "\t<tr><th scope=col>module</th><th scope=col>me_vital_hr</th><th scope=col>me_vital_dev_cor</th><th scope=col>me_vital_pval</th><th scope=col>me_vital_qval</th><th scope=col>me_figo_min_pval</th><th scope=col>me_figo_min_qval</th><th scope=col>me_figo_max_cor</th></tr>\n",
       "\t<tr><th scope=col>&lt;chr&gt;</th><th scope=col>&lt;dbl&gt;</th><th scope=col>&lt;dbl&gt;</th><th scope=col>&lt;dbl&gt;</th><th scope=col>&lt;dbl&gt;</th><th scope=col>&lt;dbl&gt;</th><th scope=col>&lt;dbl&gt;</th><th scope=col>&lt;dbl&gt;</th></tr>\n",
       "</thead>\n",
       "<tbody>\n",
       "\t<tr><td>green </td><td> 0.3160419</td><td>-0.05760724</td><td>0.6402321</td><td>0.7891011</td><td>0.040950655</td><td>0.03632939</td><td>0.1278441</td></tr>\n",
       "\t<tr><td>black </td><td>14.7645533</td><td> 0.12032337</td><td>0.2357867</td><td>0.7891011</td><td>0.006693521</td><td>0.02574670</td><td>0.2268016</td></tr>\n",
       "\t<tr><td>salmon</td><td> 0.3447127</td><td>-0.03879551</td><td>0.6763724</td><td>0.7891011</td><td>0.021732566</td><td>0.03065260</td><td>0.1520179</td></tr>\n",
       "\t<tr><td>pink  </td><td>13.5108903</td><td> 0.12084611</td><td>0.1840251</td><td>0.7891011</td><td>0.025913813</td><td>0.03065260</td><td>0.1889353</td></tr>\n",
       "</tbody>\n",
       "</table>\n"
      ],
      "text/latex": [
       "A tibble: 4 × 8\n",
       "\\begin{tabular}{llllllll}\n",
       " module & me\\_vital\\_hr & me\\_vital\\_dev\\_cor & me\\_vital\\_pval & me\\_vital\\_qval & me\\_figo\\_min\\_pval & me\\_figo\\_min\\_qval & me\\_figo\\_max\\_cor\\\\\n",
       " <chr> & <dbl> & <dbl> & <dbl> & <dbl> & <dbl> & <dbl> & <dbl>\\\\\n",
       "\\hline\n",
       "\t green  &  0.3160419 & -0.05760724 & 0.6402321 & 0.7891011 & 0.040950655 & 0.03632939 & 0.1278441\\\\\n",
       "\t black  & 14.7645533 &  0.12032337 & 0.2357867 & 0.7891011 & 0.006693521 & 0.02574670 & 0.2268016\\\\\n",
       "\t salmon &  0.3447127 & -0.03879551 & 0.6763724 & 0.7891011 & 0.021732566 & 0.03065260 & 0.1520179\\\\\n",
       "\t pink   & 13.5108903 &  0.12084611 & 0.1840251 & 0.7891011 & 0.025913813 & 0.03065260 & 0.1889353\\\\\n",
       "\\end{tabular}\n"
      ],
      "text/markdown": [
       "\n",
       "A tibble: 4 × 8\n",
       "\n",
       "| module &lt;chr&gt; | me_vital_hr &lt;dbl&gt; | me_vital_dev_cor &lt;dbl&gt; | me_vital_pval &lt;dbl&gt; | me_vital_qval &lt;dbl&gt; | me_figo_min_pval &lt;dbl&gt; | me_figo_min_qval &lt;dbl&gt; | me_figo_max_cor &lt;dbl&gt; |\n",
       "|---|---|---|---|---|---|---|---|\n",
       "| green  |  0.3160419 | -0.05760724 | 0.6402321 | 0.7891011 | 0.040950655 | 0.03632939 | 0.1278441 |\n",
       "| black  | 14.7645533 |  0.12032337 | 0.2357867 | 0.7891011 | 0.006693521 | 0.02574670 | 0.2268016 |\n",
       "| salmon |  0.3447127 | -0.03879551 | 0.6763724 | 0.7891011 | 0.021732566 | 0.03065260 | 0.1520179 |\n",
       "| pink   | 13.5108903 |  0.12084611 | 0.1840251 | 0.7891011 | 0.025913813 | 0.03065260 | 0.1889353 |\n",
       "\n"
      ],
      "text/plain": [
       "  module me_vital_hr me_vital_dev_cor me_vital_pval me_vital_qval\n",
       "1 green   0.3160419  -0.05760724      0.6402321     0.7891011    \n",
       "2 black  14.7645533   0.12032337      0.2357867     0.7891011    \n",
       "3 salmon  0.3447127  -0.03879551      0.6763724     0.7891011    \n",
       "4 pink   13.5108903   0.12084611      0.1840251     0.7891011    \n",
       "  me_figo_min_pval me_figo_min_qval me_figo_max_cor\n",
       "1 0.040950655      0.03632939       0.1278441      \n",
       "2 0.006693521      0.02574670       0.2268016      \n",
       "3 0.021732566      0.03065260       0.1520179      \n",
       "4 0.025913813      0.03065260       0.1889353      "
      ]
     },
     "metadata": {},
     "output_type": "display_data"
    }
   ],
   "source": [
    "condensed_network_me_sig_df <- network_me_sig_df %>%\n",
    "    condense_figo(include_pvals = TRUE) %>%\n",
    "    dplyr::rename_if(!startsWith(colnames(.), \"module\"), ~ gsub(\"^\", \"me_\", .))\n",
    "condensed_network_me_sig_df %>%\n",
    "    filter(me_figo_min_qval < q_me_thresh)"
   ]
  },
  {
   "cell_type": "code",
   "execution_count": 21,
   "id": "vocal-amazon",
   "metadata": {},
   "outputs": [
    {
     "data": {
      "text/html": [
       "<table class=\"dataframe\">\n",
       "<caption>A tibble: 4 × 2</caption>\n",
       "<thead>\n",
       "\t<tr><th></th><th scope=col>module</th><th scope=col>n</th></tr>\n",
       "\t<tr><th></th><th scope=col>&lt;chr&gt;</th><th scope=col>&lt;int&gt;</th></tr>\n",
       "</thead>\n",
       "<tbody>\n",
       "\t<tr><th scope=row>1</th><td>black </td><td>122</td></tr>\n",
       "\t<tr><th scope=row>2</th><td>green </td><td> 69</td></tr>\n",
       "\t<tr><th scope=row>3</th><td>pink  </td><td> 44</td></tr>\n",
       "\t<tr><th scope=row>4</th><td>salmon</td><td> 28</td></tr>\n",
       "</tbody>\n",
       "</table>\n"
      ],
      "text/latex": [
       "A tibble: 4 × 2\n",
       "\\begin{tabular}{r|ll}\n",
       "  & module & n\\\\\n",
       "  & <chr> & <int>\\\\\n",
       "\\hline\n",
       "\t1 & black  & 122\\\\\n",
       "\t2 & green  &  69\\\\\n",
       "\t3 & pink   &  44\\\\\n",
       "\t4 & salmon &  28\\\\\n",
       "\\end{tabular}\n"
      ],
      "text/markdown": [
       "\n",
       "A tibble: 4 × 2\n",
       "\n",
       "| <!--/--> | module &lt;chr&gt; | n &lt;int&gt; |\n",
       "|---|---|---|\n",
       "| 1 | black  | 122 |\n",
       "| 2 | green  |  69 |\n",
       "| 3 | pink   |  44 |\n",
       "| 4 | salmon |  28 |\n",
       "\n"
      ],
      "text/plain": [
       "  module n  \n",
       "1 black  122\n",
       "2 green   69\n",
       "3 pink    44\n",
       "4 salmon  28"
      ]
     },
     "metadata": {},
     "output_type": "display_data"
    }
   ],
   "source": [
    "network_mm_gs_df %>%\n",
    "    select(geneID, module, mm_cor, mm_pval) %>%\n",
    "    inner_join(condensed_network_me_sig_df, by = \"module\") %>%\n",
    "    filter(mm_pval < p_mm_thresh, me_figo_min_qval < q_me_thresh) %>%\n",
    "    group_by(module) %>%\n",
    "    summarize(n = n())\n",
    "    "
   ]
  },
  {
   "cell_type": "markdown",
   "id": "sought-indication",
   "metadata": {},
   "source": [
    "## TOM meta"
   ]
  },
  {
   "cell_type": "code",
   "execution_count": 22,
   "id": "ordinary-kenya",
   "metadata": {},
   "outputs": [
    {
     "data": {
      "text/html": [
       "<style>\n",
       ".dl-inline {width: auto; margin:0; padding: 0}\n",
       ".dl-inline>dt, .dl-inline>dd {float: none; width: auto; display: inline-block}\n",
       ".dl-inline>dt::after {content: \":\\0020\"; padding-right: .5ex}\n",
       ".dl-inline>dt:not(:first-of-type) {padding-left: .5ex}\n",
       "</style><dl class=dl-inline><dt>0%</dt><dd>1.3</dd><dt>25%</dt><dd>2.7</dd><dt>50%</dt><dd>3.6</dd><dt>75%</dt><dd>5.5</dd><dt>100%</dt><dd>27.5</dd></dl>\n"
      ],
      "text/latex": [
       "\\begin{description*}\n",
       "\\item[0\\textbackslash{}\\%] 1.3\n",
       "\\item[25\\textbackslash{}\\%] 2.7\n",
       "\\item[50\\textbackslash{}\\%] 3.6\n",
       "\\item[75\\textbackslash{}\\%] 5.5\n",
       "\\item[100\\textbackslash{}\\%] 27.5\n",
       "\\end{description*}\n"
      ],
      "text/markdown": [
       "0%\n",
       ":   1.325%\n",
       ":   2.750%\n",
       ":   3.675%\n",
       ":   5.5100%\n",
       ":   27.5\n",
       "\n"
      ],
      "text/plain": [
       "  0%  25%  50%  75% 100% \n",
       " 1.3  2.7  3.6  5.5 27.5 "
      ]
     },
     "metadata": {},
     "output_type": "display_data"
    }
   ],
   "source": [
    "colnames(tom) <- colnames(data_expr)\n",
    "rownames(tom) <- colnames(data_expr)\n",
    "rowSums(tom) %>%\n",
    "    quantile() %>%\n",
    "    round(digits = 1)"
   ]
  },
  {
   "cell_type": "markdown",
   "id": "surprising-stage",
   "metadata": {},
   "source": [
    "# Create Lists"
   ]
  },
  {
   "cell_type": "code",
   "execution_count": 23,
   "id": "exotic-marble",
   "metadata": {},
   "outputs": [],
   "source": [
    "deg_list <- deg_meta_ls$genes\n",
    "demg_list <- demg_meta_ls$genes\n",
    "figo_umsmg_list <- en_multinom_meta_ls$genes %>%\n",
    "    union(pbc_meta_ls$genes) %>%\n",
    "    union(anova_meta_ls$genes)\n",
    "survival_umsmg_list <- en_cph_meta_ls$genes %>%\n",
    "    union(cts_meta_ls$genes) %>%\n",
    "    union(univ_survival_meta_ls$genes)\n",
    "# all_umsmg_list <- figo_umsmg_list %>%\n",
    "#     intersect(survival_umsmg_list)\n",
    "figo_nsmg_list <- wgcna_meta_ls$genes\n",
    "# figo_umsmg_demg_list <- figo_umsmg_list %>%\n",
    "#     intersect(demg_list)\n",
    "# survival_umsmg_demg_list <- survival_umsmg_list %>%\n",
    "#     intersect(demg_list)\n",
    "# figo_umsmg_nsmg_demg_list <- figo_umsmg_list %>%\n",
    "#     intersect(figo_nsmg_list) %>%\n",
    "#     intersect(demg_list)\n",
    "figo_list <- figo_umsmg_list %>%\n",
    "    union(figo_nsmg_list) %>%\n",
    "    intersect(demg_list)\n",
    "survival_list <- survival_umsmg_list %>%\n",
    "    intersect(demg_list)\n",
    "full_overlap_list <- figo_list %>%\n",
    "    intersect(survival_list)"
   ]
  },
  {
   "cell_type": "code",
   "execution_count": 24,
   "id": "rubber-zealand",
   "metadata": {},
   "outputs": [
    {
     "data": {
      "text/html": [
       "<table class=\"dataframe\">\n",
       "<caption>A tibble: 25 × 2</caption>\n",
       "<thead>\n",
       "\t<tr><th scope=col>metric</th><th scope=col>val</th></tr>\n",
       "\t<tr><th scope=col>&lt;chr&gt;</th><th scope=col>&lt;dbl&gt;</th></tr>\n",
       "</thead>\n",
       "<tbody>\n",
       "\t<tr><td>n_deg                </td><td>8229.00</td></tr>\n",
       "\t<tr><td>deg_pct_de           </td><td>   0.41</td></tr>\n",
       "\t<tr><td>deg_up               </td><td>4862.00</td></tr>\n",
       "\t<tr><td>deg_down             </td><td>3367.00</td></tr>\n",
       "\t<tr><td>n_demg               </td><td> 618.00</td></tr>\n",
       "\t<tr><td>demg_pct_de          </td><td>   0.61</td></tr>\n",
       "\t<tr><td>demg_up              </td><td> 317.00</td></tr>\n",
       "\t<tr><td>demg_down            </td><td> 301.00</td></tr>\n",
       "\t<tr><td>n_lasso_multinom     </td><td>  20.00</td></tr>\n",
       "\t<tr><td>n_anova              </td><td>  17.00</td></tr>\n",
       "\t<tr><td>n_pbc                </td><td>   3.00</td></tr>\n",
       "\t<tr><td>n_lasso_cox          </td><td>  48.00</td></tr>\n",
       "\t<tr><td>n_uv_cph_km          </td><td>   3.00</td></tr>\n",
       "\t<tr><td>n_cts                </td><td>   2.00</td></tr>\n",
       "\t<tr><td>n_modules            </td><td>   4.00</td></tr>\n",
       "\t<tr><td>n_module_genes       </td><td> 263.00</td></tr>\n",
       "\t<tr><td>n_figo_umsmg         </td><td>  33.00</td></tr>\n",
       "\t<tr><td>n_figo_nsmg          </td><td> 263.00</td></tr>\n",
       "\t<tr><td>n_surv_umsmg         </td><td>  49.00</td></tr>\n",
       "\t<tr><td>n_figo_umsmg_and_demg</td><td>  22.00</td></tr>\n",
       "\t<tr><td>n_figo_nsmg_and_demg </td><td> 159.00</td></tr>\n",
       "\t<tr><td>n_figo_umsmg_or_nsmg </td><td> 281.00</td></tr>\n",
       "\t<tr><td>n_figo_tot           </td><td> 173.00</td></tr>\n",
       "\t<tr><td>n_surv_tot           </td><td>  26.00</td></tr>\n",
       "\t<tr><td>n_full_overlap       </td><td>   8.00</td></tr>\n",
       "</tbody>\n",
       "</table>\n"
      ],
      "text/latex": [
       "A tibble: 25 × 2\n",
       "\\begin{tabular}{ll}\n",
       " metric & val\\\\\n",
       " <chr> & <dbl>\\\\\n",
       "\\hline\n",
       "\t n\\_deg                 & 8229.00\\\\\n",
       "\t deg\\_pct\\_de            &    0.41\\\\\n",
       "\t deg\\_up                & 4862.00\\\\\n",
       "\t deg\\_down              & 3367.00\\\\\n",
       "\t n\\_demg                &  618.00\\\\\n",
       "\t demg\\_pct\\_de           &    0.61\\\\\n",
       "\t demg\\_up               &  317.00\\\\\n",
       "\t demg\\_down             &  301.00\\\\\n",
       "\t n\\_lasso\\_multinom      &   20.00\\\\\n",
       "\t n\\_anova               &   17.00\\\\\n",
       "\t n\\_pbc                 &    3.00\\\\\n",
       "\t n\\_lasso\\_cox           &   48.00\\\\\n",
       "\t n\\_uv\\_cph\\_km           &    3.00\\\\\n",
       "\t n\\_cts                 &    2.00\\\\\n",
       "\t n\\_modules             &    4.00\\\\\n",
       "\t n\\_module\\_genes        &  263.00\\\\\n",
       "\t n\\_figo\\_umsmg          &   33.00\\\\\n",
       "\t n\\_figo\\_nsmg           &  263.00\\\\\n",
       "\t n\\_surv\\_umsmg          &   49.00\\\\\n",
       "\t n\\_figo\\_umsmg\\_and\\_demg &   22.00\\\\\n",
       "\t n\\_figo\\_nsmg\\_and\\_demg  &  159.00\\\\\n",
       "\t n\\_figo\\_umsmg\\_or\\_nsmg  &  281.00\\\\\n",
       "\t n\\_figo\\_tot            &  173.00\\\\\n",
       "\t n\\_surv\\_tot            &   26.00\\\\\n",
       "\t n\\_full\\_overlap        &    8.00\\\\\n",
       "\\end{tabular}\n"
      ],
      "text/markdown": [
       "\n",
       "A tibble: 25 × 2\n",
       "\n",
       "| metric &lt;chr&gt; | val &lt;dbl&gt; |\n",
       "|---|---|\n",
       "| n_deg                 | 8229.00 |\n",
       "| deg_pct_de            |    0.41 |\n",
       "| deg_up                | 4862.00 |\n",
       "| deg_down              | 3367.00 |\n",
       "| n_demg                |  618.00 |\n",
       "| demg_pct_de           |    0.61 |\n",
       "| demg_up               |  317.00 |\n",
       "| demg_down             |  301.00 |\n",
       "| n_lasso_multinom      |   20.00 |\n",
       "| n_anova               |   17.00 |\n",
       "| n_pbc                 |    3.00 |\n",
       "| n_lasso_cox           |   48.00 |\n",
       "| n_uv_cph_km           |    3.00 |\n",
       "| n_cts                 |    2.00 |\n",
       "| n_modules             |    4.00 |\n",
       "| n_module_genes        |  263.00 |\n",
       "| n_figo_umsmg          |   33.00 |\n",
       "| n_figo_nsmg           |  263.00 |\n",
       "| n_surv_umsmg          |   49.00 |\n",
       "| n_figo_umsmg_and_demg |   22.00 |\n",
       "| n_figo_nsmg_and_demg  |  159.00 |\n",
       "| n_figo_umsmg_or_nsmg  |  281.00 |\n",
       "| n_figo_tot            |  173.00 |\n",
       "| n_surv_tot            |   26.00 |\n",
       "| n_full_overlap        |    8.00 |\n",
       "\n"
      ],
      "text/plain": [
       "   metric                val    \n",
       "1  n_deg                 8229.00\n",
       "2  deg_pct_de               0.41\n",
       "3  deg_up                4862.00\n",
       "4  deg_down              3367.00\n",
       "5  n_demg                 618.00\n",
       "6  demg_pct_de              0.61\n",
       "7  demg_up                317.00\n",
       "8  demg_down              301.00\n",
       "9  n_lasso_multinom        20.00\n",
       "10 n_anova                 17.00\n",
       "11 n_pbc                    3.00\n",
       "12 n_lasso_cox             48.00\n",
       "13 n_uv_cph_km              3.00\n",
       "14 n_cts                    2.00\n",
       "15 n_modules                4.00\n",
       "16 n_module_genes         263.00\n",
       "17 n_figo_umsmg            33.00\n",
       "18 n_figo_nsmg            263.00\n",
       "19 n_surv_umsmg            49.00\n",
       "20 n_figo_umsmg_and_demg   22.00\n",
       "21 n_figo_nsmg_and_demg   159.00\n",
       "22 n_figo_umsmg_or_nsmg   281.00\n",
       "23 n_figo_tot             173.00\n",
       "24 n_surv_tot              26.00\n",
       "25 n_full_overlap           8.00"
      ]
     },
     "metadata": {},
     "output_type": "display_data"
    }
   ],
   "source": [
    "meta_counts <- tibble(\n",
    "    n_deg = length(deg_list),\n",
    "    deg_pct_de = deg_meta_ls$deg_prop,\n",
    "    deg_up = deg_meta_ls$n_up,\n",
    "    deg_down = deg_meta_ls$n_down,\n",
    "    n_demg = length(demg_list),\n",
    "    demg_pct_de = demg_meta_ls$deg_prop,\n",
    "    demg_up = demg_meta_ls$n_up,\n",
    "    demg_down = demg_meta_ls$n_down,\n",
    "    n_lasso_multinom = en_multinom_meta_ls$n_var,\n",
    "    n_anova = anova_meta_ls$n_sig,\n",
    "    n_pbc = pbc_meta_ls$n_sig,\n",
    "    n_lasso_cox = en_cph_meta_ls$n_var,\n",
    "    n_uv_cph_km = univ_survival_meta_ls$n_sig,\n",
    "    n_cts = cts_meta_ls$n_sig,\n",
    "    n_modules = wgcna_meta_ls$n_sig_modules,\n",
    "    n_module_genes = wgcna_meta_ls$n_sig_genes,\n",
    "    n_figo_umsmg = length(figo_umsmg_list),\n",
    "    n_figo_nsmg = length(figo_nsmg_list),\n",
    "    n_surv_umsmg = length(survival_umsmg_list),\n",
    "    n_figo_umsmg_and_demg = length(figo_umsmg_list %>% intersect(demg_list)),\n",
    "    n_figo_nsmg_and_demg = length(figo_nsmg_list %>% intersect(demg_list)),\n",
    "    n_figo_umsmg_or_nsmg = union(figo_umsmg_list, figo_nsmg_list) %>% length(),\n",
    "    n_figo_tot = length(figo_list),\n",
    "    n_surv_tot = length(survival_list),\n",
    "    n_full_overlap = length(full_overlap_list)\n",
    ") %>%\n",
    "    t()\n",
    "colnames(meta_counts) <- c(\"val\")\n",
    "meta_counts_df <- meta_counts %>%\n",
    "    as_tibble(rownames = \"metric\") %>%\n",
    "    mutate(val = round(val, 2))\n",
    "meta_counts_df\n",
    "\n",
    "# length(deg_list)\n",
    "# length(demg_list)\n",
    "# length(figo_umsmg_list)\n",
    "# length(figo_nsmg_list)\n",
    "# length(survival_umsmg_list)\n",
    "# length(all_umsmg_list)\n",
    "# length(figo_umsmg_demg_list)\n",
    "# length(survival_umsmg_demg_list)\n",
    "# length(figo_umsmg_nsmg_demg_list)"
   ]
  },
  {
   "cell_type": "markdown",
   "id": "danish-brunei",
   "metadata": {},
   "source": [
    "# Save lists"
   ]
  },
  {
   "cell_type": "code",
   "execution_count": 25,
   "id": "peripheral-melissa",
   "metadata": {},
   "outputs": [],
   "source": [
    "if (save_lists) {\n",
    "    write_lines(deg_list, paste0(dirs$analysis_dir, \"/gene_lists/\", unified_dsets[dset_idx], \"_deg_list.txt\"))\n",
    "    write_lines(demg_list, paste0(dirs$analysis_dir, \"/gene_lists/\", unified_dsets[dset_idx], \"_demg_list.txt\"))\n",
    "    write_lines(figo_umsmg_list, paste0(dirs$analysis_dir, \"/gene_lists/\", unified_dsets[dset_idx], \"_figo_umsmg_list.txt\"))\n",
    "    write_lines(survival_umsmg_list, paste0(dirs$analysis_dir, \"/gene_lists/\", unified_dsets[dset_idx], \"_survival_umsmg_list.txt\"))\n",
    "    write_lines(figo_nsmg_list, paste0(dirs$analysis_dir, \"/gene_lists/\", unified_dsets[dset_idx], \"_figo_nsmg_list.txt\"))\n",
    "    meta_counts_df %>% write_tsv(paste0(dirs$analysis_dir, \"/meta/\", unified_dsets[dset_idx], \"_meta_counts.tsv\"))\n",
    "}"
   ]
  },
  {
   "cell_type": "code",
   "execution_count": null,
   "id": "italian-civilian",
   "metadata": {},
   "outputs": [],
   "source": []
  }
 ],
 "metadata": {
  "kernelspec": {
   "display_name": "R",
   "language": "R",
   "name": "ir"
  },
  "language_info": {
   "codemirror_mode": "r",
   "file_extension": ".r",
   "mimetype": "text/x-r-source",
   "name": "R",
   "pygments_lexer": "r",
   "version": "4.0.3"
  }
 },
 "nbformat": 4,
 "nbformat_minor": 5
}
