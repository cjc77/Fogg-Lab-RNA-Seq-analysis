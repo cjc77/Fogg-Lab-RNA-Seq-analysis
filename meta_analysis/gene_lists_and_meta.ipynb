{
 "cells": [
  {
   "cell_type": "code",
   "execution_count": 1,
   "id": "fitting-shareware",
   "metadata": {},
   "outputs": [
    {
     "name": "stderr",
     "output_type": "stream",
     "text": [
      "-- \u001b[1mAttaching packages\u001b[22m -------------------------------------------------------------------- tidyverse 1.3.0 --\n",
      "\n",
      "\u001b[32mv\u001b[39m \u001b[34mggplot2\u001b[39m 3.3.3     \u001b[32mv\u001b[39m \u001b[34mpurrr  \u001b[39m 0.3.4\n",
      "\u001b[32mv\u001b[39m \u001b[34mtibble \u001b[39m 3.0.6     \u001b[32mv\u001b[39m \u001b[34mdplyr  \u001b[39m 1.0.4\n",
      "\u001b[32mv\u001b[39m \u001b[34mtidyr  \u001b[39m 1.1.2     \u001b[32mv\u001b[39m \u001b[34mstringr\u001b[39m 1.4.0\n",
      "\u001b[32mv\u001b[39m \u001b[34mreadr  \u001b[39m 1.4.0     \u001b[32mv\u001b[39m \u001b[34mforcats\u001b[39m 0.5.1\n",
      "\n",
      "-- \u001b[1mConflicts\u001b[22m ----------------------------------------------------------------------- tidyverse_conflicts() --\n",
      "\u001b[31mx\u001b[39m \u001b[34mdplyr\u001b[39m::\u001b[32mfilter()\u001b[39m masks \u001b[34mstats\u001b[39m::filter()\n",
      "\u001b[31mx\u001b[39m \u001b[34mdplyr\u001b[39m::\u001b[32mlag()\u001b[39m    masks \u001b[34mstats\u001b[39m::lag()\n",
      "\n"
     ]
    }
   ],
   "source": [
    "library(tidyverse)\n",
    "\n",
    "# Custom package\n",
    "library(rutils)"
   ]
  },
  {
   "cell_type": "code",
   "execution_count": 2,
   "id": "higher-greek",
   "metadata": {},
   "outputs": [],
   "source": [
    "dirs <- rutils::get_dev_directories(dev_paths_file = \"../dev_paths.txt\")\n",
    "projects <- c(\"TCGA-CESC\", \"TCGA-UCS\", \"TCGA-UCEC\", \"TCGA-OV\")\n",
    "unified_dsets <- c(\"unified_cervical_data\", \"unified_uterine_data\", \"unified_uterine_endometrial_data\")\n",
    "matrisome_list <- paste0(dirs$data_dir, \"/matrisome/matrisome_hs_masterlist.tsv\")"
   ]
  },
  {
   "cell_type": "code",
   "execution_count": 3,
   "id": "global-fundamentals",
   "metadata": {},
   "outputs": [],
   "source": [
    "dset_idx <- 3\n",
    "save_lists <- TRUE"
   ]
  },
  {
   "cell_type": "code",
   "execution_count": 4,
   "id": "laden-shelf",
   "metadata": {},
   "outputs": [],
   "source": [
    "p_thresh <- 0.05\n",
    "lfc_thresh <- log2(2)\n",
    "hub_con_thresh <- 0\n",
    "q_deg_thresh <- 0.05\n",
    "q_anova_thresh <- 0.05\n",
    "q_me_thresh <- 0.05\n",
    "cph_coeff_thresh <- 0.0\n",
    "q_pbc_thresh <- 0.05\n",
    "q_cts_thresh <- 0.05\n",
    "q_univ_surv_thresh <- 0.05\n",
    "p_mm_thresh <- 0.05"
   ]
  },
  {
   "cell_type": "markdown",
   "id": "handed-shepherd",
   "metadata": {},
   "source": [
    "# Functions"
   ]
  },
  {
   "cell_type": "code",
   "execution_count": null,
   "id": "unlikely-buying",
   "metadata": {},
   "outputs": [],
   "source": []
  },
  {
   "cell_type": "markdown",
   "id": "color-sussex",
   "metadata": {},
   "source": [
    "# Data"
   ]
  },
  {
   "cell_type": "code",
   "execution_count": 5,
   "id": "experimental-palace",
   "metadata": {},
   "outputs": [
    {
     "name": "stderr",
     "output_type": "stream",
     "text": [
      "\n",
      "\u001b[36m--\u001b[39m \u001b[1m\u001b[1mColumn specification\u001b[1m\u001b[22m \u001b[36m-------------------------------------------------------------------------------------\u001b[39m\n",
      "cols(\n",
      "  Division = \u001b[31mcol_character()\u001b[39m,\n",
      "  Category = \u001b[31mcol_character()\u001b[39m,\n",
      "  `Gene Symbol` = \u001b[31mcol_character()\u001b[39m,\n",
      "  `Gene Name` = \u001b[31mcol_character()\u001b[39m,\n",
      "  Synonyms = \u001b[31mcol_character()\u001b[39m,\n",
      "  HGNC_IDs = \u001b[32mcol_double()\u001b[39m,\n",
      "  `HGNC_IDs Links` = \u001b[32mcol_double()\u001b[39m,\n",
      "  UniProt_IDs = \u001b[31mcol_character()\u001b[39m,\n",
      "  Refseq_IDs = \u001b[31mcol_character()\u001b[39m,\n",
      "  Orthology = \u001b[31mcol_character()\u001b[39m,\n",
      "  Notes = \u001b[31mcol_character()\u001b[39m\n",
      ")\n",
      "\n",
      "\n",
      "\n",
      "\u001b[36m--\u001b[39m \u001b[1m\u001b[1mColumn specification\u001b[1m\u001b[22m \u001b[36m-------------------------------------------------------------------------------------\u001b[39m\n",
      "cols(\n",
      "  .default = col_double(),\n",
      "  geneID = \u001b[31mcol_character()\u001b[39m\n",
      ")\n",
      "\u001b[36mi\u001b[39m Use \u001b[30m\u001b[47m\u001b[30m\u001b[47m`spec()`\u001b[47m\u001b[30m\u001b[49m\u001b[39m for the full column specifications.\n",
      "\n",
      "\n",
      "\n",
      "\u001b[36m--\u001b[39m \u001b[1m\u001b[1mColumn specification\u001b[1m\u001b[22m \u001b[36m-------------------------------------------------------------------------------------\u001b[39m\n",
      "cols(\n",
      "  geneID = \u001b[31mcol_character()\u001b[39m,\n",
      "  baseMean = \u001b[32mcol_double()\u001b[39m,\n",
      "  log2FoldChange = \u001b[32mcol_double()\u001b[39m,\n",
      "  lfcSE = \u001b[32mcol_double()\u001b[39m,\n",
      "  stat = \u001b[32mcol_double()\u001b[39m,\n",
      "  pvalue = \u001b[32mcol_double()\u001b[39m,\n",
      "  padj = \u001b[32mcol_double()\u001b[39m,\n",
      "  qval = \u001b[32mcol_double()\u001b[39m\n",
      ")\n",
      "\n",
      "\n",
      "\n",
      "\u001b[36m--\u001b[39m \u001b[1m\u001b[1mColumn specification\u001b[1m\u001b[22m \u001b[36m-------------------------------------------------------------------------------------\u001b[39m\n",
      "cols(\n",
      "  geneID = \u001b[31mcol_character()\u001b[39m,\n",
      "  coeff = \u001b[32mcol_double()\u001b[39m\n",
      ")\n",
      "\n",
      "\n",
      "\n",
      "\u001b[36m--\u001b[39m \u001b[1m\u001b[1mColumn specification\u001b[1m\u001b[22m \u001b[36m-------------------------------------------------------------------------------------\u001b[39m\n",
      "cols(\n",
      "  geneID = \u001b[31mcol_character()\u001b[39m,\n",
      "  vital_pval = \u001b[32mcol_double()\u001b[39m,\n",
      "  vital_qval = \u001b[32mcol_double()\u001b[39m,\n",
      "  hr = \u001b[32mcol_double()\u001b[39m\n",
      ")\n",
      "\n",
      "\n",
      "\n",
      "\u001b[36m--\u001b[39m \u001b[1m\u001b[1mColumn specification\u001b[1m\u001b[22m \u001b[36m-------------------------------------------------------------------------------------\u001b[39m\n",
      "cols(\n",
      "  geneID = \u001b[31mcol_character()\u001b[39m,\n",
      "  km_pval = \u001b[32mcol_double()\u001b[39m,\n",
      "  km_qval = \u001b[32mcol_double()\u001b[39m,\n",
      "  cph_pval = \u001b[32mcol_double()\u001b[39m,\n",
      "  cph_qval = \u001b[32mcol_double()\u001b[39m,\n",
      "  coeff = \u001b[32mcol_double()\u001b[39m\n",
      ")\n",
      "\n",
      "\n",
      "\n",
      "\u001b[36m--\u001b[39m \u001b[1m\u001b[1mColumn specification\u001b[1m\u001b[22m \u001b[36m-------------------------------------------------------------------------------------\u001b[39m\n",
      "cols(\n",
      "  geneID = \u001b[31mcol_character()\u001b[39m,\n",
      "  figo_stage_1_coefs = \u001b[32mcol_double()\u001b[39m,\n",
      "  figo_stage_2_coefs = \u001b[32mcol_double()\u001b[39m,\n",
      "  figo_stage_3_coefs = \u001b[32mcol_double()\u001b[39m,\n",
      "  figo_stage_4_coefs = \u001b[32mcol_double()\u001b[39m\n",
      ")\n",
      "\n",
      "\n",
      "\n",
      "\u001b[36m--\u001b[39m \u001b[1m\u001b[1mColumn specification\u001b[1m\u001b[22m \u001b[36m-------------------------------------------------------------------------------------\u001b[39m\n",
      "cols(\n",
      "  geneID = \u001b[31mcol_character()\u001b[39m,\n",
      "  figo_stage_1_pval = \u001b[32mcol_double()\u001b[39m,\n",
      "  figo_stage_2_pval = \u001b[32mcol_double()\u001b[39m,\n",
      "  figo_stage_3_pval = \u001b[32mcol_double()\u001b[39m,\n",
      "  figo_stage_4_pval = \u001b[32mcol_double()\u001b[39m,\n",
      "  figo_stage_1_qval = \u001b[32mcol_double()\u001b[39m,\n",
      "  figo_stage_2_qval = \u001b[32mcol_double()\u001b[39m,\n",
      "  figo_stage_3_qval = \u001b[32mcol_double()\u001b[39m,\n",
      "  figo_stage_4_qval = \u001b[32mcol_double()\u001b[39m,\n",
      "  figo_stage_1_cor = \u001b[32mcol_double()\u001b[39m,\n",
      "  figo_stage_2_cor = \u001b[32mcol_double()\u001b[39m,\n",
      "  figo_stage_3_cor = \u001b[32mcol_double()\u001b[39m,\n",
      "  figo_stage_4_cor = \u001b[32mcol_double()\u001b[39m\n",
      ")\n",
      "\n",
      "\n",
      "\n",
      "\u001b[36m--\u001b[39m \u001b[1m\u001b[1mColumn specification\u001b[1m\u001b[22m \u001b[36m-------------------------------------------------------------------------------------\u001b[39m\n",
      "cols(\n",
      "  geneID = \u001b[31mcol_character()\u001b[39m,\n",
      "  pval = \u001b[32mcol_double()\u001b[39m,\n",
      "  padj = \u001b[32mcol_double()\u001b[39m,\n",
      "  qval = \u001b[32mcol_double()\u001b[39m\n",
      ")\n",
      "\n",
      "\n",
      "\n",
      "\u001b[36m--\u001b[39m \u001b[1m\u001b[1mColumn specification\u001b[1m\u001b[22m \u001b[36m-------------------------------------------------------------------------------------\u001b[39m\n",
      "cols(\n",
      "  .default = col_double(),\n",
      "  geneID = \u001b[31mcol_character()\u001b[39m,\n",
      "  module = \u001b[31mcol_character()\u001b[39m\n",
      ")\n",
      "\u001b[36mi\u001b[39m Use \u001b[30m\u001b[47m\u001b[30m\u001b[47m`spec()`\u001b[47m\u001b[30m\u001b[49m\u001b[39m for the full column specifications.\n",
      "\n",
      "\n",
      "\n",
      "\u001b[36m--\u001b[39m \u001b[1m\u001b[1mColumn specification\u001b[1m\u001b[22m \u001b[36m-------------------------------------------------------------------------------------\u001b[39m\n",
      "cols(\n",
      "  module = \u001b[31mcol_character()\u001b[39m,\n",
      "  figo_stage_1_cor = \u001b[32mcol_double()\u001b[39m,\n",
      "  figo_stage_2_cor = \u001b[32mcol_double()\u001b[39m,\n",
      "  figo_stage_3_cor = \u001b[32mcol_double()\u001b[39m,\n",
      "  figo_stage_4_cor = \u001b[32mcol_double()\u001b[39m,\n",
      "  figo_stage_1_pval = \u001b[32mcol_double()\u001b[39m,\n",
      "  figo_stage_2_pval = \u001b[32mcol_double()\u001b[39m,\n",
      "  figo_stage_3_pval = \u001b[32mcol_double()\u001b[39m,\n",
      "  figo_stage_4_pval = \u001b[32mcol_double()\u001b[39m,\n",
      "  figo_stage_1_qval = \u001b[32mcol_double()\u001b[39m,\n",
      "  figo_stage_2_qval = \u001b[32mcol_double()\u001b[39m,\n",
      "  figo_stage_3_qval = \u001b[32mcol_double()\u001b[39m,\n",
      "  figo_stage_4_qval = \u001b[32mcol_double()\u001b[39m,\n",
      "  vital_hr = \u001b[32mcol_double()\u001b[39m,\n",
      "  vital_dev_cor = \u001b[32mcol_double()\u001b[39m,\n",
      "  vital_pval = \u001b[32mcol_double()\u001b[39m,\n",
      "  vital_qval = \u001b[32mcol_double()\u001b[39m\n",
      ")\n",
      "\n",
      "\n"
     ]
    }
   ],
   "source": [
    "matrisome_df <- rutils::load_matrisome_df(matrisome_list) %>%\n",
    "    dplyr::select(gene_symbol, division, category)\n",
    "norm_counts_df <- read_tsv(paste0(dirs$data_dir, \"/\", unified_dsets[dset_idx], \"/\", \"norm_counts.tsv\"))\n",
    "m_norm_counts_df <- norm_counts_df %>%\n",
    "    dplyr::filter(geneID %in% matrisome_df$gene_symbol)\n",
    "\n",
    "deseq_results_df <- read_tsv(paste0(dirs$analysis_dir, \"/deg/\", unified_dsets[dset_idx], \"_DESeq_results.tsv\")) %>%\n",
    "    rename(base_mean = baseMean, lfc = log2FoldChange)\n",
    "\n",
    "en_cph_df <- read_tsv(paste0(dirs$analysis_dir, \"/feature_selection/\", unified_dsets[dset_idx], \"_en_cph_results.tsv\"))\n",
    "cts_df <- read_tsv(paste0(dirs$analysis_dir, \"/feature_selection/\", unified_dsets[dset_idx], \"_survival_cts_results.tsv\"))\n",
    "univ_survival_df <- read_tsv(paste0(dirs$analysis_dir, \"/feature_selection/\", unified_dsets[dset_idx], \"_univ_survival_results.tsv\"))\n",
    "\n",
    "en_multinom_df <- read_tsv(paste0(dirs$analysis_dir, \"/feature_selection/\", unified_dsets[dset_idx], \"_en_multinom_results.tsv\"))\n",
    "pbc_df <- read_tsv(paste0(dirs$analysis_dir, \"/feature_selection/\", unified_dsets[dset_idx], \"_pbc_results.tsv\"))\n",
    "anova_df <- read_tsv(paste0(dirs$analysis_dir, \"/feature_selection/\", unified_dsets[dset_idx], \"_welch_anova_results.tsv\"))\n",
    "\n",
    "network_mm_gs_df <- read_tsv(paste0(dirs$analysis_dir, \"/network/\", unified_dsets[dset_idx], \"_gene_mm_gs.tsv\"))\n",
    "network_me_sig_df <- read_tsv(paste0(dirs$analysis_dir, \"/network/\", unified_dsets[dset_idx], \"_eigengene_traits.tsv\"))\n",
    "lnames <- load(file = paste0(dirs$data_dir, \"/saved_network_objects/\", unified_dsets[dset_idx], \"_tumor_data.RData\"))\n",
    "lnames <- load(file = paste0(dirs$data_dir, \"/saved_network_objects/\", unified_dsets[dset_idx], \"_tumor_network.RData\"))"
   ]
  },
  {
   "cell_type": "markdown",
   "id": "concrete-stress",
   "metadata": {},
   "source": [
    "# DGE analysis"
   ]
  },
  {
   "cell_type": "markdown",
   "id": "australian-defensive",
   "metadata": {},
   "source": [
    "## DEG"
   ]
  },
  {
   "cell_type": "code",
   "execution_count": 6,
   "id": "occupational-intent",
   "metadata": {},
   "outputs": [
    {
     "data": {
      "text/html": [
       "<dl>\n",
       "\t<dt>$n_deg</dt>\n",
       "\t\t<dd>8229</dd>\n",
       "\t<dt>$deg_prop</dt>\n",
       "\t\t<dd>0.406530975200079</dd>\n",
       "\t<dt>$n_up</dt>\n",
       "\t\t<dd>4862</dd>\n",
       "\t<dt>$n_down</dt>\n",
       "\t\t<dd>3367</dd>\n",
       "</dl>\n"
      ],
      "text/latex": [
       "\\begin{description}\n",
       "\\item[\\$n\\_deg] 8229\n",
       "\\item[\\$deg\\_prop] 0.406530975200079\n",
       "\\item[\\$n\\_up] 4862\n",
       "\\item[\\$n\\_down] 3367\n",
       "\\end{description}\n"
      ],
      "text/markdown": [
       "$n_deg\n",
       ":   8229\n",
       "$deg_prop\n",
       ":   0.406530975200079\n",
       "$n_up\n",
       ":   4862\n",
       "$n_down\n",
       ":   3367\n",
       "\n",
       "\n"
      ],
      "text/plain": [
       "$n_deg\n",
       "[1] 8229\n",
       "\n",
       "$deg_prop\n",
       "[1] 0.406531\n",
       "\n",
       "$n_up\n",
       "[1] 4862\n",
       "\n",
       "$n_down\n",
       "[1] 3367\n"
      ]
     },
     "metadata": {},
     "output_type": "display_data"
    }
   ],
   "source": [
    "deg_meta_ls <- deg_meta(deseq_results_df, lfc_thresh, q_deg_thresh, nrow(norm_counts_df))\n",
    "deg_meta_ls[1:4]"
   ]
  },
  {
   "cell_type": "markdown",
   "id": "desirable-environment",
   "metadata": {},
   "source": [
    "## DEMG"
   ]
  },
  {
   "cell_type": "code",
   "execution_count": 7,
   "id": "expected-composite",
   "metadata": {},
   "outputs": [
    {
     "data": {
      "text/html": [
       "<dl>\n",
       "\t<dt>$n_deg</dt>\n",
       "\t\t<dd>618</dd>\n",
       "\t<dt>$deg_prop</dt>\n",
       "\t\t<dd>0.613095238095238</dd>\n",
       "\t<dt>$n_up</dt>\n",
       "\t\t<dd>317</dd>\n",
       "\t<dt>$n_down</dt>\n",
       "\t\t<dd>301</dd>\n",
       "</dl>\n"
      ],
      "text/latex": [
       "\\begin{description}\n",
       "\\item[\\$n\\_deg] 618\n",
       "\\item[\\$deg\\_prop] 0.613095238095238\n",
       "\\item[\\$n\\_up] 317\n",
       "\\item[\\$n\\_down] 301\n",
       "\\end{description}\n"
      ],
      "text/markdown": [
       "$n_deg\n",
       ":   618\n",
       "$deg_prop\n",
       ":   0.613095238095238\n",
       "$n_up\n",
       ":   317\n",
       "$n_down\n",
       ":   301\n",
       "\n",
       "\n"
      ],
      "text/plain": [
       "$n_deg\n",
       "[1] 618\n",
       "\n",
       "$deg_prop\n",
       "[1] 0.6130952\n",
       "\n",
       "$n_up\n",
       "[1] 317\n",
       "\n",
       "$n_down\n",
       "[1] 301\n"
      ]
     },
     "metadata": {},
     "output_type": "display_data"
    }
   ],
   "source": [
    "m_deseq_results_df <- deseq_results_df %>%\n",
    "    dplyr::filter(geneID %in% matrisome_df$gene_symbol)\n",
    "demg_meta_ls <- deg_meta(m_deseq_results_df, lfc_thresh, q_deg_thresh, nrow(m_norm_counts_df))\n",
    "demg_meta_ls[1:4]"
   ]
  },
  {
   "cell_type": "markdown",
   "id": "posted-delight",
   "metadata": {},
   "source": [
    "# Uni/multivariate analysis"
   ]
  },
  {
   "cell_type": "markdown",
   "id": "extra-analysis",
   "metadata": {},
   "source": [
    "## FIGO"
   ]
  },
  {
   "cell_type": "markdown",
   "id": "resistant-apollo",
   "metadata": {},
   "source": [
    "### LASSO multinomial regression"
   ]
  },
  {
   "cell_type": "code",
   "execution_count": 8,
   "id": "functioning-space",
   "metadata": {},
   "outputs": [
    {
     "data": {
      "text/html": [
       "<strong>$n_var</strong> = 20"
      ],
      "text/latex": [
       "\\textbf{\\$n\\_var} = 20"
      ],
      "text/markdown": [
       "**$n_var** = 20"
      ],
      "text/plain": [
       "$n_var\n",
       "[1] 20\n"
      ]
     },
     "metadata": {},
     "output_type": "display_data"
    }
   ],
   "source": [
    "en_multinom_meta_ls <- list(n_var = nrow(en_multinom_df), genes = en_multinom_df$geneID)\n",
    "en_multinom_meta_ls[1]"
   ]
  },
  {
   "cell_type": "markdown",
   "id": "unauthorized-treaty",
   "metadata": {},
   "source": [
    "### Welch ANOVA"
   ]
  },
  {
   "cell_type": "code",
   "execution_count": 9,
   "id": "mineral-overall",
   "metadata": {},
   "outputs": [
    {
     "data": {
      "text/html": [
       "<strong>$n_sig</strong> = 17"
      ],
      "text/latex": [
       "\\textbf{\\$n\\_sig} = 17"
      ],
      "text/markdown": [
       "**$n_sig** = 17"
      ],
      "text/plain": [
       "$n_sig\n",
       "[1] 17\n"
      ]
     },
     "metadata": {},
     "output_type": "display_data"
    }
   ],
   "source": [
    "# anova_meta_ls <- simple_test_meta(anova_df, q_anova_thresh)\n",
    "anova_meta_df <- anova_df %>%\n",
    "    filter(qval < q_anova_thresh)\n",
    "anova_meta_ls <- list(n_sig = nrow(anova_meta_df), genes = anova_meta_df$geneID)\n",
    "anova_meta_ls[1]"
   ]
  },
  {
   "cell_type": "markdown",
   "id": "numerical-albania",
   "metadata": {},
   "source": [
    "### Point-biserial correlation with FIGO"
   ]
  },
  {
   "cell_type": "code",
   "execution_count": 10,
   "id": "starting-audience",
   "metadata": {},
   "outputs": [
    {
     "data": {
      "text/html": [
       "<strong>$n_sig</strong> = 3"
      ],
      "text/latex": [
       "\\textbf{\\$n\\_sig} = 3"
      ],
      "text/markdown": [
       "**$n_sig** = 3"
      ],
      "text/plain": [
       "$n_sig\n",
       "[1] 3\n"
      ]
     },
     "metadata": {},
     "output_type": "display_data"
    }
   ],
   "source": [
    "pbc_meta_df <- pbc_df %>%\n",
    "    condense_figo(include_pvals = TRUE) %>%\n",
    "    dplyr::filter(figo_min_qval < q_pbc_thresh)\n",
    "pbc_meta_ls <- list(n_sig = nrow(pbc_meta_df), genes = pbc_meta_df$geneID)\n",
    "pbc_meta_ls[1]"
   ]
  },
  {
   "cell_type": "code",
   "execution_count": 11,
   "id": "accredited-biodiversity",
   "metadata": {},
   "outputs": [
    {
     "data": {
      "text/html": [
       "6"
      ],
      "text/latex": [
       "6"
      ],
      "text/markdown": [
       "6"
      ],
      "text/plain": [
       "[1] 6"
      ]
     },
     "metadata": {},
     "output_type": "display_data"
    },
    {
     "data": {
      "text/html": [
       "1"
      ],
      "text/latex": [
       "1"
      ],
      "text/markdown": [
       "1"
      ],
      "text/plain": [
       "[1] 1"
      ]
     },
     "metadata": {},
     "output_type": "display_data"
    },
    {
     "data": {
      "text/html": [
       "0"
      ],
      "text/latex": [
       "0"
      ],
      "text/markdown": [
       "0"
      ],
      "text/plain": [
       "[1] 0"
      ]
     },
     "metadata": {},
     "output_type": "display_data"
    }
   ],
   "source": [
    "length(intersect(en_multinom_meta_ls$genes, anova_meta_ls$genes))\n",
    "length(intersect(en_multinom_meta_ls$genes, pbc_meta_ls$genes))\n",
    "length(intersect(anova_meta_ls$genes, pbc_meta_ls$genes))"
   ]
  },
  {
   "cell_type": "markdown",
   "id": "piano-canvas",
   "metadata": {},
   "source": [
    "## Survival"
   ]
  },
  {
   "cell_type": "markdown",
   "id": "flush-negotiation",
   "metadata": {},
   "source": [
    "### LASSO Cox PH"
   ]
  },
  {
   "cell_type": "code",
   "execution_count": 12,
   "id": "pursuant-messaging",
   "metadata": {},
   "outputs": [
    {
     "data": {
      "text/html": [
       "<strong>$n_var</strong> = 48"
      ],
      "text/latex": [
       "\\textbf{\\$n\\_var} = 48"
      ],
      "text/markdown": [
       "**$n_var** = 48"
      ],
      "text/plain": [
       "$n_var\n",
       "[1] 48\n"
      ]
     },
     "metadata": {},
     "output_type": "display_data"
    }
   ],
   "source": [
    "en_cph_meta_ls <- list(n_var = nrow(en_cph_df), genes = en_cph_df$geneID)\n",
    "en_cph_meta_ls[1]"
   ]
  },
  {
   "cell_type": "markdown",
   "id": "extended-bibliography",
   "metadata": {},
   "source": [
    "### Univariate KM/Cox PH"
   ]
  },
  {
   "cell_type": "code",
   "execution_count": 13,
   "id": "material-journal",
   "metadata": {},
   "outputs": [
    {
     "data": {
      "text/html": [
       "<strong>$n_sig</strong> = 3"
      ],
      "text/latex": [
       "\\textbf{\\$n\\_sig} = 3"
      ],
      "text/markdown": [
       "**$n_sig** = 3"
      ],
      "text/plain": [
       "$n_sig\n",
       "[1] 3\n"
      ]
     },
     "metadata": {},
     "output_type": "display_data"
    }
   ],
   "source": [
    "univ_survival_meta_df <- univ_survival_df %>%\n",
    "    rowwise() %>%\n",
    "    mutate(min_qval = min(km_qval, cph_qval)) %>%\n",
    "    as_tibble() %>%\n",
    "    filter(min_qval < q_univ_surv_thresh)\n",
    "\n",
    "univ_survival_meta_ls <- list(n_sig = nrow(univ_survival_meta_df), genes = univ_survival_meta_df$geneID)\n",
    "univ_survival_meta_ls[1]"
   ]
  },
  {
   "cell_type": "markdown",
   "id": "wrong-greenhouse",
   "metadata": {},
   "source": [
    "### Censored time screen"
   ]
  },
  {
   "cell_type": "code",
   "execution_count": 14,
   "id": "about-reviewer",
   "metadata": {},
   "outputs": [
    {
     "data": {
      "text/html": [
       "<strong>$n_sig</strong> = 2"
      ],
      "text/latex": [
       "\\textbf{\\$n\\_sig} = 2"
      ],
      "text/markdown": [
       "**$n_sig** = 2"
      ],
      "text/plain": [
       "$n_sig\n",
       "[1] 2\n"
      ]
     },
     "metadata": {},
     "output_type": "display_data"
    }
   ],
   "source": [
    "cts_meta_df <- cts_df %>%\n",
    "    dplyr::filter(vital_qval < q_cts_thresh)\n",
    "cts_meta_ls <- list(n_sig = nrow(cts_meta_df), genes = cts_meta_df$geneID)\n",
    "cts_meta_ls[1]"
   ]
  },
  {
   "cell_type": "code",
   "execution_count": 15,
   "id": "short-extent",
   "metadata": {},
   "outputs": [
    {
     "data": {
      "text/html": [
       "0"
      ],
      "text/latex": [
       "0"
      ],
      "text/markdown": [
       "0"
      ],
      "text/plain": [
       "[1] 0"
      ]
     },
     "metadata": {},
     "output_type": "display_data"
    }
   ],
   "source": [
    "univ_cph_list <- univ_survival_df %>%\n",
    "    dplyr::filter(cph_qval < q_univ_surv_thresh) %>%\n",
    "    dplyr::pull(geneID)\n",
    "\n",
    "length(intersect(cts_meta_ls$genes, univ_cph_list)) / length(union(cts_meta_ls$genes, univ_cph_list))"
   ]
  },
  {
   "cell_type": "code",
   "execution_count": 16,
   "id": "confirmed-particular",
   "metadata": {},
   "outputs": [
    {
     "data": {
      "text/html": [
       "2"
      ],
      "text/latex": [
       "2"
      ],
      "text/markdown": [
       "2"
      ],
      "text/plain": [
       "[1] 2"
      ]
     },
     "metadata": {},
     "output_type": "display_data"
    },
    {
     "data": {
      "text/html": [
       "2"
      ],
      "text/latex": [
       "2"
      ],
      "text/markdown": [
       "2"
      ],
      "text/plain": [
       "[1] 2"
      ]
     },
     "metadata": {},
     "output_type": "display_data"
    },
    {
     "data": {
      "text/html": [
       "1"
      ],
      "text/latex": [
       "1"
      ],
      "text/markdown": [
       "1"
      ],
      "text/plain": [
       "[1] 1"
      ]
     },
     "metadata": {},
     "output_type": "display_data"
    }
   ],
   "source": [
    "length(intersect(en_cph_meta_ls$genes, cts_meta_ls$genes))\n",
    "length(intersect(en_cph_meta_ls$genes, univ_survival_meta_ls$genes))\n",
    "length(intersect(univ_survival_meta_ls$genes, cts_meta_ls$genes))"
   ]
  },
  {
   "cell_type": "markdown",
   "id": "excited-carnival",
   "metadata": {},
   "source": [
    "# WGCNA"
   ]
  },
  {
   "cell_type": "code",
   "execution_count": 17,
   "id": "universal-warrior",
   "metadata": {},
   "outputs": [
    {
     "name": "stderr",
     "output_type": "stream",
     "text": [
      "\n",
      "\n"
     ]
    }
   ],
   "source": [
    "hub_df <- get_most_conn_genes(data_expr, module_colors, soft_power, conn_vs_hub_thresh = hub_con_thresh) %>%\n",
    "    bind_rows(.id = \"module\") %>%\n",
    "    dplyr::select(geneID, everything())"
   ]
  },
  {
   "cell_type": "code",
   "execution_count": 18,
   "id": "robust-adaptation",
   "metadata": {},
   "outputs": [
    {
     "data": {
      "text/html": [
       "<dl>\n",
       "\t<dt>$n_sig_modules</dt>\n",
       "\t\t<dd>3</dd>\n",
       "\t<dt>$n_sig_genes</dt>\n",
       "\t\t<dd>71</dd>\n",
       "</dl>\n"
      ],
      "text/latex": [
       "\\begin{description}\n",
       "\\item[\\$n\\_sig\\_modules] 3\n",
       "\\item[\\$n\\_sig\\_genes] 71\n",
       "\\end{description}\n"
      ],
      "text/markdown": [
       "$n_sig_modules\n",
       ":   3\n",
       "$n_sig_genes\n",
       ":   71\n",
       "\n",
       "\n"
      ],
      "text/plain": [
       "$n_sig_modules\n",
       "[1] 3\n",
       "\n",
       "$n_sig_genes\n",
       "[1] 71\n"
      ]
     },
     "metadata": {},
     "output_type": "display_data"
    }
   ],
   "source": [
    "wgcna_meta_ls <- wgcna_meta(network_me_sig_df, network_mm_gs_df, q_me_thresh, p_mm_thresh, hub_df$geneID)\n",
    "wgcna_meta_ls[1:2]"
   ]
  },
  {
   "cell_type": "markdown",
   "id": "variable-alliance",
   "metadata": {},
   "source": [
    "## TOM meta"
   ]
  },
  {
   "cell_type": "code",
   "execution_count": 19,
   "id": "visible-portuguese",
   "metadata": {},
   "outputs": [
    {
     "data": {
      "text/html": [
       "<style>\n",
       ".dl-inline {width: auto; margin:0; padding: 0}\n",
       ".dl-inline>dt, .dl-inline>dd {float: none; width: auto; display: inline-block}\n",
       ".dl-inline>dt::after {content: \":\\0020\"; padding-right: .5ex}\n",
       ".dl-inline>dt:not(:first-of-type) {padding-left: .5ex}\n",
       "</style><dl class=dl-inline><dt>0%</dt><dd>1.3</dd><dt>25%</dt><dd>2.7</dd><dt>50%</dt><dd>3.6</dd><dt>75%</dt><dd>5.5</dd><dt>100%</dt><dd>27.5</dd></dl>\n"
      ],
      "text/latex": [
       "\\begin{description*}\n",
       "\\item[0\\textbackslash{}\\%] 1.3\n",
       "\\item[25\\textbackslash{}\\%] 2.7\n",
       "\\item[50\\textbackslash{}\\%] 3.6\n",
       "\\item[75\\textbackslash{}\\%] 5.5\n",
       "\\item[100\\textbackslash{}\\%] 27.5\n",
       "\\end{description*}\n"
      ],
      "text/markdown": [
       "0%\n",
       ":   1.325%\n",
       ":   2.750%\n",
       ":   3.675%\n",
       ":   5.5100%\n",
       ":   27.5\n",
       "\n"
      ],
      "text/plain": [
       "  0%  25%  50%  75% 100% \n",
       " 1.3  2.7  3.6  5.5 27.5 "
      ]
     },
     "metadata": {},
     "output_type": "display_data"
    }
   ],
   "source": [
    "colnames(tom) <- colnames(data_expr)\n",
    "rownames(tom) <- colnames(data_expr)\n",
    "rowSums(tom) %>%\n",
    "    quantile() %>%\n",
    "    round(digits = 1)"
   ]
  },
  {
   "cell_type": "markdown",
   "id": "incomplete-brush",
   "metadata": {},
   "source": [
    "# Create Lists"
   ]
  },
  {
   "cell_type": "code",
   "execution_count": 20,
   "id": "dynamic-mileage",
   "metadata": {},
   "outputs": [],
   "source": [
    "deg_list <- deg_meta_ls$genes\n",
    "demg_list <- demg_meta_ls$genes\n",
    "figo_umsmg_list <- en_multinom_meta_ls$genes %>%\n",
    "    union(pbc_meta_ls$genes) %>%\n",
    "    union(anova_meta_ls$genes)\n",
    "survival_umsmg_list <- en_cph_meta_ls$genes %>%\n",
    "    union(cts_meta_ls$genes) %>%\n",
    "    union(univ_survival_meta_ls$genes)\n",
    "# all_umsmg_list <- figo_umsmg_list %>%\n",
    "#     intersect(survival_umsmg_list)\n",
    "figo_nsmg_list <- wgcna_meta_ls$genes\n",
    "# figo_umsmg_demg_list <- figo_umsmg_list %>%\n",
    "#     intersect(demg_list)\n",
    "# survival_umsmg_demg_list <- survival_umsmg_list %>%\n",
    "#     intersect(demg_list)\n",
    "# figo_umsmg_nsmg_demg_list <- figo_umsmg_list %>%\n",
    "#     intersect(figo_nsmg_list) %>%\n",
    "#     intersect(demg_list)\n",
    "figo_list <- figo_umsmg_list %>%\n",
    "    union(figo_nsmg_list) %>%\n",
    "    intersect(demg_list)\n",
    "survival_list <- survival_umsmg_list %>%\n",
    "    intersect(demg_list)\n",
    "full_overlap_list <- figo_list %>%\n",
    "    intersect(survival_list)"
   ]
  },
  {
   "cell_type": "code",
   "execution_count": 23,
   "id": "acute-chinese",
   "metadata": {},
   "outputs": [
    {
     "data": {
      "text/html": [
       "8229"
      ],
      "text/latex": [
       "8229"
      ],
      "text/markdown": [
       "8229"
      ],
      "text/plain": [
       "[1] 8229"
      ]
     },
     "metadata": {},
     "output_type": "display_data"
    },
    {
     "data": {
      "text/html": [
       "618"
      ],
      "text/latex": [
       "618"
      ],
      "text/markdown": [
       "618"
      ],
      "text/plain": [
       "[1] 618"
      ]
     },
     "metadata": {},
     "output_type": "display_data"
    },
    {
     "data": {
      "text/html": [
       "33"
      ],
      "text/latex": [
       "33"
      ],
      "text/markdown": [
       "33"
      ],
      "text/plain": [
       "[1] 33"
      ]
     },
     "metadata": {},
     "output_type": "display_data"
    },
    {
     "data": {
      "text/html": [
       "49"
      ],
      "text/latex": [
       "49"
      ],
      "text/markdown": [
       "49"
      ],
      "text/plain": [
       "[1] 49"
      ]
     },
     "metadata": {},
     "output_type": "display_data"
    },
    {
     "data": {
      "text/html": [
       "65"
      ],
      "text/latex": [
       "65"
      ],
      "text/markdown": [
       "65"
      ],
      "text/plain": [
       "[1] 65"
      ]
     },
     "metadata": {},
     "output_type": "display_data"
    },
    {
     "data": {
      "text/html": [
       "26"
      ],
      "text/latex": [
       "26"
      ],
      "text/markdown": [
       "26"
      ],
      "text/plain": [
       "[1] 26"
      ]
     },
     "metadata": {},
     "output_type": "display_data"
    },
    {
     "data": {
      "text/html": [
       "2"
      ],
      "text/latex": [
       "2"
      ],
      "text/markdown": [
       "2"
      ],
      "text/plain": [
       "[1] 2"
      ]
     },
     "metadata": {},
     "output_type": "display_data"
    }
   ],
   "source": [
    "length(deg_list)\n",
    "length(demg_list)\n",
    "length(figo_umsmg_list)\n",
    "length(survival_umsmg_list)\n",
    "length(figo_list)\n",
    "length(survival_list)\n",
    "length(full_overlap_list)\n",
    "\n",
    "# length(deg_list)\n",
    "# length(demg_list)\n",
    "# length(figo_umsmg_list)\n",
    "# length(figo_nsmg_list)\n",
    "# length(survival_umsmg_list)\n",
    "# length(all_umsmg_list)\n",
    "# length(figo_umsmg_demg_list)\n",
    "# length(survival_umsmg_demg_list)\n",
    "# length(figo_umsmg_nsmg_demg_list)"
   ]
  },
  {
   "cell_type": "markdown",
   "id": "surrounded-baltimore",
   "metadata": {},
   "source": [
    "# Save lists"
   ]
  },
  {
   "cell_type": "code",
   "execution_count": 22,
   "id": "clear-sunset",
   "metadata": {},
   "outputs": [],
   "source": [
    "if (save_lists) {\n",
    "    write_lines(deg_list, paste0(dirs$analysis_dir, \"/gene_lists/\", unified_dsets[dset_idx], \"_deg_list.txt\"))\n",
    "    write_lines(demg_list, paste0(dirs$analysis_dir, \"/gene_lists/\", unified_dsets[dset_idx], \"_demg_list.txt\"))\n",
    "    write_lines(figo_umsmg_list, paste0(dirs$analysis_dir, \"/gene_lists/\", unified_dsets[dset_idx], \"_figo_umsmg_list.txt\"))\n",
    "    write_lines(survival_umsmg_list, paste0(dirs$analysis_dir, \"/gene_lists/\", unified_dsets[dset_idx], \"_survival_umsmg_list.txt\"))\n",
    "    write_lines(figo_nsmg_list, paste0(dirs$analysis_dir, \"/gene_lists/\", unified_dsets[dset_idx], \"_figo_nsmg_list.txt\"))\n",
    "}"
   ]
  },
  {
   "cell_type": "code",
   "execution_count": null,
   "id": "portuguese-friendly",
   "metadata": {},
   "outputs": [],
   "source": []
  }
 ],
 "metadata": {
  "kernelspec": {
   "display_name": "R",
   "language": "R",
   "name": "ir"
  },
  "language_info": {
   "codemirror_mode": "r",
   "file_extension": ".r",
   "mimetype": "text/x-r-source",
   "name": "R",
   "pygments_lexer": "r",
   "version": "4.0.3"
  }
 },
 "nbformat": 4,
 "nbformat_minor": 5
}
