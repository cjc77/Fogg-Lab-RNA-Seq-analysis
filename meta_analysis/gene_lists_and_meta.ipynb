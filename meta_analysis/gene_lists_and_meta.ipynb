{
 "cells": [
  {
   "cell_type": "code",
   "execution_count": 1,
   "id": "generous-developer",
   "metadata": {},
   "outputs": [
    {
     "name": "stderr",
     "output_type": "stream",
     "text": [
      "-- \u001b[1mAttaching packages\u001b[22m ------------------------------------------------------------------------------------------------------- tidyverse 1.3.0 --\n",
      "\n",
      "\u001b[32mv\u001b[39m \u001b[34mggplot2\u001b[39m 3.3.3     \u001b[32mv\u001b[39m \u001b[34mpurrr  \u001b[39m 0.3.4\n",
      "\u001b[32mv\u001b[39m \u001b[34mtibble \u001b[39m 3.0.6     \u001b[32mv\u001b[39m \u001b[34mdplyr  \u001b[39m 1.0.4\n",
      "\u001b[32mv\u001b[39m \u001b[34mtidyr  \u001b[39m 1.1.2     \u001b[32mv\u001b[39m \u001b[34mstringr\u001b[39m 1.4.0\n",
      "\u001b[32mv\u001b[39m \u001b[34mreadr  \u001b[39m 1.4.0     \u001b[32mv\u001b[39m \u001b[34mforcats\u001b[39m 0.5.1\n",
      "\n",
      "-- \u001b[1mConflicts\u001b[22m ---------------------------------------------------------------------------------------------------------- tidyverse_conflicts() --\n",
      "\u001b[31mx\u001b[39m \u001b[34mdplyr\u001b[39m::\u001b[32mfilter()\u001b[39m masks \u001b[34mstats\u001b[39m::filter()\n",
      "\u001b[31mx\u001b[39m \u001b[34mdplyr\u001b[39m::\u001b[32mlag()\u001b[39m    masks \u001b[34mstats\u001b[39m::lag()\n",
      "\n"
     ]
    }
   ],
   "source": [
    "library(tidyverse)\n",
    "\n",
    "# Custom package\n",
    "library(rutils)"
   ]
  },
  {
   "cell_type": "code",
   "execution_count": 2,
   "id": "functional-delay",
   "metadata": {},
   "outputs": [],
   "source": [
    "dirs <- rutils::get_dev_directories(dev_paths_file = \"../dev_paths.txt\")\n",
    "projects <- c(\"TCGA-CESC\", \"TCGA-UCS\", \"TCGA-UCEC\", \"TCGA-OV\")\n",
    "unified_dsets <- c(\"unified_cervical_data\", \"unified_uterine_data\", \"unified_uterine_endometrial_data\")\n",
    "matrisome_list <- paste0(dirs$data_dir, \"/matrisome/matrisome_hs_masterlist.tsv\")"
   ]
  },
  {
   "cell_type": "code",
   "execution_count": 3,
   "id": "proof-consumer",
   "metadata": {},
   "outputs": [],
   "source": [
    "dset_idx <- 3\n",
    "save_lists <- TRUE"
   ]
  },
  {
   "cell_type": "code",
   "execution_count": 4,
   "id": "velvet-system",
   "metadata": {},
   "outputs": [],
   "source": [
    "p_thresh <- 0.05\n",
    "lfc_thresh <- log2(2)\n",
    "q_deg_thresh <- 0.05\n",
    "q_anova_thresh <- 0.05\n",
    "q_me_thresh <- 0.05\n",
    "coxph_coeff_thresh <- 0.0\n",
    "mi_thresh <- 0.0\n",
    "consensus_thresh <- 0.0\n",
    "consensus_n <- 5\n",
    "hub_con_thresh <- 0"
   ]
  },
  {
   "cell_type": "markdown",
   "id": "frank-coating",
   "metadata": {},
   "source": [
    "# Functions"
   ]
  },
  {
   "cell_type": "code",
   "execution_count": 5,
   "id": "protected-paintball",
   "metadata": {},
   "outputs": [],
   "source": [
    "get_consensus_col <- function(df, n, thresh = 0) {\n",
    "    consensus_df <- df %>%\n",
    "        dplyr::select(geneID, contains(\"mean\")) %>%\n",
    "        dplyr::mutate(consensus = rowSums(.[-1] > thresh) >= n)\n",
    "    df %>% dplyr::mutate(consensus = consensus_df$consensus)\n",
    "}"
   ]
  },
  {
   "cell_type": "markdown",
   "id": "still-shore",
   "metadata": {},
   "source": [
    "# Data"
   ]
  },
  {
   "cell_type": "code",
   "execution_count": 6,
   "id": "hungarian-grove",
   "metadata": {},
   "outputs": [
    {
     "name": "stderr",
     "output_type": "stream",
     "text": [
      "\n",
      "\u001b[36m--\u001b[39m \u001b[1m\u001b[1mColumn specification\u001b[1m\u001b[22m \u001b[36m------------------------------------------------------------------------------------------------------------------------\u001b[39m\n",
      "cols(\n",
      "  Division = \u001b[31mcol_character()\u001b[39m,\n",
      "  Category = \u001b[31mcol_character()\u001b[39m,\n",
      "  `Gene Symbol` = \u001b[31mcol_character()\u001b[39m,\n",
      "  `Gene Name` = \u001b[31mcol_character()\u001b[39m,\n",
      "  Synonyms = \u001b[31mcol_character()\u001b[39m,\n",
      "  HGNC_IDs = \u001b[32mcol_double()\u001b[39m,\n",
      "  `HGNC_IDs Links` = \u001b[32mcol_double()\u001b[39m,\n",
      "  UniProt_IDs = \u001b[31mcol_character()\u001b[39m,\n",
      "  Refseq_IDs = \u001b[31mcol_character()\u001b[39m,\n",
      "  Orthology = \u001b[31mcol_character()\u001b[39m,\n",
      "  Notes = \u001b[31mcol_character()\u001b[39m\n",
      ")\n",
      "\n",
      "\n",
      "\n",
      "\u001b[36m--\u001b[39m \u001b[1m\u001b[1mColumn specification\u001b[1m\u001b[22m \u001b[36m------------------------------------------------------------------------------------------------------------------------\u001b[39m\n",
      "cols(\n",
      "  .default = col_double(),\n",
      "  geneID = \u001b[31mcol_character()\u001b[39m\n",
      ")\n",
      "\u001b[36mi\u001b[39m Use \u001b[30m\u001b[47m\u001b[30m\u001b[47m`spec()`\u001b[47m\u001b[30m\u001b[49m\u001b[39m for the full column specifications.\n",
      "\n",
      "\n",
      "\n",
      "\u001b[36m--\u001b[39m \u001b[1m\u001b[1mColumn specification\u001b[1m\u001b[22m \u001b[36m------------------------------------------------------------------------------------------------------------------------\u001b[39m\n",
      "cols(\n",
      "  geneID = \u001b[31mcol_character()\u001b[39m,\n",
      "  baseMean = \u001b[32mcol_double()\u001b[39m,\n",
      "  log2FoldChange = \u001b[32mcol_double()\u001b[39m,\n",
      "  lfcSE = \u001b[32mcol_double()\u001b[39m,\n",
      "  stat = \u001b[32mcol_double()\u001b[39m,\n",
      "  pvalue = \u001b[32mcol_double()\u001b[39m,\n",
      "  padj = \u001b[32mcol_double()\u001b[39m,\n",
      "  qval = \u001b[32mcol_double()\u001b[39m\n",
      ")\n",
      "\n",
      "\n",
      "\n",
      "\u001b[36m--\u001b[39m \u001b[1m\u001b[1mColumn specification\u001b[1m\u001b[22m \u001b[36m------------------------------------------------------------------------------------------------------------------------\u001b[39m\n",
      "cols(\n",
      "  geneID = \u001b[31mcol_character()\u001b[39m,\n",
      "  pval = \u001b[32mcol_double()\u001b[39m,\n",
      "  padj = \u001b[32mcol_double()\u001b[39m,\n",
      "  qval = \u001b[32mcol_double()\u001b[39m\n",
      ")\n",
      "\n",
      "\n",
      "\n",
      "\u001b[36m--\u001b[39m \u001b[1m\u001b[1mColumn specification\u001b[1m\u001b[22m \u001b[36m------------------------------------------------------------------------------------------------------------------------\u001b[39m\n",
      "cols(\n",
      "  geneID = \u001b[31mcol_character()\u001b[39m,\n",
      "  MI_est_median = \u001b[32mcol_double()\u001b[39m\n",
      ")\n",
      "\n",
      "\n",
      "\n",
      "\u001b[36m--\u001b[39m \u001b[1m\u001b[1mColumn specification\u001b[1m\u001b[22m \u001b[36m------------------------------------------------------------------------------------------------------------------------\u001b[39m\n",
      "cols(\n",
      "  dataset = \u001b[31mcol_character()\u001b[39m,\n",
      "  f1_macro_majority = \u001b[32mcol_double()\u001b[39m,\n",
      "  f1_macro_MC = \u001b[32mcol_double()\u001b[39m,\n",
      "  n = \u001b[32mcol_double()\u001b[39m\n",
      ")\n",
      "\n",
      "\n",
      "\n",
      "\u001b[36m--\u001b[39m \u001b[1m\u001b[1mColumn specification\u001b[1m\u001b[22m \u001b[36m------------------------------------------------------------------------------------------------------------------------\u001b[39m\n",
      "cols(\n",
      "  model = \u001b[32mcol_double()\u001b[39m,\n",
      "  ref_score = \u001b[32mcol_double()\u001b[39m\n",
      ")\n",
      "\n",
      "\n",
      "\n",
      "\u001b[36m--\u001b[39m \u001b[1m\u001b[1mColumn specification\u001b[1m\u001b[22m \u001b[36m------------------------------------------------------------------------------------------------------------------------\u001b[39m\n",
      "cols(\n",
      "  geneID = \u001b[31mcol_character()\u001b[39m,\n",
      "  mean_imp_0 = \u001b[32mcol_double()\u001b[39m,\n",
      "  score_pct_improvement_0 = \u001b[32mcol_double()\u001b[39m,\n",
      "  mean_imp_1 = \u001b[32mcol_double()\u001b[39m,\n",
      "  score_pct_improvement_1 = \u001b[32mcol_double()\u001b[39m,\n",
      "  mean_imp_2 = \u001b[32mcol_double()\u001b[39m,\n",
      "  score_pct_improvement_2 = \u001b[32mcol_double()\u001b[39m,\n",
      "  mean_imp_3 = \u001b[32mcol_double()\u001b[39m,\n",
      "  score_pct_improvement_3 = \u001b[32mcol_double()\u001b[39m,\n",
      "  mean_imp_4 = \u001b[32mcol_double()\u001b[39m,\n",
      "  score_pct_improvement_4 = \u001b[32mcol_double()\u001b[39m\n",
      ")\n",
      "\n",
      "\n",
      "\n",
      "\u001b[36m--\u001b[39m \u001b[1m\u001b[1mColumn specification\u001b[1m\u001b[22m \u001b[36m------------------------------------------------------------------------------------------------------------------------\u001b[39m\n",
      "cols(\n",
      "  .default = col_double(),\n",
      "  geneID = \u001b[31mcol_character()\u001b[39m,\n",
      "  module = \u001b[31mcol_character()\u001b[39m\n",
      ")\n",
      "\u001b[36mi\u001b[39m Use \u001b[30m\u001b[47m\u001b[30m\u001b[47m`spec()`\u001b[47m\u001b[30m\u001b[49m\u001b[39m for the full column specifications.\n",
      "\n",
      "\n",
      "\n",
      "\u001b[36m--\u001b[39m \u001b[1m\u001b[1mColumn specification\u001b[1m\u001b[22m \u001b[36m------------------------------------------------------------------------------------------------------------------------\u001b[39m\n",
      "cols(\n",
      "  module = \u001b[31mcol_character()\u001b[39m,\n",
      "  figo_stage_1_cor = \u001b[32mcol_double()\u001b[39m,\n",
      "  figo_stage_2_cor = \u001b[32mcol_double()\u001b[39m,\n",
      "  figo_stage_3_cor = \u001b[32mcol_double()\u001b[39m,\n",
      "  figo_stage_4_cor = \u001b[32mcol_double()\u001b[39m,\n",
      "  figo_stage_1_pval = \u001b[32mcol_double()\u001b[39m,\n",
      "  figo_stage_2_pval = \u001b[32mcol_double()\u001b[39m,\n",
      "  figo_stage_3_pval = \u001b[32mcol_double()\u001b[39m,\n",
      "  figo_stage_4_pval = \u001b[32mcol_double()\u001b[39m,\n",
      "  figo_stage_1_qval = \u001b[32mcol_double()\u001b[39m,\n",
      "  figo_stage_2_qval = \u001b[32mcol_double()\u001b[39m,\n",
      "  figo_stage_3_qval = \u001b[32mcol_double()\u001b[39m,\n",
      "  figo_stage_4_qval = \u001b[32mcol_double()\u001b[39m,\n",
      "  vital_hr = \u001b[32mcol_double()\u001b[39m,\n",
      "  vital_dev_cor = \u001b[32mcol_double()\u001b[39m,\n",
      "  vital_pval = \u001b[32mcol_double()\u001b[39m,\n",
      "  vital_qval = \u001b[32mcol_double()\u001b[39m\n",
      ")\n",
      "\n",
      "\n"
     ]
    }
   ],
   "source": [
    "matrisome_df <- rutils::load_matrisome_df(matrisome_list) %>%\n",
    "    dplyr::select(gene_symbol, division, category)\n",
    "norm_counts_df <- read_tsv(paste0(dirs$data_dir, \"/\", unified_dsets[dset_idx], \"/\", \"norm_counts.tsv\"))\n",
    "m_norm_counts_df <- norm_counts_df %>%\n",
    "    dplyr::filter(geneID %in% matrisome_df$gene_symbol)\n",
    "deseq_results_df <- read_tsv(paste0(dirs$analysis_dir, \"/deg/\", unified_dsets[dset_idx], \"_DESeq_results.tsv\")) %>%\n",
    "    rename(base_mean = baseMean, lfc = log2FoldChange)\n",
    "welch_anova_results_df <- read_tsv(paste0(dirs$analysis_dir, \"/feature_selection/\", unified_dsets[dset_idx], \"_welch_anova_results.tsv\"))\n",
    "mi_figo_results_df <- read_tsv(paste0(dirs$analysis_dir, \"/feature_selection/\", unified_dsets[dset_idx], \"_MI_figo_results.tsv\")) %>%\n",
    "    dplyr::rename(mi_est = MI_est_median)\n",
    "cls_baselines_df <- read_tsv(paste0(dirs$analysis_dir, \"/meta/\", \"cls_baselines.tsv\"))\n",
    "f1_l1_lr_scores_df <- read_tsv(paste0(dirs$analysis_dir, \"/feature_selection/\", unified_dsets[dset_idx], \"_l1_lr_ref_scores.tsv\"))\n",
    "f1_l1_lr_results_df <- read_tsv(paste0(dirs$analysis_dir, \"/feature_selection/\", unified_dsets[dset_idx], \"_l1_lr_results.tsv\")) %>%\n",
    "    get_consensus_col(n = consensus_n, thresh = consensus_thresh)\n",
    "network_mm_gs_df <- read_tsv(paste0(dirs$analysis_dir, \"/network/\", unified_dsets[dset_idx], \"_gene_mm_gs.tsv\"))\n",
    "network_me_sig_df <- read_tsv(paste0(dirs$analysis_dir, \"/network/\", unified_dsets[dset_idx], \"_eigengene_traits.tsv\"))\n",
    "lnames <- load(file = paste0(dirs$data_dir, \"/saved_network_objects/\", unified_dsets[dset_idx], \"_tumor_data.RData\"))\n",
    "lnames <- load(file = paste0(dirs$data_dir, \"/saved_network_objects/\", unified_dsets[dset_idx], \"_tumor_network.RData\"))"
   ]
  },
  {
   "cell_type": "markdown",
   "id": "simplified-mistake",
   "metadata": {},
   "source": [
    "# DGE analysis"
   ]
  },
  {
   "cell_type": "markdown",
   "id": "floppy-salvation",
   "metadata": {},
   "source": [
    "## DEG"
   ]
  },
  {
   "cell_type": "code",
   "execution_count": 7,
   "id": "powered-testing",
   "metadata": {},
   "outputs": [
    {
     "data": {
      "text/html": [
       "<dl>\n",
       "\t<dt>$n_deg</dt>\n",
       "\t\t<dd>8229</dd>\n",
       "\t<dt>$deg_prop</dt>\n",
       "\t\t<dd>0.406530975200079</dd>\n",
       "\t<dt>$n_up</dt>\n",
       "\t\t<dd>4862</dd>\n",
       "\t<dt>$n_down</dt>\n",
       "\t\t<dd>3367</dd>\n",
       "</dl>\n"
      ],
      "text/latex": [
       "\\begin{description}\n",
       "\\item[\\$n\\_deg] 8229\n",
       "\\item[\\$deg\\_prop] 0.406530975200079\n",
       "\\item[\\$n\\_up] 4862\n",
       "\\item[\\$n\\_down] 3367\n",
       "\\end{description}\n"
      ],
      "text/markdown": [
       "$n_deg\n",
       ":   8229\n",
       "$deg_prop\n",
       ":   0.406530975200079\n",
       "$n_up\n",
       ":   4862\n",
       "$n_down\n",
       ":   3367\n",
       "\n",
       "\n"
      ],
      "text/plain": [
       "$n_deg\n",
       "[1] 8229\n",
       "\n",
       "$deg_prop\n",
       "[1] 0.406531\n",
       "\n",
       "$n_up\n",
       "[1] 4862\n",
       "\n",
       "$n_down\n",
       "[1] 3367\n"
      ]
     },
     "metadata": {},
     "output_type": "display_data"
    }
   ],
   "source": [
    "deg_meta_ls <- deg_meta(deseq_results_df, lfc_thresh, q_deg_thresh, nrow(norm_counts_df))\n",
    "deg_meta_ls[1:4]"
   ]
  },
  {
   "cell_type": "markdown",
   "id": "previous-delaware",
   "metadata": {},
   "source": [
    "## DEMG"
   ]
  },
  {
   "cell_type": "code",
   "execution_count": 8,
   "id": "tough-church",
   "metadata": {},
   "outputs": [
    {
     "data": {
      "text/html": [
       "<dl>\n",
       "\t<dt>$n_deg</dt>\n",
       "\t\t<dd>618</dd>\n",
       "\t<dt>$deg_prop</dt>\n",
       "\t\t<dd>0.613095238095238</dd>\n",
       "\t<dt>$n_up</dt>\n",
       "\t\t<dd>317</dd>\n",
       "\t<dt>$n_down</dt>\n",
       "\t\t<dd>301</dd>\n",
       "</dl>\n"
      ],
      "text/latex": [
       "\\begin{description}\n",
       "\\item[\\$n\\_deg] 618\n",
       "\\item[\\$deg\\_prop] 0.613095238095238\n",
       "\\item[\\$n\\_up] 317\n",
       "\\item[\\$n\\_down] 301\n",
       "\\end{description}\n"
      ],
      "text/markdown": [
       "$n_deg\n",
       ":   618\n",
       "$deg_prop\n",
       ":   0.613095238095238\n",
       "$n_up\n",
       ":   317\n",
       "$n_down\n",
       ":   301\n",
       "\n",
       "\n"
      ],
      "text/plain": [
       "$n_deg\n",
       "[1] 618\n",
       "\n",
       "$deg_prop\n",
       "[1] 0.6130952\n",
       "\n",
       "$n_up\n",
       "[1] 317\n",
       "\n",
       "$n_down\n",
       "[1] 301\n"
      ]
     },
     "metadata": {},
     "output_type": "display_data"
    }
   ],
   "source": [
    "m_deseq_results_df <- deseq_results_df %>%\n",
    "    dplyr::filter(geneID %in% matrisome_df$gene_symbol)\n",
    "demg_meta_ls <- deg_meta(m_deseq_results_df, lfc_thresh, q_deg_thresh, nrow(m_norm_counts_df))\n",
    "demg_meta_ls[1:4]"
   ]
  },
  {
   "cell_type": "markdown",
   "id": "jewish-texas",
   "metadata": {},
   "source": [
    "# Uni/multivariate analysis"
   ]
  },
  {
   "cell_type": "markdown",
   "id": "vulnerable-aircraft",
   "metadata": {},
   "source": [
    "## Welch ANOVA"
   ]
  },
  {
   "cell_type": "code",
   "execution_count": 9,
   "id": "based-experiment",
   "metadata": {},
   "outputs": [
    {
     "data": {
      "text/html": [
       "<strong>$n_sig</strong> = 16"
      ],
      "text/latex": [
       "\\textbf{\\$n\\_sig} = 16"
      ],
      "text/markdown": [
       "**$n_sig** = 16"
      ],
      "text/plain": [
       "$n_sig\n",
       "[1] 16\n"
      ]
     },
     "metadata": {},
     "output_type": "display_data"
    }
   ],
   "source": [
    "anova_meta_ls <- simple_test_meta(welch_anova_results_df, q_anova_thresh)\n",
    "anova_meta_ls[1]"
   ]
  },
  {
   "cell_type": "markdown",
   "id": "textile-surprise",
   "metadata": {},
   "source": [
    "## MI"
   ]
  },
  {
   "cell_type": "code",
   "execution_count": 10,
   "id": "alleged-rouge",
   "metadata": {},
   "outputs": [
    {
     "data": {
      "text/html": [
       "<strong>$n_mi</strong> = 52"
      ],
      "text/latex": [
       "\\textbf{\\$n\\_mi} = 52"
      ],
      "text/markdown": [
       "**$n_mi** = 52"
      ],
      "text/plain": [
       "$n_mi\n",
       "[1] 52\n"
      ]
     },
     "metadata": {},
     "output_type": "display_data"
    }
   ],
   "source": [
    "mi_meta_ls <- mi_meta(mi_figo_results_df, 50)\n",
    "mi_meta_ls[1]"
   ]
  },
  {
   "cell_type": "markdown",
   "id": "authorized-mountain",
   "metadata": {},
   "source": [
    "# ML baselines"
   ]
  },
  {
   "cell_type": "code",
   "execution_count": 11,
   "id": "earlier-rotation",
   "metadata": {},
   "outputs": [
    {
     "data": {
      "text/html": [
       "<dl>\n",
       "\t<dt>$dataset</dt>\n",
       "\t\t<dd>'unified_uterine_endometrial_data'</dd>\n",
       "\t<dt>$naive</dt>\n",
       "\t\t<dd>0.173809523809524</dd>\n",
       "\t<dt>$mc</dt>\n",
       "\t\t<dd>0.248283168400536</dd>\n",
       "\t<dt>$n_obs</dt>\n",
       "\t\t<dd>137</dd>\n",
       "</dl>\n"
      ],
      "text/latex": [
       "\\begin{description}\n",
       "\\item[\\$dataset] 'unified\\_uterine\\_endometrial\\_data'\n",
       "\\item[\\$naive] 0.173809523809524\n",
       "\\item[\\$mc] 0.248283168400536\n",
       "\\item[\\$n\\_obs] 137\n",
       "\\end{description}\n"
      ],
      "text/markdown": [
       "$dataset\n",
       ":   'unified_uterine_endometrial_data'\n",
       "$naive\n",
       ":   0.173809523809524\n",
       "$mc\n",
       ":   0.248283168400536\n",
       "$n_obs\n",
       ":   137\n",
       "\n",
       "\n"
      ],
      "text/plain": [
       "$dataset\n",
       "[1] \"unified_uterine_endometrial_data\"\n",
       "\n",
       "$naive\n",
       "[1] 0.1738095\n",
       "\n",
       "$mc\n",
       "[1] 0.2482832\n",
       "\n",
       "$n_obs\n",
       "[1] 137\n"
      ]
     },
     "metadata": {},
     "output_type": "display_data"
    }
   ],
   "source": [
    "cls_baselines <- as.list(cls_baselines_df[dset_idx,])\n",
    "names(cls_baselines) <- c(\"dataset\", \"naive\", \"mc\", \"n_obs\")\n",
    "f1_macro_majority_baseline <- cls_baselines$naive\n",
    "f1_macro_mc_baseline <- cls_baselines$mc\n",
    "cls_baselines"
   ]
  },
  {
   "cell_type": "markdown",
   "id": "suffering-disability",
   "metadata": {},
   "source": [
    "# LR (L1)"
   ]
  },
  {
   "cell_type": "code",
   "execution_count": 12,
   "id": "mighty-senegal",
   "metadata": {},
   "outputs": [
    {
     "data": {
      "text/html": [
       "<dl>\n",
       "\t<dt>$avg_score</dt>\n",
       "\t\t<dd>0.354026811258891</dd>\n",
       "\t<dt>$naive_pct_imp</dt>\n",
       "\t\t<dd>103.686658532513</dd>\n",
       "\t<dt>$mc_pct_imp</dt>\n",
       "\t\t<dd>42.5899361360523</dd>\n",
       "\t<dt>$n_genes</dt>\n",
       "\t\t<dd>76</dd>\n",
       "</dl>\n"
      ],
      "text/latex": [
       "\\begin{description}\n",
       "\\item[\\$avg\\_score] 0.354026811258891\n",
       "\\item[\\$naive\\_pct\\_imp] 103.686658532513\n",
       "\\item[\\$mc\\_pct\\_imp] 42.5899361360523\n",
       "\\item[\\$n\\_genes] 76\n",
       "\\end{description}\n"
      ],
      "text/markdown": [
       "$avg_score\n",
       ":   0.354026811258891\n",
       "$naive_pct_imp\n",
       ":   103.686658532513\n",
       "$mc_pct_imp\n",
       ":   42.5899361360523\n",
       "$n_genes\n",
       ":   76\n",
       "\n",
       "\n"
      ],
      "text/plain": [
       "$avg_score\n",
       "[1] 0.3540268\n",
       "\n",
       "$naive_pct_imp\n",
       "[1] 103.6867\n",
       "\n",
       "$mc_pct_imp\n",
       "[1] 42.58994\n",
       "\n",
       "$n_genes\n",
       "[1] 76\n"
      ]
     },
     "metadata": {},
     "output_type": "display_data"
    }
   ],
   "source": [
    "lr_l1_meta_ls <- lr_l1_meta(f1_l1_lr_scores_df, f1_l1_lr_results_df, cls_baselines)\n",
    "lr_l1_meta_ls[1:4]"
   ]
  },
  {
   "cell_type": "markdown",
   "id": "cross-liability",
   "metadata": {},
   "source": [
    "# WGCNA"
   ]
  },
  {
   "cell_type": "code",
   "execution_count": 13,
   "id": "failing-component",
   "metadata": {},
   "outputs": [
    {
     "name": "stderr",
     "output_type": "stream",
     "text": [
      "\n",
      "\n"
     ]
    }
   ],
   "source": [
    "hub_df <- get_most_conn_genes(data_expr, module_colors, soft_power, conn_vs_hub_thresh = hub_con_thresh) %>%\n",
    "    bind_rows(.id = \"module\") %>%\n",
    "    dplyr::select(geneID, everything())"
   ]
  },
  {
   "cell_type": "code",
   "execution_count": 14,
   "id": "southern-serial",
   "metadata": {},
   "outputs": [
    {
     "data": {
      "text/html": [
       "<dl>\n",
       "\t<dt>$n_sig_modules</dt>\n",
       "\t\t<dd>3</dd>\n",
       "\t<dt>$n_sig_genes</dt>\n",
       "\t\t<dd>71</dd>\n",
       "</dl>\n"
      ],
      "text/latex": [
       "\\begin{description}\n",
       "\\item[\\$n\\_sig\\_modules] 3\n",
       "\\item[\\$n\\_sig\\_genes] 71\n",
       "\\end{description}\n"
      ],
      "text/markdown": [
       "$n_sig_modules\n",
       ":   3\n",
       "$n_sig_genes\n",
       ":   71\n",
       "\n",
       "\n"
      ],
      "text/plain": [
       "$n_sig_modules\n",
       "[1] 3\n",
       "\n",
       "$n_sig_genes\n",
       "[1] 71\n"
      ]
     },
     "metadata": {},
     "output_type": "display_data"
    }
   ],
   "source": [
    "wgcna_meta_ls <- wgcna_meta(network_me_sig_df, network_mm_gs_df, q_me_thresh, p_thresh, hub_df$geneID)\n",
    "wgcna_meta_ls[1:2]"
   ]
  },
  {
   "cell_type": "markdown",
   "id": "breeding-treat",
   "metadata": {},
   "source": [
    "# Create Lists"
   ]
  },
  {
   "cell_type": "code",
   "execution_count": 15,
   "id": "purple-barcelona",
   "metadata": {},
   "outputs": [],
   "source": [
    "deg_list <- deg_meta_ls$genes\n",
    "demg_list <- demg_meta_ls$genes\n",
    "umsmg_list <- lr_l1_meta_ls$genes %>%\n",
    "    union(anova_meta_ls$genes) %>%\n",
    "    union(mi_meta_ls$genes)\n",
    "nsmg_list <- wgcna_meta_ls$genes\n",
    "umsmg_demg_list <- umsmg_list %>%\n",
    "    intersect(demg_list)\n",
    "nsmg_demg_list <- nsmg_list %>%\n",
    "    intersect(demg_list)\n",
    "umsmg_nsmg_demg_list <- intersect(umsmg_demg_list, nsmg_demg_list)"
   ]
  },
  {
   "cell_type": "code",
   "execution_count": 16,
   "id": "otherwise-calibration",
   "metadata": {},
   "outputs": [
    {
     "data": {
      "text/html": [
       "8229"
      ],
      "text/latex": [
       "8229"
      ],
      "text/markdown": [
       "8229"
      ],
      "text/plain": [
       "[1] 8229"
      ]
     },
     "metadata": {},
     "output_type": "display_data"
    },
    {
     "data": {
      "text/html": [
       "618"
      ],
      "text/latex": [
       "618"
      ],
      "text/markdown": [
       "618"
      ],
      "text/plain": [
       "[1] 618"
      ]
     },
     "metadata": {},
     "output_type": "display_data"
    },
    {
     "data": {
      "text/html": [
       "135"
      ],
      "text/latex": [
       "135"
      ],
      "text/markdown": [
       "135"
      ],
      "text/plain": [
       "[1] 135"
      ]
     },
     "metadata": {},
     "output_type": "display_data"
    },
    {
     "data": {
      "text/html": [
       "71"
      ],
      "text/latex": [
       "71"
      ],
      "text/markdown": [
       "71"
      ],
      "text/plain": [
       "[1] 71"
      ]
     },
     "metadata": {},
     "output_type": "display_data"
    },
    {
     "data": {
      "text/html": [
       "82"
      ],
      "text/latex": [
       "82"
      ],
      "text/markdown": [
       "82"
      ],
      "text/plain": [
       "[1] 82"
      ]
     },
     "metadata": {},
     "output_type": "display_data"
    },
    {
     "data": {
      "text/html": [
       "44"
      ],
      "text/latex": [
       "44"
      ],
      "text/markdown": [
       "44"
      ],
      "text/plain": [
       "[1] 44"
      ]
     },
     "metadata": {},
     "output_type": "display_data"
    },
    {
     "data": {
      "text/html": [
       "7"
      ],
      "text/latex": [
       "7"
      ],
      "text/markdown": [
       "7"
      ],
      "text/plain": [
       "[1] 7"
      ]
     },
     "metadata": {},
     "output_type": "display_data"
    }
   ],
   "source": [
    "length(deg_list)\n",
    "length(demg_list)\n",
    "length(umsmg_list)\n",
    "length(nsmg_list)\n",
    "length(umsmg_demg_list)\n",
    "length(nsmg_demg_list)\n",
    "length(umsmg_nsmg_demg_list)"
   ]
  },
  {
   "cell_type": "markdown",
   "id": "upper-closure",
   "metadata": {},
   "source": [
    "# Save lists"
   ]
  },
  {
   "cell_type": "code",
   "execution_count": 17,
   "id": "adaptive-landing",
   "metadata": {},
   "outputs": [],
   "source": [
    "if (save_lists) {\n",
    "    write_lines(deg_list, paste0(dirs$analysis_dir, \"/gene_lists/\", unified_dsets[dset_idx], \"_deg_list.txt\"))\n",
    "    write_lines(demg_list, paste0(dirs$analysis_dir, \"/gene_lists/\", unified_dsets[dset_idx], \"_demg_list.txt\"))\n",
    "    write_lines(umsmg_list, paste0(dirs$analysis_dir, \"/gene_lists/\", unified_dsets[dset_idx], \"_umsmg_list.txt\"))\n",
    "    write_lines(nsmg_list, paste0(dirs$analysis_dir, \"/gene_lists/\", unified_dsets[dset_idx], \"_nsmg_hub_thresh_\", hub_con_thresh, \"_list.txt\"))\n",
    "    write_lines(umsmg_demg_list, paste0(dirs$analysis_dir, \"/gene_lists/\", unified_dsets[dset_idx], \"_umsmg_demg_list.txt\"))\n",
    "    write_lines(nsmg_demg_list, paste0(dirs$analysis_dir, \"/gene_lists/\", unified_dsets[dset_idx], \"_nsmg_hub_thresh_\", hub_con_thresh, \"_demg_list.txt\"))\n",
    "    write_lines(umsmg_nsmg_demg_list, paste0(dirs$analysis_dir, \"/gene_lists/\", unified_dsets[dset_idx], \"_umsmg_nsmg_hub_thresh_\", hub_con_thresh, \"_demg_list.txt\"))\n",
    "}"
   ]
  },
  {
   "cell_type": "code",
   "execution_count": null,
   "id": "olympic-projector",
   "metadata": {},
   "outputs": [],
   "source": []
  }
 ],
 "metadata": {
  "kernelspec": {
   "display_name": "R",
   "language": "R",
   "name": "ir"
  },
  "language_info": {
   "codemirror_mode": "r",
   "file_extension": ".r",
   "mimetype": "text/x-r-source",
   "name": "R",
   "pygments_lexer": "r",
   "version": "4.0.3"
  }
 },
 "nbformat": 4,
 "nbformat_minor": 5
}
