{
 "cells": [
  {
   "cell_type": "code",
   "execution_count": 1,
   "id": "color-moral",
   "metadata": {},
   "outputs": [
    {
     "name": "stderr",
     "output_type": "stream",
     "text": [
      "-- \u001b[1mAttaching packages\u001b[22m --------------------------------------------------------------------------------------------------------- tidyverse 1.3.0 --\n",
      "\n",
      "\u001b[32mv\u001b[39m \u001b[34mggplot2\u001b[39m 3.3.3     \u001b[32mv\u001b[39m \u001b[34mpurrr  \u001b[39m 0.3.4\n",
      "\u001b[32mv\u001b[39m \u001b[34mtibble \u001b[39m 3.0.6     \u001b[32mv\u001b[39m \u001b[34mdplyr  \u001b[39m 1.0.4\n",
      "\u001b[32mv\u001b[39m \u001b[34mtidyr  \u001b[39m 1.1.2     \u001b[32mv\u001b[39m \u001b[34mstringr\u001b[39m 1.4.0\n",
      "\u001b[32mv\u001b[39m \u001b[34mreadr  \u001b[39m 1.4.0     \u001b[32mv\u001b[39m \u001b[34mforcats\u001b[39m 0.5.1\n",
      "\n",
      "-- \u001b[1mConflicts\u001b[22m ------------------------------------------------------------------------------------------------------------ tidyverse_conflicts() --\n",
      "\u001b[31mx\u001b[39m \u001b[34mdplyr\u001b[39m::\u001b[32mfilter()\u001b[39m masks \u001b[34mstats\u001b[39m::filter()\n",
      "\u001b[31mx\u001b[39m \u001b[34mdplyr\u001b[39m::\u001b[32mlag()\u001b[39m    masks \u001b[34mstats\u001b[39m::lag()\n",
      "\n"
     ]
    }
   ],
   "source": [
    "library(tidyverse)\n",
    "\n",
    "# Custom package\n",
    "library(rutils)"
   ]
  },
  {
   "cell_type": "code",
   "execution_count": 2,
   "id": "patent-douglas",
   "metadata": {},
   "outputs": [],
   "source": [
    "dirs <- rutils::get_dev_directories(dev_paths_file = \"../dev_paths.txt\")\n",
    "projects <- c(\"TCGA-CESC\", \"TCGA-UCS\", \"TCGA-UCEC\", \"TCGA-OV\")\n",
    "unified_dsets <- c(\"unified_cervical_data\", \"unified_uterine_data\", \"unified_uterine_endometrial_data\")\n",
    "matrisome_list <- paste0(dirs$data_dir, \"/matrisome/matrisome_hs_masterlist.tsv\")"
   ]
  },
  {
   "cell_type": "code",
   "execution_count": 3,
   "id": "modern-variation",
   "metadata": {},
   "outputs": [],
   "source": [
    "dset_idx <- 2\n",
    "save_lists <- TRUE"
   ]
  },
  {
   "cell_type": "code",
   "execution_count": 4,
   "id": "subsequent-captain",
   "metadata": {},
   "outputs": [],
   "source": [
    "p_thresh <- 0.05\n",
    "lfc_thresh <- log2(2)\n",
    "hub_con_thresh <- 0\n",
    "q_deg_thresh <- 0.05\n",
    "q_anova_thresh <- 0.05\n",
    "q_me_thresh <- 0.05\n",
    "cph_coeff_thresh <- 0.0\n",
    "q_pbc_thresh <- 0.05\n",
    "q_cts_thresh <- 0.05\n",
    "q_univ_surv_thresh <- 0.05"
   ]
  },
  {
   "cell_type": "markdown",
   "id": "ancient-signature",
   "metadata": {},
   "source": [
    "# Functions"
   ]
  },
  {
   "cell_type": "code",
   "execution_count": null,
   "id": "governmental-korean",
   "metadata": {},
   "outputs": [],
   "source": []
  },
  {
   "cell_type": "markdown",
   "id": "young-membrane",
   "metadata": {},
   "source": [
    "# Data"
   ]
  },
  {
   "cell_type": "code",
   "execution_count": 5,
   "id": "vocational-laptop",
   "metadata": {},
   "outputs": [
    {
     "name": "stderr",
     "output_type": "stream",
     "text": [
      "\n",
      "\u001b[36m--\u001b[39m \u001b[1m\u001b[1mColumn specification\u001b[1m\u001b[22m \u001b[36m--------------------------------------------------------------------------------------------------------------------------\u001b[39m\n",
      "cols(\n",
      "  Division = \u001b[31mcol_character()\u001b[39m,\n",
      "  Category = \u001b[31mcol_character()\u001b[39m,\n",
      "  `Gene Symbol` = \u001b[31mcol_character()\u001b[39m,\n",
      "  `Gene Name` = \u001b[31mcol_character()\u001b[39m,\n",
      "  Synonyms = \u001b[31mcol_character()\u001b[39m,\n",
      "  HGNC_IDs = \u001b[32mcol_double()\u001b[39m,\n",
      "  `HGNC_IDs Links` = \u001b[32mcol_double()\u001b[39m,\n",
      "  UniProt_IDs = \u001b[31mcol_character()\u001b[39m,\n",
      "  Refseq_IDs = \u001b[31mcol_character()\u001b[39m,\n",
      "  Orthology = \u001b[31mcol_character()\u001b[39m,\n",
      "  Notes = \u001b[31mcol_character()\u001b[39m\n",
      ")\n",
      "\n",
      "\n",
      "\n",
      "\u001b[36m--\u001b[39m \u001b[1m\u001b[1mColumn specification\u001b[1m\u001b[22m \u001b[36m--------------------------------------------------------------------------------------------------------------------------\u001b[39m\n",
      "cols(\n",
      "  .default = col_double(),\n",
      "  geneID = \u001b[31mcol_character()\u001b[39m\n",
      ")\n",
      "\u001b[36mi\u001b[39m Use \u001b[30m\u001b[47m\u001b[30m\u001b[47m`spec()`\u001b[47m\u001b[30m\u001b[49m\u001b[39m for the full column specifications.\n",
      "\n",
      "\n",
      "\n",
      "\u001b[36m--\u001b[39m \u001b[1m\u001b[1mColumn specification\u001b[1m\u001b[22m \u001b[36m--------------------------------------------------------------------------------------------------------------------------\u001b[39m\n",
      "cols(\n",
      "  geneID = \u001b[31mcol_character()\u001b[39m,\n",
      "  baseMean = \u001b[32mcol_double()\u001b[39m,\n",
      "  log2FoldChange = \u001b[32mcol_double()\u001b[39m,\n",
      "  lfcSE = \u001b[32mcol_double()\u001b[39m,\n",
      "  stat = \u001b[32mcol_double()\u001b[39m,\n",
      "  pvalue = \u001b[32mcol_double()\u001b[39m,\n",
      "  padj = \u001b[32mcol_double()\u001b[39m,\n",
      "  qval = \u001b[32mcol_double()\u001b[39m\n",
      ")\n",
      "\n",
      "\n",
      "\n",
      "\u001b[36m--\u001b[39m \u001b[1m\u001b[1mColumn specification\u001b[1m\u001b[22m \u001b[36m--------------------------------------------------------------------------------------------------------------------------\u001b[39m\n",
      "cols(\n",
      "  geneID = \u001b[31mcol_character()\u001b[39m,\n",
      "  coeff = \u001b[32mcol_double()\u001b[39m\n",
      ")\n",
      "\n",
      "\n",
      "\n",
      "\u001b[36m--\u001b[39m \u001b[1m\u001b[1mColumn specification\u001b[1m\u001b[22m \u001b[36m--------------------------------------------------------------------------------------------------------------------------\u001b[39m\n",
      "cols(\n",
      "  geneID = \u001b[31mcol_character()\u001b[39m,\n",
      "  vital_pval = \u001b[32mcol_double()\u001b[39m,\n",
      "  vital_qval = \u001b[32mcol_double()\u001b[39m,\n",
      "  hr = \u001b[32mcol_double()\u001b[39m\n",
      ")\n",
      "\n",
      "\n",
      "\n",
      "\u001b[36m--\u001b[39m \u001b[1m\u001b[1mColumn specification\u001b[1m\u001b[22m \u001b[36m--------------------------------------------------------------------------------------------------------------------------\u001b[39m\n",
      "cols(\n",
      "  geneID = \u001b[31mcol_character()\u001b[39m,\n",
      "  km_pval = \u001b[32mcol_double()\u001b[39m,\n",
      "  km_qval = \u001b[32mcol_double()\u001b[39m,\n",
      "  cph_pval = \u001b[32mcol_double()\u001b[39m,\n",
      "  cph_qval = \u001b[32mcol_double()\u001b[39m,\n",
      "  coeff = \u001b[32mcol_double()\u001b[39m\n",
      ")\n",
      "\n",
      "\n",
      "\n",
      "\u001b[36m--\u001b[39m \u001b[1m\u001b[1mColumn specification\u001b[1m\u001b[22m \u001b[36m--------------------------------------------------------------------------------------------------------------------------\u001b[39m\n",
      "cols(\n",
      "  geneID = \u001b[31mcol_character()\u001b[39m\n",
      ")\n",
      "\n",
      "\n",
      "\n",
      "\u001b[36m--\u001b[39m \u001b[1m\u001b[1mColumn specification\u001b[1m\u001b[22m \u001b[36m--------------------------------------------------------------------------------------------------------------------------\u001b[39m\n",
      "cols(\n",
      "  geneID = \u001b[31mcol_character()\u001b[39m,\n",
      "  figo_stage_1_pval = \u001b[32mcol_double()\u001b[39m,\n",
      "  figo_stage_2_pval = \u001b[32mcol_double()\u001b[39m,\n",
      "  figo_stage_3_pval = \u001b[32mcol_double()\u001b[39m,\n",
      "  figo_stage_4_pval = \u001b[32mcol_double()\u001b[39m,\n",
      "  figo_stage_1_qval = \u001b[32mcol_double()\u001b[39m,\n",
      "  figo_stage_2_qval = \u001b[32mcol_double()\u001b[39m,\n",
      "  figo_stage_3_qval = \u001b[32mcol_double()\u001b[39m,\n",
      "  figo_stage_4_qval = \u001b[32mcol_double()\u001b[39m,\n",
      "  figo_stage_1_cor = \u001b[32mcol_double()\u001b[39m,\n",
      "  figo_stage_2_cor = \u001b[32mcol_double()\u001b[39m,\n",
      "  figo_stage_3_cor = \u001b[32mcol_double()\u001b[39m,\n",
      "  figo_stage_4_cor = \u001b[32mcol_double()\u001b[39m\n",
      ")\n",
      "\n",
      "\n",
      "\n",
      "\u001b[36m--\u001b[39m \u001b[1m\u001b[1mColumn specification\u001b[1m\u001b[22m \u001b[36m--------------------------------------------------------------------------------------------------------------------------\u001b[39m\n",
      "cols(\n",
      "  geneID = \u001b[31mcol_character()\u001b[39m,\n",
      "  pval = \u001b[32mcol_double()\u001b[39m,\n",
      "  padj = \u001b[32mcol_double()\u001b[39m,\n",
      "  qval = \u001b[32mcol_double()\u001b[39m\n",
      ")\n",
      "\n",
      "\n",
      "\n",
      "\u001b[36m--\u001b[39m \u001b[1m\u001b[1mColumn specification\u001b[1m\u001b[22m \u001b[36m--------------------------------------------------------------------------------------------------------------------------\u001b[39m\n",
      "cols(\n",
      "  .default = col_double(),\n",
      "  geneID = \u001b[31mcol_character()\u001b[39m,\n",
      "  module = \u001b[31mcol_character()\u001b[39m\n",
      ")\n",
      "\u001b[36mi\u001b[39m Use \u001b[30m\u001b[47m\u001b[30m\u001b[47m`spec()`\u001b[47m\u001b[30m\u001b[49m\u001b[39m for the full column specifications.\n",
      "\n",
      "\n",
      "\n",
      "\u001b[36m--\u001b[39m \u001b[1m\u001b[1mColumn specification\u001b[1m\u001b[22m \u001b[36m--------------------------------------------------------------------------------------------------------------------------\u001b[39m\n",
      "cols(\n",
      "  module = \u001b[31mcol_character()\u001b[39m,\n",
      "  figo_stage_1_cor = \u001b[32mcol_double()\u001b[39m,\n",
      "  figo_stage_2_cor = \u001b[32mcol_double()\u001b[39m,\n",
      "  figo_stage_3_cor = \u001b[32mcol_double()\u001b[39m,\n",
      "  figo_stage_4_cor = \u001b[32mcol_double()\u001b[39m,\n",
      "  figo_stage_1_pval = \u001b[32mcol_double()\u001b[39m,\n",
      "  figo_stage_2_pval = \u001b[32mcol_double()\u001b[39m,\n",
      "  figo_stage_3_pval = \u001b[32mcol_double()\u001b[39m,\n",
      "  figo_stage_4_pval = \u001b[32mcol_double()\u001b[39m,\n",
      "  figo_stage_1_qval = \u001b[32mcol_double()\u001b[39m,\n",
      "  figo_stage_2_qval = \u001b[32mcol_double()\u001b[39m,\n",
      "  figo_stage_3_qval = \u001b[32mcol_double()\u001b[39m,\n",
      "  figo_stage_4_qval = \u001b[32mcol_double()\u001b[39m,\n",
      "  vital_hr = \u001b[32mcol_double()\u001b[39m,\n",
      "  vital_dev_cor = \u001b[32mcol_double()\u001b[39m,\n",
      "  vital_pval = \u001b[32mcol_double()\u001b[39m,\n",
      "  vital_qval = \u001b[32mcol_double()\u001b[39m\n",
      ")\n",
      "\n",
      "\n"
     ]
    }
   ],
   "source": [
    "matrisome_df <- rutils::load_matrisome_df(matrisome_list) %>%\n",
    "    dplyr::select(gene_symbol, division, category)\n",
    "norm_counts_df <- read_tsv(paste0(dirs$data_dir, \"/\", unified_dsets[dset_idx], \"/\", \"norm_counts.tsv\"))\n",
    "m_norm_counts_df <- norm_counts_df %>%\n",
    "    dplyr::filter(geneID %in% matrisome_df$gene_symbol)\n",
    "\n",
    "deseq_results_df <- read_tsv(paste0(dirs$analysis_dir, \"/deg/\", unified_dsets[dset_idx], \"_DESeq_results.tsv\")) %>%\n",
    "    rename(base_mean = baseMean, lfc = log2FoldChange)\n",
    "\n",
    "en_cph_df <- read_tsv(paste0(dirs$analysis_dir, \"/feature_selection/\", unified_dsets[dset_idx], \"_en_cph_results.tsv\"))\n",
    "cts_df <- read_tsv(paste0(dirs$analysis_dir, \"/feature_selection/\", unified_dsets[dset_idx], \"_survival_cts_results.tsv\"))\n",
    "univ_survival_df <- read_tsv(paste0(dirs$analysis_dir, \"/feature_selection/\", unified_dsets[dset_idx], \"_univ_survival_results.tsv\"))\n",
    "\n",
    "en_multinom_df <- read_tsv(paste0(dirs$analysis_dir, \"/feature_selection/\", unified_dsets[dset_idx], \"_en_multinom_results.tsv\"))\n",
    "pbc_df <- read_tsv(paste0(dirs$analysis_dir, \"/feature_selection/\", unified_dsets[dset_idx], \"_pbc_results.tsv\"))\n",
    "anova_df <- read_tsv(paste0(dirs$analysis_dir, \"/feature_selection/\", unified_dsets[dset_idx], \"_welch_anova_results.tsv\"))\n",
    "\n",
    "network_mm_gs_df <- read_tsv(paste0(dirs$analysis_dir, \"/network/\", unified_dsets[dset_idx], \"_gene_mm_gs.tsv\"))\n",
    "network_me_sig_df <- read_tsv(paste0(dirs$analysis_dir, \"/network/\", unified_dsets[dset_idx], \"_eigengene_traits.tsv\"))\n",
    "lnames <- load(file = paste0(dirs$data_dir, \"/saved_network_objects/\", unified_dsets[dset_idx], \"_tumor_data.RData\"))\n",
    "lnames <- load(file = paste0(dirs$data_dir, \"/saved_network_objects/\", unified_dsets[dset_idx], \"_tumor_network.RData\"))"
   ]
  },
  {
   "cell_type": "markdown",
   "id": "informed-northern",
   "metadata": {},
   "source": [
    "# DGE analysis"
   ]
  },
  {
   "cell_type": "markdown",
   "id": "educational-principal",
   "metadata": {},
   "source": [
    "## DEG"
   ]
  },
  {
   "cell_type": "code",
   "execution_count": 6,
   "id": "crazy-hobby",
   "metadata": {},
   "outputs": [
    {
     "data": {
      "text/html": [
       "<dl>\n",
       "\t<dt>$n_deg</dt>\n",
       "\t\t<dd>7646</dd>\n",
       "\t<dt>$deg_prop</dt>\n",
       "\t\t<dd>0.377729473372196</dd>\n",
       "\t<dt>$n_up</dt>\n",
       "\t\t<dd>4682</dd>\n",
       "\t<dt>$n_down</dt>\n",
       "\t\t<dd>2964</dd>\n",
       "</dl>\n"
      ],
      "text/latex": [
       "\\begin{description}\n",
       "\\item[\\$n\\_deg] 7646\n",
       "\\item[\\$deg\\_prop] 0.377729473372196\n",
       "\\item[\\$n\\_up] 4682\n",
       "\\item[\\$n\\_down] 2964\n",
       "\\end{description}\n"
      ],
      "text/markdown": [
       "$n_deg\n",
       ":   7646\n",
       "$deg_prop\n",
       ":   0.377729473372196\n",
       "$n_up\n",
       ":   4682\n",
       "$n_down\n",
       ":   2964\n",
       "\n",
       "\n"
      ],
      "text/plain": [
       "$n_deg\n",
       "[1] 7646\n",
       "\n",
       "$deg_prop\n",
       "[1] 0.3777295\n",
       "\n",
       "$n_up\n",
       "[1] 4682\n",
       "\n",
       "$n_down\n",
       "[1] 2964\n"
      ]
     },
     "metadata": {},
     "output_type": "display_data"
    }
   ],
   "source": [
    "deg_meta_ls <- deg_meta(deseq_results_df, lfc_thresh, q_deg_thresh, nrow(norm_counts_df))\n",
    "deg_meta_ls[1:4]"
   ]
  },
  {
   "cell_type": "markdown",
   "id": "collectible-farmer",
   "metadata": {},
   "source": [
    "## DEMG"
   ]
  },
  {
   "cell_type": "code",
   "execution_count": 7,
   "id": "corresponding-employer",
   "metadata": {},
   "outputs": [
    {
     "data": {
      "text/html": [
       "<dl>\n",
       "\t<dt>$n_deg</dt>\n",
       "\t\t<dd>595</dd>\n",
       "\t<dt>$deg_prop</dt>\n",
       "\t\t<dd>0.590277777777778</dd>\n",
       "\t<dt>$n_up</dt>\n",
       "\t\t<dd>363</dd>\n",
       "\t<dt>$n_down</dt>\n",
       "\t\t<dd>232</dd>\n",
       "</dl>\n"
      ],
      "text/latex": [
       "\\begin{description}\n",
       "\\item[\\$n\\_deg] 595\n",
       "\\item[\\$deg\\_prop] 0.590277777777778\n",
       "\\item[\\$n\\_up] 363\n",
       "\\item[\\$n\\_down] 232\n",
       "\\end{description}\n"
      ],
      "text/markdown": [
       "$n_deg\n",
       ":   595\n",
       "$deg_prop\n",
       ":   0.590277777777778\n",
       "$n_up\n",
       ":   363\n",
       "$n_down\n",
       ":   232\n",
       "\n",
       "\n"
      ],
      "text/plain": [
       "$n_deg\n",
       "[1] 595\n",
       "\n",
       "$deg_prop\n",
       "[1] 0.5902778\n",
       "\n",
       "$n_up\n",
       "[1] 363\n",
       "\n",
       "$n_down\n",
       "[1] 232\n"
      ]
     },
     "metadata": {},
     "output_type": "display_data"
    }
   ],
   "source": [
    "m_deseq_results_df <- deseq_results_df %>%\n",
    "    dplyr::filter(geneID %in% matrisome_df$gene_symbol)\n",
    "demg_meta_ls <- deg_meta(m_deseq_results_df, lfc_thresh, q_deg_thresh, nrow(m_norm_counts_df))\n",
    "demg_meta_ls[1:4]"
   ]
  },
  {
   "cell_type": "markdown",
   "id": "fancy-collector",
   "metadata": {},
   "source": [
    "# Uni/multivariate analysis"
   ]
  },
  {
   "cell_type": "markdown",
   "id": "continued-disorder",
   "metadata": {},
   "source": [
    "## FIGO"
   ]
  },
  {
   "cell_type": "markdown",
   "id": "cross-honolulu",
   "metadata": {},
   "source": [
    "### LASSO multinomial regression"
   ]
  },
  {
   "cell_type": "code",
   "execution_count": 8,
   "id": "resident-district",
   "metadata": {},
   "outputs": [
    {
     "data": {
      "text/html": [
       "<strong>$n_var</strong> = 63"
      ],
      "text/latex": [
       "\\textbf{\\$n\\_var} = 63"
      ],
      "text/markdown": [
       "**$n_var** = 63"
      ],
      "text/plain": [
       "$n_var\n",
       "[1] 63\n"
      ]
     },
     "metadata": {},
     "output_type": "display_data"
    }
   ],
   "source": [
    "en_multinom_meta_ls <- list(n_var = nrow(en_multinom_df), genes = en_multinom_df$geneID)\n",
    "en_multinom_meta_ls[1]"
   ]
  },
  {
   "cell_type": "markdown",
   "id": "finite-colleague",
   "metadata": {},
   "source": [
    "### Welch ANOVA"
   ]
  },
  {
   "cell_type": "code",
   "execution_count": 9,
   "id": "rocky-charge",
   "metadata": {},
   "outputs": [
    {
     "data": {
      "text/html": [
       "<strong>$n_sig</strong> = 12"
      ],
      "text/latex": [
       "\\textbf{\\$n\\_sig} = 12"
      ],
      "text/markdown": [
       "**$n_sig** = 12"
      ],
      "text/plain": [
       "$n_sig\n",
       "[1] 12\n"
      ]
     },
     "metadata": {},
     "output_type": "display_data"
    }
   ],
   "source": [
    "anova_meta_ls <- simple_test_meta(anova_df, q_anova_thresh)\n",
    "anova_meta_ls[1]"
   ]
  },
  {
   "cell_type": "markdown",
   "id": "fatal-nevada",
   "metadata": {},
   "source": [
    "### Point-biserial correlation with FIGO"
   ]
  },
  {
   "cell_type": "code",
   "execution_count": 10,
   "id": "lightweight-typing",
   "metadata": {},
   "outputs": [
    {
     "data": {
      "text/html": [
       "<strong>$n_sig</strong> = 0"
      ],
      "text/latex": [
       "\\textbf{\\$n\\_sig} = 0"
      ],
      "text/markdown": [
       "**$n_sig** = 0"
      ],
      "text/plain": [
       "$n_sig\n",
       "[1] 0\n"
      ]
     },
     "metadata": {},
     "output_type": "display_data"
    }
   ],
   "source": [
    "pbc_meta_df <- pbc_df %>%\n",
    "    condense_figo(include_pvals = TRUE) %>%\n",
    "    dplyr::filter(figo_min_qval < q_pbc_thresh)\n",
    "pbc_meta_ls <- list(n_sig = nrow(pbc_meta_df), genes = pbc_meta_df$geneID)\n",
    "pbc_meta_ls[1]"
   ]
  },
  {
   "cell_type": "code",
   "execution_count": 11,
   "id": "identified-netherlands",
   "metadata": {},
   "outputs": [
    {
     "data": {
      "text/html": [
       "6"
      ],
      "text/latex": [
       "6"
      ],
      "text/markdown": [
       "6"
      ],
      "text/plain": [
       "[1] 6"
      ]
     },
     "metadata": {},
     "output_type": "display_data"
    },
    {
     "data": {
      "text/html": [
       "0"
      ],
      "text/latex": [
       "0"
      ],
      "text/markdown": [
       "0"
      ],
      "text/plain": [
       "[1] 0"
      ]
     },
     "metadata": {},
     "output_type": "display_data"
    },
    {
     "data": {
      "text/html": [
       "0"
      ],
      "text/latex": [
       "0"
      ],
      "text/markdown": [
       "0"
      ],
      "text/plain": [
       "[1] 0"
      ]
     },
     "metadata": {},
     "output_type": "display_data"
    }
   ],
   "source": [
    "length(intersect(en_multinom_meta_ls$genes, anova_meta_ls$genes))\n",
    "length(intersect(en_multinom_meta_ls$genes, pbc_meta_ls$genes))\n",
    "length(intersect(anova_meta_ls$genes, pbc_meta_ls$genes))"
   ]
  },
  {
   "cell_type": "markdown",
   "id": "relevant-insert",
   "metadata": {},
   "source": [
    "## Survival"
   ]
  },
  {
   "cell_type": "markdown",
   "id": "integral-lyric",
   "metadata": {},
   "source": [
    "### LASSO Cox PH"
   ]
  },
  {
   "cell_type": "code",
   "execution_count": 12,
   "id": "satisfied-arcade",
   "metadata": {},
   "outputs": [
    {
     "data": {
      "text/html": [
       "<strong>$n_var</strong> = 27"
      ],
      "text/latex": [
       "\\textbf{\\$n\\_var} = 27"
      ],
      "text/markdown": [
       "**$n_var** = 27"
      ],
      "text/plain": [
       "$n_var\n",
       "[1] 27\n"
      ]
     },
     "metadata": {},
     "output_type": "display_data"
    }
   ],
   "source": [
    "en_cph_meta_ls <- list(n_var = nrow(en_cph_df), genes = en_cph_df$geneID)\n",
    "en_cph_meta_ls[1]"
   ]
  },
  {
   "cell_type": "markdown",
   "id": "liable-headquarters",
   "metadata": {},
   "source": [
    "### Censored time screen"
   ]
  },
  {
   "cell_type": "code",
   "execution_count": 13,
   "id": "raising-proposition",
   "metadata": {},
   "outputs": [
    {
     "data": {
      "text/html": [
       "<strong>$n_sig</strong> = 1"
      ],
      "text/latex": [
       "\\textbf{\\$n\\_sig} = 1"
      ],
      "text/markdown": [
       "**$n_sig** = 1"
      ],
      "text/plain": [
       "$n_sig\n",
       "[1] 1\n"
      ]
     },
     "metadata": {},
     "output_type": "display_data"
    }
   ],
   "source": [
    "cts_meta_df <- cts_df %>%\n",
    "    dplyr::filter(vital_qval < q_cts_thresh)\n",
    "cts_meta_ls <- list(n_sig = nrow(cts_meta_df), genes = cts_meta_df$geneID)\n",
    "cts_meta_ls[1]"
   ]
  },
  {
   "cell_type": "code",
   "execution_count": 14,
   "id": "small-mexico",
   "metadata": {},
   "outputs": [
    {
     "data": {
      "text/html": [
       "<strong>$n_sig</strong> = 2"
      ],
      "text/latex": [
       "\\textbf{\\$n\\_sig} = 2"
      ],
      "text/markdown": [
       "**$n_sig** = 2"
      ],
      "text/plain": [
       "$n_sig\n",
       "[1] 2\n"
      ]
     },
     "metadata": {},
     "output_type": "display_data"
    }
   ],
   "source": [
    "univ_survival_meta_df <- univ_survival_df %>%\n",
    "    dplyr::filter(km_qval < q_univ_surv_thresh | cph_qval < q_univ_surv_thresh)\n",
    "univ_survival_meta_ls <- list(n_sig = nrow(univ_survival_meta_df), genes = univ_survival_meta_df$geneID)\n",
    "univ_survival_meta_ls[1]"
   ]
  },
  {
   "cell_type": "markdown",
   "id": "shaped-bradley",
   "metadata": {},
   "source": [
    "# WGCNA"
   ]
  },
  {
   "cell_type": "code",
   "execution_count": 15,
   "id": "valuable-bahamas",
   "metadata": {},
   "outputs": [
    {
     "name": "stderr",
     "output_type": "stream",
     "text": [
      "\n",
      "\n"
     ]
    }
   ],
   "source": [
    "hub_df <- get_most_conn_genes(data_expr, module_colors, soft_power, conn_vs_hub_thresh = hub_con_thresh) %>%\n",
    "    bind_rows(.id = \"module\") %>%\n",
    "    dplyr::select(geneID, everything())"
   ]
  },
  {
   "cell_type": "code",
   "execution_count": 16,
   "id": "living-privilege",
   "metadata": {},
   "outputs": [
    {
     "data": {
      "text/html": [
       "<dl>\n",
       "\t<dt>$n_sig_modules</dt>\n",
       "\t\t<dd>3</dd>\n",
       "\t<dt>$n_sig_genes</dt>\n",
       "\t\t<dd>175</dd>\n",
       "</dl>\n"
      ],
      "text/latex": [
       "\\begin{description}\n",
       "\\item[\\$n\\_sig\\_modules] 3\n",
       "\\item[\\$n\\_sig\\_genes] 175\n",
       "\\end{description}\n"
      ],
      "text/markdown": [
       "$n_sig_modules\n",
       ":   3\n",
       "$n_sig_genes\n",
       ":   175\n",
       "\n",
       "\n"
      ],
      "text/plain": [
       "$n_sig_modules\n",
       "[1] 3\n",
       "\n",
       "$n_sig_genes\n",
       "[1] 175\n"
      ]
     },
     "metadata": {},
     "output_type": "display_data"
    }
   ],
   "source": [
    "wgcna_meta_ls <- wgcna_meta(network_me_sig_df, network_mm_gs_df, q_me_thresh, p_thresh, hub_df$geneID)\n",
    "wgcna_meta_ls[1:2]"
   ]
  },
  {
   "cell_type": "markdown",
   "id": "cathedral-colony",
   "metadata": {},
   "source": [
    "## TOM meta"
   ]
  },
  {
   "cell_type": "code",
   "execution_count": 17,
   "id": "harmful-muslim",
   "metadata": {},
   "outputs": [
    {
     "data": {
      "text/html": [
       "<style>\n",
       ".dl-inline {width: auto; margin:0; padding: 0}\n",
       ".dl-inline>dt, .dl-inline>dd {float: none; width: auto; display: inline-block}\n",
       ".dl-inline>dt::after {content: \":\\0020\"; padding-right: .5ex}\n",
       ".dl-inline>dt:not(:first-of-type) {padding-left: .5ex}\n",
       "</style><dl class=dl-inline><dt>0%</dt><dd>1.4</dd><dt>25%</dt><dd>2.4</dd><dt>50%</dt><dd>3.4</dd><dt>75%</dt><dd>5.3</dd><dt>100%</dt><dd>18.3</dd></dl>\n"
      ],
      "text/latex": [
       "\\begin{description*}\n",
       "\\item[0\\textbackslash{}\\%] 1.4\n",
       "\\item[25\\textbackslash{}\\%] 2.4\n",
       "\\item[50\\textbackslash{}\\%] 3.4\n",
       "\\item[75\\textbackslash{}\\%] 5.3\n",
       "\\item[100\\textbackslash{}\\%] 18.3\n",
       "\\end{description*}\n"
      ],
      "text/markdown": [
       "0%\n",
       ":   1.425%\n",
       ":   2.450%\n",
       ":   3.475%\n",
       ":   5.3100%\n",
       ":   18.3\n",
       "\n"
      ],
      "text/plain": [
       "  0%  25%  50%  75% 100% \n",
       " 1.4  2.4  3.4  5.3 18.3 "
      ]
     },
     "metadata": {},
     "output_type": "display_data"
    }
   ],
   "source": [
    "colnames(tom) <- colnames(data_expr)\n",
    "rownames(tom) <- colnames(data_expr)\n",
    "rowSums(tom) %>%\n",
    "    quantile() %>%\n",
    "    round(digits = 1)"
   ]
  },
  {
   "cell_type": "markdown",
   "id": "innovative-highland",
   "metadata": {},
   "source": [
    "# Create Lists"
   ]
  },
  {
   "cell_type": "code",
   "execution_count": 18,
   "id": "geological-newspaper",
   "metadata": {},
   "outputs": [],
   "source": [
    "deg_list <- deg_meta_ls$genes\n",
    "demg_list <- demg_meta_ls$genes\n",
    "figo_umsmg_list <- en_multinom_meta_ls$genes %>%\n",
    "    union(pbc_meta_ls$genes) %>%\n",
    "    union(anova_meta_ls$genes)\n",
    "survival_umsmg_list <- en_cph_meta_ls$genes %>%\n",
    "    union(cts_meta_ls$genes) %>%\n",
    "    union(univ_survival_meta_ls$genes)\n",
    "all_umsmg_list <- figo_umsmg_list %>%\n",
    "    intersect(survival_umsmg_list)\n",
    "figo_nsmg_list <- wgcna_meta_ls$genes\n",
    "figo_umsmg_demg_list <- figo_umsmg_list %>%\n",
    "    intersect(demg_list)\n",
    "survival_umsmg_demg_list <- survival_umsmg_list %>%\n",
    "    intersect(demg_list)\n",
    "figo_umsmg_nsmg_demg_list <- figo_umsmg_list %>%\n",
    "    intersect(figo_nsmg_list) %>%\n",
    "    intersect(demg_list)"
   ]
  },
  {
   "cell_type": "code",
   "execution_count": 19,
   "id": "provincial-electron",
   "metadata": {},
   "outputs": [
    {
     "data": {
      "text/html": [
       "7646"
      ],
      "text/latex": [
       "7646"
      ],
      "text/markdown": [
       "7646"
      ],
      "text/plain": [
       "[1] 7646"
      ]
     },
     "metadata": {},
     "output_type": "display_data"
    },
    {
     "data": {
      "text/html": [
       "595"
      ],
      "text/latex": [
       "595"
      ],
      "text/markdown": [
       "595"
      ],
      "text/plain": [
       "[1] 595"
      ]
     },
     "metadata": {},
     "output_type": "display_data"
    },
    {
     "data": {
      "text/html": [
       "69"
      ],
      "text/latex": [
       "69"
      ],
      "text/markdown": [
       "69"
      ],
      "text/plain": [
       "[1] 69"
      ]
     },
     "metadata": {},
     "output_type": "display_data"
    },
    {
     "data": {
      "text/html": [
       "29"
      ],
      "text/latex": [
       "29"
      ],
      "text/markdown": [
       "29"
      ],
      "text/plain": [
       "[1] 29"
      ]
     },
     "metadata": {},
     "output_type": "display_data"
    },
    {
     "data": {
      "text/html": [
       "5"
      ],
      "text/latex": [
       "5"
      ],
      "text/markdown": [
       "5"
      ],
      "text/plain": [
       "[1] 5"
      ]
     },
     "metadata": {},
     "output_type": "display_data"
    },
    {
     "data": {
      "text/html": [
       "175"
      ],
      "text/latex": [
       "175"
      ],
      "text/markdown": [
       "175"
      ],
      "text/plain": [
       "[1] 175"
      ]
     },
     "metadata": {},
     "output_type": "display_data"
    },
    {
     "data": {
      "text/html": [
       "43"
      ],
      "text/latex": [
       "43"
      ],
      "text/markdown": [
       "43"
      ],
      "text/plain": [
       "[1] 43"
      ]
     },
     "metadata": {},
     "output_type": "display_data"
    },
    {
     "data": {
      "text/html": [
       "18"
      ],
      "text/latex": [
       "18"
      ],
      "text/markdown": [
       "18"
      ],
      "text/plain": [
       "[1] 18"
      ]
     },
     "metadata": {},
     "output_type": "display_data"
    },
    {
     "data": {
      "text/html": [
       "4"
      ],
      "text/latex": [
       "4"
      ],
      "text/markdown": [
       "4"
      ],
      "text/plain": [
       "[1] 4"
      ]
     },
     "metadata": {},
     "output_type": "display_data"
    }
   ],
   "source": [
    "length(deg_list)\n",
    "length(demg_list)\n",
    "length(figo_umsmg_list)\n",
    "length(survival_umsmg_list)\n",
    "length(all_umsmg_list)\n",
    "length(figo_nsmg_list)\n",
    "length(figo_umsmg_demg_list)\n",
    "length(survival_umsmg_demg_list)\n",
    "length(figo_umsmg_nsmg_demg_list)"
   ]
  },
  {
   "cell_type": "markdown",
   "id": "cleared-blake",
   "metadata": {},
   "source": [
    "# Save lists"
   ]
  },
  {
   "cell_type": "code",
   "execution_count": 20,
   "id": "capable-wesley",
   "metadata": {},
   "outputs": [],
   "source": [
    "if (save_lists) {\n",
    "    write_lines(deg_list, paste0(dirs$analysis_dir, \"/gene_lists/\", unified_dsets[dset_idx], \"_deg_list.txt\"))\n",
    "    write_lines(demg_list, paste0(dirs$analysis_dir, \"/gene_lists/\", unified_dsets[dset_idx], \"_demg_list.txt\"))\n",
    "    write_lines(figo_umsmg_list, paste0(dirs$analysis_dir, \"/gene_lists/\", unified_dsets[dset_idx], \"_figo_umsmg_list.txt\"))\n",
    "    write_lines(survival_umsmg_list, paste0(dirs$analysis_dir, \"/gene_lists/\", unified_dsets[dset_idx], \"_survival_umsmg_list.txt\"))\n",
    "    write_lines(figo_nsmg_list, paste0(dirs$analysis_dir, \"/gene_lists/\", unified_dsets[dset_idx], \"_figo_nsmg_list.txt\"))\n",
    "}"
   ]
  },
  {
   "cell_type": "code",
   "execution_count": null,
   "id": "recovered-burst",
   "metadata": {},
   "outputs": [],
   "source": []
  }
 ],
 "metadata": {
  "kernelspec": {
   "display_name": "R",
   "language": "R",
   "name": "ir"
  },
  "language_info": {
   "codemirror_mode": "r",
   "file_extension": ".r",
   "mimetype": "text/x-r-source",
   "name": "R",
   "pygments_lexer": "r",
   "version": "4.0.3"
  }
 },
 "nbformat": 4,
 "nbformat_minor": 5
}
