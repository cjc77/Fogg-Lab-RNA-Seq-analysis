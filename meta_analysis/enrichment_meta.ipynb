{
 "cells": [
  {
   "cell_type": "code",
   "execution_count": 1,
   "id": "iraqi-effects",
   "metadata": {},
   "outputs": [
    {
     "name": "stderr",
     "output_type": "stream",
     "text": [
      "-- \u001b[1mAttaching packages\u001b[22m ---------------------------------------------------------------------- tidyverse 1.3.0 --\n",
      "\n",
      "\u001b[32mv\u001b[39m \u001b[34mggplot2\u001b[39m 3.3.3     \u001b[32mv\u001b[39m \u001b[34mpurrr  \u001b[39m 0.3.4\n",
      "\u001b[32mv\u001b[39m \u001b[34mtibble \u001b[39m 3.0.6     \u001b[32mv\u001b[39m \u001b[34mdplyr  \u001b[39m 1.0.4\n",
      "\u001b[32mv\u001b[39m \u001b[34mtidyr  \u001b[39m 1.1.2     \u001b[32mv\u001b[39m \u001b[34mstringr\u001b[39m 1.4.0\n",
      "\u001b[32mv\u001b[39m \u001b[34mreadr  \u001b[39m 1.4.0     \u001b[32mv\u001b[39m \u001b[34mforcats\u001b[39m 0.5.1\n",
      "\n",
      "-- \u001b[1mConflicts\u001b[22m ------------------------------------------------------------------------- tidyverse_conflicts() --\n",
      "\u001b[31mx\u001b[39m \u001b[34mdplyr\u001b[39m::\u001b[32mfilter()\u001b[39m masks \u001b[34mstats\u001b[39m::filter()\n",
      "\u001b[31mx\u001b[39m \u001b[34mdplyr\u001b[39m::\u001b[32mlag()\u001b[39m    masks \u001b[34mstats\u001b[39m::lag()\n",
      "\n"
     ]
    }
   ],
   "source": [
    "library(tidyverse)\n",
    "\n",
    "# Custom package\n",
    "library(rutils)"
   ]
  },
  {
   "cell_type": "code",
   "execution_count": 2,
   "id": "filled-heather",
   "metadata": {},
   "outputs": [],
   "source": [
    "save_res <- TRUE"
   ]
  },
  {
   "cell_type": "code",
   "execution_count": 3,
   "id": "headed-james",
   "metadata": {},
   "outputs": [],
   "source": [
    "dirs <- rutils::get_dev_directories(dev_paths_file = \"../dev_paths.txt\")\n",
    "projects <- c(\"CESC\", \"UCS\", \"UCEC\")\n",
    "unified_dsets <- c(\"unified_cervical_data\", \"unified_uterine_data\", \"unified_uterine_endometrial_data\")\n",
    "matrisome_path <- paste0(dirs$data_dir, \"/matrisome/matrisome_hs_masterlist.tsv\")\n",
    "\n",
    "matrisome_path <- paste0(dirs$data_dir, \"/matrisome/matrisome_hs_masterlist.tsv\")"
   ]
  },
  {
   "cell_type": "code",
   "execution_count": 4,
   "id": "sealed-aviation",
   "metadata": {},
   "outputs": [
    {
     "name": "stderr",
     "output_type": "stream",
     "text": [
      "\n",
      "\u001b[36m--\u001b[39m \u001b[1m\u001b[1mColumn specification\u001b[1m\u001b[22m \u001b[36m---------------------------------------------------------------------------------------\u001b[39m\n",
      "cols(\n",
      "  Division = \u001b[31mcol_character()\u001b[39m,\n",
      "  Category = \u001b[31mcol_character()\u001b[39m,\n",
      "  `Gene Symbol` = \u001b[31mcol_character()\u001b[39m,\n",
      "  `Gene Name` = \u001b[31mcol_character()\u001b[39m,\n",
      "  Synonyms = \u001b[31mcol_character()\u001b[39m,\n",
      "  HGNC_IDs = \u001b[32mcol_double()\u001b[39m,\n",
      "  `HGNC_IDs Links` = \u001b[32mcol_double()\u001b[39m,\n",
      "  UniProt_IDs = \u001b[31mcol_character()\u001b[39m,\n",
      "  Refseq_IDs = \u001b[31mcol_character()\u001b[39m,\n",
      "  Orthology = \u001b[31mcol_character()\u001b[39m,\n",
      "  Notes = \u001b[31mcol_character()\u001b[39m\n",
      ")\n",
      "\n",
      "\n",
      "\n",
      "\u001b[36m--\u001b[39m \u001b[1m\u001b[1mColumn specification\u001b[1m\u001b[22m \u001b[36m---------------------------------------------------------------------------------------\u001b[39m\n",
      "cols(\n",
      "  type = \u001b[31mcol_character()\u001b[39m,\n",
      "  geneIDs = \u001b[31mcol_character()\u001b[39m,\n",
      "  count = \u001b[32mcol_double()\u001b[39m,\n",
      "  ratio = \u001b[32mcol_double()\u001b[39m,\n",
      "  qval = \u001b[32mcol_double()\u001b[39m,\n",
      "  ont = \u001b[31mcol_character()\u001b[39m\n",
      ")\n",
      "\n",
      "\n",
      "\n",
      "\u001b[36m--\u001b[39m \u001b[1m\u001b[1mColumn specification\u001b[1m\u001b[22m \u001b[36m---------------------------------------------------------------------------------------\u001b[39m\n",
      "cols(\n",
      "  type = \u001b[31mcol_character()\u001b[39m,\n",
      "  geneIDs = \u001b[31mcol_character()\u001b[39m,\n",
      "  count = \u001b[32mcol_double()\u001b[39m,\n",
      "  ratio = \u001b[32mcol_double()\u001b[39m,\n",
      "  qval = \u001b[32mcol_double()\u001b[39m,\n",
      "  ont = \u001b[31mcol_character()\u001b[39m\n",
      ")\n",
      "\n",
      "\n",
      "\n",
      "\u001b[36m--\u001b[39m \u001b[1m\u001b[1mColumn specification\u001b[1m\u001b[22m \u001b[36m---------------------------------------------------------------------------------------\u001b[39m\n",
      "cols(\n",
      "  type = \u001b[31mcol_character()\u001b[39m,\n",
      "  geneIDs = \u001b[31mcol_character()\u001b[39m,\n",
      "  count = \u001b[32mcol_double()\u001b[39m,\n",
      "  ratio = \u001b[32mcol_double()\u001b[39m,\n",
      "  qval = \u001b[32mcol_double()\u001b[39m,\n",
      "  ont = \u001b[31mcol_character()\u001b[39m\n",
      ")\n",
      "\n",
      "\n",
      "\n",
      "\u001b[36m--\u001b[39m \u001b[1m\u001b[1mColumn specification\u001b[1m\u001b[22m \u001b[36m---------------------------------------------------------------------------------------\u001b[39m\n",
      "cols(\n",
      "  type = \u001b[31mcol_character()\u001b[39m,\n",
      "  geneIDs = \u001b[31mcol_character()\u001b[39m,\n",
      "  count = \u001b[32mcol_double()\u001b[39m,\n",
      "  ratio = \u001b[32mcol_double()\u001b[39m,\n",
      "  qval = \u001b[32mcol_double()\u001b[39m,\n",
      "  ont = \u001b[31mcol_character()\u001b[39m\n",
      ")\n",
      "\n",
      "\n",
      "\n",
      "\u001b[36m--\u001b[39m \u001b[1m\u001b[1mColumn specification\u001b[1m\u001b[22m \u001b[36m---------------------------------------------------------------------------------------\u001b[39m\n",
      "cols(\n",
      "  type = \u001b[31mcol_character()\u001b[39m,\n",
      "  geneIDs = \u001b[31mcol_character()\u001b[39m,\n",
      "  count = \u001b[32mcol_double()\u001b[39m,\n",
      "  ratio = \u001b[32mcol_double()\u001b[39m,\n",
      "  qval = \u001b[32mcol_double()\u001b[39m,\n",
      "  ont = \u001b[31mcol_character()\u001b[39m\n",
      ")\n",
      "\n",
      "\n",
      "\n",
      "\u001b[36m--\u001b[39m \u001b[1m\u001b[1mColumn specification\u001b[1m\u001b[22m \u001b[36m---------------------------------------------------------------------------------------\u001b[39m\n",
      "cols(\n",
      "  type = \u001b[31mcol_character()\u001b[39m,\n",
      "  geneIDs = \u001b[31mcol_character()\u001b[39m,\n",
      "  count = \u001b[32mcol_double()\u001b[39m,\n",
      "  ratio = \u001b[32mcol_double()\u001b[39m,\n",
      "  qval = \u001b[32mcol_double()\u001b[39m,\n",
      "  ont = \u001b[31mcol_character()\u001b[39m\n",
      ")\n",
      "\n",
      "\n"
     ]
    }
   ],
   "source": [
    "matrisome_df <- rutils::load_matrisome_df(matrisome_path) %>%\n",
    "    dplyr::select(gene_symbol, division, category) %>%\n",
    "    dplyr::rename(geneID = gene_symbol)\n",
    "# demg_list <- read_lines(paste0(dirs$analysis_dir, \"/gene_lists/\", unified_dsets[dset_idx], \"_demg_list.txt\"))\n",
    "# figo_umsmg_list <- read_lines(paste0(dirs$analysis_dir, \"/gene_lists/\", unified_dsets[dset_idx], \"_figo_umsmg_list.txt\"))\n",
    "# survival_umsmg_list <- read_lines(paste0(dirs$analysis_dir, \"/gene_lists/\", unified_dsets[dset_idx], \"_survival_umsmg_list.txt\"))\n",
    "# figo_nsmg_list <- read_lines(paste0(dirs$analysis_dir, \"/gene_lists/\", unified_dsets[dset_idx], \"_figo_nsmg_list.txt\"))\n",
    "\n",
    "# figo_go_df <- read_tsv(paste0(dirs$analysis_dir, \"/enrichment/\", unified_dsets[dset_idx], \"_figo_go.tsv\"))\n",
    "# survival_go_df <- read_tsv(paste0(dirs$analysis_dir, \"/enrichment/\", unified_dsets[dset_idx], \"_survival_go.tsv\"))\n",
    "\n",
    "figo_go <- list()\n",
    "survival_go <- list()\n",
    "\n",
    "for (dset_idx in 1:3) {\n",
    "    figo_go[[projects[dset_idx]]] <- read_tsv(paste0(dirs$analysis_dir, \"/enrichment/\", unified_dsets[dset_idx], \"_figo_go.tsv\")) %>%\n",
    "        select(type, qval)\n",
    "    survival_go[[projects[dset_idx]]] <- read_tsv(paste0(dirs$analysis_dir, \"/enrichment/\", unified_dsets[dset_idx], \"_survival_go.tsv\")) %>%\n",
    "        select(type, qval)\n",
    "}"
   ]
  },
  {
   "cell_type": "code",
   "execution_count": 5,
   "id": "joined-ghost",
   "metadata": {},
   "outputs": [],
   "source": [
    "topn_lists <- function(go_dfs, n = 10) {\n",
    "    topn_intersect <- (go_dfs$CESC %>% top_n(n = n, wt = desc(qval)) %>% pull(type)) %>%\n",
    "        intersect((go_dfs$UCEC %>% top_n(n = n, wt = desc(qval)) %>% pull(type))) %>%\n",
    "        intersect((go_dfs$UCS %>% top_n(n = n, wt = desc(qval)) %>% pull(type)))\n",
    "    topn_union <- (go_dfs$CESC %>% top_n(n = n, wt = desc(qval)) %>% pull(type)) %>%\n",
    "        union((go_dfs$UCEC %>% top_n(n = n, wt = desc(qval)) %>% pull(type))) %>%\n",
    "        union((go_dfs$UCS %>% top_n(n = n, wt = desc(qval)) %>% pull(type)))\n",
    "    list(\n",
    "        topn_intersect = topn_intersect,\n",
    "        topn_union = topn_union\n",
    "    )\n",
    "}\n",
    "\n",
    "full_lists <- function(go_dfs) {\n",
    "    full_intersect <- go_dfs$CESC$type %>%\n",
    "        intersect(go_dfs$UCEC$type) %>%\n",
    "        intersect(go_dfs$UCS$type)\n",
    "    full_union <- go_dfs$CESC$type %>%\n",
    "        union(go_dfs$UCEC$type) %>%\n",
    "        union(go_dfs$UCS$type)\n",
    "    list(\n",
    "        full_intersect = full_intersect,\n",
    "        full_union = full_union\n",
    "    )\n",
    "}"
   ]
  },
  {
   "cell_type": "markdown",
   "id": "corporate-coordination",
   "metadata": {},
   "source": [
    "# FIGO"
   ]
  },
  {
   "cell_type": "markdown",
   "id": "hired-trade",
   "metadata": {},
   "source": [
    "## Proportion of total shared by all"
   ]
  },
  {
   "cell_type": "code",
   "execution_count": 6,
   "id": "single-latter",
   "metadata": {},
   "outputs": [
    {
     "data": {
      "text/html": [
       "908"
      ],
      "text/latex": [
       "908"
      ],
      "text/markdown": [
       "908"
      ],
      "text/plain": [
       "[1] 908"
      ]
     },
     "metadata": {},
     "output_type": "display_data"
    },
    {
     "data": {
      "text/html": [
       "183"
      ],
      "text/latex": [
       "183"
      ],
      "text/markdown": [
       "183"
      ],
      "text/plain": [
       "[1] 183"
      ]
     },
     "metadata": {},
     "output_type": "display_data"
    },
    {
     "data": {
      "text/html": [
       "0.201541850220264"
      ],
      "text/latex": [
       "0.201541850220264"
      ],
      "text/markdown": [
       "0.201541850220264"
      ],
      "text/plain": [
       "[1] 0.2015419"
      ]
     },
     "metadata": {},
     "output_type": "display_data"
    }
   ],
   "source": [
    "figo_full_lists <- full_lists(figo_go)\n",
    "length(figo_full_lists$full_union)\n",
    "length(figo_full_lists$full_intersect)\n",
    "length(figo_full_lists$full_intersect) / length(figo_full_lists$full_union)"
   ]
  },
  {
   "cell_type": "markdown",
   "id": "composed-helena",
   "metadata": {},
   "source": [
    "## Proportion of top n shared by all"
   ]
  },
  {
   "cell_type": "code",
   "execution_count": 11,
   "id": "statistical-enough",
   "metadata": {},
   "outputs": [
    {
     "data": {
      "text/html": [
       "17"
      ],
      "text/latex": [
       "17"
      ],
      "text/markdown": [
       "17"
      ],
      "text/plain": [
       "[1] 17"
      ]
     },
     "metadata": {},
     "output_type": "display_data"
    },
    {
     "data": {
      "text/html": [
       "5"
      ],
      "text/latex": [
       "5"
      ],
      "text/markdown": [
       "5"
      ],
      "text/plain": [
       "[1] 5"
      ]
     },
     "metadata": {},
     "output_type": "display_data"
    },
    {
     "data": {
      "text/html": [
       "0.294117647058824"
      ],
      "text/latex": [
       "0.294117647058824"
      ],
      "text/markdown": [
       "0.294117647058824"
      ],
      "text/plain": [
       "[1] 0.2941176"
      ]
     },
     "metadata": {},
     "output_type": "display_data"
    }
   ],
   "source": [
    "n <- 10\n",
    "# n <- 20\n",
    "figo_topn_lists <- topn_lists(figo_go, n = n)\n",
    "length(figo_topn_lists$topn_union)\n",
    "length(figo_topn_lists$topn_intersect)\n",
    "length(figo_topn_lists$topn_intersect) / length(figo_topn_lists$topn_union)"
   ]
  },
  {
   "cell_type": "markdown",
   "id": "metric-yesterday",
   "metadata": {},
   "source": [
    "# Survival"
   ]
  },
  {
   "cell_type": "markdown",
   "id": "federal-trance",
   "metadata": {},
   "source": [
    "## Proportion of total shared by all"
   ]
  },
  {
   "cell_type": "code",
   "execution_count": 8,
   "id": "compliant-share",
   "metadata": {},
   "outputs": [
    {
     "data": {
      "text/html": [
       "457"
      ],
      "text/latex": [
       "457"
      ],
      "text/markdown": [
       "457"
      ],
      "text/plain": [
       "[1] 457"
      ]
     },
     "metadata": {},
     "output_type": "display_data"
    },
    {
     "data": {
      "text/html": [
       "8"
      ],
      "text/latex": [
       "8"
      ],
      "text/markdown": [
       "8"
      ],
      "text/plain": [
       "[1] 8"
      ]
     },
     "metadata": {},
     "output_type": "display_data"
    },
    {
     "data": {
      "text/html": [
       "0.0175054704595186"
      ],
      "text/latex": [
       "0.0175054704595186"
      ],
      "text/markdown": [
       "0.0175054704595186"
      ],
      "text/plain": [
       "[1] 0.01750547"
      ]
     },
     "metadata": {},
     "output_type": "display_data"
    }
   ],
   "source": [
    "survival_full_lists <- full_lists(survival_go)\n",
    "length(survival_full_lists$full_union)\n",
    "length(survival_full_lists$full_intersect)\n",
    "length(survival_full_lists$full_intersect) / length(survival_full_lists$full_union)"
   ]
  },
  {
   "cell_type": "markdown",
   "id": "homeless-workshop",
   "metadata": {},
   "source": [
    "## Proportion of top n shared by all"
   ]
  },
  {
   "cell_type": "code",
   "execution_count": 9,
   "id": "informational-decision",
   "metadata": {},
   "outputs": [
    {
     "data": {
      "text/html": [
       "25"
      ],
      "text/latex": [
       "25"
      ],
      "text/markdown": [
       "25"
      ],
      "text/plain": [
       "[1] 25"
      ]
     },
     "metadata": {},
     "output_type": "display_data"
    },
    {
     "data": {
      "text/html": [
       "1"
      ],
      "text/latex": [
       "1"
      ],
      "text/markdown": [
       "1"
      ],
      "text/plain": [
       "[1] 1"
      ]
     },
     "metadata": {},
     "output_type": "display_data"
    },
    {
     "data": {
      "text/html": [
       "0.04"
      ],
      "text/latex": [
       "0.04"
      ],
      "text/markdown": [
       "0.04"
      ],
      "text/plain": [
       "[1] 0.04"
      ]
     },
     "metadata": {},
     "output_type": "display_data"
    }
   ],
   "source": [
    "n <- 10\n",
    "survival_topn_lists <- topn_lists(survival_go, n = n)\n",
    "length(survival_topn_lists$topn_union)\n",
    "length(survival_topn_lists$topn_intersect)\n",
    "length(survival_topn_lists$topn_intersect) / length(survival_topn_lists$topn_union)"
   ]
  },
  {
   "cell_type": "code",
   "execution_count": null,
   "id": "standard-apollo",
   "metadata": {},
   "outputs": [],
   "source": []
  }
 ],
 "metadata": {
  "kernelspec": {
   "display_name": "R",
   "language": "R",
   "name": "ir"
  },
  "language_info": {
   "codemirror_mode": "r",
   "file_extension": ".r",
   "mimetype": "text/x-r-source",
   "name": "R",
   "pygments_lexer": "r",
   "version": "4.0.3"
  }
 },
 "nbformat": 4,
 "nbformat_minor": 5
}
