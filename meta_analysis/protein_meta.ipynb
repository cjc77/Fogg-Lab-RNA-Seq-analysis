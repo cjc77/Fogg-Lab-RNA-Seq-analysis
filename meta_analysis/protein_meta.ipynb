{
 "cells": [
  {
   "cell_type": "code",
   "execution_count": 1,
   "id": "indoor-printer",
   "metadata": {},
   "outputs": [
    {
     "name": "stderr",
     "output_type": "stream",
     "text": [
      "-- \u001b[1mAttaching packages\u001b[22m -------------------------------------------------------------------- tidyverse 1.3.0 --\n",
      "\n",
      "\u001b[32mv\u001b[39m \u001b[34mggplot2\u001b[39m 3.3.3     \u001b[32mv\u001b[39m \u001b[34mpurrr  \u001b[39m 0.3.4\n",
      "\u001b[32mv\u001b[39m \u001b[34mtibble \u001b[39m 3.0.6     \u001b[32mv\u001b[39m \u001b[34mdplyr  \u001b[39m 1.0.4\n",
      "\u001b[32mv\u001b[39m \u001b[34mtidyr  \u001b[39m 1.1.2     \u001b[32mv\u001b[39m \u001b[34mstringr\u001b[39m 1.4.0\n",
      "\u001b[32mv\u001b[39m \u001b[34mreadr  \u001b[39m 1.4.0     \u001b[32mv\u001b[39m \u001b[34mforcats\u001b[39m 0.5.1\n",
      "\n",
      "-- \u001b[1mConflicts\u001b[22m ----------------------------------------------------------------------- tidyverse_conflicts() --\n",
      "\u001b[31mx\u001b[39m \u001b[34mdplyr\u001b[39m::\u001b[32mfilter()\u001b[39m masks \u001b[34mstats\u001b[39m::filter()\n",
      "\u001b[31mx\u001b[39m \u001b[34mdplyr\u001b[39m::\u001b[32mlag()\u001b[39m    masks \u001b[34mstats\u001b[39m::lag()\n",
      "\n"
     ]
    }
   ],
   "source": [
    "library(tidyverse)\n",
    "\n",
    "# Custom package\n",
    "library(rutils)"
   ]
  },
  {
   "cell_type": "code",
   "execution_count": 2,
   "id": "suburban-rates",
   "metadata": {},
   "outputs": [],
   "source": [
    "dset_idx <- 1\n",
    "# hub_con_thresh <- 0.25\n",
    "hub_con_thresh <- 0.0"
   ]
  },
  {
   "cell_type": "code",
   "execution_count": 3,
   "id": "moving-conversation",
   "metadata": {},
   "outputs": [],
   "source": [
    "dirs <- rutils::get_dev_directories(dev_paths_file = \"../dev_paths.txt\")\n",
    "unified_dsets <- c(\"unified_cervical_data\", \"unified_uterine_data\", \"unified_uterine_endometrial_data\")\n",
    "cancer_name <- c(\"cervical cancer\", \"none\", \"endometrial cancer\")\n",
    "matrisome_path <- paste0(dirs$data_dir, \"/matrisome/matrisome_hs_masterlist.tsv\")"
   ]
  },
  {
   "cell_type": "code",
   "execution_count": 4,
   "id": "wireless-teens",
   "metadata": {},
   "outputs": [
    {
     "name": "stderr",
     "output_type": "stream",
     "text": [
      "\n",
      "\u001b[36m--\u001b[39m \u001b[1m\u001b[1mColumn specification\u001b[1m\u001b[22m \u001b[36m-------------------------------------------------------------------------------------\u001b[39m\n",
      "cols(\n",
      "  Division = \u001b[31mcol_character()\u001b[39m,\n",
      "  Category = \u001b[31mcol_character()\u001b[39m,\n",
      "  `Gene Symbol` = \u001b[31mcol_character()\u001b[39m,\n",
      "  `Gene Name` = \u001b[31mcol_character()\u001b[39m,\n",
      "  Synonyms = \u001b[31mcol_character()\u001b[39m,\n",
      "  HGNC_IDs = \u001b[32mcol_double()\u001b[39m,\n",
      "  `HGNC_IDs Links` = \u001b[32mcol_double()\u001b[39m,\n",
      "  UniProt_IDs = \u001b[31mcol_character()\u001b[39m,\n",
      "  Refseq_IDs = \u001b[31mcol_character()\u001b[39m,\n",
      "  Orthology = \u001b[31mcol_character()\u001b[39m,\n",
      "  Notes = \u001b[31mcol_character()\u001b[39m\n",
      ")\n",
      "\n",
      "\n",
      "\n",
      "\u001b[36m--\u001b[39m \u001b[1m\u001b[1mColumn specification\u001b[1m\u001b[22m \u001b[36m-------------------------------------------------------------------------------------\u001b[39m\n",
      "cols(\n",
      "  geneID = \u001b[31mcol_character()\u001b[39m,\n",
      "  baseMean = \u001b[32mcol_double()\u001b[39m,\n",
      "  log2FoldChange = \u001b[32mcol_double()\u001b[39m,\n",
      "  lfcSE = \u001b[32mcol_double()\u001b[39m,\n",
      "  stat = \u001b[32mcol_double()\u001b[39m,\n",
      "  pvalue = \u001b[32mcol_double()\u001b[39m,\n",
      "  padj = \u001b[32mcol_double()\u001b[39m,\n",
      "  qval = \u001b[32mcol_double()\u001b[39m\n",
      ")\n",
      "\n",
      "\n"
     ]
    }
   ],
   "source": [
    "matrisome_df <- rutils::load_matrisome_df(matrisome_path) %>%\n",
    "    dplyr::select(gene_symbol, division, category) %>%\n",
    "    dplyr::rename(geneID = gene_symbol)\n",
    "deseq_df <- read_tsv(paste0(dirs$analysis_dir, \"/deg/\", unified_dsets[dset_idx], \"_DESeq_results.tsv\")) %>%\n",
    "    rename(base_mean = baseMean, lfc = log2FoldChange) %>%\n",
    "    mutate(change_dir = ifelse(lfc > 0, \"up\", \"down\")) %>%\n",
    "    select(geneID, change_dir, base_mean, lfc, qval)\n",
    "\n",
    "demg_list <- read_lines(paste0(dirs$analysis_dir, \"/gene_lists/\", unified_dsets[dset_idx], \"_demg_list.txt\"))\n",
    "\n",
    "figo_umsmg_list <- read_lines(paste0(dirs$analysis_dir, \"/gene_lists/\", unified_dsets[dset_idx], \"_figo_umsmg_list.txt\"))\n",
    "figo_nsmg_list <- read_lines(paste0(dirs$analysis_dir, \"/gene_lists/\", unified_dsets[dset_idx], \"_figo_nsmg_list.txt\"))\n",
    "figo_list <- figo_umsmg_list %>%\n",
    "    union(figo_nsmg_list) %>%\n",
    "    intersect(demg_list)\n",
    "\n",
    "survival_umsmg_list <- read_lines(paste0(dirs$analysis_dir, \"/gene_lists/\", unified_dsets[dset_idx], \"_survival_umsmg_list.txt\"))\n",
    "survival_list <- survival_umsmg_list %>%\n",
    "    intersect(demg_list)"
   ]
  },
  {
   "cell_type": "code",
   "execution_count": 5,
   "id": "alpine-lover",
   "metadata": {},
   "outputs": [
    {
     "name": "stderr",
     "output_type": "stream",
     "text": [
      "\n",
      "\u001b[36m--\u001b[39m \u001b[1m\u001b[1mColumn specification\u001b[1m\u001b[22m \u001b[36m-------------------------------------------------------------------------------------\u001b[39m\n",
      "cols(\n",
      "  Gene = \u001b[31mcol_character()\u001b[39m,\n",
      "  `Gene name` = \u001b[31mcol_character()\u001b[39m,\n",
      "  Cancer = \u001b[31mcol_character()\u001b[39m,\n",
      "  High = \u001b[32mcol_double()\u001b[39m,\n",
      "  Medium = \u001b[32mcol_double()\u001b[39m,\n",
      "  Low = \u001b[32mcol_double()\u001b[39m,\n",
      "  `Not detected` = \u001b[32mcol_double()\u001b[39m,\n",
      "  `prognostic - favorable` = \u001b[32mcol_double()\u001b[39m,\n",
      "  `unprognostic - favorable` = \u001b[32mcol_double()\u001b[39m,\n",
      "  `prognostic - unfavorable` = \u001b[32mcol_double()\u001b[39m,\n",
      "  `unprognostic - unfavorable` = \u001b[32mcol_double()\u001b[39m\n",
      ")\n",
      "\n",
      "\n"
     ]
    }
   ],
   "source": [
    "pathology_df <- read_tsv(paste0(dirs$data_dir, \"/THPA_v20_1_staining/pathology.tsv\")) %>%\n",
    "    rename_all(tolower) %>%\n",
    "    rename_with(~ gsub(\" - \", \"_\", .x, fixed = TRUE)) %>%\n",
    "    rename_with(~ gsub(\" \", \"_\", .x, fixed = TRUE)) %>%\n",
    "    rename(geneID = gene_name) %>%\n",
    "    select(geneID, cancer, high, medium, low, not_detected) %>%\n",
    "    filter(cancer %in% cancer_name[dset_idx]) %>%\n",
    "    filter(rowSums(is.na(.[,3:6])) == 0) %>%\n",
    "    dplyr::mutate(\n",
    "        detected_count = rowSums(.[c(\"high\", \"medium\", \"low\")]),\n",
    "        detected_prop = detected_count / (not_detected + detected_count),\n",
    "        detected = detected_count > 0\n",
    "    )"
   ]
  },
  {
   "cell_type": "code",
   "execution_count": 6,
   "id": "persistent-harvard",
   "metadata": {},
   "outputs": [
    {
     "data": {
      "text/html": [
       "747"
      ],
      "text/latex": [
       "747"
      ],
      "text/markdown": [
       "747"
      ],
      "text/plain": [
       "[1] 747"
      ]
     },
     "metadata": {},
     "output_type": "display_data"
    },
    {
     "data": {
      "text/html": [
       "<table class=\"dataframe\">\n",
       "<caption>A tibble: 6 × 2</caption>\n",
       "<thead>\n",
       "\t<tr><th></th><th scope=col>category</th><th scope=col>pct_det</th></tr>\n",
       "\t<tr><th></th><th scope=col>&lt;chr&gt;</th><th scope=col>&lt;dbl&gt;</th></tr>\n",
       "</thead>\n",
       "<tbody>\n",
       "\t<tr><th scope=row>1</th><td>Collagens              </td><td>65.62500</td></tr>\n",
       "\t<tr><th scope=row>2</th><td>ECM Glycoproteins      </td><td>68.66667</td></tr>\n",
       "\t<tr><th scope=row>3</th><td>ECM Regulators         </td><td>67.75956</td></tr>\n",
       "\t<tr><th scope=row>4</th><td>ECM-affiliated Proteins</td><td>66.66667</td></tr>\n",
       "\t<tr><th scope=row>5</th><td>Proteoglycans          </td><td>55.17241</td></tr>\n",
       "\t<tr><th scope=row>6</th><td>Secreted Factors       </td><td>68.77828</td></tr>\n",
       "</tbody>\n",
       "</table>\n"
      ],
      "text/latex": [
       "A tibble: 6 × 2\n",
       "\\begin{tabular}{r|ll}\n",
       "  & category & pct\\_det\\\\\n",
       "  & <chr> & <dbl>\\\\\n",
       "\\hline\n",
       "\t1 & Collagens               & 65.62500\\\\\n",
       "\t2 & ECM Glycoproteins       & 68.66667\\\\\n",
       "\t3 & ECM Regulators          & 67.75956\\\\\n",
       "\t4 & ECM-affiliated Proteins & 66.66667\\\\\n",
       "\t5 & Proteoglycans           & 55.17241\\\\\n",
       "\t6 & Secreted Factors        & 68.77828\\\\\n",
       "\\end{tabular}\n"
      ],
      "text/markdown": [
       "\n",
       "A tibble: 6 × 2\n",
       "\n",
       "| <!--/--> | category &lt;chr&gt; | pct_det &lt;dbl&gt; |\n",
       "|---|---|---|\n",
       "| 1 | Collagens               | 65.62500 |\n",
       "| 2 | ECM Glycoproteins       | 68.66667 |\n",
       "| 3 | ECM Regulators          | 67.75956 |\n",
       "| 4 | ECM-affiliated Proteins | 66.66667 |\n",
       "| 5 | Proteoglycans           | 55.17241 |\n",
       "| 6 | Secreted Factors        | 68.77828 |\n",
       "\n"
      ],
      "text/plain": [
       "  category                pct_det \n",
       "1 Collagens               65.62500\n",
       "2 ECM Glycoproteins       68.66667\n",
       "3 ECM Regulators          67.75956\n",
       "4 ECM-affiliated Proteins 66.66667\n",
       "5 Proteoglycans           55.17241\n",
       "6 Secreted Factors        68.77828"
      ]
     },
     "metadata": {},
     "output_type": "display_data"
    }
   ],
   "source": [
    "mat_path_df <- matrisome_df %>%\n",
    "    inner_join(pathology_df, by = \"geneID\") %>%\n",
    "    mutate(\n",
    "        mat = TRUE,\n",
    "        de = geneID %in% demg_list,\n",
    "        figo_sig = geneID %in% figo_list,\n",
    "        survival_sig = geneID %in% survival_list,\n",
    "    ) %>%\n",
    "    mutate(detected_f = factor(ifelse(detected, \"detected_yes\", \"detected_no\")))\n",
    "\n",
    "nrow(mat_path_df)\n",
    "\n",
    "mat_path_df %>%\n",
    "    group_by(category) %>%\n",
    "    summarize(pct_det = sum(detected) / n() * 100)"
   ]
  },
  {
   "cell_type": "code",
   "execution_count": 7,
   "id": "opponent-clinton",
   "metadata": {},
   "outputs": [],
   "source": [
    "mat_path_pivot_df <- mat_path_df %>%\n",
    "    pivot_longer(cols = c(\"mat\", \"de\", \"figo_sig\", \"survival_sig\"), names_to = \"group\", values_to = \"group_val\")\n",
    "sig_mat_path_pivot_df <- mat_path_pivot_df %>%\n",
    "    dplyr::filter(group_val == TRUE) %>%\n",
    "    # All TRUE so don't need\n",
    "    dplyr::select(-group_val) %>%\n",
    "    dplyr::mutate(group_f = factor(group, levels = c(\"mat\", \"de\", \"figo_sig\", \"survival_sig\")))"
   ]
  },
  {
   "cell_type": "markdown",
   "id": "better-sunrise",
   "metadata": {},
   "source": [
    "# Tests"
   ]
  },
  {
   "cell_type": "code",
   "execution_count": 8,
   "id": "restricted-scheme",
   "metadata": {},
   "outputs": [
    {
     "data": {
      "text/plain": [
       "\n",
       "\tOne-way analysis of means (not assuming equal variances)\n",
       "\n",
       "data:  detected_prop and group_f\n",
       "F = 0.10555, num df = 3.000, denom df = 91.283, p-value = 0.9566\n"
      ]
     },
     "metadata": {},
     "output_type": "display_data"
    }
   ],
   "source": [
    "oneway.test(detected_prop ~ group_f, data = sig_mat_path_pivot_df)"
   ]
  },
  {
   "cell_type": "code",
   "execution_count": 9,
   "id": "mediterranean-volunteer",
   "metadata": {},
   "outputs": [
    {
     "data": {
      "text/plain": [
       "              \n",
       "               mat  de figo_sig survival_sig\n",
       "  detected_no  243 144       53            5\n",
       "  detected_yes 504 297      110           16"
      ]
     },
     "metadata": {},
     "output_type": "display_data"
    }
   ],
   "source": [
    "det_tab <- table(sig_mat_path_pivot_df$detected_f, sig_mat_path_pivot_df$group_f)\n",
    "det_tab"
   ]
  },
  {
   "cell_type": "code",
   "execution_count": 10,
   "id": "compliant-capacity",
   "metadata": {},
   "outputs": [
    {
     "data": {
      "text/plain": [
       "\n",
       "\tPearson's Chi-squared test\n",
       "\n",
       "data:  det_tab\n",
       "X-squared = 0.72607, df = 3, p-value = 0.8671\n"
      ]
     },
     "metadata": {},
     "output_type": "display_data"
    }
   ],
   "source": [
    "chisq.test(det_tab)"
   ]
  },
  {
   "cell_type": "code",
   "execution_count": 12,
   "id": "dimensional-pride",
   "metadata": {},
   "outputs": [
    {
     "data": {
      "image/png": "[encoded data removed]",
      "text/plain": [
       "plot without title"
      ]
     },
     "metadata": {
      "image/png": {
       "height": 420,
       "width": 420
      }
     },
     "output_type": "display_data"
    }
   ],
   "source": [
    "# ggplot(aes(x = detected_prop, y = stat(density)), data = sig_mat_path_pivot_df) +\n",
    "bin_wid <- 0.1\n",
    "# ggplot(aes(x = detected_prop, group = group_f), data = sig_mat_path_pivot_df) +\n",
    "ggplot(aes(x = detected_prop), data = sig_mat_path_pivot_df) +\n",
    "    geom_histogram(aes(y = ..density.. * bin_wid), position = , binwidth = bin_wid) +\n",
    "    facet_wrap(~ group_f, nrow = 4, labeller = as_labeller(c(\"mat\" = \"Matrisome\", \"de\" = \"DE\", \"figo_sig\" = \"FIGO sig.\", \"survival_sig\" = \"Survival sig.\"))) +\n",
    "    theme_bw() +\n",
    "    labs(x = \"Proportion samples w/ protein detected\", y = \"Density\")"
   ]
  },
  {
   "cell_type": "code",
   "execution_count": null,
   "id": "curious-needle",
   "metadata": {},
   "outputs": [],
   "source": []
  }
 ],
 "metadata": {
  "kernelspec": {
   "display_name": "R",
   "language": "R",
   "name": "ir"
  },
  "language_info": {
   "codemirror_mode": "r",
   "file_extension": ".r",
   "mimetype": "text/x-r-source",
   "name": "R",
   "pygments_lexer": "r",
   "version": "4.0.3"
  }
 },
 "nbformat": 4,
 "nbformat_minor": 5
}
