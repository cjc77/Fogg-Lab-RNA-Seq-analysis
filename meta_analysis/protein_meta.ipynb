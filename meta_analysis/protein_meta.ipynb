{
 "cells": [
  {
   "cell_type": "code",
   "execution_count": 58,
   "id": "sharp-bracket",
   "metadata": {},
   "outputs": [],
   "source": [
    "library(tidyverse)\n",
    "\n",
    "# Custom package\n",
    "library(rutils)"
   ]
  },
  {
   "cell_type": "code",
   "execution_count": 59,
   "id": "after-thanksgiving",
   "metadata": {},
   "outputs": [],
   "source": [
    "dirs <- rutils::get_dev_directories(dev_paths_file = \"../dev_paths.txt\")\n",
    "unified_dsets <- c(\"unified_cervical_data\", \"unified_uterine_data\", \"unified_uterine_endometrial_data\")\n",
    "cancer_name <- c(\"cervical cancer\", \"none\", \"endometrial cancer\")\n",
    "matrisome_path <- paste0(dirs$data_dir, \"/matrisome/matrisome_hs_masterlist.tsv\")"
   ]
  },
  {
   "cell_type": "code",
   "execution_count": 60,
   "id": "accompanied-ultimate",
   "metadata": {},
   "outputs": [],
   "source": [
    "dset_idx <- 3\n",
    "# hub_con_thresh <- 0.25\n",
    "hub_con_thresh <- 0.0"
   ]
  },
  {
   "cell_type": "code",
   "execution_count": 61,
   "id": "powerful-correlation",
   "metadata": {},
   "outputs": [
    {
     "name": "stderr",
     "output_type": "stream",
     "text": [
      "\n",
      "\u001b[36m--\u001b[39m \u001b[1m\u001b[1mColumn specification\u001b[1m\u001b[22m \u001b[36m------------------------------------------------------------------------------------------------\u001b[39m\n",
      "cols(\n",
      "  Division = \u001b[31mcol_character()\u001b[39m,\n",
      "  Category = \u001b[31mcol_character()\u001b[39m,\n",
      "  `Gene Symbol` = \u001b[31mcol_character()\u001b[39m,\n",
      "  `Gene Name` = \u001b[31mcol_character()\u001b[39m,\n",
      "  Synonyms = \u001b[31mcol_character()\u001b[39m,\n",
      "  HGNC_IDs = \u001b[32mcol_double()\u001b[39m,\n",
      "  `HGNC_IDs Links` = \u001b[32mcol_double()\u001b[39m,\n",
      "  UniProt_IDs = \u001b[31mcol_character()\u001b[39m,\n",
      "  Refseq_IDs = \u001b[31mcol_character()\u001b[39m,\n",
      "  Orthology = \u001b[31mcol_character()\u001b[39m,\n",
      "  Notes = \u001b[31mcol_character()\u001b[39m\n",
      ")\n",
      "\n",
      "\n"
     ]
    }
   ],
   "source": [
    "matrisome_df <- load_matrisome_df(matrisome_path) %>%\n",
    "    rename(geneID = gene_symbol) %>%\n",
    "    select(geneID, division, category)"
   ]
  },
  {
   "cell_type": "code",
   "execution_count": 62,
   "id": "realistic-allah",
   "metadata": {},
   "outputs": [
    {
     "name": "stderr",
     "output_type": "stream",
     "text": [
      "\n",
      "\u001b[36m--\u001b[39m \u001b[1m\u001b[1mColumn specification\u001b[1m\u001b[22m \u001b[36m------------------------------------------------------------------------------------------------\u001b[39m\n",
      "cols(\n",
      "  geneID = \u001b[31mcol_character()\u001b[39m,\n",
      "  baseMean = \u001b[32mcol_double()\u001b[39m,\n",
      "  log2FoldChange = \u001b[32mcol_double()\u001b[39m,\n",
      "  lfcSE = \u001b[32mcol_double()\u001b[39m,\n",
      "  stat = \u001b[32mcol_double()\u001b[39m,\n",
      "  pvalue = \u001b[32mcol_double()\u001b[39m,\n",
      "  padj = \u001b[32mcol_double()\u001b[39m,\n",
      "  qval = \u001b[32mcol_double()\u001b[39m\n",
      ")\n",
      "\n",
      "\n"
     ]
    }
   ],
   "source": [
    "deseq_df <- read_tsv(paste0(dirs$analysis_dir, \"/deg/\", unified_dsets[dset_idx], \"_DESeq_results.tsv\"))"
   ]
  },
  {
   "cell_type": "code",
   "execution_count": 63,
   "id": "covered-operator",
   "metadata": {},
   "outputs": [
    {
     "name": "stderr",
     "output_type": "stream",
     "text": [
      "\n",
      "\u001b[36m--\u001b[39m \u001b[1m\u001b[1mColumn specification\u001b[1m\u001b[22m \u001b[36m------------------------------------------------------------------------------------------------\u001b[39m\n",
      "cols(\n",
      "  Gene = \u001b[31mcol_character()\u001b[39m,\n",
      "  `Gene name` = \u001b[31mcol_character()\u001b[39m,\n",
      "  Cancer = \u001b[31mcol_character()\u001b[39m,\n",
      "  High = \u001b[32mcol_double()\u001b[39m,\n",
      "  Medium = \u001b[32mcol_double()\u001b[39m,\n",
      "  Low = \u001b[32mcol_double()\u001b[39m,\n",
      "  `Not detected` = \u001b[32mcol_double()\u001b[39m,\n",
      "  `prognostic - favorable` = \u001b[32mcol_double()\u001b[39m,\n",
      "  `unprognostic - favorable` = \u001b[32mcol_double()\u001b[39m,\n",
      "  `prognostic - unfavorable` = \u001b[32mcol_double()\u001b[39m,\n",
      "  `unprognostic - unfavorable` = \u001b[32mcol_double()\u001b[39m\n",
      ")\n",
      "\n",
      "\n"
     ]
    }
   ],
   "source": [
    "pathology_df <- read_tsv(paste0(dirs$data_dir, \"/THPA_v20_1_staining/pathology.tsv\")) %>%\n",
    "    rename_all(tolower) %>%\n",
    "    rename_with(~ gsub(\" - \", \"_\", .x, fixed = TRUE)) %>%\n",
    "    rename_with(~ gsub(\" \", \"_\", .x, fixed = TRUE)) %>%\n",
    "    rename(geneID = gene_name) %>%\n",
    "    select(geneID, cancer, high, medium, low, not_detected) %>%\n",
    "    filter(cancer %in% cancer_name[dset_idx]) %>%\n",
    "    filter(rowSums(is.na(.[,3:6])) == 0)"
   ]
  },
  {
   "cell_type": "code",
   "execution_count": 64,
   "id": "compliant-enclosure",
   "metadata": {},
   "outputs": [],
   "source": [
    "umsmg_demg_list <- read_lines(paste0(dirs$analysis_dir, \"/gene_lists/\", unified_dsets[dset_idx], \"_umsmg_demg_list.txt\"))\n",
    "umsmg_nsmg_demg_list <- read_lines(paste0(dirs$analysis_dir, \"/gene_lists/\", unified_dsets[dset_idx], \"_umsmg_nsmg_hub_thresh_\", hub_con_thresh, \"_demg_list.txt\"))"
   ]
  },
  {
   "cell_type": "code",
   "execution_count": 65,
   "id": "material-coordination",
   "metadata": {},
   "outputs": [],
   "source": [
    "critical_mg_stats_df <- deseq_df %>%\n",
    "    filter(geneID %in% umsmg_nsmg_demg_list) %>%\n",
    "    rename(base_mean = baseMean, lfc = log2FoldChange) %>%\n",
    "    mutate(change_dir = ifelse(lfc > 0, \"up\", \"down\")) %>%\n",
    "    select(geneID, change_dir, base_mean, lfc, qval) %>%\n",
    "    arrange(geneID)"
   ]
  },
  {
   "cell_type": "code",
   "execution_count": 66,
   "id": "sticky-mailing",
   "metadata": {},
   "outputs": [
    {
     "data": {
      "text/html": [
       "<table class=\"dataframe\">\n",
       "<caption>A tibble: 6 × 10</caption>\n",
       "<thead>\n",
       "\t<tr><th scope=col>geneID</th><th scope=col>change_dir</th><th scope=col>base_mean</th><th scope=col>lfc</th><th scope=col>qval</th><th scope=col>cancer</th><th scope=col>high</th><th scope=col>medium</th><th scope=col>low</th><th scope=col>not_detected</th></tr>\n",
       "\t<tr><th scope=col>&lt;chr&gt;</th><th scope=col>&lt;chr&gt;</th><th scope=col>&lt;dbl&gt;</th><th scope=col>&lt;dbl&gt;</th><th scope=col>&lt;dbl&gt;</th><th scope=col>&lt;chr&gt;</th><th scope=col>&lt;dbl&gt;</th><th scope=col>&lt;dbl&gt;</th><th scope=col>&lt;dbl&gt;</th><th scope=col>&lt;dbl&gt;</th></tr>\n",
       "</thead>\n",
       "<tbody>\n",
       "\t<tr><td>ANGPT4</td><td>down</td><td>  66.71048</td><td>-4.039425</td><td>4.830118e-46</td><td>endometrial cancer</td><td>1</td><td>7</td><td>2</td><td> 1</td></tr>\n",
       "\t<tr><td>LGI2  </td><td>down</td><td> 682.82144</td><td>-2.418608</td><td>5.702105e-41</td><td>endometrial cancer</td><td>0</td><td>0</td><td>1</td><td>10</td></tr>\n",
       "\t<tr><td>LOXL3 </td><td>down</td><td> 466.65753</td><td>-1.128548</td><td>2.120413e-31</td><td>endometrial cancer</td><td>0</td><td>0</td><td>1</td><td>10</td></tr>\n",
       "\t<tr><td>PAPPA2</td><td>down</td><td>  57.24273</td><td>-1.267549</td><td>2.683043e-07</td><td>endometrial cancer</td><td>0</td><td>0</td><td>0</td><td>10</td></tr>\n",
       "\t<tr><td>RSPO3 </td><td>down</td><td>1829.66009</td><td>-2.875078</td><td>3.438289e-33</td><td>endometrial cancer</td><td>0</td><td>7</td><td>2</td><td> 3</td></tr>\n",
       "\t<tr><td>WNT10A</td><td>up  </td><td> 282.84230</td><td> 4.337583</td><td>1.423487e-49</td><td>endometrial cancer</td><td>0</td><td>3</td><td>3</td><td> 5</td></tr>\n",
       "</tbody>\n",
       "</table>\n"
      ],
      "text/latex": [
       "A tibble: 6 × 10\n",
       "\\begin{tabular}{llllllllll}\n",
       " geneID & change\\_dir & base\\_mean & lfc & qval & cancer & high & medium & low & not\\_detected\\\\\n",
       " <chr> & <chr> & <dbl> & <dbl> & <dbl> & <chr> & <dbl> & <dbl> & <dbl> & <dbl>\\\\\n",
       "\\hline\n",
       "\t ANGPT4 & down &   66.71048 & -4.039425 & 4.830118e-46 & endometrial cancer & 1 & 7 & 2 &  1\\\\\n",
       "\t LGI2   & down &  682.82144 & -2.418608 & 5.702105e-41 & endometrial cancer & 0 & 0 & 1 & 10\\\\\n",
       "\t LOXL3  & down &  466.65753 & -1.128548 & 2.120413e-31 & endometrial cancer & 0 & 0 & 1 & 10\\\\\n",
       "\t PAPPA2 & down &   57.24273 & -1.267549 & 2.683043e-07 & endometrial cancer & 0 & 0 & 0 & 10\\\\\n",
       "\t RSPO3  & down & 1829.66009 & -2.875078 & 3.438289e-33 & endometrial cancer & 0 & 7 & 2 &  3\\\\\n",
       "\t WNT10A & up   &  282.84230 &  4.337583 & 1.423487e-49 & endometrial cancer & 0 & 3 & 3 &  5\\\\\n",
       "\\end{tabular}\n"
      ],
      "text/markdown": [
       "\n",
       "A tibble: 6 × 10\n",
       "\n",
       "| geneID &lt;chr&gt; | change_dir &lt;chr&gt; | base_mean &lt;dbl&gt; | lfc &lt;dbl&gt; | qval &lt;dbl&gt; | cancer &lt;chr&gt; | high &lt;dbl&gt; | medium &lt;dbl&gt; | low &lt;dbl&gt; | not_detected &lt;dbl&gt; |\n",
       "|---|---|---|---|---|---|---|---|---|---|\n",
       "| ANGPT4 | down |   66.71048 | -4.039425 | 4.830118e-46 | endometrial cancer | 1 | 7 | 2 |  1 |\n",
       "| LGI2   | down |  682.82144 | -2.418608 | 5.702105e-41 | endometrial cancer | 0 | 0 | 1 | 10 |\n",
       "| LOXL3  | down |  466.65753 | -1.128548 | 2.120413e-31 | endometrial cancer | 0 | 0 | 1 | 10 |\n",
       "| PAPPA2 | down |   57.24273 | -1.267549 | 2.683043e-07 | endometrial cancer | 0 | 0 | 0 | 10 |\n",
       "| RSPO3  | down | 1829.66009 | -2.875078 | 3.438289e-33 | endometrial cancer | 0 | 7 | 2 |  3 |\n",
       "| WNT10A | up   |  282.84230 |  4.337583 | 1.423487e-49 | endometrial cancer | 0 | 3 | 3 |  5 |\n",
       "\n"
      ],
      "text/plain": [
       "  geneID change_dir base_mean  lfc       qval         cancer             high\n",
       "1 ANGPT4 down         66.71048 -4.039425 4.830118e-46 endometrial cancer 1   \n",
       "2 LGI2   down        682.82144 -2.418608 5.702105e-41 endometrial cancer 0   \n",
       "3 LOXL3  down        466.65753 -1.128548 2.120413e-31 endometrial cancer 0   \n",
       "4 PAPPA2 down         57.24273 -1.267549 2.683043e-07 endometrial cancer 0   \n",
       "5 RSPO3  down       1829.66009 -2.875078 3.438289e-33 endometrial cancer 0   \n",
       "6 WNT10A up          282.84230  4.337583 1.423487e-49 endometrial cancer 0   \n",
       "  medium low not_detected\n",
       "1 7      2    1          \n",
       "2 0      1   10          \n",
       "3 0      1   10          \n",
       "4 0      0   10          \n",
       "5 7      2    3          \n",
       "6 3      3    5          "
      ]
     },
     "metadata": {},
     "output_type": "display_data"
    }
   ],
   "source": [
    "critical_mg_stats_df %>% \n",
    "    inner_join(pathology_df, by = \"geneID\") %>%\n",
    "    arrange(change_dir)"
   ]
  }
 ],
 "metadata": {
  "kernelspec": {
   "display_name": "R",
   "language": "R",
   "name": "ir"
  },
  "language_info": {
   "codemirror_mode": "r",
   "file_extension": ".r",
   "mimetype": "text/x-r-source",
   "name": "R",
   "pygments_lexer": "r",
   "version": "4.0.3"
  }
 },
 "nbformat": 4,
 "nbformat_minor": 5
}
