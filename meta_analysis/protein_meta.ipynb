{
 "cells": [
  {
   "cell_type": "code",
   "execution_count": 1,
   "id": "dress-customer",
   "metadata": {},
   "outputs": [
    {
     "name": "stderr",
     "output_type": "stream",
     "text": [
      "-- \u001b[1mAttaching packages\u001b[22m ------------------------------------------------------------------------------- tidyverse 1.3.0 --\n",
      "\n",
      "\u001b[32mv\u001b[39m \u001b[34mggplot2\u001b[39m 3.3.3     \u001b[32mv\u001b[39m \u001b[34mpurrr  \u001b[39m 0.3.4\n",
      "\u001b[32mv\u001b[39m \u001b[34mtibble \u001b[39m 3.0.6     \u001b[32mv\u001b[39m \u001b[34mdplyr  \u001b[39m 1.0.4\n",
      "\u001b[32mv\u001b[39m \u001b[34mtidyr  \u001b[39m 1.1.2     \u001b[32mv\u001b[39m \u001b[34mstringr\u001b[39m 1.4.0\n",
      "\u001b[32mv\u001b[39m \u001b[34mreadr  \u001b[39m 1.4.0     \u001b[32mv\u001b[39m \u001b[34mforcats\u001b[39m 0.5.1\n",
      "\n",
      "-- \u001b[1mConflicts\u001b[22m ---------------------------------------------------------------------------------- tidyverse_conflicts() --\n",
      "\u001b[31mx\u001b[39m \u001b[34mdplyr\u001b[39m::\u001b[32mfilter()\u001b[39m masks \u001b[34mstats\u001b[39m::filter()\n",
      "\u001b[31mx\u001b[39m \u001b[34mdplyr\u001b[39m::\u001b[32mlag()\u001b[39m    masks \u001b[34mstats\u001b[39m::lag()\n",
      "\n"
     ]
    }
   ],
   "source": [
    "library(tidyverse)\n",
    "\n",
    "# Custom package\n",
    "library(rutils)"
   ]
  },
  {
   "cell_type": "code",
   "execution_count": 2,
   "id": "failing-membership",
   "metadata": {},
   "outputs": [],
   "source": [
    "dset_idx <- 1\n",
    "# hub_con_thresh <- 0.25\n",
    "hub_con_thresh <- 0.0"
   ]
  },
  {
   "cell_type": "code",
   "execution_count": 3,
   "id": "willing-microphone",
   "metadata": {},
   "outputs": [],
   "source": [
    "dirs <- rutils::get_dev_directories(dev_paths_file = \"../dev_paths.txt\")\n",
    "unified_dsets <- c(\"unified_cervical_data\", \"unified_uterine_data\", \"unified_uterine_endometrial_data\")\n",
    "cancer_name <- c(\"cervical cancer\", \"none\", \"endometrial cancer\")\n",
    "matrisome_path <- paste0(dirs$data_dir, \"/matrisome/matrisome_hs_masterlist.tsv\")"
   ]
  },
  {
   "cell_type": "code",
   "execution_count": 4,
   "id": "intended-arthur",
   "metadata": {},
   "outputs": [
    {
     "name": "stderr",
     "output_type": "stream",
     "text": [
      "\n",
      "\u001b[36m--\u001b[39m \u001b[1m\u001b[1mColumn specification\u001b[1m\u001b[22m \u001b[36m------------------------------------------------------------------------------------------------\u001b[39m\n",
      "cols(\n",
      "  Division = \u001b[31mcol_character()\u001b[39m,\n",
      "  Category = \u001b[31mcol_character()\u001b[39m,\n",
      "  `Gene Symbol` = \u001b[31mcol_character()\u001b[39m,\n",
      "  `Gene Name` = \u001b[31mcol_character()\u001b[39m,\n",
      "  Synonyms = \u001b[31mcol_character()\u001b[39m,\n",
      "  HGNC_IDs = \u001b[32mcol_double()\u001b[39m,\n",
      "  `HGNC_IDs Links` = \u001b[32mcol_double()\u001b[39m,\n",
      "  UniProt_IDs = \u001b[31mcol_character()\u001b[39m,\n",
      "  Refseq_IDs = \u001b[31mcol_character()\u001b[39m,\n",
      "  Orthology = \u001b[31mcol_character()\u001b[39m,\n",
      "  Notes = \u001b[31mcol_character()\u001b[39m\n",
      ")\n",
      "\n",
      "\n",
      "\n",
      "\u001b[36m--\u001b[39m \u001b[1m\u001b[1mColumn specification\u001b[1m\u001b[22m \u001b[36m------------------------------------------------------------------------------------------------\u001b[39m\n",
      "cols(\n",
      "  geneID = \u001b[31mcol_character()\u001b[39m,\n",
      "  baseMean = \u001b[32mcol_double()\u001b[39m,\n",
      "  log2FoldChange = \u001b[32mcol_double()\u001b[39m,\n",
      "  lfcSE = \u001b[32mcol_double()\u001b[39m,\n",
      "  stat = \u001b[32mcol_double()\u001b[39m,\n",
      "  pvalue = \u001b[32mcol_double()\u001b[39m,\n",
      "  padj = \u001b[32mcol_double()\u001b[39m,\n",
      "  qval = \u001b[32mcol_double()\u001b[39m\n",
      ")\n",
      "\n",
      "\n"
     ]
    }
   ],
   "source": [
    "matrisome_df <- rutils::load_matrisome_df(matrisome_path) %>%\n",
    "    dplyr::select(gene_symbol, division, category) %>%\n",
    "    dplyr::rename(geneID = gene_symbol)\n",
    "deseq_df <- read_tsv(paste0(dirs$analysis_dir, \"/deg/\", unified_dsets[dset_idx], \"_DESeq_results.tsv\")) %>%\n",
    "    rename(base_mean = baseMean, lfc = log2FoldChange) %>%\n",
    "    mutate(change_dir = ifelse(lfc > 0, \"up\", \"down\")) %>%\n",
    "    select(geneID, change_dir, base_mean, lfc, qval)\n",
    "\n",
    "demg_list <- read_lines(paste0(dirs$analysis_dir, \"/gene_lists/\", unified_dsets[dset_idx], \"_demg_list.txt\"))\n",
    "\n",
    "figo_umsmg_list <- read_lines(paste0(dirs$analysis_dir, \"/gene_lists/\", unified_dsets[dset_idx], \"_figo_umsmg_list.txt\"))\n",
    "figo_nsmg_list <- read_lines(paste0(dirs$analysis_dir, \"/gene_lists/\", unified_dsets[dset_idx], \"_figo_nsmg_list.txt\"))\n",
    "figo_list <- figo_umsmg_list %>%\n",
    "    union(figo_nsmg_list) %>%\n",
    "    intersect(demg_list)\n",
    "\n",
    "survival_umsmg_list <- read_lines(paste0(dirs$analysis_dir, \"/gene_lists/\", unified_dsets[dset_idx], \"_survival_umsmg_list.txt\"))\n",
    "survival_list <- survival_umsmg_list %>%\n",
    "    intersect(demg_list)"
   ]
  },
  {
   "cell_type": "code",
   "execution_count": 5,
   "id": "freelance-tenant",
   "metadata": {},
   "outputs": [
    {
     "name": "stderr",
     "output_type": "stream",
     "text": [
      "\n",
      "\u001b[36m--\u001b[39m \u001b[1m\u001b[1mColumn specification\u001b[1m\u001b[22m \u001b[36m------------------------------------------------------------------------------------------------\u001b[39m\n",
      "cols(\n",
      "  Gene = \u001b[31mcol_character()\u001b[39m,\n",
      "  `Gene name` = \u001b[31mcol_character()\u001b[39m,\n",
      "  Cancer = \u001b[31mcol_character()\u001b[39m,\n",
      "  High = \u001b[32mcol_double()\u001b[39m,\n",
      "  Medium = \u001b[32mcol_double()\u001b[39m,\n",
      "  Low = \u001b[32mcol_double()\u001b[39m,\n",
      "  `Not detected` = \u001b[32mcol_double()\u001b[39m,\n",
      "  `prognostic - favorable` = \u001b[32mcol_double()\u001b[39m,\n",
      "  `unprognostic - favorable` = \u001b[32mcol_double()\u001b[39m,\n",
      "  `prognostic - unfavorable` = \u001b[32mcol_double()\u001b[39m,\n",
      "  `unprognostic - unfavorable` = \u001b[32mcol_double()\u001b[39m\n",
      ")\n",
      "\n",
      "\n",
      "\n",
      "\u001b[36m--\u001b[39m \u001b[1m\u001b[1mColumn specification\u001b[1m\u001b[22m \u001b[36m------------------------------------------------------------------------------------------------\u001b[39m\n",
      "cols(\n",
      "  .default = col_double(),\n",
      "  Hugo_Symbol = \u001b[31mcol_character()\u001b[39m\n",
      ")\n",
      "\u001b[36mi\u001b[39m Use \u001b[30m\u001b[47m\u001b[30m\u001b[47m`spec()`\u001b[47m\u001b[30m\u001b[49m\u001b[39m for the full column specifications.\n",
      "\n",
      "\n"
     ]
    }
   ],
   "source": [
    "pathology_df <- read_tsv(paste0(dirs$data_dir, \"/THPA_v20_1_staining/pathology.tsv\")) %>%\n",
    "    rename_all(tolower) %>%\n",
    "    rename_with(~ gsub(\" - \", \"_\", .x, fixed = TRUE)) %>%\n",
    "    rename_with(~ gsub(\" \", \"_\", .x, fixed = TRUE)) %>%\n",
    "    rename(geneID = gene_name) %>%\n",
    "    select(geneID, cancer, high, medium, low, not_detected) %>%\n",
    "    filter(cancer %in% cancer_name[dset_idx]) %>%\n",
    "    filter(rowSums(is.na(.[,3:6])) == 0) %>%\n",
    "    dplyr::mutate(\n",
    "        detected_count = rowSums(.[c(\"high\", \"medium\", \"low\")]),\n",
    "        detected_prop = detected_count / (not_detected + detected_count),\n",
    "        detected = detected_count > 0\n",
    "    )\n",
    "\n",
    "count_df <- read_tsv(paste0(dirs$data_dir, \"/\", unified_dsets[dset_idx], \"/counts.tsv\")) %>%\n",
    "    select(-Entrez_Gene_Id) %>%\n",
    "    rename(geneID = Hugo_Symbol)"
   ]
  },
  {
   "cell_type": "code",
   "execution_count": 6,
   "id": "residential-adjustment",
   "metadata": {},
   "outputs": [],
   "source": [
    "gene_count_quantiles <- rowMeans(count_df[, -1]) %>%\n",
    "    quantile()\n",
    "\n",
    "high_count_genes <- count_df %>%\n",
    "    filter(rowMeans(.[, -1]) > gene_count_quantiles[\"25%\"]) %>%\n",
    "    pull(geneID)"
   ]
  },
  {
   "cell_type": "code",
   "execution_count": 7,
   "id": "peaceful-yugoslavia",
   "metadata": {},
   "outputs": [],
   "source": [
    "stat_df <- pathology_df %>%\n",
    "    mutate(\n",
    "        all = TRUE,\n",
    "        mat = geneID %in% matrisome_df$geneID,\n",
    "        de = geneID %in% demg_list,\n",
    "        figo_sig = geneID %in% figo_list,\n",
    "        survival_sig = geneID %in% survival_list,\n",
    "        detected_f = factor(ifelse(detected, \"yes\", \"no\"))\n",
    "    ) %>%\n",
    "    filter(geneID %in% high_count_genes)\n",
    "    \n",
    "\n",
    "sig_pivot_stat_df <- stat_df %>%\n",
    "    pivot_longer(cols = c(\"all\", \"mat\", \"de\", \"figo_sig\", \"survival_sig\"), names_to = \"group\", values_to = \"group_val\") %>%\n",
    "    dplyr::filter(group_val == TRUE) %>%\n",
    "    # All TRUE so don't need\n",
    "    dplyr::select(-group_val) %>%\n",
    "    dplyr::mutate(group_f = factor(group, levels = c(\"all\", \"mat\", \"de\", \"figo_sig\", \"survival_sig\")))\n"
   ]
  },
  {
   "cell_type": "code",
   "execution_count": 8,
   "id": "enhanced-theory",
   "metadata": {},
   "outputs": [
    {
     "data": {
      "text/html": [
       "<table class=\"dataframe\">\n",
       "<caption>A tibble: 6 × 3</caption>\n",
       "<thead>\n",
       "\t<tr><th></th><th scope=col>category</th><th scope=col>pct_detected</th><th scope=col>n_genes</th></tr>\n",
       "\t<tr><th></th><th scope=col>&lt;chr&gt;</th><th scope=col>&lt;dbl&gt;</th><th scope=col>&lt;int&gt;</th></tr>\n",
       "</thead>\n",
       "<tbody>\n",
       "\t<tr><th scope=row>1</th><td>Collagens              </td><td>0.7037037</td><td> 27</td></tr>\n",
       "\t<tr><th scope=row>2</th><td>ECM Glycoproteins      </td><td>0.7096774</td><td>124</td></tr>\n",
       "\t<tr><th scope=row>3</th><td>ECM Regulators         </td><td>0.7664234</td><td>137</td></tr>\n",
       "\t<tr><th scope=row>4</th><td>ECM-affiliated Proteins</td><td>0.7064220</td><td>109</td></tr>\n",
       "\t<tr><th scope=row>5</th><td>Proteoglycans          </td><td>0.7222222</td><td> 18</td></tr>\n",
       "\t<tr><th scope=row>6</th><td>Secreted Factors       </td><td>0.7333333</td><td>150</td></tr>\n",
       "</tbody>\n",
       "</table>\n"
      ],
      "text/latex": [
       "A tibble: 6 × 3\n",
       "\\begin{tabular}{r|lll}\n",
       "  & category & pct\\_detected & n\\_genes\\\\\n",
       "  & <chr> & <dbl> & <int>\\\\\n",
       "\\hline\n",
       "\t1 & Collagens               & 0.7037037 &  27\\\\\n",
       "\t2 & ECM Glycoproteins       & 0.7096774 & 124\\\\\n",
       "\t3 & ECM Regulators          & 0.7664234 & 137\\\\\n",
       "\t4 & ECM-affiliated Proteins & 0.7064220 & 109\\\\\n",
       "\t5 & Proteoglycans           & 0.7222222 &  18\\\\\n",
       "\t6 & Secreted Factors        & 0.7333333 & 150\\\\\n",
       "\\end{tabular}\n"
      ],
      "text/markdown": [
       "\n",
       "A tibble: 6 × 3\n",
       "\n",
       "| <!--/--> | category &lt;chr&gt; | pct_detected &lt;dbl&gt; | n_genes &lt;int&gt; |\n",
       "|---|---|---|---|\n",
       "| 1 | Collagens               | 0.7037037 |  27 |\n",
       "| 2 | ECM Glycoproteins       | 0.7096774 | 124 |\n",
       "| 3 | ECM Regulators          | 0.7664234 | 137 |\n",
       "| 4 | ECM-affiliated Proteins | 0.7064220 | 109 |\n",
       "| 5 | Proteoglycans           | 0.7222222 |  18 |\n",
       "| 6 | Secreted Factors        | 0.7333333 | 150 |\n",
       "\n"
      ],
      "text/plain": [
       "  category                pct_detected n_genes\n",
       "1 Collagens               0.7037037     27    \n",
       "2 ECM Glycoproteins       0.7096774    124    \n",
       "3 ECM Regulators          0.7664234    137    \n",
       "4 ECM-affiliated Proteins 0.7064220    109    \n",
       "5 Proteoglycans           0.7222222     18    \n",
       "6 Secreted Factors        0.7333333    150    "
      ]
     },
     "metadata": {},
     "output_type": "display_data"
    }
   ],
   "source": [
    "stat_df %>%\n",
    "    inner_join(matrisome_df, by = \"geneID\") %>%\n",
    "    group_by(category) %>%\n",
    "    summarize(pct_detected = sum(detected) / n(), n_genes = n())"
   ]
  },
  {
   "cell_type": "markdown",
   "id": "noble-lending",
   "metadata": {},
   "source": [
    "# Vis."
   ]
  },
  {
   "cell_type": "code",
   "execution_count": 9,
   "id": "editorial-bearing",
   "metadata": {},
   "outputs": [],
   "source": [
    "bp_stat_df <- sig_pivot_stat_df %>%\n",
    "    mutate(group_f = factor(\n",
    "        group_f,\n",
    "        labels = c(\"all\" = \"All\", \"mat\" = \"Mat.\", \"de\" = \"DEM\", \"figo_sig\" = \"FIGO sig.\", \"survival_sig\" = \"Survival sig.\"))\n",
    "    ) %>%\n",
    "    group_by(group_f) %>%\n",
    "    summarize(\n",
    "        pct_genes_det = sum(detected) / n() * 100,\n",
    "        pct_genes_n_det = 100 - pct_genes_det,\n",
    "        n = n(),\n",
    "    ) %>%\n",
    "    pivot_longer(\n",
    "        cols = c(\"pct_genes_det\", \"pct_genes_n_det\"),\n",
    "        names_to = \"det_group\",\n",
    "        values_to = \"pct\",\n",
    "    ) %>%\n",
    "    mutate(\n",
    "        det_group_f = factor(det_group, labels = c(\"pct_genes_n_det\" = \"% not det.\", \"pct_genes_det\" = \"% det.\"), levels = c(\"pct_genes_n_det\", \"pct_genes_det\")),\n",
    "        n_genes = 1/100 * pct * n\n",
    "    ) %>%\n",
    "    select(-n)\n",
    "\n",
    "# bp_stat_df"
   ]
  },
  {
   "cell_type": "code",
   "execution_count": 10,
   "id": "verbal-multimedia",
   "metadata": {},
   "outputs": [
    {
     "name": "stderr",
     "output_type": "stream",
     "text": [
      "Saving 6.67 x 6.67 in image\n",
      "\n"
     ]
    },
    {
     "data": {
      "image/png": "[encoded data removed]",
      "text/plain": [
       "plot without title"
      ]
     },
     "metadata": {
      "image/png": {
       "height": 420,
       "width": 420
      }
     },
     "output_type": "display_data"
    }
   ],
   "source": [
    "ggplot(data = bp_stat_df, aes(x = group_f, y = pct)) +\n",
    "    geom_col(aes(fill = det_group_f)) +\n",
    "    geom_text(aes(label = paste0(round(pct), \"%\")), position = \"stack\", vjust = 1.25, size = 2) +\n",
    "    geom_text(aes(label = paste0(\"n=\", n_genes)), position = \"stack\", vjust = 2.5, size = 2) +\n",
    "    labs(x = \"Group\", y = \"Group gene %\", fill = \"Detected\") +\n",
    "    theme_bw() +\n",
    "ggsave(paste0(dirs$figures_dir, \"/one_off/\", unified_dsets[dset_idx], \"_detection_bar_plot.png\"))"
   ]
  },
  {
   "cell_type": "code",
   "execution_count": 11,
   "id": "beginning-ottawa",
   "metadata": {},
   "outputs": [
    {
     "name": "stderr",
     "output_type": "stream",
     "text": [
      "`summarise()` has grouped output by 'group_f'. You can override using the `.groups` argument.\n",
      "\n"
     ]
    }
   ],
   "source": [
    "bp2_df <- sig_pivot_stat_df %>%\n",
    "    mutate(n_samp = not_detected + detected_count) %>%\n",
    "    select(geneID, group_f, high, medium, low, not_detected, n_samp) %>%\n",
    "    pivot_longer(cols = c(\"high\", \"medium\", \"low\", \"not_detected\"), names_to = \"detection_level\", values_to = \"detection_count\") %>%\n",
    "    mutate(\n",
    "        detection_level = factor(detection_level, levels = c(\"high\", \"medium\", \"low\", \"not_detected\"), labels = c(\"high\", \"medium\", \"low\", \"not detected\")),\n",
    "        group_f = factor(group_f, labels = c(\"all\" = \"All\", \"mat\" = \"Mat.\", \"de\" = \"DEM\", \"figo_sig\" = \"FIGO sig.\", \"survival_sig\" = \"Survival sig.\"))\n",
    "    ) %>%\n",
    "    group_by(group_f, detection_level) %>%\n",
    "    summarize(level_count = sum(detection_count), n_genes = n(), n_samps = sum(n_samp), pct_samp = level_count / n_samps * 100)\n",
    "# bp2_df"
   ]
  },
  {
   "cell_type": "code",
   "execution_count": 12,
   "id": "proprietary-devices",
   "metadata": {},
   "outputs": [
    {
     "name": "stderr",
     "output_type": "stream",
     "text": [
      "Saving 6.67 x 6.67 in image\n",
      "\n"
     ]
    },
    {
     "data": {
      "image/png": "[encoded data removed]",
      "text/plain": [
       "plot without title"
      ]
     },
     "metadata": {
      "image/png": {
       "height": 420,
       "width": 420
      }
     },
     "output_type": "display_data"
    }
   ],
   "source": [
    "color_vals = c(\"low\" = \"steelblue3\", \"medium\" = \"orchid4\", \"high\" = \"firebrick3\", \"not detected\" = \"gray70\")\n",
    "\n",
    "ggplot(data = bp2_df, aes(x = group_f, y = pct_samp, group = detection_level)) +\n",
    "    geom_col(aes(fill = detection_level)) +\n",
    "    geom_text(aes(label = paste0(round(pct_samp), \"%\")), position = \"stack\", vjust = 1.25, size = 2) +\n",
    "    geom_text(aes(label = paste0(\"n=\", level_count)), position = \"stack\", vjust = 2.5, size = 2) +\n",
    "    scale_fill_manual(values = color_vals) +\n",
    "    labs(x = \"Group\", y = \"Group sample %\", fill = \"Detection level\") +\n",
    "    theme_bw()\n",
    "ggsave(paste0(dirs$figures_dir, \"/one_off/\", unified_dsets[dset_idx], \"_detection_level_bar_plot.png\"))"
   ]
  },
  {
   "cell_type": "code",
   "execution_count": 13,
   "id": "renewable-paragraph",
   "metadata": {},
   "outputs": [
    {
     "data": {
      "image/png": "[encoded data removed]",
      "text/plain": [
       "plot without title"
      ]
     },
     "metadata": {
      "image/png": {
       "height": 420,
       "width": 420
      }
     },
     "output_type": "display_data"
    }
   ],
   "source": [
    "bin_wid <- 0.1\n",
    "ggplot(aes(x = detected_prop), data = sig_pivot_stat_df) +\n",
    "    geom_histogram(aes(y = ..density.. * bin_wid), position = , binwidth = bin_wid) +\n",
    "    facet_wrap(~ group_f, nrow = 5, labeller = as_labeller(c(\"all\" = \"All\", \"mat\" = \"Matrisome\", \"de\" = \"DE\", \"figo_sig\" = \"FIGO sig.\", \"survival_sig\" = \"Survival sig.\"))) +\n",
    "    theme_bw() +\n",
    "labs(x = \"Proportion samples w/ protein detected\", y = \"Density\")"
   ]
  },
  {
   "cell_type": "markdown",
   "id": "statistical-success",
   "metadata": {},
   "source": [
    "# Tests"
   ]
  },
  {
   "cell_type": "markdown",
   "id": "described-drive",
   "metadata": {},
   "source": [
    "## Include \"all\" category"
   ]
  },
  {
   "cell_type": "code",
   "execution_count": 14,
   "id": "collectible-fluid",
   "metadata": {},
   "outputs": [
    {
     "data": {
      "text/plain": [
       "\n",
       "\tOne-way analysis of means (not assuming equal variances)\n",
       "\n",
       "data:  detected_prop and group_f\n",
       "F = 52.807, num df = 4.00, denom df = 107.89, p-value < 2.2e-16\n"
      ]
     },
     "metadata": {},
     "output_type": "display_data"
    }
   ],
   "source": [
    "oneway.test(detected_prop ~ group_f, data = sig_pivot_stat_df)"
   ]
  },
  {
   "cell_type": "code",
   "execution_count": 15,
   "id": "complimentary-visitor",
   "metadata": {},
   "outputs": [
    {
     "data": {
      "text/plain": [
       "     \n",
       "        all   mat    de figo_sig survival_sig\n",
       "  no   1918   153   105       33            4\n",
       "  yes 10320   412   260       97           13"
      ]
     },
     "metadata": {},
     "output_type": "display_data"
    }
   ],
   "source": [
    "det_tab <- table(sig_pivot_stat_df$detected_f, sig_pivot_stat_df$group_f)\n",
    "det_tab"
   ]
  },
  {
   "cell_type": "code",
   "execution_count": 16,
   "id": "naked-frame",
   "metadata": {},
   "outputs": [
    {
     "name": "stderr",
     "output_type": "stream",
     "text": [
      "Warning message in chisq.test(det_tab):\n",
      "\"Chi-squared approximation may be incorrect\"\n"
     ]
    },
    {
     "data": {
      "text/plain": [
       "\n",
       "\tPearson's Chi-squared test\n",
       "\n",
       "data:  det_tab\n",
       "X-squared = 99.188, df = 4, p-value < 2.2e-16\n"
      ]
     },
     "metadata": {},
     "output_type": "display_data"
    }
   ],
   "source": [
    "chisq.test(det_tab)"
   ]
  },
  {
   "cell_type": "markdown",
   "id": "brief-hunter",
   "metadata": {},
   "source": [
    "## Remove \"all\" category"
   ]
  },
  {
   "cell_type": "code",
   "execution_count": 17,
   "id": "cooperative-comedy",
   "metadata": {},
   "outputs": [],
   "source": [
    "mat_sig_pivot_stat_df <- sig_pivot_stat_df %>%\n",
    "    filter(group_f != \"all\") %>%\n",
    "    mutate(group_f = factor(as.character(group_f), levels = c(\"mat\", \"de\", \"figo_sig\", \"survival_sig\")))"
   ]
  },
  {
   "cell_type": "code",
   "execution_count": 18,
   "id": "duplicate-belly",
   "metadata": {},
   "outputs": [
    {
     "data": {
      "text/plain": [
       "\n",
       "\tOne-way analysis of means (not assuming equal variances)\n",
       "\n",
       "data:  detected_prop and group_f\n",
       "F = 0.14556, num df = 3.000, denom df = 73.002, p-value = 0.9322\n"
      ]
     },
     "metadata": {},
     "output_type": "display_data"
    }
   ],
   "source": [
    "oneway.test(detected_prop ~ group_f, data = mat_sig_pivot_stat_df)"
   ]
  },
  {
   "cell_type": "code",
   "execution_count": 19,
   "id": "professional-essence",
   "metadata": {},
   "outputs": [
    {
     "data": {
      "text/plain": [
       "     \n",
       "      mat  de figo_sig survival_sig\n",
       "  no  153 105       33            4\n",
       "  yes 412 260       97           13"
      ]
     },
     "metadata": {},
     "output_type": "display_data"
    }
   ],
   "source": [
    "mat_det_tab <- table(mat_sig_pivot_stat_df$detected_f, mat_sig_pivot_stat_df$group_f)\n",
    "mat_det_tab"
   ]
  },
  {
   "cell_type": "code",
   "execution_count": null,
   "id": "graduate-times",
   "metadata": {},
   "outputs": [],
   "source": []
  }
 ],
 "metadata": {
  "kernelspec": {
   "display_name": "R",
   "language": "R",
   "name": "ir"
  },
  "language_info": {
   "codemirror_mode": "r",
   "file_extension": ".r",
   "mimetype": "text/x-r-source",
   "name": "R",
   "pygments_lexer": "r",
   "version": "4.0.3"
  }
 },
 "nbformat": 4,
 "nbformat_minor": 5
}
