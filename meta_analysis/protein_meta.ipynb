{
 "cells": [
  {
   "cell_type": "code",
   "execution_count": 1,
   "id": "separate-presentation",
   "metadata": {},
   "outputs": [
    {
     "name": "stderr",
     "output_type": "stream",
     "text": [
      "-- \u001b[1mAttaching packages\u001b[22m --------------------------------------------------------------------------------------------------------- tidyverse 1.3.0 --\n",
      "\n",
      "\u001b[32mv\u001b[39m \u001b[34mggplot2\u001b[39m 3.3.3     \u001b[32mv\u001b[39m \u001b[34mpurrr  \u001b[39m 0.3.4\n",
      "\u001b[32mv\u001b[39m \u001b[34mtibble \u001b[39m 3.0.6     \u001b[32mv\u001b[39m \u001b[34mdplyr  \u001b[39m 1.0.4\n",
      "\u001b[32mv\u001b[39m \u001b[34mtidyr  \u001b[39m 1.1.2     \u001b[32mv\u001b[39m \u001b[34mstringr\u001b[39m 1.4.0\n",
      "\u001b[32mv\u001b[39m \u001b[34mreadr  \u001b[39m 1.4.0     \u001b[32mv\u001b[39m \u001b[34mforcats\u001b[39m 0.5.1\n",
      "\n",
      "-- \u001b[1mConflicts\u001b[22m ------------------------------------------------------------------------------------------------------------ tidyverse_conflicts() --\n",
      "\u001b[31mx\u001b[39m \u001b[34mdplyr\u001b[39m::\u001b[32mfilter()\u001b[39m masks \u001b[34mstats\u001b[39m::filter()\n",
      "\u001b[31mx\u001b[39m \u001b[34mdplyr\u001b[39m::\u001b[32mlag()\u001b[39m    masks \u001b[34mstats\u001b[39m::lag()\n",
      "\n"
     ]
    }
   ],
   "source": [
    "library(tidyverse)\n",
    "\n",
    "# Custom package\n",
    "library(rutils)"
   ]
  },
  {
   "cell_type": "code",
   "execution_count": 2,
   "id": "worse-spectacular",
   "metadata": {},
   "outputs": [],
   "source": [
    "dset_idx <- 3\n",
    "# hub_con_thresh <- 0.25\n",
    "hub_con_thresh <- 0.0"
   ]
  },
  {
   "cell_type": "code",
   "execution_count": 3,
   "id": "checked-denver",
   "metadata": {},
   "outputs": [],
   "source": [
    "dirs <- rutils::get_dev_directories(dev_paths_file = \"../dev_paths.txt\")\n",
    "unified_dsets <- c(\"unified_cervical_data\", \"unified_uterine_data\", \"unified_uterine_endometrial_data\")\n",
    "cancer_name <- c(\"cervical cancer\", \"none\", \"endometrial cancer\")\n",
    "matrisome_path <- paste0(dirs$data_dir, \"/matrisome/matrisome_hs_masterlist.tsv\")"
   ]
  },
  {
   "cell_type": "code",
   "execution_count": 4,
   "id": "excited-portal",
   "metadata": {},
   "outputs": [
    {
     "name": "stderr",
     "output_type": "stream",
     "text": [
      "\n",
      "\u001b[36m--\u001b[39m \u001b[1m\u001b[1mColumn specification\u001b[1m\u001b[22m \u001b[36m--------------------------------------------------------------------------------------------------------------------------\u001b[39m\n",
      "cols(\n",
      "  Division = \u001b[31mcol_character()\u001b[39m,\n",
      "  Category = \u001b[31mcol_character()\u001b[39m,\n",
      "  `Gene Symbol` = \u001b[31mcol_character()\u001b[39m,\n",
      "  `Gene Name` = \u001b[31mcol_character()\u001b[39m,\n",
      "  Synonyms = \u001b[31mcol_character()\u001b[39m,\n",
      "  HGNC_IDs = \u001b[32mcol_double()\u001b[39m,\n",
      "  `HGNC_IDs Links` = \u001b[32mcol_double()\u001b[39m,\n",
      "  UniProt_IDs = \u001b[31mcol_character()\u001b[39m,\n",
      "  Refseq_IDs = \u001b[31mcol_character()\u001b[39m,\n",
      "  Orthology = \u001b[31mcol_character()\u001b[39m,\n",
      "  Notes = \u001b[31mcol_character()\u001b[39m\n",
      ")\n",
      "\n",
      "\n",
      "\n",
      "\u001b[36m--\u001b[39m \u001b[1m\u001b[1mColumn specification\u001b[1m\u001b[22m \u001b[36m--------------------------------------------------------------------------------------------------------------------------\u001b[39m\n",
      "cols(\n",
      "  geneID = \u001b[31mcol_character()\u001b[39m,\n",
      "  baseMean = \u001b[32mcol_double()\u001b[39m,\n",
      "  log2FoldChange = \u001b[32mcol_double()\u001b[39m,\n",
      "  lfcSE = \u001b[32mcol_double()\u001b[39m,\n",
      "  stat = \u001b[32mcol_double()\u001b[39m,\n",
      "  pvalue = \u001b[32mcol_double()\u001b[39m,\n",
      "  padj = \u001b[32mcol_double()\u001b[39m,\n",
      "  qval = \u001b[32mcol_double()\u001b[39m\n",
      ")\n",
      "\n",
      "\n"
     ]
    }
   ],
   "source": [
    "matrisome_df <- rutils::load_matrisome_df(matrisome_path) %>%\n",
    "    dplyr::select(gene_symbol, division, category) %>%\n",
    "    dplyr::rename(geneID = gene_symbol)\n",
    "deseq_df <- read_tsv(paste0(dirs$analysis_dir, \"/deg/\", unified_dsets[dset_idx], \"_DESeq_results.tsv\")) %>%\n",
    "    rename(base_mean = baseMean, lfc = log2FoldChange) %>%\n",
    "    mutate(change_dir = ifelse(lfc > 0, \"up\", \"down\")) %>%\n",
    "    select(geneID, change_dir, base_mean, lfc, qval)\n",
    "demg_list <- read_lines(paste0(dirs$analysis_dir, \"/gene_lists/\", unified_dsets[dset_idx], \"_demg_list.txt\"))\n",
    "figo_umsmg_list <- read_lines(paste0(dirs$analysis_dir, \"/gene_lists/\", unified_dsets[dset_idx], \"_figo_umsmg_list.txt\"))\n",
    "survival_umsmg_list <- read_lines(paste0(dirs$analysis_dir, \"/gene_lists/\", unified_dsets[dset_idx], \"_survival_umsmg_list.txt\"))\n",
    "figo_nsmg_list <- read_lines(paste0(dirs$analysis_dir, \"/gene_lists/\", unified_dsets[dset_idx], \"_figo_nsmg_list.txt\"))"
   ]
  },
  {
   "cell_type": "code",
   "execution_count": 5,
   "id": "veterinary-mount",
   "metadata": {},
   "outputs": [
    {
     "name": "stderr",
     "output_type": "stream",
     "text": [
      "\n",
      "\u001b[36m--\u001b[39m \u001b[1m\u001b[1mColumn specification\u001b[1m\u001b[22m \u001b[36m--------------------------------------------------------------------------------------------------------------------------\u001b[39m\n",
      "cols(\n",
      "  Gene = \u001b[31mcol_character()\u001b[39m,\n",
      "  `Gene name` = \u001b[31mcol_character()\u001b[39m,\n",
      "  Cancer = \u001b[31mcol_character()\u001b[39m,\n",
      "  High = \u001b[32mcol_double()\u001b[39m,\n",
      "  Medium = \u001b[32mcol_double()\u001b[39m,\n",
      "  Low = \u001b[32mcol_double()\u001b[39m,\n",
      "  `Not detected` = \u001b[32mcol_double()\u001b[39m,\n",
      "  `prognostic - favorable` = \u001b[32mcol_double()\u001b[39m,\n",
      "  `unprognostic - favorable` = \u001b[32mcol_double()\u001b[39m,\n",
      "  `prognostic - unfavorable` = \u001b[32mcol_double()\u001b[39m,\n",
      "  `unprognostic - unfavorable` = \u001b[32mcol_double()\u001b[39m\n",
      ")\n",
      "\n",
      "\n"
     ]
    }
   ],
   "source": [
    "pathology_df <- read_tsv(paste0(dirs$data_dir, \"/THPA_v20_1_staining/pathology.tsv\")) %>%\n",
    "    rename_all(tolower) %>%\n",
    "    rename_with(~ gsub(\" - \", \"_\", .x, fixed = TRUE)) %>%\n",
    "    rename_with(~ gsub(\" \", \"_\", .x, fixed = TRUE)) %>%\n",
    "    rename(geneID = gene_name) %>%\n",
    "    select(geneID, cancer, high, medium, low, not_detected) %>%\n",
    "    filter(cancer %in% cancer_name[dset_idx]) %>%\n",
    "    filter(rowSums(is.na(.[,3:6])) == 0) %>%\n",
    "    dplyr::mutate(detected_count = rowSums(.[c(\"high\", \"medium\", \"low\")]))"
   ]
  },
  {
   "cell_type": "code",
   "execution_count": 6,
   "id": "spread-footage",
   "metadata": {},
   "outputs": [],
   "source": [
    "joined_mat_stats_df <- matrisome_df %>%\n",
    "    inner_join(pathology_df, by = \"geneID\")"
   ]
  },
  {
   "cell_type": "code",
   "execution_count": 7,
   "id": "recent-radio",
   "metadata": {},
   "outputs": [],
   "source": [
    "demg_stats_df <- deseq_df %>%\n",
    "    filter(geneID %in% demg_list) %>%\n",
    "    arrange(geneID)\n",
    "joined_demg_stats_df <- demg_stats_df %>%\n",
    "    inner_join(pathology_df, by = \"geneID\") %>%\n",
    "    arrange(change_dir)"
   ]
  },
  {
   "cell_type": "code",
   "execution_count": 8,
   "id": "dirty-nelson",
   "metadata": {},
   "outputs": [],
   "source": [
    "figo_umsmg_demg_stats_df <- deseq_df %>%\n",
    "    filter(geneID %in% intersect(figo_umsmg_list, demg_list)) %>%\n",
    "    arrange(geneID)\n",
    "joined_figo_umsmg_demg_stats_df <- figo_umsmg_demg_stats_df %>% \n",
    "    inner_join(pathology_df, by = \"geneID\") %>%\n",
    "    arrange(change_dir)"
   ]
  },
  {
   "cell_type": "code",
   "execution_count": 9,
   "id": "scientific-dictionary",
   "metadata": {},
   "outputs": [],
   "source": [
    "figo_nsmg_demg_stats_df <- deseq_df %>%\n",
    "    filter(geneID %in% intersect(figo_nsmg_list, demg_list)) %>%\n",
    "    arrange(geneID)\n",
    "joined_figo_nsmg_demg_stats_df <- figo_nsmg_demg_stats_df %>% \n",
    "    inner_join(pathology_df, by = \"geneID\") %>%\n",
    "    arrange(change_dir)"
   ]
  },
  {
   "cell_type": "code",
   "execution_count": 10,
   "id": "secure-mathematics",
   "metadata": {},
   "outputs": [],
   "source": [
    "survival_umsmg_demg_stats_df <- deseq_df %>%\n",
    "    filter(geneID %in% intersect(survival_umsmg_list, demg_list)) %>%\n",
    "    arrange(geneID)\n",
    "joined_survival_umsmg_demg_stats_df <- survival_umsmg_demg_stats_df %>% \n",
    "    inner_join(pathology_df, by = \"geneID\") %>%\n",
    "    arrange(change_dir)"
   ]
  },
  {
   "cell_type": "markdown",
   "id": "bibliographic-grass",
   "metadata": {},
   "source": [
    "# Likelihood of a group of genes showing up in staining"
   ]
  },
  {
   "cell_type": "code",
   "execution_count": 11,
   "id": "thirty-greenhouse",
   "metadata": {},
   "outputs": [
    {
     "data": {
      "text/html": [
       "0.666666666666667"
      ],
      "text/latex": [
       "0.666666666666667"
      ],
      "text/markdown": [
       "0.666666666666667"
      ],
      "text/plain": [
       "[1] 0.6666667"
      ]
     },
     "metadata": {},
     "output_type": "display_data"
    },
    {
     "data": {
      "text/html": [
       "0.718614718614719"
      ],
      "text/latex": [
       "0.718614718614719"
      ],
      "text/markdown": [
       "0.718614718614719"
      ],
      "text/plain": [
       "[1] 0.7186147"
      ]
     },
     "metadata": {},
     "output_type": "display_data"
    },
    {
     "data": {
      "text/html": [
       "0.6875"
      ],
      "text/latex": [
       "0.6875"
      ],
      "text/markdown": [
       "0.6875"
      ],
      "text/plain": [
       "[1] 0.6875"
      ]
     },
     "metadata": {},
     "output_type": "display_data"
    },
    {
     "data": {
      "text/html": [
       "0.823529411764706"
      ],
      "text/latex": [
       "0.823529411764706"
      ],
      "text/markdown": [
       "0.823529411764706"
      ],
      "text/plain": [
       "[1] 0.8235294"
      ]
     },
     "metadata": {},
     "output_type": "display_data"
    },
    {
     "data": {
      "text/html": [
       "0.65"
      ],
      "text/latex": [
       "0.65"
      ],
      "text/markdown": [
       "0.65"
      ],
      "text/plain": [
       "[1] 0.65"
      ]
     },
     "metadata": {},
     "output_type": "display_data"
    }
   ],
   "source": [
    "sum(joined_mat_stats_df$detected_count > 0) / nrow(joined_mat_stats_df)\n",
    "sum(joined_demg_stats_df$detected_count > 0) / nrow(joined_demg_stats_df)\n",
    "sum(joined_figo_umsmg_demg_stats_df$detected_count > 0) / nrow(joined_figo_umsmg_demg_stats_df)\n",
    "sum(joined_figo_nsmg_demg_stats_df$detected_count > 0) / nrow(joined_figo_nsmg_demg_stats_df)\n",
    "sum(joined_survival_umsmg_demg_stats_df$detected_count > 0) / nrow(joined_survival_umsmg_demg_stats_df)"
   ]
  },
  {
   "cell_type": "code",
   "execution_count": 12,
   "id": "simplified-mouse",
   "metadata": {},
   "outputs": [],
   "source": [
    "group_detections_df <- tibble(\n",
    "    group = c(\n",
    "        rep(\"mat\", nrow(joined_mat_stats_df)),\n",
    "        rep(\"demg\", nrow(joined_demg_stats_df)),\n",
    "        rep(\"figo_umsmg_demg\", nrow(joined_figo_umsmg_demg_stats_df)),\n",
    "        rep(\"figo_nsmg_demg\", nrow(joined_figo_nsmg_demg_stats_df)),\n",
    "        rep(\"survival_umsmg_demg\", nrow(joined_survival_umsmg_demg_stats_df))\n",
    "    ),\n",
    "    detected_count = c(\n",
    "        joined_mat_stats_df$detected_count,\n",
    "        joined_demg_stats_df$detected_count,\n",
    "        joined_figo_umsmg_demg_stats_df$detected_count,\n",
    "        joined_figo_nsmg_demg_stats_df$detected_count,\n",
    "        joined_survival_umsmg_demg_stats_df$detected_count\n",
    "    )\n",
    ") %>%\n",
    "    dplyr::mutate(group_f = factor(group))"
   ]
  },
  {
   "cell_type": "code",
   "execution_count": 13,
   "id": "exclusive-cartridge",
   "metadata": {},
   "outputs": [
    {
     "name": "stderr",
     "output_type": "stream",
     "text": [
      "Warning message:\n",
      "\"Ignoring unknown parameters: binwidth, bins, pad\"\n"
     ]
    },
    {
     "data": {
      "image/png": "[encoded data removed]",
      "text/plain": [
       "plot without title"
      ]
     },
     "metadata": {
      "image/png": {
       "height": 420,
       "width": 420
      }
     },
     "output_type": "display_data"
    }
   ],
   "source": [
    "ggplot(data = group_detections_df) +\n",
    "#     geom_violin(aes(x = factor(group), y = detected_count)) +\n",
    "    geom_histogram(aes(x = detected_count), stat = \"density\") +\n",
    "    facet_wrap(~ group_f) +\n",
    "    theme_bw()"
   ]
  },
  {
   "cell_type": "code",
   "execution_count": 16,
   "id": "unlikely-links",
   "metadata": {},
   "outputs": [
    {
     "name": "stderr",
     "output_type": "stream",
     "text": [
      "Warning message in ks.test(x, y):\n",
      "\"p-value will be approximate in the presence of ties\"\n"
     ]
    },
    {
     "data": {
      "text/plain": [
       "\n",
       "\tTwo-sample Kolmogorov-Smirnov test\n",
       "\n",
       "data:  x and y\n",
       "D = 0.074297, p-value = 0.9999\n",
       "alternative hypothesis: two-sided\n"
      ]
     },
     "metadata": {},
     "output_type": "display_data"
    }
   ],
   "source": [
    "x <- group_detections_df %>% \n",
    "    dplyr::filter(group == \"mat\") %>%\n",
    "    dplyr::pull(detected_count)\n",
    "y <- group_detections_df %>%\n",
    "    dplyr::filter(group == \"survival_umsmg_demg\") %>%\n",
    "    dplyr::pull(detected_count)\n",
    "ks.test(x, y)"
   ]
  },
  {
   "cell_type": "code",
   "execution_count": null,
   "id": "sorted-cassette",
   "metadata": {},
   "outputs": [],
   "source": []
  }
 ],
 "metadata": {
  "kernelspec": {
   "display_name": "R",
   "language": "R",
   "name": "ir"
  },
  "language_info": {
   "codemirror_mode": "r",
   "file_extension": ".r",
   "mimetype": "text/x-r-source",
   "name": "R",
   "pygments_lexer": "r",
   "version": "4.0.3"
  }
 },
 "nbformat": 4,
 "nbformat_minor": 5
}
