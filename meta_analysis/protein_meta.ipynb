{
 "cells": [
  {
   "cell_type": "code",
   "execution_count": 1,
   "id": "otherwise-dialogue",
   "metadata": {},
   "outputs": [
    {
     "name": "stderr",
     "output_type": "stream",
     "text": [
      "-- \u001b[1mAttaching packages\u001b[22m ------------------------------------------------------------------------------- tidyverse 1.3.0 --\n",
      "\n",
      "\u001b[32mv\u001b[39m \u001b[34mggplot2\u001b[39m 3.3.3     \u001b[32mv\u001b[39m \u001b[34mpurrr  \u001b[39m 0.3.4\n",
      "\u001b[32mv\u001b[39m \u001b[34mtibble \u001b[39m 3.0.6     \u001b[32mv\u001b[39m \u001b[34mdplyr  \u001b[39m 1.0.4\n",
      "\u001b[32mv\u001b[39m \u001b[34mtidyr  \u001b[39m 1.1.2     \u001b[32mv\u001b[39m \u001b[34mstringr\u001b[39m 1.4.0\n",
      "\u001b[32mv\u001b[39m \u001b[34mreadr  \u001b[39m 1.4.0     \u001b[32mv\u001b[39m \u001b[34mforcats\u001b[39m 0.5.1\n",
      "\n",
      "-- \u001b[1mConflicts\u001b[22m ---------------------------------------------------------------------------------- tidyverse_conflicts() --\n",
      "\u001b[31mx\u001b[39m \u001b[34mdplyr\u001b[39m::\u001b[32mfilter()\u001b[39m masks \u001b[34mstats\u001b[39m::filter()\n",
      "\u001b[31mx\u001b[39m \u001b[34mdplyr\u001b[39m::\u001b[32mlag()\u001b[39m    masks \u001b[34mstats\u001b[39m::lag()\n",
      "\n"
     ]
    }
   ],
   "source": [
    "library(tidyverse)\n",
    "\n",
    "# Custom package\n",
    "library(rutils)"
   ]
  },
  {
   "cell_type": "code",
   "execution_count": 2,
   "id": "material-attack",
   "metadata": {},
   "outputs": [],
   "source": [
    "dirs <- rutils::get_dev_directories(dev_paths_file = \"../dev_paths.txt\")\n",
    "unified_dsets <- c(\"unified_cervical_data\", \"unified_uterine_data\", \"unified_uterine_endometrial_data\")\n",
    "cancer_name <- c(\"cervical cancer\", \"none\", \"endometrial cancer\")\n",
    "matrisome_path <- paste0(dirs$data_dir, \"/matrisome/matrisome_hs_masterlist.tsv\")"
   ]
  },
  {
   "cell_type": "code",
   "execution_count": 3,
   "id": "super-ticket",
   "metadata": {},
   "outputs": [],
   "source": [
    "dset_idx <- 1\n",
    "# hub_con_thresh <- 0.25\n",
    "hub_con_thresh <- 0.0"
   ]
  },
  {
   "cell_type": "code",
   "execution_count": 4,
   "id": "furnished-president",
   "metadata": {},
   "outputs": [
    {
     "name": "stderr",
     "output_type": "stream",
     "text": [
      "\n",
      "\u001b[36m--\u001b[39m \u001b[1m\u001b[1mColumn specification\u001b[1m\u001b[22m \u001b[36m------------------------------------------------------------------------------------------------\u001b[39m\n",
      "cols(\n",
      "  Division = \u001b[31mcol_character()\u001b[39m,\n",
      "  Category = \u001b[31mcol_character()\u001b[39m,\n",
      "  `Gene Symbol` = \u001b[31mcol_character()\u001b[39m,\n",
      "  `Gene Name` = \u001b[31mcol_character()\u001b[39m,\n",
      "  Synonyms = \u001b[31mcol_character()\u001b[39m,\n",
      "  HGNC_IDs = \u001b[32mcol_double()\u001b[39m,\n",
      "  `HGNC_IDs Links` = \u001b[32mcol_double()\u001b[39m,\n",
      "  UniProt_IDs = \u001b[31mcol_character()\u001b[39m,\n",
      "  Refseq_IDs = \u001b[31mcol_character()\u001b[39m,\n",
      "  Orthology = \u001b[31mcol_character()\u001b[39m,\n",
      "  Notes = \u001b[31mcol_character()\u001b[39m\n",
      ")\n",
      "\n",
      "\n"
     ]
    }
   ],
   "source": [
    "matrisome_df <- load_matrisome_df(matrisome_path) %>%\n",
    "    rename(geneID = gene_symbol) %>%\n",
    "    select(geneID, division, category)"
   ]
  },
  {
   "cell_type": "code",
   "execution_count": 5,
   "id": "academic-siemens",
   "metadata": {},
   "outputs": [
    {
     "name": "stderr",
     "output_type": "stream",
     "text": [
      "\n",
      "\u001b[36m--\u001b[39m \u001b[1m\u001b[1mColumn specification\u001b[1m\u001b[22m \u001b[36m------------------------------------------------------------------------------------------------\u001b[39m\n",
      "cols(\n",
      "  geneID = \u001b[31mcol_character()\u001b[39m,\n",
      "  baseMean = \u001b[32mcol_double()\u001b[39m,\n",
      "  log2FoldChange = \u001b[32mcol_double()\u001b[39m,\n",
      "  lfcSE = \u001b[32mcol_double()\u001b[39m,\n",
      "  stat = \u001b[32mcol_double()\u001b[39m,\n",
      "  pvalue = \u001b[32mcol_double()\u001b[39m,\n",
      "  padj = \u001b[32mcol_double()\u001b[39m,\n",
      "  qval = \u001b[32mcol_double()\u001b[39m\n",
      ")\n",
      "\n",
      "\n"
     ]
    }
   ],
   "source": [
    "deseq_df <- read_tsv(paste0(dirs$analysis_dir, \"/deg/\", unified_dsets[dset_idx], \"_DESeq_results.tsv\"))"
   ]
  },
  {
   "cell_type": "code",
   "execution_count": 6,
   "id": "binding-response",
   "metadata": {},
   "outputs": [
    {
     "name": "stderr",
     "output_type": "stream",
     "text": [
      "\n",
      "\u001b[36m--\u001b[39m \u001b[1m\u001b[1mColumn specification\u001b[1m\u001b[22m \u001b[36m------------------------------------------------------------------------------------------------\u001b[39m\n",
      "cols(\n",
      "  Gene = \u001b[31mcol_character()\u001b[39m,\n",
      "  `Gene name` = \u001b[31mcol_character()\u001b[39m,\n",
      "  Cancer = \u001b[31mcol_character()\u001b[39m,\n",
      "  High = \u001b[32mcol_double()\u001b[39m,\n",
      "  Medium = \u001b[32mcol_double()\u001b[39m,\n",
      "  Low = \u001b[32mcol_double()\u001b[39m,\n",
      "  `Not detected` = \u001b[32mcol_double()\u001b[39m,\n",
      "  `prognostic - favorable` = \u001b[32mcol_double()\u001b[39m,\n",
      "  `unprognostic - favorable` = \u001b[32mcol_double()\u001b[39m,\n",
      "  `prognostic - unfavorable` = \u001b[32mcol_double()\u001b[39m,\n",
      "  `unprognostic - unfavorable` = \u001b[32mcol_double()\u001b[39m\n",
      ")\n",
      "\n",
      "\n"
     ]
    }
   ],
   "source": [
    "pathology_df <- read_tsv(paste0(dirs$data_dir, \"/THPA_v20_1_staining/pathology.tsv\")) %>%\n",
    "    rename_all(tolower) %>%\n",
    "    rename_with(~ gsub(\" - \", \"_\", .x, fixed = TRUE)) %>%\n",
    "    rename_with(~ gsub(\" \", \"_\", .x, fixed = TRUE)) %>%\n",
    "    rename(geneID = gene_name) %>%\n",
    "    select(geneID, cancer, high, medium, low, not_detected) %>%\n",
    "    filter(cancer %in% cancer_name[dset_idx]) %>%\n",
    "    filter(rowSums(is.na(.[,3:6])) == 0)"
   ]
  },
  {
   "cell_type": "code",
   "execution_count": 7,
   "id": "operating-occasion",
   "metadata": {},
   "outputs": [],
   "source": [
    "umsmg_demg_list <- read_lines(paste0(dirs$analysis_dir, \"/gene_lists/\", unified_dsets[dset_idx], \"_umsmg_demg_list.txt\"))\n",
    "umsmg_nsmg_demg_list <- read_lines(paste0(dirs$analysis_dir, \"/gene_lists/\", unified_dsets[dset_idx], \"_umsmg_nsmg_hub_thresh_\", hub_con_thresh, \"_demg_list.txt\"))"
   ]
  },
  {
   "cell_type": "code",
   "execution_count": 8,
   "id": "developed-senate",
   "metadata": {},
   "outputs": [],
   "source": [
    "critical_mg_stats_df <- deseq_df %>%\n",
    "    filter(geneID %in% umsmg_nsmg_demg_list) %>%\n",
    "    rename(base_mean = baseMean, lfc = log2FoldChange) %>%\n",
    "    mutate(change_dir = ifelse(lfc > 0, \"up\", \"down\")) %>%\n",
    "    select(geneID, change_dir, base_mean, lfc, qval) %>%\n",
    "    arrange(geneID)"
   ]
  },
  {
   "cell_type": "code",
   "execution_count": 9,
   "id": "joint-pledge",
   "metadata": {},
   "outputs": [
    {
     "data": {
      "text/html": [
       "<table class=\"dataframe\">\n",
       "<caption>A tibble: 16 × 10</caption>\n",
       "<thead>\n",
       "\t<tr><th scope=col>geneID</th><th scope=col>change_dir</th><th scope=col>base_mean</th><th scope=col>lfc</th><th scope=col>qval</th><th scope=col>cancer</th><th scope=col>high</th><th scope=col>medium</th><th scope=col>low</th><th scope=col>not_detected</th></tr>\n",
       "\t<tr><th scope=col>&lt;chr&gt;</th><th scope=col>&lt;chr&gt;</th><th scope=col>&lt;dbl&gt;</th><th scope=col>&lt;dbl&gt;</th><th scope=col>&lt;dbl&gt;</th><th scope=col>&lt;chr&gt;</th><th scope=col>&lt;dbl&gt;</th><th scope=col>&lt;dbl&gt;</th><th scope=col>&lt;dbl&gt;</th><th scope=col>&lt;dbl&gt;</th></tr>\n",
       "</thead>\n",
       "<tbody>\n",
       "\t<tr><td>A2ML1   </td><td>down</td><td> 8274.666005</td><td>-1.043458</td><td>4.063069e-02</td><td>cervical cancer</td><td>2</td><td>3</td><td>1</td><td> 6</td></tr>\n",
       "\t<tr><td>ADAM20  </td><td>down</td><td>    5.021051</td><td>-2.384743</td><td>5.302013e-19</td><td>cervical cancer</td><td>0</td><td>0</td><td>0</td><td>10</td></tr>\n",
       "\t<tr><td>ADAMTS18</td><td>down</td><td>   85.515119</td><td>-1.606028</td><td>1.966841e-02</td><td>cervical cancer</td><td>3</td><td>1</td><td>6</td><td> 2</td></tr>\n",
       "\t<tr><td>FLG2    </td><td>down</td><td>   11.260223</td><td>-1.664013</td><td>2.010630e-02</td><td>cervical cancer</td><td>0</td><td>0</td><td>2</td><td>10</td></tr>\n",
       "\t<tr><td>HRNR    </td><td>down</td><td>   46.096473</td><td>-1.435467</td><td>2.750615e-03</td><td>cervical cancer</td><td>0</td><td>1</td><td>5</td><td> 5</td></tr>\n",
       "\t<tr><td>MMP24   </td><td>down</td><td>   75.707252</td><td>-1.314716</td><td>2.111814e-03</td><td>cervical cancer</td><td>0</td><td>2</td><td>3</td><td> 6</td></tr>\n",
       "\t<tr><td>OVGP1   </td><td>down</td><td>  108.812270</td><td>-1.603303</td><td>7.957032e-07</td><td>cervical cancer</td><td>0</td><td>0</td><td>0</td><td>12</td></tr>\n",
       "\t<tr><td>VWA5B2  </td><td>down</td><td>   37.593033</td><td>-1.352740</td><td>4.173751e-03</td><td>cervical cancer</td><td>0</td><td>3</td><td>7</td><td> 2</td></tr>\n",
       "\t<tr><td>CLEC2A  </td><td>up  </td><td>   50.429286</td><td> 4.845719</td><td>2.004929e-04</td><td>cervical cancer</td><td>0</td><td>0</td><td>0</td><td>12</td></tr>\n",
       "\t<tr><td>CSTB    </td><td>up  </td><td>37130.026057</td><td> 1.311200</td><td>1.174906e-04</td><td>cervical cancer</td><td>0</td><td>1</td><td>1</td><td>10</td></tr>\n",
       "\t<tr><td>LGALS7  </td><td>up  </td><td> 2053.219530</td><td> 4.519554</td><td>2.667718e-10</td><td>cervical cancer</td><td>0</td><td>0</td><td>0</td><td>12</td></tr>\n",
       "\t<tr><td>LGALS9C </td><td>up  </td><td>  216.965093</td><td> 1.211112</td><td>1.104835e-02</td><td>cervical cancer</td><td>0</td><td>1</td><td>1</td><td> 8</td></tr>\n",
       "\t<tr><td>MUC13   </td><td>up  </td><td> 2408.371778</td><td> 7.209132</td><td>2.283496e-13</td><td>cervical cancer</td><td>0</td><td>0</td><td>0</td><td>10</td></tr>\n",
       "\t<tr><td>MUC6    </td><td>up  </td><td> 1152.485279</td><td> 4.531702</td><td>2.334433e-05</td><td>cervical cancer</td><td>0</td><td>0</td><td>0</td><td>12</td></tr>\n",
       "\t<tr><td>S100A11 </td><td>up  </td><td>61333.244152</td><td> 2.289189</td><td>1.529940e-23</td><td>cervical cancer</td><td>7</td><td>4</td><td>0</td><td> 1</td></tr>\n",
       "\t<tr><td>SERPINB5</td><td>up  </td><td>15735.268369</td><td> 2.444410</td><td>1.165095e-06</td><td>cervical cancer</td><td>0</td><td>7</td><td>2</td><td> 3</td></tr>\n",
       "</tbody>\n",
       "</table>\n"
      ],
      "text/latex": [
       "A tibble: 16 × 10\n",
       "\\begin{tabular}{llllllllll}\n",
       " geneID & change\\_dir & base\\_mean & lfc & qval & cancer & high & medium & low & not\\_detected\\\\\n",
       " <chr> & <chr> & <dbl> & <dbl> & <dbl> & <chr> & <dbl> & <dbl> & <dbl> & <dbl>\\\\\n",
       "\\hline\n",
       "\t A2ML1    & down &  8274.666005 & -1.043458 & 4.063069e-02 & cervical cancer & 2 & 3 & 1 &  6\\\\\n",
       "\t ADAM20   & down &     5.021051 & -2.384743 & 5.302013e-19 & cervical cancer & 0 & 0 & 0 & 10\\\\\n",
       "\t ADAMTS18 & down &    85.515119 & -1.606028 & 1.966841e-02 & cervical cancer & 3 & 1 & 6 &  2\\\\\n",
       "\t FLG2     & down &    11.260223 & -1.664013 & 2.010630e-02 & cervical cancer & 0 & 0 & 2 & 10\\\\\n",
       "\t HRNR     & down &    46.096473 & -1.435467 & 2.750615e-03 & cervical cancer & 0 & 1 & 5 &  5\\\\\n",
       "\t MMP24    & down &    75.707252 & -1.314716 & 2.111814e-03 & cervical cancer & 0 & 2 & 3 &  6\\\\\n",
       "\t OVGP1    & down &   108.812270 & -1.603303 & 7.957032e-07 & cervical cancer & 0 & 0 & 0 & 12\\\\\n",
       "\t VWA5B2   & down &    37.593033 & -1.352740 & 4.173751e-03 & cervical cancer & 0 & 3 & 7 &  2\\\\\n",
       "\t CLEC2A   & up   &    50.429286 &  4.845719 & 2.004929e-04 & cervical cancer & 0 & 0 & 0 & 12\\\\\n",
       "\t CSTB     & up   & 37130.026057 &  1.311200 & 1.174906e-04 & cervical cancer & 0 & 1 & 1 & 10\\\\\n",
       "\t LGALS7   & up   &  2053.219530 &  4.519554 & 2.667718e-10 & cervical cancer & 0 & 0 & 0 & 12\\\\\n",
       "\t LGALS9C  & up   &   216.965093 &  1.211112 & 1.104835e-02 & cervical cancer & 0 & 1 & 1 &  8\\\\\n",
       "\t MUC13    & up   &  2408.371778 &  7.209132 & 2.283496e-13 & cervical cancer & 0 & 0 & 0 & 10\\\\\n",
       "\t MUC6     & up   &  1152.485279 &  4.531702 & 2.334433e-05 & cervical cancer & 0 & 0 & 0 & 12\\\\\n",
       "\t S100A11  & up   & 61333.244152 &  2.289189 & 1.529940e-23 & cervical cancer & 7 & 4 & 0 &  1\\\\\n",
       "\t SERPINB5 & up   & 15735.268369 &  2.444410 & 1.165095e-06 & cervical cancer & 0 & 7 & 2 &  3\\\\\n",
       "\\end{tabular}\n"
      ],
      "text/markdown": [
       "\n",
       "A tibble: 16 × 10\n",
       "\n",
       "| geneID &lt;chr&gt; | change_dir &lt;chr&gt; | base_mean &lt;dbl&gt; | lfc &lt;dbl&gt; | qval &lt;dbl&gt; | cancer &lt;chr&gt; | high &lt;dbl&gt; | medium &lt;dbl&gt; | low &lt;dbl&gt; | not_detected &lt;dbl&gt; |\n",
       "|---|---|---|---|---|---|---|---|---|---|\n",
       "| A2ML1    | down |  8274.666005 | -1.043458 | 4.063069e-02 | cervical cancer | 2 | 3 | 1 |  6 |\n",
       "| ADAM20   | down |     5.021051 | -2.384743 | 5.302013e-19 | cervical cancer | 0 | 0 | 0 | 10 |\n",
       "| ADAMTS18 | down |    85.515119 | -1.606028 | 1.966841e-02 | cervical cancer | 3 | 1 | 6 |  2 |\n",
       "| FLG2     | down |    11.260223 | -1.664013 | 2.010630e-02 | cervical cancer | 0 | 0 | 2 | 10 |\n",
       "| HRNR     | down |    46.096473 | -1.435467 | 2.750615e-03 | cervical cancer | 0 | 1 | 5 |  5 |\n",
       "| MMP24    | down |    75.707252 | -1.314716 | 2.111814e-03 | cervical cancer | 0 | 2 | 3 |  6 |\n",
       "| OVGP1    | down |   108.812270 | -1.603303 | 7.957032e-07 | cervical cancer | 0 | 0 | 0 | 12 |\n",
       "| VWA5B2   | down |    37.593033 | -1.352740 | 4.173751e-03 | cervical cancer | 0 | 3 | 7 |  2 |\n",
       "| CLEC2A   | up   |    50.429286 |  4.845719 | 2.004929e-04 | cervical cancer | 0 | 0 | 0 | 12 |\n",
       "| CSTB     | up   | 37130.026057 |  1.311200 | 1.174906e-04 | cervical cancer | 0 | 1 | 1 | 10 |\n",
       "| LGALS7   | up   |  2053.219530 |  4.519554 | 2.667718e-10 | cervical cancer | 0 | 0 | 0 | 12 |\n",
       "| LGALS9C  | up   |   216.965093 |  1.211112 | 1.104835e-02 | cervical cancer | 0 | 1 | 1 |  8 |\n",
       "| MUC13    | up   |  2408.371778 |  7.209132 | 2.283496e-13 | cervical cancer | 0 | 0 | 0 | 10 |\n",
       "| MUC6     | up   |  1152.485279 |  4.531702 | 2.334433e-05 | cervical cancer | 0 | 0 | 0 | 12 |\n",
       "| S100A11  | up   | 61333.244152 |  2.289189 | 1.529940e-23 | cervical cancer | 7 | 4 | 0 |  1 |\n",
       "| SERPINB5 | up   | 15735.268369 |  2.444410 | 1.165095e-06 | cervical cancer | 0 | 7 | 2 |  3 |\n",
       "\n"
      ],
      "text/plain": [
       "   geneID   change_dir base_mean    lfc       qval         cancer          high\n",
       "1  A2ML1    down        8274.666005 -1.043458 4.063069e-02 cervical cancer 2   \n",
       "2  ADAM20   down           5.021051 -2.384743 5.302013e-19 cervical cancer 0   \n",
       "3  ADAMTS18 down          85.515119 -1.606028 1.966841e-02 cervical cancer 3   \n",
       "4  FLG2     down          11.260223 -1.664013 2.010630e-02 cervical cancer 0   \n",
       "5  HRNR     down          46.096473 -1.435467 2.750615e-03 cervical cancer 0   \n",
       "6  MMP24    down          75.707252 -1.314716 2.111814e-03 cervical cancer 0   \n",
       "7  OVGP1    down         108.812270 -1.603303 7.957032e-07 cervical cancer 0   \n",
       "8  VWA5B2   down          37.593033 -1.352740 4.173751e-03 cervical cancer 0   \n",
       "9  CLEC2A   up            50.429286  4.845719 2.004929e-04 cervical cancer 0   \n",
       "10 CSTB     up         37130.026057  1.311200 1.174906e-04 cervical cancer 0   \n",
       "11 LGALS7   up          2053.219530  4.519554 2.667718e-10 cervical cancer 0   \n",
       "12 LGALS9C  up           216.965093  1.211112 1.104835e-02 cervical cancer 0   \n",
       "13 MUC13    up          2408.371778  7.209132 2.283496e-13 cervical cancer 0   \n",
       "14 MUC6     up          1152.485279  4.531702 2.334433e-05 cervical cancer 0   \n",
       "15 S100A11  up         61333.244152  2.289189 1.529940e-23 cervical cancer 7   \n",
       "16 SERPINB5 up         15735.268369  2.444410 1.165095e-06 cervical cancer 0   \n",
       "   medium low not_detected\n",
       "1  3      1    6          \n",
       "2  0      0   10          \n",
       "3  1      6    2          \n",
       "4  0      2   10          \n",
       "5  1      5    5          \n",
       "6  2      3    6          \n",
       "7  0      0   12          \n",
       "8  3      7    2          \n",
       "9  0      0   12          \n",
       "10 1      1   10          \n",
       "11 0      0   12          \n",
       "12 1      1    8          \n",
       "13 0      0   10          \n",
       "14 0      0   12          \n",
       "15 4      0    1          \n",
       "16 7      2    3          "
      ]
     },
     "metadata": {},
     "output_type": "display_data"
    }
   ],
   "source": [
    "critical_mg_stats_df %>% \n",
    "    inner_join(pathology_df, by = \"geneID\") %>%\n",
    "    arrange(change_dir)"
   ]
  }
 ],
 "metadata": {
  "kernelspec": {
   "display_name": "R",
   "language": "R",
   "name": "ir"
  },
  "language_info": {
   "codemirror_mode": "r",
   "file_extension": ".r",
   "mimetype": "text/x-r-source",
   "name": "R",
   "pygments_lexer": "r",
   "version": "4.0.3"
  }
 },
 "nbformat": 4,
 "nbformat_minor": 5
}
