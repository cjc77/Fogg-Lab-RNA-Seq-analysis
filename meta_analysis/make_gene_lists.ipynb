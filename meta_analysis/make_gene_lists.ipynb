{
 "cells": [
  {
   "cell_type": "code",
   "execution_count": 234,
   "metadata": {},
   "outputs": [],
   "source": [
    "library(tidyverse)\n",
    "library(clusterProfiler)\n",
    "library(WGCNA)\n",
    "library(parallel)\n",
    "\n",
    "# Custom package\n",
    "library(rutils)"
   ]
  },
  {
   "cell_type": "code",
   "execution_count": 235,
   "metadata": {},
   "outputs": [],
   "source": [
    "dirs <- rutils::get_dev_directories(dev_paths_file = \"../dev_paths.txt\")\n",
    "unified_dsets <- c(\"unified_cervical_data\", \"unified_uterine_data\", \"unified_uterine_endometrial_data\")\n",
    "matrisome_path <- paste0(dirs$data_dir, \"/matrisome/matrisome_hs_masterlist.tsv\")\n",
    "\n",
    "event_code <- list(\"Alive\" = 0, \"Dead\" = 1)"
   ]
  },
  {
   "cell_type": "code",
   "execution_count": 236,
   "metadata": {},
   "outputs": [],
   "source": [
    "dset_idx <- 3"
   ]
  },
  {
   "cell_type": "code",
   "execution_count": 237,
   "metadata": {},
   "outputs": [],
   "source": [
    "lnames <- load(file = paste0(dirs$data_dir, \"/saved_network_objects/\", unified_dsets[dset_idx], \"_tumor_data.RData\"))\n",
    "lnames <- load(file = paste0(dirs$data_dir, \"/saved_network_objects/\", unified_dsets[dset_idx], \"_tumor_network.RData\"))"
   ]
  },
  {
   "cell_type": "code",
   "execution_count": 238,
   "metadata": {},
   "outputs": [],
   "source": [
    "lfc_thresh <- log2(2)\n",
    "pval_thresh <- 0.05\n",
    "perm_thresh <- 0\n",
    "vote_thresh <- 5"
   ]
  },
  {
   "cell_type": "code",
   "execution_count": 239,
   "metadata": {},
   "outputs": [
    {
     "name": "stderr",
     "output_type": "stream",
     "text": [
      "Parsed with column specification:\n",
      "cols(\n",
      "  hugo_symbol = col_character(),\n",
      "  entrez_gene_id = col_double()\n",
      ")\n",
      "Parsed with column specification:\n",
      "cols(\n",
      "  Division = col_character(),\n",
      "  Category = col_character(),\n",
      "  `Gene Symbol` = col_character(),\n",
      "  `Gene Name` = col_character(),\n",
      "  Synonyms = col_character(),\n",
      "  HGNC_IDs = col_double(),\n",
      "  `HGNC_IDs Links` = col_double(),\n",
      "  UniProt_IDs = col_character(),\n",
      "  Refseq_IDs = col_character(),\n",
      "  Orthology = col_character(),\n",
      "  Notes = col_character()\n",
      ")\n"
     ]
    }
   ],
   "source": [
    "gene2id_df <- read_tsv(paste0(dirs$data_dir, \"/\", unified_dsets[dset_idx], \"/hugo2entrez.tsv\"))\n",
    "matrisome_df <- load_matrisome_df(paste0(dirs$data_dir, \"/matrisome/matrisome_hs_masterlist.tsv\"))"
   ]
  },
  {
   "cell_type": "markdown",
   "metadata": {},
   "source": [
    "# Load results data"
   ]
  },
  {
   "cell_type": "code",
   "execution_count": 240,
   "metadata": {},
   "outputs": [
    {
     "name": "stderr",
     "output_type": "stream",
     "text": [
      "Parsed with column specification:\n",
      "cols(\n",
      "  geneID = col_character(),\n",
      "  baseMean = col_double(),\n",
      "  log2FoldChange = col_double(),\n",
      "  lfcSE = col_double(),\n",
      "  stat = col_double(),\n",
      "  pvalue = col_double(),\n",
      "  padj = col_double(),\n",
      "  qval = col_double()\n",
      ")\n",
      "Parsed with column specification:\n",
      "cols(\n",
      "  geneID = col_character(),\n",
      "  mean_imp_0 = col_double(),\n",
      "  score_pct_improvement_0 = col_double(),\n",
      "  mean_imp_1 = col_double(),\n",
      "  score_pct_improvement_1 = col_double(),\n",
      "  mean_imp_2 = col_double(),\n",
      "  score_pct_improvement_2 = col_double(),\n",
      "  mean_imp_3 = col_double(),\n",
      "  score_pct_improvement_3 = col_double(),\n",
      "  mean_imp_4 = col_double(),\n",
      "  score_pct_improvement_4 = col_double()\n",
      ")\n",
      "Parsed with column specification:\n",
      "cols(\n",
      "  geneID = col_character(),\n",
      "  pval = col_double(),\n",
      "  padj = col_double(),\n",
      "  qval = col_double()\n",
      ")\n",
      "Parsed with column specification:\n",
      "cols(\n",
      "  .default = col_double(),\n",
      "  geneID = col_character(),\n",
      "  module = col_character()\n",
      ")\n",
      "See spec(...) for full column specifications.\n",
      "Parsed with column specification:\n",
      "cols(\n",
      "  module = col_character(),\n",
      "  figo_stage_1_cor = col_double(),\n",
      "  figo_stage_2_cor = col_double(),\n",
      "  figo_stage_3_cor = col_double(),\n",
      "  figo_stage_4_cor = col_double(),\n",
      "  figo_stage_1_pval = col_double(),\n",
      "  figo_stage_2_pval = col_double(),\n",
      "  figo_stage_3_pval = col_double(),\n",
      "  figo_stage_4_pval = col_double(),\n",
      "  figo_stage_1_qval = col_double(),\n",
      "  figo_stage_2_qval = col_double(),\n",
      "  figo_stage_3_qval = col_double(),\n",
      "  figo_stage_4_qval = col_double(),\n",
      "  vital_hr = col_double(),\n",
      "  vital_dev_cor = col_double(),\n",
      "  vital_pval = col_double(),\n",
      "  vital_qval = col_double()\n",
      ")\n",
      "Parsed with column specification:\n",
      "cols(\n",
      "  geneID = col_character(),\n",
      "  gene_pval = col_double(),\n",
      "  gene_coeff = col_double(),\n",
      "  gene_qval = col_double(),\n",
      "  gene_padj = col_double()\n",
      ")\n",
      "Parsed with column specification:\n",
      "cols(\n",
      "  geneID = col_character(),\n",
      "  cor = col_double(),\n",
      "  pval = col_double(),\n",
      "  padj = col_double(),\n",
      "  qval = col_double(),\n",
      "  n = col_double()\n",
      ")\n"
     ]
    }
   ],
   "source": [
    "dge_df <- read_tsv(paste0(dirs$analysis_dir, \"/\", unified_dsets[dset_idx], \"_DESeq_results.tsv\"))\n",
    "lr_df <- read_tsv(paste0(dirs$analysis_dir, \"/\", unified_dsets[dset_idx], \"_l1_lr_results.tsv\"))\n",
    "anova_df <- read_tsv(paste0(dirs$analysis_dir, \"/\", unified_dsets[dset_idx], \"_welch_anova_results.tsv\"))\n",
    "network_mm_gs_df <- read_tsv(paste0(dirs$analysis_dir, \"/network/\", unified_dsets[dset_idx], \"_gene_mm_gs.tsv\"))\n",
    "network_me_sig_df <- read_tsv(paste0(dirs$analysis_dir, \"/network/\", unified_dsets[dset_idx], \"_eigengene_traits.tsv\"))\n",
    "condensed_me_df <- network_me_sig_df %>%\n",
    "    condense_figo(include_pvals = TRUE) %>%\n",
    "    dplyr::rename_if(!startsWith(colnames(.), \"module\"), ~ gsub(\"^\", \"me_\", .))\n",
    "coxph_df <- read_tsv(paste0(dirs$analysis_dir, \"/\", unified_dsets[dset_idx], \"_coxph_results.tsv\"))\n",
    "cor_df <- read_tsv(paste0(dirs$analysis_dir, \"/\", unified_dsets[dset_idx], \"_cor_results.tsv\"))"
   ]
  },
  {
   "cell_type": "markdown",
   "metadata": {},
   "source": [
    "# WGCNA: Identify \"hub\" genes"
   ]
  },
  {
   "cell_type": "code",
   "execution_count": 241,
   "metadata": {},
   "outputs": [],
   "source": [
    "hub_df <- get_most_conn_genes(data_expr, module_colors, soft_power, conn_vs_hub_thresh = 0.5) %>%\n",
    "    bind_rows(.id = \"module\") %>%\n",
    "    dplyr::select(geneID, everything())"
   ]
  },
  {
   "cell_type": "markdown",
   "metadata": {},
   "source": [
    "# DGE"
   ]
  },
  {
   "cell_type": "code",
   "execution_count": 242,
   "metadata": {},
   "outputs": [],
   "source": [
    "filtered_dge_df <- dge_df %>%\n",
    "    dplyr::filter(qval < 0.05 & abs(log2FoldChange) > lfc_thresh) %>%\n",
    "    dplyr::rename(lfc = log2FoldChange) %>%\n",
    "    inner_join(gene2id_df, by = c(\"geneID\" = \"hugo_symbol\")) %>%\n",
    "    dplyr::select(geneID, entrez_gene_id, lfc, padj, qval)"
   ]
  },
  {
   "cell_type": "code",
   "execution_count": 243,
   "metadata": {},
   "outputs": [],
   "source": [
    "filtered_dge_m_df <- filtered_dge_df %>%\n",
    "    dplyr::filter(geneID %in% matrisome_df$gene_symbol)"
   ]
  },
  {
   "cell_type": "code",
   "execution_count": 244,
   "metadata": {},
   "outputs": [],
   "source": [
    "dge_geneIDs <- filtered_dge_df$geneID\n",
    "dge_m_geneIDs <- filtered_dge_m_df$geneID"
   ]
  },
  {
   "cell_type": "code",
   "execution_count": 245,
   "metadata": {},
   "outputs": [],
   "source": [
    "write_lines(dge_geneIDs, paste0(dirs$analysis_dir, \"/gene_lists/\", unified_dsets[dset_idx], \"_dge_gene_list.txt\"))"
   ]
  },
  {
   "cell_type": "markdown",
   "metadata": {},
   "source": [
    "# FIGO"
   ]
  },
  {
   "cell_type": "code",
   "execution_count": 246,
   "metadata": {},
   "outputs": [],
   "source": [
    "filtered_lr_df <- lr_df %>%\n",
    "    dplyr::select(one_of(\"geneID\", colnames(.)[startsWith(colnames(.), \"mean\")])) %>%\n",
    "    dplyr::mutate(votes = rowSums(.[, -1] > perm_thresh)) %>%\n",
    "    dplyr::filter(votes >= vote_thresh) %>%\n",
    "    inner_join(gene2id_df, by = c(\"geneID\" = \"hugo_symbol\")) %>%\n",
    "    dplyr::select(geneID, entrez_gene_id, everything())"
   ]
  },
  {
   "cell_type": "code",
   "execution_count": 247,
   "metadata": {},
   "outputs": [],
   "source": [
    "filtered_anova_df <- anova_df %>%\n",
    "    dplyr::filter(qval < pval_thresh) %>%\n",
    "    inner_join(gene2id_df, by = c(\"geneID\" = \"hugo_symbol\")) %>%\n",
    "    dplyr::select(geneID, entrez_gene_id, everything())"
   ]
  },
  {
   "cell_type": "code",
   "execution_count": 248,
   "metadata": {},
   "outputs": [],
   "source": [
    "filtered_figo_network_df <- network_mm_gs_df %>%\n",
    "    dplyr::select(geneID, module, mm_pval, mm_cor) %>%\n",
    "    inner_join(condensed_me_df, by = \"module\") %>%\n",
    "    inner_join(gene2id_df, by = c(\"geneID\" = \"hugo_symbol\")) %>%\n",
    "    dplyr::select(geneID, entrez_gene_id, everything()) %>%\n",
    "    dplyr::filter(me_figo_min_qval < pval_thresh) %>%\n",
    "    # Make sure genes are significant members of the module\n",
    "    dplyr::filter(mm_pval < pval_thresh) %>%\n",
    "    # Make sure genes are highly connected within the module\n",
    "    dplyr::filter(geneID %in% hub_df$geneID)"
   ]
  },
  {
   "cell_type": "code",
   "execution_count": 249,
   "metadata": {},
   "outputs": [],
   "source": [
    "figo_entrezIDs <- filtered_lr_df$entrez_gene_id %>% \n",
    "    union(filtered_anova_df$entrez_gene_id) %>% \n",
    "    union(filtered_figo_network_df$entrez_gene_id)\n",
    "figo_geneIDs <- filtered_lr_df$geneID %>% \n",
    "    union(filtered_anova_df$geneID) %>% \n",
    "    union(filtered_figo_network_df$geneID)"
   ]
  },
  {
   "cell_type": "code",
   "execution_count": 250,
   "metadata": {},
   "outputs": [
    {
     "data": {
      "text/html": [
       "TRUE"
      ],
      "text/latex": [
       "TRUE"
      ],
      "text/markdown": [
       "TRUE"
      ],
      "text/plain": [
       "[1] TRUE"
      ]
     },
     "metadata": {},
     "output_type": "display_data"
    }
   ],
   "source": [
    "length(figo_entrezIDs) == length(figo_geneIDs)"
   ]
  },
  {
   "cell_type": "code",
   "execution_count": 251,
   "metadata": {},
   "outputs": [],
   "source": [
    "write_lines(figo_geneIDs, paste0(dirs$analysis_dir, \"/gene_lists/\", unified_dsets[dset_idx], \"_figo_gene_list.txt\"))"
   ]
  },
  {
   "cell_type": "markdown",
   "metadata": {},
   "source": [
    "# Survival"
   ]
  },
  {
   "cell_type": "code",
   "execution_count": 252,
   "metadata": {},
   "outputs": [],
   "source": [
    "filtered_coxph_df <- coxph_df %>%\n",
    "    inner_join(gene2id_df, by = c(\"geneID\" = \"hugo_symbol\")) %>%\n",
    "    dplyr::filter(gene_qval < pval_thresh)"
   ]
  },
  {
   "cell_type": "code",
   "execution_count": 253,
   "metadata": {},
   "outputs": [],
   "source": [
    "filtered_cor_df <- cor_df %>%\n",
    "    inner_join(gene2id_df, by = c(\"geneID\" = \"hugo_symbol\")) %>%\n",
    "    dplyr::filter(qval < pval_thresh)"
   ]
  },
  {
   "cell_type": "code",
   "execution_count": 254,
   "metadata": {},
   "outputs": [],
   "source": [
    "filtered_coxph_network_df <- network_mm_gs_df %>%\n",
    "    dplyr::select(geneID, module, mm_pval, mm_cor) %>%\n",
    "    inner_join(condensed_me_df, by = \"module\") %>%\n",
    "    inner_join(gene2id_df, by = c(\"geneID\" = \"hugo_symbol\")) %>%\n",
    "    dplyr::select(geneID, entrez_gene_id, everything()) %>%\n",
    "    dplyr::filter(me_vital_qval < pval_thresh) %>%\n",
    "    # Make sure genes are significant members of the module\n",
    "    dplyr::filter(mm_pval < pval_thresh) %>%\n",
    "    # Make sure genes are highly connected within the module\n",
    "    dplyr::filter(geneID %in% hub_df$geneID)"
   ]
  },
  {
   "cell_type": "code",
   "execution_count": 255,
   "metadata": {},
   "outputs": [],
   "source": [
    "survival_entrezIDs <- filtered_coxph_df$entrez_gene_id %>%\n",
    "    union(filtered_cor_df$entrez_gene_id) %>%\n",
    "    union(filtered_coxph_network_df$entrez_gene_id)\n",
    "\n",
    "survival_geneIDs <- filtered_coxph_df$geneID %>%\n",
    "    union(filtered_cor_df$geneID) %>%\n",
    "    union(filtered_coxph_network_df$geneID)"
   ]
  },
  {
   "cell_type": "code",
   "execution_count": 256,
   "metadata": {},
   "outputs": [
    {
     "data": {
      "text/html": [
       "TRUE"
      ],
      "text/latex": [
       "TRUE"
      ],
      "text/markdown": [
       "TRUE"
      ],
      "text/plain": [
       "[1] TRUE"
      ]
     },
     "metadata": {},
     "output_type": "display_data"
    }
   ],
   "source": [
    "length(survival_geneIDs) == length(survival_geneIDs)"
   ]
  },
  {
   "cell_type": "code",
   "execution_count": 257,
   "metadata": {},
   "outputs": [],
   "source": [
    "write_lines(survival_geneIDs, paste0(dirs$analysis_dir, \"/gene_lists/\", unified_dsets[dset_idx], \"_survival_gene_list.txt\"))"
   ]
  },
  {
   "cell_type": "code",
   "execution_count": 258,
   "metadata": {},
   "outputs": [
    {
     "data": {
      "text/html": [
       "8229"
      ],
      "text/latex": [
       "8229"
      ],
      "text/markdown": [
       "8229"
      ],
      "text/plain": [
       "[1] 8229"
      ]
     },
     "metadata": {},
     "output_type": "display_data"
    },
    {
     "data": {
      "text/html": [
       "618"
      ],
      "text/latex": [
       "618"
      ],
      "text/markdown": [
       "618"
      ],
      "text/plain": [
       "[1] 618"
      ]
     },
     "metadata": {},
     "output_type": "display_data"
    },
    {
     "data": {
      "text/html": [
       "3"
      ],
      "text/latex": [
       "3"
      ],
      "text/markdown": [
       "3"
      ],
      "text/plain": [
       "[1] 3"
      ]
     },
     "metadata": {},
     "output_type": "display_data"
    },
    {
     "data": {
      "text/html": [
       "108"
      ],
      "text/latex": [
       "108"
      ],
      "text/markdown": [
       "108"
      ],
      "text/plain": [
       "[1] 108"
      ]
     },
     "metadata": {},
     "output_type": "display_data"
    }
   ],
   "source": [
    "length(dge_geneIDs)\n",
    "length(dge_m_geneIDs)\n",
    "length(survival_geneIDs)\n",
    "length(figo_geneIDs)"
   ]
  },
  {
   "cell_type": "code",
   "execution_count": null,
   "metadata": {},
   "outputs": [],
   "source": []
  }
 ],
 "metadata": {
  "kernelspec": {
   "display_name": "R",
   "language": "R",
   "name": "ir"
  },
  "language_info": {
   "codemirror_mode": "r",
   "file_extension": ".r",
   "mimetype": "text/x-r-source",
   "name": "R",
   "pygments_lexer": "r",
   "version": "3.6.3"
  }
 },
 "nbformat": 4,
 "nbformat_minor": 4
}
