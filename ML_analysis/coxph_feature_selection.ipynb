{
 "cells": [
  {
   "cell_type": "code",
   "execution_count": 1,
   "metadata": {},
   "outputs": [
    {
     "name": "stderr",
     "output_type": "stream",
     "text": [
      "── Attaching packages ─────────────────────────────────────── tidyverse 1.3.0 ──\n",
      "✔ ggplot2 3.3.2     ✔ purrr   0.3.4\n",
      "✔ tibble  3.0.3     ✔ dplyr   1.0.0\n",
      "✔ tidyr   1.1.0     ✔ stringr 1.4.0\n",
      "✔ readr   1.3.1     ✔ forcats 0.5.0\n",
      "── Conflicts ────────────────────────────────────────── tidyverse_conflicts() ──\n",
      "✖ dplyr::filter() masks stats::filter()\n",
      "✖ dplyr::lag()    masks stats::lag()\n",
      "Loading required package: ggpubr\n"
     ]
    }
   ],
   "source": [
    "library(tidyverse)\n",
    "library(survival)\n",
    "library(survminer)\n",
    "\n",
    "# Custom package\n",
    "library(rutils)"
   ]
  },
  {
   "cell_type": "code",
   "execution_count": 2,
   "metadata": {},
   "outputs": [],
   "source": [
    "dirs <- rutils::get_dev_directories(dev_paths_file = \"../dev_paths.txt\")\n",
    "projects <- c(\"TCGA-CESC\", \"TCGA-UCS\", \"TCGA-UCEC\", \"TCGA-OV\")\n",
    "unified_dsets <- c(\"unified_cervical_data\", \"unified_uterine_data\", \"unified_uterine_endometrial_data\")\n",
    "matrisome_list <- paste0(dirs$data_dir, \"/matrisome/matrisome_hs_masterlist.tsv\")"
   ]
  },
  {
   "cell_type": "code",
   "execution_count": 3,
   "metadata": {},
   "outputs": [],
   "source": [
    "i <- 1"
   ]
  },
  {
   "cell_type": "markdown",
   "metadata": {},
   "source": [
    "# Load and filter survival data"
   ]
  },
  {
   "cell_type": "code",
   "execution_count": 4,
   "metadata": {},
   "outputs": [
    {
     "name": "stderr",
     "output_type": "stream",
     "text": [
      "Parsed with column specification:\n",
      "cols(\n",
      "  sample_name = col_character(),\n",
      "  vital_status = col_character(),\n",
      "  survival_time = col_double(),\n",
      "  figo_stage = col_character(),\n",
      "  days_to_last_follow_up = col_double(),\n",
      "  days_to_death = col_double(),\n",
      "  age_at_diagnosis = col_double(),\n",
      "  age_at_index = col_double(),\n",
      "  height = col_double(),\n",
      "  weight = col_double(),\n",
      "  bmi = col_double(),\n",
      "  race = col_character(),\n",
      "  ethnicity = col_character()\n",
      ")\n"
     ]
    }
   ],
   "source": [
    "# event codes defined according to survival::Surv() docs\n",
    "event_code <- list(\"Alive\" = 0, \"Dead\" = 1)\n",
    "covariate_cols <- c(\"age_at_diagnosis\", \"bmi\", \"race\", \"ethnicity\")\n",
    "dep_cols <- c(\"vital_status\", \"survival_time\")\n",
    "\n",
    "survival_df <- load_survival_df(paste0(dirs$data_dir, \"/\", unified_dsets[i], \"/survival_data.tsv\"), event_code)\n",
    "\n",
    "filtered_survival_df <- survival_df %>%\n",
    "    dplyr::select(one_of(c(\"sample_name\", dep_cols, covariate_cols))) %>%\n",
    "    dplyr::filter(rowSums(is.na(.)) == 0)"
   ]
  },
  {
   "cell_type": "code",
   "execution_count": 5,
   "metadata": {},
   "outputs": [
    {
     "data": {
      "text/html": [
       "217"
      ],
      "text/latex": [
       "217"
      ],
      "text/markdown": [
       "217"
      ],
      "text/plain": [
       "[1] 217"
      ]
     },
     "metadata": {},
     "output_type": "display_data"
    },
    {
     "data": {
      "text/html": [
       "0.837837837837838"
      ],
      "text/latex": [
       "0.837837837837838"
      ],
      "text/markdown": [
       "0.837837837837838"
      ],
      "text/plain": [
       "[1] 0.8378378"
      ]
     },
     "metadata": {},
     "output_type": "display_data"
    }
   ],
   "source": [
    "nrow(filtered_survival_df)\n",
    "# proportion of samples included in final data set\n",
    "nrow(filtered_survival_df) / nrow(survival_df)"
   ]
  },
  {
   "cell_type": "markdown",
   "metadata": {},
   "source": [
    "# Load normalized matrisome count data"
   ]
  },
  {
   "cell_type": "code",
   "execution_count": 6,
   "metadata": {},
   "outputs": [
    {
     "name": "stderr",
     "output_type": "stream",
     "text": [
      "Parsed with column specification:\n",
      "cols(\n",
      "  .default = col_double(),\n",
      "  geneID = col_character()\n",
      ")\n",
      "See spec(...) for full column specifications.\n"
     ]
    }
   ],
   "source": [
    "norm_matrisome_counts <- read_tsv(paste0(dirs$data_dir, \"/\", unified_dsets[i], \"/norm_matrisome_counts.tsv\")) %>%\n",
    "    column_to_rownames(var = \"geneID\") %>%\n",
    "    as.matrix()\n",
    "\n",
    "# Match up columns of counts with rows of survival data & only include samples present in survival data\n",
    "norm_matrisome_survival_counts <- norm_matrisome_counts[, filtered_survival_df$sample_name]"
   ]
  },
  {
   "cell_type": "code",
   "execution_count": 7,
   "metadata": {},
   "outputs": [
    {
     "data": {
      "text/html": [
       "TRUE"
      ],
      "text/latex": [
       "TRUE"
      ],
      "text/markdown": [
       "TRUE"
      ],
      "text/plain": [
       "[1] TRUE"
      ]
     },
     "metadata": {},
     "output_type": "display_data"
    }
   ],
   "source": [
    "all(rownames(t(norm_matrisome_survival_counts)) == filtered_survival_df$sample_name)"
   ]
  },
  {
   "cell_type": "markdown",
   "metadata": {},
   "source": [
    "# Combine filtered survival data and normalized count data"
   ]
  },
  {
   "cell_type": "code",
   "execution_count": 8,
   "metadata": {},
   "outputs": [],
   "source": [
    "joined_survival_counts_df <- filtered_survival_df %>%\n",
    "    inner_join(\n",
    "        as_tibble(t(norm_matrisome_survival_counts), rownames = \"sample_name\"),\n",
    "        by = \"sample_name\"\n",
    "    )\n",
    "\n",
    "# Some genes contain the '-' symbol, which affects formulae\n",
    "colnames(joined_survival_counts_df) <- gsub(\"-\", \"_\", colnames(joined_survival_counts_df))"
   ]
  },
  {
   "cell_type": "markdown",
   "metadata": {},
   "source": [
    "## Cox PH model"
   ]
  },
  {
   "cell_type": "code",
   "execution_count": 9,
   "metadata": {},
   "outputs": [],
   "source": [
    "genes_of_interest <- colnames(joined_survival_counts_df %>% dplyr::select(-colnames(filtered_survival_df)))\n",
    "null_model_formula_chr <- paste0(\n",
    "    \"Surv(survival_time, vital_status) ~ \",\n",
    "    paste(covariate_cols, collapse = \" + \")\n",
    ")\n",
    "survival_fit_null <- coxph(\n",
    "    as.formula(null_model_formula_chr),\n",
    "    data = joined_survival_counts_df,\n",
    "    singular.ok = TRUE\n",
    ")\n",
    "\n",
    "gene_pvals <- c()\n",
    "gene_coeffs <- c()"
   ]
  },
  {
   "cell_type": "code",
   "execution_count": 10,
   "metadata": {},
   "outputs": [
    {
     "name": "stderr",
     "output_type": "stream",
     "text": [
      "Warning message in fitter(X, Y, istrat, offset, init, control, weights = weights, :\n",
      "“Loglik converged before variable  10 ; coefficient may be infinite. ”Warning message in fitter(X, Y, istrat, offset, init, control, weights = weights, :\n",
      "“Loglik converged before variable  10 ; coefficient may be infinite. ”Warning message in fitter(X, Y, istrat, offset, init, control, weights = weights, :\n",
      "“Loglik converged before variable  10 ; coefficient may be infinite. ”Warning message in fitter(X, Y, istrat, offset, init, control, weights = weights, :\n",
      "“Loglik converged before variable  10 ; coefficient may be infinite. ”Warning message in fitter(X, Y, istrat, offset, init, control, weights = weights, :\n",
      "“Loglik converged before variable  10 ; coefficient may be infinite. ”Warning message in fitter(X, Y, istrat, offset, init, control, weights = weights, :\n",
      "“Loglik converged before variable  10 ; coefficient may be infinite. ”Warning message in fitter(X, Y, istrat, offset, init, control, weights = weights, :\n",
      "“Loglik converged before variable  10 ; coefficient may be infinite. ”Warning message in fitter(X, Y, istrat, offset, init, control, weights = weights, :\n",
      "“Loglik converged before variable  10 ; coefficient may be infinite. ”Warning message in fitter(X, Y, istrat, offset, init, control, weights = weights, :\n",
      "“Loglik converged before variable  10 ; coefficient may be infinite. ”Warning message in fitter(X, Y, istrat, offset, init, control, weights = weights, :\n",
      "“Loglik converged before variable  10 ; coefficient may be infinite. ”Warning message in fitter(X, Y, istrat, offset, init, control, weights = weights, :\n",
      "“Loglik converged before variable  10 ; coefficient may be infinite. ”"
     ]
    }
   ],
   "source": [
    "for (g in genes_of_interest) {\n",
    "    gene_model_formula_chr <- paste0(null_model_formula_chr, \" + \", g)\n",
    "    survival_fit_gene <- coxph(\n",
    "        as.formula(gene_model_formula_chr),\n",
    "        data = joined_survival_counts_df,\n",
    "        singular.ok = TRUE\n",
    "    )\n",
    "    anova_res <- anova(survival_fit_null, survival_fit_gene, test = \"LRT\")\n",
    "    gene_pvals <- c(gene_pvals, anova_res[[\"P(>|Chi|)\"]][2])\n",
    "    gene_coeffs <- c(gene_coeffs, survival_fit_gene$coefficients[[g]])\n",
    "}"
   ]
  },
  {
   "cell_type": "code",
   "execution_count": 12,
   "metadata": {},
   "outputs": [
    {
     "data": {
      "text/html": [
       "122"
      ],
      "text/latex": [
       "122"
      ],
      "text/markdown": [
       "122"
      ],
      "text/plain": [
       "[1] 122"
      ]
     },
     "metadata": {},
     "output_type": "display_data"
    }
   ],
   "source": [
    "# Re-sub '-' for '_' now that no longer needed for formulae\n",
    "cox_regression_df <- tibble(\"geneID\" = gsub(\"_\", \"-\", genes_of_interest), \"gene_pval\" = gene_pvals, \"gene_coeff\" = gene_coeffs)\n",
    "sig_cox_regression_df <- cox_regression_df %>%\n",
    "    dplyr::filter(gene_pval < 0.05)\n",
    "nrow(sig_cox_regression_df)\n",
    "write_tsv(cox_regression_df, paste0(dirs$analysis_dir, \"/\", unified_dsets[i], \"_coxph_results.tsv\"))"
   ]
  }
 ],
 "metadata": {
  "kernelspec": {
   "display_name": "R",
   "language": "R",
   "name": "ir"
  },
  "language_info": {
   "codemirror_mode": "r",
   "file_extension": ".r",
   "mimetype": "text/x-r-source",
   "name": "R",
   "pygments_lexer": "r",
   "version": "3.6.3"
  }
 },
 "nbformat": 4,
 "nbformat_minor": 4
}
