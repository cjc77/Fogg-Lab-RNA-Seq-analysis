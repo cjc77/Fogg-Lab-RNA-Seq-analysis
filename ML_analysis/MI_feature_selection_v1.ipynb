{
 "cells": [
  {
   "cell_type": "code",
   "execution_count": 1,
   "metadata": {},
   "outputs": [],
   "source": [
    "import pandas as pd\n",
    "import numpy as np\n",
    "from sklearn.feature_selection import mutual_info_regression, mutual_info_classif, SelectFdr, SelectKBest, chi2\n",
    "\n",
    "import utils.dev_config as dev_conf\n",
    "import utils.preprocessing as prep"
   ]
  },
  {
   "cell_type": "code",
   "execution_count": 2,
   "metadata": {},
   "outputs": [],
   "source": [
    "dirs = dev_conf.get_dev_directories(\"../dev_paths.txt\")\n",
    "unified_dsets = [\"unified_cervical_data\", \"unified_uterine_data\", \"unified_uterine_endometrial_data\"]\n",
    "matrisome_list = f\"{dirs.data_dir}/matrisome/matrisome_hs_masterlist.tsv\""
   ]
  },
  {
   "cell_type": "code",
   "execution_count": 3,
   "metadata": {},
   "outputs": [],
   "source": [
    "def min_max_norm(x, a, b):\n",
    "    x_min = x.min()\n",
    "    x_max = x.max()\n",
    "    return ((x - x_min) * (b - a)) / (x_max - x_min) + a"
   ]
  },
  {
   "cell_type": "code",
   "execution_count": 4,
   "metadata": {},
   "outputs": [],
   "source": [
    "i = 0"
   ]
  },
  {
   "cell_type": "code",
   "execution_count": 5,
   "metadata": {},
   "outputs": [],
   "source": [
    "# matrisome_df = pd.read_csv(matrisome_list, sep='\\t')\n",
    "matrisome_df = prep.load_matrisome_df(matrisome_list)\n",
    "sig_deg_df = pd.read_csv(f\"{dirs.analysis_dir}/{unified_dsets[i]}_sig_DESeq_results_xref_matrisome.tsv\", sep = '\\t')\n",
    "matrisome_sig_deg_df = (\n",
    "    sig_deg_df.query(\"in_matrisome == True\")\n",
    "        .reset_index(drop=True)\n",
    ")"
   ]
  },
  {
   "cell_type": "markdown",
   "metadata": {},
   "source": [
    "# Load and filter survival data"
   ]
  },
  {
   "cell_type": "code",
   "execution_count": 6,
   "metadata": {},
   "outputs": [],
   "source": [
    "event_code = {\"Alive\": 0, \"Dead\": 1}\n",
    "covariate_cols = [\"age_at_diagnosis\", \"bmi\", \"race\", \"ethnicity\"]\n",
    "dep_cols = [\"vital_status\", \"survival_time\"]\n",
    "cat_cols = [\"race\", \"ethnicity\"]"
   ]
  },
  {
   "cell_type": "code",
   "execution_count": 7,
   "metadata": {},
   "outputs": [],
   "source": [
    "survival_df = prep.load_survival_df(f\"{dirs.data_dir}/{unified_dsets[i]}/survival_data.tsv\", event_code)"
   ]
  },
  {
   "cell_type": "code",
   "execution_count": 8,
   "metadata": {},
   "outputs": [],
   "source": [
    "filtered_survival_df = (\n",
    "    survival_df[[\"sample_name\"] + dep_cols + covariate_cols]\n",
    "        .query(\"vital_status == 1\")\n",
    "        .dropna()\n",
    "        .reset_index(drop=True)\n",
    "        .pipe(pd.get_dummies, columns=cat_cols)\n",
    ")"
   ]
  },
  {
   "cell_type": "code",
   "execution_count": 9,
   "metadata": {},
   "outputs": [
    {
     "name": "stdout",
     "output_type": "stream",
     "text": [
      "48\n",
      "0.18532818532818532\n"
     ]
    }
   ],
   "source": [
    "print(filtered_survival_df.shape[0])\n",
    "print(filtered_survival_df.shape[0] / survival_df.shape[0])"
   ]
  },
  {
   "cell_type": "markdown",
   "metadata": {},
   "source": [
    "# Load normalized matrisome count data"
   ]
  },
  {
   "cell_type": "code",
   "execution_count": 10,
   "metadata": {},
   "outputs": [],
   "source": [
    "norm_matrisome_counts_df = pd.read_csv(f\"{dirs.data_dir}/{unified_dsets[i]}/norm_matrisome_counts.tsv\", sep='\\t')\n",
    "norm_matrisome_survival_counts_t_df = (\n",
    "    norm_matrisome_counts_df[[\"geneID\"] + list(filtered_survival_df.sample_name)]\n",
    "        .set_index(\"geneID\")                        # set as index so will be column names\n",
    "        .transpose()\n",
    "        .rename_axis(None, axis=1)                  # column.name will be set to \"geneID\", we don't want this\n",
    "        .reset_index()                              # \"sample_name\" should now be its own column\n",
    "        .rename({\"index\": \"sample_name\"}, axis=1)\n",
    ")"
   ]
  },
  {
   "cell_type": "code",
   "execution_count": 11,
   "metadata": {},
   "outputs": [],
   "source": [
    "joined_survival_counts_df = (\n",
    "    pd.merge(filtered_survival_df, norm_matrisome_survival_counts_t_df, on=\"sample_name\")\n",
    "        .drop(\"vital_status\", axis=1)\n",
    "        .set_index(\"sample_name\")\n",
    ")\n",
    "# # This feature is integral\n",
    "# joined_survival_counts_df.age_at_diagnosis = joined_survival_counts_df.age_at_diagnosis.astype(\"int\")"
   ]
  },
  {
   "cell_type": "markdown",
   "metadata": {},
   "source": [
    "# Drop columns where min = max, these will provide no information"
   ]
  },
  {
   "cell_type": "code",
   "execution_count": 12,
   "metadata": {},
   "outputs": [],
   "source": [
    "rep_val_cols = np.where(joined_survival_counts_df.min() == joined_survival_counts_df.max())[0]"
   ]
  },
  {
   "cell_type": "code",
   "execution_count": 13,
   "metadata": {},
   "outputs": [
    {
     "data": {
      "text/plain": [
       "(48, 1004)"
      ]
     },
     "execution_count": 13,
     "metadata": {},
     "output_type": "execute_result"
    }
   ],
   "source": [
    "filtered_joined_survival_counts_df = joined_survival_counts_df.drop(joined_survival_counts_df.columns[rep_val_cols], axis=1)\n",
    "filtered_joined_survival_counts_df.shape"
   ]
  },
  {
   "cell_type": "markdown",
   "metadata": {},
   "source": [
    "# Min-max normalize data"
   ]
  },
  {
   "cell_type": "code",
   "execution_count": 15,
   "metadata": {},
   "outputs": [],
   "source": [
    "mm_norm_df = filtered_joined_survival_counts_df.apply(lambda x: min_max_norm(x, 0, 1), axis=0)"
   ]
  },
  {
   "cell_type": "markdown",
   "metadata": {},
   "source": [
    "# Examine mutual information"
   ]
  },
  {
   "cell_type": "code",
   "execution_count": 16,
   "metadata": {},
   "outputs": [],
   "source": [
    "# # The one-hot columns are the only remaining discrete variables\n",
    "# discr_cols = np.where(filtered_joined_survival_counts_df.columns.str.contains(\"race|ethnicity\"))[0]\n",
    "\n",
    "# # The first column is the response variable, so we shift these indices\n",
    "# discr_cols -= 1"
   ]
  },
  {
   "cell_type": "code",
   "execution_count": 17,
   "metadata": {},
   "outputs": [],
   "source": [
    "X = joined_survival_counts_df.iloc[:, 1:].values\n",
    "y = joined_survival_counts_df.iloc[:, 0].values\n",
    "# X_mm = mm_norm_df.iloc[:, 1:].values\n",
    "# y_mm = mm_norm_df.iloc[:, 0].values"
   ]
  },
  {
   "cell_type": "code",
   "execution_count": 91,
   "metadata": {},
   "outputs": [
    {
     "data": {
      "text/plain": [
       "(491, 2)"
      ]
     },
     "execution_count": 91,
     "metadata": {},
     "output_type": "execute_result"
    }
   ],
   "source": [
    "# only include genes, since MI scores are independent\n",
    "mi_res = mutual_info_regression(X[:, 10:], y, discrete_features=False)\n",
    "mi_df = pd.DataFrame({\"geneID\": joined_survival_counts_df.columns[11:], \"MI\": mi_res})\n",
    "mi_df = mi_df.sort_values(\"MI\", ascending=False).reset_index(drop=True)\n",
    "dep_mi_df = mi_df[mi_df.MI > 0]\n",
    "dep_mi_df.shape"
   ]
  },
  {
   "cell_type": "code",
   "execution_count": 84,
   "metadata": {},
   "outputs": [],
   "source": [
    "coxph_df = pd.read_csv(f\"{dirs.analysis_dir}/{unified_dsets[i]}_coxph_results.tsv\", sep='\\t')"
   ]
  },
  {
   "cell_type": "code",
   "execution_count": 85,
   "metadata": {},
   "outputs": [],
   "source": [
    "sig_coxph_df = coxph_res_df[coxph_df.gene_pval < 0.05]"
   ]
  },
  {
   "cell_type": "code",
   "execution_count": 86,
   "metadata": {},
   "outputs": [],
   "source": [
    "sig_coxph_genes = set(sig_coxph_df.geneID)\n",
    "mi_genes = set(dep_mi_df.geneID)"
   ]
  },
  {
   "cell_type": "code",
   "execution_count": 87,
   "metadata": {},
   "outputs": [
    {
     "data": {
      "text/plain": [
       "61"
      ]
     },
     "execution_count": 87,
     "metadata": {},
     "output_type": "execute_result"
    }
   ],
   "source": [
    "len(mi_genes.intersection(sig_coxph_genes))"
   ]
  },
  {
   "cell_type": "code",
   "execution_count": 97,
   "metadata": {},
   "outputs": [],
   "source": [
    "sig_deg_matrisome_df = (\n",
    "    pd.read_csv(f\"{dirs.analysis_dir}/{unified_dsets[i]}_sig_DESeq_results_xref_matrisome.tsv\", sep='\\t')\n",
    "        .query(\"in_matrisome == True\")\n",
    "        .reset_index(drop=True)\n",
    ")"
   ]
  },
  {
   "cell_type": "code",
   "execution_count": 99,
   "metadata": {},
   "outputs": [],
   "source": [
    "sig_deg_genes = set(sig_deg_matrisome_df.geneID)"
   ]
  },
  {
   "cell_type": "code",
   "execution_count": 100,
   "metadata": {},
   "outputs": [
    {
     "data": {
      "text/plain": [
       "259"
      ]
     },
     "execution_count": 100,
     "metadata": {},
     "output_type": "execute_result"
    }
   ],
   "source": [
    "len(mi_genes.intersection(sig_deg_genes))"
   ]
  }
 ],
 "metadata": {
  "kernelspec": {
   "display_name": "Python 3",
   "language": "python",
   "name": "python3"
  },
  "language_info": {
   "codemirror_mode": {
    "name": "ipython",
    "version": 3
   },
   "file_extension": ".py",
   "mimetype": "text/x-python",
   "name": "python",
   "nbconvert_exporter": "python",
   "pygments_lexer": "ipython3",
   "version": "3.8.3"
  }
 },
 "nbformat": 4,
 "nbformat_minor": 4
}
