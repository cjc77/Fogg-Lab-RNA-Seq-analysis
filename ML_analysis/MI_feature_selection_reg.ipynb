{
 "cells": [
  {
   "cell_type": "code",
   "execution_count": 1,
   "metadata": {},
   "outputs": [],
   "source": [
    "import pandas as pd\n",
    "import numpy as np\n",
    "from sklearn.feature_selection import mutual_info_regression, mutual_info_classif\n",
    "\n",
    "import utils.dev_config as dev_conf\n",
    "import utils.preprocessing as prep"
   ]
  },
  {
   "cell_type": "code",
   "execution_count": 2,
   "metadata": {},
   "outputs": [],
   "source": [
    "dirs = dev_conf.get_dev_directories(\"../dev_paths.txt\")\n",
    "unified_dsets = [\"unified_cervical_data\", \"unified_uterine_data\", \"unified_uterine_endometrial_data\"]\n",
    "matrisome_list = f\"{dirs.data_dir}/matrisome/matrisome_hs_masterlist.tsv\""
   ]
  },
  {
   "cell_type": "code",
   "execution_count": 3,
   "metadata": {},
   "outputs": [],
   "source": [
    "def min_max_norm(x, a, b):\n",
    "    x_min = x.min()\n",
    "    x_max = x.max()\n",
    "    return ((x - x_min) * (b - a)) / (x_max - x_min) + a"
   ]
  },
  {
   "cell_type": "code",
   "execution_count": 4,
   "metadata": {},
   "outputs": [],
   "source": [
    "i = 0"
   ]
  },
  {
   "cell_type": "code",
   "execution_count": 5,
   "metadata": {},
   "outputs": [],
   "source": [
    "matrisome_df = prep.load_matrisome_df(matrisome_list)\n",
    "sig_deg_df = pd.read_csv(f\"{dirs.analysis_dir}/{unified_dsets[i]}_sig_DESeq_results_xref_matrisome.tsv\", sep = '\\t')\n",
    "matrisome_sig_deg_df = (\n",
    "    sig_deg_df.query(\"in_matrisome == True\")\n",
    "        .reset_index(drop=True)\n",
    ")"
   ]
  },
  {
   "cell_type": "markdown",
   "metadata": {},
   "source": [
    "# Load and filter survival data"
   ]
  },
  {
   "cell_type": "code",
   "execution_count": 6,
   "metadata": {},
   "outputs": [],
   "source": [
    "event_code = {\"Alive\": 0, \"Dead\": 1}\n",
    "covariate_cols = [\"age_at_diagnosis\", \"bmi\", \"race\", \"ethnicity\"]\n",
    "dep_cols = [\"vital_status\", \"survival_time\"]\n",
    "cat_cols = [\"race\", \"ethnicity\"]\n",
    "survival_df = prep.load_survival_df(f\"{dirs.data_dir}/{unified_dsets[i]}/survival_data.tsv\", event_code)"
   ]
  },
  {
   "cell_type": "code",
   "execution_count": 9,
   "metadata": {},
   "outputs": [
    {
     "name": "stdout",
     "output_type": "stream",
     "text": [
      "(48, 13)\n",
      "0.18532818532818532\n"
     ]
    },
    {
     "data": {
      "text/html": [
       "<div>\n",
       "<style scoped>\n",
       "    .dataframe tbody tr th:only-of-type {\n",
       "        vertical-align: middle;\n",
       "    }\n",
       "\n",
       "    .dataframe tbody tr th {\n",
       "        vertical-align: top;\n",
       "    }\n",
       "\n",
       "    .dataframe thead th {\n",
       "        text-align: right;\n",
       "    }\n",
       "</style>\n",
       "<table border=\"1\" class=\"dataframe\">\n",
       "  <thead>\n",
       "    <tr style=\"text-align: right;\">\n",
       "      <th></th>\n",
       "      <th>sample_name</th>\n",
       "      <th>vital_status</th>\n",
       "      <th>survival_time</th>\n",
       "      <th>age_at_diagnosis</th>\n",
       "      <th>bmi</th>\n",
       "      <th>race_american indian or alaska native</th>\n",
       "      <th>race_asian</th>\n",
       "      <th>race_black or african american</th>\n",
       "      <th>race_not reported</th>\n",
       "      <th>race_white</th>\n",
       "      <th>ethnicity_hispanic or latino</th>\n",
       "      <th>ethnicity_not hispanic or latino</th>\n",
       "      <th>ethnicity_not reported</th>\n",
       "    </tr>\n",
       "  </thead>\n",
       "  <tbody>\n",
       "    <tr>\n",
       "      <th>0</th>\n",
       "      <td>TCGA-C5-A2LZ-01A-11R-A213-07</td>\n",
       "      <td>1</td>\n",
       "      <td>3046</td>\n",
       "      <td>24059.0</td>\n",
       "      <td>31.992171</td>\n",
       "      <td>0</td>\n",
       "      <td>0</td>\n",
       "      <td>0</td>\n",
       "      <td>0</td>\n",
       "      <td>1</td>\n",
       "      <td>0</td>\n",
       "      <td>1</td>\n",
       "      <td>0</td>\n",
       "    </tr>\n",
       "    <tr>\n",
       "      <th>1</th>\n",
       "      <td>TCGA-VS-A9V1-01A-11R-A42T-07</td>\n",
       "      <td>1</td>\n",
       "      <td>157</td>\n",
       "      <td>17001.0</td>\n",
       "      <td>18.730489</td>\n",
       "      <td>0</td>\n",
       "      <td>0</td>\n",
       "      <td>0</td>\n",
       "      <td>0</td>\n",
       "      <td>1</td>\n",
       "      <td>0</td>\n",
       "      <td>0</td>\n",
       "      <td>1</td>\n",
       "    </tr>\n",
       "    <tr>\n",
       "      <th>2</th>\n",
       "      <td>TCGA-C5-A1BE-01B-11R-A13Y-07</td>\n",
       "      <td>1</td>\n",
       "      <td>2094</td>\n",
       "      <td>23727.0</td>\n",
       "      <td>34.232692</td>\n",
       "      <td>0</td>\n",
       "      <td>0</td>\n",
       "      <td>0</td>\n",
       "      <td>0</td>\n",
       "      <td>1</td>\n",
       "      <td>0</td>\n",
       "      <td>0</td>\n",
       "      <td>1</td>\n",
       "    </tr>\n",
       "    <tr>\n",
       "      <th>3</th>\n",
       "      <td>TCGA-C5-A8XH-01A-11R-A37O-07</td>\n",
       "      <td>1</td>\n",
       "      <td>1394</td>\n",
       "      <td>14444.0</td>\n",
       "      <td>22.582709</td>\n",
       "      <td>0</td>\n",
       "      <td>0</td>\n",
       "      <td>0</td>\n",
       "      <td>0</td>\n",
       "      <td>1</td>\n",
       "      <td>0</td>\n",
       "      <td>1</td>\n",
       "      <td>0</td>\n",
       "    </tr>\n",
       "    <tr>\n",
       "      <th>4</th>\n",
       "      <td>TCGA-DS-A7WF-01A-11R-A352-07</td>\n",
       "      <td>1</td>\n",
       "      <td>492</td>\n",
       "      <td>15319.0</td>\n",
       "      <td>24.609375</td>\n",
       "      <td>0</td>\n",
       "      <td>0</td>\n",
       "      <td>0</td>\n",
       "      <td>1</td>\n",
       "      <td>0</td>\n",
       "      <td>1</td>\n",
       "      <td>0</td>\n",
       "      <td>0</td>\n",
       "    </tr>\n",
       "  </tbody>\n",
       "</table>\n",
       "</div>"
      ],
      "text/plain": [
       "                    sample_name  vital_status  survival_time  \\\n",
       "0  TCGA-C5-A2LZ-01A-11R-A213-07             1           3046   \n",
       "1  TCGA-VS-A9V1-01A-11R-A42T-07             1            157   \n",
       "2  TCGA-C5-A1BE-01B-11R-A13Y-07             1           2094   \n",
       "3  TCGA-C5-A8XH-01A-11R-A37O-07             1           1394   \n",
       "4  TCGA-DS-A7WF-01A-11R-A352-07             1            492   \n",
       "\n",
       "   age_at_diagnosis        bmi  race_american indian or alaska native  \\\n",
       "0           24059.0  31.992171                                      0   \n",
       "1           17001.0  18.730489                                      0   \n",
       "2           23727.0  34.232692                                      0   \n",
       "3           14444.0  22.582709                                      0   \n",
       "4           15319.0  24.609375                                      0   \n",
       "\n",
       "   race_asian  race_black or african american  race_not reported  race_white  \\\n",
       "0           0                               0                  0           1   \n",
       "1           0                               0                  0           1   \n",
       "2           0                               0                  0           1   \n",
       "3           0                               0                  0           1   \n",
       "4           0                               0                  1           0   \n",
       "\n",
       "   ethnicity_hispanic or latino  ethnicity_not hispanic or latino  \\\n",
       "0                             0                                 1   \n",
       "1                             0                                 0   \n",
       "2                             0                                 0   \n",
       "3                             0                                 1   \n",
       "4                             1                                 0   \n",
       "\n",
       "   ethnicity_not reported  \n",
       "0                       0  \n",
       "1                       1  \n",
       "2                       1  \n",
       "3                       0  \n",
       "4                       0  "
      ]
     },
     "execution_count": 9,
     "metadata": {},
     "output_type": "execute_result"
    }
   ],
   "source": [
    "filtered_survival_df = (\n",
    "    survival_df[[\"sample_name\"] + dep_cols + covariate_cols]\n",
    "        .query(\"vital_status == 1\")\n",
    "        .dropna()\n",
    "        .reset_index(drop=True)\n",
    "        .pipe(pd.get_dummies, columns=cat_cols)\n",
    ")\n",
    "print(filtered_survival_df.shape)\n",
    "print(filtered_survival_df.shape[0] / survival_df.shape[0])\n",
    "filtered_survival_df.head()"
   ]
  },
  {
   "cell_type": "markdown",
   "metadata": {},
   "source": [
    "# Load normalized matrisome count data"
   ]
  },
  {
   "cell_type": "code",
   "execution_count": 10,
   "metadata": {},
   "outputs": [],
   "source": [
    "norm_matrisome_counts_df = pd.read_csv(f\"{dirs.data_dir}/{unified_dsets[i]}/norm_matrisome_counts.tsv\", sep='\\t')\n",
    "norm_matrisome_survival_counts_t_df = (\n",
    "    norm_matrisome_counts_df[[\"geneID\"] + list(filtered_survival_df.sample_name)]\n",
    "        .set_index(\"geneID\")                        # set as index so will be column names\n",
    "        .transpose()\n",
    "        .rename_axis(None, axis=1)                  # column.name will be set to \"geneID\", we don't want this\n",
    "        .reset_index()                              # \"sample_name\" should now be its own column\n",
    "        .rename({\"index\": \"sample_name\"}, axis=1)\n",
    ")"
   ]
  },
  {
   "cell_type": "code",
   "execution_count": 11,
   "metadata": {},
   "outputs": [],
   "source": [
    "joined_df = (\n",
    "    pd.merge(filtered_survival_df, norm_matrisome_survival_counts_t_df, on=\"sample_name\")\n",
    "        .drop(\"vital_status\", axis=1)\n",
    "        .set_index(\"sample_name\")\n",
    ")"
   ]
  },
  {
   "cell_type": "markdown",
   "metadata": {},
   "source": [
    "# Examine mutual information"
   ]
  },
  {
   "cell_type": "code",
   "execution_count": 12,
   "metadata": {},
   "outputs": [],
   "source": [
    "# # The one-hot columns are the only remaining discrete variables\n",
    "# discr_cols = np.where(filtered_joined_survival_counts_df.columns.str.contains(\"race|ethnicity\"))[0]\n",
    "\n",
    "# # The first column is the response variable, so we shift these indices\n",
    "# discr_cols -= 1"
   ]
  },
  {
   "cell_type": "code",
   "execution_count": 13,
   "metadata": {},
   "outputs": [],
   "source": [
    "X = joined_df.iloc[:, 1:].values\n",
    "y = joined_df.iloc[:, 0].values\n",
    "# X_mm = mm_norm_df.iloc[:, 1:].values\n",
    "# y_mm = mm_norm_df.iloc[:, 0].values"
   ]
  },
  {
   "cell_type": "code",
   "execution_count": 14,
   "metadata": {},
   "outputs": [
    {
     "data": {
      "text/plain": [
       "(495, 2)"
      ]
     },
     "execution_count": 14,
     "metadata": {},
     "output_type": "execute_result"
    }
   ],
   "source": [
    "# only include genes, since MI scores are independent, first gene col starts at idx 10\n",
    "mi_res = mutual_info_regression(X[:, 10:], y, discrete_features=False)\n",
    "mi_df = pd.DataFrame({\"geneID\": joined_df.columns[11:], \"MI\": mi_res})\n",
    "mi_df = mi_df.sort_values(\"MI\", ascending=False).reset_index(drop=True)\n",
    "dep_mi_df = mi_df[mi_df.MI > 0]\n",
    "dep_mi_df.shape"
   ]
  },
  {
   "cell_type": "code",
   "execution_count": 15,
   "metadata": {},
   "outputs": [
    {
     "data": {
      "text/html": [
       "<div>\n",
       "<style scoped>\n",
       "    .dataframe tbody tr th:only-of-type {\n",
       "        vertical-align: middle;\n",
       "    }\n",
       "\n",
       "    .dataframe tbody tr th {\n",
       "        vertical-align: top;\n",
       "    }\n",
       "\n",
       "    .dataframe thead th {\n",
       "        text-align: right;\n",
       "    }\n",
       "</style>\n",
       "<table border=\"1\" class=\"dataframe\">\n",
       "  <thead>\n",
       "    <tr style=\"text-align: right;\">\n",
       "      <th></th>\n",
       "      <th>geneID</th>\n",
       "      <th>MI</th>\n",
       "    </tr>\n",
       "  </thead>\n",
       "  <tbody>\n",
       "    <tr>\n",
       "      <th>0</th>\n",
       "      <td>LGALS9B</td>\n",
       "      <td>0.334239</td>\n",
       "    </tr>\n",
       "    <tr>\n",
       "      <th>1</th>\n",
       "      <td>CRELD2</td>\n",
       "      <td>0.271653</td>\n",
       "    </tr>\n",
       "    <tr>\n",
       "      <th>2</th>\n",
       "      <td>VWA3B</td>\n",
       "      <td>0.268147</td>\n",
       "    </tr>\n",
       "    <tr>\n",
       "      <th>3</th>\n",
       "      <td>MUC21</td>\n",
       "      <td>0.265444</td>\n",
       "    </tr>\n",
       "    <tr>\n",
       "      <th>4</th>\n",
       "      <td>ADAM12</td>\n",
       "      <td>0.265249</td>\n",
       "    </tr>\n",
       "  </tbody>\n",
       "</table>\n",
       "</div>"
      ],
      "text/plain": [
       "    geneID        MI\n",
       "0  LGALS9B  0.334239\n",
       "1   CRELD2  0.271653\n",
       "2    VWA3B  0.268147\n",
       "3    MUC21  0.265444\n",
       "4   ADAM12  0.265249"
      ]
     },
     "execution_count": 15,
     "metadata": {},
     "output_type": "execute_result"
    }
   ],
   "source": [
    "dep_mi_df.head()"
   ]
  },
  {
   "cell_type": "code",
   "execution_count": 16,
   "metadata": {},
   "outputs": [],
   "source": [
    "coxph_df = pd.read_csv(f\"{dirs.analysis_dir}/{unified_dsets[i]}_coxph_results.tsv\", sep='\\t')\n",
    "sig_coxph_df = coxph_df[coxph_df.gene_pval < 0.05]"
   ]
  },
  {
   "cell_type": "code",
   "execution_count": 17,
   "metadata": {},
   "outputs": [],
   "source": [
    "sig_coxph_genes = set(sig_coxph_df.geneID)\n",
    "mi_genes = set(dep_mi_df.geneID)\n",
    "len(mi_genes.intersection(sig_coxph_genes))"
   ]
  },
  {
   "cell_type": "code",
   "execution_count": 19,
   "metadata": {},
   "outputs": [],
   "source": [
    "sig_deg_matrisome_df = (\n",
    "    pd.read_csv(f\"{dirs.analysis_dir}/{unified_dsets[i]}_sig_DESeq_results_xref_matrisome.tsv\", sep='\\t')\n",
    "        .query(\"in_matrisome == True\")\n",
    "        .reset_index(drop=True)\n",
    ")"
   ]
  },
  {
   "cell_type": "code",
   "execution_count": 24,
   "metadata": {},
   "outputs": [
    {
     "data": {
      "text/plain": [
       "263"
      ]
     },
     "execution_count": 24,
     "metadata": {},
     "output_type": "execute_result"
    }
   ],
   "source": [
    "sig_deg_genes = set(sig_deg_matrisome_df.geneID)\n",
    "len(mi_genes.intersection(sig_deg_genes))"
   ]
  },
  {
   "cell_type": "code",
   "execution_count": 23,
   "metadata": {},
   "outputs": [
    {
     "data": {
      "text/plain": [
       "33"
      ]
     },
     "execution_count": 23,
     "metadata": {},
     "output_type": "execute_result"
    }
   ],
   "source": [
    "len(mi_genes.intersection(sig_coxph_genes).intersection(sig_deg_genes))"
   ]
  }
 ],
 "metadata": {
  "kernelspec": {
   "display_name": "Python 3",
   "language": "python",
   "name": "python3"
  },
  "language_info": {
   "codemirror_mode": {
    "name": "ipython",
    "version": 3
   },
   "file_extension": ".py",
   "mimetype": "text/x-python",
   "name": "python",
   "nbconvert_exporter": "python",
   "pygments_lexer": "ipython3",
   "version": "3.8.3"
  }
 },
 "nbformat": 4,
 "nbformat_minor": 4
}
