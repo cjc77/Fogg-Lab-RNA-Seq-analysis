{
 "cells": [
  {
   "cell_type": "code",
   "execution_count": 1,
   "metadata": {},
   "outputs": [
    {
     "name": "stderr",
     "output_type": "stream",
     "text": [
      "── Attaching packages ─────────────────────────────────────── tidyverse 1.3.0 ──\n",
      "✔ ggplot2 3.3.2     ✔ purrr   0.3.4\n",
      "✔ tibble  3.0.3     ✔ dplyr   1.0.0\n",
      "✔ tidyr   1.1.0     ✔ stringr 1.4.0\n",
      "✔ readr   1.3.1     ✔ forcats 0.5.0\n",
      "── Conflicts ────────────────────────────────────────── tidyverse_conflicts() ──\n",
      "✖ dplyr::filter() masks stats::filter()\n",
      "✖ dplyr::lag()    masks stats::lag()\n"
     ]
    }
   ],
   "source": [
    "library(tidyverse)\n",
    "\n",
    "# Custom package\n",
    "library(rutils)"
   ]
  },
  {
   "cell_type": "code",
   "execution_count": 2,
   "metadata": {},
   "outputs": [],
   "source": [
    "dirs <- rutils::get_dev_directories(dev_paths_file = \"../dev_paths.txt\")\n",
    "projects <- c(\"TCGA-CESC\", \"TCGA-UCS\", \"TCGA-UCEC\", \"TCGA-OV\")\n",
    "unified_dsets <- c(\"unified_cervical_data\", \"unified_uterine_data\", \"unified_uterine_endometrial_data\")\n",
    "matrisome_list <- paste0(dirs$data_dir, \"/matrisome/matrisome_hs_masterlist.tsv\")"
   ]
  },
  {
   "cell_type": "code",
   "execution_count": 3,
   "metadata": {},
   "outputs": [],
   "source": [
    "p_thresh = 0.05\n",
    "mi_thresh = 0\n",
    "lfc_thresh = log2(2)"
   ]
  },
  {
   "cell_type": "code",
   "execution_count": 4,
   "metadata": {},
   "outputs": [
    {
     "name": "stderr",
     "output_type": "stream",
     "text": [
      "Parsed with column specification:\n",
      "cols(\n",
      "  Division = col_character(),\n",
      "  Category = col_character(),\n",
      "  `Gene Symbol` = col_character(),\n",
      "  `Gene Name` = col_character(),\n",
      "  Synonyms = col_character(),\n",
      "  HGNC_IDs = col_double(),\n",
      "  `HGNC_IDs Links` = col_double(),\n",
      "  UniProt_IDs = col_character(),\n",
      "  Refseq_IDs = col_character(),\n",
      "  Orthology = col_character(),\n",
      "  Notes = col_character()\n",
      ")\n"
     ]
    }
   ],
   "source": [
    "matrisome_df <- rutils::load_matrisome_df(matrisome_list) %>%\n",
    "    dplyr::select(gene_symbol, division, category)"
   ]
  },
  {
   "cell_type": "code",
   "execution_count": 5,
   "metadata": {},
   "outputs": [],
   "source": [
    "i <- 1"
   ]
  },
  {
   "cell_type": "code",
   "execution_count": 6,
   "metadata": {},
   "outputs": [
    {
     "name": "stderr",
     "output_type": "stream",
     "text": [
      "Parsed with column specification:\n",
      "cols(\n",
      "  geneID = col_character(),\n",
      "  gene_pval = col_double(),\n",
      "  gene_coeff = col_double()\n",
      ")\n",
      "Parsed with column specification:\n",
      "cols(\n",
      "  geneID = col_character(),\n",
      "  MI_est_median = col_double()\n",
      ")\n",
      "Parsed with column specification:\n",
      "cols(\n",
      "  geneID = col_character(),\n",
      "  MI_est_median = col_double()\n",
      ")\n",
      "Parsed with column specification:\n",
      "cols(\n",
      "  geneID = col_character(),\n",
      "  baseMean = col_double(),\n",
      "  log2FoldChange = col_double(),\n",
      "  lfcSE = col_double(),\n",
      "  stat = col_double(),\n",
      "  pvalue = col_double(),\n",
      "  padj = col_double()\n",
      ")\n"
     ]
    }
   ],
   "source": [
    "cox_ph_df <- read_tsv(paste0(dirs$analysis_dir, \"/\", unified_dsets[i], \"_coxph_results.tsv\")) %>%\n",
    "    dplyr::mutate(cox_ph_sig = gene_pval < p_thresh)\n",
    "mi_figo_df <- read_tsv(paste0(dirs$analysis_dir, \"/\", unified_dsets[i], \"_MI_figo_results.tsv\")) %>%\n",
    "    dplyr::mutate(mi_figo_sig = MI_est_median > mi_thresh)\n",
    "mi_survival_df <- read_tsv(paste0(dirs$analysis_dir, \"/\", unified_dsets[i], \"_MI_survival_results.tsv\")) %>%\n",
    "    dplyr::mutate(mi_survival_sig = MI_est_median > mi_thresh)\n",
    "deg_df <- read_tsv(paste0(dirs$analysis_dir, \"/\", unified_dsets[i], \"_DESeq_results.tsv\")) %>%\n",
    "    dplyr::filter(geneID %in% matrisome_df$gene_symbol) %>%\n",
    "    dplyr::select(geneID, log2FoldChange, padj)\n",
    "\n",
    "# DEG list is missing some genes (which were filtered due to low expression)\n",
    "deg_missing_genes_df <- mi_figo_df %>%\n",
    "    dplyr::filter(!geneID %in% deg_df$geneID) %>%\n",
    "    dplyr::select(geneID) %>%\n",
    "    dplyr::mutate(log2FoldChange = NA, padj = NA) %>%\n",
    "    dplyr::mutate_at(vars(log2FoldChange, padj), as.numeric)\n",
    "deg_df <- dplyr::bind_rows(deg_df, deg_missing_genes_df) %>%\n",
    "    dplyr::mutate(deg_sig = (log2FoldChange > lfc_thresh) & (padj < p_thresh))"
   ]
  },
  {
   "cell_type": "code",
   "execution_count": 14,
   "metadata": {},
   "outputs": [],
   "source": [
    "meta_df <- deg_df %>%\n",
    "    inner_join(cox_ph_df, by = \"geneID\") %>%\n",
    "    inner_join(mi_figo_df, by = \"geneID\") %>%\n",
    "    inner_join(mi_survival_df, by = \"geneID\") %>%\n",
    "    dplyr::select(geneID, deg_sig, cox_ph_sig, mi_figo_sig, mi_survival_sig) %>%\n",
    "    replace(is.na(.), FALSE) %>%\n",
    "    dplyr::mutate(membership_count = rowSums(. [, 2:ncol(.)])) %>%\n",
    "    dplyr::mutate(majority_vote = membership_count >= floor((ncol(.) - 2) / 2) + 1) %>%\n",
    "    inner_join(matrisome_df, by = c(\"geneID\" = \"gene_symbol\"))"
   ]
  },
  {
   "cell_type": "code",
   "execution_count": 17,
   "metadata": {},
   "outputs": [],
   "source": [
    "write_tsv(meta_df, paste0(dirs$analysis_dir, \"/\", unified_dsets[i], \"_matrisome_importance_meta_analysis.tsv\"))"
   ]
  },
  {
   "cell_type": "code",
   "execution_count": null,
   "metadata": {},
   "outputs": [],
   "source": []
  }
 ],
 "metadata": {
  "kernelspec": {
   "display_name": "R",
   "language": "R",
   "name": "ir"
  },
  "language_info": {
   "codemirror_mode": "r",
   "file_extension": ".r",
   "mimetype": "text/x-r-source",
   "name": "R",
   "pygments_lexer": "r",
   "version": "3.6.3"
  }
 },
 "nbformat": 4,
 "nbformat_minor": 4
}
