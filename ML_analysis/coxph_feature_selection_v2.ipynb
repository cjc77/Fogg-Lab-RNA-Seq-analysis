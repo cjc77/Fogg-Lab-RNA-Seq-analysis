{
 "cells": [
  {
   "cell_type": "code",
   "execution_count": 182,
   "metadata": {},
   "outputs": [
    {
     "name": "stderr",
     "output_type": "stream",
     "text": [
      "\n",
      "Attaching package: ‘survival’\n",
      "\n",
      "The following object is masked from ‘package:caret’:\n",
      "\n",
      "    cluster\n",
      "\n",
      "Loading required package: ggpubr\n"
     ]
    }
   ],
   "source": [
    "library(tidyverse)\n",
    "library(survival)\n",
    "library(survminer)\n",
    "\n",
    "# Custom package\n",
    "library(rutils)"
   ]
  },
  {
   "cell_type": "code",
   "execution_count": 50,
   "metadata": {},
   "outputs": [],
   "source": [
    "dirs <- rutils::get_dev_directories(dev_paths_file = \"../dev_paths.txt\")\n",
    "projects <- c(\"TCGA-CESC\", \"TCGA-UCS\", \"TCGA-UCEC\", \"TCGA-OV\")\n",
    "unified_dsets <- c(\"unified_cervical_data\", \"unified_uterine_data\", \"unified_uterine_endometrial_data\")\n",
    "matrisome_path <- paste0(dirs$data_dir, \"/matrisome/matrisome_hs_masterlist.tsv\")\n",
    "survival_path <- paste0(dirs$data_dir, \"/\", unified_dsets[i], \"/survival_data.tsv\")"
   ]
  },
  {
   "cell_type": "code",
   "execution_count": 48,
   "metadata": {},
   "outputs": [],
   "source": [
    "i <- 1"
   ]
  },
  {
   "cell_type": "code",
   "execution_count": 49,
   "metadata": {},
   "outputs": [
    {
     "name": "stderr",
     "output_type": "stream",
     "text": [
      "Parsed with column specification:\n",
      "cols(\n",
      "  Division = col_character(),\n",
      "  Category = col_character(),\n",
      "  `Gene Symbol` = col_character(),\n",
      "  `Gene Name` = col_character(),\n",
      "  Synonyms = col_character(),\n",
      "  HGNC_IDs = col_double(),\n",
      "  `HGNC_IDs Links` = col_double(),\n",
      "  UniProt_IDs = col_character(),\n",
      "  Refseq_IDs = col_character(),\n",
      "  Orthology = col_character(),\n",
      "  Notes = col_character()\n",
      ")\n"
     ]
    }
   ],
   "source": [
    "matrisome_df <- load_matrisome_df(matrisome_path)"
   ]
  },
  {
   "cell_type": "markdown",
   "metadata": {},
   "source": [
    "# Load and filter survival data"
   ]
  },
  {
   "cell_type": "code",
   "execution_count": 186,
   "metadata": {},
   "outputs": [],
   "source": [
    "event_code <- list(\"Alive\" = 0, \"Dead\" = 1)\n",
    "covariate_cols_no_figo <- c(\"age_at_diagnosis\", \"bmi\", \"race\", \"ethnicity\")\n",
    "covariate_cols <- c(\"figo_stage\", covariate_cols_no_figo)\n",
    "dep_cols <- c(\"vital_status\", \"survival_time\")\n",
    "figo_map_df <- tibble(\n",
    "    roman_num = c(\"I\", \"II\", \"III\", \"IV\"),\n",
    "    figo_code = c('1', '2', '3', '4')\n",
    ")"
   ]
  },
  {
   "cell_type": "code",
   "execution_count": 187,
   "metadata": {},
   "outputs": [
    {
     "name": "stderr",
     "output_type": "stream",
     "text": [
      "Parsed with column specification:\n",
      "cols(\n",
      "  sample_name = col_character(),\n",
      "  vital_status = col_character(),\n",
      "  survival_time = col_double(),\n",
      "  figo_stage = col_character(),\n",
      "  days_to_last_follow_up = col_double(),\n",
      "  days_to_death = col_double(),\n",
      "  age_at_diagnosis = col_double(),\n",
      "  age_at_index = col_double(),\n",
      "  height = col_double(),\n",
      "  weight = col_double(),\n",
      "  bmi = col_double(),\n",
      "  race = col_character(),\n",
      "  ethnicity = col_character()\n",
      ")\n"
     ]
    }
   ],
   "source": [
    "# survival_df <- read_tsv(paste0(dirs$data_dir, \"/\", unified_dsets[i], \"/survival_data.tsv\"))\n",
    "survival_df <- load_survival_df(survival_path, event_code)\n",
    "filtered_survival_df <- survival_df %>%\n",
    "    dplyr::select(one_of(c(\"sample_name\", dep_cols, covariate_cols))) %>%\n",
    "    dplyr::filter(rowSums(is.na(.)) == 0) %>%\n",
    "    dplyr::mutate(\n",
    "        figo_rn = str_extract(figo_stage, \"IV|III|II|I\")\n",
    "    ) %>%\n",
    "    dplyr::inner_join(figo_map_df, by = c(\"figo_rn\" = \"roman_num\")) %>%\n",
    "    dplyr::select(-c(figo_rn, figo_stage)) %>%\n",
    "    dplyr::rename(figo_stage = figo_code)"
   ]
  },
  {
   "cell_type": "markdown",
   "metadata": {},
   "source": [
    "# Load normalized matrisome count data"
   ]
  },
  {
   "cell_type": "code",
   "execution_count": 188,
   "metadata": {},
   "outputs": [
    {
     "name": "stderr",
     "output_type": "stream",
     "text": [
      "Parsed with column specification:\n",
      "cols(\n",
      "  .default = col_double(),\n",
      "  geneID = col_character()\n",
      ")\n",
      "See spec(...) for full column specifications.\n"
     ]
    }
   ],
   "source": [
    "norm_matrisome_counts <- read_tsv(paste0(dirs$data_dir, \"/\", unified_dsets[i], \"/norm_matrisome_counts.tsv\")) %>%\n",
    "    column_to_rownames(var = \"geneID\") %>%\n",
    "    as.matrix()\n",
    "\n",
    "# Match up columns of counts with rows of survival data & only include samples present in survival data\n",
    "norm_matrisome_survival_counts <- norm_matrisome_counts[, filtered_survival_df$sample_name]"
   ]
  },
  {
   "cell_type": "code",
   "execution_count": 189,
   "metadata": {},
   "outputs": [
    {
     "data": {
      "text/html": [
       "TRUE"
      ],
      "text/latex": [
       "TRUE"
      ],
      "text/markdown": [
       "TRUE"
      ],
      "text/plain": [
       "[1] TRUE"
      ]
     },
     "metadata": {},
     "output_type": "display_data"
    }
   ],
   "source": [
    "all(rownames(t(norm_matrisome_survival_counts)) == filtered_survival_df$sample_name)"
   ]
  },
  {
   "cell_type": "markdown",
   "metadata": {},
   "source": [
    "# Combine filtered survival data and normalized count data"
   ]
  },
  {
   "cell_type": "code",
   "execution_count": 190,
   "metadata": {},
   "outputs": [],
   "source": [
    "joined_survival_counts_df <- filtered_survival_df %>%\n",
    "    inner_join(\n",
    "        as_tibble(t(norm_matrisome_survival_counts), rownames = \"sample_name\"),\n",
    "        by = \"sample_name\"\n",
    "    )\n",
    "\n",
    "# Some genes contain the '-' symbol, which affects formulae\n",
    "colnames(joined_survival_counts_df) <- gsub(\"-\", \"_\", colnames(joined_survival_counts_df))"
   ]
  },
  {
   "cell_type": "code",
   "execution_count": 223,
   "metadata": {},
   "outputs": [
    {
     "data": {
      "text/plain": [
       "Call:\n",
       "coxph(formula = as.formula(null_model_formula_chr), data = joined_survival_counts_df, \n",
       "    singular.ok = TRUE)\n",
       "\n",
       "  n= 216, number of events= 48 \n",
       "\n",
       "                                                    coef  exp(coef)   se(coef)\n",
       "figo_stage2                                   -5.061e-01  6.028e-01  4.867e-01\n",
       "figo_stage3                                    4.101e-01  1.507e+00  4.485e-01\n",
       "figo_stage4                                    1.741e+00  5.701e+00  4.125e-01\n",
       "age_at_diagnosis                               4.746e-05  1.000e+00  3.195e-05\n",
       "bmi                                           -3.198e-02  9.685e-01  2.561e-02\n",
       "raceasian                                     -1.455e+00  2.334e-01  1.625e+00\n",
       "raceblack or african american                 -1.197e+00  3.021e-01  1.480e+00\n",
       "racenative hawaiian or other pacific islander         NA         NA  0.000e+00\n",
       "racenot reported                              -1.660e+00  1.901e-01  1.516e+00\n",
       "racewhite                                     -1.250e+00  2.866e-01  1.442e+00\n",
       "ethnicitynot hispanic or latino                1.496e-01  1.161e+00  1.040e+00\n",
       "ethnicitynot reported                          2.249e-01  1.252e+00  1.056e+00\n",
       "                                                   z Pr(>|z|)    \n",
       "figo_stage2                                   -1.040    0.298    \n",
       "figo_stage3                                    0.914    0.361    \n",
       "figo_stage4                                    4.220 2.44e-05 ***\n",
       "age_at_diagnosis                               1.486    0.137    \n",
       "bmi                                           -1.249    0.212    \n",
       "raceasian                                     -0.895    0.371    \n",
       "raceblack or african american                 -0.809    0.419    \n",
       "racenative hawaiian or other pacific islander     NA       NA    \n",
       "racenot reported                              -1.095    0.274    \n",
       "racewhite                                     -0.867    0.386    \n",
       "ethnicitynot hispanic or latino                0.144    0.886    \n",
       "ethnicitynot reported                          0.213    0.831    \n",
       "---\n",
       "Signif. codes:  0 ‘***’ 0.001 ‘**’ 0.01 ‘*’ 0.05 ‘.’ 0.1 ‘ ’ 1\n",
       "\n",
       "                                              exp(coef) exp(-coef) lower .95\n",
       "figo_stage2                                      0.6028     1.6589  0.232210\n",
       "figo_stage3                                      1.5069     0.6636  0.625689\n",
       "figo_stage4                                      5.7010     0.1754  2.540027\n",
       "age_at_diagnosis                                 1.0000     1.0000  0.999985\n",
       "bmi                                              0.9685     1.0325  0.921103\n",
       "raceasian                                        0.2334     4.2840  0.009650\n",
       "raceblack or african american                    0.3021     3.3099  0.016598\n",
       "racenative hawaiian or other pacific islander        NA         NA        NA\n",
       "racenot reported                                 0.1901     5.2593  0.009736\n",
       "racewhite                                        0.2866     3.4890  0.016991\n",
       "ethnicitynot hispanic or latino                  1.1614     0.8611  0.151231\n",
       "ethnicitynot reported                            1.2522     0.7986  0.158153\n",
       "                                              upper .95\n",
       "figo_stage2                                       1.565\n",
       "figo_stage3                                       3.629\n",
       "figo_stage4                                      12.796\n",
       "age_at_diagnosis                                  1.000\n",
       "bmi                                               1.018\n",
       "raceasian                                         5.646\n",
       "raceblack or african american                     5.499\n",
       "racenative hawaiian or other pacific islander        NA\n",
       "racenot reported                                  3.713\n",
       "racewhite                                         4.835\n",
       "ethnicitynot hispanic or latino                   8.919\n",
       "ethnicitynot reported                             9.915\n",
       "\n",
       "Concordance= 0.736  (se = 0.044 )\n",
       "Likelihood ratio test= 36.87  on 11 df,   p=1e-04\n",
       "Wald test            = 45.15  on 11 df,   p=5e-06\n",
       "Score (logrank) test = 61.25  on 11 df,   p=5e-09\n"
      ]
     },
     "metadata": {},
     "output_type": "display_data"
    }
   ],
   "source": [
    "null_model_formula_chr <- paste0(\n",
    "    \"Surv(survival_time, vital_status) ~ \",\n",
    "    paste0(covariate_cols, collapse = \" + \")\n",
    "#     paste0(covariate_cols_no_figo, collapse = \" + \")\n",
    ")\n",
    "cox_fit_null <- coxph(\n",
    "    as.formula(null_model_formula_chr),\n",
    "    data = joined_survival_counts_df,\n",
    "    singular.ok = TRUE\n",
    ")\n",
    "summary(cox_fit_null)"
   ]
  },
  {
   "cell_type": "code",
   "execution_count": 216,
   "metadata": {},
   "outputs": [
    {
     "name": "stderr",
     "output_type": "stream",
     "text": [
      "Warning message in fitter(X, Y, istrat, offset, init, control, weights = weights, :\n",
      "“Loglik converged before variable  13 ; coefficient may be infinite. ”Warning message in fitter(X, Y, istrat, offset, init, control, weights = weights, :\n",
      "“Loglik converged before variable  13 ; coefficient may be infinite. ”Warning message in fitter(X, Y, istrat, offset, init, control, weights = weights, :\n",
      "“Loglik converged before variable  13 ; coefficient may be infinite. ”Warning message in fitter(X, Y, istrat, offset, init, control, weights = weights, :\n",
      "“Loglik converged before variable  13 ; coefficient may be infinite. ”Warning message in fitter(X, Y, istrat, offset, init, control, weights = weights, :\n",
      "“Loglik converged before variable  13 ; coefficient may be infinite. ”Warning message in fitter(X, Y, istrat, offset, init, control, weights = weights, :\n",
      "“Loglik converged before variable  13 ; coefficient may be infinite. ”Warning message in fitter(X, Y, istrat, offset, init, control, weights = weights, :\n",
      "“Loglik converged before variable  13 ; coefficient may be infinite. ”Warning message in fitter(X, Y, istrat, offset, init, control, weights = weights, :\n",
      "“Loglik converged before variable  13 ; coefficient may be infinite. ”Warning message in fitter(X, Y, istrat, offset, init, control, weights = weights, :\n",
      "“Loglik converged before variable  13 ; coefficient may be infinite. ”Warning message in fitter(X, Y, istrat, offset, init, control, weights = weights, :\n",
      "“Loglik converged before variable  13 ; coefficient may be infinite. ”Warning message in fitter(X, Y, istrat, offset, init, control, weights = weights, :\n",
      "“Loglik converged before variable  13 ; coefficient may be infinite. ”"
     ]
    }
   ],
   "source": [
    "genes_of_interest <- colnames(joined_survival_counts_df %>% dplyr::select(-colnames(filtered_survival_df)))\n",
    "gene_pvals <- c()\n",
    "gene_coeffs <- c()\n",
    "\n",
    "for (g in genes_of_interest) {\n",
    "    gene_model_formula_chr <- paste0(null_model_formula_chr, \" + \", g)\n",
    "    cox_fit_gene <- coxph(\n",
    "        as.formula(gene_model_formula_chr),\n",
    "        data = joined_survival_counts_df,\n",
    "        singular.ok = TRUE\n",
    "    )\n",
    "    anova_res <- anova(cox_fit_null, cox_fit_gene, test = \"LRT\")\n",
    "    gene_pvals <- c(gene_pvals, anova_res[[\"P(>|Chi|)\"]][2])\n",
    "    gene_coeffs <- c(gene_coeffs, cox_fit_gene$coefficients[[g]])\n",
    "}"
   ]
  },
  {
   "cell_type": "code",
   "execution_count": 217,
   "metadata": {},
   "outputs": [
    {
     "data": {
      "text/html": [
       "1008"
      ],
      "text/latex": [
       "1008"
      ],
      "text/markdown": [
       "1008"
      ],
      "text/plain": [
       "[1] 1008"
      ]
     },
     "metadata": {},
     "output_type": "display_data"
    },
    {
     "data": {
      "text/html": [
       "1008"
      ],
      "text/latex": [
       "1008"
      ],
      "text/markdown": [
       "1008"
      ],
      "text/plain": [
       "[1] 1008"
      ]
     },
     "metadata": {},
     "output_type": "display_data"
    }
   ],
   "source": [
    "length(gene_pvals)\n",
    "length(gene_coeffs)"
   ]
  },
  {
   "cell_type": "code",
   "execution_count": 218,
   "metadata": {},
   "outputs": [],
   "source": [
    "# Re-sub '-' for '_' now that no longer needed for formulae\n",
    "cox_regression_df <- tibble(\"geneID\" = gsub(\"_\", \"-\", genes_of_interest), \"gene_pval\" = gene_pvals, \"gene_coeff\" = gene_coeffs)\n",
    "sig_cox_regression_df <- cox_regression_df %>%\n",
    "    dplyr::filter(gene_pval < 0.05)"
   ]
  },
  {
   "cell_type": "code",
   "execution_count": 220,
   "metadata": {
    "collapsed": true,
    "jupyter": {
     "outputs_hidden": true
    }
   },
   "outputs": [
    {
     "data": {
      "text/html": [
       "<table>\n",
       "<caption>A tibble: 129 × 3</caption>\n",
       "<thead>\n",
       "\t<tr><th scope=col>geneID</th><th scope=col>gene_pval</th><th scope=col>gene_coeff</th></tr>\n",
       "\t<tr><th scope=col>&lt;chr&gt;</th><th scope=col>&lt;dbl&gt;</th><th scope=col>&lt;dbl&gt;</th></tr>\n",
       "</thead>\n",
       "<tbody>\n",
       "\t<tr><td>C1QTNF6 </td><td>0.0280016043</td><td> 0.2968732</td></tr>\n",
       "\t<tr><td>ANGPT2  </td><td>0.0432176490</td><td> 0.3213497</td></tr>\n",
       "\t<tr><td>MEPE    </td><td>0.0312293608</td><td> 1.5145238</td></tr>\n",
       "\t<tr><td>CSF3    </td><td>0.0069654240</td><td> 0.2331057</td></tr>\n",
       "\t<tr><td>FGG     </td><td>0.0349742942</td><td> 0.2490438</td></tr>\n",
       "\t<tr><td>REG1A   </td><td>0.0470148509</td><td> 0.1487532</td></tr>\n",
       "\t<tr><td>SERPINA5</td><td>0.0202423910</td><td> 0.2605676</td></tr>\n",
       "\t<tr><td>CSF2    </td><td>0.0158424729</td><td> 0.3653110</td></tr>\n",
       "\t<tr><td>TLL2    </td><td>0.0309870362</td><td>-0.3229587</td></tr>\n",
       "\t<tr><td>CBLN4   </td><td>0.0053111963</td><td>-1.6882816</td></tr>\n",
       "\t<tr><td>P4HA3   </td><td>0.0036169686</td><td> 0.4800866</td></tr>\n",
       "\t<tr><td>SEMA5A  </td><td>0.0406948763</td><td>-0.2268601</td></tr>\n",
       "\t<tr><td>CRHBP   </td><td>0.0223415717</td><td>-0.9581983</td></tr>\n",
       "\t<tr><td>CXCL2   </td><td>0.0001464034</td><td> 0.3794118</td></tr>\n",
       "\t<tr><td>MUC15   </td><td>0.0308064164</td><td>-0.1984209</td></tr>\n",
       "\t<tr><td>CXCL14  </td><td>0.0385291163</td><td>-0.1411593</td></tr>\n",
       "\t<tr><td>ADAMTS15</td><td>0.0069485437</td><td> 0.2319876</td></tr>\n",
       "\t<tr><td>ADAM11  </td><td>0.0034782537</td><td>-0.6153691</td></tr>\n",
       "\t<tr><td>WNT3A   </td><td>0.0002531016</td><td>-0.4357813</td></tr>\n",
       "\t<tr><td>RPTN    </td><td>0.0184248789</td><td>-0.2459895</td></tr>\n",
       "\t<tr><td>S100A10 </td><td>0.0411647568</td><td> 0.2834975</td></tr>\n",
       "\t<tr><td>ESM1    </td><td>0.0401784190</td><td> 0.2471286</td></tr>\n",
       "\t<tr><td>ADAM8   </td><td>0.0408569511</td><td> 0.2284728</td></tr>\n",
       "\t<tr><td>REG1B   </td><td>0.0422265165</td><td> 0.2714497</td></tr>\n",
       "\t<tr><td>COCH    </td><td>0.0454248301</td><td>-0.1525897</td></tr>\n",
       "\t<tr><td>IL17C   </td><td>0.0158627601</td><td> 0.5742009</td></tr>\n",
       "\t<tr><td>CXCL1   </td><td>0.0035661790</td><td> 0.2330480</td></tr>\n",
       "\t<tr><td>FGF17   </td><td>0.0017462121</td><td>-0.7409058</td></tr>\n",
       "\t<tr><td>CTSZ    </td><td>0.0150552030</td><td> 0.4652919</td></tr>\n",
       "\t<tr><td>IL1B    </td><td>0.0091727060</td><td> 0.2746360</td></tr>\n",
       "\t<tr><td>⋮</td><td>⋮</td><td>⋮</td></tr>\n",
       "\t<tr><td>ANGPT4 </td><td>0.0410188795</td><td> -1.0483839</td></tr>\n",
       "\t<tr><td>NTN3   </td><td>0.0011605037</td><td> -1.2595610</td></tr>\n",
       "\t<tr><td>CCL20  </td><td>0.0040680117</td><td>  0.2143071</td></tr>\n",
       "\t<tr><td>FGF22  </td><td>0.0324417997</td><td> -1.0685176</td></tr>\n",
       "\t<tr><td>PLOD2  </td><td>0.0003492263</td><td>  0.4571436</td></tr>\n",
       "\t<tr><td>AGT    </td><td>0.0103731692</td><td>  0.2432633</td></tr>\n",
       "\t<tr><td>CST6   </td><td>0.0365124248</td><td>  0.1753555</td></tr>\n",
       "\t<tr><td>WNT2B  </td><td>0.0082538037</td><td> -0.2501201</td></tr>\n",
       "\t<tr><td>TGFBI  </td><td>0.0097720593</td><td>  0.2535057</td></tr>\n",
       "\t<tr><td>CSHL1  </td><td>0.0057537494</td><td>-71.5911079</td></tr>\n",
       "\t<tr><td>ST14   </td><td>0.0045762883</td><td>  0.5919512</td></tr>\n",
       "\t<tr><td>CILP2  </td><td>0.0327586913</td><td> -0.2380970</td></tr>\n",
       "\t<tr><td>GPC1   </td><td>0.0168029338</td><td> -0.2905868</td></tr>\n",
       "\t<tr><td>NCAN   </td><td>0.0143297376</td><td> -1.0925207</td></tr>\n",
       "\t<tr><td>ANGPTL5</td><td>0.0473423121</td><td>  1.0536164</td></tr>\n",
       "\t<tr><td>DDX26B </td><td>0.0018540703</td><td> -0.5662466</td></tr>\n",
       "\t<tr><td>ANXA2  </td><td>0.0020459087</td><td>  0.7130118</td></tr>\n",
       "\t<tr><td>ANGPTL6</td><td>0.0146385209</td><td> -1.0010276</td></tr>\n",
       "\t<tr><td>IFNA2  </td><td>0.0185632791</td><td>  4.6514652</td></tr>\n",
       "\t<tr><td>P4HA1  </td><td>0.0139091635</td><td>  0.4367248</td></tr>\n",
       "\t<tr><td>FST    </td><td>0.0495018652</td><td> -0.1297958</td></tr>\n",
       "\t<tr><td>P4HA2  </td><td>0.0138427940</td><td>  0.5028092</td></tr>\n",
       "\t<tr><td>VWC2L  </td><td>0.0270193299</td><td>  2.0110342</td></tr>\n",
       "\t<tr><td>EGLN1  </td><td>0.0256964293</td><td>  0.6336978</td></tr>\n",
       "\t<tr><td>MMRN2  </td><td>0.0266899878</td><td> -0.4356158</td></tr>\n",
       "\t<tr><td>PLOD1  </td><td>0.0043890572</td><td>  0.5837867</td></tr>\n",
       "\t<tr><td>VTN    </td><td>0.0499688830</td><td>  0.2314220</td></tr>\n",
       "\t<tr><td>TGFA   </td><td>0.0205652300</td><td>  0.3344140</td></tr>\n",
       "\t<tr><td>GPC2   </td><td>0.0043638109</td><td> -0.3938275</td></tr>\n",
       "\t<tr><td>ANXA3  </td><td>0.0025491920</td><td>  0.3858485</td></tr>\n",
       "</tbody>\n",
       "</table>\n"
      ],
      "text/latex": [
       "A tibble: 129 × 3\n",
       "\\begin{tabular}{lll}\n",
       " geneID & gene\\_pval & gene\\_coeff\\\\\n",
       " <chr> & <dbl> & <dbl>\\\\\n",
       "\\hline\n",
       "\t C1QTNF6  & 0.0280016043 &  0.2968732\\\\\n",
       "\t ANGPT2   & 0.0432176490 &  0.3213497\\\\\n",
       "\t MEPE     & 0.0312293608 &  1.5145238\\\\\n",
       "\t CSF3     & 0.0069654240 &  0.2331057\\\\\n",
       "\t FGG      & 0.0349742942 &  0.2490438\\\\\n",
       "\t REG1A    & 0.0470148509 &  0.1487532\\\\\n",
       "\t SERPINA5 & 0.0202423910 &  0.2605676\\\\\n",
       "\t CSF2     & 0.0158424729 &  0.3653110\\\\\n",
       "\t TLL2     & 0.0309870362 & -0.3229587\\\\\n",
       "\t CBLN4    & 0.0053111963 & -1.6882816\\\\\n",
       "\t P4HA3    & 0.0036169686 &  0.4800866\\\\\n",
       "\t SEMA5A   & 0.0406948763 & -0.2268601\\\\\n",
       "\t CRHBP    & 0.0223415717 & -0.9581983\\\\\n",
       "\t CXCL2    & 0.0001464034 &  0.3794118\\\\\n",
       "\t MUC15    & 0.0308064164 & -0.1984209\\\\\n",
       "\t CXCL14   & 0.0385291163 & -0.1411593\\\\\n",
       "\t ADAMTS15 & 0.0069485437 &  0.2319876\\\\\n",
       "\t ADAM11   & 0.0034782537 & -0.6153691\\\\\n",
       "\t WNT3A    & 0.0002531016 & -0.4357813\\\\\n",
       "\t RPTN     & 0.0184248789 & -0.2459895\\\\\n",
       "\t S100A10  & 0.0411647568 &  0.2834975\\\\\n",
       "\t ESM1     & 0.0401784190 &  0.2471286\\\\\n",
       "\t ADAM8    & 0.0408569511 &  0.2284728\\\\\n",
       "\t REG1B    & 0.0422265165 &  0.2714497\\\\\n",
       "\t COCH     & 0.0454248301 & -0.1525897\\\\\n",
       "\t IL17C    & 0.0158627601 &  0.5742009\\\\\n",
       "\t CXCL1    & 0.0035661790 &  0.2330480\\\\\n",
       "\t FGF17    & 0.0017462121 & -0.7409058\\\\\n",
       "\t CTSZ     & 0.0150552030 &  0.4652919\\\\\n",
       "\t IL1B     & 0.0091727060 &  0.2746360\\\\\n",
       "\t ⋮ & ⋮ & ⋮\\\\\n",
       "\t ANGPT4  & 0.0410188795 &  -1.0483839\\\\\n",
       "\t NTN3    & 0.0011605037 &  -1.2595610\\\\\n",
       "\t CCL20   & 0.0040680117 &   0.2143071\\\\\n",
       "\t FGF22   & 0.0324417997 &  -1.0685176\\\\\n",
       "\t PLOD2   & 0.0003492263 &   0.4571436\\\\\n",
       "\t AGT     & 0.0103731692 &   0.2432633\\\\\n",
       "\t CST6    & 0.0365124248 &   0.1753555\\\\\n",
       "\t WNT2B   & 0.0082538037 &  -0.2501201\\\\\n",
       "\t TGFBI   & 0.0097720593 &   0.2535057\\\\\n",
       "\t CSHL1   & 0.0057537494 & -71.5911079\\\\\n",
       "\t ST14    & 0.0045762883 &   0.5919512\\\\\n",
       "\t CILP2   & 0.0327586913 &  -0.2380970\\\\\n",
       "\t GPC1    & 0.0168029338 &  -0.2905868\\\\\n",
       "\t NCAN    & 0.0143297376 &  -1.0925207\\\\\n",
       "\t ANGPTL5 & 0.0473423121 &   1.0536164\\\\\n",
       "\t DDX26B  & 0.0018540703 &  -0.5662466\\\\\n",
       "\t ANXA2   & 0.0020459087 &   0.7130118\\\\\n",
       "\t ANGPTL6 & 0.0146385209 &  -1.0010276\\\\\n",
       "\t IFNA2   & 0.0185632791 &   4.6514652\\\\\n",
       "\t P4HA1   & 0.0139091635 &   0.4367248\\\\\n",
       "\t FST     & 0.0495018652 &  -0.1297958\\\\\n",
       "\t P4HA2   & 0.0138427940 &   0.5028092\\\\\n",
       "\t VWC2L   & 0.0270193299 &   2.0110342\\\\\n",
       "\t EGLN1   & 0.0256964293 &   0.6336978\\\\\n",
       "\t MMRN2   & 0.0266899878 &  -0.4356158\\\\\n",
       "\t PLOD1   & 0.0043890572 &   0.5837867\\\\\n",
       "\t VTN     & 0.0499688830 &   0.2314220\\\\\n",
       "\t TGFA    & 0.0205652300 &   0.3344140\\\\\n",
       "\t GPC2    & 0.0043638109 &  -0.3938275\\\\\n",
       "\t ANXA3   & 0.0025491920 &   0.3858485\\\\\n",
       "\\end{tabular}\n"
      ],
      "text/markdown": [
       "\n",
       "A tibble: 129 × 3\n",
       "\n",
       "| geneID &lt;chr&gt; | gene_pval &lt;dbl&gt; | gene_coeff &lt;dbl&gt; |\n",
       "|---|---|---|\n",
       "| C1QTNF6  | 0.0280016043 |  0.2968732 |\n",
       "| ANGPT2   | 0.0432176490 |  0.3213497 |\n",
       "| MEPE     | 0.0312293608 |  1.5145238 |\n",
       "| CSF3     | 0.0069654240 |  0.2331057 |\n",
       "| FGG      | 0.0349742942 |  0.2490438 |\n",
       "| REG1A    | 0.0470148509 |  0.1487532 |\n",
       "| SERPINA5 | 0.0202423910 |  0.2605676 |\n",
       "| CSF2     | 0.0158424729 |  0.3653110 |\n",
       "| TLL2     | 0.0309870362 | -0.3229587 |\n",
       "| CBLN4    | 0.0053111963 | -1.6882816 |\n",
       "| P4HA3    | 0.0036169686 |  0.4800866 |\n",
       "| SEMA5A   | 0.0406948763 | -0.2268601 |\n",
       "| CRHBP    | 0.0223415717 | -0.9581983 |\n",
       "| CXCL2    | 0.0001464034 |  0.3794118 |\n",
       "| MUC15    | 0.0308064164 | -0.1984209 |\n",
       "| CXCL14   | 0.0385291163 | -0.1411593 |\n",
       "| ADAMTS15 | 0.0069485437 |  0.2319876 |\n",
       "| ADAM11   | 0.0034782537 | -0.6153691 |\n",
       "| WNT3A    | 0.0002531016 | -0.4357813 |\n",
       "| RPTN     | 0.0184248789 | -0.2459895 |\n",
       "| S100A10  | 0.0411647568 |  0.2834975 |\n",
       "| ESM1     | 0.0401784190 |  0.2471286 |\n",
       "| ADAM8    | 0.0408569511 |  0.2284728 |\n",
       "| REG1B    | 0.0422265165 |  0.2714497 |\n",
       "| COCH     | 0.0454248301 | -0.1525897 |\n",
       "| IL17C    | 0.0158627601 |  0.5742009 |\n",
       "| CXCL1    | 0.0035661790 |  0.2330480 |\n",
       "| FGF17    | 0.0017462121 | -0.7409058 |\n",
       "| CTSZ     | 0.0150552030 |  0.4652919 |\n",
       "| IL1B     | 0.0091727060 |  0.2746360 |\n",
       "| ⋮ | ⋮ | ⋮ |\n",
       "| ANGPT4  | 0.0410188795 |  -1.0483839 |\n",
       "| NTN3    | 0.0011605037 |  -1.2595610 |\n",
       "| CCL20   | 0.0040680117 |   0.2143071 |\n",
       "| FGF22   | 0.0324417997 |  -1.0685176 |\n",
       "| PLOD2   | 0.0003492263 |   0.4571436 |\n",
       "| AGT     | 0.0103731692 |   0.2432633 |\n",
       "| CST6    | 0.0365124248 |   0.1753555 |\n",
       "| WNT2B   | 0.0082538037 |  -0.2501201 |\n",
       "| TGFBI   | 0.0097720593 |   0.2535057 |\n",
       "| CSHL1   | 0.0057537494 | -71.5911079 |\n",
       "| ST14    | 0.0045762883 |   0.5919512 |\n",
       "| CILP2   | 0.0327586913 |  -0.2380970 |\n",
       "| GPC1    | 0.0168029338 |  -0.2905868 |\n",
       "| NCAN    | 0.0143297376 |  -1.0925207 |\n",
       "| ANGPTL5 | 0.0473423121 |   1.0536164 |\n",
       "| DDX26B  | 0.0018540703 |  -0.5662466 |\n",
       "| ANXA2   | 0.0020459087 |   0.7130118 |\n",
       "| ANGPTL6 | 0.0146385209 |  -1.0010276 |\n",
       "| IFNA2   | 0.0185632791 |   4.6514652 |\n",
       "| P4HA1   | 0.0139091635 |   0.4367248 |\n",
       "| FST     | 0.0495018652 |  -0.1297958 |\n",
       "| P4HA2   | 0.0138427940 |   0.5028092 |\n",
       "| VWC2L   | 0.0270193299 |   2.0110342 |\n",
       "| EGLN1   | 0.0256964293 |   0.6336978 |\n",
       "| MMRN2   | 0.0266899878 |  -0.4356158 |\n",
       "| PLOD1   | 0.0043890572 |   0.5837867 |\n",
       "| VTN     | 0.0499688830 |   0.2314220 |\n",
       "| TGFA    | 0.0205652300 |   0.3344140 |\n",
       "| GPC2    | 0.0043638109 |  -0.3938275 |\n",
       "| ANXA3   | 0.0025491920 |   0.3858485 |\n",
       "\n"
      ],
      "text/plain": [
       "    geneID   gene_pval    gene_coeff \n",
       "1   C1QTNF6  0.0280016043  0.2968732 \n",
       "2   ANGPT2   0.0432176490  0.3213497 \n",
       "3   MEPE     0.0312293608  1.5145238 \n",
       "4   CSF3     0.0069654240  0.2331057 \n",
       "5   FGG      0.0349742942  0.2490438 \n",
       "6   REG1A    0.0470148509  0.1487532 \n",
       "7   SERPINA5 0.0202423910  0.2605676 \n",
       "8   CSF2     0.0158424729  0.3653110 \n",
       "9   TLL2     0.0309870362 -0.3229587 \n",
       "10  CBLN4    0.0053111963 -1.6882816 \n",
       "11  P4HA3    0.0036169686  0.4800866 \n",
       "12  SEMA5A   0.0406948763 -0.2268601 \n",
       "13  CRHBP    0.0223415717 -0.9581983 \n",
       "14  CXCL2    0.0001464034  0.3794118 \n",
       "15  MUC15    0.0308064164 -0.1984209 \n",
       "16  CXCL14   0.0385291163 -0.1411593 \n",
       "17  ADAMTS15 0.0069485437  0.2319876 \n",
       "18  ADAM11   0.0034782537 -0.6153691 \n",
       "19  WNT3A    0.0002531016 -0.4357813 \n",
       "20  RPTN     0.0184248789 -0.2459895 \n",
       "21  S100A10  0.0411647568  0.2834975 \n",
       "22  ESM1     0.0401784190  0.2471286 \n",
       "23  ADAM8    0.0408569511  0.2284728 \n",
       "24  REG1B    0.0422265165  0.2714497 \n",
       "25  COCH     0.0454248301 -0.1525897 \n",
       "26  IL17C    0.0158627601  0.5742009 \n",
       "27  CXCL1    0.0035661790  0.2330480 \n",
       "28  FGF17    0.0017462121 -0.7409058 \n",
       "29  CTSZ     0.0150552030  0.4652919 \n",
       "30  IL1B     0.0091727060  0.2746360 \n",
       "⋮   ⋮        ⋮            ⋮          \n",
       "100 ANGPT4   0.0410188795  -1.0483839\n",
       "101 NTN3     0.0011605037  -1.2595610\n",
       "102 CCL20    0.0040680117   0.2143071\n",
       "103 FGF22    0.0324417997  -1.0685176\n",
       "104 PLOD2    0.0003492263   0.4571436\n",
       "105 AGT      0.0103731692   0.2432633\n",
       "106 CST6     0.0365124248   0.1753555\n",
       "107 WNT2B    0.0082538037  -0.2501201\n",
       "108 TGFBI    0.0097720593   0.2535057\n",
       "109 CSHL1    0.0057537494 -71.5911079\n",
       "110 ST14     0.0045762883   0.5919512\n",
       "111 CILP2    0.0327586913  -0.2380970\n",
       "112 GPC1     0.0168029338  -0.2905868\n",
       "113 NCAN     0.0143297376  -1.0925207\n",
       "114 ANGPTL5  0.0473423121   1.0536164\n",
       "115 DDX26B   0.0018540703  -0.5662466\n",
       "116 ANXA2    0.0020459087   0.7130118\n",
       "117 ANGPTL6  0.0146385209  -1.0010276\n",
       "118 IFNA2    0.0185632791   4.6514652\n",
       "119 P4HA1    0.0139091635   0.4367248\n",
       "120 FST      0.0495018652  -0.1297958\n",
       "121 P4HA2    0.0138427940   0.5028092\n",
       "122 VWC2L    0.0270193299   2.0110342\n",
       "123 EGLN1    0.0256964293   0.6336978\n",
       "124 MMRN2    0.0266899878  -0.4356158\n",
       "125 PLOD1    0.0043890572   0.5837867\n",
       "126 VTN      0.0499688830   0.2314220\n",
       "127 TGFA     0.0205652300   0.3344140\n",
       "128 GPC2     0.0043638109  -0.3938275\n",
       "129 ANXA3    0.0025491920   0.3858485"
      ]
     },
     "metadata": {},
     "output_type": "display_data"
    }
   ],
   "source": [
    "sig_cox_regression_df"
   ]
  }
 ],
 "metadata": {
  "kernelspec": {
   "display_name": "R",
   "language": "R",
   "name": "ir"
  },
  "language_info": {
   "codemirror_mode": "r",
   "file_extension": ".r",
   "mimetype": "text/x-r-source",
   "name": "R",
   "pygments_lexer": "r",
   "version": "3.6.3"
  }
 },
 "nbformat": 4,
 "nbformat_minor": 4
}
