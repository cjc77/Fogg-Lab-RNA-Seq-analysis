{
 "cells": [
  {
   "cell_type": "code",
   "execution_count": 1,
   "metadata": {},
   "outputs": [
    {
     "name": "stderr",
     "output_type": "stream",
     "text": [
      "── Attaching packages ─────────────────────────────────────── tidyverse 1.3.0 ──\n",
      "✔ ggplot2 3.3.2     ✔ purrr   0.3.4\n",
      "✔ tibble  3.0.3     ✔ dplyr   1.0.0\n",
      "✔ tidyr   1.1.0     ✔ stringr 1.4.0\n",
      "✔ readr   1.3.1     ✔ forcats 0.5.0\n",
      "── Conflicts ────────────────────────────────────────── tidyverse_conflicts() ──\n",
      "✖ dplyr::filter() masks stats::filter()\n",
      "✖ dplyr::lag()    masks stats::lag()\n"
     ]
    }
   ],
   "source": [
    "library(tidyverse)\n",
    "\n",
    "# Custom package\n",
    "library(rutils)"
   ]
  },
  {
   "cell_type": "code",
   "execution_count": 2,
   "metadata": {},
   "outputs": [],
   "source": [
    "dirs <- rutils::get_dev_directories(dev_paths_file = \"../dev_paths.txt\")\n",
    "projects <- c(\"TCGA-CESC\", \"TCGA-UCS\", \"TCGA-UCEC\", \"TCGA-OV\")\n",
    "unified_dsets <- c(\"unified_cervical_data\", \"unified_uterine_data\", \"unified_uterine_endometrial_data\")\n",
    "matrisome_list <- paste0(dirs$data_dir, \"/matrisome/matrisome_hs_masterlist.tsv\")"
   ]
  },
  {
   "cell_type": "code",
   "execution_count": 3,
   "metadata": {},
   "outputs": [],
   "source": [
    "p_thresh = 0.05\n",
    "mi_thresh = 0\n",
    "lfc_thresh = log2(2)"
   ]
  },
  {
   "cell_type": "code",
   "execution_count": 4,
   "metadata": {},
   "outputs": [
    {
     "name": "stderr",
     "output_type": "stream",
     "text": [
      "Parsed with column specification:\n",
      "cols(\n",
      "  Division = col_character(),\n",
      "  Category = col_character(),\n",
      "  `Gene Symbol` = col_character(),\n",
      "  `Gene Name` = col_character(),\n",
      "  Synonyms = col_character(),\n",
      "  HGNC_IDs = col_double(),\n",
      "  `HGNC_IDs Links` = col_double(),\n",
      "  UniProt_IDs = col_character(),\n",
      "  Refseq_IDs = col_character(),\n",
      "  Orthology = col_character(),\n",
      "  Notes = col_character()\n",
      ")\n"
     ]
    }
   ],
   "source": [
    "matrisome_df <- rutils::load_matrisome_df(matrisome_list) %>%\n",
    "    dplyr::select(gene_symbol, division, category)"
   ]
  },
  {
   "cell_type": "code",
   "execution_count": 5,
   "metadata": {},
   "outputs": [],
   "source": [
    "i <- 1"
   ]
  },
  {
   "cell_type": "code",
   "execution_count": 6,
   "metadata": {},
   "outputs": [
    {
     "name": "stderr",
     "output_type": "stream",
     "text": [
      "Parsed with column specification:\n",
      "cols(\n",
      "  geneID = col_character(),\n",
      "  gene_pval = col_double(),\n",
      "  gene_coeff = col_double()\n",
      ")\n",
      "Parsed with column specification:\n",
      "cols(\n",
      "  geneID = col_character(),\n",
      "  baseMean = col_double(),\n",
      "  log2FoldChange = col_double(),\n",
      "  lfcSE = col_double(),\n",
      "  stat = col_double(),\n",
      "  pvalue = col_double(),\n",
      "  padj = col_double()\n",
      ")\n",
      "Parsed with column specification:\n",
      "cols(\n",
      "  geneID = col_character(),\n",
      "  MI_est_median = col_double()\n",
      ")\n",
      "Parsed with column specification:\n",
      "cols(\n",
      "  geneID = col_character(),\n",
      "  cor = col_double(),\n",
      "  pval = col_double(),\n",
      "  n = col_double()\n",
      ")\n"
     ]
    }
   ],
   "source": [
    "coxph_df <- read_tsv(paste0(dirs$analysis_dir, \"/\", unified_dsets[i], \"_coxph_results.tsv\")) %>%\n",
    "    dplyr::rename(coxph_pval = gene_pval, coxph_coeff = gene_coeff)\n",
    "deg_df <- read_tsv(paste0(dirs$analysis_dir, \"/\", unified_dsets[i], \"_DESeq_results.tsv\")) %>%\n",
    "    dplyr::filter(geneID %in% matrisome_df$gene_symbol) %>%\n",
    "    dplyr::select(geneID, log2FoldChange, padj) %>%\n",
    "    dplyr::rename(deg_l2fc = log2FoldChange, deg_padj = padj)\n",
    "mi_df <- read_tsv(paste0(dirs$analysis_dir, \"/\", unified_dsets[i], \"_MI_survival_results.tsv\"))\n",
    "cor_df <- read_tsv(paste0(dirs$analysis_dir, \"/\", unified_dsets[i], \"_cor_results.tsv\")) %>%\n",
    "    dplyr::rename(cor_test_cor = cor, cor_test_pval = pval, cor_test_n = n)"
   ]
  },
  {
   "cell_type": "markdown",
   "metadata": {},
   "source": [
    "# DE and Cox"
   ]
  },
  {
   "cell_type": "code",
   "execution_count": 7,
   "metadata": {},
   "outputs": [
    {
     "data": {
      "text/html": [
       "917"
      ],
      "text/latex": [
       "917"
      ],
      "text/markdown": [
       "917"
      ],
      "text/plain": [
       "[1] 917"
      ]
     },
     "metadata": {},
     "output_type": "display_data"
    },
    {
     "data": {
      "text/html": [
       "<table>\n",
       "<caption>A tibble: 6 × 5</caption>\n",
       "<thead>\n",
       "\t<tr><th scope=col>geneID</th><th scope=col>coxph_pval</th><th scope=col>coxph_coeff</th><th scope=col>deg_l2fc</th><th scope=col>deg_padj</th></tr>\n",
       "\t<tr><th scope=col>&lt;chr&gt;</th><th scope=col>&lt;dbl&gt;</th><th scope=col>&lt;dbl&gt;</th><th scope=col>&lt;dbl&gt;</th><th scope=col>&lt;dbl&gt;</th></tr>\n",
       "</thead>\n",
       "<tbody>\n",
       "\t<tr><td>PGF    </td><td>0.54425160</td><td> 0.062918777</td><td>-0.00558361</td><td>9.919896e-01</td></tr>\n",
       "\t<tr><td>TIMP4  </td><td>0.21721965</td><td> 0.161809921</td><td>-4.45396269</td><td>5.769052e-12</td></tr>\n",
       "\t<tr><td>C1QTNF6</td><td>0.01685799</td><td> 0.273679674</td><td> 0.46855664</td><td>2.090489e-01</td></tr>\n",
       "\t<tr><td>TNC    </td><td>0.01755491</td><td> 0.181345111</td><td> 0.43931731</td><td>4.140684e-01</td></tr>\n",
       "\t<tr><td>PRL    </td><td>0.20689399</td><td> 0.367487825</td><td>-3.27230838</td><td>1.246596e-03</td></tr>\n",
       "\t<tr><td>OGN    </td><td>0.93805902</td><td>-0.008228786</td><td>-6.39269858</td><td>3.630674e-16</td></tr>\n",
       "</tbody>\n",
       "</table>\n"
      ],
      "text/latex": [
       "A tibble: 6 × 5\n",
       "\\begin{tabular}{lllll}\n",
       " geneID & coxph\\_pval & coxph\\_coeff & deg\\_l2fc & deg\\_padj\\\\\n",
       " <chr> & <dbl> & <dbl> & <dbl> & <dbl>\\\\\n",
       "\\hline\n",
       "\t PGF     & 0.54425160 &  0.062918777 & -0.00558361 & 9.919896e-01\\\\\n",
       "\t TIMP4   & 0.21721965 &  0.161809921 & -4.45396269 & 5.769052e-12\\\\\n",
       "\t C1QTNF6 & 0.01685799 &  0.273679674 &  0.46855664 & 2.090489e-01\\\\\n",
       "\t TNC     & 0.01755491 &  0.181345111 &  0.43931731 & 4.140684e-01\\\\\n",
       "\t PRL     & 0.20689399 &  0.367487825 & -3.27230838 & 1.246596e-03\\\\\n",
       "\t OGN     & 0.93805902 & -0.008228786 & -6.39269858 & 3.630674e-16\\\\\n",
       "\\end{tabular}\n"
      ],
      "text/markdown": [
       "\n",
       "A tibble: 6 × 5\n",
       "\n",
       "| geneID &lt;chr&gt; | coxph_pval &lt;dbl&gt; | coxph_coeff &lt;dbl&gt; | deg_l2fc &lt;dbl&gt; | deg_padj &lt;dbl&gt; |\n",
       "|---|---|---|---|---|\n",
       "| PGF     | 0.54425160 |  0.062918777 | -0.00558361 | 9.919896e-01 |\n",
       "| TIMP4   | 0.21721965 |  0.161809921 | -4.45396269 | 5.769052e-12 |\n",
       "| C1QTNF6 | 0.01685799 |  0.273679674 |  0.46855664 | 2.090489e-01 |\n",
       "| TNC     | 0.01755491 |  0.181345111 |  0.43931731 | 4.140684e-01 |\n",
       "| PRL     | 0.20689399 |  0.367487825 | -3.27230838 | 1.246596e-03 |\n",
       "| OGN     | 0.93805902 | -0.008228786 | -6.39269858 | 3.630674e-16 |\n",
       "\n"
      ],
      "text/plain": [
       "  geneID  coxph_pval coxph_coeff  deg_l2fc    deg_padj    \n",
       "1 PGF     0.54425160  0.062918777 -0.00558361 9.919896e-01\n",
       "2 TIMP4   0.21721965  0.161809921 -4.45396269 5.769052e-12\n",
       "3 C1QTNF6 0.01685799  0.273679674  0.46855664 2.090489e-01\n",
       "4 TNC     0.01755491  0.181345111  0.43931731 4.140684e-01\n",
       "5 PRL     0.20689399  0.367487825 -3.27230838 1.246596e-03\n",
       "6 OGN     0.93805902 -0.008228786 -6.39269858 3.630674e-16"
      ]
     },
     "metadata": {},
     "output_type": "display_data"
    }
   ],
   "source": [
    "deg_and_coxph <- coxph_df %>%\n",
    "    inner_join(deg_df, by = \"geneID\")\n",
    "nrow(deg_and_coxph)\n",
    "head(deg_and_coxph)"
   ]
  },
  {
   "cell_type": "markdown",
   "metadata": {},
   "source": [
    "## All genes (that are present in both - DESeq2 filters out lowly expressed genes)"
   ]
  },
  {
   "cell_type": "code",
   "execution_count": 26,
   "metadata": {},
   "outputs": [
    {
     "data": {
      "text/plain": [
       "\n",
       "\tPearson's product-moment correlation\n",
       "\n",
       "data:  deg_and_coxph$coxph_pval and deg_and_coxph$deg_padj\n",
       "t = -1.1776, df = 915, p-value = 0.2393\n",
       "alternative hypothesis: true correlation is not equal to 0\n",
       "95 percent confidence interval:\n",
       " -0.10338037  0.02590285\n",
       "sample estimates:\n",
       "        cor \n",
       "-0.03890156 \n"
      ]
     },
     "metadata": {},
     "output_type": "display_data"
    }
   ],
   "source": [
    "cor.test(deg_and_coxph$coxph_pval, deg_and_coxph$deg_padj)"
   ]
  },
  {
   "cell_type": "markdown",
   "metadata": {},
   "source": [
    "## What is the size of overlap?"
   ]
  },
  {
   "cell_type": "code",
   "execution_count": 40,
   "metadata": {},
   "outputs": [
    {
     "data": {
      "text/html": [
       "46"
      ],
      "text/latex": [
       "46"
      ],
      "text/markdown": [
       "46"
      ],
      "text/plain": [
       "[1] 46"
      ]
     },
     "metadata": {},
     "output_type": "display_data"
    }
   ],
   "source": [
    "nrow(deg_and_coxph %>%\n",
    "    dplyr::filter(coxph_pval < p_thresh, deg_padj < p_thresh, deg_l2fc > lfc_thresh))"
   ]
  },
  {
   "cell_type": "markdown",
   "metadata": {},
   "source": [
    "# MI and Cox"
   ]
  },
  {
   "cell_type": "code",
   "execution_count": 31,
   "metadata": {},
   "outputs": [
    {
     "data": {
      "text/html": [
       "1008"
      ],
      "text/latex": [
       "1008"
      ],
      "text/markdown": [
       "1008"
      ],
      "text/plain": [
       "[1] 1008"
      ]
     },
     "metadata": {},
     "output_type": "display_data"
    },
    {
     "data": {
      "text/html": [
       "<table>\n",
       "<caption>A tibble: 6 × 4</caption>\n",
       "<thead>\n",
       "\t<tr><th scope=col>geneID</th><th scope=col>coxph_pval</th><th scope=col>coxph_coeff</th><th scope=col>MI_est_median</th></tr>\n",
       "\t<tr><th scope=col>&lt;chr&gt;</th><th scope=col>&lt;dbl&gt;</th><th scope=col>&lt;dbl&gt;</th><th scope=col>&lt;dbl&gt;</th></tr>\n",
       "</thead>\n",
       "<tbody>\n",
       "\t<tr><td>PGF    </td><td>0.54425160</td><td> 0.062918777</td><td>0.0000000</td></tr>\n",
       "\t<tr><td>TIMP4  </td><td>0.21721965</td><td> 0.161809921</td><td>0.0000000</td></tr>\n",
       "\t<tr><td>C1QTNF6</td><td>0.01685799</td><td> 0.273679674</td><td>0.1079641</td></tr>\n",
       "\t<tr><td>TNC    </td><td>0.01755491</td><td> 0.181345111</td><td>0.0000000</td></tr>\n",
       "\t<tr><td>PRL    </td><td>0.20689399</td><td> 0.367487825</td><td>0.0000000</td></tr>\n",
       "\t<tr><td>OGN    </td><td>0.93805902</td><td>-0.008228786</td><td>0.0000000</td></tr>\n",
       "</tbody>\n",
       "</table>\n"
      ],
      "text/latex": [
       "A tibble: 6 × 4\n",
       "\\begin{tabular}{llll}\n",
       " geneID & coxph\\_pval & coxph\\_coeff & MI\\_est\\_median\\\\\n",
       " <chr> & <dbl> & <dbl> & <dbl>\\\\\n",
       "\\hline\n",
       "\t PGF     & 0.54425160 &  0.062918777 & 0.0000000\\\\\n",
       "\t TIMP4   & 0.21721965 &  0.161809921 & 0.0000000\\\\\n",
       "\t C1QTNF6 & 0.01685799 &  0.273679674 & 0.1079641\\\\\n",
       "\t TNC     & 0.01755491 &  0.181345111 & 0.0000000\\\\\n",
       "\t PRL     & 0.20689399 &  0.367487825 & 0.0000000\\\\\n",
       "\t OGN     & 0.93805902 & -0.008228786 & 0.0000000\\\\\n",
       "\\end{tabular}\n"
      ],
      "text/markdown": [
       "\n",
       "A tibble: 6 × 4\n",
       "\n",
       "| geneID &lt;chr&gt; | coxph_pval &lt;dbl&gt; | coxph_coeff &lt;dbl&gt; | MI_est_median &lt;dbl&gt; |\n",
       "|---|---|---|---|\n",
       "| PGF     | 0.54425160 |  0.062918777 | 0.0000000 |\n",
       "| TIMP4   | 0.21721965 |  0.161809921 | 0.0000000 |\n",
       "| C1QTNF6 | 0.01685799 |  0.273679674 | 0.1079641 |\n",
       "| TNC     | 0.01755491 |  0.181345111 | 0.0000000 |\n",
       "| PRL     | 0.20689399 |  0.367487825 | 0.0000000 |\n",
       "| OGN     | 0.93805902 | -0.008228786 | 0.0000000 |\n",
       "\n"
      ],
      "text/plain": [
       "  geneID  coxph_pval coxph_coeff  MI_est_median\n",
       "1 PGF     0.54425160  0.062918777 0.0000000    \n",
       "2 TIMP4   0.21721965  0.161809921 0.0000000    \n",
       "3 C1QTNF6 0.01685799  0.273679674 0.1079641    \n",
       "4 TNC     0.01755491  0.181345111 0.0000000    \n",
       "5 PRL     0.20689399  0.367487825 0.0000000    \n",
       "6 OGN     0.93805902 -0.008228786 0.0000000    "
      ]
     },
     "metadata": {},
     "output_type": "display_data"
    }
   ],
   "source": [
    "mi_and_coxph_df <- coxph_df %>%\n",
    "    inner_join(mi_df, by = \"geneID\")\n",
    "nrow(mi_and_coxph_df)\n",
    "head(mi_and_coxph_df)"
   ]
  },
  {
   "cell_type": "markdown",
   "metadata": {},
   "source": [
    "## All genes"
   ]
  },
  {
   "cell_type": "code",
   "execution_count": 32,
   "metadata": {},
   "outputs": [
    {
     "data": {
      "text/plain": [
       "\n",
       "\tPearson's product-moment correlation\n",
       "\n",
       "data:  mi_and_coxph_df$coxph_pval and mi_and_coxph_df$MI_est_median\n",
       "t = -1.9059, df = 1006, p-value = 0.05695\n",
       "alternative hypothesis: true correlation is not equal to 0\n",
       "95 percent confidence interval:\n",
       " -0.12127807  0.00177229\n",
       "sample estimates:\n",
       "        cor \n",
       "-0.05998076 \n"
      ]
     },
     "metadata": {},
     "output_type": "display_data"
    }
   ],
   "source": [
    "cor.test(mi_and_coxph_df$coxph_pval, mi_and_coxph_df$MI_est_median)"
   ]
  },
  {
   "cell_type": "markdown",
   "metadata": {},
   "source": [
    "# MI and correlation"
   ]
  },
  {
   "cell_type": "code",
   "execution_count": 35,
   "metadata": {},
   "outputs": [
    {
     "data": {
      "text/html": [
       "1008"
      ],
      "text/latex": [
       "1008"
      ],
      "text/markdown": [
       "1008"
      ],
      "text/plain": [
       "[1] 1008"
      ]
     },
     "metadata": {},
     "output_type": "display_data"
    },
    {
     "data": {
      "text/html": [
       "<table>\n",
       "<caption>A tibble: 6 × 5</caption>\n",
       "<thead>\n",
       "\t<tr><th scope=col>geneID</th><th scope=col>MI_est_median</th><th scope=col>cor_test_cor</th><th scope=col>cor_test_pval</th><th scope=col>cor_test_n</th></tr>\n",
       "\t<tr><th scope=col>&lt;chr&gt;</th><th scope=col>&lt;dbl&gt;</th><th scope=col>&lt;dbl&gt;</th><th scope=col>&lt;dbl&gt;</th><th scope=col>&lt;dbl&gt;</th></tr>\n",
       "</thead>\n",
       "<tbody>\n",
       "\t<tr><td>PGF    </td><td>0.0000000</td><td>-0.03267992</td><td>0.794485949</td><td>66</td></tr>\n",
       "\t<tr><td>TIMP4  </td><td>0.0000000</td><td>-0.11527481</td><td>0.356694904</td><td>66</td></tr>\n",
       "\t<tr><td>C1QTNF6</td><td>0.1079641</td><td>-0.32180744</td><td>0.008415805</td><td>66</td></tr>\n",
       "\t<tr><td>TNC    </td><td>0.0000000</td><td> 0.03475637</td><td>0.781741120</td><td>66</td></tr>\n",
       "\t<tr><td>PRL    </td><td>0.0000000</td><td>-0.10272623</td><td>0.411771043</td><td>66</td></tr>\n",
       "\t<tr><td>OGN    </td><td>0.0000000</td><td> 0.16283526</td><td>0.191436111</td><td>66</td></tr>\n",
       "</tbody>\n",
       "</table>\n"
      ],
      "text/latex": [
       "A tibble: 6 × 5\n",
       "\\begin{tabular}{lllll}\n",
       " geneID & MI\\_est\\_median & cor\\_test\\_cor & cor\\_test\\_pval & cor\\_test\\_n\\\\\n",
       " <chr> & <dbl> & <dbl> & <dbl> & <dbl>\\\\\n",
       "\\hline\n",
       "\t PGF     & 0.0000000 & -0.03267992 & 0.794485949 & 66\\\\\n",
       "\t TIMP4   & 0.0000000 & -0.11527481 & 0.356694904 & 66\\\\\n",
       "\t C1QTNF6 & 0.1079641 & -0.32180744 & 0.008415805 & 66\\\\\n",
       "\t TNC     & 0.0000000 &  0.03475637 & 0.781741120 & 66\\\\\n",
       "\t PRL     & 0.0000000 & -0.10272623 & 0.411771043 & 66\\\\\n",
       "\t OGN     & 0.0000000 &  0.16283526 & 0.191436111 & 66\\\\\n",
       "\\end{tabular}\n"
      ],
      "text/markdown": [
       "\n",
       "A tibble: 6 × 5\n",
       "\n",
       "| geneID &lt;chr&gt; | MI_est_median &lt;dbl&gt; | cor_test_cor &lt;dbl&gt; | cor_test_pval &lt;dbl&gt; | cor_test_n &lt;dbl&gt; |\n",
       "|---|---|---|---|---|\n",
       "| PGF     | 0.0000000 | -0.03267992 | 0.794485949 | 66 |\n",
       "| TIMP4   | 0.0000000 | -0.11527481 | 0.356694904 | 66 |\n",
       "| C1QTNF6 | 0.1079641 | -0.32180744 | 0.008415805 | 66 |\n",
       "| TNC     | 0.0000000 |  0.03475637 | 0.781741120 | 66 |\n",
       "| PRL     | 0.0000000 | -0.10272623 | 0.411771043 | 66 |\n",
       "| OGN     | 0.0000000 |  0.16283526 | 0.191436111 | 66 |\n",
       "\n"
      ],
      "text/plain": [
       "  geneID  MI_est_median cor_test_cor cor_test_pval cor_test_n\n",
       "1 PGF     0.0000000     -0.03267992  0.794485949   66        \n",
       "2 TIMP4   0.0000000     -0.11527481  0.356694904   66        \n",
       "3 C1QTNF6 0.1079641     -0.32180744  0.008415805   66        \n",
       "4 TNC     0.0000000      0.03475637  0.781741120   66        \n",
       "5 PRL     0.0000000     -0.10272623  0.411771043   66        \n",
       "6 OGN     0.0000000      0.16283526  0.191436111   66        "
      ]
     },
     "metadata": {},
     "output_type": "display_data"
    }
   ],
   "source": [
    "mi_and_cor_df <- mi_df %>%\n",
    "    inner_join(cor_df, by = \"geneID\")\n",
    "nrow(mi_and_cor_df)\n",
    "head(mi_and_cor_df)"
   ]
  },
  {
   "cell_type": "markdown",
   "metadata": {},
   "source": [
    "## All genes"
   ]
  },
  {
   "cell_type": "code",
   "execution_count": 16,
   "metadata": {},
   "outputs": [
    {
     "data": {
      "text/plain": [
       "\n",
       "\tPearson's product-moment correlation\n",
       "\n",
       "data:  mi_and_cor_df$MI_est_median and mi_and_cor_df$cor_test_pval\n",
       "t = -4.7528, df = 997, p-value = 2.301e-06\n",
       "alternative hypothesis: true correlation is not equal to 0\n",
       "95 percent confidence interval:\n",
       " -0.20894064 -0.08763035\n",
       "sample estimates:\n",
       "       cor \n",
       "-0.1488455 \n"
      ]
     },
     "metadata": {},
     "output_type": "display_data"
    }
   ],
   "source": [
    "cor.test(mi_and_cor_df$MI_est_median, mi_and_cor_df$cor_test_pval)"
   ]
  }
 ],
 "metadata": {
  "kernelspec": {
   "display_name": "R",
   "language": "R",
   "name": "ir"
  },
  "language_info": {
   "codemirror_mode": "r",
   "file_extension": ".r",
   "mimetype": "text/x-r-source",
   "name": "R",
   "pygments_lexer": "r",
   "version": "3.6.3"
  }
 },
 "nbformat": 4,
 "nbformat_minor": 4
}
