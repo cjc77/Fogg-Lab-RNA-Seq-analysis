{
 "cells": [
  {
   "cell_type": "code",
   "execution_count": 1,
   "metadata": {},
   "outputs": [
    {
     "name": "stderr",
     "output_type": "stream",
     "text": [
      "── Attaching packages ─────────────────────────────────────── tidyverse 1.3.0 ──\n",
      "✔ ggplot2 3.3.2     ✔ purrr   0.3.4\n",
      "✔ tibble  3.0.3     ✔ dplyr   1.0.0\n",
      "✔ tidyr   1.1.0     ✔ stringr 1.4.0\n",
      "✔ readr   1.3.1     ✔ forcats 0.5.0\n",
      "── Conflicts ────────────────────────────────────────── tidyverse_conflicts() ──\n",
      "✖ dplyr::filter() masks stats::filter()\n",
      "✖ dplyr::lag()    masks stats::lag()\n"
     ]
    }
   ],
   "source": [
    "library(tidyverse)\n",
    "\n",
    "# Custom package\n",
    "library(rutils)"
   ]
  },
  {
   "cell_type": "code",
   "execution_count": 2,
   "metadata": {},
   "outputs": [],
   "source": [
    "dirs <- rutils::get_dev_directories(dev_paths_file = \"../dev_paths.txt\")\n",
    "projects <- c(\"TCGA-CESC\", \"TCGA-UCS\", \"TCGA-UCEC\", \"TCGA-OV\")\n",
    "unified_dsets <- c(\"unified_cervical_data\", \"unified_uterine_data\", \"unified_uterine_endometrial_data\")\n",
    "matrisome_list <- paste0(dirs$data_dir, \"/matrisome/matrisome_hs_masterlist.tsv\")"
   ]
  },
  {
   "cell_type": "code",
   "execution_count": 3,
   "metadata": {},
   "outputs": [],
   "source": [
    "p_thresh = 0.05\n",
    "mi_thresh = 0\n",
    "lfc_thresh = log2(2)"
   ]
  },
  {
   "cell_type": "code",
   "execution_count": 4,
   "metadata": {},
   "outputs": [
    {
     "name": "stderr",
     "output_type": "stream",
     "text": [
      "Parsed with column specification:\n",
      "cols(\n",
      "  Division = col_character(),\n",
      "  Category = col_character(),\n",
      "  `Gene Symbol` = col_character(),\n",
      "  `Gene Name` = col_character(),\n",
      "  Synonyms = col_character(),\n",
      "  HGNC_IDs = col_double(),\n",
      "  `HGNC_IDs Links` = col_double(),\n",
      "  UniProt_IDs = col_character(),\n",
      "  Refseq_IDs = col_character(),\n",
      "  Orthology = col_character(),\n",
      "  Notes = col_character()\n",
      ")\n"
     ]
    }
   ],
   "source": [
    "matrisome_df <- rutils::load_matrisome_df(matrisome_list) %>%\n",
    "    dplyr::select(gene_symbol, division, category)"
   ]
  },
  {
   "cell_type": "code",
   "execution_count": 5,
   "metadata": {},
   "outputs": [],
   "source": [
    "i <- 1"
   ]
  },
  {
   "cell_type": "code",
   "execution_count": 14,
   "metadata": {},
   "outputs": [
    {
     "name": "stderr",
     "output_type": "stream",
     "text": [
      "Parsed with column specification:\n",
      "cols(\n",
      "  geneID = col_character(),\n",
      "  gene_pval = col_double(),\n",
      "  gene_coeff = col_double()\n",
      ")\n",
      "Parsed with column specification:\n",
      "cols(\n",
      "  geneID = col_character(),\n",
      "  baseMean = col_double(),\n",
      "  log2FoldChange = col_double(),\n",
      "  lfcSE = col_double(),\n",
      "  stat = col_double(),\n",
      "  pvalue = col_double(),\n",
      "  padj = col_double()\n",
      ")\n"
     ]
    }
   ],
   "source": [
    "coxph_df <- read_tsv(paste0(dirs$analysis_dir, \"/\", unified_dsets[i], \"_coxph_results.tsv\")) %>%\n",
    "    dplyr::rename(coxph_pval = gene_pval, coxph_coeff = gene_coeff)\n",
    "deg_df <- read_tsv(paste0(dirs$analysis_dir, \"/\", unified_dsets[i], \"_DESeq_results.tsv\")) %>%\n",
    "    dplyr::filter(geneID %in% matrisome_df$gene_symbol) %>%\n",
    "    dplyr::select(geneID, log2FoldChange, padj) %>%\n",
    "    dplyr::rename(deg_l2fc = log2FoldChange, deg_padj = padj)"
   ]
  },
  {
   "cell_type": "code",
   "execution_count": 19,
   "metadata": {},
   "outputs": [
    {
     "data": {
      "text/html": [
       "917"
      ],
      "text/latex": [
       "917"
      ],
      "text/markdown": [
       "917"
      ],
      "text/plain": [
       "[1] 917"
      ]
     },
     "metadata": {},
     "output_type": "display_data"
    },
    {
     "data": {
      "text/html": [
       "<table>\n",
       "<caption>A tibble: 6 × 5</caption>\n",
       "<thead>\n",
       "\t<tr><th scope=col>geneID</th><th scope=col>coxph_pval</th><th scope=col>coxph_coeff</th><th scope=col>deg_l2fc</th><th scope=col>deg_padj</th></tr>\n",
       "\t<tr><th scope=col>&lt;chr&gt;</th><th scope=col>&lt;dbl&gt;</th><th scope=col>&lt;dbl&gt;</th><th scope=col>&lt;dbl&gt;</th><th scope=col>&lt;dbl&gt;</th></tr>\n",
       "</thead>\n",
       "<tbody>\n",
       "\t<tr><td>PGF    </td><td>0.8071582</td><td>-0.03116842</td><td>-0.00558361</td><td>9.919896e-01</td></tr>\n",
       "\t<tr><td>TIMP4  </td><td>0.2748115</td><td> 0.16072631</td><td>-4.45396269</td><td>5.769052e-12</td></tr>\n",
       "\t<tr><td>C1QTNF6</td><td>0.0280016</td><td> 0.29687324</td><td> 0.46855664</td><td>2.090489e-01</td></tr>\n",
       "\t<tr><td>TNC    </td><td>0.1069040</td><td> 0.14709662</td><td> 0.43931731</td><td>4.140684e-01</td></tr>\n",
       "\t<tr><td>PRL    </td><td>0.7570963</td><td> 0.12384552</td><td>-3.27230838</td><td>1.246596e-03</td></tr>\n",
       "\t<tr><td>OGN    </td><td>0.8446160</td><td> 0.02494448</td><td>-6.39269858</td><td>3.630674e-16</td></tr>\n",
       "</tbody>\n",
       "</table>\n"
      ],
      "text/latex": [
       "A tibble: 6 × 5\n",
       "\\begin{tabular}{lllll}\n",
       " geneID & coxph\\_pval & coxph\\_coeff & deg\\_l2fc & deg\\_padj\\\\\n",
       " <chr> & <dbl> & <dbl> & <dbl> & <dbl>\\\\\n",
       "\\hline\n",
       "\t PGF     & 0.8071582 & -0.03116842 & -0.00558361 & 9.919896e-01\\\\\n",
       "\t TIMP4   & 0.2748115 &  0.16072631 & -4.45396269 & 5.769052e-12\\\\\n",
       "\t C1QTNF6 & 0.0280016 &  0.29687324 &  0.46855664 & 2.090489e-01\\\\\n",
       "\t TNC     & 0.1069040 &  0.14709662 &  0.43931731 & 4.140684e-01\\\\\n",
       "\t PRL     & 0.7570963 &  0.12384552 & -3.27230838 & 1.246596e-03\\\\\n",
       "\t OGN     & 0.8446160 &  0.02494448 & -6.39269858 & 3.630674e-16\\\\\n",
       "\\end{tabular}\n"
      ],
      "text/markdown": [
       "\n",
       "A tibble: 6 × 5\n",
       "\n",
       "| geneID &lt;chr&gt; | coxph_pval &lt;dbl&gt; | coxph_coeff &lt;dbl&gt; | deg_l2fc &lt;dbl&gt; | deg_padj &lt;dbl&gt; |\n",
       "|---|---|---|---|---|\n",
       "| PGF     | 0.8071582 | -0.03116842 | -0.00558361 | 9.919896e-01 |\n",
       "| TIMP4   | 0.2748115 |  0.16072631 | -4.45396269 | 5.769052e-12 |\n",
       "| C1QTNF6 | 0.0280016 |  0.29687324 |  0.46855664 | 2.090489e-01 |\n",
       "| TNC     | 0.1069040 |  0.14709662 |  0.43931731 | 4.140684e-01 |\n",
       "| PRL     | 0.7570963 |  0.12384552 | -3.27230838 | 1.246596e-03 |\n",
       "| OGN     | 0.8446160 |  0.02494448 | -6.39269858 | 3.630674e-16 |\n",
       "\n"
      ],
      "text/plain": [
       "  geneID  coxph_pval coxph_coeff deg_l2fc    deg_padj    \n",
       "1 PGF     0.8071582  -0.03116842 -0.00558361 9.919896e-01\n",
       "2 TIMP4   0.2748115   0.16072631 -4.45396269 5.769052e-12\n",
       "3 C1QTNF6 0.0280016   0.29687324  0.46855664 2.090489e-01\n",
       "4 TNC     0.1069040   0.14709662  0.43931731 4.140684e-01\n",
       "5 PRL     0.7570963   0.12384552 -3.27230838 1.246596e-03\n",
       "6 OGN     0.8446160   0.02494448 -6.39269858 3.630674e-16"
      ]
     },
     "metadata": {},
     "output_type": "display_data"
    }
   ],
   "source": [
    "combined_df <- coxph_df %>%\n",
    "    inner_join(deg_df, by = \"geneID\")\n",
    "nrow(combined_df)\n",
    "head(combined_df)"
   ]
  },
  {
   "cell_type": "code",
   "execution_count": 20,
   "metadata": {},
   "outputs": [
    {
     "data": {
      "text/plain": [
       "\n",
       "\tPearson's product-moment correlation\n",
       "\n",
       "data:  combined_df$coxph_pval and combined_df$deg_padj\n",
       "t = -1.7212, df = 915, p-value = 0.08556\n",
       "alternative hypothesis: true correlation is not equal to 0\n",
       "95 percent confidence interval:\n",
       " -0.121102417  0.007959822\n",
       "sample estimates:\n",
       "        cor \n",
       "-0.05680863 \n"
      ]
     },
     "metadata": {},
     "output_type": "display_data"
    }
   ],
   "source": [
    "cor.test(combined_df$coxph_pval, combined_df$deg_padj)"
   ]
  },
  {
   "cell_type": "code",
   "execution_count": null,
   "metadata": {},
   "outputs": [],
   "source": []
  }
 ],
 "metadata": {
  "kernelspec": {
   "display_name": "R",
   "language": "R",
   "name": "ir"
  },
  "language_info": {
   "codemirror_mode": "r",
   "file_extension": ".r",
   "mimetype": "text/x-r-source",
   "name": "R",
   "pygments_lexer": "r",
   "version": "3.6.3"
  }
 },
 "nbformat": 4,
 "nbformat_minor": 4
}
