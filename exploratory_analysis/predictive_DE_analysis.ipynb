{
 "cells": [
  {
   "cell_type": "code",
   "execution_count": 1,
   "metadata": {},
   "outputs": [
    {
     "name": "stderr",
     "output_type": "stream",
     "text": [
      "── Attaching packages ─────────────────────────────────────── tidyverse 1.3.0 ──\n",
      "✔ ggplot2 3.3.2     ✔ purrr   0.3.4\n",
      "✔ tibble  3.0.3     ✔ dplyr   1.0.0\n",
      "✔ tidyr   1.1.0     ✔ stringr 1.4.0\n",
      "✔ readr   1.3.1     ✔ forcats 0.5.0\n",
      "── Conflicts ────────────────────────────────────────── tidyverse_conflicts() ──\n",
      "✖ dplyr::filter() masks stats::filter()\n",
      "✖ dplyr::lag()    masks stats::lag()\n"
     ]
    }
   ],
   "source": [
    "library(tidyverse)\n",
    "\n",
    "# Custom package\n",
    "library(rutils)"
   ]
  },
  {
   "cell_type": "code",
   "execution_count": 2,
   "metadata": {},
   "outputs": [],
   "source": [
    "dirs <- rutils::get_dev_directories(dev_paths_file = \"../dev_paths.txt\")\n",
    "projects <- c(\"TCGA-CESC\", \"TCGA-UCS\", \"TCGA-UCEC\", \"TCGA-OV\")\n",
    "unified_dsets <- c(\"unified_cervical_data\", \"unified_uterine_data\", \"unified_uterine_endometrial_data\")\n",
    "matrisome_list <- paste0(dirs$data_dir, \"/matrisome/matrisome_hs_masterlist.tsv\")"
   ]
  },
  {
   "cell_type": "code",
   "execution_count": 3,
   "metadata": {},
   "outputs": [],
   "source": [
    "p_thresh = 0.05\n",
    "mi_thresh = 0\n",
    "lfc_thresh = log2(2)"
   ]
  },
  {
   "cell_type": "code",
   "execution_count": 4,
   "metadata": {},
   "outputs": [
    {
     "name": "stderr",
     "output_type": "stream",
     "text": [
      "Parsed with column specification:\n",
      "cols(\n",
      "  Division = col_character(),\n",
      "  Category = col_character(),\n",
      "  `Gene Symbol` = col_character(),\n",
      "  `Gene Name` = col_character(),\n",
      "  Synonyms = col_character(),\n",
      "  HGNC_IDs = col_double(),\n",
      "  `HGNC_IDs Links` = col_double(),\n",
      "  UniProt_IDs = col_character(),\n",
      "  Refseq_IDs = col_character(),\n",
      "  Orthology = col_character(),\n",
      "  Notes = col_character()\n",
      ")\n"
     ]
    }
   ],
   "source": [
    "matrisome_df <- rutils::load_matrisome_df(matrisome_list) %>%\n",
    "    dplyr::select(gene_symbol, division, category)"
   ]
  },
  {
   "cell_type": "code",
   "execution_count": 5,
   "metadata": {},
   "outputs": [],
   "source": [
    "i <- 1"
   ]
  },
  {
   "cell_type": "code",
   "execution_count": 6,
   "metadata": {},
   "outputs": [
    {
     "name": "stderr",
     "output_type": "stream",
     "text": [
      "Parsed with column specification:\n",
      "cols(\n",
      "  geneID = col_character(),\n",
      "  gene_pval = col_double(),\n",
      "  gene_coeff = col_double()\n",
      ")\n",
      "Parsed with column specification:\n",
      "cols(\n",
      "  geneID = col_character(),\n",
      "  baseMean = col_double(),\n",
      "  log2FoldChange = col_double(),\n",
      "  lfcSE = col_double(),\n",
      "  stat = col_double(),\n",
      "  pvalue = col_double(),\n",
      "  padj = col_double()\n",
      ")\n",
      "Parsed with column specification:\n",
      "cols(\n",
      "  geneID = col_character(),\n",
      "  MI_est_median = col_double()\n",
      ")\n"
     ]
    }
   ],
   "source": [
    "coxph_df <- read_tsv(paste0(dirs$analysis_dir, \"/\", unified_dsets[i], \"_coxph_results.tsv\")) %>%\n",
    "    dplyr::rename(coxph_pval = gene_pval, coxph_coeff = gene_coeff)\n",
    "deg_df <- read_tsv(paste0(dirs$analysis_dir, \"/\", unified_dsets[i], \"_DESeq_results.tsv\")) %>%\n",
    "    dplyr::filter(geneID %in% matrisome_df$gene_symbol) %>%\n",
    "    dplyr::select(geneID, log2FoldChange, padj) %>%\n",
    "    dplyr::rename(deg_l2fc = log2FoldChange, deg_padj = padj)\n",
    "mi_df <- read_tsv(paste0(dirs$analysis_dir, \"/\", unified_dsets[i], \"_MI_survival_results.tsv\"))"
   ]
  },
  {
   "cell_type": "markdown",
   "metadata": {},
   "source": [
    "# DE and Cox"
   ]
  },
  {
   "cell_type": "code",
   "execution_count": 7,
   "metadata": {},
   "outputs": [
    {
     "data": {
      "text/html": [
       "917"
      ],
      "text/latex": [
       "917"
      ],
      "text/markdown": [
       "917"
      ],
      "text/plain": [
       "[1] 917"
      ]
     },
     "metadata": {},
     "output_type": "display_data"
    },
    {
     "data": {
      "text/html": [
       "<table>\n",
       "<caption>A tibble: 6 × 5</caption>\n",
       "<thead>\n",
       "\t<tr><th scope=col>geneID</th><th scope=col>coxph_pval</th><th scope=col>coxph_coeff</th><th scope=col>deg_l2fc</th><th scope=col>deg_padj</th></tr>\n",
       "\t<tr><th scope=col>&lt;chr&gt;</th><th scope=col>&lt;dbl&gt;</th><th scope=col>&lt;dbl&gt;</th><th scope=col>&lt;dbl&gt;</th><th scope=col>&lt;dbl&gt;</th></tr>\n",
       "</thead>\n",
       "<tbody>\n",
       "\t<tr><td>PGF    </td><td>0.8071582</td><td>-0.03116842</td><td>-0.00558361</td><td>9.919896e-01</td></tr>\n",
       "\t<tr><td>TIMP4  </td><td>0.2748115</td><td> 0.16072631</td><td>-4.45396269</td><td>5.769052e-12</td></tr>\n",
       "\t<tr><td>C1QTNF6</td><td>0.0280016</td><td> 0.29687324</td><td> 0.46855664</td><td>2.090489e-01</td></tr>\n",
       "\t<tr><td>TNC    </td><td>0.1069040</td><td> 0.14709662</td><td> 0.43931731</td><td>4.140684e-01</td></tr>\n",
       "\t<tr><td>PRL    </td><td>0.7570963</td><td> 0.12384552</td><td>-3.27230838</td><td>1.246596e-03</td></tr>\n",
       "\t<tr><td>OGN    </td><td>0.8446160</td><td> 0.02494448</td><td>-6.39269858</td><td>3.630674e-16</td></tr>\n",
       "</tbody>\n",
       "</table>\n"
      ],
      "text/latex": [
       "A tibble: 6 × 5\n",
       "\\begin{tabular}{lllll}\n",
       " geneID & coxph\\_pval & coxph\\_coeff & deg\\_l2fc & deg\\_padj\\\\\n",
       " <chr> & <dbl> & <dbl> & <dbl> & <dbl>\\\\\n",
       "\\hline\n",
       "\t PGF     & 0.8071582 & -0.03116842 & -0.00558361 & 9.919896e-01\\\\\n",
       "\t TIMP4   & 0.2748115 &  0.16072631 & -4.45396269 & 5.769052e-12\\\\\n",
       "\t C1QTNF6 & 0.0280016 &  0.29687324 &  0.46855664 & 2.090489e-01\\\\\n",
       "\t TNC     & 0.1069040 &  0.14709662 &  0.43931731 & 4.140684e-01\\\\\n",
       "\t PRL     & 0.7570963 &  0.12384552 & -3.27230838 & 1.246596e-03\\\\\n",
       "\t OGN     & 0.8446160 &  0.02494448 & -6.39269858 & 3.630674e-16\\\\\n",
       "\\end{tabular}\n"
      ],
      "text/markdown": [
       "\n",
       "A tibble: 6 × 5\n",
       "\n",
       "| geneID &lt;chr&gt; | coxph_pval &lt;dbl&gt; | coxph_coeff &lt;dbl&gt; | deg_l2fc &lt;dbl&gt; | deg_padj &lt;dbl&gt; |\n",
       "|---|---|---|---|---|\n",
       "| PGF     | 0.8071582 | -0.03116842 | -0.00558361 | 9.919896e-01 |\n",
       "| TIMP4   | 0.2748115 |  0.16072631 | -4.45396269 | 5.769052e-12 |\n",
       "| C1QTNF6 | 0.0280016 |  0.29687324 |  0.46855664 | 2.090489e-01 |\n",
       "| TNC     | 0.1069040 |  0.14709662 |  0.43931731 | 4.140684e-01 |\n",
       "| PRL     | 0.7570963 |  0.12384552 | -3.27230838 | 1.246596e-03 |\n",
       "| OGN     | 0.8446160 |  0.02494448 | -6.39269858 | 3.630674e-16 |\n",
       "\n"
      ],
      "text/plain": [
       "  geneID  coxph_pval coxph_coeff deg_l2fc    deg_padj    \n",
       "1 PGF     0.8071582  -0.03116842 -0.00558361 9.919896e-01\n",
       "2 TIMP4   0.2748115   0.16072631 -4.45396269 5.769052e-12\n",
       "3 C1QTNF6 0.0280016   0.29687324  0.46855664 2.090489e-01\n",
       "4 TNC     0.1069040   0.14709662  0.43931731 4.140684e-01\n",
       "5 PRL     0.7570963   0.12384552 -3.27230838 1.246596e-03\n",
       "6 OGN     0.8446160   0.02494448 -6.39269858 3.630674e-16"
      ]
     },
     "metadata": {},
     "output_type": "display_data"
    }
   ],
   "source": [
    "deg_and_coxph <- coxph_df %>%\n",
    "    inner_join(deg_df, by = \"geneID\")\n",
    "nrow(deg_and_coxph)\n",
    "head(deg_and_coxph)"
   ]
  },
  {
   "cell_type": "markdown",
   "metadata": {},
   "source": [
    "## All genes (that are present in both - DESeq2 filters out lowly expressed genes)"
   ]
  },
  {
   "cell_type": "code",
   "execution_count": 8,
   "metadata": {},
   "outputs": [
    {
     "data": {
      "text/plain": [
       "\n",
       "\tPearson's product-moment correlation\n",
       "\n",
       "data:  deg_and_coxph$coxph_pval and deg_and_coxph$deg_padj\n",
       "t = -1.7212, df = 915, p-value = 0.08556\n",
       "alternative hypothesis: true correlation is not equal to 0\n",
       "95 percent confidence interval:\n",
       " -0.121102417  0.007959822\n",
       "sample estimates:\n",
       "        cor \n",
       "-0.05680863 \n"
      ]
     },
     "metadata": {},
     "output_type": "display_data"
    }
   ],
   "source": [
    "cor.test(deg_and_coxph$coxph_pval, deg_and_coxph$deg_padj)"
   ]
  },
  {
   "cell_type": "markdown",
   "metadata": {},
   "source": [
    "## Genes that are significant in DE & Cox PH"
   ]
  },
  {
   "cell_type": "code",
   "execution_count": 9,
   "metadata": {},
   "outputs": [],
   "source": [
    "sig_deg_and_coxph_df <- deg_and_coxph %>%\n",
    "    dplyr::filter(coxph_pval < p_thresh, deg_padj < p_thresh, deg_l2fc > lfc_thresh)"
   ]
  },
  {
   "cell_type": "code",
   "execution_count": 10,
   "metadata": {},
   "outputs": [
    {
     "data": {
      "text/plain": [
       "\n",
       "\tPearson's product-moment correlation\n",
       "\n",
       "data:  sig_deg_and_coxph_df$coxph_pval and sig_deg_and_coxph_df$deg_padj\n",
       "t = 0.6029, df = 38, p-value = 0.5502\n",
       "alternative hypothesis: true correlation is not equal to 0\n",
       "95 percent confidence interval:\n",
       " -0.2208678  0.3968158\n",
       "sample estimates:\n",
       "      cor \n",
       "0.0973387 \n"
      ]
     },
     "metadata": {},
     "output_type": "display_data"
    }
   ],
   "source": [
    "cor.test(sig_deg_and_coxph_df$coxph_pval, sig_deg_and_coxph_df$deg_padj)"
   ]
  },
  {
   "cell_type": "markdown",
   "metadata": {},
   "source": [
    "# MI and Cox"
   ]
  },
  {
   "cell_type": "code",
   "execution_count": 11,
   "metadata": {},
   "outputs": [
    {
     "data": {
      "text/html": [
       "1008"
      ],
      "text/latex": [
       "1008"
      ],
      "text/markdown": [
       "1008"
      ],
      "text/plain": [
       "[1] 1008"
      ]
     },
     "metadata": {},
     "output_type": "display_data"
    },
    {
     "data": {
      "text/html": [
       "<table>\n",
       "<caption>A tibble: 6 × 4</caption>\n",
       "<thead>\n",
       "\t<tr><th scope=col>geneID</th><th scope=col>coxph_pval</th><th scope=col>coxph_coeff</th><th scope=col>MI_est_median</th></tr>\n",
       "\t<tr><th scope=col>&lt;chr&gt;</th><th scope=col>&lt;dbl&gt;</th><th scope=col>&lt;dbl&gt;</th><th scope=col>&lt;dbl&gt;</th></tr>\n",
       "</thead>\n",
       "<tbody>\n",
       "\t<tr><td>PGF    </td><td>0.8071582</td><td>-0.03116842</td><td>0.0000000</td></tr>\n",
       "\t<tr><td>TIMP4  </td><td>0.2748115</td><td> 0.16072631</td><td>0.0000000</td></tr>\n",
       "\t<tr><td>C1QTNF6</td><td>0.0280016</td><td> 0.29687324</td><td>0.1079641</td></tr>\n",
       "\t<tr><td>TNC    </td><td>0.1069040</td><td> 0.14709662</td><td>0.0000000</td></tr>\n",
       "\t<tr><td>PRL    </td><td>0.7570963</td><td> 0.12384552</td><td>0.0000000</td></tr>\n",
       "\t<tr><td>OGN    </td><td>0.8446160</td><td> 0.02494448</td><td>0.0000000</td></tr>\n",
       "</tbody>\n",
       "</table>\n"
      ],
      "text/latex": [
       "A tibble: 6 × 4\n",
       "\\begin{tabular}{llll}\n",
       " geneID & coxph\\_pval & coxph\\_coeff & MI\\_est\\_median\\\\\n",
       " <chr> & <dbl> & <dbl> & <dbl>\\\\\n",
       "\\hline\n",
       "\t PGF     & 0.8071582 & -0.03116842 & 0.0000000\\\\\n",
       "\t TIMP4   & 0.2748115 &  0.16072631 & 0.0000000\\\\\n",
       "\t C1QTNF6 & 0.0280016 &  0.29687324 & 0.1079641\\\\\n",
       "\t TNC     & 0.1069040 &  0.14709662 & 0.0000000\\\\\n",
       "\t PRL     & 0.7570963 &  0.12384552 & 0.0000000\\\\\n",
       "\t OGN     & 0.8446160 &  0.02494448 & 0.0000000\\\\\n",
       "\\end{tabular}\n"
      ],
      "text/markdown": [
       "\n",
       "A tibble: 6 × 4\n",
       "\n",
       "| geneID &lt;chr&gt; | coxph_pval &lt;dbl&gt; | coxph_coeff &lt;dbl&gt; | MI_est_median &lt;dbl&gt; |\n",
       "|---|---|---|---|\n",
       "| PGF     | 0.8071582 | -0.03116842 | 0.0000000 |\n",
       "| TIMP4   | 0.2748115 |  0.16072631 | 0.0000000 |\n",
       "| C1QTNF6 | 0.0280016 |  0.29687324 | 0.1079641 |\n",
       "| TNC     | 0.1069040 |  0.14709662 | 0.0000000 |\n",
       "| PRL     | 0.7570963 |  0.12384552 | 0.0000000 |\n",
       "| OGN     | 0.8446160 |  0.02494448 | 0.0000000 |\n",
       "\n"
      ],
      "text/plain": [
       "  geneID  coxph_pval coxph_coeff MI_est_median\n",
       "1 PGF     0.8071582  -0.03116842 0.0000000    \n",
       "2 TIMP4   0.2748115   0.16072631 0.0000000    \n",
       "3 C1QTNF6 0.0280016   0.29687324 0.1079641    \n",
       "4 TNC     0.1069040   0.14709662 0.0000000    \n",
       "5 PRL     0.7570963   0.12384552 0.0000000    \n",
       "6 OGN     0.8446160   0.02494448 0.0000000    "
      ]
     },
     "metadata": {},
     "output_type": "display_data"
    }
   ],
   "source": [
    "mi_and_coxph_df <- coxph_df %>%\n",
    "    inner_join(mi_df, by = \"geneID\")\n",
    "nrow(mi_and_coxph_df)\n",
    "head(mi_and_coxph_df)"
   ]
  },
  {
   "cell_type": "markdown",
   "metadata": {},
   "source": [
    "## All genes"
   ]
  },
  {
   "cell_type": "code",
   "execution_count": 12,
   "metadata": {},
   "outputs": [
    {
     "data": {
      "text/plain": [
       "\n",
       "\tPearson's product-moment correlation\n",
       "\n",
       "data:  mi_and_coxph_df$coxph_pval and mi_and_coxph_df$MI_est_median\n",
       "t = -0.55394, df = 1006, p-value = 0.5797\n",
       "alternative hypothesis: true correlation is not equal to 0\n",
       "95 percent confidence interval:\n",
       " -0.07912319  0.04433226\n",
       "sample estimates:\n",
       "        cor \n",
       "-0.01746203 \n"
      ]
     },
     "metadata": {},
     "output_type": "display_data"
    }
   ],
   "source": [
    "cor.test(mi_and_coxph_df$coxph_pval, mi_and_coxph_df$MI_est_median)"
   ]
  },
  {
   "cell_type": "markdown",
   "metadata": {},
   "source": [
    "## Genes that have MI & are sig in Cox PH"
   ]
  },
  {
   "cell_type": "code",
   "execution_count": 13,
   "metadata": {},
   "outputs": [],
   "source": [
    "sig_mi_and_coxph <- mi_and_coxph_df %>%\n",
    "    dplyr::filter(coxph_pval < p_thresh, MI_est_median > mi_thresh)"
   ]
  },
  {
   "cell_type": "code",
   "execution_count": 14,
   "metadata": {},
   "outputs": [
    {
     "data": {
      "text/plain": [
       "\n",
       "\tPearson's product-moment correlation\n",
       "\n",
       "data:  sig_mi_and_coxph$coxph_pval and sig_mi_and_coxph$MI_est_median\n",
       "t = -1.6311, df = 67, p-value = 0.1076\n",
       "alternative hypothesis: true correlation is not equal to 0\n",
       "95 percent confidence interval:\n",
       " -0.4130018  0.0432578\n",
       "sample estimates:\n",
       "       cor \n",
       "-0.1954237 \n"
      ]
     },
     "metadata": {},
     "output_type": "display_data"
    }
   ],
   "source": [
    "cor.test(sig_mi_and_coxph$coxph_pval,sig_mi_and_coxph$MI_est_median)"
   ]
  }
 ],
 "metadata": {
  "kernelspec": {
   "display_name": "R",
   "language": "R",
   "name": "ir"
  },
  "language_info": {
   "codemirror_mode": "r",
   "file_extension": ".r",
   "mimetype": "text/x-r-source",
   "name": "R",
   "pygments_lexer": "r",
   "version": "3.6.3"
  }
 },
 "nbformat": 4,
 "nbformat_minor": 4
}
