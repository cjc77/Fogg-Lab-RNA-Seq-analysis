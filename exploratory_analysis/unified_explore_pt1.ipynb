{
 "cells": [
  {
   "cell_type": "code",
   "execution_count": 29,
   "metadata": {},
   "outputs": [],
   "source": [
    "library(tidyverse)\n",
    "library(umap)\n",
    "\n",
    "# Custom package\n",
    "library(rutils)"
   ]
  },
  {
   "cell_type": "code",
   "execution_count": 30,
   "metadata": {},
   "outputs": [],
   "source": [
    "dirs <- rutils::get_dev_directories(dev_paths_file = \"../dev_paths.txt\")\n",
    "projects <- c(\"TCGA-CESC\", \"TCGA-UCS\", \"TCGA-UCEC\", \"TCGA-OV\")\n",
    "unified_dsets <- c(\"unified_cervical_data\", \"unified_uterine_data\", \"unified_uterine_endometrial_data\")\n",
    "matrisome_path <- paste0(dirs$data_dir, \"/matrisome/matrisome_hs_masterlist.tsv\")"
   ]
  },
  {
   "cell_type": "code",
   "execution_count": 31,
   "metadata": {},
   "outputs": [],
   "source": [
    "dset_idx <- 2"
   ]
  },
  {
   "cell_type": "code",
   "execution_count": 32,
   "metadata": {},
   "outputs": [
    {
     "name": "stderr",
     "output_type": "stream",
     "text": [
      "Parsed with column specification:\n",
      "cols(\n",
      "  Division = col_character(),\n",
      "  Category = col_character(),\n",
      "  `Gene Symbol` = col_character(),\n",
      "  `Gene Name` = col_character(),\n",
      "  Synonyms = col_character(),\n",
      "  HGNC_IDs = col_double(),\n",
      "  `HGNC_IDs Links` = col_double(),\n",
      "  UniProt_IDs = col_character(),\n",
      "  Refseq_IDs = col_character(),\n",
      "  Orthology = col_character(),\n",
      "  Notes = col_character()\n",
      ")\n"
     ]
    }
   ],
   "source": [
    "matrisome_df <- load_matrisome_df(matrisome_path)"
   ]
  },
  {
   "cell_type": "code",
   "execution_count": 33,
   "metadata": {},
   "outputs": [],
   "source": [
    "seed = 123"
   ]
  },
  {
   "cell_type": "markdown",
   "metadata": {},
   "source": [
    "# Load and filter survival data"
   ]
  },
  {
   "cell_type": "code",
   "execution_count": 34,
   "metadata": {},
   "outputs": [],
   "source": [
    "event_code <- list(\"Alive\" = 0, \"Dead\" = 1)\n",
    "covariate_cols <- c(\"figo_stage\", \"age_at_diagnosis\", \"race\", \"ethnicity\")\n",
    "dep_cols <- c(\"vital_status\", \"survival_time\")\n",
    "figo_map_df <- tibble(\n",
    "    roman_num = c(\"I\", \"II\", \"III\", \"IV\"),\n",
    "    figo_code = c('1', '2', '3', '4')\n",
    ")"
   ]
  },
  {
   "cell_type": "code",
   "execution_count": 35,
   "metadata": {},
   "outputs": [
    {
     "name": "stderr",
     "output_type": "stream",
     "text": [
      "Parsed with column specification:\n",
      "cols(\n",
      "  sample_name = col_character(),\n",
      "  vital_status = col_character(),\n",
      "  survival_time = col_double(),\n",
      "  figo_stage = col_character(),\n",
      "  days_to_last_follow_up = col_double(),\n",
      "  days_to_death = col_double(),\n",
      "  age_at_diagnosis = col_double(),\n",
      "  age_at_index = col_double(),\n",
      "  height = col_double(),\n",
      "  weight = col_double(),\n",
      "  bmi = col_double(),\n",
      "  race = col_character(),\n",
      "  ethnicity = col_character()\n",
      ")\n"
     ]
    }
   ],
   "source": [
    "# survival_df <- read_tsv(paste0(dirs$data_dir, \"/\", unified_dsets[i], \"/survival_data.tsv\"))\n",
    "survival_path <- paste0(dirs$data_dir, \"/\", unified_dsets[dset_idx], \"/survival_data.tsv\")\n",
    "survival_df <- load_survival_df(survival_path, event_code)\n",
    "filtered_survival_df <- survival_df %>%\n",
    "    dplyr::select(one_of(c(\"sample_name\", dep_cols, covariate_cols))) %>%\n",
    "    dplyr::filter(rowSums(is.na(.)) == 0) %>%\n",
    "    dplyr::mutate(\n",
    "        figo_rn = str_extract(figo_stage, \"IV|III|II|I\")\n",
    "    ) %>%\n",
    "    dplyr::inner_join(figo_map_df, by = c(\"figo_rn\" = \"roman_num\")) %>%\n",
    "    dplyr::select(-c(figo_rn, figo_stage)) %>%\n",
    "    dplyr::rename(figo_stage = figo_code) %>%\n",
    "    bind_cols(to_one_hot(., \"race\")) %>%\n",
    "    bind_cols(to_one_hot(., \"ethnicity\")) %>%\n",
    "    bind_cols(to_one_hot(., \"figo_stage\"))"
   ]
  },
  {
   "cell_type": "markdown",
   "metadata": {},
   "source": [
    "# Load normalized matrisome count data"
   ]
  },
  {
   "cell_type": "code",
   "execution_count": 36,
   "metadata": {},
   "outputs": [
    {
     "name": "stderr",
     "output_type": "stream",
     "text": [
      "Parsed with column specification:\n",
      "cols(\n",
      "  .default = col_double(),\n",
      "  geneID = col_character()\n",
      ")\n",
      "See spec(...) for full column specifications.\n"
     ]
    }
   ],
   "source": [
    "norm_matrisome_counts <- read_tsv(paste0(dirs$data_dir, \"/\", unified_dsets[dset_idx], \"/norm_matrisome_counts.tsv\")) %>%\n",
    "    column_to_rownames(var = \"geneID\") %>%\n",
    "    as.matrix()\n",
    "\n",
    "# Match up columns of counts with rows of survival data & only include samples present in survival data\n",
    "norm_matrisome_survival_counts <- norm_matrisome_counts[, filtered_survival_df$sample_name]"
   ]
  },
  {
   "cell_type": "code",
   "execution_count": 37,
   "metadata": {},
   "outputs": [
    {
     "data": {
      "text/html": [
       "TRUE"
      ],
      "text/latex": [
       "TRUE"
      ],
      "text/markdown": [
       "TRUE"
      ],
      "text/plain": [
       "[1] TRUE"
      ]
     },
     "metadata": {},
     "output_type": "display_data"
    }
   ],
   "source": [
    "all(rownames(t(norm_matrisome_survival_counts)) == filtered_survival_df$sample_name)"
   ]
  },
  {
   "cell_type": "markdown",
   "metadata": {},
   "source": [
    "# Load normalized count data (for all genes)"
   ]
  },
  {
   "cell_type": "code",
   "execution_count": 38,
   "metadata": {},
   "outputs": [
    {
     "name": "stderr",
     "output_type": "stream",
     "text": [
      "Parsed with column specification:\n",
      "cols(\n",
      "  .default = col_double(),\n",
      "  geneID = col_character()\n",
      ")\n",
      "See spec(...) for full column specifications.\n"
     ]
    }
   ],
   "source": [
    "norm_counts <- read_tsv(paste0(dirs$data_dir, \"/\", unified_dsets[dset_idx], \"/norm_counts.tsv\")) %>%\n",
    "    column_to_rownames(var = \"geneID\") %>%\n",
    "    as.matrix()\n",
    "\n",
    "# Match up columns of counts with rows of survival data & only include samples present in survival data\n",
    "norm_survival_counts <- norm_counts[, filtered_survival_df$sample_name]"
   ]
  },
  {
   "cell_type": "code",
   "execution_count": 39,
   "metadata": {},
   "outputs": [
    {
     "data": {
      "text/html": [
       "TRUE"
      ],
      "text/latex": [
       "TRUE"
      ],
      "text/markdown": [
       "TRUE"
      ],
      "text/plain": [
       "[1] TRUE"
      ]
     },
     "metadata": {},
     "output_type": "display_data"
    }
   ],
   "source": [
    "all(rownames(t(norm_survival_counts)) == filtered_survival_df$sample_name)"
   ]
  },
  {
   "cell_type": "markdown",
   "metadata": {},
   "source": [
    "# Combine filtered survival data and normalized count data"
   ]
  },
  {
   "cell_type": "code",
   "execution_count": 40,
   "metadata": {},
   "outputs": [],
   "source": [
    "joined_matrisome_df <- filtered_survival_df %>%\n",
    "    inner_join(\n",
    "        as_tibble(t(norm_matrisome_survival_counts), rownames = \"sample_name\"),\n",
    "        by = \"sample_name\"\n",
    "    )\n",
    "\n",
    "# Some genes contain the '-' symbol, which affects formulae\n",
    "colnames(joined_matrisome_df) <- gsub(\"-\", \"_\", colnames(joined_matrisome_df))"
   ]
  },
  {
   "cell_type": "code",
   "execution_count": 41,
   "metadata": {},
   "outputs": [],
   "source": [
    "joined_full_df <- filtered_survival_df %>%\n",
    "    inner_join(\n",
    "        as_tibble(t(norm_survival_counts), rownames = \"sample_name\"),\n",
    "        by = \"sample_name\"\n",
    "    )\n",
    "\n",
    "# Some genes contain the '-' symbol, which affects formulae\n",
    "colnames(joined_full_df) <- gsub(\"-\", \"_\", colnames(joined_full_df))"
   ]
  },
  {
   "cell_type": "code",
   "execution_count": 42,
   "metadata": {},
   "outputs": [
    {
     "data": {
      "text/html": [
       "46"
      ],
      "text/latex": [
       "46"
      ],
      "text/markdown": [
       "46"
      ],
      "text/plain": [
       "[1] 46"
      ]
     },
     "metadata": {},
     "output_type": "display_data"
    }
   ],
   "source": [
    "nrow(joined_full_df)"
   ]
  },
  {
   "cell_type": "markdown",
   "metadata": {},
   "source": [
    "# Helper functions"
   ]
  },
  {
   "cell_type": "code",
   "execution_count": 43,
   "metadata": {},
   "outputs": [],
   "source": [
    "to_deceased_df <- function(df) {\n",
    "    deceased_joined_df <- df %>%\n",
    "        dplyr::filter(vital_status == 1) %>%\n",
    "        dplyr::select(-vital_status)\n",
    "    \n",
    "    quantiles <- as.vector(quantile(deceased_joined_df$survival_time))\n",
    "    iqr <- quantiles[4] - quantiles[2]\n",
    "    coef <- 1.5\n",
    "    outlier_thresh <- list(min = quantiles[2] - coef * iqr, max = quantiles[4] + coef * iqr)\n",
    "    \n",
    "    deceased_joined_df <- deceased_joined_df %>%\n",
    "        dplyr::mutate(observation_type = case_when(\n",
    "            ((survival_time < outlier_thresh$min) | (outlier_thresh$max < survival_time)) ~ \"outlier\",\n",
    "            ((outlier_thresh$min < survival_time) & (survival_time < outlier_thresh$max)) ~ \"regular\"\n",
    "        )) %>%\n",
    "        dplyr::mutate(survival_class = case_when(\n",
    "            (survival_time < quantiles[2]) ~ \"low\",\n",
    "            (quantiles[2] <= survival_time) & (survival_time < quantiles[3]) ~ \"low_med\",\n",
    "            (quantiles[3] <= survival_time) & (survival_time < quantiles[4]) ~ \"high_med\",\n",
    "            (quantiles[4] <= survival_time) ~ \"high\"\n",
    "        )) %>%\n",
    "        dplyr::mutate(survival_class = factor(survival_class, levels = c(\"low\", \"low_med\", \"high_med\", \"high\"))) %>%\n",
    "        dplyr::select(c(\"sample_name\", \"survival_time\", \"survival_class\"), everything())    \n",
    "    return(deceased_joined_df)\n",
    "}\n",
    "\n",
    "\n",
    "to_figo_df <- function(df) {\n",
    "    figo_joined_df <- df %>%\n",
    "        # Drop the original character versions of these columns\n",
    "        dplyr::select(c(\"sample_name\", \"figo_stage\"), everything(), -c(\"survival_time\",\"race\", \"ethnicity\", \"vital_status\")) %>%\n",
    "        dplyr::select(-contains(\"figo_stage_\")) %>%\n",
    "        dplyr::mutate(figo_stage = factor(figo_stage, levels = c(\"1\", \"2\", \"3\", \"4\")))\n",
    "    return(figo_joined_df)\n",
    "}\n",
    "\n",
    "\n",
    "summarize_deceased <- function(df) {\n",
    "    df %>%\n",
    "        group_by(figo_stage) %>%\n",
    "        summarize(\n",
    "            n = n(),\n",
    "            mean_survival = mean(survival_time) / 365,\n",
    "            median_survival = median(survival_time) / 365,\n",
    "            survival_iqr = IQR(survival_time / 365),\n",
    "            min_survival = min(survival_time) / 365,\n",
    "            max_survival = max(survival_time) / 365\n",
    "        )\n",
    "}\n",
    "\n",
    "\n",
    "umap_to_df <- function(umap_res, processed_df, dep_cols) {\n",
    "    colnames(umap_res$layout) <- c(\"x1\", \"x2\")\n",
    "    umap_df <- umap_res$layout %>%\n",
    "        as_tibble() %>%\n",
    "        bind_cols(processed_df[all_of(dep_cols)]) %>%\n",
    "        dplyr::select(all_of(dep_cols), everything())\n",
    "    return(umap_df)\n",
    "}"
   ]
  },
  {
   "cell_type": "code",
   "execution_count": 44,
   "metadata": {},
   "outputs": [],
   "source": [
    "deceased_full_df <- to_deceased_df(joined_full_df)\n",
    "deceased_matrisome_df <- to_deceased_df(joined_matrisome_df)"
   ]
  },
  {
   "cell_type": "code",
   "execution_count": 45,
   "metadata": {},
   "outputs": [
    {
     "data": {
      "text/html": [
       "27"
      ],
      "text/latex": [
       "27"
      ],
      "text/markdown": [
       "27"
      ],
      "text/plain": [
       "[1] 27"
      ]
     },
     "metadata": {},
     "output_type": "display_data"
    }
   ],
   "source": [
    "nrow(deceased_matrisome_df)"
   ]
  },
  {
   "cell_type": "code",
   "execution_count": 46,
   "metadata": {},
   "outputs": [
    {
     "data": {
      "text/html": [
       "3"
      ],
      "text/latex": [
       "3"
      ],
      "text/markdown": [
       "3"
      ],
      "text/plain": [
       "[1] 3"
      ]
     },
     "metadata": {},
     "output_type": "display_data"
    }
   ],
   "source": [
    "nrow(deceased_matrisome_df %>%\n",
    "    dplyr::filter(observation_type == \"outlier\"))"
   ]
  },
  {
   "cell_type": "code",
   "execution_count": 47,
   "metadata": {},
   "outputs": [
    {
     "name": "stderr",
     "output_type": "stream",
     "text": [
      "`summarise()` ungrouping output (override with `.groups` argument)\n"
     ]
    },
    {
     "data": {
      "text/html": [
       "<table>\n",
       "<caption>A tibble: 4 × 7</caption>\n",
       "<thead>\n",
       "\t<tr><th scope=col>figo_stage</th><th scope=col>n</th><th scope=col>mean_survival</th><th scope=col>median_survival</th><th scope=col>survival_iqr</th><th scope=col>min_survival</th><th scope=col>max_survival</th></tr>\n",
       "\t<tr><th scope=col>&lt;chr&gt;</th><th scope=col>&lt;int&gt;</th><th scope=col>&lt;dbl&gt;</th><th scope=col>&lt;dbl&gt;</th><th scope=col>&lt;dbl&gt;</th><th scope=col>&lt;dbl&gt;</th><th scope=col>&lt;dbl&gt;</th></tr>\n",
       "</thead>\n",
       "<tbody>\n",
       "\t<tr><td>1</td><td> 8</td><td>2.241781</td><td>1.287671</td><td>1.3047945</td><td>0.000000000</td><td>8.534247</td></tr>\n",
       "\t<tr><td>2</td><td> 2</td><td>2.809589</td><td>2.809589</td><td>2.7876712</td><td>0.021917808</td><td>5.597260</td></tr>\n",
       "\t<tr><td>3</td><td>14</td><td>1.865558</td><td>1.231507</td><td>1.3821918</td><td>0.002739726</td><td>7.342466</td></tr>\n",
       "\t<tr><td>4</td><td> 3</td><td>1.389041</td><td>1.482192</td><td>0.9534247</td><td>0.389041096</td><td>2.295890</td></tr>\n",
       "</tbody>\n",
       "</table>\n"
      ],
      "text/latex": [
       "A tibble: 4 × 7\n",
       "\\begin{tabular}{lllllll}\n",
       " figo\\_stage & n & mean\\_survival & median\\_survival & survival\\_iqr & min\\_survival & max\\_survival\\\\\n",
       " <chr> & <int> & <dbl> & <dbl> & <dbl> & <dbl> & <dbl>\\\\\n",
       "\\hline\n",
       "\t 1 &  8 & 2.241781 & 1.287671 & 1.3047945 & 0.000000000 & 8.534247\\\\\n",
       "\t 2 &  2 & 2.809589 & 2.809589 & 2.7876712 & 0.021917808 & 5.597260\\\\\n",
       "\t 3 & 14 & 1.865558 & 1.231507 & 1.3821918 & 0.002739726 & 7.342466\\\\\n",
       "\t 4 &  3 & 1.389041 & 1.482192 & 0.9534247 & 0.389041096 & 2.295890\\\\\n",
       "\\end{tabular}\n"
      ],
      "text/markdown": [
       "\n",
       "A tibble: 4 × 7\n",
       "\n",
       "| figo_stage &lt;chr&gt; | n &lt;int&gt; | mean_survival &lt;dbl&gt; | median_survival &lt;dbl&gt; | survival_iqr &lt;dbl&gt; | min_survival &lt;dbl&gt; | max_survival &lt;dbl&gt; |\n",
       "|---|---|---|---|---|---|---|\n",
       "| 1 |  8 | 2.241781 | 1.287671 | 1.3047945 | 0.000000000 | 8.534247 |\n",
       "| 2 |  2 | 2.809589 | 2.809589 | 2.7876712 | 0.021917808 | 5.597260 |\n",
       "| 3 | 14 | 1.865558 | 1.231507 | 1.3821918 | 0.002739726 | 7.342466 |\n",
       "| 4 |  3 | 1.389041 | 1.482192 | 0.9534247 | 0.389041096 | 2.295890 |\n",
       "\n"
      ],
      "text/plain": [
       "  figo_stage n  mean_survival median_survival survival_iqr min_survival\n",
       "1 1           8 2.241781      1.287671        1.3047945    0.000000000 \n",
       "2 2           2 2.809589      2.809589        2.7876712    0.021917808 \n",
       "3 3          14 1.865558      1.231507        1.3821918    0.002739726 \n",
       "4 4           3 1.389041      1.482192        0.9534247    0.389041096 \n",
       "  max_survival\n",
       "1 8.534247    \n",
       "2 5.597260    \n",
       "3 7.342466    \n",
       "4 2.295890    "
      ]
     },
     "metadata": {},
     "output_type": "display_data"
    }
   ],
   "source": [
    "summarize_deceased(deceased_full_df)"
   ]
  },
  {
   "cell_type": "code",
   "execution_count": 48,
   "metadata": {},
   "outputs": [],
   "source": [
    "# options(repr.plot.width = 10, repr.plot.height = 5)\n",
    "# ggplot(data=deceased_full_df) +\n",
    "#     geom_point(aes(x = seq(1, nrow(deceased_full_df)), y = survival_time, color=observation_type))\n",
    "# ggplot(data=deceased_full_df) +\n",
    "#     geom_point(aes(x = seq(1, nrow(deceased_full_df)), y = survival_time, color=figo_stage))\n",
    "# options(repr.plot.width = 15, repr.plot.height = 5)\n",
    "# ggplot() +\n",
    "#     geom_point(data = deceased_full_df, aes(x = age_at_diagnosis, y = log(survival_time), color=observation_type)) +\n",
    "#     geom_smooth(\n",
    "#         data = deceased_full_df %>% dplyr::filter(observation_type == \"regular\"),\n",
    "#         aes(x = age_at_diagnosis, y = log(survival_time), color = \"fit\"),\n",
    "#         method = \"lm\",\n",
    "#         formula = y ~ x,\n",
    "#         color = \"black\",\n",
    "#         size = 0.4\n",
    "#     )\n",
    "# options(repr.plot.width = 10, repr.plot.height = 5)\n",
    "# ggplot(data=deceased_full_df) +\n",
    "#     geom_violin(aes(x = survival_time, y = figo_stage, color = figo_stage)) +\n",
    "#     geom_boxplot(aes(x = survival_time, y = figo_stage, color = figo_stage), width = 0.2)\n",
    "# ggplot() +\n",
    "#     geom_density(data = deceased_full_df, aes(x = survival_time), color = \"black\") +\n",
    "#     geom_density(\n",
    "#         data = deceased_full_df %>% dplyr::filter(observation_type == \"regular\"),\n",
    "#         aes(x = survival_time),\n",
    "#         color = \"#00BFC4\"\n",
    "#     )"
   ]
  },
  {
   "cell_type": "code",
   "execution_count": 49,
   "metadata": {},
   "outputs": [],
   "source": [
    "processed_deceased_full_df <- deceased_full_df %>%\n",
    "    dplyr::select(c(\"sample_name\", \"survival_class\"), everything(), -c(\"survival_time\", \"race\", \"ethnicity\", \"figo_stage\", \"observation_type\"))\n",
    "processed_deceased_matrisome_df <- deceased_matrisome_df %>%\n",
    "    dplyr::select(c(\"sample_name\", \"survival_class\"), everything(), -c(\"survival_time\", \"race\", \"ethnicity\", \"figo_stage\", \"observation_type\"))"
   ]
  },
  {
   "cell_type": "code",
   "execution_count": 50,
   "metadata": {},
   "outputs": [],
   "source": [
    "full_survival_umap <- umap(processed_deceased_full_df[-c(1, 2)], random_state = seed)\n",
    "matrisome_survival_umap <- umap(processed_deceased_matrisome_df[-c(1, 2)], random_state = seed)"
   ]
  },
  {
   "cell_type": "code",
   "execution_count": 51,
   "metadata": {},
   "outputs": [],
   "source": [
    "survival_full_umap_df <- umap_to_df(full_survival_umap, processed_deceased_full_df, c(\"sample_name\", \"survival_class\"))\n",
    "survival_matrisome_umap_df <- umap_to_df(matrisome_survival_umap, processed_deceased_matrisome_df, c(\"sample_name\", \"survival_class\"))"
   ]
  },
  {
   "cell_type": "code",
   "execution_count": 52,
   "metadata": {},
   "outputs": [],
   "source": [
    "# plt <- ggplot(survival_full_umap_df) +\n",
    "#     geom_point(aes(x = x1, y = x2, color = survival_class)) +\n",
    "#     theme_classic()\n",
    "# plt\n",
    "\n",
    "# plt <- ggplot(survival_matrisome_umap_df) +\n",
    "#     geom_point(aes(x = x1, y = x2, color = survival_class)) +\n",
    "#     theme_classic()\n",
    "# plt"
   ]
  },
  {
   "cell_type": "code",
   "execution_count": 53,
   "metadata": {},
   "outputs": [],
   "source": [
    "figo_full_df <- to_figo_df(joined_full_df)\n",
    "figo_matrisome_df <- to_figo_df(joined_matrisome_df)"
   ]
  },
  {
   "cell_type": "code",
   "execution_count": 54,
   "metadata": {},
   "outputs": [],
   "source": [
    "full_figo_umap <- umap(figo_full_df[-c(1, 2)], random_state = seed)\n",
    "matrisome_figo_umap <- umap(figo_matrisome_df[-c(1, 2)], random_state = seed)"
   ]
  },
  {
   "cell_type": "code",
   "execution_count": 55,
   "metadata": {},
   "outputs": [],
   "source": [
    "full_figo_umap_df <- umap_to_df(full_figo_umap, figo_full_df, c(\"sample_name\", \"figo_stage\"))\n",
    "matrisome_figo_umap_df <- umap_to_df(matrisome_figo_umap, figo_matrisome_df, c(\"sample_name\", \"figo_stage\"))"
   ]
  },
  {
   "cell_type": "code",
   "execution_count": 56,
   "metadata": {},
   "outputs": [
    {
     "data": {
      "image/png": "[encoded data removed]",
      "text/plain": [
       "plot without title"
      ]
     },
     "metadata": {},
     "output_type": "display_data"
    }
   ],
   "source": [
    "# plt <- ggplot(full_figo_umap_df) +\n",
    "#     geom_point(aes(x = x1, y = x2, color = figo_stage)) +\n",
    "#     theme_classic()\n",
    "# plt\n",
    "\n",
    "plt <- ggplot(matrisome_figo_umap_df) +\n",
    "    geom_point(aes(x = x1, y = x2, color = figo_stage)) +\n",
    "    theme_classic()\n",
    "plt"
   ]
  },
  {
   "cell_type": "code",
   "execution_count": null,
   "metadata": {},
   "outputs": [],
   "source": []
  }
 ],
 "metadata": {
  "kernelspec": {
   "display_name": "R",
   "language": "R",
   "name": "ir"
  },
  "language_info": {
   "codemirror_mode": "r",
   "file_extension": ".r",
   "mimetype": "text/x-r-source",
   "name": "R",
   "pygments_lexer": "r",
   "version": "3.6.3"
  }
 },
 "nbformat": 4,
 "nbformat_minor": 4
}
