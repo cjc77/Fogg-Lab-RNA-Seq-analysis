{
 "cells": [
  {
   "cell_type": "code",
   "execution_count": 1,
   "metadata": {
    "collapsed": true,
    "jupyter": {
     "outputs_hidden": true
    }
   },
   "outputs": [
    {
     "name": "stderr",
     "output_type": "stream",
     "text": [
      "── Attaching packages ─────────────────────────────────────── tidyverse 1.3.0 ──\n",
      "✔ ggplot2 3.3.2     ✔ purrr   0.3.4\n",
      "✔ tibble  3.0.3     ✔ dplyr   1.0.0\n",
      "✔ tidyr   1.1.0     ✔ stringr 1.4.0\n",
      "✔ readr   1.3.1     ✔ forcats 0.5.0\n",
      "── Conflicts ────────────────────────────────────────── tidyverse_conflicts() ──\n",
      "✖ dplyr::filter() masks stats::filter()\n",
      "✖ dplyr::lag()    masks stats::lag()\n"
     ]
    }
   ],
   "source": [
    "library(tidyverse)\n",
    "library(ggsci)\n",
    "\n",
    "# Custom package\n",
    "library(rutils)"
   ]
  },
  {
   "cell_type": "code",
   "execution_count": 2,
   "metadata": {},
   "outputs": [],
   "source": [
    "dirs <- rutils::get_dev_directories(dev_paths_file = \"../dev_paths.txt\")\n",
    "projects <- c(\"TCGA-CESC\", \"TCGA-UCS\", \"TCGA-UCEC\", \"TCGA-OV\")\n",
    "unified_dsets <- c(\"unified_cervical_data\", \"unified_uterine_data\", \"unified_uterine_endometrial_data\")\n",
    "matrisome_list <- paste0(dirs$data_dir, \"/matrisome/matrisome_hs_masterlist.tsv\")"
   ]
  },
  {
   "cell_type": "code",
   "execution_count": 3,
   "metadata": {
    "collapsed": true,
    "jupyter": {
     "outputs_hidden": true
    }
   },
   "outputs": [
    {
     "name": "stderr",
     "output_type": "stream",
     "text": [
      "Parsed with column specification:\n",
      "cols(\n",
      "  Division = col_character(),\n",
      "  Category = col_character(),\n",
      "  `Gene Symbol` = col_character(),\n",
      "  `Gene Name` = col_character(),\n",
      "  Synonyms = col_character(),\n",
      "  HGNC_IDs = col_double(),\n",
      "  `HGNC_IDs Links` = col_double(),\n",
      "  UniProt_IDs = col_character(),\n",
      "  Refseq_IDs = col_character(),\n",
      "  Orthology = col_character(),\n",
      "  Notes = col_character()\n",
      ")\n"
     ]
    }
   ],
   "source": [
    "matrisome_df <- rutils::load_matrisome_df(matrisome_list) %>%\n",
    "    dplyr::select(gene_symbol, division, category)\n",
    "matrisome_genes_df <- matrisome_df %>%\n",
    "    dplyr::select(gene_symbol)"
   ]
  },
  {
   "cell_type": "code",
   "execution_count": 4,
   "metadata": {},
   "outputs": [],
   "source": [
    "i <- 1"
   ]
  },
  {
   "cell_type": "code",
   "execution_count": 5,
   "metadata": {
    "collapsed": true,
    "jupyter": {
     "outputs_hidden": true
    }
   },
   "outputs": [
    {
     "name": "stderr",
     "output_type": "stream",
     "text": [
      "Parsed with column specification:\n",
      "cols(\n",
      "  geneID = col_character(),\n",
      "  gene_pval = col_double(),\n",
      "  gene_coeff = col_double()\n",
      ")\n"
     ]
    }
   ],
   "source": [
    "sig_coxph_res_df <- read_tsv(paste0(dirs$analysis_dir, \"/\", unified_dsets[i], \"_coxph_results.tsv\")) %>%\n",
    "    dplyr::filter(gene_pval < 0.05)"
   ]
  },
  {
   "cell_type": "code",
   "execution_count": 6,
   "metadata": {
    "collapsed": true,
    "jupyter": {
     "outputs_hidden": true
    }
   },
   "outputs": [
    {
     "name": "stderr",
     "output_type": "stream",
     "text": [
      "Parsed with column specification:\n",
      "cols(\n",
      "  geneID = col_character(),\n",
      "  baseMean = col_double(),\n",
      "  log2FoldChange = col_double(),\n",
      "  lfcSE = col_double(),\n",
      "  stat = col_double(),\n",
      "  pvalue = col_double(),\n",
      "  padj = col_double(),\n",
      "  in_matrisome = col_logical(),\n",
      "  division = col_character(),\n",
      "  category = col_character(),\n",
      "  gene_name = col_character(),\n",
      "  synonyms = col_character(),\n",
      "  hgnc_ids = col_double(),\n",
      "  hgnc_ids_links = col_double(),\n",
      "  uniprot_ids = col_character(),\n",
      "  refseq_ids = col_character(),\n",
      "  orthology = col_character(),\n",
      "  notes = col_character()\n",
      ")\n"
     ]
    }
   ],
   "source": [
    "deg_res_df <- read_tsv(paste0(dirs$analysis_dir, \"/\", unified_dsets[i], \"_sig_DESeq_results_xref_matrisome.tsv\"))"
   ]
  },
  {
   "cell_type": "code",
   "execution_count": 16,
   "metadata": {},
   "outputs": [],
   "source": [
    "hm_df <- matrisome_genes_df %>%\n",
    "    dplyr::rename(\"geneID\" = \"gene_symbol\") %>%\n",
    "    mutate(\n",
    "        DE_only = (geneID %in% deg_res_df$geneID) & !(geneID %in% sig_coxph_res_df$geneID),\n",
    "        predictive_only = (geneID %in% sig_coxph_res_df$geneID) & !(geneID %in% deg_res_df$geneID),\n",
    "        predictive_and_DE = (geneID %in% sig_coxph_res_df$geneID) & (geneID %in% deg_res_df$geneID),\n",
    "        neither = !(geneID %in% sig_coxph_res_df$geneID) & !(geneID %in% deg_res_df$geneID)\n",
    "    )\n",
    "\n",
    "\n",
    "hm_pivot_df <- hm_df %>%\n",
    "    pivot_longer(cols = DE_only:neither, names_to = \"membership\") %>%\n",
    "    dplyr::filter(value == TRUE) %>%\n",
    "    dplyr::select(-value) %>%\n",
    "    mutate(\n",
    "#         membership_fact = factor(membership, levels = c(\"neither\", \"DE_only\", \"predictive_only\", \"both\")),\n",
    "        membership_fact = factor(membership, levels = c(\"predictive_only\", \"predictive_and_DE\", \"DE_only\", \"neither\")),\n",
    "        membership_num = as.numeric(membership_fact)\n",
    "    ) %>%\n",
    "    dplyr::select(-membership) %>%\n",
    "    dplyr::rename(membership = membership_fact) %>%\n",
    "    dplyr::mutate(dummy = \"dummy\")\n"
   ]
  },
  {
   "cell_type": "code",
   "execution_count": 17,
   "metadata": {},
   "outputs": [
    {
     "name": "stderr",
     "output_type": "stream",
     "text": [
      "Saving 6.67 x 6.67 in image\n"
     ]
    },
    {
     "data": {
      "image/png": "[encoded data removed]",
      "text/plain": [
       "plot without title"
      ]
     },
     "metadata": {},
     "output_type": "display_data"
    }
   ],
   "source": [
    "ggplot() +\n",
    "    geom_tile(aes(y = dummy, x = reorder(geneID, membership_num), fill = membership), data = hm_pivot_df, width = 1) +\n",
    "    scale_fill_manual(values = c(\"steelblue3\", \"darkorchid4\", \"firebrick3\", \"gray70\")) +\n",
    "    theme(\n",
    "        axis.title.x = element_blank(),\n",
    "        axis.text.x = element_blank(),\n",
    "        axis.ticks.x = element_blank(),\n",
    "        axis.title.y = element_blank(),\n",
    "        axis.text.y = element_blank(),\n",
    "        axis.ticks.y = element_blank(),\n",
    "        legend.position = \"bottom\"\n",
    "    ) +\n",
    "    coord_equal(ratio = 200)\n",
    "ggsave(paste0(dirs$figures_dir, \"/\", unified_dsets[i], \"_matrisome_DEG_predictive_horizontal_hm.png\"), last_plot())"
   ]
  },
  {
   "cell_type": "code",
   "execution_count": 18,
   "metadata": {},
   "outputs": [],
   "source": [
    "bp_pivot_df <- hm_df %>%\n",
    "    pivot_longer(cols = DE_only:neither, names_to = \"membership\") %>%\n",
    "    dplyr::filter(value == TRUE) %>%\n",
    "    dplyr::select(-value) %>%\n",
    "    mutate(\n",
    "#         membership_fact = factor(membership, levels = c(\"both\", \"predictive_only\", \"DE_only\", \"neither\")),\n",
    "        membership_fact = factor(membership, levels = c(\"predictive_only\", \"predictive_and_DE\", \"DE_only\", \"neither\")),\n",
    "        membership_num = as.numeric(membership_fact)\n",
    "    ) %>%\n",
    "    dplyr::select(-membership) %>%\n",
    "    dplyr::rename(membership = membership_fact)"
   ]
  },
  {
   "cell_type": "code",
   "execution_count": 19,
   "metadata": {},
   "outputs": [
    {
     "name": "stderr",
     "output_type": "stream",
     "text": [
      "`summarise()` regrouping output by 'category' (override with `.groups` argument)\n"
     ]
    },
    {
     "data": {
      "text/html": [
       "<table>\n",
       "<caption>A grouped_df: 22 × 3</caption>\n",
       "<thead>\n",
       "\t<tr><th scope=col>category</th><th scope=col>membership</th><th scope=col>n_genes</th></tr>\n",
       "\t<tr><th scope=col>&lt;chr&gt;</th><th scope=col>&lt;fct&gt;</th><th scope=col>&lt;int&gt;</th></tr>\n",
       "</thead>\n",
       "<tbody>\n",
       "\t<tr><td>Collagens              </td><td>predictive_and_DE</td><td>  3</td></tr>\n",
       "\t<tr><td>Collagens              </td><td>DE_only          </td><td> 25</td></tr>\n",
       "\t<tr><td>Collagens              </td><td>neither          </td><td> 16</td></tr>\n",
       "\t<tr><td>ECM Glycoproteins      </td><td>predictive_only  </td><td> 13</td></tr>\n",
       "\t<tr><td>ECM Glycoproteins      </td><td>predictive_and_DE</td><td> 12</td></tr>\n",
       "\t<tr><td>ECM Glycoproteins      </td><td>DE_only          </td><td>101</td></tr>\n",
       "\t<tr><td>ECM Glycoproteins      </td><td>neither          </td><td> 69</td></tr>\n",
       "\t<tr><td>ECM Regulators         </td><td>predictive_only  </td><td> 15</td></tr>\n",
       "\t<tr><td>ECM Regulators         </td><td>predictive_and_DE</td><td> 17</td></tr>\n",
       "\t<tr><td>ECM Regulators         </td><td>DE_only          </td><td>106</td></tr>\n",
       "\t<tr><td>ECM Regulators         </td><td>neither          </td><td>100</td></tr>\n",
       "\t<tr><td>ECM-affiliated Proteins</td><td>predictive_only  </td><td> 12</td></tr>\n",
       "\t<tr><td>ECM-affiliated Proteins</td><td>predictive_and_DE</td><td>  4</td></tr>\n",
       "\t<tr><td>ECM-affiliated Proteins</td><td>DE_only          </td><td> 86</td></tr>\n",
       "\t<tr><td>ECM-affiliated Proteins</td><td>neither          </td><td> 69</td></tr>\n",
       "\t<tr><td>Proteoglycans          </td><td>predictive_and_DE</td><td>  2</td></tr>\n",
       "\t<tr><td>Proteoglycans          </td><td>DE_only          </td><td> 22</td></tr>\n",
       "\t<tr><td>Proteoglycans          </td><td>neither          </td><td> 11</td></tr>\n",
       "\t<tr><td>Secreted Factors       </td><td>predictive_only  </td><td> 12</td></tr>\n",
       "\t<tr><td>Secreted Factors       </td><td>predictive_and_DE</td><td> 30</td></tr>\n",
       "\t<tr><td>Secreted Factors       </td><td>DE_only          </td><td>151</td></tr>\n",
       "\t<tr><td>Secreted Factors       </td><td>neither          </td><td>151</td></tr>\n",
       "</tbody>\n",
       "</table>\n"
      ],
      "text/latex": [
       "A grouped\\_df: 22 × 3\n",
       "\\begin{tabular}{lll}\n",
       " category & membership & n\\_genes\\\\\n",
       " <chr> & <fct> & <int>\\\\\n",
       "\\hline\n",
       "\t Collagens               & predictive\\_and\\_DE &   3\\\\\n",
       "\t Collagens               & DE\\_only           &  25\\\\\n",
       "\t Collagens               & neither           &  16\\\\\n",
       "\t ECM Glycoproteins       & predictive\\_only   &  13\\\\\n",
       "\t ECM Glycoproteins       & predictive\\_and\\_DE &  12\\\\\n",
       "\t ECM Glycoproteins       & DE\\_only           & 101\\\\\n",
       "\t ECM Glycoproteins       & neither           &  69\\\\\n",
       "\t ECM Regulators          & predictive\\_only   &  15\\\\\n",
       "\t ECM Regulators          & predictive\\_and\\_DE &  17\\\\\n",
       "\t ECM Regulators          & DE\\_only           & 106\\\\\n",
       "\t ECM Regulators          & neither           & 100\\\\\n",
       "\t ECM-affiliated Proteins & predictive\\_only   &  12\\\\\n",
       "\t ECM-affiliated Proteins & predictive\\_and\\_DE &   4\\\\\n",
       "\t ECM-affiliated Proteins & DE\\_only           &  86\\\\\n",
       "\t ECM-affiliated Proteins & neither           &  69\\\\\n",
       "\t Proteoglycans           & predictive\\_and\\_DE &   2\\\\\n",
       "\t Proteoglycans           & DE\\_only           &  22\\\\\n",
       "\t Proteoglycans           & neither           &  11\\\\\n",
       "\t Secreted Factors        & predictive\\_only   &  12\\\\\n",
       "\t Secreted Factors        & predictive\\_and\\_DE &  30\\\\\n",
       "\t Secreted Factors        & DE\\_only           & 151\\\\\n",
       "\t Secreted Factors        & neither           & 151\\\\\n",
       "\\end{tabular}\n"
      ],
      "text/markdown": [
       "\n",
       "A grouped_df: 22 × 3\n",
       "\n",
       "| category &lt;chr&gt; | membership &lt;fct&gt; | n_genes &lt;int&gt; |\n",
       "|---|---|---|\n",
       "| Collagens               | predictive_and_DE |   3 |\n",
       "| Collagens               | DE_only           |  25 |\n",
       "| Collagens               | neither           |  16 |\n",
       "| ECM Glycoproteins       | predictive_only   |  13 |\n",
       "| ECM Glycoproteins       | predictive_and_DE |  12 |\n",
       "| ECM Glycoproteins       | DE_only           | 101 |\n",
       "| ECM Glycoproteins       | neither           |  69 |\n",
       "| ECM Regulators          | predictive_only   |  15 |\n",
       "| ECM Regulators          | predictive_and_DE |  17 |\n",
       "| ECM Regulators          | DE_only           | 106 |\n",
       "| ECM Regulators          | neither           | 100 |\n",
       "| ECM-affiliated Proteins | predictive_only   |  12 |\n",
       "| ECM-affiliated Proteins | predictive_and_DE |   4 |\n",
       "| ECM-affiliated Proteins | DE_only           |  86 |\n",
       "| ECM-affiliated Proteins | neither           |  69 |\n",
       "| Proteoglycans           | predictive_and_DE |   2 |\n",
       "| Proteoglycans           | DE_only           |  22 |\n",
       "| Proteoglycans           | neither           |  11 |\n",
       "| Secreted Factors        | predictive_only   |  12 |\n",
       "| Secreted Factors        | predictive_and_DE |  30 |\n",
       "| Secreted Factors        | DE_only           | 151 |\n",
       "| Secreted Factors        | neither           | 151 |\n",
       "\n"
      ],
      "text/plain": [
       "   category                membership        n_genes\n",
       "1  Collagens               predictive_and_DE   3    \n",
       "2  Collagens               DE_only            25    \n",
       "3  Collagens               neither            16    \n",
       "4  ECM Glycoproteins       predictive_only    13    \n",
       "5  ECM Glycoproteins       predictive_and_DE  12    \n",
       "6  ECM Glycoproteins       DE_only           101    \n",
       "7  ECM Glycoproteins       neither            69    \n",
       "8  ECM Regulators          predictive_only    15    \n",
       "9  ECM Regulators          predictive_and_DE  17    \n",
       "10 ECM Regulators          DE_only           106    \n",
       "11 ECM Regulators          neither           100    \n",
       "12 ECM-affiliated Proteins predictive_only    12    \n",
       "13 ECM-affiliated Proteins predictive_and_DE   4    \n",
       "14 ECM-affiliated Proteins DE_only            86    \n",
       "15 ECM-affiliated Proteins neither            69    \n",
       "16 Proteoglycans           predictive_and_DE   2    \n",
       "17 Proteoglycans           DE_only            22    \n",
       "18 Proteoglycans           neither            11    \n",
       "19 Secreted Factors        predictive_only    12    \n",
       "20 Secreted Factors        predictive_and_DE  30    \n",
       "21 Secreted Factors        DE_only           151    \n",
       "22 Secreted Factors        neither           151    "
      ]
     },
     "metadata": {},
     "output_type": "display_data"
    }
   ],
   "source": [
    "cat_bp_df <- bp_pivot_df %>%\n",
    "    inner_join(matrisome_df, by = c(\"geneID\" = \"gene_symbol\")) %>%\n",
    "    group_by(category, membership) %>%\n",
    "    summarize(n_genes = n())\n",
    "cat_bp_df"
   ]
  },
  {
   "cell_type": "code",
   "execution_count": 21,
   "metadata": {},
   "outputs": [
    {
     "name": "stderr",
     "output_type": "stream",
     "text": [
      "Saving 6.67 x 6.67 in image\n"
     ]
    },
    {
     "data": {
      "image/png": "[encoded data removed]",
      "text/plain": [
       "plot without title"
      ]
     },
     "metadata": {},
     "output_type": "display_data"
    }
   ],
   "source": [
    "# ggplot(data = cat_bp_df, aes(x = membership, y = n_genes, fill = category)) +\n",
    "ggplot(data = cat_bp_df, aes(x = category, y = n_genes, fill = membership)) +\n",
    "#     scale_fill_jama() +\n",
    "    scale_fill_manual(values = c(\"steelblue3\", \"darkorchid4\", \"firebrick3\", \"gray70\")) +\n",
    "    labs(y = \"gene count\") +\n",
    "    theme(\n",
    "        axis.title.x = element_blank(),\n",
    "        axis.text.x = element_text(angle = 45, vjust = 0.55, hjust=0.5)\n",
    "    ) +\n",
    "    geom_bar(stat = \"identity\")\n",
    "ggsave(paste0(dirs$figures_dir, \"/\", unified_dsets[i], \"_matrisome_DEG_predictive_stacked_bp.png\"), last_plot())"
   ]
  },
  {
   "cell_type": "code",
   "execution_count": null,
   "metadata": {},
   "outputs": [],
   "source": []
  }
 ],
 "metadata": {
  "kernelspec": {
   "display_name": "R",
   "language": "R",
   "name": "ir"
  },
  "language_info": {
   "codemirror_mode": "r",
   "file_extension": ".r",
   "mimetype": "text/x-r-source",
   "name": "R",
   "pygments_lexer": "r",
   "version": "3.6.3"
  }
 },
 "nbformat": 4,
 "nbformat_minor": 4
}
