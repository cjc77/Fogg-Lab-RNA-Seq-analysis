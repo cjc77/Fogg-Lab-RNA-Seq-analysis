{
 "cells": [
  {
   "cell_type": "code",
   "execution_count": 1,
   "metadata": {},
   "outputs": [
    {
     "name": "stderr",
     "output_type": "stream",
     "text": [
      "── Attaching packages ─────────────────────────────────────── tidyverse 1.3.0 ──\n",
      "✔ ggplot2 3.3.2     ✔ purrr   0.3.4\n",
      "✔ tibble  3.0.3     ✔ dplyr   1.0.0\n",
      "✔ tidyr   1.1.0     ✔ stringr 1.4.0\n",
      "✔ readr   1.3.1     ✔ forcats 0.5.0\n",
      "── Conflicts ────────────────────────────────────────── tidyverse_conflicts() ──\n",
      "✖ dplyr::filter() masks stats::filter()\n",
      "✖ dplyr::lag()    masks stats::lag()\n"
     ]
    }
   ],
   "source": [
    "library(tidyverse)\n",
    "library(ggsci)\n",
    "library(grid)\n",
    "\n",
    "# Custom package\n",
    "library(rutils)"
   ]
  },
  {
   "cell_type": "code",
   "execution_count": 2,
   "metadata": {},
   "outputs": [],
   "source": [
    "dirs <- rutils::get_dev_directories(dev_paths_file = \"../dev_paths.txt\")\n",
    "projects <- c(\"TCGA-CESC\", \"TCGA-UCS\", \"TCGA-UCEC\", \"TCGA-OV\")\n",
    "unified_dsets <- c(\"unified_cervical_data\", \"unified_uterine_data\", \"unified_uterine_endometrial_data\")\n",
    "matrisome_list <- paste0(dirs$data_dir, \"/matrisome/matrisome_hs_masterlist.tsv\")"
   ]
  },
  {
   "cell_type": "code",
   "execution_count": 3,
   "metadata": {},
   "outputs": [
    {
     "name": "stderr",
     "output_type": "stream",
     "text": [
      "Parsed with column specification:\n",
      "cols(\n",
      "  Division = col_character(),\n",
      "  Category = col_character(),\n",
      "  `Gene Symbol` = col_character(),\n",
      "  `Gene Name` = col_character(),\n",
      "  Synonyms = col_character(),\n",
      "  HGNC_IDs = col_double(),\n",
      "  `HGNC_IDs Links` = col_double(),\n",
      "  UniProt_IDs = col_character(),\n",
      "  Refseq_IDs = col_character(),\n",
      "  Orthology = col_character(),\n",
      "  Notes = col_character()\n",
      ")\n"
     ]
    }
   ],
   "source": [
    "matrisome_df <- rutils::load_matrisome_df(matrisome_list) %>%\n",
    "    dplyr::select(gene_symbol, division, category)\n",
    "matrisome_genes_df <- matrisome_df %>%\n",
    "    dplyr::select(gene_symbol)"
   ]
  },
  {
   "cell_type": "code",
   "execution_count": 4,
   "metadata": {},
   "outputs": [],
   "source": [
    "i <- 1"
   ]
  },
  {
   "cell_type": "code",
   "execution_count": 5,
   "metadata": {},
   "outputs": [
    {
     "name": "stderr",
     "output_type": "stream",
     "text": [
      "Parsed with column specification:\n",
      "cols(\n",
      "  geneID = col_character(),\n",
      "  gene_pval = col_double(),\n",
      "  gene_coeff = col_double()\n",
      ")\n"
     ]
    }
   ],
   "source": [
    "sig_coxph_res_df <- read_tsv(paste0(dirs$analysis_dir, \"/\", unified_dsets[i], \"_coxph_results.tsv\")) %>%\n",
    "    dplyr::filter(gene_pval < 0.05)"
   ]
  },
  {
   "cell_type": "code",
   "execution_count": 6,
   "metadata": {},
   "outputs": [
    {
     "name": "stderr",
     "output_type": "stream",
     "text": [
      "Parsed with column specification:\n",
      "cols(\n",
      "  geneID = col_character(),\n",
      "  baseMean = col_double(),\n",
      "  log2FoldChange = col_double(),\n",
      "  lfcSE = col_double(),\n",
      "  stat = col_double(),\n",
      "  pvalue = col_double(),\n",
      "  padj = col_double(),\n",
      "  in_matrisome = col_logical(),\n",
      "  division = col_character(),\n",
      "  category = col_character(),\n",
      "  gene_name = col_character(),\n",
      "  synonyms = col_character(),\n",
      "  hgnc_ids = col_double(),\n",
      "  hgnc_ids_links = col_double(),\n",
      "  uniprot_ids = col_character(),\n",
      "  refseq_ids = col_character(),\n",
      "  orthology = col_character(),\n",
      "  notes = col_character()\n",
      ")\n"
     ]
    }
   ],
   "source": [
    "deg_res_df <- read_tsv(paste0(dirs$analysis_dir, \"/\", unified_dsets[i], \"_sig_DESeq_results_xref_matrisome.tsv\"))"
   ]
  },
  {
   "cell_type": "code",
   "execution_count": 7,
   "metadata": {},
   "outputs": [],
   "source": [
    "hm_df <- matrisome_genes_df %>%\n",
    "    dplyr::rename(\"geneID\" = \"gene_symbol\") %>%\n",
    "    mutate(\n",
    "        DE_only = (geneID %in% deg_res_df$geneID) & !(geneID %in% sig_coxph_res_df$geneID),\n",
    "        predictive_only = (geneID %in% sig_coxph_res_df$geneID) & !(geneID %in% deg_res_df$geneID),\n",
    "        predictive_and_DE = (geneID %in% sig_coxph_res_df$geneID) & (geneID %in% deg_res_df$geneID),\n",
    "        neither = !(geneID %in% sig_coxph_res_df$geneID) & !(geneID %in% deg_res_df$geneID)\n",
    "    )\n",
    "#     mutate(\n",
    "#         \"DE only\" = (geneID %in% deg_res_df$geneID) & !(geneID %in% sig_coxph_res_df$geneID),\n",
    "#         \"Predictive only\" = (geneID %in% sig_coxph_res_df$geneID) & !(geneID %in% deg_res_df$geneID),\n",
    "#         \"Predictive and DE\" = (geneID %in% sig_coxph_res_df$geneID) & (geneID %in% deg_res_df$geneID),\n",
    "#         \"Neither\" = !(geneID %in% sig_coxph_res_df$geneID) & !(geneID %in% deg_res_df$geneID)\n",
    "#     )\n",
    "\n",
    "\n",
    "hm_pivot_df <- hm_df %>%\n",
    "#     pivot_longer(cols = `DE only`:`Neither`, names_to = \"membership\") %>%\n",
    "    pivot_longer(cols = DE_only:neither, names_to = \"membership\") %>%\n",
    "    dplyr::filter(value == TRUE) %>%\n",
    "    dplyr::select(-value) %>%\n",
    "    mutate(\n",
    "#         membership_fact = factor(membership, levels = c(\"neither\", \"DE_only\", \"predictive_only\", \"both\")),\n",
    "#         membership_fact = factor(membership, levels = c(\"Predictive only\", \"Predictive and DE\", \"DE only\", \"Neither\")),\n",
    "        membership_fact = factor(membership, levels = c(\"predictive_only\", \"predictive_and_DE\", \"DE_only\", \"neither\")),\n",
    "        membership_num = as.numeric(membership_fact)\n",
    "    ) %>%\n",
    "    dplyr::select(-membership) %>%\n",
    "    dplyr::rename(membership = membership_fact) %>%\n",
    "    dplyr::mutate(dummy = \"dummy\")\n"
   ]
  },
  {
   "cell_type": "code",
   "execution_count": 79,
   "metadata": {},
   "outputs": [
    {
     "name": "stderr",
     "output_type": "stream",
     "text": [
      "Coordinate system already present. Adding new coordinate system, which will replace the existing one.\n",
      "Saving 6.67 x 6.67 in image\n"
     ]
    },
    {
     "data": {
      "image/png": "[encoded data removed]",
      "text/plain": [
       "plot without title"
      ]
     },
     "metadata": {},
     "output_type": "display_data"
    }
   ],
   "source": [
    "ggplot() +\n",
    "    geom_tile(aes(y = dummy, x = reorder(geneID, membership_num), fill = membership), data = hm_pivot_df, width = 1.2, height = 0.6) +\n",
    "    scale_fill_manual(name = \"Membership\",\n",
    "                      labels = c(\"Predictive only\", \"Predictive and DE\", \"DE only\", \"Neither\"),\n",
    "                      values = c(\"steelblue3\", \"darkorchid4\", \"firebrick3\", \"gray70\")\n",
    "    ) +\n",
    "    xlab(\"All genes\") +\n",
    "#     labs(caption = \"*DE = differentially expressed\") +\n",
    "    theme(\n",
    "        axis.title.x = element_blank(),\n",
    "#         axis.title.x = element_text(\"hi\"),\n",
    "        axis.text.x = element_blank(),\n",
    "        axis.ticks.x = element_blank(),\n",
    "#         axis.title.y = element_blank(),\n",
    "        axis.title.y = element_text(size = 14, face = \"bold\"),\n",
    "        axis.text.y = element_blank(),\n",
    "        axis.ticks.y = element_blank(),\n",
    "#         legend.position = \"bottom\",\n",
    "        legend.title = element_text(size = 18, face = \"bold\"),\n",
    "        legend.text = element_text(size = 18),\n",
    "        plot.caption = element_text(size = 12)\n",
    "    ) +\n",
    "    coord_equal(ratio = 200) +\n",
    "    coord_flip()\n",
    "ggsave(paste0(dirs$figures_dir, \"/\", unified_dsets[i], \"_matrisome_DEG_predictive_horizontal_hm.png\"), last_plot())"
   ]
  },
  {
   "cell_type": "code",
   "execution_count": 9,
   "metadata": {},
   "outputs": [],
   "source": [
    "bp_pivot_df <- hm_df %>%\n",
    "    pivot_longer(cols = DE_only:neither, names_to = \"membership\") %>%\n",
    "    dplyr::filter(value == TRUE) %>%\n",
    "    dplyr::select(-value) %>%\n",
    "    mutate(\n",
    "#         membership_fact = factor(membership, levels = c(\"both\", \"predictive_only\", \"DE_only\", \"neither\")),\n",
    "        membership_fact = factor(membership, levels = c(\"predictive_only\", \"predictive_and_DE\", \"DE_only\", \"neither\")),\n",
    "        membership_num = as.numeric(membership_fact)\n",
    "    ) %>%\n",
    "    dplyr::select(-membership) %>%\n",
    "    dplyr::rename(membership = membership_fact)"
   ]
  },
  {
   "cell_type": "code",
   "execution_count": 10,
   "metadata": {},
   "outputs": [
    {
     "name": "stderr",
     "output_type": "stream",
     "text": [
      "`summarise()` regrouping output by 'category' (override with `.groups` argument)\n"
     ]
    }
   ],
   "source": [
    "cat_bp_df <- bp_pivot_df %>%\n",
    "    inner_join(matrisome_df, by = c(\"geneID\" = \"gene_symbol\")) %>%\n",
    "    group_by(category, membership) %>%\n",
    "    summarize(n_genes = n()) %>%\n",
    "    dplyr::rename(Membership = membership) %>%\n",
    "    dplyr::mutate(Membership = dplyr::recode(Membership, \"predictive_only\" = \"Predictive only\", \"predictive_and_DE\" = \"Predictive and DE\", \"DE_only\" = \"DE only\", \"neither\" = \"Neither\"))\n",
    "# cat_bp_df"
   ]
  },
  {
   "cell_type": "code",
   "execution_count": 25,
   "metadata": {},
   "outputs": [
    {
     "name": "stderr",
     "output_type": "stream",
     "text": [
      "Saving 6.67 x 6.67 in image\n"
     ]
    },
    {
     "data": {
      "image/png": "[encoded data removed]",
      "text/plain": [
       "plot without title"
      ]
     },
     "metadata": {},
     "output_type": "display_data"
    }
   ],
   "source": [
    "# ggplot(data = cat_bp_df, aes(x = membership, y = n_genes, fill = category)) +\n",
    "ggplot(data = cat_bp_df, aes(x = category, y = n_genes, fill = Membership)) +\n",
    "#     scale_fill_jama() +\n",
    "    scale_fill_manual(values = c(\"steelblue3\", \"darkorchid4\", \"firebrick3\", \"gray70\")) +\n",
    "    labs(y = \"gene count\") +\n",
    "    theme_bw() +\n",
    "    theme(\n",
    "        axis.title.x = element_blank(),\n",
    "        axis.title.y = element_text(size = 18),\n",
    "        axis.text.x = element_text(size = 14, face = \"bold\", angle = 55, vjust = 0.55, hjust=0.5),\n",
    "        legend.title = element_text(size = 18, face = \"bold\"),\n",
    "        legend.text = element_text(size = 18),\n",
    "        legend.position = \"none\"\n",
    "    ) +\n",
    "    geom_bar(stat = \"identity\")\n",
    "ggsave(paste0(dirs$figures_dir, \"/\", unified_dsets[i], \"_matrisome_DEG_predictive_stacked_bp.png\"), last_plot())"
   ]
  },
  {
   "cell_type": "code",
   "execution_count": null,
   "metadata": {},
   "outputs": [],
   "source": []
  }
 ],
 "metadata": {
  "kernelspec": {
   "display_name": "R",
   "language": "R",
   "name": "ir"
  },
  "language_info": {
   "codemirror_mode": "r",
   "file_extension": ".r",
   "mimetype": "text/x-r-source",
   "name": "R",
   "pygments_lexer": "r",
   "version": "3.6.3"
  }
 },
 "nbformat": 4,
 "nbformat_minor": 4
}
