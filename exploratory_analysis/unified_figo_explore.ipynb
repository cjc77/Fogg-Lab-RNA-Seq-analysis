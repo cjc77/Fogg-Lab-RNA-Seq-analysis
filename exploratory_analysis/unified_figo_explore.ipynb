{
 "cells": [
  {
   "cell_type": "code",
   "execution_count": 70,
   "metadata": {},
   "outputs": [],
   "source": [
    "library(tidyverse)\n",
    "library(umap)\n",
    "\n",
    "# Custom package\n",
    "library(rutils)"
   ]
  },
  {
   "cell_type": "code",
   "execution_count": 71,
   "metadata": {},
   "outputs": [],
   "source": [
    "dirs <- rutils::get_dev_directories(dev_paths_file = \"../dev_paths.txt\")\n",
    "projects <- c(\"TCGA-CESC\", \"TCGA-UCS\", \"TCGA-UCEC\", \"TCGA-OV\")\n",
    "unified_dsets <- c(\"unified_cervical_data\", \"unified_uterine_data\", \"unified_uterine_endometrial_data\")\n",
    "matrisome_path <- paste0(dirs$data_dir, \"/matrisome/matrisome_hs_masterlist.tsv\")"
   ]
  },
  {
   "cell_type": "code",
   "execution_count": 72,
   "metadata": {},
   "outputs": [],
   "source": [
    "i <- 1"
   ]
  },
  {
   "cell_type": "code",
   "execution_count": 73,
   "metadata": {},
   "outputs": [
    {
     "name": "stderr",
     "output_type": "stream",
     "text": [
      "Parsed with column specification:\n",
      "cols(\n",
      "  Division = col_character(),\n",
      "  Category = col_character(),\n",
      "  `Gene Symbol` = col_character(),\n",
      "  `Gene Name` = col_character(),\n",
      "  Synonyms = col_character(),\n",
      "  HGNC_IDs = col_double(),\n",
      "  `HGNC_IDs Links` = col_double(),\n",
      "  UniProt_IDs = col_character(),\n",
      "  Refseq_IDs = col_character(),\n",
      "  Orthology = col_character(),\n",
      "  Notes = col_character()\n",
      ")\n"
     ]
    }
   ],
   "source": [
    "matrisome_df <- load_matrisome_df(matrisome_path)"
   ]
  },
  {
   "cell_type": "code",
   "execution_count": 74,
   "metadata": {},
   "outputs": [],
   "source": [
    "seed = 123"
   ]
  },
  {
   "cell_type": "markdown",
   "metadata": {},
   "source": [
    "# Load and filter survival data"
   ]
  },
  {
   "cell_type": "code",
   "execution_count": 75,
   "metadata": {},
   "outputs": [],
   "source": [
    "event_code <- list(\"Alive\" = 0, \"Dead\" = 1)\n",
    "covariate_cols <- c(\"figo_stage\", \"age_at_diagnosis\", \"race\", \"ethnicity\")\n",
    "dep_cols <- c(\"vital_status\", \"survival_time\")\n",
    "figo_map_df <- tibble(\n",
    "    roman_num = c(\"I\", \"II\", \"III\", \"IV\"),\n",
    "    figo_code = c('1', '2', '3', '4')\n",
    ")"
   ]
  },
  {
   "cell_type": "code",
   "execution_count": 76,
   "metadata": {},
   "outputs": [
    {
     "name": "stderr",
     "output_type": "stream",
     "text": [
      "Parsed with column specification:\n",
      "cols(\n",
      "  sample_name = col_character(),\n",
      "  vital_status = col_character(),\n",
      "  survival_time = col_double(),\n",
      "  figo_stage = col_character(),\n",
      "  days_to_last_follow_up = col_double(),\n",
      "  days_to_death = col_double(),\n",
      "  age_at_diagnosis = col_double(),\n",
      "  age_at_index = col_double(),\n",
      "  height = col_double(),\n",
      "  weight = col_double(),\n",
      "  bmi = col_double(),\n",
      "  race = col_character(),\n",
      "  ethnicity = col_character()\n",
      ")\n"
     ]
    }
   ],
   "source": [
    "# survival_df <- read_tsv(paste0(dirs$data_dir, \"/\", unified_dsets[i], \"/survival_data.tsv\"))\n",
    "survival_path <- paste0(dirs$data_dir, \"/\", unified_dsets[i], \"/survival_data.tsv\")\n",
    "survival_df <- load_survival_df(survival_path, event_code)\n",
    "filtered_survival_df <- survival_df %>%\n",
    "    dplyr::select(one_of(c(\"sample_name\", dep_cols, covariate_cols))) %>%\n",
    "    dplyr::filter(rowSums(is.na(.)) == 0) %>%\n",
    "    dplyr::mutate(\n",
    "        figo_rn = str_extract(figo_stage, \"IV|III|II|I\")\n",
    "    ) %>%\n",
    "    dplyr::inner_join(figo_map_df, by = c(\"figo_rn\" = \"roman_num\")) %>%\n",
    "    dplyr::select(-c(figo_rn, figo_stage)) %>%\n",
    "    dplyr::rename(figo_stage = figo_code) %>%\n",
    "    # Convert categorical columns to one-hot to prep for other analyses\n",
    "    bind_cols(to_one_hot(., \"race\")) %>%\n",
    "    bind_cols(to_one_hot(., \"ethnicity\")) %>%\n",
    "    dplyr::select(c(\"sample_name\", \"figo_stage\"), everything(), -c(\"race\", \"ethnicity\", \"vital_status\", \"survival_time\"))"
   ]
  },
  {
   "cell_type": "markdown",
   "metadata": {},
   "source": [
    "# Load normalized matrisome count data"
   ]
  },
  {
   "cell_type": "code",
   "execution_count": 77,
   "metadata": {},
   "outputs": [
    {
     "name": "stderr",
     "output_type": "stream",
     "text": [
      "Parsed with column specification:\n",
      "cols(\n",
      "  .default = col_double(),\n",
      "  geneID = col_character()\n",
      ")\n",
      "See spec(...) for full column specifications.\n"
     ]
    }
   ],
   "source": [
    "norm_matrisome_counts <- read_tsv(paste0(dirs$data_dir, \"/\", unified_dsets[i], \"/norm_matrisome_counts.tsv\")) %>%\n",
    "    column_to_rownames(var = \"geneID\") %>%\n",
    "    as.matrix()\n",
    "\n",
    "# Match up columns of counts with rows of survival data & only include samples present in survival data\n",
    "norm_matrisome_survival_counts <- norm_matrisome_counts[, filtered_survival_df$sample_name]"
   ]
  },
  {
   "cell_type": "code",
   "execution_count": 78,
   "metadata": {},
   "outputs": [
    {
     "data": {
      "text/html": [
       "TRUE"
      ],
      "text/latex": [
       "TRUE"
      ],
      "text/markdown": [
       "TRUE"
      ],
      "text/plain": [
       "[1] TRUE"
      ]
     },
     "metadata": {},
     "output_type": "display_data"
    }
   ],
   "source": [
    "all(rownames(t(norm_matrisome_survival_counts)) == filtered_survival_df$sample_name)"
   ]
  },
  {
   "cell_type": "markdown",
   "metadata": {},
   "source": [
    "# Combine filtered survival data and normalized count data"
   ]
  },
  {
   "cell_type": "code",
   "execution_count": 79,
   "metadata": {},
   "outputs": [
    {
     "data": {
      "text/html": [
       "255"
      ],
      "text/latex": [
       "255"
      ],
      "text/markdown": [
       "255"
      ],
      "text/plain": [
       "[1] 255"
      ]
     },
     "metadata": {},
     "output_type": "display_data"
    },
    {
     "data": {
      "text/html": [
       "<table>\n",
       "<caption>A tibble: 6 × 1020</caption>\n",
       "<thead>\n",
       "\t<tr><th scope=col>sample_name</th><th scope=col>figo_stage</th><th scope=col>age_at_diagnosis</th><th scope=col>race_american_indian_or_alaska_native</th><th scope=col>race_asian</th><th scope=col>race_black_or_african_american</th><th scope=col>race_native_hawaiian_or_other_pacific_islander</th><th scope=col>race_not_reported</th><th scope=col>race_white</th><th scope=col>ethnicity_hispanic_or_latino</th><th scope=col>⋯</th><th scope=col>PIK3IP1</th><th scope=col>C1QTNF2</th><th scope=col>PCSK5</th><th scope=col>ANXA1</th><th scope=col>HGF</th><th scope=col>VWA2</th><th scope=col>FGF3</th><th scope=col>POSTN</th><th scope=col>NTF3</th><th scope=col>S100A6</th></tr>\n",
       "\t<tr><th scope=col>&lt;chr&gt;</th><th scope=col>&lt;chr&gt;</th><th scope=col>&lt;dbl&gt;</th><th scope=col>&lt;dbl&gt;</th><th scope=col>&lt;dbl&gt;</th><th scope=col>&lt;dbl&gt;</th><th scope=col>&lt;dbl&gt;</th><th scope=col>&lt;dbl&gt;</th><th scope=col>&lt;dbl&gt;</th><th scope=col>&lt;dbl&gt;</th><th scope=col>⋯</th><th scope=col>&lt;dbl&gt;</th><th scope=col>&lt;dbl&gt;</th><th scope=col>&lt;dbl&gt;</th><th scope=col>&lt;dbl&gt;</th><th scope=col>&lt;dbl&gt;</th><th scope=col>&lt;dbl&gt;</th><th scope=col>&lt;dbl&gt;</th><th scope=col>&lt;dbl&gt;</th><th scope=col>&lt;dbl&gt;</th><th scope=col>&lt;dbl&gt;</th></tr>\n",
       "</thead>\n",
       "<tbody>\n",
       "\t<tr><td>TCGA-C5-A1BF-01B-11R-A13Y-07</td><td>1</td><td>16975</td><td>0</td><td>0</td><td>0</td><td>0</td><td>0</td><td>1</td><td>0</td><td>⋯</td><td> 9.013453</td><td>8.190325</td><td> 9.503647</td><td>14.07799</td><td> 6.569726</td><td>7.315604</td><td>4.602649</td><td>12.062300</td><td>5.649441</td><td>16.55841</td></tr>\n",
       "\t<tr><td>TCGA-MU-A51Y-01A-11R-A26T-07</td><td>2</td><td>10199</td><td>0</td><td>0</td><td>0</td><td>0</td><td>0</td><td>1</td><td>0</td><td>⋯</td><td>12.208410</td><td>8.172899</td><td>10.515388</td><td>16.88600</td><td> 7.384140</td><td>7.366949</td><td>4.890169</td><td>11.011959</td><td>5.406776</td><td>14.76108</td></tr>\n",
       "\t<tr><td>TCGA-EK-A2RM-01A-21R-A18M-07</td><td>1</td><td>14842</td><td>0</td><td>0</td><td>0</td><td>0</td><td>0</td><td>1</td><td>0</td><td>⋯</td><td>10.854224</td><td>6.581217</td><td> 8.437154</td><td>15.81626</td><td> 7.644559</td><td>6.406766</td><td>4.998296</td><td>11.731128</td><td>6.028879</td><td>17.11959</td></tr>\n",
       "\t<tr><td>TCGA-Q1-A73P-01A-11R-A32P-07</td><td>1</td><td>16450</td><td>0</td><td>0</td><td>0</td><td>0</td><td>0</td><td>1</td><td>0</td><td>⋯</td><td>10.854487</td><td>5.629541</td><td> 9.602922</td><td>14.17475</td><td> 6.987468</td><td>6.731154</td><td>4.602649</td><td> 9.293089</td><td>4.893018</td><td>16.64949</td></tr>\n",
       "\t<tr><td>TCGA-C5-A8YT-01A-11R-A37O-07</td><td>1</td><td>13253</td><td>0</td><td>0</td><td>0</td><td>0</td><td>0</td><td>1</td><td>0</td><td>⋯</td><td> 9.453187</td><td>6.398956</td><td>12.288955</td><td>13.39633</td><td>10.228758</td><td>8.542025</td><td>4.602649</td><td>11.765396</td><td>5.318924</td><td>13.55632</td></tr>\n",
       "\t<tr><td>TCGA-C5-A2LZ-01A-11R-A213-07</td><td>3</td><td>24059</td><td>0</td><td>0</td><td>0</td><td>0</td><td>0</td><td>1</td><td>0</td><td>⋯</td><td>11.492135</td><td>7.426145</td><td> 9.480199</td><td>15.92715</td><td> 6.010764</td><td>7.405245</td><td>4.602649</td><td> 7.506731</td><td>5.423416</td><td>14.73802</td></tr>\n",
       "</tbody>\n",
       "</table>\n"
      ],
      "text/latex": [
       "A tibble: 6 × 1020\n",
       "\\begin{tabular}{lllllllllllllllllllll}\n",
       " sample\\_name & figo\\_stage & age\\_at\\_diagnosis & race\\_american\\_indian\\_or\\_alaska\\_native & race\\_asian & race\\_black\\_or\\_african\\_american & race\\_native\\_hawaiian\\_or\\_other\\_pacific\\_islander & race\\_not\\_reported & race\\_white & ethnicity\\_hispanic\\_or\\_latino & ⋯ & PIK3IP1 & C1QTNF2 & PCSK5 & ANXA1 & HGF & VWA2 & FGF3 & POSTN & NTF3 & S100A6\\\\\n",
       " <chr> & <chr> & <dbl> & <dbl> & <dbl> & <dbl> & <dbl> & <dbl> & <dbl> & <dbl> & ⋯ & <dbl> & <dbl> & <dbl> & <dbl> & <dbl> & <dbl> & <dbl> & <dbl> & <dbl> & <dbl>\\\\\n",
       "\\hline\n",
       "\t TCGA-C5-A1BF-01B-11R-A13Y-07 & 1 & 16975 & 0 & 0 & 0 & 0 & 0 & 1 & 0 & ⋯ &  9.013453 & 8.190325 &  9.503647 & 14.07799 &  6.569726 & 7.315604 & 4.602649 & 12.062300 & 5.649441 & 16.55841\\\\\n",
       "\t TCGA-MU-A51Y-01A-11R-A26T-07 & 2 & 10199 & 0 & 0 & 0 & 0 & 0 & 1 & 0 & ⋯ & 12.208410 & 8.172899 & 10.515388 & 16.88600 &  7.384140 & 7.366949 & 4.890169 & 11.011959 & 5.406776 & 14.76108\\\\\n",
       "\t TCGA-EK-A2RM-01A-21R-A18M-07 & 1 & 14842 & 0 & 0 & 0 & 0 & 0 & 1 & 0 & ⋯ & 10.854224 & 6.581217 &  8.437154 & 15.81626 &  7.644559 & 6.406766 & 4.998296 & 11.731128 & 6.028879 & 17.11959\\\\\n",
       "\t TCGA-Q1-A73P-01A-11R-A32P-07 & 1 & 16450 & 0 & 0 & 0 & 0 & 0 & 1 & 0 & ⋯ & 10.854487 & 5.629541 &  9.602922 & 14.17475 &  6.987468 & 6.731154 & 4.602649 &  9.293089 & 4.893018 & 16.64949\\\\\n",
       "\t TCGA-C5-A8YT-01A-11R-A37O-07 & 1 & 13253 & 0 & 0 & 0 & 0 & 0 & 1 & 0 & ⋯ &  9.453187 & 6.398956 & 12.288955 & 13.39633 & 10.228758 & 8.542025 & 4.602649 & 11.765396 & 5.318924 & 13.55632\\\\\n",
       "\t TCGA-C5-A2LZ-01A-11R-A213-07 & 3 & 24059 & 0 & 0 & 0 & 0 & 0 & 1 & 0 & ⋯ & 11.492135 & 7.426145 &  9.480199 & 15.92715 &  6.010764 & 7.405245 & 4.602649 &  7.506731 & 5.423416 & 14.73802\\\\\n",
       "\\end{tabular}\n"
      ],
      "text/markdown": [
       "\n",
       "A tibble: 6 × 1020\n",
       "\n",
       "| sample_name &lt;chr&gt; | figo_stage &lt;chr&gt; | age_at_diagnosis &lt;dbl&gt; | race_american_indian_or_alaska_native &lt;dbl&gt; | race_asian &lt;dbl&gt; | race_black_or_african_american &lt;dbl&gt; | race_native_hawaiian_or_other_pacific_islander &lt;dbl&gt; | race_not_reported &lt;dbl&gt; | race_white &lt;dbl&gt; | ethnicity_hispanic_or_latino &lt;dbl&gt; | ⋯ ⋯ | PIK3IP1 &lt;dbl&gt; | C1QTNF2 &lt;dbl&gt; | PCSK5 &lt;dbl&gt; | ANXA1 &lt;dbl&gt; | HGF &lt;dbl&gt; | VWA2 &lt;dbl&gt; | FGF3 &lt;dbl&gt; | POSTN &lt;dbl&gt; | NTF3 &lt;dbl&gt; | S100A6 &lt;dbl&gt; |\n",
       "|---|---|---|---|---|---|---|---|---|---|---|---|---|---|---|---|---|---|---|---|---|\n",
       "| TCGA-C5-A1BF-01B-11R-A13Y-07 | 1 | 16975 | 0 | 0 | 0 | 0 | 0 | 1 | 0 | ⋯ |  9.013453 | 8.190325 |  9.503647 | 14.07799 |  6.569726 | 7.315604 | 4.602649 | 12.062300 | 5.649441 | 16.55841 |\n",
       "| TCGA-MU-A51Y-01A-11R-A26T-07 | 2 | 10199 | 0 | 0 | 0 | 0 | 0 | 1 | 0 | ⋯ | 12.208410 | 8.172899 | 10.515388 | 16.88600 |  7.384140 | 7.366949 | 4.890169 | 11.011959 | 5.406776 | 14.76108 |\n",
       "| TCGA-EK-A2RM-01A-21R-A18M-07 | 1 | 14842 | 0 | 0 | 0 | 0 | 0 | 1 | 0 | ⋯ | 10.854224 | 6.581217 |  8.437154 | 15.81626 |  7.644559 | 6.406766 | 4.998296 | 11.731128 | 6.028879 | 17.11959 |\n",
       "| TCGA-Q1-A73P-01A-11R-A32P-07 | 1 | 16450 | 0 | 0 | 0 | 0 | 0 | 1 | 0 | ⋯ | 10.854487 | 5.629541 |  9.602922 | 14.17475 |  6.987468 | 6.731154 | 4.602649 |  9.293089 | 4.893018 | 16.64949 |\n",
       "| TCGA-C5-A8YT-01A-11R-A37O-07 | 1 | 13253 | 0 | 0 | 0 | 0 | 0 | 1 | 0 | ⋯ |  9.453187 | 6.398956 | 12.288955 | 13.39633 | 10.228758 | 8.542025 | 4.602649 | 11.765396 | 5.318924 | 13.55632 |\n",
       "| TCGA-C5-A2LZ-01A-11R-A213-07 | 3 | 24059 | 0 | 0 | 0 | 0 | 0 | 1 | 0 | ⋯ | 11.492135 | 7.426145 |  9.480199 | 15.92715 |  6.010764 | 7.405245 | 4.602649 |  7.506731 | 5.423416 | 14.73802 |\n",
       "\n"
      ],
      "text/plain": [
       "  sample_name                  figo_stage age_at_diagnosis\n",
       "1 TCGA-C5-A1BF-01B-11R-A13Y-07 1          16975           \n",
       "2 TCGA-MU-A51Y-01A-11R-A26T-07 2          10199           \n",
       "3 TCGA-EK-A2RM-01A-21R-A18M-07 1          14842           \n",
       "4 TCGA-Q1-A73P-01A-11R-A32P-07 1          16450           \n",
       "5 TCGA-C5-A8YT-01A-11R-A37O-07 1          13253           \n",
       "6 TCGA-C5-A2LZ-01A-11R-A213-07 3          24059           \n",
       "  race_american_indian_or_alaska_native race_asian\n",
       "1 0                                     0         \n",
       "2 0                                     0         \n",
       "3 0                                     0         \n",
       "4 0                                     0         \n",
       "5 0                                     0         \n",
       "6 0                                     0         \n",
       "  race_black_or_african_american race_native_hawaiian_or_other_pacific_islander\n",
       "1 0                              0                                             \n",
       "2 0                              0                                             \n",
       "3 0                              0                                             \n",
       "4 0                              0                                             \n",
       "5 0                              0                                             \n",
       "6 0                              0                                             \n",
       "  race_not_reported race_white ethnicity_hispanic_or_latino ⋯ PIK3IP1  \n",
       "1 0                 1          0                            ⋯  9.013453\n",
       "2 0                 1          0                            ⋯ 12.208410\n",
       "3 0                 1          0                            ⋯ 10.854224\n",
       "4 0                 1          0                            ⋯ 10.854487\n",
       "5 0                 1          0                            ⋯  9.453187\n",
       "6 0                 1          0                            ⋯ 11.492135\n",
       "  C1QTNF2  PCSK5     ANXA1    HGF       VWA2     FGF3     POSTN     NTF3    \n",
       "1 8.190325  9.503647 14.07799  6.569726 7.315604 4.602649 12.062300 5.649441\n",
       "2 8.172899 10.515388 16.88600  7.384140 7.366949 4.890169 11.011959 5.406776\n",
       "3 6.581217  8.437154 15.81626  7.644559 6.406766 4.998296 11.731128 6.028879\n",
       "4 5.629541  9.602922 14.17475  6.987468 6.731154 4.602649  9.293089 4.893018\n",
       "5 6.398956 12.288955 13.39633 10.228758 8.542025 4.602649 11.765396 5.318924\n",
       "6 7.426145  9.480199 15.92715  6.010764 7.405245 4.602649  7.506731 5.423416\n",
       "  S100A6  \n",
       "1 16.55841\n",
       "2 14.76108\n",
       "3 17.11959\n",
       "4 16.64949\n",
       "5 13.55632\n",
       "6 14.73802"
      ]
     },
     "metadata": {},
     "output_type": "display_data"
    }
   ],
   "source": [
    "joined_df <- filtered_survival_df %>%\n",
    "    inner_join(\n",
    "        as_tibble(t(norm_matrisome_survival_counts), rownames = \"sample_name\"),\n",
    "        by = \"sample_name\"\n",
    "    )\n",
    "nrow(joined_df)\n",
    "head(joined_df)\n",
    "\n",
    "# Some genes contain the '-' symbol, which affects formulae\n",
    "colnames(joined_df) <- gsub(\"-\", \"_\", colnames(joined_df))"
   ]
  },
  {
   "cell_type": "code",
   "execution_count": 80,
   "metadata": {},
   "outputs": [],
   "source": [
    "res_umap <- umap(joined_df[-c(1, 2)], random_state = seed)"
   ]
  },
  {
   "cell_type": "code",
   "execution_count": 81,
   "metadata": {},
   "outputs": [],
   "source": [
    "colnames(res_umap$layout) <- c(\"x1\", \"x2\")\n",
    "umap_df <- res_umap$layout %>%\n",
    "    as_tibble() %>%\n",
    "    bind_cols(joined_df[c(\"sample_name\", \"figo_stage\")]) %>%\n",
    "    dplyr::select(c(\"sample_name\", \"figo_stage\"), everything())"
   ]
  },
  {
   "cell_type": "code",
   "execution_count": 83,
   "metadata": {},
   "outputs": [
    {
     "name": "stderr",
     "output_type": "stream",
     "text": [
      "Saving 6.67 x 6.67 in image\n"
     ]
    },
    {
     "data": {
      "image/png": "[encoded data removed]",
      "text/plain": [
       "plot without title"
      ]
     },
     "metadata": {},
     "output_type": "display_data"
    }
   ],
   "source": [
    "plt <- ggplot(umap_df) +\n",
    "    geom_point(aes(x = x1, y = x2, color = figo_stage)) +\n",
    "    theme_classic()\n",
    "plt\n",
    "ggsave(filename = paste0(dirs$figures_dir, \"/\", unified_dsets[i], \"_figo_umap.png\"), last_plot())"
   ]
  },
  {
   "cell_type": "code",
   "execution_count": null,
   "metadata": {},
   "outputs": [],
   "source": []
  }
 ],
 "metadata": {
  "kernelspec": {
   "display_name": "R",
   "language": "R",
   "name": "ir"
  },
  "language_info": {
   "codemirror_mode": "r",
   "file_extension": ".r",
   "mimetype": "text/x-r-source",
   "name": "R",
   "pygments_lexer": "r",
   "version": "3.6.3"
  }
 },
 "nbformat": 4,
 "nbformat_minor": 4
}
