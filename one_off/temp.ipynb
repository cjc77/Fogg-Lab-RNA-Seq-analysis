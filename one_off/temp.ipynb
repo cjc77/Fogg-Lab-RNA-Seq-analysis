{
 "cells": [
  {
   "cell_type": "code",
   "execution_count": 16,
   "metadata": {},
   "outputs": [
    {
     "name": "stderr",
     "output_type": "stream",
     "text": [
      "\n",
      "Attaching package: ‘matrixStats’\n",
      "\n",
      "The following object is masked from ‘package:dplyr’:\n",
      "\n",
      "    count\n",
      "\n"
     ]
    }
   ],
   "source": [
    "library(tidyverse)\n",
    "library(matrixStats)"
   ]
  },
  {
   "cell_type": "code",
   "execution_count": 11,
   "metadata": {},
   "outputs": [
    {
     "name": "stderr",
     "output_type": "stream",
     "text": [
      "Parsed with column specification:\n",
      "cols(\n",
      "  .default = col_double(),\n",
      "  geneID = col_character()\n",
      ")\n",
      "See spec(...) for full column specifications.\n"
     ]
    }
   ],
   "source": [
    "data_path <- \"/mnt/d/fogg_lab_gyn_cancer_data/unified_uterine_endometrial_data/norm_matrisome_counts.tsv\"\n",
    "counts_df <- read_tsv(data_path)"
   ]
  },
  {
   "cell_type": "code",
   "execution_count": 42,
   "metadata": {},
   "outputs": [],
   "source": [
    "counts_var_sorted_df <- counts_df %>%\n",
    "    dplyr::mutate(row_var = rowVars(as.matrix(.[, -1]))) %>%\n",
    "    dplyr::select(geneID, row_var, everything()) %>%\n",
    "    dplyr::arrange(desc(row_var))"
   ]
  },
  {
   "cell_type": "code",
   "execution_count": 44,
   "metadata": {},
   "outputs": [
    {
     "data": {
      "text/html": [
       "<table>\n",
       "<caption>A tibble: 1 × 248</caption>\n",
       "<thead>\n",
       "\t<tr><th scope=col>geneID</th><th scope=col>row_var</th><th scope=col>GTEX-T6MO-1526-SM-4DM57</th><th scope=col>GTEX-11P81-1626-SM-5BC52</th><th scope=col>GTEX-13N11-1126-SM-5KM41</th><th scope=col>GTEX-RTLS-2426-SM-46MUO</th><th scope=col>GTEX-ZP4G-0726-SM-4WWF2</th><th scope=col>GTEX-WEY5-0726-SM-4LMID</th><th scope=col>GTEX-T2IS-2226-SM-4DM65</th><th scope=col>GTEX-PX3G-2026-SM-48U1H</th><th scope=col>⋯</th><th scope=col>TCGA-EO-A3AU-01A-21R-A19W-07</th><th scope=col>TCGA-AJ-A3EK-01A-11R-A19W-07</th><th scope=col>TCGA-5S-A9Q8-01A-11R-A40A-07</th><th scope=col>TCGA-BK-A139-01A-11R-A277-07</th><th scope=col>TCGA-D1-A3DG-01A-11R-A19W-07</th><th scope=col>TCGA-EO-A22X-01A-11R-A180-07</th><th scope=col>TCGA-KP-A3W1-01A-11R-A22K-07</th><th scope=col>TCGA-PG-A916-01A-11R-A37O-07</th><th scope=col>TCGA-EY-A4KR-01A-11R-A27V-07</th><th scope=col>TCGA-KP-A3VZ-01A-11R-A22K-07</th></tr>\n",
       "\t<tr><th scope=col>&lt;chr&gt;</th><th scope=col>&lt;dbl&gt;</th><th scope=col>&lt;dbl&gt;</th><th scope=col>&lt;dbl&gt;</th><th scope=col>&lt;dbl&gt;</th><th scope=col>&lt;dbl&gt;</th><th scope=col>&lt;dbl&gt;</th><th scope=col>&lt;dbl&gt;</th><th scope=col>&lt;dbl&gt;</th><th scope=col>&lt;dbl&gt;</th><th scope=col>⋯</th><th scope=col>&lt;dbl&gt;</th><th scope=col>&lt;dbl&gt;</th><th scope=col>&lt;dbl&gt;</th><th scope=col>&lt;dbl&gt;</th><th scope=col>&lt;dbl&gt;</th><th scope=col>&lt;dbl&gt;</th><th scope=col>&lt;dbl&gt;</th><th scope=col>&lt;dbl&gt;</th><th scope=col>&lt;dbl&gt;</th><th scope=col>&lt;dbl&gt;</th></tr>\n",
       "</thead>\n",
       "<tbody>\n",
       "\t<tr><td>SLPI</td><td>15.51461</td><td>7.28281</td><td>5.428862</td><td>5.971</td><td>6.560159</td><td>5.985706</td><td>8.476476</td><td>5.590838</td><td>5.132902</td><td>⋯</td><td>14.36859</td><td>11.14038</td><td>12.92555</td><td>13.35592</td><td>12.84378</td><td>9.17712</td><td>16.09502</td><td>17.18045</td><td>13.27019</td><td>14.05384</td></tr>\n",
       "</tbody>\n",
       "</table>\n"
      ],
      "text/latex": [
       "A tibble: 1 × 248\n",
       "\\begin{tabular}{lllllllllllllllllllll}\n",
       " geneID & row\\_var & GTEX-T6MO-1526-SM-4DM57 & GTEX-11P81-1626-SM-5BC52 & GTEX-13N11-1126-SM-5KM41 & GTEX-RTLS-2426-SM-46MUO & GTEX-ZP4G-0726-SM-4WWF2 & GTEX-WEY5-0726-SM-4LMID & GTEX-T2IS-2226-SM-4DM65 & GTEX-PX3G-2026-SM-48U1H & ⋯ & TCGA-EO-A3AU-01A-21R-A19W-07 & TCGA-AJ-A3EK-01A-11R-A19W-07 & TCGA-5S-A9Q8-01A-11R-A40A-07 & TCGA-BK-A139-01A-11R-A277-07 & TCGA-D1-A3DG-01A-11R-A19W-07 & TCGA-EO-A22X-01A-11R-A180-07 & TCGA-KP-A3W1-01A-11R-A22K-07 & TCGA-PG-A916-01A-11R-A37O-07 & TCGA-EY-A4KR-01A-11R-A27V-07 & TCGA-KP-A3VZ-01A-11R-A22K-07\\\\\n",
       " <chr> & <dbl> & <dbl> & <dbl> & <dbl> & <dbl> & <dbl> & <dbl> & <dbl> & <dbl> & ⋯ & <dbl> & <dbl> & <dbl> & <dbl> & <dbl> & <dbl> & <dbl> & <dbl> & <dbl> & <dbl>\\\\\n",
       "\\hline\n",
       "\t SLPI & 15.51461 & 7.28281 & 5.428862 & 5.971 & 6.560159 & 5.985706 & 8.476476 & 5.590838 & 5.132902 & ⋯ & 14.36859 & 11.14038 & 12.92555 & 13.35592 & 12.84378 & 9.17712 & 16.09502 & 17.18045 & 13.27019 & 14.05384\\\\\n",
       "\\end{tabular}\n"
      ],
      "text/markdown": [
       "\n",
       "A tibble: 1 × 248\n",
       "\n",
       "| geneID &lt;chr&gt; | row_var &lt;dbl&gt; | GTEX-T6MO-1526-SM-4DM57 &lt;dbl&gt; | GTEX-11P81-1626-SM-5BC52 &lt;dbl&gt; | GTEX-13N11-1126-SM-5KM41 &lt;dbl&gt; | GTEX-RTLS-2426-SM-46MUO &lt;dbl&gt; | GTEX-ZP4G-0726-SM-4WWF2 &lt;dbl&gt; | GTEX-WEY5-0726-SM-4LMID &lt;dbl&gt; | GTEX-T2IS-2226-SM-4DM65 &lt;dbl&gt; | GTEX-PX3G-2026-SM-48U1H &lt;dbl&gt; | ⋯ ⋯ | TCGA-EO-A3AU-01A-21R-A19W-07 &lt;dbl&gt; | TCGA-AJ-A3EK-01A-11R-A19W-07 &lt;dbl&gt; | TCGA-5S-A9Q8-01A-11R-A40A-07 &lt;dbl&gt; | TCGA-BK-A139-01A-11R-A277-07 &lt;dbl&gt; | TCGA-D1-A3DG-01A-11R-A19W-07 &lt;dbl&gt; | TCGA-EO-A22X-01A-11R-A180-07 &lt;dbl&gt; | TCGA-KP-A3W1-01A-11R-A22K-07 &lt;dbl&gt; | TCGA-PG-A916-01A-11R-A37O-07 &lt;dbl&gt; | TCGA-EY-A4KR-01A-11R-A27V-07 &lt;dbl&gt; | TCGA-KP-A3VZ-01A-11R-A22K-07 &lt;dbl&gt; |\n",
       "|---|---|---|---|---|---|---|---|---|---|---|---|---|---|---|---|---|---|---|---|---|\n",
       "| SLPI | 15.51461 | 7.28281 | 5.428862 | 5.971 | 6.560159 | 5.985706 | 8.476476 | 5.590838 | 5.132902 | ⋯ | 14.36859 | 11.14038 | 12.92555 | 13.35592 | 12.84378 | 9.17712 | 16.09502 | 17.18045 | 13.27019 | 14.05384 |\n",
       "\n"
      ],
      "text/plain": [
       "  geneID row_var  GTEX-T6MO-1526-SM-4DM57 GTEX-11P81-1626-SM-5BC52\n",
       "1 SLPI   15.51461 7.28281                 5.428862                \n",
       "  GTEX-13N11-1126-SM-5KM41 GTEX-RTLS-2426-SM-46MUO GTEX-ZP4G-0726-SM-4WWF2\n",
       "1 5.971                    6.560159                5.985706               \n",
       "  GTEX-WEY5-0726-SM-4LMID GTEX-T2IS-2226-SM-4DM65 GTEX-PX3G-2026-SM-48U1H ⋯\n",
       "1 8.476476                5.590838                5.132902                ⋯\n",
       "  TCGA-EO-A3AU-01A-21R-A19W-07 TCGA-AJ-A3EK-01A-11R-A19W-07\n",
       "1 14.36859                     11.14038                    \n",
       "  TCGA-5S-A9Q8-01A-11R-A40A-07 TCGA-BK-A139-01A-11R-A277-07\n",
       "1 12.92555                     13.35592                    \n",
       "  TCGA-D1-A3DG-01A-11R-A19W-07 TCGA-EO-A22X-01A-11R-A180-07\n",
       "1 12.84378                     9.17712                     \n",
       "  TCGA-KP-A3W1-01A-11R-A22K-07 TCGA-PG-A916-01A-11R-A37O-07\n",
       "1 16.09502                     17.18045                    \n",
       "  TCGA-EY-A4KR-01A-11R-A27V-07 TCGA-KP-A3VZ-01A-11R-A22K-07\n",
       "1 13.27019                     14.05384                    "
      ]
     },
     "metadata": {},
     "output_type": "display_data"
    }
   ],
   "source": [
    "counts_var_sorted_df[1, ]"
   ]
  }
 ],
 "metadata": {
  "kernelspec": {
   "display_name": "R",
   "language": "R",
   "name": "ir"
  },
  "language_info": {
   "codemirror_mode": "r",
   "file_extension": ".r",
   "mimetype": "text/x-r-source",
   "name": "R",
   "pygments_lexer": "r",
   "version": "3.6.3"
  }
 },
 "nbformat": 4,
 "nbformat_minor": 4
}
