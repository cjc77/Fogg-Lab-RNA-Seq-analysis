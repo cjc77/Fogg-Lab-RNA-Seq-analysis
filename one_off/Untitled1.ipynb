{
 "cells": [
  {
   "cell_type": "code",
   "execution_count": 2,
   "id": "sixth-accountability",
   "metadata": {},
   "outputs": [],
   "source": [
    "import numpy as np\n",
    "\n",
    "from sklearn.metrics import balanced_accuracy_score"
   ]
  },
  {
   "cell_type": "code",
   "execution_count": 49,
   "id": "mature-briefs",
   "metadata": {},
   "outputs": [],
   "source": [
    "y = np.concatenate([np.ones(shape=90), np.zeros(shape=10)])\n",
    "yhat = np.ones(shape=100)\n",
    "yhat[-2:] = 0"
   ]
  },
  {
   "cell_type": "code",
   "execution_count": 50,
   "id": "allied-grain",
   "metadata": {},
   "outputs": [
    {
     "data": {
      "text/plain": [
       "0.6"
      ]
     },
     "execution_count": 50,
     "metadata": {},
     "output_type": "execute_result"
    }
   ],
   "source": [
    "balanced_accuracy_score(y, yhat)"
   ]
  },
  {
   "cell_type": "code",
   "execution_count": null,
   "id": "exterior-accent",
   "metadata": {},
   "outputs": [],
   "source": []
  },
  {
   "cell_type": "code",
   "execution_count": 51,
   "id": "threaded-interview",
   "metadata": {},
   "outputs": [],
   "source": [
    "w_1 = 100 / (2 * sum(y == 1))\n",
    "w_0 = 100 / (2 * sum(y == 0))"
   ]
  },
  {
   "cell_type": "code",
   "execution_count": 52,
   "id": "aquatic-center",
   "metadata": {},
   "outputs": [],
   "source": [
    "wyhat = np.zeros(shape = 100)\n",
    "wyhat[np.where(yhat == 1)] = w_1\n",
    "wyhat[np.where(yhat == 0)] = w_0"
   ]
  },
  {
   "cell_type": "code",
   "execution_count": 53,
   "id": "simplified-orientation",
   "metadata": {},
   "outputs": [
    {
     "data": {
      "text/plain": [
       "0.6"
      ]
     },
     "execution_count": 53,
     "metadata": {},
     "output_type": "execute_result"
    }
   ],
   "source": [
    "np.sum(wyhat[yhat == y]) / 100"
   ]
  },
  {
   "cell_type": "code",
   "execution_count": null,
   "id": "genuine-filter",
   "metadata": {},
   "outputs": [],
   "source": []
  }
 ],
 "metadata": {
  "kernelspec": {
   "display_name": "Python 3",
   "language": "python",
   "name": "python3"
  },
  "language_info": {
   "codemirror_mode": {
    "name": "ipython",
    "version": 3
   },
   "file_extension": ".py",
   "mimetype": "text/x-python",
   "name": "python",
   "nbconvert_exporter": "python",
   "pygments_lexer": "ipython3",
   "version": "3.8.3"
  }
 },
 "nbformat": 4,
 "nbformat_minor": 5
}
