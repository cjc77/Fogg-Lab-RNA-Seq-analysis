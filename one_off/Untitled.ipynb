{
 "cells": [
  {
   "cell_type": "code",
   "execution_count": 1,
   "metadata": {},
   "outputs": [
    {
     "name": "stderr",
     "output_type": "stream",
     "text": [
      "── Attaching packages ─────────────────────────────────────── tidyverse 1.3.0 ──\n",
      "✔ ggplot2 3.3.2     ✔ purrr   0.3.4\n",
      "✔ tibble  3.0.3     ✔ dplyr   1.0.0\n",
      "✔ tidyr   1.1.0     ✔ stringr 1.4.0\n",
      "✔ readr   1.3.1     ✔ forcats 0.5.0\n",
      "── Conflicts ────────────────────────────────────────── tidyverse_conflicts() ──\n",
      "✖ dplyr::filter() masks stats::filter()\n",
      "✖ dplyr::lag()    masks stats::lag()\n"
     ]
    }
   ],
   "source": [
    "library(tidyverse)"
   ]
  },
  {
   "cell_type": "code",
   "execution_count": 2,
   "metadata": {},
   "outputs": [
    {
     "name": "stderr",
     "output_type": "stream",
     "text": [
      "Parsed with column specification:\n",
      "cols(\n",
      "  `Subject ID` = col_character(),\n",
      "  `Collection year` = col_double(),\n",
      "  `Clinicaldiag Description` = col_character(),\n",
      "  Tissue = col_character(),\n",
      "  `Primary Vs Met` = col_character(),\n",
      "  Metastasis = col_character(),\n",
      "  `Paraffin Block` = col_double()\n",
      ")\n"
     ]
    }
   ],
   "source": [
    "root_dir <- \"/mnt/d/fogg_lab_OHSU_samples\"\n",
    "samples_df <- read_csv(paste0(root_dir, \"/biolibrary_sheet.csv\")) %>%\n",
    "    dplyr::rename_with(function(x) {gsub(\" \", \"_\", tolower(x))})"
   ]
  },
  {
   "cell_type": "code",
   "execution_count": 57,
   "metadata": {},
   "outputs": [],
   "source": [
    "get_filtered_df <- function(df, tissue_re) {\n",
    "    filtered_df <- df %>%\n",
    "        dplyr::filter(grepl(tissue_re, tissue), primary_vs_met != \"Metastasis\") %>%\n",
    "        dplyr::mutate(type = ifelse(grepl(\"Normal\", clinicaldiag_description), \"normal\", \"tumor\")) %>%\n",
    "        dplyr::select(-c(metastasis, primary_vs_met))\n",
    "    return(filtered_df)\n",
    "}\n",
    "    \n",
    "get_filtered_type_df <- function(df, keeper_types) {\n",
    "    return(df %>% dplyr::filter(clinicaldiag_description %in% keeper_types))\n",
    "}\n",
    "\n",
    "save_type_df <- function(df, type_, path) {\n",
    "    write_csv(df %>% dplyr::filter(type == type_), path)\n",
    "}"
   ]
  },
  {
   "cell_type": "code",
   "execution_count": 4,
   "metadata": {},
   "outputs": [
    {
     "data": {
      "text/html": [
       "<style>\n",
       ".list-inline {list-style: none; margin:0; padding: 0}\n",
       ".list-inline>li {display: inline-block}\n",
       ".list-inline>li:not(:last-child)::after {content: \"\\00b7\"; padding: 0 .5ex}\n",
       "</style>\n",
       "<ol class=list-inline><li>'Endometrial structure'</li><li>'Myometrial structure'</li><li>'Cervix uteri structure'</li></ol>\n"
      ],
      "text/latex": [
       "\\begin{enumerate*}\n",
       "\\item 'Endometrial structure'\n",
       "\\item 'Myometrial structure'\n",
       "\\item 'Cervix uteri structure'\n",
       "\\end{enumerate*}\n"
      ],
      "text/markdown": [
       "1. 'Endometrial structure'\n",
       "2. 'Myometrial structure'\n",
       "3. 'Cervix uteri structure'\n",
       "\n",
       "\n"
      ],
      "text/plain": [
       "[1] \"Endometrial structure\"  \"Myometrial structure\"   \"Cervix uteri structure\""
      ]
     },
     "metadata": {},
     "output_type": "display_data"
    }
   ],
   "source": [
    "unique(samples_df$tissue)"
   ]
  },
  {
   "cell_type": "code",
   "execution_count": 58,
   "metadata": {},
   "outputs": [],
   "source": [
    "ut_myo_df <- get_filtered_df(samples_df, \"Myometrial|myometrial\")\n",
    "ut_endo_df <- get_filtered_df(samples_df, \"Endometrial|endometrial\")\n",
    "cervix_df <- get_filtered_df(samples_df, \"Cervix|cervix\")"
   ]
  },
  {
   "cell_type": "code",
   "execution_count": 6,
   "metadata": {},
   "outputs": [],
   "source": [
    "# save_type_df(cervix_df, \"tumor\", path = paste0(root_dir, \"/filtered_biolibrary/cervix_tumor.csv\"))\n",
    "# save_type_df(cervix_df, \"normal\", path = paste0(root_dir, \"/filtered_biolibrary/cervix_normal.csv\"))\n",
    "# save_type_df(ut_myo_df, \"tumor\", path = paste0(root_dir, \"/filtered_biolibrary/ut_myo_tumor.csv\"))\n",
    "# save_type_df(ut_myo_df, \"normal\", path = paste0(root_dir, \"/filtered_biolibrary/ut_myo_normal.csv\"))\n",
    "# save_type_df(ut_endo_df, \"tumor\", path = paste0(root_dir, \"/filtered_biolibrary/ut_endo_tumor.csv\"))\n",
    "# save_type_df(ut_endo_df, \"normal\", path = paste0(root_dir, \"/filtered_biolibrary/ut_endo_normal.csv\"))"
   ]
  }
 ],
 "metadata": {
  "kernelspec": {
   "display_name": "R",
   "language": "R",
   "name": "ir"
  },
  "language_info": {
   "codemirror_mode": "r",
   "file_extension": ".r",
   "mimetype": "text/x-r-source",
   "name": "R",
   "pygments_lexer": "r",
   "version": "3.6.3"
  }
 },
 "nbformat": 4,
 "nbformat_minor": 4
}
