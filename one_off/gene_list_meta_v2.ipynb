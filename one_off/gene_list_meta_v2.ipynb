{
 "cells": [
  {
   "cell_type": "code",
   "execution_count": 7,
   "id": "interracial-pixel",
   "metadata": {},
   "outputs": [],
   "source": [
    "library(tidyverse)\n",
    "\n",
    "# Custom package\n",
    "library(rutils)"
   ]
  },
  {
   "cell_type": "code",
   "execution_count": 8,
   "id": "severe-treatment",
   "metadata": {},
   "outputs": [],
   "source": [
    "dirs <- rutils::get_dev_directories(dev_paths_file = \"../dev_paths.txt\")\n",
    "unified_dsets <- c(\"unified_cervical_data\", \"unified_uterine_data\", \"unified_uterine_endometrial_data\")\n",
    "matrisome_path <- paste0(dirs$data_dir, \"/matrisome/matrisome_hs_masterlist.tsv\")"
   ]
  },
  {
   "cell_type": "code",
   "execution_count": 9,
   "id": "static-belly",
   "metadata": {},
   "outputs": [],
   "source": [
    "dset_idx <- 1\n",
    "# hub_con_thresh <- 0.25\n",
    "hub_con_thresh <- 0.0"
   ]
  },
  {
   "cell_type": "code",
   "execution_count": 10,
   "id": "judicial-selection",
   "metadata": {},
   "outputs": [
    {
     "name": "stderr",
     "output_type": "stream",
     "text": [
      "\n",
      "\u001b[36m--\u001b[39m \u001b[1m\u001b[1mColumn specification\u001b[1m\u001b[22m \u001b[36m------------------------------------------------------------------------------------------------\u001b[39m\n",
      "cols(\n",
      "  Division = \u001b[31mcol_character()\u001b[39m,\n",
      "  Category = \u001b[31mcol_character()\u001b[39m,\n",
      "  `Gene Symbol` = \u001b[31mcol_character()\u001b[39m,\n",
      "  `Gene Name` = \u001b[31mcol_character()\u001b[39m,\n",
      "  Synonyms = \u001b[31mcol_character()\u001b[39m,\n",
      "  HGNC_IDs = \u001b[32mcol_double()\u001b[39m,\n",
      "  `HGNC_IDs Links` = \u001b[32mcol_double()\u001b[39m,\n",
      "  UniProt_IDs = \u001b[31mcol_character()\u001b[39m,\n",
      "  Refseq_IDs = \u001b[31mcol_character()\u001b[39m,\n",
      "  Orthology = \u001b[31mcol_character()\u001b[39m,\n",
      "  Notes = \u001b[31mcol_character()\u001b[39m\n",
      ")\n",
      "\n",
      "\n"
     ]
    }
   ],
   "source": [
    "matrisome_df <- load_matrisome_df(matrisome_path) %>%\n",
    "    rename(geneID = gene_symbol) %>%\n",
    "    select(geneID, division, category)"
   ]
  },
  {
   "cell_type": "code",
   "execution_count": 11,
   "id": "alpha-program",
   "metadata": {},
   "outputs": [
    {
     "name": "stderr",
     "output_type": "stream",
     "text": [
      "\n",
      "\u001b[36m--\u001b[39m \u001b[1m\u001b[1mColumn specification\u001b[1m\u001b[22m \u001b[36m------------------------------------------------------------------------------------------------\u001b[39m\n",
      "cols(\n",
      "  geneID = \u001b[31mcol_character()\u001b[39m,\n",
      "  baseMean = \u001b[32mcol_double()\u001b[39m,\n",
      "  log2FoldChange = \u001b[32mcol_double()\u001b[39m,\n",
      "  lfcSE = \u001b[32mcol_double()\u001b[39m,\n",
      "  stat = \u001b[32mcol_double()\u001b[39m,\n",
      "  pvalue = \u001b[32mcol_double()\u001b[39m,\n",
      "  padj = \u001b[32mcol_double()\u001b[39m,\n",
      "  qval = \u001b[32mcol_double()\u001b[39m\n",
      ")\n",
      "\n",
      "\n"
     ]
    }
   ],
   "source": [
    "deseq_df <- read_tsv(paste0(dirs$analysis_dir, \"/deg/\", unified_dsets[dset_idx], \"_DESeq_results.tsv\"))"
   ]
  },
  {
   "cell_type": "code",
   "execution_count": 12,
   "id": "contained-pointer",
   "metadata": {},
   "outputs": [],
   "source": [
    "umsmg_demg_list <- read_lines(paste0(dirs$analysis_dir, \"/gene_lists/\", unified_dsets[dset_idx], \"_umsmg_demg_list.txt\"))\n",
    "umsmg_nsmg_demg_list <- read_lines(paste0(dirs$analysis_dir, \"/gene_lists/\", unified_dsets[dset_idx], \"_umsmg_nsmg_hub_thresh_\", hub_con_thresh, \"_demg_list.txt\"))"
   ]
  },
  {
   "cell_type": "markdown",
   "id": "together-angel",
   "metadata": {},
   "source": [
    "# UMSMG $\\bigcap$ DEMG breakdown"
   ]
  },
  {
   "cell_type": "code",
   "execution_count": 13,
   "id": "exclusive-adaptation",
   "metadata": {},
   "outputs": [
    {
     "data": {
      "text/html": [
       "<table class=\"dataframe\">\n",
       "<caption>A grouped_df: 2 × 2</caption>\n",
       "<thead>\n",
       "\t<tr><th scope=col>division</th><th scope=col>n</th></tr>\n",
       "\t<tr><th scope=col>&lt;chr&gt;</th><th scope=col>&lt;int&gt;</th></tr>\n",
       "</thead>\n",
       "<tbody>\n",
       "\t<tr><td>Core matrisome      </td><td>40</td></tr>\n",
       "\t<tr><td>Matrisome-associated</td><td>82</td></tr>\n",
       "</tbody>\n",
       "</table>\n"
      ],
      "text/latex": [
       "A grouped\\_df: 2 × 2\n",
       "\\begin{tabular}{ll}\n",
       " division & n\\\\\n",
       " <chr> & <int>\\\\\n",
       "\\hline\n",
       "\t Core matrisome       & 40\\\\\n",
       "\t Matrisome-associated & 82\\\\\n",
       "\\end{tabular}\n"
      ],
      "text/markdown": [
       "\n",
       "A grouped_df: 2 × 2\n",
       "\n",
       "| division &lt;chr&gt; | n &lt;int&gt; |\n",
       "|---|---|\n",
       "| Core matrisome       | 40 |\n",
       "| Matrisome-associated | 82 |\n",
       "\n"
      ],
      "text/plain": [
       "  division             n \n",
       "1 Core matrisome       40\n",
       "2 Matrisome-associated 82"
      ]
     },
     "metadata": {},
     "output_type": "display_data"
    },
    {
     "data": {
      "text/html": [
       "<table class=\"dataframe\">\n",
       "<caption>A grouped_df: 6 × 2</caption>\n",
       "<thead>\n",
       "\t<tr><th scope=col>category</th><th scope=col>n</th></tr>\n",
       "\t<tr><th scope=col>&lt;chr&gt;</th><th scope=col>&lt;int&gt;</th></tr>\n",
       "</thead>\n",
       "<tbody>\n",
       "\t<tr><td>Collagens              </td><td> 5</td></tr>\n",
       "\t<tr><td>ECM Glycoproteins      </td><td>30</td></tr>\n",
       "\t<tr><td>ECM Regulators         </td><td>22</td></tr>\n",
       "\t<tr><td>ECM-affiliated Proteins</td><td>22</td></tr>\n",
       "\t<tr><td>Proteoglycans          </td><td> 5</td></tr>\n",
       "\t<tr><td>Secreted Factors       </td><td>38</td></tr>\n",
       "</tbody>\n",
       "</table>\n"
      ],
      "text/latex": [
       "A grouped\\_df: 6 × 2\n",
       "\\begin{tabular}{ll}\n",
       " category & n\\\\\n",
       " <chr> & <int>\\\\\n",
       "\\hline\n",
       "\t Collagens               &  5\\\\\n",
       "\t ECM Glycoproteins       & 30\\\\\n",
       "\t ECM Regulators          & 22\\\\\n",
       "\t ECM-affiliated Proteins & 22\\\\\n",
       "\t Proteoglycans           &  5\\\\\n",
       "\t Secreted Factors        & 38\\\\\n",
       "\\end{tabular}\n"
      ],
      "text/markdown": [
       "\n",
       "A grouped_df: 6 × 2\n",
       "\n",
       "| category &lt;chr&gt; | n &lt;int&gt; |\n",
       "|---|---|\n",
       "| Collagens               |  5 |\n",
       "| ECM Glycoproteins       | 30 |\n",
       "| ECM Regulators          | 22 |\n",
       "| ECM-affiliated Proteins | 22 |\n",
       "| Proteoglycans           |  5 |\n",
       "| Secreted Factors        | 38 |\n",
       "\n"
      ],
      "text/plain": [
       "  category                n \n",
       "1 Collagens                5\n",
       "2 ECM Glycoproteins       30\n",
       "3 ECM Regulators          22\n",
       "4 ECM-affiliated Proteins 22\n",
       "5 Proteoglycans            5\n",
       "6 Secreted Factors        38"
      ]
     },
     "metadata": {},
     "output_type": "display_data"
    }
   ],
   "source": [
    "umsmg_demg_matrisome_df <- matrisome_df %>%\n",
    "    filter(geneID %in% umsmg_demg_list)\n",
    "umsmg_demg_matrisome_df %>%\n",
    "    group_by(division) %>%\n",
    "    count()\n",
    "umsmg_demg_matrisome_df %>%\n",
    "    group_by(category) %>%\n",
    "    count()"
   ]
  },
  {
   "cell_type": "markdown",
   "id": "miniature-appliance",
   "metadata": {},
   "source": [
    "# Full $\\bigcap$ breakdown"
   ]
  },
  {
   "cell_type": "code",
   "execution_count": 14,
   "id": "composite-holmes",
   "metadata": {},
   "outputs": [
    {
     "data": {
      "text/html": [
       "<table class=\"dataframe\">\n",
       "<caption>A grouped_df: 2 × 2</caption>\n",
       "<thead>\n",
       "\t<tr><th scope=col>division</th><th scope=col>n</th></tr>\n",
       "\t<tr><th scope=col>&lt;chr&gt;</th><th scope=col>&lt;int&gt;</th></tr>\n",
       "</thead>\n",
       "<tbody>\n",
       "\t<tr><td>Core matrisome      </td><td> 1</td></tr>\n",
       "\t<tr><td>Matrisome-associated</td><td>21</td></tr>\n",
       "</tbody>\n",
       "</table>\n"
      ],
      "text/latex": [
       "A grouped\\_df: 2 × 2\n",
       "\\begin{tabular}{ll}\n",
       " division & n\\\\\n",
       " <chr> & <int>\\\\\n",
       "\\hline\n",
       "\t Core matrisome       &  1\\\\\n",
       "\t Matrisome-associated & 21\\\\\n",
       "\\end{tabular}\n"
      ],
      "text/markdown": [
       "\n",
       "A grouped_df: 2 × 2\n",
       "\n",
       "| division &lt;chr&gt; | n &lt;int&gt; |\n",
       "|---|---|\n",
       "| Core matrisome       |  1 |\n",
       "| Matrisome-associated | 21 |\n",
       "\n"
      ],
      "text/plain": [
       "  division             n \n",
       "1 Core matrisome        1\n",
       "2 Matrisome-associated 21"
      ]
     },
     "metadata": {},
     "output_type": "display_data"
    },
    {
     "data": {
      "text/html": [
       "<table class=\"dataframe\">\n",
       "<caption>A grouped_df: 4 × 2</caption>\n",
       "<thead>\n",
       "\t<tr><th scope=col>category</th><th scope=col>n</th></tr>\n",
       "\t<tr><th scope=col>&lt;chr&gt;</th><th scope=col>&lt;int&gt;</th></tr>\n",
       "</thead>\n",
       "<tbody>\n",
       "\t<tr><td>ECM Glycoproteins      </td><td>1</td></tr>\n",
       "\t<tr><td>ECM Regulators         </td><td>8</td></tr>\n",
       "\t<tr><td>ECM-affiliated Proteins</td><td>7</td></tr>\n",
       "\t<tr><td>Secreted Factors       </td><td>6</td></tr>\n",
       "</tbody>\n",
       "</table>\n"
      ],
      "text/latex": [
       "A grouped\\_df: 4 × 2\n",
       "\\begin{tabular}{ll}\n",
       " category & n\\\\\n",
       " <chr> & <int>\\\\\n",
       "\\hline\n",
       "\t ECM Glycoproteins       & 1\\\\\n",
       "\t ECM Regulators          & 8\\\\\n",
       "\t ECM-affiliated Proteins & 7\\\\\n",
       "\t Secreted Factors        & 6\\\\\n",
       "\\end{tabular}\n"
      ],
      "text/markdown": [
       "\n",
       "A grouped_df: 4 × 2\n",
       "\n",
       "| category &lt;chr&gt; | n &lt;int&gt; |\n",
       "|---|---|\n",
       "| ECM Glycoproteins       | 1 |\n",
       "| ECM Regulators          | 8 |\n",
       "| ECM-affiliated Proteins | 7 |\n",
       "| Secreted Factors        | 6 |\n",
       "\n"
      ],
      "text/plain": [
       "  category                n\n",
       "1 ECM Glycoproteins       1\n",
       "2 ECM Regulators          8\n",
       "3 ECM-affiliated Proteins 7\n",
       "4 Secreted Factors        6"
      ]
     },
     "metadata": {},
     "output_type": "display_data"
    }
   ],
   "source": [
    "umsmg_nsmg_demg_matrisome_df <- matrisome_df %>%\n",
    "    filter(geneID %in% umsmg_nsmg_demg_list)\n",
    "umsmg_nsmg_demg_matrisome_df %>%\n",
    "    group_by(division) %>%\n",
    "    count()\n",
    "umsmg_nsmg_demg_matrisome_df %>%\n",
    "    group_by(category) %>%\n",
    "    count()"
   ]
  },
  {
   "cell_type": "markdown",
   "id": "crucial-command",
   "metadata": {},
   "source": [
    "# Pair with DE data"
   ]
  },
  {
   "cell_type": "code",
   "execution_count": 19,
   "id": "primary-classroom",
   "metadata": {},
   "outputs": [
    {
     "data": {
      "text/html": [
       "<table class=\"dataframe\">\n",
       "<caption>A tibble: 22 × 5</caption>\n",
       "<thead>\n",
       "\t<tr><th scope=col>geneID</th><th scope=col>change_dir</th><th scope=col>base_mean</th><th scope=col>lfc</th><th scope=col>qval</th></tr>\n",
       "\t<tr><th scope=col>&lt;chr&gt;</th><th scope=col>&lt;chr&gt;</th><th scope=col>&lt;dbl&gt;</th><th scope=col>&lt;dbl&gt;</th><th scope=col>&lt;dbl&gt;</th></tr>\n",
       "</thead>\n",
       "<tbody>\n",
       "\t<tr><td>A2ML1   </td><td>down</td><td> 8274.666005</td><td>-1.043458</td><td>4.063069e-02</td></tr>\n",
       "\t<tr><td>ADAM20  </td><td>down</td><td>    5.021051</td><td>-2.384743</td><td>5.302013e-19</td></tr>\n",
       "\t<tr><td>ADAMTS18</td><td>down</td><td>   85.515119</td><td>-1.606028</td><td>1.966841e-02</td></tr>\n",
       "\t<tr><td>BMP3    </td><td>up  </td><td>  366.625353</td><td> 3.928452</td><td>2.126623e-06</td></tr>\n",
       "\t<tr><td>CLEC2A  </td><td>up  </td><td>   50.429286</td><td> 4.845719</td><td>2.004929e-04</td></tr>\n",
       "\t<tr><td>CSTB    </td><td>up  </td><td>37130.026057</td><td> 1.311200</td><td>1.174906e-04</td></tr>\n",
       "\t<tr><td>CXCL2   </td><td>up  </td><td>  763.507649</td><td> 2.948239</td><td>1.083130e-07</td></tr>\n",
       "\t<tr><td>FLG2    </td><td>down</td><td>   11.260223</td><td>-1.664013</td><td>2.010630e-02</td></tr>\n",
       "\t<tr><td>HRNR    </td><td>down</td><td>   46.096473</td><td>-1.435467</td><td>2.750615e-03</td></tr>\n",
       "\t<tr><td>LGALS7  </td><td>up  </td><td> 2053.219530</td><td> 4.519554</td><td>2.667718e-10</td></tr>\n",
       "\t<tr><td>LGALS9C </td><td>up  </td><td>  216.965093</td><td> 1.211112</td><td>1.104835e-02</td></tr>\n",
       "\t<tr><td>MMP24   </td><td>down</td><td>   75.707252</td><td>-1.314716</td><td>2.111814e-03</td></tr>\n",
       "\t<tr><td>MMP28   </td><td>up  </td><td> 1975.394828</td><td> 1.861034</td><td>2.783713e-04</td></tr>\n",
       "\t<tr><td>MUC13   </td><td>up  </td><td> 2408.371778</td><td> 7.209132</td><td>2.283496e-13</td></tr>\n",
       "\t<tr><td>MUC6    </td><td>up  </td><td> 1152.485279</td><td> 4.531702</td><td>2.334433e-05</td></tr>\n",
       "\t<tr><td>OVGP1   </td><td>down</td><td>  108.812270</td><td>-1.603303</td><td>7.957032e-07</td></tr>\n",
       "\t<tr><td>S100A11 </td><td>up  </td><td>61333.244152</td><td> 2.289189</td><td>1.529940e-23</td></tr>\n",
       "\t<tr><td>SEMA6C  </td><td>down</td><td>  466.005923</td><td>-2.227597</td><td>2.738100e-13</td></tr>\n",
       "\t<tr><td>SERPINA9</td><td>up  </td><td>    4.385134</td><td> 3.151266</td><td>4.183705e-04</td></tr>\n",
       "\t<tr><td>SERPINB5</td><td>up  </td><td>15735.268369</td><td> 2.444410</td><td>1.165095e-06</td></tr>\n",
       "\t<tr><td>VWA5B2  </td><td>down</td><td>   37.593033</td><td>-1.352740</td><td>4.173751e-03</td></tr>\n",
       "\t<tr><td>WNT3    </td><td>up  </td><td>  291.635608</td><td> 1.180535</td><td>1.181811e-03</td></tr>\n",
       "</tbody>\n",
       "</table>\n"
      ],
      "text/latex": [
       "A tibble: 22 × 5\n",
       "\\begin{tabular}{lllll}\n",
       " geneID & change\\_dir & base\\_mean & lfc & qval\\\\\n",
       " <chr> & <chr> & <dbl> & <dbl> & <dbl>\\\\\n",
       "\\hline\n",
       "\t A2ML1    & down &  8274.666005 & -1.043458 & 4.063069e-02\\\\\n",
       "\t ADAM20   & down &     5.021051 & -2.384743 & 5.302013e-19\\\\\n",
       "\t ADAMTS18 & down &    85.515119 & -1.606028 & 1.966841e-02\\\\\n",
       "\t BMP3     & up   &   366.625353 &  3.928452 & 2.126623e-06\\\\\n",
       "\t CLEC2A   & up   &    50.429286 &  4.845719 & 2.004929e-04\\\\\n",
       "\t CSTB     & up   & 37130.026057 &  1.311200 & 1.174906e-04\\\\\n",
       "\t CXCL2    & up   &   763.507649 &  2.948239 & 1.083130e-07\\\\\n",
       "\t FLG2     & down &    11.260223 & -1.664013 & 2.010630e-02\\\\\n",
       "\t HRNR     & down &    46.096473 & -1.435467 & 2.750615e-03\\\\\n",
       "\t LGALS7   & up   &  2053.219530 &  4.519554 & 2.667718e-10\\\\\n",
       "\t LGALS9C  & up   &   216.965093 &  1.211112 & 1.104835e-02\\\\\n",
       "\t MMP24    & down &    75.707252 & -1.314716 & 2.111814e-03\\\\\n",
       "\t MMP28    & up   &  1975.394828 &  1.861034 & 2.783713e-04\\\\\n",
       "\t MUC13    & up   &  2408.371778 &  7.209132 & 2.283496e-13\\\\\n",
       "\t MUC6     & up   &  1152.485279 &  4.531702 & 2.334433e-05\\\\\n",
       "\t OVGP1    & down &   108.812270 & -1.603303 & 7.957032e-07\\\\\n",
       "\t S100A11  & up   & 61333.244152 &  2.289189 & 1.529940e-23\\\\\n",
       "\t SEMA6C   & down &   466.005923 & -2.227597 & 2.738100e-13\\\\\n",
       "\t SERPINA9 & up   &     4.385134 &  3.151266 & 4.183705e-04\\\\\n",
       "\t SERPINB5 & up   & 15735.268369 &  2.444410 & 1.165095e-06\\\\\n",
       "\t VWA5B2   & down &    37.593033 & -1.352740 & 4.173751e-03\\\\\n",
       "\t WNT3     & up   &   291.635608 &  1.180535 & 1.181811e-03\\\\\n",
       "\\end{tabular}\n"
      ],
      "text/markdown": [
       "\n",
       "A tibble: 22 × 5\n",
       "\n",
       "| geneID &lt;chr&gt; | change_dir &lt;chr&gt; | base_mean &lt;dbl&gt; | lfc &lt;dbl&gt; | qval &lt;dbl&gt; |\n",
       "|---|---|---|---|---|\n",
       "| A2ML1    | down |  8274.666005 | -1.043458 | 4.063069e-02 |\n",
       "| ADAM20   | down |     5.021051 | -2.384743 | 5.302013e-19 |\n",
       "| ADAMTS18 | down |    85.515119 | -1.606028 | 1.966841e-02 |\n",
       "| BMP3     | up   |   366.625353 |  3.928452 | 2.126623e-06 |\n",
       "| CLEC2A   | up   |    50.429286 |  4.845719 | 2.004929e-04 |\n",
       "| CSTB     | up   | 37130.026057 |  1.311200 | 1.174906e-04 |\n",
       "| CXCL2    | up   |   763.507649 |  2.948239 | 1.083130e-07 |\n",
       "| FLG2     | down |    11.260223 | -1.664013 | 2.010630e-02 |\n",
       "| HRNR     | down |    46.096473 | -1.435467 | 2.750615e-03 |\n",
       "| LGALS7   | up   |  2053.219530 |  4.519554 | 2.667718e-10 |\n",
       "| LGALS9C  | up   |   216.965093 |  1.211112 | 1.104835e-02 |\n",
       "| MMP24    | down |    75.707252 | -1.314716 | 2.111814e-03 |\n",
       "| MMP28    | up   |  1975.394828 |  1.861034 | 2.783713e-04 |\n",
       "| MUC13    | up   |  2408.371778 |  7.209132 | 2.283496e-13 |\n",
       "| MUC6     | up   |  1152.485279 |  4.531702 | 2.334433e-05 |\n",
       "| OVGP1    | down |   108.812270 | -1.603303 | 7.957032e-07 |\n",
       "| S100A11  | up   | 61333.244152 |  2.289189 | 1.529940e-23 |\n",
       "| SEMA6C   | down |   466.005923 | -2.227597 | 2.738100e-13 |\n",
       "| SERPINA9 | up   |     4.385134 |  3.151266 | 4.183705e-04 |\n",
       "| SERPINB5 | up   | 15735.268369 |  2.444410 | 1.165095e-06 |\n",
       "| VWA5B2   | down |    37.593033 | -1.352740 | 4.173751e-03 |\n",
       "| WNT3     | up   |   291.635608 |  1.180535 | 1.181811e-03 |\n",
       "\n"
      ],
      "text/plain": [
       "   geneID   change_dir base_mean    lfc       qval        \n",
       "1  A2ML1    down        8274.666005 -1.043458 4.063069e-02\n",
       "2  ADAM20   down           5.021051 -2.384743 5.302013e-19\n",
       "3  ADAMTS18 down          85.515119 -1.606028 1.966841e-02\n",
       "4  BMP3     up           366.625353  3.928452 2.126623e-06\n",
       "5  CLEC2A   up            50.429286  4.845719 2.004929e-04\n",
       "6  CSTB     up         37130.026057  1.311200 1.174906e-04\n",
       "7  CXCL2    up           763.507649  2.948239 1.083130e-07\n",
       "8  FLG2     down          11.260223 -1.664013 2.010630e-02\n",
       "9  HRNR     down          46.096473 -1.435467 2.750615e-03\n",
       "10 LGALS7   up          2053.219530  4.519554 2.667718e-10\n",
       "11 LGALS9C  up           216.965093  1.211112 1.104835e-02\n",
       "12 MMP24    down          75.707252 -1.314716 2.111814e-03\n",
       "13 MMP28    up          1975.394828  1.861034 2.783713e-04\n",
       "14 MUC13    up          2408.371778  7.209132 2.283496e-13\n",
       "15 MUC6     up          1152.485279  4.531702 2.334433e-05\n",
       "16 OVGP1    down         108.812270 -1.603303 7.957032e-07\n",
       "17 S100A11  up         61333.244152  2.289189 1.529940e-23\n",
       "18 SEMA6C   down         466.005923 -2.227597 2.738100e-13\n",
       "19 SERPINA9 up             4.385134  3.151266 4.183705e-04\n",
       "20 SERPINB5 up         15735.268369  2.444410 1.165095e-06\n",
       "21 VWA5B2   down          37.593033 -1.352740 4.173751e-03\n",
       "22 WNT3     up           291.635608  1.180535 1.181811e-03"
      ]
     },
     "metadata": {},
     "output_type": "display_data"
    }
   ],
   "source": [
    "deseq_df %>%\n",
    "    filter(geneID %in% umsmg_nsmg_demg_list) %>%\n",
    "    rename(base_mean = baseMean, lfc = log2FoldChange) %>%\n",
    "    mutate(change_dir = ifelse(lfc > 0, \"up\", \"down\")) %>%\n",
    "    select(geneID, change_dir, base_mean, lfc, qval) %>%\n",
    "    arrange(geneID)"
   ]
  }
 ],
 "metadata": {
  "kernelspec": {
   "display_name": "R",
   "language": "R",
   "name": "ir"
  },
  "language_info": {
   "codemirror_mode": "r",
   "file_extension": ".r",
   "mimetype": "text/x-r-source",
   "name": "R",
   "pygments_lexer": "r",
   "version": "4.0.3"
  }
 },
 "nbformat": 4,
 "nbformat_minor": 5
}
