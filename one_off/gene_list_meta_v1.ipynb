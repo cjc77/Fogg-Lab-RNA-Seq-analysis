{
 "cells": [
  {
   "cell_type": "code",
   "execution_count": 1,
   "id": "informative-customs",
   "metadata": {},
   "outputs": [
    {
     "name": "stderr",
     "output_type": "stream",
     "text": [
      "-- \u001b[1mAttaching packages\u001b[22m ------------------------------------------------------------------------------- tidyverse 1.3.0 --\n",
      "\n",
      "\u001b[32mv\u001b[39m \u001b[34mggplot2\u001b[39m 3.3.3     \u001b[32mv\u001b[39m \u001b[34mpurrr  \u001b[39m 0.3.4\n",
      "\u001b[32mv\u001b[39m \u001b[34mtibble \u001b[39m 3.0.6     \u001b[32mv\u001b[39m \u001b[34mdplyr  \u001b[39m 1.0.4\n",
      "\u001b[32mv\u001b[39m \u001b[34mtidyr  \u001b[39m 1.1.2     \u001b[32mv\u001b[39m \u001b[34mstringr\u001b[39m 1.4.0\n",
      "\u001b[32mv\u001b[39m \u001b[34mreadr  \u001b[39m 1.4.0     \u001b[32mv\u001b[39m \u001b[34mforcats\u001b[39m 0.5.1\n",
      "\n",
      "-- \u001b[1mConflicts\u001b[22m ---------------------------------------------------------------------------------- tidyverse_conflicts() --\n",
      "\u001b[31mx\u001b[39m \u001b[34mdplyr\u001b[39m::\u001b[32mfilter()\u001b[39m masks \u001b[34mstats\u001b[39m::filter()\n",
      "\u001b[31mx\u001b[39m \u001b[34mdplyr\u001b[39m::\u001b[32mlag()\u001b[39m    masks \u001b[34mstats\u001b[39m::lag()\n",
      "\n"
     ]
    }
   ],
   "source": [
    "library(tidyverse)\n",
    "\n",
    "# Custom package\n",
    "library(rutils)"
   ]
  },
  {
   "cell_type": "code",
   "execution_count": 2,
   "id": "stunning-policy",
   "metadata": {},
   "outputs": [],
   "source": [
    "dirs <- rutils::get_dev_directories(dev_paths_file = \"../dev_paths.txt\")\n",
    "unified_dsets <- c(\"unified_cervical_data\", \"unified_uterine_data\", \"unified_uterine_endometrial_data\")\n",
    "matrisome_path <- paste0(dirs$data_dir, \"/matrisome/matrisome_hs_masterlist.tsv\")"
   ]
  },
  {
   "cell_type": "code",
   "execution_count": 3,
   "id": "suitable-things",
   "metadata": {},
   "outputs": [
    {
     "name": "stderr",
     "output_type": "stream",
     "text": [
      "\n",
      "\u001b[36m--\u001b[39m \u001b[1m\u001b[1mColumn specification\u001b[1m\u001b[22m \u001b[36m------------------------------------------------------------------------------------------------\u001b[39m\n",
      "cols(\n",
      "  Division = \u001b[31mcol_character()\u001b[39m,\n",
      "  Category = \u001b[31mcol_character()\u001b[39m,\n",
      "  `Gene Symbol` = \u001b[31mcol_character()\u001b[39m,\n",
      "  `Gene Name` = \u001b[31mcol_character()\u001b[39m,\n",
      "  Synonyms = \u001b[31mcol_character()\u001b[39m,\n",
      "  HGNC_IDs = \u001b[32mcol_double()\u001b[39m,\n",
      "  `HGNC_IDs Links` = \u001b[32mcol_double()\u001b[39m,\n",
      "  UniProt_IDs = \u001b[31mcol_character()\u001b[39m,\n",
      "  Refseq_IDs = \u001b[31mcol_character()\u001b[39m,\n",
      "  Orthology = \u001b[31mcol_character()\u001b[39m,\n",
      "  Notes = \u001b[31mcol_character()\u001b[39m\n",
      ")\n",
      "\n",
      "\n"
     ]
    }
   ],
   "source": [
    "matrisome_df <- load_matrisome_df(matrisome_path)"
   ]
  },
  {
   "cell_type": "code",
   "execution_count": 4,
   "id": "associate-south",
   "metadata": {},
   "outputs": [],
   "source": [
    "# hub_con_thresh <- 0.25\n",
    "hub_con_thresh <- 0.0"
   ]
  },
  {
   "cell_type": "code",
   "execution_count": 8,
   "id": "documented-thirty",
   "metadata": {},
   "outputs": [],
   "source": [
    "for (dset_idx in 1:3) {\n",
    "    full_intra_overlap_ls <- read_lines(paste0(dirs$analysis_dir, \"/gene_lists/\", unified_dsets[dset_idx], \"_full_overlap_hub_thresh_\", hub_con_thresh, \"_gene_list.txt\"))\n",
    "    full_intra_overlap_df <- tibble(geneID = full_intra_overlap_ls)\n",
    "    full_intra_summary_df <- full_intra_overlap_df %>%\n",
    "        inner_join(matrisome_df, by = c(\"geneID\" = \"gene_symbol\")) %>%\n",
    "        select(geneID, hgnc_ids, division, category, gene_name) %>%\n",
    "        rename(gene_id = geneID)\n",
    "    write_csv(full_intra_summary_df, paste0(dirs$analysis_dir, \"/one_off/\", unified_dsets[dset_idx], \"_hub_thresh_\", hub_con_thresh, \"_full_overlap_gene_summary.csv\"))\n",
    "    \n",
    "    demg_univar_intra_overlap_ls <- read_lines(paste0(dirs$analysis_dir, \"/gene_lists/\", unified_dsets[dset_idx], \"_demg_univar_overlap_gene_list.txt\"))\n",
    "    demg_univar_intra_overlap_df <- tibble(geneID = demg_univar_intra_overlap_ls)\n",
    "    demg_univar_intra_summary_df <- demg_univar_intra_overlap_df %>%\n",
    "        inner_join(matrisome_df, by = c(\"geneID\" = \"gene_symbol\")) %>%\n",
    "        select(geneID, hgnc_ids, division, category, gene_name) %>%\n",
    "        rename(gene_id = geneID)\n",
    "    write_csv(demg_univar_intra_summary_df, paste0(dirs$analysis_dir, \"/one_off/\", unified_dsets[dset_idx], \"_demg_uninvar_overlap_gene_summary.csv\"))\n",
    "}"
   ]
  },
  {
   "cell_type": "code",
   "execution_count": 16,
   "id": "oriented-broadcast",
   "metadata": {
    "collapsed": true,
    "jupyter": {
     "outputs_hidden": true
    }
   },
   "outputs": [
    {
     "name": "stderr",
     "output_type": "stream",
     "text": [
      "\n",
      "\u001b[36m--\u001b[39m \u001b[1m\u001b[1mColumn specification\u001b[1m\u001b[22m \u001b[36m------------------------------------------------------------------------------------------------\u001b[39m\n",
      "cols(\n",
      "  gene_id = \u001b[31mcol_character()\u001b[39m,\n",
      "  hgnc_ids = \u001b[32mcol_double()\u001b[39m,\n",
      "  division = \u001b[31mcol_character()\u001b[39m,\n",
      "  category = \u001b[31mcol_character()\u001b[39m,\n",
      "  gene_name = \u001b[31mcol_character()\u001b[39m\n",
      ")\n",
      "\n",
      "\n",
      "\n",
      "\u001b[36m--\u001b[39m \u001b[1m\u001b[1mColumn specification\u001b[1m\u001b[22m \u001b[36m------------------------------------------------------------------------------------------------\u001b[39m\n",
      "cols(\n",
      "  gene_id = \u001b[31mcol_character()\u001b[39m,\n",
      "  hgnc_ids = \u001b[32mcol_double()\u001b[39m,\n",
      "  division = \u001b[31mcol_character()\u001b[39m,\n",
      "  category = \u001b[31mcol_character()\u001b[39m,\n",
      "  gene_name = \u001b[31mcol_character()\u001b[39m\n",
      ")\n",
      "\n",
      "\n",
      "\n",
      "\u001b[36m--\u001b[39m \u001b[1m\u001b[1mColumn specification\u001b[1m\u001b[22m \u001b[36m------------------------------------------------------------------------------------------------\u001b[39m\n",
      "cols(\n",
      "  gene_id = \u001b[31mcol_character()\u001b[39m,\n",
      "  hgnc_ids = \u001b[32mcol_double()\u001b[39m,\n",
      "  division = \u001b[31mcol_character()\u001b[39m,\n",
      "  category = \u001b[31mcol_character()\u001b[39m,\n",
      "  gene_name = \u001b[31mcol_character()\u001b[39m\n",
      ")\n",
      "\n",
      "\n",
      "\n",
      "\u001b[36m--\u001b[39m \u001b[1m\u001b[1mColumn specification\u001b[1m\u001b[22m \u001b[36m------------------------------------------------------------------------------------------------\u001b[39m\n",
      "cols(\n",
      "  gene_id = \u001b[31mcol_character()\u001b[39m,\n",
      "  hgnc_ids = \u001b[32mcol_double()\u001b[39m,\n",
      "  division = \u001b[31mcol_character()\u001b[39m,\n",
      "  category = \u001b[31mcol_character()\u001b[39m,\n",
      "  gene_name = \u001b[31mcol_character()\u001b[39m\n",
      ")\n",
      "\n",
      "\n",
      "\n",
      "\u001b[36m--\u001b[39m \u001b[1m\u001b[1mColumn specification\u001b[1m\u001b[22m \u001b[36m------------------------------------------------------------------------------------------------\u001b[39m\n",
      "cols(\n",
      "  gene_id = \u001b[31mcol_character()\u001b[39m,\n",
      "  hgnc_ids = \u001b[32mcol_double()\u001b[39m,\n",
      "  division = \u001b[31mcol_character()\u001b[39m,\n",
      "  category = \u001b[31mcol_character()\u001b[39m,\n",
      "  gene_name = \u001b[31mcol_character()\u001b[39m\n",
      ")\n",
      "\n",
      "\n",
      "\n",
      "\u001b[36m--\u001b[39m \u001b[1m\u001b[1mColumn specification\u001b[1m\u001b[22m \u001b[36m------------------------------------------------------------------------------------------------\u001b[39m\n",
      "cols(\n",
      "  gene_id = \u001b[31mcol_character()\u001b[39m,\n",
      "  hgnc_ids = \u001b[32mcol_double()\u001b[39m,\n",
      "  division = \u001b[31mcol_character()\u001b[39m,\n",
      "  category = \u001b[31mcol_character()\u001b[39m,\n",
      "  gene_name = \u001b[31mcol_character()\u001b[39m\n",
      ")\n",
      "\n",
      "\n"
     ]
    }
   ],
   "source": [
    "cesc_full_ovrlap_df <- read_csv(paste0(dirs$analysis_dir, \"/one_off/\", unified_dsets[1], \"_hub_thresh_\", hub_con_thresh, \"_full_overlap_gene_summary.csv\"))\n",
    "cesc_demg_univar_df <- read_csv(paste0(dirs$analysis_dir, \"/one_off/\", unified_dsets[1], \"_demg_uninvar_overlap_gene_summary.csv\"))\n",
    "ucs_full_ovrlap_df <- read_csv(paste0(dirs$analysis_dir, \"/one_off/\", unified_dsets[2], \"_hub_thresh_\", hub_con_thresh, \"_full_overlap_gene_summary.csv\"))\n",
    "ucs_demg_univar_df <- read_csv(paste0(dirs$analysis_dir, \"/one_off/\", unified_dsets[2], \"_demg_uninvar_overlap_gene_summary.csv\"))\n",
    "ucec_full_ovrlap_df <- read_csv(paste0(dirs$analysis_dir, \"/one_off/\", unified_dsets[3], \"_hub_thresh_\", hub_con_thresh, \"_full_overlap_gene_summary.csv\"))\n",
    "ucec_demg_univar_df <- read_csv(paste0(dirs$analysis_dir, \"/one_off/\", unified_dsets[3], \"_demg_uninvar_overlap_gene_summary.csv\"))"
   ]
  },
  {
   "cell_type": "code",
   "execution_count": 22,
   "id": "revolutionary-humanitarian",
   "metadata": {},
   "outputs": [
    {
     "name": "stdout",
     "output_type": "stream",
     "text": [
      "Cervical Full"
     ]
    },
    {
     "data": {
      "text/html": [
       "<table class=\"dataframe\">\n",
       "<caption>A tibble: 2 × 2</caption>\n",
       "<thead>\n",
       "\t<tr><th></th><th scope=col>division</th><th scope=col>n</th></tr>\n",
       "\t<tr><th></th><th scope=col>&lt;chr&gt;</th><th scope=col>&lt;int&gt;</th></tr>\n",
       "</thead>\n",
       "<tbody>\n",
       "\t<tr><th scope=row>1</th><td>Core matrisome      </td><td> 1</td></tr>\n",
       "\t<tr><th scope=row>2</th><td>Matrisome-associated</td><td>21</td></tr>\n",
       "</tbody>\n",
       "</table>\n"
      ],
      "text/latex": [
       "A tibble: 2 × 2\n",
       "\\begin{tabular}{r|ll}\n",
       "  & division & n\\\\\n",
       "  & <chr> & <int>\\\\\n",
       "\\hline\n",
       "\t1 & Core matrisome       &  1\\\\\n",
       "\t2 & Matrisome-associated & 21\\\\\n",
       "\\end{tabular}\n"
      ],
      "text/markdown": [
       "\n",
       "A tibble: 2 × 2\n",
       "\n",
       "| <!--/--> | division &lt;chr&gt; | n &lt;int&gt; |\n",
       "|---|---|---|\n",
       "| 1 | Core matrisome       |  1 |\n",
       "| 2 | Matrisome-associated | 21 |\n",
       "\n"
      ],
      "text/plain": [
       "  division             n \n",
       "1 Core matrisome        1\n",
       "2 Matrisome-associated 21"
      ]
     },
     "metadata": {},
     "output_type": "display_data"
    },
    {
     "name": "stdout",
     "output_type": "stream",
     "text": [
      "Cervical DEMG & univar."
     ]
    },
    {
     "data": {
      "text/html": [
       "<table class=\"dataframe\">\n",
       "<caption>A tibble: 2 × 2</caption>\n",
       "<thead>\n",
       "\t<tr><th></th><th scope=col>division</th><th scope=col>n</th></tr>\n",
       "\t<tr><th></th><th scope=col>&lt;chr&gt;</th><th scope=col>&lt;int&gt;</th></tr>\n",
       "</thead>\n",
       "<tbody>\n",
       "\t<tr><th scope=row>1</th><td>Core matrisome      </td><td>40</td></tr>\n",
       "\t<tr><th scope=row>2</th><td>Matrisome-associated</td><td>82</td></tr>\n",
       "</tbody>\n",
       "</table>\n"
      ],
      "text/latex": [
       "A tibble: 2 × 2\n",
       "\\begin{tabular}{r|ll}\n",
       "  & division & n\\\\\n",
       "  & <chr> & <int>\\\\\n",
       "\\hline\n",
       "\t1 & Core matrisome       & 40\\\\\n",
       "\t2 & Matrisome-associated & 82\\\\\n",
       "\\end{tabular}\n"
      ],
      "text/markdown": [
       "\n",
       "A tibble: 2 × 2\n",
       "\n",
       "| <!--/--> | division &lt;chr&gt; | n &lt;int&gt; |\n",
       "|---|---|---|\n",
       "| 1 | Core matrisome       | 40 |\n",
       "| 2 | Matrisome-associated | 82 |\n",
       "\n"
      ],
      "text/plain": [
       "  division             n \n",
       "1 Core matrisome       40\n",
       "2 Matrisome-associated 82"
      ]
     },
     "metadata": {},
     "output_type": "display_data"
    },
    {
     "name": "stdout",
     "output_type": "stream",
     "text": [
      "Uterine Full"
     ]
    },
    {
     "data": {
      "text/html": [
       "<table class=\"dataframe\">\n",
       "<caption>A tibble: 2 × 2</caption>\n",
       "<thead>\n",
       "\t<tr><th></th><th scope=col>division</th><th scope=col>n</th></tr>\n",
       "\t<tr><th></th><th scope=col>&lt;chr&gt;</th><th scope=col>&lt;int&gt;</th></tr>\n",
       "</thead>\n",
       "<tbody>\n",
       "\t<tr><th scope=row>1</th><td>Core matrisome      </td><td>1</td></tr>\n",
       "\t<tr><th scope=row>2</th><td>Matrisome-associated</td><td>8</td></tr>\n",
       "</tbody>\n",
       "</table>\n"
      ],
      "text/latex": [
       "A tibble: 2 × 2\n",
       "\\begin{tabular}{r|ll}\n",
       "  & division & n\\\\\n",
       "  & <chr> & <int>\\\\\n",
       "\\hline\n",
       "\t1 & Core matrisome       & 1\\\\\n",
       "\t2 & Matrisome-associated & 8\\\\\n",
       "\\end{tabular}\n"
      ],
      "text/markdown": [
       "\n",
       "A tibble: 2 × 2\n",
       "\n",
       "| <!--/--> | division &lt;chr&gt; | n &lt;int&gt; |\n",
       "|---|---|---|\n",
       "| 1 | Core matrisome       | 1 |\n",
       "| 2 | Matrisome-associated | 8 |\n",
       "\n"
      ],
      "text/plain": [
       "  division             n\n",
       "1 Core matrisome       1\n",
       "2 Matrisome-associated 8"
      ]
     },
     "metadata": {},
     "output_type": "display_data"
    },
    {
     "name": "stdout",
     "output_type": "stream",
     "text": [
      "Uterine DEMG & univar."
     ]
    },
    {
     "data": {
      "text/html": [
       "<table class=\"dataframe\">\n",
       "<caption>A tibble: 2 × 2</caption>\n",
       "<thead>\n",
       "\t<tr><th></th><th scope=col>division</th><th scope=col>n</th></tr>\n",
       "\t<tr><th></th><th scope=col>&lt;chr&gt;</th><th scope=col>&lt;int&gt;</th></tr>\n",
       "</thead>\n",
       "<tbody>\n",
       "\t<tr><th scope=row>1</th><td>Core matrisome      </td><td> 8</td></tr>\n",
       "\t<tr><th scope=row>2</th><td>Matrisome-associated</td><td>29</td></tr>\n",
       "</tbody>\n",
       "</table>\n"
      ],
      "text/latex": [
       "A tibble: 2 × 2\n",
       "\\begin{tabular}{r|ll}\n",
       "  & division & n\\\\\n",
       "  & <chr> & <int>\\\\\n",
       "\\hline\n",
       "\t1 & Core matrisome       &  8\\\\\n",
       "\t2 & Matrisome-associated & 29\\\\\n",
       "\\end{tabular}\n"
      ],
      "text/markdown": [
       "\n",
       "A tibble: 2 × 2\n",
       "\n",
       "| <!--/--> | division &lt;chr&gt; | n &lt;int&gt; |\n",
       "|---|---|---|\n",
       "| 1 | Core matrisome       |  8 |\n",
       "| 2 | Matrisome-associated | 29 |\n",
       "\n"
      ],
      "text/plain": [
       "  division             n \n",
       "1 Core matrisome        8\n",
       "2 Matrisome-associated 29"
      ]
     },
     "metadata": {},
     "output_type": "display_data"
    },
    {
     "name": "stdout",
     "output_type": "stream",
     "text": [
      "Uterine Endometrial Full"
     ]
    },
    {
     "data": {
      "text/html": [
       "<table class=\"dataframe\">\n",
       "<caption>A tibble: 2 × 2</caption>\n",
       "<thead>\n",
       "\t<tr><th></th><th scope=col>division</th><th scope=col>n</th></tr>\n",
       "\t<tr><th></th><th scope=col>&lt;chr&gt;</th><th scope=col>&lt;int&gt;</th></tr>\n",
       "</thead>\n",
       "<tbody>\n",
       "\t<tr><th scope=row>1</th><td>Core matrisome      </td><td>2</td></tr>\n",
       "\t<tr><th scope=row>2</th><td>Matrisome-associated</td><td>5</td></tr>\n",
       "</tbody>\n",
       "</table>\n"
      ],
      "text/latex": [
       "A tibble: 2 × 2\n",
       "\\begin{tabular}{r|ll}\n",
       "  & division & n\\\\\n",
       "  & <chr> & <int>\\\\\n",
       "\\hline\n",
       "\t1 & Core matrisome       & 2\\\\\n",
       "\t2 & Matrisome-associated & 5\\\\\n",
       "\\end{tabular}\n"
      ],
      "text/markdown": [
       "\n",
       "A tibble: 2 × 2\n",
       "\n",
       "| <!--/--> | division &lt;chr&gt; | n &lt;int&gt; |\n",
       "|---|---|---|\n",
       "| 1 | Core matrisome       | 2 |\n",
       "| 2 | Matrisome-associated | 5 |\n",
       "\n"
      ],
      "text/plain": [
       "  division             n\n",
       "1 Core matrisome       2\n",
       "2 Matrisome-associated 5"
      ]
     },
     "metadata": {},
     "output_type": "display_data"
    },
    {
     "name": "stdout",
     "output_type": "stream",
     "text": [
      "Uterine Endometrial DEMG & univar."
     ]
    },
    {
     "data": {
      "text/html": [
       "<table class=\"dataframe\">\n",
       "<caption>A tibble: 2 × 2</caption>\n",
       "<thead>\n",
       "\t<tr><th></th><th scope=col>division</th><th scope=col>n</th></tr>\n",
       "\t<tr><th></th><th scope=col>&lt;chr&gt;</th><th scope=col>&lt;int&gt;</th></tr>\n",
       "</thead>\n",
       "<tbody>\n",
       "\t<tr><th scope=row>1</th><td>Core matrisome      </td><td>20</td></tr>\n",
       "\t<tr><th scope=row>2</th><td>Matrisome-associated</td><td>62</td></tr>\n",
       "</tbody>\n",
       "</table>\n"
      ],
      "text/latex": [
       "A tibble: 2 × 2\n",
       "\\begin{tabular}{r|ll}\n",
       "  & division & n\\\\\n",
       "  & <chr> & <int>\\\\\n",
       "\\hline\n",
       "\t1 & Core matrisome       & 20\\\\\n",
       "\t2 & Matrisome-associated & 62\\\\\n",
       "\\end{tabular}\n"
      ],
      "text/markdown": [
       "\n",
       "A tibble: 2 × 2\n",
       "\n",
       "| <!--/--> | division &lt;chr&gt; | n &lt;int&gt; |\n",
       "|---|---|---|\n",
       "| 1 | Core matrisome       | 20 |\n",
       "| 2 | Matrisome-associated | 62 |\n",
       "\n"
      ],
      "text/plain": [
       "  division             n \n",
       "1 Core matrisome       20\n",
       "2 Matrisome-associated 62"
      ]
     },
     "metadata": {},
     "output_type": "display_data"
    }
   ],
   "source": [
    "cat(\"Cervical Full\")\n",
    "cesc_full_ovrlap_df %>%\n",
    "    group_by(division) %>%\n",
    "    summarize(n = n())\n",
    "cat(\"Cervical DEMG & univar.\")\n",
    "cesc_demg_univar_df %>%\n",
    "    group_by(division) %>%\n",
    "    summarize(n = n())\n",
    "cat(\"Uterine Full\")\n",
    "ucs_full_ovrlap_df %>%\n",
    "    group_by(division) %>%\n",
    "    summarize(n = n())\n",
    "cat(\"Uterine DEMG & univar.\")\n",
    "ucs_demg_univar_df %>%\n",
    "    group_by(division) %>%\n",
    "    summarize(n = n())\n",
    "cat(\"Uterine Endometrial Full\")\n",
    "ucec_full_ovrlap_df %>%\n",
    "    group_by(division) %>%\n",
    "    summarize(n = n())\n",
    "cat(\"Uterine Endometrial DEMG & univar.\")\n",
    "ucec_demg_univar_df %>%\n",
    "    group_by(division) %>%\n",
    "    summarize(n = n())"
   ]
  }
 ],
 "metadata": {
  "kernelspec": {
   "display_name": "R",
   "language": "R",
   "name": "ir"
  },
  "language_info": {
   "codemirror_mode": "r",
   "file_extension": ".r",
   "mimetype": "text/x-r-source",
   "name": "R",
   "pygments_lexer": "r",
   "version": "4.0.3"
  }
 },
 "nbformat": 4,
 "nbformat_minor": 5
}
