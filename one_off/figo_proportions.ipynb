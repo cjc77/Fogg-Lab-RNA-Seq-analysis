{
 "cells": [
  {
   "cell_type": "code",
   "execution_count": 1,
   "id": "novel-tuition",
   "metadata": {},
   "outputs": [
    {
     "name": "stderr",
     "output_type": "stream",
     "text": [
      "-- \u001b[1mAttaching packages\u001b[22m --------------------------------------------------------------------------------------------------------- tidyverse 1.3.0 --\n",
      "\n",
      "\u001b[32mv\u001b[39m \u001b[34mggplot2\u001b[39m 3.3.3     \u001b[32mv\u001b[39m \u001b[34mpurrr  \u001b[39m 0.3.4\n",
      "\u001b[32mv\u001b[39m \u001b[34mtibble \u001b[39m 3.0.6     \u001b[32mv\u001b[39m \u001b[34mdplyr  \u001b[39m 1.0.4\n",
      "\u001b[32mv\u001b[39m \u001b[34mtidyr  \u001b[39m 1.1.2     \u001b[32mv\u001b[39m \u001b[34mstringr\u001b[39m 1.4.0\n",
      "\u001b[32mv\u001b[39m \u001b[34mreadr  \u001b[39m 1.4.0     \u001b[32mv\u001b[39m \u001b[34mforcats\u001b[39m 0.5.1\n",
      "\n",
      "-- \u001b[1mConflicts\u001b[22m ------------------------------------------------------------------------------------------------------------ tidyverse_conflicts() --\n",
      "\u001b[31mx\u001b[39m \u001b[34mdplyr\u001b[39m::\u001b[32mfilter()\u001b[39m masks \u001b[34mstats\u001b[39m::filter()\n",
      "\u001b[31mx\u001b[39m \u001b[34mdplyr\u001b[39m::\u001b[32mlag()\u001b[39m    masks \u001b[34mstats\u001b[39m::lag()\n",
      "\n"
     ]
    }
   ],
   "source": [
    "library(tidyverse)\n",
    "\n",
    "# Custom package\n",
    "library(rutils)"
   ]
  },
  {
   "cell_type": "code",
   "execution_count": 3,
   "id": "demonstrated-johnson",
   "metadata": {},
   "outputs": [],
   "source": [
    "# Define constants\n",
    "dirs <- rutils::get_dev_directories(dev_paths_file = \"../dev_paths.txt\")\n",
    "projects <- c(\"TCGA-CESC\", \"TCGA-UCS\", \"TCGA-UCEC\", \"TCGA-OV\")\n",
    "unified_dsets <- c(\"unified_cervical_data\", \"unified_uterine_data\", \"unified_uterine_endometrial_data\")\n",
    "matrisome_path <- paste0(dirs$data_dir, \"/matrisome/matrisome_hs_masterlist.tsv\")\n",
    "\n",
    "event_code <- list(\"Alive\" = 0, \"Dead\" = 1)\n",
    "# covariate_cols_no_figo <- c(\"age_at_diagnosis\", \"race\", \"ethnicity\")\n",
    "# covariate_cols <- c(\"figo_stage\", covariate_cols_no_figo)\n",
    "covariate_cols <- c(\"figo_stage\")\n",
    "dep_cols <- c(\"vital_status\", \"survival_time\")"
   ]
  },
  {
   "cell_type": "code",
   "execution_count": 5,
   "id": "willing-brief",
   "metadata": {
    "collapsed": true,
    "jupyter": {
     "outputs_hidden": true
    }
   },
   "outputs": [
    {
     "name": "stderr",
     "output_type": "stream",
     "text": [
      "\n",
      "\u001b[36m--\u001b[39m \u001b[1m\u001b[1mColumn specification\u001b[1m\u001b[22m \u001b[36m--------------------------------------------------------------------------------------------------------------------------\u001b[39m\n",
      "cols(\n",
      "  sample_name = \u001b[31mcol_character()\u001b[39m,\n",
      "  vital_status = \u001b[31mcol_character()\u001b[39m,\n",
      "  survival_time = \u001b[32mcol_double()\u001b[39m,\n",
      "  figo_stage = \u001b[31mcol_character()\u001b[39m,\n",
      "  days_to_last_follow_up = \u001b[32mcol_double()\u001b[39m,\n",
      "  days_to_death = \u001b[32mcol_double()\u001b[39m,\n",
      "  age_at_diagnosis = \u001b[32mcol_double()\u001b[39m,\n",
      "  age_at_index = \u001b[32mcol_double()\u001b[39m,\n",
      "  height = \u001b[32mcol_double()\u001b[39m,\n",
      "  weight = \u001b[32mcol_double()\u001b[39m,\n",
      "  bmi = \u001b[32mcol_double()\u001b[39m,\n",
      "  race = \u001b[31mcol_character()\u001b[39m,\n",
      "  ethnicity = \u001b[31mcol_character()\u001b[39m\n",
      ")\n",
      "\n",
      "\n",
      "\n",
      "\u001b[36m--\u001b[39m \u001b[1m\u001b[1mColumn specification\u001b[1m\u001b[22m \u001b[36m--------------------------------------------------------------------------------------------------------------------------\u001b[39m\n",
      "cols(\n",
      "  sample_name = \u001b[31mcol_character()\u001b[39m,\n",
      "  vital_status = \u001b[31mcol_character()\u001b[39m,\n",
      "  survival_time = \u001b[32mcol_double()\u001b[39m,\n",
      "  figo_stage = \u001b[31mcol_character()\u001b[39m,\n",
      "  days_to_last_follow_up = \u001b[32mcol_double()\u001b[39m,\n",
      "  days_to_death = \u001b[32mcol_double()\u001b[39m,\n",
      "  age_at_diagnosis = \u001b[32mcol_double()\u001b[39m,\n",
      "  age_at_index = \u001b[32mcol_double()\u001b[39m,\n",
      "  height = \u001b[32mcol_double()\u001b[39m,\n",
      "  weight = \u001b[32mcol_double()\u001b[39m,\n",
      "  bmi = \u001b[32mcol_double()\u001b[39m,\n",
      "  race = \u001b[31mcol_character()\u001b[39m,\n",
      "  ethnicity = \u001b[31mcol_character()\u001b[39m\n",
      ")\n",
      "\n",
      "\n",
      "\n",
      "\u001b[36m--\u001b[39m \u001b[1m\u001b[1mColumn specification\u001b[1m\u001b[22m \u001b[36m--------------------------------------------------------------------------------------------------------------------------\u001b[39m\n",
      "cols(\n",
      "  sample_name = \u001b[31mcol_character()\u001b[39m,\n",
      "  vital_status = \u001b[31mcol_character()\u001b[39m,\n",
      "  survival_time = \u001b[32mcol_double()\u001b[39m,\n",
      "  figo_stage = \u001b[31mcol_character()\u001b[39m,\n",
      "  days_to_last_follow_up = \u001b[32mcol_double()\u001b[39m,\n",
      "  days_to_death = \u001b[32mcol_double()\u001b[39m,\n",
      "  age_at_diagnosis = \u001b[32mcol_double()\u001b[39m,\n",
      "  age_at_index = \u001b[32mcol_double()\u001b[39m,\n",
      "  height = \u001b[32mcol_double()\u001b[39m,\n",
      "  weight = \u001b[32mcol_double()\u001b[39m,\n",
      "  bmi = \u001b[32mcol_double()\u001b[39m,\n",
      "  race = \u001b[31mcol_character()\u001b[39m,\n",
      "  ethnicity = \u001b[31mcol_character()\u001b[39m\n",
      ")\n",
      "\n",
      "\n"
     ]
    }
   ],
   "source": [
    "survival_dfs <- list()\n",
    "for (dset_idx in 1:3) {\n",
    "    survival_path <- paste0(dirs$data_dir, \"/\", unified_dsets[dset_idx], \"/survival_data.tsv\")\n",
    "    survival_df <- load_survival_df(survival_path, event_code)\n",
    "\n",
    "    # Load and filter survival data\n",
    "    survival_dfs[[unified_dsets[dset_idx]]] <- survival_df %>%\n",
    "        decode_figo_stage(to = \"c\") %>%\n",
    "        dplyr::select(sample_name, figo_stage) %>% # make sure using same samples as classification models\n",
    "        dplyr::filter(rowSums(is.na(.)) == 0)\n",
    "\n",
    "}\n"
   ]
  },
  {
   "cell_type": "code",
   "execution_count": 13,
   "id": "sudden-central",
   "metadata": {},
   "outputs": [],
   "source": [
    "figo_stages <- function(df) {\n",
    "    df %>%\n",
    "        group_by(figo_stage) %>%\n",
    "        summarize(n = n()) %>%\n",
    "        mutate(pct = round(n / sum(n), 2))\n",
    "}\n"
   ]
  },
  {
   "cell_type": "code",
   "execution_count": 15,
   "id": "fewer-trance",
   "metadata": {},
   "outputs": [
    {
     "data": {
      "text/html": [
       "<table class=\"dataframe\">\n",
       "<caption>A tibble: 4 × 3</caption>\n",
       "<thead>\n",
       "\t<tr><th></th><th scope=col>figo_stage</th><th scope=col>n</th><th scope=col>pct</th></tr>\n",
       "\t<tr><th></th><th scope=col>&lt;chr&gt;</th><th scope=col>&lt;int&gt;</th><th scope=col>&lt;dbl&gt;</th></tr>\n",
       "</thead>\n",
       "<tbody>\n",
       "\t<tr><th scope=row>1</th><td>figo_stage_1</td><td>135</td><td>0.53</td></tr>\n",
       "\t<tr><th scope=row>2</th><td>figo_stage_2</td><td> 61</td><td>0.24</td></tr>\n",
       "\t<tr><th scope=row>3</th><td>figo_stage_3</td><td> 40</td><td>0.16</td></tr>\n",
       "\t<tr><th scope=row>4</th><td>figo_stage_4</td><td> 19</td><td>0.07</td></tr>\n",
       "</tbody>\n",
       "</table>\n"
      ],
      "text/latex": [
       "A tibble: 4 × 3\n",
       "\\begin{tabular}{r|lll}\n",
       "  & figo\\_stage & n & pct\\\\\n",
       "  & <chr> & <int> & <dbl>\\\\\n",
       "\\hline\n",
       "\t1 & figo\\_stage\\_1 & 135 & 0.53\\\\\n",
       "\t2 & figo\\_stage\\_2 &  61 & 0.24\\\\\n",
       "\t3 & figo\\_stage\\_3 &  40 & 0.16\\\\\n",
       "\t4 & figo\\_stage\\_4 &  19 & 0.07\\\\\n",
       "\\end{tabular}\n"
      ],
      "text/markdown": [
       "\n",
       "A tibble: 4 × 3\n",
       "\n",
       "| <!--/--> | figo_stage &lt;chr&gt; | n &lt;int&gt; | pct &lt;dbl&gt; |\n",
       "|---|---|---|---|\n",
       "| 1 | figo_stage_1 | 135 | 0.53 |\n",
       "| 2 | figo_stage_2 |  61 | 0.24 |\n",
       "| 3 | figo_stage_3 |  40 | 0.16 |\n",
       "| 4 | figo_stage_4 |  19 | 0.07 |\n",
       "\n"
      ],
      "text/plain": [
       "  figo_stage   n   pct \n",
       "1 figo_stage_1 135 0.53\n",
       "2 figo_stage_2  61 0.24\n",
       "3 figo_stage_3  40 0.16\n",
       "4 figo_stage_4  19 0.07"
      ]
     },
     "metadata": {},
     "output_type": "display_data"
    },
    {
     "data": {
      "text/html": [
       "<table class=\"dataframe\">\n",
       "<caption>A tibble: 4 × 3</caption>\n",
       "<thead>\n",
       "\t<tr><th></th><th scope=col>figo_stage</th><th scope=col>n</th><th scope=col>pct</th></tr>\n",
       "\t<tr><th></th><th scope=col>&lt;chr&gt;</th><th scope=col>&lt;int&gt;</th><th scope=col>&lt;dbl&gt;</th></tr>\n",
       "</thead>\n",
       "<tbody>\n",
       "\t<tr><th scope=row>1</th><td>figo_stage_1</td><td>17</td><td>0.37</td></tr>\n",
       "\t<tr><th scope=row>2</th><td>figo_stage_2</td><td> 5</td><td>0.11</td></tr>\n",
       "\t<tr><th scope=row>3</th><td>figo_stage_3</td><td>18</td><td>0.39</td></tr>\n",
       "\t<tr><th scope=row>4</th><td>figo_stage_4</td><td> 6</td><td>0.13</td></tr>\n",
       "</tbody>\n",
       "</table>\n"
      ],
      "text/latex": [
       "A tibble: 4 × 3\n",
       "\\begin{tabular}{r|lll}\n",
       "  & figo\\_stage & n & pct\\\\\n",
       "  & <chr> & <int> & <dbl>\\\\\n",
       "\\hline\n",
       "\t1 & figo\\_stage\\_1 & 17 & 0.37\\\\\n",
       "\t2 & figo\\_stage\\_2 &  5 & 0.11\\\\\n",
       "\t3 & figo\\_stage\\_3 & 18 & 0.39\\\\\n",
       "\t4 & figo\\_stage\\_4 &  6 & 0.13\\\\\n",
       "\\end{tabular}\n"
      ],
      "text/markdown": [
       "\n",
       "A tibble: 4 × 3\n",
       "\n",
       "| <!--/--> | figo_stage &lt;chr&gt; | n &lt;int&gt; | pct &lt;dbl&gt; |\n",
       "|---|---|---|---|\n",
       "| 1 | figo_stage_1 | 17 | 0.37 |\n",
       "| 2 | figo_stage_2 |  5 | 0.11 |\n",
       "| 3 | figo_stage_3 | 18 | 0.39 |\n",
       "| 4 | figo_stage_4 |  6 | 0.13 |\n",
       "\n"
      ],
      "text/plain": [
       "  figo_stage   n  pct \n",
       "1 figo_stage_1 17 0.37\n",
       "2 figo_stage_2  5 0.11\n",
       "3 figo_stage_3 18 0.39\n",
       "4 figo_stage_4  6 0.13"
      ]
     },
     "metadata": {},
     "output_type": "display_data"
    },
    {
     "data": {
      "text/html": [
       "<table class=\"dataframe\">\n",
       "<caption>A tibble: 4 × 3</caption>\n",
       "<thead>\n",
       "\t<tr><th></th><th scope=col>figo_stage</th><th scope=col>n</th><th scope=col>pct</th></tr>\n",
       "\t<tr><th></th><th scope=col>&lt;chr&gt;</th><th scope=col>&lt;int&gt;</th><th scope=col>&lt;dbl&gt;</th></tr>\n",
       "</thead>\n",
       "<tbody>\n",
       "\t<tr><th scope=row>1</th><td>figo_stage_1</td><td>75</td><td>0.54</td></tr>\n",
       "\t<tr><th scope=row>2</th><td>figo_stage_2</td><td>19</td><td>0.14</td></tr>\n",
       "\t<tr><th scope=row>3</th><td>figo_stage_3</td><td>39</td><td>0.28</td></tr>\n",
       "\t<tr><th scope=row>4</th><td>figo_stage_4</td><td> 7</td><td>0.05</td></tr>\n",
       "</tbody>\n",
       "</table>\n"
      ],
      "text/latex": [
       "A tibble: 4 × 3\n",
       "\\begin{tabular}{r|lll}\n",
       "  & figo\\_stage & n & pct\\\\\n",
       "  & <chr> & <int> & <dbl>\\\\\n",
       "\\hline\n",
       "\t1 & figo\\_stage\\_1 & 75 & 0.54\\\\\n",
       "\t2 & figo\\_stage\\_2 & 19 & 0.14\\\\\n",
       "\t3 & figo\\_stage\\_3 & 39 & 0.28\\\\\n",
       "\t4 & figo\\_stage\\_4 &  7 & 0.05\\\\\n",
       "\\end{tabular}\n"
      ],
      "text/markdown": [
       "\n",
       "A tibble: 4 × 3\n",
       "\n",
       "| <!--/--> | figo_stage &lt;chr&gt; | n &lt;int&gt; | pct &lt;dbl&gt; |\n",
       "|---|---|---|---|\n",
       "| 1 | figo_stage_1 | 75 | 0.54 |\n",
       "| 2 | figo_stage_2 | 19 | 0.14 |\n",
       "| 3 | figo_stage_3 | 39 | 0.28 |\n",
       "| 4 | figo_stage_4 |  7 | 0.05 |\n",
       "\n"
      ],
      "text/plain": [
       "  figo_stage   n  pct \n",
       "1 figo_stage_1 75 0.54\n",
       "2 figo_stage_2 19 0.14\n",
       "3 figo_stage_3 39 0.28\n",
       "4 figo_stage_4  7 0.05"
      ]
     },
     "metadata": {},
     "output_type": "display_data"
    }
   ],
   "source": [
    "figo_stages(survival_dfs[[unified_dsets[1]]])\n",
    "figo_stages(survival_dfs[[unified_dsets[2]]])\n",
    "figo_stages(survival_dfs[[unified_dsets[3]]])"
   ]
  },
  {
   "cell_type": "code",
   "execution_count": null,
   "id": "treated-manitoba",
   "metadata": {},
   "outputs": [],
   "source": []
  }
 ],
 "metadata": {
  "kernelspec": {
   "display_name": "R",
   "language": "R",
   "name": "ir"
  },
  "language_info": {
   "codemirror_mode": "r",
   "file_extension": ".r",
   "mimetype": "text/x-r-source",
   "name": "R",
   "pygments_lexer": "r",
   "version": "4.0.3"
  }
 },
 "nbformat": 4,
 "nbformat_minor": 5
}
