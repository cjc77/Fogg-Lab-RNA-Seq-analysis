{
 "cells": [
  {
   "cell_type": "code",
   "execution_count": 1,
   "metadata": {},
   "outputs": [
    {
     "name": "stderr",
     "output_type": "stream",
     "text": [
      "── Attaching packages ─────────────────────────────────────── tidyverse 1.3.0 ──\n",
      "✔ ggplot2 3.3.2     ✔ purrr   0.3.4\n",
      "✔ tibble  3.0.3     ✔ dplyr   1.0.0\n",
      "✔ tidyr   1.1.0     ✔ stringr 1.4.0\n",
      "✔ readr   1.3.1     ✔ forcats 0.5.0\n",
      "── Conflicts ────────────────────────────────────────── tidyverse_conflicts() ──\n",
      "✖ dplyr::filter() masks stats::filter()\n",
      "✖ dplyr::lag()    masks stats::lag()\n"
     ]
    }
   ],
   "source": [
    "library(tidyverse)"
   ]
  },
  {
   "cell_type": "code",
   "execution_count": 2,
   "metadata": {},
   "outputs": [],
   "source": [
    "root_path <- \"/mnt/d/fogg_lab_OHSU_samples\""
   ]
  },
  {
   "cell_type": "code",
   "execution_count": 3,
   "metadata": {},
   "outputs": [
    {
     "name": "stderr",
     "output_type": "stream",
     "text": [
      "Parsed with column specification:\n",
      "cols(\n",
      "  subject_id = col_character(),\n",
      "  collection_year = col_double(),\n",
      "  clinicaldiag_description = col_character(),\n",
      "  tissue = col_character(),\n",
      "  paraffin_block = col_double(),\n",
      "  type = col_character()\n",
      ")\n",
      "Parsed with column specification:\n",
      "cols(\n",
      "  subject_id = col_character(),\n",
      "  collection_year = col_double(),\n",
      "  clinicaldiag_description = col_character(),\n",
      "  tissue = col_character(),\n",
      "  paraffin_block = col_double(),\n",
      "  type = col_character()\n",
      ")\n",
      "Parsed with column specification:\n",
      "cols(\n",
      "  subject_id = col_character(),\n",
      "  collection_year = col_double(),\n",
      "  clinicaldiag_description = col_character(),\n",
      "  tissue = col_character(),\n",
      "  paraffin_block = col_double(),\n",
      "  type = col_character()\n",
      ")\n",
      "Parsed with column specification:\n",
      "cols(\n",
      "  subject_id = col_character(),\n",
      "  collection_year = col_double(),\n",
      "  clinicaldiag_description = col_character(),\n",
      "  tissue = col_character(),\n",
      "  paraffin_block = col_double(),\n",
      "  type = col_character()\n",
      ")\n"
     ]
    }
   ],
   "source": [
    "cerv_tumor_df <- read_csv(paste0(root_path, \"/filtered_biolibrary/cervix_tumor.csv\")) %>%\n",
    "    dplyr::select(-type)\n",
    "ut_endo_tumor_df <- read_csv(paste0(root_path, \"/filtered_biolibrary/ut_endo_tumor.csv\")) %>%\n",
    "    dplyr::select(-type)\n",
    "cerv_normal_df <- read_csv(paste0(root_path, \"/filtered_biolibrary/cervix_normal.csv\")) %>%\n",
    "    dplyr::select(-type)\n",
    "ut_endo_normal_df <- read_csv(paste0(root_path, \"/filtered_biolibrary/ut_endo_normal.csv\")) %>%\n",
    "    dplyr::select(-type)"
   ]
  },
  {
   "cell_type": "code",
   "execution_count": 4,
   "metadata": {},
   "outputs": [],
   "source": [
    "# CESC\n",
    "cesc_tumor_types <- c(\"Squamous cell carcinoma\", \"Adenocarcinoma\", \"Carcinoma in situ\")\n",
    "cesc_tumor_df <- cerv_tumor_df %>%\n",
    "    dplyr::filter(clinicaldiag_description %in% cesc_tumor_types)\n",
    "\n",
    "# UCEC\n",
    "ucec_tumor_types <- c(\"Adenocarcinoma\", \"Carcinoma\", \"Endometrioid carcinoma\")\n",
    "ucec_tumor_df <- ut_endo_tumor_df %>%\n",
    "    dplyr::filter(clinicaldiag_description %in% ucec_tumor_types)\n",
    "\n",
    "# UCS\n",
    "ucs_tumor_types <- c(\"Carcinosarcoma\")\n",
    "ucs_tumor_df <- ut_endo_tumor_df %>%\n",
    "    dplyr::filter(clinicaldiag_description %in% ucs_tumor_types)"
   ]
  },
  {
   "cell_type": "markdown",
   "metadata": {},
   "source": [
    "# Helper functions"
   ]
  },
  {
   "cell_type": "code",
   "execution_count": 5,
   "metadata": {},
   "outputs": [],
   "source": [
    "# Get sample weights by group\n",
    "# Weights inversely proportional to group frequency\n",
    "get_balanced_sample_weights <- function(df, group_col) {\n",
    "    weight_df <- df %>%\n",
    "        dplyr::group_by(!!as.name(group_col)) %>%\n",
    "        dplyr::summarize(n = n()) %>%\n",
    "        # Down-weight groups by frequency\n",
    "        dplyr::mutate(weight = 1 / (n * nrow(df)))\n",
    "    final_df <- df %>%\n",
    "        dplyr::inner_join(weight_df, by = group_col) %>%\n",
    "        dplyr::mutate(std_weight = weight / sum(weight))\n",
    "    return(final_df$std_weight)\n",
    "}"
   ]
  },
  {
   "cell_type": "markdown",
   "metadata": {},
   "source": [
    "# CESC"
   ]
  },
  {
   "cell_type": "markdown",
   "metadata": {},
   "source": [
    "## Tumor"
   ]
  },
  {
   "cell_type": "code",
   "execution_count": 6,
   "metadata": {},
   "outputs": [
    {
     "name": "stderr",
     "output_type": "stream",
     "text": [
      "`summarise()` ungrouping output (override with `.groups` argument)\n"
     ]
    }
   ],
   "source": [
    "set.seed(12345)\n",
    "cesc_scc_year_weights <- get_balanced_sample_weights(\n",
    "    dplyr::filter(cesc_tumor_df, clinicaldiag_description == \"Squamous cell carcinoma\"),\n",
    "    group_col = \"collection_year\"\n",
    ")\n",
    "cesc_tumor_samp_df <- bind_rows(\n",
    "    # Not enough to sample, take all\n",
    "    cesc_tumor_df %>% dplyr::filter(clinicaldiag_description == \"Adenocarcinoma\"),\n",
    "    # Not enough to sample, take all\n",
    "    cesc_tumor_df %>% dplyr::filter(clinicaldiag_description == \"Carcinoma in situ\"),\n",
    "    # Take 10, balanced by year\n",
    "    cesc_tumor_df %>% dplyr::filter(clinicaldiag_description == \"Squamous cell carcinoma\") %>%\n",
    "        dplyr::sample_n(10, weight = cesc_scc_year_weights)\n",
    ")\n",
    "# cesc_tumor_samp_df"
   ]
  },
  {
   "cell_type": "markdown",
   "metadata": {},
   "source": [
    "## Normal"
   ]
  },
  {
   "cell_type": "code",
   "execution_count": 7,
   "metadata": {},
   "outputs": [],
   "source": [
    "# Tumor & Normal should not have any pared data\n",
    "# Remove adjacent to tumor samples\n",
    "filt_cerv_normal_df <- cerv_normal_df %>%\n",
    "    dplyr::filter(!(subject_id %in% cesc_tumor_samp_df$subject_id)) %>%\n",
    "    dplyr::filter(clinicaldiag_description != \"Normal Adjacent to Tumor\")"
   ]
  },
  {
   "cell_type": "code",
   "execution_count": 8,
   "metadata": {},
   "outputs": [
    {
     "name": "stderr",
     "output_type": "stream",
     "text": [
      "`summarise()` ungrouping output (override with `.groups` argument)\n"
     ]
    }
   ],
   "source": [
    "set.seed(12345)\n",
    "cesc_normal_weights <- get_balanced_sample_weights(filt_cerv_normal_df, group_col = \"collection_year\")\n",
    "# Take 10, balanced by year\n",
    "cesc_normal_samp_df <- filt_cerv_normal_df %>%\n",
    "    dplyr::sample_n(10, weights = cesc_normal_weights)\n",
    "# cesc_normal_samp_df"
   ]
  },
  {
   "cell_type": "markdown",
   "metadata": {},
   "source": [
    "# UCEC"
   ]
  },
  {
   "cell_type": "markdown",
   "metadata": {},
   "source": [
    "## Tumor"
   ]
  },
  {
   "cell_type": "code",
   "execution_count": 9,
   "metadata": {},
   "outputs": [
    {
     "name": "stderr",
     "output_type": "stream",
     "text": [
      "`summarise()` ungrouping output (override with `.groups` argument)\n"
     ]
    }
   ],
   "source": [
    "set.seed(12345)\n",
    "ucec_ec_year_weights <- get_balanced_sample_weights(\n",
    "    dplyr::filter(ucec_tumor_df, clinicaldiag_description == \"Endometrioid carcinoma\"),\n",
    "    group_col = \"collection_year\"\n",
    ")\n",
    "ucec_tumor_samp_df <- bind_rows(\n",
    "    # Not enough to sample, take all\n",
    "    ucec_tumor_df %>% dplyr::filter(clinicaldiag_description == \"Adenocarcinoma\"),\n",
    "    # Not enough to sample, take all\n",
    "    ucec_tumor_df %>% dplyr::filter(clinicaldiag_description == \"Carcinoma\"),\n",
    "    # Take 10, balanced by year\n",
    "    ucec_tumor_df %>% dplyr::filter(clinicaldiag_description == \"Endometrioid carcinoma\") %>%\n",
    "        dplyr::sample_n(10, weight = ucec_ec_year_weights)\n",
    ")\n",
    "# ucec_tumor_samp_df"
   ]
  },
  {
   "cell_type": "markdown",
   "metadata": {},
   "source": [
    "# UCS"
   ]
  },
  {
   "cell_type": "markdown",
   "metadata": {},
   "source": [
    "## Tumor"
   ]
  },
  {
   "cell_type": "code",
   "execution_count": 10,
   "metadata": {},
   "outputs": [],
   "source": [
    "# Not enough to sample, take all\n",
    "ucs_tumor_samp_df <- ucs_tumor_df"
   ]
  },
  {
   "cell_type": "markdown",
   "metadata": {},
   "source": [
    "# UCEC & UCS"
   ]
  },
  {
   "cell_type": "markdown",
   "metadata": {},
   "source": [
    "## Normal"
   ]
  },
  {
   "cell_type": "code",
   "execution_count": 11,
   "metadata": {},
   "outputs": [],
   "source": [
    "filt_u_normal_df <- ut_endo_normal_df %>%\n",
    "    dplyr::filter(!(subject_id %in% ucec_tumor_samp_df$subject_id) & !(subject_id %in% ucs_tumor_samp_df$subject_id)) %>%\n",
    "    dplyr::filter(clinicaldiag_description != \"Normal Adjacent to Tumor\")"
   ]
  },
  {
   "cell_type": "code",
   "execution_count": 12,
   "metadata": {},
   "outputs": [
    {
     "name": "stderr",
     "output_type": "stream",
     "text": [
      "`summarise()` ungrouping output (override with `.groups` argument)\n"
     ]
    }
   ],
   "source": [
    "set.seed(12345)\n",
    "u_normal_weights <- get_balanced_sample_weights(filt_u_normal_df, group_col = \"collection_year\")\n",
    "# Take 10, balanced by year\n",
    "u_normal_samp_df <- filt_u_normal_df %>%\n",
    "    dplyr::sample_n(10, weights = u_normal_weights)\n",
    "# u_normal_samp_df"
   ]
  },
  {
   "cell_type": "markdown",
   "metadata": {},
   "source": [
    "# Check distributions"
   ]
  },
  {
   "cell_type": "code",
   "execution_count": 13,
   "metadata": {},
   "outputs": [
    {
     "data": {
      "text/html": [
       "2006"
      ],
      "text/latex": [
       "2006"
      ],
      "text/markdown": [
       "2006"
      ],
      "text/plain": [
       "[1] 2006"
      ]
     },
     "metadata": {},
     "output_type": "display_data"
    },
    {
     "data": {
      "text/html": [
       "2013"
      ],
      "text/latex": [
       "2013"
      ],
      "text/markdown": [
       "2013"
      ],
      "text/plain": [
       "[1] 2013"
      ]
     },
     "metadata": {},
     "output_type": "display_data"
    },
    {
     "data": {
      "text/html": [
       "2010"
      ],
      "text/latex": [
       "2010"
      ],
      "text/markdown": [
       "2010"
      ],
      "text/plain": [
       "[1] 2010"
      ]
     },
     "metadata": {},
     "output_type": "display_data"
    }
   ],
   "source": [
    "round(mean(cesc_tumor_samp_df$collection_year))\n",
    "round(mean(ucec_tumor_samp_df$collection_year))\n",
    "round(mean(ucs_tumor_samp_df$collection_year))"
   ]
  },
  {
   "cell_type": "code",
   "execution_count": 14,
   "metadata": {},
   "outputs": [
    {
     "data": {
      "text/html": [
       "1998"
      ],
      "text/latex": [
       "1998"
      ],
      "text/markdown": [
       "1998"
      ],
      "text/plain": [
       "[1] 1998"
      ]
     },
     "metadata": {},
     "output_type": "display_data"
    },
    {
     "data": {
      "text/html": [
       "2012"
      ],
      "text/latex": [
       "2012"
      ],
      "text/markdown": [
       "2012"
      ],
      "text/plain": [
       "[1] 2012"
      ]
     },
     "metadata": {},
     "output_type": "display_data"
    }
   ],
   "source": [
    "round(mean(cesc_normal_samp_df$collection_year))\n",
    "round(mean(u_normal_samp_df$collection_year))"
   ]
  },
  {
   "cell_type": "markdown",
   "metadata": {},
   "source": [
    "# Write out selections"
   ]
  },
  {
   "cell_type": "code",
   "execution_count": 15,
   "metadata": {},
   "outputs": [],
   "source": [
    "write_csv(cesc_tumor_samp_df, paste0(root_path, \"/to_purchase/cesc_tumor.csv\"))\n",
    "write_csv(ucec_tumor_samp_df, paste0(root_path, \"/to_purchase/ucec_tumor.csv\"))\n",
    "write_csv(ucs_tumor_samp_df, paste0(root_path, \"/to_purchase/ucs_tumor.csv\"))"
   ]
  },
  {
   "cell_type": "code",
   "execution_count": 16,
   "metadata": {},
   "outputs": [],
   "source": [
    "write_csv(cesc_normal_samp_df, paste0(root_path, \"/to_purchase/cesc_normal.csv\"))\n",
    "write_csv(u_normal_samp_df, paste0(root_path, \"/to_purchase/u_normal.csv\"))"
   ]
  }
 ],
 "metadata": {
  "kernelspec": {
   "display_name": "R",
   "language": "R",
   "name": "ir"
  },
  "language_info": {
   "codemirror_mode": "r",
   "file_extension": ".r",
   "mimetype": "text/x-r-source",
   "name": "R",
   "pygments_lexer": "r",
   "version": "3.6.3"
  }
 },
 "nbformat": 4,
 "nbformat_minor": 4
}
