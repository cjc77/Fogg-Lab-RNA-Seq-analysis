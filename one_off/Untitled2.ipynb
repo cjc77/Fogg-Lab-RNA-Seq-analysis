{
 "cells": [
  {
   "cell_type": "code",
   "execution_count": 1,
   "id": "level-tamil",
   "metadata": {},
   "outputs": [
    {
     "name": "stderr",
     "output_type": "stream",
     "text": [
      "-- \u001b[1mAttaching packages\u001b[22m ------------------------------------------------------------------------------- tidyverse 1.3.0 --\n",
      "\n",
      "\u001b[32mv\u001b[39m \u001b[34mggplot2\u001b[39m 3.3.3     \u001b[32mv\u001b[39m \u001b[34mpurrr  \u001b[39m 0.3.4\n",
      "\u001b[32mv\u001b[39m \u001b[34mtibble \u001b[39m 3.0.6     \u001b[32mv\u001b[39m \u001b[34mdplyr  \u001b[39m 1.0.4\n",
      "\u001b[32mv\u001b[39m \u001b[34mtidyr  \u001b[39m 1.1.2     \u001b[32mv\u001b[39m \u001b[34mstringr\u001b[39m 1.4.0\n",
      "\u001b[32mv\u001b[39m \u001b[34mreadr  \u001b[39m 1.4.0     \u001b[32mv\u001b[39m \u001b[34mforcats\u001b[39m 0.5.1\n",
      "\n",
      "-- \u001b[1mConflicts\u001b[22m ---------------------------------------------------------------------------------- tidyverse_conflicts() --\n",
      "\u001b[31mx\u001b[39m \u001b[34mdplyr\u001b[39m::\u001b[32mfilter()\u001b[39m masks \u001b[34mstats\u001b[39m::filter()\n",
      "\u001b[31mx\u001b[39m \u001b[34mdplyr\u001b[39m::\u001b[32mlag()\u001b[39m    masks \u001b[34mstats\u001b[39m::lag()\n",
      "\n"
     ]
    }
   ],
   "source": [
    "library(tidyverse)\n",
    "library(cowplot)\n",
    "\n",
    "# Custom package\n",
    "library(rutils)"
   ]
  },
  {
   "cell_type": "code",
   "execution_count": 2,
   "id": "medium-township",
   "metadata": {},
   "outputs": [],
   "source": [
    "dirs <- rutils::get_dev_directories(dev_paths_file = \"../dev_paths.txt\")\n",
    "unified_dsets <- c(\"unified_cervical_data\", \"unified_uterine_data\", \"unified_uterine_endometrial_data\")\n",
    "projects <- c(\"CESC\", \"UCS\", \"UCEC\")"
   ]
  },
  {
   "cell_type": "code",
   "execution_count": 3,
   "id": "disciplinary-civilization",
   "metadata": {},
   "outputs": [],
   "source": [
    "demg_lists <- list()\n",
    "figo_umsmg_lists <- list()\n",
    "figo_nsmg_lists <- list()\n",
    "survival_umsmg_lists <- list()\n",
    "for (dset_idx in 1:3) {\n",
    "    demg_lists[[projects[dset_idx]]] <- read_lines(paste0(dirs$analysis_dir, \"/gene_lists/\", unified_dsets[dset_idx], \"_demg_list.txt\"))\n",
    "    figo_umsmg_lists[[projects[dset_idx]]] <- read_lines(paste0(dirs$analysis_dir, \"/gene_lists/\", unified_dsets[dset_idx], \"_figo_umsmg_list.txt\"))\n",
    "    figo_nsmg_lists[[projects[dset_idx]]] <- read_lines(paste0(dirs$analysis_dir, \"/gene_lists/\", unified_dsets[dset_idx], \"_figo_nsmg_list.txt\"))\n",
    "    survival_umsmg_lists[[projects[dset_idx]]] <- read_lines(paste0(dirs$analysis_dir, \"/gene_lists/\", unified_dsets[dset_idx], \"_survival_umsmg_list.txt\"))\n",
    "}"
   ]
  },
  {
   "cell_type": "code",
   "execution_count": 4,
   "id": "hollow-corruption",
   "metadata": {},
   "outputs": [
    {
     "data": {
      "text/html": [
       "839"
      ],
      "text/latex": [
       "839"
      ],
      "text/markdown": [
       "839"
      ],
      "text/plain": [
       "[1] 839"
      ]
     },
     "metadata": {},
     "output_type": "display_data"
    }
   ],
   "source": [
    "demg_lists$CESC %>%\n",
    "    union(demg_lists$UCEC) %>%\n",
    "    union(demg_lists$UCS) %>%\n",
    "    length()"
   ]
  },
  {
   "cell_type": "code",
   "execution_count": 5,
   "id": "continuing-colonial",
   "metadata": {},
   "outputs": [
    {
     "data": {
      "text/html": [
       "582"
      ],
      "text/latex": [
       "582"
      ],
      "text/markdown": [
       "582"
      ],
      "text/plain": [
       "[1] 582"
      ]
     },
     "metadata": {},
     "output_type": "display_data"
    }
   ],
   "source": [
    "figo_umsmg_lists$CESC %>%\n",
    "    union(figo_umsmg_lists$UCEC) %>%\n",
    "    union(figo_umsmg_lists$UCS) %>%\n",
    "    union(figo_nsmg_lists$CESC) %>%\n",
    "    union(figo_nsmg_lists$UCEC) %>%\n",
    "    union(figo_nsmg_lists$UCS) %>%\n",
    "    length()"
   ]
  },
  {
   "cell_type": "code",
   "execution_count": 6,
   "id": "convertible-equilibrium",
   "metadata": {},
   "outputs": [
    {
     "data": {
      "text/html": [
       "141"
      ],
      "text/latex": [
       "141"
      ],
      "text/markdown": [
       "141"
      ],
      "text/plain": [
       "[1] 141"
      ]
     },
     "metadata": {},
     "output_type": "display_data"
    }
   ],
   "source": [
    "survival_umsmg_lists$CESC %>%\n",
    "    union(survival_umsmg_lists$UCEC) %>%\n",
    "    union(survival_umsmg_lists$UCS) %>%\n",
    "    length()"
   ]
  },
  {
   "cell_type": "code",
   "execution_count": 45,
   "id": "together-inspection",
   "metadata": {},
   "outputs": [
    {
     "data": {
      "text/html": [
       "<style>\n",
       ".list-inline {list-style: none; margin:0; padding: 0}\n",
       ".list-inline>li {display: inline-block}\n",
       ".list-inline>li:not(:last-child)::after {content: \"\\00b7\"; padding: 0 .5ex}\n",
       "</style>\n",
       "<ol class=list-inline><li>'CCL25'</li><li>'CXCL2'</li><li>'CXCL3'</li><li>'ESM1'</li><li>'KAL1'</li><li>'LGALS9C'</li><li>'LIF'</li><li>'SBSPON'</li><li>'SERPINA5'</li><li>'TLL1'</li><li>'TNFSF15'</li><li>'ZP1'</li></ol>\n"
      ],
      "text/latex": [
       "\\begin{enumerate*}\n",
       "\\item 'CCL25'\n",
       "\\item 'CXCL2'\n",
       "\\item 'CXCL3'\n",
       "\\item 'ESM1'\n",
       "\\item 'KAL1'\n",
       "\\item 'LGALS9C'\n",
       "\\item 'LIF'\n",
       "\\item 'SBSPON'\n",
       "\\item 'SERPINA5'\n",
       "\\item 'TLL1'\n",
       "\\item 'TNFSF15'\n",
       "\\item 'ZP1'\n",
       "\\end{enumerate*}\n"
      ],
      "text/markdown": [
       "1. 'CCL25'\n",
       "2. 'CXCL2'\n",
       "3. 'CXCL3'\n",
       "4. 'ESM1'\n",
       "5. 'KAL1'\n",
       "6. 'LGALS9C'\n",
       "7. 'LIF'\n",
       "8. 'SBSPON'\n",
       "9. 'SERPINA5'\n",
       "10. 'TLL1'\n",
       "11. 'TNFSF15'\n",
       "12. 'ZP1'\n",
       "\n",
       "\n"
      ],
      "text/plain": [
       " [1] \"CCL25\"    \"CXCL2\"    \"CXCL3\"    \"ESM1\"     \"KAL1\"     \"LGALS9C\" \n",
       " [7] \"LIF\"      \"SBSPON\"   \"SERPINA5\" \"TLL1\"     \"TNFSF15\"  \"ZP1\"     "
      ]
     },
     "metadata": {},
     "output_type": "display_data"
    }
   ],
   "source": [
    "figo_umsmg_lists$CESC %>%\n",
    "    union(figo_nsmg_lists$CESC) %>%\n",
    "    intersect(survival_umsmg_lists$CESC) %>%\n",
    "    intersect(demg_lists$CESC) %>%\n",
    "    sort()"
   ]
  },
  {
   "cell_type": "code",
   "execution_count": 46,
   "id": "adopted-supplement",
   "metadata": {},
   "outputs": [
    {
     "data": {
      "text/html": [
       "<style>\n",
       ".list-inline {list-style: none; margin:0; padding: 0}\n",
       ".list-inline>li {display: inline-block}\n",
       ".list-inline>li:not(:last-child)::after {content: \"\\00b7\"; padding: 0 .5ex}\n",
       "</style>\n",
       "<ol class=list-inline><li>'GDF6'</li><li>'MEGF10'</li></ol>\n"
      ],
      "text/latex": [
       "\\begin{enumerate*}\n",
       "\\item 'GDF6'\n",
       "\\item 'MEGF10'\n",
       "\\end{enumerate*}\n"
      ],
      "text/markdown": [
       "1. 'GDF6'\n",
       "2. 'MEGF10'\n",
       "\n",
       "\n"
      ],
      "text/plain": [
       "[1] \"GDF6\"   \"MEGF10\""
      ]
     },
     "metadata": {},
     "output_type": "display_data"
    }
   ],
   "source": [
    "figo_umsmg_lists$UCEC %>%\n",
    "    union(figo_nsmg_lists$UCEC) %>%\n",
    "    intersect(survival_umsmg_lists$UCEC) %>%\n",
    "    intersect(demg_lists$UCEC) %>%\n",
    "    sort()"
   ]
  },
  {
   "cell_type": "code",
   "execution_count": 47,
   "id": "great-abraham",
   "metadata": {},
   "outputs": [
    {
     "data": {
      "text/html": [
       "<style>\n",
       ".list-inline {list-style: none; margin:0; padding: 0}\n",
       ".list-inline>li {display: inline-block}\n",
       ".list-inline>li:not(:last-child)::after {content: \"\\00b7\"; padding: 0 .5ex}\n",
       "</style>\n",
       "<ol class=list-inline><li>'CST6'</li><li>'FGF16'</li><li>'NCAN'</li></ol>\n"
      ],
      "text/latex": [
       "\\begin{enumerate*}\n",
       "\\item 'CST6'\n",
       "\\item 'FGF16'\n",
       "\\item 'NCAN'\n",
       "\\end{enumerate*}\n"
      ],
      "text/markdown": [
       "1. 'CST6'\n",
       "2. 'FGF16'\n",
       "3. 'NCAN'\n",
       "\n",
       "\n"
      ],
      "text/plain": [
       "[1] \"CST6\"  \"FGF16\" \"NCAN\" "
      ]
     },
     "metadata": {},
     "output_type": "display_data"
    }
   ],
   "source": [
    "figo_umsmg_lists$UCS %>%\n",
    "    union(figo_nsmg_lists$UCS) %>%\n",
    "    intersect(survival_umsmg_lists$UCS) %>%\n",
    "    intersect(demg_lists$UCS) %>%\n",
    "    sort()"
   ]
  },
  {
   "cell_type": "code",
   "execution_count": 58,
   "id": "persistent-vertex",
   "metadata": {},
   "outputs": [],
   "source": [
    "cesc_figo <- figo_umsmg_lists$CESC %>%\n",
    "    union(figo_nsmg_lists$CESC)\n",
    "#     intersect(demg_lists$CESC)\n",
    "ucec_figo <- figo_umsmg_lists$UCEC %>%\n",
    "    union(figo_nsmg_lists$UCEC)\n",
    "#     intersect(demg_lists$UCEC)\n",
    "ucs_figo <- figo_umsmg_lists$UCS %>%\n",
    "    union(figo_nsmg_lists$UCS)\n",
    "#     intersect(demg_lists$UCS)"
   ]
  },
  {
   "cell_type": "code",
   "execution_count": 67,
   "id": "homeless-bicycle",
   "metadata": {},
   "outputs": [
    {
     "data": {
      "text/html": [
       "<style>\n",
       ".list-inline {list-style: none; margin:0; padding: 0}\n",
       ".list-inline>li {display: inline-block}\n",
       ".list-inline>li:not(:last-child)::after {content: \"\\00b7\"; padding: 0 .5ex}\n",
       "</style>\n",
       "<ol class=list-inline><li>'AMELX'</li><li>'ANGPTL2'</li><li>'SERPINA3'</li><li>'TGM3'</li></ol>\n"
      ],
      "text/latex": [
       "\\begin{enumerate*}\n",
       "\\item 'AMELX'\n",
       "\\item 'ANGPTL2'\n",
       "\\item 'SERPINA3'\n",
       "\\item 'TGM3'\n",
       "\\end{enumerate*}\n"
      ],
      "text/markdown": [
       "1. 'AMELX'\n",
       "2. 'ANGPTL2'\n",
       "3. 'SERPINA3'\n",
       "4. 'TGM3'\n",
       "\n",
       "\n"
      ],
      "text/plain": [
       "[1] \"AMELX\"    \"ANGPTL2\"  \"SERPINA3\" \"TGM3\"    "
      ]
     },
     "metadata": {},
     "output_type": "display_data"
    }
   ],
   "source": [
    "\n",
    "# ucec_figo %>%\n",
    "#     intersect(ucs_figo) %>%\n",
    "#     sort()\n",
    "figo_umsmg_lists$UCEC %>%\n",
    "    intersect(figo_umsmg_lists$UCS) %>%\n",
    "    sort()"
   ]
  },
  {
   "cell_type": "code",
   "execution_count": 66,
   "id": "phantom-still",
   "metadata": {},
   "outputs": [
    {
     "data": {
      "text/html": [
       "<style>\n",
       ".list-inline {list-style: none; margin:0; padding: 0}\n",
       ".list-inline>li {display: inline-block}\n",
       ".list-inline>li:not(:last-child)::after {content: \"\\00b7\"; padding: 0 .5ex}\n",
       "</style>\n",
       "<ol class=list-inline><li>'ACAN'</li><li>'ADAMTS8'</li><li>'ADAMTS9'</li><li>'CCL1'</li><li>'CCL27'</li><li>'CELA3A'</li><li>'CFC1'</li><li>'CHAD'</li><li>'CLEC12B'</li><li>'CLEC19A'</li><li>'COCH'</li><li>'COL11A1'</li><li>'COLEC12'</li><li>'CSH1'</li><li>'CSPG4'</li><li>'CST11'</li><li>'CTSC'</li><li>'CXCL14'</li><li>'CXCL6'</li><li>'DMBT1'</li><li>'DMP1'</li><li>'FGG'</li><li>'FREM3'</li><li>'GDF2'</li><li>'GDF6'</li><li>'HYAL4'</li><li>'IFNA4'</li><li>'IGFALS'</li><li>'IGSF10'</li><li>'IL12B'</li><li>'ISM2'</li><li>'ITIH2'</li><li>'KITLG'</li><li>'MEGF10'</li><li>'MEPE'</li><li>'MMP8'</li><li>'MUC12'</li><li>'MUC2'</li><li>'MUC3A'</li><li>'NPNT'</li><li>'P4HA3'</li><li>'PLXNB1'</li><li>'PRG3'</li><li>'PROL1'</li><li>'RSPO2'</li><li>'SERPINB2'</li><li>'VWA5A'</li><li>'WIF1'</li><li>'WNT16'</li></ol>\n"
      ],
      "text/latex": [
       "\\begin{enumerate*}\n",
       "\\item 'ACAN'\n",
       "\\item 'ADAMTS8'\n",
       "\\item 'ADAMTS9'\n",
       "\\item 'CCL1'\n",
       "\\item 'CCL27'\n",
       "\\item 'CELA3A'\n",
       "\\item 'CFC1'\n",
       "\\item 'CHAD'\n",
       "\\item 'CLEC12B'\n",
       "\\item 'CLEC19A'\n",
       "\\item 'COCH'\n",
       "\\item 'COL11A1'\n",
       "\\item 'COLEC12'\n",
       "\\item 'CSH1'\n",
       "\\item 'CSPG4'\n",
       "\\item 'CST11'\n",
       "\\item 'CTSC'\n",
       "\\item 'CXCL14'\n",
       "\\item 'CXCL6'\n",
       "\\item 'DMBT1'\n",
       "\\item 'DMP1'\n",
       "\\item 'FGG'\n",
       "\\item 'FREM3'\n",
       "\\item 'GDF2'\n",
       "\\item 'GDF6'\n",
       "\\item 'HYAL4'\n",
       "\\item 'IFNA4'\n",
       "\\item 'IGFALS'\n",
       "\\item 'IGSF10'\n",
       "\\item 'IL12B'\n",
       "\\item 'ISM2'\n",
       "\\item 'ITIH2'\n",
       "\\item 'KITLG'\n",
       "\\item 'MEGF10'\n",
       "\\item 'MEPE'\n",
       "\\item 'MMP8'\n",
       "\\item 'MUC12'\n",
       "\\item 'MUC2'\n",
       "\\item 'MUC3A'\n",
       "\\item 'NPNT'\n",
       "\\item 'P4HA3'\n",
       "\\item 'PLXNB1'\n",
       "\\item 'PRG3'\n",
       "\\item 'PROL1'\n",
       "\\item 'RSPO2'\n",
       "\\item 'SERPINB2'\n",
       "\\item 'VWA5A'\n",
       "\\item 'WIF1'\n",
       "\\item 'WNT16'\n",
       "\\end{enumerate*}\n"
      ],
      "text/markdown": [
       "1. 'ACAN'\n",
       "2. 'ADAMTS8'\n",
       "3. 'ADAMTS9'\n",
       "4. 'CCL1'\n",
       "5. 'CCL27'\n",
       "6. 'CELA3A'\n",
       "7. 'CFC1'\n",
       "8. 'CHAD'\n",
       "9. 'CLEC12B'\n",
       "10. 'CLEC19A'\n",
       "11. 'COCH'\n",
       "12. 'COL11A1'\n",
       "13. 'COLEC12'\n",
       "14. 'CSH1'\n",
       "15. 'CSPG4'\n",
       "16. 'CST11'\n",
       "17. 'CTSC'\n",
       "18. 'CXCL14'\n",
       "19. 'CXCL6'\n",
       "20. 'DMBT1'\n",
       "21. 'DMP1'\n",
       "22. 'FGG'\n",
       "23. 'FREM3'\n",
       "24. 'GDF2'\n",
       "25. 'GDF6'\n",
       "26. 'HYAL4'\n",
       "27. 'IFNA4'\n",
       "28. 'IGFALS'\n",
       "29. 'IGSF10'\n",
       "30. 'IL12B'\n",
       "31. 'ISM2'\n",
       "32. 'ITIH2'\n",
       "33. 'KITLG'\n",
       "34. 'MEGF10'\n",
       "35. 'MEPE'\n",
       "36. 'MMP8'\n",
       "37. 'MUC12'\n",
       "38. 'MUC2'\n",
       "39. 'MUC3A'\n",
       "40. 'NPNT'\n",
       "41. 'P4HA3'\n",
       "42. 'PLXNB1'\n",
       "43. 'PRG3'\n",
       "44. 'PROL1'\n",
       "45. 'RSPO2'\n",
       "46. 'SERPINB2'\n",
       "47. 'VWA5A'\n",
       "48. 'WIF1'\n",
       "49. 'WNT16'\n",
       "\n",
       "\n"
      ],
      "text/plain": [
       " [1] \"ACAN\"     \"ADAMTS8\"  \"ADAMTS9\"  \"CCL1\"     \"CCL27\"    \"CELA3A\"  \n",
       " [7] \"CFC1\"     \"CHAD\"     \"CLEC12B\"  \"CLEC19A\"  \"COCH\"     \"COL11A1\" \n",
       "[13] \"COLEC12\"  \"CSH1\"     \"CSPG4\"    \"CST11\"    \"CTSC\"     \"CXCL14\"  \n",
       "[19] \"CXCL6\"    \"DMBT1\"    \"DMP1\"     \"FGG\"      \"FREM3\"    \"GDF2\"    \n",
       "[25] \"GDF6\"     \"HYAL4\"    \"IFNA4\"    \"IGFALS\"   \"IGSF10\"   \"IL12B\"   \n",
       "[31] \"ISM2\"     \"ITIH2\"    \"KITLG\"    \"MEGF10\"   \"MEPE\"     \"MMP8\"    \n",
       "[37] \"MUC12\"    \"MUC2\"     \"MUC3A\"    \"NPNT\"     \"P4HA3\"    \"PLXNB1\"  \n",
       "[43] \"PRG3\"     \"PROL1\"    \"RSPO2\"    \"SERPINB2\" \"VWA5A\"    \"WIF1\"    \n",
       "[49] \"WNT16\"   "
      ]
     },
     "metadata": {},
     "output_type": "display_data"
    }
   ],
   "source": [
    "survival_umsmg_lists$UCEC %>%\n",
    "    intersect(survival_umsmg_lists$UCEC) %>%\n",
    "    sort()"
   ]
  },
  {
   "cell_type": "code",
   "execution_count": null,
   "id": "about-mitchell",
   "metadata": {},
   "outputs": [],
   "source": []
  }
 ],
 "metadata": {
  "kernelspec": {
   "display_name": "R",
   "language": "R",
   "name": "ir"
  },
  "language_info": {
   "codemirror_mode": "r",
   "file_extension": ".r",
   "mimetype": "text/x-r-source",
   "name": "R",
   "pygments_lexer": "r",
   "version": "4.0.3"
  }
 },
 "nbformat": 4,
 "nbformat_minor": 5
}
