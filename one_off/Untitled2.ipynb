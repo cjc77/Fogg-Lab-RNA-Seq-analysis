{
 "cells": [
  {
   "cell_type": "code",
   "execution_count": 7,
   "id": "radical-trial",
   "metadata": {},
   "outputs": [],
   "source": [
    "library(tidyverse)\n",
    "library(cowplot)\n",
    "\n",
    "# Custom package\n",
    "library(rutils)"
   ]
  },
  {
   "cell_type": "code",
   "execution_count": 12,
   "id": "auburn-computer",
   "metadata": {},
   "outputs": [],
   "source": [
    "dirs <- rutils::get_dev_directories(dev_paths_file = \"../dev_paths.txt\")\n",
    "unified_dsets <- c(\"unified_cervical_data\", \"unified_uterine_data\", \"unified_uterine_endometrial_data\")\n",
    "projects <- c(\"CESC\", \"UCS\", \"UCEC\")"
   ]
  },
  {
   "cell_type": "code",
   "execution_count": 36,
   "id": "integral-revelation",
   "metadata": {},
   "outputs": [],
   "source": [
    "demg_lists <- list()\n",
    "figo_umsmg_lists <- list()\n",
    "figo_nsmg_lists <- list()\n",
    "survival_umsmg_lists <- list()\n",
    "for (dset_idx in 1:3) {\n",
    "    demg_lists[[projects[dset_idx]]] <- read_lines(paste0(dirs$analysis_dir, \"/gene_lists/\", unified_dsets[dset_idx], \"_demg_list.txt\"))\n",
    "    figo_umsmg_lists[[projects[dset_idx]]] <- read_lines(paste0(dirs$analysis_dir, \"/gene_lists/\", unified_dsets[dset_idx], \"_figo_umsmg_list.txt\"))\n",
    "    figo_nsmg_lists[[projects[dset_idx]]] <- read_lines(paste0(dirs$analysis_dir, \"/gene_lists/\", unified_dsets[dset_idx], \"_figo_nsmg_list.txt\"))\n",
    "    survival_umsmg_lists[[projects[dset_idx]]] <- read_lines(paste0(dirs$analysis_dir, \"/gene_lists/\", unified_dsets[dset_idx], \"_survival_umsmg_list.txt\"))\n",
    "}"
   ]
  },
  {
   "cell_type": "code",
   "execution_count": 37,
   "id": "modular-active",
   "metadata": {},
   "outputs": [
    {
     "data": {
      "text/html": [
       "839"
      ],
      "text/latex": [
       "839"
      ],
      "text/markdown": [
       "839"
      ],
      "text/plain": [
       "[1] 839"
      ]
     },
     "metadata": {},
     "output_type": "display_data"
    }
   ],
   "source": [
    "demg_lists$CESC %>%\n",
    "    union(demg_lists$UCEC) %>%\n",
    "    union(demg_lists$UCS) %>%\n",
    "    length()"
   ]
  },
  {
   "cell_type": "code",
   "execution_count": 38,
   "id": "charitable-taylor",
   "metadata": {},
   "outputs": [
    {
     "data": {
      "text/html": [
       "582"
      ],
      "text/latex": [
       "582"
      ],
      "text/markdown": [
       "582"
      ],
      "text/plain": [
       "[1] 582"
      ]
     },
     "metadata": {},
     "output_type": "display_data"
    }
   ],
   "source": [
    "figo_umsmg_lists$CESC %>%\n",
    "    union(figo_umsmg_lists$UCEC) %>%\n",
    "    union(figo_umsmg_lists$UCS) %>%\n",
    "    union(figo_nsmg_lists$CESC) %>%\n",
    "    union(figo_nsmg_lists$UCEC) %>%\n",
    "    union(figo_nsmg_lists$UCS) %>%\n",
    "    length()"
   ]
  },
  {
   "cell_type": "code",
   "execution_count": 39,
   "id": "waiting-helen",
   "metadata": {},
   "outputs": [
    {
     "data": {
      "text/html": [
       "141"
      ],
      "text/latex": [
       "141"
      ],
      "text/markdown": [
       "141"
      ],
      "text/plain": [
       "[1] 141"
      ]
     },
     "metadata": {},
     "output_type": "display_data"
    }
   ],
   "source": [
    "survival_umsmg_lists$CESC %>%\n",
    "    union(survival_umsmg_lists$UCEC) %>%\n",
    "    union(survival_umsmg_lists$UCS) %>%\n",
    "    length()"
   ]
  },
  {
   "cell_type": "code",
   "execution_count": null,
   "id": "fifth-manner",
   "metadata": {},
   "outputs": [],
   "source": []
  }
 ],
 "metadata": {
  "kernelspec": {
   "display_name": "R",
   "language": "R",
   "name": "ir"
  },
  "language_info": {
   "codemirror_mode": "r",
   "file_extension": ".r",
   "mimetype": "text/x-r-source",
   "name": "R",
   "pygments_lexer": "r",
   "version": "4.0.3"
  }
 },
 "nbformat": 4,
 "nbformat_minor": 5
}
