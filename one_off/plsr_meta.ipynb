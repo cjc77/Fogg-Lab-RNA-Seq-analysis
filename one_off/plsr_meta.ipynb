{
 "cells": [
  {
   "cell_type": "code",
   "execution_count": 1,
   "id": "unknown-bacon",
   "metadata": {},
   "outputs": [],
   "source": [
    "import pandas as pd\n",
    "import numpy as np\n",
    "from sklearn.cross_decomposition import PLSRegression\n",
    "from sklearn.model_selection import KFold\n",
    "\n",
    "import utils.dev_config as dev_conf\n",
    "import utils.preprocessing as prep"
   ]
  },
  {
   "cell_type": "code",
   "execution_count": 2,
   "id": "choice-interface",
   "metadata": {},
   "outputs": [],
   "source": [
    "dirs = dev_conf.get_dev_directories(\"../dev_paths.txt\")\n",
    "unified_dsets = [\"unified_cervical_data\", \"unified_uterine_data\", \"unified_uterine_endometrial_data\"]\n",
    "matrisome_list = f\"{dirs.data_dir}/matrisome/matrisome_hs_masterlist.tsv\"\n",
    "seed = 123\n",
    "rand = np.random.RandomState()\n",
    "event_code = {\"Alive\": 0, \"Dead\": 1}\n",
    "covariate_cols = [\"figo_stage\", \"age_at_diagnosis\", \"race\", \"ethnicity\"]\n",
    "dep_cols = [\"vital_status\", \"survival_time\"]\n",
    "cat_cols = [\"race\", \"ethnicity\", \"figo_chr\"]"
   ]
  },
  {
   "cell_type": "code",
   "execution_count": 3,
   "id": "miniature-interstate",
   "metadata": {},
   "outputs": [],
   "source": [
    "dset_idx = 1"
   ]
  },
  {
   "cell_type": "code",
   "execution_count": 4,
   "id": "original-secret",
   "metadata": {},
   "outputs": [],
   "source": [
    "# Load optimal hyperparameters\n",
    "h_params_df = pd.read_csv(f\"{dirs.analysis_dir}/model_opt/{unified_dsets[dset_idx]}_opt_plsr_h_params_neg_mean_squared_error.tsv\", sep=\"\\t\")\n",
    "n_comp = h_params_df.n_components[0]\n",
    "\n",
    "# Load and filter survival data\n",
    "survival_df = prep.load_survival_df(f\"{dirs.data_dir}/{unified_dsets[dset_idx]}/survival_data.tsv\", event_code)\n",
    "filtered_survival_df = (\n",
    "    prep.decode_figo_stage(survival_df[[\"sample_name\"] + dep_cols + covariate_cols].dropna(), to=\"c\")\n",
    "        .query(\"vital_status == 1\")\n",
    "        .drop([\"vital_status\"], axis=1)\n",
    "        .pipe(pd.get_dummies, columns=cat_cols)\n",
    "        .reset_index(drop = True)\n",
    ")\n",
    "filtered_survival_df.columns = filtered_survival_df.columns.str.replace(' ', '_')\n",
    "\n",
    "# Load normalized matrisome count data\n",
    "norm_matrisome_counts_df = pd.read_csv(f\"{dirs.data_dir}/{unified_dsets[dset_idx]}/norm_matrisome_counts.tsv\", sep='\\t')\n",
    "norm_filtered_matrisome_counts_t_df = prep.transpose_df(\n",
    "    norm_matrisome_counts_df[[\"geneID\"] + list(filtered_survival_df.sample_name)], \"geneID\", \"sample_name\"\n",
    ")\n",
    "\n",
    "# Combine survival data and normalized count data\n",
    "joined_df = (\n",
    "    pd.merge(filtered_survival_df, norm_filtered_matrisome_counts_t_df, on=\"sample_name\")\n",
    "        .set_index(\"sample_name\")\n",
    ")\n",
    "\n",
    "rand.seed(seed)\n",
    "x_df, y_df = prep.shuffle_data(joined_df, rand)\n",
    "x = np.array(x_df)\n",
    "y = np.array(y_df)\n",
    "\n",
    "gene_names = list(norm_filtered_matrisome_counts_t_df.columns[1:])\n"
   ]
  },
  {
   "cell_type": "markdown",
   "id": "opponent-bahrain",
   "metadata": {},
   "source": [
    "# Model evaluation"
   ]
  },
  {
   "cell_type": "code",
   "execution_count": 5,
   "id": "reduced-brave",
   "metadata": {},
   "outputs": [
    {
     "data": {
      "text/plain": [
       "5"
      ]
     },
     "execution_count": 5,
     "metadata": {},
     "output_type": "execute_result"
    }
   ],
   "source": [
    "kf = KFold(n_splits=5, random_state=None, shuffle=False)\n",
    "kf.get_n_splits(x_df)"
   ]
  },
  {
   "cell_type": "code",
   "execution_count": 6,
   "id": "wanted-translator",
   "metadata": {},
   "outputs": [
    {
     "data": {
      "text/plain": [
       "5"
      ]
     },
     "execution_count": 6,
     "metadata": {},
     "output_type": "execute_result"
    }
   ],
   "source": [
    "kf.n_splits"
   ]
  },
  {
   "cell_type": "code",
   "execution_count": 7,
   "id": "amateur-butler",
   "metadata": {},
   "outputs": [],
   "source": [
    "r_scores = np.zeros(shape=kf.n_splits, dtype = np.float64)\n",
    "q_scores = np.zeros(shape=kf.n_splits, dtype = np.float64)\n",
    "\n",
    "for i, (train_idx, test_idx) in enumerate(kf.split(x_df)):\n",
    "    x_train = x[train_idx]\n",
    "    y_train = y[train_idx]\n",
    "    \n",
    "    x_test = x[test_idx]\n",
    "    y_test = y[test_idx]\n",
    "    \n",
    "    plsr_model = PLSRegression(scale=False, n_components=n_comp)\n",
    "    plsr_model.fit(x_train, y_train)\n",
    "    \n",
    "    r = plsr_model.score(x_train, y_train)\n",
    "    q = plsr_model.score(x_test, y_test)\n",
    "    r_scores[i] = r\n",
    "    q_scores[i] = q"
   ]
  },
  {
   "cell_type": "code",
   "execution_count": 8,
   "id": "boring-honolulu",
   "metadata": {},
   "outputs": [
    {
     "name": "stdout",
     "output_type": "stream",
     "text": [
      "[0.93701109 0.94001008 0.8998418  0.92516825 0.8662635 ]\n",
      "[ -0.67872135  -0.61841861 -12.15723441  -0.5353383   -4.62223188]\n",
      "0.91\n",
      "-3.72\n"
     ]
    }
   ],
   "source": [
    "print(r_scores)\n",
    "print(q_scores)\n",
    "print(np.round(np.mean(r_scores), decimals=2))\n",
    "print(np.round(np.mean(q_scores), decimals=2))\n"
   ]
  }
 ],
 "metadata": {
  "kernelspec": {
   "display_name": "Python 3",
   "language": "python",
   "name": "python3"
  },
  "language_info": {
   "codemirror_mode": {
    "name": "ipython",
    "version": 3
   },
   "file_extension": ".py",
   "mimetype": "text/x-python",
   "name": "python",
   "nbconvert_exporter": "python",
   "pygments_lexer": "ipython3",
   "version": "3.8.3"
  }
 },
 "nbformat": 4,
 "nbformat_minor": 5
}
