{
 "cells": [
  {
   "cell_type": "code",
   "execution_count": 20,
   "id": "lonely-charm",
   "metadata": {},
   "outputs": [],
   "source": [
    "import numpy as np\n",
    "import pandas as pd\n",
    "\n",
    "from sklearn.metrics import f1_score, accuracy_score"
   ]
  },
  {
   "cell_type": "code",
   "execution_count": 4,
   "id": "hungarian-ordering",
   "metadata": {},
   "outputs": [],
   "source": [
    "tumor = 1\n",
    "normal = 0\n",
    "n_tumor = 259\n",
    "n_normal = 13"
   ]
  },
  {
   "cell_type": "code",
   "execution_count": 14,
   "id": "instrumental-stereo",
   "metadata": {},
   "outputs": [],
   "source": [
    "y = np.zeros(n_tumor + n_normal, dtype=np.int64)\n",
    "y[:n_tumor] = 1\n",
    "yhat = np.ones_like(y)"
   ]
  },
  {
   "cell_type": "code",
   "execution_count": 28,
   "id": "noticed-treasury",
   "metadata": {},
   "outputs": [
    {
     "name": "stdout",
     "output_type": "stream",
     "text": [
      "0.487758945386064\n",
      "0.975517890772128\n",
      "0.9522058823529411\n"
     ]
    }
   ],
   "source": [
    "print(f1_score(y, yhat, average=\"macro\"))\n",
    "print(f1_score(y, yhat))\n",
    "print(accuracy_score(y, yhat))"
   ]
  },
  {
   "cell_type": "code",
   "execution_count": 29,
   "id": "unnecessary-request",
   "metadata": {},
   "outputs": [
    {
     "data": {
      "text/plain": [
       "272"
      ]
     },
     "execution_count": 29,
     "metadata": {},
     "output_type": "execute_result"
    }
   ],
   "source": [
    "n_tumor + n_normal"
   ]
  }
 ],
 "metadata": {
  "kernelspec": {
   "display_name": "Python 3",
   "language": "python",
   "name": "python3"
  },
  "language_info": {
   "codemirror_mode": {
    "name": "ipython",
    "version": 3
   },
   "file_extension": ".py",
   "mimetype": "text/x-python",
   "name": "python",
   "nbconvert_exporter": "python",
   "pygments_lexer": "ipython3",
   "version": "3.8.3"
  }
 },
 "nbformat": 4,
 "nbformat_minor": 5
}
