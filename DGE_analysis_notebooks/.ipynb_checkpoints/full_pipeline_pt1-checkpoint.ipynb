{
 "cells": [
  {
   "cell_type": "markdown",
   "metadata": {},
   "source": [
    "# Preliminary TCGA DGE analysis\n",
    "### Primary concerns about this analysis:\n",
    "1. Low statistical power: healthy condition has few samples\n",
    "2. Missing data: ovarian cancer cohort has no healthy samples"
   ]
  },
  {
   "cell_type": "code",
   "execution_count": null,
   "metadata": {},
   "outputs": [],
   "source": [
    "library(tidyverse)\n",
    "library(TCGAbiolinks)\n",
    "library(DESeq2)\n",
    "library(BiocParallel)"
   ]
  },
  {
   "cell_type": "markdown",
   "metadata": {},
   "source": [
    "## Take advantage of parallelization in DESeq2 functions"
   ]
  },
  {
   "cell_type": "code",
   "execution_count": null,
   "metadata": {},
   "outputs": [],
   "source": [
    "n_cores <- detectCores()\n",
    "BiocParallel::register(MulticoreParam(n_cores))"
   ]
  },
  {
   "cell_type": "markdown",
   "metadata": {},
   "source": [
    "## Constants"
   ]
  },
  {
   "cell_type": "code",
   "execution_count": null,
   "metadata": {},
   "outputs": [],
   "source": [
    "projects <- c(\"TCGA-UCEC\", \"TCGA-CESC\")\n",
    "data_root <- \"../../../../../mnt/d/TCGA\"\n",
    "project_dirs <- sapply(\n",
    "    projects, \n",
    "    (function(p) paste0(data_root, \"/\", as.character(Sys.Date()), \"-\", p, \"-\", \"TCGAbiolinks\"))\n",
    ")\n",
    "tumor_levels <- c(\"Primary solid Tumor\", \"Metastatic\")\n",
    "healthy_levels <- c(\"Solid Tissue Normal\")\n",
    "tumor_def <- \"Tumor\"\n",
    "healthy_def <- \"Healthy\"\n",
    "proj_idx <- 2\n",
    "# max_padj <- 0.05\n",
    "# min_l2fc <- log2(2)"
   ]
  },
  {
   "cell_type": "markdown",
   "metadata": {},
   "source": [
    "## Functions"
   ]
  },
  {
   "cell_type": "code",
   "execution_count": null,
   "metadata": {},
   "outputs": [],
   "source": [
    "# Consolidate levels and (optionally) filter remaining levels\n",
    "# Ex:\n",
    "# - {\"Primary solid Tumor\", \"Metastatic\"} -> \"Tumor\"\n",
    "# - {\"Solid Tissue Normal\"} -> \"Healthy\"\n",
    "# - {\"Recurrent Tumor\"} -> (rows removed)\n",
    "consolidate_levels <- function(d, old_tumor_levels, old_healthy_levels, new_tumor_level, new_healthy_level, drop_remaining = TRUE) {\n",
    "    tumor_mask <- d$definition %in% old_tumor_levels\n",
    "    healthy_mask <- d$definition %in% old_healthy_levels\n",
    "    d$definition[tumor_mask] <- new_tumor_level\n",
    "    d$definition[healthy_mask] <- new_healthy_level\n",
    "    \n",
    "    if (drop_remaining) {\n",
    "        level_mask <- d$definition %in% c(new_tumor_level, new_healthy_level)\n",
    "        d <- d[, level_mask]\n",
    "    }\n",
    "}\n",
    "\n",
    "\n",
    "# Threshold based on expression in both conditions (assumes \"Tumor\"/\"Healthy\" are only levels)\n",
    "filter_by_expression <- function(dds, tumor_level, healthy_level, min_expr) {\n",
    "    tumor_cond_mask <- dds$definition == tumor_level\n",
    "    healthy_cond_mask <- dds$definition == healthy_level\n",
    "    tumor_cond_expr_mask <- rowSums(DESeq2::counts(dds[, tumor_cond_mask])) >= min_expr\n",
    "    healthy_cond_expr_mask <- rowSums(DESeq2::counts(dds[, healthy_cond_mask])) >= min_expr\n",
    "    expr_mask <- tumor_cond_expr_mask & healthy_cond_expr_mask\n",
    "    return(dds[expr_mask, ])\n",
    "}\n",
    "\n",
    "\n",
    "# Select which rows to keep based on adjusted p-value and log2 fold-change\n",
    "filter_DGE_res <- function(df, max_padj = 0.05, min_l2fc = log2(2)) {\n",
    "    padj_mask <- df$padj <= max_padj\n",
    "    l2fc_mask <- df$log2FoldChange >= min_l2fc\n",
    "    final_mask <- padj_mask & l2fc_mask\n",
    "    return(df[final_mask, ])\n",
    "}"
   ]
  },
  {
   "cell_type": "markdown",
   "metadata": {},
   "source": [
    "## Run Query & download"
   ]
  },
  {
   "cell_type": "code",
   "execution_count": null,
   "metadata": {},
   "outputs": [],
   "source": [
    "query <- GDCquery(\n",
    "    project = projects[proj_idx],\n",
    "    data.category = \"Transcriptome Profiling\",\n",
    "    data.type = \"Gene Expression Quantification\",\n",
    "    workflow.type = \"HTSeq - Counts\"\n",
    ")"
   ]
  },
  {
   "cell_type": "code",
   "execution_count": null,
   "metadata": {},
   "outputs": [],
   "source": [
    "GDCdownload(query, method = \"api\", directory = project_dirs[proj_idx], files.per.chunk = 10)"
   ]
  },
  {
   "cell_type": "markdown",
   "metadata": {},
   "source": [
    "## Prepare data for analysis"
   ]
  },
  {
   "cell_type": "code",
   "execution_count": null,
   "metadata": {},
   "outputs": [],
   "source": [
    "data <- GDCprepare(query, directory = project_dirs[proj_idx])"
   ]
  },
  {
   "cell_type": "code",
   "execution_count": null,
   "metadata": {},
   "outputs": [],
   "source": [
    "data"
   ]
  },
  {
   "cell_type": "markdown",
   "metadata": {},
   "source": [
    "### Only want two levels\n",
    "\n",
    "Lump \"Metastatic\" and \"Primary Solid Tumor\" together, define \"Healthy\" as non-tumor, and filter out data from other levels"
   ]
  },
  {
   "cell_type": "code",
   "execution_count": null,
   "metadata": {},
   "outputs": [],
   "source": [
    "data_consolidated <- consolidate_levels(\n",
    "    data,\n",
    "    old_tumor_levels = tumor_levels,\n",
    "    old_healthy_levels = healthy_levels,\n",
    "    new_tumor_level = tumor_def,\n",
    "    new_healthy_level = healthy_def,\n",
    "    drop_remaining = TRUE\n",
    ")"
   ]
  },
  {
   "cell_type": "code",
   "execution_count": null,
   "metadata": {},
   "outputs": [],
   "source": [
    "unique(data_consolidated$definition)\n",
    "data_consolidated"
   ]
  },
  {
   "cell_type": "code",
   "execution_count": null,
   "metadata": {},
   "outputs": [],
   "source": [
    "sum(data_consolidated$definition == tumor_def)\n",
    "sum(data_consolidated$definition == healthy_def)"
   ]
  },
  {
   "cell_type": "markdown",
   "metadata": {},
   "source": [
    "## Prep data for DGE analysis"
   ]
  },
  {
   "cell_type": "code",
   "execution_count": null,
   "metadata": {},
   "outputs": [],
   "source": [
    "dds <- DESeqDataSet(data_consolidated, design = ~ definition)"
   ]
  },
  {
   "cell_type": "code",
   "execution_count": null,
   "metadata": {},
   "outputs": [],
   "source": [
    "dds"
   ]
  },
  {
   "cell_type": "markdown",
   "metadata": {},
   "source": [
    "### Filter out genes which are not expressed in either tumor or healthy conditions\n",
    "I.E. we want to keep only genes that are expressed in the healthy AND the tumor conditions"
   ]
  },
  {
   "cell_type": "code",
   "execution_count": null,
   "metadata": {},
   "outputs": [],
   "source": [
    "dds_filtered <- filter_by_expression(ddsSE, tumor_level = tumor_def, healthy_level = healthy_def, min_expr = 1)"
   ]
  },
  {
   "cell_type": "code",
   "execution_count": null,
   "metadata": {},
   "outputs": [],
   "source": [
    "dds_filtered"
   ]
  },
  {
   "cell_type": "markdown",
   "metadata": {},
   "source": [
    "## Perform DGE analysis"
   ]
  },
  {
   "cell_type": "code",
   "execution_count": null,
   "metadata": {},
   "outputs": [],
   "source": [
    "# ddsSESeq <- DESeq(dds, parallel = TRUE)\n",
    "ddsSeq <- DESeq(dds_filtered, parallel = TRUE)"
   ]
  },
  {
   "cell_type": "code",
   "execution_count": null,
   "metadata": {},
   "outputs": [],
   "source": [
    "# ddsSESeq\n",
    "ddsSeq"
   ]
  },
  {
   "cell_type": "code",
   "execution_count": null,
   "metadata": {},
   "outputs": [],
   "source": [
    "# resultsNames(ddsSESeq)\n",
    "resultsNames(ddsSeq)"
   ]
  },
  {
   "cell_type": "code",
   "execution_count": null,
   "metadata": {},
   "outputs": [],
   "source": [
    "# res <- results(ddsSESeq, contrast = c(\"definition\", \"Tumor\", \"Healthy\"), pAdjustMethod = \"BH\", parallel = TRUE)\n",
    "res <- results(ddsSeq, contrast = c(\"definition\", \"Tumor\", \"Healthy\"), pAdjustMethod = \"BH\", parallel = TRUE)"
   ]
  },
  {
   "cell_type": "markdown",
   "metadata": {},
   "source": [
    "## Combine results with external gene IDs"
   ]
  },
  {
   "cell_type": "code",
   "execution_count": null,
   "metadata": {},
   "outputs": [],
   "source": [
    "res_df <- as_tibble(res, rownames = \"geneID\")\n",
    "head(res_df)\n",
    "ddsSeq_row_data_df <- rowData(ddsSeq) %>% as_tibble()\n",
    "head(ddsSeq_row_data_df)"
   ]
  },
  {
   "cell_type": "markdown",
   "metadata": {},
   "source": [
    "### Make sure gene ordering is preserved between results and ddSESeq row data"
   ]
  },
  {
   "cell_type": "code",
   "execution_count": null,
   "metadata": {},
   "outputs": [],
   "source": [
    "all(ddsSeq_row_data_df$ensembl_gene_id == res_df$geneID)"
   ]
  },
  {
   "cell_type": "code",
   "execution_count": null,
   "metadata": {},
   "outputs": [],
   "source": [
    "res_genes_df <- res_df %>% mutate(\n",
    "        external_gene_name = ddsSeq_row_data_df$external_gene_name,\n",
    "        original_ensembl_gene_id = ddsSeq_row_data_df$original_ensembl_gene_id,\n",
    "        ensembl_gene_id = res_df$geneID\n",
    "    ) %>%\n",
    "    select(-geneID) %>%\n",
    "    select(ensembl_gene_id, original_ensembl_gene_id, external_gene_name, everything())"
   ]
  },
  {
   "cell_type": "code",
   "execution_count": null,
   "metadata": {},
   "outputs": [],
   "source": [
    "dim(res_genes_df)"
   ]
  },
  {
   "cell_type": "markdown",
   "metadata": {},
   "source": [
    "## Create DEG list"
   ]
  },
  {
   "cell_type": "markdown",
   "metadata": {},
   "source": [
    "### Drop rows (genes) with NA values"
   ]
  },
  {
   "cell_type": "code",
   "execution_count": null,
   "metadata": {},
   "outputs": [],
   "source": [
    "na_mask <- rowSums(is.na(res_genes_df)) > 0\n",
    "res_genes_df <- res_genes_df[!na_mask, ]"
   ]
  },
  {
   "cell_type": "markdown",
   "metadata": {},
   "source": [
    "No NAs left?"
   ]
  },
  {
   "cell_type": "code",
   "execution_count": null,
   "metadata": {},
   "outputs": [],
   "source": [
    "sum(rowSums(is.na(res_genes_df))) == 0"
   ]
  },
  {
   "cell_type": "markdown",
   "metadata": {},
   "source": [
    "How many rows left?"
   ]
  },
  {
   "cell_type": "code",
   "execution_count": null,
   "metadata": {},
   "outputs": [],
   "source": [
    "nrow(res_genes_df)"
   ]
  },
  {
   "cell_type": "markdown",
   "metadata": {},
   "source": [
    "### Apply final filters (adj. $p$-values, $\\log_2$ fold-change)"
   ]
  },
  {
   "cell_type": "code",
   "execution_count": null,
   "metadata": {},
   "outputs": [],
   "source": [
    "DEG1_df <- filter_DGE_res(res_genes_df, max_padj = 0.05, min_l2fc = log2(2))"
   ]
  },
  {
   "cell_type": "markdown",
   "metadata": {},
   "source": [
    "How many rows left?"
   ]
  },
  {
   "cell_type": "code",
   "execution_count": null,
   "metadata": {},
   "outputs": [],
   "source": [
    "nrow(DEG1_df)"
   ]
  }
 ],
 "metadata": {
  "kernelspec": {
   "display_name": "R",
   "language": "R",
   "name": "ir"
  },
  "language_info": {
   "codemirror_mode": "r",
   "file_extension": ".r",
   "mimetype": "text/x-r-source",
   "name": "R",
   "pygments_lexer": "r",
   "version": "3.6.3"
  }
 },
 "nbformat": 4,
 "nbformat_minor": 4
}
