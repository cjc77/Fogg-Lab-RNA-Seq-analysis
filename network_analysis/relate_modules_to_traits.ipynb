{
 "cells": [
  {
   "cell_type": "code",
   "execution_count": 17,
   "metadata": {},
   "outputs": [],
   "source": [
    "library(tidyverse)\n",
    "library(WGCNA)\n",
    "library(cowplot)\n",
    "library(matrixStats)\n",
    "\n",
    "# Custom package\n",
    "library(rutils)"
   ]
  },
  {
   "cell_type": "code",
   "execution_count": 18,
   "metadata": {},
   "outputs": [
    {
     "name": "stdout",
     "output_type": "stream",
     "text": [
      "Allowing parallel execution with up to 15 working processes.\n"
     ]
    }
   ],
   "source": [
    "options(stringsAsFactors = FALSE)\n",
    "enableWGCNAThreads()"
   ]
  },
  {
   "cell_type": "code",
   "execution_count": 19,
   "metadata": {},
   "outputs": [],
   "source": [
    "dirs <- rutils::get_dev_directories(dev_paths_file = \"../dev_paths.txt\")\n",
    "unified_dsets <- c(\"unified_cervical_data\", \"unified_uterine_data\", \"unified_uterine_endometrial_data\")\n",
    "\n",
    "event_code <- list(\"Alive\" = 0, \"Dead\" = 1)"
   ]
  },
  {
   "cell_type": "code",
   "execution_count": 20,
   "metadata": {},
   "outputs": [],
   "source": [
    "dset_idx <- 1"
   ]
  },
  {
   "cell_type": "markdown",
   "metadata": {},
   "source": [
    "# Load data"
   ]
  },
  {
   "cell_type": "code",
   "execution_count": 21,
   "metadata": {},
   "outputs": [],
   "source": [
    "lnames <- load(file = paste0(dirs$data_dir, \"/saved_network_objects/\", unified_dsets[dset_idx], \"_tumor_data.RData\"))\n",
    "lnames <- load(file = paste0(dirs$data_dir, \"/saved_network_objects/\", unified_dsets[dset_idx], \"_tumor_network.RData\"))"
   ]
  },
  {
   "cell_type": "code",
   "execution_count": 22,
   "metadata": {},
   "outputs": [],
   "source": [
    "n_genes <- ncol(data_expr)\n",
    "n_samples <- nrow(data_expr)"
   ]
  },
  {
   "cell_type": "code",
   "execution_count": 23,
   "metadata": {},
   "outputs": [],
   "source": [
    "mes_0 <- moduleEigengenes(data_expr, module_colors)$eigengenes\n",
    "mes <- orderMEs(mes_0)"
   ]
  },
  {
   "cell_type": "markdown",
   "metadata": {},
   "source": [
    "# Module significance for survival analysis"
   ]
  },
  {
   "cell_type": "code",
   "execution_count": 24,
   "metadata": {},
   "outputs": [],
   "source": [
    "module_vital <- standardScreeningCensoredTime(\n",
    "    datExpr = mes,\n",
    "    time = data_traits$survival_time, \n",
    "    event = data_traits$vital_status, \n",
    "    fastCalculation = FALSE,\n",
    "    qValues = TRUE\n",
    ")\n",
    "\n",
    "module_vital_df <- module_vital %>%\n",
    "    as_tibble() %>%\n",
    "    dplyr::rename_all(tolower) %>%\n",
    "    dplyr::rename(module = id, pval = pvaluelogrank, qval = qvaluelogrank, hr = hazardratio, dev_cor = cordeviance) %>%\n",
    "    dplyr::select(module, hr, dev_cor, pval, qval) %>%\n",
    "    dplyr::rename_if((colnames(.) != \"module\"), ~ gsub(\"^\", \"vital_\", .))\n",
    "# module_vital_df"
   ]
  },
  {
   "cell_type": "code",
   "execution_count": 25,
   "metadata": {},
   "outputs": [
    {
     "name": "stderr",
     "output_type": "stream",
     "text": [
      "Warning message in fitter(X, Y, istrat, offset, init, control, weights = weights, :\n",
      "“Loglik converged before variable  1 ; coefficient may be infinite. ”Warning message in fitter(X, Y, istrat, offset, init, control, weights = weights, :\n",
      "“Loglik converged before variable  1 ; coefficient may be infinite. ”Warning message in fitter(X, Y, istrat, offset, init, control, weights = weights, :\n",
      "“Loglik converged before variable  1 ; coefficient may be infinite. ”Warning message in fitter(X, Y, istrat, offset, init, control, weights = weights, :\n",
      "“Loglik converged before variable  1 ; coefficient may be infinite. ”Warning message in fitter(X, Y, istrat, offset, init, control, weights = weights, :\n",
      "“Loglik converged before variable  1 ; coefficient may be infinite. ”"
     ]
    }
   ],
   "source": [
    "gene_vital <- standardScreeningCensoredTime(\n",
    "    datExpr = data_expr,\n",
    "    time = data_traits$survival_time,\n",
    "    event = data_traits$vital_status,\n",
    "    fastCalculation = FALSE,\n",
    "    qValues = TRUE\n",
    ")\n",
    "gene_vital_df <- gene_vital %>%\n",
    "    as_tibble() %>%\n",
    "    dplyr::rename_all(tolower) %>%\n",
    "    dplyr::rename(geneID = id, pval = pvaluelogrank, qval = qvaluelogrank, hr = hazardratio, dev_cor = cordeviance) %>%\n",
    "    dplyr::select(geneID, hr, dev_cor, pval, qval) %>%\n",
    "    dplyr::rename_if((colnames(.) != \"geneID\"), ~ gsub(\"^\", \"vital_\", .))\n",
    "# nrow(gene_coxph_res[gene_coxph_res$qvalueLogrank < 0.05, ])\n",
    "# head(gene_coxph_res[gene_coxph_res$qvalueLogrank < 0.05, ])"
   ]
  },
  {
   "cell_type": "markdown",
   "metadata": {},
   "source": [
    "# Module significance for FIGO stage"
   ]
  },
  {
   "cell_type": "code",
   "execution_count": 26,
   "metadata": {},
   "outputs": [],
   "source": [
    "module_figo_cor <- WGCNA::cor(mes, data_traits[-c(1:2)])\n",
    "module_figo_cor_df <- module_figo_cor %>%\n",
    "    as_tibble(rownames = \"module\") %>%\n",
    "    dplyr::rename_if((colnames(.) != \"module\"), ~ gsub(\"$\", \"_cor\", .))"
   ]
  },
  {
   "cell_type": "code",
   "execution_count": 27,
   "metadata": {},
   "outputs": [],
   "source": [
    "module_figo_pval <- corPvalueStudent(module_figo_cor, n_samples)\n",
    "module_figo_pval_df <- module_figo_pval %>%\n",
    "    as_tibble(rownames = \"module\") %>%\n",
    "    dplyr::rename_if((colnames(.) != \"module\"), ~ gsub(\"$\", \"_pval\", .))"
   ]
  },
  {
   "cell_type": "code",
   "execution_count": 28,
   "metadata": {},
   "outputs": [],
   "source": [
    "module_figo_qval_df <- apply(module_figo_pval, MARGIN = 2, function(x) { WGCNA::qvalue(x)$qvalues }) %>%\n",
    "    as_tibble(rownames = \"module\") %>%\n",
    "    dplyr::rename_if((colnames(.) != \"module\"), ~ gsub(\"$\", \"_qval\", .))"
   ]
  },
  {
   "cell_type": "markdown",
   "metadata": {},
   "source": [
    "# Find genes with high module membership (MM) and gene significance (GS)"
   ]
  },
  {
   "cell_type": "code",
   "execution_count": 29,
   "metadata": {},
   "outputs": [],
   "source": [
    "gene_module_map_df <- tibble(geneID = colnames(data_expr), module = module_colors)"
   ]
  },
  {
   "cell_type": "code",
   "execution_count": 30,
   "metadata": {},
   "outputs": [],
   "source": [
    "gene_mm <- WGCNA::cor(data_expr, mes, use = \"p\")\n",
    "gene_mm_pval <- corPvalueStudent(gene_mm, nSamples = n_samples)\n",
    "gene_mm_qval <- apply(gene_mm_pval, MARGIN = 2, function(x) { WGCNA::qvalue(x)$qvalues })"
   ]
  },
  {
   "cell_type": "code",
   "execution_count": 31,
   "metadata": {},
   "outputs": [],
   "source": [
    "gene_figo_cor <- WGCNA::cor(data_expr, data_traits[, -c(1:2)], use = \"p\")\n",
    "gene_figo_pval <- corPvalueStudent(gene_figo_cor, nSamples = n_samples)\n",
    "gene_figo_qval <- apply(gene_figo_pval, MARGIN = 2, function(x) { WGCNA::qvalue(x)$qvalues })"
   ]
  },
  {
   "cell_type": "code",
   "execution_count": 32,
   "metadata": {},
   "outputs": [],
   "source": [
    "gene_mm_df <- gene_mm %>%\n",
    "    as_tibble(rownames = \"geneID\") %>%\n",
    "    dplyr::rename_if(startsWith(colnames(.), \"ME\"), ~ gsub(\"ME\", \"\", .)) %>%\n",
    "    dplyr::rename_if(!startsWith(colnames(.), \"geneID\"), ~ gsub(\"$\", \"_cor\", .))\n",
    "gene_mm_pval_df <- gene_mm_pval %>%\n",
    "    as_tibble(rownames = \"geneID\") %>%\n",
    "    dplyr::rename_if(startsWith(colnames(.), \"ME\"), ~ gsub(\"ME\", \"\", .)) %>%\n",
    "    dplyr::rename_if(!startsWith(colnames(.), \"geneID\"), ~ gsub(\"$\", \"_pval\", .))\n",
    "gene_mm_qval_df <- gene_mm_qval %>%\n",
    "    as_tibble(rownames = \"geneID\") %>%\n",
    "    dplyr::rename_if(startsWith(colnames(.), \"ME\"), ~ gsub(\"ME\", \"\", .)) %>%\n",
    "    dplyr::rename_if(!startsWith(colnames(.), \"geneID\"), ~ gsub(\"$\", \"_qval\", .))"
   ]
  },
  {
   "cell_type": "code",
   "execution_count": 33,
   "metadata": {},
   "outputs": [],
   "source": [
    "gene_figo_df <- gene_figo_cor %>%\n",
    "    as_tibble(rownames = \"geneID\") %>%\n",
    "    dplyr::rename_if(!startsWith(colnames(.), \"geneID\"), ~ gsub(\"$\", \"_cor\", .))\n",
    "gene_figo_pval_df <- gene_figo_pval %>%\n",
    "    as_tibble(rownames = \"geneID\") %>%\n",
    "    dplyr::rename_if(!startsWith(colnames(.), \"geneID\"), ~ gsub(\"$\", \"_pval\", .))\n",
    "gene_figo_qval_df <- gene_figo_qval %>%\n",
    "    as_tibble(rownames = \"geneID\") %>%\n",
    "    dplyr::rename_if(!startsWith(colnames(.), \"geneID\"), ~ gsub(\"$\", \"_qval\", .))"
   ]
  },
  {
   "cell_type": "markdown",
   "metadata": {},
   "source": [
    "# Save ME/trait relationships"
   ]
  },
  {
   "cell_type": "code",
   "execution_count": 34,
   "metadata": {},
   "outputs": [],
   "source": [
    "mes_trait_df <- module_figo_cor_df %>%\n",
    "    inner_join(module_figo_pval_df, by = \"module\") %>%\n",
    "    inner_join(module_figo_qval_df, by = \"module\") %>%\n",
    "    inner_join(module_vital_df, by = \"module\") %>%\n",
    "    dplyr::mutate(module = gsub(\"ME\", \"\", module))"
   ]
  },
  {
   "cell_type": "code",
   "execution_count": 35,
   "metadata": {},
   "outputs": [],
   "source": [
    "write_tsv(mes_trait_df, paste0(dirs$analysis_dir, \"/network/\", unified_dsets[dset_idx], \"_eigengene_traits.tsv\"))"
   ]
  },
  {
   "cell_type": "markdown",
   "metadata": {},
   "source": [
    "# Save gene MM & GS correlations/p-values"
   ]
  },
  {
   "cell_type": "code",
   "execution_count": 36,
   "metadata": {},
   "outputs": [],
   "source": [
    "joined_mm_gs_df <- gene_module_map_df %>%\n",
    "    inner_join(gene_mm_df, by = \"geneID\") %>%\n",
    "    inner_join(gene_mm_pval_df, by = \"geneID\") %>%\n",
    "    inner_join(gene_mm_qval_df, by = \"geneID\") %>%\n",
    "    # Specify cor, pval, and qval for module to which this gene is asigned\n",
    "    dplyr::mutate(mm_cor = !!as.name(paste0(.$module, \"_cor\"))) %>%\n",
    "    dplyr::mutate(mm_pval = !!as.name(paste0(.$module, \"_pval\"))) %>%\n",
    "    dplyr::mutate(mm_qval = !!as.name(paste0(.$module, \"_qval\"))) %>%\n",
    "    dplyr::select(geneID, module, mm_cor, mm_pval, mm_qval, everything()) %>%\n",
    "    inner_join(gene_figo_df, by = \"geneID\") %>%\n",
    "    inner_join(gene_figo_pval_df, by = \"geneID\") %>%\n",
    "    inner_join(gene_figo_qval_df, by = \"geneID\") %>%\n",
    "    inner_join(gene_vital_df, by = \"geneID\")"
   ]
  },
  {
   "cell_type": "code",
   "execution_count": 37,
   "metadata": {},
   "outputs": [],
   "source": [
    "write_tsv(joined_mm_gs_df, paste0(dirs$analysis_dir, \"/network/\", unified_dsets[dset_idx], \"_gene_mm_gs.tsv\"))"
   ]
  },
  {
   "cell_type": "markdown",
   "metadata": {},
   "source": [
    "# Save module Eigengenes"
   ]
  },
  {
   "cell_type": "code",
   "execution_count": 38,
   "metadata": {},
   "outputs": [],
   "source": [
    "mes_df <- mes %>%\n",
    "    as_tibble(rownames = \"sample_name\") %>%\n",
    "    dplyr::rename_if(startsWith(colnames(.), \"ME\"), ~ gsub(\"ME\", \"\", .))"
   ]
  },
  {
   "cell_type": "code",
   "execution_count": 39,
   "metadata": {},
   "outputs": [],
   "source": [
    "write_tsv(mes_df, paste0(dirs$analysis_dir, \"/network/\", unified_dsets[dset_idx], \"_eigengenes.tsv\"))"
   ]
  },
  {
   "cell_type": "markdown",
   "metadata": {},
   "source": [
    "# Visualize module results for each trait"
   ]
  },
  {
   "cell_type": "code",
   "execution_count": 40,
   "metadata": {},
   "outputs": [],
   "source": [
    "pivot_mm_gs_df <- joined_mm_gs_df %>%\n",
    "    dplyr::select(-one_of(colnames(gene_figo_pval_df)[-1], \"vital_pval\", \"vital_qval\", \"vital_hr\")) %>%\n",
    "    pivot_longer(cols = colnames(gene_mm_df)[-1], names_to = \"module_cor\", values_to = \"module_cor_val\") %>%\n",
    "    pivot_longer(cols = c(colnames(gene_figo_df)[-1], \"vital_dev_cor\"), names_to = \"trait_cor\", values_to = \"trait_cor_val\") %>%\n",
    "    pivot_longer(cols = colnames(gene_mm_pval_df)[-1], names_to = \"module_pval\", values_to = \"module_pval_val\") %>%\n",
    "    dplyr::filter(startsWith(module_cor, module), startsWith(module_pval, module))"
   ]
  },
  {
   "cell_type": "code",
   "execution_count": 41,
   "metadata": {},
   "outputs": [],
   "source": [
    "axis_scale <- function(x, d) {\n",
    "    sprintf(paste0(\"%.\", d, \"f\"), x)\n",
    "}\n",
    "\n",
    "facet_plot <- function(pivot_df, trait_str, module_pval_thresh = 0.05, module_cor_pval_thresh = 0.5) {\n",
    "    plt <- ggplot(pivot_df %>% dplyr::filter(trait_cor == paste0(trait_str, \"_cor\"))) +\n",
    "        geom_point(aes(x = abs(module_cor_val), y = abs(trait_cor_val), color = (module_pval_val < module_pval_thresh) & (abs(module_cor_val) > module_cor_pval_thresh))) +\n",
    "        geom_smooth(aes(x = abs(module_cor_val), y = abs(trait_cor_val)), method = \"lm\", color = \"black\") +\n",
    "        facet_wrap(~ module, ncol = 3) +\n",
    "        theme_classic() +\n",
    "        labs(color = \"Sig. in module\", x = \"gene abs(ME cor.)\", y = paste0(\"gene abs(\", gsub(\"_\", \" \", trait_str), \" cor.)\")) +\n",
    "        scale_x_continuous(labels = function(x) { axis_scale(x, 2) }) +\n",
    "        scale_y_continuous(labels = function(x) { axis_scale(x, 2) })\n",
    "    return(plt)\n",
    "}"
   ]
  },
  {
   "cell_type": "code",
   "execution_count": 42,
   "metadata": {},
   "outputs": [
    {
     "name": "stderr",
     "output_type": "stream",
     "text": [
      "`geom_smooth()` using formula 'y ~ x'\n",
      "`geom_smooth()` using formula 'y ~ x'\n",
      "`geom_smooth()` using formula 'y ~ x'\n",
      "`geom_smooth()` using formula 'y ~ x'\n",
      "`geom_smooth()` using formula 'y ~ x'\n"
     ]
    }
   ],
   "source": [
    "trait_strs <- c(\"vital_dev\", \"figo_stage_1\", \"figo_stage_2\", \"figo_stage_3\", \"figo_stage_4\")\n",
    "for (ts in trait_strs) {\n",
    "    facet_plot(pivot_mm_gs_df, ts)\n",
    "    ggsave(filename = paste0(dirs$figures_dir, \"/network/\", unified_dsets[dset_idx], \"_module_\", ts, \"_facet.png\"), height = 10, width = 10)\n",
    "}\n"
   ]
  },
  {
   "cell_type": "code",
   "execution_count": null,
   "metadata": {},
   "outputs": [],
   "source": []
  }
 ],
 "metadata": {
  "kernelspec": {
   "display_name": "R",
   "language": "R",
   "name": "ir"
  },
  "language_info": {
   "codemirror_mode": "r",
   "file_extension": ".r",
   "mimetype": "text/x-r-source",
   "name": "R",
   "pygments_lexer": "r",
   "version": "3.6.3"
  }
 },
 "nbformat": 4,
 "nbformat_minor": 4
}
