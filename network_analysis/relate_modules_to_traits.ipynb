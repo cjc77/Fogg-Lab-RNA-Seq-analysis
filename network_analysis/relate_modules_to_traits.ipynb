{
 "cells": [
  {
   "cell_type": "code",
   "execution_count": 1,
   "metadata": {
    "collapsed": true,
    "jupyter": {
     "outputs_hidden": true
    }
   },
   "outputs": [
    {
     "name": "stderr",
     "output_type": "stream",
     "text": [
      "── Attaching packages ─────────────────────────────────────── tidyverse 1.3.0 ──\n",
      "✔ ggplot2 3.3.2     ✔ purrr   0.3.4\n",
      "✔ tibble  3.0.3     ✔ dplyr   1.0.0\n",
      "✔ tidyr   1.1.0     ✔ stringr 1.4.0\n",
      "✔ readr   1.3.1     ✔ forcats 0.5.0\n",
      "── Conflicts ────────────────────────────────────────── tidyverse_conflicts() ──\n",
      "✖ dplyr::filter() masks stats::filter()\n",
      "✖ dplyr::lag()    masks stats::lag()\n",
      "Loading required package: dynamicTreeCut\n",
      "Loading required package: fastcluster\n",
      "\n",
      "Attaching package: ‘fastcluster’\n",
      "\n",
      "The following object is masked from ‘package:stats’:\n",
      "\n",
      "    hclust\n",
      "\n",
      "\n",
      "\n",
      "Attaching package: ‘WGCNA’\n",
      "\n",
      "The following object is masked from ‘package:stats’:\n",
      "\n",
      "    cor\n",
      "\n",
      "\n",
      "********************************************************\n",
      "Note: As of version 1.0.0, cowplot does not change the\n",
      "  default ggplot2 theme anymore. To recover the previous\n",
      "  behavior, execute:\n",
      "  theme_set(theme_cowplot())\n",
      "********************************************************\n",
      "\n",
      "\n",
      "Attaching package: ‘matrixStats’\n",
      "\n",
      "The following object is masked from ‘package:dplyr’:\n",
      "\n",
      "    count\n",
      "\n"
     ]
    }
   ],
   "source": [
    "library(tidyverse)\n",
    "library(WGCNA)\n",
    "library(cowplot)\n",
    "library(matrixStats)\n",
    "\n",
    "# Custom package\n",
    "library(rutils)"
   ]
  },
  {
   "cell_type": "code",
   "execution_count": 2,
   "metadata": {},
   "outputs": [
    {
     "name": "stdout",
     "output_type": "stream",
     "text": [
      "Allowing parallel execution with up to 15 working processes.\n"
     ]
    }
   ],
   "source": [
    "options(stringsAsFactors = FALSE)\n",
    "enableWGCNAThreads()"
   ]
  },
  {
   "cell_type": "code",
   "execution_count": 3,
   "metadata": {},
   "outputs": [],
   "source": [
    "dirs <- rutils::get_dev_directories(dev_paths_file = \"../dev_paths.txt\")\n",
    "projects <- c(\"TCGA-CESC\", \"TCGA-UCS\", \"TCGA-UCEC\", \"TCGA-OV\")\n",
    "unified_dsets <- c(\"unified_cervical_data\", \"unified_uterine_data\", \"unified_uterine_endometrial_data\")\n",
    "matrisome_path <- paste0(dirs$data_dir, \"/matrisome/matrisome_hs_masterlist.tsv\")\n",
    "\n",
    "event_code <- list(\"Alive\" = 0, \"Dead\" = 1)"
   ]
  },
  {
   "cell_type": "code",
   "execution_count": 4,
   "metadata": {},
   "outputs": [],
   "source": [
    "dset_idx <- 3"
   ]
  },
  {
   "cell_type": "markdown",
   "metadata": {},
   "source": [
    "# Load data"
   ]
  },
  {
   "cell_type": "code",
   "execution_count": 5,
   "metadata": {
    "collapsed": true,
    "jupyter": {
     "outputs_hidden": true
    }
   },
   "outputs": [
    {
     "name": "stderr",
     "output_type": "stream",
     "text": [
      "Parsed with column specification:\n",
      "cols(\n",
      "  sample_name = col_character(),\n",
      "  vital_status = col_character(),\n",
      "  survival_time = col_double(),\n",
      "  figo_stage = col_character(),\n",
      "  days_to_last_follow_up = col_double(),\n",
      "  days_to_death = col_double(),\n",
      "  age_at_diagnosis = col_double(),\n",
      "  age_at_index = col_double(),\n",
      "  height = col_double(),\n",
      "  weight = col_double(),\n",
      "  bmi = col_double(),\n",
      "  race = col_character(),\n",
      "  ethnicity = col_character()\n",
      ")\n"
     ]
    }
   ],
   "source": [
    "clinical_df <- load_survival_df(paste0(dirs$data_dir, \"/\", unified_dsets[dset_idx], \"/survival_data.tsv\"), event_code)\n",
    "data_traits <- clinical_df %>%\n",
    "    dplyr::select(sample_name, vital_status, survival_time, figo_stage) %>%\n",
    "    dplyr::filter(rowSums(is.na(.)) == 0) %>% \n",
    "    decode_figo_stage(to = \"n\") %>%\n",
    "    dplyr::mutate(figo_stage = as.character(figo_stage)) %>%\n",
    "    dplyr::bind_cols(to_one_hot(., col = \"figo_stage\")) %>%\n",
    "    dplyr::select(-figo_stage) %>%\n",
    "    column_to_rownames(\"sample_name\")"
   ]
  },
  {
   "cell_type": "code",
   "execution_count": 6,
   "metadata": {},
   "outputs": [],
   "source": [
    "lnames <- load(file = paste0(dirs$data_dir, \"/saved_network_objects/\", unified_dsets[dset_idx], \"_cancer_network.RData\"))"
   ]
  },
  {
   "cell_type": "code",
   "execution_count": 7,
   "metadata": {},
   "outputs": [],
   "source": [
    "n_genes <- ncol(data_expr)\n",
    "n_samples <- nrow(data_expr)"
   ]
  },
  {
   "cell_type": "code",
   "execution_count": 8,
   "metadata": {},
   "outputs": [],
   "source": [
    "mes_0 <- moduleEigengenes(data_expr, module_colors)$eigengenes\n",
    "mes <- orderMEs(mes_0)"
   ]
  },
  {
   "cell_type": "markdown",
   "metadata": {},
   "source": [
    "# Module significance for survival analysis"
   ]
  },
  {
   "cell_type": "code",
   "execution_count": 9,
   "metadata": {},
   "outputs": [],
   "source": [
    "module_coxph_res <- standardScreeningCensoredTime(\n",
    "    datExpr = mes,\n",
    "    time = data_traits$survival_time, \n",
    "    event = data_traits$vital_status, \n",
    "    fastCalculation = FALSE\n",
    ")"
   ]
  },
  {
   "cell_type": "code",
   "execution_count": 10,
   "metadata": {},
   "outputs": [
    {
     "data": {
      "text/html": [
       "<table>\n",
       "<caption>A data.frame: 11 × 12</caption>\n",
       "<thead>\n",
       "\t<tr><th scope=col>ID</th><th scope=col>pvalueWald</th><th scope=col>qvalueWald</th><th scope=col>pvalueLogrank</th><th scope=col>qvalueLogrank</th><th scope=col>pvalueDeviance</th><th scope=col>qvalueDeviance</th><th scope=col>corDeviance</th><th scope=col>HazardRatio</th><th scope=col>CI.LowerLimitHR</th><th scope=col>CI.UpperLimitHR</th><th scope=col>C.index</th></tr>\n",
       "\t<tr><th scope=col>&lt;chr&gt;</th><th scope=col>&lt;dbl&gt;</th><th scope=col>&lt;dbl&gt;</th><th scope=col>&lt;dbl&gt;</th><th scope=col>&lt;dbl&gt;</th><th scope=col>&lt;dbl&gt;</th><th scope=col>&lt;dbl&gt;</th><th scope=col>&lt;dbl&gt;</th><th scope=col>&lt;dbl&gt;</th><th scope=col>&lt;dbl&gt;</th><th scope=col>&lt;dbl&gt;</th><th scope=col>&lt;dbl&gt;</th></tr>\n",
       "</thead>\n",
       "<tbody>\n",
       "\t<tr><td>MEblue     </td><td>0.6047159</td><td>0.4974559</td><td>0.6048581</td><td>0.4973085</td><td>0.6788790</td><td>0.6195655</td><td> 0.035484726</td><td> 4.137923910</td><td>1.911376e-02</td><td> 895.816223</td><td>0.4675180</td></tr>\n",
       "\t<tr><td>MEblack    </td><td>0.6327989</td><td>0.4974559</td><td>0.6326113</td><td>0.4973085</td><td>0.4865288</td><td>0.5718553</td><td>-0.059597114</td><td> 0.296177043</td><td>2.012537e-03</td><td>  43.587195</td><td>0.5607996</td></tr>\n",
       "\t<tr><td>MEgreen    </td><td>0.9599033</td><td>0.6173994</td><td>0.9599033</td><td>0.6173994</td><td>0.9072445</td><td>0.6774371</td><td>-0.009990736</td><td> 0.890672456</td><td>9.759841e-03</td><td>  81.281801</td><td>0.4508606</td></tr>\n",
       "\t<tr><td>MEmagenta  </td><td>0.1778580</td><td>0.4974559</td><td>0.1743376</td><td>0.4973085</td><td>0.1468638</td><td>0.4788399</td><td> 0.123758674</td><td>14.244052483</td><td>2.988622e-01</td><td> 678.884780</td><td>0.4491949</td></tr>\n",
       "\t<tr><td>MEpurple   </td><td>0.7519023</td><td>0.5319770</td><td>0.7519430</td><td>0.5320057</td><td>0.8284264</td><td>0.6774371</td><td> 0.018581461</td><td> 2.116662005</td><td>2.025963e-02</td><td> 221.142133</td><td>0.4675180</td></tr>\n",
       "\t<tr><td>MEbrown    </td><td>0.3236560</td><td>0.4974559</td><td>0.3227801</td><td>0.4973085</td><td>0.2188142</td><td>0.4788399</td><td> 0.105055757</td><td> 9.562845165</td><td>1.079613e-01</td><td> 847.044576</td><td>0.3936702</td></tr>\n",
       "\t<tr><td>MEred      </td><td>0.6225988</td><td>0.4974559</td><td>0.6222986</td><td>0.4973085</td><td>0.4873566</td><td>0.5718553</td><td>-0.059484232</td><td> 0.293414732</td><td>2.222303e-03</td><td>  38.740079</td><td>0.5574681</td></tr>\n",
       "\t<tr><td>MEpink     </td><td>0.1137725</td><td>0.4974559</td><td>0.1176336</td><td>0.4973085</td><td>0.1599449</td><td>0.4788399</td><td>-0.119919924</td><td> 0.003649827</td><td>3.475765e-06</td><td>   3.832606</td><td>0.5685730</td></tr>\n",
       "\t<tr><td>MEturquoise</td><td>0.2474019</td><td>0.4974559</td><td>0.2466300</td><td>0.4973085</td><td>0.2331917</td><td>0.4788399</td><td> 0.101873739</td><td>16.166459817</td><td>1.447493e-01</td><td>1805.566435</td><td>0.4025541</td></tr>\n",
       "\t<tr><td>MEyellow   </td><td>0.5351449</td><td>0.4974559</td><td>0.5351708</td><td>0.4973085</td><td>0.6111135</td><td>0.6195655</td><td> 0.043574594</td><td> 4.676324533</td><td>3.570486e-02</td><td> 612.465900</td><td>0.4269850</td></tr>\n",
       "\t<tr><td>MEgrey     </td><td>0.3981767</td><td>0.4974559</td><td>0.3976133</td><td>0.4973085</td><td>0.4743323</td><td>0.5718553</td><td> 0.061272304</td><td> 5.251520267</td><td>1.120292e-01</td><td> 246.172063</td><td>0.4658523</td></tr>\n",
       "</tbody>\n",
       "</table>\n"
      ],
      "text/latex": [
       "A data.frame: 11 × 12\n",
       "\\begin{tabular}{llllllllllll}\n",
       " ID & pvalueWald & qvalueWald & pvalueLogrank & qvalueLogrank & pvalueDeviance & qvalueDeviance & corDeviance & HazardRatio & CI.LowerLimitHR & CI.UpperLimitHR & C.index\\\\\n",
       " <chr> & <dbl> & <dbl> & <dbl> & <dbl> & <dbl> & <dbl> & <dbl> & <dbl> & <dbl> & <dbl> & <dbl>\\\\\n",
       "\\hline\n",
       "\t MEblue      & 0.6047159 & 0.4974559 & 0.6048581 & 0.4973085 & 0.6788790 & 0.6195655 &  0.035484726 &  4.137923910 & 1.911376e-02 &  895.816223 & 0.4675180\\\\\n",
       "\t MEblack     & 0.6327989 & 0.4974559 & 0.6326113 & 0.4973085 & 0.4865288 & 0.5718553 & -0.059597114 &  0.296177043 & 2.012537e-03 &   43.587195 & 0.5607996\\\\\n",
       "\t MEgreen     & 0.9599033 & 0.6173994 & 0.9599033 & 0.6173994 & 0.9072445 & 0.6774371 & -0.009990736 &  0.890672456 & 9.759841e-03 &   81.281801 & 0.4508606\\\\\n",
       "\t MEmagenta   & 0.1778580 & 0.4974559 & 0.1743376 & 0.4973085 & 0.1468638 & 0.4788399 &  0.123758674 & 14.244052483 & 2.988622e-01 &  678.884780 & 0.4491949\\\\\n",
       "\t MEpurple    & 0.7519023 & 0.5319770 & 0.7519430 & 0.5320057 & 0.8284264 & 0.6774371 &  0.018581461 &  2.116662005 & 2.025963e-02 &  221.142133 & 0.4675180\\\\\n",
       "\t MEbrown     & 0.3236560 & 0.4974559 & 0.3227801 & 0.4973085 & 0.2188142 & 0.4788399 &  0.105055757 &  9.562845165 & 1.079613e-01 &  847.044576 & 0.3936702\\\\\n",
       "\t MEred       & 0.6225988 & 0.4974559 & 0.6222986 & 0.4973085 & 0.4873566 & 0.5718553 & -0.059484232 &  0.293414732 & 2.222303e-03 &   38.740079 & 0.5574681\\\\\n",
       "\t MEpink      & 0.1137725 & 0.4974559 & 0.1176336 & 0.4973085 & 0.1599449 & 0.4788399 & -0.119919924 &  0.003649827 & 3.475765e-06 &    3.832606 & 0.5685730\\\\\n",
       "\t MEturquoise & 0.2474019 & 0.4974559 & 0.2466300 & 0.4973085 & 0.2331917 & 0.4788399 &  0.101873739 & 16.166459817 & 1.447493e-01 & 1805.566435 & 0.4025541\\\\\n",
       "\t MEyellow    & 0.5351449 & 0.4974559 & 0.5351708 & 0.4973085 & 0.6111135 & 0.6195655 &  0.043574594 &  4.676324533 & 3.570486e-02 &  612.465900 & 0.4269850\\\\\n",
       "\t MEgrey      & 0.3981767 & 0.4974559 & 0.3976133 & 0.4973085 & 0.4743323 & 0.5718553 &  0.061272304 &  5.251520267 & 1.120292e-01 &  246.172063 & 0.4658523\\\\\n",
       "\\end{tabular}\n"
      ],
      "text/markdown": [
       "\n",
       "A data.frame: 11 × 12\n",
       "\n",
       "| ID &lt;chr&gt; | pvalueWald &lt;dbl&gt; | qvalueWald &lt;dbl&gt; | pvalueLogrank &lt;dbl&gt; | qvalueLogrank &lt;dbl&gt; | pvalueDeviance &lt;dbl&gt; | qvalueDeviance &lt;dbl&gt; | corDeviance &lt;dbl&gt; | HazardRatio &lt;dbl&gt; | CI.LowerLimitHR &lt;dbl&gt; | CI.UpperLimitHR &lt;dbl&gt; | C.index &lt;dbl&gt; |\n",
       "|---|---|---|---|---|---|---|---|---|---|---|---|\n",
       "| MEblue      | 0.6047159 | 0.4974559 | 0.6048581 | 0.4973085 | 0.6788790 | 0.6195655 |  0.035484726 |  4.137923910 | 1.911376e-02 |  895.816223 | 0.4675180 |\n",
       "| MEblack     | 0.6327989 | 0.4974559 | 0.6326113 | 0.4973085 | 0.4865288 | 0.5718553 | -0.059597114 |  0.296177043 | 2.012537e-03 |   43.587195 | 0.5607996 |\n",
       "| MEgreen     | 0.9599033 | 0.6173994 | 0.9599033 | 0.6173994 | 0.9072445 | 0.6774371 | -0.009990736 |  0.890672456 | 9.759841e-03 |   81.281801 | 0.4508606 |\n",
       "| MEmagenta   | 0.1778580 | 0.4974559 | 0.1743376 | 0.4973085 | 0.1468638 | 0.4788399 |  0.123758674 | 14.244052483 | 2.988622e-01 |  678.884780 | 0.4491949 |\n",
       "| MEpurple    | 0.7519023 | 0.5319770 | 0.7519430 | 0.5320057 | 0.8284264 | 0.6774371 |  0.018581461 |  2.116662005 | 2.025963e-02 |  221.142133 | 0.4675180 |\n",
       "| MEbrown     | 0.3236560 | 0.4974559 | 0.3227801 | 0.4973085 | 0.2188142 | 0.4788399 |  0.105055757 |  9.562845165 | 1.079613e-01 |  847.044576 | 0.3936702 |\n",
       "| MEred       | 0.6225988 | 0.4974559 | 0.6222986 | 0.4973085 | 0.4873566 | 0.5718553 | -0.059484232 |  0.293414732 | 2.222303e-03 |   38.740079 | 0.5574681 |\n",
       "| MEpink      | 0.1137725 | 0.4974559 | 0.1176336 | 0.4973085 | 0.1599449 | 0.4788399 | -0.119919924 |  0.003649827 | 3.475765e-06 |    3.832606 | 0.5685730 |\n",
       "| MEturquoise | 0.2474019 | 0.4974559 | 0.2466300 | 0.4973085 | 0.2331917 | 0.4788399 |  0.101873739 | 16.166459817 | 1.447493e-01 | 1805.566435 | 0.4025541 |\n",
       "| MEyellow    | 0.5351449 | 0.4974559 | 0.5351708 | 0.4973085 | 0.6111135 | 0.6195655 |  0.043574594 |  4.676324533 | 3.570486e-02 |  612.465900 | 0.4269850 |\n",
       "| MEgrey      | 0.3981767 | 0.4974559 | 0.3976133 | 0.4973085 | 0.4743323 | 0.5718553 |  0.061272304 |  5.251520267 | 1.120292e-01 |  246.172063 | 0.4658523 |\n",
       "\n"
      ],
      "text/plain": [
       "   ID          pvalueWald qvalueWald pvalueLogrank qvalueLogrank pvalueDeviance\n",
       "1  MEblue      0.6047159  0.4974559  0.6048581     0.4973085     0.6788790     \n",
       "2  MEblack     0.6327989  0.4974559  0.6326113     0.4973085     0.4865288     \n",
       "3  MEgreen     0.9599033  0.6173994  0.9599033     0.6173994     0.9072445     \n",
       "4  MEmagenta   0.1778580  0.4974559  0.1743376     0.4973085     0.1468638     \n",
       "5  MEpurple    0.7519023  0.5319770  0.7519430     0.5320057     0.8284264     \n",
       "6  MEbrown     0.3236560  0.4974559  0.3227801     0.4973085     0.2188142     \n",
       "7  MEred       0.6225988  0.4974559  0.6222986     0.4973085     0.4873566     \n",
       "8  MEpink      0.1137725  0.4974559  0.1176336     0.4973085     0.1599449     \n",
       "9  MEturquoise 0.2474019  0.4974559  0.2466300     0.4973085     0.2331917     \n",
       "10 MEyellow    0.5351449  0.4974559  0.5351708     0.4973085     0.6111135     \n",
       "11 MEgrey      0.3981767  0.4974559  0.3976133     0.4973085     0.4743323     \n",
       "   qvalueDeviance corDeviance  HazardRatio  CI.LowerLimitHR CI.UpperLimitHR\n",
       "1  0.6195655       0.035484726  4.137923910 1.911376e-02     895.816223    \n",
       "2  0.5718553      -0.059597114  0.296177043 2.012537e-03      43.587195    \n",
       "3  0.6774371      -0.009990736  0.890672456 9.759841e-03      81.281801    \n",
       "4  0.4788399       0.123758674 14.244052483 2.988622e-01     678.884780    \n",
       "5  0.6774371       0.018581461  2.116662005 2.025963e-02     221.142133    \n",
       "6  0.4788399       0.105055757  9.562845165 1.079613e-01     847.044576    \n",
       "7  0.5718553      -0.059484232  0.293414732 2.222303e-03      38.740079    \n",
       "8  0.4788399      -0.119919924  0.003649827 3.475765e-06       3.832606    \n",
       "9  0.4788399       0.101873739 16.166459817 1.447493e-01    1805.566435    \n",
       "10 0.6195655       0.043574594  4.676324533 3.570486e-02     612.465900    \n",
       "11 0.5718553       0.061272304  5.251520267 1.120292e-01     246.172063    \n",
       "   C.index  \n",
       "1  0.4675180\n",
       "2  0.5607996\n",
       "3  0.4508606\n",
       "4  0.4491949\n",
       "5  0.4675180\n",
       "6  0.3936702\n",
       "7  0.5574681\n",
       "8  0.5685730\n",
       "9  0.4025541\n",
       "10 0.4269850\n",
       "11 0.4658523"
      ]
     },
     "metadata": {},
     "output_type": "display_data"
    }
   ],
   "source": [
    "module_coxph_res"
   ]
  },
  {
   "cell_type": "markdown",
   "metadata": {},
   "source": [
    "# Module significance for FIGO stage"
   ]
  },
  {
   "cell_type": "code",
   "execution_count": 11,
   "metadata": {},
   "outputs": [
    {
     "data": {
      "text/html": [
       "<table>\n",
       "<caption>A matrix: 11 × 4 of type dbl</caption>\n",
       "<thead>\n",
       "\t<tr><th></th><th scope=col>figo_stage_1</th><th scope=col>figo_stage_2</th><th scope=col>figo_stage_3</th><th scope=col>figo_stage_4</th></tr>\n",
       "</thead>\n",
       "<tbody>\n",
       "\t<tr><th scope=row>MEblue</th><td> 0.067777692</td><td>-0.050861998</td><td>-0.006235733</td><td>-0.06193354</td></tr>\n",
       "\t<tr><th scope=row>MEblack</th><td> 0.088360268</td><td> 0.140937783</td><td>-0.150530048</td><td>-0.11373487</td></tr>\n",
       "\t<tr><th scope=row>MEgreen</th><td>-0.012960337</td><td> 0.159038968</td><td>-0.093492239</td><td>-0.02817891</td></tr>\n",
       "\t<tr><th scope=row>MEmagenta</th><td>-0.125442120</td><td>-0.125013774</td><td> 0.192129061</td><td> 0.08786297</td></tr>\n",
       "\t<tr><th scope=row>MEpurple</th><td>-0.113737551</td><td> 0.008597862</td><td> 0.131790896</td><td>-0.02476229</td></tr>\n",
       "\t<tr><th scope=row>MEbrown</th><td>-0.219056181</td><td>-0.058215461</td><td> 0.213612209</td><td> 0.15238589</td></tr>\n",
       "\t<tr><th scope=row>MEred</th><td> 0.116769308</td><td> 0.129756827</td><td>-0.177800615</td><td>-0.10496292</td></tr>\n",
       "\t<tr><th scope=row>MEpink</th><td>-0.008464123</td><td> 0.103872006</td><td>-0.032029183</td><td>-0.07805203</td></tr>\n",
       "\t<tr><th scope=row>MEturquoise</th><td>-0.176822631</td><td> 0.113499127</td><td> 0.135664526</td><td>-0.05356945</td></tr>\n",
       "\t<tr><th scope=row>MEyellow</th><td>-0.090777561</td><td> 0.071747470</td><td> 0.072506900</td><td>-0.05454905</td></tr>\n",
       "\t<tr><th scope=row>MEgrey</th><td>-0.135099479</td><td>-0.131338036</td><td> 0.168492679</td><td> 0.16839129</td></tr>\n",
       "</tbody>\n",
       "</table>\n"
      ],
      "text/latex": [
       "A matrix: 11 × 4 of type dbl\n",
       "\\begin{tabular}{r|llll}\n",
       "  & figo\\_stage\\_1 & figo\\_stage\\_2 & figo\\_stage\\_3 & figo\\_stage\\_4\\\\\n",
       "\\hline\n",
       "\tMEblue &  0.067777692 & -0.050861998 & -0.006235733 & -0.06193354\\\\\n",
       "\tMEblack &  0.088360268 &  0.140937783 & -0.150530048 & -0.11373487\\\\\n",
       "\tMEgreen & -0.012960337 &  0.159038968 & -0.093492239 & -0.02817891\\\\\n",
       "\tMEmagenta & -0.125442120 & -0.125013774 &  0.192129061 &  0.08786297\\\\\n",
       "\tMEpurple & -0.113737551 &  0.008597862 &  0.131790896 & -0.02476229\\\\\n",
       "\tMEbrown & -0.219056181 & -0.058215461 &  0.213612209 &  0.15238589\\\\\n",
       "\tMEred &  0.116769308 &  0.129756827 & -0.177800615 & -0.10496292\\\\\n",
       "\tMEpink & -0.008464123 &  0.103872006 & -0.032029183 & -0.07805203\\\\\n",
       "\tMEturquoise & -0.176822631 &  0.113499127 &  0.135664526 & -0.05356945\\\\\n",
       "\tMEyellow & -0.090777561 &  0.071747470 &  0.072506900 & -0.05454905\\\\\n",
       "\tMEgrey & -0.135099479 & -0.131338036 &  0.168492679 &  0.16839129\\\\\n",
       "\\end{tabular}\n"
      ],
      "text/markdown": [
       "\n",
       "A matrix: 11 × 4 of type dbl\n",
       "\n",
       "| <!--/--> | figo_stage_1 | figo_stage_2 | figo_stage_3 | figo_stage_4 |\n",
       "|---|---|---|---|---|\n",
       "| MEblue |  0.067777692 | -0.050861998 | -0.006235733 | -0.06193354 |\n",
       "| MEblack |  0.088360268 |  0.140937783 | -0.150530048 | -0.11373487 |\n",
       "| MEgreen | -0.012960337 |  0.159038968 | -0.093492239 | -0.02817891 |\n",
       "| MEmagenta | -0.125442120 | -0.125013774 |  0.192129061 |  0.08786297 |\n",
       "| MEpurple | -0.113737551 |  0.008597862 |  0.131790896 | -0.02476229 |\n",
       "| MEbrown | -0.219056181 | -0.058215461 |  0.213612209 |  0.15238589 |\n",
       "| MEred |  0.116769308 |  0.129756827 | -0.177800615 | -0.10496292 |\n",
       "| MEpink | -0.008464123 |  0.103872006 | -0.032029183 | -0.07805203 |\n",
       "| MEturquoise | -0.176822631 |  0.113499127 |  0.135664526 | -0.05356945 |\n",
       "| MEyellow | -0.090777561 |  0.071747470 |  0.072506900 | -0.05454905 |\n",
       "| MEgrey | -0.135099479 | -0.131338036 |  0.168492679 |  0.16839129 |\n",
       "\n"
      ],
      "text/plain": [
       "            figo_stage_1 figo_stage_2 figo_stage_3 figo_stage_4\n",
       "MEblue       0.067777692 -0.050861998 -0.006235733 -0.06193354 \n",
       "MEblack      0.088360268  0.140937783 -0.150530048 -0.11373487 \n",
       "MEgreen     -0.012960337  0.159038968 -0.093492239 -0.02817891 \n",
       "MEmagenta   -0.125442120 -0.125013774  0.192129061  0.08786297 \n",
       "MEpurple    -0.113737551  0.008597862  0.131790896 -0.02476229 \n",
       "MEbrown     -0.219056181 -0.058215461  0.213612209  0.15238589 \n",
       "MEred        0.116769308  0.129756827 -0.177800615 -0.10496292 \n",
       "MEpink      -0.008464123  0.103872006 -0.032029183 -0.07805203 \n",
       "MEturquoise -0.176822631  0.113499127  0.135664526 -0.05356945 \n",
       "MEyellow    -0.090777561  0.071747470  0.072506900 -0.05454905 \n",
       "MEgrey      -0.135099479 -0.131338036  0.168492679  0.16839129 "
      ]
     },
     "metadata": {},
     "output_type": "display_data"
    }
   ],
   "source": [
    "module_figo_cor <- WGCNA::cor(mes, data_traits[-c(1:2)])\n",
    "module_figo_cor"
   ]
  },
  {
   "cell_type": "code",
   "execution_count": 12,
   "metadata": {},
   "outputs": [
    {
     "data": {
      "text/html": [
       "<table>\n",
       "<caption>A matrix: 11 × 4 of type dbl</caption>\n",
       "<thead>\n",
       "\t<tr><th></th><th scope=col>figo_stage_1</th><th scope=col>figo_stage_2</th><th scope=col>figo_stage_3</th><th scope=col>figo_stage_4</th></tr>\n",
       "</thead>\n",
       "<tbody>\n",
       "\t<tr><th scope=row>MEblue</th><td>0.427903990</td><td>0.55209473</td><td>0.94192149</td><td>0.46888917</td></tr>\n",
       "\t<tr><th scope=row>MEblack</th><td>0.300963365</td><td>0.09794517</td><td>0.07692894</td><td>0.18248724</td></tr>\n",
       "\t<tr><th scope=row>MEgreen</th><td>0.879639161</td><td>0.06147963</td><td>0.27364665</td><td>0.74193662</td></tr>\n",
       "\t<tr><th scope=row>MEmagenta</th><td>0.141181818</td><td>0.14255568</td><td>0.02345959</td><td>0.30370268</td></tr>\n",
       "\t<tr><th scope=row>MEpurple</th><td>0.182476880</td><td>0.91998407</td><td>0.12198041</td><td>0.77231268</td></tr>\n",
       "\t<tr><th scope=row>MEbrown</th><td>0.009573668</td><td>0.49604241</td><td>0.01157238</td><td>0.07331679</td></tr>\n",
       "\t<tr><th scope=row>MEred</th><td>0.171016185</td><td>0.12789893</td><td>0.03625787</td><td>0.21880211</td></tr>\n",
       "\t<tr><th scope=row>MEpink</th><td>0.921224680</td><td>0.22365413</td><td>0.70817773</td><td>0.36108249</td></tr>\n",
       "\t<tr><th scope=row>MEturquoise</th><td>0.037313238</td><td>0.18340150</td><td>0.11129739</td><td>0.53110429</td></tr>\n",
       "\t<tr><th scope=row>MEyellow</th><td>0.287880331</td><td>0.40128190</td><td>0.39630348</td><td>0.52360953</td></tr>\n",
       "\t<tr><th scope=row>MEgrey</th><td>0.112808573</td><td>0.12327942</td><td>0.04739422</td><td>0.04752964</td></tr>\n",
       "</tbody>\n",
       "</table>\n"
      ],
      "text/latex": [
       "A matrix: 11 × 4 of type dbl\n",
       "\\begin{tabular}{r|llll}\n",
       "  & figo\\_stage\\_1 & figo\\_stage\\_2 & figo\\_stage\\_3 & figo\\_stage\\_4\\\\\n",
       "\\hline\n",
       "\tMEblue & 0.427903990 & 0.55209473 & 0.94192149 & 0.46888917\\\\\n",
       "\tMEblack & 0.300963365 & 0.09794517 & 0.07692894 & 0.18248724\\\\\n",
       "\tMEgreen & 0.879639161 & 0.06147963 & 0.27364665 & 0.74193662\\\\\n",
       "\tMEmagenta & 0.141181818 & 0.14255568 & 0.02345959 & 0.30370268\\\\\n",
       "\tMEpurple & 0.182476880 & 0.91998407 & 0.12198041 & 0.77231268\\\\\n",
       "\tMEbrown & 0.009573668 & 0.49604241 & 0.01157238 & 0.07331679\\\\\n",
       "\tMEred & 0.171016185 & 0.12789893 & 0.03625787 & 0.21880211\\\\\n",
       "\tMEpink & 0.921224680 & 0.22365413 & 0.70817773 & 0.36108249\\\\\n",
       "\tMEturquoise & 0.037313238 & 0.18340150 & 0.11129739 & 0.53110429\\\\\n",
       "\tMEyellow & 0.287880331 & 0.40128190 & 0.39630348 & 0.52360953\\\\\n",
       "\tMEgrey & 0.112808573 & 0.12327942 & 0.04739422 & 0.04752964\\\\\n",
       "\\end{tabular}\n"
      ],
      "text/markdown": [
       "\n",
       "A matrix: 11 × 4 of type dbl\n",
       "\n",
       "| <!--/--> | figo_stage_1 | figo_stage_2 | figo_stage_3 | figo_stage_4 |\n",
       "|---|---|---|---|---|\n",
       "| MEblue | 0.427903990 | 0.55209473 | 0.94192149 | 0.46888917 |\n",
       "| MEblack | 0.300963365 | 0.09794517 | 0.07692894 | 0.18248724 |\n",
       "| MEgreen | 0.879639161 | 0.06147963 | 0.27364665 | 0.74193662 |\n",
       "| MEmagenta | 0.141181818 | 0.14255568 | 0.02345959 | 0.30370268 |\n",
       "| MEpurple | 0.182476880 | 0.91998407 | 0.12198041 | 0.77231268 |\n",
       "| MEbrown | 0.009573668 | 0.49604241 | 0.01157238 | 0.07331679 |\n",
       "| MEred | 0.171016185 | 0.12789893 | 0.03625787 | 0.21880211 |\n",
       "| MEpink | 0.921224680 | 0.22365413 | 0.70817773 | 0.36108249 |\n",
       "| MEturquoise | 0.037313238 | 0.18340150 | 0.11129739 | 0.53110429 |\n",
       "| MEyellow | 0.287880331 | 0.40128190 | 0.39630348 | 0.52360953 |\n",
       "| MEgrey | 0.112808573 | 0.12327942 | 0.04739422 | 0.04752964 |\n",
       "\n"
      ],
      "text/plain": [
       "            figo_stage_1 figo_stage_2 figo_stage_3 figo_stage_4\n",
       "MEblue      0.427903990  0.55209473   0.94192149   0.46888917  \n",
       "MEblack     0.300963365  0.09794517   0.07692894   0.18248724  \n",
       "MEgreen     0.879639161  0.06147963   0.27364665   0.74193662  \n",
       "MEmagenta   0.141181818  0.14255568   0.02345959   0.30370268  \n",
       "MEpurple    0.182476880  0.91998407   0.12198041   0.77231268  \n",
       "MEbrown     0.009573668  0.49604241   0.01157238   0.07331679  \n",
       "MEred       0.171016185  0.12789893   0.03625787   0.21880211  \n",
       "MEpink      0.921224680  0.22365413   0.70817773   0.36108249  \n",
       "MEturquoise 0.037313238  0.18340150   0.11129739   0.53110429  \n",
       "MEyellow    0.287880331  0.40128190   0.39630348   0.52360953  \n",
       "MEgrey      0.112808573  0.12327942   0.04739422   0.04752964  "
      ]
     },
     "metadata": {},
     "output_type": "display_data"
    }
   ],
   "source": [
    "module_figo_pvals <- corPvalueStudent(module_figo_cor, n_samples)\n",
    "module_figo_pvals"
   ]
  },
  {
   "cell_type": "code",
   "execution_count": 13,
   "metadata": {},
   "outputs": [
    {
     "data": {
      "text/html": [
       "<table>\n",
       "<caption>A matrix: 11 × 4 of type dbl</caption>\n",
       "<thead>\n",
       "\t<tr><th></th><th scope=col>figo_stage_1</th><th scope=col>figo_stage_2</th><th scope=col>figo_stage_3</th><th scope=col>figo_stage_4</th></tr>\n",
       "</thead>\n",
       "<tbody>\n",
       "\t<tr><th scope=row>MEblue</th><td>0.5229938</td><td>0.6073042</td><td>0.9419215</td><td>0.6491275</td></tr>\n",
       "\t<tr><th scope=row>MEblack</th><td>0.4138246</td><td>0.3136225</td><td>0.1692437</td><td>0.6017058</td></tr>\n",
       "\t<tr><th scope=row>MEgreen</th><td>0.9212247</td><td>0.3136225</td><td>0.3762641</td><td>0.7723127</td></tr>\n",
       "\t<tr><th scope=row>MEmagenta</th><td>0.3345409</td><td>0.3136225</td><td>0.1290277</td><td>0.6491275</td></tr>\n",
       "\t<tr><th scope=row>MEpurple</th><td>0.3345409</td><td>0.9199841</td><td>0.1916835</td><td>0.7723127</td></tr>\n",
       "\t<tr><th scope=row>MEbrown</th><td>0.1053103</td><td>0.6062741</td><td>0.1272962</td><td>0.4032424</td></tr>\n",
       "\t<tr><th scope=row>MEred</th><td>0.3345409</td><td>0.3136225</td><td>0.1303341</td><td>0.6017058</td></tr>\n",
       "\t<tr><th scope=row>MEpink</th><td>0.9212247</td><td>0.3514565</td><td>0.7789955</td><td>0.6491275</td></tr>\n",
       "\t<tr><th scope=row>MEturquoise</th><td>0.2052228</td><td>0.3362361</td><td>0.1916835</td><td>0.6491275</td></tr>\n",
       "\t<tr><th scope=row>MEyellow</th><td>0.4138246</td><td>0.5517626</td><td>0.4843709</td><td>0.6491275</td></tr>\n",
       "\t<tr><th scope=row>MEgrey</th><td>0.3345409</td><td>0.3136225</td><td>0.1303341</td><td>0.4032424</td></tr>\n",
       "</tbody>\n",
       "</table>\n"
      ],
      "text/latex": [
       "A matrix: 11 × 4 of type dbl\n",
       "\\begin{tabular}{r|llll}\n",
       "  & figo\\_stage\\_1 & figo\\_stage\\_2 & figo\\_stage\\_3 & figo\\_stage\\_4\\\\\n",
       "\\hline\n",
       "\tMEblue & 0.5229938 & 0.6073042 & 0.9419215 & 0.6491275\\\\\n",
       "\tMEblack & 0.4138246 & 0.3136225 & 0.1692437 & 0.6017058\\\\\n",
       "\tMEgreen & 0.9212247 & 0.3136225 & 0.3762641 & 0.7723127\\\\\n",
       "\tMEmagenta & 0.3345409 & 0.3136225 & 0.1290277 & 0.6491275\\\\\n",
       "\tMEpurple & 0.3345409 & 0.9199841 & 0.1916835 & 0.7723127\\\\\n",
       "\tMEbrown & 0.1053103 & 0.6062741 & 0.1272962 & 0.4032424\\\\\n",
       "\tMEred & 0.3345409 & 0.3136225 & 0.1303341 & 0.6017058\\\\\n",
       "\tMEpink & 0.9212247 & 0.3514565 & 0.7789955 & 0.6491275\\\\\n",
       "\tMEturquoise & 0.2052228 & 0.3362361 & 0.1916835 & 0.6491275\\\\\n",
       "\tMEyellow & 0.4138246 & 0.5517626 & 0.4843709 & 0.6491275\\\\\n",
       "\tMEgrey & 0.3345409 & 0.3136225 & 0.1303341 & 0.4032424\\\\\n",
       "\\end{tabular}\n"
      ],
      "text/markdown": [
       "\n",
       "A matrix: 11 × 4 of type dbl\n",
       "\n",
       "| <!--/--> | figo_stage_1 | figo_stage_2 | figo_stage_3 | figo_stage_4 |\n",
       "|---|---|---|---|---|\n",
       "| MEblue | 0.5229938 | 0.6073042 | 0.9419215 | 0.6491275 |\n",
       "| MEblack | 0.4138246 | 0.3136225 | 0.1692437 | 0.6017058 |\n",
       "| MEgreen | 0.9212247 | 0.3136225 | 0.3762641 | 0.7723127 |\n",
       "| MEmagenta | 0.3345409 | 0.3136225 | 0.1290277 | 0.6491275 |\n",
       "| MEpurple | 0.3345409 | 0.9199841 | 0.1916835 | 0.7723127 |\n",
       "| MEbrown | 0.1053103 | 0.6062741 | 0.1272962 | 0.4032424 |\n",
       "| MEred | 0.3345409 | 0.3136225 | 0.1303341 | 0.6017058 |\n",
       "| MEpink | 0.9212247 | 0.3514565 | 0.7789955 | 0.6491275 |\n",
       "| MEturquoise | 0.2052228 | 0.3362361 | 0.1916835 | 0.6491275 |\n",
       "| MEyellow | 0.4138246 | 0.5517626 | 0.4843709 | 0.6491275 |\n",
       "| MEgrey | 0.3345409 | 0.3136225 | 0.1303341 | 0.4032424 |\n",
       "\n"
      ],
      "text/plain": [
       "            figo_stage_1 figo_stage_2 figo_stage_3 figo_stage_4\n",
       "MEblue      0.5229938    0.6073042    0.9419215    0.6491275   \n",
       "MEblack     0.4138246    0.3136225    0.1692437    0.6017058   \n",
       "MEgreen     0.9212247    0.3136225    0.3762641    0.7723127   \n",
       "MEmagenta   0.3345409    0.3136225    0.1290277    0.6491275   \n",
       "MEpurple    0.3345409    0.9199841    0.1916835    0.7723127   \n",
       "MEbrown     0.1053103    0.6062741    0.1272962    0.4032424   \n",
       "MEred       0.3345409    0.3136225    0.1303341    0.6017058   \n",
       "MEpink      0.9212247    0.3514565    0.7789955    0.6491275   \n",
       "MEturquoise 0.2052228    0.3362361    0.1916835    0.6491275   \n",
       "MEyellow    0.4138246    0.5517626    0.4843709    0.6491275   \n",
       "MEgrey      0.3345409    0.3136225    0.1303341    0.4032424   "
      ]
     },
     "metadata": {},
     "output_type": "display_data"
    }
   ],
   "source": [
    "module_figo_padjs <- apply(module_figo_pvals, MARGIN = 2, function(x) { p.adjust(x, method = \"BH\") })\n",
    "module_figo_padjs"
   ]
  },
  {
   "cell_type": "code",
   "execution_count": null,
   "metadata": {},
   "outputs": [],
   "source": []
  }
 ],
 "metadata": {
  "kernelspec": {
   "display_name": "R",
   "language": "R",
   "name": "ir"
  },
  "language_info": {
   "codemirror_mode": "r",
   "file_extension": ".r",
   "mimetype": "text/x-r-source",
   "name": "R",
   "pygments_lexer": "r",
   "version": "3.6.3"
  }
 },
 "nbformat": 4,
 "nbformat_minor": 4
}
