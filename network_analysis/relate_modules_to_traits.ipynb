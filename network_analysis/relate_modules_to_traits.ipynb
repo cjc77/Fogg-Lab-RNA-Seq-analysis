{
 "cells": [
  {
   "cell_type": "code",
   "execution_count": 1,
   "metadata": {
    "collapsed": true,
    "jupyter": {
     "outputs_hidden": true
    }
   },
   "outputs": [
    {
     "name": "stderr",
     "output_type": "stream",
     "text": [
      "── Attaching packages ─────────────────────────────────────── tidyverse 1.3.0 ──\n",
      "✔ ggplot2 3.3.2     ✔ purrr   0.3.4\n",
      "✔ tibble  3.0.3     ✔ dplyr   1.0.0\n",
      "✔ tidyr   1.1.0     ✔ stringr 1.4.0\n",
      "✔ readr   1.3.1     ✔ forcats 0.5.0\n",
      "── Conflicts ────────────────────────────────────────── tidyverse_conflicts() ──\n",
      "✖ dplyr::filter() masks stats::filter()\n",
      "✖ dplyr::lag()    masks stats::lag()\n",
      "Loading required package: dynamicTreeCut\n",
      "Loading required package: fastcluster\n",
      "\n",
      "Attaching package: ‘fastcluster’\n",
      "\n",
      "The following object is masked from ‘package:stats’:\n",
      "\n",
      "    hclust\n",
      "\n",
      "\n",
      "\n",
      "Attaching package: ‘WGCNA’\n",
      "\n",
      "The following object is masked from ‘package:stats’:\n",
      "\n",
      "    cor\n",
      "\n",
      "\n",
      "********************************************************\n",
      "Note: As of version 1.0.0, cowplot does not change the\n",
      "  default ggplot2 theme anymore. To recover the previous\n",
      "  behavior, execute:\n",
      "  theme_set(theme_cowplot())\n",
      "********************************************************\n",
      "\n",
      "\n",
      "Attaching package: ‘matrixStats’\n",
      "\n",
      "The following object is masked from ‘package:dplyr’:\n",
      "\n",
      "    count\n",
      "\n"
     ]
    }
   ],
   "source": [
    "library(tidyverse)\n",
    "library(WGCNA)\n",
    "library(cowplot)\n",
    "library(matrixStats)\n",
    "\n",
    "# Custom package\n",
    "library(rutils)"
   ]
  },
  {
   "cell_type": "code",
   "execution_count": 2,
   "metadata": {},
   "outputs": [
    {
     "name": "stdout",
     "output_type": "stream",
     "text": [
      "Allowing parallel execution with up to 15 working processes.\n"
     ]
    }
   ],
   "source": [
    "options(stringsAsFactors = FALSE)\n",
    "enableWGCNAThreads()"
   ]
  },
  {
   "cell_type": "code",
   "execution_count": 3,
   "metadata": {},
   "outputs": [],
   "source": [
    "dirs <- rutils::get_dev_directories(dev_paths_file = \"../dev_paths.txt\")\n",
    "projects <- c(\"TCGA-CESC\", \"TCGA-UCS\", \"TCGA-UCEC\", \"TCGA-OV\")\n",
    "unified_dsets <- c(\"unified_cervical_data\", \"unified_uterine_data\", \"unified_uterine_endometrial_data\")\n",
    "matrisome_path <- paste0(dirs$data_dir, \"/matrisome/matrisome_hs_masterlist.tsv\")\n",
    "\n",
    "event_code <- list(\"Alive\" = 0, \"Dead\" = 1)"
   ]
  },
  {
   "cell_type": "code",
   "execution_count": 4,
   "metadata": {},
   "outputs": [],
   "source": [
    "dset_idx <- 1"
   ]
  },
  {
   "cell_type": "markdown",
   "metadata": {},
   "source": [
    "# Load data"
   ]
  },
  {
   "cell_type": "code",
   "execution_count": 5,
   "metadata": {},
   "outputs": [
    {
     "name": "stderr",
     "output_type": "stream",
     "text": [
      "Parsed with column specification:\n",
      "cols(\n",
      "  sample_name = col_character(),\n",
      "  vital_status = col_character(),\n",
      "  survival_time = col_double(),\n",
      "  figo_stage = col_character(),\n",
      "  days_to_last_follow_up = col_double(),\n",
      "  days_to_death = col_double(),\n",
      "  age_at_diagnosis = col_double(),\n",
      "  age_at_index = col_double(),\n",
      "  height = col_double(),\n",
      "  weight = col_double(),\n",
      "  bmi = col_double(),\n",
      "  race = col_character(),\n",
      "  ethnicity = col_character()\n",
      ")\n"
     ]
    }
   ],
   "source": [
    "clinical_df <- load_survival_df(paste0(dirs$data_dir, \"/\", unified_dsets[dset_idx], \"/survival_data.tsv\"), event_code) %>%\n",
    "    dplyr::select(sample_name, vital_status, survival_time, figo_stage) %>%\n",
    "    dplyr::filter(rowSums(is.na(.)) == 0)\n",
    "\n",
    "data_traits <- clinical_df %>%\n",
    "    decode_figo_stage(to = \"n\") %>%\n",
    "    dplyr::mutate(figo_stage = as.character(figo_stage)) %>%\n",
    "    dplyr::bind_cols(to_one_hot(., col = \"figo_stage\")) %>%\n",
    "    dplyr::select(-figo_stage) %>%\n",
    "    column_to_rownames(\"sample_name\")"
   ]
  },
  {
   "cell_type": "code",
   "execution_count": 6,
   "metadata": {},
   "outputs": [],
   "source": [
    "lnames <- load(file = paste0(dirs$data_dir, \"/saved_network_objects/\", unified_dsets[dset_idx], \"_cancer_network.RData\"))"
   ]
  },
  {
   "cell_type": "code",
   "execution_count": 7,
   "metadata": {},
   "outputs": [],
   "source": [
    "n_genes <- ncol(data_expr)\n",
    "n_samples <- nrow(data_expr)"
   ]
  },
  {
   "cell_type": "code",
   "execution_count": 8,
   "metadata": {},
   "outputs": [],
   "source": [
    "mes_0 <- moduleEigengenes(data_expr, module_colors)$eigengenes\n",
    "mes <- orderMEs(mes_0)"
   ]
  },
  {
   "cell_type": "markdown",
   "metadata": {},
   "source": [
    "# Module significance for survival analysis"
   ]
  },
  {
   "cell_type": "code",
   "execution_count": 9,
   "metadata": {},
   "outputs": [],
   "source": [
    "module_coxph_res <- standardScreeningCensoredTime(\n",
    "    datExpr = mes,\n",
    "    time = data_traits$survival_time, \n",
    "    event = data_traits$vital_status, \n",
    "    fastCalculation = FALSE,\n",
    "    qValues = TRUE\n",
    ")"
   ]
  },
  {
   "cell_type": "code",
   "execution_count": 11,
   "metadata": {},
   "outputs": [
    {
     "data": {
      "text/html": [
       "<table>\n",
       "<caption>A data.frame: 11 × 12</caption>\n",
       "<thead>\n",
       "\t<tr><th scope=col>ID</th><th scope=col>pvalueWald</th><th scope=col>qvalueWald</th><th scope=col>pvalueLogrank</th><th scope=col>qvalueLogrank</th><th scope=col>pvalueDeviance</th><th scope=col>qvalueDeviance</th><th scope=col>corDeviance</th><th scope=col>HazardRatio</th><th scope=col>CI.LowerLimitHR</th><th scope=col>CI.UpperLimitHR</th><th scope=col>C.index</th></tr>\n",
       "\t<tr><th scope=col>&lt;chr&gt;</th><th scope=col>&lt;dbl&gt;</th><th scope=col>&lt;dbl&gt;</th><th scope=col>&lt;dbl&gt;</th><th scope=col>&lt;dbl&gt;</th><th scope=col>&lt;dbl&gt;</th><th scope=col>&lt;dbl&gt;</th><th scope=col>&lt;dbl&gt;</th><th scope=col>&lt;dbl&gt;</th><th scope=col>&lt;dbl&gt;</th><th scope=col>&lt;dbl&gt;</th><th scope=col>&lt;dbl&gt;</th></tr>\n",
       "</thead>\n",
       "<tbody>\n",
       "\t<tr><td>MEblue     </td><td>0.71172530</td><td>0.12347540</td><td>0.71165627</td><td>0.12346342</td><td>0.82953823</td><td>0.09627574</td><td> 0.01356141</td><td>  2.15624060</td><td>0.0366271547</td><td> 126.937884</td><td>0.4892626</td></tr>\n",
       "\t<tr><td>MEgreen    </td><td>0.01240274</td><td>0.02151720</td><td>0.01203731</td><td>0.02088322</td><td>0.01069808</td><td>0.01365775</td><td> 0.15941527</td><td>103.37668283</td><td>2.7252999845</td><td>3921.307237</td><td>0.3983638</td></tr>\n",
       "\t<tr><td>MEpurple   </td><td>0.45960348</td><td>0.08859492</td><td>0.45866092</td><td>0.08841323</td><td>0.50917033</td><td>0.07222603</td><td> 0.04156034</td><td>  3.95462325</td><td>0.1033984418</td><td> 151.250297</td><td>0.4396091</td></tr>\n",
       "\t<tr><td>MEmagenta  </td><td>0.07464291</td><td>0.02589921</td><td>0.06927315</td><td>0.02461806</td><td>0.11258111</td><td>0.02874542</td><td> 0.09962103</td><td> 23.58744985</td><td>0.7301943972</td><td> 761.944754</td><td>0.4950574</td></tr>\n",
       "\t<tr><td>MEpink     </td><td>0.44983638</td><td>0.08859492</td><td>0.44909764</td><td>0.08841323</td><td>0.46876440</td><td>0.07222603</td><td> 0.04560698</td><td>  3.92842831</td><td>0.1129835192</td><td> 136.591152</td><td>0.4552892</td></tr>\n",
       "\t<tr><td>MEred      </td><td>0.04860866</td><td>0.02589921</td><td>0.04867081</td><td>0.02461806</td><td>0.08742551</td><td>0.02790303</td><td> 0.10725144</td><td> 62.77720324</td><td>1.0255278657</td><td>3842.876803</td><td>0.4382457</td></tr>\n",
       "\t<tr><td>MEblack    </td><td>0.84376026</td><td>0.13307437</td><td>0.84360954</td><td>0.13305060</td><td>0.67907814</td><td>0.08669477</td><td> 0.02605610</td><td>  1.47212758</td><td>0.0314590086</td><td>  68.888364</td><td>0.5078968</td></tr>\n",
       "\t<tr><td>MEyellow   </td><td>0.06953267</td><td>0.02589921</td><td>0.06923378</td><td>0.02461806</td><td>0.02508277</td><td>0.01601101</td><td>-0.14018536</td><td>  0.03187312</td><td>0.0007713250</td><td>   1.317079</td><td>0.5965231</td></tr>\n",
       "\t<tr><td>MEbrown    </td><td>0.19783366</td><td>0.05720276</td><td>0.19758463</td><td>0.05713075</td><td>0.15583750</td><td>0.03315842</td><td>-0.08916446</td><td>  0.06212839</td><td>0.0009049679</td><td>   4.265274</td><td>0.5743665</td></tr>\n",
       "\t<tr><td>MEturquoise</td><td>0.07136719</td><td>0.02589921</td><td>0.07095055</td><td>0.02461806</td><td>0.05965356</td><td>0.02538565</td><td> 0.11808610</td><td> 30.82804826</td><td>0.7421079898</td><td>1280.633779</td><td>0.4001818</td></tr>\n",
       "\t<tr><td>MEgrey     </td><td>0.25138544</td><td>0.06230316</td><td>0.25046034</td><td>0.06207389</td><td>0.35828701</td><td>0.06534407</td><td> 0.05780400</td><td>  7.34386920</td><td>0.2433412101</td><td> 221.632886</td><td>0.4656289</td></tr>\n",
       "</tbody>\n",
       "</table>\n"
      ],
      "text/latex": [
       "A data.frame: 11 × 12\n",
       "\\begin{tabular}{llllllllllll}\n",
       " ID & pvalueWald & qvalueWald & pvalueLogrank & qvalueLogrank & pvalueDeviance & qvalueDeviance & corDeviance & HazardRatio & CI.LowerLimitHR & CI.UpperLimitHR & C.index\\\\\n",
       " <chr> & <dbl> & <dbl> & <dbl> & <dbl> & <dbl> & <dbl> & <dbl> & <dbl> & <dbl> & <dbl> & <dbl>\\\\\n",
       "\\hline\n",
       "\t MEblue      & 0.71172530 & 0.12347540 & 0.71165627 & 0.12346342 & 0.82953823 & 0.09627574 &  0.01356141 &   2.15624060 & 0.0366271547 &  126.937884 & 0.4892626\\\\\n",
       "\t MEgreen     & 0.01240274 & 0.02151720 & 0.01203731 & 0.02088322 & 0.01069808 & 0.01365775 &  0.15941527 & 103.37668283 & 2.7252999845 & 3921.307237 & 0.3983638\\\\\n",
       "\t MEpurple    & 0.45960348 & 0.08859492 & 0.45866092 & 0.08841323 & 0.50917033 & 0.07222603 &  0.04156034 &   3.95462325 & 0.1033984418 &  151.250297 & 0.4396091\\\\\n",
       "\t MEmagenta   & 0.07464291 & 0.02589921 & 0.06927315 & 0.02461806 & 0.11258111 & 0.02874542 &  0.09962103 &  23.58744985 & 0.7301943972 &  761.944754 & 0.4950574\\\\\n",
       "\t MEpink      & 0.44983638 & 0.08859492 & 0.44909764 & 0.08841323 & 0.46876440 & 0.07222603 &  0.04560698 &   3.92842831 & 0.1129835192 &  136.591152 & 0.4552892\\\\\n",
       "\t MEred       & 0.04860866 & 0.02589921 & 0.04867081 & 0.02461806 & 0.08742551 & 0.02790303 &  0.10725144 &  62.77720324 & 1.0255278657 & 3842.876803 & 0.4382457\\\\\n",
       "\t MEblack     & 0.84376026 & 0.13307437 & 0.84360954 & 0.13305060 & 0.67907814 & 0.08669477 &  0.02605610 &   1.47212758 & 0.0314590086 &   68.888364 & 0.5078968\\\\\n",
       "\t MEyellow    & 0.06953267 & 0.02589921 & 0.06923378 & 0.02461806 & 0.02508277 & 0.01601101 & -0.14018536 &   0.03187312 & 0.0007713250 &    1.317079 & 0.5965231\\\\\n",
       "\t MEbrown     & 0.19783366 & 0.05720276 & 0.19758463 & 0.05713075 & 0.15583750 & 0.03315842 & -0.08916446 &   0.06212839 & 0.0009049679 &    4.265274 & 0.5743665\\\\\n",
       "\t MEturquoise & 0.07136719 & 0.02589921 & 0.07095055 & 0.02461806 & 0.05965356 & 0.02538565 &  0.11808610 &  30.82804826 & 0.7421079898 & 1280.633779 & 0.4001818\\\\\n",
       "\t MEgrey      & 0.25138544 & 0.06230316 & 0.25046034 & 0.06207389 & 0.35828701 & 0.06534407 &  0.05780400 &   7.34386920 & 0.2433412101 &  221.632886 & 0.4656289\\\\\n",
       "\\end{tabular}\n"
      ],
      "text/markdown": [
       "\n",
       "A data.frame: 11 × 12\n",
       "\n",
       "| ID &lt;chr&gt; | pvalueWald &lt;dbl&gt; | qvalueWald &lt;dbl&gt; | pvalueLogrank &lt;dbl&gt; | qvalueLogrank &lt;dbl&gt; | pvalueDeviance &lt;dbl&gt; | qvalueDeviance &lt;dbl&gt; | corDeviance &lt;dbl&gt; | HazardRatio &lt;dbl&gt; | CI.LowerLimitHR &lt;dbl&gt; | CI.UpperLimitHR &lt;dbl&gt; | C.index &lt;dbl&gt; |\n",
       "|---|---|---|---|---|---|---|---|---|---|---|---|\n",
       "| MEblue      | 0.71172530 | 0.12347540 | 0.71165627 | 0.12346342 | 0.82953823 | 0.09627574 |  0.01356141 |   2.15624060 | 0.0366271547 |  126.937884 | 0.4892626 |\n",
       "| MEgreen     | 0.01240274 | 0.02151720 | 0.01203731 | 0.02088322 | 0.01069808 | 0.01365775 |  0.15941527 | 103.37668283 | 2.7252999845 | 3921.307237 | 0.3983638 |\n",
       "| MEpurple    | 0.45960348 | 0.08859492 | 0.45866092 | 0.08841323 | 0.50917033 | 0.07222603 |  0.04156034 |   3.95462325 | 0.1033984418 |  151.250297 | 0.4396091 |\n",
       "| MEmagenta   | 0.07464291 | 0.02589921 | 0.06927315 | 0.02461806 | 0.11258111 | 0.02874542 |  0.09962103 |  23.58744985 | 0.7301943972 |  761.944754 | 0.4950574 |\n",
       "| MEpink      | 0.44983638 | 0.08859492 | 0.44909764 | 0.08841323 | 0.46876440 | 0.07222603 |  0.04560698 |   3.92842831 | 0.1129835192 |  136.591152 | 0.4552892 |\n",
       "| MEred       | 0.04860866 | 0.02589921 | 0.04867081 | 0.02461806 | 0.08742551 | 0.02790303 |  0.10725144 |  62.77720324 | 1.0255278657 | 3842.876803 | 0.4382457 |\n",
       "| MEblack     | 0.84376026 | 0.13307437 | 0.84360954 | 0.13305060 | 0.67907814 | 0.08669477 |  0.02605610 |   1.47212758 | 0.0314590086 |   68.888364 | 0.5078968 |\n",
       "| MEyellow    | 0.06953267 | 0.02589921 | 0.06923378 | 0.02461806 | 0.02508277 | 0.01601101 | -0.14018536 |   0.03187312 | 0.0007713250 |    1.317079 | 0.5965231 |\n",
       "| MEbrown     | 0.19783366 | 0.05720276 | 0.19758463 | 0.05713075 | 0.15583750 | 0.03315842 | -0.08916446 |   0.06212839 | 0.0009049679 |    4.265274 | 0.5743665 |\n",
       "| MEturquoise | 0.07136719 | 0.02589921 | 0.07095055 | 0.02461806 | 0.05965356 | 0.02538565 |  0.11808610 |  30.82804826 | 0.7421079898 | 1280.633779 | 0.4001818 |\n",
       "| MEgrey      | 0.25138544 | 0.06230316 | 0.25046034 | 0.06207389 | 0.35828701 | 0.06534407 |  0.05780400 |   7.34386920 | 0.2433412101 |  221.632886 | 0.4656289 |\n",
       "\n"
      ],
      "text/plain": [
       "   ID          pvalueWald qvalueWald pvalueLogrank qvalueLogrank pvalueDeviance\n",
       "1  MEblue      0.71172530 0.12347540 0.71165627    0.12346342    0.82953823    \n",
       "2  MEgreen     0.01240274 0.02151720 0.01203731    0.02088322    0.01069808    \n",
       "3  MEpurple    0.45960348 0.08859492 0.45866092    0.08841323    0.50917033    \n",
       "4  MEmagenta   0.07464291 0.02589921 0.06927315    0.02461806    0.11258111    \n",
       "5  MEpink      0.44983638 0.08859492 0.44909764    0.08841323    0.46876440    \n",
       "6  MEred       0.04860866 0.02589921 0.04867081    0.02461806    0.08742551    \n",
       "7  MEblack     0.84376026 0.13307437 0.84360954    0.13305060    0.67907814    \n",
       "8  MEyellow    0.06953267 0.02589921 0.06923378    0.02461806    0.02508277    \n",
       "9  MEbrown     0.19783366 0.05720276 0.19758463    0.05713075    0.15583750    \n",
       "10 MEturquoise 0.07136719 0.02589921 0.07095055    0.02461806    0.05965356    \n",
       "11 MEgrey      0.25138544 0.06230316 0.25046034    0.06207389    0.35828701    \n",
       "   qvalueDeviance corDeviance HazardRatio  CI.LowerLimitHR CI.UpperLimitHR\n",
       "1  0.09627574      0.01356141   2.15624060 0.0366271547     126.937884    \n",
       "2  0.01365775      0.15941527 103.37668283 2.7252999845    3921.307237    \n",
       "3  0.07222603      0.04156034   3.95462325 0.1033984418     151.250297    \n",
       "4  0.02874542      0.09962103  23.58744985 0.7301943972     761.944754    \n",
       "5  0.07222603      0.04560698   3.92842831 0.1129835192     136.591152    \n",
       "6  0.02790303      0.10725144  62.77720324 1.0255278657    3842.876803    \n",
       "7  0.08669477      0.02605610   1.47212758 0.0314590086      68.888364    \n",
       "8  0.01601101     -0.14018536   0.03187312 0.0007713250       1.317079    \n",
       "9  0.03315842     -0.08916446   0.06212839 0.0009049679       4.265274    \n",
       "10 0.02538565      0.11808610  30.82804826 0.7421079898    1280.633779    \n",
       "11 0.06534407      0.05780400   7.34386920 0.2433412101     221.632886    \n",
       "   C.index  \n",
       "1  0.4892626\n",
       "2  0.3983638\n",
       "3  0.4396091\n",
       "4  0.4950574\n",
       "5  0.4552892\n",
       "6  0.4382457\n",
       "7  0.5078968\n",
       "8  0.5965231\n",
       "9  0.5743665\n",
       "10 0.4001818\n",
       "11 0.4656289"
      ]
     },
     "metadata": {},
     "output_type": "display_data"
    }
   ],
   "source": [
    "module_coxph_res"
   ]
  },
  {
   "cell_type": "code",
   "execution_count": 12,
   "metadata": {
    "collapsed": true,
    "jupyter": {
     "outputs_hidden": true
    }
   },
   "outputs": [
    {
     "name": "stderr",
     "output_type": "stream",
     "text": [
      "Warning message in fitter(X, Y, istrat, offset, init, control, weights = weights, :\n",
      "“Loglik converged before variable  1 ; coefficient may be infinite. ”Warning message in fitter(X, Y, istrat, offset, init, control, weights = weights, :\n",
      "“Loglik converged before variable  1 ; coefficient may be infinite. ”Warning message in fitter(X, Y, istrat, offset, init, control, weights = weights, :\n",
      "“Loglik converged before variable  1 ; coefficient may be infinite. ”Warning message in fitter(X, Y, istrat, offset, init, control, weights = weights, :\n",
      "“Loglik converged before variable  1 ; coefficient may be infinite. ”Warning message in fitter(X, Y, istrat, offset, init, control, weights = weights, :\n",
      "“Loglik converged before variable  1 ; coefficient may be infinite. ”"
     ]
    }
   ],
   "source": [
    "gene_coxph_res <- standardScreeningCensoredTime(\n",
    "    datExpr = data_expr,\n",
    "    time = data_traits$survival_time,\n",
    "    event = data_traits$vital_status,\n",
    "    fastCalculation = FALSE,\n",
    "    qValues = TRUE\n",
    ")"
   ]
  },
  {
   "cell_type": "code",
   "execution_count": 13,
   "metadata": {
    "collapsed": true,
    "jupyter": {
     "outputs_hidden": true
    }
   },
   "outputs": [
    {
     "data": {
      "text/html": [
       "48"
      ],
      "text/latex": [
       "48"
      ],
      "text/markdown": [
       "48"
      ],
      "text/plain": [
       "[1] 48"
      ]
     },
     "metadata": {},
     "output_type": "display_data"
    },
    {
     "data": {
      "text/html": [
       "<table>\n",
       "<caption>A data.frame: 6 × 12</caption>\n",
       "<thead>\n",
       "\t<tr><th></th><th scope=col>ID</th><th scope=col>pvalueWald</th><th scope=col>qvalueWald</th><th scope=col>pvalueLogrank</th><th scope=col>qvalueLogrank</th><th scope=col>pvalueDeviance</th><th scope=col>qvalueDeviance</th><th scope=col>corDeviance</th><th scope=col>HazardRatio</th><th scope=col>CI.LowerLimitHR</th><th scope=col>CI.UpperLimitHR</th><th scope=col>C.index</th></tr>\n",
       "\t<tr><th></th><th scope=col>&lt;chr&gt;</th><th scope=col>&lt;dbl&gt;</th><th scope=col>&lt;dbl&gt;</th><th scope=col>&lt;dbl&gt;</th><th scope=col>&lt;dbl&gt;</th><th scope=col>&lt;dbl&gt;</th><th scope=col>&lt;dbl&gt;</th><th scope=col>&lt;dbl&gt;</th><th scope=col>&lt;dbl&gt;</th><th scope=col>&lt;dbl&gt;</th><th scope=col>&lt;dbl&gt;</th><th scope=col>&lt;dbl&gt;</th></tr>\n",
       "</thead>\n",
       "<tbody>\n",
       "\t<tr><th scope=row>14</th><td>ANGPT2  </td><td>0.0004260227</td><td>0.01477003</td><td>0.0004152209</td><td>0.01295850</td><td>0.0001682795</td><td>0.009779259</td><td>0.2326695</td><td>1.501484</td><td>1.197639</td><td>1.882416</td><td>0.3325758</td></tr>\n",
       "\t<tr><th scope=row>50</th><td>SERPINA5</td><td>0.0029814799</td><td>0.04532241</td><td>0.0025140092</td><td>0.03617566</td><td>0.0103938028</td><td>0.090000239</td><td>0.1600313</td><td>1.244038</td><td>1.077066</td><td>1.436895</td><td>0.3789342</td></tr>\n",
       "\t<tr><th scope=row>53</th><td>CSF2    </td><td>0.0024193091</td><td>0.03958573</td><td>0.0023151464</td><td>0.03569367</td><td>0.0034924543</td><td>0.053594727</td><td>0.1819385</td><td>1.361322</td><td>1.115319</td><td>1.661584</td><td>0.3646698</td></tr>\n",
       "\t<tr><th scope=row>67</th><td>P4HA3   </td><td>0.0003874222</td><td>0.01477003</td><td>0.0004221192</td><td>0.01295850</td><td>0.0012626161</td><td>0.031446272</td><td>0.2003667</td><td>1.416678</td><td>1.168738</td><td>1.717216</td><td>0.3996137</td></tr>\n",
       "\t<tr><th scope=row>74</th><td>CXCL2   </td><td>0.0002679320</td><td>0.01249420</td><td>0.0002228013</td><td>0.01080201</td><td>0.0008489514</td><td>0.028917575</td><td>0.2071277</td><td>1.271886</td><td>1.117573</td><td>1.447505</td><td>0.3673446</td></tr>\n",
       "\t<tr><th scope=row>108</th><td>PF4     </td><td>0.0038271383</td><td>0.05570189</td><td>0.0033279970</td><td>0.04585082</td><td>0.0121688436</td><td>0.095348793</td><td>0.1566391</td><td>1.538407</td><td>1.148921</td><td>2.059930</td><td>0.3855965</td></tr>\n",
       "</tbody>\n",
       "</table>\n"
      ],
      "text/latex": [
       "A data.frame: 6 × 12\n",
       "\\begin{tabular}{r|llllllllllll}\n",
       "  & ID & pvalueWald & qvalueWald & pvalueLogrank & qvalueLogrank & pvalueDeviance & qvalueDeviance & corDeviance & HazardRatio & CI.LowerLimitHR & CI.UpperLimitHR & C.index\\\\\n",
       "  & <chr> & <dbl> & <dbl> & <dbl> & <dbl> & <dbl> & <dbl> & <dbl> & <dbl> & <dbl> & <dbl> & <dbl>\\\\\n",
       "\\hline\n",
       "\t14 & ANGPT2   & 0.0004260227 & 0.01477003 & 0.0004152209 & 0.01295850 & 0.0001682795 & 0.009779259 & 0.2326695 & 1.501484 & 1.197639 & 1.882416 & 0.3325758\\\\\n",
       "\t50 & SERPINA5 & 0.0029814799 & 0.04532241 & 0.0025140092 & 0.03617566 & 0.0103938028 & 0.090000239 & 0.1600313 & 1.244038 & 1.077066 & 1.436895 & 0.3789342\\\\\n",
       "\t53 & CSF2     & 0.0024193091 & 0.03958573 & 0.0023151464 & 0.03569367 & 0.0034924543 & 0.053594727 & 0.1819385 & 1.361322 & 1.115319 & 1.661584 & 0.3646698\\\\\n",
       "\t67 & P4HA3    & 0.0003874222 & 0.01477003 & 0.0004221192 & 0.01295850 & 0.0012626161 & 0.031446272 & 0.2003667 & 1.416678 & 1.168738 & 1.717216 & 0.3996137\\\\\n",
       "\t74 & CXCL2    & 0.0002679320 & 0.01249420 & 0.0002228013 & 0.01080201 & 0.0008489514 & 0.028917575 & 0.2071277 & 1.271886 & 1.117573 & 1.447505 & 0.3673446\\\\\n",
       "\t108 & PF4      & 0.0038271383 & 0.05570189 & 0.0033279970 & 0.04585082 & 0.0121688436 & 0.095348793 & 0.1566391 & 1.538407 & 1.148921 & 2.059930 & 0.3855965\\\\\n",
       "\\end{tabular}\n"
      ],
      "text/markdown": [
       "\n",
       "A data.frame: 6 × 12\n",
       "\n",
       "| <!--/--> | ID &lt;chr&gt; | pvalueWald &lt;dbl&gt; | qvalueWald &lt;dbl&gt; | pvalueLogrank &lt;dbl&gt; | qvalueLogrank &lt;dbl&gt; | pvalueDeviance &lt;dbl&gt; | qvalueDeviance &lt;dbl&gt; | corDeviance &lt;dbl&gt; | HazardRatio &lt;dbl&gt; | CI.LowerLimitHR &lt;dbl&gt; | CI.UpperLimitHR &lt;dbl&gt; | C.index &lt;dbl&gt; |\n",
       "|---|---|---|---|---|---|---|---|---|---|---|---|---|\n",
       "| 14 | ANGPT2   | 0.0004260227 | 0.01477003 | 0.0004152209 | 0.01295850 | 0.0001682795 | 0.009779259 | 0.2326695 | 1.501484 | 1.197639 | 1.882416 | 0.3325758 |\n",
       "| 50 | SERPINA5 | 0.0029814799 | 0.04532241 | 0.0025140092 | 0.03617566 | 0.0103938028 | 0.090000239 | 0.1600313 | 1.244038 | 1.077066 | 1.436895 | 0.3789342 |\n",
       "| 53 | CSF2     | 0.0024193091 | 0.03958573 | 0.0023151464 | 0.03569367 | 0.0034924543 | 0.053594727 | 0.1819385 | 1.361322 | 1.115319 | 1.661584 | 0.3646698 |\n",
       "| 67 | P4HA3    | 0.0003874222 | 0.01477003 | 0.0004221192 | 0.01295850 | 0.0012626161 | 0.031446272 | 0.2003667 | 1.416678 | 1.168738 | 1.717216 | 0.3996137 |\n",
       "| 74 | CXCL2    | 0.0002679320 | 0.01249420 | 0.0002228013 | 0.01080201 | 0.0008489514 | 0.028917575 | 0.2071277 | 1.271886 | 1.117573 | 1.447505 | 0.3673446 |\n",
       "| 108 | PF4      | 0.0038271383 | 0.05570189 | 0.0033279970 | 0.04585082 | 0.0121688436 | 0.095348793 | 0.1566391 | 1.538407 | 1.148921 | 2.059930 | 0.3855965 |\n",
       "\n"
      ],
      "text/plain": [
       "    ID       pvalueWald   qvalueWald pvalueLogrank qvalueLogrank pvalueDeviance\n",
       "14  ANGPT2   0.0004260227 0.01477003 0.0004152209  0.01295850    0.0001682795  \n",
       "50  SERPINA5 0.0029814799 0.04532241 0.0025140092  0.03617566    0.0103938028  \n",
       "53  CSF2     0.0024193091 0.03958573 0.0023151464  0.03569367    0.0034924543  \n",
       "67  P4HA3    0.0003874222 0.01477003 0.0004221192  0.01295850    0.0012626161  \n",
       "74  CXCL2    0.0002679320 0.01249420 0.0002228013  0.01080201    0.0008489514  \n",
       "108 PF4      0.0038271383 0.05570189 0.0033279970  0.04585082    0.0121688436  \n",
       "    qvalueDeviance corDeviance HazardRatio CI.LowerLimitHR CI.UpperLimitHR\n",
       "14  0.009779259    0.2326695   1.501484    1.197639        1.882416       \n",
       "50  0.090000239    0.1600313   1.244038    1.077066        1.436895       \n",
       "53  0.053594727    0.1819385   1.361322    1.115319        1.661584       \n",
       "67  0.031446272    0.2003667   1.416678    1.168738        1.717216       \n",
       "74  0.028917575    0.2071277   1.271886    1.117573        1.447505       \n",
       "108 0.095348793    0.1566391   1.538407    1.148921        2.059930       \n",
       "    C.index  \n",
       "14  0.3325758\n",
       "50  0.3789342\n",
       "53  0.3646698\n",
       "67  0.3996137\n",
       "74  0.3673446\n",
       "108 0.3855965"
      ]
     },
     "metadata": {},
     "output_type": "display_data"
    }
   ],
   "source": [
    "nrow(gene_coxph_res[gene_coxph_res$qvalueLogrank < 0.05, ])\n",
    "head(gene_coxph_res[gene_coxph_res$qvalueLogrank < 0.05, ])"
   ]
  },
  {
   "cell_type": "markdown",
   "metadata": {},
   "source": [
    "# Module significance for FIGO stage"
   ]
  },
  {
   "cell_type": "code",
   "execution_count": 14,
   "metadata": {},
   "outputs": [
    {
     "data": {
      "text/html": [
       "<table>\n",
       "<caption>A matrix: 11 × 4 of type dbl</caption>\n",
       "<thead>\n",
       "\t<tr><th></th><th scope=col>figo_stage_1</th><th scope=col>figo_stage_2</th><th scope=col>figo_stage_3</th><th scope=col>figo_stage_4</th></tr>\n",
       "</thead>\n",
       "<tbody>\n",
       "\t<tr><th scope=row>MEblue</th><td>-0.130419646</td><td> 0.020075610</td><td> 0.17758875</td><td>-0.0306603904</td></tr>\n",
       "\t<tr><th scope=row>MEgreen</th><td>-0.069146586</td><td> 0.039862877</td><td> 0.07559666</td><td>-0.0380222755</td></tr>\n",
       "\t<tr><th scope=row>MEpurple</th><td> 0.034966554</td><td> 0.011484307</td><td>-0.05967674</td><td>-0.0024735207</td></tr>\n",
       "\t<tr><th scope=row>MEmagenta</th><td> 0.034817860</td><td> 0.001740843</td><td>-0.09945942</td><td> 0.0687326277</td></tr>\n",
       "\t<tr><th scope=row>MEpink</th><td> 0.189387367</td><td>-0.084598692</td><td>-0.14027049</td><td>-0.0282833095</td></tr>\n",
       "\t<tr><th scope=row>MEred</th><td> 0.169077826</td><td>-0.074497461</td><td>-0.08466824</td><td>-0.0830931269</td></tr>\n",
       "\t<tr><th scope=row>MEblack</th><td>-0.102602181</td><td> 0.098098551</td><td>-0.06480633</td><td> 0.1254048773</td></tr>\n",
       "\t<tr><th scope=row>MEyellow</th><td>-0.004098473</td><td> 0.050341150</td><td>-0.01586284</td><td>-0.0520231763</td></tr>\n",
       "\t<tr><th scope=row>MEbrown</th><td> 0.063001885</td><td>-0.038066250</td><td>-0.02707073</td><td>-0.0204201646</td></tr>\n",
       "\t<tr><th scope=row>MEturquoise</th><td>-0.051069808</td><td> 0.017751013</td><td> 0.03236273</td><td> 0.0234145339</td></tr>\n",
       "\t<tr><th scope=row>MEgrey</th><td>-0.033955791</td><td> 0.071809074</td><td>-0.03754867</td><td>-0.0001150684</td></tr>\n",
       "</tbody>\n",
       "</table>\n"
      ],
      "text/latex": [
       "A matrix: 11 × 4 of type dbl\n",
       "\\begin{tabular}{r|llll}\n",
       "  & figo\\_stage\\_1 & figo\\_stage\\_2 & figo\\_stage\\_3 & figo\\_stage\\_4\\\\\n",
       "\\hline\n",
       "\tMEblue & -0.130419646 &  0.020075610 &  0.17758875 & -0.0306603904\\\\\n",
       "\tMEgreen & -0.069146586 &  0.039862877 &  0.07559666 & -0.0380222755\\\\\n",
       "\tMEpurple &  0.034966554 &  0.011484307 & -0.05967674 & -0.0024735207\\\\\n",
       "\tMEmagenta &  0.034817860 &  0.001740843 & -0.09945942 &  0.0687326277\\\\\n",
       "\tMEpink &  0.189387367 & -0.084598692 & -0.14027049 & -0.0282833095\\\\\n",
       "\tMEred &  0.169077826 & -0.074497461 & -0.08466824 & -0.0830931269\\\\\n",
       "\tMEblack & -0.102602181 &  0.098098551 & -0.06480633 &  0.1254048773\\\\\n",
       "\tMEyellow & -0.004098473 &  0.050341150 & -0.01586284 & -0.0520231763\\\\\n",
       "\tMEbrown &  0.063001885 & -0.038066250 & -0.02707073 & -0.0204201646\\\\\n",
       "\tMEturquoise & -0.051069808 &  0.017751013 &  0.03236273 &  0.0234145339\\\\\n",
       "\tMEgrey & -0.033955791 &  0.071809074 & -0.03754867 & -0.0001150684\\\\\n",
       "\\end{tabular}\n"
      ],
      "text/markdown": [
       "\n",
       "A matrix: 11 × 4 of type dbl\n",
       "\n",
       "| <!--/--> | figo_stage_1 | figo_stage_2 | figo_stage_3 | figo_stage_4 |\n",
       "|---|---|---|---|---|\n",
       "| MEblue | -0.130419646 |  0.020075610 |  0.17758875 | -0.0306603904 |\n",
       "| MEgreen | -0.069146586 |  0.039862877 |  0.07559666 | -0.0380222755 |\n",
       "| MEpurple |  0.034966554 |  0.011484307 | -0.05967674 | -0.0024735207 |\n",
       "| MEmagenta |  0.034817860 |  0.001740843 | -0.09945942 |  0.0687326277 |\n",
       "| MEpink |  0.189387367 | -0.084598692 | -0.14027049 | -0.0282833095 |\n",
       "| MEred |  0.169077826 | -0.074497461 | -0.08466824 | -0.0830931269 |\n",
       "| MEblack | -0.102602181 |  0.098098551 | -0.06480633 |  0.1254048773 |\n",
       "| MEyellow | -0.004098473 |  0.050341150 | -0.01586284 | -0.0520231763 |\n",
       "| MEbrown |  0.063001885 | -0.038066250 | -0.02707073 | -0.0204201646 |\n",
       "| MEturquoise | -0.051069808 |  0.017751013 |  0.03236273 |  0.0234145339 |\n",
       "| MEgrey | -0.033955791 |  0.071809074 | -0.03754867 | -0.0001150684 |\n",
       "\n"
      ],
      "text/plain": [
       "            figo_stage_1 figo_stage_2 figo_stage_3 figo_stage_4 \n",
       "MEblue      -0.130419646  0.020075610  0.17758875  -0.0306603904\n",
       "MEgreen     -0.069146586  0.039862877  0.07559666  -0.0380222755\n",
       "MEpurple     0.034966554  0.011484307 -0.05967674  -0.0024735207\n",
       "MEmagenta    0.034817860  0.001740843 -0.09945942   0.0687326277\n",
       "MEpink       0.189387367 -0.084598692 -0.14027049  -0.0282833095\n",
       "MEred        0.169077826 -0.074497461 -0.08466824  -0.0830931269\n",
       "MEblack     -0.102602181  0.098098551 -0.06480633   0.1254048773\n",
       "MEyellow    -0.004098473  0.050341150 -0.01586284  -0.0520231763\n",
       "MEbrown      0.063001885 -0.038066250 -0.02707073  -0.0204201646\n",
       "MEturquoise -0.051069808  0.017751013  0.03236273   0.0234145339\n",
       "MEgrey      -0.033955791  0.071809074 -0.03754867  -0.0001150684"
      ]
     },
     "metadata": {},
     "output_type": "display_data"
    }
   ],
   "source": [
    "module_figo_cor <- WGCNA::cor(mes, data_traits[-c(1:2)])\n",
    "module_figo_cor"
   ]
  },
  {
   "cell_type": "code",
   "execution_count": 15,
   "metadata": {},
   "outputs": [
    {
     "data": {
      "text/html": [
       "<table>\n",
       "<caption>A matrix: 11 × 4 of type dbl</caption>\n",
       "<thead>\n",
       "\t<tr><th></th><th scope=col>figo_stage_1</th><th scope=col>figo_stage_2</th><th scope=col>figo_stage_3</th><th scope=col>figo_stage_4</th></tr>\n",
       "</thead>\n",
       "<tbody>\n",
       "\t<tr><th scope=row>MEblue</th><td>0.037406435</td><td>0.7496970</td><td>0.004447037</td><td>0.62603420</td></tr>\n",
       "\t<tr><th scope=row>MEgreen</th><td>0.271299563</td><td>0.5262873</td><td>0.228986730</td><td>0.54557600</td></tr>\n",
       "\t<tr><th scope=row>MEpurple</th><td>0.578349099</td><td>0.8551945</td><td>0.342556859</td><td>0.96864725</td></tr>\n",
       "\t<tr><th scope=row>MEmagenta</th><td>0.579967054</td><td>0.9779313</td><td>0.113110156</td><td>0.27418606</td></tr>\n",
       "\t<tr><th scope=row>MEpink</th><td>0.002389876</td><td>0.1780733</td><td>0.025089542</td><td>0.65305715</td></tr>\n",
       "\t<tr><th scope=row>MEred</th><td>0.006805758</td><td>0.2358466</td><td>0.177715597</td><td>0.18594841</td></tr>\n",
       "\t<tr><th scope=row>MEblack</th><td>0.102113494</td><td>0.1181507</td><td>0.302599997</td><td>0.04543322</td></tr>\n",
       "\t<tr><th scope=row>MEyellow</th><td>0.948073604</td><td>0.4234548</td><td>0.800978726</td><td>0.40811105</td></tr>\n",
       "\t<tr><th scope=row>MEbrown</th><td>0.316289270</td><td>0.5451111</td><td>0.667021186</td><td>0.74554767</td></tr>\n",
       "\t<tr><th scope=row>MEturquoise</th><td>0.416767076</td><td>0.7778741</td><td>0.606981393</td><td>0.70980786</td></tr>\n",
       "\t<tr><th scope=row>MEgrey</th><td>0.589388654</td><td>0.2532293</td><td>0.550595002</td><td>0.99854110</td></tr>\n",
       "</tbody>\n",
       "</table>\n"
      ],
      "text/latex": [
       "A matrix: 11 × 4 of type dbl\n",
       "\\begin{tabular}{r|llll}\n",
       "  & figo\\_stage\\_1 & figo\\_stage\\_2 & figo\\_stage\\_3 & figo\\_stage\\_4\\\\\n",
       "\\hline\n",
       "\tMEblue & 0.037406435 & 0.7496970 & 0.004447037 & 0.62603420\\\\\n",
       "\tMEgreen & 0.271299563 & 0.5262873 & 0.228986730 & 0.54557600\\\\\n",
       "\tMEpurple & 0.578349099 & 0.8551945 & 0.342556859 & 0.96864725\\\\\n",
       "\tMEmagenta & 0.579967054 & 0.9779313 & 0.113110156 & 0.27418606\\\\\n",
       "\tMEpink & 0.002389876 & 0.1780733 & 0.025089542 & 0.65305715\\\\\n",
       "\tMEred & 0.006805758 & 0.2358466 & 0.177715597 & 0.18594841\\\\\n",
       "\tMEblack & 0.102113494 & 0.1181507 & 0.302599997 & 0.04543322\\\\\n",
       "\tMEyellow & 0.948073604 & 0.4234548 & 0.800978726 & 0.40811105\\\\\n",
       "\tMEbrown & 0.316289270 & 0.5451111 & 0.667021186 & 0.74554767\\\\\n",
       "\tMEturquoise & 0.416767076 & 0.7778741 & 0.606981393 & 0.70980786\\\\\n",
       "\tMEgrey & 0.589388654 & 0.2532293 & 0.550595002 & 0.99854110\\\\\n",
       "\\end{tabular}\n"
      ],
      "text/markdown": [
       "\n",
       "A matrix: 11 × 4 of type dbl\n",
       "\n",
       "| <!--/--> | figo_stage_1 | figo_stage_2 | figo_stage_3 | figo_stage_4 |\n",
       "|---|---|---|---|---|\n",
       "| MEblue | 0.037406435 | 0.7496970 | 0.004447037 | 0.62603420 |\n",
       "| MEgreen | 0.271299563 | 0.5262873 | 0.228986730 | 0.54557600 |\n",
       "| MEpurple | 0.578349099 | 0.8551945 | 0.342556859 | 0.96864725 |\n",
       "| MEmagenta | 0.579967054 | 0.9779313 | 0.113110156 | 0.27418606 |\n",
       "| MEpink | 0.002389876 | 0.1780733 | 0.025089542 | 0.65305715 |\n",
       "| MEred | 0.006805758 | 0.2358466 | 0.177715597 | 0.18594841 |\n",
       "| MEblack | 0.102113494 | 0.1181507 | 0.302599997 | 0.04543322 |\n",
       "| MEyellow | 0.948073604 | 0.4234548 | 0.800978726 | 0.40811105 |\n",
       "| MEbrown | 0.316289270 | 0.5451111 | 0.667021186 | 0.74554767 |\n",
       "| MEturquoise | 0.416767076 | 0.7778741 | 0.606981393 | 0.70980786 |\n",
       "| MEgrey | 0.589388654 | 0.2532293 | 0.550595002 | 0.99854110 |\n",
       "\n"
      ],
      "text/plain": [
       "            figo_stage_1 figo_stage_2 figo_stage_3 figo_stage_4\n",
       "MEblue      0.037406435  0.7496970    0.004447037  0.62603420  \n",
       "MEgreen     0.271299563  0.5262873    0.228986730  0.54557600  \n",
       "MEpurple    0.578349099  0.8551945    0.342556859  0.96864725  \n",
       "MEmagenta   0.579967054  0.9779313    0.113110156  0.27418606  \n",
       "MEpink      0.002389876  0.1780733    0.025089542  0.65305715  \n",
       "MEred       0.006805758  0.2358466    0.177715597  0.18594841  \n",
       "MEblack     0.102113494  0.1181507    0.302599997  0.04543322  \n",
       "MEyellow    0.948073604  0.4234548    0.800978726  0.40811105  \n",
       "MEbrown     0.316289270  0.5451111    0.667021186  0.74554767  \n",
       "MEturquoise 0.416767076  0.7778741    0.606981393  0.70980786  \n",
       "MEgrey      0.589388654  0.2532293    0.550595002  0.99854110  "
      ]
     },
     "metadata": {},
     "output_type": "display_data"
    }
   ],
   "source": [
    "module_figo_pvals <- corPvalueStudent(module_figo_cor, n_samples)\n",
    "module_figo_pvals"
   ]
  },
  {
   "cell_type": "code",
   "execution_count": 16,
   "metadata": {},
   "outputs": [
    {
     "data": {
      "text/html": [
       "<table>\n",
       "<caption>A matrix: 11 × 4 of type dbl</caption>\n",
       "<thead>\n",
       "\t<tr><th></th><th scope=col>figo_stage_1</th><th scope=col>figo_stage_2</th><th scope=col>figo_stage_3</th><th scope=col>figo_stage_4</th></tr>\n",
       "</thead>\n",
       "<tbody>\n",
       "\t<tr><th scope=row>MEblue</th><td>0.13715693</td><td>0.9407140</td><td>0.04891741</td><td>0.9112249</td></tr>\n",
       "\t<tr><th scope=row>MEgreen</th><td>0.57986366</td><td>0.8566032</td><td>0.50377081</td><td>0.9112249</td></tr>\n",
       "\t<tr><th scope=row>MEpurple</th><td>0.64832752</td><td>0.9407140</td><td>0.53830364</td><td>0.9985411</td></tr>\n",
       "\t<tr><th scope=row>MEmagenta</th><td>0.64832752</td><td>0.9779313</td><td>0.41473724</td><td>0.9112249</td></tr>\n",
       "\t<tr><th scope=row>MEpink</th><td>0.02628864</td><td>0.6963806</td><td>0.13799248</td><td>0.9112249</td></tr>\n",
       "\t<tr><th scope=row>MEred</th><td>0.03743167</td><td>0.6963806</td><td>0.48871789</td><td>0.9112249</td></tr>\n",
       "\t<tr><th scope=row>MEblack</th><td>0.28081211</td><td>0.6963806</td><td>0.53830364</td><td>0.4997654</td></tr>\n",
       "\t<tr><th scope=row>MEyellow</th><td>0.94807360</td><td>0.8566032</td><td>0.80097873</td><td>0.9112249</td></tr>\n",
       "\t<tr><th scope=row>MEbrown</th><td>0.57986366</td><td>0.8566032</td><td>0.73372330</td><td>0.9112249</td></tr>\n",
       "\t<tr><th scope=row>MEturquoise</th><td>0.64832752</td><td>0.9407140</td><td>0.73372330</td><td>0.9112249</td></tr>\n",
       "\t<tr><th scope=row>MEgrey</th><td>0.64832752</td><td>0.6963806</td><td>0.73372330</td><td>0.9985411</td></tr>\n",
       "</tbody>\n",
       "</table>\n"
      ],
      "text/latex": [
       "A matrix: 11 × 4 of type dbl\n",
       "\\begin{tabular}{r|llll}\n",
       "  & figo\\_stage\\_1 & figo\\_stage\\_2 & figo\\_stage\\_3 & figo\\_stage\\_4\\\\\n",
       "\\hline\n",
       "\tMEblue & 0.13715693 & 0.9407140 & 0.04891741 & 0.9112249\\\\\n",
       "\tMEgreen & 0.57986366 & 0.8566032 & 0.50377081 & 0.9112249\\\\\n",
       "\tMEpurple & 0.64832752 & 0.9407140 & 0.53830364 & 0.9985411\\\\\n",
       "\tMEmagenta & 0.64832752 & 0.9779313 & 0.41473724 & 0.9112249\\\\\n",
       "\tMEpink & 0.02628864 & 0.6963806 & 0.13799248 & 0.9112249\\\\\n",
       "\tMEred & 0.03743167 & 0.6963806 & 0.48871789 & 0.9112249\\\\\n",
       "\tMEblack & 0.28081211 & 0.6963806 & 0.53830364 & 0.4997654\\\\\n",
       "\tMEyellow & 0.94807360 & 0.8566032 & 0.80097873 & 0.9112249\\\\\n",
       "\tMEbrown & 0.57986366 & 0.8566032 & 0.73372330 & 0.9112249\\\\\n",
       "\tMEturquoise & 0.64832752 & 0.9407140 & 0.73372330 & 0.9112249\\\\\n",
       "\tMEgrey & 0.64832752 & 0.6963806 & 0.73372330 & 0.9985411\\\\\n",
       "\\end{tabular}\n"
      ],
      "text/markdown": [
       "\n",
       "A matrix: 11 × 4 of type dbl\n",
       "\n",
       "| <!--/--> | figo_stage_1 | figo_stage_2 | figo_stage_3 | figo_stage_4 |\n",
       "|---|---|---|---|---|\n",
       "| MEblue | 0.13715693 | 0.9407140 | 0.04891741 | 0.9112249 |\n",
       "| MEgreen | 0.57986366 | 0.8566032 | 0.50377081 | 0.9112249 |\n",
       "| MEpurple | 0.64832752 | 0.9407140 | 0.53830364 | 0.9985411 |\n",
       "| MEmagenta | 0.64832752 | 0.9779313 | 0.41473724 | 0.9112249 |\n",
       "| MEpink | 0.02628864 | 0.6963806 | 0.13799248 | 0.9112249 |\n",
       "| MEred | 0.03743167 | 0.6963806 | 0.48871789 | 0.9112249 |\n",
       "| MEblack | 0.28081211 | 0.6963806 | 0.53830364 | 0.4997654 |\n",
       "| MEyellow | 0.94807360 | 0.8566032 | 0.80097873 | 0.9112249 |\n",
       "| MEbrown | 0.57986366 | 0.8566032 | 0.73372330 | 0.9112249 |\n",
       "| MEturquoise | 0.64832752 | 0.9407140 | 0.73372330 | 0.9112249 |\n",
       "| MEgrey | 0.64832752 | 0.6963806 | 0.73372330 | 0.9985411 |\n",
       "\n"
      ],
      "text/plain": [
       "            figo_stage_1 figo_stage_2 figo_stage_3 figo_stage_4\n",
       "MEblue      0.13715693   0.9407140    0.04891741   0.9112249   \n",
       "MEgreen     0.57986366   0.8566032    0.50377081   0.9112249   \n",
       "MEpurple    0.64832752   0.9407140    0.53830364   0.9985411   \n",
       "MEmagenta   0.64832752   0.9779313    0.41473724   0.9112249   \n",
       "MEpink      0.02628864   0.6963806    0.13799248   0.9112249   \n",
       "MEred       0.03743167   0.6963806    0.48871789   0.9112249   \n",
       "MEblack     0.28081211   0.6963806    0.53830364   0.4997654   \n",
       "MEyellow    0.94807360   0.8566032    0.80097873   0.9112249   \n",
       "MEbrown     0.57986366   0.8566032    0.73372330   0.9112249   \n",
       "MEturquoise 0.64832752   0.9407140    0.73372330   0.9112249   \n",
       "MEgrey      0.64832752   0.6963806    0.73372330   0.9985411   "
      ]
     },
     "metadata": {},
     "output_type": "display_data"
    }
   ],
   "source": [
    "module_figo_padjs <- apply(module_figo_pvals, MARGIN = 2, function(x) { p.adjust(x, method = \"BH\") })\n",
    "module_figo_padjs"
   ]
  }
 ],
 "metadata": {
  "kernelspec": {
   "display_name": "R",
   "language": "R",
   "name": "ir"
  },
  "language_info": {
   "codemirror_mode": "r",
   "file_extension": ".r",
   "mimetype": "text/x-r-source",
   "name": "R",
   "pygments_lexer": "r",
   "version": "3.6.3"
  }
 },
 "nbformat": 4,
 "nbformat_minor": 4
}
