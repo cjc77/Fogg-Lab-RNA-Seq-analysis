{
 "cells": [
  {
   "cell_type": "code",
   "execution_count": 1,
   "metadata": {
    "collapsed": true,
    "jupyter": {
     "outputs_hidden": true
    }
   },
   "outputs": [
    {
     "name": "stderr",
     "output_type": "stream",
     "text": [
      "── Attaching packages ─────────────────────────────────────── tidyverse 1.3.0 ──\n",
      "✔ ggplot2 3.3.2     ✔ purrr   0.3.4\n",
      "✔ tibble  3.0.3     ✔ dplyr   1.0.0\n",
      "✔ tidyr   1.1.0     ✔ stringr 1.4.0\n",
      "✔ readr   1.3.1     ✔ forcats 0.5.0\n",
      "── Conflicts ────────────────────────────────────────── tidyverse_conflicts() ──\n",
      "✖ dplyr::filter() masks stats::filter()\n",
      "✖ dplyr::lag()    masks stats::lag()\n"
     ]
    }
   ],
   "source": [
    "library(tidyverse)\n",
    "\n",
    "library(rutils)"
   ]
  },
  {
   "cell_type": "code",
   "execution_count": 2,
   "metadata": {},
   "outputs": [],
   "source": [
    "dirs <- rutils::get_dev_directories(dev_paths_file = \"../dev_paths.txt\")\n",
    "projects <- c(\"TCGA-CESC\", \"TCGA-UCS\", \"TCGA-UCEC\", \"TCGA-OV\")\n",
    "unified_dsets <- c(\"unified_cervical_data\", \"unified_uterine_data\", \"unified_uterine_endometrial_data\")\n"
   ]
  },
  {
   "cell_type": "code",
   "execution_count": 3,
   "metadata": {},
   "outputs": [],
   "source": [
    "dset_idx <- 3"
   ]
  },
  {
   "cell_type": "code",
   "execution_count": 6,
   "metadata": {},
   "outputs": [
    {
     "name": "stderr",
     "output_type": "stream",
     "text": [
      "Parsed with column specification:\n",
      "cols(\n",
      "  sample_name = col_character(),\n",
      "  condition = col_character(),\n",
      "  data_source = col_character()\n",
      ")\n",
      "Parsed with column specification:\n",
      "cols(\n",
      "  .default = col_double(),\n",
      "  geneID = col_character()\n",
      ")\n",
      "See spec(...) for full column specifications.\n"
     ]
    }
   ],
   "source": [
    "coldata_df <- read_tsv(paste0(dirs$data_dir, \"/\", unified_dsets[dset_idx], \"/coldata.tsv\"))\n",
    "nm_counts_df <- read_tsv(paste0(dirs$data_dir, \"/\", unified_dsets[dset_idx], \"/norm_matrisome_counts.tsv\"))\n"
   ]
  },
  {
   "cell_type": "code",
   "execution_count": 10,
   "metadata": {},
   "outputs": [
    {
     "data": {
      "text/html": [
       "<table>\n",
       "<caption>A tibble: 6 × 3</caption>\n",
       "<thead>\n",
       "\t<tr><th scope=col>sample_name</th><th scope=col>condition</th><th scope=col>data_source</th></tr>\n",
       "\t<tr><th scope=col>&lt;chr&gt;</th><th scope=col>&lt;chr&gt;</th><th scope=col>&lt;chr&gt;</th></tr>\n",
       "</thead>\n",
       "<tbody>\n",
       "\t<tr><td>GTEX-T6MO-1526-SM-4DM57 </td><td>healthy</td><td>GTEx</td></tr>\n",
       "\t<tr><td>GTEX-11P81-1626-SM-5BC52</td><td>healthy</td><td>GTEx</td></tr>\n",
       "\t<tr><td>GTEX-13N11-1126-SM-5KM41</td><td>healthy</td><td>GTEx</td></tr>\n",
       "\t<tr><td>GTEX-RTLS-2426-SM-46MUO </td><td>healthy</td><td>GTEx</td></tr>\n",
       "\t<tr><td>GTEX-ZP4G-0726-SM-4WWF2 </td><td>healthy</td><td>GTEx</td></tr>\n",
       "\t<tr><td>GTEX-WEY5-0726-SM-4LMID </td><td>healthy</td><td>GTEx</td></tr>\n",
       "</tbody>\n",
       "</table>\n"
      ],
      "text/latex": [
       "A tibble: 6 × 3\n",
       "\\begin{tabular}{lll}\n",
       " sample\\_name & condition & data\\_source\\\\\n",
       " <chr> & <chr> & <chr>\\\\\n",
       "\\hline\n",
       "\t GTEX-T6MO-1526-SM-4DM57  & healthy & GTEx\\\\\n",
       "\t GTEX-11P81-1626-SM-5BC52 & healthy & GTEx\\\\\n",
       "\t GTEX-13N11-1126-SM-5KM41 & healthy & GTEx\\\\\n",
       "\t GTEX-RTLS-2426-SM-46MUO  & healthy & GTEx\\\\\n",
       "\t GTEX-ZP4G-0726-SM-4WWF2  & healthy & GTEx\\\\\n",
       "\t GTEX-WEY5-0726-SM-4LMID  & healthy & GTEx\\\\\n",
       "\\end{tabular}\n"
      ],
      "text/markdown": [
       "\n",
       "A tibble: 6 × 3\n",
       "\n",
       "| sample_name &lt;chr&gt; | condition &lt;chr&gt; | data_source &lt;chr&gt; |\n",
       "|---|---|---|\n",
       "| GTEX-T6MO-1526-SM-4DM57  | healthy | GTEx |\n",
       "| GTEX-11P81-1626-SM-5BC52 | healthy | GTEx |\n",
       "| GTEX-13N11-1126-SM-5KM41 | healthy | GTEx |\n",
       "| GTEX-RTLS-2426-SM-46MUO  | healthy | GTEx |\n",
       "| GTEX-ZP4G-0726-SM-4WWF2  | healthy | GTEx |\n",
       "| GTEX-WEY5-0726-SM-4LMID  | healthy | GTEx |\n",
       "\n"
      ],
      "text/plain": [
       "  sample_name              condition data_source\n",
       "1 GTEX-T6MO-1526-SM-4DM57  healthy   GTEx       \n",
       "2 GTEX-11P81-1626-SM-5BC52 healthy   GTEx       \n",
       "3 GTEX-13N11-1126-SM-5KM41 healthy   GTEx       \n",
       "4 GTEX-RTLS-2426-SM-46MUO  healthy   GTEx       \n",
       "5 GTEX-ZP4G-0726-SM-4WWF2  healthy   GTEx       \n",
       "6 GTEX-WEY5-0726-SM-4LMID  healthy   GTEx       "
      ]
     },
     "metadata": {},
     "output_type": "display_data"
    },
    {
     "data": {
      "text/html": [
       "<table>\n",
       "<caption>A tibble: 6 × 247</caption>\n",
       "<thead>\n",
       "\t<tr><th scope=col>geneID</th><th scope=col>GTEX-T6MO-1526-SM-4DM57</th><th scope=col>GTEX-11P81-1626-SM-5BC52</th><th scope=col>GTEX-13N11-1126-SM-5KM41</th><th scope=col>GTEX-RTLS-2426-SM-46MUO</th><th scope=col>GTEX-ZP4G-0726-SM-4WWF2</th><th scope=col>GTEX-WEY5-0726-SM-4LMID</th><th scope=col>GTEX-T2IS-2226-SM-4DM65</th><th scope=col>GTEX-PX3G-2026-SM-48U1H</th><th scope=col>GTEX-U3ZN-0726-SM-4DXT5</th><th scope=col>⋯</th><th scope=col>TCGA-EO-A3AU-01A-21R-A19W-07</th><th scope=col>TCGA-AJ-A3EK-01A-11R-A19W-07</th><th scope=col>TCGA-5S-A9Q8-01A-11R-A40A-07</th><th scope=col>TCGA-BK-A139-01A-11R-A277-07</th><th scope=col>TCGA-D1-A3DG-01A-11R-A19W-07</th><th scope=col>TCGA-EO-A22X-01A-11R-A180-07</th><th scope=col>TCGA-KP-A3W1-01A-11R-A22K-07</th><th scope=col>TCGA-PG-A916-01A-11R-A37O-07</th><th scope=col>TCGA-EY-A4KR-01A-11R-A27V-07</th><th scope=col>TCGA-KP-A3VZ-01A-11R-A22K-07</th></tr>\n",
       "\t<tr><th scope=col>&lt;chr&gt;</th><th scope=col>&lt;dbl&gt;</th><th scope=col>&lt;dbl&gt;</th><th scope=col>&lt;dbl&gt;</th><th scope=col>&lt;dbl&gt;</th><th scope=col>&lt;dbl&gt;</th><th scope=col>&lt;dbl&gt;</th><th scope=col>&lt;dbl&gt;</th><th scope=col>&lt;dbl&gt;</th><th scope=col>&lt;dbl&gt;</th><th scope=col>⋯</th><th scope=col>&lt;dbl&gt;</th><th scope=col>&lt;dbl&gt;</th><th scope=col>&lt;dbl&gt;</th><th scope=col>&lt;dbl&gt;</th><th scope=col>&lt;dbl&gt;</th><th scope=col>&lt;dbl&gt;</th><th scope=col>&lt;dbl&gt;</th><th scope=col>&lt;dbl&gt;</th><th scope=col>&lt;dbl&gt;</th><th scope=col>&lt;dbl&gt;</th></tr>\n",
       "</thead>\n",
       "<tbody>\n",
       "\t<tr><td>PGF    </td><td> 8.879329</td><td> 7.434462</td><td> 9.278404</td><td> 8.187460</td><td> 8.792995</td><td> 9.564547</td><td>10.653829</td><td> 9.316795</td><td> 8.192681</td><td>⋯</td><td> 7.050460</td><td> 7.624509</td><td> 8.627896</td><td> 7.096096</td><td>12.074398</td><td> 8.025731</td><td> 9.248411</td><td> 7.392115</td><td> 7.831148</td><td>7.805377</td></tr>\n",
       "\t<tr><td>TIMP4  </td><td> 9.005961</td><td> 5.660309</td><td> 7.911170</td><td> 8.361972</td><td> 9.741767</td><td> 9.226092</td><td> 7.402267</td><td> 6.374619</td><td> 5.675240</td><td>⋯</td><td> 4.726243</td><td> 3.955199</td><td> 4.346853</td><td> 3.586865</td><td> 3.586865</td><td> 4.853974</td><td> 4.014704</td><td> 5.070334</td><td> 4.910370</td><td>4.950378</td></tr>\n",
       "\t<tr><td>C1QTNF6</td><td> 9.673245</td><td> 9.462604</td><td>10.114966</td><td> 9.754473</td><td> 9.638398</td><td> 9.233075</td><td>10.469207</td><td>10.462055</td><td>10.258132</td><td>⋯</td><td>10.836550</td><td> 9.292369</td><td>10.980220</td><td> 7.743795</td><td> 7.467023</td><td>10.036937</td><td>11.672567</td><td>12.174879</td><td>10.847096</td><td>8.363901</td></tr>\n",
       "\t<tr><td>TNC    </td><td>14.523969</td><td>15.208986</td><td>15.814109</td><td> 8.871503</td><td>15.468258</td><td>14.770415</td><td>13.120999</td><td>11.409056</td><td>14.223366</td><td>⋯</td><td>14.592956</td><td>12.317000</td><td> 9.776307</td><td>11.744690</td><td>11.440915</td><td>14.177643</td><td>10.027468</td><td>13.623124</td><td>12.005405</td><td>7.412211</td></tr>\n",
       "\t<tr><td>PRL    </td><td> 8.638020</td><td> 7.422681</td><td> 9.385488</td><td> 5.484139</td><td> 5.487284</td><td> 5.406350</td><td> 7.726366</td><td> 9.383876</td><td> 8.027712</td><td>⋯</td><td> 3.975430</td><td> 3.955199</td><td> 3.586865</td><td> 3.586865</td><td> 6.540419</td><td> 3.980093</td><td> 4.616692</td><td> 4.100709</td><td> 4.502431</td><td>5.031900</td></tr>\n",
       "\t<tr><td>OGN    </td><td>12.013160</td><td>12.713526</td><td> 9.189995</td><td>11.430048</td><td>12.185254</td><td>12.325556</td><td>13.610493</td><td>12.716741</td><td>12.454832</td><td>⋯</td><td> 4.941750</td><td> 4.669302</td><td> 5.356919</td><td> 6.399441</td><td> 4.795412</td><td> 6.061354</td><td> 3.586865</td><td> 7.122060</td><td> 3.965857</td><td>4.309890</td></tr>\n",
       "</tbody>\n",
       "</table>\n"
      ],
      "text/latex": [
       "A tibble: 6 × 247\n",
       "\\begin{tabular}{lllllllllllllllllllll}\n",
       " geneID & GTEX-T6MO-1526-SM-4DM57 & GTEX-11P81-1626-SM-5BC52 & GTEX-13N11-1126-SM-5KM41 & GTEX-RTLS-2426-SM-46MUO & GTEX-ZP4G-0726-SM-4WWF2 & GTEX-WEY5-0726-SM-4LMID & GTEX-T2IS-2226-SM-4DM65 & GTEX-PX3G-2026-SM-48U1H & GTEX-U3ZN-0726-SM-4DXT5 & ⋯ & TCGA-EO-A3AU-01A-21R-A19W-07 & TCGA-AJ-A3EK-01A-11R-A19W-07 & TCGA-5S-A9Q8-01A-11R-A40A-07 & TCGA-BK-A139-01A-11R-A277-07 & TCGA-D1-A3DG-01A-11R-A19W-07 & TCGA-EO-A22X-01A-11R-A180-07 & TCGA-KP-A3W1-01A-11R-A22K-07 & TCGA-PG-A916-01A-11R-A37O-07 & TCGA-EY-A4KR-01A-11R-A27V-07 & TCGA-KP-A3VZ-01A-11R-A22K-07\\\\\n",
       " <chr> & <dbl> & <dbl> & <dbl> & <dbl> & <dbl> & <dbl> & <dbl> & <dbl> & <dbl> & ⋯ & <dbl> & <dbl> & <dbl> & <dbl> & <dbl> & <dbl> & <dbl> & <dbl> & <dbl> & <dbl>\\\\\n",
       "\\hline\n",
       "\t PGF     &  8.879329 &  7.434462 &  9.278404 &  8.187460 &  8.792995 &  9.564547 & 10.653829 &  9.316795 &  8.192681 & ⋯ &  7.050460 &  7.624509 &  8.627896 &  7.096096 & 12.074398 &  8.025731 &  9.248411 &  7.392115 &  7.831148 & 7.805377\\\\\n",
       "\t TIMP4   &  9.005961 &  5.660309 &  7.911170 &  8.361972 &  9.741767 &  9.226092 &  7.402267 &  6.374619 &  5.675240 & ⋯ &  4.726243 &  3.955199 &  4.346853 &  3.586865 &  3.586865 &  4.853974 &  4.014704 &  5.070334 &  4.910370 & 4.950378\\\\\n",
       "\t C1QTNF6 &  9.673245 &  9.462604 & 10.114966 &  9.754473 &  9.638398 &  9.233075 & 10.469207 & 10.462055 & 10.258132 & ⋯ & 10.836550 &  9.292369 & 10.980220 &  7.743795 &  7.467023 & 10.036937 & 11.672567 & 12.174879 & 10.847096 & 8.363901\\\\\n",
       "\t TNC     & 14.523969 & 15.208986 & 15.814109 &  8.871503 & 15.468258 & 14.770415 & 13.120999 & 11.409056 & 14.223366 & ⋯ & 14.592956 & 12.317000 &  9.776307 & 11.744690 & 11.440915 & 14.177643 & 10.027468 & 13.623124 & 12.005405 & 7.412211\\\\\n",
       "\t PRL     &  8.638020 &  7.422681 &  9.385488 &  5.484139 &  5.487284 &  5.406350 &  7.726366 &  9.383876 &  8.027712 & ⋯ &  3.975430 &  3.955199 &  3.586865 &  3.586865 &  6.540419 &  3.980093 &  4.616692 &  4.100709 &  4.502431 & 5.031900\\\\\n",
       "\t OGN     & 12.013160 & 12.713526 &  9.189995 & 11.430048 & 12.185254 & 12.325556 & 13.610493 & 12.716741 & 12.454832 & ⋯ &  4.941750 &  4.669302 &  5.356919 &  6.399441 &  4.795412 &  6.061354 &  3.586865 &  7.122060 &  3.965857 & 4.309890\\\\\n",
       "\\end{tabular}\n"
      ],
      "text/markdown": [
       "\n",
       "A tibble: 6 × 247\n",
       "\n",
       "| geneID &lt;chr&gt; | GTEX-T6MO-1526-SM-4DM57 &lt;dbl&gt; | GTEX-11P81-1626-SM-5BC52 &lt;dbl&gt; | GTEX-13N11-1126-SM-5KM41 &lt;dbl&gt; | GTEX-RTLS-2426-SM-46MUO &lt;dbl&gt; | GTEX-ZP4G-0726-SM-4WWF2 &lt;dbl&gt; | GTEX-WEY5-0726-SM-4LMID &lt;dbl&gt; | GTEX-T2IS-2226-SM-4DM65 &lt;dbl&gt; | GTEX-PX3G-2026-SM-48U1H &lt;dbl&gt; | GTEX-U3ZN-0726-SM-4DXT5 &lt;dbl&gt; | ⋯ ⋯ | TCGA-EO-A3AU-01A-21R-A19W-07 &lt;dbl&gt; | TCGA-AJ-A3EK-01A-11R-A19W-07 &lt;dbl&gt; | TCGA-5S-A9Q8-01A-11R-A40A-07 &lt;dbl&gt; | TCGA-BK-A139-01A-11R-A277-07 &lt;dbl&gt; | TCGA-D1-A3DG-01A-11R-A19W-07 &lt;dbl&gt; | TCGA-EO-A22X-01A-11R-A180-07 &lt;dbl&gt; | TCGA-KP-A3W1-01A-11R-A22K-07 &lt;dbl&gt; | TCGA-PG-A916-01A-11R-A37O-07 &lt;dbl&gt; | TCGA-EY-A4KR-01A-11R-A27V-07 &lt;dbl&gt; | TCGA-KP-A3VZ-01A-11R-A22K-07 &lt;dbl&gt; |\n",
       "|---|---|---|---|---|---|---|---|---|---|---|---|---|---|---|---|---|---|---|---|---|\n",
       "| PGF     |  8.879329 |  7.434462 |  9.278404 |  8.187460 |  8.792995 |  9.564547 | 10.653829 |  9.316795 |  8.192681 | ⋯ |  7.050460 |  7.624509 |  8.627896 |  7.096096 | 12.074398 |  8.025731 |  9.248411 |  7.392115 |  7.831148 | 7.805377 |\n",
       "| TIMP4   |  9.005961 |  5.660309 |  7.911170 |  8.361972 |  9.741767 |  9.226092 |  7.402267 |  6.374619 |  5.675240 | ⋯ |  4.726243 |  3.955199 |  4.346853 |  3.586865 |  3.586865 |  4.853974 |  4.014704 |  5.070334 |  4.910370 | 4.950378 |\n",
       "| C1QTNF6 |  9.673245 |  9.462604 | 10.114966 |  9.754473 |  9.638398 |  9.233075 | 10.469207 | 10.462055 | 10.258132 | ⋯ | 10.836550 |  9.292369 | 10.980220 |  7.743795 |  7.467023 | 10.036937 | 11.672567 | 12.174879 | 10.847096 | 8.363901 |\n",
       "| TNC     | 14.523969 | 15.208986 | 15.814109 |  8.871503 | 15.468258 | 14.770415 | 13.120999 | 11.409056 | 14.223366 | ⋯ | 14.592956 | 12.317000 |  9.776307 | 11.744690 | 11.440915 | 14.177643 | 10.027468 | 13.623124 | 12.005405 | 7.412211 |\n",
       "| PRL     |  8.638020 |  7.422681 |  9.385488 |  5.484139 |  5.487284 |  5.406350 |  7.726366 |  9.383876 |  8.027712 | ⋯ |  3.975430 |  3.955199 |  3.586865 |  3.586865 |  6.540419 |  3.980093 |  4.616692 |  4.100709 |  4.502431 | 5.031900 |\n",
       "| OGN     | 12.013160 | 12.713526 |  9.189995 | 11.430048 | 12.185254 | 12.325556 | 13.610493 | 12.716741 | 12.454832 | ⋯ |  4.941750 |  4.669302 |  5.356919 |  6.399441 |  4.795412 |  6.061354 |  3.586865 |  7.122060 |  3.965857 | 4.309890 |\n",
       "\n"
      ],
      "text/plain": [
       "  geneID  GTEX-T6MO-1526-SM-4DM57 GTEX-11P81-1626-SM-5BC52\n",
       "1 PGF      8.879329                7.434462               \n",
       "2 TIMP4    9.005961                5.660309               \n",
       "3 C1QTNF6  9.673245                9.462604               \n",
       "4 TNC     14.523969               15.208986               \n",
       "5 PRL      8.638020                7.422681               \n",
       "6 OGN     12.013160               12.713526               \n",
       "  GTEX-13N11-1126-SM-5KM41 GTEX-RTLS-2426-SM-46MUO GTEX-ZP4G-0726-SM-4WWF2\n",
       "1  9.278404                 8.187460                8.792995              \n",
       "2  7.911170                 8.361972                9.741767              \n",
       "3 10.114966                 9.754473                9.638398              \n",
       "4 15.814109                 8.871503               15.468258              \n",
       "5  9.385488                 5.484139                5.487284              \n",
       "6  9.189995                11.430048               12.185254              \n",
       "  GTEX-WEY5-0726-SM-4LMID GTEX-T2IS-2226-SM-4DM65 GTEX-PX3G-2026-SM-48U1H\n",
       "1  9.564547               10.653829                9.316795              \n",
       "2  9.226092                7.402267                6.374619              \n",
       "3  9.233075               10.469207               10.462055              \n",
       "4 14.770415               13.120999               11.409056              \n",
       "5  5.406350                7.726366                9.383876              \n",
       "6 12.325556               13.610493               12.716741              \n",
       "  GTEX-U3ZN-0726-SM-4DXT5 ⋯ TCGA-EO-A3AU-01A-21R-A19W-07\n",
       "1  8.192681               ⋯  7.050460                   \n",
       "2  5.675240               ⋯  4.726243                   \n",
       "3 10.258132               ⋯ 10.836550                   \n",
       "4 14.223366               ⋯ 14.592956                   \n",
       "5  8.027712               ⋯  3.975430                   \n",
       "6 12.454832               ⋯  4.941750                   \n",
       "  TCGA-AJ-A3EK-01A-11R-A19W-07 TCGA-5S-A9Q8-01A-11R-A40A-07\n",
       "1  7.624509                     8.627896                   \n",
       "2  3.955199                     4.346853                   \n",
       "3  9.292369                    10.980220                   \n",
       "4 12.317000                     9.776307                   \n",
       "5  3.955199                     3.586865                   \n",
       "6  4.669302                     5.356919                   \n",
       "  TCGA-BK-A139-01A-11R-A277-07 TCGA-D1-A3DG-01A-11R-A19W-07\n",
       "1  7.096096                    12.074398                   \n",
       "2  3.586865                     3.586865                   \n",
       "3  7.743795                     7.467023                   \n",
       "4 11.744690                    11.440915                   \n",
       "5  3.586865                     6.540419                   \n",
       "6  6.399441                     4.795412                   \n",
       "  TCGA-EO-A22X-01A-11R-A180-07 TCGA-KP-A3W1-01A-11R-A22K-07\n",
       "1  8.025731                     9.248411                   \n",
       "2  4.853974                     4.014704                   \n",
       "3 10.036937                    11.672567                   \n",
       "4 14.177643                    10.027468                   \n",
       "5  3.980093                     4.616692                   \n",
       "6  6.061354                     3.586865                   \n",
       "  TCGA-PG-A916-01A-11R-A37O-07 TCGA-EY-A4KR-01A-11R-A27V-07\n",
       "1  7.392115                     7.831148                   \n",
       "2  5.070334                     4.910370                   \n",
       "3 12.174879                    10.847096                   \n",
       "4 13.623124                    12.005405                   \n",
       "5  4.100709                     4.502431                   \n",
       "6  7.122060                     3.965857                   \n",
       "  TCGA-KP-A3VZ-01A-11R-A22K-07\n",
       "1 7.805377                    \n",
       "2 4.950378                    \n",
       "3 8.363901                    \n",
       "4 7.412211                    \n",
       "5 5.031900                    \n",
       "6 4.309890                    "
      ]
     },
     "metadata": {},
     "output_type": "display_data"
    }
   ],
   "source": [
    "head(coldata_df)\n",
    "head(nm_counts_df)"
   ]
  },
  {
   "cell_type": "code",
   "execution_count": 31,
   "metadata": {
    "collapsed": true,
    "jupyter": {
     "outputs_hidden": true
    }
   },
   "outputs": [
    {
     "data": {
      "text/html": [
       "<table>\n",
       "<caption>A tibble: 6 × 1009</caption>\n",
       "<thead>\n",
       "\t<tr><th scope=col>sample_name</th><th scope=col>PGF</th><th scope=col>TIMP4</th><th scope=col>C1QTNF6</th><th scope=col>TNC</th><th scope=col>PRL</th><th scope=col>OGN</th><th scope=col>C1QL3</th><th scope=col>FGB</th><th scope=col>NDNF</th><th scope=col>⋯</th><th scope=col>PIK3IP1</th><th scope=col>C1QTNF2</th><th scope=col>PCSK5</th><th scope=col>ANXA1</th><th scope=col>HGF</th><th scope=col>VWA2</th><th scope=col>FGF3</th><th scope=col>POSTN</th><th scope=col>NTF3</th><th scope=col>S100A6</th></tr>\n",
       "\t<tr><th scope=col>&lt;chr&gt;</th><th scope=col>&lt;dbl&gt;</th><th scope=col>&lt;dbl&gt;</th><th scope=col>&lt;dbl&gt;</th><th scope=col>&lt;dbl&gt;</th><th scope=col>&lt;dbl&gt;</th><th scope=col>&lt;dbl&gt;</th><th scope=col>&lt;dbl&gt;</th><th scope=col>&lt;dbl&gt;</th><th scope=col>&lt;dbl&gt;</th><th scope=col>⋯</th><th scope=col>&lt;dbl&gt;</th><th scope=col>&lt;dbl&gt;</th><th scope=col>&lt;dbl&gt;</th><th scope=col>&lt;dbl&gt;</th><th scope=col>&lt;dbl&gt;</th><th scope=col>&lt;dbl&gt;</th><th scope=col>&lt;dbl&gt;</th><th scope=col>&lt;dbl&gt;</th><th scope=col>&lt;dbl&gt;</th><th scope=col>&lt;dbl&gt;</th></tr>\n",
       "</thead>\n",
       "<tbody>\n",
       "\t<tr><td>GTEX-T6MO-1526-SM-4DM57 </td><td>8.879329</td><td>9.005961</td><td> 9.673245</td><td>14.523969</td><td>8.638020</td><td>12.013160</td><td>5.560305</td><td>4.100968</td><td>6.997296</td><td>⋯</td><td>11.70869</td><td>8.907417</td><td> 9.731991</td><td>13.25319</td><td>8.515582</td><td>5.144458</td><td>3.586865</td><td>12.412159</td><td>7.984279</td><td>14.72407</td></tr>\n",
       "\t<tr><td>GTEX-11P81-1626-SM-5BC52</td><td>7.434462</td><td>5.660309</td><td> 9.462604</td><td>15.208986</td><td>7.422681</td><td>12.713526</td><td>5.526591</td><td>5.742299</td><td>7.536329</td><td>⋯</td><td>11.91527</td><td>7.503173</td><td> 9.370995</td><td>13.07284</td><td>9.795993</td><td>6.261985</td><td>3.586865</td><td>11.534521</td><td>5.526591</td><td>13.44674</td></tr>\n",
       "\t<tr><td>GTEX-13N11-1126-SM-5KM41</td><td>9.278404</td><td>7.911170</td><td>10.114966</td><td>15.814109</td><td>9.385488</td><td> 9.189995</td><td>4.990444</td><td>7.190144</td><td>6.650881</td><td>⋯</td><td>11.78400</td><td>8.474505</td><td>10.253858</td><td>13.17389</td><td>9.593789</td><td>6.236732</td><td>3.586865</td><td>11.939159</td><td>6.690134</td><td>14.10837</td></tr>\n",
       "\t<tr><td>GTEX-RTLS-2426-SM-46MUO </td><td>8.187460</td><td>8.361972</td><td> 9.754473</td><td> 8.871503</td><td>5.484139</td><td>11.430048</td><td>4.697911</td><td>5.256237</td><td>7.329749</td><td>⋯</td><td>11.85426</td><td>6.890333</td><td> 9.881287</td><td>11.85601</td><td>8.597905</td><td>5.535091</td><td>3.586865</td><td> 9.319952</td><td>7.495292</td><td>13.38047</td></tr>\n",
       "\t<tr><td>GTEX-ZP4G-0726-SM-4WWF2 </td><td>8.792995</td><td>9.741767</td><td> 9.638398</td><td>15.468258</td><td>5.487284</td><td>12.185254</td><td>6.279104</td><td>4.149321</td><td>6.982618</td><td>⋯</td><td>10.44837</td><td>8.369060</td><td> 9.528850</td><td>13.01616</td><td>8.968487</td><td>6.279104</td><td>3.985832</td><td>11.067682</td><td>5.941299</td><td>15.23562</td></tr>\n",
       "\t<tr><td>GTEX-WEY5-0726-SM-4LMID </td><td>9.564547</td><td>9.226092</td><td> 9.233075</td><td>14.770415</td><td>5.406350</td><td>12.325556</td><td>4.953755</td><td>3.586865</td><td>6.779393</td><td>⋯</td><td> 9.91643</td><td>8.901689</td><td>10.012876</td><td>12.74452</td><td>8.567741</td><td>5.557855</td><td>3.586865</td><td>10.232552</td><td>7.357694</td><td>14.66298</td></tr>\n",
       "</tbody>\n",
       "</table>\n"
      ],
      "text/latex": [
       "A tibble: 6 × 1009\n",
       "\\begin{tabular}{lllllllllllllllllllll}\n",
       " sample\\_name & PGF & TIMP4 & C1QTNF6 & TNC & PRL & OGN & C1QL3 & FGB & NDNF & ⋯ & PIK3IP1 & C1QTNF2 & PCSK5 & ANXA1 & HGF & VWA2 & FGF3 & POSTN & NTF3 & S100A6\\\\\n",
       " <chr> & <dbl> & <dbl> & <dbl> & <dbl> & <dbl> & <dbl> & <dbl> & <dbl> & <dbl> & ⋯ & <dbl> & <dbl> & <dbl> & <dbl> & <dbl> & <dbl> & <dbl> & <dbl> & <dbl> & <dbl>\\\\\n",
       "\\hline\n",
       "\t GTEX-T6MO-1526-SM-4DM57  & 8.879329 & 9.005961 &  9.673245 & 14.523969 & 8.638020 & 12.013160 & 5.560305 & 4.100968 & 6.997296 & ⋯ & 11.70869 & 8.907417 &  9.731991 & 13.25319 & 8.515582 & 5.144458 & 3.586865 & 12.412159 & 7.984279 & 14.72407\\\\\n",
       "\t GTEX-11P81-1626-SM-5BC52 & 7.434462 & 5.660309 &  9.462604 & 15.208986 & 7.422681 & 12.713526 & 5.526591 & 5.742299 & 7.536329 & ⋯ & 11.91527 & 7.503173 &  9.370995 & 13.07284 & 9.795993 & 6.261985 & 3.586865 & 11.534521 & 5.526591 & 13.44674\\\\\n",
       "\t GTEX-13N11-1126-SM-5KM41 & 9.278404 & 7.911170 & 10.114966 & 15.814109 & 9.385488 &  9.189995 & 4.990444 & 7.190144 & 6.650881 & ⋯ & 11.78400 & 8.474505 & 10.253858 & 13.17389 & 9.593789 & 6.236732 & 3.586865 & 11.939159 & 6.690134 & 14.10837\\\\\n",
       "\t GTEX-RTLS-2426-SM-46MUO  & 8.187460 & 8.361972 &  9.754473 &  8.871503 & 5.484139 & 11.430048 & 4.697911 & 5.256237 & 7.329749 & ⋯ & 11.85426 & 6.890333 &  9.881287 & 11.85601 & 8.597905 & 5.535091 & 3.586865 &  9.319952 & 7.495292 & 13.38047\\\\\n",
       "\t GTEX-ZP4G-0726-SM-4WWF2  & 8.792995 & 9.741767 &  9.638398 & 15.468258 & 5.487284 & 12.185254 & 6.279104 & 4.149321 & 6.982618 & ⋯ & 10.44837 & 8.369060 &  9.528850 & 13.01616 & 8.968487 & 6.279104 & 3.985832 & 11.067682 & 5.941299 & 15.23562\\\\\n",
       "\t GTEX-WEY5-0726-SM-4LMID  & 9.564547 & 9.226092 &  9.233075 & 14.770415 & 5.406350 & 12.325556 & 4.953755 & 3.586865 & 6.779393 & ⋯ &  9.91643 & 8.901689 & 10.012876 & 12.74452 & 8.567741 & 5.557855 & 3.586865 & 10.232552 & 7.357694 & 14.66298\\\\\n",
       "\\end{tabular}\n"
      ],
      "text/markdown": [
       "\n",
       "A tibble: 6 × 1009\n",
       "\n",
       "| sample_name &lt;chr&gt; | PGF &lt;dbl&gt; | TIMP4 &lt;dbl&gt; | C1QTNF6 &lt;dbl&gt; | TNC &lt;dbl&gt; | PRL &lt;dbl&gt; | OGN &lt;dbl&gt; | C1QL3 &lt;dbl&gt; | FGB &lt;dbl&gt; | NDNF &lt;dbl&gt; | ⋯ ⋯ | PIK3IP1 &lt;dbl&gt; | C1QTNF2 &lt;dbl&gt; | PCSK5 &lt;dbl&gt; | ANXA1 &lt;dbl&gt; | HGF &lt;dbl&gt; | VWA2 &lt;dbl&gt; | FGF3 &lt;dbl&gt; | POSTN &lt;dbl&gt; | NTF3 &lt;dbl&gt; | S100A6 &lt;dbl&gt; |\n",
       "|---|---|---|---|---|---|---|---|---|---|---|---|---|---|---|---|---|---|---|---|---|\n",
       "| GTEX-T6MO-1526-SM-4DM57  | 8.879329 | 9.005961 |  9.673245 | 14.523969 | 8.638020 | 12.013160 | 5.560305 | 4.100968 | 6.997296 | ⋯ | 11.70869 | 8.907417 |  9.731991 | 13.25319 | 8.515582 | 5.144458 | 3.586865 | 12.412159 | 7.984279 | 14.72407 |\n",
       "| GTEX-11P81-1626-SM-5BC52 | 7.434462 | 5.660309 |  9.462604 | 15.208986 | 7.422681 | 12.713526 | 5.526591 | 5.742299 | 7.536329 | ⋯ | 11.91527 | 7.503173 |  9.370995 | 13.07284 | 9.795993 | 6.261985 | 3.586865 | 11.534521 | 5.526591 | 13.44674 |\n",
       "| GTEX-13N11-1126-SM-5KM41 | 9.278404 | 7.911170 | 10.114966 | 15.814109 | 9.385488 |  9.189995 | 4.990444 | 7.190144 | 6.650881 | ⋯ | 11.78400 | 8.474505 | 10.253858 | 13.17389 | 9.593789 | 6.236732 | 3.586865 | 11.939159 | 6.690134 | 14.10837 |\n",
       "| GTEX-RTLS-2426-SM-46MUO  | 8.187460 | 8.361972 |  9.754473 |  8.871503 | 5.484139 | 11.430048 | 4.697911 | 5.256237 | 7.329749 | ⋯ | 11.85426 | 6.890333 |  9.881287 | 11.85601 | 8.597905 | 5.535091 | 3.586865 |  9.319952 | 7.495292 | 13.38047 |\n",
       "| GTEX-ZP4G-0726-SM-4WWF2  | 8.792995 | 9.741767 |  9.638398 | 15.468258 | 5.487284 | 12.185254 | 6.279104 | 4.149321 | 6.982618 | ⋯ | 10.44837 | 8.369060 |  9.528850 | 13.01616 | 8.968487 | 6.279104 | 3.985832 | 11.067682 | 5.941299 | 15.23562 |\n",
       "| GTEX-WEY5-0726-SM-4LMID  | 9.564547 | 9.226092 |  9.233075 | 14.770415 | 5.406350 | 12.325556 | 4.953755 | 3.586865 | 6.779393 | ⋯ |  9.91643 | 8.901689 | 10.012876 | 12.74452 | 8.567741 | 5.557855 | 3.586865 | 10.232552 | 7.357694 | 14.66298 |\n",
       "\n"
      ],
      "text/plain": [
       "  sample_name              PGF      TIMP4    C1QTNF6   TNC       PRL     \n",
       "1 GTEX-T6MO-1526-SM-4DM57  8.879329 9.005961  9.673245 14.523969 8.638020\n",
       "2 GTEX-11P81-1626-SM-5BC52 7.434462 5.660309  9.462604 15.208986 7.422681\n",
       "3 GTEX-13N11-1126-SM-5KM41 9.278404 7.911170 10.114966 15.814109 9.385488\n",
       "4 GTEX-RTLS-2426-SM-46MUO  8.187460 8.361972  9.754473  8.871503 5.484139\n",
       "5 GTEX-ZP4G-0726-SM-4WWF2  8.792995 9.741767  9.638398 15.468258 5.487284\n",
       "6 GTEX-WEY5-0726-SM-4LMID  9.564547 9.226092  9.233075 14.770415 5.406350\n",
       "  OGN       C1QL3    FGB      NDNF     ⋯ PIK3IP1  C1QTNF2  PCSK5     ANXA1   \n",
       "1 12.013160 5.560305 4.100968 6.997296 ⋯ 11.70869 8.907417  9.731991 13.25319\n",
       "2 12.713526 5.526591 5.742299 7.536329 ⋯ 11.91527 7.503173  9.370995 13.07284\n",
       "3  9.189995 4.990444 7.190144 6.650881 ⋯ 11.78400 8.474505 10.253858 13.17389\n",
       "4 11.430048 4.697911 5.256237 7.329749 ⋯ 11.85426 6.890333  9.881287 11.85601\n",
       "5 12.185254 6.279104 4.149321 6.982618 ⋯ 10.44837 8.369060  9.528850 13.01616\n",
       "6 12.325556 4.953755 3.586865 6.779393 ⋯  9.91643 8.901689 10.012876 12.74452\n",
       "  HGF      VWA2     FGF3     POSTN     NTF3     S100A6  \n",
       "1 8.515582 5.144458 3.586865 12.412159 7.984279 14.72407\n",
       "2 9.795993 6.261985 3.586865 11.534521 5.526591 13.44674\n",
       "3 9.593789 6.236732 3.586865 11.939159 6.690134 14.10837\n",
       "4 8.597905 5.535091 3.586865  9.319952 7.495292 13.38047\n",
       "5 8.968487 6.279104 3.985832 11.067682 5.941299 15.23562\n",
       "6 8.567741 5.557855 3.586865 10.232552 7.357694 14.66298"
      ]
     },
     "metadata": {},
     "output_type": "display_data"
    }
   ],
   "source": [
    "# Transpose counts (genes as columns, samples as rows)\n",
    "transpose_counts <- t(nm_counts_df[-1])\n",
    "colnames(transpose_counts) <- nm_counts_df$geneID\n",
    "transpose_counts_df <- transpose_counts %>%\n",
    "    as_tibble(rownames = \"sample_name\")\n",
    "head(transpose_counts_df)\n",
    "# Inner join \"coldata\" data frame with transposed counts data frame (by sample_name)\n",
    "joined_df <- coldata_df %>%\n",
    "    inner_join(transpose_counts_df, by = \"sample_name\")"
   ]
  },
  {
   "cell_type": "code",
   "execution_count": null,
   "metadata": {},
   "outputs": [],
   "source": [
    "df1 <- tibble(\"col\" = c)"
   ]
  }
 ],
 "metadata": {
  "kernelspec": {
   "display_name": "R",
   "language": "R",
   "name": "ir"
  },
  "language_info": {
   "codemirror_mode": "r",
   "file_extension": ".r",
   "mimetype": "text/x-r-source",
   "name": "R",
   "pygments_lexer": "r",
   "version": "3.6.3"
  }
 },
 "nbformat": 4,
 "nbformat_minor": 4
}
