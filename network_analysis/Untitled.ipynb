{
 "cells": [
  {
   "cell_type": "code",
   "execution_count": 1,
   "metadata": {},
   "outputs": [
    {
     "name": "stderr",
     "output_type": "stream",
     "text": [
      "── Attaching packages ─────────────────────────────────────── tidyverse 1.3.0 ──\n",
      "✔ ggplot2 3.3.2     ✔ purrr   0.3.4\n",
      "✔ tibble  3.0.3     ✔ dplyr   1.0.0\n",
      "✔ tidyr   1.1.0     ✔ stringr 1.4.0\n",
      "✔ readr   1.3.1     ✔ forcats 0.5.0\n",
      "── Conflicts ────────────────────────────────────────── tidyverse_conflicts() ──\n",
      "✖ dplyr::filter() masks stats::filter()\n",
      "✖ dplyr::lag()    masks stats::lag()\n"
     ]
    }
   ],
   "source": [
    "library(tidyverse)\n",
    "\n",
    "# Custom package\n",
    "library(rutils)"
   ]
  },
  {
   "cell_type": "code",
   "execution_count": 2,
   "metadata": {},
   "outputs": [],
   "source": [
    "dirs <- rutils::get_dev_directories(dev_paths_file = \"../dev_paths.txt\")\n",
    "unified_dsets <- c(\"unified_cervical_data\", \"unified_uterine_data\", \"unified_uterine_endometrial_data\")"
   ]
  },
  {
   "cell_type": "code",
   "execution_count": 3,
   "metadata": {},
   "outputs": [],
   "source": [
    "dset_idx <- 1"
   ]
  },
  {
   "cell_type": "code",
   "execution_count": 7,
   "metadata": {
    "collapsed": true,
    "jupyter": {
     "outputs_hidden": true
    }
   },
   "outputs": [
    {
     "name": "stderr",
     "output_type": "stream",
     "text": [
      "Parsed with column specification:\n",
      "cols(\n",
      "  .default = col_double(),\n",
      "  geneID = col_character(),\n",
      "  module = col_character()\n",
      ")\n",
      "See spec(...) for full column specifications.\n",
      "Parsed with column specification:\n",
      "cols(\n",
      "  module = col_character(),\n",
      "  figo_stage_1_cor = col_double(),\n",
      "  figo_stage_2_cor = col_double(),\n",
      "  figo_stage_3_cor = col_double(),\n",
      "  figo_stage_4_cor = col_double(),\n",
      "  figo_stage_1_pval = col_double(),\n",
      "  figo_stage_2_pval = col_double(),\n",
      "  figo_stage_3_pval = col_double(),\n",
      "  figo_stage_4_pval = col_double(),\n",
      "  figo_stage_1_qval = col_double(),\n",
      "  figo_stage_2_qval = col_double(),\n",
      "  figo_stage_3_qval = col_double(),\n",
      "  figo_stage_4_qval = col_double(),\n",
      "  vital_hr = col_double(),\n",
      "  vital_dev_cor = col_double(),\n",
      "  vital_pval = col_double(),\n",
      "  vital_qval = col_double()\n",
      ")\n"
     ]
    }
   ],
   "source": [
    "network_mm_gs_df <- read_tsv(paste0(dirs$analysis_dir, \"/network/\", unified_dsets[dset_idx], \"_gene_mm_gs.tsv\"))\n",
    "network_me_df <- read_tsv(paste0(dirs$analysis_dir, \"/network/\", unified_dsets[dset_idx], \"_eigengene_traits.tsv\"))"
   ]
  },
  {
   "cell_type": "code",
   "execution_count": 40,
   "metadata": {},
   "outputs": [],
   "source": [
    "figo_qval_cols <- colnames(network_me_df)[grepl(\"figo_stage_[1-4]_qval\", colnames(network_me_df))]\n",
    "figo_cor_cols <- colnames(network_me_df)[grepl(\"figo_stage_[1-4]_cor\", colnames(network_me_df))]"
   ]
  },
  {
   "cell_type": "code",
   "execution_count": 56,
   "metadata": {},
   "outputs": [
    {
     "data": {
      "text/html": [
       "<table>\n",
       "<caption>A tibble: 11 × 6</caption>\n",
       "<thead>\n",
       "\t<tr><th scope=col>module</th><th scope=col>vital_hr</th><th scope=col>vital_dev_cor</th><th scope=col>vital_qval</th><th scope=col>figo_min_qval</th><th scope=col>figo_max_cor</th></tr>\n",
       "\t<tr><th scope=col>&lt;chr&gt;</th><th scope=col>&lt;dbl&gt;</th><th scope=col>&lt;dbl&gt;</th><th scope=col>&lt;dbl&gt;</th><th scope=col>&lt;dbl&gt;</th><th scope=col>&lt;dbl&gt;</th></tr>\n",
       "</thead>\n",
       "<tbody>\n",
       "\t<tr><td>blue     </td><td>  2.15624060</td><td> 0.01356141</td><td>0.12346342</td><td>0.005510026</td><td>0.17758875</td></tr>\n",
       "\t<tr><td>green    </td><td>103.37668283</td><td> 0.15941527</td><td>0.02088322</td><td>0.056744419</td><td>0.07559666</td></tr>\n",
       "\t<tr><td>purple   </td><td>  3.95462325</td><td> 0.04156034</td><td>0.08841323</td><td>0.060634175</td><td>0.03496655</td></tr>\n",
       "\t<tr><td>magenta  </td><td> 23.58744985</td><td> 0.09962103</td><td>0.02461806</td><td>0.046715735</td><td>0.06873263</td></tr>\n",
       "\t<tr><td>pink     </td><td>  3.92842831</td><td> 0.04560698</td><td>0.08841323</td><td>0.014639555</td><td>0.18938737</td></tr>\n",
       "\t<tr><td>red      </td><td> 62.77720324</td><td> 0.10725144</td><td>0.02461806</td><td>0.020844859</td><td>0.16907783</td></tr>\n",
       "\t<tr><td>black    </td><td>  1.47212758</td><td> 0.02605610</td><td>0.13305060</td><td>0.060634175</td><td>0.12540488</td></tr>\n",
       "\t<tr><td>yellow   </td><td>  0.03187312</td><td>-0.14018536</td><td>0.02461806</td><td>0.090221728</td><td>0.05034115</td></tr>\n",
       "\t<tr><td>brown    </td><td>  0.06212839</td><td>-0.08916446</td><td>0.05713075</td><td>0.082646120</td><td>0.06300188</td></tr>\n",
       "\t<tr><td>turquoise</td><td> 30.82804826</td><td> 0.11808610</td><td>0.02461806</td><td>0.082646120</td><td>0.03236273</td></tr>\n",
       "\t<tr><td>grey     </td><td>  7.34386920</td><td> 0.05780400</td><td>0.06207389</td><td>0.082646120</td><td>0.07180907</td></tr>\n",
       "</tbody>\n",
       "</table>\n"
      ],
      "text/latex": [
       "A tibble: 11 × 6\n",
       "\\begin{tabular}{llllll}\n",
       " module & vital\\_hr & vital\\_dev\\_cor & vital\\_qval & figo\\_min\\_qval & figo\\_max\\_cor\\\\\n",
       " <chr> & <dbl> & <dbl> & <dbl> & <dbl> & <dbl>\\\\\n",
       "\\hline\n",
       "\t blue      &   2.15624060 &  0.01356141 & 0.12346342 & 0.005510026 & 0.17758875\\\\\n",
       "\t green     & 103.37668283 &  0.15941527 & 0.02088322 & 0.056744419 & 0.07559666\\\\\n",
       "\t purple    &   3.95462325 &  0.04156034 & 0.08841323 & 0.060634175 & 0.03496655\\\\\n",
       "\t magenta   &  23.58744985 &  0.09962103 & 0.02461806 & 0.046715735 & 0.06873263\\\\\n",
       "\t pink      &   3.92842831 &  0.04560698 & 0.08841323 & 0.014639555 & 0.18938737\\\\\n",
       "\t red       &  62.77720324 &  0.10725144 & 0.02461806 & 0.020844859 & 0.16907783\\\\\n",
       "\t black     &   1.47212758 &  0.02605610 & 0.13305060 & 0.060634175 & 0.12540488\\\\\n",
       "\t yellow    &   0.03187312 & -0.14018536 & 0.02461806 & 0.090221728 & 0.05034115\\\\\n",
       "\t brown     &   0.06212839 & -0.08916446 & 0.05713075 & 0.082646120 & 0.06300188\\\\\n",
       "\t turquoise &  30.82804826 &  0.11808610 & 0.02461806 & 0.082646120 & 0.03236273\\\\\n",
       "\t grey      &   7.34386920 &  0.05780400 & 0.06207389 & 0.082646120 & 0.07180907\\\\\n",
       "\\end{tabular}\n"
      ],
      "text/markdown": [
       "\n",
       "A tibble: 11 × 6\n",
       "\n",
       "| module &lt;chr&gt; | vital_hr &lt;dbl&gt; | vital_dev_cor &lt;dbl&gt; | vital_qval &lt;dbl&gt; | figo_min_qval &lt;dbl&gt; | figo_max_cor &lt;dbl&gt; |\n",
       "|---|---|---|---|---|---|\n",
       "| blue      |   2.15624060 |  0.01356141 | 0.12346342 | 0.005510026 | 0.17758875 |\n",
       "| green     | 103.37668283 |  0.15941527 | 0.02088322 | 0.056744419 | 0.07559666 |\n",
       "| purple    |   3.95462325 |  0.04156034 | 0.08841323 | 0.060634175 | 0.03496655 |\n",
       "| magenta   |  23.58744985 |  0.09962103 | 0.02461806 | 0.046715735 | 0.06873263 |\n",
       "| pink      |   3.92842831 |  0.04560698 | 0.08841323 | 0.014639555 | 0.18938737 |\n",
       "| red       |  62.77720324 |  0.10725144 | 0.02461806 | 0.020844859 | 0.16907783 |\n",
       "| black     |   1.47212758 |  0.02605610 | 0.13305060 | 0.060634175 | 0.12540488 |\n",
       "| yellow    |   0.03187312 | -0.14018536 | 0.02461806 | 0.090221728 | 0.05034115 |\n",
       "| brown     |   0.06212839 | -0.08916446 | 0.05713075 | 0.082646120 | 0.06300188 |\n",
       "| turquoise |  30.82804826 |  0.11808610 | 0.02461806 | 0.082646120 | 0.03236273 |\n",
       "| grey      |   7.34386920 |  0.05780400 | 0.06207389 | 0.082646120 | 0.07180907 |\n",
       "\n"
      ],
      "text/plain": [
       "   module    vital_hr     vital_dev_cor vital_qval figo_min_qval figo_max_cor\n",
       "1  blue        2.15624060  0.01356141   0.12346342 0.005510026   0.17758875  \n",
       "2  green     103.37668283  0.15941527   0.02088322 0.056744419   0.07559666  \n",
       "3  purple      3.95462325  0.04156034   0.08841323 0.060634175   0.03496655  \n",
       "4  magenta    23.58744985  0.09962103   0.02461806 0.046715735   0.06873263  \n",
       "5  pink        3.92842831  0.04560698   0.08841323 0.014639555   0.18938737  \n",
       "6  red        62.77720324  0.10725144   0.02461806 0.020844859   0.16907783  \n",
       "7  black       1.47212758  0.02605610   0.13305060 0.060634175   0.12540488  \n",
       "8  yellow      0.03187312 -0.14018536   0.02461806 0.090221728   0.05034115  \n",
       "9  brown       0.06212839 -0.08916446   0.05713075 0.082646120   0.06300188  \n",
       "10 turquoise  30.82804826  0.11808610   0.02461806 0.082646120   0.03236273  \n",
       "11 grey        7.34386920  0.05780400   0.06207389 0.082646120   0.07180907  "
      ]
     },
     "metadata": {},
     "output_type": "display_data"
    }
   ],
   "source": [
    "network_me_df %>%\n",
    "    dplyr::mutate(figo_min_qval = apply(network_me_df[figo_qval_cols], MARGIN = 1, FUN = min)) %>%\n",
    "    dplyr::mutate(figo_max_cor = apply(network_me_df[figo_cor_cols], MARGIN = 1, FUN = max)) %>%\n",
    "    dplyr::select(-matches(\"figo_stage_[0-9]\"), -vital_pval)"
   ]
  }
 ],
 "metadata": {
  "kernelspec": {
   "display_name": "R",
   "language": "R",
   "name": "ir"
  },
  "language_info": {
   "codemirror_mode": "r",
   "file_extension": ".r",
   "mimetype": "text/x-r-source",
   "name": "R",
   "pygments_lexer": "r",
   "version": "3.6.3"
  }
 },
 "nbformat": 4,
 "nbformat_minor": 4
}
