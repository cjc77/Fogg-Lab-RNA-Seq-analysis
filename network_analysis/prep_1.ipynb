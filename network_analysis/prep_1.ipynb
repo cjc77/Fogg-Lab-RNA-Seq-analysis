{
 "cells": [
  {
   "cell_type": "code",
   "execution_count": 1,
   "metadata": {},
   "outputs": [
    {
     "name": "stderr",
     "output_type": "stream",
     "text": [
      "-- \u001b[1mAttaching packages\u001b[22m -------------------------------------------------------------------------------------------------------------------------------------------------- tidyverse 1.3.0 --\n",
      "\n",
      "\u001b[32mv\u001b[39m \u001b[34mggplot2\u001b[39m 3.3.3     \u001b[32mv\u001b[39m \u001b[34mpurrr  \u001b[39m 0.3.4\n",
      "\u001b[32mv\u001b[39m \u001b[34mtibble \u001b[39m 3.0.6     \u001b[32mv\u001b[39m \u001b[34mdplyr  \u001b[39m 1.0.4\n",
      "\u001b[32mv\u001b[39m \u001b[34mtidyr  \u001b[39m 1.1.2     \u001b[32mv\u001b[39m \u001b[34mstringr\u001b[39m 1.4.0\n",
      "\u001b[32mv\u001b[39m \u001b[34mreadr  \u001b[39m 1.4.0     \u001b[32mv\u001b[39m \u001b[34mforcats\u001b[39m 0.5.1\n",
      "\n",
      "-- \u001b[1mConflicts\u001b[22m ----------------------------------------------------------------------------------------------------------------------------------------------------- tidyverse_conflicts() --\n",
      "\u001b[31mx\u001b[39m \u001b[34mdplyr\u001b[39m::\u001b[32mfilter()\u001b[39m masks \u001b[34mstats\u001b[39m::filter()\n",
      "\u001b[31mx\u001b[39m \u001b[34mdplyr\u001b[39m::\u001b[32mlag()\u001b[39m    masks \u001b[34mstats\u001b[39m::lag()\n",
      "\n",
      "Loading required package: dynamicTreeCut\n",
      "\n",
      "Loading required package: fastcluster\n",
      "\n",
      "\n",
      "Attaching package: 'fastcluster'\n",
      "\n",
      "\n",
      "The following object is masked from 'package:stats':\n",
      "\n",
      "    hclust\n",
      "\n",
      "\n",
      "\n",
      "\n",
      "\n",
      "Attaching package: 'WGCNA'\n",
      "\n",
      "\n",
      "The following object is masked from 'package:stats':\n",
      "\n",
      "    cor\n",
      "\n",
      "\n",
      "\n",
      "Attaching package: 'matrixStats'\n",
      "\n",
      "\n",
      "The following object is masked from 'package:dplyr':\n",
      "\n",
      "    count\n",
      "\n",
      "\n"
     ]
    }
   ],
   "source": [
    "library(tidyverse)\n",
    "library(WGCNA)\n",
    "library(matrixStats)\n",
    "\n",
    "# Custom package\n",
    "library(rutils)"
   ]
  },
  {
   "cell_type": "markdown",
   "metadata": {},
   "source": [
    "# Load data"
   ]
  },
  {
   "cell_type": "code",
   "execution_count": 2,
   "metadata": {},
   "outputs": [
    {
     "name": "stdout",
     "output_type": "stream",
     "text": [
      "Allowing parallel execution with up to 15 working processes.\n"
     ]
    }
   ],
   "source": [
    "options(stringsAsFactors = FALSE)\n",
    "enableWGCNAThreads()"
   ]
  },
  {
   "cell_type": "code",
   "execution_count": 3,
   "metadata": {},
   "outputs": [],
   "source": [
    "dirs <- rutils::get_dev_directories(dev_paths_file = \"../dev_paths.txt\")\n",
    "unified_dsets <- c(\"unified_cervical_data\", \"unified_uterine_data\", \"unified_uterine_endometrial_data\")\n",
    "\n",
    "event_code <- list(\"Alive\" = 0, \"Dead\" = 1)"
   ]
  },
  {
   "cell_type": "code",
   "execution_count": 4,
   "metadata": {},
   "outputs": [],
   "source": [
    "dset_idx <- 3"
   ]
  },
  {
   "cell_type": "markdown",
   "metadata": {},
   "source": [
    "## Simple data"
   ]
  },
  {
   "cell_type": "code",
   "execution_count": 5,
   "metadata": {},
   "outputs": [
    {
     "name": "stderr",
     "output_type": "stream",
     "text": [
      "\n",
      "\u001b[36m--\u001b[39m \u001b[1m\u001b[1mColumn specification\u001b[1m\u001b[22m \u001b[36m-------------------------------------------------------------------------------------------------------------------------------------------------------------------\u001b[39m\n",
      "cols(\n",
      "  sample_name = \u001b[31mcol_character()\u001b[39m,\n",
      "  condition = \u001b[31mcol_character()\u001b[39m,\n",
      "  data_source = \u001b[31mcol_character()\u001b[39m\n",
      ")\n",
      "\n",
      "\n",
      "\n",
      "\u001b[36m--\u001b[39m \u001b[1m\u001b[1mColumn specification\u001b[1m\u001b[22m \u001b[36m-------------------------------------------------------------------------------------------------------------------------------------------------------------------\u001b[39m\n",
      "cols(\n",
      "  .default = col_double(),\n",
      "  geneID = \u001b[31mcol_character()\u001b[39m\n",
      ")\n",
      "\u001b[36mi\u001b[39m Use \u001b[30m\u001b[47m\u001b[30m\u001b[47m`spec()`\u001b[47m\u001b[30m\u001b[49m\u001b[39m for the full column specifications.\n",
      "\n",
      "\n",
      "\n",
      "\u001b[36m--\u001b[39m \u001b[1m\u001b[1mColumn specification\u001b[1m\u001b[22m \u001b[36m-------------------------------------------------------------------------------------------------------------------------------------------------------------------\u001b[39m\n",
      "cols(\n",
      "  .default = col_double(),\n",
      "  geneID = \u001b[31mcol_character()\u001b[39m\n",
      ")\n",
      "\u001b[36mi\u001b[39m Use \u001b[30m\u001b[47m\u001b[30m\u001b[47m`spec()`\u001b[47m\u001b[30m\u001b[49m\u001b[39m for the full column specifications.\n",
      "\n",
      "\n"
     ]
    }
   ],
   "source": [
    "coldata_df <- read_tsv(paste0(dirs$data_dir, \"/\", unified_dsets[dset_idx], \"/coldata.tsv\"))\n",
    "m_counts_df <- read_tsv(paste0(dirs$data_dir, \"/\", unified_dsets[dset_idx], \"/matrisome_counts.tsv\"))\n",
    "nm_counts_df <- read_tsv(paste0(dirs$data_dir, \"/\", unified_dsets[dset_idx], \"/norm_matrisome_counts.tsv\"))"
   ]
  },
  {
   "cell_type": "markdown",
   "metadata": {},
   "source": [
    "## Manipulated data"
   ]
  },
  {
   "cell_type": "code",
   "execution_count": 6,
   "metadata": {},
   "outputs": [
    {
     "name": "stderr",
     "output_type": "stream",
     "text": [
      "\n",
      "\u001b[36m--\u001b[39m \u001b[1m\u001b[1mColumn specification\u001b[1m\u001b[22m \u001b[36m-------------------------------------------------------------------------------------------------------------------------------------------------------------------\u001b[39m\n",
      "cols(\n",
      "  sample_name = \u001b[31mcol_character()\u001b[39m,\n",
      "  vital_status = \u001b[31mcol_character()\u001b[39m,\n",
      "  survival_time = \u001b[32mcol_double()\u001b[39m,\n",
      "  figo_stage = \u001b[31mcol_character()\u001b[39m,\n",
      "  days_to_last_follow_up = \u001b[32mcol_double()\u001b[39m,\n",
      "  days_to_death = \u001b[32mcol_double()\u001b[39m,\n",
      "  age_at_diagnosis = \u001b[32mcol_double()\u001b[39m,\n",
      "  age_at_index = \u001b[32mcol_double()\u001b[39m,\n",
      "  height = \u001b[32mcol_double()\u001b[39m,\n",
      "  weight = \u001b[32mcol_double()\u001b[39m,\n",
      "  bmi = \u001b[32mcol_double()\u001b[39m,\n",
      "  race = \u001b[31mcol_character()\u001b[39m,\n",
      "  ethnicity = \u001b[31mcol_character()\u001b[39m\n",
      ")\n",
      "\n",
      "\n"
     ]
    }
   ],
   "source": [
    "tumor_clinical_data_df <- load_survival_df(paste0(dirs$data_dir, \"/\", unified_dsets[dset_idx], \"/survival_data.tsv\"), event_code) %>%\n",
    "    dplyr::select(sample_name, vital_status, survival_time, figo_stage) %>%\n",
    "    dplyr::filter(rowSums(is.na(.)) == 0) %>%\n",
    "    decode_figo_stage(to = \"n\") %>%\n",
    "    dplyr::mutate(figo_stage = as.character(figo_stage)) %>%\n",
    "    dplyr::bind_cols(to_one_hot(., col = \"figo_stage\")) %>%\n",
    "    dplyr::select(-figo_stage) %>%\n",
    "    # The following steps may not be necessary since FIGO stage should be NA for \n",
    "    # healthy samples, but including anyway\n",
    "    inner_join(coldata_df, by = \"sample_name\") %>%\n",
    "    dplyr::filter(condition == \"tumor\") %>%\n",
    "    dplyr::select(-c(condition, data_source))\n",
    "\n",
    "tumor_m_counts_df <- m_counts_df %>%\n",
    "    dplyr::select(one_of(\"geneID\", tumor_clinical_data_df$sample_name))\n",
    "\n",
    "tumor_nm_counts_df <- nm_counts_df %>%\n",
    "    dplyr::select(one_of(\"geneID\", tumor_clinical_data_df$sample_name))\n",
    "\n",
    "unexpressed_genes <- tumor_m_counts_df %>%\n",
    "    dplyr::filter(rowSums(.[, -1]) == 0) %>%\n",
    "    dplyr::pull(geneID)\n",
    "\n",
    "data_expr <- tumor_nm_counts_df %>%\n",
    "    transpose_df(\"geneID\", \"sample_name\") %>%\n",
    "    dplyr::select(-one_of(unexpressed_genes)) %>%\n",
    "    column_to_rownames(\"sample_name\")\n",
    "\n",
    "data_traits <- tumor_clinical_data_df %>%\n",
    "    column_to_rownames(\"sample_name\")"
   ]
  },
  {
   "cell_type": "code",
   "execution_count": 7,
   "metadata": {},
   "outputs": [],
   "source": [
    "dir.create(paste0(dirs$data_dir, \"/saved_network_objects/\"), showWarnings = FALSE)\n",
    "save(data_expr, data_traits, file = paste0(dirs$data_dir, \"/saved_network_objects/\", unified_dsets[dset_idx], \"_tumor_data.RData\"))"
   ]
  }
 ],
 "metadata": {
  "kernelspec": {
   "display_name": "R",
   "language": "R",
   "name": "ir"
  },
  "language_info": {
   "codemirror_mode": "r",
   "file_extension": ".r",
   "mimetype": "text/x-r-source",
   "name": "R",
   "pygments_lexer": "r",
   "version": "4.0.3"
  }
 },
 "nbformat": 4,
 "nbformat_minor": 4
}
