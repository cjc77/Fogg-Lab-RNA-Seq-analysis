{
 "cells": [
  {
   "cell_type": "code",
   "execution_count": 61,
   "id": "ceramic-april",
   "metadata": {},
   "outputs": [],
   "source": [
    "library(tidyverse)\n",
    "library(clusterProfiler)\n",
    "library(WGCNA)\n",
    "library(parallel)\n",
    "library(pheatmap)\n",
    "library(RColorBrewer)\n",
    "library(ggplotify)\n",
    "library(grid)\n",
    "\n",
    "# Custom package\n",
    "library(rutils)"
   ]
  },
  {
   "cell_type": "code",
   "execution_count": 62,
   "id": "mexican-fruit",
   "metadata": {},
   "outputs": [],
   "source": [
    "dirs <- rutils::get_dev_directories(dev_paths_file = \"../dev_paths.txt\")\n",
    "unified_dsets <- c(\"unified_cervical_data\", \"unified_uterine_data\", \"unified_uterine_endometrial_data\")\n",
    "matrisome_path <- paste0(dirs$data_dir, \"/matrisome/matrisome_hs_masterlist.tsv\")\n",
    "\n",
    "event_code <- list(\"Alive\" = 0, \"Dead\" = 1)"
   ]
  },
  {
   "cell_type": "code",
   "execution_count": 63,
   "id": "declared-listening",
   "metadata": {},
   "outputs": [],
   "source": [
    "dset_idx <- 1"
   ]
  },
  {
   "cell_type": "code",
   "execution_count": 64,
   "id": "adaptive-english",
   "metadata": {},
   "outputs": [],
   "source": [
    "lnames <- load(file = paste0(dirs$data_dir, \"/saved_network_objects/\", unified_dsets[dset_idx], \"_tumor_data.RData\"))\n",
    "lnames <- load(file = paste0(dirs$data_dir, \"/saved_network_objects/\", unified_dsets[dset_idx], \"_tumor_network.RData\"))"
   ]
  },
  {
   "cell_type": "code",
   "execution_count": 65,
   "id": "regional-chair",
   "metadata": {},
   "outputs": [],
   "source": [
    "# Subtract 1 from diagonal of TOM (so we don't count self-TOM)\n",
    "tom_summary_df <- tibble(geneID = colnames(data_expr), tom_conn = rowSums(tom - diag(1, nrow(tom), ncol(tom)))) %>%\n",
    "    arrange(desc(tom_conn))\n",
    "mean(tom_summary_df$tom_conn)\n",
    "quantile(tom_summary_df$tom_conn)"
   ]
  },
  {
   "cell_type": "code",
   "execution_count": null,
   "id": "sticky-championship",
   "metadata": {},
   "outputs": [],
   "source": []
  }
 ],
 "metadata": {
  "kernelspec": {
   "display_name": "R",
   "language": "R",
   "name": "ir"
  },
  "language_info": {
   "codemirror_mode": "r",
   "file_extension": ".r",
   "mimetype": "text/x-r-source",
   "name": "R",
   "pygments_lexer": "r",
   "version": "4.0.3"
  }
 },
 "nbformat": 4,
 "nbformat_minor": 5
}
