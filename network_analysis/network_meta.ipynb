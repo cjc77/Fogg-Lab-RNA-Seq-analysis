{
 "cells": [
  {
   "cell_type": "code",
   "execution_count": 61,
   "id": "thousand-reaction",
   "metadata": {},
   "outputs": [],
   "source": [
    "library(tidyverse)\n",
    "library(clusterProfiler)\n",
    "library(WGCNA)\n",
    "library(parallel)\n",
    "library(pheatmap)\n",
    "library(RColorBrewer)\n",
    "library(ggplotify)\n",
    "library(grid)\n",
    "\n",
    "# Custom package\n",
    "library(rutils)"
   ]
  },
  {
   "cell_type": "code",
   "execution_count": 62,
   "id": "annoying-mouth",
   "metadata": {},
   "outputs": [],
   "source": [
    "dirs <- rutils::get_dev_directories(dev_paths_file = \"../dev_paths.txt\")\n",
    "unified_dsets <- c(\"unified_cervical_data\", \"unified_uterine_data\", \"unified_uterine_endometrial_data\")\n",
    "matrisome_path <- paste0(dirs$data_dir, \"/matrisome/matrisome_hs_masterlist.tsv\")\n",
    "\n",
    "event_code <- list(\"Alive\" = 0, \"Dead\" = 1)"
   ]
  },
  {
   "cell_type": "code",
   "execution_count": 63,
   "id": "worse-senegal",
   "metadata": {},
   "outputs": [],
   "source": [
    "dset_idx <- 1"
   ]
  },
  {
   "cell_type": "code",
   "execution_count": 64,
   "id": "homeless-position",
   "metadata": {},
   "outputs": [],
   "source": [
    "lnames <- load(file = paste0(dirs$data_dir, \"/saved_network_objects/\", unified_dsets[dset_idx], \"_tumor_data.RData\"))\n",
    "lnames <- load(file = paste0(dirs$data_dir, \"/saved_network_objects/\", unified_dsets[dset_idx], \"_tumor_network.RData\"))"
   ]
  },
  {
   "cell_type": "code",
   "execution_count": 65,
   "id": "powerful-supervision",
   "metadata": {},
   "outputs": [],
   "source": [
    "# Subtract 1 from diagonal of TOM (so we don't count self-TOM)\n",
    "tom_summary_df <- tibble(geneID = colnames(data_expr), tom_conn = rowSums(tom - diag(1, nrow(tom), ncol(tom)))) %>%\n",
    "    arrange(desc(tom_conn))\n",
    "mean(tom_summary_df$tom_conn)\n",
    "quantile(tom_summary_df$tom_conn)"
   ]
  },
  {
   "cell_type": "code",
   "execution_count": 66,
   "id": "negative-howard",
   "metadata": {},
   "outputs": [
    {
     "data": {
      "text/html": [
       "16.3867467107877"
      ],
      "text/latex": [
       "16.3867467107877"
      ],
      "text/markdown": [
       "16.3867467107877"
      ],
      "text/plain": [
       "[1] 16.38675"
      ]
     },
     "metadata": {},
     "output_type": "display_data"
    },
    {
     "data": {
      "text/html": [
       "<style>\n",
       ".dl-inline {width: auto; margin:0; padding: 0}\n",
       ".dl-inline>dt, .dl-inline>dd {float: none; width: auto; display: inline-block}\n",
       ".dl-inline>dt::after {content: \":\\0020\"; padding-right: .5ex}\n",
       ".dl-inline>dt:not(:first-of-type) {padding-left: .5ex}\n",
       "</style><dl class=dl-inline><dt>0%</dt><dd>1.56906363488154</dd><dt>25%</dt><dd>8.31333340949909</dd><dt>50%</dt><dd>12.7985561042827</dd><dt>75%</dt><dd>20.525808520527</dd><dt>100%</dt><dd>72.4299278680013</dd></dl>\n"
      ],
      "text/latex": [
       "\\begin{description*}\n",
       "\\item[0\\textbackslash{}\\%] 1.56906363488154\n",
       "\\item[25\\textbackslash{}\\%] 8.31333340949909\n",
       "\\item[50\\textbackslash{}\\%] 12.7985561042827\n",
       "\\item[75\\textbackslash{}\\%] 20.525808520527\n",
       "\\item[100\\textbackslash{}\\%] 72.4299278680013\n",
       "\\end{description*}\n"
      ],
      "text/markdown": [
       "0%\n",
       ":   1.5690636348815425%\n",
       ":   8.3133334094990950%\n",
       ":   12.798556104282775%\n",
       ":   20.525808520527100%\n",
       ":   72.4299278680013\n",
       "\n"
      ],
      "text/plain": [
       "       0%       25%       50%       75%      100% \n",
       " 1.569064  8.313333 12.798556 20.525809 72.429928 "
      ]
     },
     "metadata": {},
     "output_type": "display_data"
    }
   ],
   "source": []
  },
  {
   "cell_type": "code",
   "execution_count": null,
   "id": "favorite-calibration",
   "metadata": {},
   "outputs": [],
   "source": []
  }
 ],
 "metadata": {
  "kernelspec": {
   "display_name": "R",
   "language": "R",
   "name": "ir"
  },
  "language_info": {
   "codemirror_mode": "r",
   "file_extension": ".r",
   "mimetype": "text/x-r-source",
   "name": "R",
   "pygments_lexer": "r",
   "version": "4.0.3"
  }
 },
 "nbformat": 4,
 "nbformat_minor": 5
}
