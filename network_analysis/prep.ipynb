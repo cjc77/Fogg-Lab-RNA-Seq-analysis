{
 "cells": [
  {
   "cell_type": "code",
   "execution_count": 8,
   "metadata": {},
   "outputs": [],
   "source": [
    "library(tidyverse)\n",
    "library(WGCNA)\n",
    "library(cowplot)\n",
    "library(matrixStats)\n",
    "\n",
    "# Custom package\n",
    "library(rutils)"
   ]
  },
  {
   "cell_type": "markdown",
   "metadata": {},
   "source": [
    "# Load data"
   ]
  },
  {
   "cell_type": "code",
   "execution_count": 9,
   "metadata": {},
   "outputs": [
    {
     "name": "stdout",
     "output_type": "stream",
     "text": [
      "Allowing parallel execution with up to 15 working processes.\n"
     ]
    }
   ],
   "source": [
    "options(stringsAsFactors = FALSE)\n",
    "enableWGCNAThreads()"
   ]
  },
  {
   "cell_type": "code",
   "execution_count": 10,
   "metadata": {},
   "outputs": [],
   "source": [
    "dirs <- rutils::get_dev_directories(dev_paths_file = \"../dev_paths.txt\")\n",
    "unified_dsets <- c(\"unified_cervical_data\", \"unified_uterine_data\", \"unified_uterine_endometrial_data\")\n",
    "\n",
    "event_code <- list(\"Alive\" = 0, \"Dead\" = 1)"
   ]
  },
  {
   "cell_type": "code",
   "execution_count": 11,
   "metadata": {},
   "outputs": [],
   "source": [
    "dset_idx <- 3"
   ]
  },
  {
   "cell_type": "markdown",
   "metadata": {},
   "source": [
    "## Simple data"
   ]
  },
  {
   "cell_type": "code",
   "execution_count": 12,
   "metadata": {},
   "outputs": [
    {
     "name": "stderr",
     "output_type": "stream",
     "text": [
      "Parsed with column specification:\n",
      "cols(\n",
      "  sample_name = col_character(),\n",
      "  condition = col_character(),\n",
      "  data_source = col_character()\n",
      ")\n",
      "Parsed with column specification:\n",
      "cols(\n",
      "  .default = col_double(),\n",
      "  geneID = col_character()\n",
      ")\n",
      "See spec(...) for full column specifications.\n",
      "Parsed with column specification:\n",
      "cols(\n",
      "  .default = col_double(),\n",
      "  geneID = col_character()\n",
      ")\n",
      "See spec(...) for full column specifications.\n"
     ]
    }
   ],
   "source": [
    "coldata_df <- read_tsv(paste0(dirs$data_dir, \"/\", unified_dsets[dset_idx], \"/coldata.tsv\"))\n",
    "m_counts_df <- read_tsv(paste0(dirs$data_dir, \"/\", unified_dsets[dset_idx], \"/matrisome_counts.tsv\"))\n",
    "nm_counts_df <- read_tsv(paste0(dirs$data_dir, \"/\", unified_dsets[dset_idx], \"/norm_matrisome_counts.tsv\"))"
   ]
  },
  {
   "cell_type": "markdown",
   "metadata": {},
   "source": [
    "## Manipulated data"
   ]
  },
  {
   "cell_type": "code",
   "execution_count": 13,
   "metadata": {},
   "outputs": [
    {
     "name": "stderr",
     "output_type": "stream",
     "text": [
      "Parsed with column specification:\n",
      "cols(\n",
      "  sample_name = col_character(),\n",
      "  vital_status = col_character(),\n",
      "  survival_time = col_double(),\n",
      "  figo_stage = col_character(),\n",
      "  days_to_last_follow_up = col_double(),\n",
      "  days_to_death = col_double(),\n",
      "  age_at_diagnosis = col_double(),\n",
      "  age_at_index = col_double(),\n",
      "  height = col_double(),\n",
      "  weight = col_double(),\n",
      "  bmi = col_double(),\n",
      "  race = col_character(),\n",
      "  ethnicity = col_character()\n",
      ")\n"
     ]
    }
   ],
   "source": [
    "tumor_clinical_data_df <- load_survival_df(paste0(dirs$data_dir, \"/\", unified_dsets[dset_idx], \"/survival_data.tsv\"), event_code) %>%\n",
    "    dplyr::select(sample_name, vital_status, survival_time, figo_stage) %>%\n",
    "    dplyr::filter(rowSums(is.na(.)) == 0) %>%\n",
    "    decode_figo_stage(to = \"n\") %>%\n",
    "    dplyr::mutate(figo_stage = as.character(figo_stage)) %>%\n",
    "    dplyr::bind_cols(to_one_hot(., col = \"figo_stage\")) %>%\n",
    "    dplyr::select(-figo_stage) %>%\n",
    "    # The following steps may not be necessary since FIGO stage should be NA for \n",
    "    # healthy samples, but including anyway\n",
    "    inner_join(coldata_df, by = \"sample_name\") %>%\n",
    "    dplyr::filter(condition == \"tumor\") %>%\n",
    "    dplyr::select(-c(condition, data_source))\n",
    "\n",
    "tumor_m_counts_df <- m_counts_df %>%\n",
    "    dplyr::select(one_of(\"geneID\", tumor_clinical_data_df$sample_name))\n",
    "\n",
    "tumor_nm_counts_df <- nm_counts_df %>%\n",
    "    dplyr::select(one_of(\"geneID\", tumor_clinical_data_df$sample_name))\n",
    "\n",
    "unexpressed_genes <- tumor_m_counts_df %>%\n",
    "    dplyr::filter(rowSums(.[, -1]) == 0) %>%\n",
    "    dplyr::pull(geneID)\n",
    "\n",
    "data_expr <- tumor_nm_counts_df %>%\n",
    "    transpose_df(\"geneID\", \"sample_name\") %>%\n",
    "    dplyr::select(-one_of(unexpressed_genes)) %>%\n",
    "    column_to_rownames(\"sample_name\")\n",
    "\n",
    "data_traits <- tumor_clinical_data_df %>%\n",
    "    column_to_rownames(\"sample_name\")"
   ]
  },
  {
   "cell_type": "code",
   "execution_count": 14,
   "metadata": {},
   "outputs": [],
   "source": [
    "dir.create(paste0(dirs$data_dir, \"/saved_network_objects/\"), showWarnings = FALSE)\n",
    "save(data_expr, data_traits, file = paste0(dirs$data_dir, \"/saved_network_objects/\", unified_dsets[dset_idx], \"_tumor_data.RData\"))"
   ]
  }
 ],
 "metadata": {
  "kernelspec": {
   "display_name": "R",
   "language": "R",
   "name": "ir"
  },
  "language_info": {
   "codemirror_mode": "r",
   "file_extension": ".r",
   "mimetype": "text/x-r-source",
   "name": "R",
   "pygments_lexer": "r",
   "version": "3.6.3"
  }
 },
 "nbformat": 4,
 "nbformat_minor": 4
}
