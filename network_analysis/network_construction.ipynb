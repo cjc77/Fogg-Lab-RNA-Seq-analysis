{
 "cells": [
  {
   "cell_type": "code",
   "execution_count": 195,
   "metadata": {},
   "outputs": [],
   "source": [
    "library(tidyverse)\n",
    "library(WGCNA)\n",
    "library(cowplot)\n",
    "\n",
    "# Custom package\n",
    "library(rutils)"
   ]
  },
  {
   "cell_type": "code",
   "execution_count": 256,
   "metadata": {},
   "outputs": [],
   "source": [
    "dirs <- rutils::get_dev_directories(dev_paths_file = \"../dev_paths.txt\")\n",
    "projects <- c(\"TCGA-CESC\", \"TCGA-UCS\", \"TCGA-UCEC\", \"TCGA-OV\")\n",
    "unified_dsets <- c(\"unified_cervical_data\", \"unified_uterine_data\", \"unified_uterine_endometrial_data\")\n",
    "matrisome_path <- paste0(dirs$data_dir, \"/matrisome/matrisome_hs_masterlist.tsv\")"
   ]
  },
  {
   "cell_type": "code",
   "execution_count": 197,
   "metadata": {},
   "outputs": [],
   "source": [
    "dset_idx <- 1"
   ]
  },
  {
   "cell_type": "code",
   "execution_count": 273,
   "metadata": {},
   "outputs": [
    {
     "name": "stderr",
     "output_type": "stream",
     "text": [
      "Parsed with column specification:\n",
      "cols(\n",
      "  Division = col_character(),\n",
      "  Category = col_character(),\n",
      "  `Gene Symbol` = col_character(),\n",
      "  `Gene Name` = col_character(),\n",
      "  Synonyms = col_character(),\n",
      "  HGNC_IDs = col_double(),\n",
      "  `HGNC_IDs Links` = col_double(),\n",
      "  UniProt_IDs = col_character(),\n",
      "  Refseq_IDs = col_character(),\n",
      "  Orthology = col_character(),\n",
      "  Notes = col_character()\n",
      ")\n"
     ]
    }
   ],
   "source": [
    "filtered_matrisome_df <- load_matrisome_df(matrisome_path) %>%\n",
    "    dplyr::select(gene_symbol, division, category, gene_name, synonyms) %>%\n",
    "    dplyr::filter(gene_symbol %in% colnames(matrisome_norm_counts_df))    # Only include genes in dataset"
   ]
  },
  {
   "cell_type": "code",
   "execution_count": 198,
   "metadata": {},
   "outputs": [
    {
     "name": "stdout",
     "output_type": "stream",
     "text": [
      "Allowing parallel execution with up to 15 working processes.\n"
     ]
    }
   ],
   "source": [
    "enableWGCNAThreads()"
   ]
  },
  {
   "cell_type": "markdown",
   "metadata": {},
   "source": [
    "# Load data"
   ]
  },
  {
   "cell_type": "code",
   "execution_count": 199,
   "metadata": {},
   "outputs": [
    {
     "name": "stderr",
     "output_type": "stream",
     "text": [
      "Parsed with column specification:\n",
      "cols(\n",
      "  sample_name = col_character(),\n",
      "  condition = col_character(),\n",
      "  data_source = col_character()\n",
      ")\n",
      "Parsed with column specification:\n",
      "cols(\n",
      "  .default = col_double(),\n",
      "  geneID = col_character()\n",
      ")\n",
      "See spec(...) for full column specifications.\n"
     ]
    }
   ],
   "source": [
    "tumor_coldata_df <- read_tsv(paste0(dirs$data_dir, \"/\", unified_dsets[dset_idx], \"/coldata.tsv\")) %>%\n",
    "    dplyr::filter(condition == \"tumor\")\n",
    "matrisome_norm_counts_df <- read_tsv(paste0(dirs$data_dir, \"/\", unified_dsets[dset_idx], \"/norm_matrisome_counts.tsv\")) %>%\n",
    "    dplyr::select(one_of(c(\"geneID\", tumor_coldata_df$sample_name))) %>%\n",
    "    transpose_df(future_colnames_col = \"geneID\", previous_colnames_col = \"sample_name\")"
   ]
  },
  {
   "cell_type": "markdown",
   "metadata": {},
   "source": [
    "# Find soft thresholding power"
   ]
  },
  {
   "cell_type": "code",
   "execution_count": 200,
   "metadata": {},
   "outputs": [
    {
     "name": "stdout",
     "output_type": "stream",
     "text": [
      "   Power SFT.R.sq  slope truncated.R.sq  mean.k. median.k. max.k.\n",
      "1      1    0.526  1.470         0.4070 121.0000  1.19e+02 204.00\n",
      "2      2    0.480 -0.917         0.9760  27.2000  2.30e+01  84.70\n",
      "3      3    0.896 -1.520         0.9770   8.9500  5.87e+00  47.00\n",
      "4      4    0.898 -1.620         0.9250   3.7900  1.86e+00  30.10\n",
      "5      5    0.906 -1.580         0.9080   1.9000  6.86e-01  21.10\n",
      "6      6    0.904 -1.580         0.9140   1.0800  2.58e-01  15.50\n",
      "7      7    0.913 -1.500         0.9160   0.6660  1.06e-01  11.90\n",
      "8      8    0.267 -2.210         0.1070   0.4370  4.71e-02   9.30\n",
      "9      9    0.941 -1.420         0.9500   0.3020  2.24e-02   7.46\n",
      "10    10    0.925 -1.400         0.9230   0.2170  1.05e-02   6.10\n",
      "11    12    0.937 -1.360         0.9330   0.1220  2.36e-03   4.25\n",
      "12    14    0.229 -1.710         0.0131   0.0759  5.46e-04   3.10\n",
      "13    16    0.294 -1.880         0.1220   0.0508  1.50e-04   2.33\n",
      "14    18    0.896 -1.290         0.8670   0.0362  4.03e-05   1.98\n",
      "15    20    0.254 -2.090         0.0458   0.0271  1.06e-05   1.87\n"
     ]
    }
   ],
   "source": [
    "sft <- pickSoftThreshold(data = matrisome_norm_counts_df %>% column_to_rownames(\"sample_name\"), verbose = FALSE)"
   ]
  },
  {
   "cell_type": "code",
   "execution_count": 201,
   "metadata": {},
   "outputs": [
    {
     "data": {
      "text/html": [
       "<table>\n",
       "<caption>A tibble: 6 × 8</caption>\n",
       "<thead>\n",
       "\t<tr><th scope=col>power</th><th scope=col>sft_r_sq</th><th scope=col>slope</th><th scope=col>truncated_r_sq</th><th scope=col>mean_k</th><th scope=col>median_k</th><th scope=col>max_k</th><th scope=col>scale_free_topology</th></tr>\n",
       "\t<tr><th scope=col>&lt;dbl&gt;</th><th scope=col>&lt;dbl&gt;</th><th scope=col>&lt;dbl&gt;</th><th scope=col>&lt;dbl&gt;</th><th scope=col>&lt;dbl&gt;</th><th scope=col>&lt;dbl&gt;</th><th scope=col>&lt;dbl&gt;</th><th scope=col>&lt;dbl&gt;</th></tr>\n",
       "</thead>\n",
       "<tbody>\n",
       "\t<tr><td>1</td><td>0.5262761</td><td> 1.4721439</td><td>0.4070973</td><td>120.611123</td><td>119.1068624</td><td>204.06975</td><td>-0.5262761</td></tr>\n",
       "\t<tr><td>2</td><td>0.4804132</td><td>-0.9166779</td><td>0.9761398</td><td> 27.202508</td><td> 22.9775556</td><td> 84.73978</td><td> 0.4804132</td></tr>\n",
       "\t<tr><td>3</td><td>0.8963308</td><td>-1.5170361</td><td>0.9768931</td><td>  8.945140</td><td>  5.8725017</td><td> 47.02426</td><td> 0.8963308</td></tr>\n",
       "\t<tr><td>4</td><td>0.8984734</td><td>-1.6171535</td><td>0.9250584</td><td>  3.787101</td><td>  1.8580945</td><td> 30.07127</td><td> 0.8984734</td></tr>\n",
       "\t<tr><td>5</td><td>0.9057127</td><td>-1.5772666</td><td>0.9084639</td><td>  1.904427</td><td>  0.6861794</td><td> 21.08367</td><td> 0.9057127</td></tr>\n",
       "\t<tr><td>6</td><td>0.9035685</td><td>-1.5817367</td><td>0.9139415</td><td>  1.078940</td><td>  0.2579115</td><td> 15.52929</td><td> 0.9035685</td></tr>\n",
       "</tbody>\n",
       "</table>\n"
      ],
      "text/latex": [
       "A tibble: 6 × 8\n",
       "\\begin{tabular}{llllllll}\n",
       " power & sft\\_r\\_sq & slope & truncated\\_r\\_sq & mean\\_k & median\\_k & max\\_k & scale\\_free\\_topology\\\\\n",
       " <dbl> & <dbl> & <dbl> & <dbl> & <dbl> & <dbl> & <dbl> & <dbl>\\\\\n",
       "\\hline\n",
       "\t 1 & 0.5262761 &  1.4721439 & 0.4070973 & 120.611123 & 119.1068624 & 204.06975 & -0.5262761\\\\\n",
       "\t 2 & 0.4804132 & -0.9166779 & 0.9761398 &  27.202508 &  22.9775556 &  84.73978 &  0.4804132\\\\\n",
       "\t 3 & 0.8963308 & -1.5170361 & 0.9768931 &   8.945140 &   5.8725017 &  47.02426 &  0.8963308\\\\\n",
       "\t 4 & 0.8984734 & -1.6171535 & 0.9250584 &   3.787101 &   1.8580945 &  30.07127 &  0.8984734\\\\\n",
       "\t 5 & 0.9057127 & -1.5772666 & 0.9084639 &   1.904427 &   0.6861794 &  21.08367 &  0.9057127\\\\\n",
       "\t 6 & 0.9035685 & -1.5817367 & 0.9139415 &   1.078940 &   0.2579115 &  15.52929 &  0.9035685\\\\\n",
       "\\end{tabular}\n"
      ],
      "text/markdown": [
       "\n",
       "A tibble: 6 × 8\n",
       "\n",
       "| power &lt;dbl&gt; | sft_r_sq &lt;dbl&gt; | slope &lt;dbl&gt; | truncated_r_sq &lt;dbl&gt; | mean_k &lt;dbl&gt; | median_k &lt;dbl&gt; | max_k &lt;dbl&gt; | scale_free_topology &lt;dbl&gt; |\n",
       "|---|---|---|---|---|---|---|---|\n",
       "| 1 | 0.5262761 |  1.4721439 | 0.4070973 | 120.611123 | 119.1068624 | 204.06975 | -0.5262761 |\n",
       "| 2 | 0.4804132 | -0.9166779 | 0.9761398 |  27.202508 |  22.9775556 |  84.73978 |  0.4804132 |\n",
       "| 3 | 0.8963308 | -1.5170361 | 0.9768931 |   8.945140 |   5.8725017 |  47.02426 |  0.8963308 |\n",
       "| 4 | 0.8984734 | -1.6171535 | 0.9250584 |   3.787101 |   1.8580945 |  30.07127 |  0.8984734 |\n",
       "| 5 | 0.9057127 | -1.5772666 | 0.9084639 |   1.904427 |   0.6861794 |  21.08367 |  0.9057127 |\n",
       "| 6 | 0.9035685 | -1.5817367 | 0.9139415 |   1.078940 |   0.2579115 |  15.52929 |  0.9035685 |\n",
       "\n"
      ],
      "text/plain": [
       "  power sft_r_sq  slope      truncated_r_sq mean_k     median_k    max_k    \n",
       "1 1     0.5262761  1.4721439 0.4070973      120.611123 119.1068624 204.06975\n",
       "2 2     0.4804132 -0.9166779 0.9761398       27.202508  22.9775556  84.73978\n",
       "3 3     0.8963308 -1.5170361 0.9768931        8.945140   5.8725017  47.02426\n",
       "4 4     0.8984734 -1.6171535 0.9250584        3.787101   1.8580945  30.07127\n",
       "5 5     0.9057127 -1.5772666 0.9084639        1.904427   0.6861794  21.08367\n",
       "6 6     0.9035685 -1.5817367 0.9139415        1.078940   0.2579115  15.52929\n",
       "  scale_free_topology\n",
       "1 -0.5262761         \n",
       "2  0.4804132         \n",
       "3  0.8963308         \n",
       "4  0.8984734         \n",
       "5  0.9057127         \n",
       "6  0.9035685         "
      ]
     },
     "metadata": {},
     "output_type": "display_data"
    }
   ],
   "source": [
    "sft_df <- sft$fitIndices %>%\n",
    "    as_tibble() %>%\n",
    "    rename_with(function(c) { gsub(\"_$\", \"\", tolower(gsub(\"\\\\.\", \"_\", c))) }) %>%\n",
    "    dplyr::mutate(scale_free_topology = -sign(slope) * sft_r_sq)\n",
    "head(sft_df)"
   ]
  },
  {
   "cell_type": "markdown",
   "metadata": {},
   "source": [
    "## Visualize"
   ]
  },
  {
   "cell_type": "code",
   "execution_count": 202,
   "metadata": {
    "collapsed": true,
    "jupyter": {
     "outputs_hidden": true
    }
   },
   "outputs": [
    {
     "data": {
      "image/png": "[encoded data removed]",
      "text/plain": [
       "plot without title"
      ]
     },
     "metadata": {},
     "output_type": "display_data"
    },
    {
     "data": {
      "image/png": "[encoded data removed]",
      "text/plain": [
       "plot without title"
      ]
     },
     "metadata": {},
     "output_type": "display_data"
    }
   ],
   "source": [
    "# sft_df\n",
    "plt_1 <- ggplot(sft_df) +\n",
    "    geom_label(aes(x = power, y = scale_free_topology, label = power)) +\n",
    "    geom_hline(yintercept = 0.9, color = \"red\", linetype = \"dashed\") +\n",
    "    theme_bw()\n",
    "plt_2 <- ggplot(sft_df) +\n",
    "    geom_label(aes(x = power, y = mean_k, label = power)) +\n",
    "    theme_bw()\n",
    "# plot_grid(plt_1, plt_2, labels = c(\"A\", \"B\"), rows = 1, align=\"h\")\n",
    "plt_1\n",
    "plt_2"
   ]
  },
  {
   "cell_type": "markdown",
   "metadata": {},
   "source": [
    "## Pick soft thresholding power"
   ]
  },
  {
   "cell_type": "code",
   "execution_count": 225,
   "metadata": {},
   "outputs": [],
   "source": [
    "# Pick first power which yields close to 0.9 scale free topology\n",
    "thresh <- 0.9\n",
    "tol <- 1e-2\n",
    "\n",
    "soft_power <- sft_df %>%\n",
    "    dplyr::filter(abs(scale_free_topology - thresh) < tol) %>%\n",
    "    top_n(n = 1, wt = desc(power)) %>%\n",
    "    dplyr::pull(power)\n"
   ]
  },
  {
   "cell_type": "markdown",
   "metadata": {},
   "source": [
    "# Adjacency"
   ]
  },
  {
   "cell_type": "code",
   "execution_count": 242,
   "metadata": {},
   "outputs": [],
   "source": [
    "adj <- adjacency(\n",
    "    matrisome_norm_counts_df %>% column_to_rownames(\"sample_name\"), \n",
    "    power = soft_power, \n",
    "    corOptions = list(method = \"pearson\")\n",
    ")"
   ]
  },
  {
   "cell_type": "markdown",
   "metadata": {},
   "source": [
    "# Topological Overlap Matrix (TOM)"
   ]
  },
  {
   "cell_type": "code",
   "execution_count": 243,
   "metadata": {},
   "outputs": [
    {
     "name": "stdout",
     "output_type": "stream",
     "text": [
      "..connectivity..\n",
      "..matrix multiplication (system BLAS)..\n",
      "..normalization..\n",
      "..done.\n"
     ]
    }
   ],
   "source": [
    "tom <- TOMsimilarity(adj)\n",
    "diss_tom <- 1 - tom"
   ]
  },
  {
   "cell_type": "markdown",
   "metadata": {},
   "source": [
    "# Cluster on TOM"
   ]
  },
  {
   "cell_type": "code",
   "execution_count": 245,
   "metadata": {},
   "outputs": [],
   "source": [
    "gene_tree <- hclust(as.dist(diss_tom), method = \"average\")"
   ]
  },
  {
   "cell_type": "code",
   "execution_count": 281,
   "metadata": {},
   "outputs": [
    {
     "data": {
      "image/png": "[encoded data removed]",
      "text/plain": [
       "Plot with title “TOM dendrogram”"
      ]
     },
     "metadata": {},
     "output_type": "display_data"
    }
   ],
   "source": [
    "plot(gene_tree, labels = FALSE, xlab=\"\", sub=\"\", main = \"TOM dendrogram\")"
   ]
  },
  {
   "cell_type": "code",
   "execution_count": 300,
   "metadata": {},
   "outputs": [
    {
     "name": "stderr",
     "output_type": "stream",
     "text": [
      "`summarise()` ungrouping output (override with `.groups` argument)\n"
     ]
    },
    {
     "data": {
      "text/html": [
       "17.5"
      ],
      "text/latex": [
       "17.5"
      ],
      "text/markdown": [
       "17.5"
      ],
      "text/plain": [
       "[1] 17.5"
      ]
     },
     "metadata": {},
     "output_type": "display_data"
    }
   ],
   "source": [
    "# Set min. module size to 1/2 * min. matrisome category size\n",
    "min_module_size <- filtered_matrisome_df %>%\n",
    "    dplyr::group_by(category) %>%\n",
    "    dplyr::summarize(n = n()) %>%\n",
    "    top_n(n = 1, wt = desc(n)) %>%\n",
    "    dplyr::pull(n) %>%\n",
    "    (function(x) { x / 2 })\n",
    "\n",
    "min_module_size"
   ]
  },
  {
   "cell_type": "code",
   "execution_count": 363,
   "metadata": {},
   "outputs": [
    {
     "name": "stdout",
     "output_type": "stream",
     "text": [
      " ..cutHeight not given, setting it to 0.998  ===>  99% of the (truncated) height range in dendro.\n",
      " ..done.\n"
     ]
    },
    {
     "data": {
      "text/plain": [
       "dynamic_mods\n",
       "  0   1   2   3   4   5   6   7   8   9  10 \n",
       "  4 304 189 132 125  69  53  42  33  29  28 "
      ]
     },
     "metadata": {},
     "output_type": "display_data"
    }
   ],
   "source": [
    "dynamic_mods <- cutreeDynamic(\n",
    "    dendro = gene_tree, \n",
    "    distM = diss_tom, \n",
    "    deepSplit = TRUE, \n",
    "    pamRespectsDendro = FALSE, \n",
    "    minClusterSize = min_module_size\n",
    ")\n",
    "table(dynamic_mods)"
   ]
  },
  {
   "cell_type": "code",
   "execution_count": 364,
   "metadata": {},
   "outputs": [
    {
     "name": "stderr",
     "output_type": "stream",
     "text": [
      "`summarise()` regrouping output by 'cluster' (override with `.groups` argument)\n"
     ]
    },
    {
     "data": {
      "text/html": [
       "<table>\n",
       "<caption>A grouped_df: 59 × 3</caption>\n",
       "<thead>\n",
       "\t<tr><th scope=col>cluster</th><th scope=col>category</th><th scope=col>n</th></tr>\n",
       "\t<tr><th scope=col>&lt;dbl&gt;</th><th scope=col>&lt;chr&gt;</th><th scope=col>&lt;int&gt;</th></tr>\n",
       "</thead>\n",
       "<tbody>\n",
       "\t<tr><td> 0</td><td>ECM Glycoproteins      </td><td> 1</td></tr>\n",
       "\t<tr><td> 0</td><td>ECM-affiliated Proteins</td><td> 1</td></tr>\n",
       "\t<tr><td> 0</td><td>Secreted Factors       </td><td> 2</td></tr>\n",
       "\t<tr><td> 1</td><td>Collagens              </td><td>24</td></tr>\n",
       "\t<tr><td> 1</td><td>ECM Glycoproteins      </td><td>83</td></tr>\n",
       "\t<tr><td> 1</td><td>ECM Regulators         </td><td>68</td></tr>\n",
       "\t<tr><td> 1</td><td>ECM-affiliated Proteins</td><td>45</td></tr>\n",
       "\t<tr><td> 1</td><td>Proteoglycans          </td><td>15</td></tr>\n",
       "\t<tr><td> 1</td><td>Secreted Factors       </td><td>69</td></tr>\n",
       "\t<tr><td> 2</td><td>Collagens              </td><td> 5</td></tr>\n",
       "\t<tr><td> 2</td><td>ECM Glycoproteins      </td><td>20</td></tr>\n",
       "\t<tr><td> 2</td><td>ECM Regulators         </td><td>53</td></tr>\n",
       "\t<tr><td> 2</td><td>ECM-affiliated Proteins</td><td>27</td></tr>\n",
       "\t<tr><td> 2</td><td>Proteoglycans          </td><td> 3</td></tr>\n",
       "\t<tr><td> 2</td><td>Secreted Factors       </td><td>81</td></tr>\n",
       "\t<tr><td> 3</td><td>Collagens              </td><td> 3</td></tr>\n",
       "\t<tr><td> 3</td><td>ECM Glycoproteins      </td><td>40</td></tr>\n",
       "\t<tr><td> 3</td><td>ECM Regulators         </td><td>27</td></tr>\n",
       "\t<tr><td> 3</td><td>ECM-affiliated Proteins</td><td>16</td></tr>\n",
       "\t<tr><td> 3</td><td>Proteoglycans          </td><td> 8</td></tr>\n",
       "\t<tr><td> 3</td><td>Secreted Factors       </td><td>38</td></tr>\n",
       "\t<tr><td> 4</td><td>Collagens              </td><td> 1</td></tr>\n",
       "\t<tr><td> 4</td><td>ECM Glycoproteins      </td><td> 7</td></tr>\n",
       "\t<tr><td> 4</td><td>ECM Regulators         </td><td>21</td></tr>\n",
       "\t<tr><td> 4</td><td>ECM-affiliated Proteins</td><td>27</td></tr>\n",
       "\t<tr><td> 4</td><td>Proteoglycans          </td><td> 4</td></tr>\n",
       "\t<tr><td> 4</td><td>Secreted Factors       </td><td>65</td></tr>\n",
       "\t<tr><td> 5</td><td>Collagens              </td><td> 6</td></tr>\n",
       "\t<tr><td> 5</td><td>ECM Glycoproteins      </td><td>14</td></tr>\n",
       "\t<tr><td> 5</td><td>ECM Regulators         </td><td>16</td></tr>\n",
       "\t<tr><td> 5</td><td>ECM-affiliated Proteins</td><td> 3</td></tr>\n",
       "\t<tr><td> 5</td><td>Proteoglycans          </td><td> 1</td></tr>\n",
       "\t<tr><td> 5</td><td>Secreted Factors       </td><td>29</td></tr>\n",
       "\t<tr><td> 6</td><td>Collagens              </td><td> 2</td></tr>\n",
       "\t<tr><td> 6</td><td>ECM Glycoproteins      </td><td> 9</td></tr>\n",
       "\t<tr><td> 6</td><td>ECM Regulators         </td><td>13</td></tr>\n",
       "\t<tr><td> 6</td><td>ECM-affiliated Proteins</td><td>15</td></tr>\n",
       "\t<tr><td> 6</td><td>Secreted Factors       </td><td>14</td></tr>\n",
       "\t<tr><td> 7</td><td>Collagens              </td><td> 1</td></tr>\n",
       "\t<tr><td> 7</td><td>ECM Glycoproteins      </td><td> 8</td></tr>\n",
       "\t<tr><td> 7</td><td>ECM Regulators         </td><td> 8</td></tr>\n",
       "\t<tr><td> 7</td><td>ECM-affiliated Proteins</td><td> 4</td></tr>\n",
       "\t<tr><td> 7</td><td>Proteoglycans          </td><td> 1</td></tr>\n",
       "\t<tr><td> 7</td><td>Secreted Factors       </td><td>20</td></tr>\n",
       "\t<tr><td> 8</td><td>Collagens              </td><td> 1</td></tr>\n",
       "\t<tr><td> 8</td><td>ECM Glycoproteins      </td><td> 4</td></tr>\n",
       "\t<tr><td> 8</td><td>ECM Regulators         </td><td> 7</td></tr>\n",
       "\t<tr><td> 8</td><td>ECM-affiliated Proteins</td><td>14</td></tr>\n",
       "\t<tr><td> 8</td><td>Proteoglycans          </td><td> 2</td></tr>\n",
       "\t<tr><td> 8</td><td>Secreted Factors       </td><td> 5</td></tr>\n",
       "\t<tr><td> 9</td><td>ECM Glycoproteins      </td><td> 1</td></tr>\n",
       "\t<tr><td> 9</td><td>ECM Regulators         </td><td> 7</td></tr>\n",
       "\t<tr><td> 9</td><td>ECM-affiliated Proteins</td><td>10</td></tr>\n",
       "\t<tr><td> 9</td><td>Secreted Factors       </td><td>11</td></tr>\n",
       "\t<tr><td>10</td><td>ECM Glycoproteins      </td><td> 5</td></tr>\n",
       "\t<tr><td>10</td><td>ECM Regulators         </td><td>13</td></tr>\n",
       "\t<tr><td>10</td><td>ECM-affiliated Proteins</td><td> 6</td></tr>\n",
       "\t<tr><td>10</td><td>Proteoglycans          </td><td> 1</td></tr>\n",
       "\t<tr><td>10</td><td>Secreted Factors       </td><td> 3</td></tr>\n",
       "</tbody>\n",
       "</table>\n"
      ],
      "text/latex": [
       "A grouped\\_df: 59 × 3\n",
       "\\begin{tabular}{lll}\n",
       " cluster & category & n\\\\\n",
       " <dbl> & <chr> & <int>\\\\\n",
       "\\hline\n",
       "\t  0 & ECM Glycoproteins       &  1\\\\\n",
       "\t  0 & ECM-affiliated Proteins &  1\\\\\n",
       "\t  0 & Secreted Factors        &  2\\\\\n",
       "\t  1 & Collagens               & 24\\\\\n",
       "\t  1 & ECM Glycoproteins       & 83\\\\\n",
       "\t  1 & ECM Regulators          & 68\\\\\n",
       "\t  1 & ECM-affiliated Proteins & 45\\\\\n",
       "\t  1 & Proteoglycans           & 15\\\\\n",
       "\t  1 & Secreted Factors        & 69\\\\\n",
       "\t  2 & Collagens               &  5\\\\\n",
       "\t  2 & ECM Glycoproteins       & 20\\\\\n",
       "\t  2 & ECM Regulators          & 53\\\\\n",
       "\t  2 & ECM-affiliated Proteins & 27\\\\\n",
       "\t  2 & Proteoglycans           &  3\\\\\n",
       "\t  2 & Secreted Factors        & 81\\\\\n",
       "\t  3 & Collagens               &  3\\\\\n",
       "\t  3 & ECM Glycoproteins       & 40\\\\\n",
       "\t  3 & ECM Regulators          & 27\\\\\n",
       "\t  3 & ECM-affiliated Proteins & 16\\\\\n",
       "\t  3 & Proteoglycans           &  8\\\\\n",
       "\t  3 & Secreted Factors        & 38\\\\\n",
       "\t  4 & Collagens               &  1\\\\\n",
       "\t  4 & ECM Glycoproteins       &  7\\\\\n",
       "\t  4 & ECM Regulators          & 21\\\\\n",
       "\t  4 & ECM-affiliated Proteins & 27\\\\\n",
       "\t  4 & Proteoglycans           &  4\\\\\n",
       "\t  4 & Secreted Factors        & 65\\\\\n",
       "\t  5 & Collagens               &  6\\\\\n",
       "\t  5 & ECM Glycoproteins       & 14\\\\\n",
       "\t  5 & ECM Regulators          & 16\\\\\n",
       "\t  5 & ECM-affiliated Proteins &  3\\\\\n",
       "\t  5 & Proteoglycans           &  1\\\\\n",
       "\t  5 & Secreted Factors        & 29\\\\\n",
       "\t  6 & Collagens               &  2\\\\\n",
       "\t  6 & ECM Glycoproteins       &  9\\\\\n",
       "\t  6 & ECM Regulators          & 13\\\\\n",
       "\t  6 & ECM-affiliated Proteins & 15\\\\\n",
       "\t  6 & Secreted Factors        & 14\\\\\n",
       "\t  7 & Collagens               &  1\\\\\n",
       "\t  7 & ECM Glycoproteins       &  8\\\\\n",
       "\t  7 & ECM Regulators          &  8\\\\\n",
       "\t  7 & ECM-affiliated Proteins &  4\\\\\n",
       "\t  7 & Proteoglycans           &  1\\\\\n",
       "\t  7 & Secreted Factors        & 20\\\\\n",
       "\t  8 & Collagens               &  1\\\\\n",
       "\t  8 & ECM Glycoproteins       &  4\\\\\n",
       "\t  8 & ECM Regulators          &  7\\\\\n",
       "\t  8 & ECM-affiliated Proteins & 14\\\\\n",
       "\t  8 & Proteoglycans           &  2\\\\\n",
       "\t  8 & Secreted Factors        &  5\\\\\n",
       "\t  9 & ECM Glycoproteins       &  1\\\\\n",
       "\t  9 & ECM Regulators          &  7\\\\\n",
       "\t  9 & ECM-affiliated Proteins & 10\\\\\n",
       "\t  9 & Secreted Factors        & 11\\\\\n",
       "\t 10 & ECM Glycoproteins       &  5\\\\\n",
       "\t 10 & ECM Regulators          & 13\\\\\n",
       "\t 10 & ECM-affiliated Proteins &  6\\\\\n",
       "\t 10 & Proteoglycans           &  1\\\\\n",
       "\t 10 & Secreted Factors        &  3\\\\\n",
       "\\end{tabular}\n"
      ],
      "text/markdown": [
       "\n",
       "A grouped_df: 59 × 3\n",
       "\n",
       "| cluster &lt;dbl&gt; | category &lt;chr&gt; | n &lt;int&gt; |\n",
       "|---|---|---|\n",
       "|  0 | ECM Glycoproteins       |  1 |\n",
       "|  0 | ECM-affiliated Proteins |  1 |\n",
       "|  0 | Secreted Factors        |  2 |\n",
       "|  1 | Collagens               | 24 |\n",
       "|  1 | ECM Glycoproteins       | 83 |\n",
       "|  1 | ECM Regulators          | 68 |\n",
       "|  1 | ECM-affiliated Proteins | 45 |\n",
       "|  1 | Proteoglycans           | 15 |\n",
       "|  1 | Secreted Factors        | 69 |\n",
       "|  2 | Collagens               |  5 |\n",
       "|  2 | ECM Glycoproteins       | 20 |\n",
       "|  2 | ECM Regulators          | 53 |\n",
       "|  2 | ECM-affiliated Proteins | 27 |\n",
       "|  2 | Proteoglycans           |  3 |\n",
       "|  2 | Secreted Factors        | 81 |\n",
       "|  3 | Collagens               |  3 |\n",
       "|  3 | ECM Glycoproteins       | 40 |\n",
       "|  3 | ECM Regulators          | 27 |\n",
       "|  3 | ECM-affiliated Proteins | 16 |\n",
       "|  3 | Proteoglycans           |  8 |\n",
       "|  3 | Secreted Factors        | 38 |\n",
       "|  4 | Collagens               |  1 |\n",
       "|  4 | ECM Glycoproteins       |  7 |\n",
       "|  4 | ECM Regulators          | 21 |\n",
       "|  4 | ECM-affiliated Proteins | 27 |\n",
       "|  4 | Proteoglycans           |  4 |\n",
       "|  4 | Secreted Factors        | 65 |\n",
       "|  5 | Collagens               |  6 |\n",
       "|  5 | ECM Glycoproteins       | 14 |\n",
       "|  5 | ECM Regulators          | 16 |\n",
       "|  5 | ECM-affiliated Proteins |  3 |\n",
       "|  5 | Proteoglycans           |  1 |\n",
       "|  5 | Secreted Factors        | 29 |\n",
       "|  6 | Collagens               |  2 |\n",
       "|  6 | ECM Glycoproteins       |  9 |\n",
       "|  6 | ECM Regulators          | 13 |\n",
       "|  6 | ECM-affiliated Proteins | 15 |\n",
       "|  6 | Secreted Factors        | 14 |\n",
       "|  7 | Collagens               |  1 |\n",
       "|  7 | ECM Glycoproteins       |  8 |\n",
       "|  7 | ECM Regulators          |  8 |\n",
       "|  7 | ECM-affiliated Proteins |  4 |\n",
       "|  7 | Proteoglycans           |  1 |\n",
       "|  7 | Secreted Factors        | 20 |\n",
       "|  8 | Collagens               |  1 |\n",
       "|  8 | ECM Glycoproteins       |  4 |\n",
       "|  8 | ECM Regulators          |  7 |\n",
       "|  8 | ECM-affiliated Proteins | 14 |\n",
       "|  8 | Proteoglycans           |  2 |\n",
       "|  8 | Secreted Factors        |  5 |\n",
       "|  9 | ECM Glycoproteins       |  1 |\n",
       "|  9 | ECM Regulators          |  7 |\n",
       "|  9 | ECM-affiliated Proteins | 10 |\n",
       "|  9 | Secreted Factors        | 11 |\n",
       "| 10 | ECM Glycoproteins       |  5 |\n",
       "| 10 | ECM Regulators          | 13 |\n",
       "| 10 | ECM-affiliated Proteins |  6 |\n",
       "| 10 | Proteoglycans           |  1 |\n",
       "| 10 | Secreted Factors        |  3 |\n",
       "\n"
      ],
      "text/plain": [
       "   cluster category                n \n",
       "1   0      ECM Glycoproteins        1\n",
       "2   0      ECM-affiliated Proteins  1\n",
       "3   0      Secreted Factors         2\n",
       "4   1      Collagens               24\n",
       "5   1      ECM Glycoproteins       83\n",
       "6   1      ECM Regulators          68\n",
       "7   1      ECM-affiliated Proteins 45\n",
       "8   1      Proteoglycans           15\n",
       "9   1      Secreted Factors        69\n",
       "10  2      Collagens                5\n",
       "11  2      ECM Glycoproteins       20\n",
       "12  2      ECM Regulators          53\n",
       "13  2      ECM-affiliated Proteins 27\n",
       "14  2      Proteoglycans            3\n",
       "15  2      Secreted Factors        81\n",
       "16  3      Collagens                3\n",
       "17  3      ECM Glycoproteins       40\n",
       "18  3      ECM Regulators          27\n",
       "19  3      ECM-affiliated Proteins 16\n",
       "20  3      Proteoglycans            8\n",
       "21  3      Secreted Factors        38\n",
       "22  4      Collagens                1\n",
       "23  4      ECM Glycoproteins        7\n",
       "24  4      ECM Regulators          21\n",
       "25  4      ECM-affiliated Proteins 27\n",
       "26  4      Proteoglycans            4\n",
       "27  4      Secreted Factors        65\n",
       "28  5      Collagens                6\n",
       "29  5      ECM Glycoproteins       14\n",
       "30  5      ECM Regulators          16\n",
       "31  5      ECM-affiliated Proteins  3\n",
       "32  5      Proteoglycans            1\n",
       "33  5      Secreted Factors        29\n",
       "34  6      Collagens                2\n",
       "35  6      ECM Glycoproteins        9\n",
       "36  6      ECM Regulators          13\n",
       "37  6      ECM-affiliated Proteins 15\n",
       "38  6      Secreted Factors        14\n",
       "39  7      Collagens                1\n",
       "40  7      ECM Glycoproteins        8\n",
       "41  7      ECM Regulators           8\n",
       "42  7      ECM-affiliated Proteins  4\n",
       "43  7      Proteoglycans            1\n",
       "44  7      Secreted Factors        20\n",
       "45  8      Collagens                1\n",
       "46  8      ECM Glycoproteins        4\n",
       "47  8      ECM Regulators           7\n",
       "48  8      ECM-affiliated Proteins 14\n",
       "49  8      Proteoglycans            2\n",
       "50  8      Secreted Factors         5\n",
       "51  9      ECM Glycoproteins        1\n",
       "52  9      ECM Regulators           7\n",
       "53  9      ECM-affiliated Proteins 10\n",
       "54  9      Secreted Factors        11\n",
       "55 10      ECM Glycoproteins        5\n",
       "56 10      ECM Regulators          13\n",
       "57 10      ECM-affiliated Proteins  6\n",
       "58 10      Proteoglycans            1\n",
       "59 10      Secreted Factors         3"
      ]
     },
     "metadata": {},
     "output_type": "display_data"
    }
   ],
   "source": [
    "# Good candidate for Sankey?\n",
    "dynamic_mods %>%\n",
    "    as_tibble() %>%\n",
    "    dplyr::rename(cluster = value) %>%\n",
    "    dplyr::bind_cols(transpose_df(matrisome_norm_counts_df, future_colnames_col = \"sample_name\", previous_colnames_col = \"geneID\")) %>%\n",
    "    dplyr::inner_join(matrisome_df, by = c(\"geneID\" = \"gene_symbol\")) %>%\n",
    "    dplyr::select(cluster, geneID, category) %>%\n",
    "    dplyr::group_by(cluster, category) %>%\n",
    "    summarize(n = n())"
   ]
  },
  {
   "cell_type": "code",
   "execution_count": null,
   "metadata": {},
   "outputs": [],
   "source": []
  }
 ],
 "metadata": {
  "kernelspec": {
   "display_name": "R",
   "language": "R",
   "name": "ir"
  },
  "language_info": {
   "codemirror_mode": "r",
   "file_extension": ".r",
   "mimetype": "text/x-r-source",
   "name": "R",
   "pygments_lexer": "r",
   "version": "3.6.3"
  }
 },
 "nbformat": 4,
 "nbformat_minor": 4
}
