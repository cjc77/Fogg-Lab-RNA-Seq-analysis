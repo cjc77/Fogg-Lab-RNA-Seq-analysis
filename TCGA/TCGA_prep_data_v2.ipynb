{
 "cells": [
  {
   "cell_type": "code",
   "execution_count": 2,
   "metadata": {},
   "outputs": [],
   "source": [
    "library(tidyverse)\n",
    "library(HDF5Array)\n",
    "library(SummarizedExperiment)\n",
    "library(EnsDb.Hsapiens.v86)\n",
    "library(biomaRt)"
   ]
  },
  {
   "cell_type": "code",
   "execution_count": 3,
   "metadata": {},
   "outputs": [],
   "source": [
    "projects <- c(\"TCGA-CESC\", \"TCGA-OV\", \"TCGA-UCS\", \"TCGA-UCEC\")\n",
    "data_root <- \"../../../../../mnt/d/TCGA\"\n",
    "\n",
    "project_dirs <- sapply(\n",
    "    projects, \n",
    "    (function(p) paste0(data_root, \"/\", p, \"-\", \"TCGAbiolinks\"))\n",
    ")"
   ]
  },
  {
   "cell_type": "code",
   "execution_count": 4,
   "metadata": {},
   "outputs": [],
   "source": [
    "load_RSE_objects <- function(dir, projs) {\n",
    "    data_ls <- list()\n",
    "    for (i in seq_len(length(projs))) {\n",
    "        dset_name <- sub(\"-\", \"_\", projs[i])\n",
    "        data_ls[[dset_name]] <- loadHDF5SummarizedExperiment(dir = dir, prefix = dset_name)\n",
    "    }\n",
    "    return(data_ls)\n",
    "}\n",
    "\n",
    "\n",
    "filter_sample_types <- function(rses, field, keepers) {\n",
    "    names_ <- names(rses)\n",
    "    filtered_data_ls <- list()\n",
    "    for (n in names_) {\n",
    "        mask <- rses[[n]][[field]] %in% keepers\n",
    "        filtered_data_ls[[n]] <- rses[[n]][, mask]\n",
    "    }\n",
    "    return(filtered_data_ls)\n",
    "}\n",
    "\n",
    "\n",
    "combine_data <- function(rses, dest_dir, hgnc_df) {\n",
    "    for (n in names(rses)) {\n",
    "        counts_df <- as_tibble(assays(rses[[n]])[[\"HTSeq - Counts\"]], rownames = \"ensembl_gene_id\") %>%\n",
    "            dplyr::inner_join(hgnc_df, by = \"ensembl_gene_id\") %>%\n",
    "            dplyr::select(hgnc_symbol, everything()) %>%\n",
    "            dplyr::select(-ensembl_gene_id) %>%\n",
    "            dplyr::filter(hgnc_symbol != \"\") %>%\n",
    "            dplyr::group_by(hgnc_symbol) %>%\n",
    "            summarize_all(sum) %>%\n",
    "            ungroup()\n",
    "        coldata_df <- as_tibble(colnames(counts_df)[-1]) %>%\n",
    "            dplyr::rename(sample_name = value) %>%\n",
    "            mutate(condition = \"tumor\") %>%\n",
    "            mutate(project = n)\n",
    "        write_tsv(counts_df, path = paste0(dest_dir, \"/\", \"tumor_only_matrix_data\", \"/\", n, \"_counts.tsv\"))\n",
    "        write_tsv(coldata_df, path = paste0(dest_dir, \"/\", \"tumor_only_matrix_data\", \"/\", n, \"_coldata.tsv\"))\n",
    "    }\n",
    "}"
   ]
  },
  {
   "cell_type": "code",
   "execution_count": 5,
   "metadata": {},
   "outputs": [],
   "source": [
    "data_ls <- load_RSE_objects(paste0(data_root, \"/\", \"saved_RSE_objects\"), projects)\n",
    "tcga_ensembl_ids <- rowData(data_ls$TCGA_CESC)$ensembl_gene_id %>%\n",
    "    as_tibble()"
   ]
  },
  {
   "cell_type": "code",
   "execution_count": 90,
   "metadata": {},
   "outputs": [
    {
     "data": {
      "text/plain": [
       "<56493 x 309> matrix of class DelayedMatrix and type \"double\":\n",
       "                TCGA-JX-A3Q8-01A-11R-A21T-07 ... TCGA-JW-A5VK-01A-11R-A28H-07\n",
       "ENSG00000000003                         9424   .                         3515\n",
       "ENSG00000000005                            4   .                            1\n",
       "ENSG00000000419                         3103   .                         3715\n",
       "ENSG00000000457                          842   .                          606\n",
       "ENSG00000000460                          772   .                          685\n",
       "            ...                            .   .                            .\n",
       "ENSG00000281904                            2   .                            0\n",
       "ENSG00000281909                            0   .                            1\n",
       "ENSG00000281910                            0   .                            0\n",
       "ENSG00000281912                          164   .                          122\n",
       "ENSG00000281920                            3   .                           10"
      ]
     },
     "metadata": {},
     "output_type": "display_data"
    }
   ],
   "source": [
    "assays(data_ls$TCGA_CESC)[[\"HTSeq - Counts\"]]"
   ]
  },
  {
   "cell_type": "markdown",
   "metadata": {},
   "source": [
    "# Gene match using `EnsDb.Hsapiens.v86`"
   ]
  },
  {
   "cell_type": "code",
   "execution_count": 6,
   "metadata": {},
   "outputs": [],
   "source": [
    "edb_hgnc_df <- ensembldb::select(\n",
    "    EnsDb.Hsapiens.v86,\n",
    "    keys = tcga_ensembl_ids$value,\n",
    "    keytype = \"GENEID\",\n",
    "    columns = c(\"SYMBOL\", \"GENEID\")\n",
    ")\n",
    "\n",
    "edb_hgnc_df <- edb_hgnc_df %>%\n",
    "    dplyr::rename(ensembl_gene_id = GENEID, hgnc_symbol = SYMBOL) %>%\n",
    "    dplyr::select(ensembl_gene_id, hgnc_symbol)"
   ]
  },
  {
   "cell_type": "code",
   "execution_count": 13,
   "metadata": {},
   "outputs": [
    {
     "data": {
      "text/html": [
       "54846"
      ],
      "text/latex": [
       "54846"
      ],
      "text/markdown": [
       "54846"
      ],
      "text/plain": [
       "[1] 54846"
      ]
     },
     "metadata": {},
     "output_type": "display_data"
    }
   ],
   "source": [
    "length(unique(edb_hgnc_df$hgnc_symbol))"
   ]
  },
  {
   "cell_type": "code",
   "execution_count": 10,
   "metadata": {
    "collapsed": true,
    "jupyter": {
     "outputs_hidden": true
    }
   },
   "outputs": [
    {
     "data": {
      "text/html": [
       "<table>\n",
       "<caption>A data.frame: 56493 × 2</caption>\n",
       "<thead>\n",
       "\t<tr><th scope=col>ensembl_gene_id</th><th scope=col>hgnc_symbol</th></tr>\n",
       "\t<tr><th scope=col>&lt;chr&gt;</th><th scope=col>&lt;chr&gt;</th></tr>\n",
       "</thead>\n",
       "<tbody>\n",
       "\t<tr><td>ENSG00000000003</td><td>TSPAN6  </td></tr>\n",
       "\t<tr><td>ENSG00000000005</td><td>TNMD    </td></tr>\n",
       "\t<tr><td>ENSG00000000419</td><td>DPM1    </td></tr>\n",
       "\t<tr><td>ENSG00000000457</td><td>SCYL3   </td></tr>\n",
       "\t<tr><td>ENSG00000000460</td><td>C1orf112</td></tr>\n",
       "\t<tr><td>ENSG00000000938</td><td>FGR     </td></tr>\n",
       "\t<tr><td>ENSG00000000971</td><td>CFH     </td></tr>\n",
       "\t<tr><td>ENSG00000001036</td><td>FUCA2   </td></tr>\n",
       "\t<tr><td>ENSG00000001084</td><td>GCLC    </td></tr>\n",
       "\t<tr><td>ENSG00000001167</td><td>NFYA    </td></tr>\n",
       "\t<tr><td>ENSG00000001460</td><td>STPG1   </td></tr>\n",
       "\t<tr><td>ENSG00000001461</td><td>NIPAL3  </td></tr>\n",
       "\t<tr><td>ENSG00000001497</td><td>LAS1L   </td></tr>\n",
       "\t<tr><td>ENSG00000001561</td><td>ENPP4   </td></tr>\n",
       "\t<tr><td>ENSG00000001617</td><td>SEMA3F  </td></tr>\n",
       "\t<tr><td>ENSG00000001626</td><td>CFTR    </td></tr>\n",
       "\t<tr><td>ENSG00000001629</td><td>ANKIB1  </td></tr>\n",
       "\t<tr><td>ENSG00000001630</td><td>CYP51A1 </td></tr>\n",
       "\t<tr><td>ENSG00000001631</td><td>KRIT1   </td></tr>\n",
       "\t<tr><td>ENSG00000002016</td><td>RAD52   </td></tr>\n",
       "\t<tr><td>ENSG00000002079</td><td>MYH16   </td></tr>\n",
       "\t<tr><td>ENSG00000002330</td><td>BAD     </td></tr>\n",
       "\t<tr><td>ENSG00000002549</td><td>LAP3    </td></tr>\n",
       "\t<tr><td>ENSG00000002586</td><td>CD99    </td></tr>\n",
       "\t<tr><td>ENSG00000002587</td><td>HS3ST1  </td></tr>\n",
       "\t<tr><td>ENSG00000002726</td><td>AOC1    </td></tr>\n",
       "\t<tr><td>ENSG00000002745</td><td>WNT16   </td></tr>\n",
       "\t<tr><td>ENSG00000002746</td><td>HECW1   </td></tr>\n",
       "\t<tr><td>ENSG00000002822</td><td>MAD1L1  </td></tr>\n",
       "\t<tr><td>ENSG00000002834</td><td>LASP1   </td></tr>\n",
       "\t<tr><td>⋮</td><td>⋮</td></tr>\n",
       "\t<tr><td>ENSG00000281721</td><td>LINC01080     </td></tr>\n",
       "\t<tr><td>ENSG00000281731</td><td>RP11-384K6.8  </td></tr>\n",
       "\t<tr><td>ENSG00000281732</td><td>CTA-299D3.8   </td></tr>\n",
       "\t<tr><td>ENSG00000281741</td><td>AC241377.1    </td></tr>\n",
       "\t<tr><td>ENSG00000281756</td><td>C2-AS1        </td></tr>\n",
       "\t<tr><td>ENSG00000281769</td><td>LINC01230     </td></tr>\n",
       "\t<tr><td>ENSG00000281772</td><td>RP11-567F11.2 </td></tr>\n",
       "\t<tr><td>ENSG00000281778</td><td>LINC00550     </td></tr>\n",
       "\t<tr><td>ENSG00000281780</td><td>snoZ196       </td></tr>\n",
       "\t<tr><td>ENSG00000281808</td><td>SNORA17       </td></tr>\n",
       "\t<tr><td>ENSG00000281809</td><td>LINC01394     </td></tr>\n",
       "\t<tr><td>ENSG00000281825</td><td>AL355480.4    </td></tr>\n",
       "\t<tr><td>ENSG00000281831</td><td>HCP5B         </td></tr>\n",
       "\t<tr><td>ENSG00000281832</td><td>LINC00602     </td></tr>\n",
       "\t<tr><td>ENSG00000281842</td><td>MIR1291       </td></tr>\n",
       "\t<tr><td>ENSG00000281849</td><td>RP13-465B17.4 </td></tr>\n",
       "\t<tr><td>ENSG00000281852</td><td>LINC00891     </td></tr>\n",
       "\t<tr><td>ENSG00000281856</td><td>RP11-744A16.4 </td></tr>\n",
       "\t<tr><td>ENSG00000281859</td><td>SNORD38B      </td></tr>\n",
       "\t<tr><td>ENSG00000281863</td><td>SNORA43       </td></tr>\n",
       "\t<tr><td>ENSG00000281880</td><td>PAUPAR        </td></tr>\n",
       "\t<tr><td>ENSG00000281883</td><td>RP11-65B7.2   </td></tr>\n",
       "\t<tr><td>ENSG00000281887</td><td>GIMAP1-GIMAP5 </td></tr>\n",
       "\t<tr><td>ENSG00000281896</td><td>RP11-274B21.13</td></tr>\n",
       "\t<tr><td>ENSG00000281903</td><td>AF127936.7    </td></tr>\n",
       "\t<tr><td>ENSG00000281904</td><td>CH17-132F21.5 </td></tr>\n",
       "\t<tr><td>ENSG00000281909</td><td>RP11-439M15.1 </td></tr>\n",
       "\t<tr><td>ENSG00000281910</td><td>SNORA50A      </td></tr>\n",
       "\t<tr><td>ENSG00000281912</td><td>LINC01144     </td></tr>\n",
       "\t<tr><td>ENSG00000281920</td><td>RP11-418H16.1 </td></tr>\n",
       "</tbody>\n",
       "</table>\n"
      ],
      "text/latex": [
       "A data.frame: 56493 × 2\n",
       "\\begin{tabular}{ll}\n",
       " ensembl\\_gene\\_id & hgnc\\_symbol\\\\\n",
       " <chr> & <chr>\\\\\n",
       "\\hline\n",
       "\t ENSG00000000003 & TSPAN6  \\\\\n",
       "\t ENSG00000000005 & TNMD    \\\\\n",
       "\t ENSG00000000419 & DPM1    \\\\\n",
       "\t ENSG00000000457 & SCYL3   \\\\\n",
       "\t ENSG00000000460 & C1orf112\\\\\n",
       "\t ENSG00000000938 & FGR     \\\\\n",
       "\t ENSG00000000971 & CFH     \\\\\n",
       "\t ENSG00000001036 & FUCA2   \\\\\n",
       "\t ENSG00000001084 & GCLC    \\\\\n",
       "\t ENSG00000001167 & NFYA    \\\\\n",
       "\t ENSG00000001460 & STPG1   \\\\\n",
       "\t ENSG00000001461 & NIPAL3  \\\\\n",
       "\t ENSG00000001497 & LAS1L   \\\\\n",
       "\t ENSG00000001561 & ENPP4   \\\\\n",
       "\t ENSG00000001617 & SEMA3F  \\\\\n",
       "\t ENSG00000001626 & CFTR    \\\\\n",
       "\t ENSG00000001629 & ANKIB1  \\\\\n",
       "\t ENSG00000001630 & CYP51A1 \\\\\n",
       "\t ENSG00000001631 & KRIT1   \\\\\n",
       "\t ENSG00000002016 & RAD52   \\\\\n",
       "\t ENSG00000002079 & MYH16   \\\\\n",
       "\t ENSG00000002330 & BAD     \\\\\n",
       "\t ENSG00000002549 & LAP3    \\\\\n",
       "\t ENSG00000002586 & CD99    \\\\\n",
       "\t ENSG00000002587 & HS3ST1  \\\\\n",
       "\t ENSG00000002726 & AOC1    \\\\\n",
       "\t ENSG00000002745 & WNT16   \\\\\n",
       "\t ENSG00000002746 & HECW1   \\\\\n",
       "\t ENSG00000002822 & MAD1L1  \\\\\n",
       "\t ENSG00000002834 & LASP1   \\\\\n",
       "\t ⋮ & ⋮\\\\\n",
       "\t ENSG00000281721 & LINC01080     \\\\\n",
       "\t ENSG00000281731 & RP11-384K6.8  \\\\\n",
       "\t ENSG00000281732 & CTA-299D3.8   \\\\\n",
       "\t ENSG00000281741 & AC241377.1    \\\\\n",
       "\t ENSG00000281756 & C2-AS1        \\\\\n",
       "\t ENSG00000281769 & LINC01230     \\\\\n",
       "\t ENSG00000281772 & RP11-567F11.2 \\\\\n",
       "\t ENSG00000281778 & LINC00550     \\\\\n",
       "\t ENSG00000281780 & snoZ196       \\\\\n",
       "\t ENSG00000281808 & SNORA17       \\\\\n",
       "\t ENSG00000281809 & LINC01394     \\\\\n",
       "\t ENSG00000281825 & AL355480.4    \\\\\n",
       "\t ENSG00000281831 & HCP5B         \\\\\n",
       "\t ENSG00000281832 & LINC00602     \\\\\n",
       "\t ENSG00000281842 & MIR1291       \\\\\n",
       "\t ENSG00000281849 & RP13-465B17.4 \\\\\n",
       "\t ENSG00000281852 & LINC00891     \\\\\n",
       "\t ENSG00000281856 & RP11-744A16.4 \\\\\n",
       "\t ENSG00000281859 & SNORD38B      \\\\\n",
       "\t ENSG00000281863 & SNORA43       \\\\\n",
       "\t ENSG00000281880 & PAUPAR        \\\\\n",
       "\t ENSG00000281883 & RP11-65B7.2   \\\\\n",
       "\t ENSG00000281887 & GIMAP1-GIMAP5 \\\\\n",
       "\t ENSG00000281896 & RP11-274B21.13\\\\\n",
       "\t ENSG00000281903 & AF127936.7    \\\\\n",
       "\t ENSG00000281904 & CH17-132F21.5 \\\\\n",
       "\t ENSG00000281909 & RP11-439M15.1 \\\\\n",
       "\t ENSG00000281910 & SNORA50A      \\\\\n",
       "\t ENSG00000281912 & LINC01144     \\\\\n",
       "\t ENSG00000281920 & RP11-418H16.1 \\\\\n",
       "\\end{tabular}\n"
      ],
      "text/markdown": [
       "\n",
       "A data.frame: 56493 × 2\n",
       "\n",
       "| ensembl_gene_id &lt;chr&gt; | hgnc_symbol &lt;chr&gt; |\n",
       "|---|---|\n",
       "| ENSG00000000003 | TSPAN6   |\n",
       "| ENSG00000000005 | TNMD     |\n",
       "| ENSG00000000419 | DPM1     |\n",
       "| ENSG00000000457 | SCYL3    |\n",
       "| ENSG00000000460 | C1orf112 |\n",
       "| ENSG00000000938 | FGR      |\n",
       "| ENSG00000000971 | CFH      |\n",
       "| ENSG00000001036 | FUCA2    |\n",
       "| ENSG00000001084 | GCLC     |\n",
       "| ENSG00000001167 | NFYA     |\n",
       "| ENSG00000001460 | STPG1    |\n",
       "| ENSG00000001461 | NIPAL3   |\n",
       "| ENSG00000001497 | LAS1L    |\n",
       "| ENSG00000001561 | ENPP4    |\n",
       "| ENSG00000001617 | SEMA3F   |\n",
       "| ENSG00000001626 | CFTR     |\n",
       "| ENSG00000001629 | ANKIB1   |\n",
       "| ENSG00000001630 | CYP51A1  |\n",
       "| ENSG00000001631 | KRIT1    |\n",
       "| ENSG00000002016 | RAD52    |\n",
       "| ENSG00000002079 | MYH16    |\n",
       "| ENSG00000002330 | BAD      |\n",
       "| ENSG00000002549 | LAP3     |\n",
       "| ENSG00000002586 | CD99     |\n",
       "| ENSG00000002587 | HS3ST1   |\n",
       "| ENSG00000002726 | AOC1     |\n",
       "| ENSG00000002745 | WNT16    |\n",
       "| ENSG00000002746 | HECW1    |\n",
       "| ENSG00000002822 | MAD1L1   |\n",
       "| ENSG00000002834 | LASP1    |\n",
       "| ⋮ | ⋮ |\n",
       "| ENSG00000281721 | LINC01080      |\n",
       "| ENSG00000281731 | RP11-384K6.8   |\n",
       "| ENSG00000281732 | CTA-299D3.8    |\n",
       "| ENSG00000281741 | AC241377.1     |\n",
       "| ENSG00000281756 | C2-AS1         |\n",
       "| ENSG00000281769 | LINC01230      |\n",
       "| ENSG00000281772 | RP11-567F11.2  |\n",
       "| ENSG00000281778 | LINC00550      |\n",
       "| ENSG00000281780 | snoZ196        |\n",
       "| ENSG00000281808 | SNORA17        |\n",
       "| ENSG00000281809 | LINC01394      |\n",
       "| ENSG00000281825 | AL355480.4     |\n",
       "| ENSG00000281831 | HCP5B          |\n",
       "| ENSG00000281832 | LINC00602      |\n",
       "| ENSG00000281842 | MIR1291        |\n",
       "| ENSG00000281849 | RP13-465B17.4  |\n",
       "| ENSG00000281852 | LINC00891      |\n",
       "| ENSG00000281856 | RP11-744A16.4  |\n",
       "| ENSG00000281859 | SNORD38B       |\n",
       "| ENSG00000281863 | SNORA43        |\n",
       "| ENSG00000281880 | PAUPAR         |\n",
       "| ENSG00000281883 | RP11-65B7.2    |\n",
       "| ENSG00000281887 | GIMAP1-GIMAP5  |\n",
       "| ENSG00000281896 | RP11-274B21.13 |\n",
       "| ENSG00000281903 | AF127936.7     |\n",
       "| ENSG00000281904 | CH17-132F21.5  |\n",
       "| ENSG00000281909 | RP11-439M15.1  |\n",
       "| ENSG00000281910 | SNORA50A       |\n",
       "| ENSG00000281912 | LINC01144      |\n",
       "| ENSG00000281920 | RP11-418H16.1  |\n",
       "\n"
      ],
      "text/plain": [
       "      ensembl_gene_id hgnc_symbol   \n",
       "1     ENSG00000000003 TSPAN6        \n",
       "2     ENSG00000000005 TNMD          \n",
       "3     ENSG00000000419 DPM1          \n",
       "4     ENSG00000000457 SCYL3         \n",
       "5     ENSG00000000460 C1orf112      \n",
       "6     ENSG00000000938 FGR           \n",
       "7     ENSG00000000971 CFH           \n",
       "8     ENSG00000001036 FUCA2         \n",
       "9     ENSG00000001084 GCLC          \n",
       "10    ENSG00000001167 NFYA          \n",
       "11    ENSG00000001460 STPG1         \n",
       "12    ENSG00000001461 NIPAL3        \n",
       "13    ENSG00000001497 LAS1L         \n",
       "14    ENSG00000001561 ENPP4         \n",
       "15    ENSG00000001617 SEMA3F        \n",
       "16    ENSG00000001626 CFTR          \n",
       "17    ENSG00000001629 ANKIB1        \n",
       "18    ENSG00000001630 CYP51A1       \n",
       "19    ENSG00000001631 KRIT1         \n",
       "20    ENSG00000002016 RAD52         \n",
       "21    ENSG00000002079 MYH16         \n",
       "22    ENSG00000002330 BAD           \n",
       "23    ENSG00000002549 LAP3          \n",
       "24    ENSG00000002586 CD99          \n",
       "25    ENSG00000002587 HS3ST1        \n",
       "26    ENSG00000002726 AOC1          \n",
       "27    ENSG00000002745 WNT16         \n",
       "28    ENSG00000002746 HECW1         \n",
       "29    ENSG00000002822 MAD1L1        \n",
       "30    ENSG00000002834 LASP1         \n",
       "⋮     ⋮               ⋮             \n",
       "56464 ENSG00000281721 LINC01080     \n",
       "56465 ENSG00000281731 RP11-384K6.8  \n",
       "56466 ENSG00000281732 CTA-299D3.8   \n",
       "56467 ENSG00000281741 AC241377.1    \n",
       "56468 ENSG00000281756 C2-AS1        \n",
       "56469 ENSG00000281769 LINC01230     \n",
       "56470 ENSG00000281772 RP11-567F11.2 \n",
       "56471 ENSG00000281778 LINC00550     \n",
       "56472 ENSG00000281780 snoZ196       \n",
       "56473 ENSG00000281808 SNORA17       \n",
       "56474 ENSG00000281809 LINC01394     \n",
       "56475 ENSG00000281825 AL355480.4    \n",
       "56476 ENSG00000281831 HCP5B         \n",
       "56477 ENSG00000281832 LINC00602     \n",
       "56478 ENSG00000281842 MIR1291       \n",
       "56479 ENSG00000281849 RP13-465B17.4 \n",
       "56480 ENSG00000281852 LINC00891     \n",
       "56481 ENSG00000281856 RP11-744A16.4 \n",
       "56482 ENSG00000281859 SNORD38B      \n",
       "56483 ENSG00000281863 SNORA43       \n",
       "56484 ENSG00000281880 PAUPAR        \n",
       "56485 ENSG00000281883 RP11-65B7.2   \n",
       "56486 ENSG00000281887 GIMAP1-GIMAP5 \n",
       "56487 ENSG00000281896 RP11-274B21.13\n",
       "56488 ENSG00000281903 AF127936.7    \n",
       "56489 ENSG00000281904 CH17-132F21.5 \n",
       "56490 ENSG00000281909 RP11-439M15.1 \n",
       "56491 ENSG00000281910 SNORA50A      \n",
       "56492 ENSG00000281912 LINC01144     \n",
       "56493 ENSG00000281920 RP11-418H16.1 "
      ]
     },
     "metadata": {},
     "output_type": "display_data"
    }
   ],
   "source": [
    "edb_hgnc_df"
   ]
  },
  {
   "cell_type": "code",
   "execution_count": 6,
   "metadata": {},
   "outputs": [],
   "source": [
    "tumor_data_ls <- filter_sample_types(data_ls, \"definition\", c(\"Primary solid Tumor\"))"
   ]
  },
  {
   "cell_type": "code",
   "execution_count": 8,
   "metadata": {},
   "outputs": [],
   "source": [
    "combine_data(tumor_data_ls, data_root, edb_hgnc_df)"
   ]
  },
  {
   "cell_type": "code",
   "execution_count": 50,
   "metadata": {},
   "outputs": [],
   "source": [
    "res <- rowData(data_ls$TCGA_CESC) %>%\n",
    "    as_tibble()  %>%\n",
    "    dplyr::select(ensembl_gene_id, external_gene_name) %>%\n",
    "    mutate(edbres_gene_id = edb_hgnc_df$ensembl_gene_id, edbres_gene_name = edb_hgnc_df$hgnc_symbol)"
   ]
  },
  {
   "cell_type": "code",
   "execution_count": 52,
   "metadata": {},
   "outputs": [
    {
     "data": {
      "text/html": [
       "<table>\n",
       "<caption>A tibble: 6 × 4</caption>\n",
       "<thead>\n",
       "\t<tr><th scope=col>ensembl_gene_id</th><th scope=col>external_gene_name</th><th scope=col>edbres_gene_id</th><th scope=col>edbres_gene_name</th></tr>\n",
       "\t<tr><th scope=col>&lt;chr&gt;</th><th scope=col>&lt;chr&gt;</th><th scope=col>&lt;chr&gt;</th><th scope=col>&lt;chr&gt;</th></tr>\n",
       "</thead>\n",
       "<tbody>\n",
       "\t<tr><td>ENSG00000000003</td><td>TSPAN6  </td><td>ENSG00000000003</td><td>TSPAN6  </td></tr>\n",
       "\t<tr><td>ENSG00000000005</td><td>TNMD    </td><td>ENSG00000000005</td><td>TNMD    </td></tr>\n",
       "\t<tr><td>ENSG00000000419</td><td>DPM1    </td><td>ENSG00000000419</td><td>DPM1    </td></tr>\n",
       "\t<tr><td>ENSG00000000457</td><td>SCYL3   </td><td>ENSG00000000457</td><td>SCYL3   </td></tr>\n",
       "\t<tr><td>ENSG00000000460</td><td>C1orf112</td><td>ENSG00000000460</td><td>C1orf112</td></tr>\n",
       "\t<tr><td>ENSG00000000938</td><td>FGR     </td><td>ENSG00000000938</td><td>FGR     </td></tr>\n",
       "</tbody>\n",
       "</table>\n"
      ],
      "text/latex": [
       "A tibble: 6 × 4\n",
       "\\begin{tabular}{llll}\n",
       " ensembl\\_gene\\_id & external\\_gene\\_name & edbres\\_gene\\_id & edbres\\_gene\\_name\\\\\n",
       " <chr> & <chr> & <chr> & <chr>\\\\\n",
       "\\hline\n",
       "\t ENSG00000000003 & TSPAN6   & ENSG00000000003 & TSPAN6  \\\\\n",
       "\t ENSG00000000005 & TNMD     & ENSG00000000005 & TNMD    \\\\\n",
       "\t ENSG00000000419 & DPM1     & ENSG00000000419 & DPM1    \\\\\n",
       "\t ENSG00000000457 & SCYL3    & ENSG00000000457 & SCYL3   \\\\\n",
       "\t ENSG00000000460 & C1orf112 & ENSG00000000460 & C1orf112\\\\\n",
       "\t ENSG00000000938 & FGR      & ENSG00000000938 & FGR     \\\\\n",
       "\\end{tabular}\n"
      ],
      "text/markdown": [
       "\n",
       "A tibble: 6 × 4\n",
       "\n",
       "| ensembl_gene_id &lt;chr&gt; | external_gene_name &lt;chr&gt; | edbres_gene_id &lt;chr&gt; | edbres_gene_name &lt;chr&gt; |\n",
       "|---|---|---|---|\n",
       "| ENSG00000000003 | TSPAN6   | ENSG00000000003 | TSPAN6   |\n",
       "| ENSG00000000005 | TNMD     | ENSG00000000005 | TNMD     |\n",
       "| ENSG00000000419 | DPM1     | ENSG00000000419 | DPM1     |\n",
       "| ENSG00000000457 | SCYL3    | ENSG00000000457 | SCYL3    |\n",
       "| ENSG00000000460 | C1orf112 | ENSG00000000460 | C1orf112 |\n",
       "| ENSG00000000938 | FGR      | ENSG00000000938 | FGR      |\n",
       "\n"
      ],
      "text/plain": [
       "  ensembl_gene_id external_gene_name edbres_gene_id  edbres_gene_name\n",
       "1 ENSG00000000003 TSPAN6             ENSG00000000003 TSPAN6          \n",
       "2 ENSG00000000005 TNMD               ENSG00000000005 TNMD            \n",
       "3 ENSG00000000419 DPM1               ENSG00000000419 DPM1            \n",
       "4 ENSG00000000457 SCYL3              ENSG00000000457 SCYL3           \n",
       "5 ENSG00000000460 C1orf112           ENSG00000000460 C1orf112        \n",
       "6 ENSG00000000938 FGR                ENSG00000000938 FGR             "
      ]
     },
     "metadata": {},
     "output_type": "display_data"
    }
   ],
   "source": [
    "head(res)"
   ]
  },
  {
   "cell_type": "code",
   "execution_count": 54,
   "metadata": {},
   "outputs": [
    {
     "data": {
      "text/html": [
       "TRUE"
      ],
      "text/latex": [
       "TRUE"
      ],
      "text/markdown": [
       "TRUE"
      ],
      "text/plain": [
       "[1] TRUE"
      ]
     },
     "metadata": {},
     "output_type": "display_data"
    }
   ],
   "source": [
    "all(res$ensembl_gene_id == res$edbres_gene_id)"
   ]
  },
  {
   "cell_type": "code",
   "execution_count": 56,
   "metadata": {},
   "outputs": [
    {
     "data": {
      "text/html": [
       "21900"
      ],
      "text/latex": [
       "21900"
      ],
      "text/markdown": [
       "21900"
      ],
      "text/plain": [
       "[1] 21900"
      ]
     },
     "metadata": {},
     "output_type": "display_data"
    }
   ],
   "source": [
    "sum(res$external_gene_name != res$edbres_gene_name)"
   ]
  },
  {
   "cell_type": "code",
   "execution_count": 60,
   "metadata": {},
   "outputs": [
    {
     "data": {
      "text/html": [
       "56493"
      ],
      "text/latex": [
       "56493"
      ],
      "text/markdown": [
       "56493"
      ],
      "text/plain": [
       "[1] 56493"
      ]
     },
     "metadata": {},
     "output_type": "display_data"
    }
   ],
   "source": [
    "nrow(res)"
   ]
  },
  {
   "cell_type": "code",
   "execution_count": 58,
   "metadata": {},
   "outputs": [
    {
     "data": {
      "text/html": [
       "56477"
      ],
      "text/latex": [
       "56477"
      ],
      "text/markdown": [
       "56477"
      ],
      "text/plain": [
       "[1] 56477"
      ]
     },
     "metadata": {},
     "output_type": "display_data"
    }
   ],
   "source": [
    "length(unique(res$external_gene_name))"
   ]
  },
  {
   "cell_type": "code",
   "execution_count": 59,
   "metadata": {},
   "outputs": [
    {
     "data": {
      "text/html": [
       "54846"
      ],
      "text/latex": [
       "54846"
      ],
      "text/markdown": [
       "54846"
      ],
      "text/plain": [
       "[1] 54846"
      ]
     },
     "metadata": {},
     "output_type": "display_data"
    }
   ],
   "source": [
    "length(unique(res$edbres_gene_name))"
   ]
  },
  {
   "cell_type": "markdown",
   "metadata": {},
   "source": [
    "# Check against matrisome genes"
   ]
  },
  {
   "cell_type": "code",
   "execution_count": 65,
   "metadata": {},
   "outputs": [
    {
     "name": "stderr",
     "output_type": "stream",
     "text": [
      "Parsed with column specification:\n",
      "cols(\n",
      "  Division = col_character(),\n",
      "  Category = col_character(),\n",
      "  `Gene Symbol` = col_character(),\n",
      "  `Gene Name` = col_character(),\n",
      "  Synonyms = col_character(),\n",
      "  HGNC_IDs = col_double(),\n",
      "  `HGNC_IDs Links` = col_double(),\n",
      "  UniProt_IDs = col_character(),\n",
      "  Refseq_IDs = col_character(),\n",
      "  Orthology = col_character(),\n",
      "  Notes = col_character()\n",
      ")\n"
     ]
    }
   ],
   "source": [
    "matrisome_df <- read_tsv(paste0(data_root, \"/../\", \"unified_TCGA_GTEx_data\", \"/\", \"matrisome\", \"/\", \"matrisome_hs_masterlist.tsv\"), quote = \"\")"
   ]
  },
  {
   "cell_type": "code",
   "execution_count": 75,
   "metadata": {
    "collapsed": true,
    "jupyter": {
     "outputs_hidden": true
    }
   },
   "outputs": [
    {
     "data": {
      "text/html": [
       "<table>\n",
       "<caption>A spec_tbl_df: 1068 × 11</caption>\n",
       "<thead>\n",
       "\t<tr><th scope=col>division</th><th scope=col>category</th><th scope=col>gene_symbol</th><th scope=col>gene_name</th><th scope=col>synonyms</th><th scope=col>hgnc_ids</th><th scope=col>hgnc_ids_links</th><th scope=col>uniprot_ids</th><th scope=col>refseq_ids</th><th scope=col>orthology</th><th scope=col>notes</th></tr>\n",
       "\t<tr><th scope=col>&lt;chr&gt;</th><th scope=col>&lt;chr&gt;</th><th scope=col>&lt;chr&gt;</th><th scope=col>&lt;chr&gt;</th><th scope=col>&lt;chr&gt;</th><th scope=col>&lt;dbl&gt;</th><th scope=col>&lt;dbl&gt;</th><th scope=col>&lt;chr&gt;</th><th scope=col>&lt;chr&gt;</th><th scope=col>&lt;chr&gt;</th><th scope=col>&lt;chr&gt;</th></tr>\n",
       "</thead>\n",
       "<tbody>\n",
       "\t<tr><td>Core matrisome</td><td>ECM Glycoproteins</td><td>ABI3BP  </td><td>ABI family, member 3 (NESH) binding protein                                                </td><td>FLJ41743|FLJ41754|NESHBP|TARSH                    </td><td>17265</td><td>17265</td><td>B4DSV9:D3YTG3:E9PPR9:E9PRB5:H0Y897:H0YCG4:H0YCP4:H0YDN0:H0YDW0:H0YEA0:H0YEL2:H0YF18:H0YF57:H7C4H3:H7C4N5:H7C4S3:H7C4T1:H7C4X4:H7C524:H7C556:H7C5S3:Q5JPC9:Q7Z7G0</td><td>NP_056244.2:XP_005247340.1                                             </td><td>Mouse:Abi3bp|  </td><td>NA                   </td></tr>\n",
       "\t<tr><td>Core matrisome</td><td>ECM Glycoproteins</td><td>ADIPOQ  </td><td>adiponectin, C1Q and collagen domain containing                                            </td><td>ACDC|ACRP30|ADIPQTL1|ADPN|APM-1|APM1|GBP28|adipone</td><td>13633</td><td>13633</td><td>Q15848                                                                                                                                                          </td><td>NP_001171271.1:NP_004788.1                                             </td><td>Mouse:Adipoq|  </td><td>NA                   </td></tr>\n",
       "\t<tr><td>Core matrisome</td><td>ECM Glycoproteins</td><td>AEBP1   </td><td>AE binding protein 1                                                                       </td><td>ACLP; FLJ33612                                    </td><td>  303</td><td>  303</td><td>C9JLQ8:H7C0W8:H7C1J5:H7C391:H7C3D7:H7C4B5:Q8IUX7                                                                                                                </td><td>NP_001120.3                                                            </td><td>Mouse:Aebp1|   </td><td>NA                   </td></tr>\n",
       "\t<tr><td>Core matrisome</td><td>ECM Glycoproteins</td><td>AGRN    </td><td>agrin                                                                                      </td><td>FLJ45064                                          </td><td>  329</td><td>  329</td><td>H0Y5U1:O00468                                                                                                                                                   </td><td>NP_940978.2:XP_005244806.1:XP_006710696.1                              </td><td>Mouse:Agrn|    </td><td>NA                   </td></tr>\n",
       "\t<tr><td>Core matrisome</td><td>ECM Glycoproteins</td><td>AMBN    </td><td>ameloblastin (enamel matrix protein)                                                       </td><td>-                                                 </td><td>  452</td><td>  452</td><td>Q9NP70                                                                                                                                                          </td><td>NP_057603.1                                                            </td><td>Mouse:Ambn|    </td><td>NA                   </td></tr>\n",
       "\t<tr><td>Core matrisome</td><td>ECM Glycoproteins</td><td>AMELX   </td><td>amelogenin (amelogenesis imperfecta 1, X-linked)                                           </td><td>AIH1|ALGN|AMG|AMGL|AMGX                           </td><td>  461</td><td>  461</td><td>Q99217                                                                                                                                                          </td><td>NP_001133.1:NP_872621.1:NP_872622.1                                    </td><td>Mouse:Amelx|   </td><td>NA                   </td></tr>\n",
       "\t<tr><td>Core matrisome</td><td>ECM Glycoproteins</td><td>AMELY   </td><td>amelogenin, Y-linked                                                                       </td><td>AMGL|AMGY                                         </td><td>  462</td><td>  462</td><td>J3KPK5:Q99218                                                                                                                                                   </td><td>NP_001134.1                                                            </td><td>NA             </td><td>NA                   </td></tr>\n",
       "\t<tr><td>Core matrisome</td><td>ECM Glycoproteins</td><td>BGLAP   </td><td>bone gamma-carboxyglutamate (gla) protein                                                  </td><td>BGP|OC|PMF1                                       </td><td> 1043</td><td> 1043</td><td>P02818                                                                                                                                                          </td><td>NP_954642.1                                                            </td><td>Mouse:Bglap2|  </td><td>NA                   </td></tr>\n",
       "\t<tr><td>Core matrisome</td><td>ECM Glycoproteins</td><td>BMPER   </td><td>BMP binding endothelial regulator                                                          </td><td>CRIM3|CV-2|CV2                                    </td><td>24154</td><td>24154</td><td>C9JY72:F8WDG9:G5E9K4:Q8N8U9                                                                                                                                     </td><td>NP_597725.1                                                            </td><td>Mouse:Bmper|   </td><td>Growth Factor-binding</td></tr>\n",
       "\t<tr><td>Core matrisome</td><td>ECM Glycoproteins</td><td>BSPH1   </td><td>binder of sperm protein homolog 1                                                          </td><td>BSP1|ELSPBP2                                      </td><td>33906</td><td>33906</td><td>Q075Z2                                                                                                                                                          </td><td>NP_001121798.1                                                         </td><td>Mouse:Bsph1|   </td><td>NA                   </td></tr>\n",
       "\t<tr><td>Core matrisome</td><td>ECM Glycoproteins</td><td>CDCP2   </td><td>CUB domain containing protein 2                                                            </td><td>-                                                 </td><td>27297</td><td>27297</td><td>Q5VXM1                                                                                                                                                          </td><td>NP_963840.2                                                            </td><td>Mouse:Cdcp2|   </td><td>NA                   </td></tr>\n",
       "\t<tr><td>Core matrisome</td><td>ECM Glycoproteins</td><td>CILP    </td><td>cartilage intermediate layer protein, nucleotide pyrophosphohydrolase                      </td><td>CILP-1|HsT18872                                   </td><td> 1980</td><td> 1980</td><td>O75339                                                                                                                                                          </td><td>NP_003604.3                                                            </td><td>Mouse:Cilp|    </td><td>NA                   </td></tr>\n",
       "\t<tr><td>Core matrisome</td><td>ECM Glycoproteins</td><td>CILP2   </td><td>cartilage intermediate layer protein 2                                                     </td><td>CLIP-2|MGC45771                                   </td><td>24213</td><td>24213</td><td>K7EPJ4:Q8IUL8                                                                                                                                                   </td><td>NP_694953.2                                                            </td><td>Mouse:Cilp2|   </td><td>NA                   </td></tr>\n",
       "\t<tr><td>Core matrisome</td><td>ECM Glycoproteins</td><td>COCH    </td><td>coagulation factor C homolog, cochlin (Limulus polyphemus)                                 </td><td>COCH-5B2|COCH5B2|DFNA9                            </td><td> 2180</td><td> 2180</td><td>E7EN67:G3V4C4:G3V5G6:G3V5V4:G3V5X3:H0YJJ0:H0YJW4:O43405:Q96IU6                                                                                                  </td><td>NP_001128530.1:NP_004077.1:XP_006720136.1                              </td><td>Mouse:Coch|    </td><td>NA                   </td></tr>\n",
       "\t<tr><td>Core matrisome</td><td>ECM Glycoproteins</td><td>COLQ    </td><td>collagen-like tail subunit (single strand of homotrimer) of asymmetric acetylcholinesterase</td><td>EAD|FLJ55041                                      </td><td> 2226</td><td> 2226</td><td>C9JBB2:F8WA67:Q9Y215:S4R408                                                                                                                                     </td><td>NP_005668.2:NP_536799.1:NP_536800.2                                    </td><td>Mouse:Colq|    </td><td>Basement Membrane    </td></tr>\n",
       "\t<tr><td>Core matrisome</td><td>ECM Glycoproteins</td><td>COMP    </td><td>cartilage oligomeric matrix protein                                                        </td><td>EDM1|EPD1|MED|MGC131819|MGC149768|PSACH|THBS5     </td><td> 2227</td><td> 2227</td><td>B4DKJ3:G3XAP6:P49747                                                                                                                                            </td><td>NP_000086.2                                                            </td><td>Mouse:Comp|    </td><td>NA                   </td></tr>\n",
       "\t<tr><td>Core matrisome</td><td>ECM Glycoproteins</td><td>CRELD1  </td><td>cysteine-rich with EGF-like domains 1                                                      </td><td>AVSD2|CIRRIN|DKFZp566D213                         </td><td>14630</td><td>14630</td><td>F8WBY3:H7C2L3:Q96HD1                                                                                                                                            </td><td>NP_001026887.1:NP_001070883.1:NP_056328.2:XP_006713391.1               </td><td>Mouse:Creld1|  </td><td>NA                   </td></tr>\n",
       "\t<tr><td>Core matrisome</td><td>ECM Glycoproteins</td><td>CRELD2  </td><td>cysteine-rich with EGF-like domains 2                                                      </td><td>DKFZp667O055|MGC11256                             </td><td>28150</td><td>28150</td><td>A6PWM2:Q6UXH1                                                                                                                                                   </td><td>NP_001128573.1:NP_001271246.1:NP_001271247.1:NP_077300.3:XP_005261795.1</td><td>Mouse:Creld2|  </td><td>NA                   </td></tr>\n",
       "\t<tr><td>Core matrisome</td><td>ECM Glycoproteins</td><td>CRIM1   </td><td>cysteine rich transmembrane BMP regulator 1 (chordin-like)                                 </td><td>MGC138194|S52                                     </td><td> 2359</td><td> 2359</td><td>H7C1Z0:H7C2T6:H7C458:Q9NZV1                                                                                                                                     </td><td>NP_057525.1                                                            </td><td>Mouse:Crim1|   </td><td>NA                   </td></tr>\n",
       "\t<tr><td>Core matrisome</td><td>ECM Glycoproteins</td><td>CRISPLD1</td><td>cysteine-rich secretory protein LCCL domain containing 1                                   </td><td>CRISP10|DKFZp762F133|LCRISP1                      </td><td>18206</td><td>18206</td><td>B7Z8V9:E5RJS4:Q9H336                                                                                                                                            </td><td>NP_001273707.1:NP_113649.1                                             </td><td>Mouse:Crispld1|</td><td>NA                   </td></tr>\n",
       "\t<tr><td>Core matrisome</td><td>ECM Glycoproteins</td><td>CRISPLD2</td><td>cysteine-rich secretory protein LCCL domain containing 2                                   </td><td>CRISP11|DKFZp434B044|LCRISP2|MGC74865             </td><td>25248</td><td>25248</td><td>H3BS62:H3BSZ9:H3BTI0:H3BTP0:J3QKP2:Q9H0B8                                                                                                                       </td><td>NP_113664.1:XP_005256247.1                                             </td><td>Mouse:Crispld2|</td><td>NA                   </td></tr>\n",
       "\t<tr><td>Core matrisome</td><td>ECM Glycoproteins</td><td>CTGF    </td><td>connective tissue growth factor                                                            </td><td>CCN2|HCS24|IGFBP8|MGC102839|NOV2                  </td><td> 2500</td><td> 2500</td><td>P29279                                                                                                                                                          </td><td>NP_001892.1                                                            </td><td>Mouse:Ctgf|    </td><td>CCN Family           </td></tr>\n",
       "\t<tr><td>Core matrisome</td><td>ECM Glycoproteins</td><td>CTHRC1  </td><td>collagen triple helix repeat containing 1                                                  </td><td>-                                                 </td><td>18831</td><td>18831</td><td>E5RK99:E7EVQ5:Q96CG8                                                                                                                                            </td><td>NP_001243028.1:NP_612464.1                                             </td><td>Mouse:Cthrc1|  </td><td>NA                   </td></tr>\n",
       "\t<tr><td>Core matrisome</td><td>ECM Glycoproteins</td><td>CYR61   </td><td>cysteine-rich, angiogenic inducer, 61                                                      </td><td>CCN1|GIG1|IGFBP10                                 </td><td> 2654</td><td> 2654</td><td>O00622                                                                                                                                                          </td><td>NP_001545.2                                                            </td><td>Mouse:Cyr61|   </td><td>CCN Family           </td></tr>\n",
       "\t<tr><td>Core matrisome</td><td>ECM Glycoproteins</td><td>DDX26B  </td><td>DEAD/H (Asp-Glu-Ala-Asp/His) box polypeptide 26B                                           </td><td>DKFZp686G0470|FLJ41215|MGC88298                   </td><td>27334</td><td>27334</td><td>Q5JSJ4                                                                                                                                                          </td><td>NP_872346.3                                                            </td><td>Mouse:Ddx26b|  </td><td>NA                   </td></tr>\n",
       "\t<tr><td>Core matrisome</td><td>ECM Glycoproteins</td><td>DMBT1   </td><td>deleted in malignant brain tumors 1                                                        </td><td>FLJ61058|GP340|MGC164738|muclin                   </td><td> 2926</td><td> 2926</td><td>Q9UGM3                                                                                                                                                          </td><td>NP_004397.2:NP_015568.2:NP_060049.2                                    </td><td>Mouse:Dmbt1|   </td><td>NA                   </td></tr>\n",
       "\t<tr><td>Core matrisome</td><td>ECM Glycoproteins</td><td>DMP1    </td><td>dentin matrix acidic phosphoprotein 1                                                      </td><td>ARHP|ARHR|DMP-1                                   </td><td> 2932</td><td> 2932</td><td>Q13316                                                                                                                                                          </td><td>NP_001073380.1:NP_004398.1                                             </td><td>Mouse:Dmp1|    </td><td>NA                   </td></tr>\n",
       "\t<tr><td>Core matrisome</td><td>ECM Glycoproteins</td><td>DPT     </td><td>dermatopontin                                                                              </td><td>TRAMP                                             </td><td> 3011</td><td> 3011</td><td>Q07507                                                                                                                                                          </td><td>NP_001928.2                                                            </td><td>Mouse:Dpt|     </td><td>NA                   </td></tr>\n",
       "\t<tr><td>Core matrisome</td><td>ECM Glycoproteins</td><td>DSPP    </td><td>dentin sialophosphoprotein                                                                 </td><td>DFNA39|DGI1|DMP3|DPP|DSP|DTDP2                    </td><td> 3054</td><td> 3054</td><td>Q9NZW4                                                                                                                                                          </td><td>NP_055023.2                                                            </td><td>Mouse:Dspp|    </td><td>NA                   </td></tr>\n",
       "\t<tr><td>Core matrisome</td><td>ECM Glycoproteins</td><td>ECM1    </td><td>extracellular matrix protein 1                                                             </td><td>-                                                 </td><td> 3153</td><td> 3153</td><td>Q16610                                                                                                                                                          </td><td>NP_001189787.1:NP_004416.2:NP_073155.2                                 </td><td>Mouse:Ecm1|    </td><td>NA                   </td></tr>\n",
       "\t<tr><td>⋮</td><td>⋮</td><td>⋮</td><td>⋮</td><td>⋮</td><td>⋮</td><td>⋮</td><td>⋮</td><td>⋮</td><td>⋮</td><td>⋮</td></tr>\n",
       "\t<tr><td>Retired</td><td>n/a</td><td>COL6A4P2       </td><td>collagen, type VI, alpha 4 pseudogene 2                                                          </td><td>COL6A4                                            </td><td>38501</td><td>NA</td><td>NA    </td><td>NA</td><td>Mouse:Col6a4|                                                                                                 </td><td>Pseudogene</td></tr>\n",
       "\t<tr><td>Retired</td><td>n/a</td><td>CST9L2         </td><td>Putative cystatin-9-like 2                                                                       </td><td>NA                                                </td><td>   NA</td><td>NA</td><td>NA    </td><td>NA</td><td>Mouse:Cst9|                                                                                                   </td><td>NA        </td></tr>\n",
       "\t<tr><td>Retired</td><td>n/a</td><td>CTF2P          </td><td>cardiotrophin 2, pseudogene                                                                      </td><td>NP                                                </td><td>33173</td><td>NA</td><td>NA    </td><td>NA</td><td>Mouse:Ctf2|                                                                                                   </td><td>Pseudogene</td></tr>\n",
       "\t<tr><td>Retired</td><td>n/a</td><td>CTSL3P         </td><td>cathepsin L family member 3                                                                      </td><td>HCTSL-s|CTSL3                                     </td><td>33132</td><td>NA</td><td>Q5NE16</td><td>NA</td><td>NA                                                                                                            </td><td>Pseudogene</td></tr>\n",
       "\t<tr><td>Retired</td><td>n/a</td><td>CTSLP3         </td><td>similar to Cathepsin L1                                                                          </td><td>CTSLL3|LOC644021                                  </td><td> 2541</td><td>NA</td><td>NA    </td><td>NA</td><td>NA                                                                                                            </td><td>Pseudogene</td></tr>\n",
       "\t<tr><td>Retired</td><td>n/a</td><td>CTSLP6         </td><td>cathepsin L-like 6                                                                               </td><td>bA479O17.1|CTSLL6                                 </td><td>23611</td><td>NA</td><td>NA    </td><td>NA</td><td>NA                                                                                                            </td><td>Pseudogene</td></tr>\n",
       "\t<tr><td>Retired</td><td>n/a</td><td>CTSLP7         </td><td>similar to Putative cathepsin L-like protein 6                                                   </td><td>LOC100133189                                      </td><td>23635</td><td>NA</td><td>NA    </td><td>NA</td><td>NA                                                                                                            </td><td>Pseudogene</td></tr>\n",
       "\t<tr><td>Retired</td><td>n/a</td><td>DMBT1P1        </td><td>deleted in malignant brain tumors 1 pseudogene                                                   </td><td>FLJ46361                                          </td><td>49497</td><td>NA</td><td>NA    </td><td>NA</td><td>Mouse:5430419D17Rik|                                                                                          </td><td>Pseudogene</td></tr>\n",
       "\t<tr><td>Retired</td><td>n/a</td><td>EGFEM1P        </td><td>chromosome 3 open reading frame 50                                                               </td><td>C3orf50                                           </td><td>25149</td><td>NA</td><td>Q0D2K5</td><td>NA</td><td>Mouse:Egfem1|                                                                                                 </td><td>Pseudogene</td></tr>\n",
       "\t<tr><td>Retired</td><td>n/a</td><td>FGF7P2         </td><td>fibroblast growth factor 7 pseudogene 2                                                          </td><td>FGF7L|PRED3                                       </td><td>17193</td><td>NA</td><td>NA    </td><td>NA</td><td>NA                                                                                                            </td><td>Pseudogene</td></tr>\n",
       "\t<tr><td>Retired</td><td>n/a</td><td>gene_A6NLB4    </td><td>NA                                                                                               </td><td>NA                                                </td><td>   NA</td><td>NA</td><td>NA    </td><td>NA</td><td>NA                                                                                                            </td><td>NA        </td></tr>\n",
       "\t<tr><td>Retired</td><td>n/a</td><td>HYALP1         </td><td>hyaluronoglucosaminidase pseudogene 1                                                            </td><td>-                                                 </td><td> 5324</td><td>NA</td><td>NA    </td><td>NA</td><td>Mouse:Hyal6|                                                                                                  </td><td>Pseudogene</td></tr>\n",
       "\t<tr><td>Retired</td><td>n/a</td><td>KGFLP1         </td><td>keratinocyte growth factor-like protein 1                                                        </td><td>MGC125746|MGC125747|MGC126891                     </td><td>   NA</td><td>NA</td><td>Q2TVT4</td><td>NA</td><td>NA                                                                                                            </td><td>NA        </td></tr>\n",
       "\t<tr><td>Retired</td><td>n/a</td><td>KGFLP2         </td><td>keratinocyte growth factor-like protein 2                                                        </td><td>-                                                 </td><td>   NA</td><td>NA</td><td>NA    </td><td>NA</td><td>NA                                                                                                            </td><td>NA        </td></tr>\n",
       "\t<tr><td>Retired</td><td>n/a</td><td>LOC400696      </td><td>lectin, galactoside-binding, soluble, 14-like                                                    </td><td>LGALS17A                                          </td><td>   NA</td><td>NA</td><td>NA    </td><td>NA</td><td>Mouse:Clc|                                                                                                    </td><td>NA        </td></tr>\n",
       "\t<tr><td>Retired</td><td>n/a</td><td>LOC728715      </td><td>similar to hCG38149                                                                              </td><td>NA                                                </td><td>   NA</td><td>NA</td><td>NA    </td><td>NA</td><td>Mouse:BC048546|                                                                                               </td><td>NA        </td></tr>\n",
       "\t<tr><td>Retired</td><td>n/a</td><td>LPAL2          </td><td>lipoprotein, Lp(a)-like 2 pseudogene                                                             </td><td>APOA2|APOAL|APOARGC|MGC129532|RP11-72O9.2         </td><td>21210</td><td>NA</td><td>Q16609</td><td>NA</td><td>NA                                                                                                            </td><td>Pseudogene</td></tr>\n",
       "\t<tr><td>Retired</td><td>n/a</td><td>MBL1P          </td><td>mannose-binding lectin (protein A) 1, pseudogene                                                 </td><td>COLEC3P|MBL1P1                                    </td><td> 6921</td><td>NA</td><td>NA    </td><td>NA</td><td>Mouse:Mbl1|                                                                                                   </td><td>Pseudogene</td></tr>\n",
       "\t<tr><td>Retired</td><td>n/a</td><td>MST1P2         </td><td>macrophage stimulating 1 (hepatocyte growth factor-like) pseudogene 2                            </td><td>FLJ18435|MSPL-1|MSPL-2|MSPL-3|MSPL1|MSPL2|MSPL3|MS</td><td> 7383</td><td>NA</td><td>NA    </td><td>NA</td><td>NA                                                                                                            </td><td>Pseudogene</td></tr>\n",
       "\t<tr><td>Retired</td><td>n/a</td><td>NCRNA00083     </td><td>non-protein coding RNA 83                                                                        </td><td>FLJ44005                                          </td><td>34521</td><td>NA</td><td>Q6ZU45</td><td>NA</td><td>NA                                                                                                            </td><td>linc      </td></tr>\n",
       "\t<tr><td>Retired</td><td>n/a</td><td>NEPNP          </td><td>nephrocan, pseudogene                                                                            </td><td>NEPN|NPN                                          </td><td>33184</td><td>NA</td><td>NA    </td><td>NA</td><td>Mouse:Nepn|                                                                                                   </td><td>Pseudogene</td></tr>\n",
       "\t<tr><td>Retired</td><td>n/a</td><td>NTF6B          </td><td>neurotrophin 6 beta (pseudogene)                                                                 </td><td>-                                                 </td><td> 8026</td><td>NA</td><td>NA    </td><td>NA</td><td>NA                                                                                                            </td><td>Pseudogene</td></tr>\n",
       "\t<tr><td>Retired</td><td>n/a</td><td>OVOS1          </td><td>UP:Ovostatin 1                                                                                   </td><td>NA                                                </td><td>   NA</td><td>NA</td><td>Q6IE37</td><td>NA</td><td>Mouse:BC048546|                                                                                               </td><td>NA        </td></tr>\n",
       "\t<tr><td>Retired</td><td>n/a</td><td>OVOS2          </td><td>UP:Ovostatin 2                                                                                   </td><td>NA                                                </td><td>   NA</td><td>NA</td><td>NA    </td><td>NA</td><td>Mouse:BC048546|                                                                                               </td><td>NA        </td></tr>\n",
       "\t<tr><td>Retired</td><td>n/a</td><td>PPBPP1         </td><td>pro-platelet basic protein-like 1                                                                </td><td>TGB2|PPBPL1                                       </td><td> 9241</td><td>NA</td><td>NA    </td><td>NA</td><td>NA                                                                                                            </td><td>Pseudogene</td></tr>\n",
       "\t<tr><td>Retired</td><td>n/a</td><td>PRSS3P1        </td><td>trypsinogen B                                                                                    </td><td>-|TRY5                                            </td><td>43787</td><td>NA</td><td>NA    </td><td>NA</td><td>Mouse:Gm10334|Mouse:Gm5409|Mouse:Gm5771|Mouse:Prss1|Mouse:Prss2|Mouse:Prss3|Mouse:Try10|Mouse:Try4|Mouse:Try5|</td><td>Pseudogene</td></tr>\n",
       "\t<tr><td>Retired</td><td>n/a</td><td>SERPINA13P     </td><td>serpin peptidase inhibitor, clade A (alpha-1 antiproteinase, antitrypsin), member 13 (pseudogene)</td><td>UNQ6121|SERPINA13                                 </td><td>30909</td><td>NA</td><td>Q6UXR4</td><td>NA</td><td>NA                                                                                                            </td><td>Pseudogene</td></tr>\n",
       "\t<tr><td>Retired</td><td>n/a</td><td>TNFSF12-TNFSF13</td><td>TNFSF12-TNFSF13 readthrough                                                                      </td><td>TWE-PRIL                                          </td><td>33537</td><td>NA</td><td>NA    </td><td>NA</td><td>Mouse:Tnfsf12tnfsf13|                                                                                         </td><td>Pseudogene</td></tr>\n",
       "\t<tr><td>Retired</td><td>n/a</td><td>TNXA           </td><td>tenascin XA pseudogene                                                                           </td><td>D6S103E|HXBL|TNX|XA                               </td><td>11975</td><td>NA</td><td>Q16473</td><td>NA</td><td>Mouse:Tnxa|                                                                                                   </td><td>Pseudogene</td></tr>\n",
       "\t<tr><td>Retired</td><td>n/a</td><td>UNQ5830        </td><td>AILT5830                                                                                         </td><td>-                                                 </td><td>   NA</td><td>NA</td><td>Q6UY13</td><td>NA</td><td>NA                                                                                                            </td><td>NA        </td></tr>\n",
       "</tbody>\n",
       "</table>\n"
      ],
      "text/latex": [
       "A spec\\_tbl\\_df: 1068 × 11\n",
       "\\begin{tabular}{lllllllllll}\n",
       " division & category & gene\\_symbol & gene\\_name & synonyms & hgnc\\_ids & hgnc\\_ids\\_links & uniprot\\_ids & refseq\\_ids & orthology & notes\\\\\n",
       " <chr> & <chr> & <chr> & <chr> & <chr> & <dbl> & <dbl> & <chr> & <chr> & <chr> & <chr>\\\\\n",
       "\\hline\n",
       "\t Core matrisome & ECM Glycoproteins & ABI3BP   & ABI family, member 3 (NESH) binding protein                                                 & FLJ41743\\textbar{}FLJ41754\\textbar{}NESHBP\\textbar{}TARSH                     & 17265 & 17265 & B4DSV9:D3YTG3:E9PPR9:E9PRB5:H0Y897:H0YCG4:H0YCP4:H0YDN0:H0YDW0:H0YEA0:H0YEL2:H0YF18:H0YF57:H7C4H3:H7C4N5:H7C4S3:H7C4T1:H7C4X4:H7C524:H7C556:H7C5S3:Q5JPC9:Q7Z7G0 & NP\\_056244.2:XP\\_005247340.1                                              & Mouse:Abi3bp\\textbar{}   & NA                   \\\\\n",
       "\t Core matrisome & ECM Glycoproteins & ADIPOQ   & adiponectin, C1Q and collagen domain containing                                             & ACDC\\textbar{}ACRP30\\textbar{}ADIPQTL1\\textbar{}ADPN\\textbar{}APM-1\\textbar{}APM1\\textbar{}GBP28\\textbar{}adipone & 13633 & 13633 & Q15848                                                                                                                                                           & NP\\_001171271.1:NP\\_004788.1                                              & Mouse:Adipoq\\textbar{}   & NA                   \\\\\n",
       "\t Core matrisome & ECM Glycoproteins & AEBP1    & AE binding protein 1                                                                        & ACLP; FLJ33612                                     &   303 &   303 & C9JLQ8:H7C0W8:H7C1J5:H7C391:H7C3D7:H7C4B5:Q8IUX7                                                                                                                 & NP\\_001120.3                                                             & Mouse:Aebp1\\textbar{}    & NA                   \\\\\n",
       "\t Core matrisome & ECM Glycoproteins & AGRN     & agrin                                                                                       & FLJ45064                                           &   329 &   329 & H0Y5U1:O00468                                                                                                                                                    & NP\\_940978.2:XP\\_005244806.1:XP\\_006710696.1                               & Mouse:Agrn\\textbar{}     & NA                   \\\\\n",
       "\t Core matrisome & ECM Glycoproteins & AMBN     & ameloblastin (enamel matrix protein)                                                        & -                                                  &   452 &   452 & Q9NP70                                                                                                                                                           & NP\\_057603.1                                                             & Mouse:Ambn\\textbar{}     & NA                   \\\\\n",
       "\t Core matrisome & ECM Glycoproteins & AMELX    & amelogenin (amelogenesis imperfecta 1, X-linked)                                            & AIH1\\textbar{}ALGN\\textbar{}AMG\\textbar{}AMGL\\textbar{}AMGX                            &   461 &   461 & Q99217                                                                                                                                                           & NP\\_001133.1:NP\\_872621.1:NP\\_872622.1                                     & Mouse:Amelx\\textbar{}    & NA                   \\\\\n",
       "\t Core matrisome & ECM Glycoproteins & AMELY    & amelogenin, Y-linked                                                                        & AMGL\\textbar{}AMGY                                          &   462 &   462 & J3KPK5:Q99218                                                                                                                                                    & NP\\_001134.1                                                             & NA              & NA                   \\\\\n",
       "\t Core matrisome & ECM Glycoproteins & BGLAP    & bone gamma-carboxyglutamate (gla) protein                                                   & BGP\\textbar{}OC\\textbar{}PMF1                                        &  1043 &  1043 & P02818                                                                                                                                                           & NP\\_954642.1                                                             & Mouse:Bglap2\\textbar{}   & NA                   \\\\\n",
       "\t Core matrisome & ECM Glycoproteins & BMPER    & BMP binding endothelial regulator                                                           & CRIM3\\textbar{}CV-2\\textbar{}CV2                                     & 24154 & 24154 & C9JY72:F8WDG9:G5E9K4:Q8N8U9                                                                                                                                      & NP\\_597725.1                                                             & Mouse:Bmper\\textbar{}    & Growth Factor-binding\\\\\n",
       "\t Core matrisome & ECM Glycoproteins & BSPH1    & binder of sperm protein homolog 1                                                           & BSP1\\textbar{}ELSPBP2                                       & 33906 & 33906 & Q075Z2                                                                                                                                                           & NP\\_001121798.1                                                          & Mouse:Bsph1\\textbar{}    & NA                   \\\\\n",
       "\t Core matrisome & ECM Glycoproteins & CDCP2    & CUB domain containing protein 2                                                             & -                                                  & 27297 & 27297 & Q5VXM1                                                                                                                                                           & NP\\_963840.2                                                             & Mouse:Cdcp2\\textbar{}    & NA                   \\\\\n",
       "\t Core matrisome & ECM Glycoproteins & CILP     & cartilage intermediate layer protein, nucleotide pyrophosphohydrolase                       & CILP-1\\textbar{}HsT18872                                    &  1980 &  1980 & O75339                                                                                                                                                           & NP\\_003604.3                                                             & Mouse:Cilp\\textbar{}     & NA                   \\\\\n",
       "\t Core matrisome & ECM Glycoproteins & CILP2    & cartilage intermediate layer protein 2                                                      & CLIP-2\\textbar{}MGC45771                                    & 24213 & 24213 & K7EPJ4:Q8IUL8                                                                                                                                                    & NP\\_694953.2                                                             & Mouse:Cilp2\\textbar{}    & NA                   \\\\\n",
       "\t Core matrisome & ECM Glycoproteins & COCH     & coagulation factor C homolog, cochlin (Limulus polyphemus)                                  & COCH-5B2\\textbar{}COCH5B2\\textbar{}DFNA9                             &  2180 &  2180 & E7EN67:G3V4C4:G3V5G6:G3V5V4:G3V5X3:H0YJJ0:H0YJW4:O43405:Q96IU6                                                                                                   & NP\\_001128530.1:NP\\_004077.1:XP\\_006720136.1                               & Mouse:Coch\\textbar{}     & NA                   \\\\\n",
       "\t Core matrisome & ECM Glycoproteins & COLQ     & collagen-like tail subunit (single strand of homotrimer) of asymmetric acetylcholinesterase & EAD\\textbar{}FLJ55041                                       &  2226 &  2226 & C9JBB2:F8WA67:Q9Y215:S4R408                                                                                                                                      & NP\\_005668.2:NP\\_536799.1:NP\\_536800.2                                     & Mouse:Colq\\textbar{}     & Basement Membrane    \\\\\n",
       "\t Core matrisome & ECM Glycoproteins & COMP     & cartilage oligomeric matrix protein                                                         & EDM1\\textbar{}EPD1\\textbar{}MED\\textbar{}MGC131819\\textbar{}MGC149768\\textbar{}PSACH\\textbar{}THBS5      &  2227 &  2227 & B4DKJ3:G3XAP6:P49747                                                                                                                                             & NP\\_000086.2                                                             & Mouse:Comp\\textbar{}     & NA                   \\\\\n",
       "\t Core matrisome & ECM Glycoproteins & CRELD1   & cysteine-rich with EGF-like domains 1                                                       & AVSD2\\textbar{}CIRRIN\\textbar{}DKFZp566D213                          & 14630 & 14630 & F8WBY3:H7C2L3:Q96HD1                                                                                                                                             & NP\\_001026887.1:NP\\_001070883.1:NP\\_056328.2:XP\\_006713391.1                & Mouse:Creld1\\textbar{}   & NA                   \\\\\n",
       "\t Core matrisome & ECM Glycoproteins & CRELD2   & cysteine-rich with EGF-like domains 2                                                       & DKFZp667O055\\textbar{}MGC11256                              & 28150 & 28150 & A6PWM2:Q6UXH1                                                                                                                                                    & NP\\_001128573.1:NP\\_001271246.1:NP\\_001271247.1:NP\\_077300.3:XP\\_005261795.1 & Mouse:Creld2\\textbar{}   & NA                   \\\\\n",
       "\t Core matrisome & ECM Glycoproteins & CRIM1    & cysteine rich transmembrane BMP regulator 1 (chordin-like)                                  & MGC138194\\textbar{}S52                                      &  2359 &  2359 & H7C1Z0:H7C2T6:H7C458:Q9NZV1                                                                                                                                      & NP\\_057525.1                                                             & Mouse:Crim1\\textbar{}    & NA                   \\\\\n",
       "\t Core matrisome & ECM Glycoproteins & CRISPLD1 & cysteine-rich secretory protein LCCL domain containing 1                                    & CRISP10\\textbar{}DKFZp762F133\\textbar{}LCRISP1                       & 18206 & 18206 & B7Z8V9:E5RJS4:Q9H336                                                                                                                                             & NP\\_001273707.1:NP\\_113649.1                                              & Mouse:Crispld1\\textbar{} & NA                   \\\\\n",
       "\t Core matrisome & ECM Glycoproteins & CRISPLD2 & cysteine-rich secretory protein LCCL domain containing 2                                    & CRISP11\\textbar{}DKFZp434B044\\textbar{}LCRISP2\\textbar{}MGC74865              & 25248 & 25248 & H3BS62:H3BSZ9:H3BTI0:H3BTP0:J3QKP2:Q9H0B8                                                                                                                        & NP\\_113664.1:XP\\_005256247.1                                              & Mouse:Crispld2\\textbar{} & NA                   \\\\\n",
       "\t Core matrisome & ECM Glycoproteins & CTGF     & connective tissue growth factor                                                             & CCN2\\textbar{}HCS24\\textbar{}IGFBP8\\textbar{}MGC102839\\textbar{}NOV2                   &  2500 &  2500 & P29279                                                                                                                                                           & NP\\_001892.1                                                             & Mouse:Ctgf\\textbar{}     & CCN Family           \\\\\n",
       "\t Core matrisome & ECM Glycoproteins & CTHRC1   & collagen triple helix repeat containing 1                                                   & -                                                  & 18831 & 18831 & E5RK99:E7EVQ5:Q96CG8                                                                                                                                             & NP\\_001243028.1:NP\\_612464.1                                              & Mouse:Cthrc1\\textbar{}   & NA                   \\\\\n",
       "\t Core matrisome & ECM Glycoproteins & CYR61    & cysteine-rich, angiogenic inducer, 61                                                       & CCN1\\textbar{}GIG1\\textbar{}IGFBP10                                  &  2654 &  2654 & O00622                                                                                                                                                           & NP\\_001545.2                                                             & Mouse:Cyr61\\textbar{}    & CCN Family           \\\\\n",
       "\t Core matrisome & ECM Glycoproteins & DDX26B   & DEAD/H (Asp-Glu-Ala-Asp/His) box polypeptide 26B                                            & DKFZp686G0470\\textbar{}FLJ41215\\textbar{}MGC88298                    & 27334 & 27334 & Q5JSJ4                                                                                                                                                           & NP\\_872346.3                                                             & Mouse:Ddx26b\\textbar{}   & NA                   \\\\\n",
       "\t Core matrisome & ECM Glycoproteins & DMBT1    & deleted in malignant brain tumors 1                                                         & FLJ61058\\textbar{}GP340\\textbar{}MGC164738\\textbar{}muclin                    &  2926 &  2926 & Q9UGM3                                                                                                                                                           & NP\\_004397.2:NP\\_015568.2:NP\\_060049.2                                     & Mouse:Dmbt1\\textbar{}    & NA                   \\\\\n",
       "\t Core matrisome & ECM Glycoproteins & DMP1     & dentin matrix acidic phosphoprotein 1                                                       & ARHP\\textbar{}ARHR\\textbar{}DMP-1                                    &  2932 &  2932 & Q13316                                                                                                                                                           & NP\\_001073380.1:NP\\_004398.1                                              & Mouse:Dmp1\\textbar{}     & NA                   \\\\\n",
       "\t Core matrisome & ECM Glycoproteins & DPT      & dermatopontin                                                                               & TRAMP                                              &  3011 &  3011 & Q07507                                                                                                                                                           & NP\\_001928.2                                                             & Mouse:Dpt\\textbar{}      & NA                   \\\\\n",
       "\t Core matrisome & ECM Glycoproteins & DSPP     & dentin sialophosphoprotein                                                                  & DFNA39\\textbar{}DGI1\\textbar{}DMP3\\textbar{}DPP\\textbar{}DSP\\textbar{}DTDP2                     &  3054 &  3054 & Q9NZW4                                                                                                                                                           & NP\\_055023.2                                                             & Mouse:Dspp\\textbar{}     & NA                   \\\\\n",
       "\t Core matrisome & ECM Glycoproteins & ECM1     & extracellular matrix protein 1                                                              & -                                                  &  3153 &  3153 & Q16610                                                                                                                                                           & NP\\_001189787.1:NP\\_004416.2:NP\\_073155.2                                  & Mouse:Ecm1\\textbar{}     & NA                   \\\\\n",
       "\t ⋮ & ⋮ & ⋮ & ⋮ & ⋮ & ⋮ & ⋮ & ⋮ & ⋮ & ⋮ & ⋮\\\\\n",
       "\t Retired & n/a & COL6A4P2        & collagen, type VI, alpha 4 pseudogene 2                                                           & COL6A4                                             & 38501 & NA & NA     & NA & Mouse:Col6a4\\textbar{}                                                                                                  & Pseudogene\\\\\n",
       "\t Retired & n/a & CST9L2          & Putative cystatin-9-like 2                                                                        & NA                                                 &    NA & NA & NA     & NA & Mouse:Cst9\\textbar{}                                                                                                    & NA        \\\\\n",
       "\t Retired & n/a & CTF2P           & cardiotrophin 2, pseudogene                                                                       & NP                                                 & 33173 & NA & NA     & NA & Mouse:Ctf2\\textbar{}                                                                                                    & Pseudogene\\\\\n",
       "\t Retired & n/a & CTSL3P          & cathepsin L family member 3                                                                       & HCTSL-s\\textbar{}CTSL3                                      & 33132 & NA & Q5NE16 & NA & NA                                                                                                             & Pseudogene\\\\\n",
       "\t Retired & n/a & CTSLP3          & similar to Cathepsin L1                                                                           & CTSLL3\\textbar{}LOC644021                                   &  2541 & NA & NA     & NA & NA                                                                                                             & Pseudogene\\\\\n",
       "\t Retired & n/a & CTSLP6          & cathepsin L-like 6                                                                                & bA479O17.1\\textbar{}CTSLL6                                  & 23611 & NA & NA     & NA & NA                                                                                                             & Pseudogene\\\\\n",
       "\t Retired & n/a & CTSLP7          & similar to Putative cathepsin L-like protein 6                                                    & LOC100133189                                       & 23635 & NA & NA     & NA & NA                                                                                                             & Pseudogene\\\\\n",
       "\t Retired & n/a & DMBT1P1         & deleted in malignant brain tumors 1 pseudogene                                                    & FLJ46361                                           & 49497 & NA & NA     & NA & Mouse:5430419D17Rik\\textbar{}                                                                                           & Pseudogene\\\\\n",
       "\t Retired & n/a & EGFEM1P         & chromosome 3 open reading frame 50                                                                & C3orf50                                            & 25149 & NA & Q0D2K5 & NA & Mouse:Egfem1\\textbar{}                                                                                                  & Pseudogene\\\\\n",
       "\t Retired & n/a & FGF7P2          & fibroblast growth factor 7 pseudogene 2                                                           & FGF7L\\textbar{}PRED3                                        & 17193 & NA & NA     & NA & NA                                                                                                             & Pseudogene\\\\\n",
       "\t Retired & n/a & gene\\_A6NLB4     & NA                                                                                                & NA                                                 &    NA & NA & NA     & NA & NA                                                                                                             & NA        \\\\\n",
       "\t Retired & n/a & HYALP1          & hyaluronoglucosaminidase pseudogene 1                                                             & -                                                  &  5324 & NA & NA     & NA & Mouse:Hyal6\\textbar{}                                                                                                   & Pseudogene\\\\\n",
       "\t Retired & n/a & KGFLP1          & keratinocyte growth factor-like protein 1                                                         & MGC125746\\textbar{}MGC125747\\textbar{}MGC126891                      &    NA & NA & Q2TVT4 & NA & NA                                                                                                             & NA        \\\\\n",
       "\t Retired & n/a & KGFLP2          & keratinocyte growth factor-like protein 2                                                         & -                                                  &    NA & NA & NA     & NA & NA                                                                                                             & NA        \\\\\n",
       "\t Retired & n/a & LOC400696       & lectin, galactoside-binding, soluble, 14-like                                                     & LGALS17A                                           &    NA & NA & NA     & NA & Mouse:Clc\\textbar{}                                                                                                     & NA        \\\\\n",
       "\t Retired & n/a & LOC728715       & similar to hCG38149                                                                               & NA                                                 &    NA & NA & NA     & NA & Mouse:BC048546\\textbar{}                                                                                                & NA        \\\\\n",
       "\t Retired & n/a & LPAL2           & lipoprotein, Lp(a)-like 2 pseudogene                                                              & APOA2\\textbar{}APOAL\\textbar{}APOARGC\\textbar{}MGC129532\\textbar{}RP11-72O9.2          & 21210 & NA & Q16609 & NA & NA                                                                                                             & Pseudogene\\\\\n",
       "\t Retired & n/a & MBL1P           & mannose-binding lectin (protein A) 1, pseudogene                                                  & COLEC3P\\textbar{}MBL1P1                                     &  6921 & NA & NA     & NA & Mouse:Mbl1\\textbar{}                                                                                                    & Pseudogene\\\\\n",
       "\t Retired & n/a & MST1P2          & macrophage stimulating 1 (hepatocyte growth factor-like) pseudogene 2                             & FLJ18435\\textbar{}MSPL-1\\textbar{}MSPL-2\\textbar{}MSPL-3\\textbar{}MSPL1\\textbar{}MSPL2\\textbar{}MSPL3\\textbar{}MS &  7383 & NA & NA     & NA & NA                                                                                                             & Pseudogene\\\\\n",
       "\t Retired & n/a & NCRNA00083      & non-protein coding RNA 83                                                                         & FLJ44005                                           & 34521 & NA & Q6ZU45 & NA & NA                                                                                                             & linc      \\\\\n",
       "\t Retired & n/a & NEPNP           & nephrocan, pseudogene                                                                             & NEPN\\textbar{}NPN                                           & 33184 & NA & NA     & NA & Mouse:Nepn\\textbar{}                                                                                                    & Pseudogene\\\\\n",
       "\t Retired & n/a & NTF6B           & neurotrophin 6 beta (pseudogene)                                                                  & -                                                  &  8026 & NA & NA     & NA & NA                                                                                                             & Pseudogene\\\\\n",
       "\t Retired & n/a & OVOS1           & UP:Ovostatin 1                                                                                    & NA                                                 &    NA & NA & Q6IE37 & NA & Mouse:BC048546\\textbar{}                                                                                                & NA        \\\\\n",
       "\t Retired & n/a & OVOS2           & UP:Ovostatin 2                                                                                    & NA                                                 &    NA & NA & NA     & NA & Mouse:BC048546\\textbar{}                                                                                                & NA        \\\\\n",
       "\t Retired & n/a & PPBPP1          & pro-platelet basic protein-like 1                                                                 & TGB2\\textbar{}PPBPL1                                        &  9241 & NA & NA     & NA & NA                                                                                                             & Pseudogene\\\\\n",
       "\t Retired & n/a & PRSS3P1         & trypsinogen B                                                                                     & -\\textbar{}TRY5                                             & 43787 & NA & NA     & NA & Mouse:Gm10334\\textbar{}Mouse:Gm5409\\textbar{}Mouse:Gm5771\\textbar{}Mouse:Prss1\\textbar{}Mouse:Prss2\\textbar{}Mouse:Prss3\\textbar{}Mouse:Try10\\textbar{}Mouse:Try4\\textbar{}Mouse:Try5\\textbar{} & Pseudogene\\\\\n",
       "\t Retired & n/a & SERPINA13P      & serpin peptidase inhibitor, clade A (alpha-1 antiproteinase, antitrypsin), member 13 (pseudogene) & UNQ6121\\textbar{}SERPINA13                                  & 30909 & NA & Q6UXR4 & NA & NA                                                                                                             & Pseudogene\\\\\n",
       "\t Retired & n/a & TNFSF12-TNFSF13 & TNFSF12-TNFSF13 readthrough                                                                       & TWE-PRIL                                           & 33537 & NA & NA     & NA & Mouse:Tnfsf12tnfsf13\\textbar{}                                                                                          & Pseudogene\\\\\n",
       "\t Retired & n/a & TNXA            & tenascin XA pseudogene                                                                            & D6S103E\\textbar{}HXBL\\textbar{}TNX\\textbar{}XA                                & 11975 & NA & Q16473 & NA & Mouse:Tnxa\\textbar{}                                                                                                    & Pseudogene\\\\\n",
       "\t Retired & n/a & UNQ5830         & AILT5830                                                                                          & -                                                  &    NA & NA & Q6UY13 & NA & NA                                                                                                             & NA        \\\\\n",
       "\\end{tabular}\n"
      ],
      "text/markdown": [
       "\n",
       "A spec_tbl_df: 1068 × 11\n",
       "\n",
       "| division &lt;chr&gt; | category &lt;chr&gt; | gene_symbol &lt;chr&gt; | gene_name &lt;chr&gt; | synonyms &lt;chr&gt; | hgnc_ids &lt;dbl&gt; | hgnc_ids_links &lt;dbl&gt; | uniprot_ids &lt;chr&gt; | refseq_ids &lt;chr&gt; | orthology &lt;chr&gt; | notes &lt;chr&gt; |\n",
       "|---|---|---|---|---|---|---|---|---|---|---|\n",
       "| Core matrisome | ECM Glycoproteins | ABI3BP   | ABI family, member 3 (NESH) binding protein                                                 | FLJ41743|FLJ41754|NESHBP|TARSH                     | 17265 | 17265 | B4DSV9:D3YTG3:E9PPR9:E9PRB5:H0Y897:H0YCG4:H0YCP4:H0YDN0:H0YDW0:H0YEA0:H0YEL2:H0YF18:H0YF57:H7C4H3:H7C4N5:H7C4S3:H7C4T1:H7C4X4:H7C524:H7C556:H7C5S3:Q5JPC9:Q7Z7G0 | NP_056244.2:XP_005247340.1                                              | Mouse:Abi3bp|   | NA                    |\n",
       "| Core matrisome | ECM Glycoproteins | ADIPOQ   | adiponectin, C1Q and collagen domain containing                                             | ACDC|ACRP30|ADIPQTL1|ADPN|APM-1|APM1|GBP28|adipone | 13633 | 13633 | Q15848                                                                                                                                                           | NP_001171271.1:NP_004788.1                                              | Mouse:Adipoq|   | NA                    |\n",
       "| Core matrisome | ECM Glycoproteins | AEBP1    | AE binding protein 1                                                                        | ACLP; FLJ33612                                     |   303 |   303 | C9JLQ8:H7C0W8:H7C1J5:H7C391:H7C3D7:H7C4B5:Q8IUX7                                                                                                                 | NP_001120.3                                                             | Mouse:Aebp1|    | NA                    |\n",
       "| Core matrisome | ECM Glycoproteins | AGRN     | agrin                                                                                       | FLJ45064                                           |   329 |   329 | H0Y5U1:O00468                                                                                                                                                    | NP_940978.2:XP_005244806.1:XP_006710696.1                               | Mouse:Agrn|     | NA                    |\n",
       "| Core matrisome | ECM Glycoproteins | AMBN     | ameloblastin (enamel matrix protein)                                                        | -                                                  |   452 |   452 | Q9NP70                                                                                                                                                           | NP_057603.1                                                             | Mouse:Ambn|     | NA                    |\n",
       "| Core matrisome | ECM Glycoproteins | AMELX    | amelogenin (amelogenesis imperfecta 1, X-linked)                                            | AIH1|ALGN|AMG|AMGL|AMGX                            |   461 |   461 | Q99217                                                                                                                                                           | NP_001133.1:NP_872621.1:NP_872622.1                                     | Mouse:Amelx|    | NA                    |\n",
       "| Core matrisome | ECM Glycoproteins | AMELY    | amelogenin, Y-linked                                                                        | AMGL|AMGY                                          |   462 |   462 | J3KPK5:Q99218                                                                                                                                                    | NP_001134.1                                                             | NA              | NA                    |\n",
       "| Core matrisome | ECM Glycoproteins | BGLAP    | bone gamma-carboxyglutamate (gla) protein                                                   | BGP|OC|PMF1                                        |  1043 |  1043 | P02818                                                                                                                                                           | NP_954642.1                                                             | Mouse:Bglap2|   | NA                    |\n",
       "| Core matrisome | ECM Glycoproteins | BMPER    | BMP binding endothelial regulator                                                           | CRIM3|CV-2|CV2                                     | 24154 | 24154 | C9JY72:F8WDG9:G5E9K4:Q8N8U9                                                                                                                                      | NP_597725.1                                                             | Mouse:Bmper|    | Growth Factor-binding |\n",
       "| Core matrisome | ECM Glycoproteins | BSPH1    | binder of sperm protein homolog 1                                                           | BSP1|ELSPBP2                                       | 33906 | 33906 | Q075Z2                                                                                                                                                           | NP_001121798.1                                                          | Mouse:Bsph1|    | NA                    |\n",
       "| Core matrisome | ECM Glycoproteins | CDCP2    | CUB domain containing protein 2                                                             | -                                                  | 27297 | 27297 | Q5VXM1                                                                                                                                                           | NP_963840.2                                                             | Mouse:Cdcp2|    | NA                    |\n",
       "| Core matrisome | ECM Glycoproteins | CILP     | cartilage intermediate layer protein, nucleotide pyrophosphohydrolase                       | CILP-1|HsT18872                                    |  1980 |  1980 | O75339                                                                                                                                                           | NP_003604.3                                                             | Mouse:Cilp|     | NA                    |\n",
       "| Core matrisome | ECM Glycoproteins | CILP2    | cartilage intermediate layer protein 2                                                      | CLIP-2|MGC45771                                    | 24213 | 24213 | K7EPJ4:Q8IUL8                                                                                                                                                    | NP_694953.2                                                             | Mouse:Cilp2|    | NA                    |\n",
       "| Core matrisome | ECM Glycoproteins | COCH     | coagulation factor C homolog, cochlin (Limulus polyphemus)                                  | COCH-5B2|COCH5B2|DFNA9                             |  2180 |  2180 | E7EN67:G3V4C4:G3V5G6:G3V5V4:G3V5X3:H0YJJ0:H0YJW4:O43405:Q96IU6                                                                                                   | NP_001128530.1:NP_004077.1:XP_006720136.1                               | Mouse:Coch|     | NA                    |\n",
       "| Core matrisome | ECM Glycoproteins | COLQ     | collagen-like tail subunit (single strand of homotrimer) of asymmetric acetylcholinesterase | EAD|FLJ55041                                       |  2226 |  2226 | C9JBB2:F8WA67:Q9Y215:S4R408                                                                                                                                      | NP_005668.2:NP_536799.1:NP_536800.2                                     | Mouse:Colq|     | Basement Membrane     |\n",
       "| Core matrisome | ECM Glycoproteins | COMP     | cartilage oligomeric matrix protein                                                         | EDM1|EPD1|MED|MGC131819|MGC149768|PSACH|THBS5      |  2227 |  2227 | B4DKJ3:G3XAP6:P49747                                                                                                                                             | NP_000086.2                                                             | Mouse:Comp|     | NA                    |\n",
       "| Core matrisome | ECM Glycoproteins | CRELD1   | cysteine-rich with EGF-like domains 1                                                       | AVSD2|CIRRIN|DKFZp566D213                          | 14630 | 14630 | F8WBY3:H7C2L3:Q96HD1                                                                                                                                             | NP_001026887.1:NP_001070883.1:NP_056328.2:XP_006713391.1                | Mouse:Creld1|   | NA                    |\n",
       "| Core matrisome | ECM Glycoproteins | CRELD2   | cysteine-rich with EGF-like domains 2                                                       | DKFZp667O055|MGC11256                              | 28150 | 28150 | A6PWM2:Q6UXH1                                                                                                                                                    | NP_001128573.1:NP_001271246.1:NP_001271247.1:NP_077300.3:XP_005261795.1 | Mouse:Creld2|   | NA                    |\n",
       "| Core matrisome | ECM Glycoproteins | CRIM1    | cysteine rich transmembrane BMP regulator 1 (chordin-like)                                  | MGC138194|S52                                      |  2359 |  2359 | H7C1Z0:H7C2T6:H7C458:Q9NZV1                                                                                                                                      | NP_057525.1                                                             | Mouse:Crim1|    | NA                    |\n",
       "| Core matrisome | ECM Glycoproteins | CRISPLD1 | cysteine-rich secretory protein LCCL domain containing 1                                    | CRISP10|DKFZp762F133|LCRISP1                       | 18206 | 18206 | B7Z8V9:E5RJS4:Q9H336                                                                                                                                             | NP_001273707.1:NP_113649.1                                              | Mouse:Crispld1| | NA                    |\n",
       "| Core matrisome | ECM Glycoproteins | CRISPLD2 | cysteine-rich secretory protein LCCL domain containing 2                                    | CRISP11|DKFZp434B044|LCRISP2|MGC74865              | 25248 | 25248 | H3BS62:H3BSZ9:H3BTI0:H3BTP0:J3QKP2:Q9H0B8                                                                                                                        | NP_113664.1:XP_005256247.1                                              | Mouse:Crispld2| | NA                    |\n",
       "| Core matrisome | ECM Glycoproteins | CTGF     | connective tissue growth factor                                                             | CCN2|HCS24|IGFBP8|MGC102839|NOV2                   |  2500 |  2500 | P29279                                                                                                                                                           | NP_001892.1                                                             | Mouse:Ctgf|     | CCN Family            |\n",
       "| Core matrisome | ECM Glycoproteins | CTHRC1   | collagen triple helix repeat containing 1                                                   | -                                                  | 18831 | 18831 | E5RK99:E7EVQ5:Q96CG8                                                                                                                                             | NP_001243028.1:NP_612464.1                                              | Mouse:Cthrc1|   | NA                    |\n",
       "| Core matrisome | ECM Glycoproteins | CYR61    | cysteine-rich, angiogenic inducer, 61                                                       | CCN1|GIG1|IGFBP10                                  |  2654 |  2654 | O00622                                                                                                                                                           | NP_001545.2                                                             | Mouse:Cyr61|    | CCN Family            |\n",
       "| Core matrisome | ECM Glycoproteins | DDX26B   | DEAD/H (Asp-Glu-Ala-Asp/His) box polypeptide 26B                                            | DKFZp686G0470|FLJ41215|MGC88298                    | 27334 | 27334 | Q5JSJ4                                                                                                                                                           | NP_872346.3                                                             | Mouse:Ddx26b|   | NA                    |\n",
       "| Core matrisome | ECM Glycoproteins | DMBT1    | deleted in malignant brain tumors 1                                                         | FLJ61058|GP340|MGC164738|muclin                    |  2926 |  2926 | Q9UGM3                                                                                                                                                           | NP_004397.2:NP_015568.2:NP_060049.2                                     | Mouse:Dmbt1|    | NA                    |\n",
       "| Core matrisome | ECM Glycoproteins | DMP1     | dentin matrix acidic phosphoprotein 1                                                       | ARHP|ARHR|DMP-1                                    |  2932 |  2932 | Q13316                                                                                                                                                           | NP_001073380.1:NP_004398.1                                              | Mouse:Dmp1|     | NA                    |\n",
       "| Core matrisome | ECM Glycoproteins | DPT      | dermatopontin                                                                               | TRAMP                                              |  3011 |  3011 | Q07507                                                                                                                                                           | NP_001928.2                                                             | Mouse:Dpt|      | NA                    |\n",
       "| Core matrisome | ECM Glycoproteins | DSPP     | dentin sialophosphoprotein                                                                  | DFNA39|DGI1|DMP3|DPP|DSP|DTDP2                     |  3054 |  3054 | Q9NZW4                                                                                                                                                           | NP_055023.2                                                             | Mouse:Dspp|     | NA                    |\n",
       "| Core matrisome | ECM Glycoproteins | ECM1     | extracellular matrix protein 1                                                              | -                                                  |  3153 |  3153 | Q16610                                                                                                                                                           | NP_001189787.1:NP_004416.2:NP_073155.2                                  | Mouse:Ecm1|     | NA                    |\n",
       "| ⋮ | ⋮ | ⋮ | ⋮ | ⋮ | ⋮ | ⋮ | ⋮ | ⋮ | ⋮ | ⋮ |\n",
       "| Retired | n/a | COL6A4P2        | collagen, type VI, alpha 4 pseudogene 2                                                           | COL6A4                                             | 38501 | NA | NA     | NA | Mouse:Col6a4|                                                                                                  | Pseudogene |\n",
       "| Retired | n/a | CST9L2          | Putative cystatin-9-like 2                                                                        | NA                                                 |    NA | NA | NA     | NA | Mouse:Cst9|                                                                                                    | NA         |\n",
       "| Retired | n/a | CTF2P           | cardiotrophin 2, pseudogene                                                                       | NP                                                 | 33173 | NA | NA     | NA | Mouse:Ctf2|                                                                                                    | Pseudogene |\n",
       "| Retired | n/a | CTSL3P          | cathepsin L family member 3                                                                       | HCTSL-s|CTSL3                                      | 33132 | NA | Q5NE16 | NA | NA                                                                                                             | Pseudogene |\n",
       "| Retired | n/a | CTSLP3          | similar to Cathepsin L1                                                                           | CTSLL3|LOC644021                                   |  2541 | NA | NA     | NA | NA                                                                                                             | Pseudogene |\n",
       "| Retired | n/a | CTSLP6          | cathepsin L-like 6                                                                                | bA479O17.1|CTSLL6                                  | 23611 | NA | NA     | NA | NA                                                                                                             | Pseudogene |\n",
       "| Retired | n/a | CTSLP7          | similar to Putative cathepsin L-like protein 6                                                    | LOC100133189                                       | 23635 | NA | NA     | NA | NA                                                                                                             | Pseudogene |\n",
       "| Retired | n/a | DMBT1P1         | deleted in malignant brain tumors 1 pseudogene                                                    | FLJ46361                                           | 49497 | NA | NA     | NA | Mouse:5430419D17Rik|                                                                                           | Pseudogene |\n",
       "| Retired | n/a | EGFEM1P         | chromosome 3 open reading frame 50                                                                | C3orf50                                            | 25149 | NA | Q0D2K5 | NA | Mouse:Egfem1|                                                                                                  | Pseudogene |\n",
       "| Retired | n/a | FGF7P2          | fibroblast growth factor 7 pseudogene 2                                                           | FGF7L|PRED3                                        | 17193 | NA | NA     | NA | NA                                                                                                             | Pseudogene |\n",
       "| Retired | n/a | gene_A6NLB4     | NA                                                                                                | NA                                                 |    NA | NA | NA     | NA | NA                                                                                                             | NA         |\n",
       "| Retired | n/a | HYALP1          | hyaluronoglucosaminidase pseudogene 1                                                             | -                                                  |  5324 | NA | NA     | NA | Mouse:Hyal6|                                                                                                   | Pseudogene |\n",
       "| Retired | n/a | KGFLP1          | keratinocyte growth factor-like protein 1                                                         | MGC125746|MGC125747|MGC126891                      |    NA | NA | Q2TVT4 | NA | NA                                                                                                             | NA         |\n",
       "| Retired | n/a | KGFLP2          | keratinocyte growth factor-like protein 2                                                         | -                                                  |    NA | NA | NA     | NA | NA                                                                                                             | NA         |\n",
       "| Retired | n/a | LOC400696       | lectin, galactoside-binding, soluble, 14-like                                                     | LGALS17A                                           |    NA | NA | NA     | NA | Mouse:Clc|                                                                                                     | NA         |\n",
       "| Retired | n/a | LOC728715       | similar to hCG38149                                                                               | NA                                                 |    NA | NA | NA     | NA | Mouse:BC048546|                                                                                                | NA         |\n",
       "| Retired | n/a | LPAL2           | lipoprotein, Lp(a)-like 2 pseudogene                                                              | APOA2|APOAL|APOARGC|MGC129532|RP11-72O9.2          | 21210 | NA | Q16609 | NA | NA                                                                                                             | Pseudogene |\n",
       "| Retired | n/a | MBL1P           | mannose-binding lectin (protein A) 1, pseudogene                                                  | COLEC3P|MBL1P1                                     |  6921 | NA | NA     | NA | Mouse:Mbl1|                                                                                                    | Pseudogene |\n",
       "| Retired | n/a | MST1P2          | macrophage stimulating 1 (hepatocyte growth factor-like) pseudogene 2                             | FLJ18435|MSPL-1|MSPL-2|MSPL-3|MSPL1|MSPL2|MSPL3|MS |  7383 | NA | NA     | NA | NA                                                                                                             | Pseudogene |\n",
       "| Retired | n/a | NCRNA00083      | non-protein coding RNA 83                                                                         | FLJ44005                                           | 34521 | NA | Q6ZU45 | NA | NA                                                                                                             | linc       |\n",
       "| Retired | n/a | NEPNP           | nephrocan, pseudogene                                                                             | NEPN|NPN                                           | 33184 | NA | NA     | NA | Mouse:Nepn|                                                                                                    | Pseudogene |\n",
       "| Retired | n/a | NTF6B           | neurotrophin 6 beta (pseudogene)                                                                  | -                                                  |  8026 | NA | NA     | NA | NA                                                                                                             | Pseudogene |\n",
       "| Retired | n/a | OVOS1           | UP:Ovostatin 1                                                                                    | NA                                                 |    NA | NA | Q6IE37 | NA | Mouse:BC048546|                                                                                                | NA         |\n",
       "| Retired | n/a | OVOS2           | UP:Ovostatin 2                                                                                    | NA                                                 |    NA | NA | NA     | NA | Mouse:BC048546|                                                                                                | NA         |\n",
       "| Retired | n/a | PPBPP1          | pro-platelet basic protein-like 1                                                                 | TGB2|PPBPL1                                        |  9241 | NA | NA     | NA | NA                                                                                                             | Pseudogene |\n",
       "| Retired | n/a | PRSS3P1         | trypsinogen B                                                                                     | -|TRY5                                             | 43787 | NA | NA     | NA | Mouse:Gm10334|Mouse:Gm5409|Mouse:Gm5771|Mouse:Prss1|Mouse:Prss2|Mouse:Prss3|Mouse:Try10|Mouse:Try4|Mouse:Try5| | Pseudogene |\n",
       "| Retired | n/a | SERPINA13P      | serpin peptidase inhibitor, clade A (alpha-1 antiproteinase, antitrypsin), member 13 (pseudogene) | UNQ6121|SERPINA13                                  | 30909 | NA | Q6UXR4 | NA | NA                                                                                                             | Pseudogene |\n",
       "| Retired | n/a | TNFSF12-TNFSF13 | TNFSF12-TNFSF13 readthrough                                                                       | TWE-PRIL                                           | 33537 | NA | NA     | NA | Mouse:Tnfsf12tnfsf13|                                                                                          | Pseudogene |\n",
       "| Retired | n/a | TNXA            | tenascin XA pseudogene                                                                            | D6S103E|HXBL|TNX|XA                                | 11975 | NA | Q16473 | NA | Mouse:Tnxa|                                                                                                    | Pseudogene |\n",
       "| Retired | n/a | UNQ5830         | AILT5830                                                                                          | -                                                  |    NA | NA | Q6UY13 | NA | NA                                                                                                             | NA         |\n",
       "\n"
      ],
      "text/plain": [
       "     division       category          gene_symbol    \n",
       "1    Core matrisome ECM Glycoproteins ABI3BP         \n",
       "2    Core matrisome ECM Glycoproteins ADIPOQ         \n",
       "3    Core matrisome ECM Glycoproteins AEBP1          \n",
       "4    Core matrisome ECM Glycoproteins AGRN           \n",
       "5    Core matrisome ECM Glycoproteins AMBN           \n",
       "6    Core matrisome ECM Glycoproteins AMELX          \n",
       "7    Core matrisome ECM Glycoproteins AMELY          \n",
       "8    Core matrisome ECM Glycoproteins BGLAP          \n",
       "9    Core matrisome ECM Glycoproteins BMPER          \n",
       "10   Core matrisome ECM Glycoproteins BSPH1          \n",
       "11   Core matrisome ECM Glycoproteins CDCP2          \n",
       "12   Core matrisome ECM Glycoproteins CILP           \n",
       "13   Core matrisome ECM Glycoproteins CILP2          \n",
       "14   Core matrisome ECM Glycoproteins COCH           \n",
       "15   Core matrisome ECM Glycoproteins COLQ           \n",
       "16   Core matrisome ECM Glycoproteins COMP           \n",
       "17   Core matrisome ECM Glycoproteins CRELD1         \n",
       "18   Core matrisome ECM Glycoproteins CRELD2         \n",
       "19   Core matrisome ECM Glycoproteins CRIM1          \n",
       "20   Core matrisome ECM Glycoproteins CRISPLD1       \n",
       "21   Core matrisome ECM Glycoproteins CRISPLD2       \n",
       "22   Core matrisome ECM Glycoproteins CTGF           \n",
       "23   Core matrisome ECM Glycoproteins CTHRC1         \n",
       "24   Core matrisome ECM Glycoproteins CYR61          \n",
       "25   Core matrisome ECM Glycoproteins DDX26B         \n",
       "26   Core matrisome ECM Glycoproteins DMBT1          \n",
       "27   Core matrisome ECM Glycoproteins DMP1           \n",
       "28   Core matrisome ECM Glycoproteins DPT            \n",
       "29   Core matrisome ECM Glycoproteins DSPP           \n",
       "30   Core matrisome ECM Glycoproteins ECM1           \n",
       "⋮    ⋮              ⋮                 ⋮              \n",
       "1039 Retired        n/a               COL6A4P2       \n",
       "1040 Retired        n/a               CST9L2         \n",
       "1041 Retired        n/a               CTF2P          \n",
       "1042 Retired        n/a               CTSL3P         \n",
       "1043 Retired        n/a               CTSLP3         \n",
       "1044 Retired        n/a               CTSLP6         \n",
       "1045 Retired        n/a               CTSLP7         \n",
       "1046 Retired        n/a               DMBT1P1        \n",
       "1047 Retired        n/a               EGFEM1P        \n",
       "1048 Retired        n/a               FGF7P2         \n",
       "1049 Retired        n/a               gene_A6NLB4    \n",
       "1050 Retired        n/a               HYALP1         \n",
       "1051 Retired        n/a               KGFLP1         \n",
       "1052 Retired        n/a               KGFLP2         \n",
       "1053 Retired        n/a               LOC400696      \n",
       "1054 Retired        n/a               LOC728715      \n",
       "1055 Retired        n/a               LPAL2          \n",
       "1056 Retired        n/a               MBL1P          \n",
       "1057 Retired        n/a               MST1P2         \n",
       "1058 Retired        n/a               NCRNA00083     \n",
       "1059 Retired        n/a               NEPNP          \n",
       "1060 Retired        n/a               NTF6B          \n",
       "1061 Retired        n/a               OVOS1          \n",
       "1062 Retired        n/a               OVOS2          \n",
       "1063 Retired        n/a               PPBPP1         \n",
       "1064 Retired        n/a               PRSS3P1        \n",
       "1065 Retired        n/a               SERPINA13P     \n",
       "1066 Retired        n/a               TNFSF12-TNFSF13\n",
       "1067 Retired        n/a               TNXA           \n",
       "1068 Retired        n/a               UNQ5830        \n",
       "     gene_name                                                                                        \n",
       "1    ABI family, member 3 (NESH) binding protein                                                      \n",
       "2    adiponectin, C1Q and collagen domain containing                                                  \n",
       "3    AE binding protein 1                                                                             \n",
       "4    agrin                                                                                            \n",
       "5    ameloblastin (enamel matrix protein)                                                             \n",
       "6    amelogenin (amelogenesis imperfecta 1, X-linked)                                                 \n",
       "7    amelogenin, Y-linked                                                                             \n",
       "8    bone gamma-carboxyglutamate (gla) protein                                                        \n",
       "9    BMP binding endothelial regulator                                                                \n",
       "10   binder of sperm protein homolog 1                                                                \n",
       "11   CUB domain containing protein 2                                                                  \n",
       "12   cartilage intermediate layer protein, nucleotide pyrophosphohydrolase                            \n",
       "13   cartilage intermediate layer protein 2                                                           \n",
       "14   coagulation factor C homolog, cochlin (Limulus polyphemus)                                       \n",
       "15   collagen-like tail subunit (single strand of homotrimer) of asymmetric acetylcholinesterase      \n",
       "16   cartilage oligomeric matrix protein                                                              \n",
       "17   cysteine-rich with EGF-like domains 1                                                            \n",
       "18   cysteine-rich with EGF-like domains 2                                                            \n",
       "19   cysteine rich transmembrane BMP regulator 1 (chordin-like)                                       \n",
       "20   cysteine-rich secretory protein LCCL domain containing 1                                         \n",
       "21   cysteine-rich secretory protein LCCL domain containing 2                                         \n",
       "22   connective tissue growth factor                                                                  \n",
       "23   collagen triple helix repeat containing 1                                                        \n",
       "24   cysteine-rich, angiogenic inducer, 61                                                            \n",
       "25   DEAD/H (Asp-Glu-Ala-Asp/His) box polypeptide 26B                                                 \n",
       "26   deleted in malignant brain tumors 1                                                              \n",
       "27   dentin matrix acidic phosphoprotein 1                                                            \n",
       "28   dermatopontin                                                                                    \n",
       "29   dentin sialophosphoprotein                                                                       \n",
       "30   extracellular matrix protein 1                                                                   \n",
       "⋮    ⋮                                                                                                \n",
       "1039 collagen, type VI, alpha 4 pseudogene 2                                                          \n",
       "1040 Putative cystatin-9-like 2                                                                       \n",
       "1041 cardiotrophin 2, pseudogene                                                                      \n",
       "1042 cathepsin L family member 3                                                                      \n",
       "1043 similar to Cathepsin L1                                                                          \n",
       "1044 cathepsin L-like 6                                                                               \n",
       "1045 similar to Putative cathepsin L-like protein 6                                                   \n",
       "1046 deleted in malignant brain tumors 1 pseudogene                                                   \n",
       "1047 chromosome 3 open reading frame 50                                                               \n",
       "1048 fibroblast growth factor 7 pseudogene 2                                                          \n",
       "1049 NA                                                                                               \n",
       "1050 hyaluronoglucosaminidase pseudogene 1                                                            \n",
       "1051 keratinocyte growth factor-like protein 1                                                        \n",
       "1052 keratinocyte growth factor-like protein 2                                                        \n",
       "1053 lectin, galactoside-binding, soluble, 14-like                                                    \n",
       "1054 similar to hCG38149                                                                              \n",
       "1055 lipoprotein, Lp(a)-like 2 pseudogene                                                             \n",
       "1056 mannose-binding lectin (protein A) 1, pseudogene                                                 \n",
       "1057 macrophage stimulating 1 (hepatocyte growth factor-like) pseudogene 2                            \n",
       "1058 non-protein coding RNA 83                                                                        \n",
       "1059 nephrocan, pseudogene                                                                            \n",
       "1060 neurotrophin 6 beta (pseudogene)                                                                 \n",
       "1061 UP:Ovostatin 1                                                                                   \n",
       "1062 UP:Ovostatin 2                                                                                   \n",
       "1063 pro-platelet basic protein-like 1                                                                \n",
       "1064 trypsinogen B                                                                                    \n",
       "1065 serpin peptidase inhibitor, clade A (alpha-1 antiproteinase, antitrypsin), member 13 (pseudogene)\n",
       "1066 TNFSF12-TNFSF13 readthrough                                                                      \n",
       "1067 tenascin XA pseudogene                                                                           \n",
       "1068 AILT5830                                                                                         \n",
       "     synonyms                                           hgnc_ids hgnc_ids_links\n",
       "1    FLJ41743|FLJ41754|NESHBP|TARSH                     17265    17265         \n",
       "2    ACDC|ACRP30|ADIPQTL1|ADPN|APM-1|APM1|GBP28|adipone 13633    13633         \n",
       "3    ACLP; FLJ33612                                       303      303         \n",
       "4    FLJ45064                                             329      329         \n",
       "5    -                                                    452      452         \n",
       "6    AIH1|ALGN|AMG|AMGL|AMGX                              461      461         \n",
       "7    AMGL|AMGY                                            462      462         \n",
       "8    BGP|OC|PMF1                                         1043     1043         \n",
       "9    CRIM3|CV-2|CV2                                     24154    24154         \n",
       "10   BSP1|ELSPBP2                                       33906    33906         \n",
       "11   -                                                  27297    27297         \n",
       "12   CILP-1|HsT18872                                     1980     1980         \n",
       "13   CLIP-2|MGC45771                                    24213    24213         \n",
       "14   COCH-5B2|COCH5B2|DFNA9                              2180     2180         \n",
       "15   EAD|FLJ55041                                        2226     2226         \n",
       "16   EDM1|EPD1|MED|MGC131819|MGC149768|PSACH|THBS5       2227     2227         \n",
       "17   AVSD2|CIRRIN|DKFZp566D213                          14630    14630         \n",
       "18   DKFZp667O055|MGC11256                              28150    28150         \n",
       "19   MGC138194|S52                                       2359     2359         \n",
       "20   CRISP10|DKFZp762F133|LCRISP1                       18206    18206         \n",
       "21   CRISP11|DKFZp434B044|LCRISP2|MGC74865              25248    25248         \n",
       "22   CCN2|HCS24|IGFBP8|MGC102839|NOV2                    2500     2500         \n",
       "23   -                                                  18831    18831         \n",
       "24   CCN1|GIG1|IGFBP10                                   2654     2654         \n",
       "25   DKFZp686G0470|FLJ41215|MGC88298                    27334    27334         \n",
       "26   FLJ61058|GP340|MGC164738|muclin                     2926     2926         \n",
       "27   ARHP|ARHR|DMP-1                                     2932     2932         \n",
       "28   TRAMP                                               3011     3011         \n",
       "29   DFNA39|DGI1|DMP3|DPP|DSP|DTDP2                      3054     3054         \n",
       "30   -                                                   3153     3153         \n",
       "⋮    ⋮                                                  ⋮        ⋮             \n",
       "1039 COL6A4                                             38501    NA            \n",
       "1040 NA                                                    NA    NA            \n",
       "1041 NP                                                 33173    NA            \n",
       "1042 HCTSL-s|CTSL3                                      33132    NA            \n",
       "1043 CTSLL3|LOC644021                                    2541    NA            \n",
       "1044 bA479O17.1|CTSLL6                                  23611    NA            \n",
       "1045 LOC100133189                                       23635    NA            \n",
       "1046 FLJ46361                                           49497    NA            \n",
       "1047 C3orf50                                            25149    NA            \n",
       "1048 FGF7L|PRED3                                        17193    NA            \n",
       "1049 NA                                                    NA    NA            \n",
       "1050 -                                                   5324    NA            \n",
       "1051 MGC125746|MGC125747|MGC126891                         NA    NA            \n",
       "1052 -                                                     NA    NA            \n",
       "1053 LGALS17A                                              NA    NA            \n",
       "1054 NA                                                    NA    NA            \n",
       "1055 APOA2|APOAL|APOARGC|MGC129532|RP11-72O9.2          21210    NA            \n",
       "1056 COLEC3P|MBL1P1                                      6921    NA            \n",
       "1057 FLJ18435|MSPL-1|MSPL-2|MSPL-3|MSPL1|MSPL2|MSPL3|MS  7383    NA            \n",
       "1058 FLJ44005                                           34521    NA            \n",
       "1059 NEPN|NPN                                           33184    NA            \n",
       "1060 -                                                   8026    NA            \n",
       "1061 NA                                                    NA    NA            \n",
       "1062 NA                                                    NA    NA            \n",
       "1063 TGB2|PPBPL1                                         9241    NA            \n",
       "1064 -|TRY5                                             43787    NA            \n",
       "1065 UNQ6121|SERPINA13                                  30909    NA            \n",
       "1066 TWE-PRIL                                           33537    NA            \n",
       "1067 D6S103E|HXBL|TNX|XA                                11975    NA            \n",
       "1068 -                                                     NA    NA            \n",
       "     uniprot_ids                                                                                                                                                     \n",
       "1    B4DSV9:D3YTG3:E9PPR9:E9PRB5:H0Y897:H0YCG4:H0YCP4:H0YDN0:H0YDW0:H0YEA0:H0YEL2:H0YF18:H0YF57:H7C4H3:H7C4N5:H7C4S3:H7C4T1:H7C4X4:H7C524:H7C556:H7C5S3:Q5JPC9:Q7Z7G0\n",
       "2    Q15848                                                                                                                                                          \n",
       "3    C9JLQ8:H7C0W8:H7C1J5:H7C391:H7C3D7:H7C4B5:Q8IUX7                                                                                                                \n",
       "4    H0Y5U1:O00468                                                                                                                                                   \n",
       "5    Q9NP70                                                                                                                                                          \n",
       "6    Q99217                                                                                                                                                          \n",
       "7    J3KPK5:Q99218                                                                                                                                                   \n",
       "8    P02818                                                                                                                                                          \n",
       "9    C9JY72:F8WDG9:G5E9K4:Q8N8U9                                                                                                                                     \n",
       "10   Q075Z2                                                                                                                                                          \n",
       "11   Q5VXM1                                                                                                                                                          \n",
       "12   O75339                                                                                                                                                          \n",
       "13   K7EPJ4:Q8IUL8                                                                                                                                                   \n",
       "14   E7EN67:G3V4C4:G3V5G6:G3V5V4:G3V5X3:H0YJJ0:H0YJW4:O43405:Q96IU6                                                                                                  \n",
       "15   C9JBB2:F8WA67:Q9Y215:S4R408                                                                                                                                     \n",
       "16   B4DKJ3:G3XAP6:P49747                                                                                                                                            \n",
       "17   F8WBY3:H7C2L3:Q96HD1                                                                                                                                            \n",
       "18   A6PWM2:Q6UXH1                                                                                                                                                   \n",
       "19   H7C1Z0:H7C2T6:H7C458:Q9NZV1                                                                                                                                     \n",
       "20   B7Z8V9:E5RJS4:Q9H336                                                                                                                                            \n",
       "21   H3BS62:H3BSZ9:H3BTI0:H3BTP0:J3QKP2:Q9H0B8                                                                                                                       \n",
       "22   P29279                                                                                                                                                          \n",
       "23   E5RK99:E7EVQ5:Q96CG8                                                                                                                                            \n",
       "24   O00622                                                                                                                                                          \n",
       "25   Q5JSJ4                                                                                                                                                          \n",
       "26   Q9UGM3                                                                                                                                                          \n",
       "27   Q13316                                                                                                                                                          \n",
       "28   Q07507                                                                                                                                                          \n",
       "29   Q9NZW4                                                                                                                                                          \n",
       "30   Q16610                                                                                                                                                          \n",
       "⋮    ⋮                                                                                                                                                               \n",
       "1039 NA                                                                                                                                                              \n",
       "1040 NA                                                                                                                                                              \n",
       "1041 NA                                                                                                                                                              \n",
       "1042 Q5NE16                                                                                                                                                          \n",
       "1043 NA                                                                                                                                                              \n",
       "1044 NA                                                                                                                                                              \n",
       "1045 NA                                                                                                                                                              \n",
       "1046 NA                                                                                                                                                              \n",
       "1047 Q0D2K5                                                                                                                                                          \n",
       "1048 NA                                                                                                                                                              \n",
       "1049 NA                                                                                                                                                              \n",
       "1050 NA                                                                                                                                                              \n",
       "1051 Q2TVT4                                                                                                                                                          \n",
       "1052 NA                                                                                                                                                              \n",
       "1053 NA                                                                                                                                                              \n",
       "1054 NA                                                                                                                                                              \n",
       "1055 Q16609                                                                                                                                                          \n",
       "1056 NA                                                                                                                                                              \n",
       "1057 NA                                                                                                                                                              \n",
       "1058 Q6ZU45                                                                                                                                                          \n",
       "1059 NA                                                                                                                                                              \n",
       "1060 NA                                                                                                                                                              \n",
       "1061 Q6IE37                                                                                                                                                          \n",
       "1062 NA                                                                                                                                                              \n",
       "1063 NA                                                                                                                                                              \n",
       "1064 NA                                                                                                                                                              \n",
       "1065 Q6UXR4                                                                                                                                                          \n",
       "1066 NA                                                                                                                                                              \n",
       "1067 Q16473                                                                                                                                                          \n",
       "1068 Q6UY13                                                                                                                                                          \n",
       "     refseq_ids                                                             \n",
       "1    NP_056244.2:XP_005247340.1                                             \n",
       "2    NP_001171271.1:NP_004788.1                                             \n",
       "3    NP_001120.3                                                            \n",
       "4    NP_940978.2:XP_005244806.1:XP_006710696.1                              \n",
       "5    NP_057603.1                                                            \n",
       "6    NP_001133.1:NP_872621.1:NP_872622.1                                    \n",
       "7    NP_001134.1                                                            \n",
       "8    NP_954642.1                                                            \n",
       "9    NP_597725.1                                                            \n",
       "10   NP_001121798.1                                                         \n",
       "11   NP_963840.2                                                            \n",
       "12   NP_003604.3                                                            \n",
       "13   NP_694953.2                                                            \n",
       "14   NP_001128530.1:NP_004077.1:XP_006720136.1                              \n",
       "15   NP_005668.2:NP_536799.1:NP_536800.2                                    \n",
       "16   NP_000086.2                                                            \n",
       "17   NP_001026887.1:NP_001070883.1:NP_056328.2:XP_006713391.1               \n",
       "18   NP_001128573.1:NP_001271246.1:NP_001271247.1:NP_077300.3:XP_005261795.1\n",
       "19   NP_057525.1                                                            \n",
       "20   NP_001273707.1:NP_113649.1                                             \n",
       "21   NP_113664.1:XP_005256247.1                                             \n",
       "22   NP_001892.1                                                            \n",
       "23   NP_001243028.1:NP_612464.1                                             \n",
       "24   NP_001545.2                                                            \n",
       "25   NP_872346.3                                                            \n",
       "26   NP_004397.2:NP_015568.2:NP_060049.2                                    \n",
       "27   NP_001073380.1:NP_004398.1                                             \n",
       "28   NP_001928.2                                                            \n",
       "29   NP_055023.2                                                            \n",
       "30   NP_001189787.1:NP_004416.2:NP_073155.2                                 \n",
       "⋮    ⋮                                                                      \n",
       "1039 NA                                                                     \n",
       "1040 NA                                                                     \n",
       "1041 NA                                                                     \n",
       "1042 NA                                                                     \n",
       "1043 NA                                                                     \n",
       "1044 NA                                                                     \n",
       "1045 NA                                                                     \n",
       "1046 NA                                                                     \n",
       "1047 NA                                                                     \n",
       "1048 NA                                                                     \n",
       "1049 NA                                                                     \n",
       "1050 NA                                                                     \n",
       "1051 NA                                                                     \n",
       "1052 NA                                                                     \n",
       "1053 NA                                                                     \n",
       "1054 NA                                                                     \n",
       "1055 NA                                                                     \n",
       "1056 NA                                                                     \n",
       "1057 NA                                                                     \n",
       "1058 NA                                                                     \n",
       "1059 NA                                                                     \n",
       "1060 NA                                                                     \n",
       "1061 NA                                                                     \n",
       "1062 NA                                                                     \n",
       "1063 NA                                                                     \n",
       "1064 NA                                                                     \n",
       "1065 NA                                                                     \n",
       "1066 NA                                                                     \n",
       "1067 NA                                                                     \n",
       "1068 NA                                                                     \n",
       "     orthology                                                                                                     \n",
       "1    Mouse:Abi3bp|                                                                                                 \n",
       "2    Mouse:Adipoq|                                                                                                 \n",
       "3    Mouse:Aebp1|                                                                                                  \n",
       "4    Mouse:Agrn|                                                                                                   \n",
       "5    Mouse:Ambn|                                                                                                   \n",
       "6    Mouse:Amelx|                                                                                                  \n",
       "7    NA                                                                                                            \n",
       "8    Mouse:Bglap2|                                                                                                 \n",
       "9    Mouse:Bmper|                                                                                                  \n",
       "10   Mouse:Bsph1|                                                                                                  \n",
       "11   Mouse:Cdcp2|                                                                                                  \n",
       "12   Mouse:Cilp|                                                                                                   \n",
       "13   Mouse:Cilp2|                                                                                                  \n",
       "14   Mouse:Coch|                                                                                                   \n",
       "15   Mouse:Colq|                                                                                                   \n",
       "16   Mouse:Comp|                                                                                                   \n",
       "17   Mouse:Creld1|                                                                                                 \n",
       "18   Mouse:Creld2|                                                                                                 \n",
       "19   Mouse:Crim1|                                                                                                  \n",
       "20   Mouse:Crispld1|                                                                                               \n",
       "21   Mouse:Crispld2|                                                                                               \n",
       "22   Mouse:Ctgf|                                                                                                   \n",
       "23   Mouse:Cthrc1|                                                                                                 \n",
       "24   Mouse:Cyr61|                                                                                                  \n",
       "25   Mouse:Ddx26b|                                                                                                 \n",
       "26   Mouse:Dmbt1|                                                                                                  \n",
       "27   Mouse:Dmp1|                                                                                                   \n",
       "28   Mouse:Dpt|                                                                                                    \n",
       "29   Mouse:Dspp|                                                                                                   \n",
       "30   Mouse:Ecm1|                                                                                                   \n",
       "⋮    ⋮                                                                                                             \n",
       "1039 Mouse:Col6a4|                                                                                                 \n",
       "1040 Mouse:Cst9|                                                                                                   \n",
       "1041 Mouse:Ctf2|                                                                                                   \n",
       "1042 NA                                                                                                            \n",
       "1043 NA                                                                                                            \n",
       "1044 NA                                                                                                            \n",
       "1045 NA                                                                                                            \n",
       "1046 Mouse:5430419D17Rik|                                                                                          \n",
       "1047 Mouse:Egfem1|                                                                                                 \n",
       "1048 NA                                                                                                            \n",
       "1049 NA                                                                                                            \n",
       "1050 Mouse:Hyal6|                                                                                                  \n",
       "1051 NA                                                                                                            \n",
       "1052 NA                                                                                                            \n",
       "1053 Mouse:Clc|                                                                                                    \n",
       "1054 Mouse:BC048546|                                                                                               \n",
       "1055 NA                                                                                                            \n",
       "1056 Mouse:Mbl1|                                                                                                   \n",
       "1057 NA                                                                                                            \n",
       "1058 NA                                                                                                            \n",
       "1059 Mouse:Nepn|                                                                                                   \n",
       "1060 NA                                                                                                            \n",
       "1061 Mouse:BC048546|                                                                                               \n",
       "1062 Mouse:BC048546|                                                                                               \n",
       "1063 NA                                                                                                            \n",
       "1064 Mouse:Gm10334|Mouse:Gm5409|Mouse:Gm5771|Mouse:Prss1|Mouse:Prss2|Mouse:Prss3|Mouse:Try10|Mouse:Try4|Mouse:Try5|\n",
       "1065 NA                                                                                                            \n",
       "1066 Mouse:Tnfsf12tnfsf13|                                                                                         \n",
       "1067 Mouse:Tnxa|                                                                                                   \n",
       "1068 NA                                                                                                            \n",
       "     notes                \n",
       "1    NA                   \n",
       "2    NA                   \n",
       "3    NA                   \n",
       "4    NA                   \n",
       "5    NA                   \n",
       "6    NA                   \n",
       "7    NA                   \n",
       "8    NA                   \n",
       "9    Growth Factor-binding\n",
       "10   NA                   \n",
       "11   NA                   \n",
       "12   NA                   \n",
       "13   NA                   \n",
       "14   NA                   \n",
       "15   Basement Membrane    \n",
       "16   NA                   \n",
       "17   NA                   \n",
       "18   NA                   \n",
       "19   NA                   \n",
       "20   NA                   \n",
       "21   NA                   \n",
       "22   CCN Family           \n",
       "23   NA                   \n",
       "24   CCN Family           \n",
       "25   NA                   \n",
       "26   NA                   \n",
       "27   NA                   \n",
       "28   NA                   \n",
       "29   NA                   \n",
       "30   NA                   \n",
       "⋮    ⋮                    \n",
       "1039 Pseudogene           \n",
       "1040 NA                   \n",
       "1041 Pseudogene           \n",
       "1042 Pseudogene           \n",
       "1043 Pseudogene           \n",
       "1044 Pseudogene           \n",
       "1045 Pseudogene           \n",
       "1046 Pseudogene           \n",
       "1047 Pseudogene           \n",
       "1048 Pseudogene           \n",
       "1049 NA                   \n",
       "1050 Pseudogene           \n",
       "1051 NA                   \n",
       "1052 NA                   \n",
       "1053 NA                   \n",
       "1054 NA                   \n",
       "1055 Pseudogene           \n",
       "1056 Pseudogene           \n",
       "1057 Pseudogene           \n",
       "1058 linc                 \n",
       "1059 Pseudogene           \n",
       "1060 Pseudogene           \n",
       "1061 NA                   \n",
       "1062 NA                   \n",
       "1063 Pseudogene           \n",
       "1064 Pseudogene           \n",
       "1065 Pseudogene           \n",
       "1066 Pseudogene           \n",
       "1067 Pseudogene           \n",
       "1068 NA                   "
      ]
     },
     "metadata": {},
     "output_type": "display_data"
    }
   ],
   "source": [
    "matrisome_df"
   ]
  },
  {
   "cell_type": "code",
   "execution_count": 78,
   "metadata": {},
   "outputs": [
    {
     "data": {
      "text/html": [
       "<style>\n",
       ".list-inline {list-style: none; margin:0; padding: 0}\n",
       ".list-inline>li {display: inline-block}\n",
       ".list-inline>li:not(:last-child)::after {content: \"\\00b7\"; padding: 0 .5ex}\n",
       "</style>\n",
       "<ol class=list-inline><li>1027</li><li>11</li></ol>\n"
      ],
      "text/latex": [
       "\\begin{enumerate*}\n",
       "\\item 1027\n",
       "\\item 11\n",
       "\\end{enumerate*}\n"
      ],
      "text/markdown": [
       "1. 1027\n",
       "2. 11\n",
       "\n",
       "\n"
      ],
      "text/plain": [
       "[1] 1027   11"
      ]
     },
     "metadata": {},
     "output_type": "display_data"
    }
   ],
   "source": [
    "colnames(matrisome_df) <- map(sub(\" \", \"_\", colnames(matrisome_df)), tolower)\n",
    "matrisome_df <- matrisome_df %>%\n",
    "    dplyr::filter(division != \"Retired\")\n",
    "dim(matrisome_df)"
   ]
  },
  {
   "cell_type": "code",
   "execution_count": 79,
   "metadata": {},
   "outputs": [
    {
     "data": {
      "text/html": [
       "1004"
      ],
      "text/latex": [
       "1004"
      ],
      "text/markdown": [
       "1004"
      ],
      "text/plain": [
       "[1] 1004"
      ]
     },
     "metadata": {},
     "output_type": "display_data"
    }
   ],
   "source": [
    "sum(matrisome_df$gene_symbol %in% res$external_gene_name)"
   ]
  },
  {
   "cell_type": "code",
   "execution_count": 80,
   "metadata": {},
   "outputs": [
    {
     "data": {
      "text/html": [
       "1012"
      ],
      "text/latex": [
       "1012"
      ],
      "text/markdown": [
       "1012"
      ],
      "text/plain": [
       "[1] 1012"
      ]
     },
     "metadata": {},
     "output_type": "display_data"
    }
   ],
   "source": [
    "sum(matrisome_df$gene_symbol %in% res$edbres_gene_name)"
   ]
  },
  {
   "cell_type": "code",
   "execution_count": 81,
   "metadata": {},
   "outputs": [
    {
     "data": {
      "text/html": [
       "15"
      ],
      "text/latex": [
       "15"
      ],
      "text/markdown": [
       "15"
      ],
      "text/plain": [
       "[1] 15"
      ]
     },
     "metadata": {},
     "output_type": "display_data"
    }
   ],
   "source": [
    "1027 - 1012"
   ]
  },
  {
   "cell_type": "code",
   "execution_count": 82,
   "metadata": {},
   "outputs": [
    {
     "data": {
      "text/html": [
       "23"
      ],
      "text/latex": [
       "23"
      ],
      "text/markdown": [
       "23"
      ],
      "text/plain": [
       "[1] 23"
      ]
     },
     "metadata": {},
     "output_type": "display_data"
    }
   ],
   "source": [
    "1027 - 1004"
   ]
  },
  {
   "cell_type": "markdown",
   "metadata": {},
   "source": [
    "# Any duplicated gene symbols WRT matrisome genes?"
   ]
  },
  {
   "cell_type": "code",
   "execution_count": 97,
   "metadata": {},
   "outputs": [
    {
     "data": {
      "text/html": [
       "<style>\n",
       ".list-inline {list-style: none; margin:0; padding: 0}\n",
       ".list-inline>li {display: inline-block}\n",
       ".list-inline>li:not(:last-child)::after {content: \"\\00b7\"; padding: 0 .5ex}\n",
       "</style>\n",
       "<ol class=list-inline><li>FALSE</li><li>FALSE</li><li>FALSE</li><li>FALSE</li><li>FALSE</li><li>FALSE</li><li>FALSE</li><li>FALSE</li><li>FALSE</li><li>FALSE</li><li>FALSE</li><li>FALSE</li><li>FALSE</li><li>FALSE</li><li>FALSE</li><li>FALSE</li></ol>\n"
      ],
      "text/latex": [
       "\\begin{enumerate*}\n",
       "\\item FALSE\n",
       "\\item FALSE\n",
       "\\item FALSE\n",
       "\\item FALSE\n",
       "\\item FALSE\n",
       "\\item FALSE\n",
       "\\item FALSE\n",
       "\\item FALSE\n",
       "\\item FALSE\n",
       "\\item FALSE\n",
       "\\item FALSE\n",
       "\\item FALSE\n",
       "\\item FALSE\n",
       "\\item FALSE\n",
       "\\item FALSE\n",
       "\\item FALSE\n",
       "\\end{enumerate*}\n"
      ],
      "text/markdown": [
       "1. FALSE\n",
       "2. FALSE\n",
       "3. FALSE\n",
       "4. FALSE\n",
       "5. FALSE\n",
       "6. FALSE\n",
       "7. FALSE\n",
       "8. FALSE\n",
       "9. FALSE\n",
       "10. FALSE\n",
       "11. FALSE\n",
       "12. FALSE\n",
       "13. FALSE\n",
       "14. FALSE\n",
       "15. FALSE\n",
       "16. FALSE\n",
       "\n",
       "\n"
      ],
      "text/plain": [
       " [1] FALSE FALSE FALSE FALSE FALSE FALSE FALSE FALSE FALSE FALSE FALSE FALSE\n",
       "[13] FALSE FALSE FALSE FALSE"
      ]
     },
     "metadata": {},
     "output_type": "display_data"
    }
   ],
   "source": [
    "res$external_gene_name[duplicated(res$external_gene_name)] %in% matrisome_df$gene_symbol"
   ]
  },
  {
   "cell_type": "code",
   "execution_count": 103,
   "metadata": {},
   "outputs": [
    {
     "data": {
      "text/html": [
       "<style>\n",
       ".list-inline {list-style: none; margin:0; padding: 0}\n",
       ".list-inline>li {display: inline-block}\n",
       ".list-inline>li:not(:last-child)::after {content: \"\\00b7\"; padding: 0 .5ex}\n",
       "</style>\n",
       "<ol class=list-inline><li>'ELFN2'</li><li>'SERPINA3'</li></ol>\n"
      ],
      "text/latex": [
       "\\begin{enumerate*}\n",
       "\\item 'ELFN2'\n",
       "\\item 'SERPINA3'\n",
       "\\end{enumerate*}\n"
      ],
      "text/markdown": [
       "1. 'ELFN2'\n",
       "2. 'SERPINA3'\n",
       "\n",
       "\n"
      ],
      "text/plain": [
       "[1] \"ELFN2\"    \"SERPINA3\""
      ]
     },
     "metadata": {},
     "output_type": "display_data"
    }
   ],
   "source": [
    "edb_query_dups <- res$edbres_gene_name[duplicated(res$edbres_gene_name)]\n",
    "msk <- edb_query_dups %in% matrisome_df$gene_symbol\n",
    "edb_query_dups[msk]"
   ]
  }
 ],
 "metadata": {
  "kernelspec": {
   "display_name": "R",
   "language": "R",
   "name": "ir"
  },
  "language_info": {
   "codemirror_mode": "r",
   "file_extension": ".r",
   "mimetype": "text/x-r-source",
   "name": "R",
   "pygments_lexer": "r",
   "version": "3.6.3"
  }
 },
 "nbformat": 4,
 "nbformat_minor": 4
}
