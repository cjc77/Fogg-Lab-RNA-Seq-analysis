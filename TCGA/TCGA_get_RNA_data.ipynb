{
 "cells": [
  {
   "cell_type": "code",
   "execution_count": 27,
   "metadata": {
    "collapsed": true,
    "jupyter": {
     "outputs_hidden": true
    }
   },
   "outputs": [
    {
     "name": "stderr",
     "output_type": "stream",
     "text": [
      "Loading required package: GenomicRanges\n",
      "Loading required package: GenomeInfoDb\n",
      "Loading required package: Biobase\n",
      "Welcome to Bioconductor\n",
      "\n",
      "    Vignettes contain introductory material; view with\n",
      "    'browseVignettes()'. To cite Bioconductor, see\n",
      "    'citation(\"Biobase\")', and for packages 'citation(\"pkgname\")'.\n",
      "\n",
      "\n",
      "Attaching package: ‘Biobase’\n",
      "\n",
      "The following objects are masked from ‘package:matrixStats’:\n",
      "\n",
      "    anyMissing, rowMedians\n",
      "\n"
     ]
    }
   ],
   "source": [
    "library(tidyverse)\n",
    "library(TCGAbiolinks)\n",
    "library(HDF5Array)\n",
    "library(SummarizedExperiment)\n",
    "\n",
    "# Custom package\n",
    "library(rutils)"
   ]
  },
  {
   "cell_type": "markdown",
   "metadata": {},
   "source": [
    "# Constants"
   ]
  },
  {
   "cell_type": "code",
   "execution_count": 2,
   "metadata": {},
   "outputs": [],
   "source": [
    "dirs <- rutils::get_dev_directories(dev_paths_file = \"../dev_paths.txt\")\n",
    "projects <- c(\"TCGA-CESC\", \"TCGA-OV\", \"TCGA-UCS\", \"TCGA-UCEC\")\n",
    "project_paths <- unlist(map(projects, function(prj) paste0(dirs$data_dir, \"/\", prj)))\n",
    "biolinks_dir <- \"tcga_biolinks_downloads\"\n",
    "RSE_objects_dir <- \"saved_RSE_objects\"\n",
    "TCGA_dest_dir <- paste0(dirs$data_dir, \"/\", biolinks_dir)\n",
    "RSE_objects_dest_dir <- paste0(dirs$data_dir, \"/\", RSE_objects_dir)"
   ]
  },
  {
   "cell_type": "markdown",
   "metadata": {},
   "source": [
    "# Functions"
   ]
  },
  {
   "cell_type": "code",
   "execution_count": 32,
   "metadata": {},
   "outputs": [],
   "source": [
    "rna_seq_query <- function(p) {\n",
    "    return(GDCquery(\n",
    "        project = p,\n",
    "        data.category = \"Transcriptome Profiling\",\n",
    "        data.type = \"Gene Expression Quantification\",\n",
    "        workflow.type = \"HTSeq - Counts\"\n",
    "    ))\n",
    "}\n",
    "\n",
    "\n",
    "load_RSE_objects <- function(dir, projects, prefixes) {\n",
    "    data_ls <- list()\n",
    "    for (i in seq_len(length(projects))) {\n",
    "        data_ls[[projects[i]]] <- loadHDF5SummarizedExperiment(dir = dir, prefix = prefixes[i])\n",
    "    }\n",
    "    return(data_ls)\n",
    "}\n",
    "\n",
    "\n",
    "prep_and_save_count_data <- function(rses, label_field, dest_dir, dest_subdir) {\n",
    "    id_symbol_map <- as_tibble(rowData(rses[[1]]))\n",
    "    \n",
    "    # Does the matrix data directory exist? If not, create it\n",
    "    dir.create(paste0(dest_dir, \"/\", dest_subdir))\n",
    "    \n",
    "    for (n in names(rses)) {\n",
    "        counts_df <- assays(rses[[n]])[[\"HTSeq - Counts\"]] %>%\n",
    "            as_tibble(rownames = \"ensembl_gene_id\") %>%\n",
    "            inner_join(id_symbol_map, by = \"ensembl_gene_id\") %>%\n",
    "            dplyr::select(ensembl_gene_id, external_gene_name, everything()) %>%\n",
    "            dplyr::select(-original_ensembl_gene_id)\n",
    "        \n",
    "        condition_labels <- rses[[n]][[label_field]]\n",
    "        coldata_df <- as_tibble(colnames(counts_df)[-c(1:2)]) %>%\n",
    "            dplyr::rename(sample_name = value) %>%\n",
    "            mutate(condition = condition_labels) %>%\n",
    "            mutate(project = n)\n",
    "        \n",
    "        write_tsv(counts_df, path = paste0(dest_dir, \"/\", dest_subdir, \"/\", n, \"_counts.tsv\"))\n",
    "        write_tsv(coldata_df, path = paste0(dest_dir, \"/\", dest_subdir, \"/\", n, \"_coldata.tsv\"))\n",
    "    }\n",
    "}"
   ]
  },
  {
   "cell_type": "markdown",
   "metadata": {},
   "source": [
    "# Download and save data\n",
    "No loops used here since API is really finicky and quits abruptly"
   ]
  },
  {
   "cell_type": "code",
   "execution_count": 10,
   "metadata": {
    "collapsed": true,
    "jupyter": {
     "outputs_hidden": true
    }
   },
   "outputs": [
    {
     "name": "stderr",
     "output_type": "stream",
     "text": [
      "--------------------------------------\n",
      "o GDCquery: Searching in GDC database\n",
      "--------------------------------------\n",
      "Genome of reference: hg38\n",
      "--------------------------------------------\n",
      "oo Accessing GDC. This might take a while...\n",
      "--------------------------------------------\n",
      "ooo Project: TCGA-CESC\n",
      "--------------------\n",
      "oo Filtering results\n",
      "--------------------\n",
      "ooo By data.type\n",
      "ooo By workflow.type\n",
      "----------------\n",
      "oo Checking data\n",
      "----------------\n",
      "ooo Check if there are duplicated cases\n",
      "ooo Check if there results for the query\n",
      "-------------------\n",
      "o Preparing output\n",
      "-------------------\n",
      "Downloading data for project TCGA-CESC\n",
      "GDCdownload will download 309 files. A total of 77.948874 MB\n",
      "Downloading chunk 1 of 31 (10 files, size = 2.525687 MB) as Tue_Aug_18_16_52_15_2020_0.tar.gz\n"
     ]
    },
    {
     "name": "stdout",
     "output_type": "stream",
     "text": [
      "Downloading: 2.5 MB       "
     ]
    },
    {
     "name": "stderr",
     "output_type": "stream",
     "text": [
      "Downloading chunk 2 of 31 (10 files, size = 2.527227 MB) as Tue_Aug_18_16_52_15_2020_1.tar.gz\n"
     ]
    },
    {
     "name": "stdout",
     "output_type": "stream",
     "text": [
      "Downloading: 2.5 MB       "
     ]
    },
    {
     "name": "stderr",
     "output_type": "stream",
     "text": [
      "Downloading chunk 3 of 31 (10 files, size = 2.516641 MB) as Tue_Aug_18_16_52_15_2020_2.tar.gz\n"
     ]
    },
    {
     "name": "stdout",
     "output_type": "stream",
     "text": [
      "Downloading: 2.5 MB       "
     ]
    },
    {
     "name": "stderr",
     "output_type": "stream",
     "text": [
      "Downloading chunk 4 of 31 (10 files, size = 2.510196 MB) as Tue_Aug_18_16_52_15_2020_3.tar.gz\n"
     ]
    },
    {
     "name": "stdout",
     "output_type": "stream",
     "text": [
      "Downloading: 2.5 MB       "
     ]
    },
    {
     "name": "stderr",
     "output_type": "stream",
     "text": [
      "Downloading chunk 5 of 31 (10 files, size = 2.515677 MB) as Tue_Aug_18_16_52_15_2020_4.tar.gz\n"
     ]
    },
    {
     "name": "stdout",
     "output_type": "stream",
     "text": [
      "Downloading: 2.5 MB       "
     ]
    },
    {
     "name": "stderr",
     "output_type": "stream",
     "text": [
      "Downloading chunk 6 of 31 (10 files, size = 2.514275 MB) as Tue_Aug_18_16_52_15_2020_5.tar.gz\n"
     ]
    },
    {
     "name": "stdout",
     "output_type": "stream",
     "text": [
      "Downloading: 2.5 MB       "
     ]
    },
    {
     "name": "stderr",
     "output_type": "stream",
     "text": [
      "Downloading chunk 7 of 31 (10 files, size = 2.524145 MB) as Tue_Aug_18_16_52_15_2020_6.tar.gz\n"
     ]
    },
    {
     "name": "stdout",
     "output_type": "stream",
     "text": [
      "Downloading: 2.5 MB       "
     ]
    },
    {
     "name": "stderr",
     "output_type": "stream",
     "text": [
      "Downloading chunk 8 of 31 (10 files, size = 2.537913 MB) as Tue_Aug_18_16_52_15_2020_7.tar.gz\n"
     ]
    },
    {
     "name": "stdout",
     "output_type": "stream",
     "text": [
      "Downloading: 2.5 MB     "
     ]
    },
    {
     "name": "stderr",
     "output_type": "stream",
     "text": [
      "Downloading chunk 9 of 31 (10 files, size = 2.51407 MB) as Tue_Aug_18_16_52_15_2020_8.tar.gz\n"
     ]
    },
    {
     "name": "stdout",
     "output_type": "stream",
     "text": [
      "Downloading: 2.5 MB       "
     ]
    },
    {
     "name": "stderr",
     "output_type": "stream",
     "text": [
      "Downloading chunk 10 of 31 (10 files, size = 2.518752 MB) as Tue_Aug_18_16_52_15_2020_9.tar.gz\n"
     ]
    },
    {
     "name": "stdout",
     "output_type": "stream",
     "text": [
      "Downloading: 2.5 MB       "
     ]
    },
    {
     "name": "stderr",
     "output_type": "stream",
     "text": [
      "Downloading chunk 11 of 31 (10 files, size = 2.521472 MB) as Tue_Aug_18_16_52_15_2020_10.tar.gz\n"
     ]
    },
    {
     "name": "stdout",
     "output_type": "stream",
     "text": [
      "Downloading: 2.5 MB       "
     ]
    },
    {
     "name": "stderr",
     "output_type": "stream",
     "text": [
      "Downloading chunk 12 of 31 (10 files, size = 2.525212 MB) as Tue_Aug_18_16_52_15_2020_11.tar.gz\n"
     ]
    },
    {
     "name": "stdout",
     "output_type": "stream",
     "text": [
      "Downloading: 2.5 MB       "
     ]
    },
    {
     "name": "stderr",
     "output_type": "stream",
     "text": [
      "Downloading chunk 13 of 31 (10 files, size = 2.52909 MB) as Tue_Aug_18_16_52_15_2020_12.tar.gz\n"
     ]
    },
    {
     "name": "stdout",
     "output_type": "stream",
     "text": [
      "Downloading: 2.5 MB     "
     ]
    },
    {
     "name": "stderr",
     "output_type": "stream",
     "text": [
      "Downloading chunk 14 of 31 (10 files, size = 2.512235 MB) as Tue_Aug_18_16_52_15_2020_13.tar.gz\n"
     ]
    },
    {
     "name": "stdout",
     "output_type": "stream",
     "text": [
      "Downloading: 2.5 MB       "
     ]
    },
    {
     "name": "stderr",
     "output_type": "stream",
     "text": [
      "Downloading chunk 15 of 31 (10 files, size = 2.526529 MB) as Tue_Aug_18_16_52_15_2020_14.tar.gz\n"
     ]
    },
    {
     "name": "stdout",
     "output_type": "stream",
     "text": [
      "Downloading: 2.5 MB       "
     ]
    },
    {
     "name": "stderr",
     "output_type": "stream",
     "text": [
      "Downloading chunk 16 of 31 (10 files, size = 2.523593 MB) as Tue_Aug_18_16_52_15_2020_15.tar.gz\n"
     ]
    },
    {
     "name": "stdout",
     "output_type": "stream",
     "text": [
      "Downloading: 2.5 MB       "
     ]
    },
    {
     "name": "stderr",
     "output_type": "stream",
     "text": [
      "Downloading chunk 17 of 31 (10 files, size = 2.526281 MB) as Tue_Aug_18_16_52_15_2020_16.tar.gz\n"
     ]
    },
    {
     "name": "stdout",
     "output_type": "stream",
     "text": [
      "Downloading: 2.5 MB       "
     ]
    },
    {
     "name": "stderr",
     "output_type": "stream",
     "text": [
      "Downloading chunk 18 of 31 (10 files, size = 2.531817 MB) as Tue_Aug_18_16_52_15_2020_17.tar.gz\n"
     ]
    },
    {
     "name": "stdout",
     "output_type": "stream",
     "text": [
      "Downloading: 2.5 MB       "
     ]
    },
    {
     "name": "stderr",
     "output_type": "stream",
     "text": [
      "Downloading chunk 19 of 31 (10 files, size = 2.503543 MB) as Tue_Aug_18_16_52_15_2020_18.tar.gz\n"
     ]
    },
    {
     "name": "stdout",
     "output_type": "stream",
     "text": [
      "Downloading: 2.5 MB       "
     ]
    },
    {
     "name": "stderr",
     "output_type": "stream",
     "text": [
      "Downloading chunk 20 of 31 (10 files, size = 2.518505 MB) as Tue_Aug_18_16_52_15_2020_19.tar.gz\n"
     ]
    },
    {
     "name": "stdout",
     "output_type": "stream",
     "text": [
      "Downloading: 2.5 MB       "
     ]
    },
    {
     "name": "stderr",
     "output_type": "stream",
     "text": [
      "Downloading chunk 21 of 31 (10 files, size = 2.513516 MB) as Tue_Aug_18_16_52_15_2020_20.tar.gz\n"
     ]
    },
    {
     "name": "stdout",
     "output_type": "stream",
     "text": [
      "Downloading: 2.5 MB     "
     ]
    },
    {
     "name": "stderr",
     "output_type": "stream",
     "text": [
      "Downloading chunk 22 of 31 (10 files, size = 2.531634 MB) as Tue_Aug_18_16_52_15_2020_21.tar.gz\n"
     ]
    },
    {
     "name": "stdout",
     "output_type": "stream",
     "text": [
      "Downloading: 2.5 MB       "
     ]
    },
    {
     "name": "stderr",
     "output_type": "stream",
     "text": [
      "Downloading chunk 23 of 31 (10 files, size = 2.526956 MB) as Tue_Aug_18_16_52_15_2020_22.tar.gz\n"
     ]
    },
    {
     "name": "stdout",
     "output_type": "stream",
     "text": [
      "Downloading: 2.5 MB       "
     ]
    },
    {
     "name": "stderr",
     "output_type": "stream",
     "text": [
      "Downloading chunk 24 of 31 (10 files, size = 2.515253 MB) as Tue_Aug_18_16_52_15_2020_23.tar.gz\n"
     ]
    },
    {
     "name": "stdout",
     "output_type": "stream",
     "text": [
      "Downloading: 2.5 MB       "
     ]
    },
    {
     "name": "stderr",
     "output_type": "stream",
     "text": [
      "Downloading chunk 25 of 31 (10 files, size = 2.526321 MB) as Tue_Aug_18_16_52_15_2020_24.tar.gz\n"
     ]
    },
    {
     "name": "stdout",
     "output_type": "stream",
     "text": [
      "Downloading: 2.5 MB       "
     ]
    },
    {
     "name": "stderr",
     "output_type": "stream",
     "text": [
      "Downloading chunk 26 of 31 (10 files, size = 2.523639 MB) as Tue_Aug_18_16_52_15_2020_25.tar.gz\n"
     ]
    },
    {
     "name": "stdout",
     "output_type": "stream",
     "text": [
      "Downloading: 2.5 MB       "
     ]
    },
    {
     "name": "stderr",
     "output_type": "stream",
     "text": [
      "Downloading chunk 27 of 31 (10 files, size = 2.530583 MB) as Tue_Aug_18_16_52_15_2020_26.tar.gz\n"
     ]
    },
    {
     "name": "stdout",
     "output_type": "stream",
     "text": [
      "Downloading: 2.5 MB       "
     ]
    },
    {
     "name": "stderr",
     "output_type": "stream",
     "text": [
      "Downloading chunk 28 of 31 (10 files, size = 2.545826 MB) as Tue_Aug_18_16_52_15_2020_27.tar.gz\n"
     ]
    },
    {
     "name": "stdout",
     "output_type": "stream",
     "text": [
      "Downloading: 2.5 MB       "
     ]
    },
    {
     "name": "stderr",
     "output_type": "stream",
     "text": [
      "Downloading chunk 29 of 31 (10 files, size = 2.527371 MB) as Tue_Aug_18_16_52_15_2020_28.tar.gz\n"
     ]
    },
    {
     "name": "stdout",
     "output_type": "stream",
     "text": [
      "Downloading: 2.5 MB       "
     ]
    },
    {
     "name": "stderr",
     "output_type": "stream",
     "text": [
      "Downloading chunk 30 of 31 (10 files, size = 2.51555 MB) as Tue_Aug_18_16_52_15_2020_29.tar.gz\n"
     ]
    },
    {
     "name": "stdout",
     "output_type": "stream",
     "text": [
      "Downloading: 2.5 MB       "
     ]
    },
    {
     "name": "stderr",
     "output_type": "stream",
     "text": [
      "Downloading chunk 31 of 31 (9 files, size = 2.269365 MB) as Tue_Aug_18_16_52_15_2020_30.tar.gz\n"
     ]
    },
    {
     "name": "stdout",
     "output_type": "stream",
     "text": [
      "|====================================================|100%                      Completed after 28 s \n"
     ]
    },
    {
     "name": "stderr",
     "output_type": "stream",
     "text": [
      "Starting to add information to samples\n",
      " => Add clinical information to samples\n",
      "Add FFPE information. More information at: \n",
      "=> https://cancergenome.nih.gov/cancersselected/biospeccriteria \n",
      "=> http://gdac.broadinstitute.org/runs/sampleReports/latest/FPPP_FFPE_Cases.html\n",
      " => Adding subtype information to samples\n",
      "cesc subtype information from:doi:10.1038/nature21386\n",
      "Accessing www.ensembl.org to get gene information\n",
      "Downloading genome information (try:0) Using: Human genes (GRCh38.p13)\n",
      "Warning message:\n",
      "“`select_()` is deprecated as of dplyr 0.7.0.\n",
      "Please use `select()` instead.\n",
      "This warning is displayed once every 8 hours.\n",
      "Call `lifecycle::last_warnings()` to see where this warning was generated.”Warning message:\n",
      "“`filter_()` is deprecated as of dplyr 0.7.0.\n",
      "Please use `filter()` instead.\n",
      "See vignette('programming') for more help\n",
      "This warning is displayed once every 8 hours.\n",
      "Call `lifecycle::last_warnings()` to see where this warning was generated.”Cache found\n",
      "From the 60483 genes we couldn't map 3990\n"
     ]
    },
    {
     "data": {
      "text/plain": [
       "class: RangedSummarizedExperiment \n",
       "dim: 56493 309 \n",
       "metadata(1): data_release\n",
       "assays(1): HTSeq - Counts\n",
       "rownames(56493): ENSG00000000003 ENSG00000000005 ... ENSG00000281912\n",
       "  ENSG00000281920\n",
       "rowData names(3): ensembl_gene_id external_gene_name\n",
       "  original_ensembl_gene_id\n",
       "colnames(309): TCGA-MY-A5BF-01A-11R-A26T-07\n",
       "  TCGA-EA-A3HU-01A-11R-A213-07 ... TCGA-EK-A2R8-01A-21R-A18M-07\n",
       "  TCGA-JW-A5VK-01A-11R-A28H-07\n",
       "colData names(131): sample patient ... subtype_GEXP.APOBEC3H.164668\n",
       "  subtype_patient"
      ]
     },
     "metadata": {},
     "output_type": "display_data"
    }
   ],
   "source": [
    "proj_idx <- 1\n",
    "q <- rna_seq_query(projects[proj_idx])\n",
    "GDCdownload(q, method = \"api\", directory = TCGA_dest_dir, files.per.chunk = 10)\n",
    "data <- GDCprepare(q, directory = TCGA_dest_dir)\n",
    "data\n",
    "saveHDF5SummarizedExperiment(data, dir = RSE_objects_dest_dir, prefix = paste0(projects[proj_idx], \"_RNA_\"))"
   ]
  },
  {
   "cell_type": "code",
   "execution_count": 11,
   "metadata": {
    "collapsed": true,
    "jupyter": {
     "outputs_hidden": true
    }
   },
   "outputs": [
    {
     "name": "stderr",
     "output_type": "stream",
     "text": [
      "--------------------------------------\n",
      "o GDCquery: Searching in GDC database\n",
      "--------------------------------------\n",
      "Genome of reference: hg38\n",
      "--------------------------------------------\n",
      "oo Accessing GDC. This might take a while...\n",
      "--------------------------------------------\n",
      "ooo Project: TCGA-OV\n",
      "--------------------\n",
      "oo Filtering results\n",
      "--------------------\n",
      "ooo By data.type\n",
      "ooo By workflow.type\n",
      "----------------\n",
      "oo Checking data\n",
      "----------------\n",
      "ooo Check if there are duplicated cases\n",
      "ooo Check if there results for the query\n",
      "-------------------\n",
      "o Preparing output\n",
      "-------------------\n",
      "Downloading data for project TCGA-OV\n",
      "GDCdownload will download 379 files. A total of 97.709866 MB\n",
      "Downloading chunk 1 of 38 (10 files, size = 2.575505 MB) as Tue_Aug_18_17_32_22_2020_0.tar.gz\n"
     ]
    },
    {
     "name": "stdout",
     "output_type": "stream",
     "text": [
      "Downloading: 2.6 MB     "
     ]
    },
    {
     "name": "stderr",
     "output_type": "stream",
     "text": [
      "Downloading chunk 2 of 38 (10 files, size = 2.58518 MB) as Tue_Aug_18_17_32_22_2020_1.tar.gz\n"
     ]
    },
    {
     "name": "stdout",
     "output_type": "stream",
     "text": [
      "Downloading: 2.6 MB       "
     ]
    },
    {
     "name": "stderr",
     "output_type": "stream",
     "text": [
      "Downloading chunk 3 of 38 (10 files, size = 2.546433 MB) as Tue_Aug_18_17_32_22_2020_2.tar.gz\n"
     ]
    },
    {
     "name": "stdout",
     "output_type": "stream",
     "text": [
      "Downloading: 2.5 MB     "
     ]
    },
    {
     "name": "stderr",
     "output_type": "stream",
     "text": [
      "Downloading chunk 4 of 38 (10 files, size = 2.545048 MB) as Tue_Aug_18_17_32_22_2020_3.tar.gz\n"
     ]
    },
    {
     "name": "stdout",
     "output_type": "stream",
     "text": [
      "Downloading: 2.5 MB       "
     ]
    },
    {
     "name": "stderr",
     "output_type": "stream",
     "text": [
      "Downloading chunk 5 of 38 (10 files, size = 2.598134 MB) as Tue_Aug_18_17_32_22_2020_4.tar.gz\n"
     ]
    },
    {
     "name": "stdout",
     "output_type": "stream",
     "text": [
      "Downloading: 2.6 MB     "
     ]
    },
    {
     "name": "stderr",
     "output_type": "stream",
     "text": [
      "Downloading chunk 6 of 38 (10 files, size = 2.586813 MB) as Tue_Aug_18_17_32_22_2020_5.tar.gz\n"
     ]
    },
    {
     "name": "stdout",
     "output_type": "stream",
     "text": [
      "Downloading: 2.6 MB     "
     ]
    },
    {
     "name": "stderr",
     "output_type": "stream",
     "text": [
      "Downloading chunk 7 of 38 (10 files, size = 2.572175 MB) as Tue_Aug_18_17_32_22_2020_6.tar.gz\n"
     ]
    },
    {
     "name": "stdout",
     "output_type": "stream",
     "text": [
      "Downloading: 2.6 MB       "
     ]
    },
    {
     "name": "stderr",
     "output_type": "stream",
     "text": [
      "Downloading chunk 8 of 38 (10 files, size = 2.571343 MB) as Tue_Aug_18_17_32_22_2020_7.tar.gz\n"
     ]
    },
    {
     "name": "stdout",
     "output_type": "stream",
     "text": [
      "Downloading: 2.6 MB       "
     ]
    },
    {
     "name": "stderr",
     "output_type": "stream",
     "text": [
      "Downloading chunk 9 of 38 (10 files, size = 2.58495 MB) as Tue_Aug_18_17_32_22_2020_8.tar.gz\n"
     ]
    },
    {
     "name": "stdout",
     "output_type": "stream",
     "text": [
      "Downloading: 2.6 MB     "
     ]
    },
    {
     "name": "stderr",
     "output_type": "stream",
     "text": [
      "Downloading chunk 10 of 38 (10 files, size = 2.560346 MB) as Tue_Aug_18_17_32_22_2020_9.tar.gz\n"
     ]
    },
    {
     "name": "stdout",
     "output_type": "stream",
     "text": [
      "Downloading: 2.6 MB       "
     ]
    },
    {
     "name": "stderr",
     "output_type": "stream",
     "text": [
      "Downloading chunk 11 of 38 (10 files, size = 2.585419 MB) as Tue_Aug_18_17_32_22_2020_10.tar.gz\n"
     ]
    },
    {
     "name": "stdout",
     "output_type": "stream",
     "text": [
      "Downloading: 2.6 MB       "
     ]
    },
    {
     "name": "stderr",
     "output_type": "stream",
     "text": [
      "Downloading chunk 12 of 38 (10 files, size = 2.573362 MB) as Tue_Aug_18_17_32_22_2020_11.tar.gz\n"
     ]
    },
    {
     "name": "stdout",
     "output_type": "stream",
     "text": [
      "Downloading: 2.6 MB     "
     ]
    },
    {
     "name": "stderr",
     "output_type": "stream",
     "text": [
      "Downloading chunk 13 of 38 (10 files, size = 2.572696 MB) as Tue_Aug_18_17_32_22_2020_12.tar.gz\n"
     ]
    },
    {
     "name": "stdout",
     "output_type": "stream",
     "text": [
      "Downloading: 2.6 MB     "
     ]
    },
    {
     "name": "stderr",
     "output_type": "stream",
     "text": [
      "Downloading chunk 14 of 38 (10 files, size = 2.560171 MB) as Tue_Aug_18_17_32_22_2020_13.tar.gz\n"
     ]
    },
    {
     "name": "stdout",
     "output_type": "stream",
     "text": [
      "Downloading: 2.6 MB     "
     ]
    },
    {
     "name": "stderr",
     "output_type": "stream",
     "text": [
      "Downloading chunk 15 of 38 (10 files, size = 2.593542 MB) as Tue_Aug_18_17_32_22_2020_14.tar.gz\n"
     ]
    },
    {
     "name": "stdout",
     "output_type": "stream",
     "text": [
      "Downloading: 2.6 MB     "
     ]
    },
    {
     "name": "stderr",
     "output_type": "stream",
     "text": [
      "Downloading chunk 16 of 38 (10 files, size = 2.558508 MB) as Tue_Aug_18_17_32_22_2020_15.tar.gz\n"
     ]
    },
    {
     "name": "stdout",
     "output_type": "stream",
     "text": [
      "Downloading: 2.6 MB       "
     ]
    },
    {
     "name": "stderr",
     "output_type": "stream",
     "text": [
      "Downloading chunk 17 of 38 (10 files, size = 2.598926 MB) as Tue_Aug_18_17_32_22_2020_16.tar.gz\n"
     ]
    },
    {
     "name": "stdout",
     "output_type": "stream",
     "text": [
      "Downloading: 2.6 MB     "
     ]
    },
    {
     "name": "stderr",
     "output_type": "stream",
     "text": [
      "Downloading chunk 18 of 38 (10 files, size = 2.568633 MB) as Tue_Aug_18_17_32_22_2020_17.tar.gz\n"
     ]
    },
    {
     "name": "stdout",
     "output_type": "stream",
     "text": [
      "Downloading: 2.6 MB       "
     ]
    },
    {
     "name": "stderr",
     "output_type": "stream",
     "text": [
      "Downloading chunk 19 of 38 (10 files, size = 2.57442 MB) as Tue_Aug_18_17_32_22_2020_18.tar.gz\n"
     ]
    },
    {
     "name": "stdout",
     "output_type": "stream",
     "text": [
      "Downloading: 2.6 MB       "
     ]
    },
    {
     "name": "stderr",
     "output_type": "stream",
     "text": [
      "Downloading chunk 20 of 38 (10 files, size = 2.565395 MB) as Tue_Aug_18_17_32_22_2020_19.tar.gz\n"
     ]
    },
    {
     "name": "stdout",
     "output_type": "stream",
     "text": [
      "Downloading: 2.6 MB       "
     ]
    },
    {
     "name": "stderr",
     "output_type": "stream",
     "text": [
      "Downloading chunk 21 of 38 (10 files, size = 2.575067 MB) as Tue_Aug_18_17_32_22_2020_20.tar.gz\n"
     ]
    },
    {
     "name": "stdout",
     "output_type": "stream",
     "text": [
      "Downloading: 2.6 MB     "
     ]
    },
    {
     "name": "stderr",
     "output_type": "stream",
     "text": [
      "Downloading chunk 22 of 38 (10 files, size = 2.582597 MB) as Tue_Aug_18_17_32_22_2020_21.tar.gz\n"
     ]
    },
    {
     "name": "stdout",
     "output_type": "stream",
     "text": [
      "Downloading: 2.6 MB       "
     ]
    },
    {
     "name": "stderr",
     "output_type": "stream",
     "text": [
      "Downloading chunk 23 of 38 (10 files, size = 2.5891 MB) as Tue_Aug_18_17_32_22_2020_22.tar.gz\n"
     ]
    },
    {
     "name": "stdout",
     "output_type": "stream",
     "text": [
      "Downloading: 2.6 MB       "
     ]
    },
    {
     "name": "stderr",
     "output_type": "stream",
     "text": [
      "Downloading chunk 24 of 38 (10 files, size = 2.577738 MB) as Tue_Aug_18_17_32_22_2020_23.tar.gz\n"
     ]
    },
    {
     "name": "stdout",
     "output_type": "stream",
     "text": [
      "Downloading: 2.6 MB       "
     ]
    },
    {
     "name": "stderr",
     "output_type": "stream",
     "text": [
      "Downloading chunk 25 of 38 (10 files, size = 2.583447 MB) as Tue_Aug_18_17_32_22_2020_24.tar.gz\n"
     ]
    },
    {
     "name": "stdout",
     "output_type": "stream",
     "text": [
      "Downloading: 2.6 MB     "
     ]
    },
    {
     "name": "stderr",
     "output_type": "stream",
     "text": [
      "Downloading chunk 26 of 38 (10 files, size = 2.593591 MB) as Tue_Aug_18_17_32_22_2020_25.tar.gz\n"
     ]
    },
    {
     "name": "stdout",
     "output_type": "stream",
     "text": [
      "Downloading: 2.6 MB     "
     ]
    },
    {
     "name": "stderr",
     "output_type": "stream",
     "text": [
      "Downloading chunk 27 of 38 (10 files, size = 2.609177 MB) as Tue_Aug_18_17_32_22_2020_26.tar.gz\n"
     ]
    },
    {
     "name": "stdout",
     "output_type": "stream",
     "text": [
      "Downloading: 2.6 MB       "
     ]
    },
    {
     "name": "stderr",
     "output_type": "stream",
     "text": [
      "Downloading chunk 28 of 38 (10 files, size = 2.565686 MB) as Tue_Aug_18_17_32_22_2020_27.tar.gz\n"
     ]
    },
    {
     "name": "stdout",
     "output_type": "stream",
     "text": [
      "Downloading: 2.6 MB       "
     ]
    },
    {
     "name": "stderr",
     "output_type": "stream",
     "text": [
      "Downloading chunk 29 of 38 (10 files, size = 2.577027 MB) as Tue_Aug_18_17_32_22_2020_28.tar.gz\n"
     ]
    },
    {
     "name": "stdout",
     "output_type": "stream",
     "text": [
      "Downloading: 2.6 MB       "
     ]
    },
    {
     "name": "stderr",
     "output_type": "stream",
     "text": [
      "Downloading chunk 30 of 38 (10 files, size = 2.581507 MB) as Tue_Aug_18_17_32_22_2020_29.tar.gz\n"
     ]
    },
    {
     "name": "stdout",
     "output_type": "stream",
     "text": [
      "Downloading: 2.6 MB       "
     ]
    },
    {
     "name": "stderr",
     "output_type": "stream",
     "text": [
      "Downloading chunk 31 of 38 (10 files, size = 2.612201 MB) as Tue_Aug_18_17_32_22_2020_30.tar.gz\n"
     ]
    },
    {
     "name": "stdout",
     "output_type": "stream",
     "text": [
      "Downloading: 2.6 MB       "
     ]
    },
    {
     "name": "stderr",
     "output_type": "stream",
     "text": [
      "Downloading chunk 32 of 38 (10 files, size = 2.565794 MB) as Tue_Aug_18_17_32_22_2020_31.tar.gz\n"
     ]
    },
    {
     "name": "stdout",
     "output_type": "stream",
     "text": [
      "Downloading: 2.6 MB     "
     ]
    },
    {
     "name": "stderr",
     "output_type": "stream",
     "text": [
      "Downloading chunk 33 of 38 (10 files, size = 2.5781 MB) as Tue_Aug_18_17_32_22_2020_32.tar.gz\n"
     ]
    },
    {
     "name": "stdout",
     "output_type": "stream",
     "text": [
      "Downloading: 2.6 MB       "
     ]
    },
    {
     "name": "stderr",
     "output_type": "stream",
     "text": [
      "Downloading chunk 34 of 38 (10 files, size = 2.546885 MB) as Tue_Aug_18_17_32_22_2020_33.tar.gz\n"
     ]
    },
    {
     "name": "stdout",
     "output_type": "stream",
     "text": [
      "Downloading: 2.5 MB     "
     ]
    },
    {
     "name": "stderr",
     "output_type": "stream",
     "text": [
      "Downloading chunk 35 of 38 (10 files, size = 2.573288 MB) as Tue_Aug_18_17_32_22_2020_34.tar.gz\n"
     ]
    },
    {
     "name": "stdout",
     "output_type": "stream",
     "text": [
      "Downloading: 2.6 MB     "
     ]
    },
    {
     "name": "stderr",
     "output_type": "stream",
     "text": [
      "Downloading chunk 36 of 38 (10 files, size = 2.590288 MB) as Tue_Aug_18_17_32_22_2020_35.tar.gz\n"
     ]
    },
    {
     "name": "stdout",
     "output_type": "stream",
     "text": [
      "Downloading: 2.6 MB     "
     ]
    },
    {
     "name": "stderr",
     "output_type": "stream",
     "text": [
      "Downloading chunk 37 of 38 (10 files, size = 2.600758 MB) as Tue_Aug_18_17_32_22_2020_36.tar.gz\n"
     ]
    },
    {
     "name": "stdout",
     "output_type": "stream",
     "text": [
      "Downloading: 2.6 MB     "
     ]
    },
    {
     "name": "stderr",
     "output_type": "stream",
     "text": [
      "Downloading chunk 38 of 38 (9 files, size = 2.330616 MB) as Tue_Aug_18_17_32_22_2020_37.tar.gz\n"
     ]
    },
    {
     "name": "stdout",
     "output_type": "stream",
     "text": [
      "|====================================================|100%                      Completed after 33 s \n"
     ]
    },
    {
     "name": "stderr",
     "output_type": "stream",
     "text": [
      "Starting to add information to samples\n",
      " => Add clinical information to samples\n",
      "Add FFPE information. More information at: \n",
      "=> https://cancergenome.nih.gov/cancersselected/biospeccriteria \n",
      "=> http://gdac.broadinstitute.org/runs/sampleReports/latest/FPPP_FFPE_Cases.html\n",
      " => Adding subtype information to samples\n",
      "Accessing www.ensembl.org to get gene information\n",
      "Downloading genome information (try:0) Using: Human genes (GRCh38.p13)\n",
      "Cache found\n",
      "From the 60483 genes we couldn't map 3990\n"
     ]
    },
    {
     "data": {
      "text/plain": [
       "class: RangedSummarizedExperiment \n",
       "dim: 56493 379 \n",
       "metadata(1): data_release\n",
       "assays(1): HTSeq - Counts\n",
       "rownames(56493): ENSG00000000003 ENSG00000000005 ... ENSG00000281912\n",
       "  ENSG00000281920\n",
       "rowData names(3): ensembl_gene_id external_gene_name\n",
       "  original_ensembl_gene_id\n",
       "colnames(379): TCGA-04-1338-01A-01R-1564-13\n",
       "  TCGA-13-0797-01A-01R-1564-13 ... TCGA-13-1498-01A-01R-1565-13\n",
       "  TCGA-31-1953-01A-01R-1568-13\n",
       "colData names(63): sample patient ... releasable is_ffpe"
      ]
     },
     "metadata": {},
     "output_type": "display_data"
    }
   ],
   "source": [
    "proj_idx <- 2\n",
    "q <- rna_seq_query(projects[proj_idx])\n",
    "GDCdownload(q, method = \"api\", directory = TCGA_dest_dir, files.per.chunk = 10)\n",
    "data <- GDCprepare(q, directory = TCGA_dest_dir)\n",
    "data\n",
    "saveHDF5SummarizedExperiment(data, dir = RSE_objects_dest_dir, prefix = paste0(projects[proj_idx], \"_RNA_\"))"
   ]
  },
  {
   "cell_type": "code",
   "execution_count": 12,
   "metadata": {
    "collapsed": true,
    "jupyter": {
     "outputs_hidden": true
    }
   },
   "outputs": [
    {
     "name": "stderr",
     "output_type": "stream",
     "text": [
      "--------------------------------------\n",
      "o GDCquery: Searching in GDC database\n",
      "--------------------------------------\n",
      "Genome of reference: hg38\n",
      "--------------------------------------------\n",
      "oo Accessing GDC. This might take a while...\n",
      "--------------------------------------------\n",
      "ooo Project: TCGA-UCS\n",
      "--------------------\n",
      "oo Filtering results\n",
      "--------------------\n",
      "ooo By data.type\n",
      "ooo By workflow.type\n",
      "----------------\n",
      "oo Checking data\n",
      "----------------\n",
      "ooo Check if there are duplicated cases\n",
      "ooo Check if there results for the query\n",
      "-------------------\n",
      "o Preparing output\n",
      "-------------------\n",
      "Downloading data for project TCGA-UCS\n",
      "GDCdownload will download 56 files. A total of 14.221611 MB\n",
      "Downloading chunk 1 of 6 (10 files, size = 2.536693 MB) as Tue_Aug_18_17_38_02_2020_0.tar.gz\n"
     ]
    },
    {
     "name": "stdout",
     "output_type": "stream",
     "text": [
      "Downloading: 2.5 MB     "
     ]
    },
    {
     "name": "stderr",
     "output_type": "stream",
     "text": [
      "Downloading chunk 2 of 6 (10 files, size = 2.543023 MB) as Tue_Aug_18_17_38_02_2020_1.tar.gz\n"
     ]
    },
    {
     "name": "stdout",
     "output_type": "stream",
     "text": [
      "Downloading: 2.5 MB       "
     ]
    },
    {
     "name": "stderr",
     "output_type": "stream",
     "text": [
      "Downloading chunk 3 of 6 (10 files, size = 2.556204 MB) as Tue_Aug_18_17_38_02_2020_2.tar.gz\n"
     ]
    },
    {
     "name": "stdout",
     "output_type": "stream",
     "text": [
      "Downloading: 2.5 MB       "
     ]
    },
    {
     "name": "stderr",
     "output_type": "stream",
     "text": [
      "Downloading chunk 4 of 6 (10 files, size = 2.528308 MB) as Tue_Aug_18_17_38_02_2020_3.tar.gz\n"
     ]
    },
    {
     "name": "stdout",
     "output_type": "stream",
     "text": [
      "Downloading: 2.5 MB       "
     ]
    },
    {
     "name": "stderr",
     "output_type": "stream",
     "text": [
      "Downloading chunk 5 of 6 (10 files, size = 2.537284 MB) as Tue_Aug_18_17_38_02_2020_4.tar.gz\n"
     ]
    },
    {
     "name": "stdout",
     "output_type": "stream",
     "text": [
      "Downloading: 2.5 MB     "
     ]
    },
    {
     "name": "stderr",
     "output_type": "stream",
     "text": [
      "Downloading chunk 6 of 6 (6 files, size = 1.520099 MB) as Tue_Aug_18_17_38_02_2020_5.tar.gz\n"
     ]
    },
    {
     "name": "stdout",
     "output_type": "stream",
     "text": [
      "|====================================================|100%                      Completed after 5 s \n"
     ]
    },
    {
     "name": "stderr",
     "output_type": "stream",
     "text": [
      "Starting to add information to samples\n",
      " => Add clinical information to samples\n",
      "Add FFPE information. More information at: \n",
      "=> https://cancergenome.nih.gov/cancersselected/biospeccriteria \n",
      "=> http://gdac.broadinstitute.org/runs/sampleReports/latest/FPPP_FFPE_Cases.html\n",
      " => Adding subtype information to samples\n",
      "ucs subtype information from:doi:10.1016/j.ccell.2017.02.010\n",
      "Accessing www.ensembl.org to get gene information\n",
      "Downloading genome information (try:0) Using: Human genes (GRCh38.p13)\n",
      "Cache found\n",
      "From the 60483 genes we couldn't map 3990\n"
     ]
    },
    {
     "data": {
      "text/plain": [
       "class: RangedSummarizedExperiment \n",
       "dim: 56493 56 \n",
       "metadata(1): data_release\n",
       "assays(1): HTSeq - Counts\n",
       "rownames(56493): ENSG00000000003 ENSG00000000005 ... ENSG00000281912\n",
       "  ENSG00000281920\n",
       "rowData names(3): ensembl_gene_id external_gene_name\n",
       "  original_ensembl_gene_id\n",
       "colnames(56): TCGA-N5-A4RD-01A-11R-A28V-07 TCGA-NA-A5I1-01A-21R-A28V-07\n",
       "  ... TCGA-N9-A4Q7-01A-11R-A28V-07 TCGA-NG-A4VW-01A-11R-A28V-07\n",
       "colData names(128): sample patient ... subtype_histologic.subtype\n",
       "  subtype_Estimated_Carc_percent"
      ]
     },
     "metadata": {},
     "output_type": "display_data"
    }
   ],
   "source": [
    "proj_idx <- 3\n",
    "q <- rna_seq_query(projects[proj_idx])\n",
    "GDCdownload(q, method = \"api\", directory = TCGA_dest_dir, files.per.chunk = 10)\n",
    "data <- GDCprepare(q, directory = TCGA_dest_dir)\n",
    "data\n",
    "saveHDF5SummarizedExperiment(data, dir = RSE_objects_dest_dir, prefix = paste0(projects[proj_idx], \"_RNA_\"))"
   ]
  },
  {
   "cell_type": "code",
   "execution_count": 13,
   "metadata": {
    "collapsed": true,
    "jupyter": {
     "outputs_hidden": true
    }
   },
   "outputs": [
    {
     "name": "stderr",
     "output_type": "stream",
     "text": [
      "--------------------------------------\n",
      "o GDCquery: Searching in GDC database\n",
      "--------------------------------------\n",
      "Genome of reference: hg38\n",
      "--------------------------------------------\n",
      "oo Accessing GDC. This might take a while...\n",
      "--------------------------------------------\n",
      "ooo Project: TCGA-UCEC\n",
      "--------------------\n",
      "oo Filtering results\n",
      "--------------------\n",
      "ooo By data.type\n",
      "ooo By workflow.type\n",
      "----------------\n",
      "oo Checking data\n",
      "----------------\n",
      "ooo Check if there are duplicated cases\n",
      "ooo Check if there results for the query\n",
      "-------------------\n",
      "o Preparing output\n",
      "-------------------\n",
      "Downloading data for project TCGA-UCEC\n",
      "GDCdownload will download 587 files. A total of 145.520507 MB\n",
      "Downloading chunk 1 of 59 (10 files, size = 2.489185 MB) as Tue_Aug_18_17_39_25_2020_0.tar.gz\n"
     ]
    },
    {
     "name": "stdout",
     "output_type": "stream",
     "text": [
      "Downloading: 2.5 MB       "
     ]
    },
    {
     "name": "stderr",
     "output_type": "stream",
     "text": [
      "Downloading chunk 2 of 59 (10 files, size = 2.488039 MB) as Tue_Aug_18_17_39_25_2020_1.tar.gz\n"
     ]
    },
    {
     "name": "stdout",
     "output_type": "stream",
     "text": [
      "Downloading: 2.5 MB       "
     ]
    },
    {
     "name": "stderr",
     "output_type": "stream",
     "text": [
      "Downloading chunk 3 of 59 (10 files, size = 2.491505 MB) as Tue_Aug_18_17_39_25_2020_2.tar.gz\n"
     ]
    },
    {
     "name": "stdout",
     "output_type": "stream",
     "text": [
      "Downloading: 2.5 MB       "
     ]
    },
    {
     "name": "stderr",
     "output_type": "stream",
     "text": [
      "Downloading chunk 4 of 59 (10 files, size = 2.494092 MB) as Tue_Aug_18_17_39_25_2020_3.tar.gz\n"
     ]
    },
    {
     "name": "stdout",
     "output_type": "stream",
     "text": [
      "Downloading: 2.5 MB       "
     ]
    },
    {
     "name": "stderr",
     "output_type": "stream",
     "text": [
      "Downloading chunk 5 of 59 (10 files, size = 2.49011 MB) as Tue_Aug_18_17_39_25_2020_4.tar.gz\n"
     ]
    },
    {
     "name": "stdout",
     "output_type": "stream",
     "text": [
      "Downloading: 2.5 MB       "
     ]
    },
    {
     "name": "stderr",
     "output_type": "stream",
     "text": [
      "Downloading chunk 6 of 59 (10 files, size = 2.482287 MB) as Tue_Aug_18_17_39_25_2020_5.tar.gz\n"
     ]
    },
    {
     "name": "stdout",
     "output_type": "stream",
     "text": [
      "Downloading: 2.5 MB       "
     ]
    },
    {
     "name": "stderr",
     "output_type": "stream",
     "text": [
      "Downloading chunk 7 of 59 (10 files, size = 2.465764 MB) as Tue_Aug_18_17_39_25_2020_6.tar.gz\n"
     ]
    },
    {
     "name": "stdout",
     "output_type": "stream",
     "text": [
      "Downloading: 2.5 MB       "
     ]
    },
    {
     "name": "stderr",
     "output_type": "stream",
     "text": [
      "Downloading chunk 8 of 59 (10 files, size = 2.490375 MB) as Tue_Aug_18_17_39_25_2020_7.tar.gz\n"
     ]
    },
    {
     "name": "stdout",
     "output_type": "stream",
     "text": [
      "Downloading: 2.5 MB       "
     ]
    },
    {
     "name": "stderr",
     "output_type": "stream",
     "text": [
      "Downloading chunk 9 of 59 (10 files, size = 2.457023 MB) as Tue_Aug_18_17_39_25_2020_8.tar.gz\n"
     ]
    },
    {
     "name": "stdout",
     "output_type": "stream",
     "text": [
      "Downloading: 2.4 MB       "
     ]
    },
    {
     "name": "stderr",
     "output_type": "stream",
     "text": [
      "Downloading chunk 10 of 59 (10 files, size = 2.466789 MB) as Tue_Aug_18_17_39_25_2020_9.tar.gz\n"
     ]
    },
    {
     "name": "stdout",
     "output_type": "stream",
     "text": [
      "Downloading: 2.5 MB       "
     ]
    },
    {
     "name": "stderr",
     "output_type": "stream",
     "text": [
      "Downloading chunk 11 of 59 (10 files, size = 2.470066 MB) as Tue_Aug_18_17_39_25_2020_10.tar.gz\n"
     ]
    },
    {
     "name": "stdout",
     "output_type": "stream",
     "text": [
      "Downloading: 2.5 MB       "
     ]
    },
    {
     "name": "stderr",
     "output_type": "stream",
     "text": [
      "Downloading chunk 12 of 59 (10 files, size = 2.514454 MB) as Tue_Aug_18_17_39_25_2020_11.tar.gz\n"
     ]
    },
    {
     "name": "stdout",
     "output_type": "stream",
     "text": [
      "Downloading: 2.5 MB       "
     ]
    },
    {
     "name": "stderr",
     "output_type": "stream",
     "text": [
      "Downloading chunk 13 of 59 (10 files, size = 2.432327 MB) as Tue_Aug_18_17_39_25_2020_12.tar.gz\n"
     ]
    },
    {
     "name": "stdout",
     "output_type": "stream",
     "text": [
      "Downloading: 2.4 MB       "
     ]
    },
    {
     "name": "stderr",
     "output_type": "stream",
     "text": [
      "Downloading chunk 14 of 59 (10 files, size = 2.476156 MB) as Tue_Aug_18_17_39_25_2020_13.tar.gz\n"
     ]
    },
    {
     "name": "stdout",
     "output_type": "stream",
     "text": [
      "Downloading: 2.5 MB       "
     ]
    },
    {
     "name": "stderr",
     "output_type": "stream",
     "text": [
      "Downloading chunk 15 of 59 (10 files, size = 2.506444 MB) as Tue_Aug_18_17_39_25_2020_14.tar.gz\n"
     ]
    },
    {
     "name": "stdout",
     "output_type": "stream",
     "text": [
      "Downloading: 2.5 MB       "
     ]
    },
    {
     "name": "stderr",
     "output_type": "stream",
     "text": [
      "Downloading chunk 16 of 59 (10 files, size = 2.473501 MB) as Tue_Aug_18_17_39_25_2020_15.tar.gz\n"
     ]
    },
    {
     "name": "stdout",
     "output_type": "stream",
     "text": [
      "Downloading: 2.5 MB       "
     ]
    },
    {
     "name": "stderr",
     "output_type": "stream",
     "text": [
      "Downloading chunk 17 of 59 (10 files, size = 2.471143 MB) as Tue_Aug_18_17_39_25_2020_16.tar.gz\n"
     ]
    },
    {
     "name": "stdout",
     "output_type": "stream",
     "text": [
      "Downloading: 2.5 MB       "
     ]
    },
    {
     "name": "stderr",
     "output_type": "stream",
     "text": [
      "Downloading chunk 18 of 59 (10 files, size = 2.463949 MB) as Tue_Aug_18_17_39_25_2020_17.tar.gz\n"
     ]
    },
    {
     "name": "stdout",
     "output_type": "stream",
     "text": [
      "Downloading: 2.5 MB       "
     ]
    },
    {
     "name": "stderr",
     "output_type": "stream",
     "text": [
      "Downloading chunk 19 of 59 (10 files, size = 2.478317 MB) as Tue_Aug_18_17_39_25_2020_18.tar.gz\n"
     ]
    },
    {
     "name": "stdout",
     "output_type": "stream",
     "text": [
      "Downloading: 2.5 MB       "
     ]
    },
    {
     "name": "stderr",
     "output_type": "stream",
     "text": [
      "Downloading chunk 20 of 59 (10 files, size = 2.47264 MB) as Tue_Aug_18_17_39_25_2020_19.tar.gz\n"
     ]
    },
    {
     "name": "stdout",
     "output_type": "stream",
     "text": [
      "Downloading: 2.5 MB       "
     ]
    },
    {
     "name": "stderr",
     "output_type": "stream",
     "text": [
      "Downloading chunk 21 of 59 (10 files, size = 2.48047 MB) as Tue_Aug_18_17_39_25_2020_20.tar.gz\n"
     ]
    },
    {
     "name": "stdout",
     "output_type": "stream",
     "text": [
      "Downloading: 2.5 MB       "
     ]
    },
    {
     "name": "stderr",
     "output_type": "stream",
     "text": [
      "Downloading chunk 22 of 59 (10 files, size = 2.484934 MB) as Tue_Aug_18_17_39_25_2020_21.tar.gz\n"
     ]
    },
    {
     "name": "stdout",
     "output_type": "stream",
     "text": [
      "Downloading: 2.5 MB       "
     ]
    },
    {
     "name": "stderr",
     "output_type": "stream",
     "text": [
      "Downloading chunk 23 of 59 (10 files, size = 2.481727 MB) as Tue_Aug_18_17_39_25_2020_22.tar.gz\n"
     ]
    },
    {
     "name": "stdout",
     "output_type": "stream",
     "text": [
      "Downloading: 2.5 MB       "
     ]
    },
    {
     "name": "stderr",
     "output_type": "stream",
     "text": [
      "Downloading chunk 24 of 59 (10 files, size = 2.471209 MB) as Tue_Aug_18_17_39_25_2020_23.tar.gz\n"
     ]
    },
    {
     "name": "stdout",
     "output_type": "stream",
     "text": [
      "Downloading: 2.5 MB       "
     ]
    },
    {
     "name": "stderr",
     "output_type": "stream",
     "text": [
      "Downloading chunk 25 of 59 (10 files, size = 2.502933 MB) as Tue_Aug_18_17_39_25_2020_24.tar.gz\n"
     ]
    },
    {
     "name": "stdout",
     "output_type": "stream",
     "text": [
      "Downloading: 2.5 MB       "
     ]
    },
    {
     "name": "stderr",
     "output_type": "stream",
     "text": [
      "Downloading chunk 26 of 59 (10 files, size = 2.4838 MB) as Tue_Aug_18_17_39_25_2020_25.tar.gz\n"
     ]
    },
    {
     "name": "stdout",
     "output_type": "stream",
     "text": [
      "Downloading: 2.5 MB       "
     ]
    },
    {
     "name": "stderr",
     "output_type": "stream",
     "text": [
      "Downloading chunk 27 of 59 (10 files, size = 2.504043 MB) as Tue_Aug_18_17_39_25_2020_26.tar.gz\n"
     ]
    },
    {
     "name": "stdout",
     "output_type": "stream",
     "text": [
      "Downloading: 2.5 MB       "
     ]
    },
    {
     "name": "stderr",
     "output_type": "stream",
     "text": [
      "Downloading chunk 28 of 59 (10 files, size = 2.455745 MB) as Tue_Aug_18_17_39_25_2020_27.tar.gz\n"
     ]
    },
    {
     "name": "stdout",
     "output_type": "stream",
     "text": [
      "Downloading: 2.4 MB       "
     ]
    },
    {
     "name": "stderr",
     "output_type": "stream",
     "text": [
      "Downloading chunk 29 of 59 (10 files, size = 2.482125 MB) as Tue_Aug_18_17_39_25_2020_28.tar.gz\n"
     ]
    },
    {
     "name": "stdout",
     "output_type": "stream",
     "text": [
      "Downloading: 2.5 MB       "
     ]
    },
    {
     "name": "stderr",
     "output_type": "stream",
     "text": [
      "Downloading chunk 30 of 59 (10 files, size = 2.502247 MB) as Tue_Aug_18_17_39_25_2020_29.tar.gz\n"
     ]
    },
    {
     "name": "stdout",
     "output_type": "stream",
     "text": [
      "Downloading: 2.5 MB       "
     ]
    },
    {
     "name": "stderr",
     "output_type": "stream",
     "text": [
      "Downloading chunk 31 of 59 (10 files, size = 2.453237 MB) as Tue_Aug_18_17_39_25_2020_30.tar.gz\n"
     ]
    },
    {
     "name": "stdout",
     "output_type": "stream",
     "text": [
      "Downloading: 2.4 MB       "
     ]
    },
    {
     "name": "stderr",
     "output_type": "stream",
     "text": [
      "Downloading chunk 32 of 59 (10 files, size = 2.479071 MB) as Tue_Aug_18_17_39_25_2020_31.tar.gz\n"
     ]
    },
    {
     "name": "stdout",
     "output_type": "stream",
     "text": [
      "Downloading: 2.5 MB       "
     ]
    },
    {
     "name": "stderr",
     "output_type": "stream",
     "text": [
      "Downloading chunk 33 of 59 (10 files, size = 2.488107 MB) as Tue_Aug_18_17_39_25_2020_32.tar.gz\n"
     ]
    },
    {
     "name": "stdout",
     "output_type": "stream",
     "text": [
      "Downloading: 2.5 MB       "
     ]
    },
    {
     "name": "stderr",
     "output_type": "stream",
     "text": [
      "Downloading chunk 34 of 59 (10 files, size = 2.484246 MB) as Tue_Aug_18_17_39_25_2020_33.tar.gz\n"
     ]
    },
    {
     "name": "stdout",
     "output_type": "stream",
     "text": [
      "Downloading: 2.5 MB       "
     ]
    },
    {
     "name": "stderr",
     "output_type": "stream",
     "text": [
      "Downloading chunk 35 of 59 (10 files, size = 2.462607 MB) as Tue_Aug_18_17_39_25_2020_34.tar.gz\n"
     ]
    },
    {
     "name": "stdout",
     "output_type": "stream",
     "text": [
      "Downloading: 2.4 MB       "
     ]
    },
    {
     "name": "stderr",
     "output_type": "stream",
     "text": [
      "Downloading chunk 36 of 59 (10 files, size = 2.498881 MB) as Tue_Aug_18_17_39_25_2020_35.tar.gz\n"
     ]
    },
    {
     "name": "stdout",
     "output_type": "stream",
     "text": [
      "Downloading: 2.5 MB       "
     ]
    },
    {
     "name": "stderr",
     "output_type": "stream",
     "text": [
      "Downloading chunk 37 of 59 (10 files, size = 2.495367 MB) as Tue_Aug_18_17_39_25_2020_36.tar.gz\n"
     ]
    },
    {
     "name": "stdout",
     "output_type": "stream",
     "text": [
      "Downloading: 2.5 MB       "
     ]
    },
    {
     "name": "stderr",
     "output_type": "stream",
     "text": [
      "Downloading chunk 38 of 59 (10 files, size = 2.481796 MB) as Tue_Aug_18_17_39_25_2020_37.tar.gz\n"
     ]
    },
    {
     "name": "stdout",
     "output_type": "stream",
     "text": [
      "Downloading: 2.5 MB     "
     ]
    },
    {
     "name": "stderr",
     "output_type": "stream",
     "text": [
      "Downloading chunk 39 of 59 (10 files, size = 2.456723 MB) as Tue_Aug_18_17_39_25_2020_38.tar.gz\n"
     ]
    },
    {
     "name": "stdout",
     "output_type": "stream",
     "text": [
      "Downloading: 2.4 MB       "
     ]
    },
    {
     "name": "stderr",
     "output_type": "stream",
     "text": [
      "Downloading chunk 40 of 59 (10 files, size = 2.486268 MB) as Tue_Aug_18_17_39_25_2020_39.tar.gz\n"
     ]
    },
    {
     "name": "stdout",
     "output_type": "stream",
     "text": [
      "Downloading: 2.5 MB     "
     ]
    },
    {
     "name": "stderr",
     "output_type": "stream",
     "text": [
      "Downloading chunk 41 of 59 (10 files, size = 2.479749 MB) as Tue_Aug_18_17_39_25_2020_40.tar.gz\n"
     ]
    },
    {
     "name": "stdout",
     "output_type": "stream",
     "text": [
      "Downloading: 2.5 MB       "
     ]
    },
    {
     "name": "stderr",
     "output_type": "stream",
     "text": [
      "Downloading chunk 42 of 59 (10 files, size = 2.464356 MB) as Tue_Aug_18_17_39_25_2020_41.tar.gz\n"
     ]
    },
    {
     "name": "stdout",
     "output_type": "stream",
     "text": [
      "Downloading: 2.5 MB       "
     ]
    },
    {
     "name": "stderr",
     "output_type": "stream",
     "text": [
      "Downloading chunk 43 of 59 (10 files, size = 2.471826 MB) as Tue_Aug_18_17_39_25_2020_42.tar.gz\n"
     ]
    },
    {
     "name": "stdout",
     "output_type": "stream",
     "text": [
      "Downloading: 2.5 MB       "
     ]
    },
    {
     "name": "stderr",
     "output_type": "stream",
     "text": [
      "Downloading chunk 44 of 59 (10 files, size = 2.472143 MB) as Tue_Aug_18_17_39_25_2020_43.tar.gz\n"
     ]
    },
    {
     "name": "stdout",
     "output_type": "stream",
     "text": [
      "Downloading: 2.5 MB       "
     ]
    },
    {
     "name": "stderr",
     "output_type": "stream",
     "text": [
      "Downloading chunk 45 of 59 (10 files, size = 2.478434 MB) as Tue_Aug_18_17_39_25_2020_44.tar.gz\n"
     ]
    },
    {
     "name": "stdout",
     "output_type": "stream",
     "text": [
      "Downloading: 2.5 MB       "
     ]
    },
    {
     "name": "stderr",
     "output_type": "stream",
     "text": [
      "Downloading chunk 46 of 59 (10 files, size = 2.462342 MB) as Tue_Aug_18_17_39_25_2020_45.tar.gz\n"
     ]
    },
    {
     "name": "stdout",
     "output_type": "stream",
     "text": [
      "Downloading: 2.4 MB       "
     ]
    },
    {
     "name": "stderr",
     "output_type": "stream",
     "text": [
      "Downloading chunk 47 of 59 (10 files, size = 2.461523 MB) as Tue_Aug_18_17_39_25_2020_46.tar.gz\n"
     ]
    },
    {
     "name": "stdout",
     "output_type": "stream",
     "text": [
      "Downloading: 2.4 MB       "
     ]
    },
    {
     "name": "stderr",
     "output_type": "stream",
     "text": [
      "Downloading chunk 48 of 59 (10 files, size = 2.49576 MB) as Tue_Aug_18_17_39_25_2020_47.tar.gz\n"
     ]
    },
    {
     "name": "stdout",
     "output_type": "stream",
     "text": [
      "Downloading: 2.5 MB       "
     ]
    },
    {
     "name": "stderr",
     "output_type": "stream",
     "text": [
      "Downloading chunk 49 of 59 (10 files, size = 2.471159 MB) as Tue_Aug_18_17_39_25_2020_48.tar.gz\n"
     ]
    },
    {
     "name": "stdout",
     "output_type": "stream",
     "text": [
      "Downloading: 2.5 MB     "
     ]
    },
    {
     "name": "stderr",
     "output_type": "stream",
     "text": [
      "Downloading chunk 50 of 59 (10 files, size = 2.490721 MB) as Tue_Aug_18_17_39_25_2020_49.tar.gz\n"
     ]
    },
    {
     "name": "stdout",
     "output_type": "stream",
     "text": [
      "Downloading: 2.5 MB       "
     ]
    },
    {
     "name": "stderr",
     "output_type": "stream",
     "text": [
      "Downloading chunk 51 of 59 (10 files, size = 2.464443 MB) as Tue_Aug_18_17_39_25_2020_50.tar.gz\n"
     ]
    },
    {
     "name": "stdout",
     "output_type": "stream",
     "text": [
      "Downloading: 2.5 MB       "
     ]
    },
    {
     "name": "stderr",
     "output_type": "stream",
     "text": [
      "Downloading chunk 52 of 59 (10 files, size = 2.485916 MB) as Tue_Aug_18_17_39_25_2020_51.tar.gz\n"
     ]
    },
    {
     "name": "stdout",
     "output_type": "stream",
     "text": [
      "Downloading: 2.5 MB       "
     ]
    },
    {
     "name": "stderr",
     "output_type": "stream",
     "text": [
      "Downloading chunk 53 of 59 (10 files, size = 2.473838 MB) as Tue_Aug_18_17_39_25_2020_52.tar.gz\n"
     ]
    },
    {
     "name": "stdout",
     "output_type": "stream",
     "text": [
      "Downloading: 2.5 MB       "
     ]
    },
    {
     "name": "stderr",
     "output_type": "stream",
     "text": [
      "Downloading chunk 54 of 59 (10 files, size = 2.486046 MB) as Tue_Aug_18_17_39_25_2020_53.tar.gz\n"
     ]
    },
    {
     "name": "stdout",
     "output_type": "stream",
     "text": [
      "Downloading: 2.5 MB       "
     ]
    },
    {
     "name": "stderr",
     "output_type": "stream",
     "text": [
      "Downloading chunk 55 of 59 (10 files, size = 2.466714 MB) as Tue_Aug_18_17_39_25_2020_54.tar.gz\n"
     ]
    },
    {
     "name": "stdout",
     "output_type": "stream",
     "text": [
      "Downloading: 2.5 MB       "
     ]
    },
    {
     "name": "stderr",
     "output_type": "stream",
     "text": [
      "Downloading chunk 56 of 59 (10 files, size = 2.494336 MB) as Tue_Aug_18_17_39_25_2020_55.tar.gz\n"
     ]
    },
    {
     "name": "stdout",
     "output_type": "stream",
     "text": [
      "Downloading: 2.5 MB       "
     ]
    },
    {
     "name": "stderr",
     "output_type": "stream",
     "text": [
      "Downloading chunk 57 of 59 (10 files, size = 2.487951 MB) as Tue_Aug_18_17_39_25_2020_56.tar.gz\n"
     ]
    },
    {
     "name": "stdout",
     "output_type": "stream",
     "text": [
      "Downloading: 2.5 MB       "
     ]
    },
    {
     "name": "stderr",
     "output_type": "stream",
     "text": [
      "Downloading chunk 58 of 59 (10 files, size = 2.477349 MB) as Tue_Aug_18_17_39_25_2020_57.tar.gz\n"
     ]
    },
    {
     "name": "stdout",
     "output_type": "stream",
     "text": [
      "Downloading: 2.5 MB       "
     ]
    },
    {
     "name": "stderr",
     "output_type": "stream",
     "text": [
      "Downloading chunk 59 of 59 (7 files, size = 1.726199 MB) as Tue_Aug_18_17_39_25_2020_58.tar.gz\n"
     ]
    },
    {
     "name": "stdout",
     "output_type": "stream",
     "text": [
      "|====================================================|100%                      Completed after 50 s \n"
     ]
    },
    {
     "name": "stderr",
     "output_type": "stream",
     "text": [
      "Starting to add information to samples\n",
      " => Add clinical information to samples\n",
      "Add FFPE information. More information at: \n",
      "=> https://cancergenome.nih.gov/cancersselected/biospeccriteria \n",
      "=> http://gdac.broadinstitute.org/runs/sampleReports/latest/FPPP_FFPE_Cases.html\n",
      " => Adding subtype information to samples\n",
      "ucec subtype information from:doi:10.1038/nature12113\n",
      "Accessing www.ensembl.org to get gene information\n",
      "Downloading genome information (try:0) Using: Human genes (GRCh38.p13)\n",
      "Cache found\n",
      "From the 60483 genes we couldn't map 3990\n"
     ]
    },
    {
     "data": {
      "text/plain": [
       "class: RangedSummarizedExperiment \n",
       "dim: 56493 587 \n",
       "metadata(1): data_release\n",
       "assays(1): HTSeq - Counts\n",
       "rownames(56493): ENSG00000000003 ENSG00000000005 ... ENSG00000281912\n",
       "  ENSG00000281920\n",
       "rowData names(3): ensembl_gene_id external_gene_name\n",
       "  original_ensembl_gene_id\n",
       "colnames(587): TCGA-B5-A1MV-01A-31R-A14D-07\n",
       "  TCGA-D1-A174-01A-11R-A12I-07 ... TCGA-FI-A2F4-01A-11R-A17B-07\n",
       "  TCGA-AX-A3G7-01A-12R-A213-07\n",
       "colData names(82): sample patient ... subtype_cna_cluster_k4\n",
       "  subtype_mrna_expression_cluster"
      ]
     },
     "metadata": {},
     "output_type": "display_data"
    }
   ],
   "source": [
    "proj_idx <- 4\n",
    "q <- rna_seq_query(projects[proj_idx])\n",
    "GDCdownload(q, method = \"api\", directory = TCGA_dest_dir, files.per.chunk = 10)\n",
    "data <- GDCprepare(q, directory = TCGA_dest_dir)\n",
    "data\n",
    "saveHDF5SummarizedExperiment(data, dir = RSE_objects_dest_dir, prefix = paste0(projects[proj_idx], \"_RNA_\"))"
   ]
  },
  {
   "cell_type": "markdown",
   "metadata": {},
   "source": [
    "# Save data in count matrix + coldata format\n",
    "\n",
    "Save data in a format ready for DESeq/clustering/etc."
   ]
  },
  {
   "cell_type": "code",
   "execution_count": 22,
   "metadata": {},
   "outputs": [],
   "source": [
    "data_ls <- load_RSE_objects(RSE_objects_dest_dir, projects, paste0(projects, \"_RNA_\"))"
   ]
  },
  {
   "cell_type": "code",
   "execution_count": 34,
   "metadata": {},
   "outputs": [],
   "source": [
    "prep_and_save_count_data(\n",
    "    rses = data_ls,\n",
    "    label_field = \"definition\",\n",
    "    dest_dir = dirs$data_dir,\n",
    "    dest_subdir = \"TCGA_RNA_matrix_count_data\"\n",
    ")"
   ]
  }
 ],
 "metadata": {
  "kernelspec": {
   "display_name": "R",
   "language": "R",
   "name": "ir"
  },
  "language_info": {
   "codemirror_mode": "r",
   "file_extension": ".r",
   "mimetype": "text/x-r-source",
   "name": "R",
   "pygments_lexer": "r",
   "version": "3.6.3"
  }
 },
 "nbformat": 4,
 "nbformat_minor": 4
}
