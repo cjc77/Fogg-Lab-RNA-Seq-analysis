{
 "cells": [
  {
   "cell_type": "code",
   "execution_count": 1,
   "metadata": {
    "collapsed": true,
    "jupyter": {
     "outputs_hidden": true
    }
   },
   "outputs": [
    {
     "name": "stderr",
     "output_type": "stream",
     "text": [
      "── Attaching packages ─────────────────────────────────────── tidyverse 1.3.0 ──\n",
      "✔ ggplot2 3.3.2     ✔ purrr   0.3.4\n",
      "✔ tibble  3.0.3     ✔ dplyr   1.0.0\n",
      "✔ tidyr   1.1.0     ✔ stringr 1.4.0\n",
      "✔ readr   1.3.1     ✔ forcats 0.5.0\n",
      "── Conflicts ────────────────────────────────────────── tidyverse_conflicts() ──\n",
      "✖ dplyr::filter() masks stats::filter()\n",
      "✖ dplyr::lag()    masks stats::lag()\n",
      "Loading required package: DelayedArray\n",
      "Loading required package: stats4\n",
      "Loading required package: matrixStats\n",
      "\n",
      "Attaching package: ‘matrixStats’\n",
      "\n",
      "The following object is masked from ‘package:dplyr’:\n",
      "\n",
      "    count\n",
      "\n",
      "Loading required package: BiocGenerics\n",
      "Loading required package: parallel\n",
      "\n",
      "Attaching package: ‘BiocGenerics’\n",
      "\n",
      "The following objects are masked from ‘package:parallel’:\n",
      "\n",
      "    clusterApply, clusterApplyLB, clusterCall, clusterEvalQ,\n",
      "    clusterExport, clusterMap, parApply, parCapply, parLapply,\n",
      "    parLapplyLB, parRapply, parSapply, parSapplyLB\n",
      "\n",
      "The following objects are masked from ‘package:dplyr’:\n",
      "\n",
      "    combine, intersect, setdiff, union\n",
      "\n",
      "The following objects are masked from ‘package:stats’:\n",
      "\n",
      "    IQR, mad, sd, var, xtabs\n",
      "\n",
      "The following objects are masked from ‘package:base’:\n",
      "\n",
      "    anyDuplicated, append, as.data.frame, basename, cbind, colnames,\n",
      "    dirname, do.call, duplicated, eval, evalq, Filter, Find, get, grep,\n",
      "    grepl, intersect, is.unsorted, lapply, Map, mapply, match, mget,\n",
      "    order, paste, pmax, pmax.int, pmin, pmin.int, Position, rank,\n",
      "    rbind, Reduce, rownames, sapply, setdiff, sort, table, tapply,\n",
      "    union, unique, unsplit, which, which.max, which.min\n",
      "\n",
      "Loading required package: S4Vectors\n",
      "\n",
      "Attaching package: ‘S4Vectors’\n",
      "\n",
      "The following objects are masked from ‘package:dplyr’:\n",
      "\n",
      "    first, rename\n",
      "\n",
      "The following object is masked from ‘package:tidyr’:\n",
      "\n",
      "    expand\n",
      "\n",
      "The following object is masked from ‘package:base’:\n",
      "\n",
      "    expand.grid\n",
      "\n",
      "Loading required package: IRanges\n",
      "\n",
      "Attaching package: ‘IRanges’\n",
      "\n",
      "The following objects are masked from ‘package:dplyr’:\n",
      "\n",
      "    collapse, desc, slice\n",
      "\n",
      "The following object is masked from ‘package:purrr’:\n",
      "\n",
      "    reduce\n",
      "\n",
      "Loading required package: BiocParallel\n",
      "\n",
      "Attaching package: ‘DelayedArray’\n",
      "\n",
      "The following objects are masked from ‘package:matrixStats’:\n",
      "\n",
      "    colMaxs, colMins, colRanges, rowMaxs, rowMins, rowRanges\n",
      "\n",
      "The following object is masked from ‘package:purrr’:\n",
      "\n",
      "    simplify\n",
      "\n",
      "The following objects are masked from ‘package:base’:\n",
      "\n",
      "    aperm, apply, rowsum\n",
      "\n",
      "Loading required package: rhdf5\n"
     ]
    }
   ],
   "source": [
    "library(tidyverse)\n",
    "library(TCGAbiolinks)\n",
    "library(HDF5Array)"
   ]
  },
  {
   "cell_type": "markdown",
   "metadata": {},
   "source": [
    "# Constants"
   ]
  },
  {
   "cell_type": "code",
   "execution_count": 6,
   "metadata": {},
   "outputs": [],
   "source": [
    "dirs <- rutils::get_dev_directories(dev_paths_file = \"../dev_paths.txt\")\n",
    "projects <- c(\"TCGA-CESC\", \"TCGA-OV\", \"TCGA-UCS\", \"TCGA-UCEC\")\n",
    "project_paths <- unlist(map(projects, function(prj) paste0(dirs$data_dir, \"/\", prj)))"
   ]
  },
  {
   "cell_type": "markdown",
   "metadata": {},
   "source": [
    "# Functions"
   ]
  },
  {
   "cell_type": "code",
   "execution_count": 43,
   "metadata": {},
   "outputs": [],
   "source": [
    "protein_expr_query <- function(p) {\n",
    "    return(\n",
    "        GDCquery(\n",
    "            project = p,\n",
    "            data.category = \"Protein expression\",\n",
    "            legacy = TRUE\n",
    "        )\n",
    "    )\n",
    "}\n",
    "\n",
    "\n",
    "get_participant_id <- function(barcode) {\n",
    "    return(\n",
    "        unlist(str_split(barcode, \"-\"))[3]\n",
    "    )\n",
    "}"
   ]
  },
  {
   "cell_type": "code",
   "execution_count": 18,
   "metadata": {
    "collapsed": true,
    "jupyter": {
     "outputs_hidden": true
    }
   },
   "outputs": [
    {
     "name": "stderr",
     "output_type": "stream",
     "text": [
      "--------------------------------------\n",
      "o GDCquery: Searching in GDC database\n",
      "--------------------------------------\n",
      "Genome of reference: hg19\n",
      "--------------------------------------------\n",
      "oo Accessing GDC. This might take a while...\n",
      "--------------------------------------------\n",
      "ooo Project: TCGA-CESC\n",
      "--------------------\n",
      "oo Filtering results\n",
      "--------------------\n",
      "----------------\n",
      "oo Checking data\n",
      "----------------\n",
      "ooo Check if there are duplicated cases\n",
      "ooo Check if there results for the query\n",
      "-------------------\n",
      "o Preparing output\n",
      "-------------------\n",
      "Downloading data for project TCGA-CESC\n",
      "GDCdownload will download 173 files. A total of 1.004929 MB\n",
      "Downloading chunk 1 of 18 (10 files, size = 57.946 KB) as Mon_Aug_17_17_55_36_2020_0.tar.gz\n"
     ]
    },
    {
     "name": "stdout",
     "output_type": "stream",
     "text": [
      "Downloading: 21 kB      "
     ]
    },
    {
     "name": "stderr",
     "output_type": "stream",
     "text": [
      "Downloading chunk 2 of 18 (10 files, size = 58.403 KB) as Mon_Aug_17_17_55_36_2020_1.tar.gz\n"
     ]
    },
    {
     "name": "stdout",
     "output_type": "stream",
     "text": [
      "Downloading: 21 kB      "
     ]
    },
    {
     "name": "stderr",
     "output_type": "stream",
     "text": [
      "Downloading chunk 3 of 18 (10 files, size = 58.021 KB) as Mon_Aug_17_17_55_36_2020_2.tar.gz\n"
     ]
    },
    {
     "name": "stdout",
     "output_type": "stream",
     "text": [
      "Downloading: 22 kB      "
     ]
    },
    {
     "name": "stderr",
     "output_type": "stream",
     "text": [
      "Downloading chunk 4 of 18 (10 files, size = 58.121 KB) as Mon_Aug_17_17_55_36_2020_3.tar.gz\n"
     ]
    },
    {
     "name": "stdout",
     "output_type": "stream",
     "text": [
      "Downloading: 22 kB      "
     ]
    },
    {
     "name": "stderr",
     "output_type": "stream",
     "text": [
      "Downloading chunk 5 of 18 (10 files, size = 58.611 KB) as Mon_Aug_17_17_55_36_2020_4.tar.gz\n"
     ]
    },
    {
     "name": "stdout",
     "output_type": "stream",
     "text": [
      "Downloading: 22 kB      "
     ]
    },
    {
     "name": "stderr",
     "output_type": "stream",
     "text": [
      "Downloading chunk 6 of 18 (10 files, size = 59.24 KB) as Mon_Aug_17_17_55_36_2020_5.tar.gz\n"
     ]
    },
    {
     "name": "stdout",
     "output_type": "stream",
     "text": [
      "Downloading: 22 kB      "
     ]
    },
    {
     "name": "stderr",
     "output_type": "stream",
     "text": [
      "Downloading chunk 7 of 18 (10 files, size = 57.932 KB) as Mon_Aug_17_17_55_36_2020_6.tar.gz\n"
     ]
    },
    {
     "name": "stdout",
     "output_type": "stream",
     "text": [
      "Downloading: 21 kB      "
     ]
    },
    {
     "name": "stderr",
     "output_type": "stream",
     "text": [
      "Downloading chunk 8 of 18 (10 files, size = 58.55 KB) as Mon_Aug_17_17_55_36_2020_7.tar.gz\n"
     ]
    },
    {
     "name": "stdout",
     "output_type": "stream",
     "text": [
      "Downloading: 21 kB      "
     ]
    },
    {
     "name": "stderr",
     "output_type": "stream",
     "text": [
      "Downloading chunk 9 of 18 (10 files, size = 57.86 KB) as Mon_Aug_17_17_55_36_2020_8.tar.gz\n"
     ]
    },
    {
     "name": "stdout",
     "output_type": "stream",
     "text": [
      "Downloading: 21 kB      "
     ]
    },
    {
     "name": "stderr",
     "output_type": "stream",
     "text": [
      "Downloading chunk 10 of 18 (10 files, size = 57.794 KB) as Mon_Aug_17_17_55_36_2020_9.tar.gz\n"
     ]
    },
    {
     "name": "stdout",
     "output_type": "stream",
     "text": [
      "Downloading: 21 kB      "
     ]
    },
    {
     "name": "stderr",
     "output_type": "stream",
     "text": [
      "Downloading chunk 11 of 18 (10 files, size = 58.378 KB) as Mon_Aug_17_17_55_36_2020_10.tar.gz\n"
     ]
    },
    {
     "name": "stdout",
     "output_type": "stream",
     "text": [
      "Downloading: 21 kB      "
     ]
    },
    {
     "name": "stderr",
     "output_type": "stream",
     "text": [
      "Downloading chunk 12 of 18 (10 files, size = 57.766 KB) as Mon_Aug_17_17_55_36_2020_11.tar.gz\n"
     ]
    },
    {
     "name": "stdout",
     "output_type": "stream",
     "text": [
      "Downloading: 21 kB      "
     ]
    },
    {
     "name": "stderr",
     "output_type": "stream",
     "text": [
      "Downloading chunk 13 of 18 (10 files, size = 57.52 KB) as Mon_Aug_17_17_55_36_2020_12.tar.gz\n"
     ]
    },
    {
     "name": "stdout",
     "output_type": "stream",
     "text": [
      "Downloading: 21 kB      "
     ]
    },
    {
     "name": "stderr",
     "output_type": "stream",
     "text": [
      "Downloading chunk 14 of 18 (10 files, size = 57.869 KB) as Mon_Aug_17_17_55_36_2020_13.tar.gz\n"
     ]
    },
    {
     "name": "stdout",
     "output_type": "stream",
     "text": [
      "Downloading: 21 kB      "
     ]
    },
    {
     "name": "stderr",
     "output_type": "stream",
     "text": [
      "Downloading chunk 15 of 18 (10 files, size = 57.535 KB) as Mon_Aug_17_17_55_36_2020_14.tar.gz\n"
     ]
    },
    {
     "name": "stdout",
     "output_type": "stream",
     "text": [
      "Downloading: 21 kB      "
     ]
    },
    {
     "name": "stderr",
     "output_type": "stream",
     "text": [
      "Downloading chunk 16 of 18 (10 files, size = 57.838 KB) as Mon_Aug_17_17_55_36_2020_15.tar.gz\n"
     ]
    },
    {
     "name": "stdout",
     "output_type": "stream",
     "text": [
      "Downloading: 21 kB      "
     ]
    },
    {
     "name": "stderr",
     "output_type": "stream",
     "text": [
      "Downloading chunk 17 of 18 (10 files, size = 57.943 KB) as Mon_Aug_17_17_55_36_2020_16.tar.gz\n"
     ]
    },
    {
     "name": "stdout",
     "output_type": "stream",
     "text": [
      "Downloading: 21 kB      "
     ]
    },
    {
     "name": "stderr",
     "output_type": "stream",
     "text": [
      "Downloading chunk 18 of 18 (3 files, size = 17.602 KB) as Mon_Aug_17_17_55_36_2020_17.tar.gz\n"
     ]
    },
    {
     "name": "stdout",
     "output_type": "stream",
     "text": [
      "  |======================================================================| 100%\n"
     ]
    }
   ],
   "source": [
    "proj_idx <- 1\n",
    "q <- protein_expr_query(projects[proj_idx])\n",
    "GDCdownload(q, method = \"api\", directory = paste0(dirs$data_dir, \"/tcga_biolinks_downloads\"), files.per.chunk = 10)\n",
    "data <- GDCprepare(q, directory = paste0(dirs$data_dir, \"/tcga_biolinks_downloads\"))"
   ]
  },
  {
   "cell_type": "code",
   "execution_count": 20,
   "metadata": {},
   "outputs": [
    {
     "name": "stderr",
     "output_type": "stream",
     "text": [
      "Parsed with column specification:\n",
      "cols(\n",
      "  sample_name = col_character(),\n",
      "  condition = col_character(),\n",
      "  data_source = col_character()\n",
      ")\n"
     ]
    }
   ],
   "source": [
    "coldata_df <- read_tsv(paste0(dirs$data_dir, \"/unified_cervical_data/coldata.tsv\"))"
   ]
  },
  {
   "cell_type": "code",
   "execution_count": 52,
   "metadata": {},
   "outputs": [],
   "source": [
    "RNA_sample_names <- (coldata_df %>%\n",
    "    dplyr::filter(data_source == \"TCGA\"))$sample_name"
   ]
  },
  {
   "cell_type": "code",
   "execution_count": 33,
   "metadata": {},
   "outputs": [
    {
     "data": {
      "text/html": [
       "<style>\n",
       ".list-inline {list-style: none; margin:0; padding: 0}\n",
       ".list-inline>li {display: inline-block}\n",
       ".list-inline>li:not(:last-child)::after {content: \"\\00b7\"; padding: 0 .5ex}\n",
       "</style>\n",
       "<ol class=list-inline><li>'TCGA-EA-A439-01A-21-A40I-20'</li><li>'TCGA-VS-A9UB-01A-11-A40H-20'</li><li>'TCGA-DS-A1OA-01A-21-A40H-20'</li><li>'TCGA-LP-A5U3-01A-21-A40I-20'</li><li>'TCGA-MA-AA42-01A-21-A40H-20'</li><li>'TCGA-EA-A43B-01A-71-A40I-20'</li><li>'TCGA-EA-A411-01A-21-A40I-20'</li><li>'TCGA-LP-A7HU-01A-21-A40H-20'</li><li>'TCGA-FU-A2QG-01A-21-A40H-20'</li><li>'TCGA-C5-A2LX-01A-21-A40H-20'</li></ol>\n"
      ],
      "text/latex": [
       "\\begin{enumerate*}\n",
       "\\item 'TCGA-EA-A439-01A-21-A40I-20'\n",
       "\\item 'TCGA-VS-A9UB-01A-11-A40H-20'\n",
       "\\item 'TCGA-DS-A1OA-01A-21-A40H-20'\n",
       "\\item 'TCGA-LP-A5U3-01A-21-A40I-20'\n",
       "\\item 'TCGA-MA-AA42-01A-21-A40H-20'\n",
       "\\item 'TCGA-EA-A43B-01A-71-A40I-20'\n",
       "\\item 'TCGA-EA-A411-01A-21-A40I-20'\n",
       "\\item 'TCGA-LP-A7HU-01A-21-A40H-20'\n",
       "\\item 'TCGA-FU-A2QG-01A-21-A40H-20'\n",
       "\\item 'TCGA-C5-A2LX-01A-21-A40H-20'\n",
       "\\end{enumerate*}\n"
      ],
      "text/markdown": [
       "1. 'TCGA-EA-A439-01A-21-A40I-20'\n",
       "2. 'TCGA-VS-A9UB-01A-11-A40H-20'\n",
       "3. 'TCGA-DS-A1OA-01A-21-A40H-20'\n",
       "4. 'TCGA-LP-A5U3-01A-21-A40I-20'\n",
       "5. 'TCGA-MA-AA42-01A-21-A40H-20'\n",
       "6. 'TCGA-EA-A43B-01A-71-A40I-20'\n",
       "7. 'TCGA-EA-A411-01A-21-A40I-20'\n",
       "8. 'TCGA-LP-A7HU-01A-21-A40H-20'\n",
       "9. 'TCGA-FU-A2QG-01A-21-A40H-20'\n",
       "10. 'TCGA-C5-A2LX-01A-21-A40H-20'\n",
       "\n",
       "\n"
      ],
      "text/plain": [
       " [1] \"TCGA-EA-A439-01A-21-A40I-20\" \"TCGA-VS-A9UB-01A-11-A40H-20\"\n",
       " [3] \"TCGA-DS-A1OA-01A-21-A40H-20\" \"TCGA-LP-A5U3-01A-21-A40I-20\"\n",
       " [5] \"TCGA-MA-AA42-01A-21-A40H-20\" \"TCGA-EA-A43B-01A-71-A40I-20\"\n",
       " [7] \"TCGA-EA-A411-01A-21-A40I-20\" \"TCGA-LP-A7HU-01A-21-A40H-20\"\n",
       " [9] \"TCGA-FU-A2QG-01A-21-A40H-20\" \"TCGA-C5-A2LX-01A-21-A40H-20\""
      ]
     },
     "metadata": {},
     "output_type": "display_data"
    }
   ],
   "source": [
    "colnames(data[, -1])[1:10]"
   ]
  },
  {
   "cell_type": "code",
   "execution_count": 53,
   "metadata": {},
   "outputs": [],
   "source": [
    "RNA_participants <- map(.f = get_participant_id, RNA_sample_names)\n",
    "protein_participants <- map(.f = get_participant_id, colnames(data[, -1]))"
   ]
  },
  {
   "cell_type": "code",
   "execution_count": 58,
   "metadata": {},
   "outputs": [
    {
     "data": {
      "text/html": [
       "145"
      ],
      "text/latex": [
       "145"
      ],
      "text/markdown": [
       "145"
      ],
      "text/plain": [
       "[1] 145"
      ]
     },
     "metadata": {},
     "output_type": "display_data"
    }
   ],
   "source": [
    "length(intersect(RNA_participants, protein_participants))"
   ]
  }
 ],
 "metadata": {
  "kernelspec": {
   "display_name": "R",
   "language": "R",
   "name": "ir"
  },
  "language_info": {
   "codemirror_mode": "r",
   "file_extension": ".r",
   "mimetype": "text/x-r-source",
   "name": "R",
   "pygments_lexer": "r",
   "version": "3.6.3"
  }
 },
 "nbformat": 4,
 "nbformat_minor": 4
}
